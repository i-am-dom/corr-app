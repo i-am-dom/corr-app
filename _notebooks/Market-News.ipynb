{
 "cells": [
  {
   "cell_type": "markdown",
   "id": "short-greensboro",
   "metadata": {
    "papermill": {
     "duration": 0.013042,
     "end_time": "2021-08-12T01:57:41.627732",
     "exception": false,
     "start_time": "2021-08-12T01:57:41.614690",
     "status": "completed"
    },
    "tags": []
   },
   "source": [
    "# Kriptovaliutų naujienos"
   ]
  },
  {
   "cell_type": "code",
   "execution_count": 1,
   "id": "functioning-knowing",
   "metadata": {
    "execution": {
     "iopub.execute_input": "2021-08-12T01:57:41.658357Z",
     "iopub.status.busy": "2021-08-12T01:57:41.657846Z",
     "iopub.status.idle": "2021-08-12T01:57:42.827675Z",
     "shell.execute_reply": "2021-08-12T01:57:42.827134Z"
    },
    "papermill": {
     "duration": 1.190342,
     "end_time": "2021-08-12T01:57:42.827824",
     "exception": false,
     "start_time": "2021-08-12T01:57:41.637482",
     "status": "completed"
    },
    "tags": []
   },
   "outputs": [],
   "source": [
    "#hide_input\n",
    "import warnings\n",
    "warnings.filterwarnings('ignore')\n",
    "from scripts.read_data import read_api\n",
    "from scripts.read_data import read_news\n",
    "from scripts.read_data import read_covid\n",
    "import matplotlib.pyplot as plt \n",
    "from IPython.display import Markdown as md"
   ]
  },
  {
   "cell_type": "code",
   "execution_count": 2,
   "id": "shared-acceptance",
   "metadata": {
    "execution": {
     "iopub.execute_input": "2021-08-12T01:57:42.853193Z",
     "iopub.status.busy": "2021-08-12T01:57:42.852662Z",
     "iopub.status.idle": "2021-08-12T01:57:50.631213Z",
     "shell.execute_reply": "2021-08-12T01:57:50.630314Z"
    },
    "papermill": {
     "duration": 7.793399,
     "end_time": "2021-08-12T01:57:50.631353",
     "exception": false,
     "start_time": "2021-08-12T01:57:42.837954",
     "status": "completed"
    },
    "tags": []
   },
   "outputs": [],
   "source": [
    "#hide_input\n",
    "blockchain = read_news('blockchain') \n",
    "btc = read_news('btc') \n",
    "xrp = read_news('xrp') \n",
    "trx = read_news('trx') \n",
    "eth = read_news('eth')  \n",
    "ada = read_news('ada')\n",
    "exchange = read_news('exchange') "
   ]
  },
  {
   "cell_type": "code",
   "execution_count": 3,
   "id": "synthetic-notion",
   "metadata": {
    "execution": {
     "iopub.execute_input": "2021-08-12T01:57:50.655280Z",
     "iopub.status.busy": "2021-08-12T01:57:50.654771Z",
     "iopub.status.idle": "2021-08-12T01:57:50.657300Z",
     "shell.execute_reply": "2021-08-12T01:57:50.657733Z"
    },
    "papermill": {
     "duration": 0.0171,
     "end_time": "2021-08-12T01:57:50.657851",
     "exception": false,
     "start_time": "2021-08-12T01:57:50.640751",
     "status": "completed"
    },
    "tags": []
   },
   "outputs": [
    {
     "data": {
      "text/markdown": [
       "- Is Ethereum’s Gas Fee Improved Now that the London Hardfork is Live?.  The cryptocurrency ecosystem was agog when the Ethereum Improvement Protocol (EIP) 1559 went live last week. The EIP 1559 upgrade, also called the London Hardfork introduced a few improvements into the Ethereum blockchain which prior was notably plagued with congestion and high network fees. Prior to the launch of the hardfork, users engage in a The post Is Ethereum’s Gas Fee Improved Now that the London Hardfork is Live? appeared first on Coingape. ... [| Skaityti daugiau](https://coingape.com/89186-2/) "
      ],
      "text/plain": [
       "<IPython.core.display.Markdown object>"
      ]
     },
     "execution_count": 3,
     "metadata": {},
     "output_type": "execute_result"
    }
   ],
   "source": [
    "#hide_input\n",
    "#md('##### {}'.format(titleBTC)) \n",
    "md(\"- {}{} {}{} [| Skaityti daugiau]({}) \".format(blockchain['title'],'. ', blockchain['body'], ' ...', blockchain['url']))"
   ]
  },
  {
   "cell_type": "code",
   "execution_count": 4,
   "id": "aging-caution",
   "metadata": {
    "execution": {
     "iopub.execute_input": "2021-08-12T01:57:50.679843Z",
     "iopub.status.busy": "2021-08-12T01:57:50.679329Z",
     "iopub.status.idle": "2021-08-12T01:57:50.683077Z",
     "shell.execute_reply": "2021-08-12T01:57:50.682684Z"
    },
    "papermill": {
     "duration": 0.016094,
     "end_time": "2021-08-12T01:57:50.683179",
     "exception": false,
     "start_time": "2021-08-12T01:57:50.667085",
     "status": "completed"
    },
    "tags": []
   },
   "outputs": [
    {
     "data": {
      "text/markdown": [
       "- Ethereum achieves this against Bitcoin for the first time in Coinbase’s nine-year history.  Coinbase, one of the largest crypto exchange platforms received mixed reactions from the community after it went public. Coinbase’s revenue is built almost entirely on the performance of Bitcoin and Ethereum, which fell from their peak this year. Nevertheless, both digital assets have observed a trend reversal and have been moving higher in recent weeks. [&#8230;] ... [| Skaityti daugiau](https://ambcrypto.com/ethereum-achieves-this-against-bitcoin-for-the-first-time-in-coinbases-nine-year-history/) "
      ],
      "text/plain": [
       "<IPython.core.display.Markdown object>"
      ]
     },
     "execution_count": 4,
     "metadata": {},
     "output_type": "execute_result"
    }
   ],
   "source": [
    "#hide_input\n",
    "#md('##### {}'.format(titleBTC)) \n",
    "md(\"- {}{} {}{} [| Skaityti daugiau]({}) \".format(btc['title'],'. ', btc['body'], ' ...', btc['url']))"
   ]
  },
  {
   "cell_type": "code",
   "execution_count": 5,
   "id": "organic-actress",
   "metadata": {
    "execution": {
     "iopub.execute_input": "2021-08-12T01:57:50.706892Z",
     "iopub.status.busy": "2021-08-12T01:57:50.706321Z",
     "iopub.status.idle": "2021-08-12T01:57:50.708345Z",
     "shell.execute_reply": "2021-08-12T01:57:50.708876Z"
    },
    "papermill": {
     "duration": 0.016322,
     "end_time": "2021-08-12T01:57:50.709004",
     "exception": false,
     "start_time": "2021-08-12T01:57:50.692682",
     "status": "completed"
    },
    "tags": []
   },
   "outputs": [
    {
     "data": {
      "text/markdown": [
       "- Ripple (XRP) will now scale remittances between Korea and Thailand.  A major South Korean remittance service provider partnered up with Ripple in a bid to power up payments between the country and Thailand. Set to expand into additional remittance corridors, GME Remittance joined a flock of Korean financial institutions and money transfer companies already on RippleNet, as the blockchain-based payments company continues bolstering its presence [&#8230;]The post Ripple (XRP) will now scale remittances between Korea and Thailand appeared first on CryptoSlate. ... [| Skaityti daugiau](https://cryptoslate.com/ripple-xrp-will-now-scale-remittances-between-korea-and-thailand/) "
      ],
      "text/plain": [
       "<IPython.core.display.Markdown object>"
      ]
     },
     "execution_count": 5,
     "metadata": {},
     "output_type": "execute_result"
    }
   ],
   "source": [
    "#hide_input\n",
    "#md('##### {}'.format(titleBTC)) \n",
    "md(\"- {}{} {}{} [| Skaityti daugiau]({}) \".format(xrp['title'],'. ', xrp['body'], ' ...', xrp['url']))"
   ]
  },
  {
   "cell_type": "code",
   "execution_count": 6,
   "id": "prompt-farmer",
   "metadata": {
    "execution": {
     "iopub.execute_input": "2021-08-12T01:57:50.733924Z",
     "iopub.status.busy": "2021-08-12T01:57:50.733420Z",
     "iopub.status.idle": "2021-08-12T01:57:50.735637Z",
     "shell.execute_reply": "2021-08-12T01:57:50.736057Z"
    },
    "papermill": {
     "duration": 0.01676,
     "end_time": "2021-08-12T01:57:50.736170",
     "exception": false,
     "start_time": "2021-08-12T01:57:50.719410",
     "status": "completed"
    },
    "tags": []
   },
   "outputs": [
    {
     "data": {
      "text/markdown": [
       "- Tron (TRX) Price Analysis: Rally Could Extend Above $0.08.  Tron price started a fresh increase above the $0.0700 resistance against the US Dollar. TRX price is now trading well above $0.0700 and the 55 simple moving average (4-hours). There was a break above a key bearish trend line with resistance near $0.0740 on the 4-hours chart (data feed via Bitfinex). The pair is likely...The post Tron (TRX) Price Analysis: Rally Could Extend Above $0.08 appeared first on Live Bitcoin News. ... [| Skaityti daugiau](https://www.livebitcoinnews.com/tron-trx-price-analysis-rally-could-extend-above-0-08/) "
      ],
      "text/plain": [
       "<IPython.core.display.Markdown object>"
      ]
     },
     "execution_count": 6,
     "metadata": {},
     "output_type": "execute_result"
    }
   ],
   "source": [
    "#hide_input\n",
    "#md('##### {}'.format(titleBTC)) \n",
    "md(\"- {}{} {}{} [| Skaityti daugiau]({}) \".format(trx['title'],'. ', trx['body'], ' ...', trx['url']))"
   ]
  },
  {
   "cell_type": "code",
   "execution_count": 7,
   "id": "illegal-greece",
   "metadata": {
    "execution": {
     "iopub.execute_input": "2021-08-12T01:57:50.761103Z",
     "iopub.status.busy": "2021-08-12T01:57:50.760589Z",
     "iopub.status.idle": "2021-08-12T01:57:50.763597Z",
     "shell.execute_reply": "2021-08-12T01:57:50.763201Z"
    },
    "papermill": {
     "duration": 0.0172,
     "end_time": "2021-08-12T01:57:50.763701",
     "exception": false,
     "start_time": "2021-08-12T01:57:50.746501",
     "status": "completed"
    },
    "tags": []
   },
   "outputs": [
    {
     "data": {
      "text/markdown": [
       "- Ethereum achieves this against Bitcoin for the first time in Coinbase’s nine-year history.  Coinbase, one of the largest crypto exchange platforms received mixed reactions from the community after it went public. Coinbase’s revenue is built almost entirely on the performance of Bitcoin and Ethereum, which fell from their peak this year. Nevertheless, both digital assets have observed a trend reversal and have been moving higher in recent weeks. [&#8230;] ... [| Skaityti daugiau](https://ambcrypto.com/ethereum-achieves-this-against-bitcoin-for-the-first-time-in-coinbases-nine-year-history/) "
      ],
      "text/plain": [
       "<IPython.core.display.Markdown object>"
      ]
     },
     "execution_count": 7,
     "metadata": {},
     "output_type": "execute_result"
    }
   ],
   "source": [
    "#hide_input\n",
    "#md('##### {}'.format(titleBTC)) \n",
    "md(\"- {}{} {}{} [| Skaityti daugiau]({}) \".format(eth['title'],'. ', eth['body'], ' ...', eth['url']))"
   ]
  },
  {
   "cell_type": "code",
   "execution_count": 8,
   "id": "sublime-lounge",
   "metadata": {
    "execution": {
     "iopub.execute_input": "2021-08-12T01:57:50.789564Z",
     "iopub.status.busy": "2021-08-12T01:57:50.789039Z",
     "iopub.status.idle": "2021-08-12T01:57:50.792273Z",
     "shell.execute_reply": "2021-08-12T01:57:50.791879Z"
    },
    "papermill": {
     "duration": 0.018086,
     "end_time": "2021-08-12T01:57:50.792377",
     "exception": false,
     "start_time": "2021-08-12T01:57:50.774291",
     "status": "completed"
    },
    "tags": []
   },
   "outputs": [
    {
     "data": {
      "text/markdown": [
       "- Dogecoin, XRP, VET, Ravencoin: Which alts present a good buying opportunity.  Bitcoin and Ethereum, the two biggest cryptocurrencies are the most attractive investments. But with prices touching $46,071 and $3,232, it becomes difficult for everyone to actually invest in them. So the question is what alternative coins can be the right investment and if their popularity is justifiable based on their performance? Affordable altcoins? Simply put, [&#8230;] ... [| Skaityti daugiau](https://ambcrypto.com/dogecoin-xrp-vet-ravencoin-which-alts-present-a-good-buying-opportunity/) "
      ],
      "text/plain": [
       "<IPython.core.display.Markdown object>"
      ]
     },
     "execution_count": 8,
     "metadata": {},
     "output_type": "execute_result"
    }
   ],
   "source": [
    "#hide_input\n",
    "#md('##### {}'.format(titleBTC)) \n",
    "md(\"- {}{} {}{} [| Skaityti daugiau]({}) \".format(ada['title'],'. ', ada['body'], ' ...', ada['url']))"
   ]
  },
  {
   "cell_type": "code",
   "execution_count": 9,
   "id": "specified-ordering",
   "metadata": {
    "execution": {
     "iopub.execute_input": "2021-08-12T01:57:50.819586Z",
     "iopub.status.busy": "2021-08-12T01:57:50.819087Z",
     "iopub.status.idle": "2021-08-12T01:57:50.821331Z",
     "shell.execute_reply": "2021-08-12T01:57:50.821708Z"
    },
    "papermill": {
     "duration": 0.018506,
     "end_time": "2021-08-12T01:57:50.821833",
     "exception": false,
     "start_time": "2021-08-12T01:57:50.803327",
     "status": "completed"
    },
    "tags": []
   },
   "outputs": [
    {
     "data": {
      "text/markdown": [
       "- Ethereum achieves this against Bitcoin for the first time in Coinbase’s nine-year history.  Coinbase, one of the largest crypto exchange platforms received mixed reactions from the community after it went public. Coinbase’s revenue is built almost entirely on the performance of Bitcoin and Ethereum, which fell from their peak this year. Nevertheless, both digital assets have observed a trend reversal and have been moving higher in recent weeks. [&#8230;] ... [| Skaityti daugiau](https://ambcrypto.com/ethereum-achieves-this-against-bitcoin-for-the-first-time-in-coinbases-nine-year-history/) "
      ],
      "text/plain": [
       "<IPython.core.display.Markdown object>"
      ]
     },
     "execution_count": 9,
     "metadata": {},
     "output_type": "execute_result"
    }
   ],
   "source": [
    "#hide_input\n",
    "#md('##### {}'.format(titleBTC)) \n",
    "md(\"- {}{} {}{} [| Skaityti daugiau]({}) \".format(exchange['title'],'. ', exchange['body'], ' ...', exchange['url']))"
   ]
  },
  {
   "cell_type": "code",
   "execution_count": null,
   "id": "tender-livestock",
   "metadata": {
    "papermill": {
     "duration": 0.011181,
     "end_time": "2021-08-12T01:57:50.844206",
     "exception": false,
     "start_time": "2021-08-12T01:57:50.833025",
     "status": "completed"
    },
    "tags": []
   },
   "outputs": [],
   "source": []
  },
  {
   "cell_type": "code",
   "execution_count": null,
   "id": "appreciated-diamond",
   "metadata": {
    "papermill": {
     "duration": 0.011314,
     "end_time": "2021-08-12T01:57:50.867252",
     "exception": false,
     "start_time": "2021-08-12T01:57:50.855938",
     "status": "completed"
    },
    "tags": []
   },
   "outputs": [],
   "source": []
  },
  {
   "cell_type": "code",
   "execution_count": null,
   "id": "romance-sweden",
   "metadata": {
    "papermill": {
     "duration": 0.011151,
     "end_time": "2021-08-12T01:57:50.889587",
     "exception": false,
     "start_time": "2021-08-12T01:57:50.878436",
     "status": "completed"
    },
    "tags": []
   },
   "outputs": [],
   "source": []
  },
  {
   "cell_type": "code",
   "execution_count": null,
   "id": "dietary-statistics",
   "metadata": {
    "papermill": {
     "duration": 0.011402,
     "end_time": "2021-08-12T01:57:50.912125",
     "exception": false,
     "start_time": "2021-08-12T01:57:50.900723",
     "status": "completed"
    },
    "tags": []
   },
   "outputs": [],
   "source": []
  }
 ],
 "metadata": {
  "kernelspec": {
   "display_name": "Python 3",
   "language": "python",
   "name": "python3"
  },
  "language_info": {
   "codemirror_mode": {
    "name": "ipython",
    "version": 3
   },
   "file_extension": ".py",
   "mimetype": "text/x-python",
   "name": "python",
   "nbconvert_exporter": "python",
   "pygments_lexer": "ipython3",
   "version": "3.6.14"
  },
  "papermill": {
   "default_parameters": {},
   "duration": 10.842949,
   "end_time": "2021-08-12T01:57:51.430837",
   "environment_variables": {},
   "exception": null,
   "input_path": "Market-News.ipynb",
   "output_path": "Market-News.ipynb",
   "parameters": {},
   "start_time": "2021-08-12T01:57:40.587888",
   "version": "2.2.2"
  }
 },
 "nbformat": 4,
 "nbformat_minor": 5
}