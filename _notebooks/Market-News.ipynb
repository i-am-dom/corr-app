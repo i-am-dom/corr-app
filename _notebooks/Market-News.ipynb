{
 "cells": [
  {
   "cell_type": "markdown",
   "id": "short-greensboro",
   "metadata": {
    "papermill": {
     "duration": 0.012228,
     "end_time": "2022-05-09T03:00:17.610350",
     "exception": false,
     "start_time": "2022-05-09T03:00:17.598122",
     "status": "completed"
    },
    "tags": []
   },
   "source": [
    "# Kriptovaliutų naujienos"
   ]
  },
  {
   "cell_type": "code",
   "execution_count": 1,
   "id": "functioning-knowing",
   "metadata": {
    "execution": {
     "iopub.execute_input": "2022-05-09T03:00:17.638000Z",
     "iopub.status.busy": "2022-05-09T03:00:17.636009Z",
     "iopub.status.idle": "2022-05-09T03:00:18.827757Z",
     "shell.execute_reply": "2022-05-09T03:00:18.827234Z"
    },
    "papermill": {
     "duration": 1.208182,
     "end_time": "2022-05-09T03:00:18.827901",
     "exception": false,
     "start_time": "2022-05-09T03:00:17.619719",
     "status": "completed"
    },
    "tags": []
   },
   "outputs": [],
   "source": [
    "#hide_input\n",
    "import warnings\n",
    "warnings.filterwarnings('ignore')\n",
    "from scripts.read_data import read_api\n",
    "from scripts.read_data import read_news\n",
    "from scripts.read_data import read_covid\n",
    "import matplotlib.pyplot as plt \n",
    "from IPython.display import Markdown as md"
   ]
  },
  {
   "cell_type": "code",
   "execution_count": 2,
   "id": "shared-acceptance",
   "metadata": {
    "execution": {
     "iopub.execute_input": "2022-05-09T03:00:18.851752Z",
     "iopub.status.busy": "2022-05-09T03:00:18.851243Z",
     "iopub.status.idle": "2022-05-09T03:00:34.784078Z",
     "shell.execute_reply": "2022-05-09T03:00:34.783557Z"
    },
    "papermill": {
     "duration": 15.947207,
     "end_time": "2022-05-09T03:00:34.784216",
     "exception": false,
     "start_time": "2022-05-09T03:00:18.837009",
     "status": "completed"
    },
    "tags": []
   },
   "outputs": [],
   "source": [
    "#hide_input\n",
    "blockchain = read_news('blockchain') \n",
    "btc = read_news('btc') \n",
    "xrp = read_news('xrp') \n",
    "trx = read_news('trx') \n",
    "eth = read_news('eth')  \n",
    "ada = read_news('ada')\n",
    "exchange = read_news('exchange') "
   ]
  },
  {
   "cell_type": "code",
   "execution_count": 3,
   "id": "synthetic-notion",
   "metadata": {
    "execution": {
     "iopub.execute_input": "2022-05-09T03:00:34.808019Z",
     "iopub.status.busy": "2022-05-09T03:00:34.807504Z",
     "iopub.status.idle": "2022-05-09T03:00:34.811281Z",
     "shell.execute_reply": "2022-05-09T03:00:34.811656Z"
    },
    "papermill": {
     "duration": 0.018399,
     "end_time": "2022-05-09T03:00:34.811776",
     "exception": false,
     "start_time": "2022-05-09T03:00:34.793377",
     "status": "completed"
    },
    "tags": []
   },
   "outputs": [
    {
     "data": {
      "text/markdown": [
       "- Will the Algorand-FIFA partnership add that special spice to trigger a recovery.  ALGO pumped by more than 30% last week courtesy of Algorand’s major development. The network revealed a partnership that would make it FIFA’s official blockchain. The announcement might just be the start of a robust growth phase for ALGO but is it big enough to push it back to its previous ATH? Stepping up the [&#8230;] ... [| Skaityti daugiau](https://ambcrypto.com/will-the-algorand-fifa-partnership-add-that-special-spice-to-trigger-a-recovery/) "
      ],
      "text/plain": [
       "<IPython.core.display.Markdown object>"
      ]
     },
     "execution_count": 3,
     "metadata": {},
     "output_type": "execute_result"
    }
   ],
   "source": [
    "#hide_input\n",
    "#md('##### {}'.format(titleBTC)) \n",
    "md(\"- {}{} {}{} [| Skaityti daugiau]({}) \".format(blockchain['title'],'. ', blockchain['body'], ' ...', blockchain['url']))"
   ]
  },
  {
   "cell_type": "code",
   "execution_count": 4,
   "id": "aging-caution",
   "metadata": {
    "execution": {
     "iopub.execute_input": "2022-05-09T03:00:34.834518Z",
     "iopub.status.busy": "2022-05-09T03:00:34.834016Z",
     "iopub.status.idle": "2022-05-09T03:00:34.836670Z",
     "shell.execute_reply": "2022-05-09T03:00:34.837042Z"
    },
    "papermill": {
     "duration": 0.016248,
     "end_time": "2022-05-09T03:00:34.837156",
     "exception": false,
     "start_time": "2022-05-09T03:00:34.820908",
     "status": "completed"
    },
    "tags": []
   },
   "outputs": [
    {
     "data": {
      "text/markdown": [
       "- Bitcoin, Binance Coin, Theta Fuel, and Icon Daily Price Analyses – 8 May Roundup.  The performance of the global crypto market hasn&#8217;t been impressive over the last 24 hours as the losses for it have increased in value. Though the losses had begun to decrease, the process has reversed, and it is again facing a difficult situation. The dilemma for Bitcoin hasn&#8217;t changed as it is at the forefront... ... [| Skaityti daugiau](https://www.cryptopolitan.com/bitcoin-binance-coin-theta-fuel-and-icon-daily-price-analyses-8-may-roundup/) "
      ],
      "text/plain": [
       "<IPython.core.display.Markdown object>"
      ]
     },
     "execution_count": 4,
     "metadata": {},
     "output_type": "execute_result"
    }
   ],
   "source": [
    "#hide_input\n",
    "#md('##### {}'.format(titleBTC)) \n",
    "md(\"- {}{} {}{} [| Skaityti daugiau]({}) \".format(btc['title'],'. ', btc['body'], ' ...', btc['url']))"
   ]
  },
  {
   "cell_type": "code",
   "execution_count": 5,
   "id": "organic-actress",
   "metadata": {
    "execution": {
     "iopub.execute_input": "2022-05-09T03:00:34.860143Z",
     "iopub.status.busy": "2022-05-09T03:00:34.859650Z",
     "iopub.status.idle": "2022-05-09T03:00:34.862386Z",
     "shell.execute_reply": "2022-05-09T03:00:34.862848Z"
    },
    "papermill": {
     "duration": 0.016466,
     "end_time": "2022-05-09T03:00:34.862955",
     "exception": false,
     "start_time": "2022-05-09T03:00:34.846489",
     "status": "completed"
    },
    "tags": []
   },
   "outputs": [
    {
     "data": {
      "text/markdown": [
       "- After XRP’s 37% fall over the past month, investors need to look out for this level.  Disclaimer: The findings of the following analysis are the sole opinions of the writer and should not be considered investment advice. Witnessing an expected menacing bearish response from the $0.9-cap, XRP continued to undermine buying rallies on its southbound trajectory for over a month. Currently, gains have been minimal as the alt&#8217;s market hoped near [&#8230;] ... [| Skaityti daugiau](https://ambcrypto.com/after-xrps-37-fall-over-the-past-month-investors-need-to-look-out-for-this-level/) "
      ],
      "text/plain": [
       "<IPython.core.display.Markdown object>"
      ]
     },
     "execution_count": 5,
     "metadata": {},
     "output_type": "execute_result"
    }
   ],
   "source": [
    "#hide_input\n",
    "#md('##### {}'.format(titleBTC)) \n",
    "md(\"- {}{} {}{} [| Skaityti daugiau]({}) \".format(xrp['title'],'. ', xrp['body'], ' ...', xrp['url']))"
   ]
  },
  {
   "cell_type": "code",
   "execution_count": 6,
   "id": "prompt-farmer",
   "metadata": {
    "execution": {
     "iopub.execute_input": "2022-05-09T03:00:34.886120Z",
     "iopub.status.busy": "2022-05-09T03:00:34.885599Z",
     "iopub.status.idle": "2022-05-09T03:00:34.888345Z",
     "shell.execute_reply": "2022-05-09T03:00:34.888721Z"
    },
    "papermill": {
     "duration": 0.016266,
     "end_time": "2022-05-09T03:00:34.888832",
     "exception": false,
     "start_time": "2022-05-09T03:00:34.872566",
     "status": "completed"
    },
    "tags": []
   },
   "outputs": [
    {
     "data": {
      "text/markdown": [
       "- Value Locked in Decentralized Finance Slides 17% Lower Over the Last 30 Days.  The value locked in decentralized finance (defi) protocols has lost 17.77% over the last 30 days, falling from $221.67 billion to today&#x2019;s $182.27 billion. Moreover, statistics show the total value locked (TVL) across a broad range of defi protocols shed significant value during the last seven days. Defi Protocols Shed Considerable Value Decentralized finance (defi) [&#8230;] ... [| Skaityti daugiau](https://news.bitcoin.com/value-locked-in-decentralized-finance-slides-17-lower-over-the-last-30-days/) "
      ],
      "text/plain": [
       "<IPython.core.display.Markdown object>"
      ]
     },
     "execution_count": 6,
     "metadata": {},
     "output_type": "execute_result"
    }
   ],
   "source": [
    "#hide_input\n",
    "#md('##### {}'.format(titleBTC)) \n",
    "md(\"- {}{} {}{} [| Skaityti daugiau]({}) \".format(trx['title'],'. ', trx['body'], ' ...', trx['url']))"
   ]
  },
  {
   "cell_type": "code",
   "execution_count": 7,
   "id": "illegal-greece",
   "metadata": {
    "execution": {
     "iopub.execute_input": "2022-05-09T03:00:34.913007Z",
     "iopub.status.busy": "2022-05-09T03:00:34.912519Z",
     "iopub.status.idle": "2022-05-09T03:00:34.915248Z",
     "shell.execute_reply": "2022-05-09T03:00:34.915646Z"
    },
    "papermill": {
     "duration": 0.016811,
     "end_time": "2022-05-09T03:00:34.915753",
     "exception": false,
     "start_time": "2022-05-09T03:00:34.898942",
     "status": "completed"
    },
    "tags": []
   },
   "outputs": [
    {
     "data": {
      "text/markdown": [
       "- Here’s What’s Next for Solana (SOL) and Red-Hot Altcoin STEPN (GMT), According to Crypto Strategist.  A closely followed crypto analyst is outlining what&#8217;s ahead for Ethereum rival Solana (SOL) and move-to-earn protocol STEPN (GMT). In a strategy session, DonAlt warns holders of smart contract platform Solana that SOL looks bearish on the high timeframe charts after converting weekly support at $140 into resistance. According to DonAlt, the price action suggests [&#8230;]The post Here’s What’s Next for Solana (SOL) and Red-Hot Altcoin STEPN (GMT), According to Crypto Strategist appeared first on The Daily Hodl. ... [| Skaityti daugiau](https://dailyhodl.com/2022/05/08/heres-whats-next-for-solana-sol-and-red-hot-altcoin-stepn-gmt-according-to-crypto-strategist/) "
      ],
      "text/plain": [
       "<IPython.core.display.Markdown object>"
      ]
     },
     "execution_count": 7,
     "metadata": {},
     "output_type": "execute_result"
    }
   ],
   "source": [
    "#hide_input\n",
    "#md('##### {}'.format(titleBTC)) \n",
    "md(\"- {}{} {}{} [| Skaityti daugiau]({}) \".format(eth['title'],'. ', eth['body'], ' ...', eth['url']))"
   ]
  },
  {
   "cell_type": "code",
   "execution_count": 8,
   "id": "sublime-lounge",
   "metadata": {
    "execution": {
     "iopub.execute_input": "2022-05-09T03:00:34.940414Z",
     "iopub.status.busy": "2022-05-09T03:00:34.939926Z",
     "iopub.status.idle": "2022-05-09T03:00:34.943098Z",
     "shell.execute_reply": "2022-05-09T03:00:34.942706Z"
    },
    "papermill": {
     "duration": 0.017221,
     "end_time": "2022-05-09T03:00:34.943195",
     "exception": false,
     "start_time": "2022-05-09T03:00:34.925974",
     "status": "completed"
    },
    "tags": []
   },
   "outputs": [
    {
     "data": {
      "text/markdown": [
       "- Cardano Adoption Surges As Number of ADA Wallets Breaks New All-Time High: CryptoCompare Report.  New data shows that Ethereum challenger Cardano (ADA) is seeing a surge in adoption with the number of ADA wallets hitting a new all-time high despite a shaky April for the smart contract platform. A new report by CryptoCompare shows that the number of addresses holding Cardano rose to a record high last month amid [&#8230;]The post Cardano Adoption Surges As Number of ADA Wallets Breaks New All-Time High: CryptoCompare Report appeared first on The Daily Hodl. ... [| Skaityti daugiau](https://dailyhodl.com/2022/05/08/cardano-adoption-surges-as-number-of-ada-wallets-breaks-new-all-time-high-cryptocompare-report/) "
      ],
      "text/plain": [
       "<IPython.core.display.Markdown object>"
      ]
     },
     "execution_count": 8,
     "metadata": {},
     "output_type": "execute_result"
    }
   ],
   "source": [
    "#hide_input\n",
    "#md('##### {}'.format(titleBTC)) \n",
    "md(\"- {}{} {}{} [| Skaityti daugiau]({}) \".format(ada['title'],'. ', ada['body'], ' ...', ada['url']))"
   ]
  },
  {
   "cell_type": "code",
   "execution_count": 9,
   "id": "specified-ordering",
   "metadata": {
    "execution": {
     "iopub.execute_input": "2022-05-09T03:00:34.968717Z",
     "iopub.status.busy": "2022-05-09T03:00:34.968229Z",
     "iopub.status.idle": "2022-05-09T03:00:34.970850Z",
     "shell.execute_reply": "2022-05-09T03:00:34.971252Z"
    },
    "papermill": {
     "duration": 0.017544,
     "end_time": "2022-05-09T03:00:34.971358",
     "exception": false,
     "start_time": "2022-05-09T03:00:34.953814",
     "status": "completed"
    },
    "tags": []
   },
   "outputs": [
    {
     "data": {
      "text/markdown": [
       "- Bitcoin, Binance Coin, Theta Fuel, and Icon Daily Price Analyses – 8 May Roundup.  The performance of the global crypto market hasn&#8217;t been impressive over the last 24 hours as the losses for it have increased in value. Though the losses had begun to decrease, the process has reversed, and it is again facing a difficult situation. The dilemma for Bitcoin hasn&#8217;t changed as it is at the forefront... ... [| Skaityti daugiau](https://www.cryptopolitan.com/bitcoin-binance-coin-theta-fuel-and-icon-daily-price-analyses-8-may-roundup/) "
      ],
      "text/plain": [
       "<IPython.core.display.Markdown object>"
      ]
     },
     "execution_count": 9,
     "metadata": {},
     "output_type": "execute_result"
    }
   ],
   "source": [
    "#hide_input\n",
    "#md('##### {}'.format(titleBTC)) \n",
    "md(\"- {}{} {}{} [| Skaityti daugiau]({}) \".format(exchange['title'],'. ', exchange['body'], ' ...', exchange['url']))"
   ]
  },
  {
   "cell_type": "code",
   "execution_count": null,
   "id": "tender-livestock",
   "metadata": {
    "papermill": {
     "duration": 0.010856,
     "end_time": "2022-05-09T03:00:34.993175",
     "exception": false,
     "start_time": "2022-05-09T03:00:34.982319",
     "status": "completed"
    },
    "tags": []
   },
   "outputs": [],
   "source": []
  },
  {
   "cell_type": "code",
   "execution_count": null,
   "id": "appreciated-diamond",
   "metadata": {
    "papermill": {
     "duration": 0.010986,
     "end_time": "2022-05-09T03:00:35.015250",
     "exception": false,
     "start_time": "2022-05-09T03:00:35.004264",
     "status": "completed"
    },
    "tags": []
   },
   "outputs": [],
   "source": []
  },
  {
   "cell_type": "code",
   "execution_count": null,
   "id": "romance-sweden",
   "metadata": {
    "papermill": {
     "duration": 0.010897,
     "end_time": "2022-05-09T03:00:35.037998",
     "exception": false,
     "start_time": "2022-05-09T03:00:35.027101",
     "status": "completed"
    },
    "tags": []
   },
   "outputs": [],
   "source": []
  },
  {
   "cell_type": "code",
   "execution_count": null,
   "id": "dietary-statistics",
   "metadata": {
    "papermill": {
     "duration": 0.01081,
     "end_time": "2022-05-09T03:00:35.059754",
     "exception": false,
     "start_time": "2022-05-09T03:00:35.048944",
     "status": "completed"
    },
    "tags": []
   },
   "outputs": [],
   "source": []
  }
 ],
 "metadata": {
  "kernelspec": {
   "display_name": "Python 3",
   "language": "python",
   "name": "python3"
  },
  "language_info": {
   "codemirror_mode": {
    "name": "ipython",
    "version": 3
   },
   "file_extension": ".py",
   "mimetype": "text/x-python",
   "name": "python",
   "nbconvert_exporter": "python",
   "pygments_lexer": "ipython3",
   "version": "3.6.15"
  },
  "papermill": {
   "default_parameters": {},
   "duration": 18.797982,
   "end_time": "2022-05-09T03:00:35.488055",
   "environment_variables": {},
   "exception": null,
   "input_path": "Market-News.ipynb",
   "output_path": "Market-News.ipynb",
   "parameters": {},
   "start_time": "2022-05-09T03:00:16.690073",
   "version": "2.2.2"
  }
 },
 "nbformat": 4,
 "nbformat_minor": 5
}