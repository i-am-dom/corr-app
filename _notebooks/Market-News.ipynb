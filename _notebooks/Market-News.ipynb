{
 "cells": [
  {
   "cell_type": "markdown",
   "id": "short-greensboro",
   "metadata": {
    "papermill": {
     "duration": 0.016105,
     "end_time": "2021-10-16T02:06:41.976622",
     "exception": false,
     "start_time": "2021-10-16T02:06:41.960517",
     "status": "completed"
    },
    "tags": []
   },
   "source": [
    "# Kriptovaliutų naujienos"
   ]
  },
  {
   "cell_type": "code",
   "execution_count": 1,
   "id": "functioning-knowing",
   "metadata": {
    "execution": {
     "iopub.execute_input": "2021-10-16T02:06:42.011839Z",
     "iopub.status.busy": "2021-10-16T02:06:42.011217Z",
     "iopub.status.idle": "2021-10-16T02:06:43.607964Z",
     "shell.execute_reply": "2021-10-16T02:06:43.608502Z"
    },
    "papermill": {
     "duration": 1.620458,
     "end_time": "2021-10-16T02:06:43.608741",
     "exception": false,
     "start_time": "2021-10-16T02:06:41.988283",
     "status": "completed"
    },
    "tags": []
   },
   "outputs": [],
   "source": [
    "#hide_input\n",
    "import warnings\n",
    "warnings.filterwarnings('ignore')\n",
    "from scripts.read_data import read_api\n",
    "from scripts.read_data import read_news\n",
    "from scripts.read_data import read_covid\n",
    "import matplotlib.pyplot as plt \n",
    "from IPython.display import Markdown as md"
   ]
  },
  {
   "cell_type": "code",
   "execution_count": 2,
   "id": "shared-acceptance",
   "metadata": {
    "execution": {
     "iopub.execute_input": "2021-10-16T02:06:43.641148Z",
     "iopub.status.busy": "2021-10-16T02:06:43.640334Z",
     "iopub.status.idle": "2021-10-16T02:06:50.785060Z",
     "shell.execute_reply": "2021-10-16T02:06:50.784308Z"
    },
    "papermill": {
     "duration": 7.164153,
     "end_time": "2021-10-16T02:06:50.785270",
     "exception": false,
     "start_time": "2021-10-16T02:06:43.621117",
     "status": "completed"
    },
    "tags": []
   },
   "outputs": [],
   "source": [
    "#hide_input\n",
    "blockchain = read_news('blockchain') \n",
    "btc = read_news('btc') \n",
    "xrp = read_news('xrp') \n",
    "trx = read_news('trx') \n",
    "eth = read_news('eth')  \n",
    "ada = read_news('ada')\n",
    "exchange = read_news('exchange') "
   ]
  },
  {
   "cell_type": "code",
   "execution_count": 3,
   "id": "synthetic-notion",
   "metadata": {
    "execution": {
     "iopub.execute_input": "2021-10-16T02:06:50.815309Z",
     "iopub.status.busy": "2021-10-16T02:06:50.811957Z",
     "iopub.status.idle": "2021-10-16T02:06:50.818896Z",
     "shell.execute_reply": "2021-10-16T02:06:50.818240Z"
    },
    "papermill": {
     "duration": 0.022117,
     "end_time": "2021-10-16T02:06:50.819027",
     "exception": false,
     "start_time": "2021-10-16T02:06:50.796910",
     "status": "completed"
    },
    "tags": []
   },
   "outputs": [
    {
     "data": {
      "text/markdown": [
       "- NBA’s Sacramento Kings Partners with Ankr to Support The Growth of Blockchain Industry.  Ankr and the Sacramento Kings joined forces to educate sports fans about the development of the digital asset sector. ... [| Skaityti daugiau](https://cryptopotato.com/sacramento-kings-partners-with-ankr-to-support-the-growth-of-blockchain-industry/) "
      ],
      "text/plain": [
       "<IPython.core.display.Markdown object>"
      ]
     },
     "execution_count": 3,
     "metadata": {},
     "output_type": "execute_result"
    }
   ],
   "source": [
    "#hide_input\n",
    "#md('##### {}'.format(titleBTC)) \n",
    "md(\"- {}{} {}{} [| Skaityti daugiau]({}) \".format(blockchain['title'],'. ', blockchain['body'], ' ...', blockchain['url']))"
   ]
  },
  {
   "cell_type": "code",
   "execution_count": 4,
   "id": "aging-caution",
   "metadata": {
    "execution": {
     "iopub.execute_input": "2021-10-16T02:06:50.848153Z",
     "iopub.status.busy": "2021-10-16T02:06:50.847442Z",
     "iopub.status.idle": "2021-10-16T02:06:50.850431Z",
     "shell.execute_reply": "2021-10-16T02:06:50.850944Z"
    },
    "papermill": {
     "duration": 0.01996,
     "end_time": "2021-10-16T02:06:50.851066",
     "exception": false,
     "start_time": "2021-10-16T02:06:50.831106",
     "status": "completed"
    },
    "tags": []
   },
   "outputs": [
    {
     "data": {
      "text/markdown": [
       "- The American Dream Is Dead And Bitcoin Has Replaced It.  The American dream of owning a home and financial freedom has been killed by the inequality in our legacy system. But Bitcoin offers a new dream. ... [| Skaityti daugiau](https://bitcoinmagazine.com/markets/how-bitcoin-replaces-the-american-dream) "
      ],
      "text/plain": [
       "<IPython.core.display.Markdown object>"
      ]
     },
     "execution_count": 4,
     "metadata": {},
     "output_type": "execute_result"
    }
   ],
   "source": [
    "#hide_input\n",
    "#md('##### {}'.format(titleBTC)) \n",
    "md(\"- {}{} {}{} [| Skaityti daugiau]({}) \".format(btc['title'],'. ', btc['body'], ' ...', btc['url']))"
   ]
  },
  {
   "cell_type": "code",
   "execution_count": 5,
   "id": "organic-actress",
   "metadata": {
    "execution": {
     "iopub.execute_input": "2021-10-16T02:06:50.880437Z",
     "iopub.status.busy": "2021-10-16T02:06:50.879407Z",
     "iopub.status.idle": "2021-10-16T02:06:50.884375Z",
     "shell.execute_reply": "2021-10-16T02:06:50.883887Z"
    },
    "papermill": {
     "duration": 0.019937,
     "end_time": "2021-10-16T02:06:50.884528",
     "exception": false,
     "start_time": "2021-10-16T02:06:50.864591",
     "status": "completed"
    },
    "tags": []
   },
   "outputs": [
    {
     "data": {
      "text/markdown": [
       "- Price analysis 10/15: BTC, ETH, BNB, ADA, XRP, SOL, DOT, DOGE, LUNA, UNI.  Hopes of a BTC ETF approval sent Bitcoin charging toward a new all-time high and several altcoins are also breaking out of bullish setups.  ... [| Skaityti daugiau](https://cointelegraph.com/news/price-analysis-10-15-btc-eth-bnb-ada-xrp-sol-dot-doge-luna-uni) "
      ],
      "text/plain": [
       "<IPython.core.display.Markdown object>"
      ]
     },
     "execution_count": 5,
     "metadata": {},
     "output_type": "execute_result"
    }
   ],
   "source": [
    "#hide_input\n",
    "#md('##### {}'.format(titleBTC)) \n",
    "md(\"- {}{} {}{} [| Skaityti daugiau]({}) \".format(xrp['title'],'. ', xrp['body'], ' ...', xrp['url']))"
   ]
  },
  {
   "cell_type": "code",
   "execution_count": 6,
   "id": "prompt-farmer",
   "metadata": {
    "execution": {
     "iopub.execute_input": "2021-10-16T02:06:50.918144Z",
     "iopub.status.busy": "2021-10-16T02:06:50.917382Z",
     "iopub.status.idle": "2021-10-16T02:06:50.919707Z",
     "shell.execute_reply": "2021-10-16T02:06:50.920174Z"
    },
    "papermill": {
     "duration": 0.023742,
     "end_time": "2021-10-16T02:06:50.920310",
     "exception": false,
     "start_time": "2021-10-16T02:06:50.896568",
     "status": "completed"
    },
    "tags": []
   },
   "outputs": [
    {
     "data": {
      "text/markdown": [
       "- Tron (TRX) Consolidation Indicates Decreased Volumetric Action!.  TRON currently holds the 28th position in terms of market cap with a combined value of $6.76 billion and above 71 billion coins in circulating supply. Unlike other cryptocurrencies, TRON is focused on the content sharing and entertainment industry and intends to rule the content creation domain, starting with the gaming industry. It allows creators &#8230; ... [| Skaityti daugiau](https://www.cryptonewsz.com/tron-consolidation-indicates-decreased-volumetric-action/) "
      ],
      "text/plain": [
       "<IPython.core.display.Markdown object>"
      ]
     },
     "execution_count": 6,
     "metadata": {},
     "output_type": "execute_result"
    }
   ],
   "source": [
    "#hide_input\n",
    "#md('##### {}'.format(titleBTC)) \n",
    "md(\"- {}{} {}{} [| Skaityti daugiau]({}) \".format(trx['title'],'. ', trx['body'], ' ...', trx['url']))"
   ]
  },
  {
   "cell_type": "code",
   "execution_count": 7,
   "id": "illegal-greece",
   "metadata": {
    "execution": {
     "iopub.execute_input": "2021-10-16T02:06:50.951359Z",
     "iopub.status.busy": "2021-10-16T02:06:50.950717Z",
     "iopub.status.idle": "2021-10-16T02:06:50.954743Z",
     "shell.execute_reply": "2021-10-16T02:06:50.953840Z"
    },
    "papermill": {
     "duration": 0.021768,
     "end_time": "2021-10-16T02:06:50.954853",
     "exception": false,
     "start_time": "2021-10-16T02:06:50.933085",
     "status": "completed"
    },
    "tags": []
   },
   "outputs": [
    {
     "data": {
      "text/markdown": [
       "- Price analysis 10/15: BTC, ETH, BNB, ADA, XRP, SOL, DOT, DOGE, LUNA, UNI.  Hopes of a BTC ETF approval sent Bitcoin charging toward a new all-time high and several altcoins are also breaking out of bullish setups.  ... [| Skaityti daugiau](https://cointelegraph.com/news/price-analysis-10-15-btc-eth-bnb-ada-xrp-sol-dot-doge-luna-uni) "
      ],
      "text/plain": [
       "<IPython.core.display.Markdown object>"
      ]
     },
     "execution_count": 7,
     "metadata": {},
     "output_type": "execute_result"
    }
   ],
   "source": [
    "#hide_input\n",
    "#md('##### {}'.format(titleBTC)) \n",
    "md(\"- {}{} {}{} [| Skaityti daugiau]({}) \".format(eth['title'],'. ', eth['body'], ' ...', eth['url']))"
   ]
  },
  {
   "cell_type": "code",
   "execution_count": 8,
   "id": "sublime-lounge",
   "metadata": {
    "execution": {
     "iopub.execute_input": "2021-10-16T02:06:50.986604Z",
     "iopub.status.busy": "2021-10-16T02:06:50.985064Z",
     "iopub.status.idle": "2021-10-16T02:06:50.989326Z",
     "shell.execute_reply": "2021-10-16T02:06:50.989894Z"
    },
    "papermill": {
     "duration": 0.021468,
     "end_time": "2021-10-16T02:06:50.990019",
     "exception": false,
     "start_time": "2021-10-16T02:06:50.968551",
     "status": "completed"
    },
    "tags": []
   },
   "outputs": [
    {
     "data": {
      "text/markdown": [
       "- Price analysis 10/15: BTC, ETH, BNB, ADA, XRP, SOL, DOT, DOGE, LUNA, UNI.  Hopes of a BTC ETF approval sent Bitcoin charging toward a new all-time high and several altcoins are also breaking out of bullish setups.  ... [| Skaityti daugiau](https://cointelegraph.com/news/price-analysis-10-15-btc-eth-bnb-ada-xrp-sol-dot-doge-luna-uni) "
      ],
      "text/plain": [
       "<IPython.core.display.Markdown object>"
      ]
     },
     "execution_count": 8,
     "metadata": {},
     "output_type": "execute_result"
    }
   ],
   "source": [
    "#hide_input\n",
    "#md('##### {}'.format(titleBTC)) \n",
    "md(\"- {}{} {}{} [| Skaityti daugiau]({}) \".format(ada['title'],'. ', ada['body'], ' ...', ada['url']))"
   ]
  },
  {
   "cell_type": "code",
   "execution_count": 9,
   "id": "specified-ordering",
   "metadata": {
    "execution": {
     "iopub.execute_input": "2021-10-16T02:06:51.022563Z",
     "iopub.status.busy": "2021-10-16T02:06:51.022006Z",
     "iopub.status.idle": "2021-10-16T02:06:51.025837Z",
     "shell.execute_reply": "2021-10-16T02:06:51.025147Z"
    },
    "papermill": {
     "duration": 0.022167,
     "end_time": "2021-10-16T02:06:51.025949",
     "exception": false,
     "start_time": "2021-10-16T02:06:51.003782",
     "status": "completed"
    },
    "tags": []
   },
   "outputs": [
    {
     "data": {
      "text/markdown": [
       "- ProShares Set for Bitcoin Futures ETF Launch on Monday After Apparent SEC Approval.  The US Securities and Exchange Commission has reportedly greenlit the country&#8217;s first Bitcoin futures exchange-traded fund (ETF). ProShares, an ETF provider, filed a post-effective amendment prospectus on Friday that states the company plans to launch the BTC Futures ETF on Monday, a sign that the SEC has approved the product. The fund doesn&#8217;t invest directly [&#8230;]The post ProShares Set for Bitcoin Futures ETF Launch on Monday After Apparent SEC Approval appeared first on The Daily Hodl. ... [| Skaityti daugiau](https://dailyhodl.com/2021/10/15/proshares-set-for-bitcoin-futures-etf-launch-on-monday-after-apparent-sec-approval/) "
      ],
      "text/plain": [
       "<IPython.core.display.Markdown object>"
      ]
     },
     "execution_count": 9,
     "metadata": {},
     "output_type": "execute_result"
    }
   ],
   "source": [
    "#hide_input\n",
    "#md('##### {}'.format(titleBTC)) \n",
    "md(\"- {}{} {}{} [| Skaityti daugiau]({}) \".format(exchange['title'],'. ', exchange['body'], ' ...', exchange['url']))"
   ]
  },
  {
   "cell_type": "code",
   "execution_count": null,
   "id": "tender-livestock",
   "metadata": {
    "papermill": {
     "duration": 0.013167,
     "end_time": "2021-10-16T02:06:51.053210",
     "exception": false,
     "start_time": "2021-10-16T02:06:51.040043",
     "status": "completed"
    },
    "tags": []
   },
   "outputs": [],
   "source": []
  },
  {
   "cell_type": "code",
   "execution_count": null,
   "id": "appreciated-diamond",
   "metadata": {
    "papermill": {
     "duration": 0.013899,
     "end_time": "2021-10-16T02:06:51.081784",
     "exception": false,
     "start_time": "2021-10-16T02:06:51.067885",
     "status": "completed"
    },
    "tags": []
   },
   "outputs": [],
   "source": []
  },
  {
   "cell_type": "code",
   "execution_count": null,
   "id": "romance-sweden",
   "metadata": {
    "papermill": {
     "duration": 0.014425,
     "end_time": "2021-10-16T02:06:51.109826",
     "exception": false,
     "start_time": "2021-10-16T02:06:51.095401",
     "status": "completed"
    },
    "tags": []
   },
   "outputs": [],
   "source": []
  },
  {
   "cell_type": "code",
   "execution_count": null,
   "id": "dietary-statistics",
   "metadata": {
    "papermill": {
     "duration": 0.013606,
     "end_time": "2021-10-16T02:06:51.137737",
     "exception": false,
     "start_time": "2021-10-16T02:06:51.124131",
     "status": "completed"
    },
    "tags": []
   },
   "outputs": [],
   "source": []
  }
 ],
 "metadata": {
  "kernelspec": {
   "display_name": "Python 3",
   "language": "python",
   "name": "python3"
  },
  "language_info": {
   "codemirror_mode": {
    "name": "ipython",
    "version": 3
   },
   "file_extension": ".py",
   "mimetype": "text/x-python",
   "name": "python",
   "nbconvert_exporter": "python",
   "pygments_lexer": "ipython3",
   "version": "3.6.15"
  },
  "papermill": {
   "default_parameters": {},
   "duration": 10.928986,
   "end_time": "2021-10-16T02:06:51.560196",
   "environment_variables": {},
   "exception": null,
   "input_path": "Market-News.ipynb",
   "output_path": "Market-News.ipynb",
   "parameters": {},
   "start_time": "2021-10-16T02:06:40.631210",
   "version": "2.2.2"
  }
 },
 "nbformat": 4,
 "nbformat_minor": 5
}