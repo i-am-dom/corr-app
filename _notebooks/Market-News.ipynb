{
 "cells": [
  {
   "cell_type": "markdown",
   "id": "short-greensboro",
   "metadata": {
    "papermill": {
     "duration": 0.014293,
     "end_time": "2022-11-04T03:12:17.102084",
     "exception": false,
     "start_time": "2022-11-04T03:12:17.087791",
     "status": "completed"
    },
    "tags": []
   },
   "source": [
    "# Kriptovaliutų naujienos"
   ]
  },
  {
   "cell_type": "code",
   "execution_count": 1,
   "id": "functioning-knowing",
   "metadata": {
    "execution": {
     "iopub.execute_input": "2022-11-04T03:12:17.136532Z",
     "iopub.status.busy": "2022-11-04T03:12:17.135840Z",
     "iopub.status.idle": "2022-11-04T03:12:18.603677Z",
     "shell.execute_reply": "2022-11-04T03:12:18.604196Z"
    },
    "papermill": {
     "duration": 1.490316,
     "end_time": "2022-11-04T03:12:18.604378",
     "exception": false,
     "start_time": "2022-11-04T03:12:17.114062",
     "status": "completed"
    },
    "tags": []
   },
   "outputs": [],
   "source": [
    "#hide_input\n",
    "import warnings\n",
    "warnings.filterwarnings('ignore')\n",
    "from scripts.read_data import read_api\n",
    "from scripts.read_data import read_news\n",
    "from scripts.read_data import read_covid\n",
    "import matplotlib.pyplot as plt \n",
    "from IPython.display import Markdown as md"
   ]
  },
  {
   "cell_type": "code",
   "execution_count": 2,
   "id": "shared-acceptance",
   "metadata": {
    "execution": {
     "iopub.execute_input": "2022-11-04T03:12:18.635939Z",
     "iopub.status.busy": "2022-11-04T03:12:18.634843Z",
     "iopub.status.idle": "2022-11-04T03:12:29.616980Z",
     "shell.execute_reply": "2022-11-04T03:12:29.617463Z"
    },
    "papermill": {
     "duration": 11.001428,
     "end_time": "2022-11-04T03:12:29.617622",
     "exception": false,
     "start_time": "2022-11-04T03:12:18.616194",
     "status": "completed"
    },
    "tags": []
   },
   "outputs": [],
   "source": [
    "#hide_input\n",
    "blockchain = read_news('blockchain') \n",
    "btc = read_news('btc') \n",
    "xrp = read_news('xrp') \n",
    "trx = read_news('trx') \n",
    "eth = read_news('eth')  \n",
    "ada = read_news('ada')\n",
    "exchange = read_news('exchange') "
   ]
  },
  {
   "cell_type": "code",
   "execution_count": 3,
   "id": "synthetic-notion",
   "metadata": {
    "execution": {
     "iopub.execute_input": "2022-11-04T03:12:29.645034Z",
     "iopub.status.busy": "2022-11-04T03:12:29.644349Z",
     "iopub.status.idle": "2022-11-04T03:12:29.651185Z",
     "shell.execute_reply": "2022-11-04T03:12:29.650672Z"
    },
    "papermill": {
     "duration": 0.023075,
     "end_time": "2022-11-04T03:12:29.651293",
     "exception": false,
     "start_time": "2022-11-04T03:12:29.628218",
     "status": "completed"
    },
    "tags": []
   },
   "outputs": [
    {
     "data": {
      "text/markdown": [
       "- This Expert Claims Crypto Winter Is Not Over But There’s A Catch.  The ongoing crypto bear market seems like an unending journey, with more firms coming down with financial crises due to asset devaluations and other effects. Although some assets have seen brief rallies, many remain in decline. Regarding the crypto bear effects, Kathleen Breitman, CEO of Tezos, a blockchain platform, shared her opinion. Breitman thinks the end of the crypto winter is not near yet, but she is confident about the survival of a few useful crypto applications. Related Reading: Bitcoin Shocker: Lightning Network Capacity Reaches 5,000 BTC Reasons For Price Devaluations The Tezos CEO argued that the recent rallies do not signify the end of the bear market. In her opinion, easy money from venture capitalists seeking profit and low-interest rates artificially hiked the valuations of many crypto companies. Kathleen further said that even if the Feds stop hiking interest rates, only a few useful crypto applications that can grow organic users will survive. The CEO also commented on the fall in the price of many digital assets in 2022. She said easy money going into the system inflated the values of digital assets. She cited examples of crypto devaluation in the industry using the OpenSea NFT marketplace as a case study. According to data from Dune Analytics, OpenSea’s trading volume dropped from ~$3 billion in September 2021 to less than $350 million in September 2022. Kathleen explained that the cheap money phenomenon ... ... [| Skaityti daugiau](https://www.newsbtc.com/crypto/this-expert-claims-crypto-winter-is-not-over-but-theres-a-catch/) "
      ],
      "text/plain": [
       "<IPython.core.display.Markdown object>"
      ]
     },
     "execution_count": 3,
     "metadata": {},
     "output_type": "execute_result"
    }
   ],
   "source": [
    "#hide_input\n",
    "#md('##### {}'.format(titleBTC)) \n",
    "md(\"- {}{} {}{} [| Skaityti daugiau]({}) \".format(blockchain['title'],'. ', blockchain['body'], ' ...', blockchain['url']))"
   ]
  },
  {
   "cell_type": "code",
   "execution_count": 4,
   "id": "aging-caution",
   "metadata": {
    "execution": {
     "iopub.execute_input": "2022-11-04T03:12:29.677903Z",
     "iopub.status.busy": "2022-11-04T03:12:29.677222Z",
     "iopub.status.idle": "2022-11-04T03:12:29.683762Z",
     "shell.execute_reply": "2022-11-04T03:12:29.683245Z"
    },
    "papermill": {
     "duration": 0.022046,
     "end_time": "2022-11-04T03:12:29.683871",
     "exception": false,
     "start_time": "2022-11-04T03:12:29.661825",
     "status": "completed"
    },
    "tags": []
   },
   "outputs": [
    {
     "data": {
      "text/markdown": [
       "- Bitcoin, Ethereum, Cronos, and Algorand Daily Price Analyses – 3 November Roundup.  The global crypto market has changed direction as it turned bullish over the recent hours. The performance of Bitcoin and Ethereum still shows bearishness while others have turned bullish. The change in the performance of the market has brought stability to various coins. While others are likely to turn bullish soon. As the market has &#8230;  Bitcoin, Ethereum, Cronos, and Algorand Daily Price Analyses – 3 November Roundup Read More &#187; ... [| Skaityti daugiau](https://www.cryptopolitan.com/bitcoin-ethereum-cronos-and-algorand-daily-price-analyses-3-november-roundup/) "
      ],
      "text/plain": [
       "<IPython.core.display.Markdown object>"
      ]
     },
     "execution_count": 4,
     "metadata": {},
     "output_type": "execute_result"
    }
   ],
   "source": [
    "#hide_input\n",
    "#md('##### {}'.format(titleBTC)) \n",
    "md(\"- {}{} {}{} [| Skaityti daugiau]({}) \".format(btc['title'],'. ', btc['body'], ' ...', btc['url']))"
   ]
  },
  {
   "cell_type": "code",
   "execution_count": 5,
   "id": "organic-actress",
   "metadata": {
    "execution": {
     "iopub.execute_input": "2022-11-04T03:12:29.712475Z",
     "iopub.status.busy": "2022-11-04T03:12:29.711802Z",
     "iopub.status.idle": "2022-11-04T03:12:29.715993Z",
     "shell.execute_reply": "2022-11-04T03:12:29.715422Z"
    },
    "papermill": {
     "duration": 0.0211,
     "end_time": "2022-11-04T03:12:29.716178",
     "exception": false,
     "start_time": "2022-11-04T03:12:29.695078",
     "status": "completed"
    },
    "tags": []
   },
   "outputs": [
    {
     "data": {
      "text/markdown": [
       "- Crypto whales transfer over $130 M in XRP and DOGE.  Crypto whales move over $130 million Dogecoin (DOGE) and XRP as this week&#8217;s crypto markets grew stale. An anonymous wallet sent to an unnamed wallet 300 million DOGE, totaling more than $41.8 million. Early this week, an anonymous wallet sent to another unnamed wallet 150 million DOGE, totaling more than $20.7 million, according to blockchain &#8230;  Crypto whales transfer over $130 M in XRP and DOGE Read More &#187; ... [| Skaityti daugiau](https://www.cryptopolitan.com/crypto-whales-transfer-over-130m-xrp-doge/) "
      ],
      "text/plain": [
       "<IPython.core.display.Markdown object>"
      ]
     },
     "execution_count": 5,
     "metadata": {},
     "output_type": "execute_result"
    }
   ],
   "source": [
    "#hide_input\n",
    "#md('##### {}'.format(titleBTC)) \n",
    "md(\"- {}{} {}{} [| Skaityti daugiau]({}) \".format(xrp['title'],'. ', xrp['body'], ' ...', xrp['url']))"
   ]
  },
  {
   "cell_type": "code",
   "execution_count": 6,
   "id": "prompt-farmer",
   "metadata": {
    "execution": {
     "iopub.execute_input": "2022-11-04T03:12:29.745010Z",
     "iopub.status.busy": "2022-11-04T03:12:29.744303Z",
     "iopub.status.idle": "2022-11-04T03:12:29.748701Z",
     "shell.execute_reply": "2022-11-04T03:12:29.748052Z"
    },
    "papermill": {
     "duration": 0.020886,
     "end_time": "2022-11-04T03:12:29.748874",
     "exception": false,
     "start_time": "2022-11-04T03:12:29.727988",
     "status": "completed"
    },
    "tags": []
   },
   "outputs": [
    {
     "data": {
      "text/markdown": [
       "- USDD Stablecoin Users Increased by 500% in Q3.  The beleaguered Tron stablecoin USDD has broken out of its slump, with a 500% increase in users in Q3. Crypto market intelligence firm Messari published a report on Nov. 3, highlighting how the stablecoin had seen growth across a few metrics. The better performance is a positive sign for the dollar-pegged stablecoin, which depegged in Q2 2022. The number of holders grew from 20,795 to 120,698 between Q2 and Q3, which amounts to a 480% increase. The percentage of TRX [&#8230;] ... [| Skaityti daugiau](https://en.ethereumworldnews.com/usdd-stablecoin-users-increased-by-500-in-q3/) "
      ],
      "text/plain": [
       "<IPython.core.display.Markdown object>"
      ]
     },
     "execution_count": 6,
     "metadata": {},
     "output_type": "execute_result"
    }
   ],
   "source": [
    "#hide_input\n",
    "#md('##### {}'.format(titleBTC)) \n",
    "md(\"- {}{} {}{} [| Skaityti daugiau]({}) \".format(trx['title'],'. ', trx['body'], ' ...', trx['url']))"
   ]
  },
  {
   "cell_type": "code",
   "execution_count": 7,
   "id": "illegal-greece",
   "metadata": {
    "execution": {
     "iopub.execute_input": "2022-11-04T03:12:29.781315Z",
     "iopub.status.busy": "2022-11-04T03:12:29.780480Z",
     "iopub.status.idle": "2022-11-04T03:12:29.784532Z",
     "shell.execute_reply": "2022-11-04T03:12:29.785225Z"
    },
    "papermill": {
     "duration": 0.024362,
     "end_time": "2022-11-04T03:12:29.785399",
     "exception": false,
     "start_time": "2022-11-04T03:12:29.761037",
     "status": "completed"
    },
    "tags": []
   },
   "outputs": [
    {
     "data": {
      "text/markdown": [
       "- Bitcoin, Ethereum, Cronos, and Algorand Daily Price Analyses – 3 November Roundup.  The global crypto market has changed direction as it turned bullish over the recent hours. The performance of Bitcoin and Ethereum still shows bearishness while others have turned bullish. The change in the performance of the market has brought stability to various coins. While others are likely to turn bullish soon. As the market has &#8230;  Bitcoin, Ethereum, Cronos, and Algorand Daily Price Analyses – 3 November Roundup Read More &#187; ... [| Skaityti daugiau](https://www.cryptopolitan.com/bitcoin-ethereum-cronos-and-algorand-daily-price-analyses-3-november-roundup/) "
      ],
      "text/plain": [
       "<IPython.core.display.Markdown object>"
      ]
     },
     "execution_count": 7,
     "metadata": {},
     "output_type": "execute_result"
    }
   ],
   "source": [
    "#hide_input\n",
    "#md('##### {}'.format(titleBTC)) \n",
    "md(\"- {}{} {}{} [| Skaityti daugiau]({}) \".format(eth['title'],'. ', eth['body'], ' ...', eth['url']))"
   ]
  },
  {
   "cell_type": "code",
   "execution_count": 8,
   "id": "sublime-lounge",
   "metadata": {
    "execution": {
     "iopub.execute_input": "2022-11-04T03:12:29.817844Z",
     "iopub.status.busy": "2022-11-04T03:12:29.817207Z",
     "iopub.status.idle": "2022-11-04T03:12:29.821497Z",
     "shell.execute_reply": "2022-11-04T03:12:29.820869Z"
    },
    "papermill": {
     "duration": 0.0221,
     "end_time": "2022-11-04T03:12:29.821608",
     "exception": false,
     "start_time": "2022-11-04T03:12:29.799508",
     "status": "completed"
    },
    "tags": []
   },
   "outputs": [
    {
     "data": {
      "text/markdown": [
       "- Why Cardano (ADA) Could Be Gearing Up For A Rally.  Cardano (ADA) price has struggled tremendously since it hit its all-time high price of $3.10 back in 2021. Even now, with the crypto market recovery, ADA has not made as many gains as others in the market as indicators point largely toward bearishness for the digital asset. However, a new development could see a recovery in the price ofCa Cardano. FTX Plans To List ADA FTX remains the only one of the largest crypto exchanges that are yet to list Cardano. Obviously, this has not gone over well with members of the community who have continued to inquire why the exchange was yet to list the digital asset for trading. One of such inquiry was recently targeted at FTX CEO Sam Bankman-Fried (SBF) who gave an explanation as to why this was the case. The tweet asked why the exchange was listing lesser-known tokens for trading and yet continued to pass up ADA, which is currently a top 10 cryptocurrency by market cap. Related Reading: Crypto World Meets Boris Johnson: A Match Made In Heaven Or Hell? SBF’s response to this was that the crypto exchange was actually working on adding Cardano for trading. However, he referred to the blockchain as being “new”, so they were still working on integrating it into the platform in the near future. working on ADA! It&#39;s a new blockchain which takes some time to implement but we&#39;ll be there soon &#8212; SBF (@SBF_FTX) November 2, 2022 The FTX CEO further clarified that he did not mean that the... ... [| Skaityti daugiau](https://www.newsbtc.com/news/cardano/why-cardano-ada-could-be-gearing-up-for-a-rally/) "
      ],
      "text/plain": [
       "<IPython.core.display.Markdown object>"
      ]
     },
     "execution_count": 8,
     "metadata": {},
     "output_type": "execute_result"
    }
   ],
   "source": [
    "#hide_input\n",
    "#md('##### {}'.format(titleBTC)) \n",
    "md(\"- {}{} {}{} [| Skaityti daugiau]({}) \".format(ada['title'],'. ', ada['body'], ' ...', ada['url']))"
   ]
  },
  {
   "cell_type": "code",
   "execution_count": 9,
   "id": "specified-ordering",
   "metadata": {
    "execution": {
     "iopub.execute_input": "2022-11-04T03:12:29.853395Z",
     "iopub.status.busy": "2022-11-04T03:12:29.852742Z",
     "iopub.status.idle": "2022-11-04T03:12:29.858403Z",
     "shell.execute_reply": "2022-11-04T03:12:29.857858Z"
    },
    "papermill": {
     "duration": 0.023442,
     "end_time": "2022-11-04T03:12:29.858512",
     "exception": false,
     "start_time": "2022-11-04T03:12:29.835070",
     "status": "completed"
    },
    "tags": []
   },
   "outputs": [
    {
     "data": {
      "text/markdown": [
       "- Coinbase transaction revenues plummet 44% as users activity declines in Q3.  While poor market conditions have resulted in revenues falling for the crypto exchange in Q3, its effort to reduce expenses has led to some streamlining.  ... [| Skaityti daugiau](https://cointelegraph.com/news/coinbase-transaction-revenues-plummet-44-as-users-activity-declines-in-q3) "
      ],
      "text/plain": [
       "<IPython.core.display.Markdown object>"
      ]
     },
     "execution_count": 9,
     "metadata": {},
     "output_type": "execute_result"
    }
   ],
   "source": [
    "#hide_input\n",
    "#md('##### {}'.format(titleBTC)) \n",
    "md(\"- {}{} {}{} [| Skaityti daugiau]({}) \".format(exchange['title'],'. ', exchange['body'], ' ...', exchange['url']))"
   ]
  },
  {
   "cell_type": "code",
   "execution_count": null,
   "id": "tender-livestock",
   "metadata": {
    "papermill": {
     "duration": 0.017101,
     "end_time": "2022-11-04T03:12:29.888895",
     "exception": false,
     "start_time": "2022-11-04T03:12:29.871794",
     "status": "completed"
    },
    "tags": []
   },
   "outputs": [],
   "source": []
  },
  {
   "cell_type": "code",
   "execution_count": null,
   "id": "appreciated-diamond",
   "metadata": {
    "papermill": {
     "duration": 0.012456,
     "end_time": "2022-11-04T03:12:29.914340",
     "exception": false,
     "start_time": "2022-11-04T03:12:29.901884",
     "status": "completed"
    },
    "tags": []
   },
   "outputs": [],
   "source": []
  },
  {
   "cell_type": "code",
   "execution_count": null,
   "id": "romance-sweden",
   "metadata": {
    "papermill": {
     "duration": 0.013165,
     "end_time": "2022-11-04T03:12:29.941072",
     "exception": false,
     "start_time": "2022-11-04T03:12:29.927907",
     "status": "completed"
    },
    "tags": []
   },
   "outputs": [],
   "source": []
  },
  {
   "cell_type": "code",
   "execution_count": null,
   "id": "dietary-statistics",
   "metadata": {
    "papermill": {
     "duration": 0.012984,
     "end_time": "2022-11-04T03:12:29.967093",
     "exception": false,
     "start_time": "2022-11-04T03:12:29.954109",
     "status": "completed"
    },
    "tags": []
   },
   "outputs": [],
   "source": []
  }
 ],
 "metadata": {
  "kernelspec": {
   "display_name": "Python 3",
   "language": "python",
   "name": "python3"
  },
  "language_info": {
   "codemirror_mode": {
    "name": "ipython",
    "version": 3
   },
   "file_extension": ".py",
   "mimetype": "text/x-python",
   "name": "python",
   "nbconvert_exporter": "python",
   "pygments_lexer": "ipython3",
   "version": "3.6.15"
  },
  "papermill": {
   "default_parameters": {},
   "duration": 14.566851,
   "end_time": "2022-11-04T03:12:30.500695",
   "environment_variables": {},
   "exception": null,
   "input_path": "Market-News.ipynb",
   "output_path": "Market-News.ipynb",
   "parameters": {},
   "start_time": "2022-11-04T03:12:15.933844",
   "version": "2.2.2"
  }
 },
 "nbformat": 4,
 "nbformat_minor": 5
}