{
 "cells": [
  {
   "cell_type": "markdown",
   "id": "short-greensboro",
   "metadata": {
    "papermill": {
     "duration": 0.016945,
     "end_time": "2022-06-22T03:09:18.081369",
     "exception": false,
     "start_time": "2022-06-22T03:09:18.064424",
     "status": "completed"
    },
    "tags": []
   },
   "source": [
    "# Kriptovaliutų naujienos"
   ]
  },
  {
   "cell_type": "code",
   "execution_count": 1,
   "id": "functioning-knowing",
   "metadata": {
    "execution": {
     "iopub.execute_input": "2022-06-22T03:09:18.118728Z",
     "iopub.status.busy": "2022-06-22T03:09:18.117903Z",
     "iopub.status.idle": "2022-06-22T03:09:19.735241Z",
     "shell.execute_reply": "2022-06-22T03:09:19.734345Z"
    },
    "papermill": {
     "duration": 1.64161,
     "end_time": "2022-06-22T03:09:19.735434",
     "exception": false,
     "start_time": "2022-06-22T03:09:18.093824",
     "status": "completed"
    },
    "tags": []
   },
   "outputs": [],
   "source": [
    "#hide_input\n",
    "import warnings\n",
    "warnings.filterwarnings('ignore')\n",
    "from scripts.read_data import read_api\n",
    "from scripts.read_data import read_news\n",
    "from scripts.read_data import read_covid\n",
    "import matplotlib.pyplot as plt \n",
    "from IPython.display import Markdown as md"
   ]
  },
  {
   "cell_type": "code",
   "execution_count": 2,
   "id": "shared-acceptance",
   "metadata": {
    "execution": {
     "iopub.execute_input": "2022-06-22T03:09:19.767881Z",
     "iopub.status.busy": "2022-06-22T03:09:19.766731Z",
     "iopub.status.idle": "2022-06-22T03:09:31.411554Z",
     "shell.execute_reply": "2022-06-22T03:09:31.410110Z"
    },
    "papermill": {
     "duration": 11.663622,
     "end_time": "2022-06-22T03:09:31.411704",
     "exception": false,
     "start_time": "2022-06-22T03:09:19.748082",
     "status": "completed"
    },
    "tags": []
   },
   "outputs": [],
   "source": [
    "#hide_input\n",
    "blockchain = read_news('blockchain') \n",
    "btc = read_news('btc') \n",
    "xrp = read_news('xrp') \n",
    "trx = read_news('trx') \n",
    "eth = read_news('eth')  \n",
    "ada = read_news('ada')\n",
    "exchange = read_news('exchange') "
   ]
  },
  {
   "cell_type": "code",
   "execution_count": 3,
   "id": "synthetic-notion",
   "metadata": {
    "execution": {
     "iopub.execute_input": "2022-06-22T03:09:31.442254Z",
     "iopub.status.busy": "2022-06-22T03:09:31.441544Z",
     "iopub.status.idle": "2022-06-22T03:09:31.446851Z",
     "shell.execute_reply": "2022-06-22T03:09:31.447800Z"
    },
    "papermill": {
     "duration": 0.024517,
     "end_time": "2022-06-22T03:09:31.447940",
     "exception": false,
     "start_time": "2022-06-22T03:09:31.423423",
     "status": "completed"
    },
    "tags": []
   },
   "outputs": [
    {
     "data": {
      "text/markdown": [
       "- Wyoming's Black Hills Energy Inks First Deal Under New Blockchain Tariff.  The utility said attracting more blockchain companies to the state will increase tax revenue and create jobs. ... [| Skaityti daugiau](https://decrypt.co/103504/wyoming-utility-inks-first-deal-under-new-blockchain-tariff) "
      ],
      "text/plain": [
       "<IPython.core.display.Markdown object>"
      ]
     },
     "execution_count": 3,
     "metadata": {},
     "output_type": "execute_result"
    }
   ],
   "source": [
    "#hide_input\n",
    "#md('##### {}'.format(titleBTC)) \n",
    "md(\"- {}{} {}{} [| Skaityti daugiau]({}) \".format(blockchain['title'],'. ', blockchain['body'], ' ...', blockchain['url']))"
   ]
  },
  {
   "cell_type": "code",
   "execution_count": 4,
   "id": "aging-caution",
   "metadata": {
    "execution": {
     "iopub.execute_input": "2022-06-22T03:09:31.477524Z",
     "iopub.status.busy": "2022-06-22T03:09:31.476642Z",
     "iopub.status.idle": "2022-06-22T03:09:31.481305Z",
     "shell.execute_reply": "2022-06-22T03:09:31.480641Z"
    },
    "papermill": {
     "duration": 0.021733,
     "end_time": "2022-06-22T03:09:31.481444",
     "exception": false,
     "start_time": "2022-06-22T03:09:31.459711",
     "status": "completed"
    },
    "tags": []
   },
   "outputs": [
    {
     "data": {
      "text/markdown": [
       "- TA: Bitcoin Trims Gains, Why 100 SMA Could Trigger Fresh Increase.  Bitcoin struggled above the $21,500 resistance zone against the US Dollar. BTC is trimming gains and might find support near the 100 hourly SMA. Bitcoin climbed above the $21,500 level before it faced sellers. The price is now above the $20,000 level and the 100 hourly simple moving average. There was a break below a key bullish trend line with support near $21,175 on the hourly chart of the BTC/USD pair (data feed from Kraken). The pair could find bids near the $20,000 zone or the 100 hourly simple moving average. Bitcoin Price Dips Bitcoin price started an upside correction above the $20,000 resistance zone. There was a decent recovery wave above the $20,200 and $20,500 levels. The price climbed the 61.8% Fib retracement level of the key downside from the $22,950 high to $17,600 low. Finally, there was a move above the $21,000 resistance zone and the price settled above the 100 hourly simple moving average. However, the bears were active above the $21,500 level. A high was formed near the $21,698 and the price started a downside correction. There was a break below the 23.6% Fib retracement level of the upward move from the $17,600 swing low to $21,698 high. Besides, there was a break below a key bullish trend line with support near $21,175 on the hourly chart of the BTC/USD pair. The price is now trading below $21,000. An immediate resistance on the upside is near the $20,550 level. The first major resistance is near the $21... ... [| Skaityti daugiau](https://www.newsbtc.com/analysis/btc/bitcoin-trims-gains-20k/) "
      ],
      "text/plain": [
       "<IPython.core.display.Markdown object>"
      ]
     },
     "execution_count": 4,
     "metadata": {},
     "output_type": "execute_result"
    }
   ],
   "source": [
    "#hide_input\n",
    "#md('##### {}'.format(titleBTC)) \n",
    "md(\"- {}{} {}{} [| Skaityti daugiau]({}) \".format(btc['title'],'. ', btc['body'], ' ...', btc['url']))"
   ]
  },
  {
   "cell_type": "code",
   "execution_count": 5,
   "id": "organic-actress",
   "metadata": {
    "execution": {
     "iopub.execute_input": "2022-06-22T03:09:31.513608Z",
     "iopub.status.busy": "2022-06-22T03:09:31.512856Z",
     "iopub.status.idle": "2022-06-22T03:09:31.516571Z",
     "shell.execute_reply": "2022-06-22T03:09:31.517351Z"
    },
    "papermill": {
     "duration": 0.023169,
     "end_time": "2022-06-22T03:09:31.517560",
     "exception": false,
     "start_time": "2022-06-22T03:09:31.494391",
     "status": "completed"
    },
    "tags": []
   },
   "outputs": [
    {
     "data": {
      "text/markdown": [
       "- XRP At $0.31, Will It Climb On The Upside?.  XRP was consolidating between $0.24 and $0.33 for the last one week. The altcoin registered an upside over the last 24 hours. XRP registered demand which caused the coin to witness recovery on its chart. The cryptocurrency market also registered an overall rise in prices as buyers were slowly re-entering the market. The broader market despite increase in price is still in a fragile, hence it is difficult to ascertain whether XRP will continue its bullish stride in the long term. At the current moment, XRP has secured the support level of $0.30. As price of XRP has constantly seen downfalls, it is quite natural that the coin might continue to witness relief rallies. These rallies however, are brief and fade out soon. If XRP doesn&#8217;t continue to form higher highs then bullish trend might not be able to sustain the bulls in the market. The global cryptocurrency market cap today is $958 Billion with a positive increase of 0.1% in the last 24 hours. XRP Price Analysis: Four Hour Chart The altcoin touched yearly lows on it chart this month as the bloodbath continued to extend. At the time of writing, the coin was trading for $0.33. The price previously displayed consolidation as XRP traded between the $0.24 and $0.31 levels respectively. Over the last 24 hours, the coin moved past the range and was priced at $0.33. The local support for the coin stood at $0.30 while the overhead resistance for XRP was at $0.38. The $0.38 level ... ... [| Skaityti daugiau](https://www.newsbtc.com/news/xrp-at-0-31-will-it-climb-on-the-upside/) "
      ],
      "text/plain": [
       "<IPython.core.display.Markdown object>"
      ]
     },
     "execution_count": 5,
     "metadata": {},
     "output_type": "execute_result"
    }
   ],
   "source": [
    "#hide_input\n",
    "#md('##### {}'.format(titleBTC)) \n",
    "md(\"- {}{} {}{} [| Skaityti daugiau]({}) \".format(xrp['title'],'. ', xrp['body'], ' ...', xrp['url']))"
   ]
  },
  {
   "cell_type": "code",
   "execution_count": 6,
   "id": "prompt-farmer",
   "metadata": {
    "execution": {
     "iopub.execute_input": "2022-06-22T03:09:31.548836Z",
     "iopub.status.busy": "2022-06-22T03:09:31.547718Z",
     "iopub.status.idle": "2022-06-22T03:09:31.552728Z",
     "shell.execute_reply": "2022-06-22T03:09:31.553338Z"
    },
    "papermill": {
     "duration": 0.02327,
     "end_time": "2022-06-22T03:09:31.553469",
     "exception": false,
     "start_time": "2022-06-22T03:09:31.530199",
     "status": "completed"
    },
    "tags": []
   },
   "outputs": [
    {
     "data": {
      "text/markdown": [
       "- Shiba Inu (SHIB) Surpasses Tron (TRX) Amid a Blistering Rally.  Shiba Inu (SHIB) is back above Tron (TRX) after a sudden 44% price spike  ... [| Skaityti daugiau](https://u.today/shiba-inu-shib-surpasses-tron-trx-amid-a-blistering-rally) "
      ],
      "text/plain": [
       "<IPython.core.display.Markdown object>"
      ]
     },
     "execution_count": 6,
     "metadata": {},
     "output_type": "execute_result"
    }
   ],
   "source": [
    "#hide_input\n",
    "#md('##### {}'.format(titleBTC)) \n",
    "md(\"- {}{} {}{} [| Skaityti daugiau]({}) \".format(trx['title'],'. ', trx['body'], ' ...', trx['url']))"
   ]
  },
  {
   "cell_type": "code",
   "execution_count": 7,
   "id": "illegal-greece",
   "metadata": {
    "execution": {
     "iopub.execute_input": "2022-06-22T03:09:31.586374Z",
     "iopub.status.busy": "2022-06-22T03:09:31.584832Z",
     "iopub.status.idle": "2022-06-22T03:09:31.589546Z",
     "shell.execute_reply": "2022-06-22T03:09:31.588824Z"
    },
    "papermill": {
     "duration": 0.024035,
     "end_time": "2022-06-22T03:09:31.589669",
     "exception": false,
     "start_time": "2022-06-22T03:09:31.565634",
     "status": "completed"
    },
    "tags": []
   },
   "outputs": [
    {
     "data": {
      "text/markdown": [
       "- Bitcoin, Ethereum, Fantom, and Neo Daily Price Analyses – 21 June Roundup.  The global crypto market is again facing a downtrend due to increased losses. The changes have resulted in decreasing gains for Bitcoin, Ethereum, and other coins in the market. The impacts of recession have begun to surface as various coins have turned bearish. The ongoing situation tells of a coming bearishness for Bitcoin and other... ... [| Skaityti daugiau](https://www.cryptopolitan.com/bitcoin-ethereum-fantom-and-neo-daily-price-analyses-21-june-roundup/) "
      ],
      "text/plain": [
       "<IPython.core.display.Markdown object>"
      ]
     },
     "execution_count": 7,
     "metadata": {},
     "output_type": "execute_result"
    }
   ],
   "source": [
    "#hide_input\n",
    "#md('##### {}'.format(titleBTC)) \n",
    "md(\"- {}{} {}{} [| Skaityti daugiau]({}) \".format(eth['title'],'. ', eth['body'], ' ...', eth['url']))"
   ]
  },
  {
   "cell_type": "code",
   "execution_count": 8,
   "id": "sublime-lounge",
   "metadata": {
    "execution": {
     "iopub.execute_input": "2022-06-22T03:09:31.624676Z",
     "iopub.status.busy": "2022-06-22T03:09:31.623535Z",
     "iopub.status.idle": "2022-06-22T03:09:31.629059Z",
     "shell.execute_reply": "2022-06-22T03:09:31.628440Z"
    },
    "papermill": {
     "duration": 0.024326,
     "end_time": "2022-06-22T03:09:31.629212",
     "exception": false,
     "start_time": "2022-06-22T03:09:31.604886",
     "status": "completed"
    },
    "tags": []
   },
   "outputs": [
    {
     "data": {
      "text/markdown": [
       "- 'Disappointing': Cardano devs delay Vasil hard fork by a month.  While IOHK admitted the news was disappointing, the firm stated it is taking an “abundance of caution” to ensure the Vasil upgrade is implemented correctly.  ... [| Skaityti daugiau](https://cointelegraph.com/news/disappointing-cardano-devs-delay-vasil-hard-fork-by-a-month) "
      ],
      "text/plain": [
       "<IPython.core.display.Markdown object>"
      ]
     },
     "execution_count": 8,
     "metadata": {},
     "output_type": "execute_result"
    }
   ],
   "source": [
    "#hide_input\n",
    "#md('##### {}'.format(titleBTC)) \n",
    "md(\"- {}{} {}{} [| Skaityti daugiau]({}) \".format(ada['title'],'. ', ada['body'], ' ...', ada['url']))"
   ]
  },
  {
   "cell_type": "code",
   "execution_count": 9,
   "id": "specified-ordering",
   "metadata": {
    "execution": {
     "iopub.execute_input": "2022-06-22T03:09:31.661877Z",
     "iopub.status.busy": "2022-06-22T03:09:31.660727Z",
     "iopub.status.idle": "2022-06-22T03:09:31.665094Z",
     "shell.execute_reply": "2022-06-22T03:09:31.665846Z"
    },
    "papermill": {
     "duration": 0.023189,
     "end_time": "2022-06-22T03:09:31.666179",
     "exception": false,
     "start_time": "2022-06-22T03:09:31.642990",
     "status": "completed"
    },
    "tags": []
   },
   "outputs": [
    {
     "data": {
      "text/markdown": [
       "- The Projected Impact of FIFA World Cup Sponsorship by Crypto.com.  There are very few opportunities that can match the biggest event in the world’s most popular sport, football. Recent news on Crypto.com shows the firm has bagged the title of official sponsor of the 2022 FIFA world cup that will be hosted by Qatar. With a 4 billion strong fan base by 2020, what does the 2022 FIFA World Cup sponsorship mean for Crypto.com and the blockchain world? Read on. What is to be Expected of the Deal? Crypto.com’s official world cup sponsor status means the firm’s name will be a constant during the event. It will receive the most comprehensive package of global advertisement, marketing, and promotional rights for the Qatar 2022 games. The rights cover the FIFA world cup as well as the FIFA confederations cup, inclusive of the final competition itself. Crypto.com is a crypto exchange platform that supports a wide range of crypto-related activities. They include crypto trade, investments, staking, wallet services, and many others. Its ads running on such a global stage means many other third-party crypto firms that are its clients will benefit a lot. The Impact of FIFA Sponsorship Deal by Crypto.com The FIFA sponsorship deal will have a profound impact on Crypto.com and the crypto community as a whole in the following ways. 1. Universal Acknowledgement of Cryptos The first impact of crypto.com’s official FIFA sponsor status relates to crypto awareness. News about cryptos will have a larger footprint in ma... ... [| Skaityti daugiau](https://www.cryptoknowmics.com/news/impact-of-fifa-world-cup-sponsorship-by-crypto-com/?utm_source=rss&utm_medium=rss&utm_campaign=impact-of-fifa-world-cup-sponsorship-by-crypto-com) "
      ],
      "text/plain": [
       "<IPython.core.display.Markdown object>"
      ]
     },
     "execution_count": 9,
     "metadata": {},
     "output_type": "execute_result"
    }
   ],
   "source": [
    "#hide_input\n",
    "#md('##### {}'.format(titleBTC)) \n",
    "md(\"- {}{} {}{} [| Skaityti daugiau]({}) \".format(exchange['title'],'. ', exchange['body'], ' ...', exchange['url']))"
   ]
  },
  {
   "cell_type": "code",
   "execution_count": null,
   "id": "tender-livestock",
   "metadata": {
    "papermill": {
     "duration": 0.01462,
     "end_time": "2022-06-22T03:09:31.695787",
     "exception": false,
     "start_time": "2022-06-22T03:09:31.681167",
     "status": "completed"
    },
    "tags": []
   },
   "outputs": [],
   "source": []
  },
  {
   "cell_type": "code",
   "execution_count": null,
   "id": "appreciated-diamond",
   "metadata": {
    "papermill": {
     "duration": 0.014567,
     "end_time": "2022-06-22T03:09:31.725993",
     "exception": false,
     "start_time": "2022-06-22T03:09:31.711426",
     "status": "completed"
    },
    "tags": []
   },
   "outputs": [],
   "source": []
  },
  {
   "cell_type": "code",
   "execution_count": null,
   "id": "romance-sweden",
   "metadata": {
    "papermill": {
     "duration": 0.01473,
     "end_time": "2022-06-22T03:09:31.757071",
     "exception": false,
     "start_time": "2022-06-22T03:09:31.742341",
     "status": "completed"
    },
    "tags": []
   },
   "outputs": [],
   "source": []
  },
  {
   "cell_type": "code",
   "execution_count": null,
   "id": "dietary-statistics",
   "metadata": {
    "papermill": {
     "duration": 0.014422,
     "end_time": "2022-06-22T03:09:31.786828",
     "exception": false,
     "start_time": "2022-06-22T03:09:31.772406",
     "status": "completed"
    },
    "tags": []
   },
   "outputs": [],
   "source": []
  }
 ],
 "metadata": {
  "kernelspec": {
   "display_name": "Python 3",
   "language": "python",
   "name": "python3"
  },
  "language_info": {
   "codemirror_mode": {
    "name": "ipython",
    "version": 3
   },
   "file_extension": ".py",
   "mimetype": "text/x-python",
   "name": "python",
   "nbconvert_exporter": "python",
   "pygments_lexer": "ipython3",
   "version": "3.6.15"
  },
  "papermill": {
   "default_parameters": {},
   "duration": 15.58405,
   "end_time": "2022-06-22T03:09:32.324133",
   "environment_variables": {},
   "exception": null,
   "input_path": "Market-News.ipynb",
   "output_path": "Market-News.ipynb",
   "parameters": {},
   "start_time": "2022-06-22T03:09:16.740083",
   "version": "2.2.2"
  }
 },
 "nbformat": 4,
 "nbformat_minor": 5
}