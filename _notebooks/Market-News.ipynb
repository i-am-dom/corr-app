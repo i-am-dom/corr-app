{
 "cells": [
  {
   "cell_type": "markdown",
   "id": "short-greensboro",
   "metadata": {
    "papermill": {
     "duration": 0.018068,
     "end_time": "2022-03-14T02:16:51.258389",
     "exception": false,
     "start_time": "2022-03-14T02:16:51.240321",
     "status": "completed"
    },
    "tags": []
   },
   "source": [
    "# Kriptovaliutų naujienos"
   ]
  },
  {
   "cell_type": "code",
   "execution_count": 1,
   "id": "functioning-knowing",
   "metadata": {
    "execution": {
     "iopub.execute_input": "2022-03-14T02:16:51.295603Z",
     "iopub.status.busy": "2022-03-14T02:16:51.294905Z",
     "iopub.status.idle": "2022-03-14T02:16:52.956958Z",
     "shell.execute_reply": "2022-03-14T02:16:52.957505Z"
    },
    "papermill": {
     "duration": 1.68606,
     "end_time": "2022-03-14T02:16:52.957713",
     "exception": false,
     "start_time": "2022-03-14T02:16:51.271653",
     "status": "completed"
    },
    "tags": []
   },
   "outputs": [],
   "source": [
    "#hide_input\n",
    "import warnings\n",
    "warnings.filterwarnings('ignore')\n",
    "from scripts.read_data import read_api\n",
    "from scripts.read_data import read_news\n",
    "from scripts.read_data import read_covid\n",
    "import matplotlib.pyplot as plt \n",
    "from IPython.display import Markdown as md"
   ]
  },
  {
   "cell_type": "code",
   "execution_count": 2,
   "id": "shared-acceptance",
   "metadata": {
    "execution": {
     "iopub.execute_input": "2022-03-14T02:16:52.989688Z",
     "iopub.status.busy": "2022-03-14T02:16:52.988950Z",
     "iopub.status.idle": "2022-03-14T02:17:04.336449Z",
     "shell.execute_reply": "2022-03-14T02:17:04.337002Z"
    },
    "papermill": {
     "duration": 11.367501,
     "end_time": "2022-03-14T02:17:04.337183",
     "exception": false,
     "start_time": "2022-03-14T02:16:52.969682",
     "status": "completed"
    },
    "tags": []
   },
   "outputs": [],
   "source": [
    "#hide_input\n",
    "blockchain = read_news('blockchain') \n",
    "btc = read_news('btc') \n",
    "xrp = read_news('xrp') \n",
    "trx = read_news('trx') \n",
    "eth = read_news('eth')  \n",
    "ada = read_news('ada')\n",
    "exchange = read_news('exchange') "
   ]
  },
  {
   "cell_type": "code",
   "execution_count": 3,
   "id": "synthetic-notion",
   "metadata": {
    "execution": {
     "iopub.execute_input": "2022-03-14T02:17:04.368803Z",
     "iopub.status.busy": "2022-03-14T02:17:04.368141Z",
     "iopub.status.idle": "2022-03-14T02:17:04.373967Z",
     "shell.execute_reply": "2022-03-14T02:17:04.374515Z"
    },
    "papermill": {
     "duration": 0.025545,
     "end_time": "2022-03-14T02:17:04.374673",
     "exception": false,
     "start_time": "2022-03-14T02:17:04.349128",
     "status": "completed"
    },
    "tags": []
   },
   "outputs": [
    {
     "data": {
      "text/markdown": [
       "- Ravendex shoots up from $0.0036: RAVE traders need to HODL.  Ravendex price analysis for March 14, 2022, confirms that the RAVE token has turned slightly bullish following a surge in bullish volume and as a result, has shot past the $0.0036 price level. Now as noted in our RAVE price analysis for March 11, 2022, the nearest resistance for the token is near $0.004 which the [&#8230;]The post Ravendex shoots up from $0.0036: RAVE traders need to HODL appeared first on Blockchain, Crypto and Stock News. ... [| Skaityti daugiau](https://thecoinrise.com/ravendex-shoots-up-from-0-0036-rave-traders-need-to-hodl/) "
      ],
      "text/plain": [
       "<IPython.core.display.Markdown object>"
      ]
     },
     "execution_count": 3,
     "metadata": {},
     "output_type": "execute_result"
    }
   ],
   "source": [
    "#hide_input\n",
    "#md('##### {}'.format(titleBTC)) \n",
    "md(\"- {}{} {}{} [| Skaityti daugiau]({}) \".format(blockchain['title'],'. ', blockchain['body'], ' ...', blockchain['url']))"
   ]
  },
  {
   "cell_type": "code",
   "execution_count": 4,
   "id": "aging-caution",
   "metadata": {
    "execution": {
     "iopub.execute_input": "2022-03-14T02:17:04.404075Z",
     "iopub.status.busy": "2022-03-14T02:17:04.403386Z",
     "iopub.status.idle": "2022-03-14T02:17:04.409529Z",
     "shell.execute_reply": "2022-03-14T02:17:04.408936Z"
    },
    "papermill": {
     "duration": 0.023111,
     "end_time": "2022-03-14T02:17:04.409681",
     "exception": false,
     "start_time": "2022-03-14T02:17:04.386570",
     "status": "completed"
    },
    "tags": []
   },
   "outputs": [
    {
     "data": {
      "text/markdown": [
       "- Top 5 cryptocurrencies to watch this week: BTC, DOT, SAND, RUNE, ZEC.  BTC’s technical setup suggests a potential breakout to the upside and charts suggest DOT, SAND, RUNE and ZEC would be the first to benefit from any bullish price action. ... [| Skaityti daugiau](https://cointelegraph.com/news/top-5-cryptocurrencies-to-watch-this-week-btc-dot-sand-rune-zec) "
      ],
      "text/plain": [
       "<IPython.core.display.Markdown object>"
      ]
     },
     "execution_count": 4,
     "metadata": {},
     "output_type": "execute_result"
    }
   ],
   "source": [
    "#hide_input\n",
    "#md('##### {}'.format(titleBTC)) \n",
    "md(\"- {}{} {}{} [| Skaityti daugiau]({}) \".format(btc['title'],'. ', btc['body'], ' ...', btc['url']))"
   ]
  },
  {
   "cell_type": "code",
   "execution_count": 5,
   "id": "organic-actress",
   "metadata": {
    "execution": {
     "iopub.execute_input": "2022-03-14T02:17:04.440758Z",
     "iopub.status.busy": "2022-03-14T02:17:04.440082Z",
     "iopub.status.idle": "2022-03-14T02:17:04.445905Z",
     "shell.execute_reply": "2022-03-14T02:17:04.446457Z"
    },
    "papermill": {
     "duration": 0.024632,
     "end_time": "2022-03-14T02:17:04.446629",
     "exception": false,
     "start_time": "2022-03-14T02:17:04.421997",
     "status": "completed"
    },
    "tags": []
   },
   "outputs": [
    {
     "data": {
      "text/markdown": [
       "- XRP Price Might Plunge To $0.6 Level This Week! Is This the Beginning of Bear Market 2022?.  The post XRP Price Might Plunge To $0.6 Level This Week! Is This the Beginning of Bear Market 2022? appeared first on Coinpedia - Fintech &amp; Cryptocurreny News Media| Crypto GuideDuring the intraday session, Ripple&#8217;s XRP traded between $0.78 and $0.80, while the broader cryptocurrency market saw slight gains. In the previous seven days, the coin has gained 4% and is presently trading at $0.78.With the week ending March 13, XRP price fell again, increasing concerns that the coin could face another drop towards the &#8230; ... [| Skaityti daugiau](https://coinpedia.org/altcoin/xrp-price-might-plunge-to-0-6-level-this-week-is-this-the-beginning-of-bear-market-2022/) "
      ],
      "text/plain": [
       "<IPython.core.display.Markdown object>"
      ]
     },
     "execution_count": 5,
     "metadata": {},
     "output_type": "execute_result"
    }
   ],
   "source": [
    "#hide_input\n",
    "#md('##### {}'.format(titleBTC)) \n",
    "md(\"- {}{} {}{} [| Skaityti daugiau]({}) \".format(xrp['title'],'. ', xrp['body'], ' ...', xrp['url']))"
   ]
  },
  {
   "cell_type": "code",
   "execution_count": 6,
   "id": "prompt-farmer",
   "metadata": {
    "execution": {
     "iopub.execute_input": "2022-03-14T02:17:04.479162Z",
     "iopub.status.busy": "2022-03-14T02:17:04.478479Z",
     "iopub.status.idle": "2022-03-14T02:17:04.482949Z",
     "shell.execute_reply": "2022-03-14T02:17:04.481879Z"
    },
    "papermill": {
     "duration": 0.02305,
     "end_time": "2022-03-14T02:17:04.483094",
     "exception": false,
     "start_time": "2022-03-14T02:17:04.460044",
     "status": "completed"
    },
    "tags": []
   },
   "outputs": [
    {
     "data": {
      "text/markdown": [
       "- What SEC v. Ripple has in common with the allegations against Sun, TRON.  If TRON DAO &#8211; née TRON &#8211; wasn&#8217;t enough of a conversation starter, an investigative piece by journalist Chris Harland-Dunaway published in The Verge dropped a bomb. It accused Tron founder Justin Sun of actions ranging from getting ICO ban tip-offs to insider trading. In a conversation with journalist Laura Shin, Harland-Dunaway revealed more details [&#8230;] ... [| Skaityti daugiau](https://ambcrypto.com/what-sec-v-ripple-has-in-common-with-the-allegations-against-sun-tron/) "
      ],
      "text/plain": [
       "<IPython.core.display.Markdown object>"
      ]
     },
     "execution_count": 6,
     "metadata": {},
     "output_type": "execute_result"
    }
   ],
   "source": [
    "#hide_input\n",
    "#md('##### {}'.format(titleBTC)) \n",
    "md(\"- {}{} {}{} [| Skaityti daugiau]({}) \".format(trx['title'],'. ', trx['body'], ' ...', trx['url']))"
   ]
  },
  {
   "cell_type": "code",
   "execution_count": 7,
   "id": "illegal-greece",
   "metadata": {
    "execution": {
     "iopub.execute_input": "2022-03-14T02:17:04.515049Z",
     "iopub.status.busy": "2022-03-14T02:17:04.514379Z",
     "iopub.status.idle": "2022-03-14T02:17:04.518625Z",
     "shell.execute_reply": "2022-03-14T02:17:04.517817Z"
    },
    "papermill": {
     "duration": 0.02197,
     "end_time": "2022-03-14T02:17:04.518768",
     "exception": false,
     "start_time": "2022-03-14T02:17:04.496798",
     "status": "completed"
    },
    "tags": []
   },
   "outputs": [
    {
     "data": {
      "text/markdown": [
       "- Abra CEO Bullish on Ethereum, Predicts ETH Could Hit $40,000.  Abra&#x2019;s CEO has predicted that the price of ether could reach $40,000. He&#x2019;s more bullish on Ethereum than Bitcoin. &#x201C;The use cases are through the roof,&#x201D; said the executive. Abra&#x2019;s CEO Predicts Ethereum Price The CEO of crypto trading platform Abra, Bill Barhydt, shared his thoughts on why he is more bullish about Ethereum than [&#8230;] ... [| Skaityti daugiau](https://news.bitcoin.com/abra-ceo-bullish-ethereum-predicts-eth-could-hit-40000/) "
      ],
      "text/plain": [
       "<IPython.core.display.Markdown object>"
      ]
     },
     "execution_count": 7,
     "metadata": {},
     "output_type": "execute_result"
    }
   ],
   "source": [
    "#hide_input\n",
    "#md('##### {}'.format(titleBTC)) \n",
    "md(\"- {}{} {}{} [| Skaityti daugiau]({}) \".format(eth['title'],'. ', eth['body'], ' ...', eth['url']))"
   ]
  },
  {
   "cell_type": "code",
   "execution_count": 8,
   "id": "sublime-lounge",
   "metadata": {
    "execution": {
     "iopub.execute_input": "2022-03-14T02:17:04.554349Z",
     "iopub.status.busy": "2022-03-14T02:17:04.552089Z",
     "iopub.status.idle": "2022-03-14T02:17:04.556846Z",
     "shell.execute_reply": "2022-03-14T02:17:04.556272Z"
    },
    "papermill": {
     "duration": 0.025137,
     "end_time": "2022-03-14T02:17:04.556987",
     "exception": false,
     "start_time": "2022-03-14T02:17:04.531850",
     "status": "completed"
    },
    "tags": []
   },
   "outputs": [
    {
     "data": {
      "text/markdown": [
       "- Cardano ($ADA) Founder Explains Why ‘We Ain’t Seen Nothing Yet on TVL’.  On Saturday (March 12), Charles Hoskinson, who is Co-Founder and CEO of IO Global (aka “IOG”, formerly known as “IOHK”), the company responsible for Cardano’s research and development, talked about TVL in Cardano-powered DeFi protocols. Hoskinson’s comments came in response to an $ADA HODler’s tweet about the rapid growth in Cardano’s Total Value Locked (TVL), i.e. the […] ... [| Skaityti daugiau](https://www.cryptoglobe.com/latest/2022/03/cardano-ada-founder-explains-why-we-aint-seen-nothing-yet-on-tvl/) "
      ],
      "text/plain": [
       "<IPython.core.display.Markdown object>"
      ]
     },
     "execution_count": 8,
     "metadata": {},
     "output_type": "execute_result"
    }
   ],
   "source": [
    "#hide_input\n",
    "#md('##### {}'.format(titleBTC)) \n",
    "md(\"- {}{} {}{} [| Skaityti daugiau]({}) \".format(ada['title'],'. ', ada['body'], ' ...', ada['url']))"
   ]
  },
  {
   "cell_type": "code",
   "execution_count": 9,
   "id": "specified-ordering",
   "metadata": {
    "execution": {
     "iopub.execute_input": "2022-03-14T02:17:04.591149Z",
     "iopub.status.busy": "2022-03-14T02:17:04.590362Z",
     "iopub.status.idle": "2022-03-14T02:17:04.594509Z",
     "shell.execute_reply": "2022-03-14T02:17:04.593891Z"
    },
    "papermill": {
     "duration": 0.023655,
     "end_time": "2022-03-14T02:17:04.594647",
     "exception": false,
     "start_time": "2022-03-14T02:17:04.570992",
     "status": "completed"
    },
    "tags": []
   },
   "outputs": [
    {
     "data": {
      "text/markdown": [
       "- Binance Considers Obtaining a License to Operate in Dubai.  The world's leading cryptocurrency exchange is in talks of obtaining an operational license in Dubai. ... [| Skaityti daugiau](https://cryptopotato.com/binance-considers-obtaining-a-license-to-operate-in-dubai/) "
      ],
      "text/plain": [
       "<IPython.core.display.Markdown object>"
      ]
     },
     "execution_count": 9,
     "metadata": {},
     "output_type": "execute_result"
    }
   ],
   "source": [
    "#hide_input\n",
    "#md('##### {}'.format(titleBTC)) \n",
    "md(\"- {}{} {}{} [| Skaityti daugiau]({}) \".format(exchange['title'],'. ', exchange['body'], ' ...', exchange['url']))"
   ]
  },
  {
   "cell_type": "code",
   "execution_count": null,
   "id": "tender-livestock",
   "metadata": {
    "papermill": {
     "duration": 0.013865,
     "end_time": "2022-03-14T02:17:04.622364",
     "exception": false,
     "start_time": "2022-03-14T02:17:04.608499",
     "status": "completed"
    },
    "tags": []
   },
   "outputs": [],
   "source": []
  },
  {
   "cell_type": "code",
   "execution_count": null,
   "id": "appreciated-diamond",
   "metadata": {
    "papermill": {
     "duration": 0.017701,
     "end_time": "2022-03-14T02:17:04.654964",
     "exception": false,
     "start_time": "2022-03-14T02:17:04.637263",
     "status": "completed"
    },
    "tags": []
   },
   "outputs": [],
   "source": []
  },
  {
   "cell_type": "code",
   "execution_count": null,
   "id": "romance-sweden",
   "metadata": {
    "papermill": {
     "duration": 0.017105,
     "end_time": "2022-03-14T02:17:04.688996",
     "exception": false,
     "start_time": "2022-03-14T02:17:04.671891",
     "status": "completed"
    },
    "tags": []
   },
   "outputs": [],
   "source": []
  },
  {
   "cell_type": "code",
   "execution_count": null,
   "id": "dietary-statistics",
   "metadata": {
    "papermill": {
     "duration": 0.015208,
     "end_time": "2022-03-14T02:17:04.718780",
     "exception": false,
     "start_time": "2022-03-14T02:17:04.703572",
     "status": "completed"
    },
    "tags": []
   },
   "outputs": [],
   "source": []
  }
 ],
 "metadata": {
  "kernelspec": {
   "display_name": "Python 3",
   "language": "python",
   "name": "python3"
  },
  "language_info": {
   "codemirror_mode": {
    "name": "ipython",
    "version": 3
   },
   "file_extension": ".py",
   "mimetype": "text/x-python",
   "name": "python",
   "nbconvert_exporter": "python",
   "pygments_lexer": "ipython3",
   "version": "3.6.15"
  },
  "papermill": {
   "default_parameters": {},
   "duration": 15.3579,
   "end_time": "2022-03-14T02:17:05.254809",
   "environment_variables": {},
   "exception": null,
   "input_path": "Market-News.ipynb",
   "output_path": "Market-News.ipynb",
   "parameters": {},
   "start_time": "2022-03-14T02:16:49.896909",
   "version": "2.2.2"
  }
 },
 "nbformat": 4,
 "nbformat_minor": 5
}