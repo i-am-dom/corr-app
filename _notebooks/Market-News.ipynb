{
 "cells": [
  {
   "cell_type": "markdown",
   "id": "short-greensboro",
   "metadata": {
    "papermill": {
     "duration": 0.016937,
     "end_time": "2021-07-22T02:04:49.131695",
     "exception": false,
     "start_time": "2021-07-22T02:04:49.114758",
     "status": "completed"
    },
    "tags": []
   },
   "source": [
    "# Kriptovaliutų naujienos"
   ]
  },
  {
   "cell_type": "code",
   "execution_count": 1,
   "id": "functioning-knowing",
   "metadata": {
    "execution": {
     "iopub.execute_input": "2021-07-22T02:04:49.166329Z",
     "iopub.status.busy": "2021-07-22T02:04:49.165710Z",
     "iopub.status.idle": "2021-07-22T02:04:50.450646Z",
     "shell.execute_reply": "2021-07-22T02:04:50.450112Z"
    },
    "papermill": {
     "duration": 1.30855,
     "end_time": "2021-07-22T02:04:50.450793",
     "exception": false,
     "start_time": "2021-07-22T02:04:49.142243",
     "status": "completed"
    },
    "tags": []
   },
   "outputs": [],
   "source": [
    "#hide_input\n",
    "import warnings\n",
    "warnings.filterwarnings('ignore')\n",
    "from scripts.read_data import read_api\n",
    "from scripts.read_data import read_news\n",
    "from scripts.read_data import read_covid\n",
    "import matplotlib.pyplot as plt \n",
    "from IPython.display import Markdown as md"
   ]
  },
  {
   "cell_type": "code",
   "execution_count": 2,
   "id": "shared-acceptance",
   "metadata": {
    "execution": {
     "iopub.execute_input": "2021-07-22T02:04:50.480575Z",
     "iopub.status.busy": "2021-07-22T02:04:50.479974Z",
     "iopub.status.idle": "2021-07-22T02:05:00.160907Z",
     "shell.execute_reply": "2021-07-22T02:05:00.160359Z"
    },
    "papermill": {
     "duration": 9.700241,
     "end_time": "2021-07-22T02:05:00.161042",
     "exception": false,
     "start_time": "2021-07-22T02:04:50.460801",
     "status": "completed"
    },
    "tags": []
   },
   "outputs": [],
   "source": [
    "#hide_input\n",
    "blockchain = read_news('blockchain') \n",
    "btc = read_news('btc') \n",
    "xrp = read_news('xrp') \n",
    "trx = read_news('trx') \n",
    "eth = read_news('eth')  \n",
    "ada = read_news('ada')\n",
    "exchange = read_news('exchange') "
   ]
  },
  {
   "cell_type": "code",
   "execution_count": 3,
   "id": "synthetic-notion",
   "metadata": {
    "execution": {
     "iopub.execute_input": "2021-07-22T02:05:00.186885Z",
     "iopub.status.busy": "2021-07-22T02:05:00.186340Z",
     "iopub.status.idle": "2021-07-22T02:05:00.188896Z",
     "shell.execute_reply": "2021-07-22T02:05:00.189342Z"
    },
    "papermill": {
     "duration": 0.019199,
     "end_time": "2021-07-22T02:05:00.189519",
     "exception": false,
     "start_time": "2021-07-22T02:05:00.170320",
     "status": "completed"
    },
    "tags": []
   },
   "outputs": [
    {
     "data": {
      "text/markdown": [
       "- Inter Milan Announces Socios (Chiliz) As New Main Sponsor For 21/22 Season.  In a further sign of mainstream acceptance, Inter Milan has announced Socios, which operates on the Chiliz blockchain, as its new main shirt sponsor. This ends a 26-year partnership with outgoing main sponsor Pirelli. Part of the Socios deal will see the launch of the new fan token, $INTER. The club hopes this will boost [&#8230;] ... [| Skaityti daugiau](https://bitcoinist.com/inter-milan-announces-socios-chiliz-as-new-main-sponsor-for-21-22-season/?utm_source=rss&utm_medium=rss&utm_campaign=inter-milan-announces-socios-chiliz-as-new-main-sponsor-for-21-22-season) "
      ],
      "text/plain": [
       "<IPython.core.display.Markdown object>"
      ]
     },
     "execution_count": 3,
     "metadata": {},
     "output_type": "execute_result"
    }
   ],
   "source": [
    "#hide_input\n",
    "#md('##### {}'.format(titleBTC)) \n",
    "md(\"- {}{} {}{} [| Skaityti daugiau]({}) \".format(blockchain['title'],'. ', blockchain['body'], ' ...', blockchain['url']))"
   ]
  },
  {
   "cell_type": "code",
   "execution_count": 4,
   "id": "aging-caution",
   "metadata": {
    "execution": {
     "iopub.execute_input": "2021-07-22T02:05:00.213230Z",
     "iopub.status.busy": "2021-07-22T02:05:00.212674Z",
     "iopub.status.idle": "2021-07-22T02:05:00.215658Z",
     "shell.execute_reply": "2021-07-22T02:05:00.215157Z"
    },
    "papermill": {
     "duration": 0.01657,
     "end_time": "2021-07-22T02:05:00.215775",
     "exception": false,
     "start_time": "2021-07-22T02:05:00.199205",
     "status": "completed"
    },
    "tags": []
   },
   "outputs": [
    {
     "data": {
      "text/markdown": [
       "- SpaceX owns Bitcoin, Elon Musk and Nic Carter believe BTC is becoming greener.  Musk revealed that SpaceX owns Bitcoin and that Tesla may be close to accepting BTC payments again after looking into BTC’s sustainability.  ... [| Skaityti daugiau](https://cointelegraph.com/news/spacex-owns-bitcoin-elon-musk-and-nic-carter-believe-btc-is-becoming-greener) "
      ],
      "text/plain": [
       "<IPython.core.display.Markdown object>"
      ]
     },
     "execution_count": 4,
     "metadata": {},
     "output_type": "execute_result"
    }
   ],
   "source": [
    "#hide_input\n",
    "#md('##### {}'.format(titleBTC)) \n",
    "md(\"- {}{} {}{} [| Skaityti daugiau]({}) \".format(btc['title'],'. ', btc['body'], ' ...', btc['url']))"
   ]
  },
  {
   "cell_type": "code",
   "execution_count": 5,
   "id": "organic-actress",
   "metadata": {
    "execution": {
     "iopub.execute_input": "2021-07-22T02:05:00.240954Z",
     "iopub.status.busy": "2021-07-22T02:05:00.240244Z",
     "iopub.status.idle": "2021-07-22T02:05:00.242622Z",
     "shell.execute_reply": "2021-07-22T02:05:00.243116Z"
    },
    "papermill": {
     "duration": 0.017576,
     "end_time": "2021-07-22T02:05:00.243231",
     "exception": false,
     "start_time": "2021-07-22T02:05:00.225655",
     "status": "completed"
    },
    "tags": []
   },
   "outputs": [
    {
     "data": {
      "text/markdown": [
       "- XRP, IOTA, AAVE Price Analysis: 21 July.  XRP, IOTA, and AAVE&#8217;s market capitalizations increased over the last 24 hours on the back of the wider crypto-market&#8217;s uptrend. In fact, Aave has been among the market&#8217;s top gainers, with Dogecoin and MATIC being on the same list too. XRP noted the possibility of retracing higher with considerable buying pressure while IOTA pictured a [&#8230;] ... [| Skaityti daugiau](https://ambcrypto.com/xrp-iota-aave-price-analysis-21-july/) "
      ],
      "text/plain": [
       "<IPython.core.display.Markdown object>"
      ]
     },
     "execution_count": 5,
     "metadata": {},
     "output_type": "execute_result"
    }
   ],
   "source": [
    "#hide_input\n",
    "#md('##### {}'.format(titleBTC)) \n",
    "md(\"- {}{} {}{} [| Skaityti daugiau]({}) \".format(xrp['title'],'. ', xrp['body'], ' ...', xrp['url']))"
   ]
  },
  {
   "cell_type": "code",
   "execution_count": 6,
   "id": "prompt-farmer",
   "metadata": {
    "execution": {
     "iopub.execute_input": "2021-07-22T02:05:00.270256Z",
     "iopub.status.busy": "2021-07-22T02:05:00.269536Z",
     "iopub.status.idle": "2021-07-22T02:05:00.271839Z",
     "shell.execute_reply": "2021-07-22T02:05:00.272250Z"
    },
    "papermill": {
     "duration": 0.01845,
     "end_time": "2021-07-22T02:05:00.272363",
     "exception": false,
     "start_time": "2021-07-22T02:05:00.253913",
     "status": "completed"
    },
    "tags": []
   },
   "outputs": [
    {
     "data": {
      "text/markdown": [
       "- Chainlink, TRON, SUSHI Price Analysis: 21 July.  Quite a few major cryptocurrencies flashed signs of recovery after abruptly plummeting yesterday. In fact, some alts were trading in the green too. Trading volumes for most altcoins went up yesterday, a finding which confirmed panic selling. In the last few trading sessions before press time, however, LINK, TRX, and SUSHI each saw a decline [&#8230;] ... [| Skaityti daugiau](https://ambcrypto.com/chainlink-tron-sushi-price-analysis-21-july/) "
      ],
      "text/plain": [
       "<IPython.core.display.Markdown object>"
      ]
     },
     "execution_count": 6,
     "metadata": {},
     "output_type": "execute_result"
    }
   ],
   "source": [
    "#hide_input\n",
    "#md('##### {}'.format(titleBTC)) \n",
    "md(\"- {}{} {}{} [| Skaityti daugiau]({}) \".format(trx['title'],'. ', trx['body'], ' ...', trx['url']))"
   ]
  },
  {
   "cell_type": "code",
   "execution_count": 7,
   "id": "illegal-greece",
   "metadata": {
    "execution": {
     "iopub.execute_input": "2021-07-22T02:05:00.299772Z",
     "iopub.status.busy": "2021-07-22T02:05:00.299198Z",
     "iopub.status.idle": "2021-07-22T02:05:00.302036Z",
     "shell.execute_reply": "2021-07-22T02:05:00.301635Z"
    },
    "papermill": {
     "duration": 0.018862,
     "end_time": "2021-07-22T02:05:00.302125",
     "exception": false,
     "start_time": "2021-07-22T02:05:00.283263",
     "status": "completed"
    },
    "tags": []
   },
   "outputs": [
    {
     "data": {
      "text/markdown": [
       "- Vitalik Buterin Beseeches Ethereum Crowd in Paris to 'Move Beyond DeFi'.  The founder of Ethereum has high hopes for the network's uses for social good that go way beyond the fast financial gains of DeFi investing. ... [| Skaityti daugiau](https://decrypt.co/76545/vitalik-buterin-beseeches-ethcc-ethereum-crowd-move-beyond-defi) "
      ],
      "text/plain": [
       "<IPython.core.display.Markdown object>"
      ]
     },
     "execution_count": 7,
     "metadata": {},
     "output_type": "execute_result"
    }
   ],
   "source": [
    "#hide_input\n",
    "#md('##### {}'.format(titleBTC)) \n",
    "md(\"- {}{} {}{} [| Skaityti daugiau]({}) \".format(eth['title'],'. ', eth['body'], ' ...', eth['url']))"
   ]
  },
  {
   "cell_type": "code",
   "execution_count": 8,
   "id": "sublime-lounge",
   "metadata": {
    "execution": {
     "iopub.execute_input": "2021-07-22T02:05:00.330255Z",
     "iopub.status.busy": "2021-07-22T02:05:00.329667Z",
     "iopub.status.idle": "2021-07-22T02:05:00.333155Z",
     "shell.execute_reply": "2021-07-22T02:05:00.333720Z"
    },
    "papermill": {
     "duration": 0.020459,
     "end_time": "2021-07-22T02:05:00.333845",
     "exception": false,
     "start_time": "2021-07-22T02:05:00.313386",
     "status": "completed"
    },
    "tags": []
   },
   "outputs": [
    {
     "data": {
      "text/markdown": [
       "- Wait for this before getting into Cardano or Chainlink again.  Altcoins and their price movements are assumed to follow Bitcoin forever and ever. But somehow, despite the weak market cues and bearish Bitcoin movement, some altcoins seem to be charting their own path. 2 major altcoins, however, have silently prepared themselves for a major trend change on the charts. So, is this the perfect moment [&#8230;] ... [| Skaityti daugiau](https://ambcrypto.com/wait-for-this-before-getting-into-cardano-or-chainlink-again/) "
      ],
      "text/plain": [
       "<IPython.core.display.Markdown object>"
      ]
     },
     "execution_count": 8,
     "metadata": {},
     "output_type": "execute_result"
    }
   ],
   "source": [
    "#hide_input\n",
    "#md('##### {}'.format(titleBTC)) \n",
    "md(\"- {}{} {}{} [| Skaityti daugiau]({}) \".format(ada['title'],'. ', ada['body'], ' ...', ada['url']))"
   ]
  },
  {
   "cell_type": "code",
   "execution_count": 9,
   "id": "specified-ordering",
   "metadata": {
    "execution": {
     "iopub.execute_input": "2021-07-22T02:05:00.364664Z",
     "iopub.status.busy": "2021-07-22T02:05:00.364073Z",
     "iopub.status.idle": "2021-07-22T02:05:00.367210Z",
     "shell.execute_reply": "2021-07-22T02:05:00.366687Z"
    },
    "papermill": {
     "duration": 0.021147,
     "end_time": "2021-07-22T02:05:00.367326",
     "exception": false,
     "start_time": "2021-07-22T02:05:00.346179",
     "status": "completed"
    },
    "tags": []
   },
   "outputs": [
    {
     "data": {
      "text/markdown": [
       "- First Crypto Mining ETF Launched, How It Will Support Bitcoin Sustainability.  Fund manager Viridi Funds has launched the first focused Bitcoin crypto mining investment product. Called the Viridi Cleaner Energy Crypto Mining &#38; Semiconductor ETF (RIGZ), the product will be traded on the New York Stock Exchange (NYSE). Launched as an actively managed ETF, Viridi will invest in crypto mining companies and mining infrastructure industries, according [&#8230;] ... [| Skaityti daugiau](https://bitcoinist.com/first-crypto-mining-etf-launched-how-it-will-support-bitcoin-sustainability/?utm_source=rss&utm_medium=rss&utm_campaign=first-crypto-mining-etf-launched-how-it-will-support-bitcoin-sustainability) "
      ],
      "text/plain": [
       "<IPython.core.display.Markdown object>"
      ]
     },
     "execution_count": 9,
     "metadata": {},
     "output_type": "execute_result"
    }
   ],
   "source": [
    "#hide_input\n",
    "#md('##### {}'.format(titleBTC)) \n",
    "md(\"- {}{} {}{} [| Skaityti daugiau]({}) \".format(exchange['title'],'. ', exchange['body'], ' ...', exchange['url']))"
   ]
  },
  {
   "cell_type": "code",
   "execution_count": null,
   "id": "tender-livestock",
   "metadata": {
    "papermill": {
     "duration": 0.012111,
     "end_time": "2021-07-22T02:05:00.391799",
     "exception": false,
     "start_time": "2021-07-22T02:05:00.379688",
     "status": "completed"
    },
    "tags": []
   },
   "outputs": [],
   "source": []
  },
  {
   "cell_type": "code",
   "execution_count": null,
   "id": "appreciated-diamond",
   "metadata": {
    "papermill": {
     "duration": 0.012748,
     "end_time": "2021-07-22T02:05:00.416165",
     "exception": false,
     "start_time": "2021-07-22T02:05:00.403417",
     "status": "completed"
    },
    "tags": []
   },
   "outputs": [],
   "source": []
  },
  {
   "cell_type": "code",
   "execution_count": null,
   "id": "romance-sweden",
   "metadata": {
    "papermill": {
     "duration": 0.012407,
     "end_time": "2021-07-22T02:05:00.439711",
     "exception": false,
     "start_time": "2021-07-22T02:05:00.427304",
     "status": "completed"
    },
    "tags": []
   },
   "outputs": [],
   "source": []
  },
  {
   "cell_type": "code",
   "execution_count": null,
   "id": "dietary-statistics",
   "metadata": {
    "papermill": {
     "duration": 0.011832,
     "end_time": "2021-07-22T02:05:00.463326",
     "exception": false,
     "start_time": "2021-07-22T02:05:00.451494",
     "status": "completed"
    },
    "tags": []
   },
   "outputs": [],
   "source": []
  }
 ],
 "metadata": {
  "kernelspec": {
   "display_name": "Python 3",
   "language": "python",
   "name": "python3"
  },
  "language_info": {
   "codemirror_mode": {
    "name": "ipython",
    "version": 3
   },
   "file_extension": ".py",
   "mimetype": "text/x-python",
   "name": "python",
   "nbconvert_exporter": "python",
   "pygments_lexer": "ipython3",
   "version": "3.6.14"
  },
  "papermill": {
   "default_parameters": {},
   "duration": 12.956481,
   "end_time": "2021-07-22T02:05:00.884928",
   "environment_variables": {},
   "exception": null,
   "input_path": "Market-News.ipynb",
   "output_path": "Market-News.ipynb",
   "parameters": {},
   "start_time": "2021-07-22T02:04:47.928447",
   "version": "2.2.2"
  }
 },
 "nbformat": 4,
 "nbformat_minor": 5
}