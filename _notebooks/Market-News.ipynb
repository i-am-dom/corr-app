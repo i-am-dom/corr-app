{
 "cells": [
  {
   "cell_type": "markdown",
   "id": "short-greensboro",
   "metadata": {
    "papermill": {
     "duration": 0.016057,
     "end_time": "2022-05-31T03:02:27.153612",
     "exception": false,
     "start_time": "2022-05-31T03:02:27.137555",
     "status": "completed"
    },
    "tags": []
   },
   "source": [
    "# Kriptovaliutų naujienos"
   ]
  },
  {
   "cell_type": "code",
   "execution_count": 1,
   "id": "functioning-knowing",
   "metadata": {
    "execution": {
     "iopub.execute_input": "2022-05-31T03:02:27.192498Z",
     "iopub.status.busy": "2022-05-31T03:02:27.191251Z",
     "iopub.status.idle": "2022-05-31T03:02:28.565692Z",
     "shell.execute_reply": "2022-05-31T03:02:28.565048Z"
    },
    "papermill": {
     "duration": 1.401272,
     "end_time": "2022-05-31T03:02:28.565845",
     "exception": false,
     "start_time": "2022-05-31T03:02:27.164573",
     "status": "completed"
    },
    "tags": []
   },
   "outputs": [],
   "source": [
    "#hide_input\n",
    "import warnings\n",
    "warnings.filterwarnings('ignore')\n",
    "from scripts.read_data import read_api\n",
    "from scripts.read_data import read_news\n",
    "from scripts.read_data import read_covid\n",
    "import matplotlib.pyplot as plt \n",
    "from IPython.display import Markdown as md"
   ]
  },
  {
   "cell_type": "code",
   "execution_count": 2,
   "id": "shared-acceptance",
   "metadata": {
    "execution": {
     "iopub.execute_input": "2022-05-31T03:02:28.593352Z",
     "iopub.status.busy": "2022-05-31T03:02:28.592601Z",
     "iopub.status.idle": "2022-05-31T03:02:38.606184Z",
     "shell.execute_reply": "2022-05-31T03:02:38.605304Z"
    },
    "papermill": {
     "duration": 10.03008,
     "end_time": "2022-05-31T03:02:38.606334",
     "exception": false,
     "start_time": "2022-05-31T03:02:28.576254",
     "status": "completed"
    },
    "tags": []
   },
   "outputs": [],
   "source": [
    "#hide_input\n",
    "blockchain = read_news('blockchain') \n",
    "btc = read_news('btc') \n",
    "xrp = read_news('xrp') \n",
    "trx = read_news('trx') \n",
    "eth = read_news('eth')  \n",
    "ada = read_news('ada')\n",
    "exchange = read_news('exchange') "
   ]
  },
  {
   "cell_type": "code",
   "execution_count": 3,
   "id": "synthetic-notion",
   "metadata": {
    "execution": {
     "iopub.execute_input": "2022-05-31T03:02:38.637127Z",
     "iopub.status.busy": "2022-05-31T03:02:38.636173Z",
     "iopub.status.idle": "2022-05-31T03:02:38.640274Z",
     "shell.execute_reply": "2022-05-31T03:02:38.639758Z"
    },
    "papermill": {
     "duration": 0.022558,
     "end_time": "2022-05-31T03:02:38.640396",
     "exception": false,
     "start_time": "2022-05-31T03:02:38.617838",
     "status": "completed"
    },
    "tags": []
   },
   "outputs": [
    {
     "data": {
      "text/markdown": [
       "- Enjin [ENJ]: Ailing market condition but investors should know that the price….  With the promise of providing users with a simple way to manage their NFTs and cryptocurrency portfolios, Enjin claims to be building a product ecosystem directed at assisting humanity to create advanced virtual economies by leveraging the power of blockchain technology. Founded in 2009, the company currently has a total of 12.4 million worth of [&#8230;] ... [| Skaityti daugiau](https://ambcrypto.com/enjin-enj-ailing-market-condition-investors-should-know-that-the-price/) "
      ],
      "text/plain": [
       "<IPython.core.display.Markdown object>"
      ]
     },
     "execution_count": 3,
     "metadata": {},
     "output_type": "execute_result"
    }
   ],
   "source": [
    "#hide_input\n",
    "#md('##### {}'.format(titleBTC)) \n",
    "md(\"- {}{} {}{} [| Skaityti daugiau]({}) \".format(blockchain['title'],'. ', blockchain['body'], ' ...', blockchain['url']))"
   ]
  },
  {
   "cell_type": "code",
   "execution_count": 4,
   "id": "aging-caution",
   "metadata": {
    "execution": {
     "iopub.execute_input": "2022-05-31T03:02:38.666606Z",
     "iopub.status.busy": "2022-05-31T03:02:38.665887Z",
     "iopub.status.idle": "2022-05-31T03:02:38.669570Z",
     "shell.execute_reply": "2022-05-31T03:02:38.668909Z"
    },
    "papermill": {
     "duration": 0.018879,
     "end_time": "2022-05-31T03:02:38.669687",
     "exception": false,
     "start_time": "2022-05-31T03:02:38.650808",
     "status": "completed"
    },
    "tags": []
   },
   "outputs": [
    {
     "data": {
      "text/markdown": [
       "- Bitcoin, Ethereum, Zcash, and EOS Daily Price Analyses – 30 May Roundup.  The global crypto market has retained the influx of gains as the amount of gains added to it increased in value. The gains for Bitcoin and other major coins have continued, helping them revive after the long bearish trend. The positive changes in the market have helped these coins regain value, attracting further investments. The... ... [| Skaityti daugiau](https://www.cryptopolitan.com/bitcoin-ethereum-zcash-and-eos-daily-price-analyses-30-may-roundup/) "
      ],
      "text/plain": [
       "<IPython.core.display.Markdown object>"
      ]
     },
     "execution_count": 4,
     "metadata": {},
     "output_type": "execute_result"
    }
   ],
   "source": [
    "#hide_input\n",
    "#md('##### {}'.format(titleBTC)) \n",
    "md(\"- {}{} {}{} [| Skaityti daugiau]({}) \".format(btc['title'],'. ', btc['body'], ' ...', btc['url']))"
   ]
  },
  {
   "cell_type": "code",
   "execution_count": 5,
   "id": "organic-actress",
   "metadata": {
    "execution": {
     "iopub.execute_input": "2022-05-31T03:02:38.699643Z",
     "iopub.status.busy": "2022-05-31T03:02:38.698939Z",
     "iopub.status.idle": "2022-05-31T03:02:38.703746Z",
     "shell.execute_reply": "2022-05-31T03:02:38.704408Z"
    },
    "papermill": {
     "duration": 0.023861,
     "end_time": "2022-05-31T03:02:38.704540",
     "exception": false,
     "start_time": "2022-05-31T03:02:38.680679",
     "status": "completed"
    },
    "tags": []
   },
   "outputs": [
    {
     "data": {
      "text/markdown": [
       "- Price analysis 5/30: BTC, ETH, BNB, XRP, ADA, SOL, DOGE, DOT, AVAX, SHIB.  The elusive relief rally that BTC and ETH traders expected has arrived, but will the market sustain enough bullish momentum to catalyze a trend change?  ... [| Skaityti daugiau](https://cointelegraph.com/news/price-analysis-5-30-btc-eth-bnb-xrp-ada-sol-doge-dot-avax-shib) "
      ],
      "text/plain": [
       "<IPython.core.display.Markdown object>"
      ]
     },
     "execution_count": 5,
     "metadata": {},
     "output_type": "execute_result"
    }
   ],
   "source": [
    "#hide_input\n",
    "#md('##### {}'.format(titleBTC)) \n",
    "md(\"- {}{} {}{} [| Skaityti daugiau]({}) \".format(xrp['title'],'. ', xrp['body'], ' ...', xrp['url']))"
   ]
  },
  {
   "cell_type": "code",
   "execution_count": 6,
   "id": "prompt-farmer",
   "metadata": {
    "execution": {
     "iopub.execute_input": "2022-05-31T03:02:38.731839Z",
     "iopub.status.busy": "2022-05-31T03:02:38.731186Z",
     "iopub.status.idle": "2022-05-31T03:02:38.735257Z",
     "shell.execute_reply": "2022-05-31T03:02:38.734718Z"
    },
    "papermill": {
     "duration": 0.019785,
     "end_time": "2022-05-31T03:02:38.735369",
     "exception": false,
     "start_time": "2022-05-31T03:02:38.715584",
     "status": "completed"
    },
    "tags": []
   },
   "outputs": [
    {
     "data": {
      "text/markdown": [
       "- This Is Why TRON (TRX) Is May’s Best Performing Tokens.￼.  The post This Is Why TRON (TRX) Is May’s Best Performing Tokens.￼ appeared first on Coinpedia - Fintech &amp; Cryptocurreny News Media| Crypto GuideDespite the current market crisis, the TRON chain and its native coin TRX have outperformed the main cryptocurrencies. TRON&#8217;s stablecoin USDD success is majorly based on Tron&#8217;s total value locked (TVL). TRX has increased by roughly 30% in the last 30 days, much surpassing the general decrease in the crypto market. It has a market &#8230; ... [| Skaityti daugiau](https://coinpedia.org/altcoin/this-is-why-tron-trx-is-mays-best-performing-tokens-%ef%bf%bc/) "
      ],
      "text/plain": [
       "<IPython.core.display.Markdown object>"
      ]
     },
     "execution_count": 6,
     "metadata": {},
     "output_type": "execute_result"
    }
   ],
   "source": [
    "#hide_input\n",
    "#md('##### {}'.format(titleBTC)) \n",
    "md(\"- {}{} {}{} [| Skaityti daugiau]({}) \".format(trx['title'],'. ', trx['body'], ' ...', trx['url']))"
   ]
  },
  {
   "cell_type": "code",
   "execution_count": 7,
   "id": "illegal-greece",
   "metadata": {
    "execution": {
     "iopub.execute_input": "2022-05-31T03:02:38.764811Z",
     "iopub.status.busy": "2022-05-31T03:02:38.763857Z",
     "iopub.status.idle": "2022-05-31T03:02:38.767256Z",
     "shell.execute_reply": "2022-05-31T03:02:38.767962Z"
    },
    "papermill": {
     "duration": 0.021224,
     "end_time": "2022-05-31T03:02:38.768134",
     "exception": false,
     "start_time": "2022-05-31T03:02:38.746910",
     "status": "completed"
    },
    "tags": []
   },
   "outputs": [
    {
     "data": {
      "text/markdown": [
       "- Bitcoin, Ethereum, Zcash, and EOS Daily Price Analyses – 30 May Roundup.  The global crypto market has retained the influx of gains as the amount of gains added to it increased in value. The gains for Bitcoin and other major coins have continued, helping them revive after the long bearish trend. The positive changes in the market have helped these coins regain value, attracting further investments. The... ... [| Skaityti daugiau](https://www.cryptopolitan.com/bitcoin-ethereum-zcash-and-eos-daily-price-analyses-30-may-roundup/) "
      ],
      "text/plain": [
       "<IPython.core.display.Markdown object>"
      ]
     },
     "execution_count": 7,
     "metadata": {},
     "output_type": "execute_result"
    }
   ],
   "source": [
    "#hide_input\n",
    "#md('##### {}'.format(titleBTC)) \n",
    "md(\"- {}{} {}{} [| Skaityti daugiau]({}) \".format(eth['title'],'. ', eth['body'], ' ...', eth['url']))"
   ]
  },
  {
   "cell_type": "code",
   "execution_count": 8,
   "id": "sublime-lounge",
   "metadata": {
    "execution": {
     "iopub.execute_input": "2022-05-31T03:02:38.799954Z",
     "iopub.status.busy": "2022-05-31T03:02:38.798211Z",
     "iopub.status.idle": "2022-05-31T03:02:38.803477Z",
     "shell.execute_reply": "2022-05-31T03:02:38.802929Z"
    },
    "papermill": {
     "duration": 0.022007,
     "end_time": "2022-05-31T03:02:38.803583",
     "exception": false,
     "start_time": "2022-05-31T03:02:38.781576",
     "status": "completed"
    },
    "tags": []
   },
   "outputs": [
    {
     "data": {
      "text/markdown": [
       "- $ADA: Over 5 Million Native Assets Have Been Minted on Cardano.  Over 5 million native assets have been minted on top of the Cardano ($ADA) blockchain, doubling the figure seen at the end of last year. The Cardano network, it’s worth noting, started accommodating these assets on March 1. According to data from pool.pm, there are now 5.01 million native assets on Cardano deployed across over […] ... [| Skaityti daugiau](https://www.cryptoglobe.com/latest/2022/05/ada-over-5-million-native-assets-have-been-minted-on-cardano/) "
      ],
      "text/plain": [
       "<IPython.core.display.Markdown object>"
      ]
     },
     "execution_count": 8,
     "metadata": {},
     "output_type": "execute_result"
    }
   ],
   "source": [
    "#hide_input\n",
    "#md('##### {}'.format(titleBTC)) \n",
    "md(\"- {}{} {}{} [| Skaityti daugiau]({}) \".format(ada['title'],'. ', ada['body'], ' ...', ada['url']))"
   ]
  },
  {
   "cell_type": "code",
   "execution_count": 9,
   "id": "specified-ordering",
   "metadata": {
    "execution": {
     "iopub.execute_input": "2022-05-31T03:02:38.832079Z",
     "iopub.status.busy": "2022-05-31T03:02:38.831115Z",
     "iopub.status.idle": "2022-05-31T03:02:38.835880Z",
     "shell.execute_reply": "2022-05-31T03:02:38.835340Z"
    },
    "papermill": {
     "duration": 0.020393,
     "end_time": "2022-05-31T03:02:38.835991",
     "exception": false,
     "start_time": "2022-05-31T03:02:38.815598",
     "status": "completed"
    },
    "tags": []
   },
   "outputs": [
    {
     "data": {
      "text/markdown": [
       "- Arweave (AR) Price Prediction 2022-2030: Is AR a Good Investment?.  Arweave recently announced the release of a DEX platform known as Permaswap. The platform was built on Arweave with cross-chain capabilities while also being feeless. Permaswap is also a P2P exchange built on Arweave with 0% slippage. Again, Permaswap&#8217;s primary goal is to offer a decentralized exchange service for the Arweave ecosystem and activate the... ... [| Skaityti daugiau](https://www.cryptopolitan.com/arweave-price-prediction/) "
      ],
      "text/plain": [
       "<IPython.core.display.Markdown object>"
      ]
     },
     "execution_count": 9,
     "metadata": {},
     "output_type": "execute_result"
    }
   ],
   "source": [
    "#hide_input\n",
    "#md('##### {}'.format(titleBTC)) \n",
    "md(\"- {}{} {}{} [| Skaityti daugiau]({}) \".format(exchange['title'],'. ', exchange['body'], ' ...', exchange['url']))"
   ]
  },
  {
   "cell_type": "code",
   "execution_count": null,
   "id": "tender-livestock",
   "metadata": {
    "papermill": {
     "duration": 0.012242,
     "end_time": "2022-05-31T03:02:38.860914",
     "exception": false,
     "start_time": "2022-05-31T03:02:38.848672",
     "status": "completed"
    },
    "tags": []
   },
   "outputs": [],
   "source": []
  },
  {
   "cell_type": "code",
   "execution_count": null,
   "id": "appreciated-diamond",
   "metadata": {
    "papermill": {
     "duration": 0.012583,
     "end_time": "2022-05-31T03:02:38.886453",
     "exception": false,
     "start_time": "2022-05-31T03:02:38.873870",
     "status": "completed"
    },
    "tags": []
   },
   "outputs": [],
   "source": []
  },
  {
   "cell_type": "code",
   "execution_count": null,
   "id": "romance-sweden",
   "metadata": {
    "papermill": {
     "duration": 0.012554,
     "end_time": "2022-05-31T03:02:38.911587",
     "exception": false,
     "start_time": "2022-05-31T03:02:38.899033",
     "status": "completed"
    },
    "tags": []
   },
   "outputs": [],
   "source": []
  },
  {
   "cell_type": "code",
   "execution_count": null,
   "id": "dietary-statistics",
   "metadata": {
    "papermill": {
     "duration": 0.012473,
     "end_time": "2022-05-31T03:02:38.936723",
     "exception": false,
     "start_time": "2022-05-31T03:02:38.924250",
     "status": "completed"
    },
    "tags": []
   },
   "outputs": [],
   "source": []
  }
 ],
 "metadata": {
  "kernelspec": {
   "display_name": "Python 3",
   "language": "python",
   "name": "python3"
  },
  "language_info": {
   "codemirror_mode": {
    "name": "ipython",
    "version": 3
   },
   "file_extension": ".py",
   "mimetype": "text/x-python",
   "name": "python",
   "nbconvert_exporter": "python",
   "pygments_lexer": "ipython3",
   "version": "3.6.15"
  },
  "papermill": {
   "default_parameters": {},
   "duration": 13.498768,
   "end_time": "2022-05-31T03:02:39.370487",
   "environment_variables": {},
   "exception": null,
   "input_path": "Market-News.ipynb",
   "output_path": "Market-News.ipynb",
   "parameters": {},
   "start_time": "2022-05-31T03:02:25.871719",
   "version": "2.2.2"
  }
 },
 "nbformat": 4,
 "nbformat_minor": 5
}