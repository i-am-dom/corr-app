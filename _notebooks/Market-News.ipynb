{
 "cells": [
  {
   "cell_type": "markdown",
   "id": "short-greensboro",
   "metadata": {
    "papermill": {
     "duration": 0.016969,
     "end_time": "2022-07-08T03:14:09.749231",
     "exception": false,
     "start_time": "2022-07-08T03:14:09.732262",
     "status": "completed"
    },
    "tags": []
   },
   "source": [
    "# Kriptovaliutų naujienos"
   ]
  },
  {
   "cell_type": "code",
   "execution_count": 1,
   "id": "functioning-knowing",
   "metadata": {
    "execution": {
     "iopub.execute_input": "2022-07-08T03:14:09.786013Z",
     "iopub.status.busy": "2022-07-08T03:14:09.784717Z",
     "iopub.status.idle": "2022-07-08T03:14:11.178487Z",
     "shell.execute_reply": "2022-07-08T03:14:11.177886Z"
    },
    "papermill": {
     "duration": 1.4175,
     "end_time": "2022-07-08T03:14:11.178659",
     "exception": false,
     "start_time": "2022-07-08T03:14:09.761159",
     "status": "completed"
    },
    "tags": []
   },
   "outputs": [],
   "source": [
    "#hide_input\n",
    "import warnings\n",
    "warnings.filterwarnings('ignore')\n",
    "from scripts.read_data import read_api\n",
    "from scripts.read_data import read_news\n",
    "from scripts.read_data import read_covid\n",
    "import matplotlib.pyplot as plt \n",
    "from IPython.display import Markdown as md"
   ]
  },
  {
   "cell_type": "code",
   "execution_count": 2,
   "id": "shared-acceptance",
   "metadata": {
    "execution": {
     "iopub.execute_input": "2022-07-08T03:14:11.211124Z",
     "iopub.status.busy": "2022-07-08T03:14:11.209984Z",
     "iopub.status.idle": "2022-07-08T03:14:22.908274Z",
     "shell.execute_reply": "2022-07-08T03:14:22.907016Z"
    },
    "papermill": {
     "duration": 11.719192,
     "end_time": "2022-07-08T03:14:22.908447",
     "exception": false,
     "start_time": "2022-07-08T03:14:11.189255",
     "status": "completed"
    },
    "tags": []
   },
   "outputs": [],
   "source": [
    "#hide_input\n",
    "blockchain = read_news('blockchain') \n",
    "btc = read_news('btc') \n",
    "xrp = read_news('xrp') \n",
    "trx = read_news('trx') \n",
    "eth = read_news('eth')  \n",
    "ada = read_news('ada')\n",
    "exchange = read_news('exchange') "
   ]
  },
  {
   "cell_type": "code",
   "execution_count": 3,
   "id": "synthetic-notion",
   "metadata": {
    "execution": {
     "iopub.execute_input": "2022-07-08T03:14:22.936577Z",
     "iopub.status.busy": "2022-07-08T03:14:22.935895Z",
     "iopub.status.idle": "2022-07-08T03:14:22.939116Z",
     "shell.execute_reply": "2022-07-08T03:14:22.939603Z"
    },
    "papermill": {
     "duration": 0.020704,
     "end_time": "2022-07-08T03:14:22.939747",
     "exception": false,
     "start_time": "2022-07-08T03:14:22.919043",
     "status": "completed"
    },
    "tags": []
   },
   "outputs": [
    {
     "data": {
      "text/markdown": [
       "- Riot Blockchain Saw a 73% YoY Increase of BTC Production in June.  The firm reported a significant increase in its production in June 2022 compared to June last year and began the transition of its miners to Texas. ... [| Skaityti daugiau](https://cryptopotato.com/riot-blockchain-saw-a-73-yoy-increase-of-btc-production-in-june/) "
      ],
      "text/plain": [
       "<IPython.core.display.Markdown object>"
      ]
     },
     "execution_count": 3,
     "metadata": {},
     "output_type": "execute_result"
    }
   ],
   "source": [
    "#hide_input\n",
    "#md('##### {}'.format(titleBTC)) \n",
    "md(\"- {}{} {}{} [| Skaityti daugiau]({}) \".format(blockchain['title'],'. ', blockchain['body'], ' ...', blockchain['url']))"
   ]
  },
  {
   "cell_type": "code",
   "execution_count": 4,
   "id": "aging-caution",
   "metadata": {
    "execution": {
     "iopub.execute_input": "2022-07-08T03:14:22.964060Z",
     "iopub.status.busy": "2022-07-08T03:14:22.963390Z",
     "iopub.status.idle": "2022-07-08T03:14:22.969795Z",
     "shell.execute_reply": "2022-07-08T03:14:22.969252Z"
    },
    "papermill": {
     "duration": 0.019764,
     "end_time": "2022-07-08T03:14:22.969906",
     "exception": false,
     "start_time": "2022-07-08T03:14:22.950142",
     "status": "completed"
    },
    "tags": []
   },
   "outputs": [
    {
     "data": {
      "text/markdown": [
       "- Bitcoin, Ethereum, Cardano, and Tron Daily Price Analyses – 7 July Roundup.  The performance of the global crypto market has shown bullishness as the influx of capital continues. The positive changes for Bitcoin, Ethereum, and others have continued unaffected, strengthening the market. As the influx has continued unimpeded, there has been an enhancement in the global market cap value. The bullish wave came after a bearish current... ... [| Skaityti daugiau](https://www.cryptopolitan.com/bitcoin-ethereum-cardano-and-tron-daily-price-analyses-7-july-roundup/) "
      ],
      "text/plain": [
       "<IPython.core.display.Markdown object>"
      ]
     },
     "execution_count": 4,
     "metadata": {},
     "output_type": "execute_result"
    }
   ],
   "source": [
    "#hide_input\n",
    "#md('##### {}'.format(titleBTC)) \n",
    "md(\"- {}{} {}{} [| Skaityti daugiau]({}) \".format(btc['title'],'. ', btc['body'], ' ...', btc['url']))"
   ]
  },
  {
   "cell_type": "code",
   "execution_count": 5,
   "id": "organic-actress",
   "metadata": {
    "execution": {
     "iopub.execute_input": "2022-07-08T03:14:22.997013Z",
     "iopub.status.busy": "2022-07-08T03:14:22.996018Z",
     "iopub.status.idle": "2022-07-08T03:14:23.000270Z",
     "shell.execute_reply": "2022-07-08T03:14:23.000820Z"
    },
    "papermill": {
     "duration": 0.019312,
     "end_time": "2022-07-08T03:14:23.000981",
     "exception": false,
     "start_time": "2022-07-08T03:14:22.981669",
     "status": "completed"
    },
    "tags": []
   },
   "outputs": [
    {
     "data": {
      "text/markdown": [
       "- Court Rejects Ripple’s Request To Add Two Attorneys in SEC Lawsuit.  Crucial decision on the Hinman emails would be made this week. The SEC seeks to exclude evidence from ten experts. ... [| Skaityti daugiau](https://thenewscrypto.com/court-rejects-ripples-request-to-add-two-attorneys-in-sec-lawsuit/) "
      ],
      "text/plain": [
       "<IPython.core.display.Markdown object>"
      ]
     },
     "execution_count": 5,
     "metadata": {},
     "output_type": "execute_result"
    }
   ],
   "source": [
    "#hide_input\n",
    "#md('##### {}'.format(titleBTC)) \n",
    "md(\"- {}{} {}{} [| Skaityti daugiau]({}) \".format(xrp['title'],'. ', xrp['body'], ' ...', xrp['url']))"
   ]
  },
  {
   "cell_type": "code",
   "execution_count": 6,
   "id": "prompt-farmer",
   "metadata": {
    "execution": {
     "iopub.execute_input": "2022-07-08T03:14:23.028426Z",
     "iopub.status.busy": "2022-07-08T03:14:23.027222Z",
     "iopub.status.idle": "2022-07-08T03:14:23.032254Z",
     "shell.execute_reply": "2022-07-08T03:14:23.031579Z"
    },
    "papermill": {
     "duration": 0.020206,
     "end_time": "2022-07-08T03:14:23.032373",
     "exception": false,
     "start_time": "2022-07-08T03:14:23.012167",
     "status": "completed"
    },
    "tags": []
   },
   "outputs": [
    {
     "data": {
      "text/markdown": [
       "- Tron: How TRX traders can leverage these two opportunities to their benefit.  Disclaimer: The findings of the following analysis are the sole opinions of the writer and should not be considered investment advice. After maintaining a position above the 20/50 EMA for a few days, the bulls have ensured immediate support near the 38.2% Fibonacci support. The decline from the $0.069-level reignited the bearish efforts in pulling [&#8230;] ... [| Skaityti daugiau](https://ambcrypto.com/tron-how-trx-traders-can-leverage-these-two-opportunities-to-their-benefit/) "
      ],
      "text/plain": [
       "<IPython.core.display.Markdown object>"
      ]
     },
     "execution_count": 6,
     "metadata": {},
     "output_type": "execute_result"
    }
   ],
   "source": [
    "#hide_input\n",
    "#md('##### {}'.format(titleBTC)) \n",
    "md(\"- {}{} {}{} [| Skaityti daugiau]({}) \".format(trx['title'],'. ', trx['body'], ' ...', trx['url']))"
   ]
  },
  {
   "cell_type": "code",
   "execution_count": 7,
   "id": "illegal-greece",
   "metadata": {
    "execution": {
     "iopub.execute_input": "2022-07-08T03:14:23.062182Z",
     "iopub.status.busy": "2022-07-08T03:14:23.061262Z",
     "iopub.status.idle": "2022-07-08T03:14:23.064625Z",
     "shell.execute_reply": "2022-07-08T03:14:23.065368Z"
    },
    "papermill": {
     "duration": 0.021422,
     "end_time": "2022-07-08T03:14:23.065547",
     "exception": false,
     "start_time": "2022-07-08T03:14:23.044125",
     "status": "completed"
    },
    "tags": []
   },
   "outputs": [
    {
     "data": {
      "text/markdown": [
       "- Bitcoin, Ethereum, Cardano, and Tron Daily Price Analyses – 7 July Roundup.  The performance of the global crypto market has shown bullishness as the influx of capital continues. The positive changes for Bitcoin, Ethereum, and others have continued unaffected, strengthening the market. As the influx has continued unimpeded, there has been an enhancement in the global market cap value. The bullish wave came after a bearish current... ... [| Skaityti daugiau](https://www.cryptopolitan.com/bitcoin-ethereum-cardano-and-tron-daily-price-analyses-7-july-roundup/) "
      ],
      "text/plain": [
       "<IPython.core.display.Markdown object>"
      ]
     },
     "execution_count": 7,
     "metadata": {},
     "output_type": "execute_result"
    }
   ],
   "source": [
    "#hide_input\n",
    "#md('##### {}'.format(titleBTC)) \n",
    "md(\"- {}{} {}{} [| Skaityti daugiau]({}) \".format(eth['title'],'. ', eth['body'], ' ...', eth['url']))"
   ]
  },
  {
   "cell_type": "code",
   "execution_count": 8,
   "id": "sublime-lounge",
   "metadata": {
    "execution": {
     "iopub.execute_input": "2022-07-08T03:14:23.101864Z",
     "iopub.status.busy": "2022-07-08T03:14:23.100218Z",
     "iopub.status.idle": "2022-07-08T03:14:23.106167Z",
     "shell.execute_reply": "2022-07-08T03:14:23.105394Z"
    },
    "papermill": {
     "duration": 0.026306,
     "end_time": "2022-07-08T03:14:23.106286",
     "exception": false,
     "start_time": "2022-07-08T03:14:23.079980",
     "status": "completed"
    },
    "tags": []
   },
   "outputs": [
    {
     "data": {
      "text/markdown": [
       "- Bitcoin, Ethereum, Cardano, and Tron Daily Price Analyses – 7 July Roundup.  The performance of the global crypto market has shown bullishness as the influx of capital continues. The positive changes for Bitcoin, Ethereum, and others have continued unaffected, strengthening the market. As the influx has continued unimpeded, there has been an enhancement in the global market cap value. The bullish wave came after a bearish current... ... [| Skaityti daugiau](https://www.cryptopolitan.com/bitcoin-ethereum-cardano-and-tron-daily-price-analyses-7-july-roundup/) "
      ],
      "text/plain": [
       "<IPython.core.display.Markdown object>"
      ]
     },
     "execution_count": 8,
     "metadata": {},
     "output_type": "execute_result"
    }
   ],
   "source": [
    "#hide_input\n",
    "#md('##### {}'.format(titleBTC)) \n",
    "md(\"- {}{} {}{} [| Skaityti daugiau]({}) \".format(ada['title'],'. ', ada['body'], ' ...', ada['url']))"
   ]
  },
  {
   "cell_type": "code",
   "execution_count": 9,
   "id": "specified-ordering",
   "metadata": {
    "execution": {
     "iopub.execute_input": "2022-07-08T03:14:23.135852Z",
     "iopub.status.busy": "2022-07-08T03:14:23.135181Z",
     "iopub.status.idle": "2022-07-08T03:14:23.138834Z",
     "shell.execute_reply": "2022-07-08T03:14:23.139380Z"
    },
    "papermill": {
     "duration": 0.021086,
     "end_time": "2022-07-08T03:14:23.139510",
     "exception": false,
     "start_time": "2022-07-08T03:14:23.118424",
     "status": "completed"
    },
    "tags": []
   },
   "outputs": [
    {
     "data": {
      "text/markdown": [
       "- Binance resumes withdrawals and deposits in Brazilian Reais.  Binance announced on Thursday that it has resumed deposits and withdrawals for Brazilian customers. ... [| Skaityti daugiau](https://www.theblock.co/post/156492/binance-resumes-withdrawals-and-deposits-in-brazilian-reais?utm_source=cryptocompare&utm_medium=rss) "
      ],
      "text/plain": [
       "<IPython.core.display.Markdown object>"
      ]
     },
     "execution_count": 9,
     "metadata": {},
     "output_type": "execute_result"
    }
   ],
   "source": [
    "#hide_input\n",
    "#md('##### {}'.format(titleBTC)) \n",
    "md(\"- {}{} {}{} [| Skaityti daugiau]({}) \".format(exchange['title'],'. ', exchange['body'], ' ...', exchange['url']))"
   ]
  },
  {
   "cell_type": "code",
   "execution_count": null,
   "id": "tender-livestock",
   "metadata": {
    "papermill": {
     "duration": 0.012721,
     "end_time": "2022-07-08T03:14:23.164918",
     "exception": false,
     "start_time": "2022-07-08T03:14:23.152197",
     "status": "completed"
    },
    "tags": []
   },
   "outputs": [],
   "source": []
  },
  {
   "cell_type": "code",
   "execution_count": null,
   "id": "appreciated-diamond",
   "metadata": {
    "papermill": {
     "duration": 0.012507,
     "end_time": "2022-07-08T03:14:23.189523",
     "exception": false,
     "start_time": "2022-07-08T03:14:23.177016",
     "status": "completed"
    },
    "tags": []
   },
   "outputs": [],
   "source": []
  },
  {
   "cell_type": "code",
   "execution_count": null,
   "id": "romance-sweden",
   "metadata": {
    "papermill": {
     "duration": 0.01213,
     "end_time": "2022-07-08T03:14:23.213972",
     "exception": false,
     "start_time": "2022-07-08T03:14:23.201842",
     "status": "completed"
    },
    "tags": []
   },
   "outputs": [],
   "source": []
  },
  {
   "cell_type": "code",
   "execution_count": null,
   "id": "dietary-statistics",
   "metadata": {
    "papermill": {
     "duration": 0.012285,
     "end_time": "2022-07-08T03:14:23.238894",
     "exception": false,
     "start_time": "2022-07-08T03:14:23.226609",
     "status": "completed"
    },
    "tags": []
   },
   "outputs": [],
   "source": []
  }
 ],
 "metadata": {
  "kernelspec": {
   "display_name": "Python 3",
   "language": "python",
   "name": "python3"
  },
  "language_info": {
   "codemirror_mode": {
    "name": "ipython",
    "version": 3
   },
   "file_extension": ".py",
   "mimetype": "text/x-python",
   "name": "python",
   "nbconvert_exporter": "python",
   "pygments_lexer": "ipython3",
   "version": "3.6.15"
  },
  "papermill": {
   "default_parameters": {},
   "duration": 15.214706,
   "end_time": "2022-07-08T03:14:23.671834",
   "environment_variables": {},
   "exception": null,
   "input_path": "Market-News.ipynb",
   "output_path": "Market-News.ipynb",
   "parameters": {},
   "start_time": "2022-07-08T03:14:08.457128",
   "version": "2.2.2"
  }
 },
 "nbformat": 4,
 "nbformat_minor": 5
}