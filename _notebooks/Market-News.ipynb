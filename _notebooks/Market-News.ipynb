{
 "cells": [
  {
   "cell_type": "markdown",
   "id": "short-greensboro",
   "metadata": {
    "papermill": {
     "duration": 0.01439,
     "end_time": "2022-11-02T03:25:16.109952",
     "exception": false,
     "start_time": "2022-11-02T03:25:16.095562",
     "status": "completed"
    },
    "tags": []
   },
   "source": [
    "# Kriptovaliutų naujienos"
   ]
  },
  {
   "cell_type": "code",
   "execution_count": 1,
   "id": "functioning-knowing",
   "metadata": {
    "execution": {
     "iopub.execute_input": "2022-11-02T03:25:16.144251Z",
     "iopub.status.busy": "2022-11-02T03:25:16.143543Z",
     "iopub.status.idle": "2022-11-02T03:25:17.560999Z",
     "shell.execute_reply": "2022-11-02T03:25:17.560087Z"
    },
    "papermill": {
     "duration": 1.440295,
     "end_time": "2022-11-02T03:25:17.561161",
     "exception": false,
     "start_time": "2022-11-02T03:25:16.120866",
     "status": "completed"
    },
    "tags": []
   },
   "outputs": [],
   "source": [
    "#hide_input\n",
    "import warnings\n",
    "warnings.filterwarnings('ignore')\n",
    "from scripts.read_data import read_api\n",
    "from scripts.read_data import read_news\n",
    "from scripts.read_data import read_covid\n",
    "import matplotlib.pyplot as plt \n",
    "from IPython.display import Markdown as md"
   ]
  },
  {
   "cell_type": "code",
   "execution_count": 2,
   "id": "shared-acceptance",
   "metadata": {
    "execution": {
     "iopub.execute_input": "2022-11-02T03:25:17.590212Z",
     "iopub.status.busy": "2022-11-02T03:25:17.589091Z",
     "iopub.status.idle": "2022-11-02T03:25:29.921499Z",
     "shell.execute_reply": "2022-11-02T03:25:29.920290Z"
    },
    "papermill": {
     "duration": 12.349173,
     "end_time": "2022-11-02T03:25:29.921654",
     "exception": false,
     "start_time": "2022-11-02T03:25:17.572481",
     "status": "completed"
    },
    "tags": []
   },
   "outputs": [],
   "source": [
    "#hide_input\n",
    "blockchain = read_news('blockchain') \n",
    "btc = read_news('btc') \n",
    "xrp = read_news('xrp') \n",
    "trx = read_news('trx') \n",
    "eth = read_news('eth')  \n",
    "ada = read_news('ada')\n",
    "exchange = read_news('exchange') "
   ]
  },
  {
   "cell_type": "code",
   "execution_count": 3,
   "id": "synthetic-notion",
   "metadata": {
    "execution": {
     "iopub.execute_input": "2022-11-02T03:25:29.951745Z",
     "iopub.status.busy": "2022-11-02T03:25:29.950509Z",
     "iopub.status.idle": "2022-11-02T03:25:29.953896Z",
     "shell.execute_reply": "2022-11-02T03:25:29.954404Z"
    },
    "papermill": {
     "duration": 0.02223,
     "end_time": "2022-11-02T03:25:29.954543",
     "exception": false,
     "start_time": "2022-11-02T03:25:29.932313",
     "status": "completed"
    },
    "tags": []
   },
   "outputs": [
    {
     "data": {
      "text/markdown": [
       "- How Will the Ethereum-Google Blockchain Node Engine Impact Crypto.  Google continues with its pro-crypto initiatives by launching a blockchain node engine with Ethereum support. ... [| Skaityti daugiau](https://cryptopotato.com/how-will-the-ethereum-google-blockchain-node-engine-impact-crypto/) "
      ],
      "text/plain": [
       "<IPython.core.display.Markdown object>"
      ]
     },
     "execution_count": 3,
     "metadata": {},
     "output_type": "execute_result"
    }
   ],
   "source": [
    "#hide_input\n",
    "#md('##### {}'.format(titleBTC)) \n",
    "md(\"- {}{} {}{} [| Skaityti daugiau]({}) \".format(blockchain['title'],'. ', blockchain['body'], ' ...', blockchain['url']))"
   ]
  },
  {
   "cell_type": "code",
   "execution_count": 4,
   "id": "aging-caution",
   "metadata": {
    "execution": {
     "iopub.execute_input": "2022-11-02T03:25:29.984551Z",
     "iopub.status.busy": "2022-11-02T03:25:29.981907Z",
     "iopub.status.idle": "2022-11-02T03:25:29.987907Z",
     "shell.execute_reply": "2022-11-02T03:25:29.987383Z"
    },
    "papermill": {
     "duration": 0.022705,
     "end_time": "2022-11-02T03:25:29.988030",
     "exception": false,
     "start_time": "2022-11-02T03:25:29.965325",
     "status": "completed"
    },
    "tags": []
   },
   "outputs": [
    {
     "data": {
      "text/markdown": [
       "- BTC miner CleanSpark scoops up thousands of miners amid 'distressed markets'.  CleanSpark bought over 3,800 mining machines at $15.50 per terahash – far below the current market price of $22.94 and an 85.4% discount from the all-time high costs of $106.62 in Dec. 2021. ... [| Skaityti daugiau](https://cointelegraph.com/news/btc-miner-cleanspark-scoops-up-thousands-of-miners-amid-distressed-markets) "
      ],
      "text/plain": [
       "<IPython.core.display.Markdown object>"
      ]
     },
     "execution_count": 4,
     "metadata": {},
     "output_type": "execute_result"
    }
   ],
   "source": [
    "#hide_input\n",
    "#md('##### {}'.format(titleBTC)) \n",
    "md(\"- {}{} {}{} [| Skaityti daugiau]({}) \".format(btc['title'],'. ', btc['body'], ' ...', btc['url']))"
   ]
  },
  {
   "cell_type": "code",
   "execution_count": 5,
   "id": "organic-actress",
   "metadata": {
    "execution": {
     "iopub.execute_input": "2022-11-02T03:25:30.019113Z",
     "iopub.status.busy": "2022-11-02T03:25:30.018182Z",
     "iopub.status.idle": "2022-11-02T03:25:30.022226Z",
     "shell.execute_reply": "2022-11-02T03:25:30.021707Z"
    },
    "papermill": {
     "duration": 0.02178,
     "end_time": "2022-11-02T03:25:30.022349",
     "exception": false,
     "start_time": "2022-11-02T03:25:30.000569",
     "status": "completed"
    },
    "tags": []
   },
   "outputs": [
    {
     "data": {
      "text/markdown": [
       "- XRP Whales Move Whopping 975.1 Million Tokens: Details.  Whale movements have increased as a whopping 975 million XRP was moved ... [| Skaityti daugiau](https://u.today/xrp-whales-move-whopping-9751-million-tokens-details) "
      ],
      "text/plain": [
       "<IPython.core.display.Markdown object>"
      ]
     },
     "execution_count": 5,
     "metadata": {},
     "output_type": "execute_result"
    }
   ],
   "source": [
    "#hide_input\n",
    "#md('##### {}'.format(titleBTC)) \n",
    "md(\"- {}{} {}{} [| Skaityti daugiau]({}) \".format(xrp['title'],'. ', xrp['body'], ' ...', xrp['url']))"
   ]
  },
  {
   "cell_type": "code",
   "execution_count": 6,
   "id": "prompt-farmer",
   "metadata": {
    "execution": {
     "iopub.execute_input": "2022-11-02T03:25:30.051515Z",
     "iopub.status.busy": "2022-11-02T03:25:30.050894Z",
     "iopub.status.idle": "2022-11-02T03:25:30.054149Z",
     "shell.execute_reply": "2022-11-02T03:25:30.054695Z"
    },
    "papermill": {
     "duration": 0.020956,
     "end_time": "2022-11-02T03:25:30.054843",
     "exception": false,
     "start_time": "2022-11-02T03:25:30.033887",
     "status": "completed"
    },
    "tags": []
   },
   "outputs": [
    {
     "data": {
      "text/markdown": [
       "- Tron (TRX) And Polkadot (DOT) Investors To Invest In High-Potential Cryptocurrency Flasko (FLSK).  The post Tron (TRX) And Polkadot (DOT) Investors To Invest In High-Potential Cryptocurrency Flasko (FLSK) appeared first on Coinpedia Fintech NewsIn the current bear market, most well-known cryptocurrencies, like Polkadot (DOT) and Polygon (MATIC), struggled to generate good returns. Some are stable, but others continue to dip.&#160; Flasko, a new name in the crypto world, has been showing much potential growth. Thus, Polkadot (DOT) and Polygon (MATIC) investors are keen on investing in this new &#8230; ... [| Skaityti daugiau](https://coinpedia.org/press-release/tron-and-polkadot-investors-to-invest-in-high-potential-cryptocurrency-flasko/) "
      ],
      "text/plain": [
       "<IPython.core.display.Markdown object>"
      ]
     },
     "execution_count": 6,
     "metadata": {},
     "output_type": "execute_result"
    }
   ],
   "source": [
    "#hide_input\n",
    "#md('##### {}'.format(titleBTC)) \n",
    "md(\"- {}{} {}{} [| Skaityti daugiau]({}) \".format(trx['title'],'. ', trx['body'], ' ...', trx['url']))"
   ]
  },
  {
   "cell_type": "code",
   "execution_count": 7,
   "id": "illegal-greece",
   "metadata": {
    "execution": {
     "iopub.execute_input": "2022-11-02T03:25:30.085566Z",
     "iopub.status.busy": "2022-11-02T03:25:30.084742Z",
     "iopub.status.idle": "2022-11-02T03:25:30.087602Z",
     "shell.execute_reply": "2022-11-02T03:25:30.088314Z"
    },
    "papermill": {
     "duration": 0.021237,
     "end_time": "2022-11-02T03:25:30.088470",
     "exception": false,
     "start_time": "2022-11-02T03:25:30.067233",
     "status": "completed"
    },
    "tags": []
   },
   "outputs": [
    {
     "data": {
      "text/markdown": [
       "- How Will the Ethereum-Google Blockchain Node Engine Impact Crypto.  Google continues with its pro-crypto initiatives by launching a blockchain node engine with Ethereum support. ... [| Skaityti daugiau](https://cryptopotato.com/how-will-the-ethereum-google-blockchain-node-engine-impact-crypto/) "
      ],
      "text/plain": [
       "<IPython.core.display.Markdown object>"
      ]
     },
     "execution_count": 7,
     "metadata": {},
     "output_type": "execute_result"
    }
   ],
   "source": [
    "#hide_input\n",
    "#md('##### {}'.format(titleBTC)) \n",
    "md(\"- {}{} {}{} [| Skaityti daugiau]({}) \".format(eth['title'],'. ', eth['body'], ' ...', eth['url']))"
   ]
  },
  {
   "cell_type": "code",
   "execution_count": 8,
   "id": "sublime-lounge",
   "metadata": {
    "execution": {
     "iopub.execute_input": "2022-11-02T03:25:30.120870Z",
     "iopub.status.busy": "2022-11-02T03:25:30.120060Z",
     "iopub.status.idle": "2022-11-02T03:25:30.124045Z",
     "shell.execute_reply": "2022-11-02T03:25:30.123498Z"
    },
    "papermill": {
     "duration": 0.02246,
     "end_time": "2022-11-02T03:25:30.124175",
     "exception": false,
     "start_time": "2022-11-02T03:25:30.101715",
     "status": "completed"
    },
    "tags": []
   },
   "outputs": [
    {
     "data": {
      "text/markdown": [
       "- Can Polkadot solely rely on its development activity for a bullish November.  Polkadot [DOT] has been in the spot light for quite some time now owing to its high development activity. DOT made headlines once more for the same reason, as it ranked second among crypto projects in terms of development activity in the last 30 days, only behind Cardano [ADA]. ⚡️Top #Crypto Projects by Developer Activity [&#8230;] ... [| Skaityti daugiau](https://ambcrypto.com/can-polkadot-solely-rely-on-its-development-activity-for-a-bullish-november/) "
      ],
      "text/plain": [
       "<IPython.core.display.Markdown object>"
      ]
     },
     "execution_count": 8,
     "metadata": {},
     "output_type": "execute_result"
    }
   ],
   "source": [
    "#hide_input\n",
    "#md('##### {}'.format(titleBTC)) \n",
    "md(\"- {}{} {}{} [| Skaityti daugiau]({}) \".format(ada['title'],'. ', ada['body'], ' ...', ada['url']))"
   ]
  },
  {
   "cell_type": "code",
   "execution_count": 9,
   "id": "specified-ordering",
   "metadata": {
    "execution": {
     "iopub.execute_input": "2022-11-02T03:25:30.155384Z",
     "iopub.status.busy": "2022-11-02T03:25:30.153985Z",
     "iopub.status.idle": "2022-11-02T03:25:30.158722Z",
     "shell.execute_reply": "2022-11-02T03:25:30.159355Z"
    },
    "papermill": {
     "duration": 0.022925,
     "end_time": "2022-11-02T03:25:30.159495",
     "exception": false,
     "start_time": "2022-11-02T03:25:30.136570",
     "status": "completed"
    },
    "tags": []
   },
   "outputs": [
    {
     "data": {
      "text/markdown": [
       "- Crypto Exchange Coinbase Files Amicus Brief to Support Ripple in SEC Lawsuit Over XRP.  Cryptocurrency exchange Coinbase has filed an amicus brief in support of Ripple Labs in the U.S. Securities and Exchange Commission (SEC) lawsuit over xrp. Coinbase&#x2019;s support is seen as a significant step in the case given that the crypto exchange was among the first trading platforms to delist xrp following the SEC lawsuit. Coinbase Supports [&#8230;] ... [| Skaityti daugiau](https://news.bitcoin.com/crypto-exchange-coinbase-files-amicus-brief-to-support-ripple-in-sec-lawsuit-over-xrp/) "
      ],
      "text/plain": [
       "<IPython.core.display.Markdown object>"
      ]
     },
     "execution_count": 9,
     "metadata": {},
     "output_type": "execute_result"
    }
   ],
   "source": [
    "#hide_input\n",
    "#md('##### {}'.format(titleBTC)) \n",
    "md(\"- {}{} {}{} [| Skaityti daugiau]({}) \".format(exchange['title'],'. ', exchange['body'], ' ...', exchange['url']))"
   ]
  },
  {
   "cell_type": "code",
   "execution_count": null,
   "id": "tender-livestock",
   "metadata": {
    "papermill": {
     "duration": 0.012649,
     "end_time": "2022-11-02T03:25:30.184983",
     "exception": false,
     "start_time": "2022-11-02T03:25:30.172334",
     "status": "completed"
    },
    "tags": []
   },
   "outputs": [],
   "source": []
  },
  {
   "cell_type": "code",
   "execution_count": null,
   "id": "appreciated-diamond",
   "metadata": {
    "papermill": {
     "duration": 0.013081,
     "end_time": "2022-11-02T03:25:30.210813",
     "exception": false,
     "start_time": "2022-11-02T03:25:30.197732",
     "status": "completed"
    },
    "tags": []
   },
   "outputs": [],
   "source": []
  },
  {
   "cell_type": "code",
   "execution_count": null,
   "id": "romance-sweden",
   "metadata": {
    "papermill": {
     "duration": 0.012847,
     "end_time": "2022-11-02T03:25:30.236734",
     "exception": false,
     "start_time": "2022-11-02T03:25:30.223887",
     "status": "completed"
    },
    "tags": []
   },
   "outputs": [],
   "source": []
  },
  {
   "cell_type": "code",
   "execution_count": null,
   "id": "dietary-statistics",
   "metadata": {
    "papermill": {
     "duration": 0.012711,
     "end_time": "2022-11-02T03:25:30.262258",
     "exception": false,
     "start_time": "2022-11-02T03:25:30.249547",
     "status": "completed"
    },
    "tags": []
   },
   "outputs": [],
   "source": []
  }
 ],
 "metadata": {
  "kernelspec": {
   "display_name": "Python 3",
   "language": "python",
   "name": "python3"
  },
  "language_info": {
   "codemirror_mode": {
    "name": "ipython",
    "version": 3
   },
   "file_extension": ".py",
   "mimetype": "text/x-python",
   "name": "python",
   "nbconvert_exporter": "python",
   "pygments_lexer": "ipython3",
   "version": "3.6.15"
  },
  "papermill": {
   "default_parameters": {},
   "duration": 15.99589,
   "end_time": "2022-11-02T03:25:30.801645",
   "environment_variables": {},
   "exception": null,
   "input_path": "Market-News.ipynb",
   "output_path": "Market-News.ipynb",
   "parameters": {},
   "start_time": "2022-11-02T03:25:14.805755",
   "version": "2.2.2"
  }
 },
 "nbformat": 4,
 "nbformat_minor": 5
}