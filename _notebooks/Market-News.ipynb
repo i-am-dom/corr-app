{
 "cells": [
  {
   "cell_type": "markdown",
   "id": "short-greensboro",
   "metadata": {
    "papermill": {
     "duration": 0.019297,
     "end_time": "2022-02-09T02:07:22.325535",
     "exception": false,
     "start_time": "2022-02-09T02:07:22.306238",
     "status": "completed"
    },
    "tags": []
   },
   "source": [
    "# Kriptovaliutų naujienos"
   ]
  },
  {
   "cell_type": "code",
   "execution_count": 1,
   "id": "functioning-knowing",
   "metadata": {
    "execution": {
     "iopub.execute_input": "2022-02-09T02:07:22.364828Z",
     "iopub.status.busy": "2022-02-09T02:07:22.364086Z",
     "iopub.status.idle": "2022-02-09T02:07:23.967464Z",
     "shell.execute_reply": "2022-02-09T02:07:23.966827Z"
    },
    "papermill": {
     "duration": 1.626398,
     "end_time": "2022-02-09T02:07:23.967658",
     "exception": false,
     "start_time": "2022-02-09T02:07:22.341260",
     "status": "completed"
    },
    "tags": []
   },
   "outputs": [],
   "source": [
    "#hide_input\n",
    "import warnings\n",
    "warnings.filterwarnings('ignore')\n",
    "from scripts.read_data import read_api\n",
    "from scripts.read_data import read_news\n",
    "from scripts.read_data import read_covid\n",
    "import matplotlib.pyplot as plt \n",
    "from IPython.display import Markdown as md"
   ]
  },
  {
   "cell_type": "code",
   "execution_count": 2,
   "id": "shared-acceptance",
   "metadata": {
    "execution": {
     "iopub.execute_input": "2022-02-09T02:07:23.998656Z",
     "iopub.status.busy": "2022-02-09T02:07:23.998048Z",
     "iopub.status.idle": "2022-02-09T02:07:32.532948Z",
     "shell.execute_reply": "2022-02-09T02:07:32.532285Z"
    },
    "papermill": {
     "duration": 8.554396,
     "end_time": "2022-02-09T02:07:32.533119",
     "exception": false,
     "start_time": "2022-02-09T02:07:23.978723",
     "status": "completed"
    },
    "tags": []
   },
   "outputs": [],
   "source": [
    "#hide_input\n",
    "blockchain = read_news('blockchain') \n",
    "btc = read_news('btc') \n",
    "xrp = read_news('xrp') \n",
    "trx = read_news('trx') \n",
    "eth = read_news('eth')  \n",
    "ada = read_news('ada')\n",
    "exchange = read_news('exchange') "
   ]
  },
  {
   "cell_type": "code",
   "execution_count": 3,
   "id": "synthetic-notion",
   "metadata": {
    "execution": {
     "iopub.execute_input": "2022-02-09T02:07:32.565420Z",
     "iopub.status.busy": "2022-02-09T02:07:32.564739Z",
     "iopub.status.idle": "2022-02-09T02:07:32.569689Z",
     "shell.execute_reply": "2022-02-09T02:07:32.570397Z"
    },
    "papermill": {
     "duration": 0.024742,
     "end_time": "2022-02-09T02:07:32.570586",
     "exception": false,
     "start_time": "2022-02-09T02:07:32.545844",
     "status": "completed"
    },
    "tags": []
   },
   "outputs": [
    {
     "data": {
      "text/markdown": [
       "- Pocket Network Growth Up 80% MoM to 9.5 Billion Relays Due to Industry Demand.  February 8, 2022 – Tampa, Florida 100x YoY increase in daily relays (API calls) administered over a decentralized node infrastructure worth over $550 million. Pocket Network – a relay infrastructure middleware protocol that provides abundant blockchain bandwidth from a globally-distributed network of over 27,000 full nodes to applications in web 3.0 across 37 blockchains including Ethereum, [&#8230;]The post Pocket Network Growth Up 80% MoM to 9.5 Billion Relays Due to Industry Demand appeared first on The Daily Hodl. ... [| Skaityti daugiau](https://dailyhodl.com/2022/02/08/pocket-network-growth-up-80-mom-to-9-5-billion-relays-due-to-industry-demand/) "
      ],
      "text/plain": [
       "<IPython.core.display.Markdown object>"
      ]
     },
     "execution_count": 3,
     "metadata": {},
     "output_type": "execute_result"
    }
   ],
   "source": [
    "#hide_input\n",
    "#md('##### {}'.format(titleBTC)) \n",
    "md(\"- {}{} {}{} [| Skaityti daugiau]({}) \".format(blockchain['title'],'. ', blockchain['body'], ' ...', blockchain['url']))"
   ]
  },
  {
   "cell_type": "code",
   "execution_count": 4,
   "id": "aging-caution",
   "metadata": {
    "execution": {
     "iopub.execute_input": "2022-02-09T02:07:32.600208Z",
     "iopub.status.busy": "2022-02-09T02:07:32.599481Z",
     "iopub.status.idle": "2022-02-09T02:07:32.605403Z",
     "shell.execute_reply": "2022-02-09T02:07:32.604851Z"
    },
    "papermill": {
     "duration": 0.022734,
     "end_time": "2022-02-09T02:07:32.605524",
     "exception": false,
     "start_time": "2022-02-09T02:07:32.582790",
     "status": "completed"
    },
    "tags": []
   },
   "outputs": [
    {
     "data": {
      "text/markdown": [
       "- Bitcoin Settles Above $43,000, But What Does The 4-Year Cycle Say?.  Bitcoin has already lost its footing above $44K after breaking the coveted point to much fanfare. The downtrend has not been significant in any way but the digital asset could still end up losing more ground before the end of the trading day. Nevertheless, it has been a good run for bitcoin coming out of the weekend. As the cryptocurrency has made its bottom above $43,000, what could be expected going forward? Bitcoin In Four-Year Cycles As bitcoin has settled above $43,000, looking at other metrics to figure out where the digital asset may be headed has become imperative. In this report, we take a look at bitcoin through 4-year cycles and what it has often meant for the asset. Four years is important to the movement of bitcoin given that things like halvings happen in such timeframes. But for this, we take a look at the monthly EMA50 and how it works as the last correctional support before takeoff. Related Reading &#124; TA: Bitcoin is Surging, Why Bulls Could Aim More Upsides The monthly exponential moving average is calculated using the past 50 periods. It is used to obtain the average price at which an asset has been acquired over a 50-day period. Thus, making it a widely used support level. Over the years, at four-year intervals, the monthly EMA50 has served to show the final correction support for bitcoin. The first time was between 2009 to 2013, a four-year period that ended with the monthly EMA50 working as the final c... ... [| Skaityti daugiau](https://www.newsbtc.com/analysis/btc/bitcoin-settles-above-43000-but-what-does-the-4-year-cycle-say/) "
      ],
      "text/plain": [
       "<IPython.core.display.Markdown object>"
      ]
     },
     "execution_count": 4,
     "metadata": {},
     "output_type": "execute_result"
    }
   ],
   "source": [
    "#hide_input\n",
    "#md('##### {}'.format(titleBTC)) \n",
    "md(\"- {}{} {}{} [| Skaityti daugiau]({}) \".format(btc['title'],'. ', btc['body'], ' ...', btc['url']))"
   ]
  },
  {
   "cell_type": "code",
   "execution_count": 5,
   "id": "organic-actress",
   "metadata": {
    "execution": {
     "iopub.execute_input": "2022-02-09T02:07:32.638594Z",
     "iopub.status.busy": "2022-02-09T02:07:32.637948Z",
     "iopub.status.idle": "2022-02-09T02:07:32.642314Z",
     "shell.execute_reply": "2022-02-09T02:07:32.642851Z"
    },
    "papermill": {
     "duration": 0.022566,
     "end_time": "2022-02-09T02:07:32.642993",
     "exception": false,
     "start_time": "2022-02-09T02:07:32.620427",
     "status": "completed"
    },
    "tags": []
   },
   "outputs": [
    {
     "data": {
      "text/markdown": [
       "- $XRP Prices Jumps After Active Addresses on Its Network Hit New All-Time High.  The price of $XRP, the native currency of the XRP Ledger, has jumped over 36% over the past few days after the number of active addresses on the network surged to a new all-time high above 200,000. As first pointed out by cryptocurrency analytics firm Santiment, the price of XRP went up in what appeared […] ... [| Skaityti daugiau](https://www.cryptoglobe.com/latest/2022/02/xrp-prices-jumps-after-active-addresses-on-its-network-hit-new-all-time-high/) "
      ],
      "text/plain": [
       "<IPython.core.display.Markdown object>"
      ]
     },
     "execution_count": 5,
     "metadata": {},
     "output_type": "execute_result"
    }
   ],
   "source": [
    "#hide_input\n",
    "#md('##### {}'.format(titleBTC)) \n",
    "md(\"- {}{} {}{} [| Skaityti daugiau]({}) \".format(xrp['title'],'. ', xrp['body'], ' ...', xrp['url']))"
   ]
  },
  {
   "cell_type": "code",
   "execution_count": 6,
   "id": "prompt-farmer",
   "metadata": {
    "execution": {
     "iopub.execute_input": "2022-02-09T02:07:32.675686Z",
     "iopub.status.busy": "2022-02-09T02:07:32.675019Z",
     "iopub.status.idle": "2022-02-09T02:07:32.680560Z",
     "shell.execute_reply": "2022-02-09T02:07:32.679866Z"
    },
    "papermill": {
     "duration": 0.024169,
     "end_time": "2022-02-09T02:07:32.680692",
     "exception": false,
     "start_time": "2022-02-09T02:07:32.656523",
     "status": "completed"
    },
    "tags": []
   },
   "outputs": [
    {
     "data": {
      "text/markdown": [
       "- TRON (TRX) Releases Weekly Report Showcasing Last Weeks Statistics.  The total volume of TRON transactions has surpassed $7.8 billion. TRON Mainnet now has 74,915,635 active accounts. TRON operating systemThe post has appeared first on thenewscrypto.com ... [| Skaityti daugiau](https://thenewscrypto.com/tron-trx-releases-weekly-report-showcasing-last-weeks-statistics/) "
      ],
      "text/plain": [
       "<IPython.core.display.Markdown object>"
      ]
     },
     "execution_count": 6,
     "metadata": {},
     "output_type": "execute_result"
    }
   ],
   "source": [
    "#hide_input\n",
    "#md('##### {}'.format(titleBTC)) \n",
    "md(\"- {}{} {}{} [| Skaityti daugiau]({}) \".format(trx['title'],'. ', trx['body'], ' ...', trx['url']))"
   ]
  },
  {
   "cell_type": "code",
   "execution_count": 7,
   "id": "illegal-greece",
   "metadata": {
    "execution": {
     "iopub.execute_input": "2022-02-09T02:07:32.715529Z",
     "iopub.status.busy": "2022-02-09T02:07:32.714750Z",
     "iopub.status.idle": "2022-02-09T02:07:32.717711Z",
     "shell.execute_reply": "2022-02-09T02:07:32.718310Z"
    },
    "papermill": {
     "duration": 0.02409,
     "end_time": "2022-02-09T02:07:32.718484",
     "exception": false,
     "start_time": "2022-02-09T02:07:32.694394",
     "status": "completed"
    },
    "tags": []
   },
   "outputs": [
    {
     "data": {
      "text/markdown": [
       "- Pocket Network Growth Up 80% MoM to 9.5 Billion Relays Due to Industry Demand.  February 8, 2022 – Tampa, Florida 100x YoY increase in daily relays (API calls) administered over a decentralized node infrastructure worth over $550 million. Pocket Network – a relay infrastructure middleware protocol that provides abundant blockchain bandwidth from a globally-distributed network of over 27,000 full nodes to applications in web 3.0 across 37 blockchains including Ethereum, [&#8230;]The post Pocket Network Growth Up 80% MoM to 9.5 Billion Relays Due to Industry Demand appeared first on The Daily Hodl. ... [| Skaityti daugiau](https://dailyhodl.com/2022/02/08/pocket-network-growth-up-80-mom-to-9-5-billion-relays-due-to-industry-demand/) "
      ],
      "text/plain": [
       "<IPython.core.display.Markdown object>"
      ]
     },
     "execution_count": 7,
     "metadata": {},
     "output_type": "execute_result"
    }
   ],
   "source": [
    "#hide_input\n",
    "#md('##### {}'.format(titleBTC)) \n",
    "md(\"- {}{} {}{} [| Skaityti daugiau]({}) \".format(eth['title'],'. ', eth['body'], ' ...', eth['url']))"
   ]
  },
  {
   "cell_type": "code",
   "execution_count": 8,
   "id": "sublime-lounge",
   "metadata": {
    "execution": {
     "iopub.execute_input": "2022-02-09T02:07:32.758008Z",
     "iopub.status.busy": "2022-02-09T02:07:32.757289Z",
     "iopub.status.idle": "2022-02-09T02:07:32.760824Z",
     "shell.execute_reply": "2022-02-09T02:07:32.760114Z"
    },
    "papermill": {
     "duration": 0.025973,
     "end_time": "2022-02-09T02:07:32.760957",
     "exception": false,
     "start_time": "2022-02-09T02:07:32.734984",
     "status": "completed"
    },
    "tags": []
   },
   "outputs": [
    {
     "data": {
      "text/markdown": [
       "- Cardano (ADA) Forms Local Resistance As It Readies For Another 40% Liftoff.  Cardano (ADA) has been on the receiving end on some of the most brutal beatdowns the crypto market has dished out in recent times. The cryptocurrency had managed to grow from about $0.20 at the beginning of 2021 to a high of $3, which saw investors cashing out massive gains. However, the trip down would prove to be just as swift and impactful as the trip up. ADA has since lost about 60% of its all-time high value, falling below $1 for the first time in eight months. Since the digital asset has spent such a long time in a downtrend, there looks to be nowhere to go but up as ADA plots its move upwards after forming a local resistance point. ADA Ready For Takeoff After a long time in a downtrend, ADA has finally formed a local resistance. With this resistance, the digital asset is looking towards a liftoff from this point. One thing to note is that even when the rest of the market had begun to rebound, Cardano had continued to trend low. Momentum stayed down, translating to no meaningful movement despite the market gaining over $200 billion in a single weekend. Related Reading &#124; Cosmos Records 20% Gain, What’s Behind The Boom In Its Ecosystem A look at the charts shows that this may have positive connotations for the value ADA going forward. For instance, ADA is now trading in a support zone between $0.90 and $1.20, as illustrated in this analysis by a trader. It is doing this while the rest of the market is already recoveri... ... [| Skaityti daugiau](https://www.newsbtc.com/analysis/ada/cardano-ada-forms-local-resistance-as-it-readies-for-another-40-liftoff/) "
      ],
      "text/plain": [
       "<IPython.core.display.Markdown object>"
      ]
     },
     "execution_count": 8,
     "metadata": {},
     "output_type": "execute_result"
    }
   ],
   "source": [
    "#hide_input\n",
    "#md('##### {}'.format(titleBTC)) \n",
    "md(\"- {}{} {}{} [| Skaityti daugiau]({}) \".format(ada['title'],'. ', ada['body'], ' ...', ada['url']))"
   ]
  },
  {
   "cell_type": "code",
   "execution_count": 9,
   "id": "specified-ordering",
   "metadata": {
    "execution": {
     "iopub.execute_input": "2022-02-09T02:07:32.797596Z",
     "iopub.status.busy": "2022-02-09T02:07:32.796779Z",
     "iopub.status.idle": "2022-02-09T02:07:32.800103Z",
     "shell.execute_reply": "2022-02-09T02:07:32.800777Z"
    },
    "papermill": {
     "duration": 0.024904,
     "end_time": "2022-02-09T02:07:32.800928",
     "exception": false,
     "start_time": "2022-02-09T02:07:32.776024",
     "status": "completed"
    },
    "tags": []
   },
   "outputs": [
    {
     "data": {
      "text/markdown": [
       "- Bitcoin Giveaway: Crypto Exchange FTX Giving Away BTC During Super Bowl.  Crypto exchange FTX is giving away bitcoin during the Super Bowl this weekend. The company estimates that each winner could receive between eight and 10 bitcoins. The actual prize amount depends on the time FTX&#x2019;s Super Bowl commercial airs. FTX Giving Away Bitcoin in Super Bowl Sweepstakes Cryptocurrency exchange FTX announced Monday that it is [&#8230;] ... [| Skaityti daugiau](https://news.bitcoin.com/bitcoin-giveaway-crypto-exchange-ftx-giving-away-btc-during-super-bowl/) "
      ],
      "text/plain": [
       "<IPython.core.display.Markdown object>"
      ]
     },
     "execution_count": 9,
     "metadata": {},
     "output_type": "execute_result"
    }
   ],
   "source": [
    "#hide_input\n",
    "#md('##### {}'.format(titleBTC)) \n",
    "md(\"- {}{} {}{} [| Skaityti daugiau]({}) \".format(exchange['title'],'. ', exchange['body'], ' ...', exchange['url']))"
   ]
  },
  {
   "cell_type": "code",
   "execution_count": null,
   "id": "tender-livestock",
   "metadata": {
    "papermill": {
     "duration": 0.014825,
     "end_time": "2022-02-09T02:07:32.831525",
     "exception": false,
     "start_time": "2022-02-09T02:07:32.816700",
     "status": "completed"
    },
    "tags": []
   },
   "outputs": [],
   "source": []
  },
  {
   "cell_type": "code",
   "execution_count": null,
   "id": "appreciated-diamond",
   "metadata": {
    "papermill": {
     "duration": 0.015134,
     "end_time": "2022-02-09T02:07:32.861145",
     "exception": false,
     "start_time": "2022-02-09T02:07:32.846011",
     "status": "completed"
    },
    "tags": []
   },
   "outputs": [],
   "source": []
  },
  {
   "cell_type": "code",
   "execution_count": null,
   "id": "romance-sweden",
   "metadata": {
    "papermill": {
     "duration": 0.014609,
     "end_time": "2022-02-09T02:07:32.892751",
     "exception": false,
     "start_time": "2022-02-09T02:07:32.878142",
     "status": "completed"
    },
    "tags": []
   },
   "outputs": [],
   "source": []
  },
  {
   "cell_type": "code",
   "execution_count": null,
   "id": "dietary-statistics",
   "metadata": {
    "papermill": {
     "duration": 0.015287,
     "end_time": "2022-02-09T02:07:32.921766",
     "exception": false,
     "start_time": "2022-02-09T02:07:32.906479",
     "status": "completed"
    },
    "tags": []
   },
   "outputs": [],
   "source": []
  }
 ],
 "metadata": {
  "kernelspec": {
   "display_name": "Python 3",
   "language": "python",
   "name": "python3"
  },
  "language_info": {
   "codemirror_mode": {
    "name": "ipython",
    "version": 3
   },
   "file_extension": ".py",
   "mimetype": "text/x-python",
   "name": "python",
   "nbconvert_exporter": "python",
   "pygments_lexer": "ipython3",
   "version": "3.6.15"
  },
  "papermill": {
   "default_parameters": {},
   "duration": 12.463668,
   "end_time": "2022-02-09T02:07:33.456449",
   "environment_variables": {},
   "exception": null,
   "input_path": "Market-News.ipynb",
   "output_path": "Market-News.ipynb",
   "parameters": {},
   "start_time": "2022-02-09T02:07:20.992781",
   "version": "2.2.2"
  }
 },
 "nbformat": 4,
 "nbformat_minor": 5
}