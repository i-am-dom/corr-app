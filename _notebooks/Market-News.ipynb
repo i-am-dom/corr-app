{
 "cells": [
  {
   "cell_type": "markdown",
   "id": "short-greensboro",
   "metadata": {
    "papermill": {
     "duration": 0.014281,
     "end_time": "2021-08-22T01:56:09.468810",
     "exception": false,
     "start_time": "2021-08-22T01:56:09.454529",
     "status": "completed"
    },
    "tags": []
   },
   "source": [
    "# Kriptovaliutų naujienos"
   ]
  },
  {
   "cell_type": "code",
   "execution_count": 1,
   "id": "functioning-knowing",
   "metadata": {
    "execution": {
     "iopub.execute_input": "2021-08-22T01:56:09.502244Z",
     "iopub.status.busy": "2021-08-22T01:56:09.501637Z",
     "iopub.status.idle": "2021-08-22T01:56:10.803758Z",
     "shell.execute_reply": "2021-08-22T01:56:10.804233Z"
    },
    "papermill": {
     "duration": 1.324829,
     "end_time": "2021-08-22T01:56:10.804415",
     "exception": false,
     "start_time": "2021-08-22T01:56:09.479586",
     "status": "completed"
    },
    "tags": []
   },
   "outputs": [],
   "source": [
    "#hide_input\n",
    "import warnings\n",
    "warnings.filterwarnings('ignore')\n",
    "from scripts.read_data import read_api\n",
    "from scripts.read_data import read_news\n",
    "from scripts.read_data import read_covid\n",
    "import matplotlib.pyplot as plt \n",
    "from IPython.display import Markdown as md"
   ]
  },
  {
   "cell_type": "code",
   "execution_count": 2,
   "id": "shared-acceptance",
   "metadata": {
    "execution": {
     "iopub.execute_input": "2021-08-22T01:56:10.833274Z",
     "iopub.status.busy": "2021-08-22T01:56:10.832673Z",
     "iopub.status.idle": "2021-08-22T01:56:19.104721Z",
     "shell.execute_reply": "2021-08-22T01:56:19.103593Z"
    },
    "papermill": {
     "duration": 8.290228,
     "end_time": "2021-08-22T01:56:19.104904",
     "exception": false,
     "start_time": "2021-08-22T01:56:10.814676",
     "status": "completed"
    },
    "tags": []
   },
   "outputs": [],
   "source": [
    "#hide_input\n",
    "blockchain = read_news('blockchain') \n",
    "btc = read_news('btc') \n",
    "xrp = read_news('xrp') \n",
    "trx = read_news('trx') \n",
    "eth = read_news('eth')  \n",
    "ada = read_news('ada')\n",
    "exchange = read_news('exchange') "
   ]
  },
  {
   "cell_type": "code",
   "execution_count": 3,
   "id": "synthetic-notion",
   "metadata": {
    "execution": {
     "iopub.execute_input": "2021-08-22T01:56:19.133813Z",
     "iopub.status.busy": "2021-08-22T01:56:19.133203Z",
     "iopub.status.idle": "2021-08-22T01:56:19.135491Z",
     "shell.execute_reply": "2021-08-22T01:56:19.135968Z"
    },
    "papermill": {
     "duration": 0.018673,
     "end_time": "2021-08-22T01:56:19.136103",
     "exception": false,
     "start_time": "2021-08-22T01:56:19.117430",
     "status": "completed"
    },
    "tags": []
   },
   "outputs": [
    {
     "data": {
      "text/markdown": [
       "- Is MIT ChainAnchor Still Relevant? This Bitcoin Technical Expert Thinks So.  Why does a seemingly abandoned MIT project from 2016 still matter in 2021? Because MIT ChainAnchor serves as a model for future attacks to the Bitcoin blockchain. A decentralized, permissionless, and uncensorable network is a threat to the status quo. The value and freedom that Bitcoin brings to the world comes at the expense of [&#8230;] ... [| Skaityti daugiau](https://bitcoinist.com/is-mit-chainanchor-still-relevant-this-bitcoin-technical-expert-thinks-so/?utm_source=rss&utm_medium=rss&utm_campaign=is-mit-chainanchor-still-relevant-this-bitcoin-technical-expert-thinks-so) "
      ],
      "text/plain": [
       "<IPython.core.display.Markdown object>"
      ]
     },
     "execution_count": 3,
     "metadata": {},
     "output_type": "execute_result"
    }
   ],
   "source": [
    "#hide_input\n",
    "#md('##### {}'.format(titleBTC)) \n",
    "md(\"- {}{} {}{} [| Skaityti daugiau]({}) \".format(blockchain['title'],'. ', blockchain['body'], ' ...', blockchain['url']))"
   ]
  },
  {
   "cell_type": "code",
   "execution_count": 4,
   "id": "aging-caution",
   "metadata": {
    "execution": {
     "iopub.execute_input": "2021-08-22T01:56:19.162339Z",
     "iopub.status.busy": "2021-08-22T01:56:19.161604Z",
     "iopub.status.idle": "2021-08-22T01:56:19.163886Z",
     "shell.execute_reply": "2021-08-22T01:56:19.164381Z"
    },
    "papermill": {
     "duration": 0.01809,
     "end_time": "2021-08-22T01:56:19.164510",
     "exception": false,
     "start_time": "2021-08-22T01:56:19.146420",
     "status": "completed"
    },
    "tags": []
   },
   "outputs": [
    {
     "data": {
      "text/markdown": [
       "- You Are Not Too Late To Become Wildly Wealthy With Bitcoin.  Despite what appearances suggest, the best of Bitcoin is yet to come. ... [| Skaityti daugiau](https://bitcoinmagazine.com/culture/not-too-late-wealthy-with-bitcoin) "
      ],
      "text/plain": [
       "<IPython.core.display.Markdown object>"
      ]
     },
     "execution_count": 4,
     "metadata": {},
     "output_type": "execute_result"
    }
   ],
   "source": [
    "#hide_input\n",
    "#md('##### {}'.format(titleBTC)) \n",
    "md(\"- {}{} {}{} [| Skaityti daugiau]({}) \".format(btc['title'],'. ', btc['body'], ' ...', btc['url']))"
   ]
  },
  {
   "cell_type": "code",
   "execution_count": 5,
   "id": "organic-actress",
   "metadata": {
    "execution": {
     "iopub.execute_input": "2021-08-22T01:56:19.191619Z",
     "iopub.status.busy": "2021-08-22T01:56:19.190855Z",
     "iopub.status.idle": "2021-08-22T01:56:19.193438Z",
     "shell.execute_reply": "2021-08-22T01:56:19.193902Z"
    },
    "papermill": {
     "duration": 0.018981,
     "end_time": "2021-08-22T01:56:19.194022",
     "exception": false,
     "start_time": "2021-08-22T01:56:19.175041",
     "status": "completed"
    },
    "tags": []
   },
   "outputs": [
    {
     "data": {
      "text/markdown": [
       "- XRP, Ethereum Classic, MATIC Price Analysis: 21 August.  Altcoins rose on their respective charts, as the broader market gained. MATIC demonstrated a 12.4% surge as it bounced off its recent support level of $1.54, ETC registered a 5% gain, while XRP continued consolidating between $1.31 and $1.20 respectively. XRP XRP registered a 4.1% gain over the last 24 hours, it was trading at [&#8230;] ... [| Skaityti daugiau](https://ambcrypto.com/xrp-ethereum-classic-matic-price-analysis-21-august/) "
      ],
      "text/plain": [
       "<IPython.core.display.Markdown object>"
      ]
     },
     "execution_count": 5,
     "metadata": {},
     "output_type": "execute_result"
    }
   ],
   "source": [
    "#hide_input\n",
    "#md('##### {}'.format(titleBTC)) \n",
    "md(\"- {}{} {}{} [| Skaityti daugiau]({}) \".format(xrp['title'],'. ', xrp['body'], ' ...', xrp['url']))"
   ]
  },
  {
   "cell_type": "code",
   "execution_count": 6,
   "id": "prompt-farmer",
   "metadata": {
    "execution": {
     "iopub.execute_input": "2021-08-22T01:56:19.222007Z",
     "iopub.status.busy": "2021-08-22T01:56:19.221388Z",
     "iopub.status.idle": "2021-08-22T01:56:19.225249Z",
     "shell.execute_reply": "2021-08-22T01:56:19.224783Z"
    },
    "papermill": {
     "duration": 0.020253,
     "end_time": "2021-08-22T01:56:19.225364",
     "exception": false,
     "start_time": "2021-08-22T01:56:19.205111",
     "status": "completed"
    },
    "tags": []
   },
   "outputs": [
    {
     "data": {
      "text/markdown": [
       "- Binance Coin, Tron, IOTA Price Analysis: 20 August.  Bitcoin appreciated over the last 24 hours and was back to trading above the $47k at press time. This had an impact on the market&#8217;s altcoins too. BNB, for instance, hiked by 8.3%. TRX was trading close to its immediate resistance of $0.088 while IOTA attempted to retest the $1.09 price ceiling after surging by [&#8230;] ... [| Skaityti daugiau](https://ambcrypto.com/binance-coin-tron-iota-price-analysis-20-august/) "
      ],
      "text/plain": [
       "<IPython.core.display.Markdown object>"
      ]
     },
     "execution_count": 6,
     "metadata": {},
     "output_type": "execute_result"
    }
   ],
   "source": [
    "#hide_input\n",
    "#md('##### {}'.format(titleBTC)) \n",
    "md(\"- {}{} {}{} [| Skaityti daugiau]({}) \".format(trx['title'],'. ', trx['body'], ' ...', trx['url']))"
   ]
  },
  {
   "cell_type": "code",
   "execution_count": 7,
   "id": "illegal-greece",
   "metadata": {
    "execution": {
     "iopub.execute_input": "2021-08-22T01:56:19.252152Z",
     "iopub.status.busy": "2021-08-22T01:56:19.251608Z",
     "iopub.status.idle": "2021-08-22T01:56:19.255619Z",
     "shell.execute_reply": "2021-08-22T01:56:19.255149Z"
    },
    "papermill": {
     "duration": 0.019007,
     "end_time": "2021-08-22T01:56:19.255743",
     "exception": false,
     "start_time": "2021-08-22T01:56:19.236736",
     "status": "completed"
    },
    "tags": []
   },
   "outputs": [
    {
     "data": {
      "text/markdown": [
       "- Walmart is seeking a crypto product lead, the Dogecoin Foundation is active again after a long break, Coinbase has amassed a $4 billion cash-backed war chest: Holder’s Digest, Aug. 15-21.   ... [| Skaityti daugiau](https://cointelegraph.com/magazine/2021/08/21/walmart-dogecoin-foundation-coinbase-war-chest-hodlers-digest-aug-15-21) "
      ],
      "text/plain": [
       "<IPython.core.display.Markdown object>"
      ]
     },
     "execution_count": 7,
     "metadata": {},
     "output_type": "execute_result"
    }
   ],
   "source": [
    "#hide_input\n",
    "#md('##### {}'.format(titleBTC)) \n",
    "md(\"- {}{} {}{} [| Skaityti daugiau]({}) \".format(eth['title'],'. ', eth['body'], ' ...', eth['url']))"
   ]
  },
  {
   "cell_type": "code",
   "execution_count": 8,
   "id": "sublime-lounge",
   "metadata": {
    "execution": {
     "iopub.execute_input": "2021-08-22T01:56:19.283762Z",
     "iopub.status.busy": "2021-08-22T01:56:19.283172Z",
     "iopub.status.idle": "2021-08-22T01:56:19.286618Z",
     "shell.execute_reply": "2021-08-22T01:56:19.286125Z"
    },
    "papermill": {
     "duration": 0.019426,
     "end_time": "2021-08-22T01:56:19.286723",
     "exception": false,
     "start_time": "2021-08-22T01:56:19.267297",
     "status": "completed"
    },
    "tags": []
   },
   "outputs": [
    {
     "data": {
      "text/markdown": [
       "- Cardano’s journey to $3 is likely to play out like this.  Disclaimer: The findings of the following analysis are the sole opinions of the writer and should not be taken as investment advice Cardano regained its position as the third-largest cryptocurrency on the back of a bull flag breakout that set new records on the chart. The Fibonacci tool highlighted potential target areas in what would turn [&#8230;] ... [| Skaityti daugiau](https://ambcrypto.com/cardanos-journey-to-3-is-likely-to-play-out-like-this/) "
      ],
      "text/plain": [
       "<IPython.core.display.Markdown object>"
      ]
     },
     "execution_count": 8,
     "metadata": {},
     "output_type": "execute_result"
    }
   ],
   "source": [
    "#hide_input\n",
    "#md('##### {}'.format(titleBTC)) \n",
    "md(\"- {}{} {}{} [| Skaityti daugiau]({}) \".format(ada['title'],'. ', ada['body'], ' ...', ada['url']))"
   ]
  },
  {
   "cell_type": "code",
   "execution_count": 9,
   "id": "specified-ordering",
   "metadata": {
    "execution": {
     "iopub.execute_input": "2021-08-22T01:56:19.316211Z",
     "iopub.status.busy": "2021-08-22T01:56:19.315672Z",
     "iopub.status.idle": "2021-08-22T01:56:19.318610Z",
     "shell.execute_reply": "2021-08-22T01:56:19.318120Z"
    },
    "papermill": {
     "duration": 0.020021,
     "end_time": "2021-08-22T01:56:19.318720",
     "exception": false,
     "start_time": "2021-08-22T01:56:19.298699",
     "status": "completed"
    },
    "tags": []
   },
   "outputs": [
    {
     "data": {
      "text/markdown": [
       "- Should you bet on Binance Coin regaining its market position from Cardano.  Binance Coin, the token native to the Binance network, lost its long-standing position as one of the top-3 cryptocurrencies in the market. As Cardano hit a new all-time high, it pushed BNB to the fourth position on CMC. Now, it truly feels like the Cardano is the third-generation cryptocurrency. Except BNB seems to be trying [&#8230;] ... [| Skaityti daugiau](https://ambcrypto.com/should-you-bet-on-binance-coin-regaining-its-market-position-from-cardano/) "
      ],
      "text/plain": [
       "<IPython.core.display.Markdown object>"
      ]
     },
     "execution_count": 9,
     "metadata": {},
     "output_type": "execute_result"
    }
   ],
   "source": [
    "#hide_input\n",
    "#md('##### {}'.format(titleBTC)) \n",
    "md(\"- {}{} {}{} [| Skaityti daugiau]({}) \".format(exchange['title'],'. ', exchange['body'], ' ...', exchange['url']))"
   ]
  },
  {
   "cell_type": "code",
   "execution_count": null,
   "id": "tender-livestock",
   "metadata": {
    "papermill": {
     "duration": 0.012559,
     "end_time": "2021-08-22T01:56:19.343690",
     "exception": false,
     "start_time": "2021-08-22T01:56:19.331131",
     "status": "completed"
    },
    "tags": []
   },
   "outputs": [],
   "source": []
  },
  {
   "cell_type": "code",
   "execution_count": null,
   "id": "appreciated-diamond",
   "metadata": {
    "papermill": {
     "duration": 0.012163,
     "end_time": "2021-08-22T01:56:19.368293",
     "exception": false,
     "start_time": "2021-08-22T01:56:19.356130",
     "status": "completed"
    },
    "tags": []
   },
   "outputs": [],
   "source": []
  },
  {
   "cell_type": "code",
   "execution_count": null,
   "id": "romance-sweden",
   "metadata": {
    "papermill": {
     "duration": 0.012292,
     "end_time": "2021-08-22T01:56:19.392920",
     "exception": false,
     "start_time": "2021-08-22T01:56:19.380628",
     "status": "completed"
    },
    "tags": []
   },
   "outputs": [],
   "source": []
  },
  {
   "cell_type": "code",
   "execution_count": null,
   "id": "dietary-statistics",
   "metadata": {
    "papermill": {
     "duration": 0.012201,
     "end_time": "2021-08-22T01:56:19.417329",
     "exception": false,
     "start_time": "2021-08-22T01:56:19.405128",
     "status": "completed"
    },
    "tags": []
   },
   "outputs": [],
   "source": []
  }
 ],
 "metadata": {
  "kernelspec": {
   "display_name": "Python 3",
   "language": "python",
   "name": "python3"
  },
  "language_info": {
   "codemirror_mode": {
    "name": "ipython",
    "version": 3
   },
   "file_extension": ".py",
   "mimetype": "text/x-python",
   "name": "python",
   "nbconvert_exporter": "python",
   "pygments_lexer": "ipython3",
   "version": "3.6.14"
  },
  "papermill": {
   "default_parameters": {},
   "duration": 11.451534,
   "end_time": "2021-08-22T01:56:19.838087",
   "environment_variables": {},
   "exception": null,
   "input_path": "Market-News.ipynb",
   "output_path": "Market-News.ipynb",
   "parameters": {},
   "start_time": "2021-08-22T01:56:08.386553",
   "version": "2.2.2"
  }
 },
 "nbformat": 4,
 "nbformat_minor": 5
}