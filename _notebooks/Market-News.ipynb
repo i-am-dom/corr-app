{
 "cells": [
  {
   "cell_type": "markdown",
   "id": "short-greensboro",
   "metadata": {
    "papermill": {
     "duration": 0.022132,
     "end_time": "2022-04-07T02:30:30.635526",
     "exception": false,
     "start_time": "2022-04-07T02:30:30.613394",
     "status": "completed"
    },
    "tags": []
   },
   "source": [
    "# Kriptovaliutų naujienos"
   ]
  },
  {
   "cell_type": "code",
   "execution_count": 1,
   "id": "functioning-knowing",
   "metadata": {
    "execution": {
     "iopub.execute_input": "2022-04-07T02:30:30.671167Z",
     "iopub.status.busy": "2022-04-07T02:30:30.669724Z",
     "iopub.status.idle": "2022-04-07T02:30:32.229411Z",
     "shell.execute_reply": "2022-04-07T02:30:32.229943Z"
    },
    "papermill": {
     "duration": 1.582584,
     "end_time": "2022-04-07T02:30:32.230143",
     "exception": false,
     "start_time": "2022-04-07T02:30:30.647559",
     "status": "completed"
    },
    "tags": []
   },
   "outputs": [],
   "source": [
    "#hide_input\n",
    "import warnings\n",
    "warnings.filterwarnings('ignore')\n",
    "from scripts.read_data import read_api\n",
    "from scripts.read_data import read_news\n",
    "from scripts.read_data import read_covid\n",
    "import matplotlib.pyplot as plt \n",
    "from IPython.display import Markdown as md"
   ]
  },
  {
   "cell_type": "code",
   "execution_count": 2,
   "id": "shared-acceptance",
   "metadata": {
    "execution": {
     "iopub.execute_input": "2022-04-07T02:30:32.260140Z",
     "iopub.status.busy": "2022-04-07T02:30:32.259458Z",
     "iopub.status.idle": "2022-04-07T02:30:41.519173Z",
     "shell.execute_reply": "2022-04-07T02:30:41.518119Z"
    },
    "papermill": {
     "duration": 9.277831,
     "end_time": "2022-04-07T02:30:41.519334",
     "exception": false,
     "start_time": "2022-04-07T02:30:32.241503",
     "status": "completed"
    },
    "tags": []
   },
   "outputs": [],
   "source": [
    "#hide_input\n",
    "blockchain = read_news('blockchain') \n",
    "btc = read_news('btc') \n",
    "xrp = read_news('xrp') \n",
    "trx = read_news('trx') \n",
    "eth = read_news('eth')  \n",
    "ada = read_news('ada')\n",
    "exchange = read_news('exchange') "
   ]
  },
  {
   "cell_type": "code",
   "execution_count": 3,
   "id": "synthetic-notion",
   "metadata": {
    "execution": {
     "iopub.execute_input": "2022-04-07T02:30:41.548377Z",
     "iopub.status.busy": "2022-04-07T02:30:41.547707Z",
     "iopub.status.idle": "2022-04-07T02:30:41.552572Z",
     "shell.execute_reply": "2022-04-07T02:30:41.552069Z"
    },
    "papermill": {
     "duration": 0.022376,
     "end_time": "2022-04-07T02:30:41.552702",
     "exception": false,
     "start_time": "2022-04-07T02:30:41.530326",
     "status": "completed"
    },
    "tags": []
   },
   "outputs": [
    {
     "data": {
      "text/markdown": [
       "- Cardano ($ADA) Foundation Is Partnering With ‘One of the Leading Research Universities in Europe’.  The Cardano Foundation, a non-profit organization custodian of the Cardano ($ADA) blockchain, has partnered with the Blockchain Center of the University of Zurich, “one of the leading research universities of Europe.” According to an announcement, the partnership is meant to explore the “development of blockchain education and research initiatives.” The Foundation is looking to establish […] ... [| Skaityti daugiau](https://www.cryptoglobe.com/latest/2022/04/cardano-ada-foundation-is-partnering-with-one-of-the-leading-research-universities-in-europe/) "
      ],
      "text/plain": [
       "<IPython.core.display.Markdown object>"
      ]
     },
     "execution_count": 3,
     "metadata": {},
     "output_type": "execute_result"
    }
   ],
   "source": [
    "#hide_input\n",
    "#md('##### {}'.format(titleBTC)) \n",
    "md(\"- {}{} {}{} [| Skaityti daugiau]({}) \".format(blockchain['title'],'. ', blockchain['body'], ' ...', blockchain['url']))"
   ]
  },
  {
   "cell_type": "code",
   "execution_count": 4,
   "id": "aging-caution",
   "metadata": {
    "execution": {
     "iopub.execute_input": "2022-04-07T02:30:41.581918Z",
     "iopub.status.busy": "2022-04-07T02:30:41.581273Z",
     "iopub.status.idle": "2022-04-07T02:30:41.583765Z",
     "shell.execute_reply": "2022-04-07T02:30:41.584296Z"
    },
    "papermill": {
     "duration": 0.020361,
     "end_time": "2022-04-07T02:30:41.584443",
     "exception": false,
     "start_time": "2022-04-07T02:30:41.564082",
     "status": "completed"
    },
    "tags": []
   },
   "outputs": [
    {
     "data": {
      "text/markdown": [
       "- LTC flips structure to bullish but why the macro trend is still bearish.  Disclaimer: The findings of the following analysis are the sole opinions of the writer and should not be considered investment advice The movement of Litecoin on the price charts has a +0.96 correlation (30-day) with the movement of Bitcoin. This meant that the bullish phases of Bitcoin would also see price appreciation for Litecoin. Yet, while [&#8230;] ... [| Skaityti daugiau](https://ambcrypto.com/ltc-flips-structure-to-bullish-but-why-the-macro-trend-is-still-bearish/) "
      ],
      "text/plain": [
       "<IPython.core.display.Markdown object>"
      ]
     },
     "execution_count": 4,
     "metadata": {},
     "output_type": "execute_result"
    }
   ],
   "source": [
    "#hide_input\n",
    "#md('##### {}'.format(titleBTC)) \n",
    "md(\"- {}{} {}{} [| Skaityti daugiau]({}) \".format(btc['title'],'. ', btc['body'], ' ...', btc['url']))"
   ]
  },
  {
   "cell_type": "code",
   "execution_count": 5,
   "id": "organic-actress",
   "metadata": {
    "execution": {
     "iopub.execute_input": "2022-04-07T02:30:41.612782Z",
     "iopub.status.busy": "2022-04-07T02:30:41.612134Z",
     "iopub.status.idle": "2022-04-07T02:30:41.615376Z",
     "shell.execute_reply": "2022-04-07T02:30:41.614855Z"
    },
    "papermill": {
     "duration": 0.019753,
     "end_time": "2022-04-07T02:30:41.615500",
     "exception": false,
     "start_time": "2022-04-07T02:30:41.595747",
     "status": "completed"
    },
    "tags": []
   },
   "outputs": [
    {
     "data": {
      "text/markdown": [
       "- Price analysis 4/6: BTC, ETH, BNB, SOL, XRP, ADA, LUNA, AVAX, DOT, DOGE.  BTC and select altcoins dropped far below their strong support levels, a clear sign that the recent bullish momentum has weakened. ... [| Skaityti daugiau](https://cointelegraph.com/news/price-analysis-4-6-btc-eth-bnb-sol-xrp-ada-luna-avax-dot-doge) "
      ],
      "text/plain": [
       "<IPython.core.display.Markdown object>"
      ]
     },
     "execution_count": 5,
     "metadata": {},
     "output_type": "execute_result"
    }
   ],
   "source": [
    "#hide_input\n",
    "#md('##### {}'.format(titleBTC)) \n",
    "md(\"- {}{} {}{} [| Skaityti daugiau]({}) \".format(xrp['title'],'. ', xrp['body'], ' ...', xrp['url']))"
   ]
  },
  {
   "cell_type": "code",
   "execution_count": 6,
   "id": "prompt-farmer",
   "metadata": {
    "execution": {
     "iopub.execute_input": "2022-04-07T02:30:41.647389Z",
     "iopub.status.busy": "2022-04-07T02:30:41.646011Z",
     "iopub.status.idle": "2022-04-07T02:30:41.650168Z",
     "shell.execute_reply": "2022-04-07T02:30:41.650653Z"
    },
    "papermill": {
     "duration": 0.023656,
     "end_time": "2022-04-07T02:30:41.650795",
     "exception": false,
     "start_time": "2022-04-07T02:30:41.627139",
     "status": "completed"
    },
    "tags": []
   },
   "outputs": [
    {
     "data": {
      "text/markdown": [
       "- Total Value of TRON (TRX) Surpasses $57.8 Billion as per Justin Sun.  The TRON community will be given exclusive access to Genesis NFT badges. APENFT&#8217;s mission is to establish a global cross-fieldThe post has appeared first on thenewscrypto.com ... [| Skaityti daugiau](https://thenewscrypto.com/total-value-of-tron-surpasses-57-8-billion-as-per-justin-sun/) "
      ],
      "text/plain": [
       "<IPython.core.display.Markdown object>"
      ]
     },
     "execution_count": 6,
     "metadata": {},
     "output_type": "execute_result"
    }
   ],
   "source": [
    "#hide_input\n",
    "#md('##### {}'.format(titleBTC)) \n",
    "md(\"- {}{} {}{} [| Skaityti daugiau]({}) \".format(trx['title'],'. ', trx['body'], ' ...', trx['url']))"
   ]
  },
  {
   "cell_type": "code",
   "execution_count": 7,
   "id": "illegal-greece",
   "metadata": {
    "execution": {
     "iopub.execute_input": "2022-04-07T02:30:41.679996Z",
     "iopub.status.busy": "2022-04-07T02:30:41.678759Z",
     "iopub.status.idle": "2022-04-07T02:30:41.682849Z",
     "shell.execute_reply": "2022-04-07T02:30:41.683316Z"
    },
    "papermill": {
     "duration": 0.020401,
     "end_time": "2022-04-07T02:30:41.683459",
     "exception": false,
     "start_time": "2022-04-07T02:30:41.663058",
     "status": "completed"
    },
    "tags": []
   },
   "outputs": [
    {
     "data": {
      "text/markdown": [
       "- Cardano ($ADA) Foundation Is Partnering With ‘One of the Leading Research Universities in Europe’.  The Cardano Foundation, a non-profit organization custodian of the Cardano ($ADA) blockchain, has partnered with the Blockchain Center of the University of Zurich, “one of the leading research universities of Europe.” According to an announcement, the partnership is meant to explore the “development of blockchain education and research initiatives.” The Foundation is looking to establish […] ... [| Skaityti daugiau](https://www.cryptoglobe.com/latest/2022/04/cardano-ada-foundation-is-partnering-with-one-of-the-leading-research-universities-in-europe/) "
      ],
      "text/plain": [
       "<IPython.core.display.Markdown object>"
      ]
     },
     "execution_count": 7,
     "metadata": {},
     "output_type": "execute_result"
    }
   ],
   "source": [
    "#hide_input\n",
    "#md('##### {}'.format(titleBTC)) \n",
    "md(\"- {}{} {}{} [| Skaityti daugiau]({}) \".format(eth['title'],'. ', eth['body'], ' ...', eth['url']))"
   ]
  },
  {
   "cell_type": "code",
   "execution_count": 8,
   "id": "sublime-lounge",
   "metadata": {
    "execution": {
     "iopub.execute_input": "2022-04-07T02:30:41.713176Z",
     "iopub.status.busy": "2022-04-07T02:30:41.711996Z",
     "iopub.status.idle": "2022-04-07T02:30:41.716551Z",
     "shell.execute_reply": "2022-04-07T02:30:41.716047Z"
    },
    "papermill": {
     "duration": 0.020808,
     "end_time": "2022-04-07T02:30:41.716678",
     "exception": false,
     "start_time": "2022-04-07T02:30:41.695870",
     "status": "completed"
    },
    "tags": []
   },
   "outputs": [
    {
     "data": {
      "text/markdown": [
       "- Cardano ($ADA) Foundation Is Partnering With ‘One of the Leading Research Universities in Europe’.  The Cardano Foundation, a non-profit organization custodian of the Cardano ($ADA) blockchain, has partnered with the Blockchain Center of the University of Zurich, “one of the leading research universities of Europe.” According to an announcement, the partnership is meant to explore the “development of blockchain education and research initiatives.” The Foundation is looking to establish […] ... [| Skaityti daugiau](https://www.cryptoglobe.com/latest/2022/04/cardano-ada-foundation-is-partnering-with-one-of-the-leading-research-universities-in-europe/) "
      ],
      "text/plain": [
       "<IPython.core.display.Markdown object>"
      ]
     },
     "execution_count": 8,
     "metadata": {},
     "output_type": "execute_result"
    }
   ],
   "source": [
    "#hide_input\n",
    "#md('##### {}'.format(titleBTC)) \n",
    "md(\"- {}{} {}{} [| Skaityti daugiau]({}) \".format(ada['title'],'. ', ada['body'], ' ...', ada['url']))"
   ]
  },
  {
   "cell_type": "code",
   "execution_count": 9,
   "id": "specified-ordering",
   "metadata": {
    "execution": {
     "iopub.execute_input": "2022-04-07T02:30:41.748161Z",
     "iopub.status.busy": "2022-04-07T02:30:41.747505Z",
     "iopub.status.idle": "2022-04-07T02:30:41.751191Z",
     "shell.execute_reply": "2022-04-07T02:30:41.750698Z"
    },
    "papermill": {
     "duration": 0.021606,
     "end_time": "2022-04-07T02:30:41.751316",
     "exception": false,
     "start_time": "2022-04-07T02:30:41.729710",
     "status": "completed"
    },
    "tags": []
   },
   "outputs": [
    {
     "data": {
      "text/markdown": [
       "- Bitcoin Exchange Traded Products Near 1% Of Total BTC Supply.  Bitcoin exchange traded products (ETPs) have had a good month in March. BTC assets under management had grown exponentially in this one-month period to touch a new all-time high. This is propelled forward by the inflows that have categorized these ETPs in the last month. This has made March one of the most successful months for bitcoin ETPs as all BTC products have marked positive net flows over this time period. Bitcoin AUM At New All-Time High The total bitcoin AUM had gone up dramatically in March. Looking at the numbers show this movement to be one of the highest growth trends ever recorded in this regard. The previous one was the jump that was recorded back in November of 2021. By February, the total asset under management had been sitting at 190,165 BTC. However, by the end of March, this number had grown as high as 202,437 BTC. This constituted a new record for BTC under management. Related Reading &#124; Bitcoin Retail Reaches Second-Highest Buying Rate In History. Good Or Bad? The net inflows for March were a big addition to this. In total, there were 12,727 BTC that flowed into ETPs last month alone. This had helped the digital asset mark its strongest month in terms of ETP inflows since November. Inflows were recorded all across the board and across all regions. BTC ETPs hit a record high in March &#124; Source: Arcane Research An example of this was the Canadian ETFs which recorded one of the sharpest growth in its... ... [| Skaityti daugiau](https://www.newsbtc.com/news/bitcoin/bitcoin-exchange-traded-products-near-1-of-total-btc-supply/) "
      ],
      "text/plain": [
       "<IPython.core.display.Markdown object>"
      ]
     },
     "execution_count": 9,
     "metadata": {},
     "output_type": "execute_result"
    }
   ],
   "source": [
    "#hide_input\n",
    "#md('##### {}'.format(titleBTC)) \n",
    "md(\"- {}{} {}{} [| Skaityti daugiau]({}) \".format(exchange['title'],'. ', exchange['body'], ' ...', exchange['url']))"
   ]
  },
  {
   "cell_type": "code",
   "execution_count": null,
   "id": "tender-livestock",
   "metadata": {
    "papermill": {
     "duration": 0.013273,
     "end_time": "2022-04-07T02:30:41.778073",
     "exception": false,
     "start_time": "2022-04-07T02:30:41.764800",
     "status": "completed"
    },
    "tags": []
   },
   "outputs": [],
   "source": []
  },
  {
   "cell_type": "code",
   "execution_count": null,
   "id": "appreciated-diamond",
   "metadata": {
    "papermill": {
     "duration": 0.013268,
     "end_time": "2022-04-07T02:30:41.804685",
     "exception": false,
     "start_time": "2022-04-07T02:30:41.791417",
     "status": "completed"
    },
    "tags": []
   },
   "outputs": [],
   "source": []
  },
  {
   "cell_type": "code",
   "execution_count": null,
   "id": "romance-sweden",
   "metadata": {
    "papermill": {
     "duration": 0.013301,
     "end_time": "2022-04-07T02:30:41.832451",
     "exception": false,
     "start_time": "2022-04-07T02:30:41.819150",
     "status": "completed"
    },
    "tags": []
   },
   "outputs": [],
   "source": []
  },
  {
   "cell_type": "code",
   "execution_count": null,
   "id": "dietary-statistics",
   "metadata": {
    "papermill": {
     "duration": 0.013269,
     "end_time": "2022-04-07T02:30:41.859131",
     "exception": false,
     "start_time": "2022-04-07T02:30:41.845862",
     "status": "completed"
    },
    "tags": []
   },
   "outputs": [],
   "source": []
  }
 ],
 "metadata": {
  "kernelspec": {
   "display_name": "Python 3",
   "language": "python",
   "name": "python3"
  },
  "language_info": {
   "codemirror_mode": {
    "name": "ipython",
    "version": 3
   },
   "file_extension": ".py",
   "mimetype": "text/x-python",
   "name": "python",
   "nbconvert_exporter": "python",
   "pygments_lexer": "ipython3",
   "version": "3.6.15"
  },
  "papermill": {
   "default_parameters": {},
   "duration": 13.09964,
   "end_time": "2022-04-07T02:30:42.393366",
   "environment_variables": {},
   "exception": null,
   "input_path": "Market-News.ipynb",
   "output_path": "Market-News.ipynb",
   "parameters": {},
   "start_time": "2022-04-07T02:30:29.293726",
   "version": "2.2.2"
  }
 },
 "nbformat": 4,
 "nbformat_minor": 5
}