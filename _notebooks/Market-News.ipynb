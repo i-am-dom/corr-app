{
 "cells": [
  {
   "cell_type": "markdown",
   "id": "short-greensboro",
   "metadata": {
    "papermill": {
     "duration": 0.01991,
     "end_time": "2022-09-02T03:42:16.018774",
     "exception": false,
     "start_time": "2022-09-02T03:42:15.998864",
     "status": "completed"
    },
    "tags": []
   },
   "source": [
    "# Kriptovaliutų naujienos"
   ]
  },
  {
   "cell_type": "code",
   "execution_count": 1,
   "id": "functioning-knowing",
   "metadata": {
    "execution": {
     "iopub.execute_input": "2022-09-02T03:42:16.056851Z",
     "iopub.status.busy": "2022-09-02T03:42:16.056126Z",
     "iopub.status.idle": "2022-09-02T03:42:17.499912Z",
     "shell.execute_reply": "2022-09-02T03:42:17.500484Z"
    },
    "papermill": {
     "duration": 1.468194,
     "end_time": "2022-09-02T03:42:17.500675",
     "exception": false,
     "start_time": "2022-09-02T03:42:16.032481",
     "status": "completed"
    },
    "tags": []
   },
   "outputs": [],
   "source": [
    "#hide_input\n",
    "import warnings\n",
    "warnings.filterwarnings('ignore')\n",
    "from scripts.read_data import read_api\n",
    "from scripts.read_data import read_news\n",
    "from scripts.read_data import read_covid\n",
    "import matplotlib.pyplot as plt \n",
    "from IPython.display import Markdown as md"
   ]
  },
  {
   "cell_type": "code",
   "execution_count": 2,
   "id": "shared-acceptance",
   "metadata": {
    "execution": {
     "iopub.execute_input": "2022-09-02T03:42:17.529074Z",
     "iopub.status.busy": "2022-09-02T03:42:17.528354Z",
     "iopub.status.idle": "2022-09-02T03:42:31.001434Z",
     "shell.execute_reply": "2022-09-02T03:42:31.000756Z"
    },
    "papermill": {
     "duration": 13.489602,
     "end_time": "2022-09-02T03:42:31.001579",
     "exception": false,
     "start_time": "2022-09-02T03:42:17.511977",
     "status": "completed"
    },
    "tags": []
   },
   "outputs": [],
   "source": [
    "#hide_input\n",
    "blockchain = read_news('blockchain') \n",
    "btc = read_news('btc') \n",
    "xrp = read_news('xrp') \n",
    "trx = read_news('trx') \n",
    "eth = read_news('eth')  \n",
    "ada = read_news('ada')\n",
    "exchange = read_news('exchange') "
   ]
  },
  {
   "cell_type": "code",
   "execution_count": 3,
   "id": "synthetic-notion",
   "metadata": {
    "execution": {
     "iopub.execute_input": "2022-09-02T03:42:31.031845Z",
     "iopub.status.busy": "2022-09-02T03:42:31.031051Z",
     "iopub.status.idle": "2022-09-02T03:42:31.037700Z",
     "shell.execute_reply": "2022-09-02T03:42:31.038227Z"
    },
    "papermill": {
     "duration": 0.025521,
     "end_time": "2022-09-02T03:42:31.038358",
     "exception": false,
     "start_time": "2022-09-02T03:42:31.012837",
     "status": "completed"
    },
    "tags": []
   },
   "outputs": [
    {
     "data": {
      "text/markdown": [
       "- Billionaire David Rubenstein Predicts Future Of Crypto Regulation.  Billionaire businessman David Rubenstein said he is bullish on the crypto assets industry. Despite regulatory pressures, he predicted that some of the blockchain companies would be successful in future. He also shed some light on the Congress&#8217; view of crypto and its position to regulate the industry. Although some companies have been hurt by the The post Billionaire David Rubenstein Predicts Future Of Crypto Regulation appeared first on CoinGape. ... [| Skaityti daugiau](https://coingape.com/billionaire-david-rubenstein-predicts-future-of-crypto-regulation/) "
      ],
      "text/plain": [
       "<IPython.core.display.Markdown object>"
      ]
     },
     "execution_count": 3,
     "metadata": {},
     "output_type": "execute_result"
    }
   ],
   "source": [
    "#hide_input\n",
    "#md('##### {}'.format(titleBTC)) \n",
    "md(\"- {}{} {}{} [| Skaityti daugiau]({}) \".format(blockchain['title'],'. ', blockchain['body'], ' ...', blockchain['url']))"
   ]
  },
  {
   "cell_type": "code",
   "execution_count": 4,
   "id": "aging-caution",
   "metadata": {
    "execution": {
     "iopub.execute_input": "2022-09-02T03:42:31.068172Z",
     "iopub.status.busy": "2022-09-02T03:42:31.067103Z",
     "iopub.status.idle": "2022-09-02T03:42:31.070719Z",
     "shell.execute_reply": "2022-09-02T03:42:31.071364Z"
    },
    "papermill": {
     "duration": 0.022359,
     "end_time": "2022-09-02T03:42:31.071497",
     "exception": false,
     "start_time": "2022-09-02T03:42:31.049138",
     "status": "completed"
    },
    "tags": []
   },
   "outputs": [
    {
     "data": {
      "text/markdown": [
       "- Bitcoin, Ethereum, FTX Token, and Cosmos Daily Price Analyses – 1 September Roundup.  The global crypto market has slightly improved over the last 24 hours. The latest data shows that the market attracted investments. The recent data for Bitcoin, Ethereum, and others show considerable improvement. The changes in the market show a positive trend which is expected to encourage investors. As the improvement continues, the market will see &#8230;  Bitcoin, Ethereum, FTX Token, and Cosmos Daily Price Analyses – 1 September Roundup Read More &#187; ... [| Skaityti daugiau](https://www.cryptopolitan.com/bitcoin-ethereum-ftx-token-and-cosmos-daily-price-analyses-1-september-roundup/) "
      ],
      "text/plain": [
       "<IPython.core.display.Markdown object>"
      ]
     },
     "execution_count": 4,
     "metadata": {},
     "output_type": "execute_result"
    }
   ],
   "source": [
    "#hide_input\n",
    "#md('##### {}'.format(titleBTC)) \n",
    "md(\"- {}{} {}{} [| Skaityti daugiau]({}) \".format(btc['title'],'. ', btc['body'], ' ...', btc['url']))"
   ]
  },
  {
   "cell_type": "code",
   "execution_count": 5,
   "id": "organic-actress",
   "metadata": {
    "execution": {
     "iopub.execute_input": "2022-09-02T03:42:31.106256Z",
     "iopub.status.busy": "2022-09-02T03:42:31.104622Z",
     "iopub.status.idle": "2022-09-02T03:42:31.108912Z",
     "shell.execute_reply": "2022-09-02T03:42:31.108343Z"
    },
    "papermill": {
     "duration": 0.023155,
     "end_time": "2022-09-02T03:42:31.109040",
     "exception": false,
     "start_time": "2022-09-02T03:42:31.085885",
     "status": "completed"
    },
    "tags": []
   },
   "outputs": [
    {
     "data": {
      "text/markdown": [
       "- Crypto Community Sees $XRP Price Explode Upward in September, Data Shows.  The cryptocurrency community is predicting that the price of $XRP will explode upward to end the month of September at $0.4917, which would mean the cryptocurrency’s price would rise 51.3% from its current $0.324 level. The figures come from CoinMarketCap’s price estimate feature, which saw over 1,200 users predict the cryptocurrency’s price for the end […] ... [| Skaityti daugiau](https://www.cryptoglobe.com/latest/2022/09/crypto-community-sees-xrp-price-explode-upward-in-september-data-shows/) "
      ],
      "text/plain": [
       "<IPython.core.display.Markdown object>"
      ]
     },
     "execution_count": 5,
     "metadata": {},
     "output_type": "execute_result"
    }
   ],
   "source": [
    "#hide_input\n",
    "#md('##### {}'.format(titleBTC)) \n",
    "md(\"- {}{} {}{} [| Skaityti daugiau]({}) \".format(xrp['title'],'. ', xrp['body'], ' ...', xrp['url']))"
   ]
  },
  {
   "cell_type": "code",
   "execution_count": 6,
   "id": "prompt-farmer",
   "metadata": {
    "execution": {
     "iopub.execute_input": "2022-09-02T03:42:31.137926Z",
     "iopub.status.busy": "2022-09-02T03:42:31.137117Z",
     "iopub.status.idle": "2022-09-02T03:42:31.143898Z",
     "shell.execute_reply": "2022-09-02T03:42:31.144491Z"
    },
    "papermill": {
     "duration": 0.023622,
     "end_time": "2022-09-02T03:42:31.144634",
     "exception": false,
     "start_time": "2022-09-02T03:42:31.121012",
     "status": "completed"
    },
    "tags": []
   },
   "outputs": [
    {
     "data": {
      "text/markdown": [
       "- Tron ($TRX) Total Transfer Value Breaches $5 Trillion-Mark.  Tron ($TRX) appears to be reaching milestones of late, as most traders within the crypto ecosystem flock to the network to settle transactions. The PoS blockchain recently crossed $5 trillion in value of transactions carried out on it. This feat highlights the increasing interest in its high-throughput and low-cost services. A feat of $5.2 trillion The post Tron ($TRX) Total Transfer Value Breaches $5 Trillion-Mark appeared first on CoinGape. ... [| Skaityti daugiau](https://coingape.com/tron-trx-total-transfer-value-breaches-5-trillion-mark/) "
      ],
      "text/plain": [
       "<IPython.core.display.Markdown object>"
      ]
     },
     "execution_count": 6,
     "metadata": {},
     "output_type": "execute_result"
    }
   ],
   "source": [
    "#hide_input\n",
    "#md('##### {}'.format(titleBTC)) \n",
    "md(\"- {}{} {}{} [| Skaityti daugiau]({}) \".format(trx['title'],'. ', trx['body'], ' ...', trx['url']))"
   ]
  },
  {
   "cell_type": "code",
   "execution_count": 7,
   "id": "illegal-greece",
   "metadata": {
    "execution": {
     "iopub.execute_input": "2022-09-02T03:42:31.175760Z",
     "iopub.status.busy": "2022-09-02T03:42:31.174932Z",
     "iopub.status.idle": "2022-09-02T03:42:31.181415Z",
     "shell.execute_reply": "2022-09-02T03:42:31.181927Z"
    },
    "papermill": {
     "duration": 0.024914,
     "end_time": "2022-09-02T03:42:31.182066",
     "exception": false,
     "start_time": "2022-09-02T03:42:31.157152",
     "status": "completed"
    },
    "tags": []
   },
   "outputs": [
    {
     "data": {
      "text/markdown": [
       "- Bitcoin, Ethereum, FTX Token, and Cosmos Daily Price Analyses – 1 September Roundup.  The global crypto market has slightly improved over the last 24 hours. The latest data shows that the market attracted investments. The recent data for Bitcoin, Ethereum, and others show considerable improvement. The changes in the market show a positive trend which is expected to encourage investors. As the improvement continues, the market will see &#8230;  Bitcoin, Ethereum, FTX Token, and Cosmos Daily Price Analyses – 1 September Roundup Read More &#187; ... [| Skaityti daugiau](https://www.cryptopolitan.com/bitcoin-ethereum-ftx-token-and-cosmos-daily-price-analyses-1-september-roundup/) "
      ],
      "text/plain": [
       "<IPython.core.display.Markdown object>"
      ]
     },
     "execution_count": 7,
     "metadata": {},
     "output_type": "execute_result"
    }
   ],
   "source": [
    "#hide_input\n",
    "#md('##### {}'.format(titleBTC)) \n",
    "md(\"- {}{} {}{} [| Skaityti daugiau]({}) \".format(eth['title'],'. ', eth['body'], ' ...', eth['url']))"
   ]
  },
  {
   "cell_type": "code",
   "execution_count": 8,
   "id": "sublime-lounge",
   "metadata": {
    "execution": {
     "iopub.execute_input": "2022-09-02T03:42:31.216855Z",
     "iopub.status.busy": "2022-09-02T03:42:31.214846Z",
     "iopub.status.idle": "2022-09-02T03:42:31.219322Z",
     "shell.execute_reply": "2022-09-02T03:42:31.219878Z"
    },
    "papermill": {
     "duration": 0.024718,
     "end_time": "2022-09-02T03:42:31.220022",
     "exception": false,
     "start_time": "2022-09-02T03:42:31.195304",
     "status": "completed"
    },
    "tags": []
   },
   "outputs": [
    {
     "data": {
      "text/markdown": [
       "- Assessing if Cardano bulls can initiate long-term rally in September.  Disclaimer: The findings of the following analysis are the sole opinions of the writer and should not be considered investment advice. Data on Coinglass showed that the majority of market participants were positioned short on the ADA-USDT pair over the past 24 hours. Indeed, on the lower timeframes, Cardano had a bearish outlook after it slipped [&#8230;] ... [| Skaityti daugiau](https://ambcrypto.com/assessing-if-cardano-bulls-can-initiate-long-term-rally-in-september/) "
      ],
      "text/plain": [
       "<IPython.core.display.Markdown object>"
      ]
     },
     "execution_count": 8,
     "metadata": {},
     "output_type": "execute_result"
    }
   ],
   "source": [
    "#hide_input\n",
    "#md('##### {}'.format(titleBTC)) \n",
    "md(\"- {}{} {}{} [| Skaityti daugiau]({}) \".format(ada['title'],'. ', ada['body'], ' ...', ada['url']))"
   ]
  },
  {
   "cell_type": "code",
   "execution_count": 9,
   "id": "specified-ordering",
   "metadata": {
    "execution": {
     "iopub.execute_input": "2022-09-02T03:42:31.251540Z",
     "iopub.status.busy": "2022-09-02T03:42:31.250755Z",
     "iopub.status.idle": "2022-09-02T03:42:31.255739Z",
     "shell.execute_reply": "2022-09-02T03:42:31.255202Z"
    },
    "papermill": {
     "duration": 0.022728,
     "end_time": "2022-09-02T03:42:31.255968",
     "exception": false,
     "start_time": "2022-09-02T03:42:31.233240",
     "status": "completed"
    },
    "tags": []
   },
   "outputs": [
    {
     "data": {
      "text/markdown": [
       "- Crypto.com Accidentally Sent $7 Million to Customer — Sues 7 Months Later to Get It Back.  Cryptocurrency exchange Crypto.com accidentally transferred about $7.26 million to a customer&#x2019;s account but did not notice the error for seven months. The crypto company has now sued the customer to recover the funds. Crypto.com Sues Customer 7 Months After Mistakenly Transferring over $7 Million The Australian Supreme Court of Victoria released a default judgment Friday [&#8230;] ... [| Skaityti daugiau](https://news.bitcoin.com/crypto-com-accidentally-sent-7-million-to-customer-sues-7-months-later-to-get-it-back/) "
      ],
      "text/plain": [
       "<IPython.core.display.Markdown object>"
      ]
     },
     "execution_count": 9,
     "metadata": {},
     "output_type": "execute_result"
    }
   ],
   "source": [
    "#hide_input\n",
    "#md('##### {}'.format(titleBTC)) \n",
    "md(\"- {}{} {}{} [| Skaityti daugiau]({}) \".format(exchange['title'],'. ', exchange['body'], ' ...', exchange['url']))"
   ]
  },
  {
   "cell_type": "code",
   "execution_count": null,
   "id": "tender-livestock",
   "metadata": {
    "papermill": {
     "duration": 0.013108,
     "end_time": "2022-09-02T03:42:31.281630",
     "exception": false,
     "start_time": "2022-09-02T03:42:31.268522",
     "status": "completed"
    },
    "tags": []
   },
   "outputs": [],
   "source": []
  },
  {
   "cell_type": "code",
   "execution_count": null,
   "id": "appreciated-diamond",
   "metadata": {
    "papermill": {
     "duration": 0.013758,
     "end_time": "2022-09-02T03:42:31.309818",
     "exception": false,
     "start_time": "2022-09-02T03:42:31.296060",
     "status": "completed"
    },
    "tags": []
   },
   "outputs": [],
   "source": []
  },
  {
   "cell_type": "code",
   "execution_count": null,
   "id": "romance-sweden",
   "metadata": {
    "papermill": {
     "duration": 0.01356,
     "end_time": "2022-09-02T03:42:31.335820",
     "exception": false,
     "start_time": "2022-09-02T03:42:31.322260",
     "status": "completed"
    },
    "tags": []
   },
   "outputs": [],
   "source": []
  },
  {
   "cell_type": "code",
   "execution_count": null,
   "id": "dietary-statistics",
   "metadata": {
    "papermill": {
     "duration": 0.014134,
     "end_time": "2022-09-02T03:42:31.364568",
     "exception": false,
     "start_time": "2022-09-02T03:42:31.350434",
     "status": "completed"
    },
    "tags": []
   },
   "outputs": [],
   "source": []
  }
 ],
 "metadata": {
  "kernelspec": {
   "display_name": "Python 3",
   "language": "python",
   "name": "python3"
  },
  "language_info": {
   "codemirror_mode": {
    "name": "ipython",
    "version": 3
   },
   "file_extension": ".py",
   "mimetype": "text/x-python",
   "name": "python",
   "nbconvert_exporter": "python",
   "pygments_lexer": "ipython3",
   "version": "3.6.15"
  },
  "papermill": {
   "default_parameters": {},
   "duration": 17.214124,
   "end_time": "2022-09-02T03:42:31.896725",
   "environment_variables": {},
   "exception": null,
   "input_path": "Market-News.ipynb",
   "output_path": "Market-News.ipynb",
   "parameters": {},
   "start_time": "2022-09-02T03:42:14.682601",
   "version": "2.2.2"
  }
 },
 "nbformat": 4,
 "nbformat_minor": 5
}