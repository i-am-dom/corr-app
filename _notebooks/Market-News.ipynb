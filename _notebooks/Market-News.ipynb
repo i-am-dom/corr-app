{
 "cells": [
  {
   "cell_type": "markdown",
   "id": "short-greensboro",
   "metadata": {
    "papermill": {
     "duration": 0.016563,
     "end_time": "2022-08-14T03:13:32.126812",
     "exception": false,
     "start_time": "2022-08-14T03:13:32.110249",
     "status": "completed"
    },
    "tags": []
   },
   "source": [
    "# Kriptovaliutų naujienos"
   ]
  },
  {
   "cell_type": "code",
   "execution_count": 1,
   "id": "functioning-knowing",
   "metadata": {
    "execution": {
     "iopub.execute_input": "2022-08-14T03:13:32.170120Z",
     "iopub.status.busy": "2022-08-14T03:13:32.169090Z",
     "iopub.status.idle": "2022-08-14T03:13:33.730174Z",
     "shell.execute_reply": "2022-08-14T03:13:33.730777Z"
    },
    "papermill": {
     "duration": 1.588118,
     "end_time": "2022-08-14T03:13:33.730989",
     "exception": false,
     "start_time": "2022-08-14T03:13:32.142871",
     "status": "completed"
    },
    "tags": []
   },
   "outputs": [],
   "source": [
    "#hide_input\n",
    "import warnings\n",
    "warnings.filterwarnings('ignore')\n",
    "from scripts.read_data import read_api\n",
    "from scripts.read_data import read_news\n",
    "from scripts.read_data import read_covid\n",
    "import matplotlib.pyplot as plt \n",
    "from IPython.display import Markdown as md"
   ]
  },
  {
   "cell_type": "code",
   "execution_count": 2,
   "id": "shared-acceptance",
   "metadata": {
    "execution": {
     "iopub.execute_input": "2022-08-14T03:13:33.762849Z",
     "iopub.status.busy": "2022-08-14T03:13:33.762096Z",
     "iopub.status.idle": "2022-08-14T03:13:46.415141Z",
     "shell.execute_reply": "2022-08-14T03:13:46.414482Z"
    },
    "papermill": {
     "duration": 12.672046,
     "end_time": "2022-08-14T03:13:46.415285",
     "exception": false,
     "start_time": "2022-08-14T03:13:33.743239",
     "status": "completed"
    },
    "tags": []
   },
   "outputs": [],
   "source": [
    "#hide_input\n",
    "blockchain = read_news('blockchain') \n",
    "btc = read_news('btc') \n",
    "xrp = read_news('xrp') \n",
    "trx = read_news('trx') \n",
    "eth = read_news('eth')  \n",
    "ada = read_news('ada')\n",
    "exchange = read_news('exchange') "
   ]
  },
  {
   "cell_type": "code",
   "execution_count": 3,
   "id": "synthetic-notion",
   "metadata": {
    "execution": {
     "iopub.execute_input": "2022-08-14T03:13:46.446274Z",
     "iopub.status.busy": "2022-08-14T03:13:46.445435Z",
     "iopub.status.idle": "2022-08-14T03:13:46.450003Z",
     "shell.execute_reply": "2022-08-14T03:13:46.449382Z"
    },
    "papermill": {
     "duration": 0.023117,
     "end_time": "2022-08-14T03:13:46.450132",
     "exception": false,
     "start_time": "2022-08-14T03:13:46.427015",
     "status": "completed"
    },
    "tags": []
   },
   "outputs": [
    {
     "data": {
      "text/markdown": [
       "- Coinbase Warns Polygon (MATIC) and Other Scaling Solutions Pose a Threat to Ethereum (ETH) Price – Here’s Why.  Crypto exchange Coinbase is analyzing the impact that scaling solutions could have on the Ethereum (ETH) blockchain. In a research report, Coinbase says that layer-2 scaling solutions (L2s) could cannibalize Ethereum’s revenue. &#8220;The future of L2s could very well be a zero-sum game, as whichever L2 houses the majority of decentralized applications could one day [&#8230;]The post Coinbase Warns Polygon (MATIC) and Other Scaling Solutions Pose a Threat to Ethereum (ETH) Price – Here’s Why appeared first on The Daily Hodl. ... [| Skaityti daugiau](https://dailyhodl.com/2022/08/13/coinbase-warns-polygon-matic-and-other-scaling-solutions-pose-a-threat-to-ethereum-eth-price-heres-why/) "
      ],
      "text/plain": [
       "<IPython.core.display.Markdown object>"
      ]
     },
     "execution_count": 3,
     "metadata": {},
     "output_type": "execute_result"
    }
   ],
   "source": [
    "#hide_input\n",
    "#md('##### {}'.format(titleBTC)) \n",
    "md(\"- {}{} {}{} [| Skaityti daugiau]({}) \".format(blockchain['title'],'. ', blockchain['body'], ' ...', blockchain['url']))"
   ]
  },
  {
   "cell_type": "code",
   "execution_count": 4,
   "id": "aging-caution",
   "metadata": {
    "execution": {
     "iopub.execute_input": "2022-08-14T03:13:46.479871Z",
     "iopub.status.busy": "2022-08-14T03:13:46.479093Z",
     "iopub.status.idle": "2022-08-14T03:13:46.484541Z",
     "shell.execute_reply": "2022-08-14T03:13:46.483972Z"
    },
    "papermill": {
     "duration": 0.021877,
     "end_time": "2022-08-14T03:13:46.484679",
     "exception": false,
     "start_time": "2022-08-14T03:13:46.462802",
     "status": "completed"
    },
    "tags": []
   },
   "outputs": [
    {
     "data": {
      "text/markdown": [
       "- Bitcoin, Ethereum, Polygon, and Shiba Inu Daily Price Analyses – 13 August Roundup.  The global crypto market has continued to remain bullish as the investors keep pushing it. The continued influx of capital has resulted in the increase of the market bulk. The value of Bitcoin and others has slight increase, and the further influx might take them even higher. As the influx continues, the market will enhance &#8230;  Bitcoin, Ethereum, Polygon, and Shiba Inu Daily Price Analyses – 13 August Roundup Read More &#187; ... [| Skaityti daugiau](https://www.cryptopolitan.com/bitcoin-ethereum-polygon-and-shiba-inu-daily-price-analyses-13-august-roundup/) "
      ],
      "text/plain": [
       "<IPython.core.display.Markdown object>"
      ]
     },
     "execution_count": 4,
     "metadata": {},
     "output_type": "execute_result"
    }
   ],
   "source": [
    "#hide_input\n",
    "#md('##### {}'.format(titleBTC)) \n",
    "md(\"- {}{} {}{} [| Skaityti daugiau]({}) \".format(btc['title'],'. ', btc['body'], ' ...', btc['url']))"
   ]
  },
  {
   "cell_type": "code",
   "execution_count": 5,
   "id": "organic-actress",
   "metadata": {
    "execution": {
     "iopub.execute_input": "2022-08-14T03:13:46.514625Z",
     "iopub.status.busy": "2022-08-14T03:13:46.513923Z",
     "iopub.status.idle": "2022-08-14T03:13:46.521340Z",
     "shell.execute_reply": "2022-08-14T03:13:46.520627Z"
    },
    "papermill": {
     "duration": 0.024795,
     "end_time": "2022-08-14T03:13:46.521488",
     "exception": false,
     "start_time": "2022-08-14T03:13:46.496693",
     "status": "completed"
    },
    "tags": []
   },
   "outputs": [
    {
     "data": {
      "text/markdown": [
       "- Cardano Flips XRP As ADA Hits 2-Month High, Outperforming Crypto Majors En Route to $1.  ADA is recently gaining momentum as it goes further up the 'Top 10' list of largest cryptocurrencies. ... [| Skaityti daugiau](https://zycrypto.com/cardano-flips-xrp-as-ada-hits-2-month-high-outperforming-crypto-majors-en-route-to-1/) "
      ],
      "text/plain": [
       "<IPython.core.display.Markdown object>"
      ]
     },
     "execution_count": 5,
     "metadata": {},
     "output_type": "execute_result"
    }
   ],
   "source": [
    "#hide_input\n",
    "#md('##### {}'.format(titleBTC)) \n",
    "md(\"- {}{} {}{} [| Skaityti daugiau]({}) \".format(xrp['title'],'. ', xrp['body'], ' ...', xrp['url']))"
   ]
  },
  {
   "cell_type": "code",
   "execution_count": 6,
   "id": "prompt-farmer",
   "metadata": {
    "execution": {
     "iopub.execute_input": "2022-08-14T03:13:46.552410Z",
     "iopub.status.busy": "2022-08-14T03:13:46.550997Z",
     "iopub.status.idle": "2022-08-14T03:13:46.556286Z",
     "shell.execute_reply": "2022-08-14T03:13:46.555678Z"
    },
    "papermill": {
     "duration": 0.022347,
     "end_time": "2022-08-14T03:13:46.556399",
     "exception": false,
     "start_time": "2022-08-14T03:13:46.534052",
     "status": "completed"
    },
    "tags": []
   },
   "outputs": [
    {
     "data": {
      "text/markdown": [
       "- Tron: Chalking out the odds of TRX unleashing its volatility.  Disclaimer: The findings of the following analysis are the sole opinions of the writer and should not be considered investment advice While extending its compression in the $0.063-$0.0702 range for nearly seven weeks, Tron [TRX] has been in a low volatility phase. Unlike most coins, TRX took a sideways track over the past month but maintained [&#8230;] ... [| Skaityti daugiau](https://ambcrypto.com/tron-chalking-out-the-odds-of-trx-unleashing-its-volatility/) "
      ],
      "text/plain": [
       "<IPython.core.display.Markdown object>"
      ]
     },
     "execution_count": 6,
     "metadata": {},
     "output_type": "execute_result"
    }
   ],
   "source": [
    "#hide_input\n",
    "#md('##### {}'.format(titleBTC)) \n",
    "md(\"- {}{} {}{} [| Skaityti daugiau]({}) \".format(trx['title'],'. ', trx['body'], ' ...', trx['url']))"
   ]
  },
  {
   "cell_type": "code",
   "execution_count": 7,
   "id": "illegal-greece",
   "metadata": {
    "execution": {
     "iopub.execute_input": "2022-08-14T03:13:46.588960Z",
     "iopub.status.busy": "2022-08-14T03:13:46.588239Z",
     "iopub.status.idle": "2022-08-14T03:13:46.592852Z",
     "shell.execute_reply": "2022-08-14T03:13:46.592227Z"
    },
    "papermill": {
     "duration": 0.02395,
     "end_time": "2022-08-14T03:13:46.592984",
     "exception": false,
     "start_time": "2022-08-14T03:13:46.569034",
     "status": "completed"
    },
    "tags": []
   },
   "outputs": [
    {
     "data": {
      "text/markdown": [
       "- Bitcoin, Ethereum, Polygon, and Shiba Inu Daily Price Analyses – 13 August Roundup.  The global crypto market has continued to remain bullish as the investors keep pushing it. The continued influx of capital has resulted in the increase of the market bulk. The value of Bitcoin and others has slight increase, and the further influx might take them even higher. As the influx continues, the market will enhance &#8230;  Bitcoin, Ethereum, Polygon, and Shiba Inu Daily Price Analyses – 13 August Roundup Read More &#187; ... [| Skaityti daugiau](https://www.cryptopolitan.com/bitcoin-ethereum-polygon-and-shiba-inu-daily-price-analyses-13-august-roundup/) "
      ],
      "text/plain": [
       "<IPython.core.display.Markdown object>"
      ]
     },
     "execution_count": 7,
     "metadata": {},
     "output_type": "execute_result"
    }
   ],
   "source": [
    "#hide_input\n",
    "#md('##### {}'.format(titleBTC)) \n",
    "md(\"- {}{} {}{} [| Skaityti daugiau]({}) \".format(eth['title'],'. ', eth['body'], ' ...', eth['url']))"
   ]
  },
  {
   "cell_type": "code",
   "execution_count": 8,
   "id": "sublime-lounge",
   "metadata": {
    "execution": {
     "iopub.execute_input": "2022-08-14T03:13:46.624752Z",
     "iopub.status.busy": "2022-08-14T03:13:46.624019Z",
     "iopub.status.idle": "2022-08-14T03:13:46.628825Z",
     "shell.execute_reply": "2022-08-14T03:13:46.628214Z"
    },
    "papermill": {
     "duration": 0.022517,
     "end_time": "2022-08-14T03:13:46.628949",
     "exception": false,
     "start_time": "2022-08-14T03:13:46.606432",
     "status": "completed"
    },
    "tags": []
   },
   "outputs": [
    {
     "data": {
      "text/markdown": [
       "- Cardano price analysis: ADA rides bullish wave as buyers target $0.58 next.  Cardano price analysis reflects a bullish bias that is likely to take the pair above $0.58 over the weekend. The hourly charts are laden with green candlesticks for the day. The bulls are driving the price action higher on the back of low volatility and testing the higher resistance at $0.57 price level. Buyers are &#8230;  Cardano price analysis: ADA rides bullish wave as buyers target $0.58 next Read More &#187; ... [| Skaityti daugiau](https://www.cryptopolitan.com/cardano-price-analysis-2022-08-13/) "
      ],
      "text/plain": [
       "<IPython.core.display.Markdown object>"
      ]
     },
     "execution_count": 8,
     "metadata": {},
     "output_type": "execute_result"
    }
   ],
   "source": [
    "#hide_input\n",
    "#md('##### {}'.format(titleBTC)) \n",
    "md(\"- {}{} {}{} [| Skaityti daugiau]({}) \".format(ada['title'],'. ', ada['body'], ' ...', ada['url']))"
   ]
  },
  {
   "cell_type": "code",
   "execution_count": 9,
   "id": "specified-ordering",
   "metadata": {
    "execution": {
     "iopub.execute_input": "2022-08-14T03:13:46.663214Z",
     "iopub.status.busy": "2022-08-14T03:13:46.662436Z",
     "iopub.status.idle": "2022-08-14T03:13:46.667250Z",
     "shell.execute_reply": "2022-08-14T03:13:46.666608Z"
    },
    "papermill": {
     "duration": 0.024084,
     "end_time": "2022-08-14T03:13:46.667377",
     "exception": false,
     "start_time": "2022-08-14T03:13:46.643293",
     "status": "completed"
    },
    "tags": []
   },
   "outputs": [
    {
     "data": {
      "text/markdown": [
       "- India’s Federal Agency ED Froze Crypto Exchange Vauld’s Assets Worth $4.6 Million.  India&#8217;s Enforcement Directorate (ED) froze assets amounting to $46 Million belonging to Vauld which is a cryptocurrency exchange. In Vauld&#8217;s press release, the company stated that it disagreed with the claims made by ED on Vauld&#8217;s KYC (Know Your Customer) and AML (Anti-Money Laundering) procedures. These assets seized by the ED were found stored in [&#8230;] ... [| Skaityti daugiau](https://bitcoinist.com/indias-federal-agency-ed-froze-crypto-vaulds/) "
      ],
      "text/plain": [
       "<IPython.core.display.Markdown object>"
      ]
     },
     "execution_count": 9,
     "metadata": {},
     "output_type": "execute_result"
    }
   ],
   "source": [
    "#hide_input\n",
    "#md('##### {}'.format(titleBTC)) \n",
    "md(\"- {}{} {}{} [| Skaityti daugiau]({}) \".format(exchange['title'],'. ', exchange['body'], ' ...', exchange['url']))"
   ]
  },
  {
   "cell_type": "code",
   "execution_count": null,
   "id": "tender-livestock",
   "metadata": {
    "papermill": {
     "duration": 0.014417,
     "end_time": "2022-08-14T03:13:46.695577",
     "exception": false,
     "start_time": "2022-08-14T03:13:46.681160",
     "status": "completed"
    },
    "tags": []
   },
   "outputs": [],
   "source": []
  },
  {
   "cell_type": "code",
   "execution_count": null,
   "id": "appreciated-diamond",
   "metadata": {
    "papermill": {
     "duration": 0.014968,
     "end_time": "2022-08-14T03:13:46.724442",
     "exception": false,
     "start_time": "2022-08-14T03:13:46.709474",
     "status": "completed"
    },
    "tags": []
   },
   "outputs": [],
   "source": []
  },
  {
   "cell_type": "code",
   "execution_count": null,
   "id": "romance-sweden",
   "metadata": {
    "papermill": {
     "duration": 0.015475,
     "end_time": "2022-08-14T03:13:46.753561",
     "exception": false,
     "start_time": "2022-08-14T03:13:46.738086",
     "status": "completed"
    },
    "tags": []
   },
   "outputs": [],
   "source": []
  },
  {
   "cell_type": "code",
   "execution_count": null,
   "id": "dietary-statistics",
   "metadata": {
    "papermill": {
     "duration": 0.01402,
     "end_time": "2022-08-14T03:13:46.781430",
     "exception": false,
     "start_time": "2022-08-14T03:13:46.767410",
     "status": "completed"
    },
    "tags": []
   },
   "outputs": [],
   "source": []
  }
 ],
 "metadata": {
  "kernelspec": {
   "display_name": "Python 3",
   "language": "python",
   "name": "python3"
  },
  "language_info": {
   "codemirror_mode": {
    "name": "ipython",
    "version": 3
   },
   "file_extension": ".py",
   "mimetype": "text/x-python",
   "name": "python",
   "nbconvert_exporter": "python",
   "pygments_lexer": "ipython3",
   "version": "3.6.15"
  },
  "papermill": {
   "default_parameters": {},
   "duration": 16.521439,
   "end_time": "2022-08-14T03:13:47.314951",
   "environment_variables": {},
   "exception": null,
   "input_path": "Market-News.ipynb",
   "output_path": "Market-News.ipynb",
   "parameters": {},
   "start_time": "2022-08-14T03:13:30.793512",
   "version": "2.2.2"
  }
 },
 "nbformat": 4,
 "nbformat_minor": 5
}