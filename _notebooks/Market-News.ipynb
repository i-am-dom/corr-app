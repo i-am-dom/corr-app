{
 "cells": [
  {
   "cell_type": "markdown",
   "id": "short-greensboro",
   "metadata": {
    "papermill": {
     "duration": 0.015169,
     "end_time": "2022-08-05T03:16:08.452204",
     "exception": false,
     "start_time": "2022-08-05T03:16:08.437035",
     "status": "completed"
    },
    "tags": []
   },
   "source": [
    "# Kriptovaliutų naujienos"
   ]
  },
  {
   "cell_type": "code",
   "execution_count": 1,
   "id": "functioning-knowing",
   "metadata": {
    "execution": {
     "iopub.execute_input": "2022-08-05T03:16:08.483335Z",
     "iopub.status.busy": "2022-08-05T03:16:08.482675Z",
     "iopub.status.idle": "2022-08-05T03:16:09.823450Z",
     "shell.execute_reply": "2022-08-05T03:16:09.823887Z"
    },
    "papermill": {
     "duration": 1.360224,
     "end_time": "2022-08-05T03:16:09.824050",
     "exception": false,
     "start_time": "2022-08-05T03:16:08.463826",
     "status": "completed"
    },
    "tags": []
   },
   "outputs": [],
   "source": [
    "#hide_input\n",
    "import warnings\n",
    "warnings.filterwarnings('ignore')\n",
    "from scripts.read_data import read_api\n",
    "from scripts.read_data import read_news\n",
    "from scripts.read_data import read_covid\n",
    "import matplotlib.pyplot as plt \n",
    "from IPython.display import Markdown as md"
   ]
  },
  {
   "cell_type": "code",
   "execution_count": 2,
   "id": "shared-acceptance",
   "metadata": {
    "execution": {
     "iopub.execute_input": "2022-08-05T03:16:09.848146Z",
     "iopub.status.busy": "2022-08-05T03:16:09.847573Z",
     "iopub.status.idle": "2022-08-05T03:16:20.435919Z",
     "shell.execute_reply": "2022-08-05T03:16:20.435418Z"
    },
    "papermill": {
     "duration": 10.603415,
     "end_time": "2022-08-05T03:16:20.436049",
     "exception": false,
     "start_time": "2022-08-05T03:16:09.832634",
     "status": "completed"
    },
    "tags": []
   },
   "outputs": [],
   "source": [
    "#hide_input\n",
    "blockchain = read_news('blockchain') \n",
    "btc = read_news('btc') \n",
    "xrp = read_news('xrp') \n",
    "trx = read_news('trx') \n",
    "eth = read_news('eth')  \n",
    "ada = read_news('ada')\n",
    "exchange = read_news('exchange') "
   ]
  },
  {
   "cell_type": "code",
   "execution_count": 3,
   "id": "synthetic-notion",
   "metadata": {
    "execution": {
     "iopub.execute_input": "2022-08-05T03:16:20.462008Z",
     "iopub.status.busy": "2022-08-05T03:16:20.461403Z",
     "iopub.status.idle": "2022-08-05T03:16:20.467123Z",
     "shell.execute_reply": "2022-08-05T03:16:20.467574Z"
    },
    "papermill": {
     "duration": 0.022366,
     "end_time": "2022-08-05T03:16:20.467715",
     "exception": false,
     "start_time": "2022-08-05T03:16:20.445349",
     "status": "completed"
    },
    "tags": []
   },
   "outputs": [
    {
     "data": {
      "text/markdown": [
       "- Cardano ($ADA) Network Surpasses 3.5 Million Wallet Milestone.  The total number of wallets on the Cardano ($ADA) blockchain has surpassed the 3.5 million wallet milestone at a time in which the cryptocurrency’s developers are working on its upcoming Vasil hard fork, and support for it keeps growing. According to data from Cardano Blockchain Insights, the Cardano network now has a little over 3.5 […] ... [| Skaityti daugiau](https://www.cryptoglobe.com/latest/2022/08/cardano-ada-network-surpasses-3-5-million-wallet-milestone/) "
      ],
      "text/plain": [
       "<IPython.core.display.Markdown object>"
      ]
     },
     "execution_count": 3,
     "metadata": {},
     "output_type": "execute_result"
    }
   ],
   "source": [
    "#hide_input\n",
    "#md('##### {}'.format(titleBTC)) \n",
    "md(\"- {}{} {}{} [| Skaityti daugiau]({}) \".format(blockchain['title'],'. ', blockchain['body'], ' ...', blockchain['url']))"
   ]
  },
  {
   "cell_type": "code",
   "execution_count": 4,
   "id": "aging-caution",
   "metadata": {
    "execution": {
     "iopub.execute_input": "2022-08-05T03:16:20.492747Z",
     "iopub.status.busy": "2022-08-05T03:16:20.492156Z",
     "iopub.status.idle": "2022-08-05T03:16:20.497118Z",
     "shell.execute_reply": "2022-08-05T03:16:20.497501Z"
    },
    "papermill": {
     "duration": 0.020386,
     "end_time": "2022-08-05T03:16:20.497642",
     "exception": false,
     "start_time": "2022-08-05T03:16:20.477256",
     "status": "completed"
    },
    "tags": []
   },
   "outputs": [
    {
     "data": {
      "text/markdown": [
       "- TA: Bitcoin Price Could Narrowly Avoid a Major Downtrend, Here’s How.  Bitcoin extended losses below the $22,650 support against the US Dollar. BTC is attempting another recovery and might face hurdles near $23,100. Bitcoin remained in a bearish zone and extended losses below the $23,500 level. The price is now trading below the $23,000 level and the 100 hourly simple moving average. There was a break above a short-term bearish trend line with resistance near $22,850 on the hourly chart of the BTC/USD pair (data feed from Kraken). The pair must clear the $23,100 resistance to start a steady increase in the near term. Bitcoin Price Faces Resistance Bitcoin price started a fresh decline after it faced sellers near the $23,570 level. The price gained bearish momentum after it broke the $23,000 support zone. It even traded below the $22,800 level and the 100 hourly simple moving average. Finally, there was a spike below the $22,650 level. However, downsides were limited and the price traded as low as $22,400. The price started a fresh recovery wave above the $22,800 resistance zone. Bitcoin cleared the 23.6% Fib retracement level of the downward move from the $23,570 swing high to $22,400 low. Besides, there was a break above a short-term bearish trend line with resistance near $22,850 on the hourly chart of the BTC/USD pair. It is now trading below the $23,000 level and the 100 hourly simple moving average. On the upside, bitcoin price is facing resistance near the $23,000 level and the 100 hourly S... ... [| Skaityti daugiau](https://www.newsbtc.com/analysis/btc/bitcoin-price-downtrend-24k/) "
      ],
      "text/plain": [
       "<IPython.core.display.Markdown object>"
      ]
     },
     "execution_count": 4,
     "metadata": {},
     "output_type": "execute_result"
    }
   ],
   "source": [
    "#hide_input\n",
    "#md('##### {}'.format(titleBTC)) \n",
    "md(\"- {}{} {}{} [| Skaityti daugiau]({}) \".format(btc['title'],'. ', btc['body'], ' ...', btc['url']))"
   ]
  },
  {
   "cell_type": "code",
   "execution_count": 5,
   "id": "organic-actress",
   "metadata": {
    "execution": {
     "iopub.execute_input": "2022-08-05T03:16:20.521446Z",
     "iopub.status.busy": "2022-08-05T03:16:20.520796Z",
     "iopub.status.idle": "2022-08-05T03:16:20.524175Z",
     "shell.execute_reply": "2022-08-05T03:16:20.524607Z"
    },
    "papermill": {
     "duration": 0.018177,
     "end_time": "2022-08-05T03:16:20.524744",
     "exception": false,
     "start_time": "2022-08-05T03:16:20.506567",
     "status": "completed"
    },
    "tags": []
   },
   "outputs": [
    {
     "data": {
      "text/markdown": [
       "- XRP Is on the Cusp of Potential Breakout, Says Top Trader.  XRP remains the seventh biggest cryptocurrency by market capitalization  ... [| Skaityti daugiau](https://u.today/xrp-is-on-the-cusp-of-potential-breakout-says-top-trader) "
      ],
      "text/plain": [
       "<IPython.core.display.Markdown object>"
      ]
     },
     "execution_count": 5,
     "metadata": {},
     "output_type": "execute_result"
    }
   ],
   "source": [
    "#hide_input\n",
    "#md('##### {}'.format(titleBTC)) \n",
    "md(\"- {}{} {}{} [| Skaityti daugiau]({}) \".format(xrp['title'],'. ', xrp['body'], ' ...', xrp['url']))"
   ]
  },
  {
   "cell_type": "code",
   "execution_count": 6,
   "id": "prompt-farmer",
   "metadata": {
    "execution": {
     "iopub.execute_input": "2022-08-05T03:16:20.551006Z",
     "iopub.status.busy": "2022-08-05T03:16:20.547265Z",
     "iopub.status.idle": "2022-08-05T03:16:20.555579Z",
     "shell.execute_reply": "2022-08-05T03:16:20.555957Z"
    },
    "papermill": {
     "duration": 0.022327,
     "end_time": "2022-08-05T03:16:20.556086",
     "exception": false,
     "start_time": "2022-08-05T03:16:20.533759",
     "status": "completed"
    },
    "tags": []
   },
   "outputs": [
    {
     "data": {
      "text/markdown": [
       "- ‘Where, how’ of TRX bulls leveraging this pattern’s breakout potential.  Over the last six weeks, Tron&#8217;s [TRX] fluctuation was range bound in the $0.66-$0.07 zone. The decline from the $0.07 ceiling has affirmed a bullish continuation pattern in the 4-hour timeframe. The recent decline reinforced the near-term bearish efforts in pulling TRX toward its 200 EMA support (green). Furthermore, with the immediate support in the [&#8230;] ... [| Skaityti daugiau](https://ambcrypto.com/where-how-of-trx-bulls-leveraging-this-patterns-breakout-potential/) "
      ],
      "text/plain": [
       "<IPython.core.display.Markdown object>"
      ]
     },
     "execution_count": 6,
     "metadata": {},
     "output_type": "execute_result"
    }
   ],
   "source": [
    "#hide_input\n",
    "#md('##### {}'.format(titleBTC)) \n",
    "md(\"- {}{} {}{} [| Skaityti daugiau]({}) \".format(trx['title'],'. ', trx['body'], ' ...', trx['url']))"
   ]
  },
  {
   "cell_type": "code",
   "execution_count": 7,
   "id": "illegal-greece",
   "metadata": {
    "execution": {
     "iopub.execute_input": "2022-08-05T03:16:20.580762Z",
     "iopub.status.busy": "2022-08-05T03:16:20.580093Z",
     "iopub.status.idle": "2022-08-05T03:16:20.582458Z",
     "shell.execute_reply": "2022-08-05T03:16:20.582899Z"
    },
    "papermill": {
     "duration": 0.017473,
     "end_time": "2022-08-05T03:16:20.583037",
     "exception": false,
     "start_time": "2022-08-05T03:16:20.565564",
     "status": "completed"
    },
    "tags": []
   },
   "outputs": [
    {
     "data": {
      "text/markdown": [
       "- Bitcoin, Ethereum, Loopring, and Kava Daily Price Analyses – 4 August Roundup.  The global crypto market has seen changes in the performance of various coins as the bearish wave strengthened. These changes have affected Bitcoin, Binance Coin, and the following ones. The market has seen rare moments of bullishness for the past few months because of the lowered investor trust. They face problems due to the dominant &#8230;  Bitcoin, Ethereum, Loopring, and Kava Daily Price Analyses – 4 August Roundup Read More &#187; ... [| Skaityti daugiau](https://www.cryptopolitan.com/bitcoin-ethereum-loopring-and-kava-daily-price-analyses-4-august-roundup/) "
      ],
      "text/plain": [
       "<IPython.core.display.Markdown object>"
      ]
     },
     "execution_count": 7,
     "metadata": {},
     "output_type": "execute_result"
    }
   ],
   "source": [
    "#hide_input\n",
    "#md('##### {}'.format(titleBTC)) \n",
    "md(\"- {}{} {}{} [| Skaityti daugiau]({}) \".format(eth['title'],'. ', eth['body'], ' ...', eth['url']))"
   ]
  },
  {
   "cell_type": "code",
   "execution_count": 8,
   "id": "sublime-lounge",
   "metadata": {
    "execution": {
     "iopub.execute_input": "2022-08-05T03:16:20.613484Z",
     "iopub.status.busy": "2022-08-05T03:16:20.612898Z",
     "iopub.status.idle": "2022-08-05T03:16:20.616484Z",
     "shell.execute_reply": "2022-08-05T03:16:20.616898Z"
    },
    "papermill": {
     "duration": 0.020321,
     "end_time": "2022-08-05T03:16:20.617031",
     "exception": false,
     "start_time": "2022-08-05T03:16:20.596710",
     "status": "completed"
    },
    "tags": []
   },
   "outputs": [
    {
     "data": {
      "text/markdown": [
       "- Cardano ($ADA) Network Surpasses 3.5 Million Wallet Milestone.  The total number of wallets on the Cardano ($ADA) blockchain has surpassed the 3.5 million wallet milestone at a time in which the cryptocurrency’s developers are working on its upcoming Vasil hard fork, and support for it keeps growing. According to data from Cardano Blockchain Insights, the Cardano network now has a little over 3.5 […] ... [| Skaityti daugiau](https://www.cryptoglobe.com/latest/2022/08/cardano-ada-network-surpasses-3-5-million-wallet-milestone/) "
      ],
      "text/plain": [
       "<IPython.core.display.Markdown object>"
      ]
     },
     "execution_count": 8,
     "metadata": {},
     "output_type": "execute_result"
    }
   ],
   "source": [
    "#hide_input\n",
    "#md('##### {}'.format(titleBTC)) \n",
    "md(\"- {}{} {}{} [| Skaityti daugiau]({}) \".format(ada['title'],'. ', ada['body'], ' ...', ada['url']))"
   ]
  },
  {
   "cell_type": "code",
   "execution_count": 9,
   "id": "specified-ordering",
   "metadata": {
    "execution": {
     "iopub.execute_input": "2022-08-05T03:16:20.642781Z",
     "iopub.status.busy": "2022-08-05T03:16:20.640866Z",
     "iopub.status.idle": "2022-08-05T03:16:20.644921Z",
     "shell.execute_reply": "2022-08-05T03:16:20.645425Z"
    },
    "papermill": {
     "duration": 0.018602,
     "end_time": "2022-08-05T03:16:20.645546",
     "exception": false,
     "start_time": "2022-08-05T03:16:20.626944",
     "status": "completed"
    },
    "tags": []
   },
   "outputs": [
    {
     "data": {
      "text/markdown": [
       "- Binance And Mastercard Launch Crypto Prepaid Card in Argentina.  Binance is launching its crypto card in Argentina, the first latin american country to get that product. ... [| Skaityti daugiau](https://cryptopotato.com/binance-mastercard-crypto-prepaid-card-argentina/) "
      ],
      "text/plain": [
       "<IPython.core.display.Markdown object>"
      ]
     },
     "execution_count": 9,
     "metadata": {},
     "output_type": "execute_result"
    }
   ],
   "source": [
    "#hide_input\n",
    "#md('##### {}'.format(titleBTC)) \n",
    "md(\"- {}{} {}{} [| Skaityti daugiau]({}) \".format(exchange['title'],'. ', exchange['body'], ' ...', exchange['url']))"
   ]
  },
  {
   "cell_type": "code",
   "execution_count": null,
   "id": "tender-livestock",
   "metadata": {
    "papermill": {
     "duration": 0.010218,
     "end_time": "2022-08-05T03:16:20.665924",
     "exception": false,
     "start_time": "2022-08-05T03:16:20.655706",
     "status": "completed"
    },
    "tags": []
   },
   "outputs": [],
   "source": []
  },
  {
   "cell_type": "code",
   "execution_count": null,
   "id": "appreciated-diamond",
   "metadata": {
    "papermill": {
     "duration": 0.010132,
     "end_time": "2022-08-05T03:16:20.686341",
     "exception": false,
     "start_time": "2022-08-05T03:16:20.676209",
     "status": "completed"
    },
    "tags": []
   },
   "outputs": [],
   "source": []
  },
  {
   "cell_type": "code",
   "execution_count": null,
   "id": "romance-sweden",
   "metadata": {
    "papermill": {
     "duration": 0.010336,
     "end_time": "2022-08-05T03:16:20.706870",
     "exception": false,
     "start_time": "2022-08-05T03:16:20.696534",
     "status": "completed"
    },
    "tags": []
   },
   "outputs": [],
   "source": []
  },
  {
   "cell_type": "code",
   "execution_count": null,
   "id": "dietary-statistics",
   "metadata": {
    "papermill": {
     "duration": 0.01016,
     "end_time": "2022-08-05T03:16:20.727394",
     "exception": false,
     "start_time": "2022-08-05T03:16:20.717234",
     "status": "completed"
    },
    "tags": []
   },
   "outputs": [],
   "source": []
  }
 ],
 "metadata": {
  "kernelspec": {
   "display_name": "Python 3",
   "language": "python",
   "name": "python3"
  },
  "language_info": {
   "codemirror_mode": {
    "name": "ipython",
    "version": 3
   },
   "file_extension": ".py",
   "mimetype": "text/x-python",
   "name": "python",
   "nbconvert_exporter": "python",
   "pygments_lexer": "ipython3",
   "version": "3.6.15"
  },
  "papermill": {
   "default_parameters": {},
   "duration": 14.169777,
   "end_time": "2022-08-05T03:16:21.357793",
   "environment_variables": {},
   "exception": null,
   "input_path": "Market-News.ipynb",
   "output_path": "Market-News.ipynb",
   "parameters": {},
   "start_time": "2022-08-05T03:16:07.188016",
   "version": "2.2.2"
  }
 },
 "nbformat": 4,
 "nbformat_minor": 5
}