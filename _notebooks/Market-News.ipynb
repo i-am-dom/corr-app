{
 "cells": [
  {
   "cell_type": "markdown",
   "id": "short-greensboro",
   "metadata": {
    "papermill": {
     "duration": 0.016378,
     "end_time": "2022-09-11T03:37:30.676983",
     "exception": false,
     "start_time": "2022-09-11T03:37:30.660605",
     "status": "completed"
    },
    "tags": []
   },
   "source": [
    "# Kriptovaliutų naujienos"
   ]
  },
  {
   "cell_type": "code",
   "execution_count": 1,
   "id": "functioning-knowing",
   "metadata": {
    "execution": {
     "iopub.execute_input": "2022-09-11T03:37:30.713096Z",
     "iopub.status.busy": "2022-09-11T03:37:30.712196Z",
     "iopub.status.idle": "2022-09-11T03:37:32.470086Z",
     "shell.execute_reply": "2022-09-11T03:37:32.469441Z"
    },
    "papermill": {
     "duration": 1.781201,
     "end_time": "2022-09-11T03:37:32.470261",
     "exception": false,
     "start_time": "2022-09-11T03:37:30.689060",
     "status": "completed"
    },
    "tags": []
   },
   "outputs": [],
   "source": [
    "#hide_input\n",
    "import warnings\n",
    "warnings.filterwarnings('ignore')\n",
    "from scripts.read_data import read_api\n",
    "from scripts.read_data import read_news\n",
    "from scripts.read_data import read_covid\n",
    "import matplotlib.pyplot as plt \n",
    "from IPython.display import Markdown as md"
   ]
  },
  {
   "cell_type": "code",
   "execution_count": 2,
   "id": "shared-acceptance",
   "metadata": {
    "execution": {
     "iopub.execute_input": "2022-09-11T03:37:32.506477Z",
     "iopub.status.busy": "2022-09-11T03:37:32.505332Z",
     "iopub.status.idle": "2022-09-11T03:37:43.598778Z",
     "shell.execute_reply": "2022-09-11T03:37:43.599333Z"
    },
    "papermill": {
     "duration": 11.115133,
     "end_time": "2022-09-11T03:37:43.599516",
     "exception": false,
     "start_time": "2022-09-11T03:37:32.484383",
     "status": "completed"
    },
    "tags": []
   },
   "outputs": [],
   "source": [
    "#hide_input\n",
    "blockchain = read_news('blockchain') \n",
    "btc = read_news('btc') \n",
    "xrp = read_news('xrp') \n",
    "trx = read_news('trx') \n",
    "eth = read_news('eth')  \n",
    "ada = read_news('ada')\n",
    "exchange = read_news('exchange') "
   ]
  },
  {
   "cell_type": "code",
   "execution_count": 3,
   "id": "synthetic-notion",
   "metadata": {
    "execution": {
     "iopub.execute_input": "2022-09-11T03:37:43.630813Z",
     "iopub.status.busy": "2022-09-11T03:37:43.630059Z",
     "iopub.status.idle": "2022-09-11T03:37:43.637922Z",
     "shell.execute_reply": "2022-09-11T03:37:43.637106Z"
    },
    "papermill": {
     "duration": 0.026837,
     "end_time": "2022-09-11T03:37:43.638061",
     "exception": false,
     "start_time": "2022-09-11T03:37:43.611224",
     "status": "completed"
    },
    "tags": []
   },
   "outputs": [
    {
     "data": {
      "text/markdown": [
       "- LUNA surges 3x, market cap jumps 200%; is this another Terra pump-and-dump?.  How to get-over your shady past? Well, incorporate a model (2.0 version/iteration) by learning from past mistakes. That exactly what Terra’s Phoenix blockchain token LUNA did as it recorded a &#62;200% hike. But at what cost? Building from scratch LUNA – the cryptocurrency behind the Terra ecosystem witnessed some unprecedented hikes as we speak. At press [&#8230;] ... [| Skaityti daugiau](https://ambcrypto.com/luna-price-surges-3x-market-cap-jumps-200-is-this-another-terra-pump-and-dump/) "
      ],
      "text/plain": [
       "<IPython.core.display.Markdown object>"
      ]
     },
     "execution_count": 3,
     "metadata": {},
     "output_type": "execute_result"
    }
   ],
   "source": [
    "#hide_input\n",
    "#md('##### {}'.format(titleBTC)) \n",
    "md(\"- {}{} {}{} [| Skaityti daugiau]({}) \".format(blockchain['title'],'. ', blockchain['body'], ' ...', blockchain['url']))"
   ]
  },
  {
   "cell_type": "code",
   "execution_count": 4,
   "id": "aging-caution",
   "metadata": {
    "execution": {
     "iopub.execute_input": "2022-09-11T03:37:43.667817Z",
     "iopub.status.busy": "2022-09-11T03:37:43.666413Z",
     "iopub.status.idle": "2022-09-11T03:37:43.674207Z",
     "shell.execute_reply": "2022-09-11T03:37:43.673630Z"
    },
    "papermill": {
     "duration": 0.024704,
     "end_time": "2022-09-11T03:37:43.674444",
     "exception": false,
     "start_time": "2022-09-11T03:37:43.649740",
     "status": "completed"
    },
    "tags": []
   },
   "outputs": [
    {
     "data": {
      "text/markdown": [
       "- Analyst warns Terra Classic Traders – LUNC Price Due To Massive Crash In Coming Days!.  The post Analyst warns Terra Classic Traders &#8211; LUNC Price Due To Massive Crash In Coming Days! appeared first on Coinpedia - Fintech &amp; Cryptocurreny News Media| Crypto GuideWith a value increase of 50.58% Friday, Terra Classic (LUNC) surprised everyone by emerging as one of the top 100 gainers in the cryptocurrency market. LUNC has been rising for four days in a row and has increased by 77.36% over the past week. The idea of the tax proposal to decrease the token supply &#8230; ... [| Skaityti daugiau](https://coinpedia.org/altcoin/analyst-warns-terra-classic-traders-lunc-price-due-to-massive-crash-in-coming-days/) "
      ],
      "text/plain": [
       "<IPython.core.display.Markdown object>"
      ]
     },
     "execution_count": 4,
     "metadata": {},
     "output_type": "execute_result"
    }
   ],
   "source": [
    "#hide_input\n",
    "#md('##### {}'.format(titleBTC)) \n",
    "md(\"- {}{} {}{} [| Skaityti daugiau]({}) \".format(btc['title'],'. ', btc['body'], ' ...', btc['url']))"
   ]
  },
  {
   "cell_type": "code",
   "execution_count": 5,
   "id": "organic-actress",
   "metadata": {
    "execution": {
     "iopub.execute_input": "2022-09-11T03:37:43.706102Z",
     "iopub.status.busy": "2022-09-11T03:37:43.705271Z",
     "iopub.status.idle": "2022-09-11T03:37:43.710051Z",
     "shell.execute_reply": "2022-09-11T03:37:43.709522Z"
    },
    "papermill": {
     "duration": 0.023094,
     "end_time": "2022-09-11T03:37:43.710214",
     "exception": false,
     "start_time": "2022-09-11T03:37:43.687120",
     "status": "completed"
    },
    "tags": []
   },
   "outputs": [
    {
     "data": {
      "text/markdown": [
       "- XRP buyers drove the alt to $0.34, but sellers could still have an upper hand.  Disclaimer: The findings of the following analysis are the sole opinions of the writer and should not be considered investment advice. The short-term trend was bullish for XRP. Yet, data from Coinglass showed that the futures market was almost exactly evenly balanced. In fact, a slight edge went to the short positions in terms of volume. [&#8230;] ... [| Skaityti daugiau](https://ambcrypto.com/xrp-buyers-drove-the-alt-to-0-34-but-sellers-could-still-have-an-upper-hand/) "
      ],
      "text/plain": [
       "<IPython.core.display.Markdown object>"
      ]
     },
     "execution_count": 5,
     "metadata": {},
     "output_type": "execute_result"
    }
   ],
   "source": [
    "#hide_input\n",
    "#md('##### {}'.format(titleBTC)) \n",
    "md(\"- {}{} {}{} [| Skaityti daugiau]({}) \".format(xrp['title'],'. ', xrp['body'], ' ...', xrp['url']))"
   ]
  },
  {
   "cell_type": "code",
   "execution_count": 6,
   "id": "prompt-farmer",
   "metadata": {
    "execution": {
     "iopub.execute_input": "2022-09-11T03:37:43.743453Z",
     "iopub.status.busy": "2022-09-11T03:37:43.741837Z",
     "iopub.status.idle": "2022-09-11T03:37:43.751772Z",
     "shell.execute_reply": "2022-09-11T03:37:43.752316Z"
    },
    "papermill": {
     "duration": 0.028438,
     "end_time": "2022-09-11T03:37:43.752452",
     "exception": false,
     "start_time": "2022-09-11T03:37:43.724014",
     "status": "completed"
    },
    "tags": []
   },
   "outputs": [
    {
     "data": {
      "text/markdown": [
       "- Tron [TRX]: The technical hurdles to consider before taking a long position.  Disclaimer: The findings of the following analysis are the sole opinions of the writer and should not be considered investment advice. As anticipated by a previous article, Tron [TRX] reversed from its falling-wedge-like structure before pulling back into bearish clutches. For over eight weeks, the sellers strived to breach the $0.063-support (now resistance). The recent [&#8230;] ... [| Skaityti daugiau](https://ambcrypto.com/tron-trx-the-technical-hurdles-to-consider-before-taking-a-long-position/) "
      ],
      "text/plain": [
       "<IPython.core.display.Markdown object>"
      ]
     },
     "execution_count": 6,
     "metadata": {},
     "output_type": "execute_result"
    }
   ],
   "source": [
    "#hide_input\n",
    "#md('##### {}'.format(titleBTC)) \n",
    "md(\"- {}{} {}{} [| Skaityti daugiau]({}) \".format(trx['title'],'. ', trx['body'], ' ...', trx['url']))"
   ]
  },
  {
   "cell_type": "code",
   "execution_count": 7,
   "id": "illegal-greece",
   "metadata": {
    "execution": {
     "iopub.execute_input": "2022-09-11T03:37:43.788427Z",
     "iopub.status.busy": "2022-09-11T03:37:43.787378Z",
     "iopub.status.idle": "2022-09-11T03:37:43.795219Z",
     "shell.execute_reply": "2022-09-11T03:37:43.794641Z"
    },
    "papermill": {
     "duration": 0.028758,
     "end_time": "2022-09-11T03:37:43.795418",
     "exception": false,
     "start_time": "2022-09-11T03:37:43.766660",
     "status": "completed"
    },
    "tags": []
   },
   "outputs": [
    {
     "data": {
      "text/markdown": [
       "- Analyst warns Terra Classic Traders – LUNC Price Due To Massive Crash In Coming Days!.  The post Analyst warns Terra Classic Traders &#8211; LUNC Price Due To Massive Crash In Coming Days! appeared first on Coinpedia - Fintech &amp; Cryptocurreny News Media| Crypto GuideWith a value increase of 50.58% Friday, Terra Classic (LUNC) surprised everyone by emerging as one of the top 100 gainers in the cryptocurrency market. LUNC has been rising for four days in a row and has increased by 77.36% over the past week. The idea of the tax proposal to decrease the token supply &#8230; ... [| Skaityti daugiau](https://coinpedia.org/altcoin/analyst-warns-terra-classic-traders-lunc-price-due-to-massive-crash-in-coming-days/) "
      ],
      "text/plain": [
       "<IPython.core.display.Markdown object>"
      ]
     },
     "execution_count": 7,
     "metadata": {},
     "output_type": "execute_result"
    }
   ],
   "source": [
    "#hide_input\n",
    "#md('##### {}'.format(titleBTC)) \n",
    "md(\"- {}{} {}{} [| Skaityti daugiau]({}) \".format(eth['title'],'. ', eth['body'], ' ...', eth['url']))"
   ]
  },
  {
   "cell_type": "code",
   "execution_count": 8,
   "id": "sublime-lounge",
   "metadata": {
    "execution": {
     "iopub.execute_input": "2022-09-11T03:37:43.830468Z",
     "iopub.status.busy": "2022-09-11T03:37:43.829706Z",
     "iopub.status.idle": "2022-09-11T03:37:43.834423Z",
     "shell.execute_reply": "2022-09-11T03:37:43.833782Z"
    },
    "papermill": {
     "duration": 0.024532,
     "end_time": "2022-09-11T03:37:43.834546",
     "exception": false,
     "start_time": "2022-09-11T03:37:43.810014",
     "status": "completed"
    },
    "tags": []
   },
   "outputs": [
    {
     "data": {
      "text/markdown": [
       "- Cardano [ADA] stands below XRP by market cap, but daily gains state otherwise.  Cardano [ADA] has been building lately ahead of the Vasil hardfork. This has resulted in a significant increase on the ADA prices. Since 9 September, ADA went as high as 8.5% on the daily chart but the surge has since slowed down. At press time, ADA was up by 3.5% according to CoinMarketCap and was [&#8230;] ... [| Skaityti daugiau](https://ambcrypto.com/cardano-ada-stands-below-ripple-by-market-cap-but-daily-gains-state-otherwise/) "
      ],
      "text/plain": [
       "<IPython.core.display.Markdown object>"
      ]
     },
     "execution_count": 8,
     "metadata": {},
     "output_type": "execute_result"
    }
   ],
   "source": [
    "#hide_input\n",
    "#md('##### {}'.format(titleBTC)) \n",
    "md(\"- {}{} {}{} [| Skaityti daugiau]({}) \".format(ada['title'],'. ', ada['body'], ' ...', ada['url']))"
   ]
  },
  {
   "cell_type": "code",
   "execution_count": 9,
   "id": "specified-ordering",
   "metadata": {
    "execution": {
     "iopub.execute_input": "2022-09-11T03:37:43.871895Z",
     "iopub.status.busy": "2022-09-11T03:37:43.871155Z",
     "iopub.status.idle": "2022-09-11T03:37:43.875433Z",
     "shell.execute_reply": "2022-09-11T03:37:43.874883Z"
    },
    "papermill": {
     "duration": 0.024913,
     "end_time": "2022-09-11T03:37:43.875719",
     "exception": false,
     "start_time": "2022-09-11T03:37:43.850806",
     "status": "completed"
    },
    "tags": []
   },
   "outputs": [
    {
     "data": {
      "text/markdown": [
       "- US SEC Sets Up Dedicated Office to Review Crypto Filings.  The U.S. Securities and Exchange Commission (SEC) is setting up a dedicated office to review crypto-related filings. The securities regulator stressed the need to &#x201C;provide greater and more specialized support&#x201D; for crypto assets. SEC&#x2019;s Dedicated Crypto Office The U.S. Securities and Exchange Commission (SEC) announced Friday its plan to establish two new offices to review [&#8230;] ... [| Skaityti daugiau](https://news.bitcoin.com/us-sec-sets-up-dedicated-office-to-review-crypto-filings/) "
      ],
      "text/plain": [
       "<IPython.core.display.Markdown object>"
      ]
     },
     "execution_count": 9,
     "metadata": {},
     "output_type": "execute_result"
    }
   ],
   "source": [
    "#hide_input\n",
    "#md('##### {}'.format(titleBTC)) \n",
    "md(\"- {}{} {}{} [| Skaityti daugiau]({}) \".format(exchange['title'],'. ', exchange['body'], ' ...', exchange['url']))"
   ]
  },
  {
   "cell_type": "code",
   "execution_count": null,
   "id": "tender-livestock",
   "metadata": {
    "papermill": {
     "duration": 0.013817,
     "end_time": "2022-09-11T03:37:43.903569",
     "exception": false,
     "start_time": "2022-09-11T03:37:43.889752",
     "status": "completed"
    },
    "tags": []
   },
   "outputs": [],
   "source": []
  },
  {
   "cell_type": "code",
   "execution_count": null,
   "id": "appreciated-diamond",
   "metadata": {
    "papermill": {
     "duration": 0.014465,
     "end_time": "2022-09-11T03:37:43.932062",
     "exception": false,
     "start_time": "2022-09-11T03:37:43.917597",
     "status": "completed"
    },
    "tags": []
   },
   "outputs": [],
   "source": []
  },
  {
   "cell_type": "code",
   "execution_count": null,
   "id": "romance-sweden",
   "metadata": {
    "papermill": {
     "duration": 0.014455,
     "end_time": "2022-09-11T03:37:43.960621",
     "exception": false,
     "start_time": "2022-09-11T03:37:43.946166",
     "status": "completed"
    },
    "tags": []
   },
   "outputs": [],
   "source": []
  },
  {
   "cell_type": "code",
   "execution_count": null,
   "id": "dietary-statistics",
   "metadata": {
    "papermill": {
     "duration": 0.01397,
     "end_time": "2022-09-11T03:37:43.990182",
     "exception": false,
     "start_time": "2022-09-11T03:37:43.976212",
     "status": "completed"
    },
    "tags": []
   },
   "outputs": [],
   "source": []
  }
 ],
 "metadata": {
  "kernelspec": {
   "display_name": "Python 3",
   "language": "python",
   "name": "python3"
  },
  "language_info": {
   "codemirror_mode": {
    "name": "ipython",
    "version": 3
   },
   "file_extension": ".py",
   "mimetype": "text/x-python",
   "name": "python",
   "nbconvert_exporter": "python",
   "pygments_lexer": "ipython3",
   "version": "3.6.15"
  },
  "papermill": {
   "default_parameters": {},
   "duration": 15.110606,
   "end_time": "2022-09-11T03:37:44.527214",
   "environment_variables": {},
   "exception": null,
   "input_path": "Market-News.ipynb",
   "output_path": "Market-News.ipynb",
   "parameters": {},
   "start_time": "2022-09-11T03:37:29.416608",
   "version": "2.2.2"
  }
 },
 "nbformat": 4,
 "nbformat_minor": 5
}