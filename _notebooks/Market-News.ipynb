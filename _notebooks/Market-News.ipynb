{
 "cells": [
  {
   "cell_type": "markdown",
   "id": "short-greensboro",
   "metadata": {
    "papermill": {
     "duration": 0.017066,
     "end_time": "2021-08-15T01:56:43.593429",
     "exception": false,
     "start_time": "2021-08-15T01:56:43.576363",
     "status": "completed"
    },
    "tags": []
   },
   "source": [
    "# Kriptovaliutų naujienos"
   ]
  },
  {
   "cell_type": "code",
   "execution_count": 1,
   "id": "functioning-knowing",
   "metadata": {
    "execution": {
     "iopub.execute_input": "2021-08-15T01:56:43.629580Z",
     "iopub.status.busy": "2021-08-15T01:56:43.628837Z",
     "iopub.status.idle": "2021-08-15T01:56:45.015683Z",
     "shell.execute_reply": "2021-08-15T01:56:45.014566Z"
    },
    "papermill": {
     "duration": 1.410169,
     "end_time": "2021-08-15T01:56:45.015838",
     "exception": false,
     "start_time": "2021-08-15T01:56:43.605669",
     "status": "completed"
    },
    "tags": []
   },
   "outputs": [],
   "source": [
    "#hide_input\n",
    "import warnings\n",
    "warnings.filterwarnings('ignore')\n",
    "from scripts.read_data import read_api\n",
    "from scripts.read_data import read_news\n",
    "from scripts.read_data import read_covid\n",
    "import matplotlib.pyplot as plt \n",
    "from IPython.display import Markdown as md"
   ]
  },
  {
   "cell_type": "code",
   "execution_count": 2,
   "id": "shared-acceptance",
   "metadata": {
    "execution": {
     "iopub.execute_input": "2021-08-15T01:56:45.044140Z",
     "iopub.status.busy": "2021-08-15T01:56:45.042806Z",
     "iopub.status.idle": "2021-08-15T01:56:52.314987Z",
     "shell.execute_reply": "2021-08-15T01:56:52.315502Z"
    },
    "papermill": {
     "duration": 7.2891,
     "end_time": "2021-08-15T01:56:52.315671",
     "exception": false,
     "start_time": "2021-08-15T01:56:45.026571",
     "status": "completed"
    },
    "tags": []
   },
   "outputs": [],
   "source": [
    "#hide_input\n",
    "blockchain = read_news('blockchain') \n",
    "btc = read_news('btc') \n",
    "xrp = read_news('xrp') \n",
    "trx = read_news('trx') \n",
    "eth = read_news('eth')  \n",
    "ada = read_news('ada')\n",
    "exchange = read_news('exchange') "
   ]
  },
  {
   "cell_type": "code",
   "execution_count": 3,
   "id": "synthetic-notion",
   "metadata": {
    "execution": {
     "iopub.execute_input": "2021-08-15T01:56:52.345038Z",
     "iopub.status.busy": "2021-08-15T01:56:52.344373Z",
     "iopub.status.idle": "2021-08-15T01:56:52.346713Z",
     "shell.execute_reply": "2021-08-15T01:56:52.347279Z"
    },
    "papermill": {
     "duration": 0.020523,
     "end_time": "2021-08-15T01:56:52.347424",
     "exception": false,
     "start_time": "2021-08-15T01:56:52.326901",
     "status": "completed"
    },
    "tags": []
   },
   "outputs": [
    {
     "data": {
      "text/markdown": [
       "- Crypto.com’s Cronos Network integrates Chainlink competitor Band Protocol.  Crypto.com’s parallel chain, Cronos is integrating the decentralized cross-chain oracle network, Band Protocol to provide reliable and trustless data for decentralized finance (DeFi) applications running on it. In a statement, Cronos announced the integration of Band Protocol oracle solution in an aim to enhance the development of DeFi applications on its network. The integration with […] ... [| Skaityti daugiau](https://www.cryptoglobe.com/latest/2021/08/crypto-coms-cronos-network-integrates-chainlink-competitor-band-protocol/) "
      ],
      "text/plain": [
       "<IPython.core.display.Markdown object>"
      ]
     },
     "execution_count": 3,
     "metadata": {},
     "output_type": "execute_result"
    }
   ],
   "source": [
    "#hide_input\n",
    "#md('##### {}'.format(titleBTC)) \n",
    "md(\"- {}{} {}{} [| Skaityti daugiau]({}) \".format(blockchain['title'],'. ', blockchain['body'], ' ...', blockchain['url']))"
   ]
  },
  {
   "cell_type": "code",
   "execution_count": 4,
   "id": "aging-caution",
   "metadata": {
    "execution": {
     "iopub.execute_input": "2021-08-15T01:56:52.375104Z",
     "iopub.status.busy": "2021-08-15T01:56:52.374453Z",
     "iopub.status.idle": "2021-08-15T01:56:52.381035Z",
     "shell.execute_reply": "2021-08-15T01:56:52.380512Z"
    },
    "papermill": {
     "duration": 0.02251,
     "end_time": "2021-08-15T01:56:52.381155",
     "exception": false,
     "start_time": "2021-08-15T01:56:52.358645",
     "status": "completed"
    },
    "tags": []
   },
   "outputs": [
    {
     "data": {
      "text/markdown": [
       "- What does Bitcoin’s current trajectory mean for Cardano, XRP, MATIC, and Dogecoin.  The past seven days have been a wild ride, with the bulls getting a clear upper hand this time. As the total crypto market cap went above the $2 trillion mark once again, anticipation around another rally peaked. However, in the last few months, weekends were especially hard on the market. Weekend blues brought with [&#8230;] ... [| Skaityti daugiau](https://ambcrypto.com/what-does-bitcoins-current-trajectory-mean-for-cardano-xrp-matic-and-dogecoin/) "
      ],
      "text/plain": [
       "<IPython.core.display.Markdown object>"
      ]
     },
     "execution_count": 4,
     "metadata": {},
     "output_type": "execute_result"
    }
   ],
   "source": [
    "#hide_input\n",
    "#md('##### {}'.format(titleBTC)) \n",
    "md(\"- {}{} {}{} [| Skaityti daugiau]({}) \".format(btc['title'],'. ', btc['body'], ' ...', btc['url']))"
   ]
  },
  {
   "cell_type": "code",
   "execution_count": 5,
   "id": "organic-actress",
   "metadata": {
    "execution": {
     "iopub.execute_input": "2021-08-15T01:56:52.408940Z",
     "iopub.status.busy": "2021-08-15T01:56:52.407603Z",
     "iopub.status.idle": "2021-08-15T01:56:52.412238Z",
     "shell.execute_reply": "2021-08-15T01:56:52.411704Z"
    },
    "papermill": {
     "duration": 0.019799,
     "end_time": "2021-08-15T01:56:52.412359",
     "exception": false,
     "start_time": "2021-08-15T01:56:52.392560",
     "status": "completed"
    },
    "tags": []
   },
   "outputs": [
    {
     "data": {
      "text/markdown": [
       "- What does Bitcoin’s current trajectory mean for Cardano, XRP, MATIC, and Dogecoin.  The past seven days have been a wild ride, with the bulls getting a clear upper hand this time. As the total crypto market cap went above the $2 trillion mark once again, anticipation around another rally peaked. However, in the last few months, weekends were especially hard on the market. Weekend blues brought with [&#8230;] ... [| Skaityti daugiau](https://ambcrypto.com/what-does-bitcoins-current-trajectory-mean-for-cardano-xrp-matic-and-dogecoin/) "
      ],
      "text/plain": [
       "<IPython.core.display.Markdown object>"
      ]
     },
     "execution_count": 5,
     "metadata": {},
     "output_type": "execute_result"
    }
   ],
   "source": [
    "#hide_input\n",
    "#md('##### {}'.format(titleBTC)) \n",
    "md(\"- {}{} {}{} [| Skaityti daugiau]({}) \".format(xrp['title'],'. ', xrp['body'], ' ...', xrp['url']))"
   ]
  },
  {
   "cell_type": "code",
   "execution_count": 6,
   "id": "prompt-farmer",
   "metadata": {
    "execution": {
     "iopub.execute_input": "2021-08-15T01:56:52.441907Z",
     "iopub.status.busy": "2021-08-15T01:56:52.441283Z",
     "iopub.status.idle": "2021-08-15T01:56:52.444600Z",
     "shell.execute_reply": "2021-08-15T01:56:52.445110Z"
    },
    "papermill": {
     "duration": 0.021381,
     "end_time": "2021-08-15T01:56:52.445248",
     "exception": false,
     "start_time": "2021-08-15T01:56:52.423867",
     "status": "completed"
    },
    "tags": []
   },
   "outputs": [
    {
     "data": {
      "text/markdown": [
       "- XRP, ADA, and Other Altcoins Show Positive Bullish Signs.  As Bitcoin rallies, so are many other altcoins. At the moment, ADA, XRP, IOTX, XDC, TRX, and MATIC are showing ... [| Skaityti daugiau](https://coinquora.com/xrp-ada-and-other-altcoins-show-positive-bullish-signs/) "
      ],
      "text/plain": [
       "<IPython.core.display.Markdown object>"
      ]
     },
     "execution_count": 6,
     "metadata": {},
     "output_type": "execute_result"
    }
   ],
   "source": [
    "#hide_input\n",
    "#md('##### {}'.format(titleBTC)) \n",
    "md(\"- {}{} {}{} [| Skaityti daugiau]({}) \".format(trx['title'],'. ', trx['body'], ' ...', trx['url']))"
   ]
  },
  {
   "cell_type": "code",
   "execution_count": 7,
   "id": "illegal-greece",
   "metadata": {
    "execution": {
     "iopub.execute_input": "2021-08-15T01:56:52.474477Z",
     "iopub.status.busy": "2021-08-15T01:56:52.473882Z",
     "iopub.status.idle": "2021-08-15T01:56:52.477736Z",
     "shell.execute_reply": "2021-08-15T01:56:52.477229Z"
    },
    "papermill": {
     "duration": 0.020652,
     "end_time": "2021-08-15T01:56:52.477854",
     "exception": false,
     "start_time": "2021-08-15T01:56:52.457202",
     "status": "completed"
    },
    "tags": []
   },
   "outputs": [
    {
     "data": {
      "text/markdown": [
       "- UK Police Seize USB Stick With Ethereum Worth $9.5 Million.  British detectives have seized $22.25 million from operators of an international cryptocurrency scam. Among the items seized was a USB stick containing ethereum worth $9.5 million. The police are now attempting to contact the victims of this scam to return their funds. UK Police Seize Crypto in USB Stick The U.K.&#8217;s Greater Manchester Police announced [&#8230;] ... [| Skaityti daugiau](https://news.bitcoin.com/uk-police-seize-usb-stick-ethereum-worth-9-5-million/) "
      ],
      "text/plain": [
       "<IPython.core.display.Markdown object>"
      ]
     },
     "execution_count": 7,
     "metadata": {},
     "output_type": "execute_result"
    }
   ],
   "source": [
    "#hide_input\n",
    "#md('##### {}'.format(titleBTC)) \n",
    "md(\"- {}{} {}{} [| Skaityti daugiau]({}) \".format(eth['title'],'. ', eth['body'], ' ...', eth['url']))"
   ]
  },
  {
   "cell_type": "code",
   "execution_count": 8,
   "id": "sublime-lounge",
   "metadata": {
    "execution": {
     "iopub.execute_input": "2021-08-15T01:56:52.508403Z",
     "iopub.status.busy": "2021-08-15T01:56:52.507774Z",
     "iopub.status.idle": "2021-08-15T01:56:52.512219Z",
     "shell.execute_reply": "2021-08-15T01:56:52.512705Z"
    },
    "papermill": {
     "duration": 0.022592,
     "end_time": "2021-08-15T01:56:52.512840",
     "exception": false,
     "start_time": "2021-08-15T01:56:52.490248",
     "status": "completed"
    },
    "tags": []
   },
   "outputs": [
    {
     "data": {
      "text/markdown": [
       "- What does Bitcoin’s current trajectory mean for Cardano, XRP, MATIC, and Dogecoin.  The past seven days have been a wild ride, with the bulls getting a clear upper hand this time. As the total crypto market cap went above the $2 trillion mark once again, anticipation around another rally peaked. However, in the last few months, weekends were especially hard on the market. Weekend blues brought with [&#8230;] ... [| Skaityti daugiau](https://ambcrypto.com/what-does-bitcoins-current-trajectory-mean-for-cardano-xrp-matic-and-dogecoin/) "
      ],
      "text/plain": [
       "<IPython.core.display.Markdown object>"
      ]
     },
     "execution_count": 8,
     "metadata": {},
     "output_type": "execute_result"
    }
   ],
   "source": [
    "#hide_input\n",
    "#md('##### {}'.format(titleBTC)) \n",
    "md(\"- {}{} {}{} [| Skaityti daugiau]({}) \".format(ada['title'],'. ', ada['body'], ' ...', ada['url']))"
   ]
  },
  {
   "cell_type": "code",
   "execution_count": 9,
   "id": "specified-ordering",
   "metadata": {
    "execution": {
     "iopub.execute_input": "2021-08-15T01:56:52.543964Z",
     "iopub.status.busy": "2021-08-15T01:56:52.543340Z",
     "iopub.status.idle": "2021-08-15T01:56:52.547267Z",
     "shell.execute_reply": "2021-08-15T01:56:52.546762Z"
    },
    "papermill": {
     "duration": 0.02189,
     "end_time": "2021-08-15T01:56:52.547384",
     "exception": false,
     "start_time": "2021-08-15T01:56:52.525494",
     "status": "completed"
    },
    "tags": []
   },
   "outputs": [
    {
     "data": {
      "text/markdown": [
       "- Top Exchange Tokens Prints Differing Moves in Current Market Reawakening.  The broader digital currency ecosystem is seeing a gradual rewakening with Bitcoin (BTC) inching a slight gain of 1.31% to $47,179.75 after paring off losses for the better part of the weekend. The major uptick amongst the list of top altcoins is Cardano (ADA) whose runup sustenance has stirred its growth to now rank as The post Top Exchange Tokens Prints Differing Moves in Current Market Reawakening appeared first on Coingape. ... [| Skaityti daugiau](https://coingape.com/89330-2/) "
      ],
      "text/plain": [
       "<IPython.core.display.Markdown object>"
      ]
     },
     "execution_count": 9,
     "metadata": {},
     "output_type": "execute_result"
    }
   ],
   "source": [
    "#hide_input\n",
    "#md('##### {}'.format(titleBTC)) \n",
    "md(\"- {}{} {}{} [| Skaityti daugiau]({}) \".format(exchange['title'],'. ', exchange['body'], ' ...', exchange['url']))"
   ]
  },
  {
   "cell_type": "code",
   "execution_count": null,
   "id": "tender-livestock",
   "metadata": {
    "papermill": {
     "duration": 0.013015,
     "end_time": "2021-08-15T01:56:52.573512",
     "exception": false,
     "start_time": "2021-08-15T01:56:52.560497",
     "status": "completed"
    },
    "tags": []
   },
   "outputs": [],
   "source": []
  },
  {
   "cell_type": "code",
   "execution_count": null,
   "id": "appreciated-diamond",
   "metadata": {
    "papermill": {
     "duration": 0.012888,
     "end_time": "2021-08-15T01:56:52.599627",
     "exception": false,
     "start_time": "2021-08-15T01:56:52.586739",
     "status": "completed"
    },
    "tags": []
   },
   "outputs": [],
   "source": []
  },
  {
   "cell_type": "code",
   "execution_count": null,
   "id": "romance-sweden",
   "metadata": {
    "papermill": {
     "duration": 0.012923,
     "end_time": "2021-08-15T01:56:52.625473",
     "exception": false,
     "start_time": "2021-08-15T01:56:52.612550",
     "status": "completed"
    },
    "tags": []
   },
   "outputs": [],
   "source": []
  },
  {
   "cell_type": "code",
   "execution_count": null,
   "id": "dietary-statistics",
   "metadata": {
    "papermill": {
     "duration": 0.012909,
     "end_time": "2021-08-15T01:56:52.651930",
     "exception": false,
     "start_time": "2021-08-15T01:56:52.639021",
     "status": "completed"
    },
    "tags": []
   },
   "outputs": [],
   "source": []
  }
 ],
 "metadata": {
  "kernelspec": {
   "display_name": "Python 3",
   "language": "python",
   "name": "python3"
  },
  "language_info": {
   "codemirror_mode": {
    "name": "ipython",
    "version": 3
   },
   "file_extension": ".py",
   "mimetype": "text/x-python",
   "name": "python",
   "nbconvert_exporter": "python",
   "pygments_lexer": "ipython3",
   "version": "3.6.14"
  },
  "papermill": {
   "default_parameters": {},
   "duration": 10.68512,
   "end_time": "2021-08-15T01:56:53.175274",
   "environment_variables": {},
   "exception": null,
   "input_path": "Market-News.ipynb",
   "output_path": "Market-News.ipynb",
   "parameters": {},
   "start_time": "2021-08-15T01:56:42.490154",
   "version": "2.2.2"
  }
 },
 "nbformat": 4,
 "nbformat_minor": 5
}