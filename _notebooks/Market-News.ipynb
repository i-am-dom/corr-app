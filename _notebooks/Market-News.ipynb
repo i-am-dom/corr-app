{
 "cells": [
  {
   "cell_type": "markdown",
   "id": "short-greensboro",
   "metadata": {
    "papermill": {
     "duration": 0.017409,
     "end_time": "2022-07-07T03:23:53.113954",
     "exception": false,
     "start_time": "2022-07-07T03:23:53.096545",
     "status": "completed"
    },
    "tags": []
   },
   "source": [
    "# Kriptovaliutų naujienos"
   ]
  },
  {
   "cell_type": "code",
   "execution_count": 1,
   "id": "functioning-knowing",
   "metadata": {
    "execution": {
     "iopub.execute_input": "2022-07-07T03:23:53.152566Z",
     "iopub.status.busy": "2022-07-07T03:23:53.151704Z",
     "iopub.status.idle": "2022-07-07T03:23:54.839280Z",
     "shell.execute_reply": "2022-07-07T03:23:54.838452Z"
    },
    "papermill": {
     "duration": 1.711995,
     "end_time": "2022-07-07T03:23:54.839493",
     "exception": false,
     "start_time": "2022-07-07T03:23:53.127498",
     "status": "completed"
    },
    "tags": []
   },
   "outputs": [],
   "source": [
    "#hide_input\n",
    "import warnings\n",
    "warnings.filterwarnings('ignore')\n",
    "from scripts.read_data import read_api\n",
    "from scripts.read_data import read_news\n",
    "from scripts.read_data import read_covid\n",
    "import matplotlib.pyplot as plt \n",
    "from IPython.display import Markdown as md"
   ]
  },
  {
   "cell_type": "code",
   "execution_count": 2,
   "id": "shared-acceptance",
   "metadata": {
    "execution": {
     "iopub.execute_input": "2022-07-07T03:23:54.873443Z",
     "iopub.status.busy": "2022-07-07T03:23:54.872623Z",
     "iopub.status.idle": "2022-07-07T03:24:06.896713Z",
     "shell.execute_reply": "2022-07-07T03:24:06.896073Z"
    },
    "papermill": {
     "duration": 12.043297,
     "end_time": "2022-07-07T03:24:06.896854",
     "exception": false,
     "start_time": "2022-07-07T03:23:54.853557",
     "status": "completed"
    },
    "tags": []
   },
   "outputs": [],
   "source": [
    "#hide_input\n",
    "blockchain = read_news('blockchain') \n",
    "btc = read_news('btc') \n",
    "xrp = read_news('xrp') \n",
    "trx = read_news('trx') \n",
    "eth = read_news('eth')  \n",
    "ada = read_news('ada')\n",
    "exchange = read_news('exchange') "
   ]
  },
  {
   "cell_type": "code",
   "execution_count": 3,
   "id": "synthetic-notion",
   "metadata": {
    "execution": {
     "iopub.execute_input": "2022-07-07T03:24:06.930103Z",
     "iopub.status.busy": "2022-07-07T03:24:06.929256Z",
     "iopub.status.idle": "2022-07-07T03:24:06.934595Z",
     "shell.execute_reply": "2022-07-07T03:24:06.933829Z"
    },
    "papermill": {
     "duration": 0.024993,
     "end_time": "2022-07-07T03:24:06.934747",
     "exception": false,
     "start_time": "2022-07-07T03:24:06.909754",
     "status": "completed"
    },
    "tags": []
   },
   "outputs": [
    {
     "data": {
      "text/markdown": [
       "- Bitcoin continues attempts to reclaim $21K: Jumps 2%.  Bitcoin price analysis for July 7, 2022, comes on a slightly bullish note for the world&#8217;s biggest cryptocurrency as we can confirm that there are increased chances of the token breaking the $21K price region if the buying volume remains high. In the past few days, the BTC coin has been trying hard to break [&#8230;]The post Bitcoin continues attempts to reclaim $21K: Jumps 2% appeared first on Blockchain, Crypto and Stock News. ... [| Skaityti daugiau](https://thecoinrise.com/bitcoin-continues-attempts-to-reclaim-21k-jumps-2/) "
      ],
      "text/plain": [
       "<IPython.core.display.Markdown object>"
      ]
     },
     "execution_count": 3,
     "metadata": {},
     "output_type": "execute_result"
    }
   ],
   "source": [
    "#hide_input\n",
    "#md('##### {}'.format(titleBTC)) \n",
    "md(\"- {}{} {}{} [| Skaityti daugiau]({}) \".format(blockchain['title'],'. ', blockchain['body'], ' ...', blockchain['url']))"
   ]
  },
  {
   "cell_type": "code",
   "execution_count": 4,
   "id": "aging-caution",
   "metadata": {
    "execution": {
     "iopub.execute_input": "2022-07-07T03:24:06.965735Z",
     "iopub.status.busy": "2022-07-07T03:24:06.965004Z",
     "iopub.status.idle": "2022-07-07T03:24:06.973223Z",
     "shell.execute_reply": "2022-07-07T03:24:06.972576Z"
    },
    "papermill": {
     "duration": 0.026031,
     "end_time": "2022-07-07T03:24:06.973354",
     "exception": false,
     "start_time": "2022-07-07T03:24:06.947323",
     "status": "completed"
    },
    "tags": []
   },
   "outputs": [
    {
     "data": {
      "text/markdown": [
       "- TA: Bitcoin Price Seems Primed For A Strong Wave Above $21K.  Bitcoin is moving higher and trading above the $20,000 zone against the US Dollar. BTC could surge if there is a clear move above $20,580 and $20,730. Bitcoin is showing a few positive signs above the $20,000 support zone. The price is now trading above the $20,000 level and the 100 hourly simple moving average. There is a major bullish trend line forming with support near $19,800 on the hourly chart of the BTC/USD pair (data feed from Kraken). The pair could start a strong upward move if there is a close above the $20,580 level. Bitcoin Price Aims Fresh Increase Bitcoin price stayed well above the $19,500 support zone. BTC formed a low near the $19,750 level and started another increase above the $20,000 resistance zone. There was a steady move and the price climbed above the 50% Fib retracement level of the downward move from the $20,732 swing high to $19,750 low. The price is now trading above the $20,000 level and the 100 hourly simple moving average. There is also a major bullish trend line forming with support near $19,800 on the hourly chart of the BTC/USD pair. Bitcoin price is now trading comfortably near the $20,500 zone and the 76.4% Fib retracement level of the downward move from the $20,732 swing high to $19,750 low. Source: BTCUSD on TradingView.com On the upside, the price is facing resistance near the $20,550 and $20,580 levels. The next key resistance is near the $20,730 zone. A close above the $20,730 resista... ... [| Skaityti daugiau](https://www.newsbtc.com/analysis/btc/bitcoin-price-wave-above-21k/) "
      ],
      "text/plain": [
       "<IPython.core.display.Markdown object>"
      ]
     },
     "execution_count": 4,
     "metadata": {},
     "output_type": "execute_result"
    }
   ],
   "source": [
    "#hide_input\n",
    "#md('##### {}'.format(titleBTC)) \n",
    "md(\"- {}{} {}{} [| Skaityti daugiau]({}) \".format(btc['title'],'. ', btc['body'], ' ...', btc['url']))"
   ]
  },
  {
   "cell_type": "code",
   "execution_count": 5,
   "id": "organic-actress",
   "metadata": {
    "execution": {
     "iopub.execute_input": "2022-07-07T03:24:07.004298Z",
     "iopub.status.busy": "2022-07-07T03:24:07.003282Z",
     "iopub.status.idle": "2022-07-07T03:24:07.008126Z",
     "shell.execute_reply": "2022-07-07T03:24:07.008836Z"
    },
    "papermill": {
     "duration": 0.022789,
     "end_time": "2022-07-07T03:24:07.009135",
     "exception": false,
     "start_time": "2022-07-07T03:24:06.986346",
     "status": "completed"
    },
    "tags": []
   },
   "outputs": [
    {
     "data": {
      "text/markdown": [
       "- XRP Technical Analysis: Ripple Price Trades Sideways on the Daily Chart.  Key technical points: XRP technical analysis is slightly bullish. XRP/USD pair found support at $0.2975. The closest resistance is at $0.3755. Past Performance of XRP In the last 24 hours, XRP has traded at $0.3090-$0.3250. The XRP/USD pair is currently trading at $0.3145, slightly below yesterday’s close of $0.3250. XRP started the day positively as it surged to an intraday high of $0.3300 in the early hours of the day. However, the bulls failed to build on this momentum, and the prices started to decline. The XRP/USD pair is trading close to the 23.6% Fibonacci retracement level of the recent decline from the high of $0.3755 to the low of $0.2975. The MACD indicator is close to the zero line, which indicates that the current momentum is bearish. However, the RSI indicator is in the oversold territory, suggesting that the prices may witness a short-term bounce back. Source-Tradingview XRP Technical Analysis Most technical indicators are currently bullish on XRP. The 100 EMA line is currently above the 200 EMA line, which indicates that the path of least resistance is to the upside. However, the prices have failed to sustain above the $0.3300 level and have started to decline. The MACD indicator is close to the zero line, which indicates that the current momentum is bearish. However, the RSI indicator is in the oversold territory, suggesting that the prices may witness a short-term bounce back. Upcoming Trend If XRP manages to... ... [| Skaityti daugiau](https://www.cryptoknowmics.com/news/xrp-technical-analysis-ripple-price-trades-sideways-on-the-daily-chart/?utm_source=rss&utm_medium=rss&utm_campaign=xrp-technical-analysis-ripple-price-trades-sideways-on-the-daily-chart) "
      ],
      "text/plain": [
       "<IPython.core.display.Markdown object>"
      ]
     },
     "execution_count": 5,
     "metadata": {},
     "output_type": "execute_result"
    }
   ],
   "source": [
    "#hide_input\n",
    "#md('##### {}'.format(titleBTC)) \n",
    "md(\"- {}{} {}{} [| Skaityti daugiau]({}) \".format(xrp['title'],'. ', xrp['body'], ' ...', xrp['url']))"
   ]
  },
  {
   "cell_type": "code",
   "execution_count": 6,
   "id": "prompt-farmer",
   "metadata": {
    "execution": {
     "iopub.execute_input": "2022-07-07T03:24:07.043684Z",
     "iopub.status.busy": "2022-07-07T03:24:07.042803Z",
     "iopub.status.idle": "2022-07-07T03:24:07.047495Z",
     "shell.execute_reply": "2022-07-07T03:24:07.046927Z"
    },
    "papermill": {
     "duration": 0.024681,
     "end_time": "2022-07-07T03:24:07.047632",
     "exception": false,
     "start_time": "2022-07-07T03:24:07.022951",
     "status": "completed"
    },
    "tags": []
   },
   "outputs": [
    {
     "data": {
      "text/markdown": [
       "- Analyzing why TRON [TRX] is a better bet than Dogecoin [DOGE].  When comparing two cryptocurrencies and their native blockchains or when it comes to developing a protocol or leveraging the same for utility involves more than just one factor. However, when investments are in question, the only thing that matters the most is the return on investment (ROI) that comes with an asset, and this is precisely [&#8230;] ... [| Skaityti daugiau](https://ambcrypto.com/analyzing-why-tron-trx-is-a-better-bet-than-dogecoin-doge/) "
      ],
      "text/plain": [
       "<IPython.core.display.Markdown object>"
      ]
     },
     "execution_count": 6,
     "metadata": {},
     "output_type": "execute_result"
    }
   ],
   "source": [
    "#hide_input\n",
    "#md('##### {}'.format(titleBTC)) \n",
    "md(\"- {}{} {}{} [| Skaityti daugiau]({}) \".format(trx['title'],'. ', trx['body'], ' ...', trx['url']))"
   ]
  },
  {
   "cell_type": "code",
   "execution_count": 7,
   "id": "illegal-greece",
   "metadata": {
    "execution": {
     "iopub.execute_input": "2022-07-07T03:24:07.083132Z",
     "iopub.status.busy": "2022-07-07T03:24:07.082355Z",
     "iopub.status.idle": "2022-07-07T03:24:07.087998Z",
     "shell.execute_reply": "2022-07-07T03:24:07.087332Z"
    },
    "papermill": {
     "duration": 0.026376,
     "end_time": "2022-07-07T03:24:07.088137",
     "exception": false,
     "start_time": "2022-07-07T03:24:07.061761",
     "status": "completed"
    },
    "tags": []
   },
   "outputs": [
    {
     "data": {
      "text/markdown": [
       "- Ethereum Price: Will ETH Bulls Surge Above $1200 Or Gets Hit With a Correction Again?.  The post Ethereum Price: Will ETH Bulls Surge Above $1200 Or Gets Hit With a Correction Again? appeared first on Coinpedia - Fintech &amp; Cryptocurreny News Media| Crypto GuideFrom late June to Early July ETH saw a downtrend. In late June ETH was trading at $1200 where it declined to $1080. But this downtrend did not last as in early July a slight increase in trade was observed. Technical Analysis From the graph below the Bollinger bands are squeezing towards each other hence &#8230; ... [| Skaityti daugiau](https://coinpedia.org/price-analysis/ethereum-price-will-eth-bulls-surge-above-1200-or-gets-hit-with-a-correction-again/) "
      ],
      "text/plain": [
       "<IPython.core.display.Markdown object>"
      ]
     },
     "execution_count": 7,
     "metadata": {},
     "output_type": "execute_result"
    }
   ],
   "source": [
    "#hide_input\n",
    "#md('##### {}'.format(titleBTC)) \n",
    "md(\"- {}{} {}{} [| Skaityti daugiau]({}) \".format(eth['title'],'. ', eth['body'], ' ...', eth['url']))"
   ]
  },
  {
   "cell_type": "code",
   "execution_count": 8,
   "id": "sublime-lounge",
   "metadata": {
    "execution": {
     "iopub.execute_input": "2022-07-07T03:24:07.123063Z",
     "iopub.status.busy": "2022-07-07T03:24:07.122329Z",
     "iopub.status.idle": "2022-07-07T03:24:07.127237Z",
     "shell.execute_reply": "2022-07-07T03:24:07.126407Z"
    },
    "papermill": {
     "duration": 0.023764,
     "end_time": "2022-07-07T03:24:07.127428",
     "exception": false,
     "start_time": "2022-07-07T03:24:07.103664",
     "status": "completed"
    },
    "tags": []
   },
   "outputs": [
    {
     "data": {
      "text/markdown": [
       "- Cardano Price : Party Time Trigger for ADA Price At $0.48 Level.  The post Cardano Price : Party Time Trigger for ADA Price At $0.48 Level appeared first on Coinpedia - Fintech &amp; Cryptocurreny News Media| Crypto GuideThe present bear market in the cryptocurrency industry, which has impacted all cryptocurrencies, has contributed to the price decline of Cardano. ADA’s prices have fallen as a result of investors selling off their riskier crypto assets as a result of other market variables including inflation and an impending recession. Cryptocurrency trader and popular analyst Michal &#8230; ... [| Skaityti daugiau](https://coinpedia.org/altcoin/cardano-price-party-time-trigger-for-ada-price-at-0-48-level/) "
      ],
      "text/plain": [
       "<IPython.core.display.Markdown object>"
      ]
     },
     "execution_count": 8,
     "metadata": {},
     "output_type": "execute_result"
    }
   ],
   "source": [
    "#hide_input\n",
    "#md('##### {}'.format(titleBTC)) \n",
    "md(\"- {}{} {}{} [| Skaityti daugiau]({}) \".format(ada['title'],'. ', ada['body'], ' ...', ada['url']))"
   ]
  },
  {
   "cell_type": "code",
   "execution_count": 9,
   "id": "specified-ordering",
   "metadata": {
    "execution": {
     "iopub.execute_input": "2022-07-07T03:24:07.166448Z",
     "iopub.status.busy": "2022-07-07T03:24:07.165622Z",
     "iopub.status.idle": "2022-07-07T03:24:07.170350Z",
     "shell.execute_reply": "2022-07-07T03:24:07.171048Z"
    },
    "papermill": {
     "duration": 0.026754,
     "end_time": "2022-07-07T03:24:07.171233",
     "exception": false,
     "start_time": "2022-07-07T03:24:07.144479",
     "status": "completed"
    },
    "tags": []
   },
   "outputs": [
    {
     "data": {
      "text/markdown": [
       "- Bitcoin ($BTC) Has Been Moving out of Exchanges at ‘Most Aggressive Rate in History’.  Cryptocurrency investors have been withdrawing Bitcoin ($BTC) from cryptocurrency exchanges at the “most aggressive rate in history” as total exchange outflows in June peaked at 151,000 BTC, worth over $3 billion. According to data from on-chain analytics firm Glassnode, last month the largest exchange outflows on record were recorded, with so-called shrimp and whale wallets […] ... [| Skaityti daugiau](https://www.cryptoglobe.com/latest/2022/07/bitcoin-btc-has-been-moving-out-of-exchanges-at-most-aggressive-rate-in-history/) "
      ],
      "text/plain": [
       "<IPython.core.display.Markdown object>"
      ]
     },
     "execution_count": 9,
     "metadata": {},
     "output_type": "execute_result"
    }
   ],
   "source": [
    "#hide_input\n",
    "#md('##### {}'.format(titleBTC)) \n",
    "md(\"- {}{} {}{} [| Skaityti daugiau]({}) \".format(exchange['title'],'. ', exchange['body'], ' ...', exchange['url']))"
   ]
  },
  {
   "cell_type": "code",
   "execution_count": null,
   "id": "tender-livestock",
   "metadata": {
    "papermill": {
     "duration": 0.014814,
     "end_time": "2022-07-07T03:24:07.200357",
     "exception": false,
     "start_time": "2022-07-07T03:24:07.185543",
     "status": "completed"
    },
    "tags": []
   },
   "outputs": [],
   "source": []
  },
  {
   "cell_type": "code",
   "execution_count": null,
   "id": "appreciated-diamond",
   "metadata": {
    "papermill": {
     "duration": 0.015023,
     "end_time": "2022-07-07T03:24:07.230347",
     "exception": false,
     "start_time": "2022-07-07T03:24:07.215324",
     "status": "completed"
    },
    "tags": []
   },
   "outputs": [],
   "source": []
  },
  {
   "cell_type": "code",
   "execution_count": null,
   "id": "romance-sweden",
   "metadata": {
    "papermill": {
     "duration": 0.014355,
     "end_time": "2022-07-07T03:24:07.259970",
     "exception": false,
     "start_time": "2022-07-07T03:24:07.245615",
     "status": "completed"
    },
    "tags": []
   },
   "outputs": [],
   "source": []
  },
  {
   "cell_type": "code",
   "execution_count": null,
   "id": "dietary-statistics",
   "metadata": {
    "papermill": {
     "duration": 0.015468,
     "end_time": "2022-07-07T03:24:07.290368",
     "exception": false,
     "start_time": "2022-07-07T03:24:07.274900",
     "status": "completed"
    },
    "tags": []
   },
   "outputs": [],
   "source": []
  }
 ],
 "metadata": {
  "kernelspec": {
   "display_name": "Python 3",
   "language": "python",
   "name": "python3"
  },
  "language_info": {
   "codemirror_mode": {
    "name": "ipython",
    "version": 3
   },
   "file_extension": ".py",
   "mimetype": "text/x-python",
   "name": "python",
   "nbconvert_exporter": "python",
   "pygments_lexer": "ipython3",
   "version": "3.6.15"
  },
  "papermill": {
   "default_parameters": {},
   "duration": 15.979367,
   "end_time": "2022-07-07T03:24:07.825746",
   "environment_variables": {},
   "exception": null,
   "input_path": "Market-News.ipynb",
   "output_path": "Market-News.ipynb",
   "parameters": {},
   "start_time": "2022-07-07T03:23:51.846379",
   "version": "2.2.2"
  }
 },
 "nbformat": 4,
 "nbformat_minor": 5
}