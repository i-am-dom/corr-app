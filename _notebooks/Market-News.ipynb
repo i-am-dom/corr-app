{
 "cells": [
  {
   "cell_type": "markdown",
   "id": "short-greensboro",
   "metadata": {
    "papermill": {
     "duration": 0.016352,
     "end_time": "2022-05-20T02:56:09.236547",
     "exception": false,
     "start_time": "2022-05-20T02:56:09.220195",
     "status": "completed"
    },
    "tags": []
   },
   "source": [
    "# Kriptovaliutų naujienos"
   ]
  },
  {
   "cell_type": "code",
   "execution_count": 1,
   "id": "functioning-knowing",
   "metadata": {
    "execution": {
     "iopub.execute_input": "2022-05-20T02:56:09.275901Z",
     "iopub.status.busy": "2022-05-20T02:56:09.274767Z",
     "iopub.status.idle": "2022-05-20T02:56:10.747264Z",
     "shell.execute_reply": "2022-05-20T02:56:10.746553Z"
    },
    "papermill": {
     "duration": 1.498355,
     "end_time": "2022-05-20T02:56:10.747435",
     "exception": false,
     "start_time": "2022-05-20T02:56:09.249080",
     "status": "completed"
    },
    "tags": []
   },
   "outputs": [],
   "source": [
    "#hide_input\n",
    "import warnings\n",
    "warnings.filterwarnings('ignore')\n",
    "from scripts.read_data import read_api\n",
    "from scripts.read_data import read_news\n",
    "from scripts.read_data import read_covid\n",
    "import matplotlib.pyplot as plt \n",
    "from IPython.display import Markdown as md"
   ]
  },
  {
   "cell_type": "code",
   "execution_count": 2,
   "id": "shared-acceptance",
   "metadata": {
    "execution": {
     "iopub.execute_input": "2022-05-20T02:56:10.777481Z",
     "iopub.status.busy": "2022-05-20T02:56:10.776685Z",
     "iopub.status.idle": "2022-05-20T02:56:23.652048Z",
     "shell.execute_reply": "2022-05-20T02:56:23.651371Z"
    },
    "papermill": {
     "duration": 12.89407,
     "end_time": "2022-05-20T02:56:23.652194",
     "exception": false,
     "start_time": "2022-05-20T02:56:10.758124",
     "status": "completed"
    },
    "tags": []
   },
   "outputs": [],
   "source": [
    "#hide_input\n",
    "blockchain = read_news('blockchain') \n",
    "btc = read_news('btc') \n",
    "xrp = read_news('xrp') \n",
    "trx = read_news('trx') \n",
    "eth = read_news('eth')  \n",
    "ada = read_news('ada')\n",
    "exchange = read_news('exchange') "
   ]
  },
  {
   "cell_type": "code",
   "execution_count": 3,
   "id": "synthetic-notion",
   "metadata": {
    "execution": {
     "iopub.execute_input": "2022-05-20T02:56:23.682918Z",
     "iopub.status.busy": "2022-05-20T02:56:23.682200Z",
     "iopub.status.idle": "2022-05-20T02:56:23.689259Z",
     "shell.execute_reply": "2022-05-20T02:56:23.688689Z"
    },
    "papermill": {
     "duration": 0.026289,
     "end_time": "2022-05-20T02:56:23.689392",
     "exception": false,
     "start_time": "2022-05-20T02:56:23.663103",
     "status": "completed"
    },
    "tags": []
   },
   "outputs": [
    {
     "data": {
      "text/markdown": [
       "- Operated By Aave, Lens Protocol Finally Goes Live On Polygon Blockchain.  Operated by DeFi lender Aave, its decentralised social media platform, Lens Protocol has gone live on the Polygon blockchain mainnet. Lens Protocol was first introduced in February 2022. Aave decided to introduce Lens Protocol as a decentralized competitor to Twitter and Facebook. Lens Protocol is a network which is used to build decentralized social media [&#8230;] ... [| Skaityti daugiau](https://bitcoinist.com/aave-lens-protocol-y-goes-live-polygon-blockchain/) "
      ],
      "text/plain": [
       "<IPython.core.display.Markdown object>"
      ]
     },
     "execution_count": 3,
     "metadata": {},
     "output_type": "execute_result"
    }
   ],
   "source": [
    "#hide_input\n",
    "#md('##### {}'.format(titleBTC)) \n",
    "md(\"- {}{} {}{} [| Skaityti daugiau]({}) \".format(blockchain['title'],'. ', blockchain['body'], ' ...', blockchain['url']))"
   ]
  },
  {
   "cell_type": "code",
   "execution_count": 4,
   "id": "aging-caution",
   "metadata": {
    "execution": {
     "iopub.execute_input": "2022-05-20T02:56:23.719322Z",
     "iopub.status.busy": "2022-05-20T02:56:23.717948Z",
     "iopub.status.idle": "2022-05-20T02:56:23.723671Z",
     "shell.execute_reply": "2022-05-20T02:56:23.724209Z"
    },
    "papermill": {
     "duration": 0.0238,
     "end_time": "2022-05-20T02:56:23.724371",
     "exception": false,
     "start_time": "2022-05-20T02:56:23.700571",
     "status": "completed"
    },
    "tags": []
   },
   "outputs": [
    {
     "data": {
      "text/markdown": [
       "- Institutional Investors Dominated Bitcoin ($BTC) Trading in Q1, Says CryptoQuant CEO.  The CEO of on-chain data firm CryptoQuant, Ki Young Ju, has revealed that institutional investors dominated the cryptocurrency space’s trading volume in the first quarter of this year, based on on-chain data and data from Coinbase’s shareholder letter. In a tweet, Ki Young Ju noted that 76% of trading volume in the first quarter of […] ... [| Skaityti daugiau](https://www.cryptoglobe.com/latest/2022/05/institutional-investors-dominated-bitcoin-btc-trading-in-q1-says-cryptoquant-ceo/) "
      ],
      "text/plain": [
       "<IPython.core.display.Markdown object>"
      ]
     },
     "execution_count": 4,
     "metadata": {},
     "output_type": "execute_result"
    }
   ],
   "source": [
    "#hide_input\n",
    "#md('##### {}'.format(titleBTC)) \n",
    "md(\"- {}{} {}{} [| Skaityti daugiau]({}) \".format(btc['title'],'. ', btc['body'], ' ...', btc['url']))"
   ]
  },
  {
   "cell_type": "code",
   "execution_count": 5,
   "id": "organic-actress",
   "metadata": {
    "execution": {
     "iopub.execute_input": "2022-05-20T02:56:23.754708Z",
     "iopub.status.busy": "2022-05-20T02:56:23.753874Z",
     "iopub.status.idle": "2022-05-20T02:56:23.761418Z",
     "shell.execute_reply": "2022-05-20T02:56:23.761970Z"
    },
    "papermill": {
     "duration": 0.026434,
     "end_time": "2022-05-20T02:56:23.762129",
     "exception": false,
     "start_time": "2022-05-20T02:56:23.735695",
     "status": "completed"
    },
    "tags": []
   },
   "outputs": [
    {
     "data": {
      "text/markdown": [
       "- SEC can't confirm if video of Bill Hinman is actually Bill Hinman in Ripple case.  “After reasonable inquiry, the information known and currently available is not sufficient to enable the Commission to admit or deny this request,” the SEC stated in court documents.  ... [| Skaityti daugiau](https://cointelegraph.com/news/sec-can-t-confirm-if-video-of-bill-hinman-is-actually-bill-hinman-in-ripple-case) "
      ],
      "text/plain": [
       "<IPython.core.display.Markdown object>"
      ]
     },
     "execution_count": 5,
     "metadata": {},
     "output_type": "execute_result"
    }
   ],
   "source": [
    "#hide_input\n",
    "#md('##### {}'.format(titleBTC)) \n",
    "md(\"- {}{} {}{} [| Skaityti daugiau]({}) \".format(xrp['title'],'. ', xrp['body'], ' ...', xrp['url']))"
   ]
  },
  {
   "cell_type": "code",
   "execution_count": 6,
   "id": "prompt-farmer",
   "metadata": {
    "execution": {
     "iopub.execute_input": "2022-05-20T02:56:23.795381Z",
     "iopub.status.busy": "2022-05-20T02:56:23.793516Z",
     "iopub.status.idle": "2022-05-20T02:56:23.798185Z",
     "shell.execute_reply": "2022-05-20T02:56:23.797510Z"
    },
    "papermill": {
     "duration": 0.023525,
     "end_time": "2022-05-20T02:56:23.798324",
     "exception": false,
     "start_time": "2022-05-20T02:56:23.774799",
     "status": "completed"
    },
    "tags": []
   },
   "outputs": [
    {
     "data": {
      "text/markdown": [
       "- TRX Price Analysis – Another Bullish Attempt For $0.075 Breakout.  Another attempt from TRON (TRX) buyers to surpass the crucial resistance zone at the $0.075 mark stands against formidable selling pressure. Considering the increased recovery momentum helps the daily candle close above the supply zone, a boom in buying pressure will be observed. But will buyers undermine the selling pressure or is it just another The post TRX Price Analysis &#8211; Another Bullish Attempt For $0.075 Breakout appeared first on CoinGape. ... [| Skaityti daugiau](https://coingape.com/markets/trx-price-analysis-another-bullish-attempt-for-0-075-breakout/) "
      ],
      "text/plain": [
       "<IPython.core.display.Markdown object>"
      ]
     },
     "execution_count": 6,
     "metadata": {},
     "output_type": "execute_result"
    }
   ],
   "source": [
    "#hide_input\n",
    "#md('##### {}'.format(titleBTC)) \n",
    "md(\"- {}{} {}{} [| Skaityti daugiau]({}) \".format(trx['title'],'. ', trx['body'], ' ...', trx['url']))"
   ]
  },
  {
   "cell_type": "code",
   "execution_count": 7,
   "id": "illegal-greece",
   "metadata": {
    "execution": {
     "iopub.execute_input": "2022-05-20T02:56:23.831165Z",
     "iopub.status.busy": "2022-05-20T02:56:23.830268Z",
     "iopub.status.idle": "2022-05-20T02:56:23.833472Z",
     "shell.execute_reply": "2022-05-20T02:56:23.834138Z"
    },
    "papermill": {
     "duration": 0.023521,
     "end_time": "2022-05-20T02:56:23.834296",
     "exception": false,
     "start_time": "2022-05-20T02:56:23.810775",
     "status": "completed"
    },
    "tags": []
   },
   "outputs": [
    {
     "data": {
      "text/markdown": [
       "- UnicornDAO Raises $4.5 Million to Support Women and LGBTQ+ Artists.  The DAO says its mission is to support marginalized artists and underrepresented groups in Web3. ... [| Skaityti daugiau](https://decrypt.co/100922/unicorndao-raises-support-women-lgbtq-artists) "
      ],
      "text/plain": [
       "<IPython.core.display.Markdown object>"
      ]
     },
     "execution_count": 7,
     "metadata": {},
     "output_type": "execute_result"
    }
   ],
   "source": [
    "#hide_input\n",
    "#md('##### {}'.format(titleBTC)) \n",
    "md(\"- {}{} {}{} [| Skaityti daugiau]({}) \".format(eth['title'],'. ', eth['body'], ' ...', eth['url']))"
   ]
  },
  {
   "cell_type": "code",
   "execution_count": 8,
   "id": "sublime-lounge",
   "metadata": {
    "execution": {
     "iopub.execute_input": "2022-05-20T02:56:23.869188Z",
     "iopub.status.busy": "2022-05-20T02:56:23.868463Z",
     "iopub.status.idle": "2022-05-20T02:56:23.873508Z",
     "shell.execute_reply": "2022-05-20T02:56:23.872871Z"
    },
    "papermill": {
     "duration": 0.024043,
     "end_time": "2022-05-20T02:56:23.873649",
     "exception": false,
     "start_time": "2022-05-20T02:56:23.849606",
     "status": "completed"
    },
    "tags": []
   },
   "outputs": [
    {
     "data": {
      "text/markdown": [
       "- Is Cardano’s [ADA] rally probable yet? The answer might impress you.  Cardano’s [ADA] price has been under a strong bearish influence, especially since dropping from the vital $1.2-resistance. After falling below the 20 EMA (red) and 50 EMA (cyan), the altcoin was on a streak of liquidations while correlating with the broader sell-offs. Altering the overall outlook was still a long shot for the bulls while [&#8230;] ... [| Skaityti daugiau](https://ambcrypto.com/cardano-ada-rally-is-within-reachable-means-yet-the-answer-might-impress-you/) "
      ],
      "text/plain": [
       "<IPython.core.display.Markdown object>"
      ]
     },
     "execution_count": 8,
     "metadata": {},
     "output_type": "execute_result"
    }
   ],
   "source": [
    "#hide_input\n",
    "#md('##### {}'.format(titleBTC)) \n",
    "md(\"- {}{} {}{} [| Skaityti daugiau]({}) \".format(ada['title'],'. ', ada['body'], ' ...', ada['url']))"
   ]
  },
  {
   "cell_type": "code",
   "execution_count": 9,
   "id": "specified-ordering",
   "metadata": {
    "execution": {
     "iopub.execute_input": "2022-05-20T02:56:23.906155Z",
     "iopub.status.busy": "2022-05-20T02:56:23.905442Z",
     "iopub.status.idle": "2022-05-20T02:56:23.910035Z",
     "shell.execute_reply": "2022-05-20T02:56:23.909343Z"
    },
    "papermill": {
     "duration": 0.022854,
     "end_time": "2022-05-20T02:56:23.910169",
     "exception": false,
     "start_time": "2022-05-20T02:56:23.887315",
     "status": "completed"
    },
    "tags": []
   },
   "outputs": [
    {
     "data": {
      "text/markdown": [
       "- Freedom Protocol Has Become the Project With the Largest Amount of IDO in the Ecology of Binance Smart Chain.  PRESS RELEASE. Binance is a curious company. the world&#x2019;s largest cryptocurrency exchange, it also has no official headquarters and operates outside regulatory control. But that may not stop its step. Binance.US raised funding at a $4.5bn valuation this month, providing a new case for Binance enthusiasts. Today, they can share the exciting news that Freedom [&#8230;] ... [| Skaityti daugiau](https://news.bitcoin.com/freedom-protocol-has-become-the-project-with-the-largest-amount-of-ido-in-the-ecology-of-binance-smart-chain/) "
      ],
      "text/plain": [
       "<IPython.core.display.Markdown object>"
      ]
     },
     "execution_count": 9,
     "metadata": {},
     "output_type": "execute_result"
    }
   ],
   "source": [
    "#hide_input\n",
    "#md('##### {}'.format(titleBTC)) \n",
    "md(\"- {}{} {}{} [| Skaityti daugiau]({}) \".format(exchange['title'],'. ', exchange['body'], ' ...', exchange['url']))"
   ]
  },
  {
   "cell_type": "code",
   "execution_count": null,
   "id": "tender-livestock",
   "metadata": {
    "papermill": {
     "duration": 0.013903,
     "end_time": "2022-05-20T02:56:23.938758",
     "exception": false,
     "start_time": "2022-05-20T02:56:23.924855",
     "status": "completed"
    },
    "tags": []
   },
   "outputs": [],
   "source": []
  },
  {
   "cell_type": "code",
   "execution_count": null,
   "id": "appreciated-diamond",
   "metadata": {
    "papermill": {
     "duration": 0.014922,
     "end_time": "2022-05-20T02:56:23.967917",
     "exception": false,
     "start_time": "2022-05-20T02:56:23.952995",
     "status": "completed"
    },
    "tags": []
   },
   "outputs": [],
   "source": []
  },
  {
   "cell_type": "code",
   "execution_count": null,
   "id": "romance-sweden",
   "metadata": {
    "papermill": {
     "duration": 0.014758,
     "end_time": "2022-05-20T02:56:23.998037",
     "exception": false,
     "start_time": "2022-05-20T02:56:23.983279",
     "status": "completed"
    },
    "tags": []
   },
   "outputs": [],
   "source": []
  },
  {
   "cell_type": "code",
   "execution_count": null,
   "id": "dietary-statistics",
   "metadata": {
    "papermill": {
     "duration": 0.021883,
     "end_time": "2022-05-20T02:56:24.036042",
     "exception": false,
     "start_time": "2022-05-20T02:56:24.014159",
     "status": "completed"
    },
    "tags": []
   },
   "outputs": [],
   "source": []
  }
 ],
 "metadata": {
  "kernelspec": {
   "display_name": "Python 3",
   "language": "python",
   "name": "python3"
  },
  "language_info": {
   "codemirror_mode": {
    "name": "ipython",
    "version": 3
   },
   "file_extension": ".py",
   "mimetype": "text/x-python",
   "name": "python",
   "nbconvert_exporter": "python",
   "pygments_lexer": "ipython3",
   "version": "3.6.15"
  },
  "papermill": {
   "default_parameters": {},
   "duration": 16.673555,
   "end_time": "2022-05-20T02:56:24.571945",
   "environment_variables": {},
   "exception": null,
   "input_path": "Market-News.ipynb",
   "output_path": "Market-News.ipynb",
   "parameters": {},
   "start_time": "2022-05-20T02:56:07.898390",
   "version": "2.2.2"
  }
 },
 "nbformat": 4,
 "nbformat_minor": 5
}