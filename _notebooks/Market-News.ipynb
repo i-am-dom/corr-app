{
 "cells": [
  {
   "cell_type": "markdown",
   "id": "short-greensboro",
   "metadata": {
    "papermill": {
     "duration": 0.013847,
     "end_time": "2022-02-16T02:08:27.826450",
     "exception": false,
     "start_time": "2022-02-16T02:08:27.812603",
     "status": "completed"
    },
    "tags": []
   },
   "source": [
    "# Kriptovaliutų naujienos"
   ]
  },
  {
   "cell_type": "code",
   "execution_count": 1,
   "id": "functioning-knowing",
   "metadata": {
    "execution": {
     "iopub.execute_input": "2022-02-16T02:08:27.856564Z",
     "iopub.status.busy": "2022-02-16T02:08:27.855916Z",
     "iopub.status.idle": "2022-02-16T02:08:29.287316Z",
     "shell.execute_reply": "2022-02-16T02:08:29.288074Z"
    },
    "papermill": {
     "duration": 1.451607,
     "end_time": "2022-02-16T02:08:29.288252",
     "exception": false,
     "start_time": "2022-02-16T02:08:27.836645",
     "status": "completed"
    },
    "tags": []
   },
   "outputs": [],
   "source": [
    "#hide_input\n",
    "import warnings\n",
    "warnings.filterwarnings('ignore')\n",
    "from scripts.read_data import read_api\n",
    "from scripts.read_data import read_news\n",
    "from scripts.read_data import read_covid\n",
    "import matplotlib.pyplot as plt \n",
    "from IPython.display import Markdown as md"
   ]
  },
  {
   "cell_type": "code",
   "execution_count": 2,
   "id": "shared-acceptance",
   "metadata": {
    "execution": {
     "iopub.execute_input": "2022-02-16T02:08:29.315738Z",
     "iopub.status.busy": "2022-02-16T02:08:29.314417Z",
     "iopub.status.idle": "2022-02-16T02:08:37.667335Z",
     "shell.execute_reply": "2022-02-16T02:08:37.666836Z"
    },
    "papermill": {
     "duration": 8.369164,
     "end_time": "2022-02-16T02:08:37.667469",
     "exception": false,
     "start_time": "2022-02-16T02:08:29.298305",
     "status": "completed"
    },
    "tags": []
   },
   "outputs": [],
   "source": [
    "#hide_input\n",
    "blockchain = read_news('blockchain') \n",
    "btc = read_news('btc') \n",
    "xrp = read_news('xrp') \n",
    "trx = read_news('trx') \n",
    "eth = read_news('eth')  \n",
    "ada = read_news('ada')\n",
    "exchange = read_news('exchange') "
   ]
  },
  {
   "cell_type": "code",
   "execution_count": 3,
   "id": "synthetic-notion",
   "metadata": {
    "execution": {
     "iopub.execute_input": "2022-02-16T02:08:37.695993Z",
     "iopub.status.busy": "2022-02-16T02:08:37.695439Z",
     "iopub.status.idle": "2022-02-16T02:08:37.697608Z",
     "shell.execute_reply": "2022-02-16T02:08:37.698037Z"
    },
    "papermill": {
     "duration": 0.019744,
     "end_time": "2022-02-16T02:08:37.698150",
     "exception": false,
     "start_time": "2022-02-16T02:08:37.678406",
     "status": "completed"
    },
    "tags": []
   },
   "outputs": [
    {
     "data": {
      "text/markdown": [
       "- Blockchain Venture Firm Woodstock Raising $100M From US Investors.  Blockworks Exclusive: Global Web3 fund with deep roots in India taps US investors for second vehicleThe post Blockchain Venture Firm Woodstock Raising $100M From US Investors appeared first on Blockworks. ... [| Skaityti daugiau](https://blockworks.co/blockchain-venture-firm-woodstock-raising-100m-from-us-investors/) "
      ],
      "text/plain": [
       "<IPython.core.display.Markdown object>"
      ]
     },
     "execution_count": 3,
     "metadata": {},
     "output_type": "execute_result"
    }
   ],
   "source": [
    "#hide_input\n",
    "#md('##### {}'.format(titleBTC)) \n",
    "md(\"- {}{} {}{} [| Skaityti daugiau]({}) \".format(blockchain['title'],'. ', blockchain['body'], ' ...', blockchain['url']))"
   ]
  },
  {
   "cell_type": "code",
   "execution_count": 4,
   "id": "aging-caution",
   "metadata": {
    "execution": {
     "iopub.execute_input": "2022-02-16T02:08:37.727465Z",
     "iopub.status.busy": "2022-02-16T02:08:37.726714Z",
     "iopub.status.idle": "2022-02-16T02:08:37.728997Z",
     "shell.execute_reply": "2022-02-16T02:08:37.729466Z"
    },
    "papermill": {
     "duration": 0.021957,
     "end_time": "2022-02-16T02:08:37.729589",
     "exception": false,
     "start_time": "2022-02-16T02:08:37.707632",
     "status": "completed"
    },
    "tags": []
   },
   "outputs": [
    {
     "data": {
      "text/markdown": [
       "- Russian Ministry Pushes To Legalize Bitcoin Mining In Some Areas.  The Ministry of Economic Development believes mining should be allowed where energy is abundant, mirroring thoughts from President Vladimir Putin. ... [| Skaityti daugiau](https://decrypt.co/93030/russian-ministry-pushes-legalize-bitcoin-mining-some-areas) "
      ],
      "text/plain": [
       "<IPython.core.display.Markdown object>"
      ]
     },
     "execution_count": 4,
     "metadata": {},
     "output_type": "execute_result"
    }
   ],
   "source": [
    "#hide_input\n",
    "#md('##### {}'.format(titleBTC)) \n",
    "md(\"- {}{} {}{} [| Skaityti daugiau]({}) \".format(btc['title'],'. ', btc['body'], ' ...', btc['url']))"
   ]
  },
  {
   "cell_type": "code",
   "execution_count": 5,
   "id": "organic-actress",
   "metadata": {
    "execution": {
     "iopub.execute_input": "2022-02-16T02:08:37.754429Z",
     "iopub.status.busy": "2022-02-16T02:08:37.753875Z",
     "iopub.status.idle": "2022-02-16T02:08:37.756827Z",
     "shell.execute_reply": "2022-02-16T02:08:37.757303Z"
    },
    "papermill": {
     "duration": 0.017883,
     "end_time": "2022-02-16T02:08:37.757419",
     "exception": false,
     "start_time": "2022-02-16T02:08:37.739536",
     "status": "completed"
    },
    "tags": []
   },
   "outputs": [
    {
     "data": {
      "text/markdown": [
       "- Representing Lawyer of XRP Holders Predict SEC’s Next Move As Ripple Price Hikes.  Ripple is one of the altcoins that has strived comparative well within the cryptocurrency space. The price-performance and the general trend in the protocol&#8217;s ecosystem have made this crypto one of the outstanding long-term and short-term investment choices. Currently, Ripple is ranked in the 6th position according to CoinMarketCap, as it boasts a market cap of over $40 billion. With the recent case of SEC and Ripple, several of the XRP community have some built-up tension over the possible action to expect. Related Reading &#124; Bitcoin Hashrate Climbs To New High As Price Recovers Above $42,000 This is after the unsealing of three different documents set by the judge. However, John Deaton, the cryptocurrency lawyer representing more than 64,000 XRP holders, put forth some possibilities to calm the situation. First, he explained that SEC is likely to make two potential moves. From the new evidence, there&#8217;s an inclusion of the email thread and deposition notice of Brad Garlinghouse, Ripple CEO. Also, the evidence contains the line of Chris Larsen, a Ripple executive. According to Deaton&#8217;s suggestion, substantially proving the link between Ripple&#8217;s public announcements and XRP price would be a near impossibility. Moreover, he mentioned that the SEC would have to confirm the sale of XRP tokens by Garlinghouse and Larsen in the U.S. Furthermore, the lawyer was contemplating if SEC could lay claim of Rippl... ... [| Skaityti daugiau](https://www.newsbtc.com/news/representing-lawyer-of-xrp-holders-predict-secs-next-move-as-ripple-price-hikes/) "
      ],
      "text/plain": [
       "<IPython.core.display.Markdown object>"
      ]
     },
     "execution_count": 5,
     "metadata": {},
     "output_type": "execute_result"
    }
   ],
   "source": [
    "#hide_input\n",
    "#md('##### {}'.format(titleBTC)) \n",
    "md(\"- {}{} {}{} [| Skaityti daugiau]({}) \".format(xrp['title'],'. ', xrp['body'], ' ...', xrp['url']))"
   ]
  },
  {
   "cell_type": "code",
   "execution_count": 6,
   "id": "prompt-farmer",
   "metadata": {
    "execution": {
     "iopub.execute_input": "2022-02-16T02:08:37.781719Z",
     "iopub.status.busy": "2022-02-16T02:08:37.780434Z",
     "iopub.status.idle": "2022-02-16T02:08:37.784398Z",
     "shell.execute_reply": "2022-02-16T02:08:37.784901Z"
    },
    "papermill": {
     "duration": 0.017616,
     "end_time": "2022-02-16T02:08:37.785011",
     "exception": false,
     "start_time": "2022-02-16T02:08:37.767395",
     "status": "completed"
    },
    "tags": []
   },
   "outputs": [
    {
     "data": {
      "text/markdown": [
       "- Cosmos, Tron, THETA Price Analysis: 15 February.  As the broader crypto market cap saw a 24-hour increase, ATOM broke out of its down-channel but faced a hurdle at the $29-level. Moreover, Tron and THETA upheld their immediate support after breaking down from their up-channels. Cosmos (ATOM) The sell-off phase led ATOM to lose 43.17% (from 17 January) of its value until 14 [&#8230;] ... [| Skaityti daugiau](https://ambcrypto.com/cosmos-tron-theta-price-analysis-15-february/) "
      ],
      "text/plain": [
       "<IPython.core.display.Markdown object>"
      ]
     },
     "execution_count": 6,
     "metadata": {},
     "output_type": "execute_result"
    }
   ],
   "source": [
    "#hide_input\n",
    "#md('##### {}'.format(titleBTC)) \n",
    "md(\"- {}{} {}{} [| Skaityti daugiau]({}) \".format(trx['title'],'. ', trx['body'], ' ...', trx['url']))"
   ]
  },
  {
   "cell_type": "code",
   "execution_count": 7,
   "id": "illegal-greece",
   "metadata": {
    "execution": {
     "iopub.execute_input": "2022-02-16T02:08:37.810044Z",
     "iopub.status.busy": "2022-02-16T02:08:37.809027Z",
     "iopub.status.idle": "2022-02-16T02:08:37.813277Z",
     "shell.execute_reply": "2022-02-16T02:08:37.813844Z"
    },
    "papermill": {
     "duration": 0.017919,
     "end_time": "2022-02-16T02:08:37.813963",
     "exception": false,
     "start_time": "2022-02-16T02:08:37.796044",
     "status": "completed"
    },
    "tags": []
   },
   "outputs": [
    {
     "data": {
      "text/markdown": [
       "- Top BSC whales are changing their crypto portfolios and here’s what they’re buying.  Analysis shared by the WhaleStatsBSC Twitter account showcased interesting holding behavior. The largest Binance Smart Chain whales were holding Bitcoin, Ethereum and several other major altcoins. But here&#8217;s what changed over 24 hours of trading in the holding activity. Playing the long game Binance Smart Chain (BSC) whales are not showing signs of slowing down [&#8230;] ... [| Skaityti daugiau](https://ambcrypto.com/top-bsc-whales-are-changing-their-crypto-portfolios-and-heres-what-theyre-buying/) "
      ],
      "text/plain": [
       "<IPython.core.display.Markdown object>"
      ]
     },
     "execution_count": 7,
     "metadata": {},
     "output_type": "execute_result"
    }
   ],
   "source": [
    "#hide_input\n",
    "#md('##### {}'.format(titleBTC)) \n",
    "md(\"- {}{} {}{} [| Skaityti daugiau]({}) \".format(eth['title'],'. ', eth['body'], ' ...', eth['url']))"
   ]
  },
  {
   "cell_type": "code",
   "execution_count": 8,
   "id": "sublime-lounge",
   "metadata": {
    "execution": {
     "iopub.execute_input": "2022-02-16T02:08:37.840350Z",
     "iopub.status.busy": "2022-02-16T02:08:37.839115Z",
     "iopub.status.idle": "2022-02-16T02:08:37.843649Z",
     "shell.execute_reply": "2022-02-16T02:08:37.844145Z"
    },
    "papermill": {
     "duration": 0.0194,
     "end_time": "2022-02-16T02:08:37.844257",
     "exception": false,
     "start_time": "2022-02-16T02:08:37.824857",
     "status": "completed"
    },
    "tags": []
   },
   "outputs": [
    {
     "data": {
      "text/markdown": [
       "- Cardano: SundaeSwap announces Reverse ISO proposal and here’s what it means.  Even as Cardano&#8216;s much-hyped decentralized exchange (DEX) SundaeSwap suffered a patchy launch last month, a resurgence in its popularity has also been marked by an expansion of the protocol&#8217;s ecosystem. With its Initial Stake Offering (ISO) coming to an end this week, albeit not in the manner expected, the DEX has now introduced a unique [&#8230;] ... [| Skaityti daugiau](https://ambcrypto.com/cardano-sendaeswap-announces-reverse-iso-proposal-and-heres-what-it-means/) "
      ],
      "text/plain": [
       "<IPython.core.display.Markdown object>"
      ]
     },
     "execution_count": 8,
     "metadata": {},
     "output_type": "execute_result"
    }
   ],
   "source": [
    "#hide_input\n",
    "#md('##### {}'.format(titleBTC)) \n",
    "md(\"- {}{} {}{} [| Skaityti daugiau]({}) \".format(ada['title'],'. ', ada['body'], ' ...', ada['url']))"
   ]
  },
  {
   "cell_type": "code",
   "execution_count": 9,
   "id": "specified-ordering",
   "metadata": {
    "execution": {
     "iopub.execute_input": "2022-02-16T02:08:37.873930Z",
     "iopub.status.busy": "2022-02-16T02:08:37.873224Z",
     "iopub.status.idle": "2022-02-16T02:08:37.876342Z",
     "shell.execute_reply": "2022-02-16T02:08:37.875781Z"
    },
    "papermill": {
     "duration": 0.020588,
     "end_time": "2022-02-16T02:08:37.876473",
     "exception": false,
     "start_time": "2022-02-16T02:08:37.855885",
     "status": "completed"
    },
    "tags": []
   },
   "outputs": [
    {
     "data": {
      "text/markdown": [
       "- New York Stock Exchange Signals Move To Build An NFT Marketplace.  The New York Stock Exchange (NYSE) is catching many off guard this week with an interesting and unique trademark filing that is signaling the exchange&#8217;s intent to build it&#8217;s own NFT marketplace. A patent from the NYSE has been filed within the past week with the United States Patent and Trademark Office (USPTO) has suggested [&#8230;] ... [| Skaityti daugiau](https://bitcoinist.com/new-york-stock-exchange-nft-marketplace/) "
      ],
      "text/plain": [
       "<IPython.core.display.Markdown object>"
      ]
     },
     "execution_count": 9,
     "metadata": {},
     "output_type": "execute_result"
    }
   ],
   "source": [
    "#hide_input\n",
    "#md('##### {}'.format(titleBTC)) \n",
    "md(\"- {}{} {}{} [| Skaityti daugiau]({}) \".format(exchange['title'],'. ', exchange['body'], ' ...', exchange['url']))"
   ]
  },
  {
   "cell_type": "code",
   "execution_count": null,
   "id": "tender-livestock",
   "metadata": {
    "papermill": {
     "duration": 0.012894,
     "end_time": "2022-02-16T02:08:37.902715",
     "exception": false,
     "start_time": "2022-02-16T02:08:37.889821",
     "status": "completed"
    },
    "tags": []
   },
   "outputs": [],
   "source": []
  },
  {
   "cell_type": "code",
   "execution_count": null,
   "id": "appreciated-diamond",
   "metadata": {
    "papermill": {
     "duration": 0.013121,
     "end_time": "2022-02-16T02:08:37.931834",
     "exception": false,
     "start_time": "2022-02-16T02:08:37.918713",
     "status": "completed"
    },
    "tags": []
   },
   "outputs": [],
   "source": []
  },
  {
   "cell_type": "code",
   "execution_count": null,
   "id": "romance-sweden",
   "metadata": {
    "papermill": {
     "duration": 0.012,
     "end_time": "2022-02-16T02:08:37.957469",
     "exception": false,
     "start_time": "2022-02-16T02:08:37.945469",
     "status": "completed"
    },
    "tags": []
   },
   "outputs": [],
   "source": []
  },
  {
   "cell_type": "code",
   "execution_count": null,
   "id": "dietary-statistics",
   "metadata": {
    "papermill": {
     "duration": 0.016369,
     "end_time": "2022-02-16T02:08:37.987632",
     "exception": false,
     "start_time": "2022-02-16T02:08:37.971263",
     "status": "completed"
    },
    "tags": []
   },
   "outputs": [],
   "source": []
  }
 ],
 "metadata": {
  "kernelspec": {
   "display_name": "Python 3",
   "language": "python",
   "name": "python3"
  },
  "language_info": {
   "codemirror_mode": {
    "name": "ipython",
    "version": 3
   },
   "file_extension": ".py",
   "mimetype": "text/x-python",
   "name": "python",
   "nbconvert_exporter": "python",
   "pygments_lexer": "ipython3",
   "version": "3.6.15"
  },
  "papermill": {
   "default_parameters": {},
   "duration": 11.882965,
   "end_time": "2022-02-16T02:08:38.420943",
   "environment_variables": {},
   "exception": null,
   "input_path": "Market-News.ipynb",
   "output_path": "Market-News.ipynb",
   "parameters": {},
   "start_time": "2022-02-16T02:08:26.537978",
   "version": "2.2.2"
  }
 },
 "nbformat": 4,
 "nbformat_minor": 5
}