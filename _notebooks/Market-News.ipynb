{
 "cells": [
  {
   "cell_type": "markdown",
   "id": "short-greensboro",
   "metadata": {
    "papermill": {
     "duration": 0.016137,
     "end_time": "2021-09-28T02:01:51.854284",
     "exception": false,
     "start_time": "2021-09-28T02:01:51.838147",
     "status": "completed"
    },
    "tags": []
   },
   "source": [
    "# Kriptovaliutų naujienos"
   ]
  },
  {
   "cell_type": "code",
   "execution_count": 1,
   "id": "functioning-knowing",
   "metadata": {
    "execution": {
     "iopub.execute_input": "2021-09-28T02:01:51.891141Z",
     "iopub.status.busy": "2021-09-28T02:01:51.890361Z",
     "iopub.status.idle": "2021-09-28T02:01:53.344241Z",
     "shell.execute_reply": "2021-09-28T02:01:53.343243Z"
    },
    "papermill": {
     "duration": 1.477539,
     "end_time": "2021-09-28T02:01:53.344416",
     "exception": false,
     "start_time": "2021-09-28T02:01:51.866877",
     "status": "completed"
    },
    "tags": []
   },
   "outputs": [],
   "source": [
    "#hide_input\n",
    "import warnings\n",
    "warnings.filterwarnings('ignore')\n",
    "from scripts.read_data import read_api\n",
    "from scripts.read_data import read_news\n",
    "from scripts.read_data import read_covid\n",
    "import matplotlib.pyplot as plt \n",
    "from IPython.display import Markdown as md"
   ]
  },
  {
   "cell_type": "code",
   "execution_count": 2,
   "id": "shared-acceptance",
   "metadata": {
    "execution": {
     "iopub.execute_input": "2021-09-28T02:01:53.373972Z",
     "iopub.status.busy": "2021-09-28T02:01:53.373162Z",
     "iopub.status.idle": "2021-09-28T02:02:01.962787Z",
     "shell.execute_reply": "2021-09-28T02:02:01.963502Z"
    },
    "papermill": {
     "duration": 8.607735,
     "end_time": "2021-09-28T02:02:01.963734",
     "exception": false,
     "start_time": "2021-09-28T02:01:53.355999",
     "status": "completed"
    },
    "tags": []
   },
   "outputs": [],
   "source": [
    "#hide_input\n",
    "blockchain = read_news('blockchain') \n",
    "btc = read_news('btc') \n",
    "xrp = read_news('xrp') \n",
    "trx = read_news('trx') \n",
    "eth = read_news('eth')  \n",
    "ada = read_news('ada')\n",
    "exchange = read_news('exchange') "
   ]
  },
  {
   "cell_type": "code",
   "execution_count": 3,
   "id": "synthetic-notion",
   "metadata": {
    "execution": {
     "iopub.execute_input": "2021-09-28T02:02:02.000235Z",
     "iopub.status.busy": "2021-09-28T02:02:01.999454Z",
     "iopub.status.idle": "2021-09-28T02:02:02.002853Z",
     "shell.execute_reply": "2021-09-28T02:02:02.003501Z"
    },
    "papermill": {
     "duration": 0.024596,
     "end_time": "2021-09-28T02:02:02.003681",
     "exception": false,
     "start_time": "2021-09-28T02:02:01.979085",
     "status": "completed"
    },
    "tags": []
   },
   "outputs": [
    {
     "data": {
      "text/markdown": [
       "- Cardano Summit Sees Launch Of Exciting New Partnerships.  The Cardano Summit has now officially come to an end. Saturday and Sunday saw live and virtual events from around the world, while notable figures in the crypto space spoke at the event, including the founder of Cardano Charles Hoskinson. The event brought a lot of excitement to the space and allowed community members to interact with one another from around the world. But most notable has been the announcements of new partnerships made at the event. Related Reading &#124; Billionaire Mike Novogratz Says He’s “Not Nervous” About Crypto Sell-Off In the weeks leading up to the event, the founder, developers, and individuals involved in the Cardano project had teased a lot of exciting new partnerships coming to the blockchain. Some of these announcements had been anticipated by the community. Mostly ones related to decentralized finance projects debuting on the network. But a couple of others were completely new to the space. Cardano Partners With Veritree To Fight Climate Change Climate change and crypto’s contribution to the problem is one that no doubt has to be addressed. In response to this, Cardano announced at the summit that it is taking proactive steps to fight this growing problem. Veritreeis a subsidiary of Tentree, a company that makes sustainable apparel by planting 10 trees for each clothing item sold. Using Veritree, the company aims to track its tree-planting efforts around the world. Veritree which has planted 68... ... [| Skaityti daugiau](https://www.newsbtc.com/news/cardano/cardano-launch-new-partnerships/) "
      ],
      "text/plain": [
       "<IPython.core.display.Markdown object>"
      ]
     },
     "execution_count": 3,
     "metadata": {},
     "output_type": "execute_result"
    }
   ],
   "source": [
    "#hide_input\n",
    "#md('##### {}'.format(titleBTC)) \n",
    "md(\"- {}{} {}{} [| Skaityti daugiau]({}) \".format(blockchain['title'],'. ', blockchain['body'], ' ...', blockchain['url']))"
   ]
  },
  {
   "cell_type": "code",
   "execution_count": 4,
   "id": "aging-caution",
   "metadata": {
    "execution": {
     "iopub.execute_input": "2021-09-28T02:02:02.033282Z",
     "iopub.status.busy": "2021-09-28T02:02:02.031983Z",
     "iopub.status.idle": "2021-09-28T02:02:02.036987Z",
     "shell.execute_reply": "2021-09-28T02:02:02.037548Z"
    },
    "papermill": {
     "duration": 0.021434,
     "end_time": "2021-09-28T02:02:02.037700",
     "exception": false,
     "start_time": "2021-09-28T02:02:02.016266",
     "status": "completed"
    },
    "tags": []
   },
   "outputs": [
    {
     "data": {
      "text/markdown": [
       "- Institutional investors bought the dip as China FUD broke.  While institutional Bitcoin products have experienced outflows for 13 of the past 17 weeks, the sector has now seen three straight weeks of inflows. ... [| Skaityti daugiau](https://cointelegraph.com/news/institutional-investors-bought-the-dip-as-china-fud-broke) "
      ],
      "text/plain": [
       "<IPython.core.display.Markdown object>"
      ]
     },
     "execution_count": 4,
     "metadata": {},
     "output_type": "execute_result"
    }
   ],
   "source": [
    "#hide_input\n",
    "#md('##### {}'.format(titleBTC)) \n",
    "md(\"- {}{} {}{} [| Skaityti daugiau]({}) \".format(btc['title'],'. ', btc['body'], ' ...', btc['url']))"
   ]
  },
  {
   "cell_type": "code",
   "execution_count": 5,
   "id": "organic-actress",
   "metadata": {
    "execution": {
     "iopub.execute_input": "2021-09-28T02:02:02.068417Z",
     "iopub.status.busy": "2021-09-28T02:02:02.067699Z",
     "iopub.status.idle": "2021-09-28T02:02:02.071575Z",
     "shell.execute_reply": "2021-09-28T02:02:02.072148Z"
    },
    "papermill": {
     "duration": 0.021433,
     "end_time": "2021-09-28T02:02:02.072299",
     "exception": false,
     "start_time": "2021-09-28T02:02:02.050866",
     "status": "completed"
    },
    "tags": []
   },
   "outputs": [
    {
     "data": {
      "text/markdown": [
       "- Traders Keep Eye On These Alts ! Here are Top Altcoins Watch For October.  The post Traders Keep Eye On These Alts ! Here are Top Altcoins Watch For October appeared first on Coinpedia - Fintech &amp; Cryptocurreny News Media| Crypto GuideIn the cryptocurrency market, there has been a broad-based recovery. Most cryptocurrencies, including XRP, Cardano, Polkadot, Dogecoin, Chainlink, and Litecoin, remained bullish with Bitcoin and Ethereum. Micheal van de Poppe, a well-known crypto analyst and trader, has identified the top five cryptocurrencies to watch in October. chainlink Van de Poppe informs his 130,000 YouTube subscribers &#8230; ... [| Skaityti daugiau](https://coinpedia.org/altcoin/traders-keep-eye-on-these-alts-here-are-top-altcoins-watch-for-october/) "
      ],
      "text/plain": [
       "<IPython.core.display.Markdown object>"
      ]
     },
     "execution_count": 5,
     "metadata": {},
     "output_type": "execute_result"
    }
   ],
   "source": [
    "#hide_input\n",
    "#md('##### {}'.format(titleBTC)) \n",
    "md(\"- {}{} {}{} [| Skaityti daugiau]({}) \".format(xrp['title'],'. ', xrp['body'], ' ...', xrp['url']))"
   ]
  },
  {
   "cell_type": "code",
   "execution_count": 6,
   "id": "prompt-farmer",
   "metadata": {
    "execution": {
     "iopub.execute_input": "2021-09-28T02:02:02.103360Z",
     "iopub.status.busy": "2021-09-28T02:02:02.102637Z",
     "iopub.status.idle": "2021-09-28T02:02:02.106108Z",
     "shell.execute_reply": "2021-09-28T02:02:02.105531Z"
    },
    "papermill": {
     "duration": 0.020815,
     "end_time": "2021-09-28T02:02:02.106327",
     "exception": false,
     "start_time": "2021-09-28T02:02:02.085512",
     "status": "completed"
    },
    "tags": []
   },
   "outputs": [
    {
     "data": {
      "text/markdown": [
       "- Ethereum Classic, Solana, Tron Price Analysis: 25 September.  The broader market again displayed weakness, soon after which altcoins depicted southbound movements on their charts. Ethereum Classic was moving towards its closest support mark while Solana was expecting to find support at $107.79. Lastly, Tron broke below its multi-month support line after noting a fresh decline of 5.9% over the last 24 hours. Ethereum [&#8230;] ... [| Skaityti daugiau](https://ambcrypto.com/ethereum-classic-solana-tron-price-analysis-25-september/) "
      ],
      "text/plain": [
       "<IPython.core.display.Markdown object>"
      ]
     },
     "execution_count": 6,
     "metadata": {},
     "output_type": "execute_result"
    }
   ],
   "source": [
    "#hide_input\n",
    "#md('##### {}'.format(titleBTC)) \n",
    "md(\"- {}{} {}{} [| Skaityti daugiau]({}) \".format(trx['title'],'. ', trx['body'], ' ...', trx['url']))"
   ]
  },
  {
   "cell_type": "code",
   "execution_count": 7,
   "id": "illegal-greece",
   "metadata": {
    "execution": {
     "iopub.execute_input": "2021-09-28T02:02:02.137645Z",
     "iopub.status.busy": "2021-09-28T02:02:02.136966Z",
     "iopub.status.idle": "2021-09-28T02:02:02.139826Z",
     "shell.execute_reply": "2021-09-28T02:02:02.140469Z"
    },
    "papermill": {
     "duration": 0.021248,
     "end_time": "2021-09-28T02:02:02.140608",
     "exception": false,
     "start_time": "2021-09-28T02:02:02.119360",
     "status": "completed"
    },
    "tags": []
   },
   "outputs": [
    {
     "data": {
      "text/markdown": [
       "- Snoop Dogg Buys XCOPY Ethereum NFT for $3.9 Million.  The rapper hasn’t slowed his NFT shopping since revealing himself as noted collector Cozomo de’ Medici. ... [| Skaityti daugiau](https://decrypt.co/82069/snoop-dogg-buys-xcopy-ethereum-nft-for-3-9-million) "
      ],
      "text/plain": [
       "<IPython.core.display.Markdown object>"
      ]
     },
     "execution_count": 7,
     "metadata": {},
     "output_type": "execute_result"
    }
   ],
   "source": [
    "#hide_input\n",
    "#md('##### {}'.format(titleBTC)) \n",
    "md(\"- {}{} {}{} [| Skaityti daugiau]({}) \".format(eth['title'],'. ', eth['body'], ' ...', eth['url']))"
   ]
  },
  {
   "cell_type": "code",
   "execution_count": 8,
   "id": "sublime-lounge",
   "metadata": {
    "execution": {
     "iopub.execute_input": "2021-09-28T02:02:02.172303Z",
     "iopub.status.busy": "2021-09-28T02:02:02.171634Z",
     "iopub.status.idle": "2021-09-28T02:02:02.174955Z",
     "shell.execute_reply": "2021-09-28T02:02:02.174292Z"
    },
    "papermill": {
     "duration": 0.021275,
     "end_time": "2021-09-28T02:02:02.175116",
     "exception": false,
     "start_time": "2021-09-28T02:02:02.153841",
     "status": "completed"
    },
    "tags": []
   },
   "outputs": [
    {
     "data": {
      "text/markdown": [
       "- Cardano continues to drive innovation, to power healthcare humanoid, Grace.  The much-awaited arrival of smart contract integration on the Cardano network has been followed by a diverse range of projects opting to build on it. Among them will be a humanoid called Grace, whose developers have chosen Cardano to power the robot&#8217;s Artificial Intelligence (AI) modules. Grace was designed by Awakening Health and SingularityNET to [&#8230;] ... [| Skaityti daugiau](https://ambcrypto.com/cardano-continues-to-drive-innovation-to-power-healthcare-humanoid-grace/) "
      ],
      "text/plain": [
       "<IPython.core.display.Markdown object>"
      ]
     },
     "execution_count": 8,
     "metadata": {},
     "output_type": "execute_result"
    }
   ],
   "source": [
    "#hide_input\n",
    "#md('##### {}'.format(titleBTC)) \n",
    "md(\"- {}{} {}{} [| Skaityti daugiau]({}) \".format(ada['title'],'. ', ada['body'], ' ...', ada['url']))"
   ]
  },
  {
   "cell_type": "code",
   "execution_count": 9,
   "id": "specified-ordering",
   "metadata": {
    "execution": {
     "iopub.execute_input": "2021-09-28T02:02:02.207394Z",
     "iopub.status.busy": "2021-09-28T02:02:02.206617Z",
     "iopub.status.idle": "2021-09-28T02:02:02.210102Z",
     "shell.execute_reply": "2021-09-28T02:02:02.209443Z"
    },
    "papermill": {
     "duration": 0.021382,
     "end_time": "2021-09-28T02:02:02.210226",
     "exception": false,
     "start_time": "2021-09-28T02:02:02.188844",
     "status": "completed"
    },
    "tags": []
   },
   "outputs": [
    {
     "data": {
      "text/markdown": [
       "- Binance and Huobi Block Users From Creating New Accounts in China As Crypto Ban Looms: Report.  Digital asset exchange operators Binance and Huobi are reportedly blocking new user registration in response to China&#8217;s latest measures against the crypto space. Bloomberg reports that Binance and Huobi are still accepting new sign-ups from Hong Kong, but are no longer allowing new registration for traders with mainland China-based mobile phone numbers. On September 24th, [&#8230;]The post Binance and Huobi Block Users From Creating New Accounts in China As Crypto Ban Looms: Report appeared first on The Daily Hodl. ... [| Skaityti daugiau](https://dailyhodl.com/2021/09/27/binance-and-huobi-block-users-from-creating-new-accounts-in-china-as-crypto-ban-looms-report/) "
      ],
      "text/plain": [
       "<IPython.core.display.Markdown object>"
      ]
     },
     "execution_count": 9,
     "metadata": {},
     "output_type": "execute_result"
    }
   ],
   "source": [
    "#hide_input\n",
    "#md('##### {}'.format(titleBTC)) \n",
    "md(\"- {}{} {}{} [| Skaityti daugiau]({}) \".format(exchange['title'],'. ', exchange['body'], ' ...', exchange['url']))"
   ]
  },
  {
   "cell_type": "code",
   "execution_count": null,
   "id": "tender-livestock",
   "metadata": {
    "papermill": {
     "duration": 0.013933,
     "end_time": "2021-09-28T02:02:02.238107",
     "exception": false,
     "start_time": "2021-09-28T02:02:02.224174",
     "status": "completed"
    },
    "tags": []
   },
   "outputs": [],
   "source": []
  },
  {
   "cell_type": "code",
   "execution_count": null,
   "id": "appreciated-diamond",
   "metadata": {
    "papermill": {
     "duration": 0.013898,
     "end_time": "2021-09-28T02:02:02.265925",
     "exception": false,
     "start_time": "2021-09-28T02:02:02.252027",
     "status": "completed"
    },
    "tags": []
   },
   "outputs": [],
   "source": []
  },
  {
   "cell_type": "code",
   "execution_count": null,
   "id": "romance-sweden",
   "metadata": {
    "papermill": {
     "duration": 0.013948,
     "end_time": "2021-09-28T02:02:02.294254",
     "exception": false,
     "start_time": "2021-09-28T02:02:02.280306",
     "status": "completed"
    },
    "tags": []
   },
   "outputs": [],
   "source": []
  },
  {
   "cell_type": "code",
   "execution_count": null,
   "id": "dietary-statistics",
   "metadata": {
    "papermill": {
     "duration": 0.013877,
     "end_time": "2021-09-28T02:02:02.322376",
     "exception": false,
     "start_time": "2021-09-28T02:02:02.308499",
     "status": "completed"
    },
    "tags": []
   },
   "outputs": [],
   "source": []
  }
 ],
 "metadata": {
  "kernelspec": {
   "display_name": "Python 3",
   "language": "python",
   "name": "python3"
  },
  "language_info": {
   "codemirror_mode": {
    "name": "ipython",
    "version": 3
   },
   "file_extension": ".py",
   "mimetype": "text/x-python",
   "name": "python",
   "nbconvert_exporter": "python",
   "pygments_lexer": "ipython3",
   "version": "3.6.15"
  },
  "papermill": {
   "default_parameters": {},
   "duration": 11.982403,
   "end_time": "2021-09-28T02:02:02.744404",
   "environment_variables": {},
   "exception": null,
   "input_path": "Market-News.ipynb",
   "output_path": "Market-News.ipynb",
   "parameters": {},
   "start_time": "2021-09-28T02:01:50.762001",
   "version": "2.2.2"
  }
 },
 "nbformat": 4,
 "nbformat_minor": 5
}