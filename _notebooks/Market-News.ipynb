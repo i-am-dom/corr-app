{
 "cells": [
  {
   "cell_type": "markdown",
   "id": "short-greensboro",
   "metadata": {
    "papermill": {
     "duration": 0.012249,
     "end_time": "2022-03-03T02:17:25.922655",
     "exception": false,
     "start_time": "2022-03-03T02:17:25.910406",
     "status": "completed"
    },
    "tags": []
   },
   "source": [
    "# Kriptovaliutų naujienos"
   ]
  },
  {
   "cell_type": "code",
   "execution_count": 1,
   "id": "functioning-knowing",
   "metadata": {
    "execution": {
     "iopub.execute_input": "2022-03-03T02:17:25.948663Z",
     "iopub.status.busy": "2022-03-03T02:17:25.948209Z",
     "iopub.status.idle": "2022-03-03T02:17:27.033144Z",
     "shell.execute_reply": "2022-03-03T02:17:27.033624Z"
    },
    "papermill": {
     "duration": 1.102987,
     "end_time": "2022-03-03T02:17:27.033807",
     "exception": false,
     "start_time": "2022-03-03T02:17:25.930820",
     "status": "completed"
    },
    "tags": []
   },
   "outputs": [],
   "source": [
    "#hide_input\n",
    "import warnings\n",
    "warnings.filterwarnings('ignore')\n",
    "from scripts.read_data import read_api\n",
    "from scripts.read_data import read_news\n",
    "from scripts.read_data import read_covid\n",
    "import matplotlib.pyplot as plt \n",
    "from IPython.display import Markdown as md"
   ]
  },
  {
   "cell_type": "code",
   "execution_count": 2,
   "id": "shared-acceptance",
   "metadata": {
    "execution": {
     "iopub.execute_input": "2022-03-03T02:17:27.054909Z",
     "iopub.status.busy": "2022-03-03T02:17:27.054493Z",
     "iopub.status.idle": "2022-03-03T02:17:38.654920Z",
     "shell.execute_reply": "2022-03-03T02:17:38.655384Z"
    },
    "papermill": {
     "duration": 11.613783,
     "end_time": "2022-03-03T02:17:38.655548",
     "exception": false,
     "start_time": "2022-03-03T02:17:27.041765",
     "status": "completed"
    },
    "tags": []
   },
   "outputs": [],
   "source": [
    "#hide_input\n",
    "blockchain = read_news('blockchain') \n",
    "btc = read_news('btc') \n",
    "xrp = read_news('xrp') \n",
    "trx = read_news('trx') \n",
    "eth = read_news('eth')  \n",
    "ada = read_news('ada')\n",
    "exchange = read_news('exchange') "
   ]
  },
  {
   "cell_type": "code",
   "execution_count": 3,
   "id": "synthetic-notion",
   "metadata": {
    "execution": {
     "iopub.execute_input": "2022-03-03T02:17:38.676147Z",
     "iopub.status.busy": "2022-03-03T02:17:38.675697Z",
     "iopub.status.idle": "2022-03-03T02:17:38.678279Z",
     "shell.execute_reply": "2022-03-03T02:17:38.677925Z"
    },
    "papermill": {
     "duration": 0.01498,
     "end_time": "2022-03-03T02:17:38.678367",
     "exception": false,
     "start_time": "2022-03-03T02:17:38.663387",
     "status": "completed"
    },
    "tags": []
   },
   "outputs": [
    {
     "data": {
      "text/markdown": [
       "- NYDFS looks to crypto tools to help enforce sanctions against Russia.  New York is prioritizing the procurement of blockchain analytics technology to better enforce sanctions against Russia. The post NYDFS looks to crypto tools to help enforce sanctions against Russia appeared first on The Block. ... [| Skaityti daugiau](https://www.theblockcrypto.com/linked/136140/nydfs-looks-to-crypto-tools-to-help-enforce-sanctions-against-russia?utm_source=cryptocompare&utm_medium=rss) "
      ],
      "text/plain": [
       "<IPython.core.display.Markdown object>"
      ]
     },
     "execution_count": 3,
     "metadata": {},
     "output_type": "execute_result"
    }
   ],
   "source": [
    "#hide_input\n",
    "#md('##### {}'.format(titleBTC)) \n",
    "md(\"- {}{} {}{} [| Skaityti daugiau]({}) \".format(blockchain['title'],'. ', blockchain['body'], ' ...', blockchain['url']))"
   ]
  },
  {
   "cell_type": "code",
   "execution_count": 4,
   "id": "aging-caution",
   "metadata": {
    "execution": {
     "iopub.execute_input": "2022-03-03T02:17:38.697462Z",
     "iopub.status.busy": "2022-03-03T02:17:38.696591Z",
     "iopub.status.idle": "2022-03-03T02:17:38.699926Z",
     "shell.execute_reply": "2022-03-03T02:17:38.699599Z"
    },
    "papermill": {
     "duration": 0.013843,
     "end_time": "2022-03-03T02:17:38.700010",
     "exception": false,
     "start_time": "2022-03-03T02:17:38.686167",
     "status": "completed"
    },
    "tags": []
   },
   "outputs": [
    {
     "data": {
      "text/markdown": [
       "- Bitcoin Celeb Brock Pierce Outspending Rivals in Vermont Senate Race.  But the Puerto Rico resident has yet to formally announce—and may not even be eligible to run. ... [| Skaityti daugiau](https://decrypt.co/94271/bitcoin-celeb-brock-pierce-outspending-rivals-vermont-senate-race) "
      ],
      "text/plain": [
       "<IPython.core.display.Markdown object>"
      ]
     },
     "execution_count": 4,
     "metadata": {},
     "output_type": "execute_result"
    }
   ],
   "source": [
    "#hide_input\n",
    "#md('##### {}'.format(titleBTC)) \n",
    "md(\"- {}{} {}{} [| Skaityti daugiau]({}) \".format(btc['title'],'. ', btc['body'], ' ...', btc['url']))"
   ]
  },
  {
   "cell_type": "code",
   "execution_count": 5,
   "id": "organic-actress",
   "metadata": {
    "execution": {
     "iopub.execute_input": "2022-03-03T02:17:38.720699Z",
     "iopub.status.busy": "2022-03-03T02:17:38.720273Z",
     "iopub.status.idle": "2022-03-03T02:17:38.723419Z",
     "shell.execute_reply": "2022-03-03T02:17:38.723071Z"
    },
    "papermill": {
     "duration": 0.015397,
     "end_time": "2022-03-03T02:17:38.723507",
     "exception": false,
     "start_time": "2022-03-03T02:17:38.708110",
     "status": "completed"
    },
    "tags": []
   },
   "outputs": [
    {
     "data": {
      "text/markdown": [
       "- Bright days ahead: Tranglo enables XRP’s ODL services across 25 payment corridors.  Blockchain services provider, Ripple witnessed another development in the expansion of its On-Demand Liquidity (ODL) services. It collaborated with one of the leading cross-border payment firms in Asia. Connecting dots Tranglo, a cross-border payment hub enabled Ripple&#8217;s ODL services across its 25 payment corridors. This would allow remittance providers to process instant cross-border payments without costly pre-funding. [&#8230;] ... [| Skaityti daugiau](https://ambcrypto.com/bright-days-ahead-tranglo-enables-xrp-odl-services-across-25-payment-corridors/) "
      ],
      "text/plain": [
       "<IPython.core.display.Markdown object>"
      ]
     },
     "execution_count": 5,
     "metadata": {},
     "output_type": "execute_result"
    }
   ],
   "source": [
    "#hide_input\n",
    "#md('##### {}'.format(titleBTC)) \n",
    "md(\"- {}{} {}{} [| Skaityti daugiau]({}) \".format(xrp['title'],'. ', xrp['body'], ' ...', xrp['url']))"
   ]
  },
  {
   "cell_type": "code",
   "execution_count": 6,
   "id": "prompt-farmer",
   "metadata": {
    "execution": {
     "iopub.execute_input": "2022-03-03T02:17:38.744415Z",
     "iopub.status.busy": "2022-03-03T02:17:38.743958Z",
     "iopub.status.idle": "2022-03-03T02:17:38.747127Z",
     "shell.execute_reply": "2022-03-03T02:17:38.747477Z"
    },
    "papermill": {
     "duration": 0.015431,
     "end_time": "2022-03-03T02:17:38.747565",
     "exception": false,
     "start_time": "2022-03-03T02:17:38.732134",
     "status": "completed"
    },
    "tags": []
   },
   "outputs": [
    {
     "data": {
      "text/markdown": [
       "- All the caveats to Solana’s recently positive price action.  The month of February, despite being highly volatile, turned out to be not so damaging in the case of Solana. The overall gains and losses canceled each other out by February 28 after the 20% rally, and the month&#8217;s total changes stood at 0.13%. But when it comes to investor performance, Solana outperformed pretty much [&#8230;] ... [| Skaityti daugiau](https://ambcrypto.com/all-the-caveats-to-solanas-recently-positive-price-action/) "
      ],
      "text/plain": [
       "<IPython.core.display.Markdown object>"
      ]
     },
     "execution_count": 6,
     "metadata": {},
     "output_type": "execute_result"
    }
   ],
   "source": [
    "#hide_input\n",
    "#md('##### {}'.format(titleBTC)) \n",
    "md(\"- {}{} {}{} [| Skaityti daugiau]({}) \".format(trx['title'],'. ', trx['body'], ' ...', trx['url']))"
   ]
  },
  {
   "cell_type": "code",
   "execution_count": 7,
   "id": "illegal-greece",
   "metadata": {
    "execution": {
     "iopub.execute_input": "2022-03-03T02:17:38.768353Z",
     "iopub.status.busy": "2022-03-03T02:17:38.767543Z",
     "iopub.status.idle": "2022-03-03T02:17:38.770514Z",
     "shell.execute_reply": "2022-03-03T02:17:38.770882Z"
    },
    "papermill": {
     "duration": 0.014657,
     "end_time": "2022-03-03T02:17:38.770973",
     "exception": false,
     "start_time": "2022-03-03T02:17:38.756316",
     "status": "completed"
    },
    "tags": []
   },
   "outputs": [
    {
     "data": {
      "text/markdown": [
       "- Crypto Investment Products’ AUM Rose to Nearly $45 Billion Last Month: Report.  The total assets under management (AUM) of cryptocurrency investment products has risen in February to reach $44.9 billion as the prices of Bitcoin and Ethereum rose by 1.5% and 5.7% respectively last month. According to CryptoCompare’s new Digital Asset Management Review report, macro sentiment around risk-assets like equities and cryptocurrencies has been leading the narrative […] ... [| Skaityti daugiau](https://www.cryptoglobe.com/latest/2022/03/crypto-investment-products-aum-rose-to-nearly-45-billion-last-month-report/) "
      ],
      "text/plain": [
       "<IPython.core.display.Markdown object>"
      ]
     },
     "execution_count": 7,
     "metadata": {},
     "output_type": "execute_result"
    }
   ],
   "source": [
    "#hide_input\n",
    "#md('##### {}'.format(titleBTC)) \n",
    "md(\"- {}{} {}{} [| Skaityti daugiau]({}) \".format(eth['title'],'. ', eth['body'], ' ...', eth['url']))"
   ]
  },
  {
   "cell_type": "code",
   "execution_count": 8,
   "id": "sublime-lounge",
   "metadata": {
    "execution": {
     "iopub.execute_input": "2022-03-03T02:17:38.792848Z",
     "iopub.status.busy": "2022-03-03T02:17:38.792442Z",
     "iopub.status.idle": "2022-03-03T02:17:38.795112Z",
     "shell.execute_reply": "2022-03-03T02:17:38.794739Z"
    },
    "papermill": {
     "duration": 0.014952,
     "end_time": "2022-03-03T02:17:38.795196",
     "exception": false,
     "start_time": "2022-03-03T02:17:38.780244",
     "status": "completed"
    },
    "tags": []
   },
   "outputs": [
    {
     "data": {
      "text/markdown": [
       "- Real Vision Bot Known for Outperforming Crypto Markets Reveals Altcoin Holdings Centered on Ethereum Rivals and Gaming Projects.  A robot that&#8217;s built a reputation by outperforming the markets just unveiled its latest crypto portfolio allocations. The Real Vision Bot compiles surveys to create algorithmic portfolio assessments on a weekly basis. According to Real Vision, the bot&#8217;s allocations based on aggregated opinions of crypto traders have historically outperformed a basket of the top 20 [&#8230;]The post Real Vision Bot Known for Outperforming Crypto Markets Reveals Altcoin Holdings Centered on Ethereum Rivals and Gaming Projects appeared first on The Daily Hodl. ... [| Skaityti daugiau](https://dailyhodl.com/2022/03/02/real-vision-bot-known-for-outperforming-crypto-markets-reveals-altcoin-holdings-centered-on-ethereum-rivals-and-gaming-projects/) "
      ],
      "text/plain": [
       "<IPython.core.display.Markdown object>"
      ]
     },
     "execution_count": 8,
     "metadata": {},
     "output_type": "execute_result"
    }
   ],
   "source": [
    "#hide_input\n",
    "#md('##### {}'.format(titleBTC)) \n",
    "md(\"- {}{} {}{} [| Skaityti daugiau]({}) \".format(ada['title'],'. ', ada['body'], ' ...', ada['url']))"
   ]
  },
  {
   "cell_type": "code",
   "execution_count": 9,
   "id": "specified-ordering",
   "metadata": {
    "execution": {
     "iopub.execute_input": "2022-03-03T02:17:38.817349Z",
     "iopub.status.busy": "2022-03-03T02:17:38.816939Z",
     "iopub.status.idle": "2022-03-03T02:17:38.819452Z",
     "shell.execute_reply": "2022-03-03T02:17:38.819799Z"
    },
    "papermill": {
     "duration": 0.01555,
     "end_time": "2022-03-03T02:17:38.819891",
     "exception": false,
     "start_time": "2022-03-03T02:17:38.804341",
     "status": "completed"
    },
    "tags": []
   },
   "outputs": [
    {
     "data": {
      "text/markdown": [
       "- Hong Kong-listed Huobi Tech launches cryptocurrency OTC service.  Formerly known as Pantronics Holdings, Huobi Technology has shifted its focus from electronic products to crypto. ... [| Skaityti daugiau](https://cointelegraph.com/news/hong-kong-listed-huobi-tech-launches-cryptocurrency-otc-service) "
      ],
      "text/plain": [
       "<IPython.core.display.Markdown object>"
      ]
     },
     "execution_count": 9,
     "metadata": {},
     "output_type": "execute_result"
    }
   ],
   "source": [
    "#hide_input\n",
    "#md('##### {}'.format(titleBTC)) \n",
    "md(\"- {}{} {}{} [| Skaityti daugiau]({}) \".format(exchange['title'],'. ', exchange['body'], ' ...', exchange['url']))"
   ]
  },
  {
   "cell_type": "code",
   "execution_count": null,
   "id": "tender-livestock",
   "metadata": {
    "papermill": {
     "duration": 0.009473,
     "end_time": "2022-03-03T02:17:38.838619",
     "exception": false,
     "start_time": "2022-03-03T02:17:38.829146",
     "status": "completed"
    },
    "tags": []
   },
   "outputs": [],
   "source": []
  },
  {
   "cell_type": "code",
   "execution_count": null,
   "id": "appreciated-diamond",
   "metadata": {
    "papermill": {
     "duration": 0.009544,
     "end_time": "2022-03-03T02:17:38.858486",
     "exception": false,
     "start_time": "2022-03-03T02:17:38.848942",
     "status": "completed"
    },
    "tags": []
   },
   "outputs": [],
   "source": []
  },
  {
   "cell_type": "code",
   "execution_count": null,
   "id": "romance-sweden",
   "metadata": {
    "papermill": {
     "duration": 0.010278,
     "end_time": "2022-03-03T02:17:38.880242",
     "exception": false,
     "start_time": "2022-03-03T02:17:38.869964",
     "status": "completed"
    },
    "tags": []
   },
   "outputs": [],
   "source": []
  },
  {
   "cell_type": "code",
   "execution_count": null,
   "id": "dietary-statistics",
   "metadata": {
    "papermill": {
     "duration": 0.009706,
     "end_time": "2022-03-03T02:17:38.900079",
     "exception": false,
     "start_time": "2022-03-03T02:17:38.890373",
     "status": "completed"
    },
    "tags": []
   },
   "outputs": [],
   "source": []
  }
 ],
 "metadata": {
  "kernelspec": {
   "display_name": "Python 3",
   "language": "python",
   "name": "python3"
  },
  "language_info": {
   "codemirror_mode": {
    "name": "ipython",
    "version": 3
   },
   "file_extension": ".py",
   "mimetype": "text/x-python",
   "name": "python",
   "nbconvert_exporter": "python",
   "pygments_lexer": "ipython3",
   "version": "3.6.15"
  },
  "papermill": {
   "default_parameters": {},
   "duration": 14.486027,
   "end_time": "2022-03-03T02:17:39.327559",
   "environment_variables": {},
   "exception": null,
   "input_path": "Market-News.ipynb",
   "output_path": "Market-News.ipynb",
   "parameters": {},
   "start_time": "2022-03-03T02:17:24.841532",
   "version": "2.2.2"
  }
 },
 "nbformat": 4,
 "nbformat_minor": 5
}