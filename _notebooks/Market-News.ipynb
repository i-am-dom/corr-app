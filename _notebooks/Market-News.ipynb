{
 "cells": [
  {
   "cell_type": "markdown",
   "id": "short-greensboro",
   "metadata": {
    "papermill": {
     "duration": 0.01254,
     "end_time": "2022-10-27T03:12:28.181170",
     "exception": false,
     "start_time": "2022-10-27T03:12:28.168630",
     "status": "completed"
    },
    "tags": []
   },
   "source": [
    "# Kriptovaliutų naujienos"
   ]
  },
  {
   "cell_type": "code",
   "execution_count": 1,
   "id": "functioning-knowing",
   "metadata": {
    "execution": {
     "iopub.execute_input": "2022-10-27T03:12:28.209556Z",
     "iopub.status.busy": "2022-10-27T03:12:28.207899Z",
     "iopub.status.idle": "2022-10-27T03:12:29.365144Z",
     "shell.execute_reply": "2022-10-27T03:12:29.364668Z"
    },
    "papermill": {
     "duration": 1.174393,
     "end_time": "2022-10-27T03:12:29.365271",
     "exception": false,
     "start_time": "2022-10-27T03:12:28.190878",
     "status": "completed"
    },
    "tags": []
   },
   "outputs": [],
   "source": [
    "#hide_input\n",
    "import warnings\n",
    "warnings.filterwarnings('ignore')\n",
    "from scripts.read_data import read_api\n",
    "from scripts.read_data import read_news\n",
    "from scripts.read_data import read_covid\n",
    "import matplotlib.pyplot as plt \n",
    "from IPython.display import Markdown as md"
   ]
  },
  {
   "cell_type": "code",
   "execution_count": 2,
   "id": "shared-acceptance",
   "metadata": {
    "execution": {
     "iopub.execute_input": "2022-10-27T03:12:29.389740Z",
     "iopub.status.busy": "2022-10-27T03:12:29.389173Z",
     "iopub.status.idle": "2022-10-27T03:12:40.015589Z",
     "shell.execute_reply": "2022-10-27T03:12:40.015112Z"
    },
    "papermill": {
     "duration": 10.641092,
     "end_time": "2022-10-27T03:12:40.015725",
     "exception": false,
     "start_time": "2022-10-27T03:12:29.374633",
     "status": "completed"
    },
    "tags": []
   },
   "outputs": [],
   "source": [
    "#hide_input\n",
    "blockchain = read_news('blockchain') \n",
    "btc = read_news('btc') \n",
    "xrp = read_news('xrp') \n",
    "trx = read_news('trx') \n",
    "eth = read_news('eth')  \n",
    "ada = read_news('ada')\n",
    "exchange = read_news('exchange') "
   ]
  },
  {
   "cell_type": "code",
   "execution_count": 3,
   "id": "synthetic-notion",
   "metadata": {
    "execution": {
     "iopub.execute_input": "2022-10-27T03:12:40.040705Z",
     "iopub.status.busy": "2022-10-27T03:12:40.040131Z",
     "iopub.status.idle": "2022-10-27T03:12:40.043248Z",
     "shell.execute_reply": "2022-10-27T03:12:40.042799Z"
    },
    "papermill": {
     "duration": 0.018374,
     "end_time": "2022-10-27T03:12:40.043348",
     "exception": false,
     "start_time": "2022-10-27T03:12:40.024974",
     "status": "completed"
    },
    "tags": []
   },
   "outputs": [
    {
     "data": {
      "text/markdown": [
       "- Crypto lending protocols try to mitigate risks from low-liquidity tokens.  Crypto lenders assess the risks related by tokens with low tokens as collateral assets in cases of oracle price manipulation. ... [| Skaityti daugiau](https://www.theblock.co/post/180236/crypto-lending-protocols-try-to-mitigate-risks-from-low-liquidity-tokens?utm_source=cryptocompare&utm_medium=rss) "
      ],
      "text/plain": [
       "<IPython.core.display.Markdown object>"
      ]
     },
     "execution_count": 3,
     "metadata": {},
     "output_type": "execute_result"
    }
   ],
   "source": [
    "#hide_input\n",
    "#md('##### {}'.format(titleBTC)) \n",
    "md(\"- {}{} {}{} [| Skaityti daugiau]({}) \".format(blockchain['title'],'. ', blockchain['body'], ' ...', blockchain['url']))"
   ]
  },
  {
   "cell_type": "code",
   "execution_count": 4,
   "id": "aging-caution",
   "metadata": {
    "execution": {
     "iopub.execute_input": "2022-10-27T03:12:40.066428Z",
     "iopub.status.busy": "2022-10-27T03:12:40.065838Z",
     "iopub.status.idle": "2022-10-27T03:12:40.068783Z",
     "shell.execute_reply": "2022-10-27T03:12:40.069208Z"
    },
    "papermill": {
     "duration": 0.016634,
     "end_time": "2022-10-27T03:12:40.069319",
     "exception": false,
     "start_time": "2022-10-27T03:12:40.052685",
     "status": "completed"
    },
    "tags": []
   },
   "outputs": [
    {
     "data": {
      "text/markdown": [
       "- The Bear Market Is The Time To Invest In Bitcoin.  The people who are either building businesses, investing or learning about Bitcoin are the people who are going to be most successful in the coming cycle. ... [| Skaityti daugiau](https://bitcoinmagazine.com/markets/bear-market-is-the-time-to-invest-in-bitcoin) "
      ],
      "text/plain": [
       "<IPython.core.display.Markdown object>"
      ]
     },
     "execution_count": 4,
     "metadata": {},
     "output_type": "execute_result"
    }
   ],
   "source": [
    "#hide_input\n",
    "#md('##### {}'.format(titleBTC)) \n",
    "md(\"- {}{} {}{} [| Skaityti daugiau]({}) \".format(btc['title'],'. ', btc['body'], ' ...', btc['url']))"
   ]
  },
  {
   "cell_type": "code",
   "execution_count": 5,
   "id": "organic-actress",
   "metadata": {
    "execution": {
     "iopub.execute_input": "2022-10-27T03:12:40.093000Z",
     "iopub.status.busy": "2022-10-27T03:12:40.092451Z",
     "iopub.status.idle": "2022-10-27T03:12:40.095688Z",
     "shell.execute_reply": "2022-10-27T03:12:40.095225Z"
    },
    "papermill": {
     "duration": 0.016796,
     "end_time": "2022-10-27T03:12:40.095785",
     "exception": false,
     "start_time": "2022-10-27T03:12:40.078989",
     "status": "completed"
    },
    "tags": []
   },
   "outputs": [
    {
     "data": {
      "text/markdown": [
       "- XRP Ledger’s Ethereum-Compatible Sidechain Could Be ‘Very Bullish’ for $XRP, Analyst Says.  The development of an Ethereum Virtual Machine-compatible sidechain for the XRP Ledger, the native network of the $XRP token, could be “very bullish” for the cryptocurrency, as it has been for some of its competitors. According to the pseudonymous analyst known as Guy, who shared his thoughts on a YouTube video to his over 2 […] ... [| Skaityti daugiau](https://www.cryptoglobe.com/latest/2022/10/xrp-ledgers-ethereum-compatible-sidechain-could-be-very-bullish-for-xrp-analyst-says/) "
      ],
      "text/plain": [
       "<IPython.core.display.Markdown object>"
      ]
     },
     "execution_count": 5,
     "metadata": {},
     "output_type": "execute_result"
    }
   ],
   "source": [
    "#hide_input\n",
    "#md('##### {}'.format(titleBTC)) \n",
    "md(\"- {}{} {}{} [| Skaityti daugiau]({}) \".format(xrp['title'],'. ', xrp['body'], ' ...', xrp['url']))"
   ]
  },
  {
   "cell_type": "code",
   "execution_count": 6,
   "id": "prompt-farmer",
   "metadata": {
    "execution": {
     "iopub.execute_input": "2022-10-27T03:12:40.119476Z",
     "iopub.status.busy": "2022-10-27T03:12:40.118656Z",
     "iopub.status.idle": "2022-10-27T03:12:40.122369Z",
     "shell.execute_reply": "2022-10-27T03:12:40.122789Z"
    },
    "papermill": {
     "duration": 0.017237,
     "end_time": "2022-10-27T03:12:40.122902",
     "exception": false,
     "start_time": "2022-10-27T03:12:40.105665",
     "status": "completed"
    },
    "tags": []
   },
   "outputs": [
    {
     "data": {
      "text/markdown": [
       "- Tron (TRX) Staking Now Supported by Binance.US.  Tron (TRX) has joined Audius (AUDIO), Cosmos (ATOM), Polygon (MATIC), Solana (SOL) and other cryptocurrencies that are available for staking on Binance.US  ... [| Skaityti daugiau](https://u.today/tron-trx-staking-now-supported-by-binanceus) "
      ],
      "text/plain": [
       "<IPython.core.display.Markdown object>"
      ]
     },
     "execution_count": 6,
     "metadata": {},
     "output_type": "execute_result"
    }
   ],
   "source": [
    "#hide_input\n",
    "#md('##### {}'.format(titleBTC)) \n",
    "md(\"- {}{} {}{} [| Skaityti daugiau]({}) \".format(trx['title'],'. ', trx['body'], ' ...', trx['url']))"
   ]
  },
  {
   "cell_type": "code",
   "execution_count": 7,
   "id": "illegal-greece",
   "metadata": {
    "execution": {
     "iopub.execute_input": "2022-10-27T03:12:40.147996Z",
     "iopub.status.busy": "2022-10-27T03:12:40.147427Z",
     "iopub.status.idle": "2022-10-27T03:12:40.150392Z",
     "shell.execute_reply": "2022-10-27T03:12:40.150912Z"
    },
    "papermill": {
     "duration": 0.017687,
     "end_time": "2022-10-27T03:12:40.151022",
     "exception": false,
     "start_time": "2022-10-27T03:12:40.133335",
     "status": "completed"
    },
    "tags": []
   },
   "outputs": [
    {
     "data": {
      "text/markdown": [
       "- $1 Million In Ethereum Looted By Infamous Hacker ‘Monkey Drainer’.  In the past 24 hours, almost 700 ETH which translates to around $1 Million, has been siphoned off by the notorious scammer, “Monkey Drainer”. Two of the largest victims of this scam were wallets ending with 0x02a and 0x626, which conjointly lost around $370,000. While most considered it to be a hack, it was eventually The post $1 Million In Ethereum Looted By Infamous Hacker &#8216;Monkey Drainer&#8217; appeared first on CoinGape. ... [| Skaityti daugiau](https://coingape.com/1-million-in-ethereum-looted-by-infamous-hacker-monkey-drainer/) "
      ],
      "text/plain": [
       "<IPython.core.display.Markdown object>"
      ]
     },
     "execution_count": 7,
     "metadata": {},
     "output_type": "execute_result"
    }
   ],
   "source": [
    "#hide_input\n",
    "#md('##### {}'.format(titleBTC)) \n",
    "md(\"- {}{} {}{} [| Skaityti daugiau]({}) \".format(eth['title'],'. ', eth['body'], ' ...', eth['url']))"
   ]
  },
  {
   "cell_type": "code",
   "execution_count": 8,
   "id": "sublime-lounge",
   "metadata": {
    "execution": {
     "iopub.execute_input": "2022-10-27T03:12:40.177261Z",
     "iopub.status.busy": "2022-10-27T03:12:40.176187Z",
     "iopub.status.idle": "2022-10-27T03:12:40.180444Z",
     "shell.execute_reply": "2022-10-27T03:12:40.179996Z"
    },
    "papermill": {
     "duration": 0.017928,
     "end_time": "2022-10-27T03:12:40.180541",
     "exception": false,
     "start_time": "2022-10-27T03:12:40.162613",
     "status": "completed"
    },
    "tags": []
   },
   "outputs": [
    {
     "data": {
      "text/markdown": [
       "- Cardano Price Forecast – Can ADA Reach $10?.  Cardano price forecast remains bullish, especially after ADA has rebounded above the $0.3365 level, and now it's heading north towards the $0.4395 target. Cardano price has jumped by more than 70% since the beginning of the year 2022. Can we expect the Cardano price forecast to be bullish and reach $10 in 2023? Let's find out! ...Read More: Cardano Price Forecast – Can ADA Reach $10? ... [| Skaityti daugiau](https://cryptonews.com/news/cardano-price-forecast-can-ada-reach-10.htm) "
      ],
      "text/plain": [
       "<IPython.core.display.Markdown object>"
      ]
     },
     "execution_count": 8,
     "metadata": {},
     "output_type": "execute_result"
    }
   ],
   "source": [
    "#hide_input\n",
    "#md('##### {}'.format(titleBTC)) \n",
    "md(\"- {}{} {}{} [| Skaityti daugiau]({}) \".format(ada['title'],'. ', ada['body'], ' ...', ada['url']))"
   ]
  },
  {
   "cell_type": "code",
   "execution_count": 9,
   "id": "specified-ordering",
   "metadata": {
    "execution": {
     "iopub.execute_input": "2022-10-27T03:12:40.206369Z",
     "iopub.status.busy": "2022-10-27T03:12:40.205298Z",
     "iopub.status.idle": "2022-10-27T03:12:40.209097Z",
     "shell.execute_reply": "2022-10-27T03:12:40.209549Z"
    },
    "papermill": {
     "duration": 0.018236,
     "end_time": "2022-10-27T03:12:40.209659",
     "exception": false,
     "start_time": "2022-10-27T03:12:40.191423",
     "status": "completed"
    },
    "tags": []
   },
   "outputs": [
    {
     "data": {
      "text/markdown": [
       "- Binance Launches 'Reliable And Secure' Oracle Network.  Bridges between the blockchain and the real world are key to Web3. ... [| Skaityti daugiau](https://decrypt.co/112942/binance-launches-reliable-and-secure-oracle-network) "
      ],
      "text/plain": [
       "<IPython.core.display.Markdown object>"
      ]
     },
     "execution_count": 9,
     "metadata": {},
     "output_type": "execute_result"
    }
   ],
   "source": [
    "#hide_input\n",
    "#md('##### {}'.format(titleBTC)) \n",
    "md(\"- {}{} {}{} [| Skaityti daugiau]({}) \".format(exchange['title'],'. ', exchange['body'], ' ...', exchange['url']))"
   ]
  },
  {
   "cell_type": "code",
   "execution_count": null,
   "id": "tender-livestock",
   "metadata": {
    "papermill": {
     "duration": 0.01121,
     "end_time": "2022-10-27T03:12:40.232018",
     "exception": false,
     "start_time": "2022-10-27T03:12:40.220808",
     "status": "completed"
    },
    "tags": []
   },
   "outputs": [],
   "source": []
  },
  {
   "cell_type": "code",
   "execution_count": null,
   "id": "appreciated-diamond",
   "metadata": {
    "papermill": {
     "duration": 0.011091,
     "end_time": "2022-10-27T03:12:40.254428",
     "exception": false,
     "start_time": "2022-10-27T03:12:40.243337",
     "status": "completed"
    },
    "tags": []
   },
   "outputs": [],
   "source": []
  },
  {
   "cell_type": "code",
   "execution_count": null,
   "id": "romance-sweden",
   "metadata": {
    "papermill": {
     "duration": 0.011077,
     "end_time": "2022-10-27T03:12:40.276664",
     "exception": false,
     "start_time": "2022-10-27T03:12:40.265587",
     "status": "completed"
    },
    "tags": []
   },
   "outputs": [],
   "source": []
  },
  {
   "cell_type": "code",
   "execution_count": null,
   "id": "dietary-statistics",
   "metadata": {
    "papermill": {
     "duration": 0.011064,
     "end_time": "2022-10-27T03:12:40.298993",
     "exception": false,
     "start_time": "2022-10-27T03:12:40.287929",
     "status": "completed"
    },
    "tags": []
   },
   "outputs": [],
   "source": []
  }
 ],
 "metadata": {
  "kernelspec": {
   "display_name": "Python 3",
   "language": "python",
   "name": "python3"
  },
  "language_info": {
   "codemirror_mode": {
    "name": "ipython",
    "version": 3
   },
   "file_extension": ".py",
   "mimetype": "text/x-python",
   "name": "python",
   "nbconvert_exporter": "python",
   "pygments_lexer": "ipython3",
   "version": "3.6.15"
  },
  "papermill": {
   "default_parameters": {},
   "duration": 13.470895,
   "end_time": "2022-10-27T03:12:40.728127",
   "environment_variables": {},
   "exception": null,
   "input_path": "Market-News.ipynb",
   "output_path": "Market-News.ipynb",
   "parameters": {},
   "start_time": "2022-10-27T03:12:27.257232",
   "version": "2.2.2"
  }
 },
 "nbformat": 4,
 "nbformat_minor": 5
}