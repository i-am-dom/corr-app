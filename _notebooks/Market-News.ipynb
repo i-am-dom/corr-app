{
 "cells": [
  {
   "cell_type": "markdown",
   "id": "short-greensboro",
   "metadata": {
    "papermill": {
     "duration": 0.01422,
     "end_time": "2021-07-18T01:59:53.593866",
     "exception": false,
     "start_time": "2021-07-18T01:59:53.579646",
     "status": "completed"
    },
    "tags": []
   },
   "source": [
    "# Kriptovaliutų naujienos"
   ]
  },
  {
   "cell_type": "code",
   "execution_count": 1,
   "id": "functioning-knowing",
   "metadata": {
    "execution": {
     "iopub.execute_input": "2021-07-18T01:59:53.623619Z",
     "iopub.status.busy": "2021-07-18T01:59:53.623077Z",
     "iopub.status.idle": "2021-07-18T01:59:54.860912Z",
     "shell.execute_reply": "2021-07-18T01:59:54.860359Z"
    },
    "papermill": {
     "duration": 1.257402,
     "end_time": "2021-07-18T01:59:54.861121",
     "exception": false,
     "start_time": "2021-07-18T01:59:53.603719",
     "status": "completed"
    },
    "tags": []
   },
   "outputs": [],
   "source": [
    "#hide_input\n",
    "import warnings\n",
    "warnings.filterwarnings('ignore')\n",
    "from scripts.read_data import read_api\n",
    "from scripts.read_data import read_news\n",
    "from scripts.read_data import read_covid\n",
    "import matplotlib.pyplot as plt \n",
    "from IPython.display import Markdown as md"
   ]
  },
  {
   "cell_type": "code",
   "execution_count": 2,
   "id": "shared-acceptance",
   "metadata": {
    "execution": {
     "iopub.execute_input": "2021-07-18T01:59:54.888336Z",
     "iopub.status.busy": "2021-07-18T01:59:54.887354Z",
     "iopub.status.idle": "2021-07-18T02:00:05.216110Z",
     "shell.execute_reply": "2021-07-18T02:00:05.215352Z"
    },
    "papermill": {
     "duration": 10.344609,
     "end_time": "2021-07-18T02:00:05.216241",
     "exception": false,
     "start_time": "2021-07-18T01:59:54.871632",
     "status": "completed"
    },
    "tags": []
   },
   "outputs": [],
   "source": [
    "#hide_input\n",
    "blockchain = read_news('blockchain') \n",
    "btc = read_news('btc') \n",
    "xrp = read_news('xrp') \n",
    "trx = read_news('trx') \n",
    "eth = read_news('eth')  \n",
    "ada = read_news('ada')\n",
    "exchange = read_news('exchange') "
   ]
  },
  {
   "cell_type": "code",
   "execution_count": 3,
   "id": "synthetic-notion",
   "metadata": {
    "execution": {
     "iopub.execute_input": "2021-07-18T02:00:05.242111Z",
     "iopub.status.busy": "2021-07-18T02:00:05.241533Z",
     "iopub.status.idle": "2021-07-18T02:00:05.245889Z",
     "shell.execute_reply": "2021-07-18T02:00:05.245460Z"
    },
    "papermill": {
     "duration": 0.020245,
     "end_time": "2021-07-18T02:00:05.245999",
     "exception": false,
     "start_time": "2021-07-18T02:00:05.225754",
     "status": "completed"
    },
    "tags": []
   },
   "outputs": [
    {
     "data": {
      "text/markdown": [
       "- 4 Reasons Why The Bitcoin Lightning Network Will Continue To Grow.  The Bitcoin second layer payment protocol Lightning Network has been exponentially increasing its capacity during the past years. Since it was launched in 2018, the network’s capacity has gone from under 1,000 BTC to 1,800 BTC. The Lightning Network was first proposed in 2015 and operates with payment channels to allow users to send and [&#8230;] ... [| Skaityti daugiau](https://bitcoinist.com/4-reasons-why-the-bitcoin-lightning-network-will-continue-to-grow/?utm_source=rss&utm_medium=rss&utm_campaign=4-reasons-why-the-bitcoin-lightning-network-will-continue-to-grow) "
      ],
      "text/plain": [
       "<IPython.core.display.Markdown object>"
      ]
     },
     "execution_count": 3,
     "metadata": {},
     "output_type": "execute_result"
    }
   ],
   "source": [
    "#hide_input\n",
    "#md('##### {}'.format(titleBTC)) \n",
    "md(\"- {}{} {}{} [| Skaityti daugiau]({}) \".format(blockchain['title'],'. ', blockchain['body'], ' ...', blockchain['url']))"
   ]
  },
  {
   "cell_type": "code",
   "execution_count": 4,
   "id": "aging-caution",
   "metadata": {
    "execution": {
     "iopub.execute_input": "2021-07-18T02:00:05.269817Z",
     "iopub.status.busy": "2021-07-18T02:00:05.269304Z",
     "iopub.status.idle": "2021-07-18T02:00:05.272886Z",
     "shell.execute_reply": "2021-07-18T02:00:05.272453Z"
    },
    "papermill": {
     "duration": 0.017684,
     "end_time": "2021-07-18T02:00:05.272995",
     "exception": false,
     "start_time": "2021-07-18T02:00:05.255311",
     "status": "completed"
    },
    "tags": []
   },
   "outputs": [
    {
     "data": {
      "text/markdown": [
       "- Billionaire Fund Manager Jeffrey Gundlach Convinced Bitcoin Will Fall Below $23K, US Dollar Is ‘Doomed’.  Doubleline Capital CEO Jeffrey Gundlach, also known as the &#8220;Bond King,&#8221; has predicted that the price of bitcoin will fall below the $23K level. &#8220;Right now, the chart on bitcoin looks pretty scary,&#8221; he said, adding that &#8220;it looks like a massive head-and-shoulders top.&#8221; Jeffrey Gundlach Expects Bitcoin&#8217;s Price to Fall Below $23K Billionaire fund [&#8230;] ... [| Skaityti daugiau](https://news.bitcoin.com/billionaire-fund-manager-jeffrey-gundlach-convinced-bitcoin-will-fall-below-23k-u-s-dollar-is-doomed/) "
      ],
      "text/plain": [
       "<IPython.core.display.Markdown object>"
      ]
     },
     "execution_count": 4,
     "metadata": {},
     "output_type": "execute_result"
    }
   ],
   "source": [
    "#hide_input\n",
    "#md('##### {}'.format(titleBTC)) \n",
    "md(\"- {}{} {}{} [| Skaityti daugiau]({}) \".format(btc['title'],'. ', btc['body'], ' ...', btc['url']))"
   ]
  },
  {
   "cell_type": "code",
   "execution_count": 5,
   "id": "organic-actress",
   "metadata": {
    "execution": {
     "iopub.execute_input": "2021-07-18T02:00:05.296916Z",
     "iopub.status.busy": "2021-07-18T02:00:05.296403Z",
     "iopub.status.idle": "2021-07-18T02:00:05.298897Z",
     "shell.execute_reply": "2021-07-18T02:00:05.299537Z"
    },
    "papermill": {
     "duration": 0.017103,
     "end_time": "2021-07-18T02:00:05.299682",
     "exception": false,
     "start_time": "2021-07-18T02:00:05.282579",
     "status": "completed"
    },
    "tags": []
   },
   "outputs": [
    {
     "data": {
      "text/markdown": [
       "- Ripple’s XRP Price Preparing For A Break, Could Revisit More Lows!.  The post Ripple’s XRP Price Preparing For A Break, Could Revisit More Lows! appeared first on Coinpedia - Fintech &amp; Cryptocurreny News Media| Crypto GuideThe XRP price continues its downward trend despite a small win that fueled some positive market sentiments. Recently, Ripple’s plea to deposition the former SEC executive William Hinman was accepted, yet the price remained unaffected. Hence it is still vague whether the price remains unaffected with the Ripple vs SEC updates or it’s still waiting &#8230; ... [| Skaityti daugiau](https://coinpedia.org/price-analysis/ripples-xrp-price-preparing-for-a-breakdown/) "
      ],
      "text/plain": [
       "<IPython.core.display.Markdown object>"
      ]
     },
     "execution_count": 5,
     "metadata": {},
     "output_type": "execute_result"
    }
   ],
   "source": [
    "#hide_input\n",
    "#md('##### {}'.format(titleBTC)) \n",
    "md(\"- {}{} {}{} [| Skaityti daugiau]({}) \".format(xrp['title'],'. ', xrp['body'], ' ...', xrp['url']))"
   ]
  },
  {
   "cell_type": "code",
   "execution_count": 6,
   "id": "prompt-farmer",
   "metadata": {
    "execution": {
     "iopub.execute_input": "2021-07-18T02:00:05.325764Z",
     "iopub.status.busy": "2021-07-18T02:00:05.325189Z",
     "iopub.status.idle": "2021-07-18T02:00:05.327255Z",
     "shell.execute_reply": "2021-07-18T02:00:05.327735Z"
    },
    "papermill": {
     "duration": 0.017331,
     "end_time": "2021-07-18T02:00:05.327877",
     "exception": false,
     "start_time": "2021-07-18T02:00:05.310546",
     "status": "completed"
    },
    "tags": []
   },
   "outputs": [
    {
     "data": {
      "text/markdown": [
       "- Cardano, TRON, AAVE Price Analysis: 14 July.  As Bitcoin’s price tanked today, all major altcoins were trading in the red too. As observed with the altcoins, many of them trailed below their crucial support levels awaiting a retracement. ADA’s market cap declined by 4.03%, TRX registered an 8.9% decline in market price over the last week, and AAVE, despite a downtrend, observed [&#8230;] ... [| Skaityti daugiau](https://ambcrypto.com/cardano-tron-aave-price-analysis-14-july/) "
      ],
      "text/plain": [
       "<IPython.core.display.Markdown object>"
      ]
     },
     "execution_count": 6,
     "metadata": {},
     "output_type": "execute_result"
    }
   ],
   "source": [
    "#hide_input\n",
    "#md('##### {}'.format(titleBTC)) \n",
    "md(\"- {}{} {}{} [| Skaityti daugiau]({}) \".format(trx['title'],'. ', trx['body'], ' ...', trx['url']))"
   ]
  },
  {
   "cell_type": "code",
   "execution_count": 7,
   "id": "illegal-greece",
   "metadata": {
    "execution": {
     "iopub.execute_input": "2021-07-18T02:00:05.354541Z",
     "iopub.status.busy": "2021-07-18T02:00:05.354024Z",
     "iopub.status.idle": "2021-07-18T02:00:05.357089Z",
     "shell.execute_reply": "2021-07-18T02:00:05.356664Z"
    },
    "papermill": {
     "duration": 0.01898,
     "end_time": "2021-07-18T02:00:05.357197",
     "exception": false,
     "start_time": "2021-07-18T02:00:05.338217",
     "status": "completed"
    },
    "tags": []
   },
   "outputs": [
    {
     "data": {
      "text/markdown": [
       "- This Is Why Ethereum Could Flip Bitcoin, According to Coin Bureau.  The popular crypto trader and host of Coin Bureau is outlining why he thinks Ethereum (ETH) has a chance to reach a larger market capitalization than Bitcoin (BTC). In a new video, the pseudonymous analyst known as Guy tells his 1.17 million subscribers that the decentralized finance (DeFi) space has the potential to attract a [&#8230;]The post This Is Why Ethereum Could Flip Bitcoin, According to Coin Bureau appeared first on The Daily Hodl. ... [| Skaityti daugiau](https://dailyhodl.com/2021/07/17/this-is-why-ethereum-could-flip-bitcoin-according-to-coin-bureau/) "
      ],
      "text/plain": [
       "<IPython.core.display.Markdown object>"
      ]
     },
     "execution_count": 7,
     "metadata": {},
     "output_type": "execute_result"
    }
   ],
   "source": [
    "#hide_input\n",
    "#md('##### {}'.format(titleBTC)) \n",
    "md(\"- {}{} {}{} [| Skaityti daugiau]({}) \".format(eth['title'],'. ', eth['body'], ' ...', eth['url']))"
   ]
  },
  {
   "cell_type": "code",
   "execution_count": 8,
   "id": "sublime-lounge",
   "metadata": {
    "execution": {
     "iopub.execute_input": "2021-07-18T02:00:05.383492Z",
     "iopub.status.busy": "2021-07-18T02:00:05.382991Z",
     "iopub.status.idle": "2021-07-18T02:00:05.387371Z",
     "shell.execute_reply": "2021-07-18T02:00:05.386966Z"
    },
    "papermill": {
     "duration": 0.019771,
     "end_time": "2021-07-18T02:00:05.387485",
     "exception": false,
     "start_time": "2021-07-18T02:00:05.367714",
     "status": "completed"
    },
    "tags": []
   },
   "outputs": [
    {
     "data": {
      "text/markdown": [
       "- Cardano, Cosmos, Compound Price Analysis: 17 July.  Altcoin prices have descended of late, with some cryptos including Cardano struggling to hold themselves from falling through vital support levels. ATOM’s fall in price pushed its market cap down by 5.23% and finally, COMP registered low market volatility on the charts. Cardano [ADA] ADA recorded a marginal fall of 0.9% over the last 24 [&#8230;] ... [| Skaityti daugiau](https://ambcrypto.com/cardano-cosmos-compound-price-analysis-17-july/) "
      ],
      "text/plain": [
       "<IPython.core.display.Markdown object>"
      ]
     },
     "execution_count": 8,
     "metadata": {},
     "output_type": "execute_result"
    }
   ],
   "source": [
    "#hide_input\n",
    "#md('##### {}'.format(titleBTC)) \n",
    "md(\"- {}{} {}{} [| Skaityti daugiau]({}) \".format(ada['title'],'. ', ada['body'], ' ...', ada['url']))"
   ]
  },
  {
   "cell_type": "code",
   "execution_count": 9,
   "id": "specified-ordering",
   "metadata": {
    "execution": {
     "iopub.execute_input": "2021-07-18T02:00:05.414235Z",
     "iopub.status.busy": "2021-07-18T02:00:05.413737Z",
     "iopub.status.idle": "2021-07-18T02:00:05.416581Z",
     "shell.execute_reply": "2021-07-18T02:00:05.416981Z"
    },
    "papermill": {
     "duration": 0.018711,
     "end_time": "2021-07-18T02:00:05.417109",
     "exception": false,
     "start_time": "2021-07-18T02:00:05.398398",
     "status": "completed"
    },
    "tags": []
   },
   "outputs": [
    {
     "data": {
      "text/markdown": [
       "- For Binance, ‘the ship may already have sailed’ on this count.  Binance, the world&#8217;s largest crypto-exchange (by volume), has been dealing with several headwinds lately in the form of regulatory action across the globe &#8211; be it in the U.K, the U.S.A, Japan, Canada, and more recently, Italy, among other countries. In fact, amidst rising regulatory concerns, the exchange recently discontinued its newly-launched stock tokens services. [&#8230;] ... [| Skaityti daugiau](https://ambcrypto.com/for-binance-the-ship-may-already-have-sailed-on-this-count/) "
      ],
      "text/plain": [
       "<IPython.core.display.Markdown object>"
      ]
     },
     "execution_count": 9,
     "metadata": {},
     "output_type": "execute_result"
    }
   ],
   "source": [
    "#hide_input\n",
    "#md('##### {}'.format(titleBTC)) \n",
    "md(\"- {}{} {}{} [| Skaityti daugiau]({}) \".format(exchange['title'],'. ', exchange['body'], ' ...', exchange['url']))"
   ]
  },
  {
   "cell_type": "code",
   "execution_count": null,
   "id": "tender-livestock",
   "metadata": {
    "papermill": {
     "duration": 0.011208,
     "end_time": "2021-07-18T02:00:05.439478",
     "exception": false,
     "start_time": "2021-07-18T02:00:05.428270",
     "status": "completed"
    },
    "tags": []
   },
   "outputs": [],
   "source": []
  },
  {
   "cell_type": "code",
   "execution_count": null,
   "id": "appreciated-diamond",
   "metadata": {
    "papermill": {
     "duration": 0.011188,
     "end_time": "2021-07-18T02:00:05.462045",
     "exception": false,
     "start_time": "2021-07-18T02:00:05.450857",
     "status": "completed"
    },
    "tags": []
   },
   "outputs": [],
   "source": []
  },
  {
   "cell_type": "code",
   "execution_count": null,
   "id": "romance-sweden",
   "metadata": {
    "papermill": {
     "duration": 0.011111,
     "end_time": "2021-07-18T02:00:05.484286",
     "exception": false,
     "start_time": "2021-07-18T02:00:05.473175",
     "status": "completed"
    },
    "tags": []
   },
   "outputs": [],
   "source": []
  },
  {
   "cell_type": "code",
   "execution_count": null,
   "id": "dietary-statistics",
   "metadata": {
    "papermill": {
     "duration": 0.011146,
     "end_time": "2021-07-18T02:00:05.506619",
     "exception": false,
     "start_time": "2021-07-18T02:00:05.495473",
     "status": "completed"
    },
    "tags": []
   },
   "outputs": [],
   "source": []
  }
 ],
 "metadata": {
  "kernelspec": {
   "display_name": "Python 3",
   "language": "python",
   "name": "python3"
  },
  "language_info": {
   "codemirror_mode": {
    "name": "ipython",
    "version": 3
   },
   "file_extension": ".py",
   "mimetype": "text/x-python",
   "name": "python",
   "nbconvert_exporter": "python",
   "pygments_lexer": "ipython3",
   "version": "3.6.14"
  },
  "papermill": {
   "default_parameters": {},
   "duration": 14.27928,
   "end_time": "2021-07-18T02:00:06.822060",
   "environment_variables": {},
   "exception": null,
   "input_path": "Market-News.ipynb",
   "output_path": "Market-News.ipynb",
   "parameters": {},
   "start_time": "2021-07-18T01:59:52.542780",
   "version": "2.2.2"
  }
 },
 "nbformat": 4,
 "nbformat_minor": 5
}