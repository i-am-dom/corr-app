{
 "cells": [
  {
   "cell_type": "markdown",
   "id": "short-greensboro",
   "metadata": {
    "papermill": {
     "duration": 0.016284,
     "end_time": "2021-07-30T02:06:30.401744",
     "exception": false,
     "start_time": "2021-07-30T02:06:30.385460",
     "status": "completed"
    },
    "tags": []
   },
   "source": [
    "# Kriptovaliutų naujienos"
   ]
  },
  {
   "cell_type": "code",
   "execution_count": 1,
   "id": "functioning-knowing",
   "metadata": {
    "execution": {
     "iopub.execute_input": "2021-07-30T02:06:30.436705Z",
     "iopub.status.busy": "2021-07-30T02:06:30.436018Z",
     "iopub.status.idle": "2021-07-30T02:06:31.722214Z",
     "shell.execute_reply": "2021-07-30T02:06:31.721699Z"
    },
    "papermill": {
     "duration": 1.308531,
     "end_time": "2021-07-30T02:06:31.722365",
     "exception": false,
     "start_time": "2021-07-30T02:06:30.413834",
     "status": "completed"
    },
    "tags": []
   },
   "outputs": [],
   "source": [
    "#hide_input\n",
    "import warnings\n",
    "warnings.filterwarnings('ignore')\n",
    "from scripts.read_data import read_api\n",
    "from scripts.read_data import read_news\n",
    "from scripts.read_data import read_covid\n",
    "import matplotlib.pyplot as plt \n",
    "from IPython.display import Markdown as md"
   ]
  },
  {
   "cell_type": "code",
   "execution_count": 2,
   "id": "shared-acceptance",
   "metadata": {
    "execution": {
     "iopub.execute_input": "2021-07-30T02:06:31.748286Z",
     "iopub.status.busy": "2021-07-30T02:06:31.747718Z",
     "iopub.status.idle": "2021-07-30T02:06:40.051879Z",
     "shell.execute_reply": "2021-07-30T02:06:40.051298Z"
    },
    "papermill": {
     "duration": 8.319362,
     "end_time": "2021-07-30T02:06:40.052037",
     "exception": false,
     "start_time": "2021-07-30T02:06:31.732675",
     "status": "completed"
    },
    "tags": []
   },
   "outputs": [],
   "source": [
    "#hide_input\n",
    "blockchain = read_news('blockchain') \n",
    "btc = read_news('btc') \n",
    "xrp = read_news('xrp') \n",
    "trx = read_news('trx') \n",
    "eth = read_news('eth')  \n",
    "ada = read_news('ada')\n",
    "exchange = read_news('exchange') "
   ]
  },
  {
   "cell_type": "code",
   "execution_count": 3,
   "id": "synthetic-notion",
   "metadata": {
    "execution": {
     "iopub.execute_input": "2021-07-30T02:06:40.081625Z",
     "iopub.status.busy": "2021-07-30T02:06:40.080836Z",
     "iopub.status.idle": "2021-07-30T02:06:40.084899Z",
     "shell.execute_reply": "2021-07-30T02:06:40.085429Z"
    },
    "papermill": {
     "duration": 0.022276,
     "end_time": "2021-07-30T02:06:40.085571",
     "exception": false,
     "start_time": "2021-07-30T02:06:40.063295",
     "status": "completed"
    },
    "tags": []
   },
   "outputs": [
    {
     "data": {
      "text/markdown": [
       "- Bitcoin’s recent recovery has a lot to do with this.  The larger market has tried to understand the value of Bitcoin over the past few years. While many usually fixate on its market price as an asset, others derive something more fundamental such as Bitcoin facilitating financial freedom. Keeping in line with that, the network of Bitcoin i.e the blockchain itself, is equally important. Over [&#8230;] ... [| Skaityti daugiau](https://ambcrypto.com/bitcoins-recent-recovery-has-a-lot-to-do-with-this/) "
      ],
      "text/plain": [
       "<IPython.core.display.Markdown object>"
      ]
     },
     "execution_count": 3,
     "metadata": {},
     "output_type": "execute_result"
    }
   ],
   "source": [
    "#hide_input\n",
    "#md('##### {}'.format(titleBTC)) \n",
    "md(\"- {}{} {}{} [| Skaityti daugiau]({}) \".format(blockchain['title'],'. ', blockchain['body'], ' ...', blockchain['url']))"
   ]
  },
  {
   "cell_type": "code",
   "execution_count": 4,
   "id": "aging-caution",
   "metadata": {
    "execution": {
     "iopub.execute_input": "2021-07-30T02:06:40.116856Z",
     "iopub.status.busy": "2021-07-30T02:06:40.116253Z",
     "iopub.status.idle": "2021-07-30T02:06:40.123094Z",
     "shell.execute_reply": "2021-07-30T02:06:40.123611Z"
    },
    "papermill": {
     "duration": 0.025678,
     "end_time": "2021-07-30T02:06:40.123740",
     "exception": false,
     "start_time": "2021-07-30T02:06:40.098062",
     "status": "completed"
    },
    "tags": []
   },
   "outputs": [
    {
     "data": {
      "text/markdown": [
       "- MicroStrategy pledges to buy more BTC despite paper loss on its holdings of $424.8M in Q2.  As of June 30, 2021 MicoStrategy held an approximated 105,085 BTC with a carrying value of $2.051 billion, at a total impairment loss of $689.6 million since acquisition of the digital asset.  ... [| Skaityti daugiau](https://cointelegraph.com/news/microstrategy-pledges-to-buy-more-btc-despite-paper-loss-on-its-holdings-of-424-8m-in-q2) "
      ],
      "text/plain": [
       "<IPython.core.display.Markdown object>"
      ]
     },
     "execution_count": 4,
     "metadata": {},
     "output_type": "execute_result"
    }
   ],
   "source": [
    "#hide_input\n",
    "#md('##### {}'.format(titleBTC)) \n",
    "md(\"- {}{} {}{} [| Skaityti daugiau]({}) \".format(btc['title'],'. ', btc['body'], ' ...', btc['url']))"
   ]
  },
  {
   "cell_type": "code",
   "execution_count": 5,
   "id": "organic-actress",
   "metadata": {
    "execution": {
     "iopub.execute_input": "2021-07-30T02:06:40.153120Z",
     "iopub.status.busy": "2021-07-30T02:06:40.152303Z",
     "iopub.status.idle": "2021-07-30T02:06:40.156507Z",
     "shell.execute_reply": "2021-07-30T02:06:40.155988Z"
    },
    "papermill": {
     "duration": 0.020516,
     "end_time": "2021-07-30T02:06:40.156631",
     "exception": false,
     "start_time": "2021-07-30T02:06:40.136115",
     "status": "completed"
    },
    "tags": []
   },
   "outputs": [
    {
     "data": {
      "text/markdown": [
       "- Is Ripple well-positioned to capitalize on this.  San Francisco-based Ripple has been trending of late thanks to the launch of RippleNet’s first live On-Demand Liquidity [ODL] service implementation in Japan. This expanded partnership will see SBI Remit connect with Coins.ph and digital asset exchange platform SBI VC Trade on RippleNet for faster and more affordable cross-border payments from Japan to the Philippines. [&#8230;] ... [| Skaityti daugiau](https://ambcrypto.com/is-ripple-well-positioned-to-capitalize-on-this/) "
      ],
      "text/plain": [
       "<IPython.core.display.Markdown object>"
      ]
     },
     "execution_count": 5,
     "metadata": {},
     "output_type": "execute_result"
    }
   ],
   "source": [
    "#hide_input\n",
    "#md('##### {}'.format(titleBTC)) \n",
    "md(\"- {}{} {}{} [| Skaityti daugiau]({}) \".format(xrp['title'],'. ', xrp['body'], ' ...', xrp['url']))"
   ]
  },
  {
   "cell_type": "code",
   "execution_count": 6,
   "id": "prompt-farmer",
   "metadata": {
    "execution": {
     "iopub.execute_input": "2021-07-30T02:06:40.186361Z",
     "iopub.status.busy": "2021-07-30T02:06:40.185706Z",
     "iopub.status.idle": "2021-07-30T02:06:40.188618Z",
     "shell.execute_reply": "2021-07-30T02:06:40.189126Z"
    },
    "papermill": {
     "duration": 0.02058,
     "end_time": "2021-07-30T02:06:40.189272",
     "exception": false,
     "start_time": "2021-07-30T02:06:40.168692",
     "status": "completed"
    },
    "tags": []
   },
   "outputs": [
    {
     "data": {
      "text/markdown": [
       "- Tron (TRX) Transactions Soar To All Time High, Will Prices Follow?.  Tron (TRX) has now broken a new transactions record. The team took to their official Twitter account to share this news with the world. Per the tweet, the number of daily transactions had reached 9,298,611 on July 28th. More transactions daily than have ever been carried out in a 24-hour period. 🎉The number of daily [&#8230;] ... [| Skaityti daugiau](https://bitcoinist.com/tron-trx-transactions-soar-to-all-time-high-will-prices-follow/?utm_source=rss&utm_medium=rss&utm_campaign=tron-trx-transactions-soar-to-all-time-high-will-prices-follow) "
      ],
      "text/plain": [
       "<IPython.core.display.Markdown object>"
      ]
     },
     "execution_count": 6,
     "metadata": {},
     "output_type": "execute_result"
    }
   ],
   "source": [
    "#hide_input\n",
    "#md('##### {}'.format(titleBTC)) \n",
    "md(\"- {}{} {}{} [| Skaityti daugiau]({}) \".format(trx['title'],'. ', trx['body'], ' ...', trx['url']))"
   ]
  },
  {
   "cell_type": "code",
   "execution_count": 7,
   "id": "illegal-greece",
   "metadata": {
    "execution": {
     "iopub.execute_input": "2021-07-30T02:06:40.220027Z",
     "iopub.status.busy": "2021-07-30T02:06:40.219365Z",
     "iopub.status.idle": "2021-07-30T02:06:40.223623Z",
     "shell.execute_reply": "2021-07-30T02:06:40.222899Z"
    },
    "papermill": {
     "duration": 0.022305,
     "end_time": "2021-07-30T02:06:40.223741",
     "exception": false,
     "start_time": "2021-07-30T02:06:40.201436",
     "status": "completed"
    },
    "tags": []
   },
   "outputs": [
    {
     "data": {
      "text/markdown": [
       "- Despite recent gains, this is what THETA traders should be concerned about.  With most eyes on Bitcoin and Ethereum, it is almost surprising, if not shocking, to see an alt like THETA recording the highest weekly gains. In fact, even at the time of writing, the altcoin had the highest weekly gains of 32.1% among the top-20. This isn&#8217;t the first time THETA has taken the market [&#8230;] ... [| Skaityti daugiau](https://ambcrypto.com/despite-recent-gains-this-is-what-theta-traders-should-be-concerned-about/) "
      ],
      "text/plain": [
       "<IPython.core.display.Markdown object>"
      ]
     },
     "execution_count": 7,
     "metadata": {},
     "output_type": "execute_result"
    }
   ],
   "source": [
    "#hide_input\n",
    "#md('##### {}'.format(titleBTC)) \n",
    "md(\"- {}{} {}{} [| Skaityti daugiau]({}) \".format(eth['title'],'. ', eth['body'], ' ...', eth['url']))"
   ]
  },
  {
   "cell_type": "code",
   "execution_count": 8,
   "id": "sublime-lounge",
   "metadata": {
    "execution": {
     "iopub.execute_input": "2021-07-30T02:06:40.252679Z",
     "iopub.status.busy": "2021-07-30T02:06:40.251463Z",
     "iopub.status.idle": "2021-07-30T02:06:40.255942Z",
     "shell.execute_reply": "2021-07-30T02:06:40.255447Z"
    },
    "papermill": {
     "duration": 0.019711,
     "end_time": "2021-07-30T02:06:40.256048",
     "exception": false,
     "start_time": "2021-07-30T02:06:40.236337",
     "status": "completed"
    },
    "tags": []
   },
   "outputs": [
    {
     "data": {
      "text/markdown": [
       "- Cardano Price Analysis: ADA Bulls Loosing Steam, Struggling At $1.3 Resistance.  ADA is up by 9% over the week as the coin sits at $1.27. Against bitcoin, ADA is battling to maintain support at 3200 SAT. ... [| Skaityti daugiau](https://cryptopotato.com/cardano-price-analysis-ada-bulls-loosing-steam-struggling-at-1-3-resistance/) "
      ],
      "text/plain": [
       "<IPython.core.display.Markdown object>"
      ]
     },
     "execution_count": 8,
     "metadata": {},
     "output_type": "execute_result"
    }
   ],
   "source": [
    "#hide_input\n",
    "#md('##### {}'.format(titleBTC)) \n",
    "md(\"- {}{} {}{} [| Skaityti daugiau]({}) \".format(ada['title'],'. ', ada['body'], ' ...', ada['url']))"
   ]
  },
  {
   "cell_type": "code",
   "execution_count": 9,
   "id": "specified-ordering",
   "metadata": {
    "execution": {
     "iopub.execute_input": "2021-07-30T02:06:40.285544Z",
     "iopub.status.busy": "2021-07-30T02:06:40.284976Z",
     "iopub.status.idle": "2021-07-30T02:06:40.288172Z",
     "shell.execute_reply": "2021-07-30T02:06:40.287689Z"
    },
    "papermill": {
     "duration": 0.020397,
     "end_time": "2021-07-30T02:06:40.288278",
     "exception": false,
     "start_time": "2021-07-30T02:06:40.267881",
     "status": "completed"
    },
    "tags": []
   },
   "outputs": [
    {
     "data": {
      "text/markdown": [
       "- Six Reasons To Withdraw Your Bitcoin From Exchanges.  Here’s why you need to hold the keys to your own bitcoin and never store large amounts on exchanges. ... [| Skaityti daugiau](https://bitcoinmagazine.com/culture/reasons-withdraw-bitcoin-from-exchanges) "
      ],
      "text/plain": [
       "<IPython.core.display.Markdown object>"
      ]
     },
     "execution_count": 9,
     "metadata": {},
     "output_type": "execute_result"
    }
   ],
   "source": [
    "#hide_input\n",
    "#md('##### {}'.format(titleBTC)) \n",
    "md(\"- {}{} {}{} [| Skaityti daugiau]({}) \".format(exchange['title'],'. ', exchange['body'], ' ...', exchange['url']))"
   ]
  },
  {
   "cell_type": "code",
   "execution_count": null,
   "id": "tender-livestock",
   "metadata": {
    "papermill": {
     "duration": 0.012507,
     "end_time": "2021-07-30T02:06:40.314435",
     "exception": false,
     "start_time": "2021-07-30T02:06:40.301928",
     "status": "completed"
    },
    "tags": []
   },
   "outputs": [],
   "source": []
  },
  {
   "cell_type": "code",
   "execution_count": null,
   "id": "appreciated-diamond",
   "metadata": {
    "papermill": {
     "duration": 0.012772,
     "end_time": "2021-07-30T02:06:40.340754",
     "exception": false,
     "start_time": "2021-07-30T02:06:40.327982",
     "status": "completed"
    },
    "tags": []
   },
   "outputs": [],
   "source": []
  },
  {
   "cell_type": "code",
   "execution_count": null,
   "id": "romance-sweden",
   "metadata": {
    "papermill": {
     "duration": 0.012546,
     "end_time": "2021-07-30T02:06:40.365864",
     "exception": false,
     "start_time": "2021-07-30T02:06:40.353318",
     "status": "completed"
    },
    "tags": []
   },
   "outputs": [],
   "source": []
  },
  {
   "cell_type": "code",
   "execution_count": null,
   "id": "dietary-statistics",
   "metadata": {
    "papermill": {
     "duration": 0.01214,
     "end_time": "2021-07-30T02:06:40.390863",
     "exception": false,
     "start_time": "2021-07-30T02:06:40.378723",
     "status": "completed"
    },
    "tags": []
   },
   "outputs": [],
   "source": []
  }
 ],
 "metadata": {
  "kernelspec": {
   "display_name": "Python 3",
   "language": "python",
   "name": "python3"
  },
  "language_info": {
   "codemirror_mode": {
    "name": "ipython",
    "version": 3
   },
   "file_extension": ".py",
   "mimetype": "text/x-python",
   "name": "python",
   "nbconvert_exporter": "python",
   "pygments_lexer": "ipython3",
   "version": "3.6.14"
  },
  "papermill": {
   "default_parameters": {},
   "duration": 11.613867,
   "end_time": "2021-07-30T02:06:40.810697",
   "environment_variables": {},
   "exception": null,
   "input_path": "Market-News.ipynb",
   "output_path": "Market-News.ipynb",
   "parameters": {},
   "start_time": "2021-07-30T02:06:29.196830",
   "version": "2.2.2"
  }
 },
 "nbformat": 4,
 "nbformat_minor": 5
}