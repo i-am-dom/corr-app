{
 "cells": [
  {
   "cell_type": "markdown",
   "id": "short-greensboro",
   "metadata": {
    "papermill": {
     "duration": 0.014627,
     "end_time": "2022-03-18T02:23:38.498193",
     "exception": false,
     "start_time": "2022-03-18T02:23:38.483566",
     "status": "completed"
    },
    "tags": []
   },
   "source": [
    "# Kriptovaliutų naujienos"
   ]
  },
  {
   "cell_type": "code",
   "execution_count": 1,
   "id": "functioning-knowing",
   "metadata": {
    "execution": {
     "iopub.execute_input": "2022-03-18T02:23:38.528189Z",
     "iopub.status.busy": "2022-03-18T02:23:38.527690Z",
     "iopub.status.idle": "2022-03-18T02:23:39.827037Z",
     "shell.execute_reply": "2022-03-18T02:23:39.826572Z"
    },
    "papermill": {
     "duration": 1.319472,
     "end_time": "2022-03-18T02:23:39.827188",
     "exception": false,
     "start_time": "2022-03-18T02:23:38.507716",
     "status": "completed"
    },
    "tags": []
   },
   "outputs": [],
   "source": [
    "#hide_input\n",
    "import warnings\n",
    "warnings.filterwarnings('ignore')\n",
    "from scripts.read_data import read_api\n",
    "from scripts.read_data import read_news\n",
    "from scripts.read_data import read_covid\n",
    "import matplotlib.pyplot as plt \n",
    "from IPython.display import Markdown as md"
   ]
  },
  {
   "cell_type": "code",
   "execution_count": 2,
   "id": "shared-acceptance",
   "metadata": {
    "execution": {
     "iopub.execute_input": "2022-03-18T02:23:39.862236Z",
     "iopub.status.busy": "2022-03-18T02:23:39.860393Z",
     "iopub.status.idle": "2022-03-18T02:23:50.214174Z",
     "shell.execute_reply": "2022-03-18T02:23:50.212979Z"
    },
    "papermill": {
     "duration": 10.373169,
     "end_time": "2022-03-18T02:23:50.214319",
     "exception": false,
     "start_time": "2022-03-18T02:23:39.841150",
     "status": "completed"
    },
    "tags": []
   },
   "outputs": [],
   "source": [
    "#hide_input\n",
    "blockchain = read_news('blockchain') \n",
    "btc = read_news('btc') \n",
    "xrp = read_news('xrp') \n",
    "trx = read_news('trx') \n",
    "eth = read_news('eth')  \n",
    "ada = read_news('ada')\n",
    "exchange = read_news('exchange') "
   ]
  },
  {
   "cell_type": "code",
   "execution_count": 3,
   "id": "synthetic-notion",
   "metadata": {
    "execution": {
     "iopub.execute_input": "2022-03-18T02:23:50.240667Z",
     "iopub.status.busy": "2022-03-18T02:23:50.240100Z",
     "iopub.status.idle": "2022-03-18T02:23:50.243039Z",
     "shell.execute_reply": "2022-03-18T02:23:50.242565Z"
    },
    "papermill": {
     "duration": 0.018964,
     "end_time": "2022-03-18T02:23:50.243161",
     "exception": false,
     "start_time": "2022-03-18T02:23:50.224197",
     "status": "completed"
    },
    "tags": []
   },
   "outputs": [
    {
     "data": {
      "text/markdown": [
       "- Bitcoin Mining Pool Protocol Stratum V2 Is Making Progress.  If widely adopted, this mining pool protocol could help Bitcoin become more robust and decentralized. ... [| Skaityti daugiau](https://bitcoinmagazine.com/technical/stratum-v2-bitcoin-mining-progress) "
      ],
      "text/plain": [
       "<IPython.core.display.Markdown object>"
      ]
     },
     "execution_count": 3,
     "metadata": {},
     "output_type": "execute_result"
    }
   ],
   "source": [
    "#hide_input\n",
    "#md('##### {}'.format(titleBTC)) \n",
    "md(\"- {}{} {}{} [| Skaityti daugiau]({}) \".format(blockchain['title'],'. ', blockchain['body'], ' ...', blockchain['url']))"
   ]
  },
  {
   "cell_type": "code",
   "execution_count": 4,
   "id": "aging-caution",
   "metadata": {
    "execution": {
     "iopub.execute_input": "2022-03-18T02:23:50.272007Z",
     "iopub.status.busy": "2022-03-18T02:23:50.271390Z",
     "iopub.status.idle": "2022-03-18T02:23:50.274461Z",
     "shell.execute_reply": "2022-03-18T02:23:50.273988Z"
    },
    "papermill": {
     "duration": 0.019819,
     "end_time": "2022-03-18T02:23:50.274582",
     "exception": false,
     "start_time": "2022-03-18T02:23:50.254763",
     "status": "completed"
    },
    "tags": []
   },
   "outputs": [
    {
     "data": {
      "text/markdown": [
       "- Top 3 Metaverse Crypto Coins With a Market Cap Below $60 Million (March 2022).  This week, cryptocurrency markets continue to trade sideways as Bitcoin and Ethereum manage to hold support. Metaverse Crypto coins show bullish signs, with many seeing single-digit percent price gains this St. Patrick&#8217;s day. Let&#8217;s look at our top pick of the top three Metaverse crypto coins with a market cap below $60 million to watch [&#8230;]The post Top 3 Metaverse Crypto Coins With a Market Cap Below $60 Million (March 2022) appeared first on NullTX. ... [| Skaityti daugiau](https://nulltx.com/top-3-metaverse-crypto-coins-with-a-market-cap-below-60-million-march-2022/) "
      ],
      "text/plain": [
       "<IPython.core.display.Markdown object>"
      ]
     },
     "execution_count": 4,
     "metadata": {},
     "output_type": "execute_result"
    }
   ],
   "source": [
    "#hide_input\n",
    "#md('##### {}'.format(titleBTC)) \n",
    "md(\"- {}{} {}{} [| Skaityti daugiau]({}) \".format(btc['title'],'. ', btc['body'], ' ...', btc['url']))"
   ]
  },
  {
   "cell_type": "code",
   "execution_count": 5,
   "id": "organic-actress",
   "metadata": {
    "execution": {
     "iopub.execute_input": "2022-03-18T02:23:50.301408Z",
     "iopub.status.busy": "2022-03-18T02:23:50.300777Z",
     "iopub.status.idle": "2022-03-18T02:23:50.303850Z",
     "shell.execute_reply": "2022-03-18T02:23:50.303355Z"
    },
    "papermill": {
     "duration": 0.018691,
     "end_time": "2022-03-18T02:23:50.303969",
     "exception": false,
     "start_time": "2022-03-18T02:23:50.285278",
     "status": "completed"
    },
    "tags": []
   },
   "outputs": [
    {
     "data": {
      "text/markdown": [
       "- XRP Price Prediction: Flag Formation Awaits A Bullish Breakout Above $0.80.  XRP price took a breather after the previous session gains. The pair continued to trade in a very tight range with low volumes. The downside for the pair is capped near the $0.67 level. XRP price trades in a very tight range with no meaningful action. A decisive close above $0.80 will see more gains. The post XRP Price Prediction: Flag Formation Awaits A Bullish Breakout Above $0.80 appeared first on CoinGape. ... [| Skaityti daugiau](https://coingape.com/markets/xrp-price-prediction-flag-formation-awaits-a-bullish-breakout-above-0-80/) "
      ],
      "text/plain": [
       "<IPython.core.display.Markdown object>"
      ]
     },
     "execution_count": 5,
     "metadata": {},
     "output_type": "execute_result"
    }
   ],
   "source": [
    "#hide_input\n",
    "#md('##### {}'.format(titleBTC)) \n",
    "md(\"- {}{} {}{} [| Skaityti daugiau]({}) \".format(xrp['title'],'. ', xrp['body'], ' ...', xrp['url']))"
   ]
  },
  {
   "cell_type": "code",
   "execution_count": 6,
   "id": "prompt-farmer",
   "metadata": {
    "execution": {
     "iopub.execute_input": "2022-03-18T02:23:50.332959Z",
     "iopub.status.busy": "2022-03-18T02:23:50.332378Z",
     "iopub.status.idle": "2022-03-18T02:23:50.336329Z",
     "shell.execute_reply": "2022-03-18T02:23:50.335802Z"
    },
    "papermill": {
     "duration": 0.021085,
     "end_time": "2022-03-18T02:23:50.336456",
     "exception": false,
     "start_time": "2022-03-18T02:23:50.315371",
     "status": "completed"
    },
    "tags": []
   },
   "outputs": [
    {
     "data": {
      "text/markdown": [
       "- What SEC v. Ripple has in common with the allegations against Sun, TRON.  If TRON DAO &#8211; née TRON &#8211; wasn&#8217;t enough of a conversation starter, an investigative piece by journalist Chris Harland-Dunaway published in The Verge dropped a bomb. It accused Tron founder Justin Sun of actions ranging from getting ICO ban tip-offs to insider trading. In a conversation with journalist Laura Shin, Harland-Dunaway revealed more details [&#8230;] ... [| Skaityti daugiau](https://ambcrypto.com/what-sec-v-ripple-has-in-common-with-the-allegations-against-sun-tron/) "
      ],
      "text/plain": [
       "<IPython.core.display.Markdown object>"
      ]
     },
     "execution_count": 6,
     "metadata": {},
     "output_type": "execute_result"
    }
   ],
   "source": [
    "#hide_input\n",
    "#md('##### {}'.format(titleBTC)) \n",
    "md(\"- {}{} {}{} [| Skaityti daugiau]({}) \".format(trx['title'],'. ', trx['body'], ' ...', trx['url']))"
   ]
  },
  {
   "cell_type": "code",
   "execution_count": 7,
   "id": "illegal-greece",
   "metadata": {
    "execution": {
     "iopub.execute_input": "2022-03-18T02:23:50.371925Z",
     "iopub.status.busy": "2022-03-18T02:23:50.371207Z",
     "iopub.status.idle": "2022-03-18T02:23:50.373364Z",
     "shell.execute_reply": "2022-03-18T02:23:50.373892Z"
    },
    "papermill": {
     "duration": 0.024395,
     "end_time": "2022-03-18T02:23:50.374045",
     "exception": false,
     "start_time": "2022-03-18T02:23:50.349650",
     "status": "completed"
    },
    "tags": []
   },
   "outputs": [
    {
     "data": {
      "text/markdown": [
       "- Top 3 Metaverse Crypto Coins With a Market Cap Below $60 Million (March 2022).  This week, cryptocurrency markets continue to trade sideways as Bitcoin and Ethereum manage to hold support. Metaverse Crypto coins show bullish signs, with many seeing single-digit percent price gains this St. Patrick&#8217;s day. Let&#8217;s look at our top pick of the top three Metaverse crypto coins with a market cap below $60 million to watch [&#8230;]The post Top 3 Metaverse Crypto Coins With a Market Cap Below $60 Million (March 2022) appeared first on NullTX. ... [| Skaityti daugiau](https://nulltx.com/top-3-metaverse-crypto-coins-with-a-market-cap-below-60-million-march-2022/) "
      ],
      "text/plain": [
       "<IPython.core.display.Markdown object>"
      ]
     },
     "execution_count": 7,
     "metadata": {},
     "output_type": "execute_result"
    }
   ],
   "source": [
    "#hide_input\n",
    "#md('##### {}'.format(titleBTC)) \n",
    "md(\"- {}{} {}{} [| Skaityti daugiau]({}) \".format(eth['title'],'. ', eth['body'], ' ...', eth['url']))"
   ]
  },
  {
   "cell_type": "code",
   "execution_count": 8,
   "id": "sublime-lounge",
   "metadata": {
    "execution": {
     "iopub.execute_input": "2022-03-18T02:23:50.402532Z",
     "iopub.status.busy": "2022-03-18T02:23:50.401886Z",
     "iopub.status.idle": "2022-03-18T02:23:50.404127Z",
     "shell.execute_reply": "2022-03-18T02:23:50.404592Z"
    },
    "papermill": {
     "duration": 0.01931,
     "end_time": "2022-03-18T02:23:50.404716",
     "exception": false,
     "start_time": "2022-03-18T02:23:50.385406",
     "status": "completed"
    },
    "tags": []
   },
   "outputs": [
    {
     "data": {
      "text/markdown": [
       "- Three Months Into 2022 And Cardano TVL Is Already Up 25,000%.  Cardano is one of the biggest blockchains in the world. The network which was introduced in 2017 has been growing in popularity steadily throughout the years and with the launch of smart contract capability ushering in the decentralized finance (DeFi) space on the blockchain, it has seen tremendous growth. This growth can be seen in [&#8230;] ... [| Skaityti daugiau](https://bitcoinist.com/cardano-tvl-is-already-up-25000/) "
      ],
      "text/plain": [
       "<IPython.core.display.Markdown object>"
      ]
     },
     "execution_count": 8,
     "metadata": {},
     "output_type": "execute_result"
    }
   ],
   "source": [
    "#hide_input\n",
    "#md('##### {}'.format(titleBTC)) \n",
    "md(\"- {}{} {}{} [| Skaityti daugiau]({}) \".format(ada['title'],'. ', ada['body'], ' ...', ada['url']))"
   ]
  },
  {
   "cell_type": "code",
   "execution_count": 9,
   "id": "specified-ordering",
   "metadata": {
    "execution": {
     "iopub.execute_input": "2022-03-18T02:23:50.438987Z",
     "iopub.status.busy": "2022-03-18T02:23:50.438019Z",
     "iopub.status.idle": "2022-03-18T02:23:50.442772Z",
     "shell.execute_reply": "2022-03-18T02:23:50.443232Z"
    },
    "papermill": {
     "duration": 0.024421,
     "end_time": "2022-03-18T02:23:50.443350",
     "exception": false,
     "start_time": "2022-03-18T02:23:50.418929",
     "status": "completed"
    },
    "tags": []
   },
   "outputs": [
    {
     "data": {
      "text/markdown": [
       "- LMAX Partners With Financial Services Group SIX to Launch Crypto Futures Product.  Institutional cryptocurrency exchange LMAX has announced a partnership with Swiss financial services group SIX to launch digital asset futures products. ... [| Skaityti daugiau](https://cryptopotato.com/lmax-partners-with-financial-services-group-six-to-launch-crypto-futures-product/) "
      ],
      "text/plain": [
       "<IPython.core.display.Markdown object>"
      ]
     },
     "execution_count": 9,
     "metadata": {},
     "output_type": "execute_result"
    }
   ],
   "source": [
    "#hide_input\n",
    "#md('##### {}'.format(titleBTC)) \n",
    "md(\"- {}{} {}{} [| Skaityti daugiau]({}) \".format(exchange['title'],'. ', exchange['body'], ' ...', exchange['url']))"
   ]
  },
  {
   "cell_type": "code",
   "execution_count": null,
   "id": "tender-livestock",
   "metadata": {
    "papermill": {
     "duration": 0.012241,
     "end_time": "2022-03-18T02:23:50.468585",
     "exception": false,
     "start_time": "2022-03-18T02:23:50.456344",
     "status": "completed"
    },
    "tags": []
   },
   "outputs": [],
   "source": []
  },
  {
   "cell_type": "code",
   "execution_count": null,
   "id": "appreciated-diamond",
   "metadata": {
    "papermill": {
     "duration": 0.011805,
     "end_time": "2022-03-18T02:23:50.491904",
     "exception": false,
     "start_time": "2022-03-18T02:23:50.480099",
     "status": "completed"
    },
    "tags": []
   },
   "outputs": [],
   "source": []
  },
  {
   "cell_type": "code",
   "execution_count": null,
   "id": "romance-sweden",
   "metadata": {
    "papermill": {
     "duration": 0.011823,
     "end_time": "2022-03-18T02:23:50.516397",
     "exception": false,
     "start_time": "2022-03-18T02:23:50.504574",
     "status": "completed"
    },
    "tags": []
   },
   "outputs": [],
   "source": []
  },
  {
   "cell_type": "code",
   "execution_count": null,
   "id": "dietary-statistics",
   "metadata": {
    "papermill": {
     "duration": 0.015422,
     "end_time": "2022-03-18T02:23:50.543662",
     "exception": false,
     "start_time": "2022-03-18T02:23:50.528240",
     "status": "completed"
    },
    "tags": []
   },
   "outputs": [],
   "source": []
  }
 ],
 "metadata": {
  "kernelspec": {
   "display_name": "Python 3",
   "language": "python",
   "name": "python3"
  },
  "language_info": {
   "codemirror_mode": {
    "name": "ipython",
    "version": 3
   },
   "file_extension": ".py",
   "mimetype": "text/x-python",
   "name": "python",
   "nbconvert_exporter": "python",
   "pygments_lexer": "ipython3",
   "version": "3.6.15"
  },
  "papermill": {
   "default_parameters": {},
   "duration": 13.641947,
   "end_time": "2022-03-18T02:23:51.077897",
   "environment_variables": {},
   "exception": null,
   "input_path": "Market-News.ipynb",
   "output_path": "Market-News.ipynb",
   "parameters": {},
   "start_time": "2022-03-18T02:23:37.435950",
   "version": "2.2.2"
  }
 },
 "nbformat": 4,
 "nbformat_minor": 5
}