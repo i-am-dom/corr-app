{
 "cells": [
  {
   "cell_type": "markdown",
   "id": "short-greensboro",
   "metadata": {
    "papermill": {
     "duration": 0.012909,
     "end_time": "2021-07-26T02:02:35.809941",
     "exception": false,
     "start_time": "2021-07-26T02:02:35.797032",
     "status": "completed"
    },
    "tags": []
   },
   "source": [
    "# Kriptovaliutų naujienos"
   ]
  },
  {
   "cell_type": "code",
   "execution_count": 1,
   "id": "functioning-knowing",
   "metadata": {
    "execution": {
     "iopub.execute_input": "2021-07-26T02:02:35.838762Z",
     "iopub.status.busy": "2021-07-26T02:02:35.837777Z",
     "iopub.status.idle": "2021-07-26T02:02:36.999668Z",
     "shell.execute_reply": "2021-07-26T02:02:36.998697Z"
    },
    "papermill": {
     "duration": 1.180388,
     "end_time": "2021-07-26T02:02:36.999826",
     "exception": false,
     "start_time": "2021-07-26T02:02:35.819438",
     "status": "completed"
    },
    "tags": []
   },
   "outputs": [],
   "source": [
    "#hide_input\n",
    "import warnings\n",
    "warnings.filterwarnings('ignore')\n",
    "from scripts.read_data import read_api\n",
    "from scripts.read_data import read_news\n",
    "from scripts.read_data import read_covid\n",
    "import matplotlib.pyplot as plt \n",
    "from IPython.display import Markdown as md"
   ]
  },
  {
   "cell_type": "code",
   "execution_count": 2,
   "id": "shared-acceptance",
   "metadata": {
    "execution": {
     "iopub.execute_input": "2021-07-26T02:02:37.023303Z",
     "iopub.status.busy": "2021-07-26T02:02:37.022789Z",
     "iopub.status.idle": "2021-07-26T02:02:47.096697Z",
     "shell.execute_reply": "2021-07-26T02:02:47.096173Z"
    },
    "papermill": {
     "duration": 10.087804,
     "end_time": "2021-07-26T02:02:47.096827",
     "exception": false,
     "start_time": "2021-07-26T02:02:37.009023",
     "status": "completed"
    },
    "tags": []
   },
   "outputs": [],
   "source": [
    "#hide_input\n",
    "blockchain = read_news('blockchain') \n",
    "btc = read_news('btc') \n",
    "xrp = read_news('xrp') \n",
    "trx = read_news('trx') \n",
    "eth = read_news('eth')  \n",
    "ada = read_news('ada')\n",
    "exchange = read_news('exchange') "
   ]
  },
  {
   "cell_type": "code",
   "execution_count": 3,
   "id": "synthetic-notion",
   "metadata": {
    "execution": {
     "iopub.execute_input": "2021-07-26T02:02:47.120295Z",
     "iopub.status.busy": "2021-07-26T02:02:47.118092Z",
     "iopub.status.idle": "2021-07-26T02:02:47.122669Z",
     "shell.execute_reply": "2021-07-26T02:02:47.123043Z"
    },
    "papermill": {
     "duration": 0.017059,
     "end_time": "2021-07-26T02:02:47.123160",
     "exception": false,
     "start_time": "2021-07-26T02:02:47.106101",
     "status": "completed"
    },
    "tags": []
   },
   "outputs": [
    {
     "data": {
      "text/markdown": [
       "- This New Crypto Sector Could Drive Broad Market Rally, Says Partner at Top Digital Asset Investment Firm.  Spartan Black, a partner at the Singapore-based Spartan Group, a blockchain investment and advisory firm, believes an emerging crypto sector could ignite a broad market rally – provided Bitcoin can trade above $40,000 again. Spartan Black tells his nearly 30,000 Twitter followers that decentralized gaming tokens are on the verge of a send-off after having [&#8230;]The post This New Crypto Sector Could Drive Broad Market Rally, Says Partner at Top Digital Asset Investment Firm appeared first on The Daily Hodl. ... [| Skaityti daugiau](https://dailyhodl.com/2021/07/25/this-new-crypto-sector-could-drive-broad-market-rally-says-partner-at-top-digital-asset-investment-firm/) "
      ],
      "text/plain": [
       "<IPython.core.display.Markdown object>"
      ]
     },
     "execution_count": 3,
     "metadata": {},
     "output_type": "execute_result"
    }
   ],
   "source": [
    "#hide_input\n",
    "#md('##### {}'.format(titleBTC)) \n",
    "md(\"- {}{} {}{} [| Skaityti daugiau]({}) \".format(blockchain['title'],'. ', blockchain['body'], ' ...', blockchain['url']))"
   ]
  },
  {
   "cell_type": "code",
   "execution_count": 4,
   "id": "aging-caution",
   "metadata": {
    "execution": {
     "iopub.execute_input": "2021-07-26T02:02:47.145664Z",
     "iopub.status.busy": "2021-07-26T02:02:47.145173Z",
     "iopub.status.idle": "2021-07-26T02:02:47.147949Z",
     "shell.execute_reply": "2021-07-26T02:02:47.147537Z"
    },
    "papermill": {
     "duration": 0.01576,
     "end_time": "2021-07-26T02:02:47.148046",
     "exception": false,
     "start_time": "2021-07-26T02:02:47.132286",
     "status": "completed"
    },
    "tags": []
   },
   "outputs": [
    {
     "data": {
      "text/markdown": [
       "- Analyst on Bitcoin: I would not be surprised if we get a very….  Bitcoin, the largest cryptocurrency was trading below the $30k, just a few days ago. Some of the analysts within the community even projected a further setback to the $18k mark. However, in an interesting turn of events (specifically, the virtual “B-Word” conference), Bitcoin changed its course and started to recover some of its losses. At [&#8230;] ... [| Skaityti daugiau](https://ambcrypto.com/analyst-on-bitcoin-i-would-not-be-surprised-if-we-get-a-very/) "
      ],
      "text/plain": [
       "<IPython.core.display.Markdown object>"
      ]
     },
     "execution_count": 4,
     "metadata": {},
     "output_type": "execute_result"
    }
   ],
   "source": [
    "#hide_input\n",
    "#md('##### {}'.format(titleBTC)) \n",
    "md(\"- {}{} {}{} [| Skaityti daugiau]({}) \".format(btc['title'],'. ', btc['body'], ' ...', btc['url']))"
   ]
  },
  {
   "cell_type": "code",
   "execution_count": 5,
   "id": "organic-actress",
   "metadata": {
    "execution": {
     "iopub.execute_input": "2021-07-26T02:02:47.170917Z",
     "iopub.status.busy": "2021-07-26T02:02:47.170414Z",
     "iopub.status.idle": "2021-07-26T02:02:47.173409Z",
     "shell.execute_reply": "2021-07-26T02:02:47.172996Z"
    },
    "papermill": {
     "duration": 0.015991,
     "end_time": "2021-07-26T02:02:47.173502",
     "exception": false,
     "start_time": "2021-07-26T02:02:47.157511",
     "status": "completed"
    },
    "tags": []
   },
   "outputs": [
    {
     "data": {
      "text/markdown": [
       "- XRP, Dogecoin, Cardano Price Analysis: 25 July.  Bitcoin’s prices were up by almost 2.8% today, and Ethereum shot up by 2.5%. The rise in prices of the big cryptocurrencies has had a positive impact on other altcoins, however, the broader market still lacked the strength. XRP was trading sideways with a minor loss in the last 24 hours, Dogecoin continued to trade [&#8230;] ... [| Skaityti daugiau](https://ambcrypto.com/xrp-dogecoin-cardano-price-analysis-25-july/) "
      ],
      "text/plain": [
       "<IPython.core.display.Markdown object>"
      ]
     },
     "execution_count": 5,
     "metadata": {},
     "output_type": "execute_result"
    }
   ],
   "source": [
    "#hide_input\n",
    "#md('##### {}'.format(titleBTC)) \n",
    "md(\"- {}{} {}{} [| Skaityti daugiau]({}) \".format(xrp['title'],'. ', xrp['body'], ' ...', xrp['url']))"
   ]
  },
  {
   "cell_type": "code",
   "execution_count": 6,
   "id": "prompt-farmer",
   "metadata": {
    "execution": {
     "iopub.execute_input": "2021-07-26T02:02:47.196949Z",
     "iopub.status.busy": "2021-07-26T02:02:47.196427Z",
     "iopub.status.idle": "2021-07-26T02:02:47.198964Z",
     "shell.execute_reply": "2021-07-26T02:02:47.199418Z"
    },
    "papermill": {
     "duration": 0.016238,
     "end_time": "2021-07-26T02:02:47.199523",
     "exception": false,
     "start_time": "2021-07-26T02:02:47.183285",
     "status": "completed"
    },
    "tags": []
   },
   "outputs": [
    {
     "data": {
      "text/markdown": [
       "- Ethereum, TRON, VeChain Price Analysis: 24 July.  After a period of intense volatility, the crypto-market rallied briefly followed by a period of consolidation. The broader crypto-market remained indecisive, however, and the industry’s altcoins underlined the same. Despite noting considerable gains, Tron was trading in the red, at press time. It might go on a downtrend if the price doesn&#8217;t shoot up over [&#8230;] ... [| Skaityti daugiau](https://ambcrypto.com/ethereum-tron-vechain-price-analysis-24-july/) "
      ],
      "text/plain": [
       "<IPython.core.display.Markdown object>"
      ]
     },
     "execution_count": 6,
     "metadata": {},
     "output_type": "execute_result"
    }
   ],
   "source": [
    "#hide_input\n",
    "#md('##### {}'.format(titleBTC)) \n",
    "md(\"- {}{} {}{} [| Skaityti daugiau]({}) \".format(trx['title'],'. ', trx['body'], ' ...', trx['url']))"
   ]
  },
  {
   "cell_type": "code",
   "execution_count": 7,
   "id": "illegal-greece",
   "metadata": {
    "execution": {
     "iopub.execute_input": "2021-07-26T02:02:47.224653Z",
     "iopub.status.busy": "2021-07-26T02:02:47.224048Z",
     "iopub.status.idle": "2021-07-26T02:02:47.226205Z",
     "shell.execute_reply": "2021-07-26T02:02:47.226633Z"
    },
    "papermill": {
     "duration": 0.017029,
     "end_time": "2021-07-26T02:02:47.226739",
     "exception": false,
     "start_time": "2021-07-26T02:02:47.209710",
     "status": "completed"
    },
    "tags": []
   },
   "outputs": [
    {
     "data": {
      "text/markdown": [
       "- Amazon is said looking to accept bitcoin payments by the end of the year.  4kodiak/iStock Unreleased via Getty Images Amazon (AMZN) is said to be looking to accept bitcoin (BTC- USD) payments by the end of the year and its exploring its own token for next year. Amazon has been working on the plan since 2019, according to City A.M. report, which cites an unidentified insider. After bitcoin, the e-commerce behemoth is expected to accept ethereum (ETH-USD), cardano (ADA-USD) and Bitcoin Cash (BCH-USD) before the company brings another eight or so of the most popular cryptocurrencies online. The City A.M. report comes after a Friday report that an Amazon job posting signals potential plan to accept cryptocurrency. ... [| Skaityti daugiau](https://seekingalpha.com/news/3718834-amazon-is-said-looking-to-accept-bitcoin-payments-by-the-end-of-the-year?utm_source=cryptocompare.com&utm_medium=referral) "
      ],
      "text/plain": [
       "<IPython.core.display.Markdown object>"
      ]
     },
     "execution_count": 7,
     "metadata": {},
     "output_type": "execute_result"
    }
   ],
   "source": [
    "#hide_input\n",
    "#md('##### {}'.format(titleBTC)) \n",
    "md(\"- {}{} {}{} [| Skaityti daugiau]({}) \".format(eth['title'],'. ', eth['body'], ' ...', eth['url']))"
   ]
  },
  {
   "cell_type": "code",
   "execution_count": 8,
   "id": "sublime-lounge",
   "metadata": {
    "execution": {
     "iopub.execute_input": "2021-07-26T02:02:47.251330Z",
     "iopub.status.busy": "2021-07-26T02:02:47.250842Z",
     "iopub.status.idle": "2021-07-26T02:02:47.253454Z",
     "shell.execute_reply": "2021-07-26T02:02:47.252974Z"
    },
    "papermill": {
     "duration": 0.016528,
     "end_time": "2021-07-26T02:02:47.253547",
     "exception": false,
     "start_time": "2021-07-26T02:02:47.237019",
     "status": "completed"
    },
    "tags": []
   },
   "outputs": [
    {
     "data": {
      "text/markdown": [
       "- Amazon is said looking to accept bitcoin payments by the end of the year.  4kodiak/iStock Unreleased via Getty Images Amazon (AMZN) is said to be looking to accept bitcoin (BTC- USD) payments by the end of the year and its exploring its own token for next year. Amazon has been working on the plan since 2019, according to City A.M. report, which cites an unidentified insider. After bitcoin, the e-commerce behemoth is expected to accept ethereum (ETH-USD), cardano (ADA-USD) and Bitcoin Cash (BCH-USD) before the company brings another eight or so of the most popular cryptocurrencies online. The City A.M. report comes after a Friday report that an Amazon job posting signals potential plan to accept cryptocurrency. ... [| Skaityti daugiau](https://seekingalpha.com/news/3718834-amazon-is-said-looking-to-accept-bitcoin-payments-by-the-end-of-the-year?utm_source=cryptocompare.com&utm_medium=referral) "
      ],
      "text/plain": [
       "<IPython.core.display.Markdown object>"
      ]
     },
     "execution_count": 8,
     "metadata": {},
     "output_type": "execute_result"
    }
   ],
   "source": [
    "#hide_input\n",
    "#md('##### {}'.format(titleBTC)) \n",
    "md(\"- {}{} {}{} [| Skaityti daugiau]({}) \".format(ada['title'],'. ', ada['body'], ' ...', ada['url']))"
   ]
  },
  {
   "cell_type": "code",
   "execution_count": 9,
   "id": "specified-ordering",
   "metadata": {
    "execution": {
     "iopub.execute_input": "2021-07-26T02:02:47.278946Z",
     "iopub.status.busy": "2021-07-26T02:02:47.278464Z",
     "iopub.status.idle": "2021-07-26T02:02:47.281178Z",
     "shell.execute_reply": "2021-07-26T02:02:47.281574Z"
    },
    "papermill": {
     "duration": 0.017467,
     "end_time": "2021-07-26T02:02:47.281679",
     "exception": false,
     "start_time": "2021-07-26T02:02:47.264212",
     "status": "completed"
    },
    "tags": []
   },
   "outputs": [
    {
     "data": {
      "text/markdown": [
       "- Ethereum, Binance Coin, Litecoin Price Analysis: 25 July.  With the price reversal on July 21, most altcoins trade in the green. Prices have moved on the upside, albeit slowly. Ethereum rallied harder followed by the news of the official Ethereum Improvement Proposal. Binance Coin’s price action, in particular, did not show too much promise because of regulatory hurdles that might have made it [&#8230;] ... [| Skaityti daugiau](https://ambcrypto.com/ethereum-binance-coin-litecoin-price-analysis-25-july/) "
      ],
      "text/plain": [
       "<IPython.core.display.Markdown object>"
      ]
     },
     "execution_count": 9,
     "metadata": {},
     "output_type": "execute_result"
    }
   ],
   "source": [
    "#hide_input\n",
    "#md('##### {}'.format(titleBTC)) \n",
    "md(\"- {}{} {}{} [| Skaityti daugiau]({}) \".format(exchange['title'],'. ', exchange['body'], ' ...', exchange['url']))"
   ]
  },
  {
   "cell_type": "code",
   "execution_count": null,
   "id": "tender-livestock",
   "metadata": {
    "papermill": {
     "duration": 0.010902,
     "end_time": "2021-07-26T02:02:47.303673",
     "exception": false,
     "start_time": "2021-07-26T02:02:47.292771",
     "status": "completed"
    },
    "tags": []
   },
   "outputs": [],
   "source": []
  },
  {
   "cell_type": "code",
   "execution_count": null,
   "id": "appreciated-diamond",
   "metadata": {
    "papermill": {
     "duration": 0.010955,
     "end_time": "2021-07-26T02:02:47.325771",
     "exception": false,
     "start_time": "2021-07-26T02:02:47.314816",
     "status": "completed"
    },
    "tags": []
   },
   "outputs": [],
   "source": []
  },
  {
   "cell_type": "code",
   "execution_count": null,
   "id": "romance-sweden",
   "metadata": {
    "papermill": {
     "duration": 0.010918,
     "end_time": "2021-07-26T02:02:47.347659",
     "exception": false,
     "start_time": "2021-07-26T02:02:47.336741",
     "status": "completed"
    },
    "tags": []
   },
   "outputs": [],
   "source": []
  },
  {
   "cell_type": "code",
   "execution_count": null,
   "id": "dietary-statistics",
   "metadata": {
    "papermill": {
     "duration": 0.010876,
     "end_time": "2021-07-26T02:02:47.369489",
     "exception": false,
     "start_time": "2021-07-26T02:02:47.358613",
     "status": "completed"
    },
    "tags": []
   },
   "outputs": [],
   "source": []
  }
 ],
 "metadata": {
  "kernelspec": {
   "display_name": "Python 3",
   "language": "python",
   "name": "python3"
  },
  "language_info": {
   "codemirror_mode": {
    "name": "ipython",
    "version": 3
   },
   "file_extension": ".py",
   "mimetype": "text/x-python",
   "name": "python",
   "nbconvert_exporter": "python",
   "pygments_lexer": "ipython3",
   "version": "3.6.14"
  },
  "papermill": {
   "default_parameters": {},
   "duration": 13.022004,
   "end_time": "2021-07-26T02:02:47.787846",
   "environment_variables": {},
   "exception": null,
   "input_path": "Market-News.ipynb",
   "output_path": "Market-News.ipynb",
   "parameters": {},
   "start_time": "2021-07-26T02:02:34.765842",
   "version": "2.2.2"
  }
 },
 "nbformat": 4,
 "nbformat_minor": 5
}