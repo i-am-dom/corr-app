{
 "cells": [
  {
   "cell_type": "markdown",
   "id": "short-greensboro",
   "metadata": {
    "papermill": {
     "duration": 0.017895,
     "end_time": "2022-02-11T02:03:47.931729",
     "exception": false,
     "start_time": "2022-02-11T02:03:47.913834",
     "status": "completed"
    },
    "tags": []
   },
   "source": [
    "# Kriptovaliutų naujienos"
   ]
  },
  {
   "cell_type": "code",
   "execution_count": 1,
   "id": "functioning-knowing",
   "metadata": {
    "execution": {
     "iopub.execute_input": "2022-02-11T02:03:47.969416Z",
     "iopub.status.busy": "2022-02-11T02:03:47.968548Z",
     "iopub.status.idle": "2022-02-11T02:03:49.468593Z",
     "shell.execute_reply": "2022-02-11T02:03:49.467872Z"
    },
    "papermill": {
     "duration": 1.5255,
     "end_time": "2022-02-11T02:03:49.468799",
     "exception": false,
     "start_time": "2022-02-11T02:03:47.943299",
     "status": "completed"
    },
    "tags": []
   },
   "outputs": [],
   "source": [
    "#hide_input\n",
    "import warnings\n",
    "warnings.filterwarnings('ignore')\n",
    "from scripts.read_data import read_api\n",
    "from scripts.read_data import read_news\n",
    "from scripts.read_data import read_covid\n",
    "import matplotlib.pyplot as plt \n",
    "from IPython.display import Markdown as md"
   ]
  },
  {
   "cell_type": "code",
   "execution_count": 2,
   "id": "shared-acceptance",
   "metadata": {
    "execution": {
     "iopub.execute_input": "2022-02-11T02:03:49.501217Z",
     "iopub.status.busy": "2022-02-11T02:03:49.500104Z",
     "iopub.status.idle": "2022-02-11T02:03:57.862658Z",
     "shell.execute_reply": "2022-02-11T02:03:57.861484Z"
    },
    "papermill": {
     "duration": 8.381489,
     "end_time": "2022-02-11T02:03:57.862813",
     "exception": false,
     "start_time": "2022-02-11T02:03:49.481324",
     "status": "completed"
    },
    "tags": []
   },
   "outputs": [],
   "source": [
    "#hide_input\n",
    "blockchain = read_news('blockchain') \n",
    "btc = read_news('btc') \n",
    "xrp = read_news('xrp') \n",
    "trx = read_news('trx') \n",
    "eth = read_news('eth')  \n",
    "ada = read_news('ada')\n",
    "exchange = read_news('exchange') "
   ]
  },
  {
   "cell_type": "code",
   "execution_count": 3,
   "id": "synthetic-notion",
   "metadata": {
    "execution": {
     "iopub.execute_input": "2022-02-11T02:03:57.890947Z",
     "iopub.status.busy": "2022-02-11T02:03:57.890333Z",
     "iopub.status.idle": "2022-02-11T02:03:57.895486Z",
     "shell.execute_reply": "2022-02-11T02:03:57.894976Z"
    },
    "papermill": {
     "duration": 0.021938,
     "end_time": "2022-02-11T02:03:57.895616",
     "exception": false,
     "start_time": "2022-02-11T02:03:57.873678",
     "status": "completed"
    },
    "tags": []
   },
   "outputs": [
    {
     "data": {
      "text/markdown": [
       "- New Cardano Milestone Might Be The Push It Needs To Scale $1.50.  Cardano has been struggling on the charts since its decline that began last year. It has since taken the digital asset below $1, although a recent recovery trend has rectified that. Nevertheless, Cardano is yet to regain at least 50% of its all-time value. With low momentum rocking the cryptocurrency, it has been an uphill battle getting the asset back up to $1.20. Despite the price, the project itself has continued to see progress, and recently, it hit a new milestone. One that could very well be the much-needed put for Cardano to once again reclaim the $1.50 mark. Cardano Surpasses 30 Million Transactions As the adoption of the blockchain has grown, the transaction count has gone up significantly. The total transaction count for the network has now surpassed 30 million. For Cardano, this is an important milestone in the competition between the various smart contracts platform. This milestone comes on the back of IOG, the developer behind Cardano, announcing a new parameter update that helped to increase the block size by another 8KB bringing the total block size to 80KB. With this update, the number of transactions incorporated by the network on a daily basis has gone up greatly. The update was announced on February 1st. Since then, Cardano has incorporated over 895,000 transactions. Related Reading &#124; Cardano (ADA) Forms Local Resistance As It Readies For Another 40% Liftoff There have been a number of updates proposed ... ... [| Skaityti daugiau](https://www.newsbtc.com/analysis/ada/new-cardano-milestone-might-be-the-push-it-needs-to-scale-1-50/) "
      ],
      "text/plain": [
       "<IPython.core.display.Markdown object>"
      ]
     },
     "execution_count": 3,
     "metadata": {},
     "output_type": "execute_result"
    }
   ],
   "source": [
    "#hide_input\n",
    "#md('##### {}'.format(titleBTC)) \n",
    "md(\"- {}{} {}{} [| Skaityti daugiau]({}) \".format(blockchain['title'],'. ', blockchain['body'], ' ...', blockchain['url']))"
   ]
  },
  {
   "cell_type": "code",
   "execution_count": 4,
   "id": "aging-caution",
   "metadata": {
    "execution": {
     "iopub.execute_input": "2022-02-11T02:03:57.923982Z",
     "iopub.status.busy": "2022-02-11T02:03:57.923327Z",
     "iopub.status.idle": "2022-02-11T02:03:57.926204Z",
     "shell.execute_reply": "2022-02-11T02:03:57.926691Z"
    },
    "papermill": {
     "duration": 0.01985,
     "end_time": "2022-02-11T02:03:57.926837",
     "exception": false,
     "start_time": "2022-02-11T02:03:57.906987",
     "status": "completed"
    },
    "tags": []
   },
   "outputs": [
    {
     "data": {
      "text/markdown": [
       "- Here’s How Soon Ethereum Might Target $3600.  Ethereum has been zooming up on its charts over the past few days. In the last seven days, the altcoin posted double-digit gains as it secured a 20% increase in market value. Post the dip, Ethereum along with other major coins have followed similar kinds of price movement. At the time of writing, ETH was valued at $3230.12. Price action was considerably bullish today after weeks of consolidation as displayed by Ethereum. The altcoin toppled over its support level of $3085.60 and was seen hovering around the $3200 price level. Indicators pointed towards a bullish price action with possibilities of ETH moving further on the upside to test its immediate resistance levels. Ethereum Soars By 20% In The Last Week With Bitcoin recovering on its charts, the broader market displayed strength. Major altcoins have also witnessed increased buying strength. In the case of Ethereum, buyers have flocked the market and have also occasionally pushed ETH to an overvalued and overbought territory. Ethereum has breached resistance levels one after the other which has shot up investors&#8217; interest and confidence in the past week. Sustained buying strength could make ETH eye its immediate price ceiling of $3400. ETH has managed to surge 50% since January&#8217;s price dip. Price Analysis: ETH/USD Four-Hour Chart On the four-hour chart, ETH had displayed an upward price action over the past week. At press time, the most popular altcoin was price... ... [| Skaityti daugiau](https://www.newsbtc.com/news/heres-how-soon-ethereum-might-target-3600/) "
      ],
      "text/plain": [
       "<IPython.core.display.Markdown object>"
      ]
     },
     "execution_count": 4,
     "metadata": {},
     "output_type": "execute_result"
    }
   ],
   "source": [
    "#hide_input\n",
    "#md('##### {}'.format(titleBTC)) \n",
    "md(\"- {}{} {}{} [| Skaityti daugiau]({}) \".format(btc['title'],'. ', btc['body'], ' ...', btc['url']))"
   ]
  },
  {
   "cell_type": "code",
   "execution_count": 5,
   "id": "organic-actress",
   "metadata": {
    "execution": {
     "iopub.execute_input": "2022-02-11T02:03:57.956125Z",
     "iopub.status.busy": "2022-02-11T02:03:57.955497Z",
     "iopub.status.idle": "2022-02-11T02:03:57.957810Z",
     "shell.execute_reply": "2022-02-11T02:03:57.958385Z"
    },
    "papermill": {
     "duration": 0.019487,
     "end_time": "2022-02-11T02:03:57.958519",
     "exception": false,
     "start_time": "2022-02-11T02:03:57.939032",
     "status": "completed"
    },
    "tags": []
   },
   "outputs": [
    {
     "data": {
      "text/markdown": [
       "- XRP, Tron, Chiliz Price Analysis: 10 February.  With the global crypto market cap re-entering above the $2T-zone, the gap between XRP&#8217;s EMA ribbons widened. Thus, entailing a heightened bullish vigor. But its near-term technicals gave mixed signs. Besides, Tron and Chiliz saw reversal patterns on their 4-hour charts while forming a bearish divergence with their RSIs. XRP Since losing the $0.083-mark on [&#8230;] ... [| Skaityti daugiau](https://ambcrypto.com/xrp-tron-chiliz-price-analysis-10-february/) "
      ],
      "text/plain": [
       "<IPython.core.display.Markdown object>"
      ]
     },
     "execution_count": 5,
     "metadata": {},
     "output_type": "execute_result"
    }
   ],
   "source": [
    "#hide_input\n",
    "#md('##### {}'.format(titleBTC)) \n",
    "md(\"- {}{} {}{} [| Skaityti daugiau]({}) \".format(xrp['title'],'. ', xrp['body'], ' ...', xrp['url']))"
   ]
  },
  {
   "cell_type": "code",
   "execution_count": 6,
   "id": "prompt-farmer",
   "metadata": {
    "execution": {
     "iopub.execute_input": "2022-02-11T02:03:57.988094Z",
     "iopub.status.busy": "2022-02-11T02:03:57.987492Z",
     "iopub.status.idle": "2022-02-11T02:03:57.991226Z",
     "shell.execute_reply": "2022-02-11T02:03:57.991818Z"
    },
    "papermill": {
     "duration": 0.021492,
     "end_time": "2022-02-11T02:03:57.991953",
     "exception": false,
     "start_time": "2022-02-11T02:03:57.970461",
     "status": "completed"
    },
    "tags": []
   },
   "outputs": [
    {
     "data": {
      "text/markdown": [
       "- XRP, Tron, Chiliz Price Analysis: 10 February.  With the global crypto market cap re-entering above the $2T-zone, the gap between XRP&#8217;s EMA ribbons widened. Thus, entailing a heightened bullish vigor. But its near-term technicals gave mixed signs. Besides, Tron and Chiliz saw reversal patterns on their 4-hour charts while forming a bearish divergence with their RSIs. XRP Since losing the $0.083-mark on [&#8230;] ... [| Skaityti daugiau](https://ambcrypto.com/xrp-tron-chiliz-price-analysis-10-february/) "
      ],
      "text/plain": [
       "<IPython.core.display.Markdown object>"
      ]
     },
     "execution_count": 6,
     "metadata": {},
     "output_type": "execute_result"
    }
   ],
   "source": [
    "#hide_input\n",
    "#md('##### {}'.format(titleBTC)) \n",
    "md(\"- {}{} {}{} [| Skaityti daugiau]({}) \".format(trx['title'],'. ', trx['body'], ' ...', trx['url']))"
   ]
  },
  {
   "cell_type": "code",
   "execution_count": 7,
   "id": "illegal-greece",
   "metadata": {
    "execution": {
     "iopub.execute_input": "2022-02-11T02:03:58.023346Z",
     "iopub.status.busy": "2022-02-11T02:03:58.022672Z",
     "iopub.status.idle": "2022-02-11T02:03:58.026382Z",
     "shell.execute_reply": "2022-02-11T02:03:58.025888Z"
    },
    "papermill": {
     "duration": 0.02146,
     "end_time": "2022-02-11T02:03:58.026503",
     "exception": false,
     "start_time": "2022-02-11T02:03:58.005043",
     "status": "completed"
    },
    "tags": []
   },
   "outputs": [
    {
     "data": {
      "text/markdown": [
       "- Bloomberg: Ethereum Price Levels May Fall Below $2,000.  After the cryptocurrency market collapsed in January, some assets closed the month in the red. This includes Ethereum, the second-largest cryptocurrency by market capitalization, which went below 27% from December. While Ethereum (ETH) has already seen positive returns in February, the potential of a price crash remains. The price of ETH might drop as low as $1,700, according to Bloomberg. Experts believe, however, that Ethereum&#8217;s bullish fundamentals will be preserved. Ethereum May Follow Last Year&#8217;s Price Trend Bloomberg has warned that it is pessimistic on Ethereum (ETH). Bloomberg experts anticipate that Ethereum might fall to as low as $1,700 in their latest Intelligence report. The drop, however, could be followed by an upward correction. According to Bloomberg, Ethereum (ETH) could follow in the footsteps of last year&#8217;s June to September price movement, and fall below current levels to reach the aforementioned price. The report reads: “Ethereum could repeat last summer and revisit about $1,700. Once the weaker leveraged long positions were purged, the resolution was a new high around $4,800 in November. Ethereum approaching the lower end of its range has greater risks for shorts than longs.” Led by senior commodity strategist Mike McGlone, the analysts noted that the ETH market is in a consolidation phase near the end of a bull market. This is evidenced by the fact that the market has benefited both bu... ... [| Skaityti daugiau](https://www.newsbtc.com/news/ethereum/bloomberg-ethereum-price-levels-may-fall-below-2000/) "
      ],
      "text/plain": [
       "<IPython.core.display.Markdown object>"
      ]
     },
     "execution_count": 7,
     "metadata": {},
     "output_type": "execute_result"
    }
   ],
   "source": [
    "#hide_input\n",
    "#md('##### {}'.format(titleBTC)) \n",
    "md(\"- {}{} {}{} [| Skaityti daugiau]({}) \".format(eth['title'],'. ', eth['body'], ' ...', eth['url']))"
   ]
  },
  {
   "cell_type": "code",
   "execution_count": 8,
   "id": "sublime-lounge",
   "metadata": {
    "execution": {
     "iopub.execute_input": "2022-02-11T02:03:58.057562Z",
     "iopub.status.busy": "2022-02-11T02:03:58.056944Z",
     "iopub.status.idle": "2022-02-11T02:03:58.060083Z",
     "shell.execute_reply": "2022-02-11T02:03:58.059485Z"
    },
    "papermill": {
     "duration": 0.021073,
     "end_time": "2022-02-11T02:03:58.060204",
     "exception": false,
     "start_time": "2022-02-11T02:03:58.039131",
     "status": "completed"
    },
    "tags": []
   },
   "outputs": [
    {
     "data": {
      "text/markdown": [
       "- New Cardano Milestone Might Be The Push It Needs To Scale $1.50.  Cardano has been struggling on the charts since its decline that began last year. It has since taken the digital asset below $1, although a recent recovery trend has rectified that. Nevertheless, Cardano is yet to regain at least 50% of its all-time value. With low momentum rocking the cryptocurrency, it has been an uphill battle getting the asset back up to $1.20. Despite the price, the project itself has continued to see progress, and recently, it hit a new milestone. One that could very well be the much-needed put for Cardano to once again reclaim the $1.50 mark. Cardano Surpasses 30 Million Transactions As the adoption of the blockchain has grown, the transaction count has gone up significantly. The total transaction count for the network has now surpassed 30 million. For Cardano, this is an important milestone in the competition between the various smart contracts platform. This milestone comes on the back of IOG, the developer behind Cardano, announcing a new parameter update that helped to increase the block size by another 8KB bringing the total block size to 80KB. With this update, the number of transactions incorporated by the network on a daily basis has gone up greatly. The update was announced on February 1st. Since then, Cardano has incorporated over 895,000 transactions. Related Reading &#124; Cardano (ADA) Forms Local Resistance As It Readies For Another 40% Liftoff There have been a number of updates proposed ... ... [| Skaityti daugiau](https://www.newsbtc.com/analysis/ada/new-cardano-milestone-might-be-the-push-it-needs-to-scale-1-50/) "
      ],
      "text/plain": [
       "<IPython.core.display.Markdown object>"
      ]
     },
     "execution_count": 8,
     "metadata": {},
     "output_type": "execute_result"
    }
   ],
   "source": [
    "#hide_input\n",
    "#md('##### {}'.format(titleBTC)) \n",
    "md(\"- {}{} {}{} [| Skaityti daugiau]({}) \".format(ada['title'],'. ', ada['body'], ' ...', ada['url']))"
   ]
  },
  {
   "cell_type": "code",
   "execution_count": 9,
   "id": "specified-ordering",
   "metadata": {
    "execution": {
     "iopub.execute_input": "2022-02-11T02:03:58.093873Z",
     "iopub.status.busy": "2022-02-11T02:03:58.092853Z",
     "iopub.status.idle": "2022-02-11T02:03:58.095564Z",
     "shell.execute_reply": "2022-02-11T02:03:58.096086Z"
    },
    "papermill": {
     "duration": 0.023188,
     "end_time": "2022-02-11T02:03:58.096270",
     "exception": false,
     "start_time": "2022-02-11T02:03:58.073082",
     "status": "completed"
    },
    "tags": []
   },
   "outputs": [
    {
     "data": {
      "text/markdown": [
       "- Philippines’ PDAX Secures $50 Million For Metaverse Expansion.  The Philippine Digital Asset Exchange or PDAX announced on Thursday the completion of its $50 million Series B funding round headed by Tiger Global. This round was also attended by investors from earlier rounds, including Beenext Ventures and Cadenza Capital Management. Several other financial institutions have also joined as co-investors in this project. These include [&#8230;] ... [| Skaityti daugiau](https://bitcoinist.com/pdax-blasts-into-metaverse-50-million-funding/) "
      ],
      "text/plain": [
       "<IPython.core.display.Markdown object>"
      ]
     },
     "execution_count": 9,
     "metadata": {},
     "output_type": "execute_result"
    }
   ],
   "source": [
    "#hide_input\n",
    "#md('##### {}'.format(titleBTC)) \n",
    "md(\"- {}{} {}{} [| Skaityti daugiau]({}) \".format(exchange['title'],'. ', exchange['body'], ' ...', exchange['url']))"
   ]
  },
  {
   "cell_type": "code",
   "execution_count": null,
   "id": "tender-livestock",
   "metadata": {
    "papermill": {
     "duration": 0.013789,
     "end_time": "2022-02-11T02:03:58.123815",
     "exception": false,
     "start_time": "2022-02-11T02:03:58.110026",
     "status": "completed"
    },
    "tags": []
   },
   "outputs": [],
   "source": []
  },
  {
   "cell_type": "code",
   "execution_count": null,
   "id": "appreciated-diamond",
   "metadata": {
    "papermill": {
     "duration": 0.013493,
     "end_time": "2022-02-11T02:03:58.151770",
     "exception": false,
     "start_time": "2022-02-11T02:03:58.138277",
     "status": "completed"
    },
    "tags": []
   },
   "outputs": [],
   "source": []
  },
  {
   "cell_type": "code",
   "execution_count": null,
   "id": "romance-sweden",
   "metadata": {
    "papermill": {
     "duration": 0.01481,
     "end_time": "2022-02-11T02:03:58.181211",
     "exception": false,
     "start_time": "2022-02-11T02:03:58.166401",
     "status": "completed"
    },
    "tags": []
   },
   "outputs": [],
   "source": []
  },
  {
   "cell_type": "code",
   "execution_count": null,
   "id": "dietary-statistics",
   "metadata": {
    "papermill": {
     "duration": 0.013158,
     "end_time": "2022-02-11T02:03:58.208019",
     "exception": false,
     "start_time": "2022-02-11T02:03:58.194861",
     "status": "completed"
    },
    "tags": []
   },
   "outputs": [],
   "source": []
  }
 ],
 "metadata": {
  "kernelspec": {
   "display_name": "Python 3",
   "language": "python",
   "name": "python3"
  },
  "language_info": {
   "codemirror_mode": {
    "name": "ipython",
    "version": 3
   },
   "file_extension": ".py",
   "mimetype": "text/x-python",
   "name": "python",
   "nbconvert_exporter": "python",
   "pygments_lexer": "ipython3",
   "version": "3.6.15"
  },
  "papermill": {
   "default_parameters": {},
   "duration": 12.123319,
   "end_time": "2022-02-11T02:03:58.741672",
   "environment_variables": {},
   "exception": null,
   "input_path": "Market-News.ipynb",
   "output_path": "Market-News.ipynb",
   "parameters": {},
   "start_time": "2022-02-11T02:03:46.618353",
   "version": "2.2.2"
  }
 },
 "nbformat": 4,
 "nbformat_minor": 5
}