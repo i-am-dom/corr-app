{
 "cells": [
  {
   "cell_type": "markdown",
   "id": "short-greensboro",
   "metadata": {
    "papermill": {
     "duration": 0.015497,
     "end_time": "2022-01-01T02:09:22.200806",
     "exception": false,
     "start_time": "2022-01-01T02:09:22.185309",
     "status": "completed"
    },
    "tags": []
   },
   "source": [
    "# Kriptovaliutų naujienos"
   ]
  },
  {
   "cell_type": "code",
   "execution_count": 1,
   "id": "functioning-knowing",
   "metadata": {
    "execution": {
     "iopub.execute_input": "2022-01-01T02:09:22.235354Z",
     "iopub.status.busy": "2022-01-01T02:09:22.234723Z",
     "iopub.status.idle": "2022-01-01T02:09:23.704987Z",
     "shell.execute_reply": "2022-01-01T02:09:23.704086Z"
    },
    "papermill": {
     "duration": 1.492764,
     "end_time": "2022-01-01T02:09:23.705226",
     "exception": false,
     "start_time": "2022-01-01T02:09:22.212462",
     "status": "completed"
    },
    "tags": []
   },
   "outputs": [],
   "source": [
    "#hide_input\n",
    "import warnings\n",
    "warnings.filterwarnings('ignore')\n",
    "from scripts.read_data import read_api\n",
    "from scripts.read_data import read_news\n",
    "from scripts.read_data import read_covid\n",
    "import matplotlib.pyplot as plt \n",
    "from IPython.display import Markdown as md"
   ]
  },
  {
   "cell_type": "code",
   "execution_count": 2,
   "id": "shared-acceptance",
   "metadata": {
    "execution": {
     "iopub.execute_input": "2022-01-01T02:09:23.739088Z",
     "iopub.status.busy": "2022-01-01T02:09:23.738443Z",
     "iopub.status.idle": "2022-01-01T02:09:35.722546Z",
     "shell.execute_reply": "2022-01-01T02:09:35.721637Z"
    },
    "papermill": {
     "duration": 12.002945,
     "end_time": "2022-01-01T02:09:35.722684",
     "exception": false,
     "start_time": "2022-01-01T02:09:23.719739",
     "status": "completed"
    },
    "tags": []
   },
   "outputs": [],
   "source": [
    "#hide_input\n",
    "blockchain = read_news('blockchain') \n",
    "btc = read_news('btc') \n",
    "xrp = read_news('xrp') \n",
    "trx = read_news('trx') \n",
    "eth = read_news('eth')  \n",
    "ada = read_news('ada')\n",
    "exchange = read_news('exchange') "
   ]
  },
  {
   "cell_type": "code",
   "execution_count": 3,
   "id": "synthetic-notion",
   "metadata": {
    "execution": {
     "iopub.execute_input": "2022-01-01T02:09:35.755266Z",
     "iopub.status.busy": "2022-01-01T02:09:35.754648Z",
     "iopub.status.idle": "2022-01-01T02:09:35.759351Z",
     "shell.execute_reply": "2022-01-01T02:09:35.758874Z"
    },
    "papermill": {
     "duration": 0.023228,
     "end_time": "2022-01-01T02:09:35.759479",
     "exception": false,
     "start_time": "2022-01-01T02:09:35.736251",
     "status": "completed"
    },
    "tags": []
   },
   "outputs": [
    {
     "data": {
      "text/markdown": [
       "- Twitch Co-Founder Justin Kan Launches Gaming-Centric NFT Marketplace Fractal.  The co-founder of Twitch, Justin Kan launched a gaming-centric non-fungible token (NFT) marketplace called Fractal on December 30. Fractal&#x2019;s focus is on NFTs with video game utility and the project launched an NFT collection called &#x201C;Fractals,&#x201D; a 100,000 unique snowflakes that give users benefits while using the primary and secondary NFT marketplace. Twitch Co-Founder Launches [&#8230;] ... [| Skaityti daugiau](https://news.bitcoin.com/twitch-co-founder-justin-kan-launches-gaming-centric-nft-marketplace-fractal/) "
      ],
      "text/plain": [
       "<IPython.core.display.Markdown object>"
      ]
     },
     "execution_count": 3,
     "metadata": {},
     "output_type": "execute_result"
    }
   ],
   "source": [
    "#hide_input\n",
    "#md('##### {}'.format(titleBTC)) \n",
    "md(\"- {}{} {}{} [| Skaityti daugiau]({}) \".format(blockchain['title'],'. ', blockchain['body'], ' ...', blockchain['url']))"
   ]
  },
  {
   "cell_type": "code",
   "execution_count": 4,
   "id": "aging-caution",
   "metadata": {
    "execution": {
     "iopub.execute_input": "2022-01-01T02:09:35.789587Z",
     "iopub.status.busy": "2022-01-01T02:09:35.788529Z",
     "iopub.status.idle": "2022-01-01T02:09:35.794989Z",
     "shell.execute_reply": "2022-01-01T02:09:35.794478Z"
    },
    "papermill": {
     "duration": 0.024861,
     "end_time": "2022-01-01T02:09:35.795113",
     "exception": false,
     "start_time": "2022-01-01T02:09:35.770252",
     "status": "completed"
    },
    "tags": []
   },
   "outputs": [
    {
     "data": {
      "text/markdown": [
       "- Is 2022 The Year Bitcoin Proves Itself On The World Stage?.  While amazing advances came this year, it may be 2022 that Bitcoin truly takes the spotlight. ... [| Skaityti daugiau](https://bitcoinmagazine.com/business/2022-year-bitcoin-proves-itself-world-stage) "
      ],
      "text/plain": [
       "<IPython.core.display.Markdown object>"
      ]
     },
     "execution_count": 4,
     "metadata": {},
     "output_type": "execute_result"
    }
   ],
   "source": [
    "#hide_input\n",
    "#md('##### {}'.format(titleBTC)) \n",
    "md(\"- {}{} {}{} [| Skaityti daugiau]({}) \".format(btc['title'],'. ', btc['body'], ' ...', btc['url']))"
   ]
  },
  {
   "cell_type": "code",
   "execution_count": 5,
   "id": "organic-actress",
   "metadata": {
    "execution": {
     "iopub.execute_input": "2022-01-01T02:09:35.823642Z",
     "iopub.status.busy": "2022-01-01T02:09:35.823011Z",
     "iopub.status.idle": "2022-01-01T02:09:35.825951Z",
     "shell.execute_reply": "2022-01-01T02:09:35.826426Z"
    },
    "papermill": {
     "duration": 0.020557,
     "end_time": "2022-01-01T02:09:35.826566",
     "exception": false,
     "start_time": "2022-01-01T02:09:35.806009",
     "status": "completed"
    },
    "tags": []
   },
   "outputs": [
    {
     "data": {
      "text/markdown": [
       "- XRP whales move several million worth of the token as it struggles near $1.  Today, Whale Alert has indicated several large XRP transactions as the crypto token remains under $1. At the time of writing, XRP maintained a 24-hour range of $0.83 and $0.86 on CoinGecko. Over 300 million XRP on the move With that being said, one of the major transfers was 177,149,680 XRP tokens worth around $149,186,279 [&#8230;] ... [| Skaityti daugiau](https://ambcrypto.com/xrp-whales-move-several-million-worth-of-the-token-as-it-struggles-near-1/) "
      ],
      "text/plain": [
       "<IPython.core.display.Markdown object>"
      ]
     },
     "execution_count": 5,
     "metadata": {},
     "output_type": "execute_result"
    }
   ],
   "source": [
    "#hide_input\n",
    "#md('##### {}'.format(titleBTC)) \n",
    "md(\"- {}{} {}{} [| Skaityti daugiau]({}) \".format(xrp['title'],'. ', xrp['body'], ' ...', xrp['url']))"
   ]
  },
  {
   "cell_type": "code",
   "execution_count": 6,
   "id": "prompt-farmer",
   "metadata": {
    "execution": {
     "iopub.execute_input": "2022-01-01T02:09:35.853417Z",
     "iopub.status.busy": "2022-01-01T02:09:35.852824Z",
     "iopub.status.idle": "2022-01-01T02:09:35.857528Z",
     "shell.execute_reply": "2022-01-01T02:09:35.858035Z"
    },
    "papermill": {
     "duration": 0.020181,
     "end_time": "2022-01-01T02:09:35.858172",
     "exception": false,
     "start_time": "2022-01-01T02:09:35.837991",
     "status": "completed"
    },
    "tags": []
   },
   "outputs": [
    {
     "data": {
      "text/markdown": [
       "- Binance Coin, Tron, EOS Price Analysis: 29 December.  The fear sentiment heightened as Bitcoin re-enters the $47,000 zone. As a result, altcoins like Binance Coin, Tron and EOS saw a blip in their recovery. The aforestated cryptos fell below their 20-50-200 SMA, as the bears evidently displayed their edge. Binance Coin (BNB) Over the past few days, BNB formed a symmetrical broadening wedge [&#8230;] ... [| Skaityti daugiau](https://ambcrypto.com/binance-coin-tron-eos-price-analysis-29-december/) "
      ],
      "text/plain": [
       "<IPython.core.display.Markdown object>"
      ]
     },
     "execution_count": 6,
     "metadata": {},
     "output_type": "execute_result"
    }
   ],
   "source": [
    "#hide_input\n",
    "#md('##### {}'.format(titleBTC)) \n",
    "md(\"- {}{} {}{} [| Skaityti daugiau]({}) \".format(trx['title'],'. ', trx['body'], ' ...', trx['url']))"
   ]
  },
  {
   "cell_type": "code",
   "execution_count": 7,
   "id": "illegal-greece",
   "metadata": {
    "execution": {
     "iopub.execute_input": "2022-01-01T02:09:35.887283Z",
     "iopub.status.busy": "2022-01-01T02:09:35.885588Z",
     "iopub.status.idle": "2022-01-01T02:09:35.892921Z",
     "shell.execute_reply": "2022-01-01T02:09:35.892407Z"
    },
    "papermill": {
     "duration": 0.023189,
     "end_time": "2022-01-01T02:09:35.893042",
     "exception": false,
     "start_time": "2022-01-01T02:09:35.869853",
     "status": "completed"
    },
    "tags": []
   },
   "outputs": [
    {
     "data": {
      "text/markdown": [
       "- Eminem Buys Bored Ape Yacht Club Ethereum NFT for $450K.  The Grammy award-winning rapper now owns an ape that looks a lot like... Eminem. ... [| Skaityti daugiau](https://decrypt.co/89571/eminem-buys-bored-ape-yacht-club-ethereum-nft-for-450k) "
      ],
      "text/plain": [
       "<IPython.core.display.Markdown object>"
      ]
     },
     "execution_count": 7,
     "metadata": {},
     "output_type": "execute_result"
    }
   ],
   "source": [
    "#hide_input\n",
    "#md('##### {}'.format(titleBTC)) \n",
    "md(\"- {}{} {}{} [| Skaityti daugiau]({}) \".format(eth['title'],'. ', eth['body'], ' ...', eth['url']))"
   ]
  },
  {
   "cell_type": "code",
   "execution_count": 8,
   "id": "sublime-lounge",
   "metadata": {
    "execution": {
     "iopub.execute_input": "2022-01-01T02:09:35.924232Z",
     "iopub.status.busy": "2022-01-01T02:09:35.923628Z",
     "iopub.status.idle": "2022-01-01T02:09:35.929601Z",
     "shell.execute_reply": "2022-01-01T02:09:35.929124Z"
    },
    "papermill": {
     "duration": 0.024765,
     "end_time": "2022-01-01T02:09:35.929752",
     "exception": false,
     "start_time": "2022-01-01T02:09:35.904987",
     "status": "completed"
    },
    "tags": []
   },
   "outputs": [
    {
     "data": {
      "text/markdown": [
       "- With The Start of 2022, Here’s What Traders Can Expect For ADA, LINK, DOT, LUNA, & MATIC.  The post With The Start of 2022, Here&#8217;s What Traders Can Expect For ADA, LINK, DOT, LUNA, &#038; MATIC appeared first on Coinpedia - Fintech &amp; Cryptocurreny News Media| Crypto GuideAs the year ends, the crypto market is closing in bearish. BTC has slipped to $46K level and ETH to $3700 level without hopes of recovery. While some analysts believe 2022 will be bullish, others believe the market will bottom out even more going further. As the crypto markets enter the new year, a well-known &#8230; ... [| Skaityti daugiau](https://coinpedia.org/altcoin/with-the-start-of-2022-heres-what-traders-can-expect-for-ada-link-dot-luna-matic/) "
      ],
      "text/plain": [
       "<IPython.core.display.Markdown object>"
      ]
     },
     "execution_count": 8,
     "metadata": {},
     "output_type": "execute_result"
    }
   ],
   "source": [
    "#hide_input\n",
    "#md('##### {}'.format(titleBTC)) \n",
    "md(\"- {}{} {}{} [| Skaityti daugiau]({}) \".format(ada['title'],'. ', ada['body'], ' ...', ada['url']))"
   ]
  },
  {
   "cell_type": "code",
   "execution_count": 9,
   "id": "specified-ordering",
   "metadata": {
    "execution": {
     "iopub.execute_input": "2022-01-01T02:09:35.961070Z",
     "iopub.status.busy": "2022-01-01T02:09:35.960315Z",
     "iopub.status.idle": "2022-01-01T02:09:35.963030Z",
     "shell.execute_reply": "2022-01-01T02:09:35.963496Z"
    },
    "papermill": {
     "duration": 0.021409,
     "end_time": "2022-01-01T02:09:35.963633",
     "exception": false,
     "start_time": "2022-01-01T02:09:35.942224",
     "status": "completed"
    },
    "tags": []
   },
   "outputs": [
    {
     "data": {
      "text/markdown": [
       "- Canadian Regulator Insists Binance Is Unauthorized, Calls the Crypto Exchange’s Letter to Users ‘Unacceptable’.  The Ontario Securities Commission (OSC) claims that Binance has rescinded its commitment to comply with previously agreed requirements. The crypto exchange told the regulator that there would be no new transactions involving Ontario residents after Dec. 31. However, Binance recently informed its Ontario users that they no longer have to close their accounts by year-end. [&#8230;] ... [| Skaityti daugiau](https://news.bitcoin.com/canadian-regulator-binance-unauthorized-crypto-exchanges-letter-to-users-unacceptable/) "
      ],
      "text/plain": [
       "<IPython.core.display.Markdown object>"
      ]
     },
     "execution_count": 9,
     "metadata": {},
     "output_type": "execute_result"
    }
   ],
   "source": [
    "#hide_input\n",
    "#md('##### {}'.format(titleBTC)) \n",
    "md(\"- {}{} {}{} [| Skaityti daugiau]({}) \".format(exchange['title'],'. ', exchange['body'], ' ...', exchange['url']))"
   ]
  },
  {
   "cell_type": "code",
   "execution_count": null,
   "id": "tender-livestock",
   "metadata": {
    "papermill": {
     "duration": 0.012508,
     "end_time": "2022-01-01T02:09:35.988814",
     "exception": false,
     "start_time": "2022-01-01T02:09:35.976306",
     "status": "completed"
    },
    "tags": []
   },
   "outputs": [],
   "source": []
  },
  {
   "cell_type": "code",
   "execution_count": null,
   "id": "appreciated-diamond",
   "metadata": {
    "papermill": {
     "duration": 0.012658,
     "end_time": "2022-01-01T02:09:36.014145",
     "exception": false,
     "start_time": "2022-01-01T02:09:36.001487",
     "status": "completed"
    },
    "tags": []
   },
   "outputs": [],
   "source": []
  },
  {
   "cell_type": "code",
   "execution_count": null,
   "id": "romance-sweden",
   "metadata": {
    "papermill": {
     "duration": 0.012533,
     "end_time": "2022-01-01T02:09:36.039360",
     "exception": false,
     "start_time": "2022-01-01T02:09:36.026827",
     "status": "completed"
    },
    "tags": []
   },
   "outputs": [],
   "source": []
  },
  {
   "cell_type": "code",
   "execution_count": null,
   "id": "dietary-statistics",
   "metadata": {
    "papermill": {
     "duration": 0.012758,
     "end_time": "2022-01-01T02:09:36.064981",
     "exception": false,
     "start_time": "2022-01-01T02:09:36.052223",
     "status": "completed"
    },
    "tags": []
   },
   "outputs": [],
   "source": []
  }
 ],
 "metadata": {
  "kernelspec": {
   "display_name": "Python 3",
   "language": "python",
   "name": "python3"
  },
  "language_info": {
   "codemirror_mode": {
    "name": "ipython",
    "version": 3
   },
   "file_extension": ".py",
   "mimetype": "text/x-python",
   "name": "python",
   "nbconvert_exporter": "python",
   "pygments_lexer": "ipython3",
   "version": "3.6.15"
  },
  "papermill": {
   "default_parameters": {},
   "duration": 15.698526,
   "end_time": "2022-01-01T02:09:36.588877",
   "environment_variables": {},
   "exception": null,
   "input_path": "Market-News.ipynb",
   "output_path": "Market-News.ipynb",
   "parameters": {},
   "start_time": "2022-01-01T02:09:20.890351",
   "version": "2.2.2"
  }
 },
 "nbformat": 4,
 "nbformat_minor": 5
}