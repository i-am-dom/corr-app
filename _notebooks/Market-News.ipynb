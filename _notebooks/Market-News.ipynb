{
 "cells": [
  {
   "cell_type": "markdown",
   "id": "short-greensboro",
   "metadata": {
    "papermill": {
     "duration": 0.019223,
     "end_time": "2021-08-10T02:01:51.303034",
     "exception": false,
     "start_time": "2021-08-10T02:01:51.283811",
     "status": "completed"
    },
    "tags": []
   },
   "source": [
    "# Kriptovaliutų naujienos"
   ]
  },
  {
   "cell_type": "code",
   "execution_count": 1,
   "id": "functioning-knowing",
   "metadata": {
    "execution": {
     "iopub.execute_input": "2021-08-10T02:01:51.337586Z",
     "iopub.status.busy": "2021-08-10T02:01:51.331903Z",
     "iopub.status.idle": "2021-08-10T02:01:52.659380Z",
     "shell.execute_reply": "2021-08-10T02:01:52.659923Z"
    },
    "papermill": {
     "duration": 1.346404,
     "end_time": "2021-08-10T02:01:52.660114",
     "exception": false,
     "start_time": "2021-08-10T02:01:51.313710",
     "status": "completed"
    },
    "tags": []
   },
   "outputs": [],
   "source": [
    "#hide_input\n",
    "import warnings\n",
    "warnings.filterwarnings('ignore')\n",
    "from scripts.read_data import read_api\n",
    "from scripts.read_data import read_news\n",
    "from scripts.read_data import read_covid\n",
    "import matplotlib.pyplot as plt \n",
    "from IPython.display import Markdown as md"
   ]
  },
  {
   "cell_type": "code",
   "execution_count": 2,
   "id": "shared-acceptance",
   "metadata": {
    "execution": {
     "iopub.execute_input": "2021-08-10T02:01:52.688818Z",
     "iopub.status.busy": "2021-08-10T02:01:52.688231Z",
     "iopub.status.idle": "2021-08-10T02:02:01.534806Z",
     "shell.execute_reply": "2021-08-10T02:02:01.534220Z"
    },
    "papermill": {
     "duration": 8.864342,
     "end_time": "2021-08-10T02:02:01.534927",
     "exception": false,
     "start_time": "2021-08-10T02:01:52.670585",
     "status": "completed"
    },
    "tags": []
   },
   "outputs": [],
   "source": [
    "#hide_input\n",
    "blockchain = read_news('blockchain') \n",
    "btc = read_news('btc') \n",
    "xrp = read_news('xrp') \n",
    "trx = read_news('trx') \n",
    "eth = read_news('eth')  \n",
    "ada = read_news('ada')\n",
    "exchange = read_news('exchange') "
   ]
  },
  {
   "cell_type": "code",
   "execution_count": 3,
   "id": "synthetic-notion",
   "metadata": {
    "execution": {
     "iopub.execute_input": "2021-08-10T02:02:01.560763Z",
     "iopub.status.busy": "2021-08-10T02:02:01.560223Z",
     "iopub.status.idle": "2021-08-10T02:02:01.563257Z",
     "shell.execute_reply": "2021-08-10T02:02:01.562757Z"
    },
    "papermill": {
     "duration": 0.01853,
     "end_time": "2021-08-10T02:02:01.563367",
     "exception": false,
     "start_time": "2021-08-10T02:02:01.544837",
     "status": "completed"
    },
    "tags": []
   },
   "outputs": [
    {
     "data": {
      "text/markdown": [
       "- Circle Envisions Becoming a Digital Currency Bank In the U.S..  Blockchain payments infrastructure service provider, Circle has unveiled its vision to become a national digital currency bank in the United States. According to the press release issued by the firm, it has the aim to transform itself into a full-reserve Federal commercial bank, which would operate under the management of U.S. Federal Reserves and other The post Circle Envisions Becoming a Digital Currency Bank In the U.S. appeared first on Coingape. ... [| Skaityti daugiau](https://coingape.com/circle-visions-to-become-a-digital-currency-bank-in-the-u-s/) "
      ],
      "text/plain": [
       "<IPython.core.display.Markdown object>"
      ]
     },
     "execution_count": 3,
     "metadata": {},
     "output_type": "execute_result"
    }
   ],
   "source": [
    "#hide_input\n",
    "#md('##### {}'.format(titleBTC)) \n",
    "md(\"- {}{} {}{} [| Skaityti daugiau]({}) \".format(blockchain['title'],'. ', blockchain['body'], ' ...', blockchain['url']))"
   ]
  },
  {
   "cell_type": "code",
   "execution_count": 4,
   "id": "aging-caution",
   "metadata": {
    "execution": {
     "iopub.execute_input": "2021-08-10T02:02:01.590020Z",
     "iopub.status.busy": "2021-08-10T02:02:01.589198Z",
     "iopub.status.idle": "2021-08-10T02:02:01.592056Z",
     "shell.execute_reply": "2021-08-10T02:02:01.592683Z"
    },
    "papermill": {
     "duration": 0.0193,
     "end_time": "2021-08-10T02:02:01.592845",
     "exception": false,
     "start_time": "2021-08-10T02:02:01.573545",
     "status": "completed"
    },
    "tags": []
   },
   "outputs": [
    {
     "data": {
      "text/markdown": [
       "- Bitcoin vs Gold: Gold’s flash crash has all the ‘finger prints’ of a….  The age-old Bitcoin vs. Gold debate is in the limelight quite often and has picked up again, with Bitcoin&#8217;s recent price action. While Gold’s price crashed and is in negative territory since the start of the year, Bitcoin was up by 50%. Does this reflect on which is the &#8220;better store of value&#8221; arguments? Gold&#8217;s [&#8230;] ... [| Skaityti daugiau](https://ambcrypto.com/bitcoin-vs-gold-golds-flash-crash-has-all-the-finger-prints-of-a/) "
      ],
      "text/plain": [
       "<IPython.core.display.Markdown object>"
      ]
     },
     "execution_count": 4,
     "metadata": {},
     "output_type": "execute_result"
    }
   ],
   "source": [
    "#hide_input\n",
    "#md('##### {}'.format(titleBTC)) \n",
    "md(\"- {}{} {}{} [| Skaityti daugiau]({}) \".format(btc['title'],'. ', btc['body'], ' ...', btc['url']))"
   ]
  },
  {
   "cell_type": "code",
   "execution_count": 5,
   "id": "organic-actress",
   "metadata": {
    "execution": {
     "iopub.execute_input": "2021-08-10T02:02:01.621319Z",
     "iopub.status.busy": "2021-08-10T02:02:01.620364Z",
     "iopub.status.idle": "2021-08-10T02:02:01.624930Z",
     "shell.execute_reply": "2021-08-10T02:02:01.625416Z"
    },
    "papermill": {
     "duration": 0.021969,
     "end_time": "2021-08-10T02:02:01.625547",
     "exception": false,
     "start_time": "2021-08-10T02:02:01.603578",
     "status": "completed"
    },
    "tags": []
   },
   "outputs": [
    {
     "data": {
      "text/markdown": [
       "- Price analysis 8/9: BTC, ETH, BNB, ADA, XRP, DOGE, DOT, UNI, BCH, LINK.  Bitcoin’s break above the 200-day SMA suggests that the downtrend could be over and that may pull buyers back into altcoins. ... [| Skaityti daugiau](https://cointelegraph.com/news/price-analysis-8-9-btc-eth-bnb-ada-xrp-doge-dot-uni-bch-link) "
      ],
      "text/plain": [
       "<IPython.core.display.Markdown object>"
      ]
     },
     "execution_count": 5,
     "metadata": {},
     "output_type": "execute_result"
    }
   ],
   "source": [
    "#hide_input\n",
    "#md('##### {}'.format(titleBTC)) \n",
    "md(\"- {}{} {}{} [| Skaityti daugiau]({}) \".format(xrp['title'],'. ', xrp['body'], ' ...', xrp['url']))"
   ]
  },
  {
   "cell_type": "code",
   "execution_count": 6,
   "id": "prompt-farmer",
   "metadata": {
    "execution": {
     "iopub.execute_input": "2021-08-10T02:02:01.652994Z",
     "iopub.status.busy": "2021-08-10T02:02:01.652407Z",
     "iopub.status.idle": "2021-08-10T02:02:01.656115Z",
     "shell.execute_reply": "2021-08-10T02:02:01.655658Z"
    },
    "papermill": {
     "duration": 0.019453,
     "end_time": "2021-08-10T02:02:01.656229",
     "exception": false,
     "start_time": "2021-08-10T02:02:01.636776",
     "status": "completed"
    },
    "tags": []
   },
   "outputs": [
    {
     "data": {
      "text/markdown": [
       "- TRON, IOTA, SUSHI Price Analysis: 06 August.  After Ethereum&#8217;s price closed above $2,800 following the London hard fork, other alts saw gains over the last 24 hours. The likes of TRX and IOTA hopped above their immediate resistance levels, while SUSHI registered a hike of 8.2%. TRON [TRX] TRX, at press time, showed a bullish streak. Its price stood at $0.070 after [&#8230;] ... [| Skaityti daugiau](https://ambcrypto.com/tron-iota-sushi-price-analysis-06-august/) "
      ],
      "text/plain": [
       "<IPython.core.display.Markdown object>"
      ]
     },
     "execution_count": 6,
     "metadata": {},
     "output_type": "execute_result"
    }
   ],
   "source": [
    "#hide_input\n",
    "#md('##### {}'.format(titleBTC)) \n",
    "md(\"- {}{} {}{} [| Skaityti daugiau]({}) \".format(trx['title'],'. ', trx['body'], ' ...', trx['url']))"
   ]
  },
  {
   "cell_type": "code",
   "execution_count": 7,
   "id": "illegal-greece",
   "metadata": {
    "execution": {
     "iopub.execute_input": "2021-08-10T02:02:01.685098Z",
     "iopub.status.busy": "2021-08-10T02:02:01.683671Z",
     "iopub.status.idle": "2021-08-10T02:02:01.688133Z",
     "shell.execute_reply": "2021-08-10T02:02:01.687634Z"
    },
    "papermill": {
     "duration": 0.01998,
     "end_time": "2021-08-10T02:02:01.688241",
     "exception": false,
     "start_time": "2021-08-10T02:02:01.668261",
     "status": "completed"
    },
    "tags": []
   },
   "outputs": [
    {
     "data": {
      "text/markdown": [
       "- Cardano’s Hoskinson on Ethereum: ‘The network will reach its peak by…’.  Ethereum&#8217;s early developer Charles Hoskinson exited the company years ago and went to create his own blockchain firm, Cardano, and IOHK. Since then, the two communities and their officials have repeatedly engaged in criticizing one another. However, Hoskinson has continued to remain supportive of his brainchild and even its hard forks. In a recent interview, [&#8230;] ... [| Skaityti daugiau](https://ambcrypto.com/cardanos-hoskinson-on-ethereum-the-network-will-reach-its-peak-by/) "
      ],
      "text/plain": [
       "<IPython.core.display.Markdown object>"
      ]
     },
     "execution_count": 7,
     "metadata": {},
     "output_type": "execute_result"
    }
   ],
   "source": [
    "#hide_input\n",
    "#md('##### {}'.format(titleBTC)) \n",
    "md(\"- {}{} {}{} [| Skaityti daugiau]({}) \".format(eth['title'],'. ', eth['body'], ' ...', eth['url']))"
   ]
  },
  {
   "cell_type": "code",
   "execution_count": 8,
   "id": "sublime-lounge",
   "metadata": {
    "execution": {
     "iopub.execute_input": "2021-08-10T02:02:01.716673Z",
     "iopub.status.busy": "2021-08-10T02:02:01.716099Z",
     "iopub.status.idle": "2021-08-10T02:02:01.718552Z",
     "shell.execute_reply": "2021-08-10T02:02:01.719038Z"
    },
    "papermill": {
     "duration": 0.019545,
     "end_time": "2021-08-10T02:02:01.719158",
     "exception": false,
     "start_time": "2021-08-10T02:02:01.699613",
     "status": "completed"
    },
    "tags": []
   },
   "outputs": [
    {
     "data": {
      "text/markdown": [
       "- Cardano’s Hoskinson on Ethereum: ‘The network will reach its peak by…’.  Ethereum&#8217;s early developer Charles Hoskinson exited the company years ago and went to create his own blockchain firm, Cardano, and IOHK. Since then, the two communities and their officials have repeatedly engaged in criticizing one another. However, Hoskinson has continued to remain supportive of his brainchild and even its hard forks. In a recent interview, [&#8230;] ... [| Skaityti daugiau](https://ambcrypto.com/cardanos-hoskinson-on-ethereum-the-network-will-reach-its-peak-by/) "
      ],
      "text/plain": [
       "<IPython.core.display.Markdown object>"
      ]
     },
     "execution_count": 8,
     "metadata": {},
     "output_type": "execute_result"
    }
   ],
   "source": [
    "#hide_input\n",
    "#md('##### {}'.format(titleBTC)) \n",
    "md(\"- {}{} {}{} [| Skaityti daugiau]({}) \".format(ada['title'],'. ', ada['body'], ' ...', ada['url']))"
   ]
  },
  {
   "cell_type": "code",
   "execution_count": 9,
   "id": "specified-ordering",
   "metadata": {
    "execution": {
     "iopub.execute_input": "2021-08-10T02:02:01.748386Z",
     "iopub.status.busy": "2021-08-10T02:02:01.747259Z",
     "iopub.status.idle": "2021-08-10T02:02:01.751676Z",
     "shell.execute_reply": "2021-08-10T02:02:01.751195Z"
    },
    "papermill": {
     "duration": 0.020167,
     "end_time": "2021-08-10T02:02:01.751799",
     "exception": false,
     "start_time": "2021-08-10T02:02:01.731632",
     "status": "completed"
    },
    "tags": []
   },
   "outputs": [
    {
     "data": {
      "text/markdown": [
       "- Italian Scammers Sell Fake COVID-19 Health Passes on Telegram for Cryptocurrency.  The Italian police blocked the illegal activity of local fraudsters who offered fake Green Passes on Telegram in exchange for digital assets. ... [| Skaityti daugiau](https://cryptopotato.com/italian-scammers-sell-fake-covid-19-health-passes-on-telegram-for-cryptocurrency/) "
      ],
      "text/plain": [
       "<IPython.core.display.Markdown object>"
      ]
     },
     "execution_count": 9,
     "metadata": {},
     "output_type": "execute_result"
    }
   ],
   "source": [
    "#hide_input\n",
    "#md('##### {}'.format(titleBTC)) \n",
    "md(\"- {}{} {}{} [| Skaityti daugiau]({}) \".format(exchange['title'],'. ', exchange['body'], ' ...', exchange['url']))"
   ]
  },
  {
   "cell_type": "code",
   "execution_count": null,
   "id": "tender-livestock",
   "metadata": {
    "papermill": {
     "duration": 0.012439,
     "end_time": "2021-08-10T02:02:01.776920",
     "exception": false,
     "start_time": "2021-08-10T02:02:01.764481",
     "status": "completed"
    },
    "tags": []
   },
   "outputs": [],
   "source": []
  },
  {
   "cell_type": "code",
   "execution_count": null,
   "id": "appreciated-diamond",
   "metadata": {
    "papermill": {
     "duration": 0.012519,
     "end_time": "2021-08-10T02:02:01.801589",
     "exception": false,
     "start_time": "2021-08-10T02:02:01.789070",
     "status": "completed"
    },
    "tags": []
   },
   "outputs": [],
   "source": []
  },
  {
   "cell_type": "code",
   "execution_count": null,
   "id": "romance-sweden",
   "metadata": {
    "papermill": {
     "duration": 0.012168,
     "end_time": "2021-08-10T02:02:01.825978",
     "exception": false,
     "start_time": "2021-08-10T02:02:01.813810",
     "status": "completed"
    },
    "tags": []
   },
   "outputs": [],
   "source": []
  },
  {
   "cell_type": "code",
   "execution_count": null,
   "id": "dietary-statistics",
   "metadata": {
    "papermill": {
     "duration": 0.012479,
     "end_time": "2021-08-10T02:02:01.850796",
     "exception": false,
     "start_time": "2021-08-10T02:02:01.838317",
     "status": "completed"
    },
    "tags": []
   },
   "outputs": [],
   "source": []
  }
 ],
 "metadata": {
  "kernelspec": {
   "display_name": "Python 3",
   "language": "python",
   "name": "python3"
  },
  "language_info": {
   "codemirror_mode": {
    "name": "ipython",
    "version": 3
   },
   "file_extension": ".py",
   "mimetype": "text/x-python",
   "name": "python",
   "nbconvert_exporter": "python",
   "pygments_lexer": "ipython3",
   "version": "3.6.14"
  },
  "papermill": {
   "default_parameters": {},
   "duration": 12.0567,
   "end_time": "2021-08-10T02:02:02.272057",
   "environment_variables": {},
   "exception": null,
   "input_path": "Market-News.ipynb",
   "output_path": "Market-News.ipynb",
   "parameters": {},
   "start_time": "2021-08-10T02:01:50.215357",
   "version": "2.2.2"
  }
 },
 "nbformat": 4,
 "nbformat_minor": 5
}