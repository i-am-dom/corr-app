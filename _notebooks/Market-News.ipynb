{
 "cells": [
  {
   "cell_type": "markdown",
   "id": "short-greensboro",
   "metadata": {
    "papermill": {
     "duration": 0.012827,
     "end_time": "2022-03-19T02:13:09.956455",
     "exception": false,
     "start_time": "2022-03-19T02:13:09.943628",
     "status": "completed"
    },
    "tags": []
   },
   "source": [
    "# Kriptovaliutų naujienos"
   ]
  },
  {
   "cell_type": "code",
   "execution_count": 1,
   "id": "functioning-knowing",
   "metadata": {
    "execution": {
     "iopub.execute_input": "2022-03-19T02:13:09.986794Z",
     "iopub.status.busy": "2022-03-19T02:13:09.986249Z",
     "iopub.status.idle": "2022-03-19T02:13:11.309478Z",
     "shell.execute_reply": "2022-03-19T02:13:11.308926Z"
    },
    "papermill": {
     "duration": 1.343388,
     "end_time": "2022-03-19T02:13:11.309644",
     "exception": false,
     "start_time": "2022-03-19T02:13:09.966256",
     "status": "completed"
    },
    "tags": []
   },
   "outputs": [],
   "source": [
    "#hide_input\n",
    "import warnings\n",
    "warnings.filterwarnings('ignore')\n",
    "from scripts.read_data import read_api\n",
    "from scripts.read_data import read_news\n",
    "from scripts.read_data import read_covid\n",
    "import matplotlib.pyplot as plt \n",
    "from IPython.display import Markdown as md"
   ]
  },
  {
   "cell_type": "code",
   "execution_count": 2,
   "id": "shared-acceptance",
   "metadata": {
    "execution": {
     "iopub.execute_input": "2022-03-19T02:13:11.335999Z",
     "iopub.status.busy": "2022-03-19T02:13:11.335414Z",
     "iopub.status.idle": "2022-03-19T02:13:20.574215Z",
     "shell.execute_reply": "2022-03-19T02:13:20.573701Z"
    },
    "papermill": {
     "duration": 9.254939,
     "end_time": "2022-03-19T02:13:20.574344",
     "exception": false,
     "start_time": "2022-03-19T02:13:11.319405",
     "status": "completed"
    },
    "tags": []
   },
   "outputs": [],
   "source": [
    "#hide_input\n",
    "blockchain = read_news('blockchain') \n",
    "btc = read_news('btc') \n",
    "xrp = read_news('xrp') \n",
    "trx = read_news('trx') \n",
    "eth = read_news('eth')  \n",
    "ada = read_news('ada')\n",
    "exchange = read_news('exchange') "
   ]
  },
  {
   "cell_type": "code",
   "execution_count": 3,
   "id": "synthetic-notion",
   "metadata": {
    "execution": {
     "iopub.execute_input": "2022-03-19T02:13:20.599266Z",
     "iopub.status.busy": "2022-03-19T02:13:20.598705Z",
     "iopub.status.idle": "2022-03-19T02:13:20.601093Z",
     "shell.execute_reply": "2022-03-19T02:13:20.601470Z"
    },
    "papermill": {
     "duration": 0.017857,
     "end_time": "2022-03-19T02:13:20.601599",
     "exception": false,
     "start_time": "2022-03-19T02:13:20.583742",
     "status": "completed"
    },
    "tags": []
   },
   "outputs": [
    {
     "data": {
      "text/markdown": [
       "- FairySwap, the First DEX on the Findora Blockchain, Launches on Mainnet.  March 18, 2022 – California City, California With liquidity mining and bridge integration in place, FairySwap is ready to go live. FairySwap is announcing a full-featured mainnet launch that includes support for new trading pools, yield farming and a cross-chain bridge to BNB Chain (formerly Binance Smart Chain). Starting on March 20, 2022, at 0:00 [&#8230;]The post FairySwap, the First DEX on the Findora Blockchain, Launches on Mainnet appeared first on The Daily Hodl. ... [| Skaityti daugiau](https://dailyhodl.com/2022/03/18/fairyswap-the-first-dex-on-the-findora-blockchain-launches-on-mainnet/) "
      ],
      "text/plain": [
       "<IPython.core.display.Markdown object>"
      ]
     },
     "execution_count": 3,
     "metadata": {},
     "output_type": "execute_result"
    }
   ],
   "source": [
    "#hide_input\n",
    "#md('##### {}'.format(titleBTC)) \n",
    "md(\"- {}{} {}{} [| Skaityti daugiau]({}) \".format(blockchain['title'],'. ', blockchain['body'], ' ...', blockchain['url']))"
   ]
  },
  {
   "cell_type": "code",
   "execution_count": 4,
   "id": "aging-caution",
   "metadata": {
    "execution": {
     "iopub.execute_input": "2022-03-19T02:13:20.625191Z",
     "iopub.status.busy": "2022-03-19T02:13:20.624075Z",
     "iopub.status.idle": "2022-03-19T02:13:20.628156Z",
     "shell.execute_reply": "2022-03-19T02:13:20.627726Z"
    },
    "papermill": {
     "duration": 0.0172,
     "end_time": "2022-03-19T02:13:20.628264",
     "exception": false,
     "start_time": "2022-03-19T02:13:20.611064",
     "status": "completed"
    },
    "tags": []
   },
   "outputs": [
    {
     "data": {
      "text/markdown": [
       "- Assessing Bitcoin and the possibility for a full-scale bull run.  Bitcoin price has shown no signs of escaping the consolidation that has been ongoing for roughly two months now. This lack of volatility is getting worse with each passing week and as another week comes to an end, investors can expect a minor uptrend but the long-term outlook remains capped at $45,550. Coiled-up markets rarely [&#8230;] ... [| Skaityti daugiau](https://ambcrypto.com/assessing-bitcoin-and-the-possibility-for-a-full-scale-bull-run/) "
      ],
      "text/plain": [
       "<IPython.core.display.Markdown object>"
      ]
     },
     "execution_count": 4,
     "metadata": {},
     "output_type": "execute_result"
    }
   ],
   "source": [
    "#hide_input\n",
    "#md('##### {}'.format(titleBTC)) \n",
    "md(\"- {}{} {}{} [| Skaityti daugiau]({}) \".format(btc['title'],'. ', btc['body'], ' ...', btc['url']))"
   ]
  },
  {
   "cell_type": "code",
   "execution_count": 5,
   "id": "organic-actress",
   "metadata": {
    "execution": {
     "iopub.execute_input": "2022-03-19T02:13:20.653323Z",
     "iopub.status.busy": "2022-03-19T02:13:20.652715Z",
     "iopub.status.idle": "2022-03-19T02:13:20.654815Z",
     "shell.execute_reply": "2022-03-19T02:13:20.655392Z"
    },
    "papermill": {
     "duration": 0.017455,
     "end_time": "2022-03-19T02:13:20.655538",
     "exception": false,
     "start_time": "2022-03-19T02:13:20.638083",
     "status": "completed"
    },
    "tags": []
   },
   "outputs": [
    {
     "data": {
      "text/markdown": [
       "- New report suggests RippleNet as an alternative to SWIFT for the Arab world.  Ripple, the fintech firm runs its platform, RippleNet, which allows anyone to send and exchange cryptocurrencies or make cross-border transactions. This emerged as a direct competitor to the SWIFT (Society for Worldwide Interbank Financial Telecommunications) banking system. Ripple versus SWIFT Arab Regional Fintech Group report on Central Bank Digital Currencies on 18 March released a [&#8230;] ... [| Skaityti daugiau](https://ambcrypto.com/new-report-suggests-ripplenet-as-an-alternative-to-swift-for-the-arab-world/) "
      ],
      "text/plain": [
       "<IPython.core.display.Markdown object>"
      ]
     },
     "execution_count": 5,
     "metadata": {},
     "output_type": "execute_result"
    }
   ],
   "source": [
    "#hide_input\n",
    "#md('##### {}'.format(titleBTC)) \n",
    "md(\"- {}{} {}{} [| Skaityti daugiau]({}) \".format(xrp['title'],'. ', xrp['body'], ' ...', xrp['url']))"
   ]
  },
  {
   "cell_type": "code",
   "execution_count": 6,
   "id": "prompt-farmer",
   "metadata": {
    "execution": {
     "iopub.execute_input": "2022-03-19T02:13:20.680841Z",
     "iopub.status.busy": "2022-03-19T02:13:20.680254Z",
     "iopub.status.idle": "2022-03-19T02:13:20.682361Z",
     "shell.execute_reply": "2022-03-19T02:13:20.682909Z"
    },
    "papermill": {
     "duration": 0.017496,
     "end_time": "2022-03-19T02:13:20.683074",
     "exception": false,
     "start_time": "2022-03-19T02:13:20.665578",
     "status": "completed"
    },
    "tags": []
   },
   "outputs": [
    {
     "data": {
      "text/markdown": [
       "- What SEC v. Ripple has in common with the allegations against Sun, TRON.  If TRON DAO &#8211; née TRON &#8211; wasn&#8217;t enough of a conversation starter, an investigative piece by journalist Chris Harland-Dunaway published in The Verge dropped a bomb. It accused Tron founder Justin Sun of actions ranging from getting ICO ban tip-offs to insider trading. In a conversation with journalist Laura Shin, Harland-Dunaway revealed more details [&#8230;] ... [| Skaityti daugiau](https://ambcrypto.com/what-sec-v-ripple-has-in-common-with-the-allegations-against-sun-tron/) "
      ],
      "text/plain": [
       "<IPython.core.display.Markdown object>"
      ]
     },
     "execution_count": 6,
     "metadata": {},
     "output_type": "execute_result"
    }
   ],
   "source": [
    "#hide_input\n",
    "#md('##### {}'.format(titleBTC)) \n",
    "md(\"- {}{} {}{} [| Skaityti daugiau]({}) \".format(trx['title'],'. ', trx['body'], ' ...', trx['url']))"
   ]
  },
  {
   "cell_type": "code",
   "execution_count": 7,
   "id": "illegal-greece",
   "metadata": {
    "execution": {
     "iopub.execute_input": "2022-03-19T02:13:20.709541Z",
     "iopub.status.busy": "2022-03-19T02:13:20.709008Z",
     "iopub.status.idle": "2022-03-19T02:13:20.711366Z",
     "shell.execute_reply": "2022-03-19T02:13:20.711799Z"
    },
    "papermill": {
     "duration": 0.017892,
     "end_time": "2022-03-19T02:13:20.711928",
     "exception": false,
     "start_time": "2022-03-19T02:13:20.694036",
     "status": "completed"
    },
    "tags": []
   },
   "outputs": [
    {
     "data": {
      "text/markdown": [
       "- Ethereum Staking Queue Nears All-Time High Ahead Of Mainnet Merge.  Ethereum is well on its way to the Merge as more milestones are met. The move to proof of stake will no doubt be a game-changer for the blockchain. So As the day for the merge draws closer, users of the network have been upping their activity in recent times. One of the places where Ethereum has recorded an uptick has been the staking queue which is now nearing its previous all-time high. Ethereum Staking Queue Crosses 300,000 The Ethereum staking queue is a good indicator of how users of the network are looking at it. When this is low, investors may be more way and not want to stake their coins on the network. However, when this number begins to go up, it signals a number of things for Ethereum, among them, being that users are looking more positively at it. Related Reading &#124; TA: Bitcoin Holds Uptrend Support, What Could Trigger Sharp Decline This queue has been going up in recent times and as of 17th March, has almost reached its previous high. It had previously touched a new high above 330K in June of 2021 when the bull rally had been in full bloom. But the subsequent market downtrend had seen this number come down with it going into the bear trend. Only to begin another recovery in August of the same year. ETH price recovers above $3,900 &#124; Source: ETHUSD on TradingView.com As for 2022, the number had been steadily growing but hadn’t seen any significant boost. This boost came about two weeks into March when the n... ... [| Skaityti daugiau](https://www.newsbtc.com/news/ethereum/ethereum-staking-queue-nears-all-time-high-ahead-of-mainnet-merge/) "
      ],
      "text/plain": [
       "<IPython.core.display.Markdown object>"
      ]
     },
     "execution_count": 7,
     "metadata": {},
     "output_type": "execute_result"
    }
   ],
   "source": [
    "#hide_input\n",
    "#md('##### {}'.format(titleBTC)) \n",
    "md(\"- {}{} {}{} [| Skaityti daugiau]({}) \".format(eth['title'],'. ', eth['body'], ' ...', eth['url']))"
   ]
  },
  {
   "cell_type": "code",
   "execution_count": 8,
   "id": "sublime-lounge",
   "metadata": {
    "execution": {
     "iopub.execute_input": "2022-03-19T02:13:20.738684Z",
     "iopub.status.busy": "2022-03-19T02:13:20.738167Z",
     "iopub.status.idle": "2022-03-19T02:13:20.740939Z",
     "shell.execute_reply": "2022-03-19T02:13:20.740527Z"
    },
    "papermill": {
     "duration": 0.018462,
     "end_time": "2022-03-19T02:13:20.741053",
     "exception": false,
     "start_time": "2022-03-19T02:13:20.722591",
     "status": "completed"
    },
    "tags": []
   },
   "outputs": [
    {
     "data": {
      "text/markdown": [
       "- $ADA Whale Says Cardano TVL Is ‘Going Into the Billions Soon’.  A widely-followed Cardano ($ADA) whale on social media has revealed they believe the total value locked (TVL) on the Cardano blockchain is “going into the billions soon” as more projects are launched on top of it. According to a tweet shared by ADA whale with its over 80,000 followers, they see the Cardano network as […] ... [| Skaityti daugiau](https://www.cryptoglobe.com/latest/2022/03/ada-whale-says-cardano-tvl-is-going-into-the-billions-soon/) "
      ],
      "text/plain": [
       "<IPython.core.display.Markdown object>"
      ]
     },
     "execution_count": 8,
     "metadata": {},
     "output_type": "execute_result"
    }
   ],
   "source": [
    "#hide_input\n",
    "#md('##### {}'.format(titleBTC)) \n",
    "md(\"- {}{} {}{} [| Skaityti daugiau]({}) \".format(ada['title'],'. ', ada['body'], ' ...', ada['url']))"
   ]
  },
  {
   "cell_type": "code",
   "execution_count": 9,
   "id": "specified-ordering",
   "metadata": {
    "execution": {
     "iopub.execute_input": "2022-03-19T02:13:20.768944Z",
     "iopub.status.busy": "2022-03-19T02:13:20.768423Z",
     "iopub.status.idle": "2022-03-19T02:13:20.771084Z",
     "shell.execute_reply": "2022-03-19T02:13:20.770625Z"
    },
    "papermill": {
     "duration": 0.018963,
     "end_time": "2022-03-19T02:13:20.771197",
     "exception": false,
     "start_time": "2022-03-19T02:13:20.752234",
     "status": "completed"
    },
    "tags": []
   },
   "outputs": [
    {
     "data": {
      "text/markdown": [
       "- Colombian Users Sue Binance For Blocking Their Funds.  A Group of users have reported to have their accounts blockced by Binance for about five months. Now, they are taking the case to the courts. ... [| Skaityti daugiau](https://cryptopotato.com/colombian-users-sue-binance-for-blocking-their-funds/) "
      ],
      "text/plain": [
       "<IPython.core.display.Markdown object>"
      ]
     },
     "execution_count": 9,
     "metadata": {},
     "output_type": "execute_result"
    }
   ],
   "source": [
    "#hide_input\n",
    "#md('##### {}'.format(titleBTC)) \n",
    "md(\"- {}{} {}{} [| Skaityti daugiau]({}) \".format(exchange['title'],'. ', exchange['body'], ' ...', exchange['url']))"
   ]
  },
  {
   "cell_type": "code",
   "execution_count": null,
   "id": "tender-livestock",
   "metadata": {
    "papermill": {
     "duration": 0.01174,
     "end_time": "2022-03-19T02:13:20.794350",
     "exception": false,
     "start_time": "2022-03-19T02:13:20.782610",
     "status": "completed"
    },
    "tags": []
   },
   "outputs": [],
   "source": []
  },
  {
   "cell_type": "code",
   "execution_count": null,
   "id": "appreciated-diamond",
   "metadata": {
    "papermill": {
     "duration": 0.011276,
     "end_time": "2022-03-19T02:13:20.817258",
     "exception": false,
     "start_time": "2022-03-19T02:13:20.805982",
     "status": "completed"
    },
    "tags": []
   },
   "outputs": [],
   "source": []
  },
  {
   "cell_type": "code",
   "execution_count": null,
   "id": "romance-sweden",
   "metadata": {
    "papermill": {
     "duration": 0.011275,
     "end_time": "2022-03-19T02:13:20.840895",
     "exception": false,
     "start_time": "2022-03-19T02:13:20.829620",
     "status": "completed"
    },
    "tags": []
   },
   "outputs": [],
   "source": []
  },
  {
   "cell_type": "code",
   "execution_count": null,
   "id": "dietary-statistics",
   "metadata": {
    "papermill": {
     "duration": 0.011215,
     "end_time": "2022-03-19T02:13:20.863416",
     "exception": false,
     "start_time": "2022-03-19T02:13:20.852201",
     "status": "completed"
    },
    "tags": []
   },
   "outputs": [],
   "source": []
  }
 ],
 "metadata": {
  "kernelspec": {
   "display_name": "Python 3",
   "language": "python",
   "name": "python3"
  },
  "language_info": {
   "codemirror_mode": {
    "name": "ipython",
    "version": 3
   },
   "file_extension": ".py",
   "mimetype": "text/x-python",
   "name": "python",
   "nbconvert_exporter": "python",
   "pygments_lexer": "ipython3",
   "version": "3.6.15"
  },
  "papermill": {
   "default_parameters": {},
   "duration": 12.602672,
   "end_time": "2022-03-19T02:13:21.394262",
   "environment_variables": {},
   "exception": null,
   "input_path": "Market-News.ipynb",
   "output_path": "Market-News.ipynb",
   "parameters": {},
   "start_time": "2022-03-19T02:13:08.791590",
   "version": "2.2.2"
  }
 },
 "nbformat": 4,
 "nbformat_minor": 5
}