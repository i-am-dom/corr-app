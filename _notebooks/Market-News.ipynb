{
 "cells": [
  {
   "cell_type": "markdown",
   "id": "short-greensboro",
   "metadata": {
    "papermill": {
     "duration": 0.013066,
     "end_time": "2022-10-20T03:37:05.508128",
     "exception": false,
     "start_time": "2022-10-20T03:37:05.495062",
     "status": "completed"
    },
    "tags": []
   },
   "source": [
    "# Kriptovaliutų naujienos"
   ]
  },
  {
   "cell_type": "code",
   "execution_count": 1,
   "id": "functioning-knowing",
   "metadata": {
    "execution": {
     "iopub.execute_input": "2022-10-20T03:37:05.537358Z",
     "iopub.status.busy": "2022-10-20T03:37:05.536685Z",
     "iopub.status.idle": "2022-10-20T03:37:06.770807Z",
     "shell.execute_reply": "2022-10-20T03:37:06.770259Z"
    },
    "papermill": {
     "duration": 1.2532,
     "end_time": "2022-10-20T03:37:06.770964",
     "exception": false,
     "start_time": "2022-10-20T03:37:05.517764",
     "status": "completed"
    },
    "tags": []
   },
   "outputs": [],
   "source": [
    "#hide_input\n",
    "import warnings\n",
    "warnings.filterwarnings('ignore')\n",
    "from scripts.read_data import read_api\n",
    "from scripts.read_data import read_news\n",
    "from scripts.read_data import read_covid\n",
    "import matplotlib.pyplot as plt \n",
    "from IPython.display import Markdown as md"
   ]
  },
  {
   "cell_type": "code",
   "execution_count": 2,
   "id": "shared-acceptance",
   "metadata": {
    "execution": {
     "iopub.execute_input": "2022-10-20T03:37:06.796095Z",
     "iopub.status.busy": "2022-10-20T03:37:06.795504Z",
     "iopub.status.idle": "2022-10-20T03:37:16.246049Z",
     "shell.execute_reply": "2022-10-20T03:37:16.245457Z"
    },
    "papermill": {
     "duration": 9.465405,
     "end_time": "2022-10-20T03:37:16.246194",
     "exception": false,
     "start_time": "2022-10-20T03:37:06.780789",
     "status": "completed"
    },
    "tags": []
   },
   "outputs": [],
   "source": [
    "#hide_input\n",
    "blockchain = read_news('blockchain') \n",
    "btc = read_news('btc') \n",
    "xrp = read_news('xrp') \n",
    "trx = read_news('trx') \n",
    "eth = read_news('eth')  \n",
    "ada = read_news('ada')\n",
    "exchange = read_news('exchange') "
   ]
  },
  {
   "cell_type": "code",
   "execution_count": 3,
   "id": "synthetic-notion",
   "metadata": {
    "execution": {
     "iopub.execute_input": "2022-10-20T03:37:16.271580Z",
     "iopub.status.busy": "2022-10-20T03:37:16.270960Z",
     "iopub.status.idle": "2022-10-20T03:37:16.274261Z",
     "shell.execute_reply": "2022-10-20T03:37:16.273805Z"
    },
    "papermill": {
     "duration": 0.018694,
     "end_time": "2022-10-20T03:37:16.274377",
     "exception": false,
     "start_time": "2022-10-20T03:37:16.255683",
     "status": "completed"
    },
    "tags": []
   },
   "outputs": [
    {
     "data": {
      "text/markdown": [
       "- $940 Million in Bitcoin Move off Coinbase, Fueling Speculation a Whale Is Accumulating $BTC.  Roughly $940 million worth of the flagship cryptocurrency Bitcoin ($BTC) were suddenly moved off of wallets associated with the Nasdaq-listed cryptocurrency exchange Coinbase, fueling speculation a large player is accumulating funds. According to Bitcoin blockchain data tracked by on-chain analytics firm CryptoQuant, around 48,000 BTC suddenly moved off of wallets associated with Coinbase Pro, Coinbase’s […] ... [| Skaityti daugiau](https://www.cryptoglobe.com/latest/2022/10/940-million-in-bitcoin-move-off-coinbase-fueling-speculation-a-whale-is-accumulating-btc/) "
      ],
      "text/plain": [
       "<IPython.core.display.Markdown object>"
      ]
     },
     "execution_count": 3,
     "metadata": {},
     "output_type": "execute_result"
    }
   ],
   "source": [
    "#hide_input\n",
    "#md('##### {}'.format(titleBTC)) \n",
    "md(\"- {}{} {}{} [| Skaityti daugiau]({}) \".format(blockchain['title'],'. ', blockchain['body'], ' ...', blockchain['url']))"
   ]
  },
  {
   "cell_type": "code",
   "execution_count": 4,
   "id": "aging-caution",
   "metadata": {
    "execution": {
     "iopub.execute_input": "2022-10-20T03:37:16.298396Z",
     "iopub.status.busy": "2022-10-20T03:37:16.297738Z",
     "iopub.status.idle": "2022-10-20T03:37:16.301015Z",
     "shell.execute_reply": "2022-10-20T03:37:16.300515Z"
    },
    "papermill": {
     "duration": 0.017472,
     "end_time": "2022-10-20T03:37:16.301126",
     "exception": false,
     "start_time": "2022-10-20T03:37:16.283654",
     "status": "completed"
    },
    "tags": []
   },
   "outputs": [
    {
     "data": {
      "text/markdown": [
       "- Litecoin (LTC) Price Analysis: Bulls Struggle Below $52.  Litecoin is facing a major resistance near the $52.00 zone against the US Dollar. LTC price is now trading below $52.50 and the 55 simple moving average (4-hours). There is a key bearish trend line forming with resistance near $51.65 on the 4-hours chart of the LTC/USD pair (data feed from Coinbase). The pair could...The post Litecoin (LTC) Price Analysis: Bulls Struggle Below $52 appeared first on Live Bitcoin News. ... [| Skaityti daugiau](https://www.livebitcoinnews.com/litecoin-ltc-price-analysis-bulls-struggle-below-52/) "
      ],
      "text/plain": [
       "<IPython.core.display.Markdown object>"
      ]
     },
     "execution_count": 4,
     "metadata": {},
     "output_type": "execute_result"
    }
   ],
   "source": [
    "#hide_input\n",
    "#md('##### {}'.format(titleBTC)) \n",
    "md(\"- {}{} {}{} [| Skaityti daugiau]({}) \".format(btc['title'],'. ', btc['body'], ' ...', btc['url']))"
   ]
  },
  {
   "cell_type": "code",
   "execution_count": 5,
   "id": "organic-actress",
   "metadata": {
    "execution": {
     "iopub.execute_input": "2022-10-20T03:37:16.325443Z",
     "iopub.status.busy": "2022-10-20T03:37:16.324743Z",
     "iopub.status.idle": "2022-10-20T03:37:16.327338Z",
     "shell.execute_reply": "2022-10-20T03:37:16.327963Z"
    },
    "papermill": {
     "duration": 0.017496,
     "end_time": "2022-10-20T03:37:16.328099",
     "exception": false,
     "start_time": "2022-10-20T03:37:16.310603",
     "status": "completed"
    },
    "tags": []
   },
   "outputs": [
    {
     "data": {
      "text/markdown": [
       "- Insane Prediction! XRP Price Predicted To Hit 5-Digit Target – Here’s Why.  The post Insane Prediction! XRP Price Predicted To Hit 5-Digit Target &#8211; Here&#8217;s Why appeared first on Coinpedia Fintech NewsThere was a bullish trend in XRP that resulted in a 28.46% price increase over the past 30 days. However, if you narrow your focus to just the last week, you&#8217;ll see that prices have fallen by 7.91 percent. That’s why the famous crypto analyst E-firm Smitty also said that he is confident that cryptocurrency &#8230; ... [| Skaityti daugiau](https://coinpedia.org/opinion/insane-prediction-xrp-price-predicted-to-hit-5-digit-target-heres-why/) "
      ],
      "text/plain": [
       "<IPython.core.display.Markdown object>"
      ]
     },
     "execution_count": 5,
     "metadata": {},
     "output_type": "execute_result"
    }
   ],
   "source": [
    "#hide_input\n",
    "#md('##### {}'.format(titleBTC)) \n",
    "md(\"- {}{} {}{} [| Skaityti daugiau]({}) \".format(xrp['title'],'. ', xrp['body'], ' ...', xrp['url']))"
   ]
  },
  {
   "cell_type": "code",
   "execution_count": 6,
   "id": "prompt-farmer",
   "metadata": {
    "execution": {
     "iopub.execute_input": "2022-10-20T03:37:16.352978Z",
     "iopub.status.busy": "2022-10-20T03:37:16.352369Z",
     "iopub.status.idle": "2022-10-20T03:37:16.355825Z",
     "shell.execute_reply": "2022-10-20T03:37:16.355358Z"
    },
    "papermill": {
     "duration": 0.017862,
     "end_time": "2022-10-20T03:37:16.355927",
     "exception": false,
     "start_time": "2022-10-20T03:37:16.338065",
     "status": "completed"
    },
    "tags": []
   },
   "outputs": [
    {
     "data": {
      "text/markdown": [
       "- Tron long-term holders must consider the bear sleep cycle before investing further.  Tron [TRX] recently made headlines as it became the official blockchain of the Republic of Dominica. This news coupled with other positive developments happened to boost TRX’s price in the days that follow. Fast forward to 18 October, TRX, at press time, was trading at $0.06254 with a market capitalization of $5,769,856,228. Not only this, [&#8230;] ... [| Skaityti daugiau](https://ambcrypto.com/tron-long-term-holders-must-consider-the-bear-sleep-cycle-before-investing-further/) "
      ],
      "text/plain": [
       "<IPython.core.display.Markdown object>"
      ]
     },
     "execution_count": 6,
     "metadata": {},
     "output_type": "execute_result"
    }
   ],
   "source": [
    "#hide_input\n",
    "#md('##### {}'.format(titleBTC)) \n",
    "md(\"- {}{} {}{} [| Skaityti daugiau]({}) \".format(trx['title'],'. ', trx['body'], ' ...', trx['url']))"
   ]
  },
  {
   "cell_type": "code",
   "execution_count": 7,
   "id": "illegal-greece",
   "metadata": {
    "execution": {
     "iopub.execute_input": "2022-10-20T03:37:16.381896Z",
     "iopub.status.busy": "2022-10-20T03:37:16.381310Z",
     "iopub.status.idle": "2022-10-20T03:37:16.384750Z",
     "shell.execute_reply": "2022-10-20T03:37:16.384279Z"
    },
    "papermill": {
     "duration": 0.018551,
     "end_time": "2022-10-20T03:37:16.384883",
     "exception": false,
     "start_time": "2022-10-20T03:37:16.366332",
     "status": "completed"
    },
    "tags": []
   },
   "outputs": [
    {
     "data": {
      "text/markdown": [
       "- Tesla Nukes Altcoin Market, Elon Musk Does Damage Control.  The crypto market struggles due to a wide variety of macroeconomic factors. The altcoins market in particular faced a major crisis. Ethereum fell by 2% in the last 24 hours and is trading at $1281. Meanwhile, Cardano and Solana fell by 3% and 5% respectively. The Tesla earnings report was an important reason for the The post Tesla Nukes Altcoin Market, Elon Musk Does Damage Control appeared first on CoinGape. ... [| Skaityti daugiau](https://coingape.com/tesla-nukes-altcoin-market-elon-musk-does-damage-control/) "
      ],
      "text/plain": [
       "<IPython.core.display.Markdown object>"
      ]
     },
     "execution_count": 7,
     "metadata": {},
     "output_type": "execute_result"
    }
   ],
   "source": [
    "#hide_input\n",
    "#md('##### {}'.format(titleBTC)) \n",
    "md(\"- {}{} {}{} [| Skaityti daugiau]({}) \".format(eth['title'],'. ', eth['body'], ' ...', eth['url']))"
   ]
  },
  {
   "cell_type": "code",
   "execution_count": 8,
   "id": "sublime-lounge",
   "metadata": {
    "execution": {
     "iopub.execute_input": "2022-10-20T03:37:16.412063Z",
     "iopub.status.busy": "2022-10-20T03:37:16.411491Z",
     "iopub.status.idle": "2022-10-20T03:37:16.415065Z",
     "shell.execute_reply": "2022-10-20T03:37:16.414599Z"
    },
    "papermill": {
     "duration": 0.018672,
     "end_time": "2022-10-20T03:37:16.415172",
     "exception": false,
     "start_time": "2022-10-20T03:37:16.396500",
     "status": "completed"
    },
    "tags": []
   },
   "outputs": [
    {
     "data": {
      "text/markdown": [
       "- Tesla Nukes Altcoin Market, Elon Musk Does Damage Control.  The crypto market struggles due to a wide variety of macroeconomic factors. The altcoins market in particular faced a major crisis. Ethereum fell by 2% in the last 24 hours and is trading at $1281. Meanwhile, Cardano and Solana fell by 3% and 5% respectively. The Tesla earnings report was an important reason for the The post Tesla Nukes Altcoin Market, Elon Musk Does Damage Control appeared first on CoinGape. ... [| Skaityti daugiau](https://coingape.com/tesla-nukes-altcoin-market-elon-musk-does-damage-control/) "
      ],
      "text/plain": [
       "<IPython.core.display.Markdown object>"
      ]
     },
     "execution_count": 8,
     "metadata": {},
     "output_type": "execute_result"
    }
   ],
   "source": [
    "#hide_input\n",
    "#md('##### {}'.format(titleBTC)) \n",
    "md(\"- {}{} {}{} [| Skaityti daugiau]({}) \".format(ada['title'],'. ', ada['body'], ' ...', ada['url']))"
   ]
  },
  {
   "cell_type": "code",
   "execution_count": 9,
   "id": "specified-ordering",
   "metadata": {
    "execution": {
     "iopub.execute_input": "2022-10-20T03:37:16.441434Z",
     "iopub.status.busy": "2022-10-20T03:37:16.440822Z",
     "iopub.status.idle": "2022-10-20T03:37:16.444586Z",
     "shell.execute_reply": "2022-10-20T03:37:16.444118Z"
    },
    "papermill": {
     "duration": 0.018803,
     "end_time": "2022-10-20T03:37:16.444689",
     "exception": false,
     "start_time": "2022-10-20T03:37:16.425886",
     "status": "completed"
    },
    "tags": []
   },
   "outputs": [
    {
     "data": {
      "text/markdown": [
       "- Binance Coin [BNB] offers an attractive buying opportunity here.  Disclaimer: The information presented does not constitute financial, investment, trading, or other types of advice and is solely the writer’s opinion. Binance Coin saw a sharp rejection at $300 earlier in October The price has since seen some bullish reaction at the $260 area Binance Coin approached an important support zone on the price charts. [&#8230;] ... [| Skaityti daugiau](https://ambcrypto.com/binance-coin-bnb-offers-an-attractive-buying-opportunity-here/) "
      ],
      "text/plain": [
       "<IPython.core.display.Markdown object>"
      ]
     },
     "execution_count": 9,
     "metadata": {},
     "output_type": "execute_result"
    }
   ],
   "source": [
    "#hide_input\n",
    "#md('##### {}'.format(titleBTC)) \n",
    "md(\"- {}{} {}{} [| Skaityti daugiau]({}) \".format(exchange['title'],'. ', exchange['body'], ' ...', exchange['url']))"
   ]
  },
  {
   "cell_type": "code",
   "execution_count": null,
   "id": "tender-livestock",
   "metadata": {
    "papermill": {
     "duration": 0.011037,
     "end_time": "2022-10-20T03:37:16.466781",
     "exception": false,
     "start_time": "2022-10-20T03:37:16.455744",
     "status": "completed"
    },
    "tags": []
   },
   "outputs": [],
   "source": []
  },
  {
   "cell_type": "code",
   "execution_count": null,
   "id": "appreciated-diamond",
   "metadata": {
    "papermill": {
     "duration": 0.010988,
     "end_time": "2022-10-20T03:37:16.489043",
     "exception": false,
     "start_time": "2022-10-20T03:37:16.478055",
     "status": "completed"
    },
    "tags": []
   },
   "outputs": [],
   "source": []
  },
  {
   "cell_type": "code",
   "execution_count": null,
   "id": "romance-sweden",
   "metadata": {
    "papermill": {
     "duration": 0.010952,
     "end_time": "2022-10-20T03:37:16.510994",
     "exception": false,
     "start_time": "2022-10-20T03:37:16.500042",
     "status": "completed"
    },
    "tags": []
   },
   "outputs": [],
   "source": []
  },
  {
   "cell_type": "code",
   "execution_count": null,
   "id": "dietary-statistics",
   "metadata": {
    "papermill": {
     "duration": 0.011032,
     "end_time": "2022-10-20T03:37:16.533123",
     "exception": false,
     "start_time": "2022-10-20T03:37:16.522091",
     "status": "completed"
    },
    "tags": []
   },
   "outputs": [],
   "source": []
  }
 ],
 "metadata": {
  "kernelspec": {
   "display_name": "Python 3",
   "language": "python",
   "name": "python3"
  },
  "language_info": {
   "codemirror_mode": {
    "name": "ipython",
    "version": 3
   },
   "file_extension": ".py",
   "mimetype": "text/x-python",
   "name": "python",
   "nbconvert_exporter": "python",
   "pygments_lexer": "ipython3",
   "version": "3.6.15"
  },
  "papermill": {
   "default_parameters": {},
   "duration": 12.491145,
   "end_time": "2022-10-20T03:37:17.063716",
   "environment_variables": {},
   "exception": null,
   "input_path": "Market-News.ipynb",
   "output_path": "Market-News.ipynb",
   "parameters": {},
   "start_time": "2022-10-20T03:37:04.572571",
   "version": "2.2.2"
  }
 },
 "nbformat": 4,
 "nbformat_minor": 5
}