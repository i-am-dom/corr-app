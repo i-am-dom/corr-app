{
 "cells": [
  {
   "cell_type": "markdown",
   "id": "short-greensboro",
   "metadata": {
    "papermill": {
     "duration": 0.015358,
     "end_time": "2021-09-19T02:02:14.602375",
     "exception": false,
     "start_time": "2021-09-19T02:02:14.587017",
     "status": "completed"
    },
    "tags": []
   },
   "source": [
    "# Kriptovaliutų naujienos"
   ]
  },
  {
   "cell_type": "code",
   "execution_count": 1,
   "id": "functioning-knowing",
   "metadata": {
    "execution": {
     "iopub.execute_input": "2021-09-19T02:02:14.636558Z",
     "iopub.status.busy": "2021-09-19T02:02:14.635838Z",
     "iopub.status.idle": "2021-09-19T02:02:16.029787Z",
     "shell.execute_reply": "2021-09-19T02:02:16.029030Z"
    },
    "papermill": {
     "duration": 1.416171,
     "end_time": "2021-09-19T02:02:16.029983",
     "exception": false,
     "start_time": "2021-09-19T02:02:14.613812",
     "status": "completed"
    },
    "tags": []
   },
   "outputs": [],
   "source": [
    "#hide_input\n",
    "import warnings\n",
    "warnings.filterwarnings('ignore')\n",
    "from scripts.read_data import read_api\n",
    "from scripts.read_data import read_news\n",
    "from scripts.read_data import read_covid\n",
    "import matplotlib.pyplot as plt \n",
    "from IPython.display import Markdown as md"
   ]
  },
  {
   "cell_type": "code",
   "execution_count": 2,
   "id": "shared-acceptance",
   "metadata": {
    "execution": {
     "iopub.execute_input": "2021-09-19T02:02:16.063987Z",
     "iopub.status.busy": "2021-09-19T02:02:16.063342Z",
     "iopub.status.idle": "2021-09-19T02:02:24.740684Z",
     "shell.execute_reply": "2021-09-19T02:02:24.741175Z"
    },
    "papermill": {
     "duration": 8.699139,
     "end_time": "2021-09-19T02:02:24.741340",
     "exception": false,
     "start_time": "2021-09-19T02:02:16.042201",
     "status": "completed"
    },
    "tags": []
   },
   "outputs": [],
   "source": [
    "#hide_input\n",
    "blockchain = read_news('blockchain') \n",
    "btc = read_news('btc') \n",
    "xrp = read_news('xrp') \n",
    "trx = read_news('trx') \n",
    "eth = read_news('eth')  \n",
    "ada = read_news('ada')\n",
    "exchange = read_news('exchange') "
   ]
  },
  {
   "cell_type": "code",
   "execution_count": 3,
   "id": "synthetic-notion",
   "metadata": {
    "execution": {
     "iopub.execute_input": "2021-09-19T02:02:24.772513Z",
     "iopub.status.busy": "2021-09-19T02:02:24.771852Z",
     "iopub.status.idle": "2021-09-19T02:02:24.775009Z",
     "shell.execute_reply": "2021-09-19T02:02:24.775524Z"
    },
    "papermill": {
     "duration": 0.021779,
     "end_time": "2021-09-19T02:02:24.775664",
     "exception": false,
     "start_time": "2021-09-19T02:02:24.753885",
     "status": "completed"
    },
    "tags": []
   },
   "outputs": [
    {
     "data": {
      "text/markdown": [
       "- Telcoin Price Prediction 2021-2028.   Despite the impediments in the crypto sphere, optimism among cryptocurrency traders and enthusiasts has unwaveringly grown. Blockchain technology has been instrumental in developing novel financial solutions aimed at resolving primary everyday difficulties, and more than ever before, the demand for cryptocurrency innovations is on the uprise. Telcoin (TEL) is one of these financial products seeking to transform global remittances. Telcoin (TEL) was created in 2017 by Claude Eguienta and Paul Neuner, and its core mandate is to create a bridge between the crypto space and fiat currencies with the aid of the blockchain. Telcoin Pte. Ltd. is situated in Singapore and boasts a diverse and competent team in Japan, Tokyo. What is Telcoin? Telcoin is a decentralized cryptocurrency and remittance system built on Ethereum. It was designed to make worldwide money transfers easier by integrating blockchain and the telecom industry. Telcoin aims to take over the remittance market, currently dominated by Western Union (WU) and other competitors, by partnering with worldwide telecom enterprises, mobile money platforms, and billing platforms to provide consumers with instantaneous and low-cost digital remittances via a mobile platform and secure wallet. Telcoin leverages the best features of the Ethereum blockchain to achieve its goal. It relies on Proof of Concept (PoC) rather than traditional validators to verify consistency in transaction... ... [| Skaityti daugiau](https://api.follow.it/track-rss-story-click/v3/tHfgumto13AF8Cuv61bM1R-xWH3zZqEA) "
      ],
      "text/plain": [
       "<IPython.core.display.Markdown object>"
      ]
     },
     "execution_count": 3,
     "metadata": {},
     "output_type": "execute_result"
    }
   ],
   "source": [
    "#hide_input\n",
    "#md('##### {}'.format(titleBTC)) \n",
    "md(\"- {}{} {}{} [| Skaityti daugiau]({}) \".format(blockchain['title'],'. ', blockchain['body'], ' ...', blockchain['url']))"
   ]
  },
  {
   "cell_type": "code",
   "execution_count": 4,
   "id": "aging-caution",
   "metadata": {
    "execution": {
     "iopub.execute_input": "2021-09-19T02:02:24.802890Z",
     "iopub.status.busy": "2021-09-19T02:02:24.802299Z",
     "iopub.status.idle": "2021-09-19T02:02:24.805639Z",
     "shell.execute_reply": "2021-09-19T02:02:24.805131Z"
    },
    "papermill": {
     "duration": 0.01905,
     "end_time": "2021-09-19T02:02:24.805757",
     "exception": false,
     "start_time": "2021-09-19T02:02:24.786707",
     "status": "completed"
    },
    "tags": []
   },
   "outputs": [
    {
     "data": {
      "text/markdown": [
       "- National Bitcoin Adoption Could Drive A $1 Million Bitcoin Price.  With several governments adopting bitcoin, it is only a matter of time for the price to reflect the bullish sentiment. ... [| Skaityti daugiau](https://bitcoinmagazine.com/business/nation-states-adopting-bitcoin-price) "
      ],
      "text/plain": [
       "<IPython.core.display.Markdown object>"
      ]
     },
     "execution_count": 4,
     "metadata": {},
     "output_type": "execute_result"
    }
   ],
   "source": [
    "#hide_input\n",
    "#md('##### {}'.format(titleBTC)) \n",
    "md(\"- {}{} {}{} [| Skaityti daugiau]({}) \".format(btc['title'],'. ', btc['body'], ' ...', btc['url']))"
   ]
  },
  {
   "cell_type": "code",
   "execution_count": 5,
   "id": "organic-actress",
   "metadata": {
    "execution": {
     "iopub.execute_input": "2021-09-19T02:02:24.832610Z",
     "iopub.status.busy": "2021-09-19T02:02:24.831420Z",
     "iopub.status.idle": "2021-09-19T02:02:24.835715Z",
     "shell.execute_reply": "2021-09-19T02:02:24.835246Z"
    },
    "papermill": {
     "duration": 0.019246,
     "end_time": "2021-09-19T02:02:24.835838",
     "exception": false,
     "start_time": "2021-09-19T02:02:24.816592",
     "status": "completed"
    },
    "tags": []
   },
   "outputs": [
    {
     "data": {
      "text/markdown": [
       "- XRP Price Analysis: XRP Consolidates Above $1 For The Longest Time In History, What’s Next?.  XRP has been flat over the last week with prices down -1% XRP Price has been forming a descending channel 300 MA is acting as support XRP price has had a wild run over the last year as the SEC lawsuit has put many dampers in the price. Despite this lawsuit still pending, XRP has The post XRP Price Analysis: XRP Consolidates Above $1 For The Longest Time In History, What&#8217;s Next? appeared first on Coingape. ... [| Skaityti daugiau](https://coingape.com/xrp-consolidates-above-1-for-the-longest-time-in-history/) "
      ],
      "text/plain": [
       "<IPython.core.display.Markdown object>"
      ]
     },
     "execution_count": 5,
     "metadata": {},
     "output_type": "execute_result"
    }
   ],
   "source": [
    "#hide_input\n",
    "#md('##### {}'.format(titleBTC)) \n",
    "md(\"- {}{} {}{} [| Skaityti daugiau]({}) \".format(xrp['title'],'. ', xrp['body'], ' ...', xrp['url']))"
   ]
  },
  {
   "cell_type": "code",
   "execution_count": 6,
   "id": "prompt-farmer",
   "metadata": {
    "execution": {
     "iopub.execute_input": "2021-09-19T02:02:24.863545Z",
     "iopub.status.busy": "2021-09-19T02:02:24.862922Z",
     "iopub.status.idle": "2021-09-19T02:02:24.866398Z",
     "shell.execute_reply": "2021-09-19T02:02:24.866862Z"
    },
    "papermill": {
     "duration": 0.019834,
     "end_time": "2021-09-19T02:02:24.867000",
     "exception": false,
     "start_time": "2021-09-19T02:02:24.847166",
     "status": "completed"
    },
    "tags": []
   },
   "outputs": [
    {
     "data": {
      "text/markdown": [
       "- TRON price analysis: Tron under pressure as TRX/USD descends to $0.12.   TL;DR Breakdown TRON price analysis shows the cryptocurrency is undergoing bearish stress.Price has lowered up to $0.12 today.Support level is fixed at $0.1 currently. The TRON price analysis is going bearish as the trends have undergone an unexpected reversal. The successive bullish streak has been broken today because of the bearish pressure, and the price has undergone a reduction up to $0.118. This downtrend has been quite surprising for the experts as the market was expecting the price to bounce above $0.121 resistance. Yet, the bears have taken their position on today&#8217;s price chart as per the analysis.  TRX/USD 1-day price chart: Green candlestick elongates enough to pierce through $0.11 The 24-hours TRX price chart for TRON price analysis is showing that a bullish activity is taking place today as the price has increased up to $0.12. Although in the past few days, the bears have tried to exert pressure as well which has been successfully overpowered by the bulls. The bullish momentum has been quite high today, as the Moving Average (MA) value is present way below the current price value i.e. at $0.099. The short-term trending line is also going in the upwards direction, thus confirming the bullish trend. TRX/USD 1-day price chart. Source: TradingView The bulls have been reigning the entire day, which is why the Bollinger bands average is at 0.096. The upper band is showing the value of $0.114 whereas the lower ba... ... [| Skaityti daugiau](https://api.follow.it/track-rss-story-click/v3/tHfgumto13Ape6xjcp_xAhtLdxSOwF-n) "
      ],
      "text/plain": [
       "<IPython.core.display.Markdown object>"
      ]
     },
     "execution_count": 6,
     "metadata": {},
     "output_type": "execute_result"
    }
   ],
   "source": [
    "#hide_input\n",
    "#md('##### {}'.format(titleBTC)) \n",
    "md(\"- {}{} {}{} [| Skaityti daugiau]({}) \".format(trx['title'],'. ', trx['body'], ' ...', trx['url']))"
   ]
  },
  {
   "cell_type": "code",
   "execution_count": 7,
   "id": "illegal-greece",
   "metadata": {
    "execution": {
     "iopub.execute_input": "2021-09-19T02:02:24.897481Z",
     "iopub.status.busy": "2021-09-19T02:02:24.896874Z",
     "iopub.status.idle": "2021-09-19T02:02:24.899134Z",
     "shell.execute_reply": "2021-09-19T02:02:24.899612Z"
    },
    "papermill": {
     "duration": 0.021043,
     "end_time": "2021-09-19T02:02:24.899784",
     "exception": false,
     "start_time": "2021-09-19T02:02:24.878741",
     "status": "completed"
    },
    "tags": []
   },
   "outputs": [
    {
     "data": {
      "text/markdown": [
       "- Telcoin Price Prediction 2021-2028.   Despite the impediments in the crypto sphere, optimism among cryptocurrency traders and enthusiasts has unwaveringly grown. Blockchain technology has been instrumental in developing novel financial solutions aimed at resolving primary everyday difficulties, and more than ever before, the demand for cryptocurrency innovations is on the uprise. Telcoin (TEL) is one of these financial products seeking to transform global remittances. Telcoin (TEL) was created in 2017 by Claude Eguienta and Paul Neuner, and its core mandate is to create a bridge between the crypto space and fiat currencies with the aid of the blockchain. Telcoin Pte. Ltd. is situated in Singapore and boasts a diverse and competent team in Japan, Tokyo. What is Telcoin? Telcoin is a decentralized cryptocurrency and remittance system built on Ethereum. It was designed to make worldwide money transfers easier by integrating blockchain and the telecom industry. Telcoin aims to take over the remittance market, currently dominated by Western Union (WU) and other competitors, by partnering with worldwide telecom enterprises, mobile money platforms, and billing platforms to provide consumers with instantaneous and low-cost digital remittances via a mobile platform and secure wallet. Telcoin leverages the best features of the Ethereum blockchain to achieve its goal. It relies on Proof of Concept (PoC) rather than traditional validators to verify consistency in transaction... ... [| Skaityti daugiau](https://api.follow.it/track-rss-story-click/v3/tHfgumto13AF8Cuv61bM1R-xWH3zZqEA) "
      ],
      "text/plain": [
       "<IPython.core.display.Markdown object>"
      ]
     },
     "execution_count": 7,
     "metadata": {},
     "output_type": "execute_result"
    }
   ],
   "source": [
    "#hide_input\n",
    "#md('##### {}'.format(titleBTC)) \n",
    "md(\"- {}{} {}{} [| Skaityti daugiau]({}) \".format(eth['title'],'. ', eth['body'], ' ...', eth['url']))"
   ]
  },
  {
   "cell_type": "code",
   "execution_count": 8,
   "id": "sublime-lounge",
   "metadata": {
    "execution": {
     "iopub.execute_input": "2021-09-19T02:02:24.929828Z",
     "iopub.status.busy": "2021-09-19T02:02:24.929207Z",
     "iopub.status.idle": "2021-09-19T02:02:24.932223Z",
     "shell.execute_reply": "2021-09-19T02:02:24.931650Z"
    },
    "papermill": {
     "duration": 0.020228,
     "end_time": "2021-09-19T02:02:24.932341",
     "exception": false,
     "start_time": "2021-09-19T02:02:24.912113",
     "status": "completed"
    },
    "tags": []
   },
   "outputs": [
    {
     "data": {
      "text/markdown": [
       "- Cardano price dips after smart contract launch, Walmart working with Litecoin is fake news, Coinbase raises $2B from junk-bond sale: Hodler’s Digest, Sept. 12-18.   ... [| Skaityti daugiau](https://cointelegraph.com/magazine/2021/09/18/cardano-price-smart-contract-launch-walmart-litecoin-fake-news-coinbase-raises-2b-junk-bond-sale-hodlers-digest-sept-12-18) "
      ],
      "text/plain": [
       "<IPython.core.display.Markdown object>"
      ]
     },
     "execution_count": 8,
     "metadata": {},
     "output_type": "execute_result"
    }
   ],
   "source": [
    "#hide_input\n",
    "#md('##### {}'.format(titleBTC)) \n",
    "md(\"- {}{} {}{} [| Skaityti daugiau]({}) \".format(ada['title'],'. ', ada['body'], ' ...', ada['url']))"
   ]
  },
  {
   "cell_type": "code",
   "execution_count": 9,
   "id": "specified-ordering",
   "metadata": {
    "execution": {
     "iopub.execute_input": "2021-09-19T02:02:24.962981Z",
     "iopub.status.busy": "2021-09-19T02:02:24.962400Z",
     "iopub.status.idle": "2021-09-19T02:02:24.968682Z",
     "shell.execute_reply": "2021-09-19T02:02:24.968184Z"
    },
    "papermill": {
     "duration": 0.023293,
     "end_time": "2021-09-19T02:02:24.968806",
     "exception": false,
     "start_time": "2021-09-19T02:02:24.945513",
     "status": "completed"
    },
    "tags": []
   },
   "outputs": [
    {
     "data": {
      "text/markdown": [
       "- Former Binance.US CEO Brooks On Crypto – “We Should Be A $15 Trillion Industry”.  Former Binance.US C.E.O Brian Brooks is confident that crypto could be a $15 trillion industry sooner than expected given recent adoption trends by key market players. Speaking on Tuesday, save for interesting things that have to do with crypto companies, the former C.E.O noted the huge number of “suits” in the now-concluded SALT conference. He [&#8230;] ... [| Skaityti daugiau](https://zycrypto.com/former-binance-us-ceo-brooks-on-crypto-we-should-be-a-15-trillion-industry/) "
      ],
      "text/plain": [
       "<IPython.core.display.Markdown object>"
      ]
     },
     "execution_count": 9,
     "metadata": {},
     "output_type": "execute_result"
    }
   ],
   "source": [
    "#hide_input\n",
    "#md('##### {}'.format(titleBTC)) \n",
    "md(\"- {}{} {}{} [| Skaityti daugiau]({}) \".format(exchange['title'],'. ', exchange['body'], ' ...', exchange['url']))"
   ]
  },
  {
   "cell_type": "code",
   "execution_count": null,
   "id": "tender-livestock",
   "metadata": {
    "papermill": {
     "duration": 0.013427,
     "end_time": "2021-09-19T02:02:24.996179",
     "exception": false,
     "start_time": "2021-09-19T02:02:24.982752",
     "status": "completed"
    },
    "tags": []
   },
   "outputs": [],
   "source": []
  },
  {
   "cell_type": "code",
   "execution_count": null,
   "id": "appreciated-diamond",
   "metadata": {
    "papermill": {
     "duration": 0.012786,
     "end_time": "2021-09-19T02:02:25.021906",
     "exception": false,
     "start_time": "2021-09-19T02:02:25.009120",
     "status": "completed"
    },
    "tags": []
   },
   "outputs": [],
   "source": []
  },
  {
   "cell_type": "code",
   "execution_count": null,
   "id": "romance-sweden",
   "metadata": {
    "papermill": {
     "duration": 0.012779,
     "end_time": "2021-09-19T02:02:25.047474",
     "exception": false,
     "start_time": "2021-09-19T02:02:25.034695",
     "status": "completed"
    },
    "tags": []
   },
   "outputs": [],
   "source": []
  },
  {
   "cell_type": "code",
   "execution_count": null,
   "id": "dietary-statistics",
   "metadata": {
    "papermill": {
     "duration": 0.013773,
     "end_time": "2021-09-19T02:02:25.073945",
     "exception": false,
     "start_time": "2021-09-19T02:02:25.060172",
     "status": "completed"
    },
    "tags": []
   },
   "outputs": [],
   "source": []
  }
 ],
 "metadata": {
  "kernelspec": {
   "display_name": "Python 3",
   "language": "python",
   "name": "python3"
  },
  "language_info": {
   "codemirror_mode": {
    "name": "ipython",
    "version": 3
   },
   "file_extension": ".py",
   "mimetype": "text/x-python",
   "name": "python",
   "nbconvert_exporter": "python",
   "pygments_lexer": "ipython3",
   "version": "3.6.15"
  },
  "papermill": {
   "default_parameters": {},
   "duration": 12.110927,
   "end_time": "2021-09-19T02:02:25.598060",
   "environment_variables": {},
   "exception": null,
   "input_path": "Market-News.ipynb",
   "output_path": "Market-News.ipynb",
   "parameters": {},
   "start_time": "2021-09-19T02:02:13.487133",
   "version": "2.2.2"
  }
 },
 "nbformat": 4,
 "nbformat_minor": 5
}