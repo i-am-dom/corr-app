{
 "cells": [
  {
   "cell_type": "markdown",
   "id": "short-greensboro",
   "metadata": {
    "papermill": {
     "duration": 0.015057,
     "end_time": "2022-09-25T03:41:43.856434",
     "exception": false,
     "start_time": "2022-09-25T03:41:43.841377",
     "status": "completed"
    },
    "tags": []
   },
   "source": [
    "# Kriptovaliutų naujienos"
   ]
  },
  {
   "cell_type": "code",
   "execution_count": 1,
   "id": "functioning-knowing",
   "metadata": {
    "execution": {
     "iopub.execute_input": "2022-09-25T03:41:43.891615Z",
     "iopub.status.busy": "2022-09-25T03:41:43.890876Z",
     "iopub.status.idle": "2022-09-25T03:41:45.352240Z",
     "shell.execute_reply": "2022-09-25T03:41:45.351455Z"
    },
    "papermill": {
     "duration": 1.483781,
     "end_time": "2022-09-25T03:41:45.352401",
     "exception": false,
     "start_time": "2022-09-25T03:41:43.868620",
     "status": "completed"
    },
    "tags": []
   },
   "outputs": [],
   "source": [
    "#hide_input\n",
    "import warnings\n",
    "warnings.filterwarnings('ignore')\n",
    "from scripts.read_data import read_api\n",
    "from scripts.read_data import read_news\n",
    "from scripts.read_data import read_covid\n",
    "import matplotlib.pyplot as plt \n",
    "from IPython.display import Markdown as md"
   ]
  },
  {
   "cell_type": "code",
   "execution_count": 2,
   "id": "shared-acceptance",
   "metadata": {
    "execution": {
     "iopub.execute_input": "2022-09-25T03:41:45.381975Z",
     "iopub.status.busy": "2022-09-25T03:41:45.380794Z",
     "iopub.status.idle": "2022-09-25T03:41:56.537625Z",
     "shell.execute_reply": "2022-09-25T03:41:56.536634Z"
    },
    "papermill": {
     "duration": 11.174713,
     "end_time": "2022-09-25T03:41:56.537766",
     "exception": false,
     "start_time": "2022-09-25T03:41:45.363053",
     "status": "completed"
    },
    "tags": []
   },
   "outputs": [],
   "source": [
    "#hide_input\n",
    "blockchain = read_news('blockchain') \n",
    "btc = read_news('btc') \n",
    "xrp = read_news('xrp') \n",
    "trx = read_news('trx') \n",
    "eth = read_news('eth')  \n",
    "ada = read_news('ada')\n",
    "exchange = read_news('exchange') "
   ]
  },
  {
   "cell_type": "code",
   "execution_count": 3,
   "id": "synthetic-notion",
   "metadata": {
    "execution": {
     "iopub.execute_input": "2022-09-25T03:41:56.568425Z",
     "iopub.status.busy": "2022-09-25T03:41:56.567685Z",
     "iopub.status.idle": "2022-09-25T03:41:56.571030Z",
     "shell.execute_reply": "2022-09-25T03:41:56.571540Z"
    },
    "papermill": {
     "duration": 0.023126,
     "end_time": "2022-09-25T03:41:56.571695",
     "exception": false,
     "start_time": "2022-09-25T03:41:56.548569",
     "status": "completed"
    },
    "tags": []
   },
   "outputs": [
    {
     "data": {
      "text/markdown": [
       "- Here’s where Tezos [XTZ] landed after the Kathmandu upgrade went live.  Proof-of-Stake (PoS)-based blockchain, Tezos [XTZ], upgraded a protocol on its mainnet. The upgrade, called Kathmandu, was first proposed to the Tezos community in July, and was the eleventh time there has been an upgrade. Welcome to #Kathmandu &#8211; @Tezos&#39; 11th protocol upgrade. The #blockchain built to last.#Tezos #BlockchainEvolved pic.twitter.com/doFOKxJaY4 &#8212; Tezos (@tezos) September 23, 2022 [&#8230;] ... [| Skaityti daugiau](https://ambcrypto.com/heres-where-tezos-xtz-landed-after-the-kathmandu-upgrade-went-live/) "
      ],
      "text/plain": [
       "<IPython.core.display.Markdown object>"
      ]
     },
     "execution_count": 3,
     "metadata": {},
     "output_type": "execute_result"
    }
   ],
   "source": [
    "#hide_input\n",
    "#md('##### {}'.format(titleBTC)) \n",
    "md(\"- {}{} {}{} [| Skaityti daugiau]({}) \".format(blockchain['title'],'. ', blockchain['body'], ' ...', blockchain['url']))"
   ]
  },
  {
   "cell_type": "code",
   "execution_count": 4,
   "id": "aging-caution",
   "metadata": {
    "execution": {
     "iopub.execute_input": "2022-09-25T03:41:56.599663Z",
     "iopub.status.busy": "2022-09-25T03:41:56.598965Z",
     "iopub.status.idle": "2022-09-25T03:41:56.605708Z",
     "shell.execute_reply": "2022-09-25T03:41:56.606202Z"
    },
    "papermill": {
     "duration": 0.023757,
     "end_time": "2022-09-25T03:41:56.606349",
     "exception": false,
     "start_time": "2022-09-25T03:41:56.582592",
     "status": "completed"
    },
    "tags": []
   },
   "outputs": [
    {
     "data": {
      "text/markdown": [
       "- Cardano Price Surges, Will The Bulls Hold The Recovery?.  Cardano price has been pushed up on its chart by the bulls at the time of writing. In the past day, Cardano moved up 2%. Over the last week, the price action of the altcoin wasn&#8217;t positive as it lost most of the gains in the week. Continued buyer recovery could push ADA past its next resistance level. At the time of writing, however, ADA was trading sideways. The altcoin has remained sandwiched between $0.50 and $0.44, respectively, over the past couple of weeks. Although buying strength tried to recover on its chart, selling strength was still dominating at the time of writing. The support zone for Cardano price rests between $0.44 and $0.40, respectively. Cardano has been one of the altcoins that have moved against the tide. Bitcoin, however, showed signs of appreciation over the last 24 hours. ADA bulls can quickly fade out if the coin&#8217;s buying strength doesn&#8217;t move into the positive zone. Cardano Price Analysis: One Day Chart ADA was trading at $0.46 at the time of writing. Over the last 24 hours, the coin broke past one of its resistance levels. The immediate resistance mark for Cardano was $0.49. If the bulls manage to topple over the $0.49 price level, then the bulls can stay put for a longer time. If buyers don&#8217;t come forward, Cardano price will fall to $0.43 and then below the $0.40 mark. The amount of the altcoin traded in the past session declined, despite a rise in buying strength. This sign... ... [| Skaityti daugiau](https://www.newsbtc.com/news/cardano-price-surges-will-the-bulls-hold-the-recovery/) "
      ],
      "text/plain": [
       "<IPython.core.display.Markdown object>"
      ]
     },
     "execution_count": 4,
     "metadata": {},
     "output_type": "execute_result"
    }
   ],
   "source": [
    "#hide_input\n",
    "#md('##### {}'.format(titleBTC)) \n",
    "md(\"- {}{} {}{} [| Skaityti daugiau]({}) \".format(btc['title'],'. ', btc['body'], ' ...', btc['url']))"
   ]
  },
  {
   "cell_type": "code",
   "execution_count": 5,
   "id": "organic-actress",
   "metadata": {
    "execution": {
     "iopub.execute_input": "2022-09-25T03:41:56.638193Z",
     "iopub.status.busy": "2022-09-25T03:41:56.637319Z",
     "iopub.status.idle": "2022-09-25T03:41:56.643188Z",
     "shell.execute_reply": "2022-09-25T03:41:56.643707Z"
    },
    "papermill": {
     "duration": 0.026293,
     "end_time": "2022-09-25T03:41:56.643856",
     "exception": false,
     "start_time": "2022-09-25T03:41:56.617563",
     "status": "completed"
    },
    "tags": []
   },
   "outputs": [
    {
     "data": {
      "text/markdown": [
       "- Ripple Outperforming Almost The Whole Market, What’s Pumping XRP Price?.  The currency of the blockchain-powered online payment platform, XRP, has gained almost 60% in the past week. After briefly dipping to $0.34 five days ago, the token climbed back and traded around $0.52 this morning. Crypto influencer Ben Armstrong claims to know the reason behind this continuous climb amid the current general crypto bear market. The multiple-crypto holder shared his two cents about the state of events with his 800k plus followers on Twitter yesterday. Related Reading: Maker DAO Shows Bullish Sentiment After A While, Eyes $800? Influencer Believes Impending Close To Ripple-SEC Case Is Responsible According to Armstrong, multiple factors are causing Ripple’s insane price surge. However, he can confidently trace one primary reason to the ongoing SEC court battle with the sixth strongest crypto. The influencer tweeted that SEC has given up on its 2-year struggle of trying to prove XRP is a security. As of this week, the Ripple community “can be pretty confident the worst-case scenario is a fine,” the tweet reads. The last weekend saw both parties in the ongoing case filing for summary judgment. In other words, Ripple and SEC believe enough evidence has been provided for a verdict outside a court case. They wait for Judge Torres’ decision supporting one side or the other based on already available evidence. A court battle that started way over in 2020 might soon be coming to an end. Ripple And XRP Community Expect ... ... [| Skaityti daugiau](https://www.newsbtc.com/analysis/xrp/ripple-outperforming-almost-the-whole-market-whats-pumping-xrp-price/) "
      ],
      "text/plain": [
       "<IPython.core.display.Markdown object>"
      ]
     },
     "execution_count": 5,
     "metadata": {},
     "output_type": "execute_result"
    }
   ],
   "source": [
    "#hide_input\n",
    "#md('##### {}'.format(titleBTC)) \n",
    "md(\"- {}{} {}{} [| Skaityti daugiau]({}) \".format(xrp['title'],'. ', xrp['body'], ' ...', xrp['url']))"
   ]
  },
  {
   "cell_type": "code",
   "execution_count": 6,
   "id": "prompt-farmer",
   "metadata": {
    "execution": {
     "iopub.execute_input": "2022-09-25T03:41:56.674430Z",
     "iopub.status.busy": "2022-09-25T03:41:56.673738Z",
     "iopub.status.idle": "2022-09-25T03:41:56.680414Z",
     "shell.execute_reply": "2022-09-25T03:41:56.679496Z"
    },
    "papermill": {
     "duration": 0.024538,
     "end_time": "2022-09-25T03:41:56.680545",
     "exception": false,
     "start_time": "2022-09-25T03:41:56.656007",
     "status": "completed"
    },
    "tags": []
   },
   "outputs": [
    {
     "data": {
      "text/markdown": [
       "- Tron (TRX) And Polygon (MATIC) Holders Begin Buying Into Flasko (FLSK) Presale.  The post Tron (TRX) And Polygon (MATIC) Holders Begin Buying Into Flasko (FLSK) Presale appeared first on Coinpedia - Fintech &amp; Cryptocurreny News Media| Crypto GuideCrypto investors worldwide focus on tokens that perform well because such projects guarantee a positive return. Polygon (MATIC) and TRON (TRX) were previously market leaders with high profits, but their investors are now content with limited growth. Flasko (FLSK) holders, on the other side, are riding a unicorn of profit and expansion. Polygon (MATIC) is &#8230; ... [| Skaityti daugiau](https://coinpedia.org/press-release/tron-trx-and-polygon-matic-holders-begin-buying-into-flasko-flsk-presale/) "
      ],
      "text/plain": [
       "<IPython.core.display.Markdown object>"
      ]
     },
     "execution_count": 6,
     "metadata": {},
     "output_type": "execute_result"
    }
   ],
   "source": [
    "#hide_input\n",
    "#md('##### {}'.format(titleBTC)) \n",
    "md(\"- {}{} {}{} [| Skaityti daugiau]({}) \".format(trx['title'],'. ', trx['body'], ' ...', trx['url']))"
   ]
  },
  {
   "cell_type": "code",
   "execution_count": 7,
   "id": "illegal-greece",
   "metadata": {
    "execution": {
     "iopub.execute_input": "2022-09-25T03:41:56.712977Z",
     "iopub.status.busy": "2022-09-25T03:41:56.711457Z",
     "iopub.status.idle": "2022-09-25T03:41:56.715616Z",
     "shell.execute_reply": "2022-09-25T03:41:56.715067Z"
    },
    "papermill": {
     "duration": 0.023121,
     "end_time": "2022-09-25T03:41:56.715739",
     "exception": false,
     "start_time": "2022-09-25T03:41:56.692618",
     "status": "completed"
    },
    "tags": []
   },
   "outputs": [
    {
     "data": {
      "text/markdown": [
       "- Convex Finance: 13 unlocks later, CVX stands far from investor anticipation.  Convex Finance, a DeFi protocol built on Curve Finance, commenced unlocking its CVX tokens as of 30 June. This was undertaken to combat the limited liquidity crisis that hindered the swapping of CVX tokens to Ethereum [ETH] on its protocol. The unlocking process was scheduled to run for 16 weeks to see the unlocking of [&#8230;] ... [| Skaityti daugiau](https://ambcrypto.com/convex-finance-13-unlocks-later-cvx-stands-far-from-investor-anticipation/) "
      ],
      "text/plain": [
       "<IPython.core.display.Markdown object>"
      ]
     },
     "execution_count": 7,
     "metadata": {},
     "output_type": "execute_result"
    }
   ],
   "source": [
    "#hide_input\n",
    "#md('##### {}'.format(titleBTC)) \n",
    "md(\"- {}{} {}{} [| Skaityti daugiau]({}) \".format(eth['title'],'. ', eth['body'], ' ...', eth['url']))"
   ]
  },
  {
   "cell_type": "code",
   "execution_count": 8,
   "id": "sublime-lounge",
   "metadata": {
    "execution": {
     "iopub.execute_input": "2022-09-25T03:41:56.751352Z",
     "iopub.status.busy": "2022-09-25T03:41:56.749888Z",
     "iopub.status.idle": "2022-09-25T03:41:56.753836Z",
     "shell.execute_reply": "2022-09-25T03:41:56.753305Z"
    },
    "papermill": {
     "duration": 0.024409,
     "end_time": "2022-09-25T03:41:56.754041",
     "exception": false,
     "start_time": "2022-09-25T03:41:56.729632",
     "status": "completed"
    },
    "tags": []
   },
   "outputs": [
    {
     "data": {
      "text/markdown": [
       "- Cardano Price Surges, Will The Bulls Hold The Recovery?.  Cardano price has been pushed up on its chart by the bulls at the time of writing. In the past day, Cardano moved up 2%. Over the last week, the price action of the altcoin wasn&#8217;t positive as it lost most of the gains in the week. Continued buyer recovery could push ADA past its next resistance level. At the time of writing, however, ADA was trading sideways. The altcoin has remained sandwiched between $0.50 and $0.44, respectively, over the past couple of weeks. Although buying strength tried to recover on its chart, selling strength was still dominating at the time of writing. The support zone for Cardano price rests between $0.44 and $0.40, respectively. Cardano has been one of the altcoins that have moved against the tide. Bitcoin, however, showed signs of appreciation over the last 24 hours. ADA bulls can quickly fade out if the coin&#8217;s buying strength doesn&#8217;t move into the positive zone. Cardano Price Analysis: One Day Chart ADA was trading at $0.46 at the time of writing. Over the last 24 hours, the coin broke past one of its resistance levels. The immediate resistance mark for Cardano was $0.49. If the bulls manage to topple over the $0.49 price level, then the bulls can stay put for a longer time. If buyers don&#8217;t come forward, Cardano price will fall to $0.43 and then below the $0.40 mark. The amount of the altcoin traded in the past session declined, despite a rise in buying strength. This sign... ... [| Skaityti daugiau](https://www.newsbtc.com/news/cardano-price-surges-will-the-bulls-hold-the-recovery/) "
      ],
      "text/plain": [
       "<IPython.core.display.Markdown object>"
      ]
     },
     "execution_count": 8,
     "metadata": {},
     "output_type": "execute_result"
    }
   ],
   "source": [
    "#hide_input\n",
    "#md('##### {}'.format(titleBTC)) \n",
    "md(\"- {}{} {}{} [| Skaityti daugiau]({}) \".format(ada['title'],'. ', ada['body'], ' ...', ada['url']))"
   ]
  },
  {
   "cell_type": "code",
   "execution_count": 9,
   "id": "specified-ordering",
   "metadata": {
    "execution": {
     "iopub.execute_input": "2022-09-25T03:41:56.788225Z",
     "iopub.status.busy": "2022-09-25T03:41:56.787177Z",
     "iopub.status.idle": "2022-09-25T03:41:56.790619Z",
     "shell.execute_reply": "2022-09-25T03:41:56.791133Z"
    },
    "papermill": {
     "duration": 0.024231,
     "end_time": "2022-09-25T03:41:56.791280",
     "exception": false,
     "start_time": "2022-09-25T03:41:56.767049",
     "status": "completed"
    },
    "tags": []
   },
   "outputs": [
    {
     "data": {
      "text/markdown": [
       "- Short Binance Coin [BNB] at $300? Here is why a bearish move is likely.  Disclaimer: The information presented does not constitute financial, investment, trading, or other types of advice and is solely the writer’s opinion. Binance Coin [BNB] was ranked 7th on CoinMarketCap and was the largest exchange token by market capitalization. It witnessed enormous gains since early 2021. The bear market of the past year saw the coin [&#8230;] ... [| Skaityti daugiau](https://ambcrypto.com/short-binance-coin-bnb-at-300-here-is-why-a-bearish-move-is-likely/) "
      ],
      "text/plain": [
       "<IPython.core.display.Markdown object>"
      ]
     },
     "execution_count": 9,
     "metadata": {},
     "output_type": "execute_result"
    }
   ],
   "source": [
    "#hide_input\n",
    "#md('##### {}'.format(titleBTC)) \n",
    "md(\"- {}{} {}{} [| Skaityti daugiau]({}) \".format(exchange['title'],'. ', exchange['body'], ' ...', exchange['url']))"
   ]
  },
  {
   "cell_type": "code",
   "execution_count": null,
   "id": "tender-livestock",
   "metadata": {
    "papermill": {
     "duration": 0.013263,
     "end_time": "2022-09-25T03:41:56.817772",
     "exception": false,
     "start_time": "2022-09-25T03:41:56.804509",
     "status": "completed"
    },
    "tags": []
   },
   "outputs": [],
   "source": []
  },
  {
   "cell_type": "code",
   "execution_count": null,
   "id": "appreciated-diamond",
   "metadata": {
    "papermill": {
     "duration": 0.013299,
     "end_time": "2022-09-25T03:41:56.844287",
     "exception": false,
     "start_time": "2022-09-25T03:41:56.830988",
     "status": "completed"
    },
    "tags": []
   },
   "outputs": [],
   "source": []
  },
  {
   "cell_type": "code",
   "execution_count": null,
   "id": "romance-sweden",
   "metadata": {
    "papermill": {
     "duration": 0.012919,
     "end_time": "2022-09-25T03:41:56.870427",
     "exception": false,
     "start_time": "2022-09-25T03:41:56.857508",
     "status": "completed"
    },
    "tags": []
   },
   "outputs": [],
   "source": []
  },
  {
   "cell_type": "code",
   "execution_count": null,
   "id": "dietary-statistics",
   "metadata": {
    "papermill": {
     "duration": 0.01309,
     "end_time": "2022-09-25T03:41:56.897437",
     "exception": false,
     "start_time": "2022-09-25T03:41:56.884347",
     "status": "completed"
    },
    "tags": []
   },
   "outputs": [],
   "source": []
  }
 ],
 "metadata": {
  "kernelspec": {
   "display_name": "Python 3",
   "language": "python",
   "name": "python3"
  },
  "language_info": {
   "codemirror_mode": {
    "name": "ipython",
    "version": 3
   },
   "file_extension": ".py",
   "mimetype": "text/x-python",
   "name": "python",
   "nbconvert_exporter": "python",
   "pygments_lexer": "ipython3",
   "version": "3.6.15"
  },
  "papermill": {
   "default_parameters": {},
   "duration": 14.887952,
   "end_time": "2022-09-25T03:41:57.433552",
   "environment_variables": {},
   "exception": null,
   "input_path": "Market-News.ipynb",
   "output_path": "Market-News.ipynb",
   "parameters": {},
   "start_time": "2022-09-25T03:41:42.545600",
   "version": "2.2.2"
  }
 },
 "nbformat": 4,
 "nbformat_minor": 5
}