{
 "cells": [
  {
   "cell_type": "markdown",
   "id": "short-greensboro",
   "metadata": {
    "papermill": {
     "duration": 0.0144,
     "end_time": "2022-01-23T01:58:51.638406",
     "exception": false,
     "start_time": "2022-01-23T01:58:51.624006",
     "status": "completed"
    },
    "tags": []
   },
   "source": [
    "# Kriptovaliutų naujienos"
   ]
  },
  {
   "cell_type": "code",
   "execution_count": 1,
   "id": "functioning-knowing",
   "metadata": {
    "execution": {
     "iopub.execute_input": "2022-01-23T01:58:51.671399Z",
     "iopub.status.busy": "2022-01-23T01:58:51.670768Z",
     "iopub.status.idle": "2022-01-23T01:58:53.160588Z",
     "shell.execute_reply": "2022-01-23T01:58:53.159926Z"
    },
    "papermill": {
     "duration": 1.511355,
     "end_time": "2022-01-23T01:58:53.160773",
     "exception": false,
     "start_time": "2022-01-23T01:58:51.649418",
     "status": "completed"
    },
    "tags": []
   },
   "outputs": [],
   "source": [
    "#hide_input\n",
    "import warnings\n",
    "warnings.filterwarnings('ignore')\n",
    "from scripts.read_data import read_api\n",
    "from scripts.read_data import read_news\n",
    "from scripts.read_data import read_covid\n",
    "import matplotlib.pyplot as plt \n",
    "from IPython.display import Markdown as md"
   ]
  },
  {
   "cell_type": "code",
   "execution_count": 2,
   "id": "shared-acceptance",
   "metadata": {
    "execution": {
     "iopub.execute_input": "2022-01-23T01:58:53.193043Z",
     "iopub.status.busy": "2022-01-23T01:58:53.192441Z",
     "iopub.status.idle": "2022-01-23T01:59:04.039454Z",
     "shell.execute_reply": "2022-01-23T01:59:04.038545Z"
    },
    "papermill": {
     "duration": 10.864638,
     "end_time": "2022-01-23T01:59:04.039713",
     "exception": false,
     "start_time": "2022-01-23T01:58:53.175075",
     "status": "completed"
    },
    "tags": []
   },
   "outputs": [],
   "source": [
    "#hide_input\n",
    "blockchain = read_news('blockchain') \n",
    "btc = read_news('btc') \n",
    "xrp = read_news('xrp') \n",
    "trx = read_news('trx') \n",
    "eth = read_news('eth')  \n",
    "ada = read_news('ada')\n",
    "exchange = read_news('exchange') "
   ]
  },
  {
   "cell_type": "code",
   "execution_count": 3,
   "id": "synthetic-notion",
   "metadata": {
    "execution": {
     "iopub.execute_input": "2022-01-23T01:59:04.067345Z",
     "iopub.status.busy": "2022-01-23T01:59:04.064758Z",
     "iopub.status.idle": "2022-01-23T01:59:04.069956Z",
     "shell.execute_reply": "2022-01-23T01:59:04.070456Z"
    },
    "papermill": {
     "duration": 0.020141,
     "end_time": "2022-01-23T01:59:04.070597",
     "exception": false,
     "start_time": "2022-01-23T01:59:04.050456",
     "status": "completed"
    },
    "tags": []
   },
   "outputs": [
    {
     "data": {
      "text/markdown": [
       "- Multichain Whitehat Hacker Returns 259 ETH: Report.  Multichain became the latest protocol to come under a million-dollar attack from malicious entities. One white hacker, though, returned around $813,000 worth of ETH. ... [| Skaityti daugiau](https://cryptopotato.com/multichain-whitehat-hacker-returns-259-eth-report/) "
      ],
      "text/plain": [
       "<IPython.core.display.Markdown object>"
      ]
     },
     "execution_count": 3,
     "metadata": {},
     "output_type": "execute_result"
    }
   ],
   "source": [
    "#hide_input\n",
    "#md('##### {}'.format(titleBTC)) \n",
    "md(\"- {}{} {}{} [| Skaityti daugiau]({}) \".format(blockchain['title'],'. ', blockchain['body'], ' ...', blockchain['url']))"
   ]
  },
  {
   "cell_type": "code",
   "execution_count": 4,
   "id": "aging-caution",
   "metadata": {
    "execution": {
     "iopub.execute_input": "2022-01-23T01:59:04.099308Z",
     "iopub.status.busy": "2022-01-23T01:59:04.098433Z",
     "iopub.status.idle": "2022-01-23T01:59:04.103524Z",
     "shell.execute_reply": "2022-01-23T01:59:04.104090Z"
    },
    "papermill": {
     "duration": 0.023048,
     "end_time": "2022-01-23T01:59:04.104248",
     "exception": false,
     "start_time": "2022-01-23T01:59:04.081200",
     "status": "completed"
    },
    "tags": []
   },
   "outputs": [
    {
     "data": {
      "text/markdown": [
       "- El Salvador Buys 410 Bitcoins as BTC Plunges to Lowest Level in Months.  El Salvador bought the dip as the price of bitcoin plunged to a record low. President Nayib Bukele said Friday that his country has purchased 410 more bitcoins. The Salvadoran government has bought a total of 1,801 bitcoins since the cryptocurrency was made legal tender in the country. El Salvador Buys the Dip The president [&#8230;] ... [| Skaityti daugiau](https://news.bitcoin.com/el-salvador-buys-410-bitcoins-btc-plunges-lowest-level/) "
      ],
      "text/plain": [
       "<IPython.core.display.Markdown object>"
      ]
     },
     "execution_count": 4,
     "metadata": {},
     "output_type": "execute_result"
    }
   ],
   "source": [
    "#hide_input\n",
    "#md('##### {}'.format(titleBTC)) \n",
    "md(\"- {}{} {}{} [| Skaityti daugiau]({}) \".format(btc['title'],'. ', btc['body'], ' ...', btc['url']))"
   ]
  },
  {
   "cell_type": "code",
   "execution_count": 5,
   "id": "organic-actress",
   "metadata": {
    "execution": {
     "iopub.execute_input": "2022-01-23T01:59:04.133492Z",
     "iopub.status.busy": "2022-01-23T01:59:04.132838Z",
     "iopub.status.idle": "2022-01-23T01:59:04.139598Z",
     "shell.execute_reply": "2022-01-23T01:59:04.139106Z"
    },
    "papermill": {
     "duration": 0.024398,
     "end_time": "2022-01-23T01:59:04.139762",
     "exception": false,
     "start_time": "2022-01-23T01:59:04.115364",
     "status": "completed"
    },
    "tags": []
   },
   "outputs": [
    {
     "data": {
      "text/markdown": [
       "- Ripple vs SEC: Here’s why SEC requested an extension & reconsideration of DPP.  Attorney James K. Filan of Filan LLC has updated on the latest going on with the Ripple and SEC lawsuit. After the previous ruling on 13 January, the SEC has now filed two motions. First motion is addressed to Judge Netburn to extend the regulator&#8217;s motion filing date to 17 February from 27 January, 2022. [&#8230;] ... [| Skaityti daugiau](https://ambcrypto.com/ripple-vs-sec-heres-why-sec-requested-an-extension-reconsideration-of-dpp/) "
      ],
      "text/plain": [
       "<IPython.core.display.Markdown object>"
      ]
     },
     "execution_count": 5,
     "metadata": {},
     "output_type": "execute_result"
    }
   ],
   "source": [
    "#hide_input\n",
    "#md('##### {}'.format(titleBTC)) \n",
    "md(\"- {}{} {}{} [| Skaityti daugiau]({}) \".format(xrp['title'],'. ', xrp['body'], ' ...', xrp['url']))"
   ]
  },
  {
   "cell_type": "code",
   "execution_count": 6,
   "id": "prompt-farmer",
   "metadata": {
    "execution": {
     "iopub.execute_input": "2022-01-23T01:59:04.170171Z",
     "iopub.status.busy": "2022-01-23T01:59:04.169530Z",
     "iopub.status.idle": "2022-01-23T01:59:04.172539Z",
     "shell.execute_reply": "2022-01-23T01:59:04.173010Z"
    },
    "papermill": {
     "duration": 0.021827,
     "end_time": "2022-01-23T01:59:04.173154",
     "exception": false,
     "start_time": "2022-01-23T01:59:04.151327",
     "status": "completed"
    },
    "tags": []
   },
   "outputs": [
    {
     "data": {
      "text/markdown": [
       "- TRON (TRX) Annual Statistics Represent an Excellent Track Record.  TRON reached $14.06 billion in TVL and ended the year at $9.98 billion TVL. The networks entire on-chain asset valueThe post has appeared first on thenewscrypto.com ... [| Skaityti daugiau](https://thenewscrypto.com/tron-trx-annual-statistics-represent-an-excellent-track-record/) "
      ],
      "text/plain": [
       "<IPython.core.display.Markdown object>"
      ]
     },
     "execution_count": 6,
     "metadata": {},
     "output_type": "execute_result"
    }
   ],
   "source": [
    "#hide_input\n",
    "#md('##### {}'.format(titleBTC)) \n",
    "md(\"- {}{} {}{} [| Skaityti daugiau]({}) \".format(trx['title'],'. ', trx['body'], ' ...', trx['url']))"
   ]
  },
  {
   "cell_type": "code",
   "execution_count": 7,
   "id": "illegal-greece",
   "metadata": {
    "execution": {
     "iopub.execute_input": "2022-01-23T01:59:04.203406Z",
     "iopub.status.busy": "2022-01-23T01:59:04.202726Z",
     "iopub.status.idle": "2022-01-23T01:59:04.205693Z",
     "shell.execute_reply": "2022-01-23T01:59:04.206164Z"
    },
    "papermill": {
     "duration": 0.021511,
     "end_time": "2022-01-23T01:59:04.206304",
     "exception": false,
     "start_time": "2022-01-23T01:59:04.184793",
     "status": "completed"
    },
    "tags": []
   },
   "outputs": [
    {
     "data": {
      "text/markdown": [
       "- Bearish chart pattern hints at $70 Solana (SOL) price before a possible oversold bounce.  A confirmed head and shoulders pattern on SOL’s daily chart points toward a drop to $70. ... [| Skaityti daugiau](https://cointelegraph.com/news/bearish-chart-pattern-hints-at-70-solana-sol-price-before-a-possible-oversold-bounce) "
      ],
      "text/plain": [
       "<IPython.core.display.Markdown object>"
      ]
     },
     "execution_count": 7,
     "metadata": {},
     "output_type": "execute_result"
    }
   ],
   "source": [
    "#hide_input\n",
    "#md('##### {}'.format(titleBTC)) \n",
    "md(\"- {}{} {}{} [| Skaityti daugiau]({}) \".format(eth['title'],'. ', eth['body'], ' ...', eth['url']))"
   ]
  },
  {
   "cell_type": "code",
   "execution_count": 8,
   "id": "sublime-lounge",
   "metadata": {
    "execution": {
     "iopub.execute_input": "2022-01-23T01:59:04.236426Z",
     "iopub.status.busy": "2022-01-23T01:59:04.234509Z",
     "iopub.status.idle": "2022-01-23T01:59:04.238702Z",
     "shell.execute_reply": "2022-01-23T01:59:04.239176Z"
    },
    "papermill": {
     "duration": 0.021101,
     "end_time": "2022-01-23T01:59:04.239315",
     "exception": false,
     "start_time": "2022-01-23T01:59:04.218214",
     "status": "completed"
    },
    "tags": []
   },
   "outputs": [
    {
     "data": {
      "text/markdown": [
       "- KICK․IO Launchpad: The New Haven of Cardano “Venture Capitalists”.  Crypto gains are not as good as they once were. The much-anticipated journey towards a more mature crypto space has been accompanied by a noticeable slide in the previously exponential returns that excited both retail and institutional investors alike. In the current investment climate, the more established tokens are becoming less volatile and the returns [&#8230;] ... [| Skaityti daugiau](https://news.bitcoin.com/kick%e2%80%a4io-launchpad-the-new-haven-of-cardano-venture-capitalists/) "
      ],
      "text/plain": [
       "<IPython.core.display.Markdown object>"
      ]
     },
     "execution_count": 8,
     "metadata": {},
     "output_type": "execute_result"
    }
   ],
   "source": [
    "#hide_input\n",
    "#md('##### {}'.format(titleBTC)) \n",
    "md(\"- {}{} {}{} [| Skaityti daugiau]({}) \".format(ada['title'],'. ', ada['body'], ' ...', ada['url']))"
   ]
  },
  {
   "cell_type": "code",
   "execution_count": 9,
   "id": "specified-ordering",
   "metadata": {
    "execution": {
     "iopub.execute_input": "2022-01-23T01:59:04.272212Z",
     "iopub.status.busy": "2022-01-23T01:59:04.271542Z",
     "iopub.status.idle": "2022-01-23T01:59:04.274547Z",
     "shell.execute_reply": "2022-01-23T01:59:04.275016Z"
    },
    "papermill": {
     "duration": 0.023313,
     "end_time": "2022-01-23T01:59:04.275158",
     "exception": false,
     "start_time": "2022-01-23T01:59:04.251845",
     "status": "completed"
    },
    "tags": []
   },
   "outputs": [
    {
     "data": {
      "text/markdown": [
       "- Crypto Firm Rain Financial Gets More Than $100 Million in New Funds.  Rain Financial in the Middle East – which operates the Rain cryptocurrency exchange licensed by the Central Bank of Bahrain – has garnered more than $110 million in series B funding as digital currencies become more mainstream and legitimate in that part of the world. Rain Financial Gets a Lot of Money The funding round...The post Crypto Firm Rain Financial Gets More Than $100 Million in New Funds appeared first on Live Bitcoin News. ... [| Skaityti daugiau](https://www.livebitcoinnews.com/crypto-firm-rain-financial-gets-more-than-100-million-in-new-funds/) "
      ],
      "text/plain": [
       "<IPython.core.display.Markdown object>"
      ]
     },
     "execution_count": 9,
     "metadata": {},
     "output_type": "execute_result"
    }
   ],
   "source": [
    "#hide_input\n",
    "#md('##### {}'.format(titleBTC)) \n",
    "md(\"- {}{} {}{} [| Skaityti daugiau]({}) \".format(exchange['title'],'. ', exchange['body'], ' ...', exchange['url']))"
   ]
  },
  {
   "cell_type": "code",
   "execution_count": null,
   "id": "tender-livestock",
   "metadata": {
    "papermill": {
     "duration": 0.012561,
     "end_time": "2022-01-23T01:59:04.300478",
     "exception": false,
     "start_time": "2022-01-23T01:59:04.287917",
     "status": "completed"
    },
    "tags": []
   },
   "outputs": [],
   "source": []
  },
  {
   "cell_type": "code",
   "execution_count": null,
   "id": "appreciated-diamond",
   "metadata": {
    "papermill": {
     "duration": 0.01256,
     "end_time": "2022-01-23T01:59:04.325581",
     "exception": false,
     "start_time": "2022-01-23T01:59:04.313021",
     "status": "completed"
    },
    "tags": []
   },
   "outputs": [],
   "source": []
  },
  {
   "cell_type": "code",
   "execution_count": null,
   "id": "romance-sweden",
   "metadata": {
    "papermill": {
     "duration": 0.012577,
     "end_time": "2022-01-23T01:59:04.350864",
     "exception": false,
     "start_time": "2022-01-23T01:59:04.338287",
     "status": "completed"
    },
    "tags": []
   },
   "outputs": [],
   "source": []
  },
  {
   "cell_type": "code",
   "execution_count": null,
   "id": "dietary-statistics",
   "metadata": {
    "papermill": {
     "duration": 0.01253,
     "end_time": "2022-01-23T01:59:04.376296",
     "exception": false,
     "start_time": "2022-01-23T01:59:04.363766",
     "status": "completed"
    },
    "tags": []
   },
   "outputs": [],
   "source": []
  }
 ],
 "metadata": {
  "kernelspec": {
   "display_name": "Python 3",
   "language": "python",
   "name": "python3"
  },
  "language_info": {
   "codemirror_mode": {
    "name": "ipython",
    "version": 3
   },
   "file_extension": ".py",
   "mimetype": "text/x-python",
   "name": "python",
   "nbconvert_exporter": "python",
   "pygments_lexer": "ipython3",
   "version": "3.6.15"
  },
  "papermill": {
   "default_parameters": {},
   "duration": 14.577591,
   "end_time": "2022-01-23T01:59:04.910269",
   "environment_variables": {},
   "exception": null,
   "input_path": "Market-News.ipynb",
   "output_path": "Market-News.ipynb",
   "parameters": {},
   "start_time": "2022-01-23T01:58:50.332678",
   "version": "2.2.2"
  }
 },
 "nbformat": 4,
 "nbformat_minor": 5
}