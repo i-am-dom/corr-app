{
 "cells": [
  {
   "cell_type": "markdown",
   "id": "short-greensboro",
   "metadata": {
    "papermill": {
     "duration": 0.017121,
     "end_time": "2022-10-09T03:35:52.576446",
     "exception": false,
     "start_time": "2022-10-09T03:35:52.559325",
     "status": "completed"
    },
    "tags": []
   },
   "source": [
    "# Kriptovaliutų naujienos"
   ]
  },
  {
   "cell_type": "code",
   "execution_count": 1,
   "id": "functioning-knowing",
   "metadata": {
    "execution": {
     "iopub.execute_input": "2022-10-09T03:35:52.613167Z",
     "iopub.status.busy": "2022-10-09T03:35:52.612333Z",
     "iopub.status.idle": "2022-10-09T03:35:54.245816Z",
     "shell.execute_reply": "2022-10-09T03:35:54.245093Z"
    },
    "papermill": {
     "duration": 1.657189,
     "end_time": "2022-10-09T03:35:54.245986",
     "exception": false,
     "start_time": "2022-10-09T03:35:52.588797",
     "status": "completed"
    },
    "tags": []
   },
   "outputs": [],
   "source": [
    "#hide_input\n",
    "import warnings\n",
    "warnings.filterwarnings('ignore')\n",
    "from scripts.read_data import read_api\n",
    "from scripts.read_data import read_news\n",
    "from scripts.read_data import read_covid\n",
    "import matplotlib.pyplot as plt \n",
    "from IPython.display import Markdown as md"
   ]
  },
  {
   "cell_type": "code",
   "execution_count": 2,
   "id": "shared-acceptance",
   "metadata": {
    "execution": {
     "iopub.execute_input": "2022-10-09T03:35:54.280139Z",
     "iopub.status.busy": "2022-10-09T03:35:54.278810Z",
     "iopub.status.idle": "2022-10-09T03:36:08.103213Z",
     "shell.execute_reply": "2022-10-09T03:36:08.102044Z"
    },
    "papermill": {
     "duration": 13.84504,
     "end_time": "2022-10-09T03:36:08.103388",
     "exception": false,
     "start_time": "2022-10-09T03:35:54.258348",
     "status": "completed"
    },
    "tags": []
   },
   "outputs": [],
   "source": [
    "#hide_input\n",
    "blockchain = read_news('blockchain') \n",
    "btc = read_news('btc') \n",
    "xrp = read_news('xrp') \n",
    "trx = read_news('trx') \n",
    "eth = read_news('eth')  \n",
    "ada = read_news('ada')\n",
    "exchange = read_news('exchange') "
   ]
  },
  {
   "cell_type": "code",
   "execution_count": 3,
   "id": "synthetic-notion",
   "metadata": {
    "execution": {
     "iopub.execute_input": "2022-10-09T03:36:08.141122Z",
     "iopub.status.busy": "2022-10-09T03:36:08.140262Z",
     "iopub.status.idle": "2022-10-09T03:36:08.144980Z",
     "shell.execute_reply": "2022-10-09T03:36:08.144396Z"
    },
    "papermill": {
     "duration": 0.02934,
     "end_time": "2022-10-09T03:36:08.145113",
     "exception": false,
     "start_time": "2022-10-09T03:36:08.115773",
     "status": "completed"
    },
    "tags": []
   },
   "outputs": [
    {
     "data": {
      "text/markdown": [
       "- Killing more worthless projects would be a win for crypto.  When blockchain projects show their technology has something to offer that traditional internet doesn’t, big investors will get on board.  ... [| Skaityti daugiau](https://cointelegraph.com/news/killing-more-worthless-projects-would-be-a-win-for-crypto) "
      ],
      "text/plain": [
       "<IPython.core.display.Markdown object>"
      ]
     },
     "execution_count": 3,
     "metadata": {},
     "output_type": "execute_result"
    }
   ],
   "source": [
    "#hide_input\n",
    "#md('##### {}'.format(titleBTC)) \n",
    "md(\"- {}{} {}{} [| Skaityti daugiau]({}) \".format(blockchain['title'],'. ', blockchain['body'], ' ...', blockchain['url']))"
   ]
  },
  {
   "cell_type": "code",
   "execution_count": 4,
   "id": "aging-caution",
   "metadata": {
    "execution": {
     "iopub.execute_input": "2022-10-09T03:36:08.174843Z",
     "iopub.status.busy": "2022-10-09T03:36:08.173932Z",
     "iopub.status.idle": "2022-10-09T03:36:08.178629Z",
     "shell.execute_reply": "2022-10-09T03:36:08.177950Z"
    },
    "papermill": {
     "duration": 0.021606,
     "end_time": "2022-10-09T03:36:08.178790",
     "exception": false,
     "start_time": "2022-10-09T03:36:08.157184",
     "status": "completed"
    },
    "tags": []
   },
   "outputs": [
    {
     "data": {
      "text/markdown": [
       "- Traditional Banks Are Failing Everyday Savers. Bitcoin Is The Alternative.  Savings account interest rates are not reflecting the changes in interest rates. Bitcoin is a hassle-free way to save and take custody of your assets. ... [| Skaityti daugiau](https://bitcoinmagazine.com/culture/banks-are-failing-savers-bitcoin-is-the-alternative) "
      ],
      "text/plain": [
       "<IPython.core.display.Markdown object>"
      ]
     },
     "execution_count": 4,
     "metadata": {},
     "output_type": "execute_result"
    }
   ],
   "source": [
    "#hide_input\n",
    "#md('##### {}'.format(titleBTC)) \n",
    "md(\"- {}{} {}{} [| Skaityti daugiau]({}) \".format(btc['title'],'. ', btc['body'], ' ...', btc['url']))"
   ]
  },
  {
   "cell_type": "code",
   "execution_count": 5,
   "id": "organic-actress",
   "metadata": {
    "execution": {
     "iopub.execute_input": "2022-10-09T03:36:08.209678Z",
     "iopub.status.busy": "2022-10-09T03:36:08.208906Z",
     "iopub.status.idle": "2022-10-09T03:36:08.213541Z",
     "shell.execute_reply": "2022-10-09T03:36:08.212956Z"
    },
    "papermill": {
     "duration": 0.022403,
     "end_time": "2022-10-09T03:36:08.213662",
     "exception": false,
     "start_time": "2022-10-09T03:36:08.191259",
     "status": "completed"
    },
    "tags": []
   },
   "outputs": [
    {
     "data": {
      "text/markdown": [
       "- XRP Flashes Ultra-Bullish Signal As Cardano’s Hoskinson Throws Weight Behind Ripple In SEC Case.  Charles, who has taken a keen interest in the Ripple case since 2020, blamed regulators for shirking their responsibilities, describing their behaviour as the “root cause of our industries issue.” ... [| Skaityti daugiau](https://zycrypto.com/xrp-flashes-ultra-bullish-signal-as-cardanos-hoskinson-throws-weight-behind-ripple-in-sec-case/) "
      ],
      "text/plain": [
       "<IPython.core.display.Markdown object>"
      ]
     },
     "execution_count": 5,
     "metadata": {},
     "output_type": "execute_result"
    }
   ],
   "source": [
    "#hide_input\n",
    "#md('##### {}'.format(titleBTC)) \n",
    "md(\"- {}{} {}{} [| Skaityti daugiau]({}) \".format(xrp['title'],'. ', xrp['body'], ' ...', xrp['url']))"
   ]
  },
  {
   "cell_type": "code",
   "execution_count": 6,
   "id": "prompt-farmer",
   "metadata": {
    "execution": {
     "iopub.execute_input": "2022-10-09T03:36:08.251678Z",
     "iopub.status.busy": "2022-10-09T03:36:08.250922Z",
     "iopub.status.idle": "2022-10-09T03:36:08.261052Z",
     "shell.execute_reply": "2022-10-09T03:36:08.258087Z"
    },
    "papermill": {
     "duration": 0.034192,
     "end_time": "2022-10-09T03:36:08.261184",
     "exception": false,
     "start_time": "2022-10-09T03:36:08.226992",
     "status": "completed"
    },
    "tags": []
   },
   "outputs": [
    {
     "data": {
      "text/markdown": [
       "- Sentiment Heavily Bearish on Solana, Tron and One More Ethereum Rival, Says Analytics Firm – But There’s a Catch.  Crypto analytics platform Santiment says many are bearish on Solana (SOL), Tron (TRX) and Binance Coin (BNB), which might signal a bottom is near. According to Santiment, heavy bearish sentiment is sometimes a signal for an imminent upswing in price. “We&#8217;re in a spot now where several cryptocurrencies are seeing some rising optimism, while others [&#8230;]The post Sentiment Heavily Bearish on Solana, Tron and One More Ethereum Rival, Says Analytics Firm – But There’s a Catch appeared first on The Daily Hodl. ... [| Skaityti daugiau](https://dailyhodl.com/2022/10/08/sentiment-heavily-bearish-on-solana-tron-and-one-more-ethereum-rival-says-analytics-firm-but-theres-a-catch/) "
      ],
      "text/plain": [
       "<IPython.core.display.Markdown object>"
      ]
     },
     "execution_count": 6,
     "metadata": {},
     "output_type": "execute_result"
    }
   ],
   "source": [
    "#hide_input\n",
    "#md('##### {}'.format(titleBTC)) \n",
    "md(\"- {}{} {}{} [| Skaityti daugiau]({}) \".format(trx['title'],'. ', trx['body'], ' ...', trx['url']))"
   ]
  },
  {
   "cell_type": "code",
   "execution_count": 7,
   "id": "illegal-greece",
   "metadata": {
    "execution": {
     "iopub.execute_input": "2022-10-09T03:36:08.294150Z",
     "iopub.status.busy": "2022-10-09T03:36:08.293125Z",
     "iopub.status.idle": "2022-10-09T03:36:08.298805Z",
     "shell.execute_reply": "2022-10-09T03:36:08.298036Z"
    },
    "papermill": {
     "duration": 0.024261,
     "end_time": "2022-10-09T03:36:08.298935",
     "exception": false,
     "start_time": "2022-10-09T03:36:08.274674",
     "status": "completed"
    },
    "tags": []
   },
   "outputs": [
    {
     "data": {
      "text/markdown": [
       "- Ethereum-Based Decentralized Video Streaming Network Witnesses Fundamental Growth in 2022 Q3: Messari.  A leading crypto insights firm claims one Ethereum (ETH)-based decentralized video streaming network is witnessing an uptick in fundamentals in the second half of 2022 despite the bear market. Messari notes that Livepeer (LPT) clocked a record of nearly 37 million minutes of video transcoded on its network, a 12% increase from the second quarter [&#8230;]The post Ethereum-Based Decentralized Video Streaming Network Witnesses Fundamental Growth in 2022 Q3: Messari appeared first on The Daily Hodl. ... [| Skaityti daugiau](https://dailyhodl.com/2022/10/08/ethereum-based-decentralized-video-streaming-network-witnesses-fundamental-growth-in-2022-q3-messari/) "
      ],
      "text/plain": [
       "<IPython.core.display.Markdown object>"
      ]
     },
     "execution_count": 7,
     "metadata": {},
     "output_type": "execute_result"
    }
   ],
   "source": [
    "#hide_input\n",
    "#md('##### {}'.format(titleBTC)) \n",
    "md(\"- {}{} {}{} [| Skaityti daugiau]({}) \".format(eth['title'],'. ', eth['body'], ' ...', eth['url']))"
   ]
  },
  {
   "cell_type": "code",
   "execution_count": 8,
   "id": "sublime-lounge",
   "metadata": {
    "execution": {
     "iopub.execute_input": "2022-10-09T03:36:08.332531Z",
     "iopub.status.busy": "2022-10-09T03:36:08.331877Z",
     "iopub.status.idle": "2022-10-09T03:36:08.338389Z",
     "shell.execute_reply": "2022-10-09T03:36:08.337736Z"
    },
    "papermill": {
     "duration": 0.02614,
     "end_time": "2022-10-09T03:36:08.338544",
     "exception": false,
     "start_time": "2022-10-09T03:36:08.312404",
     "status": "completed"
    },
    "tags": []
   },
   "outputs": [
    {
     "data": {
      "text/markdown": [
       "- Cardano: Decoding the NFT, DeFi factor in ADA’s journey.  Cardano [ADA] was one of the few cryptocurrencies that were extremely affected by the bear market of Q2 and Q3. In fact, the price of ADA has witnessed a massive depreciation over the past month. Furthermore, despite the market&#8217;s bearish conditions, Cardano&#8217;s team has been trying to garner interest from the NFT communities. However, Cardano&#8217;s [&#8230;] ... [| Skaityti daugiau](https://ambcrypto.com/cardano-decoding-the-nft-defi-factor-in-adas-journey/) "
      ],
      "text/plain": [
       "<IPython.core.display.Markdown object>"
      ]
     },
     "execution_count": 8,
     "metadata": {},
     "output_type": "execute_result"
    }
   ],
   "source": [
    "#hide_input\n",
    "#md('##### {}'.format(titleBTC)) \n",
    "md(\"- {}{} {}{} [| Skaityti daugiau]({}) \".format(ada['title'],'. ', ada['body'], ' ...', ada['url']))"
   ]
  },
  {
   "cell_type": "code",
   "execution_count": 9,
   "id": "specified-ordering",
   "metadata": {
    "execution": {
     "iopub.execute_input": "2022-10-09T03:36:08.374656Z",
     "iopub.status.busy": "2022-10-09T03:36:08.373784Z",
     "iopub.status.idle": "2022-10-09T03:36:08.379803Z",
     "shell.execute_reply": "2022-10-09T03:36:08.379104Z"
    },
    "papermill": {
     "duration": 0.026808,
     "end_time": "2022-10-09T03:36:08.379936",
     "exception": false,
     "start_time": "2022-10-09T03:36:08.353128",
     "status": "completed"
    },
    "tags": []
   },
   "outputs": [
    {
     "data": {
      "text/markdown": [
       "- What FTX-Visa partnership may mean for investors and FTT.  FTX [FTT] managed to get away from the woes of the downturns in the cryptocurrency market as the exchange was in the news for its recent partnership. As of 7 October, FTX confirmed that it had partnered with the payment platform Visa. According to the partnership details, Visa would provide debits across forty countries. This [&#8230;] ... [| Skaityti daugiau](https://ambcrypto.com/what-ftx-visa-partnership-may-mean-for-investors-and-ftt/) "
      ],
      "text/plain": [
       "<IPython.core.display.Markdown object>"
      ]
     },
     "execution_count": 9,
     "metadata": {},
     "output_type": "execute_result"
    }
   ],
   "source": [
    "#hide_input\n",
    "#md('##### {}'.format(titleBTC)) \n",
    "md(\"- {}{} {}{} [| Skaityti daugiau]({}) \".format(exchange['title'],'. ', exchange['body'], ' ...', exchange['url']))"
   ]
  },
  {
   "cell_type": "code",
   "execution_count": null,
   "id": "tender-livestock",
   "metadata": {
    "papermill": {
     "duration": 0.014427,
     "end_time": "2022-10-09T03:36:08.408946",
     "exception": false,
     "start_time": "2022-10-09T03:36:08.394519",
     "status": "completed"
    },
    "tags": []
   },
   "outputs": [],
   "source": []
  },
  {
   "cell_type": "code",
   "execution_count": null,
   "id": "appreciated-diamond",
   "metadata": {
    "papermill": {
     "duration": 0.014371,
     "end_time": "2022-10-09T03:36:08.438094",
     "exception": false,
     "start_time": "2022-10-09T03:36:08.423723",
     "status": "completed"
    },
    "tags": []
   },
   "outputs": [],
   "source": []
  },
  {
   "cell_type": "code",
   "execution_count": null,
   "id": "romance-sweden",
   "metadata": {
    "papermill": {
     "duration": 0.014373,
     "end_time": "2022-10-09T03:36:08.467733",
     "exception": false,
     "start_time": "2022-10-09T03:36:08.453360",
     "status": "completed"
    },
    "tags": []
   },
   "outputs": [],
   "source": []
  },
  {
   "cell_type": "code",
   "execution_count": null,
   "id": "dietary-statistics",
   "metadata": {
    "papermill": {
     "duration": 0.014877,
     "end_time": "2022-10-09T03:36:08.497512",
     "exception": false,
     "start_time": "2022-10-09T03:36:08.482635",
     "status": "completed"
    },
    "tags": []
   },
   "outputs": [],
   "source": []
  }
 ],
 "metadata": {
  "kernelspec": {
   "display_name": "Python 3",
   "language": "python",
   "name": "python3"
  },
  "language_info": {
   "codemirror_mode": {
    "name": "ipython",
    "version": 3
   },
   "file_extension": ".py",
   "mimetype": "text/x-python",
   "name": "python",
   "nbconvert_exporter": "python",
   "pygments_lexer": "ipython3",
   "version": "3.6.15"
  },
  "papermill": {
   "default_parameters": {},
   "duration": 17.697472,
   "end_time": "2022-10-09T03:36:09.031943",
   "environment_variables": {},
   "exception": null,
   "input_path": "Market-News.ipynb",
   "output_path": "Market-News.ipynb",
   "parameters": {},
   "start_time": "2022-10-09T03:35:51.334471",
   "version": "2.2.2"
  }
 },
 "nbformat": 4,
 "nbformat_minor": 5
}