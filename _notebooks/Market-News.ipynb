{
 "cells": [
  {
   "cell_type": "markdown",
   "id": "short-greensboro",
   "metadata": {
    "papermill": {
     "duration": 0.014471,
     "end_time": "2022-06-10T03:01:15.038495",
     "exception": false,
     "start_time": "2022-06-10T03:01:15.024024",
     "status": "completed"
    },
    "tags": []
   },
   "source": [
    "# Kriptovaliutų naujienos"
   ]
  },
  {
   "cell_type": "code",
   "execution_count": 1,
   "id": "functioning-knowing",
   "metadata": {
    "execution": {
     "iopub.execute_input": "2022-06-10T03:01:15.070161Z",
     "iopub.status.busy": "2022-06-10T03:01:15.069497Z",
     "iopub.status.idle": "2022-06-10T03:01:16.377688Z",
     "shell.execute_reply": "2022-06-10T03:01:16.377160Z"
    },
    "papermill": {
     "duration": 1.328769,
     "end_time": "2022-06-10T03:01:16.377830",
     "exception": false,
     "start_time": "2022-06-10T03:01:15.049061",
     "status": "completed"
    },
    "tags": []
   },
   "outputs": [],
   "source": [
    "#hide_input\n",
    "import warnings\n",
    "warnings.filterwarnings('ignore')\n",
    "from scripts.read_data import read_api\n",
    "from scripts.read_data import read_news\n",
    "from scripts.read_data import read_covid\n",
    "import matplotlib.pyplot as plt \n",
    "from IPython.display import Markdown as md"
   ]
  },
  {
   "cell_type": "code",
   "execution_count": 2,
   "id": "shared-acceptance",
   "metadata": {
    "execution": {
     "iopub.execute_input": "2022-06-10T03:01:16.403577Z",
     "iopub.status.busy": "2022-06-10T03:01:16.402959Z",
     "iopub.status.idle": "2022-06-10T03:01:27.678261Z",
     "shell.execute_reply": "2022-06-10T03:01:27.677189Z"
    },
    "papermill": {
     "duration": 11.291172,
     "end_time": "2022-06-10T03:01:27.678412",
     "exception": false,
     "start_time": "2022-06-10T03:01:16.387240",
     "status": "completed"
    },
    "tags": []
   },
   "outputs": [],
   "source": [
    "#hide_input\n",
    "blockchain = read_news('blockchain') \n",
    "btc = read_news('btc') \n",
    "xrp = read_news('xrp') \n",
    "trx = read_news('trx') \n",
    "eth = read_news('eth')  \n",
    "ada = read_news('ada')\n",
    "exchange = read_news('exchange') "
   ]
  },
  {
   "cell_type": "code",
   "execution_count": 3,
   "id": "synthetic-notion",
   "metadata": {
    "execution": {
     "iopub.execute_input": "2022-06-10T03:01:27.704156Z",
     "iopub.status.busy": "2022-06-10T03:01:27.703531Z",
     "iopub.status.idle": "2022-06-10T03:01:27.709328Z",
     "shell.execute_reply": "2022-06-10T03:01:27.709754Z"
    },
    "papermill": {
     "duration": 0.021954,
     "end_time": "2022-06-10T03:01:27.709901",
     "exception": false,
     "start_time": "2022-06-10T03:01:27.687947",
     "status": "completed"
    },
    "tags": []
   },
   "outputs": [
    {
     "data": {
      "text/markdown": [
       "- How The Ethereum Merge Could Impact Staking Yields.  Max Shannon, Digital Asset Analyst at major European digital asset investment firm CoinShares._____ The Merge aims to move Ethereum from Proof of Work (PoW) to Proof of Stake (PoS), and provide the foundation for increased scalability and reduced energy consumption. Detrimental trade-offs in terms of censorship resistance, trust minimization, and decentralization could occur as we have detailed here....Read More: How The Ethereum Merge Could Impact Staking Yields ... [| Skaityti daugiau](https://cryptonews.com/exclusives/how-the-ethereum-merge-could-impact-staking-yields.htm) "
      ],
      "text/plain": [
       "<IPython.core.display.Markdown object>"
      ]
     },
     "execution_count": 3,
     "metadata": {},
     "output_type": "execute_result"
    }
   ],
   "source": [
    "#hide_input\n",
    "#md('##### {}'.format(titleBTC)) \n",
    "md(\"- {}{} {}{} [| Skaityti daugiau]({}) \".format(blockchain['title'],'. ', blockchain['body'], ' ...', blockchain['url']))"
   ]
  },
  {
   "cell_type": "code",
   "execution_count": 4,
   "id": "aging-caution",
   "metadata": {
    "execution": {
     "iopub.execute_input": "2022-06-10T03:01:27.735468Z",
     "iopub.status.busy": "2022-06-10T03:01:27.734747Z",
     "iopub.status.idle": "2022-06-10T03:01:27.737582Z",
     "shell.execute_reply": "2022-06-10T03:01:27.737020Z"
    },
    "papermill": {
     "duration": 0.018357,
     "end_time": "2022-06-10T03:01:27.737698",
     "exception": false,
     "start_time": "2022-06-10T03:01:27.719341",
     "status": "completed"
    },
    "tags": []
   },
   "outputs": [
    {
     "data": {
      "text/markdown": [
       "- Bitcoin miners say NY ban will be ineffective and 'isolate' the state.  Miners feel that the New York legislature’s efforts to get Bitcoin miners out of their state will backfire in the long run as other states invite miners to help improve their energy grid. ... [| Skaityti daugiau](https://cointelegraph.com/news/bitcoin-miners-say-ny-ban-will-be-ineffective-and-isolate-the-state) "
      ],
      "text/plain": [
       "<IPython.core.display.Markdown object>"
      ]
     },
     "execution_count": 4,
     "metadata": {},
     "output_type": "execute_result"
    }
   ],
   "source": [
    "#hide_input\n",
    "#md('##### {}'.format(titleBTC)) \n",
    "md(\"- {}{} {}{} [| Skaityti daugiau]({}) \".format(btc['title'],'. ', btc['body'], ' ...', btc['url']))"
   ]
  },
  {
   "cell_type": "code",
   "execution_count": 5,
   "id": "organic-actress",
   "metadata": {
    "execution": {
     "iopub.execute_input": "2022-06-10T03:01:27.763217Z",
     "iopub.status.busy": "2022-06-10T03:01:27.762123Z",
     "iopub.status.idle": "2022-06-10T03:01:27.768522Z",
     "shell.execute_reply": "2022-06-10T03:01:27.768963Z"
    },
    "papermill": {
     "duration": 0.021767,
     "end_time": "2022-06-10T03:01:27.769102",
     "exception": false,
     "start_time": "2022-06-10T03:01:27.747335",
     "status": "completed"
    },
    "tags": []
   },
   "outputs": [
    {
     "data": {
      "text/markdown": [
       "- US SEC Made a ‘Big Mistake’ in Its $XRP Lawsuit Against Ripple, Legal Expert Says.  The U.S. Securities and Exchange Commission (SEC) has made a “big mistake” in its lawsuit against Ripple and two of its executives over the $XRP token, according to crypto legal expert Jeremy Hogan. In a newly published video, first spotted by Daily Hodl, Hogan weighed in on the lawsuit’s recent developments which have centered on […] ... [| Skaityti daugiau](https://www.cryptoglobe.com/latest/2022/06/us-sec-made-a-big-mistake-in-its-xrp-lawsuit-against-ripple-legal-expert-says/) "
      ],
      "text/plain": [
       "<IPython.core.display.Markdown object>"
      ]
     },
     "execution_count": 5,
     "metadata": {},
     "output_type": "execute_result"
    }
   ],
   "source": [
    "#hide_input\n",
    "#md('##### {}'.format(titleBTC)) \n",
    "md(\"- {}{} {}{} [| Skaityti daugiau]({}) \".format(xrp['title'],'. ', xrp['body'], ' ...', xrp['url']))"
   ]
  },
  {
   "cell_type": "code",
   "execution_count": 6,
   "id": "prompt-farmer",
   "metadata": {
    "execution": {
     "iopub.execute_input": "2022-06-10T03:01:27.795042Z",
     "iopub.status.busy": "2022-06-10T03:01:27.794352Z",
     "iopub.status.idle": "2022-06-10T03:01:27.800353Z",
     "shell.execute_reply": "2022-06-10T03:01:27.800813Z"
    },
    "papermill": {
     "duration": 0.021721,
     "end_time": "2022-06-10T03:01:27.800955",
     "exception": false,
     "start_time": "2022-06-10T03:01:27.779234",
     "status": "completed"
    },
    "tags": []
   },
   "outputs": [
    {
     "data": {
      "text/markdown": [
       "- Tron [TRX]: Why an extended rally depends on these conditions.  Post a lift-off from the $0.066-support, Tron [TRX] has made an impressive advancement in the last three weeks. After matching its monthly highs on 1 June, the lower peaks coupled with higher troughs chalked out a symmetrical triangle. Should the current revival streak sustainably close above the stiffness of the Point of Control (POC, red), [&#8230;] ... [| Skaityti daugiau](https://ambcrypto.com/tron-trx-why-an-extended-rally-depends-on-these-conditions/) "
      ],
      "text/plain": [
       "<IPython.core.display.Markdown object>"
      ]
     },
     "execution_count": 6,
     "metadata": {},
     "output_type": "execute_result"
    }
   ],
   "source": [
    "#hide_input\n",
    "#md('##### {}'.format(titleBTC)) \n",
    "md(\"- {}{} {}{} [| Skaityti daugiau]({}) \".format(trx['title'],'. ', trx['body'], ' ...', trx['url']))"
   ]
  },
  {
   "cell_type": "code",
   "execution_count": 7,
   "id": "illegal-greece",
   "metadata": {
    "execution": {
     "iopub.execute_input": "2022-06-10T03:01:27.828275Z",
     "iopub.status.busy": "2022-06-10T03:01:27.827652Z",
     "iopub.status.idle": "2022-06-10T03:01:27.832907Z",
     "shell.execute_reply": "2022-06-10T03:01:27.833331Z"
    },
    "papermill": {
     "duration": 0.022009,
     "end_time": "2022-06-10T03:01:27.833467",
     "exception": false,
     "start_time": "2022-06-10T03:01:27.811458",
     "status": "completed"
    },
    "tags": []
   },
   "outputs": [
    {
     "data": {
      "text/markdown": [
       "- Ethereum Bulls Hints at Recovery! Will ETH Price Close The Week at $2K?.  The post Ethereum Bulls Hints at Recovery! Will ETH Price Close The Week at $2K? appeared first on Coinpedia - Fintech &amp; Cryptocurreny News Media| Crypto GuideEthereum (ETH) has dropped mercilessly in the last two weeks, trading below the $1800 mark. However, due to a successful Merge on the Ropsten testnet, favourable on-chain statistics, increased whale holdings, and other positive variables, prices may be able to stabilize at current levels. On June 8, the Ethereum team successfully completed the Merge on &#8230; ... [| Skaityti daugiau](https://coinpedia.org/ethereum/ethereum-bulls-hints-at-recovery-will-eth-price-close-the-week-at-2k/) "
      ],
      "text/plain": [
       "<IPython.core.display.Markdown object>"
      ]
     },
     "execution_count": 7,
     "metadata": {},
     "output_type": "execute_result"
    }
   ],
   "source": [
    "#hide_input\n",
    "#md('##### {}'.format(titleBTC)) \n",
    "md(\"- {}{} {}{} [| Skaityti daugiau]({}) \".format(eth['title'],'. ', eth['body'], ' ...', eth['url']))"
   ]
  },
  {
   "cell_type": "code",
   "execution_count": 8,
   "id": "sublime-lounge",
   "metadata": {
    "execution": {
     "iopub.execute_input": "2022-06-10T03:01:27.861016Z",
     "iopub.status.busy": "2022-06-10T03:01:27.859818Z",
     "iopub.status.idle": "2022-06-10T03:01:27.865788Z",
     "shell.execute_reply": "2022-06-10T03:01:27.866212Z"
    },
    "papermill": {
     "duration": 0.022257,
     "end_time": "2022-06-10T03:01:27.866351",
     "exception": false,
     "start_time": "2022-06-10T03:01:27.844094",
     "status": "completed"
    },
    "tags": []
   },
   "outputs": [
    {
     "data": {
      "text/markdown": [
       "- Cardano price analysis: ADA could correct to $0.55 after recent upswing.  Cardano price analysis could turn bearish soon, as today&#8217;s price action saw the token consolidating around the $0.64 mark. After posting a series of successive green candlesticks on the daily chart, ADA price seemed to face some seller pressure at the current trend. The 25 percent rise over the past week has led ADA on... ... [| Skaityti daugiau](https://www.cryptopolitan.com/cardano-price-analysis-2022-06-09/) "
      ],
      "text/plain": [
       "<IPython.core.display.Markdown object>"
      ]
     },
     "execution_count": 8,
     "metadata": {},
     "output_type": "execute_result"
    }
   ],
   "source": [
    "#hide_input\n",
    "#md('##### {}'.format(titleBTC)) \n",
    "md(\"- {}{} {}{} [| Skaityti daugiau]({}) \".format(ada['title'],'. ', ada['body'], ' ...', ada['url']))"
   ]
  },
  {
   "cell_type": "code",
   "execution_count": 9,
   "id": "specified-ordering",
   "metadata": {
    "execution": {
     "iopub.execute_input": "2022-06-10T03:01:27.895559Z",
     "iopub.status.busy": "2022-06-10T03:01:27.894919Z",
     "iopub.status.idle": "2022-06-10T03:01:27.900443Z",
     "shell.execute_reply": "2022-06-10T03:01:27.900908Z"
    },
    "papermill": {
     "duration": 0.022413,
     "end_time": "2022-06-10T03:01:27.901052",
     "exception": false,
     "start_time": "2022-06-10T03:01:27.878639",
     "status": "completed"
    },
    "tags": []
   },
   "outputs": [
    {
     "data": {
      "text/markdown": [
       "- GensoKishi’s MV Token to Be Listed on Kraken.  PRESS RELEASE. On June 9, 2022 at 14:30 UTC, the FIAT currency pairs of MV(ERC20)/USD and MV(ERC20)/EUR will be listed on Kraken, a leading crypto exchange. Genso believes that by listing MV on Kraken, Genso will be able to increase the reach of our Metaverse to more users, and therefore stimulate the GensoKishi Online Economy. [&#8230;] ... [| Skaityti daugiau](https://news.bitcoin.com/gensokishis-mv-token-to-be-listed-on-kraken/) "
      ],
      "text/plain": [
       "<IPython.core.display.Markdown object>"
      ]
     },
     "execution_count": 9,
     "metadata": {},
     "output_type": "execute_result"
    }
   ],
   "source": [
    "#hide_input\n",
    "#md('##### {}'.format(titleBTC)) \n",
    "md(\"- {}{} {}{} [| Skaityti daugiau]({}) \".format(exchange['title'],'. ', exchange['body'], ' ...', exchange['url']))"
   ]
  },
  {
   "cell_type": "code",
   "execution_count": null,
   "id": "tender-livestock",
   "metadata": {
    "papermill": {
     "duration": 0.011876,
     "end_time": "2022-06-10T03:01:27.924556",
     "exception": false,
     "start_time": "2022-06-10T03:01:27.912680",
     "status": "completed"
    },
    "tags": []
   },
   "outputs": [],
   "source": []
  },
  {
   "cell_type": "code",
   "execution_count": null,
   "id": "appreciated-diamond",
   "metadata": {
    "papermill": {
     "duration": 0.011509,
     "end_time": "2022-06-10T03:01:27.947487",
     "exception": false,
     "start_time": "2022-06-10T03:01:27.935978",
     "status": "completed"
    },
    "tags": []
   },
   "outputs": [],
   "source": []
  },
  {
   "cell_type": "code",
   "execution_count": null,
   "id": "romance-sweden",
   "metadata": {
    "papermill": {
     "duration": 0.011345,
     "end_time": "2022-06-10T03:01:27.970186",
     "exception": false,
     "start_time": "2022-06-10T03:01:27.958841",
     "status": "completed"
    },
    "tags": []
   },
   "outputs": [],
   "source": []
  },
  {
   "cell_type": "code",
   "execution_count": null,
   "id": "dietary-statistics",
   "metadata": {
    "papermill": {
     "duration": 0.011289,
     "end_time": "2022-06-10T03:01:27.992927",
     "exception": false,
     "start_time": "2022-06-10T03:01:27.981638",
     "status": "completed"
    },
    "tags": []
   },
   "outputs": [],
   "source": []
  }
 ],
 "metadata": {
  "kernelspec": {
   "display_name": "Python 3",
   "language": "python",
   "name": "python3"
  },
  "language_info": {
   "codemirror_mode": {
    "name": "ipython",
    "version": 3
   },
   "file_extension": ".py",
   "mimetype": "text/x-python",
   "name": "python",
   "nbconvert_exporter": "python",
   "pygments_lexer": "ipython3",
   "version": "3.6.15"
  },
  "papermill": {
   "default_parameters": {},
   "duration": 14.751612,
   "end_time": "2022-06-10T03:01:28.523675",
   "environment_variables": {},
   "exception": null,
   "input_path": "Market-News.ipynb",
   "output_path": "Market-News.ipynb",
   "parameters": {},
   "start_time": "2022-06-10T03:01:13.772063",
   "version": "2.2.2"
  }
 },
 "nbformat": 4,
 "nbformat_minor": 5
}