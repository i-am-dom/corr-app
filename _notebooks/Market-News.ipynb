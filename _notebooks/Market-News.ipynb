{
 "cells": [
  {
   "cell_type": "markdown",
   "id": "short-greensboro",
   "metadata": {
    "papermill": {
     "duration": 0.013303,
     "end_time": "2022-06-13T03:06:01.851306",
     "exception": false,
     "start_time": "2022-06-13T03:06:01.838003",
     "status": "completed"
    },
    "tags": []
   },
   "source": [
    "# Kriptovaliutų naujienos"
   ]
  },
  {
   "cell_type": "code",
   "execution_count": 1,
   "id": "functioning-knowing",
   "metadata": {
    "execution": {
     "iopub.execute_input": "2022-06-13T03:06:01.880554Z",
     "iopub.status.busy": "2022-06-13T03:06:01.879833Z",
     "iopub.status.idle": "2022-06-13T03:06:03.110599Z",
     "shell.execute_reply": "2022-06-13T03:06:03.109576Z"
    },
    "papermill": {
     "duration": 1.249769,
     "end_time": "2022-06-13T03:06:03.110751",
     "exception": false,
     "start_time": "2022-06-13T03:06:01.860982",
     "status": "completed"
    },
    "tags": []
   },
   "outputs": [],
   "source": [
    "#hide_input\n",
    "import warnings\n",
    "warnings.filterwarnings('ignore')\n",
    "from scripts.read_data import read_api\n",
    "from scripts.read_data import read_news\n",
    "from scripts.read_data import read_covid\n",
    "import matplotlib.pyplot as plt \n",
    "from IPython.display import Markdown as md"
   ]
  },
  {
   "cell_type": "code",
   "execution_count": 2,
   "id": "shared-acceptance",
   "metadata": {
    "execution": {
     "iopub.execute_input": "2022-06-13T03:06:03.135281Z",
     "iopub.status.busy": "2022-06-13T03:06:03.134268Z",
     "iopub.status.idle": "2022-06-13T03:06:12.127108Z",
     "shell.execute_reply": "2022-06-13T03:06:12.126107Z"
    },
    "papermill": {
     "duration": 9.00727,
     "end_time": "2022-06-13T03:06:12.127246",
     "exception": false,
     "start_time": "2022-06-13T03:06:03.119976",
     "status": "completed"
    },
    "tags": []
   },
   "outputs": [],
   "source": [
    "#hide_input\n",
    "blockchain = read_news('blockchain') \n",
    "btc = read_news('btc') \n",
    "xrp = read_news('xrp') \n",
    "trx = read_news('trx') \n",
    "eth = read_news('eth')  \n",
    "ada = read_news('ada')\n",
    "exchange = read_news('exchange') "
   ]
  },
  {
   "cell_type": "code",
   "execution_count": 3,
   "id": "synthetic-notion",
   "metadata": {
    "execution": {
     "iopub.execute_input": "2022-06-13T03:06:12.152003Z",
     "iopub.status.busy": "2022-06-13T03:06:12.151379Z",
     "iopub.status.idle": "2022-06-13T03:06:12.154716Z",
     "shell.execute_reply": "2022-06-13T03:06:12.154265Z"
    },
    "papermill": {
     "duration": 0.018225,
     "end_time": "2022-06-13T03:06:12.154826",
     "exception": false,
     "start_time": "2022-06-13T03:06:12.136601",
     "status": "completed"
    },
    "tags": []
   },
   "outputs": [
    {
     "data": {
      "text/markdown": [
       "- Crypto Corner: The Sports Slice.  One platform has raised $10M to build the next blockchain sports game, while several other sports crypto platforms have fallen. Meanwhile, a new Seton Hall survey shows that there&#8217;s a strong audience interested in both sports and crypto &#8211; and the UFC has yet again another crypto partner. Every weekend, we provide you with a [&#8230;] ... [| Skaityti daugiau](https://bitcoinist.com/crypto-corner-the-sports-slice-42/) "
      ],
      "text/plain": [
       "<IPython.core.display.Markdown object>"
      ]
     },
     "execution_count": 3,
     "metadata": {},
     "output_type": "execute_result"
    }
   ],
   "source": [
    "#hide_input\n",
    "#md('##### {}'.format(titleBTC)) \n",
    "md(\"- {}{} {}{} [| Skaityti daugiau]({}) \".format(blockchain['title'],'. ', blockchain['body'], ' ...', blockchain['url']))"
   ]
  },
  {
   "cell_type": "code",
   "execution_count": 4,
   "id": "aging-caution",
   "metadata": {
    "execution": {
     "iopub.execute_input": "2022-06-13T03:06:12.178589Z",
     "iopub.status.busy": "2022-06-13T03:06:12.178009Z",
     "iopub.status.idle": "2022-06-13T03:06:12.181100Z",
     "shell.execute_reply": "2022-06-13T03:06:12.181561Z"
    },
    "papermill": {
     "duration": 0.017632,
     "end_time": "2022-06-13T03:06:12.181681",
     "exception": false,
     "start_time": "2022-06-13T03:06:12.164049",
     "status": "completed"
    },
    "tags": []
   },
   "outputs": [
    {
     "data": {
      "text/markdown": [
       "- Bitcoin, Ethereum, Monero, and Ethereum Classic Daily Price Analyses – 12 June Roundup.  The global crypto market hasn&#8217;t been able to see an improvement in value. The changes show that Bitcoin and other following coins have increased the pace of losses. The change in the pattern shows that the market is going through hard times again. The recent few weeks saw the market stabilizing, but the current wave... ... [| Skaityti daugiau](https://www.cryptopolitan.com/bitcoin-ethereum-monero-and-ethereum-classic-daily-price-analyses-12-june-roundup/) "
      ],
      "text/plain": [
       "<IPython.core.display.Markdown object>"
      ]
     },
     "execution_count": 4,
     "metadata": {},
     "output_type": "execute_result"
    }
   ],
   "source": [
    "#hide_input\n",
    "#md('##### {}'.format(titleBTC)) \n",
    "md(\"- {}{} {}{} [| Skaityti daugiau]({}) \".format(btc['title'],'. ', btc['body'], ' ...', btc['url']))"
   ]
  },
  {
   "cell_type": "code",
   "execution_count": 5,
   "id": "organic-actress",
   "metadata": {
    "execution": {
     "iopub.execute_input": "2022-06-13T03:06:12.205446Z",
     "iopub.status.busy": "2022-06-13T03:06:12.204802Z",
     "iopub.status.idle": "2022-06-13T03:06:12.208172Z",
     "shell.execute_reply": "2022-06-13T03:06:12.208648Z"
    },
    "papermill": {
     "duration": 0.017656,
     "end_time": "2022-06-13T03:06:12.208763",
     "exception": false,
     "start_time": "2022-06-13T03:06:12.191107",
     "status": "completed"
    },
    "tags": []
   },
   "outputs": [
    {
     "data": {
      "text/markdown": [
       "- Novatti’s AUDC to Leverage Ripple’s XRP Ledger for Cost-Efficient Cross Border Payments.  The stablecoin will be integrated into Novatti’s existing suite of digital payment solutions to potentially create low-cost domestic and cross-border payment protocols. ... [| Skaityti daugiau](https://cryptopotato.com/novattis-audc-to-leverage-ripples-xrp-ledger-for-cost-efficient-cross-border-payments/) "
      ],
      "text/plain": [
       "<IPython.core.display.Markdown object>"
      ]
     },
     "execution_count": 5,
     "metadata": {},
     "output_type": "execute_result"
    }
   ],
   "source": [
    "#hide_input\n",
    "#md('##### {}'.format(titleBTC)) \n",
    "md(\"- {}{} {}{} [| Skaityti daugiau]({}) \".format(xrp['title'],'. ', xrp['body'], ' ...', xrp['url']))"
   ]
  },
  {
   "cell_type": "code",
   "execution_count": 6,
   "id": "prompt-farmer",
   "metadata": {
    "execution": {
     "iopub.execute_input": "2022-06-13T03:06:12.232212Z",
     "iopub.status.busy": "2022-06-13T03:06:12.231389Z",
     "iopub.status.idle": "2022-06-13T03:06:12.235622Z",
     "shell.execute_reply": "2022-06-13T03:06:12.235156Z"
    },
    "papermill": {
     "duration": 0.017182,
     "end_time": "2022-06-13T03:06:12.235721",
     "exception": false,
     "start_time": "2022-06-13T03:06:12.218539",
     "status": "completed"
    },
    "tags": []
   },
   "outputs": [
    {
     "data": {
      "text/markdown": [
       "- Tron Dao buys $50M of Bitcoin and TRX to add to USDD reserves.  The purchase was announced in a tweet saying it was meant to “safeguard the overall blockchain industry and crypto market.” ... [| Skaityti daugiau](https://www.theblockcrypto.com/linked/151517/tron-dao-buys-50m-of-bitcoin-and-trx-to-add-to-usdd-reserves?utm_source=cryptocompare&utm_medium=rss) "
      ],
      "text/plain": [
       "<IPython.core.display.Markdown object>"
      ]
     },
     "execution_count": 6,
     "metadata": {},
     "output_type": "execute_result"
    }
   ],
   "source": [
    "#hide_input\n",
    "#md('##### {}'.format(titleBTC)) \n",
    "md(\"- {}{} {}{} [| Skaityti daugiau]({}) \".format(trx['title'],'. ', trx['body'], ' ...', trx['url']))"
   ]
  },
  {
   "cell_type": "code",
   "execution_count": 7,
   "id": "illegal-greece",
   "metadata": {
    "execution": {
     "iopub.execute_input": "2022-06-13T03:06:12.260804Z",
     "iopub.status.busy": "2022-06-13T03:06:12.260232Z",
     "iopub.status.idle": "2022-06-13T03:06:12.263794Z",
     "shell.execute_reply": "2022-06-13T03:06:12.263328Z"
    },
    "papermill": {
     "duration": 0.017985,
     "end_time": "2022-06-13T03:06:12.263893",
     "exception": false,
     "start_time": "2022-06-13T03:06:12.245908",
     "status": "completed"
    },
    "tags": []
   },
   "outputs": [
    {
     "data": {
      "text/markdown": [
       "- Puuvilla Society: Is the new Klaytn-based NFT collection here to sink or swim.  The undisputed rulers of the NFT world are Ethereum [ETH]-based NFTs. In recent times, Solana-based NFTs have also managed to establish a decent position. However, the Klaytn-based NFT project Puuvilla Society seems to be the latest entry in the NFT space. The Puuvilla Society NFT collection launched on 11 June and has already made its [&#8230;] ... [| Skaityti daugiau](https://ambcrypto.com/puuvilla-society-is-the-new-klaytn-based-nft-collection-here-to-sink-or-swim/) "
      ],
      "text/plain": [
       "<IPython.core.display.Markdown object>"
      ]
     },
     "execution_count": 7,
     "metadata": {},
     "output_type": "execute_result"
    }
   ],
   "source": [
    "#hide_input\n",
    "#md('##### {}'.format(titleBTC)) \n",
    "md(\"- {}{} {}{} [| Skaityti daugiau]({}) \".format(eth['title'],'. ', eth['body'], ' ...', eth['url']))"
   ]
  },
  {
   "cell_type": "code",
   "execution_count": 8,
   "id": "sublime-lounge",
   "metadata": {
    "execution": {
     "iopub.execute_input": "2022-06-13T03:06:12.289609Z",
     "iopub.status.busy": "2022-06-13T03:06:12.289020Z",
     "iopub.status.idle": "2022-06-13T03:06:12.292906Z",
     "shell.execute_reply": "2022-06-13T03:06:12.292440Z"
    },
    "papermill": {
     "duration": 0.018783,
     "end_time": "2022-06-13T03:06:12.293037",
     "exception": false,
     "start_time": "2022-06-13T03:06:12.274254",
     "status": "completed"
    },
    "tags": []
   },
   "outputs": [
    {
     "data": {
      "text/markdown": [
       "- Cardano: Where ADA’s price could head next after reaching its long-term support.  Disclaimer: The findings of the following analysis are the sole opinions of the writer and should not be considered investment advice. As anticipated in the previous article, Cardano&#8217;s [ADA] near-term revival saw a drawdown from its immediate supply zone near the $0.63-level. After jumping above key levels, the recent losses have pulled ADA below the resistance [&#8230;] ... [| Skaityti daugiau](https://ambcrypto.com/cardano-where-adas-price-could-head-next-after-reaching-its-long-term-support/) "
      ],
      "text/plain": [
       "<IPython.core.display.Markdown object>"
      ]
     },
     "execution_count": 8,
     "metadata": {},
     "output_type": "execute_result"
    }
   ],
   "source": [
    "#hide_input\n",
    "#md('##### {}'.format(titleBTC)) \n",
    "md(\"- {}{} {}{} [| Skaityti daugiau]({}) \".format(ada['title'],'. ', ada['body'], ' ...', ada['url']))"
   ]
  },
  {
   "cell_type": "code",
   "execution_count": 9,
   "id": "specified-ordering",
   "metadata": {
    "execution": {
     "iopub.execute_input": "2022-06-13T03:06:12.320423Z",
     "iopub.status.busy": "2022-06-13T03:06:12.319846Z",
     "iopub.status.idle": "2022-06-13T03:06:12.323712Z",
     "shell.execute_reply": "2022-06-13T03:06:12.323241Z"
    },
    "papermill": {
     "duration": 0.018975,
     "end_time": "2022-06-13T03:06:12.323814",
     "exception": false,
     "start_time": "2022-06-13T03:06:12.304839",
     "status": "completed"
    },
    "tags": []
   },
   "outputs": [
    {
     "data": {
      "text/markdown": [
       "- Huobi Launches Blockchain and Web3 Investment Arm Ivy Blocks.  Huobi, a leading cryptocurrency exchange, has announced the creation of a new investment arm to tackle decentralized finance and Web3 projects. Ivy Blocks, as it was named by the exchange, will focus on finding projects in seed stages to aid them via financing and other supporting services with the objective of making a &#x201C;better, more [&#8230;] ... [| Skaityti daugiau](https://news.bitcoin.com/huobi-launches-blockchain-and-web3-investment-arm-ivy-blocks/) "
      ],
      "text/plain": [
       "<IPython.core.display.Markdown object>"
      ]
     },
     "execution_count": 9,
     "metadata": {},
     "output_type": "execute_result"
    }
   ],
   "source": [
    "#hide_input\n",
    "#md('##### {}'.format(titleBTC)) \n",
    "md(\"- {}{} {}{} [| Skaityti daugiau]({}) \".format(exchange['title'],'. ', exchange['body'], ' ...', exchange['url']))"
   ]
  },
  {
   "cell_type": "code",
   "execution_count": null,
   "id": "tender-livestock",
   "metadata": {
    "papermill": {
     "duration": 0.011066,
     "end_time": "2022-06-13T03:06:12.345909",
     "exception": false,
     "start_time": "2022-06-13T03:06:12.334843",
     "status": "completed"
    },
    "tags": []
   },
   "outputs": [],
   "source": []
  },
  {
   "cell_type": "code",
   "execution_count": null,
   "id": "appreciated-diamond",
   "metadata": {
    "papermill": {
     "duration": 0.011388,
     "end_time": "2022-06-13T03:06:12.368520",
     "exception": false,
     "start_time": "2022-06-13T03:06:12.357132",
     "status": "completed"
    },
    "tags": []
   },
   "outputs": [],
   "source": []
  },
  {
   "cell_type": "code",
   "execution_count": null,
   "id": "romance-sweden",
   "metadata": {
    "papermill": {
     "duration": 0.011078,
     "end_time": "2022-06-13T03:06:12.390767",
     "exception": false,
     "start_time": "2022-06-13T03:06:12.379689",
     "status": "completed"
    },
    "tags": []
   },
   "outputs": [],
   "source": []
  },
  {
   "cell_type": "code",
   "execution_count": null,
   "id": "dietary-statistics",
   "metadata": {
    "papermill": {
     "duration": 0.01101,
     "end_time": "2022-06-13T03:06:12.412879",
     "exception": false,
     "start_time": "2022-06-13T03:06:12.401869",
     "status": "completed"
    },
    "tags": []
   },
   "outputs": [],
   "source": []
  }
 ],
 "metadata": {
  "kernelspec": {
   "display_name": "Python 3",
   "language": "python",
   "name": "python3"
  },
  "language_info": {
   "codemirror_mode": {
    "name": "ipython",
    "version": 3
   },
   "file_extension": ".py",
   "mimetype": "text/x-python",
   "name": "python",
   "nbconvert_exporter": "python",
   "pygments_lexer": "ipython3",
   "version": "3.6.15"
  },
  "papermill": {
   "default_parameters": {},
   "duration": 12.032347,
   "end_time": "2022-06-13T03:06:12.842245",
   "environment_variables": {},
   "exception": null,
   "input_path": "Market-News.ipynb",
   "output_path": "Market-News.ipynb",
   "parameters": {},
   "start_time": "2022-06-13T03:06:00.809898",
   "version": "2.2.2"
  }
 },
 "nbformat": 4,
 "nbformat_minor": 5
}