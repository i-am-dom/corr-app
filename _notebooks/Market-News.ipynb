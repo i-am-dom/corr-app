{
 "cells": [
  {
   "cell_type": "markdown",
   "id": "short-greensboro",
   "metadata": {
    "papermill": {
     "duration": 0.013438,
     "end_time": "2022-09-30T03:59:24.199498",
     "exception": false,
     "start_time": "2022-09-30T03:59:24.186060",
     "status": "completed"
    },
    "tags": []
   },
   "source": [
    "# Kriptovaliutų naujienos"
   ]
  },
  {
   "cell_type": "code",
   "execution_count": 1,
   "id": "functioning-knowing",
   "metadata": {
    "execution": {
     "iopub.execute_input": "2022-09-30T03:59:24.228343Z",
     "iopub.status.busy": "2022-09-30T03:59:24.227773Z",
     "iopub.status.idle": "2022-09-30T03:59:25.363009Z",
     "shell.execute_reply": "2022-09-30T03:59:25.362517Z"
    },
    "papermill": {
     "duration": 1.153831,
     "end_time": "2022-09-30T03:59:25.363134",
     "exception": false,
     "start_time": "2022-09-30T03:59:24.209303",
     "status": "completed"
    },
    "tags": []
   },
   "outputs": [],
   "source": [
    "#hide_input\n",
    "import warnings\n",
    "warnings.filterwarnings('ignore')\n",
    "from scripts.read_data import read_api\n",
    "from scripts.read_data import read_news\n",
    "from scripts.read_data import read_covid\n",
    "import matplotlib.pyplot as plt \n",
    "from IPython.display import Markdown as md"
   ]
  },
  {
   "cell_type": "code",
   "execution_count": 2,
   "id": "shared-acceptance",
   "metadata": {
    "execution": {
     "iopub.execute_input": "2022-09-30T03:59:25.388002Z",
     "iopub.status.busy": "2022-09-30T03:59:25.387049Z",
     "iopub.status.idle": "2022-09-30T03:59:35.965127Z",
     "shell.execute_reply": "2022-09-30T03:59:35.964169Z"
    },
    "papermill": {
     "duration": 10.592688,
     "end_time": "2022-09-30T03:59:35.965256",
     "exception": false,
     "start_time": "2022-09-30T03:59:25.372568",
     "status": "completed"
    },
    "tags": []
   },
   "outputs": [],
   "source": [
    "#hide_input\n",
    "blockchain = read_news('blockchain') \n",
    "btc = read_news('btc') \n",
    "xrp = read_news('xrp') \n",
    "trx = read_news('trx') \n",
    "eth = read_news('eth')  \n",
    "ada = read_news('ada')\n",
    "exchange = read_news('exchange') "
   ]
  },
  {
   "cell_type": "code",
   "execution_count": 3,
   "id": "synthetic-notion",
   "metadata": {
    "execution": {
     "iopub.execute_input": "2022-09-30T03:59:35.989872Z",
     "iopub.status.busy": "2022-09-30T03:59:35.989287Z",
     "iopub.status.idle": "2022-09-30T03:59:35.992385Z",
     "shell.execute_reply": "2022-09-30T03:59:35.991826Z"
    },
    "papermill": {
     "duration": 0.017832,
     "end_time": "2022-09-30T03:59:35.992483",
     "exception": false,
     "start_time": "2022-09-30T03:59:35.974651",
     "status": "completed"
    },
    "tags": []
   },
   "outputs": [
    {
     "data": {
      "text/markdown": [
       "- BlackRock’s newest ETF invests in 35 blockchain-related companies.  “We believe digital assets and blockchain technologies are going to become increasingly relevant for our clients,” said BlackRock ETF product strategist Omar Moufti. ... [| Skaityti daugiau](https://cointelegraph.com/news/blackrock-s-newest-etf-invests-in-35-blockchain-related-companies) "
      ],
      "text/plain": [
       "<IPython.core.display.Markdown object>"
      ]
     },
     "execution_count": 3,
     "metadata": {},
     "output_type": "execute_result"
    }
   ],
   "source": [
    "#hide_input\n",
    "#md('##### {}'.format(titleBTC)) \n",
    "md(\"- {}{} {}{} [| Skaityti daugiau]({}) \".format(blockchain['title'],'. ', blockchain['body'], ' ...', blockchain['url']))"
   ]
  },
  {
   "cell_type": "code",
   "execution_count": 4,
   "id": "aging-caution",
   "metadata": {
    "execution": {
     "iopub.execute_input": "2022-09-30T03:59:36.015518Z",
     "iopub.status.busy": "2022-09-30T03:59:36.014937Z",
     "iopub.status.idle": "2022-09-30T03:59:36.017674Z",
     "shell.execute_reply": "2022-09-30T03:59:36.018087Z"
    },
    "papermill": {
     "duration": 0.01633,
     "end_time": "2022-09-30T03:59:36.018194",
     "exception": false,
     "start_time": "2022-09-30T03:59:36.001864",
     "status": "completed"
    },
    "tags": []
   },
   "outputs": [
    {
     "data": {
      "text/markdown": [
       "- India Freezes Bitcoin at Binance Amid Investigation Involving Crypto Exchange Wazirx.  India&#x2019;s Enforcement Directorate (ED) says it has frozen more than 77.6 bitcoins that were transferred to Binance from Indian crypto exchange Wazirx. The freeze is part of a money laundering investigation into a mobile gaming application. Indian Authority Freezes Bitcoin Held at Crypto Exchange Binance India&#x2019;s Directorate of Enforcement (ED) announced Wednesday that it has [&#8230;] ... [| Skaityti daugiau](https://news.bitcoin.com/india-freezes-bitcoin-at-binance-amid-investigation-involving-crypto-exchange-wazirx/) "
      ],
      "text/plain": [
       "<IPython.core.display.Markdown object>"
      ]
     },
     "execution_count": 4,
     "metadata": {},
     "output_type": "execute_result"
    }
   ],
   "source": [
    "#hide_input\n",
    "#md('##### {}'.format(titleBTC)) \n",
    "md(\"- {}{} {}{} [| Skaityti daugiau]({}) \".format(btc['title'],'. ', btc['body'], ' ...', btc['url']))"
   ]
  },
  {
   "cell_type": "code",
   "execution_count": 5,
   "id": "organic-actress",
   "metadata": {
    "execution": {
     "iopub.execute_input": "2022-09-30T03:59:36.046251Z",
     "iopub.status.busy": "2022-09-30T03:59:36.045699Z",
     "iopub.status.idle": "2022-09-30T03:59:36.048671Z",
     "shell.execute_reply": "2022-09-30T03:59:36.048144Z"
    },
    "papermill": {
     "duration": 0.020845,
     "end_time": "2022-09-30T03:59:36.048764",
     "exception": false,
     "start_time": "2022-09-30T03:59:36.027919",
     "status": "completed"
    },
    "tags": []
   },
   "outputs": [
    {
     "data": {
      "text/markdown": [
       "- Bitcoin Price and Ethereum Primed for Gains, XRP Starts Fresh Rally.  Bitcoin price settled above the $19,000 level. BTC is currently (03:10 UTC) consolidating above the $19,200 level. A clear move above the $19,500 and $19,600 resistance levels might spark a fresh increase. Similarly, most major altcoins might start a decent increase. ETH seems to be aiming an upside break above $1,340 and $1,350. XRP gained pace and cleared the $0.48 resistance zone. ADA is still stuck near the $0.435 level....Read More: Bitcoin Price and Ethereum Primed for Gains, XRP Starts Fresh Rally ... [| Skaityti daugiau](https://cryptonews.com/news/bitcoin-price-ethereum-primed-for-gains-xrp-starts-fresh-rally.htm) "
      ],
      "text/plain": [
       "<IPython.core.display.Markdown object>"
      ]
     },
     "execution_count": 5,
     "metadata": {},
     "output_type": "execute_result"
    }
   ],
   "source": [
    "#hide_input\n",
    "#md('##### {}'.format(titleBTC)) \n",
    "md(\"- {}{} {}{} [| Skaityti daugiau]({}) \".format(xrp['title'],'. ', xrp['body'], ' ...', xrp['url']))"
   ]
  },
  {
   "cell_type": "code",
   "execution_count": 6,
   "id": "prompt-farmer",
   "metadata": {
    "execution": {
     "iopub.execute_input": "2022-09-30T03:59:36.073158Z",
     "iopub.status.busy": "2022-09-30T03:59:36.072590Z",
     "iopub.status.idle": "2022-09-30T03:59:36.075512Z",
     "shell.execute_reply": "2022-09-30T03:59:36.074986Z"
    },
    "papermill": {
     "duration": 0.016835,
     "end_time": "2022-09-30T03:59:36.075606",
     "exception": false,
     "start_time": "2022-09-30T03:59:36.058771",
     "status": "completed"
    },
    "tags": []
   },
   "outputs": [
    {
     "data": {
      "text/markdown": [
       "- Gas-Free TRC-20 Transactions on Guarda Wallet.  Guarda&#8217;s team has worked to improve the validators&#8217; fees to increase the APY received while staking the TRX. The TRX token is among the popular assets available on Guarda Wallet for staking to earn passive income. The APY of Tron is around 4%. So you can just delegate your asset to Guarda’s validator nodes. Brief [&#8230;]The post Gas-Free TRC-20 Transactions on Guarda Wallet appeared first on Blockchain, Crypto and Stock News. ... [| Skaityti daugiau](https://thecoinrise.com/gas-free-trc-20-transactions-on-guarda-wallet/) "
      ],
      "text/plain": [
       "<IPython.core.display.Markdown object>"
      ]
     },
     "execution_count": 6,
     "metadata": {},
     "output_type": "execute_result"
    }
   ],
   "source": [
    "#hide_input\n",
    "#md('##### {}'.format(titleBTC)) \n",
    "md(\"- {}{} {}{} [| Skaityti daugiau]({}) \".format(trx['title'],'. ', trx['body'], ' ...', trx['url']))"
   ]
  },
  {
   "cell_type": "code",
   "execution_count": 7,
   "id": "illegal-greece",
   "metadata": {
    "execution": {
     "iopub.execute_input": "2022-09-30T03:59:36.100929Z",
     "iopub.status.busy": "2022-09-30T03:59:36.100360Z",
     "iopub.status.idle": "2022-09-30T03:59:36.103386Z",
     "shell.execute_reply": "2022-09-30T03:59:36.102942Z"
    },
    "papermill": {
     "duration": 0.017375,
     "end_time": "2022-09-30T03:59:36.103476",
     "exception": false,
     "start_time": "2022-09-30T03:59:36.086101",
     "status": "completed"
    },
    "tags": []
   },
   "outputs": [
    {
     "data": {
      "text/markdown": [
       "- Bitcoin Price and Ethereum Primed for Gains, XRP Starts Fresh Rally.  Bitcoin price settled above the $19,000 level. BTC is currently (03:10 UTC) consolidating above the $19,200 level. A clear move above the $19,500 and $19,600 resistance levels might spark a fresh increase. Similarly, most major altcoins might start a decent increase. ETH seems to be aiming an upside break above $1,340 and $1,350. XRP gained pace and cleared the $0.48 resistance zone. ADA is still stuck near the $0.435 level....Read More: Bitcoin Price and Ethereum Primed for Gains, XRP Starts Fresh Rally ... [| Skaityti daugiau](https://cryptonews.com/news/bitcoin-price-ethereum-primed-for-gains-xrp-starts-fresh-rally.htm) "
      ],
      "text/plain": [
       "<IPython.core.display.Markdown object>"
      ]
     },
     "execution_count": 7,
     "metadata": {},
     "output_type": "execute_result"
    }
   ],
   "source": [
    "#hide_input\n",
    "#md('##### {}'.format(titleBTC)) \n",
    "md(\"- {}{} {}{} [| Skaityti daugiau]({}) \".format(eth['title'],'. ', eth['body'], ' ...', eth['url']))"
   ]
  },
  {
   "cell_type": "code",
   "execution_count": 8,
   "id": "sublime-lounge",
   "metadata": {
    "execution": {
     "iopub.execute_input": "2022-09-30T03:59:36.131159Z",
     "iopub.status.busy": "2022-09-30T03:59:36.130588Z",
     "iopub.status.idle": "2022-09-30T03:59:36.134729Z",
     "shell.execute_reply": "2022-09-30T03:59:36.134277Z"
    },
    "papermill": {
     "duration": 0.019712,
     "end_time": "2022-09-30T03:59:36.134821",
     "exception": false,
     "start_time": "2022-09-30T03:59:36.115109",
     "status": "completed"
    },
    "tags": []
   },
   "outputs": [
    {
     "data": {
      "text/markdown": [
       "- Bitcoin Price and Ethereum Primed for Gains, XRP Starts Fresh Rally.  Bitcoin price settled above the $19,000 level. BTC is currently (03:10 UTC) consolidating above the $19,200 level. A clear move above the $19,500 and $19,600 resistance levels might spark a fresh increase. Similarly, most major altcoins might start a decent increase. ETH seems to be aiming an upside break above $1,340 and $1,350. XRP gained pace and cleared the $0.48 resistance zone. ADA is still stuck near the $0.435 level....Read More: Bitcoin Price and Ethereum Primed for Gains, XRP Starts Fresh Rally ... [| Skaityti daugiau](https://cryptonews.com/news/bitcoin-price-ethereum-primed-for-gains-xrp-starts-fresh-rally.htm) "
      ],
      "text/plain": [
       "<IPython.core.display.Markdown object>"
      ]
     },
     "execution_count": 8,
     "metadata": {},
     "output_type": "execute_result"
    }
   ],
   "source": [
    "#hide_input\n",
    "#md('##### {}'.format(titleBTC)) \n",
    "md(\"- {}{} {}{} [| Skaityti daugiau]({}) \".format(ada['title'],'. ', ada['body'], ' ...', ada['url']))"
   ]
  },
  {
   "cell_type": "code",
   "execution_count": 9,
   "id": "specified-ordering",
   "metadata": {
    "execution": {
     "iopub.execute_input": "2022-09-30T03:59:36.161013Z",
     "iopub.status.busy": "2022-09-30T03:59:36.160462Z",
     "iopub.status.idle": "2022-09-30T03:59:36.163914Z",
     "shell.execute_reply": "2022-09-30T03:59:36.163444Z"
    },
    "papermill": {
     "duration": 0.018201,
     "end_time": "2022-09-30T03:59:36.164009",
     "exception": false,
     "start_time": "2022-09-30T03:59:36.145808",
     "status": "completed"
    },
    "tags": []
   },
   "outputs": [
    {
     "data": {
      "text/markdown": [
       "- India Freezes Bitcoin at Binance Amid Investigation Involving Crypto Exchange Wazirx.  India&#x2019;s Enforcement Directorate (ED) says it has frozen more than 77.6 bitcoins that were transferred to Binance from Indian crypto exchange Wazirx. The freeze is part of a money laundering investigation into a mobile gaming application. Indian Authority Freezes Bitcoin Held at Crypto Exchange Binance India&#x2019;s Directorate of Enforcement (ED) announced Wednesday that it has [&#8230;] ... [| Skaityti daugiau](https://news.bitcoin.com/india-freezes-bitcoin-at-binance-amid-investigation-involving-crypto-exchange-wazirx/) "
      ],
      "text/plain": [
       "<IPython.core.display.Markdown object>"
      ]
     },
     "execution_count": 9,
     "metadata": {},
     "output_type": "execute_result"
    }
   ],
   "source": [
    "#hide_input\n",
    "#md('##### {}'.format(titleBTC)) \n",
    "md(\"- {}{} {}{} [| Skaityti daugiau]({}) \".format(exchange['title'],'. ', exchange['body'], ' ...', exchange['url']))"
   ]
  },
  {
   "cell_type": "code",
   "execution_count": null,
   "id": "tender-livestock",
   "metadata": {
    "papermill": {
     "duration": 0.011429,
     "end_time": "2022-09-30T03:59:36.186791",
     "exception": false,
     "start_time": "2022-09-30T03:59:36.175362",
     "status": "completed"
    },
    "tags": []
   },
   "outputs": [],
   "source": []
  },
  {
   "cell_type": "code",
   "execution_count": null,
   "id": "appreciated-diamond",
   "metadata": {
    "papermill": {
     "duration": 0.011621,
     "end_time": "2022-09-30T03:59:36.209959",
     "exception": false,
     "start_time": "2022-09-30T03:59:36.198338",
     "status": "completed"
    },
    "tags": []
   },
   "outputs": [],
   "source": []
  },
  {
   "cell_type": "code",
   "execution_count": null,
   "id": "romance-sweden",
   "metadata": {
    "papermill": {
     "duration": 0.011268,
     "end_time": "2022-09-30T03:59:36.232569",
     "exception": false,
     "start_time": "2022-09-30T03:59:36.221301",
     "status": "completed"
    },
    "tags": []
   },
   "outputs": [],
   "source": []
  },
  {
   "cell_type": "code",
   "execution_count": null,
   "id": "dietary-statistics",
   "metadata": {
    "papermill": {
     "duration": 0.01131,
     "end_time": "2022-09-30T03:59:36.255219",
     "exception": false,
     "start_time": "2022-09-30T03:59:36.243909",
     "status": "completed"
    },
    "tags": []
   },
   "outputs": [],
   "source": []
  }
 ],
 "metadata": {
  "kernelspec": {
   "display_name": "Python 3",
   "language": "python",
   "name": "python3"
  },
  "language_info": {
   "codemirror_mode": {
    "name": "ipython",
    "version": 3
   },
   "file_extension": ".py",
   "mimetype": "text/x-python",
   "name": "python",
   "nbconvert_exporter": "python",
   "pygments_lexer": "ipython3",
   "version": "3.6.15"
  },
  "papermill": {
   "default_parameters": {},
   "duration": 13.40352,
   "end_time": "2022-09-30T03:59:36.683352",
   "environment_variables": {},
   "exception": null,
   "input_path": "Market-News.ipynb",
   "output_path": "Market-News.ipynb",
   "parameters": {},
   "start_time": "2022-09-30T03:59:23.279832",
   "version": "2.2.2"
  }
 },
 "nbformat": 4,
 "nbformat_minor": 5
}