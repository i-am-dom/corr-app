{
 "cells": [
  {
   "cell_type": "markdown",
   "id": "short-greensboro",
   "metadata": {
    "papermill": {
     "duration": 0.012892,
     "end_time": "2022-04-06T02:31:57.834730",
     "exception": false,
     "start_time": "2022-04-06T02:31:57.821838",
     "status": "completed"
    },
    "tags": []
   },
   "source": [
    "# Kriptovaliutų naujienos"
   ]
  },
  {
   "cell_type": "code",
   "execution_count": 1,
   "id": "functioning-knowing",
   "metadata": {
    "execution": {
     "iopub.execute_input": "2022-04-06T02:31:57.864603Z",
     "iopub.status.busy": "2022-04-06T02:31:57.864052Z",
     "iopub.status.idle": "2022-04-06T02:31:59.114233Z",
     "shell.execute_reply": "2022-04-06T02:31:59.113757Z"
    },
    "papermill": {
     "duration": 1.269487,
     "end_time": "2022-04-06T02:31:59.114363",
     "exception": false,
     "start_time": "2022-04-06T02:31:57.844876",
     "status": "completed"
    },
    "tags": []
   },
   "outputs": [],
   "source": [
    "#hide_input\n",
    "import warnings\n",
    "warnings.filterwarnings('ignore')\n",
    "from scripts.read_data import read_api\n",
    "from scripts.read_data import read_news\n",
    "from scripts.read_data import read_covid\n",
    "import matplotlib.pyplot as plt \n",
    "from IPython.display import Markdown as md"
   ]
  },
  {
   "cell_type": "code",
   "execution_count": 2,
   "id": "shared-acceptance",
   "metadata": {
    "execution": {
     "iopub.execute_input": "2022-04-06T02:31:59.140602Z",
     "iopub.status.busy": "2022-04-06T02:31:59.139667Z",
     "iopub.status.idle": "2022-04-06T02:32:07.218378Z",
     "shell.execute_reply": "2022-04-06T02:32:07.217469Z"
    },
    "papermill": {
     "duration": 8.094426,
     "end_time": "2022-04-06T02:32:07.218508",
     "exception": false,
     "start_time": "2022-04-06T02:31:59.124082",
     "status": "completed"
    },
    "tags": []
   },
   "outputs": [],
   "source": [
    "#hide_input\n",
    "blockchain = read_news('blockchain') \n",
    "btc = read_news('btc') \n",
    "xrp = read_news('xrp') \n",
    "trx = read_news('trx') \n",
    "eth = read_news('eth')  \n",
    "ada = read_news('ada')\n",
    "exchange = read_news('exchange') "
   ]
  },
  {
   "cell_type": "code",
   "execution_count": 3,
   "id": "synthetic-notion",
   "metadata": {
    "execution": {
     "iopub.execute_input": "2022-04-06T02:32:07.244002Z",
     "iopub.status.busy": "2022-04-06T02:32:07.243450Z",
     "iopub.status.idle": "2022-04-06T02:32:07.245419Z",
     "shell.execute_reply": "2022-04-06T02:32:07.245821Z"
    },
    "papermill": {
     "duration": 0.017654,
     "end_time": "2022-04-06T02:32:07.245963",
     "exception": false,
     "start_time": "2022-04-06T02:32:07.228309",
     "status": "completed"
    },
    "tags": []
   },
   "outputs": [
    {
     "data": {
      "text/markdown": [
       "- BITCONIA The Mind-Blowing Crypto Lottery.  The crypto industry is not just about the digital currencies that are exchanged on various platforms; it is also about the constantly evolving blockchain technology that underpins it. The crypto world has made quite an impression among traders and investors for a technology that has only been around for less than a decade. Various innovations [&#8230;]The post BITCONIA The Mind-Blowing Crypto Lottery appeared first on Blockchain, Crypto and Stock News. ... [| Skaityti daugiau](https://thecoinrise.com/bitconia-a-one-of-a-kind-decentralized-lottery-system/) "
      ],
      "text/plain": [
       "<IPython.core.display.Markdown object>"
      ]
     },
     "execution_count": 3,
     "metadata": {},
     "output_type": "execute_result"
    }
   ],
   "source": [
    "#hide_input\n",
    "#md('##### {}'.format(titleBTC)) \n",
    "md(\"- {}{} {}{} [| Skaityti daugiau]({}) \".format(blockchain['title'],'. ', blockchain['body'], ' ...', blockchain['url']))"
   ]
  },
  {
   "cell_type": "code",
   "execution_count": 4,
   "id": "aging-caution",
   "metadata": {
    "execution": {
     "iopub.execute_input": "2022-04-06T02:32:07.270789Z",
     "iopub.status.busy": "2022-04-06T02:32:07.270255Z",
     "iopub.status.idle": "2022-04-06T02:32:07.272289Z",
     "shell.execute_reply": "2022-04-06T02:32:07.272750Z"
    },
    "papermill": {
     "duration": 0.016895,
     "end_time": "2022-04-06T02:32:07.272874",
     "exception": false,
     "start_time": "2022-04-06T02:32:07.255979",
     "status": "completed"
    },
    "tags": []
   },
   "outputs": [
    {
     "data": {
      "text/markdown": [
       "- Bitcoin Price Prediction: BTC Trapped In A Retest Phase; Should You Invest?.  Following a decisive breakout from the $45000 resistance on March 27th, Bitcoin(BTC) price has remained highly volatile over the past week. However, this retest phase resembles a symmetrical triangle pattern in the shorter time frame, which could kickstart the bullish rally again. Moreover, the Microstrategy($MSTR) accumulates 4167 Bitcoin at an average price of $45714. Key The post Bitcoin Price Prediction: BTC Trapped In A Retest Phase; Should You Invest? appeared first on CoinGape. ... [| Skaityti daugiau](https://coingape.com/markets/bitcoin-price-prediction-btc-trapped-in-a-retest-phase-should-you-invest/) "
      ],
      "text/plain": [
       "<IPython.core.display.Markdown object>"
      ]
     },
     "execution_count": 4,
     "metadata": {},
     "output_type": "execute_result"
    }
   ],
   "source": [
    "#hide_input\n",
    "#md('##### {}'.format(titleBTC)) \n",
    "md(\"- {}{} {}{} [| Skaityti daugiau]({}) \".format(btc['title'],'. ', btc['body'], ' ...', btc['url']))"
   ]
  },
  {
   "cell_type": "code",
   "execution_count": 5,
   "id": "organic-actress",
   "metadata": {
    "execution": {
     "iopub.execute_input": "2022-04-06T02:32:07.298312Z",
     "iopub.status.busy": "2022-04-06T02:32:07.297723Z",
     "iopub.status.idle": "2022-04-06T02:32:07.301399Z",
     "shell.execute_reply": "2022-04-06T02:32:07.300960Z"
    },
    "papermill": {
     "duration": 0.018424,
     "end_time": "2022-04-06T02:32:07.301506",
     "exception": false,
     "start_time": "2022-04-06T02:32:07.283082",
     "status": "completed"
    },
    "tags": []
   },
   "outputs": [
    {
     "data": {
      "text/markdown": [
       "- Ripple is relying on the court’s decision to determine this but what’s the SEC connection.  The Securities and Exchange Commission (SEC) has been proactive in keeping discovery alive. Thereby, causing more delays and sparking some of the harshest communications witnessed to date in a lawsuit of this magnitude. The SEC filed a motion to redact some portions of selected meetings&#8217; notes between the agency&#8217;s third parties. This incorporated a sequel to [&#8230;] ... [| Skaityti daugiau](https://ambcrypto.com/ripple-is-relying-on-the-courts-decision-to-determine-this-but-whats-the-sec-connection/) "
      ],
      "text/plain": [
       "<IPython.core.display.Markdown object>"
      ]
     },
     "execution_count": 5,
     "metadata": {},
     "output_type": "execute_result"
    }
   ],
   "source": [
    "#hide_input\n",
    "#md('##### {}'.format(titleBTC)) \n",
    "md(\"- {}{} {}{} [| Skaityti daugiau]({}) \".format(xrp['title'],'. ', xrp['body'], ' ...', xrp['url']))"
   ]
  },
  {
   "cell_type": "code",
   "execution_count": 6,
   "id": "prompt-farmer",
   "metadata": {
    "execution": {
     "iopub.execute_input": "2022-04-06T02:32:07.327438Z",
     "iopub.status.busy": "2022-04-06T02:32:07.326909Z",
     "iopub.status.idle": "2022-04-06T02:32:07.329672Z",
     "shell.execute_reply": "2022-04-06T02:32:07.329240Z"
    },
    "papermill": {
     "duration": 0.017726,
     "end_time": "2022-04-06T02:32:07.329774",
     "exception": false,
     "start_time": "2022-04-06T02:32:07.312048",
     "status": "completed"
    },
    "tags": []
   },
   "outputs": [
    {
     "data": {
      "text/markdown": [
       "- Total Value of TRON (TRX) Surpasses $57.8 Billion as per Justin Sun.  The TRON community will be given exclusive access to Genesis NFT badges. APENFT&#8217;s mission is to establish a global cross-fieldThe post has appeared first on thenewscrypto.com ... [| Skaityti daugiau](https://thenewscrypto.com/total-value-of-tron-surpasses-57-8-billion-as-per-justin-sun/) "
      ],
      "text/plain": [
       "<IPython.core.display.Markdown object>"
      ]
     },
     "execution_count": 6,
     "metadata": {},
     "output_type": "execute_result"
    }
   ],
   "source": [
    "#hide_input\n",
    "#md('##### {}'.format(titleBTC)) \n",
    "md(\"- {}{} {}{} [| Skaityti daugiau]({}) \".format(trx['title'],'. ', trx['body'], ' ...', trx['url']))"
   ]
  },
  {
   "cell_type": "code",
   "execution_count": 7,
   "id": "illegal-greece",
   "metadata": {
    "execution": {
     "iopub.execute_input": "2022-04-06T02:32:07.356718Z",
     "iopub.status.busy": "2022-04-06T02:32:07.356171Z",
     "iopub.status.idle": "2022-04-06T02:32:07.358196Z",
     "shell.execute_reply": "2022-04-06T02:32:07.358618Z"
    },
    "papermill": {
     "duration": 0.017887,
     "end_time": "2022-04-06T02:32:07.358743",
     "exception": false,
     "start_time": "2022-04-06T02:32:07.340856",
     "status": "completed"
    },
    "tags": []
   },
   "outputs": [
    {
     "data": {
      "text/markdown": [
       "- The ‘Merge’ Will Drive More Interest In Ethereum, Says Bloomberg Analysts.  The Ethereum ‘Merge’ remains one of the most anticipated upgrades out of the crypto space. This merge would be the network on a completely different track by improving the security and scalability of the blockchain. One thing that remains at the forefront of investors’ minds is what impact this upgrade will have on the asset [&#8230;] ... [| Skaityti daugiau](https://bitcoinist.com/the-merge-will-drive-more-interest-in-ethereum/) "
      ],
      "text/plain": [
       "<IPython.core.display.Markdown object>"
      ]
     },
     "execution_count": 7,
     "metadata": {},
     "output_type": "execute_result"
    }
   ],
   "source": [
    "#hide_input\n",
    "#md('##### {}'.format(titleBTC)) \n",
    "md(\"- {}{} {}{} [| Skaityti daugiau]({}) \".format(eth['title'],'. ', eth['body'], ' ...', eth['url']))"
   ]
  },
  {
   "cell_type": "code",
   "execution_count": 8,
   "id": "sublime-lounge",
   "metadata": {
    "execution": {
     "iopub.execute_input": "2022-04-06T02:32:07.386036Z",
     "iopub.status.busy": "2022-04-06T02:32:07.385492Z",
     "iopub.status.idle": "2022-04-06T02:32:07.388039Z",
     "shell.execute_reply": "2022-04-06T02:32:07.388441Z"
    },
    "papermill": {
     "duration": 0.018541,
     "end_time": "2022-04-06T02:32:07.388561",
     "exception": false,
     "start_time": "2022-04-06T02:32:07.370020",
     "status": "completed"
    },
    "tags": []
   },
   "outputs": [
    {
     "data": {
      "text/markdown": [
       "- Cardano ($ADA) Network Added Over 500,000 Wallets Year-to-Date, Data Shows.  The number of wallets created within the Cardano ($ADA) blockchain has grown by over 500,000 so far this year and surpassed the three million mark in early February. The rise in the number of wallets coincides with growing adoption of Cardano’s decentralized finance (DeFi) space. According to Cardano blockchain insights shared on Google’s Data Studio […] ... [| Skaityti daugiau](https://www.cryptoglobe.com/latest/2022/04/cardano-ada-network-added-over-500000-wallets-year-to-date-data-shows/) "
      ],
      "text/plain": [
       "<IPython.core.display.Markdown object>"
      ]
     },
     "execution_count": 8,
     "metadata": {},
     "output_type": "execute_result"
    }
   ],
   "source": [
    "#hide_input\n",
    "#md('##### {}'.format(titleBTC)) \n",
    "md(\"- {}{} {}{} [| Skaityti daugiau]({}) \".format(ada['title'],'. ', ada['body'], ' ...', ada['url']))"
   ]
  },
  {
   "cell_type": "code",
   "execution_count": 9,
   "id": "specified-ordering",
   "metadata": {
    "execution": {
     "iopub.execute_input": "2022-04-06T02:32:07.416776Z",
     "iopub.status.busy": "2022-04-06T02:32:07.416244Z",
     "iopub.status.idle": "2022-04-06T02:32:07.419047Z",
     "shell.execute_reply": "2022-04-06T02:32:07.418620Z"
    },
    "papermill": {
     "duration": 0.018932,
     "end_time": "2022-04-06T02:32:07.419153",
     "exception": false,
     "start_time": "2022-04-06T02:32:07.400221",
     "status": "completed"
    },
    "tags": []
   },
   "outputs": [
    {
     "data": {
      "text/markdown": [
       "- CAKE could taste yummy after a flip of $11.1 to support.  Disclaimer: The findings of the following analysis are the sole opinions of the writer and should not be considered investment advice The token of the decentralized exchange PancakeSwap, CAKE, has had a good run in the past week or two as the price appreciated by nearly 60% once the price retested $6 as support. At the [&#8230;] ... [| Skaityti daugiau](https://ambcrypto.com/cake-could-taste-yummy-after-a-flip-of-11-1-to-support/) "
      ],
      "text/plain": [
       "<IPython.core.display.Markdown object>"
      ]
     },
     "execution_count": 9,
     "metadata": {},
     "output_type": "execute_result"
    }
   ],
   "source": [
    "#hide_input\n",
    "#md('##### {}'.format(titleBTC)) \n",
    "md(\"- {}{} {}{} [| Skaityti daugiau]({}) \".format(exchange['title'],'. ', exchange['body'], ' ...', exchange['url']))"
   ]
  },
  {
   "cell_type": "code",
   "execution_count": null,
   "id": "tender-livestock",
   "metadata": {
    "papermill": {
     "duration": 0.011904,
     "end_time": "2022-04-06T02:32:07.443134",
     "exception": false,
     "start_time": "2022-04-06T02:32:07.431230",
     "status": "completed"
    },
    "tags": []
   },
   "outputs": [],
   "source": []
  },
  {
   "cell_type": "code",
   "execution_count": null,
   "id": "appreciated-diamond",
   "metadata": {
    "papermill": {
     "duration": 0.011845,
     "end_time": "2022-04-06T02:32:07.467117",
     "exception": false,
     "start_time": "2022-04-06T02:32:07.455272",
     "status": "completed"
    },
    "tags": []
   },
   "outputs": [],
   "source": []
  },
  {
   "cell_type": "code",
   "execution_count": null,
   "id": "romance-sweden",
   "metadata": {
    "papermill": {
     "duration": 0.011937,
     "end_time": "2022-04-06T02:32:07.491797",
     "exception": false,
     "start_time": "2022-04-06T02:32:07.479860",
     "status": "completed"
    },
    "tags": []
   },
   "outputs": [],
   "source": []
  },
  {
   "cell_type": "code",
   "execution_count": null,
   "id": "dietary-statistics",
   "metadata": {
    "papermill": {
     "duration": 0.011854,
     "end_time": "2022-04-06T02:32:07.515652",
     "exception": false,
     "start_time": "2022-04-06T02:32:07.503798",
     "status": "completed"
    },
    "tags": []
   },
   "outputs": [],
   "source": []
  }
 ],
 "metadata": {
  "kernelspec": {
   "display_name": "Python 3",
   "language": "python",
   "name": "python3"
  },
  "language_info": {
   "codemirror_mode": {
    "name": "ipython",
    "version": 3
   },
   "file_extension": ".py",
   "mimetype": "text/x-python",
   "name": "python",
   "nbconvert_exporter": "python",
   "pygments_lexer": "ipython3",
   "version": "3.6.15"
  },
  "papermill": {
   "default_parameters": {},
   "duration": 11.059166,
   "end_time": "2022-04-06T02:32:07.944983",
   "environment_variables": {},
   "exception": null,
   "input_path": "Market-News.ipynb",
   "output_path": "Market-News.ipynb",
   "parameters": {},
   "start_time": "2022-04-06T02:31:56.885817",
   "version": "2.2.2"
  }
 },
 "nbformat": 4,
 "nbformat_minor": 5
}