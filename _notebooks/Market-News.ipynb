{
 "cells": [
  {
   "cell_type": "markdown",
   "id": "short-greensboro",
   "metadata": {
    "papermill": {
     "duration": 0.022565,
     "end_time": "2021-10-02T01:59:46.001661",
     "exception": false,
     "start_time": "2021-10-02T01:59:45.979096",
     "status": "completed"
    },
    "tags": []
   },
   "source": [
    "# Kriptovaliutų naujienos"
   ]
  },
  {
   "cell_type": "code",
   "execution_count": 1,
   "id": "functioning-knowing",
   "metadata": {
    "execution": {
     "iopub.execute_input": "2021-10-02T01:59:46.037225Z",
     "iopub.status.busy": "2021-10-02T01:59:46.036094Z",
     "iopub.status.idle": "2021-10-02T01:59:47.470073Z",
     "shell.execute_reply": "2021-10-02T01:59:47.469523Z"
    },
    "papermill": {
     "duration": 1.455629,
     "end_time": "2021-10-02T01:59:47.470231",
     "exception": false,
     "start_time": "2021-10-02T01:59:46.014602",
     "status": "completed"
    },
    "tags": []
   },
   "outputs": [],
   "source": [
    "#hide_input\n",
    "import warnings\n",
    "warnings.filterwarnings('ignore')\n",
    "from scripts.read_data import read_api\n",
    "from scripts.read_data import read_news\n",
    "from scripts.read_data import read_covid\n",
    "import matplotlib.pyplot as plt \n",
    "from IPython.display import Markdown as md"
   ]
  },
  {
   "cell_type": "code",
   "execution_count": 2,
   "id": "shared-acceptance",
   "metadata": {
    "execution": {
     "iopub.execute_input": "2021-10-02T01:59:47.499016Z",
     "iopub.status.busy": "2021-10-02T01:59:47.497296Z",
     "iopub.status.idle": "2021-10-02T01:59:58.016106Z",
     "shell.execute_reply": "2021-10-02T01:59:58.015555Z"
    },
    "papermill": {
     "duration": 10.535206,
     "end_time": "2021-10-02T01:59:58.016243",
     "exception": false,
     "start_time": "2021-10-02T01:59:47.481037",
     "status": "completed"
    },
    "tags": []
   },
   "outputs": [],
   "source": [
    "#hide_input\n",
    "blockchain = read_news('blockchain') \n",
    "btc = read_news('btc') \n",
    "xrp = read_news('xrp') \n",
    "trx = read_news('trx') \n",
    "eth = read_news('eth')  \n",
    "ada = read_news('ada')\n",
    "exchange = read_news('exchange') "
   ]
  },
  {
   "cell_type": "code",
   "execution_count": 3,
   "id": "synthetic-notion",
   "metadata": {
    "execution": {
     "iopub.execute_input": "2021-10-02T01:59:58.046566Z",
     "iopub.status.busy": "2021-10-02T01:59:58.045872Z",
     "iopub.status.idle": "2021-10-02T01:59:58.049421Z",
     "shell.execute_reply": "2021-10-02T01:59:58.048655Z"
    },
    "papermill": {
     "duration": 0.020677,
     "end_time": "2021-10-02T01:59:58.049554",
     "exception": false,
     "start_time": "2021-10-02T01:59:58.028877",
     "status": "completed"
    },
    "tags": []
   },
   "outputs": [
    {
     "data": {
      "text/markdown": [
       "- Defi Platform Compound Bug Allows Users to Claim $88 Million in Tokens.  Compound, one of the trademark defi protocols on the Ethereum blockchain, is experiencing a bug that allows users to reclaim unusually high amounts of its native token. The issue was caused by the implementation of a proposal that modified the contract that awards tokens to users. Compound Labs founder Robert Leshner declared that user funds [&#8230;] ... [| Skaityti daugiau](https://news.bitcoin.com/defi-platform-compound-bug-allows-users-to-claim-88-million-in-tokens/) "
      ],
      "text/plain": [
       "<IPython.core.display.Markdown object>"
      ]
     },
     "execution_count": 3,
     "metadata": {},
     "output_type": "execute_result"
    }
   ],
   "source": [
    "#hide_input\n",
    "#md('##### {}'.format(titleBTC)) \n",
    "md(\"- {}{} {}{} [| Skaityti daugiau]({}) \".format(blockchain['title'],'. ', blockchain['body'], ' ...', blockchain['url']))"
   ]
  },
  {
   "cell_type": "code",
   "execution_count": 4,
   "id": "aging-caution",
   "metadata": {
    "execution": {
     "iopub.execute_input": "2021-10-02T01:59:58.079855Z",
     "iopub.status.busy": "2021-10-02T01:59:58.079201Z",
     "iopub.status.idle": "2021-10-02T01:59:58.083577Z",
     "shell.execute_reply": "2021-10-02T01:59:58.084101Z"
    },
    "papermill": {
     "duration": 0.022637,
     "end_time": "2021-10-02T01:59:58.084254",
     "exception": false,
     "start_time": "2021-10-02T01:59:58.061617",
     "status": "completed"
    },
    "tags": []
   },
   "outputs": [
    {
     "data": {
      "text/markdown": [
       "- LUNA, AXS outperformed in September, but what will October bring.  The month of September was a roller coaster ride that started off on a high note, reached rock bottom, and then landed somewhere in the middle. Bitcoin started on a good note in September, hitting a multi-month high of $52.8k followed by more than 20% losses over the remaining month. While the larger market faced [&#8230;] ... [| Skaityti daugiau](https://ambcrypto.com/luna-axs-outperformed-in-september-but-what-will-october-bring/) "
      ],
      "text/plain": [
       "<IPython.core.display.Markdown object>"
      ]
     },
     "execution_count": 4,
     "metadata": {},
     "output_type": "execute_result"
    }
   ],
   "source": [
    "#hide_input\n",
    "#md('##### {}'.format(titleBTC)) \n",
    "md(\"- {}{} {}{} [| Skaityti daugiau]({}) \".format(btc['title'],'. ', btc['body'], ' ...', btc['url']))"
   ]
  },
  {
   "cell_type": "code",
   "execution_count": 5,
   "id": "organic-actress",
   "metadata": {
    "execution": {
     "iopub.execute_input": "2021-10-02T01:59:58.111615Z",
     "iopub.status.busy": "2021-10-02T01:59:58.110982Z",
     "iopub.status.idle": "2021-10-02T01:59:58.113960Z",
     "shell.execute_reply": "2021-10-02T01:59:58.114522Z"
    },
    "papermill": {
     "duration": 0.01887,
     "end_time": "2021-10-02T01:59:58.114645",
     "exception": false,
     "start_time": "2021-10-02T01:59:58.095775",
     "status": "completed"
    },
    "tags": []
   },
   "outputs": [
    {
     "data": {
      "text/markdown": [
       "- XRP Lawsuit: SEC seeks relief from Ripple’s 29,947 requests for admission.  Through the entirety of the SEC v. Ripple Labs legal battle, one constant has been the refusal of both parties to come to a consensus about anything. While fact discovery was supposed to end on 31 August, it has been constantly delayed due to onerous requests made by both sides. On a similar note, the [&#8230;] ... [| Skaityti daugiau](https://ambcrypto.com/xrp-lawsuit-sec-seeks-relief-from-ripples-requests-for-admission/) "
      ],
      "text/plain": [
       "<IPython.core.display.Markdown object>"
      ]
     },
     "execution_count": 5,
     "metadata": {},
     "output_type": "execute_result"
    }
   ],
   "source": [
    "#hide_input\n",
    "#md('##### {}'.format(titleBTC)) \n",
    "md(\"- {}{} {}{} [| Skaityti daugiau]({}) \".format(xrp['title'],'. ', xrp['body'], ' ...', xrp['url']))"
   ]
  },
  {
   "cell_type": "code",
   "execution_count": 6,
   "id": "prompt-farmer",
   "metadata": {
    "execution": {
     "iopub.execute_input": "2021-10-02T01:59:58.144669Z",
     "iopub.status.busy": "2021-10-02T01:59:58.144070Z",
     "iopub.status.idle": "2021-10-02T01:59:58.146978Z",
     "shell.execute_reply": "2021-10-02T01:59:58.147573Z"
    },
    "papermill": {
     "duration": 0.02057,
     "end_time": "2021-10-02T01:59:58.147701",
     "exception": false,
     "start_time": "2021-10-02T01:59:58.127131",
     "status": "completed"
    },
    "tags": []
   },
   "outputs": [
    {
     "data": {
      "text/markdown": [
       "- TRON Bounces Back from Its Swing Support Levels!.  TRON has hit a new two-day high and seems to have taken support from $0.082 levels. While the volumes so far haven&#8217;t been substantial, the continuation of this sentence is inevitably required for pushing the TRX prices to new highs. The trading range has been suppressed in a tight zone, which can be seen as &#8230; ... [| Skaityti daugiau](https://www.cryptonewsz.com/tron-bounces-back-from-its-swing-support-levels/) "
      ],
      "text/plain": [
       "<IPython.core.display.Markdown object>"
      ]
     },
     "execution_count": 6,
     "metadata": {},
     "output_type": "execute_result"
    }
   ],
   "source": [
    "#hide_input\n",
    "#md('##### {}'.format(titleBTC)) \n",
    "md(\"- {}{} {}{} [| Skaityti daugiau]({}) \".format(trx['title'],'. ', trx['body'], ' ...', trx['url']))"
   ]
  },
  {
   "cell_type": "code",
   "execution_count": 7,
   "id": "illegal-greece",
   "metadata": {
    "execution": {
     "iopub.execute_input": "2021-10-02T01:59:58.176670Z",
     "iopub.status.busy": "2021-10-02T01:59:58.175847Z",
     "iopub.status.idle": "2021-10-02T01:59:58.179886Z",
     "shell.execute_reply": "2021-10-02T01:59:58.180561Z"
    },
    "papermill": {
     "duration": 0.020183,
     "end_time": "2021-10-02T01:59:58.180693",
     "exception": false,
     "start_time": "2021-10-02T01:59:58.160510",
     "status": "completed"
    },
    "tags": []
   },
   "outputs": [
    {
     "data": {
      "text/markdown": [
       "- Defi Platform Compound Bug Allows Users to Claim $88 Million in Tokens.  Compound, one of the trademark defi protocols on the Ethereum blockchain, is experiencing a bug that allows users to reclaim unusually high amounts of its native token. The issue was caused by the implementation of a proposal that modified the contract that awards tokens to users. Compound Labs founder Robert Leshner declared that user funds [&#8230;] ... [| Skaityti daugiau](https://news.bitcoin.com/defi-platform-compound-bug-allows-users-to-claim-88-million-in-tokens/) "
      ],
      "text/plain": [
       "<IPython.core.display.Markdown object>"
      ]
     },
     "execution_count": 7,
     "metadata": {},
     "output_type": "execute_result"
    }
   ],
   "source": [
    "#hide_input\n",
    "#md('##### {}'.format(titleBTC)) \n",
    "md(\"- {}{} {}{} [| Skaityti daugiau]({}) \".format(eth['title'],'. ', eth['body'], ' ...', eth['url']))"
   ]
  },
  {
   "cell_type": "code",
   "execution_count": 8,
   "id": "sublime-lounge",
   "metadata": {
    "execution": {
     "iopub.execute_input": "2021-10-02T01:59:58.209897Z",
     "iopub.status.busy": "2021-10-02T01:59:58.208665Z",
     "iopub.status.idle": "2021-10-02T01:59:58.213781Z",
     "shell.execute_reply": "2021-10-02T01:59:58.213281Z"
    },
    "papermill": {
     "duration": 0.021451,
     "end_time": "2021-10-02T01:59:58.213892",
     "exception": false,
     "start_time": "2021-10-02T01:59:58.192441",
     "status": "completed"
    },
    "tags": []
   },
   "outputs": [
    {
     "data": {
      "text/markdown": [
       "- Cardano-Backed Project Jumps Nearly 100% Ahead of Visa Card Rollout.  Cardano-backed project Coti has seen the price of its native $COTI token jump nearly 100$ over the last 30 days ahead of the rollout of a Visa card after it teamed up with popular fintech firm Simplex. According to CryptoPotato, Coti is launching a new service set to facilitate the bridge between fiat currencies and […] ... [| Skaityti daugiau](https://www.cryptoglobe.com/latest/2021/10/cardano-backed-project-jumps-nearly-100-ahead-of-visa-card-rollout/) "
      ],
      "text/plain": [
       "<IPython.core.display.Markdown object>"
      ]
     },
     "execution_count": 8,
     "metadata": {},
     "output_type": "execute_result"
    }
   ],
   "source": [
    "#hide_input\n",
    "#md('##### {}'.format(titleBTC)) \n",
    "md(\"- {}{} {}{} [| Skaityti daugiau]({}) \".format(ada['title'],'. ', ada['body'], ' ...', ada['url']))"
   ]
  },
  {
   "cell_type": "code",
   "execution_count": 9,
   "id": "specified-ordering",
   "metadata": {
    "execution": {
     "iopub.execute_input": "2021-10-02T01:59:58.244188Z",
     "iopub.status.busy": "2021-10-02T01:59:58.243588Z",
     "iopub.status.idle": "2021-10-02T01:59:58.246424Z",
     "shell.execute_reply": "2021-10-02T01:59:58.246985Z"
    },
    "papermill": {
     "duration": 0.020779,
     "end_time": "2021-10-02T01:59:58.247142",
     "exception": false,
     "start_time": "2021-10-02T01:59:58.226363",
     "status": "completed"
    },
    "tags": []
   },
   "outputs": [
    {
     "data": {
      "text/markdown": [
       "- Crypto Trader Lark Davis Says Ethereum Is a ‘Ticking Time Bomb’ for This One Reason.  A popular crypto analyst is giving investors a reason why they should not give up on Ethereum (ETH) despite its recent struggles. Lark Davis tells his 540,000 Twitter followers that even though ETH has seen a decrease of 23% from its 30-day high, its price should skyrocket because the token’s supply is dwindling on exchange [&#8230;]The post Crypto Trader Lark Davis Says Ethereum Is a ‘Ticking Time Bomb’ for This One Reason appeared first on The Daily Hodl. ... [| Skaityti daugiau](https://dailyhodl.com/2021/10/01/crypto-trader-lark-davis-says-ethereum-is-a-ticking-time-bomb-for-this-one-reason/) "
      ],
      "text/plain": [
       "<IPython.core.display.Markdown object>"
      ]
     },
     "execution_count": 9,
     "metadata": {},
     "output_type": "execute_result"
    }
   ],
   "source": [
    "#hide_input\n",
    "#md('##### {}'.format(titleBTC)) \n",
    "md(\"- {}{} {}{} [| Skaityti daugiau]({}) \".format(exchange['title'],'. ', exchange['body'], ' ...', exchange['url']))"
   ]
  },
  {
   "cell_type": "code",
   "execution_count": null,
   "id": "tender-livestock",
   "metadata": {
    "papermill": {
     "duration": 0.013469,
     "end_time": "2021-10-02T01:59:58.274100",
     "exception": false,
     "start_time": "2021-10-02T01:59:58.260631",
     "status": "completed"
    },
    "tags": []
   },
   "outputs": [],
   "source": []
  },
  {
   "cell_type": "code",
   "execution_count": null,
   "id": "appreciated-diamond",
   "metadata": {
    "papermill": {
     "duration": 0.012347,
     "end_time": "2021-10-02T01:59:58.299652",
     "exception": false,
     "start_time": "2021-10-02T01:59:58.287305",
     "status": "completed"
    },
    "tags": []
   },
   "outputs": [],
   "source": []
  },
  {
   "cell_type": "code",
   "execution_count": null,
   "id": "romance-sweden",
   "metadata": {
    "papermill": {
     "duration": 0.013725,
     "end_time": "2021-10-02T01:59:58.326519",
     "exception": false,
     "start_time": "2021-10-02T01:59:58.312794",
     "status": "completed"
    },
    "tags": []
   },
   "outputs": [],
   "source": []
  },
  {
   "cell_type": "code",
   "execution_count": null,
   "id": "dietary-statistics",
   "metadata": {
    "papermill": {
     "duration": 0.012829,
     "end_time": "2021-10-02T01:59:58.352509",
     "exception": false,
     "start_time": "2021-10-02T01:59:58.339680",
     "status": "completed"
    },
    "tags": []
   },
   "outputs": [],
   "source": []
  }
 ],
 "metadata": {
  "kernelspec": {
   "display_name": "Python 3",
   "language": "python",
   "name": "python3"
  },
  "language_info": {
   "codemirror_mode": {
    "name": "ipython",
    "version": 3
   },
   "file_extension": ".py",
   "mimetype": "text/x-python",
   "name": "python",
   "nbconvert_exporter": "python",
   "pygments_lexer": "ipython3",
   "version": "3.6.15"
  },
  "papermill": {
   "default_parameters": {},
   "duration": 13.877338,
   "end_time": "2021-10-02T01:59:58.773804",
   "environment_variables": {},
   "exception": null,
   "input_path": "Market-News.ipynb",
   "output_path": "Market-News.ipynb",
   "parameters": {},
   "start_time": "2021-10-02T01:59:44.896466",
   "version": "2.2.2"
  }
 },
 "nbformat": 4,
 "nbformat_minor": 5
}