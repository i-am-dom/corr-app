{
 "cells": [
  {
   "cell_type": "markdown",
   "id": "short-greensboro",
   "metadata": {
    "papermill": {
     "duration": 0.018639,
     "end_time": "2022-10-26T03:17:26.210063",
     "exception": false,
     "start_time": "2022-10-26T03:17:26.191424",
     "status": "completed"
    },
    "tags": []
   },
   "source": [
    "# Kriptovaliutų naujienos"
   ]
  },
  {
   "cell_type": "code",
   "execution_count": 1,
   "id": "functioning-knowing",
   "metadata": {
    "execution": {
     "iopub.execute_input": "2022-10-26T03:17:26.248579Z",
     "iopub.status.busy": "2022-10-26T03:17:26.247794Z",
     "iopub.status.idle": "2022-10-26T03:17:27.915555Z",
     "shell.execute_reply": "2022-10-26T03:17:27.914897Z"
    },
    "papermill": {
     "duration": 1.6929,
     "end_time": "2022-10-26T03:17:27.915743",
     "exception": false,
     "start_time": "2022-10-26T03:17:26.222843",
     "status": "completed"
    },
    "tags": []
   },
   "outputs": [],
   "source": [
    "#hide_input\n",
    "import warnings\n",
    "warnings.filterwarnings('ignore')\n",
    "from scripts.read_data import read_api\n",
    "from scripts.read_data import read_news\n",
    "from scripts.read_data import read_covid\n",
    "import matplotlib.pyplot as plt \n",
    "from IPython.display import Markdown as md"
   ]
  },
  {
   "cell_type": "code",
   "execution_count": 2,
   "id": "shared-acceptance",
   "metadata": {
    "execution": {
     "iopub.execute_input": "2022-10-26T03:17:27.947362Z",
     "iopub.status.busy": "2022-10-26T03:17:27.946099Z",
     "iopub.status.idle": "2022-10-26T03:17:41.894669Z",
     "shell.execute_reply": "2022-10-26T03:17:41.894064Z"
    },
    "papermill": {
     "duration": 13.967299,
     "end_time": "2022-10-26T03:17:41.894818",
     "exception": false,
     "start_time": "2022-10-26T03:17:27.927519",
     "status": "completed"
    },
    "tags": []
   },
   "outputs": [],
   "source": [
    "#hide_input\n",
    "blockchain = read_news('blockchain') \n",
    "btc = read_news('btc') \n",
    "xrp = read_news('xrp') \n",
    "trx = read_news('trx') \n",
    "eth = read_news('eth')  \n",
    "ada = read_news('ada')\n",
    "exchange = read_news('exchange') "
   ]
  },
  {
   "cell_type": "code",
   "execution_count": 3,
   "id": "synthetic-notion",
   "metadata": {
    "execution": {
     "iopub.execute_input": "2022-10-26T03:17:41.926116Z",
     "iopub.status.busy": "2022-10-26T03:17:41.925277Z",
     "iopub.status.idle": "2022-10-26T03:17:41.929684Z",
     "shell.execute_reply": "2022-10-26T03:17:41.930276Z"
    },
    "papermill": {
     "duration": 0.02418,
     "end_time": "2022-10-26T03:17:41.930478",
     "exception": false,
     "start_time": "2022-10-26T03:17:41.906298",
     "status": "completed"
    },
    "tags": []
   },
   "outputs": [
    {
     "data": {
      "text/markdown": [
       "- Aptos [APT] recovers with TVL hike after abysmal start – Decoding ‘how’.  After attracting a lot of attention and disappointment earlier, Aptos [APT] seemed to have steadied its ship. According to DeFi Llama, the layer-one blockchain recorded one of the highest Total Value Locked (TVL) growth in the last 24 hours. At press time, Aptos’ TVL was worth $15.54 million. The increase was an 11.90% growth from [&#8230;] ... [| Skaityti daugiau](https://ambcrypto.com/aptos-apt-recovers-with-tvl-hike-after-abysmal-start-decoding-how/) "
      ],
      "text/plain": [
       "<IPython.core.display.Markdown object>"
      ]
     },
     "execution_count": 3,
     "metadata": {},
     "output_type": "execute_result"
    }
   ],
   "source": [
    "#hide_input\n",
    "#md('##### {}'.format(titleBTC)) \n",
    "md(\"- {}{} {}{} [| Skaityti daugiau]({}) \".format(blockchain['title'],'. ', blockchain['body'], ' ...', blockchain['url']))"
   ]
  },
  {
   "cell_type": "code",
   "execution_count": 4,
   "id": "aging-caution",
   "metadata": {
    "execution": {
     "iopub.execute_input": "2022-10-26T03:17:41.961490Z",
     "iopub.status.busy": "2022-10-26T03:17:41.960644Z",
     "iopub.status.idle": "2022-10-26T03:17:41.967187Z",
     "shell.execute_reply": "2022-10-26T03:17:41.966245Z"
    },
    "papermill": {
     "duration": 0.024733,
     "end_time": "2022-10-26T03:17:41.967427",
     "exception": false,
     "start_time": "2022-10-26T03:17:41.942694",
     "status": "completed"
    },
    "tags": []
   },
   "outputs": [
    {
     "data": {
      "text/markdown": [
       "- Mining Bitcoin Profitably Has Never Been Harder.  Miners face an absolute bloodbath in their attempts to acquire bitcoin profitably as hash rate and electricity costs continue to rise while prices remain low. ... [| Skaityti daugiau](https://bitcoinmagazine.com/business/bitcoin-mining-has-never-been-harder) "
      ],
      "text/plain": [
       "<IPython.core.display.Markdown object>"
      ]
     },
     "execution_count": 4,
     "metadata": {},
     "output_type": "execute_result"
    }
   ],
   "source": [
    "#hide_input\n",
    "#md('##### {}'.format(titleBTC)) \n",
    "md(\"- {}{} {}{} [| Skaityti daugiau]({}) \".format(btc['title'],'. ', btc['body'], ' ...', btc['url']))"
   ]
  },
  {
   "cell_type": "code",
   "execution_count": 5,
   "id": "organic-actress",
   "metadata": {
    "execution": {
     "iopub.execute_input": "2022-10-26T03:17:42.000526Z",
     "iopub.status.busy": "2022-10-26T03:17:41.999699Z",
     "iopub.status.idle": "2022-10-26T03:17:42.004143Z",
     "shell.execute_reply": "2022-10-26T03:17:42.003581Z"
    },
    "papermill": {
     "duration": 0.022524,
     "end_time": "2022-10-26T03:17:42.004271",
     "exception": false,
     "start_time": "2022-10-26T03:17:41.981747",
     "status": "completed"
    },
    "tags": []
   },
   "outputs": [
    {
     "data": {
      "text/markdown": [
       "- Invest in Uniglo.io, Cardano, and Ripple to Turn Your Portfolio Green.  The performance of cryptocurrencies over the past months has been less than stellar. Many crypto assets experiencing massive price drops are still working their way out of the red zone. While the global economy continues to face challenges, you can start turning your crypto portfolio green with Uniglo.io (GLO), Cardano (ADA), and Ripple (XRP). Uniglo.io [&#8230;]The post Invest in Uniglo.io, Cardano, and Ripple to Turn Your Portfolio Green appeared first on NullTX. ... [| Skaityti daugiau](https://nulltx.com/invest-in-uniglo-io-cardano-and-ripple-to-turn-your-portfolio-green/) "
      ],
      "text/plain": [
       "<IPython.core.display.Markdown object>"
      ]
     },
     "execution_count": 5,
     "metadata": {},
     "output_type": "execute_result"
    }
   ],
   "source": [
    "#hide_input\n",
    "#md('##### {}'.format(titleBTC)) \n",
    "md(\"- {}{} {}{} [| Skaityti daugiau]({}) \".format(xrp['title'],'. ', xrp['body'], ' ...', xrp['url']))"
   ]
  },
  {
   "cell_type": "code",
   "execution_count": 6,
   "id": "prompt-farmer",
   "metadata": {
    "execution": {
     "iopub.execute_input": "2022-10-26T03:17:42.037132Z",
     "iopub.status.busy": "2022-10-26T03:17:42.036309Z",
     "iopub.status.idle": "2022-10-26T03:17:42.040989Z",
     "shell.execute_reply": "2022-10-26T03:17:42.040381Z"
    },
    "papermill": {
     "duration": 0.024273,
     "end_time": "2022-10-26T03:17:42.041138",
     "exception": false,
     "start_time": "2022-10-26T03:17:42.016865",
     "status": "completed"
    },
    "tags": []
   },
   "outputs": [
    {
     "data": {
      "text/markdown": [
       "- Will everything be good for TRX as the Tron DAO eyes the….  TRX investors might be growing more accustomed to lackluster performance as has been the case in the last few days. Nevertheless, the Tron blockchain continues to demonstrate strong pursuit for growth and expansion. Here&#8217;s AMBCrypto&#8217;s price prediction for Tron (TRX) Tron is one of the blockchain networks whose growth strategies have become more apparent during [&#8230;] ... [| Skaityti daugiau](https://ambcrypto.com/will-everything-be-good-for-trx-as-the-tron-dao-eyes-the/) "
      ],
      "text/plain": [
       "<IPython.core.display.Markdown object>"
      ]
     },
     "execution_count": 6,
     "metadata": {},
     "output_type": "execute_result"
    }
   ],
   "source": [
    "#hide_input\n",
    "#md('##### {}'.format(titleBTC)) \n",
    "md(\"- {}{} {}{} [| Skaityti daugiau]({}) \".format(trx['title'],'. ', trx['body'], ' ...', trx['url']))"
   ]
  },
  {
   "cell_type": "code",
   "execution_count": 7,
   "id": "illegal-greece",
   "metadata": {
    "execution": {
     "iopub.execute_input": "2022-10-26T03:17:42.074033Z",
     "iopub.status.busy": "2022-10-26T03:17:42.073277Z",
     "iopub.status.idle": "2022-10-26T03:17:42.077109Z",
     "shell.execute_reply": "2022-10-26T03:17:42.077733Z"
    },
    "papermill": {
     "duration": 0.023916,
     "end_time": "2022-10-26T03:17:42.077885",
     "exception": false,
     "start_time": "2022-10-26T03:17:42.053969",
     "status": "completed"
    },
    "tags": []
   },
   "outputs": [
    {
     "data": {
      "text/markdown": [
       "- Bitcoin, Ethereum, Tezos, and Aave Daily Price Analyses – 25 October Roundup.  Over recent hours, the global crypto market has witnessed a speedy rise in value. The data for Bitcoin, Ethereum, and others shows a significant change in value. As there has been a speedy influx of capital, it shows that the market is moving towards healthy changes. The positive change is a sign of recovery that &#8230;  Bitcoin, Ethereum, Tezos, and Aave Daily Price Analyses – 25 October Roundup Read More &#187; ... [| Skaityti daugiau](https://www.cryptopolitan.com/bitcoin-ethereum-tezos-and-aave-daily-price-analyses-25-october-roundup/) "
      ],
      "text/plain": [
       "<IPython.core.display.Markdown object>"
      ]
     },
     "execution_count": 7,
     "metadata": {},
     "output_type": "execute_result"
    }
   ],
   "source": [
    "#hide_input\n",
    "#md('##### {}'.format(titleBTC)) \n",
    "md(\"- {}{} {}{} [| Skaityti daugiau]({}) \".format(eth['title'],'. ', eth['body'], ' ...', eth['url']))"
   ]
  },
  {
   "cell_type": "code",
   "execution_count": 8,
   "id": "sublime-lounge",
   "metadata": {
    "execution": {
     "iopub.execute_input": "2022-10-26T03:17:42.110294Z",
     "iopub.status.busy": "2022-10-26T03:17:42.109553Z",
     "iopub.status.idle": "2022-10-26T03:17:42.114081Z",
     "shell.execute_reply": "2022-10-26T03:17:42.113513Z"
    },
    "papermill": {
     "duration": 0.022949,
     "end_time": "2022-10-26T03:17:42.114204",
     "exception": false,
     "start_time": "2022-10-26T03:17:42.091255",
     "status": "completed"
    },
    "tags": []
   },
   "outputs": [
    {
     "data": {
      "text/markdown": [
       "- Invest in Uniglo.io, Cardano, and Ripple to Turn Your Portfolio Green.  The performance of cryptocurrencies over the past months has been less than stellar. Many crypto assets experiencing massive price drops are still working their way out of the red zone. While the global economy continues to face challenges, you can start turning your crypto portfolio green with Uniglo.io (GLO), Cardano (ADA), and Ripple (XRP). Uniglo.io [&#8230;]The post Invest in Uniglo.io, Cardano, and Ripple to Turn Your Portfolio Green appeared first on NullTX. ... [| Skaityti daugiau](https://nulltx.com/invest-in-uniglo-io-cardano-and-ripple-to-turn-your-portfolio-green/) "
      ],
      "text/plain": [
       "<IPython.core.display.Markdown object>"
      ]
     },
     "execution_count": 8,
     "metadata": {},
     "output_type": "execute_result"
    }
   ],
   "source": [
    "#hide_input\n",
    "#md('##### {}'.format(titleBTC)) \n",
    "md(\"- {}{} {}{} [| Skaityti daugiau]({}) \".format(ada['title'],'. ', ada['body'], ' ...', ada['url']))"
   ]
  },
  {
   "cell_type": "code",
   "execution_count": 9,
   "id": "specified-ordering",
   "metadata": {
    "execution": {
     "iopub.execute_input": "2022-10-26T03:17:42.150105Z",
     "iopub.status.busy": "2022-10-26T03:17:42.149347Z",
     "iopub.status.idle": "2022-10-26T03:17:42.153609Z",
     "shell.execute_reply": "2022-10-26T03:17:42.152983Z"
    },
    "papermill": {
     "duration": 0.025981,
     "end_time": "2022-10-26T03:17:42.153755",
     "exception": false,
     "start_time": "2022-10-26T03:17:42.127774",
     "status": "completed"
    },
    "tags": []
   },
   "outputs": [
    {
     "data": {
      "text/markdown": [
       "- $ADA: Crypto Exchange FTX to Soon List Cardano, Says CEO.  The CEO of popular cryptocurrency exchange FTX, crypto billionaire Sam Bankman-Fried (SBF), has said that the trading platform is set to soon list Cardano ($ADA) as it’s on the exchange’s roadmap. In response to a Cardano community member who suggested FTX wouldn’t list $ADA because they “view Cardano as a threat to everything they want […] ... [| Skaityti daugiau](https://www.cryptoglobe.com/latest/2022/10/ada-crypto-exchange-ftx-to-soon-list-cardano-ceo-says/) "
      ],
      "text/plain": [
       "<IPython.core.display.Markdown object>"
      ]
     },
     "execution_count": 9,
     "metadata": {},
     "output_type": "execute_result"
    }
   ],
   "source": [
    "#hide_input\n",
    "#md('##### {}'.format(titleBTC)) \n",
    "md(\"- {}{} {}{} [| Skaityti daugiau]({}) \".format(exchange['title'],'. ', exchange['body'], ' ...', exchange['url']))"
   ]
  },
  {
   "cell_type": "code",
   "execution_count": null,
   "id": "tender-livestock",
   "metadata": {
    "papermill": {
     "duration": 0.016996,
     "end_time": "2022-10-26T03:17:42.186570",
     "exception": false,
     "start_time": "2022-10-26T03:17:42.169574",
     "status": "completed"
    },
    "tags": []
   },
   "outputs": [],
   "source": []
  },
  {
   "cell_type": "code",
   "execution_count": null,
   "id": "appreciated-diamond",
   "metadata": {
    "papermill": {
     "duration": 0.013911,
     "end_time": "2022-10-26T03:17:42.214749",
     "exception": false,
     "start_time": "2022-10-26T03:17:42.200838",
     "status": "completed"
    },
    "tags": []
   },
   "outputs": [],
   "source": []
  },
  {
   "cell_type": "code",
   "execution_count": null,
   "id": "romance-sweden",
   "metadata": {
    "papermill": {
     "duration": 0.015924,
     "end_time": "2022-10-26T03:17:42.245236",
     "exception": false,
     "start_time": "2022-10-26T03:17:42.229312",
     "status": "completed"
    },
    "tags": []
   },
   "outputs": [],
   "source": []
  },
  {
   "cell_type": "code",
   "execution_count": null,
   "id": "dietary-statistics",
   "metadata": {
    "papermill": {
     "duration": 0.015343,
     "end_time": "2022-10-26T03:17:42.275453",
     "exception": false,
     "start_time": "2022-10-26T03:17:42.260110",
     "status": "completed"
    },
    "tags": []
   },
   "outputs": [],
   "source": []
  }
 ],
 "metadata": {
  "kernelspec": {
   "display_name": "Python 3",
   "language": "python",
   "name": "python3"
  },
  "language_info": {
   "codemirror_mode": {
    "name": "ipython",
    "version": 3
   },
   "file_extension": ".py",
   "mimetype": "text/x-python",
   "name": "python",
   "nbconvert_exporter": "python",
   "pygments_lexer": "ipython3",
   "version": "3.6.15"
  },
  "papermill": {
   "default_parameters": {},
   "duration": 18.07533,
   "end_time": "2022-10-26T03:17:42.910673",
   "environment_variables": {},
   "exception": null,
   "input_path": "Market-News.ipynb",
   "output_path": "Market-News.ipynb",
   "parameters": {},
   "start_time": "2022-10-26T03:17:24.835343",
   "version": "2.2.2"
  }
 },
 "nbformat": 4,
 "nbformat_minor": 5
}