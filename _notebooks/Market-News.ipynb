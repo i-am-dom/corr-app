{
 "cells": [
  {
   "cell_type": "markdown",
   "id": "short-greensboro",
   "metadata": {
    "papermill": {
     "duration": 0.017548,
     "end_time": "2021-09-02T01:57:14.333379",
     "exception": false,
     "start_time": "2021-09-02T01:57:14.315831",
     "status": "completed"
    },
    "tags": []
   },
   "source": [
    "# Kriptovaliutų naujienos"
   ]
  },
  {
   "cell_type": "code",
   "execution_count": 1,
   "id": "functioning-knowing",
   "metadata": {
    "execution": {
     "iopub.execute_input": "2021-09-02T01:57:14.371326Z",
     "iopub.status.busy": "2021-09-02T01:57:14.370540Z",
     "iopub.status.idle": "2021-09-02T01:57:15.960967Z",
     "shell.execute_reply": "2021-09-02T01:57:15.960324Z"
    },
    "papermill": {
     "duration": 1.614665,
     "end_time": "2021-09-02T01:57:15.961127",
     "exception": false,
     "start_time": "2021-09-02T01:57:14.346462",
     "status": "completed"
    },
    "tags": []
   },
   "outputs": [],
   "source": [
    "#hide_input\n",
    "import warnings\n",
    "warnings.filterwarnings('ignore')\n",
    "from scripts.read_data import read_api\n",
    "from scripts.read_data import read_news\n",
    "from scripts.read_data import read_covid\n",
    "import matplotlib.pyplot as plt \n",
    "from IPython.display import Markdown as md"
   ]
  },
  {
   "cell_type": "code",
   "execution_count": 2,
   "id": "shared-acceptance",
   "metadata": {
    "execution": {
     "iopub.execute_input": "2021-09-02T01:57:15.998213Z",
     "iopub.status.busy": "2021-09-02T01:57:15.997513Z",
     "iopub.status.idle": "2021-09-02T01:57:26.320111Z",
     "shell.execute_reply": "2021-09-02T01:57:26.319197Z"
    },
    "papermill": {
     "duration": 10.343442,
     "end_time": "2021-09-02T01:57:26.320238",
     "exception": false,
     "start_time": "2021-09-02T01:57:15.976796",
     "status": "completed"
    },
    "tags": []
   },
   "outputs": [],
   "source": [
    "#hide_input\n",
    "blockchain = read_news('blockchain') \n",
    "btc = read_news('btc') \n",
    "xrp = read_news('xrp') \n",
    "trx = read_news('trx') \n",
    "eth = read_news('eth')  \n",
    "ada = read_news('ada')\n",
    "exchange = read_news('exchange') "
   ]
  },
  {
   "cell_type": "code",
   "execution_count": 3,
   "id": "synthetic-notion",
   "metadata": {
    "execution": {
     "iopub.execute_input": "2021-09-02T01:57:26.352293Z",
     "iopub.status.busy": "2021-09-02T01:57:26.348791Z",
     "iopub.status.idle": "2021-09-02T01:57:26.354863Z",
     "shell.execute_reply": "2021-09-02T01:57:26.355428Z"
    },
    "papermill": {
     "duration": 0.022544,
     "end_time": "2021-09-02T01:57:26.355560",
     "exception": false,
     "start_time": "2021-09-02T01:57:26.333016",
     "status": "completed"
    },
    "tags": []
   },
   "outputs": [
    {
     "data": {
      "text/markdown": [
       "- Analytics Firm Santiment Points to ‘Historic’ Signals on Ethereum and Solana, Says Cardano Can Run Higher.  Blockchain analytics firm Santiment is pointing to bullish on-chain data for Ethereum (ETH), Solana (SOL) and Cardano (ADA) as the crypto market heats up again. Starting with Ethereum, Santiment highlights that Ethereum miners have been stacking ETH aggressively throughout the asset’s recent recovery from its three-month low of $1,707. “Ethereum miner balances have absolutely skyrocketed [&#8230;]The post Analytics Firm Santiment Points to ‘Historic’ Signals on Ethereum and Solana, Says Cardano Can Run Higher appeared first on The Daily Hodl. ... [| Skaityti daugiau](https://dailyhodl.com/2021/09/01/analytics-firm-santiment-points-to-historic-signals-on-ethereum-and-solana-says-cardano-can-run-higher/) "
      ],
      "text/plain": [
       "<IPython.core.display.Markdown object>"
      ]
     },
     "execution_count": 3,
     "metadata": {},
     "output_type": "execute_result"
    }
   ],
   "source": [
    "#hide_input\n",
    "#md('##### {}'.format(titleBTC)) \n",
    "md(\"- {}{} {}{} [| Skaityti daugiau]({}) \".format(blockchain['title'],'. ', blockchain['body'], ' ...', blockchain['url']))"
   ]
  },
  {
   "cell_type": "code",
   "execution_count": 4,
   "id": "aging-caution",
   "metadata": {
    "execution": {
     "iopub.execute_input": "2021-09-02T01:57:26.384765Z",
     "iopub.status.busy": "2021-09-02T01:57:26.384028Z",
     "iopub.status.idle": "2021-09-02T01:57:26.390530Z",
     "shell.execute_reply": "2021-09-02T01:57:26.391050Z"
    },
    "papermill": {
     "duration": 0.023396,
     "end_time": "2021-09-02T01:57:26.391187",
     "exception": false,
     "start_time": "2021-09-02T01:57:26.367791",
     "status": "completed"
    },
    "tags": []
   },
   "outputs": [
    {
     "data": {
      "text/markdown": [
       "- Is Bitcoin finally more credible than Gold now.  Bitcoin v. Gold. This narrative is perhaps as old as the cryptocurrency itself. In fact, comparisons between Bitcoin and Gold have continued through the bull and bear cycles of the past year too. That being said, however, the fundamentals have also changed significantly since. Bitcoin, unlike in 2017, is promoting consistent stability in the market, [&#8230;] ... [| Skaityti daugiau](https://ambcrypto.com/is-bitcoin-finally-more-credible-than-gold-now/) "
      ],
      "text/plain": [
       "<IPython.core.display.Markdown object>"
      ]
     },
     "execution_count": 4,
     "metadata": {},
     "output_type": "execute_result"
    }
   ],
   "source": [
    "#hide_input\n",
    "#md('##### {}'.format(titleBTC)) \n",
    "md(\"- {}{} {}{} [| Skaityti daugiau]({}) \".format(btc['title'],'. ', btc['body'], ' ...', btc['url']))"
   ]
  },
  {
   "cell_type": "code",
   "execution_count": 5,
   "id": "organic-actress",
   "metadata": {
    "execution": {
     "iopub.execute_input": "2021-09-02T01:57:26.422242Z",
     "iopub.status.busy": "2021-09-02T01:57:26.421099Z",
     "iopub.status.idle": "2021-09-02T01:57:26.424356Z",
     "shell.execute_reply": "2021-09-02T01:57:26.424985Z"
    },
    "papermill": {
     "duration": 0.021791,
     "end_time": "2021-09-02T01:57:26.425140",
     "exception": false,
     "start_time": "2021-09-02T01:57:26.403349",
     "status": "completed"
    },
    "tags": []
   },
   "outputs": [
    {
     "data": {
      "text/markdown": [
       "- Discussing two possible breakout scenarios for XRP.  Disclaimer: The findings of the following analysis are the sole opinions of the writer and should not be taken as investment advice Even though XRP&#8217;s weekly gains were in the green at 4%, it paled in comparison with the likes of Solana, Polkadot, and Cardano. To catch up to these alts, XRP needs to break north from [&#8230;] ... [| Skaityti daugiau](https://ambcrypto.com/discussing-two-possible-breakout-scenarios-for-xrp/) "
      ],
      "text/plain": [
       "<IPython.core.display.Markdown object>"
      ]
     },
     "execution_count": 5,
     "metadata": {},
     "output_type": "execute_result"
    }
   ],
   "source": [
    "#hide_input\n",
    "#md('##### {}'.format(titleBTC)) \n",
    "md(\"- {}{} {}{} [| Skaityti daugiau]({}) \".format(xrp['title'],'. ', xrp['body'], ' ...', xrp['url']))"
   ]
  },
  {
   "cell_type": "code",
   "execution_count": 6,
   "id": "prompt-farmer",
   "metadata": {
    "execution": {
     "iopub.execute_input": "2021-09-02T01:57:26.455772Z",
     "iopub.status.busy": "2021-09-02T01:57:26.454604Z",
     "iopub.status.idle": "2021-09-02T01:57:26.459232Z",
     "shell.execute_reply": "2021-09-02T01:57:26.459717Z"
    },
    "papermill": {
     "duration": 0.022002,
     "end_time": "2021-09-02T01:57:26.459853",
     "exception": false,
     "start_time": "2021-09-02T01:57:26.437851",
     "status": "completed"
    },
    "tags": []
   },
   "outputs": [
    {
     "data": {
      "text/markdown": [
       "- Tron (TRX) Price Analysis: Bulls Eye Upside Break above $0.09.  Tron price is still struggling to clear the $0.0900 resistance zone against the US Dollar. TRX price is now trading above $0.0850 and the 55 simple moving average (4-hours). There is a key contracting triangle forming with resistance near $0.0900 on the 4-hours chart (data feed via Bitfinex). The pair is likely to continue higher...The post Tron (TRX) Price Analysis: Bulls Eye Upside Break above $0.09 appeared first on Live Bitcoin News. ... [| Skaityti daugiau](https://www.livebitcoinnews.com/tron-trx-price-analysis-bulls-eye-upside-break-above-0-09/) "
      ],
      "text/plain": [
       "<IPython.core.display.Markdown object>"
      ]
     },
     "execution_count": 6,
     "metadata": {},
     "output_type": "execute_result"
    }
   ],
   "source": [
    "#hide_input\n",
    "#md('##### {}'.format(titleBTC)) \n",
    "md(\"- {}{} {}{} [| Skaityti daugiau]({}) \".format(trx['title'],'. ', trx['body'], ' ...', trx['url']))"
   ]
  },
  {
   "cell_type": "code",
   "execution_count": 7,
   "id": "illegal-greece",
   "metadata": {
    "execution": {
     "iopub.execute_input": "2021-09-02T01:57:26.494337Z",
     "iopub.status.busy": "2021-09-02T01:57:26.493645Z",
     "iopub.status.idle": "2021-09-02T01:57:26.497072Z",
     "shell.execute_reply": "2021-09-02T01:57:26.497724Z"
    },
    "papermill": {
     "duration": 0.024812,
     "end_time": "2021-09-02T01:57:26.498006",
     "exception": false,
     "start_time": "2021-09-02T01:57:26.473194",
     "status": "completed"
    },
    "tags": []
   },
   "outputs": [
    {
     "data": {
      "text/markdown": [
       "- These Are the NBA, NFL Stars In Bored Apes, CryptoPunks and Other Ethereum NFTs.  Stephen Curry is the latest, but other prominent athletes have invested in trendy NFT collections. ... [| Skaityti daugiau](https://decrypt.co/79953/nba-nfl-mlb-stars-ethereum-nft-bored-ape-yacht-club-cryptopunks) "
      ],
      "text/plain": [
       "<IPython.core.display.Markdown object>"
      ]
     },
     "execution_count": 7,
     "metadata": {},
     "output_type": "execute_result"
    }
   ],
   "source": [
    "#hide_input\n",
    "#md('##### {}'.format(titleBTC)) \n",
    "md(\"- {}{} {}{} [| Skaityti daugiau]({}) \".format(eth['title'],'. ', eth['body'], ' ...', eth['url']))"
   ]
  },
  {
   "cell_type": "code",
   "execution_count": 8,
   "id": "sublime-lounge",
   "metadata": {
    "execution": {
     "iopub.execute_input": "2021-09-02T01:57:26.532845Z",
     "iopub.status.busy": "2021-09-02T01:57:26.532215Z",
     "iopub.status.idle": "2021-09-02T01:57:26.534764Z",
     "shell.execute_reply": "2021-09-02T01:57:26.535555Z"
    },
    "papermill": {
     "duration": 0.023787,
     "end_time": "2021-09-02T01:57:26.535692",
     "exception": false,
     "start_time": "2021-09-02T01:57:26.511905",
     "status": "completed"
    },
    "tags": []
   },
   "outputs": [
    {
     "data": {
      "text/markdown": [
       "- Cardano’s Hoskinson sees three purposes behind a possible collaboration with Solana.  With August coming to an end, many in the crypto-community are confused about the status of the market&#8217;s bull run. However, the likes of Cardano [ADA] and Solana [SOL] proved skeptics wrong, with both emerging as among the most profitable altcoins over the last 30 days. While ADA recorded monthly returns of nearly 114%, Solana&#8217;s [&#8230;] ... [| Skaityti daugiau](https://ambcrypto.com/cardanos-hoskinson-sees-three-purposes-behind-a-possible-collaboration-with-solana/) "
      ],
      "text/plain": [
       "<IPython.core.display.Markdown object>"
      ]
     },
     "execution_count": 8,
     "metadata": {},
     "output_type": "execute_result"
    }
   ],
   "source": [
    "#hide_input\n",
    "#md('##### {}'.format(titleBTC)) \n",
    "md(\"- {}{} {}{} [| Skaityti daugiau]({}) \".format(ada['title'],'. ', ada['body'], ' ...', ada['url']))"
   ]
  },
  {
   "cell_type": "code",
   "execution_count": 9,
   "id": "specified-ordering",
   "metadata": {
    "execution": {
     "iopub.execute_input": "2021-09-02T01:57:26.571242Z",
     "iopub.status.busy": "2021-09-02T01:57:26.569846Z",
     "iopub.status.idle": "2021-09-02T01:57:26.573354Z",
     "shell.execute_reply": "2021-09-02T01:57:26.573881Z"
    },
    "papermill": {
     "duration": 0.024818,
     "end_time": "2021-09-02T01:57:26.574012",
     "exception": false,
     "start_time": "2021-09-02T01:57:26.549194",
     "status": "completed"
    },
    "tags": []
   },
   "outputs": [
    {
     "data": {
      "text/markdown": [
       "- We’re Right On Track For Bitcoin At $250,000, Billionaire Tim Draper.  Bitcoin has been a part of billionaire Tim Draper’s investment portfolio for a while now. Draper had first gotten into bitcoin in 2011 when Peter Vincennes had convinced him to buy the digital asset. Draper had bought $250,000 worth of BTC, which he subsequently lost after the now-defunct Mt. Gox exchange crashed, where Draper had kept his coins. Despite this, the billionaire was not deterred. So when another opportunity presented itself in the form of U.S. Marshalls auctioning off bitcoins seized from criminals, Draper took advantage of this opportunity. At the auction, Draper had bought 29,656 bitcoins at $632 apiece, which had totaled $18.74 since the coins were sold for $14 above the going rate on exchanges. Related Reading &#124; Quant Explains Why Bitcoin Bull Cycle Is Only In Phase 1 The investor has never backed down from his belief in the future of cryptocurrencies, especially bitcoin. Even giving some very optimistic predictions regarding the price of the asset in the coming years. Draper Predicts Bitcoin At $250,000 By 2022 The first time the billionaire had made this prediction had been in 2018. Back then, the price of the digital asset was still trading below $10,000, so this did not seem as believable as it might be today. But Draper never faltered on his prediction. The driving factor behind this prediction has been that the billionaire believes bitcoin will become an accepted mode of payment everywhere. Another... ... [| Skaityti daugiau](https://www.newsbtc.com/news/bitcoin/bitcoin-at-250000-tim-draper/) "
      ],
      "text/plain": [
       "<IPython.core.display.Markdown object>"
      ]
     },
     "execution_count": 9,
     "metadata": {},
     "output_type": "execute_result"
    }
   ],
   "source": [
    "#hide_input\n",
    "#md('##### {}'.format(titleBTC)) \n",
    "md(\"- {}{} {}{} [| Skaityti daugiau]({}) \".format(exchange['title'],'. ', exchange['body'], ' ...', exchange['url']))"
   ]
  },
  {
   "cell_type": "code",
   "execution_count": null,
   "id": "tender-livestock",
   "metadata": {
    "papermill": {
     "duration": 0.014495,
     "end_time": "2021-09-02T01:57:26.604143",
     "exception": false,
     "start_time": "2021-09-02T01:57:26.589648",
     "status": "completed"
    },
    "tags": []
   },
   "outputs": [],
   "source": []
  },
  {
   "cell_type": "code",
   "execution_count": null,
   "id": "appreciated-diamond",
   "metadata": {
    "papermill": {
     "duration": 0.014188,
     "end_time": "2021-09-02T01:57:26.633446",
     "exception": false,
     "start_time": "2021-09-02T01:57:26.619258",
     "status": "completed"
    },
    "tags": []
   },
   "outputs": [],
   "source": []
  },
  {
   "cell_type": "code",
   "execution_count": null,
   "id": "romance-sweden",
   "metadata": {
    "papermill": {
     "duration": 0.014764,
     "end_time": "2021-09-02T01:57:26.662398",
     "exception": false,
     "start_time": "2021-09-02T01:57:26.647634",
     "status": "completed"
    },
    "tags": []
   },
   "outputs": [],
   "source": []
  },
  {
   "cell_type": "code",
   "execution_count": null,
   "id": "dietary-statistics",
   "metadata": {
    "papermill": {
     "duration": 0.014851,
     "end_time": "2021-09-02T01:57:26.691078",
     "exception": false,
     "start_time": "2021-09-02T01:57:26.676227",
     "status": "completed"
    },
    "tags": []
   },
   "outputs": [],
   "source": []
  }
 ],
 "metadata": {
  "kernelspec": {
   "display_name": "Python 3",
   "language": "python",
   "name": "python3"
  },
  "language_info": {
   "codemirror_mode": {
    "name": "ipython",
    "version": 3
   },
   "file_extension": ".py",
   "mimetype": "text/x-python",
   "name": "python",
   "nbconvert_exporter": "python",
   "pygments_lexer": "ipython3",
   "version": "3.6.14"
  },
  "papermill": {
   "default_parameters": {},
   "duration": 14.079666,
   "end_time": "2021-09-02T01:57:27.214058",
   "environment_variables": {},
   "exception": null,
   "input_path": "Market-News.ipynb",
   "output_path": "Market-News.ipynb",
   "parameters": {},
   "start_time": "2021-09-02T01:57:13.134392",
   "version": "2.2.2"
  }
 },
 "nbformat": 4,
 "nbformat_minor": 5
}