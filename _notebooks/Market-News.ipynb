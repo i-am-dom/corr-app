{
 "cells": [
  {
   "cell_type": "markdown",
   "id": "short-greensboro",
   "metadata": {
    "papermill": {
     "duration": 0.013825,
     "end_time": "2022-11-15T02:53:49.707466",
     "exception": false,
     "start_time": "2022-11-15T02:53:49.693641",
     "status": "completed"
    },
    "tags": []
   },
   "source": [
    "# Kriptovaliutų naujienos"
   ]
  },
  {
   "cell_type": "code",
   "execution_count": 1,
   "id": "functioning-knowing",
   "metadata": {
    "execution": {
     "iopub.execute_input": "2022-11-15T02:53:49.740567Z",
     "iopub.status.busy": "2022-11-15T02:53:49.735626Z",
     "iopub.status.idle": "2022-11-15T02:53:50.971938Z",
     "shell.execute_reply": "2022-11-15T02:53:50.971375Z"
    },
    "papermill": {
     "duration": 1.25494,
     "end_time": "2022-11-15T02:53:50.972106",
     "exception": false,
     "start_time": "2022-11-15T02:53:49.717166",
     "status": "completed"
    },
    "tags": []
   },
   "outputs": [],
   "source": [
    "#hide_input\n",
    "import warnings\n",
    "warnings.filterwarnings('ignore')\n",
    "from scripts.read_data import read_api\n",
    "from scripts.read_data import read_news\n",
    "from scripts.read_data import read_covid\n",
    "import matplotlib.pyplot as plt \n",
    "from IPython.display import Markdown as md"
   ]
  },
  {
   "cell_type": "code",
   "execution_count": 2,
   "id": "shared-acceptance",
   "metadata": {
    "execution": {
     "iopub.execute_input": "2022-11-15T02:53:50.998929Z",
     "iopub.status.busy": "2022-11-15T02:53:50.998317Z",
     "iopub.status.idle": "2022-11-15T02:53:58.685356Z",
     "shell.execute_reply": "2022-11-15T02:53:58.684295Z"
    },
    "papermill": {
     "duration": 7.703007,
     "end_time": "2022-11-15T02:53:58.685487",
     "exception": false,
     "start_time": "2022-11-15T02:53:50.982480",
     "status": "completed"
    },
    "tags": []
   },
   "outputs": [],
   "source": [
    "#hide_input\n",
    "blockchain = read_news('blockchain') \n",
    "btc = read_news('btc') \n",
    "xrp = read_news('xrp') \n",
    "trx = read_news('trx') \n",
    "eth = read_news('eth')  \n",
    "ada = read_news('ada')\n",
    "exchange = read_news('exchange') "
   ]
  },
  {
   "cell_type": "code",
   "execution_count": 3,
   "id": "synthetic-notion",
   "metadata": {
    "execution": {
     "iopub.execute_input": "2022-11-15T02:53:58.707915Z",
     "iopub.status.busy": "2022-11-15T02:53:58.707186Z",
     "iopub.status.idle": "2022-11-15T02:53:58.710236Z",
     "shell.execute_reply": "2022-11-15T02:53:58.710727Z"
    },
    "papermill": {
     "duration": 0.01713,
     "end_time": "2022-11-15T02:53:58.710863",
     "exception": false,
     "start_time": "2022-11-15T02:53:58.693733",
     "status": "completed"
    },
    "tags": []
   },
   "outputs": [
    {
     "data": {
      "text/markdown": [
       "- Ethereum co-founder Buterin reportedly Dumped 3,000 ETH Following FTX Liquidation news.  Ethereum co-founder Vitalik Buterin received 5,000 ETH in two payments from the same address soon before transferring 3000 ETH to the DeFi protocol, according to his transaction history as seen on Etherscan. According to DeFi Llama, Uniswap is an automated market maker that presently has about $3.6 billion in ETH locked in a number of … Ethereum co-founder Buterin reportedly Dumped 3,000 ETH Following FTX Liquidation news Read More » ... [| Skaityti daugiau](https://www.cryptopolitan.com/ethereum-co-founder-dumped-3000-eth/) "
      ],
      "text/plain": [
       "<IPython.core.display.Markdown object>"
      ]
     },
     "execution_count": 3,
     "metadata": {},
     "output_type": "execute_result"
    }
   ],
   "source": [
    "#hide_input\n",
    "#md('##### {}'.format(titleBTC)) \n",
    "md(\"- {}{} {}{} [| Skaityti daugiau]({}) \".format(blockchain['title'],'. ', blockchain['body'], ' ...', blockchain['url']))"
   ]
  },
  {
   "cell_type": "code",
   "execution_count": 4,
   "id": "aging-caution",
   "metadata": {
    "execution": {
     "iopub.execute_input": "2022-11-15T02:53:58.735116Z",
     "iopub.status.busy": "2022-11-15T02:53:58.734447Z",
     "iopub.status.idle": "2022-11-15T02:53:58.747440Z",
     "shell.execute_reply": "2022-11-15T02:53:58.748095Z"
    },
    "papermill": {
     "duration": 0.028672,
     "end_time": "2022-11-15T02:53:58.748236",
     "exception": false,
     "start_time": "2022-11-15T02:53:58.719564",
     "status": "completed"
    },
    "tags": []
   },
   "outputs": [
    {
     "data": {
      "text/markdown": [
       "- Top 3 Doge Chain Ecosystem Tokens with Highest Profit In The Last 24Hrs.  Despite the severe bear market and the recent crash, seeing Bitcoin fall to a yearly low of $15k levels, these Dogechain ecosystem tokens have recorded massive price increase. Let’s look at some of the factors that might have influenced the recent price spike. Note: This list is sorted by their price increase within the last The post Top 3 Doge Chain Ecosystem Tokens with Highest Profit In The Last 24Hrs appeared first on NullTX . ... [| Skaityti daugiau](https://nulltx.com/top-3-doge-chain-ecosystem-tokens-with-highest-profit-in-the-last-24hrs/) "
      ],
      "text/plain": [
       "<IPython.core.display.Markdown object>"
      ]
     },
     "execution_count": 4,
     "metadata": {},
     "output_type": "execute_result"
    }
   ],
   "source": [
    "#hide_input\n",
    "#md('##### {}'.format(titleBTC)) \n",
    "md(\"- {}{} {}{} [| Skaityti daugiau]({}) \".format(btc['title'],'. ', btc['body'], ' ...', btc['url']))"
   ]
  },
  {
   "cell_type": "code",
   "execution_count": 5,
   "id": "organic-actress",
   "metadata": {
    "execution": {
     "iopub.execute_input": "2022-11-15T02:53:58.775255Z",
     "iopub.status.busy": "2022-11-15T02:53:58.774533Z",
     "iopub.status.idle": "2022-11-15T02:53:58.777972Z",
     "shell.execute_reply": "2022-11-15T02:53:58.778450Z"
    },
    "papermill": {
     "duration": 0.019585,
     "end_time": "2022-11-15T02:53:58.778573",
     "exception": false,
     "start_time": "2022-11-15T02:53:58.758988",
     "status": "completed"
    },
    "tags": []
   },
   "outputs": [
    {
     "data": {
      "text/markdown": [
       "- XRP’s “Diamond Resistance” Plays Out Again: Crypto Market Review, November 14.  Market slowly recovering after short-term crisis we had few days ago ... [| Skaityti daugiau](https://u.today/xrps-diamond-resistance-plays-out-again-crypto-market-review-november-14) "
      ],
      "text/plain": [
       "<IPython.core.display.Markdown object>"
      ]
     },
     "execution_count": 5,
     "metadata": {},
     "output_type": "execute_result"
    }
   ],
   "source": [
    "#hide_input\n",
    "#md('##### {}'.format(titleBTC)) \n",
    "md(\"- {}{} {}{} [| Skaityti daugiau]({}) \".format(xrp['title'],'. ', xrp['body'], ' ...', xrp['url']))"
   ]
  },
  {
   "cell_type": "code",
   "execution_count": 6,
   "id": "prompt-farmer",
   "metadata": {
    "execution": {
     "iopub.execute_input": "2022-11-15T02:53:58.803578Z",
     "iopub.status.busy": "2022-11-15T02:53:58.802166Z",
     "iopub.status.idle": "2022-11-15T02:53:58.807724Z",
     "shell.execute_reply": "2022-11-15T02:53:58.807170Z"
    },
    "papermill": {
     "duration": 0.01953,
     "end_time": "2022-11-15T02:53:58.807829",
     "exception": false,
     "start_time": "2022-11-15T02:53:58.788299",
     "status": "completed"
    },
    "tags": []
   },
   "outputs": [
    {
     "data": {
      "text/markdown": [
       "- Growing interest for TRON (TRX) and Orbeon (ORBN) in 2023.  With dozens of top altcoins down 80-90% from their all-time highs, smart investors are taking advantage of the prolonged ‘discount’ on their favorite tokens. Continue reading Growing interest for TRON (TRX) and Orbeon (ORBN) in 2023 at DailyCoin.com. ... [| Skaityti daugiau](https://dailycoin.com/growing-interest-for-tron-trx-and-orbeon-orbn-in-2023/) "
      ],
      "text/plain": [
       "<IPython.core.display.Markdown object>"
      ]
     },
     "execution_count": 6,
     "metadata": {},
     "output_type": "execute_result"
    }
   ],
   "source": [
    "#hide_input\n",
    "#md('##### {}'.format(titleBTC)) \n",
    "md(\"- {}{} {}{} [| Skaityti daugiau]({}) \".format(trx['title'],'. ', trx['body'], ' ...', trx['url']))"
   ]
  },
  {
   "cell_type": "code",
   "execution_count": 7,
   "id": "illegal-greece",
   "metadata": {
    "execution": {
     "iopub.execute_input": "2022-11-15T02:53:58.832848Z",
     "iopub.status.busy": "2022-11-15T02:53:58.832248Z",
     "iopub.status.idle": "2022-11-15T02:53:58.836192Z",
     "shell.execute_reply": "2022-11-15T02:53:58.835649Z"
    },
    "papermill": {
     "duration": 0.018122,
     "end_time": "2022-11-15T02:53:58.836301",
     "exception": false,
     "start_time": "2022-11-15T02:53:58.818179",
     "status": "completed"
    },
    "tags": []
   },
   "outputs": [
    {
     "data": {
      "text/markdown": [
       "- Ethereum co-founder Buterin reportedly Dumped 3,000 ETH Following FTX Liquidation news.  Ethereum co-founder Vitalik Buterin received 5,000 ETH in two payments from the same address soon before transferring 3000 ETH to the DeFi protocol, according to his transaction history as seen on Etherscan. According to DeFi Llama, Uniswap is an automated market maker that presently has about $3.6 billion in ETH locked in a number of … Ethereum co-founder Buterin reportedly Dumped 3,000 ETH Following FTX Liquidation news Read More » ... [| Skaityti daugiau](https://www.cryptopolitan.com/ethereum-co-founder-dumped-3000-eth/) "
      ],
      "text/plain": [
       "<IPython.core.display.Markdown object>"
      ]
     },
     "execution_count": 7,
     "metadata": {},
     "output_type": "execute_result"
    }
   ],
   "source": [
    "#hide_input\n",
    "#md('##### {}'.format(titleBTC)) \n",
    "md(\"- {}{} {}{} [| Skaityti daugiau]({}) \".format(eth['title'],'. ', eth['body'], ' ...', eth['url']))"
   ]
  },
  {
   "cell_type": "code",
   "execution_count": 8,
   "id": "sublime-lounge",
   "metadata": {
    "execution": {
     "iopub.execute_input": "2022-11-15T02:53:58.864250Z",
     "iopub.status.busy": "2022-11-15T02:53:58.863697Z",
     "iopub.status.idle": "2022-11-15T02:53:58.867804Z",
     "shell.execute_reply": "2022-11-15T02:53:58.868417Z"
    },
    "papermill": {
     "duration": 0.020456,
     "end_time": "2022-11-15T02:53:58.868540",
     "exception": false,
     "start_time": "2022-11-15T02:53:58.848084",
     "status": "completed"
    },
    "tags": []
   },
   "outputs": [
    {
     "data": {
      "text/markdown": [
       "- Cardano could play an important role to help ADA avoid the bears because….  Charles Hoskinson talks about growth in Cardano’s ecosystem dApps observe improvements. However, TVL continues to decline On 14 November, Charles Hopkinson, the founder of Cardano, stated that Cardano’s ecosystem had been growing at a rapid pace. At the time of the tweet, the platform was hosting 3.6 million wallets, over 100 launched projects, and over ... [| Skaityti daugiau](https://ambcrypto.com/will-cardano-successfully-battle-the-bear-market-its-current-ecosystem-suggests/) "
      ],
      "text/plain": [
       "<IPython.core.display.Markdown object>"
      ]
     },
     "execution_count": 8,
     "metadata": {},
     "output_type": "execute_result"
    }
   ],
   "source": [
    "#hide_input\n",
    "#md('##### {}'.format(titleBTC)) \n",
    "md(\"- {}{} {}{} [| Skaityti daugiau]({}) \".format(ada['title'],'. ', ada['body'], ' ...', ada['url']))"
   ]
  },
  {
   "cell_type": "code",
   "execution_count": 9,
   "id": "specified-ordering",
   "metadata": {
    "execution": {
     "iopub.execute_input": "2022-11-15T02:53:58.896668Z",
     "iopub.status.busy": "2022-11-15T02:53:58.895331Z",
     "iopub.status.idle": "2022-11-15T02:53:58.900689Z",
     "shell.execute_reply": "2022-11-15T02:53:58.900246Z"
    },
    "papermill": {
     "duration": 0.020997,
     "end_time": "2022-11-15T02:53:58.900780",
     "exception": false,
     "start_time": "2022-11-15T02:53:58.879783",
     "status": "completed"
    },
    "tags": []
   },
   "outputs": [
    {
     "data": {
      "text/markdown": [
       "- Mercedes will keep FTX Logo on its F1 race cars.  Mercedes Formula One team has decided to keep FTX logo on its race cars for now despite the failure of the crypto exchange. The post Mercedes will keep FTX Logo on its F1 race cars appeared first on Blockchain, Crypto and Stock News . ... [| Skaityti daugiau](https://thecoinrise.com/mercedes-will-keep-ftx-logo-on-its-f1-race-cars/) "
      ],
      "text/plain": [
       "<IPython.core.display.Markdown object>"
      ]
     },
     "execution_count": 9,
     "metadata": {},
     "output_type": "execute_result"
    }
   ],
   "source": [
    "#hide_input\n",
    "#md('##### {}'.format(titleBTC)) \n",
    "md(\"- {}{} {}{} [| Skaityti daugiau]({}) \".format(exchange['title'],'. ', exchange['body'], ' ...', exchange['url']))"
   ]
  },
  {
   "cell_type": "code",
   "execution_count": null,
   "id": "tender-livestock",
   "metadata": {
    "papermill": {
     "duration": 0.011087,
     "end_time": "2022-11-15T02:53:58.922800",
     "exception": false,
     "start_time": "2022-11-15T02:53:58.911713",
     "status": "completed"
    },
    "tags": []
   },
   "outputs": [],
   "source": []
  },
  {
   "cell_type": "code",
   "execution_count": null,
   "id": "appreciated-diamond",
   "metadata": {
    "papermill": {
     "duration": 0.010548,
     "end_time": "2022-11-15T02:53:58.944001",
     "exception": false,
     "start_time": "2022-11-15T02:53:58.933453",
     "status": "completed"
    },
    "tags": []
   },
   "outputs": [],
   "source": []
  },
  {
   "cell_type": "code",
   "execution_count": null,
   "id": "romance-sweden",
   "metadata": {
    "papermill": {
     "duration": 0.010481,
     "end_time": "2022-11-15T02:53:58.964639",
     "exception": false,
     "start_time": "2022-11-15T02:53:58.954158",
     "status": "completed"
    },
    "tags": []
   },
   "outputs": [],
   "source": []
  },
  {
   "cell_type": "code",
   "execution_count": null,
   "id": "dietary-statistics",
   "metadata": {
    "papermill": {
     "duration": 0.01088,
     "end_time": "2022-11-15T02:53:58.986548",
     "exception": false,
     "start_time": "2022-11-15T02:53:58.975668",
     "status": "completed"
    },
    "tags": []
   },
   "outputs": [],
   "source": []
  }
 ],
 "metadata": {
  "kernelspec": {
   "display_name": "Python 3",
   "language": "python",
   "name": "python3"
  },
  "language_info": {
   "codemirror_mode": {
    "name": "ipython",
    "version": 3
   },
   "file_extension": ".py",
   "mimetype": "text/x-python",
   "name": "python",
   "nbconvert_exporter": "python",
   "pygments_lexer": "ipython3",
   "version": "3.6.15"
  },
  "papermill": {
   "default_parameters": {},
   "duration": 10.963393,
   "end_time": "2022-11-15T02:53:59.417171",
   "environment_variables": {},
   "exception": null,
   "input_path": "Market-News.ipynb",
   "output_path": "Market-News.ipynb",
   "parameters": {},
   "start_time": "2022-11-15T02:53:48.453778",
   "version": "2.2.2"
  }
 },
 "nbformat": 4,
 "nbformat_minor": 5
}