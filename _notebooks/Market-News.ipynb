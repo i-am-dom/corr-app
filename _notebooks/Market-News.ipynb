{
 "cells": [
  {
   "cell_type": "markdown",
   "id": "short-greensboro",
   "metadata": {
    "papermill": {
     "duration": 0.019373,
     "end_time": "2022-06-08T03:01:31.092723",
     "exception": false,
     "start_time": "2022-06-08T03:01:31.073350",
     "status": "completed"
    },
    "tags": []
   },
   "source": [
    "# Kriptovaliutų naujienos"
   ]
  },
  {
   "cell_type": "code",
   "execution_count": 1,
   "id": "functioning-knowing",
   "metadata": {
    "execution": {
     "iopub.execute_input": "2022-06-08T03:01:31.131502Z",
     "iopub.status.busy": "2022-06-08T03:01:31.130792Z",
     "iopub.status.idle": "2022-06-08T03:01:32.588827Z",
     "shell.execute_reply": "2022-06-08T03:01:32.589366Z"
    },
    "papermill": {
     "duration": 1.483252,
     "end_time": "2022-06-08T03:01:32.589558",
     "exception": false,
     "start_time": "2022-06-08T03:01:31.106306",
     "status": "completed"
    },
    "tags": []
   },
   "outputs": [],
   "source": [
    "#hide_input\n",
    "import warnings\n",
    "warnings.filterwarnings('ignore')\n",
    "from scripts.read_data import read_api\n",
    "from scripts.read_data import read_news\n",
    "from scripts.read_data import read_covid\n",
    "import matplotlib.pyplot as plt \n",
    "from IPython.display import Markdown as md"
   ]
  },
  {
   "cell_type": "code",
   "execution_count": 2,
   "id": "shared-acceptance",
   "metadata": {
    "execution": {
     "iopub.execute_input": "2022-06-08T03:01:32.618941Z",
     "iopub.status.busy": "2022-06-08T03:01:32.618235Z",
     "iopub.status.idle": "2022-06-08T03:01:43.139239Z",
     "shell.execute_reply": "2022-06-08T03:01:43.138585Z"
    },
    "papermill": {
     "duration": 10.538536,
     "end_time": "2022-06-08T03:01:43.139379",
     "exception": false,
     "start_time": "2022-06-08T03:01:32.600843",
     "status": "completed"
    },
    "tags": []
   },
   "outputs": [],
   "source": [
    "#hide_input\n",
    "blockchain = read_news('blockchain') \n",
    "btc = read_news('btc') \n",
    "xrp = read_news('xrp') \n",
    "trx = read_news('trx') \n",
    "eth = read_news('eth')  \n",
    "ada = read_news('ada')\n",
    "exchange = read_news('exchange') "
   ]
  },
  {
   "cell_type": "code",
   "execution_count": 3,
   "id": "synthetic-notion",
   "metadata": {
    "execution": {
     "iopub.execute_input": "2022-06-08T03:01:43.168549Z",
     "iopub.status.busy": "2022-06-08T03:01:43.167761Z",
     "iopub.status.idle": "2022-06-08T03:01:43.174686Z",
     "shell.execute_reply": "2022-06-08T03:01:43.175572Z"
    },
    "papermill": {
     "duration": 0.024419,
     "end_time": "2022-06-08T03:01:43.175747",
     "exception": false,
     "start_time": "2022-06-08T03:01:43.151328",
     "status": "completed"
    },
    "tags": []
   },
   "outputs": [
    {
     "data": {
      "text/markdown": [
       "- Shiba Inu ($SHIB) Comes To “The World’s Longest Running Crypto Exchange”.  The world’s “longest running crypto exchange” has listed the meme-inspired cryptocurrency Shiba Inu ($SHIB) after initially planning on doing so back in December of last year. The exchange’s announcement saying it would support SHIB included other assets that are already listed, including dYdX ($DYDX), Gala ($GALA), and Perpetual Protocol ($PERP). That exchange is Bitstamp, which […] ... [| Skaityti daugiau](https://www.cryptoglobe.com/latest/2022/06/shiba-inu-shib-comes-to-the-worlds-longest-running-crypto-exchange/) "
      ],
      "text/plain": [
       "<IPython.core.display.Markdown object>"
      ]
     },
     "execution_count": 3,
     "metadata": {},
     "output_type": "execute_result"
    }
   ],
   "source": [
    "#hide_input\n",
    "#md('##### {}'.format(titleBTC)) \n",
    "md(\"- {}{} {}{} [| Skaityti daugiau]({}) \".format(blockchain['title'],'. ', blockchain['body'], ' ...', blockchain['url']))"
   ]
  },
  {
   "cell_type": "code",
   "execution_count": 4,
   "id": "aging-caution",
   "metadata": {
    "execution": {
     "iopub.execute_input": "2022-06-08T03:01:43.202940Z",
     "iopub.status.busy": "2022-06-08T03:01:43.202046Z",
     "iopub.status.idle": "2022-06-08T03:01:43.206464Z",
     "shell.execute_reply": "2022-06-08T03:01:43.205952Z"
    },
    "papermill": {
     "duration": 0.019705,
     "end_time": "2022-06-08T03:01:43.206579",
     "exception": false,
     "start_time": "2022-06-08T03:01:43.186874",
     "status": "completed"
    },
    "tags": []
   },
   "outputs": [
    {
     "data": {
      "text/markdown": [
       "- How Will Bitcoin React To FED Interest Hike On June 15th ! BTC Price Preparing For Brutal Sell-off.  The post How Will Bitcoin React To FED Interest Hike On June 15th ! BTC Price Preparing For Brutal Sell-off appeared first on Coinpedia - Fintech &amp; Cryptocurreny News Media| Crypto GuideBitcoin&#8217;s price has returned to its favorite psychological level, which it has been trading at for the past month. While technical analysis only provides half of the picture of why a catastrophe is unavoidable, examining the current status of the financial markets reveals the other half. The interest rate in the United States has reached &#8230; ... [| Skaityti daugiau](https://coinpedia.org/bitcoin/how-will-bitcoin-react-to-fed-interest-hike-on-june-15th-btc-price-preparing-for-brutal-sell-off/) "
      ],
      "text/plain": [
       "<IPython.core.display.Markdown object>"
      ]
     },
     "execution_count": 4,
     "metadata": {},
     "output_type": "execute_result"
    }
   ],
   "source": [
    "#hide_input\n",
    "#md('##### {}'.format(titleBTC)) \n",
    "md(\"- {}{} {}{} [| Skaityti daugiau]({}) \".format(btc['title'],'. ', btc['body'], ' ...', btc['url']))"
   ]
  },
  {
   "cell_type": "code",
   "execution_count": 5,
   "id": "organic-actress",
   "metadata": {
    "execution": {
     "iopub.execute_input": "2022-06-08T03:01:43.233584Z",
     "iopub.status.busy": "2022-06-08T03:01:43.232831Z",
     "iopub.status.idle": "2022-06-08T03:01:43.237331Z",
     "shell.execute_reply": "2022-06-08T03:01:43.236827Z"
    },
    "papermill": {
     "duration": 0.019795,
     "end_time": "2022-06-08T03:01:43.237441",
     "exception": false,
     "start_time": "2022-06-08T03:01:43.217646",
     "status": "completed"
    },
    "tags": []
   },
   "outputs": [
    {
     "data": {
      "text/markdown": [
       "- SEC Probes Binance — BNB Could Be Unregistered Security: Report.  The U.S. Securities and Exchange Commission (SEC) is reportedly investigating Binance&#x2019;s BNB token, which could be an unregistered security. If the cryptocurrency is found to be a security, it could put Binance in a similar position to Ripple Labs which has been in an ongoing lawsuit with the SEC over the sale of the XRP [&#8230;] ... [| Skaityti daugiau](https://news.bitcoin.com/sec-probes-binance-bnb-could-be-unregistered-security/) "
      ],
      "text/plain": [
       "<IPython.core.display.Markdown object>"
      ]
     },
     "execution_count": 5,
     "metadata": {},
     "output_type": "execute_result"
    }
   ],
   "source": [
    "#hide_input\n",
    "#md('##### {}'.format(titleBTC)) \n",
    "md(\"- {}{} {}{} [| Skaityti daugiau]({}) \".format(xrp['title'],'. ', xrp['body'], ' ...', xrp['url']))"
   ]
  },
  {
   "cell_type": "code",
   "execution_count": 6,
   "id": "prompt-farmer",
   "metadata": {
    "execution": {
     "iopub.execute_input": "2022-06-08T03:01:43.265620Z",
     "iopub.status.busy": "2022-06-08T03:01:43.264915Z",
     "iopub.status.idle": "2022-06-08T03:01:43.268871Z",
     "shell.execute_reply": "2022-06-08T03:01:43.268354Z"
    },
    "papermill": {
     "duration": 0.020178,
     "end_time": "2022-06-08T03:01:43.268986",
     "exception": false,
     "start_time": "2022-06-08T03:01:43.248808",
     "status": "completed"
    },
    "tags": []
   },
   "outputs": [
    {
     "data": {
      "text/markdown": [
       "- Tron (TRX) Founder Justin Sun Unveils Plan To Secure USDD Stablecoin From Terra-Like Collapse.  Tron (TRX) founder Justin Sun doesn&#8217;t want the Decentralized USD (USDD) stablecoin to become the next TerraUSD (UST). Last month, algorithmic stablecoin UST lost its peg to the US dollar and collapsed along with its affiliated stablecoin Terra (LUNA), wiping out $40 billion in crypto market capitalization. Prior to the UST meltdown, the Tron decentralized [&#8230;]The post Tron (TRX) Founder Justin Sun Unveils Plan To Secure USDD Stablecoin From Terra-Like Collapse appeared first on The Daily Hodl. ... [| Skaityti daugiau](https://dailyhodl.com/2022/06/07/tron-trx-founder-justin-sun-unveils-plan-to-secure-usdd-stablecoin-from-terra-like-collapse/) "
      ],
      "text/plain": [
       "<IPython.core.display.Markdown object>"
      ]
     },
     "execution_count": 6,
     "metadata": {},
     "output_type": "execute_result"
    }
   ],
   "source": [
    "#hide_input\n",
    "#md('##### {}'.format(titleBTC)) \n",
    "md(\"- {}{} {}{} [| Skaityti daugiau]({}) \".format(trx['title'],'. ', trx['body'], ' ...', trx['url']))"
   ]
  },
  {
   "cell_type": "code",
   "execution_count": 7,
   "id": "illegal-greece",
   "metadata": {
    "execution": {
     "iopub.execute_input": "2022-06-08T03:01:43.302313Z",
     "iopub.status.busy": "2022-06-08T03:01:43.301535Z",
     "iopub.status.idle": "2022-06-08T03:01:43.305849Z",
     "shell.execute_reply": "2022-06-08T03:01:43.305345Z"
    },
    "papermill": {
     "duration": 0.021003,
     "end_time": "2022-06-08T03:01:43.305967",
     "exception": false,
     "start_time": "2022-06-08T03:01:43.284964",
     "status": "completed"
    },
    "tags": []
   },
   "outputs": [
    {
     "data": {
      "text/markdown": [
       "- Terra 2.0 (LUNA) Price Declines by 14% Amid Bearish Momentum for Crypto Markets.  Bitcoin and Ethereum are again showing bearish momentum as BTC and ETH have lost 5% in the past 24 hours. Terra 2.0 (LUNA) is also down over 14%, currently trading at $4.31, dipping below $1 billion market capitalization with a current valuation of $912 million. Major Stocks Plummet, Causing BTC and ETH Dips As the [&#8230;]The post Terra 2.0 (LUNA) Price Declines by 14% Amid Bearish Momentum for Crypto Markets appeared first on NullTX. ... [| Skaityti daugiau](https://nulltx.com/terra-2-0-luna-price-declines-by-14-amid-bearish-momentum-for-crypto-markets/) "
      ],
      "text/plain": [
       "<IPython.core.display.Markdown object>"
      ]
     },
     "execution_count": 7,
     "metadata": {},
     "output_type": "execute_result"
    }
   ],
   "source": [
    "#hide_input\n",
    "#md('##### {}'.format(titleBTC)) \n",
    "md(\"- {}{} {}{} [| Skaityti daugiau]({}) \".format(eth['title'],'. ', eth['body'], ' ...', eth['url']))"
   ]
  },
  {
   "cell_type": "code",
   "execution_count": 8,
   "id": "sublime-lounge",
   "metadata": {
    "execution": {
     "iopub.execute_input": "2022-06-08T03:01:43.335190Z",
     "iopub.status.busy": "2022-06-08T03:01:43.334482Z",
     "iopub.status.idle": "2022-06-08T03:01:43.338446Z",
     "shell.execute_reply": "2022-06-08T03:01:43.337907Z"
    },
    "papermill": {
     "duration": 0.020467,
     "end_time": "2022-06-08T03:01:43.338556",
     "exception": false,
     "start_time": "2022-06-08T03:01:43.318089",
     "status": "completed"
    },
    "tags": []
   },
   "outputs": [
    {
     "data": {
      "text/markdown": [
       "- Cardano: Ramifications of this bullish pattern breaking ADA’s bearish structure.  As the near-term revival continues, Cardano [ADA] has left its investors pleased after sustainably breaking the chains of its daily 20 EMA (red). After bagging double-digit gains over the last two weeks, ADA also snapped its two-month trendline resistance. The alt&#8217;s recent movements have equipped the traders with two opportunities. At press time, ADA traded [&#8230;] ... [| Skaityti daugiau](https://ambcrypto.com/cardano-ramifications-of-this-bullish-pattern-breaking-adas-bearish-structure/) "
      ],
      "text/plain": [
       "<IPython.core.display.Markdown object>"
      ]
     },
     "execution_count": 8,
     "metadata": {},
     "output_type": "execute_result"
    }
   ],
   "source": [
    "#hide_input\n",
    "#md('##### {}'.format(titleBTC)) \n",
    "md(\"- {}{} {}{} [| Skaityti daugiau]({}) \".format(ada['title'],'. ', ada['body'], ' ...', ada['url']))"
   ]
  },
  {
   "cell_type": "code",
   "execution_count": 9,
   "id": "specified-ordering",
   "metadata": {
    "execution": {
     "iopub.execute_input": "2022-06-08T03:01:43.370211Z",
     "iopub.status.busy": "2022-06-08T03:01:43.369444Z",
     "iopub.status.idle": "2022-06-08T03:01:43.373268Z",
     "shell.execute_reply": "2022-06-08T03:01:43.374792Z"
    },
    "papermill": {
     "duration": 0.023197,
     "end_time": "2022-06-08T03:01:43.374943",
     "exception": false,
     "start_time": "2022-06-08T03:01:43.351746",
     "status": "completed"
    },
    "tags": []
   },
   "outputs": [
    {
     "data": {
      "text/markdown": [
       "- Shiba Inu ($SHIB) Comes To “The World’s Longest Running Crypto Exchange”.  The world’s “longest running crypto exchange” has listed the meme-inspired cryptocurrency Shiba Inu ($SHIB) after initially planning on doing so back in December of last year. The exchange’s announcement saying it would support SHIB included other assets that are already listed, including dYdX ($DYDX), Gala ($GALA), and Perpetual Protocol ($PERP). That exchange is Bitstamp, which […] ... [| Skaityti daugiau](https://www.cryptoglobe.com/latest/2022/06/shiba-inu-shib-comes-to-the-worlds-longest-running-crypto-exchange/) "
      ],
      "text/plain": [
       "<IPython.core.display.Markdown object>"
      ]
     },
     "execution_count": 9,
     "metadata": {},
     "output_type": "execute_result"
    }
   ],
   "source": [
    "#hide_input\n",
    "#md('##### {}'.format(titleBTC)) \n",
    "md(\"- {}{} {}{} [| Skaityti daugiau]({}) \".format(exchange['title'],'. ', exchange['body'], ' ...', exchange['url']))"
   ]
  },
  {
   "cell_type": "code",
   "execution_count": null,
   "id": "tender-livestock",
   "metadata": {
    "papermill": {
     "duration": 0.013219,
     "end_time": "2022-06-08T03:01:43.401206",
     "exception": false,
     "start_time": "2022-06-08T03:01:43.387987",
     "status": "completed"
    },
    "tags": []
   },
   "outputs": [],
   "source": []
  },
  {
   "cell_type": "code",
   "execution_count": null,
   "id": "appreciated-diamond",
   "metadata": {
    "papermill": {
     "duration": 0.012778,
     "end_time": "2022-06-08T03:01:43.428239",
     "exception": false,
     "start_time": "2022-06-08T03:01:43.415461",
     "status": "completed"
    },
    "tags": []
   },
   "outputs": [],
   "source": []
  },
  {
   "cell_type": "code",
   "execution_count": null,
   "id": "romance-sweden",
   "metadata": {
    "papermill": {
     "duration": 0.012967,
     "end_time": "2022-06-08T03:01:43.454237",
     "exception": false,
     "start_time": "2022-06-08T03:01:43.441270",
     "status": "completed"
    },
    "tags": []
   },
   "outputs": [],
   "source": []
  },
  {
   "cell_type": "code",
   "execution_count": null,
   "id": "dietary-statistics",
   "metadata": {
    "papermill": {
     "duration": 0.016241,
     "end_time": "2022-06-08T03:01:43.483368",
     "exception": false,
     "start_time": "2022-06-08T03:01:43.467127",
     "status": "completed"
    },
    "tags": []
   },
   "outputs": [],
   "source": []
  }
 ],
 "metadata": {
  "kernelspec": {
   "display_name": "Python 3",
   "language": "python",
   "name": "python3"
  },
  "language_info": {
   "codemirror_mode": {
    "name": "ipython",
    "version": 3
   },
   "file_extension": ".py",
   "mimetype": "text/x-python",
   "name": "python",
   "nbconvert_exporter": "python",
   "pygments_lexer": "ipython3",
   "version": "3.6.15"
  },
  "papermill": {
   "default_parameters": {},
   "duration": 14.112063,
   "end_time": "2022-06-08T03:01:43.915685",
   "environment_variables": {},
   "exception": null,
   "input_path": "Market-News.ipynb",
   "output_path": "Market-News.ipynb",
   "parameters": {},
   "start_time": "2022-06-08T03:01:29.803622",
   "version": "2.2.2"
  }
 },
 "nbformat": 4,
 "nbformat_minor": 5
}