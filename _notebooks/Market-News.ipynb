{
 "cells": [
  {
   "cell_type": "markdown",
   "id": "short-greensboro",
   "metadata": {
    "papermill": {
     "duration": 0.013751,
     "end_time": "2022-02-06T02:12:43.660741",
     "exception": false,
     "start_time": "2022-02-06T02:12:43.646990",
     "status": "completed"
    },
    "tags": []
   },
   "source": [
    "# Kriptovaliutų naujienos"
   ]
  },
  {
   "cell_type": "code",
   "execution_count": 1,
   "id": "functioning-knowing",
   "metadata": {
    "execution": {
     "iopub.execute_input": "2022-02-06T02:12:43.689908Z",
     "iopub.status.busy": "2022-02-06T02:12:43.689294Z",
     "iopub.status.idle": "2022-02-06T02:12:44.953820Z",
     "shell.execute_reply": "2022-02-06T02:12:44.954263Z"
    },
    "papermill": {
     "duration": 1.284013,
     "end_time": "2022-02-06T02:12:44.954446",
     "exception": false,
     "start_time": "2022-02-06T02:12:43.670433",
     "status": "completed"
    },
    "tags": []
   },
   "outputs": [],
   "source": [
    "#hide_input\n",
    "import warnings\n",
    "warnings.filterwarnings('ignore')\n",
    "from scripts.read_data import read_api\n",
    "from scripts.read_data import read_news\n",
    "from scripts.read_data import read_covid\n",
    "import matplotlib.pyplot as plt \n",
    "from IPython.display import Markdown as md"
   ]
  },
  {
   "cell_type": "code",
   "execution_count": 2,
   "id": "shared-acceptance",
   "metadata": {
    "execution": {
     "iopub.execute_input": "2022-02-06T02:12:44.979040Z",
     "iopub.status.busy": "2022-02-06T02:12:44.978487Z",
     "iopub.status.idle": "2022-02-06T02:12:54.285064Z",
     "shell.execute_reply": "2022-02-06T02:12:54.284504Z"
    },
    "papermill": {
     "duration": 9.3214,
     "end_time": "2022-02-06T02:12:54.285211",
     "exception": false,
     "start_time": "2022-02-06T02:12:44.963811",
     "status": "completed"
    },
    "tags": []
   },
   "outputs": [],
   "source": [
    "#hide_input\n",
    "blockchain = read_news('blockchain') \n",
    "btc = read_news('btc') \n",
    "xrp = read_news('xrp') \n",
    "trx = read_news('trx') \n",
    "eth = read_news('eth')  \n",
    "ada = read_news('ada')\n",
    "exchange = read_news('exchange') "
   ]
  },
  {
   "cell_type": "code",
   "execution_count": 3,
   "id": "synthetic-notion",
   "metadata": {
    "execution": {
     "iopub.execute_input": "2022-02-06T02:12:54.310580Z",
     "iopub.status.busy": "2022-02-06T02:12:54.310019Z",
     "iopub.status.idle": "2022-02-06T02:12:54.312194Z",
     "shell.execute_reply": "2022-02-06T02:12:54.312597Z"
    },
    "papermill": {
     "duration": 0.017246,
     "end_time": "2022-02-06T02:12:54.312716",
     "exception": false,
     "start_time": "2022-02-06T02:12:54.295470",
     "status": "completed"
    },
    "tags": []
   },
   "outputs": [
    {
     "data": {
      "text/markdown": [
       "- $ADA: Crypto Exchange Kraken Calls Cardano an “ICO Warrior” and Praises Its “Design an Values”.  This article looks at highlights from a recently-released comprehensive report on layer one blockchain Cardano ($ADA) by Kraken Intelligence, the research arm of crypto exchange Kraken. Kraken’s 42-page highly impressive research report, which is titled “Cardano: A new generation in smart contract platform design”, was released a couple of days ago. After the introduction, the […] ... [| Skaityti daugiau](https://www.cryptoglobe.com/latest/2022/02/ada-crypto-exchange-kraken-calls-cardano-an-ico-warrior-and-praises-its-design-an-values/) "
      ],
      "text/plain": [
       "<IPython.core.display.Markdown object>"
      ]
     },
     "execution_count": 3,
     "metadata": {},
     "output_type": "execute_result"
    }
   ],
   "source": [
    "#hide_input\n",
    "#md('##### {}'.format(titleBTC)) \n",
    "md(\"- {}{} {}{} [| Skaityti daugiau]({}) \".format(blockchain['title'],'. ', blockchain['body'], ' ...', blockchain['url']))"
   ]
  },
  {
   "cell_type": "code",
   "execution_count": 4,
   "id": "aging-caution",
   "metadata": {
    "execution": {
     "iopub.execute_input": "2022-02-06T02:12:54.335715Z",
     "iopub.status.busy": "2022-02-06T02:12:54.335197Z",
     "iopub.status.idle": "2022-02-06T02:12:54.337489Z",
     "shell.execute_reply": "2022-02-06T02:12:54.337865Z"
    },
    "papermill": {
     "duration": 0.015981,
     "end_time": "2022-02-06T02:12:54.337980",
     "exception": false,
     "start_time": "2022-02-06T02:12:54.321999",
     "status": "completed"
    },
    "tags": []
   },
   "outputs": [
    {
     "data": {
      "text/markdown": [
       "- Facebook Sells Off All Its Libra-Based Assets.  Not long ago, Live Bitcoin News published an article discussing Facebook aka Meta and its decision to sell off any assets aligned with Libra/ Diem. It looks now like those assets have been sold and the project has officially come to an end. The Facebook Libra Project Is Now Fully Over The developers behind Diem...The post Facebook Sells Off All Its Libra-Based Assets appeared first on Live Bitcoin News. ... [| Skaityti daugiau](https://www.livebitcoinnews.com/facebook-sells-off-all-its-libra-based-assets/) "
      ],
      "text/plain": [
       "<IPython.core.display.Markdown object>"
      ]
     },
     "execution_count": 4,
     "metadata": {},
     "output_type": "execute_result"
    }
   ],
   "source": [
    "#hide_input\n",
    "#md('##### {}'.format(titleBTC)) \n",
    "md(\"- {}{} {}{} [| Skaityti daugiau]({}) \".format(btc['title'],'. ', btc['body'], ' ...', btc['url']))"
   ]
  },
  {
   "cell_type": "code",
   "execution_count": 5,
   "id": "organic-actress",
   "metadata": {
    "execution": {
     "iopub.execute_input": "2022-02-06T02:12:54.362376Z",
     "iopub.status.busy": "2022-02-06T02:12:54.361779Z",
     "iopub.status.idle": "2022-02-06T02:12:54.363977Z",
     "shell.execute_reply": "2022-02-06T02:12:54.364439Z"
    },
    "papermill": {
     "duration": 0.01705,
     "end_time": "2022-02-06T02:12:54.364563",
     "exception": false,
     "start_time": "2022-02-06T02:12:54.347513",
     "status": "completed"
    },
    "tags": []
   },
   "outputs": [
    {
     "data": {
      "text/markdown": [
       "- LUNA price analysis: Terra breaks $57, makes 3rd bullish candle.  LUNA price analysis for Feb 5 might bring a smile to many faces as the token is now aiming to enter the $60 price level. After the rise of Bitcoin to $41.5K, as per our Bitcoin price analysis for Feb 5, the entire market has been extremely bullish. The nearest competitors to LUNA, XRP, and DOT [&#8230;]The post LUNA price analysis: Terra breaks $57, makes 3rd bullish candle appeared first on Blockchain, Crypto and Stock News. ... [| Skaityti daugiau](https://thecoinrise.com/luna-price-analysis-terra-breaks-57-makes-3rd-bullish-candle/) "
      ],
      "text/plain": [
       "<IPython.core.display.Markdown object>"
      ]
     },
     "execution_count": 5,
     "metadata": {},
     "output_type": "execute_result"
    }
   ],
   "source": [
    "#hide_input\n",
    "#md('##### {}'.format(titleBTC)) \n",
    "md(\"- {}{} {}{} [| Skaityti daugiau]({}) \".format(xrp['title'],'. ', xrp['body'], ' ...', xrp['url']))"
   ]
  },
  {
   "cell_type": "code",
   "execution_count": 6,
   "id": "prompt-farmer",
   "metadata": {
    "execution": {
     "iopub.execute_input": "2022-02-06T02:12:54.388629Z",
     "iopub.status.busy": "2022-02-06T02:12:54.388127Z",
     "iopub.status.idle": "2022-02-06T02:12:54.391156Z",
     "shell.execute_reply": "2022-02-06T02:12:54.390750Z"
    },
    "papermill": {
     "duration": 0.016853,
     "end_time": "2022-02-06T02:12:54.391259",
     "exception": false,
     "start_time": "2022-02-06T02:12:54.374406",
     "status": "completed"
    },
    "tags": []
   },
   "outputs": [
    {
     "data": {
      "text/markdown": [
       "- Tron (TRX) Price Analysis: Bulls Aim Larger Increase.  Tron price started a decent recovery wave above the $0.0580 level against the US Dollar. TRX price is now trading above $0.0580 and the 55 simple moving average (4-hours). There is a key bullish trend line forming with support near $0.0585 on the 4-hours chart (data feed via Bitfinex). The pair could continue to move...The post Tron (TRX) Price Analysis: Bulls Aim Larger Increase appeared first on Live Bitcoin News. ... [| Skaityti daugiau](https://www.livebitcoinnews.com/tron-trx-price-analysis-bulls-aim-larger-increase/) "
      ],
      "text/plain": [
       "<IPython.core.display.Markdown object>"
      ]
     },
     "execution_count": 6,
     "metadata": {},
     "output_type": "execute_result"
    }
   ],
   "source": [
    "#hide_input\n",
    "#md('##### {}'.format(titleBTC)) \n",
    "md(\"- {}{} {}{} [| Skaityti daugiau]({}) \".format(trx['title'],'. ', trx['body'], ' ...', trx['url']))"
   ]
  },
  {
   "cell_type": "code",
   "execution_count": 7,
   "id": "illegal-greece",
   "metadata": {
    "execution": {
     "iopub.execute_input": "2022-02-06T02:12:54.415871Z",
     "iopub.status.busy": "2022-02-06T02:12:54.415364Z",
     "iopub.status.idle": "2022-02-06T02:12:54.418317Z",
     "shell.execute_reply": "2022-02-06T02:12:54.417913Z"
    },
    "papermill": {
     "duration": 0.016828,
     "end_time": "2022-02-06T02:12:54.418419",
     "exception": false,
     "start_time": "2022-02-06T02:12:54.401591",
     "status": "completed"
    },
    "tags": []
   },
   "outputs": [
    {
     "data": {
      "text/markdown": [
       "- This bullish Ethereum options trade targets $3.1K ETH price with zero liquidation risk.  The crypto market is starting to turn around, raising opportunities for risk averse traders to use the Long Condor options strategy to long ETH.  ... [| Skaityti daugiau](https://cointelegraph.com/news/this-bullish-ethereum-options-trade-targets-3-1k-eth-price-with-zero-liquidation-risk) "
      ],
      "text/plain": [
       "<IPython.core.display.Markdown object>"
      ]
     },
     "execution_count": 7,
     "metadata": {},
     "output_type": "execute_result"
    }
   ],
   "source": [
    "#hide_input\n",
    "#md('##### {}'.format(titleBTC)) \n",
    "md(\"- {}{} {}{} [| Skaityti daugiau]({}) \".format(eth['title'],'. ', eth['body'], ' ...', eth['url']))"
   ]
  },
  {
   "cell_type": "code",
   "execution_count": 8,
   "id": "sublime-lounge",
   "metadata": {
    "execution": {
     "iopub.execute_input": "2022-02-06T02:12:54.443788Z",
     "iopub.status.busy": "2022-02-06T02:12:54.443285Z",
     "iopub.status.idle": "2022-02-06T02:12:54.446432Z",
     "shell.execute_reply": "2022-02-06T02:12:54.446031Z"
    },
    "papermill": {
     "duration": 0.017668,
     "end_time": "2022-02-06T02:12:54.446552",
     "exception": false,
     "start_time": "2022-02-06T02:12:54.428884",
     "status": "completed"
    },
    "tags": []
   },
   "outputs": [
    {
     "data": {
      "text/markdown": [
       "- $ADA: Crypto Exchange Kraken Calls Cardano an “ICO Warrior” and Praises Its “Design an Values”.  This article looks at highlights from a recently-released comprehensive report on layer one blockchain Cardano ($ADA) by Kraken Intelligence, the research arm of crypto exchange Kraken. Kraken’s 42-page highly impressive research report, which is titled “Cardano: A new generation in smart contract platform design”, was released a couple of days ago. After the introduction, the […] ... [| Skaityti daugiau](https://www.cryptoglobe.com/latest/2022/02/ada-crypto-exchange-kraken-calls-cardano-an-ico-warrior-and-praises-its-design-an-values/) "
      ],
      "text/plain": [
       "<IPython.core.display.Markdown object>"
      ]
     },
     "execution_count": 8,
     "metadata": {},
     "output_type": "execute_result"
    }
   ],
   "source": [
    "#hide_input\n",
    "#md('##### {}'.format(titleBTC)) \n",
    "md(\"- {}{} {}{} [| Skaityti daugiau]({}) \".format(ada['title'],'. ', ada['body'], ' ...', ada['url']))"
   ]
  },
  {
   "cell_type": "code",
   "execution_count": 9,
   "id": "specified-ordering",
   "metadata": {
    "execution": {
     "iopub.execute_input": "2022-02-06T02:12:54.472679Z",
     "iopub.status.busy": "2022-02-06T02:12:54.472104Z",
     "iopub.status.idle": "2022-02-06T02:12:54.474184Z",
     "shell.execute_reply": "2022-02-06T02:12:54.474750Z"
    },
    "papermill": {
     "duration": 0.017576,
     "end_time": "2022-02-06T02:12:54.474877",
     "exception": false,
     "start_time": "2022-02-06T02:12:54.457301",
     "status": "completed"
    },
    "tags": []
   },
   "outputs": [
    {
     "data": {
      "text/markdown": [
       "- $ADA: Crypto Exchange Kraken Calls Cardano an “ICO Warrior” and Praises Its “Design an Values”.  This article looks at highlights from a recently-released comprehensive report on layer one blockchain Cardano ($ADA) by Kraken Intelligence, the research arm of crypto exchange Kraken. Kraken’s 42-page highly impressive research report, which is titled “Cardano: A new generation in smart contract platform design”, was released a couple of days ago. After the introduction, the […] ... [| Skaityti daugiau](https://www.cryptoglobe.com/latest/2022/02/ada-crypto-exchange-kraken-calls-cardano-an-ico-warrior-and-praises-its-design-an-values/) "
      ],
      "text/plain": [
       "<IPython.core.display.Markdown object>"
      ]
     },
     "execution_count": 9,
     "metadata": {},
     "output_type": "execute_result"
    }
   ],
   "source": [
    "#hide_input\n",
    "#md('##### {}'.format(titleBTC)) \n",
    "md(\"- {}{} {}{} [| Skaityti daugiau]({}) \".format(exchange['title'],'. ', exchange['body'], ' ...', exchange['url']))"
   ]
  },
  {
   "cell_type": "code",
   "execution_count": null,
   "id": "tender-livestock",
   "metadata": {
    "papermill": {
     "duration": 0.011031,
     "end_time": "2022-02-06T02:12:54.497276",
     "exception": false,
     "start_time": "2022-02-06T02:12:54.486245",
     "status": "completed"
    },
    "tags": []
   },
   "outputs": [],
   "source": []
  },
  {
   "cell_type": "code",
   "execution_count": null,
   "id": "appreciated-diamond",
   "metadata": {
    "papermill": {
     "duration": 0.011373,
     "end_time": "2022-02-06T02:12:54.519927",
     "exception": false,
     "start_time": "2022-02-06T02:12:54.508554",
     "status": "completed"
    },
    "tags": []
   },
   "outputs": [],
   "source": []
  },
  {
   "cell_type": "code",
   "execution_count": null,
   "id": "romance-sweden",
   "metadata": {
    "papermill": {
     "duration": 0.011009,
     "end_time": "2022-02-06T02:12:54.542057",
     "exception": false,
     "start_time": "2022-02-06T02:12:54.531048",
     "status": "completed"
    },
    "tags": []
   },
   "outputs": [],
   "source": []
  },
  {
   "cell_type": "code",
   "execution_count": null,
   "id": "dietary-statistics",
   "metadata": {
    "papermill": {
     "duration": 0.011792,
     "end_time": "2022-02-06T02:12:54.564986",
     "exception": false,
     "start_time": "2022-02-06T02:12:54.553194",
     "status": "completed"
    },
    "tags": []
   },
   "outputs": [],
   "source": []
  }
 ],
 "metadata": {
  "kernelspec": {
   "display_name": "Python 3",
   "language": "python",
   "name": "python3"
  },
  "language_info": {
   "codemirror_mode": {
    "name": "ipython",
    "version": 3
   },
   "file_extension": ".py",
   "mimetype": "text/x-python",
   "name": "python",
   "nbconvert_exporter": "python",
   "pygments_lexer": "ipython3",
   "version": "3.6.15"
  },
  "papermill": {
   "default_parameters": {},
   "duration": 12.37754,
   "end_time": "2022-02-06T02:12:55.095100",
   "environment_variables": {},
   "exception": null,
   "input_path": "Market-News.ipynb",
   "output_path": "Market-News.ipynb",
   "parameters": {},
   "start_time": "2022-02-06T02:12:42.717560",
   "version": "2.2.2"
  }
 },
 "nbformat": 4,
 "nbformat_minor": 5
}