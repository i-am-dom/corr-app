{
 "cells": [
  {
   "cell_type": "markdown",
   "id": "short-greensboro",
   "metadata": {
    "papermill": {
     "duration": 0.016361,
     "end_time": "2022-07-31T03:19:32.117124",
     "exception": false,
     "start_time": "2022-07-31T03:19:32.100763",
     "status": "completed"
    },
    "tags": []
   },
   "source": [
    "# Kriptovaliutų naujienos"
   ]
  },
  {
   "cell_type": "code",
   "execution_count": 1,
   "id": "functioning-knowing",
   "metadata": {
    "execution": {
     "iopub.execute_input": "2022-07-31T03:19:32.157220Z",
     "iopub.status.busy": "2022-07-31T03:19:32.156413Z",
     "iopub.status.idle": "2022-07-31T03:19:33.522640Z",
     "shell.execute_reply": "2022-07-31T03:19:33.521117Z"
    },
    "papermill": {
     "duration": 1.388232,
     "end_time": "2022-07-31T03:19:33.522820",
     "exception": false,
     "start_time": "2022-07-31T03:19:32.134588",
     "status": "completed"
    },
    "tags": []
   },
   "outputs": [],
   "source": [
    "#hide_input\n",
    "import warnings\n",
    "warnings.filterwarnings('ignore')\n",
    "from scripts.read_data import read_api\n",
    "from scripts.read_data import read_news\n",
    "from scripts.read_data import read_covid\n",
    "import matplotlib.pyplot as plt \n",
    "from IPython.display import Markdown as md"
   ]
  },
  {
   "cell_type": "code",
   "execution_count": 2,
   "id": "shared-acceptance",
   "metadata": {
    "execution": {
     "iopub.execute_input": "2022-07-31T03:19:33.549388Z",
     "iopub.status.busy": "2022-07-31T03:19:33.548739Z",
     "iopub.status.idle": "2022-07-31T03:19:44.567875Z",
     "shell.execute_reply": "2022-07-31T03:19:44.566812Z"
    },
    "papermill": {
     "duration": 11.03523,
     "end_time": "2022-07-31T03:19:44.568018",
     "exception": false,
     "start_time": "2022-07-31T03:19:33.532788",
     "status": "completed"
    },
    "tags": []
   },
   "outputs": [],
   "source": [
    "#hide_input\n",
    "blockchain = read_news('blockchain') \n",
    "btc = read_news('btc') \n",
    "xrp = read_news('xrp') \n",
    "trx = read_news('trx') \n",
    "eth = read_news('eth')  \n",
    "ada = read_news('ada')\n",
    "exchange = read_news('exchange') "
   ]
  },
  {
   "cell_type": "code",
   "execution_count": 3,
   "id": "synthetic-notion",
   "metadata": {
    "execution": {
     "iopub.execute_input": "2022-07-31T03:19:44.597214Z",
     "iopub.status.busy": "2022-07-31T03:19:44.596558Z",
     "iopub.status.idle": "2022-07-31T03:19:44.601155Z",
     "shell.execute_reply": "2022-07-31T03:19:44.600647Z"
    },
    "papermill": {
     "duration": 0.022782,
     "end_time": "2022-07-31T03:19:44.601279",
     "exception": false,
     "start_time": "2022-07-31T03:19:44.578497",
     "status": "completed"
    },
    "tags": []
   },
   "outputs": [
    {
     "data": {
      "text/markdown": [
       "- With Shiba Inu being pushed out of top 15, meme frenzy is dead?.  Shiba Inu price analysis for July 31, 2022, comes on a slightly bullish note for the world&#8217;s 2nd biggest meme coin as the chances of making higher highs in the coming days remain quite low because the token has been pushed from its 15th position in the market and compared to the other tokens in [&#8230;]The post With Shiba Inu being pushed out of top 15, meme frenzy is dead? appeared first on Blockchain, Crypto and Stock News. ... [| Skaityti daugiau](https://thecoinrise.com/with-shiba-inu-being-pushed-out-of-top-15-meme-frenzy-is-dead/) "
      ],
      "text/plain": [
       "<IPython.core.display.Markdown object>"
      ]
     },
     "execution_count": 3,
     "metadata": {},
     "output_type": "execute_result"
    }
   ],
   "source": [
    "#hide_input\n",
    "#md('##### {}'.format(titleBTC)) \n",
    "md(\"- {}{} {}{} [| Skaityti daugiau]({}) \".format(blockchain['title'],'. ', blockchain['body'], ' ...', blockchain['url']))"
   ]
  },
  {
   "cell_type": "code",
   "execution_count": 4,
   "id": "aging-caution",
   "metadata": {
    "execution": {
     "iopub.execute_input": "2022-07-31T03:19:44.628619Z",
     "iopub.status.busy": "2022-07-31T03:19:44.627023Z",
     "iopub.status.idle": "2022-07-31T03:19:44.632403Z",
     "shell.execute_reply": "2022-07-31T03:19:44.632949Z"
    },
    "papermill": {
     "duration": 0.021622,
     "end_time": "2022-07-31T03:19:44.633085",
     "exception": false,
     "start_time": "2022-07-31T03:19:44.611463",
     "status": "completed"
    },
    "tags": []
   },
   "outputs": [
    {
     "data": {
      "text/markdown": [
       "- Bitcoin rose 18% in July: What to expect as monthly candle ends?.  Bitcoin price analysis for July 31, 2022, comes on a slightly bearish note for the world&#8217;s biggest cryptocurrency as we can see that the prices have dropped by 0.73% in the last 24 hours and additional price drops might be seen if BTC fails to break into an uptrend in the short term. For now, [&#8230;]The post Bitcoin rose 18% in July: What to expect as monthly candle ends? appeared first on Blockchain, Crypto and Stock News. ... [| Skaityti daugiau](https://thecoinrise.com/bitcoin-rose-18-in-july-what-to-expect-as-monthly-candle-ends/) "
      ],
      "text/plain": [
       "<IPython.core.display.Markdown object>"
      ]
     },
     "execution_count": 4,
     "metadata": {},
     "output_type": "execute_result"
    }
   ],
   "source": [
    "#hide_input\n",
    "#md('##### {}'.format(titleBTC)) \n",
    "md(\"- {}{} {}{} [| Skaityti daugiau]({}) \".format(btc['title'],'. ', btc['body'], ' ...', btc['url']))"
   ]
  },
  {
   "cell_type": "code",
   "execution_count": 5,
   "id": "organic-actress",
   "metadata": {
    "execution": {
     "iopub.execute_input": "2022-07-31T03:19:44.660571Z",
     "iopub.status.busy": "2022-07-31T03:19:44.658849Z",
     "iopub.status.idle": "2022-07-31T03:19:44.663556Z",
     "shell.execute_reply": "2022-07-31T03:19:44.664099Z"
    },
    "papermill": {
     "duration": 0.020457,
     "end_time": "2022-07-31T03:19:44.664230",
     "exception": false,
     "start_time": "2022-07-31T03:19:44.643773",
     "status": "completed"
    },
    "tags": []
   },
   "outputs": [
    {
     "data": {
      "text/markdown": [
       "- Is ADA making an effort to take over XRP’s position amid rising market cap.  Cardano’s [ADA] move to improve scalability within its network may have been delayed. However, the Proof-of-Stake (PoS)-based cryptocurrency did not seem to be bothered about the development. As of 29 July, ADA flipped Ripple [XRP] to become the seventh largest cryptocurrency in market value. Delay not denial According to Santiment, the flip happened as ADA’s [&#8230;] ... [| Skaityti daugiau](https://ambcrypto.com/is-ada-making-an-effort-to-take-over-xrps-position-amid-rising-market-cap/) "
      ],
      "text/plain": [
       "<IPython.core.display.Markdown object>"
      ]
     },
     "execution_count": 5,
     "metadata": {},
     "output_type": "execute_result"
    }
   ],
   "source": [
    "#hide_input\n",
    "#md('##### {}'.format(titleBTC)) \n",
    "md(\"- {}{} {}{} [| Skaityti daugiau]({}) \".format(xrp['title'],'. ', xrp['body'], ' ...', xrp['url']))"
   ]
  },
  {
   "cell_type": "code",
   "execution_count": 6,
   "id": "prompt-farmer",
   "metadata": {
    "execution": {
     "iopub.execute_input": "2022-07-31T03:19:44.692786Z",
     "iopub.status.busy": "2022-07-31T03:19:44.692163Z",
     "iopub.status.idle": "2022-07-31T03:19:44.695434Z",
     "shell.execute_reply": "2022-07-31T03:19:44.694933Z"
    },
    "papermill": {
     "duration": 0.020307,
     "end_time": "2022-07-31T03:19:44.695542",
     "exception": false,
     "start_time": "2022-07-31T03:19:44.675235",
     "status": "completed"
    },
    "tags": []
   },
   "outputs": [
    {
     "data": {
      "text/markdown": [
       "- MAXUSDT (TRX) Offers Most Reliable and Cost-effective Cloud Mining Services.  Cloud mining is the exact opposite of what you&#8217;d expect to find in old-fashioned mining. Hardware mining, the most common ... [| Skaityti daugiau](https://thenewscrypto.com/maxusdt-trx-offers-most-reliable-and-cost-effective-cloud-mining-services/) "
      ],
      "text/plain": [
       "<IPython.core.display.Markdown object>"
      ]
     },
     "execution_count": 6,
     "metadata": {},
     "output_type": "execute_result"
    }
   ],
   "source": [
    "#hide_input\n",
    "#md('##### {}'.format(titleBTC)) \n",
    "md(\"- {}{} {}{} [| Skaityti daugiau]({}) \".format(trx['title'],'. ', trx['body'], ' ...', trx['url']))"
   ]
  },
  {
   "cell_type": "code",
   "execution_count": 7,
   "id": "illegal-greece",
   "metadata": {
    "execution": {
     "iopub.execute_input": "2022-07-31T03:19:44.727686Z",
     "iopub.status.busy": "2022-07-31T03:19:44.726020Z",
     "iopub.status.idle": "2022-07-31T03:19:44.731669Z",
     "shell.execute_reply": "2022-07-31T03:19:44.732155Z"
    },
    "papermill": {
     "duration": 0.023036,
     "end_time": "2022-07-31T03:19:44.732292",
     "exception": false,
     "start_time": "2022-07-31T03:19:44.709256",
     "status": "completed"
    },
    "tags": []
   },
   "outputs": [
    {
     "data": {
      "text/markdown": [
       "- ETH up by 11% as Ethereum community remains optimistic about the Merge.  Ethereum [ETH] developers concluded their latest fortnightly call two days ago. All eyes are on the Merge transition scheduled for September. But before that there are still some things to be crossed off the list. The call put forth pressing concerns for the developers and scheduled updates for the ecosystem. Market optimists are counting on [&#8230;] ... [| Skaityti daugiau](https://ambcrypto.com/eth-up-by-11-as-ethereum-community-remains-optimistic-about-the-merge/) "
      ],
      "text/plain": [
       "<IPython.core.display.Markdown object>"
      ]
     },
     "execution_count": 7,
     "metadata": {},
     "output_type": "execute_result"
    }
   ],
   "source": [
    "#hide_input\n",
    "#md('##### {}'.format(titleBTC)) \n",
    "md(\"- {}{} {}{} [| Skaityti daugiau]({}) \".format(eth['title'],'. ', eth['body'], ' ...', eth['url']))"
   ]
  },
  {
   "cell_type": "code",
   "execution_count": 8,
   "id": "sublime-lounge",
   "metadata": {
    "execution": {
     "iopub.execute_input": "2022-07-31T03:19:44.764486Z",
     "iopub.status.busy": "2022-07-31T03:19:44.762071Z",
     "iopub.status.idle": "2022-07-31T03:19:44.767168Z",
     "shell.execute_reply": "2022-07-31T03:19:44.767788Z"
    },
    "papermill": {
     "duration": 0.022409,
     "end_time": "2022-07-31T03:19:44.767930",
     "exception": false,
     "start_time": "2022-07-31T03:19:44.745521",
     "status": "completed"
    },
    "tags": []
   },
   "outputs": [
    {
     "data": {
      "text/markdown": [
       "- Is ADA making an effort to take over XRP’s position amid rising market cap.  Cardano’s [ADA] move to improve scalability within its network may have been delayed. However, the Proof-of-Stake (PoS)-based cryptocurrency did not seem to be bothered about the development. As of 29 July, ADA flipped Ripple [XRP] to become the seventh largest cryptocurrency in market value. Delay not denial According to Santiment, the flip happened as ADA’s [&#8230;] ... [| Skaityti daugiau](https://ambcrypto.com/is-ada-making-an-effort-to-take-over-xrps-position-amid-rising-market-cap/) "
      ],
      "text/plain": [
       "<IPython.core.display.Markdown object>"
      ]
     },
     "execution_count": 8,
     "metadata": {},
     "output_type": "execute_result"
    }
   ],
   "source": [
    "#hide_input\n",
    "#md('##### {}'.format(titleBTC)) \n",
    "md(\"- {}{} {}{} [| Skaityti daugiau]({}) \".format(ada['title'],'. ', ada['body'], ' ...', ada['url']))"
   ]
  },
  {
   "cell_type": "code",
   "execution_count": 9,
   "id": "specified-ordering",
   "metadata": {
    "execution": {
     "iopub.execute_input": "2022-07-31T03:19:44.798745Z",
     "iopub.status.busy": "2022-07-31T03:19:44.797455Z",
     "iopub.status.idle": "2022-07-31T03:19:44.803826Z",
     "shell.execute_reply": "2022-07-31T03:19:44.802935Z"
    },
    "papermill": {
     "duration": 0.024225,
     "end_time": "2022-07-31T03:19:44.803936",
     "exception": false,
     "start_time": "2022-07-31T03:19:44.779711",
     "status": "completed"
    },
    "tags": []
   },
   "outputs": [
    {
     "data": {
      "text/markdown": [
       "- Two Under-the-Radar Altcoins Rolled Out on Digital Asset Exchange Crypto.com.  Singapore-based digital asset exchange Crypto.com is adding support for two under-the-radar altcoins as markets rebound. Earlier this week, the exchange listed the native token of Boba Network (BOBA). The project utilizes optimistic rollups, a less stringent and data-heavy method of transaction verification than traditional zero-knowledge rollups. The BOBA token can be used for governance and [&#8230;]The post Two Under-the-Radar Altcoins Rolled Out on Digital Asset Exchange Crypto.com appeared first on The Daily Hodl. ... [| Skaityti daugiau](https://dailyhodl.com/2022/07/30/two-under-the-radar-altcoins-rolled-out-on-digital-asset-exchange-crypto-com/) "
      ],
      "text/plain": [
       "<IPython.core.display.Markdown object>"
      ]
     },
     "execution_count": 9,
     "metadata": {},
     "output_type": "execute_result"
    }
   ],
   "source": [
    "#hide_input\n",
    "#md('##### {}'.format(titleBTC)) \n",
    "md(\"- {}{} {}{} [| Skaityti daugiau]({}) \".format(exchange['title'],'. ', exchange['body'], ' ...', exchange['url']))"
   ]
  },
  {
   "cell_type": "code",
   "execution_count": null,
   "id": "tender-livestock",
   "metadata": {
    "papermill": {
     "duration": 0.012813,
     "end_time": "2022-07-31T03:19:44.829158",
     "exception": false,
     "start_time": "2022-07-31T03:19:44.816345",
     "status": "completed"
    },
    "tags": []
   },
   "outputs": [],
   "source": []
  },
  {
   "cell_type": "code",
   "execution_count": null,
   "id": "appreciated-diamond",
   "metadata": {
    "papermill": {
     "duration": 0.012644,
     "end_time": "2022-07-31T03:19:44.854074",
     "exception": false,
     "start_time": "2022-07-31T03:19:44.841430",
     "status": "completed"
    },
    "tags": []
   },
   "outputs": [],
   "source": []
  },
  {
   "cell_type": "code",
   "execution_count": null,
   "id": "romance-sweden",
   "metadata": {
    "papermill": {
     "duration": 0.012172,
     "end_time": "2022-07-31T03:19:44.878804",
     "exception": false,
     "start_time": "2022-07-31T03:19:44.866632",
     "status": "completed"
    },
    "tags": []
   },
   "outputs": [],
   "source": []
  },
  {
   "cell_type": "code",
   "execution_count": null,
   "id": "dietary-statistics",
   "metadata": {
    "papermill": {
     "duration": 0.011766,
     "end_time": "2022-07-31T03:19:44.902861",
     "exception": false,
     "start_time": "2022-07-31T03:19:44.891095",
     "status": "completed"
    },
    "tags": []
   },
   "outputs": [],
   "source": []
  }
 ],
 "metadata": {
  "kernelspec": {
   "display_name": "Python 3",
   "language": "python",
   "name": "python3"
  },
  "language_info": {
   "codemirror_mode": {
    "name": "ipython",
    "version": 3
   },
   "file_extension": ".py",
   "mimetype": "text/x-python",
   "name": "python",
   "nbconvert_exporter": "python",
   "pygments_lexer": "ipython3",
   "version": "3.6.15"
  },
  "papermill": {
   "default_parameters": {},
   "duration": 14.614256,
   "end_time": "2022-07-31T03:19:45.434968",
   "environment_variables": {},
   "exception": null,
   "input_path": "Market-News.ipynb",
   "output_path": "Market-News.ipynb",
   "parameters": {},
   "start_time": "2022-07-31T03:19:30.820712",
   "version": "2.2.2"
  }
 },
 "nbformat": 4,
 "nbformat_minor": 5
}