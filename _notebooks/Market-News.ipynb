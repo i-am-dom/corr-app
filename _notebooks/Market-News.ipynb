{
 "cells": [
  {
   "cell_type": "markdown",
   "id": "short-greensboro",
   "metadata": {
    "papermill": {
     "duration": 0.015968,
     "end_time": "2022-06-29T03:22:04.551759",
     "exception": false,
     "start_time": "2022-06-29T03:22:04.535791",
     "status": "completed"
    },
    "tags": []
   },
   "source": [
    "# Kriptovaliutų naujienos"
   ]
  },
  {
   "cell_type": "code",
   "execution_count": 1,
   "id": "functioning-knowing",
   "metadata": {
    "execution": {
     "iopub.execute_input": "2022-06-29T03:22:04.587364Z",
     "iopub.status.busy": "2022-06-29T03:22:04.586597Z",
     "iopub.status.idle": "2022-06-29T03:22:06.093782Z",
     "shell.execute_reply": "2022-06-29T03:22:06.093073Z"
    },
    "papermill": {
     "duration": 1.530099,
     "end_time": "2022-06-29T03:22:06.093950",
     "exception": false,
     "start_time": "2022-06-29T03:22:04.563851",
     "status": "completed"
    },
    "tags": []
   },
   "outputs": [],
   "source": [
    "#hide_input\n",
    "import warnings\n",
    "warnings.filterwarnings('ignore')\n",
    "from scripts.read_data import read_api\n",
    "from scripts.read_data import read_news\n",
    "from scripts.read_data import read_covid\n",
    "import matplotlib.pyplot as plt \n",
    "from IPython.display import Markdown as md"
   ]
  },
  {
   "cell_type": "code",
   "execution_count": 2,
   "id": "shared-acceptance",
   "metadata": {
    "execution": {
     "iopub.execute_input": "2022-06-29T03:22:06.125001Z",
     "iopub.status.busy": "2022-06-29T03:22:06.124241Z",
     "iopub.status.idle": "2022-06-29T03:22:21.119403Z",
     "shell.execute_reply": "2022-06-29T03:22:21.118481Z"
    },
    "papermill": {
     "duration": 15.01268,
     "end_time": "2022-06-29T03:22:21.119556",
     "exception": false,
     "start_time": "2022-06-29T03:22:06.106876",
     "status": "completed"
    },
    "tags": []
   },
   "outputs": [],
   "source": [
    "#hide_input\n",
    "blockchain = read_news('blockchain') \n",
    "btc = read_news('btc') \n",
    "xrp = read_news('xrp') \n",
    "trx = read_news('trx') \n",
    "eth = read_news('eth')  \n",
    "ada = read_news('ada')\n",
    "exchange = read_news('exchange') "
   ]
  },
  {
   "cell_type": "code",
   "execution_count": 3,
   "id": "synthetic-notion",
   "metadata": {
    "execution": {
     "iopub.execute_input": "2022-06-29T03:22:21.150884Z",
     "iopub.status.busy": "2022-06-29T03:22:21.150118Z",
     "iopub.status.idle": "2022-06-29T03:22:21.155442Z",
     "shell.execute_reply": "2022-06-29T03:22:21.154772Z"
    },
    "papermill": {
     "duration": 0.024078,
     "end_time": "2022-06-29T03:22:21.155576",
     "exception": false,
     "start_time": "2022-06-29T03:22:21.131498",
     "status": "completed"
    },
    "tags": []
   },
   "outputs": [
    {
     "data": {
      "text/markdown": [
       "- Top 4 Masternode Crypto Coins to Watch for Profit in 2022.  A Masternode is a group of servers that support a decentralized blockchain network. Most Masternodes utilize the Proof-of-Stake or Hybrid Proof-of-Stake + Proof-of-Work consensus process. The immutable blockchain network&#8217;s masternodes are the nodes that process instantaneous transactions and add new blocks to the network. What&#8217;s Unique About Masternode Crypto Coins? For some cryptocurrency networks, masternodes [&#8230;]The post Top 4 Masternode Crypto Coins to Watch for Profit in 2022 appeared first on NullTX. ... [| Skaityti daugiau](https://nulltx.com/top-4-masternode-crypto-coins-to-watch-for-profit-in-2022/) "
      ],
      "text/plain": [
       "<IPython.core.display.Markdown object>"
      ]
     },
     "execution_count": 3,
     "metadata": {},
     "output_type": "execute_result"
    }
   ],
   "source": [
    "#hide_input\n",
    "#md('##### {}'.format(titleBTC)) \n",
    "md(\"- {}{} {}{} [| Skaityti daugiau]({}) \".format(blockchain['title'],'. ', blockchain['body'], ' ...', blockchain['url']))"
   ]
  },
  {
   "cell_type": "code",
   "execution_count": 4,
   "id": "aging-caution",
   "metadata": {
    "execution": {
     "iopub.execute_input": "2022-06-29T03:22:21.184546Z",
     "iopub.status.busy": "2022-06-29T03:22:21.183727Z",
     "iopub.status.idle": "2022-06-29T03:22:21.188142Z",
     "shell.execute_reply": "2022-06-29T03:22:21.187430Z"
    },
    "papermill": {
     "duration": 0.021167,
     "end_time": "2022-06-29T03:22:21.188270",
     "exception": false,
     "start_time": "2022-06-29T03:22:21.167103",
     "status": "completed"
    },
    "tags": []
   },
   "outputs": [
    {
     "data": {
      "text/markdown": [
       "- It Is Time To Turn The Tables On The Bitcoin Environmental Debate.  Bitcoin’s infamous energy criticism is misguided as mounting research shows the exact opposite of those claims are true. ... [| Skaityti daugiau](https://bitcoinmagazine.com/culture/bitcoin-environmental-debate-is-wrong) "
      ],
      "text/plain": [
       "<IPython.core.display.Markdown object>"
      ]
     },
     "execution_count": 4,
     "metadata": {},
     "output_type": "execute_result"
    }
   ],
   "source": [
    "#hide_input\n",
    "#md('##### {}'.format(titleBTC)) \n",
    "md(\"- {}{} {}{} [| Skaityti daugiau]({}) \".format(btc['title'],'. ', btc['body'], ' ...', btc['url']))"
   ]
  },
  {
   "cell_type": "code",
   "execution_count": 5,
   "id": "organic-actress",
   "metadata": {
    "execution": {
     "iopub.execute_input": "2022-06-29T03:22:21.217940Z",
     "iopub.status.busy": "2022-06-29T03:22:21.217146Z",
     "iopub.status.idle": "2022-06-29T03:22:21.221210Z",
     "shell.execute_reply": "2022-06-29T03:22:21.220603Z"
    },
    "papermill": {
     "duration": 0.021133,
     "end_time": "2022-06-29T03:22:21.221343",
     "exception": false,
     "start_time": "2022-06-29T03:22:21.200210",
     "status": "completed"
    },
    "tags": []
   },
   "outputs": [
    {
     "data": {
      "text/markdown": [
       "- FTX Intends to Buy Robinhood, SHIB Burn Portal Hits New Milestone, Jed McCaleb Has 114 Million XRP Left: Crypto News Digest by U.Today.  Check out U.Today’s news digest and make sure you are up-to-date with the latest events in the industry! ... [| Skaityti daugiau](https://u.today/ftx-intends-to-buy-robinhood-shib-burn-portal-hits-new-milestone-jed-mccaleb-has-114-million-xrp) "
      ],
      "text/plain": [
       "<IPython.core.display.Markdown object>"
      ]
     },
     "execution_count": 5,
     "metadata": {},
     "output_type": "execute_result"
    }
   ],
   "source": [
    "#hide_input\n",
    "#md('##### {}'.format(titleBTC)) \n",
    "md(\"- {}{} {}{} [| Skaityti daugiau]({}) \".format(xrp['title'],'. ', xrp['body'], ' ...', xrp['url']))"
   ]
  },
  {
   "cell_type": "code",
   "execution_count": 6,
   "id": "prompt-farmer",
   "metadata": {
    "execution": {
     "iopub.execute_input": "2022-06-29T03:22:21.253077Z",
     "iopub.status.busy": "2022-06-29T03:22:21.252350Z",
     "iopub.status.idle": "2022-06-29T03:22:21.259506Z",
     "shell.execute_reply": "2022-06-29T03:22:21.258893Z"
    },
    "papermill": {
     "duration": 0.025885,
     "end_time": "2022-06-29T03:22:21.259638",
     "exception": false,
     "start_time": "2022-06-29T03:22:21.233753",
     "status": "completed"
    },
    "tags": []
   },
   "outputs": [
    {
     "data": {
      "text/markdown": [
       "- Tron: This is where TRX could stabilize before its next big move.  It has been a while now since the crypto fear and greed index has refrained from changing its outlook from the &#8216;extreme fear&#8217; zone. However, after a drop toward the $0.04-level, Tron [TRX] saw a revival while compressing between the two up-sloping converging trendlines (yellow). A vigorous bearish endeavor to prevent a close above the [&#8230;] ... [| Skaityti daugiau](https://ambcrypto.com/tron-this-is-where-trx-could-stabilize-before-its-next-big-move/) "
      ],
      "text/plain": [
       "<IPython.core.display.Markdown object>"
      ]
     },
     "execution_count": 6,
     "metadata": {},
     "output_type": "execute_result"
    }
   ],
   "source": [
    "#hide_input\n",
    "#md('##### {}'.format(titleBTC)) \n",
    "md(\"- {}{} {}{} [| Skaityti daugiau]({}) \".format(trx['title'],'. ', trx['body'], ' ...', trx['url']))"
   ]
  },
  {
   "cell_type": "code",
   "execution_count": 7,
   "id": "illegal-greece",
   "metadata": {
    "execution": {
     "iopub.execute_input": "2022-06-29T03:22:21.292732Z",
     "iopub.status.busy": "2022-06-29T03:22:21.291953Z",
     "iopub.status.idle": "2022-06-29T03:22:21.296331Z",
     "shell.execute_reply": "2022-06-29T03:22:21.295752Z"
    },
    "papermill": {
     "duration": 0.024001,
     "end_time": "2022-06-29T03:22:21.296462",
     "exception": false,
     "start_time": "2022-06-29T03:22:21.272461",
     "status": "completed"
    },
    "tags": []
   },
   "outputs": [
    {
     "data": {
      "text/markdown": [
       "- With Shibarium on the way, can Shiba Inu still walk the bark.  Unification Foundation, the team of developers behind Shiba Inu&#8217;s [SHIB] Layer 2 solution, Shibarium, announced on 24 June that a public beta is planned for deployment in the third quarter of 2022. Through a proposal published on 19 June, the Shiba Inu ecosystem asked community members to vote on whether or not to halt further [&#8230;] ... [| Skaityti daugiau](https://ambcrypto.com/with-shibarium-on-the-way-can-shiba-inu-still-walk-the-bark/) "
      ],
      "text/plain": [
       "<IPython.core.display.Markdown object>"
      ]
     },
     "execution_count": 7,
     "metadata": {},
     "output_type": "execute_result"
    }
   ],
   "source": [
    "#hide_input\n",
    "#md('##### {}'.format(titleBTC)) \n",
    "md(\"- {}{} {}{} [| Skaityti daugiau]({}) \".format(eth['title'],'. ', eth['body'], ' ...', eth['url']))"
   ]
  },
  {
   "cell_type": "code",
   "execution_count": 8,
   "id": "sublime-lounge",
   "metadata": {
    "execution": {
     "iopub.execute_input": "2022-06-29T03:22:21.328076Z",
     "iopub.status.busy": "2022-06-29T03:22:21.327329Z",
     "iopub.status.idle": "2022-06-29T03:22:21.333129Z",
     "shell.execute_reply": "2022-06-29T03:22:21.332523Z"
    },
    "papermill": {
     "duration": 0.023714,
     "end_time": "2022-06-29T03:22:21.333258",
     "exception": false,
     "start_time": "2022-06-29T03:22:21.309544",
     "status": "completed"
    },
    "tags": []
   },
   "outputs": [
    {
     "data": {
      "text/markdown": [
       "- Cardano: Is ‘Anti-Vasil’ hype overpowering ADA? The answer lies in….  Cardano [ADA], the eighth-largest blockchain in the world has enjoyed huge attention from developers. According to data harvested from GitHub, Cardano registered the highest level of daily developer activity in 2021. The year 2022 also painted a similar picture with development activity in the fore. However, ADA&#8217;s price didn&#8217;t quite showcase the same scenario. Falling- [&#8230;] ... [| Skaityti daugiau](https://ambcrypto.com/cardano-registers-lowest-unique-addresses-is-anti-vasil-hype-overpowering-ada/) "
      ],
      "text/plain": [
       "<IPython.core.display.Markdown object>"
      ]
     },
     "execution_count": 8,
     "metadata": {},
     "output_type": "execute_result"
    }
   ],
   "source": [
    "#hide_input\n",
    "#md('##### {}'.format(titleBTC)) \n",
    "md(\"- {}{} {}{} [| Skaityti daugiau]({}) \".format(ada['title'],'. ', ada['body'], ' ...', ada['url']))"
   ]
  },
  {
   "cell_type": "code",
   "execution_count": 9,
   "id": "specified-ordering",
   "metadata": {
    "execution": {
     "iopub.execute_input": "2022-06-29T03:22:21.366333Z",
     "iopub.status.busy": "2022-06-29T03:22:21.365413Z",
     "iopub.status.idle": "2022-06-29T03:22:21.369908Z",
     "shell.execute_reply": "2022-06-29T03:22:21.369304Z"
    },
    "papermill": {
     "duration": 0.023093,
     "end_time": "2022-06-29T03:22:21.370039",
     "exception": false,
     "start_time": "2022-06-29T03:22:21.346946",
     "status": "completed"
    },
    "tags": []
   },
   "outputs": [
    {
     "data": {
      "text/markdown": [
       "- Traderpowers review 2022.  Prosperity in struggling with digital bargains is immediately dependent on the trading arena. It is crucial to find a responsible platform with contemporary functionality. This will allow you to receive and trade undertakings, and get sedentary revenue. Investment in exchange usually begins with the choice of the trading arena. At this stage it is crucial... ... [| Skaityti daugiau](https://www.cryptopolitan.com/traderpowers-review-2022/) "
      ],
      "text/plain": [
       "<IPython.core.display.Markdown object>"
      ]
     },
     "execution_count": 9,
     "metadata": {},
     "output_type": "execute_result"
    }
   ],
   "source": [
    "#hide_input\n",
    "#md('##### {}'.format(titleBTC)) \n",
    "md(\"- {}{} {}{} [| Skaityti daugiau]({}) \".format(exchange['title'],'. ', exchange['body'], ' ...', exchange['url']))"
   ]
  },
  {
   "cell_type": "code",
   "execution_count": null,
   "id": "tender-livestock",
   "metadata": {
    "papermill": {
     "duration": 0.013775,
     "end_time": "2022-06-29T03:22:21.398377",
     "exception": false,
     "start_time": "2022-06-29T03:22:21.384602",
     "status": "completed"
    },
    "tags": []
   },
   "outputs": [],
   "source": []
  },
  {
   "cell_type": "code",
   "execution_count": null,
   "id": "appreciated-diamond",
   "metadata": {
    "papermill": {
     "duration": 0.01453,
     "end_time": "2022-06-29T03:22:21.427666",
     "exception": false,
     "start_time": "2022-06-29T03:22:21.413136",
     "status": "completed"
    },
    "tags": []
   },
   "outputs": [],
   "source": []
  },
  {
   "cell_type": "code",
   "execution_count": null,
   "id": "romance-sweden",
   "metadata": {
    "papermill": {
     "duration": 0.013902,
     "end_time": "2022-06-29T03:22:21.455242",
     "exception": false,
     "start_time": "2022-06-29T03:22:21.441340",
     "status": "completed"
    },
    "tags": []
   },
   "outputs": [],
   "source": []
  },
  {
   "cell_type": "code",
   "execution_count": null,
   "id": "dietary-statistics",
   "metadata": {
    "papermill": {
     "duration": 0.013684,
     "end_time": "2022-06-29T03:22:21.483021",
     "exception": false,
     "start_time": "2022-06-29T03:22:21.469337",
     "status": "completed"
    },
    "tags": []
   },
   "outputs": [],
   "source": []
  }
 ],
 "metadata": {
  "kernelspec": {
   "display_name": "Python 3",
   "language": "python",
   "name": "python3"
  },
  "language_info": {
   "codemirror_mode": {
    "name": "ipython",
    "version": 3
   },
   "file_extension": ".py",
   "mimetype": "text/x-python",
   "name": "python",
   "nbconvert_exporter": "python",
   "pygments_lexer": "ipython3",
   "version": "3.6.15"
  },
  "papermill": {
   "default_parameters": {},
   "duration": 18.796785,
   "end_time": "2022-06-29T03:22:22.018350",
   "environment_variables": {},
   "exception": null,
   "input_path": "Market-News.ipynb",
   "output_path": "Market-News.ipynb",
   "parameters": {},
   "start_time": "2022-06-29T03:22:03.221565",
   "version": "2.2.2"
  }
 },
 "nbformat": 4,
 "nbformat_minor": 5
}