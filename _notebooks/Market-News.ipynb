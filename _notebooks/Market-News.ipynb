{
 "cells": [
  {
   "cell_type": "markdown",
   "id": "short-greensboro",
   "metadata": {
    "papermill": {
     "duration": 0.013727,
     "end_time": "2021-11-10T01:59:23.304567",
     "exception": false,
     "start_time": "2021-11-10T01:59:23.290840",
     "status": "completed"
    },
    "tags": []
   },
   "source": [
    "# Kriptovaliutų naujienos"
   ]
  },
  {
   "cell_type": "code",
   "execution_count": 1,
   "id": "functioning-knowing",
   "metadata": {
    "execution": {
     "iopub.execute_input": "2021-11-10T01:59:23.336853Z",
     "iopub.status.busy": "2021-11-10T01:59:23.336115Z",
     "iopub.status.idle": "2021-11-10T01:59:24.742977Z",
     "shell.execute_reply": "2021-11-10T01:59:24.743559Z"
    },
    "papermill": {
     "duration": 1.428092,
     "end_time": "2021-11-10T01:59:24.743740",
     "exception": false,
     "start_time": "2021-11-10T01:59:23.315648",
     "status": "completed"
    },
    "tags": []
   },
   "outputs": [],
   "source": [
    "#hide_input\n",
    "import warnings\n",
    "warnings.filterwarnings('ignore')\n",
    "from scripts.read_data import read_api\n",
    "from scripts.read_data import read_news\n",
    "from scripts.read_data import read_covid\n",
    "import matplotlib.pyplot as plt \n",
    "from IPython.display import Markdown as md"
   ]
  },
  {
   "cell_type": "code",
   "execution_count": 2,
   "id": "shared-acceptance",
   "metadata": {
    "execution": {
     "iopub.execute_input": "2021-11-10T01:59:24.775817Z",
     "iopub.status.busy": "2021-11-10T01:59:24.774531Z",
     "iopub.status.idle": "2021-11-10T01:59:33.280247Z",
     "shell.execute_reply": "2021-11-10T01:59:33.280951Z"
    },
    "papermill": {
     "duration": 8.52639,
     "end_time": "2021-11-10T01:59:33.281140",
     "exception": false,
     "start_time": "2021-11-10T01:59:24.754750",
     "status": "completed"
    },
    "tags": []
   },
   "outputs": [],
   "source": [
    "#hide_input\n",
    "blockchain = read_news('blockchain') \n",
    "btc = read_news('btc') \n",
    "xrp = read_news('xrp') \n",
    "trx = read_news('trx') \n",
    "eth = read_news('eth')  \n",
    "ada = read_news('ada')\n",
    "exchange = read_news('exchange') "
   ]
  },
  {
   "cell_type": "code",
   "execution_count": 3,
   "id": "synthetic-notion",
   "metadata": {
    "execution": {
     "iopub.execute_input": "2021-11-10T01:59:33.310319Z",
     "iopub.status.busy": "2021-11-10T01:59:33.309727Z",
     "iopub.status.idle": "2021-11-10T01:59:33.313138Z",
     "shell.execute_reply": "2021-11-10T01:59:33.312594Z"
    },
    "papermill": {
     "duration": 0.020521,
     "end_time": "2021-11-10T01:59:33.313245",
     "exception": false,
     "start_time": "2021-11-10T01:59:33.292724",
     "status": "completed"
    },
    "tags": []
   },
   "outputs": [
    {
     "data": {
      "text/markdown": [
       "- Polygon: Ethereum’s Friend Is Looking To Make Big Strides.  In a time of many new crypto coins, platforms, and contracts, Polygon is starting to pave a way and rise to the throne of Ethereum layer 2s. Polygon, formerly known as the Matic Network, is a scaling solution that aims to provide multiple tools to improve the speed and reduce the cost and complexities of transactions on blockchain networks. With recent headlines surrounding both Polygon and correlating Ethereum, it&#8217;s wise to get an in-depth perspective on Polygon&#8217;s market positioning for those interested in Ethereum alternatives. Related Reading &#124; Why Cardano Is On A Hot Streak With 10% Gains In 1 Day Friend Or Foe, Polygon&#8217;s Start &#38; How It Works With ETH&#8230; Here is a dive in to look at the coin once known to the world as MATIC. Polygon was created in India in 2017, and was originally called the Matic Network. It was the brainchild of experienced Ethereum developers—Jaynti Kanani, Sandeep Nailwal, Anurag Arjun, and Mihailo Bjelic. The Matic Network went live in 2020, and has since attracted some of the top names in the world of decentralized finance, also known as DeFi, including Decentraland and MakerDAO. The Matic Network rebranded to Polygon in February 2021, and in April 2019 during it&#8217;s initial offering, the Polygon team raised the equivalent of $5.6 million in ETH with the sale of 1.9 billion MATIC tokens over a brisk 20-day period. While some coins in the same field are aiming at top... ... [| Skaityti daugiau](https://www.newsbtc.com/news/polygon-ethereums-friend-is-looking-to-make-big-strides/) "
      ],
      "text/plain": [
       "<IPython.core.display.Markdown object>"
      ]
     },
     "execution_count": 3,
     "metadata": {},
     "output_type": "execute_result"
    }
   ],
   "source": [
    "#hide_input\n",
    "#md('##### {}'.format(titleBTC)) \n",
    "md(\"- {}{} {}{} [| Skaityti daugiau]({}) \".format(blockchain['title'],'. ', blockchain['body'], ' ...', blockchain['url']))"
   ]
  },
  {
   "cell_type": "code",
   "execution_count": 4,
   "id": "aging-caution",
   "metadata": {
    "execution": {
     "iopub.execute_input": "2021-11-10T01:59:33.339147Z",
     "iopub.status.busy": "2021-11-10T01:59:33.338544Z",
     "iopub.status.idle": "2021-11-10T01:59:33.344720Z",
     "shell.execute_reply": "2021-11-10T01:59:33.344175Z"
    },
    "papermill": {
     "duration": 0.021017,
     "end_time": "2021-11-10T01:59:33.344843",
     "exception": false,
     "start_time": "2021-11-10T01:59:33.323826",
     "status": "completed"
    },
    "tags": []
   },
   "outputs": [
    {
     "data": {
      "text/markdown": [
       "- Measuring Conviction Of Bitcoin Holders With Reserve Risk.  Reserve risk is a ratio between the current price of bitcoin and the conviction of long-term holders. ... [| Skaityti daugiau](https://bitcoinmagazine.com/markets/measuring-conviction-bitcoin-holders-reserve-risk) "
      ],
      "text/plain": [
       "<IPython.core.display.Markdown object>"
      ]
     },
     "execution_count": 4,
     "metadata": {},
     "output_type": "execute_result"
    }
   ],
   "source": [
    "#hide_input\n",
    "#md('##### {}'.format(titleBTC)) \n",
    "md(\"- {}{} {}{} [| Skaityti daugiau]({}) \".format(btc['title'],'. ', btc['body'], ' ...', btc['url']))"
   ]
  },
  {
   "cell_type": "code",
   "execution_count": 5,
   "id": "organic-actress",
   "metadata": {
    "execution": {
     "iopub.execute_input": "2021-11-10T01:59:33.376036Z",
     "iopub.status.busy": "2021-11-10T01:59:33.375411Z",
     "iopub.status.idle": "2021-11-10T01:59:33.379870Z",
     "shell.execute_reply": "2021-11-10T01:59:33.380303Z"
    },
    "papermill": {
     "duration": 0.021803,
     "end_time": "2021-11-10T01:59:33.380465",
     "exception": false,
     "start_time": "2021-11-10T01:59:33.358662",
     "status": "completed"
    },
    "tags": []
   },
   "outputs": [
    {
     "data": {
      "text/markdown": [
       "- Ripple Launches New Product That Allows Financial Service Firms To Offer Crypto Trading.  Ripple Labs is moving towards a &#8220;crypto-first future&#8221; with a new product allowing traditional financial institutions to offer cryptocurrency services to their customers. In a new press release, the makers of XRP announced their newest product called the Ripple Liquidity Hub. &#8220;[It is] a groundbreaking new way for enterprises to easily and efficiently source digital assets [&#8230;]The post Ripple Launches New Product That Allows Financial Service Firms To Offer Crypto Trading appeared first on The Daily Hodl. ... [| Skaityti daugiau](https://dailyhodl.com/2021/11/09/ripple-launches-new-product-that-allows-financial-service-firms-to-offer-crypto-trading/) "
      ],
      "text/plain": [
       "<IPython.core.display.Markdown object>"
      ]
     },
     "execution_count": 5,
     "metadata": {},
     "output_type": "execute_result"
    }
   ],
   "source": [
    "#hide_input\n",
    "#md('##### {}'.format(titleBTC)) \n",
    "md(\"- {}{} {}{} [| Skaityti daugiau]({}) \".format(xrp['title'],'. ', xrp['body'], ' ...', xrp['url']))"
   ]
  },
  {
   "cell_type": "code",
   "execution_count": 6,
   "id": "prompt-farmer",
   "metadata": {
    "execution": {
     "iopub.execute_input": "2021-11-10T01:59:33.411670Z",
     "iopub.status.busy": "2021-11-10T01:59:33.411061Z",
     "iopub.status.idle": "2021-11-10T01:59:33.413119Z",
     "shell.execute_reply": "2021-11-10T01:59:33.413531Z"
    },
    "papermill": {
     "duration": 0.020583,
     "end_time": "2021-11-10T01:59:33.413726",
     "exception": false,
     "start_time": "2021-11-10T01:59:33.393143",
     "status": "completed"
    },
    "tags": []
   },
   "outputs": [
    {
     "data": {
      "text/markdown": [
       "- Tron beats FUD after $21.9B weekly inflows overshadow Cardano, Solana.  Tron [TRX] is an enigma. The Tron Foundation&#8217;s official Twitter bio states it is &#8220;dedicated to building the infrastructure for a truly decentralized Internet.&#8221; However, Founder Justin Sun&#8217;s name makes it into different parts of the ecosystem. That being said, of late, the altcoin has been getting quite a lot of attention. Especially after it [&#8230;] ... [| Skaityti daugiau](https://ambcrypto.com/tron-beats-fud-after-21-9b-weekly-inflows-overshadow-cardano-solana/) "
      ],
      "text/plain": [
       "<IPython.core.display.Markdown object>"
      ]
     },
     "execution_count": 6,
     "metadata": {},
     "output_type": "execute_result"
    }
   ],
   "source": [
    "#hide_input\n",
    "#md('##### {}'.format(titleBTC)) \n",
    "md(\"- {}{} {}{} [| Skaityti daugiau]({}) \".format(trx['title'],'. ', trx['body'], ' ...', trx['url']))"
   ]
  },
  {
   "cell_type": "code",
   "execution_count": 7,
   "id": "illegal-greece",
   "metadata": {
    "execution": {
     "iopub.execute_input": "2021-11-10T01:59:33.440649Z",
     "iopub.status.busy": "2021-11-10T01:59:33.440107Z",
     "iopub.status.idle": "2021-11-10T01:59:33.445449Z",
     "shell.execute_reply": "2021-11-10T01:59:33.445877Z"
    },
    "papermill": {
     "duration": 0.021258,
     "end_time": "2021-11-10T01:59:33.446011",
     "exception": false,
     "start_time": "2021-11-10T01:59:33.424753",
     "status": "completed"
    },
    "tags": []
   },
   "outputs": [
    {
     "data": {
      "text/markdown": [
       "- Polygon: Ethereum’s Friend Is Looking To Make Big Strides.  In a time of many new crypto coins, platforms, and contracts, Polygon is starting to pave a way and rise to the throne of Ethereum layer 2s. Polygon, formerly known as the Matic Network, is a scaling solution that aims to provide multiple tools to improve the speed and reduce the cost and complexities of transactions on blockchain networks. With recent headlines surrounding both Polygon and correlating Ethereum, it&#8217;s wise to get an in-depth perspective on Polygon&#8217;s market positioning for those interested in Ethereum alternatives. Related Reading &#124; Why Cardano Is On A Hot Streak With 10% Gains In 1 Day Friend Or Foe, Polygon&#8217;s Start &#38; How It Works With ETH&#8230; Here is a dive in to look at the coin once known to the world as MATIC. Polygon was created in India in 2017, and was originally called the Matic Network. It was the brainchild of experienced Ethereum developers—Jaynti Kanani, Sandeep Nailwal, Anurag Arjun, and Mihailo Bjelic. The Matic Network went live in 2020, and has since attracted some of the top names in the world of decentralized finance, also known as DeFi, including Decentraland and MakerDAO. The Matic Network rebranded to Polygon in February 2021, and in April 2019 during it&#8217;s initial offering, the Polygon team raised the equivalent of $5.6 million in ETH with the sale of 1.9 billion MATIC tokens over a brisk 20-day period. While some coins in the same field are aiming at top... ... [| Skaityti daugiau](https://www.newsbtc.com/news/polygon-ethereums-friend-is-looking-to-make-big-strides/) "
      ],
      "text/plain": [
       "<IPython.core.display.Markdown object>"
      ]
     },
     "execution_count": 7,
     "metadata": {},
     "output_type": "execute_result"
    }
   ],
   "source": [
    "#hide_input\n",
    "#md('##### {}'.format(titleBTC)) \n",
    "md(\"- {}{} {}{} [| Skaityti daugiau]({}) \".format(eth['title'],'. ', eth['body'], ' ...', eth['url']))"
   ]
  },
  {
   "cell_type": "code",
   "execution_count": 8,
   "id": "sublime-lounge",
   "metadata": {
    "execution": {
     "iopub.execute_input": "2021-11-10T01:59:33.478716Z",
     "iopub.status.busy": "2021-11-10T01:59:33.478066Z",
     "iopub.status.idle": "2021-11-10T01:59:33.480956Z",
     "shell.execute_reply": "2021-11-10T01:59:33.480486Z"
    },
    "papermill": {
     "duration": 0.021838,
     "end_time": "2021-11-10T01:59:33.481065",
     "exception": false,
     "start_time": "2021-11-10T01:59:33.459227",
     "status": "completed"
    },
    "tags": []
   },
   "outputs": [
    {
     "data": {
      "text/markdown": [
       "- Polygon: Ethereum’s Friend Is Looking To Make Big Strides.  In a time of many new crypto coins, platforms, and contracts, Polygon is starting to pave a way and rise to the throne of Ethereum layer 2s. Polygon, formerly known as the Matic Network, is a scaling solution that aims to provide multiple tools to improve the speed and reduce the cost and complexities of transactions on blockchain networks. With recent headlines surrounding both Polygon and correlating Ethereum, it&#8217;s wise to get an in-depth perspective on Polygon&#8217;s market positioning for those interested in Ethereum alternatives. Related Reading &#124; Why Cardano Is On A Hot Streak With 10% Gains In 1 Day Friend Or Foe, Polygon&#8217;s Start &#38; How It Works With ETH&#8230; Here is a dive in to look at the coin once known to the world as MATIC. Polygon was created in India in 2017, and was originally called the Matic Network. It was the brainchild of experienced Ethereum developers—Jaynti Kanani, Sandeep Nailwal, Anurag Arjun, and Mihailo Bjelic. The Matic Network went live in 2020, and has since attracted some of the top names in the world of decentralized finance, also known as DeFi, including Decentraland and MakerDAO. The Matic Network rebranded to Polygon in February 2021, and in April 2019 during it&#8217;s initial offering, the Polygon team raised the equivalent of $5.6 million in ETH with the sale of 1.9 billion MATIC tokens over a brisk 20-day period. While some coins in the same field are aiming at top... ... [| Skaityti daugiau](https://www.newsbtc.com/news/polygon-ethereums-friend-is-looking-to-make-big-strides/) "
      ],
      "text/plain": [
       "<IPython.core.display.Markdown object>"
      ]
     },
     "execution_count": 8,
     "metadata": {},
     "output_type": "execute_result"
    }
   ],
   "source": [
    "#hide_input\n",
    "#md('##### {}'.format(titleBTC)) \n",
    "md(\"- {}{} {}{} [| Skaityti daugiau]({}) \".format(ada['title'],'. ', ada['body'], ' ...', ada['url']))"
   ]
  },
  {
   "cell_type": "code",
   "execution_count": 9,
   "id": "specified-ordering",
   "metadata": {
    "execution": {
     "iopub.execute_input": "2021-11-10T01:59:33.510599Z",
     "iopub.status.busy": "2021-11-10T01:59:33.510035Z",
     "iopub.status.idle": "2021-11-10T01:59:33.515741Z",
     "shell.execute_reply": "2021-11-10T01:59:33.516346Z"
    },
    "papermill": {
     "duration": 0.022603,
     "end_time": "2021-11-10T01:59:33.516473",
     "exception": false,
     "start_time": "2021-11-10T01:59:33.493870",
     "status": "completed"
    },
    "tags": []
   },
   "outputs": [
    {
     "data": {
      "text/markdown": [
       "- Binance CEO Changpeng Zhao discusses future of crypto, global adoption, regulations.  Changpeng Zhao, Binance chief executive officer, discussed regulations and crypto ETF in a recent interview with Bloomberg. According to him, &#8220;Most institutions or organizations should be looking at crypto at this stage.&#8221; Institutions get serious Let&#8217;s recall that just last month, Jamie Dimon, JP Morgan Chase chairman, and CEO, had called Bitcoin &#8220;worthless&#8221;. But, inflows [&#8230;] ... [| Skaityti daugiau](https://ambcrypto.com/binance-ceo-changpeng-zhao-discusses-future-of-crypto-global-adoption-regulations/) "
      ],
      "text/plain": [
       "<IPython.core.display.Markdown object>"
      ]
     },
     "execution_count": 9,
     "metadata": {},
     "output_type": "execute_result"
    }
   ],
   "source": [
    "#hide_input\n",
    "#md('##### {}'.format(titleBTC)) \n",
    "md(\"- {}{} {}{} [| Skaityti daugiau]({}) \".format(exchange['title'],'. ', exchange['body'], ' ...', exchange['url']))"
   ]
  },
  {
   "cell_type": "code",
   "execution_count": null,
   "id": "tender-livestock",
   "metadata": {
    "papermill": {
     "duration": 0.012762,
     "end_time": "2021-11-10T01:59:33.544333",
     "exception": false,
     "start_time": "2021-11-10T01:59:33.531571",
     "status": "completed"
    },
    "tags": []
   },
   "outputs": [],
   "source": []
  },
  {
   "cell_type": "code",
   "execution_count": null,
   "id": "appreciated-diamond",
   "metadata": {
    "papermill": {
     "duration": 0.01335,
     "end_time": "2021-11-10T01:59:33.579089",
     "exception": false,
     "start_time": "2021-11-10T01:59:33.565739",
     "status": "completed"
    },
    "tags": []
   },
   "outputs": [],
   "source": []
  },
  {
   "cell_type": "code",
   "execution_count": null,
   "id": "romance-sweden",
   "metadata": {
    "papermill": {
     "duration": 0.013344,
     "end_time": "2021-11-10T01:59:33.605461",
     "exception": false,
     "start_time": "2021-11-10T01:59:33.592117",
     "status": "completed"
    },
    "tags": []
   },
   "outputs": [],
   "source": []
  },
  {
   "cell_type": "code",
   "execution_count": null,
   "id": "dietary-statistics",
   "metadata": {
    "papermill": {
     "duration": 0.013139,
     "end_time": "2021-11-10T01:59:33.631414",
     "exception": false,
     "start_time": "2021-11-10T01:59:33.618275",
     "status": "completed"
    },
    "tags": []
   },
   "outputs": [],
   "source": []
  }
 ],
 "metadata": {
  "kernelspec": {
   "display_name": "Python 3",
   "language": "python",
   "name": "python3"
  },
  "language_info": {
   "codemirror_mode": {
    "name": "ipython",
    "version": 3
   },
   "file_extension": ".py",
   "mimetype": "text/x-python",
   "name": "python",
   "nbconvert_exporter": "python",
   "pygments_lexer": "ipython3",
   "version": "3.6.15"
  },
  "papermill": {
   "default_parameters": {},
   "duration": 11.863725,
   "end_time": "2021-11-10T01:59:34.054085",
   "environment_variables": {},
   "exception": null,
   "input_path": "Market-News.ipynb",
   "output_path": "Market-News.ipynb",
   "parameters": {},
   "start_time": "2021-11-10T01:59:22.190360",
   "version": "2.2.2"
  }
 },
 "nbformat": 4,
 "nbformat_minor": 5
}