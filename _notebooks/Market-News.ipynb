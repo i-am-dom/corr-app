{
 "cells": [
  {
   "cell_type": "markdown",
   "id": "short-greensboro",
   "metadata": {
    "papermill": {
     "duration": 0.013403,
     "end_time": "2022-08-08T03:11:55.799156",
     "exception": false,
     "start_time": "2022-08-08T03:11:55.785753",
     "status": "completed"
    },
    "tags": []
   },
   "source": [
    "# Kriptovaliutų naujienos"
   ]
  },
  {
   "cell_type": "code",
   "execution_count": 1,
   "id": "functioning-knowing",
   "metadata": {
    "execution": {
     "iopub.execute_input": "2022-08-08T03:11:55.828007Z",
     "iopub.status.busy": "2022-08-08T03:11:55.827416Z",
     "iopub.status.idle": "2022-08-08T03:11:57.022245Z",
     "shell.execute_reply": "2022-08-08T03:11:57.021645Z"
    },
    "papermill": {
     "duration": 1.213656,
     "end_time": "2022-08-08T03:11:57.022398",
     "exception": false,
     "start_time": "2022-08-08T03:11:55.808742",
     "status": "completed"
    },
    "tags": []
   },
   "outputs": [],
   "source": [
    "#hide_input\n",
    "import warnings\n",
    "warnings.filterwarnings('ignore')\n",
    "from scripts.read_data import read_api\n",
    "from scripts.read_data import read_news\n",
    "from scripts.read_data import read_covid\n",
    "import matplotlib.pyplot as plt \n",
    "from IPython.display import Markdown as md"
   ]
  },
  {
   "cell_type": "code",
   "execution_count": 2,
   "id": "shared-acceptance",
   "metadata": {
    "execution": {
     "iopub.execute_input": "2022-08-08T03:11:57.047628Z",
     "iopub.status.busy": "2022-08-08T03:11:57.046634Z",
     "iopub.status.idle": "2022-08-08T03:12:10.389309Z",
     "shell.execute_reply": "2022-08-08T03:12:10.388257Z"
    },
    "papermill": {
     "duration": 13.357322,
     "end_time": "2022-08-08T03:12:10.389448",
     "exception": false,
     "start_time": "2022-08-08T03:11:57.032126",
     "status": "completed"
    },
    "tags": []
   },
   "outputs": [],
   "source": [
    "#hide_input\n",
    "blockchain = read_news('blockchain') \n",
    "btc = read_news('btc') \n",
    "xrp = read_news('xrp') \n",
    "trx = read_news('trx') \n",
    "eth = read_news('eth')  \n",
    "ada = read_news('ada')\n",
    "exchange = read_news('exchange') "
   ]
  },
  {
   "cell_type": "code",
   "execution_count": 3,
   "id": "synthetic-notion",
   "metadata": {
    "execution": {
     "iopub.execute_input": "2022-08-08T03:12:10.413751Z",
     "iopub.status.busy": "2022-08-08T03:12:10.413143Z",
     "iopub.status.idle": "2022-08-08T03:12:10.416543Z",
     "shell.execute_reply": "2022-08-08T03:12:10.416093Z"
    },
    "papermill": {
     "duration": 0.017938,
     "end_time": "2022-08-08T03:12:10.416673",
     "exception": false,
     "start_time": "2022-08-08T03:12:10.398735",
     "status": "completed"
    },
    "tags": []
   },
   "outputs": [
    {
     "data": {
      "text/markdown": [
       "- Core Scientific Announces 10% Growth in BTC Production In July.  Core Scientific Inc., despite cutting down on power supply in its Texas branch several times in the month of July, has recorded a remarkable growth in Bitcoin mining for the month. According to the announcement, the mining company produced a total of 1,221 BTCs in July, a figure that was 1,106 BTCs in June, accounting [&#8230;]The post Core Scientific Announces 10% Growth in BTC Production In July appeared first on Blockchain, Crypto and Stock News. ... [| Skaityti daugiau](https://thecoinrise.com/core-scientific-announces-10-growth-in-btc-production-in-july/) "
      ],
      "text/plain": [
       "<IPython.core.display.Markdown object>"
      ]
     },
     "execution_count": 3,
     "metadata": {},
     "output_type": "execute_result"
    }
   ],
   "source": [
    "#hide_input\n",
    "#md('##### {}'.format(titleBTC)) \n",
    "md(\"- {}{} {}{} [| Skaityti daugiau]({}) \".format(blockchain['title'],'. ', blockchain['body'], ' ...', blockchain['url']))"
   ]
  },
  {
   "cell_type": "code",
   "execution_count": 4,
   "id": "aging-caution",
   "metadata": {
    "execution": {
     "iopub.execute_input": "2022-08-08T03:12:10.439833Z",
     "iopub.status.busy": "2022-08-08T03:12:10.439214Z",
     "iopub.status.idle": "2022-08-08T03:12:10.442427Z",
     "shell.execute_reply": "2022-08-08T03:12:10.442870Z"
    },
    "papermill": {
     "duration": 0.017145,
     "end_time": "2022-08-08T03:12:10.442985",
     "exception": false,
     "start_time": "2022-08-08T03:12:10.425840",
     "status": "completed"
    },
    "tags": []
   },
   "outputs": [
    {
     "data": {
      "text/markdown": [
       "- Top Analyst Says Ethereum (ETH) About To Rip, Calls One Exchange Token an ‘Actual Tank’.  A popular crypto strategist says that a breakout rally is in sight for leading smart contract platform Ethereum (ETH). The crypto analyst known in the industry as Kaleo tells his 531,000 Twitter followers that Ethereum has broken out of its diagonal resistance against Bitcoin (ETH/BTC), and the pair looks primed for a new leg up. [&#8230;]The post Top Analyst Says Ethereum (ETH) About To Rip, Calls One Exchange Token an ‘Actual Tank’ appeared first on The Daily Hodl. ... [| Skaityti daugiau](https://dailyhodl.com/2022/08/07/top-analyst-says-ethereum-eth-about-to-rip-calls-one-exchange-token-an-actual-tank/) "
      ],
      "text/plain": [
       "<IPython.core.display.Markdown object>"
      ]
     },
     "execution_count": 4,
     "metadata": {},
     "output_type": "execute_result"
    }
   ],
   "source": [
    "#hide_input\n",
    "#md('##### {}'.format(titleBTC)) \n",
    "md(\"- {}{} {}{} [| Skaityti daugiau]({}) \".format(btc['title'],'. ', btc['body'], ' ...', btc['url']))"
   ]
  },
  {
   "cell_type": "code",
   "execution_count": 5,
   "id": "organic-actress",
   "metadata": {
    "execution": {
     "iopub.execute_input": "2022-08-08T03:12:10.466474Z",
     "iopub.status.busy": "2022-08-08T03:12:10.465242Z",
     "iopub.status.idle": "2022-08-08T03:12:10.469332Z",
     "shell.execute_reply": "2022-08-08T03:12:10.469884Z"
    },
    "papermill": {
     "duration": 0.017525,
     "end_time": "2022-08-08T03:12:10.469997",
     "exception": false,
     "start_time": "2022-08-08T03:12:10.452472",
     "status": "completed"
    },
    "tags": []
   },
   "outputs": [
    {
     "data": {
      "text/markdown": [
       "- Ripple CTO Takes a Slight Dig At Stellar (XLM) & Jed McCaleb.  David Schwartz did not fail to poke rival project ... [| Skaityti daugiau](https://u.today/ripple-cto-takes-slight-dig-at-stellar-xlm-jed-mccaleb) "
      ],
      "text/plain": [
       "<IPython.core.display.Markdown object>"
      ]
     },
     "execution_count": 5,
     "metadata": {},
     "output_type": "execute_result"
    }
   ],
   "source": [
    "#hide_input\n",
    "#md('##### {}'.format(titleBTC)) \n",
    "md(\"- {}{} {}{} [| Skaityti daugiau]({}) \".format(xrp['title'],'. ', xrp['body'], ' ...', xrp['url']))"
   ]
  },
  {
   "cell_type": "code",
   "execution_count": 6,
   "id": "prompt-farmer",
   "metadata": {
    "execution": {
     "iopub.execute_input": "2022-08-08T03:12:10.494300Z",
     "iopub.status.busy": "2022-08-08T03:12:10.493721Z",
     "iopub.status.idle": "2022-08-08T03:12:10.497181Z",
     "shell.execute_reply": "2022-08-08T03:12:10.497654Z"
    },
    "papermill": {
     "duration": 0.018042,
     "end_time": "2022-08-08T03:12:10.497764",
     "exception": false,
     "start_time": "2022-08-08T03:12:10.479722",
     "status": "completed"
    },
    "tags": []
   },
   "outputs": [
    {
     "data": {
      "text/markdown": [
       "- ‘Where, how’ of TRX bulls leveraging this pattern’s breakout potential.  Over the last six weeks, Tron&#8217;s [TRX] fluctuation was range bound in the $0.66-$0.07 zone. The decline from the $0.07 ceiling has affirmed a bullish continuation pattern in the 4-hour timeframe. The recent decline reinforced the near-term bearish efforts in pulling TRX toward its 200 EMA support (green). Furthermore, with the immediate support in the [&#8230;] ... [| Skaityti daugiau](https://ambcrypto.com/where-how-of-trx-bulls-leveraging-this-patterns-breakout-potential/) "
      ],
      "text/plain": [
       "<IPython.core.display.Markdown object>"
      ]
     },
     "execution_count": 6,
     "metadata": {},
     "output_type": "execute_result"
    }
   ],
   "source": [
    "#hide_input\n",
    "#md('##### {}'.format(titleBTC)) \n",
    "md(\"- {}{} {}{} [| Skaityti daugiau]({}) \".format(trx['title'],'. ', trx['body'], ' ...', trx['url']))"
   ]
  },
  {
   "cell_type": "code",
   "execution_count": 7,
   "id": "illegal-greece",
   "metadata": {
    "execution": {
     "iopub.execute_input": "2022-08-08T03:12:10.522063Z",
     "iopub.status.busy": "2022-08-08T03:12:10.521266Z",
     "iopub.status.idle": "2022-08-08T03:12:10.525453Z",
     "shell.execute_reply": "2022-08-08T03:12:10.524986Z"
    },
    "papermill": {
     "duration": 0.017368,
     "end_time": "2022-08-08T03:12:10.525550",
     "exception": false,
     "start_time": "2022-08-08T03:12:10.508182",
     "status": "completed"
    },
    "tags": []
   },
   "outputs": [
    {
     "data": {
      "text/markdown": [
       "- The A-Z of how Ethereum-based NFTs have been doing so far.  According to data from NFT data aggregator CryptoSlam, the sales volume for NFTs minted on the Ethereum network has fallen gradually since the beginning of August. In fact, at the time of writing, total sales made on the chain stood at $82,541,608.15. This represented a 10% decline over the last seven days alone. Now, how [&#8230;] ... [| Skaityti daugiau](https://ambcrypto.com/the-a-z-of-how-ethereum-based-nfts-have-been-doing-so-far/) "
      ],
      "text/plain": [
       "<IPython.core.display.Markdown object>"
      ]
     },
     "execution_count": 7,
     "metadata": {},
     "output_type": "execute_result"
    }
   ],
   "source": [
    "#hide_input\n",
    "#md('##### {}'.format(titleBTC)) \n",
    "md(\"- {}{} {}{} [| Skaityti daugiau]({}) \".format(eth['title'],'. ', eth['body'], ' ...', eth['url']))"
   ]
  },
  {
   "cell_type": "code",
   "execution_count": 8,
   "id": "sublime-lounge",
   "metadata": {
    "execution": {
     "iopub.execute_input": "2022-08-08T03:12:10.551845Z",
     "iopub.status.busy": "2022-08-08T03:12:10.550714Z",
     "iopub.status.idle": "2022-08-08T03:12:10.554649Z",
     "shell.execute_reply": "2022-08-08T03:12:10.555081Z"
    },
    "papermill": {
     "duration": 0.018109,
     "end_time": "2022-08-08T03:12:10.555195",
     "exception": false,
     "start_time": "2022-08-08T03:12:10.537086",
     "status": "completed"
    },
    "tags": []
   },
   "outputs": [
    {
     "data": {
      "text/markdown": [
       "- Number of Cardano (ADA) Wallets Surpasses 3.5 Million.  In December of 2021, there were 2.5 million wallets in circulation. DataStudio&#8217;s estimates, that the population had grown by one ... [| Skaityti daugiau](https://thenewscrypto.com/number-of-cardano-ada-wallets-surpasses-3-5-million/) "
      ],
      "text/plain": [
       "<IPython.core.display.Markdown object>"
      ]
     },
     "execution_count": 8,
     "metadata": {},
     "output_type": "execute_result"
    }
   ],
   "source": [
    "#hide_input\n",
    "#md('##### {}'.format(titleBTC)) \n",
    "md(\"- {}{} {}{} [| Skaityti daugiau]({}) \".format(ada['title'],'. ', ada['body'], ' ...', ada['url']))"
   ]
  },
  {
   "cell_type": "code",
   "execution_count": 9,
   "id": "specified-ordering",
   "metadata": {
    "execution": {
     "iopub.execute_input": "2022-08-08T03:12:10.581001Z",
     "iopub.status.busy": "2022-08-08T03:12:10.579734Z",
     "iopub.status.idle": "2022-08-08T03:12:10.584721Z",
     "shell.execute_reply": "2022-08-08T03:12:10.584132Z"
    },
    "papermill": {
     "duration": 0.018926,
     "end_time": "2022-08-08T03:12:10.584821",
     "exception": false,
     "start_time": "2022-08-08T03:12:10.565895",
     "status": "completed"
    },
    "tags": []
   },
   "outputs": [
    {
     "data": {
      "text/markdown": [
       "- Top Analyst Says Ethereum (ETH) About To Rip, Calls One Exchange Token an ‘Actual Tank’.  A popular crypto strategist says that a breakout rally is in sight for leading smart contract platform Ethereum (ETH). The crypto analyst known in the industry as Kaleo tells his 531,000 Twitter followers that Ethereum has broken out of its diagonal resistance against Bitcoin (ETH/BTC), and the pair looks primed for a new leg up. [&#8230;]The post Top Analyst Says Ethereum (ETH) About To Rip, Calls One Exchange Token an ‘Actual Tank’ appeared first on The Daily Hodl. ... [| Skaityti daugiau](https://dailyhodl.com/2022/08/07/top-analyst-says-ethereum-eth-about-to-rip-calls-one-exchange-token-an-actual-tank/) "
      ],
      "text/plain": [
       "<IPython.core.display.Markdown object>"
      ]
     },
     "execution_count": 9,
     "metadata": {},
     "output_type": "execute_result"
    }
   ],
   "source": [
    "#hide_input\n",
    "#md('##### {}'.format(titleBTC)) \n",
    "md(\"- {}{} {}{} [| Skaityti daugiau]({}) \".format(exchange['title'],'. ', exchange['body'], ' ...', exchange['url']))"
   ]
  },
  {
   "cell_type": "code",
   "execution_count": null,
   "id": "tender-livestock",
   "metadata": {
    "papermill": {
     "duration": 0.011064,
     "end_time": "2022-08-08T03:12:10.606903",
     "exception": false,
     "start_time": "2022-08-08T03:12:10.595839",
     "status": "completed"
    },
    "tags": []
   },
   "outputs": [],
   "source": []
  },
  {
   "cell_type": "code",
   "execution_count": null,
   "id": "appreciated-diamond",
   "metadata": {
    "papermill": {
     "duration": 0.010993,
     "end_time": "2022-08-08T03:12:10.629066",
     "exception": false,
     "start_time": "2022-08-08T03:12:10.618073",
     "status": "completed"
    },
    "tags": []
   },
   "outputs": [],
   "source": []
  },
  {
   "cell_type": "code",
   "execution_count": null,
   "id": "romance-sweden",
   "metadata": {
    "papermill": {
     "duration": 0.010999,
     "end_time": "2022-08-08T03:12:10.651081",
     "exception": false,
     "start_time": "2022-08-08T03:12:10.640082",
     "status": "completed"
    },
    "tags": []
   },
   "outputs": [],
   "source": []
  },
  {
   "cell_type": "code",
   "execution_count": null,
   "id": "dietary-statistics",
   "metadata": {
    "papermill": {
     "duration": 0.010987,
     "end_time": "2022-08-08T03:12:10.673195",
     "exception": false,
     "start_time": "2022-08-08T03:12:10.662208",
     "status": "completed"
    },
    "tags": []
   },
   "outputs": [],
   "source": []
  }
 ],
 "metadata": {
  "kernelspec": {
   "display_name": "Python 3",
   "language": "python",
   "name": "python3"
  },
  "language_info": {
   "codemirror_mode": {
    "name": "ipython",
    "version": 3
   },
   "file_extension": ".py",
   "mimetype": "text/x-python",
   "name": "python",
   "nbconvert_exporter": "python",
   "pygments_lexer": "ipython3",
   "version": "3.6.15"
  },
  "papermill": {
   "default_parameters": {},
   "duration": 16.227441,
   "end_time": "2022-08-08T03:12:11.102012",
   "environment_variables": {},
   "exception": null,
   "input_path": "Market-News.ipynb",
   "output_path": "Market-News.ipynb",
   "parameters": {},
   "start_time": "2022-08-08T03:11:54.874571",
   "version": "2.2.2"
  }
 },
 "nbformat": 4,
 "nbformat_minor": 5
}