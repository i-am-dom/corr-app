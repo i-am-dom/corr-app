{
 "cells": [
  {
   "cell_type": "markdown",
   "id": "short-greensboro",
   "metadata": {
    "papermill": {
     "duration": 0.014544,
     "end_time": "2022-01-18T02:11:10.431647",
     "exception": false,
     "start_time": "2022-01-18T02:11:10.417103",
     "status": "completed"
    },
    "tags": []
   },
   "source": [
    "# Kriptovaliutų naujienos"
   ]
  },
  {
   "cell_type": "code",
   "execution_count": 1,
   "id": "functioning-knowing",
   "metadata": {
    "execution": {
     "iopub.execute_input": "2022-01-18T02:11:10.464167Z",
     "iopub.status.busy": "2022-01-18T02:11:10.463553Z",
     "iopub.status.idle": "2022-01-18T02:11:11.933563Z",
     "shell.execute_reply": "2022-01-18T02:11:11.932993Z"
    },
    "papermill": {
     "duration": 1.491474,
     "end_time": "2022-01-18T02:11:11.933725",
     "exception": false,
     "start_time": "2022-01-18T02:11:10.442251",
     "status": "completed"
    },
    "tags": []
   },
   "outputs": [],
   "source": [
    "#hide_input\n",
    "import warnings\n",
    "warnings.filterwarnings('ignore')\n",
    "from scripts.read_data import read_api\n",
    "from scripts.read_data import read_news\n",
    "from scripts.read_data import read_covid\n",
    "import matplotlib.pyplot as plt \n",
    "from IPython.display import Markdown as md"
   ]
  },
  {
   "cell_type": "code",
   "execution_count": 2,
   "id": "shared-acceptance",
   "metadata": {
    "execution": {
     "iopub.execute_input": "2022-01-18T02:11:11.959709Z",
     "iopub.status.busy": "2022-01-18T02:11:11.958762Z",
     "iopub.status.idle": "2022-01-18T02:11:21.538265Z",
     "shell.execute_reply": "2022-01-18T02:11:21.538831Z"
    },
    "papermill": {
     "duration": 9.595801,
     "end_time": "2022-01-18T02:11:21.539115",
     "exception": false,
     "start_time": "2022-01-18T02:11:11.943314",
     "status": "completed"
    },
    "tags": []
   },
   "outputs": [],
   "source": [
    "#hide_input\n",
    "blockchain = read_news('blockchain') \n",
    "btc = read_news('btc') \n",
    "xrp = read_news('xrp') \n",
    "trx = read_news('trx') \n",
    "eth = read_news('eth')  \n",
    "ada = read_news('ada')\n",
    "exchange = read_news('exchange') "
   ]
  },
  {
   "cell_type": "code",
   "execution_count": 3,
   "id": "synthetic-notion",
   "metadata": {
    "execution": {
     "iopub.execute_input": "2022-01-18T02:11:21.566870Z",
     "iopub.status.busy": "2022-01-18T02:11:21.566232Z",
     "iopub.status.idle": "2022-01-18T02:11:21.568270Z",
     "shell.execute_reply": "2022-01-18T02:11:21.568785Z"
    },
    "papermill": {
     "duration": 0.019871,
     "end_time": "2022-01-18T02:11:21.568939",
     "exception": false,
     "start_time": "2022-01-18T02:11:21.549068",
     "status": "completed"
    },
    "tags": []
   },
   "outputs": [
    {
     "data": {
      "text/markdown": [
       "- Malaysia’s Central Bank actively assessing CBDC options.  Malaysia’s central bank recently completed a proof-of-concept for a CBDC with three other nations and may consider developing its own cross-border payment system using the blockchain. ... [| Skaityti daugiau](https://cointelegraph.com/news/malaysia-s-central-bank-actively-assessing-cbdc-options) "
      ],
      "text/plain": [
       "<IPython.core.display.Markdown object>"
      ]
     },
     "execution_count": 3,
     "metadata": {},
     "output_type": "execute_result"
    }
   ],
   "source": [
    "#hide_input\n",
    "#md('##### {}'.format(titleBTC)) \n",
    "md(\"- {}{} {}{} [| Skaityti daugiau]({}) \".format(blockchain['title'],'. ', blockchain['body'], ' ...', blockchain['url']))"
   ]
  },
  {
   "cell_type": "code",
   "execution_count": 4,
   "id": "aging-caution",
   "metadata": {
    "execution": {
     "iopub.execute_input": "2022-01-18T02:11:21.597163Z",
     "iopub.status.busy": "2022-01-18T02:11:21.596567Z",
     "iopub.status.idle": "2022-01-18T02:11:21.598775Z",
     "shell.execute_reply": "2022-01-18T02:11:21.599215Z"
    },
    "papermill": {
     "duration": 0.020279,
     "end_time": "2022-01-18T02:11:21.599365",
     "exception": false,
     "start_time": "2022-01-18T02:11:21.579086",
     "status": "completed"
    },
    "tags": []
   },
   "outputs": [
    {
     "data": {
      "text/markdown": [
       "- What The World Learned About Bitcoin In 2021.  Four lessons learned in 2021 speak to the universal truths about Bitcoin and why our world needs it. ... [| Skaityti daugiau](https://bitcoinmagazine.com/culture/what-we-learned-about-bitcoin-in-2021) "
      ],
      "text/plain": [
       "<IPython.core.display.Markdown object>"
      ]
     },
     "execution_count": 4,
     "metadata": {},
     "output_type": "execute_result"
    }
   ],
   "source": [
    "#hide_input\n",
    "#md('##### {}'.format(titleBTC)) \n",
    "md(\"- {}{} {}{} [| Skaityti daugiau]({}) \".format(btc['title'],'. ', btc['body'], ' ...', btc['url']))"
   ]
  },
  {
   "cell_type": "code",
   "execution_count": 5,
   "id": "organic-actress",
   "metadata": {
    "execution": {
     "iopub.execute_input": "2022-01-18T02:11:21.625695Z",
     "iopub.status.busy": "2022-01-18T02:11:21.625097Z",
     "iopub.status.idle": "2022-01-18T02:11:21.627516Z",
     "shell.execute_reply": "2022-01-18T02:11:21.627938Z"
    },
    "papermill": {
     "duration": 0.018462,
     "end_time": "2022-01-18T02:11:21.628082",
     "exception": false,
     "start_time": "2022-01-18T02:11:21.609620",
     "status": "completed"
    },
    "tags": []
   },
   "outputs": [
    {
     "data": {
      "text/markdown": [
       "- Ripple is giving SEC more Trouble than Anyone in Crypto.” Attorney Chervinsky.  Ripple has come under fire for its funding of research targeted at disparaging Bitcoin. Amidst the backlash, some crypto proponents have pointed out that Ripple remains one of the key parties fighting for the industry to get regulatory clarity. Ripple receives commendation for facing up to the SEC Ripple has been embroiled in a legal The post Ripple is giving SEC more Trouble than Anyone in Crypto.&#8221; Attorney Chervinsky appeared first on CoinGape. ... [| Skaityti daugiau](https://coingape.com/ripple-is-giving-sec-more-trouble-than-anyone-in-crypto-attorney-chervinsky/) "
      ],
      "text/plain": [
       "<IPython.core.display.Markdown object>"
      ]
     },
     "execution_count": 5,
     "metadata": {},
     "output_type": "execute_result"
    }
   ],
   "source": [
    "#hide_input\n",
    "#md('##### {}'.format(titleBTC)) \n",
    "md(\"- {}{} {}{} [| Skaityti daugiau]({}) \".format(xrp['title'],'. ', xrp['body'], ' ...', xrp['url']))"
   ]
  },
  {
   "cell_type": "code",
   "execution_count": 6,
   "id": "prompt-farmer",
   "metadata": {
    "execution": {
     "iopub.execute_input": "2022-01-18T02:11:21.655454Z",
     "iopub.status.busy": "2022-01-18T02:11:21.654797Z",
     "iopub.status.idle": "2022-01-18T02:11:21.657827Z",
     "shell.execute_reply": "2022-01-18T02:11:21.657296Z"
    },
    "papermill": {
     "duration": 0.019217,
     "end_time": "2022-01-18T02:11:21.657948",
     "exception": false,
     "start_time": "2022-01-18T02:11:21.638731",
     "status": "completed"
    },
    "tags": []
   },
   "outputs": [
    {
     "data": {
      "text/markdown": [
       "- Tron, Cosmos, Fantom Price Analysis: 16 January.  While the broader market refrained from high volatility in the past 24-hours, Cosmos and Fantom eyed to retest their ATH level. Their near-term technicals chose the buyers. But both their CMFs could barely cross the equilibrium. Similarly, Tron saw overbought readings on the Bolinger bands and saw a near-term pullback. Tron (TRX) The buyers finally [&#8230;] ... [| Skaityti daugiau](https://ambcrypto.com/tron-cosmos-fantom-price-analysis-16-january/) "
      ],
      "text/plain": [
       "<IPython.core.display.Markdown object>"
      ]
     },
     "execution_count": 6,
     "metadata": {},
     "output_type": "execute_result"
    }
   ],
   "source": [
    "#hide_input\n",
    "#md('##### {}'.format(titleBTC)) \n",
    "md(\"- {}{} {}{} [| Skaityti daugiau]({}) \".format(trx['title'],'. ', trx['body'], ' ...', trx['url']))"
   ]
  },
  {
   "cell_type": "code",
   "execution_count": 7,
   "id": "illegal-greece",
   "metadata": {
    "execution": {
     "iopub.execute_input": "2022-01-18T02:11:21.686170Z",
     "iopub.status.busy": "2022-01-18T02:11:21.685604Z",
     "iopub.status.idle": "2022-01-18T02:11:21.688402Z",
     "shell.execute_reply": "2022-01-18T02:11:21.688851Z"
    },
    "papermill": {
     "duration": 0.01998,
     "end_time": "2022-01-18T02:11:21.688997",
     "exception": false,
     "start_time": "2022-01-18T02:11:21.669017",
     "status": "completed"
    },
    "tags": []
   },
   "outputs": [
    {
     "data": {
      "text/markdown": [
       "- Altcoins Are Encroaching On Bitcoin’s Dominance On Digital Payments.  Bitcoin has dominated the digital payments space for the longest time and continues to do so. However, this dominance is on the decline as more altcoins are being chosen as the preferred digital currencies for payments. This has mainly been due to cheaper fees resulting from network congestion when the price gets too high. Instead, cryptocurrencies whose fees can range from a few cents to fractions of a cent are now favored by merchants. Altcoins Are Taking Market Share From Bitcoin Crypto payments processor BitPay recently released a report outlining the percentages each crypto commanded in the crypto payments space. As expected, Bitcoin dominated the list but what was important to note from the report was how much the pioneer cryptocurrency’s dominance over this space dropped in the space of a year. Between 2020 and 2021, bitcoin lost about 27% dominance. Related Reading &#124; Why Sovereign Nation States May Begin Acquiring Bitcoin In 2022 Back in 2020, the company had reported that bitcoin made up for 92% of all digital payments being carried out on the platform. In 2021, this number was at 65% and is expected to continue to drop as merchants move to altcoins for payments. Bitcoin market dominance down below 40% &#124; Source: Market Cap BTC Dominance on TradingView.com &#160; The use of Ethereum as a payment method was up, accounting for 15% of the total transactions carried out on the platform. Stablecoins made a big spl... ... [| Skaityti daugiau](https://www.newsbtc.com/news/bitcoin/altcoins-are-encroaching-on-bitcoins-dominance-on-digital-payments/) "
      ],
      "text/plain": [
       "<IPython.core.display.Markdown object>"
      ]
     },
     "execution_count": 7,
     "metadata": {},
     "output_type": "execute_result"
    }
   ],
   "source": [
    "#hide_input\n",
    "#md('##### {}'.format(titleBTC)) \n",
    "md(\"- {}{} {}{} [| Skaityti daugiau]({}) \".format(eth['title'],'. ', eth['body'], ' ...', eth['url']))"
   ]
  },
  {
   "cell_type": "code",
   "execution_count": 8,
   "id": "sublime-lounge",
   "metadata": {
    "execution": {
     "iopub.execute_input": "2022-01-18T02:11:21.723382Z",
     "iopub.status.busy": "2022-01-18T02:11:21.722671Z",
     "iopub.status.idle": "2022-01-18T02:11:21.725300Z",
     "shell.execute_reply": "2022-01-18T02:11:21.725768Z"
    },
    "papermill": {
     "duration": 0.019989,
     "end_time": "2022-01-18T02:11:21.725917",
     "exception": false,
     "start_time": "2022-01-18T02:11:21.705928",
     "status": "completed"
    },
    "tags": []
   },
   "outputs": [
    {
     "data": {
      "text/markdown": [
       "- Cardano: Prominent Crypto Analyst Explains How to Trade $ADA as It Surges.  Popular cryptocurrency analyst Michaël van de Poppe has revealed he believes the price of Cardano ($ADA) has bottomed out after dipping to $1 and is now “targeting” a rally toward the $2 mark as investors move in. In a new update shared on the Google-owned platform YouTube, van de Poppe has noted that Cardano is […] ... [| Skaityti daugiau](https://www.cryptoglobe.com/latest/2022/01/cardano-prominent-crypto-analyst-explains-how-to-trade-ada-as-it-surges/) "
      ],
      "text/plain": [
       "<IPython.core.display.Markdown object>"
      ]
     },
     "execution_count": 8,
     "metadata": {},
     "output_type": "execute_result"
    }
   ],
   "source": [
    "#hide_input\n",
    "#md('##### {}'.format(titleBTC)) \n",
    "md(\"- {}{} {}{} [| Skaityti daugiau]({}) \".format(ada['title'],'. ', ada['body'], ' ...', ada['url']))"
   ]
  },
  {
   "cell_type": "code",
   "execution_count": 9,
   "id": "specified-ordering",
   "metadata": {
    "execution": {
     "iopub.execute_input": "2022-01-18T02:11:21.755486Z",
     "iopub.status.busy": "2022-01-18T02:11:21.754890Z",
     "iopub.status.idle": "2022-01-18T02:11:21.758054Z",
     "shell.execute_reply": "2022-01-18T02:11:21.758503Z"
    },
    "papermill": {
     "duration": 0.02084,
     "end_time": "2022-01-18T02:11:21.758658",
     "exception": false,
     "start_time": "2022-01-18T02:11:21.737818",
     "status": "completed"
    },
    "tags": []
   },
   "outputs": [
    {
     "data": {
      "text/markdown": [
       "- South Korean Crypto Exchanges Face AML Probes as Regulators Test Compliance.  South Korean regulators are set to probe the nation’s four biggest crypto exchanges to test their anti-money laundering (AML) capabilities. The exchanges – Korbit, Upbit, Coinone, and Bithumb – are the only trading platforms that operate fiat KRW markets and received their operating permits from the Financial Intelligence Unit (FIU) late last year. The latter is an agency that answers to the Financial Services Commission (FSC), the top financial regulator....Read More: South Korean Crypto Exchanges Face AML Probes as Regulators Test Compliance ... [| Skaityti daugiau](https://cryptonews.com/news/south-korean-crypto-exchanges-face-aml-probes-as-regulators-test-compliance.htm) "
      ],
      "text/plain": [
       "<IPython.core.display.Markdown object>"
      ]
     },
     "execution_count": 9,
     "metadata": {},
     "output_type": "execute_result"
    }
   ],
   "source": [
    "#hide_input\n",
    "#md('##### {}'.format(titleBTC)) \n",
    "md(\"- {}{} {}{} [| Skaityti daugiau]({}) \".format(exchange['title'],'. ', exchange['body'], ' ...', exchange['url']))"
   ]
  },
  {
   "cell_type": "code",
   "execution_count": null,
   "id": "tender-livestock",
   "metadata": {
    "papermill": {
     "duration": 0.012019,
     "end_time": "2022-01-18T02:11:21.782605",
     "exception": false,
     "start_time": "2022-01-18T02:11:21.770586",
     "status": "completed"
    },
    "tags": []
   },
   "outputs": [],
   "source": []
  },
  {
   "cell_type": "code",
   "execution_count": null,
   "id": "appreciated-diamond",
   "metadata": {
    "papermill": {
     "duration": 0.011603,
     "end_time": "2022-01-18T02:11:21.805767",
     "exception": false,
     "start_time": "2022-01-18T02:11:21.794164",
     "status": "completed"
    },
    "tags": []
   },
   "outputs": [],
   "source": []
  },
  {
   "cell_type": "code",
   "execution_count": null,
   "id": "romance-sweden",
   "metadata": {
    "papermill": {
     "duration": 0.011557,
     "end_time": "2022-01-18T02:11:21.828929",
     "exception": false,
     "start_time": "2022-01-18T02:11:21.817372",
     "status": "completed"
    },
    "tags": []
   },
   "outputs": [],
   "source": []
  },
  {
   "cell_type": "code",
   "execution_count": null,
   "id": "dietary-statistics",
   "metadata": {
    "papermill": {
     "duration": 0.011578,
     "end_time": "2022-01-18T02:11:21.852168",
     "exception": false,
     "start_time": "2022-01-18T02:11:21.840590",
     "status": "completed"
    },
    "tags": []
   },
   "outputs": [],
   "source": []
  }
 ],
 "metadata": {
  "kernelspec": {
   "display_name": "Python 3",
   "language": "python",
   "name": "python3"
  },
  "language_info": {
   "codemirror_mode": {
    "name": "ipython",
    "version": 3
   },
   "file_extension": ".py",
   "mimetype": "text/x-python",
   "name": "python",
   "nbconvert_exporter": "python",
   "pygments_lexer": "ipython3",
   "version": "3.6.15"
  },
  "papermill": {
   "default_parameters": {},
   "duration": 13.344871,
   "end_time": "2022-01-18T02:11:22.486029",
   "environment_variables": {},
   "exception": null,
   "input_path": "Market-News.ipynb",
   "output_path": "Market-News.ipynb",
   "parameters": {},
   "start_time": "2022-01-18T02:11:09.141158",
   "version": "2.2.2"
  }
 },
 "nbformat": 4,
 "nbformat_minor": 5
}