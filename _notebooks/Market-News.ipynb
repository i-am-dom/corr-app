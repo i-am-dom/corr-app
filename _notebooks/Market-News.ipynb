{
 "cells": [
  {
   "cell_type": "markdown",
   "id": "short-greensboro",
   "metadata": {
    "papermill": {
     "duration": 0.012466,
     "end_time": "2022-08-16T03:20:09.900907",
     "exception": false,
     "start_time": "2022-08-16T03:20:09.888441",
     "status": "completed"
    },
    "tags": []
   },
   "source": [
    "# Kriptovaliutų naujienos"
   ]
  },
  {
   "cell_type": "code",
   "execution_count": 1,
   "id": "functioning-knowing",
   "metadata": {
    "execution": {
     "iopub.execute_input": "2022-08-16T03:20:09.929655Z",
     "iopub.status.busy": "2022-08-16T03:20:09.929074Z",
     "iopub.status.idle": "2022-08-16T03:20:11.075762Z",
     "shell.execute_reply": "2022-08-16T03:20:11.075275Z"
    },
    "papermill": {
     "duration": 1.16528,
     "end_time": "2022-08-16T03:20:11.075896",
     "exception": false,
     "start_time": "2022-08-16T03:20:09.910616",
     "status": "completed"
    },
    "tags": []
   },
   "outputs": [],
   "source": [
    "#hide_input\n",
    "import warnings\n",
    "warnings.filterwarnings('ignore')\n",
    "from scripts.read_data import read_api\n",
    "from scripts.read_data import read_news\n",
    "from scripts.read_data import read_covid\n",
    "import matplotlib.pyplot as plt \n",
    "from IPython.display import Markdown as md"
   ]
  },
  {
   "cell_type": "code",
   "execution_count": 2,
   "id": "shared-acceptance",
   "metadata": {
    "execution": {
     "iopub.execute_input": "2022-08-16T03:20:11.100613Z",
     "iopub.status.busy": "2022-08-16T03:20:11.099686Z",
     "iopub.status.idle": "2022-08-16T03:20:23.015278Z",
     "shell.execute_reply": "2022-08-16T03:20:23.014522Z"
    },
    "papermill": {
     "duration": 11.930198,
     "end_time": "2022-08-16T03:20:23.015393",
     "exception": false,
     "start_time": "2022-08-16T03:20:11.085195",
     "status": "completed"
    },
    "tags": []
   },
   "outputs": [],
   "source": [
    "#hide_input\n",
    "blockchain = read_news('blockchain') \n",
    "btc = read_news('btc') \n",
    "xrp = read_news('xrp') \n",
    "trx = read_news('trx') \n",
    "eth = read_news('eth')  \n",
    "ada = read_news('ada')\n",
    "exchange = read_news('exchange') "
   ]
  },
  {
   "cell_type": "code",
   "execution_count": 3,
   "id": "synthetic-notion",
   "metadata": {
    "execution": {
     "iopub.execute_input": "2022-08-16T03:20:23.040194Z",
     "iopub.status.busy": "2022-08-16T03:20:23.039601Z",
     "iopub.status.idle": "2022-08-16T03:20:23.042709Z",
     "shell.execute_reply": "2022-08-16T03:20:23.042250Z"
    },
    "papermill": {
     "duration": 0.018112,
     "end_time": "2022-08-16T03:20:23.042817",
     "exception": false,
     "start_time": "2022-08-16T03:20:23.024705",
     "status": "completed"
    },
    "tags": []
   },
   "outputs": [
    {
     "data": {
      "text/markdown": [
       "- STEPN: Should investors aim for Lambo with GMT in their portfolio.  Play-to-earn blockchain gaming platforms were among the most impacted by the bloodbath that plagued the cryptocurrency market in the first half of the year. With dwindling gamers’ interest aggravated by the downturn of the market and the general doubts surrounding the viability of the play-to-earn business model, platforms like STEPN have had to deal with [&#8230;] ... [| Skaityti daugiau](https://ambcrypto.com/stepn-should-investors-aim-for-lambo-with-gmt-in-their-portfolio/) "
      ],
      "text/plain": [
       "<IPython.core.display.Markdown object>"
      ]
     },
     "execution_count": 3,
     "metadata": {},
     "output_type": "execute_result"
    }
   ],
   "source": [
    "#hide_input\n",
    "#md('##### {}'.format(titleBTC)) \n",
    "md(\"- {}{} {}{} [| Skaityti daugiau]({}) \".format(blockchain['title'],'. ', blockchain['body'], ' ...', blockchain['url']))"
   ]
  },
  {
   "cell_type": "code",
   "execution_count": 4,
   "id": "aging-caution",
   "metadata": {
    "execution": {
     "iopub.execute_input": "2022-08-16T03:20:23.066531Z",
     "iopub.status.busy": "2022-08-16T03:20:23.065804Z",
     "iopub.status.idle": "2022-08-16T03:20:23.069500Z",
     "shell.execute_reply": "2022-08-16T03:20:23.069930Z"
    },
    "papermill": {
     "duration": 0.016963,
     "end_time": "2022-08-16T03:20:23.070048",
     "exception": false,
     "start_time": "2022-08-16T03:20:23.053085",
     "status": "completed"
    },
    "tags": []
   },
   "outputs": [
    {
     "data": {
      "text/markdown": [
       "- Bitcoin Is Mathematically Perfect With Patterns Of The Universe.  There are mathematical patterns throughout Bitcoin that repeatedly result in the numbers 3, 6 and 9, which show it may be the key to the universe. ... [| Skaityti daugiau](https://bitcoinmagazine.com/culture/the-universe-shows-bitcoin-is-mathematically-perfect) "
      ],
      "text/plain": [
       "<IPython.core.display.Markdown object>"
      ]
     },
     "execution_count": 4,
     "metadata": {},
     "output_type": "execute_result"
    }
   ],
   "source": [
    "#hide_input\n",
    "#md('##### {}'.format(titleBTC)) \n",
    "md(\"- {}{} {}{} [| Skaityti daugiau]({}) \".format(btc['title'],'. ', btc['body'], ' ...', btc['url']))"
   ]
  },
  {
   "cell_type": "code",
   "execution_count": 5,
   "id": "organic-actress",
   "metadata": {
    "execution": {
     "iopub.execute_input": "2022-08-16T03:20:23.094300Z",
     "iopub.status.busy": "2022-08-16T03:20:23.093732Z",
     "iopub.status.idle": "2022-08-16T03:20:23.097056Z",
     "shell.execute_reply": "2022-08-16T03:20:23.096514Z"
    },
    "papermill": {
     "duration": 0.017328,
     "end_time": "2022-08-16T03:20:23.097160",
     "exception": false,
     "start_time": "2022-08-16T03:20:23.079832",
     "status": "completed"
    },
    "tags": []
   },
   "outputs": [
    {
     "data": {
      "text/markdown": [
       "- Cardano (ADA) Flips XRP After 4% Price Spike.  How fast can bulls recover after today's fall? ... [| Skaityti daugiau](https://u.today/btc-eth-and-xrp-price-analysis-for-august-15) "
      ],
      "text/plain": [
       "<IPython.core.display.Markdown object>"
      ]
     },
     "execution_count": 5,
     "metadata": {},
     "output_type": "execute_result"
    }
   ],
   "source": [
    "#hide_input\n",
    "#md('##### {}'.format(titleBTC)) \n",
    "md(\"- {}{} {}{} [| Skaityti daugiau]({}) \".format(xrp['title'],'. ', xrp['body'], ' ...', xrp['url']))"
   ]
  },
  {
   "cell_type": "code",
   "execution_count": 6,
   "id": "prompt-farmer",
   "metadata": {
    "execution": {
     "iopub.execute_input": "2022-08-16T03:20:23.122409Z",
     "iopub.status.busy": "2022-08-16T03:20:23.121837Z",
     "iopub.status.idle": "2022-08-16T03:20:23.124872Z",
     "shell.execute_reply": "2022-08-16T03:20:23.124424Z"
    },
    "papermill": {
     "duration": 0.017676,
     "end_time": "2022-08-16T03:20:23.124970",
     "exception": false,
     "start_time": "2022-08-16T03:20:23.107294",
     "status": "completed"
    },
    "tags": []
   },
   "outputs": [
    {
     "data": {
      "text/markdown": [
       "- How long until TRX investors notice what the altcoin is missing out on.  As the market&#8217;s crypto-assets get on board with Ethereum&#8217;s pump, Tron’s TRX continues to falter. In fact, according to CoinMarketCap, TRX is among the leading tokens to register losses over the week. While the altcoin has dropped by a mere 0.25% over the past week, other assets have surged to prominence. This consolidation further highlights [&#8230;] ... [| Skaityti daugiau](https://ambcrypto.com/how-long-until-trx-investors-notice-what-the-altcoin-is-missing-out-on/) "
      ],
      "text/plain": [
       "<IPython.core.display.Markdown object>"
      ]
     },
     "execution_count": 6,
     "metadata": {},
     "output_type": "execute_result"
    }
   ],
   "source": [
    "#hide_input\n",
    "#md('##### {}'.format(titleBTC)) \n",
    "md(\"- {}{} {}{} [| Skaityti daugiau]({}) \".format(trx['title'],'. ', trx['body'], ' ...', trx['url']))"
   ]
  },
  {
   "cell_type": "code",
   "execution_count": 7,
   "id": "illegal-greece",
   "metadata": {
    "execution": {
     "iopub.execute_input": "2022-08-16T03:20:23.150710Z",
     "iopub.status.busy": "2022-08-16T03:20:23.150123Z",
     "iopub.status.idle": "2022-08-16T03:20:23.153124Z",
     "shell.execute_reply": "2022-08-16T03:20:23.152594Z"
    },
    "papermill": {
     "duration": 0.017777,
     "end_time": "2022-08-16T03:20:23.153223",
     "exception": false,
     "start_time": "2022-08-16T03:20:23.135446",
     "status": "completed"
    },
    "tags": []
   },
   "outputs": [
    {
     "data": {
      "text/markdown": [
       "- Ethereum HODLers bullish ahead of Merge might be mistaken as per….  The largest altcoin has continued to take important steps concerning preparation ahead of the Merge. But Ethereum&#8217;s on-chain activity has barely seen any growth. And, you might ask is it calm before the storm, or just an overall crisis in the industry caused by the lack of inflows? Emptiness could be the answer On-chain activity [&#8230;] ... [| Skaityti daugiau](https://ambcrypto.com/ethereum-hodlers-bullish-ahead-of-merge-might-be-mistaken-as-per/) "
      ],
      "text/plain": [
       "<IPython.core.display.Markdown object>"
      ]
     },
     "execution_count": 7,
     "metadata": {},
     "output_type": "execute_result"
    }
   ],
   "source": [
    "#hide_input\n",
    "#md('##### {}'.format(titleBTC)) \n",
    "md(\"- {}{} {}{} [| Skaityti daugiau]({}) \".format(eth['title'],'. ', eth['body'], ' ...', eth['url']))"
   ]
  },
  {
   "cell_type": "code",
   "execution_count": 8,
   "id": "sublime-lounge",
   "metadata": {
    "execution": {
     "iopub.execute_input": "2022-08-16T03:20:23.180345Z",
     "iopub.status.busy": "2022-08-16T03:20:23.179773Z",
     "iopub.status.idle": "2022-08-16T03:20:23.182841Z",
     "shell.execute_reply": "2022-08-16T03:20:23.182372Z"
    },
    "papermill": {
     "duration": 0.018009,
     "end_time": "2022-08-16T03:20:23.182942",
     "exception": false,
     "start_time": "2022-08-16T03:20:23.164933",
     "status": "completed"
    },
    "tags": []
   },
   "outputs": [
    {
     "data": {
      "text/markdown": [
       "- Cardano price analysis: ADA faces bearish pull back after hitting $0.55 resistance.  Cardano price analysis shows price hitting roadblocks after breaching the previous resistance point at $0.55. ADA receded to as low as $0.5457 over the past 24 hours, enduring a 3 percent decline. Seller pressure seems to be building on the token after an impressive run over the past 3 days that took price to as &#8230;  Cardano price analysis: ADA faces bearish pull back after hitting $0.55 resistance Read More &#187; ... [| Skaityti daugiau](https://www.cryptopolitan.com/cardano-price-analysis-2022-08-15/) "
      ],
      "text/plain": [
       "<IPython.core.display.Markdown object>"
      ]
     },
     "execution_count": 8,
     "metadata": {},
     "output_type": "execute_result"
    }
   ],
   "source": [
    "#hide_input\n",
    "#md('##### {}'.format(titleBTC)) \n",
    "md(\"- {}{} {}{} [| Skaityti daugiau]({}) \".format(ada['title'],'. ', ada['body'], ' ...', ada['url']))"
   ]
  },
  {
   "cell_type": "code",
   "execution_count": 9,
   "id": "specified-ordering",
   "metadata": {
    "execution": {
     "iopub.execute_input": "2022-08-16T03:20:23.209489Z",
     "iopub.status.busy": "2022-08-16T03:20:23.208888Z",
     "iopub.status.idle": "2022-08-16T03:20:23.211886Z",
     "shell.execute_reply": "2022-08-16T03:20:23.211445Z"
    },
    "papermill": {
     "duration": 0.018061,
     "end_time": "2022-08-16T03:20:23.211986",
     "exception": false,
     "start_time": "2022-08-16T03:20:23.193925",
     "status": "completed"
    },
    "tags": []
   },
   "outputs": [
    {
     "data": {
      "text/markdown": [
       "- Shiba Inu Price Forms Cup And Handle Pattern, What Does This Mean?.  Shiba Inu Price had registered substantial gain over the last week. In the last 24 hours however, the coin moved down on its chart. The meme-coin had broken past its cup and handle pattern that was being formed for the past several months. This had pointed towards signs of bullishness. Despite a fall in Shiba Inu price, the technical outlook of the coin continued to remain positive at the time of writing. If Shiba Inu manages to remain above the $0.000015 level then the meme-coin could trade near the $0.000021 price mark. This meant that Shiba Inu price could rally by almost 50% in the upcoming days. Buying strength remained strong for the meme-coin. There needs to remain considerable buying strength in the market for Shiba to maintain its uptrend. This rally happened after Binance announced that it will add SHIB support on the payment cards which are issued in Europe. This has in turn increased Shiba Inu&#8217;s potential to help find new users in the crypto space. Shiba Inu Price: One Day Analysis SHIB was trading at $0.000015 at the time of writing. This is after Shiba Inu price broke above the cup and handle pattern. Shiba Inu&#8217;s cup and handle pattern means bullish momentum for the coin. A push from the buyers can help Shiba Inu price to propel higher. The immediate resistance for the coin stood at $0.000016. A fall from the current price level would drag the coin down to $0.00009. The amount of SHIB traded in the la... ... [| Skaityti daugiau](https://www.newsbtc.com/news/shiba-inu-price-forms-cup-and-handle-pattern-what-does-this-mean/) "
      ],
      "text/plain": [
       "<IPython.core.display.Markdown object>"
      ]
     },
     "execution_count": 9,
     "metadata": {},
     "output_type": "execute_result"
    }
   ],
   "source": [
    "#hide_input\n",
    "#md('##### {}'.format(titleBTC)) \n",
    "md(\"- {}{} {}{} [| Skaityti daugiau]({}) \".format(exchange['title'],'. ', exchange['body'], ' ...', exchange['url']))"
   ]
  },
  {
   "cell_type": "code",
   "execution_count": null,
   "id": "tender-livestock",
   "metadata": {
    "papermill": {
     "duration": 0.011325,
     "end_time": "2022-08-16T03:20:23.234597",
     "exception": false,
     "start_time": "2022-08-16T03:20:23.223272",
     "status": "completed"
    },
    "tags": []
   },
   "outputs": [],
   "source": []
  },
  {
   "cell_type": "code",
   "execution_count": null,
   "id": "appreciated-diamond",
   "metadata": {
    "papermill": {
     "duration": 0.01127,
     "end_time": "2022-08-16T03:20:23.257590",
     "exception": false,
     "start_time": "2022-08-16T03:20:23.246320",
     "status": "completed"
    },
    "tags": []
   },
   "outputs": [],
   "source": []
  },
  {
   "cell_type": "code",
   "execution_count": null,
   "id": "romance-sweden",
   "metadata": {
    "papermill": {
     "duration": 0.011173,
     "end_time": "2022-08-16T03:20:23.280054",
     "exception": false,
     "start_time": "2022-08-16T03:20:23.268881",
     "status": "completed"
    },
    "tags": []
   },
   "outputs": [],
   "source": []
  },
  {
   "cell_type": "code",
   "execution_count": null,
   "id": "dietary-statistics",
   "metadata": {
    "papermill": {
     "duration": 0.011124,
     "end_time": "2022-08-16T03:20:23.302531",
     "exception": false,
     "start_time": "2022-08-16T03:20:23.291407",
     "status": "completed"
    },
    "tags": []
   },
   "outputs": [],
   "source": []
  }
 ],
 "metadata": {
  "kernelspec": {
   "display_name": "Python 3",
   "language": "python",
   "name": "python3"
  },
  "language_info": {
   "codemirror_mode": {
    "name": "ipython",
    "version": 3
   },
   "file_extension": ".py",
   "mimetype": "text/x-python",
   "name": "python",
   "nbconvert_exporter": "python",
   "pygments_lexer": "ipython3",
   "version": "3.6.15"
  },
  "papermill": {
   "default_parameters": {},
   "duration": 14.750965,
   "end_time": "2022-08-16T03:20:23.731563",
   "environment_variables": {},
   "exception": null,
   "input_path": "Market-News.ipynb",
   "output_path": "Market-News.ipynb",
   "parameters": {},
   "start_time": "2022-08-16T03:20:08.980598",
   "version": "2.2.2"
  }
 },
 "nbformat": 4,
 "nbformat_minor": 5
}