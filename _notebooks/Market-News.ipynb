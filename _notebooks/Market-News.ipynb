{
 "cells": [
  {
   "cell_type": "markdown",
   "id": "short-greensboro",
   "metadata": {
    "papermill": {
     "duration": 0.013369,
     "end_time": "2022-08-07T03:04:54.550321",
     "exception": false,
     "start_time": "2022-08-07T03:04:54.536952",
     "status": "completed"
    },
    "tags": []
   },
   "source": [
    "# Kriptovaliutų naujienos"
   ]
  },
  {
   "cell_type": "code",
   "execution_count": 1,
   "id": "functioning-knowing",
   "metadata": {
    "execution": {
     "iopub.execute_input": "2022-08-07T03:04:54.583496Z",
     "iopub.status.busy": "2022-08-07T03:04:54.582805Z",
     "iopub.status.idle": "2022-08-07T03:04:55.872592Z",
     "shell.execute_reply": "2022-08-07T03:04:55.872058Z"
    },
    "papermill": {
     "duration": 1.311017,
     "end_time": "2022-08-07T03:04:55.872731",
     "exception": false,
     "start_time": "2022-08-07T03:04:54.561714",
     "status": "completed"
    },
    "tags": []
   },
   "outputs": [],
   "source": [
    "#hide_input\n",
    "import warnings\n",
    "warnings.filterwarnings('ignore')\n",
    "from scripts.read_data import read_api\n",
    "from scripts.read_data import read_news\n",
    "from scripts.read_data import read_covid\n",
    "import matplotlib.pyplot as plt \n",
    "from IPython.display import Markdown as md"
   ]
  },
  {
   "cell_type": "code",
   "execution_count": 2,
   "id": "shared-acceptance",
   "metadata": {
    "execution": {
     "iopub.execute_input": "2022-08-07T03:04:55.898514Z",
     "iopub.status.busy": "2022-08-07T03:04:55.897881Z",
     "iopub.status.idle": "2022-08-07T03:05:08.529378Z",
     "shell.execute_reply": "2022-08-07T03:05:08.530234Z"
    },
    "papermill": {
     "duration": 12.648188,
     "end_time": "2022-08-07T03:05:08.530394",
     "exception": false,
     "start_time": "2022-08-07T03:04:55.882206",
     "status": "completed"
    },
    "tags": []
   },
   "outputs": [],
   "source": [
    "#hide_input\n",
    "blockchain = read_news('blockchain') \n",
    "btc = read_news('btc') \n",
    "xrp = read_news('xrp') \n",
    "trx = read_news('trx') \n",
    "eth = read_news('eth')  \n",
    "ada = read_news('ada')\n",
    "exchange = read_news('exchange') "
   ]
  },
  {
   "cell_type": "code",
   "execution_count": 3,
   "id": "synthetic-notion",
   "metadata": {
    "execution": {
     "iopub.execute_input": "2022-08-07T03:05:08.555786Z",
     "iopub.status.busy": "2022-08-07T03:05:08.555140Z",
     "iopub.status.idle": "2022-08-07T03:05:08.558074Z",
     "shell.execute_reply": "2022-08-07T03:05:08.558506Z"
    },
    "papermill": {
     "duration": 0.018848,
     "end_time": "2022-08-07T03:05:08.558646",
     "exception": false,
     "start_time": "2022-08-07T03:05:08.539798",
     "status": "completed"
    },
    "tags": []
   },
   "outputs": [
    {
     "data": {
      "text/markdown": [
       "- NEAR’s security update has had this effect on investor confidence.  Solana was in the news recently after it addressed this week&#8217;s hack by underscoring the need to improve wallet address security. NEAR protocol promptly took note and has now taken action to improve security for all NEAR wallet users. In fact, NEAR recently revealed that it conducted a security review of wallets earlier this week. [&#8230;] ... [| Skaityti daugiau](https://ambcrypto.com/nears-security-update-has-had-this-effect-on-investor-confidence/) "
      ],
      "text/plain": [
       "<IPython.core.display.Markdown object>"
      ]
     },
     "execution_count": 3,
     "metadata": {},
     "output_type": "execute_result"
    }
   ],
   "source": [
    "#hide_input\n",
    "#md('##### {}'.format(titleBTC)) \n",
    "md(\"- {}{} {}{} [| Skaityti daugiau]({}) \".format(blockchain['title'],'. ', blockchain['body'], ' ...', blockchain['url']))"
   ]
  },
  {
   "cell_type": "code",
   "execution_count": 4,
   "id": "aging-caution",
   "metadata": {
    "execution": {
     "iopub.execute_input": "2022-08-07T03:05:08.583874Z",
     "iopub.status.busy": "2022-08-07T03:05:08.583160Z",
     "iopub.status.idle": "2022-08-07T03:05:08.585731Z",
     "shell.execute_reply": "2022-08-07T03:05:08.586295Z"
    },
    "papermill": {
     "duration": 0.018232,
     "end_time": "2022-08-07T03:05:08.586428",
     "exception": false,
     "start_time": "2022-08-07T03:05:08.568196",
     "status": "completed"
    },
    "tags": []
   },
   "outputs": [
    {
     "data": {
      "text/markdown": [
       "- Bitcoin, Ethereum, XRP, and Solana Daily Price Analyses – 6 August Roundup.  The global crypto market has seen a stark bearishness as it has shed a considerable amount. The mentioned changes have brought losses for most of the coins. The value of Bitcoin, Ethereum, and other coins/tokens is a downtrend. The result has been increased sell-offs, which have affected the investments. As the bearish pull has strengthened, &#8230;  Bitcoin, Ethereum, XRP, and Solana Daily Price Analyses – 6 August Roundup Read More &#187; ... [| Skaityti daugiau](https://www.cryptopolitan.com/bitcoin-ethereum-xrp-and-solana-daily-price-analyses-6-august-roundup/) "
      ],
      "text/plain": [
       "<IPython.core.display.Markdown object>"
      ]
     },
     "execution_count": 4,
     "metadata": {},
     "output_type": "execute_result"
    }
   ],
   "source": [
    "#hide_input\n",
    "#md('##### {}'.format(titleBTC)) \n",
    "md(\"- {}{} {}{} [| Skaityti daugiau]({}) \".format(btc['title'],'. ', btc['body'], ' ...', btc['url']))"
   ]
  },
  {
   "cell_type": "code",
   "execution_count": 5,
   "id": "organic-actress",
   "metadata": {
    "execution": {
     "iopub.execute_input": "2022-08-07T03:05:08.612065Z",
     "iopub.status.busy": "2022-08-07T03:05:08.611413Z",
     "iopub.status.idle": "2022-08-07T03:05:08.615425Z",
     "shell.execute_reply": "2022-08-07T03:05:08.614954Z"
    },
    "papermill": {
     "duration": 0.019193,
     "end_time": "2022-08-07T03:05:08.615545",
     "exception": false,
     "start_time": "2022-08-07T03:05:08.596352",
     "status": "completed"
    },
    "tags": []
   },
   "outputs": [
    {
     "data": {
      "text/markdown": [
       "- Bitcoin, Ethereum, XRP, and Solana Daily Price Analyses – 6 August Roundup.  The global crypto market has seen a stark bearishness as it has shed a considerable amount. The mentioned changes have brought losses for most of the coins. The value of Bitcoin, Ethereum, and other coins/tokens is a downtrend. The result has been increased sell-offs, which have affected the investments. As the bearish pull has strengthened, &#8230;  Bitcoin, Ethereum, XRP, and Solana Daily Price Analyses – 6 August Roundup Read More &#187; ... [| Skaityti daugiau](https://www.cryptopolitan.com/bitcoin-ethereum-xrp-and-solana-daily-price-analyses-6-august-roundup/) "
      ],
      "text/plain": [
       "<IPython.core.display.Markdown object>"
      ]
     },
     "execution_count": 5,
     "metadata": {},
     "output_type": "execute_result"
    }
   ],
   "source": [
    "#hide_input\n",
    "#md('##### {}'.format(titleBTC)) \n",
    "md(\"- {}{} {}{} [| Skaityti daugiau]({}) \".format(xrp['title'],'. ', xrp['body'], ' ...', xrp['url']))"
   ]
  },
  {
   "cell_type": "code",
   "execution_count": 6,
   "id": "prompt-farmer",
   "metadata": {
    "execution": {
     "iopub.execute_input": "2022-08-07T03:05:08.641735Z",
     "iopub.status.busy": "2022-08-07T03:05:08.641081Z",
     "iopub.status.idle": "2022-08-07T03:05:08.645115Z",
     "shell.execute_reply": "2022-08-07T03:05:08.644657Z"
    },
    "papermill": {
     "duration": 0.019537,
     "end_time": "2022-08-07T03:05:08.645235",
     "exception": false,
     "start_time": "2022-08-07T03:05:08.625698",
     "status": "completed"
    },
    "tags": []
   },
   "outputs": [
    {
     "data": {
      "text/markdown": [
       "- ‘Where, how’ of TRX bulls leveraging this pattern’s breakout potential.  Over the last six weeks, Tron&#8217;s [TRX] fluctuation was range bound in the $0.66-$0.07 zone. The decline from the $0.07 ceiling has affirmed a bullish continuation pattern in the 4-hour timeframe. The recent decline reinforced the near-term bearish efforts in pulling TRX toward its 200 EMA support (green). Furthermore, with the immediate support in the [&#8230;] ... [| Skaityti daugiau](https://ambcrypto.com/where-how-of-trx-bulls-leveraging-this-patterns-breakout-potential/) "
      ],
      "text/plain": [
       "<IPython.core.display.Markdown object>"
      ]
     },
     "execution_count": 6,
     "metadata": {},
     "output_type": "execute_result"
    }
   ],
   "source": [
    "#hide_input\n",
    "#md('##### {}'.format(titleBTC)) \n",
    "md(\"- {}{} {}{} [| Skaityti daugiau]({}) \".format(trx['title'],'. ', trx['body'], ' ...', trx['url']))"
   ]
  },
  {
   "cell_type": "code",
   "execution_count": 7,
   "id": "illegal-greece",
   "metadata": {
    "execution": {
     "iopub.execute_input": "2022-08-07T03:05:08.671961Z",
     "iopub.status.busy": "2022-08-07T03:05:08.671366Z",
     "iopub.status.idle": "2022-08-07T03:05:08.674326Z",
     "shell.execute_reply": "2022-08-07T03:05:08.674750Z"
    },
    "papermill": {
     "duration": 0.018998,
     "end_time": "2022-08-07T03:05:08.674906",
     "exception": false,
     "start_time": "2022-08-07T03:05:08.655908",
     "status": "completed"
    },
    "tags": []
   },
   "outputs": [
    {
     "data": {
      "text/markdown": [
       "- Bitcoin, Ethereum, XRP, and Solana Daily Price Analyses – 6 August Roundup.  The global crypto market has seen a stark bearishness as it has shed a considerable amount. The mentioned changes have brought losses for most of the coins. The value of Bitcoin, Ethereum, and other coins/tokens is a downtrend. The result has been increased sell-offs, which have affected the investments. As the bearish pull has strengthened, &#8230;  Bitcoin, Ethereum, XRP, and Solana Daily Price Analyses – 6 August Roundup Read More &#187; ... [| Skaityti daugiau](https://www.cryptopolitan.com/bitcoin-ethereum-xrp-and-solana-daily-price-analyses-6-august-roundup/) "
      ],
      "text/plain": [
       "<IPython.core.display.Markdown object>"
      ]
     },
     "execution_count": 7,
     "metadata": {},
     "output_type": "execute_result"
    }
   ],
   "source": [
    "#hide_input\n",
    "#md('##### {}'.format(titleBTC)) \n",
    "md(\"- {}{} {}{} [| Skaityti daugiau]({}) \".format(eth['title'],'. ', eth['body'], ' ...', eth['url']))"
   ]
  },
  {
   "cell_type": "code",
   "execution_count": 8,
   "id": "sublime-lounge",
   "metadata": {
    "execution": {
     "iopub.execute_input": "2022-08-07T03:05:08.703014Z",
     "iopub.status.busy": "2022-08-07T03:05:08.701706Z",
     "iopub.status.idle": "2022-08-07T03:05:08.706830Z",
     "shell.execute_reply": "2022-08-07T03:05:08.706315Z"
    },
    "papermill": {
     "duration": 0.020095,
     "end_time": "2022-08-07T03:05:08.706951",
     "exception": false,
     "start_time": "2022-08-07T03:05:08.686856",
     "status": "completed"
    },
    "tags": []
   },
   "outputs": [
    {
     "data": {
      "text/markdown": [
       "- Cardano: Here’s What’s New With the Ongoing Vasil Hard Fork.  Work continues to progress on Vasil hard fork ... [| Skaityti daugiau](https://u.today/cardano-heres-whats-new-with-ongoing-vasil-hard-fork) "
      ],
      "text/plain": [
       "<IPython.core.display.Markdown object>"
      ]
     },
     "execution_count": 8,
     "metadata": {},
     "output_type": "execute_result"
    }
   ],
   "source": [
    "#hide_input\n",
    "#md('##### {}'.format(titleBTC)) \n",
    "md(\"- {}{} {}{} [| Skaityti daugiau]({}) \".format(ada['title'],'. ', ada['body'], ' ...', ada['url']))"
   ]
  },
  {
   "cell_type": "code",
   "execution_count": 9,
   "id": "specified-ordering",
   "metadata": {
    "execution": {
     "iopub.execute_input": "2022-08-07T03:05:08.735310Z",
     "iopub.status.busy": "2022-08-07T03:05:08.734654Z",
     "iopub.status.idle": "2022-08-07T03:05:08.738458Z",
     "shell.execute_reply": "2022-08-07T03:05:08.737975Z"
    },
    "papermill": {
     "duration": 0.020538,
     "end_time": "2022-08-07T03:05:08.738573",
     "exception": false,
     "start_time": "2022-08-07T03:05:08.718035",
     "status": "completed"
    },
    "tags": []
   },
   "outputs": [
    {
     "data": {
      "text/markdown": [
       "- How to Delete a Binance Account.  Binance is one of the world’s top cryptoasset exchanges and the largest by trading volume. While the exchange, first launched by founder Changpeng Zhao in 2017, has roughly 30 million users, some clients occasionally find that they want to, or need to, delete their Binance account. Whether to take a break from crypto trading, change […] ... [| Skaityti daugiau](https://www.cryptoglobe.com/latest/2022/08/how-to-delete-a-binance-account/) "
      ],
      "text/plain": [
       "<IPython.core.display.Markdown object>"
      ]
     },
     "execution_count": 9,
     "metadata": {},
     "output_type": "execute_result"
    }
   ],
   "source": [
    "#hide_input\n",
    "#md('##### {}'.format(titleBTC)) \n",
    "md(\"- {}{} {}{} [| Skaityti daugiau]({}) \".format(exchange['title'],'. ', exchange['body'], ' ...', exchange['url']))"
   ]
  },
  {
   "cell_type": "code",
   "execution_count": null,
   "id": "tender-livestock",
   "metadata": {
    "papermill": {
     "duration": 0.011515,
     "end_time": "2022-08-07T03:05:08.761510",
     "exception": false,
     "start_time": "2022-08-07T03:05:08.749995",
     "status": "completed"
    },
    "tags": []
   },
   "outputs": [],
   "source": []
  },
  {
   "cell_type": "code",
   "execution_count": null,
   "id": "appreciated-diamond",
   "metadata": {
    "papermill": {
     "duration": 0.011874,
     "end_time": "2022-08-07T03:05:08.784922",
     "exception": false,
     "start_time": "2022-08-07T03:05:08.773048",
     "status": "completed"
    },
    "tags": []
   },
   "outputs": [],
   "source": []
  },
  {
   "cell_type": "code",
   "execution_count": null,
   "id": "romance-sweden",
   "metadata": {
    "papermill": {
     "duration": 0.011337,
     "end_time": "2022-08-07T03:05:08.807680",
     "exception": false,
     "start_time": "2022-08-07T03:05:08.796343",
     "status": "completed"
    },
    "tags": []
   },
   "outputs": [],
   "source": []
  },
  {
   "cell_type": "code",
   "execution_count": null,
   "id": "dietary-statistics",
   "metadata": {
    "papermill": {
     "duration": 0.011291,
     "end_time": "2022-08-07T03:05:08.830407",
     "exception": false,
     "start_time": "2022-08-07T03:05:08.819116",
     "status": "completed"
    },
    "tags": []
   },
   "outputs": [],
   "source": []
  }
 ],
 "metadata": {
  "kernelspec": {
   "display_name": "Python 3",
   "language": "python",
   "name": "python3"
  },
  "language_info": {
   "codemirror_mode": {
    "name": "ipython",
    "version": 3
   },
   "file_extension": ".py",
   "mimetype": "text/x-python",
   "name": "python",
   "nbconvert_exporter": "python",
   "pygments_lexer": "ipython3",
   "version": "3.6.15"
  },
  "papermill": {
   "default_parameters": {},
   "duration": 16.068109,
   "end_time": "2022-08-07T03:05:09.361895",
   "environment_variables": {},
   "exception": null,
   "input_path": "Market-News.ipynb",
   "output_path": "Market-News.ipynb",
   "parameters": {},
   "start_time": "2022-08-07T03:04:53.293786",
   "version": "2.2.2"
  }
 },
 "nbformat": 4,
 "nbformat_minor": 5
}