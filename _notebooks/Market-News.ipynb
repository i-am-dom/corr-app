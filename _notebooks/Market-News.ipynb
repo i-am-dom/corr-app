{
 "cells": [
  {
   "cell_type": "markdown",
   "id": "short-greensboro",
   "metadata": {
    "papermill": {
     "duration": 0.012764,
     "end_time": "2022-07-04T03:20:48.719427",
     "exception": false,
     "start_time": "2022-07-04T03:20:48.706663",
     "status": "completed"
    },
    "tags": []
   },
   "source": [
    "# Kriptovaliutų naujienos"
   ]
  },
  {
   "cell_type": "code",
   "execution_count": 1,
   "id": "functioning-knowing",
   "metadata": {
    "execution": {
     "iopub.execute_input": "2022-07-04T03:20:48.749379Z",
     "iopub.status.busy": "2022-07-04T03:20:48.748729Z",
     "iopub.status.idle": "2022-07-04T03:20:49.948347Z",
     "shell.execute_reply": "2022-07-04T03:20:49.948827Z"
    },
    "papermill": {
     "duration": 1.219504,
     "end_time": "2022-07-04T03:20:49.948983",
     "exception": false,
     "start_time": "2022-07-04T03:20:48.729479",
     "status": "completed"
    },
    "tags": []
   },
   "outputs": [],
   "source": [
    "#hide_input\n",
    "import warnings\n",
    "warnings.filterwarnings('ignore')\n",
    "from scripts.read_data import read_api\n",
    "from scripts.read_data import read_news\n",
    "from scripts.read_data import read_covid\n",
    "import matplotlib.pyplot as plt \n",
    "from IPython.display import Markdown as md"
   ]
  },
  {
   "cell_type": "code",
   "execution_count": 2,
   "id": "shared-acceptance",
   "metadata": {
    "execution": {
     "iopub.execute_input": "2022-07-04T03:20:49.974396Z",
     "iopub.status.busy": "2022-07-04T03:20:49.973801Z",
     "iopub.status.idle": "2022-07-04T03:21:01.348913Z",
     "shell.execute_reply": "2022-07-04T03:21:01.348426Z"
    },
    "papermill": {
     "duration": 11.390481,
     "end_time": "2022-07-04T03:21:01.349030",
     "exception": false,
     "start_time": "2022-07-04T03:20:49.958549",
     "status": "completed"
    },
    "tags": []
   },
   "outputs": [],
   "source": [
    "#hide_input\n",
    "blockchain = read_news('blockchain') \n",
    "btc = read_news('btc') \n",
    "xrp = read_news('xrp') \n",
    "trx = read_news('trx') \n",
    "eth = read_news('eth')  \n",
    "ada = read_news('ada')\n",
    "exchange = read_news('exchange') "
   ]
  },
  {
   "cell_type": "code",
   "execution_count": 3,
   "id": "synthetic-notion",
   "metadata": {
    "execution": {
     "iopub.execute_input": "2022-07-04T03:21:01.374933Z",
     "iopub.status.busy": "2022-07-04T03:21:01.374289Z",
     "iopub.status.idle": "2022-07-04T03:21:01.377589Z",
     "shell.execute_reply": "2022-07-04T03:21:01.377119Z"
    },
    "papermill": {
     "duration": 0.018915,
     "end_time": "2022-07-04T03:21:01.377701",
     "exception": false,
     "start_time": "2022-07-04T03:21:01.358786",
     "status": "completed"
    },
    "tags": []
   },
   "outputs": [
    {
     "data": {
      "text/markdown": [
       "- All You Need to Know About Optimism: Low Cost Layer 2 Blockchain Solution.  Optimism is the first Ethereum Layer 2 solution to develop an Optimistic network that is Ethereum Virtual Machine (EVM) compliant. It runs alongside Ethereum and can handle transactions at scale while inheriting Ethereum’s security. The word Optimistic Rollup comes from the manner transactions are handled. Transactions are assumed to be accurate by default, and no calculations are performed. To assure the legitimacy of the transactions, it uses a fraud-proof system. To know about Optimism in greater detail, continue reading. Fraud Proof System Working Verifiers (anyone running an Optimism network full node) can question the validity of transaction proposals given by sequencers. The rollup will do a check by conducting the transaction’s calculation on Ethereum. Before they are approved and transmitted to the Ethereum mainnet, transaction proposals can be disputed under the challenge time, set to one week for Optimism. The verifier is rewarded, while the sequencer is penalized if the proposal is found to be fake. Sequencers must have a pool of bonded ERC-20 tokens to collect the payouts. The needed coin in the instance of Optimism is ETH. This aligns incentives so that verifiers are rewarded for catching bad actors, and sequencers for only submitting proper transaction proposals. The false proposal is withdrawn and replaced with the correct proposal. The false proposed outcome of the transaction is eliminated, but the transactio... ... [| Skaityti daugiau](https://www.cryptoknowmics.com/news/all-you-need-to-know-about-optimism/?utm_source=rss&utm_medium=rss&utm_campaign=all-you-need-to-know-about-optimism) "
      ],
      "text/plain": [
       "<IPython.core.display.Markdown object>"
      ]
     },
     "execution_count": 3,
     "metadata": {},
     "output_type": "execute_result"
    }
   ],
   "source": [
    "#hide_input\n",
    "#md('##### {}'.format(titleBTC)) \n",
    "md(\"- {}{} {}{} [| Skaityti daugiau]({}) \".format(blockchain['title'],'. ', blockchain['body'], ' ...', blockchain['url']))"
   ]
  },
  {
   "cell_type": "code",
   "execution_count": 4,
   "id": "aging-caution",
   "metadata": {
    "execution": {
     "iopub.execute_input": "2022-07-04T03:21:01.405881Z",
     "iopub.status.busy": "2022-07-04T03:21:01.405296Z",
     "iopub.status.idle": "2022-07-04T03:21:01.408061Z",
     "shell.execute_reply": "2022-07-04T03:21:01.408488Z"
    },
    "papermill": {
     "duration": 0.02127,
     "end_time": "2022-07-04T03:21:01.408617",
     "exception": false,
     "start_time": "2022-07-04T03:21:01.387347",
     "status": "completed"
    },
    "tags": []
   },
   "outputs": [
    {
     "data": {
      "text/markdown": [
       "- Bitcoin, Ethereum, VeChain, and ApeCoin Daily Price Analyses – 03 July Roundup.  The changes in the global crypto market continue as it has been moving to and fro between gains and losses. The recent changes have brought Bitcoin, Ethereum, and others considerable gains. Though the changes are positive, there is no surety about how long this bullishness will continue. The recent months&#8217; track record shows it has... ... [| Skaityti daugiau](https://www.cryptopolitan.com/bitcoin-ethereum-vechain-and-apecoin-daily-price-analyses-03-july-roundup/) "
      ],
      "text/plain": [
       "<IPython.core.display.Markdown object>"
      ]
     },
     "execution_count": 4,
     "metadata": {},
     "output_type": "execute_result"
    }
   ],
   "source": [
    "#hide_input\n",
    "#md('##### {}'.format(titleBTC)) \n",
    "md(\"- {}{} {}{} [| Skaityti daugiau]({}) \".format(btc['title'],'. ', btc['body'], ' ...', btc['url']))"
   ]
  },
  {
   "cell_type": "code",
   "execution_count": 5,
   "id": "organic-actress",
   "metadata": {
    "execution": {
     "iopub.execute_input": "2022-07-04T03:21:01.433749Z",
     "iopub.status.busy": "2022-07-04T03:21:01.433110Z",
     "iopub.status.idle": "2022-07-04T03:21:01.436633Z",
     "shell.execute_reply": "2022-07-04T03:21:01.436194Z"
    },
    "papermill": {
     "duration": 0.018119,
     "end_time": "2022-07-04T03:21:01.436742",
     "exception": false,
     "start_time": "2022-07-04T03:21:01.418623",
     "status": "completed"
    },
    "tags": []
   },
   "outputs": [
    {
     "data": {
      "text/markdown": [
       "- XRP Technical Analysis: XRP/USD Pair Set to Break Above $0.3886 Resistance.  Key technical points: XRP technical analysis shows positive price trends. XRP/USD pair found resistance at $0.3886. Most indicators are bullish. Past Performance of XRP In the last 24 hours, XRP has been on an upward trend. The token started the day at $0.3818 and reached a high of $0.3902. At the time of writing, it is trading at $0.3167. Source-Tradingview XRP Technical Analysis Analyzing the momentum indicators, we see that the MACD is currently in the bullish territory as the fast-moving line crosses above the signal line. The RSI is also rising, which indicates that the token is in bullish territory. The price is above the 50-day and 200-day moving averages, which is a positive sign for the bulls. Looking at the hourly chart, we see that the XRP/USD pair has formed a descending triangle pattern which is a bearish sign. The price is currently trading near the triangle’s support at $0.3050. A breakout below this level can push the price towards $0.2750. Overall, the technical analysis shows that XRP is in a bullish trend in the short-term and is likely to continue its upward movement. Therefore, we believe that XRP is an excellent long-term investment and is likely to continue its upward trend soon. Upcoming Trend If XRP breaks out of the descending triangle pattern, it can retest the $0.3886 resistance level. A breakout above this level can push the price towards $0.4000. However, if XRP breaks below the support of the des... ... [| Skaityti daugiau](https://www.cryptoknowmics.com/news/xrp-technical-analysis-xrp-usd-pair-set-to-break-above-0-3886-resistance/?utm_source=rss&utm_medium=rss&utm_campaign=xrp-technical-analysis-xrp-usd-pair-set-to-break-above-0-3886-resistance) "
      ],
      "text/plain": [
       "<IPython.core.display.Markdown object>"
      ]
     },
     "execution_count": 5,
     "metadata": {},
     "output_type": "execute_result"
    }
   ],
   "source": [
    "#hide_input\n",
    "#md('##### {}'.format(titleBTC)) \n",
    "md(\"- {}{} {}{} [| Skaityti daugiau]({}) \".format(xrp['title'],'. ', xrp['body'], ' ...', xrp['url']))"
   ]
  },
  {
   "cell_type": "code",
   "execution_count": 6,
   "id": "prompt-farmer",
   "metadata": {
    "execution": {
     "iopub.execute_input": "2022-07-04T03:21:01.462712Z",
     "iopub.status.busy": "2022-07-04T03:21:01.462068Z",
     "iopub.status.idle": "2022-07-04T03:21:01.465348Z",
     "shell.execute_reply": "2022-07-04T03:21:01.464875Z"
    },
    "papermill": {
     "duration": 0.018379,
     "end_time": "2022-07-04T03:21:01.465461",
     "exception": false,
     "start_time": "2022-07-04T03:21:01.447082",
     "status": "completed"
    },
    "tags": []
   },
   "outputs": [
    {
     "data": {
      "text/markdown": [
       "- A full picture of Tron’s [TRX] price trajectory after this breakdown.  Disclaimer: The findings of the following analysis are the sole opinions of the writer and should not be considered investment advice After relishing a position above the EMA ribbons for a few weeks, the 61.8% Fibonacci resistance put Tron [TRX] back on its bearish track. The decline from the $0.08-level reignited the bearish efforts in pulling [&#8230;] ... [| Skaityti daugiau](https://ambcrypto.com/a-full-picture-of-trons-trx-price-trajectory-after-this-breakdown/) "
      ],
      "text/plain": [
       "<IPython.core.display.Markdown object>"
      ]
     },
     "execution_count": 6,
     "metadata": {},
     "output_type": "execute_result"
    }
   ],
   "source": [
    "#hide_input\n",
    "#md('##### {}'.format(titleBTC)) \n",
    "md(\"- {}{} {}{} [| Skaityti daugiau]({}) \".format(trx['title'],'. ', trx['body'], ' ...', trx['url']))"
   ]
  },
  {
   "cell_type": "code",
   "execution_count": 7,
   "id": "illegal-greece",
   "metadata": {
    "execution": {
     "iopub.execute_input": "2022-07-04T03:21:01.491781Z",
     "iopub.status.busy": "2022-07-04T03:21:01.491171Z",
     "iopub.status.idle": "2022-07-04T03:21:01.494672Z",
     "shell.execute_reply": "2022-07-04T03:21:01.495096Z"
    },
    "papermill": {
     "duration": 0.019015,
     "end_time": "2022-07-04T03:21:01.495232",
     "exception": false,
     "start_time": "2022-07-04T03:21:01.476217",
     "status": "completed"
    },
    "tags": []
   },
   "outputs": [
    {
     "data": {
      "text/markdown": [
       "- Bitcoin, Ethereum, VeChain, and ApeCoin Daily Price Analyses – 03 July Roundup.  The changes in the global crypto market continue as it has been moving to and fro between gains and losses. The recent changes have brought Bitcoin, Ethereum, and others considerable gains. Though the changes are positive, there is no surety about how long this bullishness will continue. The recent months&#8217; track record shows it has... ... [| Skaityti daugiau](https://www.cryptopolitan.com/bitcoin-ethereum-vechain-and-apecoin-daily-price-analyses-03-july-roundup/) "
      ],
      "text/plain": [
       "<IPython.core.display.Markdown object>"
      ]
     },
     "execution_count": 7,
     "metadata": {},
     "output_type": "execute_result"
    }
   ],
   "source": [
    "#hide_input\n",
    "#md('##### {}'.format(titleBTC)) \n",
    "md(\"- {}{} {}{} [| Skaityti daugiau]({}) \".format(eth['title'],'. ', eth['body'], ' ...', eth['url']))"
   ]
  },
  {
   "cell_type": "code",
   "execution_count": 8,
   "id": "sublime-lounge",
   "metadata": {
    "execution": {
     "iopub.execute_input": "2022-07-04T03:21:01.523243Z",
     "iopub.status.busy": "2022-07-04T03:21:01.522678Z",
     "iopub.status.idle": "2022-07-04T03:21:01.525747Z",
     "shell.execute_reply": "2022-07-04T03:21:01.526168Z"
    },
    "papermill": {
     "duration": 0.018948,
     "end_time": "2022-07-04T03:21:01.526287",
     "exception": false,
     "start_time": "2022-07-04T03:21:01.507339",
     "status": "completed"
    },
    "tags": []
   },
   "outputs": [
    {
     "data": {
      "text/markdown": [
       "- Fork of July: Cardano Vasil upgrade successfully launches on testnet.  With the Cardano testnet hard fork complete, all that remains is to fork the mainnet, which will come in about four weeks, or when developers have had enough time to prepare their tools for the upgrade. ... [| Skaityti daugiau](https://cointelegraph.com/news/fork-of-july-cardano-vasil-upgrade-successfully-launches-on-testnet) "
      ],
      "text/plain": [
       "<IPython.core.display.Markdown object>"
      ]
     },
     "execution_count": 8,
     "metadata": {},
     "output_type": "execute_result"
    }
   ],
   "source": [
    "#hide_input\n",
    "#md('##### {}'.format(titleBTC)) \n",
    "md(\"- {}{} {}{} [| Skaityti daugiau]({}) \".format(ada['title'],'. ', ada['body'], ' ...', ada['url']))"
   ]
  },
  {
   "cell_type": "code",
   "execution_count": 9,
   "id": "specified-ordering",
   "metadata": {
    "execution": {
     "iopub.execute_input": "2022-07-04T03:21:01.553655Z",
     "iopub.status.busy": "2022-07-04T03:21:01.553053Z",
     "iopub.status.idle": "2022-07-04T03:21:01.557226Z",
     "shell.execute_reply": "2022-07-04T03:21:01.556769Z"
    },
    "papermill": {
     "duration": 0.019813,
     "end_time": "2022-07-04T03:21:01.557329",
     "exception": false,
     "start_time": "2022-07-04T03:21:01.537516",
     "status": "completed"
    },
    "tags": []
   },
   "outputs": [
    {
     "data": {
      "text/markdown": [
       "- BNB chain, NFT market, and the untold tale of sales activity.  The world of digital assets has come crashing down in recent weeks. The NFT markets have taken the brunt. However, the markets are attempting a reversal with a recent surge in NFT sales. Now, you may ask who will be the new winner of the revamped NFT market? A shining light in this pool of [&#8230;] ... [| Skaityti daugiau](https://ambcrypto.com/bnb-chain-nft-market-and-the-untold-tale-of-sales-activity/) "
      ],
      "text/plain": [
       "<IPython.core.display.Markdown object>"
      ]
     },
     "execution_count": 9,
     "metadata": {},
     "output_type": "execute_result"
    }
   ],
   "source": [
    "#hide_input\n",
    "#md('##### {}'.format(titleBTC)) \n",
    "md(\"- {}{} {}{} [| Skaityti daugiau]({}) \".format(exchange['title'],'. ', exchange['body'], ' ...', exchange['url']))"
   ]
  },
  {
   "cell_type": "code",
   "execution_count": null,
   "id": "tender-livestock",
   "metadata": {
    "papermill": {
     "duration": 0.011535,
     "end_time": "2022-07-04T03:21:01.580411",
     "exception": false,
     "start_time": "2022-07-04T03:21:01.568876",
     "status": "completed"
    },
    "tags": []
   },
   "outputs": [],
   "source": []
  },
  {
   "cell_type": "code",
   "execution_count": null,
   "id": "appreciated-diamond",
   "metadata": {
    "papermill": {
     "duration": 0.011452,
     "end_time": "2022-07-04T03:21:01.603507",
     "exception": false,
     "start_time": "2022-07-04T03:21:01.592055",
     "status": "completed"
    },
    "tags": []
   },
   "outputs": [],
   "source": []
  },
  {
   "cell_type": "code",
   "execution_count": null,
   "id": "romance-sweden",
   "metadata": {
    "papermill": {
     "duration": 0.011391,
     "end_time": "2022-07-04T03:21:01.626415",
     "exception": false,
     "start_time": "2022-07-04T03:21:01.615024",
     "status": "completed"
    },
    "tags": []
   },
   "outputs": [],
   "source": []
  },
  {
   "cell_type": "code",
   "execution_count": null,
   "id": "dietary-statistics",
   "metadata": {
    "papermill": {
     "duration": 0.011458,
     "end_time": "2022-07-04T03:21:01.649400",
     "exception": false,
     "start_time": "2022-07-04T03:21:01.637942",
     "status": "completed"
    },
    "tags": []
   },
   "outputs": [],
   "source": []
  }
 ],
 "metadata": {
  "kernelspec": {
   "display_name": "Python 3",
   "language": "python",
   "name": "python3"
  },
  "language_info": {
   "codemirror_mode": {
    "name": "ipython",
    "version": 3
   },
   "file_extension": ".py",
   "mimetype": "text/x-python",
   "name": "python",
   "nbconvert_exporter": "python",
   "pygments_lexer": "ipython3",
   "version": "3.6.15"
  },
  "papermill": {
   "default_parameters": {},
   "duration": 14.401371,
   "end_time": "2022-07-04T03:21:02.078170",
   "environment_variables": {},
   "exception": null,
   "input_path": "Market-News.ipynb",
   "output_path": "Market-News.ipynb",
   "parameters": {},
   "start_time": "2022-07-04T03:20:47.676799",
   "version": "2.2.2"
  }
 },
 "nbformat": 4,
 "nbformat_minor": 5
}