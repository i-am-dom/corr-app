{
 "cells": [
  {
   "cell_type": "markdown",
   "id": "short-greensboro",
   "metadata": {
    "papermill": {
     "duration": 0.015441,
     "end_time": "2021-10-06T02:02:41.792690",
     "exception": false,
     "start_time": "2021-10-06T02:02:41.777249",
     "status": "completed"
    },
    "tags": []
   },
   "source": [
    "# Kriptovaliutų naujienos"
   ]
  },
  {
   "cell_type": "code",
   "execution_count": 1,
   "id": "functioning-knowing",
   "metadata": {
    "execution": {
     "iopub.execute_input": "2021-10-06T02:02:41.828843Z",
     "iopub.status.busy": "2021-10-06T02:02:41.828138Z",
     "iopub.status.idle": "2021-10-06T02:02:43.349221Z",
     "shell.execute_reply": "2021-10-06T02:02:43.348296Z"
    },
    "papermill": {
     "duration": 1.544737,
     "end_time": "2021-10-06T02:02:43.349396",
     "exception": false,
     "start_time": "2021-10-06T02:02:41.804659",
     "status": "completed"
    },
    "tags": []
   },
   "outputs": [],
   "source": [
    "#hide_input\n",
    "import warnings\n",
    "warnings.filterwarnings('ignore')\n",
    "from scripts.read_data import read_api\n",
    "from scripts.read_data import read_news\n",
    "from scripts.read_data import read_covid\n",
    "import matplotlib.pyplot as plt \n",
    "from IPython.display import Markdown as md"
   ]
  },
  {
   "cell_type": "code",
   "execution_count": 2,
   "id": "shared-acceptance",
   "metadata": {
    "execution": {
     "iopub.execute_input": "2021-10-06T02:02:43.380446Z",
     "iopub.status.busy": "2021-10-06T02:02:43.379731Z",
     "iopub.status.idle": "2021-10-06T02:02:51.841333Z",
     "shell.execute_reply": "2021-10-06T02:02:51.840719Z"
    },
    "papermill": {
     "duration": 8.480165,
     "end_time": "2021-10-06T02:02:51.841497",
     "exception": false,
     "start_time": "2021-10-06T02:02:43.361332",
     "status": "completed"
    },
    "tags": []
   },
   "outputs": [],
   "source": [
    "#hide_input\n",
    "blockchain = read_news('blockchain') \n",
    "btc = read_news('btc') \n",
    "xrp = read_news('xrp') \n",
    "trx = read_news('trx') \n",
    "eth = read_news('eth')  \n",
    "ada = read_news('ada')\n",
    "exchange = read_news('exchange') "
   ]
  },
  {
   "cell_type": "code",
   "execution_count": 3,
   "id": "synthetic-notion",
   "metadata": {
    "execution": {
     "iopub.execute_input": "2021-10-06T02:02:51.875718Z",
     "iopub.status.busy": "2021-10-06T02:02:51.874496Z",
     "iopub.status.idle": "2021-10-06T02:02:51.878461Z",
     "shell.execute_reply": "2021-10-06T02:02:51.877883Z"
    },
    "papermill": {
     "duration": 0.023703,
     "end_time": "2021-10-06T02:02:51.878595",
     "exception": false,
     "start_time": "2021-10-06T02:02:51.854892",
     "status": "completed"
    },
    "tags": []
   },
   "outputs": [
    {
     "data": {
      "text/markdown": [
       "- Grayscale Report Shows The Good, The Bad, And The Ugly Of The Cardano Network.  Cardano featured in the latest release of the Grayscale Building Blocks, a monthly publication from one of the leading crypto funds in the world. The report focused solely on the third-largest cryptocurrency by market cap. An exposé of sorts. The report went through various aspects of Cardano, including its creation, leadership, community, and so forth. Cardano is the third-largest holding of Grayscale in its GDLC Fund (Grayscale Digital Large Cap Fund). This is why the asset manager has taken a vested interest in the asset and is educating its investors on one of its largest crypto holdings. In the report, the pros and cons of the network are outlined. Along with the upgrades which are being carried out on the network to put it in a favorable position to compete with other large cryptocurrencies in the market. Competing With The Market As time went on, the way the Cardano network was structured had unveiled a flaw in its design. Once decentralized finance gained popularity, it became obvious that the blockchain would not be able to compete on the same level as Ethereum due to its lack of smart contracts capability. Developers had then begun to work on launching smart contracts capability on the network, which became a reality on September 12th, 2021. But it came years behind other leading smart contracts networks. Related Reading &#124; Charles Hoskinson To Launch Three-Time Grammy Nominee Paul Oakenfold’s Album On Cardano Wi... ... [| Skaityti daugiau](https://www.newsbtc.com/news/cardano/grayscale-report-on-cardano-network/) "
      ],
      "text/plain": [
       "<IPython.core.display.Markdown object>"
      ]
     },
     "execution_count": 3,
     "metadata": {},
     "output_type": "execute_result"
    }
   ],
   "source": [
    "#hide_input\n",
    "#md('##### {}'.format(titleBTC)) \n",
    "md(\"- {}{} {}{} [| Skaityti daugiau]({}) \".format(blockchain['title'],'. ', blockchain['body'], ' ...', blockchain['url']))"
   ]
  },
  {
   "cell_type": "code",
   "execution_count": 4,
   "id": "aging-caution",
   "metadata": {
    "execution": {
     "iopub.execute_input": "2021-10-06T02:02:51.908249Z",
     "iopub.status.busy": "2021-10-06T02:02:51.907530Z",
     "iopub.status.idle": "2021-10-06T02:02:51.912098Z",
     "shell.execute_reply": "2021-10-06T02:02:51.911525Z"
    },
    "papermill": {
     "duration": 0.02152,
     "end_time": "2021-10-06T02:02:51.912236",
     "exception": false,
     "start_time": "2021-10-06T02:02:51.890716",
     "status": "completed"
    },
    "tags": []
   },
   "outputs": [
    {
     "data": {
      "text/markdown": [
       "- Is THIS a highly anticipated price action scenario for Bitcoin.  Bitcoin continued its ongoing ascent at press time as it bounced off its previous resistance area. At the time of writing, it was trading past the $50k mark with a surge of 5% in 24 hours. Does it give a clear signal for a complete bullish scenario? Well, not really. At least for the short-term, [&#8230;] ... [| Skaityti daugiau](https://ambcrypto.com/is-this-the-highly-anticipated-price-action-scenario-for-bitcoin/) "
      ],
      "text/plain": [
       "<IPython.core.display.Markdown object>"
      ]
     },
     "execution_count": 4,
     "metadata": {},
     "output_type": "execute_result"
    }
   ],
   "source": [
    "#hide_input\n",
    "#md('##### {}'.format(titleBTC)) \n",
    "md(\"- {}{} {}{} [| Skaityti daugiau]({}) \".format(btc['title'],'. ', btc['body'], ' ...', btc['url']))"
   ]
  },
  {
   "cell_type": "code",
   "execution_count": 5,
   "id": "organic-actress",
   "metadata": {
    "execution": {
     "iopub.execute_input": "2021-10-06T02:02:51.942613Z",
     "iopub.status.busy": "2021-10-06T02:02:51.941924Z",
     "iopub.status.idle": "2021-10-06T02:02:51.948553Z",
     "shell.execute_reply": "2021-10-06T02:02:51.947988Z"
    },
    "papermill": {
     "duration": 0.023858,
     "end_time": "2021-10-06T02:02:51.948685",
     "exception": false,
     "start_time": "2021-10-06T02:02:51.924827",
     "status": "completed"
    },
    "tags": []
   },
   "outputs": [
    {
     "data": {
      "text/markdown": [
       "- The next 24 hours will see Solana, Avalanche tread this path.  Right from Bitcoin and Ethereum to Cardano and XRP, most of the large-cap alts rallied by more than 2% in the last 24-hours. However, Solana and Avalanche have remained quite complacent at their current levels of late. The former was up by merely a percent, while the latter was down by half-a-percent at press time [&#8230;] ... [| Skaityti daugiau](https://ambcrypto.com/solana-avalanche-will-these-alts-end-up-shedding-more-value-in-the-next-24-hours/) "
      ],
      "text/plain": [
       "<IPython.core.display.Markdown object>"
      ]
     },
     "execution_count": 5,
     "metadata": {},
     "output_type": "execute_result"
    }
   ],
   "source": [
    "#hide_input\n",
    "#md('##### {}'.format(titleBTC)) \n",
    "md(\"- {}{} {}{} [| Skaityti daugiau]({}) \".format(xrp['title'],'. ', xrp['body'], ' ...', xrp['url']))"
   ]
  },
  {
   "cell_type": "code",
   "execution_count": 6,
   "id": "prompt-farmer",
   "metadata": {
    "execution": {
     "iopub.execute_input": "2021-10-06T02:02:51.980011Z",
     "iopub.status.busy": "2021-10-06T02:02:51.979315Z",
     "iopub.status.idle": "2021-10-06T02:02:51.982600Z",
     "shell.execute_reply": "2021-10-06T02:02:51.983221Z"
    },
    "papermill": {
     "duration": 0.021796,
     "end_time": "2021-10-06T02:02:51.983403",
     "exception": false,
     "start_time": "2021-10-06T02:02:51.961607",
     "status": "completed"
    },
    "tags": []
   },
   "outputs": [
    {
     "data": {
      "text/markdown": [
       "- TRON Bounces Back from Its Swing Support Levels!.  TRON has hit a new two-day high and seems to have taken support from $0.082 levels. While the volumes so far haven&#8217;t been substantial, the continuation of this sentence is inevitably required for pushing the TRX prices to new highs. The trading range has been suppressed in a tight zone, which can be seen as &#8230; ... [| Skaityti daugiau](https://www.cryptonewsz.com/tron-bounces-back-from-its-swing-support-levels/) "
      ],
      "text/plain": [
       "<IPython.core.display.Markdown object>"
      ]
     },
     "execution_count": 6,
     "metadata": {},
     "output_type": "execute_result"
    }
   ],
   "source": [
    "#hide_input\n",
    "#md('##### {}'.format(titleBTC)) \n",
    "md(\"- {}{} {}{} [| Skaityti daugiau]({}) \".format(trx['title'],'. ', trx['body'], ' ...', trx['url']))"
   ]
  },
  {
   "cell_type": "code",
   "execution_count": 7,
   "id": "illegal-greece",
   "metadata": {
    "execution": {
     "iopub.execute_input": "2021-10-06T02:02:52.015550Z",
     "iopub.status.busy": "2021-10-06T02:02:52.014373Z",
     "iopub.status.idle": "2021-10-06T02:02:52.018660Z",
     "shell.execute_reply": "2021-10-06T02:02:52.019196Z"
    },
    "papermill": {
     "duration": 0.022177,
     "end_time": "2021-10-06T02:02:52.019339",
     "exception": false,
     "start_time": "2021-10-06T02:02:51.997162",
     "status": "completed"
    },
    "tags": []
   },
   "outputs": [
    {
     "data": {
      "text/markdown": [
       "- Is Bitcoin ready to shoulder the next-gen DeFi boom.  &#8220;Bitcoin is a system of software rules, with no rulers.&#8221; Alyse Killeen, the Managing Partner of StillMark, recently commented on the possibility of DeFi innovation on Bitcoin, in an interview with Blockworks. In the past, the DeFi boom in the industry has largely been on the back of Ethereum. However, the Bitcoin venture capitalist believes [&#8230;] ... [| Skaityti daugiau](https://ambcrypto.com/is-bitcoin-ready-to-shoulder-the-next-gen-defi-boom/) "
      ],
      "text/plain": [
       "<IPython.core.display.Markdown object>"
      ]
     },
     "execution_count": 7,
     "metadata": {},
     "output_type": "execute_result"
    }
   ],
   "source": [
    "#hide_input\n",
    "#md('##### {}'.format(titleBTC)) \n",
    "md(\"- {}{} {}{} [| Skaityti daugiau]({}) \".format(eth['title'],'. ', eth['body'], ' ...', eth['url']))"
   ]
  },
  {
   "cell_type": "code",
   "execution_count": 8,
   "id": "sublime-lounge",
   "metadata": {
    "execution": {
     "iopub.execute_input": "2021-10-06T02:02:52.051475Z",
     "iopub.status.busy": "2021-10-06T02:02:52.050761Z",
     "iopub.status.idle": "2021-10-06T02:02:52.054030Z",
     "shell.execute_reply": "2021-10-06T02:02:52.054606Z"
    },
    "papermill": {
     "duration": 0.021839,
     "end_time": "2021-10-06T02:02:52.054749",
     "exception": false,
     "start_time": "2021-10-06T02:02:52.032910",
     "status": "completed"
    },
    "tags": []
   },
   "outputs": [
    {
     "data": {
      "text/markdown": [
       "- Cardano ($ADA) Could Soon Start Outperforming Bitcoin, Technical Analyst Suggests.  Popular cryptocurrency analyst Michaël van de Poppe has revealed on social media that he believes that Cardano (ADA) is now ready to bounce off of lows against the flagship cryptocurrency bitcoin to move to new highs. In a chart shared with his over 430,000 followers on microblogging platform Twitter, Poppe showed that on the ADA/BTC […] ... [| Skaityti daugiau](https://www.cryptoglobe.com/latest/2021/10/cardano-ada-could-soon-start-outperforming-bitcoin-technical-analyst-suggests/) "
      ],
      "text/plain": [
       "<IPython.core.display.Markdown object>"
      ]
     },
     "execution_count": 8,
     "metadata": {},
     "output_type": "execute_result"
    }
   ],
   "source": [
    "#hide_input\n",
    "#md('##### {}'.format(titleBTC)) \n",
    "md(\"- {}{} {}{} [| Skaityti daugiau]({}) \".format(ada['title'],'. ', ada['body'], ' ...', ada['url']))"
   ]
  },
  {
   "cell_type": "code",
   "execution_count": 9,
   "id": "specified-ordering",
   "metadata": {
    "execution": {
     "iopub.execute_input": "2021-10-06T02:02:52.090432Z",
     "iopub.status.busy": "2021-10-06T02:02:52.089762Z",
     "iopub.status.idle": "2021-10-06T02:02:52.093215Z",
     "shell.execute_reply": "2021-10-06T02:02:52.092651Z"
    },
    "papermill": {
     "duration": 0.024222,
     "end_time": "2021-10-06T02:02:52.093351",
     "exception": false,
     "start_time": "2021-10-06T02:02:52.069129",
     "status": "completed"
    },
    "tags": []
   },
   "outputs": [
    {
     "data": {
      "text/markdown": [
       "- SEC's Gary Gensler says the U.S. won't ban crypto - Bloomberg.  Securities and Exchange Commission Chairman Gary Gensler says at a House hearing on Tuesday that the U.S. will not ban cryptocurrencies, but will focus on ensuring that the industry is fairly regulated, Bloomberg reports. This is despite the fact that Gensler sees crypto as a \"speculative asset that needs more regulation,\" as well as \"rife with fraud, scams, and abuse.\" \"Our approach is really quite different,\" any ban would probably have to be legislated by Congress, he adds, Bloomberg notes. Federal Reserve Chairman Jerome Powell seems to agree with Gensler as the Fed boss recently said he has no intention of banning cryptos, but stablecoins need more regulatory oversight. In contrast, China recently declared crypto transactions illegal, but it also seeks to launch its own central bank digital currency dubbed the digital Yuan. Speaking of crypto, bitcoin (BTC-USD) has broken above $50K and is now approaching $52K just a week ... [| Skaityti daugiau](https://seekingalpha.com/news/3749232-secs-gary-gensler-says-the-us-wont-ban-crypto-bloomberg?utm_source=cryptocompare.com&utm_medium=referral) "
      ],
      "text/plain": [
       "<IPython.core.display.Markdown object>"
      ]
     },
     "execution_count": 9,
     "metadata": {},
     "output_type": "execute_result"
    }
   ],
   "source": [
    "#hide_input\n",
    "#md('##### {}'.format(titleBTC)) \n",
    "md(\"- {}{} {}{} [| Skaityti daugiau]({}) \".format(exchange['title'],'. ', exchange['body'], ' ...', exchange['url']))"
   ]
  },
  {
   "cell_type": "code",
   "execution_count": null,
   "id": "tender-livestock",
   "metadata": {
    "papermill": {
     "duration": 0.014344,
     "end_time": "2021-10-06T02:02:52.121884",
     "exception": false,
     "start_time": "2021-10-06T02:02:52.107540",
     "status": "completed"
    },
    "tags": []
   },
   "outputs": [],
   "source": []
  },
  {
   "cell_type": "code",
   "execution_count": null,
   "id": "appreciated-diamond",
   "metadata": {
    "papermill": {
     "duration": 0.014595,
     "end_time": "2021-10-06T02:02:52.151331",
     "exception": false,
     "start_time": "2021-10-06T02:02:52.136736",
     "status": "completed"
    },
    "tags": []
   },
   "outputs": [],
   "source": []
  },
  {
   "cell_type": "code",
   "execution_count": null,
   "id": "romance-sweden",
   "metadata": {
    "papermill": {
     "duration": 0.013936,
     "end_time": "2021-10-06T02:02:52.179838",
     "exception": false,
     "start_time": "2021-10-06T02:02:52.165902",
     "status": "completed"
    },
    "tags": []
   },
   "outputs": [],
   "source": []
  },
  {
   "cell_type": "code",
   "execution_count": null,
   "id": "dietary-statistics",
   "metadata": {
    "papermill": {
     "duration": 0.014051,
     "end_time": "2021-10-06T02:02:52.207892",
     "exception": false,
     "start_time": "2021-10-06T02:02:52.193841",
     "status": "completed"
    },
    "tags": []
   },
   "outputs": [],
   "source": []
  }
 ],
 "metadata": {
  "kernelspec": {
   "display_name": "Python 3",
   "language": "python",
   "name": "python3"
  },
  "language_info": {
   "codemirror_mode": {
    "name": "ipython",
    "version": 3
   },
   "file_extension": ".py",
   "mimetype": "text/x-python",
   "name": "python",
   "nbconvert_exporter": "python",
   "pygments_lexer": "ipython3",
   "version": "3.6.15"
  },
  "papermill": {
   "default_parameters": {},
   "duration": 12.10057,
   "end_time": "2021-10-06T02:02:52.732670",
   "environment_variables": {},
   "exception": null,
   "input_path": "Market-News.ipynb",
   "output_path": "Market-News.ipynb",
   "parameters": {},
   "start_time": "2021-10-06T02:02:40.632100",
   "version": "2.2.2"
  }
 },
 "nbformat": 4,
 "nbformat_minor": 5
}