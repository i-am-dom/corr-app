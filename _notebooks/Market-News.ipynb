{
 "cells": [
  {
   "cell_type": "markdown",
   "id": "short-greensboro",
   "metadata": {
    "papermill": {
     "duration": 0.013002,
     "end_time": "2022-02-08T02:01:51.535428",
     "exception": false,
     "start_time": "2022-02-08T02:01:51.522426",
     "status": "completed"
    },
    "tags": []
   },
   "source": [
    "# Kriptovaliutų naujienos"
   ]
  },
  {
   "cell_type": "code",
   "execution_count": 1,
   "id": "functioning-knowing",
   "metadata": {
    "execution": {
     "iopub.execute_input": "2022-02-08T02:01:51.564257Z",
     "iopub.status.busy": "2022-02-08T02:01:51.563731Z",
     "iopub.status.idle": "2022-02-08T02:01:52.795252Z",
     "shell.execute_reply": "2022-02-08T02:01:52.794718Z"
    },
    "papermill": {
     "duration": 1.250272,
     "end_time": "2022-02-08T02:01:52.795405",
     "exception": false,
     "start_time": "2022-02-08T02:01:51.545133",
     "status": "completed"
    },
    "tags": []
   },
   "outputs": [],
   "source": [
    "#hide_input\n",
    "import warnings\n",
    "warnings.filterwarnings('ignore')\n",
    "from scripts.read_data import read_api\n",
    "from scripts.read_data import read_news\n",
    "from scripts.read_data import read_covid\n",
    "import matplotlib.pyplot as plt \n",
    "from IPython.display import Markdown as md"
   ]
  },
  {
   "cell_type": "code",
   "execution_count": 2,
   "id": "shared-acceptance",
   "metadata": {
    "execution": {
     "iopub.execute_input": "2022-02-08T02:01:52.820216Z",
     "iopub.status.busy": "2022-02-08T02:01:52.819694Z",
     "iopub.status.idle": "2022-02-08T02:02:03.225619Z",
     "shell.execute_reply": "2022-02-08T02:02:03.225077Z"
    },
    "papermill": {
     "duration": 10.420638,
     "end_time": "2022-02-08T02:02:03.225770",
     "exception": false,
     "start_time": "2022-02-08T02:01:52.805132",
     "status": "completed"
    },
    "tags": []
   },
   "outputs": [],
   "source": [
    "#hide_input\n",
    "blockchain = read_news('blockchain') \n",
    "btc = read_news('btc') \n",
    "xrp = read_news('xrp') \n",
    "trx = read_news('trx') \n",
    "eth = read_news('eth')  \n",
    "ada = read_news('ada')\n",
    "exchange = read_news('exchange') "
   ]
  },
  {
   "cell_type": "code",
   "execution_count": 3,
   "id": "synthetic-notion",
   "metadata": {
    "execution": {
     "iopub.execute_input": "2022-02-08T02:02:03.249936Z",
     "iopub.status.busy": "2022-02-08T02:02:03.249419Z",
     "iopub.status.idle": "2022-02-08T02:02:03.253616Z",
     "shell.execute_reply": "2022-02-08T02:02:03.253150Z"
    },
    "papermill": {
     "duration": 0.018574,
     "end_time": "2022-02-08T02:02:03.253719",
     "exception": false,
     "start_time": "2022-02-08T02:02:03.235145",
     "status": "completed"
    },
    "tags": []
   },
   "outputs": [
    {
     "data": {
      "text/markdown": [
       "- Solana congestion exposes yet more bugs — is the sun setting on SOL?.  [OKX Insights]Solana congestion exposes yet more bugs — is the sun setting on SOL?Solana congestion exposes yet more bugs — is the sun setting on SOL?最先出现在OKX Academy。 ... [| Skaityti daugiau](https://www.okx.com/academy/en/solana-blockchain-outages-and-liquidation-bot-network-congestion/) "
      ],
      "text/plain": [
       "<IPython.core.display.Markdown object>"
      ]
     },
     "execution_count": 3,
     "metadata": {},
     "output_type": "execute_result"
    }
   ],
   "source": [
    "#hide_input\n",
    "#md('##### {}'.format(titleBTC)) \n",
    "md(\"- {}{} {}{} [| Skaityti daugiau]({}) \".format(blockchain['title'],'. ', blockchain['body'], ' ...', blockchain['url']))"
   ]
  },
  {
   "cell_type": "code",
   "execution_count": 4,
   "id": "aging-caution",
   "metadata": {
    "execution": {
     "iopub.execute_input": "2022-02-08T02:02:03.277310Z",
     "iopub.status.busy": "2022-02-08T02:02:03.276706Z",
     "iopub.status.idle": "2022-02-08T02:02:03.279305Z",
     "shell.execute_reply": "2022-02-08T02:02:03.279712Z"
    },
    "papermill": {
     "duration": 0.016797,
     "end_time": "2022-02-08T02:02:03.279830",
     "exception": false,
     "start_time": "2022-02-08T02:02:03.263033",
     "status": "completed"
    },
    "tags": []
   },
   "outputs": [
    {
     "data": {
      "text/markdown": [
       "- FTX To Giveaway Free Bitcoin During The Super Bowl LVI.  FTX is giving away free bitcoin as part of a Super Bowl ad. But how much? Only time will tell... ... [| Skaityti daugiau](https://cryptopotato.com/ftx-to-giveaway-free-bitcoin-during-the-super-bowl-lvi/) "
      ],
      "text/plain": [
       "<IPython.core.display.Markdown object>"
      ]
     },
     "execution_count": 4,
     "metadata": {},
     "output_type": "execute_result"
    }
   ],
   "source": [
    "#hide_input\n",
    "#md('##### {}'.format(titleBTC)) \n",
    "md(\"- {}{} {}{} [| Skaityti daugiau]({}) \".format(btc['title'],'. ', btc['body'], ' ...', btc['url']))"
   ]
  },
  {
   "cell_type": "code",
   "execution_count": 5,
   "id": "organic-actress",
   "metadata": {
    "execution": {
     "iopub.execute_input": "2022-02-08T02:02:03.303387Z",
     "iopub.status.busy": "2022-02-08T02:02:03.302875Z",
     "iopub.status.idle": "2022-02-08T02:02:03.306098Z",
     "shell.execute_reply": "2022-02-08T02:02:03.305696Z"
    },
    "papermill": {
     "duration": 0.016828,
     "end_time": "2022-02-08T02:02:03.306200",
     "exception": false,
     "start_time": "2022-02-08T02:02:03.289372",
     "status": "completed"
    },
    "tags": []
   },
   "outputs": [
    {
     "data": {
      "text/markdown": [
       "- XRP Surges 20% in Less Than a Day As SEC Lawsuit Takes Turn.  XRP is surging in price as the U.S. Securities and Exchange Commission (SEC) lawsuit against Ripple Labs reaches a crucial turning point. Over the last 24 hours, XRP has surged 21.87% from $0.64 to $0.78, XRP&#8217;s price at the time of writing. Investors have put buying pressure back onto XRP after a major decision from Judge [&#8230;]The post XRP Surges 20% in Less Than a Day As SEC Lawsuit Takes Turn appeared first on The Daily Hodl. ... [| Skaityti daugiau](https://dailyhodl.com/2022/02/07/xrp-surges-20-in-less-than-a-day-as-sec-lawsuit-takes-turn/) "
      ],
      "text/plain": [
       "<IPython.core.display.Markdown object>"
      ]
     },
     "execution_count": 5,
     "metadata": {},
     "output_type": "execute_result"
    }
   ],
   "source": [
    "#hide_input\n",
    "#md('##### {}'.format(titleBTC)) \n",
    "md(\"- {}{} {}{} [| Skaityti daugiau]({}) \".format(xrp['title'],'. ', xrp['body'], ' ...', xrp['url']))"
   ]
  },
  {
   "cell_type": "code",
   "execution_count": 6,
   "id": "prompt-farmer",
   "metadata": {
    "execution": {
     "iopub.execute_input": "2022-02-08T02:02:03.330322Z",
     "iopub.status.busy": "2022-02-08T02:02:03.329788Z",
     "iopub.status.idle": "2022-02-08T02:02:03.332505Z",
     "shell.execute_reply": "2022-02-08T02:02:03.333017Z"
    },
    "papermill": {
     "duration": 0.017059,
     "end_time": "2022-02-08T02:02:03.333130",
     "exception": false,
     "start_time": "2022-02-08T02:02:03.316071",
     "status": "completed"
    },
    "tags": []
   },
   "outputs": [
    {
     "data": {
      "text/markdown": [
       "- Solana, MATIC, Tron Price Analysis: 07 February.  While the overall market sentiment improved, Solana, MATIC and Tron continued their up-channel oscillation. As a result, they reclaimed lost support levels. Their near-term technicals displayed a bullish bias but the overbought readings on their 4-hour chart could cause a potential slowdown. Solana (SOL) SOL noted a 52.2% loss (from 5 January) and touched its [&#8230;] ... [| Skaityti daugiau](https://ambcrypto.com/solana-matic-tron-price-analysis-07-february/) "
      ],
      "text/plain": [
       "<IPython.core.display.Markdown object>"
      ]
     },
     "execution_count": 6,
     "metadata": {},
     "output_type": "execute_result"
    }
   ],
   "source": [
    "#hide_input\n",
    "#md('##### {}'.format(titleBTC)) \n",
    "md(\"- {}{} {}{} [| Skaityti daugiau]({}) \".format(trx['title'],'. ', trx['body'], ' ...', trx['url']))"
   ]
  },
  {
   "cell_type": "code",
   "execution_count": 7,
   "id": "illegal-greece",
   "metadata": {
    "execution": {
     "iopub.execute_input": "2022-02-08T02:02:03.358041Z",
     "iopub.status.busy": "2022-02-08T02:02:03.357536Z",
     "iopub.status.idle": "2022-02-08T02:02:03.360160Z",
     "shell.execute_reply": "2022-02-08T02:02:03.360543Z"
    },
    "papermill": {
     "duration": 0.017126,
     "end_time": "2022-02-08T02:02:03.360657",
     "exception": false,
     "start_time": "2022-02-08T02:02:03.343531",
     "status": "completed"
    },
    "tags": []
   },
   "outputs": [
    {
     "data": {
      "text/markdown": [
       "- DeFi Trading Platform FODL Giving Away $1M in Bored Ape Ethereum NFTs.  DeFi leveraged trading platform FODL is giving away a combined 25 NFTs from the Bored Ape Yacht Club and the Bored Ape Kennel Club. ... [| Skaityti daugiau](https://decrypt.co/92343/defi-trading-platform-fodl-giving-away-1m-bored-ape-ethereum-nfts) "
      ],
      "text/plain": [
       "<IPython.core.display.Markdown object>"
      ]
     },
     "execution_count": 7,
     "metadata": {},
     "output_type": "execute_result"
    }
   ],
   "source": [
    "#hide_input\n",
    "#md('##### {}'.format(titleBTC)) \n",
    "md(\"- {}{} {}{} [| Skaityti daugiau]({}) \".format(eth['title'],'. ', eth['body'], ' ...', eth['url']))"
   ]
  },
  {
   "cell_type": "code",
   "execution_count": 8,
   "id": "sublime-lounge",
   "metadata": {
    "execution": {
     "iopub.execute_input": "2022-02-08T02:02:03.386003Z",
     "iopub.status.busy": "2022-02-08T02:02:03.385501Z",
     "iopub.status.idle": "2022-02-08T02:02:03.388316Z",
     "shell.execute_reply": "2022-02-08T02:02:03.388706Z"
    },
    "papermill": {
     "duration": 0.017654,
     "end_time": "2022-02-08T02:02:03.388820",
     "exception": false,
     "start_time": "2022-02-08T02:02:03.371166",
     "status": "completed"
    },
    "tags": []
   },
   "outputs": [
    {
     "data": {
      "text/markdown": [
       "- Cardano Zooms Up By 6%; How Soon Will It Target $1.4?.  At the time of writing, Cardano looks promising on its charts. ADA had broken over the $1.10 mark yesterday and was currently priced at $1.20. The $1.10 mark for ADA had acted as a long-standing resistance mark for the coin. The break above the aforementioned level could push ADA to trade above the $1.20 mark over the upcoming trading sessions. The bullish force in the market seems to have propelled the prices of Cardano significantly. In the last 24 hours itself, ADA&#8217;s price grew by 6%. Continued trading above the $1.20 mark would help the bulls to breach the immediate resistance of $1.28. Breaking above the $1.28 mark, and Cardano could aim for $1.41. Cardano Price Analysis: Four-Hour Chart &#160; &#160; Cardano had been trading tightly between the $0.90 and $1 mark for the past couple of weeks. Recent Market-wide appreciation in prices has caused ADA to move in a northbound manner. At press time, ADA was seen trading at $1.20 and was eyeing the $1.28 resistance level. The nearest support level rested at $1.16, falling through which ADA would target $1.10. If ADA manages to uphold the current price momentum then it could soon aim for $1.41. The technical outlook for the coin is quite bullish. On the four-hour chart, bulls were dominant, therefore indicating that buying strength seems substantial. Over the last week, ADA had displayed a Golden Cross and secured a 14.7% gain. A Golden Cross happens when the 20-SMA line c... ... [| Skaityti daugiau](https://www.newsbtc.com/news/cardano-zooms-up-by-6-how-soon-will-it-target-1-4/) "
      ],
      "text/plain": [
       "<IPython.core.display.Markdown object>"
      ]
     },
     "execution_count": 8,
     "metadata": {},
     "output_type": "execute_result"
    }
   ],
   "source": [
    "#hide_input\n",
    "#md('##### {}'.format(titleBTC)) \n",
    "md(\"- {}{} {}{} [| Skaityti daugiau]({}) \".format(ada['title'],'. ', ada['body'], ' ...', ada['url']))"
   ]
  },
  {
   "cell_type": "code",
   "execution_count": 9,
   "id": "specified-ordering",
   "metadata": {
    "execution": {
     "iopub.execute_input": "2022-02-08T02:02:03.415072Z",
     "iopub.status.busy": "2022-02-08T02:02:03.414571Z",
     "iopub.status.idle": "2022-02-08T02:02:03.417823Z",
     "shell.execute_reply": "2022-02-08T02:02:03.417419Z"
    },
    "papermill": {
     "duration": 0.018205,
     "end_time": "2022-02-08T02:02:03.417925",
     "exception": false,
     "start_time": "2022-02-08T02:02:03.399720",
     "status": "completed"
    },
    "tags": []
   },
   "outputs": [
    {
     "data": {
      "text/markdown": [
       "- Tesla Holding Bitcoin Worth $2 Billion — Sees Crypto as Both Investment and Liquid Alternative to Cash.  Elon Musk&#x2019;s electric car company, Tesla, has filed an annual report with the U.S. Securities and Exchange Commission (SEC) showing bitcoin holdings with a fair value of almost $2 billion at the end of December. The company sees crypto as both an investment and liquid alternative to cash. Tesla Has $2 Billion in Bitcoin Tesla [&#8230;] ... [| Skaityti daugiau](https://news.bitcoin.com/tesla-holding-bitcoin-worth-2-billion-crypto-investment-liquid-alternative-to-cash/) "
      ],
      "text/plain": [
       "<IPython.core.display.Markdown object>"
      ]
     },
     "execution_count": 9,
     "metadata": {},
     "output_type": "execute_result"
    }
   ],
   "source": [
    "#hide_input\n",
    "#md('##### {}'.format(titleBTC)) \n",
    "md(\"- {}{} {}{} [| Skaityti daugiau]({}) \".format(exchange['title'],'. ', exchange['body'], ' ...', exchange['url']))"
   ]
  },
  {
   "cell_type": "code",
   "execution_count": null,
   "id": "tender-livestock",
   "metadata": {
    "papermill": {
     "duration": 0.011232,
     "end_time": "2022-02-08T02:02:03.440416",
     "exception": false,
     "start_time": "2022-02-08T02:02:03.429184",
     "status": "completed"
    },
    "tags": []
   },
   "outputs": [],
   "source": []
  },
  {
   "cell_type": "code",
   "execution_count": null,
   "id": "appreciated-diamond",
   "metadata": {
    "papermill": {
     "duration": 0.011464,
     "end_time": "2022-02-08T02:02:03.463309",
     "exception": false,
     "start_time": "2022-02-08T02:02:03.451845",
     "status": "completed"
    },
    "tags": []
   },
   "outputs": [],
   "source": []
  },
  {
   "cell_type": "code",
   "execution_count": null,
   "id": "romance-sweden",
   "metadata": {
    "papermill": {
     "duration": 0.011368,
     "end_time": "2022-02-08T02:02:03.486928",
     "exception": false,
     "start_time": "2022-02-08T02:02:03.475560",
     "status": "completed"
    },
    "tags": []
   },
   "outputs": [],
   "source": []
  },
  {
   "cell_type": "code",
   "execution_count": null,
   "id": "dietary-statistics",
   "metadata": {
    "papermill": {
     "duration": 0.011483,
     "end_time": "2022-02-08T02:02:03.509677",
     "exception": false,
     "start_time": "2022-02-08T02:02:03.498194",
     "status": "completed"
    },
    "tags": []
   },
   "outputs": [],
   "source": []
  }
 ],
 "metadata": {
  "kernelspec": {
   "display_name": "Python 3",
   "language": "python",
   "name": "python3"
  },
  "language_info": {
   "codemirror_mode": {
    "name": "ipython",
    "version": 3
   },
   "file_extension": ".py",
   "mimetype": "text/x-python",
   "name": "python",
   "nbconvert_exporter": "python",
   "pygments_lexer": "ipython3",
   "version": "3.6.15"
  },
  "papermill": {
   "default_parameters": {},
   "duration": 13.328958,
   "end_time": "2022-02-08T02:02:03.939191",
   "environment_variables": {},
   "exception": null,
   "input_path": "Market-News.ipynb",
   "output_path": "Market-News.ipynb",
   "parameters": {},
   "start_time": "2022-02-08T02:01:50.610233",
   "version": "2.2.2"
  }
 },
 "nbformat": 4,
 "nbformat_minor": 5
}