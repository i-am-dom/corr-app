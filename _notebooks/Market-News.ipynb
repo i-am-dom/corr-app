{
 "cells": [
  {
   "cell_type": "markdown",
   "id": "short-greensboro",
   "metadata": {
    "papermill": {
     "duration": 0.01429,
     "end_time": "2021-12-31T02:07:46.141671",
     "exception": false,
     "start_time": "2021-12-31T02:07:46.127381",
     "status": "completed"
    },
    "tags": []
   },
   "source": [
    "# Kriptovaliutų naujienos"
   ]
  },
  {
   "cell_type": "code",
   "execution_count": 1,
   "id": "functioning-knowing",
   "metadata": {
    "execution": {
     "iopub.execute_input": "2021-12-31T02:07:46.175999Z",
     "iopub.status.busy": "2021-12-31T02:07:46.175271Z",
     "iopub.status.idle": "2021-12-31T02:07:47.674059Z",
     "shell.execute_reply": "2021-12-31T02:07:47.673465Z"
    },
    "papermill": {
     "duration": 1.522085,
     "end_time": "2021-12-31T02:07:47.674232",
     "exception": false,
     "start_time": "2021-12-31T02:07:46.152147",
     "status": "completed"
    },
    "tags": []
   },
   "outputs": [],
   "source": [
    "#hide_input\n",
    "import warnings\n",
    "warnings.filterwarnings('ignore')\n",
    "from scripts.read_data import read_api\n",
    "from scripts.read_data import read_news\n",
    "from scripts.read_data import read_covid\n",
    "import matplotlib.pyplot as plt \n",
    "from IPython.display import Markdown as md"
   ]
  },
  {
   "cell_type": "code",
   "execution_count": 2,
   "id": "shared-acceptance",
   "metadata": {
    "execution": {
     "iopub.execute_input": "2021-12-31T02:07:47.706914Z",
     "iopub.status.busy": "2021-12-31T02:07:47.706275Z",
     "iopub.status.idle": "2021-12-31T02:07:58.317235Z",
     "shell.execute_reply": "2021-12-31T02:07:58.316624Z"
    },
    "papermill": {
     "duration": 10.631098,
     "end_time": "2021-12-31T02:07:58.317371",
     "exception": false,
     "start_time": "2021-12-31T02:07:47.686273",
     "status": "completed"
    },
    "tags": []
   },
   "outputs": [],
   "source": [
    "#hide_input\n",
    "blockchain = read_news('blockchain') \n",
    "btc = read_news('btc') \n",
    "xrp = read_news('xrp') \n",
    "trx = read_news('trx') \n",
    "eth = read_news('eth')  \n",
    "ada = read_news('ada')\n",
    "exchange = read_news('exchange') "
   ]
  },
  {
   "cell_type": "code",
   "execution_count": 3,
   "id": "synthetic-notion",
   "metadata": {
    "execution": {
     "iopub.execute_input": "2021-12-31T02:07:58.358752Z",
     "iopub.status.busy": "2021-12-31T02:07:58.358042Z",
     "iopub.status.idle": "2021-12-31T02:07:58.364690Z",
     "shell.execute_reply": "2021-12-31T02:07:58.364119Z"
    },
    "papermill": {
     "duration": 0.02691,
     "end_time": "2021-12-31T02:07:58.364830",
     "exception": false,
     "start_time": "2021-12-31T02:07:58.337920",
     "status": "completed"
    },
    "tags": []
   },
   "outputs": [
    {
     "data": {
      "text/markdown": [
       "- Top 5 Most Popular Crypto Metaverse Coins on the Binance Smart Chain.  Binance Smart Chain is one of the most popular platforms to launch new crypto Metaverse coins. BSC has low fees and fast transactions, making it a perfect blockchain for DeFi and GameFi projects. This article looks at the top five most popular Metaverse coins on the Binance Smart Chain, ordered by 7-day user activity, lowest [&#8230;]The post Top 5 Most Popular Crypto Metaverse Coins on the Binance Smart Chain appeared first on NullTX. ... [| Skaityti daugiau](https://nulltx.com/top-5-most-popular-crypto-metaverse-coins-on-the-binance-smart-chain/) "
      ],
      "text/plain": [
       "<IPython.core.display.Markdown object>"
      ]
     },
     "execution_count": 3,
     "metadata": {},
     "output_type": "execute_result"
    }
   ],
   "source": [
    "#hide_input\n",
    "#md('##### {}'.format(titleBTC)) \n",
    "md(\"- {}{} {}{} [| Skaityti daugiau]({}) \".format(blockchain['title'],'. ', blockchain['body'], ' ...', blockchain['url']))"
   ]
  },
  {
   "cell_type": "code",
   "execution_count": 4,
   "id": "aging-caution",
   "metadata": {
    "execution": {
     "iopub.execute_input": "2021-12-31T02:07:58.392212Z",
     "iopub.status.busy": "2021-12-31T02:07:58.391576Z",
     "iopub.status.idle": "2021-12-31T02:07:58.394940Z",
     "shell.execute_reply": "2021-12-31T02:07:58.394476Z"
    },
    "papermill": {
     "duration": 0.018937,
     "end_time": "2021-12-31T02:07:58.395054",
     "exception": false,
     "start_time": "2021-12-31T02:07:58.376117",
     "status": "completed"
    },
    "tags": []
   },
   "outputs": [
    {
     "data": {
      "text/markdown": [
       "- Tesla CEO Elon Musk Praises Dogecoin, Criticizes Bitcoin, Guesses Identity of Satoshi Nakamoto.  Tesla and Spacex CEO Elon Musk says dogecoin is &#x201C;fundamentally better than anything else&#x201D; he has seen while he criticizes bitcoin. He also discussed the identity of Bitcoin&#x2019;s pseudonymous creator, Satoshi Nakamoto, and the official currency of Mars. Elon Musk Discusses Crypto, Dogecoin, Bitcoin, Mars&#x2019; Currency, and Who Satoshi Nakamoto Is Elon Musk shared his [&#8230;] ... [| Skaityti daugiau](https://news.bitcoin.com/tesla-ceo-elon-musk-dogecoin-criticizes-bitcoin-identity-of-satoshi-nakamoto/) "
      ],
      "text/plain": [
       "<IPython.core.display.Markdown object>"
      ]
     },
     "execution_count": 4,
     "metadata": {},
     "output_type": "execute_result"
    }
   ],
   "source": [
    "#hide_input\n",
    "#md('##### {}'.format(titleBTC)) \n",
    "md(\"- {}{} {}{} [| Skaityti daugiau]({}) \".format(btc['title'],'. ', btc['body'], ' ...', btc['url']))"
   ]
  },
  {
   "cell_type": "code",
   "execution_count": 5,
   "id": "organic-actress",
   "metadata": {
    "execution": {
     "iopub.execute_input": "2021-12-31T02:07:58.425451Z",
     "iopub.status.busy": "2021-12-31T02:07:58.424815Z",
     "iopub.status.idle": "2021-12-31T02:07:58.427995Z",
     "shell.execute_reply": "2021-12-31T02:07:58.427413Z"
    },
    "papermill": {
     "duration": 0.018628,
     "end_time": "2021-12-31T02:07:58.428114",
     "exception": false,
     "start_time": "2021-12-31T02:07:58.409486",
     "status": "completed"
    },
    "tags": []
   },
   "outputs": [
    {
     "data": {
      "text/markdown": [
       "- XRP attempts to climb past $1 for the second time this month, but….  XRP has climbed to the $1.35 mark on three separate tries since August. The most recent attempt to scale these heights was in early November, but XRP met a harsh rejection once more and has been trending lower since. The price has since formed a temporary bottom, at the $0.78 mark and looked likely to [&#8230;] ... [| Skaityti daugiau](https://ambcrypto.com/xrp-attempts-to-climb-past-1-for-the-second-time-this-month-but/) "
      ],
      "text/plain": [
       "<IPython.core.display.Markdown object>"
      ]
     },
     "execution_count": 5,
     "metadata": {},
     "output_type": "execute_result"
    }
   ],
   "source": [
    "#hide_input\n",
    "#md('##### {}'.format(titleBTC)) \n",
    "md(\"- {}{} {}{} [| Skaityti daugiau]({}) \".format(xrp['title'],'. ', xrp['body'], ' ...', xrp['url']))"
   ]
  },
  {
   "cell_type": "code",
   "execution_count": 6,
   "id": "prompt-farmer",
   "metadata": {
    "execution": {
     "iopub.execute_input": "2021-12-31T02:07:58.456074Z",
     "iopub.status.busy": "2021-12-31T02:07:58.455489Z",
     "iopub.status.idle": "2021-12-31T02:07:58.458692Z",
     "shell.execute_reply": "2021-12-31T02:07:58.458124Z"
    },
    "papermill": {
     "duration": 0.019504,
     "end_time": "2021-12-31T02:07:58.458804",
     "exception": false,
     "start_time": "2021-12-31T02:07:58.439300",
     "status": "completed"
    },
    "tags": []
   },
   "outputs": [
    {
     "data": {
      "text/markdown": [
       "- Binance Coin, Tron, EOS Price Analysis: 29 December.  The fear sentiment heightened as Bitcoin re-enters the $47,000 zone. As a result, altcoins like Binance Coin, Tron and EOS saw a blip in their recovery. The aforestated cryptos fell below their 20-50-200 SMA, as the bears evidently displayed their edge. Binance Coin (BNB) Over the past few days, BNB formed a symmetrical broadening wedge [&#8230;] ... [| Skaityti daugiau](https://ambcrypto.com/binance-coin-tron-eos-price-analysis-29-december/) "
      ],
      "text/plain": [
       "<IPython.core.display.Markdown object>"
      ]
     },
     "execution_count": 6,
     "metadata": {},
     "output_type": "execute_result"
    }
   ],
   "source": [
    "#hide_input\n",
    "#md('##### {}'.format(titleBTC)) \n",
    "md(\"- {}{} {}{} [| Skaityti daugiau]({}) \".format(trx['title'],'. ', trx['body'], ' ...', trx['url']))"
   ]
  },
  {
   "cell_type": "code",
   "execution_count": 7,
   "id": "illegal-greece",
   "metadata": {
    "execution": {
     "iopub.execute_input": "2021-12-31T02:07:58.486793Z",
     "iopub.status.busy": "2021-12-31T02:07:58.486206Z",
     "iopub.status.idle": "2021-12-31T02:07:58.490280Z",
     "shell.execute_reply": "2021-12-31T02:07:58.490731Z"
    },
    "papermill": {
     "duration": 0.020648,
     "end_time": "2021-12-31T02:07:58.490862",
     "exception": false,
     "start_time": "2021-12-31T02:07:58.470214",
     "status": "completed"
    },
    "tags": []
   },
   "outputs": [
    {
     "data": {
      "text/markdown": [
       "- Amid uncertainty, can Oasis Network’s developments push ROSE toward bright possibilities.  As top assets like Bitcoin and Ethereum looked relatively shaky, the larger market eyed altcoins for the much-needed gains. SushiSwap and Oasis Network’s ROSE, at the time of writing, presented the highest weekly gains of the top 100 cryptocurrencies as per data from CoinMarketCap. However, ROSE’s rise for over ten days has attracted many eyeballs [&#8230;] ... [| Skaityti daugiau](https://ambcrypto.com/amid-uncertainty-can-oasis-networks-developments-push-rose-toward-bright-possibilities/) "
      ],
      "text/plain": [
       "<IPython.core.display.Markdown object>"
      ]
     },
     "execution_count": 7,
     "metadata": {},
     "output_type": "execute_result"
    }
   ],
   "source": [
    "#hide_input\n",
    "#md('##### {}'.format(titleBTC)) \n",
    "md(\"- {}{} {}{} [| Skaityti daugiau]({}) \".format(eth['title'],'. ', eth['body'], ' ...', eth['url']))"
   ]
  },
  {
   "cell_type": "code",
   "execution_count": 8,
   "id": "sublime-lounge",
   "metadata": {
    "execution": {
     "iopub.execute_input": "2021-12-31T02:07:58.522754Z",
     "iopub.status.busy": "2021-12-31T02:07:58.521708Z",
     "iopub.status.idle": "2021-12-31T02:07:58.525396Z",
     "shell.execute_reply": "2021-12-31T02:07:58.524886Z"
    },
    "papermill": {
     "duration": 0.021202,
     "end_time": "2021-12-31T02:07:58.525513",
     "exception": false,
     "start_time": "2021-12-31T02:07:58.504311",
     "status": "completed"
    },
    "tags": []
   },
   "outputs": [
    {
     "data": {
      "text/markdown": [
       "- Why 2022 Could Be The Best Year For Cardano, Top Bullish Predictions.  Cardano (ADA) experienced a major downtrend in the past months as the crypto market took another swing for the lows. The sixth cryptocurrency by market cap has seen a year in the green as it managed to complete several upgrades on its mainnet. Related Reading &#124; Biggest Cardano Based Cross-Chain NFT Marketplace Verlux kicks Off Pre-sale First, Cardano successfully transitioned to a Proof-of-Stake consensus in 2020, shortly after the D parameter reached “0” signaling the full decentralization of block production. The network went from a federate consensus to a community-based consensus as the latter control most stake pools producing blocks on the network. Later, the start of a new era with the first of 3 major Hard Fork Combinator (HFC) events with the implementation of “Allegra”, followed by “Mary”. These upgrades brought new capabilities to the Cardano mainnet which were completed with “Alonzo” that introduced smart contract capabilities into the blockchain. This ecosystem has already seen a surge in projects, as developers and users rush in to build and leverage the benefits of its UTXO model. In that sense, community member ADA Whale shared his top predictions that could boost another rally for the underlying cryptocurrency of the Cardano network. 1/Ten Cardano predictions for 2022. They’re imo simultaneously conservative, achievable yet ambitious In a year I will review how right or wrong I have been. Not expecting fu... ... [| Skaityti daugiau](https://www.newsbtc.com/news/cardano/why-2022-could-be-the-best-year-for-cardano-top-bullish-predictions/) "
      ],
      "text/plain": [
       "<IPython.core.display.Markdown object>"
      ]
     },
     "execution_count": 8,
     "metadata": {},
     "output_type": "execute_result"
    }
   ],
   "source": [
    "#hide_input\n",
    "#md('##### {}'.format(titleBTC)) \n",
    "md(\"- {}{} {}{} [| Skaityti daugiau]({}) \".format(ada['title'],'. ', ada['body'], ' ...', ada['url']))"
   ]
  },
  {
   "cell_type": "code",
   "execution_count": 9,
   "id": "specified-ordering",
   "metadata": {
    "execution": {
     "iopub.execute_input": "2021-12-31T02:07:58.555249Z",
     "iopub.status.busy": "2021-12-31T02:07:58.554606Z",
     "iopub.status.idle": "2021-12-31T02:07:58.557929Z",
     "shell.execute_reply": "2021-12-31T02:07:58.557426Z"
    },
    "papermill": {
     "duration": 0.020434,
     "end_time": "2021-12-31T02:07:58.558042",
     "exception": false,
     "start_time": "2021-12-31T02:07:58.537608",
     "status": "completed"
    },
    "tags": []
   },
   "outputs": [
    {
     "data": {
      "text/markdown": [
       "- SEC Appoints New Senior Adviser On Crypto, Here’s How This Might Bring About Policy Changes.  Chairman of the United States Securities and Exchange Commission (SEC), Gary Gensler has now added a new member to his executive staff. The new addition who is identified as Corey Frayer is appointed as an adviser on crypto-related matters, and policy making. SEC Appoints Corey Frayer And Some Others Corey Frayer&#8217;s appointment was announced by The post SEC Appoints New Senior Adviser On Crypto, Here&#8217;s How This Might Bring About Policy Changes appeared first on CoinGape. ... [| Skaityti daugiau](https://coingape.com/sec-appoints-new-senior-adviser/) "
      ],
      "text/plain": [
       "<IPython.core.display.Markdown object>"
      ]
     },
     "execution_count": 9,
     "metadata": {},
     "output_type": "execute_result"
    }
   ],
   "source": [
    "#hide_input\n",
    "#md('##### {}'.format(titleBTC)) \n",
    "md(\"- {}{} {}{} [| Skaityti daugiau]({}) \".format(exchange['title'],'. ', exchange['body'], ' ...', exchange['url']))"
   ]
  },
  {
   "cell_type": "code",
   "execution_count": null,
   "id": "tender-livestock",
   "metadata": {
    "papermill": {
     "duration": 0.013335,
     "end_time": "2021-12-31T02:07:58.584136",
     "exception": false,
     "start_time": "2021-12-31T02:07:58.570801",
     "status": "completed"
    },
    "tags": []
   },
   "outputs": [],
   "source": []
  },
  {
   "cell_type": "code",
   "execution_count": null,
   "id": "appreciated-diamond",
   "metadata": {
    "papermill": {
     "duration": 0.013298,
     "end_time": "2021-12-31T02:07:58.610002",
     "exception": false,
     "start_time": "2021-12-31T02:07:58.596704",
     "status": "completed"
    },
    "tags": []
   },
   "outputs": [],
   "source": []
  },
  {
   "cell_type": "code",
   "execution_count": null,
   "id": "romance-sweden",
   "metadata": {
    "papermill": {
     "duration": 0.013366,
     "end_time": "2021-12-31T02:07:58.635701",
     "exception": false,
     "start_time": "2021-12-31T02:07:58.622335",
     "status": "completed"
    },
    "tags": []
   },
   "outputs": [],
   "source": []
  },
  {
   "cell_type": "code",
   "execution_count": null,
   "id": "dietary-statistics",
   "metadata": {
    "papermill": {
     "duration": 0.017866,
     "end_time": "2021-12-31T02:07:58.666914",
     "exception": false,
     "start_time": "2021-12-31T02:07:58.649048",
     "status": "completed"
    },
    "tags": []
   },
   "outputs": [],
   "source": []
  }
 ],
 "metadata": {
  "kernelspec": {
   "display_name": "Python 3",
   "language": "python",
   "name": "python3"
  },
  "language_info": {
   "codemirror_mode": {
    "name": "ipython",
    "version": 3
   },
   "file_extension": ".py",
   "mimetype": "text/x-python",
   "name": "python",
   "nbconvert_exporter": "python",
   "pygments_lexer": "ipython3",
   "version": "3.6.15"
  },
  "papermill": {
   "default_parameters": {},
   "duration": 14.346306,
   "end_time": "2021-12-31T02:07:59.190993",
   "environment_variables": {},
   "exception": null,
   "input_path": "Market-News.ipynb",
   "output_path": "Market-News.ipynb",
   "parameters": {},
   "start_time": "2021-12-31T02:07:44.844687",
   "version": "2.2.2"
  }
 },
 "nbformat": 4,
 "nbformat_minor": 5
}