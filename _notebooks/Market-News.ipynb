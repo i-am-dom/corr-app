{
 "cells": [
  {
   "cell_type": "markdown",
   "id": "short-greensboro",
   "metadata": {
    "papermill": {
     "duration": 0.015241,
     "end_time": "2021-09-23T02:05:48.025871",
     "exception": false,
     "start_time": "2021-09-23T02:05:48.010630",
     "status": "completed"
    },
    "tags": []
   },
   "source": [
    "# Kriptovaliutų naujienos"
   ]
  },
  {
   "cell_type": "code",
   "execution_count": 1,
   "id": "functioning-knowing",
   "metadata": {
    "execution": {
     "iopub.execute_input": "2021-09-23T02:05:48.062173Z",
     "iopub.status.busy": "2021-09-23T02:05:48.061449Z",
     "iopub.status.idle": "2021-09-23T02:05:49.463154Z",
     "shell.execute_reply": "2021-09-23T02:05:49.462545Z"
    },
    "papermill": {
     "duration": 1.424875,
     "end_time": "2021-09-23T02:05:49.463366",
     "exception": false,
     "start_time": "2021-09-23T02:05:48.038491",
     "status": "completed"
    },
    "tags": []
   },
   "outputs": [],
   "source": [
    "#hide_input\n",
    "import warnings\n",
    "warnings.filterwarnings('ignore')\n",
    "from scripts.read_data import read_api\n",
    "from scripts.read_data import read_news\n",
    "from scripts.read_data import read_covid\n",
    "import matplotlib.pyplot as plt \n",
    "from IPython.display import Markdown as md"
   ]
  },
  {
   "cell_type": "code",
   "execution_count": 2,
   "id": "shared-acceptance",
   "metadata": {
    "execution": {
     "iopub.execute_input": "2021-09-23T02:05:49.495181Z",
     "iopub.status.busy": "2021-09-23T02:05:49.494169Z",
     "iopub.status.idle": "2021-09-23T02:05:58.052447Z",
     "shell.execute_reply": "2021-09-23T02:05:58.052895Z"
    },
    "papermill": {
     "duration": 8.578019,
     "end_time": "2021-09-23T02:05:58.053058",
     "exception": false,
     "start_time": "2021-09-23T02:05:49.475039",
     "status": "completed"
    },
    "tags": []
   },
   "outputs": [],
   "source": [
    "#hide_input\n",
    "blockchain = read_news('blockchain') \n",
    "btc = read_news('btc') \n",
    "xrp = read_news('xrp') \n",
    "trx = read_news('trx') \n",
    "eth = read_news('eth')  \n",
    "ada = read_news('ada')\n",
    "exchange = read_news('exchange') "
   ]
  },
  {
   "cell_type": "code",
   "execution_count": 3,
   "id": "synthetic-notion",
   "metadata": {
    "execution": {
     "iopub.execute_input": "2021-09-23T02:05:58.084245Z",
     "iopub.status.busy": "2021-09-23T02:05:58.083605Z",
     "iopub.status.idle": "2021-09-23T02:05:58.089565Z",
     "shell.execute_reply": "2021-09-23T02:05:58.090027Z"
    },
    "papermill": {
     "duration": 0.025074,
     "end_time": "2021-09-23T02:05:58.090160",
     "exception": false,
     "start_time": "2021-09-23T02:05:58.065086",
     "status": "completed"
    },
    "tags": []
   },
   "outputs": [
    {
     "data": {
      "text/markdown": [
       "- BitGo’s Mike Belshe explains why regulators should embrace the openness of the blockchain.  Mike Belshe founded BitGo—the crypto financial services and custody firm—in 2013 with the original intention to help solve a pinpoint he identified when entering the bitcoin market early on: how to store crypto holdings safely. &#8220;We forget about how easy loss is&#8221;, said Belshe. Today BitGo is more wide-spanning than just storage and custody, also [&#8230;]The post BitGo&#8217;s Mike Belshe explains why regulators should embrace the openness of the blockchain appeared first on The Block. ... [| Skaityti daugiau](https://www.theblockcrypto.com/post/118299/bitgos-mike-belshe-explains-why-regulators-should-embrace-the-openness-of-the-blockchain?utm_source=cryptocompare&utm_medium=rss) "
      ],
      "text/plain": [
       "<IPython.core.display.Markdown object>"
      ]
     },
     "execution_count": 3,
     "metadata": {},
     "output_type": "execute_result"
    }
   ],
   "source": [
    "#hide_input\n",
    "#md('##### {}'.format(titleBTC)) \n",
    "md(\"- {}{} {}{} [| Skaityti daugiau]({}) \".format(blockchain['title'],'. ', blockchain['body'], ' ...', blockchain['url']))"
   ]
  },
  {
   "cell_type": "code",
   "execution_count": 4,
   "id": "aging-caution",
   "metadata": {
    "execution": {
     "iopub.execute_input": "2021-09-23T02:05:58.118182Z",
     "iopub.status.busy": "2021-09-23T02:05:58.116081Z",
     "iopub.status.idle": "2021-09-23T02:05:58.121231Z",
     "shell.execute_reply": "2021-09-23T02:05:58.121725Z"
    },
    "papermill": {
     "duration": 0.020762,
     "end_time": "2021-09-23T02:05:58.121856",
     "exception": false,
     "start_time": "2021-09-23T02:05:58.101094",
     "status": "completed"
    },
    "tags": []
   },
   "outputs": [
    {
     "data": {
      "text/markdown": [
       "- Why The Bitcoin Price Is Staying Above $40,000.  The $40,000-plus range has been a key psychological level for the bitcoin price. ... [| Skaityti daugiau](https://bitcoinmagazine.com/markets/why-the-bitcoin-price-is-staying-above-40000) "
      ],
      "text/plain": [
       "<IPython.core.display.Markdown object>"
      ]
     },
     "execution_count": 4,
     "metadata": {},
     "output_type": "execute_result"
    }
   ],
   "source": [
    "#hide_input\n",
    "#md('##### {}'.format(titleBTC)) \n",
    "md(\"- {}{} {}{} [| Skaityti daugiau]({}) \".format(btc['title'],'. ', btc['body'], ' ...', btc['url']))"
   ]
  },
  {
   "cell_type": "code",
   "execution_count": 5,
   "id": "organic-actress",
   "metadata": {
    "execution": {
     "iopub.execute_input": "2021-09-23T02:05:58.152576Z",
     "iopub.status.busy": "2021-09-23T02:05:58.150127Z",
     "iopub.status.idle": "2021-09-23T02:05:58.155031Z",
     "shell.execute_reply": "2021-09-23T02:05:58.155566Z"
    },
    "papermill": {
     "duration": 0.021537,
     "end_time": "2021-09-23T02:05:58.155689",
     "exception": false,
     "start_time": "2021-09-23T02:05:58.134152",
     "status": "completed"
    },
    "tags": []
   },
   "outputs": [
    {
     "data": {
      "text/markdown": [
       "- Why the cryptocurrency industry just needs ‘right type of regulations’.  The U.S. Securities and Exchange Commission (SEC) Chair Gary Gensler has made investor protection his motto. But according to advocate John Deaton, around 20,000 crypto investors disagree. Former marine and current crypto lawyer John Deaton filed a writ of mandamus &#8211; an order for a government body to carry out its duty &#8211; after the SEC [&#8230;] ... [| Skaityti daugiau](https://ambcrypto.com/why-the-cryptocurrency-industry-just-needs-right-type-of-regulations/) "
      ],
      "text/plain": [
       "<IPython.core.display.Markdown object>"
      ]
     },
     "execution_count": 5,
     "metadata": {},
     "output_type": "execute_result"
    }
   ],
   "source": [
    "#hide_input\n",
    "#md('##### {}'.format(titleBTC)) \n",
    "md(\"- {}{} {}{} [| Skaityti daugiau]({}) \".format(xrp['title'],'. ', xrp['body'], ' ...', xrp['url']))"
   ]
  },
  {
   "cell_type": "code",
   "execution_count": 6,
   "id": "prompt-farmer",
   "metadata": {
    "execution": {
     "iopub.execute_input": "2021-09-23T02:05:58.187190Z",
     "iopub.status.busy": "2021-09-23T02:05:58.185219Z",
     "iopub.status.idle": "2021-09-23T02:05:58.189499Z",
     "shell.execute_reply": "2021-09-23T02:05:58.189976Z"
    },
    "papermill": {
     "duration": 0.020607,
     "end_time": "2021-09-23T02:05:58.190103",
     "exception": false,
     "start_time": "2021-09-23T02:05:58.169496",
     "status": "completed"
    },
    "tags": []
   },
   "outputs": [
    {
     "data": {
      "text/markdown": [
       "- Tron (TRX) Price Analysis: Bears In Control Below $0.10.  Tron price started a fresh decline from the $0.1200 resistance against the US Dollar. TRX price is now trading below $0.1000 and the 55 simple moving average (4-hours). There was a break below a major bullish trend line with support near $0.1150 on the 4-hours chart (data feed via Bitfinex). The pair could accelerate lower...The post Tron (TRX) Price Analysis: Bears In Control Below $0.10 appeared first on Live Bitcoin News. ... [| Skaityti daugiau](https://www.livebitcoinnews.com/tron-trx-price-analysis-bears-in-control-below-0-10/) "
      ],
      "text/plain": [
       "<IPython.core.display.Markdown object>"
      ]
     },
     "execution_count": 6,
     "metadata": {},
     "output_type": "execute_result"
    }
   ],
   "source": [
    "#hide_input\n",
    "#md('##### {}'.format(titleBTC)) \n",
    "md(\"- {}{} {}{} [| Skaityti daugiau]({}) \".format(trx['title'],'. ', trx['body'], ' ...', trx['url']))"
   ]
  },
  {
   "cell_type": "code",
   "execution_count": 7,
   "id": "illegal-greece",
   "metadata": {
    "execution": {
     "iopub.execute_input": "2021-09-23T02:05:58.220442Z",
     "iopub.status.busy": "2021-09-23T02:05:58.218523Z",
     "iopub.status.idle": "2021-09-23T02:05:58.222844Z",
     "shell.execute_reply": "2021-09-23T02:05:58.223378Z"
    },
    "papermill": {
     "duration": 0.020478,
     "end_time": "2021-09-23T02:05:58.223491",
     "exception": false,
     "start_time": "2021-09-23T02:05:58.203013",
     "status": "completed"
    },
    "tags": []
   },
   "outputs": [
    {
     "data": {
      "text/markdown": [
       "- NBA’s John Wall Reuses Fortnite Art for NFT—And Crypto Twitter Let Him Have It.  The basketball star’s planned Baby Ballers NFT project is off to a rough start after Twitter sleuths discover discrepancies. ... [| Skaityti daugiau](https://decrypt.co/81598/nba-john-wall-fortnite-art-nft-baby-ballers-crypto-twitter) "
      ],
      "text/plain": [
       "<IPython.core.display.Markdown object>"
      ]
     },
     "execution_count": 7,
     "metadata": {},
     "output_type": "execute_result"
    }
   ],
   "source": [
    "#hide_input\n",
    "#md('##### {}'.format(titleBTC)) \n",
    "md(\"- {}{} {}{} [| Skaityti daugiau]({}) \".format(eth['title'],'. ', eth['body'], ' ...', eth['url']))"
   ]
  },
  {
   "cell_type": "code",
   "execution_count": 8,
   "id": "sublime-lounge",
   "metadata": {
    "execution": {
     "iopub.execute_input": "2021-09-23T02:05:58.255992Z",
     "iopub.status.busy": "2021-09-23T02:05:58.255367Z",
     "iopub.status.idle": "2021-09-23T02:05:58.258378Z",
     "shell.execute_reply": "2021-09-23T02:05:58.258848Z"
    },
    "papermill": {
     "duration": 0.022702,
     "end_time": "2021-09-23T02:05:58.259026",
     "exception": false,
     "start_time": "2021-09-23T02:05:58.236324",
     "status": "completed"
    },
    "tags": []
   },
   "outputs": [
    {
     "data": {
      "text/markdown": [
       "- Up-And-Coming Cardano Summit Promises An Epic Virtual World Experience.  The Cardano Summit 2021 is due to take place on September 25-26. You can join the event for free by registering at https://summit.cardano.org/. Up until recently, details surrounding the Summit were thin on the ground. However, it was known to be a &#8220;mix of virtual and live events from around the world.&#8221; However, developers Input [&#8230;] ... [| Skaityti daugiau](https://bitcoinist.com/up-and-coming-cardano-summit-promises-an-epic-virtual-world-experience/?utm_source=rss&utm_medium=rss&utm_campaign=up-and-coming-cardano-summit-promises-an-epic-virtual-world-experience) "
      ],
      "text/plain": [
       "<IPython.core.display.Markdown object>"
      ]
     },
     "execution_count": 8,
     "metadata": {},
     "output_type": "execute_result"
    }
   ],
   "source": [
    "#hide_input\n",
    "#md('##### {}'.format(titleBTC)) \n",
    "md(\"- {}{} {}{} [| Skaityti daugiau]({}) \".format(ada['title'],'. ', ada['body'], ' ...', ada['url']))"
   ]
  },
  {
   "cell_type": "code",
   "execution_count": 9,
   "id": "specified-ordering",
   "metadata": {
    "execution": {
     "iopub.execute_input": "2021-09-23T02:05:58.292181Z",
     "iopub.status.busy": "2021-09-23T02:05:58.289792Z",
     "iopub.status.idle": "2021-09-23T02:05:58.295396Z",
     "shell.execute_reply": "2021-09-23T02:05:58.295891Z"
    },
    "papermill": {
     "duration": 0.0233,
     "end_time": "2021-09-23T02:05:58.296020",
     "exception": false,
     "start_time": "2021-09-23T02:05:58.272720",
     "status": "completed"
    },
    "tags": []
   },
   "outputs": [
    {
     "data": {
      "text/markdown": [
       "- Why the cryptocurrency industry just needs ‘right type of regulations’.  The U.S. Securities and Exchange Commission (SEC) Chair Gary Gensler has made investor protection his motto. But according to advocate John Deaton, around 20,000 crypto investors disagree. Former marine and current crypto lawyer John Deaton filed a writ of mandamus &#8211; an order for a government body to carry out its duty &#8211; after the SEC [&#8230;] ... [| Skaityti daugiau](https://ambcrypto.com/why-the-cryptocurrency-industry-just-needs-right-type-of-regulations/) "
      ],
      "text/plain": [
       "<IPython.core.display.Markdown object>"
      ]
     },
     "execution_count": 9,
     "metadata": {},
     "output_type": "execute_result"
    }
   ],
   "source": [
    "#hide_input\n",
    "#md('##### {}'.format(titleBTC)) \n",
    "md(\"- {}{} {}{} [| Skaityti daugiau]({}) \".format(exchange['title'],'. ', exchange['body'], ' ...', exchange['url']))"
   ]
  },
  {
   "cell_type": "code",
   "execution_count": null,
   "id": "tender-livestock",
   "metadata": {
    "papermill": {
     "duration": 0.0142,
     "end_time": "2021-09-23T02:05:58.324552",
     "exception": false,
     "start_time": "2021-09-23T02:05:58.310352",
     "status": "completed"
    },
    "tags": []
   },
   "outputs": [],
   "source": []
  },
  {
   "cell_type": "code",
   "execution_count": null,
   "id": "appreciated-diamond",
   "metadata": {
    "papermill": {
     "duration": 0.013706,
     "end_time": "2021-09-23T02:05:58.352232",
     "exception": false,
     "start_time": "2021-09-23T02:05:58.338526",
     "status": "completed"
    },
    "tags": []
   },
   "outputs": [],
   "source": []
  },
  {
   "cell_type": "code",
   "execution_count": null,
   "id": "romance-sweden",
   "metadata": {
    "papermill": {
     "duration": 0.013956,
     "end_time": "2021-09-23T02:05:58.380679",
     "exception": false,
     "start_time": "2021-09-23T02:05:58.366723",
     "status": "completed"
    },
    "tags": []
   },
   "outputs": [],
   "source": []
  },
  {
   "cell_type": "code",
   "execution_count": null,
   "id": "dietary-statistics",
   "metadata": {
    "papermill": {
     "duration": 0.01425,
     "end_time": "2021-09-23T02:05:58.409611",
     "exception": false,
     "start_time": "2021-09-23T02:05:58.395361",
     "status": "completed"
    },
    "tags": []
   },
   "outputs": [],
   "source": []
  }
 ],
 "metadata": {
  "kernelspec": {
   "display_name": "Python 3",
   "language": "python",
   "name": "python3"
  },
  "language_info": {
   "codemirror_mode": {
    "name": "ipython",
    "version": 3
   },
   "file_extension": ".py",
   "mimetype": "text/x-python",
   "name": "python",
   "nbconvert_exporter": "python",
   "pygments_lexer": "ipython3",
   "version": "3.6.15"
  },
  "papermill": {
   "default_parameters": {},
   "duration": 11.893898,
   "end_time": "2021-09-23T02:05:58.831491",
   "environment_variables": {},
   "exception": null,
   "input_path": "Market-News.ipynb",
   "output_path": "Market-News.ipynb",
   "parameters": {},
   "start_time": "2021-09-23T02:05:46.937593",
   "version": "2.2.2"
  }
 },
 "nbformat": 4,
 "nbformat_minor": 5
}