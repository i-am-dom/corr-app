{
 "cells": [
  {
   "cell_type": "markdown",
   "id": "short-greensboro",
   "metadata": {
    "papermill": {
     "duration": 0.017022,
     "end_time": "2021-09-14T02:00:12.155159",
     "exception": false,
     "start_time": "2021-09-14T02:00:12.138137",
     "status": "completed"
    },
    "tags": []
   },
   "source": [
    "# Kriptovaliutų naujienos"
   ]
  },
  {
   "cell_type": "code",
   "execution_count": 1,
   "id": "functioning-knowing",
   "metadata": {
    "execution": {
     "iopub.execute_input": "2021-09-14T02:00:12.185082Z",
     "iopub.status.busy": "2021-09-14T02:00:12.184454Z",
     "iopub.status.idle": "2021-09-14T02:00:13.527304Z",
     "shell.execute_reply": "2021-09-14T02:00:13.526222Z"
    },
    "papermill": {
     "duration": 1.361671,
     "end_time": "2021-09-14T02:00:13.527489",
     "exception": false,
     "start_time": "2021-09-14T02:00:12.165818",
     "status": "completed"
    },
    "tags": []
   },
   "outputs": [],
   "source": [
    "#hide_input\n",
    "import warnings\n",
    "warnings.filterwarnings('ignore')\n",
    "from scripts.read_data import read_api\n",
    "from scripts.read_data import read_news\n",
    "from scripts.read_data import read_covid\n",
    "import matplotlib.pyplot as plt \n",
    "from IPython.display import Markdown as md"
   ]
  },
  {
   "cell_type": "code",
   "execution_count": 2,
   "id": "shared-acceptance",
   "metadata": {
    "execution": {
     "iopub.execute_input": "2021-09-14T02:00:13.556826Z",
     "iopub.status.busy": "2021-09-14T02:00:13.556213Z",
     "iopub.status.idle": "2021-09-14T02:00:23.205061Z",
     "shell.execute_reply": "2021-09-14T02:00:23.203939Z"
    },
    "papermill": {
     "duration": 9.665409,
     "end_time": "2021-09-14T02:00:23.205202",
     "exception": false,
     "start_time": "2021-09-14T02:00:13.539793",
     "status": "completed"
    },
    "tags": []
   },
   "outputs": [],
   "source": [
    "#hide_input\n",
    "blockchain = read_news('blockchain') \n",
    "btc = read_news('btc') \n",
    "xrp = read_news('xrp') \n",
    "trx = read_news('trx') \n",
    "eth = read_news('eth')  \n",
    "ada = read_news('ada')\n",
    "exchange = read_news('exchange') "
   ]
  },
  {
   "cell_type": "code",
   "execution_count": 3,
   "id": "synthetic-notion",
   "metadata": {
    "execution": {
     "iopub.execute_input": "2021-09-14T02:00:23.231856Z",
     "iopub.status.busy": "2021-09-14T02:00:23.231260Z",
     "iopub.status.idle": "2021-09-14T02:00:23.233566Z",
     "shell.execute_reply": "2021-09-14T02:00:23.234096Z"
    },
    "papermill": {
     "duration": 0.019042,
     "end_time": "2021-09-14T02:00:23.234224",
     "exception": false,
     "start_time": "2021-09-14T02:00:23.215182",
     "status": "completed"
    },
    "tags": []
   },
   "outputs": [
    {
     "data": {
      "text/markdown": [
       "- Cardano Successfully Applies Alonzo Hard Fork; Adds Smart Contract Capabilities to Its Blockchain.  Cardano, the third cryptocurrency ranked by market cap, has successfully applied the &#x201C;Alonzo&#x201D; hard fork, adding smart contract capabilities to its functionality. The update, that had been deployed in testnet days ago, finally was incorporated in mainnet yesterday. Cardano is now looking to deploy defi apps, and there are already several parties working on widening [&#8230;] ... [| Skaityti daugiau](https://news.bitcoin.com/cardano-successfully-applies-alonzo-hard-fork-adds-smart-contract-capabilities-to-its-blockchain/) "
      ],
      "text/plain": [
       "<IPython.core.display.Markdown object>"
      ]
     },
     "execution_count": 3,
     "metadata": {},
     "output_type": "execute_result"
    }
   ],
   "source": [
    "#hide_input\n",
    "#md('##### {}'.format(titleBTC)) \n",
    "md(\"- {}{} {}{} [| Skaityti daugiau]({}) \".format(blockchain['title'],'. ', blockchain['body'], ' ...', blockchain['url']))"
   ]
  },
  {
   "cell_type": "code",
   "execution_count": 4,
   "id": "aging-caution",
   "metadata": {
    "execution": {
     "iopub.execute_input": "2021-09-14T02:00:23.260345Z",
     "iopub.status.busy": "2021-09-14T02:00:23.259714Z",
     "iopub.status.idle": "2021-09-14T02:00:23.262825Z",
     "shell.execute_reply": "2021-09-14T02:00:23.263239Z"
    },
    "papermill": {
     "duration": 0.019001,
     "end_time": "2021-09-14T02:00:23.263365",
     "exception": false,
     "start_time": "2021-09-14T02:00:23.244364",
     "status": "completed"
    },
    "tags": []
   },
   "outputs": [
    {
     "data": {
      "text/markdown": [
       "- Institutional traders flock to Solana as demand for ETH and BTC flattens.  Institutions were betting big on Solana investment products last week, with SOL-tracking products attracting 86.6% of institutional inflows to digital asset products last week.  ... [| Skaityti daugiau](https://cointelegraph.com/news/institutional-traders-flock-to-solana-as-demand-for-eth-and-btc-flattens) "
      ],
      "text/plain": [
       "<IPython.core.display.Markdown object>"
      ]
     },
     "execution_count": 4,
     "metadata": {},
     "output_type": "execute_result"
    }
   ],
   "source": [
    "#hide_input\n",
    "#md('##### {}'.format(titleBTC)) \n",
    "md(\"- {}{} {}{} [| Skaityti daugiau]({}) \".format(btc['title'],'. ', btc['body'], ' ...', btc['url']))"
   ]
  },
  {
   "cell_type": "code",
   "execution_count": 5,
   "id": "organic-actress",
   "metadata": {
    "execution": {
     "iopub.execute_input": "2021-09-14T02:00:23.289282Z",
     "iopub.status.busy": "2021-09-14T02:00:23.288303Z",
     "iopub.status.idle": "2021-09-14T02:00:23.292538Z",
     "shell.execute_reply": "2021-09-14T02:00:23.292066Z"
    },
    "papermill": {
     "duration": 0.019033,
     "end_time": "2021-09-14T02:00:23.292660",
     "exception": false,
     "start_time": "2021-09-14T02:00:23.273627",
     "status": "completed"
    },
    "tags": []
   },
   "outputs": [
    {
     "data": {
      "text/markdown": [
       "- Price analysis 9/13: BTC, ETH, ADA, BNB, XRP, SOL, DOT, DOGE, LUNA, UNI.  Bitcoin’s quick dip below $44,000 sent altcoin prices into a freefall and has some traders worried that the correction could deepen.  ... [| Skaityti daugiau](https://cointelegraph.com/news/price-analysis-9-13-btc-eth-ada-bnb-xrp-sol-dot-doge-luna-uni) "
      ],
      "text/plain": [
       "<IPython.core.display.Markdown object>"
      ]
     },
     "execution_count": 5,
     "metadata": {},
     "output_type": "execute_result"
    }
   ],
   "source": [
    "#hide_input\n",
    "#md('##### {}'.format(titleBTC)) \n",
    "md(\"- {}{} {}{} [| Skaityti daugiau]({}) \".format(xrp['title'],'. ', xrp['body'], ' ...', xrp['url']))"
   ]
  },
  {
   "cell_type": "code",
   "execution_count": 6,
   "id": "prompt-farmer",
   "metadata": {
    "execution": {
     "iopub.execute_input": "2021-09-14T02:00:23.319703Z",
     "iopub.status.busy": "2021-09-14T02:00:23.319139Z",
     "iopub.status.idle": "2021-09-14T02:00:23.321848Z",
     "shell.execute_reply": "2021-09-14T02:00:23.322321Z"
    },
    "papermill": {
     "duration": 0.018985,
     "end_time": "2021-09-14T02:00:23.322445",
     "exception": false,
     "start_time": "2021-09-14T02:00:23.303460",
     "status": "completed"
    },
    "tags": []
   },
   "outputs": [
    {
     "data": {
      "text/markdown": [
       "- Another Good News From TRON — Huobi Japan Lists TRX.  Justin Sun, CEO of TRON, tweeted yet another good news for the TRON community. TRON CEO announced in his tweet ... [| Skaityti daugiau](https://coinquora.com/another-good-news-from-tron-huobi-japan-lists-trx/) "
      ],
      "text/plain": [
       "<IPython.core.display.Markdown object>"
      ]
     },
     "execution_count": 6,
     "metadata": {},
     "output_type": "execute_result"
    }
   ],
   "source": [
    "#hide_input\n",
    "#md('##### {}'.format(titleBTC)) \n",
    "md(\"- {}{} {}{} [| Skaityti daugiau]({}) \".format(trx['title'],'. ', trx['body'], ' ...', trx['url']))"
   ]
  },
  {
   "cell_type": "code",
   "execution_count": 7,
   "id": "illegal-greece",
   "metadata": {
    "execution": {
     "iopub.execute_input": "2021-09-14T02:00:23.350391Z",
     "iopub.status.busy": "2021-09-14T02:00:23.349817Z",
     "iopub.status.idle": "2021-09-14T02:00:23.352292Z",
     "shell.execute_reply": "2021-09-14T02:00:23.352778Z"
    },
    "papermill": {
     "duration": 0.018979,
     "end_time": "2021-09-14T02:00:23.352908",
     "exception": false,
     "start_time": "2021-09-14T02:00:23.333929",
     "status": "completed"
    },
    "tags": []
   },
   "outputs": [
    {
     "data": {
      "text/markdown": [
       "- Institutional traders flock to Solana as demand for ETH and BTC flattens.  Institutions were betting big on Solana investment products last week, with SOL-tracking products attracting 86.6% of institutional inflows to digital asset products last week.  ... [| Skaityti daugiau](https://cointelegraph.com/news/institutional-traders-flock-to-solana-as-demand-for-eth-and-btc-flattens) "
      ],
      "text/plain": [
       "<IPython.core.display.Markdown object>"
      ]
     },
     "execution_count": 7,
     "metadata": {},
     "output_type": "execute_result"
    }
   ],
   "source": [
    "#hide_input\n",
    "#md('##### {}'.format(titleBTC)) \n",
    "md(\"- {}{} {}{} [| Skaityti daugiau]({}) \".format(eth['title'],'. ', eth['body'], ' ...', eth['url']))"
   ]
  },
  {
   "cell_type": "code",
   "execution_count": 8,
   "id": "sublime-lounge",
   "metadata": {
    "execution": {
     "iopub.execute_input": "2021-09-14T02:00:23.385196Z",
     "iopub.status.busy": "2021-09-14T02:00:23.384581Z",
     "iopub.status.idle": "2021-09-14T02:00:23.387509Z",
     "shell.execute_reply": "2021-09-14T02:00:23.386795Z"
    },
    "papermill": {
     "duration": 0.023385,
     "end_time": "2021-09-14T02:00:23.387634",
     "exception": false,
     "start_time": "2021-09-14T02:00:23.364249",
     "status": "completed"
    },
    "tags": []
   },
   "outputs": [
    {
     "data": {
      "text/markdown": [
       "- Cardano Successfully Deploys Alonzo HFC, But Why Is Price Down?.  On September 12th, 2021, Cardano successfully completed the final stage of its move to make the network compatible with smart contracts. The long-awaited Alonzo Hard Fork Combinator launch marked the beginning of a new era for Cardano. The developer behind the project, IOHK, took to Twitter to announce the successful upgrade. The new upgrade has been successful so far, with over 50 smart contracts already deployed on the network, and counting. Alonzo’s Hard Fork Combinator (HFC) marks the end of the road for smart contracts capability. But also marks the beginning of a lot of work yet to be done. The community has so far welcomed the upgrade with open arms. Although one thing remains a problem, the price has not gone up in value. Why is this? Related Reading &#124; Cardano Network Upgrade And Hard Fork Gets Support From Binance Why ADA Price Is Down Last week, NewsBTC reported on the possibility of the Cardano smart contracts deployment triggering a “sell the news” event. So far, this seems to have been the case, or what this Twitter user aptly describes as “buy the testnet, sell the mainnet.” This does not mean that most users dumped their bags. In fact, a report from Cardano shows that at least 71% of ADA’s entire coin supply remains locked up in staking contracts, with the current total of staking wallets at approximately 825,755. ADA price down following smart contracts launch &#124; Source: ADAUSD on TradingView.com A maj... ... [| Skaityti daugiau](https://www.newsbtc.com/news/cardano/cardano-successfully-deploys-alonzo-hfc-but-why-is-price-down/) "
      ],
      "text/plain": [
       "<IPython.core.display.Markdown object>"
      ]
     },
     "execution_count": 8,
     "metadata": {},
     "output_type": "execute_result"
    }
   ],
   "source": [
    "#hide_input\n",
    "#md('##### {}'.format(titleBTC)) \n",
    "md(\"- {}{} {}{} [| Skaityti daugiau]({}) \".format(ada['title'],'. ', ada['body'], ' ...', ada['url']))"
   ]
  },
  {
   "cell_type": "code",
   "execution_count": 9,
   "id": "specified-ordering",
   "metadata": {
    "execution": {
     "iopub.execute_input": "2021-09-14T02:00:23.419916Z",
     "iopub.status.busy": "2021-09-14T02:00:23.419264Z",
     "iopub.status.idle": "2021-09-14T02:00:23.422927Z",
     "shell.execute_reply": "2021-09-14T02:00:23.423431Z"
    },
    "papermill": {
     "duration": 0.023299,
     "end_time": "2021-09-14T02:00:23.423570",
     "exception": false,
     "start_time": "2021-09-14T02:00:23.400271",
     "status": "completed"
    },
    "tags": []
   },
   "outputs": [
    {
     "data": {
      "text/markdown": [
       "- Why Is Ukraine Is Doing An “El Salvador” And Making Bitcoin Legal Tender?.  Last week, Ukraine legalized cryptocurrency in a near-unanimous vote. And it looks like the former Soviet bloc republic is taking things a step further by making Bitcoin legal tender. Legal tender refers to a lawfully recognized means of exchange to settle a debt or meet a financial obligation. In other words, if enacted, Bitcoin would [&#8230;] ... [| Skaityti daugiau](https://bitcoinist.com/why-is-ukraine-is-doing-an-el-salvador-and-legalizing-bitcoin-as-currency/?utm_source=rss&utm_medium=rss&utm_campaign=why-is-ukraine-is-doing-an-el-salvador-and-legalizing-bitcoin-as-currency) "
      ],
      "text/plain": [
       "<IPython.core.display.Markdown object>"
      ]
     },
     "execution_count": 9,
     "metadata": {},
     "output_type": "execute_result"
    }
   ],
   "source": [
    "#hide_input\n",
    "#md('##### {}'.format(titleBTC)) \n",
    "md(\"- {}{} {}{} [| Skaityti daugiau]({}) \".format(exchange['title'],'. ', exchange['body'], ' ...', exchange['url']))"
   ]
  },
  {
   "cell_type": "code",
   "execution_count": null,
   "id": "tender-livestock",
   "metadata": {
    "papermill": {
     "duration": 0.012247,
     "end_time": "2021-09-14T02:00:23.448900",
     "exception": false,
     "start_time": "2021-09-14T02:00:23.436653",
     "status": "completed"
    },
    "tags": []
   },
   "outputs": [],
   "source": []
  },
  {
   "cell_type": "code",
   "execution_count": null,
   "id": "appreciated-diamond",
   "metadata": {
    "papermill": {
     "duration": 0.012378,
     "end_time": "2021-09-14T02:00:23.473492",
     "exception": false,
     "start_time": "2021-09-14T02:00:23.461114",
     "status": "completed"
    },
    "tags": []
   },
   "outputs": [],
   "source": []
  },
  {
   "cell_type": "code",
   "execution_count": null,
   "id": "romance-sweden",
   "metadata": {
    "papermill": {
     "duration": 0.012406,
     "end_time": "2021-09-14T02:00:23.497910",
     "exception": false,
     "start_time": "2021-09-14T02:00:23.485504",
     "status": "completed"
    },
    "tags": []
   },
   "outputs": [],
   "source": []
  },
  {
   "cell_type": "code",
   "execution_count": null,
   "id": "dietary-statistics",
   "metadata": {
    "papermill": {
     "duration": 0.014908,
     "end_time": "2021-09-14T02:00:23.525260",
     "exception": false,
     "start_time": "2021-09-14T02:00:23.510352",
     "status": "completed"
    },
    "tags": []
   },
   "outputs": [],
   "source": []
  }
 ],
 "metadata": {
  "kernelspec": {
   "display_name": "Python 3",
   "language": "python",
   "name": "python3"
  },
  "language_info": {
   "codemirror_mode": {
    "name": "ipython",
    "version": 3
   },
   "file_extension": ".py",
   "mimetype": "text/x-python",
   "name": "python",
   "nbconvert_exporter": "python",
   "pygments_lexer": "ipython3",
   "version": "3.6.14"
  },
  "papermill": {
   "default_parameters": {},
   "duration": 12.99323,
   "end_time": "2021-09-14T02:00:24.048461",
   "environment_variables": {},
   "exception": null,
   "input_path": "Market-News.ipynb",
   "output_path": "Market-News.ipynb",
   "parameters": {},
   "start_time": "2021-09-14T02:00:11.055231",
   "version": "2.2.2"
  }
 },
 "nbformat": 4,
 "nbformat_minor": 5
}