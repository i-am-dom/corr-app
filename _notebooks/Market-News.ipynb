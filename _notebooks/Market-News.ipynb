{
 "cells": [
  {
   "cell_type": "markdown",
   "id": "short-greensboro",
   "metadata": {
    "papermill": {
     "duration": 0.014063,
     "end_time": "2022-05-28T02:47:18.692172",
     "exception": false,
     "start_time": "2022-05-28T02:47:18.678109",
     "status": "completed"
    },
    "tags": []
   },
   "source": [
    "# Kriptovaliutų naujienos"
   ]
  },
  {
   "cell_type": "code",
   "execution_count": 1,
   "id": "functioning-knowing",
   "metadata": {
    "execution": {
     "iopub.execute_input": "2022-05-28T02:47:18.721883Z",
     "iopub.status.busy": "2022-05-28T02:47:18.721297Z",
     "iopub.status.idle": "2022-05-28T02:47:19.935550Z",
     "shell.execute_reply": "2022-05-28T02:47:19.934926Z"
    },
    "papermill": {
     "duration": 1.233849,
     "end_time": "2022-05-28T02:47:19.935708",
     "exception": false,
     "start_time": "2022-05-28T02:47:18.701859",
     "status": "completed"
    },
    "tags": []
   },
   "outputs": [],
   "source": [
    "#hide_input\n",
    "import warnings\n",
    "warnings.filterwarnings('ignore')\n",
    "from scripts.read_data import read_api\n",
    "from scripts.read_data import read_news\n",
    "from scripts.read_data import read_covid\n",
    "import matplotlib.pyplot as plt \n",
    "from IPython.display import Markdown as md"
   ]
  },
  {
   "cell_type": "code",
   "execution_count": 2,
   "id": "shared-acceptance",
   "metadata": {
    "execution": {
     "iopub.execute_input": "2022-05-28T02:47:19.960539Z",
     "iopub.status.busy": "2022-05-28T02:47:19.959862Z",
     "iopub.status.idle": "2022-05-28T02:47:29.991554Z",
     "shell.execute_reply": "2022-05-28T02:47:29.991009Z"
    },
    "papermill": {
     "duration": 10.046275,
     "end_time": "2022-05-28T02:47:29.991690",
     "exception": false,
     "start_time": "2022-05-28T02:47:19.945415",
     "status": "completed"
    },
    "tags": []
   },
   "outputs": [],
   "source": [
    "#hide_input\n",
    "blockchain = read_news('blockchain') \n",
    "btc = read_news('btc') \n",
    "xrp = read_news('xrp') \n",
    "trx = read_news('trx') \n",
    "eth = read_news('eth')  \n",
    "ada = read_news('ada')\n",
    "exchange = read_news('exchange') "
   ]
  },
  {
   "cell_type": "code",
   "execution_count": 3,
   "id": "synthetic-notion",
   "metadata": {
    "execution": {
     "iopub.execute_input": "2022-05-28T02:47:30.017157Z",
     "iopub.status.busy": "2022-05-28T02:47:30.016576Z",
     "iopub.status.idle": "2022-05-28T02:47:30.019473Z",
     "shell.execute_reply": "2022-05-28T02:47:30.019889Z"
    },
    "papermill": {
     "duration": 0.018473,
     "end_time": "2022-05-28T02:47:30.020024",
     "exception": false,
     "start_time": "2022-05-28T02:47:30.001551",
     "status": "completed"
    },
    "tags": []
   },
   "outputs": [
    {
     "data": {
      "text/markdown": [
       "- Ethereum Gas Fee Drops To the Lowest in 10 Months.  Ethereum is known for its high gas fees. These high gas fees are a result of the increase in the adoption of its smart contract functionalities. Also, non-fungible tokens (NFT) based on Ethereum’s blockchain surged in popularity throughout 2021 and the beginning of 2022, which also led to a surge in gas fees. However, as more projects are built on other smart contracts blockchains, waning interest in NFTs, and increasing hash rate, Ethereum gas fees have now dropped to the lowest since July 2021. Gas Fee At Lowest In 10 Months Calculated in gwei, Gas fees refer to the amount required to complete a transaction on the Ethereum network. Gas prices fluctuate constantly based on user demand and the supply of computational power from the network’s miners. However, records indicate that Ethereum’s gas fees have been steadily declining since the beginning of the year. It was reported earlier this month that ETH gas fees dropped to the lowest level in 7 months, reaching as low as $8. Clearly, the downward trend has persisted, as gas prices have recently dropped to their lowest point since July of last year. This was the month in which the NFT hype was at its highest point. It is expected that gas prices will continue to drop as consumer interest in NFTs continues to dwindle. According to a new report by Santiment, a website that focuses on providing on-chain data and metrics, the current cost of gas fee for traders is around $2.54 per ... ... [| Skaityti daugiau](https://www.cryptoknowmics.com/news/ethereum-gas-fee-drops-to-the-lowest-in-10-months/?utm_source=rss&utm_medium=rss&utm_campaign=ethereum-gas-fee-drops-to-the-lowest-in-10-months) "
      ],
      "text/plain": [
       "<IPython.core.display.Markdown object>"
      ]
     },
     "execution_count": 3,
     "metadata": {},
     "output_type": "execute_result"
    }
   ],
   "source": [
    "#hide_input\n",
    "#md('##### {}'.format(titleBTC)) \n",
    "md(\"- {}{} {}{} [| Skaityti daugiau]({}) \".format(blockchain['title'],'. ', blockchain['body'], ' ...', blockchain['url']))"
   ]
  },
  {
   "cell_type": "code",
   "execution_count": 4,
   "id": "aging-caution",
   "metadata": {
    "execution": {
     "iopub.execute_input": "2022-05-28T02:47:30.043167Z",
     "iopub.status.busy": "2022-05-28T02:47:30.042557Z",
     "iopub.status.idle": "2022-05-28T02:47:30.046370Z",
     "shell.execute_reply": "2022-05-28T02:47:30.045881Z"
    },
    "papermill": {
     "duration": 0.016956,
     "end_time": "2022-05-28T02:47:30.046491",
     "exception": false,
     "start_time": "2022-05-28T02:47:30.029535",
     "status": "completed"
    },
    "tags": []
   },
   "outputs": [
    {
     "data": {
      "text/markdown": [
       "- Is it the Right Time to Buy Bitcoin? Know-How BTC Price is Gearing Up for a Huge Bull Run!.  The post Is it the Right Time to Buy Bitcoin? Know-How BTC Price is Gearing Up for a Huge Bull Run! appeared first on Coinpedia - Fintech &amp; Cryptocurreny News Media| Crypto GuideAfter swinging with huge uncertainty, Bitcoin prices are showcasing some stability in the prices since the past couple of hours. A significant buying volume appears to have accumulated and hence the prices have flipped from the lower support. An extended upswing may uplift the price beyond the $29,700 levels, but the bears seem to be &#8230; ... [| Skaityti daugiau](https://coinpedia.org/bitcoin/is-it-the-right-time-to-buy-bitcoin-know-how-btc-price-is-gearing-up-for-a-huge-bull-run/) "
      ],
      "text/plain": [
       "<IPython.core.display.Markdown object>"
      ]
     },
     "execution_count": 4,
     "metadata": {},
     "output_type": "execute_result"
    }
   ],
   "source": [
    "#hide_input\n",
    "#md('##### {}'.format(titleBTC)) \n",
    "md(\"- {}{} {}{} [| Skaityti daugiau]({}) \".format(btc['title'],'. ', btc['body'], ' ...', btc['url']))"
   ]
  },
  {
   "cell_type": "code",
   "execution_count": 5,
   "id": "organic-actress",
   "metadata": {
    "execution": {
     "iopub.execute_input": "2022-05-28T02:47:30.076297Z",
     "iopub.status.busy": "2022-05-28T02:47:30.075615Z",
     "iopub.status.idle": "2022-05-28T02:47:30.079150Z",
     "shell.execute_reply": "2022-05-28T02:47:30.078501Z"
    },
    "papermill": {
     "duration": 0.019218,
     "end_time": "2022-05-28T02:47:30.079273",
     "exception": false,
     "start_time": "2022-05-28T02:47:30.060055",
     "status": "completed"
    },
    "tags": []
   },
   "outputs": [
    {
     "data": {
      "text/markdown": [
       "- Ripple Co-Founder Jed McCaleb Sold Over 450 Million $XRP so Far This Year.  Ripple co-founder Jed McCaleb has sold over 450 million $XRP tokens so far this year, and still has a balance of around 220 million tokens in his “~tacostand” wallet, according to data from XRP Ledger explorer XRPScan. McCaleb is said to have started working on Ripple back in 2011, and was part of its founding […] ... [| Skaityti daugiau](https://www.cryptoglobe.com/latest/2022/05/ripple-co-founder-jed-mccaleb-sold-over-450-million-xrp-so-far-this-year/) "
      ],
      "text/plain": [
       "<IPython.core.display.Markdown object>"
      ]
     },
     "execution_count": 5,
     "metadata": {},
     "output_type": "execute_result"
    }
   ],
   "source": [
    "#hide_input\n",
    "#md('##### {}'.format(titleBTC)) \n",
    "md(\"- {}{} {}{} [| Skaityti daugiau]({}) \".format(xrp['title'],'. ', xrp['body'], ' ...', xrp['url']))"
   ]
  },
  {
   "cell_type": "code",
   "execution_count": 6,
   "id": "prompt-farmer",
   "metadata": {
    "execution": {
     "iopub.execute_input": "2022-05-28T02:47:30.103616Z",
     "iopub.status.busy": "2022-05-28T02:47:30.103055Z",
     "iopub.status.idle": "2022-05-28T02:47:30.106246Z",
     "shell.execute_reply": "2022-05-28T02:47:30.106692Z"
    },
    "papermill": {
     "duration": 0.017619,
     "end_time": "2022-05-28T02:47:30.106818",
     "exception": false,
     "start_time": "2022-05-28T02:47:30.089199",
     "status": "completed"
    },
    "tags": []
   },
   "outputs": [
    {
     "data": {
      "text/markdown": [
       "- Top 3 Projects With Market Capitalization Under $10B: TRX, AVAX, and CRO.  AVAX has been down 11.61% in the last 24 hours. Avalanche can help smart contract-enabled applications surpass its rivals. Let ... [| Skaityti daugiau](https://thenewscrypto.com/top-3-projects-with-market-capitalization-under-10b-trx-avax-and-cro/) "
      ],
      "text/plain": [
       "<IPython.core.display.Markdown object>"
      ]
     },
     "execution_count": 6,
     "metadata": {},
     "output_type": "execute_result"
    }
   ],
   "source": [
    "#hide_input\n",
    "#md('##### {}'.format(titleBTC)) \n",
    "md(\"- {}{} {}{} [| Skaityti daugiau]({}) \".format(trx['title'],'. ', trx['body'], ' ...', trx['url']))"
   ]
  },
  {
   "cell_type": "code",
   "execution_count": 7,
   "id": "illegal-greece",
   "metadata": {
    "execution": {
     "iopub.execute_input": "2022-05-28T02:47:30.131611Z",
     "iopub.status.busy": "2022-05-28T02:47:30.131052Z",
     "iopub.status.idle": "2022-05-28T02:47:30.134621Z",
     "shell.execute_reply": "2022-05-28T02:47:30.134133Z"
    },
    "papermill": {
     "duration": 0.017607,
     "end_time": "2022-05-28T02:47:30.134728",
     "exception": false,
     "start_time": "2022-05-28T02:47:30.117121",
     "status": "completed"
    },
    "tags": []
   },
   "outputs": [
    {
     "data": {
      "text/markdown": [
       "- While Terra’s LUNA 2.0 Goes Live, Here Is Why Coinbase Decides To Stay Away.  The post While Terra’s LUNA 2.0 Goes Live, Here Is Why Coinbase Decides To Stay Away appeared first on Coinpedia - Fintech &amp; Cryptocurreny News Media| Crypto GuideFollowing the majority of crypto exchanges&#8217; support for the Luna 2.0 airdrop, Binance is the most supportive, Coinbase&#8217;s silence here is growing louder. Coinbase said that trade in UST and WLUNA, an Ethereum token that represents LUNA, will be suspended on Friday, May 27, 2022, at or around 12 p.m. ET, in the midst of &#8230; ... [| Skaityti daugiau](https://coinpedia.org/news/while-terras-luna-2-0-goes-live-here-is-why-coinbase-decides-to-stay-away/) "
      ],
      "text/plain": [
       "<IPython.core.display.Markdown object>"
      ]
     },
     "execution_count": 7,
     "metadata": {},
     "output_type": "execute_result"
    }
   ],
   "source": [
    "#hide_input\n",
    "#md('##### {}'.format(titleBTC)) \n",
    "md(\"- {}{} {}{} [| Skaityti daugiau]({}) \".format(eth['title'],'. ', eth['body'], ' ...', eth['url']))"
   ]
  },
  {
   "cell_type": "code",
   "execution_count": 8,
   "id": "sublime-lounge",
   "metadata": {
    "execution": {
     "iopub.execute_input": "2022-05-28T02:47:30.161439Z",
     "iopub.status.busy": "2022-05-28T02:47:30.160878Z",
     "iopub.status.idle": "2022-05-28T02:47:30.164568Z",
     "shell.execute_reply": "2022-05-28T02:47:30.164106Z"
    },
    "papermill": {
     "duration": 0.018333,
     "end_time": "2022-05-28T02:47:30.164667",
     "exception": false,
     "start_time": "2022-05-28T02:47:30.146334",
     "status": "completed"
    },
    "tags": []
   },
   "outputs": [
    {
     "data": {
      "text/markdown": [
       "- Cardano [ADA] celebrates this in silence as TVL bloodbath raises eyebrows.  The Cardano community was already euphoric after the recent announcement of the Vasil Hard Fork launch date. But they now have another reason to celebrate as Cardano “reached another interoperability milestone”. The news came after the “lagon Ethereum-Cardano” bridge went live in a beta version. As explained by the IAGON team, the purpose-made token bridge [&#8230;] ... [| Skaityti daugiau](https://ambcrypto.com/cardano-ada-celebrates-this-in-silence-as-tvl-bloodbath-raises-eyebrows/) "
      ],
      "text/plain": [
       "<IPython.core.display.Markdown object>"
      ]
     },
     "execution_count": 8,
     "metadata": {},
     "output_type": "execute_result"
    }
   ],
   "source": [
    "#hide_input\n",
    "#md('##### {}'.format(titleBTC)) \n",
    "md(\"- {}{} {}{} [| Skaityti daugiau]({}) \".format(ada['title'],'. ', ada['body'], ' ...', ada['url']))"
   ]
  },
  {
   "cell_type": "code",
   "execution_count": 9,
   "id": "specified-ordering",
   "metadata": {
    "execution": {
     "iopub.execute_input": "2022-05-28T02:47:30.190980Z",
     "iopub.status.busy": "2022-05-28T02:47:30.190370Z",
     "iopub.status.idle": "2022-05-28T02:47:30.196132Z",
     "shell.execute_reply": "2022-05-28T02:47:30.195668Z"
    },
    "papermill": {
     "duration": 0.02076,
     "end_time": "2022-05-28T02:47:30.196234",
     "exception": false,
     "start_time": "2022-05-28T02:47:30.175474",
     "status": "completed"
    },
    "tags": []
   },
   "outputs": [
    {
     "data": {
      "text/markdown": [
       "- While Terra’s LUNA 2.0 Goes Live, Here Is Why Coinbase Decides To Stay Away.  The post While Terra’s LUNA 2.0 Goes Live, Here Is Why Coinbase Decides To Stay Away appeared first on Coinpedia - Fintech &amp; Cryptocurreny News Media| Crypto GuideFollowing the majority of crypto exchanges&#8217; support for the Luna 2.0 airdrop, Binance is the most supportive, Coinbase&#8217;s silence here is growing louder. Coinbase said that trade in UST and WLUNA, an Ethereum token that represents LUNA, will be suspended on Friday, May 27, 2022, at or around 12 p.m. ET, in the midst of &#8230; ... [| Skaityti daugiau](https://coinpedia.org/news/while-terras-luna-2-0-goes-live-here-is-why-coinbase-decides-to-stay-away/) "
      ],
      "text/plain": [
       "<IPython.core.display.Markdown object>"
      ]
     },
     "execution_count": 9,
     "metadata": {},
     "output_type": "execute_result"
    }
   ],
   "source": [
    "#hide_input\n",
    "#md('##### {}'.format(titleBTC)) \n",
    "md(\"- {}{} {}{} [| Skaityti daugiau]({}) \".format(exchange['title'],'. ', exchange['body'], ' ...', exchange['url']))"
   ]
  },
  {
   "cell_type": "code",
   "execution_count": null,
   "id": "tender-livestock",
   "metadata": {
    "papermill": {
     "duration": 0.011117,
     "end_time": "2022-05-28T02:47:30.218753",
     "exception": false,
     "start_time": "2022-05-28T02:47:30.207636",
     "status": "completed"
    },
    "tags": []
   },
   "outputs": [],
   "source": []
  },
  {
   "cell_type": "code",
   "execution_count": null,
   "id": "appreciated-diamond",
   "metadata": {
    "papermill": {
     "duration": 0.011049,
     "end_time": "2022-05-28T02:47:30.240991",
     "exception": false,
     "start_time": "2022-05-28T02:47:30.229942",
     "status": "completed"
    },
    "tags": []
   },
   "outputs": [],
   "source": []
  },
  {
   "cell_type": "code",
   "execution_count": null,
   "id": "romance-sweden",
   "metadata": {
    "papermill": {
     "duration": 0.011081,
     "end_time": "2022-05-28T02:47:30.264367",
     "exception": false,
     "start_time": "2022-05-28T02:47:30.253286",
     "status": "completed"
    },
    "tags": []
   },
   "outputs": [],
   "source": []
  },
  {
   "cell_type": "code",
   "execution_count": null,
   "id": "dietary-statistics",
   "metadata": {
    "papermill": {
     "duration": 0.011171,
     "end_time": "2022-05-28T02:47:30.286836",
     "exception": false,
     "start_time": "2022-05-28T02:47:30.275665",
     "status": "completed"
    },
    "tags": []
   },
   "outputs": [],
   "source": []
  }
 ],
 "metadata": {
  "kernelspec": {
   "display_name": "Python 3",
   "language": "python",
   "name": "python3"
  },
  "language_info": {
   "codemirror_mode": {
    "name": "ipython",
    "version": 3
   },
   "file_extension": ".py",
   "mimetype": "text/x-python",
   "name": "python",
   "nbconvert_exporter": "python",
   "pygments_lexer": "ipython3",
   "version": "3.6.15"
  },
  "papermill": {
   "default_parameters": {},
   "duration": 12.965053,
   "end_time": "2022-05-28T02:47:30.717784",
   "environment_variables": {},
   "exception": null,
   "input_path": "Market-News.ipynb",
   "output_path": "Market-News.ipynb",
   "parameters": {},
   "start_time": "2022-05-28T02:47:17.752731",
   "version": "2.2.2"
  }
 },
 "nbformat": 4,
 "nbformat_minor": 5
}