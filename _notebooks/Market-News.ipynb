{
 "cells": [
  {
   "cell_type": "markdown",
   "id": "short-greensboro",
   "metadata": {
    "papermill": {
     "duration": 0.015313,
     "end_time": "2021-09-26T02:01:15.036592",
     "exception": false,
     "start_time": "2021-09-26T02:01:15.021279",
     "status": "completed"
    },
    "tags": []
   },
   "source": [
    "# Kriptovaliutų naujienos"
   ]
  },
  {
   "cell_type": "code",
   "execution_count": 1,
   "id": "functioning-knowing",
   "metadata": {
    "execution": {
     "iopub.execute_input": "2021-09-26T02:01:15.074000Z",
     "iopub.status.busy": "2021-09-26T02:01:15.073236Z",
     "iopub.status.idle": "2021-09-26T02:01:16.522276Z",
     "shell.execute_reply": "2021-09-26T02:01:16.521636Z"
    },
    "papermill": {
     "duration": 1.473314,
     "end_time": "2021-09-26T02:01:16.522502",
     "exception": false,
     "start_time": "2021-09-26T02:01:15.049188",
     "status": "completed"
    },
    "tags": []
   },
   "outputs": [],
   "source": [
    "#hide_input\n",
    "import warnings\n",
    "warnings.filterwarnings('ignore')\n",
    "from scripts.read_data import read_api\n",
    "from scripts.read_data import read_news\n",
    "from scripts.read_data import read_covid\n",
    "import matplotlib.pyplot as plt \n",
    "from IPython.display import Markdown as md"
   ]
  },
  {
   "cell_type": "code",
   "execution_count": 2,
   "id": "shared-acceptance",
   "metadata": {
    "execution": {
     "iopub.execute_input": "2021-09-26T02:01:16.552288Z",
     "iopub.status.busy": "2021-09-26T02:01:16.551617Z",
     "iopub.status.idle": "2021-09-26T02:01:25.264688Z",
     "shell.execute_reply": "2021-09-26T02:01:25.264083Z"
    },
    "papermill": {
     "duration": 8.731092,
     "end_time": "2021-09-26T02:01:25.264845",
     "exception": false,
     "start_time": "2021-09-26T02:01:16.533753",
     "status": "completed"
    },
    "tags": []
   },
   "outputs": [],
   "source": [
    "#hide_input\n",
    "blockchain = read_news('blockchain') \n",
    "btc = read_news('btc') \n",
    "xrp = read_news('xrp') \n",
    "trx = read_news('trx') \n",
    "eth = read_news('eth')  \n",
    "ada = read_news('ada')\n",
    "exchange = read_news('exchange') "
   ]
  },
  {
   "cell_type": "code",
   "execution_count": 3,
   "id": "synthetic-notion",
   "metadata": {
    "execution": {
     "iopub.execute_input": "2021-09-26T02:01:25.294579Z",
     "iopub.status.busy": "2021-09-26T02:01:25.293910Z",
     "iopub.status.idle": "2021-09-26T02:01:25.296674Z",
     "shell.execute_reply": "2021-09-26T02:01:25.297217Z"
    },
    "papermill": {
     "duration": 0.020765,
     "end_time": "2021-09-26T02:01:25.297389",
     "exception": false,
     "start_time": "2021-09-26T02:01:25.276624",
     "status": "completed"
    },
    "tags": []
   },
   "outputs": [
    {
     "data": {
      "text/markdown": [
       "- LD Capital Establishes $50M FOF for Supporting High-Quality Blockchain Funds Worldwide Including 1kx.  PRESS RELEASE. LD Capital announced it established a 50 million US dollars FOF towards supporting high-quality blockchain funds worldwide. Besides the financial support, hundreds of the projects invested by LD Capital will be shared as resources to the participated funds with post-investment services such as strategy consulting, market growth, and capital relations to enable the [&#8230;] ... [| Skaityti daugiau](https://news.bitcoin.com/ld-capital-establishes-50m-fof-for-supporting-high-quality-blockchain-funds-worldwide-including-1kx/) "
      ],
      "text/plain": [
       "<IPython.core.display.Markdown object>"
      ]
     },
     "execution_count": 3,
     "metadata": {},
     "output_type": "execute_result"
    }
   ],
   "source": [
    "#hide_input\n",
    "#md('##### {}'.format(titleBTC)) \n",
    "md(\"- {}{} {}{} [| Skaityti daugiau]({}) \".format(blockchain['title'],'. ', blockchain['body'], ' ...', blockchain['url']))"
   ]
  },
  {
   "cell_type": "code",
   "execution_count": 4,
   "id": "aging-caution",
   "metadata": {
    "execution": {
     "iopub.execute_input": "2021-09-26T02:01:25.325107Z",
     "iopub.status.busy": "2021-09-26T02:01:25.324179Z",
     "iopub.status.idle": "2021-09-26T02:01:25.328365Z",
     "shell.execute_reply": "2021-09-26T02:01:25.329063Z"
    },
    "papermill": {
     "duration": 0.02062,
     "end_time": "2021-09-26T02:01:25.329277",
     "exception": false,
     "start_time": "2021-09-26T02:01:25.308657",
     "status": "completed"
    },
    "tags": []
   },
   "outputs": [
    {
     "data": {
      "text/markdown": [
       "- Dogecoin price analysis: DOGE plummets as China central bank deems crypto transactions illegal.   TL;DR Breakdown China reportedly places a ban on crypto services and transactions in the country, plummeting the cryptocurrency marketDogecoin loses over 8 percent in price on intra-day trade following the newsTrading volume declines over 45 percent, indicating panic sell offs Dogecoin price analysis for the day shows a distinct decline for the token, following a reported ban on cryptocurrency services and transactions by China&#8217;s central bank. After dropping as low as $0.2006 in the running bearish trend earlier in the week, the meme cryptocurrency forced a come back on September 23 to record highs of $0.229. However, the upheaval proved to be short-lived as price went back to $0.207, which is the persistent pivot at the time of writing. Support is now set at $0.192 and $0.1750, with more panic sell-offs expected on the day trade.  The larger cryptocurrency market also suffered from the news coming out of China, as Bitcoin dropped around 5 percent at just above $42,000. Ethereum crashed a further 7 percent over 24 hours to sit at $2,880, whereas Altcoins also showed significant dips. Solana dropped 7 percent, Polkadot 8 percent and Ripple 5 percent. However, Cardano surprisingly rose more than 5 percent to solidify above $2.3.  Dogecoin price analysis: Cryptocurrency heat map. Source: Coin360 DOGE/USD 24-hour chart: Price declines despite formation of late bullish hammer pattern On the 24-hour chart for Dogecoin price a... ... [| Skaityti daugiau](https://api.follow.it/track-rss-story-click/v3/tHfgumto13BQIInFqK2lL_9M7fKGWt0o) "
      ],
      "text/plain": [
       "<IPython.core.display.Markdown object>"
      ]
     },
     "execution_count": 4,
     "metadata": {},
     "output_type": "execute_result"
    }
   ],
   "source": [
    "#hide_input\n",
    "#md('##### {}'.format(titleBTC)) \n",
    "md(\"- {}{} {}{} [| Skaityti daugiau]({}) \".format(btc['title'],'. ', btc['body'], ' ...', btc['url']))"
   ]
  },
  {
   "cell_type": "code",
   "execution_count": 5,
   "id": "organic-actress",
   "metadata": {
    "execution": {
     "iopub.execute_input": "2021-09-26T02:01:25.357512Z",
     "iopub.status.busy": "2021-09-26T02:01:25.356892Z",
     "iopub.status.idle": "2021-09-26T02:01:25.360547Z",
     "shell.execute_reply": "2021-09-26T02:01:25.359814Z"
    },
    "papermill": {
     "duration": 0.020136,
     "end_time": "2021-09-26T02:01:25.360657",
     "exception": false,
     "start_time": "2021-09-26T02:01:25.340521",
     "status": "completed"
    },
    "tags": []
   },
   "outputs": [
    {
     "data": {
      "text/markdown": [
       "- This can pave way for XRP’s comeback above $1, perhaps to $1.29.  September has not been kind to XRP. Pressurized by multiple mini-crashes during the month, XRP&#8217;s 30-day ROI slipped to over 12%. With little interest from retail traders, XRP was unable to keep up pace with some of its other counterparts. However, a falling wedge pattern hoped to inject some signs of life into the dull [&#8230;] ... [| Skaityti daugiau](https://ambcrypto.com/this-can-pave-way-for-xrps-comeback-above-1-and-perhaps-even-to-1-29/) "
      ],
      "text/plain": [
       "<IPython.core.display.Markdown object>"
      ]
     },
     "execution_count": 5,
     "metadata": {},
     "output_type": "execute_result"
    }
   ],
   "source": [
    "#hide_input\n",
    "#md('##### {}'.format(titleBTC)) \n",
    "md(\"- {}{} {}{} [| Skaityti daugiau]({}) \".format(xrp['title'],'. ', xrp['body'], ' ...', xrp['url']))"
   ]
  },
  {
   "cell_type": "code",
   "execution_count": 6,
   "id": "prompt-farmer",
   "metadata": {
    "execution": {
     "iopub.execute_input": "2021-09-26T02:01:25.389831Z",
     "iopub.status.busy": "2021-09-26T02:01:25.389170Z",
     "iopub.status.idle": "2021-09-26T02:01:25.393035Z",
     "shell.execute_reply": "2021-09-26T02:01:25.392379Z"
    },
    "papermill": {
     "duration": 0.021014,
     "end_time": "2021-09-26T02:01:25.393185",
     "exception": false,
     "start_time": "2021-09-26T02:01:25.372171",
     "status": "completed"
    },
    "tags": []
   },
   "outputs": [
    {
     "data": {
      "text/markdown": [
       "- Tron, Algorand, VeChain Price Analysis: 25 September.  Tron, Algorand and VeChain all showed consolidation over the last 24 hours. Although the coins showed recovery, the same was yet to reflect on their respective charts. Tron went up and was eyeing its next price resistance mark. VeChain appreciated by 1.3% while, Algorand declined slightly. Tron (TRX) Tron has consolidated over the last trading [&#8230;] ... [| Skaityti daugiau](https://ambcrypto.com/tron-algorand-vechain-price-analysis-25-september/) "
      ],
      "text/plain": [
       "<IPython.core.display.Markdown object>"
      ]
     },
     "execution_count": 6,
     "metadata": {},
     "output_type": "execute_result"
    }
   ],
   "source": [
    "#hide_input\n",
    "#md('##### {}'.format(titleBTC)) \n",
    "md(\"- {}{} {}{} [| Skaityti daugiau]({}) \".format(trx['title'],'. ', trx['body'], ' ...', trx['url']))"
   ]
  },
  {
   "cell_type": "code",
   "execution_count": 7,
   "id": "illegal-greece",
   "metadata": {
    "execution": {
     "iopub.execute_input": "2021-09-26T02:01:25.423196Z",
     "iopub.status.busy": "2021-09-26T02:01:25.421832Z",
     "iopub.status.idle": "2021-09-26T02:01:25.427110Z",
     "shell.execute_reply": "2021-09-26T02:01:25.427597Z"
    },
    "papermill": {
     "duration": 0.021429,
     "end_time": "2021-09-26T02:01:25.427765",
     "exception": false,
     "start_time": "2021-09-26T02:01:25.406336",
     "status": "completed"
    },
    "tags": []
   },
   "outputs": [
    {
     "data": {
      "text/markdown": [
       "- Rich Dad Poor Dad’s Author Now Invests in ETH After BTC and Gold.  The multimillionaire author of “Rich Dad Poor Dad” is telling his followers to seize a number of assets while they can– including Ethereum. ... [| Skaityti daugiau](https://cryptopotato.com/rich-dad-poor-dads-author-now-invests-in-eth-after-btc-and-gold/) "
      ],
      "text/plain": [
       "<IPython.core.display.Markdown object>"
      ]
     },
     "execution_count": 7,
     "metadata": {},
     "output_type": "execute_result"
    }
   ],
   "source": [
    "#hide_input\n",
    "#md('##### {}'.format(titleBTC)) \n",
    "md(\"- {}{} {}{} [| Skaityti daugiau]({}) \".format(eth['title'],'. ', eth['body'], ' ...', eth['url']))"
   ]
  },
  {
   "cell_type": "code",
   "execution_count": 8,
   "id": "sublime-lounge",
   "metadata": {
    "execution": {
     "iopub.execute_input": "2021-09-26T02:01:25.459200Z",
     "iopub.status.busy": "2021-09-26T02:01:25.457992Z",
     "iopub.status.idle": "2021-09-26T02:01:25.462115Z",
     "shell.execute_reply": "2021-09-26T02:01:25.462714Z"
    },
    "papermill": {
     "duration": 0.022523,
     "end_time": "2021-09-26T02:01:25.462844",
     "exception": false,
     "start_time": "2021-09-26T02:01:25.440321",
     "status": "completed"
    },
    "tags": []
   },
   "outputs": [
    {
     "data": {
      "text/markdown": [
       "- Cardano price analysis: ADA breaks above resistance, aims $2.5 next?.   TL;DR Breakdown Cardano price analysis for today shows Cardano is recovering.Next, resistance is found at $2.5.Strong support is found at $2.2. The Cardano price analysis is bullish for today. The price of ADA/USD broke upwards today and is crossing the week-old resistance at the time of writing. Today again, bulls successfully dodged the bearish pressure, and prices started rising. The price of ADA/USD went from $2.2 to $2.36 today in a swift move and is trading at the later value at the time of writing. ADA/USD was one of the less affected coins during yesterday&#8217;s bearish market and is one of the early risers from the bearish spell. Yesterday most of the crypto assets reported huge losses when the market crashed, and today many coins price movement is comparatively slow, including Bitcoin, Ethereum, Ripple, and most top altcoin. But Cardano is recovering at a good rate among others, Terra, Tezos, and Fantom being the fastest ones showing good improvement. ADA/USD 1-day price chart: Bulls rally continues as price increases further The 1-day Cardano price analysis shows that price is going up as bulls continue their march after getting the lead back today. Yesterday a decline in coin value was observed, but today ADA has recovered a good value and is continuously moving up. ADA/USD 1-day price chart. Source: Tradingview The volatility for ADA/USD pair is decreasing, which is a good sign for the cryptocurrency as Bolling... ... [| Skaityti daugiau](https://api.follow.it/track-rss-story-click/v3/tHfgumto13B3uIt0FlfyRJJTpfXVttXD) "
      ],
      "text/plain": [
       "<IPython.core.display.Markdown object>"
      ]
     },
     "execution_count": 8,
     "metadata": {},
     "output_type": "execute_result"
    }
   ],
   "source": [
    "#hide_input\n",
    "#md('##### {}'.format(titleBTC)) \n",
    "md(\"- {}{} {}{} [| Skaityti daugiau]({}) \".format(ada['title'],'. ', ada['body'], ' ...', ada['url']))"
   ]
  },
  {
   "cell_type": "code",
   "execution_count": 9,
   "id": "specified-ordering",
   "metadata": {
    "execution": {
     "iopub.execute_input": "2021-09-26T02:01:25.495245Z",
     "iopub.status.busy": "2021-09-26T02:01:25.494066Z",
     "iopub.status.idle": "2021-09-26T02:01:25.499048Z",
     "shell.execute_reply": "2021-09-26T02:01:25.498537Z"
    },
    "papermill": {
     "duration": 0.022659,
     "end_time": "2021-09-26T02:01:25.499189",
     "exception": false,
     "start_time": "2021-09-26T02:01:25.476530",
     "status": "completed"
    },
    "tags": []
   },
   "outputs": [
    {
     "data": {
      "text/markdown": [
       "- Sam Bankman-Fried’s FTX moves HQ to Bahamas amidst crypto crackdown in China.   TL;DR Breakdown FTX moves HQ to Bahamas.Chinese central bank says crypto is a ‘huge challenge’. Sam Bankman-Fried, FTX digital exchange has announced its decision to move its headquarters and all other important operation from current base in Hong Kong, China, to the Bahamas. The decision to change its head office is due to the People’s Bank of China (PBoC) move to declare all cryptocurrency-related transactions illegal, among several other reasons. Sam Bankman-Fried, founder and CEO of FTX, announced the move via a post from his official Twitter handle. According to him, the crypto derivatives exchange chose the Bahamas because of its proactive stance and supportive regulatory agencies towards digital currencies. 1) We&#39;re really excited to be setting up @FTX_Official&#39;s headquarters in The Bahamas!a) The Bahamas is one of the few places to set up a comprehensive framework for crypto; FTX is registeredb) The Bahamas has emerged from COVID lively, safe, and without quarantine&mdash; SBF (@SBF_FTX) September 24, 2021 FTX, which is the second-largest crypto derivatives exchange by 24-hour open interest, according to CoinGecko, has been headquartered in Hong Kong, China, since 2019. However, the exchange has successfully been registered by the Securities Commission of the Bahamas as a digital assets business. In a statement, Natalie Tien, FTX spokeswoman, also confirmed that the exchange’s Bahamian subsidiary, FTX Digital ... ... [| Skaityti daugiau](https://api.follow.it/track-rss-story-click/v3/tHfgumto13BopL7joxCOjO4sICfMfkNm) "
      ],
      "text/plain": [
       "<IPython.core.display.Markdown object>"
      ]
     },
     "execution_count": 9,
     "metadata": {},
     "output_type": "execute_result"
    }
   ],
   "source": [
    "#hide_input\n",
    "#md('##### {}'.format(titleBTC)) \n",
    "md(\"- {}{} {}{} [| Skaityti daugiau]({}) \".format(exchange['title'],'. ', exchange['body'], ' ...', exchange['url']))"
   ]
  },
  {
   "cell_type": "code",
   "execution_count": null,
   "id": "tender-livestock",
   "metadata": {
    "papermill": {
     "duration": 0.015428,
     "end_time": "2021-09-26T02:01:25.529509",
     "exception": false,
     "start_time": "2021-09-26T02:01:25.514081",
     "status": "completed"
    },
    "tags": []
   },
   "outputs": [],
   "source": []
  },
  {
   "cell_type": "code",
   "execution_count": null,
   "id": "appreciated-diamond",
   "metadata": {
    "papermill": {
     "duration": 0.01433,
     "end_time": "2021-09-26T02:01:25.557649",
     "exception": false,
     "start_time": "2021-09-26T02:01:25.543319",
     "status": "completed"
    },
    "tags": []
   },
   "outputs": [],
   "source": []
  },
  {
   "cell_type": "code",
   "execution_count": null,
   "id": "romance-sweden",
   "metadata": {
    "papermill": {
     "duration": 0.014019,
     "end_time": "2021-09-26T02:01:25.585954",
     "exception": false,
     "start_time": "2021-09-26T02:01:25.571935",
     "status": "completed"
    },
    "tags": []
   },
   "outputs": [],
   "source": []
  },
  {
   "cell_type": "code",
   "execution_count": null,
   "id": "dietary-statistics",
   "metadata": {
    "papermill": {
     "duration": 0.014412,
     "end_time": "2021-09-26T02:01:25.614673",
     "exception": false,
     "start_time": "2021-09-26T02:01:25.600261",
     "status": "completed"
    },
    "tags": []
   },
   "outputs": [],
   "source": []
  }
 ],
 "metadata": {
  "kernelspec": {
   "display_name": "Python 3",
   "language": "python",
   "name": "python3"
  },
  "language_info": {
   "codemirror_mode": {
    "name": "ipython",
    "version": 3
   },
   "file_extension": ".py",
   "mimetype": "text/x-python",
   "name": "python",
   "nbconvert_exporter": "python",
   "pygments_lexer": "ipython3",
   "version": "3.6.15"
  },
  "papermill": {
   "default_parameters": {},
   "duration": 12.113189,
   "end_time": "2021-09-26T02:01:26.037914",
   "environment_variables": {},
   "exception": null,
   "input_path": "Market-News.ipynb",
   "output_path": "Market-News.ipynb",
   "parameters": {},
   "start_time": "2021-09-26T02:01:13.924725",
   "version": "2.2.2"
  }
 },
 "nbformat": 4,
 "nbformat_minor": 5
}