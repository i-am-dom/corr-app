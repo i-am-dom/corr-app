{
 "cells": [
  {
   "cell_type": "markdown",
   "id": "short-greensboro",
   "metadata": {
    "papermill": {
     "duration": 0.011674,
     "end_time": "2022-06-05T02:53:04.502493",
     "exception": false,
     "start_time": "2022-06-05T02:53:04.490819",
     "status": "completed"
    },
    "tags": []
   },
   "source": [
    "# Kriptovaliutų naujienos"
   ]
  },
  {
   "cell_type": "code",
   "execution_count": 1,
   "id": "functioning-knowing",
   "metadata": {
    "execution": {
     "iopub.execute_input": "2022-06-05T02:53:04.529404Z",
     "iopub.status.busy": "2022-06-05T02:53:04.528677Z",
     "iopub.status.idle": "2022-06-05T02:53:05.672754Z",
     "shell.execute_reply": "2022-06-05T02:53:05.672132Z"
    },
    "papermill": {
     "duration": 1.16168,
     "end_time": "2022-06-05T02:53:05.672917",
     "exception": false,
     "start_time": "2022-06-05T02:53:04.511237",
     "status": "completed"
    },
    "tags": []
   },
   "outputs": [],
   "source": [
    "#hide_input\n",
    "import warnings\n",
    "warnings.filterwarnings('ignore')\n",
    "from scripts.read_data import read_api\n",
    "from scripts.read_data import read_news\n",
    "from scripts.read_data import read_covid\n",
    "import matplotlib.pyplot as plt \n",
    "from IPython.display import Markdown as md"
   ]
  },
  {
   "cell_type": "code",
   "execution_count": 2,
   "id": "shared-acceptance",
   "metadata": {
    "execution": {
     "iopub.execute_input": "2022-06-05T02:53:05.697214Z",
     "iopub.status.busy": "2022-06-05T02:53:05.696663Z",
     "iopub.status.idle": "2022-06-05T02:53:17.782188Z",
     "shell.execute_reply": "2022-06-05T02:53:17.781622Z"
    },
    "papermill": {
     "duration": 12.099864,
     "end_time": "2022-06-05T02:53:17.782312",
     "exception": false,
     "start_time": "2022-06-05T02:53:05.682448",
     "status": "completed"
    },
    "tags": []
   },
   "outputs": [],
   "source": [
    "#hide_input\n",
    "blockchain = read_news('blockchain') \n",
    "btc = read_news('btc') \n",
    "xrp = read_news('xrp') \n",
    "trx = read_news('trx') \n",
    "eth = read_news('eth')  \n",
    "ada = read_news('ada')\n",
    "exchange = read_news('exchange') "
   ]
  },
  {
   "cell_type": "code",
   "execution_count": 3,
   "id": "synthetic-notion",
   "metadata": {
    "execution": {
     "iopub.execute_input": "2022-06-05T02:53:17.805068Z",
     "iopub.status.busy": "2022-06-05T02:53:17.804536Z",
     "iopub.status.idle": "2022-06-05T02:53:17.808594Z",
     "shell.execute_reply": "2022-06-05T02:53:17.808985Z"
    },
    "papermill": {
     "duration": 0.01822,
     "end_time": "2022-06-05T02:53:17.809098",
     "exception": false,
     "start_time": "2022-06-05T02:53:17.790878",
     "status": "completed"
    },
    "tags": []
   },
   "outputs": [
    {
     "data": {
      "text/markdown": [
       "- Layoffs Spread Across the Blockchain Industry as Bear Market Cycle Impacts Crypto Firms.  As digital currency prices have slid significantly in value during the past few months, the bear market cycle is starting to take its toll on the crypto industry&#x2019;s workforce. On June 2, Gemini&#x2019;s co-founders the Winklevoss brothers revealed the company would lay off 10% of its employees. The same day, one of the Middle East&#x2019;s [&#8230;] ... [| Skaityti daugiau](https://news.bitcoin.com/layoffs-spread-across-the-blockchain-industry-as-bear-market-cycle-impacts-crypto-firms/) "
      ],
      "text/plain": [
       "<IPython.core.display.Markdown object>"
      ]
     },
     "execution_count": 3,
     "metadata": {},
     "output_type": "execute_result"
    }
   ],
   "source": [
    "#hide_input\n",
    "#md('##### {}'.format(titleBTC)) \n",
    "md(\"- {}{} {}{} [| Skaityti daugiau]({}) \".format(blockchain['title'],'. ', blockchain['body'], ' ...', blockchain['url']))"
   ]
  },
  {
   "cell_type": "code",
   "execution_count": 4,
   "id": "aging-caution",
   "metadata": {
    "execution": {
     "iopub.execute_input": "2022-06-05T02:53:17.830416Z",
     "iopub.status.busy": "2022-06-05T02:53:17.829868Z",
     "iopub.status.idle": "2022-06-05T02:53:17.833081Z",
     "shell.execute_reply": "2022-06-05T02:53:17.833573Z"
    },
    "papermill": {
     "duration": 0.01638,
     "end_time": "2022-06-05T02:53:17.833681",
     "exception": false,
     "start_time": "2022-06-05T02:53:17.817301",
     "status": "completed"
    },
    "tags": []
   },
   "outputs": [
    {
     "data": {
      "text/markdown": [
       "- XRP Consolidates, Is It Going To Retrace Now?.  XRP among other leading altcoins have been consolidating on its chart. Bitcoin slid below the $30,000 price level which has dampened the price action of altcoins. Over the last 24 hours, XRP made no price movement. In the last 24 hours, the altcoin gained a minor 2.4%. On the chart, the coin displayed bearish price action as the coin might be breaking the consolidation. The coin currently has found support at $0.34. The coin last touched the price level in the month of February 2021. If the coin pushes below further then it may touch the support level of $0.28. The global cryptocurrency market cap today was at $1.28 Trillion with a 0.7% positive change in the past 24 hours. If bulls still continue to struggle to break past the $0.43 resistance level then the coin is headed for another downslide. XRP Price Analysis: One Day Chart The coin was trading at $0.38 at the time of writing. The local support level for the coin stood at $0.33. If the coin continues to experience selling pressure then it could fall to a low of $0.28. Overhead resistance for the coin stood at $0.40. For the bulls to be back, XRP needs to break past the aforementioned price resistance and trade near $0.43. The volume of XRP traded had plummeted as seen on the one day chart. The volume bar was seen in the red which showed bearish significance in the market. Technical Analysis The buying strength tried to rise on the chart. After the coin was oversold it rec... ... [| Skaityti daugiau](https://www.newsbtc.com/news/xrp-consolidates-is-it-going-to-retrace-now/) "
      ],
      "text/plain": [
       "<IPython.core.display.Markdown object>"
      ]
     },
     "execution_count": 4,
     "metadata": {},
     "output_type": "execute_result"
    }
   ],
   "source": [
    "#hide_input\n",
    "#md('##### {}'.format(titleBTC)) \n",
    "md(\"- {}{} {}{} [| Skaityti daugiau]({}) \".format(btc['title'],'. ', btc['body'], ' ...', btc['url']))"
   ]
  },
  {
   "cell_type": "code",
   "execution_count": 5,
   "id": "organic-actress",
   "metadata": {
    "execution": {
     "iopub.execute_input": "2022-06-05T02:53:17.855396Z",
     "iopub.status.busy": "2022-06-05T02:53:17.854881Z",
     "iopub.status.idle": "2022-06-05T02:53:17.858098Z",
     "shell.execute_reply": "2022-06-05T02:53:17.857683Z"
    },
    "papermill": {
     "duration": 0.015821,
     "end_time": "2022-06-05T02:53:17.858194",
     "exception": false,
     "start_time": "2022-06-05T02:53:17.842373",
     "status": "completed"
    },
    "tags": []
   },
   "outputs": [
    {
     "data": {
      "text/markdown": [
       "- XRP Consolidates, Is It Going To Retrace Now?.  XRP among other leading altcoins have been consolidating on its chart. Bitcoin slid below the $30,000 price level which has dampened the price action of altcoins. Over the last 24 hours, XRP made no price movement. In the last 24 hours, the altcoin gained a minor 2.4%. On the chart, the coin displayed bearish price action as the coin might be breaking the consolidation. The coin currently has found support at $0.34. The coin last touched the price level in the month of February 2021. If the coin pushes below further then it may touch the support level of $0.28. The global cryptocurrency market cap today was at $1.28 Trillion with a 0.7% positive change in the past 24 hours. If bulls still continue to struggle to break past the $0.43 resistance level then the coin is headed for another downslide. XRP Price Analysis: One Day Chart The coin was trading at $0.38 at the time of writing. The local support level for the coin stood at $0.33. If the coin continues to experience selling pressure then it could fall to a low of $0.28. Overhead resistance for the coin stood at $0.40. For the bulls to be back, XRP needs to break past the aforementioned price resistance and trade near $0.43. The volume of XRP traded had plummeted as seen on the one day chart. The volume bar was seen in the red which showed bearish significance in the market. Technical Analysis The buying strength tried to rise on the chart. After the coin was oversold it rec... ... [| Skaityti daugiau](https://www.newsbtc.com/news/xrp-consolidates-is-it-going-to-retrace-now/) "
      ],
      "text/plain": [
       "<IPython.core.display.Markdown object>"
      ]
     },
     "execution_count": 5,
     "metadata": {},
     "output_type": "execute_result"
    }
   ],
   "source": [
    "#hide_input\n",
    "#md('##### {}'.format(titleBTC)) \n",
    "md(\"- {}{} {}{} [| Skaityti daugiau]({}) \".format(xrp['title'],'. ', xrp['body'], ' ...', xrp['url']))"
   ]
  },
  {
   "cell_type": "code",
   "execution_count": 6,
   "id": "prompt-farmer",
   "metadata": {
    "execution": {
     "iopub.execute_input": "2022-06-05T02:53:17.880555Z",
     "iopub.status.busy": "2022-06-05T02:53:17.880030Z",
     "iopub.status.idle": "2022-06-05T02:53:17.882709Z",
     "shell.execute_reply": "2022-06-05T02:53:17.883083Z"
    },
    "papermill": {
     "duration": 0.016177,
     "end_time": "2022-06-05T02:53:17.883199",
     "exception": false,
     "start_time": "2022-06-05T02:53:17.867022",
     "status": "completed"
    },
    "tags": []
   },
   "outputs": [
    {
     "data": {
      "text/markdown": [
       "- Tron price analysis: TRX faces another rejection at $0.1 mark to go into retracement phase.  Tron price analysis is showing bearish signs once again as price began a significant retracement after increasing up to $0.092 on Wednesday. Sellers were quick to apply pressure and pull price back before hitting the crucial $0.1 mark, meaning Tron continues to face rejection at this mark since May 8, 2022. TRX dropped more than... ... [| Skaityti daugiau](https://www.cryptopolitan.com/tron-price-analysis-2022-06-03/) "
      ],
      "text/plain": [
       "<IPython.core.display.Markdown object>"
      ]
     },
     "execution_count": 6,
     "metadata": {},
     "output_type": "execute_result"
    }
   ],
   "source": [
    "#hide_input\n",
    "#md('##### {}'.format(titleBTC)) \n",
    "md(\"- {}{} {}{} [| Skaityti daugiau]({}) \".format(trx['title'],'. ', trx['body'], ' ...', trx['url']))"
   ]
  },
  {
   "cell_type": "code",
   "execution_count": 7,
   "id": "illegal-greece",
   "metadata": {
    "execution": {
     "iopub.execute_input": "2022-06-05T02:53:17.905467Z",
     "iopub.status.busy": "2022-06-05T02:53:17.904433Z",
     "iopub.status.idle": "2022-06-05T02:53:17.908147Z",
     "shell.execute_reply": "2022-06-05T02:53:17.908547Z"
    },
    "papermill": {
     "duration": 0.01624,
     "end_time": "2022-06-05T02:53:17.908658",
     "exception": false,
     "start_time": "2022-06-05T02:53:17.892418",
     "status": "completed"
    },
    "tags": []
   },
   "outputs": [
    {
     "data": {
      "text/markdown": [
       "- Bored Ape Yacht Club’s Discord was ‘briefly exploited’ resulting in 200 ETH in NFT thefts.  BAYC has become a sweet spot for hackers and snipers over the last year. ... [| Skaityti daugiau](https://www.theblockcrypto.com/linked/150187/bored-ape-yacht-clubs-discord-was-briefly-exploited-resulting-in-200-eth-in-nft-thefts?utm_source=cryptocompare&utm_medium=rss) "
      ],
      "text/plain": [
       "<IPython.core.display.Markdown object>"
      ]
     },
     "execution_count": 7,
     "metadata": {},
     "output_type": "execute_result"
    }
   ],
   "source": [
    "#hide_input\n",
    "#md('##### {}'.format(titleBTC)) \n",
    "md(\"- {}{} {}{} [| Skaityti daugiau]({}) \".format(eth['title'],'. ', eth['body'], ' ...', eth['url']))"
   ]
  },
  {
   "cell_type": "code",
   "execution_count": 8,
   "id": "sublime-lounge",
   "metadata": {
    "execution": {
     "iopub.execute_input": "2022-06-05T02:53:17.932269Z",
     "iopub.status.busy": "2022-06-05T02:53:17.931750Z",
     "iopub.status.idle": "2022-06-05T02:53:17.934973Z",
     "shell.execute_reply": "2022-06-05T02:53:17.935463Z"
    },
    "papermill": {
     "duration": 0.017588,
     "end_time": "2022-06-05T02:53:17.935571",
     "exception": false,
     "start_time": "2022-06-05T02:53:17.917983",
     "status": "completed"
    },
    "tags": []
   },
   "outputs": [
    {
     "data": {
      "text/markdown": [
       "- Cardano Whale Transactions Signal $ADA Upside As On-Chain Activity Hits Extreme Bullish Levels.  In a tweet revealing the accumulation, the on-chain analytics firm noted that the latest wave of Cardano whale accumulations jolted ADA’s price ... [| Skaityti daugiau](https://zycrypto.com/cardano-whale-transactions-signal-ada-upside-as-on-chain-activity-hits-extreme-bullish-levels/) "
      ],
      "text/plain": [
       "<IPython.core.display.Markdown object>"
      ]
     },
     "execution_count": 8,
     "metadata": {},
     "output_type": "execute_result"
    }
   ],
   "source": [
    "#hide_input\n",
    "#md('##### {}'.format(titleBTC)) \n",
    "md(\"- {}{} {}{} [| Skaityti daugiau]({}) \".format(ada['title'],'. ', ada['body'], ' ...', ada['url']))"
   ]
  },
  {
   "cell_type": "code",
   "execution_count": 9,
   "id": "specified-ordering",
   "metadata": {
    "execution": {
     "iopub.execute_input": "2022-06-05T02:53:17.961195Z",
     "iopub.status.busy": "2022-06-05T02:53:17.960671Z",
     "iopub.status.idle": "2022-06-05T02:53:17.964481Z",
     "shell.execute_reply": "2022-06-05T02:53:17.964058Z"
    },
    "papermill": {
     "duration": 0.018196,
     "end_time": "2022-06-05T02:53:17.964581",
     "exception": false,
     "start_time": "2022-06-05T02:53:17.946385",
     "status": "completed"
    },
    "tags": []
   },
   "outputs": [
    {
     "data": {
      "text/markdown": [
       "- Defi Educator Says $22 Billion in ETH 2.0 Funds Won’t Be Liquid Immediately After PoS Transition.  As Ethereum&#x2019;s transition to proof-of-stake (PoS) gets closer and the network&#x2019;s hashrate taps another all-time high, the Ethereum 2.0 contract is close to nearing 13 million ether worth $22.6 billion using today&#x2019;s ether exchange rates. Moreover, according to a decentralized finance (defi) educator, the $22.6 billion worth of ethereum that continues to grow won&#x2019;t be [&#8230;] ... [| Skaityti daugiau](https://news.bitcoin.com/defi-educator-says-22-billion-in-eth-2-0-funds-wont-be-liquid-immediately-after-pos-transition/) "
      ],
      "text/plain": [
       "<IPython.core.display.Markdown object>"
      ]
     },
     "execution_count": 9,
     "metadata": {},
     "output_type": "execute_result"
    }
   ],
   "source": [
    "#hide_input\n",
    "#md('##### {}'.format(titleBTC)) \n",
    "md(\"- {}{} {}{} [| Skaityti daugiau]({}) \".format(exchange['title'],'. ', exchange['body'], ' ...', exchange['url']))"
   ]
  },
  {
   "cell_type": "code",
   "execution_count": null,
   "id": "tender-livestock",
   "metadata": {
    "papermill": {
     "duration": 0.010054,
     "end_time": "2022-06-05T02:53:17.984720",
     "exception": false,
     "start_time": "2022-06-05T02:53:17.974666",
     "status": "completed"
    },
    "tags": []
   },
   "outputs": [],
   "source": []
  },
  {
   "cell_type": "code",
   "execution_count": null,
   "id": "appreciated-diamond",
   "metadata": {
    "papermill": {
     "duration": 0.009979,
     "end_time": "2022-06-05T02:53:18.004818",
     "exception": false,
     "start_time": "2022-06-05T02:53:17.994839",
     "status": "completed"
    },
    "tags": []
   },
   "outputs": [],
   "source": []
  },
  {
   "cell_type": "code",
   "execution_count": null,
   "id": "romance-sweden",
   "metadata": {
    "papermill": {
     "duration": 0.009893,
     "end_time": "2022-06-05T02:53:18.024710",
     "exception": false,
     "start_time": "2022-06-05T02:53:18.014817",
     "status": "completed"
    },
    "tags": []
   },
   "outputs": [],
   "source": []
  },
  {
   "cell_type": "code",
   "execution_count": null,
   "id": "dietary-statistics",
   "metadata": {
    "papermill": {
     "duration": 0.009886,
     "end_time": "2022-06-05T02:53:18.044493",
     "exception": false,
     "start_time": "2022-06-05T02:53:18.034607",
     "status": "completed"
    },
    "tags": []
   },
   "outputs": [],
   "source": []
  }
 ],
 "metadata": {
  "kernelspec": {
   "display_name": "Python 3",
   "language": "python",
   "name": "python3"
  },
  "language_info": {
   "codemirror_mode": {
    "name": "ipython",
    "version": 3
   },
   "file_extension": ".py",
   "mimetype": "text/x-python",
   "name": "python",
   "nbconvert_exporter": "python",
   "pygments_lexer": "ipython3",
   "version": "3.6.15"
  },
  "papermill": {
   "default_parameters": {},
   "duration": 14.989429,
   "end_time": "2022-06-05T02:53:18.574813",
   "environment_variables": {},
   "exception": null,
   "input_path": "Market-News.ipynb",
   "output_path": "Market-News.ipynb",
   "parameters": {},
   "start_time": "2022-06-05T02:53:03.585384",
   "version": "2.2.2"
  }
 },
 "nbformat": 4,
 "nbformat_minor": 5
}