{
 "cells": [
  {
   "cell_type": "markdown",
   "id": "short-greensboro",
   "metadata": {
    "papermill": {
     "duration": 0.016287,
     "end_time": "2022-03-23T02:33:15.564149",
     "exception": false,
     "start_time": "2022-03-23T02:33:15.547862",
     "status": "completed"
    },
    "tags": []
   },
   "source": [
    "# Kriptovaliutų naujienos"
   ]
  },
  {
   "cell_type": "code",
   "execution_count": 1,
   "id": "functioning-knowing",
   "metadata": {
    "execution": {
     "iopub.execute_input": "2022-03-23T02:33:15.598604Z",
     "iopub.status.busy": "2022-03-23T02:33:15.597761Z",
     "iopub.status.idle": "2022-03-23T02:33:17.213082Z",
     "shell.execute_reply": "2022-03-23T02:33:17.212024Z"
    },
    "papermill": {
     "duration": 1.637285,
     "end_time": "2022-03-23T02:33:17.213295",
     "exception": false,
     "start_time": "2022-03-23T02:33:15.576010",
     "status": "completed"
    },
    "tags": []
   },
   "outputs": [],
   "source": [
    "#hide_input\n",
    "import warnings\n",
    "warnings.filterwarnings('ignore')\n",
    "from scripts.read_data import read_api\n",
    "from scripts.read_data import read_news\n",
    "from scripts.read_data import read_covid\n",
    "import matplotlib.pyplot as plt \n",
    "from IPython.display import Markdown as md"
   ]
  },
  {
   "cell_type": "code",
   "execution_count": 2,
   "id": "shared-acceptance",
   "metadata": {
    "execution": {
     "iopub.execute_input": "2022-03-23T02:33:17.242779Z",
     "iopub.status.busy": "2022-03-23T02:33:17.241443Z",
     "iopub.status.idle": "2022-03-23T02:33:29.339680Z",
     "shell.execute_reply": "2022-03-23T02:33:29.339200Z"
    },
    "papermill": {
     "duration": 12.115845,
     "end_time": "2022-03-23T02:33:29.339807",
     "exception": false,
     "start_time": "2022-03-23T02:33:17.223962",
     "status": "completed"
    },
    "tags": []
   },
   "outputs": [],
   "source": [
    "#hide_input\n",
    "blockchain = read_news('blockchain') \n",
    "btc = read_news('btc') \n",
    "xrp = read_news('xrp') \n",
    "trx = read_news('trx') \n",
    "eth = read_news('eth')  \n",
    "ada = read_news('ada')\n",
    "exchange = read_news('exchange') "
   ]
  },
  {
   "cell_type": "code",
   "execution_count": 3,
   "id": "synthetic-notion",
   "metadata": {
    "execution": {
     "iopub.execute_input": "2022-03-23T02:33:29.367147Z",
     "iopub.status.busy": "2022-03-23T02:33:29.366592Z",
     "iopub.status.idle": "2022-03-23T02:33:29.372751Z",
     "shell.execute_reply": "2022-03-23T02:33:29.372264Z"
    },
    "papermill": {
     "duration": 0.023075,
     "end_time": "2022-03-23T02:33:29.372888",
     "exception": false,
     "start_time": "2022-03-23T02:33:29.349813",
     "status": "completed"
    },
    "tags": []
   },
   "outputs": [
    {
     "data": {
      "text/markdown": [
       "- Bitcoin accumulation game continues as BTC once again below $42K.  Bitcoin price analysis for March 23, 2022, comes on a sluggish note for the world&#8217;s first cryptocurrency as BTC remains below the $42K price level which has failed to act as a support. Moreover, the token has been showing very irregular waves of surge and fall. Hence, traders are advised not to trade in such [&#8230;]The post Bitcoin accumulation game continues as BTC once again below $42K appeared first on Blockchain, Crypto and Stock News. ... [| Skaityti daugiau](https://thecoinrise.com/bitcoin-accumulation-game-continues-as-btc-once-again-below-42k/) "
      ],
      "text/plain": [
       "<IPython.core.display.Markdown object>"
      ]
     },
     "execution_count": 3,
     "metadata": {},
     "output_type": "execute_result"
    }
   ],
   "source": [
    "#hide_input\n",
    "#md('##### {}'.format(titleBTC)) \n",
    "md(\"- {}{} {}{} [| Skaityti daugiau]({}) \".format(blockchain['title'],'. ', blockchain['body'], ' ...', blockchain['url']))"
   ]
  },
  {
   "cell_type": "code",
   "execution_count": 4,
   "id": "aging-caution",
   "metadata": {
    "execution": {
     "iopub.execute_input": "2022-03-23T02:33:29.399417Z",
     "iopub.status.busy": "2022-03-23T02:33:29.398737Z",
     "iopub.status.idle": "2022-03-23T02:33:29.402101Z",
     "shell.execute_reply": "2022-03-23T02:33:29.401545Z"
    },
    "papermill": {
     "duration": 0.018734,
     "end_time": "2022-03-23T02:33:29.402235",
     "exception": false,
     "start_time": "2022-03-23T02:33:29.383501",
     "status": "completed"
    },
    "tags": []
   },
   "outputs": [
    {
     "data": {
      "text/markdown": [
       "- Bitcoin accumulation game continues as BTC once again below $42K.  Bitcoin price analysis for March 23, 2022, comes on a sluggish note for the world&#8217;s first cryptocurrency as BTC remains below the $42K price level which has failed to act as a support. Moreover, the token has been showing very irregular waves of surge and fall. Hence, traders are advised not to trade in such [&#8230;]The post Bitcoin accumulation game continues as BTC once again below $42K appeared first on Blockchain, Crypto and Stock News. ... [| Skaityti daugiau](https://thecoinrise.com/bitcoin-accumulation-game-continues-as-btc-once-again-below-42k/) "
      ],
      "text/plain": [
       "<IPython.core.display.Markdown object>"
      ]
     },
     "execution_count": 4,
     "metadata": {},
     "output_type": "execute_result"
    }
   ],
   "source": [
    "#hide_input\n",
    "#md('##### {}'.format(titleBTC)) \n",
    "md(\"- {}{} {}{} [| Skaityti daugiau]({}) \".format(btc['title'],'. ', btc['body'], ' ...', btc['url']))"
   ]
  },
  {
   "cell_type": "code",
   "execution_count": 5,
   "id": "organic-actress",
   "metadata": {
    "execution": {
     "iopub.execute_input": "2022-03-23T02:33:29.431586Z",
     "iopub.status.busy": "2022-03-23T02:33:29.430941Z",
     "iopub.status.idle": "2022-03-23T02:33:29.434914Z",
     "shell.execute_reply": "2022-03-23T02:33:29.434297Z"
    },
    "papermill": {
     "duration": 0.021462,
     "end_time": "2022-03-23T02:33:29.435030",
     "exception": false,
     "start_time": "2022-03-23T02:33:29.413568",
     "status": "completed"
    },
    "tags": []
   },
   "outputs": [
    {
     "data": {
      "text/markdown": [
       "- How XRP Was Added To Multichain To Connect With EVM Blockchains.  The cryptocurrency powering the XRP Ledger (XRPL), XRP, will be accessible via other blockchains. According to an official post, Multichain has added support for the XRPL to connect it with Ethereum Virtual Machine (EVM) and non-EVM compliant blockchains. Related Reading &#124; Ethereum Whale Snaps Up $6 Million Worth Of SHIB As Accumulation Trend Continues Formerly [&#8230;] ... [| Skaityti daugiau](https://bitcoinist.com/xrp-added-multichain-connect-with-evm-blockchains/) "
      ],
      "text/plain": [
       "<IPython.core.display.Markdown object>"
      ]
     },
     "execution_count": 5,
     "metadata": {},
     "output_type": "execute_result"
    }
   ],
   "source": [
    "#hide_input\n",
    "#md('##### {}'.format(titleBTC)) \n",
    "md(\"- {}{} {}{} [| Skaityti daugiau]({}) \".format(xrp['title'],'. ', xrp['body'], ' ...', xrp['url']))"
   ]
  },
  {
   "cell_type": "code",
   "execution_count": 6,
   "id": "prompt-farmer",
   "metadata": {
    "execution": {
     "iopub.execute_input": "2022-03-23T02:33:29.461630Z",
     "iopub.status.busy": "2022-03-23T02:33:29.460851Z",
     "iopub.status.idle": "2022-03-23T02:33:29.464181Z",
     "shell.execute_reply": "2022-03-23T02:33:29.463685Z"
    },
    "papermill": {
     "duration": 0.018627,
     "end_time": "2022-03-23T02:33:29.464301",
     "exception": false,
     "start_time": "2022-03-23T02:33:29.445674",
     "status": "completed"
    },
    "tags": []
   },
   "outputs": [
    {
     "data": {
      "text/markdown": [
       "- What SEC v. Ripple has in common with the allegations against Sun, TRON.  If TRON DAO &#8211; née TRON &#8211; wasn&#8217;t enough of a conversation starter, an investigative piece by journalist Chris Harland-Dunaway published in The Verge dropped a bomb. It accused Tron founder Justin Sun of actions ranging from getting ICO ban tip-offs to insider trading. In a conversation with journalist Laura Shin, Harland-Dunaway revealed more details [&#8230;] ... [| Skaityti daugiau](https://ambcrypto.com/what-sec-v-ripple-has-in-common-with-the-allegations-against-sun-tron/) "
      ],
      "text/plain": [
       "<IPython.core.display.Markdown object>"
      ]
     },
     "execution_count": 6,
     "metadata": {},
     "output_type": "execute_result"
    }
   ],
   "source": [
    "#hide_input\n",
    "#md('##### {}'.format(titleBTC)) \n",
    "md(\"- {}{} {}{} [| Skaityti daugiau]({}) \".format(trx['title'],'. ', trx['body'], ' ...', trx['url']))"
   ]
  },
  {
   "cell_type": "code",
   "execution_count": 7,
   "id": "illegal-greece",
   "metadata": {
    "execution": {
     "iopub.execute_input": "2022-03-23T02:33:29.494541Z",
     "iopub.status.busy": "2022-03-23T02:33:29.493814Z",
     "iopub.status.idle": "2022-03-23T02:33:29.497535Z",
     "shell.execute_reply": "2022-03-23T02:33:29.496950Z"
    },
    "papermill": {
     "duration": 0.02074,
     "end_time": "2022-03-23T02:33:29.497657",
     "exception": false,
     "start_time": "2022-03-23T02:33:29.476917",
     "status": "completed"
    },
    "tags": []
   },
   "outputs": [
    {
     "data": {
      "text/markdown": [
       "- Eye-Scanning Crypto Project Worldcoin Set for $100 Million Raise: Report.  The funds could be a sight for sore eyes for the project, which recently paused some operations. ... [| Skaityti daugiau](https://decrypt.co/95744/eye-scanning-crypto-project-worldcoin-100-million-raise-report) "
      ],
      "text/plain": [
       "<IPython.core.display.Markdown object>"
      ]
     },
     "execution_count": 7,
     "metadata": {},
     "output_type": "execute_result"
    }
   ],
   "source": [
    "#hide_input\n",
    "#md('##### {}'.format(titleBTC)) \n",
    "md(\"- {}{} {}{} [| Skaityti daugiau]({}) \".format(eth['title'],'. ', eth['body'], ' ...', eth['url']))"
   ]
  },
  {
   "cell_type": "code",
   "execution_count": 8,
   "id": "sublime-lounge",
   "metadata": {
    "execution": {
     "iopub.execute_input": "2022-03-23T02:33:29.532311Z",
     "iopub.status.busy": "2022-03-23T02:33:29.531611Z",
     "iopub.status.idle": "2022-03-23T02:33:29.535179Z",
     "shell.execute_reply": "2022-03-23T02:33:29.534649Z"
    },
    "papermill": {
     "duration": 0.024742,
     "end_time": "2022-03-23T02:33:29.535297",
     "exception": false,
     "start_time": "2022-03-23T02:33:29.510555",
     "status": "completed"
    },
    "tags": []
   },
   "outputs": [
    {
     "data": {
      "text/markdown": [
       "- 23 Cardano Pools Stake 1.5 Billion $ADA in 12 Hours, Metadata Points to Coinbase Subsidiary.  A total of 23 new Cardano ($ADA) pools have staked about 1.5 billion ADA in the last 12 hours, in a move that increased the total supply of the cryptocurrency being staked to near 74%. The pools are seemingly linked to Coinbase subsidiary Bison Trails. According to Cardano staking pool analytics platform pool.pm, each staking […] ... [| Skaityti daugiau](https://www.cryptoglobe.com/latest/2022/03/23-cardano-pools-stake-1-5-billion-ada-in-12-hours-metadata-points-to-coinbase-subsidiary/) "
      ],
      "text/plain": [
       "<IPython.core.display.Markdown object>"
      ]
     },
     "execution_count": 8,
     "metadata": {},
     "output_type": "execute_result"
    }
   ],
   "source": [
    "#hide_input\n",
    "#md('##### {}'.format(titleBTC)) \n",
    "md(\"- {}{} {}{} [| Skaityti daugiau]({}) \".format(ada['title'],'. ', ada['body'], ' ...', ada['url']))"
   ]
  },
  {
   "cell_type": "code",
   "execution_count": 9,
   "id": "specified-ordering",
   "metadata": {
    "execution": {
     "iopub.execute_input": "2022-03-23T02:33:29.567508Z",
     "iopub.status.busy": "2022-03-23T02:33:29.566840Z",
     "iopub.status.idle": "2022-03-23T02:33:29.571254Z",
     "shell.execute_reply": "2022-03-23T02:33:29.571707Z"
    },
    "papermill": {
     "duration": 0.023382,
     "end_time": "2022-03-23T02:33:29.571840",
     "exception": false,
     "start_time": "2022-03-23T02:33:29.548458",
     "status": "completed"
    },
    "tags": []
   },
   "outputs": [
    {
     "data": {
      "text/markdown": [
       "- El Salvador’s finance minister says the country is ready to issue a bitcoin bond, but the launch date remains unclear.  El Salvador’s finance minister says the country is “ready” to issue its first so-called bitcoin bond, but still waiting for the right moment to do so. ... [| Skaityti daugiau](https://www.theblockcrypto.com/linked/138885/el-salvadors-finance-minister-says-the-country-is-ready-to-issue-a-bitcoin-bond-but-the-launch-date-remains-unclear?utm_source=cryptocompare&utm_medium=rss) "
      ],
      "text/plain": [
       "<IPython.core.display.Markdown object>"
      ]
     },
     "execution_count": 9,
     "metadata": {},
     "output_type": "execute_result"
    }
   ],
   "source": [
    "#hide_input\n",
    "#md('##### {}'.format(titleBTC)) \n",
    "md(\"- {}{} {}{} [| Skaityti daugiau]({}) \".format(exchange['title'],'. ', exchange['body'], ' ...', exchange['url']))"
   ]
  },
  {
   "cell_type": "code",
   "execution_count": null,
   "id": "tender-livestock",
   "metadata": {
    "papermill": {
     "duration": 0.017372,
     "end_time": "2022-03-23T02:33:29.602368",
     "exception": false,
     "start_time": "2022-03-23T02:33:29.584996",
     "status": "completed"
    },
    "tags": []
   },
   "outputs": [],
   "source": []
  },
  {
   "cell_type": "code",
   "execution_count": null,
   "id": "appreciated-diamond",
   "metadata": {
    "papermill": {
     "duration": 0.013442,
     "end_time": "2022-03-23T02:33:29.629387",
     "exception": false,
     "start_time": "2022-03-23T02:33:29.615945",
     "status": "completed"
    },
    "tags": []
   },
   "outputs": [],
   "source": []
  },
  {
   "cell_type": "code",
   "execution_count": null,
   "id": "romance-sweden",
   "metadata": {
    "papermill": {
     "duration": 0.01513,
     "end_time": "2022-03-23T02:33:29.659922",
     "exception": false,
     "start_time": "2022-03-23T02:33:29.644792",
     "status": "completed"
    },
    "tags": []
   },
   "outputs": [],
   "source": []
  },
  {
   "cell_type": "code",
   "execution_count": null,
   "id": "dietary-statistics",
   "metadata": {
    "papermill": {
     "duration": 0.012417,
     "end_time": "2022-03-23T02:33:29.686430",
     "exception": false,
     "start_time": "2022-03-23T02:33:29.674013",
     "status": "completed"
    },
    "tags": []
   },
   "outputs": [],
   "source": []
  }
 ],
 "metadata": {
  "kernelspec": {
   "display_name": "Python 3",
   "language": "python",
   "name": "python3"
  },
  "language_info": {
   "codemirror_mode": {
    "name": "ipython",
    "version": 3
   },
   "file_extension": ".py",
   "mimetype": "text/x-python",
   "name": "python",
   "nbconvert_exporter": "python",
   "pygments_lexer": "ipython3",
   "version": "3.6.15"
  },
  "papermill": {
   "default_parameters": {},
   "duration": 16.039464,
   "end_time": "2022-03-23T02:33:30.220021",
   "environment_variables": {},
   "exception": null,
   "input_path": "Market-News.ipynb",
   "output_path": "Market-News.ipynb",
   "parameters": {},
   "start_time": "2022-03-23T02:33:14.180557",
   "version": "2.2.2"
  }
 },
 "nbformat": 4,
 "nbformat_minor": 5
}