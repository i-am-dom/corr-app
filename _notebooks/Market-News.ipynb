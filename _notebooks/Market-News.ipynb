{
 "cells": [
  {
   "cell_type": "markdown",
   "id": "short-greensboro",
   "metadata": {
    "papermill": {
     "duration": 0.011547,
     "end_time": "2021-10-27T01:57:14.445848",
     "exception": false,
     "start_time": "2021-10-27T01:57:14.434301",
     "status": "completed"
    },
    "tags": []
   },
   "source": [
    "# Kriptovaliutų naujienos"
   ]
  },
  {
   "cell_type": "code",
   "execution_count": 1,
   "id": "functioning-knowing",
   "metadata": {
    "execution": {
     "iopub.execute_input": "2021-10-27T01:57:14.472715Z",
     "iopub.status.busy": "2021-10-27T01:57:14.472199Z",
     "iopub.status.idle": "2021-10-27T01:57:15.657801Z",
     "shell.execute_reply": "2021-10-27T01:57:15.657248Z"
    },
    "papermill": {
     "duration": 1.203345,
     "end_time": "2021-10-27T01:57:15.657965",
     "exception": false,
     "start_time": "2021-10-27T01:57:14.454620",
     "status": "completed"
    },
    "tags": []
   },
   "outputs": [],
   "source": [
    "#hide_input\n",
    "import warnings\n",
    "warnings.filterwarnings('ignore')\n",
    "from scripts.read_data import read_api\n",
    "from scripts.read_data import read_news\n",
    "from scripts.read_data import read_covid\n",
    "import matplotlib.pyplot as plt \n",
    "from IPython.display import Markdown as md"
   ]
  },
  {
   "cell_type": "code",
   "execution_count": 2,
   "id": "shared-acceptance",
   "metadata": {
    "execution": {
     "iopub.execute_input": "2021-10-27T01:57:15.680348Z",
     "iopub.status.busy": "2021-10-27T01:57:15.679888Z",
     "iopub.status.idle": "2021-10-27T01:57:23.084737Z",
     "shell.execute_reply": "2021-10-27T01:57:23.085236Z"
    },
    "papermill": {
     "duration": 7.419001,
     "end_time": "2021-10-27T01:57:23.085411",
     "exception": false,
     "start_time": "2021-10-27T01:57:15.666410",
     "status": "completed"
    },
    "tags": []
   },
   "outputs": [],
   "source": [
    "#hide_input\n",
    "blockchain = read_news('blockchain') \n",
    "btc = read_news('btc') \n",
    "xrp = read_news('xrp') \n",
    "trx = read_news('trx') \n",
    "eth = read_news('eth')  \n",
    "ada = read_news('ada')\n",
    "exchange = read_news('exchange') "
   ]
  },
  {
   "cell_type": "code",
   "execution_count": 3,
   "id": "synthetic-notion",
   "metadata": {
    "execution": {
     "iopub.execute_input": "2021-10-27T01:57:23.109888Z",
     "iopub.status.busy": "2021-10-27T01:57:23.109391Z",
     "iopub.status.idle": "2021-10-27T01:57:23.114610Z",
     "shell.execute_reply": "2021-10-27T01:57:23.114238Z"
    },
    "papermill": {
     "duration": 0.01907,
     "end_time": "2021-10-27T01:57:23.114735",
     "exception": false,
     "start_time": "2021-10-27T01:57:23.095665",
     "status": "completed"
    },
    "tags": []
   },
   "outputs": [
    {
     "data": {
      "text/markdown": [
       "- Cardano ($ADA) Used to Buy Luxury Real Estate in Portugal.  Real estate developer Prometheus International has sold two luxury homes on the Portuguese island of Madeira for a total of €4.1 million ($4.7 million) paid for in the popular cryptocurrency Cardano ($ADA). According to local news outlet Sapo, this is the “most expensive luxury real estate acquisition in Portugal since the blockchain revolution,” and were […] ... [| Skaityti daugiau](https://www.cryptoglobe.com/latest/2021/10/cardano-ada-used-to-buy-luxury-real-estate-in-portugal/) "
      ],
      "text/plain": [
       "<IPython.core.display.Markdown object>"
      ]
     },
     "execution_count": 3,
     "metadata": {},
     "output_type": "execute_result"
    }
   ],
   "source": [
    "#hide_input\n",
    "#md('##### {}'.format(titleBTC)) \n",
    "md(\"- {}{} {}{} [| Skaityti daugiau]({}) \".format(blockchain['title'],'. ', blockchain['body'], ' ...', blockchain['url']))"
   ]
  },
  {
   "cell_type": "code",
   "execution_count": 4,
   "id": "aging-caution",
   "metadata": {
    "execution": {
     "iopub.execute_input": "2021-10-27T01:57:23.136368Z",
     "iopub.status.busy": "2021-10-27T01:57:23.135812Z",
     "iopub.status.idle": "2021-10-27T01:57:23.138066Z",
     "shell.execute_reply": "2021-10-27T01:57:23.138425Z"
    },
    "papermill": {
     "duration": 0.015481,
     "end_time": "2021-10-27T01:57:23.138542",
     "exception": false,
     "start_time": "2021-10-27T01:57:23.123061",
     "status": "completed"
    },
    "tags": []
   },
   "outputs": [
    {
     "data": {
      "text/markdown": [
       "- Latin America, Tipping Point: Bitcoin Beach Brazil, Colombia ATMs, Mining Arg.  Did we overestimate Latin America’s interest in Bitcoin and other cryptocurrencies? Even though the continent seems to need the technology the most, mainstream adoption feels so far away. The El Salvador experiment might change that, but it’s not a guarantee. And, so far, there are no major indicators that any other country is going to [&#8230;] ... [| Skaityti daugiau](https://bitcoinist.com/latin-america-tipping-point-bitcoin-beach-brazil-colombia-atms-mining-arg/?utm_source=rss&utm_medium=rss&utm_campaign=latin-america-tipping-point-bitcoin-beach-brazil-colombia-atms-mining-arg) "
      ],
      "text/plain": [
       "<IPython.core.display.Markdown object>"
      ]
     },
     "execution_count": 4,
     "metadata": {},
     "output_type": "execute_result"
    }
   ],
   "source": [
    "#hide_input\n",
    "#md('##### {}'.format(titleBTC)) \n",
    "md(\"- {}{} {}{} [| Skaityti daugiau]({}) \".format(btc['title'],'. ', btc['body'], ' ...', btc['url']))"
   ]
  },
  {
   "cell_type": "code",
   "execution_count": 5,
   "id": "organic-actress",
   "metadata": {
    "execution": {
     "iopub.execute_input": "2021-10-27T01:57:23.161125Z",
     "iopub.status.busy": "2021-10-27T01:57:23.160511Z",
     "iopub.status.idle": "2021-10-27T01:57:23.162771Z",
     "shell.execute_reply": "2021-10-27T01:57:23.163248Z"
    },
    "papermill": {
     "duration": 0.016244,
     "end_time": "2021-10-27T01:57:23.163390",
     "exception": false,
     "start_time": "2021-10-27T01:57:23.147146",
     "status": "completed"
    },
    "tags": []
   },
   "outputs": [
    {
     "data": {
      "text/markdown": [
       "- XRP – Assessing the odds of it climbing past $5 in 2022.  It has been a strong year for the collective crypto-market. Any asset in the top 10 would agree with this assertion, but this wouldn&#8217;t be the case for XRP. While on the rankings it remains 7th, its April 2021 high of $1.966 is yet to be tested again. From a long-term perspective, every top asset [&#8230;] ... [| Skaityti daugiau](https://ambcrypto.com/xrp-assessing-the-odds-of-it-climbing-past-5-in-2022/) "
      ],
      "text/plain": [
       "<IPython.core.display.Markdown object>"
      ]
     },
     "execution_count": 5,
     "metadata": {},
     "output_type": "execute_result"
    }
   ],
   "source": [
    "#hide_input\n",
    "#md('##### {}'.format(titleBTC)) \n",
    "md(\"- {}{} {}{} [| Skaityti daugiau]({}) \".format(xrp['title'],'. ', xrp['body'], ' ...', xrp['url']))"
   ]
  },
  {
   "cell_type": "code",
   "execution_count": 6,
   "id": "prompt-farmer",
   "metadata": {
    "execution": {
     "iopub.execute_input": "2021-10-27T01:57:23.187211Z",
     "iopub.status.busy": "2021-10-27T01:57:23.186686Z",
     "iopub.status.idle": "2021-10-27T01:57:23.189575Z",
     "shell.execute_reply": "2021-10-27T01:57:23.189204Z"
    },
    "papermill": {
     "duration": 0.016849,
     "end_time": "2021-10-27T01:57:23.189679",
     "exception": false,
     "start_time": "2021-10-27T01:57:23.172830",
     "status": "completed"
    },
    "tags": []
   },
   "outputs": [
    {
     "data": {
      "text/markdown": [
       "- Shiba Inu, Tron, Uniswap Price Analysis: 20 October.  While Bitcoin hits the $63,000 mark, altcoins like SHIB and UNI show bearish signs. However, TRX seemed to follow in the footsteps of the King coin and showing some signs of recovery on the charts. Nevertheless, all of these coins show weak directional price trends in the near term. SHIB SHIB saw a 2.26% decrease [&#8230;] ... [| Skaityti daugiau](https://ambcrypto.com/shiba-inu-tron-uniswap-price-analysis-20-october/) "
      ],
      "text/plain": [
       "<IPython.core.display.Markdown object>"
      ]
     },
     "execution_count": 6,
     "metadata": {},
     "output_type": "execute_result"
    }
   ],
   "source": [
    "#hide_input\n",
    "#md('##### {}'.format(titleBTC)) \n",
    "md(\"- {}{} {}{} [| Skaityti daugiau]({}) \".format(trx['title'],'. ', trx['body'], ' ...', trx['url']))"
   ]
  },
  {
   "cell_type": "code",
   "execution_count": 7,
   "id": "illegal-greece",
   "metadata": {
    "execution": {
     "iopub.execute_input": "2021-10-27T01:57:23.212995Z",
     "iopub.status.busy": "2021-10-27T01:57:23.212530Z",
     "iopub.status.idle": "2021-10-27T01:57:23.215368Z",
     "shell.execute_reply": "2021-10-27T01:57:23.214992Z"
    },
    "papermill": {
     "duration": 0.016338,
     "end_time": "2021-10-27T01:57:23.215475",
     "exception": false,
     "start_time": "2021-10-27T01:57:23.199137",
     "status": "completed"
    },
    "tags": []
   },
   "outputs": [
    {
     "data": {
      "text/markdown": [
       "- Ethereum: High Risk, Better Reward.  I believe Ethereum is set to outperform Bitcoin in the coming rally.Ethereum has a much larger utility than Bitcoin and could one day surpass it in market capitalization.However, Ethereum is facing competition from newer and \"better\" cryptocurrencies, which makes it a riskier investment. ... [| Skaityti daugiau](https://seekingalpha.com/article/4462227-ethereum-high-risk-better-reward?utm_source=cryptocompare.com&utm_medium=referral) "
      ],
      "text/plain": [
       "<IPython.core.display.Markdown object>"
      ]
     },
     "execution_count": 7,
     "metadata": {},
     "output_type": "execute_result"
    }
   ],
   "source": [
    "#hide_input\n",
    "#md('##### {}'.format(titleBTC)) \n",
    "md(\"- {}{} {}{} [| Skaityti daugiau]({}) \".format(eth['title'],'. ', eth['body'], ' ...', eth['url']))"
   ]
  },
  {
   "cell_type": "code",
   "execution_count": 8,
   "id": "sublime-lounge",
   "metadata": {
    "execution": {
     "iopub.execute_input": "2021-10-27T01:57:23.239696Z",
     "iopub.status.busy": "2021-10-27T01:57:23.239217Z",
     "iopub.status.idle": "2021-10-27T01:57:23.241436Z",
     "shell.execute_reply": "2021-10-27T01:57:23.241803Z"
    },
    "papermill": {
     "duration": 0.016596,
     "end_time": "2021-10-27T01:57:23.241924",
     "exception": false,
     "start_time": "2021-10-27T01:57:23.225328",
     "status": "completed"
    },
    "tags": []
   },
   "outputs": [
    {
     "data": {
      "text/markdown": [
       "- Cardano ($ADA) Used to Buy Luxury Real Estate in Portugal.  Real estate developer Prometheus International has sold two luxury homes on the Portuguese island of Madeira for a total of €4.1 million ($4.7 million) paid for in the popular cryptocurrency Cardano ($ADA). According to local news outlet Sapo, this is the “most expensive luxury real estate acquisition in Portugal since the blockchain revolution,” and were […] ... [| Skaityti daugiau](https://www.cryptoglobe.com/latest/2021/10/cardano-ada-used-to-buy-luxury-real-estate-in-portugal/) "
      ],
      "text/plain": [
       "<IPython.core.display.Markdown object>"
      ]
     },
     "execution_count": 8,
     "metadata": {},
     "output_type": "execute_result"
    }
   ],
   "source": [
    "#hide_input\n",
    "#md('##### {}'.format(titleBTC)) \n",
    "md(\"- {}{} {}{} [| Skaityti daugiau]({}) \".format(ada['title'],'. ', ada['body'], ' ...', ada['url']))"
   ]
  },
  {
   "cell_type": "code",
   "execution_count": 9,
   "id": "specified-ordering",
   "metadata": {
    "execution": {
     "iopub.execute_input": "2021-10-27T01:57:23.266596Z",
     "iopub.status.busy": "2021-10-27T01:57:23.266128Z",
     "iopub.status.idle": "2021-10-27T01:57:23.269213Z",
     "shell.execute_reply": "2021-10-27T01:57:23.268845Z"
    },
    "papermill": {
     "duration": 0.017594,
     "end_time": "2021-10-27T01:57:23.269315",
     "exception": false,
     "start_time": "2021-10-27T01:57:23.251721",
     "status": "completed"
    },
    "tags": []
   },
   "outputs": [
    {
     "data": {
      "text/markdown": [
       "- Coinbase CEO Says SEC v Ripple Case ‘Going Better Than Expected’ — Investors Hopeful XRP Will Be Relisted Soon.  Coinbase CEO Brian Armstrong says the SEC v. Ripple case &#x201C;seems to be going better than expected.&#x201D; He added that the U.S. Securities and Exchange Commission &#x201C;is realizing that attacking crypto is politically unpopular.&#x201D; Coinbase&#x2019;s CEO on the Ripple Lawsuit, SEC Attacking Crypto The CEO of the Nasdaq-listed cryptocurrency exchange Coinbase, Brian Armstrong, commented on [&#8230;] ... [| Skaityti daugiau](https://news.bitcoin.com/coinbase-ceo-sec-v-ripple-case-going-better-than-expected-investors-hopeful-xrp-will-be-relisted-soon/) "
      ],
      "text/plain": [
       "<IPython.core.display.Markdown object>"
      ]
     },
     "execution_count": 9,
     "metadata": {},
     "output_type": "execute_result"
    }
   ],
   "source": [
    "#hide_input\n",
    "#md('##### {}'.format(titleBTC)) \n",
    "md(\"- {}{} {}{} [| Skaityti daugiau]({}) \".format(exchange['title'],'. ', exchange['body'], ' ...', exchange['url']))"
   ]
  },
  {
   "cell_type": "code",
   "execution_count": null,
   "id": "tender-livestock",
   "metadata": {
    "papermill": {
     "duration": 0.010021,
     "end_time": "2021-10-27T01:57:23.289458",
     "exception": false,
     "start_time": "2021-10-27T01:57:23.279437",
     "status": "completed"
    },
    "tags": []
   },
   "outputs": [],
   "source": []
  },
  {
   "cell_type": "code",
   "execution_count": null,
   "id": "appreciated-diamond",
   "metadata": {
    "papermill": {
     "duration": 0.009917,
     "end_time": "2021-10-27T01:57:23.309520",
     "exception": false,
     "start_time": "2021-10-27T01:57:23.299603",
     "status": "completed"
    },
    "tags": []
   },
   "outputs": [],
   "source": []
  },
  {
   "cell_type": "code",
   "execution_count": null,
   "id": "romance-sweden",
   "metadata": {
    "papermill": {
     "duration": 0.010053,
     "end_time": "2021-10-27T01:57:23.329608",
     "exception": false,
     "start_time": "2021-10-27T01:57:23.319555",
     "status": "completed"
    },
    "tags": []
   },
   "outputs": [],
   "source": []
  },
  {
   "cell_type": "code",
   "execution_count": null,
   "id": "dietary-statistics",
   "metadata": {
    "papermill": {
     "duration": 0.009989,
     "end_time": "2021-10-27T01:57:23.349592",
     "exception": false,
     "start_time": "2021-10-27T01:57:23.339603",
     "status": "completed"
    },
    "tags": []
   },
   "outputs": [],
   "source": []
  }
 ],
 "metadata": {
  "kernelspec": {
   "display_name": "Python 3",
   "language": "python",
   "name": "python3"
  },
  "language_info": {
   "codemirror_mode": {
    "name": "ipython",
    "version": 3
   },
   "file_extension": ".py",
   "mimetype": "text/x-python",
   "name": "python",
   "nbconvert_exporter": "python",
   "pygments_lexer": "ipython3",
   "version": "3.6.15"
  },
  "papermill": {
   "default_parameters": {},
   "duration": 10.379383,
   "end_time": "2021-10-27T01:57:23.868315",
   "environment_variables": {},
   "exception": null,
   "input_path": "Market-News.ipynb",
   "output_path": "Market-News.ipynb",
   "parameters": {},
   "start_time": "2021-10-27T01:57:13.488932",
   "version": "2.2.2"
  }
 },
 "nbformat": 4,
 "nbformat_minor": 5
}