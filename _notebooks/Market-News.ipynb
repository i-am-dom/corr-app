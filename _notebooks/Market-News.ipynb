{
 "cells": [
  {
   "cell_type": "markdown",
   "id": "short-greensboro",
   "metadata": {
    "papermill": {
     "duration": 0.015163,
     "end_time": "2021-11-17T02:00:14.556198",
     "exception": false,
     "start_time": "2021-11-17T02:00:14.541035",
     "status": "completed"
    },
    "tags": []
   },
   "source": [
    "# Kriptovaliutų naujienos"
   ]
  },
  {
   "cell_type": "code",
   "execution_count": 1,
   "id": "functioning-knowing",
   "metadata": {
    "execution": {
     "iopub.execute_input": "2021-11-17T02:00:14.591039Z",
     "iopub.status.busy": "2021-11-17T02:00:14.590410Z",
     "iopub.status.idle": "2021-11-17T02:00:15.920417Z",
     "shell.execute_reply": "2021-11-17T02:00:15.919512Z"
    },
    "papermill": {
     "duration": 1.353596,
     "end_time": "2021-11-17T02:00:15.920662",
     "exception": false,
     "start_time": "2021-11-17T02:00:14.567066",
     "status": "completed"
    },
    "tags": []
   },
   "outputs": [],
   "source": [
    "#hide_input\n",
    "import warnings\n",
    "warnings.filterwarnings('ignore')\n",
    "from scripts.read_data import read_api\n",
    "from scripts.read_data import read_news\n",
    "from scripts.read_data import read_covid\n",
    "import matplotlib.pyplot as plt \n",
    "from IPython.display import Markdown as md"
   ]
  },
  {
   "cell_type": "code",
   "execution_count": 2,
   "id": "shared-acceptance",
   "metadata": {
    "execution": {
     "iopub.execute_input": "2021-11-17T02:00:15.953169Z",
     "iopub.status.busy": "2021-11-17T02:00:15.952609Z",
     "iopub.status.idle": "2021-11-17T02:00:26.138087Z",
     "shell.execute_reply": "2021-11-17T02:00:26.136825Z"
    },
    "papermill": {
     "duration": 10.204352,
     "end_time": "2021-11-17T02:00:26.138239",
     "exception": false,
     "start_time": "2021-11-17T02:00:15.933887",
     "status": "completed"
    },
    "tags": []
   },
   "outputs": [],
   "source": [
    "#hide_input\n",
    "blockchain = read_news('blockchain') \n",
    "btc = read_news('btc') \n",
    "xrp = read_news('xrp') \n",
    "trx = read_news('trx') \n",
    "eth = read_news('eth')  \n",
    "ada = read_news('ada')\n",
    "exchange = read_news('exchange') "
   ]
  },
  {
   "cell_type": "code",
   "execution_count": 3,
   "id": "synthetic-notion",
   "metadata": {
    "execution": {
     "iopub.execute_input": "2021-11-17T02:00:26.165435Z",
     "iopub.status.busy": "2021-11-17T02:00:26.164835Z",
     "iopub.status.idle": "2021-11-17T02:00:26.167947Z",
     "shell.execute_reply": "2021-11-17T02:00:26.167472Z"
    },
    "papermill": {
     "duration": 0.01994,
     "end_time": "2021-11-17T02:00:26.168058",
     "exception": false,
     "start_time": "2021-11-17T02:00:26.148118",
     "status": "completed"
    },
    "tags": []
   },
   "outputs": [
    {
     "data": {
      "text/markdown": [
       "- World’s Largest Digital Asset Exchange Binance Reveals ‘10 Fundamental Rights of Crypto Users’.  Global crypto exchange Binance ran their first ad ever, warning readers of London&#8217;s Financial Times not to &#8220;let the headlines fool you&#8221; when it comes to crypto. The full-page, black ink bulletin jumped from the printing press to social media when Binance CEO Changpeng Zhao shared a photo of the ad on his Twitter account. Our [&#8230;]The post World’s Largest Digital Asset Exchange Binance Reveals ‘10 Fundamental Rights of Crypto Users’ appeared first on The Daily Hodl. ... [| Skaityti daugiau](https://dailyhodl.com/2021/11/16/worlds-largest-digital-asset-exchange-binance-reveals-10-fundamental-rights-of-crypto-users/) "
      ],
      "text/plain": [
       "<IPython.core.display.Markdown object>"
      ]
     },
     "execution_count": 3,
     "metadata": {},
     "output_type": "execute_result"
    }
   ],
   "source": [
    "#hide_input\n",
    "#md('##### {}'.format(titleBTC)) \n",
    "md(\"- {}{} {}{} [| Skaityti daugiau]({}) \".format(blockchain['title'],'. ', blockchain['body'], ' ...', blockchain['url']))"
   ]
  },
  {
   "cell_type": "code",
   "execution_count": 4,
   "id": "aging-caution",
   "metadata": {
    "execution": {
     "iopub.execute_input": "2021-11-17T02:00:26.194316Z",
     "iopub.status.busy": "2021-11-17T02:00:26.193716Z",
     "iopub.status.idle": "2021-11-17T02:00:26.199369Z",
     "shell.execute_reply": "2021-11-17T02:00:26.198861Z"
    },
    "papermill": {
     "duration": 0.020932,
     "end_time": "2021-11-17T02:00:26.199486",
     "exception": false,
     "start_time": "2021-11-17T02:00:26.178554",
     "status": "completed"
    },
    "tags": []
   },
   "outputs": [
    {
     "data": {
      "text/markdown": [
       "- VanEck Bitcoin Strategy ETF launch day volume a fraction of BITO's.  Lower volumes compared to ProShares were expected, but Van Eck hopes its lower fees can give it an edge over competitors. ... [| Skaityti daugiau](https://cointelegraph.com/news/vaneck-bitcoin-strategy-etf-launch-day-volume-a-fraction-of-bito-s) "
      ],
      "text/plain": [
       "<IPython.core.display.Markdown object>"
      ]
     },
     "execution_count": 4,
     "metadata": {},
     "output_type": "execute_result"
    }
   ],
   "source": [
    "#hide_input\n",
    "#md('##### {}'.format(titleBTC)) \n",
    "md(\"- {}{} {}{} [| Skaityti daugiau]({}) \".format(btc['title'],'. ', btc['body'], ' ...', btc['url']))"
   ]
  },
  {
   "cell_type": "code",
   "execution_count": 5,
   "id": "organic-actress",
   "metadata": {
    "execution": {
     "iopub.execute_input": "2021-11-17T02:00:26.226399Z",
     "iopub.status.busy": "2021-11-17T02:00:26.224938Z",
     "iopub.status.idle": "2021-11-17T02:00:26.229017Z",
     "shell.execute_reply": "2021-11-17T02:00:26.229518Z"
    },
    "papermill": {
     "duration": 0.019516,
     "end_time": "2021-11-17T02:00:26.229659",
     "exception": false,
     "start_time": "2021-11-17T02:00:26.210143",
     "status": "completed"
    },
    "tags": []
   },
   "outputs": [
    {
     "data": {
      "text/markdown": [
       "- $XRP Could Be a ‘Really Strong Buy’ if Crypto Market Surges, Crypto Analyst Suggests.  The price of $XRP could soon end a long accumulation phase and breakout above its range that has been seeing it peak at $1.3 over the last few months, according to a closely followed cryptocurrency analyst. On Twitter, as Daily Hodl reports, the pseudonymous analyst going by Altcoin Sherpa has told his nearly 150,000 followers […] ... [| Skaityti daugiau](https://www.cryptoglobe.com/latest/2021/11/xrp-could-be-a-really-strong-buy-if-crypto-market-surges-crypto-analyst-suggests/) "
      ],
      "text/plain": [
       "<IPython.core.display.Markdown object>"
      ]
     },
     "execution_count": 5,
     "metadata": {},
     "output_type": "execute_result"
    }
   ],
   "source": [
    "#hide_input\n",
    "#md('##### {}'.format(titleBTC)) \n",
    "md(\"- {}{} {}{} [| Skaityti daugiau]({}) \".format(xrp['title'],'. ', xrp['body'], ' ...', xrp['url']))"
   ]
  },
  {
   "cell_type": "code",
   "execution_count": 6,
   "id": "prompt-farmer",
   "metadata": {
    "execution": {
     "iopub.execute_input": "2021-11-17T02:00:26.259325Z",
     "iopub.status.busy": "2021-11-17T02:00:26.258708Z",
     "iopub.status.idle": "2021-11-17T02:00:26.261589Z",
     "shell.execute_reply": "2021-11-17T02:00:26.262046Z"
    },
    "papermill": {
     "duration": 0.021156,
     "end_time": "2021-11-17T02:00:26.262182",
     "exception": false,
     "start_time": "2021-11-17T02:00:26.241026",
     "status": "completed"
    },
    "tags": []
   },
   "outputs": [
    {
     "data": {
      "text/markdown": [
       "- Tron Price Analysis: TRX Coin Breaks Out From The Previous Swing High. Is This A Good Time To Buy?.  The TRX/USD coin indicates an overall uptrend in its technical chart. The coin price has gained over 8% in an intraday session and has managed to break out from the crucial resistance of $0.12, projecting more potential for this coin. Key technical points: The 20-day EMA provides excellent dynamic support to the TRX price The The post Tron Price Analysis: TRX Coin Breaks Out From The Previous Swing High. Is This A Good Time To Buy? appeared first on Coingape. ... [| Skaityti daugiau](https://coingape.com/tron-price-analysis-trx-coin-breaks-out-from-the-previous-swing-high-is-this-a-good-time-to-buy/) "
      ],
      "text/plain": [
       "<IPython.core.display.Markdown object>"
      ]
     },
     "execution_count": 6,
     "metadata": {},
     "output_type": "execute_result"
    }
   ],
   "source": [
    "#hide_input\n",
    "#md('##### {}'.format(titleBTC)) \n",
    "md(\"- {}{} {}{} [| Skaityti daugiau]({}) \".format(trx['title'],'. ', trx['body'], ' ...', trx['url']))"
   ]
  },
  {
   "cell_type": "code",
   "execution_count": 7,
   "id": "illegal-greece",
   "metadata": {
    "execution": {
     "iopub.execute_input": "2021-11-17T02:00:26.292262Z",
     "iopub.status.busy": "2021-11-17T02:00:26.291637Z",
     "iopub.status.idle": "2021-11-17T02:00:26.294563Z",
     "shell.execute_reply": "2021-11-17T02:00:26.295033Z"
    },
    "papermill": {
     "duration": 0.020995,
     "end_time": "2021-11-17T02:00:26.295161",
     "exception": false,
     "start_time": "2021-11-17T02:00:26.274166",
     "status": "completed"
    },
    "tags": []
   },
   "outputs": [
    {
     "data": {
      "text/markdown": [
       "- Crypto Investment Product Inflows Hit Record $9 Billion YTD Aided by $ADA and $SOL.  Cryptocurrency investment products saw inflows of $151 million last week, making it the 13th-consecutive week of inflows the market has seen. In total, a record $9 billion have been invested in these products, leading assets under management to a new high above $83 billion. According to a report published by CoinShares, the flagship cryptocurrency Bitcoin […] ... [| Skaityti daugiau](https://www.cryptoglobe.com/latest/2021/11/crypto-investment-product-inflows-hit-record-9-billion-ytd-aided-by-ada-and-sol/) "
      ],
      "text/plain": [
       "<IPython.core.display.Markdown object>"
      ]
     },
     "execution_count": 7,
     "metadata": {},
     "output_type": "execute_result"
    }
   ],
   "source": [
    "#hide_input\n",
    "#md('##### {}'.format(titleBTC)) \n",
    "md(\"- {}{} {}{} [| Skaityti daugiau]({}) \".format(eth['title'],'. ', eth['body'], ' ...', eth['url']))"
   ]
  },
  {
   "cell_type": "code",
   "execution_count": 8,
   "id": "sublime-lounge",
   "metadata": {
    "execution": {
     "iopub.execute_input": "2021-11-17T02:00:26.325836Z",
     "iopub.status.busy": "2021-11-17T02:00:26.324884Z",
     "iopub.status.idle": "2021-11-17T02:00:26.328758Z",
     "shell.execute_reply": "2021-11-17T02:00:26.328270Z"
    },
    "papermill": {
     "duration": 0.02168,
     "end_time": "2021-11-17T02:00:26.328869",
     "exception": false,
     "start_time": "2021-11-17T02:00:26.307189",
     "status": "completed"
    },
    "tags": []
   },
   "outputs": [
    {
     "data": {
      "text/markdown": [
       "- Crypto Investment Product Inflows Hit Record $9 Billion YTD Aided by $ADA and $SOL.  Cryptocurrency investment products saw inflows of $151 million last week, making it the 13th-consecutive week of inflows the market has seen. In total, a record $9 billion have been invested in these products, leading assets under management to a new high above $83 billion. According to a report published by CoinShares, the flagship cryptocurrency Bitcoin […] ... [| Skaityti daugiau](https://www.cryptoglobe.com/latest/2021/11/crypto-investment-product-inflows-hit-record-9-billion-ytd-aided-by-ada-and-sol/) "
      ],
      "text/plain": [
       "<IPython.core.display.Markdown object>"
      ]
     },
     "execution_count": 8,
     "metadata": {},
     "output_type": "execute_result"
    }
   ],
   "source": [
    "#hide_input\n",
    "#md('##### {}'.format(titleBTC)) \n",
    "md(\"- {}{} {}{} [| Skaityti daugiau]({}) \".format(ada['title'],'. ', ada['body'], ' ...', ada['url']))"
   ]
  },
  {
   "cell_type": "code",
   "execution_count": 9,
   "id": "specified-ordering",
   "metadata": {
    "execution": {
     "iopub.execute_input": "2021-11-17T02:00:26.359070Z",
     "iopub.status.busy": "2021-11-17T02:00:26.358460Z",
     "iopub.status.idle": "2021-11-17T02:00:26.360704Z",
     "shell.execute_reply": "2021-11-17T02:00:26.361170Z"
    },
    "papermill": {
     "duration": 0.01998,
     "end_time": "2021-11-17T02:00:26.361332",
     "exception": false,
     "start_time": "2021-11-17T02:00:26.341352",
     "status": "completed"
    },
    "tags": []
   },
   "outputs": [
    {
     "data": {
      "text/markdown": [
       "- GenshinShibInu Price Up Over 3000% After PancakeSwap Listing.  GenshinShibInu (GSHIB) is the latest meme coin that gained over 3000% in the past 24 hours. With a 24 hour trading volume of over $1 million, let&#8217;s take a closer look at GSHIB and see what all the hype is about. What Is GenshinShibInu? GenshibShibInu, or GSHIB, is a Binance Smart Chain token featuring an [&#8230;]The post GenshinShibInu Price Up Over 3000% After PancakeSwap Listing appeared first on NullTX. ... [| Skaityti daugiau](https://nulltx.com/genshinshibinu-price-up-over-3000-after-pancakeswap-listing/) "
      ],
      "text/plain": [
       "<IPython.core.display.Markdown object>"
      ]
     },
     "execution_count": 9,
     "metadata": {},
     "output_type": "execute_result"
    }
   ],
   "source": [
    "#hide_input\n",
    "#md('##### {}'.format(titleBTC)) \n",
    "md(\"- {}{} {}{} [| Skaityti daugiau]({}) \".format(exchange['title'],'. ', exchange['body'], ' ...', exchange['url']))"
   ]
  },
  {
   "cell_type": "code",
   "execution_count": null,
   "id": "tender-livestock",
   "metadata": {
    "papermill": {
     "duration": 0.012712,
     "end_time": "2021-11-17T02:00:26.386522",
     "exception": false,
     "start_time": "2021-11-17T02:00:26.373810",
     "status": "completed"
    },
    "tags": []
   },
   "outputs": [],
   "source": []
  },
  {
   "cell_type": "code",
   "execution_count": null,
   "id": "appreciated-diamond",
   "metadata": {
    "papermill": {
     "duration": 0.012566,
     "end_time": "2021-11-17T02:00:26.412197",
     "exception": false,
     "start_time": "2021-11-17T02:00:26.399631",
     "status": "completed"
    },
    "tags": []
   },
   "outputs": [],
   "source": []
  },
  {
   "cell_type": "code",
   "execution_count": null,
   "id": "romance-sweden",
   "metadata": {
    "papermill": {
     "duration": 0.012405,
     "end_time": "2021-11-17T02:00:26.437247",
     "exception": false,
     "start_time": "2021-11-17T02:00:26.424842",
     "status": "completed"
    },
    "tags": []
   },
   "outputs": [],
   "source": []
  },
  {
   "cell_type": "code",
   "execution_count": null,
   "id": "dietary-statistics",
   "metadata": {
    "papermill": {
     "duration": 0.01279,
     "end_time": "2021-11-17T02:00:26.462368",
     "exception": false,
     "start_time": "2021-11-17T02:00:26.449578",
     "status": "completed"
    },
    "tags": []
   },
   "outputs": [],
   "source": []
  }
 ],
 "metadata": {
  "kernelspec": {
   "display_name": "Python 3",
   "language": "python",
   "name": "python3"
  },
  "language_info": {
   "codemirror_mode": {
    "name": "ipython",
    "version": 3
   },
   "file_extension": ".py",
   "mimetype": "text/x-python",
   "name": "python",
   "nbconvert_exporter": "python",
   "pygments_lexer": "ipython3",
   "version": "3.6.15"
  },
  "papermill": {
   "default_parameters": {},
   "duration": 13.509656,
   "end_time": "2021-11-17T02:00:26.985806",
   "environment_variables": {},
   "exception": null,
   "input_path": "Market-News.ipynb",
   "output_path": "Market-News.ipynb",
   "parameters": {},
   "start_time": "2021-11-17T02:00:13.476150",
   "version": "2.2.2"
  }
 },
 "nbformat": 4,
 "nbformat_minor": 5
}