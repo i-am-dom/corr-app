{
 "cells": [
  {
   "cell_type": "markdown",
   "id": "short-greensboro",
   "metadata": {
    "papermill": {
     "duration": 0.01489,
     "end_time": "2022-05-08T02:55:29.238656",
     "exception": false,
     "start_time": "2022-05-08T02:55:29.223766",
     "status": "completed"
    },
    "tags": []
   },
   "source": [
    "# Kriptovaliutų naujienos"
   ]
  },
  {
   "cell_type": "code",
   "execution_count": 1,
   "id": "functioning-knowing",
   "metadata": {
    "execution": {
     "iopub.execute_input": "2022-05-08T02:55:29.277799Z",
     "iopub.status.busy": "2022-05-08T02:55:29.277111Z",
     "iopub.status.idle": "2022-05-08T02:55:30.760149Z",
     "shell.execute_reply": "2022-05-08T02:55:30.760684Z"
    },
    "papermill": {
     "duration": 1.508846,
     "end_time": "2022-05-08T02:55:30.760883",
     "exception": false,
     "start_time": "2022-05-08T02:55:29.252037",
     "status": "completed"
    },
    "tags": []
   },
   "outputs": [],
   "source": [
    "#hide_input\n",
    "import warnings\n",
    "warnings.filterwarnings('ignore')\n",
    "from scripts.read_data import read_api\n",
    "from scripts.read_data import read_news\n",
    "from scripts.read_data import read_covid\n",
    "import matplotlib.pyplot as plt \n",
    "from IPython.display import Markdown as md"
   ]
  },
  {
   "cell_type": "code",
   "execution_count": 2,
   "id": "shared-acceptance",
   "metadata": {
    "execution": {
     "iopub.execute_input": "2022-05-08T02:55:30.793686Z",
     "iopub.status.busy": "2022-05-08T02:55:30.792022Z",
     "iopub.status.idle": "2022-05-08T02:55:44.450723Z",
     "shell.execute_reply": "2022-05-08T02:55:44.449404Z"
    },
    "papermill": {
     "duration": 13.678219,
     "end_time": "2022-05-08T02:55:44.450886",
     "exception": false,
     "start_time": "2022-05-08T02:55:30.772667",
     "status": "completed"
    },
    "tags": []
   },
   "outputs": [],
   "source": [
    "#hide_input\n",
    "blockchain = read_news('blockchain') \n",
    "btc = read_news('btc') \n",
    "xrp = read_news('xrp') \n",
    "trx = read_news('trx') \n",
    "eth = read_news('eth')  \n",
    "ada = read_news('ada')\n",
    "exchange = read_news('exchange') "
   ]
  },
  {
   "cell_type": "code",
   "execution_count": 3,
   "id": "synthetic-notion",
   "metadata": {
    "execution": {
     "iopub.execute_input": "2022-05-08T02:55:44.481020Z",
     "iopub.status.busy": "2022-05-08T02:55:44.480372Z",
     "iopub.status.idle": "2022-05-08T02:55:44.484432Z",
     "shell.execute_reply": "2022-05-08T02:55:44.484883Z"
    },
    "papermill": {
     "duration": 0.023491,
     "end_time": "2022-05-08T02:55:44.485041",
     "exception": false,
     "start_time": "2022-05-08T02:55:44.461550",
     "status": "completed"
    },
    "tags": []
   },
   "outputs": [
    {
     "data": {
      "text/markdown": [
       "- Crypto, like railways, is among the world’s top innovations of the millennium.  Finding a million reasons why blockchain won’t succeed turned out to be one of the biggest innovations in the last 500 years. ... [| Skaityti daugiau](https://cointelegraph.com/news/crypto-like-railways-is-among-the-world-s-top-innovations-of-the-millennium) "
      ],
      "text/plain": [
       "<IPython.core.display.Markdown object>"
      ]
     },
     "execution_count": 3,
     "metadata": {},
     "output_type": "execute_result"
    }
   ],
   "source": [
    "#hide_input\n",
    "#md('##### {}'.format(titleBTC)) \n",
    "md(\"- {}{} {}{} [| Skaityti daugiau]({}) \".format(blockchain['title'],'. ', blockchain['body'], ' ...', blockchain['url']))"
   ]
  },
  {
   "cell_type": "code",
   "execution_count": 4,
   "id": "aging-caution",
   "metadata": {
    "execution": {
     "iopub.execute_input": "2022-05-08T02:55:44.512973Z",
     "iopub.status.busy": "2022-05-08T02:55:44.512269Z",
     "iopub.status.idle": "2022-05-08T02:55:44.515434Z",
     "shell.execute_reply": "2022-05-08T02:55:44.514827Z"
    },
    "papermill": {
     "duration": 0.019411,
     "end_time": "2022-05-08T02:55:44.515558",
     "exception": false,
     "start_time": "2022-05-08T02:55:44.496147",
     "status": "completed"
    },
    "tags": []
   },
   "outputs": [
    {
     "data": {
      "text/markdown": [
       "- This Is How Low Bitcoin (BTC) Price Can Drop In This Bear Market!.  The post This Is How Low Bitcoin (BTC) Price Can Drop In This Bear Market! appeared first on Coinpedia - Fintech &amp; Cryptocurreny News Media| Crypto GuideAs the cryptocurrency market heads towards a bearish close, one of the popular crypto analysts, Nicholas Merten predicts Bitcoin’s drop. In his new video, Nicholas Merten talks to his 516,000 Youtube subscribers about Bitcoin during his weekly wrap and this comes after the Federal Reserve increased interest rates and the crypto market started declining. He &#8230; ... [| Skaityti daugiau](https://coinpedia.org/bitcoin/this-is-how-low-bitcoin-btc-price-can-drop-in-this-bear-market/) "
      ],
      "text/plain": [
       "<IPython.core.display.Markdown object>"
      ]
     },
     "execution_count": 4,
     "metadata": {},
     "output_type": "execute_result"
    }
   ],
   "source": [
    "#hide_input\n",
    "#md('##### {}'.format(titleBTC)) \n",
    "md(\"- {}{} {}{} [| Skaityti daugiau]({}) \".format(btc['title'],'. ', btc['body'], ' ...', btc['url']))"
   ]
  },
  {
   "cell_type": "code",
   "execution_count": 5,
   "id": "organic-actress",
   "metadata": {
    "execution": {
     "iopub.execute_input": "2022-05-08T02:55:44.543531Z",
     "iopub.status.busy": "2022-05-08T02:55:44.542852Z",
     "iopub.status.idle": "2022-05-08T02:55:44.547037Z",
     "shell.execute_reply": "2022-05-08T02:55:44.546415Z"
    },
    "papermill": {
     "duration": 0.0207,
     "end_time": "2022-05-08T02:55:44.547180",
     "exception": false,
     "start_time": "2022-05-08T02:55:44.526480",
     "status": "completed"
    },
    "tags": []
   },
   "outputs": [
    {
     "data": {
      "text/markdown": [
       "- Is Litecoin Undervalued?.  Litecoin (LTC) is one of the top five cryptocurrencies during the Cryptocurrency bubble of late December 2017 and early January 2018. It was placed in the rank of Bitcoin, Ethereum, XRP, and EOS. LTC has a present value of $95.86 which is close to its 52-week low price of $92.61 after attaining an all-time high price of $412.96 on May 10th, 2021. This is close to a 330% price decrease within a year. Litecoin is presently in the 22nd position in the CoinMarketCap ranking of cryptocurrencies. However, there are some reasons to believe that Litecoin is undervalued. They include: Litecoin’s performance in comparison with other top coins In the past 30 days, the price of Litecoin (LTC) has decreased by 14.7%. Bitcoin, Ethereum, and XRP within the same duration had reduced in price by 17%, 15.9%, and 21.6% respectively. This means that an investor who owns an equal amount of the four coins in United States dollars, has least deduction in his asset value on his Litecoin holding. However, in recent times, the news had always been around Bitcoin, Ethereum, and XRP. Its a history of surviving dips Litecoin is one of the oldest cryptocurrencies still trading. It was founded in 2011 by Charlie Lee that had a stint with Google prior to its creation. According to 99bitcoins news, there are about 1705 dead coins as of April 2022. Deadcoins is a name for cryptocurrencies that are no longer in existence or being traded. With the number of dips... ... [| Skaityti daugiau](https://www.cryptoknowmics.com/news/is-litecoin-undervalued/?utm_source=rss&utm_medium=rss&utm_campaign=is-litecoin-undervalued) "
      ],
      "text/plain": [
       "<IPython.core.display.Markdown object>"
      ]
     },
     "execution_count": 5,
     "metadata": {},
     "output_type": "execute_result"
    }
   ],
   "source": [
    "#hide_input\n",
    "#md('##### {}'.format(titleBTC)) \n",
    "md(\"- {}{} {}{} [| Skaityti daugiau]({}) \".format(xrp['title'],'. ', xrp['body'], ' ...', xrp['url']))"
   ]
  },
  {
   "cell_type": "code",
   "execution_count": 6,
   "id": "prompt-farmer",
   "metadata": {
    "execution": {
     "iopub.execute_input": "2022-05-08T02:55:44.582007Z",
     "iopub.status.busy": "2022-05-08T02:55:44.581180Z",
     "iopub.status.idle": "2022-05-08T02:55:44.586727Z",
     "shell.execute_reply": "2022-05-08T02:55:44.586091Z"
    },
    "papermill": {
     "duration": 0.026216,
     "end_time": "2022-05-08T02:55:44.586863",
     "exception": false,
     "start_time": "2022-05-08T02:55:44.560647",
     "status": "completed"
    },
    "tags": []
   },
   "outputs": [
    {
     "data": {
      "text/markdown": [
       "- Tron’s foray into algorithmic stablecoins has had this effect on TRX.  A wise man once said “Algorithmic stablecoins are fast becoming the norm – protocol-issued dollars coming to every blockchain.” Like a self-fulfilling prophecy, two days ago, Tron launched its USDD algorithmic stablecoin. According to the founder and former CEO of Tron, Justin Sun, the Tron Blockchain intends to hold $10 billion in Bitcoin and other [&#8230;] ... [| Skaityti daugiau](https://ambcrypto.com/trons-foray-into-algorithmic-stablecoins-has-had-this-effect-on-trx/) "
      ],
      "text/plain": [
       "<IPython.core.display.Markdown object>"
      ]
     },
     "execution_count": 6,
     "metadata": {},
     "output_type": "execute_result"
    }
   ],
   "source": [
    "#hide_input\n",
    "#md('##### {}'.format(titleBTC)) \n",
    "md(\"- {}{} {}{} [| Skaityti daugiau]({}) \".format(trx['title'],'. ', trx['body'], ' ...', trx['url']))"
   ]
  },
  {
   "cell_type": "code",
   "execution_count": 7,
   "id": "illegal-greece",
   "metadata": {
    "execution": {
     "iopub.execute_input": "2022-05-08T02:55:44.620083Z",
     "iopub.status.busy": "2022-05-08T02:55:44.619471Z",
     "iopub.status.idle": "2022-05-08T02:55:44.623185Z",
     "shell.execute_reply": "2022-05-08T02:55:44.622567Z"
    },
    "papermill": {
     "duration": 0.022314,
     "end_time": "2022-05-08T02:55:44.623319",
     "exception": false,
     "start_time": "2022-05-08T02:55:44.601005",
     "status": "completed"
    },
    "tags": []
   },
   "outputs": [
    {
     "data": {
      "text/markdown": [
       "- Clearpool and Jane Street Launched a Permissioned Pool Focusing on KYC Compliance.  Clearpool and Jane Street launched a product allowing users to stake USDC for earning yields in its unity and governance token, CPOOL. ... [| Skaityti daugiau](https://cryptopotato.com/clearpool-and-jane-street-launched-a-permissioned-pool-focusing-on-kyc-compliance/) "
      ],
      "text/plain": [
       "<IPython.core.display.Markdown object>"
      ]
     },
     "execution_count": 7,
     "metadata": {},
     "output_type": "execute_result"
    }
   ],
   "source": [
    "#hide_input\n",
    "#md('##### {}'.format(titleBTC)) \n",
    "md(\"- {}{} {}{} [| Skaityti daugiau]({}) \".format(eth['title'],'. ', eth['body'], ' ...', eth['url']))"
   ]
  },
  {
   "cell_type": "code",
   "execution_count": 8,
   "id": "sublime-lounge",
   "metadata": {
    "execution": {
     "iopub.execute_input": "2022-05-08T02:55:44.653944Z",
     "iopub.status.busy": "2022-05-08T02:55:44.653308Z",
     "iopub.status.idle": "2022-05-08T02:55:44.656072Z",
     "shell.execute_reply": "2022-05-08T02:55:44.655504Z"
    },
    "papermill": {
     "duration": 0.020557,
     "end_time": "2022-05-08T02:55:44.656190",
     "exception": false,
     "start_time": "2022-05-08T02:55:44.635633",
     "status": "completed"
    },
    "tags": []
   },
   "outputs": [
    {
     "data": {
      "text/markdown": [
       "- Cardano Set to Onboard Game-Changing Algorithmic Stablecoins, Rivaling Terra’s UST.  Cardano and IOST have revealed that they will be taking a cue from Terra by launching algorithmic stablecoins backed by cryptocurrencies. ... [| Skaityti daugiau](https://zycrypto.com/cardano-set-to-onboard-game-changing-algorithmic-stablecoins-rivaling-terras-ust/) "
      ],
      "text/plain": [
       "<IPython.core.display.Markdown object>"
      ]
     },
     "execution_count": 8,
     "metadata": {},
     "output_type": "execute_result"
    }
   ],
   "source": [
    "#hide_input\n",
    "#md('##### {}'.format(titleBTC)) \n",
    "md(\"- {}{} {}{} [| Skaityti daugiau]({}) \".format(ada['title'],'. ', ada['body'], ' ...', ada['url']))"
   ]
  },
  {
   "cell_type": "code",
   "execution_count": 9,
   "id": "specified-ordering",
   "metadata": {
    "execution": {
     "iopub.execute_input": "2022-05-08T02:55:44.690002Z",
     "iopub.status.busy": "2022-05-08T02:55:44.689406Z",
     "iopub.status.idle": "2022-05-08T02:55:44.693020Z",
     "shell.execute_reply": "2022-05-08T02:55:44.692532Z"
    },
    "papermill": {
     "duration": 0.024088,
     "end_time": "2022-05-08T02:55:44.693146",
     "exception": false,
     "start_time": "2022-05-08T02:55:44.669058",
     "status": "completed"
    },
    "tags": []
   },
   "outputs": [
    {
     "data": {
      "text/markdown": [
       "- SEC Fines Nvidia $5.5 Million for Failing to Disclose Crypto Mining Significantly Boosted Its Revenue.  The U.S. Securities and Exchange Commission (SEC) has charged Nvidia Corp. for failing to disclose that crypto mining significantly boosted its revenue. The company agreed to a cease-and-desist order and to pay a $5.5 million penalty. Nvidia Failed to Disclose That Crypto Mining Was a Significant Element of Its Material Revenue Growth The U.S. Securities [&#8230;] ... [| Skaityti daugiau](https://news.bitcoin.com/sec-fines-nvidia-5-5-million-for-failing-to-disclose-crypto-mining-significantly-boosted-its-revenue/) "
      ],
      "text/plain": [
       "<IPython.core.display.Markdown object>"
      ]
     },
     "execution_count": 9,
     "metadata": {},
     "output_type": "execute_result"
    }
   ],
   "source": [
    "#hide_input\n",
    "#md('##### {}'.format(titleBTC)) \n",
    "md(\"- {}{} {}{} [| Skaityti daugiau]({}) \".format(exchange['title'],'. ', exchange['body'], ' ...', exchange['url']))"
   ]
  },
  {
   "cell_type": "code",
   "execution_count": null,
   "id": "tender-livestock",
   "metadata": {
    "papermill": {
     "duration": 0.013294,
     "end_time": "2022-05-08T02:55:44.719910",
     "exception": false,
     "start_time": "2022-05-08T02:55:44.706616",
     "status": "completed"
    },
    "tags": []
   },
   "outputs": [],
   "source": []
  },
  {
   "cell_type": "code",
   "execution_count": null,
   "id": "appreciated-diamond",
   "metadata": {
    "papermill": {
     "duration": 0.012926,
     "end_time": "2022-05-08T02:55:44.745830",
     "exception": false,
     "start_time": "2022-05-08T02:55:44.732904",
     "status": "completed"
    },
    "tags": []
   },
   "outputs": [],
   "source": []
  },
  {
   "cell_type": "code",
   "execution_count": null,
   "id": "romance-sweden",
   "metadata": {
    "papermill": {
     "duration": 0.012833,
     "end_time": "2022-05-08T02:55:44.772853",
     "exception": false,
     "start_time": "2022-05-08T02:55:44.760020",
     "status": "completed"
    },
    "tags": []
   },
   "outputs": [],
   "source": []
  },
  {
   "cell_type": "code",
   "execution_count": null,
   "id": "dietary-statistics",
   "metadata": {
    "papermill": {
     "duration": 0.012731,
     "end_time": "2022-05-08T02:55:44.798462",
     "exception": false,
     "start_time": "2022-05-08T02:55:44.785731",
     "status": "completed"
    },
    "tags": []
   },
   "outputs": [],
   "source": []
  }
 ],
 "metadata": {
  "kernelspec": {
   "display_name": "Python 3",
   "language": "python",
   "name": "python3"
  },
  "language_info": {
   "codemirror_mode": {
    "name": "ipython",
    "version": 3
   },
   "file_extension": ".py",
   "mimetype": "text/x-python",
   "name": "python",
   "nbconvert_exporter": "python",
   "pygments_lexer": "ipython3",
   "version": "3.6.15"
  },
  "papermill": {
   "default_parameters": {},
   "duration": 17.286314,
   "end_time": "2022-05-08T02:55:45.332656",
   "environment_variables": {},
   "exception": null,
   "input_path": "Market-News.ipynb",
   "output_path": "Market-News.ipynb",
   "parameters": {},
   "start_time": "2022-05-08T02:55:28.046342",
   "version": "2.2.2"
  }
 },
 "nbformat": 4,
 "nbformat_minor": 5
}