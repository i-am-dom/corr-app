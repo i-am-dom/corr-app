{
 "cells": [
  {
   "cell_type": "markdown",
   "id": "short-greensboro",
   "metadata": {
    "papermill": {
     "duration": 0.015769,
     "end_time": "2022-03-24T02:27:49.072069",
     "exception": false,
     "start_time": "2022-03-24T02:27:49.056300",
     "status": "completed"
    },
    "tags": []
   },
   "source": [
    "# Kriptovaliutų naujienos"
   ]
  },
  {
   "cell_type": "code",
   "execution_count": 1,
   "id": "functioning-knowing",
   "metadata": {
    "execution": {
     "iopub.execute_input": "2022-03-24T02:27:49.108783Z",
     "iopub.status.busy": "2022-03-24T02:27:49.108121Z",
     "iopub.status.idle": "2022-03-24T02:27:50.677418Z",
     "shell.execute_reply": "2022-03-24T02:27:50.678162Z"
    },
    "papermill": {
     "duration": 1.594111,
     "end_time": "2022-03-24T02:27:50.678418",
     "exception": false,
     "start_time": "2022-03-24T02:27:49.084307",
     "status": "completed"
    },
    "tags": []
   },
   "outputs": [],
   "source": [
    "#hide_input\n",
    "import warnings\n",
    "warnings.filterwarnings('ignore')\n",
    "from scripts.read_data import read_api\n",
    "from scripts.read_data import read_news\n",
    "from scripts.read_data import read_covid\n",
    "import matplotlib.pyplot as plt \n",
    "from IPython.display import Markdown as md"
   ]
  },
  {
   "cell_type": "code",
   "execution_count": 2,
   "id": "shared-acceptance",
   "metadata": {
    "execution": {
     "iopub.execute_input": "2022-03-24T02:27:50.709865Z",
     "iopub.status.busy": "2022-03-24T02:27:50.709192Z",
     "iopub.status.idle": "2022-03-24T02:27:59.804333Z",
     "shell.execute_reply": "2022-03-24T02:27:59.803804Z"
    },
    "papermill": {
     "duration": 9.113714,
     "end_time": "2022-03-24T02:27:59.804472",
     "exception": false,
     "start_time": "2022-03-24T02:27:50.690758",
     "status": "completed"
    },
    "tags": []
   },
   "outputs": [],
   "source": [
    "#hide_input\n",
    "blockchain = read_news('blockchain') \n",
    "btc = read_news('btc') \n",
    "xrp = read_news('xrp') \n",
    "trx = read_news('trx') \n",
    "eth = read_news('eth')  \n",
    "ada = read_news('ada')\n",
    "exchange = read_news('exchange') "
   ]
  },
  {
   "cell_type": "code",
   "execution_count": 3,
   "id": "synthetic-notion",
   "metadata": {
    "execution": {
     "iopub.execute_input": "2022-03-24T02:27:59.844314Z",
     "iopub.status.busy": "2022-03-24T02:27:59.843655Z",
     "iopub.status.idle": "2022-03-24T02:27:59.846827Z",
     "shell.execute_reply": "2022-03-24T02:27:59.847588Z"
    },
    "papermill": {
     "duration": 0.031074,
     "end_time": "2022-03-24T02:27:59.847752",
     "exception": false,
     "start_time": "2022-03-24T02:27:59.816678",
     "status": "completed"
    },
    "tags": []
   },
   "outputs": [
    {
     "data": {
      "text/markdown": [
       "- A Couple of Buried Altcoins Made Huge Moves Now, Is This the Resurgence of 2017 Bull Run!.  The post A Couple of Buried Altcoins Made Huge Moves Now, Is This the Resurgence of 2017 Bull Run! appeared first on Coinpedia - Fintech &amp; Cryptocurreny News Media| Crypto GuideThe crypto space is filled with huge uncertain moves at the moment as most of the assets are swinging within a pre-determined range. While Bitcoin&#8217;s price is struggling hard to seal up the levels above $45,000, many altcoins have already ignited a larger move. Interestingly, more than the popular altcoins or specifically the newer coins, &#8230; ... [| Skaityti daugiau](https://coinpedia.org/altcoin/a-couple-of-buried-altcoins-made-a-huge-moves-recently-is-this-resurgence-of-2017-bull-run/) "
      ],
      "text/plain": [
       "<IPython.core.display.Markdown object>"
      ]
     },
     "execution_count": 3,
     "metadata": {},
     "output_type": "execute_result"
    }
   ],
   "source": [
    "#hide_input\n",
    "#md('##### {}'.format(titleBTC)) \n",
    "md(\"- {}{} {}{} [| Skaityti daugiau]({}) \".format(blockchain['title'],'. ', blockchain['body'], ' ...', blockchain['url']))"
   ]
  },
  {
   "cell_type": "code",
   "execution_count": 4,
   "id": "aging-caution",
   "metadata": {
    "execution": {
     "iopub.execute_input": "2022-03-24T02:27:59.879428Z",
     "iopub.status.busy": "2022-03-24T02:27:59.878666Z",
     "iopub.status.idle": "2022-03-24T02:27:59.881141Z",
     "shell.execute_reply": "2022-03-24T02:27:59.881603Z"
    },
    "papermill": {
     "duration": 0.021657,
     "end_time": "2022-03-24T02:27:59.881736",
     "exception": false,
     "start_time": "2022-03-24T02:27:59.860079",
     "status": "completed"
    },
    "tags": []
   },
   "outputs": [
    {
     "data": {
      "text/markdown": [
       "- A Couple of Buried Altcoins Made Huge Moves Now, Is This the Resurgence of 2017 Bull Run!.  The post A Couple of Buried Altcoins Made Huge Moves Now, Is This the Resurgence of 2017 Bull Run! appeared first on Coinpedia - Fintech &amp; Cryptocurreny News Media| Crypto GuideThe crypto space is filled with huge uncertain moves at the moment as most of the assets are swinging within a pre-determined range. While Bitcoin&#8217;s price is struggling hard to seal up the levels above $45,000, many altcoins have already ignited a larger move. Interestingly, more than the popular altcoins or specifically the newer coins, &#8230; ... [| Skaityti daugiau](https://coinpedia.org/altcoin/a-couple-of-buried-altcoins-made-a-huge-moves-recently-is-this-resurgence-of-2017-bull-run/) "
      ],
      "text/plain": [
       "<IPython.core.display.Markdown object>"
      ]
     },
     "execution_count": 4,
     "metadata": {},
     "output_type": "execute_result"
    }
   ],
   "source": [
    "#hide_input\n",
    "#md('##### {}'.format(titleBTC)) \n",
    "md(\"- {}{} {}{} [| Skaityti daugiau]({}) \".format(btc['title'],'. ', btc['body'], ' ...', btc['url']))"
   ]
  },
  {
   "cell_type": "code",
   "execution_count": 5,
   "id": "organic-actress",
   "metadata": {
    "execution": {
     "iopub.execute_input": "2022-03-24T02:27:59.913404Z",
     "iopub.status.busy": "2022-03-24T02:27:59.912733Z",
     "iopub.status.idle": "2022-03-24T02:27:59.915583Z",
     "shell.execute_reply": "2022-03-24T02:27:59.916200Z"
    },
    "papermill": {
     "duration": 0.021455,
     "end_time": "2022-03-24T02:27:59.916370",
     "exception": false,
     "start_time": "2022-03-24T02:27:59.894915",
     "status": "completed"
    },
    "tags": []
   },
   "outputs": [
    {
     "data": {
      "text/markdown": [
       "- Ripple price analysis: XRP retests $0.82 as support, ready to rally higher?.  TL;DR Breakdown Ripple price analysis is bullish today. XRP/USD found another higher low at $0.82. Bullish momentum returned over the last hours. Ripple price analysis is bullish today as we [&#8230;] ... [| Skaityti daugiau](https://www.cryptopolitan.com/ripple-price-analysis-2022-03-23/) "
      ],
      "text/plain": [
       "<IPython.core.display.Markdown object>"
      ]
     },
     "execution_count": 5,
     "metadata": {},
     "output_type": "execute_result"
    }
   ],
   "source": [
    "#hide_input\n",
    "#md('##### {}'.format(titleBTC)) \n",
    "md(\"- {}{} {}{} [| Skaityti daugiau]({}) \".format(xrp['title'],'. ', xrp['body'], ' ...', xrp['url']))"
   ]
  },
  {
   "cell_type": "code",
   "execution_count": 6,
   "id": "prompt-farmer",
   "metadata": {
    "execution": {
     "iopub.execute_input": "2022-03-24T02:27:59.948312Z",
     "iopub.status.busy": "2022-03-24T02:27:59.947390Z",
     "iopub.status.idle": "2022-03-24T02:27:59.955755Z",
     "shell.execute_reply": "2022-03-24T02:27:59.955048Z"
    },
    "papermill": {
     "duration": 0.025555,
     "end_time": "2022-03-24T02:27:59.955894",
     "exception": false,
     "start_time": "2022-03-24T02:27:59.930339",
     "status": "completed"
    },
    "tags": []
   },
   "outputs": [
    {
     "data": {
      "text/markdown": [
       "- This new entry trigger in TRON can prove to be quite profitable.  Disclaimer: The findings of the following analysis are the sole opinions of the writer and should not be considered investment advice Tron (TRX) has been on a long-term downtrend since declining from the $0.129-mark. Nevertheless, the bulls managed to find their grounds over the last month. The alt saw a close above the vital 38.2% Fibonacci [&#8230;] ... [| Skaityti daugiau](https://ambcrypto.com/this-new-entry-trigger-in-tron-can-prove-to-be-quite-profitable/) "
      ],
      "text/plain": [
       "<IPython.core.display.Markdown object>"
      ]
     },
     "execution_count": 6,
     "metadata": {},
     "output_type": "execute_result"
    }
   ],
   "source": [
    "#hide_input\n",
    "#md('##### {}'.format(titleBTC)) \n",
    "md(\"- {}{} {}{} [| Skaityti daugiau]({}) \".format(trx['title'],'. ', trx['body'], ' ...', trx['url']))"
   ]
  },
  {
   "cell_type": "code",
   "execution_count": 7,
   "id": "illegal-greece",
   "metadata": {
    "execution": {
     "iopub.execute_input": "2022-03-24T02:27:59.997097Z",
     "iopub.status.busy": "2022-03-24T02:27:59.996181Z",
     "iopub.status.idle": "2022-03-24T02:28:00.000373Z",
     "shell.execute_reply": "2022-03-24T02:27:59.999599Z"
    },
    "papermill": {
     "duration": 0.030154,
     "end_time": "2022-03-24T02:28:00.000646",
     "exception": false,
     "start_time": "2022-03-24T02:27:59.970492",
     "status": "completed"
    },
    "tags": []
   },
   "outputs": [
    {
     "data": {
      "text/markdown": [
       "- A Couple of Buried Altcoins Made Huge Moves Now, Is This the Resurgence of 2017 Bull Run!.  The post A Couple of Buried Altcoins Made Huge Moves Now, Is This the Resurgence of 2017 Bull Run! appeared first on Coinpedia - Fintech &amp; Cryptocurreny News Media| Crypto GuideThe crypto space is filled with huge uncertain moves at the moment as most of the assets are swinging within a pre-determined range. While Bitcoin&#8217;s price is struggling hard to seal up the levels above $45,000, many altcoins have already ignited a larger move. Interestingly, more than the popular altcoins or specifically the newer coins, &#8230; ... [| Skaityti daugiau](https://coinpedia.org/altcoin/a-couple-of-buried-altcoins-made-a-huge-moves-recently-is-this-resurgence-of-2017-bull-run/) "
      ],
      "text/plain": [
       "<IPython.core.display.Markdown object>"
      ]
     },
     "execution_count": 7,
     "metadata": {},
     "output_type": "execute_result"
    }
   ],
   "source": [
    "#hide_input\n",
    "#md('##### {}'.format(titleBTC)) \n",
    "md(\"- {}{} {}{} [| Skaityti daugiau]({}) \".format(eth['title'],'. ', eth['body'], ' ...', eth['url']))"
   ]
  },
  {
   "cell_type": "code",
   "execution_count": 8,
   "id": "sublime-lounge",
   "metadata": {
    "execution": {
     "iopub.execute_input": "2022-03-24T02:28:00.039166Z",
     "iopub.status.busy": "2022-03-24T02:28:00.038484Z",
     "iopub.status.idle": "2022-03-24T02:28:00.041657Z",
     "shell.execute_reply": "2022-03-24T02:28:00.042374Z"
    },
    "papermill": {
     "duration": 0.02585,
     "end_time": "2022-03-24T02:28:00.042546",
     "exception": false,
     "start_time": "2022-03-24T02:28:00.016696",
     "status": "completed"
    },
    "tags": []
   },
   "outputs": [
    {
     "data": {
      "text/markdown": [
       "- Coinbase Adds Cardano Staking Rewards.  Coinbase says the exchange has additional \"plans to continue to scale our staking portfolio\" throughout 2022. ... [| Skaityti daugiau](https://decrypt.co/95884/coinbase-adds-cardano-staking-rewards) "
      ],
      "text/plain": [
       "<IPython.core.display.Markdown object>"
      ]
     },
     "execution_count": 8,
     "metadata": {},
     "output_type": "execute_result"
    }
   ],
   "source": [
    "#hide_input\n",
    "#md('##### {}'.format(titleBTC)) \n",
    "md(\"- {}{} {}{} [| Skaityti daugiau]({}) \".format(ada['title'],'. ', ada['body'], ' ...', ada['url']))"
   ]
  },
  {
   "cell_type": "code",
   "execution_count": 9,
   "id": "specified-ordering",
   "metadata": {
    "execution": {
     "iopub.execute_input": "2022-03-24T02:28:00.077215Z",
     "iopub.status.busy": "2022-03-24T02:28:00.076568Z",
     "iopub.status.idle": "2022-03-24T02:28:00.079530Z",
     "shell.execute_reply": "2022-03-24T02:28:00.080088Z"
    },
    "papermill": {
     "duration": 0.024171,
     "end_time": "2022-03-24T02:28:00.080243",
     "exception": false,
     "start_time": "2022-03-24T02:28:00.056072",
     "status": "completed"
    },
    "tags": []
   },
   "outputs": [
    {
     "data": {
      "text/markdown": [
       "- Coinbase Adds Cardano Staking Rewards.  Coinbase says the exchange has additional \"plans to continue to scale our staking portfolio\" throughout 2022. ... [| Skaityti daugiau](https://decrypt.co/95884/coinbase-adds-cardano-staking-rewards) "
      ],
      "text/plain": [
       "<IPython.core.display.Markdown object>"
      ]
     },
     "execution_count": 9,
     "metadata": {},
     "output_type": "execute_result"
    }
   ],
   "source": [
    "#hide_input\n",
    "#md('##### {}'.format(titleBTC)) \n",
    "md(\"- {}{} {}{} [| Skaityti daugiau]({}) \".format(exchange['title'],'. ', exchange['body'], ' ...', exchange['url']))"
   ]
  },
  {
   "cell_type": "code",
   "execution_count": null,
   "id": "tender-livestock",
   "metadata": {
    "papermill": {
     "duration": 0.013372,
     "end_time": "2022-03-24T02:28:00.108546",
     "exception": false,
     "start_time": "2022-03-24T02:28:00.095174",
     "status": "completed"
    },
    "tags": []
   },
   "outputs": [],
   "source": []
  },
  {
   "cell_type": "code",
   "execution_count": null,
   "id": "appreciated-diamond",
   "metadata": {
    "papermill": {
     "duration": 0.018853,
     "end_time": "2022-03-24T02:28:00.139967",
     "exception": false,
     "start_time": "2022-03-24T02:28:00.121114",
     "status": "completed"
    },
    "tags": []
   },
   "outputs": [],
   "source": []
  },
  {
   "cell_type": "code",
   "execution_count": null,
   "id": "romance-sweden",
   "metadata": {
    "papermill": {
     "duration": 0.014979,
     "end_time": "2022-03-24T02:28:00.169969",
     "exception": false,
     "start_time": "2022-03-24T02:28:00.154990",
     "status": "completed"
    },
    "tags": []
   },
   "outputs": [],
   "source": []
  },
  {
   "cell_type": "code",
   "execution_count": null,
   "id": "dietary-statistics",
   "metadata": {
    "papermill": {
     "duration": 0.01446,
     "end_time": "2022-03-24T02:28:00.199705",
     "exception": false,
     "start_time": "2022-03-24T02:28:00.185245",
     "status": "completed"
    },
    "tags": []
   },
   "outputs": [],
   "source": []
  }
 ],
 "metadata": {
  "kernelspec": {
   "display_name": "Python 3",
   "language": "python",
   "name": "python3"
  },
  "language_info": {
   "codemirror_mode": {
    "name": "ipython",
    "version": 3
   },
   "file_extension": ".py",
   "mimetype": "text/x-python",
   "name": "python",
   "nbconvert_exporter": "python",
   "pygments_lexer": "ipython3",
   "version": "3.6.15"
  },
  "papermill": {
   "default_parameters": {},
   "duration": 13.004503,
   "end_time": "2022-03-24T02:28:00.734863",
   "environment_variables": {},
   "exception": null,
   "input_path": "Market-News.ipynb",
   "output_path": "Market-News.ipynb",
   "parameters": {},
   "start_time": "2022-03-24T02:27:47.730360",
   "version": "2.2.2"
  }
 },
 "nbformat": 4,
 "nbformat_minor": 5
}