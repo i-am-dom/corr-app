{
 "cells": [
  {
   "cell_type": "markdown",
   "id": "short-greensboro",
   "metadata": {
    "papermill": {
     "duration": 0.01302,
     "end_time": "2022-04-10T02:35:42.937905",
     "exception": false,
     "start_time": "2022-04-10T02:35:42.924885",
     "status": "completed"
    },
    "tags": []
   },
   "source": [
    "# Kriptovaliutų naujienos"
   ]
  },
  {
   "cell_type": "code",
   "execution_count": 1,
   "id": "functioning-knowing",
   "metadata": {
    "execution": {
     "iopub.execute_input": "2022-04-10T02:35:42.967744Z",
     "iopub.status.busy": "2022-04-10T02:35:42.967246Z",
     "iopub.status.idle": "2022-04-10T02:35:44.149945Z",
     "shell.execute_reply": "2022-04-10T02:35:44.149485Z"
    },
    "papermill": {
     "duration": 1.202179,
     "end_time": "2022-04-10T02:35:44.150070",
     "exception": false,
     "start_time": "2022-04-10T02:35:42.947891",
     "status": "completed"
    },
    "tags": []
   },
   "outputs": [],
   "source": [
    "#hide_input\n",
    "import warnings\n",
    "warnings.filterwarnings('ignore')\n",
    "from scripts.read_data import read_api\n",
    "from scripts.read_data import read_news\n",
    "from scripts.read_data import read_covid\n",
    "import matplotlib.pyplot as plt \n",
    "from IPython.display import Markdown as md"
   ]
  },
  {
   "cell_type": "code",
   "execution_count": 2,
   "id": "shared-acceptance",
   "metadata": {
    "execution": {
     "iopub.execute_input": "2022-04-10T02:35:44.174737Z",
     "iopub.status.busy": "2022-04-10T02:35:44.174208Z",
     "iopub.status.idle": "2022-04-10T02:35:54.496742Z",
     "shell.execute_reply": "2022-04-10T02:35:54.496300Z"
    },
    "papermill": {
     "duration": 10.337234,
     "end_time": "2022-04-10T02:35:54.496857",
     "exception": false,
     "start_time": "2022-04-10T02:35:44.159623",
     "status": "completed"
    },
    "tags": []
   },
   "outputs": [],
   "source": [
    "#hide_input\n",
    "blockchain = read_news('blockchain') \n",
    "btc = read_news('btc') \n",
    "xrp = read_news('xrp') \n",
    "trx = read_news('trx') \n",
    "eth = read_news('eth')  \n",
    "ada = read_news('ada')\n",
    "exchange = read_news('exchange') "
   ]
  },
  {
   "cell_type": "code",
   "execution_count": 3,
   "id": "synthetic-notion",
   "metadata": {
    "execution": {
     "iopub.execute_input": "2022-04-10T02:35:54.521474Z",
     "iopub.status.busy": "2022-04-10T02:35:54.520974Z",
     "iopub.status.idle": "2022-04-10T02:35:54.522899Z",
     "shell.execute_reply": "2022-04-10T02:35:54.523334Z"
    },
    "papermill": {
     "duration": 0.017037,
     "end_time": "2022-04-10T02:35:54.523442",
     "exception": false,
     "start_time": "2022-04-10T02:35:54.506405",
     "status": "completed"
    },
    "tags": []
   },
   "outputs": [
    {
     "data": {
      "text/markdown": [
       "- Scientists Finish Sequencing the Human Genome: Here’s How Blockchain Can Fit (Op-Ed).  In this article, we explore the untypical connection between human DNA, technological advancement, and blockchain. ... [| Skaityti daugiau](https://cryptopotato.com/scientists-finish-sequencing-the-human-genome-heres-how-blockchain-can-fit-op-ed/) "
      ],
      "text/plain": [
       "<IPython.core.display.Markdown object>"
      ]
     },
     "execution_count": 3,
     "metadata": {},
     "output_type": "execute_result"
    }
   ],
   "source": [
    "#hide_input\n",
    "#md('##### {}'.format(titleBTC)) \n",
    "md(\"- {}{} {}{} [| Skaityti daugiau]({}) \".format(blockchain['title'],'. ', blockchain['body'], ' ...', blockchain['url']))"
   ]
  },
  {
   "cell_type": "code",
   "execution_count": 4,
   "id": "aging-caution",
   "metadata": {
    "execution": {
     "iopub.execute_input": "2022-04-10T02:35:54.546845Z",
     "iopub.status.busy": "2022-04-10T02:35:54.546334Z",
     "iopub.status.idle": "2022-04-10T02:35:54.548922Z",
     "shell.execute_reply": "2022-04-10T02:35:54.548514Z"
    },
    "papermill": {
     "duration": 0.015855,
     "end_time": "2022-04-10T02:35:54.549013",
     "exception": false,
     "start_time": "2022-04-10T02:35:54.533158",
     "status": "completed"
    },
    "tags": []
   },
   "outputs": [
    {
     "data": {
      "text/markdown": [
       "- Kevin O’Leary Predicts Trillions of Dollars Will Flood Into Crypto — Says Bitcoin Mining Will ‘Save the World’.  Shark Tank star Kevin O&#x2019;Leary, aka Mr. Wonderful, has predicted that trillions of dollars will flow into cryptocurrencies, particularly bitcoin. In addition, he said bitcoin mining will &#x201C;save the world.&#x201D; O&#x2019;Leary Says &#x2018;Spigots of Capital&#x2019; Will Flood Into Crypto Like You&#x2019;ve Never Seen Shark Tank star Kevin O&#x2019;Leary gave a keynote speech at the Bitcoin [&#8230;] ... [| Skaityti daugiau](https://news.bitcoin.com/kevin-oleary-trillions-of-dollars-flood-into-crypto-bitcoin-mining-will-save-the-world/) "
      ],
      "text/plain": [
       "<IPython.core.display.Markdown object>"
      ]
     },
     "execution_count": 4,
     "metadata": {},
     "output_type": "execute_result"
    }
   ],
   "source": [
    "#hide_input\n",
    "#md('##### {}'.format(titleBTC)) \n",
    "md(\"- {}{} {}{} [| Skaityti daugiau]({}) \".format(btc['title'],'. ', btc['body'], ' ...', btc['url']))"
   ]
  },
  {
   "cell_type": "code",
   "execution_count": 5,
   "id": "organic-actress",
   "metadata": {
    "execution": {
     "iopub.execute_input": "2022-04-10T02:35:54.572800Z",
     "iopub.status.busy": "2022-04-10T02:35:54.572299Z",
     "iopub.status.idle": "2022-04-10T02:35:54.574874Z",
     "shell.execute_reply": "2022-04-10T02:35:54.574461Z"
    },
    "papermill": {
     "duration": 0.01608,
     "end_time": "2022-04-10T02:35:54.574966",
     "exception": false,
     "start_time": "2022-04-10T02:35:54.558886",
     "status": "completed"
    },
    "tags": []
   },
   "outputs": [
    {
     "data": {
      "text/markdown": [
       "- 60,508,801 XRP Worth 46,330,836 USD Transferred From Binance to Unknown wallet.  XRP is down 1.19% in the last 24 hours. According to the defense attorney, Ripple is still expecting court judgements ... [| Skaityti daugiau](https://thenewscrypto.com/60508801-xrp-worth-46330836-usd-transferred-from-binance-to-unknown-wallet/) "
      ],
      "text/plain": [
       "<IPython.core.display.Markdown object>"
      ]
     },
     "execution_count": 5,
     "metadata": {},
     "output_type": "execute_result"
    }
   ],
   "source": [
    "#hide_input\n",
    "#md('##### {}'.format(titleBTC)) \n",
    "md(\"- {}{} {}{} [| Skaityti daugiau]({}) \".format(xrp['title'],'. ', xrp['body'], ' ...', xrp['url']))"
   ]
  },
  {
   "cell_type": "code",
   "execution_count": 6,
   "id": "prompt-farmer",
   "metadata": {
    "execution": {
     "iopub.execute_input": "2022-04-10T02:35:54.599603Z",
     "iopub.status.busy": "2022-04-10T02:35:54.599108Z",
     "iopub.status.idle": "2022-04-10T02:35:54.601221Z",
     "shell.execute_reply": "2022-04-10T02:35:54.601635Z"
    },
    "papermill": {
     "duration": 0.016417,
     "end_time": "2022-04-10T02:35:54.601740",
     "exception": false,
     "start_time": "2022-04-10T02:35:54.585323",
     "status": "completed"
    },
    "tags": []
   },
   "outputs": [
    {
     "data": {
      "text/markdown": [
       "- GemTRX Adds New Tron Cloud Mining Features and Options.  GemTRX Links: Official Website: https://gem-trx.com/share?code=337867 Official Facebook Page: https://www.facebook.com/gemtrxofficial Official Twitter: https://twitter.com/Gem_TRX Telegram Channel: https://t.me/gemtrxchannel Whitepaper: https://tron.network/static/doc/white_paper_v_2_0.pdf Telegram customer service: https://t.me/gemtrxofficial https://t.me/gemtrxofficial2 Whatsapp customer service: +1(650)272-9738 GemTRX added a new cloud mining option called The Mining Cycle Model to celebrate their one million partners. Because of the enhanced capabilities, participants may now deposit TRX from [&#8230;]The post GemTRX Adds New Tron Cloud Mining Features and Options appeared first on NullTX. ... [| Skaityti daugiau](https://nulltx.com/gemtrx-adds-new-tron-cloud-mining-features-and-options/) "
      ],
      "text/plain": [
       "<IPython.core.display.Markdown object>"
      ]
     },
     "execution_count": 6,
     "metadata": {},
     "output_type": "execute_result"
    }
   ],
   "source": [
    "#hide_input\n",
    "#md('##### {}'.format(titleBTC)) \n",
    "md(\"- {}{} {}{} [| Skaityti daugiau]({}) \".format(trx['title'],'. ', trx['body'], ' ...', trx['url']))"
   ]
  },
  {
   "cell_type": "code",
   "execution_count": 7,
   "id": "illegal-greece",
   "metadata": {
    "execution": {
     "iopub.execute_input": "2022-04-10T02:35:54.626944Z",
     "iopub.status.busy": "2022-04-10T02:35:54.626012Z",
     "iopub.status.idle": "2022-04-10T02:35:54.629580Z",
     "shell.execute_reply": "2022-04-10T02:35:54.629168Z"
    },
    "papermill": {
     "duration": 0.017102,
     "end_time": "2022-04-10T02:35:54.629672",
     "exception": false,
     "start_time": "2022-04-10T02:35:54.612570",
     "status": "completed"
    },
    "tags": []
   },
   "outputs": [
    {
     "data": {
      "text/markdown": [
       "- ConsenSys Mesh Welcomes Radio Caca to Tachyon with Filecoin Launchpad Accelerator Program.  Radio Caca, the creator behind United States of Mars (USM), one of the biggest Metaverses on the BNB Chain, announced today that it had been accepted into the Tachyon Accelerator program by ConsenSys Mesh. Ethereum co-founder Joseph Lubin founded ConsenSys Mesh in 2015. Through the partnership, Tachyon will help Radio Caca enter into the next [&#8230;]The post ConsenSys Mesh Welcomes Radio Caca to Tachyon with Filecoin Launchpad Accelerator Program appeared first on NullTX. ... [| Skaityti daugiau](https://nulltx.com/consensys-mesh-welcomes-radio-caca-to-tachyon-with-filecoin-launchpad-accelerator-program/) "
      ],
      "text/plain": [
       "<IPython.core.display.Markdown object>"
      ]
     },
     "execution_count": 7,
     "metadata": {},
     "output_type": "execute_result"
    }
   ],
   "source": [
    "#hide_input\n",
    "#md('##### {}'.format(titleBTC)) \n",
    "md(\"- {}{} {}{} [| Skaityti daugiau]({}) \".format(eth['title'],'. ', eth['body'], ' ...', eth['url']))"
   ]
  },
  {
   "cell_type": "code",
   "execution_count": 8,
   "id": "sublime-lounge",
   "metadata": {
    "execution": {
     "iopub.execute_input": "2022-04-10T02:35:54.655825Z",
     "iopub.status.busy": "2022-04-10T02:35:54.655335Z",
     "iopub.status.idle": "2022-04-10T02:35:54.658751Z",
     "shell.execute_reply": "2022-04-10T02:35:54.659145Z"
    },
    "papermill": {
     "duration": 0.018688,
     "end_time": "2022-04-10T02:35:54.659251",
     "exception": false,
     "start_time": "2022-04-10T02:35:54.640563",
     "status": "completed"
    },
    "tags": []
   },
   "outputs": [
    {
     "data": {
      "text/markdown": [
       "- Derivatives Exchange Giant CME Group Adds 11 New Cryptocurrency Reference Rates.  Global markets company and Chicago-based derivatives exchange CME Group plans to launch 11 new reference rates tied to specific crypto assets. The reference rates and real-time indices bolstered by CF Benchmarks are typically leveraged by exchange-traded products and other investment vehicles. 11 Crypto Assets Get Reference Rate Treatment From CME Group and CF Benchmarks CME [&#8230;] ... [| Skaityti daugiau](https://news.bitcoin.com/derivatives-exchange-giant-cme-group-adds-11-new-cryptocurrency-reference-rates/) "
      ],
      "text/plain": [
       "<IPython.core.display.Markdown object>"
      ]
     },
     "execution_count": 8,
     "metadata": {},
     "output_type": "execute_result"
    }
   ],
   "source": [
    "#hide_input\n",
    "#md('##### {}'.format(titleBTC)) \n",
    "md(\"- {}{} {}{} [| Skaityti daugiau]({}) \".format(ada['title'],'. ', ada['body'], ' ...', ada['url']))"
   ]
  },
  {
   "cell_type": "code",
   "execution_count": 9,
   "id": "specified-ordering",
   "metadata": {
    "execution": {
     "iopub.execute_input": "2022-04-10T02:35:54.685807Z",
     "iopub.status.busy": "2022-04-10T02:35:54.685268Z",
     "iopub.status.idle": "2022-04-10T02:35:54.687254Z",
     "shell.execute_reply": "2022-04-10T02:35:54.687657Z"
    },
    "papermill": {
     "duration": 0.017257,
     "end_time": "2022-04-10T02:35:54.687759",
     "exception": false,
     "start_time": "2022-04-10T02:35:54.670502",
     "status": "completed"
    },
    "tags": []
   },
   "outputs": [
    {
     "data": {
      "text/markdown": [
       "- Derivatives Exchange Giant CME Group Adds 11 New Cryptocurrency Reference Rates.  Global markets company and Chicago-based derivatives exchange CME Group plans to launch 11 new reference rates tied to specific crypto assets. The reference rates and real-time indices bolstered by CF Benchmarks are typically leveraged by exchange-traded products and other investment vehicles. 11 Crypto Assets Get Reference Rate Treatment From CME Group and CF Benchmarks CME [&#8230;] ... [| Skaityti daugiau](https://news.bitcoin.com/derivatives-exchange-giant-cme-group-adds-11-new-cryptocurrency-reference-rates/) "
      ],
      "text/plain": [
       "<IPython.core.display.Markdown object>"
      ]
     },
     "execution_count": 9,
     "metadata": {},
     "output_type": "execute_result"
    }
   ],
   "source": [
    "#hide_input\n",
    "#md('##### {}'.format(titleBTC)) \n",
    "md(\"- {}{} {}{} [| Skaityti daugiau]({}) \".format(exchange['title'],'. ', exchange['body'], ' ...', exchange['url']))"
   ]
  },
  {
   "cell_type": "code",
   "execution_count": null,
   "id": "tender-livestock",
   "metadata": {
    "papermill": {
     "duration": 0.011547,
     "end_time": "2022-04-10T02:35:54.710976",
     "exception": false,
     "start_time": "2022-04-10T02:35:54.699429",
     "status": "completed"
    },
    "tags": []
   },
   "outputs": [],
   "source": []
  },
  {
   "cell_type": "code",
   "execution_count": null,
   "id": "appreciated-diamond",
   "metadata": {
    "papermill": {
     "duration": 0.011547,
     "end_time": "2022-04-10T02:35:54.734301",
     "exception": false,
     "start_time": "2022-04-10T02:35:54.722754",
     "status": "completed"
    },
    "tags": []
   },
   "outputs": [],
   "source": []
  },
  {
   "cell_type": "code",
   "execution_count": null,
   "id": "romance-sweden",
   "metadata": {
    "papermill": {
     "duration": 0.011566,
     "end_time": "2022-04-10T02:35:54.758221",
     "exception": false,
     "start_time": "2022-04-10T02:35:54.746655",
     "status": "completed"
    },
    "tags": []
   },
   "outputs": [],
   "source": []
  },
  {
   "cell_type": "code",
   "execution_count": null,
   "id": "dietary-statistics",
   "metadata": {
    "papermill": {
     "duration": 0.011482,
     "end_time": "2022-04-10T02:35:54.781257",
     "exception": false,
     "start_time": "2022-04-10T02:35:54.769775",
     "status": "completed"
    },
    "tags": []
   },
   "outputs": [],
   "source": []
  }
 ],
 "metadata": {
  "kernelspec": {
   "display_name": "Python 3",
   "language": "python",
   "name": "python3"
  },
  "language_info": {
   "codemirror_mode": {
    "name": "ipython",
    "version": 3
   },
   "file_extension": ".py",
   "mimetype": "text/x-python",
   "name": "python",
   "nbconvert_exporter": "python",
   "pygments_lexer": "ipython3",
   "version": "3.6.15"
  },
  "papermill": {
   "default_parameters": {},
   "duration": 13.082143,
   "end_time": "2022-04-10T02:35:55.108731",
   "environment_variables": {},
   "exception": null,
   "input_path": "Market-News.ipynb",
   "output_path": "Market-News.ipynb",
   "parameters": {},
   "start_time": "2022-04-10T02:35:42.026588",
   "version": "2.2.2"
  }
 },
 "nbformat": 4,
 "nbformat_minor": 5
}