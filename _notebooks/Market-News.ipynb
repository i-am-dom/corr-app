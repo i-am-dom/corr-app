{
 "cells": [
  {
   "cell_type": "markdown",
   "id": "short-greensboro",
   "metadata": {
    "papermill": {
     "duration": 0.013002,
     "end_time": "2021-11-22T02:00:19.945682",
     "exception": false,
     "start_time": "2021-11-22T02:00:19.932680",
     "status": "completed"
    },
    "tags": []
   },
   "source": [
    "# Kriptovaliutų naujienos"
   ]
  },
  {
   "cell_type": "code",
   "execution_count": 1,
   "id": "functioning-knowing",
   "metadata": {
    "execution": {
     "iopub.execute_input": "2021-11-22T02:00:19.974125Z",
     "iopub.status.busy": "2021-11-22T02:00:19.973543Z",
     "iopub.status.idle": "2021-11-22T02:00:21.418927Z",
     "shell.execute_reply": "2021-11-22T02:00:21.418397Z"
    },
    "papermill": {
     "duration": 1.462618,
     "end_time": "2021-11-22T02:00:21.419109",
     "exception": false,
     "start_time": "2021-11-22T02:00:19.956491",
     "status": "completed"
    },
    "tags": []
   },
   "outputs": [],
   "source": [
    "#hide_input\n",
    "import warnings\n",
    "warnings.filterwarnings('ignore')\n",
    "from scripts.read_data import read_api\n",
    "from scripts.read_data import read_news\n",
    "from scripts.read_data import read_covid\n",
    "import matplotlib.pyplot as plt \n",
    "from IPython.display import Markdown as md"
   ]
  },
  {
   "cell_type": "code",
   "execution_count": 2,
   "id": "shared-acceptance",
   "metadata": {
    "execution": {
     "iopub.execute_input": "2021-11-22T02:00:21.450207Z",
     "iopub.status.busy": "2021-11-22T02:00:21.449602Z",
     "iopub.status.idle": "2021-11-22T02:00:28.937513Z",
     "shell.execute_reply": "2021-11-22T02:00:28.936953Z"
    },
    "papermill": {
     "duration": 7.505478,
     "end_time": "2021-11-22T02:00:28.937637",
     "exception": false,
     "start_time": "2021-11-22T02:00:21.432159",
     "status": "completed"
    },
    "tags": []
   },
   "outputs": [],
   "source": [
    "#hide_input\n",
    "blockchain = read_news('blockchain') \n",
    "btc = read_news('btc') \n",
    "xrp = read_news('xrp') \n",
    "trx = read_news('trx') \n",
    "eth = read_news('eth')  \n",
    "ada = read_news('ada')\n",
    "exchange = read_news('exchange') "
   ]
  },
  {
   "cell_type": "code",
   "execution_count": 3,
   "id": "synthetic-notion",
   "metadata": {
    "execution": {
     "iopub.execute_input": "2021-11-22T02:00:28.963247Z",
     "iopub.status.busy": "2021-11-22T02:00:28.962725Z",
     "iopub.status.idle": "2021-11-22T02:00:28.967000Z",
     "shell.execute_reply": "2021-11-22T02:00:28.966589Z"
    },
    "papermill": {
     "duration": 0.019164,
     "end_time": "2021-11-22T02:00:28.967102",
     "exception": false,
     "start_time": "2021-11-22T02:00:28.947938",
     "status": "completed"
    },
    "tags": []
   },
   "outputs": [
    {
     "data": {
      "text/markdown": [
       "- Buterin lauds struggling yet biggest ETH L2 solution, Arbitrum’s efforts in the space.  Arbitrum, the Ethereum L2 rollup is one of the first optimistic commercial solutions. It lowers costs and speeds up transactions on the Ethereum mainnet. Over the years, Arbitrum has done an excellent job in scaling Ethereum. At press time, it is the biggest Layer 2 solution on the Ethereum network and its growth in just four [&#8230;] ... [| Skaityti daugiau](https://ambcrypto.com/buterin-lauds-struggling-yet-biggest-eth-l2-solution-arbitrums-efforts-in-the-space/) "
      ],
      "text/plain": [
       "<IPython.core.display.Markdown object>"
      ]
     },
     "execution_count": 3,
     "metadata": {},
     "output_type": "execute_result"
    }
   ],
   "source": [
    "#hide_input\n",
    "#md('##### {}'.format(titleBTC)) \n",
    "md(\"- {}{} {}{} [| Skaityti daugiau]({}) \".format(blockchain['title'],'. ', blockchain['body'], ' ...', blockchain['url']))"
   ]
  },
  {
   "cell_type": "code",
   "execution_count": 4,
   "id": "aging-caution",
   "metadata": {
    "execution": {
     "iopub.execute_input": "2021-11-22T02:00:28.991945Z",
     "iopub.status.busy": "2021-11-22T02:00:28.991326Z",
     "iopub.status.idle": "2021-11-22T02:00:28.997699Z",
     "shell.execute_reply": "2021-11-22T02:00:28.997195Z"
    },
    "papermill": {
     "duration": 0.021183,
     "end_time": "2021-11-22T02:00:28.997829",
     "exception": false,
     "start_time": "2021-11-22T02:00:28.976646",
     "status": "completed"
    },
    "tags": []
   },
   "outputs": [
    {
     "data": {
      "text/markdown": [
       "- Why Bitcoin Is Generational Wealth.  Bitcoin truly enables people to plan for the future well beyond their own life, a luxury and necessity many throughout history did not have. ... [| Skaityti daugiau](https://bitcoinmagazine.com/culture/why-bitcoin-is-generational-wealth) "
      ],
      "text/plain": [
       "<IPython.core.display.Markdown object>"
      ]
     },
     "execution_count": 4,
     "metadata": {},
     "output_type": "execute_result"
    }
   ],
   "source": [
    "#hide_input\n",
    "#md('##### {}'.format(titleBTC)) \n",
    "md(\"- {}{} {}{} [| Skaityti daugiau]({}) \".format(btc['title'],'. ', btc['body'], ' ...', btc['url']))"
   ]
  },
  {
   "cell_type": "code",
   "execution_count": 5,
   "id": "organic-actress",
   "metadata": {
    "execution": {
     "iopub.execute_input": "2021-11-22T02:00:29.023294Z",
     "iopub.status.busy": "2021-11-22T02:00:29.022742Z",
     "iopub.status.idle": "2021-11-22T02:00:29.026293Z",
     "shell.execute_reply": "2021-11-22T02:00:29.025789Z"
    },
    "papermill": {
     "duration": 0.01792,
     "end_time": "2021-11-22T02:00:29.026402",
     "exception": false,
     "start_time": "2021-11-22T02:00:29.008482",
     "status": "completed"
    },
    "tags": []
   },
   "outputs": [
    {
     "data": {
      "text/markdown": [
       "- XRP Relisent! Ripple’s Development Keeps Bears at Bay.  The post XRP Relisent! Ripple&#8217;s Development Keeps Bears at Bay appeared first on Coinpedia - Fintech &amp; Cryptocurreny News Media| Crypto GuideWhile the crypto market is still dwindling around the same levels from the past 2 days, it is hard to know if the market will have a good close this weekend. BTC is still struggling to cross $60K. However, ETH has been holding up well above $4,300. Talking of altcoins, XRP despite constant battle against &#8230; ... [| Skaityti daugiau](https://coinpedia.org/ripple/xrp-relisent-ripples-development-keeps-bears-at-bay/) "
      ],
      "text/plain": [
       "<IPython.core.display.Markdown object>"
      ]
     },
     "execution_count": 5,
     "metadata": {},
     "output_type": "execute_result"
    }
   ],
   "source": [
    "#hide_input\n",
    "#md('##### {}'.format(titleBTC)) \n",
    "md(\"- {}{} {}{} [| Skaityti daugiau]({}) \".format(xrp['title'],'. ', xrp['body'], ' ...', xrp['url']))"
   ]
  },
  {
   "cell_type": "code",
   "execution_count": 6,
   "id": "prompt-farmer",
   "metadata": {
    "execution": {
     "iopub.execute_input": "2021-11-22T02:00:29.053363Z",
     "iopub.status.busy": "2021-11-22T02:00:29.052793Z",
     "iopub.status.idle": "2021-11-22T02:00:29.055921Z",
     "shell.execute_reply": "2021-11-22T02:00:29.056422Z"
    },
    "papermill": {
     "duration": 0.018978,
     "end_time": "2021-11-22T02:00:29.056547",
     "exception": false,
     "start_time": "2021-11-22T02:00:29.037569",
     "status": "completed"
    },
    "tags": []
   },
   "outputs": [
    {
     "data": {
      "text/markdown": [
       "- Why Tron is all set for a week of bullish action.  Tron is set for a bullish week after its price bounced back from a bottom sloping trendline which functioned as support. After overcoming a near-term hurdle present at the 20-SMA (red), TRX would need to overcome some key swing highs to set a fresh local high at the 78.6% Fibonacci level. At the time of [&#8230;] ... [| Skaityti daugiau](https://ambcrypto.com/why-tron-is-all-set-for-a-week-of-bullish-trades/) "
      ],
      "text/plain": [
       "<IPython.core.display.Markdown object>"
      ]
     },
     "execution_count": 6,
     "metadata": {},
     "output_type": "execute_result"
    }
   ],
   "source": [
    "#hide_input\n",
    "#md('##### {}'.format(titleBTC)) \n",
    "md(\"- {}{} {}{} [| Skaityti daugiau]({}) \".format(trx['title'],'. ', trx['body'], ' ...', trx['url']))"
   ]
  },
  {
   "cell_type": "code",
   "execution_count": 7,
   "id": "illegal-greece",
   "metadata": {
    "execution": {
     "iopub.execute_input": "2021-11-22T02:00:29.089730Z",
     "iopub.status.busy": "2021-11-22T02:00:29.088825Z",
     "iopub.status.idle": "2021-11-22T02:00:29.092731Z",
     "shell.execute_reply": "2021-11-22T02:00:29.092094Z"
    },
    "papermill": {
     "duration": 0.021799,
     "end_time": "2021-11-22T02:00:29.092851",
     "exception": false,
     "start_time": "2021-11-22T02:00:29.071052",
     "status": "completed"
    },
    "tags": []
   },
   "outputs": [
    {
     "data": {
      "text/markdown": [
       "- Ethereum’s Problems are Hindering its Leadership in the Defi Ecosystem, Experts Say.  Everybody loves Ethereum, but this love may not last long. These 3 experts explain why the DeFi crew is moving to other blockchains. ... [| Skaityti daugiau](https://cryptopotato.com/ethereum-problems-hinder-its-leadership-defi-world-experts-say/) "
      ],
      "text/plain": [
       "<IPython.core.display.Markdown object>"
      ]
     },
     "execution_count": 7,
     "metadata": {},
     "output_type": "execute_result"
    }
   ],
   "source": [
    "#hide_input\n",
    "#md('##### {}'.format(titleBTC)) \n",
    "md(\"- {}{} {}{} [| Skaityti daugiau]({}) \".format(eth['title'],'. ', eth['body'], ' ...', eth['url']))"
   ]
  },
  {
   "cell_type": "code",
   "execution_count": 8,
   "id": "sublime-lounge",
   "metadata": {
    "execution": {
     "iopub.execute_input": "2021-11-22T02:00:29.123311Z",
     "iopub.status.busy": "2021-11-22T02:00:29.122267Z",
     "iopub.status.idle": "2021-11-22T02:00:29.126582Z",
     "shell.execute_reply": "2021-11-22T02:00:29.127239Z"
    },
    "papermill": {
     "duration": 0.021448,
     "end_time": "2021-11-22T02:00:29.127397",
     "exception": false,
     "start_time": "2021-11-22T02:00:29.105949",
     "status": "completed"
    },
    "tags": []
   },
   "outputs": [
    {
     "data": {
      "text/markdown": [
       "- Will Cardano Loose It’s Title Of Ethereum Killer? What’s Next For ADA Price.  The post Will Cardano Loose It&#8217;s Title Of Ethereum Killer? What&#8217;s Next For ADA Price appeared first on Coinpedia - Fintech &amp; Cryptocurreny News Media| Crypto GuideA bearish trend may be seen in the Cardano price analysis. The coin has been trending lower for the past two weeks, but the bulls have attempted a recovery in the previous two days. Today, however, bears are once again driving the price function, as a price fall has been noticed. Cardano price fell steadily &#8230; ... [| Skaityti daugiau](https://coinpedia.org/altcoin/will-cardano-loose-its-title-of-ethereum-killer-whats-next-for-ada-price/) "
      ],
      "text/plain": [
       "<IPython.core.display.Markdown object>"
      ]
     },
     "execution_count": 8,
     "metadata": {},
     "output_type": "execute_result"
    }
   ],
   "source": [
    "#hide_input\n",
    "#md('##### {}'.format(titleBTC)) \n",
    "md(\"- {}{} {}{} [| Skaityti daugiau]({}) \".format(ada['title'],'. ', ada['body'], ' ...', ada['url']))"
   ]
  },
  {
   "cell_type": "code",
   "execution_count": 9,
   "id": "specified-ordering",
   "metadata": {
    "execution": {
     "iopub.execute_input": "2021-11-22T02:00:29.157584Z",
     "iopub.status.busy": "2021-11-22T02:00:29.156656Z",
     "iopub.status.idle": "2021-11-22T02:00:29.160882Z",
     "shell.execute_reply": "2021-11-22T02:00:29.161420Z"
    },
    "papermill": {
     "duration": 0.020432,
     "end_time": "2021-11-22T02:00:29.161554",
     "exception": false,
     "start_time": "2021-11-22T02:00:29.141122",
     "status": "completed"
    },
    "tags": []
   },
   "outputs": [
    {
     "data": {
      "text/markdown": [
       "- BNBMatrix: All You Need to Know Earning Profits with Yield Farming.  BNBMatrix.io is a smart contract-based Dapp built on the Binance Smart Chain that allows users to invest in cryptocurrencies. It went live 15 days ago and has already passed the 6200 BNB mark, with the number of BNBs still increasing at the time of writing. The objective is to get the most out of the [&#8230;] ... [| Skaityti daugiau](https://bitcoinist.com/bnbmatrix-all-you-need-to-know-earning-profits-with-yield-farming/?utm_source=rss&utm_medium=rss&utm_campaign=bnbmatrix-all-you-need-to-know-earning-profits-with-yield-farming) "
      ],
      "text/plain": [
       "<IPython.core.display.Markdown object>"
      ]
     },
     "execution_count": 9,
     "metadata": {},
     "output_type": "execute_result"
    }
   ],
   "source": [
    "#hide_input\n",
    "#md('##### {}'.format(titleBTC)) \n",
    "md(\"- {}{} {}{} [| Skaityti daugiau]({}) \".format(exchange['title'],'. ', exchange['body'], ' ...', exchange['url']))"
   ]
  },
  {
   "cell_type": "code",
   "execution_count": null,
   "id": "tender-livestock",
   "metadata": {
    "papermill": {
     "duration": 0.013385,
     "end_time": "2021-11-22T02:00:29.187628",
     "exception": false,
     "start_time": "2021-11-22T02:00:29.174243",
     "status": "completed"
    },
    "tags": []
   },
   "outputs": [],
   "source": []
  },
  {
   "cell_type": "code",
   "execution_count": null,
   "id": "appreciated-diamond",
   "metadata": {
    "papermill": {
     "duration": 0.014177,
     "end_time": "2021-11-22T02:00:29.215618",
     "exception": false,
     "start_time": "2021-11-22T02:00:29.201441",
     "status": "completed"
    },
    "tags": []
   },
   "outputs": [],
   "source": []
  },
  {
   "cell_type": "code",
   "execution_count": null,
   "id": "romance-sweden",
   "metadata": {
    "papermill": {
     "duration": 0.013061,
     "end_time": "2021-11-22T02:00:29.241668",
     "exception": false,
     "start_time": "2021-11-22T02:00:29.228607",
     "status": "completed"
    },
    "tags": []
   },
   "outputs": [],
   "source": []
  },
  {
   "cell_type": "code",
   "execution_count": null,
   "id": "dietary-statistics",
   "metadata": {
    "papermill": {
     "duration": 0.012504,
     "end_time": "2021-11-22T02:00:29.267647",
     "exception": false,
     "start_time": "2021-11-22T02:00:29.255143",
     "status": "completed"
    },
    "tags": []
   },
   "outputs": [],
   "source": []
  }
 ],
 "metadata": {
  "kernelspec": {
   "display_name": "Python 3",
   "language": "python",
   "name": "python3"
  },
  "language_info": {
   "codemirror_mode": {
    "name": "ipython",
    "version": 3
   },
   "file_extension": ".py",
   "mimetype": "text/x-python",
   "name": "python",
   "nbconvert_exporter": "python",
   "pygments_lexer": "ipython3",
   "version": "3.6.15"
  },
  "papermill": {
   "default_parameters": {},
   "duration": 10.936032,
   "end_time": "2021-11-22T02:00:29.688748",
   "environment_variables": {},
   "exception": null,
   "input_path": "Market-News.ipynb",
   "output_path": "Market-News.ipynb",
   "parameters": {},
   "start_time": "2021-11-22T02:00:18.752716",
   "version": "2.2.2"
  }
 },
 "nbformat": 4,
 "nbformat_minor": 5
}