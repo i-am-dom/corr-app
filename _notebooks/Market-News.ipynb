{
 "cells": [
  {
   "cell_type": "markdown",
   "id": "short-greensboro",
   "metadata": {
    "papermill": {
     "duration": 0.014037,
     "end_time": "2021-07-31T01:58:30.518330",
     "exception": false,
     "start_time": "2021-07-31T01:58:30.504293",
     "status": "completed"
    },
    "tags": []
   },
   "source": [
    "# Kriptovaliutų naujienos"
   ]
  },
  {
   "cell_type": "code",
   "execution_count": 1,
   "id": "functioning-knowing",
   "metadata": {
    "execution": {
     "iopub.execute_input": "2021-07-31T01:58:30.548272Z",
     "iopub.status.busy": "2021-07-31T01:58:30.547678Z",
     "iopub.status.idle": "2021-07-31T01:58:31.751638Z",
     "shell.execute_reply": "2021-07-31T01:58:31.751063Z"
    },
    "papermill": {
     "duration": 1.223771,
     "end_time": "2021-07-31T01:58:31.751795",
     "exception": false,
     "start_time": "2021-07-31T01:58:30.528024",
     "status": "completed"
    },
    "tags": []
   },
   "outputs": [],
   "source": [
    "#hide_input\n",
    "import warnings\n",
    "warnings.filterwarnings('ignore')\n",
    "from scripts.read_data import read_api\n",
    "from scripts.read_data import read_news\n",
    "from scripts.read_data import read_covid\n",
    "import matplotlib.pyplot as plt \n",
    "from IPython.display import Markdown as md"
   ]
  },
  {
   "cell_type": "code",
   "execution_count": 2,
   "id": "shared-acceptance",
   "metadata": {
    "execution": {
     "iopub.execute_input": "2021-07-31T01:58:31.777443Z",
     "iopub.status.busy": "2021-07-31T01:58:31.776547Z",
     "iopub.status.idle": "2021-07-31T01:58:39.700387Z",
     "shell.execute_reply": "2021-07-31T01:58:39.700809Z"
    },
    "papermill": {
     "duration": 7.93888,
     "end_time": "2021-07-31T01:58:39.700956",
     "exception": false,
     "start_time": "2021-07-31T01:58:31.762076",
     "status": "completed"
    },
    "tags": []
   },
   "outputs": [],
   "source": [
    "#hide_input\n",
    "blockchain = read_news('blockchain') \n",
    "btc = read_news('btc') \n",
    "xrp = read_news('xrp') \n",
    "trx = read_news('trx') \n",
    "eth = read_news('eth')  \n",
    "ada = read_news('ada')\n",
    "exchange = read_news('exchange') "
   ]
  },
  {
   "cell_type": "code",
   "execution_count": 3,
   "id": "synthetic-notion",
   "metadata": {
    "execution": {
     "iopub.execute_input": "2021-07-31T01:58:39.725068Z",
     "iopub.status.busy": "2021-07-31T01:58:39.724542Z",
     "iopub.status.idle": "2021-07-31T01:58:39.728680Z",
     "shell.execute_reply": "2021-07-31T01:58:39.728264Z"
    },
    "papermill": {
     "duration": 0.018571,
     "end_time": "2021-07-31T01:58:39.728788",
     "exception": false,
     "start_time": "2021-07-31T01:58:39.710217",
     "status": "completed"
    },
    "tags": []
   },
   "outputs": [
    {
     "data": {
      "text/markdown": [
       "- The Joys and Hardships of Building a Web 3.0 Social Dapp Platform.  Written by: Alex Siman, founder of Subsocial – a Polkadot-based decentralized social network platform I’ll start with answering a question: why do we need decentralized social decentralized applications (dapps) in the first place? Well, the way we communicate has changed greatly since 2004-2006, when Facebook, YouTube, Twitter, and the other Web 2.0 social networks were […] ... [| Skaityti daugiau](https://www.cryptoglobe.com/latest/2021/07/the-joys-and-hardships-of-building-a-web-3-0-social-dapp-platform/) "
      ],
      "text/plain": [
       "<IPython.core.display.Markdown object>"
      ]
     },
     "execution_count": 3,
     "metadata": {},
     "output_type": "execute_result"
    }
   ],
   "source": [
    "#hide_input\n",
    "#md('##### {}'.format(titleBTC)) \n",
    "md(\"- {}{} {}{} [| Skaityti daugiau]({}) \".format(blockchain['title'],'. ', blockchain['body'], ' ...', blockchain['url']))"
   ]
  },
  {
   "cell_type": "code",
   "execution_count": 4,
   "id": "aging-caution",
   "metadata": {
    "execution": {
     "iopub.execute_input": "2021-07-31T01:58:39.752351Z",
     "iopub.status.busy": "2021-07-31T01:58:39.751846Z",
     "iopub.status.idle": "2021-07-31T01:58:39.754696Z",
     "shell.execute_reply": "2021-07-31T01:58:39.754297Z"
    },
    "papermill": {
     "duration": 0.016713,
     "end_time": "2021-07-31T01:58:39.754801",
     "exception": false,
     "start_time": "2021-07-31T01:58:39.738088",
     "status": "completed"
    },
    "tags": []
   },
   "outputs": [
    {
     "data": {
      "text/markdown": [
       "- Bitcoin (BTC) Shoots $42,000 As $45 Billion Asset Manager GoldenTree Starts Buying.  Institutional inflows in Bitcoin (BTC) continue to grow at a faster rate. Just two days after banking giant State Street announced its crypto services, another $40+ billion asset manager GoldenTree has announced its investment in the world&#8217;s largest cryptocurrency. As a result, the Bitcoin (BTC) price is up 5% today shooting all the way to The post Bitcoin (BTC) Shoots $42,000 As $45 Billion Asset Manager GoldenTree Starts Buying appeared first on Coingape. ... [| Skaityti daugiau](https://coingape.com/bitcoin-btc-shoots-42000-45-billion-asset-manager-goldentree-starts-buying/) "
      ],
      "text/plain": [
       "<IPython.core.display.Markdown object>"
      ]
     },
     "execution_count": 4,
     "metadata": {},
     "output_type": "execute_result"
    }
   ],
   "source": [
    "#hide_input\n",
    "#md('##### {}'.format(titleBTC)) \n",
    "md(\"- {}{} {}{} [| Skaityti daugiau]({}) \".format(btc['title'],'. ', btc['body'], ' ...', btc['url']))"
   ]
  },
  {
   "cell_type": "code",
   "execution_count": 5,
   "id": "organic-actress",
   "metadata": {
    "execution": {
     "iopub.execute_input": "2021-07-31T01:58:39.778764Z",
     "iopub.status.busy": "2021-07-31T01:58:39.778268Z",
     "iopub.status.idle": "2021-07-31T01:58:39.781245Z",
     "shell.execute_reply": "2021-07-31T01:58:39.780844Z"
    },
    "papermill": {
     "duration": 0.017012,
     "end_time": "2021-07-31T01:58:39.781345",
     "exception": false,
     "start_time": "2021-07-31T01:58:39.764333",
     "status": "completed"
    },
    "tags": []
   },
   "outputs": [
    {
     "data": {
      "text/markdown": [
       "- XRP: How and when to long this bullish pattern.  Disclaimer: The findings of the following analysis are the sole opinions of the writer and should not be taken as investment advice Battered and bruised throughout July, XRP has finally enjoyed a strong bull run of late. Its weekly gains of 22% were the highest among the top 10 coins by market cap and there is [&#8230;] ... [| Skaityti daugiau](https://ambcrypto.com/xrp-how-and-when-to-long-this-bullish-pattern/) "
      ],
      "text/plain": [
       "<IPython.core.display.Markdown object>"
      ]
     },
     "execution_count": 5,
     "metadata": {},
     "output_type": "execute_result"
    }
   ],
   "source": [
    "#hide_input\n",
    "#md('##### {}'.format(titleBTC)) \n",
    "md(\"- {}{} {}{} [| Skaityti daugiau]({}) \".format(xrp['title'],'. ', xrp['body'], ' ...', xrp['url']))"
   ]
  },
  {
   "cell_type": "code",
   "execution_count": 6,
   "id": "prompt-farmer",
   "metadata": {
    "execution": {
     "iopub.execute_input": "2021-07-31T01:58:39.805587Z",
     "iopub.status.busy": "2021-07-31T01:58:39.805096Z",
     "iopub.status.idle": "2021-07-31T01:58:39.808276Z",
     "shell.execute_reply": "2021-07-31T01:58:39.807855Z"
    },
    "papermill": {
     "duration": 0.017228,
     "end_time": "2021-07-31T01:58:39.808374",
     "exception": false,
     "start_time": "2021-07-31T01:58:39.791146",
     "status": "completed"
    },
    "tags": []
   },
   "outputs": [
    {
     "data": {
      "text/markdown": [
       "- Tron (TRX) Transactions Soar To All Time High, Will Prices Follow?.  Tron (TRX) has now broken a new transactions record. The team took to their official Twitter account to share this news with the world. Per the tweet, the number of daily transactions had reached 9,298,611 on July 28th. More transactions daily than have ever been carried out in a 24-hour period. 🎉The number of daily [&#8230;] ... [| Skaityti daugiau](https://bitcoinist.com/tron-trx-transactions-soar-to-all-time-high-will-prices-follow/?utm_source=rss&utm_medium=rss&utm_campaign=tron-trx-transactions-soar-to-all-time-high-will-prices-follow) "
      ],
      "text/plain": [
       "<IPython.core.display.Markdown object>"
      ]
     },
     "execution_count": 6,
     "metadata": {},
     "output_type": "execute_result"
    }
   ],
   "source": [
    "#hide_input\n",
    "#md('##### {}'.format(titleBTC)) \n",
    "md(\"- {}{} {}{} [| Skaityti daugiau]({}) \".format(trx['title'],'. ', trx['body'], ' ...', trx['url']))"
   ]
  },
  {
   "cell_type": "code",
   "execution_count": 7,
   "id": "illegal-greece",
   "metadata": {
    "execution": {
     "iopub.execute_input": "2021-07-31T01:58:39.833307Z",
     "iopub.status.busy": "2021-07-31T01:58:39.832819Z",
     "iopub.status.idle": "2021-07-31T01:58:39.835757Z",
     "shell.execute_reply": "2021-07-31T01:58:39.835332Z"
    },
    "papermill": {
     "duration": 0.01693,
     "end_time": "2021-07-31T01:58:39.835855",
     "exception": false,
     "start_time": "2021-07-31T01:58:39.818925",
     "status": "completed"
    },
    "tags": []
   },
   "outputs": [
    {
     "data": {
      "text/markdown": [
       "- Who’s the Ethereum Whale Buying Up All the CryptoPunk NFTs?.  A single buyer purchased over 1% of the CryptoPunk NFT supply on Friday, spending over $6 million. And it's still buying. ... [| Skaityti daugiau](https://decrypt.co/77350/who-ethereum-whale-buying-cryptopunks-nfts) "
      ],
      "text/plain": [
       "<IPython.core.display.Markdown object>"
      ]
     },
     "execution_count": 7,
     "metadata": {},
     "output_type": "execute_result"
    }
   ],
   "source": [
    "#hide_input\n",
    "#md('##### {}'.format(titleBTC)) \n",
    "md(\"- {}{} {}{} [| Skaityti daugiau]({}) \".format(eth['title'],'. ', eth['body'], ' ...', eth['url']))"
   ]
  },
  {
   "cell_type": "code",
   "execution_count": 8,
   "id": "sublime-lounge",
   "metadata": {
    "execution": {
     "iopub.execute_input": "2021-07-31T01:58:39.861638Z",
     "iopub.status.busy": "2021-07-31T01:58:39.861149Z",
     "iopub.status.idle": "2021-07-31T01:58:39.864361Z",
     "shell.execute_reply": "2021-07-31T01:58:39.863964Z"
    },
    "papermill": {
     "duration": 0.018083,
     "end_time": "2021-07-31T01:58:39.864463",
     "exception": false,
     "start_time": "2021-07-31T01:58:39.846380",
     "status": "completed"
    },
    "tags": []
   },
   "outputs": [
    {
     "data": {
      "text/markdown": [
       "- Why Chainlink investors need to know this before rage-selling.  Over the past few months, the hype around several altcoins has taken a new direction. Polygon and Solana, for instance, have retained high levels of traffic while Cardano has emerged as a major altcoin in recent months. Chainlink had a similar story in 2020, but over the course of 2021, the asset has become more [&#8230;] ... [| Skaityti daugiau](https://ambcrypto.com/why-chainlink-investors-need-to-know-this-before-rage-selling/) "
      ],
      "text/plain": [
       "<IPython.core.display.Markdown object>"
      ]
     },
     "execution_count": 8,
     "metadata": {},
     "output_type": "execute_result"
    }
   ],
   "source": [
    "#hide_input\n",
    "#md('##### {}'.format(titleBTC)) \n",
    "md(\"- {}{} {}{} [| Skaityti daugiau]({}) \".format(ada['title'],'. ', ada['body'], ' ...', ada['url']))"
   ]
  },
  {
   "cell_type": "code",
   "execution_count": 9,
   "id": "specified-ordering",
   "metadata": {
    "execution": {
     "iopub.execute_input": "2021-07-31T01:58:39.890409Z",
     "iopub.status.busy": "2021-07-31T01:58:39.889914Z",
     "iopub.status.idle": "2021-07-31T01:58:39.892663Z",
     "shell.execute_reply": "2021-07-31T01:58:39.893134Z"
    },
    "papermill": {
     "duration": 0.018021,
     "end_time": "2021-07-31T01:58:39.893246",
     "exception": false,
     "start_time": "2021-07-31T01:58:39.875225",
     "status": "completed"
    },
    "tags": []
   },
   "outputs": [
    {
     "data": {
      "text/markdown": [
       "- Malay Regulators Pile Pressure On Binance, As It Pulls Euro Futures And Derivatives.  Malaysia&#8217;s Securities Commission has ordered crypto exchange Binance to stop operating in the country. The regulator demands Binance take down its website and mobile apps, stops all marketing activities, and restricts Malaysian investors from its Telegram group. Recently, the firm has made a number of significant changes to its platform. This includes reducing leverage to [&#8230;] ... [| Skaityti daugiau](https://bitcoinist.com/malay-regulators-pile-pressure-on-binance-as-it-pulls-euro-futures-and-derivatives/?utm_source=rss&utm_medium=rss&utm_campaign=malay-regulators-pile-pressure-on-binance-as-it-pulls-euro-futures-and-derivatives) "
      ],
      "text/plain": [
       "<IPython.core.display.Markdown object>"
      ]
     },
     "execution_count": 9,
     "metadata": {},
     "output_type": "execute_result"
    }
   ],
   "source": [
    "#hide_input\n",
    "#md('##### {}'.format(titleBTC)) \n",
    "md(\"- {}{} {}{} [| Skaityti daugiau]({}) \".format(exchange['title'],'. ', exchange['body'], ' ...', exchange['url']))"
   ]
  },
  {
   "cell_type": "code",
   "execution_count": null,
   "id": "tender-livestock",
   "metadata": {
    "papermill": {
     "duration": 0.011057,
     "end_time": "2021-07-31T01:58:39.915381",
     "exception": false,
     "start_time": "2021-07-31T01:58:39.904324",
     "status": "completed"
    },
    "tags": []
   },
   "outputs": [],
   "source": []
  },
  {
   "cell_type": "code",
   "execution_count": null,
   "id": "appreciated-diamond",
   "metadata": {
    "papermill": {
     "duration": 0.011008,
     "end_time": "2021-07-31T01:58:39.937583",
     "exception": false,
     "start_time": "2021-07-31T01:58:39.926575",
     "status": "completed"
    },
    "tags": []
   },
   "outputs": [],
   "source": []
  },
  {
   "cell_type": "code",
   "execution_count": null,
   "id": "romance-sweden",
   "metadata": {
    "papermill": {
     "duration": 0.011028,
     "end_time": "2021-07-31T01:58:39.959766",
     "exception": false,
     "start_time": "2021-07-31T01:58:39.948738",
     "status": "completed"
    },
    "tags": []
   },
   "outputs": [],
   "source": []
  },
  {
   "cell_type": "code",
   "execution_count": null,
   "id": "dietary-statistics",
   "metadata": {
    "papermill": {
     "duration": 0.011019,
     "end_time": "2021-07-31T01:58:39.981932",
     "exception": false,
     "start_time": "2021-07-31T01:58:39.970913",
     "status": "completed"
    },
    "tags": []
   },
   "outputs": [],
   "source": []
  }
 ],
 "metadata": {
  "kernelspec": {
   "display_name": "Python 3",
   "language": "python",
   "name": "python3"
  },
  "language_info": {
   "codemirror_mode": {
    "name": "ipython",
    "version": 3
   },
   "file_extension": ".py",
   "mimetype": "text/x-python",
   "name": "python",
   "nbconvert_exporter": "python",
   "pygments_lexer": "ipython3",
   "version": "3.6.14"
  },
  "papermill": {
   "default_parameters": {},
   "duration": 10.963624,
   "end_time": "2021-07-31T01:58:40.501791",
   "environment_variables": {},
   "exception": null,
   "input_path": "Market-News.ipynb",
   "output_path": "Market-News.ipynb",
   "parameters": {},
   "start_time": "2021-07-31T01:58:29.538167",
   "version": "2.2.2"
  }
 },
 "nbformat": 4,
 "nbformat_minor": 5
}