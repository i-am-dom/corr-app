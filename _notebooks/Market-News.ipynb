{
 "cells": [
  {
   "cell_type": "markdown",
   "id": "short-greensboro",
   "metadata": {
    "papermill": {
     "duration": 0.022575,
     "end_time": "2021-08-07T01:54:16.996895",
     "exception": false,
     "start_time": "2021-08-07T01:54:16.974320",
     "status": "completed"
    },
    "tags": []
   },
   "source": [
    "# Kriptovaliutų naujienos"
   ]
  },
  {
   "cell_type": "code",
   "execution_count": 1,
   "id": "functioning-knowing",
   "metadata": {
    "execution": {
     "iopub.execute_input": "2021-08-07T01:54:17.034349Z",
     "iopub.status.busy": "2021-08-07T01:54:17.033688Z",
     "iopub.status.idle": "2021-08-07T01:54:18.428131Z",
     "shell.execute_reply": "2021-08-07T01:54:18.427593Z"
    },
    "papermill": {
     "duration": 1.416465,
     "end_time": "2021-08-07T01:54:18.428284",
     "exception": false,
     "start_time": "2021-08-07T01:54:17.011819",
     "status": "completed"
    },
    "tags": []
   },
   "outputs": [],
   "source": [
    "#hide_input\n",
    "import warnings\n",
    "warnings.filterwarnings('ignore')\n",
    "from scripts.read_data import read_api\n",
    "from scripts.read_data import read_news\n",
    "from scripts.read_data import read_covid\n",
    "import matplotlib.pyplot as plt \n",
    "from IPython.display import Markdown as md"
   ]
  },
  {
   "cell_type": "code",
   "execution_count": 2,
   "id": "shared-acceptance",
   "metadata": {
    "execution": {
     "iopub.execute_input": "2021-08-07T01:54:18.466424Z",
     "iopub.status.busy": "2021-08-07T01:54:18.465475Z",
     "iopub.status.idle": "2021-08-07T01:54:26.464913Z",
     "shell.execute_reply": "2021-08-07T01:54:26.465475Z"
    },
    "papermill": {
     "duration": 8.026344,
     "end_time": "2021-08-07T01:54:26.465683",
     "exception": false,
     "start_time": "2021-08-07T01:54:18.439339",
     "status": "completed"
    },
    "tags": []
   },
   "outputs": [],
   "source": [
    "#hide_input\n",
    "blockchain = read_news('blockchain') \n",
    "btc = read_news('btc') \n",
    "xrp = read_news('xrp') \n",
    "trx = read_news('trx') \n",
    "eth = read_news('eth')  \n",
    "ada = read_news('ada')\n",
    "exchange = read_news('exchange') "
   ]
  },
  {
   "cell_type": "code",
   "execution_count": 3,
   "id": "synthetic-notion",
   "metadata": {
    "execution": {
     "iopub.execute_input": "2021-08-07T01:54:26.504449Z",
     "iopub.status.busy": "2021-08-07T01:54:26.503823Z",
     "iopub.status.idle": "2021-08-07T01:54:26.508832Z",
     "shell.execute_reply": "2021-08-07T01:54:26.508246Z"
    },
    "papermill": {
     "duration": 0.025064,
     "end_time": "2021-08-07T01:54:26.508968",
     "exception": false,
     "start_time": "2021-08-07T01:54:26.483904",
     "status": "completed"
    },
    "tags": []
   },
   "outputs": [
    {
     "data": {
      "text/markdown": [
       "- NuGenesis Network Full Review (Part 2).  The blockchain ecosystem, that is taking the world of technology by storm We are living in a world of rapid change and innovation. Everything around us is changing at an exponential rate and it is shifting the world from one idea to another, not simply to engage and impress people, but to encourage them to [&#8230;]The post NuGenesis Network Full Review (Part 2) appeared first on NullTX. ... [| Skaityti daugiau](https://nulltx.com/nugenesis-network-full-review-part-2/) "
      ],
      "text/plain": [
       "<IPython.core.display.Markdown object>"
      ]
     },
     "execution_count": 3,
     "metadata": {},
     "output_type": "execute_result"
    }
   ],
   "source": [
    "#hide_input\n",
    "#md('##### {}'.format(titleBTC)) \n",
    "md(\"- {}{} {}{} [| Skaityti daugiau]({}) \".format(blockchain['title'],'. ', blockchain['body'], ' ...', blockchain['url']))"
   ]
  },
  {
   "cell_type": "code",
   "execution_count": 4,
   "id": "aging-caution",
   "metadata": {
    "execution": {
     "iopub.execute_input": "2021-08-07T01:54:26.546395Z",
     "iopub.status.busy": "2021-08-07T01:54:26.545699Z",
     "iopub.status.idle": "2021-08-07T01:54:26.548569Z",
     "shell.execute_reply": "2021-08-07T01:54:26.549116Z"
    },
    "papermill": {
     "duration": 0.02845,
     "end_time": "2021-08-07T01:54:26.549265",
     "exception": false,
     "start_time": "2021-08-07T01:54:26.520815",
     "status": "completed"
    },
    "tags": []
   },
   "outputs": [
    {
     "data": {
      "text/markdown": [
       "- Ethereum ‘May Flip’ Bitcoin’s Market Cap in Long Term, Says Crypto CEO.  The CEO of cryptocurrency analytics firm CryptoQuant has revealed he believes Ethereum Improvement Proposal (EIP) 1559 will “be a game-changer” and could help Ethereum overtake Bitcoin’s market capitalization in the long term. EIP 1559 will see Ethereum reform its fee market with two key changes: one will replace the current gas limit with two values: one […] ... [| Skaityti daugiau](https://www.cryptoglobe.com/latest/2021/08/ethereum-may-flip-bitcoins-market-cap-in-long-term-says-crypto-ceo/) "
      ],
      "text/plain": [
       "<IPython.core.display.Markdown object>"
      ]
     },
     "execution_count": 4,
     "metadata": {},
     "output_type": "execute_result"
    }
   ],
   "source": [
    "#hide_input\n",
    "#md('##### {}'.format(titleBTC)) \n",
    "md(\"- {}{} {}{} [| Skaityti daugiau]({}) \".format(btc['title'],'. ', btc['body'], ' ...', btc['url']))"
   ]
  },
  {
   "cell_type": "code",
   "execution_count": 5,
   "id": "organic-actress",
   "metadata": {
    "execution": {
     "iopub.execute_input": "2021-08-07T01:54:26.578966Z",
     "iopub.status.busy": "2021-08-07T01:54:26.578359Z",
     "iopub.status.idle": "2021-08-07T01:54:26.583383Z",
     "shell.execute_reply": "2021-08-07T01:54:26.582877Z"
    },
    "papermill": {
     "duration": 0.022005,
     "end_time": "2021-08-07T01:54:26.583572",
     "exception": false,
     "start_time": "2021-08-07T01:54:26.561567",
     "status": "completed"
    },
    "tags": []
   },
   "outputs": [
    {
     "data": {
      "text/markdown": [
       "- XRP traders would do well to follow this safe strategy.  Disclaimer: The findings of the following analysis are the sole opinions of the writer and should not be taken as investment advice XRP failed to capitalize on its 28 July jump as bullish momentum fizzled out across the market. Despite positive broader market cues, the altcoin noted a downtick in value and was heading towards its [&#8230;] ... [| Skaityti daugiau](https://ambcrypto.com/xrp-traders-would-do-well-to-follow-this-safe-strategy/) "
      ],
      "text/plain": [
       "<IPython.core.display.Markdown object>"
      ]
     },
     "execution_count": 5,
     "metadata": {},
     "output_type": "execute_result"
    }
   ],
   "source": [
    "#hide_input\n",
    "#md('##### {}'.format(titleBTC)) \n",
    "md(\"- {}{} {}{} [| Skaityti daugiau]({}) \".format(xrp['title'],'. ', xrp['body'], ' ...', xrp['url']))"
   ]
  },
  {
   "cell_type": "code",
   "execution_count": 6,
   "id": "prompt-farmer",
   "metadata": {
    "execution": {
     "iopub.execute_input": "2021-08-07T01:54:26.620862Z",
     "iopub.status.busy": "2021-08-07T01:54:26.620157Z",
     "iopub.status.idle": "2021-08-07T01:54:26.624422Z",
     "shell.execute_reply": "2021-08-07T01:54:26.624886Z"
    },
    "papermill": {
     "duration": 0.026636,
     "end_time": "2021-08-07T01:54:26.625034",
     "exception": false,
     "start_time": "2021-08-07T01:54:26.598398",
     "status": "completed"
    },
    "tags": []
   },
   "outputs": [
    {
     "data": {
      "text/markdown": [
       "- TRON, IOTA, SUSHI Price Analysis: 06 August.  After Ethereum&#8217;s price closed above $2,800 following the London hard fork, other alts saw gains over the last 24 hours. The likes of TRX and IOTA hopped above their immediate resistance levels, while SUSHI registered a hike of 8.2%. TRON [TRX] TRX, at press time, showed a bullish streak. Its price stood at $0.070 after [&#8230;] ... [| Skaityti daugiau](https://ambcrypto.com/tron-iota-sushi-price-analysis-06-august/) "
      ],
      "text/plain": [
       "<IPython.core.display.Markdown object>"
      ]
     },
     "execution_count": 6,
     "metadata": {},
     "output_type": "execute_result"
    }
   ],
   "source": [
    "#hide_input\n",
    "#md('##### {}'.format(titleBTC)) \n",
    "md(\"- {}{} {}{} [| Skaityti daugiau]({}) \".format(trx['title'],'. ', trx['body'], ' ...', trx['url']))"
   ]
  },
  {
   "cell_type": "code",
   "execution_count": 7,
   "id": "illegal-greece",
   "metadata": {
    "execution": {
     "iopub.execute_input": "2021-08-07T01:54:26.660010Z",
     "iopub.status.busy": "2021-08-07T01:54:26.659413Z",
     "iopub.status.idle": "2021-08-07T01:54:26.662875Z",
     "shell.execute_reply": "2021-08-07T01:54:26.662373Z"
    },
    "papermill": {
     "duration": 0.022183,
     "end_time": "2021-08-07T01:54:26.662999",
     "exception": false,
     "start_time": "2021-08-07T01:54:26.640816",
     "status": "completed"
    },
    "tags": []
   },
   "outputs": [
    {
     "data": {
      "text/markdown": [
       "- Analyst on Ethereum: ‘This gives it an upside projection of $20,000’.  Is Ethereum the greatest trade in the world? The second-largest cryptocurrency by market cap, Ethereum, has been the topic of discussion following its latest hard fork. The much-anticipated upgrade pushed ETH past the $2.7k mark with daily gains of 4% and weekly gains of 15%. Founder and CEO of Real Vision Raoul Pal is the [&#8230;] ... [| Skaityti daugiau](https://ambcrypto.com/analyst-on-ethereum-this-would-give-it-an-upside-projection-of-20000/) "
      ],
      "text/plain": [
       "<IPython.core.display.Markdown object>"
      ]
     },
     "execution_count": 7,
     "metadata": {},
     "output_type": "execute_result"
    }
   ],
   "source": [
    "#hide_input\n",
    "#md('##### {}'.format(titleBTC)) \n",
    "md(\"- {}{} {}{} [| Skaityti daugiau]({}) \".format(eth['title'],'. ', eth['body'], ' ...', eth['url']))"
   ]
  },
  {
   "cell_type": "code",
   "execution_count": 8,
   "id": "sublime-lounge",
   "metadata": {
    "execution": {
     "iopub.execute_input": "2021-08-07T01:54:26.694077Z",
     "iopub.status.busy": "2021-08-07T01:54:26.693399Z",
     "iopub.status.idle": "2021-08-07T01:54:26.695900Z",
     "shell.execute_reply": "2021-08-07T01:54:26.696409Z"
    },
    "papermill": {
     "duration": 0.02109,
     "end_time": "2021-08-07T01:54:26.696556",
     "exception": false,
     "start_time": "2021-08-07T01:54:26.675466",
     "status": "completed"
    },
    "tags": []
   },
   "outputs": [
    {
     "data": {
      "text/markdown": [
       "- Here’s What Bitcoin, Ethereum, Cardano and Polkadot Investors Should Watch for Next, According to Analyst Michaël van de Poppe.  Popular crypto analyst Michaël van de Poppe is outlining key support levels for Bitcoin (BTC), Ethereum (ETH), Cardano (ADA) and Polkadot (DOT). In a new video, van de Poppe says that at this point, $36,000 is an acceptable level for Bitcoin to drop to – but the price for the top crypto should not dip [&#8230;]The post Here&#8217;s What Bitcoin, Ethereum, Cardano and Polkadot Investors Should Watch for Next, According to Analyst Michaël van de Poppe appeared first on The Daily Hodl. ... [| Skaityti daugiau](https://dailyhodl.com/2021/08/06/heres-what-bitcoin-ethereum-cardano-and-polkadot-investors-should-watch-for-next-according-to-analyst-michael-van-de-poppe/) "
      ],
      "text/plain": [
       "<IPython.core.display.Markdown object>"
      ]
     },
     "execution_count": 8,
     "metadata": {},
     "output_type": "execute_result"
    }
   ],
   "source": [
    "#hide_input\n",
    "#md('##### {}'.format(titleBTC)) \n",
    "md(\"- {}{} {}{} [| Skaityti daugiau]({}) \".format(ada['title'],'. ', ada['body'], ' ...', ada['url']))"
   ]
  },
  {
   "cell_type": "code",
   "execution_count": 9,
   "id": "specified-ordering",
   "metadata": {
    "execution": {
     "iopub.execute_input": "2021-08-07T01:54:26.729212Z",
     "iopub.status.busy": "2021-08-07T01:54:26.728617Z",
     "iopub.status.idle": "2021-08-07T01:54:26.731012Z",
     "shell.execute_reply": "2021-08-07T01:54:26.731768Z"
    },
    "papermill": {
     "duration": 0.022274,
     "end_time": "2021-08-07T01:54:26.731927",
     "exception": false,
     "start_time": "2021-08-07T01:54:26.709653",
     "status": "completed"
    },
    "tags": []
   },
   "outputs": [
    {
     "data": {
      "text/markdown": [
       "- Brian Brooks Leaves Binance US, Citing ‘Differences’ With the Board —Just As The Head of Binance Brazil Did 3 Weeks Ago.  Brian Brooks says goodbye to Binance US after 3 months working as its CEO. Ricardo da Ros did the same thing 3 weeks ago with Binance Brazil. ... [| Skaityti daugiau](https://cryptopotato.com/brian-brooks-leaves-binance-us-ceo/) "
      ],
      "text/plain": [
       "<IPython.core.display.Markdown object>"
      ]
     },
     "execution_count": 9,
     "metadata": {},
     "output_type": "execute_result"
    }
   ],
   "source": [
    "#hide_input\n",
    "#md('##### {}'.format(titleBTC)) \n",
    "md(\"- {}{} {}{} [| Skaityti daugiau]({}) \".format(exchange['title'],'. ', exchange['body'], ' ...', exchange['url']))"
   ]
  },
  {
   "cell_type": "code",
   "execution_count": null,
   "id": "tender-livestock",
   "metadata": {
    "papermill": {
     "duration": 0.0132,
     "end_time": "2021-08-07T01:54:26.758780",
     "exception": false,
     "start_time": "2021-08-07T01:54:26.745580",
     "status": "completed"
    },
    "tags": []
   },
   "outputs": [],
   "source": []
  },
  {
   "cell_type": "code",
   "execution_count": null,
   "id": "appreciated-diamond",
   "metadata": {
    "papermill": {
     "duration": 0.014086,
     "end_time": "2021-08-07T01:54:26.786688",
     "exception": false,
     "start_time": "2021-08-07T01:54:26.772602",
     "status": "completed"
    },
    "tags": []
   },
   "outputs": [],
   "source": []
  },
  {
   "cell_type": "code",
   "execution_count": null,
   "id": "romance-sweden",
   "metadata": {
    "papermill": {
     "duration": 0.014087,
     "end_time": "2021-08-07T01:54:26.814499",
     "exception": false,
     "start_time": "2021-08-07T01:54:26.800412",
     "status": "completed"
    },
    "tags": []
   },
   "outputs": [],
   "source": []
  },
  {
   "cell_type": "code",
   "execution_count": null,
   "id": "dietary-statistics",
   "metadata": {
    "papermill": {
     "duration": 0.014349,
     "end_time": "2021-08-07T01:54:26.844373",
     "exception": false,
     "start_time": "2021-08-07T01:54:26.830024",
     "status": "completed"
    },
    "tags": []
   },
   "outputs": [],
   "source": []
  }
 ],
 "metadata": {
  "kernelspec": {
   "display_name": "Python 3",
   "language": "python",
   "name": "python3"
  },
  "language_info": {
   "codemirror_mode": {
    "name": "ipython",
    "version": 3
   },
   "file_extension": ".py",
   "mimetype": "text/x-python",
   "name": "python",
   "nbconvert_exporter": "python",
   "pygments_lexer": "ipython3",
   "version": "3.6.14"
  },
  "papermill": {
   "default_parameters": {},
   "duration": 12.331314,
   "end_time": "2021-08-07T01:54:28.140529",
   "environment_variables": {},
   "exception": null,
   "input_path": "Market-News.ipynb",
   "output_path": "Market-News.ipynb",
   "parameters": {},
   "start_time": "2021-08-07T01:54:15.809215",
   "version": "2.2.2"
  }
 },
 "nbformat": 4,
 "nbformat_minor": 5
}