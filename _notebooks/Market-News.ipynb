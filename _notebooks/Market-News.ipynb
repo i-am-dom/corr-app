{
 "cells": [
  {
   "cell_type": "markdown",
   "id": "short-greensboro",
   "metadata": {
    "papermill": {
     "duration": 0.014186,
     "end_time": "2022-03-02T02:15:13.658375",
     "exception": false,
     "start_time": "2022-03-02T02:15:13.644189",
     "status": "completed"
    },
    "tags": []
   },
   "source": [
    "# Kriptovaliutų naujienos"
   ]
  },
  {
   "cell_type": "code",
   "execution_count": 1,
   "id": "functioning-knowing",
   "metadata": {
    "execution": {
     "iopub.execute_input": "2022-03-02T02:15:13.687401Z",
     "iopub.status.busy": "2022-03-02T02:15:13.686862Z",
     "iopub.status.idle": "2022-03-02T02:15:14.942377Z",
     "shell.execute_reply": "2022-03-02T02:15:14.941814Z"
    },
    "papermill": {
     "duration": 1.274298,
     "end_time": "2022-03-02T02:15:14.942541",
     "exception": false,
     "start_time": "2022-03-02T02:15:13.668243",
     "status": "completed"
    },
    "tags": []
   },
   "outputs": [],
   "source": [
    "#hide_input\n",
    "import warnings\n",
    "warnings.filterwarnings('ignore')\n",
    "from scripts.read_data import read_api\n",
    "from scripts.read_data import read_news\n",
    "from scripts.read_data import read_covid\n",
    "import matplotlib.pyplot as plt \n",
    "from IPython.display import Markdown as md"
   ]
  },
  {
   "cell_type": "code",
   "execution_count": 2,
   "id": "shared-acceptance",
   "metadata": {
    "execution": {
     "iopub.execute_input": "2022-03-02T02:15:14.967433Z",
     "iopub.status.busy": "2022-03-02T02:15:14.966923Z",
     "iopub.status.idle": "2022-03-02T02:15:25.482755Z",
     "shell.execute_reply": "2022-03-02T02:15:25.483235Z"
    },
    "papermill": {
     "duration": 10.531062,
     "end_time": "2022-03-02T02:15:25.483404",
     "exception": false,
     "start_time": "2022-03-02T02:15:14.952342",
     "status": "completed"
    },
    "tags": []
   },
   "outputs": [],
   "source": [
    "#hide_input\n",
    "blockchain = read_news('blockchain') \n",
    "btc = read_news('btc') \n",
    "xrp = read_news('xrp') \n",
    "trx = read_news('trx') \n",
    "eth = read_news('eth')  \n",
    "ada = read_news('ada')\n",
    "exchange = read_news('exchange') "
   ]
  },
  {
   "cell_type": "code",
   "execution_count": 3,
   "id": "synthetic-notion",
   "metadata": {
    "execution": {
     "iopub.execute_input": "2022-03-02T02:15:25.508662Z",
     "iopub.status.busy": "2022-03-02T02:15:25.508131Z",
     "iopub.status.idle": "2022-03-02T02:15:25.510459Z",
     "shell.execute_reply": "2022-03-02T02:15:25.510861Z"
    },
    "papermill": {
     "duration": 0.017364,
     "end_time": "2022-03-02T02:15:25.510976",
     "exception": false,
     "start_time": "2022-03-02T02:15:25.493612",
     "status": "completed"
    },
    "tags": []
   },
   "outputs": [
    {
     "data": {
      "text/markdown": [
       "- Uniswap ($UNI) Simplifies Giving Tokens to Ukraine, Polkadot Founder Donates $5.7 Million in $DOT.  Leading decentralized exchange Uniswap ($UN) has created an interface that allows users to easily swap ERC-20 tokens on the Ethereum blockchain and donate them to the Ukrainian government in one single transaction. The Ukrainian government announced late last month it was accepting cryptocurrency donations as it faces a Russian invasion on several fronts. According to […] ... [| Skaityti daugiau](https://www.cryptoglobe.com/latest/2022/03/uniswap-uni-simplifies-giving-tokens-to-ukraine-polkadot-founder-donates-5-7-million-in-dot/) "
      ],
      "text/plain": [
       "<IPython.core.display.Markdown object>"
      ]
     },
     "execution_count": 3,
     "metadata": {},
     "output_type": "execute_result"
    }
   ],
   "source": [
    "#hide_input\n",
    "#md('##### {}'.format(titleBTC)) \n",
    "md(\"- {}{} {}{} [| Skaityti daugiau]({}) \".format(blockchain['title'],'. ', blockchain['body'], ' ...', blockchain['url']))"
   ]
  },
  {
   "cell_type": "code",
   "execution_count": 4,
   "id": "aging-caution",
   "metadata": {
    "execution": {
     "iopub.execute_input": "2022-03-02T02:15:25.534447Z",
     "iopub.status.busy": "2022-03-02T02:15:25.533851Z",
     "iopub.status.idle": "2022-03-02T02:15:25.536013Z",
     "shell.execute_reply": "2022-03-02T02:15:25.536474Z"
    },
    "papermill": {
     "duration": 0.016178,
     "end_time": "2022-03-02T02:15:25.536597",
     "exception": false,
     "start_time": "2022-03-02T02:15:25.520419",
     "status": "completed"
    },
    "tags": []
   },
   "outputs": [
    {
     "data": {
      "text/markdown": [
       "- Ukraine Turns To Crypto: Factors Behind The Trend.  Ukrainian citizens are fleeing to crypto as a result of the ongoing Russo-Ukrainian war, or what The Washington Post called &#8220;the world&#8217;s first crypto war&#8221;. There is nothing more expensive than war. In terms of money, it can lead economies to crumble; and in terms of humanity, it can open deep cracks in history. As [&#8230;] ... [| Skaityti daugiau](https://bitcoinist.com/ukraine-turns-to-crypto-factors-behind-the-trend/) "
      ],
      "text/plain": [
       "<IPython.core.display.Markdown object>"
      ]
     },
     "execution_count": 4,
     "metadata": {},
     "output_type": "execute_result"
    }
   ],
   "source": [
    "#hide_input\n",
    "#md('##### {}'.format(titleBTC)) \n",
    "md(\"- {}{} {}{} [| Skaityti daugiau]({}) \".format(btc['title'],'. ', btc['body'], ' ...', btc['url']))"
   ]
  },
  {
   "cell_type": "code",
   "execution_count": 5,
   "id": "organic-actress",
   "metadata": {
    "execution": {
     "iopub.execute_input": "2022-03-02T02:15:25.559221Z",
     "iopub.status.busy": "2022-03-02T02:15:25.557982Z",
     "iopub.status.idle": "2022-03-02T02:15:25.563024Z",
     "shell.execute_reply": "2022-03-02T02:15:25.562618Z"
    },
    "papermill": {
     "duration": 0.016601,
     "end_time": "2022-03-02T02:15:25.563122",
     "exception": false,
     "start_time": "2022-03-02T02:15:25.546521",
     "status": "completed"
    },
    "tags": []
   },
   "outputs": [
    {
     "data": {
      "text/markdown": [
       "- Facing global sanctions, do cryptocurrencies present a way out for Russia.  As the war in Ukraine rages on, an interesting phenomenon that has emerged is the role cryptocurrencies can play during a global crisis of this scale, and the ways in which it can be utilized by both sides to either circumvent financial measures against them or rally international economic support. Russia to foray into crypto? [&#8230;] ... [| Skaityti daugiau](https://ambcrypto.com/facing-global-sanctions-do-cryptocurrencies-present-a-way-out-for-russia/) "
      ],
      "text/plain": [
       "<IPython.core.display.Markdown object>"
      ]
     },
     "execution_count": 5,
     "metadata": {},
     "output_type": "execute_result"
    }
   ],
   "source": [
    "#hide_input\n",
    "#md('##### {}'.format(titleBTC)) \n",
    "md(\"- {}{} {}{} [| Skaityti daugiau]({}) \".format(xrp['title'],'. ', xrp['body'], ' ...', xrp['url']))"
   ]
  },
  {
   "cell_type": "code",
   "execution_count": 6,
   "id": "prompt-farmer",
   "metadata": {
    "execution": {
     "iopub.execute_input": "2022-03-02T02:15:25.587301Z",
     "iopub.status.busy": "2022-03-02T02:15:25.586799Z",
     "iopub.status.idle": "2022-03-02T02:15:25.590007Z",
     "shell.execute_reply": "2022-03-02T02:15:25.589603Z"
    },
    "papermill": {
     "duration": 0.016985,
     "end_time": "2022-03-02T02:15:25.590103",
     "exception": false,
     "start_time": "2022-03-02T02:15:25.573118",
     "status": "completed"
    },
    "tags": []
   },
   "outputs": [
    {
     "data": {
      "text/markdown": [
       "- Ukrainian Government Received Total $1,227,807 USDT on TRON.  Mykhailo Fedorov also tweeted a Tron address for USDT contributions. Tron Founder Justin Sun urged that Ukraine adopt TRX inThe post has appeared first on thenewscrypto.com ... [| Skaityti daugiau](https://thenewscrypto.com/ukrainian-government-received-total-1227807-usdt-on-tron/) "
      ],
      "text/plain": [
       "<IPython.core.display.Markdown object>"
      ]
     },
     "execution_count": 6,
     "metadata": {},
     "output_type": "execute_result"
    }
   ],
   "source": [
    "#hide_input\n",
    "#md('##### {}'.format(titleBTC)) \n",
    "md(\"- {}{} {}{} [| Skaityti daugiau]({}) \".format(trx['title'],'. ', trx['body'], ' ...', trx['url']))"
   ]
  },
  {
   "cell_type": "code",
   "execution_count": 7,
   "id": "illegal-greece",
   "metadata": {
    "execution": {
     "iopub.execute_input": "2022-03-02T02:15:25.615072Z",
     "iopub.status.busy": "2022-03-02T02:15:25.614569Z",
     "iopub.status.idle": "2022-03-02T02:15:25.617746Z",
     "shell.execute_reply": "2022-03-02T02:15:25.617334Z"
    },
    "papermill": {
     "duration": 0.017312,
     "end_time": "2022-03-02T02:15:25.617845",
     "exception": false,
     "start_time": "2022-03-02T02:15:25.600533",
     "status": "completed"
    },
    "tags": []
   },
   "outputs": [
    {
     "data": {
      "text/markdown": [
       "- Uniswap ($UNI) Simplifies Giving Tokens to Ukraine, Polkadot Founder Donates $5.7 Million in $DOT.  Leading decentralized exchange Uniswap ($UN) has created an interface that allows users to easily swap ERC-20 tokens on the Ethereum blockchain and donate them to the Ukrainian government in one single transaction. The Ukrainian government announced late last month it was accepting cryptocurrency donations as it faces a Russian invasion on several fronts. According to […] ... [| Skaityti daugiau](https://www.cryptoglobe.com/latest/2022/03/uniswap-uni-simplifies-giving-tokens-to-ukraine-polkadot-founder-donates-5-7-million-in-dot/) "
      ],
      "text/plain": [
       "<IPython.core.display.Markdown object>"
      ]
     },
     "execution_count": 7,
     "metadata": {},
     "output_type": "execute_result"
    }
   ],
   "source": [
    "#hide_input\n",
    "#md('##### {}'.format(titleBTC)) \n",
    "md(\"- {}{} {}{} [| Skaityti daugiau]({}) \".format(eth['title'],'. ', eth['body'], ' ...', eth['url']))"
   ]
  },
  {
   "cell_type": "code",
   "execution_count": 8,
   "id": "sublime-lounge",
   "metadata": {
    "execution": {
     "iopub.execute_input": "2022-03-02T02:15:25.643444Z",
     "iopub.status.busy": "2022-03-02T02:15:25.642943Z",
     "iopub.status.idle": "2022-03-02T02:15:25.646113Z",
     "shell.execute_reply": "2022-03-02T02:15:25.645689Z"
    },
    "papermill": {
     "duration": 0.017768,
     "end_time": "2022-03-02T02:15:25.646208",
     "exception": false,
     "start_time": "2022-03-02T02:15:25.628440",
     "status": "completed"
    },
    "tags": []
   },
   "outputs": [
    {
     "data": {
      "text/markdown": [
       "- Here’s What Cardano Will Roll Out With New Upgrade As ADA Price Soars 12%.  Cardano follows the general sentiment in the market as it records a 4.2% profit in the last 24 hours. The price of ADA trades north of $0.96 with a 12.6% profit in the last 7 days. Cardano seems to benefit from an overall increase of demand across digital assets and potential mitigation of macro-economic headwinds for risks-on assets. In addition, the network seems to be steadily moving towards new improvements. Related Reading &#124; Cardano Inventor Front-Ran SundaeSwap Users? Research Casts Light Per a recent update from Input Output Hong Kong (IOHK), the company behind Cardano’s development, the network recently saw the implementation of the first of 3 major updates. IOHK claims the core network was upgraded and was introduced to “powerful improvements and enhancements”. The company has been preparing to introduce these changes on the network, according to Tim Harrison, Marketing and Communications Director at IOHK, after the successful implementation of smart contract capabilities. IOHK added: This February release is part of a broader plan of core Cardano optimizations and enhancements being delivered in 2022. These include key elements of our scaling plan like pipelining, significant performance improvements to Plutus, Hydra and input endorsers. Additionally, the company confirmed the deployment of complementary products and architecture, such as light wallets and UTXO on-disk storage, a dApp store, and a certification ... ... [| Skaityti daugiau](https://www.newsbtc.com/news/cardano/heres-what-cardano-will-roll-out-with-new-upgrade-as-ada-price-soars-12/) "
      ],
      "text/plain": [
       "<IPython.core.display.Markdown object>"
      ]
     },
     "execution_count": 8,
     "metadata": {},
     "output_type": "execute_result"
    }
   ],
   "source": [
    "#hide_input\n",
    "#md('##### {}'.format(titleBTC)) \n",
    "md(\"- {}{} {}{} [| Skaityti daugiau]({}) \".format(ada['title'],'. ', ada['body'], ' ...', ada['url']))"
   ]
  },
  {
   "cell_type": "code",
   "execution_count": 9,
   "id": "specified-ordering",
   "metadata": {
    "execution": {
     "iopub.execute_input": "2022-03-02T02:15:25.672129Z",
     "iopub.status.busy": "2022-03-02T02:15:25.671187Z",
     "iopub.status.idle": "2022-03-02T02:15:25.674491Z",
     "shell.execute_reply": "2022-03-02T02:15:25.674925Z"
    },
    "papermill": {
     "duration": 0.017871,
     "end_time": "2022-03-02T02:15:25.675032",
     "exception": false,
     "start_time": "2022-03-02T02:15:25.657161",
     "status": "completed"
    },
    "tags": []
   },
   "outputs": [
    {
     "data": {
      "text/markdown": [
       "- Uniswap ($UNI) Simplifies Giving Tokens to Ukraine, Polkadot Founder Donates $5.7 Million in $DOT.  Leading decentralized exchange Uniswap ($UN) has created an interface that allows users to easily swap ERC-20 tokens on the Ethereum blockchain and donate them to the Ukrainian government in one single transaction. The Ukrainian government announced late last month it was accepting cryptocurrency donations as it faces a Russian invasion on several fronts. According to […] ... [| Skaityti daugiau](https://www.cryptoglobe.com/latest/2022/03/uniswap-uni-simplifies-giving-tokens-to-ukraine-polkadot-founder-donates-5-7-million-in-dot/) "
      ],
      "text/plain": [
       "<IPython.core.display.Markdown object>"
      ]
     },
     "execution_count": 9,
     "metadata": {},
     "output_type": "execute_result"
    }
   ],
   "source": [
    "#hide_input\n",
    "#md('##### {}'.format(titleBTC)) \n",
    "md(\"- {}{} {}{} [| Skaityti daugiau]({}) \".format(exchange['title'],'. ', exchange['body'], ' ...', exchange['url']))"
   ]
  },
  {
   "cell_type": "code",
   "execution_count": null,
   "id": "tender-livestock",
   "metadata": {
    "papermill": {
     "duration": 0.011675,
     "end_time": "2022-03-02T02:15:25.698015",
     "exception": false,
     "start_time": "2022-03-02T02:15:25.686340",
     "status": "completed"
    },
    "tags": []
   },
   "outputs": [],
   "source": []
  },
  {
   "cell_type": "code",
   "execution_count": null,
   "id": "appreciated-diamond",
   "metadata": {
    "papermill": {
     "duration": 0.011512,
     "end_time": "2022-03-02T02:15:25.721606",
     "exception": false,
     "start_time": "2022-03-02T02:15:25.710094",
     "status": "completed"
    },
    "tags": []
   },
   "outputs": [],
   "source": []
  },
  {
   "cell_type": "code",
   "execution_count": null,
   "id": "romance-sweden",
   "metadata": {
    "papermill": {
     "duration": 0.011212,
     "end_time": "2022-03-02T02:15:25.745204",
     "exception": false,
     "start_time": "2022-03-02T02:15:25.733992",
     "status": "completed"
    },
    "tags": []
   },
   "outputs": [],
   "source": []
  },
  {
   "cell_type": "code",
   "execution_count": null,
   "id": "dietary-statistics",
   "metadata": {
    "papermill": {
     "duration": 0.011187,
     "end_time": "2022-03-02T02:15:25.767600",
     "exception": false,
     "start_time": "2022-03-02T02:15:25.756413",
     "status": "completed"
    },
    "tags": []
   },
   "outputs": [],
   "source": []
  }
 ],
 "metadata": {
  "kernelspec": {
   "display_name": "Python 3",
   "language": "python",
   "name": "python3"
  },
  "language_info": {
   "codemirror_mode": {
    "name": "ipython",
    "version": 3
   },
   "file_extension": ".py",
   "mimetype": "text/x-python",
   "name": "python",
   "nbconvert_exporter": "python",
   "pygments_lexer": "ipython3",
   "version": "3.6.15"
  },
  "papermill": {
   "default_parameters": {},
   "duration": 13.464868,
   "end_time": "2022-03-02T02:15:26.196892",
   "environment_variables": {},
   "exception": null,
   "input_path": "Market-News.ipynb",
   "output_path": "Market-News.ipynb",
   "parameters": {},
   "start_time": "2022-03-02T02:15:12.732024",
   "version": "2.2.2"
  }
 },
 "nbformat": 4,
 "nbformat_minor": 5
}