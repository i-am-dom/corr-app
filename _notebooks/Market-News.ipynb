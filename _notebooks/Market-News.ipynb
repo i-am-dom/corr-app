{
 "cells": [
  {
   "cell_type": "markdown",
   "id": "short-greensboro",
   "metadata": {
    "papermill": {
     "duration": 0.021192,
     "end_time": "2022-05-30T03:12:44.227112",
     "exception": false,
     "start_time": "2022-05-30T03:12:44.205920",
     "status": "completed"
    },
    "tags": []
   },
   "source": [
    "# Kriptovaliutų naujienos"
   ]
  },
  {
   "cell_type": "code",
   "execution_count": 1,
   "id": "functioning-knowing",
   "metadata": {
    "execution": {
     "iopub.execute_input": "2022-05-30T03:12:44.266124Z",
     "iopub.status.busy": "2022-05-30T03:12:44.265190Z",
     "iopub.status.idle": "2022-05-30T03:12:45.920082Z",
     "shell.execute_reply": "2022-05-30T03:12:45.919370Z"
    },
    "papermill": {
     "duration": 1.68014,
     "end_time": "2022-05-30T03:12:45.920258",
     "exception": false,
     "start_time": "2022-05-30T03:12:44.240118",
     "status": "completed"
    },
    "tags": []
   },
   "outputs": [],
   "source": [
    "#hide_input\n",
    "import warnings\n",
    "warnings.filterwarnings('ignore')\n",
    "from scripts.read_data import read_api\n",
    "from scripts.read_data import read_news\n",
    "from scripts.read_data import read_covid\n",
    "import matplotlib.pyplot as plt \n",
    "from IPython.display import Markdown as md"
   ]
  },
  {
   "cell_type": "code",
   "execution_count": 2,
   "id": "shared-acceptance",
   "metadata": {
    "execution": {
     "iopub.execute_input": "2022-05-30T03:12:45.953731Z",
     "iopub.status.busy": "2022-05-30T03:12:45.952436Z",
     "iopub.status.idle": "2022-05-30T03:12:57.857610Z",
     "shell.execute_reply": "2022-05-30T03:12:57.856412Z"
    },
    "papermill": {
     "duration": 11.924801,
     "end_time": "2022-05-30T03:12:57.857769",
     "exception": false,
     "start_time": "2022-05-30T03:12:45.932968",
     "status": "completed"
    },
    "tags": []
   },
   "outputs": [],
   "source": [
    "#hide_input\n",
    "blockchain = read_news('blockchain') \n",
    "btc = read_news('btc') \n",
    "xrp = read_news('xrp') \n",
    "trx = read_news('trx') \n",
    "eth = read_news('eth')  \n",
    "ada = read_news('ada')\n",
    "exchange = read_news('exchange') "
   ]
  },
  {
   "cell_type": "code",
   "execution_count": 3,
   "id": "synthetic-notion",
   "metadata": {
    "execution": {
     "iopub.execute_input": "2022-05-30T03:12:57.892508Z",
     "iopub.status.busy": "2022-05-30T03:12:57.889318Z",
     "iopub.status.idle": "2022-05-30T03:12:57.897280Z",
     "shell.execute_reply": "2022-05-30T03:12:57.896566Z"
    },
    "papermill": {
     "duration": 0.026021,
     "end_time": "2022-05-30T03:12:57.897421",
     "exception": false,
     "start_time": "2022-05-30T03:12:57.871400",
     "status": "completed"
    },
    "tags": []
   },
   "outputs": [
    {
     "data": {
      "text/markdown": [
       "- Investors Can Now Transfer Their USDC From Ethereum to Cardano Blockchain.  Milkomeda and Iagon Token Bridge require that users hold at least four milkAda tokens. Token Bridge is currently in beta ... [| Skaityti daugiau](https://thenewscrypto.com/investors-can-now-transfer-their-usdc-from-ethereum-to-cardano-blockchain/) "
      ],
      "text/plain": [
       "<IPython.core.display.Markdown object>"
      ]
     },
     "execution_count": 3,
     "metadata": {},
     "output_type": "execute_result"
    }
   ],
   "source": [
    "#hide_input\n",
    "#md('##### {}'.format(titleBTC)) \n",
    "md(\"- {}{} {}{} [| Skaityti daugiau]({}) \".format(blockchain['title'],'. ', blockchain['body'], ' ...', blockchain['url']))"
   ]
  },
  {
   "cell_type": "code",
   "execution_count": 4,
   "id": "aging-caution",
   "metadata": {
    "execution": {
     "iopub.execute_input": "2022-05-30T03:12:57.932948Z",
     "iopub.status.busy": "2022-05-30T03:12:57.932154Z",
     "iopub.status.idle": "2022-05-30T03:12:57.936725Z",
     "shell.execute_reply": "2022-05-30T03:12:57.936089Z"
    },
    "papermill": {
     "duration": 0.025627,
     "end_time": "2022-05-30T03:12:57.936873",
     "exception": false,
     "start_time": "2022-05-30T03:12:57.911246",
     "status": "completed"
    },
    "tags": []
   },
   "outputs": [
    {
     "data": {
      "text/markdown": [
       "- TA: Bitcoin Clears $30K, Why This Could Mean Trend Change.  Bitcoin started a fresh increase and surpassed $30,000 against the US Dollar. BTC is showing positive signs and might rally further if it clears $30,600. Bitcoin is gaining pace above the $29,500 and $30,000 resistance levels. The price is now trading above the $29,500 level and the 100 hourly simple moving average. There was a break above a major bearish trend line with resistance near $29,200 on the hourly chart of the BTC/USD pair (data feed from Kraken). The pair could rise further if it clears the $30,600 resistance zone. Bitcoin Price Gains Pace Bitcoin price formed a fresh base above the key $28,500 support zone. It remained well bid and started a fresh increase above the $29,200 resistance zone. The price cleared the 50% Fib retracement level of the downward move from the $30,188 swing high to $27,505 low. Besides, there was a break above a major bearish trend line with resistance near $29,200 on the hourly chart of the BTC/USD pair. The pair is now trading above the $29,500 level and the 100 hourly simple moving average. Bitcoin is also trading above the 76.4% Fib retracement level of the downward move from the $30,188 swing high to $27,505 low. Source: BTCUSD on TradingView.com An immediate resistance on the upside is near the $30,250 level. The next major resistance is near the $30,600 level. A clear move above the $30,600 resistance level might call for a trend change. In the stated case, the price could even clear... ... [| Skaityti daugiau](https://www.newsbtc.com/analysis/btc/bitcoin-clears-30k-again/) "
      ],
      "text/plain": [
       "<IPython.core.display.Markdown object>"
      ]
     },
     "execution_count": 4,
     "metadata": {},
     "output_type": "execute_result"
    }
   ],
   "source": [
    "#hide_input\n",
    "#md('##### {}'.format(titleBTC)) \n",
    "md(\"- {}{} {}{} [| Skaityti daugiau]({}) \".format(btc['title'],'. ', btc['body'], ' ...', btc['url']))"
   ]
  },
  {
   "cell_type": "code",
   "execution_count": 5,
   "id": "organic-actress",
   "metadata": {
    "execution": {
     "iopub.execute_input": "2022-05-30T03:12:57.973047Z",
     "iopub.status.busy": "2022-05-30T03:12:57.972278Z",
     "iopub.status.idle": "2022-05-30T03:12:57.976929Z",
     "shell.execute_reply": "2022-05-30T03:12:57.976122Z"
    },
    "papermill": {
     "duration": 0.025535,
     "end_time": "2022-05-30T03:12:57.977073",
     "exception": false,
     "start_time": "2022-05-30T03:12:57.951538",
     "status": "completed"
    },
    "tags": []
   },
   "outputs": [
    {
     "data": {
      "text/markdown": [
       "- XRP: How investors can leverage these two outcomes to make profits.  Disclaimer: The findings of the following analysis are the sole opinions of the writer and should not be considered investment advice. With the 23.6% Fibonacci level shunning the recent buying efforts, XRP&#8217;s bearish pennant saw a down breakout on the daily timeframe. Now that it fell below its Point of Control (POC, red), the altcoin [&#8230;] ... [| Skaityti daugiau](https://ambcrypto.com/xrp-how-investors-can-leverage-these-two-outcomes-to-make-profits/) "
      ],
      "text/plain": [
       "<IPython.core.display.Markdown object>"
      ]
     },
     "execution_count": 5,
     "metadata": {},
     "output_type": "execute_result"
    }
   ],
   "source": [
    "#hide_input\n",
    "#md('##### {}'.format(titleBTC)) \n",
    "md(\"- {}{} {}{} [| Skaityti daugiau]({}) \".format(xrp['title'],'. ', xrp['body'], ' ...', xrp['url']))"
   ]
  },
  {
   "cell_type": "code",
   "execution_count": 6,
   "id": "prompt-farmer",
   "metadata": {
    "execution": {
     "iopub.execute_input": "2022-05-30T03:12:58.014863Z",
     "iopub.status.busy": "2022-05-30T03:12:58.013852Z",
     "iopub.status.idle": "2022-05-30T03:12:58.021366Z",
     "shell.execute_reply": "2022-05-30T03:12:58.022012Z"
    },
    "papermill": {
     "duration": 0.029541,
     "end_time": "2022-05-30T03:12:58.022216",
     "exception": false,
     "start_time": "2022-05-30T03:12:57.992675",
     "status": "completed"
    },
    "tags": []
   },
   "outputs": [
    {
     "data": {
      "text/markdown": [
       "- BTC, ETH, ADA, BNB, and TRX Price Analysis for May 29.  How great is the chance to see the bounceback of the market next week? ... [| Skaityti daugiau](https://u.today/btc-eth-ada-bnb-and-trx-price-analysis-for-may-29) "
      ],
      "text/plain": [
       "<IPython.core.display.Markdown object>"
      ]
     },
     "execution_count": 6,
     "metadata": {},
     "output_type": "execute_result"
    }
   ],
   "source": [
    "#hide_input\n",
    "#md('##### {}'.format(titleBTC)) \n",
    "md(\"- {}{} {}{} [| Skaityti daugiau]({}) \".format(trx['title'],'. ', trx['body'], ' ...', trx['url']))"
   ]
  },
  {
   "cell_type": "code",
   "execution_count": 7,
   "id": "illegal-greece",
   "metadata": {
    "execution": {
     "iopub.execute_input": "2022-05-30T03:12:58.063120Z",
     "iopub.status.busy": "2022-05-30T03:12:58.061016Z",
     "iopub.status.idle": "2022-05-30T03:12:58.066186Z",
     "shell.execute_reply": "2022-05-30T03:12:58.065496Z"
    },
    "papermill": {
     "duration": 0.027209,
     "end_time": "2022-05-30T03:12:58.066321",
     "exception": false,
     "start_time": "2022-05-30T03:12:58.039112",
     "status": "completed"
    },
    "tags": []
   },
   "outputs": [
    {
     "data": {
      "text/markdown": [
       "- Bitcoin, Ethereum, Polygon MATIC, and Bitcoin Cash Daily Price Analyses – 29 May Roundup.  The last 24 hours remained good for the global crypto market as the market cap value saw improvement and the trajectory of various coins. Bitcoin and Ethereum have remained satisfactory with the exclusion of a few. The overall market is in a good situation. If we compare the performance to the last two days, the... ... [| Skaityti daugiau](https://www.cryptopolitan.com/bitcoin-ethereum-polygon-matic-and-bitcoin-cash-daily-price-analyses-29-may-roundup/) "
      ],
      "text/plain": [
       "<IPython.core.display.Markdown object>"
      ]
     },
     "execution_count": 7,
     "metadata": {},
     "output_type": "execute_result"
    }
   ],
   "source": [
    "#hide_input\n",
    "#md('##### {}'.format(titleBTC)) \n",
    "md(\"- {}{} {}{} [| Skaityti daugiau]({}) \".format(eth['title'],'. ', eth['body'], ' ...', eth['url']))"
   ]
  },
  {
   "cell_type": "code",
   "execution_count": 8,
   "id": "sublime-lounge",
   "metadata": {
    "execution": {
     "iopub.execute_input": "2022-05-30T03:12:58.102674Z",
     "iopub.status.busy": "2022-05-30T03:12:58.101541Z",
     "iopub.status.idle": "2022-05-30T03:12:58.107902Z",
     "shell.execute_reply": "2022-05-30T03:12:58.109457Z"
    },
    "papermill": {
     "duration": 0.02758,
     "end_time": "2022-05-30T03:12:58.109678",
     "exception": false,
     "start_time": "2022-05-30T03:12:58.082098",
     "status": "completed"
    },
    "tags": []
   },
   "outputs": [
    {
     "data": {
      "text/markdown": [
       "- Investors Can Now Transfer Their USDC From Ethereum to Cardano Blockchain.  Milkomeda and Iagon Token Bridge require that users hold at least four milkAda tokens. Token Bridge is currently in beta ... [| Skaityti daugiau](https://thenewscrypto.com/investors-can-now-transfer-their-usdc-from-ethereum-to-cardano-blockchain/) "
      ],
      "text/plain": [
       "<IPython.core.display.Markdown object>"
      ]
     },
     "execution_count": 8,
     "metadata": {},
     "output_type": "execute_result"
    }
   ],
   "source": [
    "#hide_input\n",
    "#md('##### {}'.format(titleBTC)) \n",
    "md(\"- {}{} {}{} [| Skaityti daugiau]({}) \".format(ada['title'],'. ', ada['body'], ' ...', ada['url']))"
   ]
  },
  {
   "cell_type": "code",
   "execution_count": 9,
   "id": "specified-ordering",
   "metadata": {
    "execution": {
     "iopub.execute_input": "2022-05-30T03:12:58.149663Z",
     "iopub.status.busy": "2022-05-30T03:12:58.148727Z",
     "iopub.status.idle": "2022-05-30T03:12:58.156175Z",
     "shell.execute_reply": "2022-05-30T03:12:58.156913Z"
    },
    "papermill": {
     "duration": 0.031115,
     "end_time": "2022-05-30T03:12:58.157153",
     "exception": false,
     "start_time": "2022-05-30T03:12:58.126038",
     "status": "completed"
    },
    "tags": []
   },
   "outputs": [
    {
     "data": {
      "text/markdown": [
       "- Binance Obtains Regulatory Approval to Offer Crypto Products in Italy.  Crypto exchange Binance has received regulatory approval from Italy&#x2019;s financial regulator to operate as a cryptocurrency service provider in the country. &#x201C;Clear and effective regulation is essential for mainstream adoption of cryptocurrencies,&#x201D; said Binance CEO Changpeng Zhao. Binance Now Licensed in Italy Binance announced Friday that Binance Italy &#x201C;has received regulatory approval&#x201D; through registration as [&#8230;] ... [| Skaityti daugiau](https://news.bitcoin.com/binance-obtains-regulatory-approval-to-offer-crypto-products-in-italy/) "
      ],
      "text/plain": [
       "<IPython.core.display.Markdown object>"
      ]
     },
     "execution_count": 9,
     "metadata": {},
     "output_type": "execute_result"
    }
   ],
   "source": [
    "#hide_input\n",
    "#md('##### {}'.format(titleBTC)) \n",
    "md(\"- {}{} {}{} [| Skaityti daugiau]({}) \".format(exchange['title'],'. ', exchange['body'], ' ...', exchange['url']))"
   ]
  },
  {
   "cell_type": "code",
   "execution_count": null,
   "id": "tender-livestock",
   "metadata": {
    "papermill": {
     "duration": 0.016812,
     "end_time": "2022-05-30T03:12:58.189402",
     "exception": false,
     "start_time": "2022-05-30T03:12:58.172590",
     "status": "completed"
    },
    "tags": []
   },
   "outputs": [],
   "source": []
  },
  {
   "cell_type": "code",
   "execution_count": null,
   "id": "appreciated-diamond",
   "metadata": {
    "papermill": {
     "duration": 0.016051,
     "end_time": "2022-05-30T03:12:58.223267",
     "exception": false,
     "start_time": "2022-05-30T03:12:58.207216",
     "status": "completed"
    },
    "tags": []
   },
   "outputs": [],
   "source": []
  },
  {
   "cell_type": "code",
   "execution_count": null,
   "id": "romance-sweden",
   "metadata": {
    "papermill": {
     "duration": 0.016203,
     "end_time": "2022-05-30T03:12:58.256383",
     "exception": false,
     "start_time": "2022-05-30T03:12:58.240180",
     "status": "completed"
    },
    "tags": []
   },
   "outputs": [],
   "source": []
  },
  {
   "cell_type": "code",
   "execution_count": null,
   "id": "dietary-statistics",
   "metadata": {
    "papermill": {
     "duration": 0.016054,
     "end_time": "2022-05-30T03:12:58.289280",
     "exception": false,
     "start_time": "2022-05-30T03:12:58.273226",
     "status": "completed"
    },
    "tags": []
   },
   "outputs": [],
   "source": []
  }
 ],
 "metadata": {
  "kernelspec": {
   "display_name": "Python 3",
   "language": "python",
   "name": "python3"
  },
  "language_info": {
   "codemirror_mode": {
    "name": "ipython",
    "version": 3
   },
   "file_extension": ".py",
   "mimetype": "text/x-python",
   "name": "python",
   "nbconvert_exporter": "python",
   "pygments_lexer": "ipython3",
   "version": "3.6.15"
  },
  "papermill": {
   "default_parameters": {},
   "duration": 15.85756,
   "end_time": "2022-05-30T03:12:58.827957",
   "environment_variables": {},
   "exception": null,
   "input_path": "Market-News.ipynb",
   "output_path": "Market-News.ipynb",
   "parameters": {},
   "start_time": "2022-05-30T03:12:42.970397",
   "version": "2.2.2"
  }
 },
 "nbformat": 4,
 "nbformat_minor": 5
}