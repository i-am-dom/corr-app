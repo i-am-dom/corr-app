{
 "cells": [
  {
   "cell_type": "markdown",
   "id": "short-greensboro",
   "metadata": {
    "papermill": {
     "duration": 0.013288,
     "end_time": "2022-06-24T03:13:06.173879",
     "exception": false,
     "start_time": "2022-06-24T03:13:06.160591",
     "status": "completed"
    },
    "tags": []
   },
   "source": [
    "# Kriptovaliutų naujienos"
   ]
  },
  {
   "cell_type": "code",
   "execution_count": 1,
   "id": "functioning-knowing",
   "metadata": {
    "execution": {
     "iopub.execute_input": "2022-06-24T03:13:06.202766Z",
     "iopub.status.busy": "2022-06-24T03:13:06.202177Z",
     "iopub.status.idle": "2022-06-24T03:13:07.416286Z",
     "shell.execute_reply": "2022-06-24T03:13:07.415667Z"
    },
    "papermill": {
     "duration": 1.233011,
     "end_time": "2022-06-24T03:13:07.416444",
     "exception": false,
     "start_time": "2022-06-24T03:13:06.183433",
     "status": "completed"
    },
    "tags": []
   },
   "outputs": [],
   "source": [
    "#hide_input\n",
    "import warnings\n",
    "warnings.filterwarnings('ignore')\n",
    "from scripts.read_data import read_api\n",
    "from scripts.read_data import read_news\n",
    "from scripts.read_data import read_covid\n",
    "import matplotlib.pyplot as plt \n",
    "from IPython.display import Markdown as md"
   ]
  },
  {
   "cell_type": "code",
   "execution_count": 2,
   "id": "shared-acceptance",
   "metadata": {
    "execution": {
     "iopub.execute_input": "2022-06-24T03:13:07.441278Z",
     "iopub.status.busy": "2022-06-24T03:13:07.440255Z",
     "iopub.status.idle": "2022-06-24T03:13:18.651870Z",
     "shell.execute_reply": "2022-06-24T03:13:18.651281Z"
    },
    "papermill": {
     "duration": 11.226211,
     "end_time": "2022-06-24T03:13:18.652025",
     "exception": false,
     "start_time": "2022-06-24T03:13:07.425814",
     "status": "completed"
    },
    "tags": []
   },
   "outputs": [],
   "source": [
    "#hide_input\n",
    "blockchain = read_news('blockchain') \n",
    "btc = read_news('btc') \n",
    "xrp = read_news('xrp') \n",
    "trx = read_news('trx') \n",
    "eth = read_news('eth')  \n",
    "ada = read_news('ada')\n",
    "exchange = read_news('exchange') "
   ]
  },
  {
   "cell_type": "code",
   "execution_count": 3,
   "id": "synthetic-notion",
   "metadata": {
    "execution": {
     "iopub.execute_input": "2022-06-24T03:13:18.676504Z",
     "iopub.status.busy": "2022-06-24T03:13:18.675830Z",
     "iopub.status.idle": "2022-06-24T03:13:18.679159Z",
     "shell.execute_reply": "2022-06-24T03:13:18.678714Z"
    },
    "papermill": {
     "duration": 0.017912,
     "end_time": "2022-06-24T03:13:18.679268",
     "exception": false,
     "start_time": "2022-06-24T03:13:18.661356",
     "status": "completed"
    },
    "tags": []
   },
   "outputs": [
    {
     "data": {
      "text/markdown": [
       "- Why Play-to-Earn Games Are a Perfect Match for India.  Gaming has evolved from a way to pass the time and amuse oneself to a way to reward gamers using blockchain-based technology like NFTs. Gamers were once thought of as people who waste their time playing video games rather than doing anything productive. However, that’s changed drastically over the last few years. Play-to-Earn video games allow users to earn real-world incentives. It embraces an open economy and compensates all players who contribute to the game. Gamers have the ability to “farm” digital assets like cryptocurrencies and NFTs to sell on the market. The worldwide gaming market could be valued at $268 billion by 2025. It’s reasonable to conclude that cryptocurrencies have penetrated this booming sector thanks to the benefits of blockchain technology. By letting developers recognize that they can build and transfer real value in the ecosystem, NFTs have played a crucial role in this expansion. If you look at Axie Infinity’s past revenue and transaction volume, it’s plausible to conclude that P2E gaming models are a huge success even in developing countries, such as the Philippines, where a large chunk of its userbase is based. This begs the question, “Can this success of Play-to-Earn Games be replicated in India?” Yes. Why? There are several elements that make India an ideal market for P2E gaming. The Scope of Play-to-Earn Games in India Several lockdowns and restrictions enforced by the COVID-19 outbreak have chan... ... [| Skaityti daugiau](https://www.cryptoknowmics.com/news/why-play-to-earn-games-are-a-perfect-match-for-india/?utm_source=rss&utm_medium=rss&utm_campaign=why-play-to-earn-games-are-a-perfect-match-for-india) "
      ],
      "text/plain": [
       "<IPython.core.display.Markdown object>"
      ]
     },
     "execution_count": 3,
     "metadata": {},
     "output_type": "execute_result"
    }
   ],
   "source": [
    "#hide_input\n",
    "#md('##### {}'.format(titleBTC)) \n",
    "md(\"- {}{} {}{} [| Skaityti daugiau]({}) \".format(blockchain['title'],'. ', blockchain['body'], ' ...', blockchain['url']))"
   ]
  },
  {
   "cell_type": "code",
   "execution_count": 4,
   "id": "aging-caution",
   "metadata": {
    "execution": {
     "iopub.execute_input": "2022-06-24T03:13:18.702534Z",
     "iopub.status.busy": "2022-06-24T03:13:18.701891Z",
     "iopub.status.idle": "2022-06-24T03:13:18.704631Z",
     "shell.execute_reply": "2022-06-24T03:13:18.705087Z"
    },
    "papermill": {
     "duration": 0.016765,
     "end_time": "2022-06-24T03:13:18.705201",
     "exception": false,
     "start_time": "2022-06-24T03:13:18.688436",
     "status": "completed"
    },
    "tags": []
   },
   "outputs": [
    {
     "data": {
      "text/markdown": [
       "- TA: Bitcoin Price Eyes Upside Break, Why BTC Could Surge to $23K.  Bitcoin is showing positive signs above the $20,500 zone against the US Dollar. BTC could rally if there is a clear move above the $21,250 resistance zone. Bitcoin remains well supported above the $20,000 and $20,500 levels. The price is now above the $20,500 level and the 100 hourly simple moving average. There was a break above a major bearish trend line with resistance near $20,450 on the hourly chart of the BTC/USD pair (data feed from Kraken). The pair could gain bullish momentum if it clears the $21,250 and $21,650 resistance levels. Bitcoin Price Could Gain Pace Bitcoin price started a downside correction below the $20,500 level. There was also a move below the $20,000 level, but the price was stable near the $19,750 zone. A low was formed near $19,750 and the price started fresh. BTC was able to clear the $20,000 and $20,500 resistance levels. Besides, there was a break above a major bearish trend line with resistance near $20,450 on the hourly chart of the BTC/USD pair. The pair climbed above the 50% Fib retracement level of the downward move from the $21,698 swing high to $19,750 low. Bitcoin is now above the $20,500 level and the 100 hourly simple moving average. An immediate resistance on the upside is near the $21,250 level. It is near the 76.4% Fib retracement level of the downward move from the $21,698 swing high to $19,750 low. The next key resistance is near the $21,650 level. A clear move above the $21,650 le... ... [| Skaityti daugiau](https://www.newsbtc.com/analysis/btc/bitcoin-price-eyes-upside-break-23k/) "
      ],
      "text/plain": [
       "<IPython.core.display.Markdown object>"
      ]
     },
     "execution_count": 4,
     "metadata": {},
     "output_type": "execute_result"
    }
   ],
   "source": [
    "#hide_input\n",
    "#md('##### {}'.format(titleBTC)) \n",
    "md(\"- {}{} {}{} [| Skaityti daugiau]({}) \".format(btc['title'],'. ', btc['body'], ' ...', btc['url']))"
   ]
  },
  {
   "cell_type": "code",
   "execution_count": 5,
   "id": "organic-actress",
   "metadata": {
    "execution": {
     "iopub.execute_input": "2022-06-24T03:13:18.729100Z",
     "iopub.status.busy": "2022-06-24T03:13:18.728406Z",
     "iopub.status.idle": "2022-06-24T03:13:18.731396Z",
     "shell.execute_reply": "2022-06-24T03:13:18.731898Z"
    },
    "papermill": {
     "duration": 0.017398,
     "end_time": "2022-06-24T03:13:18.732024",
     "exception": false,
     "start_time": "2022-06-24T03:13:18.714626",
     "status": "completed"
    },
    "tags": []
   },
   "outputs": [
    {
     "data": {
      "text/markdown": [
       "- Ripple price analysis: XRP may bounce back once $0.306 support floor is met.  Ripple price analysis continues to show bearish signs, as a sideways pattern extends around the $0.32 mark. Bulls have faced multiple rejections at the $0.35 hurdle, with the most recent one seen on June 21, 2022, when price pulled back 5 percent. Now, XRP faces another potential downswing as soon as the current horizontal trend... ... [| Skaityti daugiau](https://www.cryptopolitan.com/ripple-price-analysis-2022-06-23/) "
      ],
      "text/plain": [
       "<IPython.core.display.Markdown object>"
      ]
     },
     "execution_count": 5,
     "metadata": {},
     "output_type": "execute_result"
    }
   ],
   "source": [
    "#hide_input\n",
    "#md('##### {}'.format(titleBTC)) \n",
    "md(\"- {}{} {}{} [| Skaityti daugiau]({}) \".format(xrp['title'],'. ', xrp['body'], ' ...', xrp['url']))"
   ]
  },
  {
   "cell_type": "code",
   "execution_count": 6,
   "id": "prompt-farmer",
   "metadata": {
    "execution": {
     "iopub.execute_input": "2022-06-24T03:13:18.755825Z",
     "iopub.status.busy": "2022-06-24T03:13:18.755258Z",
     "iopub.status.idle": "2022-06-24T03:13:18.758419Z",
     "shell.execute_reply": "2022-06-24T03:13:18.758840Z"
    },
    "papermill": {
     "duration": 0.017062,
     "end_time": "2022-06-24T03:13:18.758955",
     "exception": false,
     "start_time": "2022-06-24T03:13:18.741893",
     "status": "completed"
    },
    "tags": []
   },
   "outputs": [
    {
     "data": {
      "text/markdown": [
       "- MAXUSDT (TRX) – Simplifies Crypto Mining for Crypto Miners.  Evolution of Mining At the beginning stages of Bitcoin in the early 2000s, individuals interested in cryptocurrency mining were able to do so using their personal computers. As its popularity increased, so did the difficulty of mining. To accommodate the growing level of difficulty, more computer processing power was required. Soon, miners used gaming computers [&#8230;]The post MAXUSDT (TRX) &#8211; Simplifies Crypto Mining for Crypto Miners appeared first on NullTX. ... [| Skaityti daugiau](https://nulltx.com/maxusdt-trx-simplifies-crypto-mining-for-crypto-miners/) "
      ],
      "text/plain": [
       "<IPython.core.display.Markdown object>"
      ]
     },
     "execution_count": 6,
     "metadata": {},
     "output_type": "execute_result"
    }
   ],
   "source": [
    "#hide_input\n",
    "#md('##### {}'.format(titleBTC)) \n",
    "md(\"- {}{} {}{} [| Skaityti daugiau]({}) \".format(trx['title'],'. ', trx['body'], ' ...', trx['url']))"
   ]
  },
  {
   "cell_type": "code",
   "execution_count": 7,
   "id": "illegal-greece",
   "metadata": {
    "execution": {
     "iopub.execute_input": "2022-06-24T03:13:18.783824Z",
     "iopub.status.busy": "2022-06-24T03:13:18.783256Z",
     "iopub.status.idle": "2022-06-24T03:13:18.786743Z",
     "shell.execute_reply": "2022-06-24T03:13:18.786182Z"
    },
    "papermill": {
     "duration": 0.01764,
     "end_time": "2022-06-24T03:13:18.786841",
     "exception": false,
     "start_time": "2022-06-24T03:13:18.769201",
     "status": "completed"
    },
    "tags": []
   },
   "outputs": [
    {
     "data": {
      "text/markdown": [
       "- Bitcoin, Ethereum, Holo, and Amp Daily Price Analyses – 23 June Roundup.  The situation of the global crypto market has remained encouraging as new gains continue. The value of Bitcoin, Ethereum, and other coins in the market saw enhancement. The changes are much better than the past few days, which saw a recession due to increasing sell-offs. These gains have enhanced the global market cap value. It... ... [| Skaityti daugiau](https://www.cryptopolitan.com/bitcoin-ethereum-holo-and-amp-daily-price-analyses-23-june-roundup/) "
      ],
      "text/plain": [
       "<IPython.core.display.Markdown object>"
      ]
     },
     "execution_count": 7,
     "metadata": {},
     "output_type": "execute_result"
    }
   ],
   "source": [
    "#hide_input\n",
    "#md('##### {}'.format(titleBTC)) \n",
    "md(\"- {}{} {}{} [| Skaityti daugiau]({}) \".format(eth['title'],'. ', eth['body'], ' ...', eth['url']))"
   ]
  },
  {
   "cell_type": "code",
   "execution_count": 8,
   "id": "sublime-lounge",
   "metadata": {
    "execution": {
     "iopub.execute_input": "2022-06-24T03:13:18.813275Z",
     "iopub.status.busy": "2022-06-24T03:13:18.812069Z",
     "iopub.status.idle": "2022-06-24T03:13:18.816204Z",
     "shell.execute_reply": "2022-06-24T03:13:18.816669Z"
    },
    "papermill": {
     "duration": 0.018318,
     "end_time": "2022-06-24T03:13:18.816783",
     "exception": false,
     "start_time": "2022-06-24T03:13:18.798465",
     "status": "completed"
    },
    "tags": []
   },
   "outputs": [
    {
     "data": {
      "text/markdown": [
       "- Cardano Founder Set To Testify Before House Committee Overseeing CFTC.  Cardano founder recently uploaded photo of his seat while waiting for hearing to start in earnest ... [| Skaityti daugiau](https://u.today/cardano-founder-set-to-testify-before-house-committee-overseeing-cftc) "
      ],
      "text/plain": [
       "<IPython.core.display.Markdown object>"
      ]
     },
     "execution_count": 8,
     "metadata": {},
     "output_type": "execute_result"
    }
   ],
   "source": [
    "#hide_input\n",
    "#md('##### {}'.format(titleBTC)) \n",
    "md(\"- {}{} {}{} [| Skaityti daugiau]({}) \".format(ada['title'],'. ', ada['body'], ' ...', ada['url']))"
   ]
  },
  {
   "cell_type": "code",
   "execution_count": 9,
   "id": "specified-ordering",
   "metadata": {
    "execution": {
     "iopub.execute_input": "2022-06-24T03:13:18.843047Z",
     "iopub.status.busy": "2022-06-24T03:13:18.842479Z",
     "iopub.status.idle": "2022-06-24T03:13:18.846025Z",
     "shell.execute_reply": "2022-06-24T03:13:18.845565Z"
    },
    "papermill": {
     "duration": 0.01864,
     "end_time": "2022-06-24T03:13:18.846121",
     "exception": false,
     "start_time": "2022-06-24T03:13:18.827481",
     "status": "completed"
    },
    "tags": []
   },
   "outputs": [
    {
     "data": {
      "text/markdown": [
       "- ‘Bad’ crypto projects should not be bailed out says Binance founder CZ.  Binance CEO CZ has argued that crypto firms that have been poorly managed, poorly operated, or have released poorly designed products should be left to crumble.  ... [| Skaityti daugiau](https://cointelegraph.com/news/bad-crypto-projects-should-not-be-bailed-out-says-binance-founder-cz) "
      ],
      "text/plain": [
       "<IPython.core.display.Markdown object>"
      ]
     },
     "execution_count": 9,
     "metadata": {},
     "output_type": "execute_result"
    }
   ],
   "source": [
    "#hide_input\n",
    "#md('##### {}'.format(titleBTC)) \n",
    "md(\"- {}{} {}{} [| Skaityti daugiau]({}) \".format(exchange['title'],'. ', exchange['body'], ' ...', exchange['url']))"
   ]
  },
  {
   "cell_type": "code",
   "execution_count": null,
   "id": "tender-livestock",
   "metadata": {
    "papermill": {
     "duration": 0.011093,
     "end_time": "2022-06-24T03:13:18.868312",
     "exception": false,
     "start_time": "2022-06-24T03:13:18.857219",
     "status": "completed"
    },
    "tags": []
   },
   "outputs": [],
   "source": []
  },
  {
   "cell_type": "code",
   "execution_count": null,
   "id": "appreciated-diamond",
   "metadata": {
    "papermill": {
     "duration": 0.011466,
     "end_time": "2022-06-24T03:13:18.891051",
     "exception": false,
     "start_time": "2022-06-24T03:13:18.879585",
     "status": "completed"
    },
    "tags": []
   },
   "outputs": [],
   "source": []
  },
  {
   "cell_type": "code",
   "execution_count": null,
   "id": "romance-sweden",
   "metadata": {
    "papermill": {
     "duration": 0.011033,
     "end_time": "2022-06-24T03:13:18.913264",
     "exception": false,
     "start_time": "2022-06-24T03:13:18.902231",
     "status": "completed"
    },
    "tags": []
   },
   "outputs": [],
   "source": []
  },
  {
   "cell_type": "code",
   "execution_count": null,
   "id": "dietary-statistics",
   "metadata": {
    "papermill": {
     "duration": 0.011026,
     "end_time": "2022-06-24T03:13:18.935458",
     "exception": false,
     "start_time": "2022-06-24T03:13:18.924432",
     "status": "completed"
    },
    "tags": []
   },
   "outputs": [],
   "source": []
  }
 ],
 "metadata": {
  "kernelspec": {
   "display_name": "Python 3",
   "language": "python",
   "name": "python3"
  },
  "language_info": {
   "codemirror_mode": {
    "name": "ipython",
    "version": 3
   },
   "file_extension": ".py",
   "mimetype": "text/x-python",
   "name": "python",
   "nbconvert_exporter": "python",
   "pygments_lexer": "ipython3",
   "version": "3.6.15"
  },
  "papermill": {
   "default_parameters": {},
   "duration": 14.12236,
   "end_time": "2022-06-24T03:13:19.366131",
   "environment_variables": {},
   "exception": null,
   "input_path": "Market-News.ipynb",
   "output_path": "Market-News.ipynb",
   "parameters": {},
   "start_time": "2022-06-24T03:13:05.243771",
   "version": "2.2.2"
  }
 },
 "nbformat": 4,
 "nbformat_minor": 5
}