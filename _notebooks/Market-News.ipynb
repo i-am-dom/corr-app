{
 "cells": [
  {
   "cell_type": "markdown",
   "id": "short-greensboro",
   "metadata": {
    "papermill": {
     "duration": 0.015868,
     "end_time": "2022-04-24T02:32:39.835566",
     "exception": false,
     "start_time": "2022-04-24T02:32:39.819698",
     "status": "completed"
    },
    "tags": []
   },
   "source": [
    "# Kriptovaliutų naujienos"
   ]
  },
  {
   "cell_type": "code",
   "execution_count": 1,
   "id": "functioning-knowing",
   "metadata": {
    "execution": {
     "iopub.execute_input": "2022-04-24T02:32:39.871207Z",
     "iopub.status.busy": "2022-04-24T02:32:39.870503Z",
     "iopub.status.idle": "2022-04-24T02:32:41.458690Z",
     "shell.execute_reply": "2022-04-24T02:32:41.459250Z"
    },
    "papermill": {
     "duration": 1.612143,
     "end_time": "2022-04-24T02:32:41.459479",
     "exception": false,
     "start_time": "2022-04-24T02:32:39.847336",
     "status": "completed"
    },
    "tags": []
   },
   "outputs": [],
   "source": [
    "#hide_input\n",
    "import warnings\n",
    "warnings.filterwarnings('ignore')\n",
    "from scripts.read_data import read_api\n",
    "from scripts.read_data import read_news\n",
    "from scripts.read_data import read_covid\n",
    "import matplotlib.pyplot as plt \n",
    "from IPython.display import Markdown as md"
   ]
  },
  {
   "cell_type": "code",
   "execution_count": 2,
   "id": "shared-acceptance",
   "metadata": {
    "execution": {
     "iopub.execute_input": "2022-04-24T02:32:41.491089Z",
     "iopub.status.busy": "2022-04-24T02:32:41.490225Z",
     "iopub.status.idle": "2022-04-24T02:32:51.283358Z",
     "shell.execute_reply": "2022-04-24T02:32:51.283947Z"
    },
    "papermill": {
     "duration": 9.812279,
     "end_time": "2022-04-24T02:32:51.284136",
     "exception": false,
     "start_time": "2022-04-24T02:32:41.471857",
     "status": "completed"
    },
    "tags": []
   },
   "outputs": [],
   "source": [
    "#hide_input\n",
    "blockchain = read_news('blockchain') \n",
    "btc = read_news('btc') \n",
    "xrp = read_news('xrp') \n",
    "trx = read_news('trx') \n",
    "eth = read_news('eth')  \n",
    "ada = read_news('ada')\n",
    "exchange = read_news('exchange') "
   ]
  },
  {
   "cell_type": "code",
   "execution_count": 3,
   "id": "synthetic-notion",
   "metadata": {
    "execution": {
     "iopub.execute_input": "2022-04-24T02:32:51.315253Z",
     "iopub.status.busy": "2022-04-24T02:32:51.314584Z",
     "iopub.status.idle": "2022-04-24T02:32:51.318473Z",
     "shell.execute_reply": "2022-04-24T02:32:51.317899Z"
    },
    "papermill": {
     "duration": 0.022442,
     "end_time": "2022-04-24T02:32:51.318652",
     "exception": false,
     "start_time": "2022-04-24T02:32:51.296210",
     "status": "completed"
    },
    "tags": []
   },
   "outputs": [
    {
     "data": {
      "text/markdown": [
       "- Will Polygon (MATIC) Bulls Recapture the $2 Level Anytime Soon?.  The post Will Polygon (MATIC) Bulls Recapture the $2 Level Anytime Soon? appeared first on Coinpedia - Fintech &amp; Cryptocurreny News Media| Crypto GuideOver the last 24 hours, the global crypto market has shifted to a state of uncertainty. The new signs point to a shift in sentiment, which could affect the performance of Bitcoin and other top-tier coins. Despite the fact that the market was beneficial for Bitcoin in the previous 24 hours, it has since changed &#8230; ... [| Skaityti daugiau](https://coinpedia.org/price-analysis/will-polygon-matic-bulls-recapture-the-2-level-anytime-soon/) "
      ],
      "text/plain": [
       "<IPython.core.display.Markdown object>"
      ]
     },
     "execution_count": 3,
     "metadata": {},
     "output_type": "execute_result"
    }
   ],
   "source": [
    "#hide_input\n",
    "#md('##### {}'.format(titleBTC)) \n",
    "md(\"- {}{} {}{} [| Skaityti daugiau]({}) \".format(blockchain['title'],'. ', blockchain['body'], ' ...', blockchain['url']))"
   ]
  },
  {
   "cell_type": "code",
   "execution_count": 4,
   "id": "aging-caution",
   "metadata": {
    "execution": {
     "iopub.execute_input": "2022-04-24T02:32:51.349459Z",
     "iopub.status.busy": "2022-04-24T02:32:51.348696Z",
     "iopub.status.idle": "2022-04-24T02:32:51.352608Z",
     "shell.execute_reply": "2022-04-24T02:32:51.351899Z"
    },
    "papermill": {
     "duration": 0.021405,
     "end_time": "2022-04-24T02:32:51.352758",
     "exception": false,
     "start_time": "2022-04-24T02:32:51.331353",
     "status": "completed"
    },
    "tags": []
   },
   "outputs": [
    {
     "data": {
      "text/markdown": [
       "- Will Polygon (MATIC) Bulls Recapture the $2 Level Anytime Soon?.  The post Will Polygon (MATIC) Bulls Recapture the $2 Level Anytime Soon? appeared first on Coinpedia - Fintech &amp; Cryptocurreny News Media| Crypto GuideOver the last 24 hours, the global crypto market has shifted to a state of uncertainty. The new signs point to a shift in sentiment, which could affect the performance of Bitcoin and other top-tier coins. Despite the fact that the market was beneficial for Bitcoin in the previous 24 hours, it has since changed &#8230; ... [| Skaityti daugiau](https://coinpedia.org/price-analysis/will-polygon-matic-bulls-recapture-the-2-level-anytime-soon/) "
      ],
      "text/plain": [
       "<IPython.core.display.Markdown object>"
      ]
     },
     "execution_count": 4,
     "metadata": {},
     "output_type": "execute_result"
    }
   ],
   "source": [
    "#hide_input\n",
    "#md('##### {}'.format(titleBTC)) \n",
    "md(\"- {}{} {}{} [| Skaityti daugiau]({}) \".format(btc['title'],'. ', btc['body'], ' ...', btc['url']))"
   ]
  },
  {
   "cell_type": "code",
   "execution_count": 5,
   "id": "organic-actress",
   "metadata": {
    "execution": {
     "iopub.execute_input": "2022-04-24T02:32:51.383813Z",
     "iopub.status.busy": "2022-04-24T02:32:51.383130Z",
     "iopub.status.idle": "2022-04-24T02:32:51.389027Z",
     "shell.execute_reply": "2022-04-24T02:32:51.389568Z"
    },
    "papermill": {
     "duration": 0.024446,
     "end_time": "2022-04-24T02:32:51.389753",
     "exception": false,
     "start_time": "2022-04-24T02:32:51.365307",
     "status": "completed"
    },
    "tags": []
   },
   "outputs": [
    {
     "data": {
      "text/markdown": [
       "- Massive Blow To XRP Holders As Ripple’s Top Lawyer Says SEC Lawsuit Likely To End In 2023.  XRP investors hoping for a quicker resolution of the SEC v. Ripple courtroom saga will have to wait a little longer than they would like. ... [| Skaityti daugiau](https://zycrypto.com/massive-blow-to-xrp-holders-as-ripples-top-lawyer-says-sec-lawsuit-likely-to-end-in-2023/) "
      ],
      "text/plain": [
       "<IPython.core.display.Markdown object>"
      ]
     },
     "execution_count": 5,
     "metadata": {},
     "output_type": "execute_result"
    }
   ],
   "source": [
    "#hide_input\n",
    "#md('##### {}'.format(titleBTC)) \n",
    "md(\"- {}{} {}{} [| Skaityti daugiau]({}) \".format(xrp['title'],'. ', xrp['body'], ' ...', xrp['url']))"
   ]
  },
  {
   "cell_type": "code",
   "execution_count": 6,
   "id": "prompt-farmer",
   "metadata": {
    "execution": {
     "iopub.execute_input": "2022-04-24T02:32:51.422620Z",
     "iopub.status.busy": "2022-04-24T02:32:51.421275Z",
     "iopub.status.idle": "2022-04-24T02:32:51.424418Z",
     "shell.execute_reply": "2022-04-24T02:32:51.425081Z"
    },
    "papermill": {
     "duration": 0.022332,
     "end_time": "2022-04-24T02:32:51.425230",
     "exception": false,
     "start_time": "2022-04-24T02:32:51.402898",
     "status": "completed"
    },
    "tags": []
   },
   "outputs": [
    {
     "data": {
      "text/markdown": [
       "- TRX Technical Analysis: Buyers Face Another Rejection $0.070.  TRX coin price shows a sharp reversal led by the profit bookers exiting at the resistance confluence of the 200-day EMA and $0.070. Key technical points: TRX prices fail to surpass the $0.070. The MACD and signal lines give a bullish crossover. The 24-hour trading volume of Tron is $1.233 Billion, marking a 68% fall. Past Performance of TRX TRX coin price shows a bullish offshoot reaching the resistance confluence of the $0.070 mark and the 200-day EMA. However, the sharp increase introduced a spot for profit booking resulting in a sharp fall of 5.83% within a day, forming a bearish piercing candle. The downfall reaches the 100-day EMA and hopes for a bullish reversal. Source-Tradingview TRX Technical Analysis TRX token price holds the $0.065 mark and shows a potential reversal to retest the resistance zone. However, the trend must sustain above the 100-day EMA to show recovery in the upcoming sessions. The daily chart’s bearish alignment of the crucial EMAs reflects a gradual bullish rise, with the 100-day EMA providing support. However, the collapse of the supporting EMA will ensure a fall to the 50-day EMA. RSI Indicator: The RSI slope reflects a bullish reversal from the nearly overbought zone representing a boom in the underlying buying pressure. Moreover, the 14-day average line shows a bullish reversal after a sideways trend. MACD Indicator: The MACD and signal lines maintain an uptrend after the bullish crossover and s... ... [| Skaityti daugiau](https://www.cryptoknowmics.com/news/trx-technical-analysis-buyers-face-another-rejection-0-070/?utm_source=rss&utm_medium=rss&utm_campaign=trx-technical-analysis-buyers-face-another-rejection-0-070) "
      ],
      "text/plain": [
       "<IPython.core.display.Markdown object>"
      ]
     },
     "execution_count": 6,
     "metadata": {},
     "output_type": "execute_result"
    }
   ],
   "source": [
    "#hide_input\n",
    "#md('##### {}'.format(titleBTC)) \n",
    "md(\"- {}{} {}{} [| Skaityti daugiau]({}) \".format(trx['title'],'. ', trx['body'], ' ...', trx['url']))"
   ]
  },
  {
   "cell_type": "code",
   "execution_count": 7,
   "id": "illegal-greece",
   "metadata": {
    "execution": {
     "iopub.execute_input": "2022-04-24T02:32:51.457952Z",
     "iopub.status.busy": "2022-04-24T02:32:51.457250Z",
     "iopub.status.idle": "2022-04-24T02:32:51.460501Z",
     "shell.execute_reply": "2022-04-24T02:32:51.461055Z"
    },
    "papermill": {
     "duration": 0.021971,
     "end_time": "2022-04-24T02:32:51.461192",
     "exception": false,
     "start_time": "2022-04-24T02:32:51.439221",
     "status": "completed"
    },
    "tags": []
   },
   "outputs": [
    {
     "data": {
      "text/markdown": [
       "- Bitcoin Price to Dive Amidst Weak Stock Market! Here’s What Next?.  The post Bitcoin Price to Dive Amidst Weak Stock Market! Here&#8217;s What Next? appeared first on Coinpedia - Fintech &amp; Cryptocurreny News Media| Crypto GuideOver the last 24 hours, the market has traded with little volatility. Bitcoin, the market leader, climbed 1.12 percent, while Ethereum gained only 0.44 percent. The price of the rest of the leading altcoins remained stable. BTC Price Action On the 4-hour chart, the Bitcoin price has been in retracement for the previous few hours, &#8230; ... [| Skaityti daugiau](https://coinpedia.org/bitcoin/bitcoin-price-to-dive-amidst-weak-stock-market-heres-what-next/) "
      ],
      "text/plain": [
       "<IPython.core.display.Markdown object>"
      ]
     },
     "execution_count": 7,
     "metadata": {},
     "output_type": "execute_result"
    }
   ],
   "source": [
    "#hide_input\n",
    "#md('##### {}'.format(titleBTC)) \n",
    "md(\"- {}{} {}{} [| Skaityti daugiau]({}) \".format(eth['title'],'. ', eth['body'], ' ...', eth['url']))"
   ]
  },
  {
   "cell_type": "code",
   "execution_count": 8,
   "id": "sublime-lounge",
   "metadata": {
    "execution": {
     "iopub.execute_input": "2022-04-24T02:32:51.495368Z",
     "iopub.status.busy": "2022-04-24T02:32:51.494664Z",
     "iopub.status.idle": "2022-04-24T02:32:51.499960Z",
     "shell.execute_reply": "2022-04-24T02:32:51.499342Z"
    },
    "papermill": {
     "duration": 0.025269,
     "end_time": "2022-04-24T02:32:51.500094",
     "exception": false,
     "start_time": "2022-04-24T02:32:51.474825",
     "status": "completed"
    },
    "tags": []
   },
   "outputs": [
    {
     "data": {
      "text/markdown": [
       "- Cardano: Analyzing ADA’s case as an excellent multibagger candidate.  Cardano, over the weeks, has motivated and destroyed investors’ dreams alike as the coin almost shot up by 55% a few weeks ago, and now it is back to where it was two months ago. However, there are now some indications of tides changing in favor of the altcoin. Cardano to start rallying again? According [&#8230;] ... [| Skaityti daugiau](https://ambcrypto.com/cardano-analyzing-adas-case-as-an-excellent-multibagger-candidate/) "
      ],
      "text/plain": [
       "<IPython.core.display.Markdown object>"
      ]
     },
     "execution_count": 8,
     "metadata": {},
     "output_type": "execute_result"
    }
   ],
   "source": [
    "#hide_input\n",
    "#md('##### {}'.format(titleBTC)) \n",
    "md(\"- {}{} {}{} [| Skaityti daugiau]({}) \".format(ada['title'],'. ', ada['body'], ' ...', ada['url']))"
   ]
  },
  {
   "cell_type": "code",
   "execution_count": 9,
   "id": "specified-ordering",
   "metadata": {
    "execution": {
     "iopub.execute_input": "2022-04-24T02:32:51.536292Z",
     "iopub.status.busy": "2022-04-24T02:32:51.535598Z",
     "iopub.status.idle": "2022-04-24T02:32:51.539185Z",
     "shell.execute_reply": "2022-04-24T02:32:51.538600Z"
    },
    "papermill": {
     "duration": 0.023884,
     "end_time": "2022-04-24T02:32:51.539326",
     "exception": false,
     "start_time": "2022-04-24T02:32:51.515442",
     "status": "completed"
    },
    "tags": []
   },
   "outputs": [
    {
     "data": {
      "text/markdown": [
       "- Microstrategy CEO Dispels Rumor of Company Quietly Selling Bitcoin.  The CEO of the Nasdaq-listed company Microstrategy has dispelled the rumor that his company has been quietly selling bitcoin. He explained that as a company regulated by the Securities and Exchange Commission (SEC), changes in bitcoin holdings must be disclosed to shareholders via SEC filings. Microstrategy&#x2019;s CEO Points Out Any Bitcoin Sales Must Be Publicly [&#8230;] ... [| Skaityti daugiau](https://news.bitcoin.com/microstrategy-ceo-dispels-rumor-of-company-quietly-selling-bitcoin/) "
      ],
      "text/plain": [
       "<IPython.core.display.Markdown object>"
      ]
     },
     "execution_count": 9,
     "metadata": {},
     "output_type": "execute_result"
    }
   ],
   "source": [
    "#hide_input\n",
    "#md('##### {}'.format(titleBTC)) \n",
    "md(\"- {}{} {}{} [| Skaityti daugiau]({}) \".format(exchange['title'],'. ', exchange['body'], ' ...', exchange['url']))"
   ]
  },
  {
   "cell_type": "code",
   "execution_count": null,
   "id": "tender-livestock",
   "metadata": {
    "papermill": {
     "duration": 0.014282,
     "end_time": "2022-04-24T02:32:51.568857",
     "exception": false,
     "start_time": "2022-04-24T02:32:51.554575",
     "status": "completed"
    },
    "tags": []
   },
   "outputs": [],
   "source": []
  },
  {
   "cell_type": "code",
   "execution_count": null,
   "id": "appreciated-diamond",
   "metadata": {
    "papermill": {
     "duration": 0.015605,
     "end_time": "2022-04-24T02:32:51.598618",
     "exception": false,
     "start_time": "2022-04-24T02:32:51.583013",
     "status": "completed"
    },
    "tags": []
   },
   "outputs": [],
   "source": []
  },
  {
   "cell_type": "code",
   "execution_count": null,
   "id": "romance-sweden",
   "metadata": {
    "papermill": {
     "duration": 0.013593,
     "end_time": "2022-04-24T02:32:51.628753",
     "exception": false,
     "start_time": "2022-04-24T02:32:51.615160",
     "status": "completed"
    },
    "tags": []
   },
   "outputs": [],
   "source": []
  },
  {
   "cell_type": "code",
   "execution_count": null,
   "id": "dietary-statistics",
   "metadata": {
    "papermill": {
     "duration": 0.013949,
     "end_time": "2022-04-24T02:32:51.656300",
     "exception": false,
     "start_time": "2022-04-24T02:32:51.642351",
     "status": "completed"
    },
    "tags": []
   },
   "outputs": [],
   "source": []
  }
 ],
 "metadata": {
  "kernelspec": {
   "display_name": "Python 3",
   "language": "python",
   "name": "python3"
  },
  "language_info": {
   "codemirror_mode": {
    "name": "ipython",
    "version": 3
   },
   "file_extension": ".py",
   "mimetype": "text/x-python",
   "name": "python",
   "nbconvert_exporter": "python",
   "pygments_lexer": "ipython3",
   "version": "3.6.15"
  },
  "papermill": {
   "default_parameters": {},
   "duration": 13.623041,
   "end_time": "2022-04-24T02:32:52.089227",
   "environment_variables": {},
   "exception": null,
   "input_path": "Market-News.ipynb",
   "output_path": "Market-News.ipynb",
   "parameters": {},
   "start_time": "2022-04-24T02:32:38.466186",
   "version": "2.2.2"
  }
 },
 "nbformat": 4,
 "nbformat_minor": 5
}