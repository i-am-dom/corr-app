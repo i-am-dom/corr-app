{
 "cells": [
  {
   "cell_type": "markdown",
   "id": "short-greensboro",
   "metadata": {
    "papermill": {
     "duration": 0.015433,
     "end_time": "2022-09-28T03:43:53.605706",
     "exception": false,
     "start_time": "2022-09-28T03:43:53.590273",
     "status": "completed"
    },
    "tags": []
   },
   "source": [
    "# Kriptovaliutų naujienos"
   ]
  },
  {
   "cell_type": "code",
   "execution_count": 1,
   "id": "functioning-knowing",
   "metadata": {
    "execution": {
     "iopub.execute_input": "2022-09-28T03:43:53.640988Z",
     "iopub.status.busy": "2022-09-28T03:43:53.640125Z",
     "iopub.status.idle": "2022-09-28T03:43:55.072336Z",
     "shell.execute_reply": "2022-09-28T03:43:55.071750Z"
    },
    "papermill": {
     "duration": 1.454886,
     "end_time": "2022-09-28T03:43:55.072487",
     "exception": false,
     "start_time": "2022-09-28T03:43:53.617601",
     "status": "completed"
    },
    "tags": []
   },
   "outputs": [],
   "source": [
    "#hide_input\n",
    "import warnings\n",
    "warnings.filterwarnings('ignore')\n",
    "from scripts.read_data import read_api\n",
    "from scripts.read_data import read_news\n",
    "from scripts.read_data import read_covid\n",
    "import matplotlib.pyplot as plt \n",
    "from IPython.display import Markdown as md"
   ]
  },
  {
   "cell_type": "code",
   "execution_count": 2,
   "id": "shared-acceptance",
   "metadata": {
    "execution": {
     "iopub.execute_input": "2022-09-28T03:43:55.101457Z",
     "iopub.status.busy": "2022-09-28T03:43:55.100769Z",
     "iopub.status.idle": "2022-09-28T03:44:06.795319Z",
     "shell.execute_reply": "2022-09-28T03:44:06.794563Z"
    },
    "papermill": {
     "duration": 11.712246,
     "end_time": "2022-09-28T03:44:06.795501",
     "exception": false,
     "start_time": "2022-09-28T03:43:55.083255",
     "status": "completed"
    },
    "tags": []
   },
   "outputs": [],
   "source": [
    "#hide_input\n",
    "blockchain = read_news('blockchain') \n",
    "btc = read_news('btc') \n",
    "xrp = read_news('xrp') \n",
    "trx = read_news('trx') \n",
    "eth = read_news('eth')  \n",
    "ada = read_news('ada')\n",
    "exchange = read_news('exchange') "
   ]
  },
  {
   "cell_type": "code",
   "execution_count": 3,
   "id": "synthetic-notion",
   "metadata": {
    "execution": {
     "iopub.execute_input": "2022-09-28T03:44:06.825039Z",
     "iopub.status.busy": "2022-09-28T03:44:06.824115Z",
     "iopub.status.idle": "2022-09-28T03:44:06.828632Z",
     "shell.execute_reply": "2022-09-28T03:44:06.829227Z"
    },
    "papermill": {
     "duration": 0.022628,
     "end_time": "2022-09-28T03:44:06.829357",
     "exception": false,
     "start_time": "2022-09-28T03:44:06.806729",
     "status": "completed"
    },
    "tags": []
   },
   "outputs": [
    {
     "data": {
      "text/markdown": [
       "- Will Fantom [FTM]’s bullish streak of Q3 follow the altcoin as we enter Q4.  Fantom, the scalable blockchain platform, in its latest general update, intimated its users of the growth registered on its network. According to the update, in the last three months, Fantom saw an average daily transactions count of 820,000. With new addresses registering on the network during Q3, unique wallet addresses on Fantom stood at a [&#8230;] ... [| Skaityti daugiau](https://ambcrypto.com/will-fantom-ftms-bullish-streak-of-q3-follow-the-altcoin-as-we-enter-q4/) "
      ],
      "text/plain": [
       "<IPython.core.display.Markdown object>"
      ]
     },
     "execution_count": 3,
     "metadata": {},
     "output_type": "execute_result"
    }
   ],
   "source": [
    "#hide_input\n",
    "#md('##### {}'.format(titleBTC)) \n",
    "md(\"- {}{} {}{} [| Skaityti daugiau]({}) \".format(blockchain['title'],'. ', blockchain['body'], ' ...', blockchain['url']))"
   ]
  },
  {
   "cell_type": "code",
   "execution_count": 4,
   "id": "aging-caution",
   "metadata": {
    "execution": {
     "iopub.execute_input": "2022-09-28T03:44:06.856521Z",
     "iopub.status.busy": "2022-09-28T03:44:06.855764Z",
     "iopub.status.idle": "2022-09-28T03:44:06.860480Z",
     "shell.execute_reply": "2022-09-28T03:44:06.859901Z"
    },
    "papermill": {
     "duration": 0.02039,
     "end_time": "2022-09-28T03:44:06.860596",
     "exception": false,
     "start_time": "2022-09-28T03:44:06.840206",
     "status": "completed"
    },
    "tags": []
   },
   "outputs": [
    {
     "data": {
      "text/markdown": [
       "- Bitcoin Price and Ethereum Reverse Sharply, Key Support Nearby.  Bitcoin price attempted a strong increase above the $20,000 resistance zone. BTC failed and declined sharply below $19,000. It is currently (03:10 UTC) showing bearish signs, but it is testing a major support at $18,500. Similarly, most major altcoins started a steady decline. ETH broke the $1,300 support and declined to $1,265. XRP is down over 10% and trading near the $0.42 support. ADA might move towards the $0.42 support zone....Read More: Bitcoin Price and Ethereum Reverse Sharply, Key Support Nearby ... [| Skaityti daugiau](https://cryptonews.com/news/bitcoin-price-ethereum-reverse-sharply-key-support-nearby.htm) "
      ],
      "text/plain": [
       "<IPython.core.display.Markdown object>"
      ]
     },
     "execution_count": 4,
     "metadata": {},
     "output_type": "execute_result"
    }
   ],
   "source": [
    "#hide_input\n",
    "#md('##### {}'.format(titleBTC)) \n",
    "md(\"- {}{} {}{} [| Skaityti daugiau]({}) \".format(btc['title'],'. ', btc['body'], ' ...', btc['url']))"
   ]
  },
  {
   "cell_type": "code",
   "execution_count": 5,
   "id": "organic-actress",
   "metadata": {
    "execution": {
     "iopub.execute_input": "2022-09-28T03:44:06.887284Z",
     "iopub.status.busy": "2022-09-28T03:44:06.886320Z",
     "iopub.status.idle": "2022-09-28T03:44:06.891809Z",
     "shell.execute_reply": "2022-09-28T03:44:06.890976Z"
    },
    "papermill": {
     "duration": 0.02059,
     "end_time": "2022-09-28T03:44:06.891925",
     "exception": false,
     "start_time": "2022-09-28T03:44:06.871335",
     "status": "completed"
    },
    "tags": []
   },
   "outputs": [
    {
     "data": {
      "text/markdown": [
       "- XRP Lawsuit ‘Gross Overreach’ of SEC Amid Failure To Provide Regulatory Clarity: Ripple CEO Brad Garlinghouse.  Ripple chief executive Brad Garlinghouse says his company is &#8220;confident&#8221; moving toward the possible conclusion of its court battle against the U.S. Securities and Exchange Commission (SEC). Garlinghouse says in a new interview on CNBC that his team thinks the law is clear. &#8220;You have to remember that 99.9% of XRP trading has nothing to [&#8230;]The post XRP Lawsuit ‘Gross Overreach’ of SEC Amid Failure To Provide Regulatory Clarity: Ripple CEO Brad Garlinghouse appeared first on The Daily Hodl. ... [| Skaityti daugiau](https://dailyhodl.com/2022/09/27/xrp-lawsuit-gross-overreach-of-sec-amid-failure-to-provide-regulatory-clarity-ripple-ceo-brad-garlinghouse/) "
      ],
      "text/plain": [
       "<IPython.core.display.Markdown object>"
      ]
     },
     "execution_count": 5,
     "metadata": {},
     "output_type": "execute_result"
    }
   ],
   "source": [
    "#hide_input\n",
    "#md('##### {}'.format(titleBTC)) \n",
    "md(\"- {}{} {}{} [| Skaityti daugiau]({}) \".format(xrp['title'],'. ', xrp['body'], ' ...', xrp['url']))"
   ]
  },
  {
   "cell_type": "code",
   "execution_count": 6,
   "id": "prompt-farmer",
   "metadata": {
    "execution": {
     "iopub.execute_input": "2022-09-28T03:44:06.918558Z",
     "iopub.status.busy": "2022-09-28T03:44:06.917602Z",
     "iopub.status.idle": "2022-09-28T03:44:06.922643Z",
     "shell.execute_reply": "2022-09-28T03:44:06.923164Z"
    },
    "papermill": {
     "duration": 0.020682,
     "end_time": "2022-09-28T03:44:06.923461",
     "exception": false,
     "start_time": "2022-09-28T03:44:06.902779",
     "status": "completed"
    },
    "tags": []
   },
   "outputs": [
    {
     "data": {
      "text/markdown": [
       "- TRON Showing Hints Of A Major Rebound After A Week Of Rout.  Tron (TRX) holders have been on rough terrain since August with the bears dominating the market. The tables might be turning though in favor of the bulls as shown on the charts. TRX bulls hint at a comeback after a long period of takeover by the bears TRX price down by 0.87% RSI divergence hints at increased investor optimism According to CoinMarketCap, TRX&#8217;s price has plunged by 0.87% or trading at $0.0596 as of this writing. Apparently, Tron is trying to bounce back from its weekly low that registered at $0.056. It seems that the token is still traversing in the same range which validates a strong rebound from that level. Related Reading: Algorand: ALGO Price All Go With Nearly 30% Rally In Last 7 Days TRON Market Demand Waning? Hence, there is evidently poor demand for TRX in the market which is normal whenever crypto tries to switch lanes from bearish to bullish. Whale activity looks to be insufficient at this point and not gaining enough traction. Regardless, the supply of TRX has increased for the whales. There is hope as investor optimism ought to be amplified with the recent developments happening for Tron. Tron’s weighted sentiment index has shown no significant changes in the market. TRX is still stuck in its lower monthly range which explains the failed uptrend happening over the weekend. On the other hand, there are a couple of signals that promise the possibility of the bulls pivoting in the coming days. TRX... ... [| Skaityti daugiau](https://www.newsbtc.com/news/tron-showing-hints-of-a-major-rebound/) "
      ],
      "text/plain": [
       "<IPython.core.display.Markdown object>"
      ]
     },
     "execution_count": 6,
     "metadata": {},
     "output_type": "execute_result"
    }
   ],
   "source": [
    "#hide_input\n",
    "#md('##### {}'.format(titleBTC)) \n",
    "md(\"- {}{} {}{} [| Skaityti daugiau]({}) \".format(trx['title'],'. ', trx['body'], ' ...', trx['url']))"
   ]
  },
  {
   "cell_type": "code",
   "execution_count": 7,
   "id": "illegal-greece",
   "metadata": {
    "execution": {
     "iopub.execute_input": "2022-09-28T03:44:06.952724Z",
     "iopub.status.busy": "2022-09-28T03:44:06.952018Z",
     "iopub.status.idle": "2022-09-28T03:44:06.956792Z",
     "shell.execute_reply": "2022-09-28T03:44:06.956246Z"
    },
    "papermill": {
     "duration": 0.021955,
     "end_time": "2022-09-28T03:44:06.956906",
     "exception": false,
     "start_time": "2022-09-28T03:44:06.934951",
     "status": "completed"
    },
    "tags": []
   },
   "outputs": [
    {
     "data": {
      "text/markdown": [
       "- Bitcoin Price and Ethereum Reverse Sharply, Key Support Nearby.  Bitcoin price attempted a strong increase above the $20,000 resistance zone. BTC failed and declined sharply below $19,000. It is currently (03:10 UTC) showing bearish signs, but it is testing a major support at $18,500. Similarly, most major altcoins started a steady decline. ETH broke the $1,300 support and declined to $1,265. XRP is down over 10% and trading near the $0.42 support. ADA might move towards the $0.42 support zone....Read More: Bitcoin Price and Ethereum Reverse Sharply, Key Support Nearby ... [| Skaityti daugiau](https://cryptonews.com/news/bitcoin-price-ethereum-reverse-sharply-key-support-nearby.htm) "
      ],
      "text/plain": [
       "<IPython.core.display.Markdown object>"
      ]
     },
     "execution_count": 7,
     "metadata": {},
     "output_type": "execute_result"
    }
   ],
   "source": [
    "#hide_input\n",
    "#md('##### {}'.format(titleBTC)) \n",
    "md(\"- {}{} {}{} [| Skaityti daugiau]({}) \".format(eth['title'],'. ', eth['body'], ' ...', eth['url']))"
   ]
  },
  {
   "cell_type": "code",
   "execution_count": 8,
   "id": "sublime-lounge",
   "metadata": {
    "execution": {
     "iopub.execute_input": "2022-09-28T03:44:06.988665Z",
     "iopub.status.busy": "2022-09-28T03:44:06.987898Z",
     "iopub.status.idle": "2022-09-28T03:44:06.992773Z",
     "shell.execute_reply": "2022-09-28T03:44:06.992220Z"
    },
    "papermill": {
     "duration": 0.022747,
     "end_time": "2022-09-28T03:44:06.992889",
     "exception": false,
     "start_time": "2022-09-28T03:44:06.970142",
     "status": "completed"
    },
    "tags": []
   },
   "outputs": [
    {
     "data": {
      "text/markdown": [
       "- Bitcoin Price and Ethereum Reverse Sharply, Key Support Nearby.  Bitcoin price attempted a strong increase above the $20,000 resistance zone. BTC failed and declined sharply below $19,000. It is currently (03:10 UTC) showing bearish signs, but it is testing a major support at $18,500. Similarly, most major altcoins started a steady decline. ETH broke the $1,300 support and declined to $1,265. XRP is down over 10% and trading near the $0.42 support. ADA might move towards the $0.42 support zone....Read More: Bitcoin Price and Ethereum Reverse Sharply, Key Support Nearby ... [| Skaityti daugiau](https://cryptonews.com/news/bitcoin-price-ethereum-reverse-sharply-key-support-nearby.htm) "
      ],
      "text/plain": [
       "<IPython.core.display.Markdown object>"
      ]
     },
     "execution_count": 8,
     "metadata": {},
     "output_type": "execute_result"
    }
   ],
   "source": [
    "#hide_input\n",
    "#md('##### {}'.format(titleBTC)) \n",
    "md(\"- {}{} {}{} [| Skaityti daugiau]({}) \".format(ada['title'],'. ', ada['body'], ' ...', ada['url']))"
   ]
  },
  {
   "cell_type": "code",
   "execution_count": 9,
   "id": "specified-ordering",
   "metadata": {
    "execution": {
     "iopub.execute_input": "2022-09-28T03:44:07.025051Z",
     "iopub.status.busy": "2022-09-28T03:44:07.024335Z",
     "iopub.status.idle": "2022-09-28T03:44:07.028598Z",
     "shell.execute_reply": "2022-09-28T03:44:07.028053Z"
    },
    "papermill": {
     "duration": 0.022799,
     "end_time": "2022-09-28T03:44:07.028712",
     "exception": false,
     "start_time": "2022-09-28T03:44:07.005913",
     "status": "completed"
    },
    "tags": []
   },
   "outputs": [
    {
     "data": {
      "text/markdown": [
       "- California financial watchdog takes aim at 11 crypto firms allegedly operating like Ponzi schemes.  California's financial regulator has issued desist and refrain orders against 11 crypto-focused firms Tuesday for allegedly breaching state securities laws. All of the companies \"allegedly offered and sold unqualified securities and ten of them also made material misrepresentations and omissions to investors,\" the California Department of Financial Protection and Innovation (\"DFPI\") said in a release. \"The entities are all alleged to have used investor funds to pay purported profits to other investors, in the manner of a Ponzi scheme,\" the watchdog said. \"Furthermore, each of the entities had a referral program that operated in the manner of a pyramid scheme.\"Ultimately, all of the companies promised investors commissions as an incentive for them to recruit an ever-increasing number of new investors. Some of those entities, which are \"classic examples of high yield investment programs,\" featured Elevate Pass, a crypto advertising and trading platform, Metafiyielders, a decentralized finance platform and Sytrex Trade, a crypto and forex trading platform, the DFPI said. The enforcement actions come as regulators (not just in the U.S.) aim to clamp down on illicit activities within the emerging crypto space to safeguard consumers. For instance, the Securities and Exchange Commission recently sued Dragonchain for its role in unregistered crypto asset securities offerings. Elevate Pass nor Metafiyielders did not immediately respond... ... [| Skaityti daugiau](https://seekingalpha.com/news/3886561-california-financial-watchdog-takes-aim-at-11-crypto-firms-allegedly-operating-like-ponzi-schemes?utm_source=cryptocompare.com&utm_medium=referral) "
      ],
      "text/plain": [
       "<IPython.core.display.Markdown object>"
      ]
     },
     "execution_count": 9,
     "metadata": {},
     "output_type": "execute_result"
    }
   ],
   "source": [
    "#hide_input\n",
    "#md('##### {}'.format(titleBTC)) \n",
    "md(\"- {}{} {}{} [| Skaityti daugiau]({}) \".format(exchange['title'],'. ', exchange['body'], ' ...', exchange['url']))"
   ]
  },
  {
   "cell_type": "code",
   "execution_count": null,
   "id": "tender-livestock",
   "metadata": {
    "papermill": {
     "duration": 0.015365,
     "end_time": "2022-09-28T03:44:07.057016",
     "exception": false,
     "start_time": "2022-09-28T03:44:07.041651",
     "status": "completed"
    },
    "tags": []
   },
   "outputs": [],
   "source": []
  },
  {
   "cell_type": "code",
   "execution_count": null,
   "id": "appreciated-diamond",
   "metadata": {
    "papermill": {
     "duration": 0.012658,
     "end_time": "2022-09-28T03:44:07.083731",
     "exception": false,
     "start_time": "2022-09-28T03:44:07.071073",
     "status": "completed"
    },
    "tags": []
   },
   "outputs": [],
   "source": []
  },
  {
   "cell_type": "code",
   "execution_count": null,
   "id": "romance-sweden",
   "metadata": {
    "papermill": {
     "duration": 0.013708,
     "end_time": "2022-09-28T03:44:07.112137",
     "exception": false,
     "start_time": "2022-09-28T03:44:07.098429",
     "status": "completed"
    },
    "tags": []
   },
   "outputs": [],
   "source": []
  },
  {
   "cell_type": "code",
   "execution_count": null,
   "id": "dietary-statistics",
   "metadata": {
    "papermill": {
     "duration": 0.013339,
     "end_time": "2022-09-28T03:44:07.139778",
     "exception": false,
     "start_time": "2022-09-28T03:44:07.126439",
     "status": "completed"
    },
    "tags": []
   },
   "outputs": [],
   "source": []
  }
 ],
 "metadata": {
  "kernelspec": {
   "display_name": "Python 3",
   "language": "python",
   "name": "python3"
  },
  "language_info": {
   "codemirror_mode": {
    "name": "ipython",
    "version": 3
   },
   "file_extension": ".py",
   "mimetype": "text/x-python",
   "name": "python",
   "nbconvert_exporter": "python",
   "pygments_lexer": "ipython3",
   "version": "3.6.15"
  },
  "papermill": {
   "default_parameters": {},
   "duration": 15.363194,
   "end_time": "2022-09-28T03:44:07.674929",
   "environment_variables": {},
   "exception": null,
   "input_path": "Market-News.ipynb",
   "output_path": "Market-News.ipynb",
   "parameters": {},
   "start_time": "2022-09-28T03:43:52.311735",
   "version": "2.2.2"
  }
 },
 "nbformat": 4,
 "nbformat_minor": 5
}