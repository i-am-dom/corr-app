{
 "cells": [
  {
   "cell_type": "markdown",
   "id": "short-greensboro",
   "metadata": {
    "papermill": {
     "duration": 0.013291,
     "end_time": "2022-07-17T03:16:49.660323",
     "exception": false,
     "start_time": "2022-07-17T03:16:49.647032",
     "status": "completed"
    },
    "tags": []
   },
   "source": [
    "# Kriptovaliutų naujienos"
   ]
  },
  {
   "cell_type": "code",
   "execution_count": 1,
   "id": "functioning-knowing",
   "metadata": {
    "execution": {
     "iopub.execute_input": "2022-07-17T03:16:49.689264Z",
     "iopub.status.busy": "2022-07-17T03:16:49.687163Z",
     "iopub.status.idle": "2022-07-17T03:16:50.832084Z",
     "shell.execute_reply": "2022-07-17T03:16:50.831604Z"
    },
    "papermill": {
     "duration": 1.16183,
     "end_time": "2022-07-17T03:16:50.832205",
     "exception": false,
     "start_time": "2022-07-17T03:16:49.670375",
     "status": "completed"
    },
    "tags": []
   },
   "outputs": [],
   "source": [
    "#hide_input\n",
    "import warnings\n",
    "warnings.filterwarnings('ignore')\n",
    "from scripts.read_data import read_api\n",
    "from scripts.read_data import read_news\n",
    "from scripts.read_data import read_covid\n",
    "import matplotlib.pyplot as plt \n",
    "from IPython.display import Markdown as md"
   ]
  },
  {
   "cell_type": "code",
   "execution_count": 2,
   "id": "shared-acceptance",
   "metadata": {
    "execution": {
     "iopub.execute_input": "2022-07-17T03:16:50.857498Z",
     "iopub.status.busy": "2022-07-17T03:16:50.856555Z",
     "iopub.status.idle": "2022-07-17T03:17:05.741625Z",
     "shell.execute_reply": "2022-07-17T03:17:05.740686Z"
    },
    "papermill": {
     "duration": 14.899878,
     "end_time": "2022-07-17T03:17:05.741750",
     "exception": false,
     "start_time": "2022-07-17T03:16:50.841872",
     "status": "completed"
    },
    "tags": []
   },
   "outputs": [],
   "source": [
    "#hide_input\n",
    "blockchain = read_news('blockchain') \n",
    "btc = read_news('btc') \n",
    "xrp = read_news('xrp') \n",
    "trx = read_news('trx') \n",
    "eth = read_news('eth')  \n",
    "ada = read_news('ada')\n",
    "exchange = read_news('exchange') "
   ]
  },
  {
   "cell_type": "code",
   "execution_count": 3,
   "id": "synthetic-notion",
   "metadata": {
    "execution": {
     "iopub.execute_input": "2022-07-17T03:17:05.766859Z",
     "iopub.status.busy": "2022-07-17T03:17:05.766217Z",
     "iopub.status.idle": "2022-07-17T03:17:05.769624Z",
     "shell.execute_reply": "2022-07-17T03:17:05.769120Z"
    },
    "papermill": {
     "duration": 0.018315,
     "end_time": "2022-07-17T03:17:05.769723",
     "exception": false,
     "start_time": "2022-07-17T03:17:05.751408",
     "status": "completed"
    },
    "tags": []
   },
   "outputs": [
    {
     "data": {
      "text/markdown": [
       "- Prominent Automobile Manufacturer ‘KIA’ Unveils New NFT Collection.  A 30-second advertisement will be shown during the TV campaign. There will be 10,100 Kia-themed goods in the marketing campaign ... [| Skaityti daugiau](https://thenewscrypto.com/prominent-automobile-manufacturer-kia-unveils-new-nft-collection/) "
      ],
      "text/plain": [
       "<IPython.core.display.Markdown object>"
      ]
     },
     "execution_count": 3,
     "metadata": {},
     "output_type": "execute_result"
    }
   ],
   "source": [
    "#hide_input\n",
    "#md('##### {}'.format(titleBTC)) \n",
    "md(\"- {}{} {}{} [| Skaityti daugiau]({}) \".format(blockchain['title'],'. ', blockchain['body'], ' ...', blockchain['url']))"
   ]
  },
  {
   "cell_type": "code",
   "execution_count": 4,
   "id": "aging-caution",
   "metadata": {
    "execution": {
     "iopub.execute_input": "2022-07-17T03:17:05.794381Z",
     "iopub.status.busy": "2022-07-17T03:17:05.793788Z",
     "iopub.status.idle": "2022-07-17T03:17:05.797162Z",
     "shell.execute_reply": "2022-07-17T03:17:05.796674Z"
    },
    "papermill": {
     "duration": 0.017125,
     "end_time": "2022-07-17T03:17:05.797256",
     "exception": false,
     "start_time": "2022-07-17T03:17:05.780131",
     "status": "completed"
    },
    "tags": []
   },
   "outputs": [
    {
     "data": {
      "text/markdown": [
       "- Bitcoin, Ethereum, ApeCoin, and Hedera Hashgraph Daily Price Analyses – 16 July Roundup.  The changes in the global crypto market are positive as the investors have pushed it enough. These changes have helped Bitcoin and altcoins regain value as there is a dominant trend of gains. The increase in the value of gains has helped revive the receding coins, thus benefitting the investor. The sellers&#8217; confidence decreases as &#8230;  Bitcoin, Ethereum, ApeCoin, and Hedera Hashgraph Daily Price Analyses – 16 July Roundup Read More &#187; ... [| Skaityti daugiau](https://www.cryptopolitan.com/bitcoin-ethereum-apecoin-and-hedera-hashgraph-daily-price-analyses-16-july-roundup/) "
      ],
      "text/plain": [
       "<IPython.core.display.Markdown object>"
      ]
     },
     "execution_count": 4,
     "metadata": {},
     "output_type": "execute_result"
    }
   ],
   "source": [
    "#hide_input\n",
    "#md('##### {}'.format(titleBTC)) \n",
    "md(\"- {}{} {}{} [| Skaityti daugiau]({}) \".format(btc['title'],'. ', btc['body'], ' ...', btc['url']))"
   ]
  },
  {
   "cell_type": "code",
   "execution_count": 5,
   "id": "organic-actress",
   "metadata": {
    "execution": {
     "iopub.execute_input": "2022-07-17T03:17:05.822257Z",
     "iopub.status.busy": "2022-07-17T03:17:05.821694Z",
     "iopub.status.idle": "2022-07-17T03:17:05.824989Z",
     "shell.execute_reply": "2022-07-17T03:17:05.824533Z"
    },
    "papermill": {
     "duration": 0.017883,
     "end_time": "2022-07-17T03:17:05.825085",
     "exception": false,
     "start_time": "2022-07-17T03:17:05.807202",
     "status": "completed"
    },
    "tags": []
   },
   "outputs": [
    {
     "data": {
      "text/markdown": [
       "- Analyzing XRP’s dismaying performance despite a surge in its trading volume.  Ripple’s XRP closed the week with an interesting jump in its trading volume in the final trading hours of 15 July. As per data from Santiment, the token registered a surge of up to 18.7 billion in its trading volume. Interestingly, despite the late uptick in trading volume on the 24-hour chart, the performance of the [&#8230;] ... [| Skaityti daugiau](https://ambcrypto.com/analyzing-xrps-dismaying-performance-despite-a-surge-in-its-trading-volume/) "
      ],
      "text/plain": [
       "<IPython.core.display.Markdown object>"
      ]
     },
     "execution_count": 5,
     "metadata": {},
     "output_type": "execute_result"
    }
   ],
   "source": [
    "#hide_input\n",
    "#md('##### {}'.format(titleBTC)) \n",
    "md(\"- {}{} {}{} [| Skaityti daugiau]({}) \".format(xrp['title'],'. ', xrp['body'], ' ...', xrp['url']))"
   ]
  },
  {
   "cell_type": "code",
   "execution_count": 6,
   "id": "prompt-farmer",
   "metadata": {
    "execution": {
     "iopub.execute_input": "2022-07-17T03:17:05.849576Z",
     "iopub.status.busy": "2022-07-17T03:17:05.848806Z",
     "iopub.status.idle": "2022-07-17T03:17:05.852555Z",
     "shell.execute_reply": "2022-07-17T03:17:05.852992Z"
    },
    "papermill": {
     "duration": 0.017756,
     "end_time": "2022-07-17T03:17:05.853101",
     "exception": false,
     "start_time": "2022-07-17T03:17:05.835345",
     "status": "completed"
    },
    "tags": []
   },
   "outputs": [
    {
     "data": {
      "text/markdown": [
       "- How Avalanche (AVAX) and Tron (TRX) will be overtaken by Degrain (DGRN).  The post How Avalanche (AVAX) and Tron (TRX) will be overtaken by Degrain (DGRN) appeared first on Coinpedia - Fintech &amp; Cryptocurreny News Media| Crypto GuideThe last three months have been turbulent for cryptocurrency, with prices falling and investors hesitant to put money into projects. In this article, we&#8217;ll examine three coins that, in 2022, have the potential to increase in value. Since 2020 during COVID-19, when the entire market cap of all cryptocurrencies was less than $1 trillion, this &#8230; ... [| Skaityti daugiau](https://coinpedia.org/press-release/how-avalanche-avax-and-tron-trx-will-be-overtaken-by-degrain-dgrn/) "
      ],
      "text/plain": [
       "<IPython.core.display.Markdown object>"
      ]
     },
     "execution_count": 6,
     "metadata": {},
     "output_type": "execute_result"
    }
   ],
   "source": [
    "#hide_input\n",
    "#md('##### {}'.format(titleBTC)) \n",
    "md(\"- {}{} {}{} [| Skaityti daugiau]({}) \".format(trx['title'],'. ', trx['body'], ' ...', trx['url']))"
   ]
  },
  {
   "cell_type": "code",
   "execution_count": 7,
   "id": "illegal-greece",
   "metadata": {
    "execution": {
     "iopub.execute_input": "2022-07-17T03:17:05.880034Z",
     "iopub.status.busy": "2022-07-17T03:17:05.879460Z",
     "iopub.status.idle": "2022-07-17T03:17:05.882616Z",
     "shell.execute_reply": "2022-07-17T03:17:05.882158Z"
    },
    "papermill": {
     "duration": 0.018858,
     "end_time": "2022-07-17T03:17:05.882711",
     "exception": false,
     "start_time": "2022-07-17T03:17:05.863853",
     "status": "completed"
    },
    "tags": []
   },
   "outputs": [
    {
     "data": {
      "text/markdown": [
       "- Bitcoin, Ethereum, ApeCoin, and Hedera Hashgraph Daily Price Analyses – 16 July Roundup.  The changes in the global crypto market are positive as the investors have pushed it enough. These changes have helped Bitcoin and altcoins regain value as there is a dominant trend of gains. The increase in the value of gains has helped revive the receding coins, thus benefitting the investor. The sellers&#8217; confidence decreases as &#8230;  Bitcoin, Ethereum, ApeCoin, and Hedera Hashgraph Daily Price Analyses – 16 July Roundup Read More &#187; ... [| Skaityti daugiau](https://www.cryptopolitan.com/bitcoin-ethereum-apecoin-and-hedera-hashgraph-daily-price-analyses-16-july-roundup/) "
      ],
      "text/plain": [
       "<IPython.core.display.Markdown object>"
      ]
     },
     "execution_count": 7,
     "metadata": {},
     "output_type": "execute_result"
    }
   ],
   "source": [
    "#hide_input\n",
    "#md('##### {}'.format(titleBTC)) \n",
    "md(\"- {}{} {}{} [| Skaityti daugiau]({}) \".format(eth['title'],'. ', eth['body'], ' ...', eth['url']))"
   ]
  },
  {
   "cell_type": "code",
   "execution_count": 8,
   "id": "sublime-lounge",
   "metadata": {
    "execution": {
     "iopub.execute_input": "2022-07-17T03:17:05.908459Z",
     "iopub.status.busy": "2022-07-17T03:17:05.907687Z",
     "iopub.status.idle": "2022-07-17T03:17:05.911354Z",
     "shell.execute_reply": "2022-07-17T03:17:05.911788Z"
    },
    "papermill": {
     "duration": 0.018219,
     "end_time": "2022-07-17T03:17:05.911897",
     "exception": false,
     "start_time": "2022-07-17T03:17:05.893678",
     "status": "completed"
    },
    "tags": []
   },
   "outputs": [
    {
     "data": {
      "text/markdown": [
       "- Cardano price analysis: ADA abruptly finishes consolidation, spikes to $0.46.  Cardano price analysis is bearish today as we have seen further upside tested earlier today. ADA/USD has now reached the next resistance at $0.46, indicating that another retest of the downside is due next. The market has traded in the green over the last 24 hours. The leader, Bitcoin, gained 1.9 percent, while Ethereum by &#8230;  Cardano price analysis: ADA abruptly finishes consolidation, spikes to $0.46 Read More &#187; ... [| Skaityti daugiau](https://www.cryptopolitan.com/cardano-price-analysis-2022-07-16/) "
      ],
      "text/plain": [
       "<IPython.core.display.Markdown object>"
      ]
     },
     "execution_count": 8,
     "metadata": {},
     "output_type": "execute_result"
    }
   ],
   "source": [
    "#hide_input\n",
    "#md('##### {}'.format(titleBTC)) \n",
    "md(\"- {}{} {}{} [| Skaityti daugiau]({}) \".format(ada['title'],'. ', ada['body'], ' ...', ada['url']))"
   ]
  },
  {
   "cell_type": "code",
   "execution_count": 9,
   "id": "specified-ordering",
   "metadata": {
    "execution": {
     "iopub.execute_input": "2022-07-17T03:17:05.937943Z",
     "iopub.status.busy": "2022-07-17T03:17:05.937258Z",
     "iopub.status.idle": "2022-07-17T03:17:05.941335Z",
     "shell.execute_reply": "2022-07-17T03:17:05.940881Z"
    },
    "papermill": {
     "duration": 0.018295,
     "end_time": "2022-07-17T03:17:05.941431",
     "exception": false,
     "start_time": "2022-07-17T03:17:05.923136",
     "status": "completed"
    },
    "tags": []
   },
   "outputs": [
    {
     "data": {
      "text/markdown": [
       "- India Calls on G20 to Bring Crypto Within Global ‘Automatic Exchange of Information’ Framework.  India&#x2019;s finance minister has called on the G20 countries to bring crypto within the &#x201C;Automatic Exchange of Information&#x201D; framework. More than 100 countries have adopted the Common Reporting Standard under the framework. G20 Urged to Bring Crypto Under Automatic Exchange of Information India&#x2019;s finance minister, Nirmala Sitharaman, talked about cryptocurrency Friday during the G20 Ministerial [&#8230;] ... [| Skaityti daugiau](https://news.bitcoin.com/india-calls-on-g20-to-bring-crypto-within-global-automatic-exchange-of-information-framework/) "
      ],
      "text/plain": [
       "<IPython.core.display.Markdown object>"
      ]
     },
     "execution_count": 9,
     "metadata": {},
     "output_type": "execute_result"
    }
   ],
   "source": [
    "#hide_input\n",
    "#md('##### {}'.format(titleBTC)) \n",
    "md(\"- {}{} {}{} [| Skaityti daugiau]({}) \".format(exchange['title'],'. ', exchange['body'], ' ...', exchange['url']))"
   ]
  },
  {
   "cell_type": "code",
   "execution_count": null,
   "id": "tender-livestock",
   "metadata": {
    "papermill": {
     "duration": 0.011545,
     "end_time": "2022-07-17T03:17:05.964662",
     "exception": false,
     "start_time": "2022-07-17T03:17:05.953117",
     "status": "completed"
    },
    "tags": []
   },
   "outputs": [],
   "source": []
  },
  {
   "cell_type": "code",
   "execution_count": null,
   "id": "appreciated-diamond",
   "metadata": {
    "papermill": {
     "duration": 0.011681,
     "end_time": "2022-07-17T03:17:05.988065",
     "exception": false,
     "start_time": "2022-07-17T03:17:05.976384",
     "status": "completed"
    },
    "tags": []
   },
   "outputs": [],
   "source": []
  },
  {
   "cell_type": "code",
   "execution_count": null,
   "id": "romance-sweden",
   "metadata": {
    "papermill": {
     "duration": 0.01189,
     "end_time": "2022-07-17T03:17:06.011560",
     "exception": false,
     "start_time": "2022-07-17T03:17:05.999670",
     "status": "completed"
    },
    "tags": []
   },
   "outputs": [],
   "source": []
  },
  {
   "cell_type": "code",
   "execution_count": null,
   "id": "dietary-statistics",
   "metadata": {
    "papermill": {
     "duration": 0.0115,
     "end_time": "2022-07-17T03:17:06.034609",
     "exception": false,
     "start_time": "2022-07-17T03:17:06.023109",
     "status": "completed"
    },
    "tags": []
   },
   "outputs": [],
   "source": []
  }
 ],
 "metadata": {
  "kernelspec": {
   "display_name": "Python 3",
   "language": "python",
   "name": "python3"
  },
  "language_info": {
   "codemirror_mode": {
    "name": "ipython",
    "version": 3
   },
   "file_extension": ".py",
   "mimetype": "text/x-python",
   "name": "python",
   "nbconvert_exporter": "python",
   "pygments_lexer": "ipython3",
   "version": "3.6.15"
  },
  "papermill": {
   "default_parameters": {},
   "duration": 17.723827,
   "end_time": "2022-07-17T03:17:06.463922",
   "environment_variables": {},
   "exception": null,
   "input_path": "Market-News.ipynb",
   "output_path": "Market-News.ipynb",
   "parameters": {},
   "start_time": "2022-07-17T03:16:48.740095",
   "version": "2.2.2"
  }
 },
 "nbformat": 4,
 "nbformat_minor": 5
}