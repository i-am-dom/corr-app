{
 "cells": [
  {
   "cell_type": "markdown",
   "id": "short-greensboro",
   "metadata": {
    "papermill": {
     "duration": 0.018758,
     "end_time": "2022-06-07T02:59:04.934141",
     "exception": false,
     "start_time": "2022-06-07T02:59:04.915383",
     "status": "completed"
    },
    "tags": []
   },
   "source": [
    "# Kriptovaliutų naujienos"
   ]
  },
  {
   "cell_type": "code",
   "execution_count": 1,
   "id": "functioning-knowing",
   "metadata": {
    "execution": {
     "iopub.execute_input": "2022-06-07T02:59:04.969493Z",
     "iopub.status.busy": "2022-06-07T02:59:04.968756Z",
     "iopub.status.idle": "2022-06-07T02:59:06.396456Z",
     "shell.execute_reply": "2022-06-07T02:59:06.397458Z"
    },
    "papermill": {
     "duration": 1.451758,
     "end_time": "2022-06-07T02:59:06.397666",
     "exception": false,
     "start_time": "2022-06-07T02:59:04.945908",
     "status": "completed"
    },
    "tags": []
   },
   "outputs": [],
   "source": [
    "#hide_input\n",
    "import warnings\n",
    "warnings.filterwarnings('ignore')\n",
    "from scripts.read_data import read_api\n",
    "from scripts.read_data import read_news\n",
    "from scripts.read_data import read_covid\n",
    "import matplotlib.pyplot as plt \n",
    "from IPython.display import Markdown as md"
   ]
  },
  {
   "cell_type": "code",
   "execution_count": 2,
   "id": "shared-acceptance",
   "metadata": {
    "execution": {
     "iopub.execute_input": "2022-06-07T02:59:06.425913Z",
     "iopub.status.busy": "2022-06-07T02:59:06.424836Z",
     "iopub.status.idle": "2022-06-07T02:59:15.991783Z",
     "shell.execute_reply": "2022-06-07T02:59:15.991136Z"
    },
    "papermill": {
     "duration": 9.583838,
     "end_time": "2022-06-07T02:59:15.991935",
     "exception": false,
     "start_time": "2022-06-07T02:59:06.408097",
     "status": "completed"
    },
    "tags": []
   },
   "outputs": [],
   "source": [
    "#hide_input\n",
    "blockchain = read_news('blockchain') \n",
    "btc = read_news('btc') \n",
    "xrp = read_news('xrp') \n",
    "trx = read_news('trx') \n",
    "eth = read_news('eth')  \n",
    "ada = read_news('ada')\n",
    "exchange = read_news('exchange') "
   ]
  },
  {
   "cell_type": "code",
   "execution_count": 3,
   "id": "synthetic-notion",
   "metadata": {
    "execution": {
     "iopub.execute_input": "2022-06-07T02:59:16.021920Z",
     "iopub.status.busy": "2022-06-07T02:59:16.021050Z",
     "iopub.status.idle": "2022-06-07T02:59:16.024016Z",
     "shell.execute_reply": "2022-06-07T02:59:16.024636Z"
    },
    "papermill": {
     "duration": 0.022544,
     "end_time": "2022-06-07T02:59:16.025042",
     "exception": false,
     "start_time": "2022-06-07T02:59:16.002498",
     "status": "completed"
    },
    "tags": []
   },
   "outputs": [
    {
     "data": {
      "text/markdown": [
       "- Top 5 Projects to Launch on Terra 2.0 (LUNA).  Many decentralized apps from the traditional chain would need to relaunch on the new one following the introduction of Terra&#8217;s new blockchain by the Terra Team. The launch has already received widespread backing from centralized exchanges and service providers. Huobi, Binance, KuCoin, Bitrue, FTX, Bitfinex, GateIO, ByBit, Nexo, and more platforms are among them. Many [&#8230;]The post Top 5 Projects to Launch on Terra 2.0 (LUNA) appeared first on NullTX. ... [| Skaityti daugiau](https://nulltx.com/top-5-projects-to-launch-on-terra-2-0-luna/) "
      ],
      "text/plain": [
       "<IPython.core.display.Markdown object>"
      ]
     },
     "execution_count": 3,
     "metadata": {},
     "output_type": "execute_result"
    }
   ],
   "source": [
    "#hide_input\n",
    "#md('##### {}'.format(titleBTC)) \n",
    "md(\"- {}{} {}{} [| Skaityti daugiau]({}) \".format(blockchain['title'],'. ', blockchain['body'], ' ...', blockchain['url']))"
   ]
  },
  {
   "cell_type": "code",
   "execution_count": 4,
   "id": "aging-caution",
   "metadata": {
    "execution": {
     "iopub.execute_input": "2022-06-07T02:59:16.060460Z",
     "iopub.status.busy": "2022-06-07T02:59:16.059141Z",
     "iopub.status.idle": "2022-06-07T02:59:16.062574Z",
     "shell.execute_reply": "2022-06-07T02:59:16.063096Z"
    },
    "papermill": {
     "duration": 0.024252,
     "end_time": "2022-06-07T02:59:16.063276",
     "exception": false,
     "start_time": "2022-06-07T02:59:16.039024",
     "status": "completed"
    },
    "tags": []
   },
   "outputs": [
    {
     "data": {
      "text/markdown": [
       "- Bitcoin, Ethereum, Tezos, and ApeCoin Daily Price Analyses – 6 June Roundup.  The performance of the global crypto market has continued to lower as the market changed its direction. The performance of Bitcoin changed as the market wasn’t able to continue bullish. The changes suggest that the market might go further into lows. The performance of other coins hasn’t been any better as the overall market suffers.... ... [| Skaityti daugiau](https://www.cryptopolitan.com/bitcoin-ethereum-tezos-and-apecoin-daily-price-analyses-6-june-roundup/) "
      ],
      "text/plain": [
       "<IPython.core.display.Markdown object>"
      ]
     },
     "execution_count": 4,
     "metadata": {},
     "output_type": "execute_result"
    }
   ],
   "source": [
    "#hide_input\n",
    "#md('##### {}'.format(titleBTC)) \n",
    "md(\"- {}{} {}{} [| Skaityti daugiau]({}) \".format(btc['title'],'. ', btc['body'], ' ...', btc['url']))"
   ]
  },
  {
   "cell_type": "code",
   "execution_count": 5,
   "id": "organic-actress",
   "metadata": {
    "execution": {
     "iopub.execute_input": "2022-06-07T02:59:16.093065Z",
     "iopub.status.busy": "2022-06-07T02:59:16.092327Z",
     "iopub.status.idle": "2022-06-07T02:59:16.095208Z",
     "shell.execute_reply": "2022-06-07T02:59:16.095747Z"
    },
    "papermill": {
     "duration": 0.021396,
     "end_time": "2022-06-07T02:59:16.095904",
     "exception": false,
     "start_time": "2022-06-07T02:59:16.074508",
     "status": "completed"
    },
    "tags": []
   },
   "outputs": [
    {
     "data": {
      "text/markdown": [
       "- Ripple price analysis: Bears dominate market as XRP attempts upswing to $0.51.  Ripple price analysis remains bearish today, as price continues to struggle in moving past the $0.41 cap. XRP has developed a sideways trading pattern with price stagnating around the current price of $0.397. Sellers hold the upper hand in the market currently, however, bulls will need to progress above the $0.51 resistance to form meaningful... ... [| Skaityti daugiau](https://www.cryptopolitan.com/ripple-price-analysis-2022-06-06/) "
      ],
      "text/plain": [
       "<IPython.core.display.Markdown object>"
      ]
     },
     "execution_count": 5,
     "metadata": {},
     "output_type": "execute_result"
    }
   ],
   "source": [
    "#hide_input\n",
    "#md('##### {}'.format(titleBTC)) \n",
    "md(\"- {}{} {}{} [| Skaityti daugiau]({}) \".format(xrp['title'],'. ', xrp['body'], ' ...', xrp['url']))"
   ]
  },
  {
   "cell_type": "code",
   "execution_count": 6,
   "id": "prompt-farmer",
   "metadata": {
    "execution": {
     "iopub.execute_input": "2022-06-07T02:59:16.125452Z",
     "iopub.status.busy": "2022-06-07T02:59:16.124746Z",
     "iopub.status.idle": "2022-06-07T02:59:16.128345Z",
     "shell.execute_reply": "2022-06-07T02:59:16.127665Z"
    },
    "papermill": {
     "duration": 0.020822,
     "end_time": "2022-06-07T02:59:16.128474",
     "exception": false,
     "start_time": "2022-06-07T02:59:16.107652",
     "status": "completed"
    },
    "tags": []
   },
   "outputs": [
    {
     "data": {
      "text/markdown": [
       "- Tron: Amid its recent recovery, is TRX finally ready to breakout of its resistance.  Last week we observed TRX rallying towards its descending resistance line. It turns out that its strong uptick pushed past the line briefly before a bearish retracement by at least 16% in the days that followed. However, the bulls have regained their momentum and are headed for another retest. The question now is will it [&#8230;] ... [| Skaityti daugiau](https://ambcrypto.com/tron-amid-its-recent-recovery-is-trx-finally-ready-to-breakout-of-its-resistance/) "
      ],
      "text/plain": [
       "<IPython.core.display.Markdown object>"
      ]
     },
     "execution_count": 6,
     "metadata": {},
     "output_type": "execute_result"
    }
   ],
   "source": [
    "#hide_input\n",
    "#md('##### {}'.format(titleBTC)) \n",
    "md(\"- {}{} {}{} [| Skaityti daugiau]({}) \".format(trx['title'],'. ', trx['body'], ' ...', trx['url']))"
   ]
  },
  {
   "cell_type": "code",
   "execution_count": 7,
   "id": "illegal-greece",
   "metadata": {
    "execution": {
     "iopub.execute_input": "2022-06-07T02:59:16.158381Z",
     "iopub.status.busy": "2022-06-07T02:59:16.156781Z",
     "iopub.status.idle": "2022-06-07T02:59:16.162234Z",
     "shell.execute_reply": "2022-06-07T02:59:16.162891Z"
    },
    "papermill": {
     "duration": 0.022738,
     "end_time": "2022-06-07T02:59:16.163038",
     "exception": false,
     "start_time": "2022-06-07T02:59:16.140300",
     "status": "completed"
    },
    "tags": []
   },
   "outputs": [
    {
     "data": {
      "text/markdown": [
       "- Bitcoin, Ethereum, Tezos, and ApeCoin Daily Price Analyses – 6 June Roundup.  The performance of the global crypto market has continued to lower as the market changed its direction. The performance of Bitcoin changed as the market wasn’t able to continue bullish. The changes suggest that the market might go further into lows. The performance of other coins hasn’t been any better as the overall market suffers.... ... [| Skaityti daugiau](https://www.cryptopolitan.com/bitcoin-ethereum-tezos-and-apecoin-daily-price-analyses-6-june-roundup/) "
      ],
      "text/plain": [
       "<IPython.core.display.Markdown object>"
      ]
     },
     "execution_count": 7,
     "metadata": {},
     "output_type": "execute_result"
    }
   ],
   "source": [
    "#hide_input\n",
    "#md('##### {}'.format(titleBTC)) \n",
    "md(\"- {}{} {}{} [| Skaityti daugiau]({}) \".format(eth['title'],'. ', eth['body'], ' ...', eth['url']))"
   ]
  },
  {
   "cell_type": "code",
   "execution_count": 8,
   "id": "sublime-lounge",
   "metadata": {
    "execution": {
     "iopub.execute_input": "2022-06-07T02:59:16.194062Z",
     "iopub.status.busy": "2022-06-07T02:59:16.193371Z",
     "iopub.status.idle": "2022-06-07T02:59:16.196839Z",
     "shell.execute_reply": "2022-06-07T02:59:16.197369Z"
    },
    "papermill": {
     "duration": 0.022694,
     "end_time": "2022-06-07T02:59:16.197522",
     "exception": false,
     "start_time": "2022-06-07T02:59:16.174828",
     "status": "completed"
    },
    "tags": []
   },
   "outputs": [
    {
     "data": {
      "text/markdown": [
       "- Cardano (ADA) Seems To Have Gained Its Bullish Streak Again, What’s Next?.  Cardano (ADA) has been one of the top gainers in the last 24 hours. Price of asset has pictured a bullish action on the daily chart. The bulls have regained strength and has continued to move past other resistance marks. The major resistance mark for the coin now rests above the $0.60 level. After the coin manages to trade above the aforementioned price level for the upcoming trading sessions, the bulls will find a strong footing. If ADA fails to cross above the $0.64 crucial resistance mark then the coin can again fall back to the $0.50 support level. With Bitcoin moving past the $30,000 price level, it is natural that other major altcoins has reflected on the same price action. The global cryptocurrency market cap today was $1.33 Trillion with a 3.8% positive change in the last 24 hours. Cardano Price Analysis: One Day Chart ADA was exchanging hands at $0.60 after registering over 8% gains in the last 24 hours. The crucial resistance for the coin awaited at $0.64. A fall from the $0.60 price mark would push Cardano to $0.50. In the last week, the coin secured double digit gains. It logged close to a 27% appreciation in its price. With positive price action, buyers seem to have returned to the market. Consistent buying strength will help bulls maintain their vigour. The volume bars displayed growth in the past trading session. The bar was green which indicated that ADA&#8217;s bullish leg was possibly back. Technical Analysis... ... [| Skaityti daugiau](https://www.newsbtc.com/news/cardano-ada-seems-to-have-gained-its-bullish-streak-again-whats-next/) "
      ],
      "text/plain": [
       "<IPython.core.display.Markdown object>"
      ]
     },
     "execution_count": 8,
     "metadata": {},
     "output_type": "execute_result"
    }
   ],
   "source": [
    "#hide_input\n",
    "#md('##### {}'.format(titleBTC)) \n",
    "md(\"- {}{} {}{} [| Skaityti daugiau]({}) \".format(ada['title'],'. ', ada['body'], ' ...', ada['url']))"
   ]
  },
  {
   "cell_type": "code",
   "execution_count": 9,
   "id": "specified-ordering",
   "metadata": {
    "execution": {
     "iopub.execute_input": "2022-06-07T02:59:16.230125Z",
     "iopub.status.busy": "2022-06-07T02:59:16.229423Z",
     "iopub.status.idle": "2022-06-07T02:59:16.233573Z",
     "shell.execute_reply": "2022-06-07T02:59:16.234223Z"
    },
    "papermill": {
     "duration": 0.023282,
     "end_time": "2022-06-07T02:59:16.234367",
     "exception": false,
     "start_time": "2022-06-07T02:59:16.211085",
     "status": "completed"
    },
    "tags": []
   },
   "outputs": [
    {
     "data": {
      "text/markdown": [
       "- Binance Under SEC Investigation Over its 2017 ICO Listing: Report.  The investigation comes amid a separate report by Reuters alleging Binance facilitated $2.35 billion in illicit funds between 2017 and 2020.The post Binance Under SEC Investigation Over its 2017 ICO Listing: Report appeared first on Blockworks. ... [| Skaityti daugiau](https://blockworks.co/binance-under-sec-investigation-over-its-2017-ico-listing-report/) "
      ],
      "text/plain": [
       "<IPython.core.display.Markdown object>"
      ]
     },
     "execution_count": 9,
     "metadata": {},
     "output_type": "execute_result"
    }
   ],
   "source": [
    "#hide_input\n",
    "#md('##### {}'.format(titleBTC)) \n",
    "md(\"- {}{} {}{} [| Skaityti daugiau]({}) \".format(exchange['title'],'. ', exchange['body'], ' ...', exchange['url']))"
   ]
  },
  {
   "cell_type": "code",
   "execution_count": null,
   "id": "tender-livestock",
   "metadata": {
    "papermill": {
     "duration": 0.01248,
     "end_time": "2022-06-07T02:59:16.259711",
     "exception": false,
     "start_time": "2022-06-07T02:59:16.247231",
     "status": "completed"
    },
    "tags": []
   },
   "outputs": [],
   "source": []
  },
  {
   "cell_type": "code",
   "execution_count": null,
   "id": "appreciated-diamond",
   "metadata": {
    "papermill": {
     "duration": 0.012643,
     "end_time": "2022-06-07T02:59:16.284804",
     "exception": false,
     "start_time": "2022-06-07T02:59:16.272161",
     "status": "completed"
    },
    "tags": []
   },
   "outputs": [],
   "source": []
  },
  {
   "cell_type": "code",
   "execution_count": null,
   "id": "romance-sweden",
   "metadata": {
    "papermill": {
     "duration": 0.012837,
     "end_time": "2022-06-07T02:59:16.310269",
     "exception": false,
     "start_time": "2022-06-07T02:59:16.297432",
     "status": "completed"
    },
    "tags": []
   },
   "outputs": [],
   "source": []
  },
  {
   "cell_type": "code",
   "execution_count": null,
   "id": "dietary-statistics",
   "metadata": {
    "papermill": {
     "duration": 0.012768,
     "end_time": "2022-06-07T02:59:16.335888",
     "exception": false,
     "start_time": "2022-06-07T02:59:16.323120",
     "status": "completed"
    },
    "tags": []
   },
   "outputs": [],
   "source": []
  }
 ],
 "metadata": {
  "kernelspec": {
   "display_name": "Python 3",
   "language": "python",
   "name": "python3"
  },
  "language_info": {
   "codemirror_mode": {
    "name": "ipython",
    "version": 3
   },
   "file_extension": ".py",
   "mimetype": "text/x-python",
   "name": "python",
   "nbconvert_exporter": "python",
   "pygments_lexer": "ipython3",
   "version": "3.6.15"
  },
  "papermill": {
   "default_parameters": {},
   "duration": 13.241397,
   "end_time": "2022-06-07T02:59:16.870893",
   "environment_variables": {},
   "exception": null,
   "input_path": "Market-News.ipynb",
   "output_path": "Market-News.ipynb",
   "parameters": {},
   "start_time": "2022-06-07T02:59:03.629496",
   "version": "2.2.2"
  }
 },
 "nbformat": 4,
 "nbformat_minor": 5
}