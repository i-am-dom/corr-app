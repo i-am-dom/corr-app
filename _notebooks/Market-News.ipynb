{
 "cells": [
  {
   "cell_type": "markdown",
   "id": "short-greensboro",
   "metadata": {
    "papermill": {
     "duration": 0.016155,
     "end_time": "2022-09-26T03:53:41.940112",
     "exception": false,
     "start_time": "2022-09-26T03:53:41.923957",
     "status": "completed"
    },
    "tags": []
   },
   "source": [
    "# Kriptovaliutų naujienos"
   ]
  },
  {
   "cell_type": "code",
   "execution_count": 1,
   "id": "functioning-knowing",
   "metadata": {
    "execution": {
     "iopub.execute_input": "2022-09-26T03:53:41.975388Z",
     "iopub.status.busy": "2022-09-26T03:53:41.974672Z",
     "iopub.status.idle": "2022-09-26T03:53:43.437856Z",
     "shell.execute_reply": "2022-09-26T03:53:43.437168Z"
    },
    "papermill": {
     "duration": 1.48587,
     "end_time": "2022-09-26T03:53:43.438017",
     "exception": false,
     "start_time": "2022-09-26T03:53:41.952147",
     "status": "completed"
    },
    "tags": []
   },
   "outputs": [],
   "source": [
    "#hide_input\n",
    "import warnings\n",
    "warnings.filterwarnings('ignore')\n",
    "from scripts.read_data import read_api\n",
    "from scripts.read_data import read_news\n",
    "from scripts.read_data import read_covid\n",
    "import matplotlib.pyplot as plt \n",
    "from IPython.display import Markdown as md"
   ]
  },
  {
   "cell_type": "code",
   "execution_count": 2,
   "id": "shared-acceptance",
   "metadata": {
    "execution": {
     "iopub.execute_input": "2022-09-26T03:53:43.467033Z",
     "iopub.status.busy": "2022-09-26T03:53:43.465854Z",
     "iopub.status.idle": "2022-09-26T03:53:55.281880Z",
     "shell.execute_reply": "2022-09-26T03:53:55.282441Z"
    },
    "papermill": {
     "duration": 11.833637,
     "end_time": "2022-09-26T03:53:55.282617",
     "exception": false,
     "start_time": "2022-09-26T03:53:43.448980",
     "status": "completed"
    },
    "tags": []
   },
   "outputs": [],
   "source": [
    "#hide_input\n",
    "blockchain = read_news('blockchain') \n",
    "btc = read_news('btc') \n",
    "xrp = read_news('xrp') \n",
    "trx = read_news('trx') \n",
    "eth = read_news('eth')  \n",
    "ada = read_news('ada')\n",
    "exchange = read_news('exchange') "
   ]
  },
  {
   "cell_type": "code",
   "execution_count": 3,
   "id": "synthetic-notion",
   "metadata": {
    "execution": {
     "iopub.execute_input": "2022-09-26T03:53:55.311534Z",
     "iopub.status.busy": "2022-09-26T03:53:55.310831Z",
     "iopub.status.idle": "2022-09-26T03:53:55.316019Z",
     "shell.execute_reply": "2022-09-26T03:53:55.316529Z"
    },
    "papermill": {
     "duration": 0.023324,
     "end_time": "2022-09-26T03:53:55.316683",
     "exception": false,
     "start_time": "2022-09-26T03:53:55.293359",
     "status": "completed"
    },
    "tags": []
   },
   "outputs": [
    {
     "data": {
      "text/markdown": [
       "- Here are the growth plans by Kraken’s newly-appointed CEO Ripley.  Despite being aware that he has &#8220;big shoes to fill,&#8221; the new CEO of Kraken, Dave Ripley has put out an ambitious strategy for how the company hopes to manage global regulations, the hurdles it confronts, and how it plans to target retail investors. Kraken has developed into a global digital currency exchange in just [&#8230;]The post Here are the growth plans by Kraken’s newly-appointed CEO Ripley appeared first on Blockchain, Crypto and Stock News. ... [| Skaityti daugiau](https://thecoinrise.com/here-are-the-growth-plans-by-krakens-newly-appointed-ceo-ripley/) "
      ],
      "text/plain": [
       "<IPython.core.display.Markdown object>"
      ]
     },
     "execution_count": 3,
     "metadata": {},
     "output_type": "execute_result"
    }
   ],
   "source": [
    "#hide_input\n",
    "#md('##### {}'.format(titleBTC)) \n",
    "md(\"- {}{} {}{} [| Skaityti daugiau]({}) \".format(blockchain['title'],'. ', blockchain['body'], ' ...', blockchain['url']))"
   ]
  },
  {
   "cell_type": "code",
   "execution_count": 4,
   "id": "aging-caution",
   "metadata": {
    "execution": {
     "iopub.execute_input": "2022-09-26T03:53:55.342910Z",
     "iopub.status.busy": "2022-09-26T03:53:55.341250Z",
     "iopub.status.idle": "2022-09-26T03:53:55.348064Z",
     "shell.execute_reply": "2022-09-26T03:53:55.347493Z"
    },
    "papermill": {
     "duration": 0.020558,
     "end_time": "2022-09-26T03:53:55.348186",
     "exception": false,
     "start_time": "2022-09-26T03:53:55.327628",
     "status": "completed"
    },
    "tags": []
   },
   "outputs": [
    {
     "data": {
      "text/markdown": [
       "- Bitcoin Price and Ethereum Consolidate Despite Broader US Dollar Rally.  Bitcoin price managed to stay above the key $18,500 support. BTC is currently (03:10 UTC) consolidating near the $19,000 level. To start a fresh increase, the bulls need to gain strength for a move above the $19,500 resistance zone. Similarly, most major altcoins are trading in a range. ETH corrected lower, but the bulls were active above $1,250. XRP started trading in a range near the $0.48 level. ADA is now trading below the $0.45 pivot level....Read More: Bitcoin Price and Ethereum Consolidate Despite Broader US Dollar Rally ... [| Skaityti daugiau](https://cryptonews.com/news/bitcoin-price-ethereum-consolidate-despite-broader-us-dollar-rally.htm) "
      ],
      "text/plain": [
       "<IPython.core.display.Markdown object>"
      ]
     },
     "execution_count": 4,
     "metadata": {},
     "output_type": "execute_result"
    }
   ],
   "source": [
    "#hide_input\n",
    "#md('##### {}'.format(titleBTC)) \n",
    "md(\"- {}{} {}{} [| Skaityti daugiau]({}) \".format(btc['title'],'. ', btc['body'], ' ...', btc['url']))"
   ]
  },
  {
   "cell_type": "code",
   "execution_count": 5,
   "id": "organic-actress",
   "metadata": {
    "execution": {
     "iopub.execute_input": "2022-09-26T03:53:55.378711Z",
     "iopub.status.busy": "2022-09-26T03:53:55.377628Z",
     "iopub.status.idle": "2022-09-26T03:53:55.381266Z",
     "shell.execute_reply": "2022-09-26T03:53:55.381830Z"
    },
    "papermill": {
     "duration": 0.022551,
     "end_time": "2022-09-26T03:53:55.381976",
     "exception": false,
     "start_time": "2022-09-26T03:53:55.359425",
     "status": "completed"
    },
    "tags": []
   },
   "outputs": [
    {
     "data": {
      "text/markdown": [
       "- XRP Breaks Fundamental Resistance Level, Here's What's Next: Crypto Market Review, September 25.  XRP's breakout did not launch rally across cryptocurrency market ... [| Skaityti daugiau](https://u.today/xrp-breaks-fundamental-resistance-level-heres-whats-next-crypto-market-review-september-25) "
      ],
      "text/plain": [
       "<IPython.core.display.Markdown object>"
      ]
     },
     "execution_count": 5,
     "metadata": {},
     "output_type": "execute_result"
    }
   ],
   "source": [
    "#hide_input\n",
    "#md('##### {}'.format(titleBTC)) \n",
    "md(\"- {}{} {}{} [| Skaityti daugiau]({}) \".format(xrp['title'],'. ', xrp['body'], ' ...', xrp['url']))"
   ]
  },
  {
   "cell_type": "code",
   "execution_count": 6,
   "id": "prompt-farmer",
   "metadata": {
    "execution": {
     "iopub.execute_input": "2022-09-26T03:53:55.411112Z",
     "iopub.status.busy": "2022-09-26T03:53:55.410400Z",
     "iopub.status.idle": "2022-09-26T03:53:55.417142Z",
     "shell.execute_reply": "2022-09-26T03:53:55.416575Z"
    },
    "papermill": {
     "duration": 0.023544,
     "end_time": "2022-09-26T03:53:55.417264",
     "exception": false,
     "start_time": "2022-09-26T03:53:55.393720",
     "status": "completed"
    },
    "tags": []
   },
   "outputs": [
    {
     "data": {
      "text/markdown": [
       "- Tron [TRX] may be flashing signs of a potential pivot and buyers should….  TRX holders had an unfortunate streak since mid-August as the bears asserted dominance. However, their luck might be about to change. The cryptocurrency is trading at a significant discount and on top of that, there are signs that it might be headed for a bullish pivot on the charts. TRX, at press time, was attempting [&#8230;] ... [| Skaityti daugiau](https://ambcrypto.com/tron-trx-may-be-flashing-signs-of-a-potential-pivot-and-buyers-should/) "
      ],
      "text/plain": [
       "<IPython.core.display.Markdown object>"
      ]
     },
     "execution_count": 6,
     "metadata": {},
     "output_type": "execute_result"
    }
   ],
   "source": [
    "#hide_input\n",
    "#md('##### {}'.format(titleBTC)) \n",
    "md(\"- {}{} {}{} [| Skaityti daugiau]({}) \".format(trx['title'],'. ', trx['body'], ' ...', trx['url']))"
   ]
  },
  {
   "cell_type": "code",
   "execution_count": 7,
   "id": "illegal-greece",
   "metadata": {
    "execution": {
     "iopub.execute_input": "2022-09-26T03:53:55.449830Z",
     "iopub.status.busy": "2022-09-26T03:53:55.448583Z",
     "iopub.status.idle": "2022-09-26T03:53:55.453245Z",
     "shell.execute_reply": "2022-09-26T03:53:55.453934Z"
    },
    "papermill": {
     "duration": 0.024864,
     "end_time": "2022-09-26T03:53:55.454081",
     "exception": false,
     "start_time": "2022-09-26T03:53:55.429217",
     "status": "completed"
    },
    "tags": []
   },
   "outputs": [
    {
     "data": {
      "text/markdown": [
       "- Bitcoin Price and Ethereum Consolidate Despite Broader US Dollar Rally.  Bitcoin price managed to stay above the key $18,500 support. BTC is currently (03:10 UTC) consolidating near the $19,000 level. To start a fresh increase, the bulls need to gain strength for a move above the $19,500 resistance zone. Similarly, most major altcoins are trading in a range. ETH corrected lower, but the bulls were active above $1,250. XRP started trading in a range near the $0.48 level. ADA is now trading below the $0.45 pivot level....Read More: Bitcoin Price and Ethereum Consolidate Despite Broader US Dollar Rally ... [| Skaityti daugiau](https://cryptonews.com/news/bitcoin-price-ethereum-consolidate-despite-broader-us-dollar-rally.htm) "
      ],
      "text/plain": [
       "<IPython.core.display.Markdown object>"
      ]
     },
     "execution_count": 7,
     "metadata": {},
     "output_type": "execute_result"
    }
   ],
   "source": [
    "#hide_input\n",
    "#md('##### {}'.format(titleBTC)) \n",
    "md(\"- {}{} {}{} [| Skaityti daugiau]({}) \".format(eth['title'],'. ', eth['body'], ' ...', eth['url']))"
   ]
  },
  {
   "cell_type": "code",
   "execution_count": 8,
   "id": "sublime-lounge",
   "metadata": {
    "execution": {
     "iopub.execute_input": "2022-09-26T03:53:55.486862Z",
     "iopub.status.busy": "2022-09-26T03:53:55.484573Z",
     "iopub.status.idle": "2022-09-26T03:53:55.489609Z",
     "shell.execute_reply": "2022-09-26T03:53:55.490160Z"
    },
    "papermill": {
     "duration": 0.022596,
     "end_time": "2022-09-26T03:53:55.490302",
     "exception": false,
     "start_time": "2022-09-26T03:53:55.467706",
     "status": "completed"
    },
    "tags": []
   },
   "outputs": [
    {
     "data": {
      "text/markdown": [
       "- Bitcoin Price and Ethereum Consolidate Despite Broader US Dollar Rally.  Bitcoin price managed to stay above the key $18,500 support. BTC is currently (03:10 UTC) consolidating near the $19,000 level. To start a fresh increase, the bulls need to gain strength for a move above the $19,500 resistance zone. Similarly, most major altcoins are trading in a range. ETH corrected lower, but the bulls were active above $1,250. XRP started trading in a range near the $0.48 level. ADA is now trading below the $0.45 pivot level....Read More: Bitcoin Price and Ethereum Consolidate Despite Broader US Dollar Rally ... [| Skaityti daugiau](https://cryptonews.com/news/bitcoin-price-ethereum-consolidate-despite-broader-us-dollar-rally.htm) "
      ],
      "text/plain": [
       "<IPython.core.display.Markdown object>"
      ]
     },
     "execution_count": 8,
     "metadata": {},
     "output_type": "execute_result"
    }
   ],
   "source": [
    "#hide_input\n",
    "#md('##### {}'.format(titleBTC)) \n",
    "md(\"- {}{} {}{} [| Skaityti daugiau]({}) \".format(ada['title'],'. ', ada['body'], ' ...', ada['url']))"
   ]
  },
  {
   "cell_type": "code",
   "execution_count": 9,
   "id": "specified-ordering",
   "metadata": {
    "execution": {
     "iopub.execute_input": "2022-09-26T03:53:55.523638Z",
     "iopub.status.busy": "2022-09-26T03:53:55.522360Z",
     "iopub.status.idle": "2022-09-26T03:53:55.525824Z",
     "shell.execute_reply": "2022-09-26T03:53:55.526362Z"
    },
    "papermill": {
     "duration": 0.023368,
     "end_time": "2022-09-26T03:53:55.526502",
     "exception": false,
     "start_time": "2022-09-26T03:53:55.503134",
     "status": "completed"
    },
    "tags": []
   },
   "outputs": [
    {
     "data": {
      "text/markdown": [
       "- Here are the growth plans by Kraken’s newly-appointed CEO Ripley.  Despite being aware that he has &#8220;big shoes to fill,&#8221; the new CEO of Kraken, Dave Ripley has put out an ambitious strategy for how the company hopes to manage global regulations, the hurdles it confronts, and how it plans to target retail investors. Kraken has developed into a global digital currency exchange in just [&#8230;]The post Here are the growth plans by Kraken’s newly-appointed CEO Ripley appeared first on Blockchain, Crypto and Stock News. ... [| Skaityti daugiau](https://thecoinrise.com/here-are-the-growth-plans-by-krakens-newly-appointed-ceo-ripley/) "
      ],
      "text/plain": [
       "<IPython.core.display.Markdown object>"
      ]
     },
     "execution_count": 9,
     "metadata": {},
     "output_type": "execute_result"
    }
   ],
   "source": [
    "#hide_input\n",
    "#md('##### {}'.format(titleBTC)) \n",
    "md(\"- {}{} {}{} [| Skaityti daugiau]({}) \".format(exchange['title'],'. ', exchange['body'], ' ...', exchange['url']))"
   ]
  },
  {
   "cell_type": "code",
   "execution_count": null,
   "id": "tender-livestock",
   "metadata": {
    "papermill": {
     "duration": 0.013044,
     "end_time": "2022-09-26T03:53:55.552538",
     "exception": false,
     "start_time": "2022-09-26T03:53:55.539494",
     "status": "completed"
    },
    "tags": []
   },
   "outputs": [],
   "source": []
  },
  {
   "cell_type": "code",
   "execution_count": null,
   "id": "appreciated-diamond",
   "metadata": {
    "papermill": {
     "duration": 0.012975,
     "end_time": "2022-09-26T03:53:55.578535",
     "exception": false,
     "start_time": "2022-09-26T03:53:55.565560",
     "status": "completed"
    },
    "tags": []
   },
   "outputs": [],
   "source": []
  },
  {
   "cell_type": "code",
   "execution_count": null,
   "id": "romance-sweden",
   "metadata": {
    "papermill": {
     "duration": 0.012901,
     "end_time": "2022-09-26T03:53:55.604375",
     "exception": false,
     "start_time": "2022-09-26T03:53:55.591474",
     "status": "completed"
    },
    "tags": []
   },
   "outputs": [],
   "source": []
  },
  {
   "cell_type": "code",
   "execution_count": null,
   "id": "dietary-statistics",
   "metadata": {
    "papermill": {
     "duration": 0.012899,
     "end_time": "2022-09-26T03:53:55.630475",
     "exception": false,
     "start_time": "2022-09-26T03:53:55.617576",
     "status": "completed"
    },
    "tags": []
   },
   "outputs": [],
   "source": []
  }
 ],
 "metadata": {
  "kernelspec": {
   "display_name": "Python 3",
   "language": "python",
   "name": "python3"
  },
  "language_info": {
   "codemirror_mode": {
    "name": "ipython",
    "version": 3
   },
   "file_extension": ".py",
   "mimetype": "text/x-python",
   "name": "python",
   "nbconvert_exporter": "python",
   "pygments_lexer": "ipython3",
   "version": "3.6.15"
  },
  "papermill": {
   "default_parameters": {},
   "duration": 15.395849,
   "end_time": "2022-09-26T03:53:56.164796",
   "environment_variables": {},
   "exception": null,
   "input_path": "Market-News.ipynb",
   "output_path": "Market-News.ipynb",
   "parameters": {},
   "start_time": "2022-09-26T03:53:40.768947",
   "version": "2.2.2"
  }
 },
 "nbformat": 4,
 "nbformat_minor": 5
}