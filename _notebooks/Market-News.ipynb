{
 "cells": [
  {
   "cell_type": "markdown",
   "id": "short-greensboro",
   "metadata": {
    "papermill": {
     "duration": 0.017523,
     "end_time": "2021-11-05T01:59:48.150981",
     "exception": false,
     "start_time": "2021-11-05T01:59:48.133458",
     "status": "completed"
    },
    "tags": []
   },
   "source": [
    "# Kriptovaliutų naujienos"
   ]
  },
  {
   "cell_type": "code",
   "execution_count": 1,
   "id": "functioning-knowing",
   "metadata": {
    "execution": {
     "iopub.execute_input": "2021-11-05T01:59:48.183458Z",
     "iopub.status.busy": "2021-11-05T01:59:48.182829Z",
     "iopub.status.idle": "2021-11-05T01:59:49.540788Z",
     "shell.execute_reply": "2021-11-05T01:59:49.539839Z"
    },
    "papermill": {
     "duration": 1.379156,
     "end_time": "2021-11-05T01:59:49.541050",
     "exception": false,
     "start_time": "2021-11-05T01:59:48.161894",
     "status": "completed"
    },
    "tags": []
   },
   "outputs": [],
   "source": [
    "#hide_input\n",
    "import warnings\n",
    "warnings.filterwarnings('ignore')\n",
    "from scripts.read_data import read_api\n",
    "from scripts.read_data import read_news\n",
    "from scripts.read_data import read_covid\n",
    "import matplotlib.pyplot as plt \n",
    "from IPython.display import Markdown as md"
   ]
  },
  {
   "cell_type": "code",
   "execution_count": 2,
   "id": "shared-acceptance",
   "metadata": {
    "execution": {
     "iopub.execute_input": "2021-11-05T01:59:49.577506Z",
     "iopub.status.busy": "2021-11-05T01:59:49.576044Z",
     "iopub.status.idle": "2021-11-05T01:59:58.922542Z",
     "shell.execute_reply": "2021-11-05T01:59:58.922010Z"
    },
    "papermill": {
     "duration": 9.365117,
     "end_time": "2021-11-05T01:59:58.922681",
     "exception": false,
     "start_time": "2021-11-05T01:59:49.557564",
     "status": "completed"
    },
    "tags": []
   },
   "outputs": [],
   "source": [
    "#hide_input\n",
    "blockchain = read_news('blockchain') \n",
    "btc = read_news('btc') \n",
    "xrp = read_news('xrp') \n",
    "trx = read_news('trx') \n",
    "eth = read_news('eth')  \n",
    "ada = read_news('ada')\n",
    "exchange = read_news('exchange') "
   ]
  },
  {
   "cell_type": "code",
   "execution_count": 3,
   "id": "synthetic-notion",
   "metadata": {
    "execution": {
     "iopub.execute_input": "2021-11-05T01:59:58.952270Z",
     "iopub.status.busy": "2021-11-05T01:59:58.951654Z",
     "iopub.status.idle": "2021-11-05T01:59:58.956365Z",
     "shell.execute_reply": "2021-11-05T01:59:58.955889Z"
    },
    "papermill": {
     "duration": 0.021641,
     "end_time": "2021-11-05T01:59:58.956494",
     "exception": false,
     "start_time": "2021-11-05T01:59:58.934853",
     "status": "completed"
    },
    "tags": []
   },
   "outputs": [
    {
     "data": {
      "text/markdown": [
       "- ACX's parent company Blockchain Global collapses owing $15M.  Investors are worried the may not be able to recoup their funds from ACX, now that parent company Blockchain Global has entered voluntary administration.  ... [| Skaityti daugiau](https://cointelegraph.com/news/acx-s-parent-company-blockchain-global-collapses-owing-15m) "
      ],
      "text/plain": [
       "<IPython.core.display.Markdown object>"
      ]
     },
     "execution_count": 3,
     "metadata": {},
     "output_type": "execute_result"
    }
   ],
   "source": [
    "#hide_input\n",
    "#md('##### {}'.format(titleBTC)) \n",
    "md(\"- {}{} {}{} [| Skaityti daugiau]({}) \".format(blockchain['title'],'. ', blockchain['body'], ' ...', blockchain['url']))"
   ]
  },
  {
   "cell_type": "code",
   "execution_count": 4,
   "id": "aging-caution",
   "metadata": {
    "execution": {
     "iopub.execute_input": "2021-11-05T01:59:58.983955Z",
     "iopub.status.busy": "2021-11-05T01:59:58.982950Z",
     "iopub.status.idle": "2021-11-05T01:59:58.985642Z",
     "shell.execute_reply": "2021-11-05T01:59:58.986148Z"
    },
    "papermill": {
     "duration": 0.019115,
     "end_time": "2021-11-05T01:59:58.986290",
     "exception": false,
     "start_time": "2021-11-05T01:59:58.967175",
     "status": "completed"
    },
    "tags": []
   },
   "outputs": [
    {
     "data": {
      "text/markdown": [
       "- US Lawmakers Urge SEC to Permit Trading of Bitcoin Spot ETFs.  U.S. lawmakers have called on the Securities and Exchange Commission (SEC) to approve bitcoin spot exchange-traded funds (ETFs). Since the SEC has approved the trading of bitcoin futures ETFs, the lawmakers said it &#x201C;should no longer have concerns with bitcoin spot ETFs and should show a similar willingness to permit the trading of bitcoin spot [&#8230;] ... [| Skaityti daugiau](https://news.bitcoin.com/us-lawmakers-urge-sec-to-permit-trading-of-bitcoin-spot-etfs/) "
      ],
      "text/plain": [
       "<IPython.core.display.Markdown object>"
      ]
     },
     "execution_count": 4,
     "metadata": {},
     "output_type": "execute_result"
    }
   ],
   "source": [
    "#hide_input\n",
    "#md('##### {}'.format(titleBTC)) \n",
    "md(\"- {}{} {}{} [| Skaityti daugiau]({}) \".format(btc['title'],'. ', btc['body'], ' ...', btc['url']))"
   ]
  },
  {
   "cell_type": "code",
   "execution_count": 5,
   "id": "organic-actress",
   "metadata": {
    "execution": {
     "iopub.execute_input": "2021-11-05T01:59:59.015568Z",
     "iopub.status.busy": "2021-11-05T01:59:59.014989Z",
     "iopub.status.idle": "2021-11-05T01:59:59.018078Z",
     "shell.execute_reply": "2021-11-05T01:59:59.017577Z"
    },
    "papermill": {
     "duration": 0.020787,
     "end_time": "2021-11-05T01:59:59.018196",
     "exception": false,
     "start_time": "2021-11-05T01:59:58.997409",
     "status": "completed"
    },
    "tags": []
   },
   "outputs": [
    {
     "data": {
      "text/markdown": [
       "- Prominent Crypto Analyst Reaffirms $XRP Is Due for Massive Breakout.  Prominent cryptocurrency analyst Credible Crypto has reaffirmed his prediction for XRP, revealing he believes the cryptocurrency is due for a massive breakout in the near future based on its price chart. As the Daily Hodl reports, Credible Crypto shared charts with his over 250,000 followers on social media that XRP’s price structure is very similar […] ... [| Skaityti daugiau](https://www.cryptoglobe.com/latest/2021/11/prominent-crypto-analyst-reaffirms-xrp-is-due-for-massive-breakout/) "
      ],
      "text/plain": [
       "<IPython.core.display.Markdown object>"
      ]
     },
     "execution_count": 5,
     "metadata": {},
     "output_type": "execute_result"
    }
   ],
   "source": [
    "#hide_input\n",
    "#md('##### {}'.format(titleBTC)) \n",
    "md(\"- {}{} {}{} [| Skaityti daugiau]({}) \".format(xrp['title'],'. ', xrp['body'], ' ...', xrp['url']))"
   ]
  },
  {
   "cell_type": "code",
   "execution_count": 6,
   "id": "prompt-farmer",
   "metadata": {
    "execution": {
     "iopub.execute_input": "2021-11-05T01:59:59.046443Z",
     "iopub.status.busy": "2021-11-05T01:59:59.045814Z",
     "iopub.status.idle": "2021-11-05T01:59:59.048692Z",
     "shell.execute_reply": "2021-11-05T01:59:59.049172Z"
    },
    "papermill": {
     "duration": 0.019762,
     "end_time": "2021-11-05T01:59:59.049304",
     "exception": false,
     "start_time": "2021-11-05T01:59:59.029542",
     "status": "completed"
    },
    "tags": []
   },
   "outputs": [
    {
     "data": {
      "text/markdown": [
       "- Tron (TRX) Price Analysis: Bulls In Control Above $0.10.  Tron price started a fresh rally above the $0.1000 resistance zone against the US Dollar. TRX price is now trading above $0.1000 and the 55 simple moving average (4-hours). There was a break above a major bearish trend line with resistance near $0.1020 on the 4-hours chart (data feed via Bitfinex). The pair is correcting...The post Tron (TRX) Price Analysis: Bulls In Control Above $0.10 appeared first on Live Bitcoin News. ... [| Skaityti daugiau](https://www.livebitcoinnews.com/tron-trx-price-analysis-bulls-in-control-above-0-10/) "
      ],
      "text/plain": [
       "<IPython.core.display.Markdown object>"
      ]
     },
     "execution_count": 6,
     "metadata": {},
     "output_type": "execute_result"
    }
   ],
   "source": [
    "#hide_input\n",
    "#md('##### {}'.format(titleBTC)) \n",
    "md(\"- {}{} {}{} [| Skaityti daugiau]({}) \".format(trx['title'],'. ', trx['body'], ' ...', trx['url']))"
   ]
  },
  {
   "cell_type": "code",
   "execution_count": 7,
   "id": "illegal-greece",
   "metadata": {
    "execution": {
     "iopub.execute_input": "2021-11-05T01:59:59.078521Z",
     "iopub.status.busy": "2021-11-05T01:59:59.077850Z",
     "iopub.status.idle": "2021-11-05T01:59:59.080489Z",
     "shell.execute_reply": "2021-11-05T01:59:59.081088Z"
    },
    "papermill": {
     "duration": 0.01982,
     "end_time": "2021-11-05T01:59:59.081238",
     "exception": false,
     "start_time": "2021-11-05T01:59:59.061418",
     "status": "completed"
    },
    "tags": []
   },
   "outputs": [
    {
     "data": {
      "text/markdown": [
       "- Ethereum Records First Consecutive Week Of Negative Supply Issuance.  Ethereum is taking the first tentative steps towards being fully deflationary after it notched seven consecutive days of negative issuance. The burn feature introduced by the London upgrade had a role to play in the recent trend. It is expected that the network’s transition to Ethereum 2.0 will fully introduce deflationary attributes to the network. [&#8230;] ... [| Skaityti daugiau](https://zycrypto.com/ethereum-records-first-consecutive-week-of-negative-supply-issuance/) "
      ],
      "text/plain": [
       "<IPython.core.display.Markdown object>"
      ]
     },
     "execution_count": 7,
     "metadata": {},
     "output_type": "execute_result"
    }
   ],
   "source": [
    "#hide_input\n",
    "#md('##### {}'.format(titleBTC)) \n",
    "md(\"- {}{} {}{} [| Skaityti daugiau]({}) \".format(eth['title'],'. ', eth['body'], ' ...', eth['url']))"
   ]
  },
  {
   "cell_type": "code",
   "execution_count": 8,
   "id": "sublime-lounge",
   "metadata": {
    "execution": {
     "iopub.execute_input": "2021-11-05T01:59:59.111836Z",
     "iopub.status.busy": "2021-11-05T01:59:59.111244Z",
     "iopub.status.idle": "2021-11-05T01:59:59.114932Z",
     "shell.execute_reply": "2021-11-05T01:59:59.114459Z"
    },
    "papermill": {
     "duration": 0.021619,
     "end_time": "2021-11-05T01:59:59.115053",
     "exception": false,
     "start_time": "2021-11-05T01:59:59.093434",
     "status": "completed"
    },
    "tags": []
   },
   "outputs": [
    {
     "data": {
      "text/markdown": [
       "- Is Cardano Fighting A Losing Battle Against Solana?.  Cardano and Solana are the leading competitors for Ethereum as the top smart contracts platform. Their entrance into the space has been highly lauded as this will provide some much-needed diversification in the space. Activities are already underway on the Solana blockchain. However, Cardano has not had much in the way of activities on its blockchain since the launch of smart contracts capability. This has mainly been due to the fact that smart contracts capabilities debuted on the network less than two months ago and it will take some time for developers to test and deploy their applications on the blockchain. Cardano is behind its competitors due to this delay but is no doubt a contender in the space. The blockchain has maintained its position as the second leading smart contracts platform. Now, though, Solana has come for the crown and it is winning the fight. Related Reading &#124; Volume Of ADA Staked On Cardano Network Reaches Record High Solana Overtakes Cardano On Crypto Top 10 For months, Cardano had maintained its position at 3rd place on the crypto top 10 projects by market cap, before being pushed out by BNB last month. This was mainly due to the run-up in the digital asset in August that saw the price of ADA break above $3 for the first time. Its market cap skyrocketed with this rally to over $75 billion, making it one of the most valuable cryptocurrencies in the market. Recent trends have however not been favorab... ... [| Skaityti daugiau](https://www.newsbtc.com/news/cardano/is-cardano-losing-against-solana/) "
      ],
      "text/plain": [
       "<IPython.core.display.Markdown object>"
      ]
     },
     "execution_count": 8,
     "metadata": {},
     "output_type": "execute_result"
    }
   ],
   "source": [
    "#hide_input\n",
    "#md('##### {}'.format(titleBTC)) \n",
    "md(\"- {}{} {}{} [| Skaityti daugiau]({}) \".format(ada['title'],'. ', ada['body'], ' ...', ada['url']))"
   ]
  },
  {
   "cell_type": "code",
   "execution_count": 9,
   "id": "specified-ordering",
   "metadata": {
    "execution": {
     "iopub.execute_input": "2021-11-05T01:59:59.144377Z",
     "iopub.status.busy": "2021-11-05T01:59:59.143787Z",
     "iopub.status.idle": "2021-11-05T01:59:59.147157Z",
     "shell.execute_reply": "2021-11-05T01:59:59.146661Z"
    },
    "papermill": {
     "duration": 0.019837,
     "end_time": "2021-11-05T01:59:59.147270",
     "exception": false,
     "start_time": "2021-11-05T01:59:59.127433",
     "status": "completed"
    },
    "tags": []
   },
   "outputs": [
    {
     "data": {
      "text/markdown": [
       "- US Lawmakers Urge SEC to Permit Trading of Bitcoin Spot ETFs.  U.S. lawmakers have called on the Securities and Exchange Commission (SEC) to approve bitcoin spot exchange-traded funds (ETFs). Since the SEC has approved the trading of bitcoin futures ETFs, the lawmakers said it &#x201C;should no longer have concerns with bitcoin spot ETFs and should show a similar willingness to permit the trading of bitcoin spot [&#8230;] ... [| Skaityti daugiau](https://news.bitcoin.com/us-lawmakers-urge-sec-to-permit-trading-of-bitcoin-spot-etfs/) "
      ],
      "text/plain": [
       "<IPython.core.display.Markdown object>"
      ]
     },
     "execution_count": 9,
     "metadata": {},
     "output_type": "execute_result"
    }
   ],
   "source": [
    "#hide_input\n",
    "#md('##### {}'.format(titleBTC)) \n",
    "md(\"- {}{} {}{} [| Skaityti daugiau]({}) \".format(exchange['title'],'. ', exchange['body'], ' ...', exchange['url']))"
   ]
  },
  {
   "cell_type": "code",
   "execution_count": null,
   "id": "tender-livestock",
   "metadata": {
    "papermill": {
     "duration": 0.012124,
     "end_time": "2021-11-05T01:59:59.171974",
     "exception": false,
     "start_time": "2021-11-05T01:59:59.159850",
     "status": "completed"
    },
    "tags": []
   },
   "outputs": [],
   "source": []
  },
  {
   "cell_type": "code",
   "execution_count": null,
   "id": "appreciated-diamond",
   "metadata": {
    "papermill": {
     "duration": 0.012784,
     "end_time": "2021-11-05T01:59:59.197680",
     "exception": false,
     "start_time": "2021-11-05T01:59:59.184896",
     "status": "completed"
    },
    "tags": []
   },
   "outputs": [],
   "source": []
  },
  {
   "cell_type": "code",
   "execution_count": null,
   "id": "romance-sweden",
   "metadata": {
    "papermill": {
     "duration": 0.012506,
     "end_time": "2021-11-05T01:59:59.222967",
     "exception": false,
     "start_time": "2021-11-05T01:59:59.210461",
     "status": "completed"
    },
    "tags": []
   },
   "outputs": [],
   "source": []
  },
  {
   "cell_type": "code",
   "execution_count": null,
   "id": "dietary-statistics",
   "metadata": {
    "papermill": {
     "duration": 0.012556,
     "end_time": "2021-11-05T01:59:59.248093",
     "exception": false,
     "start_time": "2021-11-05T01:59:59.235537",
     "status": "completed"
    },
    "tags": []
   },
   "outputs": [],
   "source": []
  }
 ],
 "metadata": {
  "kernelspec": {
   "display_name": "Python 3",
   "language": "python",
   "name": "python3"
  },
  "language_info": {
   "codemirror_mode": {
    "name": "ipython",
    "version": 3
   },
   "file_extension": ".py",
   "mimetype": "text/x-python",
   "name": "python",
   "nbconvert_exporter": "python",
   "pygments_lexer": "ipython3",
   "version": "3.6.15"
  },
  "papermill": {
   "default_parameters": {},
   "duration": 12.710638,
   "end_time": "2021-11-05T01:59:59.770124",
   "environment_variables": {},
   "exception": null,
   "input_path": "Market-News.ipynb",
   "output_path": "Market-News.ipynb",
   "parameters": {},
   "start_time": "2021-11-05T01:59:47.059486",
   "version": "2.2.2"
  }
 },
 "nbformat": 4,
 "nbformat_minor": 5
}