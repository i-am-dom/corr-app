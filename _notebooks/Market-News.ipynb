{
 "cells": [
  {
   "cell_type": "markdown",
   "id": "short-greensboro",
   "metadata": {
    "papermill": {
     "duration": 0.012589,
     "end_time": "2022-07-13T03:17:09.796004",
     "exception": false,
     "start_time": "2022-07-13T03:17:09.783415",
     "status": "completed"
    },
    "tags": []
   },
   "source": [
    "# Kriptovaliutų naujienos"
   ]
  },
  {
   "cell_type": "code",
   "execution_count": 1,
   "id": "functioning-knowing",
   "metadata": {
    "execution": {
     "iopub.execute_input": "2022-07-13T03:17:09.825149Z",
     "iopub.status.busy": "2022-07-13T03:17:09.824564Z",
     "iopub.status.idle": "2022-07-13T03:17:10.983363Z",
     "shell.execute_reply": "2022-07-13T03:17:10.982872Z"
    },
    "papermill": {
     "duration": 1.177635,
     "end_time": "2022-07-13T03:17:10.983489",
     "exception": false,
     "start_time": "2022-07-13T03:17:09.805854",
     "status": "completed"
    },
    "tags": []
   },
   "outputs": [],
   "source": [
    "#hide_input\n",
    "import warnings\n",
    "warnings.filterwarnings('ignore')\n",
    "from scripts.read_data import read_api\n",
    "from scripts.read_data import read_news\n",
    "from scripts.read_data import read_covid\n",
    "import matplotlib.pyplot as plt \n",
    "from IPython.display import Markdown as md"
   ]
  },
  {
   "cell_type": "code",
   "execution_count": 2,
   "id": "shared-acceptance",
   "metadata": {
    "execution": {
     "iopub.execute_input": "2022-07-13T03:17:11.008682Z",
     "iopub.status.busy": "2022-07-13T03:17:11.008089Z",
     "iopub.status.idle": "2022-07-13T03:17:22.330318Z",
     "shell.execute_reply": "2022-07-13T03:17:22.329374Z"
    },
    "papermill": {
     "duration": 11.337133,
     "end_time": "2022-07-13T03:17:22.330447",
     "exception": false,
     "start_time": "2022-07-13T03:17:10.993314",
     "status": "completed"
    },
    "tags": []
   },
   "outputs": [],
   "source": [
    "#hide_input\n",
    "blockchain = read_news('blockchain') \n",
    "btc = read_news('btc') \n",
    "xrp = read_news('xrp') \n",
    "trx = read_news('trx') \n",
    "eth = read_news('eth')  \n",
    "ada = read_news('ada')\n",
    "exchange = read_news('exchange') "
   ]
  },
  {
   "cell_type": "code",
   "execution_count": 3,
   "id": "synthetic-notion",
   "metadata": {
    "execution": {
     "iopub.execute_input": "2022-07-13T03:17:22.356326Z",
     "iopub.status.busy": "2022-07-13T03:17:22.355293Z",
     "iopub.status.idle": "2022-07-13T03:17:22.358174Z",
     "shell.execute_reply": "2022-07-13T03:17:22.358601Z"
    },
    "papermill": {
     "duration": 0.018938,
     "end_time": "2022-07-13T03:17:22.358724",
     "exception": false,
     "start_time": "2022-07-13T03:17:22.339786",
     "status": "completed"
    },
    "tags": []
   },
   "outputs": [
    {
     "data": {
      "text/markdown": [
       "- Crypto Investment Strategy For Beginners: Axie Infinity (AXS), KuCoin (KCS) and Chronoly (CRNO).  New investors in the cryptocurrency space must understand the different sectors of investment and the drivers of price gains. Axie Infinity (AXS) was one of the best coins in 2021 because it operated in one of the most popular sectors in ‘play-to-earn’ also known as P2E. By dedicating time to a blockchain game, users were &#8230;  Crypto Investment Strategy For Beginners: Axie Infinity (AXS), KuCoin (KCS) and Chronoly (CRNO) Read More &#187; ... [| Skaityti daugiau](https://www.cryptopolitan.com/crypto-investment-strategy-for-beginners-axie-infinity-axs-kucoin-kcs-and-chronoly-crno/) "
      ],
      "text/plain": [
       "<IPython.core.display.Markdown object>"
      ]
     },
     "execution_count": 3,
     "metadata": {},
     "output_type": "execute_result"
    }
   ],
   "source": [
    "#hide_input\n",
    "#md('##### {}'.format(titleBTC)) \n",
    "md(\"- {}{} {}{} [| Skaityti daugiau]({}) \".format(blockchain['title'],'. ', blockchain['body'], ' ...', blockchain['url']))"
   ]
  },
  {
   "cell_type": "code",
   "execution_count": 4,
   "id": "aging-caution",
   "metadata": {
    "execution": {
     "iopub.execute_input": "2022-07-13T03:17:22.381750Z",
     "iopub.status.busy": "2022-07-13T03:17:22.381164Z",
     "iopub.status.idle": "2022-07-13T03:17:22.386342Z",
     "shell.execute_reply": "2022-07-13T03:17:22.386765Z"
    },
    "papermill": {
     "duration": 0.018821,
     "end_time": "2022-07-13T03:17:22.386882",
     "exception": false,
     "start_time": "2022-07-13T03:17:22.368061",
     "status": "completed"
    },
    "tags": []
   },
   "outputs": [
    {
     "data": {
      "text/markdown": [
       "- TA: Bitcoin Price Could Recover If It Holds This Key Support.  Bitcoin extended losses and traded below $19,600 against the US Dollar. BTC could start a recovery wave if it stays above the $19,300 support zone. Bitcoin remained in a bearish zone and settled below the $20,000 level. The price is now trading below the $19,600 level and the 100 hourly simple moving average. There is a major bearish trend line forming with resistance near $19,600 on the hourly chart of the BTC/USD pair (data feed from Kraken). The pair might start a recovery wave if it stays above the $19,300 support zone. Bitcoin Price Reaches Key Support Bitcoin price started a fresh decline below the $21,000 support zone. The bears gained strength and pushed the price below the $20,000 support zone. The decline even extended below the $19,600 support zone. A low is formed near $19,256 and the price is now consolidating near a major support at $19,300. It is also trading below the $19,600 level and the 100 hourly simple moving average. If bitcoin stays above the $19,300 zone, it might start a recovery wave. On the upside, the price could resistance near the $19,550 and $19,600 levels. There is also a major bearish trend line forming with resistance near $19,600 on the hourly chart of the BTC/USD pair. The next key resistance is near the $20,000 zone (the recent breakdown zone). It is near the 23.6% Fib retracement level of the downward move from the $22,498 swing high to $19,256 low. Source: BTCUSD on TradingView.com A clos... ... [| Skaityti daugiau](https://www.newsbtc.com/analysis/btc/bitcoin-price-could-recover-20k/) "
      ],
      "text/plain": [
       "<IPython.core.display.Markdown object>"
      ]
     },
     "execution_count": 4,
     "metadata": {},
     "output_type": "execute_result"
    }
   ],
   "source": [
    "#hide_input\n",
    "#md('##### {}'.format(titleBTC)) \n",
    "md(\"- {}{} {}{} [| Skaityti daugiau]({}) \".format(btc['title'],'. ', btc['body'], ' ...', btc['url']))"
   ]
  },
  {
   "cell_type": "code",
   "execution_count": 5,
   "id": "organic-actress",
   "metadata": {
    "execution": {
     "iopub.execute_input": "2022-07-13T03:17:22.411975Z",
     "iopub.status.busy": "2022-07-13T03:17:22.410996Z",
     "iopub.status.idle": "2022-07-13T03:17:22.413715Z",
     "shell.execute_reply": "2022-07-13T03:17:22.414124Z"
    },
    "papermill": {
     "duration": 0.017675,
     "end_time": "2022-07-13T03:17:22.414231",
     "exception": false,
     "start_time": "2022-07-13T03:17:22.396556",
     "status": "completed"
    },
    "tags": []
   },
   "outputs": [
    {
     "data": {
      "text/markdown": [
       "- XRP Is Worth a Look for Investing.  XRP, Ripple&#8217;s native asset, is one of the cryptocurrencies for which investors keep their fingers crossed that it will have a positive run despite the ongoing crypto winter. Ripple has positioned itself to be accepted via its project Ripplenet, which enables private ledgers and inexpensive cross-border payments. This is in response to the rising interest [&#8230;]The post XRP Is Worth a Look for Investing appeared first on NullTX. ... [| Skaityti daugiau](https://nulltx.com/xrp-is-worth-a-look-for-investing/) "
      ],
      "text/plain": [
       "<IPython.core.display.Markdown object>"
      ]
     },
     "execution_count": 5,
     "metadata": {},
     "output_type": "execute_result"
    }
   ],
   "source": [
    "#hide_input\n",
    "#md('##### {}'.format(titleBTC)) \n",
    "md(\"- {}{} {}{} [| Skaityti daugiau]({}) \".format(xrp['title'],'. ', xrp['body'], ' ...', xrp['url']))"
   ]
  },
  {
   "cell_type": "code",
   "execution_count": 6,
   "id": "prompt-farmer",
   "metadata": {
    "execution": {
     "iopub.execute_input": "2022-07-13T03:17:22.438797Z",
     "iopub.status.busy": "2022-07-13T03:17:22.437096Z",
     "iopub.status.idle": "2022-07-13T03:17:22.440938Z",
     "shell.execute_reply": "2022-07-13T03:17:22.441363Z"
    },
    "papermill": {
     "duration": 0.017293,
     "end_time": "2022-07-13T03:17:22.441471",
     "exception": false,
     "start_time": "2022-07-13T03:17:22.424178",
     "status": "completed"
    },
    "tags": []
   },
   "outputs": [
    {
     "data": {
      "text/markdown": [
       "- Tron’s TVL tale has these tips for positional TRX traders.  In the face of hacks, exploits, and a general market downturn, the year so far has been tumultuous for decentralized finance (DeFi) and the players within the ecosystem. According to data from DeFi Llama, the total value locked (TVL) across existing DeFi protocols has seen a 68% decline since the beginning of the year. Furthermore, [&#8230;] ... [| Skaityti daugiau](https://ambcrypto.com/trons-tvl-tale-has-these-tips-for-positional-trx-traders/) "
      ],
      "text/plain": [
       "<IPython.core.display.Markdown object>"
      ]
     },
     "execution_count": 6,
     "metadata": {},
     "output_type": "execute_result"
    }
   ],
   "source": [
    "#hide_input\n",
    "#md('##### {}'.format(titleBTC)) \n",
    "md(\"- {}{} {}{} [| Skaityti daugiau]({}) \".format(trx['title'],'. ', trx['body'], ' ...', trx['url']))"
   ]
  },
  {
   "cell_type": "code",
   "execution_count": 7,
   "id": "illegal-greece",
   "metadata": {
    "execution": {
     "iopub.execute_input": "2022-07-13T03:17:22.467170Z",
     "iopub.status.busy": "2022-07-13T03:17:22.465371Z",
     "iopub.status.idle": "2022-07-13T03:17:22.469352Z",
     "shell.execute_reply": "2022-07-13T03:17:22.469773Z"
    },
    "papermill": {
     "duration": 0.017982,
     "end_time": "2022-07-13T03:17:22.469882",
     "exception": false,
     "start_time": "2022-07-13T03:17:22.451900",
     "status": "completed"
    },
    "tags": []
   },
   "outputs": [
    {
     "data": {
      "text/markdown": [
       "- Bitcoin, Ethereum, XRP, and Solana Daily Price Analyses – 12 July Roundup.  The global crypto market hasn&#8217;t been able to get rid of the bearish current. It has continued to affect Bitcoin, Ethereum, and others as the losses continue. There have been negative changes in the market as the sell-offs increased. The value of various coins is regressive, and it has brought down their price value. As &#8230;  Bitcoin, Ethereum, XRP, and Solana Daily Price Analyses – 12 July Roundup Read More &#187; ... [| Skaityti daugiau](https://www.cryptopolitan.com/bitcoin-ethereum-xrp-and-solana-daily-price-analyses-12-july-roundup/) "
      ],
      "text/plain": [
       "<IPython.core.display.Markdown object>"
      ]
     },
     "execution_count": 7,
     "metadata": {},
     "output_type": "execute_result"
    }
   ],
   "source": [
    "#hide_input\n",
    "#md('##### {}'.format(titleBTC)) \n",
    "md(\"- {}{} {}{} [| Skaityti daugiau]({}) \".format(eth['title'],'. ', eth['body'], ' ...', eth['url']))"
   ]
  },
  {
   "cell_type": "code",
   "execution_count": 8,
   "id": "sublime-lounge",
   "metadata": {
    "execution": {
     "iopub.execute_input": "2022-07-13T03:17:22.496740Z",
     "iopub.status.busy": "2022-07-13T03:17:22.494984Z",
     "iopub.status.idle": "2022-07-13T03:17:22.498915Z",
     "shell.execute_reply": "2022-07-13T03:17:22.499340Z"
    },
    "papermill": {
     "duration": 0.017957,
     "end_time": "2022-07-13T03:17:22.499449",
     "exception": false,
     "start_time": "2022-07-13T03:17:22.481492",
     "status": "completed"
    },
    "tags": []
   },
   "outputs": [
    {
     "data": {
      "text/markdown": [
       "- $ADA: Number of Smart Contracts Deployed on Cardano Nears New Milestone.  The number of smart contracts deployed on the Cardano ($ADA) network is nearing a new milestone, as developers are increasingly working on the cryptocurrency as its ecosystem develops and its decentralized finance (DeFi) space grows. According to data from Cardano Blockchain Insights, first reported on by Finbold, there are now a total of 2,90 Plutus-based […] ... [| Skaityti daugiau](https://www.cryptoglobe.com/latest/2022/07/ada-number-of-smart-contracts-deployed-on-cardano-nears-new-milestone/) "
      ],
      "text/plain": [
       "<IPython.core.display.Markdown object>"
      ]
     },
     "execution_count": 8,
     "metadata": {},
     "output_type": "execute_result"
    }
   ],
   "source": [
    "#hide_input\n",
    "#md('##### {}'.format(titleBTC)) \n",
    "md(\"- {}{} {}{} [| Skaityti daugiau]({}) \".format(ada['title'],'. ', ada['body'], ' ...', ada['url']))"
   ]
  },
  {
   "cell_type": "code",
   "execution_count": 9,
   "id": "specified-ordering",
   "metadata": {
    "execution": {
     "iopub.execute_input": "2022-07-13T03:17:22.525441Z",
     "iopub.status.busy": "2022-07-13T03:17:22.524868Z",
     "iopub.status.idle": "2022-07-13T03:17:22.530183Z",
     "shell.execute_reply": "2022-07-13T03:17:22.529728Z"
    },
    "papermill": {
     "duration": 0.019964,
     "end_time": "2022-07-13T03:17:22.530280",
     "exception": false,
     "start_time": "2022-07-13T03:17:22.510316",
     "status": "completed"
    },
    "tags": []
   },
   "outputs": [
    {
     "data": {
      "text/markdown": [
       "- Bitcoin Spot ETF: Wait Gets Longer As SEC Extends Deadline.  The Securities and Exchange Commission gave itself some more time in deciding on the ARK 21Shares Bitcoin ETF. In a notice issued on Tuesday, the commission said it is extending a longer period for any action in the proposed ETF. In May this year, Ark Investment and 21Shares have again filed with the U.S. SEC The post Bitcoin Spot ETF: Wait Gets Longer As SEC Extends Deadline appeared first on CoinGape. ... [| Skaityti daugiau](https://coingape.com/bitcoin-spot-etf-wait-gets-longer-as-sec-extends-deadline/) "
      ],
      "text/plain": [
       "<IPython.core.display.Markdown object>"
      ]
     },
     "execution_count": 9,
     "metadata": {},
     "output_type": "execute_result"
    }
   ],
   "source": [
    "#hide_input\n",
    "#md('##### {}'.format(titleBTC)) \n",
    "md(\"- {}{} {}{} [| Skaityti daugiau]({}) \".format(exchange['title'],'. ', exchange['body'], ' ...', exchange['url']))"
   ]
  },
  {
   "cell_type": "code",
   "execution_count": null,
   "id": "tender-livestock",
   "metadata": {
    "papermill": {
     "duration": 0.011277,
     "end_time": "2022-07-13T03:17:22.552802",
     "exception": false,
     "start_time": "2022-07-13T03:17:22.541525",
     "status": "completed"
    },
    "tags": []
   },
   "outputs": [],
   "source": []
  },
  {
   "cell_type": "code",
   "execution_count": null,
   "id": "appreciated-diamond",
   "metadata": {
    "papermill": {
     "duration": 0.01117,
     "end_time": "2022-07-13T03:17:22.575345",
     "exception": false,
     "start_time": "2022-07-13T03:17:22.564175",
     "status": "completed"
    },
    "tags": []
   },
   "outputs": [],
   "source": []
  },
  {
   "cell_type": "code",
   "execution_count": null,
   "id": "romance-sweden",
   "metadata": {
    "papermill": {
     "duration": 0.011179,
     "end_time": "2022-07-13T03:17:22.597797",
     "exception": false,
     "start_time": "2022-07-13T03:17:22.586618",
     "status": "completed"
    },
    "tags": []
   },
   "outputs": [],
   "source": []
  },
  {
   "cell_type": "code",
   "execution_count": null,
   "id": "dietary-statistics",
   "metadata": {
    "papermill": {
     "duration": 0.011204,
     "end_time": "2022-07-13T03:17:22.620322",
     "exception": false,
     "start_time": "2022-07-13T03:17:22.609118",
     "status": "completed"
    },
    "tags": []
   },
   "outputs": [],
   "source": []
  }
 ],
 "metadata": {
  "kernelspec": {
   "display_name": "Python 3",
   "language": "python",
   "name": "python3"
  },
  "language_info": {
   "codemirror_mode": {
    "name": "ipython",
    "version": 3
   },
   "file_extension": ".py",
   "mimetype": "text/x-python",
   "name": "python",
   "nbconvert_exporter": "python",
   "pygments_lexer": "ipython3",
   "version": "3.6.15"
  },
  "papermill": {
   "default_parameters": {},
   "duration": 14.175982,
   "end_time": "2022-07-13T03:17:23.048668",
   "environment_variables": {},
   "exception": null,
   "input_path": "Market-News.ipynb",
   "output_path": "Market-News.ipynb",
   "parameters": {},
   "start_time": "2022-07-13T03:17:08.872686",
   "version": "2.2.2"
  }
 },
 "nbformat": 4,
 "nbformat_minor": 5
}