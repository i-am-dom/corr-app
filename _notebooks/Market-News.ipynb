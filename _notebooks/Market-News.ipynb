{
 "cells": [
  {
   "cell_type": "markdown",
   "id": "short-greensboro",
   "metadata": {
    "papermill": {
     "duration": 0.016292,
     "end_time": "2021-10-08T02:06:18.386011",
     "exception": false,
     "start_time": "2021-10-08T02:06:18.369719",
     "status": "completed"
    },
    "tags": []
   },
   "source": [
    "# Kriptovaliutų naujienos"
   ]
  },
  {
   "cell_type": "code",
   "execution_count": 1,
   "id": "functioning-knowing",
   "metadata": {
    "execution": {
     "iopub.execute_input": "2021-10-08T02:06:18.419985Z",
     "iopub.status.busy": "2021-10-08T02:06:18.419257Z",
     "iopub.status.idle": "2021-10-08T02:06:19.758532Z",
     "shell.execute_reply": "2021-10-08T02:06:19.757941Z"
    },
    "papermill": {
     "duration": 1.361146,
     "end_time": "2021-10-08T02:06:19.758714",
     "exception": false,
     "start_time": "2021-10-08T02:06:18.397568",
     "status": "completed"
    },
    "tags": []
   },
   "outputs": [],
   "source": [
    "#hide_input\n",
    "import warnings\n",
    "warnings.filterwarnings('ignore')\n",
    "from scripts.read_data import read_api\n",
    "from scripts.read_data import read_news\n",
    "from scripts.read_data import read_covid\n",
    "import matplotlib.pyplot as plt \n",
    "from IPython.display import Markdown as md"
   ]
  },
  {
   "cell_type": "code",
   "execution_count": 2,
   "id": "shared-acceptance",
   "metadata": {
    "execution": {
     "iopub.execute_input": "2021-10-08T02:06:19.787057Z",
     "iopub.status.busy": "2021-10-08T02:06:19.785995Z",
     "iopub.status.idle": "2021-10-08T02:06:28.539213Z",
     "shell.execute_reply": "2021-10-08T02:06:28.538505Z"
    },
    "papermill": {
     "duration": 8.769504,
     "end_time": "2021-10-08T02:06:28.539409",
     "exception": false,
     "start_time": "2021-10-08T02:06:19.769905",
     "status": "completed"
    },
    "tags": []
   },
   "outputs": [],
   "source": [
    "#hide_input\n",
    "blockchain = read_news('blockchain') \n",
    "btc = read_news('btc') \n",
    "xrp = read_news('xrp') \n",
    "trx = read_news('trx') \n",
    "eth = read_news('eth')  \n",
    "ada = read_news('ada')\n",
    "exchange = read_news('exchange') "
   ]
  },
  {
   "cell_type": "code",
   "execution_count": 3,
   "id": "synthetic-notion",
   "metadata": {
    "execution": {
     "iopub.execute_input": "2021-10-08T02:06:28.570054Z",
     "iopub.status.busy": "2021-10-08T02:06:28.569294Z",
     "iopub.status.idle": "2021-10-08T02:06:28.572703Z",
     "shell.execute_reply": "2021-10-08T02:06:28.573338Z"
    },
    "papermill": {
     "duration": 0.021817,
     "end_time": "2021-10-08T02:06:28.573495",
     "exception": false,
     "start_time": "2021-10-08T02:06:28.551678",
     "status": "completed"
    },
    "tags": []
   },
   "outputs": [
    {
     "data": {
      "text/markdown": [
       "- Meet The First Ever Polygon Ecosystem Index Token.  Polygon continues to be a substantial force in DeFi. The protocol&#8217;s ease of use and lower fees have been major draws for developers, leading to a wide variety of new projects coming to life on the platform. Meanwhile, the folks over at Amun Tokens are working on DeFi index tokens left and right. In June, the platform announced the launch of two index tokens, $DFI and $DMX, engaged in the Ethereum ecosystem. Given Polygon&#8217;s increased presence lately in DeFi, it was only a matter of time before the team at Amun unleashed a Polygon-based token as well. That time has come, as Amun announced today their latest token headed to pre-sale: PECO. This token looks to encapsulate the best and brightest projects being built on Polygon. Amun, PECO, &#38; The Polygon Ecosystem Amun released their Medium post announcing PECO today in collaboration with the Polygon Foundation and leading Polygon projects. The Foundation is providing $5M in MATIC tokens to seed the index&#8217;s launch, according to the Medium post, and many leading projects are providing seed capital for liquidity. The token initially launches on October 19 and will start with 50% MATIC until the network matures further. Protocol tokens make up the remaining 50%; take a look at the initial PECO compensation on launch below: &#160; As the Polygon network grows and develops, the PECO portfolio will be rebalanced monthly. PECO will be available on both Polygon and Eth... ... [| Skaityti daugiau](https://www.newsbtc.com/news/first-ever-polygon-index-token/) "
      ],
      "text/plain": [
       "<IPython.core.display.Markdown object>"
      ]
     },
     "execution_count": 3,
     "metadata": {},
     "output_type": "execute_result"
    }
   ],
   "source": [
    "#hide_input\n",
    "#md('##### {}'.format(titleBTC)) \n",
    "md(\"- {}{} {}{} [| Skaityti daugiau]({}) \".format(blockchain['title'],'. ', blockchain['body'], ' ...', blockchain['url']))"
   ]
  },
  {
   "cell_type": "code",
   "execution_count": 4,
   "id": "aging-caution",
   "metadata": {
    "execution": {
     "iopub.execute_input": "2021-10-08T02:06:28.600428Z",
     "iopub.status.busy": "2021-10-08T02:06:28.599664Z",
     "iopub.status.idle": "2021-10-08T02:06:28.602824Z",
     "shell.execute_reply": "2021-10-08T02:06:28.603351Z"
    },
    "papermill": {
     "duration": 0.019242,
     "end_time": "2021-10-08T02:06:28.603493",
     "exception": false,
     "start_time": "2021-10-08T02:06:28.584251",
     "status": "completed"
    },
    "tags": []
   },
   "outputs": [
    {
     "data": {
      "text/markdown": [
       "- This is why institutions are ‘getting off zero’ to gain exposure to Bitcoin, cryptos.  The total market capitalization of the sector has crossed $2 trillion again. What&#8217;s more, many believe that more gains might be on the horizon for crypto-enthusiasts. It’s no coincidence that the meteoric rise of the crypto-market corresponds with more and more fund managers opening up to the idea of adding cryptocurrency products to their investment [&#8230;] ... [| Skaityti daugiau](https://ambcrypto.com/this-is-why-institutions-are-getting-off-zero-to-gain-exposure-to-bitcoin-cryptos/) "
      ],
      "text/plain": [
       "<IPython.core.display.Markdown object>"
      ]
     },
     "execution_count": 4,
     "metadata": {},
     "output_type": "execute_result"
    }
   ],
   "source": [
    "#hide_input\n",
    "#md('##### {}'.format(titleBTC)) \n",
    "md(\"- {}{} {}{} [| Skaityti daugiau]({}) \".format(btc['title'],'. ', btc['body'], ' ...', btc['url']))"
   ]
  },
  {
   "cell_type": "code",
   "execution_count": 5,
   "id": "organic-actress",
   "metadata": {
    "execution": {
     "iopub.execute_input": "2021-10-08T02:06:28.634781Z",
     "iopub.status.busy": "2021-10-08T02:06:28.633907Z",
     "iopub.status.idle": "2021-10-08T02:06:28.637903Z",
     "shell.execute_reply": "2021-10-08T02:06:28.638442Z"
    },
    "papermill": {
     "duration": 0.021309,
     "end_time": "2021-10-08T02:06:28.638577",
     "exception": false,
     "start_time": "2021-10-08T02:06:28.617268",
     "status": "completed"
    },
    "tags": []
   },
   "outputs": [
    {
     "data": {
      "text/markdown": [
       "- Here’s How Bullish Crypto Investors Really Are on Bitcoin, Ethereum, Cardano, Polkadot, Solana, Luna and XRP: Survey.  A new poll conducted by digital asset investment firm CoinShares shows close to half of investors believe a single crypto asset now has the highest upside potential – and it&#8217;s not Bitcoin (BTC). According to the survey, 42% of investors view Ethereum (ETH) as the most attractive crypto asset based on potential growth, beating Bitcoin [&#8230;]The post Here’s How Bullish Crypto Investors Really Are on Bitcoin, Ethereum, Cardano, Polkadot, Solana, Luna and XRP: Survey appeared first on The Daily Hodl. ... [| Skaityti daugiau](https://dailyhodl.com/2021/10/07/heres-how-bullish-crypto-investors-really-are-on-bitcoin-ethereum-cardano-polkadot-solana-luna-and-xrp-survey/) "
      ],
      "text/plain": [
       "<IPython.core.display.Markdown object>"
      ]
     },
     "execution_count": 5,
     "metadata": {},
     "output_type": "execute_result"
    }
   ],
   "source": [
    "#hide_input\n",
    "#md('##### {}'.format(titleBTC)) \n",
    "md(\"- {}{} {}{} [| Skaityti daugiau]({}) \".format(xrp['title'],'. ', xrp['body'], ' ...', xrp['url']))"
   ]
  },
  {
   "cell_type": "code",
   "execution_count": 6,
   "id": "prompt-farmer",
   "metadata": {
    "execution": {
     "iopub.execute_input": "2021-10-08T02:06:28.666651Z",
     "iopub.status.busy": "2021-10-08T02:06:28.665963Z",
     "iopub.status.idle": "2021-10-08T02:06:28.668895Z",
     "shell.execute_reply": "2021-10-08T02:06:28.669381Z"
    },
    "papermill": {
     "duration": 0.019868,
     "end_time": "2021-10-08T02:06:28.669512",
     "exception": false,
     "start_time": "2021-10-08T02:06:28.649644",
     "status": "completed"
    },
    "tags": []
   },
   "outputs": [
    {
     "data": {
      "text/markdown": [
       "- Tron (TRX) Price Analysis: Breakout Zone Near $0.1020.  Tron price is forming a base above the $0.0850 zone against the US Dollar. TRX price is now trading above $0.0900 and the 55 simple moving average (4-hours). There was a break above a key bearish trend line with resistance near $0.0900 on the 4-hours chart (data feed via Bitfinex). The pair could start a...The post Tron (TRX) Price Analysis: Breakout Zone Near $0.1020 appeared first on Live Bitcoin News. ... [| Skaityti daugiau](https://www.livebitcoinnews.com/tron-trx-price-analysis-breakout-zone-near-0-1020/) "
      ],
      "text/plain": [
       "<IPython.core.display.Markdown object>"
      ]
     },
     "execution_count": 6,
     "metadata": {},
     "output_type": "execute_result"
    }
   ],
   "source": [
    "#hide_input\n",
    "#md('##### {}'.format(titleBTC)) \n",
    "md(\"- {}{} {}{} [| Skaityti daugiau]({}) \".format(trx['title'],'. ', trx['body'], ' ...', trx['url']))"
   ]
  },
  {
   "cell_type": "code",
   "execution_count": 7,
   "id": "illegal-greece",
   "metadata": {
    "execution": {
     "iopub.execute_input": "2021-10-08T02:06:28.697130Z",
     "iopub.status.busy": "2021-10-08T02:06:28.696534Z",
     "iopub.status.idle": "2021-10-08T02:06:28.699481Z",
     "shell.execute_reply": "2021-10-08T02:06:28.700044Z"
    },
    "papermill": {
     "duration": 0.019219,
     "end_time": "2021-10-08T02:06:28.700209",
     "exception": false,
     "start_time": "2021-10-08T02:06:28.680990",
     "status": "completed"
    },
    "tags": []
   },
   "outputs": [
    {
     "data": {
      "text/markdown": [
       "- Meet The First Ever Polygon Ecosystem Index Token.  Polygon continues to be a substantial force in DeFi. The protocol&#8217;s ease of use and lower fees have been major draws for developers, leading to a wide variety of new projects coming to life on the platform. Meanwhile, the folks over at Amun Tokens are working on DeFi index tokens left and right. In June, the platform announced the launch of two index tokens, $DFI and $DMX, engaged in the Ethereum ecosystem. Given Polygon&#8217;s increased presence lately in DeFi, it was only a matter of time before the team at Amun unleashed a Polygon-based token as well. That time has come, as Amun announced today their latest token headed to pre-sale: PECO. This token looks to encapsulate the best and brightest projects being built on Polygon. Amun, PECO, &#38; The Polygon Ecosystem Amun released their Medium post announcing PECO today in collaboration with the Polygon Foundation and leading Polygon projects. The Foundation is providing $5M in MATIC tokens to seed the index&#8217;s launch, according to the Medium post, and many leading projects are providing seed capital for liquidity. The token initially launches on October 19 and will start with 50% MATIC until the network matures further. Protocol tokens make up the remaining 50%; take a look at the initial PECO compensation on launch below: &#160; As the Polygon network grows and develops, the PECO portfolio will be rebalanced monthly. PECO will be available on both Polygon and Eth... ... [| Skaityti daugiau](https://www.newsbtc.com/news/first-ever-polygon-index-token/) "
      ],
      "text/plain": [
       "<IPython.core.display.Markdown object>"
      ]
     },
     "execution_count": 7,
     "metadata": {},
     "output_type": "execute_result"
    }
   ],
   "source": [
    "#hide_input\n",
    "#md('##### {}'.format(titleBTC)) \n",
    "md(\"- {}{} {}{} [| Skaityti daugiau]({}) \".format(eth['title'],'. ', eth['body'], ' ...', eth['url']))"
   ]
  },
  {
   "cell_type": "code",
   "execution_count": 8,
   "id": "sublime-lounge",
   "metadata": {
    "execution": {
     "iopub.execute_input": "2021-10-08T02:06:28.727229Z",
     "iopub.status.busy": "2021-10-08T02:06:28.726442Z",
     "iopub.status.idle": "2021-10-08T02:06:28.730118Z",
     "shell.execute_reply": "2021-10-08T02:06:28.730702Z"
    },
    "papermill": {
     "duration": 0.019182,
     "end_time": "2021-10-08T02:06:28.730848",
     "exception": false,
     "start_time": "2021-10-08T02:06:28.711666",
     "status": "completed"
    },
    "tags": []
   },
   "outputs": [
    {
     "data": {
      "text/markdown": [
       "- Here’s How Bullish Crypto Investors Really Are on Bitcoin, Ethereum, Cardano, Polkadot, Solana, Luna and XRP: Survey.  A new poll conducted by digital asset investment firm CoinShares shows close to half of investors believe a single crypto asset now has the highest upside potential – and it&#8217;s not Bitcoin (BTC). According to the survey, 42% of investors view Ethereum (ETH) as the most attractive crypto asset based on potential growth, beating Bitcoin [&#8230;]The post Here’s How Bullish Crypto Investors Really Are on Bitcoin, Ethereum, Cardano, Polkadot, Solana, Luna and XRP: Survey appeared first on The Daily Hodl. ... [| Skaityti daugiau](https://dailyhodl.com/2021/10/07/heres-how-bullish-crypto-investors-really-are-on-bitcoin-ethereum-cardano-polkadot-solana-luna-and-xrp-survey/) "
      ],
      "text/plain": [
       "<IPython.core.display.Markdown object>"
      ]
     },
     "execution_count": 8,
     "metadata": {},
     "output_type": "execute_result"
    }
   ],
   "source": [
    "#hide_input\n",
    "#md('##### {}'.format(titleBTC)) \n",
    "md(\"- {}{} {}{} [| Skaityti daugiau]({}) \".format(ada['title'],'. ', ada['body'], ' ...', ada['url']))"
   ]
  },
  {
   "cell_type": "code",
   "execution_count": 9,
   "id": "specified-ordering",
   "metadata": {
    "execution": {
     "iopub.execute_input": "2021-10-08T02:06:28.760731Z",
     "iopub.status.busy": "2021-10-08T02:06:28.760055Z",
     "iopub.status.idle": "2021-10-08T02:06:28.762855Z",
     "shell.execute_reply": "2021-10-08T02:06:28.763494Z"
    },
    "papermill": {
     "duration": 0.020261,
     "end_time": "2021-10-08T02:06:28.763623",
     "exception": false,
     "start_time": "2021-10-08T02:06:28.743362",
     "status": "completed"
    },
    "tags": []
   },
   "outputs": [
    {
     "data": {
      "text/markdown": [
       "- Ethereum Outpaces Bitcoin in Derivatives Open Interest: CryptoCompare Report.  The second-largest cryptocurrency by market capitalization has, throughout September, outpaced the flagship cryptocurrency in terms of open interest across cryptocurrency derivatives products. According to CryptoCompare’s September 2021 Exchange Review, aggregate open interest in Ethereum-based derivatives products grew 4.7% to $5.8 billion last month, while open interest in bitcoin derivatives fell 3.7% since August to $11.9 […] ... [| Skaityti daugiau](https://www.cryptoglobe.com/latest/2021/10/ethereum-outpaces-bitcoin-in-derivatives-open-interest-cryptocompare-report/) "
      ],
      "text/plain": [
       "<IPython.core.display.Markdown object>"
      ]
     },
     "execution_count": 9,
     "metadata": {},
     "output_type": "execute_result"
    }
   ],
   "source": [
    "#hide_input\n",
    "#md('##### {}'.format(titleBTC)) \n",
    "md(\"- {}{} {}{} [| Skaityti daugiau]({}) \".format(exchange['title'],'. ', exchange['body'], ' ...', exchange['url']))"
   ]
  },
  {
   "cell_type": "code",
   "execution_count": null,
   "id": "tender-livestock",
   "metadata": {
    "papermill": {
     "duration": 0.012298,
     "end_time": "2021-10-08T02:06:28.788111",
     "exception": false,
     "start_time": "2021-10-08T02:06:28.775813",
     "status": "completed"
    },
    "tags": []
   },
   "outputs": [],
   "source": []
  },
  {
   "cell_type": "code",
   "execution_count": null,
   "id": "appreciated-diamond",
   "metadata": {
    "papermill": {
     "duration": 0.012748,
     "end_time": "2021-10-08T02:06:28.814109",
     "exception": false,
     "start_time": "2021-10-08T02:06:28.801361",
     "status": "completed"
    },
    "tags": []
   },
   "outputs": [],
   "source": []
  },
  {
   "cell_type": "code",
   "execution_count": null,
   "id": "romance-sweden",
   "metadata": {
    "papermill": {
     "duration": 0.012488,
     "end_time": "2021-10-08T02:06:28.839708",
     "exception": false,
     "start_time": "2021-10-08T02:06:28.827220",
     "status": "completed"
    },
    "tags": []
   },
   "outputs": [],
   "source": []
  },
  {
   "cell_type": "code",
   "execution_count": null,
   "id": "dietary-statistics",
   "metadata": {
    "papermill": {
     "duration": 0.012676,
     "end_time": "2021-10-08T02:06:28.864697",
     "exception": false,
     "start_time": "2021-10-08T02:06:28.852021",
     "status": "completed"
    },
    "tags": []
   },
   "outputs": [],
   "source": []
  }
 ],
 "metadata": {
  "kernelspec": {
   "display_name": "Python 3",
   "language": "python",
   "name": "python3"
  },
  "language_info": {
   "codemirror_mode": {
    "name": "ipython",
    "version": 3
   },
   "file_extension": ".py",
   "mimetype": "text/x-python",
   "name": "python",
   "nbconvert_exporter": "python",
   "pygments_lexer": "ipython3",
   "version": "3.6.15"
  },
  "papermill": {
   "default_parameters": {},
   "duration": 12.226579,
   "end_time": "2021-10-08T02:06:29.284522",
   "environment_variables": {},
   "exception": null,
   "input_path": "Market-News.ipynb",
   "output_path": "Market-News.ipynb",
   "parameters": {},
   "start_time": "2021-10-08T02:06:17.057943",
   "version": "2.2.2"
  }
 },
 "nbformat": 4,
 "nbformat_minor": 5
}