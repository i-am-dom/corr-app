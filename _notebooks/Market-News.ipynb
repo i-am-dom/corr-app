{
 "cells": [
  {
   "cell_type": "markdown",
   "id": "short-greensboro",
   "metadata": {
    "papermill": {
     "duration": 0.016514,
     "end_time": "2021-12-14T02:06:24.972366",
     "exception": false,
     "start_time": "2021-12-14T02:06:24.955852",
     "status": "completed"
    },
    "tags": []
   },
   "source": [
    "# Kriptovaliutų naujienos"
   ]
  },
  {
   "cell_type": "code",
   "execution_count": 1,
   "id": "functioning-knowing",
   "metadata": {
    "execution": {
     "iopub.execute_input": "2021-12-14T02:06:25.014135Z",
     "iopub.status.busy": "2021-12-14T02:06:25.013229Z",
     "iopub.status.idle": "2021-12-14T02:06:26.847069Z",
     "shell.execute_reply": "2021-12-14T02:06:26.847648Z"
    },
    "papermill": {
     "duration": 1.862178,
     "end_time": "2021-12-14T02:06:26.847862",
     "exception": false,
     "start_time": "2021-12-14T02:06:24.985684",
     "status": "completed"
    },
    "tags": []
   },
   "outputs": [],
   "source": [
    "#hide_input\n",
    "import warnings\n",
    "warnings.filterwarnings('ignore')\n",
    "from scripts.read_data import read_api\n",
    "from scripts.read_data import read_news\n",
    "from scripts.read_data import read_covid\n",
    "import matplotlib.pyplot as plt \n",
    "from IPython.display import Markdown as md"
   ]
  },
  {
   "cell_type": "code",
   "execution_count": 2,
   "id": "shared-acceptance",
   "metadata": {
    "execution": {
     "iopub.execute_input": "2021-12-14T02:06:26.885339Z",
     "iopub.status.busy": "2021-12-14T02:06:26.884150Z",
     "iopub.status.idle": "2021-12-14T02:06:35.529465Z",
     "shell.execute_reply": "2021-12-14T02:06:35.528038Z"
    },
    "papermill": {
     "duration": 8.665664,
     "end_time": "2021-12-14T02:06:35.529619",
     "exception": false,
     "start_time": "2021-12-14T02:06:26.863955",
     "status": "completed"
    },
    "tags": []
   },
   "outputs": [],
   "source": [
    "#hide_input\n",
    "blockchain = read_news('blockchain') \n",
    "btc = read_news('btc') \n",
    "xrp = read_news('xrp') \n",
    "trx = read_news('trx') \n",
    "eth = read_news('eth')  \n",
    "ada = read_news('ada')\n",
    "exchange = read_news('exchange') "
   ]
  },
  {
   "cell_type": "code",
   "execution_count": 3,
   "id": "synthetic-notion",
   "metadata": {
    "execution": {
     "iopub.execute_input": "2021-12-14T02:06:35.566170Z",
     "iopub.status.busy": "2021-12-14T02:06:35.565433Z",
     "iopub.status.idle": "2021-12-14T02:06:35.569401Z",
     "shell.execute_reply": "2021-12-14T02:06:35.568689Z"
    },
    "papermill": {
     "duration": 0.026211,
     "end_time": "2021-12-14T02:06:35.569556",
     "exception": false,
     "start_time": "2021-12-14T02:06:35.543345",
     "status": "completed"
    },
    "tags": []
   },
   "outputs": [
    {
     "data": {
      "text/markdown": [
       "- Nike Acquires NFT Fashion Startup RTFKT.  The metaverse is going major. While Nike has dabbled in blockchain technology and digital worlds, and primary athletic-wear competitor Adidas has been more aggressive in the space as of late, the leading apparel brand is putting their foot on the gas. This week, Nike has made it&#8217;s most aggressive blockchain move yet, announcing their acquisition [&#8230;] ... [| Skaityti daugiau](https://bitcoinist.com/nike-acquires-nft-fashion-startup-rtfkt/) "
      ],
      "text/plain": [
       "<IPython.core.display.Markdown object>"
      ]
     },
     "execution_count": 3,
     "metadata": {},
     "output_type": "execute_result"
    }
   ],
   "source": [
    "#hide_input\n",
    "#md('##### {}'.format(titleBTC)) \n",
    "md(\"- {}{} {}{} [| Skaityti daugiau]({}) \".format(blockchain['title'],'. ', blockchain['body'], ' ...', blockchain['url']))"
   ]
  },
  {
   "cell_type": "code",
   "execution_count": 4,
   "id": "aging-caution",
   "metadata": {
    "execution": {
     "iopub.execute_input": "2021-12-14T02:06:35.602298Z",
     "iopub.status.busy": "2021-12-14T02:06:35.601556Z",
     "iopub.status.idle": "2021-12-14T02:06:35.607589Z",
     "shell.execute_reply": "2021-12-14T02:06:35.606981Z"
    },
    "papermill": {
     "duration": 0.025017,
     "end_time": "2021-12-14T02:06:35.607741",
     "exception": false,
     "start_time": "2021-12-14T02:06:35.582724",
     "status": "completed"
    },
    "tags": []
   },
   "outputs": [
    {
     "data": {
      "text/markdown": [
       "- 90% of all Bitcoin has now been mined.  The Bitcoin network has now reached 90% of its total supply. There's only around 2.1 million bitcoin left to mine.The post 90% of all Bitcoin has now been mined appeared first on The Block. ... [| Skaityti daugiau](https://www.theblockcrypto.com/post/127275/90-of-all-bitcoin-has-now-been-mined?utm_source=cryptocompare&utm_medium=rss) "
      ],
      "text/plain": [
       "<IPython.core.display.Markdown object>"
      ]
     },
     "execution_count": 4,
     "metadata": {},
     "output_type": "execute_result"
    }
   ],
   "source": [
    "#hide_input\n",
    "#md('##### {}'.format(titleBTC)) \n",
    "md(\"- {}{} {}{} [| Skaityti daugiau]({}) \".format(btc['title'],'. ', btc['body'], ' ...', btc['url']))"
   ]
  },
  {
   "cell_type": "code",
   "execution_count": 5,
   "id": "organic-actress",
   "metadata": {
    "execution": {
     "iopub.execute_input": "2021-12-14T02:06:35.643621Z",
     "iopub.status.busy": "2021-12-14T02:06:35.642831Z",
     "iopub.status.idle": "2021-12-14T02:06:35.645593Z",
     "shell.execute_reply": "2021-12-14T02:06:35.646289Z"
    },
    "papermill": {
     "duration": 0.024708,
     "end_time": "2021-12-14T02:06:35.646507",
     "exception": false,
     "start_time": "2021-12-14T02:06:35.621799",
     "status": "completed"
    },
    "tags": []
   },
   "outputs": [
    {
     "data": {
      "text/markdown": [
       "- XRP Price Inches Closer to $1, Here’s What Traders Can Expect Next !.  The post XRP Price Inches Closer to $1, Here&#8217;s What Traders Can Expect Next ! appeared first on Coinpedia - Fintech &amp; Cryptocurreny News Media| Crypto GuideIn the last two weeks, cryptocurrency prices have plummeted. Bitcoin&#8217;s price has dropped below $50,000, while Ethereum&#8217;s price is hanging around $4,000. Over the last two weeks, cryptocurrencies have lost more than $800 billion in value. Ripple (XRP) has been consolidating towards a breakout with lower highs and higher lows since last week. The breakout &#8230; ... [| Skaityti daugiau](https://coinpedia.org/price-analysis/xrp-price-inches-closer-to-1-heres-what-traders-can-expect-next/) "
      ],
      "text/plain": [
       "<IPython.core.display.Markdown object>"
      ]
     },
     "execution_count": 5,
     "metadata": {},
     "output_type": "execute_result"
    }
   ],
   "source": [
    "#hide_input\n",
    "#md('##### {}'.format(titleBTC)) \n",
    "md(\"- {}{} {}{} [| Skaityti daugiau]({}) \".format(xrp['title'],'. ', xrp['body'], ' ...', xrp['url']))"
   ]
  },
  {
   "cell_type": "code",
   "execution_count": 6,
   "id": "prompt-farmer",
   "metadata": {
    "execution": {
     "iopub.execute_input": "2021-12-14T02:06:35.690880Z",
     "iopub.status.busy": "2021-12-14T02:06:35.690001Z",
     "iopub.status.idle": "2021-12-14T02:06:35.692766Z",
     "shell.execute_reply": "2021-12-14T02:06:35.693453Z"
    },
    "papermill": {
     "duration": 0.029241,
     "end_time": "2021-12-14T02:06:35.693627",
     "exception": false,
     "start_time": "2021-12-14T02:06:35.664386",
     "status": "completed"
    },
    "tags": []
   },
   "outputs": [
    {
     "data": {
      "text/markdown": [
       "- Panic Sell or Buy the Dip? CoinShares Says Institutions ‘Extremely Polarized’ Over Crypto Market Correction.  Leading digital asset manager CoinShares says that institutional investors are in disagreement over the latest crypto correction. According to CoinShares, crypto investment products saw nearly $88 million worth of inflows last week. However, the numbers may not tell the full story as some investment providers saw more than 10% of their total assets under management (AuM) [&#8230;]The post Panic Sell or Buy the Dip? CoinShares Says Institutions ‘Extremely Polarized’ Over Crypto Market Correction appeared first on The Daily Hodl. ... [| Skaityti daugiau](https://dailyhodl.com/2021/12/13/panic-sell-or-buy-the-dip-coinshares-says-institutions-extremely-polarized-over-crypto-market-correction/) "
      ],
      "text/plain": [
       "<IPython.core.display.Markdown object>"
      ]
     },
     "execution_count": 6,
     "metadata": {},
     "output_type": "execute_result"
    }
   ],
   "source": [
    "#hide_input\n",
    "#md('##### {}'.format(titleBTC)) \n",
    "md(\"- {}{} {}{} [| Skaityti daugiau]({}) \".format(trx['title'],'. ', trx['body'], ' ...', trx['url']))"
   ]
  },
  {
   "cell_type": "code",
   "execution_count": 7,
   "id": "illegal-greece",
   "metadata": {
    "execution": {
     "iopub.execute_input": "2021-12-14T02:06:35.729056Z",
     "iopub.status.busy": "2021-12-14T02:06:35.728365Z",
     "iopub.status.idle": "2021-12-14T02:06:35.731111Z",
     "shell.execute_reply": "2021-12-14T02:06:35.731829Z"
    },
    "papermill": {
     "duration": 0.024091,
     "end_time": "2021-12-14T02:06:35.731996",
     "exception": false,
     "start_time": "2021-12-14T02:06:35.707905",
     "status": "completed"
    },
    "tags": []
   },
   "outputs": [
    {
     "data": {
      "text/markdown": [
       "- Decrypt's Crypto Christmas Gift Guide 2021.  Loading up on gifts for your favorite Bitcoin, Dogecoin, Ethereum, and NFT enthusiasts? We've got you covered right here. ... [| Skaityti daugiau](https://decrypt.co/88169/decrypt-crypto-christmas-gift-guide-2021) "
      ],
      "text/plain": [
       "<IPython.core.display.Markdown object>"
      ]
     },
     "execution_count": 7,
     "metadata": {},
     "output_type": "execute_result"
    }
   ],
   "source": [
    "#hide_input\n",
    "#md('##### {}'.format(titleBTC)) \n",
    "md(\"- {}{} {}{} [| Skaityti daugiau]({}) \".format(eth['title'],'. ', eth['body'], ' ...', eth['url']))"
   ]
  },
  {
   "cell_type": "code",
   "execution_count": 8,
   "id": "sublime-lounge",
   "metadata": {
    "execution": {
     "iopub.execute_input": "2021-12-14T02:06:35.767698Z",
     "iopub.status.busy": "2021-12-14T02:06:35.766960Z",
     "iopub.status.idle": "2021-12-14T02:06:35.769819Z",
     "shell.execute_reply": "2021-12-14T02:06:35.770541Z"
    },
    "papermill": {
     "duration": 0.024189,
     "end_time": "2021-12-14T02:06:35.770717",
     "exception": false,
     "start_time": "2021-12-14T02:06:35.746528",
     "status": "completed"
    },
    "tags": []
   },
   "outputs": [
    {
     "data": {
      "text/markdown": [
       "- Panic Sell or Buy the Dip? CoinShares Says Institutions ‘Extremely Polarized’ Over Crypto Market Correction.  Leading digital asset manager CoinShares says that institutional investors are in disagreement over the latest crypto correction. According to CoinShares, crypto investment products saw nearly $88 million worth of inflows last week. However, the numbers may not tell the full story as some investment providers saw more than 10% of their total assets under management (AuM) [&#8230;]The post Panic Sell or Buy the Dip? CoinShares Says Institutions ‘Extremely Polarized’ Over Crypto Market Correction appeared first on The Daily Hodl. ... [| Skaityti daugiau](https://dailyhodl.com/2021/12/13/panic-sell-or-buy-the-dip-coinshares-says-institutions-extremely-polarized-over-crypto-market-correction/) "
      ],
      "text/plain": [
       "<IPython.core.display.Markdown object>"
      ]
     },
     "execution_count": 8,
     "metadata": {},
     "output_type": "execute_result"
    }
   ],
   "source": [
    "#hide_input\n",
    "#md('##### {}'.format(titleBTC)) \n",
    "md(\"- {}{} {}{} [| Skaityti daugiau]({}) \".format(ada['title'],'. ', ada['body'], ' ...', ada['url']))"
   ]
  },
  {
   "cell_type": "code",
   "execution_count": 9,
   "id": "specified-ordering",
   "metadata": {
    "execution": {
     "iopub.execute_input": "2021-12-14T02:06:35.809806Z",
     "iopub.status.busy": "2021-12-14T02:06:35.809090Z",
     "iopub.status.idle": "2021-12-14T02:06:35.812051Z",
     "shell.execute_reply": "2021-12-14T02:06:35.812709Z"
    },
    "papermill": {
     "duration": 0.024433,
     "end_time": "2021-12-14T02:06:35.812885",
     "exception": false,
     "start_time": "2021-12-14T02:06:35.788452",
     "status": "completed"
    },
    "tags": []
   },
   "outputs": [
    {
     "data": {
      "text/markdown": [
       "- Why SEC’s Gensler Views on Crypto Are More Than ‘Disappointing’.  The Wyatt Earp of crypto, SEC Chairman Gary Gensler, commented to The Wall Street Journal that the cryptocurrency industry falls into the U.S. Securities and Exchange Commission (SEC)&#8217;s “broad remit” and voiced his wish for more robust restrictions to &#8220;protect investors&#8221;, he says; or to widen his jurisdiction, say others. Gensler has previously described crypto [&#8230;] ... [| Skaityti daugiau](https://bitcoinist.com/why-secs-gensler-views-on-crypto-are-more-than/) "
      ],
      "text/plain": [
       "<IPython.core.display.Markdown object>"
      ]
     },
     "execution_count": 9,
     "metadata": {},
     "output_type": "execute_result"
    }
   ],
   "source": [
    "#hide_input\n",
    "#md('##### {}'.format(titleBTC)) \n",
    "md(\"- {}{} {}{} [| Skaityti daugiau]({}) \".format(exchange['title'],'. ', exchange['body'], ' ...', exchange['url']))"
   ]
  },
  {
   "cell_type": "code",
   "execution_count": null,
   "id": "tender-livestock",
   "metadata": {
    "papermill": {
     "duration": 0.015426,
     "end_time": "2021-12-14T02:06:35.843892",
     "exception": false,
     "start_time": "2021-12-14T02:06:35.828466",
     "status": "completed"
    },
    "tags": []
   },
   "outputs": [],
   "source": []
  },
  {
   "cell_type": "code",
   "execution_count": null,
   "id": "appreciated-diamond",
   "metadata": {
    "papermill": {
     "duration": 0.016076,
     "end_time": "2021-12-14T02:06:35.875785",
     "exception": false,
     "start_time": "2021-12-14T02:06:35.859709",
     "status": "completed"
    },
    "tags": []
   },
   "outputs": [],
   "source": []
  },
  {
   "cell_type": "code",
   "execution_count": null,
   "id": "romance-sweden",
   "metadata": {
    "papermill": {
     "duration": 0.015523,
     "end_time": "2021-12-14T02:06:35.907015",
     "exception": false,
     "start_time": "2021-12-14T02:06:35.891492",
     "status": "completed"
    },
    "tags": []
   },
   "outputs": [],
   "source": []
  },
  {
   "cell_type": "code",
   "execution_count": null,
   "id": "dietary-statistics",
   "metadata": {
    "papermill": {
     "duration": 0.016267,
     "end_time": "2021-12-14T02:06:35.941683",
     "exception": false,
     "start_time": "2021-12-14T02:06:35.925416",
     "status": "completed"
    },
    "tags": []
   },
   "outputs": [],
   "source": []
  }
 ],
 "metadata": {
  "kernelspec": {
   "display_name": "Python 3",
   "language": "python",
   "name": "python3"
  },
  "language_info": {
   "codemirror_mode": {
    "name": "ipython",
    "version": 3
   },
   "file_extension": ".py",
   "mimetype": "text/x-python",
   "name": "python",
   "nbconvert_exporter": "python",
   "pygments_lexer": "ipython3",
   "version": "3.6.15"
  },
  "papermill": {
   "default_parameters": {},
   "duration": 12.920728,
   "end_time": "2021-12-14T02:06:36.470720",
   "environment_variables": {},
   "exception": null,
   "input_path": "Market-News.ipynb",
   "output_path": "Market-News.ipynb",
   "parameters": {},
   "start_time": "2021-12-14T02:06:23.549992",
   "version": "2.2.2"
  }
 },
 "nbformat": 4,
 "nbformat_minor": 5
}