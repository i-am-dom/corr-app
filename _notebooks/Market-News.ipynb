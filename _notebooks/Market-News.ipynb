{
 "cells": [
  {
   "cell_type": "markdown",
   "id": "short-greensboro",
   "metadata": {
    "papermill": {
     "duration": 0.015605,
     "end_time": "2021-10-19T02:04:32.291829",
     "exception": false,
     "start_time": "2021-10-19T02:04:32.276224",
     "status": "completed"
    },
    "tags": []
   },
   "source": [
    "# Kriptovaliutų naujienos"
   ]
  },
  {
   "cell_type": "code",
   "execution_count": 1,
   "id": "functioning-knowing",
   "metadata": {
    "execution": {
     "iopub.execute_input": "2021-10-19T02:04:32.325886Z",
     "iopub.status.busy": "2021-10-19T02:04:32.325231Z",
     "iopub.status.idle": "2021-10-19T02:04:33.723606Z",
     "shell.execute_reply": "2021-10-19T02:04:33.722413Z"
    },
    "papermill": {
     "duration": 1.420872,
     "end_time": "2021-10-19T02:04:33.723802",
     "exception": false,
     "start_time": "2021-10-19T02:04:32.302930",
     "status": "completed"
    },
    "tags": []
   },
   "outputs": [],
   "source": [
    "#hide_input\n",
    "import warnings\n",
    "warnings.filterwarnings('ignore')\n",
    "from scripts.read_data import read_api\n",
    "from scripts.read_data import read_news\n",
    "from scripts.read_data import read_covid\n",
    "import matplotlib.pyplot as plt \n",
    "from IPython.display import Markdown as md"
   ]
  },
  {
   "cell_type": "code",
   "execution_count": 2,
   "id": "shared-acceptance",
   "metadata": {
    "execution": {
     "iopub.execute_input": "2021-10-19T02:04:33.752106Z",
     "iopub.status.busy": "2021-10-19T02:04:33.751368Z",
     "iopub.status.idle": "2021-10-19T02:04:42.525480Z",
     "shell.execute_reply": "2021-10-19T02:04:42.525973Z"
    },
    "papermill": {
     "duration": 8.791885,
     "end_time": "2021-10-19T02:04:42.526138",
     "exception": false,
     "start_time": "2021-10-19T02:04:33.734253",
     "status": "completed"
    },
    "tags": []
   },
   "outputs": [],
   "source": [
    "#hide_input\n",
    "blockchain = read_news('blockchain') \n",
    "btc = read_news('btc') \n",
    "xrp = read_news('xrp') \n",
    "trx = read_news('trx') \n",
    "eth = read_news('eth')  \n",
    "ada = read_news('ada')\n",
    "exchange = read_news('exchange') "
   ]
  },
  {
   "cell_type": "code",
   "execution_count": 3,
   "id": "synthetic-notion",
   "metadata": {
    "execution": {
     "iopub.execute_input": "2021-10-19T02:04:42.556233Z",
     "iopub.status.busy": "2021-10-19T02:04:42.555502Z",
     "iopub.status.idle": "2021-10-19T02:04:42.558126Z",
     "shell.execute_reply": "2021-10-19T02:04:42.558674Z"
    },
    "papermill": {
     "duration": 0.021783,
     "end_time": "2021-10-19T02:04:42.558845",
     "exception": false,
     "start_time": "2021-10-19T02:04:42.537062",
     "status": "completed"
    },
    "tags": []
   },
   "outputs": [
    {
     "data": {
      "text/markdown": [
       "- Polkadot: Treasury with more than $800 million to be spent on….  The eighth biggest blockchain by market cap, Polkadot, has been making headlines in October. One reason was DOT&#8217;s strong price rally since 13 October, as previously reported. The rally could also be linked to some exciting developments ahead, such as the upcoming parachain launch and the slot auctions. Adding to this chain of events, founder Gavin [&#8230;] ... [| Skaityti daugiau](https://ambcrypto.com/polkadot-treasury-with-more-than-800-million-to-be-spent-on/) "
      ],
      "text/plain": [
       "<IPython.core.display.Markdown object>"
      ]
     },
     "execution_count": 3,
     "metadata": {},
     "output_type": "execute_result"
    }
   ],
   "source": [
    "#hide_input\n",
    "#md('##### {}'.format(titleBTC)) \n",
    "md(\"- {}{} {}{} [| Skaityti daugiau]({}) \".format(blockchain['title'],'. ', blockchain['body'], ' ...', blockchain['url']))"
   ]
  },
  {
   "cell_type": "code",
   "execution_count": 4,
   "id": "aging-caution",
   "metadata": {
    "execution": {
     "iopub.execute_input": "2021-10-19T02:04:42.586853Z",
     "iopub.status.busy": "2021-10-19T02:04:42.586115Z",
     "iopub.status.idle": "2021-10-19T02:04:42.588829Z",
     "shell.execute_reply": "2021-10-19T02:04:42.589360Z"
    },
    "papermill": {
     "duration": 0.01994,
     "end_time": "2021-10-19T02:04:42.589505",
     "exception": false,
     "start_time": "2021-10-19T02:04:42.569565",
     "status": "completed"
    },
    "tags": []
   },
   "outputs": [
    {
     "data": {
      "text/markdown": [
       "- How developments in El Salvador impact Bitcoin’s path to an ATH.  Bitcoin officially became legal tender in El Salvador on September 7, this year making it the first country to adopt the currency. While the move pushed Bitcoin and the larger crypto market’s narrative in terms of mass adoption it also unleashed a wave of speculations in El Salvador from the opposition as well as the [&#8230;] ... [| Skaityti daugiau](https://ambcrypto.com/how-developments-in-el-salvador-impact-bitcoins-path-to-an-ath/) "
      ],
      "text/plain": [
       "<IPython.core.display.Markdown object>"
      ]
     },
     "execution_count": 4,
     "metadata": {},
     "output_type": "execute_result"
    }
   ],
   "source": [
    "#hide_input\n",
    "#md('##### {}'.format(titleBTC)) \n",
    "md(\"- {}{} {}{} [| Skaityti daugiau]({}) \".format(btc['title'],'. ', btc['body'], ' ...', btc['url']))"
   ]
  },
  {
   "cell_type": "code",
   "execution_count": 5,
   "id": "organic-actress",
   "metadata": {
    "execution": {
     "iopub.execute_input": "2021-10-19T02:04:42.617491Z",
     "iopub.status.busy": "2021-10-19T02:04:42.616215Z",
     "iopub.status.idle": "2021-10-19T02:04:42.621002Z",
     "shell.execute_reply": "2021-10-19T02:04:42.620496Z"
    },
    "papermill": {
     "duration": 0.020618,
     "end_time": "2021-10-19T02:04:42.621132",
     "exception": false,
     "start_time": "2021-10-19T02:04:42.600514",
     "status": "completed"
    },
    "tags": []
   },
   "outputs": [
    {
     "data": {
      "text/markdown": [
       "- SEC Assault On Ripple Hasn’t Negatively Impacted XRP Price — Billionaire Mike Novogratz.  Mike Novogratz, the veteran investor behind crypto-focused merchant bank Galaxy Digital, shared insights on the impact of the U.S Securities and Exchange Commission (SEC) lawsuit against Ripple on XRP. Despite the bombshell suit, XRP is still alive and kicking, Novogratz says. Novogratz: XRP Price Has Tripled Since SEC Lawsuit Novogratz said in a tweet on [&#8230;] ... [| Skaityti daugiau](https://zycrypto.com/sec-assault-on-ripple-hasnt-negatively-impacted-xrp-price-billionaire-mike-novogratz/) "
      ],
      "text/plain": [
       "<IPython.core.display.Markdown object>"
      ]
     },
     "execution_count": 5,
     "metadata": {},
     "output_type": "execute_result"
    }
   ],
   "source": [
    "#hide_input\n",
    "#md('##### {}'.format(titleBTC)) \n",
    "md(\"- {}{} {}{} [| Skaityti daugiau]({}) \".format(xrp['title'],'. ', xrp['body'], ' ...', xrp['url']))"
   ]
  },
  {
   "cell_type": "code",
   "execution_count": 6,
   "id": "prompt-farmer",
   "metadata": {
    "execution": {
     "iopub.execute_input": "2021-10-19T02:04:42.649735Z",
     "iopub.status.busy": "2021-10-19T02:04:42.649136Z",
     "iopub.status.idle": "2021-10-19T02:04:42.652816Z",
     "shell.execute_reply": "2021-10-19T02:04:42.652312Z"
    },
    "papermill": {
     "duration": 0.020465,
     "end_time": "2021-10-19T02:04:42.652942",
     "exception": false,
     "start_time": "2021-10-19T02:04:42.632477",
     "status": "completed"
    },
    "tags": []
   },
   "outputs": [
    {
     "data": {
      "text/markdown": [
       "- Tron (TRX) Consolidation Indicates Decreased Volumetric Action!.  TRON currently holds the 28th position in terms of market cap with a combined value of $6.76 billion and above 71 billion coins in circulating supply. Unlike other cryptocurrencies, TRON is focused on the content sharing and entertainment industry and intends to rule the content creation domain, starting with the gaming industry. It allows creators &#8230; ... [| Skaityti daugiau](https://www.cryptonewsz.com/tron-consolidation-indicates-decreased-volumetric-action/) "
      ],
      "text/plain": [
       "<IPython.core.display.Markdown object>"
      ]
     },
     "execution_count": 6,
     "metadata": {},
     "output_type": "execute_result"
    }
   ],
   "source": [
    "#hide_input\n",
    "#md('##### {}'.format(titleBTC)) \n",
    "md(\"- {}{} {}{} [| Skaityti daugiau]({}) \".format(trx['title'],'. ', trx['body'], ' ...', trx['url']))"
   ]
  },
  {
   "cell_type": "code",
   "execution_count": 7,
   "id": "illegal-greece",
   "metadata": {
    "execution": {
     "iopub.execute_input": "2021-10-19T02:04:42.682089Z",
     "iopub.status.busy": "2021-10-19T02:04:42.681481Z",
     "iopub.status.idle": "2021-10-19T02:04:42.684493Z",
     "shell.execute_reply": "2021-10-19T02:04:42.684951Z"
    },
    "papermill": {
     "duration": 0.020351,
     "end_time": "2021-10-19T02:04:42.685104",
     "exception": false,
     "start_time": "2021-10-19T02:04:42.664753",
     "status": "completed"
    },
    "tags": []
   },
   "outputs": [
    {
     "data": {
      "text/markdown": [
       "- With dApps and smart contracts, will Stacks be Bitcoin’s entry into Ethereum’s turf.  Bitcoin-focused DeFi has long been in the works, to take advantage of its decentralized network. Recently, Stacks co-founder and data scientist Muneeb Ali stated, &#8220;Bitcoin apps and contracts always sounded like good ideas in theory. The only thing that has changed now is that Stacks is making them real.&#8221; Stacks was introduced as a layer-1 [&#8230;] ... [| Skaityti daugiau](https://ambcrypto.com/with-dapps-and-smart-contracts-will-stacks-be-bitcoins-entry-into-ethereums-turf/) "
      ],
      "text/plain": [
       "<IPython.core.display.Markdown object>"
      ]
     },
     "execution_count": 7,
     "metadata": {},
     "output_type": "execute_result"
    }
   ],
   "source": [
    "#hide_input\n",
    "#md('##### {}'.format(titleBTC)) \n",
    "md(\"- {}{} {}{} [| Skaityti daugiau]({}) \".format(eth['title'],'. ', eth['body'], ' ...', eth['url']))"
   ]
  },
  {
   "cell_type": "code",
   "execution_count": 8,
   "id": "sublime-lounge",
   "metadata": {
    "execution": {
     "iopub.execute_input": "2021-10-19T02:04:42.715258Z",
     "iopub.status.busy": "2021-10-19T02:04:42.714619Z",
     "iopub.status.idle": "2021-10-19T02:04:42.717938Z",
     "shell.execute_reply": "2021-10-19T02:04:42.717489Z"
    },
    "papermill": {
     "duration": 0.020628,
     "end_time": "2021-10-19T02:04:42.718060",
     "exception": false,
     "start_time": "2021-10-19T02:04:42.697432",
     "status": "completed"
    },
    "tags": []
   },
   "outputs": [
    {
     "data": {
      "text/markdown": [
       "- Polkadot: Treasury with more than $800 million to be spent on….  The eighth biggest blockchain by market cap, Polkadot, has been making headlines in October. One reason was DOT&#8217;s strong price rally since 13 October, as previously reported. The rally could also be linked to some exciting developments ahead, such as the upcoming parachain launch and the slot auctions. Adding to this chain of events, founder Gavin [&#8230;] ... [| Skaityti daugiau](https://ambcrypto.com/polkadot-treasury-with-more-than-800-million-to-be-spent-on/) "
      ],
      "text/plain": [
       "<IPython.core.display.Markdown object>"
      ]
     },
     "execution_count": 8,
     "metadata": {},
     "output_type": "execute_result"
    }
   ],
   "source": [
    "#hide_input\n",
    "#md('##### {}'.format(titleBTC)) \n",
    "md(\"- {}{} {}{} [| Skaityti daugiau]({}) \".format(ada['title'],'. ', ada['body'], ' ...', ada['url']))"
   ]
  },
  {
   "cell_type": "code",
   "execution_count": 9,
   "id": "specified-ordering",
   "metadata": {
    "execution": {
     "iopub.execute_input": "2021-10-19T02:04:42.749051Z",
     "iopub.status.busy": "2021-10-19T02:04:42.748396Z",
     "iopub.status.idle": "2021-10-19T02:04:42.751777Z",
     "shell.execute_reply": "2021-10-19T02:04:42.752283Z"
    },
    "papermill": {
     "duration": 0.021997,
     "end_time": "2021-10-19T02:04:42.752430",
     "exception": false,
     "start_time": "2021-10-19T02:04:42.730433",
     "status": "completed"
    },
    "tags": []
   },
   "outputs": [
    {
     "data": {
      "text/markdown": [
       "- El Salvador Disables Bitcoin Price On Chivo App To Stop Scalpers.  Bitcoin traders have found a way to use the recently launch Chivo App, the countries own BTC wallet, by El Salvador’s government to make a profit. As part of their BTC Law, this app operates with the second layer payment solution lightning network. Related Reading &#124; Bitcoin Price Smashes Record For Highest Weekly Candle Close Ever Via its official Twitter handle Chivo Wallet announced that Salvadorans will be unable to track the price of BTC on the app. According to the report presented by the team behind the app, some users have been using it to do “scalping”. A type of short-term trading modality, scalping is performed by an operator to take advantage of an asset’s price fluctuations in low timeframes. In previous versions, the app allowed users to “freeze” the price of Bitcoin giving traders an edge to perform this practice by comparing it to exchange rates. The Chivo Wallet allows users to move Bitcoin via the lightning network to other Chivo users or external BTC wallets. Thus, traders can make a profit by scalping the app’s BTC price. The team behind the app clarified the following on the reasons for the decision: The &#8220;scalping&#8221; performed consisted of taking advantage of Chivo keeping the rate frozen for 1 minute and taking advantage of that minute to compare the rate with other exchanges and see if the Bitcoin price went down or up. In the future, the price of Bitcoin will have limited visibility to pre... ... [| Skaityti daugiau](https://www.newsbtc.com/news/bitcoin/el-salvador-disable-bitcoin-price-app/) "
      ],
      "text/plain": [
       "<IPython.core.display.Markdown object>"
      ]
     },
     "execution_count": 9,
     "metadata": {},
     "output_type": "execute_result"
    }
   ],
   "source": [
    "#hide_input\n",
    "#md('##### {}'.format(titleBTC)) \n",
    "md(\"- {}{} {}{} [| Skaityti daugiau]({}) \".format(exchange['title'],'. ', exchange['body'], ' ...', exchange['url']))"
   ]
  },
  {
   "cell_type": "code",
   "execution_count": null,
   "id": "tender-livestock",
   "metadata": {
    "papermill": {
     "duration": 0.013036,
     "end_time": "2021-10-19T02:04:42.778604",
     "exception": false,
     "start_time": "2021-10-19T02:04:42.765568",
     "status": "completed"
    },
    "tags": []
   },
   "outputs": [],
   "source": []
  },
  {
   "cell_type": "code",
   "execution_count": null,
   "id": "appreciated-diamond",
   "metadata": {
    "papermill": {
     "duration": 0.013036,
     "end_time": "2021-10-19T02:04:42.804637",
     "exception": false,
     "start_time": "2021-10-19T02:04:42.791601",
     "status": "completed"
    },
    "tags": []
   },
   "outputs": [],
   "source": []
  },
  {
   "cell_type": "code",
   "execution_count": null,
   "id": "romance-sweden",
   "metadata": {
    "papermill": {
     "duration": 0.012706,
     "end_time": "2021-10-19T02:04:42.830450",
     "exception": false,
     "start_time": "2021-10-19T02:04:42.817744",
     "status": "completed"
    },
    "tags": []
   },
   "outputs": [],
   "source": []
  },
  {
   "cell_type": "code",
   "execution_count": null,
   "id": "dietary-statistics",
   "metadata": {
    "papermill": {
     "duration": 0.012862,
     "end_time": "2021-10-19T02:04:42.856133",
     "exception": false,
     "start_time": "2021-10-19T02:04:42.843271",
     "status": "completed"
    },
    "tags": []
   },
   "outputs": [],
   "source": []
  }
 ],
 "metadata": {
  "kernelspec": {
   "display_name": "Python 3",
   "language": "python",
   "name": "python3"
  },
  "language_info": {
   "codemirror_mode": {
    "name": "ipython",
    "version": 3
   },
   "file_extension": ".py",
   "mimetype": "text/x-python",
   "name": "python",
   "nbconvert_exporter": "python",
   "pygments_lexer": "ipython3",
   "version": "3.6.15"
  },
  "papermill": {
   "default_parameters": {},
   "duration": 12.192124,
   "end_time": "2021-10-19T02:04:43.378688",
   "environment_variables": {},
   "exception": null,
   "input_path": "Market-News.ipynb",
   "output_path": "Market-News.ipynb",
   "parameters": {},
   "start_time": "2021-10-19T02:04:31.186564",
   "version": "2.2.2"
  }
 },
 "nbformat": 4,
 "nbformat_minor": 5
}