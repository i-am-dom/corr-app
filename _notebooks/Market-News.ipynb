{
 "cells": [
  {
   "cell_type": "markdown",
   "id": "short-greensboro",
   "metadata": {
    "papermill": {
     "duration": 0.014433,
     "end_time": "2021-11-09T01:59:10.742649",
     "exception": false,
     "start_time": "2021-11-09T01:59:10.728216",
     "status": "completed"
    },
    "tags": []
   },
   "source": [
    "# Kriptovaliutų naujienos"
   ]
  },
  {
   "cell_type": "code",
   "execution_count": 1,
   "id": "functioning-knowing",
   "metadata": {
    "execution": {
     "iopub.execute_input": "2021-11-09T01:59:10.774573Z",
     "iopub.status.busy": "2021-11-09T01:59:10.773971Z",
     "iopub.status.idle": "2021-11-09T01:59:12.172606Z",
     "shell.execute_reply": "2021-11-09T01:59:12.171730Z"
    },
    "papermill": {
     "duration": 1.419145,
     "end_time": "2021-11-09T01:59:12.172781",
     "exception": false,
     "start_time": "2021-11-09T01:59:10.753636",
     "status": "completed"
    },
    "tags": []
   },
   "outputs": [],
   "source": [
    "#hide_input\n",
    "import warnings\n",
    "warnings.filterwarnings('ignore')\n",
    "from scripts.read_data import read_api\n",
    "from scripts.read_data import read_news\n",
    "from scripts.read_data import read_covid\n",
    "import matplotlib.pyplot as plt \n",
    "from IPython.display import Markdown as md"
   ]
  },
  {
   "cell_type": "code",
   "execution_count": 2,
   "id": "shared-acceptance",
   "metadata": {
    "execution": {
     "iopub.execute_input": "2021-11-09T01:59:12.200755Z",
     "iopub.status.busy": "2021-11-09T01:59:12.199676Z",
     "iopub.status.idle": "2021-11-09T01:59:20.244525Z",
     "shell.execute_reply": "2021-11-09T01:59:20.243869Z"
    },
    "papermill": {
     "duration": 8.061526,
     "end_time": "2021-11-09T01:59:20.244664",
     "exception": false,
     "start_time": "2021-11-09T01:59:12.183138",
     "status": "completed"
    },
    "tags": []
   },
   "outputs": [],
   "source": [
    "#hide_input\n",
    "blockchain = read_news('blockchain') \n",
    "btc = read_news('btc') \n",
    "xrp = read_news('xrp') \n",
    "trx = read_news('trx') \n",
    "eth = read_news('eth')  \n",
    "ada = read_news('ada')\n",
    "exchange = read_news('exchange') "
   ]
  },
  {
   "cell_type": "code",
   "execution_count": 3,
   "id": "synthetic-notion",
   "metadata": {
    "execution": {
     "iopub.execute_input": "2021-11-09T01:59:20.272255Z",
     "iopub.status.busy": "2021-11-09T01:59:20.271601Z",
     "iopub.status.idle": "2021-11-09T01:59:20.274950Z",
     "shell.execute_reply": "2021-11-09T01:59:20.274452Z"
    },
    "papermill": {
     "duration": 0.0191,
     "end_time": "2021-11-09T01:59:20.275064",
     "exception": false,
     "start_time": "2021-11-09T01:59:20.255964",
     "status": "completed"
    },
    "tags": []
   },
   "outputs": [
    {
     "data": {
      "text/markdown": [
       "- ASTRA Protocol and Squire Patton Boggs Partner on Crypto Compliance for Institutional Investors.   ... [| Skaityti daugiau](https://cryptobriefing.com/astra-protocol-and-squire-patton-boggs-partner-crypto-compliance-institutional-investors/?utm_source=main_feed&utm_medium=rss) "
      ],
      "text/plain": [
       "<IPython.core.display.Markdown object>"
      ]
     },
     "execution_count": 3,
     "metadata": {},
     "output_type": "execute_result"
    }
   ],
   "source": [
    "#hide_input\n",
    "#md('##### {}'.format(titleBTC)) \n",
    "md(\"- {}{} {}{} [| Skaityti daugiau]({}) \".format(blockchain['title'],'. ', blockchain['body'], ' ...', blockchain['url']))"
   ]
  },
  {
   "cell_type": "code",
   "execution_count": 4,
   "id": "aging-caution",
   "metadata": {
    "execution": {
     "iopub.execute_input": "2021-11-09T01:59:20.300124Z",
     "iopub.status.busy": "2021-11-09T01:59:20.299529Z",
     "iopub.status.idle": "2021-11-09T01:59:20.302883Z",
     "shell.execute_reply": "2021-11-09T01:59:20.302305Z"
    },
    "papermill": {
     "duration": 0.017672,
     "end_time": "2021-11-09T01:59:20.302988",
     "exception": false,
     "start_time": "2021-11-09T01:59:20.285316",
     "status": "completed"
    },
    "tags": []
   },
   "outputs": [
    {
     "data": {
      "text/markdown": [
       "- Genesis reports downtrend in BTC demand as institutions prefer ETH, DeFi.  &#8216;Tis the season of releasing earnings reports, and the third-quarter growth has not so well for some companies directly engaged in cryptocurrencies. This has been largely thanks to the wild price fluctuations Bitcoin has experienced lately. For instance, Microstrategy, the world’s biggest corporate holder of Bitcoin, witnessed paper losses from holding the digital asset on [&#8230;] ... [| Skaityti daugiau](https://ambcrypto.com/genesis-reports-downtrend-in-btc-demand-as-institutions-prefer-eth-defi/) "
      ],
      "text/plain": [
       "<IPython.core.display.Markdown object>"
      ]
     },
     "execution_count": 4,
     "metadata": {},
     "output_type": "execute_result"
    }
   ],
   "source": [
    "#hide_input\n",
    "#md('##### {}'.format(titleBTC)) \n",
    "md(\"- {}{} {}{} [| Skaityti daugiau]({}) \".format(btc['title'],'. ', btc['body'], ' ...', btc['url']))"
   ]
  },
  {
   "cell_type": "code",
   "execution_count": 5,
   "id": "organic-actress",
   "metadata": {
    "execution": {
     "iopub.execute_input": "2021-11-09T01:59:20.329146Z",
     "iopub.status.busy": "2021-11-09T01:59:20.328545Z",
     "iopub.status.idle": "2021-11-09T01:59:20.331244Z",
     "shell.execute_reply": "2021-11-09T01:59:20.331751Z"
    },
    "papermill": {
     "duration": 0.018703,
     "end_time": "2021-11-09T01:59:20.331924",
     "exception": false,
     "start_time": "2021-11-09T01:59:20.313221",
     "status": "completed"
    },
    "tags": []
   },
   "outputs": [
    {
     "data": {
      "text/markdown": [
       "- BNB, AVAX, POLIS, CRV Price Poised to Hit New ATH Soon!.  The post BNB, AVAX, POLIS, CRV Price Poised to Hit New ATH Soon! appeared first on Coinpedia - Fintech &amp; Cryptocurreny News Media| Crypto Guide&#8211; Altcoins predicted to skyrocket soon! Following a weekend bounce, major cryptocurrencies have continued to rise. six of the top ten cryptocurrencies were trading higher. Profit booking was seen in Binance Coin and Solana, while XRP gained 9%. The worldwide crypto market capitalization increased by 4% to $2.85 trillion. The entire crypto market volume, however, &#8230; ... [| Skaityti daugiau](https://coinpedia.org/altcoin/bnb-avax-polis-crv-price-poised-to-hit-new-ath-soon/) "
      ],
      "text/plain": [
       "<IPython.core.display.Markdown object>"
      ]
     },
     "execution_count": 5,
     "metadata": {},
     "output_type": "execute_result"
    }
   ],
   "source": [
    "#hide_input\n",
    "#md('##### {}'.format(titleBTC)) \n",
    "md(\"- {}{} {}{} [| Skaityti daugiau]({}) \".format(xrp['title'],'. ', xrp['body'], ' ...', xrp['url']))"
   ]
  },
  {
   "cell_type": "code",
   "execution_count": 6,
   "id": "prompt-farmer",
   "metadata": {
    "execution": {
     "iopub.execute_input": "2021-11-09T01:59:20.358922Z",
     "iopub.status.busy": "2021-11-09T01:59:20.358350Z",
     "iopub.status.idle": "2021-11-09T01:59:20.362527Z",
     "shell.execute_reply": "2021-11-09T01:59:20.362993Z"
    },
    "papermill": {
     "duration": 0.020204,
     "end_time": "2021-11-09T01:59:20.363134",
     "exception": false,
     "start_time": "2021-11-09T01:59:20.342930",
     "status": "completed"
    },
    "tags": []
   },
   "outputs": [
    {
     "data": {
      "text/markdown": [
       "- Tron outshines Ethereum, Cardano in these aspects; shows potential for further growth.  In the world of top altcoins like Ethereum, Cardano, and others, alts with smaller market value get very little chance to prove their worth. But, when they do, it&#8217;s worth all the attention. One such alt is Tron (TRX), the brainchild of Justin Sun. The coin is being anticipated to perform exceptionally well in the [&#8230;] ... [| Skaityti daugiau](https://ambcrypto.com/tron-outshines-ethereum-cardano-in-these-aspects-shows-potential-for-further-growth/) "
      ],
      "text/plain": [
       "<IPython.core.display.Markdown object>"
      ]
     },
     "execution_count": 6,
     "metadata": {},
     "output_type": "execute_result"
    }
   ],
   "source": [
    "#hide_input\n",
    "#md('##### {}'.format(titleBTC)) \n",
    "md(\"- {}{} {}{} [| Skaityti daugiau]({}) \".format(trx['title'],'. ', trx['body'], ' ...', trx['url']))"
   ]
  },
  {
   "cell_type": "code",
   "execution_count": 7,
   "id": "illegal-greece",
   "metadata": {
    "execution": {
     "iopub.execute_input": "2021-11-09T01:59:20.390586Z",
     "iopub.status.busy": "2021-11-09T01:59:20.389468Z",
     "iopub.status.idle": "2021-11-09T01:59:20.393323Z",
     "shell.execute_reply": "2021-11-09T01:59:20.393898Z"
    },
    "papermill": {
     "duration": 0.019389,
     "end_time": "2021-11-09T01:59:20.394015",
     "exception": false,
     "start_time": "2021-11-09T01:59:20.374626",
     "status": "completed"
    },
    "tags": []
   },
   "outputs": [
    {
     "data": {
      "text/markdown": [
       "- Genesis reports downtrend in BTC demand as institutions prefer ETH, DeFi.  &#8216;Tis the season of releasing earnings reports, and the third-quarter growth has not so well for some companies directly engaged in cryptocurrencies. This has been largely thanks to the wild price fluctuations Bitcoin has experienced lately. For instance, Microstrategy, the world’s biggest corporate holder of Bitcoin, witnessed paper losses from holding the digital asset on [&#8230;] ... [| Skaityti daugiau](https://ambcrypto.com/genesis-reports-downtrend-in-btc-demand-as-institutions-prefer-eth-defi/) "
      ],
      "text/plain": [
       "<IPython.core.display.Markdown object>"
      ]
     },
     "execution_count": 7,
     "metadata": {},
     "output_type": "execute_result"
    }
   ],
   "source": [
    "#hide_input\n",
    "#md('##### {}'.format(titleBTC)) \n",
    "md(\"- {}{} {}{} [| Skaityti daugiau]({}) \".format(eth['title'],'. ', eth['body'], ' ...', eth['url']))"
   ]
  },
  {
   "cell_type": "code",
   "execution_count": 8,
   "id": "sublime-lounge",
   "metadata": {
    "execution": {
     "iopub.execute_input": "2021-11-09T01:59:20.421760Z",
     "iopub.status.busy": "2021-11-09T01:59:20.421125Z",
     "iopub.status.idle": "2021-11-09T01:59:20.424245Z",
     "shell.execute_reply": "2021-11-09T01:59:20.424781Z"
    },
    "papermill": {
     "duration": 0.019743,
     "end_time": "2021-11-09T01:59:20.424899",
     "exception": false,
     "start_time": "2021-11-09T01:59:20.405156",
     "status": "completed"
    },
    "tags": []
   },
   "outputs": [
    {
     "data": {
      "text/markdown": [
       "- Has Solana finally dissociated itself from FUD fears.  Solana [SOL], now ranked fourth by market cap, set another all-time high of $257 on 7 November. In fact, to many, it seems like SOL won&#8217;t stop for quite some time. In the last year alone, the crypto-asset has accrued over 11,216% ROI to its HODLers. After Solana flipped Cardano to take the fourth spot, [&#8230;] ... [| Skaityti daugiau](https://ambcrypto.com/has-solana-finally-dissociated-itself-from-fud-fears/) "
      ],
      "text/plain": [
       "<IPython.core.display.Markdown object>"
      ]
     },
     "execution_count": 8,
     "metadata": {},
     "output_type": "execute_result"
    }
   ],
   "source": [
    "#hide_input\n",
    "#md('##### {}'.format(titleBTC)) \n",
    "md(\"- {}{} {}{} [| Skaityti daugiau]({}) \".format(ada['title'],'. ', ada['body'], ' ...', ada['url']))"
   ]
  },
  {
   "cell_type": "code",
   "execution_count": 9,
   "id": "specified-ordering",
   "metadata": {
    "execution": {
     "iopub.execute_input": "2021-11-09T01:59:20.453655Z",
     "iopub.status.busy": "2021-11-09T01:59:20.452733Z",
     "iopub.status.idle": "2021-11-09T01:59:20.457173Z",
     "shell.execute_reply": "2021-11-09T01:59:20.457722Z"
    },
    "papermill": {
     "duration": 0.020672,
     "end_time": "2021-11-09T01:59:20.457841",
     "exception": false,
     "start_time": "2021-11-09T01:59:20.437169",
     "status": "completed"
    },
    "tags": []
   },
   "outputs": [
    {
     "data": {
      "text/markdown": [
       "- Coinbase Wallet Launches Standalone Browser Extension.  Coinbase continues to look for more optimization. In a world where versatile wallet tools like Metamask have had immense prevalence for crypto users, the attention and investment into standalone wallets is increasing. Of course, in enters Coinbase, one of the most prevalent names in the world of crypto exchanges. The exchange has been scaling up from providing simple exchange capabilities this year through a number of initiatives. The list of supported tradable tokens on the platform continues to grow rapidly, a new NFT marketplace has millions of users on the waitlist, and now there are new initiatives at Coinbase to further the Coinbase Wallet capabilities. This Browser Does More Than Just Browsin&#8217; A press release to kick off the week for Coinbase has shared the firm&#8217;s latest announcement: the Coinbase Wallet is now available as a full standalone browser extension, available on the Chrome webstore. The exchange first introduced a downloadable browser extension back in May. However, users were only allowed to link wallets to the extension, rather than having direct access. This week&#8217;s update takes the mobile app out of the equation, and will allow Wallet users to have streamlined access towards all wallet capabilities, including connections with NFTs, DeFi platforms, DEXes, and more. Existing Wallet users can now drop WalletLink and download the standalone extension, allowing consumers to import existing sel... ... [| Skaityti daugiau](https://www.newsbtc.com/news/coinbase-wallet-browser-extension/) "
      ],
      "text/plain": [
       "<IPython.core.display.Markdown object>"
      ]
     },
     "execution_count": 9,
     "metadata": {},
     "output_type": "execute_result"
    }
   ],
   "source": [
    "#hide_input\n",
    "#md('##### {}'.format(titleBTC)) \n",
    "md(\"- {}{} {}{} [| Skaityti daugiau]({}) \".format(exchange['title'],'. ', exchange['body'], ' ...', exchange['url']))"
   ]
  },
  {
   "cell_type": "code",
   "execution_count": null,
   "id": "tender-livestock",
   "metadata": {
    "papermill": {
     "duration": 0.014206,
     "end_time": "2021-11-09T01:59:20.485686",
     "exception": false,
     "start_time": "2021-11-09T01:59:20.471480",
     "status": "completed"
    },
    "tags": []
   },
   "outputs": [],
   "source": []
  },
  {
   "cell_type": "code",
   "execution_count": null,
   "id": "appreciated-diamond",
   "metadata": {
    "papermill": {
     "duration": 0.013539,
     "end_time": "2021-11-09T01:59:20.512880",
     "exception": false,
     "start_time": "2021-11-09T01:59:20.499341",
     "status": "completed"
    },
    "tags": []
   },
   "outputs": [],
   "source": []
  },
  {
   "cell_type": "code",
   "execution_count": null,
   "id": "romance-sweden",
   "metadata": {
    "papermill": {
     "duration": 0.012376,
     "end_time": "2021-11-09T01:59:20.537507",
     "exception": false,
     "start_time": "2021-11-09T01:59:20.525131",
     "status": "completed"
    },
    "tags": []
   },
   "outputs": [],
   "source": []
  },
  {
   "cell_type": "code",
   "execution_count": null,
   "id": "dietary-statistics",
   "metadata": {
    "papermill": {
     "duration": 0.013147,
     "end_time": "2021-11-09T01:59:20.563963",
     "exception": false,
     "start_time": "2021-11-09T01:59:20.550816",
     "status": "completed"
    },
    "tags": []
   },
   "outputs": [],
   "source": []
  }
 ],
 "metadata": {
  "kernelspec": {
   "display_name": "Python 3",
   "language": "python",
   "name": "python3"
  },
  "language_info": {
   "codemirror_mode": {
    "name": "ipython",
    "version": 3
   },
   "file_extension": ".py",
   "mimetype": "text/x-python",
   "name": "python",
   "nbconvert_exporter": "python",
   "pygments_lexer": "ipython3",
   "version": "3.6.15"
  },
  "papermill": {
   "default_parameters": {},
   "duration": 11.490374,
   "end_time": "2021-11-09T01:59:20.986611",
   "environment_variables": {},
   "exception": null,
   "input_path": "Market-News.ipynb",
   "output_path": "Market-News.ipynb",
   "parameters": {},
   "start_time": "2021-11-09T01:59:09.496237",
   "version": "2.2.2"
  }
 },
 "nbformat": 4,
 "nbformat_minor": 5
}