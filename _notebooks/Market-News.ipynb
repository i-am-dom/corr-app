{
 "cells": [
  {
   "cell_type": "markdown",
   "id": "short-greensboro",
   "metadata": {
    "papermill": {
     "duration": 0.013439,
     "end_time": "2022-05-04T03:03:56.227216",
     "exception": false,
     "start_time": "2022-05-04T03:03:56.213777",
     "status": "completed"
    },
    "tags": []
   },
   "source": [
    "# Kriptovaliutų naujienos"
   ]
  },
  {
   "cell_type": "code",
   "execution_count": 1,
   "id": "functioning-knowing",
   "metadata": {
    "execution": {
     "iopub.execute_input": "2022-05-04T03:03:56.248519Z",
     "iopub.status.busy": "2022-05-04T03:03:56.247994Z",
     "iopub.status.idle": "2022-05-04T03:03:57.473275Z",
     "shell.execute_reply": "2022-05-04T03:03:57.472736Z"
    },
    "papermill": {
     "duration": 1.236581,
     "end_time": "2022-05-04T03:03:57.473420",
     "exception": false,
     "start_time": "2022-05-04T03:03:56.236839",
     "status": "completed"
    },
    "tags": []
   },
   "outputs": [],
   "source": [
    "#hide_input\n",
    "import warnings\n",
    "warnings.filterwarnings('ignore')\n",
    "from scripts.read_data import read_api\n",
    "from scripts.read_data import read_news\n",
    "from scripts.read_data import read_covid\n",
    "import matplotlib.pyplot as plt \n",
    "from IPython.display import Markdown as md"
   ]
  },
  {
   "cell_type": "code",
   "execution_count": 2,
   "id": "shared-acceptance",
   "metadata": {
    "execution": {
     "iopub.execute_input": "2022-05-04T03:03:57.499715Z",
     "iopub.status.busy": "2022-05-04T03:03:57.499175Z",
     "iopub.status.idle": "2022-05-04T03:04:07.246656Z",
     "shell.execute_reply": "2022-05-04T03:04:07.246139Z"
    },
    "papermill": {
     "duration": 9.76306,
     "end_time": "2022-05-04T03:04:07.246794",
     "exception": false,
     "start_time": "2022-05-04T03:03:57.483734",
     "status": "completed"
    },
    "tags": []
   },
   "outputs": [],
   "source": [
    "#hide_input\n",
    "blockchain = read_news('blockchain') \n",
    "btc = read_news('btc') \n",
    "xrp = read_news('xrp') \n",
    "trx = read_news('trx') \n",
    "eth = read_news('eth')  \n",
    "ada = read_news('ada')\n",
    "exchange = read_news('exchange') "
   ]
  },
  {
   "cell_type": "code",
   "execution_count": 3,
   "id": "synthetic-notion",
   "metadata": {
    "execution": {
     "iopub.execute_input": "2022-05-04T03:04:07.272003Z",
     "iopub.status.busy": "2022-05-04T03:04:07.271450Z",
     "iopub.status.idle": "2022-05-04T03:04:07.273635Z",
     "shell.execute_reply": "2022-05-04T03:04:07.274040Z"
    },
    "papermill": {
     "duration": 0.017711,
     "end_time": "2022-05-04T03:04:07.274167",
     "exception": false,
     "start_time": "2022-05-04T03:04:07.256456",
     "status": "completed"
    },
    "tags": []
   },
   "outputs": [
    {
     "data": {
      "text/markdown": [
       "- Cult.DAO Unveils “Revolt 2 Earn” Token.  Cult.DAO has announced that they will issue a new utility token in the upcoming months. From Guardians to CULTmanders So to say, RVLT can be called the little brother of CULT. While the CULT rewards “revolutionary action” on a protocol level, RVLT is intended to support revolutionary action on a personal level, which entails spreading [&#8230;]The post Cult.DAO Unveils &#8220;Revolt 2 Earn&#8221; Token appeared first on CryptoCoin.News. ... [| Skaityti daugiau](https://cryptocoin.news/news/altcoin/cult-dao-unveils-revolt-2-earn-token-72522/?utm_source=rss&utm_medium=rss&utm_campaign=cult-dao-unveils-revolt-2-earn-token) "
      ],
      "text/plain": [
       "<IPython.core.display.Markdown object>"
      ]
     },
     "execution_count": 3,
     "metadata": {},
     "output_type": "execute_result"
    }
   ],
   "source": [
    "#hide_input\n",
    "#md('##### {}'.format(titleBTC)) \n",
    "md(\"- {}{} {}{} [| Skaityti daugiau]({}) \".format(blockchain['title'],'. ', blockchain['body'], ' ...', blockchain['url']))"
   ]
  },
  {
   "cell_type": "code",
   "execution_count": 4,
   "id": "aging-caution",
   "metadata": {
    "execution": {
     "iopub.execute_input": "2022-05-04T03:04:07.298103Z",
     "iopub.status.busy": "2022-05-04T03:04:07.297528Z",
     "iopub.status.idle": "2022-05-04T03:04:07.299833Z",
     "shell.execute_reply": "2022-05-04T03:04:07.300240Z"
    },
    "papermill": {
     "duration": 0.016736,
     "end_time": "2022-05-04T03:04:07.300362",
     "exception": false,
     "start_time": "2022-05-04T03:04:07.283626",
     "status": "completed"
    },
    "tags": []
   },
   "outputs": [
    {
     "data": {
      "text/markdown": [
       "- Will Bitcoin (BTC) Price Drop To $28k or Surge To $100k? What’s Next For BTC Price In 2022.  The post Will Bitcoin (BTC) Price Drop To $28k or Surge To $100k? What&#8217;s Next For BTC Price In 2022 appeared first on Coinpedia - Fintech &amp; Cryptocurreny News Media| Crypto GuideBitcoin (BTC) is still holding support over $37,500, but it may experience further volatility in the next few days. At press time, the cryptocurrency was trading at around $38,000, essentially unchanged over the previous 24 hours and week. On daily, weekly, and monthly charts, momentum signals have decreased, increasing the risk of a market breakdown. &#8230; ... [| Skaityti daugiau](https://coinpedia.org/bitcoin/will-bitcoin-btc-price-drop-to-28k-or-surge-to-100k-whats-next-for-btc-price-in-2022/) "
      ],
      "text/plain": [
       "<IPython.core.display.Markdown object>"
      ]
     },
     "execution_count": 4,
     "metadata": {},
     "output_type": "execute_result"
    }
   ],
   "source": [
    "#hide_input\n",
    "#md('##### {}'.format(titleBTC)) \n",
    "md(\"- {}{} {}{} [| Skaityti daugiau]({}) \".format(btc['title'],'. ', btc['body'], ' ...', btc['url']))"
   ]
  },
  {
   "cell_type": "code",
   "execution_count": 5,
   "id": "organic-actress",
   "metadata": {
    "execution": {
     "iopub.execute_input": "2022-05-04T03:04:07.323908Z",
     "iopub.status.busy": "2022-05-04T03:04:07.323386Z",
     "iopub.status.idle": "2022-05-04T03:04:07.326053Z",
     "shell.execute_reply": "2022-05-04T03:04:07.326434Z"
    },
    "papermill": {
     "duration": 0.016599,
     "end_time": "2022-05-04T03:04:07.326553",
     "exception": false,
     "start_time": "2022-05-04T03:04:07.309954",
     "status": "completed"
    },
    "tags": []
   },
   "outputs": [
    {
     "data": {
      "text/markdown": [
       "- Ripple Was ‘a Buyer of XRP in the Secondary Market’ and ‘Expects’ to Keep Buying as ODL Adoption Grows.  Ripple’s $XRP-powered On-Demand Liquidity (ODL) solution has seen its volume grow 8x year-over-year in the first quarter of 2022, with RippleNet seeing $15 billion in annualized payment volumes during the quarter. According to Ripple’s Q1 2022 XRP Markets Report, the volume of its XPR-powered solution saw market “unprecedented growth” as its customers used ODL “for […] ... [| Skaityti daugiau](https://www.cryptoglobe.com/latest/2022/05/ripples-xrp-powered-solution-saw-volumes-grow-8x-year-over-year-in-q1/) "
      ],
      "text/plain": [
       "<IPython.core.display.Markdown object>"
      ]
     },
     "execution_count": 5,
     "metadata": {},
     "output_type": "execute_result"
    }
   ],
   "source": [
    "#hide_input\n",
    "#md('##### {}'.format(titleBTC)) \n",
    "md(\"- {}{} {}{} [| Skaityti daugiau]({}) \".format(xrp['title'],'. ', xrp['body'], ' ...', xrp['url']))"
   ]
  },
  {
   "cell_type": "code",
   "execution_count": 6,
   "id": "prompt-farmer",
   "metadata": {
    "execution": {
     "iopub.execute_input": "2022-05-04T03:04:07.350900Z",
     "iopub.status.busy": "2022-05-04T03:04:07.350397Z",
     "iopub.status.idle": "2022-05-04T03:04:07.353570Z",
     "shell.execute_reply": "2022-05-04T03:04:07.353172Z"
    },
    "papermill": {
     "duration": 0.017249,
     "end_time": "2022-05-04T03:04:07.353672",
     "exception": false,
     "start_time": "2022-05-04T03:04:07.336423",
     "status": "completed"
    },
    "tags": []
   },
   "outputs": [
    {
     "data": {
      "text/markdown": [
       "- TRX Technical Analysis: Will Buyers Close Above $0.070?.  TRX prices show a formidable selling pressure above the $0.70 zone pushing the bullish growth under. So should you expect a bullish favored closing today? Key technical points: TRX prices struggle to sustain above the $0.070 mark. The MACD indicator shows a bullish trend continuation. The 24-hour trading volume of Tron is $1.65 Billion, marking a 6% fall. Past Performance of TRX TRX coin price struggles to sustain above the $0.070 resistance zone and the 200-day EMA, coinciding with the resistance zone. After failing miserable yesterday, the buyers are recreating a positive candle but face higher price rejection lowering the chances of a bullish favored closing. Source-Tradingview TRX Technical Analysis The higher price rejection in the daily candle projects a bearish closing under the resistance zone. However, the bullish growth undermines the possibility of an evening star pattern and projects a potential rally. The crucial daily EMAs maintain a falling trend in a bearish alignment, but the spread between the 50 and 100-day EMA continues to lower. Hence, the chances of a bullish crossover are increasing significantly. The RSI slope suggests an upwards trend towards the midline, suggesting an increase in purchasing power. In addition, the 14-day average line indicates an uptrend above the mid-point line. The MACD and the signal line are continuing to keep an upward trend following an equilateral cross in the direction of bull... ... [| Skaityti daugiau](https://www.cryptoknowmics.com/news/trx-technical-analysis-will-buyers-close-above-0-070/?utm_source=rss&utm_medium=rss&utm_campaign=trx-technical-analysis-will-buyers-close-above-0-070) "
      ],
      "text/plain": [
       "<IPython.core.display.Markdown object>"
      ]
     },
     "execution_count": 6,
     "metadata": {},
     "output_type": "execute_result"
    }
   ],
   "source": [
    "#hide_input\n",
    "#md('##### {}'.format(titleBTC)) \n",
    "md(\"- {}{} {}{} [| Skaityti daugiau]({}) \".format(trx['title'],'. ', trx['body'], ' ...', trx['url']))"
   ]
  },
  {
   "cell_type": "code",
   "execution_count": 7,
   "id": "illegal-greece",
   "metadata": {
    "execution": {
     "iopub.execute_input": "2022-05-04T03:04:07.378431Z",
     "iopub.status.busy": "2022-05-04T03:04:07.377404Z",
     "iopub.status.idle": "2022-05-04T03:04:07.380847Z",
     "shell.execute_reply": "2022-05-04T03:04:07.381249Z"
    },
    "papermill": {
     "duration": 0.017274,
     "end_time": "2022-05-04T03:04:07.381364",
     "exception": false,
     "start_time": "2022-05-04T03:04:07.364090",
     "status": "completed"
    },
    "tags": []
   },
   "outputs": [
    {
     "data": {
      "text/markdown": [
       "- Vitalik: L2 transaction fees need to be under 5c to be 'truly acceptable'.  Despite Layer-2s offering relatively cheap transactions, Vitalik Buterin said that all transactions need to be under $0.05 to be truly acceptable.  ... [| Skaityti daugiau](https://cointelegraph.com/news/vitalik-l2-transaction-fees-need-to-be-under-5c-to-be-truly-acceptable) "
      ],
      "text/plain": [
       "<IPython.core.display.Markdown object>"
      ]
     },
     "execution_count": 7,
     "metadata": {},
     "output_type": "execute_result"
    }
   ],
   "source": [
    "#hide_input\n",
    "#md('##### {}'.format(titleBTC)) \n",
    "md(\"- {}{} {}{} [| Skaityti daugiau]({}) \".format(eth['title'],'. ', eth['body'], ' ...', eth['url']))"
   ]
  },
  {
   "cell_type": "code",
   "execution_count": 8,
   "id": "sublime-lounge",
   "metadata": {
    "execution": {
     "iopub.execute_input": "2022-05-04T03:04:07.407013Z",
     "iopub.status.busy": "2022-05-04T03:04:07.406509Z",
     "iopub.status.idle": "2022-05-04T03:04:07.409374Z",
     "shell.execute_reply": "2022-05-04T03:04:07.408948Z"
    },
    "papermill": {
     "duration": 0.017624,
     "end_time": "2022-05-04T03:04:07.409472",
     "exception": false,
     "start_time": "2022-05-04T03:04:07.391848",
     "status": "completed"
    },
    "tags": []
   },
   "outputs": [
    {
     "data": {
      "text/markdown": [
       "- The best-case outcome for Cardano’s [ADA] price action could look like this.  Cardano&#8217;s [ADA] price has been well under bearish control for a while now. Since falling below its EMA ribbons, the altcoin seems to have found renewed selling pressure. While this may be a sign of further downside moving forward, the current falling wedge setup held the potential for short-term gains. At press time, ADA was [&#8230;] ... [| Skaityti daugiau](https://ambcrypto.com/the-best-case-outcome-for-cardanos-ada-price-action-could-look-like-this/) "
      ],
      "text/plain": [
       "<IPython.core.display.Markdown object>"
      ]
     },
     "execution_count": 8,
     "metadata": {},
     "output_type": "execute_result"
    }
   ],
   "source": [
    "#hide_input\n",
    "#md('##### {}'.format(titleBTC)) \n",
    "md(\"- {}{} {}{} [| Skaityti daugiau]({}) \".format(ada['title'],'. ', ada['body'], ' ...', ada['url']))"
   ]
  },
  {
   "cell_type": "code",
   "execution_count": 9,
   "id": "specified-ordering",
   "metadata": {
    "execution": {
     "iopub.execute_input": "2022-05-04T03:04:07.435927Z",
     "iopub.status.busy": "2022-05-04T03:04:07.435409Z",
     "iopub.status.idle": "2022-05-04T03:04:07.438072Z",
     "shell.execute_reply": "2022-05-04T03:04:07.438507Z"
    },
    "papermill": {
     "duration": 0.018339,
     "end_time": "2022-05-04T03:04:07.438625",
     "exception": false,
     "start_time": "2022-05-04T03:04:07.420286",
     "status": "completed"
    },
    "tags": []
   },
   "outputs": [
    {
     "data": {
      "text/markdown": [
       "- Coinbase said to end talks to buy Brazil crypto unicorn 2TM.  Coinbase Global (NASDAQ:COIN) is said to end talks to acquire 2TM, owner of Mercado Bitcoin, Brazil's largest crypto exchange. The talks could have resulted in a controlling acquisition or a minority stake sale of 2TM, according to a Bloomberg report. The news comes after the Estadao newspaper in late March reported that Coinbase (COIN) was in talks to acquire 2TM. Talks between the companies have been going on since last year. Recall in January MercadoLibre (MELI) acquired shares in 2TM Group, parent firm of MercadoBitcoin.com, and made a strategic investment in Paxos, a blockchain infrastructure platform that powers the Mercado Pago cryptocurrency experience in Brazil. Last month, there was a report that Coinbase (COIN) was close to an acquisition of BtcTurk, Turkey’s largest cryptocurrency exchanges, for $3.2 billion. ... [| Skaityti daugiau](https://seekingalpha.com/news/3831691-coinbase-said-to-end-talks-to-buy-brazil-crypto-unicorn-2tm?utm_source=cryptocompare.com&utm_medium=referral) "
      ],
      "text/plain": [
       "<IPython.core.display.Markdown object>"
      ]
     },
     "execution_count": 9,
     "metadata": {},
     "output_type": "execute_result"
    }
   ],
   "source": [
    "#hide_input\n",
    "#md('##### {}'.format(titleBTC)) \n",
    "md(\"- {}{} {}{} [| Skaityti daugiau]({}) \".format(exchange['title'],'. ', exchange['body'], ' ...', exchange['url']))"
   ]
  },
  {
   "cell_type": "code",
   "execution_count": null,
   "id": "tender-livestock",
   "metadata": {
    "papermill": {
     "duration": 0.01135,
     "end_time": "2022-05-04T03:04:07.461344",
     "exception": false,
     "start_time": "2022-05-04T03:04:07.449994",
     "status": "completed"
    },
    "tags": []
   },
   "outputs": [],
   "source": []
  },
  {
   "cell_type": "code",
   "execution_count": null,
   "id": "appreciated-diamond",
   "metadata": {
    "papermill": {
     "duration": 0.011281,
     "end_time": "2022-05-04T03:04:07.484158",
     "exception": false,
     "start_time": "2022-05-04T03:04:07.472877",
     "status": "completed"
    },
    "tags": []
   },
   "outputs": [],
   "source": []
  },
  {
   "cell_type": "code",
   "execution_count": null,
   "id": "romance-sweden",
   "metadata": {
    "papermill": {
     "duration": 0.011291,
     "end_time": "2022-05-04T03:04:07.507725",
     "exception": false,
     "start_time": "2022-05-04T03:04:07.496434",
     "status": "completed"
    },
    "tags": []
   },
   "outputs": [],
   "source": []
  },
  {
   "cell_type": "code",
   "execution_count": null,
   "id": "dietary-statistics",
   "metadata": {
    "papermill": {
     "duration": 0.011278,
     "end_time": "2022-05-04T03:04:07.530301",
     "exception": false,
     "start_time": "2022-05-04T03:04:07.519023",
     "status": "completed"
    },
    "tags": []
   },
   "outputs": [],
   "source": []
  }
 ],
 "metadata": {
  "kernelspec": {
   "display_name": "Python 3",
   "language": "python",
   "name": "python3"
  },
  "language_info": {
   "codemirror_mode": {
    "name": "ipython",
    "version": 3
   },
   "file_extension": ".py",
   "mimetype": "text/x-python",
   "name": "python",
   "nbconvert_exporter": "python",
   "pygments_lexer": "ipython3",
   "version": "3.6.15"
  },
  "papermill": {
   "default_parameters": {},
   "duration": 12.774943,
   "end_time": "2022-05-04T03:04:08.061070",
   "environment_variables": {},
   "exception": null,
   "input_path": "Market-News.ipynb",
   "output_path": "Market-News.ipynb",
   "parameters": {},
   "start_time": "2022-05-04T03:03:55.286127",
   "version": "2.2.2"
  }
 },
 "nbformat": 4,
 "nbformat_minor": 5
}