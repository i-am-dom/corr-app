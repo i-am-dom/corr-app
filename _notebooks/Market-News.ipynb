{
 "cells": [
  {
   "cell_type": "markdown",
   "id": "short-greensboro",
   "metadata": {
    "papermill": {
     "duration": 0.018058,
     "end_time": "2022-07-21T03:16:00.494554",
     "exception": false,
     "start_time": "2022-07-21T03:16:00.476496",
     "status": "completed"
    },
    "tags": []
   },
   "source": [
    "# Kriptovaliutų naujienos"
   ]
  },
  {
   "cell_type": "code",
   "execution_count": 1,
   "id": "functioning-knowing",
   "metadata": {
    "execution": {
     "iopub.execute_input": "2022-07-21T03:16:00.531659Z",
     "iopub.status.busy": "2022-07-21T03:16:00.530947Z",
     "iopub.status.idle": "2022-07-21T03:16:01.994679Z",
     "shell.execute_reply": "2022-07-21T03:16:01.994014Z"
    },
    "papermill": {
     "duration": 1.48912,
     "end_time": "2022-07-21T03:16:01.994845",
     "exception": false,
     "start_time": "2022-07-21T03:16:00.505725",
     "status": "completed"
    },
    "tags": []
   },
   "outputs": [],
   "source": [
    "#hide_input\n",
    "import warnings\n",
    "warnings.filterwarnings('ignore')\n",
    "from scripts.read_data import read_api\n",
    "from scripts.read_data import read_news\n",
    "from scripts.read_data import read_covid\n",
    "import matplotlib.pyplot as plt \n",
    "from IPython.display import Markdown as md"
   ]
  },
  {
   "cell_type": "code",
   "execution_count": 2,
   "id": "shared-acceptance",
   "metadata": {
    "execution": {
     "iopub.execute_input": "2022-07-21T03:16:02.024673Z",
     "iopub.status.busy": "2022-07-21T03:16:02.023405Z",
     "iopub.status.idle": "2022-07-21T03:16:16.065900Z",
     "shell.execute_reply": "2022-07-21T03:16:16.066480Z"
    },
    "papermill": {
     "duration": 14.060751,
     "end_time": "2022-07-21T03:16:16.066659",
     "exception": false,
     "start_time": "2022-07-21T03:16:02.005908",
     "status": "completed"
    },
    "tags": []
   },
   "outputs": [],
   "source": [
    "#hide_input\n",
    "blockchain = read_news('blockchain') \n",
    "btc = read_news('btc') \n",
    "xrp = read_news('xrp') \n",
    "trx = read_news('trx') \n",
    "eth = read_news('eth')  \n",
    "ada = read_news('ada')\n",
    "exchange = read_news('exchange') "
   ]
  },
  {
   "cell_type": "code",
   "execution_count": 3,
   "id": "synthetic-notion",
   "metadata": {
    "execution": {
     "iopub.execute_input": "2022-07-21T03:16:16.094676Z",
     "iopub.status.busy": "2022-07-21T03:16:16.093930Z",
     "iopub.status.idle": "2022-07-21T03:16:16.101237Z",
     "shell.execute_reply": "2022-07-21T03:16:16.100514Z"
    },
    "papermill": {
     "duration": 0.024764,
     "end_time": "2022-07-21T03:16:16.101369",
     "exception": false,
     "start_time": "2022-07-21T03:16:16.076605",
     "status": "completed"
    },
    "tags": []
   },
   "outputs": [
    {
     "data": {
      "text/markdown": [
       "- What Is Algorand Coin?.  Cryptocurrencies are developing with more innovations, thanks to technology and curiosity. There&#8217;s ALGO, a new cryptocurrency and blockchain platform touted as Ethereum&#8217;s primary challenge. It&#8217;s open-source, decentralized, and has high-speed transactions. Before investing in any cryptocurrency, it&#8217;s important to understand its basics. This article introduces Algorand Coin, what it is and how it works.&#160; What &#8230;  What Is Algorand Coin? Read More &#187; ... [| Skaityti daugiau](https://www.cryptopolitan.com/what-is-algorand-coin/) "
      ],
      "text/plain": [
       "<IPython.core.display.Markdown object>"
      ]
     },
     "execution_count": 3,
     "metadata": {},
     "output_type": "execute_result"
    }
   ],
   "source": [
    "#hide_input\n",
    "#md('##### {}'.format(titleBTC)) \n",
    "md(\"- {}{} {}{} [| Skaityti daugiau]({}) \".format(blockchain['title'],'. ', blockchain['body'], ' ...', blockchain['url']))"
   ]
  },
  {
   "cell_type": "code",
   "execution_count": 4,
   "id": "aging-caution",
   "metadata": {
    "execution": {
     "iopub.execute_input": "2022-07-21T03:16:16.130324Z",
     "iopub.status.busy": "2022-07-21T03:16:16.129036Z",
     "iopub.status.idle": "2022-07-21T03:16:16.132536Z",
     "shell.execute_reply": "2022-07-21T03:16:16.133091Z"
    },
    "papermill": {
     "duration": 0.021515,
     "end_time": "2022-07-21T03:16:16.133236",
     "exception": false,
     "start_time": "2022-07-21T03:16:16.111721",
     "status": "completed"
    },
    "tags": []
   },
   "outputs": [
    {
     "data": {
      "text/markdown": [
       "- TA: Bitcoin Price Breaks $24K, Why BTC Could Rise Further To $25K.  Bitcoin gained pace and cleared the $24,000 resistance against the US Dollar. BTC could rise further towards $25,000 if it stays above the $23,000 support. Bitcoin remained in a positive zone and climbed above the $24,000 resistance zone. The price is now trading above the $23,000 level and testing the 100 hourly simple moving average. There is a key bullish trend line forming with support near $23,200 on the hourly chart of the BTC/USD pair (data feed from Kraken). The pair might continue to rise if it clears the $23,750 and $24,000 levels. Bitcoin Price Remains In Uptrend Bitcoin price started a steady increase after it cleared the $23,000 resistance zone. BTC gained pace for a move above the $23,500 resistance level. The price even broke the $23,750 level and settled above the 100 hourly simple moving average. Finally, it spiked above the $24,000 level. A high was formed near $24,264 and the price is now consolidating gains. There was a minor downside correction below the $23,750 level. Bitcoin traded below the 38.2% Fib retracement level of the upward move from the $21,405 swing low to $24,264 high. However, the bulls were active near the $23,000 support zone. There is also a key bullish trend line forming with support near $23,200 on the hourly chart of the BTC/USD pair. On the upside, bitcoin price could face resistance near the $23,750 level. The next key resistance is near the $24,000 zone. Source: BTCUSD on TradingVie... ... [| Skaityti daugiau](https://www.newsbtc.com/analysis/btc/bitcoin-price-breaks-24k/) "
      ],
      "text/plain": [
       "<IPython.core.display.Markdown object>"
      ]
     },
     "execution_count": 4,
     "metadata": {},
     "output_type": "execute_result"
    }
   ],
   "source": [
    "#hide_input\n",
    "#md('##### {}'.format(titleBTC)) \n",
    "md(\"- {}{} {}{} [| Skaityti daugiau]({}) \".format(btc['title'],'. ', btc['body'], ' ...', btc['url']))"
   ]
  },
  {
   "cell_type": "code",
   "execution_count": 5,
   "id": "organic-actress",
   "metadata": {
    "execution": {
     "iopub.execute_input": "2022-07-21T03:16:16.169873Z",
     "iopub.status.busy": "2022-07-21T03:16:16.169178Z",
     "iopub.status.idle": "2022-07-21T03:16:16.174543Z",
     "shell.execute_reply": "2022-07-21T03:16:16.175042Z"
    },
    "papermill": {
     "duration": 0.022843,
     "end_time": "2022-07-21T03:16:16.175187",
     "exception": false,
     "start_time": "2022-07-21T03:16:16.152344",
     "status": "completed"
    },
    "tags": []
   },
   "outputs": [
    {
     "data": {
      "text/markdown": [
       "- SEC objects to XRP holders aiding Ripple defense, moves to prohibit lawyer.  As the case against Ripple rages on, the SEC wants to see certain “friends of the court” in support of Ripple be barred from providing legal aid to the defense. ... [| Skaityti daugiau](https://cointelegraph.com/news/sec-objects-to-xrp-holders-aiding-ripple-defense-moves-to-prohibit-lawyer) "
      ],
      "text/plain": [
       "<IPython.core.display.Markdown object>"
      ]
     },
     "execution_count": 5,
     "metadata": {},
     "output_type": "execute_result"
    }
   ],
   "source": [
    "#hide_input\n",
    "#md('##### {}'.format(titleBTC)) \n",
    "md(\"- {}{} {}{} [| Skaityti daugiau]({}) \".format(xrp['title'],'. ', xrp['body'], ' ...', xrp['url']))"
   ]
  },
  {
   "cell_type": "code",
   "execution_count": 6,
   "id": "prompt-farmer",
   "metadata": {
    "execution": {
     "iopub.execute_input": "2022-07-21T03:16:16.204557Z",
     "iopub.status.busy": "2022-07-21T03:16:16.203329Z",
     "iopub.status.idle": "2022-07-21T03:16:16.206777Z",
     "shell.execute_reply": "2022-07-21T03:16:16.207312Z"
    },
    "papermill": {
     "duration": 0.021033,
     "end_time": "2022-07-21T03:16:16.207453",
     "exception": false,
     "start_time": "2022-07-21T03:16:16.186420",
     "status": "completed"
    },
    "tags": []
   },
   "outputs": [
    {
     "data": {
      "text/markdown": [
       "- Tron (TRX) Price Analysis: Bulls Aim Fresh Run to $0.075.  Tron price started a fresh increase from the $0.065 support against the US Dollar. TRX price is now trading above $0.0670 and the 55 simple moving average (4-hours). There is a major bullish trend line forming with support near $0.0690 on the 4-hours chart (data feed via Bitfinex). The pair could continue to move up...The post Tron (TRX) Price Analysis: Bulls Aim Fresh Run to $0.075 appeared first on Live Bitcoin News. ... [| Skaityti daugiau](https://www.livebitcoinnews.com/tron-trx-price-analysis-bulls-aim-fresh-run-to-0-075/) "
      ],
      "text/plain": [
       "<IPython.core.display.Markdown object>"
      ]
     },
     "execution_count": 6,
     "metadata": {},
     "output_type": "execute_result"
    }
   ],
   "source": [
    "#hide_input\n",
    "#md('##### {}'.format(titleBTC)) \n",
    "md(\"- {}{} {}{} [| Skaityti daugiau]({}) \".format(trx['title'],'. ', trx['body'], ' ...', trx['url']))"
   ]
  },
  {
   "cell_type": "code",
   "execution_count": 7,
   "id": "illegal-greece",
   "metadata": {
    "execution": {
     "iopub.execute_input": "2022-07-21T03:16:16.235052Z",
     "iopub.status.busy": "2022-07-21T03:16:16.234382Z",
     "iopub.status.idle": "2022-07-21T03:16:16.240215Z",
     "shell.execute_reply": "2022-07-21T03:16:16.240720Z"
    },
    "papermill": {
     "duration": 0.022382,
     "end_time": "2022-07-21T03:16:16.240863",
     "exception": false,
     "start_time": "2022-07-21T03:16:16.218481",
     "status": "completed"
    },
    "tags": []
   },
   "outputs": [
    {
     "data": {
      "text/markdown": [
       "- Nifty: Major BAYC hodler loses 100 ETH in 'joke' domain sale gone wrong.  Nickelodeon’s sell-out NFT drop has surged to second place on OpenSea’s 24-hour sales volume chart, and former Simpson’s animator Erick Tran is working on an animated NFT series.  ... [| Skaityti daugiau](https://cointelegraph.com/news/nifty-major-bayc-hodler-loses-100-eth-in-joke-domain-sale-gone-wrong) "
      ],
      "text/plain": [
       "<IPython.core.display.Markdown object>"
      ]
     },
     "execution_count": 7,
     "metadata": {},
     "output_type": "execute_result"
    }
   ],
   "source": [
    "#hide_input\n",
    "#md('##### {}'.format(titleBTC)) \n",
    "md(\"- {}{} {}{} [| Skaityti daugiau]({}) \".format(eth['title'],'. ', eth['body'], ' ...', eth['url']))"
   ]
  },
  {
   "cell_type": "code",
   "execution_count": 8,
   "id": "sublime-lounge",
   "metadata": {
    "execution": {
     "iopub.execute_input": "2022-07-21T03:16:16.273863Z",
     "iopub.status.busy": "2022-07-21T03:16:16.273107Z",
     "iopub.status.idle": "2022-07-21T03:16:16.275778Z",
     "shell.execute_reply": "2022-07-21T03:16:16.276267Z"
    },
    "papermill": {
     "duration": 0.022707,
     "end_time": "2022-07-21T03:16:16.276395",
     "exception": false,
     "start_time": "2022-07-21T03:16:16.253688",
     "status": "completed"
    },
    "tags": []
   },
   "outputs": [
    {
     "data": {
      "text/markdown": [
       "- Cardano ($ADA) Maintains Development Activity Lead Over Other Top Cryptos.  Development activity for Cardano ($ADA) has managed to remain above that of other top cryptocurrencies over the past 30 days, even amid a cryptocurrency market recovery that saw its rival smart contract network Ethereum ($ETH) move up over 40%. According to data from cryptocurrency analytics firm Santiment, Cardano’s development activity, which tracks “the number of […] ... [| Skaityti daugiau](https://www.cryptoglobe.com/latest/2022/07/cardano-ada-maintains-development-activity-lead-over-other-top-cryptos/) "
      ],
      "text/plain": [
       "<IPython.core.display.Markdown object>"
      ]
     },
     "execution_count": 8,
     "metadata": {},
     "output_type": "execute_result"
    }
   ],
   "source": [
    "#hide_input\n",
    "#md('##### {}'.format(titleBTC)) \n",
    "md(\"- {}{} {}{} [| Skaityti daugiau]({}) \".format(ada['title'],'. ', ada['body'], ' ...', ada['url']))"
   ]
  },
  {
   "cell_type": "code",
   "execution_count": 9,
   "id": "specified-ordering",
   "metadata": {
    "execution": {
     "iopub.execute_input": "2022-07-21T03:16:16.305638Z",
     "iopub.status.busy": "2022-07-21T03:16:16.304962Z",
     "iopub.status.idle": "2022-07-21T03:16:16.308266Z",
     "shell.execute_reply": "2022-07-21T03:16:16.308807Z"
    },
    "papermill": {
     "duration": 0.020495,
     "end_time": "2022-07-21T03:16:16.308945",
     "exception": false,
     "start_time": "2022-07-21T03:16:16.288450",
     "status": "completed"
    },
    "tags": []
   },
   "outputs": [
    {
     "data": {
      "text/markdown": [
       "- Crypto lender Vauld seeks protection against creditors: Report.  The crypto exchange, which is backed by Peter Thiel and Coinbase, halted withdrawals in July following an apparent run on its assets.  ... [| Skaityti daugiau](https://cointelegraph.com/news/crypto-lender-vauld-seeks-protection-against-creditors-report) "
      ],
      "text/plain": [
       "<IPython.core.display.Markdown object>"
      ]
     },
     "execution_count": 9,
     "metadata": {},
     "output_type": "execute_result"
    }
   ],
   "source": [
    "#hide_input\n",
    "#md('##### {}'.format(titleBTC)) \n",
    "md(\"- {}{} {}{} [| Skaityti daugiau]({}) \".format(exchange['title'],'. ', exchange['body'], ' ...', exchange['url']))"
   ]
  },
  {
   "cell_type": "code",
   "execution_count": null,
   "id": "tender-livestock",
   "metadata": {
    "papermill": {
     "duration": 0.012368,
     "end_time": "2022-07-21T03:16:16.333548",
     "exception": false,
     "start_time": "2022-07-21T03:16:16.321180",
     "status": "completed"
    },
    "tags": []
   },
   "outputs": [],
   "source": []
  },
  {
   "cell_type": "code",
   "execution_count": null,
   "id": "appreciated-diamond",
   "metadata": {
    "papermill": {
     "duration": 0.012191,
     "end_time": "2022-07-21T03:16:16.358199",
     "exception": false,
     "start_time": "2022-07-21T03:16:16.346008",
     "status": "completed"
    },
    "tags": []
   },
   "outputs": [],
   "source": []
  },
  {
   "cell_type": "code",
   "execution_count": null,
   "id": "romance-sweden",
   "metadata": {
    "papermill": {
     "duration": 0.01176,
     "end_time": "2022-07-21T03:16:16.381905",
     "exception": false,
     "start_time": "2022-07-21T03:16:16.370145",
     "status": "completed"
    },
    "tags": []
   },
   "outputs": [],
   "source": []
  },
  {
   "cell_type": "code",
   "execution_count": null,
   "id": "dietary-statistics",
   "metadata": {
    "papermill": {
     "duration": 0.012141,
     "end_time": "2022-07-21T03:16:16.406435",
     "exception": false,
     "start_time": "2022-07-21T03:16:16.394294",
     "status": "completed"
    },
    "tags": []
   },
   "outputs": [],
   "source": []
  }
 ],
 "metadata": {
  "kernelspec": {
   "display_name": "Python 3",
   "language": "python",
   "name": "python3"
  },
  "language_info": {
   "codemirror_mode": {
    "name": "ipython",
    "version": 3
   },
   "file_extension": ".py",
   "mimetype": "text/x-python",
   "name": "python",
   "nbconvert_exporter": "python",
   "pygments_lexer": "ipython3",
   "version": "3.6.15"
  },
  "papermill": {
   "default_parameters": {},
   "duration": 17.766943,
   "end_time": "2022-07-21T03:16:16.940023",
   "environment_variables": {},
   "exception": null,
   "input_path": "Market-News.ipynb",
   "output_path": "Market-News.ipynb",
   "parameters": {},
   "start_time": "2022-07-21T03:15:59.173080",
   "version": "2.2.2"
  }
 },
 "nbformat": 4,
 "nbformat_minor": 5
}