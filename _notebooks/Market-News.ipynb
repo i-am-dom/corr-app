{
 "cells": [
  {
   "cell_type": "markdown",
   "id": "short-greensboro",
   "metadata": {
    "papermill": {
     "duration": 0.021287,
     "end_time": "2021-07-25T02:00:07.037988",
     "exception": false,
     "start_time": "2021-07-25T02:00:07.016701",
     "status": "completed"
    },
    "tags": []
   },
   "source": [
    "# Kriptovaliutų naujienos"
   ]
  },
  {
   "cell_type": "code",
   "execution_count": 1,
   "id": "functioning-knowing",
   "metadata": {
    "execution": {
     "iopub.execute_input": "2021-07-25T02:00:07.081148Z",
     "iopub.status.busy": "2021-07-25T02:00:07.080259Z",
     "iopub.status.idle": "2021-07-25T02:00:08.586558Z",
     "shell.execute_reply": "2021-07-25T02:00:08.586001Z"
    },
    "papermill": {
     "duration": 1.532373,
     "end_time": "2021-07-25T02:00:08.586746",
     "exception": false,
     "start_time": "2021-07-25T02:00:07.054373",
     "status": "completed"
    },
    "tags": []
   },
   "outputs": [],
   "source": [
    "#hide_input\n",
    "import warnings\n",
    "warnings.filterwarnings('ignore')\n",
    "from scripts.read_data import read_api\n",
    "from scripts.read_data import read_news\n",
    "from scripts.read_data import read_covid\n",
    "import matplotlib.pyplot as plt \n",
    "from IPython.display import Markdown as md"
   ]
  },
  {
   "cell_type": "code",
   "execution_count": 2,
   "id": "shared-acceptance",
   "metadata": {
    "execution": {
     "iopub.execute_input": "2021-07-25T02:00:08.624890Z",
     "iopub.status.busy": "2021-07-25T02:00:08.624263Z",
     "iopub.status.idle": "2021-07-25T02:00:16.450560Z",
     "shell.execute_reply": "2021-07-25T02:00:16.451226Z"
    },
    "papermill": {
     "duration": 7.847226,
     "end_time": "2021-07-25T02:00:16.451427",
     "exception": false,
     "start_time": "2021-07-25T02:00:08.604201",
     "status": "completed"
    },
    "tags": []
   },
   "outputs": [],
   "source": [
    "#hide_input\n",
    "blockchain = read_news('blockchain') \n",
    "btc = read_news('btc') \n",
    "xrp = read_news('xrp') \n",
    "trx = read_news('trx') \n",
    "eth = read_news('eth')  \n",
    "ada = read_news('ada')\n",
    "exchange = read_news('exchange') "
   ]
  },
  {
   "cell_type": "code",
   "execution_count": 3,
   "id": "synthetic-notion",
   "metadata": {
    "execution": {
     "iopub.execute_input": "2021-07-25T02:00:16.483403Z",
     "iopub.status.busy": "2021-07-25T02:00:16.482745Z",
     "iopub.status.idle": "2021-07-25T02:00:16.487359Z",
     "shell.execute_reply": "2021-07-25T02:00:16.486668Z"
    },
    "papermill": {
     "duration": 0.023763,
     "end_time": "2021-07-25T02:00:16.487520",
     "exception": false,
     "start_time": "2021-07-25T02:00:16.463757",
     "status": "completed"
    },
    "tags": []
   },
   "outputs": [
    {
     "data": {
      "text/markdown": [
       "- Uniswap Labs Limits Access To Certain Tokens, What It Could Mean For The DeFi Sector.  Software development studio Uniswap Labs (UL) announced the restriction of certain tokens via the app.uniswap.org domain. The company claims to be taking part in &#8220;creating a better&#8221; financial system and has taken the decision after reviewing the regulatory landscape and the actions of other &#8220;DeFi interfaces&#8221;. The token removed from the domain represented a &#8220;very small portion of overall&#8221; trading volume on the platform, UL claims. Amongst the restricted tokens is Gold Tether (XAUt), Grump Cat (GRUMPY), iAAVE, iADA, iBNB, sAPPL, sCOIN, and many more related to options, tokenized stocks, and securities from traditional companies. The software studio clarified that the Uniswap Protocol is a separate entity from the interface accessible via the app.uniswap.org domain. (&#8230;) It provides unrestricted access to anyone with an Internet connection. Similarly, this action has no impact on the Uniswap Interface code, which remains open source, or the many other portals or locally run instances used to access the Uniswap Protocol. The same clarification was made by Hayden Adams, inventor of the protocol, via his Twitter account. After receiving a lot of criticism for their decision, Adams reminded his followers about the difference between Uniswap Interface, the open-source GPL code, app.uniswap.org, the domain, and Uniswap the protocol. Later, he added that true decentralization &#8220;doesn&#8217;t... ... [| Skaityti daugiau](https://www.newsbtc.com/news/defi/uniswap-access-tokens-mean-for-defi/) "
      ],
      "text/plain": [
       "<IPython.core.display.Markdown object>"
      ]
     },
     "execution_count": 3,
     "metadata": {},
     "output_type": "execute_result"
    }
   ],
   "source": [
    "#hide_input\n",
    "#md('##### {}'.format(titleBTC)) \n",
    "md(\"- {}{} {}{} [| Skaityti daugiau]({}) \".format(blockchain['title'],'. ', blockchain['body'], ' ...', blockchain['url']))"
   ]
  },
  {
   "cell_type": "code",
   "execution_count": 4,
   "id": "aging-caution",
   "metadata": {
    "execution": {
     "iopub.execute_input": "2021-07-25T02:00:16.520947Z",
     "iopub.status.busy": "2021-07-25T02:00:16.520037Z",
     "iopub.status.idle": "2021-07-25T02:00:16.526476Z",
     "shell.execute_reply": "2021-07-25T02:00:16.525730Z"
    },
    "papermill": {
     "duration": 0.025119,
     "end_time": "2021-07-25T02:00:16.526629",
     "exception": false,
     "start_time": "2021-07-25T02:00:16.501510",
     "status": "completed"
    },
    "tags": []
   },
   "outputs": [
    {
     "data": {
      "text/markdown": [
       "- 3 reasons why Bitcoin price has not been able to rally back above $40K.  Bitcoin bulls appear to be back, but a strengthening U.S. dollar, a new wave of COVID-19 infections and low trading volumes threaten the current recovery.  ... [| Skaityti daugiau](https://cointelegraph.com/news/3-reasons-why-bitcoin-price-has-not-been-able-to-rally-back-above-40k) "
      ],
      "text/plain": [
       "<IPython.core.display.Markdown object>"
      ]
     },
     "execution_count": 4,
     "metadata": {},
     "output_type": "execute_result"
    }
   ],
   "source": [
    "#hide_input\n",
    "#md('##### {}'.format(titleBTC)) \n",
    "md(\"- {}{} {}{} [| Skaityti daugiau]({}) \".format(btc['title'],'. ', btc['body'], ' ...', btc['url']))"
   ]
  },
  {
   "cell_type": "code",
   "execution_count": 5,
   "id": "organic-actress",
   "metadata": {
    "execution": {
     "iopub.execute_input": "2021-07-25T02:00:16.558402Z",
     "iopub.status.busy": "2021-07-25T02:00:16.557774Z",
     "iopub.status.idle": "2021-07-25T02:00:16.565081Z",
     "shell.execute_reply": "2021-07-25T02:00:16.564413Z"
    },
    "papermill": {
     "duration": 0.025789,
     "end_time": "2021-07-25T02:00:16.565221",
     "exception": false,
     "start_time": "2021-07-25T02:00:16.539432",
     "status": "completed"
    },
    "tags": []
   },
   "outputs": [
    {
     "data": {
      "text/markdown": [
       "- XRP, Cardano, Zcash Price Analysis: 24 July.  Bulls were reviving the cryptocurrency markets, at press time, to defend major support levels. However, most of the market seemed somewhat directionless. XRP noted a decrease in capital inflows as its price didn&#8217;t exactly move north, while Cardano&#8217;s charts pictured a buy signal. Finally, Zcash registered minor gains on the back of an uptrend. XRP [&#8230;] ... [| Skaityti daugiau](https://ambcrypto.com/xrp-cardano-zcash-price-analysis-24-july/) "
      ],
      "text/plain": [
       "<IPython.core.display.Markdown object>"
      ]
     },
     "execution_count": 5,
     "metadata": {},
     "output_type": "execute_result"
    }
   ],
   "source": [
    "#hide_input\n",
    "#md('##### {}'.format(titleBTC)) \n",
    "md(\"- {}{} {}{} [| Skaityti daugiau]({}) \".format(xrp['title'],'. ', xrp['body'], ' ...', xrp['url']))"
   ]
  },
  {
   "cell_type": "code",
   "execution_count": 6,
   "id": "prompt-farmer",
   "metadata": {
    "execution": {
     "iopub.execute_input": "2021-07-25T02:00:16.600053Z",
     "iopub.status.busy": "2021-07-25T02:00:16.598548Z",
     "iopub.status.idle": "2021-07-25T02:00:16.603332Z",
     "shell.execute_reply": "2021-07-25T02:00:16.604235Z"
    },
    "papermill": {
     "duration": 0.025939,
     "end_time": "2021-07-25T02:00:16.604476",
     "exception": false,
     "start_time": "2021-07-25T02:00:16.578537",
     "status": "completed"
    },
    "tags": []
   },
   "outputs": [
    {
     "data": {
      "text/markdown": [
       "- Ethereum, TRON, VeChain Price Analysis: 24 July.  After a period of intense volatility, the crypto-market rallied briefly followed by a period of consolidation. The broader crypto-market remained indecisive, however, and the industry’s altcoins underlined the same. Despite noting considerable gains, Tron was trading in the red, at press time. It might go on a downtrend if the price doesn&#8217;t shoot up over [&#8230;] ... [| Skaityti daugiau](https://ambcrypto.com/ethereum-tron-vechain-price-analysis-24-july/) "
      ],
      "text/plain": [
       "<IPython.core.display.Markdown object>"
      ]
     },
     "execution_count": 6,
     "metadata": {},
     "output_type": "execute_result"
    }
   ],
   "source": [
    "#hide_input\n",
    "#md('##### {}'.format(titleBTC)) \n",
    "md(\"- {}{} {}{} [| Skaityti daugiau]({}) \".format(trx['title'],'. ', trx['body'], ' ...', trx['url']))"
   ]
  },
  {
   "cell_type": "code",
   "execution_count": 7,
   "id": "illegal-greece",
   "metadata": {
    "execution": {
     "iopub.execute_input": "2021-07-25T02:00:16.645064Z",
     "iopub.status.busy": "2021-07-25T02:00:16.644359Z",
     "iopub.status.idle": "2021-07-25T02:00:16.647985Z",
     "shell.execute_reply": "2021-07-25T02:00:16.648523Z"
    },
    "papermill": {
     "duration": 0.027918,
     "end_time": "2021-07-25T02:00:16.648677",
     "exception": false,
     "start_time": "2021-07-25T02:00:16.620759",
     "status": "completed"
    },
    "tags": []
   },
   "outputs": [
    {
     "data": {
      "text/markdown": [
       "- How close really is the battle between Ethereum and Binance Smart Chain.  A couple of things did not change during this bearish cycle &#8211; The development activity of emerging projects and the fierce competition between existing ones. The market performance of DeFi and market moderators such as Ethereum, Binance Smart Chain, and Polygon has only fueled this animosity. And yet, despite tremendous market downfalls, the on-chain activity [&#8230;] ... [| Skaityti daugiau](https://ambcrypto.com/how-close-really-is-the-battle-between-ethereum-and-binance-smart-chain/) "
      ],
      "text/plain": [
       "<IPython.core.display.Markdown object>"
      ]
     },
     "execution_count": 7,
     "metadata": {},
     "output_type": "execute_result"
    }
   ],
   "source": [
    "#hide_input\n",
    "#md('##### {}'.format(titleBTC)) \n",
    "md(\"- {}{} {}{} [| Skaityti daugiau]({}) \".format(eth['title'],'. ', eth['body'], ' ...', eth['url']))"
   ]
  },
  {
   "cell_type": "code",
   "execution_count": 8,
   "id": "sublime-lounge",
   "metadata": {
    "execution": {
     "iopub.execute_input": "2021-07-25T02:00:16.687840Z",
     "iopub.status.busy": "2021-07-25T02:00:16.685639Z",
     "iopub.status.idle": "2021-07-25T02:00:16.690277Z",
     "shell.execute_reply": "2021-07-25T02:00:16.689680Z"
    },
    "papermill": {
     "duration": 0.026425,
     "end_time": "2021-07-25T02:00:16.690454",
     "exception": false,
     "start_time": "2021-07-25T02:00:16.664029",
     "status": "completed"
    },
    "tags": []
   },
   "outputs": [
    {
     "data": {
      "text/markdown": [
       "- XRP, Cardano, Zcash Price Analysis: 24 July.  Bulls were reviving the cryptocurrency markets, at press time, to defend major support levels. However, most of the market seemed somewhat directionless. XRP noted a decrease in capital inflows as its price didn&#8217;t exactly move north, while Cardano&#8217;s charts pictured a buy signal. Finally, Zcash registered minor gains on the back of an uptrend. XRP [&#8230;] ... [| Skaityti daugiau](https://ambcrypto.com/xrp-cardano-zcash-price-analysis-24-july/) "
      ],
      "text/plain": [
       "<IPython.core.display.Markdown object>"
      ]
     },
     "execution_count": 8,
     "metadata": {},
     "output_type": "execute_result"
    }
   ],
   "source": [
    "#hide_input\n",
    "#md('##### {}'.format(titleBTC)) \n",
    "md(\"- {}{} {}{} [| Skaityti daugiau]({}) \".format(ada['title'],'. ', ada['body'], ' ...', ada['url']))"
   ]
  },
  {
   "cell_type": "code",
   "execution_count": 9,
   "id": "specified-ordering",
   "metadata": {
    "execution": {
     "iopub.execute_input": "2021-07-25T02:00:16.729699Z",
     "iopub.status.busy": "2021-07-25T02:00:16.727317Z",
     "iopub.status.idle": "2021-07-25T02:00:16.732820Z",
     "shell.execute_reply": "2021-07-25T02:00:16.733504Z"
    },
    "papermill": {
     "duration": 0.02655,
     "end_time": "2021-07-25T02:00:16.733651",
     "exception": false,
     "start_time": "2021-07-25T02:00:16.707101",
     "status": "completed"
    },
    "tags": []
   },
   "outputs": [
    {
     "data": {
      "text/markdown": [
       "- How close really is the battle between Ethereum and Binance Smart Chain.  A couple of things did not change during this bearish cycle &#8211; The development activity of emerging projects and the fierce competition between existing ones. The market performance of DeFi and market moderators such as Ethereum, Binance Smart Chain, and Polygon has only fueled this animosity. And yet, despite tremendous market downfalls, the on-chain activity [&#8230;] ... [| Skaityti daugiau](https://ambcrypto.com/how-close-really-is-the-battle-between-ethereum-and-binance-smart-chain/) "
      ],
      "text/plain": [
       "<IPython.core.display.Markdown object>"
      ]
     },
     "execution_count": 9,
     "metadata": {},
     "output_type": "execute_result"
    }
   ],
   "source": [
    "#hide_input\n",
    "#md('##### {}'.format(titleBTC)) \n",
    "md(\"- {}{} {}{} [| Skaityti daugiau]({}) \".format(exchange['title'],'. ', exchange['body'], ' ...', exchange['url']))"
   ]
  },
  {
   "cell_type": "code",
   "execution_count": null,
   "id": "tender-livestock",
   "metadata": {
    "papermill": {
     "duration": 0.015135,
     "end_time": "2021-07-25T02:00:16.763438",
     "exception": false,
     "start_time": "2021-07-25T02:00:16.748303",
     "status": "completed"
    },
    "tags": []
   },
   "outputs": [],
   "source": []
  },
  {
   "cell_type": "code",
   "execution_count": null,
   "id": "appreciated-diamond",
   "metadata": {
    "papermill": {
     "duration": 0.014715,
     "end_time": "2021-07-25T02:00:16.792969",
     "exception": false,
     "start_time": "2021-07-25T02:00:16.778254",
     "status": "completed"
    },
    "tags": []
   },
   "outputs": [],
   "source": []
  },
  {
   "cell_type": "code",
   "execution_count": null,
   "id": "romance-sweden",
   "metadata": {
    "papermill": {
     "duration": 0.015436,
     "end_time": "2021-07-25T02:00:16.827606",
     "exception": false,
     "start_time": "2021-07-25T02:00:16.812170",
     "status": "completed"
    },
    "tags": []
   },
   "outputs": [],
   "source": []
  },
  {
   "cell_type": "code",
   "execution_count": null,
   "id": "dietary-statistics",
   "metadata": {
    "papermill": {
     "duration": 0.015552,
     "end_time": "2021-07-25T02:00:16.857363",
     "exception": false,
     "start_time": "2021-07-25T02:00:16.841811",
     "status": "completed"
    },
    "tags": []
   },
   "outputs": [],
   "source": []
  }
 ],
 "metadata": {
  "kernelspec": {
   "display_name": "Python 3",
   "language": "python",
   "name": "python3"
  },
  "language_info": {
   "codemirror_mode": {
    "name": "ipython",
    "version": 3
   },
   "file_extension": ".py",
   "mimetype": "text/x-python",
   "name": "python",
   "nbconvert_exporter": "python",
   "pygments_lexer": "ipython3",
   "version": "3.6.14"
  },
  "papermill": {
   "default_parameters": {},
   "duration": 12.361843,
   "end_time": "2021-07-25T02:00:18.059113",
   "environment_variables": {},
   "exception": null,
   "input_path": "Market-News.ipynb",
   "output_path": "Market-News.ipynb",
   "parameters": {},
   "start_time": "2021-07-25T02:00:05.697270",
   "version": "2.2.2"
  }
 },
 "nbformat": 4,
 "nbformat_minor": 5
}