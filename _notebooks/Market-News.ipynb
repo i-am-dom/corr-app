{
 "cells": [
  {
   "cell_type": "markdown",
   "id": "short-greensboro",
   "metadata": {
    "papermill": {
     "duration": 0.013009,
     "end_time": "2022-01-25T02:06:11.027687",
     "exception": false,
     "start_time": "2022-01-25T02:06:11.014678",
     "status": "completed"
    },
    "tags": []
   },
   "source": [
    "# Kriptovaliutų naujienos"
   ]
  },
  {
   "cell_type": "code",
   "execution_count": 1,
   "id": "functioning-knowing",
   "metadata": {
    "execution": {
     "iopub.execute_input": "2022-01-25T02:06:11.056954Z",
     "iopub.status.busy": "2022-01-25T02:06:11.056423Z",
     "iopub.status.idle": "2022-01-25T02:06:12.325380Z",
     "shell.execute_reply": "2022-01-25T02:06:12.325882Z"
    },
    "papermill": {
     "duration": 1.288668,
     "end_time": "2022-01-25T02:06:12.326082",
     "exception": false,
     "start_time": "2022-01-25T02:06:11.037414",
     "status": "completed"
    },
    "tags": []
   },
   "outputs": [],
   "source": [
    "#hide_input\n",
    "import warnings\n",
    "warnings.filterwarnings('ignore')\n",
    "from scripts.read_data import read_api\n",
    "from scripts.read_data import read_news\n",
    "from scripts.read_data import read_covid\n",
    "import matplotlib.pyplot as plt \n",
    "from IPython.display import Markdown as md"
   ]
  },
  {
   "cell_type": "code",
   "execution_count": 2,
   "id": "shared-acceptance",
   "metadata": {
    "execution": {
     "iopub.execute_input": "2022-01-25T02:06:12.351878Z",
     "iopub.status.busy": "2022-01-25T02:06:12.351365Z",
     "iopub.status.idle": "2022-01-25T02:06:21.095863Z",
     "shell.execute_reply": "2022-01-25T02:06:21.095319Z"
    },
    "papermill": {
     "duration": 8.760171,
     "end_time": "2022-01-25T02:06:21.096008",
     "exception": false,
     "start_time": "2022-01-25T02:06:12.335837",
     "status": "completed"
    },
    "tags": []
   },
   "outputs": [],
   "source": [
    "#hide_input\n",
    "blockchain = read_news('blockchain') \n",
    "btc = read_news('btc') \n",
    "xrp = read_news('xrp') \n",
    "trx = read_news('trx') \n",
    "eth = read_news('eth')  \n",
    "ada = read_news('ada')\n",
    "exchange = read_news('exchange') "
   ]
  },
  {
   "cell_type": "code",
   "execution_count": 3,
   "id": "synthetic-notion",
   "metadata": {
    "execution": {
     "iopub.execute_input": "2022-01-25T02:06:21.120475Z",
     "iopub.status.busy": "2022-01-25T02:06:21.119931Z",
     "iopub.status.idle": "2022-01-25T02:06:21.122299Z",
     "shell.execute_reply": "2022-01-25T02:06:21.122683Z"
    },
    "papermill": {
     "duration": 0.017487,
     "end_time": "2022-01-25T02:06:21.122811",
     "exception": false,
     "start_time": "2022-01-25T02:06:21.105324",
     "status": "completed"
    },
    "tags": []
   },
   "outputs": [
    {
     "data": {
      "text/markdown": [
       "- Is The Lightning Network Centralized?.  The emergence of Lightning Hubs might suggest that Bitcoin’s leading Layer 2 protocol is centralized. So let’s compare it to fiat’s structure. ... [| Skaityti daugiau](https://bitcoinmagazine.com/culture/is-the-bitcoin-lightning-network-centralized) "
      ],
      "text/plain": [
       "<IPython.core.display.Markdown object>"
      ]
     },
     "execution_count": 3,
     "metadata": {},
     "output_type": "execute_result"
    }
   ],
   "source": [
    "#hide_input\n",
    "#md('##### {}'.format(titleBTC)) \n",
    "md(\"- {}{} {}{} [| Skaityti daugiau]({}) \".format(blockchain['title'],'. ', blockchain['body'], ' ...', blockchain['url']))"
   ]
  },
  {
   "cell_type": "code",
   "execution_count": 4,
   "id": "aging-caution",
   "metadata": {
    "execution": {
     "iopub.execute_input": "2022-01-25T02:06:21.146245Z",
     "iopub.status.busy": "2022-01-25T02:06:21.145673Z",
     "iopub.status.idle": "2022-01-25T02:06:21.147830Z",
     "shell.execute_reply": "2022-01-25T02:06:21.148303Z"
    },
    "papermill": {
     "duration": 0.01634,
     "end_time": "2022-01-25T02:06:21.148418",
     "exception": false,
     "start_time": "2022-01-25T02:06:21.132078",
     "status": "completed"
    },
    "tags": []
   },
   "outputs": [
    {
     "data": {
      "text/markdown": [
       "- Bitcoin: Halving Cycle Resumes, Backed By Fundamental Catalysts.  Bitcoin's past 2 halving cycles suggest Bitcoin is technically in a bear market since May 2021.This is evident as Bitcoin followed through 3 out of 5 sequences of events in a typical bear market before being disrupted by the launch of NYSE Bitcoin Futures ETF.The recent stock market meltdown caused by inflation, tapering, and rate hikes served as a catalyst to push Bitcoin back into the bear market.The same halving cycle also suggests that Bitcoin will reach at least $100,000 in the next bull run in 2024; this technical observation is also backed by fundamental evidence.With the help of the halving cycle, we identified 3 critical support levels to dollar-cost average into Bitcoin: $30,000, $20,000 and $10,000. ... [| Skaityti daugiau](https://seekingalpha.com/article/4481314-bitcoin-halving-cycle-resumes-backed-fundamental-catalysts?utm_source=cryptocompare.com&utm_medium=referral) "
      ],
      "text/plain": [
       "<IPython.core.display.Markdown object>"
      ]
     },
     "execution_count": 4,
     "metadata": {},
     "output_type": "execute_result"
    }
   ],
   "source": [
    "#hide_input\n",
    "#md('##### {}'.format(titleBTC)) \n",
    "md(\"- {}{} {}{} [| Skaityti daugiau]({}) \".format(btc['title'],'. ', btc['body'], ' ...', btc['url']))"
   ]
  },
  {
   "cell_type": "code",
   "execution_count": 5,
   "id": "organic-actress",
   "metadata": {
    "execution": {
     "iopub.execute_input": "2022-01-25T02:06:21.171896Z",
     "iopub.status.busy": "2022-01-25T02:06:21.170763Z",
     "iopub.status.idle": "2022-01-25T02:06:21.174933Z",
     "shell.execute_reply": "2022-01-25T02:06:21.174527Z"
    },
    "papermill": {
     "duration": 0.01716,
     "end_time": "2022-01-25T02:06:21.175040",
     "exception": false,
     "start_time": "2022-01-25T02:06:21.157880",
     "status": "completed"
    },
    "tags": []
   },
   "outputs": [
    {
     "data": {
      "text/markdown": [
       "- Ripple Objects To SECs Request To Buy More Time Following Recent Court Ruling.  The tussle to get regulatory clarity for the crypto industry continues as Ripple and the SEC slug it out in court. Ripple has filed an objection to the SEC&#8217;s recent motion to be given more time to contest the recent ruling made by the presiding judge in the case, Judge Sarah Netburn. Ripple argues that The post Ripple Objects To SECs Request To Buy More Time Following Recent Court Ruling appeared first on CoinGape. ... [| Skaityti daugiau](https://coingape.com/ripple-objects-to-secs-request-to-buy-more-time-following-recent-court-ruling/) "
      ],
      "text/plain": [
       "<IPython.core.display.Markdown object>"
      ]
     },
     "execution_count": 5,
     "metadata": {},
     "output_type": "execute_result"
    }
   ],
   "source": [
    "#hide_input\n",
    "#md('##### {}'.format(titleBTC)) \n",
    "md(\"- {}{} {}{} [| Skaityti daugiau]({}) \".format(xrp['title'],'. ', xrp['body'], ' ...', xrp['url']))"
   ]
  },
  {
   "cell_type": "code",
   "execution_count": 6,
   "id": "prompt-farmer",
   "metadata": {
    "execution": {
     "iopub.execute_input": "2022-01-25T02:06:21.199411Z",
     "iopub.status.busy": "2022-01-25T02:06:21.198895Z",
     "iopub.status.idle": "2022-01-25T02:06:21.201723Z",
     "shell.execute_reply": "2022-01-25T02:06:21.201286Z"
    },
    "papermill": {
     "duration": 0.016905,
     "end_time": "2022-01-25T02:06:21.201828",
     "exception": false,
     "start_time": "2022-01-25T02:06:21.184923",
     "status": "completed"
    },
    "tags": []
   },
   "outputs": [
    {
     "data": {
      "text/markdown": [
       "- Cardano, Tron, Axie Infinity Price Analysis: 24 January.  As the &#8216;fear&#8217; sentiment got worse, Bitcoin lost over 8% of its value in a few hours. Consequently, Tron and Axie Infinity managed to hit new lows on 24 January. Also, these bearish candlesticks accompanied high volumes, hinting at a strong bear move. The bulls visibly failed to counter the selling pressure. But, is that [&#8230;] ... [| Skaityti daugiau](https://ambcrypto.com/cardano-tron-axie-infinity-price-analysis-24-january/) "
      ],
      "text/plain": [
       "<IPython.core.display.Markdown object>"
      ]
     },
     "execution_count": 6,
     "metadata": {},
     "output_type": "execute_result"
    }
   ],
   "source": [
    "#hide_input\n",
    "#md('##### {}'.format(titleBTC)) \n",
    "md(\"- {}{} {}{} [| Skaityti daugiau]({}) \".format(trx['title'],'. ', trx['body'], ' ...', trx['url']))"
   ]
  },
  {
   "cell_type": "code",
   "execution_count": 7,
   "id": "illegal-greece",
   "metadata": {
    "execution": {
     "iopub.execute_input": "2022-01-25T02:06:21.226636Z",
     "iopub.status.busy": "2022-01-25T02:06:21.226121Z",
     "iopub.status.idle": "2022-01-25T02:06:21.228751Z",
     "shell.execute_reply": "2022-01-25T02:06:21.229153Z"
    },
    "papermill": {
     "duration": 0.017111,
     "end_time": "2022-01-25T02:06:21.229282",
     "exception": false,
     "start_time": "2022-01-25T02:06:21.212171",
     "status": "completed"
    },
    "tags": []
   },
   "outputs": [
    {
     "data": {
      "text/markdown": [
       "- Indonesia Based Boy Named Ghozali Becomes Millionaire By Selling Selfies On OpenSea As NFTs.  Non-fungible tokens, NFTs, continue to make waves within the crypto ecosystem as an excellent means for profitability. As a result, many new and recent collections are rising as headlines through their massive accumulation of funds. One of the trendy NFTs is Ghozali&#8217;s from an Indonesian youth who has sold over 1,000 selfies as NFTs on OpenSea. The selfies have been his daily collection for the past five years. The Indonesian boy, Sultan Gustaf Al Ghozali, is 22 years old and held from Semarang. Ghozali, currently studying computer science, decided to take daily selfies some years back. Through this everyday action that he kept from 2017 to 2021, the boy now has more than 1,000 photos. Related Reading &#124; Cardano Enters The Basho Stage: How It Improves Performance Reporting through his official Twitter account, Ghozali disclosed that his aim for taking his selfies for five years is to create a unique video. He said that the video would be done after his college graduation. With the emergence and popularity of NFTs, Ghozali made a twist in his plan and decided to mint his photos into NFTs. This led to his subsequent sales of the NFTs on OpenSea. According to a tweet on January 10, 2022, Ghozali has commenced uploading his selfies on the OpenSea platform with a project name, &#8216;Ghozali every day.&#8217; This post revealed that the cost of each picture is 0.001 ETH. Despite its lack of significant artistic value, the ... ... [| Skaityti daugiau](https://www.newsbtc.com/nft/indonesia-based-boy-named-ghozali-becomes-millionaire-by-selling-selfies-on-opensea-nfts/) "
      ],
      "text/plain": [
       "<IPython.core.display.Markdown object>"
      ]
     },
     "execution_count": 7,
     "metadata": {},
     "output_type": "execute_result"
    }
   ],
   "source": [
    "#hide_input\n",
    "#md('##### {}'.format(titleBTC)) \n",
    "md(\"- {}{} {}{} [| Skaityti daugiau]({}) \".format(eth['title'],'. ', eth['body'], ' ...', eth['url']))"
   ]
  },
  {
   "cell_type": "code",
   "execution_count": 8,
   "id": "sublime-lounge",
   "metadata": {
    "execution": {
     "iopub.execute_input": "2022-01-25T02:06:21.255006Z",
     "iopub.status.busy": "2022-01-25T02:06:21.254410Z",
     "iopub.status.idle": "2022-01-25T02:06:21.256608Z",
     "shell.execute_reply": "2022-01-25T02:06:21.257089Z"
    },
    "papermill": {
     "duration": 0.017551,
     "end_time": "2022-01-25T02:06:21.257225",
     "exception": false,
     "start_time": "2022-01-25T02:06:21.239674",
     "status": "completed"
    },
    "tags": []
   },
   "outputs": [
    {
     "data": {
      "text/markdown": [
       "- Cardano projects SundaeSwap and CardStarter squabble over failed promises to investors.  ''Get your shit together!\" said Cardano founder Hoskinson to developers behind the two projects.  ... [| Skaityti daugiau](https://cointelegraph.com/news/cardano-projects-sundaeswap-and-cardstarter-squabble-over-failed-promises-to-investors) "
      ],
      "text/plain": [
       "<IPython.core.display.Markdown object>"
      ]
     },
     "execution_count": 8,
     "metadata": {},
     "output_type": "execute_result"
    }
   ],
   "source": [
    "#hide_input\n",
    "#md('##### {}'.format(titleBTC)) \n",
    "md(\"- {}{} {}{} [| Skaityti daugiau]({}) \".format(ada['title'],'. ', ada['body'], ' ...', ada['url']))"
   ]
  },
  {
   "cell_type": "code",
   "execution_count": 9,
   "id": "specified-ordering",
   "metadata": {
    "execution": {
     "iopub.execute_input": "2022-01-25T02:06:21.284251Z",
     "iopub.status.busy": "2022-01-25T02:06:21.283731Z",
     "iopub.status.idle": "2022-01-25T02:06:21.287137Z",
     "shell.execute_reply": "2022-01-25T02:06:21.286645Z"
    },
    "papermill": {
     "duration": 0.019069,
     "end_time": "2022-01-25T02:06:21.287247",
     "exception": false,
     "start_time": "2022-01-25T02:06:21.268178",
     "status": "completed"
    },
    "tags": []
   },
   "outputs": [
    {
     "data": {
      "text/markdown": [
       "- AscendEX Lists the Synthetify Token, SNY.  AscendEX is excited to announce the listing of the Synthetify token, SNY, under the trading pair SNY/USDT on the AscendEX platform, starting January 25 at 2 p.m. UTC. Synthetify is a multi-collateralized, decentralized exchange of synthetic assets built on Solana. The platform aims to provide a bridge between cryptocurrencies, stocks, fiat currencies, and other financial [&#8230;]The post AscendEX Lists the Synthetify Token, SNY appeared first on Blockchain, Crypto and Stock News. ... [| Skaityti daugiau](https://thecoinrise.com/ascendex-lists-the-synthetify-token-sny/) "
      ],
      "text/plain": [
       "<IPython.core.display.Markdown object>"
      ]
     },
     "execution_count": 9,
     "metadata": {},
     "output_type": "execute_result"
    }
   ],
   "source": [
    "#hide_input\n",
    "#md('##### {}'.format(titleBTC)) \n",
    "md(\"- {}{} {}{} [| Skaityti daugiau]({}) \".format(exchange['title'],'. ', exchange['body'], ' ...', exchange['url']))"
   ]
  },
  {
   "cell_type": "code",
   "execution_count": null,
   "id": "tender-livestock",
   "metadata": {
    "papermill": {
     "duration": 0.011085,
     "end_time": "2022-01-25T02:06:21.309537",
     "exception": false,
     "start_time": "2022-01-25T02:06:21.298452",
     "status": "completed"
    },
    "tags": []
   },
   "outputs": [],
   "source": []
  },
  {
   "cell_type": "code",
   "execution_count": null,
   "id": "appreciated-diamond",
   "metadata": {
    "papermill": {
     "duration": 0.011205,
     "end_time": "2022-01-25T02:06:21.332014",
     "exception": false,
     "start_time": "2022-01-25T02:06:21.320809",
     "status": "completed"
    },
    "tags": []
   },
   "outputs": [],
   "source": []
  },
  {
   "cell_type": "code",
   "execution_count": null,
   "id": "romance-sweden",
   "metadata": {
    "papermill": {
     "duration": 0.011036,
     "end_time": "2022-01-25T02:06:21.354156",
     "exception": false,
     "start_time": "2022-01-25T02:06:21.343120",
     "status": "completed"
    },
    "tags": []
   },
   "outputs": [],
   "source": []
  },
  {
   "cell_type": "code",
   "execution_count": null,
   "id": "dietary-statistics",
   "metadata": {
    "papermill": {
     "duration": 0.011326,
     "end_time": "2022-01-25T02:06:21.376548",
     "exception": false,
     "start_time": "2022-01-25T02:06:21.365222",
     "status": "completed"
    },
    "tags": []
   },
   "outputs": [],
   "source": []
  }
 ],
 "metadata": {
  "kernelspec": {
   "display_name": "Python 3",
   "language": "python",
   "name": "python3"
  },
  "language_info": {
   "codemirror_mode": {
    "name": "ipython",
    "version": 3
   },
   "file_extension": ".py",
   "mimetype": "text/x-python",
   "name": "python",
   "nbconvert_exporter": "python",
   "pygments_lexer": "ipython3",
   "version": "3.6.15"
  },
  "papermill": {
   "default_parameters": {},
   "duration": 11.815202,
   "end_time": "2022-01-25T02:06:21.906240",
   "environment_variables": {},
   "exception": null,
   "input_path": "Market-News.ipynb",
   "output_path": "Market-News.ipynb",
   "parameters": {},
   "start_time": "2022-01-25T02:06:10.091038",
   "version": "2.2.2"
  }
 },
 "nbformat": 4,
 "nbformat_minor": 5
}