{
 "cells": [
  {
   "cell_type": "markdown",
   "id": "short-greensboro",
   "metadata": {
    "papermill": {
     "duration": 0.015795,
     "end_time": "2022-10-06T03:10:53.518454",
     "exception": false,
     "start_time": "2022-10-06T03:10:53.502659",
     "status": "completed"
    },
    "tags": []
   },
   "source": [
    "# Kriptovaliutų naujienos"
   ]
  },
  {
   "cell_type": "code",
   "execution_count": 1,
   "id": "functioning-knowing",
   "metadata": {
    "execution": {
     "iopub.execute_input": "2022-10-06T03:10:53.553397Z",
     "iopub.status.busy": "2022-10-06T03:10:53.552708Z",
     "iopub.status.idle": "2022-10-06T03:10:55.056902Z",
     "shell.execute_reply": "2022-10-06T03:10:55.057677Z"
    },
    "papermill": {
     "duration": 1.527758,
     "end_time": "2022-10-06T03:10:55.057900",
     "exception": false,
     "start_time": "2022-10-06T03:10:53.530142",
     "status": "completed"
    },
    "tags": []
   },
   "outputs": [],
   "source": [
    "#hide_input\n",
    "import warnings\n",
    "warnings.filterwarnings('ignore')\n",
    "from scripts.read_data import read_api\n",
    "from scripts.read_data import read_news\n",
    "from scripts.read_data import read_covid\n",
    "import matplotlib.pyplot as plt \n",
    "from IPython.display import Markdown as md"
   ]
  },
  {
   "cell_type": "code",
   "execution_count": 2,
   "id": "shared-acceptance",
   "metadata": {
    "execution": {
     "iopub.execute_input": "2022-10-06T03:10:55.093283Z",
     "iopub.status.busy": "2022-10-06T03:10:55.092037Z",
     "iopub.status.idle": "2022-10-06T03:11:06.839098Z",
     "shell.execute_reply": "2022-10-06T03:11:06.837881Z"
    },
    "papermill": {
     "duration": 11.764672,
     "end_time": "2022-10-06T03:11:06.839257",
     "exception": false,
     "start_time": "2022-10-06T03:10:55.074585",
     "status": "completed"
    },
    "tags": []
   },
   "outputs": [],
   "source": [
    "#hide_input\n",
    "blockchain = read_news('blockchain') \n",
    "btc = read_news('btc') \n",
    "xrp = read_news('xrp') \n",
    "trx = read_news('trx') \n",
    "eth = read_news('eth')  \n",
    "ada = read_news('ada')\n",
    "exchange = read_news('exchange') "
   ]
  },
  {
   "cell_type": "code",
   "execution_count": 3,
   "id": "synthetic-notion",
   "metadata": {
    "execution": {
     "iopub.execute_input": "2022-10-06T03:11:06.869122Z",
     "iopub.status.busy": "2022-10-06T03:11:06.868448Z",
     "iopub.status.idle": "2022-10-06T03:11:06.875227Z",
     "shell.execute_reply": "2022-10-06T03:11:06.876302Z"
    },
    "papermill": {
     "duration": 0.025371,
     "end_time": "2022-10-06T03:11:06.876445",
     "exception": false,
     "start_time": "2022-10-06T03:11:06.851074",
     "status": "completed"
    },
    "tags": []
   },
   "outputs": [
    {
     "data": {
      "text/markdown": [
       "- Institutions are getting serious, Alluvial executive Mara Schmiedt says.  Alluvial Chief Growth Officer Mara Schmiedt said the coming years hold a flood of institutional adoption for crypto staking protocols.  ... [| Skaityti daugiau](https://www.theblock.co/post/175188/institutions-are-getting-serious-alluvial-executive-mara-schmiedt-says?utm_source=cryptocompare&utm_medium=rss) "
      ],
      "text/plain": [
       "<IPython.core.display.Markdown object>"
      ]
     },
     "execution_count": 3,
     "metadata": {},
     "output_type": "execute_result"
    }
   ],
   "source": [
    "#hide_input\n",
    "#md('##### {}'.format(titleBTC)) \n",
    "md(\"- {}{} {}{} [| Skaityti daugiau]({}) \".format(blockchain['title'],'. ', blockchain['body'], ' ...', blockchain['url']))"
   ]
  },
  {
   "cell_type": "code",
   "execution_count": 4,
   "id": "aging-caution",
   "metadata": {
    "execution": {
     "iopub.execute_input": "2022-10-06T03:11:06.903753Z",
     "iopub.status.busy": "2022-10-06T03:11:06.903066Z",
     "iopub.status.idle": "2022-10-06T03:11:06.908337Z",
     "shell.execute_reply": "2022-10-06T03:11:06.908929Z"
    },
    "papermill": {
     "duration": 0.021209,
     "end_time": "2022-10-06T03:11:06.909073",
     "exception": false,
     "start_time": "2022-10-06T03:11:06.887864",
     "status": "completed"
    },
    "tags": []
   },
   "outputs": [
    {
     "data": {
      "text/markdown": [
       "- Bitcoin, Ethereum, Maker, and Helium Daily Price Analyses – 5 October Roundup.  The global crypto market has surprised analysts and investors as it took a turn. The recent changes in the market showed a declining trend for Bitcoin and others. There was a chance that the market would lose momentum, but the recent changes have strengthened it further. As the market has retained momentum, it has added &#8230;  Bitcoin, Ethereum, Maker, and Helium Daily Price Analyses – 5 October Roundup Read More &#187; ... [| Skaityti daugiau](https://www.cryptopolitan.com/bitcoin-ethereum-maker-and-helium-daily-price-analyses-5-october-roundup/) "
      ],
      "text/plain": [
       "<IPython.core.display.Markdown object>"
      ]
     },
     "execution_count": 4,
     "metadata": {},
     "output_type": "execute_result"
    }
   ],
   "source": [
    "#hide_input\n",
    "#md('##### {}'.format(titleBTC)) \n",
    "md(\"- {}{} {}{} [| Skaityti daugiau]({}) \".format(btc['title'],'. ', btc['body'], ' ...', btc['url']))"
   ]
  },
  {
   "cell_type": "code",
   "execution_count": 5,
   "id": "organic-actress",
   "metadata": {
    "execution": {
     "iopub.execute_input": "2022-10-06T03:11:06.948744Z",
     "iopub.status.busy": "2022-10-06T03:11:06.947820Z",
     "iopub.status.idle": "2022-10-06T03:11:06.954914Z",
     "shell.execute_reply": "2022-10-06T03:11:06.954304Z"
    },
    "papermill": {
     "duration": 0.03329,
     "end_time": "2022-10-06T03:11:06.955041",
     "exception": false,
     "start_time": "2022-10-06T03:11:06.921751",
     "status": "completed"
    },
    "tags": []
   },
   "outputs": [
    {
     "data": {
      "text/markdown": [
       "- Here’s Why This Expert Thinks The Next Crypto Bearish Trend May Be Near.  The past few months have brought a rollercoaster experience for the prices of cryptocurrencies. The crypto market has been hovering due to the impact of macro factors. But the past 24 hours created a new move of strength in the market. Almost all the assets made positive moves to push the market into the green. The price of Bitcoin has gradually climbed to its critical level of $20K as the token amassed over a 2.5% uptrend. In the early trading hours of today, the BTC price reached $20,342. The bullish trend cuts across the altcoins and other crypto assets. Ethereum has crossed the $1,350 level as it rose by over 1.8% over the past day. Related Reading: Low Volatility Crypto Market Supplies Surprisingly Stable State Of Fear Dogecoin (DOGE) made a tremendous reclaiming with a surge of over 8% over the past 24 hours. This mark an outstanding bullish strength in the digital asset market for today. Also, Ripple (XRP) redirected its pattern through an increase of about 5% in the last 24 hours. Experts Think Digital Assets Market Can’t Sustain A Price Rally Experts predict another bottom for the crypto market despite its recent impressive price movements. They think the crypto assets lack sustainability for the price rally and will soon experience a bearish trend. The CEO of Eight Global and crypto analyst, Michael van de Poppe, commented on a possible turn of the crypto market. He thinks that the value of the US dollar will soon ra... ... [| Skaityti daugiau](https://www.newsbtc.com/crypto/heres-why-this-expert-thinks-the-next-crypto-bearish-trend-may-be-near/) "
      ],
      "text/plain": [
       "<IPython.core.display.Markdown object>"
      ]
     },
     "execution_count": 5,
     "metadata": {},
     "output_type": "execute_result"
    }
   ],
   "source": [
    "#hide_input\n",
    "#md('##### {}'.format(titleBTC)) \n",
    "md(\"- {}{} {}{} [| Skaityti daugiau]({}) \".format(xrp['title'],'. ', xrp['body'], ' ...', xrp['url']))"
   ]
  },
  {
   "cell_type": "code",
   "execution_count": 6,
   "id": "prompt-farmer",
   "metadata": {
    "execution": {
     "iopub.execute_input": "2022-10-06T03:11:06.985029Z",
     "iopub.status.busy": "2022-10-06T03:11:06.983876Z",
     "iopub.status.idle": "2022-10-06T03:11:06.988998Z",
     "shell.execute_reply": "2022-10-06T03:11:06.988457Z"
    },
    "papermill": {
     "duration": 0.022294,
     "end_time": "2022-10-06T03:11:06.989145",
     "exception": false,
     "start_time": "2022-10-06T03:11:06.966851",
     "status": "completed"
    },
    "tags": []
   },
   "outputs": [
    {
     "data": {
      "text/markdown": [
       "- Tron Could Be Ready For $0.1 After Hard Fight, Here Is Why?.  TRX price could be ready for a short-term relief rally as the price breaks out from the downtrend, creating more bullish sentiment for a recovery. TRX looks strong on both low and high timeframes. The price of TRX breaks out on the daily timeframe after forming a descending triangle. Tron (TRX) has struggled to remain bullish against tether (USDT) after seeing its price rejected from a region of $0.11 on several occasions to trend higher. Tron (TRX), despite being loved by the Tron community, the token has had its fair share of the current bear run coupled with the rumors of its decoupling from its pegged fiat token USSD. With the current market looking more promising ahead of more relief bounces from altcoins, we could see the price of Tron (TRX) making moves. (Data from Binance) Related Reading: Bitcoin Pound Sterling Volume Soars To ATH Amid Currency Crisis Tron (TRX) Price Analysis On The Weekly Chart The new month has come with more relief for most crypto projects, with altcoins, such as BTC, ETH, and even XRP, continuing to show strength after weeks of downtrend movement. The price of TRX has struggled to remain bullish, falling from a high of $0.11 to a weekly low of $0.05, with the price looking more stable as the price looks ready to bounce off from this region. After hitting a bottom low of $0.05, the price of TRX bounced swiftly from that region as the price rallied to a high of $0.07 as the price faced more rejecti... ... [| Skaityti daugiau](https://www.newsbtc.com/analysis/tron-could-be-ready-for-0-1-after-hard-fight-here-is-why/) "
      ],
      "text/plain": [
       "<IPython.core.display.Markdown object>"
      ]
     },
     "execution_count": 6,
     "metadata": {},
     "output_type": "execute_result"
    }
   ],
   "source": [
    "#hide_input\n",
    "#md('##### {}'.format(titleBTC)) \n",
    "md(\"- {}{} {}{} [| Skaityti daugiau]({}) \".format(trx['title'],'. ', trx['body'], ' ...', trx['url']))"
   ]
  },
  {
   "cell_type": "code",
   "execution_count": 7,
   "id": "illegal-greece",
   "metadata": {
    "execution": {
     "iopub.execute_input": "2022-10-06T03:11:07.019423Z",
     "iopub.status.busy": "2022-10-06T03:11:07.018603Z",
     "iopub.status.idle": "2022-10-06T03:11:07.025381Z",
     "shell.execute_reply": "2022-10-06T03:11:07.025896Z"
    },
    "papermill": {
     "duration": 0.024501,
     "end_time": "2022-10-06T03:11:07.026023",
     "exception": false,
     "start_time": "2022-10-06T03:11:07.001522",
     "status": "completed"
    },
    "tags": []
   },
   "outputs": [
    {
     "data": {
      "text/markdown": [
       "- Bitcoin, Ethereum, Maker, and Helium Daily Price Analyses – 5 October Roundup.  The global crypto market has surprised analysts and investors as it took a turn. The recent changes in the market showed a declining trend for Bitcoin and others. There was a chance that the market would lose momentum, but the recent changes have strengthened it further. As the market has retained momentum, it has added &#8230;  Bitcoin, Ethereum, Maker, and Helium Daily Price Analyses – 5 October Roundup Read More &#187; ... [| Skaityti daugiau](https://www.cryptopolitan.com/bitcoin-ethereum-maker-and-helium-daily-price-analyses-5-october-roundup/) "
      ],
      "text/plain": [
       "<IPython.core.display.Markdown object>"
      ]
     },
     "execution_count": 7,
     "metadata": {},
     "output_type": "execute_result"
    }
   ],
   "source": [
    "#hide_input\n",
    "#md('##### {}'.format(titleBTC)) \n",
    "md(\"- {}{} {}{} [| Skaityti daugiau]({}) \".format(eth['title'],'. ', eth['body'], ' ...', eth['url']))"
   ]
  },
  {
   "cell_type": "code",
   "execution_count": 8,
   "id": "sublime-lounge",
   "metadata": {
    "execution": {
     "iopub.execute_input": "2022-10-06T03:11:07.058073Z",
     "iopub.status.busy": "2022-10-06T03:11:07.057215Z",
     "iopub.status.idle": "2022-10-06T03:11:07.063552Z",
     "shell.execute_reply": "2022-10-06T03:11:07.063006Z"
    },
    "papermill": {
     "duration": 0.023989,
     "end_time": "2022-10-06T03:11:07.063717",
     "exception": false,
     "start_time": "2022-10-06T03:11:07.039728",
     "status": "completed"
    },
    "tags": []
   },
   "outputs": [
    {
     "data": {
      "text/markdown": [
       "- Hedera: Everything latest you need to know before investing in HBAR.  Hedera&#8217;s [HBAR] development activity witnessed consistent growth since November 2018 as per recent data from Santiment. The network ranked third and stood behind Polkadot [DOT] and Cardano [ADA]. Referred to as the most used enterprise-grade public network, Hedera is an open-source cryptocurrency network where users and developers alike can complete transactions and deploy decentralized applications (dApps). [&#8230;] ... [| Skaityti daugiau](https://ambcrypto.com/hedera-everything-latest-you-need-to-know-before-investing-in-hbar/) "
      ],
      "text/plain": [
       "<IPython.core.display.Markdown object>"
      ]
     },
     "execution_count": 8,
     "metadata": {},
     "output_type": "execute_result"
    }
   ],
   "source": [
    "#hide_input\n",
    "#md('##### {}'.format(titleBTC)) \n",
    "md(\"- {}{} {}{} [| Skaityti daugiau]({}) \".format(ada['title'],'. ', ada['body'], ' ...', ada['url']))"
   ]
  },
  {
   "cell_type": "code",
   "execution_count": 9,
   "id": "specified-ordering",
   "metadata": {
    "execution": {
     "iopub.execute_input": "2022-10-06T03:11:07.097257Z",
     "iopub.status.busy": "2022-10-06T03:11:07.096484Z",
     "iopub.status.idle": "2022-10-06T03:11:07.103907Z",
     "shell.execute_reply": "2022-10-06T03:11:07.103258Z"
    },
    "papermill": {
     "duration": 0.026181,
     "end_time": "2022-10-06T03:11:07.104039",
     "exception": false,
     "start_time": "2022-10-06T03:11:07.077858",
     "status": "completed"
    },
    "tags": []
   },
   "outputs": [
    {
     "data": {
      "text/markdown": [
       "- First Mover Asia: BitMEX Shift From Hong Kong Reflects the Toll of Stringent Covid Policies; Bitcoin Trades Sideways Amid Energy, Employment Concerns.  The crypto exchange leased out a full floor of the prestigious Cheung Kong Center in 2018 but now relies increasingly on remote work. BitMEX’s largest office is now in Singapore. Bitcoin trades sideways. ... [| Skaityti daugiau](https://www.coindesk.com/markets/2022/10/06/first-mover-asia-bitmex-shift-from-hong-kong-reflects-the-toll-of-stringent-covid-policies-bitcoin-trades-sideways-amid-energy-employment-concerns/?utm_medium=referral&utm_source=rss&utm_campaign=headlines) "
      ],
      "text/plain": [
       "<IPython.core.display.Markdown object>"
      ]
     },
     "execution_count": 9,
     "metadata": {},
     "output_type": "execute_result"
    }
   ],
   "source": [
    "#hide_input\n",
    "#md('##### {}'.format(titleBTC)) \n",
    "md(\"- {}{} {}{} [| Skaityti daugiau]({}) \".format(exchange['title'],'. ', exchange['body'], ' ...', exchange['url']))"
   ]
  },
  {
   "cell_type": "code",
   "execution_count": null,
   "id": "tender-livestock",
   "metadata": {
    "papermill": {
     "duration": 0.014889,
     "end_time": "2022-10-06T03:11:07.132635",
     "exception": false,
     "start_time": "2022-10-06T03:11:07.117746",
     "status": "completed"
    },
    "tags": []
   },
   "outputs": [],
   "source": []
  },
  {
   "cell_type": "code",
   "execution_count": null,
   "id": "appreciated-diamond",
   "metadata": {
    "papermill": {
     "duration": 0.014056,
     "end_time": "2022-10-06T03:11:07.160704",
     "exception": false,
     "start_time": "2022-10-06T03:11:07.146648",
     "status": "completed"
    },
    "tags": []
   },
   "outputs": [],
   "source": []
  },
  {
   "cell_type": "code",
   "execution_count": null,
   "id": "romance-sweden",
   "metadata": {
    "papermill": {
     "duration": 0.013511,
     "end_time": "2022-10-06T03:11:07.187544",
     "exception": false,
     "start_time": "2022-10-06T03:11:07.174033",
     "status": "completed"
    },
    "tags": []
   },
   "outputs": [],
   "source": []
  },
  {
   "cell_type": "code",
   "execution_count": null,
   "id": "dietary-statistics",
   "metadata": {
    "papermill": {
     "duration": 0.012795,
     "end_time": "2022-10-06T03:11:07.214010",
     "exception": false,
     "start_time": "2022-10-06T03:11:07.201215",
     "status": "completed"
    },
    "tags": []
   },
   "outputs": [],
   "source": []
  }
 ],
 "metadata": {
  "kernelspec": {
   "display_name": "Python 3",
   "language": "python",
   "name": "python3"
  },
  "language_info": {
   "codemirror_mode": {
    "name": "ipython",
    "version": 3
   },
   "file_extension": ".py",
   "mimetype": "text/x-python",
   "name": "python",
   "nbconvert_exporter": "python",
   "pygments_lexer": "ipython3",
   "version": "3.6.15"
  },
  "papermill": {
   "default_parameters": {},
   "duration": 15.53185,
   "end_time": "2022-10-06T03:11:07.747380",
   "environment_variables": {},
   "exception": null,
   "input_path": "Market-News.ipynb",
   "output_path": "Market-News.ipynb",
   "parameters": {},
   "start_time": "2022-10-06T03:10:52.215530",
   "version": "2.2.2"
  }
 },
 "nbformat": 4,
 "nbformat_minor": 5
}