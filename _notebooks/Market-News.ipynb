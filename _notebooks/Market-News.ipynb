{
 "cells": [
  {
   "cell_type": "markdown",
   "id": "short-greensboro",
   "metadata": {
    "papermill": {
     "duration": 0.014429,
     "end_time": "2021-09-11T01:56:28.164942",
     "exception": false,
     "start_time": "2021-09-11T01:56:28.150513",
     "status": "completed"
    },
    "tags": []
   },
   "source": [
    "# Kriptovaliutų naujienos"
   ]
  },
  {
   "cell_type": "code",
   "execution_count": 1,
   "id": "functioning-knowing",
   "metadata": {
    "execution": {
     "iopub.execute_input": "2021-09-11T01:56:28.199781Z",
     "iopub.status.busy": "2021-09-11T01:56:28.199146Z",
     "iopub.status.idle": "2021-09-11T01:56:29.545376Z",
     "shell.execute_reply": "2021-09-11T01:56:29.544483Z"
    },
    "papermill": {
     "duration": 1.369652,
     "end_time": "2021-09-11T01:56:29.545608",
     "exception": false,
     "start_time": "2021-09-11T01:56:28.175956",
     "status": "completed"
    },
    "tags": []
   },
   "outputs": [],
   "source": [
    "#hide_input\n",
    "import warnings\n",
    "warnings.filterwarnings('ignore')\n",
    "from scripts.read_data import read_api\n",
    "from scripts.read_data import read_news\n",
    "from scripts.read_data import read_covid\n",
    "import matplotlib.pyplot as plt \n",
    "from IPython.display import Markdown as md"
   ]
  },
  {
   "cell_type": "code",
   "execution_count": 2,
   "id": "shared-acceptance",
   "metadata": {
    "execution": {
     "iopub.execute_input": "2021-09-11T01:56:29.575783Z",
     "iopub.status.busy": "2021-09-11T01:56:29.575187Z",
     "iopub.status.idle": "2021-09-11T01:56:38.430390Z",
     "shell.execute_reply": "2021-09-11T01:56:38.429801Z"
    },
    "papermill": {
     "duration": 8.872389,
     "end_time": "2021-09-11T01:56:38.430514",
     "exception": false,
     "start_time": "2021-09-11T01:56:29.558125",
     "status": "completed"
    },
    "tags": []
   },
   "outputs": [],
   "source": [
    "#hide_input\n",
    "blockchain = read_news('blockchain') \n",
    "btc = read_news('btc') \n",
    "xrp = read_news('xrp') \n",
    "trx = read_news('trx') \n",
    "eth = read_news('eth')  \n",
    "ada = read_news('ada')\n",
    "exchange = read_news('exchange') "
   ]
  },
  {
   "cell_type": "code",
   "execution_count": 3,
   "id": "synthetic-notion",
   "metadata": {
    "execution": {
     "iopub.execute_input": "2021-09-11T01:56:38.457701Z",
     "iopub.status.busy": "2021-09-11T01:56:38.457092Z",
     "iopub.status.idle": "2021-09-11T01:56:38.459357Z",
     "shell.execute_reply": "2021-09-11T01:56:38.459814Z"
    },
    "papermill": {
     "duration": 0.018971,
     "end_time": "2021-09-11T01:56:38.459938",
     "exception": false,
     "start_time": "2021-09-11T01:56:38.440967",
     "status": "completed"
    },
    "tags": []
   },
   "outputs": [
    {
     "data": {
      "text/markdown": [
       "- This Altcoin Is Skyrocketing Amid the Greater Crypto Market Correction.  While most of the cryptocurrency market suffers through a correction, one altcoin is surging 86% this week. Algorand (ALGO), a blockchain for decentralized finance (DeFi) applications, was trading around $1.51 before this week and dropped like the rest of the crypto market to $1.20 by the middle of Tuesday. However, since hitting that price point, [&#8230;]The post This Altcoin Is Skyrocketing Amid the Greater Crypto Market Correction appeared first on The Daily Hodl. ... [| Skaityti daugiau](https://dailyhodl.com/2021/09/10/this-altcoin-is-skyrocketing-amid-the-greater-crypto-market-correction/) "
      ],
      "text/plain": [
       "<IPython.core.display.Markdown object>"
      ]
     },
     "execution_count": 3,
     "metadata": {},
     "output_type": "execute_result"
    }
   ],
   "source": [
    "#hide_input\n",
    "#md('##### {}'.format(titleBTC)) \n",
    "md(\"- {}{} {}{} [| Skaityti daugiau]({}) \".format(blockchain['title'],'. ', blockchain['body'], ' ...', blockchain['url']))"
   ]
  },
  {
   "cell_type": "code",
   "execution_count": 4,
   "id": "aging-caution",
   "metadata": {
    "execution": {
     "iopub.execute_input": "2021-09-11T01:56:38.486253Z",
     "iopub.status.busy": "2021-09-11T01:56:38.485554Z",
     "iopub.status.idle": "2021-09-11T01:56:38.488135Z",
     "shell.execute_reply": "2021-09-11T01:56:38.488678Z"
    },
    "papermill": {
     "duration": 0.018698,
     "end_time": "2021-09-11T01:56:38.488828",
     "exception": false,
     "start_time": "2021-09-11T01:56:38.470130",
     "status": "completed"
    },
    "tags": []
   },
   "outputs": [
    {
     "data": {
      "text/markdown": [
       "- Is Mexican Exchange Bitso Behind El Salvador’s Chivo Wallet?.  The mystery of the Chivo wallet persists. And Bitso comes into the picture as part of a more credible report confirmed through official channels. It seems like NewsBTC was right to doubt Forbes’s article about BitGo being behind the Chivo wallet. This Reuters report, on the other hand, comes with specific information and quotes confirming the news. For example: &#8220;We are looking forward to working with El Salvador in an initiative that will transform payment structures and increase financial inclusion in the country,&#8221; said Santiago Alvarado, vice-president of Bitso for Business. Related Reading &#124; Bitcoin Price Bloodbath: Is El Salvador A “Sell The News” Event? Even that could be considered evasive, it doesn’t refer to the Chivo wallet specifically. This chunky bit of information, on the other hand, leaves little to the imagination. “Bitso said it will work with Silvergate Bank, a U.S. federally-regulated and California state-chartered bank, to facilitate transactions in U.S. dollars.” The language suggests they’re talking business. El Salvador made history by becoming the first country to make Bitcoin legal tender, and today, we’re proud to announce that Bitso is committed to building and developing El Salvador’s vision of Bitcoin by being the core crypto-service provider for Chivo.Let’s #MakeCryptoUseful https://t.co/2rrTNDdXab &#8212; Bitso (@Bitso) September 7, 2021 If Bitso Is Behind The Wallet, What’s The D... ... [| Skaityti daugiau](https://www.newsbtc.com/news/bitcoin/is-bitso-behind-chivo-wallet/) "
      ],
      "text/plain": [
       "<IPython.core.display.Markdown object>"
      ]
     },
     "execution_count": 4,
     "metadata": {},
     "output_type": "execute_result"
    }
   ],
   "source": [
    "#hide_input\n",
    "#md('##### {}'.format(titleBTC)) \n",
    "md(\"- {}{} {}{} [| Skaityti daugiau]({}) \".format(btc['title'],'. ', btc['body'], ' ...', btc['url']))"
   ]
  },
  {
   "cell_type": "code",
   "execution_count": 5,
   "id": "organic-actress",
   "metadata": {
    "execution": {
     "iopub.execute_input": "2021-09-11T01:56:38.518262Z",
     "iopub.status.busy": "2021-09-11T01:56:38.517248Z",
     "iopub.status.idle": "2021-09-11T01:56:38.520900Z",
     "shell.execute_reply": "2021-09-11T01:56:38.521335Z"
    },
    "papermill": {
     "duration": 0.021885,
     "end_time": "2021-09-11T01:56:38.521471",
     "exception": false,
     "start_time": "2021-09-11T01:56:38.499586",
     "status": "completed"
    },
    "tags": []
   },
   "outputs": [
    {
     "data": {
      "text/markdown": [
       "- Another SEC Lawsuit Howler Sees Ripple Pulling Away.  The Securities and Exchange Commission (SEC) has admitted that before instigating legal proceedings against Ripple, it never informed inquiring third parties that it considers XRP a security. &#8220;&#8230;the Commission admits that before the filing of this case certain third parties inquired about the legal status of XRP. However, the Commission did not state a view [&#8230;] ... [| Skaityti daugiau](https://bitcoinist.com/another-sec-howler-sees-ripple-pulling-away/?utm_source=rss&utm_medium=rss&utm_campaign=another-sec-howler-sees-ripple-pulling-away) "
      ],
      "text/plain": [
       "<IPython.core.display.Markdown object>"
      ]
     },
     "execution_count": 5,
     "metadata": {},
     "output_type": "execute_result"
    }
   ],
   "source": [
    "#hide_input\n",
    "#md('##### {}'.format(titleBTC)) \n",
    "md(\"- {}{} {}{} [| Skaityti daugiau]({}) \".format(xrp['title'],'. ', xrp['body'], ' ...', xrp['url']))"
   ]
  },
  {
   "cell_type": "code",
   "execution_count": 6,
   "id": "prompt-farmer",
   "metadata": {
    "execution": {
     "iopub.execute_input": "2021-09-11T01:56:38.551742Z",
     "iopub.status.busy": "2021-09-11T01:56:38.550899Z",
     "iopub.status.idle": "2021-09-11T01:56:38.554217Z",
     "shell.execute_reply": "2021-09-11T01:56:38.553747Z"
    },
    "papermill": {
     "duration": 0.021584,
     "end_time": "2021-09-11T01:56:38.554343",
     "exception": false,
     "start_time": "2021-09-11T01:56:38.532759",
     "status": "completed"
    },
    "tags": []
   },
   "outputs": [
    {
     "data": {
      "text/markdown": [
       "- Tron price analysis: TRX gears for new bullish trend after touching $0.076 low.   TL;DR Breakdown Tron forms a bullish engulfing pattern after a downslide of over 14 percent yesterdayPrice could breakout as high as $0.18 in the upcoming trendSupport sits at the current price of $0.09 which is set to be maintained Tron price analysis shows that the coin is set to form a new trend starting today, that could potentially take price up to $0.18. The new upturn is formed after price fell more than 14 percent yesterday, to a month long low of $0.07. This downslide pushed trading volume, allowing buyers to consolidate in the market after support was breached at $0.09. This triggered the bullish response from the 28th ranked cryptocurrency, that now sits at a recovered price of $0.094 and continues to rise.  The current newfound bullish momentum is expected to face some backlash near the $0.12 mark. However attempts are expected to breakout towards $0.2. After yesterday&#8217;s decline, the price has now moved back above the 50 and 100-day moving averages, while also exhibiting a positive crossover in the intra-day trading session as per Tron price analysis. TRX followed a recovering larger cryptocurrency market, where Bitcoin and Altcoins showed recoveries from bloodbaths suffered earlier in the week. Bitcoin went above the $47,000 mark while Ethereum pulled past $3,500, each going up by 1.5 percent. Among Altcoins, the biggest increments were seen with Solana (13 percent), Polkadot (10 percent) and Cardano (aroun... ... [| Skaityti daugiau](https://api.follow.it/track-rss-story-click/v3/tHfgumto13CrCqpyut-Aj95ZnUTwRGH7) "
      ],
      "text/plain": [
       "<IPython.core.display.Markdown object>"
      ]
     },
     "execution_count": 6,
     "metadata": {},
     "output_type": "execute_result"
    }
   ],
   "source": [
    "#hide_input\n",
    "#md('##### {}'.format(titleBTC)) \n",
    "md(\"- {}{} {}{} [| Skaityti daugiau]({}) \".format(trx['title'],'. ', trx['body'], ' ...', trx['url']))"
   ]
  },
  {
   "cell_type": "code",
   "execution_count": 7,
   "id": "illegal-greece",
   "metadata": {
    "execution": {
     "iopub.execute_input": "2021-09-11T01:56:38.582173Z",
     "iopub.status.busy": "2021-09-11T01:56:38.581614Z",
     "iopub.status.idle": "2021-09-11T01:56:38.584483Z",
     "shell.execute_reply": "2021-09-11T01:56:38.584891Z"
    },
    "papermill": {
     "duration": 0.019162,
     "end_time": "2021-09-11T01:56:38.585019",
     "exception": false,
     "start_time": "2021-09-11T01:56:38.565857",
     "status": "completed"
    },
    "tags": []
   },
   "outputs": [
    {
     "data": {
      "text/markdown": [
       "- NFT sales are sizzling: Record $5 billion in sales as Bored Apes, Loot, CryptoPunks make splash.  Mutant Ape Yacht Club, Loot (for Adventurers) and Bloot (not for Weaks) made a splash during the last two weekends, while contributing to tremendous spikes in gas prices, according to the latest DappRadar report that kept tabs on the new decentralized applications (dapps). The post NFT sales are sizzling: Record $5 billion in sales as Bored Apes, Loot, CryptoPunks make splash appeared first on CryptoSlate. ... [| Skaityti daugiau](https://cryptoslate.com/nft-sales-are-sizzling-record-5-billion-in-sales-as-bored-apes-loot-cryptopunks-make-splash/) "
      ],
      "text/plain": [
       "<IPython.core.display.Markdown object>"
      ]
     },
     "execution_count": 7,
     "metadata": {},
     "output_type": "execute_result"
    }
   ],
   "source": [
    "#hide_input\n",
    "#md('##### {}'.format(titleBTC)) \n",
    "md(\"- {}{} {}{} [| Skaityti daugiau]({}) \".format(eth['title'],'. ', eth['body'], ' ...', eth['url']))"
   ]
  },
  {
   "cell_type": "code",
   "execution_count": 8,
   "id": "sublime-lounge",
   "metadata": {
    "execution": {
     "iopub.execute_input": "2021-09-11T01:56:38.613697Z",
     "iopub.status.busy": "2021-09-11T01:56:38.613116Z",
     "iopub.status.idle": "2021-09-11T01:56:38.616633Z",
     "shell.execute_reply": "2021-09-11T01:56:38.616141Z"
    },
    "papermill": {
     "duration": 0.019933,
     "end_time": "2021-09-11T01:56:38.616744",
     "exception": false,
     "start_time": "2021-09-11T01:56:38.596811",
     "status": "completed"
    },
    "tags": []
   },
   "outputs": [
    {
     "data": {
      "text/markdown": [
       "- Cardano: A tale of two breakouts, but which is more likely.  Disclaimer: The findings of the following analysis are the sole opinions of the writer and should not be taken as investment advice As the dust settled in the Cardano market, the price began to take shape within a symmetrical triangle. The end of the consolidation phase would result in a sharp swing, but the direction is [&#8230;] ... [| Skaityti daugiau](https://ambcrypto.com/cardano-a-tale-of-two-breakouts-but-which-is-more-likely/) "
      ],
      "text/plain": [
       "<IPython.core.display.Markdown object>"
      ]
     },
     "execution_count": 8,
     "metadata": {},
     "output_type": "execute_result"
    }
   ],
   "source": [
    "#hide_input\n",
    "#md('##### {}'.format(titleBTC)) \n",
    "md(\"- {}{} {}{} [| Skaityti daugiau]({}) \".format(ada['title'],'. ', ada['body'], ' ...', ada['url']))"
   ]
  },
  {
   "cell_type": "code",
   "execution_count": 9,
   "id": "specified-ordering",
   "metadata": {
    "execution": {
     "iopub.execute_input": "2021-09-11T01:56:38.648057Z",
     "iopub.status.busy": "2021-09-11T01:56:38.647461Z",
     "iopub.status.idle": "2021-09-11T01:56:38.651305Z",
     "shell.execute_reply": "2021-09-11T01:56:38.650827Z"
    },
    "papermill": {
     "duration": 0.02235,
     "end_time": "2021-09-11T01:56:38.651426",
     "exception": false,
     "start_time": "2021-09-11T01:56:38.629076",
     "status": "completed"
    },
    "tags": []
   },
   "outputs": [
    {
     "data": {
      "text/markdown": [
       "- Is Mexican Exchange Bitso Behind El Salvador’s Chivo Wallet?.  The mystery of the Chivo wallet persists. And Bitso comes into the picture as part of a more credible report confirmed through official channels. It seems like NewsBTC was right to doubt Forbes’s article about BitGo being behind the Chivo wallet. This Reuters report, on the other hand, comes with specific information and quotes confirming the news. For example: &#8220;We are looking forward to working with El Salvador in an initiative that will transform payment structures and increase financial inclusion in the country,&#8221; said Santiago Alvarado, vice-president of Bitso for Business. Related Reading &#124; Bitcoin Price Bloodbath: Is El Salvador A “Sell The News” Event? Even that could be considered evasive, it doesn’t refer to the Chivo wallet specifically. This chunky bit of information, on the other hand, leaves little to the imagination. “Bitso said it will work with Silvergate Bank, a U.S. federally-regulated and California state-chartered bank, to facilitate transactions in U.S. dollars.” The language suggests they’re talking business. El Salvador made history by becoming the first country to make Bitcoin legal tender, and today, we’re proud to announce that Bitso is committed to building and developing El Salvador’s vision of Bitcoin by being the core crypto-service provider for Chivo.Let’s #MakeCryptoUseful https://t.co/2rrTNDdXab &#8212; Bitso (@Bitso) September 7, 2021 If Bitso Is Behind The Wallet, What’s The D... ... [| Skaityti daugiau](https://www.newsbtc.com/news/bitcoin/is-bitso-behind-chivo-wallet/) "
      ],
      "text/plain": [
       "<IPython.core.display.Markdown object>"
      ]
     },
     "execution_count": 9,
     "metadata": {},
     "output_type": "execute_result"
    }
   ],
   "source": [
    "#hide_input\n",
    "#md('##### {}'.format(titleBTC)) \n",
    "md(\"- {}{} {}{} [| Skaityti daugiau]({}) \".format(exchange['title'],'. ', exchange['body'], ' ...', exchange['url']))"
   ]
  },
  {
   "cell_type": "code",
   "execution_count": null,
   "id": "tender-livestock",
   "metadata": {
    "papermill": {
     "duration": 0.012665,
     "end_time": "2021-09-11T01:56:38.676841",
     "exception": false,
     "start_time": "2021-09-11T01:56:38.664176",
     "status": "completed"
    },
    "tags": []
   },
   "outputs": [],
   "source": []
  },
  {
   "cell_type": "code",
   "execution_count": null,
   "id": "appreciated-diamond",
   "metadata": {
    "papermill": {
     "duration": 0.012432,
     "end_time": "2021-09-11T01:56:38.702150",
     "exception": false,
     "start_time": "2021-09-11T01:56:38.689718",
     "status": "completed"
    },
    "tags": []
   },
   "outputs": [],
   "source": []
  },
  {
   "cell_type": "code",
   "execution_count": null,
   "id": "romance-sweden",
   "metadata": {
    "papermill": {
     "duration": 0.012648,
     "end_time": "2021-09-11T01:56:38.727403",
     "exception": false,
     "start_time": "2021-09-11T01:56:38.714755",
     "status": "completed"
    },
    "tags": []
   },
   "outputs": [],
   "source": []
  },
  {
   "cell_type": "code",
   "execution_count": null,
   "id": "dietary-statistics",
   "metadata": {
    "papermill": {
     "duration": 0.012516,
     "end_time": "2021-09-11T01:56:38.752585",
     "exception": false,
     "start_time": "2021-09-11T01:56:38.740069",
     "status": "completed"
    },
    "tags": []
   },
   "outputs": [],
   "source": []
  }
 ],
 "metadata": {
  "kernelspec": {
   "display_name": "Python 3",
   "language": "python",
   "name": "python3"
  },
  "language_info": {
   "codemirror_mode": {
    "name": "ipython",
    "version": 3
   },
   "file_extension": ".py",
   "mimetype": "text/x-python",
   "name": "python",
   "nbconvert_exporter": "python",
   "pygments_lexer": "ipython3",
   "version": "3.6.14"
  },
  "papermill": {
   "default_parameters": {},
   "duration": 12.194275,
   "end_time": "2021-09-11T01:56:39.274203",
   "environment_variables": {},
   "exception": null,
   "input_path": "Market-News.ipynb",
   "output_path": "Market-News.ipynb",
   "parameters": {},
   "start_time": "2021-09-11T01:56:27.079928",
   "version": "2.2.2"
  }
 },
 "nbformat": 4,
 "nbformat_minor": 5
}