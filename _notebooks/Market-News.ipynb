{
 "cells": [
  {
   "cell_type": "markdown",
   "id": "short-greensboro",
   "metadata": {
    "papermill": {
     "duration": 0.013679,
     "end_time": "2021-12-19T02:09:51.009148",
     "exception": false,
     "start_time": "2021-12-19T02:09:50.995469",
     "status": "completed"
    },
    "tags": []
   },
   "source": [
    "# Kriptovaliutų naujienos"
   ]
  },
  {
   "cell_type": "code",
   "execution_count": 1,
   "id": "functioning-knowing",
   "metadata": {
    "execution": {
     "iopub.execute_input": "2021-12-19T02:09:51.038538Z",
     "iopub.status.busy": "2021-12-19T02:09:51.037994Z",
     "iopub.status.idle": "2021-12-19T02:09:52.308307Z",
     "shell.execute_reply": "2021-12-19T02:09:52.308811Z"
    },
    "papermill": {
     "duration": 1.290232,
     "end_time": "2021-12-19T02:09:52.309001",
     "exception": false,
     "start_time": "2021-12-19T02:09:51.018769",
     "status": "completed"
    },
    "tags": []
   },
   "outputs": [],
   "source": [
    "#hide_input\n",
    "import warnings\n",
    "warnings.filterwarnings('ignore')\n",
    "from scripts.read_data import read_api\n",
    "from scripts.read_data import read_news\n",
    "from scripts.read_data import read_covid\n",
    "import matplotlib.pyplot as plt \n",
    "from IPython.display import Markdown as md"
   ]
  },
  {
   "cell_type": "code",
   "execution_count": 2,
   "id": "shared-acceptance",
   "metadata": {
    "execution": {
     "iopub.execute_input": "2021-12-19T02:09:52.334553Z",
     "iopub.status.busy": "2021-12-19T02:09:52.334031Z",
     "iopub.status.idle": "2021-12-19T02:10:01.664974Z",
     "shell.execute_reply": "2021-12-19T02:10:01.664019Z"
    },
    "papermill": {
     "duration": 9.345978,
     "end_time": "2021-12-19T02:10:01.665122",
     "exception": false,
     "start_time": "2021-12-19T02:09:52.319144",
     "status": "completed"
    },
    "tags": []
   },
   "outputs": [],
   "source": [
    "#hide_input\n",
    "blockchain = read_news('blockchain') \n",
    "btc = read_news('btc') \n",
    "xrp = read_news('xrp') \n",
    "trx = read_news('trx') \n",
    "eth = read_news('eth')  \n",
    "ada = read_news('ada')\n",
    "exchange = read_news('exchange') "
   ]
  },
  {
   "cell_type": "code",
   "execution_count": 3,
   "id": "synthetic-notion",
   "metadata": {
    "execution": {
     "iopub.execute_input": "2021-12-19T02:10:01.689596Z",
     "iopub.status.busy": "2021-12-19T02:10:01.689076Z",
     "iopub.status.idle": "2021-12-19T02:10:01.692971Z",
     "shell.execute_reply": "2021-12-19T02:10:01.693352Z"
    },
    "papermill": {
     "duration": 0.019019,
     "end_time": "2021-12-19T02:10:01.693482",
     "exception": false,
     "start_time": "2021-12-19T02:10:01.674463",
     "status": "completed"
    },
    "tags": []
   },
   "outputs": [
    {
     "data": {
      "text/markdown": [
       "- Could Legacy Brand RadioShack Revolutionize Itself Through… DeFi?.  RadioShack was a technology hallmark in the late 1990s. Big box stores dominated the emergence of new technological innovations, when personal computers, cell phones, printers, and the like all started to hit the market and were host to a fast race to be a leader in innovation. However, in recent years, big box presence has dwindled, and RadioShack has been largely seen as a legacy brand that failed to shift to consumer demand &#8211; investing in brick and mortar without optimizing their online shopping experience. Could the century-old consumer goods brand keep it&#8217;s heart pumping through&#8230; DeFi? RadioShack Is Now A DeFi Product? RadioShack&#8217;s website is now front and center an announcement for a new DeFi protocol, which will host the RADIO token. A waitlist is available for early notifications, Discord and Telegram communities are established, and yes &#8211; there&#8217;s a RadioShack DeFi whitepaper on Github. The platform will look to infuse the RADIO token as a &#8216;hub&#8217; of essentially a hub-and-spoke model that takes a unique approach relative to traditional DEX&#8217;s: Oh, and you can still shop online for your technology hardware needs too. It&#8217;s the latest unique and unexpected twist in crypto, as DeFi continues to have a strong performance to close out the year. Protocols that have a major emphasis on DeFi products, including the likes of Avalanche (AVAX) and Terra (LUNA) have entered t... ... [| Skaityti daugiau](https://www.newsbtc.com/news/could-legacy-brand-radioshack-revolutionize-itself-through-defi/) "
      ],
      "text/plain": [
       "<IPython.core.display.Markdown object>"
      ]
     },
     "execution_count": 3,
     "metadata": {},
     "output_type": "execute_result"
    }
   ],
   "source": [
    "#hide_input\n",
    "#md('##### {}'.format(titleBTC)) \n",
    "md(\"- {}{} {}{} [| Skaityti daugiau]({}) \".format(blockchain['title'],'. ', blockchain['body'], ' ...', blockchain['url']))"
   ]
  },
  {
   "cell_type": "code",
   "execution_count": 4,
   "id": "aging-caution",
   "metadata": {
    "execution": {
     "iopub.execute_input": "2021-12-19T02:10:01.716975Z",
     "iopub.status.busy": "2021-12-19T02:10:01.716455Z",
     "iopub.status.idle": "2021-12-19T02:10:01.721008Z",
     "shell.execute_reply": "2021-12-19T02:10:01.721392Z"
    },
    "papermill": {
     "duration": 0.018634,
     "end_time": "2021-12-19T02:10:01.721518",
     "exception": false,
     "start_time": "2021-12-19T02:10:01.702884",
     "status": "completed"
    },
    "tags": []
   },
   "outputs": [
    {
     "data": {
      "text/markdown": [
       "- Hyperinflation Will Change Everything, But Bitcoin Is Dilution Proof.  As signs of hyperinflation in the U.S. continue to appear, our society will suffer in numerous ways. Those who choose bitcoin will have some protection. ... [| Skaityti daugiau](https://bitcoinmagazine.com/markets/bitcoin-is-safe-from-growing-hyperinflation) "
      ],
      "text/plain": [
       "<IPython.core.display.Markdown object>"
      ]
     },
     "execution_count": 4,
     "metadata": {},
     "output_type": "execute_result"
    }
   ],
   "source": [
    "#hide_input\n",
    "#md('##### {}'.format(titleBTC)) \n",
    "md(\"- {}{} {}{} [| Skaityti daugiau]({}) \".format(btc['title'],'. ', btc['body'], ' ...', btc['url']))"
   ]
  },
  {
   "cell_type": "code",
   "execution_count": 5,
   "id": "organic-actress",
   "metadata": {
    "execution": {
     "iopub.execute_input": "2021-12-19T02:10:01.746732Z",
     "iopub.status.busy": "2021-12-19T02:10:01.746169Z",
     "iopub.status.idle": "2021-12-19T02:10:01.748669Z",
     "shell.execute_reply": "2021-12-19T02:10:01.749069Z"
    },
    "papermill": {
     "duration": 0.017953,
     "end_time": "2021-12-19T02:10:01.749190",
     "exception": false,
     "start_time": "2021-12-19T02:10:01.731237",
     "status": "completed"
    },
    "tags": []
   },
   "outputs": [
    {
     "data": {
      "text/markdown": [
       "- BitTorrent, XRP and Terra: Coins that resonated with the bulls today!.  BitTorrent in the last weeks had dropped its value considerably, however, in the last 24 hours, BTT embarked into the recovery mode. With mostly lateral trading, BTT had finally managed to register a 2.2% upward jump in prices. The coin was priced at $0.0026 at the time of writing. The immediate price ceiling for the The post BitTorrent, XRP and Terra: Coins that resonated with the bulls today! appeared first on CoinGape. ... [| Skaityti daugiau](https://coingape.com/bittorrent-xrp-and-terra-coins-that-resonated-with-the-bulls-today/) "
      ],
      "text/plain": [
       "<IPython.core.display.Markdown object>"
      ]
     },
     "execution_count": 5,
     "metadata": {},
     "output_type": "execute_result"
    }
   ],
   "source": [
    "#hide_input\n",
    "#md('##### {}'.format(titleBTC)) \n",
    "md(\"- {}{} {}{} [| Skaityti daugiau]({}) \".format(xrp['title'],'. ', xrp['body'], ' ...', xrp['url']))"
   ]
  },
  {
   "cell_type": "code",
   "execution_count": 6,
   "id": "prompt-farmer",
   "metadata": {
    "execution": {
     "iopub.execute_input": "2021-12-19T02:10:01.774799Z",
     "iopub.status.busy": "2021-12-19T02:10:01.774234Z",
     "iopub.status.idle": "2021-12-19T02:10:01.776778Z",
     "shell.execute_reply": "2021-12-19T02:10:01.777175Z"
    },
    "papermill": {
     "duration": 0.018215,
     "end_time": "2021-12-19T02:10:01.777296",
     "exception": false,
     "start_time": "2021-12-19T02:10:01.759081",
     "status": "completed"
    },
    "tags": []
   },
   "outputs": [
    {
     "data": {
      "text/markdown": [
       "- XRP, Tron, BitTorrent Price Analysis 18 December.  With the Bitcoin fear and greed index flashing an &#8216;extreme fear&#8217; situation over the past week, the resulting impact can be seen on most cryptos. XRP flashed weak technicals while Tron and BitTorrent lost their crucial price points that the bulls upheld for months. XRP Since 7 December, XRP has found an oscillating range between [&#8230;] ... [| Skaityti daugiau](https://ambcrypto.com/xrp-tron-bittorrent-price-analysis-18-december/) "
      ],
      "text/plain": [
       "<IPython.core.display.Markdown object>"
      ]
     },
     "execution_count": 6,
     "metadata": {},
     "output_type": "execute_result"
    }
   ],
   "source": [
    "#hide_input\n",
    "#md('##### {}'.format(titleBTC)) \n",
    "md(\"- {}{} {}{} [| Skaityti daugiau]({}) \".format(trx['title'],'. ', trx['body'], ' ...', trx['url']))"
   ]
  },
  {
   "cell_type": "code",
   "execution_count": 7,
   "id": "illegal-greece",
   "metadata": {
    "execution": {
     "iopub.execute_input": "2021-12-19T02:10:01.802989Z",
     "iopub.status.busy": "2021-12-19T02:10:01.801298Z",
     "iopub.status.idle": "2021-12-19T02:10:01.804916Z",
     "shell.execute_reply": "2021-12-19T02:10:01.805345Z"
    },
    "papermill": {
     "duration": 0.017697,
     "end_time": "2021-12-19T02:10:01.805466",
     "exception": false,
     "start_time": "2021-12-19T02:10:01.787769",
     "status": "completed"
    },
    "tags": []
   },
   "outputs": [
    {
     "data": {
      "text/markdown": [
       "- Here's why Ethereum traders could care less about ETH's current weakness.  ETH price could hit new lows near $3,600, but derivatives data suggests pro traders still feel bullish.  ... [| Skaityti daugiau](https://cointelegraph.com/news/here-s-why-ethereum-traders-could-care-less-about-eth-s-current-weakness) "
      ],
      "text/plain": [
       "<IPython.core.display.Markdown object>"
      ]
     },
     "execution_count": 7,
     "metadata": {},
     "output_type": "execute_result"
    }
   ],
   "source": [
    "#hide_input\n",
    "#md('##### {}'.format(titleBTC)) \n",
    "md(\"- {}{} {}{} [| Skaityti daugiau]({}) \".format(eth['title'],'. ', eth['body'], ' ...', eth['url']))"
   ]
  },
  {
   "cell_type": "code",
   "execution_count": 8,
   "id": "sublime-lounge",
   "metadata": {
    "execution": {
     "iopub.execute_input": "2021-12-19T02:10:01.831957Z",
     "iopub.status.busy": "2021-12-19T02:10:01.831426Z",
     "iopub.status.idle": "2021-12-19T02:10:01.833902Z",
     "shell.execute_reply": "2021-12-19T02:10:01.834310Z"
    },
    "papermill": {
     "duration": 0.018497,
     "end_time": "2021-12-19T02:10:01.834430",
     "exception": false,
     "start_time": "2021-12-19T02:10:01.815933",
     "status": "completed"
    },
    "tags": []
   },
   "outputs": [
    {
     "data": {
      "text/markdown": [
       "- Cardano Price Analysis: ADA Signals Bullish Divergence, a Retest of $1.3 Incoming?.  Despite ADA dropping to support, it has formed a bullish divergence, indicating a possible move higher soon. Key Support levels: $1.2, $1 Key Resistance level: $1.3, $1.5 ADA retested the support at $1.2 yesterday, making a lower low. However, the RSI has made a higher low, signaling a bullish divergence. So long the key support [&#8230;] ... [| Skaityti daugiau](https://cryptopotato.com/cardano-price-analysis-ada-signals-bullish-divergence-a-retest-of-1-3-incoming/) "
      ],
      "text/plain": [
       "<IPython.core.display.Markdown object>"
      ]
     },
     "execution_count": 8,
     "metadata": {},
     "output_type": "execute_result"
    }
   ],
   "source": [
    "#hide_input\n",
    "#md('##### {}'.format(titleBTC)) \n",
    "md(\"- {}{} {}{} [| Skaityti daugiau]({}) \".format(ada['title'],'. ', ada['body'], ' ...', ada['url']))"
   ]
  },
  {
   "cell_type": "code",
   "execution_count": 9,
   "id": "specified-ordering",
   "metadata": {
    "execution": {
     "iopub.execute_input": "2021-12-19T02:10:01.860490Z",
     "iopub.status.busy": "2021-12-19T02:10:01.859989Z",
     "iopub.status.idle": "2021-12-19T02:10:01.864945Z",
     "shell.execute_reply": "2021-12-19T02:10:01.864541Z"
    },
    "papermill": {
     "duration": 0.019802,
     "end_time": "2021-12-19T02:10:01.865047",
     "exception": false,
     "start_time": "2021-12-19T02:10:01.845245",
     "status": "completed"
    },
    "tags": []
   },
   "outputs": [
    {
     "data": {
      "text/markdown": [
       "- A Binance Headquarter In Dubai? Is CZ Discussing It With Regulators?.  This is all hearsay, but, Binance might be moving to Dubai. Not only that, Bloomberg seems to make the case that the company will make the Gulf Arab nation its main home. Are we reading too much into it? Or are the clues right there in front of our eyes? Changpeng Zhao AKA CZ, Binance’s [&#8230;] ... [| Skaityti daugiau](https://bitcoinist.com/a-binance-headquarter-in-dubai/) "
      ],
      "text/plain": [
       "<IPython.core.display.Markdown object>"
      ]
     },
     "execution_count": 9,
     "metadata": {},
     "output_type": "execute_result"
    }
   ],
   "source": [
    "#hide_input\n",
    "#md('##### {}'.format(titleBTC)) \n",
    "md(\"- {}{} {}{} [| Skaityti daugiau]({}) \".format(exchange['title'],'. ', exchange['body'], ' ...', exchange['url']))"
   ]
  },
  {
   "cell_type": "code",
   "execution_count": null,
   "id": "tender-livestock",
   "metadata": {
    "papermill": {
     "duration": 0.010982,
     "end_time": "2021-12-19T02:10:01.887228",
     "exception": false,
     "start_time": "2021-12-19T02:10:01.876246",
     "status": "completed"
    },
    "tags": []
   },
   "outputs": [],
   "source": []
  },
  {
   "cell_type": "code",
   "execution_count": null,
   "id": "appreciated-diamond",
   "metadata": {
    "papermill": {
     "duration": 0.011088,
     "end_time": "2021-12-19T02:10:01.909488",
     "exception": false,
     "start_time": "2021-12-19T02:10:01.898400",
     "status": "completed"
    },
    "tags": []
   },
   "outputs": [],
   "source": []
  },
  {
   "cell_type": "code",
   "execution_count": null,
   "id": "romance-sweden",
   "metadata": {
    "papermill": {
     "duration": 0.011066,
     "end_time": "2021-12-19T02:10:01.931684",
     "exception": false,
     "start_time": "2021-12-19T02:10:01.920618",
     "status": "completed"
    },
    "tags": []
   },
   "outputs": [],
   "source": []
  },
  {
   "cell_type": "code",
   "execution_count": null,
   "id": "dietary-statistics",
   "metadata": {
    "papermill": {
     "duration": 0.010986,
     "end_time": "2021-12-19T02:10:01.953717",
     "exception": false,
     "start_time": "2021-12-19T02:10:01.942731",
     "status": "completed"
    },
    "tags": []
   },
   "outputs": [],
   "source": []
  }
 ],
 "metadata": {
  "kernelspec": {
   "display_name": "Python 3",
   "language": "python",
   "name": "python3"
  },
  "language_info": {
   "codemirror_mode": {
    "name": "ipython",
    "version": 3
   },
   "file_extension": ".py",
   "mimetype": "text/x-python",
   "name": "python",
   "nbconvert_exporter": "python",
   "pygments_lexer": "ipython3",
   "version": "3.6.15"
  },
  "papermill": {
   "default_parameters": {},
   "duration": 12.401102,
   "end_time": "2021-12-19T02:10:02.473601",
   "environment_variables": {},
   "exception": null,
   "input_path": "Market-News.ipynb",
   "output_path": "Market-News.ipynb",
   "parameters": {},
   "start_time": "2021-12-19T02:09:50.072499",
   "version": "2.2.2"
  }
 },
 "nbformat": 4,
 "nbformat_minor": 5
}