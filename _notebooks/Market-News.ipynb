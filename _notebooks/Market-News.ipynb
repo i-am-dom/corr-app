{
 "cells": [
  {
   "cell_type": "markdown",
   "id": "short-greensboro",
   "metadata": {
    "papermill": {
     "duration": 0.016964,
     "end_time": "2022-04-29T03:07:01.509880",
     "exception": false,
     "start_time": "2022-04-29T03:07:01.492916",
     "status": "completed"
    },
    "tags": []
   },
   "source": [
    "# Kriptovaliutų naujienos"
   ]
  },
  {
   "cell_type": "code",
   "execution_count": 1,
   "id": "functioning-knowing",
   "metadata": {
    "execution": {
     "iopub.execute_input": "2022-04-29T03:07:01.544995Z",
     "iopub.status.busy": "2022-04-29T03:07:01.544278Z",
     "iopub.status.idle": "2022-04-29T03:07:03.057602Z",
     "shell.execute_reply": "2022-04-29T03:07:03.057028Z"
    },
    "papermill": {
     "duration": 1.535762,
     "end_time": "2022-04-29T03:07:03.057766",
     "exception": false,
     "start_time": "2022-04-29T03:07:01.522004",
     "status": "completed"
    },
    "tags": []
   },
   "outputs": [],
   "source": [
    "#hide_input\n",
    "import warnings\n",
    "warnings.filterwarnings('ignore')\n",
    "from scripts.read_data import read_api\n",
    "from scripts.read_data import read_news\n",
    "from scripts.read_data import read_covid\n",
    "import matplotlib.pyplot as plt \n",
    "from IPython.display import Markdown as md"
   ]
  },
  {
   "cell_type": "code",
   "execution_count": 2,
   "id": "shared-acceptance",
   "metadata": {
    "execution": {
     "iopub.execute_input": "2022-04-29T03:07:03.099265Z",
     "iopub.status.busy": "2022-04-29T03:07:03.097991Z",
     "iopub.status.idle": "2022-04-29T03:07:12.865089Z",
     "shell.execute_reply": "2022-04-29T03:07:12.863959Z"
    },
    "papermill": {
     "duration": 9.795762,
     "end_time": "2022-04-29T03:07:12.865246",
     "exception": false,
     "start_time": "2022-04-29T03:07:03.069484",
     "status": "completed"
    },
    "tags": []
   },
   "outputs": [],
   "source": [
    "#hide_input\n",
    "blockchain = read_news('blockchain') \n",
    "btc = read_news('btc') \n",
    "xrp = read_news('xrp') \n",
    "trx = read_news('trx') \n",
    "eth = read_news('eth')  \n",
    "ada = read_news('ada')\n",
    "exchange = read_news('exchange') "
   ]
  },
  {
   "cell_type": "code",
   "execution_count": 3,
   "id": "synthetic-notion",
   "metadata": {
    "execution": {
     "iopub.execute_input": "2022-04-29T03:07:12.893859Z",
     "iopub.status.busy": "2022-04-29T03:07:12.893186Z",
     "iopub.status.idle": "2022-04-29T03:07:12.895492Z",
     "shell.execute_reply": "2022-04-29T03:07:12.896029Z"
    },
    "papermill": {
     "duration": 0.020255,
     "end_time": "2022-04-29T03:07:12.896195",
     "exception": false,
     "start_time": "2022-04-29T03:07:12.875940",
     "status": "completed"
    },
    "tags": []
   },
   "outputs": [
    {
     "data": {
      "text/markdown": [
       "- Theta Fuel Price Prediction 2022.  Theta is one of the two natural sequels on the blockchain. Furthermore, it will help to serve as a worthless sequel in decentralized video and data delivery. Mitch Lui was the co-founder of coin and other several modest teams. One of the main aims of creating coins was to rescue money for constructing development and increase advertising. Theta officially started in 2017 and is still alive. However, it also acted as a fluid token. Accordingly, it is main is to generate all the processes that are taking place on the Theta blockchain. In addition, it also simulates users in the biosphere. Whereby they share irrelevant computing power. Furthermore, they went ahead and record multiple peer-reviewed academic papers that hold various trademarks in videos. Theta Current Price Prediction According to the trading view, the price of Theta fuel has been downstream in the last five days with a price of $0.1757 as per writing time. The current price of the coin is $0.1861 in the last 24hours. The MACD indicators are short and red indicating a bearish downtrend in the market. Following our technical indicators, The moving average of 12 out of 26 indicators are showing signals of buyers, While 2 out of 26 are indicating selling signals to the sellers. 3 out of 26 indicators in the Oscillators are indicating buyers and 0 out of 26 is indicating selling. What do Investors think About the Price of the Coin According to youtube influencer Mark H... ... [| Skaityti daugiau](https://www.cryptoknowmics.com/news/theta-fuel-price-prediction-2022/?utm_source=rss&utm_medium=rss&utm_campaign=theta-fuel-price-prediction-2022) "
      ],
      "text/plain": [
       "<IPython.core.display.Markdown object>"
      ]
     },
     "execution_count": 3,
     "metadata": {},
     "output_type": "execute_result"
    }
   ],
   "source": [
    "#hide_input\n",
    "#md('##### {}'.format(titleBTC)) \n",
    "md(\"- {}{} {}{} [| Skaityti daugiau]({}) \".format(blockchain['title'],'. ', blockchain['body'], ' ...', blockchain['url']))"
   ]
  },
  {
   "cell_type": "code",
   "execution_count": 4,
   "id": "aging-caution",
   "metadata": {
    "execution": {
     "iopub.execute_input": "2022-04-29T03:07:12.924456Z",
     "iopub.status.busy": "2022-04-29T03:07:12.923732Z",
     "iopub.status.idle": "2022-04-29T03:07:12.926174Z",
     "shell.execute_reply": "2022-04-29T03:07:12.926680Z"
    },
    "papermill": {
     "duration": 0.019707,
     "end_time": "2022-04-29T03:07:12.926828",
     "exception": false,
     "start_time": "2022-04-29T03:07:12.907121",
     "status": "completed"
    },
    "tags": []
   },
   "outputs": [
    {
     "data": {
      "text/markdown": [
       "- Bitcoin Nears Psychological Barrier, Here’s What To Look Out For.  The cryptocurrency market has had another wild week, with the price of Bitcoin (BTC) hitting a new multi-month low of $37,700. The stock market also experienced a significant sell-off, owing to investor concerns over the size of the Federal Reserve&#8217;s next rate hike. While the price of Bitcoin has fallen 41.72 percent from its all-time high of $69,000, a deeper look into various on-chain and derivatives data suggests that a decline in inflows and the shift from institutional investors are the key factors influencing BTC price behavior. Bitcoin Stumbles On $40K For a few weeks, Bitcoin has been consolidating below its 100-day moving average, failing to break above it. The price has been supported by the important $37K demand zone and the falling mid-term trendline, which has lessened the bearish momentum. The $37,000 mark has now become important support for Bitcoin, posing a significant obstacle for bears aiming to drive the price lower. If it fails, the price will almost certainly fall below the $30K demand level. Furthermore, the RSI indicator is at 50%, with a bullish divergence between the RSI and the price, implying a reversal and a new bullish leg ahead. If Bitcoin is to launch a bullish surge, on the other hand. Related Reading &#124; Bitcoin 401k? Fidelity Investments Says Yes The current price of bitcoin is $40,048, a figure that intraday traders should be extremely familiar with. According to the Relative Streng... ... [| Skaityti daugiau](https://www.newsbtc.com/news/bitcoin/bitcoin-nears-psychological-barrier-heres-what-to-look-out-for/) "
      ],
      "text/plain": [
       "<IPython.core.display.Markdown object>"
      ]
     },
     "execution_count": 4,
     "metadata": {},
     "output_type": "execute_result"
    }
   ],
   "source": [
    "#hide_input\n",
    "#md('##### {}'.format(titleBTC)) \n",
    "md(\"- {}{} {}{} [| Skaityti daugiau]({}) \".format(btc['title'],'. ', btc['body'], ' ...', btc['url']))"
   ]
  },
  {
   "cell_type": "code",
   "execution_count": 5,
   "id": "organic-actress",
   "metadata": {
    "execution": {
     "iopub.execute_input": "2022-04-29T03:07:12.954743Z",
     "iopub.status.busy": "2022-04-29T03:07:12.954105Z",
     "iopub.status.idle": "2022-04-29T03:07:12.956483Z",
     "shell.execute_reply": "2022-04-29T03:07:12.957062Z"
    },
    "papermill": {
     "duration": 0.01963,
     "end_time": "2022-04-29T03:07:12.957220",
     "exception": false,
     "start_time": "2022-04-29T03:07:12.937590",
     "status": "completed"
    },
    "tags": []
   },
   "outputs": [
    {
     "data": {
      "text/markdown": [
       "- Ripple price analysis: XRP struggles to recover as price approaches $0.6 support.  TL;DR Breakdown Ripple price analysis shows price continuing to decline Descending triangle deepens as price heads towards $0.5 24-hour trading volume dropped 18 percent to signal bearish market trend Ripple price continues to show an extremely bearish outlook, as price deepens towards the lowest point since 22 February, 2022. The descending triangle pattern deepened to... ... [| Skaityti daugiau](https://www.cryptopolitan.com/ripple-price-analysis-2022-04-28/) "
      ],
      "text/plain": [
       "<IPython.core.display.Markdown object>"
      ]
     },
     "execution_count": 5,
     "metadata": {},
     "output_type": "execute_result"
    }
   ],
   "source": [
    "#hide_input\n",
    "#md('##### {}'.format(titleBTC)) \n",
    "md(\"- {}{} {}{} [| Skaityti daugiau]({}) \".format(xrp['title'],'. ', xrp['body'], ' ...', xrp['url']))"
   ]
  },
  {
   "cell_type": "code",
   "execution_count": 6,
   "id": "prompt-farmer",
   "metadata": {
    "execution": {
     "iopub.execute_input": "2022-04-29T03:07:12.987297Z",
     "iopub.status.busy": "2022-04-29T03:07:12.986591Z",
     "iopub.status.idle": "2022-04-29T03:07:12.989082Z",
     "shell.execute_reply": "2022-04-29T03:07:12.989655Z"
    },
    "papermill": {
     "duration": 0.020827,
     "end_time": "2022-04-29T03:07:12.989807",
     "exception": false,
     "start_time": "2022-04-29T03:07:12.968980",
     "status": "completed"
    },
    "tags": []
   },
   "outputs": [
    {
     "data": {
      "text/markdown": [
       "- FIREPIN Token (FRPN) Acquisitions Continue as Dogecoin (DOGE) and Tron (TRON) Lead Market Performance.  Performances of cryptocurrencies are sometimes affected by external factors but nothing like the effect that Elon Musk has on Dogecoin (DOGE).Continue reading FIREPIN Token (FRPN) Acquisitions Continue as Dogecoin (DOGE) and Tron (TRON) Lead Market Performance at DailyCoin.com. ... [| Skaityti daugiau](https://dailycoin.com/firepin-token-frpn-acquisitions-continue-as-dogecoin-doge-and-tron-tron-lead-market-performance/) "
      ],
      "text/plain": [
       "<IPython.core.display.Markdown object>"
      ]
     },
     "execution_count": 6,
     "metadata": {},
     "output_type": "execute_result"
    }
   ],
   "source": [
    "#hide_input\n",
    "#md('##### {}'.format(titleBTC)) \n",
    "md(\"- {}{} {}{} [| Skaityti daugiau]({}) \".format(trx['title'],'. ', trx['body'], ' ...', trx['url']))"
   ]
  },
  {
   "cell_type": "code",
   "execution_count": 7,
   "id": "illegal-greece",
   "metadata": {
    "execution": {
     "iopub.execute_input": "2022-04-29T03:07:13.022518Z",
     "iopub.status.busy": "2022-04-29T03:07:13.021767Z",
     "iopub.status.idle": "2022-04-29T03:07:13.026160Z",
     "shell.execute_reply": "2022-04-29T03:07:13.025648Z"
    },
    "papermill": {
     "duration": 0.023769,
     "end_time": "2022-04-29T03:07:13.026287",
     "exception": false,
     "start_time": "2022-04-29T03:07:13.002518",
     "status": "completed"
    },
    "tags": []
   },
   "outputs": [
    {
     "data": {
      "text/markdown": [
       "- S&P 500 Spike Triggers Ether To Surge Past $2,930.  The crypto market has persisted in tracking the stock market closely. The trend has been recently noted in the market performance of Ethereum, the second-largest crypto by market cap. ETH climbs as S&#38;P 500 records gains Per data from crypto market behavior analysis platform, Santiment, following a positive close in the S&#38;P 500 index the The post S&amp;P 500 Spike Triggers Ether To Surge Past $2,930 appeared first on CoinGape. ... [| Skaityti daugiau](https://coingape.com/sp-500-spike-triggers-ether-to-surge-past-2930/) "
      ],
      "text/plain": [
       "<IPython.core.display.Markdown object>"
      ]
     },
     "execution_count": 7,
     "metadata": {},
     "output_type": "execute_result"
    }
   ],
   "source": [
    "#hide_input\n",
    "#md('##### {}'.format(titleBTC)) \n",
    "md(\"- {}{} {}{} [| Skaityti daugiau]({}) \".format(eth['title'],'. ', eth['body'], ' ...', eth['url']))"
   ]
  },
  {
   "cell_type": "code",
   "execution_count": 8,
   "id": "sublime-lounge",
   "metadata": {
    "execution": {
     "iopub.execute_input": "2022-04-29T03:07:13.062703Z",
     "iopub.status.busy": "2022-04-29T03:07:13.061960Z",
     "iopub.status.idle": "2022-04-29T03:07:13.064358Z",
     "shell.execute_reply": "2022-04-29T03:07:13.064844Z"
    },
    "papermill": {
     "duration": 0.025956,
     "end_time": "2022-04-29T03:07:13.064996",
     "exception": false,
     "start_time": "2022-04-29T03:07:13.039040",
     "status": "completed"
    },
    "tags": []
   },
   "outputs": [
    {
     "data": {
      "text/markdown": [
       "- Shiba Inu & Cardano Becomes The Longest Holded Altcoins! Traders Waiting For SHIB & ADA Massive Upswing.  The post Shiba Inu &#038; Cardano Becomes The Longest Holded Altcoins! Traders Waiting For SHIB &#038; ADA Massive Upswing appeared first on Coinpedia - Fintech &amp; Cryptocurreny News Media| Crypto GuideShiba Inu had an eventful April, with prices soaring by 40% in one day due to Robinhood listing and then plunging back to the important support level of $0.000023, wiping out all profits. Bulls were unable to maintain a price above the critical support, indicating that the purchasing momentum was short-lived.&#160; The $0.000028 resistance was &#8230; ... [| Skaityti daugiau](https://coinpedia.org/altcoin/shiba-inu-cardano-becomes-the-longest-holded-altcoins-traders-waiting-for-shib-ada-massive-upswing/) "
      ],
      "text/plain": [
       "<IPython.core.display.Markdown object>"
      ]
     },
     "execution_count": 8,
     "metadata": {},
     "output_type": "execute_result"
    }
   ],
   "source": [
    "#hide_input\n",
    "#md('##### {}'.format(titleBTC)) \n",
    "md(\"- {}{} {}{} [| Skaityti daugiau]({}) \".format(ada['title'],'. ', ada['body'], ' ...', ada['url']))"
   ]
  },
  {
   "cell_type": "code",
   "execution_count": 9,
   "id": "specified-ordering",
   "metadata": {
    "execution": {
     "iopub.execute_input": "2022-04-29T03:07:13.097121Z",
     "iopub.status.busy": "2022-04-29T03:07:13.096480Z",
     "iopub.status.idle": "2022-04-29T03:07:13.098993Z",
     "shell.execute_reply": "2022-04-29T03:07:13.099511Z"
    },
    "papermill": {
     "duration": 0.021846,
     "end_time": "2022-04-29T03:07:13.099652",
     "exception": false,
     "start_time": "2022-04-29T03:07:13.077806",
     "status": "completed"
    },
    "tags": []
   },
   "outputs": [
    {
     "data": {
      "text/markdown": [
       "- Bipartisan bill to give CFTC authority over exchanges and stablecoins.  The Digital Commodity Exchange Act would give the commodities regulator the authority to determine rules for cryptocurrency developers and exchanges offering spot trading. ... [| Skaityti daugiau](https://cointelegraph.com/news/bipartisan-bill-to-give-cftc-authority-over-exchanges-and-stablecoins) "
      ],
      "text/plain": [
       "<IPython.core.display.Markdown object>"
      ]
     },
     "execution_count": 9,
     "metadata": {},
     "output_type": "execute_result"
    }
   ],
   "source": [
    "#hide_input\n",
    "#md('##### {}'.format(titleBTC)) \n",
    "md(\"- {}{} {}{} [| Skaityti daugiau]({}) \".format(exchange['title'],'. ', exchange['body'], ' ...', exchange['url']))"
   ]
  },
  {
   "cell_type": "code",
   "execution_count": null,
   "id": "tender-livestock",
   "metadata": {
    "papermill": {
     "duration": 0.013108,
     "end_time": "2022-04-29T03:07:13.125991",
     "exception": false,
     "start_time": "2022-04-29T03:07:13.112883",
     "status": "completed"
    },
    "tags": []
   },
   "outputs": [],
   "source": []
  },
  {
   "cell_type": "code",
   "execution_count": null,
   "id": "appreciated-diamond",
   "metadata": {
    "papermill": {
     "duration": 0.013,
     "end_time": "2022-04-29T03:07:13.152005",
     "exception": false,
     "start_time": "2022-04-29T03:07:13.139005",
     "status": "completed"
    },
    "tags": []
   },
   "outputs": [],
   "source": []
  },
  {
   "cell_type": "code",
   "execution_count": null,
   "id": "romance-sweden",
   "metadata": {
    "papermill": {
     "duration": 0.012493,
     "end_time": "2022-04-29T03:07:13.178752",
     "exception": false,
     "start_time": "2022-04-29T03:07:13.166259",
     "status": "completed"
    },
    "tags": []
   },
   "outputs": [],
   "source": []
  },
  {
   "cell_type": "code",
   "execution_count": null,
   "id": "dietary-statistics",
   "metadata": {
    "papermill": {
     "duration": 0.01303,
     "end_time": "2022-04-29T03:07:13.204584",
     "exception": false,
     "start_time": "2022-04-29T03:07:13.191554",
     "status": "completed"
    },
    "tags": []
   },
   "outputs": [],
   "source": []
  }
 ],
 "metadata": {
  "kernelspec": {
   "display_name": "Python 3",
   "language": "python",
   "name": "python3"
  },
  "language_info": {
   "codemirror_mode": {
    "name": "ipython",
    "version": 3
   },
   "file_extension": ".py",
   "mimetype": "text/x-python",
   "name": "python",
   "nbconvert_exporter": "python",
   "pygments_lexer": "ipython3",
   "version": "3.6.15"
  },
  "papermill": {
   "default_parameters": {},
   "duration": 13.565035,
   "end_time": "2022-04-29T03:07:13.738127",
   "environment_variables": {},
   "exception": null,
   "input_path": "Market-News.ipynb",
   "output_path": "Market-News.ipynb",
   "parameters": {},
   "start_time": "2022-04-29T03:07:00.173092",
   "version": "2.2.2"
  }
 },
 "nbformat": 4,
 "nbformat_minor": 5
}