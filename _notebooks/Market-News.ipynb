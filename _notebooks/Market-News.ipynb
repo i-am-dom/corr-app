{
 "cells": [
  {
   "cell_type": "markdown",
   "id": "short-greensboro",
   "metadata": {
    "papermill": {
     "duration": 0.016711,
     "end_time": "2022-09-03T03:33:15.727986",
     "exception": false,
     "start_time": "2022-09-03T03:33:15.711275",
     "status": "completed"
    },
    "tags": []
   },
   "source": [
    "# Kriptovaliutų naujienos"
   ]
  },
  {
   "cell_type": "code",
   "execution_count": 1,
   "id": "functioning-knowing",
   "metadata": {
    "execution": {
     "iopub.execute_input": "2022-09-03T03:33:15.767191Z",
     "iopub.status.busy": "2022-09-03T03:33:15.766337Z",
     "iopub.status.idle": "2022-09-03T03:33:17.353968Z",
     "shell.execute_reply": "2022-09-03T03:33:17.352958Z"
    },
    "papermill": {
     "duration": 1.612586,
     "end_time": "2022-09-03T03:33:17.354137",
     "exception": false,
     "start_time": "2022-09-03T03:33:15.741551",
     "status": "completed"
    },
    "tags": []
   },
   "outputs": [],
   "source": [
    "#hide_input\n",
    "import warnings\n",
    "warnings.filterwarnings('ignore')\n",
    "from scripts.read_data import read_api\n",
    "from scripts.read_data import read_news\n",
    "from scripts.read_data import read_covid\n",
    "import matplotlib.pyplot as plt \n",
    "from IPython.display import Markdown as md"
   ]
  },
  {
   "cell_type": "code",
   "execution_count": 2,
   "id": "shared-acceptance",
   "metadata": {
    "execution": {
     "iopub.execute_input": "2022-09-03T03:33:17.384090Z",
     "iopub.status.busy": "2022-09-03T03:33:17.382803Z",
     "iopub.status.idle": "2022-09-03T03:33:33.280010Z",
     "shell.execute_reply": "2022-09-03T03:33:33.280612Z"
    },
    "papermill": {
     "duration": 15.915386,
     "end_time": "2022-09-03T03:33:33.280788",
     "exception": false,
     "start_time": "2022-09-03T03:33:17.365402",
     "status": "completed"
    },
    "tags": []
   },
   "outputs": [],
   "source": [
    "#hide_input\n",
    "blockchain = read_news('blockchain') \n",
    "btc = read_news('btc') \n",
    "xrp = read_news('xrp') \n",
    "trx = read_news('trx') \n",
    "eth = read_news('eth')  \n",
    "ada = read_news('ada')\n",
    "exchange = read_news('exchange') "
   ]
  },
  {
   "cell_type": "code",
   "execution_count": 3,
   "id": "synthetic-notion",
   "metadata": {
    "execution": {
     "iopub.execute_input": "2022-09-03T03:33:33.310988Z",
     "iopub.status.busy": "2022-09-03T03:33:33.310237Z",
     "iopub.status.idle": "2022-09-03T03:33:33.313975Z",
     "shell.execute_reply": "2022-09-03T03:33:33.314599Z"
    },
    "papermill": {
     "duration": 0.022574,
     "end_time": "2022-09-03T03:33:33.314751",
     "exception": false,
     "start_time": "2022-09-03T03:33:33.292177",
     "status": "completed"
    },
    "tags": []
   },
   "outputs": [
    {
     "data": {
      "text/markdown": [
       "- Top 5 Kommunitas Launchpad Tokens by Market Capitalization.  Kommunitas is a Polygon-based decentralized, tier-less crypto launchpad that connects the entire world to the most significant blockchain and cryptocurrency projects described by the website. The answer for multi-chain projects is what Kommunitas provides. We will dive further into a few of Kommunitas&#8217;s favorite projects from many blockchains today, including Polygon, BSC, Ethereum, Avalanche, Solana, [&#8230;]The post Top 5 Kommunitas Launchpad Tokens by Market Capitalization appeared first on NullTX. ... [| Skaityti daugiau](https://nulltx.com/top-5-kommunitas-launchpad-tokens-by-market-capitalization/) "
      ],
      "text/plain": [
       "<IPython.core.display.Markdown object>"
      ]
     },
     "execution_count": 3,
     "metadata": {},
     "output_type": "execute_result"
    }
   ],
   "source": [
    "#hide_input\n",
    "#md('##### {}'.format(titleBTC)) \n",
    "md(\"- {}{} {}{} [| Skaityti daugiau]({}) \".format(blockchain['title'],'. ', blockchain['body'], ' ...', blockchain['url']))"
   ]
  },
  {
   "cell_type": "code",
   "execution_count": 4,
   "id": "aging-caution",
   "metadata": {
    "execution": {
     "iopub.execute_input": "2022-09-03T03:33:33.345830Z",
     "iopub.status.busy": "2022-09-03T03:33:33.345052Z",
     "iopub.status.idle": "2022-09-03T03:33:33.349539Z",
     "shell.execute_reply": "2022-09-03T03:33:33.348962Z"
    },
    "papermill": {
     "duration": 0.023007,
     "end_time": "2022-09-03T03:33:33.349679",
     "exception": false,
     "start_time": "2022-09-03T03:33:33.326672",
     "status": "completed"
    },
    "tags": []
   },
   "outputs": [
    {
     "data": {
      "text/markdown": [
       "- Bitcoin, Ethereum, Neo, and Nexo Daily Price Analyses – 2 September Roundup.  The global crypto market has seen a change in performance as it couldn’t retain gains. The recent data shows that the market has turned red again. As the losses continue, the market will be affected again. The value of Bitcoin, Ethereum, and others has shown a recessive trend, affecting new investments. As the market couldn&#8217;t &#8230;  Bitcoin, Ethereum, Neo, and Nexo Daily Price Analyses – 2 September Roundup Read More &#187; ... [| Skaityti daugiau](https://www.cryptopolitan.com/bitcoin-ethereum-neo-and-nexo-daily-price-analyses-2-september-roundup/) "
      ],
      "text/plain": [
       "<IPython.core.display.Markdown object>"
      ]
     },
     "execution_count": 4,
     "metadata": {},
     "output_type": "execute_result"
    }
   ],
   "source": [
    "#hide_input\n",
    "#md('##### {}'.format(titleBTC)) \n",
    "md(\"- {}{} {}{} [| Skaityti daugiau]({}) \".format(btc['title'],'. ', btc['body'], ' ...', btc['url']))"
   ]
  },
  {
   "cell_type": "code",
   "execution_count": 5,
   "id": "organic-actress",
   "metadata": {
    "execution": {
     "iopub.execute_input": "2022-09-03T03:33:33.380032Z",
     "iopub.status.busy": "2022-09-03T03:33:33.379276Z",
     "iopub.status.idle": "2022-09-03T03:33:33.383676Z",
     "shell.execute_reply": "2022-09-03T03:33:33.383035Z"
    },
    "papermill": {
     "duration": 0.022079,
     "end_time": "2022-09-03T03:33:33.383800",
     "exception": false,
     "start_time": "2022-09-03T03:33:33.361721",
     "status": "completed"
    },
    "tags": []
   },
   "outputs": [
    {
     "data": {
      "text/markdown": [
       "- BTC, ETH, and XRP Price Analysis for September 2.  Which coins can outperform Bitcoin (BTC) in September? ... [| Skaityti daugiau](https://u.today/btc-eth-and-xrp-price-analysis-for-september-2) "
      ],
      "text/plain": [
       "<IPython.core.display.Markdown object>"
      ]
     },
     "execution_count": 5,
     "metadata": {},
     "output_type": "execute_result"
    }
   ],
   "source": [
    "#hide_input\n",
    "#md('##### {}'.format(titleBTC)) \n",
    "md(\"- {}{} {}{} [| Skaityti daugiau]({}) \".format(xrp['title'],'. ', xrp['body'], ' ...', xrp['url']))"
   ]
  },
  {
   "cell_type": "code",
   "execution_count": 6,
   "id": "prompt-farmer",
   "metadata": {
    "execution": {
     "iopub.execute_input": "2022-09-03T03:33:33.414625Z",
     "iopub.status.busy": "2022-09-03T03:33:33.413848Z",
     "iopub.status.idle": "2022-09-03T03:33:33.418210Z",
     "shell.execute_reply": "2022-09-03T03:33:33.417570Z"
    },
    "papermill": {
     "duration": 0.022283,
     "end_time": "2022-09-03T03:33:33.418343",
     "exception": false,
     "start_time": "2022-09-03T03:33:33.396060",
     "status": "completed"
    },
    "tags": []
   },
   "outputs": [
    {
     "data": {
      "text/markdown": [
       "- Tron Burn Total Exceeds 11 Billion TRX.  Tron’s TRX Burn Total Exceeds 11 Billion. Justin Sun, Tron&#8217;s head, has announced that more than 11 billion TRX have been burned since October 28, 2021. The total number of TRX in circulation is now $71.6B. 👀More than 11B #TRX burned since Oct 28, 2021.🔥 https://t.co/Y7udxT59M4 &#8212; H.E. Justin Sun🌞🇬🇩 (@justinsuntron) September 2, 2022 &#160; [&#8230;]The post Tron Burn Total Exceeds 11 Billion TRX first appeared on The Crypto Basic. ... [| Skaityti daugiau](https://thecryptobasic.com/2022/09/02/tron-burn-total-exceeds-11-billion-trx/?utm_source=rss&utm_medium=rss&utm_campaign=tron-burn-total-exceeds-11-billion-trx) "
      ],
      "text/plain": [
       "<IPython.core.display.Markdown object>"
      ]
     },
     "execution_count": 6,
     "metadata": {},
     "output_type": "execute_result"
    }
   ],
   "source": [
    "#hide_input\n",
    "#md('##### {}'.format(titleBTC)) \n",
    "md(\"- {}{} {}{} [| Skaityti daugiau]({}) \".format(trx['title'],'. ', trx['body'], ' ...', trx['url']))"
   ]
  },
  {
   "cell_type": "code",
   "execution_count": 7,
   "id": "illegal-greece",
   "metadata": {
    "execution": {
     "iopub.execute_input": "2022-09-03T03:33:33.454663Z",
     "iopub.status.busy": "2022-09-03T03:33:33.452656Z",
     "iopub.status.idle": "2022-09-03T03:33:33.458194Z",
     "shell.execute_reply": "2022-09-03T03:33:33.457538Z"
    },
    "papermill": {
     "duration": 0.027097,
     "end_time": "2022-09-03T03:33:33.458334",
     "exception": false,
     "start_time": "2022-09-03T03:33:33.431237",
     "status": "completed"
    },
    "tags": []
   },
   "outputs": [
    {
     "data": {
      "text/markdown": [
       "- Bitcoin, Ethereum, Neo, and Nexo Daily Price Analyses – 2 September Roundup.  The global crypto market has seen a change in performance as it couldn’t retain gains. The recent data shows that the market has turned red again. As the losses continue, the market will be affected again. The value of Bitcoin, Ethereum, and others has shown a recessive trend, affecting new investments. As the market couldn&#8217;t &#8230;  Bitcoin, Ethereum, Neo, and Nexo Daily Price Analyses – 2 September Roundup Read More &#187; ... [| Skaityti daugiau](https://www.cryptopolitan.com/bitcoin-ethereum-neo-and-nexo-daily-price-analyses-2-september-roundup/) "
      ],
      "text/plain": [
       "<IPython.core.display.Markdown object>"
      ]
     },
     "execution_count": 7,
     "metadata": {},
     "output_type": "execute_result"
    }
   ],
   "source": [
    "#hide_input\n",
    "#md('##### {}'.format(titleBTC)) \n",
    "md(\"- {}{} {}{} [| Skaityti daugiau]({}) \".format(eth['title'],'. ', eth['body'], ' ...', eth['url']))"
   ]
  },
  {
   "cell_type": "code",
   "execution_count": 8,
   "id": "sublime-lounge",
   "metadata": {
    "execution": {
     "iopub.execute_input": "2022-09-03T03:33:33.490978Z",
     "iopub.status.busy": "2022-09-03T03:33:33.490237Z",
     "iopub.status.idle": "2022-09-03T03:33:33.494687Z",
     "shell.execute_reply": "2022-09-03T03:33:33.494071Z"
    },
    "papermill": {
     "duration": 0.023083,
     "end_time": "2022-09-03T03:33:33.494818",
     "exception": false,
     "start_time": "2022-09-03T03:33:33.471735",
     "status": "completed"
    },
    "tags": []
   },
   "outputs": [
    {
     "data": {
      "text/markdown": [
       "- Cardano Vasil Hardfork Finally Scheduled on September 22nd !.  The post Cardano Vasil Hardfork Finally Scheduled on September 22nd ! appeared first on Coinpedia - Fintech &amp; Cryptocurreny News Media| Crypto GuideInput Output, a Cardano developer, has announced that the highly awaited Vasil upgrade will occur on September 22. After &#8220;extensive testing&#8221; of all key components, the business was able to publicly declare the date. Technical issues forced numerous postponements of the Vasil upgrade, which was first scheduled to happen in June.&#160; VASIL UPGRADE: DATE CONFIRMED &#8230; ... [| Skaityti daugiau](https://coinpedia.org/altcoin/cardano-vasil-hardfork-finally-scheduled-on-september-22nd/) "
      ],
      "text/plain": [
       "<IPython.core.display.Markdown object>"
      ]
     },
     "execution_count": 8,
     "metadata": {},
     "output_type": "execute_result"
    }
   ],
   "source": [
    "#hide_input\n",
    "#md('##### {}'.format(titleBTC)) \n",
    "md(\"- {}{} {}{} [| Skaityti daugiau]({}) \".format(ada['title'],'. ', ada['body'], ' ...', ada['url']))"
   ]
  },
  {
   "cell_type": "code",
   "execution_count": 9,
   "id": "specified-ordering",
   "metadata": {
    "execution": {
     "iopub.execute_input": "2022-09-03T03:33:33.534234Z",
     "iopub.status.busy": "2022-09-03T03:33:33.533443Z",
     "iopub.status.idle": "2022-09-03T03:33:33.539544Z",
     "shell.execute_reply": "2022-09-03T03:33:33.538920Z"
    },
    "papermill": {
     "duration": 0.03105,
     "end_time": "2022-09-03T03:33:33.539681",
     "exception": false,
     "start_time": "2022-09-03T03:33:33.508631",
     "status": "completed"
    },
    "tags": []
   },
   "outputs": [
    {
     "data": {
      "text/markdown": [
       "- Brazilian Cryptocurrency Exchange Mercado Bitcoin Lays Off 15% of Workforce Due to Global Economy Woes.  Mercado Bitcoin, one of the biggest Brazilian cryptocurrency exchanges, has announced a new wave of layoffs amidst a worsening global economic situation for fintech startups, which the exchange states is affecting innovation-based companies. The exchange laid off 15% of its workforce on September 1st, this being the second round of layoffs the company has executed [&#8230;] ... [| Skaityti daugiau](https://news.bitcoin.com/brazilian-cryptocurrency-exchange-mercado-bitcoin-lays-off-15-of-workforce-due-to-global-economy-woes/) "
      ],
      "text/plain": [
       "<IPython.core.display.Markdown object>"
      ]
     },
     "execution_count": 9,
     "metadata": {},
     "output_type": "execute_result"
    }
   ],
   "source": [
    "#hide_input\n",
    "#md('##### {}'.format(titleBTC)) \n",
    "md(\"- {}{} {}{} [| Skaityti daugiau]({}) \".format(exchange['title'],'. ', exchange['body'], ' ...', exchange['url']))"
   ]
  },
  {
   "cell_type": "code",
   "execution_count": null,
   "id": "tender-livestock",
   "metadata": {
    "papermill": {
     "duration": 0.015358,
     "end_time": "2022-09-03T03:33:33.570194",
     "exception": false,
     "start_time": "2022-09-03T03:33:33.554836",
     "status": "completed"
    },
    "tags": []
   },
   "outputs": [],
   "source": []
  },
  {
   "cell_type": "code",
   "execution_count": null,
   "id": "appreciated-diamond",
   "metadata": {
    "papermill": {
     "duration": 0.014135,
     "end_time": "2022-09-03T03:33:33.598806",
     "exception": false,
     "start_time": "2022-09-03T03:33:33.584671",
     "status": "completed"
    },
    "tags": []
   },
   "outputs": [],
   "source": []
  },
  {
   "cell_type": "code",
   "execution_count": null,
   "id": "romance-sweden",
   "metadata": {
    "papermill": {
     "duration": 0.013931,
     "end_time": "2022-09-03T03:33:33.628029",
     "exception": false,
     "start_time": "2022-09-03T03:33:33.614098",
     "status": "completed"
    },
    "tags": []
   },
   "outputs": [],
   "source": []
  },
  {
   "cell_type": "code",
   "execution_count": null,
   "id": "dietary-statistics",
   "metadata": {
    "papermill": {
     "duration": 0.017933,
     "end_time": "2022-09-03T03:33:33.660109",
     "exception": false,
     "start_time": "2022-09-03T03:33:33.642176",
     "status": "completed"
    },
    "tags": []
   },
   "outputs": [],
   "source": []
  }
 ],
 "metadata": {
  "kernelspec": {
   "display_name": "Python 3",
   "language": "python",
   "name": "python3"
  },
  "language_info": {
   "codemirror_mode": {
    "name": "ipython",
    "version": 3
   },
   "file_extension": ".py",
   "mimetype": "text/x-python",
   "name": "python",
   "nbconvert_exporter": "python",
   "pygments_lexer": "ipython3",
   "version": "3.6.15"
  },
  "papermill": {
   "default_parameters": {},
   "duration": 19.776397,
   "end_time": "2022-09-03T03:33:34.194461",
   "environment_variables": {},
   "exception": null,
   "input_path": "Market-News.ipynb",
   "output_path": "Market-News.ipynb",
   "parameters": {},
   "start_time": "2022-09-03T03:33:14.418064",
   "version": "2.2.2"
  }
 },
 "nbformat": 4,
 "nbformat_minor": 5
}