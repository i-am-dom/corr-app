{
 "cells": [
  {
   "cell_type": "markdown",
   "id": "short-greensboro",
   "metadata": {
    "papermill": {
     "duration": 0.013282,
     "end_time": "2022-07-29T03:26:07.934478",
     "exception": false,
     "start_time": "2022-07-29T03:26:07.921196",
     "status": "completed"
    },
    "tags": []
   },
   "source": [
    "# Kriptovaliutų naujienos"
   ]
  },
  {
   "cell_type": "code",
   "execution_count": 1,
   "id": "functioning-knowing",
   "metadata": {
    "execution": {
     "iopub.execute_input": "2022-07-29T03:26:07.966788Z",
     "iopub.status.busy": "2022-07-29T03:26:07.966165Z",
     "iopub.status.idle": "2022-07-29T03:26:09.197958Z",
     "shell.execute_reply": "2022-07-29T03:26:09.197398Z"
    },
    "papermill": {
     "duration": 1.252665,
     "end_time": "2022-07-29T03:26:09.198103",
     "exception": false,
     "start_time": "2022-07-29T03:26:07.945438",
     "status": "completed"
    },
    "tags": []
   },
   "outputs": [],
   "source": [
    "#hide_input\n",
    "import warnings\n",
    "warnings.filterwarnings('ignore')\n",
    "from scripts.read_data import read_api\n",
    "from scripts.read_data import read_news\n",
    "from scripts.read_data import read_covid\n",
    "import matplotlib.pyplot as plt \n",
    "from IPython.display import Markdown as md"
   ]
  },
  {
   "cell_type": "code",
   "execution_count": 2,
   "id": "shared-acceptance",
   "metadata": {
    "execution": {
     "iopub.execute_input": "2022-07-29T03:26:09.223306Z",
     "iopub.status.busy": "2022-07-29T03:26:09.222689Z",
     "iopub.status.idle": "2022-07-29T03:26:19.070961Z",
     "shell.execute_reply": "2022-07-29T03:26:19.069903Z"
    },
    "papermill": {
     "duration": 9.863607,
     "end_time": "2022-07-29T03:26:19.071113",
     "exception": false,
     "start_time": "2022-07-29T03:26:09.207506",
     "status": "completed"
    },
    "tags": []
   },
   "outputs": [],
   "source": [
    "#hide_input\n",
    "blockchain = read_news('blockchain') \n",
    "btc = read_news('btc') \n",
    "xrp = read_news('xrp') \n",
    "trx = read_news('trx') \n",
    "eth = read_news('eth')  \n",
    "ada = read_news('ada')\n",
    "exchange = read_news('exchange') "
   ]
  },
  {
   "cell_type": "code",
   "execution_count": 3,
   "id": "synthetic-notion",
   "metadata": {
    "execution": {
     "iopub.execute_input": "2022-07-29T03:26:19.095969Z",
     "iopub.status.busy": "2022-07-29T03:26:19.095353Z",
     "iopub.status.idle": "2022-07-29T03:26:19.098642Z",
     "shell.execute_reply": "2022-07-29T03:26:19.098190Z"
    },
    "papermill": {
     "duration": 0.018194,
     "end_time": "2022-07-29T03:26:19.098755",
     "exception": false,
     "start_time": "2022-07-29T03:26:19.080561",
     "status": "completed"
    },
    "tags": []
   },
   "outputs": [
    {
     "data": {
      "text/markdown": [
       "- Binance expanding in Turkey, CZ meets Finance Minister to discuss blockchain adoption.  It has been evident from the past few months that Turkey is taking the crypto industry seriously. According to the latest development, Turkish finance minister Dr. Nureddin Nebati virtually met Binance founder and CEO Changpeng Zhao to discuss cryptocurrencies and the blockchain ecosystem. 🇹🇷 https://t.co/NKqMKY05Ii &#8212; CZ 🔶 Binance (@cz_binance) July 27, 2022 During Wednesday&#8217;s [&#8230;]The post Binance expanding in Turkey, CZ meets Finance Minister to discuss blockchain adoption  appeared first on Blockchain, Crypto and Stock News. ... [| Skaityti daugiau](https://thecoinrise.com/binance-expanding-in-turkey-cz-meets-finance-minister-to-discuss-blockchain-adoption/) "
      ],
      "text/plain": [
       "<IPython.core.display.Markdown object>"
      ]
     },
     "execution_count": 3,
     "metadata": {},
     "output_type": "execute_result"
    }
   ],
   "source": [
    "#hide_input\n",
    "#md('##### {}'.format(titleBTC)) \n",
    "md(\"- {}{} {}{} [| Skaityti daugiau]({}) \".format(blockchain['title'],'. ', blockchain['body'], ' ...', blockchain['url']))"
   ]
  },
  {
   "cell_type": "code",
   "execution_count": 4,
   "id": "aging-caution",
   "metadata": {
    "execution": {
     "iopub.execute_input": "2022-07-29T03:26:19.122475Z",
     "iopub.status.busy": "2022-07-29T03:26:19.121807Z",
     "iopub.status.idle": "2022-07-29T03:26:19.124353Z",
     "shell.execute_reply": "2022-07-29T03:26:19.124821Z"
    },
    "papermill": {
     "duration": 0.016873,
     "end_time": "2022-07-29T03:26:19.124939",
     "exception": false,
     "start_time": "2022-07-29T03:26:19.108066",
     "status": "completed"
    },
    "tags": []
   },
   "outputs": [
    {
     "data": {
      "text/markdown": [
       "- TA: Bitcoin Price Gains Momentum, Why The Bulls Could Aim $25K.  Bitcoin started a fresh increase above the $23,000 resistance zone against the US Dollar. BTC might continue to rise towards the $25,000 resistance zone. Bitcoin started a fresh increase and climbed above the $23,000 resistance. The price is now trading above the $23,000 level and the 100 hourly simple moving average. There is a short-term contracting triangle forming with resistance near $24,000 on the hourly chart of the BTC/USD pair (data feed from Kraken). The pair must clear the $24,000 resistance to continue higher in the near term. Bitcoin Price Rises Steadily Bitcoin price remained well bid above the $22,000 support zone. It formed a base above the $22,500 level and started a fresh increase. The price was able to gain pace for a move above the $23,000 resistance zone. The bulls pumped the price above the $23,500 resistance. It even spiked above the $24,000 level and traded as high as $24,198. It is now trading above the $23,000 level and the 100 hourly simple moving average. There is also a short-term contracting triangle forming with resistance near $24,000 on the hourly chart of the BTC/USD pair. It is also trading well above the 23.6% Fib retracement level of the upward move from the $20,696 swing low to $24,198 high. Bitcoin price is facing resistance near the $24,000 level. Source: BTCUSD on TradingView.com The next key resistance is near the $24,200 zone. A close above the $24,200 resistance zone could set the pa... ... [| Skaityti daugiau](https://www.newsbtc.com/analysis/btc/bitcoin-price-gains-momentum-25k/) "
      ],
      "text/plain": [
       "<IPython.core.display.Markdown object>"
      ]
     },
     "execution_count": 4,
     "metadata": {},
     "output_type": "execute_result"
    }
   ],
   "source": [
    "#hide_input\n",
    "#md('##### {}'.format(titleBTC)) \n",
    "md(\"- {}{} {}{} [| Skaityti daugiau]({}) \".format(btc['title'],'. ', btc['body'], ' ...', btc['url']))"
   ]
  },
  {
   "cell_type": "code",
   "execution_count": 5,
   "id": "organic-actress",
   "metadata": {
    "execution": {
     "iopub.execute_input": "2022-07-29T03:26:19.148986Z",
     "iopub.status.busy": "2022-07-29T03:26:19.148335Z",
     "iopub.status.idle": "2022-07-29T03:26:19.151702Z",
     "shell.execute_reply": "2022-07-29T03:26:19.151035Z"
    },
    "papermill": {
     "duration": 0.01727,
     "end_time": "2022-07-29T03:26:19.151817",
     "exception": false,
     "start_time": "2022-07-29T03:26:19.134547",
     "status": "completed"
    },
    "tags": []
   },
   "outputs": [
    {
     "data": {
      "text/markdown": [
       "- Ripple Scores Yet Another Win As Court Deals Blow To SEC’s Bid To Remove 67,000 XRP Holders From Suit.  A U.S. judge has quashed the Securities and Exchange Commission’s (SEC) request to block XRP holders from aiding in Ripple's defence... ... [| Skaityti daugiau](https://zycrypto.com/ripple-scores-yet-another-win-as-court-deals-blow-to-secs-bid-to-remove-67000-xrp-holders-from-suit/) "
      ],
      "text/plain": [
       "<IPython.core.display.Markdown object>"
      ]
     },
     "execution_count": 5,
     "metadata": {},
     "output_type": "execute_result"
    }
   ],
   "source": [
    "#hide_input\n",
    "#md('##### {}'.format(titleBTC)) \n",
    "md(\"- {}{} {}{} [| Skaityti daugiau]({}) \".format(xrp['title'],'. ', xrp['body'], ' ...', xrp['url']))"
   ]
  },
  {
   "cell_type": "code",
   "execution_count": 6,
   "id": "prompt-farmer",
   "metadata": {
    "execution": {
     "iopub.execute_input": "2022-07-29T03:26:19.176698Z",
     "iopub.status.busy": "2022-07-29T03:26:19.176130Z",
     "iopub.status.idle": "2022-07-29T03:26:19.179764Z",
     "shell.execute_reply": "2022-07-29T03:26:19.179292Z"
    },
    "papermill": {
     "duration": 0.017728,
     "end_time": "2022-07-29T03:26:19.179863",
     "exception": false,
     "start_time": "2022-07-29T03:26:19.162135",
     "status": "completed"
    },
    "tags": []
   },
   "outputs": [
    {
     "data": {
      "text/markdown": [
       "- Tron (TRX) Extends Gains As Prices Break Away From Support Point.  While the rest of the crypto market is in a state of frenzy, Tron (TRX) price dominance is on for the second day in a row as its price swerves away from the support line. Tron has had a swift recovery so far. TRX/USD swished to a 3% jump and intraday high of $0.06631 today in contrast to yesterday’s low that registered at $0.06383. The rebound was seen after TRX has been moving in the red zone for several days now. The cross signals seen in the daily chart usually hint a downtrend but it somehow triggered a bull run. Related Reading &#124; Tezos (XTZ) Price Movement Indicates Looming Price Drop TRON RSI To Cross 49.85 Resistance Line This will be tested soon as the RSI is seen to cross the 49.85 resistance level. The current price of the TRX/USD pair is at $0.064 and has declined by 2.15% in the past 24 hours. In addition, trading volumes have reduced by 1.89 as seen overnight. TRX bears are seen to ascend in the coming days. A few days ago, technical indicators all show a bearish perspective for Tron which has to retrieve the resistance level at $0.07 to gain back the confidence of investors and step on the gas for a bull run. But, it seems the odds aren’t in favor of a bullish standpoint considering that the bears have already been collared in the market. Once the support level is hauled back to $0.06, then it’s the break the bulls needed to reclaim the market. Crypto total market cap at $1.02 trillion on the daily chart &#1... ... [| Skaityti daugiau](https://www.newsbtc.com/news/tron-trx-extends-gains/) "
      ],
      "text/plain": [
       "<IPython.core.display.Markdown object>"
      ]
     },
     "execution_count": 6,
     "metadata": {},
     "output_type": "execute_result"
    }
   ],
   "source": [
    "#hide_input\n",
    "#md('##### {}'.format(titleBTC)) \n",
    "md(\"- {}{} {}{} [| Skaityti daugiau]({}) \".format(trx['title'],'. ', trx['body'], ' ...', trx['url']))"
   ]
  },
  {
   "cell_type": "code",
   "execution_count": 7,
   "id": "illegal-greece",
   "metadata": {
    "execution": {
     "iopub.execute_input": "2022-07-29T03:26:19.206082Z",
     "iopub.status.busy": "2022-07-29T03:26:19.205512Z",
     "iopub.status.idle": "2022-07-29T03:26:19.208833Z",
     "shell.execute_reply": "2022-07-29T03:26:19.208279Z"
    },
    "papermill": {
     "duration": 0.018718,
     "end_time": "2022-07-29T03:26:19.208935",
     "exception": false,
     "start_time": "2022-07-29T03:26:19.190217",
     "status": "completed"
    },
    "tags": []
   },
   "outputs": [
    {
     "data": {
      "text/markdown": [
       "- $ETH-Based Investment Products Leading Bounce-Back in July, Says CryptoCompare Research.  After a months-long drawdown for most top cryptocurrencies marked by large losses and high-profile contagion events, in the month of July digital assets investment products longing crypto recorded gains. The 21Shares short Bitcoin ETP was the only one reporting losses. That’s according to CryptoCompare’s July 2022 Digital Asset Management Review, which details that in July […] ... [| Skaityti daugiau](https://www.cryptoglobe.com/latest/2022/07/eth-based-investment-products-leading-bounce-back-in-july-says-cryptocompare-research/) "
      ],
      "text/plain": [
       "<IPython.core.display.Markdown object>"
      ]
     },
     "execution_count": 7,
     "metadata": {},
     "output_type": "execute_result"
    }
   ],
   "source": [
    "#hide_input\n",
    "#md('##### {}'.format(titleBTC)) \n",
    "md(\"- {}{} {}{} [| Skaityti daugiau]({}) \".format(eth['title'],'. ', eth['body'], ' ...', eth['url']))"
   ]
  },
  {
   "cell_type": "code",
   "execution_count": 8,
   "id": "sublime-lounge",
   "metadata": {
    "execution": {
     "iopub.execute_input": "2022-07-29T03:26:19.236049Z",
     "iopub.status.busy": "2022-07-29T03:26:19.235463Z",
     "iopub.status.idle": "2022-07-29T03:26:19.238296Z",
     "shell.execute_reply": "2022-07-29T03:26:19.238737Z"
    },
    "papermill": {
     "duration": 0.018129,
     "end_time": "2022-07-29T03:26:19.238848",
     "exception": false,
     "start_time": "2022-07-29T03:26:19.220719",
     "status": "completed"
    },
    "tags": []
   },
   "outputs": [
    {
     "data": {
      "text/markdown": [
       "- $ADA: Why Cardano Is ‘Uniquely Positioned to Withstand a Climate Emergency’.  This year’s global heat wave has prompted the United States to consider declaring a climate emergency. For investors an eco-friendly cryptocurrency may be a safe option within the space if such an emergency is declared, The Motley Fool reports. According to the news outlet, Cardano may be the best possible solution out there, as it’s […] ... [| Skaityti daugiau](https://www.cryptoglobe.com/latest/2022/07/ada-why-cardano-is-uniquely-positioned-to-withstand-a-climate-emergency/) "
      ],
      "text/plain": [
       "<IPython.core.display.Markdown object>"
      ]
     },
     "execution_count": 8,
     "metadata": {},
     "output_type": "execute_result"
    }
   ],
   "source": [
    "#hide_input\n",
    "#md('##### {}'.format(titleBTC)) \n",
    "md(\"- {}{} {}{} [| Skaityti daugiau]({}) \".format(ada['title'],'. ', ada['body'], ' ...', ada['url']))"
   ]
  },
  {
   "cell_type": "code",
   "execution_count": 9,
   "id": "specified-ordering",
   "metadata": {
    "execution": {
     "iopub.execute_input": "2022-07-29T03:26:19.265491Z",
     "iopub.status.busy": "2022-07-29T03:26:19.264792Z",
     "iopub.status.idle": "2022-07-29T03:26:19.267669Z",
     "shell.execute_reply": "2022-07-29T03:26:19.268212Z"
    },
    "papermill": {
     "duration": 0.018626,
     "end_time": "2022-07-29T03:26:19.268321",
     "exception": false,
     "start_time": "2022-07-29T03:26:19.249695",
     "status": "completed"
    },
    "tags": []
   },
   "outputs": [
    {
     "data": {
      "text/markdown": [
       "- Binance expanding in Turkey, CZ meets Finance Minister to discuss blockchain adoption.  It has been evident from the past few months that Turkey is taking the crypto industry seriously. According to the latest development, Turkish finance minister Dr. Nureddin Nebati virtually met Binance founder and CEO Changpeng Zhao to discuss cryptocurrencies and the blockchain ecosystem. 🇹🇷 https://t.co/NKqMKY05Ii &#8212; CZ 🔶 Binance (@cz_binance) July 27, 2022 During Wednesday&#8217;s [&#8230;]The post Binance expanding in Turkey, CZ meets Finance Minister to discuss blockchain adoption  appeared first on Blockchain, Crypto and Stock News. ... [| Skaityti daugiau](https://thecoinrise.com/binance-expanding-in-turkey-cz-meets-finance-minister-to-discuss-blockchain-adoption/) "
      ],
      "text/plain": [
       "<IPython.core.display.Markdown object>"
      ]
     },
     "execution_count": 9,
     "metadata": {},
     "output_type": "execute_result"
    }
   ],
   "source": [
    "#hide_input\n",
    "#md('##### {}'.format(titleBTC)) \n",
    "md(\"- {}{} {}{} [| Skaityti daugiau]({}) \".format(exchange['title'],'. ', exchange['body'], ' ...', exchange['url']))"
   ]
  },
  {
   "cell_type": "code",
   "execution_count": null,
   "id": "tender-livestock",
   "metadata": {
    "papermill": {
     "duration": 0.01116,
     "end_time": "2022-07-29T03:26:19.290654",
     "exception": false,
     "start_time": "2022-07-29T03:26:19.279494",
     "status": "completed"
    },
    "tags": []
   },
   "outputs": [],
   "source": []
  },
  {
   "cell_type": "code",
   "execution_count": null,
   "id": "appreciated-diamond",
   "metadata": {
    "papermill": {
     "duration": 0.011172,
     "end_time": "2022-07-29T03:26:19.313158",
     "exception": false,
     "start_time": "2022-07-29T03:26:19.301986",
     "status": "completed"
    },
    "tags": []
   },
   "outputs": [],
   "source": []
  },
  {
   "cell_type": "code",
   "execution_count": null,
   "id": "romance-sweden",
   "metadata": {
    "papermill": {
     "duration": 0.011171,
     "end_time": "2022-07-29T03:26:19.335523",
     "exception": false,
     "start_time": "2022-07-29T03:26:19.324352",
     "status": "completed"
    },
    "tags": []
   },
   "outputs": [],
   "source": []
  },
  {
   "cell_type": "code",
   "execution_count": null,
   "id": "dietary-statistics",
   "metadata": {
    "papermill": {
     "duration": 0.011127,
     "end_time": "2022-07-29T03:26:19.357862",
     "exception": false,
     "start_time": "2022-07-29T03:26:19.346735",
     "status": "completed"
    },
    "tags": []
   },
   "outputs": [],
   "source": []
  }
 ],
 "metadata": {
  "kernelspec": {
   "display_name": "Python 3",
   "language": "python",
   "name": "python3"
  },
  "language_info": {
   "codemirror_mode": {
    "name": "ipython",
    "version": 3
   },
   "file_extension": ".py",
   "mimetype": "text/x-python",
   "name": "python",
   "nbconvert_exporter": "python",
   "pygments_lexer": "ipython3",
   "version": "3.6.15"
  },
  "papermill": {
   "default_parameters": {},
   "duration": 12.894675,
   "end_time": "2022-07-29T03:26:19.888650",
   "environment_variables": {},
   "exception": null,
   "input_path": "Market-News.ipynb",
   "output_path": "Market-News.ipynb",
   "parameters": {},
   "start_time": "2022-07-29T03:26:06.993975",
   "version": "2.2.2"
  }
 },
 "nbformat": 4,
 "nbformat_minor": 5
}