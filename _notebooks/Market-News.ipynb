{
 "cells": [
  {
   "cell_type": "markdown",
   "id": "short-greensboro",
   "metadata": {
    "papermill": {
     "duration": 0.013393,
     "end_time": "2022-02-14T01:57:43.689620",
     "exception": false,
     "start_time": "2022-02-14T01:57:43.676227",
     "status": "completed"
    },
    "tags": []
   },
   "source": [
    "# Kriptovaliutų naujienos"
   ]
  },
  {
   "cell_type": "code",
   "execution_count": 1,
   "id": "functioning-knowing",
   "metadata": {
    "execution": {
     "iopub.execute_input": "2022-02-14T01:57:43.724401Z",
     "iopub.status.busy": "2022-02-14T01:57:43.723814Z",
     "iopub.status.idle": "2022-02-14T01:57:45.137352Z",
     "shell.execute_reply": "2022-02-14T01:57:45.138255Z"
    },
    "papermill": {
     "duration": 1.43828,
     "end_time": "2022-02-14T01:57:45.138560",
     "exception": false,
     "start_time": "2022-02-14T01:57:43.700280",
     "status": "completed"
    },
    "tags": []
   },
   "outputs": [],
   "source": [
    "#hide_input\n",
    "import warnings\n",
    "warnings.filterwarnings('ignore')\n",
    "from scripts.read_data import read_api\n",
    "from scripts.read_data import read_news\n",
    "from scripts.read_data import read_covid\n",
    "import matplotlib.pyplot as plt \n",
    "from IPython.display import Markdown as md"
   ]
  },
  {
   "cell_type": "code",
   "execution_count": 2,
   "id": "shared-acceptance",
   "metadata": {
    "execution": {
     "iopub.execute_input": "2022-02-14T01:57:45.166738Z",
     "iopub.status.busy": "2022-02-14T01:57:45.165668Z",
     "iopub.status.idle": "2022-02-14T01:57:53.205066Z",
     "shell.execute_reply": "2022-02-14T01:57:53.203825Z"
    },
    "papermill": {
     "duration": 8.055837,
     "end_time": "2022-02-14T01:57:53.205217",
     "exception": false,
     "start_time": "2022-02-14T01:57:45.149380",
     "status": "completed"
    },
    "tags": []
   },
   "outputs": [],
   "source": [
    "#hide_input\n",
    "blockchain = read_news('blockchain') \n",
    "btc = read_news('btc') \n",
    "xrp = read_news('xrp') \n",
    "trx = read_news('trx') \n",
    "eth = read_news('eth')  \n",
    "ada = read_news('ada')\n",
    "exchange = read_news('exchange') "
   ]
  },
  {
   "cell_type": "code",
   "execution_count": 3,
   "id": "synthetic-notion",
   "metadata": {
    "execution": {
     "iopub.execute_input": "2022-02-14T01:57:53.234952Z",
     "iopub.status.busy": "2022-02-14T01:57:53.234341Z",
     "iopub.status.idle": "2022-02-14T01:57:53.238623Z",
     "shell.execute_reply": "2022-02-14T01:57:53.239056Z"
    },
    "papermill": {
     "duration": 0.023236,
     "end_time": "2022-02-14T01:57:53.239194",
     "exception": false,
     "start_time": "2022-02-14T01:57:53.215958",
     "status": "completed"
    },
    "tags": []
   },
   "outputs": [
    {
     "data": {
      "text/markdown": [
       "- Ethereum Fees Have Not Been This Cheap Since October of 2021.  The average transaction fee on the Ethereum blockchain has hit $15.31 and the median tx fee hit $6.67. The lowest price since September of 2021. ... [| Skaityti daugiau](https://cryptopotato.com/ethereum-fees-have-not-been-this-cheap-since-october-of-2021/) "
      ],
      "text/plain": [
       "<IPython.core.display.Markdown object>"
      ]
     },
     "execution_count": 3,
     "metadata": {},
     "output_type": "execute_result"
    }
   ],
   "source": [
    "#hide_input\n",
    "#md('##### {}'.format(titleBTC)) \n",
    "md(\"- {}{} {}{} [| Skaityti daugiau]({}) \".format(blockchain['title'],'. ', blockchain['body'], ' ...', blockchain['url']))"
   ]
  },
  {
   "cell_type": "code",
   "execution_count": 4,
   "id": "aging-caution",
   "metadata": {
    "execution": {
     "iopub.execute_input": "2022-02-14T01:57:53.265565Z",
     "iopub.status.busy": "2022-02-14T01:57:53.263553Z",
     "iopub.status.idle": "2022-02-14T01:57:53.267930Z",
     "shell.execute_reply": "2022-02-14T01:57:53.268405Z"
    },
    "papermill": {
     "duration": 0.01903,
     "end_time": "2022-02-14T01:57:53.268541",
     "exception": false,
     "start_time": "2022-02-14T01:57:53.249511",
     "status": "completed"
    },
    "tags": []
   },
   "outputs": [
    {
     "data": {
      "text/markdown": [
       "- Coinbase 'Free Bitcoin' Super Bowl Ad Causes Site to Briefly Crash.  Coinbase's bold QR-code focused ad that led to a free Bitcoin promotion also came with a technical glitch. ... [| Skaityti daugiau](https://decrypt.co/92856/coinbase-super-bowl) "
      ],
      "text/plain": [
       "<IPython.core.display.Markdown object>"
      ]
     },
     "execution_count": 4,
     "metadata": {},
     "output_type": "execute_result"
    }
   ],
   "source": [
    "#hide_input\n",
    "#md('##### {}'.format(titleBTC)) \n",
    "md(\"- {}{} {}{} [| Skaityti daugiau]({}) \".format(btc['title'],'. ', btc['body'], ' ...', btc['url']))"
   ]
  },
  {
   "cell_type": "code",
   "execution_count": 5,
   "id": "organic-actress",
   "metadata": {
    "execution": {
     "iopub.execute_input": "2022-02-14T01:57:53.295824Z",
     "iopub.status.busy": "2022-02-14T01:57:53.295246Z",
     "iopub.status.idle": "2022-02-14T01:57:53.298098Z",
     "shell.execute_reply": "2022-02-14T01:57:53.298574Z"
    },
    "papermill": {
     "duration": 0.019428,
     "end_time": "2022-02-14T01:57:53.298703",
     "exception": false,
     "start_time": "2022-02-14T01:57:53.279275",
     "status": "completed"
    },
    "tags": []
   },
   "outputs": [
    {
     "data": {
      "text/markdown": [
       "- This is when the XRP will reach crucial $1 mark.  XRP steeply reversed in a down-channel (white) on its daily chart after poking its nine-month resistance at the $1.3-mark. With this fall, it fell below its EMA ribbons while flipping the 200 EMA (cyan) from its support to immediate resistance. A convincing close above the $0.87-resistance and the 200 EMA would confirm a reversal of [&#8230;] ... [| Skaityti daugiau](https://ambcrypto.com/this-is-when-the-xrp-will-reach-the-crucial-1-mark/) "
      ],
      "text/plain": [
       "<IPython.core.display.Markdown object>"
      ]
     },
     "execution_count": 5,
     "metadata": {},
     "output_type": "execute_result"
    }
   ],
   "source": [
    "#hide_input\n",
    "#md('##### {}'.format(titleBTC)) \n",
    "md(\"- {}{} {}{} [| Skaityti daugiau]({}) \".format(xrp['title'],'. ', xrp['body'], ' ...', xrp['url']))"
   ]
  },
  {
   "cell_type": "code",
   "execution_count": 6,
   "id": "prompt-farmer",
   "metadata": {
    "execution": {
     "iopub.execute_input": "2022-02-14T01:57:53.325294Z",
     "iopub.status.busy": "2022-02-14T01:57:53.323842Z",
     "iopub.status.idle": "2022-02-14T01:57:53.329369Z",
     "shell.execute_reply": "2022-02-14T01:57:53.328875Z"
    },
    "papermill": {
     "duration": 0.020465,
     "end_time": "2022-02-14T01:57:53.329483",
     "exception": false,
     "start_time": "2022-02-14T01:57:53.309018",
     "status": "completed"
    },
    "tags": []
   },
   "outputs": [
    {
     "data": {
      "text/markdown": [
       "- XRP, Tron, Chiliz Price Analysis: 10 February.  With the global crypto market cap re-entering above the $2T-zone, the gap between XRP&#8217;s EMA ribbons widened. Thus, entailing a heightened bullish vigor. But its near-term technicals gave mixed signs. Besides, Tron and Chiliz saw reversal patterns on their 4-hour charts while forming a bearish divergence with their RSIs. XRP Since losing the $0.083-mark on [&#8230;] ... [| Skaityti daugiau](https://ambcrypto.com/xrp-tron-chiliz-price-analysis-10-february/) "
      ],
      "text/plain": [
       "<IPython.core.display.Markdown object>"
      ]
     },
     "execution_count": 6,
     "metadata": {},
     "output_type": "execute_result"
    }
   ],
   "source": [
    "#hide_input\n",
    "#md('##### {}'.format(titleBTC)) \n",
    "md(\"- {}{} {}{} [| Skaityti daugiau]({}) \".format(trx['title'],'. ', trx['body'], ' ...', trx['url']))"
   ]
  },
  {
   "cell_type": "code",
   "execution_count": 7,
   "id": "illegal-greece",
   "metadata": {
    "execution": {
     "iopub.execute_input": "2022-02-14T01:57:53.358764Z",
     "iopub.status.busy": "2022-02-14T01:57:53.358163Z",
     "iopub.status.idle": "2022-02-14T01:57:53.360905Z",
     "shell.execute_reply": "2022-02-14T01:57:53.361285Z"
    },
    "papermill": {
     "duration": 0.020602,
     "end_time": "2022-02-14T01:57:53.361414",
     "exception": false,
     "start_time": "2022-02-14T01:57:53.340812",
     "status": "completed"
    },
    "tags": []
   },
   "outputs": [
    {
     "data": {
      "text/markdown": [
       "- Ethereum Fees Have Not Been This Cheap Since October of 2021.  The average transaction fee on the Ethereum blockchain has hit $15.31 and the median tx fee hit $6.67. The lowest price since September of 2021. ... [| Skaityti daugiau](https://cryptopotato.com/ethereum-fees-have-not-been-this-cheap-since-october-of-2021/) "
      ],
      "text/plain": [
       "<IPython.core.display.Markdown object>"
      ]
     },
     "execution_count": 7,
     "metadata": {},
     "output_type": "execute_result"
    }
   ],
   "source": [
    "#hide_input\n",
    "#md('##### {}'.format(titleBTC)) \n",
    "md(\"- {}{} {}{} [| Skaityti daugiau]({}) \".format(eth['title'],'. ', eth['body'], ' ...', eth['url']))"
   ]
  },
  {
   "cell_type": "code",
   "execution_count": 8,
   "id": "sublime-lounge",
   "metadata": {
    "execution": {
     "iopub.execute_input": "2022-02-14T01:57:53.389390Z",
     "iopub.status.busy": "2022-02-14T01:57:53.388816Z",
     "iopub.status.idle": "2022-02-14T01:57:53.394315Z",
     "shell.execute_reply": "2022-02-14T01:57:53.393774Z"
    },
    "papermill": {
     "duration": 0.022359,
     "end_time": "2022-02-14T01:57:53.394437",
     "exception": false,
     "start_time": "2022-02-14T01:57:53.372078",
     "status": "completed"
    },
    "tags": []
   },
   "outputs": [
    {
     "data": {
      "text/markdown": [
       "- “I Expect $ADA Holders To Be Disappointed”, Crypto Researcher Chris Burniske Calls Cardano “Vaporware”.  Key Takeaways Chris Burniske has called Cardano a vaporware. He argues that Cardano has failed to deliver on its promises. Cardano proponents have argued otherwise. Critics of Cardano continue to argue it does not have any substantial use case to show for its market valuation. A popular crypto researcher has called the largest proof-of-stake blockchain [&#8230;] ... [| Skaityti daugiau](https://zycrypto.com/i-expect-ada-holders-to-be-disappointed-crypto-researcher-chris-burniske-calls-cardano-vaporware/) "
      ],
      "text/plain": [
       "<IPython.core.display.Markdown object>"
      ]
     },
     "execution_count": 8,
     "metadata": {},
     "output_type": "execute_result"
    }
   ],
   "source": [
    "#hide_input\n",
    "#md('##### {}'.format(titleBTC)) \n",
    "md(\"- {}{} {}{} [| Skaityti daugiau]({}) \".format(ada['title'],'. ', ada['body'], ' ...', ada['url']))"
   ]
  },
  {
   "cell_type": "code",
   "execution_count": 9,
   "id": "specified-ordering",
   "metadata": {
    "execution": {
     "iopub.execute_input": "2022-02-14T01:57:53.421606Z",
     "iopub.status.busy": "2022-02-14T01:57:53.421065Z",
     "iopub.status.idle": "2022-02-14T01:57:53.424194Z",
     "shell.execute_reply": "2022-02-14T01:57:53.424617Z"
    },
    "papermill": {
     "duration": 0.01904,
     "end_time": "2022-02-14T01:57:53.424744",
     "exception": false,
     "start_time": "2022-02-14T01:57:53.405704",
     "status": "completed"
    },
    "tags": []
   },
   "outputs": [
    {
     "data": {
      "text/markdown": [
       "- SEC Slaps BlockFi With $100 Million Fine – Is That Too Much?.  BlockFi may be forced to dig deep into its coffers and pay fines of up to $100 million. According to credible grapevines, the U.S. Securities and Exchange Commission is looking to slap the crypto lending platform $50 million for providing unregistered securities. Details have now emerged that an additional $50 million will be paid to five states [&#8230;] ... [| Skaityti daugiau](https://bitcoinist.com/sec-blockfi-100-million-fine/) "
      ],
      "text/plain": [
       "<IPython.core.display.Markdown object>"
      ]
     },
     "execution_count": 9,
     "metadata": {},
     "output_type": "execute_result"
    }
   ],
   "source": [
    "#hide_input\n",
    "#md('##### {}'.format(titleBTC)) \n",
    "md(\"- {}{} {}{} [| Skaityti daugiau]({}) \".format(exchange['title'],'. ', exchange['body'], ' ...', exchange['url']))"
   ]
  },
  {
   "cell_type": "code",
   "execution_count": null,
   "id": "tender-livestock",
   "metadata": {
    "papermill": {
     "duration": 0.012226,
     "end_time": "2022-02-14T01:57:53.448685",
     "exception": false,
     "start_time": "2022-02-14T01:57:53.436459",
     "status": "completed"
    },
    "tags": []
   },
   "outputs": [],
   "source": []
  },
  {
   "cell_type": "code",
   "execution_count": null,
   "id": "appreciated-diamond",
   "metadata": {
    "papermill": {
     "duration": 0.011994,
     "end_time": "2022-02-14T01:57:53.472572",
     "exception": false,
     "start_time": "2022-02-14T01:57:53.460578",
     "status": "completed"
    },
    "tags": []
   },
   "outputs": [],
   "source": []
  },
  {
   "cell_type": "code",
   "execution_count": null,
   "id": "romance-sweden",
   "metadata": {
    "papermill": {
     "duration": 0.012077,
     "end_time": "2022-02-14T01:57:53.497666",
     "exception": false,
     "start_time": "2022-02-14T01:57:53.485589",
     "status": "completed"
    },
    "tags": []
   },
   "outputs": [],
   "source": []
  },
  {
   "cell_type": "code",
   "execution_count": null,
   "id": "dietary-statistics",
   "metadata": {
    "papermill": {
     "duration": 0.011715,
     "end_time": "2022-02-14T01:57:53.521554",
     "exception": false,
     "start_time": "2022-02-14T01:57:53.509839",
     "status": "completed"
    },
    "tags": []
   },
   "outputs": [],
   "source": []
  }
 ],
 "metadata": {
  "kernelspec": {
   "display_name": "Python 3",
   "language": "python",
   "name": "python3"
  },
  "language_info": {
   "codemirror_mode": {
    "name": "ipython",
    "version": 3
   },
   "file_extension": ".py",
   "mimetype": "text/x-python",
   "name": "python",
   "nbconvert_exporter": "python",
   "pygments_lexer": "ipython3",
   "version": "3.6.15"
  },
  "papermill": {
   "default_parameters": {},
   "duration": 11.663289,
   "end_time": "2022-02-14T01:57:54.053384",
   "environment_variables": {},
   "exception": null,
   "input_path": "Market-News.ipynb",
   "output_path": "Market-News.ipynb",
   "parameters": {},
   "start_time": "2022-02-14T01:57:42.390095",
   "version": "2.2.2"
  }
 },
 "nbformat": 4,
 "nbformat_minor": 5
}