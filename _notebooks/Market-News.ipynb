{
 "cells": [
  {
   "cell_type": "markdown",
   "id": "short-greensboro",
   "metadata": {
    "papermill": {
     "duration": 0.012197,
     "end_time": "2022-03-28T02:41:24.640860",
     "exception": false,
     "start_time": "2022-03-28T02:41:24.628663",
     "status": "completed"
    },
    "tags": []
   },
   "source": [
    "# Kriptovaliutų naujienos"
   ]
  },
  {
   "cell_type": "code",
   "execution_count": 1,
   "id": "functioning-knowing",
   "metadata": {
    "execution": {
     "iopub.execute_input": "2022-03-28T02:41:24.667653Z",
     "iopub.status.busy": "2022-03-28T02:41:24.667144Z",
     "iopub.status.idle": "2022-03-28T02:41:25.911985Z",
     "shell.execute_reply": "2022-03-28T02:41:25.911395Z"
    },
    "papermill": {
     "duration": 1.26285,
     "end_time": "2022-03-28T02:41:25.912151",
     "exception": false,
     "start_time": "2022-03-28T02:41:24.649301",
     "status": "completed"
    },
    "tags": []
   },
   "outputs": [],
   "source": [
    "#hide_input\n",
    "import warnings\n",
    "warnings.filterwarnings('ignore')\n",
    "from scripts.read_data import read_api\n",
    "from scripts.read_data import read_news\n",
    "from scripts.read_data import read_covid\n",
    "import matplotlib.pyplot as plt \n",
    "from IPython.display import Markdown as md"
   ]
  },
  {
   "cell_type": "code",
   "execution_count": 2,
   "id": "shared-acceptance",
   "metadata": {
    "execution": {
     "iopub.execute_input": "2022-03-28T02:41:25.934189Z",
     "iopub.status.busy": "2022-03-28T02:41:25.933730Z",
     "iopub.status.idle": "2022-03-28T02:41:36.219868Z",
     "shell.execute_reply": "2022-03-28T02:41:36.220625Z"
    },
    "papermill": {
     "duration": 10.300381,
     "end_time": "2022-03-28T02:41:36.220764",
     "exception": false,
     "start_time": "2022-03-28T02:41:25.920383",
     "status": "completed"
    },
    "tags": []
   },
   "outputs": [],
   "source": [
    "#hide_input\n",
    "blockchain = read_news('blockchain') \n",
    "btc = read_news('btc') \n",
    "xrp = read_news('xrp') \n",
    "trx = read_news('trx') \n",
    "eth = read_news('eth')  \n",
    "ada = read_news('ada')\n",
    "exchange = read_news('exchange') "
   ]
  },
  {
   "cell_type": "code",
   "execution_count": 3,
   "id": "synthetic-notion",
   "metadata": {
    "execution": {
     "iopub.execute_input": "2022-03-28T02:41:36.243089Z",
     "iopub.status.busy": "2022-03-28T02:41:36.242599Z",
     "iopub.status.idle": "2022-03-28T02:41:36.244775Z",
     "shell.execute_reply": "2022-03-28T02:41:36.245125Z"
    },
    "papermill": {
     "duration": 0.015486,
     "end_time": "2022-03-28T02:41:36.245242",
     "exception": false,
     "start_time": "2022-03-28T02:41:36.229756",
     "status": "completed"
    },
    "tags": []
   },
   "outputs": [
    {
     "data": {
      "text/markdown": [
       "- How to Buy Terra Luna: Beginners’ Basics.  LUNA, the native token of the Terra blockchain, has been outperforming other smart contracts blockchain tokens by a wide margin. According to data revealed by Messari, LUNA has been up by [&#8230;] ... [| Skaityti daugiau](https://www.cryptopolitan.com/how-to-buy-terra-luna/) "
      ],
      "text/plain": [
       "<IPython.core.display.Markdown object>"
      ]
     },
     "execution_count": 3,
     "metadata": {},
     "output_type": "execute_result"
    }
   ],
   "source": [
    "#hide_input\n",
    "#md('##### {}'.format(titleBTC)) \n",
    "md(\"- {}{} {}{} [| Skaityti daugiau]({}) \".format(blockchain['title'],'. ', blockchain['body'], ' ...', blockchain['url']))"
   ]
  },
  {
   "cell_type": "code",
   "execution_count": 4,
   "id": "aging-caution",
   "metadata": {
    "execution": {
     "iopub.execute_input": "2022-03-28T02:41:36.265373Z",
     "iopub.status.busy": "2022-03-28T02:41:36.264923Z",
     "iopub.status.idle": "2022-03-28T02:41:36.267281Z",
     "shell.execute_reply": "2022-03-28T02:41:36.267729Z"
    },
    "papermill": {
     "duration": 0.01449,
     "end_time": "2022-03-28T02:41:36.267832",
     "exception": false,
     "start_time": "2022-03-28T02:41:36.253342",
     "status": "completed"
    },
    "tags": []
   },
   "outputs": [
    {
     "data": {
      "text/markdown": [
       "- Bitcoin, Binance Coin, Cardano, and Avalanche Daily Price Analyses – 27 March Roundup.  TL;DR Breakdown The global crypto market continues its bullish march, adding 4.35% in 24 hours. Bitcoin continues bullish, adding 5.04% over the last 24 hours. Binance Coin is also in [&#8230;] ... [| Skaityti daugiau](https://www.cryptopolitan.com/bitcoin-binance-coin-cardano-and-avalanche-daily-price-analyses-27-march-roundup/) "
      ],
      "text/plain": [
       "<IPython.core.display.Markdown object>"
      ]
     },
     "execution_count": 4,
     "metadata": {},
     "output_type": "execute_result"
    }
   ],
   "source": [
    "#hide_input\n",
    "#md('##### {}'.format(titleBTC)) \n",
    "md(\"- {}{} {}{} [| Skaityti daugiau]({}) \".format(btc['title'],'. ', btc['body'], ' ...', btc['url']))"
   ]
  },
  {
   "cell_type": "code",
   "execution_count": 5,
   "id": "organic-actress",
   "metadata": {
    "execution": {
     "iopub.execute_input": "2022-03-28T02:41:36.288275Z",
     "iopub.status.busy": "2022-03-28T02:41:36.287818Z",
     "iopub.status.idle": "2022-03-28T02:41:36.290668Z",
     "shell.execute_reply": "2022-03-28T02:41:36.290286Z"
    },
    "papermill": {
     "duration": 0.014584,
     "end_time": "2022-03-28T02:41:36.290758",
     "exception": false,
     "start_time": "2022-03-28T02:41:36.276174",
     "status": "completed"
    },
    "tags": []
   },
   "outputs": [
    {
     "data": {
      "text/markdown": [
       "- Ripple price analysis: XRP retests $0.82, consolidation to follow?.  TL;DR Breakdown Ripple price analysis is bearish today. XRP/USD saw a lower high set at $0.85 on Thursday. $0.82 local support was retested yesterday. Ripple price analysis is bearish today [&#8230;] ... [| Skaityti daugiau](https://www.cryptopolitan.com/ripple-price-analysis-2022-03-26/) "
      ],
      "text/plain": [
       "<IPython.core.display.Markdown object>"
      ]
     },
     "execution_count": 5,
     "metadata": {},
     "output_type": "execute_result"
    }
   ],
   "source": [
    "#hide_input\n",
    "#md('##### {}'.format(titleBTC)) \n",
    "md(\"- {}{} {}{} [| Skaityti daugiau]({}) \".format(xrp['title'],'. ', xrp['body'], ' ...', xrp['url']))"
   ]
  },
  {
   "cell_type": "code",
   "execution_count": 6,
   "id": "prompt-farmer",
   "metadata": {
    "execution": {
     "iopub.execute_input": "2022-03-28T02:41:36.311821Z",
     "iopub.status.busy": "2022-03-28T02:41:36.311344Z",
     "iopub.status.idle": "2022-03-28T02:41:36.313842Z",
     "shell.execute_reply": "2022-03-28T02:41:36.314173Z"
    },
    "papermill": {
     "duration": 0.014919,
     "end_time": "2022-03-28T02:41:36.314272",
     "exception": false,
     "start_time": "2022-03-28T02:41:36.299353",
     "status": "completed"
    },
    "tags": []
   },
   "outputs": [
    {
     "data": {
      "text/markdown": [
       "- USDT circulation on TRON dwarfs Ethereum’s surpassing $40 billion.  The Tron (TRX) network has been measuring some impressive results in the past few months. One of them is the...  Continue reading  The post USDT circulation on TRON dwarfs Ethereum&#8217;s surpassing $40 billion appeared first on Finbold. ... [| Skaityti daugiau](https://finbold.com/usdt-circulation-on-tron-dwarfs-ethereums-surpassing-40-billion/) "
      ],
      "text/plain": [
       "<IPython.core.display.Markdown object>"
      ]
     },
     "execution_count": 6,
     "metadata": {},
     "output_type": "execute_result"
    }
   ],
   "source": [
    "#hide_input\n",
    "#md('##### {}'.format(titleBTC)) \n",
    "md(\"- {}{} {}{} [| Skaityti daugiau]({}) \".format(trx['title'],'. ', trx['body'], ' ...', trx['url']))"
   ]
  },
  {
   "cell_type": "code",
   "execution_count": 7,
   "id": "illegal-greece",
   "metadata": {
    "execution": {
     "iopub.execute_input": "2022-03-28T02:41:36.335919Z",
     "iopub.status.busy": "2022-03-28T02:41:36.335419Z",
     "iopub.status.idle": "2022-03-28T02:41:36.338216Z",
     "shell.execute_reply": "2022-03-28T02:41:36.337865Z"
    },
    "papermill": {
     "duration": 0.015042,
     "end_time": "2022-03-28T02:41:36.338300",
     "exception": false,
     "start_time": "2022-03-28T02:41:36.323258",
     "status": "completed"
    },
    "tags": []
   },
   "outputs": [
    {
     "data": {
      "text/markdown": [
       "- Top 3 Metaverse Crypto Coins Gaining The Most Price Today (VRA, ELMON, RACA).  Cryptocurrency markets continue to show bullish momentum, with Bitcoin and Ethereum holding support exceptionally well. In response, several Metaverse crypto coins are also seeing significant price gains, with some rising by over 100% in the past seven days. This article looks at the top three Metaverse crypto coins gaining the most price today, ordered by [&#8230;]The post Top 3 Metaverse Crypto Coins Gaining The Most Price Today (VRA, ELMON, RACA) appeared first on NullTX. ... [| Skaityti daugiau](https://nulltx.com/top-3-metaverse-crypto-coins-gaining-the-most-price-today-vra-elmon-raca/) "
      ],
      "text/plain": [
       "<IPython.core.display.Markdown object>"
      ]
     },
     "execution_count": 7,
     "metadata": {},
     "output_type": "execute_result"
    }
   ],
   "source": [
    "#hide_input\n",
    "#md('##### {}'.format(titleBTC)) \n",
    "md(\"- {}{} {}{} [| Skaityti daugiau]({}) \".format(eth['title'],'. ', eth['body'], ' ...', eth['url']))"
   ]
  },
  {
   "cell_type": "code",
   "execution_count": 8,
   "id": "sublime-lounge",
   "metadata": {
    "execution": {
     "iopub.execute_input": "2022-03-28T02:41:36.361145Z",
     "iopub.status.busy": "2022-03-28T02:41:36.360697Z",
     "iopub.status.idle": "2022-03-28T02:41:36.363638Z",
     "shell.execute_reply": "2022-03-28T02:41:36.363269Z"
    },
    "papermill": {
     "duration": 0.016014,
     "end_time": "2022-03-28T02:41:36.363726",
     "exception": false,
     "start_time": "2022-03-28T02:41:36.347712",
     "status": "completed"
    },
    "tags": []
   },
   "outputs": [
    {
     "data": {
      "text/markdown": [
       "- Bitcoin, Binance Coin, Cardano, and Avalanche Daily Price Analyses – 27 March Roundup.  TL;DR Breakdown The global crypto market continues its bullish march, adding 4.35% in 24 hours. Bitcoin continues bullish, adding 5.04% over the last 24 hours. Binance Coin is also in [&#8230;] ... [| Skaityti daugiau](https://www.cryptopolitan.com/bitcoin-binance-coin-cardano-and-avalanche-daily-price-analyses-27-march-roundup/) "
      ],
      "text/plain": [
       "<IPython.core.display.Markdown object>"
      ]
     },
     "execution_count": 8,
     "metadata": {},
     "output_type": "execute_result"
    }
   ],
   "source": [
    "#hide_input\n",
    "#md('##### {}'.format(titleBTC)) \n",
    "md(\"- {}{} {}{} [| Skaityti daugiau]({}) \".format(ada['title'],'. ', ada['body'], ' ...', ada['url']))"
   ]
  },
  {
   "cell_type": "code",
   "execution_count": 9,
   "id": "specified-ordering",
   "metadata": {
    "execution": {
     "iopub.execute_input": "2022-03-28T02:41:36.386663Z",
     "iopub.status.busy": "2022-03-28T02:41:36.386227Z",
     "iopub.status.idle": "2022-03-28T02:41:36.389010Z",
     "shell.execute_reply": "2022-03-28T02:41:36.388631Z"
    },
    "papermill": {
     "duration": 0.015783,
     "end_time": "2022-03-28T02:41:36.389096",
     "exception": false,
     "start_time": "2022-03-28T02:41:36.373313",
     "status": "completed"
    },
    "tags": []
   },
   "outputs": [
    {
     "data": {
      "text/markdown": [
       "- Bitcoin, Binance Coin, Cardano, and Avalanche Daily Price Analyses – 27 March Roundup.  TL;DR Breakdown The global crypto market continues its bullish march, adding 4.35% in 24 hours. Bitcoin continues bullish, adding 5.04% over the last 24 hours. Binance Coin is also in [&#8230;] ... [| Skaityti daugiau](https://www.cryptopolitan.com/bitcoin-binance-coin-cardano-and-avalanche-daily-price-analyses-27-march-roundup/) "
      ],
      "text/plain": [
       "<IPython.core.display.Markdown object>"
      ]
     },
     "execution_count": 9,
     "metadata": {},
     "output_type": "execute_result"
    }
   ],
   "source": [
    "#hide_input\n",
    "#md('##### {}'.format(titleBTC)) \n",
    "md(\"- {}{} {}{} [| Skaityti daugiau]({}) \".format(exchange['title'],'. ', exchange['body'], ' ...', exchange['url']))"
   ]
  },
  {
   "cell_type": "code",
   "execution_count": null,
   "id": "tender-livestock",
   "metadata": {
    "papermill": {
     "duration": 0.009757,
     "end_time": "2022-03-28T02:41:36.408602",
     "exception": false,
     "start_time": "2022-03-28T02:41:36.398845",
     "status": "completed"
    },
    "tags": []
   },
   "outputs": [],
   "source": []
  },
  {
   "cell_type": "code",
   "execution_count": null,
   "id": "appreciated-diamond",
   "metadata": {
    "papermill": {
     "duration": 0.0097,
     "end_time": "2022-03-28T02:41:36.428084",
     "exception": false,
     "start_time": "2022-03-28T02:41:36.418384",
     "status": "completed"
    },
    "tags": []
   },
   "outputs": [],
   "source": []
  },
  {
   "cell_type": "code",
   "execution_count": null,
   "id": "romance-sweden",
   "metadata": {
    "papermill": {
     "duration": 0.009813,
     "end_time": "2022-03-28T02:41:36.450367",
     "exception": false,
     "start_time": "2022-03-28T02:41:36.440554",
     "status": "completed"
    },
    "tags": []
   },
   "outputs": [],
   "source": []
  },
  {
   "cell_type": "code",
   "execution_count": null,
   "id": "dietary-statistics",
   "metadata": {
    "papermill": {
     "duration": 0.010043,
     "end_time": "2022-03-28T02:41:36.470274",
     "exception": false,
     "start_time": "2022-03-28T02:41:36.460231",
     "status": "completed"
    },
    "tags": []
   },
   "outputs": [],
   "source": []
  }
 ],
 "metadata": {
  "kernelspec": {
   "display_name": "Python 3",
   "language": "python",
   "name": "python3"
  },
  "language_info": {
   "codemirror_mode": {
    "name": "ipython",
    "version": 3
   },
   "file_extension": ".py",
   "mimetype": "text/x-python",
   "name": "python",
   "nbconvert_exporter": "python",
   "pygments_lexer": "ipython3",
   "version": "3.6.15"
  },
  "papermill": {
   "default_parameters": {},
   "duration": 13.164278,
   "end_time": "2022-03-28T02:41:36.897888",
   "environment_variables": {},
   "exception": null,
   "input_path": "Market-News.ipynb",
   "output_path": "Market-News.ipynb",
   "parameters": {},
   "start_time": "2022-03-28T02:41:23.733610",
   "version": "2.2.2"
  }
 },
 "nbformat": 4,
 "nbformat_minor": 5
}