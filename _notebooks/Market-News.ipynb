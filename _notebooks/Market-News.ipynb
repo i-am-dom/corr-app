{
 "cells": [
  {
   "cell_type": "markdown",
   "id": "short-greensboro",
   "metadata": {
    "papermill": {
     "duration": 0.015545,
     "end_time": "2022-04-11T02:50:44.759623",
     "exception": false,
     "start_time": "2022-04-11T02:50:44.744078",
     "status": "completed"
    },
    "tags": []
   },
   "source": [
    "# Kriptovaliutų naujienos"
   ]
  },
  {
   "cell_type": "code",
   "execution_count": 1,
   "id": "functioning-knowing",
   "metadata": {
    "execution": {
     "iopub.execute_input": "2022-04-11T02:50:44.793072Z",
     "iopub.status.busy": "2022-04-11T02:50:44.788805Z",
     "iopub.status.idle": "2022-04-11T02:50:46.209016Z",
     "shell.execute_reply": "2022-04-11T02:50:46.208059Z"
    },
    "papermill": {
     "duration": 1.438814,
     "end_time": "2022-04-11T02:50:46.209266",
     "exception": false,
     "start_time": "2022-04-11T02:50:44.770452",
     "status": "completed"
    },
    "tags": []
   },
   "outputs": [],
   "source": [
    "#hide_input\n",
    "import warnings\n",
    "warnings.filterwarnings('ignore')\n",
    "from scripts.read_data import read_api\n",
    "from scripts.read_data import read_news\n",
    "from scripts.read_data import read_covid\n",
    "import matplotlib.pyplot as plt \n",
    "from IPython.display import Markdown as md"
   ]
  },
  {
   "cell_type": "code",
   "execution_count": 2,
   "id": "shared-acceptance",
   "metadata": {
    "execution": {
     "iopub.execute_input": "2022-04-11T02:50:46.239060Z",
     "iopub.status.busy": "2022-04-11T02:50:46.238461Z",
     "iopub.status.idle": "2022-04-11T02:50:58.088010Z",
     "shell.execute_reply": "2022-04-11T02:50:58.087465Z"
    },
    "papermill": {
     "duration": 11.867847,
     "end_time": "2022-04-11T02:50:58.088158",
     "exception": false,
     "start_time": "2022-04-11T02:50:46.220311",
     "status": "completed"
    },
    "tags": []
   },
   "outputs": [],
   "source": [
    "#hide_input\n",
    "blockchain = read_news('blockchain') \n",
    "btc = read_news('btc') \n",
    "xrp = read_news('xrp') \n",
    "trx = read_news('trx') \n",
    "eth = read_news('eth')  \n",
    "ada = read_news('ada')\n",
    "exchange = read_news('exchange') "
   ]
  },
  {
   "cell_type": "code",
   "execution_count": 3,
   "id": "synthetic-notion",
   "metadata": {
    "execution": {
     "iopub.execute_input": "2022-04-11T02:50:58.117247Z",
     "iopub.status.busy": "2022-04-11T02:50:58.116610Z",
     "iopub.status.idle": "2022-04-11T02:50:58.119368Z",
     "shell.execute_reply": "2022-04-11T02:50:58.119881Z"
    },
    "papermill": {
     "duration": 0.020406,
     "end_time": "2022-04-11T02:50:58.120025",
     "exception": false,
     "start_time": "2022-04-11T02:50:58.099619",
     "status": "completed"
    },
    "tags": []
   },
   "outputs": [
    {
     "data": {
      "text/markdown": [
       "- Bitcoin close to losing $42K as support: Retest of $40K possible.  Bitcoin price analysis for April 11, 2022, comes on a bearish note for today as the token is closer to losing the $42K price region as support which might be hard for the BTC bulls. Furthermore, the chances of BTC breaking above the $47K in the coming days seem quite low which has been the [&#8230;]The post Bitcoin close to losing $42K as support: Retest of $40K possible appeared first on Blockchain, Crypto and Stock News. ... [| Skaityti daugiau](https://thecoinrise.com/bitcoin-close-to-losing-42k-as-support-retest-of-40k-possible/) "
      ],
      "text/plain": [
       "<IPython.core.display.Markdown object>"
      ]
     },
     "execution_count": 3,
     "metadata": {},
     "output_type": "execute_result"
    }
   ],
   "source": [
    "#hide_input\n",
    "#md('##### {}'.format(titleBTC)) \n",
    "md(\"- {}{} {}{} [| Skaityti daugiau]({}) \".format(blockchain['title'],'. ', blockchain['body'], ' ...', blockchain['url']))"
   ]
  },
  {
   "cell_type": "code",
   "execution_count": 4,
   "id": "aging-caution",
   "metadata": {
    "execution": {
     "iopub.execute_input": "2022-04-11T02:50:58.147566Z",
     "iopub.status.busy": "2022-04-11T02:50:58.146934Z",
     "iopub.status.idle": "2022-04-11T02:50:58.150200Z",
     "shell.execute_reply": "2022-04-11T02:50:58.149734Z"
    },
    "papermill": {
     "duration": 0.019669,
     "end_time": "2022-04-11T02:50:58.150314",
     "exception": false,
     "start_time": "2022-04-11T02:50:58.130645",
     "status": "completed"
    },
    "tags": []
   },
   "outputs": [
    {
     "data": {
      "text/markdown": [
       "- Bitcoin close to losing $42K as support: Retest of $40K possible.  Bitcoin price analysis for April 11, 2022, comes on a bearish note for today as the token is closer to losing the $42K price region as support which might be hard for the BTC bulls. Furthermore, the chances of BTC breaking above the $47K in the coming days seem quite low which has been the [&#8230;]The post Bitcoin close to losing $42K as support: Retest of $40K possible appeared first on Blockchain, Crypto and Stock News. ... [| Skaityti daugiau](https://thecoinrise.com/bitcoin-close-to-losing-42k-as-support-retest-of-40k-possible/) "
      ],
      "text/plain": [
       "<IPython.core.display.Markdown object>"
      ]
     },
     "execution_count": 4,
     "metadata": {},
     "output_type": "execute_result"
    }
   ],
   "source": [
    "#hide_input\n",
    "#md('##### {}'.format(titleBTC)) \n",
    "md(\"- {}{} {}{} [| Skaityti daugiau]({}) \".format(btc['title'],'. ', btc['body'], ' ...', btc['url']))"
   ]
  },
  {
   "cell_type": "code",
   "execution_count": 5,
   "id": "organic-actress",
   "metadata": {
    "execution": {
     "iopub.execute_input": "2022-04-11T02:50:58.180394Z",
     "iopub.status.busy": "2022-04-11T02:50:58.179799Z",
     "iopub.status.idle": "2022-04-11T02:50:58.185886Z",
     "shell.execute_reply": "2022-04-11T02:50:58.185391Z"
    },
    "papermill": {
     "duration": 0.023305,
     "end_time": "2022-04-11T02:50:58.185997",
     "exception": false,
     "start_time": "2022-04-11T02:50:58.162692",
     "status": "completed"
    },
    "tags": []
   },
   "outputs": [
    {
     "data": {
      "text/markdown": [
       "- Ripple price analysis: XRP still consolidates above $0.75, more downside incoming next week?.  TL;DR Breakdown Ripple price analysis is bearish today. XRP/USD continued sideways yesterday. $0.75 support is likely to be tested again. Ripple price analysis is bearish today as we have seen [&#8230;] ... [| Skaityti daugiau](https://www.cryptopolitan.com/ripple-price-analysis-2022-04-10/) "
      ],
      "text/plain": [
       "<IPython.core.display.Markdown object>"
      ]
     },
     "execution_count": 5,
     "metadata": {},
     "output_type": "execute_result"
    }
   ],
   "source": [
    "#hide_input\n",
    "#md('##### {}'.format(titleBTC)) \n",
    "md(\"- {}{} {}{} [| Skaityti daugiau]({}) \".format(xrp['title'],'. ', xrp['body'], ' ...', xrp['url']))"
   ]
  },
  {
   "cell_type": "code",
   "execution_count": 6,
   "id": "prompt-farmer",
   "metadata": {
    "execution": {
     "iopub.execute_input": "2022-04-11T02:50:58.213686Z",
     "iopub.status.busy": "2022-04-11T02:50:58.212915Z",
     "iopub.status.idle": "2022-04-11T02:50:58.217960Z",
     "shell.execute_reply": "2022-04-11T02:50:58.217437Z"
    },
    "papermill": {
     "duration": 0.02103,
     "end_time": "2022-04-11T02:50:58.218070",
     "exception": false,
     "start_time": "2022-04-11T02:50:58.197040",
     "status": "completed"
    },
    "tags": []
   },
   "outputs": [
    {
     "data": {
      "text/markdown": [
       "- GemTRX Adds New Tron Cloud Mining Features and Options.  GemTRX Links: Official Website: https://gem-trx.com/share?code=337867 Official Facebook Page: https://www.facebook.com/gemtrxofficial Official Twitter: https://twitter.com/Gem_TRX Telegram Channel: https://t.me/gemtrxchannel Whitepaper: https://tron.network/static/doc/white_paper_v_2_0.pdf Telegram customer service: https://t.me/gemtrxofficial https://t.me/gemtrxofficial2 Whatsapp customer service: +1(650)272-9738 GemTRX added a new cloud mining option called The Mining Cycle Model to celebrate their one million partners. Because of the enhanced capabilities, participants may now deposit TRX from [&#8230;]The post GemTRX Adds New Tron Cloud Mining Features and Options appeared first on NullTX. ... [| Skaityti daugiau](https://nulltx.com/gemtrx-adds-new-tron-cloud-mining-features-and-options/) "
      ],
      "text/plain": [
       "<IPython.core.display.Markdown object>"
      ]
     },
     "execution_count": 6,
     "metadata": {},
     "output_type": "execute_result"
    }
   ],
   "source": [
    "#hide_input\n",
    "#md('##### {}'.format(titleBTC)) \n",
    "md(\"- {}{} {}{} [| Skaityti daugiau]({}) \".format(trx['title'],'. ', trx['body'], ' ...', trx['url']))"
   ]
  },
  {
   "cell_type": "code",
   "execution_count": 7,
   "id": "illegal-greece",
   "metadata": {
    "execution": {
     "iopub.execute_input": "2022-04-11T02:50:58.246310Z",
     "iopub.status.busy": "2022-04-11T02:50:58.245731Z",
     "iopub.status.idle": "2022-04-11T02:50:58.249265Z",
     "shell.execute_reply": "2022-04-11T02:50:58.248764Z"
    },
    "papermill": {
     "duration": 0.019621,
     "end_time": "2022-04-11T02:50:58.249374",
     "exception": false,
     "start_time": "2022-04-11T02:50:58.229753",
     "status": "completed"
    },
    "tags": []
   },
   "outputs": [
    {
     "data": {
      "text/markdown": [
       "- Ethereum needs to do this to avoid an extended decline.  Over the last five days, Ethereum (ETH) fell toward its long-term Point of Control (POC) and found support near its 200 EMA in the $3,100 zone. Now, the king alt could face a slight setback before continuing its gradual rally. Any fall below the POC would be detrimental for the bulls while the sellers will [&#8230;] ... [| Skaityti daugiau](https://ambcrypto.com/ethereum-needs-to-do-this-to-avoid-an-extended-decline/) "
      ],
      "text/plain": [
       "<IPython.core.display.Markdown object>"
      ]
     },
     "execution_count": 7,
     "metadata": {},
     "output_type": "execute_result"
    }
   ],
   "source": [
    "#hide_input\n",
    "#md('##### {}'.format(titleBTC)) \n",
    "md(\"- {}{} {}{} [| Skaityti daugiau]({}) \".format(eth['title'],'. ', eth['body'], ' ...', eth['url']))"
   ]
  },
  {
   "cell_type": "code",
   "execution_count": 8,
   "id": "sublime-lounge",
   "metadata": {
    "execution": {
     "iopub.execute_input": "2022-04-11T02:50:58.278363Z",
     "iopub.status.busy": "2022-04-11T02:50:58.277786Z",
     "iopub.status.idle": "2022-04-11T02:50:58.280974Z",
     "shell.execute_reply": "2022-04-11T02:50:58.281421Z"
    },
    "papermill": {
     "duration": 0.020366,
     "end_time": "2022-04-11T02:50:58.281548",
     "exception": false,
     "start_time": "2022-04-11T02:50:58.261182",
     "status": "completed"
    },
    "tags": []
   },
   "outputs": [
    {
     "data": {
      "text/markdown": [
       "- Cardano price analysis: ADA targets $1.26 uptrend after closing dismal week at $1.06.  TL;DR Breakdown Cardano price analysis shows price rose more than 2 percent over last 24 hours ADA could move as high as $1.60 after a dismal week that took price [&#8230;] ... [| Skaityti daugiau](https://www.cryptopolitan.com/cardano-price-analysis-2022-04-10/) "
      ],
      "text/plain": [
       "<IPython.core.display.Markdown object>"
      ]
     },
     "execution_count": 8,
     "metadata": {},
     "output_type": "execute_result"
    }
   ],
   "source": [
    "#hide_input\n",
    "#md('##### {}'.format(titleBTC)) \n",
    "md(\"- {}{} {}{} [| Skaityti daugiau]({}) \".format(ada['title'],'. ', ada['body'], ' ...', ada['url']))"
   ]
  },
  {
   "cell_type": "code",
   "execution_count": 9,
   "id": "specified-ordering",
   "metadata": {
    "execution": {
     "iopub.execute_input": "2022-04-11T02:50:58.310342Z",
     "iopub.status.busy": "2022-04-11T02:50:58.309763Z",
     "iopub.status.idle": "2022-04-11T02:50:58.313366Z",
     "shell.execute_reply": "2022-04-11T02:50:58.313839Z"
    },
    "papermill": {
     "duration": 0.020443,
     "end_time": "2022-04-11T02:50:58.313963",
     "exception": false,
     "start_time": "2022-04-11T02:50:58.293520",
     "status": "completed"
    },
    "tags": []
   },
   "outputs": [
    {
     "data": {
      "text/markdown": [
       "- Waves Price Prediction 2022-2026: Will the Price of WAVES Hit $70 by the end of 2022?.  WAVES is the native token of the Waves multi-purpose blockchain which was launched in 2016. Waves blockchain is decentralized and open-sourced and can be used to build user-friendly applications with high scalability. Applications in deal with sensitive data, personal finance, and decentralized applications that be built on the Waves blockchain due to its high security. What is Waves (WAVES)? Ukrainian-born Alexander Ivanov is the founder of Waves (WAVES). Waves blockchain uses the Proof-of-Stake consensus mechanism in its blockchain. In year 2020, the Ethereum version of Waves was launched. Waves have remained competitive since its launched and had attracted smart contract that requires high speed and scalabilities like SIGN Art and Puzzle Swap. Some of the top cryptocurrency exchanges for WAVES transactions include Binance, Kucoin, Bittrex, Kraken, Huobi Global, and Bitfinex. Waves (WAVES) Price Analysis Flashback: Fundamental Analysis of Waves The adoption of the WAVES coin as one of the trusted cryptocurrencies for transactions in the Ukrainian-Russian war had led to its surge of 130.2% in the last 30 days according to CoinGecko. This is because Waves founder is a Ukrainian. If no peace deal is achieved soon, the price of WAVES could surpass the present all-time high of $62.32. Also, the news of the Waves blockchain upgrade to Waves 2.0 in February has also increased the demand for WAVES. This is due to the expected launch... ... [| Skaityti daugiau](https://www.cryptoknowmics.com/news/waves-price-prediction-2022-2026-will-the-price-of-waves-hit-70-by-the-end-of-2022/?utm_source=rss&utm_medium=rss&utm_campaign=waves-price-prediction-2022-2026-will-the-price-of-waves-hit-70-by-the-end-of-2022) "
      ],
      "text/plain": [
       "<IPython.core.display.Markdown object>"
      ]
     },
     "execution_count": 9,
     "metadata": {},
     "output_type": "execute_result"
    }
   ],
   "source": [
    "#hide_input\n",
    "#md('##### {}'.format(titleBTC)) \n",
    "md(\"- {}{} {}{} [| Skaityti daugiau]({}) \".format(exchange['title'],'. ', exchange['body'], ' ...', exchange['url']))"
   ]
  },
  {
   "cell_type": "code",
   "execution_count": null,
   "id": "tender-livestock",
   "metadata": {
    "papermill": {
     "duration": 0.012505,
     "end_time": "2022-04-11T02:50:58.339120",
     "exception": false,
     "start_time": "2022-04-11T02:50:58.326615",
     "status": "completed"
    },
    "tags": []
   },
   "outputs": [],
   "source": []
  },
  {
   "cell_type": "code",
   "execution_count": null,
   "id": "appreciated-diamond",
   "metadata": {
    "papermill": {
     "duration": 0.012791,
     "end_time": "2022-04-11T02:50:58.364800",
     "exception": false,
     "start_time": "2022-04-11T02:50:58.352009",
     "status": "completed"
    },
    "tags": []
   },
   "outputs": [],
   "source": []
  },
  {
   "cell_type": "code",
   "execution_count": null,
   "id": "romance-sweden",
   "metadata": {
    "papermill": {
     "duration": 0.012465,
     "end_time": "2022-04-11T02:50:58.390770",
     "exception": false,
     "start_time": "2022-04-11T02:50:58.378305",
     "status": "completed"
    },
    "tags": []
   },
   "outputs": [],
   "source": []
  },
  {
   "cell_type": "code",
   "execution_count": null,
   "id": "dietary-statistics",
   "metadata": {
    "papermill": {
     "duration": 0.01248,
     "end_time": "2022-04-11T02:50:58.415816",
     "exception": false,
     "start_time": "2022-04-11T02:50:58.403336",
     "status": "completed"
    },
    "tags": []
   },
   "outputs": [],
   "source": []
  }
 ],
 "metadata": {
  "kernelspec": {
   "display_name": "Python 3",
   "language": "python",
   "name": "python3"
  },
  "language_info": {
   "codemirror_mode": {
    "name": "ipython",
    "version": 3
   },
   "file_extension": ".py",
   "mimetype": "text/x-python",
   "name": "python",
   "nbconvert_exporter": "python",
   "pygments_lexer": "ipython3",
   "version": "3.6.15"
  },
  "papermill": {
   "default_parameters": {},
   "duration": 15.395491,
   "end_time": "2022-04-11T02:50:58.847641",
   "environment_variables": {},
   "exception": null,
   "input_path": "Market-News.ipynb",
   "output_path": "Market-News.ipynb",
   "parameters": {},
   "start_time": "2022-04-11T02:50:43.452150",
   "version": "2.2.2"
  }
 },
 "nbformat": 4,
 "nbformat_minor": 5
}