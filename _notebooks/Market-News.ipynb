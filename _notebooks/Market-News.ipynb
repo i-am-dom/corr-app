{
 "cells": [
  {
   "cell_type": "markdown",
   "id": "short-greensboro",
   "metadata": {
    "papermill": {
     "duration": 0.015217,
     "end_time": "2022-09-17T03:30:05.926267",
     "exception": false,
     "start_time": "2022-09-17T03:30:05.911050",
     "status": "completed"
    },
    "tags": []
   },
   "source": [
    "# Kriptovaliutų naujienos"
   ]
  },
  {
   "cell_type": "code",
   "execution_count": 1,
   "id": "functioning-knowing",
   "metadata": {
    "execution": {
     "iopub.execute_input": "2022-09-17T03:30:05.964043Z",
     "iopub.status.busy": "2022-09-17T03:30:05.963193Z",
     "iopub.status.idle": "2022-09-17T03:30:07.214376Z",
     "shell.execute_reply": "2022-09-17T03:30:07.213282Z"
    },
    "papermill": {
     "duration": 1.272634,
     "end_time": "2022-09-17T03:30:07.214533",
     "exception": false,
     "start_time": "2022-09-17T03:30:05.941899",
     "status": "completed"
    },
    "tags": []
   },
   "outputs": [],
   "source": [
    "#hide_input\n",
    "import warnings\n",
    "warnings.filterwarnings('ignore')\n",
    "from scripts.read_data import read_api\n",
    "from scripts.read_data import read_news\n",
    "from scripts.read_data import read_covid\n",
    "import matplotlib.pyplot as plt \n",
    "from IPython.display import Markdown as md"
   ]
  },
  {
   "cell_type": "code",
   "execution_count": 2,
   "id": "shared-acceptance",
   "metadata": {
    "execution": {
     "iopub.execute_input": "2022-09-17T03:30:07.239391Z",
     "iopub.status.busy": "2022-09-17T03:30:07.238763Z",
     "iopub.status.idle": "2022-09-17T03:30:26.842626Z",
     "shell.execute_reply": "2022-09-17T03:30:26.841603Z"
    },
    "papermill": {
     "duration": 19.618787,
     "end_time": "2022-09-17T03:30:26.842764",
     "exception": false,
     "start_time": "2022-09-17T03:30:07.223977",
     "status": "completed"
    },
    "tags": []
   },
   "outputs": [],
   "source": [
    "#hide_input\n",
    "blockchain = read_news('blockchain') \n",
    "btc = read_news('btc') \n",
    "xrp = read_news('xrp') \n",
    "trx = read_news('trx') \n",
    "eth = read_news('eth')  \n",
    "ada = read_news('ada')\n",
    "exchange = read_news('exchange') "
   ]
  },
  {
   "cell_type": "code",
   "execution_count": 3,
   "id": "synthetic-notion",
   "metadata": {
    "execution": {
     "iopub.execute_input": "2022-09-17T03:30:26.868222Z",
     "iopub.status.busy": "2022-09-17T03:30:26.867442Z",
     "iopub.status.idle": "2022-09-17T03:30:26.870731Z",
     "shell.execute_reply": "2022-09-17T03:30:26.871183Z"
    },
    "papermill": {
     "duration": 0.019105,
     "end_time": "2022-09-17T03:30:26.871317",
     "exception": false,
     "start_time": "2022-09-17T03:30:26.852212",
     "status": "completed"
    },
    "tags": []
   },
   "outputs": [
    {
     "data": {
      "text/markdown": [
       "- Small Bitcoin ($BTC) Holder Number Hits New High as Sidelined Investors Move In.  The number of Bitcoin ($BTC) addresses with small holdings on the flagship cryptocurrency’s network has recently hit a new all-time high, with blockchain data suggesting that investors who were previously on the sidelines are now moving in. According to data from blockchain analytics firm Glassnode, the number of Bitcoin addresses holding at least 0.01 BTC, […] ... [| Skaityti daugiau](https://www.cryptoglobe.com/latest/2022/09/small-bitcoin-btc-holder-number-hits-new-high-as-sidelined-investors-move-in/) "
      ],
      "text/plain": [
       "<IPython.core.display.Markdown object>"
      ]
     },
     "execution_count": 3,
     "metadata": {},
     "output_type": "execute_result"
    }
   ],
   "source": [
    "#hide_input\n",
    "#md('##### {}'.format(titleBTC)) \n",
    "md(\"- {}{} {}{} [| Skaityti daugiau]({}) \".format(blockchain['title'],'. ', blockchain['body'], ' ...', blockchain['url']))"
   ]
  },
  {
   "cell_type": "code",
   "execution_count": 4,
   "id": "aging-caution",
   "metadata": {
    "execution": {
     "iopub.execute_input": "2022-09-17T03:30:26.896167Z",
     "iopub.status.busy": "2022-09-17T03:30:26.895540Z",
     "iopub.status.idle": "2022-09-17T03:30:26.898615Z",
     "shell.execute_reply": "2022-09-17T03:30:26.899061Z"
    },
    "papermill": {
     "duration": 0.017873,
     "end_time": "2022-09-17T03:30:26.899193",
     "exception": false,
     "start_time": "2022-09-17T03:30:26.881320",
     "status": "completed"
    },
    "tags": []
   },
   "outputs": [
    {
     "data": {
      "text/markdown": [
       "- Bitcoin, Ethereum, Neo, and Fantom Daily Price Analyses – 16 September Roundup.  The global crypto market has witnessed a positive change after a lasting bearish period. The change came from an enhanced influx of capital to the market. The value of Bitcoin has shown enhancement while the performance of Ethereum has continued to show lag. As the mixed situation persists for some coins, the market might take &#8230;  Bitcoin, Ethereum, Neo, and Fantom Daily Price Analyses – 16 September Roundup Read More &#187; ... [| Skaityti daugiau](https://www.cryptopolitan.com/bitcoin-ethereum-neo-and-fantom-daily-price-analyses-16-september-roundup/) "
      ],
      "text/plain": [
       "<IPython.core.display.Markdown object>"
      ]
     },
     "execution_count": 4,
     "metadata": {},
     "output_type": "execute_result"
    }
   ],
   "source": [
    "#hide_input\n",
    "#md('##### {}'.format(titleBTC)) \n",
    "md(\"- {}{} {}{} [| Skaityti daugiau]({}) \".format(btc['title'],'. ', btc['body'], ' ...', btc['url']))"
   ]
  },
  {
   "cell_type": "code",
   "execution_count": 5,
   "id": "organic-actress",
   "metadata": {
    "execution": {
     "iopub.execute_input": "2022-09-17T03:30:26.924438Z",
     "iopub.status.busy": "2022-09-17T03:30:26.923819Z",
     "iopub.status.idle": "2022-09-17T03:30:26.926733Z",
     "shell.execute_reply": "2022-09-17T03:30:26.927192Z"
    },
    "papermill": {
     "duration": 0.018389,
     "end_time": "2022-09-17T03:30:26.927332",
     "exception": false,
     "start_time": "2022-09-17T03:30:26.908943",
     "status": "completed"
    },
    "tags": []
   },
   "outputs": [
    {
     "data": {
      "text/markdown": [
       "- XRP Wallet Addresses Soar Past 4.3 Million As On-Chain Activities See Remarkable Boost.  The total number of addresses holding XRP, Ripple's native token, has hit a new milestone... ... [| Skaityti daugiau](https://zycrypto.com/xrp-wallet-addresses-soar-past-4-3-million-as-on-chain-activities-see-remarkable-boost/) "
      ],
      "text/plain": [
       "<IPython.core.display.Markdown object>"
      ]
     },
     "execution_count": 5,
     "metadata": {},
     "output_type": "execute_result"
    }
   ],
   "source": [
    "#hide_input\n",
    "#md('##### {}'.format(titleBTC)) \n",
    "md(\"- {}{} {}{} [| Skaityti daugiau]({}) \".format(xrp['title'],'. ', xrp['body'], ' ...', xrp['url']))"
   ]
  },
  {
   "cell_type": "code",
   "execution_count": 6,
   "id": "prompt-farmer",
   "metadata": {
    "execution": {
     "iopub.execute_input": "2022-09-17T03:30:26.953786Z",
     "iopub.status.busy": "2022-09-17T03:30:26.953049Z",
     "iopub.status.idle": "2022-09-17T03:30:26.956309Z",
     "shell.execute_reply": "2022-09-17T03:30:26.955709Z"
    },
    "papermill": {
     "duration": 0.01888,
     "end_time": "2022-09-17T03:30:26.956425",
     "exception": false,
     "start_time": "2022-09-17T03:30:26.937545",
     "status": "completed"
    },
    "tags": []
   },
   "outputs": [
    {
     "data": {
      "text/markdown": [
       "- Why Cardano (ADA) Could Be Registering Another Decline, Analyst Explains.  Cardano faces a new obstacle with the impending Vasil update. Analyst and futures trader Peter Brandt predicts poor performance for the coin based on current trends and projections. He recently tweeted on the present state of affairs for Cardano. “This is a fractal chart pattern called a descending triangle. If the construction continues in the fractal, $ADA should have one more significant retreat.&#8221; The keywords are &#8220;should,&#8221; and not &#8220;must,&#8221; Brandt tweeted. The analyst pointed out the coin&#8217;s current trend. Although Cardano has been doing poorly as of late, the market still seems to be anticipating the worse for the currency based on the current downward angle. Expectations and conjecture are not a guarantee, but they do help to outline the paths the asset could take in the future. Related Reading: Will Tron Tie-Up With Liquidity Provider Wintermute Boost TRX Price? A Crash In The Offing For Cardano? And as a result of the crypto market&#8217;s recent performance, this research may cause investors to worry about a possible impending crash. The coin&#8217;s value has fallen from its recent high of $0.5043 at the market&#8217;s closing to its current level of $0.4574. This is a 90% discount, which is huge. In spite of this, the value of the coin has remained relatively unchanged. Cardano&#8217;s current price has been attempting to extricate from the 78.60 Fib level, which is now located at $0... ... [| Skaityti daugiau](https://www.newsbtc.com/news/cardano-could-register-another-decline/) "
      ],
      "text/plain": [
       "<IPython.core.display.Markdown object>"
      ]
     },
     "execution_count": 6,
     "metadata": {},
     "output_type": "execute_result"
    }
   ],
   "source": [
    "#hide_input\n",
    "#md('##### {}'.format(titleBTC)) \n",
    "md(\"- {}{} {}{} [| Skaityti daugiau]({}) \".format(trx['title'],'. ', trx['body'], ' ...', trx['url']))"
   ]
  },
  {
   "cell_type": "code",
   "execution_count": 7,
   "id": "illegal-greece",
   "metadata": {
    "execution": {
     "iopub.execute_input": "2022-09-17T03:30:26.984375Z",
     "iopub.status.busy": "2022-09-17T03:30:26.983773Z",
     "iopub.status.idle": "2022-09-17T03:30:26.987562Z",
     "shell.execute_reply": "2022-09-17T03:30:26.987082Z"
    },
    "papermill": {
     "duration": 0.020529,
     "end_time": "2022-09-17T03:30:26.987672",
     "exception": false,
     "start_time": "2022-09-17T03:30:26.967143",
     "status": "completed"
    },
    "tags": []
   },
   "outputs": [
    {
     "data": {
      "text/markdown": [
       "- Bitcoin, Ethereum, Neo, and Fantom Daily Price Analyses – 16 September Roundup.  The global crypto market has witnessed a positive change after a lasting bearish period. The change came from an enhanced influx of capital to the market. The value of Bitcoin has shown enhancement while the performance of Ethereum has continued to show lag. As the mixed situation persists for some coins, the market might take &#8230;  Bitcoin, Ethereum, Neo, and Fantom Daily Price Analyses – 16 September Roundup Read More &#187; ... [| Skaityti daugiau](https://www.cryptopolitan.com/bitcoin-ethereum-neo-and-fantom-daily-price-analyses-16-september-roundup/) "
      ],
      "text/plain": [
       "<IPython.core.display.Markdown object>"
      ]
     },
     "execution_count": 7,
     "metadata": {},
     "output_type": "execute_result"
    }
   ],
   "source": [
    "#hide_input\n",
    "#md('##### {}'.format(titleBTC)) \n",
    "md(\"- {}{} {}{} [| Skaityti daugiau]({}) \".format(eth['title'],'. ', eth['body'], ' ...', eth['url']))"
   ]
  },
  {
   "cell_type": "code",
   "execution_count": 8,
   "id": "sublime-lounge",
   "metadata": {
    "execution": {
     "iopub.execute_input": "2022-09-17T03:30:27.014579Z",
     "iopub.status.busy": "2022-09-17T03:30:27.013942Z",
     "iopub.status.idle": "2022-09-17T03:30:27.017780Z",
     "shell.execute_reply": "2022-09-17T03:30:27.017327Z"
    },
    "papermill": {
     "duration": 0.019543,
     "end_time": "2022-09-17T03:30:27.017895",
     "exception": false,
     "start_time": "2022-09-17T03:30:26.998352",
     "status": "completed"
    },
    "tags": []
   },
   "outputs": [
    {
     "data": {
      "text/markdown": [
       "- Cardano ($ADA) Surpasses 50 Million Transaction Milestone Ahead of Vasil Hard Fork.  The Cardano ($ADA) network has recently surpassed the 50 million transaction milestone ahead of its widely-anticipated Vasil hard fork, which is expected to deliver a “massive performance improvement” to the network. According to data from Cardano blockchain explorer Cardanoscan, the smart contract platform has surpassed the 50 million transaction mark recently after processing well over […] ... [| Skaityti daugiau](https://www.cryptoglobe.com/latest/2022/09/cardano-ada-surpasses-50-million-transaction-milestone-ahead-of-vasil-hard-fork/) "
      ],
      "text/plain": [
       "<IPython.core.display.Markdown object>"
      ]
     },
     "execution_count": 8,
     "metadata": {},
     "output_type": "execute_result"
    }
   ],
   "source": [
    "#hide_input\n",
    "#md('##### {}'.format(titleBTC)) \n",
    "md(\"- {}{} {}{} [| Skaityti daugiau]({}) \".format(ada['title'],'. ', ada['body'], ' ...', ada['url']))"
   ]
  },
  {
   "cell_type": "code",
   "execution_count": 9,
   "id": "specified-ordering",
   "metadata": {
    "execution": {
     "iopub.execute_input": "2022-09-17T03:30:27.045759Z",
     "iopub.status.busy": "2022-09-17T03:30:27.045162Z",
     "iopub.status.idle": "2022-09-17T03:30:27.049053Z",
     "shell.execute_reply": "2022-09-17T03:30:27.048563Z"
    },
    "papermill": {
     "duration": 0.020146,
     "end_time": "2022-09-17T03:30:27.049164",
     "exception": false,
     "start_time": "2022-09-17T03:30:27.029018",
     "status": "completed"
    },
    "tags": []
   },
   "outputs": [
    {
     "data": {
      "text/markdown": [
       "- Bitcoin: Mt. Gox Dump Rumor Overblown, But Not Lessons.  SummaryDespite substantial hacks, most Mt. Gox victims will be compensated 5-6 times the value of their Bitcoin investments at the point of the withdrawal freeze in 2014.Mt. Gox's $3 billion BTC position will not be liquidated at once or in its entirety to fund creditor payouts. Plus many creditors will take payouts in BTC and hold.The slower, more energy intensive Bitcoin is generally thought to have won-out over Bitcoin Cash because it was perceived to be more secure.Sound custody arrangements for both digital asset marketplaces and exchange traded products should include majority cold storage and proof of reserves audits.Entrenched energy and food price growth along with a now stubborn core inflation are continually driving the Fed into additional large rate hikes. This environment is unfavorable for digital assets.The article below looks at where the infamous Mt. Gox bankruptcy stands as well as the renewed rumors that its Rehabilitation Plan could negatively impact Bitcoin (BTC-USD) and Bitcoin Cash (BCH-USD) prices. In addition to the past strength of a simple HODL strategy, the Mt. Gox discussion also highlights two takeaways for digital asset investments more broadly: The high relative value of a blockchain's majority chosen fork Sound custody arrangements include cold storage and proof of reserves audits But before moving to Mt. Gox, it is useful to keep in mind that macroeconomic factors currently overshadow any fund... ... [| Skaityti daugiau](https://seekingalpha.com/article/4541571-bitcoin-mt-gox-dump-rumor-overblown-but-not-lessons?utm_source=cryptocompare.com&utm_medium=referral) "
      ],
      "text/plain": [
       "<IPython.core.display.Markdown object>"
      ]
     },
     "execution_count": 9,
     "metadata": {},
     "output_type": "execute_result"
    }
   ],
   "source": [
    "#hide_input\n",
    "#md('##### {}'.format(titleBTC)) \n",
    "md(\"- {}{} {}{} [| Skaityti daugiau]({}) \".format(exchange['title'],'. ', exchange['body'], ' ...', exchange['url']))"
   ]
  },
  {
   "cell_type": "code",
   "execution_count": null,
   "id": "tender-livestock",
   "metadata": {
    "papermill": {
     "duration": 0.011493,
     "end_time": "2022-09-17T03:30:27.072233",
     "exception": false,
     "start_time": "2022-09-17T03:30:27.060740",
     "status": "completed"
    },
    "tags": []
   },
   "outputs": [],
   "source": []
  },
  {
   "cell_type": "code",
   "execution_count": null,
   "id": "appreciated-diamond",
   "metadata": {
    "papermill": {
     "duration": 0.011346,
     "end_time": "2022-09-17T03:30:27.095304",
     "exception": false,
     "start_time": "2022-09-17T03:30:27.083958",
     "status": "completed"
    },
    "tags": []
   },
   "outputs": [],
   "source": []
  },
  {
   "cell_type": "code",
   "execution_count": null,
   "id": "romance-sweden",
   "metadata": {
    "papermill": {
     "duration": 0.011432,
     "end_time": "2022-09-17T03:30:27.118165",
     "exception": false,
     "start_time": "2022-09-17T03:30:27.106733",
     "status": "completed"
    },
    "tags": []
   },
   "outputs": [],
   "source": []
  },
  {
   "cell_type": "code",
   "execution_count": null,
   "id": "dietary-statistics",
   "metadata": {
    "papermill": {
     "duration": 0.011419,
     "end_time": "2022-09-17T03:30:27.140972",
     "exception": false,
     "start_time": "2022-09-17T03:30:27.129553",
     "status": "completed"
    },
    "tags": []
   },
   "outputs": [],
   "source": []
  }
 ],
 "metadata": {
  "kernelspec": {
   "display_name": "Python 3",
   "language": "python",
   "name": "python3"
  },
  "language_info": {
   "codemirror_mode": {
    "name": "ipython",
    "version": 3
   },
   "file_extension": ".py",
   "mimetype": "text/x-python",
   "name": "python",
   "nbconvert_exporter": "python",
   "pygments_lexer": "ipython3",
   "version": "3.6.15"
  },
  "papermill": {
   "default_parameters": {},
   "duration": 22.793224,
   "end_time": "2022-09-17T03:30:27.671729",
   "environment_variables": {},
   "exception": null,
   "input_path": "Market-News.ipynb",
   "output_path": "Market-News.ipynb",
   "parameters": {},
   "start_time": "2022-09-17T03:30:04.878505",
   "version": "2.2.2"
  }
 },
 "nbformat": 4,
 "nbformat_minor": 5
}