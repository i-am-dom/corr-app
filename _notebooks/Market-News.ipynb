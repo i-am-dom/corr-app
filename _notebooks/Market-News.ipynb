{
 "cells": [
  {
   "cell_type": "markdown",
   "id": "short-greensboro",
   "metadata": {
    "papermill": {
     "duration": 0.013541,
     "end_time": "2021-10-22T02:12:26.347584",
     "exception": false,
     "start_time": "2021-10-22T02:12:26.334043",
     "status": "completed"
    },
    "tags": []
   },
   "source": [
    "# Kriptovaliutų naujienos"
   ]
  },
  {
   "cell_type": "code",
   "execution_count": 1,
   "id": "functioning-knowing",
   "metadata": {
    "execution": {
     "iopub.execute_input": "2021-10-22T02:12:26.376471Z",
     "iopub.status.busy": "2021-10-22T02:12:26.375932Z",
     "iopub.status.idle": "2021-10-22T02:12:27.586532Z",
     "shell.execute_reply": "2021-10-22T02:12:27.587046Z"
    },
    "papermill": {
     "duration": 1.229927,
     "end_time": "2021-10-22T02:12:27.587250",
     "exception": false,
     "start_time": "2021-10-22T02:12:26.357323",
     "status": "completed"
    },
    "tags": []
   },
   "outputs": [],
   "source": [
    "#hide_input\n",
    "import warnings\n",
    "warnings.filterwarnings('ignore')\n",
    "from scripts.read_data import read_api\n",
    "from scripts.read_data import read_news\n",
    "from scripts.read_data import read_covid\n",
    "import matplotlib.pyplot as plt \n",
    "from IPython.display import Markdown as md"
   ]
  },
  {
   "cell_type": "code",
   "execution_count": 2,
   "id": "shared-acceptance",
   "metadata": {
    "execution": {
     "iopub.execute_input": "2021-10-22T02:12:27.613083Z",
     "iopub.status.busy": "2021-10-22T02:12:27.612552Z",
     "iopub.status.idle": "2021-10-22T02:12:34.695635Z",
     "shell.execute_reply": "2021-10-22T02:12:34.694732Z"
    },
    "papermill": {
     "duration": 7.098528,
     "end_time": "2021-10-22T02:12:34.695780",
     "exception": false,
     "start_time": "2021-10-22T02:12:27.597252",
     "status": "completed"
    },
    "tags": []
   },
   "outputs": [],
   "source": [
    "#hide_input\n",
    "blockchain = read_news('blockchain') \n",
    "btc = read_news('btc') \n",
    "xrp = read_news('xrp') \n",
    "trx = read_news('trx') \n",
    "eth = read_news('eth')  \n",
    "ada = read_news('ada')\n",
    "exchange = read_news('exchange') "
   ]
  },
  {
   "cell_type": "code",
   "execution_count": 3,
   "id": "synthetic-notion",
   "metadata": {
    "execution": {
     "iopub.execute_input": "2021-10-22T02:12:34.721487Z",
     "iopub.status.busy": "2021-10-22T02:12:34.720945Z",
     "iopub.status.idle": "2021-10-22T02:12:34.724618Z",
     "shell.execute_reply": "2021-10-22T02:12:34.724996Z"
    },
    "papermill": {
     "duration": 0.019559,
     "end_time": "2021-10-22T02:12:34.725142",
     "exception": false,
     "start_time": "2021-10-22T02:12:34.705583",
     "status": "completed"
    },
    "tags": []
   },
   "outputs": [
    {
     "data": {
      "text/markdown": [
       "- Shanghai Man: Blockchain Week with Vitalik still happening, ‘Bitcoin’ searches on WeChat hit 26M in a day.   ... [| Skaityti daugiau](https://cointelegraph.com/magazine/2021/10/21/shanghai-man-blockchain-week-happening-as-scheduled-big-companies-make-nfts-and-government-office-brags-about-falling-below-the-us-for-crypto-mining) "
      ],
      "text/plain": [
       "<IPython.core.display.Markdown object>"
      ]
     },
     "execution_count": 3,
     "metadata": {},
     "output_type": "execute_result"
    }
   ],
   "source": [
    "#hide_input\n",
    "#md('##### {}'.format(titleBTC)) \n",
    "md(\"- {}{} {}{} [| Skaityti daugiau]({}) \".format(blockchain['title'],'. ', blockchain['body'], ' ...', blockchain['url']))"
   ]
  },
  {
   "cell_type": "code",
   "execution_count": 4,
   "id": "aging-caution",
   "metadata": {
    "execution": {
     "iopub.execute_input": "2021-10-22T02:12:34.756898Z",
     "iopub.status.busy": "2021-10-22T02:12:34.756373Z",
     "iopub.status.idle": "2021-10-22T02:12:34.759392Z",
     "shell.execute_reply": "2021-10-22T02:12:34.758983Z"
    },
    "papermill": {
     "duration": 0.02488,
     "end_time": "2021-10-22T02:12:34.759508",
     "exception": false,
     "start_time": "2021-10-22T02:12:34.734628",
     "status": "completed"
    },
    "tags": []
   },
   "outputs": [
    {
     "data": {
      "text/markdown": [
       "- Bitcoin may be at an inflection point, but is it ‘big enough to be unstoppable’.  MicroStrategy&#8217;s founder Michael Saylor is considered one of the most vocal and enthusiastic proponents of the cryptocurrency. His supportive words have also translated into action over the past year, with his company going on to acquire 114,042 BTC in a series of buying sprees that began in August last year. Since his holdings have almost [&#8230;] ... [| Skaityti daugiau](https://ambcrypto.com/bitcoin-may-be-at-an-inflection-point-but-is-it-big-enough-to-be-unstoppable/) "
      ],
      "text/plain": [
       "<IPython.core.display.Markdown object>"
      ]
     },
     "execution_count": 4,
     "metadata": {},
     "output_type": "execute_result"
    }
   ],
   "source": [
    "#hide_input\n",
    "#md('##### {}'.format(titleBTC)) \n",
    "md(\"- {}{} {}{} [| Skaityti daugiau]({}) \".format(btc['title'],'. ', btc['body'], ' ...', btc['url']))"
   ]
  },
  {
   "cell_type": "code",
   "execution_count": 5,
   "id": "organic-actress",
   "metadata": {
    "execution": {
     "iopub.execute_input": "2021-10-22T02:12:34.783031Z",
     "iopub.status.busy": "2021-10-22T02:12:34.781963Z",
     "iopub.status.idle": "2021-10-22T02:12:34.785410Z",
     "shell.execute_reply": "2021-10-22T02:12:34.785837Z"
    },
    "papermill": {
     "duration": 0.016725,
     "end_time": "2021-10-22T02:12:34.785957",
     "exception": false,
     "start_time": "2021-10-22T02:12:34.769232",
     "status": "completed"
    },
    "tags": []
   },
   "outputs": [
    {
     "data": {
      "text/markdown": [
       "- Why XRP needs to break north and should traders be wary.  Disclaimer: The findings of the following analysis are the sole opinions of the writer and should not be taken as investment advice XRP has left its investors rather displeased with the lack of movement recorded over the past couple of weeks. The alt seems to be on standby while the likes of Solana, MATIC, Cardano, and [&#8230;] ... [| Skaityti daugiau](https://ambcrypto.com/why-xrp-needs-to-break-north-and-should-traders-be-wary/) "
      ],
      "text/plain": [
       "<IPython.core.display.Markdown object>"
      ]
     },
     "execution_count": 5,
     "metadata": {},
     "output_type": "execute_result"
    }
   ],
   "source": [
    "#hide_input\n",
    "#md('##### {}'.format(titleBTC)) \n",
    "md(\"- {}{} {}{} [| Skaityti daugiau]({}) \".format(xrp['title'],'. ', xrp['body'], ' ...', xrp['url']))"
   ]
  },
  {
   "cell_type": "code",
   "execution_count": 6,
   "id": "prompt-farmer",
   "metadata": {
    "execution": {
     "iopub.execute_input": "2021-10-22T02:12:34.811333Z",
     "iopub.status.busy": "2021-10-22T02:12:34.810738Z",
     "iopub.status.idle": "2021-10-22T02:12:34.812835Z",
     "shell.execute_reply": "2021-10-22T02:12:34.813319Z"
    },
    "papermill": {
     "duration": 0.017453,
     "end_time": "2021-10-22T02:12:34.813443",
     "exception": false,
     "start_time": "2021-10-22T02:12:34.795990",
     "status": "completed"
    },
    "tags": []
   },
   "outputs": [
    {
     "data": {
      "text/markdown": [
       "- Shiba Inu, Tron, Uniswap Price Analysis: 20 October.  While Bitcoin hits the $63,000 mark, altcoins like SHIB and UNI show bearish signs. However, TRX seemed to follow in the footsteps of the King coin and showing some signs of recovery on the charts. Nevertheless, all of these coins show weak directional price trends in the near term. SHIB SHIB saw a 2.26% decrease [&#8230;] ... [| Skaityti daugiau](https://ambcrypto.com/shiba-inu-tron-uniswap-price-analysis-20-october/) "
      ],
      "text/plain": [
       "<IPython.core.display.Markdown object>"
      ]
     },
     "execution_count": 6,
     "metadata": {},
     "output_type": "execute_result"
    }
   ],
   "source": [
    "#hide_input\n",
    "#md('##### {}'.format(titleBTC)) \n",
    "md(\"- {}{} {}{} [| Skaityti daugiau]({}) \".format(trx['title'],'. ', trx['body'], ' ...', trx['url']))"
   ]
  },
  {
   "cell_type": "code",
   "execution_count": 7,
   "id": "illegal-greece",
   "metadata": {
    "execution": {
     "iopub.execute_input": "2021-10-22T02:12:34.839809Z",
     "iopub.status.busy": "2021-10-22T02:12:34.839231Z",
     "iopub.status.idle": "2021-10-22T02:12:34.841356Z",
     "shell.execute_reply": "2021-10-22T02:12:34.841898Z"
    },
    "papermill": {
     "duration": 0.018119,
     "end_time": "2021-10-22T02:12:34.842032",
     "exception": false,
     "start_time": "2021-10-22T02:12:34.823913",
     "status": "completed"
    },
    "tags": []
   },
   "outputs": [
    {
     "data": {
      "text/markdown": [
       "- Shanghai Man: Blockchain Week with Vitalik still happening, ‘Bitcoin’ searches on WeChat hit 26M in a day.   ... [| Skaityti daugiau](https://cointelegraph.com/magazine/2021/10/21/shanghai-man-blockchain-week-happening-as-scheduled-big-companies-make-nfts-and-government-office-brags-about-falling-below-the-us-for-crypto-mining) "
      ],
      "text/plain": [
       "<IPython.core.display.Markdown object>"
      ]
     },
     "execution_count": 7,
     "metadata": {},
     "output_type": "execute_result"
    }
   ],
   "source": [
    "#hide_input\n",
    "#md('##### {}'.format(titleBTC)) \n",
    "md(\"- {}{} {}{} [| Skaityti daugiau]({}) \".format(eth['title'],'. ', eth['body'], ' ...', eth['url']))"
   ]
  },
  {
   "cell_type": "code",
   "execution_count": 8,
   "id": "sublime-lounge",
   "metadata": {
    "execution": {
     "iopub.execute_input": "2021-10-22T02:12:34.868616Z",
     "iopub.status.busy": "2021-10-22T02:12:34.868112Z",
     "iopub.status.idle": "2021-10-22T02:12:34.870984Z",
     "shell.execute_reply": "2021-10-22T02:12:34.871458Z"
    },
    "papermill": {
     "duration": 0.018759,
     "end_time": "2021-10-22T02:12:34.871584",
     "exception": false,
     "start_time": "2021-10-22T02:12:34.852825",
     "status": "completed"
    },
    "tags": []
   },
   "outputs": [
    {
     "data": {
      "text/markdown": [
       "- Cardano Set To Enter The Babbage Era After Alonzo HFC Milestone.  Cardano successfully deployed the Alonzo Hard Fork Combinator over a month ago, which has no doubt been one of the most important upgrades to happen on the network Alonzo HFC brought with it smart contracts capability on the network and with this came decentralized finance (DeFi) services to the ecosystem. Developers could now develop and deploy decentralized applications (DApps) on the Cardano blockchain. This provided a boost for the network and Cardano continues to work with developers to get their DApps deployed on the blockchain. After this milestone, a question on the minds of supporters has been, ‘What’s next?’ With the Alonzo HFC operating as intended, the developers behind the blockchain can now move to the next phase. This phase is referred to as the Babbage era. Related Reading &#124; Cardano Loses 3rd Spot On Crypto Top 10, Why It May Drop Even More The Next Big Step Kevin Hammond, software engineer at Input Output gave an update on what the developer was working on next. Hammond revealed that IOHK was moving into what they referred to as the Babbage era. This phase which is named after Charles Babbage, the mathematician credited as “the father of the computer”, is meant to smooth out any wrinkles that may be leftover after Alonzo. ADA price at $2.32 &#124; Source: ADAUSD on TradingView.com IOHK will roll out various performance improvements on the blockchain in this phase. These, Hammond said, are improvements whi... ... [| Skaityti daugiau](https://www.newsbtc.com/news/cardano/cardano-enter-babbage-era/) "
      ],
      "text/plain": [
       "<IPython.core.display.Markdown object>"
      ]
     },
     "execution_count": 8,
     "metadata": {},
     "output_type": "execute_result"
    }
   ],
   "source": [
    "#hide_input\n",
    "#md('##### {}'.format(titleBTC)) \n",
    "md(\"- {}{} {}{} [| Skaityti daugiau]({}) \".format(ada['title'],'. ', ada['body'], ' ...', ada['url']))"
   ]
  },
  {
   "cell_type": "code",
   "execution_count": 9,
   "id": "specified-ordering",
   "metadata": {
    "execution": {
     "iopub.execute_input": "2021-10-22T02:12:34.898139Z",
     "iopub.status.busy": "2021-10-22T02:12:34.897642Z",
     "iopub.status.idle": "2021-10-22T02:12:34.900493Z",
     "shell.execute_reply": "2021-10-22T02:12:34.900870Z"
    },
    "papermill": {
     "duration": 0.018413,
     "end_time": "2021-10-22T02:12:34.900993",
     "exception": false,
     "start_time": "2021-10-22T02:12:34.882580",
     "status": "completed"
    },
    "tags": []
   },
   "outputs": [
    {
     "data": {
      "text/markdown": [
       "- KuCoin Exchange Introduces Social Trading Features on Its Mobile App.  KuCoin integrates new social trading features on its mobile app. Users can access the trading features via a special space ...Read More... ... [| Skaityti daugiau](https://coinquora.com/kucoin-exchange-introduces-social-trading-features-on-its-mobile-app/) "
      ],
      "text/plain": [
       "<IPython.core.display.Markdown object>"
      ]
     },
     "execution_count": 9,
     "metadata": {},
     "output_type": "execute_result"
    }
   ],
   "source": [
    "#hide_input\n",
    "#md('##### {}'.format(titleBTC)) \n",
    "md(\"- {}{} {}{} [| Skaityti daugiau]({}) \".format(exchange['title'],'. ', exchange['body'], ' ...', exchange['url']))"
   ]
  },
  {
   "cell_type": "code",
   "execution_count": null,
   "id": "tender-livestock",
   "metadata": {
    "papermill": {
     "duration": 0.01127,
     "end_time": "2021-10-22T02:12:34.923527",
     "exception": false,
     "start_time": "2021-10-22T02:12:34.912257",
     "status": "completed"
    },
    "tags": []
   },
   "outputs": [],
   "source": []
  },
  {
   "cell_type": "code",
   "execution_count": null,
   "id": "appreciated-diamond",
   "metadata": {
    "papermill": {
     "duration": 0.011742,
     "end_time": "2021-10-22T02:12:34.946708",
     "exception": false,
     "start_time": "2021-10-22T02:12:34.934966",
     "status": "completed"
    },
    "tags": []
   },
   "outputs": [],
   "source": []
  },
  {
   "cell_type": "code",
   "execution_count": null,
   "id": "romance-sweden",
   "metadata": {
    "papermill": {
     "duration": 0.011659,
     "end_time": "2021-10-22T02:12:34.969632",
     "exception": false,
     "start_time": "2021-10-22T02:12:34.957973",
     "status": "completed"
    },
    "tags": []
   },
   "outputs": [],
   "source": []
  },
  {
   "cell_type": "code",
   "execution_count": null,
   "id": "dietary-statistics",
   "metadata": {
    "papermill": {
     "duration": 0.011121,
     "end_time": "2021-10-22T02:12:34.991956",
     "exception": false,
     "start_time": "2021-10-22T02:12:34.980835",
     "status": "completed"
    },
    "tags": []
   },
   "outputs": [],
   "source": []
  }
 ],
 "metadata": {
  "kernelspec": {
   "display_name": "Python 3",
   "language": "python",
   "name": "python3"
  },
  "language_info": {
   "codemirror_mode": {
    "name": "ipython",
    "version": 3
   },
   "file_extension": ".py",
   "mimetype": "text/x-python",
   "name": "python",
   "nbconvert_exporter": "python",
   "pygments_lexer": "ipython3",
   "version": "3.6.15"
  },
  "papermill": {
   "default_parameters": {},
   "duration": 10.214107,
   "end_time": "2021-10-22T02:12:35.511630",
   "environment_variables": {},
   "exception": null,
   "input_path": "Market-News.ipynb",
   "output_path": "Market-News.ipynb",
   "parameters": {},
   "start_time": "2021-10-22T02:12:25.297523",
   "version": "2.2.2"
  }
 },
 "nbformat": 4,
 "nbformat_minor": 5
}