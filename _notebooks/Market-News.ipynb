{
 "cells": [
  {
   "cell_type": "markdown",
   "id": "short-greensboro",
   "metadata": {
    "papermill": {
     "duration": 0.018093,
     "end_time": "2022-09-08T03:40:05.119373",
     "exception": false,
     "start_time": "2022-09-08T03:40:05.101280",
     "status": "completed"
    },
    "tags": []
   },
   "source": [
    "# Kriptovaliutų naujienos"
   ]
  },
  {
   "cell_type": "code",
   "execution_count": 1,
   "id": "functioning-knowing",
   "metadata": {
    "execution": {
     "iopub.execute_input": "2022-09-08T03:40:05.154332Z",
     "iopub.status.busy": "2022-09-08T03:40:05.153604Z",
     "iopub.status.idle": "2022-09-08T03:40:06.560487Z",
     "shell.execute_reply": "2022-09-08T03:40:06.559824Z"
    },
    "papermill": {
     "duration": 1.429713,
     "end_time": "2022-09-08T03:40:06.560640",
     "exception": false,
     "start_time": "2022-09-08T03:40:05.130927",
     "status": "completed"
    },
    "tags": []
   },
   "outputs": [],
   "source": [
    "#hide_input\n",
    "import warnings\n",
    "warnings.filterwarnings('ignore')\n",
    "from scripts.read_data import read_api\n",
    "from scripts.read_data import read_news\n",
    "from scripts.read_data import read_covid\n",
    "import matplotlib.pyplot as plt \n",
    "from IPython.display import Markdown as md"
   ]
  },
  {
   "cell_type": "code",
   "execution_count": 2,
   "id": "shared-acceptance",
   "metadata": {
    "execution": {
     "iopub.execute_input": "2022-09-08T03:40:06.588506Z",
     "iopub.status.busy": "2022-09-08T03:40:06.587804Z",
     "iopub.status.idle": "2022-09-08T03:40:19.225847Z",
     "shell.execute_reply": "2022-09-08T03:40:19.224879Z"
    },
    "papermill": {
     "duration": 12.654849,
     "end_time": "2022-09-08T03:40:19.226070",
     "exception": false,
     "start_time": "2022-09-08T03:40:06.571221",
     "status": "completed"
    },
    "tags": []
   },
   "outputs": [],
   "source": [
    "#hide_input\n",
    "blockchain = read_news('blockchain') \n",
    "btc = read_news('btc') \n",
    "xrp = read_news('xrp') \n",
    "trx = read_news('trx') \n",
    "eth = read_news('eth')  \n",
    "ada = read_news('ada')\n",
    "exchange = read_news('exchange') "
   ]
  },
  {
   "cell_type": "code",
   "execution_count": 3,
   "id": "synthetic-notion",
   "metadata": {
    "execution": {
     "iopub.execute_input": "2022-09-08T03:40:19.256265Z",
     "iopub.status.busy": "2022-09-08T03:40:19.255538Z",
     "iopub.status.idle": "2022-09-08T03:40:19.261718Z",
     "shell.execute_reply": "2022-09-08T03:40:19.261161Z"
    },
    "papermill": {
     "duration": 0.023412,
     "end_time": "2022-09-08T03:40:19.261848",
     "exception": false,
     "start_time": "2022-09-08T03:40:19.238436",
     "status": "completed"
    },
    "tags": []
   },
   "outputs": [
    {
     "data": {
      "text/markdown": [
       "- Former BlackRock Executive Becomes Blockchain Australia’s New CEO.  Laura Mercurio will replace Steve Vallas as Blockchain Australia's next Chief Executive Officer from Monday (September 12). ... [| Skaityti daugiau](https://cryptopotato.com/former-blackrock-executive-becomes-blockchain-australias-new-ceo/) "
      ],
      "text/plain": [
       "<IPython.core.display.Markdown object>"
      ]
     },
     "execution_count": 3,
     "metadata": {},
     "output_type": "execute_result"
    }
   ],
   "source": [
    "#hide_input\n",
    "#md('##### {}'.format(titleBTC)) \n",
    "md(\"- {}{} {}{} [| Skaityti daugiau]({}) \".format(blockchain['title'],'. ', blockchain['body'], ' ...', blockchain['url']))"
   ]
  },
  {
   "cell_type": "code",
   "execution_count": 4,
   "id": "aging-caution",
   "metadata": {
    "execution": {
     "iopub.execute_input": "2022-09-08T03:40:19.292667Z",
     "iopub.status.busy": "2022-09-08T03:40:19.291632Z",
     "iopub.status.idle": "2022-09-08T03:40:19.295231Z",
     "shell.execute_reply": "2022-09-08T03:40:19.295757Z"
    },
    "papermill": {
     "duration": 0.023283,
     "end_time": "2022-09-08T03:40:19.295912",
     "exception": false,
     "start_time": "2022-09-08T03:40:19.272629",
     "status": "completed"
    },
    "tags": []
   },
   "outputs": [
    {
     "data": {
      "text/markdown": [
       "- The Energy Crisis Will Turn The Money Printers Back On, But Only Bitcoin Can Solve It.  The only way out of this mess is to adopt a money that is extremely hard for the unproductive class to corrupt. That money is bitcoin. ... [| Skaityti daugiau](https://bitcoinmagazine.com/culture/energy-crisis-calls-for-bitcoin) "
      ],
      "text/plain": [
       "<IPython.core.display.Markdown object>"
      ]
     },
     "execution_count": 4,
     "metadata": {},
     "output_type": "execute_result"
    }
   ],
   "source": [
    "#hide_input\n",
    "#md('##### {}'.format(titleBTC)) \n",
    "md(\"- {}{} {}{} [| Skaityti daugiau]({}) \".format(btc['title'],'. ', btc['body'], ' ...', btc['url']))"
   ]
  },
  {
   "cell_type": "code",
   "execution_count": 5,
   "id": "organic-actress",
   "metadata": {
    "execution": {
     "iopub.execute_input": "2022-09-08T03:40:19.326979Z",
     "iopub.status.busy": "2022-09-08T03:40:19.325478Z",
     "iopub.status.idle": "2022-09-08T03:40:19.329690Z",
     "shell.execute_reply": "2022-09-08T03:40:19.329139Z"
    },
    "papermill": {
     "duration": 0.022992,
     "end_time": "2022-09-08T03:40:19.329817",
     "exception": false,
     "start_time": "2022-09-08T03:40:19.306825",
     "status": "completed"
    },
    "tags": []
   },
   "outputs": [
    {
     "data": {
      "text/markdown": [
       "- Ethereum Trims Losses and Rallies While Bitcoin Lacks Momentum.  Bitcoin price extended losses and traded close to USD 18,500. BTC formed a base and started an upside correction above USD 19,000. It is currently (04:00 UTC) facing a major resistance near the USD 19,500 pivot zone. Besides, most major altcoins managed to trim most losses and recovered. ETH rallied over 8% and climbed above USD 1,620. XRP is approaching the USD 0.335 resistance. ADA might clear the USD 0.48 resistance zone....Read More: Ethereum Trims Losses and Rallies While Bitcoin Lacks Momentum ... [| Skaityti daugiau](https://cryptonews.com/news/ethereum-trims-losses-rallies-while-bitcoin-lacks-momentum.htm) "
      ],
      "text/plain": [
       "<IPython.core.display.Markdown object>"
      ]
     },
     "execution_count": 5,
     "metadata": {},
     "output_type": "execute_result"
    }
   ],
   "source": [
    "#hide_input\n",
    "#md('##### {}'.format(titleBTC)) \n",
    "md(\"- {}{} {}{} [| Skaityti daugiau]({}) \".format(xrp['title'],'. ', xrp['body'], ' ...', xrp['url']))"
   ]
  },
  {
   "cell_type": "code",
   "execution_count": 6,
   "id": "prompt-farmer",
   "metadata": {
    "execution": {
     "iopub.execute_input": "2022-09-08T03:40:19.358999Z",
     "iopub.status.busy": "2022-09-08T03:40:19.358198Z",
     "iopub.status.idle": "2022-09-08T03:40:19.363102Z",
     "shell.execute_reply": "2022-09-08T03:40:19.362424Z"
    },
    "papermill": {
     "duration": 0.022012,
     "end_time": "2022-09-08T03:40:19.363232",
     "exception": false,
     "start_time": "2022-09-08T03:40:19.341220",
     "status": "completed"
    },
    "tags": []
   },
   "outputs": [
    {
     "data": {
      "text/markdown": [
       "- Tron [TRX]: The technical hurdles to consider before taking a long position.  Disclaimer: The findings of the following analysis are the sole opinions of the writer and should not be considered investment advice. As anticipated by a previous article, Tron [TRX] reversed from its falling-wedge-like structure before pulling back into bearish clutches. For over eight weeks, the sellers strived to breach the $0.063-support (now resistance). The recent [&#8230;] ... [| Skaityti daugiau](https://ambcrypto.com/tron-trx-the-technical-hurdles-to-consider-before-taking-a-long-position/) "
      ],
      "text/plain": [
       "<IPython.core.display.Markdown object>"
      ]
     },
     "execution_count": 6,
     "metadata": {},
     "output_type": "execute_result"
    }
   ],
   "source": [
    "#hide_input\n",
    "#md('##### {}'.format(titleBTC)) \n",
    "md(\"- {}{} {}{} [| Skaityti daugiau]({}) \".format(trx['title'],'. ', trx['body'], ' ...', trx['url']))"
   ]
  },
  {
   "cell_type": "code",
   "execution_count": 7,
   "id": "illegal-greece",
   "metadata": {
    "execution": {
     "iopub.execute_input": "2022-09-08T03:40:19.394254Z",
     "iopub.status.busy": "2022-09-08T03:40:19.391747Z",
     "iopub.status.idle": "2022-09-08T03:40:19.397084Z",
     "shell.execute_reply": "2022-09-08T03:40:19.397613Z"
    },
    "papermill": {
     "duration": 0.022795,
     "end_time": "2022-09-08T03:40:19.397769",
     "exception": false,
     "start_time": "2022-09-08T03:40:19.374974",
     "status": "completed"
    },
    "tags": []
   },
   "outputs": [
    {
     "data": {
      "text/markdown": [
       "- Ethereum Trims Losses and Rallies While Bitcoin Lacks Momentum.  Bitcoin price extended losses and traded close to USD 18,500. BTC formed a base and started an upside correction above USD 19,000. It is currently (04:00 UTC) facing a major resistance near the USD 19,500 pivot zone. Besides, most major altcoins managed to trim most losses and recovered. ETH rallied over 8% and climbed above USD 1,620. XRP is approaching the USD 0.335 resistance. ADA might clear the USD 0.48 resistance zone....Read More: Ethereum Trims Losses and Rallies While Bitcoin Lacks Momentum ... [| Skaityti daugiau](https://cryptonews.com/news/ethereum-trims-losses-rallies-while-bitcoin-lacks-momentum.htm) "
      ],
      "text/plain": [
       "<IPython.core.display.Markdown object>"
      ]
     },
     "execution_count": 7,
     "metadata": {},
     "output_type": "execute_result"
    }
   ],
   "source": [
    "#hide_input\n",
    "#md('##### {}'.format(titleBTC)) \n",
    "md(\"- {}{} {}{} [| Skaityti daugiau]({}) \".format(eth['title'],'. ', eth['body'], ' ...', eth['url']))"
   ]
  },
  {
   "cell_type": "code",
   "execution_count": 8,
   "id": "sublime-lounge",
   "metadata": {
    "execution": {
     "iopub.execute_input": "2022-09-08T03:40:19.430538Z",
     "iopub.status.busy": "2022-09-08T03:40:19.428408Z",
     "iopub.status.idle": "2022-09-08T03:40:19.434882Z",
     "shell.execute_reply": "2022-09-08T03:40:19.434340Z"
    },
    "papermill": {
     "duration": 0.023957,
     "end_time": "2022-09-08T03:40:19.435026",
     "exception": false,
     "start_time": "2022-09-08T03:40:19.411069",
     "status": "completed"
    },
    "tags": []
   },
   "outputs": [
    {
     "data": {
      "text/markdown": [
       "- Ethereum Trims Losses and Rallies While Bitcoin Lacks Momentum.  Bitcoin price extended losses and traded close to USD 18,500. BTC formed a base and started an upside correction above USD 19,000. It is currently (04:00 UTC) facing a major resistance near the USD 19,500 pivot zone. Besides, most major altcoins managed to trim most losses and recovered. ETH rallied over 8% and climbed above USD 1,620. XRP is approaching the USD 0.335 resistance. ADA might clear the USD 0.48 resistance zone....Read More: Ethereum Trims Losses and Rallies While Bitcoin Lacks Momentum ... [| Skaityti daugiau](https://cryptonews.com/news/ethereum-trims-losses-rallies-while-bitcoin-lacks-momentum.htm) "
      ],
      "text/plain": [
       "<IPython.core.display.Markdown object>"
      ]
     },
     "execution_count": 8,
     "metadata": {},
     "output_type": "execute_result"
    }
   ],
   "source": [
    "#hide_input\n",
    "#md('##### {}'.format(titleBTC)) \n",
    "md(\"- {}{} {}{} [| Skaityti daugiau]({}) \".format(ada['title'],'. ', ada['body'], ' ...', ada['url']))"
   ]
  },
  {
   "cell_type": "code",
   "execution_count": 9,
   "id": "specified-ordering",
   "metadata": {
    "execution": {
     "iopub.execute_input": "2022-09-08T03:40:19.466104Z",
     "iopub.status.busy": "2022-09-08T03:40:19.465370Z",
     "iopub.status.idle": "2022-09-08T03:40:19.472069Z",
     "shell.execute_reply": "2022-09-08T03:40:19.471509Z"
    },
    "papermill": {
     "duration": 0.024562,
     "end_time": "2022-09-08T03:40:19.472189",
     "exception": false,
     "start_time": "2022-09-08T03:40:19.447627",
     "status": "completed"
    },
    "tags": []
   },
   "outputs": [
    {
     "data": {
      "text/markdown": [
       "- Celsius Had Been Insolvent Since 2019: Vermont Regulator.  Court filings claim the cryptocurrency exchange artificially inflated the price of its native CEL token. ... [| Skaityti daugiau](https://decrypt.co/109222/celsius-was-insolvent-since-2019-vermont-regulator) "
      ],
      "text/plain": [
       "<IPython.core.display.Markdown object>"
      ]
     },
     "execution_count": 9,
     "metadata": {},
     "output_type": "execute_result"
    }
   ],
   "source": [
    "#hide_input\n",
    "#md('##### {}'.format(titleBTC)) \n",
    "md(\"- {}{} {}{} [| Skaityti daugiau]({}) \".format(exchange['title'],'. ', exchange['body'], ' ...', exchange['url']))"
   ]
  },
  {
   "cell_type": "code",
   "execution_count": null,
   "id": "tender-livestock",
   "metadata": {
    "papermill": {
     "duration": 0.013021,
     "end_time": "2022-09-08T03:40:19.497863",
     "exception": false,
     "start_time": "2022-09-08T03:40:19.484842",
     "status": "completed"
    },
    "tags": []
   },
   "outputs": [],
   "source": []
  },
  {
   "cell_type": "code",
   "execution_count": null,
   "id": "appreciated-diamond",
   "metadata": {
    "papermill": {
     "duration": 0.012931,
     "end_time": "2022-09-08T03:40:19.523821",
     "exception": false,
     "start_time": "2022-09-08T03:40:19.510890",
     "status": "completed"
    },
    "tags": []
   },
   "outputs": [],
   "source": []
  },
  {
   "cell_type": "code",
   "execution_count": null,
   "id": "romance-sweden",
   "metadata": {
    "papermill": {
     "duration": 0.012755,
     "end_time": "2022-09-08T03:40:19.549124",
     "exception": false,
     "start_time": "2022-09-08T03:40:19.536369",
     "status": "completed"
    },
    "tags": []
   },
   "outputs": [],
   "source": []
  },
  {
   "cell_type": "code",
   "execution_count": null,
   "id": "dietary-statistics",
   "metadata": {
    "papermill": {
     "duration": 0.013192,
     "end_time": "2022-09-08T03:40:19.575421",
     "exception": false,
     "start_time": "2022-09-08T03:40:19.562229",
     "status": "completed"
    },
    "tags": []
   },
   "outputs": [],
   "source": []
  }
 ],
 "metadata": {
  "kernelspec": {
   "display_name": "Python 3",
   "language": "python",
   "name": "python3"
  },
  "language_info": {
   "codemirror_mode": {
    "name": "ipython",
    "version": 3
   },
   "file_extension": ".py",
   "mimetype": "text/x-python",
   "name": "python",
   "nbconvert_exporter": "python",
   "pygments_lexer": "ipython3",
   "version": "3.6.15"
  },
  "papermill": {
   "default_parameters": {},
   "duration": 16.297182,
   "end_time": "2022-09-08T03:40:20.110321",
   "environment_variables": {},
   "exception": null,
   "input_path": "Market-News.ipynb",
   "output_path": "Market-News.ipynb",
   "parameters": {},
   "start_time": "2022-09-08T03:40:03.813139",
   "version": "2.2.2"
  }
 },
 "nbformat": 4,
 "nbformat_minor": 5
}