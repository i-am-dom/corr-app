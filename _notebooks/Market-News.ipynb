{
 "cells": [
  {
   "cell_type": "markdown",
   "id": "short-greensboro",
   "metadata": {
    "papermill": {
     "duration": 0.01288,
     "end_time": "2022-05-18T02:57:05.390229",
     "exception": false,
     "start_time": "2022-05-18T02:57:05.377349",
     "status": "completed"
    },
    "tags": []
   },
   "source": [
    "# Kriptovaliutų naujienos"
   ]
  },
  {
   "cell_type": "code",
   "execution_count": 1,
   "id": "functioning-knowing",
   "metadata": {
    "execution": {
     "iopub.execute_input": "2022-05-18T02:57:05.418207Z",
     "iopub.status.busy": "2022-05-18T02:57:05.417691Z",
     "iopub.status.idle": "2022-05-18T02:57:06.602558Z",
     "shell.execute_reply": "2022-05-18T02:57:06.602018Z"
    },
    "papermill": {
     "duration": 1.202956,
     "end_time": "2022-05-18T02:57:06.602704",
     "exception": false,
     "start_time": "2022-05-18T02:57:05.399748",
     "status": "completed"
    },
    "tags": []
   },
   "outputs": [],
   "source": [
    "#hide_input\n",
    "import warnings\n",
    "warnings.filterwarnings('ignore')\n",
    "from scripts.read_data import read_api\n",
    "from scripts.read_data import read_news\n",
    "from scripts.read_data import read_covid\n",
    "import matplotlib.pyplot as plt \n",
    "from IPython.display import Markdown as md"
   ]
  },
  {
   "cell_type": "code",
   "execution_count": 2,
   "id": "shared-acceptance",
   "metadata": {
    "execution": {
     "iopub.execute_input": "2022-05-18T02:57:06.627955Z",
     "iopub.status.busy": "2022-05-18T02:57:06.627452Z",
     "iopub.status.idle": "2022-05-18T02:57:18.580846Z",
     "shell.execute_reply": "2022-05-18T02:57:18.581324Z"
    },
    "papermill": {
     "duration": 11.968838,
     "end_time": "2022-05-18T02:57:18.581483",
     "exception": false,
     "start_time": "2022-05-18T02:57:06.612645",
     "status": "completed"
    },
    "tags": []
   },
   "outputs": [],
   "source": [
    "#hide_input\n",
    "blockchain = read_news('blockchain') \n",
    "btc = read_news('btc') \n",
    "xrp = read_news('xrp') \n",
    "trx = read_news('trx') \n",
    "eth = read_news('eth')  \n",
    "ada = read_news('ada')\n",
    "exchange = read_news('exchange') "
   ]
  },
  {
   "cell_type": "code",
   "execution_count": 3,
   "id": "synthetic-notion",
   "metadata": {
    "execution": {
     "iopub.execute_input": "2022-05-18T02:57:18.606633Z",
     "iopub.status.busy": "2022-05-18T02:57:18.606061Z",
     "iopub.status.idle": "2022-05-18T02:57:18.608207Z",
     "shell.execute_reply": "2022-05-18T02:57:18.608677Z"
    },
    "papermill": {
     "duration": 0.017144,
     "end_time": "2022-05-18T02:57:18.608803",
     "exception": false,
     "start_time": "2022-05-18T02:57:18.591659",
     "status": "completed"
    },
    "tags": []
   },
   "outputs": [
    {
     "data": {
      "text/markdown": [
       "- Advantages of Decentralized Finance Protocols Creating More Applications.  Today, cryptocurrencies have developed into a trillion-dollar ecosystem that is making a lot of impacts on the global financial system. Cryptocurrencies have a long history of innovation, dating back to the 1980s with the introduction of encryption. Since then, several events have occurred that have changed the crypto world, with Bitcoin and Decentralized Finance (DeFi) being the most significant. Even though Bitcoin has expanded significantly over the last 12 years, financial services have been reluctant to evolve. This is primarily due to Bitcoin’s insecurity and the fact that few people use it. In addition, because Bitcoin’s price fluctuates so dramatically, most financial institutions don’t consider investing in it. As a result, Bitcoin has become a poor asset to invest in. Decentralized finance (DeFi) is a current trend in the cryptocurrency ecosystem that is making a lot of impacts these days. If you don’t know much about DeFi, let’s dive into it and learn more about it. What is DeFi? DeFi is an acronym that stands for “decentralized finance.” It is a term for a diverse set of public blockchain apps and projects that aspire to transform the way traditional finance operates. DeFi refers to financial applications that use smart contracts built on blockchain technology. Smart contracts can carry out agreements automatically and without the involvement of a middleman. Anyone with an internet connection can access them. DeFi ... ... [| Skaityti daugiau](https://www.cryptoknowmics.com/news/advantages-of-decentralized-finance-protocols-creating-more-applications/?utm_source=rss&utm_medium=rss&utm_campaign=advantages-of-decentralized-finance-protocols-creating-more-applications) "
      ],
      "text/plain": [
       "<IPython.core.display.Markdown object>"
      ]
     },
     "execution_count": 3,
     "metadata": {},
     "output_type": "execute_result"
    }
   ],
   "source": [
    "#hide_input\n",
    "#md('##### {}'.format(titleBTC)) \n",
    "md(\"- {}{} {}{} [| Skaityti daugiau]({}) \".format(blockchain['title'],'. ', blockchain['body'], ' ...', blockchain['url']))"
   ]
  },
  {
   "cell_type": "code",
   "execution_count": 4,
   "id": "aging-caution",
   "metadata": {
    "execution": {
     "iopub.execute_input": "2022-05-18T02:57:18.631466Z",
     "iopub.status.busy": "2022-05-18T02:57:18.630911Z",
     "iopub.status.idle": "2022-05-18T02:57:18.633464Z",
     "shell.execute_reply": "2022-05-18T02:57:18.633843Z"
    },
    "papermill": {
     "duration": 0.015878,
     "end_time": "2022-05-18T02:57:18.633955",
     "exception": false,
     "start_time": "2022-05-18T02:57:18.618077",
     "status": "completed"
    },
    "tags": []
   },
   "outputs": [
    {
     "data": {
      "text/markdown": [
       "- Why Should We Put All Trust in Web3? Could It Be a Dead End?.  At first, everyone was content communicating with one another via the Internet. Everyone was happy whenever bits were sent correctly. Then, after decades of sending bits in increasingly larger chunks, some people began to wonder if we could do better. Maybe there’s something we can do to make things a little better? Some believe that the term Web3 is the answer. But unfortunately, there is no official committee, and everyone has their interpretation of what these four letters mean. Still, the goal is the same: to find a way to bring the certainty and security of cryptocurrencies to the rest of the internet. Why Should We Trust Web3? There are different reasons why we should put our trust in Web3. The reasons are as follows: Decentralized control helps everyone One of the original goals of the Internet was to create a network that was not controlled by a single entity. Web3 supports this notion and believes that no single person or group should be in charge of transactions. This decentralized and shared control concept can be applied to all aspects of the market and daily life. Of course, some may think it’s silly to be concerned about power and control over some of the least important parts of the Internet. Still, a quick look at history reveals that the world has many reasons to be concerned about centralized power. Web3 wishes to protect us from all of them. Web3 will use better protocols Even though Bitcoin consumes a lot o... ... [| Skaityti daugiau](https://www.cryptoknowmics.com/news/why-should-we-put-all-trust-in-web3-could-it-be-a-dead-end/?utm_source=rss&utm_medium=rss&utm_campaign=why-should-we-put-all-trust-in-web3-could-it-be-a-dead-end) "
      ],
      "text/plain": [
       "<IPython.core.display.Markdown object>"
      ]
     },
     "execution_count": 4,
     "metadata": {},
     "output_type": "execute_result"
    }
   ],
   "source": [
    "#hide_input\n",
    "#md('##### {}'.format(titleBTC)) \n",
    "md(\"- {}{} {}{} [| Skaityti daugiau]({}) \".format(btc['title'],'. ', btc['body'], ' ...', btc['url']))"
   ]
  },
  {
   "cell_type": "code",
   "execution_count": 5,
   "id": "organic-actress",
   "metadata": {
    "execution": {
     "iopub.execute_input": "2022-05-18T02:57:18.657274Z",
     "iopub.status.busy": "2022-05-18T02:57:18.656727Z",
     "iopub.status.idle": "2022-05-18T02:57:18.659857Z",
     "shell.execute_reply": "2022-05-18T02:57:18.659457Z"
    },
    "papermill": {
     "duration": 0.016477,
     "end_time": "2022-05-18T02:57:18.659952",
     "exception": false,
     "start_time": "2022-05-18T02:57:18.643475",
     "status": "completed"
    },
    "tags": []
   },
   "outputs": [
    {
     "data": {
      "text/markdown": [
       "- Decoding why BTC, XRP, ADA-focused investment products saw ‘pity’ inflows.  Investors in the cryptocurrency universe went scrambling after the dramatic crash of the stablecoin TerraUSD. This sudden fall triggered a sell-off and chaotic situation within the crypto market. Despite the traumatic turn of events, investors may still have faith in digital assets as digital asset investment products are witnessing inflows. Year&#8217;s highest inflows Last week, [&#8230;] ... [| Skaityti daugiau](https://ambcrypto.com/digital-asset-funds-see-years-highest-inflow-of-274-million-thanks-to/) "
      ],
      "text/plain": [
       "<IPython.core.display.Markdown object>"
      ]
     },
     "execution_count": 5,
     "metadata": {},
     "output_type": "execute_result"
    }
   ],
   "source": [
    "#hide_input\n",
    "#md('##### {}'.format(titleBTC)) \n",
    "md(\"- {}{} {}{} [| Skaityti daugiau]({}) \".format(xrp['title'],'. ', xrp['body'], ' ...', xrp['url']))"
   ]
  },
  {
   "cell_type": "code",
   "execution_count": 6,
   "id": "prompt-farmer",
   "metadata": {
    "execution": {
     "iopub.execute_input": "2022-05-18T02:57:18.683758Z",
     "iopub.status.busy": "2022-05-18T02:57:18.683260Z",
     "iopub.status.idle": "2022-05-18T02:57:18.686430Z",
     "shell.execute_reply": "2022-05-18T02:57:18.686030Z"
    },
    "papermill": {
     "duration": 0.016838,
     "end_time": "2022-05-18T02:57:18.686527",
     "exception": false,
     "start_time": "2022-05-18T02:57:18.669689",
     "status": "completed"
    },
    "tags": []
   },
   "outputs": [
    {
     "data": {
      "text/markdown": [
       "- TRON [TRX] saw high volatility in May, could bulls be in the driving seat.  Disclaimer: The findings of the following analysis are the sole opinions of the writer and should not be considered investment advice The TRON DAO acquired millions of dollars worth of Bitcoin and TRX to safeguard the algorithmic stablecoin USDD. This saw a large spike in the market capitalization of the coin, as prices soared in the [&#8230;] ... [| Skaityti daugiau](https://ambcrypto.com/tron-trx-saw-high-volatility-in-may-could-bulls-be-in-the-driving-seat/) "
      ],
      "text/plain": [
       "<IPython.core.display.Markdown object>"
      ]
     },
     "execution_count": 6,
     "metadata": {},
     "output_type": "execute_result"
    }
   ],
   "source": [
    "#hide_input\n",
    "#md('##### {}'.format(titleBTC)) \n",
    "md(\"- {}{} {}{} [| Skaityti daugiau]({}) \".format(trx['title'],'. ', trx['body'], ' ...', trx['url']))"
   ]
  },
  {
   "cell_type": "code",
   "execution_count": 7,
   "id": "illegal-greece",
   "metadata": {
    "execution": {
     "iopub.execute_input": "2022-05-18T02:57:18.710780Z",
     "iopub.status.busy": "2022-05-18T02:57:18.710282Z",
     "iopub.status.idle": "2022-05-18T02:57:18.712880Z",
     "shell.execute_reply": "2022-05-18T02:57:18.713258Z"
    },
    "papermill": {
     "duration": 0.016581,
     "end_time": "2022-05-18T02:57:18.713367",
     "exception": false,
     "start_time": "2022-05-18T02:57:18.696786",
     "status": "completed"
    },
    "tags": []
   },
   "outputs": [
    {
     "data": {
      "text/markdown": [
       "- Ethereum’s popularity 'a double-edged sword’ — a16z's State of Crypto Report.  “Ethereum’s overwhelming mindshare helps explain why its users have been willing to pay more than $15 million in fees per day on average just to use the blockchain,” a16z stated.  ... [| Skaityti daugiau](https://cointelegraph.com/news/ethereum-s-popularity-a-double-edged-sword-a16z-s-state-of-crypto-report) "
      ],
      "text/plain": [
       "<IPython.core.display.Markdown object>"
      ]
     },
     "execution_count": 7,
     "metadata": {},
     "output_type": "execute_result"
    }
   ],
   "source": [
    "#hide_input\n",
    "#md('##### {}'.format(titleBTC)) \n",
    "md(\"- {}{} {}{} [| Skaityti daugiau]({}) \".format(eth['title'],'. ', eth['body'], ' ...', eth['url']))"
   ]
  },
  {
   "cell_type": "code",
   "execution_count": 8,
   "id": "sublime-lounge",
   "metadata": {
    "execution": {
     "iopub.execute_input": "2022-05-18T02:57:18.738163Z",
     "iopub.status.busy": "2022-05-18T02:57:18.737125Z",
     "iopub.status.idle": "2022-05-18T02:57:18.740697Z",
     "shell.execute_reply": "2022-05-18T02:57:18.741106Z"
    },
    "papermill": {
     "duration": 0.017504,
     "end_time": "2022-05-18T02:57:18.741214",
     "exception": false,
     "start_time": "2022-05-18T02:57:18.723710",
     "status": "completed"
    },
    "tags": []
   },
   "outputs": [
    {
     "data": {
      "text/markdown": [
       "- Cardano Whale Transactions Hit 4-Month High After $ADA Price Bottom.  Cardano ($ADA) whale transactions have recently shot up to a 4-month high after the price of the cryptocurrency plunged to a bottom at $0.40 earlier this year. Whales were seemingly buying the dip ahead of an upcoming hard fork that will improve the network’s performance. According to on-chain analytics firm Santiment, ADA whale transactions – […] ... [| Skaityti daugiau](https://www.cryptoglobe.com/latest/2022/05/cardano-whale-transactions-hit-4-month-high-after-ada-price-bottom/) "
      ],
      "text/plain": [
       "<IPython.core.display.Markdown object>"
      ]
     },
     "execution_count": 8,
     "metadata": {},
     "output_type": "execute_result"
    }
   ],
   "source": [
    "#hide_input\n",
    "#md('##### {}'.format(titleBTC)) \n",
    "md(\"- {}{} {}{} [| Skaityti daugiau]({}) \".format(ada['title'],'. ', ada['body'], ' ...', ada['url']))"
   ]
  },
  {
   "cell_type": "code",
   "execution_count": 9,
   "id": "specified-ordering",
   "metadata": {
    "execution": {
     "iopub.execute_input": "2022-05-18T02:57:18.767472Z",
     "iopub.status.busy": "2022-05-18T02:57:18.766441Z",
     "iopub.status.idle": "2022-05-18T02:57:18.769990Z",
     "shell.execute_reply": "2022-05-18T02:57:18.770372Z"
    },
    "papermill": {
     "duration": 0.018266,
     "end_time": "2022-05-18T02:57:18.770481",
     "exception": false,
     "start_time": "2022-05-18T02:57:18.752215",
     "status": "completed"
    },
    "tags": []
   },
   "outputs": [
    {
     "data": {
      "text/markdown": [
       "- Coingecko Vs. CoinMarketCap, Which is Best Crypto Tracking Platform?.  Just like the traditional finance market relies on day-to-day analytics, so does the crypto industry. Considering that crypto is becoming mainstream, understanding the market through daily analytics is vital for successful cryptocurrency investors. As such, platforms that assist in aggregating the cryptocurrency market data are becoming essential sources of information. It’s done through tracking data movement of prices, exchange trading volumes, listed coins, trading pairs, and the state of the crypto market. These analytics platforms keep adding new metrics as well as refining existing ones. Among the leading crypto market analytics platforms are CoinGecko and CoinMarketCap. Both serve a common purpose. However, they exhibit different features that favor different kinds of investors in the cryptocurrency industry. Keeping that in mind, this article breaks down the major differences between the two leading crypto analytics platforms; CoinGecko and CoinMarketCap. CoinMarketCap Being a top analytics platform, CoinMarketCap is considered the leading price tracking and market aggregation platform for crypto in the world. Founded in 2013, CoinMarketCap quickly became a leading analytics platform that was a source of information for both companies and private users. The major aim of the platform is to provide crypto enthusiasts with accurate, unbiased, high-quality information for better-informed decision-making by comparing these ... ... [| Skaityti daugiau](https://www.cryptoknowmics.com/news/coingecko-vs-coinmarketcap-which-is-best-crypto-tracking-platform/?utm_source=rss&utm_medium=rss&utm_campaign=coingecko-vs-coinmarketcap-which-is-best-crypto-tracking-platform) "
      ],
      "text/plain": [
       "<IPython.core.display.Markdown object>"
      ]
     },
     "execution_count": 9,
     "metadata": {},
     "output_type": "execute_result"
    }
   ],
   "source": [
    "#hide_input\n",
    "#md('##### {}'.format(titleBTC)) \n",
    "md(\"- {}{} {}{} [| Skaityti daugiau]({}) \".format(exchange['title'],'. ', exchange['body'], ' ...', exchange['url']))"
   ]
  },
  {
   "cell_type": "code",
   "execution_count": null,
   "id": "tender-livestock",
   "metadata": {
    "papermill": {
     "duration": 0.011085,
     "end_time": "2022-05-18T02:57:18.792652",
     "exception": false,
     "start_time": "2022-05-18T02:57:18.781567",
     "status": "completed"
    },
    "tags": []
   },
   "outputs": [],
   "source": []
  },
  {
   "cell_type": "code",
   "execution_count": null,
   "id": "appreciated-diamond",
   "metadata": {
    "papermill": {
     "duration": 0.011025,
     "end_time": "2022-05-18T02:57:18.814865",
     "exception": false,
     "start_time": "2022-05-18T02:57:18.803840",
     "status": "completed"
    },
    "tags": []
   },
   "outputs": [],
   "source": []
  },
  {
   "cell_type": "code",
   "execution_count": null,
   "id": "romance-sweden",
   "metadata": {
    "papermill": {
     "duration": 0.011056,
     "end_time": "2022-05-18T02:57:18.837976",
     "exception": false,
     "start_time": "2022-05-18T02:57:18.826920",
     "status": "completed"
    },
    "tags": []
   },
   "outputs": [],
   "source": []
  },
  {
   "cell_type": "code",
   "execution_count": null,
   "id": "dietary-statistics",
   "metadata": {
    "papermill": {
     "duration": 0.010958,
     "end_time": "2022-05-18T02:57:18.859947",
     "exception": false,
     "start_time": "2022-05-18T02:57:18.848989",
     "status": "completed"
    },
    "tags": []
   },
   "outputs": [],
   "source": []
  }
 ],
 "metadata": {
  "kernelspec": {
   "display_name": "Python 3",
   "language": "python",
   "name": "python3"
  },
  "language_info": {
   "codemirror_mode": {
    "name": "ipython",
    "version": 3
   },
   "file_extension": ".py",
   "mimetype": "text/x-python",
   "name": "python",
   "nbconvert_exporter": "python",
   "pygments_lexer": "ipython3",
   "version": "3.6.15"
  },
  "papermill": {
   "default_parameters": {},
   "duration": 14.819792,
   "end_time": "2022-05-18T02:57:19.289840",
   "environment_variables": {},
   "exception": null,
   "input_path": "Market-News.ipynb",
   "output_path": "Market-News.ipynb",
   "parameters": {},
   "start_time": "2022-05-18T02:57:04.470048",
   "version": "2.2.2"
  }
 },
 "nbformat": 4,
 "nbformat_minor": 5
}