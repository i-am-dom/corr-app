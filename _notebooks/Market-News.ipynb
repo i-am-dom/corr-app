{
 "cells": [
  {
   "cell_type": "markdown",
   "id": "short-greensboro",
   "metadata": {
    "papermill": {
     "duration": 0.017414,
     "end_time": "2021-11-21T02:02:15.912542",
     "exception": false,
     "start_time": "2021-11-21T02:02:15.895128",
     "status": "completed"
    },
    "tags": []
   },
   "source": [
    "# Kriptovaliutų naujienos"
   ]
  },
  {
   "cell_type": "code",
   "execution_count": 1,
   "id": "functioning-knowing",
   "metadata": {
    "execution": {
     "iopub.execute_input": "2021-11-21T02:02:15.950037Z",
     "iopub.status.busy": "2021-11-21T02:02:15.949241Z",
     "iopub.status.idle": "2021-11-21T02:02:17.655632Z",
     "shell.execute_reply": "2021-11-21T02:02:17.655021Z"
    },
    "papermill": {
     "duration": 1.730993,
     "end_time": "2021-11-21T02:02:17.655787",
     "exception": false,
     "start_time": "2021-11-21T02:02:15.924794",
     "status": "completed"
    },
    "tags": []
   },
   "outputs": [],
   "source": [
    "#hide_input\n",
    "import warnings\n",
    "warnings.filterwarnings('ignore')\n",
    "from scripts.read_data import read_api\n",
    "from scripts.read_data import read_news\n",
    "from scripts.read_data import read_covid\n",
    "import matplotlib.pyplot as plt \n",
    "from IPython.display import Markdown as md"
   ]
  },
  {
   "cell_type": "code",
   "execution_count": 2,
   "id": "shared-acceptance",
   "metadata": {
    "execution": {
     "iopub.execute_input": "2021-11-21T02:02:17.691879Z",
     "iopub.status.busy": "2021-11-21T02:02:17.690705Z",
     "iopub.status.idle": "2021-11-21T02:02:26.906356Z",
     "shell.execute_reply": "2021-11-21T02:02:26.905333Z"
    },
    "papermill": {
     "duration": 9.237335,
     "end_time": "2021-11-21T02:02:26.906494",
     "exception": false,
     "start_time": "2021-11-21T02:02:17.669159",
     "status": "completed"
    },
    "tags": []
   },
   "outputs": [],
   "source": [
    "#hide_input\n",
    "blockchain = read_news('blockchain') \n",
    "btc = read_news('btc') \n",
    "xrp = read_news('xrp') \n",
    "trx = read_news('trx') \n",
    "eth = read_news('eth')  \n",
    "ada = read_news('ada')\n",
    "exchange = read_news('exchange') "
   ]
  },
  {
   "cell_type": "code",
   "execution_count": 3,
   "id": "synthetic-notion",
   "metadata": {
    "execution": {
     "iopub.execute_input": "2021-11-21T02:02:26.937484Z",
     "iopub.status.busy": "2021-11-21T02:02:26.936855Z",
     "iopub.status.idle": "2021-11-21T02:02:26.939433Z",
     "shell.execute_reply": "2021-11-21T02:02:26.940028Z"
    },
    "papermill": {
     "duration": 0.022005,
     "end_time": "2021-11-21T02:02:26.940176",
     "exception": false,
     "start_time": "2021-11-21T02:02:26.918171",
     "status": "completed"
    },
    "tags": []
   },
   "outputs": [
    {
     "data": {
      "text/markdown": [
       "- XRP prices suppressed due to SEC lawsuit, strong fundamentals driving interest.  Its been a hard year for Ripple, with the cryptocurrency and blockchain company facing legal action from the United States Securities and Exchange Commission along leading to many users and crypto companies in the country breaking their ties with the company. Despite these setbacks, Ripple seems to be more popular than ever, with its daily [&#8230;] ... [| Skaityti daugiau](https://ambcrypto.com/xrp-prices-suppressed-due-to-sec-lawsuit-strong-fundamentals-driving-interest/) "
      ],
      "text/plain": [
       "<IPython.core.display.Markdown object>"
      ]
     },
     "execution_count": 3,
     "metadata": {},
     "output_type": "execute_result"
    }
   ],
   "source": [
    "#hide_input\n",
    "#md('##### {}'.format(titleBTC)) \n",
    "md(\"- {}{} {}{} [| Skaityti daugiau]({}) \".format(blockchain['title'],'. ', blockchain['body'], ' ...', blockchain['url']))"
   ]
  },
  {
   "cell_type": "code",
   "execution_count": 4,
   "id": "aging-caution",
   "metadata": {
    "execution": {
     "iopub.execute_input": "2021-11-21T02:02:26.968970Z",
     "iopub.status.busy": "2021-11-21T02:02:26.968243Z",
     "iopub.status.idle": "2021-11-21T02:02:26.973443Z",
     "shell.execute_reply": "2021-11-21T02:02:26.974026Z"
    },
    "papermill": {
     "duration": 0.022206,
     "end_time": "2021-11-21T02:02:26.974184",
     "exception": false,
     "start_time": "2021-11-21T02:02:26.951978",
     "status": "completed"
    },
    "tags": []
   },
   "outputs": [
    {
     "data": {
      "text/markdown": [
       "- Microstrategy CEO Discusses Bitcoin Becoming $100 Trillion Asset Class — Says BTC Will Grow 100X.  The CEO of Microstrategy says that bitcoin will emerge as a $100 trillion asset class and will grow 100X from where it is today. He said the cryptocurrency is winning against gold as a store of value and he is not worried about regulation. &#x201C;I&#x2019;m not at all troubled with the regulations that&#x2019;s going on [&#8230;] ... [| Skaityti daugiau](https://news.bitcoin.com/microstrategy-ceo-bitcoin-100-trillion-asset-class-btc-grow-100x/) "
      ],
      "text/plain": [
       "<IPython.core.display.Markdown object>"
      ]
     },
     "execution_count": 4,
     "metadata": {},
     "output_type": "execute_result"
    }
   ],
   "source": [
    "#hide_input\n",
    "#md('##### {}'.format(titleBTC)) \n",
    "md(\"- {}{} {}{} [| Skaityti daugiau]({}) \".format(btc['title'],'. ', btc['body'], ' ...', btc['url']))"
   ]
  },
  {
   "cell_type": "code",
   "execution_count": 5,
   "id": "organic-actress",
   "metadata": {
    "execution": {
     "iopub.execute_input": "2021-11-21T02:02:27.014129Z",
     "iopub.status.busy": "2021-11-21T02:02:27.013211Z",
     "iopub.status.idle": "2021-11-21T02:02:27.016003Z",
     "shell.execute_reply": "2021-11-21T02:02:27.016633Z"
    },
    "papermill": {
     "duration": 0.027756,
     "end_time": "2021-11-21T02:02:27.016820",
     "exception": false,
     "start_time": "2021-11-21T02:02:26.989064",
     "status": "completed"
    },
    "tags": []
   },
   "outputs": [
    {
     "data": {
      "text/markdown": [
       "- XRP prices suppressed due to SEC lawsuit, strong fundamentals driving interest.  Its been a hard year for Ripple, with the cryptocurrency and blockchain company facing legal action from the United States Securities and Exchange Commission along leading to many users and crypto companies in the country breaking their ties with the company. Despite these setbacks, Ripple seems to be more popular than ever, with its daily [&#8230;] ... [| Skaityti daugiau](https://ambcrypto.com/xrp-prices-suppressed-due-to-sec-lawsuit-strong-fundamentals-driving-interest/) "
      ],
      "text/plain": [
       "<IPython.core.display.Markdown object>"
      ]
     },
     "execution_count": 5,
     "metadata": {},
     "output_type": "execute_result"
    }
   ],
   "source": [
    "#hide_input\n",
    "#md('##### {}'.format(titleBTC)) \n",
    "md(\"- {}{} {}{} [| Skaityti daugiau]({}) \".format(xrp['title'],'. ', xrp['body'], ' ...', xrp['url']))"
   ]
  },
  {
   "cell_type": "code",
   "execution_count": 6,
   "id": "prompt-farmer",
   "metadata": {
    "execution": {
     "iopub.execute_input": "2021-11-21T02:02:27.051491Z",
     "iopub.status.busy": "2021-11-21T02:02:27.050776Z",
     "iopub.status.idle": "2021-11-21T02:02:27.053760Z",
     "shell.execute_reply": "2021-11-21T02:02:27.055927Z"
    },
    "papermill": {
     "duration": 0.025064,
     "end_time": "2021-11-21T02:02:27.056089",
     "exception": false,
     "start_time": "2021-11-21T02:02:27.031025",
     "status": "completed"
    },
    "tags": []
   },
   "outputs": [
    {
     "data": {
      "text/markdown": [
       "- Tron (TRX) Price Analysis: Bears In Action Below $0.11.  Tron price started a major decline from well above $0.1200 against the US Dollar. TRX price is now trading below $0.1100 and the 55 simple moving average (4-hours). There was a break below a key bullish trend line with support near $0.1100 on the 4-hours chart (data feed via Bitfinex). The pair could extend losses...The post Tron (TRX) Price Analysis: Bears In Action Below $0.11 appeared first on Live Bitcoin News. ... [| Skaityti daugiau](https://www.livebitcoinnews.com/tron-trx-price-analysis-bears-in-action-below-0-11/) "
      ],
      "text/plain": [
       "<IPython.core.display.Markdown object>"
      ]
     },
     "execution_count": 6,
     "metadata": {},
     "output_type": "execute_result"
    }
   ],
   "source": [
    "#hide_input\n",
    "#md('##### {}'.format(titleBTC)) \n",
    "md(\"- {}{} {}{} [| Skaityti daugiau]({}) \".format(trx['title'],'. ', trx['body'], ' ...', trx['url']))"
   ]
  },
  {
   "cell_type": "code",
   "execution_count": 7,
   "id": "illegal-greece",
   "metadata": {
    "execution": {
     "iopub.execute_input": "2021-11-21T02:02:27.090630Z",
     "iopub.status.busy": "2021-11-21T02:02:27.089926Z",
     "iopub.status.idle": "2021-11-21T02:02:27.095049Z",
     "shell.execute_reply": "2021-11-21T02:02:27.095685Z"
    },
    "papermill": {
     "duration": 0.025539,
     "end_time": "2021-11-21T02:02:27.095829",
     "exception": false,
     "start_time": "2021-11-21T02:02:27.070290",
     "status": "completed"
    },
    "tags": []
   },
   "outputs": [
    {
     "data": {
      "text/markdown": [
       "- These factors will be ‘major catalysts’ for ‘exponential’ rise in Bitcoin, Ethereum prices.  Two of the largest cryptocurrency tokens, Bitcoin and Ethereum have defied several odds over the years. Bitcoin was roughly flat over the past 24 hours, suggesting that investor enthusiasm over the Bitcoin blockchain’s Taproot upgrade over the week, is starting to fade. Ethereum, the largest altcoin suffered a few speculations as well, post-upgrade. Nonetheless, both [&#8230;] ... [| Skaityti daugiau](https://ambcrypto.com/these-factors-will-be-major-catalysts-for-exponential-rise-in-bitcoin-ethereum-prices/) "
      ],
      "text/plain": [
       "<IPython.core.display.Markdown object>"
      ]
     },
     "execution_count": 7,
     "metadata": {},
     "output_type": "execute_result"
    }
   ],
   "source": [
    "#hide_input\n",
    "#md('##### {}'.format(titleBTC)) \n",
    "md(\"- {}{} {}{} [| Skaityti daugiau]({}) \".format(eth['title'],'. ', eth['body'], ' ...', eth['url']))"
   ]
  },
  {
   "cell_type": "code",
   "execution_count": 8,
   "id": "sublime-lounge",
   "metadata": {
    "execution": {
     "iopub.execute_input": "2021-11-21T02:02:27.130607Z",
     "iopub.status.busy": "2021-11-21T02:02:27.129918Z",
     "iopub.status.idle": "2021-11-21T02:02:27.134970Z",
     "shell.execute_reply": "2021-11-21T02:02:27.135549Z"
    },
    "papermill": {
     "duration": 0.024922,
     "end_time": "2021-11-21T02:02:27.135742",
     "exception": false,
     "start_time": "2021-11-21T02:02:27.110820",
     "status": "completed"
    },
    "tags": []
   },
   "outputs": [
    {
     "data": {
      "text/markdown": [
       "- Cardano (ADA) Price 200% Upswing! Traders Keep Eye On These Entry Levels.  The post Cardano (ADA) Price 200% Upswing! Traders Keep Eye On These Entry Levels appeared first on Coinpedia - Fintech &amp; Cryptocurreny News Media| Crypto GuideThe crypto street has risen from its shadows, digital coins from the crypto market are rising towards reclaiming the lost profits. The rebound of the market has filled the space with enthusiasm, which traders and investors have been waiting for. Cardano has also surged alongside fellow digital assets in the crypto market. The sluggish market &#8230; ... [| Skaityti daugiau](https://coinpedia.org/price-analysis/cardano-ada-price-entry-levels/) "
      ],
      "text/plain": [
       "<IPython.core.display.Markdown object>"
      ]
     },
     "execution_count": 8,
     "metadata": {},
     "output_type": "execute_result"
    }
   ],
   "source": [
    "#hide_input\n",
    "#md('##### {}'.format(titleBTC)) \n",
    "md(\"- {}{} {}{} [| Skaityti daugiau]({}) \".format(ada['title'],'. ', ada['body'], ' ...', ada['url']))"
   ]
  },
  {
   "cell_type": "code",
   "execution_count": 9,
   "id": "specified-ordering",
   "metadata": {
    "execution": {
     "iopub.execute_input": "2021-11-21T02:02:27.170429Z",
     "iopub.status.busy": "2021-11-21T02:02:27.169751Z",
     "iopub.status.idle": "2021-11-21T02:02:27.172497Z",
     "shell.execute_reply": "2021-11-21T02:02:27.173008Z"
    },
    "papermill": {
     "duration": 0.023288,
     "end_time": "2021-11-21T02:02:27.173153",
     "exception": false,
     "start_time": "2021-11-21T02:02:27.149865",
     "status": "completed"
    },
    "tags": []
   },
   "outputs": [
    {
     "data": {
      "text/markdown": [
       "- XRP prices suppressed due to SEC lawsuit, strong fundamentals driving interest.  Its been a hard year for Ripple, with the cryptocurrency and blockchain company facing legal action from the United States Securities and Exchange Commission along leading to many users and crypto companies in the country breaking their ties with the company. Despite these setbacks, Ripple seems to be more popular than ever, with its daily [&#8230;] ... [| Skaityti daugiau](https://ambcrypto.com/xrp-prices-suppressed-due-to-sec-lawsuit-strong-fundamentals-driving-interest/) "
      ],
      "text/plain": [
       "<IPython.core.display.Markdown object>"
      ]
     },
     "execution_count": 9,
     "metadata": {},
     "output_type": "execute_result"
    }
   ],
   "source": [
    "#hide_input\n",
    "#md('##### {}'.format(titleBTC)) \n",
    "md(\"- {}{} {}{} [| Skaityti daugiau]({}) \".format(exchange['title'],'. ', exchange['body'], ' ...', exchange['url']))"
   ]
  },
  {
   "cell_type": "code",
   "execution_count": null,
   "id": "tender-livestock",
   "metadata": {
    "papermill": {
     "duration": 0.01589,
     "end_time": "2021-11-21T02:02:27.204757",
     "exception": false,
     "start_time": "2021-11-21T02:02:27.188867",
     "status": "completed"
    },
    "tags": []
   },
   "outputs": [],
   "source": []
  },
  {
   "cell_type": "code",
   "execution_count": null,
   "id": "appreciated-diamond",
   "metadata": {
    "papermill": {
     "duration": 0.014558,
     "end_time": "2021-11-21T02:02:27.233994",
     "exception": false,
     "start_time": "2021-11-21T02:02:27.219436",
     "status": "completed"
    },
    "tags": []
   },
   "outputs": [],
   "source": []
  },
  {
   "cell_type": "code",
   "execution_count": null,
   "id": "romance-sweden",
   "metadata": {
    "papermill": {
     "duration": 0.014637,
     "end_time": "2021-11-21T02:02:27.262515",
     "exception": false,
     "start_time": "2021-11-21T02:02:27.247878",
     "status": "completed"
    },
    "tags": []
   },
   "outputs": [],
   "source": []
  },
  {
   "cell_type": "code",
   "execution_count": null,
   "id": "dietary-statistics",
   "metadata": {
    "papermill": {
     "duration": 0.014007,
     "end_time": "2021-11-21T02:02:27.290641",
     "exception": false,
     "start_time": "2021-11-21T02:02:27.276634",
     "status": "completed"
    },
    "tags": []
   },
   "outputs": [],
   "source": []
  }
 ],
 "metadata": {
  "kernelspec": {
   "display_name": "Python 3",
   "language": "python",
   "name": "python3"
  },
  "language_info": {
   "codemirror_mode": {
    "name": "ipython",
    "version": 3
   },
   "file_extension": ".py",
   "mimetype": "text/x-python",
   "name": "python",
   "nbconvert_exporter": "python",
   "pygments_lexer": "ipython3",
   "version": "3.6.15"
  },
  "papermill": {
   "default_parameters": {},
   "duration": 13.082237,
   "end_time": "2021-11-21T02:02:27.813803",
   "environment_variables": {},
   "exception": null,
   "input_path": "Market-News.ipynb",
   "output_path": "Market-News.ipynb",
   "parameters": {},
   "start_time": "2021-11-21T02:02:14.731566",
   "version": "2.2.2"
  }
 },
 "nbformat": 4,
 "nbformat_minor": 5
}