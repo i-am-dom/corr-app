{
 "cells": [
  {
   "cell_type": "markdown",
   "id": "short-greensboro",
   "metadata": {
    "papermill": {
     "duration": 0.012867,
     "end_time": "2021-12-23T02:05:39.346759",
     "exception": false,
     "start_time": "2021-12-23T02:05:39.333892",
     "status": "completed"
    },
    "tags": []
   },
   "source": [
    "# Kriptovaliutų naujienos"
   ]
  },
  {
   "cell_type": "code",
   "execution_count": 1,
   "id": "functioning-knowing",
   "metadata": {
    "execution": {
     "iopub.execute_input": "2021-12-23T02:05:39.374388Z",
     "iopub.status.busy": "2021-12-23T02:05:39.373935Z",
     "iopub.status.idle": "2021-12-23T02:05:40.650236Z",
     "shell.execute_reply": "2021-12-23T02:05:40.649663Z"
    },
    "papermill": {
     "duration": 1.294987,
     "end_time": "2021-12-23T02:05:40.650401",
     "exception": false,
     "start_time": "2021-12-23T02:05:39.355414",
     "status": "completed"
    },
    "tags": []
   },
   "outputs": [],
   "source": [
    "#hide_input\n",
    "import warnings\n",
    "warnings.filterwarnings('ignore')\n",
    "from scripts.read_data import read_api\n",
    "from scripts.read_data import read_news\n",
    "from scripts.read_data import read_covid\n",
    "import matplotlib.pyplot as plt \n",
    "from IPython.display import Markdown as md"
   ]
  },
  {
   "cell_type": "code",
   "execution_count": 2,
   "id": "shared-acceptance",
   "metadata": {
    "execution": {
     "iopub.execute_input": "2021-12-23T02:05:40.673253Z",
     "iopub.status.busy": "2021-12-23T02:05:40.672743Z",
     "iopub.status.idle": "2021-12-23T02:05:49.981570Z",
     "shell.execute_reply": "2021-12-23T02:05:49.981009Z"
    },
    "papermill": {
     "duration": 9.322847,
     "end_time": "2021-12-23T02:05:49.981717",
     "exception": false,
     "start_time": "2021-12-23T02:05:40.658870",
     "status": "completed"
    },
    "tags": []
   },
   "outputs": [],
   "source": [
    "#hide_input\n",
    "blockchain = read_news('blockchain') \n",
    "btc = read_news('btc') \n",
    "xrp = read_news('xrp') \n",
    "trx = read_news('trx') \n",
    "eth = read_news('eth')  \n",
    "ada = read_news('ada')\n",
    "exchange = read_news('exchange') "
   ]
  },
  {
   "cell_type": "code",
   "execution_count": 3,
   "id": "synthetic-notion",
   "metadata": {
    "execution": {
     "iopub.execute_input": "2021-12-23T02:05:50.006715Z",
     "iopub.status.busy": "2021-12-23T02:05:50.006187Z",
     "iopub.status.idle": "2021-12-23T02:05:50.008124Z",
     "shell.execute_reply": "2021-12-23T02:05:50.008611Z"
    },
    "papermill": {
     "duration": 0.017045,
     "end_time": "2021-12-23T02:05:50.008736",
     "exception": false,
     "start_time": "2021-12-23T02:05:49.991691",
     "status": "completed"
    },
    "tags": []
   },
   "outputs": [
    {
     "data": {
      "text/markdown": [
       "- Ethereum Rival Terra (LUNA) Surges to New All-Time High After Becoming Second-Largest Blockchain by Total Value Locked.  Ethereum challenger Terra (LUNA) is rallying to new all-time highs just after the large-cap altcoin hit a crucial milestone. New data from DeFi Llama, an analytics platform focused on decentralized finance (DeFi) and non-fungible tokens (NFTs), shows that Terra has overtaken Binance Smart Chain to become the second-largest blockchain by total value locked. Terra is [&#8230;]The post Ethereum Rival Terra (LUNA) Surges to New All-Time High After Becoming Second-Largest Blockchain by Total Value Locked appeared first on The Daily Hodl. ... [| Skaityti daugiau](https://dailyhodl.com/2021/12/22/ethereum-rival-terra-luna-surges-to-new-all-time-high-after-becoming-second-largest-blockchain-by-total-value-locked/) "
      ],
      "text/plain": [
       "<IPython.core.display.Markdown object>"
      ]
     },
     "execution_count": 3,
     "metadata": {},
     "output_type": "execute_result"
    }
   ],
   "source": [
    "#hide_input\n",
    "#md('##### {}'.format(titleBTC)) \n",
    "md(\"- {}{} {}{} [| Skaityti daugiau]({}) \".format(blockchain['title'],'. ', blockchain['body'], ' ...', blockchain['url']))"
   ]
  },
  {
   "cell_type": "code",
   "execution_count": 4,
   "id": "aging-caution",
   "metadata": {
    "execution": {
     "iopub.execute_input": "2021-12-23T02:05:50.032340Z",
     "iopub.status.busy": "2021-12-23T02:05:50.031763Z",
     "iopub.status.idle": "2021-12-23T02:05:50.033944Z",
     "shell.execute_reply": "2021-12-23T02:05:50.034416Z"
    },
    "papermill": {
     "duration": 0.016345,
     "end_time": "2021-12-23T02:05:50.034545",
     "exception": false,
     "start_time": "2021-12-23T02:05:50.018200",
     "status": "completed"
    },
    "tags": []
   },
   "outputs": [
    {
     "data": {
      "text/markdown": [
       "- Publicly-Traded Bitcoin Miners Have Been Outperforming The Bitcoin Price.  Four publicly-traded bitcoin mining companies have outperformed the price of bitcoin since 2020 for a few key reasons. ... [| Skaityti daugiau](https://bitcoinmagazine.com/markets/bitcoin-miners-outperforming-bitcoin-price) "
      ],
      "text/plain": [
       "<IPython.core.display.Markdown object>"
      ]
     },
     "execution_count": 4,
     "metadata": {},
     "output_type": "execute_result"
    }
   ],
   "source": [
    "#hide_input\n",
    "#md('##### {}'.format(titleBTC)) \n",
    "md(\"- {}{} {}{} [| Skaityti daugiau]({}) \".format(btc['title'],'. ', btc['body'], ' ...', btc['url']))"
   ]
  },
  {
   "cell_type": "code",
   "execution_count": 5,
   "id": "organic-actress",
   "metadata": {
    "execution": {
     "iopub.execute_input": "2021-12-23T02:05:50.055912Z",
     "iopub.status.busy": "2021-12-23T02:05:50.054922Z",
     "iopub.status.idle": "2021-12-23T02:05:50.058682Z",
     "shell.execute_reply": "2021-12-23T02:05:50.058325Z"
    },
    "papermill": {
     "duration": 0.015264,
     "end_time": "2021-12-23T02:05:50.058776",
     "exception": false,
     "start_time": "2021-12-23T02:05:50.043512",
     "status": "completed"
    },
    "tags": []
   },
   "outputs": [
    {
     "data": {
      "text/markdown": [
       "- Visa Acquires Ripple Partner CurrencyCloud for $925 Million.  Visa has completed the acquisition of Ripple partner CurrencyCloud in a whopping deal worth some $925 million. ... [| Skaityti daugiau](https://cryptopotato.com/visa-acquires-ripple-partner-currencycloud-for-925-million/) "
      ],
      "text/plain": [
       "<IPython.core.display.Markdown object>"
      ]
     },
     "execution_count": 5,
     "metadata": {},
     "output_type": "execute_result"
    }
   ],
   "source": [
    "#hide_input\n",
    "#md('##### {}'.format(titleBTC)) \n",
    "md(\"- {}{} {}{} [| Skaityti daugiau]({}) \".format(xrp['title'],'. ', xrp['body'], ' ...', xrp['url']))"
   ]
  },
  {
   "cell_type": "code",
   "execution_count": 6,
   "id": "prompt-farmer",
   "metadata": {
    "execution": {
     "iopub.execute_input": "2021-12-23T02:05:50.080204Z",
     "iopub.status.busy": "2021-12-23T02:05:50.078230Z",
     "iopub.status.idle": "2021-12-23T02:05:50.083040Z",
     "shell.execute_reply": "2021-12-23T02:05:50.082689Z"
    },
    "papermill": {
     "duration": 0.015494,
     "end_time": "2021-12-23T02:05:50.083125",
     "exception": false,
     "start_time": "2021-12-23T02:05:50.067631",
     "status": "completed"
    },
    "tags": []
   },
   "outputs": [
    {
     "data": {
      "text/markdown": [
       "- Tron defends crucial support but bulls need to flip this area before….  Bitcoin climbed toward the $50k area in the past couple of days. But it has not yet regained a momentum that can propel it past the $53.6k level. Another rejection for Bitcoin could see altcoins like Tron form a lower high and continue to descend. The alt formed a descending wedge pattern but still faced [&#8230;] ... [| Skaityti daugiau](https://ambcrypto.com/tron-defends-crucial-support-but-bulls-need-to-flip-this-area-before/) "
      ],
      "text/plain": [
       "<IPython.core.display.Markdown object>"
      ]
     },
     "execution_count": 6,
     "metadata": {},
     "output_type": "execute_result"
    }
   ],
   "source": [
    "#hide_input\n",
    "#md('##### {}'.format(titleBTC)) \n",
    "md(\"- {}{} {}{} [| Skaityti daugiau]({}) \".format(trx['title'],'. ', trx['body'], ' ...', trx['url']))"
   ]
  },
  {
   "cell_type": "code",
   "execution_count": 7,
   "id": "illegal-greece",
   "metadata": {
    "execution": {
     "iopub.execute_input": "2021-12-23T02:05:50.104781Z",
     "iopub.status.busy": "2021-12-23T02:05:50.104371Z",
     "iopub.status.idle": "2021-12-23T02:05:50.106946Z",
     "shell.execute_reply": "2021-12-23T02:05:50.107363Z"
    },
    "papermill": {
     "duration": 0.015208,
     "end_time": "2021-12-23T02:05:50.107465",
     "exception": false,
     "start_time": "2021-12-23T02:05:50.092257",
     "status": "completed"
    },
    "tags": []
   },
   "outputs": [
    {
     "data": {
      "text/markdown": [
       "- Andreessen Blocks Jack! Jack Unfollows Winklevoss! Bitcoin vs Web3 Feud Continues.  These are fightin' nerds! Dorsey and Web3 folks got it into on Twitter—again. ... [| Skaityti daugiau](https://decrypt.co/89117/andreessen-blocks-jack-unfollows-winklevoss-bitcoin-web3-feud-continues) "
      ],
      "text/plain": [
       "<IPython.core.display.Markdown object>"
      ]
     },
     "execution_count": 7,
     "metadata": {},
     "output_type": "execute_result"
    }
   ],
   "source": [
    "#hide_input\n",
    "#md('##### {}'.format(titleBTC)) \n",
    "md(\"- {}{} {}{} [| Skaityti daugiau]({}) \".format(eth['title'],'. ', eth['body'], ' ...', eth['url']))"
   ]
  },
  {
   "cell_type": "code",
   "execution_count": 8,
   "id": "sublime-lounge",
   "metadata": {
    "execution": {
     "iopub.execute_input": "2021-12-23T02:05:50.129577Z",
     "iopub.status.busy": "2021-12-23T02:05:50.129117Z",
     "iopub.status.idle": "2021-12-23T02:05:50.132075Z",
     "shell.execute_reply": "2021-12-23T02:05:50.131715Z"
    },
    "papermill": {
     "duration": 0.015631,
     "end_time": "2021-12-23T02:05:50.132155",
     "exception": false,
     "start_time": "2021-12-23T02:05:50.116524",
     "status": "completed"
    },
    "tags": []
   },
   "outputs": [
    {
     "data": {
      "text/markdown": [
       "- Cardano shows early signs of halting the downtrend it has been on, since September.  Cardano formed a series of equal lows at the $1.2 support level. Despite multiple tests of this support, the buyers had not crumbled, and in recent days they were actually able to push prices above a lower timeframe, descending triangle pattern. The price of Cardano has contracted near the $1.2 lows for three weeks now, [&#8230;] ... [| Skaityti daugiau](https://ambcrypto.com/cardano-shows-early-signs-of-halting-the-downtrend-it-has-been-on-since-september/) "
      ],
      "text/plain": [
       "<IPython.core.display.Markdown object>"
      ]
     },
     "execution_count": 8,
     "metadata": {},
     "output_type": "execute_result"
    }
   ],
   "source": [
    "#hide_input\n",
    "#md('##### {}'.format(titleBTC)) \n",
    "md(\"- {}{} {}{} [| Skaityti daugiau]({}) \".format(ada['title'],'. ', ada['body'], ' ...', ada['url']))"
   ]
  },
  {
   "cell_type": "code",
   "execution_count": 9,
   "id": "specified-ordering",
   "metadata": {
    "execution": {
     "iopub.execute_input": "2021-12-23T02:05:50.155881Z",
     "iopub.status.busy": "2021-12-23T02:05:50.155304Z",
     "iopub.status.idle": "2021-12-23T02:05:50.157404Z",
     "shell.execute_reply": "2021-12-23T02:05:50.157862Z"
    },
    "papermill": {
     "duration": 0.016373,
     "end_time": "2021-12-23T02:05:50.157985",
     "exception": false,
     "start_time": "2021-12-23T02:05:50.141612",
     "status": "completed"
    },
    "tags": []
   },
   "outputs": [
    {
     "data": {
      "text/markdown": [
       "- Avalanche ($AVAX) Starts Trading on Kraken as on-Chain Activity Skyrockets.  The native token of the Avalanche network, $AVAX, has started trading on cryptocurrency exchange Kraken, one of the largest cryptocurrency trading platforms in the world. The listing comes after AVAX’s price exploded this year and its adoption keeps on growing. In its listing announcement, Kraken detailed that AVAX will be tradable against the USD and […] ... [| Skaityti daugiau](https://www.cryptoglobe.com/latest/2021/12/avalanche-avax-starts-trading-on-kraken-as-on-chain-activity-skyrockets/) "
      ],
      "text/plain": [
       "<IPython.core.display.Markdown object>"
      ]
     },
     "execution_count": 9,
     "metadata": {},
     "output_type": "execute_result"
    }
   ],
   "source": [
    "#hide_input\n",
    "#md('##### {}'.format(titleBTC)) \n",
    "md(\"- {}{} {}{} [| Skaityti daugiau]({}) \".format(exchange['title'],'. ', exchange['body'], ' ...', exchange['url']))"
   ]
  },
  {
   "cell_type": "code",
   "execution_count": null,
   "id": "tender-livestock",
   "metadata": {
    "papermill": {
     "duration": 0.011121,
     "end_time": "2021-12-23T02:05:50.180553",
     "exception": false,
     "start_time": "2021-12-23T02:05:50.169432",
     "status": "completed"
    },
    "tags": []
   },
   "outputs": [],
   "source": []
  },
  {
   "cell_type": "code",
   "execution_count": null,
   "id": "appreciated-diamond",
   "metadata": {
    "papermill": {
     "duration": 0.01114,
     "end_time": "2021-12-23T02:05:50.202845",
     "exception": false,
     "start_time": "2021-12-23T02:05:50.191705",
     "status": "completed"
    },
    "tags": []
   },
   "outputs": [],
   "source": []
  },
  {
   "cell_type": "code",
   "execution_count": null,
   "id": "romance-sweden",
   "metadata": {
    "papermill": {
     "duration": 0.011594,
     "end_time": "2021-12-23T02:05:50.225782",
     "exception": false,
     "start_time": "2021-12-23T02:05:50.214188",
     "status": "completed"
    },
    "tags": []
   },
   "outputs": [],
   "source": []
  },
  {
   "cell_type": "code",
   "execution_count": null,
   "id": "dietary-statistics",
   "metadata": {
    "papermill": {
     "duration": 0.011029,
     "end_time": "2021-12-23T02:05:50.247985",
     "exception": false,
     "start_time": "2021-12-23T02:05:50.236956",
     "status": "completed"
    },
    "tags": []
   },
   "outputs": [],
   "source": []
  }
 ],
 "metadata": {
  "kernelspec": {
   "display_name": "Python 3",
   "language": "python",
   "name": "python3"
  },
  "language_info": {
   "codemirror_mode": {
    "name": "ipython",
    "version": 3
   },
   "file_extension": ".py",
   "mimetype": "text/x-python",
   "name": "python",
   "nbconvert_exporter": "python",
   "pygments_lexer": "ipython3",
   "version": "3.6.15"
  },
  "papermill": {
   "default_parameters": {},
   "duration": 12.230977,
   "end_time": "2021-12-23T02:05:50.666452",
   "environment_variables": {},
   "exception": null,
   "input_path": "Market-News.ipynb",
   "output_path": "Market-News.ipynb",
   "parameters": {},
   "start_time": "2021-12-23T02:05:38.435475",
   "version": "2.2.2"
  }
 },
 "nbformat": 4,
 "nbformat_minor": 5
}