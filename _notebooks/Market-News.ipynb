{
 "cells": [
  {
   "cell_type": "markdown",
   "id": "short-greensboro",
   "metadata": {
    "papermill": {
     "duration": 0.012702,
     "end_time": "2022-03-16T02:23:54.817221",
     "exception": false,
     "start_time": "2022-03-16T02:23:54.804519",
     "status": "completed"
    },
    "tags": []
   },
   "source": [
    "# Kriptovaliutų naujienos"
   ]
  },
  {
   "cell_type": "code",
   "execution_count": 1,
   "id": "functioning-knowing",
   "metadata": {
    "execution": {
     "iopub.execute_input": "2022-03-16T02:23:54.847123Z",
     "iopub.status.busy": "2022-03-16T02:23:54.846553Z",
     "iopub.status.idle": "2022-03-16T02:23:56.116341Z",
     "shell.execute_reply": "2022-03-16T02:23:56.116784Z"
    },
    "papermill": {
     "duration": 1.289889,
     "end_time": "2022-03-16T02:23:56.116967",
     "exception": false,
     "start_time": "2022-03-16T02:23:54.827078",
     "status": "completed"
    },
    "tags": []
   },
   "outputs": [],
   "source": [
    "#hide_input\n",
    "import warnings\n",
    "warnings.filterwarnings('ignore')\n",
    "from scripts.read_data import read_api\n",
    "from scripts.read_data import read_news\n",
    "from scripts.read_data import read_covid\n",
    "import matplotlib.pyplot as plt \n",
    "from IPython.display import Markdown as md"
   ]
  },
  {
   "cell_type": "code",
   "execution_count": 2,
   "id": "shared-acceptance",
   "metadata": {
    "execution": {
     "iopub.execute_input": "2022-03-16T02:23:56.142591Z",
     "iopub.status.busy": "2022-03-16T02:23:56.142076Z",
     "iopub.status.idle": "2022-03-16T02:24:05.538478Z",
     "shell.execute_reply": "2022-03-16T02:24:05.537838Z"
    },
    "papermill": {
     "duration": 9.412303,
     "end_time": "2022-03-16T02:24:05.538675",
     "exception": false,
     "start_time": "2022-03-16T02:23:56.126372",
     "status": "completed"
    },
    "tags": []
   },
   "outputs": [],
   "source": [
    "#hide_input\n",
    "blockchain = read_news('blockchain') \n",
    "btc = read_news('btc') \n",
    "xrp = read_news('xrp') \n",
    "trx = read_news('trx') \n",
    "eth = read_news('eth')  \n",
    "ada = read_news('ada')\n",
    "exchange = read_news('exchange') "
   ]
  },
  {
   "cell_type": "code",
   "execution_count": 3,
   "id": "synthetic-notion",
   "metadata": {
    "execution": {
     "iopub.execute_input": "2022-03-16T02:24:05.563994Z",
     "iopub.status.busy": "2022-03-16T02:24:05.563427Z",
     "iopub.status.idle": "2022-03-16T02:24:05.567245Z",
     "shell.execute_reply": "2022-03-16T02:24:05.567628Z"
    },
    "papermill": {
     "duration": 0.019626,
     "end_time": "2022-03-16T02:24:05.567765",
     "exception": false,
     "start_time": "2022-03-16T02:24:05.548139",
     "status": "completed"
    },
    "tags": []
   },
   "outputs": [
    {
     "data": {
      "text/markdown": [
       "- Diem team members raise $200M to launch blockchain derived from it.  “Since departing Meta (formerly Facebook) we have been able to put our ideas into motion, ditch bureaucratic red tape, and build an entirely new network,” Aptos stated.  ... [| Skaityti daugiau](https://cointelegraph.com/news/diem-team-members-raise-200m-to-launch-blockchain-derived-from-it) "
      ],
      "text/plain": [
       "<IPython.core.display.Markdown object>"
      ]
     },
     "execution_count": 3,
     "metadata": {},
     "output_type": "execute_result"
    }
   ],
   "source": [
    "#hide_input\n",
    "#md('##### {}'.format(titleBTC)) \n",
    "md(\"- {}{} {}{} [| Skaityti daugiau]({}) \".format(blockchain['title'],'. ', blockchain['body'], ' ...', blockchain['url']))"
   ]
  },
  {
   "cell_type": "code",
   "execution_count": 4,
   "id": "aging-caution",
   "metadata": {
    "execution": {
     "iopub.execute_input": "2022-03-16T02:24:05.594229Z",
     "iopub.status.busy": "2022-03-16T02:24:05.592931Z",
     "iopub.status.idle": "2022-03-16T02:24:05.596039Z",
     "shell.execute_reply": "2022-03-16T02:24:05.595619Z"
    },
    "papermill": {
     "duration": 0.017909,
     "end_time": "2022-03-16T02:24:05.596141",
     "exception": false,
     "start_time": "2022-03-16T02:24:05.578232",
     "status": "completed"
    },
    "tags": []
   },
   "outputs": [
    {
     "data": {
      "text/markdown": [
       "- Buyers push Bitcoin from $37.5K support region as BTC is once again above $39K.  Bitcoin price analysis for March 16, 2022, comes riding on a bearish note for the token as the chances of BTC breaking $40K seems further low. However, the buyers were able to push the prices of BTC above $37.5K which is a strong level of support for the token. On the other hand, it was [&#8230;]The post Buyers push Bitcoin from $37.5K support region as BTC is once again above $39K appeared first on Blockchain, Crypto and Stock News. ... [| Skaityti daugiau](https://thecoinrise.com/buyers-push-bitcoin-from-37-5k-support-region-as-btc-is-once-again-above-39k/) "
      ],
      "text/plain": [
       "<IPython.core.display.Markdown object>"
      ]
     },
     "execution_count": 4,
     "metadata": {},
     "output_type": "execute_result"
    }
   ],
   "source": [
    "#hide_input\n",
    "#md('##### {}'.format(titleBTC)) \n",
    "md(\"- {}{} {}{} [| Skaityti daugiau]({}) \".format(btc['title'],'. ', btc['body'], ' ...', btc['url']))"
   ]
  },
  {
   "cell_type": "code",
   "execution_count": 5,
   "id": "organic-actress",
   "metadata": {
    "execution": {
     "iopub.execute_input": "2022-03-16T02:24:05.620172Z",
     "iopub.status.busy": "2022-03-16T02:24:05.619677Z",
     "iopub.status.idle": "2022-03-16T02:24:05.622762Z",
     "shell.execute_reply": "2022-03-16T02:24:05.622343Z"
    },
    "papermill": {
     "duration": 0.017017,
     "end_time": "2022-03-16T02:24:05.622883",
     "exception": false,
     "start_time": "2022-03-16T02:24:05.605866",
     "status": "completed"
    },
    "tags": []
   },
   "outputs": [
    {
     "data": {
      "text/markdown": [
       "- Ripple bulls prevent a fall below $0.75, a push above $0.8 required.  Ripple price analysis for March 16, 2022 brings a positive motion for investors as the token did not fail the support at $0.75. On the other hand, the XRP token has failed to break above the $0.77 minor resistance and turn it into a minor support region. The current price trajectory suggests that an attempt [&#8230;]The post Ripple bulls prevent a fall below $0.75, a push above $0.8 required appeared first on Blockchain, Crypto and Stock News. ... [| Skaityti daugiau](https://thecoinrise.com/ripple-bulls-prevent-a-fall-below-0-75-a-push-above-0-8-required/) "
      ],
      "text/plain": [
       "<IPython.core.display.Markdown object>"
      ]
     },
     "execution_count": 5,
     "metadata": {},
     "output_type": "execute_result"
    }
   ],
   "source": [
    "#hide_input\n",
    "#md('##### {}'.format(titleBTC)) \n",
    "md(\"- {}{} {}{} [| Skaityti daugiau]({}) \".format(xrp['title'],'. ', xrp['body'], ' ...', xrp['url']))"
   ]
  },
  {
   "cell_type": "code",
   "execution_count": 6,
   "id": "prompt-farmer",
   "metadata": {
    "execution": {
     "iopub.execute_input": "2022-03-16T02:24:05.647330Z",
     "iopub.status.busy": "2022-03-16T02:24:05.646017Z",
     "iopub.status.idle": "2022-03-16T02:24:05.649646Z",
     "shell.execute_reply": "2022-03-16T02:24:05.650108Z"
    },
    "papermill": {
     "duration": 0.017391,
     "end_time": "2022-03-16T02:24:05.650218",
     "exception": false,
     "start_time": "2022-03-16T02:24:05.632827",
     "status": "completed"
    },
    "tags": []
   },
   "outputs": [
    {
     "data": {
      "text/markdown": [
       "- What SEC v. Ripple has in common with the allegations against Sun, TRON.  If TRON DAO &#8211; née TRON &#8211; wasn&#8217;t enough of a conversation starter, an investigative piece by journalist Chris Harland-Dunaway published in The Verge dropped a bomb. It accused Tron founder Justin Sun of actions ranging from getting ICO ban tip-offs to insider trading. In a conversation with journalist Laura Shin, Harland-Dunaway revealed more details [&#8230;] ... [| Skaityti daugiau](https://ambcrypto.com/what-sec-v-ripple-has-in-common-with-the-allegations-against-sun-tron/) "
      ],
      "text/plain": [
       "<IPython.core.display.Markdown object>"
      ]
     },
     "execution_count": 6,
     "metadata": {},
     "output_type": "execute_result"
    }
   ],
   "source": [
    "#hide_input\n",
    "#md('##### {}'.format(titleBTC)) \n",
    "md(\"- {}{} {}{} [| Skaityti daugiau]({}) \".format(trx['title'],'. ', trx['body'], ' ...', trx['url']))"
   ]
  },
  {
   "cell_type": "code",
   "execution_count": 7,
   "id": "illegal-greece",
   "metadata": {
    "execution": {
     "iopub.execute_input": "2022-03-16T02:24:05.676359Z",
     "iopub.status.busy": "2022-03-16T02:24:05.675846Z",
     "iopub.status.idle": "2022-03-16T02:24:05.677844Z",
     "shell.execute_reply": "2022-03-16T02:24:05.678267Z"
    },
    "papermill": {
     "duration": 0.017408,
     "end_time": "2022-03-16T02:24:05.678374",
     "exception": false,
     "start_time": "2022-03-16T02:24:05.660966",
     "status": "completed"
    },
    "tags": []
   },
   "outputs": [
    {
     "data": {
      "text/markdown": [
       "- Ethereum trading volume jumps as ETH tries to breach $2.7K.  Ethereum price analysis for March 16, 2022, opens on a slightly positive note for the token as Ether has confirmed a resistance at $2.7K while a major support at $2.5K. The sluggish price action of the token has been prevalent for days and volatility in the market has died. Moreover, as noted in our ETH [&#8230;]The post Ethereum trading volume jumps as ETH tries to breach $2.7K appeared first on Blockchain, Crypto and Stock News. ... [| Skaityti daugiau](https://thecoinrise.com/ethereum-trading-volume-jumps-as-eth-tries-to-breach-2-7k/) "
      ],
      "text/plain": [
       "<IPython.core.display.Markdown object>"
      ]
     },
     "execution_count": 7,
     "metadata": {},
     "output_type": "execute_result"
    }
   ],
   "source": [
    "#hide_input\n",
    "#md('##### {}'.format(titleBTC)) \n",
    "md(\"- {}{} {}{} [| Skaityti daugiau]({}) \".format(eth['title'],'. ', eth['body'], ' ...', eth['url']))"
   ]
  },
  {
   "cell_type": "code",
   "execution_count": 8,
   "id": "sublime-lounge",
   "metadata": {
    "execution": {
     "iopub.execute_input": "2022-03-16T02:24:05.703383Z",
     "iopub.status.busy": "2022-03-16T02:24:05.702881Z",
     "iopub.status.idle": "2022-03-16T02:24:05.706027Z",
     "shell.execute_reply": "2022-03-16T02:24:05.705634Z"
    },
    "papermill": {
     "duration": 0.017238,
     "end_time": "2022-03-16T02:24:05.706125",
     "exception": false,
     "start_time": "2022-03-16T02:24:05.688887",
     "status": "completed"
    },
    "tags": []
   },
   "outputs": [
    {
     "data": {
      "text/markdown": [
       "- Cardano Founder Wants To Resurrect The Woolly Mammoth, How Does Blockchain Fit In?.  Cardano founder Charles Hoskinson has shown interest in helping bring back the woolly mammoth by participating in an investment round that was just concluded. Hoskinson who was co-founder of Ethereum and later founded his own blockchain Cardano was one of the multiple investors that participated in an investment round in Colossal, to help them bring [&#8230;] ... [| Skaityti daugiau](https://bitcoinist.com/cardano-founder-wants-to-resurrect-the-woolly-mammoth/) "
      ],
      "text/plain": [
       "<IPython.core.display.Markdown object>"
      ]
     },
     "execution_count": 8,
     "metadata": {},
     "output_type": "execute_result"
    }
   ],
   "source": [
    "#hide_input\n",
    "#md('##### {}'.format(titleBTC)) \n",
    "md(\"- {}{} {}{} [| Skaityti daugiau]({}) \".format(ada['title'],'. ', ada['body'], ' ...', ada['url']))"
   ]
  },
  {
   "cell_type": "code",
   "execution_count": 9,
   "id": "specified-ordering",
   "metadata": {
    "execution": {
     "iopub.execute_input": "2022-03-16T02:24:05.732010Z",
     "iopub.status.busy": "2022-03-16T02:24:05.730972Z",
     "iopub.status.idle": "2022-03-16T02:24:05.734935Z",
     "shell.execute_reply": "2022-03-16T02:24:05.734514Z"
    },
    "papermill": {
     "duration": 0.018035,
     "end_time": "2022-03-16T02:24:05.735037",
     "exception": false,
     "start_time": "2022-03-16T02:24:05.717002",
     "status": "completed"
    },
    "tags": []
   },
   "outputs": [
    {
     "data": {
      "text/markdown": [
       "- Ukraine’s Government Launches Official Website for Cryptocurrency Donations.  The Ukrainian government has launched an official cryptocurrency donation website to raise funds in support of the Ukrainian armed forces and humanitarian aid programs in the fight against Russia. The donation platform is a collaboration between the Ministry of Digital Transformation of Ukraine, Everstake, and cryptocurrency exchange FTX. Government&#x2019;s Crypto Donation Website Now Live The [&#8230;] ... [| Skaityti daugiau](https://news.bitcoin.com/ukraines-government-launches-official-website-for-cryptocurrency-donations/) "
      ],
      "text/plain": [
       "<IPython.core.display.Markdown object>"
      ]
     },
     "execution_count": 9,
     "metadata": {},
     "output_type": "execute_result"
    }
   ],
   "source": [
    "#hide_input\n",
    "#md('##### {}'.format(titleBTC)) \n",
    "md(\"- {}{} {}{} [| Skaityti daugiau]({}) \".format(exchange['title'],'. ', exchange['body'], ' ...', exchange['url']))"
   ]
  },
  {
   "cell_type": "code",
   "execution_count": null,
   "id": "tender-livestock",
   "metadata": {
    "papermill": {
     "duration": 0.011329,
     "end_time": "2022-03-16T02:24:05.757542",
     "exception": false,
     "start_time": "2022-03-16T02:24:05.746213",
     "status": "completed"
    },
    "tags": []
   },
   "outputs": [],
   "source": []
  },
  {
   "cell_type": "code",
   "execution_count": null,
   "id": "appreciated-diamond",
   "metadata": {
    "papermill": {
     "duration": 0.011653,
     "end_time": "2022-03-16T02:24:05.780781",
     "exception": false,
     "start_time": "2022-03-16T02:24:05.769128",
     "status": "completed"
    },
    "tags": []
   },
   "outputs": [],
   "source": []
  },
  {
   "cell_type": "code",
   "execution_count": null,
   "id": "romance-sweden",
   "metadata": {
    "papermill": {
     "duration": 0.011092,
     "end_time": "2022-03-16T02:24:05.805620",
     "exception": false,
     "start_time": "2022-03-16T02:24:05.794528",
     "status": "completed"
    },
    "tags": []
   },
   "outputs": [],
   "source": []
  },
  {
   "cell_type": "code",
   "execution_count": null,
   "id": "dietary-statistics",
   "metadata": {
    "papermill": {
     "duration": 0.011102,
     "end_time": "2022-03-16T02:24:05.827884",
     "exception": false,
     "start_time": "2022-03-16T02:24:05.816782",
     "status": "completed"
    },
    "tags": []
   },
   "outputs": [],
   "source": []
  }
 ],
 "metadata": {
  "kernelspec": {
   "display_name": "Python 3",
   "language": "python",
   "name": "python3"
  },
  "language_info": {
   "codemirror_mode": {
    "name": "ipython",
    "version": 3
   },
   "file_extension": ".py",
   "mimetype": "text/x-python",
   "name": "python",
   "nbconvert_exporter": "python",
   "pygments_lexer": "ipython3",
   "version": "3.6.15"
  },
  "papermill": {
   "default_parameters": {},
   "duration": 12.378334,
   "end_time": "2022-03-16T02:24:06.256734",
   "environment_variables": {},
   "exception": null,
   "input_path": "Market-News.ipynb",
   "output_path": "Market-News.ipynb",
   "parameters": {},
   "start_time": "2022-03-16T02:23:53.878400",
   "version": "2.2.2"
  }
 },
 "nbformat": 4,
 "nbformat_minor": 5
}