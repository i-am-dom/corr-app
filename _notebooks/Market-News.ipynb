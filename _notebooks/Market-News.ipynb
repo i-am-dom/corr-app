{
 "cells": [
  {
   "cell_type": "markdown",
   "id": "short-greensboro",
   "metadata": {
    "papermill": {
     "duration": 0.012728,
     "end_time": "2022-07-03T03:10:34.600139",
     "exception": false,
     "start_time": "2022-07-03T03:10:34.587411",
     "status": "completed"
    },
    "tags": []
   },
   "source": [
    "# Kriptovaliutų naujienos"
   ]
  },
  {
   "cell_type": "code",
   "execution_count": 1,
   "id": "functioning-knowing",
   "metadata": {
    "execution": {
     "iopub.execute_input": "2022-07-03T03:10:34.628337Z",
     "iopub.status.busy": "2022-07-03T03:10:34.626505Z",
     "iopub.status.idle": "2022-07-03T03:10:35.778977Z",
     "shell.execute_reply": "2022-07-03T03:10:35.778493Z"
    },
    "papermill": {
     "duration": 1.169176,
     "end_time": "2022-07-03T03:10:35.779110",
     "exception": false,
     "start_time": "2022-07-03T03:10:34.609934",
     "status": "completed"
    },
    "tags": []
   },
   "outputs": [],
   "source": [
    "#hide_input\n",
    "import warnings\n",
    "warnings.filterwarnings('ignore')\n",
    "from scripts.read_data import read_api\n",
    "from scripts.read_data import read_news\n",
    "from scripts.read_data import read_covid\n",
    "import matplotlib.pyplot as plt \n",
    "from IPython.display import Markdown as md"
   ]
  },
  {
   "cell_type": "code",
   "execution_count": 2,
   "id": "shared-acceptance",
   "metadata": {
    "execution": {
     "iopub.execute_input": "2022-07-03T03:10:35.804155Z",
     "iopub.status.busy": "2022-07-03T03:10:35.803543Z",
     "iopub.status.idle": "2022-07-03T03:10:52.449847Z",
     "shell.execute_reply": "2022-07-03T03:10:52.448918Z"
    },
    "papermill": {
     "duration": 16.661372,
     "end_time": "2022-07-03T03:10:52.449970",
     "exception": false,
     "start_time": "2022-07-03T03:10:35.788598",
     "status": "completed"
    },
    "tags": []
   },
   "outputs": [],
   "source": [
    "#hide_input\n",
    "blockchain = read_news('blockchain') \n",
    "btc = read_news('btc') \n",
    "xrp = read_news('xrp') \n",
    "trx = read_news('trx') \n",
    "eth = read_news('eth')  \n",
    "ada = read_news('ada')\n",
    "exchange = read_news('exchange') "
   ]
  },
  {
   "cell_type": "code",
   "execution_count": 3,
   "id": "synthetic-notion",
   "metadata": {
    "execution": {
     "iopub.execute_input": "2022-07-03T03:10:52.474124Z",
     "iopub.status.busy": "2022-07-03T03:10:52.471965Z",
     "iopub.status.idle": "2022-07-03T03:10:52.477376Z",
     "shell.execute_reply": "2022-07-03T03:10:52.476925Z"
    },
    "papermill": {
     "duration": 0.018128,
     "end_time": "2022-07-03T03:10:52.477481",
     "exception": false,
     "start_time": "2022-07-03T03:10:52.459353",
     "status": "completed"
    },
    "tags": []
   },
   "outputs": [
    {
     "data": {
      "text/markdown": [
       "- The development of blockchain industry and how to defend against attacks on DeFi.  The DeFi market is a highly promising venture where the main struggling issue is a lack of qualified blockchain developers. ... [| Skaityti daugiau](https://cointelegraph.com/news/the-development-of-blockchain-industry-and-how-to-defend-against-attacks-on-defi) "
      ],
      "text/plain": [
       "<IPython.core.display.Markdown object>"
      ]
     },
     "execution_count": 3,
     "metadata": {},
     "output_type": "execute_result"
    }
   ],
   "source": [
    "#hide_input\n",
    "#md('##### {}'.format(titleBTC)) \n",
    "md(\"- {}{} {}{} [| Skaityti daugiau]({}) \".format(blockchain['title'],'. ', blockchain['body'], ' ...', blockchain['url']))"
   ]
  },
  {
   "cell_type": "code",
   "execution_count": 4,
   "id": "aging-caution",
   "metadata": {
    "execution": {
     "iopub.execute_input": "2022-07-03T03:10:52.500755Z",
     "iopub.status.busy": "2022-07-03T03:10:52.500174Z",
     "iopub.status.idle": "2022-07-03T03:10:52.503021Z",
     "shell.execute_reply": "2022-07-03T03:10:52.503473Z"
    },
    "papermill": {
     "duration": 0.01671,
     "end_time": "2022-07-03T03:10:52.503587",
     "exception": false,
     "start_time": "2022-07-03T03:10:52.486877",
     "status": "completed"
    },
    "tags": []
   },
   "outputs": [
    {
     "data": {
      "text/markdown": [
       "- July 4th, Bitcoin And Sovereignty — Declaring Your Own Financial Independence Day.  This July 4th is an opportunity to think about how Bitcoiners reclaimed their own financial independence. ... [| Skaityti daugiau](https://bitcoinmagazine.com/culture/july-4th-bitcoin-financial-independence) "
      ],
      "text/plain": [
       "<IPython.core.display.Markdown object>"
      ]
     },
     "execution_count": 4,
     "metadata": {},
     "output_type": "execute_result"
    }
   ],
   "source": [
    "#hide_input\n",
    "#md('##### {}'.format(titleBTC)) \n",
    "md(\"- {}{} {}{} [| Skaityti daugiau]({}) \".format(btc['title'],'. ', btc['body'], ' ...', btc['url']))"
   ]
  },
  {
   "cell_type": "code",
   "execution_count": 5,
   "id": "organic-actress",
   "metadata": {
    "execution": {
     "iopub.execute_input": "2022-07-03T03:10:52.527460Z",
     "iopub.status.busy": "2022-07-03T03:10:52.526888Z",
     "iopub.status.idle": "2022-07-03T03:10:52.530113Z",
     "shell.execute_reply": "2022-07-03T03:10:52.529667Z"
    },
    "papermill": {
     "duration": 0.016938,
     "end_time": "2022-07-03T03:10:52.530210",
     "exception": false,
     "start_time": "2022-07-03T03:10:52.513272",
     "status": "completed"
    },
    "tags": []
   },
   "outputs": [
    {
     "data": {
      "text/markdown": [
       "- Ripple Launches $197,000 Hackathon for CBDC Interoperability and Financial Inclusion.  Ripple has launched a contest with over $190k in prizes to encourage the development of solutions for CBDC interoperability and financial inclusion. ... [| Skaityti daugiau](https://cryptopotato.com/ripple-launches-197000-hackathon-for-cbdc-interoperability-and-financial-inclusion/) "
      ],
      "text/plain": [
       "<IPython.core.display.Markdown object>"
      ]
     },
     "execution_count": 5,
     "metadata": {},
     "output_type": "execute_result"
    }
   ],
   "source": [
    "#hide_input\n",
    "#md('##### {}'.format(titleBTC)) \n",
    "md(\"- {}{} {}{} [| Skaityti daugiau]({}) \".format(xrp['title'],'. ', xrp['body'], ' ...', xrp['url']))"
   ]
  },
  {
   "cell_type": "code",
   "execution_count": 6,
   "id": "prompt-farmer",
   "metadata": {
    "execution": {
     "iopub.execute_input": "2022-07-03T03:10:52.554917Z",
     "iopub.status.busy": "2022-07-03T03:10:52.554356Z",
     "iopub.status.idle": "2022-07-03T03:10:52.557664Z",
     "shell.execute_reply": "2022-07-03T03:10:52.557208Z"
    },
    "papermill": {
     "duration": 0.017531,
     "end_time": "2022-07-03T03:10:52.557765",
     "exception": false,
     "start_time": "2022-07-03T03:10:52.540234",
     "status": "completed"
    },
    "tags": []
   },
   "outputs": [
    {
     "data": {
      "text/markdown": [
       "- Will Xchange Monster (MXCH) Impact The Crypto Market In The Same Way As Tron (TRX) And Binance Coin (BNB)?.  Xchange Monster (MXCH) is a revolutionary crypto-gaming platform attempting to create an ecosystem catered to gamers and publishers. Continue reading Will Xchange Monster (MXCH) Impact The Crypto Market In The Same Way As Tron (TRX) And Binance Coin (BNB)? at DailyCoin.com. ... [| Skaityti daugiau](https://dailycoin.com/will-xchange-monster-mxch-impact-the-crypto-market-in-the-same-way-as-tron-trx-and-binance-coin-bnb/) "
      ],
      "text/plain": [
       "<IPython.core.display.Markdown object>"
      ]
     },
     "execution_count": 6,
     "metadata": {},
     "output_type": "execute_result"
    }
   ],
   "source": [
    "#hide_input\n",
    "#md('##### {}'.format(titleBTC)) \n",
    "md(\"- {}{} {}{} [| Skaityti daugiau]({}) \".format(trx['title'],'. ', trx['body'], ' ...', trx['url']))"
   ]
  },
  {
   "cell_type": "code",
   "execution_count": 7,
   "id": "illegal-greece",
   "metadata": {
    "execution": {
     "iopub.execute_input": "2022-07-03T03:10:52.584220Z",
     "iopub.status.busy": "2022-07-03T03:10:52.583653Z",
     "iopub.status.idle": "2022-07-03T03:10:52.586698Z",
     "shell.execute_reply": "2022-07-03T03:10:52.587128Z"
    },
    "papermill": {
     "duration": 0.018951,
     "end_time": "2022-07-03T03:10:52.587242",
     "exception": false,
     "start_time": "2022-07-03T03:10:52.568291",
     "status": "completed"
    },
    "tags": []
   },
   "outputs": [
    {
     "data": {
      "text/markdown": [
       "- Crypto Trader Reveals Targets for Bitcoin (BTC), Ethereum (ETH), Cardano (ADA) and Solana (SOL).  A popular analyst who accurately predicted the recent market downturn is setting new price targets for four major crypto assets. Pseudonymous crypto trader Capo, who back in March sounded the alarm that several top cryptos were likely to fall by 50%, now tells his 423,200 Twitter followers what’s next for Bitcoin (BTC), Ethereum (ETH), Cardano [&#8230;]The post Crypto Trader Reveals Targets for Bitcoin (BTC), Ethereum (ETH), Cardano (ADA) and Solana (SOL) appeared first on The Daily Hodl. ... [| Skaityti daugiau](https://dailyhodl.com/2022/07/02/crypto-trader-reveals-targets-for-bitcoin-btc-ethereum-eth-cardano-ada-and-solana-sol/) "
      ],
      "text/plain": [
       "<IPython.core.display.Markdown object>"
      ]
     },
     "execution_count": 7,
     "metadata": {},
     "output_type": "execute_result"
    }
   ],
   "source": [
    "#hide_input\n",
    "#md('##### {}'.format(titleBTC)) \n",
    "md(\"- {}{} {}{} [| Skaityti daugiau]({}) \".format(eth['title'],'. ', eth['body'], ' ...', eth['url']))"
   ]
  },
  {
   "cell_type": "code",
   "execution_count": 8,
   "id": "sublime-lounge",
   "metadata": {
    "execution": {
     "iopub.execute_input": "2022-07-03T03:10:52.613700Z",
     "iopub.status.busy": "2022-07-03T03:10:52.613136Z",
     "iopub.status.idle": "2022-07-03T03:10:52.616238Z",
     "shell.execute_reply": "2022-07-03T03:10:52.615769Z"
    },
    "papermill": {
     "duration": 0.01839,
     "end_time": "2022-07-03T03:10:52.616341",
     "exception": false,
     "start_time": "2022-07-03T03:10:52.597951",
     "status": "completed"
    },
    "tags": []
   },
   "outputs": [
    {
     "data": {
      "text/markdown": [
       "- Crypto Trader Reveals Targets for Bitcoin (BTC), Ethereum (ETH), Cardano (ADA) and Solana (SOL).  A popular analyst who accurately predicted the recent market downturn is setting new price targets for four major crypto assets. Pseudonymous crypto trader Capo, who back in March sounded the alarm that several top cryptos were likely to fall by 50%, now tells his 423,200 Twitter followers what’s next for Bitcoin (BTC), Ethereum (ETH), Cardano [&#8230;]The post Crypto Trader Reveals Targets for Bitcoin (BTC), Ethereum (ETH), Cardano (ADA) and Solana (SOL) appeared first on The Daily Hodl. ... [| Skaityti daugiau](https://dailyhodl.com/2022/07/02/crypto-trader-reveals-targets-for-bitcoin-btc-ethereum-eth-cardano-ada-and-solana-sol/) "
      ],
      "text/plain": [
       "<IPython.core.display.Markdown object>"
      ]
     },
     "execution_count": 8,
     "metadata": {},
     "output_type": "execute_result"
    }
   ],
   "source": [
    "#hide_input\n",
    "#md('##### {}'.format(titleBTC)) \n",
    "md(\"- {}{} {}{} [| Skaityti daugiau]({}) \".format(ada['title'],'. ', ada['body'], ' ...', ada['url']))"
   ]
  },
  {
   "cell_type": "code",
   "execution_count": 9,
   "id": "specified-ordering",
   "metadata": {
    "execution": {
     "iopub.execute_input": "2022-07-03T03:10:52.642440Z",
     "iopub.status.busy": "2022-07-03T03:10:52.641644Z",
     "iopub.status.idle": "2022-07-03T03:10:52.645816Z",
     "shell.execute_reply": "2022-07-03T03:10:52.645365Z"
    },
    "papermill": {
     "duration": 0.018508,
     "end_time": "2022-07-03T03:10:52.645914",
     "exception": false,
     "start_time": "2022-07-03T03:10:52.627406",
     "status": "completed"
    },
    "tags": []
   },
   "outputs": [
    {
     "data": {
      "text/markdown": [
       "- Coinbase Responds to Reports of Selling Customer ‘Geo Tracking’ Data to US Government.  The Nasdaq-listed cryptocurrency exchange Coinbase has insisted that it does not sell &#x201C;proprietary customer data&#x201D; after reports surfaced that its Tracer product is providing &#x201C;historical geo tracking data&#x201D; to the U.S. Immigrations and Customs Enforcement (ICE). Coinbase Responds to Reports of It Selling Customer Data to U.S. Government Cryptocurrency exchange Coinbase came under fire last [&#8230;] ... [| Skaityti daugiau](https://news.bitcoin.com/coinbase-responds-to-reports-of-selling-customer-geo-tracking-data-to-us-government/) "
      ],
      "text/plain": [
       "<IPython.core.display.Markdown object>"
      ]
     },
     "execution_count": 9,
     "metadata": {},
     "output_type": "execute_result"
    }
   ],
   "source": [
    "#hide_input\n",
    "#md('##### {}'.format(titleBTC)) \n",
    "md(\"- {}{} {}{} [| Skaityti daugiau]({}) \".format(exchange['title'],'. ', exchange['body'], ' ...', exchange['url']))"
   ]
  },
  {
   "cell_type": "code",
   "execution_count": null,
   "id": "tender-livestock",
   "metadata": {
    "papermill": {
     "duration": 0.011258,
     "end_time": "2022-07-03T03:10:52.668538",
     "exception": false,
     "start_time": "2022-07-03T03:10:52.657280",
     "status": "completed"
    },
    "tags": []
   },
   "outputs": [],
   "source": []
  },
  {
   "cell_type": "code",
   "execution_count": null,
   "id": "appreciated-diamond",
   "metadata": {
    "papermill": {
     "duration": 0.01117,
     "end_time": "2022-07-03T03:10:52.691051",
     "exception": false,
     "start_time": "2022-07-03T03:10:52.679881",
     "status": "completed"
    },
    "tags": []
   },
   "outputs": [],
   "source": []
  },
  {
   "cell_type": "code",
   "execution_count": null,
   "id": "romance-sweden",
   "metadata": {
    "papermill": {
     "duration": 0.011236,
     "end_time": "2022-07-03T03:10:52.713565",
     "exception": false,
     "start_time": "2022-07-03T03:10:52.702329",
     "status": "completed"
    },
    "tags": []
   },
   "outputs": [],
   "source": []
  },
  {
   "cell_type": "code",
   "execution_count": null,
   "id": "dietary-statistics",
   "metadata": {
    "papermill": {
     "duration": 0.011135,
     "end_time": "2022-07-03T03:10:52.735896",
     "exception": false,
     "start_time": "2022-07-03T03:10:52.724761",
     "status": "completed"
    },
    "tags": []
   },
   "outputs": [],
   "source": []
  }
 ],
 "metadata": {
  "kernelspec": {
   "display_name": "Python 3",
   "language": "python",
   "name": "python3"
  },
  "language_info": {
   "codemirror_mode": {
    "name": "ipython",
    "version": 3
   },
   "file_extension": ".py",
   "mimetype": "text/x-python",
   "name": "python",
   "nbconvert_exporter": "python",
   "pygments_lexer": "ipython3",
   "version": "3.6.15"
  },
  "papermill": {
   "default_parameters": {},
   "duration": 19.482091,
   "end_time": "2022-07-03T03:10:53.164893",
   "environment_variables": {},
   "exception": null,
   "input_path": "Market-News.ipynb",
   "output_path": "Market-News.ipynb",
   "parameters": {},
   "start_time": "2022-07-03T03:10:33.682802",
   "version": "2.2.2"
  }
 },
 "nbformat": 4,
 "nbformat_minor": 5
}