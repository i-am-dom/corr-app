{
 "cells": [
  {
   "cell_type": "markdown",
   "id": "short-greensboro",
   "metadata": {
    "papermill": {
     "duration": 0.039184,
     "end_time": "2021-09-30T02:06:53.696151",
     "exception": false,
     "start_time": "2021-09-30T02:06:53.656967",
     "status": "completed"
    },
    "tags": []
   },
   "source": [
    "# Kriptovaliutų naujienos"
   ]
  },
  {
   "cell_type": "code",
   "execution_count": 1,
   "id": "functioning-knowing",
   "metadata": {
    "execution": {
     "iopub.execute_input": "2021-09-30T02:06:53.775303Z",
     "iopub.status.busy": "2021-09-30T02:06:53.774775Z",
     "iopub.status.idle": "2021-09-30T02:06:54.920217Z",
     "shell.execute_reply": "2021-09-30T02:06:54.919688Z"
    },
    "papermill": {
     "duration": 1.189254,
     "end_time": "2021-09-30T02:06:54.920362",
     "exception": false,
     "start_time": "2021-09-30T02:06:53.731108",
     "status": "completed"
    },
    "tags": []
   },
   "outputs": [],
   "source": [
    "#hide_input\n",
    "import warnings\n",
    "warnings.filterwarnings('ignore')\n",
    "from scripts.read_data import read_api\n",
    "from scripts.read_data import read_news\n",
    "from scripts.read_data import read_covid\n",
    "import matplotlib.pyplot as plt \n",
    "from IPython.display import Markdown as md"
   ]
  },
  {
   "cell_type": "code",
   "execution_count": 2,
   "id": "shared-acceptance",
   "metadata": {
    "execution": {
     "iopub.execute_input": "2021-09-30T02:06:54.995867Z",
     "iopub.status.busy": "2021-09-30T02:06:54.995351Z",
     "iopub.status.idle": "2021-09-30T02:07:03.616602Z",
     "shell.execute_reply": "2021-09-30T02:07:03.616071Z"
    },
    "papermill": {
     "duration": 8.661409,
     "end_time": "2021-09-30T02:07:03.616739",
     "exception": false,
     "start_time": "2021-09-30T02:06:54.955330",
     "status": "completed"
    },
    "tags": []
   },
   "outputs": [],
   "source": [
    "#hide_input\n",
    "blockchain = read_news('blockchain') \n",
    "btc = read_news('btc') \n",
    "xrp = read_news('xrp') \n",
    "trx = read_news('trx') \n",
    "eth = read_news('eth')  \n",
    "ada = read_news('ada')\n",
    "exchange = read_news('exchange') "
   ]
  },
  {
   "cell_type": "code",
   "execution_count": 3,
   "id": "synthetic-notion",
   "metadata": {
    "execution": {
     "iopub.execute_input": "2021-09-30T02:07:03.692778Z",
     "iopub.status.busy": "2021-09-30T02:07:03.692243Z",
     "iopub.status.idle": "2021-09-30T02:07:03.694889Z",
     "shell.execute_reply": "2021-09-30T02:07:03.695289Z"
    },
    "papermill": {
     "duration": 0.043459,
     "end_time": "2021-09-30T02:07:03.695412",
     "exception": false,
     "start_time": "2021-09-30T02:07:03.651953",
     "status": "completed"
    },
    "tags": []
   },
   "outputs": [
    {
     "data": {
      "text/markdown": [
       "- Compound bug leaves $80 million in COMP at risk of being misrewarded.  A new upgrade to the Compound Finance protocol has contained a bug that leaves some users with unusual amounts of COMP token as rewards to be claimed.The post Compound bug leaves $80 million in COMP at risk of being misrewarded appeared first on The Block. ... [| Skaityti daugiau](https://www.theblockcrypto.com/linked/119086/compound-bug-comp-risk-misreward?utm_source=cryptocompare&utm_medium=rss) "
      ],
      "text/plain": [
       "<IPython.core.display.Markdown object>"
      ]
     },
     "execution_count": 3,
     "metadata": {},
     "output_type": "execute_result"
    }
   ],
   "source": [
    "#hide_input\n",
    "#md('##### {}'.format(titleBTC)) \n",
    "md(\"- {}{} {}{} [| Skaityti daugiau]({}) \".format(blockchain['title'],'. ', blockchain['body'], ' ...', blockchain['url']))"
   ]
  },
  {
   "cell_type": "code",
   "execution_count": 4,
   "id": "aging-caution",
   "metadata": {
    "execution": {
     "iopub.execute_input": "2021-09-30T02:07:03.771428Z",
     "iopub.status.busy": "2021-09-30T02:07:03.770233Z",
     "iopub.status.idle": "2021-09-30T02:07:03.773755Z",
     "shell.execute_reply": "2021-09-30T02:07:03.774157Z"
    },
    "papermill": {
     "duration": 0.043044,
     "end_time": "2021-09-30T02:07:03.774291",
     "exception": false,
     "start_time": "2021-09-30T02:07:03.731247",
     "status": "completed"
    },
    "tags": []
   },
   "outputs": [
    {
     "data": {
      "text/markdown": [
       "- Will Q4 of 2021 see Bitcoin hit $64K again, let alone $100K.  2021 will be remembered for many reasons and in less than 48 hours, the year will finally welcome Q4. With Bitcoin hitting an all-time high in Q2 of 2021, many in the community have been expecting a bullish rally on the charts. One that will push BTC past its previous high of over $64,000. While [&#8230;] ... [| Skaityti daugiau](https://ambcrypto.com/will-q4-of-2021-see-bitcoin-hit-64k-again-let-alone-100k/) "
      ],
      "text/plain": [
       "<IPython.core.display.Markdown object>"
      ]
     },
     "execution_count": 4,
     "metadata": {},
     "output_type": "execute_result"
    }
   ],
   "source": [
    "#hide_input\n",
    "#md('##### {}'.format(titleBTC)) \n",
    "md(\"- {}{} {}{} [| Skaityti daugiau]({}) \".format(btc['title'],'. ', btc['body'], ' ...', btc['url']))"
   ]
  },
  {
   "cell_type": "code",
   "execution_count": 5,
   "id": "organic-actress",
   "metadata": {
    "execution": {
     "iopub.execute_input": "2021-09-30T02:07:03.853143Z",
     "iopub.status.busy": "2021-09-30T02:07:03.852586Z",
     "iopub.status.idle": "2021-09-30T02:07:03.855151Z",
     "shell.execute_reply": "2021-09-30T02:07:03.855550Z"
    },
    "papermill": {
     "duration": 0.04424,
     "end_time": "2021-09-30T02:07:03.855664",
     "exception": false,
     "start_time": "2021-09-30T02:07:03.811424",
     "status": "completed"
    },
    "tags": []
   },
   "outputs": [
    {
     "data": {
      "text/markdown": [
       "- “XRP’s Primary Purpose Is Facilitating Cross Border Payments”, Says Former U.S. Treasurer.  Former U.S. Treasurer and Ripple board member Rosa Rios has said on social media that she sees the XRP token as a cryptocurrency whose primary purpose is “facilitating cross-border payments,” while most other cryptocurrencies “find their value in speculation.” Per Rios, who joined Ripple’s board of directors in May of this year, China’s latest crackdown […] ... [| Skaityti daugiau](https://www.cryptoglobe.com/latest/2021/09/xrps-primary-purpose-is-facilitating-cross-border-payments-says-former-u-s-treasurer/) "
      ],
      "text/plain": [
       "<IPython.core.display.Markdown object>"
      ]
     },
     "execution_count": 5,
     "metadata": {},
     "output_type": "execute_result"
    }
   ],
   "source": [
    "#hide_input\n",
    "#md('##### {}'.format(titleBTC)) \n",
    "md(\"- {}{} {}{} [| Skaityti daugiau]({}) \".format(xrp['title'],'. ', xrp['body'], ' ...', xrp['url']))"
   ]
  },
  {
   "cell_type": "code",
   "execution_count": 6,
   "id": "prompt-farmer",
   "metadata": {
    "execution": {
     "iopub.execute_input": "2021-09-30T02:07:03.937852Z",
     "iopub.status.busy": "2021-09-30T02:07:03.937345Z",
     "iopub.status.idle": "2021-09-30T02:07:03.939784Z",
     "shell.execute_reply": "2021-09-30T02:07:03.940182Z"
    },
    "papermill": {
     "duration": 0.046295,
     "end_time": "2021-09-30T02:07:03.940299",
     "exception": false,
     "start_time": "2021-09-30T02:07:03.894004",
     "status": "completed"
    },
    "tags": []
   },
   "outputs": [
    {
     "data": {
      "text/markdown": [
       "- Tron (TRX) Price Analysis: Recovery Possible If It Clears $0.09.  Tron price started a fresh decline below the $0.1000 zone against the US Dollar. TRX price is now trading below $0.1000 and the 55 simple moving average (4-hours). There is a major bearish trend line forming with resistance near $0.0900 on the 4-hours chart (data feed via Bitfinex). The pair could start a steady increase...The post Tron (TRX) Price Analysis: Recovery Possible If It Clears $0.09 appeared first on Live Bitcoin News. ... [| Skaityti daugiau](https://www.livebitcoinnews.com/tron-trx-price-analysis-recovery-possible-if-it-clears-0-09/) "
      ],
      "text/plain": [
       "<IPython.core.display.Markdown object>"
      ]
     },
     "execution_count": 6,
     "metadata": {},
     "output_type": "execute_result"
    }
   ],
   "source": [
    "#hide_input\n",
    "#md('##### {}'.format(titleBTC)) \n",
    "md(\"- {}{} {}{} [| Skaityti daugiau]({}) \".format(trx['title'],'. ', trx['body'], ' ...', trx['url']))"
   ]
  },
  {
   "cell_type": "code",
   "execution_count": 7,
   "id": "illegal-greece",
   "metadata": {
    "execution": {
     "iopub.execute_input": "2021-09-30T02:07:04.024187Z",
     "iopub.status.busy": "2021-09-30T02:07:04.023679Z",
     "iopub.status.idle": "2021-09-30T02:07:04.026042Z",
     "shell.execute_reply": "2021-09-30T02:07:04.026542Z"
    },
    "papermill": {
     "duration": 0.046538,
     "end_time": "2021-09-30T02:07:04.026657",
     "exception": false,
     "start_time": "2021-09-30T02:07:03.980119",
     "status": "completed"
    },
    "tags": []
   },
   "outputs": [
    {
     "data": {
      "text/markdown": [
       "- Polygon’s struggles on the on-chain front could mean this for MATIC.  The state of the broader crypto-market hasn&#8217;t been winsome lately. The diminishing returns offered by top coins including Bitcoin, Ethereum, and Cardano have triggered a drop in the global crypto-market cap too. In effect, the state of the on-chain metrics for most of these cryptos has started withering already. However, Polygon&#8217;s tale has been slightly [&#8230;] ... [| Skaityti daugiau](https://ambcrypto.com/polygons-struggles-on-the-on-chain-front-could-mean-this-for-matic/) "
      ],
      "text/plain": [
       "<IPython.core.display.Markdown object>"
      ]
     },
     "execution_count": 7,
     "metadata": {},
     "output_type": "execute_result"
    }
   ],
   "source": [
    "#hide_input\n",
    "#md('##### {}'.format(titleBTC)) \n",
    "md(\"- {}{} {}{} [| Skaityti daugiau]({}) \".format(eth['title'],'. ', eth['body'], ' ...', eth['url']))"
   ]
  },
  {
   "cell_type": "code",
   "execution_count": 8,
   "id": "sublime-lounge",
   "metadata": {
    "execution": {
     "iopub.execute_input": "2021-09-30T02:07:04.112778Z",
     "iopub.status.busy": "2021-09-30T02:07:04.112282Z",
     "iopub.status.idle": "2021-09-30T02:07:04.114792Z",
     "shell.execute_reply": "2021-09-30T02:07:04.115267Z"
    },
    "papermill": {
     "duration": 0.047871,
     "end_time": "2021-09-30T02:07:04.115375",
     "exception": false,
     "start_time": "2021-09-30T02:07:04.067504",
     "status": "completed"
    },
    "tags": []
   },
   "outputs": [
    {
     "data": {
      "text/markdown": [
       "- Polygon’s struggles on the on-chain front could mean this for MATIC.  The state of the broader crypto-market hasn&#8217;t been winsome lately. The diminishing returns offered by top coins including Bitcoin, Ethereum, and Cardano have triggered a drop in the global crypto-market cap too. In effect, the state of the on-chain metrics for most of these cryptos has started withering already. However, Polygon&#8217;s tale has been slightly [&#8230;] ... [| Skaityti daugiau](https://ambcrypto.com/polygons-struggles-on-the-on-chain-front-could-mean-this-for-matic/) "
      ],
      "text/plain": [
       "<IPython.core.display.Markdown object>"
      ]
     },
     "execution_count": 8,
     "metadata": {},
     "output_type": "execute_result"
    }
   ],
   "source": [
    "#hide_input\n",
    "#md('##### {}'.format(titleBTC)) \n",
    "md(\"- {}{} {}{} [| Skaityti daugiau]({}) \".format(ada['title'],'. ', ada['body'], ' ...', ada['url']))"
   ]
  },
  {
   "cell_type": "code",
   "execution_count": 9,
   "id": "specified-ordering",
   "metadata": {
    "execution": {
     "iopub.execute_input": "2021-09-30T02:07:04.204536Z",
     "iopub.status.busy": "2021-09-30T02:07:04.204038Z",
     "iopub.status.idle": "2021-09-30T02:07:04.206619Z",
     "shell.execute_reply": "2021-09-30T02:07:04.207102Z"
    },
    "papermill": {
     "duration": 0.049426,
     "end_time": "2021-09-30T02:07:04.207212",
     "exception": false,
     "start_time": "2021-09-30T02:07:04.157786",
     "status": "completed"
    },
    "tags": []
   },
   "outputs": [
    {
     "data": {
      "text/markdown": [
       "- Crypto Analyst Says Ethereum Market Is A “Ticking Time Bomb”, Here’s Why.  Ethereum has recently taken hits along with the rest of the wider market. Numerous market dips and crashes have seen the digital asset crashing back down below $3,000 in recent weeks and this has left ETH in a struggling position. With momentum down, it looks like the market is headed for another bear market as cryptocurrencies are now recording lower lows and lower highs with each dip and recovery. Related Reading &#124; JPMorgan Analysts Say That Big Money Are Dumping Bitcoin For Ethereum The asset had dropped below the $2,700 price range for the first time in a two-month period. And the September slowdown has caused recovery trends to fall short of expectations. Despite this, crypto analyst Lark Davis does not believe the asset should be counted out just here. Pointing to some interesting exchange reserve metrics, the analyst believes that Ethereum could very well be on the verge of an explosion. Exchange Reserves Drop 15% Declining exchange reserves volume has been reported upon recently. This is not peculiar to Ethereum alone. Data shows that in addition to ETH, Bitcoin exchange reserves have also plummeted in the past couple of months. This goes against the grain of how bull markets have operated in the past. With each past rally have come increased exchange reserves as investors moved their assets onto centralized exchanges to sell and take profits. But 2021 has been the year of the unexpected in the crypto market. ETH ... ... [| Skaityti daugiau](https://www.newsbtc.com/analysis/eth/ethereum-is-a-ticking-time-bomb/) "
      ],
      "text/plain": [
       "<IPython.core.display.Markdown object>"
      ]
     },
     "execution_count": 9,
     "metadata": {},
     "output_type": "execute_result"
    }
   ],
   "source": [
    "#hide_input\n",
    "#md('##### {}'.format(titleBTC)) \n",
    "md(\"- {}{} {}{} [| Skaityti daugiau]({}) \".format(exchange['title'],'. ', exchange['body'], ' ...', exchange['url']))"
   ]
  },
  {
   "cell_type": "code",
   "execution_count": null,
   "id": "tender-livestock",
   "metadata": {
    "papermill": {
     "duration": 0.043536,
     "end_time": "2021-09-30T02:07:04.294501",
     "exception": false,
     "start_time": "2021-09-30T02:07:04.250965",
     "status": "completed"
    },
    "tags": []
   },
   "outputs": [],
   "source": []
  },
  {
   "cell_type": "code",
   "execution_count": null,
   "id": "appreciated-diamond",
   "metadata": {
    "papermill": {
     "duration": 0.043485,
     "end_time": "2021-09-30T02:07:04.381883",
     "exception": false,
     "start_time": "2021-09-30T02:07:04.338398",
     "status": "completed"
    },
    "tags": []
   },
   "outputs": [],
   "source": []
  },
  {
   "cell_type": "code",
   "execution_count": null,
   "id": "romance-sweden",
   "metadata": {
    "papermill": {
     "duration": 0.043726,
     "end_time": "2021-09-30T02:07:04.469318",
     "exception": false,
     "start_time": "2021-09-30T02:07:04.425592",
     "status": "completed"
    },
    "tags": []
   },
   "outputs": [],
   "source": []
  },
  {
   "cell_type": "code",
   "execution_count": null,
   "id": "dietary-statistics",
   "metadata": {
    "papermill": {
     "duration": 0.043695,
     "end_time": "2021-09-30T02:07:04.556954",
     "exception": false,
     "start_time": "2021-09-30T02:07:04.513259",
     "status": "completed"
    },
    "tags": []
   },
   "outputs": [],
   "source": []
  }
 ],
 "metadata": {
  "kernelspec": {
   "display_name": "Python 3",
   "language": "python",
   "name": "python3"
  },
  "language_info": {
   "codemirror_mode": {
    "name": "ipython",
    "version": 3
   },
   "file_extension": ".py",
   "mimetype": "text/x-python",
   "name": "python",
   "nbconvert_exporter": "python",
   "pygments_lexer": "ipython3",
   "version": "3.6.15"
  },
  "papermill": {
   "default_parameters": {},
   "duration": 12.402894,
   "end_time": "2021-09-30T02:07:05.008434",
   "environment_variables": {},
   "exception": null,
   "input_path": "Market-News.ipynb",
   "output_path": "Market-News.ipynb",
   "parameters": {},
   "start_time": "2021-09-30T02:06:52.605540",
   "version": "2.2.2"
  }
 },
 "nbformat": 4,
 "nbformat_minor": 5
}