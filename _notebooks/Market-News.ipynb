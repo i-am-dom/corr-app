{
 "cells": [
  {
   "cell_type": "markdown",
   "id": "short-greensboro",
   "metadata": {
    "papermill": {
     "duration": 0.013233,
     "end_time": "2021-12-24T02:04:15.875335",
     "exception": false,
     "start_time": "2021-12-24T02:04:15.862102",
     "status": "completed"
    },
    "tags": []
   },
   "source": [
    "# Kriptovaliutų naujienos"
   ]
  },
  {
   "cell_type": "code",
   "execution_count": 1,
   "id": "functioning-knowing",
   "metadata": {
    "execution": {
     "iopub.execute_input": "2021-12-24T02:04:15.905797Z",
     "iopub.status.busy": "2021-12-24T02:04:15.905196Z",
     "iopub.status.idle": "2021-12-24T02:04:17.283239Z",
     "shell.execute_reply": "2021-12-24T02:04:17.282677Z"
    },
    "papermill": {
     "duration": 1.397921,
     "end_time": "2021-12-24T02:04:17.283406",
     "exception": false,
     "start_time": "2021-12-24T02:04:15.885485",
     "status": "completed"
    },
    "tags": []
   },
   "outputs": [],
   "source": [
    "#hide_input\n",
    "import warnings\n",
    "warnings.filterwarnings('ignore')\n",
    "from scripts.read_data import read_api\n",
    "from scripts.read_data import read_news\n",
    "from scripts.read_data import read_covid\n",
    "import matplotlib.pyplot as plt \n",
    "from IPython.display import Markdown as md"
   ]
  },
  {
   "cell_type": "code",
   "execution_count": 2,
   "id": "shared-acceptance",
   "metadata": {
    "execution": {
     "iopub.execute_input": "2021-12-24T02:04:17.311409Z",
     "iopub.status.busy": "2021-12-24T02:04:17.310262Z",
     "iopub.status.idle": "2021-12-24T02:04:25.930287Z",
     "shell.execute_reply": "2021-12-24T02:04:25.929287Z"
    },
    "papermill": {
     "duration": 8.636804,
     "end_time": "2021-12-24T02:04:25.930434",
     "exception": false,
     "start_time": "2021-12-24T02:04:17.293630",
     "status": "completed"
    },
    "tags": []
   },
   "outputs": [],
   "source": [
    "#hide_input\n",
    "blockchain = read_news('blockchain') \n",
    "btc = read_news('btc') \n",
    "xrp = read_news('xrp') \n",
    "trx = read_news('trx') \n",
    "eth = read_news('eth')  \n",
    "ada = read_news('ada')\n",
    "exchange = read_news('exchange') "
   ]
  },
  {
   "cell_type": "code",
   "execution_count": 3,
   "id": "synthetic-notion",
   "metadata": {
    "execution": {
     "iopub.execute_input": "2021-12-24T02:04:25.956537Z",
     "iopub.status.busy": "2021-12-24T02:04:25.955961Z",
     "iopub.status.idle": "2021-12-24T02:04:25.958123Z",
     "shell.execute_reply": "2021-12-24T02:04:25.958622Z"
    },
    "papermill": {
     "duration": 0.018614,
     "end_time": "2021-12-24T02:04:25.958775",
     "exception": false,
     "start_time": "2021-12-24T02:04:25.940161",
     "status": "completed"
    },
    "tags": []
   },
   "outputs": [
    {
     "data": {
      "text/markdown": [
       "- New ‘Extraordinarily Powerful’ Sector of Crypto Assets To Penetrate Multiple Industries: Macro Guru Raoul Pal.  Real Vision CEO and macro guru Raoul Pal says that he’s identified which sector of the crypto market will infiltrate the mainstream next. In a new interview on the Angelo Robles podcast, Pal says that social tokens, or crypto assets that act like equity for blockchain-based communities, will soon find themselves integrated across many popular [&#8230;]The post New ‘Extraordinarily Powerful’ Sector of Crypto Assets To Penetrate Multiple Industries: Macro Guru Raoul Pal appeared first on The Daily Hodl. ... [| Skaityti daugiau](https://dailyhodl.com/2021/12/23/new-extraordinarily-powerful-sector-of-crypto-assets-to-penetrate-multiple-industries-macro-guru-raoul-pal/) "
      ],
      "text/plain": [
       "<IPython.core.display.Markdown object>"
      ]
     },
     "execution_count": 3,
     "metadata": {},
     "output_type": "execute_result"
    }
   ],
   "source": [
    "#hide_input\n",
    "#md('##### {}'.format(titleBTC)) \n",
    "md(\"- {}{} {}{} [| Skaityti daugiau]({}) \".format(blockchain['title'],'. ', blockchain['body'], ' ...', blockchain['url']))"
   ]
  },
  {
   "cell_type": "code",
   "execution_count": 4,
   "id": "aging-caution",
   "metadata": {
    "execution": {
     "iopub.execute_input": "2021-12-24T02:04:25.984196Z",
     "iopub.status.busy": "2021-12-24T02:04:25.983552Z",
     "iopub.status.idle": "2021-12-24T02:04:25.988196Z",
     "shell.execute_reply": "2021-12-24T02:04:25.987770Z"
    },
    "papermill": {
     "duration": 0.019696,
     "end_time": "2021-12-24T02:04:25.988327",
     "exception": false,
     "start_time": "2021-12-24T02:04:25.968631",
     "status": "completed"
    },
    "tags": []
   },
   "outputs": [
    {
     "data": {
      "text/markdown": [
       "- Bitcoin's Illiquid Supply Continues To Hit Multi-Years Highs.  Since May 2021, the supply of illiquid bitcoin has grown by almost 371,000 BTC. ... [| Skaityti daugiau](https://bitcoinmagazine.com/markets/bitcoins-illiquid-supply-continues-to-hit-multi-years-highs) "
      ],
      "text/plain": [
       "<IPython.core.display.Markdown object>"
      ]
     },
     "execution_count": 4,
     "metadata": {},
     "output_type": "execute_result"
    }
   ],
   "source": [
    "#hide_input\n",
    "#md('##### {}'.format(titleBTC)) \n",
    "md(\"- {}{} {}{} [| Skaityti daugiau]({}) \".format(btc['title'],'. ', btc['body'], ' ...', btc['url']))"
   ]
  },
  {
   "cell_type": "code",
   "execution_count": 5,
   "id": "organic-actress",
   "metadata": {
    "execution": {
     "iopub.execute_input": "2021-12-24T02:04:26.014712Z",
     "iopub.status.busy": "2021-12-24T02:04:26.014069Z",
     "iopub.status.idle": "2021-12-24T02:04:26.016448Z",
     "shell.execute_reply": "2021-12-24T02:04:26.016930Z"
    },
    "papermill": {
     "duration": 0.018657,
     "end_time": "2021-12-24T02:04:26.017120",
     "exception": false,
     "start_time": "2021-12-24T02:04:25.998463",
     "status": "completed"
    },
    "tags": []
   },
   "outputs": [
    {
     "data": {
      "text/markdown": [
       "- Ripple Achieves ‘Strongest Year Ever’ Despite SEC Lawsuit Over XRP, Says CEO.  Ripple has achieved the &#x201C;strongest year ever&#x201D; despite the lawsuit over XRP by the U.S. Securities and Exchange Commission (SEC), according to CEO Brad Garlinghouse. &#x201C;Calling crypto the &#x2018;Wild West&#x2019; is a farce,&#x201D; he said, emphasizing that &#x201C;most are complying with financial regulators globally.&#x201D; Ripple Has Best Year Despite SEC&#x2019;s Lawsuit Over XRP Ripple CEO [&#8230;] ... [| Skaityti daugiau](https://news.bitcoin.com/ripple-strongest-year-ever-despite-sec-lawsuit-over-xrp/) "
      ],
      "text/plain": [
       "<IPython.core.display.Markdown object>"
      ]
     },
     "execution_count": 5,
     "metadata": {},
     "output_type": "execute_result"
    }
   ],
   "source": [
    "#hide_input\n",
    "#md('##### {}'.format(titleBTC)) \n",
    "md(\"- {}{} {}{} [| Skaityti daugiau]({}) \".format(xrp['title'],'. ', xrp['body'], ' ...', xrp['url']))"
   ]
  },
  {
   "cell_type": "code",
   "execution_count": 6,
   "id": "prompt-farmer",
   "metadata": {
    "execution": {
     "iopub.execute_input": "2021-12-24T02:04:26.043939Z",
     "iopub.status.busy": "2021-12-24T02:04:26.043390Z",
     "iopub.status.idle": "2021-12-24T02:04:26.047033Z",
     "shell.execute_reply": "2021-12-24T02:04:26.046596Z"
    },
    "papermill": {
     "duration": 0.019533,
     "end_time": "2021-12-24T02:04:26.047159",
     "exception": false,
     "start_time": "2021-12-24T02:04:26.027626",
     "status": "completed"
    },
    "tags": []
   },
   "outputs": [
    {
     "data": {
      "text/markdown": [
       "- TRON ($TRX) Founder Justin Sun to Travel to Space After Charitable Donation.  Ambassador Justin Sun has won his $28 million bid to go to space and he will be taking five crewmates with him. Over the next few months, he’ll select five people, from both his TRON community and from exceptional leaders of the fashion, art, space exploration and entrepreneurship worlds. More details on how this will […] ... [| Skaityti daugiau](https://www.cryptoglobe.com/latest/2021/12/tron-trx-founder-justin-sun-to-travel-to-space-after-charitable-donation/) "
      ],
      "text/plain": [
       "<IPython.core.display.Markdown object>"
      ]
     },
     "execution_count": 6,
     "metadata": {},
     "output_type": "execute_result"
    }
   ],
   "source": [
    "#hide_input\n",
    "#md('##### {}'.format(titleBTC)) \n",
    "md(\"- {}{} {}{} [| Skaityti daugiau]({}) \".format(trx['title'],'. ', trx['body'], ' ...', trx['url']))"
   ]
  },
  {
   "cell_type": "code",
   "execution_count": 7,
   "id": "illegal-greece",
   "metadata": {
    "execution": {
     "iopub.execute_input": "2021-12-24T02:04:26.074653Z",
     "iopub.status.busy": "2021-12-24T02:04:26.074126Z",
     "iopub.status.idle": "2021-12-24T02:04:26.077017Z",
     "shell.execute_reply": "2021-12-24T02:04:26.077520Z"
    },
    "papermill": {
     "duration": 0.019528,
     "end_time": "2021-12-24T02:04:26.077655",
     "exception": false,
     "start_time": "2021-12-24T02:04:26.058127",
     "status": "completed"
    },
    "tags": []
   },
   "outputs": [
    {
     "data": {
      "text/markdown": [
       "- Crypto Research Analyst Puts Ethereum At $9,000 In Six Months.  Ethereum has had a good year in 2021, although the digital asset is looking to close out the year on a less than a bullish note. Nevertheless, investor sentiment around the altcoin continues to be on the positive side as most expect the cryptocurrency to do well in the coming years. One of those is a crypto research analyst at Fundstrat, Armando Aguilar, who believes that Ethereum will double in price next year. Ethereum Heading For A Big Year In a report on Business Insider, Aguilar noted that the year has been a choppy one for the cryptocurrency market. There were several bull rallies and crashes that rocked the market for the year, and the analyst expects to see this choppiness persist into next year. However, next year does not look to be all bad from his perspective. Related Reading &#124; Jack Dorsey Disses Ethereum, Web3 In Twitter Rampage Aguilar shared with Insider that he was expecting more adoption from institutional investors into bitcoin which would lead to what he sees to be a successful year. For Ethereum, this has some important implications as the coin has now lost its footing above $4,000. Aguilar explained that he sees the price of Ethereum doing very well going into the year 2022. ETH begins recovery towards $4k &#124; Source: ETHUSD on TradingView.com He puts the price of the second-largest cryptocurrency by market cap at $9,000 by the second quarter of 2022. This will be propelled by the growth of decentr... ... [| Skaityti daugiau](https://www.newsbtc.com/news/ethereum/crypto-research-analyst-puts-ethereum-at-9000-in-six-months/) "
      ],
      "text/plain": [
       "<IPython.core.display.Markdown object>"
      ]
     },
     "execution_count": 7,
     "metadata": {},
     "output_type": "execute_result"
    }
   ],
   "source": [
    "#hide_input\n",
    "#md('##### {}'.format(titleBTC)) \n",
    "md(\"- {}{} {}{} [| Skaityti daugiau]({}) \".format(eth['title'],'. ', eth['body'], ' ...', eth['url']))"
   ]
  },
  {
   "cell_type": "code",
   "execution_count": 8,
   "id": "sublime-lounge",
   "metadata": {
    "execution": {
     "iopub.execute_input": "2021-12-24T02:04:26.105838Z",
     "iopub.status.busy": "2021-12-24T02:04:26.105281Z",
     "iopub.status.idle": "2021-12-24T02:04:26.108369Z",
     "shell.execute_reply": "2021-12-24T02:04:26.108765Z"
    },
    "papermill": {
     "duration": 0.020131,
     "end_time": "2021-12-24T02:04:26.108914",
     "exception": false,
     "start_time": "2021-12-24T02:04:26.088783",
     "status": "completed"
    },
    "tags": []
   },
   "outputs": [
    {
     "data": {
      "text/markdown": [
       "- Cardano Price Analysis: ADA Breaks Above $1.3, Here’s the Next Target.  ADA rallied over 10% in the past three days, breaking a key level at $1.3. ... [| Skaityti daugiau](https://cryptopotato.com/cardano-price-analysis-ada-breaks-above-1-3-heres-the-next-target/) "
      ],
      "text/plain": [
       "<IPython.core.display.Markdown object>"
      ]
     },
     "execution_count": 8,
     "metadata": {},
     "output_type": "execute_result"
    }
   ],
   "source": [
    "#hide_input\n",
    "#md('##### {}'.format(titleBTC)) \n",
    "md(\"- {}{} {}{} [| Skaityti daugiau]({}) \".format(ada['title'],'. ', ada['body'], ' ...', ada['url']))"
   ]
  },
  {
   "cell_type": "code",
   "execution_count": 9,
   "id": "specified-ordering",
   "metadata": {
    "execution": {
     "iopub.execute_input": "2021-12-24T02:04:26.137800Z",
     "iopub.status.busy": "2021-12-24T02:04:26.137235Z",
     "iopub.status.idle": "2021-12-24T02:04:26.140284Z",
     "shell.execute_reply": "2021-12-24T02:04:26.140706Z"
    },
    "papermill": {
     "duration": 0.020402,
     "end_time": "2021-12-24T02:04:26.140849",
     "exception": false,
     "start_time": "2021-12-24T02:04:26.120447",
     "status": "completed"
    },
    "tags": []
   },
   "outputs": [
    {
     "data": {
      "text/markdown": [
       "- Ripple Achieves ‘Strongest Year Ever’ Despite SEC Lawsuit Over XRP, Says CEO.  Ripple has achieved the &#x201C;strongest year ever&#x201D; despite the lawsuit over XRP by the U.S. Securities and Exchange Commission (SEC), according to CEO Brad Garlinghouse. &#x201C;Calling crypto the &#x2018;Wild West&#x2019; is a farce,&#x201D; he said, emphasizing that &#x201C;most are complying with financial regulators globally.&#x201D; Ripple Has Best Year Despite SEC&#x2019;s Lawsuit Over XRP Ripple CEO [&#8230;] ... [| Skaityti daugiau](https://news.bitcoin.com/ripple-strongest-year-ever-despite-sec-lawsuit-over-xrp/) "
      ],
      "text/plain": [
       "<IPython.core.display.Markdown object>"
      ]
     },
     "execution_count": 9,
     "metadata": {},
     "output_type": "execute_result"
    }
   ],
   "source": [
    "#hide_input\n",
    "#md('##### {}'.format(titleBTC)) \n",
    "md(\"- {}{} {}{} [| Skaityti daugiau]({}) \".format(exchange['title'],'. ', exchange['body'], ' ...', exchange['url']))"
   ]
  },
  {
   "cell_type": "code",
   "execution_count": null,
   "id": "tender-livestock",
   "metadata": {
    "papermill": {
     "duration": 0.01173,
     "end_time": "2021-12-24T02:04:26.164515",
     "exception": false,
     "start_time": "2021-12-24T02:04:26.152785",
     "status": "completed"
    },
    "tags": []
   },
   "outputs": [],
   "source": []
  },
  {
   "cell_type": "code",
   "execution_count": null,
   "id": "appreciated-diamond",
   "metadata": {
    "papermill": {
     "duration": 0.011543,
     "end_time": "2021-12-24T02:04:26.187978",
     "exception": false,
     "start_time": "2021-12-24T02:04:26.176435",
     "status": "completed"
    },
    "tags": []
   },
   "outputs": [],
   "source": []
  },
  {
   "cell_type": "code",
   "execution_count": null,
   "id": "romance-sweden",
   "metadata": {
    "papermill": {
     "duration": 0.011617,
     "end_time": "2021-12-24T02:04:26.211242",
     "exception": false,
     "start_time": "2021-12-24T02:04:26.199625",
     "status": "completed"
    },
    "tags": []
   },
   "outputs": [],
   "source": []
  },
  {
   "cell_type": "code",
   "execution_count": null,
   "id": "dietary-statistics",
   "metadata": {
    "papermill": {
     "duration": 0.011577,
     "end_time": "2021-12-24T02:04:26.234439",
     "exception": false,
     "start_time": "2021-12-24T02:04:26.222862",
     "status": "completed"
    },
    "tags": []
   },
   "outputs": [],
   "source": []
  }
 ],
 "metadata": {
  "kernelspec": {
   "display_name": "Python 3",
   "language": "python",
   "name": "python3"
  },
  "language_info": {
   "codemirror_mode": {
    "name": "ipython",
    "version": 3
   },
   "file_extension": ".py",
   "mimetype": "text/x-python",
   "name": "python",
   "nbconvert_exporter": "python",
   "pygments_lexer": "ipython3",
   "version": "3.6.15"
  },
  "papermill": {
   "default_parameters": {},
   "duration": 12.169615,
   "end_time": "2021-12-24T02:04:26.755424",
   "environment_variables": {},
   "exception": null,
   "input_path": "Market-News.ipynb",
   "output_path": "Market-News.ipynb",
   "parameters": {},
   "start_time": "2021-12-24T02:04:14.585809",
   "version": "2.2.2"
  }
 },
 "nbformat": 4,
 "nbformat_minor": 5
}