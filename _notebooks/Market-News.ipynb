{
 "cells": [
  {
   "cell_type": "markdown",
   "id": "short-greensboro",
   "metadata": {
    "papermill": {
     "duration": 0.016728,
     "end_time": "2021-09-04T01:57:58.825050",
     "exception": false,
     "start_time": "2021-09-04T01:57:58.808322",
     "status": "completed"
    },
    "tags": []
   },
   "source": [
    "# Kriptovaliutų naujienos"
   ]
  },
  {
   "cell_type": "code",
   "execution_count": 1,
   "id": "functioning-knowing",
   "metadata": {
    "execution": {
     "iopub.execute_input": "2021-09-04T01:57:58.860063Z",
     "iopub.status.busy": "2021-09-04T01:57:58.859513Z",
     "iopub.status.idle": "2021-09-04T01:58:00.061994Z",
     "shell.execute_reply": "2021-09-04T01:58:00.061287Z"
    },
    "papermill": {
     "duration": 1.226321,
     "end_time": "2021-09-04T01:58:00.062189",
     "exception": false,
     "start_time": "2021-09-04T01:57:58.835868",
     "status": "completed"
    },
    "tags": []
   },
   "outputs": [],
   "source": [
    "#hide_input\n",
    "import warnings\n",
    "warnings.filterwarnings('ignore')\n",
    "from scripts.read_data import read_api\n",
    "from scripts.read_data import read_news\n",
    "from scripts.read_data import read_covid\n",
    "import matplotlib.pyplot as plt \n",
    "from IPython.display import Markdown as md"
   ]
  },
  {
   "cell_type": "code",
   "execution_count": 2,
   "id": "shared-acceptance",
   "metadata": {
    "execution": {
     "iopub.execute_input": "2021-09-04T01:58:00.090025Z",
     "iopub.status.busy": "2021-09-04T01:58:00.089481Z",
     "iopub.status.idle": "2021-09-04T01:58:08.197036Z",
     "shell.execute_reply": "2021-09-04T01:58:08.196085Z"
    },
    "papermill": {
     "duration": 8.122881,
     "end_time": "2021-09-04T01:58:08.197179",
     "exception": false,
     "start_time": "2021-09-04T01:58:00.074298",
     "status": "completed"
    },
    "tags": []
   },
   "outputs": [],
   "source": [
    "#hide_input\n",
    "blockchain = read_news('blockchain') \n",
    "btc = read_news('btc') \n",
    "xrp = read_news('xrp') \n",
    "trx = read_news('trx') \n",
    "eth = read_news('eth')  \n",
    "ada = read_news('ada')\n",
    "exchange = read_news('exchange') "
   ]
  },
  {
   "cell_type": "code",
   "execution_count": 3,
   "id": "synthetic-notion",
   "metadata": {
    "execution": {
     "iopub.execute_input": "2021-09-04T01:58:08.224442Z",
     "iopub.status.busy": "2021-09-04T01:58:08.223809Z",
     "iopub.status.idle": "2021-09-04T01:58:08.228206Z",
     "shell.execute_reply": "2021-09-04T01:58:08.227729Z"
    },
    "papermill": {
     "duration": 0.020632,
     "end_time": "2021-09-04T01:58:08.228324",
     "exception": false,
     "start_time": "2021-09-04T01:58:08.207692",
     "status": "completed"
    },
    "tags": []
   },
   "outputs": [
    {
     "data": {
      "text/markdown": [
       "- End of August’s NFT Sales Tapped All-Time High at $1 Billion, Last Week’s NFT Sales Hit $821 Million.  Data shows that non-fungible token (NFT) assets continue to break record sales week after week as statistics show over $1 billion in NFT sales took place during the last week of August. Meanwhile, this week&#x2019;s data shows $821 million in NFT sales have been settled so far, dropping a hair since the week prior. Weekly [&#8230;] ... [| Skaityti daugiau](https://news.bitcoin.com/end-of-augusts-nft-sales-tapped-all-time-high-at-1-billion-last-weeks-nft-sales-hit-821-million/) "
      ],
      "text/plain": [
       "<IPython.core.display.Markdown object>"
      ]
     },
     "execution_count": 3,
     "metadata": {},
     "output_type": "execute_result"
    }
   ],
   "source": [
    "#hide_input\n",
    "#md('##### {}'.format(titleBTC)) \n",
    "md(\"- {}{} {}{} [| Skaityti daugiau]({}) \".format(blockchain['title'],'. ', blockchain['body'], ' ...', blockchain['url']))"
   ]
  },
  {
   "cell_type": "code",
   "execution_count": 4,
   "id": "aging-caution",
   "metadata": {
    "execution": {
     "iopub.execute_input": "2021-09-04T01:58:08.252911Z",
     "iopub.status.busy": "2021-09-04T01:58:08.252281Z",
     "iopub.status.idle": "2021-09-04T01:58:08.255571Z",
     "shell.execute_reply": "2021-09-04T01:58:08.255139Z"
    },
    "papermill": {
     "duration": 0.017505,
     "end_time": "2021-09-04T01:58:08.255678",
     "exception": false,
     "start_time": "2021-09-04T01:58:08.238173",
     "status": "completed"
    },
    "tags": []
   },
   "outputs": [
    {
     "data": {
      "text/markdown": [
       "- Move Over Dogecoin: Solana Overtakes the Memecoin Amid NFT Craze.  Driven by the recent NFT and DeFi craze, Solana’s SOL set its all-time high earlier today. According to CoinMarketCap, the cryptocurrency is up 12.62% and 70.86% in the past 24 hours and the past week, respectively. SOL’s explosive growth led to the cryptocurrency’s market capitalization soaring to over $43 billion &#8212; surpassing Dogecoin to become [&#8230;] ... [| Skaityti daugiau](https://bitcoinist.com/move-over-dogecoin-solana-overtakes-the-memecoin-amid-nft-craze/?utm_source=rss&utm_medium=rss&utm_campaign=move-over-dogecoin-solana-overtakes-the-memecoin-amid-nft-craze) "
      ],
      "text/plain": [
       "<IPython.core.display.Markdown object>"
      ]
     },
     "execution_count": 4,
     "metadata": {},
     "output_type": "execute_result"
    }
   ],
   "source": [
    "#hide_input\n",
    "#md('##### {}'.format(titleBTC)) \n",
    "md(\"- {}{} {}{} [| Skaityti daugiau]({}) \".format(btc['title'],'. ', btc['body'], ' ...', btc['url']))"
   ]
  },
  {
   "cell_type": "code",
   "execution_count": 5,
   "id": "organic-actress",
   "metadata": {
    "execution": {
     "iopub.execute_input": "2021-09-04T01:58:08.280404Z",
     "iopub.status.busy": "2021-09-04T01:58:08.279917Z",
     "iopub.status.idle": "2021-09-04T01:58:08.284022Z",
     "shell.execute_reply": "2021-09-04T01:58:08.283594Z"
    },
    "papermill": {
     "duration": 0.017968,
     "end_time": "2021-09-04T01:58:08.284130",
     "exception": false,
     "start_time": "2021-09-04T01:58:08.266162",
     "status": "completed"
    },
    "tags": []
   },
   "outputs": [
    {
     "data": {
      "text/markdown": [
       "- Japan’s Financial Giant SBI to Launch Cryptocurrency Fund.  Japanese financial conglomerate SBI Holdings is reportedly launching a crypto fund that will invest in several cryptocurrencies. &#x201C;I want people to hold it together with other assets and experience firsthand how useful it can be for diversifying portfolios,&#x201D; said an executive of the company. SBI Holdings Launching Crypto Fund SBI Holdings Inc. has revealed its [&#8230;] ... [| Skaityti daugiau](https://news.bitcoin.com/japans-financial-giant-sbi-cryptocurrency-fund/) "
      ],
      "text/plain": [
       "<IPython.core.display.Markdown object>"
      ]
     },
     "execution_count": 5,
     "metadata": {},
     "output_type": "execute_result"
    }
   ],
   "source": [
    "#hide_input\n",
    "#md('##### {}'.format(titleBTC)) \n",
    "md(\"- {}{} {}{} [| Skaityti daugiau]({}) \".format(xrp['title'],'. ', xrp['body'], ' ...', xrp['url']))"
   ]
  },
  {
   "cell_type": "code",
   "execution_count": 6,
   "id": "prompt-farmer",
   "metadata": {
    "execution": {
     "iopub.execute_input": "2021-09-04T01:58:08.307919Z",
     "iopub.status.busy": "2021-09-04T01:58:08.307363Z",
     "iopub.status.idle": "2021-09-04T01:58:08.310626Z",
     "shell.execute_reply": "2021-09-04T01:58:08.310141Z"
    },
    "papermill": {
     "duration": 0.017255,
     "end_time": "2021-09-04T01:58:08.310736",
     "exception": false,
     "start_time": "2021-09-04T01:58:08.293481",
     "status": "completed"
    },
    "tags": []
   },
   "outputs": [
    {
     "data": {
      "text/markdown": [
       "- Tron, BAT, Zcash Price Analysis: 03 September.  It has been a mixed trading day for the altcoin market as while some coins noted rallies, others dipped on their respective charts. BAT’s price action demonstrated consolidation, although it traded far off its immediate price floor of $0.795. Zcash dipped by 2.8% and could break below its immediate support line of $147.70. On the [&#8230;] ... [| Skaityti daugiau](https://ambcrypto.com/tron-bat-zcash-price-analysis-03-september/) "
      ],
      "text/plain": [
       "<IPython.core.display.Markdown object>"
      ]
     },
     "execution_count": 6,
     "metadata": {},
     "output_type": "execute_result"
    }
   ],
   "source": [
    "#hide_input\n",
    "#md('##### {}'.format(titleBTC)) \n",
    "md(\"- {}{} {}{} [| Skaityti daugiau]({}) \".format(trx['title'],'. ', trx['body'], ' ...', trx['url']))"
   ]
  },
  {
   "cell_type": "code",
   "execution_count": 7,
   "id": "illegal-greece",
   "metadata": {
    "execution": {
     "iopub.execute_input": "2021-09-04T01:58:08.335928Z",
     "iopub.status.busy": "2021-09-04T01:58:08.335396Z",
     "iopub.status.idle": "2021-09-04T01:58:08.338617Z",
     "shell.execute_reply": "2021-09-04T01:58:08.338136Z"
    },
    "papermill": {
     "duration": 0.017732,
     "end_time": "2021-09-04T01:58:08.338724",
     "exception": false,
     "start_time": "2021-09-04T01:58:08.320992",
     "status": "completed"
    },
    "tags": []
   },
   "outputs": [
    {
     "data": {
      "text/markdown": [
       "- Move Over Dogecoin: Solana Overtakes the Memecoin Amid NFT Craze.  Driven by the recent NFT and DeFi craze, Solana’s SOL set its all-time high earlier today. According to CoinMarketCap, the cryptocurrency is up 12.62% and 70.86% in the past 24 hours and the past week, respectively. SOL’s explosive growth led to the cryptocurrency’s market capitalization soaring to over $43 billion &#8212; surpassing Dogecoin to become [&#8230;] ... [| Skaityti daugiau](https://bitcoinist.com/move-over-dogecoin-solana-overtakes-the-memecoin-amid-nft-craze/?utm_source=rss&utm_medium=rss&utm_campaign=move-over-dogecoin-solana-overtakes-the-memecoin-amid-nft-craze) "
      ],
      "text/plain": [
       "<IPython.core.display.Markdown object>"
      ]
     },
     "execution_count": 7,
     "metadata": {},
     "output_type": "execute_result"
    }
   ],
   "source": [
    "#hide_input\n",
    "#md('##### {}'.format(titleBTC)) \n",
    "md(\"- {}{} {}{} [| Skaityti daugiau]({}) \".format(eth['title'],'. ', eth['body'], ' ...', eth['url']))"
   ]
  },
  {
   "cell_type": "code",
   "execution_count": 8,
   "id": "sublime-lounge",
   "metadata": {
    "execution": {
     "iopub.execute_input": "2021-09-04T01:58:08.364501Z",
     "iopub.status.busy": "2021-09-04T01:58:08.363931Z",
     "iopub.status.idle": "2021-09-04T01:58:08.367717Z",
     "shell.execute_reply": "2021-09-04T01:58:08.367294Z"
    },
    "papermill": {
     "duration": 0.018948,
     "end_time": "2021-09-04T01:58:08.367819",
     "exception": false,
     "start_time": "2021-09-04T01:58:08.348871",
     "status": "completed"
    },
    "tags": []
   },
   "outputs": [
    {
     "data": {
      "text/markdown": [
       "- Cardano (ADA) gives unequivocal no to vaccine passports for these reasons.  Several crypto projects, including Icon (ICX) and VeChain (VET), are rolling out features to accommodate vaccine passports. The post Cardano (ADA) gives unequivocal no to vaccine passports for these reasons appeared first on CryptoSlate. ... [| Skaityti daugiau](https://cryptoslate.com/cardano-ada-gives-unequivocal-no-to-vaccine-passports-for-these-reasons/) "
      ],
      "text/plain": [
       "<IPython.core.display.Markdown object>"
      ]
     },
     "execution_count": 8,
     "metadata": {},
     "output_type": "execute_result"
    }
   ],
   "source": [
    "#hide_input\n",
    "#md('##### {}'.format(titleBTC)) \n",
    "md(\"- {}{} {}{} [| Skaityti daugiau]({}) \".format(ada['title'],'. ', ada['body'], ' ...', ada['url']))"
   ]
  },
  {
   "cell_type": "code",
   "execution_count": 9,
   "id": "specified-ordering",
   "metadata": {
    "execution": {
     "iopub.execute_input": "2021-09-04T01:58:08.396677Z",
     "iopub.status.busy": "2021-09-04T01:58:08.396166Z",
     "iopub.status.idle": "2021-09-04T01:58:08.400077Z",
     "shell.execute_reply": "2021-09-04T01:58:08.399597Z"
    },
    "papermill": {
     "duration": 0.02065,
     "end_time": "2021-09-04T01:58:08.400184",
     "exception": false,
     "start_time": "2021-09-04T01:58:08.379534",
     "status": "completed"
    },
    "tags": []
   },
   "outputs": [
    {
     "data": {
      "text/markdown": [
       "- Binance Tells South Africa Regulator It Doesn't Have Jurisdiction Over Crypto.  South Africa's Financial Sector Conduct Authority says it doesn't regulate cryptocurrencies. That didn't stop it from issuing a public warning about the exchange. ... [| Skaityti daugiau](https://decrypt.co/80219/binance-tells-south-africa-regulator-it-doesnt-have-jurisdiction-over-crypto) "
      ],
      "text/plain": [
       "<IPython.core.display.Markdown object>"
      ]
     },
     "execution_count": 9,
     "metadata": {},
     "output_type": "execute_result"
    }
   ],
   "source": [
    "#hide_input\n",
    "#md('##### {}'.format(titleBTC)) \n",
    "md(\"- {}{} {}{} [| Skaityti daugiau]({}) \".format(exchange['title'],'. ', exchange['body'], ' ...', exchange['url']))"
   ]
  },
  {
   "cell_type": "code",
   "execution_count": null,
   "id": "tender-livestock",
   "metadata": {
    "papermill": {
     "duration": 0.012516,
     "end_time": "2021-09-04T01:58:08.424684",
     "exception": false,
     "start_time": "2021-09-04T01:58:08.412168",
     "status": "completed"
    },
    "tags": []
   },
   "outputs": [],
   "source": []
  },
  {
   "cell_type": "code",
   "execution_count": null,
   "id": "appreciated-diamond",
   "metadata": {
    "papermill": {
     "duration": 0.012388,
     "end_time": "2021-09-04T01:58:08.449554",
     "exception": false,
     "start_time": "2021-09-04T01:58:08.437166",
     "status": "completed"
    },
    "tags": []
   },
   "outputs": [],
   "source": []
  },
  {
   "cell_type": "code",
   "execution_count": null,
   "id": "romance-sweden",
   "metadata": {
    "papermill": {
     "duration": 0.011534,
     "end_time": "2021-09-04T01:58:08.473254",
     "exception": false,
     "start_time": "2021-09-04T01:58:08.461720",
     "status": "completed"
    },
    "tags": []
   },
   "outputs": [],
   "source": []
  },
  {
   "cell_type": "code",
   "execution_count": null,
   "id": "dietary-statistics",
   "metadata": {
    "papermill": {
     "duration": 0.012095,
     "end_time": "2021-09-04T01:58:08.497614",
     "exception": false,
     "start_time": "2021-09-04T01:58:08.485519",
     "status": "completed"
    },
    "tags": []
   },
   "outputs": [],
   "source": []
  }
 ],
 "metadata": {
  "kernelspec": {
   "display_name": "Python 3",
   "language": "python",
   "name": "python3"
  },
  "language_info": {
   "codemirror_mode": {
    "name": "ipython",
    "version": 3
   },
   "file_extension": ".py",
   "mimetype": "text/x-python",
   "name": "python",
   "nbconvert_exporter": "python",
   "pygments_lexer": "ipython3",
   "version": "3.6.14"
  },
  "papermill": {
   "default_parameters": {},
   "duration": 11.152833,
   "end_time": "2021-09-04T01:58:08.918257",
   "environment_variables": {},
   "exception": null,
   "input_path": "Market-News.ipynb",
   "output_path": "Market-News.ipynb",
   "parameters": {},
   "start_time": "2021-09-04T01:57:57.765424",
   "version": "2.2.2"
  }
 },
 "nbformat": 4,
 "nbformat_minor": 5
}