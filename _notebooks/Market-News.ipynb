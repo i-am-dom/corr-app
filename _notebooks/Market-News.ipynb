{
 "cells": [
  {
   "cell_type": "markdown",
   "id": "short-greensboro",
   "metadata": {
    "papermill": {
     "duration": 0.013842,
     "end_time": "2021-10-10T02:00:39.680770",
     "exception": false,
     "start_time": "2021-10-10T02:00:39.666928",
     "status": "completed"
    },
    "tags": []
   },
   "source": [
    "# Kriptovaliutų naujienos"
   ]
  },
  {
   "cell_type": "code",
   "execution_count": 1,
   "id": "functioning-knowing",
   "metadata": {
    "execution": {
     "iopub.execute_input": "2021-10-10T02:00:39.710675Z",
     "iopub.status.busy": "2021-10-10T02:00:39.710150Z",
     "iopub.status.idle": "2021-10-10T02:00:40.917372Z",
     "shell.execute_reply": "2021-10-10T02:00:40.916889Z"
    },
    "papermill": {
     "duration": 1.226845,
     "end_time": "2021-10-10T02:00:40.917516",
     "exception": false,
     "start_time": "2021-10-10T02:00:39.690671",
     "status": "completed"
    },
    "tags": []
   },
   "outputs": [],
   "source": [
    "#hide_input\n",
    "import warnings\n",
    "warnings.filterwarnings('ignore')\n",
    "from scripts.read_data import read_api\n",
    "from scripts.read_data import read_news\n",
    "from scripts.read_data import read_covid\n",
    "import matplotlib.pyplot as plt \n",
    "from IPython.display import Markdown as md"
   ]
  },
  {
   "cell_type": "code",
   "execution_count": 2,
   "id": "shared-acceptance",
   "metadata": {
    "execution": {
     "iopub.execute_input": "2021-10-10T02:00:40.942977Z",
     "iopub.status.busy": "2021-10-10T02:00:40.941978Z",
     "iopub.status.idle": "2021-10-10T02:00:49.320902Z",
     "shell.execute_reply": "2021-10-10T02:00:49.321395Z"
    },
    "papermill": {
     "duration": 8.394687,
     "end_time": "2021-10-10T02:00:49.321564",
     "exception": false,
     "start_time": "2021-10-10T02:00:40.926877",
     "status": "completed"
    },
    "tags": []
   },
   "outputs": [],
   "source": [
    "#hide_input\n",
    "blockchain = read_news('blockchain') \n",
    "btc = read_news('btc') \n",
    "xrp = read_news('xrp') \n",
    "trx = read_news('trx') \n",
    "eth = read_news('eth')  \n",
    "ada = read_news('ada')\n",
    "exchange = read_news('exchange') "
   ]
  },
  {
   "cell_type": "code",
   "execution_count": 3,
   "id": "synthetic-notion",
   "metadata": {
    "execution": {
     "iopub.execute_input": "2021-10-10T02:00:49.348526Z",
     "iopub.status.busy": "2021-10-10T02:00:49.347569Z",
     "iopub.status.idle": "2021-10-10T02:00:49.350624Z",
     "shell.execute_reply": "2021-10-10T02:00:49.350212Z"
    },
    "papermill": {
     "duration": 0.018605,
     "end_time": "2021-10-10T02:00:49.350736",
     "exception": false,
     "start_time": "2021-10-10T02:00:49.332131",
     "status": "completed"
    },
    "tags": []
   },
   "outputs": [
    {
     "data": {
      "text/markdown": [
       "- Sri Lanka Appoints Committee to Draft Digital Currency Policy, Seeks Crypto Investments.  In preparation to regulate its fintech space, the government of Sri Lanka has established a special committee tasked to formulate the country&#x2019;s policy on digital banking and crypto-related activities. The committee comprises professionals from the public and private sectors. New Committee to Propose Rules for Blockchain Industry in Sri Lanka Sri Lankan authorities have unveiled [&#8230;] ... [| Skaityti daugiau](https://news.bitcoin.com/sri-lanka-appoints-committee-to-draft-digital-currency-policy-seeks-crypto-investments/) "
      ],
      "text/plain": [
       "<IPython.core.display.Markdown object>"
      ]
     },
     "execution_count": 3,
     "metadata": {},
     "output_type": "execute_result"
    }
   ],
   "source": [
    "#hide_input\n",
    "#md('##### {}'.format(titleBTC)) \n",
    "md(\"- {}{} {}{} [| Skaityti daugiau]({}) \".format(blockchain['title'],'. ', blockchain['body'], ' ...', blockchain['url']))"
   ]
  },
  {
   "cell_type": "code",
   "execution_count": 4,
   "id": "aging-caution",
   "metadata": {
    "execution": {
     "iopub.execute_input": "2021-10-10T02:00:49.374510Z",
     "iopub.status.busy": "2021-10-10T02:00:49.372699Z",
     "iopub.status.idle": "2021-10-10T02:00:49.376597Z",
     "shell.execute_reply": "2021-10-10T02:00:49.376999Z"
    },
    "papermill": {
     "duration": 0.016961,
     "end_time": "2021-10-10T02:00:49.377118",
     "exception": false,
     "start_time": "2021-10-10T02:00:49.360157",
     "status": "completed"
    },
    "tags": []
   },
   "outputs": [
    {
     "data": {
      "text/markdown": [
       "- ETH’s Vitalik Buterin Blasts El Salvador’s Bitcoin Law. Is He On To Something?.  It seems like Vitalik Buterin was dying to comment on El Salvador’s Bitcoin Law. A pseudonymous user posted this unpopular opinion on Reddit: El Salvador President Mr Nayab Bukele should not be praised by Crypto community.” And Ethereum’s creator himself answered. With venom. For everyone involved. Is Mr. Buterin right in his assertions or is [&#8230;] ... [| Skaityti daugiau](https://bitcoinist.com/eths-vitalik-buterin-blasts-el-salvadors-bitcoin-law-is-he-on-to-something/?utm_source=rss&utm_medium=rss&utm_campaign=eths-vitalik-buterin-blasts-el-salvadors-bitcoin-law-is-he-on-to-something) "
      ],
      "text/plain": [
       "<IPython.core.display.Markdown object>"
      ]
     },
     "execution_count": 4,
     "metadata": {},
     "output_type": "execute_result"
    }
   ],
   "source": [
    "#hide_input\n",
    "#md('##### {}'.format(titleBTC)) \n",
    "md(\"- {}{} {}{} [| Skaityti daugiau]({}) \".format(btc['title'],'. ', btc['body'], ' ...', btc['url']))"
   ]
  },
  {
   "cell_type": "code",
   "execution_count": 5,
   "id": "organic-actress",
   "metadata": {
    "execution": {
     "iopub.execute_input": "2021-10-10T02:00:49.401585Z",
     "iopub.status.busy": "2021-10-10T02:00:49.401054Z",
     "iopub.status.idle": "2021-10-10T02:00:49.403551Z",
     "shell.execute_reply": "2021-10-10T02:00:49.403970Z"
    },
    "papermill": {
     "duration": 0.017377,
     "end_time": "2021-10-10T02:00:49.404089",
     "exception": false,
     "start_time": "2021-10-10T02:00:49.386712",
     "status": "completed"
    },
    "tags": []
   },
   "outputs": [
    {
     "data": {
      "text/markdown": [
       "- Ripple’s three reasons why SEC’s ‘boil-the-ocean demand’ should be denied.  SEC vs Ripple stretches on and the expert discovery deadline has been moved to 12 November. However, one major conflict in the lawsuit relates to the recordings of internal meetings that Ripple was to produce. The SEC had previously called Ripple&#8217;s search methods &#8220;flawed.&#8221; The regulator also wanted a pre-motion conference for an order so it [&#8230;] ... [| Skaityti daugiau](https://ambcrypto.com/ripples-three-reasons-why-secs-boil-the-ocean-demand-should-be-denied/) "
      ],
      "text/plain": [
       "<IPython.core.display.Markdown object>"
      ]
     },
     "execution_count": 5,
     "metadata": {},
     "output_type": "execute_result"
    }
   ],
   "source": [
    "#hide_input\n",
    "#md('##### {}'.format(titleBTC)) \n",
    "md(\"- {}{} {}{} [| Skaityti daugiau]({}) \".format(xrp['title'],'. ', xrp['body'], ' ...', xrp['url']))"
   ]
  },
  {
   "cell_type": "code",
   "execution_count": 6,
   "id": "prompt-farmer",
   "metadata": {
    "execution": {
     "iopub.execute_input": "2021-10-10T02:00:49.429436Z",
     "iopub.status.busy": "2021-10-10T02:00:49.428907Z",
     "iopub.status.idle": "2021-10-10T02:00:49.431358Z",
     "shell.execute_reply": "2021-10-10T02:00:49.431752Z"
    },
    "papermill": {
     "duration": 0.017845,
     "end_time": "2021-10-10T02:00:49.431892",
     "exception": false,
     "start_time": "2021-10-10T02:00:49.414047",
     "status": "completed"
    },
    "tags": []
   },
   "outputs": [
    {
     "data": {
      "text/markdown": [
       "- Moonstake Wallet Now Supports Staking of TRON (TRX).  Moonstake is now an official &#8216;super partner&#8217; of TRON Network. Users can stake TRX to earn staking rewards on Moonstake web wallet and mobile wallet. Hold, send, receive and stake TRX to receive rewards with the best user experience through one single click. TRON became the 13th available staking coin on Moonstake. Moonstake started its [&#8230;]The post Moonstake Wallet Now Supports Staking of TRON (TRX) appeared first on The Daily Hodl. ... [| Skaityti daugiau](https://dailyhodl.com/2021/10/08/moonstake-wallet-now-supports-staking-of-tron-trx/) "
      ],
      "text/plain": [
       "<IPython.core.display.Markdown object>"
      ]
     },
     "execution_count": 6,
     "metadata": {},
     "output_type": "execute_result"
    }
   ],
   "source": [
    "#hide_input\n",
    "#md('##### {}'.format(titleBTC)) \n",
    "md(\"- {}{} {}{} [| Skaityti daugiau]({}) \".format(trx['title'],'. ', trx['body'], ' ...', trx['url']))"
   ]
  },
  {
   "cell_type": "code",
   "execution_count": 7,
   "id": "illegal-greece",
   "metadata": {
    "execution": {
     "iopub.execute_input": "2021-10-10T02:00:49.457122Z",
     "iopub.status.busy": "2021-10-10T02:00:49.455498Z",
     "iopub.status.idle": "2021-10-10T02:00:49.459038Z",
     "shell.execute_reply": "2021-10-10T02:00:49.459440Z"
    },
    "papermill": {
     "duration": 0.017217,
     "end_time": "2021-10-10T02:00:49.459553",
     "exception": false,
     "start_time": "2021-10-10T02:00:49.442336",
     "status": "completed"
    },
    "tags": []
   },
   "outputs": [
    {
     "data": {
      "text/markdown": [
       "- ETH’s Vitalik Buterin Blasts El Salvador’s Bitcoin Law. Is He On To Something?.  It seems like Vitalik Buterin was dying to comment on El Salvador’s Bitcoin Law. A pseudonymous user posted this unpopular opinion on Reddit: El Salvador President Mr Nayab Bukele should not be praised by Crypto community.” And Ethereum’s creator himself answered. With venom. For everyone involved. Is Mr. Buterin right in his assertions or is [&#8230;] ... [| Skaityti daugiau](https://bitcoinist.com/eths-vitalik-buterin-blasts-el-salvadors-bitcoin-law-is-he-on-to-something/?utm_source=rss&utm_medium=rss&utm_campaign=eths-vitalik-buterin-blasts-el-salvadors-bitcoin-law-is-he-on-to-something) "
      ],
      "text/plain": [
       "<IPython.core.display.Markdown object>"
      ]
     },
     "execution_count": 7,
     "metadata": {},
     "output_type": "execute_result"
    }
   ],
   "source": [
    "#hide_input\n",
    "#md('##### {}'.format(titleBTC)) \n",
    "md(\"- {}{} {}{} [| Skaityti daugiau]({}) \".format(eth['title'],'. ', eth['body'], ' ...', eth['url']))"
   ]
  },
  {
   "cell_type": "code",
   "execution_count": 8,
   "id": "sublime-lounge",
   "metadata": {
    "execution": {
     "iopub.execute_input": "2021-10-10T02:00:49.485343Z",
     "iopub.status.busy": "2021-10-10T02:00:49.484850Z",
     "iopub.status.idle": "2021-10-10T02:00:49.487731Z",
     "shell.execute_reply": "2021-10-10T02:00:49.488141Z"
    },
    "papermill": {
     "duration": 0.018142,
     "end_time": "2021-10-10T02:00:49.488264",
     "exception": false,
     "start_time": "2021-10-10T02:00:49.470122",
     "status": "completed"
    },
    "tags": []
   },
   "outputs": [
    {
     "data": {
      "text/markdown": [
       "- New Impulse Wave for Cardano? Analyst Michaël van de Poppe Outlines Path Ahead for Third-Largest Crypto Asset.  Cryptocurrency analyst Michaël van de Poppe is analyzing Cardano’s path forward in the wake of Bitcoin rallying to a new 90-day high above $55,000. In a new strategy session, Van de Poppe highlights the potential entry points for Cardano on the USD chart and says he believes the crypto asset is close to a bottom. [&#8230;]The post New Impulse Wave for Cardano? Analyst Michaël van de Poppe Outlines Path Ahead for Third-Largest Crypto Asset appeared first on The Daily Hodl. ... [| Skaityti daugiau](https://dailyhodl.com/2021/10/09/new-impulse-wave-for-cardano-analyst-michael-van-de-poppe-outlines-path-ahead-for-third-largest-crypto-asset) "
      ],
      "text/plain": [
       "<IPython.core.display.Markdown object>"
      ]
     },
     "execution_count": 8,
     "metadata": {},
     "output_type": "execute_result"
    }
   ],
   "source": [
    "#hide_input\n",
    "#md('##### {}'.format(titleBTC)) \n",
    "md(\"- {}{} {}{} [| Skaityti daugiau]({}) \".format(ada['title'],'. ', ada['body'], ' ...', ada['url']))"
   ]
  },
  {
   "cell_type": "code",
   "execution_count": 9,
   "id": "specified-ordering",
   "metadata": {
    "execution": {
     "iopub.execute_input": "2021-10-10T02:00:49.514857Z",
     "iopub.status.busy": "2021-10-10T02:00:49.514359Z",
     "iopub.status.idle": "2021-10-10T02:00:49.517219Z",
     "shell.execute_reply": "2021-10-10T02:00:49.517646Z"
    },
    "papermill": {
     "duration": 0.018564,
     "end_time": "2021-10-10T02:00:49.517759",
     "exception": false,
     "start_time": "2021-10-10T02:00:49.499195",
     "status": "completed"
    },
    "tags": []
   },
   "outputs": [
    {
     "data": {
      "text/markdown": [
       "- Jay Clayton: The SEC “Cares” About Securities. That’s Why It’s Involved in Crypto..  As the former Securities and Exchange Commission (SEC) chairman, Jay Clayton oversaw the financial agency for approximately four years. He came down hard on the industry many times, and initiated penalties to companies that claimed their securities were mere “tokens” or “coins” that the SEC held no jurisdiction over. Jay Clayton On the Future of...The post Jay Clayton: The SEC &#8220;Cares&#8221; About Securities. That&#8217;s Why It&#8217;s Involved in Crypto. appeared first on Live Bitcoin News. ... [| Skaityti daugiau](https://www.livebitcoinnews.com/jay-clayton-the-sec-cares-about-securities-thats-why-its-involved-in-crypto/) "
      ],
      "text/plain": [
       "<IPython.core.display.Markdown object>"
      ]
     },
     "execution_count": 9,
     "metadata": {},
     "output_type": "execute_result"
    }
   ],
   "source": [
    "#hide_input\n",
    "#md('##### {}'.format(titleBTC)) \n",
    "md(\"- {}{} {}{} [| Skaityti daugiau]({}) \".format(exchange['title'],'. ', exchange['body'], ' ...', exchange['url']))"
   ]
  },
  {
   "cell_type": "code",
   "execution_count": null,
   "id": "tender-livestock",
   "metadata": {
    "papermill": {
     "duration": 0.011176,
     "end_time": "2021-10-10T02:00:49.540132",
     "exception": false,
     "start_time": "2021-10-10T02:00:49.528956",
     "status": "completed"
    },
    "tags": []
   },
   "outputs": [],
   "source": []
  },
  {
   "cell_type": "code",
   "execution_count": null,
   "id": "appreciated-diamond",
   "metadata": {
    "papermill": {
     "duration": 0.011178,
     "end_time": "2021-10-10T02:00:49.562672",
     "exception": false,
     "start_time": "2021-10-10T02:00:49.551494",
     "status": "completed"
    },
    "tags": []
   },
   "outputs": [],
   "source": []
  },
  {
   "cell_type": "code",
   "execution_count": null,
   "id": "romance-sweden",
   "metadata": {
    "papermill": {
     "duration": 0.011151,
     "end_time": "2021-10-10T02:00:49.585152",
     "exception": false,
     "start_time": "2021-10-10T02:00:49.574001",
     "status": "completed"
    },
    "tags": []
   },
   "outputs": [],
   "source": []
  },
  {
   "cell_type": "code",
   "execution_count": null,
   "id": "dietary-statistics",
   "metadata": {
    "papermill": {
     "duration": 0.011132,
     "end_time": "2021-10-10T02:00:49.607511",
     "exception": false,
     "start_time": "2021-10-10T02:00:49.596379",
     "status": "completed"
    },
    "tags": []
   },
   "outputs": [],
   "source": []
  }
 ],
 "metadata": {
  "kernelspec": {
   "display_name": "Python 3",
   "language": "python",
   "name": "python3"
  },
  "language_info": {
   "codemirror_mode": {
    "name": "ipython",
    "version": 3
   },
   "file_extension": ".py",
   "mimetype": "text/x-python",
   "name": "python",
   "nbconvert_exporter": "python",
   "pygments_lexer": "ipython3",
   "version": "3.6.15"
  },
  "papermill": {
   "default_parameters": {},
   "duration": 11.494362,
   "end_time": "2021-10-10T02:00:50.127452",
   "environment_variables": {},
   "exception": null,
   "input_path": "Market-News.ipynb",
   "output_path": "Market-News.ipynb",
   "parameters": {},
   "start_time": "2021-10-10T02:00:38.633090",
   "version": "2.2.2"
  }
 },
 "nbformat": 4,
 "nbformat_minor": 5
}