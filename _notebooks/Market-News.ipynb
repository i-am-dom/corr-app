{
 "cells": [
  {
   "cell_type": "markdown",
   "id": "short-greensboro",
   "metadata": {
    "papermill": {
     "duration": 0.014751,
     "end_time": "2021-08-03T02:07:36.117225",
     "exception": false,
     "start_time": "2021-08-03T02:07:36.102474",
     "status": "completed"
    },
    "tags": []
   },
   "source": [
    "# Kriptovaliutų naujienos"
   ]
  },
  {
   "cell_type": "code",
   "execution_count": 1,
   "id": "functioning-knowing",
   "metadata": {
    "execution": {
     "iopub.execute_input": "2021-08-03T02:07:36.148216Z",
     "iopub.status.busy": "2021-08-03T02:07:36.147645Z",
     "iopub.status.idle": "2021-08-03T02:07:37.345927Z",
     "shell.execute_reply": "2021-08-03T02:07:37.345422Z"
    },
    "papermill": {
     "duration": 1.218866,
     "end_time": "2021-08-03T02:07:37.346059",
     "exception": false,
     "start_time": "2021-08-03T02:07:36.127193",
     "status": "completed"
    },
    "tags": []
   },
   "outputs": [],
   "source": [
    "#hide_input\n",
    "import warnings\n",
    "warnings.filterwarnings('ignore')\n",
    "from scripts.read_data import read_api\n",
    "from scripts.read_data import read_news\n",
    "from scripts.read_data import read_covid\n",
    "import matplotlib.pyplot as plt \n",
    "from IPython.display import Markdown as md"
   ]
  },
  {
   "cell_type": "code",
   "execution_count": 2,
   "id": "shared-acceptance",
   "metadata": {
    "execution": {
     "iopub.execute_input": "2021-08-03T02:07:37.371953Z",
     "iopub.status.busy": "2021-08-03T02:07:37.371314Z",
     "iopub.status.idle": "2021-08-03T02:07:45.197309Z",
     "shell.execute_reply": "2021-08-03T02:07:45.196386Z"
    },
    "papermill": {
     "duration": 7.841966,
     "end_time": "2021-08-03T02:07:45.197428",
     "exception": false,
     "start_time": "2021-08-03T02:07:37.355462",
     "status": "completed"
    },
    "tags": []
   },
   "outputs": [],
   "source": [
    "#hide_input\n",
    "blockchain = read_news('blockchain') \n",
    "btc = read_news('btc') \n",
    "xrp = read_news('xrp') \n",
    "trx = read_news('trx') \n",
    "eth = read_news('eth')  \n",
    "ada = read_news('ada')\n",
    "exchange = read_news('exchange') "
   ]
  },
  {
   "cell_type": "code",
   "execution_count": 3,
   "id": "synthetic-notion",
   "metadata": {
    "execution": {
     "iopub.execute_input": "2021-08-03T02:07:45.222911Z",
     "iopub.status.busy": "2021-08-03T02:07:45.222372Z",
     "iopub.status.idle": "2021-08-03T02:07:45.225143Z",
     "shell.execute_reply": "2021-08-03T02:07:45.225598Z"
    },
    "papermill": {
     "duration": 0.018486,
     "end_time": "2021-08-03T02:07:45.225831",
     "exception": false,
     "start_time": "2021-08-03T02:07:45.207345",
     "status": "completed"
    },
    "tags": []
   },
   "outputs": [
    {
     "data": {
      "text/markdown": [
       "- US Bill Eyes Crypto Traders, Aims for Stricter Laws to Boost Tax Revenue by the Billions.  The U.S. Blockchain Association is stepping up to battle new crypto regulations that are being proposed in the historic bipartisan infrastructure deal that&#8217;s working its way through the Senate. Robert Frank, a wealth reporter at CNBC, says the latest draft of the 2,702-page infrastructure bill targeting efforts to modernize bridges, roads, water pipes, electric vehicle [&#8230;]The post US Bill Eyes Crypto Traders, Aims for Stricter Laws to Boost Tax Revenue by the Billions appeared first on The Daily Hodl. ... [| Skaityti daugiau](https://dailyhodl.com/2021/08/02/us-bill-eyes-crypto-traders-aims-for-stricter-laws-to-boost-tax-revenue-by-the-billions/) "
      ],
      "text/plain": [
       "<IPython.core.display.Markdown object>"
      ]
     },
     "execution_count": 3,
     "metadata": {},
     "output_type": "execute_result"
    }
   ],
   "source": [
    "#hide_input\n",
    "#md('##### {}'.format(titleBTC)) \n",
    "md(\"- {}{} {}{} [| Skaityti daugiau]({}) \".format(blockchain['title'],'. ', blockchain['body'], ' ...', blockchain['url']))"
   ]
  },
  {
   "cell_type": "code",
   "execution_count": 4,
   "id": "aging-caution",
   "metadata": {
    "execution": {
     "iopub.execute_input": "2021-08-03T02:07:45.249352Z",
     "iopub.status.busy": "2021-08-03T02:07:45.248817Z",
     "iopub.status.idle": "2021-08-03T02:07:45.251888Z",
     "shell.execute_reply": "2021-08-03T02:07:45.252296Z"
    },
    "papermill": {
     "duration": 0.017039,
     "end_time": "2021-08-03T02:07:45.252399",
     "exception": false,
     "start_time": "2021-08-03T02:07:45.235360",
     "status": "completed"
    },
    "tags": []
   },
   "outputs": [
    {
     "data": {
      "text/markdown": [
       "- El Salvador’s Bitcoin bill has 5 key benefits, says Bank of America.  US financial services player Bank of America, one of the world’s largest banks, has come out in support of El Salvador’s Bitcoin bill in a note to clients last week. The post El Salvador&#8217;s Bitcoin bill has 5 key benefits, says Bank of America appeared first on CryptoSlate. ... [| Skaityti daugiau](https://cryptoslate.com/el-salvadors-bitcoin-bill-has-5-key-benefits-says-bank-of-america/) "
      ],
      "text/plain": [
       "<IPython.core.display.Markdown object>"
      ]
     },
     "execution_count": 4,
     "metadata": {},
     "output_type": "execute_result"
    }
   ],
   "source": [
    "#hide_input\n",
    "#md('##### {}'.format(titleBTC)) \n",
    "md(\"- {}{} {}{} [| Skaityti daugiau]({}) \".format(btc['title'],'. ', btc['body'], ' ...', btc['url']))"
   ]
  },
  {
   "cell_type": "code",
   "execution_count": 5,
   "id": "organic-actress",
   "metadata": {
    "execution": {
     "iopub.execute_input": "2021-08-03T02:07:45.276257Z",
     "iopub.status.busy": "2021-08-03T02:07:45.275725Z",
     "iopub.status.idle": "2021-08-03T02:07:45.278875Z",
     "shell.execute_reply": "2021-08-03T02:07:45.278455Z"
    },
    "papermill": {
     "duration": 0.016963,
     "end_time": "2021-08-03T02:07:45.278967",
     "exception": false,
     "start_time": "2021-08-03T02:07:45.262004",
     "status": "completed"
    },
    "tags": []
   },
   "outputs": [
    {
     "data": {
      "text/markdown": [
       "- Price analysis 8/2: BTC, ETH, BNB, ADA, XRP, DOGE, DOT, UNI, BCH, LINK.  Bitcoin price has hit a few barriers but many altcoins appear positioned for continuation. ... [| Skaityti daugiau](https://cointelegraph.com/news/price-analysis-8-2-btc-eth-bnb-ada-xrp-doge-dot-uni-bch-link) "
      ],
      "text/plain": [
       "<IPython.core.display.Markdown object>"
      ]
     },
     "execution_count": 5,
     "metadata": {},
     "output_type": "execute_result"
    }
   ],
   "source": [
    "#hide_input\n",
    "#md('##### {}'.format(titleBTC)) \n",
    "md(\"- {}{} {}{} [| Skaityti daugiau]({}) \".format(xrp['title'],'. ', xrp['body'], ' ...', xrp['url']))"
   ]
  },
  {
   "cell_type": "code",
   "execution_count": 6,
   "id": "prompt-farmer",
   "metadata": {
    "execution": {
     "iopub.execute_input": "2021-08-03T02:07:45.303336Z",
     "iopub.status.busy": "2021-08-03T02:07:45.302395Z",
     "iopub.status.idle": "2021-08-03T02:07:45.306105Z",
     "shell.execute_reply": "2021-08-03T02:07:45.306534Z"
    },
    "papermill": {
     "duration": 0.018007,
     "end_time": "2021-08-03T02:07:45.306645",
     "exception": false,
     "start_time": "2021-08-03T02:07:45.288638",
     "status": "completed"
    },
    "tags": []
   },
   "outputs": [
    {
     "data": {
      "text/markdown": [
       "- XRP, Tron, Aave Price Analysis: 02 August.  As the market&#8217;s bulls lost momentum, the likes of XRP, TRX, and AAVE saw their prices stall on the charts. XRP struggled to break its immediate resistance level while a 2.2% decline was responsible for Tron’s uptrend pausing. Finally, AAVE’s demand had fallen at press time. XRP XRP’s uptrend came to a halt as the [&#8230;] ... [| Skaityti daugiau](https://ambcrypto.com/xrp-tron-aave-price-analysis-02-august/) "
      ],
      "text/plain": [
       "<IPython.core.display.Markdown object>"
      ]
     },
     "execution_count": 6,
     "metadata": {},
     "output_type": "execute_result"
    }
   ],
   "source": [
    "#hide_input\n",
    "#md('##### {}'.format(titleBTC)) \n",
    "md(\"- {}{} {}{} [| Skaityti daugiau]({}) \".format(trx['title'],'. ', trx['body'], ' ...', trx['url']))"
   ]
  },
  {
   "cell_type": "code",
   "execution_count": 7,
   "id": "illegal-greece",
   "metadata": {
    "execution": {
     "iopub.execute_input": "2021-08-03T02:07:45.331802Z",
     "iopub.status.busy": "2021-08-03T02:07:45.331285Z",
     "iopub.status.idle": "2021-08-03T02:07:45.333838Z",
     "shell.execute_reply": "2021-08-03T02:07:45.334265Z"
    },
    "papermill": {
     "duration": 0.017,
     "end_time": "2021-08-03T02:07:45.334368",
     "exception": false,
     "start_time": "2021-08-03T02:07:45.317368",
     "status": "completed"
    },
    "tags": []
   },
   "outputs": [
    {
     "data": {
      "text/markdown": [
       "- After hiking by 120% in 24 hours, is this alt the new ‘Dogecoin’ in town.  Dogecoin is that teacher’s pet who everyone hates, but still gets favored again and again until they don’t. Such is the case at the moment with the meme coin as DOGE failed to register a decent hike after the broader market&#8217;s rally. When Bitcoin and Ethereum and other altcoins were picking up the pace, DOGE [&#8230;] ... [| Skaityti daugiau](https://ambcrypto.com/after-hiking-by-120-in-24-hours-is-this-alt-the-new-dogecoin-in-town/) "
      ],
      "text/plain": [
       "<IPython.core.display.Markdown object>"
      ]
     },
     "execution_count": 7,
     "metadata": {},
     "output_type": "execute_result"
    }
   ],
   "source": [
    "#hide_input\n",
    "#md('##### {}'.format(titleBTC)) \n",
    "md(\"- {}{} {}{} [| Skaityti daugiau]({}) \".format(eth['title'],'. ', eth['body'], ' ...', eth['url']))"
   ]
  },
  {
   "cell_type": "code",
   "execution_count": 8,
   "id": "sublime-lounge",
   "metadata": {
    "execution": {
     "iopub.execute_input": "2021-08-03T02:07:45.363034Z",
     "iopub.status.busy": "2021-08-03T02:07:45.362083Z",
     "iopub.status.idle": "2021-08-03T02:07:45.366160Z",
     "shell.execute_reply": "2021-08-03T02:07:45.365551Z"
    },
    "papermill": {
     "duration": 0.019293,
     "end_time": "2021-08-03T02:07:45.366252",
     "exception": false,
     "start_time": "2021-08-03T02:07:45.346959",
     "status": "completed"
    },
    "tags": []
   },
   "outputs": [
    {
     "data": {
      "text/markdown": [
       "- Cardano founder Charles Hoskinson dismisses risk of 90% drop in ADA as ‘voodoo’.  Input Output Global (IOG) CEO Charles Hoskinson rejects Peter Brandt&#8217;s technical analysis call, which predicts Cardano may lose up to 90% of its value. The post Cardano founder Charles Hoskinson dismisses risk of 90% drop in ADA as &#8216;voodoo&#8217; appeared first on CryptoSlate. ... [| Skaityti daugiau](https://cryptoslate.com/cardano-founder-charles-hoskinson-dismisses-risk-of-90-drop-in-ada-as-voodoo/) "
      ],
      "text/plain": [
       "<IPython.core.display.Markdown object>"
      ]
     },
     "execution_count": 8,
     "metadata": {},
     "output_type": "execute_result"
    }
   ],
   "source": [
    "#hide_input\n",
    "#md('##### {}'.format(titleBTC)) \n",
    "md(\"- {}{} {}{} [| Skaityti daugiau]({}) \".format(ada['title'],'. ', ada['body'], ' ...', ada['url']))"
   ]
  },
  {
   "cell_type": "code",
   "execution_count": 9,
   "id": "specified-ordering",
   "metadata": {
    "execution": {
     "iopub.execute_input": "2021-08-03T02:07:45.394002Z",
     "iopub.status.busy": "2021-08-03T02:07:45.393487Z",
     "iopub.status.idle": "2021-08-03T02:07:45.398078Z",
     "shell.execute_reply": "2021-08-03T02:07:45.397466Z"
    },
    "papermill": {
     "duration": 0.019566,
     "end_time": "2021-08-03T02:07:45.398179",
     "exception": false,
     "start_time": "2021-08-03T02:07:45.378613",
     "status": "completed"
    },
    "tags": []
   },
   "outputs": [
    {
     "data": {
      "text/markdown": [
       "- Brad Garlinghouse's lawyers file request for Binance documents in 'international' challenge to SEC lawsuit.  \"The offers and sales that the SEC challenges did not occur in this country and are not subject to the law that the SEC has invoked in this case,\" said the legal team. ... [| Skaityti daugiau](https://cointelegraph.com/news/brad-garlinghouse-s-lawyers-file-request-for-binance-documents-in-international-challenge-to-sec-lawsuit) "
      ],
      "text/plain": [
       "<IPython.core.display.Markdown object>"
      ]
     },
     "execution_count": 9,
     "metadata": {},
     "output_type": "execute_result"
    }
   ],
   "source": [
    "#hide_input\n",
    "#md('##### {}'.format(titleBTC)) \n",
    "md(\"- {}{} {}{} [| Skaityti daugiau]({}) \".format(exchange['title'],'. ', exchange['body'], ' ...', exchange['url']))"
   ]
  },
  {
   "cell_type": "code",
   "execution_count": null,
   "id": "tender-livestock",
   "metadata": {
    "papermill": {
     "duration": 0.011821,
     "end_time": "2021-08-03T02:07:45.421183",
     "exception": false,
     "start_time": "2021-08-03T02:07:45.409362",
     "status": "completed"
    },
    "tags": []
   },
   "outputs": [],
   "source": []
  },
  {
   "cell_type": "code",
   "execution_count": null,
   "id": "appreciated-diamond",
   "metadata": {
    "papermill": {
     "duration": 0.012658,
     "end_time": "2021-08-03T02:07:45.445675",
     "exception": false,
     "start_time": "2021-08-03T02:07:45.433017",
     "status": "completed"
    },
    "tags": []
   },
   "outputs": [],
   "source": []
  },
  {
   "cell_type": "code",
   "execution_count": null,
   "id": "romance-sweden",
   "metadata": {
    "papermill": {
     "duration": 0.013398,
     "end_time": "2021-08-03T02:07:45.469827",
     "exception": false,
     "start_time": "2021-08-03T02:07:45.456429",
     "status": "completed"
    },
    "tags": []
   },
   "outputs": [],
   "source": []
  },
  {
   "cell_type": "code",
   "execution_count": null,
   "id": "dietary-statistics",
   "metadata": {
    "papermill": {
     "duration": 0.011123,
     "end_time": "2021-08-03T02:07:45.492039",
     "exception": false,
     "start_time": "2021-08-03T02:07:45.480916",
     "status": "completed"
    },
    "tags": []
   },
   "outputs": [],
   "source": []
  }
 ],
 "metadata": {
  "kernelspec": {
   "display_name": "Python 3",
   "language": "python",
   "name": "python3"
  },
  "language_info": {
   "codemirror_mode": {
    "name": "ipython",
    "version": 3
   },
   "file_extension": ".py",
   "mimetype": "text/x-python",
   "name": "python",
   "nbconvert_exporter": "python",
   "pygments_lexer": "ipython3",
   "version": "3.6.14"
  },
  "papermill": {
   "default_parameters": {},
   "duration": 10.857299,
   "end_time": "2021-08-03T02:07:45.911873",
   "environment_variables": {},
   "exception": null,
   "input_path": "Market-News.ipynb",
   "output_path": "Market-News.ipynb",
   "parameters": {},
   "start_time": "2021-08-03T02:07:35.054574",
   "version": "2.2.2"
  }
 },
 "nbformat": 4,
 "nbformat_minor": 5
}