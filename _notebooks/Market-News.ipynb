{
 "cells": [
  {
   "cell_type": "markdown",
   "id": "short-greensboro",
   "metadata": {
    "papermill": {
     "duration": 0.016657,
     "end_time": "2022-04-21T03:04:38.926100",
     "exception": false,
     "start_time": "2022-04-21T03:04:38.909443",
     "status": "completed"
    },
    "tags": []
   },
   "source": [
    "# Kriptovaliutų naujienos"
   ]
  },
  {
   "cell_type": "code",
   "execution_count": 1,
   "id": "functioning-knowing",
   "metadata": {
    "execution": {
     "iopub.execute_input": "2022-04-21T03:04:38.960746Z",
     "iopub.status.busy": "2022-04-21T03:04:38.960055Z",
     "iopub.status.idle": "2022-04-21T03:04:40.446582Z",
     "shell.execute_reply": "2022-04-21T03:04:40.445942Z"
    },
    "papermill": {
     "duration": 1.509408,
     "end_time": "2022-04-21T03:04:40.446763",
     "exception": false,
     "start_time": "2022-04-21T03:04:38.937355",
     "status": "completed"
    },
    "tags": []
   },
   "outputs": [],
   "source": [
    "#hide_input\n",
    "import warnings\n",
    "warnings.filterwarnings('ignore')\n",
    "from scripts.read_data import read_api\n",
    "from scripts.read_data import read_news\n",
    "from scripts.read_data import read_covid\n",
    "import matplotlib.pyplot as plt \n",
    "from IPython.display import Markdown as md"
   ]
  },
  {
   "cell_type": "code",
   "execution_count": 2,
   "id": "shared-acceptance",
   "metadata": {
    "execution": {
     "iopub.execute_input": "2022-04-21T03:04:40.476441Z",
     "iopub.status.busy": "2022-04-21T03:04:40.475806Z",
     "iopub.status.idle": "2022-04-21T03:04:50.247723Z",
     "shell.execute_reply": "2022-04-21T03:04:50.246555Z"
    },
    "papermill": {
     "duration": 9.789871,
     "end_time": "2022-04-21T03:04:50.247876",
     "exception": false,
     "start_time": "2022-04-21T03:04:40.458005",
     "status": "completed"
    },
    "tags": []
   },
   "outputs": [],
   "source": [
    "#hide_input\n",
    "blockchain = read_news('blockchain') \n",
    "btc = read_news('btc') \n",
    "xrp = read_news('xrp') \n",
    "trx = read_news('trx') \n",
    "eth = read_news('eth')  \n",
    "ada = read_news('ada')\n",
    "exchange = read_news('exchange') "
   ]
  },
  {
   "cell_type": "code",
   "execution_count": 3,
   "id": "synthetic-notion",
   "metadata": {
    "execution": {
     "iopub.execute_input": "2022-04-21T03:04:50.278138Z",
     "iopub.status.busy": "2022-04-21T03:04:50.277028Z",
     "iopub.status.idle": "2022-04-21T03:04:50.280492Z",
     "shell.execute_reply": "2022-04-21T03:04:50.280013Z"
    },
    "papermill": {
     "duration": 0.021978,
     "end_time": "2022-04-21T03:04:50.280620",
     "exception": false,
     "start_time": "2022-04-21T03:04:50.258642",
     "status": "completed"
    },
    "tags": []
   },
   "outputs": [
    {
     "data": {
      "text/markdown": [
       "- Ethereum about to break above $3100 as price action remains sluggish.  Ethereum price analysis for April 21, 2022, comes on a sluggish note for the world&#8217;s 2nd biggest cryptocurrency as it has a major resistance at the $3100 price level and it seems that the bulls are holding support above $3K. Meanwhile, the token has shown strong signs of growth in recent days and rebounded from [&#8230;]The post Ethereum about to break above $3100 as price action remains sluggish appeared first on Blockchain, Crypto and Stock News. ... [| Skaityti daugiau](https://thecoinrise.com/ethereum-about-to-break-above-3100-as-price-action-remains-sluggish/) "
      ],
      "text/plain": [
       "<IPython.core.display.Markdown object>"
      ]
     },
     "execution_count": 3,
     "metadata": {},
     "output_type": "execute_result"
    }
   ],
   "source": [
    "#hide_input\n",
    "#md('##### {}'.format(titleBTC)) \n",
    "md(\"- {}{} {}{} [| Skaityti daugiau]({}) \".format(blockchain['title'],'. ', blockchain['body'], ' ...', blockchain['url']))"
   ]
  },
  {
   "cell_type": "code",
   "execution_count": 4,
   "id": "aging-caution",
   "metadata": {
    "execution": {
     "iopub.execute_input": "2022-04-21T03:04:50.308400Z",
     "iopub.status.busy": "2022-04-21T03:04:50.306066Z",
     "iopub.status.idle": "2022-04-21T03:04:50.310672Z",
     "shell.execute_reply": "2022-04-21T03:04:50.311143Z"
    },
    "papermill": {
     "duration": 0.019858,
     "end_time": "2022-04-21T03:04:50.311286",
     "exception": false,
     "start_time": "2022-04-21T03:04:50.291428",
     "status": "completed"
    },
    "tags": []
   },
   "outputs": [
    {
     "data": {
      "text/markdown": [
       "- Bitcoin shows sluggish movement: Retains $41K for now.  Bitcoin price analysis for April 21, 2022, comes on a sluggish note for the world&#8217;s biggest cryptocurrency which has seen a price change of over 0.80% in the last 24 hours and now aims to breach higher price levels in the near future. Until the BTC token reclaims $42K, we cannot expect higher prices for [&#8230;]The post Bitcoin shows sluggish movement: Retains $41K for now appeared first on Blockchain, Crypto and Stock News. ... [| Skaityti daugiau](https://thecoinrise.com/bitcoin-shows-sluggish-movement-retains-41k-for-now/) "
      ],
      "text/plain": [
       "<IPython.core.display.Markdown object>"
      ]
     },
     "execution_count": 4,
     "metadata": {},
     "output_type": "execute_result"
    }
   ],
   "source": [
    "#hide_input\n",
    "#md('##### {}'.format(titleBTC)) \n",
    "md(\"- {}{} {}{} [| Skaityti daugiau]({}) \".format(btc['title'],'. ', btc['body'], ' ...', btc['url']))"
   ]
  },
  {
   "cell_type": "code",
   "execution_count": 5,
   "id": "organic-actress",
   "metadata": {
    "execution": {
     "iopub.execute_input": "2022-04-21T03:04:50.339886Z",
     "iopub.status.busy": "2022-04-21T03:04:50.338868Z",
     "iopub.status.idle": "2022-04-21T03:04:50.341852Z",
     "shell.execute_reply": "2022-04-21T03:04:50.342292Z"
    },
    "papermill": {
     "duration": 0.020212,
     "end_time": "2022-04-21T03:04:50.342433",
     "exception": false,
     "start_time": "2022-04-21T03:04:50.322221",
     "status": "completed"
    },
    "tags": []
   },
   "outputs": [
    {
     "data": {
      "text/markdown": [
       "- Why Ripple’s CTO Criticized Elon Musk’s Free Speech Stance.  David Schwartz, CTO at payment solution company Ripple, weighted in on Elon Musk’s attempts to buy Twitter. The CEO at Tesla made a bid to take over the social media platform valued at over $40 billion. Related Reading &#124; Ripple Distributes 1 Billion XRP In Developer Grants, As Chief Developer Resigns Musk argues, amongst other things, [&#8230;] ... [| Skaityti daugiau](https://bitcoinist.com/ripple-cto-criticized-elon-musks-free-speech-stance/) "
      ],
      "text/plain": [
       "<IPython.core.display.Markdown object>"
      ]
     },
     "execution_count": 5,
     "metadata": {},
     "output_type": "execute_result"
    }
   ],
   "source": [
    "#hide_input\n",
    "#md('##### {}'.format(titleBTC)) \n",
    "md(\"- {}{} {}{} [| Skaityti daugiau]({}) \".format(xrp['title'],'. ', xrp['body'], ' ...', xrp['url']))"
   ]
  },
  {
   "cell_type": "code",
   "execution_count": 6,
   "id": "prompt-farmer",
   "metadata": {
    "execution": {
     "iopub.execute_input": "2022-04-21T03:04:50.371791Z",
     "iopub.status.busy": "2022-04-21T03:04:50.369736Z",
     "iopub.status.idle": "2022-04-21T03:04:50.374296Z",
     "shell.execute_reply": "2022-04-21T03:04:50.374773Z"
    },
    "papermill": {
     "duration": 0.021045,
     "end_time": "2022-04-21T03:04:50.374913",
     "exception": false,
     "start_time": "2022-04-21T03:04:50.353868",
     "status": "completed"
    },
    "tags": []
   },
   "outputs": [
    {
     "data": {
      "text/markdown": [
       "- Should Tron traders be concerned about a potential decline.  Since a lift-off from the $0.05-base, Tron (TRX) has been making some progress on its chart. Higher lows coupled with steady highs above the 23.6% Fibonacci level fetched handsome gains in the last few days. The $0.0624-level is now critical in determining the alt&#8217;s near-term movements. A close below this mark could lead to a [&#8230;] ... [| Skaityti daugiau](https://ambcrypto.com/should-tron-traders-be-concerned-about-a-potential-decline/) "
      ],
      "text/plain": [
       "<IPython.core.display.Markdown object>"
      ]
     },
     "execution_count": 6,
     "metadata": {},
     "output_type": "execute_result"
    }
   ],
   "source": [
    "#hide_input\n",
    "#md('##### {}'.format(titleBTC)) \n",
    "md(\"- {}{} {}{} [| Skaityti daugiau]({}) \".format(trx['title'],'. ', trx['body'], ' ...', trx['url']))"
   ]
  },
  {
   "cell_type": "code",
   "execution_count": 7,
   "id": "illegal-greece",
   "metadata": {
    "execution": {
     "iopub.execute_input": "2022-04-21T03:04:50.403983Z",
     "iopub.status.busy": "2022-04-21T03:04:50.403245Z",
     "iopub.status.idle": "2022-04-21T03:04:50.408761Z",
     "shell.execute_reply": "2022-04-21T03:04:50.409248Z"
    },
    "papermill": {
     "duration": 0.022563,
     "end_time": "2022-04-21T03:04:50.409397",
     "exception": false,
     "start_time": "2022-04-21T03:04:50.386834",
     "status": "completed"
    },
    "tags": []
   },
   "outputs": [
    {
     "data": {
      "text/markdown": [
       "- Ethereum about to break above $3100 as price action remains sluggish.  Ethereum price analysis for April 21, 2022, comes on a sluggish note for the world&#8217;s 2nd biggest cryptocurrency as it has a major resistance at the $3100 price level and it seems that the bulls are holding support above $3K. Meanwhile, the token has shown strong signs of growth in recent days and rebounded from [&#8230;]The post Ethereum about to break above $3100 as price action remains sluggish appeared first on Blockchain, Crypto and Stock News. ... [| Skaityti daugiau](https://thecoinrise.com/ethereum-about-to-break-above-3100-as-price-action-remains-sluggish/) "
      ],
      "text/plain": [
       "<IPython.core.display.Markdown object>"
      ]
     },
     "execution_count": 7,
     "metadata": {},
     "output_type": "execute_result"
    }
   ],
   "source": [
    "#hide_input\n",
    "#md('##### {}'.format(titleBTC)) \n",
    "md(\"- {}{} {}{} [| Skaityti daugiau]({}) \".format(eth['title'],'. ', eth['body'], ' ...', eth['url']))"
   ]
  },
  {
   "cell_type": "code",
   "execution_count": 8,
   "id": "sublime-lounge",
   "metadata": {
    "execution": {
     "iopub.execute_input": "2022-04-21T03:04:50.439795Z",
     "iopub.status.busy": "2022-04-21T03:04:50.437804Z",
     "iopub.status.idle": "2022-04-21T03:04:50.442521Z",
     "shell.execute_reply": "2022-04-21T03:04:50.443082Z"
    },
    "papermill": {
     "duration": 0.021697,
     "end_time": "2022-04-21T03:04:50.443244",
     "exception": false,
     "start_time": "2022-04-21T03:04:50.421547",
     "status": "completed"
    },
    "tags": []
   },
   "outputs": [
    {
     "data": {
      "text/markdown": [
       "- Halfway To The Halving: What This Means For Bitcoin.  Bitcoin halvings are important events that have taken place since the digital asset was first launched in 2009. Since then, there have been a total of three halvings that have seen block reward cut down by half each time. The next bitcoin halving will happen in 2024 which means that the market is halfway there. As this fourth halving draws close, we take a look at how this affects the supply of BTC and in turn, the value of the cryptocurrency. Fourth Halving Coming Up The bitcoin halving is scheduled to happen every 210,000 blocks and the estimate for the next halving is put at May 4th, 2024, going by the current rate at which BTC is being mined. Currently, there have been a little over 19 million BTC mined, which only leaves an additional 2 million BTC that is left to be mined. With the halving cutting block reward by half, presently sitting at 6.25 BTC per block, it helps to predict the supply mechanics of the digital asset. Related Reading &#124; New Wallets Surge On Cardano, What’s Behind This? With each halving, the daily issuance and supply go down. It is expected to fall even lower with the next halving, where each block reward would only be 3.125 BTC, and with the average of 144 blocks that are mined per day, the daily BTC awarded to miners on a daily basis will fall from 900 to 450. This helps to ensure that the supply of bitcoin diminishes over time, making it one of the core features of the monetary policy of the ne... ... [| Skaityti daugiau](https://www.newsbtc.com/news/bitcoin/halfway-to-the-halving-what-this-means-for-bitcoin/) "
      ],
      "text/plain": [
       "<IPython.core.display.Markdown object>"
      ]
     },
     "execution_count": 8,
     "metadata": {},
     "output_type": "execute_result"
    }
   ],
   "source": [
    "#hide_input\n",
    "#md('##### {}'.format(titleBTC)) \n",
    "md(\"- {}{} {}{} [| Skaityti daugiau]({}) \".format(ada['title'],'. ', ada['body'], ' ...', ada['url']))"
   ]
  },
  {
   "cell_type": "code",
   "execution_count": 9,
   "id": "specified-ordering",
   "metadata": {
    "execution": {
     "iopub.execute_input": "2022-04-21T03:04:50.475179Z",
     "iopub.status.busy": "2022-04-21T03:04:50.473732Z",
     "iopub.status.idle": "2022-04-21T03:04:50.479528Z",
     "shell.execute_reply": "2022-04-21T03:04:50.479979Z"
    },
    "papermill": {
     "duration": 0.023369,
     "end_time": "2022-04-21T03:04:50.480124",
     "exception": false,
     "start_time": "2022-04-21T03:04:50.456755",
     "status": "completed"
    },
    "tags": []
   },
   "outputs": [
    {
     "data": {
      "text/markdown": [
       "- Derivatives exchange dYdX to become '100% decentralized by EOY'.  dYdX said that it is looking at full decentralization to offer its users advantages of DeFi that centralized services can’t.  ... [| Skaityti daugiau](https://cointelegraph.com/news/derivatives-exchange-dydx-to-become-100-decentralized-by-eoy) "
      ],
      "text/plain": [
       "<IPython.core.display.Markdown object>"
      ]
     },
     "execution_count": 9,
     "metadata": {},
     "output_type": "execute_result"
    }
   ],
   "source": [
    "#hide_input\n",
    "#md('##### {}'.format(titleBTC)) \n",
    "md(\"- {}{} {}{} [| Skaityti daugiau]({}) \".format(exchange['title'],'. ', exchange['body'], ' ...', exchange['url']))"
   ]
  },
  {
   "cell_type": "code",
   "execution_count": null,
   "id": "tender-livestock",
   "metadata": {
    "papermill": {
     "duration": 0.015292,
     "end_time": "2022-04-21T03:04:50.508875",
     "exception": false,
     "start_time": "2022-04-21T03:04:50.493583",
     "status": "completed"
    },
    "tags": []
   },
   "outputs": [],
   "source": []
  },
  {
   "cell_type": "code",
   "execution_count": null,
   "id": "appreciated-diamond",
   "metadata": {
    "papermill": {
     "duration": 0.013823,
     "end_time": "2022-04-21T03:04:50.536178",
     "exception": false,
     "start_time": "2022-04-21T03:04:50.522355",
     "status": "completed"
    },
    "tags": []
   },
   "outputs": [],
   "source": []
  },
  {
   "cell_type": "code",
   "execution_count": null,
   "id": "romance-sweden",
   "metadata": {
    "papermill": {
     "duration": 0.012756,
     "end_time": "2022-04-21T03:04:50.562988",
     "exception": false,
     "start_time": "2022-04-21T03:04:50.550232",
     "status": "completed"
    },
    "tags": []
   },
   "outputs": [],
   "source": []
  },
  {
   "cell_type": "code",
   "execution_count": null,
   "id": "dietary-statistics",
   "metadata": {
    "papermill": {
     "duration": 0.013033,
     "end_time": "2022-04-21T03:04:50.589001",
     "exception": false,
     "start_time": "2022-04-21T03:04:50.575968",
     "status": "completed"
    },
    "tags": []
   },
   "outputs": [],
   "source": []
  }
 ],
 "metadata": {
  "kernelspec": {
   "display_name": "Python 3",
   "language": "python",
   "name": "python3"
  },
  "language_info": {
   "codemirror_mode": {
    "name": "ipython",
    "version": 3
   },
   "file_extension": ".py",
   "mimetype": "text/x-python",
   "name": "python",
   "nbconvert_exporter": "python",
   "pygments_lexer": "ipython3",
   "version": "3.6.15"
  },
  "papermill": {
   "default_parameters": {},
   "duration": 13.509007,
   "end_time": "2022-04-21T03:04:51.123017",
   "environment_variables": {},
   "exception": null,
   "input_path": "Market-News.ipynb",
   "output_path": "Market-News.ipynb",
   "parameters": {},
   "start_time": "2022-04-21T03:04:37.614010",
   "version": "2.2.2"
  }
 },
 "nbformat": 4,
 "nbformat_minor": 5
}