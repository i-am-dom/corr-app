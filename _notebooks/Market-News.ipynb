{
 "cells": [
  {
   "cell_type": "markdown",
   "id": "short-greensboro",
   "metadata": {
    "papermill": {
     "duration": 0.016427,
     "end_time": "2022-10-13T03:41:12.848254",
     "exception": false,
     "start_time": "2022-10-13T03:41:12.831827",
     "status": "completed"
    },
    "tags": []
   },
   "source": [
    "# Kriptovaliutų naujienos"
   ]
  },
  {
   "cell_type": "code",
   "execution_count": 1,
   "id": "functioning-knowing",
   "metadata": {
    "execution": {
     "iopub.execute_input": "2022-10-13T03:41:12.884326Z",
     "iopub.status.busy": "2022-10-13T03:41:12.883559Z",
     "iopub.status.idle": "2022-10-13T03:41:14.484821Z",
     "shell.execute_reply": "2022-10-13T03:41:14.484165Z"
    },
    "papermill": {
     "duration": 1.624147,
     "end_time": "2022-10-13T03:41:14.485019",
     "exception": false,
     "start_time": "2022-10-13T03:41:12.860872",
     "status": "completed"
    },
    "tags": []
   },
   "outputs": [],
   "source": [
    "#hide_input\n",
    "import warnings\n",
    "warnings.filterwarnings('ignore')\n",
    "from scripts.read_data import read_api\n",
    "from scripts.read_data import read_news\n",
    "from scripts.read_data import read_covid\n",
    "import matplotlib.pyplot as plt \n",
    "from IPython.display import Markdown as md"
   ]
  },
  {
   "cell_type": "code",
   "execution_count": 2,
   "id": "shared-acceptance",
   "metadata": {
    "execution": {
     "iopub.execute_input": "2022-10-13T03:41:14.517041Z",
     "iopub.status.busy": "2022-10-13T03:41:14.515752Z",
     "iopub.status.idle": "2022-10-13T03:41:27.765208Z",
     "shell.execute_reply": "2022-10-13T03:41:27.766228Z"
    },
    "papermill": {
     "duration": 13.26977,
     "end_time": "2022-10-13T03:41:27.766414",
     "exception": false,
     "start_time": "2022-10-13T03:41:14.496644",
     "status": "completed"
    },
    "tags": []
   },
   "outputs": [],
   "source": [
    "#hide_input\n",
    "blockchain = read_news('blockchain') \n",
    "btc = read_news('btc') \n",
    "xrp = read_news('xrp') \n",
    "trx = read_news('trx') \n",
    "eth = read_news('eth')  \n",
    "ada = read_news('ada')\n",
    "exchange = read_news('exchange') "
   ]
  },
  {
   "cell_type": "code",
   "execution_count": 3,
   "id": "synthetic-notion",
   "metadata": {
    "execution": {
     "iopub.execute_input": "2022-10-13T03:41:27.799360Z",
     "iopub.status.busy": "2022-10-13T03:41:27.797572Z",
     "iopub.status.idle": "2022-10-13T03:41:27.802069Z",
     "shell.execute_reply": "2022-10-13T03:41:27.801433Z"
    },
    "papermill": {
     "duration": 0.024277,
     "end_time": "2022-10-13T03:41:27.802208",
     "exception": false,
     "start_time": "2022-10-13T03:41:27.777931",
     "status": "completed"
    },
    "tags": []
   },
   "outputs": [
    {
     "data": {
      "text/markdown": [
       "- Can Polkadot’s development activity act as a lifeboat to a drowning DOT.  Ever since Polkadot [DOT] recorded an extremely high development activity, the blockchain has become a buzzing topic in the crypto industry. However, Polkadot didn&#8217;t intend to stop just there. As per the crypto market intelligence platform, Santiment&#8217;s latest tweet, Polkadot, and Kusams’s shared GitHub repository continued to be the most active with regards to notable [&#8230;] ... [| Skaityti daugiau](https://ambcrypto.com/can-polkadots-development-activity-act-as-a-lifeboat-to-a-drowning-dot/) "
      ],
      "text/plain": [
       "<IPython.core.display.Markdown object>"
      ]
     },
     "execution_count": 3,
     "metadata": {},
     "output_type": "execute_result"
    }
   ],
   "source": [
    "#hide_input\n",
    "#md('##### {}'.format(titleBTC)) \n",
    "md(\"- {}{} {}{} [| Skaityti daugiau]({}) \".format(blockchain['title'],'. ', blockchain['body'], ' ...', blockchain['url']))"
   ]
  },
  {
   "cell_type": "code",
   "execution_count": 4,
   "id": "aging-caution",
   "metadata": {
    "execution": {
     "iopub.execute_input": "2022-10-13T03:41:27.831667Z",
     "iopub.status.busy": "2022-10-13T03:41:27.830846Z",
     "iopub.status.idle": "2022-10-13T03:41:27.838457Z",
     "shell.execute_reply": "2022-10-13T03:41:27.837837Z"
    },
    "papermill": {
     "duration": 0.024142,
     "end_time": "2022-10-13T03:41:27.838589",
     "exception": false,
     "start_time": "2022-10-13T03:41:27.814447",
     "status": "completed"
    },
    "tags": []
   },
   "outputs": [
    {
     "data": {
      "text/markdown": [
       "- How A Bitcoin College Would Reshape Academia.  Information is already free on the internet and students can get an excellent education by focusing on Bitcoin with a group of like-minded peers. ... [| Skaityti daugiau](https://bitcoinmagazine.com/culture/reimagining-college-with-bitcoin-education) "
      ],
      "text/plain": [
       "<IPython.core.display.Markdown object>"
      ]
     },
     "execution_count": 4,
     "metadata": {},
     "output_type": "execute_result"
    }
   ],
   "source": [
    "#hide_input\n",
    "#md('##### {}'.format(titleBTC)) \n",
    "md(\"- {}{} {}{} [| Skaityti daugiau]({}) \".format(btc['title'],'. ', btc['body'], ' ...', btc['url']))"
   ]
  },
  {
   "cell_type": "code",
   "execution_count": 5,
   "id": "organic-actress",
   "metadata": {
    "execution": {
     "iopub.execute_input": "2022-10-13T03:41:27.871562Z",
     "iopub.status.busy": "2022-10-13T03:41:27.869877Z",
     "iopub.status.idle": "2022-10-13T03:41:27.874422Z",
     "shell.execute_reply": "2022-10-13T03:41:27.873798Z"
    },
    "papermill": {
     "duration": 0.023886,
     "end_time": "2022-10-13T03:41:27.874553",
     "exception": false,
     "start_time": "2022-10-13T03:41:27.850667",
     "status": "completed"
    },
    "tags": []
   },
   "outputs": [
    {
     "data": {
      "text/markdown": [
       "- Ripple CEO Anticipates Answer in SEC Lawsuit Over XRP in the First Half of 2023.  Ripple CEO Brad Garlinghouse says he thinks &#x201C;we&#x2019;ll have an answer in the first half of next year&#x201D; in the U.S. Securities and Exchange Commission (SEC) lawsuit over xrp. Maintaining that xrp is not a security, the executive stressed that the case &#x201C;is about the whole industry&#x201D; and &#x201C;Everyone acknowledges how important this is.&#x201D; Ripple&#x2019;s [&#8230;] ... [| Skaityti daugiau](https://news.bitcoin.com/ripple-ceo-anticipates-answer-in-sec-lawsuit-over-xrp-in-the-first-half-of-2023__trashed/) "
      ],
      "text/plain": [
       "<IPython.core.display.Markdown object>"
      ]
     },
     "execution_count": 5,
     "metadata": {},
     "output_type": "execute_result"
    }
   ],
   "source": [
    "#hide_input\n",
    "#md('##### {}'.format(titleBTC)) \n",
    "md(\"- {}{} {}{} [| Skaityti daugiau]({}) \".format(xrp['title'],'. ', xrp['body'], ' ...', xrp['url']))"
   ]
  },
  {
   "cell_type": "code",
   "execution_count": 6,
   "id": "prompt-farmer",
   "metadata": {
    "execution": {
     "iopub.execute_input": "2022-10-13T03:41:27.905154Z",
     "iopub.status.busy": "2022-10-13T03:41:27.904367Z",
     "iopub.status.idle": "2022-10-13T03:41:27.910764Z",
     "shell.execute_reply": "2022-10-13T03:41:27.909526Z"
    },
    "papermill": {
     "duration": 0.02379,
     "end_time": "2022-10-13T03:41:27.910900",
     "exception": false,
     "start_time": "2022-10-13T03:41:27.887110",
     "status": "completed"
    },
    "tags": []
   },
   "outputs": [
    {
     "data": {
      "text/markdown": [
       "- Tron Partners With Dominica Govt. to Issue Fan Token, Made National Blockchain.  The Caribbean island's government may accept native Tron tokens such as TRX and USDT for public payments including taxes under a new ordinance. ... [| Skaityti daugiau](https://www.coindesk.com/policy/2022/10/12/tron-partners-with-dominica-govt-to-issue-fan-token-made-national-blockchain/?utm_medium=referral&utm_source=rss&utm_campaign=headlines) "
      ],
      "text/plain": [
       "<IPython.core.display.Markdown object>"
      ]
     },
     "execution_count": 6,
     "metadata": {},
     "output_type": "execute_result"
    }
   ],
   "source": [
    "#hide_input\n",
    "#md('##### {}'.format(titleBTC)) \n",
    "md(\"- {}{} {}{} [| Skaityti daugiau]({}) \".format(trx['title'],'. ', trx['body'], ' ...', trx['url']))"
   ]
  },
  {
   "cell_type": "code",
   "execution_count": 7,
   "id": "illegal-greece",
   "metadata": {
    "execution": {
     "iopub.execute_input": "2022-10-13T03:41:27.943783Z",
     "iopub.status.busy": "2022-10-13T03:41:27.943022Z",
     "iopub.status.idle": "2022-10-13T03:41:27.950176Z",
     "shell.execute_reply": "2022-10-13T03:41:27.949561Z"
    },
    "papermill": {
     "duration": 0.026616,
     "end_time": "2022-10-13T03:41:27.950309",
     "exception": false,
     "start_time": "2022-10-13T03:41:27.923693",
     "status": "completed"
    },
    "tags": []
   },
   "outputs": [
    {
     "data": {
      "text/markdown": [
       "- Bitcoin, Ethereum, Quant, and Terra Classic Daily Price Analyses – 12 October Roundup.  The global crypto market has seen a positive change as the influx of capital strengthened. The recent changes for Bitcoin, Ethereum, and others show performance improvement. There had been a market trend of bearishness with small exceptions, i.e., bullish changes. The market has struggled with the current situation as the influx of capital hasn’t strengthened &#8230;  Bitcoin, Ethereum, Quant, and Terra Classic Daily Price Analyses – 12 October Roundup Read More &#187; ... [| Skaityti daugiau](https://www.cryptopolitan.com/bitcoin-ethereum-quant-and-terra-classic-daily-price-analyses-12-october-roundup/) "
      ],
      "text/plain": [
       "<IPython.core.display.Markdown object>"
      ]
     },
     "execution_count": 7,
     "metadata": {},
     "output_type": "execute_result"
    }
   ],
   "source": [
    "#hide_input\n",
    "#md('##### {}'.format(titleBTC)) \n",
    "md(\"- {}{} {}{} [| Skaityti daugiau]({}) \".format(eth['title'],'. ', eth['body'], ' ...', eth['url']))"
   ]
  },
  {
   "cell_type": "code",
   "execution_count": 8,
   "id": "sublime-lounge",
   "metadata": {
    "execution": {
     "iopub.execute_input": "2022-10-13T03:41:27.983947Z",
     "iopub.status.busy": "2022-10-13T03:41:27.983208Z",
     "iopub.status.idle": "2022-10-13T03:41:27.987444Z",
     "shell.execute_reply": "2022-10-13T03:41:27.986828Z"
    },
    "papermill": {
     "duration": 0.022953,
     "end_time": "2022-10-13T03:41:27.987603",
     "exception": false,
     "start_time": "2022-10-13T03:41:27.964650",
     "status": "completed"
    },
    "tags": []
   },
   "outputs": [
    {
     "data": {
      "text/markdown": [
       "- Investment Behaviors in Cryptocurrency. Here’s What You Need to Know.  Cryptocurrency is a digital currency that can be used to pay for goods and services. It can also be used as a sort of investment by trading with it on the different available crypto trading platforms. The different types of cryptocurrencies include, but are not limited to, Bitcoin (BTC), Dogecoin (DOGE), Ethereum (ETH), Cardano (ADA), [&#8230;]The post Investment Behaviors in Cryptocurrency. Here&#8217;s What You Need to Know appeared first on Times Tabloid. ... [| Skaityti daugiau](https://timestabloid.com/investment-behaviors-in-cryptocurrency-heres-what-you-need-to-know/) "
      ],
      "text/plain": [
       "<IPython.core.display.Markdown object>"
      ]
     },
     "execution_count": 8,
     "metadata": {},
     "output_type": "execute_result"
    }
   ],
   "source": [
    "#hide_input\n",
    "#md('##### {}'.format(titleBTC)) \n",
    "md(\"- {}{} {}{} [| Skaityti daugiau]({}) \".format(ada['title'],'. ', ada['body'], ' ...', ada['url']))"
   ]
  },
  {
   "cell_type": "code",
   "execution_count": 9,
   "id": "specified-ordering",
   "metadata": {
    "execution": {
     "iopub.execute_input": "2022-10-13T03:41:28.022128Z",
     "iopub.status.busy": "2022-10-13T03:41:28.021234Z",
     "iopub.status.idle": "2022-10-13T03:41:28.025775Z",
     "shell.execute_reply": "2022-10-13T03:41:28.025190Z"
    },
    "papermill": {
     "duration": 0.02427,
     "end_time": "2022-10-13T03:41:28.025917",
     "exception": false,
     "start_time": "2022-10-13T03:41:28.001647",
     "status": "completed"
    },
    "tags": []
   },
   "outputs": [
    {
     "data": {
      "text/markdown": [
       "- Ripple CEO Anticipates Answer in SEC Lawsuit Over XRP in the First Half of 2023.  Ripple CEO Brad Garlinghouse says he thinks &#x201C;we&#x2019;ll have an answer in the first half of next year&#x201D; in the U.S. Securities and Exchange Commission (SEC) lawsuit over xrp. Maintaining that xrp is not a security, the executive stressed that the case &#x201C;is about the whole industry&#x201D; and &#x201C;Everyone acknowledges how important this is.&#x201D; Ripple&#x2019;s [&#8230;] ... [| Skaityti daugiau](https://news.bitcoin.com/ripple-ceo-anticipates-answer-in-sec-lawsuit-over-xrp-in-the-first-half-of-2023__trashed/) "
      ],
      "text/plain": [
       "<IPython.core.display.Markdown object>"
      ]
     },
     "execution_count": 9,
     "metadata": {},
     "output_type": "execute_result"
    }
   ],
   "source": [
    "#hide_input\n",
    "#md('##### {}'.format(titleBTC)) \n",
    "md(\"- {}{} {}{} [| Skaityti daugiau]({}) \".format(exchange['title'],'. ', exchange['body'], ' ...', exchange['url']))"
   ]
  },
  {
   "cell_type": "code",
   "execution_count": null,
   "id": "tender-livestock",
   "metadata": {
    "papermill": {
     "duration": 0.014028,
     "end_time": "2022-10-13T03:41:28.053967",
     "exception": false,
     "start_time": "2022-10-13T03:41:28.039939",
     "status": "completed"
    },
    "tags": []
   },
   "outputs": [],
   "source": []
  },
  {
   "cell_type": "code",
   "execution_count": null,
   "id": "appreciated-diamond",
   "metadata": {
    "papermill": {
     "duration": 0.014624,
     "end_time": "2022-10-13T03:41:28.090901",
     "exception": false,
     "start_time": "2022-10-13T03:41:28.076277",
     "status": "completed"
    },
    "tags": []
   },
   "outputs": [],
   "source": []
  },
  {
   "cell_type": "code",
   "execution_count": null,
   "id": "romance-sweden",
   "metadata": {
    "papermill": {
     "duration": 0.014781,
     "end_time": "2022-10-13T03:41:28.120243",
     "exception": false,
     "start_time": "2022-10-13T03:41:28.105462",
     "status": "completed"
    },
    "tags": []
   },
   "outputs": [],
   "source": []
  },
  {
   "cell_type": "code",
   "execution_count": null,
   "id": "dietary-statistics",
   "metadata": {
    "papermill": {
     "duration": 0.014085,
     "end_time": "2022-10-13T03:41:28.148371",
     "exception": false,
     "start_time": "2022-10-13T03:41:28.134286",
     "status": "completed"
    },
    "tags": []
   },
   "outputs": [],
   "source": []
  }
 ],
 "metadata": {
  "kernelspec": {
   "display_name": "Python 3",
   "language": "python",
   "name": "python3"
  },
  "language_info": {
   "codemirror_mode": {
    "name": "ipython",
    "version": 3
   },
   "file_extension": ".py",
   "mimetype": "text/x-python",
   "name": "python",
   "nbconvert_exporter": "python",
   "pygments_lexer": "ipython3",
   "version": "3.6.15"
  },
  "papermill": {
   "default_parameters": {},
   "duration": 17.164693,
   "end_time": "2022-10-13T03:41:28.683797",
   "environment_variables": {},
   "exception": null,
   "input_path": "Market-News.ipynb",
   "output_path": "Market-News.ipynb",
   "parameters": {},
   "start_time": "2022-10-13T03:41:11.519104",
   "version": "2.2.2"
  }
 },
 "nbformat": 4,
 "nbformat_minor": 5
}