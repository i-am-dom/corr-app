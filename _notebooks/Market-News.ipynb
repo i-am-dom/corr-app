{
 "cells": [
  {
   "cell_type": "markdown",
   "id": "short-greensboro",
   "metadata": {
    "papermill": {
     "duration": 0.015569,
     "end_time": "2021-10-15T02:04:01.697793",
     "exception": false,
     "start_time": "2021-10-15T02:04:01.682224",
     "status": "completed"
    },
    "tags": []
   },
   "source": [
    "# Kriptovaliutų naujienos"
   ]
  },
  {
   "cell_type": "code",
   "execution_count": 1,
   "id": "functioning-knowing",
   "metadata": {
    "execution": {
     "iopub.execute_input": "2021-10-15T02:04:01.735409Z",
     "iopub.status.busy": "2021-10-15T02:04:01.734723Z",
     "iopub.status.idle": "2021-10-15T02:04:03.430874Z",
     "shell.execute_reply": "2021-10-15T02:04:03.430270Z"
    },
    "papermill": {
     "duration": 1.721559,
     "end_time": "2021-10-15T02:04:03.431051",
     "exception": false,
     "start_time": "2021-10-15T02:04:01.709492",
     "status": "completed"
    },
    "tags": []
   },
   "outputs": [],
   "source": [
    "#hide_input\n",
    "import warnings\n",
    "warnings.filterwarnings('ignore')\n",
    "from scripts.read_data import read_api\n",
    "from scripts.read_data import read_news\n",
    "from scripts.read_data import read_covid\n",
    "import matplotlib.pyplot as plt \n",
    "from IPython.display import Markdown as md"
   ]
  },
  {
   "cell_type": "code",
   "execution_count": 2,
   "id": "shared-acceptance",
   "metadata": {
    "execution": {
     "iopub.execute_input": "2021-10-15T02:04:03.463008Z",
     "iopub.status.busy": "2021-10-15T02:04:03.462305Z",
     "iopub.status.idle": "2021-10-15T02:04:10.830216Z",
     "shell.execute_reply": "2021-10-15T02:04:10.829626Z"
    },
    "papermill": {
     "duration": 7.386669,
     "end_time": "2021-10-15T02:04:10.830372",
     "exception": false,
     "start_time": "2021-10-15T02:04:03.443703",
     "status": "completed"
    },
    "tags": []
   },
   "outputs": [],
   "source": [
    "#hide_input\n",
    "blockchain = read_news('blockchain') \n",
    "btc = read_news('btc') \n",
    "xrp = read_news('xrp') \n",
    "trx = read_news('trx') \n",
    "eth = read_news('eth')  \n",
    "ada = read_news('ada')\n",
    "exchange = read_news('exchange') "
   ]
  },
  {
   "cell_type": "code",
   "execution_count": 3,
   "id": "synthetic-notion",
   "metadata": {
    "execution": {
     "iopub.execute_input": "2021-10-15T02:04:10.870281Z",
     "iopub.status.busy": "2021-10-15T02:04:10.867672Z",
     "iopub.status.idle": "2021-10-15T02:04:10.873907Z",
     "shell.execute_reply": "2021-10-15T02:04:10.873324Z"
    },
    "papermill": {
     "duration": 0.023206,
     "end_time": "2021-10-15T02:04:10.874050",
     "exception": false,
     "start_time": "2021-10-15T02:04:10.850844",
     "status": "completed"
    },
    "tags": []
   },
   "outputs": [
    {
     "data": {
      "text/markdown": [
       "- The Environmental Debate of Crypto: Part 1.  Quick TakeBlockchain and cryptocurrency are known to be detrimental to the environment and this has been proven as a factThe discussion of the impact of blockchain technology on the environment contains deep and complex nuancesThere are various misconceptions surrounding the impact of blockchains on the environment and potential solutionsFundamentally, Bitcoin’s carbon footprint is not something that can be justified or condemned simply by relative comparison ... [| Skaityti daugiau](https://www.theblockresearch.com/the-environmental-debate-of-crypto-part-1-120592?utm_source=cryptocompare&utm_medium=rss) "
      ],
      "text/plain": [
       "<IPython.core.display.Markdown object>"
      ]
     },
     "execution_count": 3,
     "metadata": {},
     "output_type": "execute_result"
    }
   ],
   "source": [
    "#hide_input\n",
    "#md('##### {}'.format(titleBTC)) \n",
    "md(\"- {}{} {}{} [| Skaityti daugiau]({}) \".format(blockchain['title'],'. ', blockchain['body'], ' ...', blockchain['url']))"
   ]
  },
  {
   "cell_type": "code",
   "execution_count": 4,
   "id": "aging-caution",
   "metadata": {
    "execution": {
     "iopub.execute_input": "2021-10-15T02:04:10.904015Z",
     "iopub.status.busy": "2021-10-15T02:04:10.903300Z",
     "iopub.status.idle": "2021-10-15T02:04:10.908133Z",
     "shell.execute_reply": "2021-10-15T02:04:10.908730Z"
    },
    "papermill": {
     "duration": 0.0233,
     "end_time": "2021-10-15T02:04:10.908891",
     "exception": false,
     "start_time": "2021-10-15T02:04:10.885591",
     "status": "completed"
    },
    "tags": []
   },
   "outputs": [
    {
     "data": {
      "text/markdown": [
       "- The U.S. Government Does Not Respect Autonomy. Bitcoin Does..  The U.S. government wants to neglect the free will of the markets and Bitcoin is the only way to opt out. ... [| Skaityti daugiau](https://bitcoinmagazine.com/culture/government-does-not-respect-autonomy-bitcoin-does) "
      ],
      "text/plain": [
       "<IPython.core.display.Markdown object>"
      ]
     },
     "execution_count": 4,
     "metadata": {},
     "output_type": "execute_result"
    }
   ],
   "source": [
    "#hide_input\n",
    "#md('##### {}'.format(titleBTC)) \n",
    "md(\"- {}{} {}{} [| Skaityti daugiau]({}) \".format(btc['title'],'. ', btc['body'], ' ...', btc['url']))"
   ]
  },
  {
   "cell_type": "code",
   "execution_count": 5,
   "id": "organic-actress",
   "metadata": {
    "execution": {
     "iopub.execute_input": "2021-10-15T02:04:10.938272Z",
     "iopub.status.busy": "2021-10-15T02:04:10.937586Z",
     "iopub.status.idle": "2021-10-15T02:04:10.941251Z",
     "shell.execute_reply": "2021-10-15T02:04:10.940456Z"
    },
    "papermill": {
     "duration": 0.020838,
     "end_time": "2021-10-15T02:04:10.941392",
     "exception": false,
     "start_time": "2021-10-15T02:04:10.920554",
     "status": "completed"
    },
    "tags": []
   },
   "outputs": [
    {
     "data": {
      "text/markdown": [
       "- Ripple to assist UK, among other countries, on its path to CBDC.  Ripple has been leading many different projects in the cryptocurrency industry and now it was moving to help various countries with CBDC solutions. The blockchains solution company had earlier discussed talking to different nations about central bank digital currency. And it looks like it has managed to not only convince but lead them on the [&#8230;] ... [| Skaityti daugiau](https://ambcrypto.com/ripple-to-assist-uk-with-cbdc-path-as-it-joins-the-digital-pound-foundation/) "
      ],
      "text/plain": [
       "<IPython.core.display.Markdown object>"
      ]
     },
     "execution_count": 5,
     "metadata": {},
     "output_type": "execute_result"
    }
   ],
   "source": [
    "#hide_input\n",
    "#md('##### {}'.format(titleBTC)) \n",
    "md(\"- {}{} {}{} [| Skaityti daugiau]({}) \".format(xrp['title'],'. ', xrp['body'], ' ...', xrp['url']))"
   ]
  },
  {
   "cell_type": "code",
   "execution_count": 6,
   "id": "prompt-farmer",
   "metadata": {
    "execution": {
     "iopub.execute_input": "2021-10-15T02:04:10.973709Z",
     "iopub.status.busy": "2021-10-15T02:04:10.972728Z",
     "iopub.status.idle": "2021-10-15T02:04:10.975903Z",
     "shell.execute_reply": "2021-10-15T02:04:10.976446Z"
    },
    "papermill": {
     "duration": 0.021977,
     "end_time": "2021-10-15T02:04:10.976602",
     "exception": false,
     "start_time": "2021-10-15T02:04:10.954625",
     "status": "completed"
    },
    "tags": []
   },
   "outputs": [
    {
     "data": {
      "text/markdown": [
       "- Tron (TRX) Consolidation Indicates Decreased Volumetric Action!.  TRON currently holds the 28th position in terms of market cap with a combined value of $6.76 billion and above 71 billion coins in circulating supply. Unlike other cryptocurrencies, TRON is focused on the content sharing and entertainment industry and intends to rule the content creation domain, starting with the gaming industry. It allows creators &#8230; ... [| Skaityti daugiau](https://www.cryptonewsz.com/tron-consolidation-indicates-decreased-volumetric-action/) "
      ],
      "text/plain": [
       "<IPython.core.display.Markdown object>"
      ]
     },
     "execution_count": 6,
     "metadata": {},
     "output_type": "execute_result"
    }
   ],
   "source": [
    "#hide_input\n",
    "#md('##### {}'.format(titleBTC)) \n",
    "md(\"- {}{} {}{} [| Skaityti daugiau]({}) \".format(trx['title'],'. ', trx['body'], ' ...', trx['url']))"
   ]
  },
  {
   "cell_type": "code",
   "execution_count": 7,
   "id": "illegal-greece",
   "metadata": {
    "execution": {
     "iopub.execute_input": "2021-10-15T02:04:11.007072Z",
     "iopub.status.busy": "2021-10-15T02:04:11.006404Z",
     "iopub.status.idle": "2021-10-15T02:04:11.010241Z",
     "shell.execute_reply": "2021-10-15T02:04:11.009573Z"
    },
    "papermill": {
     "duration": 0.021095,
     "end_time": "2021-10-15T02:04:11.010380",
     "exception": false,
     "start_time": "2021-10-15T02:04:10.989285",
     "status": "completed"
    },
    "tags": []
   },
   "outputs": [
    {
     "data": {
      "text/markdown": [
       "- Three Altcoins Now Bullish Against Bitcoin As Top Cryptocurrency Targets $60,000: Analyst.  A popular crypto strategist and trader says he expects three altcoins to sizzle as Bitcoin (BTC) pushes toward its next resistance level. The pseudonymous analyst known in crypto circles as Capo tells his 177,400 Twitter followers that he expects Bitcoin to soon reach $60,000 before shattering $100,000 in the months ahead. As for the altcoin [&#8230;]The post Three Altcoins Now Bullish Against Bitcoin As Top Cryptocurrency Targets $60,000: Analyst appeared first on The Daily Hodl. ... [| Skaityti daugiau](https://dailyhodl.com/2021/10/14/three-altcoins-now-bullish-against-bitcoin-as-top-cryptocurrency-targets-60000-analyst/) "
      ],
      "text/plain": [
       "<IPython.core.display.Markdown object>"
      ]
     },
     "execution_count": 7,
     "metadata": {},
     "output_type": "execute_result"
    }
   ],
   "source": [
    "#hide_input\n",
    "#md('##### {}'.format(titleBTC)) \n",
    "md(\"- {}{} {}{} [| Skaityti daugiau]({}) \".format(eth['title'],'. ', eth['body'], ' ...', eth['url']))"
   ]
  },
  {
   "cell_type": "code",
   "execution_count": 8,
   "id": "sublime-lounge",
   "metadata": {
    "execution": {
     "iopub.execute_input": "2021-10-15T02:04:11.043539Z",
     "iopub.status.busy": "2021-10-15T02:04:11.042845Z",
     "iopub.status.idle": "2021-10-15T02:04:11.047372Z",
     "shell.execute_reply": "2021-10-15T02:04:11.051098Z"
    },
    "papermill": {
     "duration": 0.027573,
     "end_time": "2021-10-15T02:04:11.051264",
     "exception": false,
     "start_time": "2021-10-15T02:04:11.023691",
     "status": "completed"
    },
    "tags": []
   },
   "outputs": [
    {
     "data": {
      "text/markdown": [
       "- Three Altcoins Now Bullish Against Bitcoin As Top Cryptocurrency Targets $60,000: Analyst.  A popular crypto strategist and trader says he expects three altcoins to sizzle as Bitcoin (BTC) pushes toward its next resistance level. The pseudonymous analyst known in crypto circles as Capo tells his 177,400 Twitter followers that he expects Bitcoin to soon reach $60,000 before shattering $100,000 in the months ahead. As for the altcoin [&#8230;]The post Three Altcoins Now Bullish Against Bitcoin As Top Cryptocurrency Targets $60,000: Analyst appeared first on The Daily Hodl. ... [| Skaityti daugiau](https://dailyhodl.com/2021/10/14/three-altcoins-now-bullish-against-bitcoin-as-top-cryptocurrency-targets-60000-analyst/) "
      ],
      "text/plain": [
       "<IPython.core.display.Markdown object>"
      ]
     },
     "execution_count": 8,
     "metadata": {},
     "output_type": "execute_result"
    }
   ],
   "source": [
    "#hide_input\n",
    "#md('##### {}'.format(titleBTC)) \n",
    "md(\"- {}{} {}{} [| Skaityti daugiau]({}) \".format(ada['title'],'. ', ada['body'], ' ...', ada['url']))"
   ]
  },
  {
   "cell_type": "code",
   "execution_count": 9,
   "id": "specified-ordering",
   "metadata": {
    "execution": {
     "iopub.execute_input": "2021-10-15T02:04:11.094053Z",
     "iopub.status.busy": "2021-10-15T02:04:11.093333Z",
     "iopub.status.idle": "2021-10-15T02:04:11.097450Z",
     "shell.execute_reply": "2021-10-15T02:04:11.096869Z"
    },
    "papermill": {
     "duration": 0.026778,
     "end_time": "2021-10-15T02:04:11.097625",
     "exception": false,
     "start_time": "2021-10-15T02:04:11.070847",
     "status": "completed"
    },
    "tags": []
   },
   "outputs": [
    {
     "data": {
      "text/markdown": [
       "- SEC Tweets About Funds Holding Bitcoin Futures — Expectations of Impending Bitcoin ETF Approval Soar.  The U.S. Securities and Exchange Commission (SEC) has tweeted about investing in funds that hold bitcoin futures contracts. This has sparked optimism within the crypto community that the regulator may soon approve bitcoin exchange-traded funds (ETFs), especially those investing in bitcoin futures. Optimism Grows That SEC Will Approve a Bitcoin Futures ETF Soon The official [&#8230;] ... [| Skaityti daugiau](https://news.bitcoin.com/sec-tweets-funds-holding-bitcoin-futures-expectations-bitcoin-etf-approval-soar/) "
      ],
      "text/plain": [
       "<IPython.core.display.Markdown object>"
      ]
     },
     "execution_count": 9,
     "metadata": {},
     "output_type": "execute_result"
    }
   ],
   "source": [
    "#hide_input\n",
    "#md('##### {}'.format(titleBTC)) \n",
    "md(\"- {}{} {}{} [| Skaityti daugiau]({}) \".format(exchange['title'],'. ', exchange['body'], ' ...', exchange['url']))"
   ]
  },
  {
   "cell_type": "code",
   "execution_count": null,
   "id": "tender-livestock",
   "metadata": {
    "papermill": {
     "duration": 0.014696,
     "end_time": "2021-10-15T02:04:11.131129",
     "exception": false,
     "start_time": "2021-10-15T02:04:11.116433",
     "status": "completed"
    },
    "tags": []
   },
   "outputs": [],
   "source": []
  },
  {
   "cell_type": "code",
   "execution_count": null,
   "id": "appreciated-diamond",
   "metadata": {
    "papermill": {
     "duration": 0.014866,
     "end_time": "2021-10-15T02:04:11.161216",
     "exception": false,
     "start_time": "2021-10-15T02:04:11.146350",
     "status": "completed"
    },
    "tags": []
   },
   "outputs": [],
   "source": []
  },
  {
   "cell_type": "code",
   "execution_count": null,
   "id": "romance-sweden",
   "metadata": {
    "papermill": {
     "duration": 0.017075,
     "end_time": "2021-10-15T02:04:11.193015",
     "exception": false,
     "start_time": "2021-10-15T02:04:11.175940",
     "status": "completed"
    },
    "tags": []
   },
   "outputs": [],
   "source": []
  },
  {
   "cell_type": "code",
   "execution_count": null,
   "id": "dietary-statistics",
   "metadata": {
    "papermill": {
     "duration": 0.015022,
     "end_time": "2021-10-15T02:04:11.222485",
     "exception": false,
     "start_time": "2021-10-15T02:04:11.207463",
     "status": "completed"
    },
    "tags": []
   },
   "outputs": [],
   "source": []
  }
 ],
 "metadata": {
  "kernelspec": {
   "display_name": "Python 3",
   "language": "python",
   "name": "python3"
  },
  "language_info": {
   "codemirror_mode": {
    "name": "ipython",
    "version": 3
   },
   "file_extension": ".py",
   "mimetype": "text/x-python",
   "name": "python",
   "nbconvert_exporter": "python",
   "pygments_lexer": "ipython3",
   "version": "3.6.15"
  },
  "papermill": {
   "default_parameters": {},
   "duration": 11.288628,
   "end_time": "2021-10-15T02:04:11.747891",
   "environment_variables": {},
   "exception": null,
   "input_path": "Market-News.ipynb",
   "output_path": "Market-News.ipynb",
   "parameters": {},
   "start_time": "2021-10-15T02:04:00.459263",
   "version": "2.2.2"
  }
 },
 "nbformat": 4,
 "nbformat_minor": 5
}