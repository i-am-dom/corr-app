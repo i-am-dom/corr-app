{
 "cells": [
  {
   "cell_type": "markdown",
   "id": "short-greensboro",
   "metadata": {
    "papermill": {
     "duration": 0.015948,
     "end_time": "2021-10-07T02:05:54.189634",
     "exception": false,
     "start_time": "2021-10-07T02:05:54.173686",
     "status": "completed"
    },
    "tags": []
   },
   "source": [
    "# Kriptovaliutų naujienos"
   ]
  },
  {
   "cell_type": "code",
   "execution_count": 1,
   "id": "functioning-knowing",
   "metadata": {
    "execution": {
     "iopub.execute_input": "2021-10-07T02:05:54.222518Z",
     "iopub.status.busy": "2021-10-07T02:05:54.221652Z",
     "iopub.status.idle": "2021-10-07T02:05:55.774032Z",
     "shell.execute_reply": "2021-10-07T02:05:55.774673Z"
    },
    "papermill": {
     "duration": 1.572622,
     "end_time": "2021-10-07T02:05:55.774910",
     "exception": false,
     "start_time": "2021-10-07T02:05:54.202288",
     "status": "completed"
    },
    "tags": []
   },
   "outputs": [],
   "source": [
    "#hide_input\n",
    "import warnings\n",
    "warnings.filterwarnings('ignore')\n",
    "from scripts.read_data import read_api\n",
    "from scripts.read_data import read_news\n",
    "from scripts.read_data import read_covid\n",
    "import matplotlib.pyplot as plt \n",
    "from IPython.display import Markdown as md"
   ]
  },
  {
   "cell_type": "code",
   "execution_count": 2,
   "id": "shared-acceptance",
   "metadata": {
    "execution": {
     "iopub.execute_input": "2021-10-07T02:05:55.805852Z",
     "iopub.status.busy": "2021-10-07T02:05:55.805155Z",
     "iopub.status.idle": "2021-10-07T02:06:03.744936Z",
     "shell.execute_reply": "2021-10-07T02:06:03.745510Z"
    },
    "papermill": {
     "duration": 7.958484,
     "end_time": "2021-10-07T02:06:03.745688",
     "exception": false,
     "start_time": "2021-10-07T02:05:55.787204",
     "status": "completed"
    },
    "tags": []
   },
   "outputs": [],
   "source": [
    "#hide_input\n",
    "blockchain = read_news('blockchain') \n",
    "btc = read_news('btc') \n",
    "xrp = read_news('xrp') \n",
    "trx = read_news('trx') \n",
    "eth = read_news('eth')  \n",
    "ada = read_news('ada')\n",
    "exchange = read_news('exchange') "
   ]
  },
  {
   "cell_type": "code",
   "execution_count": 3,
   "id": "synthetic-notion",
   "metadata": {
    "execution": {
     "iopub.execute_input": "2021-10-07T02:06:03.778040Z",
     "iopub.status.busy": "2021-10-07T02:06:03.777335Z",
     "iopub.status.idle": "2021-10-07T02:06:03.780215Z",
     "shell.execute_reply": "2021-10-07T02:06:03.780735Z"
    },
    "papermill": {
     "duration": 0.022835,
     "end_time": "2021-10-07T02:06:03.780888",
     "exception": false,
     "start_time": "2021-10-07T02:06:03.758053",
     "status": "completed"
    },
    "tags": []
   },
   "outputs": [
    {
     "data": {
      "text/markdown": [
       "- Bank Of America’s Crypto Report: All You Need To Know.  Bank of America released their latest crypto report this week, as Bitcoin returns north of $50K. BofA strategists Alkesh Shah and Andrew Moss described the crypto market as &#8220;too large to ignore&#8221; and that &#8220;there could be more opportunity than skeptics expect.&#8221; Let&#8217;s take a bird&#8217;s eye view on key findings from the 140+ page report. Crypto, Institutionalized As BTC hangs tough above $50K, both BofA and our team&#8217;s internal perspective on Bitcoin inflows reflect strong institutional interest. Additionally, beyond simply traditional financial institutions, Bank of America also cites the potential for further integration of blockchain technology in daily life. &#8220;In the near future, you may use blockchain technology to unlock your phone; buy a stock, house or fraction of a Ferrari; receive a dividend; borrow, loan or save money; or even pay for gas or pizza,&#8221; the report states. Of course, many different projects are already working on tools for some of these exact use cases, and a whole lot more. Outside of existing economies ripe for reinvigoration, the report also calls out projects and firms that are becoming inherently native to the digital asset ecosystem. There has been ample growth across both of these categories, exemplified by the below chart showing mentions of digital asset language on earnings calls: If there is one thing that is abundantly clear, it&#8217;s that digital... ... [| Skaityti daugiau](https://www.newsbtc.com/news/bank-of-americas-crypto-report/) "
      ],
      "text/plain": [
       "<IPython.core.display.Markdown object>"
      ]
     },
     "execution_count": 3,
     "metadata": {},
     "output_type": "execute_result"
    }
   ],
   "source": [
    "#hide_input\n",
    "#md('##### {}'.format(titleBTC)) \n",
    "md(\"- {}{} {}{} [| Skaityti daugiau]({}) \".format(blockchain['title'],'. ', blockchain['body'], ' ...', blockchain['url']))"
   ]
  },
  {
   "cell_type": "code",
   "execution_count": 4,
   "id": "aging-caution",
   "metadata": {
    "execution": {
     "iopub.execute_input": "2021-10-07T02:06:03.812751Z",
     "iopub.status.busy": "2021-10-07T02:06:03.812030Z",
     "iopub.status.idle": "2021-10-07T02:06:03.814925Z",
     "shell.execute_reply": "2021-10-07T02:06:03.815500Z"
    },
    "papermill": {
     "duration": 0.022041,
     "end_time": "2021-10-07T02:06:03.815649",
     "exception": false,
     "start_time": "2021-10-07T02:06:03.793608",
     "status": "completed"
    },
    "tags": []
   },
   "outputs": [
    {
     "data": {
      "text/markdown": [
       "- How differently do traders see the Bitcoin v. altcoins debate.  While the world of crypto looks like a monolith to those who are new to it, communities know the cracks and divisions within it. However, many feel the break between Bitcoin and altcoins is widening by the day. So, should Bitcoin supporters be more outspoken about the same? During a recent episode of the What Bitcoin [&#8230;] ... [| Skaityti daugiau](https://ambcrypto.com/how-differently-do-traders-see-the-bitcoin-v-altcoins-debate/) "
      ],
      "text/plain": [
       "<IPython.core.display.Markdown object>"
      ]
     },
     "execution_count": 4,
     "metadata": {},
     "output_type": "execute_result"
    }
   ],
   "source": [
    "#hide_input\n",
    "#md('##### {}'.format(titleBTC)) \n",
    "md(\"- {}{} {}{} [| Skaityti daugiau]({}) \".format(btc['title'],'. ', btc['body'], ' ...', btc['url']))"
   ]
  },
  {
   "cell_type": "code",
   "execution_count": 5,
   "id": "organic-actress",
   "metadata": {
    "execution": {
     "iopub.execute_input": "2021-10-07T02:06:03.847880Z",
     "iopub.status.busy": "2021-10-07T02:06:03.846500Z",
     "iopub.status.idle": "2021-10-07T02:06:03.851000Z",
     "shell.execute_reply": "2021-10-07T02:06:03.851537Z"
    },
    "papermill": {
     "duration": 0.022745,
     "end_time": "2021-10-07T02:06:03.851684",
     "exception": false,
     "start_time": "2021-10-07T02:06:03.828939",
     "status": "completed"
    },
    "tags": []
   },
   "outputs": [
    {
     "data": {
      "text/markdown": [
       "- XRP Ledger payments could go offline with new Proof of Payments protocol.  Offline payments might soon feature on XRPL as developers at XRP Ledger Labs, the software company behind XRPL-based digital payments solutions, recently revealed the prototype of their Proof of Payments protocol. During a presentation at the Apex Developer Summit in Tallin, XRPL Labs developers showcased a demo of xPoP, the Proof of Payments protocol that [&#8230;] ... [| Skaityti daugiau](https://ambcrypto.com/xrp-ledger-payments-could-go-offline-with-new-proof-of-payments-protocol/) "
      ],
      "text/plain": [
       "<IPython.core.display.Markdown object>"
      ]
     },
     "execution_count": 5,
     "metadata": {},
     "output_type": "execute_result"
    }
   ],
   "source": [
    "#hide_input\n",
    "#md('##### {}'.format(titleBTC)) \n",
    "md(\"- {}{} {}{} [| Skaityti daugiau]({}) \".format(xrp['title'],'. ', xrp['body'], ' ...', xrp['url']))"
   ]
  },
  {
   "cell_type": "code",
   "execution_count": 6,
   "id": "prompt-farmer",
   "metadata": {
    "execution": {
     "iopub.execute_input": "2021-10-07T02:06:03.883588Z",
     "iopub.status.busy": "2021-10-07T02:06:03.881382Z",
     "iopub.status.idle": "2021-10-07T02:06:03.887740Z",
     "shell.execute_reply": "2021-10-07T02:06:03.887132Z"
    },
    "papermill": {
     "duration": 0.02283,
     "end_time": "2021-10-07T02:06:03.887871",
     "exception": false,
     "start_time": "2021-10-07T02:06:03.865041",
     "status": "completed"
    },
    "tags": []
   },
   "outputs": [
    {
     "data": {
      "text/markdown": [
       "- Tron (TRX) Price Analysis: Breakout Zone Near $0.1020.  Tron price is forming a base above the $0.0850 zone against the US Dollar. TRX price is now trading above $0.0900 and the 55 simple moving average (4-hours). There was a break above a key bearish trend line with resistance near $0.0900 on the 4-hours chart (data feed via Bitfinex). The pair could start a...The post Tron (TRX) Price Analysis: Breakout Zone Near $0.1020 appeared first on Live Bitcoin News. ... [| Skaityti daugiau](https://www.livebitcoinnews.com/tron-trx-price-analysis-breakout-zone-near-0-1020/) "
      ],
      "text/plain": [
       "<IPython.core.display.Markdown object>"
      ]
     },
     "execution_count": 6,
     "metadata": {},
     "output_type": "execute_result"
    }
   ],
   "source": [
    "#hide_input\n",
    "#md('##### {}'.format(titleBTC)) \n",
    "md(\"- {}{} {}{} [| Skaityti daugiau]({}) \".format(trx['title'],'. ', trx['body'], ' ...', trx['url']))"
   ]
  },
  {
   "cell_type": "code",
   "execution_count": 7,
   "id": "illegal-greece",
   "metadata": {
    "execution": {
     "iopub.execute_input": "2021-10-07T02:06:03.920233Z",
     "iopub.status.busy": "2021-10-07T02:06:03.919569Z",
     "iopub.status.idle": "2021-10-07T02:06:03.922904Z",
     "shell.execute_reply": "2021-10-07T02:06:03.923435Z"
    },
    "papermill": {
     "duration": 0.022417,
     "end_time": "2021-10-07T02:06:03.923570",
     "exception": false,
     "start_time": "2021-10-07T02:06:03.901153",
     "status": "completed"
    },
    "tags": []
   },
   "outputs": [
    {
     "data": {
      "text/markdown": [
       "- MetaMask Partners With BitGo, Qredo, and Cactus Custody to Enhance Adoption.  Popular Ethereum wallet “MetaMask” is partnering with BitGo, Qredo, and Cactus Custody to offer complaint DeFi Access to large institutions. ... [| Skaityti daugiau](https://cryptopotato.com/metamask-partners-with-bitgo-qredo-and-cactus-custody-to-enhance-adoption/) "
      ],
      "text/plain": [
       "<IPython.core.display.Markdown object>"
      ]
     },
     "execution_count": 7,
     "metadata": {},
     "output_type": "execute_result"
    }
   ],
   "source": [
    "#hide_input\n",
    "#md('##### {}'.format(titleBTC)) \n",
    "md(\"- {}{} {}{} [| Skaityti daugiau]({}) \".format(eth['title'],'. ', eth['body'], ' ...', eth['url']))"
   ]
  },
  {
   "cell_type": "code",
   "execution_count": 8,
   "id": "sublime-lounge",
   "metadata": {
    "execution": {
     "iopub.execute_input": "2021-10-07T02:06:03.956560Z",
     "iopub.status.busy": "2021-10-07T02:06:03.955616Z",
     "iopub.status.idle": "2021-10-07T02:06:03.959833Z",
     "shell.execute_reply": "2021-10-07T02:06:03.960607Z"
    },
    "papermill": {
     "duration": 0.022535,
     "end_time": "2021-10-07T02:06:03.960747",
     "exception": false,
     "start_time": "2021-10-07T02:06:03.938212",
     "status": "completed"
    },
    "tags": []
   },
   "outputs": [
    {
     "data": {
      "text/markdown": [
       "- Cardano Investors In Japan Come Under Fire For $6 Million In Underreported Taxes.  Cardano investors in Japan have come under scrutiny after authorities reported that investors in the asset had underreported their taxes from their trading activities. It was reported that multiple cities in the country had seen profits from trading in Cardano’s native token ADA but had not reported the earnings made from investing in the digital asset. Authorities are now beginning to strengthen taxation laws around cryptocurrencies given that citizens have taken to using digital assets as a way to evade tax liabilities. Japanese citizens are investing more in cryptocurrencies and avoid paying taxes on them due to their legality being yet to be determined. Related Reading &#124; FinTech Behind Cardano’s First Stablecoin Launches Bank Accounts And Visa Debit Cards Cardano Investors Cutting Corners A report from Japanese publication Nikkei revealed that tax authorities had carried out a simultaneous audit of a number of regions in the country. The large-scale tax audit uncovered 1.6 billion yen in under-reported taxes from profit from digital assets. $12.6 million in missing taxes were identified to be from dozens of people who had not reported their earnings from digital currencies. ADA price struggling around $2.1 &#124; Source: ADAUSD on TradingView.com The report also showed that the tax evasion techniques were not limited to individual investors alone. Companies had also taken advantage of these “tax-saving measures” by in... ... [| Skaityti daugiau](https://www.newsbtc.com/news/cardano/cardano-investors-underreport-taxes/) "
      ],
      "text/plain": [
       "<IPython.core.display.Markdown object>"
      ]
     },
     "execution_count": 8,
     "metadata": {},
     "output_type": "execute_result"
    }
   ],
   "source": [
    "#hide_input\n",
    "#md('##### {}'.format(titleBTC)) \n",
    "md(\"- {}{} {}{} [| Skaityti daugiau]({}) \".format(ada['title'],'. ', ada['body'], ' ...', ada['url']))"
   ]
  },
  {
   "cell_type": "code",
   "execution_count": 9,
   "id": "specified-ordering",
   "metadata": {
    "execution": {
     "iopub.execute_input": "2021-10-07T02:06:03.994249Z",
     "iopub.status.busy": "2021-10-07T02:06:03.992926Z",
     "iopub.status.idle": "2021-10-07T02:06:03.998194Z",
     "shell.execute_reply": "2021-10-07T02:06:03.997544Z"
    },
    "papermill": {
     "duration": 0.02309,
     "end_time": "2021-10-07T02:06:03.998333",
     "exception": false,
     "start_time": "2021-10-07T02:06:03.975243",
     "status": "completed"
    },
    "tags": []
   },
   "outputs": [
    {
     "data": {
      "text/markdown": [
       "- Bitcoin Reclaims $55,000 on Strong Fundamentals: Markets Wrap.  Bitcoin dominance rises as price surges to $51,500, Gary Gensler echoes Jerome Powell's comments confirming the US has no plans to ban crypto The post Bitcoin Reclaims $55,000 on Strong Fundamentals: Markets Wrap appeared first on Blockworks. ... [| Skaityti daugiau](https://blockworks.co/bitcoin-reclaims-55000-on-strong-fundamentals-markets-wrap/) "
      ],
      "text/plain": [
       "<IPython.core.display.Markdown object>"
      ]
     },
     "execution_count": 9,
     "metadata": {},
     "output_type": "execute_result"
    }
   ],
   "source": [
    "#hide_input\n",
    "#md('##### {}'.format(titleBTC)) \n",
    "md(\"- {}{} {}{} [| Skaityti daugiau]({}) \".format(exchange['title'],'. ', exchange['body'], ' ...', exchange['url']))"
   ]
  },
  {
   "cell_type": "code",
   "execution_count": null,
   "id": "tender-livestock",
   "metadata": {
    "papermill": {
     "duration": 0.014744,
     "end_time": "2021-10-07T02:06:04.027279",
     "exception": false,
     "start_time": "2021-10-07T02:06:04.012535",
     "status": "completed"
    },
    "tags": []
   },
   "outputs": [],
   "source": []
  },
  {
   "cell_type": "code",
   "execution_count": null,
   "id": "appreciated-diamond",
   "metadata": {
    "papermill": {
     "duration": 0.014051,
     "end_time": "2021-10-07T02:06:04.055308",
     "exception": false,
     "start_time": "2021-10-07T02:06:04.041257",
     "status": "completed"
    },
    "tags": []
   },
   "outputs": [],
   "source": []
  },
  {
   "cell_type": "code",
   "execution_count": null,
   "id": "romance-sweden",
   "metadata": {
    "papermill": {
     "duration": 0.014165,
     "end_time": "2021-10-07T02:06:04.083958",
     "exception": false,
     "start_time": "2021-10-07T02:06:04.069793",
     "status": "completed"
    },
    "tags": []
   },
   "outputs": [],
   "source": []
  },
  {
   "cell_type": "code",
   "execution_count": null,
   "id": "dietary-statistics",
   "metadata": {
    "papermill": {
     "duration": 0.015495,
     "end_time": "2021-10-07T02:06:04.118330",
     "exception": false,
     "start_time": "2021-10-07T02:06:04.102835",
     "status": "completed"
    },
    "tags": []
   },
   "outputs": [],
   "source": []
  }
 ],
 "metadata": {
  "kernelspec": {
   "display_name": "Python 3",
   "language": "python",
   "name": "python3"
  },
  "language_info": {
   "codemirror_mode": {
    "name": "ipython",
    "version": 3
   },
   "file_extension": ".py",
   "mimetype": "text/x-python",
   "name": "python",
   "nbconvert_exporter": "python",
   "pygments_lexer": "ipython3",
   "version": "3.6.15"
  },
  "papermill": {
   "default_parameters": {},
   "duration": 11.507307,
   "end_time": "2021-10-07T02:06:04.543267",
   "environment_variables": {},
   "exception": null,
   "input_path": "Market-News.ipynb",
   "output_path": "Market-News.ipynb",
   "parameters": {},
   "start_time": "2021-10-07T02:05:53.035960",
   "version": "2.2.2"
  }
 },
 "nbformat": 4,
 "nbformat_minor": 5
}