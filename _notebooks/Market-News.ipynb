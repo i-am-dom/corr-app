{
 "cells": [
  {
   "cell_type": "markdown",
   "id": "short-greensboro",
   "metadata": {
    "papermill": {
     "duration": 0.016111,
     "end_time": "2022-04-09T02:26:51.370868",
     "exception": false,
     "start_time": "2022-04-09T02:26:51.354757",
     "status": "completed"
    },
    "tags": []
   },
   "source": [
    "# Kriptovaliutų naujienos"
   ]
  },
  {
   "cell_type": "code",
   "execution_count": 1,
   "id": "functioning-knowing",
   "metadata": {
    "execution": {
     "iopub.execute_input": "2022-04-09T02:26:51.406259Z",
     "iopub.status.busy": "2022-04-09T02:26:51.405576Z",
     "iopub.status.idle": "2022-04-09T02:26:52.978689Z",
     "shell.execute_reply": "2022-04-09T02:26:52.978115Z"
    },
    "papermill": {
     "duration": 1.595668,
     "end_time": "2022-04-09T02:26:52.978857",
     "exception": false,
     "start_time": "2022-04-09T02:26:51.383189",
     "status": "completed"
    },
    "tags": []
   },
   "outputs": [],
   "source": [
    "#hide_input\n",
    "import warnings\n",
    "warnings.filterwarnings('ignore')\n",
    "from scripts.read_data import read_api\n",
    "from scripts.read_data import read_news\n",
    "from scripts.read_data import read_covid\n",
    "import matplotlib.pyplot as plt \n",
    "from IPython.display import Markdown as md"
   ]
  },
  {
   "cell_type": "code",
   "execution_count": 2,
   "id": "shared-acceptance",
   "metadata": {
    "execution": {
     "iopub.execute_input": "2022-04-09T02:26:53.010118Z",
     "iopub.status.busy": "2022-04-09T02:26:53.009286Z",
     "iopub.status.idle": "2022-04-09T02:27:02.598779Z",
     "shell.execute_reply": "2022-04-09T02:27:02.598258Z"
    },
    "papermill": {
     "duration": 9.608968,
     "end_time": "2022-04-09T02:27:02.598914",
     "exception": false,
     "start_time": "2022-04-09T02:26:52.989946",
     "status": "completed"
    },
    "tags": []
   },
   "outputs": [],
   "source": [
    "#hide_input\n",
    "blockchain = read_news('blockchain') \n",
    "btc = read_news('btc') \n",
    "xrp = read_news('xrp') \n",
    "trx = read_news('trx') \n",
    "eth = read_news('eth')  \n",
    "ada = read_news('ada')\n",
    "exchange = read_news('exchange') "
   ]
  },
  {
   "cell_type": "code",
   "execution_count": 3,
   "id": "synthetic-notion",
   "metadata": {
    "execution": {
     "iopub.execute_input": "2022-04-09T02:27:02.629461Z",
     "iopub.status.busy": "2022-04-09T02:27:02.628819Z",
     "iopub.status.idle": "2022-04-09T02:27:02.632185Z",
     "shell.execute_reply": "2022-04-09T02:27:02.632668Z"
    },
    "papermill": {
     "duration": 0.020624,
     "end_time": "2022-04-09T02:27:02.632810",
     "exception": false,
     "start_time": "2022-04-09T02:27:02.612186",
     "status": "completed"
    },
    "tags": []
   },
   "outputs": [
    {
     "data": {
      "text/markdown": [
       "- Here’s What Next for Polygon (MATIC), VeChain (VET) and Two Other Altcoins: Crypto Analyst Michaël van de Poppe.  Analyst and trader Michaël van de Poppe is laying out his predictions and targets for four crypto assets. Starting with Ethereum (ETH) scaling solution Polygon (MATIC), Van de Poppe tells his 580,800 Twitter followers that the crypto asset is “getting close to a long.&#8221; When paired against Bitcoin (BTC), the crypto analyst and trader says [&#8230;]The post Here’s What Next for Polygon (MATIC), VeChain (VET) and Two Other Altcoins: Crypto Analyst Michaël van de Poppe appeared first on The Daily Hodl. ... [| Skaityti daugiau](https://dailyhodl.com/2022/04/08/heres-what-next-for-polygon-matic-vechain-vet-and-two-other-altcoins-crypto-analyst-michael-van-de-poppe/) "
      ],
      "text/plain": [
       "<IPython.core.display.Markdown object>"
      ]
     },
     "execution_count": 3,
     "metadata": {},
     "output_type": "execute_result"
    }
   ],
   "source": [
    "#hide_input\n",
    "#md('##### {}'.format(titleBTC)) \n",
    "md(\"- {}{} {}{} [| Skaityti daugiau]({}) \".format(blockchain['title'],'. ', blockchain['body'], ' ...', blockchain['url']))"
   ]
  },
  {
   "cell_type": "code",
   "execution_count": 4,
   "id": "aging-caution",
   "metadata": {
    "execution": {
     "iopub.execute_input": "2022-04-09T02:27:02.658761Z",
     "iopub.status.busy": "2022-04-09T02:27:02.658167Z",
     "iopub.status.idle": "2022-04-09T02:27:02.660578Z",
     "shell.execute_reply": "2022-04-09T02:27:02.661016Z"
    },
    "papermill": {
     "duration": 0.017914,
     "end_time": "2022-04-09T02:27:02.661170",
     "exception": false,
     "start_time": "2022-04-09T02:27:02.643256",
     "status": "completed"
    },
    "tags": []
   },
   "outputs": [
    {
     "data": {
      "text/markdown": [
       "- Crypto-Friendly Special Economic Zone in Honduras Adopts Bitcoin as Legal Tender.  A crypto-friendly special economic zone in Honduras has adopted bitcoin as legal tender, allowing the cryptocurrency to be used to pay taxes and fees. In addition, bitcoin bonds can be issued within its jurisdiction using &#x201C;world-class standards for AML and KYC.&#x201D; Bitcoin Operates as Legal Tender in Pr&#xF3;spera Pr&#xF3;spera, a special economic zone located on [&#8230;] ... [| Skaityti daugiau](https://news.bitcoin.com/crypto-friendly-special-economic-zone-in-honduras-adopts-bitcoin-as-legal-tender/) "
      ],
      "text/plain": [
       "<IPython.core.display.Markdown object>"
      ]
     },
     "execution_count": 4,
     "metadata": {},
     "output_type": "execute_result"
    }
   ],
   "source": [
    "#hide_input\n",
    "#md('##### {}'.format(titleBTC)) \n",
    "md(\"- {}{} {}{} [| Skaityti daugiau]({}) \".format(btc['title'],'. ', btc['body'], ' ...', btc['url']))"
   ]
  },
  {
   "cell_type": "code",
   "execution_count": 5,
   "id": "organic-actress",
   "metadata": {
    "execution": {
     "iopub.execute_input": "2022-04-09T02:27:02.687455Z",
     "iopub.status.busy": "2022-04-09T02:27:02.686217Z",
     "iopub.status.idle": "2022-04-09T02:27:02.690556Z",
     "shell.execute_reply": "2022-04-09T02:27:02.690081Z"
    },
    "papermill": {
     "duration": 0.018684,
     "end_time": "2022-04-09T02:27:02.690680",
     "exception": false,
     "start_time": "2022-04-09T02:27:02.671996",
     "status": "completed"
    },
    "tags": []
   },
   "outputs": [
    {
     "data": {
      "text/markdown": [
       "- Ripple price analysis: XRP continues decline past $0.78 support, is a breakout coming?.  TL;DR Breakdown Ripple price analysis shows bearish signs coupled with a 4 percent decline in price Next upturn could rally up to $0.89 if price can consolidate above $0.81 demand [&#8230;] ... [| Skaityti daugiau](https://www.cryptopolitan.com/ripple-price-analysis-2022-04-08/) "
      ],
      "text/plain": [
       "<IPython.core.display.Markdown object>"
      ]
     },
     "execution_count": 5,
     "metadata": {},
     "output_type": "execute_result"
    }
   ],
   "source": [
    "#hide_input\n",
    "#md('##### {}'.format(titleBTC)) \n",
    "md(\"- {}{} {}{} [| Skaityti daugiau]({}) \".format(xrp['title'],'. ', xrp['body'], ' ...', xrp['url']))"
   ]
  },
  {
   "cell_type": "code",
   "execution_count": 6,
   "id": "prompt-farmer",
   "metadata": {
    "execution": {
     "iopub.execute_input": "2022-04-09T02:27:02.718756Z",
     "iopub.status.busy": "2022-04-09T02:27:02.718058Z",
     "iopub.status.idle": "2022-04-09T02:27:02.722109Z",
     "shell.execute_reply": "2022-04-09T02:27:02.721687Z"
    },
    "papermill": {
     "duration": 0.019763,
     "end_time": "2022-04-09T02:27:02.722214",
     "exception": false,
     "start_time": "2022-04-09T02:27:02.702451",
     "status": "completed"
    },
    "tags": []
   },
   "outputs": [
    {
     "data": {
      "text/markdown": [
       "- GemTRX Adds New Tron Cloud Mining Features and Options.  GemTRX Links: Official Website: https://gem-trx.com/share?code=337867 Official Facebook Page: https://www.facebook.com/gemtrxofficial Official Twitter: https://twitter.com/Gem_TRX Telegram Channel: https://t.me/gemtrxchannel Whitepaper: https://tron.network/static/doc/white_paper_v_2_0.pdf Telegram customer service: https://t.me/gemtrxofficial https://t.me/gemtrxofficial2 Whatsapp customer service: +1(650)272-9738 GemTRX added a new cloud mining option called The Mining Cycle Model to celebrate their one million partners. Because of the enhanced capabilities, participants may now deposit TRX from [&#8230;]The post GemTRX Adds New Tron Cloud Mining Features and Options appeared first on NullTX. ... [| Skaityti daugiau](https://nulltx.com/gemtrx-adds-new-tron-cloud-mining-features-and-options/) "
      ],
      "text/plain": [
       "<IPython.core.display.Markdown object>"
      ]
     },
     "execution_count": 6,
     "metadata": {},
     "output_type": "execute_result"
    }
   ],
   "source": [
    "#hide_input\n",
    "#md('##### {}'.format(titleBTC)) \n",
    "md(\"- {}{} {}{} [| Skaityti daugiau]({}) \".format(trx['title'],'. ', trx['body'], ' ...', trx['url']))"
   ]
  },
  {
   "cell_type": "code",
   "execution_count": 7,
   "id": "illegal-greece",
   "metadata": {
    "execution": {
     "iopub.execute_input": "2022-04-09T02:27:02.751931Z",
     "iopub.status.busy": "2022-04-09T02:27:02.751284Z",
     "iopub.status.idle": "2022-04-09T02:27:02.754603Z",
     "shell.execute_reply": "2022-04-09T02:27:02.754138Z"
    },
    "papermill": {
     "duration": 0.020836,
     "end_time": "2022-04-09T02:27:02.754704",
     "exception": false,
     "start_time": "2022-04-09T02:27:02.733868",
     "status": "completed"
    },
    "tags": []
   },
   "outputs": [
    {
     "data": {
      "text/markdown": [
       "- Radio Caca (RACA) Listed on Huobi and up More Than 50%, Surpassing Bitcoin and Ethereum in Appreciation.  California: Radio Caca (RACA), creators behind the United States of Mars (USM), the largest metaverse on the Binance Smart Chain, recorded an increase of more than 50% in the value of its cryptocurrency RACA in the last 30 days. This impressive appreciation surpassed some of the leading cryptocurrencies on the market, such as Bitcoin, which [&#8230;]The post Radio Caca (RACA) Listed on Huobi and up More Than 50%, Surpassing Bitcoin and Ethereum in Appreciation appeared first on NullTX. ... [| Skaityti daugiau](https://nulltx.com/radio-caca-raca-listed-on-huobi-and-up-more-than-50-surpassing-bitcoin-and-ethereum-in-appreciation/) "
      ],
      "text/plain": [
       "<IPython.core.display.Markdown object>"
      ]
     },
     "execution_count": 7,
     "metadata": {},
     "output_type": "execute_result"
    }
   ],
   "source": [
    "#hide_input\n",
    "#md('##### {}'.format(titleBTC)) \n",
    "md(\"- {}{} {}{} [| Skaityti daugiau]({}) \".format(eth['title'],'. ', eth['body'], ' ...', eth['url']))"
   ]
  },
  {
   "cell_type": "code",
   "execution_count": 8,
   "id": "sublime-lounge",
   "metadata": {
    "execution": {
     "iopub.execute_input": "2022-04-09T02:27:02.784338Z",
     "iopub.status.busy": "2022-04-09T02:27:02.783735Z",
     "iopub.status.idle": "2022-04-09T02:27:02.787399Z",
     "shell.execute_reply": "2022-04-09T02:27:02.786876Z"
    },
    "papermill": {
     "duration": 0.020687,
     "end_time": "2022-04-09T02:27:02.787528",
     "exception": false,
     "start_time": "2022-04-09T02:27:02.766841",
     "status": "completed"
    },
    "tags": []
   },
   "outputs": [
    {
     "data": {
      "text/markdown": [
       "- Ethereum, Cardano, and Solana, who is winning the race to PoS.  Ever heard of blockchain consensus mechanisms? Every crypto user, be it a rookie or expert, has at least heard the term consensus mechanism. Consensus mechanisms are systems set in blockchains to secure the network by ensuring that only responsible parties add new transactions. The two most popular consensus mechanisms are Proof of Work and Proof of stake. PoW came about by the launch of Bitcoin, but experts discovered that it consumes massive amounts of resources. Hence, PoW was deemed inefficient for new chains. Now came the rise of PoS. In PoS, the network allows participants to hold some stakes in the native currency and participate in authenticating and validating transactions. PoS is considered an energy and cost-efficient consensus mechanism. After the first introduction of PoS, other projects followed with their versions. Today, the guide discusses three of the most prominent blockchains using PoS, answering the question of who will win the race. Understanding Ouroboros Cardano’s PoS Cardano is one of the largest blockchain networks today. This network was founded in 2018 to provide solutions that the Ethereum network was never able to. At launch, Cardano desired to use PoS as its primary system to strengthen and sustain the network. However, Cardano first did thorough research, creating a new PoS system called Ouroboros. Ouroboros is the first consensus algorithm developed after thorough peer-reviewed research. Ourobo... ... [| Skaityti daugiau](https://www.cryptoknowmics.com/news/ethereum-cardano-and-solana-who-is-winning-the-race-to-pos/?utm_source=rss&utm_medium=rss&utm_campaign=ethereum-cardano-and-solana-who-is-winning-the-race-to-pos) "
      ],
      "text/plain": [
       "<IPython.core.display.Markdown object>"
      ]
     },
     "execution_count": 8,
     "metadata": {},
     "output_type": "execute_result"
    }
   ],
   "source": [
    "#hide_input\n",
    "#md('##### {}'.format(titleBTC)) \n",
    "md(\"- {}{} {}{} [| Skaityti daugiau]({}) \".format(ada['title'],'. ', ada['body'], ' ...', ada['url']))"
   ]
  },
  {
   "cell_type": "code",
   "execution_count": 9,
   "id": "specified-ordering",
   "metadata": {
    "execution": {
     "iopub.execute_input": "2022-04-09T02:27:02.819145Z",
     "iopub.status.busy": "2022-04-09T02:27:02.818561Z",
     "iopub.status.idle": "2022-04-09T02:27:02.821393Z",
     "shell.execute_reply": "2022-04-09T02:27:02.821858Z"
    },
    "papermill": {
     "duration": 0.02123,
     "end_time": "2022-04-09T02:27:02.821988",
     "exception": false,
     "start_time": "2022-04-09T02:27:02.800758",
     "status": "completed"
    },
    "tags": []
   },
   "outputs": [
    {
     "data": {
      "text/markdown": [
       "- Radio Caca (RACA) Listed on Huobi and up More Than 50%, Surpassing Bitcoin and Ethereum in Appreciation.  California: Radio Caca (RACA), creators behind the United States of Mars (USM), the largest metaverse on the Binance Smart Chain, recorded an increase of more than 50% in the value of its cryptocurrency RACA in the last 30 days. This impressive appreciation surpassed some of the leading cryptocurrencies on the market, such as Bitcoin, which [&#8230;]The post Radio Caca (RACA) Listed on Huobi and up More Than 50%, Surpassing Bitcoin and Ethereum in Appreciation appeared first on NullTX. ... [| Skaityti daugiau](https://nulltx.com/radio-caca-raca-listed-on-huobi-and-up-more-than-50-surpassing-bitcoin-and-ethereum-in-appreciation/) "
      ],
      "text/plain": [
       "<IPython.core.display.Markdown object>"
      ]
     },
     "execution_count": 9,
     "metadata": {},
     "output_type": "execute_result"
    }
   ],
   "source": [
    "#hide_input\n",
    "#md('##### {}'.format(titleBTC)) \n",
    "md(\"- {}{} {}{} [| Skaityti daugiau]({}) \".format(exchange['title'],'. ', exchange['body'], ' ...', exchange['url']))"
   ]
  },
  {
   "cell_type": "code",
   "execution_count": null,
   "id": "tender-livestock",
   "metadata": {
    "papermill": {
     "duration": 0.014019,
     "end_time": "2022-04-09T02:27:02.848046",
     "exception": false,
     "start_time": "2022-04-09T02:27:02.834027",
     "status": "completed"
    },
    "tags": []
   },
   "outputs": [],
   "source": []
  },
  {
   "cell_type": "code",
   "execution_count": null,
   "id": "appreciated-diamond",
   "metadata": {
    "papermill": {
     "duration": 0.01295,
     "end_time": "2022-04-09T02:27:02.873746",
     "exception": false,
     "start_time": "2022-04-09T02:27:02.860796",
     "status": "completed"
    },
    "tags": []
   },
   "outputs": [],
   "source": []
  },
  {
   "cell_type": "code",
   "execution_count": null,
   "id": "romance-sweden",
   "metadata": {
    "papermill": {
     "duration": 0.011827,
     "end_time": "2022-04-09T02:27:02.899991",
     "exception": false,
     "start_time": "2022-04-09T02:27:02.888164",
     "status": "completed"
    },
    "tags": []
   },
   "outputs": [],
   "source": []
  },
  {
   "cell_type": "code",
   "execution_count": null,
   "id": "dietary-statistics",
   "metadata": {
    "papermill": {
     "duration": 0.021277,
     "end_time": "2022-04-09T02:27:02.934797",
     "exception": false,
     "start_time": "2022-04-09T02:27:02.913520",
     "status": "completed"
    },
    "tags": []
   },
   "outputs": [],
   "source": []
  }
 ],
 "metadata": {
  "kernelspec": {
   "display_name": "Python 3",
   "language": "python",
   "name": "python3"
  },
  "language_info": {
   "codemirror_mode": {
    "name": "ipython",
    "version": 3
   },
   "file_extension": ".py",
   "mimetype": "text/x-python",
   "name": "python",
   "nbconvert_exporter": "python",
   "pygments_lexer": "ipython3",
   "version": "3.6.15"
  },
  "papermill": {
   "default_parameters": {},
   "duration": 13.507403,
   "end_time": "2022-04-09T02:27:03.468067",
   "environment_variables": {},
   "exception": null,
   "input_path": "Market-News.ipynb",
   "output_path": "Market-News.ipynb",
   "parameters": {},
   "start_time": "2022-04-09T02:26:49.960664",
   "version": "2.2.2"
  }
 },
 "nbformat": 4,
 "nbformat_minor": 5
}