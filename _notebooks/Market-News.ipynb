{
 "cells": [
  {
   "cell_type": "markdown",
   "id": "short-greensboro",
   "metadata": {
    "papermill": {
     "duration": 0.013246,
     "end_time": "2021-11-28T01:56:33.866041",
     "exception": false,
     "start_time": "2021-11-28T01:56:33.852795",
     "status": "completed"
    },
    "tags": []
   },
   "source": [
    "# Kriptovaliutų naujienos"
   ]
  },
  {
   "cell_type": "code",
   "execution_count": 1,
   "id": "functioning-knowing",
   "metadata": {
    "execution": {
     "iopub.execute_input": "2021-11-28T01:56:33.894554Z",
     "iopub.status.busy": "2021-11-28T01:56:33.894035Z",
     "iopub.status.idle": "2021-11-28T01:56:35.125858Z",
     "shell.execute_reply": "2021-11-28T01:56:35.124828Z"
    },
    "papermill": {
     "duration": 1.25043,
     "end_time": "2021-11-28T01:56:35.126019",
     "exception": false,
     "start_time": "2021-11-28T01:56:33.875589",
     "status": "completed"
    },
    "tags": []
   },
   "outputs": [],
   "source": [
    "#hide_input\n",
    "import warnings\n",
    "warnings.filterwarnings('ignore')\n",
    "from scripts.read_data import read_api\n",
    "from scripts.read_data import read_news\n",
    "from scripts.read_data import read_covid\n",
    "import matplotlib.pyplot as plt \n",
    "from IPython.display import Markdown as md"
   ]
  },
  {
   "cell_type": "code",
   "execution_count": 2,
   "id": "shared-acceptance",
   "metadata": {
    "execution": {
     "iopub.execute_input": "2021-11-28T01:56:35.150351Z",
     "iopub.status.busy": "2021-11-28T01:56:35.149765Z",
     "iopub.status.idle": "2021-11-28T01:56:44.351958Z",
     "shell.execute_reply": "2021-11-28T01:56:44.351434Z"
    },
    "papermill": {
     "duration": 9.216781,
     "end_time": "2021-11-28T01:56:44.352098",
     "exception": false,
     "start_time": "2021-11-28T01:56:35.135317",
     "status": "completed"
    },
    "tags": []
   },
   "outputs": [],
   "source": [
    "#hide_input\n",
    "blockchain = read_news('blockchain') \n",
    "btc = read_news('btc') \n",
    "xrp = read_news('xrp') \n",
    "trx = read_news('trx') \n",
    "eth = read_news('eth')  \n",
    "ada = read_news('ada')\n",
    "exchange = read_news('exchange') "
   ]
  },
  {
   "cell_type": "code",
   "execution_count": 3,
   "id": "synthetic-notion",
   "metadata": {
    "execution": {
     "iopub.execute_input": "2021-11-28T01:56:44.376630Z",
     "iopub.status.busy": "2021-11-28T01:56:44.374539Z",
     "iopub.status.idle": "2021-11-28T01:56:44.379001Z",
     "shell.execute_reply": "2021-11-28T01:56:44.379428Z"
    },
    "papermill": {
     "duration": 0.017108,
     "end_time": "2021-11-28T01:56:44.379541",
     "exception": false,
     "start_time": "2021-11-28T01:56:44.362433",
     "status": "completed"
    },
    "tags": []
   },
   "outputs": [
    {
     "data": {
      "text/markdown": [
       "- NFT Tokens Would Give Tough Competition to Bitcoin & Major Altcoins.  The post NFT Tokens Would Give Tough Competition to Bitcoin &#038; Major Altcoins appeared first on Coinpedia - Fintech &amp; Cryptocurreny News Media| Crypto GuideHighlights:&#160; NFTs across the space has undergone a steep fall after raising concerns over a new Covid-19 variant.&#160;The growth cycle of the NFTs appears to be replicating the similar trend of altcoins move in 2017. There has been unusual progress in Blockchain technology with Non-Fungible Tokens (NFTs) and Metaverse projects in 2021. However, the projects &#8230; ... [| Skaityti daugiau](https://coinpedia.org/non-fungible-token-nft/nft-tokens-would-give-tough-competition-to-bitcoin-major-altcoins/) "
      ],
      "text/plain": [
       "<IPython.core.display.Markdown object>"
      ]
     },
     "execution_count": 3,
     "metadata": {},
     "output_type": "execute_result"
    }
   ],
   "source": [
    "#hide_input\n",
    "#md('##### {}'.format(titleBTC)) \n",
    "md(\"- {}{} {}{} [| Skaityti daugiau]({}) \".format(blockchain['title'],'. ', blockchain['body'], ' ...', blockchain['url']))"
   ]
  },
  {
   "cell_type": "code",
   "execution_count": 4,
   "id": "aging-caution",
   "metadata": {
    "execution": {
     "iopub.execute_input": "2021-11-28T01:56:44.402146Z",
     "iopub.status.busy": "2021-11-28T01:56:44.401623Z",
     "iopub.status.idle": "2021-11-28T01:56:44.403596Z",
     "shell.execute_reply": "2021-11-28T01:56:44.404016Z"
    },
    "papermill": {
     "duration": 0.015353,
     "end_time": "2021-11-28T01:56:44.404129",
     "exception": false,
     "start_time": "2021-11-28T01:56:44.388776",
     "status": "completed"
    },
    "tags": []
   },
   "outputs": [
    {
     "data": {
      "text/markdown": [
       "- Along with Bitcoin, Ethereum, Kevin O’Leary ‘needs’ to invest in Solana, Polygon, Hedera.  Kevin O&#8217;Leary, one of the most vocal institutional cryptocurrency investors, has considerably expanded his digital asset holdings over the past year. Once a critic of the novel asset class, the &#8220;Shark Tank&#8221; star, and investor has since increased his crypto investments to 10% of his portfolio, admittedly, in Bitcoin, Ethereum, and USDCoin. The Canadian entrepreneur [&#8230;] ... [| Skaityti daugiau](https://ambcrypto.com/along-with-bitcoin-ethereum-kevin-oleary-needs-to-invest-in-solana-polygon-hedera/) "
      ],
      "text/plain": [
       "<IPython.core.display.Markdown object>"
      ]
     },
     "execution_count": 4,
     "metadata": {},
     "output_type": "execute_result"
    }
   ],
   "source": [
    "#hide_input\n",
    "#md('##### {}'.format(titleBTC)) \n",
    "md(\"- {}{} {}{} [| Skaityti daugiau]({}) \".format(btc['title'],'. ', btc['body'], ' ...', btc['url']))"
   ]
  },
  {
   "cell_type": "code",
   "execution_count": 5,
   "id": "organic-actress",
   "metadata": {
    "execution": {
     "iopub.execute_input": "2021-11-28T01:56:44.427390Z",
     "iopub.status.busy": "2021-11-28T01:56:44.426898Z",
     "iopub.status.idle": "2021-11-28T01:56:44.430101Z",
     "shell.execute_reply": "2021-11-28T01:56:44.429705Z"
    },
    "papermill": {
     "duration": 0.016597,
     "end_time": "2021-11-28T01:56:44.430203",
     "exception": false,
     "start_time": "2021-11-28T01:56:44.413606",
     "status": "completed"
    },
    "tags": []
   },
   "outputs": [
    {
     "data": {
      "text/markdown": [
       "- Ripple To Deploy Climate Friendly National Digital Currency In Partnership With Palau.  With the increase in the adoption of digital assets across several mainstreams, some countries are strategizing on moving with the flow. Hence, most countries across the globe are working and experimenting on developing a national digital currency that they can link with their fiat currencies. This is the primary reason for collaboration between the Republic [&#8230;] ... [| Skaityti daugiau](https://bitcoinist.com/ripple-to-deploy-climate-friendly-national-digital-currency-in-partnership-with-palau/?utm_source=rss&utm_medium=rss&utm_campaign=ripple-to-deploy-climate-friendly-national-digital-currency-in-partnership-with-palau) "
      ],
      "text/plain": [
       "<IPython.core.display.Markdown object>"
      ]
     },
     "execution_count": 5,
     "metadata": {},
     "output_type": "execute_result"
    }
   ],
   "source": [
    "#hide_input\n",
    "#md('##### {}'.format(titleBTC)) \n",
    "md(\"- {}{} {}{} [| Skaityti daugiau]({}) \".format(xrp['title'],'. ', xrp['body'], ' ...', xrp['url']))"
   ]
  },
  {
   "cell_type": "code",
   "execution_count": 6,
   "id": "prompt-farmer",
   "metadata": {
    "execution": {
     "iopub.execute_input": "2021-11-28T01:56:44.453831Z",
     "iopub.status.busy": "2021-11-28T01:56:44.453331Z",
     "iopub.status.idle": "2021-11-28T01:56:44.456297Z",
     "shell.execute_reply": "2021-11-28T01:56:44.455878Z"
    },
    "papermill": {
     "duration": 0.01637,
     "end_time": "2021-11-28T01:56:44.456392",
     "exception": false,
     "start_time": "2021-11-28T01:56:44.440022",
     "status": "completed"
    },
    "tags": []
   },
   "outputs": [
    {
     "data": {
      "text/markdown": [
       "- XRP, Tron, The Sandbox Price Analysis: 26 November.  While the overall market outlook skewed slightly in favor of bulls, XRP and Tron touched their multi-week lows on 24 November. A near-term bullish revival could occur if the bulls gather enough force. Contrarily, SAND saw soaring gains as it touched its ATH on 25 November but now showed signs of slowing down. XRP Since [&#8230;] ... [| Skaityti daugiau](https://ambcrypto.com/xrp-tron-the-sandbox-price-analysis-26-november/) "
      ],
      "text/plain": [
       "<IPython.core.display.Markdown object>"
      ]
     },
     "execution_count": 6,
     "metadata": {},
     "output_type": "execute_result"
    }
   ],
   "source": [
    "#hide_input\n",
    "#md('##### {}'.format(titleBTC)) \n",
    "md(\"- {}{} {}{} [| Skaityti daugiau]({}) \".format(trx['title'],'. ', trx['body'], ' ...', trx['url']))"
   ]
  },
  {
   "cell_type": "code",
   "execution_count": 7,
   "id": "illegal-greece",
   "metadata": {
    "execution": {
     "iopub.execute_input": "2021-11-28T01:56:44.480835Z",
     "iopub.status.busy": "2021-11-28T01:56:44.480344Z",
     "iopub.status.idle": "2021-11-28T01:56:44.482927Z",
     "shell.execute_reply": "2021-11-28T01:56:44.483304Z"
    },
    "papermill": {
     "duration": 0.016566,
     "end_time": "2021-11-28T01:56:44.483415",
     "exception": false,
     "start_time": "2021-11-28T01:56:44.466849",
     "status": "completed"
    },
    "tags": []
   },
   "outputs": [
    {
     "data": {
      "text/markdown": [
       "- Along with Bitcoin, Ethereum, Kevin O’Leary ‘needs’ to invest in Solana, Polygon, Hedera.  Kevin O&#8217;Leary, one of the most vocal institutional cryptocurrency investors, has considerably expanded his digital asset holdings over the past year. Once a critic of the novel asset class, the &#8220;Shark Tank&#8221; star, and investor has since increased his crypto investments to 10% of his portfolio, admittedly, in Bitcoin, Ethereum, and USDCoin. The Canadian entrepreneur [&#8230;] ... [| Skaityti daugiau](https://ambcrypto.com/along-with-bitcoin-ethereum-kevin-oleary-needs-to-invest-in-solana-polygon-hedera/) "
      ],
      "text/plain": [
       "<IPython.core.display.Markdown object>"
      ]
     },
     "execution_count": 7,
     "metadata": {},
     "output_type": "execute_result"
    }
   ],
   "source": [
    "#hide_input\n",
    "#md('##### {}'.format(titleBTC)) \n",
    "md(\"- {}{} {}{} [| Skaityti daugiau]({}) \".format(eth['title'],'. ', eth['body'], ' ...', eth['url']))"
   ]
  },
  {
   "cell_type": "code",
   "execution_count": 8,
   "id": "sublime-lounge",
   "metadata": {
    "execution": {
     "iopub.execute_input": "2021-11-28T01:56:44.508234Z",
     "iopub.status.busy": "2021-11-28T01:56:44.507203Z",
     "iopub.status.idle": "2021-11-28T01:56:44.511547Z",
     "shell.execute_reply": "2021-11-28T01:56:44.511143Z"
    },
    "papermill": {
     "duration": 0.017742,
     "end_time": "2021-11-28T01:56:44.511647",
     "exception": false,
     "start_time": "2021-11-28T01:56:44.493905",
     "status": "completed"
    },
    "tags": []
   },
   "outputs": [
    {
     "data": {
      "text/markdown": [
       "- NFT land sells for 550 ETH, eToro to delist ADA and 1M ETH burned since August: Hodler’s Digest, Nov. 21-27.   ... [| Skaityti daugiau](https://cointelegraph.com/magazine/2021/11/27/nft-land-sells-500-eth-etoro-delist-ada-1m-eth-burned-august-hodlers-digest-nov-21-27) "
      ],
      "text/plain": [
       "<IPython.core.display.Markdown object>"
      ]
     },
     "execution_count": 8,
     "metadata": {},
     "output_type": "execute_result"
    }
   ],
   "source": [
    "#hide_input\n",
    "#md('##### {}'.format(titleBTC)) \n",
    "md(\"- {}{} {}{} [| Skaityti daugiau]({}) \".format(ada['title'],'. ', ada['body'], ' ...', ada['url']))"
   ]
  },
  {
   "cell_type": "code",
   "execution_count": 9,
   "id": "specified-ordering",
   "metadata": {
    "execution": {
     "iopub.execute_input": "2021-11-28T01:56:44.537364Z",
     "iopub.status.busy": "2021-11-28T01:56:44.536849Z",
     "iopub.status.idle": "2021-11-28T01:56:44.539637Z",
     "shell.execute_reply": "2021-11-28T01:56:44.540062Z"
    },
    "papermill": {
     "duration": 0.017747,
     "end_time": "2021-11-28T01:56:44.540167",
     "exception": false,
     "start_time": "2021-11-28T01:56:44.522420",
     "status": "completed"
    },
    "tags": []
   },
   "outputs": [
    {
     "data": {
      "text/markdown": [
       "- French Regulators: Binance Has to Improve AML Compliance Before Setting Up HQ in Paris (Report).  France might become the new home of Binance but only if the latter heightens its efforts to guarantee anti-money laundering compliance. ... [| Skaityti daugiau](https://cryptopotato.com/french-regulators-binance-has-to-improve-aml-compliance-before-setting-up-hq-in-paris-report/) "
      ],
      "text/plain": [
       "<IPython.core.display.Markdown object>"
      ]
     },
     "execution_count": 9,
     "metadata": {},
     "output_type": "execute_result"
    }
   ],
   "source": [
    "#hide_input\n",
    "#md('##### {}'.format(titleBTC)) \n",
    "md(\"- {}{} {}{} [| Skaityti daugiau]({}) \".format(exchange['title'],'. ', exchange['body'], ' ...', exchange['url']))"
   ]
  },
  {
   "cell_type": "code",
   "execution_count": null,
   "id": "tender-livestock",
   "metadata": {
    "papermill": {
     "duration": 0.011041,
     "end_time": "2021-11-28T01:56:44.562500",
     "exception": false,
     "start_time": "2021-11-28T01:56:44.551459",
     "status": "completed"
    },
    "tags": []
   },
   "outputs": [],
   "source": []
  },
  {
   "cell_type": "code",
   "execution_count": null,
   "id": "appreciated-diamond",
   "metadata": {
    "papermill": {
     "duration": 0.010955,
     "end_time": "2021-11-28T01:56:44.584594",
     "exception": false,
     "start_time": "2021-11-28T01:56:44.573639",
     "status": "completed"
    },
    "tags": []
   },
   "outputs": [],
   "source": []
  },
  {
   "cell_type": "code",
   "execution_count": null,
   "id": "romance-sweden",
   "metadata": {
    "papermill": {
     "duration": 0.011008,
     "end_time": "2021-11-28T01:56:44.606739",
     "exception": false,
     "start_time": "2021-11-28T01:56:44.595731",
     "status": "completed"
    },
    "tags": []
   },
   "outputs": [],
   "source": []
  },
  {
   "cell_type": "code",
   "execution_count": null,
   "id": "dietary-statistics",
   "metadata": {
    "papermill": {
     "duration": 0.010939,
     "end_time": "2021-11-28T01:56:44.628703",
     "exception": false,
     "start_time": "2021-11-28T01:56:44.617764",
     "status": "completed"
    },
    "tags": []
   },
   "outputs": [],
   "source": []
  }
 ],
 "metadata": {
  "kernelspec": {
   "display_name": "Python 3",
   "language": "python",
   "name": "python3"
  },
  "language_info": {
   "codemirror_mode": {
    "name": "ipython",
    "version": 3
   },
   "file_extension": ".py",
   "mimetype": "text/x-python",
   "name": "python",
   "nbconvert_exporter": "python",
   "pygments_lexer": "ipython3",
   "version": "3.6.15"
  },
  "papermill": {
   "default_parameters": {},
   "duration": 12.095245,
   "end_time": "2021-11-28T01:56:45.047326",
   "environment_variables": {},
   "exception": null,
   "input_path": "Market-News.ipynb",
   "output_path": "Market-News.ipynb",
   "parameters": {},
   "start_time": "2021-11-28T01:56:32.952081",
   "version": "2.2.2"
  }
 },
 "nbformat": 4,
 "nbformat_minor": 5
}