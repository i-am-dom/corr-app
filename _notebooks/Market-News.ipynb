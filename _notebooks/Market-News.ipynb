{
 "cells": [
  {
   "cell_type": "markdown",
   "id": "short-greensboro",
   "metadata": {
    "papermill": {
     "duration": 0.016413,
     "end_time": "2021-08-23T01:50:52.149894",
     "exception": false,
     "start_time": "2021-08-23T01:50:52.133481",
     "status": "completed"
    },
    "tags": []
   },
   "source": [
    "# Kriptovaliutų naujienos"
   ]
  },
  {
   "cell_type": "code",
   "execution_count": 1,
   "id": "functioning-knowing",
   "metadata": {
    "execution": {
     "iopub.execute_input": "2021-08-23T01:50:52.187729Z",
     "iopub.status.busy": "2021-08-23T01:50:52.187027Z",
     "iopub.status.idle": "2021-08-23T01:50:53.799917Z",
     "shell.execute_reply": "2021-08-23T01:50:53.799287Z"
    },
    "papermill": {
     "duration": 1.638161,
     "end_time": "2021-08-23T01:50:53.800097",
     "exception": false,
     "start_time": "2021-08-23T01:50:52.161936",
     "status": "completed"
    },
    "tags": []
   },
   "outputs": [],
   "source": [
    "#hide_input\n",
    "import warnings\n",
    "warnings.filterwarnings('ignore')\n",
    "from scripts.read_data import read_api\n",
    "from scripts.read_data import read_news\n",
    "from scripts.read_data import read_covid\n",
    "import matplotlib.pyplot as plt \n",
    "from IPython.display import Markdown as md"
   ]
  },
  {
   "cell_type": "code",
   "execution_count": 2,
   "id": "shared-acceptance",
   "metadata": {
    "execution": {
     "iopub.execute_input": "2021-08-23T01:50:53.831623Z",
     "iopub.status.busy": "2021-08-23T01:50:53.830944Z",
     "iopub.status.idle": "2021-08-23T01:51:00.975795Z",
     "shell.execute_reply": "2021-08-23T01:51:00.974560Z"
    },
    "papermill": {
     "duration": 7.163059,
     "end_time": "2021-08-23T01:51:00.975952",
     "exception": false,
     "start_time": "2021-08-23T01:50:53.812893",
     "status": "completed"
    },
    "tags": []
   },
   "outputs": [],
   "source": [
    "#hide_input\n",
    "blockchain = read_news('blockchain') \n",
    "btc = read_news('btc') \n",
    "xrp = read_news('xrp') \n",
    "trx = read_news('trx') \n",
    "eth = read_news('eth')  \n",
    "ada = read_news('ada')\n",
    "exchange = read_news('exchange') "
   ]
  },
  {
   "cell_type": "code",
   "execution_count": 3,
   "id": "synthetic-notion",
   "metadata": {
    "execution": {
     "iopub.execute_input": "2021-08-23T01:51:01.007807Z",
     "iopub.status.busy": "2021-08-23T01:51:01.006651Z",
     "iopub.status.idle": "2021-08-23T01:51:01.010536Z",
     "shell.execute_reply": "2021-08-23T01:51:01.009985Z"
    },
    "papermill": {
     "duration": 0.022128,
     "end_time": "2021-08-23T01:51:01.010674",
     "exception": false,
     "start_time": "2021-08-23T01:51:00.988546",
     "status": "completed"
    },
    "tags": []
   },
   "outputs": [
    {
     "data": {
      "text/markdown": [
       "- Publicly-backed XREX raises $17M to solve dollar liquidity issues through blockchain.  Blockchain technology is being posited as a potential solution to U.S. dollar liquidity issues in emerging markets.  ... [| Skaityti daugiau](https://cointelegraph.com/news/publicly-backed-xrex-raises-17m-to-solve-dollar-liquidity-issues-through-blockchain) "
      ],
      "text/plain": [
       "<IPython.core.display.Markdown object>"
      ]
     },
     "execution_count": 3,
     "metadata": {},
     "output_type": "execute_result"
    }
   ],
   "source": [
    "#hide_input\n",
    "#md('##### {}'.format(titleBTC)) \n",
    "md(\"- {}{} {}{} [| Skaityti daugiau]({}) \".format(blockchain['title'],'. ', blockchain['body'], ' ...', blockchain['url']))"
   ]
  },
  {
   "cell_type": "code",
   "execution_count": 4,
   "id": "aging-caution",
   "metadata": {
    "execution": {
     "iopub.execute_input": "2021-08-23T01:51:01.043378Z",
     "iopub.status.busy": "2021-08-23T01:51:01.042696Z",
     "iopub.status.idle": "2021-08-23T01:51:01.045599Z",
     "shell.execute_reply": "2021-08-23T01:51:01.046164Z"
    },
    "papermill": {
     "duration": 0.023448,
     "end_time": "2021-08-23T01:51:01.046322",
     "exception": false,
     "start_time": "2021-08-23T01:51:01.022874",
     "status": "completed"
    },
    "tags": []
   },
   "outputs": [
    {
     "data": {
      "text/markdown": [
       "- How Much Of My Portfolio Should Be Allocated To Bitcoin?.  The answer to this question varies based on different circumstances in people’s lives. ... [| Skaityti daugiau](https://bitcoinmagazine.com/culture/how-much-portfolio-allocate-bitcoin) "
      ],
      "text/plain": [
       "<IPython.core.display.Markdown object>"
      ]
     },
     "execution_count": 4,
     "metadata": {},
     "output_type": "execute_result"
    }
   ],
   "source": [
    "#hide_input\n",
    "#md('##### {}'.format(titleBTC)) \n",
    "md(\"- {}{} {}{} [| Skaityti daugiau]({}) \".format(btc['title'],'. ', btc['body'], ' ...', btc['url']))"
   ]
  },
  {
   "cell_type": "code",
   "execution_count": 5,
   "id": "organic-actress",
   "metadata": {
    "execution": {
     "iopub.execute_input": "2021-08-23T01:51:01.076847Z",
     "iopub.status.busy": "2021-08-23T01:51:01.076143Z",
     "iopub.status.idle": "2021-08-23T01:51:01.078924Z",
     "shell.execute_reply": "2021-08-23T01:51:01.079485Z"
    },
    "papermill": {
     "duration": 0.021302,
     "end_time": "2021-08-23T01:51:01.079634",
     "exception": false,
     "start_time": "2021-08-23T01:51:01.058332",
     "status": "completed"
    },
    "tags": []
   },
   "outputs": [
    {
     "data": {
      "text/markdown": [
       "- SEC Vs XRP: Is SEC Trying to Scam Ripple?.  The “crypto” word remains to be one of the most talked-about topics in the world of digital finance. In fact, ... [| Skaityti daugiau](https://coinquora.com/sec-vs-xrp-is-sec-trying-to-scam-ripple/) "
      ],
      "text/plain": [
       "<IPython.core.display.Markdown object>"
      ]
     },
     "execution_count": 5,
     "metadata": {},
     "output_type": "execute_result"
    }
   ],
   "source": [
    "#hide_input\n",
    "#md('##### {}'.format(titleBTC)) \n",
    "md(\"- {}{} {}{} [| Skaityti daugiau]({}) \".format(xrp['title'],'. ', xrp['body'], ' ...', xrp['url']))"
   ]
  },
  {
   "cell_type": "code",
   "execution_count": 6,
   "id": "prompt-farmer",
   "metadata": {
    "execution": {
     "iopub.execute_input": "2021-08-23T01:51:01.109444Z",
     "iopub.status.busy": "2021-08-23T01:51:01.108068Z",
     "iopub.status.idle": "2021-08-23T01:51:01.112787Z",
     "shell.execute_reply": "2021-08-23T01:51:01.112119Z"
    },
    "papermill": {
     "duration": 0.020331,
     "end_time": "2021-08-23T01:51:01.112910",
     "exception": false,
     "start_time": "2021-08-23T01:51:01.092579",
     "status": "completed"
    },
    "tags": []
   },
   "outputs": [
    {
     "data": {
      "text/markdown": [
       "- Cardano, Tron, Uniswap Price Analysis: 22 August.  The lack of strength observed in the broader crypto market impacted the altcoin market negatively with the likes of Cardano, Tron and Uniswap dipping on their respective charts. Despite ADA securing an all-time high, it recorded a slight loss in value over the last 24 hours. TRX was trading underneath its $0.0888 immediate price ceiling [&#8230;] ... [| Skaityti daugiau](https://ambcrypto.com/cardano-tron-uniswap-price-analysis-22-august/) "
      ],
      "text/plain": [
       "<IPython.core.display.Markdown object>"
      ]
     },
     "execution_count": 6,
     "metadata": {},
     "output_type": "execute_result"
    }
   ],
   "source": [
    "#hide_input\n",
    "#md('##### {}'.format(titleBTC)) \n",
    "md(\"- {}{} {}{} [| Skaityti daugiau]({}) \".format(trx['title'],'. ', trx['body'], ' ...', trx['url']))"
   ]
  },
  {
   "cell_type": "code",
   "execution_count": 7,
   "id": "illegal-greece",
   "metadata": {
    "execution": {
     "iopub.execute_input": "2021-08-23T01:51:01.144068Z",
     "iopub.status.busy": "2021-08-23T01:51:01.143399Z",
     "iopub.status.idle": "2021-08-23T01:51:01.146182Z",
     "shell.execute_reply": "2021-08-23T01:51:01.146815Z"
    },
    "papermill": {
     "duration": 0.021611,
     "end_time": "2021-08-23T01:51:01.146982",
     "exception": false,
     "start_time": "2021-08-23T01:51:01.125371",
     "status": "completed"
    },
    "tags": []
   },
   "outputs": [
    {
     "data": {
      "text/markdown": [
       "- ‘Ethereum killer’ Solana can co-exist, but what will the ‘The Merge’ mean for it.  There have been several alleged Ethereum killers, but none have managed to overtake the world&#8217;s largest altcoin. Is it possible then that Solana could achieve this feat? In fact, according to Kyle Samani, Managing Partner at Multicoin Capital, Solana and Ethereum could be the iOS and Android of the crypto-world. What&#8217;s the Ethereum effect for [&#8230;] ... [| Skaityti daugiau](https://ambcrypto.com/could-ethereum-and-solana-be-the-ios-and-android-of-the-crypto-world/) "
      ],
      "text/plain": [
       "<IPython.core.display.Markdown object>"
      ]
     },
     "execution_count": 7,
     "metadata": {},
     "output_type": "execute_result"
    }
   ],
   "source": [
    "#hide_input\n",
    "#md('##### {}'.format(titleBTC)) \n",
    "md(\"- {}{} {}{} [| Skaityti daugiau]({}) \".format(eth['title'],'. ', eth['body'], ' ...', eth['url']))"
   ]
  },
  {
   "cell_type": "code",
   "execution_count": 8,
   "id": "sublime-lounge",
   "metadata": {
    "execution": {
     "iopub.execute_input": "2021-08-23T01:51:01.178679Z",
     "iopub.status.busy": "2021-08-23T01:51:01.178027Z",
     "iopub.status.idle": "2021-08-23T01:51:01.182385Z",
     "shell.execute_reply": "2021-08-23T01:51:01.181835Z"
    },
    "papermill": {
     "duration": 0.022391,
     "end_time": "2021-08-23T01:51:01.182512",
     "exception": false,
     "start_time": "2021-08-23T01:51:01.160121",
     "status": "completed"
    },
    "tags": []
   },
   "outputs": [
    {
     "data": {
      "text/markdown": [
       "- Cardano, Tron, Uniswap Price Analysis: 22 August.  The lack of strength observed in the broader crypto market impacted the altcoin market negatively with the likes of Cardano, Tron and Uniswap dipping on their respective charts. Despite ADA securing an all-time high, it recorded a slight loss in value over the last 24 hours. TRX was trading underneath its $0.0888 immediate price ceiling [&#8230;] ... [| Skaityti daugiau](https://ambcrypto.com/cardano-tron-uniswap-price-analysis-22-august/) "
      ],
      "text/plain": [
       "<IPython.core.display.Markdown object>"
      ]
     },
     "execution_count": 8,
     "metadata": {},
     "output_type": "execute_result"
    }
   ],
   "source": [
    "#hide_input\n",
    "#md('##### {}'.format(titleBTC)) \n",
    "md(\"- {}{} {}{} [| Skaityti daugiau]({}) \".format(ada['title'],'. ', ada['body'], ' ...', ada['url']))"
   ]
  },
  {
   "cell_type": "code",
   "execution_count": 9,
   "id": "specified-ordering",
   "metadata": {
    "execution": {
     "iopub.execute_input": "2021-08-23T01:51:01.215211Z",
     "iopub.status.busy": "2021-08-23T01:51:01.214550Z",
     "iopub.status.idle": "2021-08-23T01:51:01.217207Z",
     "shell.execute_reply": "2021-08-23T01:51:01.217835Z"
    },
    "papermill": {
     "duration": 0.021867,
     "end_time": "2021-08-23T01:51:01.217998",
     "exception": false,
     "start_time": "2021-08-23T01:51:01.196131",
     "status": "completed"
    },
    "tags": []
   },
   "outputs": [
    {
     "data": {
      "text/markdown": [
       "- How will regulatory troubles and mandatory KYC impact Binance Coin (BNB) price?.  Data shows traders have mixed emotions about BNB’s future given Binance’s regulatory troubles and new mandatory KYC policy.  ... [| Skaityti daugiau](https://cointelegraph.com/news/how-will-regulatory-troubles-and-mandatory-kyc-impact-binance-coin-bnb-price) "
      ],
      "text/plain": [
       "<IPython.core.display.Markdown object>"
      ]
     },
     "execution_count": 9,
     "metadata": {},
     "output_type": "execute_result"
    }
   ],
   "source": [
    "#hide_input\n",
    "#md('##### {}'.format(titleBTC)) \n",
    "md(\"- {}{} {}{} [| Skaityti daugiau]({}) \".format(exchange['title'],'. ', exchange['body'], ' ...', exchange['url']))"
   ]
  },
  {
   "cell_type": "code",
   "execution_count": null,
   "id": "tender-livestock",
   "metadata": {
    "papermill": {
     "duration": 0.013494,
     "end_time": "2021-08-23T01:51:01.245983",
     "exception": false,
     "start_time": "2021-08-23T01:51:01.232489",
     "status": "completed"
    },
    "tags": []
   },
   "outputs": [],
   "source": []
  },
  {
   "cell_type": "code",
   "execution_count": null,
   "id": "appreciated-diamond",
   "metadata": {
    "papermill": {
     "duration": 0.014203,
     "end_time": "2021-08-23T01:51:01.273966",
     "exception": false,
     "start_time": "2021-08-23T01:51:01.259763",
     "status": "completed"
    },
    "tags": []
   },
   "outputs": [],
   "source": []
  },
  {
   "cell_type": "code",
   "execution_count": null,
   "id": "romance-sweden",
   "metadata": {
    "papermill": {
     "duration": 0.013544,
     "end_time": "2021-08-23T01:51:01.301892",
     "exception": false,
     "start_time": "2021-08-23T01:51:01.288348",
     "status": "completed"
    },
    "tags": []
   },
   "outputs": [],
   "source": []
  },
  {
   "cell_type": "code",
   "execution_count": null,
   "id": "dietary-statistics",
   "metadata": {
    "papermill": {
     "duration": 0.014649,
     "end_time": "2021-08-23T01:51:01.330467",
     "exception": false,
     "start_time": "2021-08-23T01:51:01.315818",
     "status": "completed"
    },
    "tags": []
   },
   "outputs": [],
   "source": []
  }
 ],
 "metadata": {
  "kernelspec": {
   "display_name": "Python 3",
   "language": "python",
   "name": "python3"
  },
  "language_info": {
   "codemirror_mode": {
    "name": "ipython",
    "version": 3
   },
   "file_extension": ".py",
   "mimetype": "text/x-python",
   "name": "python",
   "nbconvert_exporter": "python",
   "pygments_lexer": "ipython3",
   "version": "3.6.14"
  },
  "papermill": {
   "default_parameters": {},
   "duration": 10.935133,
   "end_time": "2021-08-23T01:51:01.954572",
   "environment_variables": {},
   "exception": null,
   "input_path": "Market-News.ipynb",
   "output_path": "Market-News.ipynb",
   "parameters": {},
   "start_time": "2021-08-23T01:50:51.019439",
   "version": "2.2.2"
  }
 },
 "nbformat": 4,
 "nbformat_minor": 5
}