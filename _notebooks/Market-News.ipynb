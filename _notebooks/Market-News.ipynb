{
 "cells": [
  {
   "cell_type": "markdown",
   "id": "short-greensboro",
   "metadata": {
    "papermill": {
     "duration": 0.013051,
     "end_time": "2022-03-04T02:20:41.198216",
     "exception": false,
     "start_time": "2022-03-04T02:20:41.185165",
     "status": "completed"
    },
    "tags": []
   },
   "source": [
    "# Kriptovaliutų naujienos"
   ]
  },
  {
   "cell_type": "code",
   "execution_count": 1,
   "id": "functioning-knowing",
   "metadata": {
    "execution": {
     "iopub.execute_input": "2022-03-04T02:20:41.228070Z",
     "iopub.status.busy": "2022-03-04T02:20:41.227477Z",
     "iopub.status.idle": "2022-03-04T02:20:42.556940Z",
     "shell.execute_reply": "2022-03-04T02:20:42.556357Z"
    },
    "papermill": {
     "duration": 1.348846,
     "end_time": "2022-03-04T02:20:42.557103",
     "exception": false,
     "start_time": "2022-03-04T02:20:41.208257",
     "status": "completed"
    },
    "tags": []
   },
   "outputs": [],
   "source": [
    "#hide_input\n",
    "import warnings\n",
    "warnings.filterwarnings('ignore')\n",
    "from scripts.read_data import read_api\n",
    "from scripts.read_data import read_news\n",
    "from scripts.read_data import read_covid\n",
    "import matplotlib.pyplot as plt \n",
    "from IPython.display import Markdown as md"
   ]
  },
  {
   "cell_type": "code",
   "execution_count": 2,
   "id": "shared-acceptance",
   "metadata": {
    "execution": {
     "iopub.execute_input": "2022-03-04T02:20:42.584063Z",
     "iopub.status.busy": "2022-03-04T02:20:42.583049Z",
     "iopub.status.idle": "2022-03-04T02:20:51.484545Z",
     "shell.execute_reply": "2022-03-04T02:20:51.483967Z"
    },
    "papermill": {
     "duration": 8.91744,
     "end_time": "2022-03-04T02:20:51.484693",
     "exception": false,
     "start_time": "2022-03-04T02:20:42.567253",
     "status": "completed"
    },
    "tags": []
   },
   "outputs": [],
   "source": [
    "#hide_input\n",
    "blockchain = read_news('blockchain') \n",
    "btc = read_news('btc') \n",
    "xrp = read_news('xrp') \n",
    "trx = read_news('trx') \n",
    "eth = read_news('eth')  \n",
    "ada = read_news('ada')\n",
    "exchange = read_news('exchange') "
   ]
  },
  {
   "cell_type": "code",
   "execution_count": 3,
   "id": "synthetic-notion",
   "metadata": {
    "execution": {
     "iopub.execute_input": "2022-03-04T02:20:51.511569Z",
     "iopub.status.busy": "2022-03-04T02:20:51.511019Z",
     "iopub.status.idle": "2022-03-04T02:20:51.513287Z",
     "shell.execute_reply": "2022-03-04T02:20:51.513693Z"
    },
    "papermill": {
     "duration": 0.018645,
     "end_time": "2022-03-04T02:20:51.513832",
     "exception": false,
     "start_time": "2022-03-04T02:20:51.495187",
     "status": "completed"
    },
    "tags": []
   },
   "outputs": [
    {
     "data": {
      "text/markdown": [
       "- Bitcoin Price Rally to Yet Again Weaken the Dollar’s DXY Index, When Will BTC Price now Hit $50K?.  The post Bitcoin Price Rally to Yet Again Weaken the Dollar’s DXY Index, When Will BTC Price now Hit $50K? appeared first on Coinpedia - Fintech &amp; Cryptocurreny News Media| Crypto GuideBitcoin price had recovered from the recent price slash that occurred due to the Russia-Ukraine conflict. The price had almost smashed $45,000 but failed to sustain above these levels and is currently feared to plunge below $41,000. While the bearish scenario is slowly getting intensified, yet possibilities of going parabolic are still high. However, the &#8230; ... [| Skaityti daugiau](https://coinpedia.org/price-analysis/bitcoin-price-rally-to-weaken-dollar-dxy-index-when-will-btc-price-hit-50k/) "
      ],
      "text/plain": [
       "<IPython.core.display.Markdown object>"
      ]
     },
     "execution_count": 3,
     "metadata": {},
     "output_type": "execute_result"
    }
   ],
   "source": [
    "#hide_input\n",
    "#md('##### {}'.format(titleBTC)) \n",
    "md(\"- {}{} {}{} [| Skaityti daugiau]({}) \".format(blockchain['title'],'. ', blockchain['body'], ' ...', blockchain['url']))"
   ]
  },
  {
   "cell_type": "code",
   "execution_count": 4,
   "id": "aging-caution",
   "metadata": {
    "execution": {
     "iopub.execute_input": "2022-03-04T02:20:51.539079Z",
     "iopub.status.busy": "2022-03-04T02:20:51.538527Z",
     "iopub.status.idle": "2022-03-04T02:20:51.540766Z",
     "shell.execute_reply": "2022-03-04T02:20:51.541173Z"
    },
    "papermill": {
     "duration": 0.017448,
     "end_time": "2022-03-04T02:20:51.541306",
     "exception": false,
     "start_time": "2022-03-04T02:20:51.523858",
     "status": "completed"
    },
    "tags": []
   },
   "outputs": [
    {
     "data": {
      "text/markdown": [
       "- Bitcoin Price Rally to Yet Again Weaken the Dollar’s DXY Index, When Will BTC Price now Hit $50K?.  The post Bitcoin Price Rally to Yet Again Weaken the Dollar’s DXY Index, When Will BTC Price now Hit $50K? appeared first on Coinpedia - Fintech &amp; Cryptocurreny News Media| Crypto GuideBitcoin price had recovered from the recent price slash that occurred due to the Russia-Ukraine conflict. The price had almost smashed $45,000 but failed to sustain above these levels and is currently feared to plunge below $41,000. While the bearish scenario is slowly getting intensified, yet possibilities of going parabolic are still high. However, the &#8230; ... [| Skaityti daugiau](https://coinpedia.org/price-analysis/bitcoin-price-rally-to-weaken-dollar-dxy-index-when-will-btc-price-hit-50k/) "
      ],
      "text/plain": [
       "<IPython.core.display.Markdown object>"
      ]
     },
     "execution_count": 4,
     "metadata": {},
     "output_type": "execute_result"
    }
   ],
   "source": [
    "#hide_input\n",
    "#md('##### {}'.format(titleBTC)) \n",
    "md(\"- {}{} {}{} [| Skaityti daugiau]({}) \".format(btc['title'],'. ', btc['body'], ' ...', btc['url']))"
   ]
  },
  {
   "cell_type": "code",
   "execution_count": 5,
   "id": "organic-actress",
   "metadata": {
    "execution": {
     "iopub.execute_input": "2022-03-04T02:20:51.566332Z",
     "iopub.status.busy": "2022-03-04T02:20:51.565800Z",
     "iopub.status.idle": "2022-03-04T02:20:51.568402Z",
     "shell.execute_reply": "2022-03-04T02:20:51.568782Z"
    },
    "papermill": {
     "duration": 0.017777,
     "end_time": "2022-03-04T02:20:51.568920",
     "exception": false,
     "start_time": "2022-03-04T02:20:51.551143",
     "status": "completed"
    },
    "tags": []
   },
   "outputs": [
    {
     "data": {
      "text/markdown": [
       "- Ripple price analysis: XRP faces roadblocks in pursuit of $0.86 resistance.  TL;DR Breakdown Ripple price analysis shows price declined more than 4 percent over 24 hours Price unable to test $0.86 resistance after initially launching as high as $0.805 Trading volume and XRP market cap also dropped during the day&#8217;s trade Ripple price analysis is bearish today, with the token having fell as low as $0.727 [&#8230;] ... [| Skaityti daugiau](https://www.cryptopolitan.com/ripple-price-analysis-2022-03-03/) "
      ],
      "text/plain": [
       "<IPython.core.display.Markdown object>"
      ]
     },
     "execution_count": 5,
     "metadata": {},
     "output_type": "execute_result"
    }
   ],
   "source": [
    "#hide_input\n",
    "#md('##### {}'.format(titleBTC)) \n",
    "md(\"- {}{} {}{} [| Skaityti daugiau]({}) \".format(xrp['title'],'. ', xrp['body'], ' ...', xrp['url']))"
   ]
  },
  {
   "cell_type": "code",
   "execution_count": 6,
   "id": "prompt-farmer",
   "metadata": {
    "execution": {
     "iopub.execute_input": "2022-03-04T02:20:51.595163Z",
     "iopub.status.busy": "2022-03-04T02:20:51.594577Z",
     "iopub.status.idle": "2022-03-04T02:20:51.597795Z",
     "shell.execute_reply": "2022-03-04T02:20:51.597368Z"
    },
    "papermill": {
     "duration": 0.018737,
     "end_time": "2022-03-04T02:20:51.597915",
     "exception": false,
     "start_time": "2022-03-04T02:20:51.579178",
     "status": "completed"
    },
    "tags": []
   },
   "outputs": [
    {
     "data": {
      "text/markdown": [
       "- Chainlink, MATIC and TRX Price Analysis: 03 February.  As the market tried to recover amidst Russia&#8217;s escalating tensions, the likes of Chainlink and MATIC projected growth patterns. However, TRX seemed more inclined towards the bears. Chainlink (LINK) Even though bulls made a desperate attempt to recover from the December crash, LINK dropped to a year low support level of $11.68 on 24 February. [&#8230;] ... [| Skaityti daugiau](https://ambcrypto.com/chainlink-matic-and-trx-price-analysis-03-february/) "
      ],
      "text/plain": [
       "<IPython.core.display.Markdown object>"
      ]
     },
     "execution_count": 6,
     "metadata": {},
     "output_type": "execute_result"
    }
   ],
   "source": [
    "#hide_input\n",
    "#md('##### {}'.format(titleBTC)) \n",
    "md(\"- {}{} {}{} [| Skaityti daugiau]({}) \".format(trx['title'],'. ', trx['body'], ' ...', trx['url']))"
   ]
  },
  {
   "cell_type": "code",
   "execution_count": 7,
   "id": "illegal-greece",
   "metadata": {
    "execution": {
     "iopub.execute_input": "2022-03-04T02:20:51.625168Z",
     "iopub.status.busy": "2022-03-04T02:20:51.624635Z",
     "iopub.status.idle": "2022-03-04T02:20:51.627450Z",
     "shell.execute_reply": "2022-03-04T02:20:51.627983Z"
    },
    "papermill": {
     "duration": 0.01942,
     "end_time": "2022-03-04T02:20:51.628129",
     "exception": false,
     "start_time": "2022-03-04T02:20:51.608709",
     "status": "completed"
    },
    "tags": []
   },
   "outputs": [
    {
     "data": {
      "text/markdown": [
       "- Solana vs Ethereum? Here’s the winner when comparing AMM speeds.  It&#8217;s no secret that crypto users love to race and compare speeds, but an evaluation of this kind is actually much harder than it sounds. To that end, an investigation by GM and Haseeb Qureshi from Dragonfly Capital delved into the question of whether Solana could take on an Ethereum Virtual Machine [EVM] compatible chain [&#8230;] ... [| Skaityti daugiau](https://ambcrypto.com/solana-vs-ethereum-heres-the-winner-when-comparing-amm-speeds/) "
      ],
      "text/plain": [
       "<IPython.core.display.Markdown object>"
      ]
     },
     "execution_count": 7,
     "metadata": {},
     "output_type": "execute_result"
    }
   ],
   "source": [
    "#hide_input\n",
    "#md('##### {}'.format(titleBTC)) \n",
    "md(\"- {}{} {}{} [| Skaityti daugiau]({}) \".format(eth['title'],'. ', eth['body'], ' ...', eth['url']))"
   ]
  },
  {
   "cell_type": "code",
   "execution_count": 8,
   "id": "sublime-lounge",
   "metadata": {
    "execution": {
     "iopub.execute_input": "2022-03-04T02:20:51.655875Z",
     "iopub.status.busy": "2022-03-04T02:20:51.655308Z",
     "iopub.status.idle": "2022-03-04T02:20:51.658180Z",
     "shell.execute_reply": "2022-03-04T02:20:51.658593Z"
    },
    "papermill": {
     "duration": 0.019654,
     "end_time": "2022-03-04T02:20:51.658728",
     "exception": false,
     "start_time": "2022-03-04T02:20:51.639074",
     "status": "completed"
    },
    "tags": []
   },
   "outputs": [
    {
     "data": {
      "text/markdown": [
       "- Cardano Whales Go On $ADA Buying Spree As Developer Activity Surges.  Whales on the Cardano ($ADA) blockchain have been on a buying spree, scooping up over 16 million tokens in only 24 hours as developer activity on Cardano, as measured by GitHub commits, surges. According to cryptocurrency analyst Ali Martinez, first spotted by Daily Hodl, who cited data from on-chain analytics firm Santiment, Cardano addresses holding […] ... [| Skaityti daugiau](https://www.cryptoglobe.com/latest/2022/03/cardano-whales-go-on-ada-buying-spree-as-developer-activity-surges/) "
      ],
      "text/plain": [
       "<IPython.core.display.Markdown object>"
      ]
     },
     "execution_count": 8,
     "metadata": {},
     "output_type": "execute_result"
    }
   ],
   "source": [
    "#hide_input\n",
    "#md('##### {}'.format(titleBTC)) \n",
    "md(\"- {}{} {}{} [| Skaityti daugiau]({}) \".format(ada['title'],'. ', ada['body'], ' ...', ada['url']))"
   ]
  },
  {
   "cell_type": "code",
   "execution_count": 9,
   "id": "specified-ordering",
   "metadata": {
    "execution": {
     "iopub.execute_input": "2022-03-04T02:20:51.686755Z",
     "iopub.status.busy": "2022-03-04T02:20:51.685627Z",
     "iopub.status.idle": "2022-03-04T02:20:51.689808Z",
     "shell.execute_reply": "2022-03-04T02:20:51.689390Z"
    },
    "papermill": {
     "duration": 0.019856,
     "end_time": "2022-03-04T02:20:51.689926",
     "exception": false,
     "start_time": "2022-03-04T02:20:51.670070",
     "status": "completed"
    },
    "tags": []
   },
   "outputs": [
    {
     "data": {
      "text/markdown": [
       "- Chicago Mercantile Exchange To Offer New Bitcoin (BTC) and Ethereum (ETH) Options Trading.  Chicago Mercantile Exchange (CME) Group is preparing to launch new micro-sized options contracts for the two largest crypto assets by market cap. According to a press release, the new Micro Bitcoin and Micro Ether contracts will be one-tenth the size of a single Bitcoin (BTC) and Ethereum (ETH), respectively. The trading feature will go live [&#8230;]The post Chicago Mercantile Exchange To Offer New Bitcoin (BTC) and Ethereum (ETH) Options Trading appeared first on The Daily Hodl. ... [| Skaityti daugiau](https://dailyhodl.com/2022/03/03/chicago-mercantile-exchange-to-offer-new-bitcoin-btc-and-ethereum-eth-options-trading/) "
      ],
      "text/plain": [
       "<IPython.core.display.Markdown object>"
      ]
     },
     "execution_count": 9,
     "metadata": {},
     "output_type": "execute_result"
    }
   ],
   "source": [
    "#hide_input\n",
    "#md('##### {}'.format(titleBTC)) \n",
    "md(\"- {}{} {}{} [| Skaityti daugiau]({}) \".format(exchange['title'],'. ', exchange['body'], ' ...', exchange['url']))"
   ]
  },
  {
   "cell_type": "code",
   "execution_count": null,
   "id": "tender-livestock",
   "metadata": {
    "papermill": {
     "duration": 0.011469,
     "end_time": "2022-03-04T02:20:51.712966",
     "exception": false,
     "start_time": "2022-03-04T02:20:51.701497",
     "status": "completed"
    },
    "tags": []
   },
   "outputs": [],
   "source": []
  },
  {
   "cell_type": "code",
   "execution_count": null,
   "id": "appreciated-diamond",
   "metadata": {
    "papermill": {
     "duration": 0.012107,
     "end_time": "2022-03-04T02:20:51.737732",
     "exception": false,
     "start_time": "2022-03-04T02:20:51.725625",
     "status": "completed"
    },
    "tags": []
   },
   "outputs": [],
   "source": []
  },
  {
   "cell_type": "code",
   "execution_count": null,
   "id": "romance-sweden",
   "metadata": {
    "papermill": {
     "duration": 0.0114,
     "end_time": "2022-03-04T02:20:51.762141",
     "exception": false,
     "start_time": "2022-03-04T02:20:51.750741",
     "status": "completed"
    },
    "tags": []
   },
   "outputs": [],
   "source": []
  },
  {
   "cell_type": "code",
   "execution_count": null,
   "id": "dietary-statistics",
   "metadata": {
    "papermill": {
     "duration": 0.011348,
     "end_time": "2022-03-04T02:20:51.784886",
     "exception": false,
     "start_time": "2022-03-04T02:20:51.773538",
     "status": "completed"
    },
    "tags": []
   },
   "outputs": [],
   "source": []
  }
 ],
 "metadata": {
  "kernelspec": {
   "display_name": "Python 3",
   "language": "python",
   "name": "python3"
  },
  "language_info": {
   "codemirror_mode": {
    "name": "ipython",
    "version": 3
   },
   "file_extension": ".py",
   "mimetype": "text/x-python",
   "name": "python",
   "nbconvert_exporter": "python",
   "pygments_lexer": "ipython3",
   "version": "3.6.15"
  },
  "papermill": {
   "default_parameters": {},
   "duration": 12.093523,
   "end_time": "2022-03-04T02:20:52.317132",
   "environment_variables": {},
   "exception": null,
   "input_path": "Market-News.ipynb",
   "output_path": "Market-News.ipynb",
   "parameters": {},
   "start_time": "2022-03-04T02:20:40.223609",
   "version": "2.2.2"
  }
 },
 "nbformat": 4,
 "nbformat_minor": 5
}