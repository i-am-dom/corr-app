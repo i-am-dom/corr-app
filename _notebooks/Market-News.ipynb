{
 "cells": [
  {
   "cell_type": "markdown",
   "id": "short-greensboro",
   "metadata": {
    "papermill": {
     "duration": 0.01688,
     "end_time": "2021-08-09T01:59:24.283640",
     "exception": false,
     "start_time": "2021-08-09T01:59:24.266760",
     "status": "completed"
    },
    "tags": []
   },
   "source": [
    "# Kriptovaliutų naujienos"
   ]
  },
  {
   "cell_type": "code",
   "execution_count": 1,
   "id": "functioning-knowing",
   "metadata": {
    "execution": {
     "iopub.execute_input": "2021-08-09T01:59:24.323975Z",
     "iopub.status.busy": "2021-08-09T01:59:24.323277Z",
     "iopub.status.idle": "2021-08-09T01:59:25.904901Z",
     "shell.execute_reply": "2021-08-09T01:59:25.904292Z"
    },
    "papermill": {
     "duration": 1.607699,
     "end_time": "2021-08-09T01:59:25.905063",
     "exception": false,
     "start_time": "2021-08-09T01:59:24.297364",
     "status": "completed"
    },
    "tags": []
   },
   "outputs": [],
   "source": [
    "#hide_input\n",
    "import warnings\n",
    "warnings.filterwarnings('ignore')\n",
    "from scripts.read_data import read_api\n",
    "from scripts.read_data import read_news\n",
    "from scripts.read_data import read_covid\n",
    "import matplotlib.pyplot as plt \n",
    "from IPython.display import Markdown as md"
   ]
  },
  {
   "cell_type": "code",
   "execution_count": 2,
   "id": "shared-acceptance",
   "metadata": {
    "execution": {
     "iopub.execute_input": "2021-08-09T01:59:25.937904Z",
     "iopub.status.busy": "2021-08-09T01:59:25.936646Z",
     "iopub.status.idle": "2021-08-09T01:59:34.836780Z",
     "shell.execute_reply": "2021-08-09T01:59:34.835518Z"
    },
    "papermill": {
     "duration": 8.919175,
     "end_time": "2021-08-09T01:59:34.836989",
     "exception": false,
     "start_time": "2021-08-09T01:59:25.917814",
     "status": "completed"
    },
    "tags": []
   },
   "outputs": [],
   "source": [
    "#hide_input\n",
    "blockchain = read_news('blockchain') \n",
    "btc = read_news('btc') \n",
    "xrp = read_news('xrp') \n",
    "trx = read_news('trx') \n",
    "eth = read_news('eth')  \n",
    "ada = read_news('ada')\n",
    "exchange = read_news('exchange') "
   ]
  },
  {
   "cell_type": "code",
   "execution_count": 3,
   "id": "synthetic-notion",
   "metadata": {
    "execution": {
     "iopub.execute_input": "2021-08-09T01:59:34.869967Z",
     "iopub.status.busy": "2021-08-09T01:59:34.867214Z",
     "iopub.status.idle": "2021-08-09T01:59:34.873118Z",
     "shell.execute_reply": "2021-08-09T01:59:34.873795Z"
    },
    "papermill": {
     "duration": 0.023453,
     "end_time": "2021-08-09T01:59:34.874024",
     "exception": false,
     "start_time": "2021-08-09T01:59:34.850571",
     "status": "completed"
    },
    "tags": []
   },
   "outputs": [
    {
     "data": {
      "text/markdown": [
       "- Wu-Tang Clan’s Ticalion Stallion Method Man to Drop ‘Tical World’ NFT Comic Art.  Clifford Smith Jr., better known by his stage name Method Man from the rap supergroup the Wu-Tang Clan, announced plans to launch a non-fungible token (NFT) collection called &#8220;Tical World.&#8221; The tokenized comics and Killa Beez-centric art was designed by the New York artist Alex Smetsky. Wu-Tang Member Method Man to Launch Killa Beez-Centric NFTs [&#8230;] ... [| Skaityti daugiau](https://news.bitcoin.com/wu-tang-clans-ticalion-stallion-method-man-to-drop-tical-world-nft-comic-art/) "
      ],
      "text/plain": [
       "<IPython.core.display.Markdown object>"
      ]
     },
     "execution_count": 3,
     "metadata": {},
     "output_type": "execute_result"
    }
   ],
   "source": [
    "#hide_input\n",
    "#md('##### {}'.format(titleBTC)) \n",
    "md(\"- {}{} {}{} [| Skaityti daugiau]({}) \".format(blockchain['title'],'. ', blockchain['body'], ' ...', blockchain['url']))"
   ]
  },
  {
   "cell_type": "code",
   "execution_count": 4,
   "id": "aging-caution",
   "metadata": {
    "execution": {
     "iopub.execute_input": "2021-08-09T01:59:34.905846Z",
     "iopub.status.busy": "2021-08-09T01:59:34.905144Z",
     "iopub.status.idle": "2021-08-09T01:59:34.911413Z",
     "shell.execute_reply": "2021-08-09T01:59:34.910817Z"
    },
    "papermill": {
     "duration": 0.024521,
     "end_time": "2021-08-09T01:59:34.911546",
     "exception": false,
     "start_time": "2021-08-09T01:59:34.887025",
     "status": "completed"
    },
    "tags": []
   },
   "outputs": [
    {
     "data": {
      "text/markdown": [
       "- Grayscale Bitcoin Trust: Welcome To The New Bull.  My previous article detailed my thoughts on the recent mini-bear market in Bitcoin.The crash from over $60K per coin to a bit under $30K on multiple tries unnerved many investors.The key to investing in an asset such as Bitcoin to ride the volatility and make strategic purchases when sentiment is down.The article will detail my current thoughts and a new strategy to hopefully profit from the new bull run. ... [| Skaityti daugiau](https://seekingalpha.com/article/4447023-grayscale-bitcoin-trust-gbtc-welcome-to-the-new-bull?utm_source=cryptocompare.com&utm_medium=referral) "
      ],
      "text/plain": [
       "<IPython.core.display.Markdown object>"
      ]
     },
     "execution_count": 4,
     "metadata": {},
     "output_type": "execute_result"
    }
   ],
   "source": [
    "#hide_input\n",
    "#md('##### {}'.format(titleBTC)) \n",
    "md(\"- {}{} {}{} [| Skaityti daugiau]({}) \".format(btc['title'],'. ', btc['body'], ' ...', btc['url']))"
   ]
  },
  {
   "cell_type": "code",
   "execution_count": 5,
   "id": "organic-actress",
   "metadata": {
    "execution": {
     "iopub.execute_input": "2021-08-09T01:59:34.941568Z",
     "iopub.status.busy": "2021-08-09T01:59:34.940839Z",
     "iopub.status.idle": "2021-08-09T01:59:34.947660Z",
     "shell.execute_reply": "2021-08-09T01:59:34.947086Z"
    },
    "papermill": {
     "duration": 0.023315,
     "end_time": "2021-08-09T01:59:34.947806",
     "exception": false,
     "start_time": "2021-08-09T01:59:34.924491",
     "status": "completed"
    },
    "tags": []
   },
   "outputs": [
    {
     "data": {
      "text/markdown": [
       "- XRP, Cardano and Dogecoin Price Analysis: 08 August.  As the broader crypto market gained strength over the last few days, major altcoins including XRP, ADA and DOGE jumped to higher levels. XRP managed to slice through its immediate resistance of $0.77, while ADA, despite lateral movement traded away from its support level of $1.38. Finally, Dogecoin rallied and was on its way to [&#8230;] ... [| Skaityti daugiau](https://ambcrypto.com/xrp-cardano-and-dogecoin-price-analysis-08-august/) "
      ],
      "text/plain": [
       "<IPython.core.display.Markdown object>"
      ]
     },
     "execution_count": 5,
     "metadata": {},
     "output_type": "execute_result"
    }
   ],
   "source": [
    "#hide_input\n",
    "#md('##### {}'.format(titleBTC)) \n",
    "md(\"- {}{} {}{} [| Skaityti daugiau]({}) \".format(xrp['title'],'. ', xrp['body'], ' ...', xrp['url']))"
   ]
  },
  {
   "cell_type": "code",
   "execution_count": 6,
   "id": "prompt-farmer",
   "metadata": {
    "execution": {
     "iopub.execute_input": "2021-08-09T01:59:34.982372Z",
     "iopub.status.busy": "2021-08-09T01:59:34.981609Z",
     "iopub.status.idle": "2021-08-09T01:59:34.984670Z",
     "shell.execute_reply": "2021-08-09T01:59:34.985217Z"
    },
    "papermill": {
     "duration": 0.023464,
     "end_time": "2021-08-09T01:59:34.985362",
     "exception": false,
     "start_time": "2021-08-09T01:59:34.961898",
     "status": "completed"
    },
    "tags": []
   },
   "outputs": [
    {
     "data": {
      "text/markdown": [
       "- TRON, IOTA, SUSHI Price Analysis: 06 August.  After Ethereum&#8217;s price closed above $2,800 following the London hard fork, other alts saw gains over the last 24 hours. The likes of TRX and IOTA hopped above their immediate resistance levels, while SUSHI registered a hike of 8.2%. TRON [TRX] TRX, at press time, showed a bullish streak. Its price stood at $0.070 after [&#8230;] ... [| Skaityti daugiau](https://ambcrypto.com/tron-iota-sushi-price-analysis-06-august/) "
      ],
      "text/plain": [
       "<IPython.core.display.Markdown object>"
      ]
     },
     "execution_count": 6,
     "metadata": {},
     "output_type": "execute_result"
    }
   ],
   "source": [
    "#hide_input\n",
    "#md('##### {}'.format(titleBTC)) \n",
    "md(\"- {}{} {}{} [| Skaityti daugiau]({}) \".format(trx['title'],'. ', trx['body'], ' ...', trx['url']))"
   ]
  },
  {
   "cell_type": "code",
   "execution_count": 7,
   "id": "illegal-greece",
   "metadata": {
    "execution": {
     "iopub.execute_input": "2021-08-09T01:59:35.021185Z",
     "iopub.status.busy": "2021-08-09T01:59:35.020505Z",
     "iopub.status.idle": "2021-08-09T01:59:35.023377Z",
     "shell.execute_reply": "2021-08-09T01:59:35.023958Z"
    },
    "papermill": {
     "duration": 0.023446,
     "end_time": "2021-08-09T01:59:35.024111",
     "exception": false,
     "start_time": "2021-08-09T01:59:35.000665",
     "status": "completed"
    },
    "tags": []
   },
   "outputs": [
    {
     "data": {
      "text/markdown": [
       "- Is this development likely to affect Ethereum’s rally.  Just a day back, Ethereum&#8217;s price managed to climb above the $3k mark. The value of the market&#8217;s largest alt rose by 21% over the past week. At press time, its value explicitly stood at $3142.86. The recent uptick in crypto prices has brought institutional products like private investment funds back to the limelight. Institutional [&#8230;] ... [| Skaityti daugiau](https://ambcrypto.com/is-this-development-likely-to-affect-ethereums-rally/) "
      ],
      "text/plain": [
       "<IPython.core.display.Markdown object>"
      ]
     },
     "execution_count": 7,
     "metadata": {},
     "output_type": "execute_result"
    }
   ],
   "source": [
    "#hide_input\n",
    "#md('##### {}'.format(titleBTC)) \n",
    "md(\"- {}{} {}{} [| Skaityti daugiau]({}) \".format(eth['title'],'. ', eth['body'], ' ...', eth['url']))"
   ]
  },
  {
   "cell_type": "code",
   "execution_count": 8,
   "id": "sublime-lounge",
   "metadata": {
    "execution": {
     "iopub.execute_input": "2021-08-09T01:59:35.060661Z",
     "iopub.status.busy": "2021-08-09T01:59:35.059785Z",
     "iopub.status.idle": "2021-08-09T01:59:35.062776Z",
     "shell.execute_reply": "2021-08-09T01:59:35.063418Z"
    },
    "papermill": {
     "duration": 0.023916,
     "end_time": "2021-08-09T01:59:35.063578",
     "exception": false,
     "start_time": "2021-08-09T01:59:35.039662",
     "status": "completed"
    },
    "tags": []
   },
   "outputs": [
    {
     "data": {
      "text/markdown": [
       "- Cardano: Here are the critical factors that can affect its price.  Cardano is deemed as the third-generation cryptocurrency because of its potential use cases. With smart contracts coming soon, ADA investors are seemingly elated about their investments turning into profits. However, could the upcoming infrastructure bill cut Cardano’s run short? And how do the investors actually feel about these changes? The bill and the next critical [&#8230;] ... [| Skaityti daugiau](https://ambcrypto.com/cardano-here-are-the-critical-factors-that-can-affect-its-price/) "
      ],
      "text/plain": [
       "<IPython.core.display.Markdown object>"
      ]
     },
     "execution_count": 8,
     "metadata": {},
     "output_type": "execute_result"
    }
   ],
   "source": [
    "#hide_input\n",
    "#md('##### {}'.format(titleBTC)) \n",
    "md(\"- {}{} {}{} [| Skaityti daugiau]({}) \".format(ada['title'],'. ', ada['body'], ' ...', ada['url']))"
   ]
  },
  {
   "cell_type": "code",
   "execution_count": 9,
   "id": "specified-ordering",
   "metadata": {
    "execution": {
     "iopub.execute_input": "2021-08-09T01:59:35.100164Z",
     "iopub.status.busy": "2021-08-09T01:59:35.099489Z",
     "iopub.status.idle": "2021-08-09T01:59:35.102840Z",
     "shell.execute_reply": "2021-08-09T01:59:35.103433Z"
    },
    "papermill": {
     "duration": 0.02442,
     "end_time": "2021-08-09T01:59:35.103584",
     "exception": false,
     "start_time": "2021-08-09T01:59:35.079164",
     "status": "completed"
    },
    "tags": []
   },
   "outputs": [
    {
     "data": {
      "text/markdown": [
       "- Binance Coin: Wait for this before making any move.  On the surface, Binance Coin’s slow movement towards the $400 mark looked sideways and monotonous. However, one thing that stood out was the sustained recovery BNB highlighted since July 22. The coin had fallen under the $250 mark and its recovery from the lower lows is undoubtedly a relief. Now with BNB oscillating close to [&#8230;] ... [| Skaityti daugiau](https://ambcrypto.com/binance-coin-wait-for-this-before-making-any-move/) "
      ],
      "text/plain": [
       "<IPython.core.display.Markdown object>"
      ]
     },
     "execution_count": 9,
     "metadata": {},
     "output_type": "execute_result"
    }
   ],
   "source": [
    "#hide_input\n",
    "#md('##### {}'.format(titleBTC)) \n",
    "md(\"- {}{} {}{} [| Skaityti daugiau]({}) \".format(exchange['title'],'. ', exchange['body'], ' ...', exchange['url']))"
   ]
  },
  {
   "cell_type": "code",
   "execution_count": null,
   "id": "tender-livestock",
   "metadata": {
    "papermill": {
     "duration": 0.015132,
     "end_time": "2021-08-09T01:59:35.134456",
     "exception": false,
     "start_time": "2021-08-09T01:59:35.119324",
     "status": "completed"
    },
    "tags": []
   },
   "outputs": [],
   "source": []
  },
  {
   "cell_type": "code",
   "execution_count": null,
   "id": "appreciated-diamond",
   "metadata": {
    "papermill": {
     "duration": 0.01608,
     "end_time": "2021-08-09T01:59:35.166633",
     "exception": false,
     "start_time": "2021-08-09T01:59:35.150553",
     "status": "completed"
    },
    "tags": []
   },
   "outputs": [],
   "source": []
  },
  {
   "cell_type": "code",
   "execution_count": null,
   "id": "romance-sweden",
   "metadata": {
    "papermill": {
     "duration": 0.014894,
     "end_time": "2021-08-09T01:59:35.197176",
     "exception": false,
     "start_time": "2021-08-09T01:59:35.182282",
     "status": "completed"
    },
    "tags": []
   },
   "outputs": [],
   "source": []
  },
  {
   "cell_type": "code",
   "execution_count": null,
   "id": "dietary-statistics",
   "metadata": {
    "papermill": {
     "duration": 0.014826,
     "end_time": "2021-08-09T01:59:35.227211",
     "exception": false,
     "start_time": "2021-08-09T01:59:35.212385",
     "status": "completed"
    },
    "tags": []
   },
   "outputs": [],
   "source": []
  }
 ],
 "metadata": {
  "kernelspec": {
   "display_name": "Python 3",
   "language": "python",
   "name": "python3"
  },
  "language_info": {
   "codemirror_mode": {
    "name": "ipython",
    "version": 3
   },
   "file_extension": ".py",
   "mimetype": "text/x-python",
   "name": "python",
   "nbconvert_exporter": "python",
   "pygments_lexer": "ipython3",
   "version": "3.6.14"
  },
  "papermill": {
   "default_parameters": {},
   "duration": 12.877672,
   "end_time": "2021-08-09T01:59:35.763597",
   "environment_variables": {},
   "exception": null,
   "input_path": "Market-News.ipynb",
   "output_path": "Market-News.ipynb",
   "parameters": {},
   "start_time": "2021-08-09T01:59:22.885925",
   "version": "2.2.2"
  }
 },
 "nbformat": 4,
 "nbformat_minor": 5
}