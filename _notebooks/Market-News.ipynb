{
 "cells": [
  {
   "cell_type": "markdown",
   "id": "short-greensboro",
   "metadata": {
    "papermill": {
     "duration": 0.018412,
     "end_time": "2021-12-03T02:01:14.914498",
     "exception": false,
     "start_time": "2021-12-03T02:01:14.896086",
     "status": "completed"
    },
    "tags": []
   },
   "source": [
    "# Kriptovaliutų naujienos"
   ]
  },
  {
   "cell_type": "code",
   "execution_count": 1,
   "id": "functioning-knowing",
   "metadata": {
    "execution": {
     "iopub.execute_input": "2021-12-03T02:01:14.953363Z",
     "iopub.status.busy": "2021-12-03T02:01:14.952257Z",
     "iopub.status.idle": "2021-12-03T02:01:16.463111Z",
     "shell.execute_reply": "2021-12-03T02:01:16.463905Z"
    },
    "papermill": {
     "duration": 1.538141,
     "end_time": "2021-12-03T02:01:16.464095",
     "exception": false,
     "start_time": "2021-12-03T02:01:14.925954",
     "status": "completed"
    },
    "tags": []
   },
   "outputs": [],
   "source": [
    "#hide_input\n",
    "import warnings\n",
    "warnings.filterwarnings('ignore')\n",
    "from scripts.read_data import read_api\n",
    "from scripts.read_data import read_news\n",
    "from scripts.read_data import read_covid\n",
    "import matplotlib.pyplot as plt \n",
    "from IPython.display import Markdown as md"
   ]
  },
  {
   "cell_type": "code",
   "execution_count": 2,
   "id": "shared-acceptance",
   "metadata": {
    "execution": {
     "iopub.execute_input": "2021-12-03T02:01:16.496762Z",
     "iopub.status.busy": "2021-12-03T02:01:16.496076Z",
     "iopub.status.idle": "2021-12-03T02:01:25.084589Z",
     "shell.execute_reply": "2021-12-03T02:01:25.085104Z"
    },
    "papermill": {
     "duration": 8.610048,
     "end_time": "2021-12-03T02:01:25.085279",
     "exception": false,
     "start_time": "2021-12-03T02:01:16.475231",
     "status": "completed"
    },
    "tags": []
   },
   "outputs": [],
   "source": [
    "#hide_input\n",
    "blockchain = read_news('blockchain') \n",
    "btc = read_news('btc') \n",
    "xrp = read_news('xrp') \n",
    "trx = read_news('trx') \n",
    "eth = read_news('eth')  \n",
    "ada = read_news('ada')\n",
    "exchange = read_news('exchange') "
   ]
  },
  {
   "cell_type": "code",
   "execution_count": 3,
   "id": "synthetic-notion",
   "metadata": {
    "execution": {
     "iopub.execute_input": "2021-12-03T02:01:25.114393Z",
     "iopub.status.busy": "2021-12-03T02:01:25.113759Z",
     "iopub.status.idle": "2021-12-03T02:01:25.119165Z",
     "shell.execute_reply": "2021-12-03T02:01:25.119764Z"
    },
    "papermill": {
     "duration": 0.023622,
     "end_time": "2021-12-03T02:01:25.119928",
     "exception": false,
     "start_time": "2021-12-03T02:01:25.096306",
     "status": "completed"
    },
    "tags": []
   },
   "outputs": [
    {
     "data": {
      "text/markdown": [
       "- Largest DeFi Hack Yet? BadgerDAO Hack Results In Loss Of $120M+.  There are high ceilings and low floors when it comes to crypto at times. Another hack came to life this week, and early reports have stated that the hack was a front-end compromise that led to users being tricked into approving unwanted transactions. The news comes after a $35M DeFi hack of the Vee Finance protocol in recent months, and our team at NewsBTC reported around mid-year that crypto hacks and fraud were on pace for a record year. This week&#8217;s BadgerDAO compromise is one of DeFi&#8217;s biggest yet. BadgerDAO Hack: What We Know The protocol cited &#8220;reports of unauthorized withdrawals of user funds&#8221; on late Wednesday, and proceeded to pause all smart contracts on the protocol: Badger has received reports of unauthorized withdrawals of user funds. As Badger engineers investigate this, all smart contracts have been paused to prevent further withdrawals. Our investigation is ongoing and we will release further information as soon as possible. &#8212; ₿adgerDAO 🦡 (@BadgerDAO) December 2, 2021 The BadgerDAO Token (BADGER), suffered a roughly 20% drop following the news of the hack. The platform is geared towards earning yield on bitcoin through various vaults. Blockchain auditing firm PeckShield reported in the early hours on Thursday that the loss was north of $120M, spanning across over 2 BTC and over 150 ETH and going all the way across. However, a variety of assets were compromised during the hack. Ther... ... [| Skaityti daugiau](https://www.newsbtc.com/news/largest-defi-hack-yet-badgerdao-hack-results-in-loss-of-120m/) "
      ],
      "text/plain": [
       "<IPython.core.display.Markdown object>"
      ]
     },
     "execution_count": 3,
     "metadata": {},
     "output_type": "execute_result"
    }
   ],
   "source": [
    "#hide_input\n",
    "#md('##### {}'.format(titleBTC)) \n",
    "md(\"- {}{} {}{} [| Skaityti daugiau]({}) \".format(blockchain['title'],'. ', blockchain['body'], ' ...', blockchain['url']))"
   ]
  },
  {
   "cell_type": "code",
   "execution_count": 4,
   "id": "aging-caution",
   "metadata": {
    "execution": {
     "iopub.execute_input": "2021-12-03T02:01:25.149193Z",
     "iopub.status.busy": "2021-12-03T02:01:25.148289Z",
     "iopub.status.idle": "2021-12-03T02:01:25.151499Z",
     "shell.execute_reply": "2021-12-03T02:01:25.151980Z"
    },
    "papermill": {
     "duration": 0.020918,
     "end_time": "2021-12-03T02:01:25.152128",
     "exception": false,
     "start_time": "2021-12-03T02:01:25.131210",
     "status": "completed"
    },
    "tags": []
   },
   "outputs": [
    {
     "data": {
      "text/markdown": [
       "- Largest DeFi Hack Yet? BadgerDAO Hack Results In Loss Of $120M+.  There are high ceilings and low floors when it comes to crypto at times. Another hack came to life this week, and early reports have stated that the hack was a front-end compromise that led to users being tricked into approving unwanted transactions. The news comes after a $35M DeFi hack of the Vee Finance protocol in recent months, and our team at NewsBTC reported around mid-year that crypto hacks and fraud were on pace for a record year. This week&#8217;s BadgerDAO compromise is one of DeFi&#8217;s biggest yet. BadgerDAO Hack: What We Know The protocol cited &#8220;reports of unauthorized withdrawals of user funds&#8221; on late Wednesday, and proceeded to pause all smart contracts on the protocol: Badger has received reports of unauthorized withdrawals of user funds. As Badger engineers investigate this, all smart contracts have been paused to prevent further withdrawals. Our investigation is ongoing and we will release further information as soon as possible. &#8212; ₿adgerDAO 🦡 (@BadgerDAO) December 2, 2021 The BadgerDAO Token (BADGER), suffered a roughly 20% drop following the news of the hack. The platform is geared towards earning yield on bitcoin through various vaults. Blockchain auditing firm PeckShield reported in the early hours on Thursday that the loss was north of $120M, spanning across over 2 BTC and over 150 ETH and going all the way across. However, a variety of assets were compromised during the hack. Ther... ... [| Skaityti daugiau](https://www.newsbtc.com/news/largest-defi-hack-yet-badgerdao-hack-results-in-loss-of-120m/) "
      ],
      "text/plain": [
       "<IPython.core.display.Markdown object>"
      ]
     },
     "execution_count": 4,
     "metadata": {},
     "output_type": "execute_result"
    }
   ],
   "source": [
    "#hide_input\n",
    "#md('##### {}'.format(titleBTC)) \n",
    "md(\"- {}{} {}{} [| Skaityti daugiau]({}) \".format(btc['title'],'. ', btc['body'], ' ...', btc['url']))"
   ]
  },
  {
   "cell_type": "code",
   "execution_count": 5,
   "id": "organic-actress",
   "metadata": {
    "execution": {
     "iopub.execute_input": "2021-12-03T02:01:25.184049Z",
     "iopub.status.busy": "2021-12-03T02:01:25.182031Z",
     "iopub.status.idle": "2021-12-03T02:01:25.189605Z",
     "shell.execute_reply": "2021-12-03T02:01:25.189085Z"
    },
    "papermill": {
     "duration": 0.026181,
     "end_time": "2021-12-03T02:01:25.189728",
     "exception": false,
     "start_time": "2021-12-03T02:01:25.163547",
     "status": "completed"
    },
    "tags": []
   },
   "outputs": [
    {
     "data": {
      "text/markdown": [
       "- Crypto Adoption Grows In Croatia: Supermarkets, Post Offices, Car Dealerships, +.  Croatia is embracing crypto at an exponential rate. Earlier in the week, Konzum announced it will accept cryptocurrency payments in its online store. This is phase one for Croatia’s largest supermarket chain, the company plans to roll out the service in all of its stores. The country is quickly becoming one of the friendliest for [&#8230;] ... [| Skaityti daugiau](https://bitcoinist.com/crypto-adoption-grows-in-croatia-supermarkets-post-offices-car-dealerships/?utm_source=rss&utm_medium=rss&utm_campaign=crypto-adoption-grows-in-croatia-supermarkets-post-offices-car-dealerships) "
      ],
      "text/plain": [
       "<IPython.core.display.Markdown object>"
      ]
     },
     "execution_count": 5,
     "metadata": {},
     "output_type": "execute_result"
    }
   ],
   "source": [
    "#hide_input\n",
    "#md('##### {}'.format(titleBTC)) \n",
    "md(\"- {}{} {}{} [| Skaityti daugiau]({}) \".format(xrp['title'],'. ', xrp['body'], ' ...', xrp['url']))"
   ]
  },
  {
   "cell_type": "code",
   "execution_count": 6,
   "id": "prompt-farmer",
   "metadata": {
    "execution": {
     "iopub.execute_input": "2021-12-03T02:01:25.221394Z",
     "iopub.status.busy": "2021-12-03T02:01:25.220217Z",
     "iopub.status.idle": "2021-12-03T02:01:25.223296Z",
     "shell.execute_reply": "2021-12-03T02:01:25.223772Z"
    },
    "papermill": {
     "duration": 0.021561,
     "end_time": "2021-12-03T02:01:25.223915",
     "exception": false,
     "start_time": "2021-12-03T02:01:25.202354",
     "status": "completed"
    },
    "tags": []
   },
   "outputs": [
    {
     "data": {
      "text/markdown": [
       "- Uniswap, Tron, Avalanche Price Analysis: 2 December.  As the market continued to demonstrate its natural state of volatility, the tide slightly tuned in favor of the bulls. Consequently, Uniswap and Tron were in the green zone over the past four days, after touching their multi-month lows on 28 November, On the other hand, Avalanche continued its upswing since mid-October and touched its [&#8230;] ... [| Skaityti daugiau](https://ambcrypto.com/uniswap-tron-avalanche-price-analysis-2-december/) "
      ],
      "text/plain": [
       "<IPython.core.display.Markdown object>"
      ]
     },
     "execution_count": 6,
     "metadata": {},
     "output_type": "execute_result"
    }
   ],
   "source": [
    "#hide_input\n",
    "#md('##### {}'.format(titleBTC)) \n",
    "md(\"- {}{} {}{} [| Skaityti daugiau]({}) \".format(trx['title'],'. ', trx['body'], ' ...', trx['url']))"
   ]
  },
  {
   "cell_type": "code",
   "execution_count": 7,
   "id": "illegal-greece",
   "metadata": {
    "execution": {
     "iopub.execute_input": "2021-12-03T02:01:25.256670Z",
     "iopub.status.busy": "2021-12-03T02:01:25.256020Z",
     "iopub.status.idle": "2021-12-03T02:01:25.261808Z",
     "shell.execute_reply": "2021-12-03T02:01:25.261268Z"
    },
    "papermill": {
     "duration": 0.023938,
     "end_time": "2021-12-03T02:01:25.261933",
     "exception": false,
     "start_time": "2021-12-03T02:01:25.237995",
     "status": "completed"
    },
    "tags": []
   },
   "outputs": [
    {
     "data": {
      "text/markdown": [
       "- Largest DeFi Hack Yet? BadgerDAO Hack Results In Loss Of $120M+.  There are high ceilings and low floors when it comes to crypto at times. Another hack came to life this week, and early reports have stated that the hack was a front-end compromise that led to users being tricked into approving unwanted transactions. The news comes after a $35M DeFi hack of the Vee Finance protocol in recent months, and our team at NewsBTC reported around mid-year that crypto hacks and fraud were on pace for a record year. This week&#8217;s BadgerDAO compromise is one of DeFi&#8217;s biggest yet. BadgerDAO Hack: What We Know The protocol cited &#8220;reports of unauthorized withdrawals of user funds&#8221; on late Wednesday, and proceeded to pause all smart contracts on the protocol: Badger has received reports of unauthorized withdrawals of user funds. As Badger engineers investigate this, all smart contracts have been paused to prevent further withdrawals. Our investigation is ongoing and we will release further information as soon as possible. &#8212; ₿adgerDAO 🦡 (@BadgerDAO) December 2, 2021 The BadgerDAO Token (BADGER), suffered a roughly 20% drop following the news of the hack. The platform is geared towards earning yield on bitcoin through various vaults. Blockchain auditing firm PeckShield reported in the early hours on Thursday that the loss was north of $120M, spanning across over 2 BTC and over 150 ETH and going all the way across. However, a variety of assets were compromised during the hack. Ther... ... [| Skaityti daugiau](https://www.newsbtc.com/news/largest-defi-hack-yet-badgerdao-hack-results-in-loss-of-120m/) "
      ],
      "text/plain": [
       "<IPython.core.display.Markdown object>"
      ]
     },
     "execution_count": 7,
     "metadata": {},
     "output_type": "execute_result"
    }
   ],
   "source": [
    "#hide_input\n",
    "#md('##### {}'.format(titleBTC)) \n",
    "md(\"- {}{} {}{} [| Skaityti daugiau]({}) \".format(eth['title'],'. ', eth['body'], ' ...', eth['url']))"
   ]
  },
  {
   "cell_type": "code",
   "execution_count": 8,
   "id": "sublime-lounge",
   "metadata": {
    "execution": {
     "iopub.execute_input": "2021-12-03T02:01:25.295746Z",
     "iopub.status.busy": "2021-12-03T02:01:25.294199Z",
     "iopub.status.idle": "2021-12-03T02:01:25.302469Z",
     "shell.execute_reply": "2021-12-03T02:01:25.301775Z"
    },
    "papermill": {
     "duration": 0.025797,
     "end_time": "2021-12-03T02:01:25.302606",
     "exception": false,
     "start_time": "2021-12-03T02:01:25.276809",
     "status": "completed"
    },
    "tags": []
   },
   "outputs": [
    {
     "data": {
      "text/markdown": [
       "- Cardano Records Over 20 Million Transactions Ahead of DEX Launches.  The Cardano network remains one of the most stable blockchains in the crypto space. Founded in 2017, the network remains the largest proof of stake network in the industry. It holds the title for the proof of stake network with the highest amount of coins staked, only recently conceding to Solana to become the smart contracts platform with the second-largest amount of coins staked. Nevertheless, Cardano remains a force to be reckoned with and its latest achievement has shown that. Network activity has picked up on the network since the launch of smart contracts capability. Now, a little over two months after, the network has marked its 20 millionth transaction after only four years in operation. Related Reading &#124; Cardano Active Addresses Shoots To New Highs Amid Downtrend Cardano Remains At The Top The project has done some impressive things in its four years of operation, one of which is barely experiencing any downtime. Most projects in the market have experienced downtime at some point. Most notably the Solana network blackout that saw the network go dark for about 24 hours. Cardano itself has experienced downtime which occurred in April but it lasted for only an hour and was over so quickly that a good portion of the community does not know this happened. Despite the lack of decentralized exchanges (DEXes) on the blockchain, it has managed to ramp up more activity than leading smart contracts platform Ethereum. Users ... ... [| Skaityti daugiau](https://www.newsbtc.com/news/cardano/cardano-records-over-20-million-transactions-ahead-of-dex-launches/) "
      ],
      "text/plain": [
       "<IPython.core.display.Markdown object>"
      ]
     },
     "execution_count": 8,
     "metadata": {},
     "output_type": "execute_result"
    }
   ],
   "source": [
    "#hide_input\n",
    "#md('##### {}'.format(titleBTC)) \n",
    "md(\"- {}{} {}{} [| Skaityti daugiau]({}) \".format(ada['title'],'. ', ada['body'], ' ...', ada['url']))"
   ]
  },
  {
   "cell_type": "code",
   "execution_count": 9,
   "id": "specified-ordering",
   "metadata": {
    "execution": {
     "iopub.execute_input": "2021-12-03T02:01:25.335443Z",
     "iopub.status.busy": "2021-12-03T02:01:25.334782Z",
     "iopub.status.idle": "2021-12-03T02:01:25.337037Z",
     "shell.execute_reply": "2021-12-03T02:01:25.337517Z"
    },
    "papermill": {
     "duration": 0.02166,
     "end_time": "2021-12-03T02:01:25.337658",
     "exception": false,
     "start_time": "2021-12-03T02:01:25.315998",
     "status": "completed"
    },
    "tags": []
   },
   "outputs": [
    {
     "data": {
      "text/markdown": [
       "- Blockchain.com Follows Coinbase and FTX, Opens NFT Marketplace.  The wallet, explorer, and exchange company is taking names for its Blockchain.com NFT marketplace waitlist. ... [| Skaityti daugiau](https://decrypt.co/87484/blockchain-com-follows-coinbase-ftx-opens-nft-marketplace) "
      ],
      "text/plain": [
       "<IPython.core.display.Markdown object>"
      ]
     },
     "execution_count": 9,
     "metadata": {},
     "output_type": "execute_result"
    }
   ],
   "source": [
    "#hide_input\n",
    "#md('##### {}'.format(titleBTC)) \n",
    "md(\"- {}{} {}{} [| Skaityti daugiau]({}) \".format(exchange['title'],'. ', exchange['body'], ' ...', exchange['url']))"
   ]
  },
  {
   "cell_type": "code",
   "execution_count": null,
   "id": "tender-livestock",
   "metadata": {
    "papermill": {
     "duration": 0.013319,
     "end_time": "2021-12-03T02:01:25.364291",
     "exception": false,
     "start_time": "2021-12-03T02:01:25.350972",
     "status": "completed"
    },
    "tags": []
   },
   "outputs": [],
   "source": []
  },
  {
   "cell_type": "code",
   "execution_count": null,
   "id": "appreciated-diamond",
   "metadata": {
    "papermill": {
     "duration": 0.013048,
     "end_time": "2021-12-03T02:01:25.390465",
     "exception": false,
     "start_time": "2021-12-03T02:01:25.377417",
     "status": "completed"
    },
    "tags": []
   },
   "outputs": [],
   "source": []
  },
  {
   "cell_type": "code",
   "execution_count": null,
   "id": "romance-sweden",
   "metadata": {
    "papermill": {
     "duration": 0.013107,
     "end_time": "2021-12-03T02:01:25.416771",
     "exception": false,
     "start_time": "2021-12-03T02:01:25.403664",
     "status": "completed"
    },
    "tags": []
   },
   "outputs": [],
   "source": []
  },
  {
   "cell_type": "code",
   "execution_count": null,
   "id": "dietary-statistics",
   "metadata": {
    "papermill": {
     "duration": 0.013238,
     "end_time": "2021-12-03T02:01:25.443363",
     "exception": false,
     "start_time": "2021-12-03T02:01:25.430125",
     "status": "completed"
    },
    "tags": []
   },
   "outputs": [],
   "source": []
  }
 ],
 "metadata": {
  "kernelspec": {
   "display_name": "Python 3",
   "language": "python",
   "name": "python3"
  },
  "language_info": {
   "codemirror_mode": {
    "name": "ipython",
    "version": 3
   },
   "file_extension": ".py",
   "mimetype": "text/x-python",
   "name": "python",
   "nbconvert_exporter": "python",
   "pygments_lexer": "ipython3",
   "version": "3.6.15"
  },
  "papermill": {
   "default_parameters": {},
   "duration": 12.277532,
   "end_time": "2021-12-03T02:01:25.973270",
   "environment_variables": {},
   "exception": null,
   "input_path": "Market-News.ipynb",
   "output_path": "Market-News.ipynb",
   "parameters": {},
   "start_time": "2021-12-03T02:01:13.695738",
   "version": "2.2.2"
  }
 },
 "nbformat": 4,
 "nbformat_minor": 5
}