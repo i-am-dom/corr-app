{
 "cells": [
  {
   "cell_type": "markdown",
   "id": "short-greensboro",
   "metadata": {
    "papermill": {
     "duration": 0.01403,
     "end_time": "2022-08-30T03:46:44.812631",
     "exception": false,
     "start_time": "2022-08-30T03:46:44.798601",
     "status": "completed"
    },
    "tags": []
   },
   "source": [
    "# Kriptovaliutų naujienos"
   ]
  },
  {
   "cell_type": "code",
   "execution_count": 1,
   "id": "functioning-knowing",
   "metadata": {
    "execution": {
     "iopub.execute_input": "2022-08-30T03:46:44.844854Z",
     "iopub.status.busy": "2022-08-30T03:46:44.844249Z",
     "iopub.status.idle": "2022-08-30T03:46:46.080894Z",
     "shell.execute_reply": "2022-08-30T03:46:46.080191Z"
    },
    "papermill": {
     "duration": 1.257751,
     "end_time": "2022-08-30T03:46:46.081063",
     "exception": false,
     "start_time": "2022-08-30T03:46:44.823312",
     "status": "completed"
    },
    "tags": []
   },
   "outputs": [],
   "source": [
    "#hide_input\n",
    "import warnings\n",
    "warnings.filterwarnings('ignore')\n",
    "from scripts.read_data import read_api\n",
    "from scripts.read_data import read_news\n",
    "from scripts.read_data import read_covid\n",
    "import matplotlib.pyplot as plt \n",
    "from IPython.display import Markdown as md"
   ]
  },
  {
   "cell_type": "code",
   "execution_count": 2,
   "id": "shared-acceptance",
   "metadata": {
    "execution": {
     "iopub.execute_input": "2022-08-30T03:46:46.106249Z",
     "iopub.status.busy": "2022-08-30T03:46:46.105643Z",
     "iopub.status.idle": "2022-08-30T03:46:57.835595Z",
     "shell.execute_reply": "2022-08-30T03:46:57.834504Z"
    },
    "papermill": {
     "duration": 11.745357,
     "end_time": "2022-08-30T03:46:57.835743",
     "exception": false,
     "start_time": "2022-08-30T03:46:46.090386",
     "status": "completed"
    },
    "tags": []
   },
   "outputs": [],
   "source": [
    "#hide_input\n",
    "blockchain = read_news('blockchain') \n",
    "btc = read_news('btc') \n",
    "xrp = read_news('xrp') \n",
    "trx = read_news('trx') \n",
    "eth = read_news('eth')  \n",
    "ada = read_news('ada')\n",
    "exchange = read_news('exchange') "
   ]
  },
  {
   "cell_type": "code",
   "execution_count": 3,
   "id": "synthetic-notion",
   "metadata": {
    "execution": {
     "iopub.execute_input": "2022-08-30T03:46:57.858729Z",
     "iopub.status.busy": "2022-08-30T03:46:57.858139Z",
     "iopub.status.idle": "2022-08-30T03:46:57.864223Z",
     "shell.execute_reply": "2022-08-30T03:46:57.863745Z"
    },
    "papermill": {
     "duration": 0.019327,
     "end_time": "2022-08-30T03:46:57.864334",
     "exception": false,
     "start_time": "2022-08-30T03:46:57.845007",
     "status": "completed"
    },
    "tags": []
   },
   "outputs": [
    {
     "data": {
      "text/markdown": [
       "- Cardano surpasses Bitcoin in global most friendly brands.  Blockchain developer Cardano represents the top-ranked crypto space in a new report on global brand affinity. According to a report by brand relations agency MBLM, Cardano ranks 26th out of 600 brands and the top spot in the crypto industry. According to the report, brand affinity refers to the emotional connections that brands can form [&#8230;] ... [| Skaityti daugiau](https://coinnounce.com/cardano-surpasses-bitcoin-in-global-most-friendly-brands/) "
      ],
      "text/plain": [
       "<IPython.core.display.Markdown object>"
      ]
     },
     "execution_count": 3,
     "metadata": {},
     "output_type": "execute_result"
    }
   ],
   "source": [
    "#hide_input\n",
    "#md('##### {}'.format(titleBTC)) \n",
    "md(\"- {}{} {}{} [| Skaityti daugiau]({}) \".format(blockchain['title'],'. ', blockchain['body'], ' ...', blockchain['url']))"
   ]
  },
  {
   "cell_type": "code",
   "execution_count": 4,
   "id": "aging-caution",
   "metadata": {
    "execution": {
     "iopub.execute_input": "2022-08-30T03:46:57.887459Z",
     "iopub.status.busy": "2022-08-30T03:46:57.886779Z",
     "iopub.status.idle": "2022-08-30T03:46:57.890253Z",
     "shell.execute_reply": "2022-08-30T03:46:57.889781Z"
    },
    "papermill": {
     "duration": 0.016881,
     "end_time": "2022-08-30T03:46:57.890364",
     "exception": false,
     "start_time": "2022-08-30T03:46:57.873483",
     "status": "completed"
    },
    "tags": []
   },
   "outputs": [
    {
     "data": {
      "text/markdown": [
       "- Bitcoin, Ethereum, Chainlink, and Stellar Daily Price Analyses – 29 August Roundup.  The global crypto market has seen a sudden change in performance due to an influx of capital. The recent changes show that the regain of value came in a surprising manner. The market had lingered in losses for a while, but it came as a relief. The ongoing changes have greatly enhanced the value of &#8230;  Bitcoin, Ethereum, Chainlink, and Stellar Daily Price Analyses – 29 August Roundup Read More &#187; ... [| Skaityti daugiau](https://www.cryptopolitan.com/bitcoin-ethereum-chainlink-and-stellar-daily-price-analyses-29-august-roundup/) "
      ],
      "text/plain": [
       "<IPython.core.display.Markdown object>"
      ]
     },
     "execution_count": 4,
     "metadata": {},
     "output_type": "execute_result"
    }
   ],
   "source": [
    "#hide_input\n",
    "#md('##### {}'.format(titleBTC)) \n",
    "md(\"- {}{} {}{} [| Skaityti daugiau]({}) \".format(btc['title'],'. ', btc['body'], ' ...', btc['url']))"
   ]
  },
  {
   "cell_type": "code",
   "execution_count": 5,
   "id": "organic-actress",
   "metadata": {
    "execution": {
     "iopub.execute_input": "2022-08-30T03:46:57.914549Z",
     "iopub.status.busy": "2022-08-30T03:46:57.913922Z",
     "iopub.status.idle": "2022-08-30T03:46:57.917287Z",
     "shell.execute_reply": "2022-08-30T03:46:57.917740Z"
    },
    "papermill": {
     "duration": 0.017933,
     "end_time": "2022-08-30T03:46:57.917855",
     "exception": false,
     "start_time": "2022-08-30T03:46:57.899922",
     "status": "completed"
    },
    "tags": []
   },
   "outputs": [
    {
     "data": {
      "text/markdown": [
       "- Ripple counsel: SEC's shakedowns leave consumers holding the bag.  The response comes as Ripple Labs and other critics believe the SEC has overstepped its mark on the enforcement of the crypto space.  ... [| Skaityti daugiau](https://cointelegraph.com/news/ripple-counsel-sec-s-shakedowns-leave-consumers-holding-the-bag) "
      ],
      "text/plain": [
       "<IPython.core.display.Markdown object>"
      ]
     },
     "execution_count": 5,
     "metadata": {},
     "output_type": "execute_result"
    }
   ],
   "source": [
    "#hide_input\n",
    "#md('##### {}'.format(titleBTC)) \n",
    "md(\"- {}{} {}{} [| Skaityti daugiau]({}) \".format(xrp['title'],'. ', xrp['body'], ' ...', xrp['url']))"
   ]
  },
  {
   "cell_type": "code",
   "execution_count": 6,
   "id": "prompt-farmer",
   "metadata": {
    "execution": {
     "iopub.execute_input": "2022-08-30T03:46:57.942210Z",
     "iopub.status.busy": "2022-08-30T03:46:57.941624Z",
     "iopub.status.idle": "2022-08-30T03:46:57.945547Z",
     "shell.execute_reply": "2022-08-30T03:46:57.945075Z"
    },
    "papermill": {
     "duration": 0.018062,
     "end_time": "2022-08-30T03:46:57.945650",
     "exception": false,
     "start_time": "2022-08-30T03:46:57.927588",
     "status": "completed"
    },
    "tags": []
   },
   "outputs": [
    {
     "data": {
      "text/markdown": [
       "- $0.063 Support Breakdown Position TRX Price For Another 8.2% Fall.  The two-month consolidation in TRX price resulted in the sellers&#8217; favor as the they pierced the $0.063 support. This breakdown should encourage the ongoing correction and plunge the price to the next supply zone at $0.00576; should you enter a short position? The post $0.063 Support Breakdown Position TRX Price For Another 8.2% Fall appeared first on CoinGape. ... [| Skaityti daugiau](https://coingape.com/markets/0-063-support-breakdown-position-trx-price-for-another-8-2-fall/) "
      ],
      "text/plain": [
       "<IPython.core.display.Markdown object>"
      ]
     },
     "execution_count": 6,
     "metadata": {},
     "output_type": "execute_result"
    }
   ],
   "source": [
    "#hide_input\n",
    "#md('##### {}'.format(titleBTC)) \n",
    "md(\"- {}{} {}{} [| Skaityti daugiau]({}) \".format(trx['title'],'. ', trx['body'], ' ...', trx['url']))"
   ]
  },
  {
   "cell_type": "code",
   "execution_count": 7,
   "id": "illegal-greece",
   "metadata": {
    "execution": {
     "iopub.execute_input": "2022-08-30T03:46:57.971183Z",
     "iopub.status.busy": "2022-08-30T03:46:57.970516Z",
     "iopub.status.idle": "2022-08-30T03:46:57.973908Z",
     "shell.execute_reply": "2022-08-30T03:46:57.974454Z"
    },
    "papermill": {
     "duration": 0.018703,
     "end_time": "2022-08-30T03:46:57.974569",
     "exception": false,
     "start_time": "2022-08-30T03:46:57.955866",
     "status": "completed"
    },
    "tags": []
   },
   "outputs": [
    {
     "data": {
      "text/markdown": [
       "- Bitcoin, Ethereum, Chainlink, and Stellar Daily Price Analyses – 29 August Roundup.  The global crypto market has seen a sudden change in performance due to an influx of capital. The recent changes show that the regain of value came in a surprising manner. The market had lingered in losses for a while, but it came as a relief. The ongoing changes have greatly enhanced the value of &#8230;  Bitcoin, Ethereum, Chainlink, and Stellar Daily Price Analyses – 29 August Roundup Read More &#187; ... [| Skaityti daugiau](https://www.cryptopolitan.com/bitcoin-ethereum-chainlink-and-stellar-daily-price-analyses-29-august-roundup/) "
      ],
      "text/plain": [
       "<IPython.core.display.Markdown object>"
      ]
     },
     "execution_count": 7,
     "metadata": {},
     "output_type": "execute_result"
    }
   ],
   "source": [
    "#hide_input\n",
    "#md('##### {}'.format(titleBTC)) \n",
    "md(\"- {}{} {}{} [| Skaityti daugiau]({}) \".format(eth['title'],'. ', eth['body'], ' ...', eth['url']))"
   ]
  },
  {
   "cell_type": "code",
   "execution_count": 8,
   "id": "sublime-lounge",
   "metadata": {
    "execution": {
     "iopub.execute_input": "2022-08-30T03:46:58.002679Z",
     "iopub.status.busy": "2022-08-30T03:46:58.002093Z",
     "iopub.status.idle": "2022-08-30T03:46:58.005516Z",
     "shell.execute_reply": "2022-08-30T03:46:58.006063Z"
    },
    "papermill": {
     "duration": 0.018951,
     "end_time": "2022-08-30T03:46:58.006181",
     "exception": false,
     "start_time": "2022-08-30T03:46:57.987230",
     "status": "completed"
    },
    "tags": []
   },
   "outputs": [
    {
     "data": {
      "text/markdown": [
       "- Cardano surpasses Bitcoin in global most friendly brands.  Blockchain developer Cardano represents the top-ranked crypto space in a new report on global brand affinity. According to a report by brand relations agency MBLM, Cardano ranks 26th out of 600 brands and the top spot in the crypto industry. According to the report, brand affinity refers to the emotional connections that brands can form [&#8230;] ... [| Skaityti daugiau](https://coinnounce.com/cardano-surpasses-bitcoin-in-global-most-friendly-brands/) "
      ],
      "text/plain": [
       "<IPython.core.display.Markdown object>"
      ]
     },
     "execution_count": 8,
     "metadata": {},
     "output_type": "execute_result"
    }
   ],
   "source": [
    "#hide_input\n",
    "#md('##### {}'.format(titleBTC)) \n",
    "md(\"- {}{} {}{} [| Skaityti daugiau]({}) \".format(ada['title'],'. ', ada['body'], ' ...', ada['url']))"
   ]
  },
  {
   "cell_type": "code",
   "execution_count": 9,
   "id": "specified-ordering",
   "metadata": {
    "execution": {
     "iopub.execute_input": "2022-08-30T03:46:58.032502Z",
     "iopub.status.busy": "2022-08-30T03:46:58.031927Z",
     "iopub.status.idle": "2022-08-30T03:46:58.035879Z",
     "shell.execute_reply": "2022-08-30T03:46:58.035405Z"
    },
    "papermill": {
     "duration": 0.019037,
     "end_time": "2022-08-30T03:46:58.035982",
     "exception": false,
     "start_time": "2022-08-30T03:46:58.016945",
     "status": "completed"
    },
    "tags": []
   },
   "outputs": [
    {
     "data": {
      "text/markdown": [
       "- Binance and Virtuzone partner for crypto payments.  Virtuzone and Binance, the UAE&#8217;s main provider of institutional and business startup services, have partnered to enable crypto payments in the UAE through Binance Pay.With this, Virtuzone has become the first company in the country to accept crypto payments for business setup via Binance Pay, Coin Journal learned from a press release. Reducing barriers to [&#8230;] ... [| Skaityti daugiau](https://coinnounce.com/binance-and-virtuzone-partner-for-crypto-payments/) "
      ],
      "text/plain": [
       "<IPython.core.display.Markdown object>"
      ]
     },
     "execution_count": 9,
     "metadata": {},
     "output_type": "execute_result"
    }
   ],
   "source": [
    "#hide_input\n",
    "#md('##### {}'.format(titleBTC)) \n",
    "md(\"- {}{} {}{} [| Skaityti daugiau]({}) \".format(exchange['title'],'. ', exchange['body'], ' ...', exchange['url']))"
   ]
  },
  {
   "cell_type": "code",
   "execution_count": null,
   "id": "tender-livestock",
   "metadata": {
    "papermill": {
     "duration": 0.011096,
     "end_time": "2022-08-30T03:46:58.058046",
     "exception": false,
     "start_time": "2022-08-30T03:46:58.046950",
     "status": "completed"
    },
    "tags": []
   },
   "outputs": [],
   "source": []
  },
  {
   "cell_type": "code",
   "execution_count": null,
   "id": "appreciated-diamond",
   "metadata": {
    "papermill": {
     "duration": 0.011032,
     "end_time": "2022-08-30T03:46:58.080232",
     "exception": false,
     "start_time": "2022-08-30T03:46:58.069200",
     "status": "completed"
    },
    "tags": []
   },
   "outputs": [],
   "source": []
  },
  {
   "cell_type": "code",
   "execution_count": null,
   "id": "romance-sweden",
   "metadata": {
    "papermill": {
     "duration": 0.010962,
     "end_time": "2022-08-30T03:46:58.102247",
     "exception": false,
     "start_time": "2022-08-30T03:46:58.091285",
     "status": "completed"
    },
    "tags": []
   },
   "outputs": [],
   "source": []
  },
  {
   "cell_type": "code",
   "execution_count": null,
   "id": "dietary-statistics",
   "metadata": {
    "papermill": {
     "duration": 0.010969,
     "end_time": "2022-08-30T03:46:58.124324",
     "exception": false,
     "start_time": "2022-08-30T03:46:58.113355",
     "status": "completed"
    },
    "tags": []
   },
   "outputs": [],
   "source": []
  }
 ],
 "metadata": {
  "kernelspec": {
   "display_name": "Python 3",
   "language": "python",
   "name": "python3"
  },
  "language_info": {
   "codemirror_mode": {
    "name": "ipython",
    "version": 3
   },
   "file_extension": ".py",
   "mimetype": "text/x-python",
   "name": "python",
   "nbconvert_exporter": "python",
   "pygments_lexer": "ipython3",
   "version": "3.6.15"
  },
  "papermill": {
   "default_parameters": {},
   "duration": 14.792377,
   "end_time": "2022-08-30T03:46:58.655026",
   "environment_variables": {},
   "exception": null,
   "input_path": "Market-News.ipynb",
   "output_path": "Market-News.ipynb",
   "parameters": {},
   "start_time": "2022-08-30T03:46:43.862649",
   "version": "2.2.2"
  }
 },
 "nbformat": 4,
 "nbformat_minor": 5
}