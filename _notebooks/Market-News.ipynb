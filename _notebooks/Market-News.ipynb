{
 "cells": [
  {
   "cell_type": "markdown",
   "id": "short-greensboro",
   "metadata": {
    "papermill": {
     "duration": 0.016377,
     "end_time": "2021-08-29T01:58:50.881336",
     "exception": false,
     "start_time": "2021-08-29T01:58:50.864959",
     "status": "completed"
    },
    "tags": []
   },
   "source": [
    "# Kriptovaliutų naujienos"
   ]
  },
  {
   "cell_type": "code",
   "execution_count": 1,
   "id": "functioning-knowing",
   "metadata": {
    "execution": {
     "iopub.execute_input": "2021-08-29T01:58:50.918295Z",
     "iopub.status.busy": "2021-08-29T01:58:50.917615Z",
     "iopub.status.idle": "2021-08-29T01:58:52.346407Z",
     "shell.execute_reply": "2021-08-29T01:58:52.347024Z"
    },
    "papermill": {
     "duration": 1.45293,
     "end_time": "2021-08-29T01:58:52.347213",
     "exception": false,
     "start_time": "2021-08-29T01:58:50.894283",
     "status": "completed"
    },
    "tags": []
   },
   "outputs": [],
   "source": [
    "#hide_input\n",
    "import warnings\n",
    "warnings.filterwarnings('ignore')\n",
    "from scripts.read_data import read_api\n",
    "from scripts.read_data import read_news\n",
    "from scripts.read_data import read_covid\n",
    "import matplotlib.pyplot as plt \n",
    "from IPython.display import Markdown as md"
   ]
  },
  {
   "cell_type": "code",
   "execution_count": 2,
   "id": "shared-acceptance",
   "metadata": {
    "execution": {
     "iopub.execute_input": "2021-08-29T01:58:52.378135Z",
     "iopub.status.busy": "2021-08-29T01:58:52.377047Z",
     "iopub.status.idle": "2021-08-29T01:59:00.535795Z",
     "shell.execute_reply": "2021-08-29T01:59:00.534843Z"
    },
    "papermill": {
     "duration": 8.17623,
     "end_time": "2021-08-29T01:59:00.535940",
     "exception": false,
     "start_time": "2021-08-29T01:58:52.359710",
     "status": "completed"
    },
    "tags": []
   },
   "outputs": [],
   "source": [
    "#hide_input\n",
    "blockchain = read_news('blockchain') \n",
    "btc = read_news('btc') \n",
    "xrp = read_news('xrp') \n",
    "trx = read_news('trx') \n",
    "eth = read_news('eth')  \n",
    "ada = read_news('ada')\n",
    "exchange = read_news('exchange') "
   ]
  },
  {
   "cell_type": "code",
   "execution_count": 3,
   "id": "synthetic-notion",
   "metadata": {
    "execution": {
     "iopub.execute_input": "2021-08-29T01:59:00.565471Z",
     "iopub.status.busy": "2021-08-29T01:59:00.562915Z",
     "iopub.status.idle": "2021-08-29T01:59:00.568501Z",
     "shell.execute_reply": "2021-08-29T01:59:00.569095Z"
    },
    "papermill": {
     "duration": 0.020811,
     "end_time": "2021-08-29T01:59:00.569236",
     "exception": false,
     "start_time": "2021-08-29T01:59:00.548425",
     "status": "completed"
    },
    "tags": []
   },
   "outputs": [
    {
     "data": {
      "text/markdown": [
       "- Cardano Enters ‘Final, Critical Stage’ Prior to Alonzo Upgrade Next Month: IOHK.  Cardano has entered the &#8220;final, critical stage&#8221; prior to the platform’s much-publicized Alonzo upgrade, according to blockchain research and engineering company Input Output Hong Kong (IOHK). IOHK has submitted an upgrade proposal to the Cardano testnet to &#8220;hardfork the chain into the Alonzo era,&#8221; according to a Twitter post from the company. The Cardano (ADA) [&#8230;]The post Cardano Enters ‘Final, Critical Stage’ Prior to Alonzo Upgrade Next Month: IOHK appeared first on The Daily Hodl. ... [| Skaityti daugiau](https://dailyhodl.com/2021/08/28/cardano-enters-final-critical-stage-prior-to-alonzo-upgrade-next-month-iohk/) "
      ],
      "text/plain": [
       "<IPython.core.display.Markdown object>"
      ]
     },
     "execution_count": 3,
     "metadata": {},
     "output_type": "execute_result"
    }
   ],
   "source": [
    "#hide_input\n",
    "#md('##### {}'.format(titleBTC)) \n",
    "md(\"- {}{} {}{} [| Skaityti daugiau]({}) \".format(blockchain['title'],'. ', blockchain['body'], ' ...', blockchain['url']))"
   ]
  },
  {
   "cell_type": "code",
   "execution_count": 4,
   "id": "aging-caution",
   "metadata": {
    "execution": {
     "iopub.execute_input": "2021-08-29T01:59:00.598211Z",
     "iopub.status.busy": "2021-08-29T01:59:00.597556Z",
     "iopub.status.idle": "2021-08-29T01:59:00.601403Z",
     "shell.execute_reply": "2021-08-29T01:59:00.600822Z"
    },
    "papermill": {
     "duration": 0.022782,
     "end_time": "2021-08-29T01:59:00.603492",
     "exception": false,
     "start_time": "2021-08-29T01:59:00.580710",
     "status": "completed"
    },
    "tags": []
   },
   "outputs": [
    {
     "data": {
      "text/markdown": [
       "- Bitcoin price analysis: BTC to retest $50,000.   TL;DR Breakdown Bitcoin price analysis reveals that the cryptocurrency is ready to retest $50,000 high.Support is currently found at the $49,200 mark.Resistance is currently found at the $49,550 mark. Bitcoin price analysis reveals that the king of cryptocurrency has now gathered enough support to retest the $50,000 high. At the time of writing, Bitcoin price has risen up to the $49,500 mark in a flash rise from the $49,200 range. The king of cryptocurrency is trading 0.37 percent in gains in the past 24-hours and over one percent in gains during the past seven days. BTC/USD 1-day price chart reveals newly found support levels The 1-day Bitcoin price analysis candlestick chart reveals that the volatility is decreasing compared to the past week, and the king has found some good support. The upper Bollinger band limit is found at the $50,868 level, serving as the strongest resistance at the time of writing. Whereas the lower Bollinger band is found at the $43,932 mark, serving as the strongest support point at the time of writing. The nine-day moving average (SMA 9) and the Bollinger bands&#8217; average are serving as good support points at $48,771 and $47,400 marks, respectively. BTC/USD 1-day candlestick price chart. Source: Trading View The relative strength index (RSI) is currently hovering near the 60s with a score of 62.17, which is well below the overbought zone and providing a cushion for buyers to push the price above... ... [| Skaityti daugiau](https://api.follow.it/track-rss-story-click/v3/tHfgumto13AsKifEvkezAagHTd9OkkKt) "
      ],
      "text/plain": [
       "<IPython.core.display.Markdown object>"
      ]
     },
     "execution_count": 4,
     "metadata": {},
     "output_type": "execute_result"
    }
   ],
   "source": [
    "#hide_input\n",
    "#md('##### {}'.format(titleBTC)) \n",
    "md(\"- {}{} {}{} [| Skaityti daugiau]({}) \".format(btc['title'],'. ', btc['body'], ' ...', btc['url']))"
   ]
  },
  {
   "cell_type": "code",
   "execution_count": 5,
   "id": "organic-actress",
   "metadata": {
    "execution": {
     "iopub.execute_input": "2021-08-29T01:59:00.632272Z",
     "iopub.status.busy": "2021-08-29T01:59:00.631149Z",
     "iopub.status.idle": "2021-08-29T01:59:00.637717Z",
     "shell.execute_reply": "2021-08-29T01:59:00.636447Z"
    },
    "papermill": {
     "duration": 0.022246,
     "end_time": "2021-08-29T01:59:00.637850",
     "exception": false,
     "start_time": "2021-08-29T01:59:00.615604",
     "status": "completed"
    },
    "tags": []
   },
   "outputs": [
    {
     "data": {
      "text/markdown": [
       "- XRP Price on the Brink of a breakout! 30% Surge Might be Imminent !.  The post XRP Price on the Brink of a breakout! 30% Surge Might be Imminent ! appeared first on Coinpedia - Fintech &amp; Cryptocurreny News Media| Crypto GuideBitcoin and Ethereum are cementing support to retest crucial levels. The broader crypto market is on the rise too. Along with the altcoin market printing reasonable gains is the prominent token XRP. The token is trading at $1.15 up by 0.8% in the last 24 hours. In the last 24 hours, XRP has ranged from &#8230; ... [| Skaityti daugiau](https://coinpedia.org/price-analysis/xrp-price-on-the-brink-of-a-breakout-30-surge-might-be-imminent/) "
      ],
      "text/plain": [
       "<IPython.core.display.Markdown object>"
      ]
     },
     "execution_count": 5,
     "metadata": {},
     "output_type": "execute_result"
    }
   ],
   "source": [
    "#hide_input\n",
    "#md('##### {}'.format(titleBTC)) \n",
    "md(\"- {}{} {}{} [| Skaityti daugiau]({}) \".format(xrp['title'],'. ', xrp['body'], ' ...', xrp['url']))"
   ]
  },
  {
   "cell_type": "code",
   "execution_count": 6,
   "id": "prompt-farmer",
   "metadata": {
    "execution": {
     "iopub.execute_input": "2021-08-29T01:59:00.667622Z",
     "iopub.status.busy": "2021-08-29T01:59:00.666910Z",
     "iopub.status.idle": "2021-08-29T01:59:00.670235Z",
     "shell.execute_reply": "2021-08-29T01:59:00.669678Z"
    },
    "papermill": {
     "duration": 0.02015,
     "end_time": "2021-08-29T01:59:00.670365",
     "exception": false,
     "start_time": "2021-08-29T01:59:00.650215",
     "status": "completed"
    },
    "tags": []
   },
   "outputs": [
    {
     "data": {
      "text/markdown": [
       "- Bitcoin Cash, Tron, Filecoin Price Analysis: 28 August.  Bitcoin and Ethereum’s price action impacted most altcoins positively. Some altcoins, however, showed consolidation despite broader market gains. Filecoin, for instance, gained minorly and observed range-bound movement between $75.17 and $70.01 price levels. Bitcoin Cash gained 3.5% and could test the $672.68 price ceiling while TRON presented a buy signal after gaining by 3.3%. Bitcoin [&#8230;] ... [| Skaityti daugiau](https://ambcrypto.com/bitcoin-cash-tron-filecoin-price-analysis-28-august/) "
      ],
      "text/plain": [
       "<IPython.core.display.Markdown object>"
      ]
     },
     "execution_count": 6,
     "metadata": {},
     "output_type": "execute_result"
    }
   ],
   "source": [
    "#hide_input\n",
    "#md('##### {}'.format(titleBTC)) \n",
    "md(\"- {}{} {}{} [| Skaityti daugiau]({}) \".format(trx['title'],'. ', trx['body'], ' ...', trx['url']))"
   ]
  },
  {
   "cell_type": "code",
   "execution_count": 7,
   "id": "illegal-greece",
   "metadata": {
    "execution": {
     "iopub.execute_input": "2021-08-29T01:59:00.701657Z",
     "iopub.status.busy": "2021-08-29T01:59:00.700451Z",
     "iopub.status.idle": "2021-08-29T01:59:00.704534Z",
     "shell.execute_reply": "2021-08-29T01:59:00.705124Z"
    },
    "papermill": {
     "duration": 0.021442,
     "end_time": "2021-08-29T01:59:00.705261",
     "exception": false,
     "start_time": "2021-08-29T01:59:00.683819",
     "status": "completed"
    },
    "tags": []
   },
   "outputs": [
    {
     "data": {
      "text/markdown": [
       "- XRP Price on the Brink of a breakout! 30% Surge Might be Imminent !.  The post XRP Price on the Brink of a breakout! 30% Surge Might be Imminent ! appeared first on Coinpedia - Fintech &amp; Cryptocurreny News Media| Crypto GuideBitcoin and Ethereum are cementing support to retest crucial levels. The broader crypto market is on the rise too. Along with the altcoin market printing reasonable gains is the prominent token XRP. The token is trading at $1.15 up by 0.8% in the last 24 hours. In the last 24 hours, XRP has ranged from &#8230; ... [| Skaityti daugiau](https://coinpedia.org/price-analysis/xrp-price-on-the-brink-of-a-breakout-30-surge-might-be-imminent/) "
      ],
      "text/plain": [
       "<IPython.core.display.Markdown object>"
      ]
     },
     "execution_count": 7,
     "metadata": {},
     "output_type": "execute_result"
    }
   ],
   "source": [
    "#hide_input\n",
    "#md('##### {}'.format(titleBTC)) \n",
    "md(\"- {}{} {}{} [| Skaityti daugiau]({}) \".format(eth['title'],'. ', eth['body'], ' ...', eth['url']))"
   ]
  },
  {
   "cell_type": "code",
   "execution_count": 8,
   "id": "sublime-lounge",
   "metadata": {
    "execution": {
     "iopub.execute_input": "2021-08-29T01:59:00.738430Z",
     "iopub.status.busy": "2021-08-29T01:59:00.737154Z",
     "iopub.status.idle": "2021-08-29T01:59:00.741332Z",
     "shell.execute_reply": "2021-08-29T01:59:00.740758Z"
    },
    "papermill": {
     "duration": 0.021801,
     "end_time": "2021-08-29T01:59:00.741456",
     "exception": false,
     "start_time": "2021-08-29T01:59:00.719655",
     "status": "completed"
    },
    "tags": []
   },
   "outputs": [
    {
     "data": {
      "text/markdown": [
       "- Smart Contracts Ready to Launch, Is Cardano Price Massive Rally On Horizon?.  The post Smart Contracts Ready to Launch, Is Cardano Price Massive Rally On Horizon? appeared first on Coinpedia - Fintech &amp; Cryptocurreny News Media| Crypto GuideSince the beginning of the month, Cardano Price has more than doubled. The asset appeared to be on its way to $3 after gaining nearly 15% over the course of the week. Cardanos ADA has been on a tear in the last month, heading for $3. Despite failing to achieve this level, ADA has established &#8230; ... [| Skaityti daugiau](https://coinpedia.org/altcoin/smart-contracts-ready-to-launch-is-cardano-price-massive-rally-on-horizon/) "
      ],
      "text/plain": [
       "<IPython.core.display.Markdown object>"
      ]
     },
     "execution_count": 8,
     "metadata": {},
     "output_type": "execute_result"
    }
   ],
   "source": [
    "#hide_input\n",
    "#md('##### {}'.format(titleBTC)) \n",
    "md(\"- {}{} {}{} [| Skaityti daugiau]({}) \".format(ada['title'],'. ', ada['body'], ' ...', ada['url']))"
   ]
  },
  {
   "cell_type": "code",
   "execution_count": 9,
   "id": "specified-ordering",
   "metadata": {
    "execution": {
     "iopub.execute_input": "2021-08-29T01:59:00.774905Z",
     "iopub.status.busy": "2021-08-29T01:59:00.774261Z",
     "iopub.status.idle": "2021-08-29T01:59:00.777634Z",
     "shell.execute_reply": "2021-08-29T01:59:00.777078Z"
    },
    "papermill": {
     "duration": 0.022834,
     "end_time": "2021-08-29T01:59:00.777882",
     "exception": false,
     "start_time": "2021-08-29T01:59:00.755048",
     "status": "completed"
    },
    "tags": []
   },
   "outputs": [
    {
     "data": {
      "text/markdown": [
       "- 3 ways traders use Bitcoin futures to generate profit.  Most traders think futures contracts are only used to place ultra risky high leverage bets, but the instruments actually have a variety of uses.  ... [| Skaityti daugiau](https://cointelegraph.com/news/3-ways-traders-use-bitcoin-futures-to-generate-profit) "
      ],
      "text/plain": [
       "<IPython.core.display.Markdown object>"
      ]
     },
     "execution_count": 9,
     "metadata": {},
     "output_type": "execute_result"
    }
   ],
   "source": [
    "#hide_input\n",
    "#md('##### {}'.format(titleBTC)) \n",
    "md(\"- {}{} {}{} [| Skaityti daugiau]({}) \".format(exchange['title'],'. ', exchange['body'], ' ...', exchange['url']))"
   ]
  },
  {
   "cell_type": "code",
   "execution_count": null,
   "id": "tender-livestock",
   "metadata": {
    "papermill": {
     "duration": 0.013583,
     "end_time": "2021-08-29T01:59:00.805919",
     "exception": false,
     "start_time": "2021-08-29T01:59:00.792336",
     "status": "completed"
    },
    "tags": []
   },
   "outputs": [],
   "source": []
  },
  {
   "cell_type": "code",
   "execution_count": null,
   "id": "appreciated-diamond",
   "metadata": {
    "papermill": {
     "duration": 0.013992,
     "end_time": "2021-08-29T01:59:00.833817",
     "exception": false,
     "start_time": "2021-08-29T01:59:00.819825",
     "status": "completed"
    },
    "tags": []
   },
   "outputs": [],
   "source": []
  },
  {
   "cell_type": "code",
   "execution_count": null,
   "id": "romance-sweden",
   "metadata": {
    "papermill": {
     "duration": 0.014336,
     "end_time": "2021-08-29T01:59:00.862577",
     "exception": false,
     "start_time": "2021-08-29T01:59:00.848241",
     "status": "completed"
    },
    "tags": []
   },
   "outputs": [],
   "source": []
  },
  {
   "cell_type": "code",
   "execution_count": null,
   "id": "dietary-statistics",
   "metadata": {
    "papermill": {
     "duration": 0.014978,
     "end_time": "2021-08-29T01:59:00.892300",
     "exception": false,
     "start_time": "2021-08-29T01:59:00.877322",
     "status": "completed"
    },
    "tags": []
   },
   "outputs": [],
   "source": []
  }
 ],
 "metadata": {
  "kernelspec": {
   "display_name": "Python 3",
   "language": "python",
   "name": "python3"
  },
  "language_info": {
   "codemirror_mode": {
    "name": "ipython",
    "version": 3
   },
   "file_extension": ".py",
   "mimetype": "text/x-python",
   "name": "python",
   "nbconvert_exporter": "python",
   "pygments_lexer": "ipython3",
   "version": "3.6.14"
  },
  "papermill": {
   "default_parameters": {},
   "duration": 11.538835,
   "end_time": "2021-08-29T01:59:01.314796",
   "environment_variables": {},
   "exception": null,
   "input_path": "Market-News.ipynb",
   "output_path": "Market-News.ipynb",
   "parameters": {},
   "start_time": "2021-08-29T01:58:49.775961",
   "version": "2.2.2"
  }
 },
 "nbformat": 4,
 "nbformat_minor": 5
}