{
 "cells": [
  {
   "cell_type": "markdown",
   "id": "short-greensboro",
   "metadata": {
    "papermill": {
     "duration": 0.013078,
     "end_time": "2022-03-30T02:40:19.762029",
     "exception": false,
     "start_time": "2022-03-30T02:40:19.748951",
     "status": "completed"
    },
    "tags": []
   },
   "source": [
    "# Kriptovaliutų naujienos"
   ]
  },
  {
   "cell_type": "code",
   "execution_count": 1,
   "id": "functioning-knowing",
   "metadata": {
    "execution": {
     "iopub.execute_input": "2022-03-30T02:40:19.790775Z",
     "iopub.status.busy": "2022-03-30T02:40:19.790230Z",
     "iopub.status.idle": "2022-03-30T02:40:21.057817Z",
     "shell.execute_reply": "2022-03-30T02:40:21.057277Z"
    },
    "papermill": {
     "duration": 1.286263,
     "end_time": "2022-03-30T02:40:21.057974",
     "exception": false,
     "start_time": "2022-03-30T02:40:19.771711",
     "status": "completed"
    },
    "tags": []
   },
   "outputs": [],
   "source": [
    "#hide_input\n",
    "import warnings\n",
    "warnings.filterwarnings('ignore')\n",
    "from scripts.read_data import read_api\n",
    "from scripts.read_data import read_news\n",
    "from scripts.read_data import read_covid\n",
    "import matplotlib.pyplot as plt \n",
    "from IPython.display import Markdown as md"
   ]
  },
  {
   "cell_type": "code",
   "execution_count": 2,
   "id": "shared-acceptance",
   "metadata": {
    "execution": {
     "iopub.execute_input": "2022-03-30T02:40:21.084827Z",
     "iopub.status.busy": "2022-03-30T02:40:21.083874Z",
     "iopub.status.idle": "2022-03-30T02:40:30.834747Z",
     "shell.execute_reply": "2022-03-30T02:40:30.833812Z"
    },
    "papermill": {
     "duration": 9.766879,
     "end_time": "2022-03-30T02:40:30.834882",
     "exception": false,
     "start_time": "2022-03-30T02:40:21.068003",
     "status": "completed"
    },
    "tags": []
   },
   "outputs": [],
   "source": [
    "#hide_input\n",
    "blockchain = read_news('blockchain') \n",
    "btc = read_news('btc') \n",
    "xrp = read_news('xrp') \n",
    "trx = read_news('trx') \n",
    "eth = read_news('eth')  \n",
    "ada = read_news('ada')\n",
    "exchange = read_news('exchange') "
   ]
  },
  {
   "cell_type": "code",
   "execution_count": 3,
   "id": "synthetic-notion",
   "metadata": {
    "execution": {
     "iopub.execute_input": "2022-03-30T02:40:30.858981Z",
     "iopub.status.busy": "2022-03-30T02:40:30.858467Z",
     "iopub.status.idle": "2022-03-30T02:40:30.862600Z",
     "shell.execute_reply": "2022-03-30T02:40:30.862187Z"
    },
    "papermill": {
     "duration": 0.018524,
     "end_time": "2022-03-30T02:40:30.862707",
     "exception": false,
     "start_time": "2022-03-30T02:40:30.844183",
     "status": "completed"
    },
    "tags": []
   },
   "outputs": [
    {
     "data": {
      "text/markdown": [
       "- $540 Million Worth of ‘Sleeping Bitcoins’ From 2014 Move — BTC Possibly Linked to Cryptsy Theft.  On March 29, blockchain parsers caught a sequence of 11 transactions totaling 11,325 bitcoin moving from unknown wallets created in 2014, to a great number of recipient addresses. Furthermore, the stash of bitcoin worth $540 million today is possibly linked to the Cryptsy theft, according to onchain analytics. 11,325 Bitcoins Move From Dormant 2014 Addresses, [&#8230;] ... [| Skaityti daugiau](https://news.bitcoin.com/540-million-sleeping-bitcoins-2014-move-btc-possibly-linked-to-cryptsy-theft/) "
      ],
      "text/plain": [
       "<IPython.core.display.Markdown object>"
      ]
     },
     "execution_count": 3,
     "metadata": {},
     "output_type": "execute_result"
    }
   ],
   "source": [
    "#hide_input\n",
    "#md('##### {}'.format(titleBTC)) \n",
    "md(\"- {}{} {}{} [| Skaityti daugiau]({}) \".format(blockchain['title'],'. ', blockchain['body'], ' ...', blockchain['url']))"
   ]
  },
  {
   "cell_type": "code",
   "execution_count": 4,
   "id": "aging-caution",
   "metadata": {
    "execution": {
     "iopub.execute_input": "2022-03-30T02:40:30.885638Z",
     "iopub.status.busy": "2022-03-30T02:40:30.885123Z",
     "iopub.status.idle": "2022-03-30T02:40:30.888139Z",
     "shell.execute_reply": "2022-03-30T02:40:30.887736Z"
    },
    "papermill": {
     "duration": 0.016368,
     "end_time": "2022-03-30T02:40:30.888239",
     "exception": false,
     "start_time": "2022-03-30T02:40:30.871871",
     "status": "completed"
    },
    "tags": []
   },
   "outputs": [
    {
     "data": {
      "text/markdown": [
       "- Amid stiff competition, Bitcoin outshines others to gather $97.8 million in inflows.  In the past 24 hours, the total transaction volume of cryptocurrency had exceeded $100 billion. This marked an increase of 63.07% over the previous day. The total market value, at press time, is $2.12 trillion, a month-on-month increase of 4.75%. Such a bullish trigger incorporated an impressive institutional inflow across different digital assets. What a [&#8230;] ... [| Skaityti daugiau](https://ambcrypto.com/amid-stiff-competition-bitcoin-outshines-others-to-gather-97-8-million-in-inflows/) "
      ],
      "text/plain": [
       "<IPython.core.display.Markdown object>"
      ]
     },
     "execution_count": 4,
     "metadata": {},
     "output_type": "execute_result"
    }
   ],
   "source": [
    "#hide_input\n",
    "#md('##### {}'.format(titleBTC)) \n",
    "md(\"- {}{} {}{} [| Skaityti daugiau]({}) \".format(btc['title'],'. ', btc['body'], ' ...', btc['url']))"
   ]
  },
  {
   "cell_type": "code",
   "execution_count": 5,
   "id": "organic-actress",
   "metadata": {
    "execution": {
     "iopub.execute_input": "2022-03-30T02:40:30.911420Z",
     "iopub.status.busy": "2022-03-30T02:40:30.910877Z",
     "iopub.status.idle": "2022-03-30T02:40:30.913917Z",
     "shell.execute_reply": "2022-03-30T02:40:30.913518Z"
    },
    "papermill": {
     "duration": 0.016353,
     "end_time": "2022-03-30T02:40:30.914015",
     "exception": false,
     "start_time": "2022-03-30T02:40:30.897662",
     "status": "completed"
    },
    "tags": []
   },
   "outputs": [
    {
     "data": {
      "text/markdown": [
       "- XRP Creator Chris Larsen Launches Crusade Aimed At Changing Bitcoin’s Code.  “Now with Ethereum changing, Bitcoin really is the outlier. Some of the newer protocols, Solana and Cardano are built on low energy,” the XRP creator told Bloomberg. ... [| Skaityti daugiau](https://zycrypto.com/xrp-creator-chris-larsen-launches-crusade-aimed-at-changing-bitcoins-code/) "
      ],
      "text/plain": [
       "<IPython.core.display.Markdown object>"
      ]
     },
     "execution_count": 5,
     "metadata": {},
     "output_type": "execute_result"
    }
   ],
   "source": [
    "#hide_input\n",
    "#md('##### {}'.format(titleBTC)) \n",
    "md(\"- {}{} {}{} [| Skaityti daugiau]({}) \".format(xrp['title'],'. ', xrp['body'], ' ...', xrp['url']))"
   ]
  },
  {
   "cell_type": "code",
   "execution_count": 6,
   "id": "prompt-farmer",
   "metadata": {
    "execution": {
     "iopub.execute_input": "2022-03-30T02:40:30.937918Z",
     "iopub.status.busy": "2022-03-30T02:40:30.937419Z",
     "iopub.status.idle": "2022-03-30T02:40:30.940586Z",
     "shell.execute_reply": "2022-03-30T02:40:30.940134Z"
    },
    "papermill": {
     "duration": 0.016923,
     "end_time": "2022-03-30T02:40:30.940685",
     "exception": false,
     "start_time": "2022-03-30T02:40:30.923762",
     "status": "completed"
    },
    "tags": []
   },
   "outputs": [
    {
     "data": {
      "text/markdown": [
       "- USDT circulation on TRON dwarfs Ethereum’s surpassing $40 billion.  The Tron (TRX) network has been measuring some impressive results in the past few months. One of them is the...  Continue reading  The post USDT circulation on TRON dwarfs Ethereum&#8217;s surpassing $40 billion appeared first on Finbold. ... [| Skaityti daugiau](https://finbold.com/usdt-circulation-on-tron-dwarfs-ethereums-surpassing-40-billion/) "
      ],
      "text/plain": [
       "<IPython.core.display.Markdown object>"
      ]
     },
     "execution_count": 6,
     "metadata": {},
     "output_type": "execute_result"
    }
   ],
   "source": [
    "#hide_input\n",
    "#md('##### {}'.format(titleBTC)) \n",
    "md(\"- {}{} {}{} [| Skaityti daugiau]({}) \".format(trx['title'],'. ', trx['body'], ' ...', trx['url']))"
   ]
  },
  {
   "cell_type": "code",
   "execution_count": 7,
   "id": "illegal-greece",
   "metadata": {
    "execution": {
     "iopub.execute_input": "2022-03-30T02:40:30.965394Z",
     "iopub.status.busy": "2022-03-30T02:40:30.964891Z",
     "iopub.status.idle": "2022-03-30T02:40:30.967479Z",
     "shell.execute_reply": "2022-03-30T02:40:30.967856Z"
    },
    "papermill": {
     "duration": 0.016998,
     "end_time": "2022-03-30T02:40:30.967968",
     "exception": false,
     "start_time": "2022-03-30T02:40:30.950970",
     "status": "completed"
    },
    "tags": []
   },
   "outputs": [
    {
     "data": {
      "text/markdown": [
       "- Amid stiff competition, Bitcoin outshines others to gather $97.8 million in inflows.  In the past 24 hours, the total transaction volume of cryptocurrency had exceeded $100 billion. This marked an increase of 63.07% over the previous day. The total market value, at press time, is $2.12 trillion, a month-on-month increase of 4.75%. Such a bullish trigger incorporated an impressive institutional inflow across different digital assets. What a [&#8230;] ... [| Skaityti daugiau](https://ambcrypto.com/amid-stiff-competition-bitcoin-outshines-others-to-gather-97-8-million-in-inflows/) "
      ],
      "text/plain": [
       "<IPython.core.display.Markdown object>"
      ]
     },
     "execution_count": 7,
     "metadata": {},
     "output_type": "execute_result"
    }
   ],
   "source": [
    "#hide_input\n",
    "#md('##### {}'.format(titleBTC)) \n",
    "md(\"- {}{} {}{} [| Skaityti daugiau]({}) \".format(eth['title'],'. ', eth['body'], ' ...', eth['url']))"
   ]
  },
  {
   "cell_type": "code",
   "execution_count": 8,
   "id": "sublime-lounge",
   "metadata": {
    "execution": {
     "iopub.execute_input": "2022-03-30T02:40:30.992864Z",
     "iopub.status.busy": "2022-03-30T02:40:30.992357Z",
     "iopub.status.idle": "2022-03-30T02:40:30.995331Z",
     "shell.execute_reply": "2022-03-30T02:40:30.994933Z"
    },
    "papermill": {
     "duration": 0.017101,
     "end_time": "2022-03-30T02:40:30.995429",
     "exception": false,
     "start_time": "2022-03-30T02:40:30.978328",
     "status": "completed"
    },
    "tags": []
   },
   "outputs": [
    {
     "data": {
      "text/markdown": [
       "- 'Institutional demand' as large transactions on Cardano up 50X in 2022.  Large Transaction Volume on Cardano has exploded in 2022, suggesting that there is now institutional demand for the blockchain network. ... [| Skaityti daugiau](https://cointelegraph.com/news/institutional-demand-as-large-transactions-on-cardano-up-50x-in-2022) "
      ],
      "text/plain": [
       "<IPython.core.display.Markdown object>"
      ]
     },
     "execution_count": 8,
     "metadata": {},
     "output_type": "execute_result"
    }
   ],
   "source": [
    "#hide_input\n",
    "#md('##### {}'.format(titleBTC)) \n",
    "md(\"- {}{} {}{} [| Skaityti daugiau]({}) \".format(ada['title'],'. ', ada['body'], ' ...', ada['url']))"
   ]
  },
  {
   "cell_type": "code",
   "execution_count": 9,
   "id": "specified-ordering",
   "metadata": {
    "execution": {
     "iopub.execute_input": "2022-03-30T02:40:31.021188Z",
     "iopub.status.busy": "2022-03-30T02:40:31.020687Z",
     "iopub.status.idle": "2022-03-30T02:40:31.023881Z",
     "shell.execute_reply": "2022-03-30T02:40:31.023458Z"
    },
    "papermill": {
     "duration": 0.017784,
     "end_time": "2022-03-30T02:40:31.023974",
     "exception": false,
     "start_time": "2022-03-30T02:40:31.006190",
     "status": "completed"
    },
    "tags": []
   },
   "outputs": [
    {
     "data": {
      "text/markdown": [
       "- Binance Unveils New Channel To Convert Ether Tokens To BEP20 Tokens.  Binance is taking its first step to scaling its BNB Smart Chain to support multiple blockchains. Binance announced that it has reworked its previously decommissioned cross-bridge platform Binance Bridge, now naming it Binance Bridge 2.0. Binance Bridge 2.0 launches within the Binance app In a press release today, the global company revealed that Binance Bridge The post Binance Unveils New Channel To Convert Ether Tokens To BEP20 Tokens appeared first on CoinGape. ... [| Skaityti daugiau](https://coingape.com/binance-unveils-new-channel-to-convert-ether-tokens-to-bep20-tokens/) "
      ],
      "text/plain": [
       "<IPython.core.display.Markdown object>"
      ]
     },
     "execution_count": 9,
     "metadata": {},
     "output_type": "execute_result"
    }
   ],
   "source": [
    "#hide_input\n",
    "#md('##### {}'.format(titleBTC)) \n",
    "md(\"- {}{} {}{} [| Skaityti daugiau]({}) \".format(exchange['title'],'. ', exchange['body'], ' ...', exchange['url']))"
   ]
  },
  {
   "cell_type": "code",
   "execution_count": null,
   "id": "tender-livestock",
   "metadata": {
    "papermill": {
     "duration": 0.010916,
     "end_time": "2022-03-30T02:40:31.045858",
     "exception": false,
     "start_time": "2022-03-30T02:40:31.034942",
     "status": "completed"
    },
    "tags": []
   },
   "outputs": [],
   "source": []
  },
  {
   "cell_type": "code",
   "execution_count": null,
   "id": "appreciated-diamond",
   "metadata": {
    "papermill": {
     "duration": 0.010933,
     "end_time": "2022-03-30T02:40:31.067913",
     "exception": false,
     "start_time": "2022-03-30T02:40:31.056980",
     "status": "completed"
    },
    "tags": []
   },
   "outputs": [],
   "source": []
  },
  {
   "cell_type": "code",
   "execution_count": null,
   "id": "romance-sweden",
   "metadata": {
    "papermill": {
     "duration": 0.010957,
     "end_time": "2022-03-30T02:40:31.090818",
     "exception": false,
     "start_time": "2022-03-30T02:40:31.079861",
     "status": "completed"
    },
    "tags": []
   },
   "outputs": [],
   "source": []
  },
  {
   "cell_type": "code",
   "execution_count": null,
   "id": "dietary-statistics",
   "metadata": {
    "papermill": {
     "duration": 0.010997,
     "end_time": "2022-03-30T02:40:31.113009",
     "exception": false,
     "start_time": "2022-03-30T02:40:31.102012",
     "status": "completed"
    },
    "tags": []
   },
   "outputs": [],
   "source": []
  }
 ],
 "metadata": {
  "kernelspec": {
   "display_name": "Python 3",
   "language": "python",
   "name": "python3"
  },
  "language_info": {
   "codemirror_mode": {
    "name": "ipython",
    "version": 3
   },
   "file_extension": ".py",
   "mimetype": "text/x-python",
   "name": "python",
   "nbconvert_exporter": "python",
   "pygments_lexer": "ipython3",
   "version": "3.6.15"
  },
  "papermill": {
   "default_parameters": {},
   "duration": 12.719586,
   "end_time": "2022-03-30T02:40:31.542610",
   "environment_variables": {},
   "exception": null,
   "input_path": "Market-News.ipynb",
   "output_path": "Market-News.ipynb",
   "parameters": {},
   "start_time": "2022-03-30T02:40:18.823024",
   "version": "2.2.2"
  }
 },
 "nbformat": 4,
 "nbformat_minor": 5
}