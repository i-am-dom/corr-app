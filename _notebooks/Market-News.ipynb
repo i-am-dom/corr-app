{
 "cells": [
  {
   "cell_type": "markdown",
   "id": "short-greensboro",
   "metadata": {
    "papermill": {
     "duration": 0.012536,
     "end_time": "2021-12-26T02:08:28.533875",
     "exception": false,
     "start_time": "2021-12-26T02:08:28.521339",
     "status": "completed"
    },
    "tags": []
   },
   "source": [
    "# Kriptovaliutų naujienos"
   ]
  },
  {
   "cell_type": "code",
   "execution_count": 1,
   "id": "functioning-knowing",
   "metadata": {
    "execution": {
     "iopub.execute_input": "2021-12-26T02:08:28.564205Z",
     "iopub.status.busy": "2021-12-26T02:08:28.563616Z",
     "iopub.status.idle": "2021-12-26T02:08:29.852010Z",
     "shell.execute_reply": "2021-12-26T02:08:29.851413Z"
    },
    "papermill": {
     "duration": 1.308583,
     "end_time": "2021-12-26T02:08:29.852172",
     "exception": false,
     "start_time": "2021-12-26T02:08:28.543589",
     "status": "completed"
    },
    "tags": []
   },
   "outputs": [],
   "source": [
    "#hide_input\n",
    "import warnings\n",
    "warnings.filterwarnings('ignore')\n",
    "from scripts.read_data import read_api\n",
    "from scripts.read_data import read_news\n",
    "from scripts.read_data import read_covid\n",
    "import matplotlib.pyplot as plt \n",
    "from IPython.display import Markdown as md"
   ]
  },
  {
   "cell_type": "code",
   "execution_count": 2,
   "id": "shared-acceptance",
   "metadata": {
    "execution": {
     "iopub.execute_input": "2021-12-26T02:08:29.878354Z",
     "iopub.status.busy": "2021-12-26T02:08:29.877819Z",
     "iopub.status.idle": "2021-12-26T02:08:38.988792Z",
     "shell.execute_reply": "2021-12-26T02:08:38.987882Z"
    },
    "papermill": {
     "duration": 9.126432,
     "end_time": "2021-12-26T02:08:38.988936",
     "exception": false,
     "start_time": "2021-12-26T02:08:29.862504",
     "status": "completed"
    },
    "tags": []
   },
   "outputs": [],
   "source": [
    "#hide_input\n",
    "blockchain = read_news('blockchain') \n",
    "btc = read_news('btc') \n",
    "xrp = read_news('xrp') \n",
    "trx = read_news('trx') \n",
    "eth = read_news('eth')  \n",
    "ada = read_news('ada')\n",
    "exchange = read_news('exchange') "
   ]
  },
  {
   "cell_type": "code",
   "execution_count": 3,
   "id": "synthetic-notion",
   "metadata": {
    "execution": {
     "iopub.execute_input": "2021-12-26T02:08:39.013421Z",
     "iopub.status.busy": "2021-12-26T02:08:39.012910Z",
     "iopub.status.idle": "2021-12-26T02:08:39.016978Z",
     "shell.execute_reply": "2021-12-26T02:08:39.016577Z"
    },
    "papermill": {
     "duration": 0.018405,
     "end_time": "2021-12-26T02:08:39.017083",
     "exception": false,
     "start_time": "2021-12-26T02:08:38.998678",
     "status": "completed"
    },
    "tags": []
   },
   "outputs": [
    {
     "data": {
      "text/markdown": [
       "- What is a honeypot crypto scam and how to spot it?.  A virtual trap to lure attackers so that you can improve security policies is what honeypot aims for! ... [| Skaityti daugiau](https://cointelegraph.com/news/what-is-a-honeypot-crypto-scam-and-how-to-spot-it) "
      ],
      "text/plain": [
       "<IPython.core.display.Markdown object>"
      ]
     },
     "execution_count": 3,
     "metadata": {},
     "output_type": "execute_result"
    }
   ],
   "source": [
    "#hide_input\n",
    "#md('##### {}'.format(titleBTC)) \n",
    "md(\"- {}{} {}{} [| Skaityti daugiau]({}) \".format(blockchain['title'],'. ', blockchain['body'], ' ...', blockchain['url']))"
   ]
  },
  {
   "cell_type": "code",
   "execution_count": 4,
   "id": "aging-caution",
   "metadata": {
    "execution": {
     "iopub.execute_input": "2021-12-26T02:08:39.040432Z",
     "iopub.status.busy": "2021-12-26T02:08:39.039785Z",
     "iopub.status.idle": "2021-12-26T02:08:39.042837Z",
     "shell.execute_reply": "2021-12-26T02:08:39.043277Z"
    },
    "papermill": {
     "duration": 0.017161,
     "end_time": "2021-12-26T02:08:39.043413",
     "exception": false,
     "start_time": "2021-12-26T02:08:39.026252",
     "status": "completed"
    },
    "tags": []
   },
   "outputs": [
    {
     "data": {
      "text/markdown": [
       "- Five Bitcoin Short Films For A Lazy Holiday Evening: Energy, Money, &… Basket?.  Happy Holidays from the NewsBTC team. We come bearing gifts. The cure for those suffering from cryptocurrency withdrawal syndrome. Spend the evening learning about Bitcoin in the most relaxed way possible. These five films were released throughout 2021 and contain the alpha everyone needs for the years ahead. At least the first four do, the fifth one has nothing to do with Bitcoin except for one small detail. Related Reading &#124; The First Interactive NFT in the World – VR Movie on Mars Our sister site Bitcoinist covered the films and most of the accompanying text comes from those articles. Is there a better time for these films to make an appearance in NewsBTC than this lazy evening? Grab your beverage of choice, heat up those leftovers, and hit play in the one that interests you the most. Chances are you’ll end up watching them all. Once again, happy holidays and happy watching! Bitcoin Short #1- “This Machine Greens” (38 mins) Is Bitcoin mining’s energy consumption a bug or a feature? This documentary’s “thesis is that the process is “a net positive for the environment.” The aim was to “dispels many of the misconceptions about Bitcoin mining.” Directed by Jamie King, of “Steal This Film” fame, and produced by Enrique Posner and Swan Bitcoin. From the Bitcoinist’s coverage, in Part 1 they focus on the Petrodollar system: “Watch “This Machine Greens” to learn how the US Military literally backs the Petrodollar. And, of cour... ... [| Skaityti daugiau](https://www.newsbtc.com/news/bitcoin/five-bitcoin-short-films-for-a-lazy-holiday-evening-energy-money-basket/) "
      ],
      "text/plain": [
       "<IPython.core.display.Markdown object>"
      ]
     },
     "execution_count": 4,
     "metadata": {},
     "output_type": "execute_result"
    }
   ],
   "source": [
    "#hide_input\n",
    "#md('##### {}'.format(titleBTC)) \n",
    "md(\"- {}{} {}{} [| Skaityti daugiau]({}) \".format(btc['title'],'. ', btc['body'], ' ...', btc['url']))"
   ]
  },
  {
   "cell_type": "code",
   "execution_count": 5,
   "id": "organic-actress",
   "metadata": {
    "execution": {
     "iopub.execute_input": "2021-12-26T02:08:39.066881Z",
     "iopub.status.busy": "2021-12-26T02:08:39.066381Z",
     "iopub.status.idle": "2021-12-26T02:08:39.069769Z",
     "shell.execute_reply": "2021-12-26T02:08:39.069367Z"
    },
    "papermill": {
     "duration": 0.01692,
     "end_time": "2021-12-26T02:08:39.069873",
     "exception": false,
     "start_time": "2021-12-26T02:08:39.052953",
     "status": "completed"
    },
    "tags": []
   },
   "outputs": [
    {
     "data": {
      "text/markdown": [
       "- Who Will Sustain Under Top 5, Solana (SOL) or Ripple (XRP)? Eco-Friendly Competition Underway!.  The post Who Will Sustain Under Top 5, Solana (SOL) or Ripple (XRP)? Eco-Friendly Competition Underway! appeared first on Coinpedia - Fintech &amp; Cryptocurreny News Media| Crypto GuideTwo chief altcoins Solana and Ripple are competing with each other to build eco-friendly blockchain technology. Amid rising global warming and pandemic there is a need for carbon-neutral technology. Hence, the majority of the cryptocurrencies are taking initiatives to lessen environmental impacts and accomplish Carbon neutrality as soon as possible.&#160; Ripple has taken XRP has &#8230; ... [| Skaityti daugiau](https://coinpedia.org/altcoin/who-will-sustain-under-top-5-solana-sol-or-ripple-xrp-eco-friendly-competition-underway/) "
      ],
      "text/plain": [
       "<IPython.core.display.Markdown object>"
      ]
     },
     "execution_count": 5,
     "metadata": {},
     "output_type": "execute_result"
    }
   ],
   "source": [
    "#hide_input\n",
    "#md('##### {}'.format(titleBTC)) \n",
    "md(\"- {}{} {}{} [| Skaityti daugiau]({}) \".format(xrp['title'],'. ', xrp['body'], ' ...', xrp['url']))"
   ]
  },
  {
   "cell_type": "code",
   "execution_count": 6,
   "id": "prompt-farmer",
   "metadata": {
    "execution": {
     "iopub.execute_input": "2021-12-26T02:08:39.094177Z",
     "iopub.status.busy": "2021-12-26T02:08:39.093677Z",
     "iopub.status.idle": "2021-12-26T02:08:39.096720Z",
     "shell.execute_reply": "2021-12-26T02:08:39.096295Z"
    },
    "papermill": {
     "duration": 0.017142,
     "end_time": "2021-12-26T02:08:39.096819",
     "exception": false,
     "start_time": "2021-12-26T02:08:39.079677",
     "status": "completed"
    },
    "tags": []
   },
   "outputs": [
    {
     "data": {
      "text/markdown": [
       "- MATIC, Binance Coin, Tron Price Analysis: 25 December.  As the recovery window opened up, Binance coin and Tron marked a decent recovery to reclaim their crucial support levels. On the other hand, MATIC entered into price discovery to poke its ATH on 23 December. MATIC As we saw in the previous article, after continuing its oscillation in an ascending triangle (yellow), MATIC finally [&#8230;] ... [| Skaityti daugiau](https://ambcrypto.com/matic-binance-coin-tron-price-analysis-25-december/) "
      ],
      "text/plain": [
       "<IPython.core.display.Markdown object>"
      ]
     },
     "execution_count": 6,
     "metadata": {},
     "output_type": "execute_result"
    }
   ],
   "source": [
    "#hide_input\n",
    "#md('##### {}'.format(titleBTC)) \n",
    "md(\"- {}{} {}{} [| Skaityti daugiau]({}) \".format(trx['title'],'. ', trx['body'], ' ...', trx['url']))"
   ]
  },
  {
   "cell_type": "code",
   "execution_count": 7,
   "id": "illegal-greece",
   "metadata": {
    "execution": {
     "iopub.execute_input": "2021-12-26T02:08:39.121531Z",
     "iopub.status.busy": "2021-12-26T02:08:39.120528Z",
     "iopub.status.idle": "2021-12-26T02:08:39.124003Z",
     "shell.execute_reply": "2021-12-26T02:08:39.124390Z"
    },
    "papermill": {
     "duration": 0.017355,
     "end_time": "2021-12-26T02:08:39.124513",
     "exception": false,
     "start_time": "2021-12-26T02:08:39.107158",
     "status": "completed"
    },
    "tags": []
   },
   "outputs": [
    {
     "data": {
      "text/markdown": [
       "- What is a honeypot crypto scam and how to spot it?.  A virtual trap to lure attackers so that you can improve security policies is what honeypot aims for! ... [| Skaityti daugiau](https://cointelegraph.com/news/what-is-a-honeypot-crypto-scam-and-how-to-spot-it) "
      ],
      "text/plain": [
       "<IPython.core.display.Markdown object>"
      ]
     },
     "execution_count": 7,
     "metadata": {},
     "output_type": "execute_result"
    }
   ],
   "source": [
    "#hide_input\n",
    "#md('##### {}'.format(titleBTC)) \n",
    "md(\"- {}{} {}{} [| Skaityti daugiau]({}) \".format(eth['title'],'. ', eth['body'], ' ...', eth['url']))"
   ]
  },
  {
   "cell_type": "code",
   "execution_count": 8,
   "id": "sublime-lounge",
   "metadata": {
    "execution": {
     "iopub.execute_input": "2021-12-26T02:08:39.150053Z",
     "iopub.status.busy": "2021-12-26T02:08:39.149556Z",
     "iopub.status.idle": "2021-12-26T02:08:39.152446Z",
     "shell.execute_reply": "2021-12-26T02:08:39.152829Z"
    },
    "papermill": {
     "duration": 0.017967,
     "end_time": "2021-12-26T02:08:39.152948",
     "exception": false,
     "start_time": "2021-12-26T02:08:39.134981",
     "status": "completed"
    },
    "tags": []
   },
   "outputs": [
    {
     "data": {
      "text/markdown": [
       "- Cardano (ADA) Price Poised For 500% Upswing To Hit $10 In 2022.  The post Cardano (ADA) Price Poised For 500% Upswing To Hit $10 In 2022 appeared first on Coinpedia - Fintech &amp; Cryptocurreny News Media| Crypto GuideOver the last two weeks, Cardano has created a base of support at $1.2 and has broken through the $1.3 range, which has provided significant resistance to the price recently. A longer-term trendline resistance, which dates back to early November, was also broken during this advance.&#160; The market capitalization of ADA increased by 5.02 percent, &#8230; ... [| Skaityti daugiau](https://coinpedia.org/altcoin/cardano-ada-price-poised-for-500-upswing-to-hit-10-in-2022/) "
      ],
      "text/plain": [
       "<IPython.core.display.Markdown object>"
      ]
     },
     "execution_count": 8,
     "metadata": {},
     "output_type": "execute_result"
    }
   ],
   "source": [
    "#hide_input\n",
    "#md('##### {}'.format(titleBTC)) \n",
    "md(\"- {}{} {}{} [| Skaityti daugiau]({}) \".format(ada['title'],'. ', ada['body'], ' ...', ada['url']))"
   ]
  },
  {
   "cell_type": "code",
   "execution_count": 9,
   "id": "specified-ordering",
   "metadata": {
    "execution": {
     "iopub.execute_input": "2021-12-26T02:08:39.179279Z",
     "iopub.status.busy": "2021-12-26T02:08:39.178777Z",
     "iopub.status.idle": "2021-12-26T02:08:39.181653Z",
     "shell.execute_reply": "2021-12-26T02:08:39.182037Z"
    },
    "papermill": {
     "duration": 0.01849,
     "end_time": "2021-12-26T02:08:39.182157",
     "exception": false,
     "start_time": "2021-12-26T02:08:39.163667",
     "status": "completed"
    },
    "tags": []
   },
   "outputs": [
    {
     "data": {
      "text/markdown": [
       "- CryptoCom CEO Slams CoinMarketCap for Misreporting Exchange Trading Volumes.  The CEO of CryptoCom slammed CoinMarketCap for failing to report their exchange trading volume accurately. ... [| Skaityti daugiau](https://cryptopotato.com/cryptocom-ceo-slams-coinmarketcap-for-misreporting-exchange-trading-volumes/) "
      ],
      "text/plain": [
       "<IPython.core.display.Markdown object>"
      ]
     },
     "execution_count": 9,
     "metadata": {},
     "output_type": "execute_result"
    }
   ],
   "source": [
    "#hide_input\n",
    "#md('##### {}'.format(titleBTC)) \n",
    "md(\"- {}{} {}{} [| Skaityti daugiau]({}) \".format(exchange['title'],'. ', exchange['body'], ' ...', exchange['url']))"
   ]
  },
  {
   "cell_type": "code",
   "execution_count": null,
   "id": "tender-livestock",
   "metadata": {
    "papermill": {
     "duration": 0.011065,
     "end_time": "2021-12-26T02:08:39.204377",
     "exception": false,
     "start_time": "2021-12-26T02:08:39.193312",
     "status": "completed"
    },
    "tags": []
   },
   "outputs": [],
   "source": []
  },
  {
   "cell_type": "code",
   "execution_count": null,
   "id": "appreciated-diamond",
   "metadata": {
    "papermill": {
     "duration": 0.011049,
     "end_time": "2021-12-26T02:08:39.226708",
     "exception": false,
     "start_time": "2021-12-26T02:08:39.215659",
     "status": "completed"
    },
    "tags": []
   },
   "outputs": [],
   "source": []
  },
  {
   "cell_type": "code",
   "execution_count": null,
   "id": "romance-sweden",
   "metadata": {
    "papermill": {
     "duration": 0.011026,
     "end_time": "2021-12-26T02:08:39.248886",
     "exception": false,
     "start_time": "2021-12-26T02:08:39.237860",
     "status": "completed"
    },
    "tags": []
   },
   "outputs": [],
   "source": []
  },
  {
   "cell_type": "code",
   "execution_count": null,
   "id": "dietary-statistics",
   "metadata": {
    "papermill": {
     "duration": 0.011023,
     "end_time": "2021-12-26T02:08:39.270966",
     "exception": false,
     "start_time": "2021-12-26T02:08:39.259943",
     "status": "completed"
    },
    "tags": []
   },
   "outputs": [],
   "source": []
  }
 ],
 "metadata": {
  "kernelspec": {
   "display_name": "Python 3",
   "language": "python",
   "name": "python3"
  },
  "language_info": {
   "codemirror_mode": {
    "name": "ipython",
    "version": 3
   },
   "file_extension": ".py",
   "mimetype": "text/x-python",
   "name": "python",
   "nbconvert_exporter": "python",
   "pygments_lexer": "ipython3",
   "version": "3.6.15"
  },
  "papermill": {
   "default_parameters": {},
   "duration": 12.202781,
   "end_time": "2021-12-26T02:08:39.790506",
   "environment_variables": {},
   "exception": null,
   "input_path": "Market-News.ipynb",
   "output_path": "Market-News.ipynb",
   "parameters": {},
   "start_time": "2021-12-26T02:08:27.587725",
   "version": "2.2.2"
  }
 },
 "nbformat": 4,
 "nbformat_minor": 5
}