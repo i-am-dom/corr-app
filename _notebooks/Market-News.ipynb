{
 "cells": [
  {
   "cell_type": "markdown",
   "id": "short-greensboro",
   "metadata": {
    "papermill": {
     "duration": 0.012878,
     "end_time": "2022-07-09T02:59:23.792567",
     "exception": false,
     "start_time": "2022-07-09T02:59:23.779689",
     "status": "completed"
    },
    "tags": []
   },
   "source": [
    "# Kriptovaliutų naujienos"
   ]
  },
  {
   "cell_type": "code",
   "execution_count": 1,
   "id": "functioning-knowing",
   "metadata": {
    "execution": {
     "iopub.execute_input": "2022-07-09T02:59:23.821806Z",
     "iopub.status.busy": "2022-07-09T02:59:23.821204Z",
     "iopub.status.idle": "2022-07-09T02:59:24.979310Z",
     "shell.execute_reply": "2022-07-09T02:59:24.978390Z"
    },
    "papermill": {
     "duration": 1.176995,
     "end_time": "2022-07-09T02:59:24.979448",
     "exception": false,
     "start_time": "2022-07-09T02:59:23.802453",
     "status": "completed"
    },
    "tags": []
   },
   "outputs": [],
   "source": [
    "#hide_input\n",
    "import warnings\n",
    "warnings.filterwarnings('ignore')\n",
    "from scripts.read_data import read_api\n",
    "from scripts.read_data import read_news\n",
    "from scripts.read_data import read_covid\n",
    "import matplotlib.pyplot as plt \n",
    "from IPython.display import Markdown as md"
   ]
  },
  {
   "cell_type": "code",
   "execution_count": 2,
   "id": "shared-acceptance",
   "metadata": {
    "execution": {
     "iopub.execute_input": "2022-07-09T02:59:25.004453Z",
     "iopub.status.busy": "2022-07-09T02:59:25.003823Z",
     "iopub.status.idle": "2022-07-09T02:59:37.026951Z",
     "shell.execute_reply": "2022-07-09T02:59:37.026478Z"
    },
    "papermill": {
     "duration": 12.038045,
     "end_time": "2022-07-09T02:59:37.027061",
     "exception": false,
     "start_time": "2022-07-09T02:59:24.989016",
     "status": "completed"
    },
    "tags": []
   },
   "outputs": [],
   "source": [
    "#hide_input\n",
    "blockchain = read_news('blockchain') \n",
    "btc = read_news('btc') \n",
    "xrp = read_news('xrp') \n",
    "trx = read_news('trx') \n",
    "eth = read_news('eth')  \n",
    "ada = read_news('ada')\n",
    "exchange = read_news('exchange') "
   ]
  },
  {
   "cell_type": "code",
   "execution_count": 3,
   "id": "synthetic-notion",
   "metadata": {
    "execution": {
     "iopub.execute_input": "2022-07-09T02:59:37.052099Z",
     "iopub.status.busy": "2022-07-09T02:59:37.051494Z",
     "iopub.status.idle": "2022-07-09T02:59:37.054561Z",
     "shell.execute_reply": "2022-07-09T02:59:37.054018Z"
    },
    "papermill": {
     "duration": 0.018189,
     "end_time": "2022-07-09T02:59:37.054663",
     "exception": false,
     "start_time": "2022-07-09T02:59:37.036474",
     "status": "completed"
    },
    "tags": []
   },
   "outputs": [
    {
     "data": {
      "text/markdown": [
       "- Bitcoin dumps to $21K: Retest of $19K seems likely.  Bitcoin price analysis for July 9, 2022, comes on a bearish note for the world&#8217;s biggest cryptocurrency as we can see that the BTC token has dropped by more than 2% in the last 24 hours and lower prices might follow in the coming days. Furthermore, it is also important to consider that the chances [&#8230;]The post Bitcoin dumps to $21K: Retest of $19K seems likely appeared first on Blockchain, Crypto and Stock News. ... [| Skaityti daugiau](https://thecoinrise.com/bitcoin-dumps-to-21k-retest-of-19k-seems-likely/) "
      ],
      "text/plain": [
       "<IPython.core.display.Markdown object>"
      ]
     },
     "execution_count": 3,
     "metadata": {},
     "output_type": "execute_result"
    }
   ],
   "source": [
    "#hide_input\n",
    "#md('##### {}'.format(titleBTC)) \n",
    "md(\"- {}{} {}{} [| Skaityti daugiau]({}) \".format(blockchain['title'],'. ', blockchain['body'], ' ...', blockchain['url']))"
   ]
  },
  {
   "cell_type": "code",
   "execution_count": 4,
   "id": "aging-caution",
   "metadata": {
    "execution": {
     "iopub.execute_input": "2022-07-09T02:59:37.079734Z",
     "iopub.status.busy": "2022-07-09T02:59:37.078747Z",
     "iopub.status.idle": "2022-07-09T02:59:37.081485Z",
     "shell.execute_reply": "2022-07-09T02:59:37.081899Z"
    },
    "papermill": {
     "duration": 0.017854,
     "end_time": "2022-07-09T02:59:37.082015",
     "exception": false,
     "start_time": "2022-07-09T02:59:37.064161",
     "status": "completed"
    },
    "tags": []
   },
   "outputs": [
    {
     "data": {
      "text/markdown": [
       "- Bitcoin dumps to $21K: Retest of $19K seems likely.  Bitcoin price analysis for July 9, 2022, comes on a bearish note for the world&#8217;s biggest cryptocurrency as we can see that the BTC token has dropped by more than 2% in the last 24 hours and lower prices might follow in the coming days. Furthermore, it is also important to consider that the chances [&#8230;]The post Bitcoin dumps to $21K: Retest of $19K seems likely appeared first on Blockchain, Crypto and Stock News. ... [| Skaityti daugiau](https://thecoinrise.com/bitcoin-dumps-to-21k-retest-of-19k-seems-likely/) "
      ],
      "text/plain": [
       "<IPython.core.display.Markdown object>"
      ]
     },
     "execution_count": 4,
     "metadata": {},
     "output_type": "execute_result"
    }
   ],
   "source": [
    "#hide_input\n",
    "#md('##### {}'.format(titleBTC)) \n",
    "md(\"- {}{} {}{} [| Skaityti daugiau]({}) \".format(btc['title'],'. ', btc['body'], ' ...', btc['url']))"
   ]
  },
  {
   "cell_type": "code",
   "execution_count": 5,
   "id": "organic-actress",
   "metadata": {
    "execution": {
     "iopub.execute_input": "2022-07-09T02:59:37.107099Z",
     "iopub.status.busy": "2022-07-09T02:59:37.105610Z",
     "iopub.status.idle": "2022-07-09T02:59:37.109426Z",
     "shell.execute_reply": "2022-07-09T02:59:37.109860Z"
    },
    "papermill": {
     "duration": 0.017677,
     "end_time": "2022-07-09T02:59:37.110033",
     "exception": false,
     "start_time": "2022-07-09T02:59:37.092356",
     "status": "completed"
    },
    "tags": []
   },
   "outputs": [
    {
     "data": {
      "text/markdown": [
       "- Here’s What Next For XRP, MATIC, ADA and FTM!.  The post Here’s What Next For XRP, MATIC, ADA and FTM! appeared first on Coinpedia - Fintech &amp; Cryptocurreny News Media| Crypto GuideBitcoin&#8217;s surprising 10 percent increase, which took the largest cryptocurrency above $22,000, shocked the cryptocurrency investors. Bullish vibes continued in the cryptocurrency markets for a second day in a row as top coin values recently experienced significant increases. The market capitalization of all cryptocurrencies increased by over 6 percent in the previous day to $972 &#8230; ... [| Skaityti daugiau](https://coinpedia.org/altcoin/heres-what-next-for-xrp-matic-ada-and-ftm/) "
      ],
      "text/plain": [
       "<IPython.core.display.Markdown object>"
      ]
     },
     "execution_count": 5,
     "metadata": {},
     "output_type": "execute_result"
    }
   ],
   "source": [
    "#hide_input\n",
    "#md('##### {}'.format(titleBTC)) \n",
    "md(\"- {}{} {}{} [| Skaityti daugiau]({}) \".format(xrp['title'],'. ', xrp['body'], ' ...', xrp['url']))"
   ]
  },
  {
   "cell_type": "code",
   "execution_count": 6,
   "id": "prompt-farmer",
   "metadata": {
    "execution": {
     "iopub.execute_input": "2022-07-09T02:59:37.134785Z",
     "iopub.status.busy": "2022-07-09T02:59:37.134223Z",
     "iopub.status.idle": "2022-07-09T02:59:37.137229Z",
     "shell.execute_reply": "2022-07-09T02:59:37.137632Z"
    },
    "papermill": {
     "duration": 0.017642,
     "end_time": "2022-07-09T02:59:37.137751",
     "exception": false,
     "start_time": "2022-07-09T02:59:37.120109",
     "status": "completed"
    },
    "tags": []
   },
   "outputs": [
    {
     "data": {
      "text/markdown": [
       "- Tron DAO Adds 445M USDC; Will It Pump TRX price?.  The TRON DAO Reserve announced that it has added more funds to its reserves. The announcement mentioned that it is done in order to safeguard the overall blockchain industry and crypto market. USDC supply on TRON reaches $3.3 bln Justin Sun, TRON’s head mentioned that they have increased 445 million USDC on TRON. With this The post Tron DAO Adds 445M USDC; Will It Pump TRX price? appeared first on CoinGape. ... [| Skaityti daugiau](https://coingape.com/tron-dao-adds-445m-usdc-will-it-pump-trx-price/) "
      ],
      "text/plain": [
       "<IPython.core.display.Markdown object>"
      ]
     },
     "execution_count": 6,
     "metadata": {},
     "output_type": "execute_result"
    }
   ],
   "source": [
    "#hide_input\n",
    "#md('##### {}'.format(titleBTC)) \n",
    "md(\"- {}{} {}{} [| Skaityti daugiau]({}) \".format(trx['title'],'. ', trx['body'], ' ...', trx['url']))"
   ]
  },
  {
   "cell_type": "code",
   "execution_count": 7,
   "id": "illegal-greece",
   "metadata": {
    "execution": {
     "iopub.execute_input": "2022-07-09T02:59:37.163634Z",
     "iopub.status.busy": "2022-07-09T02:59:37.163064Z",
     "iopub.status.idle": "2022-07-09T02:59:37.166407Z",
     "shell.execute_reply": "2022-07-09T02:59:37.165866Z"
    },
    "papermill": {
     "duration": 0.01817,
     "end_time": "2022-07-09T02:59:37.166509",
     "exception": false,
     "start_time": "2022-07-09T02:59:37.148339",
     "status": "completed"
    },
    "tags": []
   },
   "outputs": [
    {
     "data": {
      "text/markdown": [
       "- Ethereum retains this price level despite a 3% price drop: What to expect?.  Ethereum price analysis for July 9, 2022, comes on a bearish note for the world&#8217;s 2nd biggest cryptocurrency as we can confirm that the token has dropped by a whopping 3% in the last 24 hours and it seems that the sellers are taking profit in the current market. If the Ether token will be [&#8230;]The post Ethereum retains this price level despite a 3% price drop: What to expect? appeared first on Blockchain, Crypto and Stock News. ... [| Skaityti daugiau](https://thecoinrise.com/ethereum-retains-this-price-level-despite-a-3-price-drop-what-to-expect/) "
      ],
      "text/plain": [
       "<IPython.core.display.Markdown object>"
      ]
     },
     "execution_count": 7,
     "metadata": {},
     "output_type": "execute_result"
    }
   ],
   "source": [
    "#hide_input\n",
    "#md('##### {}'.format(titleBTC)) \n",
    "md(\"- {}{} {}{} [| Skaityti daugiau]({}) \".format(eth['title'],'. ', eth['body'], ' ...', eth['url']))"
   ]
  },
  {
   "cell_type": "code",
   "execution_count": 8,
   "id": "sublime-lounge",
   "metadata": {
    "execution": {
     "iopub.execute_input": "2022-07-09T02:59:37.194230Z",
     "iopub.status.busy": "2022-07-09T02:59:37.193639Z",
     "iopub.status.idle": "2022-07-09T02:59:37.196650Z",
     "shell.execute_reply": "2022-07-09T02:59:37.196101Z"
    },
    "papermill": {
     "duration": 0.018345,
     "end_time": "2022-07-09T02:59:37.196753",
     "exception": false,
     "start_time": "2022-07-09T02:59:37.178408",
     "status": "completed"
    },
    "tags": []
   },
   "outputs": [
    {
     "data": {
      "text/markdown": [
       "- Here’s What Next For XRP, MATIC, ADA and FTM!.  The post Here’s What Next For XRP, MATIC, ADA and FTM! appeared first on Coinpedia - Fintech &amp; Cryptocurreny News Media| Crypto GuideBitcoin&#8217;s surprising 10 percent increase, which took the largest cryptocurrency above $22,000, shocked the cryptocurrency investors. Bullish vibes continued in the cryptocurrency markets for a second day in a row as top coin values recently experienced significant increases. The market capitalization of all cryptocurrencies increased by over 6 percent in the previous day to $972 &#8230; ... [| Skaityti daugiau](https://coinpedia.org/altcoin/heres-what-next-for-xrp-matic-ada-and-ftm/) "
      ],
      "text/plain": [
       "<IPython.core.display.Markdown object>"
      ]
     },
     "execution_count": 8,
     "metadata": {},
     "output_type": "execute_result"
    }
   ],
   "source": [
    "#hide_input\n",
    "#md('##### {}'.format(titleBTC)) \n",
    "md(\"- {}{} {}{} [| Skaityti daugiau]({}) \".format(ada['title'],'. ', ada['body'], ' ...', ada['url']))"
   ]
  },
  {
   "cell_type": "code",
   "execution_count": 9,
   "id": "specified-ordering",
   "metadata": {
    "execution": {
     "iopub.execute_input": "2022-07-09T02:59:37.225341Z",
     "iopub.status.busy": "2022-07-09T02:59:37.224775Z",
     "iopub.status.idle": "2022-07-09T02:59:37.227853Z",
     "shell.execute_reply": "2022-07-09T02:59:37.227393Z"
    },
    "papermill": {
     "duration": 0.020055,
     "end_time": "2022-07-09T02:59:37.227954",
     "exception": false,
     "start_time": "2022-07-09T02:59:37.207899",
     "status": "completed"
    },
    "tags": []
   },
   "outputs": [
    {
     "data": {
      "text/markdown": [
       "- Stop Your Crypto Operations in Russia, Washington Tells Japanese Exchanges & Miners.  Washington wants Japanese regulators to convince domestic crypto exchanges and miners to cut all ties with Russia, per a new report. The Financial Times claimed that American “diplomats” believe “several” Japanese crypto exchanges are “still running in Russia,” according to unnamed “people close to the situation.”...Read More: Stop Your Crypto Operations in Russia, Washington Tells Japanese Exchanges & Miners ... [| Skaityti daugiau](https://cryptonews.com/news/stop-your-crypto-operations-in-russia-washington-tells-japanese-exchanges-miners.htm) "
      ],
      "text/plain": [
       "<IPython.core.display.Markdown object>"
      ]
     },
     "execution_count": 9,
     "metadata": {},
     "output_type": "execute_result"
    }
   ],
   "source": [
    "#hide_input\n",
    "#md('##### {}'.format(titleBTC)) \n",
    "md(\"- {}{} {}{} [| Skaityti daugiau]({}) \".format(exchange['title'],'. ', exchange['body'], ' ...', exchange['url']))"
   ]
  },
  {
   "cell_type": "code",
   "execution_count": null,
   "id": "tender-livestock",
   "metadata": {
    "papermill": {
     "duration": 0.011494,
     "end_time": "2022-07-09T02:59:37.250883",
     "exception": false,
     "start_time": "2022-07-09T02:59:37.239389",
     "status": "completed"
    },
    "tags": []
   },
   "outputs": [],
   "source": []
  },
  {
   "cell_type": "code",
   "execution_count": null,
   "id": "appreciated-diamond",
   "metadata": {
    "papermill": {
     "duration": 0.011773,
     "end_time": "2022-07-09T02:59:37.274203",
     "exception": false,
     "start_time": "2022-07-09T02:59:37.262430",
     "status": "completed"
    },
    "tags": []
   },
   "outputs": [],
   "source": []
  },
  {
   "cell_type": "code",
   "execution_count": null,
   "id": "romance-sweden",
   "metadata": {
    "papermill": {
     "duration": 0.011372,
     "end_time": "2022-07-09T02:59:37.297014",
     "exception": false,
     "start_time": "2022-07-09T02:59:37.285642",
     "status": "completed"
    },
    "tags": []
   },
   "outputs": [],
   "source": []
  },
  {
   "cell_type": "code",
   "execution_count": null,
   "id": "dietary-statistics",
   "metadata": {
    "papermill": {
     "duration": 0.011309,
     "end_time": "2022-07-09T02:59:37.319715",
     "exception": false,
     "start_time": "2022-07-09T02:59:37.308406",
     "status": "completed"
    },
    "tags": []
   },
   "outputs": [],
   "source": []
  }
 ],
 "metadata": {
  "kernelspec": {
   "display_name": "Python 3",
   "language": "python",
   "name": "python3"
  },
  "language_info": {
   "codemirror_mode": {
    "name": "ipython",
    "version": 3
   },
   "file_extension": ".py",
   "mimetype": "text/x-python",
   "name": "python",
   "nbconvert_exporter": "python",
   "pygments_lexer": "ipython3",
   "version": "3.6.15"
  },
  "papermill": {
   "default_parameters": {},
   "duration": 14.88192,
   "end_time": "2022-07-09T02:59:37.749253",
   "environment_variables": {},
   "exception": null,
   "input_path": "Market-News.ipynb",
   "output_path": "Market-News.ipynb",
   "parameters": {},
   "start_time": "2022-07-09T02:59:22.867333",
   "version": "2.2.2"
  }
 },
 "nbformat": 4,
 "nbformat_minor": 5
}