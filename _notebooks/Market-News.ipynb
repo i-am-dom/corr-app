{
 "cells": [
  {
   "cell_type": "markdown",
   "id": "short-greensboro",
   "metadata": {
    "papermill": {
     "duration": 0.019393,
     "end_time": "2022-10-10T03:41:03.547439",
     "exception": false,
     "start_time": "2022-10-10T03:41:03.528046",
     "status": "completed"
    },
    "tags": []
   },
   "source": [
    "# Kriptovaliutų naujienos"
   ]
  },
  {
   "cell_type": "code",
   "execution_count": 1,
   "id": "functioning-knowing",
   "metadata": {
    "execution": {
     "iopub.execute_input": "2022-10-10T03:41:03.581906Z",
     "iopub.status.busy": "2022-10-10T03:41:03.581054Z",
     "iopub.status.idle": "2022-10-10T03:41:05.137567Z",
     "shell.execute_reply": "2022-10-10T03:41:05.138556Z"
    },
    "papermill": {
     "duration": 1.580145,
     "end_time": "2022-10-10T03:41:05.138851",
     "exception": false,
     "start_time": "2022-10-10T03:41:03.558706",
     "status": "completed"
    },
    "tags": []
   },
   "outputs": [],
   "source": [
    "#hide_input\n",
    "import warnings\n",
    "warnings.filterwarnings('ignore')\n",
    "from scripts.read_data import read_api\n",
    "from scripts.read_data import read_news\n",
    "from scripts.read_data import read_covid\n",
    "import matplotlib.pyplot as plt \n",
    "from IPython.display import Markdown as md"
   ]
  },
  {
   "cell_type": "code",
   "execution_count": 2,
   "id": "shared-acceptance",
   "metadata": {
    "execution": {
     "iopub.execute_input": "2022-10-10T03:41:05.168696Z",
     "iopub.status.busy": "2022-10-10T03:41:05.167995Z",
     "iopub.status.idle": "2022-10-10T03:41:18.425614Z",
     "shell.execute_reply": "2022-10-10T03:41:18.424465Z"
    },
    "papermill": {
     "duration": 13.275976,
     "end_time": "2022-10-10T03:41:18.425767",
     "exception": false,
     "start_time": "2022-10-10T03:41:05.149791",
     "status": "completed"
    },
    "tags": []
   },
   "outputs": [],
   "source": [
    "#hide_input\n",
    "blockchain = read_news('blockchain') \n",
    "btc = read_news('btc') \n",
    "xrp = read_news('xrp') \n",
    "trx = read_news('trx') \n",
    "eth = read_news('eth')  \n",
    "ada = read_news('ada')\n",
    "exchange = read_news('exchange') "
   ]
  },
  {
   "cell_type": "code",
   "execution_count": 3,
   "id": "synthetic-notion",
   "metadata": {
    "execution": {
     "iopub.execute_input": "2022-10-10T03:41:18.454639Z",
     "iopub.status.busy": "2022-10-10T03:41:18.453850Z",
     "iopub.status.idle": "2022-10-10T03:41:18.458830Z",
     "shell.execute_reply": "2022-10-10T03:41:18.459395Z"
    },
    "papermill": {
     "duration": 0.023143,
     "end_time": "2022-10-10T03:41:18.459544",
     "exception": false,
     "start_time": "2022-10-10T03:41:18.436401",
     "status": "completed"
    },
    "tags": []
   },
   "outputs": [
    {
     "data": {
      "text/markdown": [
       "- Crypto Investment Firm Blockwater Technologies Defaults on DeFi Loan.  The South Korea-based crypto investment firm failed to make a payment on a $3.4 million loan to TrueFi, a decentralized lending protocol. ... [| Skaityti daugiau](https://www.coindesk.com/markets/2022/10/10/crypto-investment-firm-blockwater-technologies-defaults-on-defi-loan/?utm_medium=referral&utm_source=rss&utm_campaign=headlines) "
      ],
      "text/plain": [
       "<IPython.core.display.Markdown object>"
      ]
     },
     "execution_count": 3,
     "metadata": {},
     "output_type": "execute_result"
    }
   ],
   "source": [
    "#hide_input\n",
    "#md('##### {}'.format(titleBTC)) \n",
    "md(\"- {}{} {}{} [| Skaityti daugiau]({}) \".format(blockchain['title'],'. ', blockchain['body'], ' ...', blockchain['url']))"
   ]
  },
  {
   "cell_type": "code",
   "execution_count": 4,
   "id": "aging-caution",
   "metadata": {
    "execution": {
     "iopub.execute_input": "2022-10-10T03:41:18.486715Z",
     "iopub.status.busy": "2022-10-10T03:41:18.485955Z",
     "iopub.status.idle": "2022-10-10T03:41:18.490201Z",
     "shell.execute_reply": "2022-10-10T03:41:18.489584Z"
    },
    "papermill": {
     "duration": 0.020228,
     "end_time": "2022-10-10T03:41:18.490342",
     "exception": false,
     "start_time": "2022-10-10T03:41:18.470114",
     "status": "completed"
    },
    "tags": []
   },
   "outputs": [
    {
     "data": {
      "text/markdown": [
       "- Bitcoin, Ethereum, Chiliz, and Decentraland Daily Price Analyses – 9 October Roundup.  The global crypto market has continued to grow due to the positive trend. The recent changes suggested that the market would soon turn bullish, which has changed direction. The result of these changes is an enhancement in the value of Bitcoin, Ethereum, and others over recent hours. As positive changes ensue, market analysts and investors &#8230;  Bitcoin, Ethereum, Chiliz, and Decentraland Daily Price Analyses – 9 October Roundup Read More &#187; ... [| Skaityti daugiau](https://www.cryptopolitan.com/bitcoin-ethereum-chiliz-and-decentraland-daily-price-analyses-9-october-roundup/) "
      ],
      "text/plain": [
       "<IPython.core.display.Markdown object>"
      ]
     },
     "execution_count": 4,
     "metadata": {},
     "output_type": "execute_result"
    }
   ],
   "source": [
    "#hide_input\n",
    "#md('##### {}'.format(titleBTC)) \n",
    "md(\"- {}{} {}{} [| Skaityti daugiau]({}) \".format(btc['title'],'. ', btc['body'], ' ...', btc['url']))"
   ]
  },
  {
   "cell_type": "code",
   "execution_count": 5,
   "id": "organic-actress",
   "metadata": {
    "execution": {
     "iopub.execute_input": "2022-10-10T03:41:18.518486Z",
     "iopub.status.busy": "2022-10-10T03:41:18.517727Z",
     "iopub.status.idle": "2022-10-10T03:41:18.528245Z",
     "shell.execute_reply": "2022-10-10T03:41:18.527726Z"
    },
    "papermill": {
     "duration": 0.026729,
     "end_time": "2022-10-10T03:41:18.528372",
     "exception": false,
     "start_time": "2022-10-10T03:41:18.501643",
     "status": "completed"
    },
    "tags": []
   },
   "outputs": [
    {
     "data": {
      "text/markdown": [
       "- XRP could be due for a pullback, but the uptrend is likely to continue.  Disclaimer: The findings of the following analysis are the sole opinions of the writer and should not be considered investment advice. XRP is in a strong uptrend as the rest of the market fights the bears Watch out for the price reaction at these long-term resistance levels XRP has posted remarkable gains in recent weeks, considering [&#8230;] ... [| Skaityti daugiau](https://ambcrypto.com/xrp-could-be-due-for-a-pullback-but-the-uptrend-is-likely-to-continue/) "
      ],
      "text/plain": [
       "<IPython.core.display.Markdown object>"
      ]
     },
     "execution_count": 5,
     "metadata": {},
     "output_type": "execute_result"
    }
   ],
   "source": [
    "#hide_input\n",
    "#md('##### {}'.format(titleBTC)) \n",
    "md(\"- {}{} {}{} [| Skaityti daugiau]({}) \".format(xrp['title'],'. ', xrp['body'], ' ...', xrp['url']))"
   ]
  },
  {
   "cell_type": "code",
   "execution_count": 6,
   "id": "prompt-farmer",
   "metadata": {
    "execution": {
     "iopub.execute_input": "2022-10-10T03:41:18.557082Z",
     "iopub.status.busy": "2022-10-10T03:41:18.556339Z",
     "iopub.status.idle": "2022-10-10T03:41:18.560493Z",
     "shell.execute_reply": "2022-10-10T03:41:18.559968Z"
    },
    "papermill": {
     "duration": 0.020696,
     "end_time": "2022-10-10T03:41:18.560620",
     "exception": false,
     "start_time": "2022-10-10T03:41:18.539924",
     "status": "completed"
    },
    "tags": []
   },
   "outputs": [
    {
     "data": {
      "text/markdown": [
       "- Sentiment Heavily Bearish on Solana, Tron and One More Ethereum Rival, Says Analytics Firm – But There’s a Catch.  Crypto analytics platform Santiment says many are bearish on Solana (SOL), Tron (TRX) and Binance Coin (BNB), which might signal a bottom is near. According to Santiment, heavy bearish sentiment is sometimes a signal for an imminent upswing in price. “We&#8217;re in a spot now where several cryptocurrencies are seeing some rising optimism, while others [&#8230;]The post Sentiment Heavily Bearish on Solana, Tron and One More Ethereum Rival, Says Analytics Firm – But There’s a Catch appeared first on The Daily Hodl. ... [| Skaityti daugiau](https://dailyhodl.com/2022/10/08/sentiment-heavily-bearish-on-solana-tron-and-one-more-ethereum-rival-says-analytics-firm-but-theres-a-catch/) "
      ],
      "text/plain": [
       "<IPython.core.display.Markdown object>"
      ]
     },
     "execution_count": 6,
     "metadata": {},
     "output_type": "execute_result"
    }
   ],
   "source": [
    "#hide_input\n",
    "#md('##### {}'.format(titleBTC)) \n",
    "md(\"- {}{} {}{} [| Skaityti daugiau]({}) \".format(trx['title'],'. ', trx['body'], ' ...', trx['url']))"
   ]
  },
  {
   "cell_type": "code",
   "execution_count": 7,
   "id": "illegal-greece",
   "metadata": {
    "execution": {
     "iopub.execute_input": "2022-10-10T03:41:18.592847Z",
     "iopub.status.busy": "2022-10-10T03:41:18.591580Z",
     "iopub.status.idle": "2022-10-10T03:41:18.596878Z",
     "shell.execute_reply": "2022-10-10T03:41:18.597526Z"
    },
    "papermill": {
     "duration": 0.025446,
     "end_time": "2022-10-10T03:41:18.597671",
     "exception": false,
     "start_time": "2022-10-10T03:41:18.572225",
     "status": "completed"
    },
    "tags": []
   },
   "outputs": [
    {
     "data": {
      "text/markdown": [
       "- Bitcoin, Ethereum, Chiliz, and Decentraland Daily Price Analyses – 9 October Roundup.  The global crypto market has continued to grow due to the positive trend. The recent changes suggested that the market would soon turn bullish, which has changed direction. The result of these changes is an enhancement in the value of Bitcoin, Ethereum, and others over recent hours. As positive changes ensue, market analysts and investors &#8230;  Bitcoin, Ethereum, Chiliz, and Decentraland Daily Price Analyses – 9 October Roundup Read More &#187; ... [| Skaityti daugiau](https://www.cryptopolitan.com/bitcoin-ethereum-chiliz-and-decentraland-daily-price-analyses-9-october-roundup/) "
      ],
      "text/plain": [
       "<IPython.core.display.Markdown object>"
      ]
     },
     "execution_count": 7,
     "metadata": {},
     "output_type": "execute_result"
    }
   ],
   "source": [
    "#hide_input\n",
    "#md('##### {}'.format(titleBTC)) \n",
    "md(\"- {}{} {}{} [| Skaityti daugiau]({}) \".format(eth['title'],'. ', eth['body'], ' ...', eth['url']))"
   ]
  },
  {
   "cell_type": "code",
   "execution_count": 8,
   "id": "sublime-lounge",
   "metadata": {
    "execution": {
     "iopub.execute_input": "2022-10-10T03:41:18.628435Z",
     "iopub.status.busy": "2022-10-10T03:41:18.627759Z",
     "iopub.status.idle": "2022-10-10T03:41:18.631429Z",
     "shell.execute_reply": "2022-10-10T03:41:18.631993Z"
    },
    "papermill": {
     "duration": 0.022503,
     "end_time": "2022-10-10T03:41:18.632140",
     "exception": false,
     "start_time": "2022-10-10T03:41:18.609637",
     "status": "completed"
    },
    "tags": []
   },
   "outputs": [
    {
     "data": {
      "text/markdown": [
       "- Cardano Price Forecast – Can ADA Become 2022 Best Performer?.  Cardano price forecast is mostly neutral as the altcoin consolidates near the $0.4166 triple bottom support area. ADA has formed a descending triangle pattern on the daily timeframe, indicating a bearish bias among investors. Cardano was among the few digital currencies hit particularly hard during the second and third quarters' bear market. The value of ADA has fallen dramatically during the previous two months, falling more than 25%. ...Read More: Cardano Price Forecast – Can ADA Become 2022 Best Performer? ... [| Skaityti daugiau](https://cryptonews.com/news/cardano-price-forecast-can-ada-become-2022-best-performer.htm) "
      ],
      "text/plain": [
       "<IPython.core.display.Markdown object>"
      ]
     },
     "execution_count": 8,
     "metadata": {},
     "output_type": "execute_result"
    }
   ],
   "source": [
    "#hide_input\n",
    "#md('##### {}'.format(titleBTC)) \n",
    "md(\"- {}{} {}{} [| Skaityti daugiau]({}) \".format(ada['title'],'. ', ada['body'], ' ...', ada['url']))"
   ]
  },
  {
   "cell_type": "code",
   "execution_count": 9,
   "id": "specified-ordering",
   "metadata": {
    "execution": {
     "iopub.execute_input": "2022-10-10T03:41:18.663239Z",
     "iopub.status.busy": "2022-10-10T03:41:18.662557Z",
     "iopub.status.idle": "2022-10-10T03:41:18.666816Z",
     "shell.execute_reply": "2022-10-10T03:41:18.666252Z"
    },
    "papermill": {
     "duration": 0.022103,
     "end_time": "2022-10-10T03:41:18.666942",
     "exception": false,
     "start_time": "2022-10-10T03:41:18.644839",
     "status": "completed"
    },
    "tags": []
   },
   "outputs": [
    {
     "data": {
      "text/markdown": [
       "- Breaking: Here’s How Huobi Shadow Owner Is Justin Sun After Sale.  Although crypto exchange Huobi announced last week that the controlling stake changed hands, it appears there is more to it. On Saturday, Huobi Global said its founder Leon Li sold his entire controlling stake to Hong Kong-based About Capital Management. However, crypto entrepreneurs in Sam Bankman-Fried and Tron founder Justin Sun were vying for stake The post Breaking: Here&#8217;s How Huobi Shadow Owner Is Justin Sun After Sale appeared first on CoinGape. ... [| Skaityti daugiau](https://coingape.com/huobi-shadow-owner-is-justin-sun-after-sale/) "
      ],
      "text/plain": [
       "<IPython.core.display.Markdown object>"
      ]
     },
     "execution_count": 9,
     "metadata": {},
     "output_type": "execute_result"
    }
   ],
   "source": [
    "#hide_input\n",
    "#md('##### {}'.format(titleBTC)) \n",
    "md(\"- {}{} {}{} [| Skaityti daugiau]({}) \".format(exchange['title'],'. ', exchange['body'], ' ...', exchange['url']))"
   ]
  },
  {
   "cell_type": "code",
   "execution_count": null,
   "id": "tender-livestock",
   "metadata": {
    "papermill": {
     "duration": 0.012695,
     "end_time": "2022-10-10T03:41:18.692333",
     "exception": false,
     "start_time": "2022-10-10T03:41:18.679638",
     "status": "completed"
    },
    "tags": []
   },
   "outputs": [],
   "source": []
  },
  {
   "cell_type": "code",
   "execution_count": null,
   "id": "appreciated-diamond",
   "metadata": {
    "papermill": {
     "duration": 0.012666,
     "end_time": "2022-10-10T03:41:18.717781",
     "exception": false,
     "start_time": "2022-10-10T03:41:18.705115",
     "status": "completed"
    },
    "tags": []
   },
   "outputs": [],
   "source": []
  },
  {
   "cell_type": "code",
   "execution_count": null,
   "id": "romance-sweden",
   "metadata": {
    "papermill": {
     "duration": 0.012775,
     "end_time": "2022-10-10T03:41:18.743211",
     "exception": false,
     "start_time": "2022-10-10T03:41:18.730436",
     "status": "completed"
    },
    "tags": []
   },
   "outputs": [],
   "source": []
  },
  {
   "cell_type": "code",
   "execution_count": null,
   "id": "dietary-statistics",
   "metadata": {
    "papermill": {
     "duration": 0.012584,
     "end_time": "2022-10-10T03:41:18.768704",
     "exception": false,
     "start_time": "2022-10-10T03:41:18.756120",
     "status": "completed"
    },
    "tags": []
   },
   "outputs": [],
   "source": []
  }
 ],
 "metadata": {
  "kernelspec": {
   "display_name": "Python 3",
   "language": "python",
   "name": "python3"
  },
  "language_info": {
   "codemirror_mode": {
    "name": "ipython",
    "version": 3
   },
   "file_extension": ".py",
   "mimetype": "text/x-python",
   "name": "python",
   "nbconvert_exporter": "python",
   "pygments_lexer": "ipython3",
   "version": "3.6.15"
  },
  "papermill": {
   "default_parameters": {},
   "duration": 17.048702,
   "end_time": "2022-10-10T03:41:19.301979",
   "environment_variables": {},
   "exception": null,
   "input_path": "Market-News.ipynb",
   "output_path": "Market-News.ipynb",
   "parameters": {},
   "start_time": "2022-10-10T03:41:02.253277",
   "version": "2.2.2"
  }
 },
 "nbformat": 4,
 "nbformat_minor": 5
}