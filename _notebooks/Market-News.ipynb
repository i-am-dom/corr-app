{
 "cells": [
  {
   "cell_type": "markdown",
   "id": "short-greensboro",
   "metadata": {
    "papermill": {
     "duration": 0.015109,
     "end_time": "2022-09-16T03:56:17.230408",
     "exception": false,
     "start_time": "2022-09-16T03:56:17.215299",
     "status": "completed"
    },
    "tags": []
   },
   "source": [
    "# Kriptovaliutų naujienos"
   ]
  },
  {
   "cell_type": "code",
   "execution_count": 1,
   "id": "functioning-knowing",
   "metadata": {
    "execution": {
     "iopub.execute_input": "2022-09-16T03:56:17.266375Z",
     "iopub.status.busy": "2022-09-16T03:56:17.265588Z",
     "iopub.status.idle": "2022-09-16T03:56:18.814304Z",
     "shell.execute_reply": "2022-09-16T03:56:18.813651Z"
    },
    "papermill": {
     "duration": 1.572234,
     "end_time": "2022-09-16T03:56:18.814471",
     "exception": false,
     "start_time": "2022-09-16T03:56:17.242237",
     "status": "completed"
    },
    "tags": []
   },
   "outputs": [],
   "source": [
    "#hide_input\n",
    "import warnings\n",
    "warnings.filterwarnings('ignore')\n",
    "from scripts.read_data import read_api\n",
    "from scripts.read_data import read_news\n",
    "from scripts.read_data import read_covid\n",
    "import matplotlib.pyplot as plt \n",
    "from IPython.display import Markdown as md"
   ]
  },
  {
   "cell_type": "code",
   "execution_count": 2,
   "id": "shared-acceptance",
   "metadata": {
    "execution": {
     "iopub.execute_input": "2022-09-16T03:56:18.846620Z",
     "iopub.status.busy": "2022-09-16T03:56:18.845781Z",
     "iopub.status.idle": "2022-09-16T03:56:30.726295Z",
     "shell.execute_reply": "2022-09-16T03:56:30.725566Z"
    },
    "papermill": {
     "duration": 11.899965,
     "end_time": "2022-09-16T03:56:30.726508",
     "exception": false,
     "start_time": "2022-09-16T03:56:18.826543",
     "status": "completed"
    },
    "tags": []
   },
   "outputs": [],
   "source": [
    "#hide_input\n",
    "blockchain = read_news('blockchain') \n",
    "btc = read_news('btc') \n",
    "xrp = read_news('xrp') \n",
    "trx = read_news('trx') \n",
    "eth = read_news('eth')  \n",
    "ada = read_news('ada')\n",
    "exchange = read_news('exchange') "
   ]
  },
  {
   "cell_type": "code",
   "execution_count": 3,
   "id": "synthetic-notion",
   "metadata": {
    "execution": {
     "iopub.execute_input": "2022-09-16T03:56:30.757815Z",
     "iopub.status.busy": "2022-09-16T03:56:30.757004Z",
     "iopub.status.idle": "2022-09-16T03:56:30.761687Z",
     "shell.execute_reply": "2022-09-16T03:56:30.761140Z"
    },
    "papermill": {
     "duration": 0.022938,
     "end_time": "2022-09-16T03:56:30.761816",
     "exception": false,
     "start_time": "2022-09-16T03:56:30.738878",
     "status": "completed"
    },
    "tags": []
   },
   "outputs": [
    {
     "data": {
      "text/markdown": [
       "- SEC Chair Warns That Merge Update Might Turn ETH Into A Security.  While the world was watching the Ethereum blockchain undergo the most important transition to Proof-of-Stake (PoS) on Thursday, SEC chair Gary Gensler also had all ears to the developments. Soon after the Merge event on Thursday, September 15, SEC chair Gary Gensler said that crypto assets and intermediaries that allow users to &#8220;stake&#8221; will have The post SEC Chair Warns That Merge Update Might Turn ETH Into A Security appeared first on CoinGape. ... [| Skaityti daugiau](https://coingape.com/sec-chair-warns-that-merge-update-might-turn-eth-into-a-security/) "
      ],
      "text/plain": [
       "<IPython.core.display.Markdown object>"
      ]
     },
     "execution_count": 3,
     "metadata": {},
     "output_type": "execute_result"
    }
   ],
   "source": [
    "#hide_input\n",
    "#md('##### {}'.format(titleBTC)) \n",
    "md(\"- {}{} {}{} [| Skaityti daugiau]({}) \".format(blockchain['title'],'. ', blockchain['body'], ' ...', blockchain['url']))"
   ]
  },
  {
   "cell_type": "code",
   "execution_count": 4,
   "id": "aging-caution",
   "metadata": {
    "execution": {
     "iopub.execute_input": "2022-09-16T03:56:30.793664Z",
     "iopub.status.busy": "2022-09-16T03:56:30.792832Z",
     "iopub.status.idle": "2022-09-16T03:56:30.797700Z",
     "shell.execute_reply": "2022-09-16T03:56:30.797126Z"
    },
    "papermill": {
     "duration": 0.023265,
     "end_time": "2022-09-16T03:56:30.797860",
     "exception": false,
     "start_time": "2022-09-16T03:56:30.774595",
     "status": "completed"
    },
    "tags": []
   },
   "outputs": [
    {
     "data": {
      "text/markdown": [
       "- Etheruem Bearish Turn Could Drag Bitcoin Lower, ATOM and GLM Rally.  Bitcoin price remained well below the $20,500 resistance zone. BTC is currently (03:30 UTC) trading below the $20,000 support zone. A downside break below $19,500 might start a major decline in the near term. Similarly, most major altcoins are struggling to start a fresh increase. ETH started a major decline and traded below the $1,500 support. XRP is moving lower towards the $0.32 support. ADA might revisit the $0.45 support zone....Read More: Etheruem Bearish Turn Could Drag Bitcoin Lower, ATOM and GLM Rally ... [| Skaityti daugiau](https://cryptonews.com/news/etheruem-bearish-turn-could-drag-bitcoin-lower-atom-glm-rally.htm) "
      ],
      "text/plain": [
       "<IPython.core.display.Markdown object>"
      ]
     },
     "execution_count": 4,
     "metadata": {},
     "output_type": "execute_result"
    }
   ],
   "source": [
    "#hide_input\n",
    "#md('##### {}'.format(titleBTC)) \n",
    "md(\"- {}{} {}{} [| Skaityti daugiau]({}) \".format(btc['title'],'. ', btc['body'], ' ...', btc['url']))"
   ]
  },
  {
   "cell_type": "code",
   "execution_count": 5,
   "id": "organic-actress",
   "metadata": {
    "execution": {
     "iopub.execute_input": "2022-09-16T03:56:30.828908Z",
     "iopub.status.busy": "2022-09-16T03:56:30.828107Z",
     "iopub.status.idle": "2022-09-16T03:56:30.832511Z",
     "shell.execute_reply": "2022-09-16T03:56:30.831930Z"
    },
    "papermill": {
     "duration": 0.022261,
     "end_time": "2022-09-16T03:56:30.832649",
     "exception": false,
     "start_time": "2022-09-16T03:56:30.810388",
     "status": "completed"
    },
    "tags": []
   },
   "outputs": [
    {
     "data": {
      "text/markdown": [
       "- Ripple price analysis: XRP/USD is gearing to test the resistance at $0.31255.  It is quite a bearish day for Ripple price analysis today, as the entire market is in a dip following the Ethereum marge. Ripple’s price has undergone a significant drop compared to the last 24 hours, as it currently trades for $0.32771. As we can see in the chart above, BTC has undergone a 2.04 &#8230;  Ripple price analysis: XRP/USD is gearing to test the resistance at $0.31255 Read More &#187; ... [| Skaityti daugiau](https://www.cryptopolitan.com/ripple-price-analysis-2022-09-16/) "
      ],
      "text/plain": [
       "<IPython.core.display.Markdown object>"
      ]
     },
     "execution_count": 5,
     "metadata": {},
     "output_type": "execute_result"
    }
   ],
   "source": [
    "#hide_input\n",
    "#md('##### {}'.format(titleBTC)) \n",
    "md(\"- {}{} {}{} [| Skaityti daugiau]({}) \".format(xrp['title'],'. ', xrp['body'], ' ...', xrp['url']))"
   ]
  },
  {
   "cell_type": "code",
   "execution_count": 6,
   "id": "prompt-farmer",
   "metadata": {
    "execution": {
     "iopub.execute_input": "2022-09-16T03:56:30.865620Z",
     "iopub.status.busy": "2022-09-16T03:56:30.864717Z",
     "iopub.status.idle": "2022-09-16T03:56:30.869556Z",
     "shell.execute_reply": "2022-09-16T03:56:30.868940Z"
    },
    "papermill": {
     "duration": 0.023868,
     "end_time": "2022-09-16T03:56:30.869700",
     "exception": false,
     "start_time": "2022-09-16T03:56:30.845832",
     "status": "completed"
    },
    "tags": []
   },
   "outputs": [
    {
     "data": {
      "text/markdown": [
       "- AVAX Price Rebound Fails To Breach $22 Resistance Due To High CPI Data.  AVAX had time to recoup from June to July and then in August, the token slipped and formed a bullish cup and handle pattern. AVAX intraday trading volume indicates a 38.7% plunge Avalanche sellers successfully reclaimes the 20-day EMA slope Trading volume skyrockets to 487 million Now, the pattern which can be spotted at the market bottom will serve as a feasible launchpad for the crypto&#8217;s recovery but in order to complete the pattern, the coin price should barrel past the $30.6 key resistance. With the reversal of the V-top formation seen at the key resistance level of $30.6, the AVAX coin price dropped to $18.4 of the Fibonacci retracement level. It is however beneficial for buyers who were able to position right at this level prompting a 25% spike to $22.53. On the other hand, the massive selloff happening in the crypto market hinders the recovery of AVAX price and threatens a further downtrend. The selloff that happened on September 13 has sloughed off the possibility of completing the pattern. Evidently, the downtrend that took place yesterday was triggered by the high CPI or Consumer Price Index data. Related Reading: Will Tron Tie-Up With Liquidity Provider Wintermute Boost TRX Price? AVAX Low Volume Hints At Bulls&#8217; Weakness According to CoinMarketCap, AVAX&#8217;s price is down by 1.51% or trading at $18.84 as of this writing. The low volume seen with AVAX implies the bull’s waning commitment or weakness. I... ... [| Skaityti daugiau](https://www.newsbtc.com/news/avax-fails-to-breach-22-resistance/) "
      ],
      "text/plain": [
       "<IPython.core.display.Markdown object>"
      ]
     },
     "execution_count": 6,
     "metadata": {},
     "output_type": "execute_result"
    }
   ],
   "source": [
    "#hide_input\n",
    "#md('##### {}'.format(titleBTC)) \n",
    "md(\"- {}{} {}{} [| Skaityti daugiau]({}) \".format(trx['title'],'. ', trx['body'], ' ...', trx['url']))"
   ]
  },
  {
   "cell_type": "code",
   "execution_count": 7,
   "id": "illegal-greece",
   "metadata": {
    "execution": {
     "iopub.execute_input": "2022-09-16T03:56:30.903791Z",
     "iopub.status.busy": "2022-09-16T03:56:30.902918Z",
     "iopub.status.idle": "2022-09-16T03:56:30.907855Z",
     "shell.execute_reply": "2022-09-16T03:56:30.907170Z"
    },
    "papermill": {
     "duration": 0.024539,
     "end_time": "2022-09-16T03:56:30.908004",
     "exception": false,
     "start_time": "2022-09-16T03:56:30.883465",
     "status": "completed"
    },
    "tags": []
   },
   "outputs": [
    {
     "data": {
      "text/markdown": [
       "- SEC Chair Warns That Merge Update Might Turn ETH Into A Security.  While the world was watching the Ethereum blockchain undergo the most important transition to Proof-of-Stake (PoS) on Thursday, SEC chair Gary Gensler also had all ears to the developments. Soon after the Merge event on Thursday, September 15, SEC chair Gary Gensler said that crypto assets and intermediaries that allow users to &#8220;stake&#8221; will have The post SEC Chair Warns That Merge Update Might Turn ETH Into A Security appeared first on CoinGape. ... [| Skaityti daugiau](https://coingape.com/sec-chair-warns-that-merge-update-might-turn-eth-into-a-security/) "
      ],
      "text/plain": [
       "<IPython.core.display.Markdown object>"
      ]
     },
     "execution_count": 7,
     "metadata": {},
     "output_type": "execute_result"
    }
   ],
   "source": [
    "#hide_input\n",
    "#md('##### {}'.format(titleBTC)) \n",
    "md(\"- {}{} {}{} [| Skaityti daugiau]({}) \".format(eth['title'],'. ', eth['body'], ' ...', eth['url']))"
   ]
  },
  {
   "cell_type": "code",
   "execution_count": 8,
   "id": "sublime-lounge",
   "metadata": {
    "execution": {
     "iopub.execute_input": "2022-09-16T03:56:30.945352Z",
     "iopub.status.busy": "2022-09-16T03:56:30.944552Z",
     "iopub.status.idle": "2022-09-16T03:56:30.949096Z",
     "shell.execute_reply": "2022-09-16T03:56:30.949748Z"
    },
    "papermill": {
     "duration": 0.026187,
     "end_time": "2022-09-16T03:56:30.949922",
     "exception": false,
     "start_time": "2022-09-16T03:56:30.923735",
     "status": "completed"
    },
    "tags": []
   },
   "outputs": [
    {
     "data": {
      "text/markdown": [
       "- Etheruem Bearish Turn Could Drag Bitcoin Lower, ATOM and GLM Rally.  Bitcoin price remained well below the $20,500 resistance zone. BTC is currently (03:30 UTC) trading below the $20,000 support zone. A downside break below $19,500 might start a major decline in the near term. Similarly, most major altcoins are struggling to start a fresh increase. ETH started a major decline and traded below the $1,500 support. XRP is moving lower towards the $0.32 support. ADA might revisit the $0.45 support zone....Read More: Etheruem Bearish Turn Could Drag Bitcoin Lower, ATOM and GLM Rally ... [| Skaityti daugiau](https://cryptonews.com/news/etheruem-bearish-turn-could-drag-bitcoin-lower-atom-glm-rally.htm) "
      ],
      "text/plain": [
       "<IPython.core.display.Markdown object>"
      ]
     },
     "execution_count": 8,
     "metadata": {},
     "output_type": "execute_result"
    }
   ],
   "source": [
    "#hide_input\n",
    "#md('##### {}'.format(titleBTC)) \n",
    "md(\"- {}{} {}{} [| Skaityti daugiau]({}) \".format(ada['title'],'. ', ada['body'], ' ...', ada['url']))"
   ]
  },
  {
   "cell_type": "code",
   "execution_count": 9,
   "id": "specified-ordering",
   "metadata": {
    "execution": {
     "iopub.execute_input": "2022-09-16T03:56:30.985316Z",
     "iopub.status.busy": "2022-09-16T03:56:30.984579Z",
     "iopub.status.idle": "2022-09-16T03:56:30.989487Z",
     "shell.execute_reply": "2022-09-16T03:56:30.988861Z"
    },
    "papermill": {
     "duration": 0.0251,
     "end_time": "2022-09-16T03:56:30.989618",
     "exception": false,
     "start_time": "2022-09-16T03:56:30.964518",
     "status": "completed"
    },
    "tags": []
   },
   "outputs": [
    {
     "data": {
      "text/markdown": [
       "- Thailand SEC Decides To Ban Crypto Companies Offering Staking And Lending Services.  Thailand&#8217;s Securities and Exchange Commission (SEC) has recently decided to ban crypto companies from offering staking and lending services. The primary reason behind doing so was to safeguard traders from the potential risks that are associated with crypto lenders. Many prominent crypto lenders have also suffered liquidity issues in recent times owing to the market [&#8230;] ... [| Skaityti daugiau](https://bitcoinist.com/thailand-sec-to-ban-crypto-staking-lending-services/) "
      ],
      "text/plain": [
       "<IPython.core.display.Markdown object>"
      ]
     },
     "execution_count": 9,
     "metadata": {},
     "output_type": "execute_result"
    }
   ],
   "source": [
    "#hide_input\n",
    "#md('##### {}'.format(titleBTC)) \n",
    "md(\"- {}{} {}{} [| Skaityti daugiau]({}) \".format(exchange['title'],'. ', exchange['body'], ' ...', exchange['url']))"
   ]
  },
  {
   "cell_type": "code",
   "execution_count": null,
   "id": "tender-livestock",
   "metadata": {
    "papermill": {
     "duration": 0.013853,
     "end_time": "2022-09-16T03:56:31.017581",
     "exception": false,
     "start_time": "2022-09-16T03:56:31.003728",
     "status": "completed"
    },
    "tags": []
   },
   "outputs": [],
   "source": []
  },
  {
   "cell_type": "code",
   "execution_count": null,
   "id": "appreciated-diamond",
   "metadata": {
    "papermill": {
     "duration": 0.013793,
     "end_time": "2022-09-16T03:56:31.045504",
     "exception": false,
     "start_time": "2022-09-16T03:56:31.031711",
     "status": "completed"
    },
    "tags": []
   },
   "outputs": [],
   "source": []
  },
  {
   "cell_type": "code",
   "execution_count": null,
   "id": "romance-sweden",
   "metadata": {
    "papermill": {
     "duration": 0.015482,
     "end_time": "2022-09-16T03:56:31.076535",
     "exception": false,
     "start_time": "2022-09-16T03:56:31.061053",
     "status": "completed"
    },
    "tags": []
   },
   "outputs": [],
   "source": []
  },
  {
   "cell_type": "code",
   "execution_count": null,
   "id": "dietary-statistics",
   "metadata": {
    "papermill": {
     "duration": 0.014134,
     "end_time": "2022-09-16T03:56:31.105484",
     "exception": false,
     "start_time": "2022-09-16T03:56:31.091350",
     "status": "completed"
    },
    "tags": []
   },
   "outputs": [],
   "source": []
  }
 ],
 "metadata": {
  "kernelspec": {
   "display_name": "Python 3",
   "language": "python",
   "name": "python3"
  },
  "language_info": {
   "codemirror_mode": {
    "name": "ipython",
    "version": 3
   },
   "file_extension": ".py",
   "mimetype": "text/x-python",
   "name": "python",
   "nbconvert_exporter": "python",
   "pygments_lexer": "ipython3",
   "version": "3.6.15"
  },
  "papermill": {
   "default_parameters": {},
   "duration": 15.73753,
   "end_time": "2022-09-16T03:56:31.639746",
   "environment_variables": {},
   "exception": null,
   "input_path": "Market-News.ipynb",
   "output_path": "Market-News.ipynb",
   "parameters": {},
   "start_time": "2022-09-16T03:56:15.902216",
   "version": "2.2.2"
  }
 },
 "nbformat": 4,
 "nbformat_minor": 5
}