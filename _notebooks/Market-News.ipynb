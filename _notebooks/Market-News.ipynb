{
 "cells": [
  {
   "cell_type": "markdown",
   "id": "short-greensboro",
   "metadata": {
    "papermill": {
     "duration": 0.012672,
     "end_time": "2022-08-21T03:17:31.034663",
     "exception": false,
     "start_time": "2022-08-21T03:17:31.021991",
     "status": "completed"
    },
    "tags": []
   },
   "source": [
    "# Kriptovaliutų naujienos"
   ]
  },
  {
   "cell_type": "code",
   "execution_count": 1,
   "id": "functioning-knowing",
   "metadata": {
    "execution": {
     "iopub.execute_input": "2022-08-21T03:17:31.064944Z",
     "iopub.status.busy": "2022-08-21T03:17:31.064339Z",
     "iopub.status.idle": "2022-08-21T03:17:32.234515Z",
     "shell.execute_reply": "2022-08-21T03:17:32.233947Z"
    },
    "papermill": {
     "duration": 1.190056,
     "end_time": "2022-08-21T03:17:32.234654",
     "exception": false,
     "start_time": "2022-08-21T03:17:31.044598",
     "status": "completed"
    },
    "tags": []
   },
   "outputs": [],
   "source": [
    "#hide_input\n",
    "import warnings\n",
    "warnings.filterwarnings('ignore')\n",
    "from scripts.read_data import read_api\n",
    "from scripts.read_data import read_news\n",
    "from scripts.read_data import read_covid\n",
    "import matplotlib.pyplot as plt \n",
    "from IPython.display import Markdown as md"
   ]
  },
  {
   "cell_type": "code",
   "execution_count": 2,
   "id": "shared-acceptance",
   "metadata": {
    "execution": {
     "iopub.execute_input": "2022-08-21T03:17:32.260028Z",
     "iopub.status.busy": "2022-08-21T03:17:32.259437Z",
     "iopub.status.idle": "2022-08-21T03:17:43.602593Z",
     "shell.execute_reply": "2022-08-21T03:17:43.602036Z"
    },
    "papermill": {
     "duration": 11.358564,
     "end_time": "2022-08-21T03:17:43.602710",
     "exception": false,
     "start_time": "2022-08-21T03:17:32.244146",
     "status": "completed"
    },
    "tags": []
   },
   "outputs": [],
   "source": [
    "#hide_input\n",
    "blockchain = read_news('blockchain') \n",
    "btc = read_news('btc') \n",
    "xrp = read_news('xrp') \n",
    "trx = read_news('trx') \n",
    "eth = read_news('eth')  \n",
    "ada = read_news('ada')\n",
    "exchange = read_news('exchange') "
   ]
  },
  {
   "cell_type": "code",
   "execution_count": 3,
   "id": "synthetic-notion",
   "metadata": {
    "execution": {
     "iopub.execute_input": "2022-08-21T03:17:43.627827Z",
     "iopub.status.busy": "2022-08-21T03:17:43.627245Z",
     "iopub.status.idle": "2022-08-21T03:17:43.632629Z",
     "shell.execute_reply": "2022-08-21T03:17:43.633051Z"
    },
    "papermill": {
     "duration": 0.021102,
     "end_time": "2022-08-21T03:17:43.633181",
     "exception": false,
     "start_time": "2022-08-21T03:17:43.612079",
     "status": "completed"
    },
    "tags": []
   },
   "outputs": [
    {
     "data": {
      "text/markdown": [
       "- Uniswap Blocked 253 Crypto Addresses, Here’s Why.  Uniswap the Decentralised exchange has blocked 253 crypto addresses over the last four months that it worked with TRM Labs, which is a blockchain analytics firm. The reason behind the blocking was tied to connections with stolen funds. This makes it the first ever time Uniswap disclosed data which is related to wallet blacklisting. These [&#8230;] ... [| Skaityti daugiau](https://bitcoinist.com/uniswap-blocked-253-crypto-addresses-heres-why/) "
      ],
      "text/plain": [
       "<IPython.core.display.Markdown object>"
      ]
     },
     "execution_count": 3,
     "metadata": {},
     "output_type": "execute_result"
    }
   ],
   "source": [
    "#hide_input\n",
    "#md('##### {}'.format(titleBTC)) \n",
    "md(\"- {}{} {}{} [| Skaityti daugiau]({}) \".format(blockchain['title'],'. ', blockchain['body'], ' ...', blockchain['url']))"
   ]
  },
  {
   "cell_type": "code",
   "execution_count": 4,
   "id": "aging-caution",
   "metadata": {
    "execution": {
     "iopub.execute_input": "2022-08-21T03:17:43.658267Z",
     "iopub.status.busy": "2022-08-21T03:17:43.657643Z",
     "iopub.status.idle": "2022-08-21T03:17:43.662958Z",
     "shell.execute_reply": "2022-08-21T03:17:43.662461Z"
    },
    "papermill": {
     "duration": 0.020275,
     "end_time": "2022-08-21T03:17:43.663104",
     "exception": false,
     "start_time": "2022-08-21T03:17:43.642829",
     "status": "completed"
    },
    "tags": []
   },
   "outputs": [
    {
     "data": {
      "text/markdown": [
       "- Why Bitcoin Could Never Have Been Invented In a University.  An invention like Bitcoin couldn’t be created in universities, but a shift toward interdisciplinary study can make further breakthroughs possible. ... [| Skaityti daugiau](https://bitcoinmagazine.com/culture/bitcoin-could-never-be-invented-in-a-university) "
      ],
      "text/plain": [
       "<IPython.core.display.Markdown object>"
      ]
     },
     "execution_count": 4,
     "metadata": {},
     "output_type": "execute_result"
    }
   ],
   "source": [
    "#hide_input\n",
    "#md('##### {}'.format(titleBTC)) \n",
    "md(\"- {}{} {}{} [| Skaityti daugiau]({}) \".format(btc['title'],'. ', btc['body'], ' ...', btc['url']))"
   ]
  },
  {
   "cell_type": "code",
   "execution_count": 5,
   "id": "organic-actress",
   "metadata": {
    "execution": {
     "iopub.execute_input": "2022-08-21T03:17:43.690459Z",
     "iopub.status.busy": "2022-08-21T03:17:43.689845Z",
     "iopub.status.idle": "2022-08-21T03:17:43.693615Z",
     "shell.execute_reply": "2022-08-21T03:17:43.694031Z"
    },
    "papermill": {
     "duration": 0.02087,
     "end_time": "2022-08-21T03:17:43.694180",
     "exception": false,
     "start_time": "2022-08-21T03:17:43.673310",
     "status": "completed"
    },
    "tags": []
   },
   "outputs": [
    {
     "data": {
      "text/markdown": [
       "- Ripple whales would be responsible for XRP’s next bull run and this is why.  Sharing a statistically significant positive correlation with Bitcoin [BTC], the price of Ripple’s XRP has been impacted by the price decline suffered by the king coin in the past seven days. Exchanging hands at $0.3422 at press time, the price per XRP dropped by 12% within that period. So far this month, the token has [&#8230;] ... [| Skaityti daugiau](https://ambcrypto.com/ripple-whales-would-be-responsible-for-xrps-next-bull-run-and-this-is-why/) "
      ],
      "text/plain": [
       "<IPython.core.display.Markdown object>"
      ]
     },
     "execution_count": 5,
     "metadata": {},
     "output_type": "execute_result"
    }
   ],
   "source": [
    "#hide_input\n",
    "#md('##### {}'.format(titleBTC)) \n",
    "md(\"- {}{} {}{} [| Skaityti daugiau]({}) \".format(xrp['title'],'. ', xrp['body'], ' ...', xrp['url']))"
   ]
  },
  {
   "cell_type": "code",
   "execution_count": 6,
   "id": "prompt-farmer",
   "metadata": {
    "execution": {
     "iopub.execute_input": "2022-08-21T03:17:43.719392Z",
     "iopub.status.busy": "2022-08-21T03:17:43.718811Z",
     "iopub.status.idle": "2022-08-21T03:17:43.724294Z",
     "shell.execute_reply": "2022-08-21T03:17:43.723840Z"
    },
    "papermill": {
     "duration": 0.020127,
     "end_time": "2022-08-21T03:17:43.724399",
     "exception": false,
     "start_time": "2022-08-21T03:17:43.704272",
     "status": "completed"
    },
    "tags": []
   },
   "outputs": [
    {
     "data": {
      "text/markdown": [
       "- Tron: Gauging TRX’s potential to offer any near-term buying opportunities.  Disclaimer: The findings of the following analysis are the sole opinions of the writer and should not be considered investment advice. For nearly two months, Tron [TRX] took a sideways track while maintaining its oscillation in the $0.0709-$0.063 range. The recent reversal from its ceiling gave the sellers enough thrust to pull the coin below [&#8230;] ... [| Skaityti daugiau](https://ambcrypto.com/tron-gauging-trxs-potential-to-offer-any-near-term-buying-opportunities/) "
      ],
      "text/plain": [
       "<IPython.core.display.Markdown object>"
      ]
     },
     "execution_count": 6,
     "metadata": {},
     "output_type": "execute_result"
    }
   ],
   "source": [
    "#hide_input\n",
    "#md('##### {}'.format(titleBTC)) \n",
    "md(\"- {}{} {}{} [| Skaityti daugiau]({}) \".format(trx['title'],'. ', trx['body'], ' ...', trx['url']))"
   ]
  },
  {
   "cell_type": "code",
   "execution_count": 7,
   "id": "illegal-greece",
   "metadata": {
    "execution": {
     "iopub.execute_input": "2022-08-21T03:17:43.752092Z",
     "iopub.status.busy": "2022-08-21T03:17:43.751085Z",
     "iopub.status.idle": "2022-08-21T03:17:43.753772Z",
     "shell.execute_reply": "2022-08-21T03:17:43.754212Z"
    },
    "papermill": {
     "duration": 0.019314,
     "end_time": "2022-08-21T03:17:43.754333",
     "exception": false,
     "start_time": "2022-08-21T03:17:43.735019",
     "status": "completed"
    },
    "tags": []
   },
   "outputs": [
    {
     "data": {
      "text/markdown": [
       "- Solana: Assessing the odds of SOL surviving the latest crypto bloodbath.  Solana [SOL] has emerged as one of the biggest losers from the 19 August bloodbath in the crypto market. The famed Ethereum [ETH] killer has now lost the highest value among top 10 cryptocurrencies per Coin Market Cap. The SOL token is currently down 21.6% over the past week as the market showed a sharp [&#8230;] ... [| Skaityti daugiau](https://ambcrypto.com/solana-assessing-the-odds-of-sol-surviving-the-latest-crypto-bloodbath/) "
      ],
      "text/plain": [
       "<IPython.core.display.Markdown object>"
      ]
     },
     "execution_count": 7,
     "metadata": {},
     "output_type": "execute_result"
    }
   ],
   "source": [
    "#hide_input\n",
    "#md('##### {}'.format(titleBTC)) \n",
    "md(\"- {}{} {}{} [| Skaityti daugiau]({}) \".format(eth['title'],'. ', eth['body'], ' ...', eth['url']))"
   ]
  },
  {
   "cell_type": "code",
   "execution_count": 8,
   "id": "sublime-lounge",
   "metadata": {
    "execution": {
     "iopub.execute_input": "2022-08-21T03:17:43.781605Z",
     "iopub.status.busy": "2022-08-21T03:17:43.781015Z",
     "iopub.status.idle": "2022-08-21T03:17:43.786477Z",
     "shell.execute_reply": "2022-08-21T03:17:43.785967Z"
    },
    "papermill": {
     "duration": 0.020532,
     "end_time": "2022-08-21T03:17:43.786578",
     "exception": false,
     "start_time": "2022-08-21T03:17:43.766046",
     "status": "completed"
    },
    "tags": []
   },
   "outputs": [
    {
     "data": {
      "text/markdown": [
       "- Cardano Price Risks 50% Drop, But The Vasil Upgrade Euphoria Could Be Its Boon.  The asset had been amassing gains in the past weeks and subduing key resistances effortlessly. However, the recently engineered turbulent corrections have knocked ADA far below its major support. ... [| Skaityti daugiau](https://zycrypto.com/cardano-price-risks-50-drop-but-the-vasil-upgrade-euphoria-could-be-its-boon/) "
      ],
      "text/plain": [
       "<IPython.core.display.Markdown object>"
      ]
     },
     "execution_count": 8,
     "metadata": {},
     "output_type": "execute_result"
    }
   ],
   "source": [
    "#hide_input\n",
    "#md('##### {}'.format(titleBTC)) \n",
    "md(\"- {}{} {}{} [| Skaityti daugiau]({}) \".format(ada['title'],'. ', ada['body'], ' ...', ada['url']))"
   ]
  },
  {
   "cell_type": "code",
   "execution_count": 9,
   "id": "specified-ordering",
   "metadata": {
    "execution": {
     "iopub.execute_input": "2022-08-21T03:17:43.815375Z",
     "iopub.status.busy": "2022-08-21T03:17:43.814805Z",
     "iopub.status.idle": "2022-08-21T03:17:43.820581Z",
     "shell.execute_reply": "2022-08-21T03:17:43.820108Z"
    },
    "papermill": {
     "duration": 0.022605,
     "end_time": "2022-08-21T03:17:43.820685",
     "exception": false,
     "start_time": "2022-08-21T03:17:43.798080",
     "status": "completed"
    },
    "tags": []
   },
   "outputs": [
    {
     "data": {
      "text/markdown": [
       "- Uniswap Blocked 253 Crypto Addresses, Here’s Why.  Uniswap the Decentralised exchange has blocked 253 crypto addresses over the last four months that it worked with TRM Labs, which is a blockchain analytics firm. The reason behind the blocking was tied to connections with stolen funds. This makes it the first ever time Uniswap disclosed data which is related to wallet blacklisting. These [&#8230;] ... [| Skaityti daugiau](https://bitcoinist.com/uniswap-blocked-253-crypto-addresses-heres-why/) "
      ],
      "text/plain": [
       "<IPython.core.display.Markdown object>"
      ]
     },
     "execution_count": 9,
     "metadata": {},
     "output_type": "execute_result"
    }
   ],
   "source": [
    "#hide_input\n",
    "#md('##### {}'.format(titleBTC)) \n",
    "md(\"- {}{} {}{} [| Skaityti daugiau]({}) \".format(exchange['title'],'. ', exchange['body'], ' ...', exchange['url']))"
   ]
  },
  {
   "cell_type": "code",
   "execution_count": null,
   "id": "tender-livestock",
   "metadata": {
    "papermill": {
     "duration": 0.011554,
     "end_time": "2022-08-21T03:17:43.843584",
     "exception": false,
     "start_time": "2022-08-21T03:17:43.832030",
     "status": "completed"
    },
    "tags": []
   },
   "outputs": [],
   "source": []
  },
  {
   "cell_type": "code",
   "execution_count": null,
   "id": "appreciated-diamond",
   "metadata": {
    "papermill": {
     "duration": 0.011437,
     "end_time": "2022-08-21T03:17:43.866524",
     "exception": false,
     "start_time": "2022-08-21T03:17:43.855087",
     "status": "completed"
    },
    "tags": []
   },
   "outputs": [],
   "source": []
  },
  {
   "cell_type": "code",
   "execution_count": null,
   "id": "romance-sweden",
   "metadata": {
    "papermill": {
     "duration": 0.011198,
     "end_time": "2022-08-21T03:17:43.889006",
     "exception": false,
     "start_time": "2022-08-21T03:17:43.877808",
     "status": "completed"
    },
    "tags": []
   },
   "outputs": [],
   "source": []
  },
  {
   "cell_type": "code",
   "execution_count": null,
   "id": "dietary-statistics",
   "metadata": {
    "papermill": {
     "duration": 0.011225,
     "end_time": "2022-08-21T03:17:43.911712",
     "exception": false,
     "start_time": "2022-08-21T03:17:43.900487",
     "status": "completed"
    },
    "tags": []
   },
   "outputs": [],
   "source": []
  }
 ],
 "metadata": {
  "kernelspec": {
   "display_name": "Python 3",
   "language": "python",
   "name": "python3"
  },
  "language_info": {
   "codemirror_mode": {
    "name": "ipython",
    "version": 3
   },
   "file_extension": ".py",
   "mimetype": "text/x-python",
   "name": "python",
   "nbconvert_exporter": "python",
   "pygments_lexer": "ipython3",
   "version": "3.6.15"
  },
  "papermill": {
   "default_parameters": {},
   "duration": 14.244869,
   "end_time": "2022-08-21T03:17:44.340605",
   "environment_variables": {},
   "exception": null,
   "input_path": "Market-News.ipynb",
   "output_path": "Market-News.ipynb",
   "parameters": {},
   "start_time": "2022-08-21T03:17:30.095736",
   "version": "2.2.2"
  }
 },
 "nbformat": 4,
 "nbformat_minor": 5
}