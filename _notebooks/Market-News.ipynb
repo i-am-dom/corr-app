{
 "cells": [
  {
   "cell_type": "markdown",
   "id": "short-greensboro",
   "metadata": {
    "papermill": {
     "duration": 0.016934,
     "end_time": "2022-01-20T02:14:33.026038",
     "exception": false,
     "start_time": "2022-01-20T02:14:33.009104",
     "status": "completed"
    },
    "tags": []
   },
   "source": [
    "# Kriptovaliutų naujienos"
   ]
  },
  {
   "cell_type": "code",
   "execution_count": 1,
   "id": "functioning-knowing",
   "metadata": {
    "execution": {
     "iopub.execute_input": "2022-01-20T02:14:33.057319Z",
     "iopub.status.busy": "2022-01-20T02:14:33.056702Z",
     "iopub.status.idle": "2022-01-20T02:14:34.414310Z",
     "shell.execute_reply": "2022-01-20T02:14:34.413360Z"
    },
    "papermill": {
     "duration": 1.379089,
     "end_time": "2022-01-20T02:14:34.414570",
     "exception": false,
     "start_time": "2022-01-20T02:14:33.035481",
     "status": "completed"
    },
    "tags": []
   },
   "outputs": [],
   "source": [
    "#hide_input\n",
    "import warnings\n",
    "warnings.filterwarnings('ignore')\n",
    "from scripts.read_data import read_api\n",
    "from scripts.read_data import read_news\n",
    "from scripts.read_data import read_covid\n",
    "import matplotlib.pyplot as plt \n",
    "from IPython.display import Markdown as md"
   ]
  },
  {
   "cell_type": "code",
   "execution_count": 2,
   "id": "shared-acceptance",
   "metadata": {
    "execution": {
     "iopub.execute_input": "2022-01-20T02:14:34.443029Z",
     "iopub.status.busy": "2022-01-20T02:14:34.442505Z",
     "iopub.status.idle": "2022-01-20T02:14:45.549755Z",
     "shell.execute_reply": "2022-01-20T02:14:45.548568Z"
    },
    "papermill": {
     "duration": 11.123825,
     "end_time": "2022-01-20T02:14:45.549932",
     "exception": false,
     "start_time": "2022-01-20T02:14:34.426107",
     "status": "completed"
    },
    "tags": []
   },
   "outputs": [],
   "source": [
    "#hide_input\n",
    "blockchain = read_news('blockchain') \n",
    "btc = read_news('btc') \n",
    "xrp = read_news('xrp') \n",
    "trx = read_news('trx') \n",
    "eth = read_news('eth')  \n",
    "ada = read_news('ada')\n",
    "exchange = read_news('exchange') "
   ]
  },
  {
   "cell_type": "code",
   "execution_count": 3,
   "id": "synthetic-notion",
   "metadata": {
    "execution": {
     "iopub.execute_input": "2022-01-20T02:14:45.576379Z",
     "iopub.status.busy": "2022-01-20T02:14:45.575706Z",
     "iopub.status.idle": "2022-01-20T02:14:45.578206Z",
     "shell.execute_reply": "2022-01-20T02:14:45.578720Z"
    },
    "papermill": {
     "duration": 0.019129,
     "end_time": "2022-01-20T02:14:45.578870",
     "exception": false,
     "start_time": "2022-01-20T02:14:45.559741",
     "status": "completed"
    },
    "tags": []
   },
   "outputs": [
    {
     "data": {
      "text/markdown": [
       "- Google Creates Blockchain Unit, Hires New ‘Founding Leader’.  Google has appointed an executive to lead its newly formed unit dedicated to blockchain and data storage tech.The post Google Creates Blockchain Unit, Hires New &#8216;Founding Leader&#8217; appeared first on Blockworks. ... [| Skaityti daugiau](https://blockworks.co/google-creates-blockchain-unit-hires-new-founding-leader/) "
      ],
      "text/plain": [
       "<IPython.core.display.Markdown object>"
      ]
     },
     "execution_count": 3,
     "metadata": {},
     "output_type": "execute_result"
    }
   ],
   "source": [
    "#hide_input\n",
    "#md('##### {}'.format(titleBTC)) \n",
    "md(\"- {}{} {}{} [| Skaityti daugiau]({}) \".format(blockchain['title'],'. ', blockchain['body'], ' ...', blockchain['url']))"
   ]
  },
  {
   "cell_type": "code",
   "execution_count": 4,
   "id": "aging-caution",
   "metadata": {
    "execution": {
     "iopub.execute_input": "2022-01-20T02:14:45.605359Z",
     "iopub.status.busy": "2022-01-20T02:14:45.604503Z",
     "iopub.status.idle": "2022-01-20T02:14:45.607704Z",
     "shell.execute_reply": "2022-01-20T02:14:45.608385Z"
    },
    "papermill": {
     "duration": 0.020303,
     "end_time": "2022-01-20T02:14:45.608569",
     "exception": false,
     "start_time": "2022-01-20T02:14:45.588266",
     "status": "completed"
    },
    "tags": []
   },
   "outputs": [
    {
     "data": {
      "text/markdown": [
       "- HIFO: The Tax Loophole That Could Be Helping Bitcoin Investors This Tax Season.  &#8216;Highest in, first out&#8217; aka HIFO is a tax accounting method that can be a very good thing to know as an investor dabbling In crypto this past year. As we approach tax season and related questions continue to rise to the top, let&#8217;s take a look at a tax methodology that we are seeing [&#8230;] ... [| Skaityti daugiau](https://bitcoinist.com/hifo-the-tax-loophole/) "
      ],
      "text/plain": [
       "<IPython.core.display.Markdown object>"
      ]
     },
     "execution_count": 4,
     "metadata": {},
     "output_type": "execute_result"
    }
   ],
   "source": [
    "#hide_input\n",
    "#md('##### {}'.format(titleBTC)) \n",
    "md(\"- {}{} {}{} [| Skaityti daugiau]({}) \".format(btc['title'],'. ', btc['body'], ' ...', btc['url']))"
   ]
  },
  {
   "cell_type": "code",
   "execution_count": 5,
   "id": "organic-actress",
   "metadata": {
    "execution": {
     "iopub.execute_input": "2022-01-20T02:14:45.637532Z",
     "iopub.status.busy": "2022-01-20T02:14:45.636497Z",
     "iopub.status.idle": "2022-01-20T02:14:45.641158Z",
     "shell.execute_reply": "2022-01-20T02:14:45.641521Z"
    },
    "papermill": {
     "duration": 0.022396,
     "end_time": "2022-01-20T02:14:45.641651",
     "exception": false,
     "start_time": "2022-01-20T02:14:45.619255",
     "status": "completed"
    },
    "tags": []
   },
   "outputs": [
    {
     "data": {
      "text/markdown": [
       "- XRP is caught in a wave of selling that could take it to….  Disclaimer: The findings of the following analysis are the sole opinions of the writer and should not be considered investment advice XRP has been on a strong downtrend since November when it hit highs of $1.34. The weeks that followed saw the $1 area lost to the bears. At press time, the $0.76 area of former [&#8230;] ... [| Skaityti daugiau](https://ambcrypto.com/xrp-is-caught-in-a-wave-of-selling-that-could-take-it-to/) "
      ],
      "text/plain": [
       "<IPython.core.display.Markdown object>"
      ]
     },
     "execution_count": 5,
     "metadata": {},
     "output_type": "execute_result"
    }
   ],
   "source": [
    "#hide_input\n",
    "#md('##### {}'.format(titleBTC)) \n",
    "md(\"- {}{} {}{} [| Skaityti daugiau]({}) \".format(xrp['title'],'. ', xrp['body'], ' ...', xrp['url']))"
   ]
  },
  {
   "cell_type": "code",
   "execution_count": 6,
   "id": "prompt-farmer",
   "metadata": {
    "execution": {
     "iopub.execute_input": "2022-01-20T02:14:45.666572Z",
     "iopub.status.busy": "2022-01-20T02:14:45.665978Z",
     "iopub.status.idle": "2022-01-20T02:14:45.669244Z",
     "shell.execute_reply": "2022-01-20T02:14:45.668748Z"
    },
    "papermill": {
     "duration": 0.017396,
     "end_time": "2022-01-20T02:14:45.669356",
     "exception": false,
     "start_time": "2022-01-20T02:14:45.651960",
     "status": "completed"
    },
    "tags": []
   },
   "outputs": [
    {
     "data": {
      "text/markdown": [
       "- TRON (TRX) Annual Statistics Represent an Excellent Track Record.  TRON reached $14.06 billion in TVL and ended the year at $9.98 billion TVL. The networks entire on-chain asset valueThe post has appeared first on thenewscrypto.com ... [| Skaityti daugiau](https://thenewscrypto.com/tron-trx-annual-statistics-represent-an-excellent-track-record/) "
      ],
      "text/plain": [
       "<IPython.core.display.Markdown object>"
      ]
     },
     "execution_count": 6,
     "metadata": {},
     "output_type": "execute_result"
    }
   ],
   "source": [
    "#hide_input\n",
    "#md('##### {}'.format(titleBTC)) \n",
    "md(\"- {}{} {}{} [| Skaityti daugiau]({}) \".format(trx['title'],'. ', trx['body'], ' ...', trx['url']))"
   ]
  },
  {
   "cell_type": "code",
   "execution_count": 7,
   "id": "illegal-greece",
   "metadata": {
    "execution": {
     "iopub.execute_input": "2022-01-20T02:14:45.697751Z",
     "iopub.status.busy": "2022-01-20T02:14:45.697150Z",
     "iopub.status.idle": "2022-01-20T02:14:45.700570Z",
     "shell.execute_reply": "2022-01-20T02:14:45.701098Z"
    },
    "papermill": {
     "duration": 0.020569,
     "end_time": "2022-01-20T02:14:45.701236",
     "exception": false,
     "start_time": "2022-01-20T02:14:45.680667",
     "status": "completed"
    },
    "tags": []
   },
   "outputs": [
    {
     "data": {
      "text/markdown": [
       "- Individual ETH miner hits jackpot with $540K block reward.  An individual miner defied the odds and managed to collect 168 ETH from a solo mining pool this week worth 42 times the average block reward. ... [| Skaityti daugiau](https://cointelegraph.com/news/individual-eth-miner-hits-jackpot-with-540k-block-reward) "
      ],
      "text/plain": [
       "<IPython.core.display.Markdown object>"
      ]
     },
     "execution_count": 7,
     "metadata": {},
     "output_type": "execute_result"
    }
   ],
   "source": [
    "#hide_input\n",
    "#md('##### {}'.format(titleBTC)) \n",
    "md(\"- {}{} {}{} [| Skaityti daugiau]({}) \".format(eth['title'],'. ', eth['body'], ' ...', eth['url']))"
   ]
  },
  {
   "cell_type": "code",
   "execution_count": 8,
   "id": "sublime-lounge",
   "metadata": {
    "execution": {
     "iopub.execute_input": "2022-01-20T02:14:45.731463Z",
     "iopub.status.busy": "2022-01-20T02:14:45.730621Z",
     "iopub.status.idle": "2022-01-20T02:14:45.735443Z",
     "shell.execute_reply": "2022-01-20T02:14:45.734973Z"
    },
    "papermill": {
     "duration": 0.022791,
     "end_time": "2022-01-20T02:14:45.735565",
     "exception": false,
     "start_time": "2022-01-20T02:14:45.712774",
     "status": "completed"
    },
    "tags": []
   },
   "outputs": [
    {
     "data": {
      "text/markdown": [
       "- Will This Event Send Cardano To The Bears Again? Or Will Cardano Hop Onto The Bandwagon Led By The Bulls?.  The post Will This Event Send Cardano To The Bears Again? Or Will Cardano Hop Onto The Bandwagon Led By The Bulls? appeared first on Coinpedia - Fintech &amp; Cryptocurreny News Media| Crypto GuideThe cryptoverse is curious over a major event, which this time around is from the stable of Cardano. The curiosity is justifiable as it come from a major blockchain of the industry. Which has been under the gloom for a better part of the last quarter, owing to its Alonzo hard fork upgrade. Which was &#8230; ... [| Skaityti daugiau](https://coinpedia.org/altcoin/will-this-event-send-cardano-to-the-bears-again-or-will-cardano-hop-onto-the-bandwagon-led-by-the-bulls/) "
      ],
      "text/plain": [
       "<IPython.core.display.Markdown object>"
      ]
     },
     "execution_count": 8,
     "metadata": {},
     "output_type": "execute_result"
    }
   ],
   "source": [
    "#hide_input\n",
    "#md('##### {}'.format(titleBTC)) \n",
    "md(\"- {}{} {}{} [| Skaityti daugiau]({}) \".format(ada['title'],'. ', ada['body'], ' ...', ada['url']))"
   ]
  },
  {
   "cell_type": "code",
   "execution_count": 9,
   "id": "specified-ordering",
   "metadata": {
    "execution": {
     "iopub.execute_input": "2022-01-20T02:14:45.764625Z",
     "iopub.status.busy": "2022-01-20T02:14:45.764079Z",
     "iopub.status.idle": "2022-01-20T02:14:45.766936Z",
     "shell.execute_reply": "2022-01-20T02:14:45.767424Z"
    },
    "papermill": {
     "duration": 0.019824,
     "end_time": "2022-01-20T02:14:45.767543",
     "exception": false,
     "start_time": "2022-01-20T02:14:45.747719",
     "status": "completed"
    },
    "tags": []
   },
   "outputs": [
    {
     "data": {
      "text/markdown": [
       "- Mastercard and Coinbase Partner to Make NFTs More Accessible to Everyone.  Payments giant Mastercard has partnered with cryptocurrency exchange Coinbase to make non-fungible tokens (NFTs) more accessible to everyone. Mastercards can be used to make purchases on Coinbase&#x2019;s upcoming NFT marketplace. Mastercard Partners With Coinbase Payments giant Mastercard and cryptocurrency exchange Coinbase independently announced their partnership Tuesday. Mastercard stated that the company is &#x201C;Making it easier [&#8230;] ... [| Skaityti daugiau](https://news.bitcoin.com/mastercard-coinbase-partner-make-nfts-more-accessible-to-everyone/) "
      ],
      "text/plain": [
       "<IPython.core.display.Markdown object>"
      ]
     },
     "execution_count": 9,
     "metadata": {},
     "output_type": "execute_result"
    }
   ],
   "source": [
    "#hide_input\n",
    "#md('##### {}'.format(titleBTC)) \n",
    "md(\"- {}{} {}{} [| Skaityti daugiau]({}) \".format(exchange['title'],'. ', exchange['body'], ' ...', exchange['url']))"
   ]
  },
  {
   "cell_type": "code",
   "execution_count": null,
   "id": "tender-livestock",
   "metadata": {
    "papermill": {
     "duration": 0.011869,
     "end_time": "2022-01-20T02:14:45.790678",
     "exception": false,
     "start_time": "2022-01-20T02:14:45.778809",
     "status": "completed"
    },
    "tags": []
   },
   "outputs": [],
   "source": []
  },
  {
   "cell_type": "code",
   "execution_count": null,
   "id": "appreciated-diamond",
   "metadata": {
    "papermill": {
     "duration": 0.011653,
     "end_time": "2022-01-20T02:14:45.814162",
     "exception": false,
     "start_time": "2022-01-20T02:14:45.802509",
     "status": "completed"
    },
    "tags": []
   },
   "outputs": [],
   "source": []
  },
  {
   "cell_type": "code",
   "execution_count": null,
   "id": "romance-sweden",
   "metadata": {
    "papermill": {
     "duration": 0.011444,
     "end_time": "2022-01-20T02:14:45.837672",
     "exception": false,
     "start_time": "2022-01-20T02:14:45.826228",
     "status": "completed"
    },
    "tags": []
   },
   "outputs": [],
   "source": []
  },
  {
   "cell_type": "code",
   "execution_count": null,
   "id": "dietary-statistics",
   "metadata": {
    "papermill": {
     "duration": 0.011462,
     "end_time": "2022-01-20T02:14:45.860203",
     "exception": false,
     "start_time": "2022-01-20T02:14:45.848741",
     "status": "completed"
    },
    "tags": []
   },
   "outputs": [],
   "source": []
  }
 ],
 "metadata": {
  "kernelspec": {
   "display_name": "Python 3",
   "language": "python",
   "name": "python3"
  },
  "language_info": {
   "codemirror_mode": {
    "name": "ipython",
    "version": 3
   },
   "file_extension": ".py",
   "mimetype": "text/x-python",
   "name": "python",
   "nbconvert_exporter": "python",
   "pygments_lexer": "ipython3",
   "version": "3.6.15"
  },
  "papermill": {
   "default_parameters": {},
   "duration": 14.546671,
   "end_time": "2022-01-20T02:14:46.293271",
   "environment_variables": {},
   "exception": null,
   "input_path": "Market-News.ipynb",
   "output_path": "Market-News.ipynb",
   "parameters": {},
   "start_time": "2022-01-20T02:14:31.746600",
   "version": "2.2.2"
  }
 },
 "nbformat": 4,
 "nbformat_minor": 5
}