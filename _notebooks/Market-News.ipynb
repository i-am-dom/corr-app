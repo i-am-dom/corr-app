{
 "cells": [
  {
   "cell_type": "markdown",
   "id": "short-greensboro",
   "metadata": {
    "papermill": {
     "duration": 0.013188,
     "end_time": "2022-06-16T03:02:19.709321",
     "exception": false,
     "start_time": "2022-06-16T03:02:19.696133",
     "status": "completed"
    },
    "tags": []
   },
   "source": [
    "# Kriptovaliutų naujienos"
   ]
  },
  {
   "cell_type": "code",
   "execution_count": 1,
   "id": "functioning-knowing",
   "metadata": {
    "execution": {
     "iopub.execute_input": "2022-06-16T03:02:19.738479Z",
     "iopub.status.busy": "2022-06-16T03:02:19.737884Z",
     "iopub.status.idle": "2022-06-16T03:02:20.968268Z",
     "shell.execute_reply": "2022-06-16T03:02:20.967668Z"
    },
    "papermill": {
     "duration": 1.249428,
     "end_time": "2022-06-16T03:02:20.968425",
     "exception": false,
     "start_time": "2022-06-16T03:02:19.718997",
     "status": "completed"
    },
    "tags": []
   },
   "outputs": [],
   "source": [
    "#hide_input\n",
    "import warnings\n",
    "warnings.filterwarnings('ignore')\n",
    "from scripts.read_data import read_api\n",
    "from scripts.read_data import read_news\n",
    "from scripts.read_data import read_covid\n",
    "import matplotlib.pyplot as plt \n",
    "from IPython.display import Markdown as md"
   ]
  },
  {
   "cell_type": "code",
   "execution_count": 2,
   "id": "shared-acceptance",
   "metadata": {
    "execution": {
     "iopub.execute_input": "2022-06-16T03:02:20.993033Z",
     "iopub.status.busy": "2022-06-16T03:02:20.992450Z",
     "iopub.status.idle": "2022-06-16T03:02:29.669614Z",
     "shell.execute_reply": "2022-06-16T03:02:29.668500Z"
    },
    "papermill": {
     "duration": 8.691967,
     "end_time": "2022-06-16T03:02:29.669761",
     "exception": false,
     "start_time": "2022-06-16T03:02:20.977794",
     "status": "completed"
    },
    "tags": []
   },
   "outputs": [],
   "source": [
    "#hide_input\n",
    "blockchain = read_news('blockchain') \n",
    "btc = read_news('btc') \n",
    "xrp = read_news('xrp') \n",
    "trx = read_news('trx') \n",
    "eth = read_news('eth')  \n",
    "ada = read_news('ada')\n",
    "exchange = read_news('exchange') "
   ]
  },
  {
   "cell_type": "code",
   "execution_count": 3,
   "id": "synthetic-notion",
   "metadata": {
    "execution": {
     "iopub.execute_input": "2022-06-16T03:02:29.694542Z",
     "iopub.status.busy": "2022-06-16T03:02:29.693895Z",
     "iopub.status.idle": "2022-06-16T03:02:29.697222Z",
     "shell.execute_reply": "2022-06-16T03:02:29.696767Z"
    },
    "papermill": {
     "duration": 0.018185,
     "end_time": "2022-06-16T03:02:29.697333",
     "exception": false,
     "start_time": "2022-06-16T03:02:29.679148",
     "status": "completed"
    },
    "tags": []
   },
   "outputs": [
    {
     "data": {
      "text/markdown": [
       "- Why Cryptocurrencies Are a Bad Choice for Criminals and Money Launderers.  Early on, blockchain was known for its alleged anonymity. It proved impossible to attack the Bitcoin network, even with the most advanced quantum supercomputers yet to be developed. SHA-256 hash encryption made money untraceable, incorruptible, and impenetrable. This notion of impregnable anonymity originated with bitcoin but quickly spread to other cryptocurrencies. This, in turn, stirred the notion that cryptocurrencies are a safe haven for illicit activities, criminals, money launderers, and all other bad actors. However, the truth concerning anonymity, like so many other aspects of crypto, is a little more complicated. Pseudonymous Vs. Anonymous An anonymous individual can function or communicate in ways that make them unidentifiable. A pseudonym user can be identified, but their identity is hidden. People can post anonymously in a website’s comments section without logging in. It’s anonymous. The Rock, whose real name is Dwyane Johnson, is an example of a pseudonym, as is any other professional who uses a stage name. Although many cryptocurrencies, like bitcoin (BTC), are more traceable than cash transactions, others, including Zcash (ZEC), Monero (XMR), Grin (GRIN), and Beam (BEAM), were designed with anonymity and privacy in mind. While many transactions take place anonymously and often aid unlawful conduct, privacy is a fundamental human right that governments provide to individuals and is a crucial component of greate... ... [| Skaityti daugiau](https://www.cryptoknowmics.com/news/why-cryptocurrencies-are-a-bad-choice-for-criminals-and-money-launderers/?utm_source=rss&utm_medium=rss&utm_campaign=why-cryptocurrencies-are-a-bad-choice-for-criminals-and-money-launderers) "
      ],
      "text/plain": [
       "<IPython.core.display.Markdown object>"
      ]
     },
     "execution_count": 3,
     "metadata": {},
     "output_type": "execute_result"
    }
   ],
   "source": [
    "#hide_input\n",
    "#md('##### {}'.format(titleBTC)) \n",
    "md(\"- {}{} {}{} [| Skaityti daugiau]({}) \".format(blockchain['title'],'. ', blockchain['body'], ' ...', blockchain['url']))"
   ]
  },
  {
   "cell_type": "code",
   "execution_count": 4,
   "id": "aging-caution",
   "metadata": {
    "execution": {
     "iopub.execute_input": "2022-06-16T03:02:29.720862Z",
     "iopub.status.busy": "2022-06-16T03:02:29.720197Z",
     "iopub.status.idle": "2022-06-16T03:02:29.723429Z",
     "shell.execute_reply": "2022-06-16T03:02:29.722980Z"
    },
    "papermill": {
     "duration": 0.017012,
     "end_time": "2022-06-16T03:02:29.723536",
     "exception": false,
     "start_time": "2022-06-16T03:02:29.706524",
     "status": "completed"
    },
    "tags": []
   },
   "outputs": [
    {
     "data": {
      "text/markdown": [
       "- Why Cryptocurrencies Are a Bad Choice for Criminals and Money Launderers.  Early on, blockchain was known for its alleged anonymity. It proved impossible to attack the Bitcoin network, even with the most advanced quantum supercomputers yet to be developed. SHA-256 hash encryption made money untraceable, incorruptible, and impenetrable. This notion of impregnable anonymity originated with bitcoin but quickly spread to other cryptocurrencies. This, in turn, stirred the notion that cryptocurrencies are a safe haven for illicit activities, criminals, money launderers, and all other bad actors. However, the truth concerning anonymity, like so many other aspects of crypto, is a little more complicated. Pseudonymous Vs. Anonymous An anonymous individual can function or communicate in ways that make them unidentifiable. A pseudonym user can be identified, but their identity is hidden. People can post anonymously in a website’s comments section without logging in. It’s anonymous. The Rock, whose real name is Dwyane Johnson, is an example of a pseudonym, as is any other professional who uses a stage name. Although many cryptocurrencies, like bitcoin (BTC), are more traceable than cash transactions, others, including Zcash (ZEC), Monero (XMR), Grin (GRIN), and Beam (BEAM), were designed with anonymity and privacy in mind. While many transactions take place anonymously and often aid unlawful conduct, privacy is a fundamental human right that governments provide to individuals and is a crucial component of greate... ... [| Skaityti daugiau](https://www.cryptoknowmics.com/news/why-cryptocurrencies-are-a-bad-choice-for-criminals-and-money-launderers/?utm_source=rss&utm_medium=rss&utm_campaign=why-cryptocurrencies-are-a-bad-choice-for-criminals-and-money-launderers) "
      ],
      "text/plain": [
       "<IPython.core.display.Markdown object>"
      ]
     },
     "execution_count": 4,
     "metadata": {},
     "output_type": "execute_result"
    }
   ],
   "source": [
    "#hide_input\n",
    "#md('##### {}'.format(titleBTC)) \n",
    "md(\"- {}{} {}{} [| Skaityti daugiau]({}) \".format(btc['title'],'. ', btc['body'], ' ...', btc['url']))"
   ]
  },
  {
   "cell_type": "code",
   "execution_count": 5,
   "id": "organic-actress",
   "metadata": {
    "execution": {
     "iopub.execute_input": "2022-06-16T03:02:29.747549Z",
     "iopub.status.busy": "2022-06-16T03:02:29.746883Z",
     "iopub.status.idle": "2022-06-16T03:02:29.749487Z",
     "shell.execute_reply": "2022-06-16T03:02:29.749987Z"
    },
    "papermill": {
     "duration": 0.017081,
     "end_time": "2022-06-16T03:02:29.750115",
     "exception": false,
     "start_time": "2022-06-16T03:02:29.733034",
     "status": "completed"
    },
    "tags": []
   },
   "outputs": [
    {
     "data": {
      "text/markdown": [
       "- More LUNA-Like Crashes? Ripple CEO Predicts There May Only Be Scores Of Cryptos Left In The Future.  Since the Terra ecosystem crash that rocked the crypto space last month, the spotlight of key industry players has remained on the viability of crypto projects. ... [| Skaityti daugiau](https://zycrypto.com/more-luna-like-crashes-ripple-ceo-predicts-there-may-only-be-scores-of-cryptos-left-in-the-future/) "
      ],
      "text/plain": [
       "<IPython.core.display.Markdown object>"
      ]
     },
     "execution_count": 5,
     "metadata": {},
     "output_type": "execute_result"
    }
   ],
   "source": [
    "#hide_input\n",
    "#md('##### {}'.format(titleBTC)) \n",
    "md(\"- {}{} {}{} [| Skaityti daugiau]({}) \".format(xrp['title'],'. ', xrp['body'], ' ...', xrp['url']))"
   ]
  },
  {
   "cell_type": "code",
   "execution_count": 6,
   "id": "prompt-farmer",
   "metadata": {
    "execution": {
     "iopub.execute_input": "2022-06-16T03:02:29.774366Z",
     "iopub.status.busy": "2022-06-16T03:02:29.773795Z",
     "iopub.status.idle": "2022-06-16T03:02:29.776993Z",
     "shell.execute_reply": "2022-06-16T03:02:29.777411Z"
    },
    "papermill": {
     "duration": 0.01739,
     "end_time": "2022-06-16T03:02:29.777526",
     "exception": false,
     "start_time": "2022-06-16T03:02:29.760136",
     "status": "completed"
    },
    "tags": []
   },
   "outputs": [
    {
     "data": {
      "text/markdown": [
       "- Tron [TRX] traders can consider these levels before making an exit.  The global crypto market cap fell below the $1 trillion level post the market-wide drawdowns. Without a surprise, the crypto fear and greed index gauged the sentiment to be in the extreme fear zone as it plunged to its record low at the time of writing. Although Tron [TRX] had a bullish rally in April [&#8230;] ... [| Skaityti daugiau](https://ambcrypto.com/tron-trx-traders-can-consider-these-levels-before-making-an-exit/) "
      ],
      "text/plain": [
       "<IPython.core.display.Markdown object>"
      ]
     },
     "execution_count": 6,
     "metadata": {},
     "output_type": "execute_result"
    }
   ],
   "source": [
    "#hide_input\n",
    "#md('##### {}'.format(titleBTC)) \n",
    "md(\"- {}{} {}{} [| Skaityti daugiau]({}) \".format(trx['title'],'. ', trx['body'], ' ...', trx['url']))"
   ]
  },
  {
   "cell_type": "code",
   "execution_count": 7,
   "id": "illegal-greece",
   "metadata": {
    "execution": {
     "iopub.execute_input": "2022-06-16T03:02:29.803114Z",
     "iopub.status.busy": "2022-06-16T03:02:29.802509Z",
     "iopub.status.idle": "2022-06-16T03:02:29.805393Z",
     "shell.execute_reply": "2022-06-16T03:02:29.805835Z"
    },
    "papermill": {
     "duration": 0.018172,
     "end_time": "2022-06-16T03:02:29.805951",
     "exception": false,
     "start_time": "2022-06-16T03:02:29.787779",
     "status": "completed"
    },
    "tags": []
   },
   "outputs": [
    {
     "data": {
      "text/markdown": [
       "- Celsius’ Withdrawal Freeze Created Ethereum ($ETH) Arbitrage Opportunity, Says Ark Invest Analyst.  Celsius Network’s withdrawal freeze earlier this month created an Ethereum ($ETH) arbitrage opportunity for patient traders, according to Cathie Wood’s Ark Investment Management, as staked Ethereum tokens started trading at a discount. Ark analyst Frank Downing noted in a newsletter that the cryptocurrency lender generated yield through institutional lending, mining, and decentralized finance (DeFi) lending. […] ... [| Skaityti daugiau](https://www.cryptoglobe.com/latest/2022/06/celsius-withdrawal-freeze-created-ethereum-eth-arbitrage-opportunity-says-ark-invest-analyst/) "
      ],
      "text/plain": [
       "<IPython.core.display.Markdown object>"
      ]
     },
     "execution_count": 7,
     "metadata": {},
     "output_type": "execute_result"
    }
   ],
   "source": [
    "#hide_input\n",
    "#md('##### {}'.format(titleBTC)) \n",
    "md(\"- {}{} {}{} [| Skaityti daugiau]({}) \".format(eth['title'],'. ', eth['body'], ' ...', eth['url']))"
   ]
  },
  {
   "cell_type": "code",
   "execution_count": 8,
   "id": "sublime-lounge",
   "metadata": {
    "execution": {
     "iopub.execute_input": "2022-06-16T03:02:29.831712Z",
     "iopub.status.busy": "2022-06-16T03:02:29.831140Z",
     "iopub.status.idle": "2022-06-16T03:02:29.835021Z",
     "shell.execute_reply": "2022-06-16T03:02:29.834532Z"
    },
    "papermill": {
     "duration": 0.018767,
     "end_time": "2022-06-16T03:02:29.835122",
     "exception": false,
     "start_time": "2022-06-16T03:02:29.816355",
     "status": "completed"
    },
    "tags": []
   },
   "outputs": [
    {
     "data": {
      "text/markdown": [
       "- Cardano: Ledger Starts Letting $ADA Investors Buy, Send and Receive Directly on Ledger Live.  French cryptocurrency hardware wallet manufacturer Ledger has finally added support for Cardano ($ADA) and is now letting users buy, send, and receive their tokens directly on Ledger Live, the application for managing cryptoassets on their devices. Paris-headquartered Ledger was co-founded in 2014 by Eric Larchevêque, Nicolas Bacca, Joel Pobeda, and Thomas France. It first announced it was moving to […] ... [| Skaityti daugiau](https://www.cryptoglobe.com/latest/2022/06/cardano-ledger-starts-letting-ada-investors-buy-send-and-receive-directly-on-ledger-live/) "
      ],
      "text/plain": [
       "<IPython.core.display.Markdown object>"
      ]
     },
     "execution_count": 8,
     "metadata": {},
     "output_type": "execute_result"
    }
   ],
   "source": [
    "#hide_input\n",
    "#md('##### {}'.format(titleBTC)) \n",
    "md(\"- {}{} {}{} [| Skaityti daugiau]({}) \".format(ada['title'],'. ', ada['body'], ' ...', ada['url']))"
   ]
  },
  {
   "cell_type": "code",
   "execution_count": 9,
   "id": "specified-ordering",
   "metadata": {
    "execution": {
     "iopub.execute_input": "2022-06-16T03:02:29.862423Z",
     "iopub.status.busy": "2022-06-16T03:02:29.861861Z",
     "iopub.status.idle": "2022-06-16T03:02:29.865733Z",
     "shell.execute_reply": "2022-06-16T03:02:29.865270Z"
    },
    "papermill": {
     "duration": 0.018749,
     "end_time": "2022-06-16T03:02:29.865828",
     "exception": false,
     "start_time": "2022-06-16T03:02:29.847079",
     "status": "completed"
    },
    "tags": []
   },
   "outputs": [
    {
     "data": {
      "text/markdown": [
       "- Terminated Coinbase Employees Shocked After The Latest Lay-Offs.  If reports from Coinbase are to be believed, the crypto exchange company cut down 18% of its workforce without any prior notice to the employees. Most of their employees woke up to find out via social media that some people are getting fired. Some former Coinbase employees found out they'd lost their job on Twitter, others when they couldn't log onto work laptops https://t.co/AeF58wEOKQ — Bloomberg Crypto (@crypto) June 15, 2022 The Sudden Reduction in Workforce Earlier in 2022, Andrew Grass assisted in the hiring of roughly 200 workers at Coinbase Global Inc. Most of those hires, including Grass, have since been laid off. The biggest US digital-asset trading platform on 14th June announced the reduction of around 18% of its personnel. They blamed the decline in cryptos and the deteriorating market situation. However, several Coinbase employees say they didn’t get any email from CEO Brian Armstrong announcing the cutbacks. Rather, they all learned of the news via several social media platforms. Others stated they initially noticed something was awry when they couldn’t access their work computers. In fact, the statement came as a surprise to Grass. He had just arrived from an off-site conference in Austin, Texas, with several of Coinbase’s associate managers. When he awoke on 13th June, he received a group text from a coworker pushing him to check his email for news on the layoffs. He attempted to get on to his computer but was... ... [| Skaityti daugiau](https://www.cryptoknowmics.com/news/terminated-coinbase-employees-shocked-after-the-latest-lay-offs/?utm_source=rss&utm_medium=rss&utm_campaign=terminated-coinbase-employees-shocked-after-the-latest-lay-offs) "
      ],
      "text/plain": [
       "<IPython.core.display.Markdown object>"
      ]
     },
     "execution_count": 9,
     "metadata": {},
     "output_type": "execute_result"
    }
   ],
   "source": [
    "#hide_input\n",
    "#md('##### {}'.format(titleBTC)) \n",
    "md(\"- {}{} {}{} [| Skaityti daugiau]({}) \".format(exchange['title'],'. ', exchange['body'], ' ...', exchange['url']))"
   ]
  },
  {
   "cell_type": "code",
   "execution_count": null,
   "id": "tender-livestock",
   "metadata": {
    "papermill": {
     "duration": 0.011115,
     "end_time": "2022-06-16T03:02:29.888004",
     "exception": false,
     "start_time": "2022-06-16T03:02:29.876889",
     "status": "completed"
    },
    "tags": []
   },
   "outputs": [],
   "source": []
  },
  {
   "cell_type": "code",
   "execution_count": null,
   "id": "appreciated-diamond",
   "metadata": {
    "papermill": {
     "duration": 0.011192,
     "end_time": "2022-06-16T03:02:29.910477",
     "exception": false,
     "start_time": "2022-06-16T03:02:29.899285",
     "status": "completed"
    },
    "tags": []
   },
   "outputs": [],
   "source": []
  },
  {
   "cell_type": "code",
   "execution_count": null,
   "id": "romance-sweden",
   "metadata": {
    "papermill": {
     "duration": 0.011425,
     "end_time": "2022-06-16T03:02:29.933087",
     "exception": false,
     "start_time": "2022-06-16T03:02:29.921662",
     "status": "completed"
    },
    "tags": []
   },
   "outputs": [],
   "source": []
  },
  {
   "cell_type": "code",
   "execution_count": null,
   "id": "dietary-statistics",
   "metadata": {
    "papermill": {
     "duration": 0.011038,
     "end_time": "2022-06-16T03:02:29.955269",
     "exception": false,
     "start_time": "2022-06-16T03:02:29.944231",
     "status": "completed"
    },
    "tags": []
   },
   "outputs": [],
   "source": []
  }
 ],
 "metadata": {
  "kernelspec": {
   "display_name": "Python 3",
   "language": "python",
   "name": "python3"
  },
  "language_info": {
   "codemirror_mode": {
    "name": "ipython",
    "version": 3
   },
   "file_extension": ".py",
   "mimetype": "text/x-python",
   "name": "python",
   "nbconvert_exporter": "python",
   "pygments_lexer": "ipython3",
   "version": "3.6.15"
  },
  "papermill": {
   "default_parameters": {},
   "duration": 11.828992,
   "end_time": "2022-06-16T03:02:30.384741",
   "environment_variables": {},
   "exception": null,
   "input_path": "Market-News.ipynb",
   "output_path": "Market-News.ipynb",
   "parameters": {},
   "start_time": "2022-06-16T03:02:18.555749",
   "version": "2.2.2"
  }
 },
 "nbformat": 4,
 "nbformat_minor": 5
}