{
 "cells": [
  {
   "cell_type": "markdown",
   "id": "short-greensboro",
   "metadata": {
    "papermill": {
     "duration": 0.014389,
     "end_time": "2022-09-05T03:47:41.657018",
     "exception": false,
     "start_time": "2022-09-05T03:47:41.642629",
     "status": "completed"
    },
    "tags": []
   },
   "source": [
    "# Kriptovaliutų naujienos"
   ]
  },
  {
   "cell_type": "code",
   "execution_count": 1,
   "id": "functioning-knowing",
   "metadata": {
    "execution": {
     "iopub.execute_input": "2022-09-05T03:47:41.690872Z",
     "iopub.status.busy": "2022-09-05T03:47:41.690161Z",
     "iopub.status.idle": "2022-09-05T03:47:43.088871Z",
     "shell.execute_reply": "2022-09-05T03:47:43.088259Z"
    },
    "papermill": {
     "duration": 1.421789,
     "end_time": "2022-09-05T03:47:43.089029",
     "exception": false,
     "start_time": "2022-09-05T03:47:41.667240",
     "status": "completed"
    },
    "tags": []
   },
   "outputs": [],
   "source": [
    "#hide_input\n",
    "import warnings\n",
    "warnings.filterwarnings('ignore')\n",
    "from scripts.read_data import read_api\n",
    "from scripts.read_data import read_news\n",
    "from scripts.read_data import read_covid\n",
    "import matplotlib.pyplot as plt \n",
    "from IPython.display import Markdown as md"
   ]
  },
  {
   "cell_type": "code",
   "execution_count": 2,
   "id": "shared-acceptance",
   "metadata": {
    "execution": {
     "iopub.execute_input": "2022-09-05T03:47:43.120097Z",
     "iopub.status.busy": "2022-09-05T03:47:43.119158Z",
     "iopub.status.idle": "2022-09-05T03:47:56.797844Z",
     "shell.execute_reply": "2022-09-05T03:47:56.797204Z"
    },
    "papermill": {
     "duration": 13.697331,
     "end_time": "2022-09-05T03:47:56.797972",
     "exception": false,
     "start_time": "2022-09-05T03:47:43.100641",
     "status": "completed"
    },
    "tags": []
   },
   "outputs": [],
   "source": [
    "#hide_input\n",
    "blockchain = read_news('blockchain') \n",
    "btc = read_news('btc') \n",
    "xrp = read_news('xrp') \n",
    "trx = read_news('trx') \n",
    "eth = read_news('eth')  \n",
    "ada = read_news('ada')\n",
    "exchange = read_news('exchange') "
   ]
  },
  {
   "cell_type": "code",
   "execution_count": 3,
   "id": "synthetic-notion",
   "metadata": {
    "execution": {
     "iopub.execute_input": "2022-09-05T03:47:56.826928Z",
     "iopub.status.busy": "2022-09-05T03:47:56.826089Z",
     "iopub.status.idle": "2022-09-05T03:47:56.828995Z",
     "shell.execute_reply": "2022-09-05T03:47:56.829506Z"
    },
    "papermill": {
     "duration": 0.021259,
     "end_time": "2022-09-05T03:47:56.829643",
     "exception": false,
     "start_time": "2022-09-05T03:47:56.808384",
     "status": "completed"
    },
    "tags": []
   },
   "outputs": [
    {
     "data": {
      "text/markdown": [
       "- NFT NYC 2022: A look inside a massive NFT conference.  NFT NYC 2022 was filled with emerging NFT projects and industry experts. ... [| Skaityti daugiau](https://cointelegraph.com/news/nft-nyc-2022-a-look-inside-a-massive-nft-conference) "
      ],
      "text/plain": [
       "<IPython.core.display.Markdown object>"
      ]
     },
     "execution_count": 3,
     "metadata": {},
     "output_type": "execute_result"
    }
   ],
   "source": [
    "#hide_input\n",
    "#md('##### {}'.format(titleBTC)) \n",
    "md(\"- {}{} {}{} [| Skaityti daugiau]({}) \".format(blockchain['title'],'. ', blockchain['body'], ' ...', blockchain['url']))"
   ]
  },
  {
   "cell_type": "code",
   "execution_count": 4,
   "id": "aging-caution",
   "metadata": {
    "execution": {
     "iopub.execute_input": "2022-09-05T03:47:56.858149Z",
     "iopub.status.busy": "2022-09-05T03:47:56.856888Z",
     "iopub.status.idle": "2022-09-05T03:47:56.860909Z",
     "shell.execute_reply": "2022-09-05T03:47:56.861601Z"
    },
    "papermill": {
     "duration": 0.02197,
     "end_time": "2022-09-05T03:47:56.861728",
     "exception": false,
     "start_time": "2022-09-05T03:47:56.839758",
     "status": "completed"
    },
    "tags": []
   },
   "outputs": [
    {
     "data": {
      "text/markdown": [
       "- TA: Bitcoin Price Stuck In Range, Why BTC Is Still At Major Risk of Breakdown.  Bitcoin is struggling to settle above $20,500 against the US Dollar. BTC could decline heavily if there is a clear move below the $19,500 support zone. Bitcoin is stuck near the $20,000 zone and trading below the $20,500 resistance. The price is now trading below the $20,000 level and the 100 hourly simple moving average. There is a short-term rising channel forming with support near $19,750 on the hourly chart of the BTC/USD pair (data feed from Kraken). The pair could accelerate lower if there is a clear move below the $19,600 and $19,500 levels. Bitcoin Price Remains in a Range Bitcoin price traded in a range below the $20,500 and $20,550 resistance levels. BTC failed on many occasions to clear the $20,500 resistance zone. At the same time, the bulls were active above the $19,500 support zone. The recent low was formed near $19,600 and the price is now moving higher in the range. There was a minor increase above the $19,750 resistance zone. The price climbed above the 23.6% Fib retracement level of the recent decline from the $20,397 swing high to $19,600 low. Bitcoin price is now trading below the $20,000 level and the 100 hourly simple moving average. There is also a short-term rising channel forming with support near $19,750 on the hourly chart of the BTC/USD pair. On the upside, an immediate resistance is near the $19,900 level and the 100 hourly simple moving average. The next major resistance sits near the $20,000 lev... ... [| Skaityti daugiau](https://www.newsbtc.com/analysis/btc/bitcoin-price-risk-of-breakdown-20k/) "
      ],
      "text/plain": [
       "<IPython.core.display.Markdown object>"
      ]
     },
     "execution_count": 4,
     "metadata": {},
     "output_type": "execute_result"
    }
   ],
   "source": [
    "#hide_input\n",
    "#md('##### {}'.format(titleBTC)) \n",
    "md(\"- {}{} {}{} [| Skaityti daugiau]({}) \".format(btc['title'],'. ', btc['body'], ' ...', btc['url']))"
   ]
  },
  {
   "cell_type": "code",
   "execution_count": 5,
   "id": "organic-actress",
   "metadata": {
    "execution": {
     "iopub.execute_input": "2022-09-05T03:47:56.890071Z",
     "iopub.status.busy": "2022-09-05T03:47:56.889001Z",
     "iopub.status.idle": "2022-09-05T03:47:56.892155Z",
     "shell.execute_reply": "2022-09-05T03:47:56.892618Z"
    },
    "papermill": {
     "duration": 0.020888,
     "end_time": "2022-09-05T03:47:56.892736",
     "exception": false,
     "start_time": "2022-09-05T03:47:56.871848",
     "status": "completed"
    },
    "tags": []
   },
   "outputs": [
    {
     "data": {
      "text/markdown": [
       "- NFT NYC 2022: A look inside a massive NFT conference.  NFT NYC 2022 was filled with emerging NFT projects and industry experts. ... [| Skaityti daugiau](https://cointelegraph.com/news/nft-nyc-2022-a-look-inside-a-massive-nft-conference) "
      ],
      "text/plain": [
       "<IPython.core.display.Markdown object>"
      ]
     },
     "execution_count": 5,
     "metadata": {},
     "output_type": "execute_result"
    }
   ],
   "source": [
    "#hide_input\n",
    "#md('##### {}'.format(titleBTC)) \n",
    "md(\"- {}{} {}{} [| Skaityti daugiau]({}) \".format(xrp['title'],'. ', xrp['body'], ' ...', xrp['url']))"
   ]
  },
  {
   "cell_type": "code",
   "execution_count": 6,
   "id": "prompt-farmer",
   "metadata": {
    "execution": {
     "iopub.execute_input": "2022-09-05T03:47:56.921956Z",
     "iopub.status.busy": "2022-09-05T03:47:56.921107Z",
     "iopub.status.idle": "2022-09-05T03:47:56.924937Z",
     "shell.execute_reply": "2022-09-05T03:47:56.925519Z"
    },
    "papermill": {
     "duration": 0.022802,
     "end_time": "2022-09-05T03:47:56.925654",
     "exception": false,
     "start_time": "2022-09-05T03:47:56.902852",
     "status": "completed"
    },
    "tags": []
   },
   "outputs": [
    {
     "data": {
      "text/markdown": [
       "- Tron [TRX]: The technical hurdles to consider before taking a long position.  Disclaimer: The findings of the following analysis are the sole opinions of the writer and should not be considered investment advice. As anticipated by a previous article, Tron [TRX] reversed from its falling-wedge-like structure before pulling back into bearish clutches. For over eight weeks, the sellers strived to breach the $0.063-support (now resistance). The recent [&#8230;] ... [| Skaityti daugiau](https://ambcrypto.com/tron-trx-the-technical-hurdles-to-consider-before-taking-a-long-position/) "
      ],
      "text/plain": [
       "<IPython.core.display.Markdown object>"
      ]
     },
     "execution_count": 6,
     "metadata": {},
     "output_type": "execute_result"
    }
   ],
   "source": [
    "#hide_input\n",
    "#md('##### {}'.format(titleBTC)) \n",
    "md(\"- {}{} {}{} [| Skaityti daugiau]({}) \".format(trx['title'],'. ', trx['body'], ' ...', trx['url']))"
   ]
  },
  {
   "cell_type": "code",
   "execution_count": 7,
   "id": "illegal-greece",
   "metadata": {
    "execution": {
     "iopub.execute_input": "2022-09-05T03:47:56.955188Z",
     "iopub.status.busy": "2022-09-05T03:47:56.954114Z",
     "iopub.status.idle": "2022-09-05T03:47:56.958876Z",
     "shell.execute_reply": "2022-09-05T03:47:56.959682Z"
    },
    "papermill": {
     "duration": 0.022484,
     "end_time": "2022-09-05T03:47:56.959838",
     "exception": false,
     "start_time": "2022-09-05T03:47:56.937354",
     "status": "completed"
    },
    "tags": []
   },
   "outputs": [
    {
     "data": {
      "text/markdown": [
       "- Nifty News: Bill Murray’s wallet hacked, FIFA’s tokenized highlights, Muse tops charts, and more….  The Bill Murray 1,000 NFT drop generated 119.2 ETH worth of sales as part of a charity fundraiser, but hackers managed to steal a hefty 110 ETH from that total.  ... [| Skaityti daugiau](https://cointelegraph.com/news/nifty-news-bill-murray-s-wallet-hacked-fifa-s-tokenized-highlights-muse-tops-charts-and-more) "
      ],
      "text/plain": [
       "<IPython.core.display.Markdown object>"
      ]
     },
     "execution_count": 7,
     "metadata": {},
     "output_type": "execute_result"
    }
   ],
   "source": [
    "#hide_input\n",
    "#md('##### {}'.format(titleBTC)) \n",
    "md(\"- {}{} {}{} [| Skaityti daugiau]({}) \".format(eth['title'],'. ', eth['body'], ' ...', eth['url']))"
   ]
  },
  {
   "cell_type": "code",
   "execution_count": 8,
   "id": "sublime-lounge",
   "metadata": {
    "execution": {
     "iopub.execute_input": "2022-09-05T03:47:56.992001Z",
     "iopub.status.busy": "2022-09-05T03:47:56.991201Z",
     "iopub.status.idle": "2022-09-05T03:47:56.995233Z",
     "shell.execute_reply": "2022-09-05T03:47:56.995805Z"
    },
    "papermill": {
     "duration": 0.022439,
     "end_time": "2022-09-05T03:47:56.995953",
     "exception": false,
     "start_time": "2022-09-05T03:47:56.973514",
     "status": "completed"
    },
    "tags": []
   },
   "outputs": [
    {
     "data": {
      "text/markdown": [
       "- A range-break from Bitcoin could trigger buying in ADA, ATOM, FIL and EOS this week.  If BTC bounces from its key underlying support, ADA, ATOM, FIL and EOS could break out.  ... [| Skaityti daugiau](https://cointelegraph.com/news/a-range-break-from-bitcoin-could-trigger-buying-in-ada-atom-fil-and-eos-this-week) "
      ],
      "text/plain": [
       "<IPython.core.display.Markdown object>"
      ]
     },
     "execution_count": 8,
     "metadata": {},
     "output_type": "execute_result"
    }
   ],
   "source": [
    "#hide_input\n",
    "#md('##### {}'.format(titleBTC)) \n",
    "md(\"- {}{} {}{} [| Skaityti daugiau]({}) \".format(ada['title'],'. ', ada['body'], ' ...', ada['url']))"
   ]
  },
  {
   "cell_type": "code",
   "execution_count": 9,
   "id": "specified-ordering",
   "metadata": {
    "execution": {
     "iopub.execute_input": "2022-09-05T03:47:57.027658Z",
     "iopub.status.busy": "2022-09-05T03:47:57.026963Z",
     "iopub.status.idle": "2022-09-05T03:47:57.030516Z",
     "shell.execute_reply": "2022-09-05T03:47:57.031130Z"
    },
    "papermill": {
     "duration": 0.023335,
     "end_time": "2022-09-05T03:47:57.031276",
     "exception": false,
     "start_time": "2022-09-05T03:47:57.007941",
     "status": "completed"
    },
    "tags": []
   },
   "outputs": [
    {
     "data": {
      "text/markdown": [
       "- Binance and Nigeria team up to develop a digital economic zone.  Binance and Nigeria are teaming up to establish an Export Processing Zone Authority (NEPZA). The objective is to establish a digital economic zone similar to Dubai. According to the reports,, Nigerian authorities plan to create a region resembling Dubai&#8217;s virtual free zone. After completion, the facility will be the first in West Africa. According to &#8230;  Binance and Nigeria team up to develop a digital economic zone Read More &#187; ... [| Skaityti daugiau](https://www.cryptopolitan.com/binance-nigeria-partner/) "
      ],
      "text/plain": [
       "<IPython.core.display.Markdown object>"
      ]
     },
     "execution_count": 9,
     "metadata": {},
     "output_type": "execute_result"
    }
   ],
   "source": [
    "#hide_input\n",
    "#md('##### {}'.format(titleBTC)) \n",
    "md(\"- {}{} {}{} [| Skaityti daugiau]({}) \".format(exchange['title'],'. ', exchange['body'], ' ...', exchange['url']))"
   ]
  },
  {
   "cell_type": "code",
   "execution_count": null,
   "id": "tender-livestock",
   "metadata": {
    "papermill": {
     "duration": 0.012804,
     "end_time": "2022-09-05T03:47:57.057314",
     "exception": false,
     "start_time": "2022-09-05T03:47:57.044510",
     "status": "completed"
    },
    "tags": []
   },
   "outputs": [],
   "source": []
  },
  {
   "cell_type": "code",
   "execution_count": null,
   "id": "appreciated-diamond",
   "metadata": {
    "papermill": {
     "duration": 0.012947,
     "end_time": "2022-09-05T03:47:57.087566",
     "exception": false,
     "start_time": "2022-09-05T03:47:57.074619",
     "status": "completed"
    },
    "tags": []
   },
   "outputs": [],
   "source": []
  },
  {
   "cell_type": "code",
   "execution_count": null,
   "id": "romance-sweden",
   "metadata": {
    "papermill": {
     "duration": 0.012983,
     "end_time": "2022-09-05T03:47:57.114130",
     "exception": false,
     "start_time": "2022-09-05T03:47:57.101147",
     "status": "completed"
    },
    "tags": []
   },
   "outputs": [],
   "source": []
  },
  {
   "cell_type": "code",
   "execution_count": null,
   "id": "dietary-statistics",
   "metadata": {
    "papermill": {
     "duration": 0.013109,
     "end_time": "2022-09-05T03:47:57.141339",
     "exception": false,
     "start_time": "2022-09-05T03:47:57.128230",
     "status": "completed"
    },
    "tags": []
   },
   "outputs": [],
   "source": []
  }
 ],
 "metadata": {
  "kernelspec": {
   "display_name": "Python 3",
   "language": "python",
   "name": "python3"
  },
  "language_info": {
   "codemirror_mode": {
    "name": "ipython",
    "version": 3
   },
   "file_extension": ".py",
   "mimetype": "text/x-python",
   "name": "python",
   "nbconvert_exporter": "python",
   "pygments_lexer": "ipython3",
   "version": "3.6.15"
  },
  "papermill": {
   "default_parameters": {},
   "duration": 17.308057,
   "end_time": "2022-09-05T03:47:57.676633",
   "environment_variables": {},
   "exception": null,
   "input_path": "Market-News.ipynb",
   "output_path": "Market-News.ipynb",
   "parameters": {},
   "start_time": "2022-09-05T03:47:40.368576",
   "version": "2.2.2"
  }
 },
 "nbformat": 4,
 "nbformat_minor": 5
}