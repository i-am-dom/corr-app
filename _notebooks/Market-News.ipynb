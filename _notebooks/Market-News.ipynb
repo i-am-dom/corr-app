{
 "cells": [
  {
   "cell_type": "markdown",
   "id": "short-greensboro",
   "metadata": {
    "papermill": {
     "duration": 0.012789,
     "end_time": "2022-05-11T03:00:16.271952",
     "exception": false,
     "start_time": "2022-05-11T03:00:16.259163",
     "status": "completed"
    },
    "tags": []
   },
   "source": [
    "# Kriptovaliutų naujienos"
   ]
  },
  {
   "cell_type": "code",
   "execution_count": 1,
   "id": "functioning-knowing",
   "metadata": {
    "execution": {
     "iopub.execute_input": "2022-05-11T03:00:16.301496Z",
     "iopub.status.busy": "2022-05-11T03:00:16.300985Z",
     "iopub.status.idle": "2022-05-11T03:00:17.492248Z",
     "shell.execute_reply": "2022-05-11T03:00:17.491738Z"
    },
    "papermill": {
     "duration": 1.210445,
     "end_time": "2022-05-11T03:00:17.492389",
     "exception": false,
     "start_time": "2022-05-11T03:00:16.281944",
     "status": "completed"
    },
    "tags": []
   },
   "outputs": [],
   "source": [
    "#hide_input\n",
    "import warnings\n",
    "warnings.filterwarnings('ignore')\n",
    "from scripts.read_data import read_api\n",
    "from scripts.read_data import read_news\n",
    "from scripts.read_data import read_covid\n",
    "import matplotlib.pyplot as plt \n",
    "from IPython.display import Markdown as md"
   ]
  },
  {
   "cell_type": "code",
   "execution_count": 2,
   "id": "shared-acceptance",
   "metadata": {
    "execution": {
     "iopub.execute_input": "2022-05-11T03:00:17.518485Z",
     "iopub.status.busy": "2022-05-11T03:00:17.517980Z",
     "iopub.status.idle": "2022-05-11T03:00:32.363934Z",
     "shell.execute_reply": "2022-05-11T03:00:32.363432Z"
    },
    "papermill": {
     "duration": 14.861439,
     "end_time": "2022-05-11T03:00:32.364057",
     "exception": false,
     "start_time": "2022-05-11T03:00:17.502618",
     "status": "completed"
    },
    "tags": []
   },
   "outputs": [],
   "source": [
    "#hide_input\n",
    "blockchain = read_news('blockchain') \n",
    "btc = read_news('btc') \n",
    "xrp = read_news('xrp') \n",
    "trx = read_news('trx') \n",
    "eth = read_news('eth')  \n",
    "ada = read_news('ada')\n",
    "exchange = read_news('exchange') "
   ]
  },
  {
   "cell_type": "code",
   "execution_count": 3,
   "id": "synthetic-notion",
   "metadata": {
    "execution": {
     "iopub.execute_input": "2022-05-11T03:00:32.389179Z",
     "iopub.status.busy": "2022-05-11T03:00:32.388671Z",
     "iopub.status.idle": "2022-05-11T03:00:32.390679Z",
     "shell.execute_reply": "2022-05-11T03:00:32.391053Z"
    },
    "papermill": {
     "duration": 0.017406,
     "end_time": "2022-05-11T03:00:32.391183",
     "exception": false,
     "start_time": "2022-05-11T03:00:32.373777",
     "status": "completed"
    },
    "tags": []
   },
   "outputs": [
    {
     "data": {
      "text/markdown": [
       "- Top Shot creator unveils $725M fund to support Flow ecosystem.  The new ecosystem fund will be used to support the 7,500 developers on Flow to build new gaming, infrastructure, DeFi, and content creator products on the NFT blockchain. ... [| Skaityti daugiau](https://cointelegraph.com/news/top-shot-creator-unveils-725m-fund-to-support-flow-ecosystem) "
      ],
      "text/plain": [
       "<IPython.core.display.Markdown object>"
      ]
     },
     "execution_count": 3,
     "metadata": {},
     "output_type": "execute_result"
    }
   ],
   "source": [
    "#hide_input\n",
    "#md('##### {}'.format(titleBTC)) \n",
    "md(\"- {}{} {}{} [| Skaityti daugiau]({}) \".format(blockchain['title'],'. ', blockchain['body'], ' ...', blockchain['url']))"
   ]
  },
  {
   "cell_type": "code",
   "execution_count": 4,
   "id": "aging-caution",
   "metadata": {
    "execution": {
     "iopub.execute_input": "2022-05-11T03:00:32.415389Z",
     "iopub.status.busy": "2022-05-11T03:00:32.414872Z",
     "iopub.status.idle": "2022-05-11T03:00:32.417415Z",
     "shell.execute_reply": "2022-05-11T03:00:32.416989Z"
    },
    "papermill": {
     "duration": 0.015926,
     "end_time": "2022-05-11T03:00:32.417510",
     "exception": false,
     "start_time": "2022-05-11T03:00:32.401584",
     "status": "completed"
    },
    "tags": []
   },
   "outputs": [
    {
     "data": {
      "text/markdown": [
       "- Bitcoin, Binance Coin, XRP, and Dogecoin Daily Price Analyses – 10 May Roundup.  The global crypto market hasn’t seen any significant changes as the losses for Bitcoin, and some other major coins persist. Though the market was continuing towards bullishness, the past 24 hours didn’t bring it any good. Rather the small gains have helped it change direction from bearish to bullish. The market needs a strong bullish... ... [| Skaityti daugiau](https://www.cryptopolitan.com/bitcoin-binance-coin-xrp-and-dogecoin-daily-price-analyses-10-may-roundup/) "
      ],
      "text/plain": [
       "<IPython.core.display.Markdown object>"
      ]
     },
     "execution_count": 4,
     "metadata": {},
     "output_type": "execute_result"
    }
   ],
   "source": [
    "#hide_input\n",
    "#md('##### {}'.format(titleBTC)) \n",
    "md(\"- {}{} {}{} [| Skaityti daugiau]({}) \".format(btc['title'],'. ', btc['body'], ' ...', btc['url']))"
   ]
  },
  {
   "cell_type": "code",
   "execution_count": 5,
   "id": "organic-actress",
   "metadata": {
    "execution": {
     "iopub.execute_input": "2022-05-11T03:00:32.441177Z",
     "iopub.status.busy": "2022-05-11T03:00:32.440674Z",
     "iopub.status.idle": "2022-05-11T03:00:32.442850Z",
     "shell.execute_reply": "2022-05-11T03:00:32.443240Z"
    },
    "papermill": {
     "duration": 0.015987,
     "end_time": "2022-05-11T03:00:32.443351",
     "exception": false,
     "start_time": "2022-05-11T03:00:32.427364",
     "status": "completed"
    },
    "tags": []
   },
   "outputs": [
    {
     "data": {
      "text/markdown": [
       "- Bitcoin, Binance Coin, XRP, and Dogecoin Daily Price Analyses – 10 May Roundup.  The global crypto market hasn’t seen any significant changes as the losses for Bitcoin, and some other major coins persist. Though the market was continuing towards bullishness, the past 24 hours didn’t bring it any good. Rather the small gains have helped it change direction from bearish to bullish. The market needs a strong bullish... ... [| Skaityti daugiau](https://www.cryptopolitan.com/bitcoin-binance-coin-xrp-and-dogecoin-daily-price-analyses-10-may-roundup/) "
      ],
      "text/plain": [
       "<IPython.core.display.Markdown object>"
      ]
     },
     "execution_count": 5,
     "metadata": {},
     "output_type": "execute_result"
    }
   ],
   "source": [
    "#hide_input\n",
    "#md('##### {}'.format(titleBTC)) \n",
    "md(\"- {}{} {}{} [| Skaityti daugiau]({}) \".format(xrp['title'],'. ', xrp['body'], ' ...', xrp['url']))"
   ]
  },
  {
   "cell_type": "code",
   "execution_count": 6,
   "id": "prompt-farmer",
   "metadata": {
    "execution": {
     "iopub.execute_input": "2022-05-11T03:00:32.467764Z",
     "iopub.status.busy": "2022-05-11T03:00:32.467272Z",
     "iopub.status.idle": "2022-05-11T03:00:32.469808Z",
     "shell.execute_reply": "2022-05-11T03:00:32.469413Z"
    },
    "papermill": {
     "duration": 0.016346,
     "end_time": "2022-05-11T03:00:32.469898",
     "exception": false,
     "start_time": "2022-05-11T03:00:32.453552",
     "status": "completed"
    },
    "tags": []
   },
   "outputs": [
    {
     "data": {
      "text/markdown": [
       "- TRON: Decoding the odds of TRX defeating the market trend.  If the crypto market was looking a little red before, at press time it was closer to the blood-gushing elevator scene from The Shining. With Bitcoin trading at $31,720.36 and Ether changing hands at $2,368.71 it&#8217;s natural that both Bitcoin and altcoin holders are panicking at the moment. However, one coin seems to be holding its [&#8230;] ... [| Skaityti daugiau](https://ambcrypto.com/tron-decoding-the-odds-of-trx-defeating-the-market-trend/) "
      ],
      "text/plain": [
       "<IPython.core.display.Markdown object>"
      ]
     },
     "execution_count": 6,
     "metadata": {},
     "output_type": "execute_result"
    }
   ],
   "source": [
    "#hide_input\n",
    "#md('##### {}'.format(titleBTC)) \n",
    "md(\"- {}{} {}{} [| Skaityti daugiau]({}) \".format(trx['title'],'. ', trx['body'], ' ...', trx['url']))"
   ]
  },
  {
   "cell_type": "code",
   "execution_count": 7,
   "id": "illegal-greece",
   "metadata": {
    "execution": {
     "iopub.execute_input": "2022-05-11T03:00:32.495591Z",
     "iopub.status.busy": "2022-05-11T03:00:32.495060Z",
     "iopub.status.idle": "2022-05-11T03:00:32.497196Z",
     "shell.execute_reply": "2022-05-11T03:00:32.497571Z"
    },
    "papermill": {
     "duration": 0.017031,
     "end_time": "2022-05-11T03:00:32.497679",
     "exception": false,
     "start_time": "2022-05-11T03:00:32.480648",
     "status": "completed"
    },
    "tags": []
   },
   "outputs": [
    {
     "data": {
      "text/markdown": [
       "- Coinbase Execs Dismiss Talk of Robinhood Acquisition.  Coinbase is undergoing its first prolonged rough patch as a public company, but executives said they have no plans to shift course. ... [| Skaityti daugiau](https://decrypt.co/100021/coinbase-execs-dismiss-talk-robinhood-acquisition) "
      ],
      "text/plain": [
       "<IPython.core.display.Markdown object>"
      ]
     },
     "execution_count": 7,
     "metadata": {},
     "output_type": "execute_result"
    }
   ],
   "source": [
    "#hide_input\n",
    "#md('##### {}'.format(titleBTC)) \n",
    "md(\"- {}{} {}{} [| Skaityti daugiau]({}) \".format(eth['title'],'. ', eth['body'], ' ...', eth['url']))"
   ]
  },
  {
   "cell_type": "code",
   "execution_count": 8,
   "id": "sublime-lounge",
   "metadata": {
    "execution": {
     "iopub.execute_input": "2022-05-11T03:00:32.523278Z",
     "iopub.status.busy": "2022-05-11T03:00:32.522752Z",
     "iopub.status.idle": "2022-05-11T03:00:32.525242Z",
     "shell.execute_reply": "2022-05-11T03:00:32.524845Z"
    },
    "papermill": {
     "duration": 0.016787,
     "end_time": "2022-05-11T03:00:32.525331",
     "exception": false,
     "start_time": "2022-05-11T03:00:32.508544",
     "status": "completed"
    },
    "tags": []
   },
   "outputs": [
    {
     "data": {
      "text/markdown": [
       "- Cardano Founder Says Yes, This Is A Bear Market.  The crypto market has taken a beating recently and Cardano has been one of the worst-hit digital assets. This has sparked fear across the market where investors are lamenting that the crypto space is finally headed into another bull market. Cardano Founder Charles Hoskinson has taken to addressing these bear market concerns, or rather, confirming [&#8230;] ... [| Skaityti daugiau](https://bitcoinist.com/cardano-founder-says-yes-this-is-a-bear-market/) "
      ],
      "text/plain": [
       "<IPython.core.display.Markdown object>"
      ]
     },
     "execution_count": 8,
     "metadata": {},
     "output_type": "execute_result"
    }
   ],
   "source": [
    "#hide_input\n",
    "#md('##### {}'.format(titleBTC)) \n",
    "md(\"- {}{} {}{} [| Skaityti daugiau]({}) \".format(ada['title'],'. ', ada['body'], ' ...', ada['url']))"
   ]
  },
  {
   "cell_type": "code",
   "execution_count": 9,
   "id": "specified-ordering",
   "metadata": {
    "execution": {
     "iopub.execute_input": "2022-05-11T03:00:32.551882Z",
     "iopub.status.busy": "2022-05-11T03:00:32.551386Z",
     "iopub.status.idle": "2022-05-11T03:00:32.553854Z",
     "shell.execute_reply": "2022-05-11T03:00:32.553375Z"
    },
    "papermill": {
     "duration": 0.017265,
     "end_time": "2022-05-11T03:00:32.553945",
     "exception": false,
     "start_time": "2022-05-11T03:00:32.536680",
     "status": "completed"
    },
    "tags": []
   },
   "outputs": [
    {
     "data": {
      "text/markdown": [
       "- Bitcoin, Binance Coin, XRP, and Dogecoin Daily Price Analyses – 10 May Roundup.  The global crypto market hasn’t seen any significant changes as the losses for Bitcoin, and some other major coins persist. Though the market was continuing towards bullishness, the past 24 hours didn’t bring it any good. Rather the small gains have helped it change direction from bearish to bullish. The market needs a strong bullish... ... [| Skaityti daugiau](https://www.cryptopolitan.com/bitcoin-binance-coin-xrp-and-dogecoin-daily-price-analyses-10-may-roundup/) "
      ],
      "text/plain": [
       "<IPython.core.display.Markdown object>"
      ]
     },
     "execution_count": 9,
     "metadata": {},
     "output_type": "execute_result"
    }
   ],
   "source": [
    "#hide_input\n",
    "#md('##### {}'.format(titleBTC)) \n",
    "md(\"- {}{} {}{} [| Skaityti daugiau]({}) \".format(exchange['title'],'. ', exchange['body'], ' ...', exchange['url']))"
   ]
  },
  {
   "cell_type": "code",
   "execution_count": null,
   "id": "tender-livestock",
   "metadata": {
    "papermill": {
     "duration": 0.011492,
     "end_time": "2022-05-11T03:00:32.576958",
     "exception": false,
     "start_time": "2022-05-11T03:00:32.565466",
     "status": "completed"
    },
    "tags": []
   },
   "outputs": [],
   "source": []
  },
  {
   "cell_type": "code",
   "execution_count": null,
   "id": "appreciated-diamond",
   "metadata": {
    "papermill": {
     "duration": 0.011909,
     "end_time": "2022-05-11T03:00:32.600570",
     "exception": false,
     "start_time": "2022-05-11T03:00:32.588661",
     "status": "completed"
    },
    "tags": []
   },
   "outputs": [],
   "source": []
  },
  {
   "cell_type": "code",
   "execution_count": null,
   "id": "romance-sweden",
   "metadata": {
    "papermill": {
     "duration": 0.011716,
     "end_time": "2022-05-11T03:00:32.624700",
     "exception": false,
     "start_time": "2022-05-11T03:00:32.612984",
     "status": "completed"
    },
    "tags": []
   },
   "outputs": [],
   "source": []
  },
  {
   "cell_type": "code",
   "execution_count": null,
   "id": "dietary-statistics",
   "metadata": {
    "papermill": {
     "duration": 0.011406,
     "end_time": "2022-05-11T03:00:32.647802",
     "exception": false,
     "start_time": "2022-05-11T03:00:32.636396",
     "status": "completed"
    },
    "tags": []
   },
   "outputs": [],
   "source": []
  }
 ],
 "metadata": {
  "kernelspec": {
   "display_name": "Python 3",
   "language": "python",
   "name": "python3"
  },
  "language_info": {
   "codemirror_mode": {
    "name": "ipython",
    "version": 3
   },
   "file_extension": ".py",
   "mimetype": "text/x-python",
   "name": "python",
   "nbconvert_exporter": "python",
   "pygments_lexer": "ipython3",
   "version": "3.6.15"
  },
  "papermill": {
   "default_parameters": {},
   "duration": 17.740618,
   "end_time": "2022-05-11T03:00:33.076440",
   "environment_variables": {},
   "exception": null,
   "input_path": "Market-News.ipynb",
   "output_path": "Market-News.ipynb",
   "parameters": {},
   "start_time": "2022-05-11T03:00:15.335822",
   "version": "2.2.2"
  }
 },
 "nbformat": 4,
 "nbformat_minor": 5
}