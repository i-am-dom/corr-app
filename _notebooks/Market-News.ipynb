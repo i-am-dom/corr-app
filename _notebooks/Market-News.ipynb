{
 "cells": [
  {
   "cell_type": "markdown",
   "id": "short-greensboro",
   "metadata": {
    "papermill": {
     "duration": 0.014862,
     "end_time": "2022-11-18T02:55:23.731915",
     "exception": false,
     "start_time": "2022-11-18T02:55:23.717053",
     "status": "completed"
    },
    "tags": []
   },
   "source": [
    "# Kriptovaliutų naujienos"
   ]
  },
  {
   "cell_type": "code",
   "execution_count": 1,
   "id": "functioning-knowing",
   "metadata": {
    "execution": {
     "iopub.execute_input": "2022-11-18T02:55:23.768017Z",
     "iopub.status.busy": "2022-11-18T02:55:23.767191Z",
     "iopub.status.idle": "2022-11-18T02:55:25.137599Z",
     "shell.execute_reply": "2022-11-18T02:55:25.137042Z"
    },
    "papermill": {
     "duration": 1.393346,
     "end_time": "2022-11-18T02:55:25.137751",
     "exception": false,
     "start_time": "2022-11-18T02:55:23.744405",
     "status": "completed"
    },
    "tags": []
   },
   "outputs": [],
   "source": [
    "#hide_input\n",
    "import warnings\n",
    "warnings.filterwarnings('ignore')\n",
    "from scripts.read_data import read_api\n",
    "from scripts.read_data import read_news\n",
    "from scripts.read_data import read_covid\n",
    "import matplotlib.pyplot as plt \n",
    "from IPython.display import Markdown as md"
   ]
  },
  {
   "cell_type": "code",
   "execution_count": 2,
   "id": "shared-acceptance",
   "metadata": {
    "execution": {
     "iopub.execute_input": "2022-11-18T02:55:25.165915Z",
     "iopub.status.busy": "2022-11-18T02:55:25.164886Z",
     "iopub.status.idle": "2022-11-18T02:55:30.368469Z",
     "shell.execute_reply": "2022-11-18T02:55:30.367908Z"
    },
    "papermill": {
     "duration": 5.220007,
     "end_time": "2022-11-18T02:55:30.368601",
     "exception": false,
     "start_time": "2022-11-18T02:55:25.148594",
     "status": "completed"
    },
    "tags": []
   },
   "outputs": [],
   "source": [
    "#hide_input\n",
    "blockchain = read_news('blockchain') \n",
    "btc = read_news('btc') \n",
    "xrp = read_news('xrp') \n",
    "trx = read_news('trx') \n",
    "eth = read_news('eth')  \n",
    "ada = read_news('ada')\n",
    "exchange = read_news('exchange') "
   ]
  },
  {
   "cell_type": "code",
   "execution_count": 3,
   "id": "synthetic-notion",
   "metadata": {
    "execution": {
     "iopub.execute_input": "2022-11-18T02:55:30.395929Z",
     "iopub.status.busy": "2022-11-18T02:55:30.393127Z",
     "iopub.status.idle": "2022-11-18T02:55:30.400090Z",
     "shell.execute_reply": "2022-11-18T02:55:30.400869Z"
    },
    "papermill": {
     "duration": 0.022306,
     "end_time": "2022-11-18T02:55:30.401012",
     "exception": false,
     "start_time": "2022-11-18T02:55:30.378706",
     "status": "completed"
    },
    "tags": []
   },
   "outputs": [
    {
     "data": {
      "text/markdown": [
       "- Solana NFT Protocol Metaplex Announces Layoffs in Wake of FTX Collapse.  While it had no financial exposure to the fallen exchange, Metaplex appears to be suffering from reputational damage spreading to Solana. ... [| Skaityti daugiau](https://decrypt.co/115002/solana-nft-protocol-metaplex-announces-layoffs-ftx-collapse) "
      ],
      "text/plain": [
       "<IPython.core.display.Markdown object>"
      ]
     },
     "execution_count": 3,
     "metadata": {},
     "output_type": "execute_result"
    }
   ],
   "source": [
    "#hide_input\n",
    "#md('##### {}'.format(titleBTC)) \n",
    "md(\"- {}{} {}{} [| Skaityti daugiau]({}) \".format(blockchain['title'],'. ', blockchain['body'], ' ...', blockchain['url']))"
   ]
  },
  {
   "cell_type": "code",
   "execution_count": 4,
   "id": "aging-caution",
   "metadata": {
    "execution": {
     "iopub.execute_input": "2022-11-18T02:55:30.427463Z",
     "iopub.status.busy": "2022-11-18T02:55:30.426788Z",
     "iopub.status.idle": "2022-11-18T02:55:30.430555Z",
     "shell.execute_reply": "2022-11-18T02:55:30.430067Z"
    },
    "papermill": {
     "duration": 0.019026,
     "end_time": "2022-11-18T02:55:30.430665",
     "exception": false,
     "start_time": "2022-11-18T02:55:30.411639",
     "status": "completed"
    },
    "tags": []
   },
   "outputs": [
    {
     "data": {
      "text/markdown": [
       "- First Mover Asia: Bitcoin Won't Budge. Cryptos Ignore the FTX Chaos for Another Day.  Sam Reynolds writes that venture capitalists’ failure to scrutinize crypto exchange FTS parallels oversights that led to energy giant Enron’s notorious bankruptcy two decades ago. New FTX CEO should know because he helped oversee Enron’s filing. ... [| Skaityti daugiau](https://www.coindesk.com/markets/2022/11/18/first-mover-asia-bitcoin-wont-budge-cryptos-ignore-the-ftx-chaos-for-another-day/?utm_medium=referral&utm_source=rss&utm_campaign=headlines) "
      ],
      "text/plain": [
       "<IPython.core.display.Markdown object>"
      ]
     },
     "execution_count": 4,
     "metadata": {},
     "output_type": "execute_result"
    }
   ],
   "source": [
    "#hide_input\n",
    "#md('##### {}'.format(titleBTC)) \n",
    "md(\"- {}{} {}{} [| Skaityti daugiau]({}) \".format(btc['title'],'. ', btc['body'], ' ...', btc['url']))"
   ]
  },
  {
   "cell_type": "code",
   "execution_count": 5,
   "id": "organic-actress",
   "metadata": {
    "execution": {
     "iopub.execute_input": "2022-11-18T02:55:30.457274Z",
     "iopub.status.busy": "2022-11-18T02:55:30.456423Z",
     "iopub.status.idle": "2022-11-18T02:55:30.461883Z",
     "shell.execute_reply": "2022-11-18T02:55:30.461332Z"
    },
    "papermill": {
     "duration": 0.020994,
     "end_time": "2022-11-18T02:55:30.461997",
     "exception": false,
     "start_time": "2022-11-18T02:55:30.441003",
     "status": "completed"
    },
    "tags": []
   },
   "outputs": [
    {
     "data": {
      "text/markdown": [
       "- Going long on XRP? Here is what you should know before you jump in.  Immediate targets for long trades are at two Fib levels and $0.4465 Improved sentiment and development activity propping up XRP price Ripple (XRP) has shown mild bullish momentum on the lower timeframe charts. On the daily chart, XRP is facing four resistance levels to reach its October levels. At press time, XRP was trading at ... [| Skaityti daugiau](https://ambcrypto.com/going-long-on-xrp-here-is-what-you-should-know-before-you-jump-in/) "
      ],
      "text/plain": [
       "<IPython.core.display.Markdown object>"
      ]
     },
     "execution_count": 5,
     "metadata": {},
     "output_type": "execute_result"
    }
   ],
   "source": [
    "#hide_input\n",
    "#md('##### {}'.format(titleBTC)) \n",
    "md(\"- {}{} {}{} [| Skaityti daugiau]({}) \".format(xrp['title'],'. ', xrp['body'], ' ...', xrp['url']))"
   ]
  },
  {
   "cell_type": "code",
   "execution_count": 6,
   "id": "prompt-farmer",
   "metadata": {
    "execution": {
     "iopub.execute_input": "2022-11-18T02:55:30.492571Z",
     "iopub.status.busy": "2022-11-18T02:55:30.491902Z",
     "iopub.status.idle": "2022-11-18T02:55:30.496436Z",
     "shell.execute_reply": "2022-11-18T02:55:30.495630Z"
    },
    "papermill": {
     "duration": 0.022855,
     "end_time": "2022-11-18T02:55:30.496564",
     "exception": false,
     "start_time": "2022-11-18T02:55:30.473709",
     "status": "completed"
    },
    "tags": []
   },
   "outputs": [
    {
     "data": {
      "text/markdown": [
       "- Tron: Decoding what lies ahead for TRX holders amid the FTX turmoil.  Tron’s weekly stats revealed growth in many aspects Metrics supported a price hike Tron [TRX] recently posted its weekly report, in which it mentioned all the notable updates regarding its blockchain. In the tweet, Tron announced some new information that looked pretty promising; its blockchain height exceeded 45.83 million. Not only this, but the total ... [| Skaityti daugiau](https://ambcrypto.com/tron-decoding-what-lies-ahead-for-trx-holders-amid-the-ftx-turmoil/) "
      ],
      "text/plain": [
       "<IPython.core.display.Markdown object>"
      ]
     },
     "execution_count": 6,
     "metadata": {},
     "output_type": "execute_result"
    }
   ],
   "source": [
    "#hide_input\n",
    "#md('##### {}'.format(titleBTC)) \n",
    "md(\"- {}{} {}{} [| Skaityti daugiau]({}) \".format(trx['title'],'. ', trx['body'], ' ...', trx['url']))"
   ]
  },
  {
   "cell_type": "code",
   "execution_count": 7,
   "id": "illegal-greece",
   "metadata": {
    "execution": {
     "iopub.execute_input": "2022-11-18T02:55:30.524121Z",
     "iopub.status.busy": "2022-11-18T02:55:30.523536Z",
     "iopub.status.idle": "2022-11-18T02:55:30.527479Z",
     "shell.execute_reply": "2022-11-18T02:55:30.527006Z"
    },
    "papermill": {
     "duration": 0.018911,
     "end_time": "2022-11-18T02:55:30.527724",
     "exception": false,
     "start_time": "2022-11-18T02:55:30.508813",
     "status": "completed"
    },
    "tags": []
   },
   "outputs": [
    {
     "data": {
      "text/markdown": [
       "- Starkware launches token on Ethereum, but it’s not yet tradable.  Starkware deployed its native token STRK on the Ethereum network, but the token is currently not tradable. ... [| Skaityti daugiau](https://www.theblock.co/post/188194/starkware-launches-token-on-ethereum-but-its-not-yet-tradable?utm_source=cryptocompare&utm_medium=rss) "
      ],
      "text/plain": [
       "<IPython.core.display.Markdown object>"
      ]
     },
     "execution_count": 7,
     "metadata": {},
     "output_type": "execute_result"
    }
   ],
   "source": [
    "#hide_input\n",
    "#md('##### {}'.format(titleBTC)) \n",
    "md(\"- {}{} {}{} [| Skaityti daugiau]({}) \".format(eth['title'],'. ', eth['body'], ' ...', eth['url']))"
   ]
  },
  {
   "cell_type": "code",
   "execution_count": 8,
   "id": "sublime-lounge",
   "metadata": {
    "execution": {
     "iopub.execute_input": "2022-11-18T02:55:30.555807Z",
     "iopub.status.busy": "2022-11-18T02:55:30.555176Z",
     "iopub.status.idle": "2022-11-18T02:55:30.558950Z",
     "shell.execute_reply": "2022-11-18T02:55:30.558461Z"
    },
    "papermill": {
     "duration": 0.019609,
     "end_time": "2022-11-18T02:55:30.559054",
     "exception": false,
     "start_time": "2022-11-18T02:55:30.539445",
     "status": "completed"
    },
    "tags": []
   },
   "outputs": [
    {
     "data": {
      "text/markdown": [
       "- Cardano Builder Makes \"Massive\" Invetment Into University of Edinburgh.  University of Edinburgh has received fresh funding from Cardano developer Input Output ... [| Skaityti daugiau](https://u.today/cardano-builder-makes-massive-investment-into-university-of-edinburgh) "
      ],
      "text/plain": [
       "<IPython.core.display.Markdown object>"
      ]
     },
     "execution_count": 8,
     "metadata": {},
     "output_type": "execute_result"
    }
   ],
   "source": [
    "#hide_input\n",
    "#md('##### {}'.format(titleBTC)) \n",
    "md(\"- {}{} {}{} [| Skaityti daugiau]({}) \".format(ada['title'],'. ', ada['body'], ' ...', ada['url']))"
   ]
  },
  {
   "cell_type": "code",
   "execution_count": 9,
   "id": "specified-ordering",
   "metadata": {
    "execution": {
     "iopub.execute_input": "2022-11-18T02:55:30.587178Z",
     "iopub.status.busy": "2022-11-18T02:55:30.586246Z",
     "iopub.status.idle": "2022-11-18T02:55:30.592590Z",
     "shell.execute_reply": "2022-11-18T02:55:30.592042Z"
    },
    "papermill": {
     "duration": 0.022704,
     "end_time": "2022-11-18T02:55:30.592757",
     "exception": false,
     "start_time": "2022-11-18T02:55:30.570053",
     "status": "completed"
    },
    "tags": []
   },
   "outputs": [
    {
     "data": {
      "text/markdown": [
       "- First Mover Asia: Bitcoin Won't Budge. Cryptos Ignore the FTX Chaos for Another Day.  Sam Reynolds writes that venture capitalists’ failure to scrutinize crypto exchange FTS parallels oversights that led to energy giant Enron’s notorious bankruptcy two decades ago. New FTX CEO should know because he helped oversee Enron’s filing. ... [| Skaityti daugiau](https://www.coindesk.com/markets/2022/11/18/first-mover-asia-bitcoin-wont-budge-cryptos-ignore-the-ftx-chaos-for-another-day/?utm_medium=referral&utm_source=rss&utm_campaign=headlines) "
      ],
      "text/plain": [
       "<IPython.core.display.Markdown object>"
      ]
     },
     "execution_count": 9,
     "metadata": {},
     "output_type": "execute_result"
    }
   ],
   "source": [
    "#hide_input\n",
    "#md('##### {}'.format(titleBTC)) \n",
    "md(\"- {}{} {}{} [| Skaityti daugiau]({}) \".format(exchange['title'],'. ', exchange['body'], ' ...', exchange['url']))"
   ]
  },
  {
   "cell_type": "code",
   "execution_count": null,
   "id": "tender-livestock",
   "metadata": {
    "papermill": {
     "duration": 0.01146,
     "end_time": "2022-11-18T02:55:30.615845",
     "exception": false,
     "start_time": "2022-11-18T02:55:30.604385",
     "status": "completed"
    },
    "tags": []
   },
   "outputs": [],
   "source": []
  },
  {
   "cell_type": "code",
   "execution_count": null,
   "id": "appreciated-diamond",
   "metadata": {
    "papermill": {
     "duration": 0.011718,
     "end_time": "2022-11-18T02:55:30.639741",
     "exception": false,
     "start_time": "2022-11-18T02:55:30.628023",
     "status": "completed"
    },
    "tags": []
   },
   "outputs": [],
   "source": []
  },
  {
   "cell_type": "code",
   "execution_count": null,
   "id": "romance-sweden",
   "metadata": {
    "papermill": {
     "duration": 0.011324,
     "end_time": "2022-11-18T02:55:30.662250",
     "exception": false,
     "start_time": "2022-11-18T02:55:30.650926",
     "status": "completed"
    },
    "tags": []
   },
   "outputs": [],
   "source": []
  },
  {
   "cell_type": "code",
   "execution_count": null,
   "id": "dietary-statistics",
   "metadata": {
    "papermill": {
     "duration": 0.011955,
     "end_time": "2022-11-18T02:55:30.685854",
     "exception": false,
     "start_time": "2022-11-18T02:55:30.673899",
     "status": "completed"
    },
    "tags": []
   },
   "outputs": [],
   "source": []
  }
 ],
 "metadata": {
  "kernelspec": {
   "display_name": "Python 3",
   "language": "python",
   "name": "python3"
  },
  "language_info": {
   "codemirror_mode": {
    "name": "ipython",
    "version": 3
   },
   "file_extension": ".py",
   "mimetype": "text/x-python",
   "name": "python",
   "nbconvert_exporter": "python",
   "pygments_lexer": "ipython3",
   "version": "3.6.15"
  },
  "papermill": {
   "default_parameters": {},
   "duration": 8.639004,
   "end_time": "2022-11-18T02:55:31.117472",
   "environment_variables": {},
   "exception": null,
   "input_path": "Market-News.ipynb",
   "output_path": "Market-News.ipynb",
   "parameters": {},
   "start_time": "2022-11-18T02:55:22.478468",
   "version": "2.2.2"
  }
 },
 "nbformat": 4,
 "nbformat_minor": 5
}