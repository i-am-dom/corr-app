{
 "cells": [
  {
   "cell_type": "markdown",
   "id": "short-greensboro",
   "metadata": {
    "papermill": {
     "duration": 0.013825,
     "end_time": "2022-09-22T03:39:43.951405",
     "exception": false,
     "start_time": "2022-09-22T03:39:43.937580",
     "status": "completed"
    },
    "tags": []
   },
   "source": [
    "# Kriptovaliutų naujienos"
   ]
  },
  {
   "cell_type": "code",
   "execution_count": 1,
   "id": "functioning-knowing",
   "metadata": {
    "execution": {
     "iopub.execute_input": "2022-09-22T03:39:43.981001Z",
     "iopub.status.busy": "2022-09-22T03:39:43.980304Z",
     "iopub.status.idle": "2022-09-22T03:39:45.177427Z",
     "shell.execute_reply": "2022-09-22T03:39:45.176834Z"
    },
    "papermill": {
     "duration": 1.216545,
     "end_time": "2022-09-22T03:39:45.177580",
     "exception": false,
     "start_time": "2022-09-22T03:39:43.961035",
     "status": "completed"
    },
    "tags": []
   },
   "outputs": [],
   "source": [
    "#hide_input\n",
    "import warnings\n",
    "warnings.filterwarnings('ignore')\n",
    "from scripts.read_data import read_api\n",
    "from scripts.read_data import read_news\n",
    "from scripts.read_data import read_covid\n",
    "import matplotlib.pyplot as plt \n",
    "from IPython.display import Markdown as md"
   ]
  },
  {
   "cell_type": "code",
   "execution_count": 2,
   "id": "shared-acceptance",
   "metadata": {
    "execution": {
     "iopub.execute_input": "2022-09-22T03:39:45.203280Z",
     "iopub.status.busy": "2022-09-22T03:39:45.202694Z",
     "iopub.status.idle": "2022-09-22T03:39:56.368690Z",
     "shell.execute_reply": "2022-09-22T03:39:56.367766Z"
    },
    "papermill": {
     "duration": 11.180637,
     "end_time": "2022-09-22T03:39:56.368825",
     "exception": false,
     "start_time": "2022-09-22T03:39:45.188188",
     "status": "completed"
    },
    "tags": []
   },
   "outputs": [],
   "source": [
    "#hide_input\n",
    "blockchain = read_news('blockchain') \n",
    "btc = read_news('btc') \n",
    "xrp = read_news('xrp') \n",
    "trx = read_news('trx') \n",
    "eth = read_news('eth')  \n",
    "ada = read_news('ada')\n",
    "exchange = read_news('exchange') "
   ]
  },
  {
   "cell_type": "code",
   "execution_count": 3,
   "id": "synthetic-notion",
   "metadata": {
    "execution": {
     "iopub.execute_input": "2022-09-22T03:39:56.393663Z",
     "iopub.status.busy": "2022-09-22T03:39:56.393020Z",
     "iopub.status.idle": "2022-09-22T03:39:56.396457Z",
     "shell.execute_reply": "2022-09-22T03:39:56.396009Z"
    },
    "papermill": {
     "duration": 0.018473,
     "end_time": "2022-09-22T03:39:56.396564",
     "exception": false,
     "start_time": "2022-09-22T03:39:56.378091",
     "status": "completed"
    },
    "tags": []
   },
   "outputs": [
    {
     "data": {
      "text/markdown": [
       "- The World’s Flagship Blockchain Event is Around the Corner, Blockchain Economy Dubai (Oct 4-5).  Excitement for the World’s Most Global Blockchain &#38; Crypto Conference is at its peak as Blockchain Economy Dubai Summit date is approaching. Blockchain Economy Events are attended by famous TV&#38;Film Stars, Pop-Stars, Ministries, and industry leaders such as Blockchain.com, MicroStrategy, KuCoin, Crypto.com, BITMAIN, Ledger, Kraken, Gate.io, BitMex, OKX, and many more since its very first [&#8230;]The post The World’s Flagship Blockchain Event is Around the Corner, Blockchain Economy Dubai (Oct 4-5) appeared first on NullTX. ... [| Skaityti daugiau](https://nulltx.com/the-worlds-flagship-blockchain-event-is-around-the-corner-blockchain-economy-dubai-oct-4-5/) "
      ],
      "text/plain": [
       "<IPython.core.display.Markdown object>"
      ]
     },
     "execution_count": 3,
     "metadata": {},
     "output_type": "execute_result"
    }
   ],
   "source": [
    "#hide_input\n",
    "#md('##### {}'.format(titleBTC)) \n",
    "md(\"- {}{} {}{} [| Skaityti daugiau]({}) \".format(blockchain['title'],'. ', blockchain['body'], ' ...', blockchain['url']))"
   ]
  },
  {
   "cell_type": "code",
   "execution_count": 4,
   "id": "aging-caution",
   "metadata": {
    "execution": {
     "iopub.execute_input": "2022-09-22T03:39:56.420116Z",
     "iopub.status.busy": "2022-09-22T03:39:56.419416Z",
     "iopub.status.idle": "2022-09-22T03:39:56.422612Z",
     "shell.execute_reply": "2022-09-22T03:39:56.422169Z"
    },
    "papermill": {
     "duration": 0.016946,
     "end_time": "2022-09-22T03:39:56.422713",
     "exception": false,
     "start_time": "2022-09-22T03:39:56.405767",
     "status": "completed"
    },
    "tags": []
   },
   "outputs": [
    {
     "data": {
      "text/markdown": [
       "- JP Morgan To Render Crypto Services Despite The Bear Run.  JPMorgan &#38; Co. is one of the leading financial services institutions globally, including crypto. Its assets and worldwide operations are worth over $2.6 trillion. The company’s rich history has been on for more than 200 years. JP Morgan is committed to providing commercial banking, financial services for small businesses and customers, investment banking, etc. It also provides asset management and financial transaction processing. Related Reading: Post-Merge Profit-Taking Cuts 13% Off Ethereum Ratio Against BTC The company shared some recent happenings among its clients. It revealed that many are withdrawing from using digital currencies as payment means. According to the company, this new action from its clients has been on for the last few months. The primary reason for the drop in interest is the current bear market in the digital currency industry. Crypto Market And Effect On JPMorgan Several adverse events are the main reasons for the current bearish market. Some of these are the U.S. 40-year record inflation rate, the Ukraine conflict, the European Union energy crisis, etc. This bearish crypto market negatively affects investors and traders in several crypto financial firms. An example of these companies is JPMorgan Chase. Takis Georgakopoulos cited that the company&#8217;s clients were eager to use cryptocurrencies as a means of payment six months before now. Georgakopoulos is the Global Head of Payments at JPMorgan... ... [| Skaityti daugiau](https://www.newsbtc.com/news/jp-morgan-to-render-crypto-services-despite-the-bear-run/) "
      ],
      "text/plain": [
       "<IPython.core.display.Markdown object>"
      ]
     },
     "execution_count": 4,
     "metadata": {},
     "output_type": "execute_result"
    }
   ],
   "source": [
    "#hide_input\n",
    "#md('##### {}'.format(titleBTC)) \n",
    "md(\"- {}{} {}{} [| Skaityti daugiau]({}) \".format(btc['title'],'. ', btc['body'], ' ...', btc['url']))"
   ]
  },
  {
   "cell_type": "code",
   "execution_count": 5,
   "id": "organic-actress",
   "metadata": {
    "execution": {
     "iopub.execute_input": "2022-09-22T03:39:56.446852Z",
     "iopub.status.busy": "2022-09-22T03:39:56.446203Z",
     "iopub.status.idle": "2022-09-22T03:39:56.448769Z",
     "shell.execute_reply": "2022-09-22T03:39:56.449373Z"
    },
    "papermill": {
     "duration": 0.017111,
     "end_time": "2022-09-22T03:39:56.449499",
     "exception": false,
     "start_time": "2022-09-22T03:39:56.432388",
     "status": "completed"
    },
    "tags": []
   },
   "outputs": [
    {
     "data": {
      "text/markdown": [
       "- XRP vs ADA! Cardano & Ripple On The Verge Of A Breakout Soon.  The post XRP vs ADA! Cardano &#038; Ripple On The Verge Of A Breakout Soon appeared first on Coinpedia Fintech NewsThe most popular altcoins, Cardano &#38; Ripple, are trading with a huge bullish momentum since the pre-trading session and are aiming to close the day’s trade on a bullish note. Both the altcoins have been stagnant for a prolonged period and due to this, the investors also lost their focus on the assets.&#160; However, now &#8230; ... [| Skaityti daugiau](https://coinpedia.org/altcoin/xrp-vs-ada-cardano-ripple-on-the-verge-of-a-breakout-soon/) "
      ],
      "text/plain": [
       "<IPython.core.display.Markdown object>"
      ]
     },
     "execution_count": 5,
     "metadata": {},
     "output_type": "execute_result"
    }
   ],
   "source": [
    "#hide_input\n",
    "#md('##### {}'.format(titleBTC)) \n",
    "md(\"- {}{} {}{} [| Skaityti daugiau]({}) \".format(xrp['title'],'. ', xrp['body'], ' ...', xrp['url']))"
   ]
  },
  {
   "cell_type": "code",
   "execution_count": 6,
   "id": "prompt-farmer",
   "metadata": {
    "execution": {
     "iopub.execute_input": "2022-09-22T03:39:56.473587Z",
     "iopub.status.busy": "2022-09-22T03:39:56.473002Z",
     "iopub.status.idle": "2022-09-22T03:39:56.476614Z",
     "shell.execute_reply": "2022-09-22T03:39:56.476146Z"
    },
    "papermill": {
     "duration": 0.017294,
     "end_time": "2022-09-22T03:39:56.476712",
     "exception": false,
     "start_time": "2022-09-22T03:39:56.459418",
     "status": "completed"
    },
    "tags": []
   },
   "outputs": [
    {
     "data": {
      "text/markdown": [
       "- Tron (TRX) And Polygon (MATIC) Holders Begin Buying Into Flasko (FLSK) Presale.  The post Tron (TRX) And Polygon (MATIC) Holders Begin Buying Into Flasko (FLSK) Presale appeared first on Coinpedia - Fintech &amp; Cryptocurreny News Media| Crypto GuideCrypto investors worldwide focus on tokens that perform well because such projects guarantee a positive return. Polygon (MATIC) and TRON (TRX) were previously market leaders with high profits, but their investors are now content with limited growth. Flasko (FLSK) holders, on the other side, are riding a unicorn of profit and expansion. Polygon (MATIC) is &#8230; ... [| Skaityti daugiau](https://coinpedia.org/press-release/tron-trx-and-polygon-matic-holders-begin-buying-into-flasko-flsk-presale/) "
      ],
      "text/plain": [
       "<IPython.core.display.Markdown object>"
      ]
     },
     "execution_count": 6,
     "metadata": {},
     "output_type": "execute_result"
    }
   ],
   "source": [
    "#hide_input\n",
    "#md('##### {}'.format(titleBTC)) \n",
    "md(\"- {}{} {}{} [| Skaityti daugiau]({}) \".format(trx['title'],'. ', trx['body'], ' ...', trx['url']))"
   ]
  },
  {
   "cell_type": "code",
   "execution_count": 7,
   "id": "illegal-greece",
   "metadata": {
    "execution": {
     "iopub.execute_input": "2022-09-22T03:39:56.501136Z",
     "iopub.status.busy": "2022-09-22T03:39:56.500294Z",
     "iopub.status.idle": "2022-09-22T03:39:56.504552Z",
     "shell.execute_reply": "2022-09-22T03:39:56.504080Z"
    },
    "papermill": {
     "duration": 0.017625,
     "end_time": "2022-09-22T03:39:56.504649",
     "exception": false,
     "start_time": "2022-09-22T03:39:56.487024",
     "status": "completed"
    },
    "tags": []
   },
   "outputs": [
    {
     "data": {
      "text/markdown": [
       "- 10K Club .ape DID Airdrop to BAYC Communities.  JazDID is a decentralized identity (DID) domain name launchpad co-founded by &#8220;Unforgettable&#8221; RIAA Diamond record rapper French Montana, USM.World founder Dr. Watney, and Null TX Owner &#38; Founder Marat (Mark) Arguinbaev. JazDID has partnered with USM.world, one of the largest Metaverses on the ETH &#38; BNB networks backed by Consensys Mesh Tachyon (parent company is [&#8230;]The post 10K Club .ape DID Airdrop to BAYC Communities appeared first on NullTX. ... [| Skaityti daugiau](https://nulltx.com/10k-club-ape-did-airdrop-to-bayc-communities/) "
      ],
      "text/plain": [
       "<IPython.core.display.Markdown object>"
      ]
     },
     "execution_count": 7,
     "metadata": {},
     "output_type": "execute_result"
    }
   ],
   "source": [
    "#hide_input\n",
    "#md('##### {}'.format(titleBTC)) \n",
    "md(\"- {}{} {}{} [| Skaityti daugiau]({}) \".format(eth['title'],'. ', eth['body'], ' ...', eth['url']))"
   ]
  },
  {
   "cell_type": "code",
   "execution_count": 8,
   "id": "sublime-lounge",
   "metadata": {
    "execution": {
     "iopub.execute_input": "2022-09-22T03:39:56.531603Z",
     "iopub.status.busy": "2022-09-22T03:39:56.530984Z",
     "iopub.status.idle": "2022-09-22T03:39:56.534147Z",
     "shell.execute_reply": "2022-09-22T03:39:56.533684Z"
    },
    "papermill": {
     "duration": 0.018007,
     "end_time": "2022-09-22T03:39:56.534243",
     "exception": false,
     "start_time": "2022-09-22T03:39:56.516236",
     "status": "completed"
    },
    "tags": []
   },
   "outputs": [
    {
     "data": {
      "text/markdown": [
       "- Cardano Vasil upgrade ready with all ‘critical mass indicators’ achieved.  With the countdown now under 24 hours for Cardano’s most ambitious upgrade, all three metrics necessary to launch the awaited Vasil upgrade have been met. ... [| Skaityti daugiau](https://cointelegraph.com/news/cardano-vasil-upgrade-ready-with-all-critical-mass-indicators-achieved) "
      ],
      "text/plain": [
       "<IPython.core.display.Markdown object>"
      ]
     },
     "execution_count": 8,
     "metadata": {},
     "output_type": "execute_result"
    }
   ],
   "source": [
    "#hide_input\n",
    "#md('##### {}'.format(titleBTC)) \n",
    "md(\"- {}{} {}{} [| Skaityti daugiau]({}) \".format(ada['title'],'. ', ada['body'], ' ...', ada['url']))"
   ]
  },
  {
   "cell_type": "code",
   "execution_count": 9,
   "id": "specified-ordering",
   "metadata": {
    "execution": {
     "iopub.execute_input": "2022-09-22T03:39:56.560381Z",
     "iopub.status.busy": "2022-09-22T03:39:56.559779Z",
     "iopub.status.idle": "2022-09-22T03:39:56.563638Z",
     "shell.execute_reply": "2022-09-22T03:39:56.563174Z"
    },
    "papermill": {
     "duration": 0.018656,
     "end_time": "2022-09-22T03:39:56.563736",
     "exception": false,
     "start_time": "2022-09-22T03:39:56.545080",
     "status": "completed"
    },
    "tags": []
   },
   "outputs": [
    {
     "data": {
      "text/markdown": [
       "- FTX in talks with investors to raise $1B for further acquisitions — CNBC.  The potential $1 billion funding round would add to the $400 million FTX raised in January, with the firm said to be seeking more capital to snap up deals amid the crypto winter.  ... [| Skaityti daugiau](https://cointelegraph.com/news/ftx-in-talks-with-investors-to-raise-1b-for-further-acquisitions-cnbc) "
      ],
      "text/plain": [
       "<IPython.core.display.Markdown object>"
      ]
     },
     "execution_count": 9,
     "metadata": {},
     "output_type": "execute_result"
    }
   ],
   "source": [
    "#hide_input\n",
    "#md('##### {}'.format(titleBTC)) \n",
    "md(\"- {}{} {}{} [| Skaityti daugiau]({}) \".format(exchange['title'],'. ', exchange['body'], ' ...', exchange['url']))"
   ]
  },
  {
   "cell_type": "code",
   "execution_count": null,
   "id": "tender-livestock",
   "metadata": {
    "papermill": {
     "duration": 0.011209,
     "end_time": "2022-09-22T03:39:56.586080",
     "exception": false,
     "start_time": "2022-09-22T03:39:56.574871",
     "status": "completed"
    },
    "tags": []
   },
   "outputs": [],
   "source": []
  },
  {
   "cell_type": "code",
   "execution_count": null,
   "id": "appreciated-diamond",
   "metadata": {
    "papermill": {
     "duration": 0.011444,
     "end_time": "2022-09-22T03:39:56.608843",
     "exception": false,
     "start_time": "2022-09-22T03:39:56.597399",
     "status": "completed"
    },
    "tags": []
   },
   "outputs": [],
   "source": []
  },
  {
   "cell_type": "code",
   "execution_count": null,
   "id": "romance-sweden",
   "metadata": {
    "papermill": {
     "duration": 0.011139,
     "end_time": "2022-09-22T03:39:56.631179",
     "exception": false,
     "start_time": "2022-09-22T03:39:56.620040",
     "status": "completed"
    },
    "tags": []
   },
   "outputs": [],
   "source": []
  },
  {
   "cell_type": "code",
   "execution_count": null,
   "id": "dietary-statistics",
   "metadata": {
    "papermill": {
     "duration": 0.011153,
     "end_time": "2022-09-22T03:39:56.653545",
     "exception": false,
     "start_time": "2022-09-22T03:39:56.642392",
     "status": "completed"
    },
    "tags": []
   },
   "outputs": [],
   "source": []
  }
 ],
 "metadata": {
  "kernelspec": {
   "display_name": "Python 3",
   "language": "python",
   "name": "python3"
  },
  "language_info": {
   "codemirror_mode": {
    "name": "ipython",
    "version": 3
   },
   "file_extension": ".py",
   "mimetype": "text/x-python",
   "name": "python",
   "nbconvert_exporter": "python",
   "pygments_lexer": "ipython3",
   "version": "3.6.15"
  },
  "papermill": {
   "default_parameters": {},
   "duration": 14.056241,
   "end_time": "2022-09-22T03:39:57.083486",
   "environment_variables": {},
   "exception": null,
   "input_path": "Market-News.ipynb",
   "output_path": "Market-News.ipynb",
   "parameters": {},
   "start_time": "2022-09-22T03:39:43.027245",
   "version": "2.2.2"
  }
 },
 "nbformat": 4,
 "nbformat_minor": 5
}