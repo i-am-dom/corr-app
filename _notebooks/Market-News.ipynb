{
 "cells": [
  {
   "cell_type": "markdown",
   "id": "short-greensboro",
   "metadata": {
    "papermill": {
     "duration": 0.01559,
     "end_time": "2021-08-13T01:59:02.033224",
     "exception": false,
     "start_time": "2021-08-13T01:59:02.017634",
     "status": "completed"
    },
    "tags": []
   },
   "source": [
    "# Kriptovaliutų naujienos"
   ]
  },
  {
   "cell_type": "code",
   "execution_count": 1,
   "id": "functioning-knowing",
   "metadata": {
    "execution": {
     "iopub.execute_input": "2021-08-13T01:59:02.069494Z",
     "iopub.status.busy": "2021-08-13T01:59:02.068755Z",
     "iopub.status.idle": "2021-08-13T01:59:03.424073Z",
     "shell.execute_reply": "2021-08-13T01:59:03.423525Z"
    },
    "papermill": {
     "duration": 1.37983,
     "end_time": "2021-08-13T01:59:03.424223",
     "exception": false,
     "start_time": "2021-08-13T01:59:02.044393",
     "status": "completed"
    },
    "tags": []
   },
   "outputs": [],
   "source": [
    "#hide_input\n",
    "import warnings\n",
    "warnings.filterwarnings('ignore')\n",
    "from scripts.read_data import read_api\n",
    "from scripts.read_data import read_news\n",
    "from scripts.read_data import read_covid\n",
    "import matplotlib.pyplot as plt \n",
    "from IPython.display import Markdown as md"
   ]
  },
  {
   "cell_type": "code",
   "execution_count": 2,
   "id": "shared-acceptance",
   "metadata": {
    "execution": {
     "iopub.execute_input": "2021-08-13T01:59:03.453763Z",
     "iopub.status.busy": "2021-08-13T01:59:03.453113Z",
     "iopub.status.idle": "2021-08-13T01:59:13.067711Z",
     "shell.execute_reply": "2021-08-13T01:59:13.068265Z"
    },
    "papermill": {
     "duration": 9.633596,
     "end_time": "2021-08-13T01:59:13.068441",
     "exception": false,
     "start_time": "2021-08-13T01:59:03.434845",
     "status": "completed"
    },
    "tags": []
   },
   "outputs": [],
   "source": [
    "#hide_input\n",
    "blockchain = read_news('blockchain') \n",
    "btc = read_news('btc') \n",
    "xrp = read_news('xrp') \n",
    "trx = read_news('trx') \n",
    "eth = read_news('eth')  \n",
    "ada = read_news('ada')\n",
    "exchange = read_news('exchange') "
   ]
  },
  {
   "cell_type": "code",
   "execution_count": 3,
   "id": "synthetic-notion",
   "metadata": {
    "execution": {
     "iopub.execute_input": "2021-08-13T01:59:13.097336Z",
     "iopub.status.busy": "2021-08-13T01:59:13.096681Z",
     "iopub.status.idle": "2021-08-13T01:59:13.102284Z",
     "shell.execute_reply": "2021-08-13T01:59:13.101815Z"
    },
    "papermill": {
     "duration": 0.023165,
     "end_time": "2021-08-13T01:59:13.102412",
     "exception": false,
     "start_time": "2021-08-13T01:59:13.079247",
     "status": "completed"
    },
    "tags": []
   },
   "outputs": [
    {
     "data": {
      "text/markdown": [
       "- Bitwave Looks to Streamline Crypto Accounting as it Raises $7.25M From Investors.  American crypto tax and accounting software provider, Bitwave, revealed it has raised $7.25 million in a recent funding round led by Blockchain Capital with participation from Arca, Nascent and Nima Capital. The funding will enable Bitwave to improve its software infrastructure while growing its client base. The company also mentioned that the funding will be The post Bitwave Looks to Streamline Crypto Accounting as it Raises $7.25M From Investors appeared first on Coingape. ... [| Skaityti daugiau](https://coingape.com/bitwave-looks-streamline-crypto-accounting-raises-7-25m-investors/) "
      ],
      "text/plain": [
       "<IPython.core.display.Markdown object>"
      ]
     },
     "execution_count": 3,
     "metadata": {},
     "output_type": "execute_result"
    }
   ],
   "source": [
    "#hide_input\n",
    "#md('##### {}'.format(titleBTC)) \n",
    "md(\"- {}{} {}{} [| Skaityti daugiau]({}) \".format(blockchain['title'],'. ', blockchain['body'], ' ...', blockchain['url']))"
   ]
  },
  {
   "cell_type": "code",
   "execution_count": 4,
   "id": "aging-caution",
   "metadata": {
    "execution": {
     "iopub.execute_input": "2021-08-13T01:59:13.128254Z",
     "iopub.status.busy": "2021-08-13T01:59:13.127604Z",
     "iopub.status.idle": "2021-08-13T01:59:13.133743Z",
     "shell.execute_reply": "2021-08-13T01:59:13.133272Z"
    },
    "papermill": {
     "duration": 0.021438,
     "end_time": "2021-08-13T01:59:13.133881",
     "exception": false,
     "start_time": "2021-08-13T01:59:13.112443",
     "status": "completed"
    },
    "tags": []
   },
   "outputs": [
    {
     "data": {
      "text/markdown": [
       "- MicroStrategy Stock Has Gained 452% In First Year On Corporate Bitcoin Standard.  One year since adopting a corporate Bitcoin standard, MicroStrategy's stock has exploded as the bitcoin price has risen 306%. ... [| Skaityti daugiau](https://bitcoinmagazine.com/markets/microstrategy-stock-up-452-with-bitcoin-standard) "
      ],
      "text/plain": [
       "<IPython.core.display.Markdown object>"
      ]
     },
     "execution_count": 4,
     "metadata": {},
     "output_type": "execute_result"
    }
   ],
   "source": [
    "#hide_input\n",
    "#md('##### {}'.format(titleBTC)) \n",
    "md(\"- {}{} {}{} [| Skaityti daugiau]({}) \".format(btc['title'],'. ', btc['body'], ' ...', btc['url']))"
   ]
  },
  {
   "cell_type": "code",
   "execution_count": 5,
   "id": "organic-actress",
   "metadata": {
    "execution": {
     "iopub.execute_input": "2021-08-13T01:59:13.162301Z",
     "iopub.status.busy": "2021-08-13T01:59:13.161645Z",
     "iopub.status.idle": "2021-08-13T01:59:13.167117Z",
     "shell.execute_reply": "2021-08-13T01:59:13.166555Z"
    },
    "papermill": {
     "duration": 0.022664,
     "end_time": "2021-08-13T01:59:13.167245",
     "exception": false,
     "start_time": "2021-08-13T01:59:13.144581",
     "status": "completed"
    },
    "tags": []
   },
   "outputs": [
    {
     "data": {
      "text/markdown": [
       "- XRP Address Activity and Network Growth Could Push Rally Further, Santiment Says.  The price of XRP has surged past the $1 mark over the last 24-hour period after Ripple announced that GME Remittance, one of the largest non-bank remittance service providers in South Korea, joined RippleNet. Per analytics firm Santiment, XRP’s price could rally further. RippleNet, according to Ripple’s website, offers “connections to hundreds of financial institutions around […] ... [| Skaityti daugiau](https://www.cryptoglobe.com/latest/2021/08/xrp-address-activity-and-network-growth-could-push-rally-further-santiment-says/) "
      ],
      "text/plain": [
       "<IPython.core.display.Markdown object>"
      ]
     },
     "execution_count": 5,
     "metadata": {},
     "output_type": "execute_result"
    }
   ],
   "source": [
    "#hide_input\n",
    "#md('##### {}'.format(titleBTC)) \n",
    "md(\"- {}{} {}{} [| Skaityti daugiau]({}) \".format(xrp['title'],'. ', xrp['body'], ' ...', xrp['url']))"
   ]
  },
  {
   "cell_type": "code",
   "execution_count": 6,
   "id": "prompt-farmer",
   "metadata": {
    "execution": {
     "iopub.execute_input": "2021-08-13T01:59:13.196588Z",
     "iopub.status.busy": "2021-08-13T01:59:13.195788Z",
     "iopub.status.idle": "2021-08-13T01:59:13.200876Z",
     "shell.execute_reply": "2021-08-13T01:59:13.200111Z"
    },
    "papermill": {
     "duration": 0.022291,
     "end_time": "2021-08-13T01:59:13.201005",
     "exception": false,
     "start_time": "2021-08-13T01:59:13.178714",
     "status": "completed"
    },
    "tags": []
   },
   "outputs": [
    {
     "data": {
      "text/markdown": [
       "- XRP, ADA, and Other Altcoins Show Positive Bullish Signs.  As Bitcoin rallies, so are many other altcoins. At the moment, ADA, XRP, IOTX, XDC, TRX, and MATIC are showing ... [| Skaityti daugiau](https://coinquora.com/xrp-ada-and-other-altcoins-show-positive-bullish-signs/) "
      ],
      "text/plain": [
       "<IPython.core.display.Markdown object>"
      ]
     },
     "execution_count": 6,
     "metadata": {},
     "output_type": "execute_result"
    }
   ],
   "source": [
    "#hide_input\n",
    "#md('##### {}'.format(titleBTC)) \n",
    "md(\"- {}{} {}{} [| Skaityti daugiau]({}) \".format(trx['title'],'. ', trx['body'], ' ...', trx['url']))"
   ]
  },
  {
   "cell_type": "code",
   "execution_count": 7,
   "id": "illegal-greece",
   "metadata": {
    "execution": {
     "iopub.execute_input": "2021-08-13T01:59:13.230952Z",
     "iopub.status.busy": "2021-08-13T01:59:13.230355Z",
     "iopub.status.idle": "2021-08-13T01:59:13.233158Z",
     "shell.execute_reply": "2021-08-13T01:59:13.233624Z"
    },
    "papermill": {
     "duration": 0.021029,
     "end_time": "2021-08-13T01:59:13.233758",
     "exception": false,
     "start_time": "2021-08-13T01:59:13.212729",
     "status": "completed"
    },
    "tags": []
   },
   "outputs": [
    {
     "data": {
      "text/markdown": [
       "- Happy 21st crypto ETF filed for 2021 with Kryptoin’s ‘Ethereum ETF Trust’.  The Kryptoin Ethereum ETF Trust plans to issue its common shares on the Chicago Board Options Exchange’s (Cboe) BZX, and will value them based on the CF Ether-Dollar U.S. settlement price.  ... [| Skaityti daugiau](https://cointelegraph.com/news/happy-21st-crypto-etf-filed-for-2021-with-kryptoin-s-ethereum-etf-trust) "
      ],
      "text/plain": [
       "<IPython.core.display.Markdown object>"
      ]
     },
     "execution_count": 7,
     "metadata": {},
     "output_type": "execute_result"
    }
   ],
   "source": [
    "#hide_input\n",
    "#md('##### {}'.format(titleBTC)) \n",
    "md(\"- {}{} {}{} [| Skaityti daugiau]({}) \".format(eth['title'],'. ', eth['body'], ' ...', eth['url']))"
   ]
  },
  {
   "cell_type": "code",
   "execution_count": 8,
   "id": "sublime-lounge",
   "metadata": {
    "execution": {
     "iopub.execute_input": "2021-08-13T01:59:13.264215Z",
     "iopub.status.busy": "2021-08-13T01:59:13.262273Z",
     "iopub.status.idle": "2021-08-13T01:59:13.267013Z",
     "shell.execute_reply": "2021-08-13T01:59:13.266511Z"
    },
    "papermill": {
     "duration": 0.021594,
     "end_time": "2021-08-13T01:59:13.267128",
     "exception": false,
     "start_time": "2021-08-13T01:59:13.245534",
     "status": "completed"
    },
    "tags": []
   },
   "outputs": [
    {
     "data": {
      "text/markdown": [
       "- Cardano (ADA) Founder Wants Rally In Washington DC In Support Of Crypto.  Crypto regulation is still a bit pain point in the market right now. The Infrastructure Bill that went before the House in the U.S. has made waves across the market recently. The bill would adversely affect the industry widely. And thus, crypto investors have been fighting this bill as much as they can. Related Reading [&#8230;] ... [| Skaityti daugiau](https://bitcoinist.com/cardano-ada-founder-wants-rally-in-washington-dc-in-support-of-crypto/?utm_source=rss&utm_medium=rss&utm_campaign=cardano-ada-founder-wants-rally-in-washington-dc-in-support-of-crypto) "
      ],
      "text/plain": [
       "<IPython.core.display.Markdown object>"
      ]
     },
     "execution_count": 8,
     "metadata": {},
     "output_type": "execute_result"
    }
   ],
   "source": [
    "#hide_input\n",
    "#md('##### {}'.format(titleBTC)) \n",
    "md(\"- {}{} {}{} [| Skaityti daugiau]({}) \".format(ada['title'],'. ', ada['body'], ' ...', ada['url']))"
   ]
  },
  {
   "cell_type": "code",
   "execution_count": 9,
   "id": "specified-ordering",
   "metadata": {
    "execution": {
     "iopub.execute_input": "2021-08-13T01:59:13.300132Z",
     "iopub.status.busy": "2021-08-13T01:59:13.299427Z",
     "iopub.status.idle": "2021-08-13T01:59:13.302339Z",
     "shell.execute_reply": "2021-08-13T01:59:13.302802Z"
    },
    "papermill": {
     "duration": 0.022118,
     "end_time": "2021-08-13T01:59:13.302934",
     "exception": false,
     "start_time": "2021-08-13T01:59:13.280816",
     "status": "completed"
    },
    "tags": []
   },
   "outputs": [
    {
     "data": {
      "text/markdown": [
       "- FTX.US President Wants Crypto Derivatives Trading Within Year.  Brett Harrison, the president of the U.S. affiliate of FTX, is clearing a path for crypto derivatives trading on the exchange. ... [| Skaityti daugiau](https://decrypt.co/78432/ftx-us-president-wants-crypto-derivatives-trading-within-year) "
      ],
      "text/plain": [
       "<IPython.core.display.Markdown object>"
      ]
     },
     "execution_count": 9,
     "metadata": {},
     "output_type": "execute_result"
    }
   ],
   "source": [
    "#hide_input\n",
    "#md('##### {}'.format(titleBTC)) \n",
    "md(\"- {}{} {}{} [| Skaityti daugiau]({}) \".format(exchange['title'],'. ', exchange['body'], ' ...', exchange['url']))"
   ]
  },
  {
   "cell_type": "code",
   "execution_count": null,
   "id": "tender-livestock",
   "metadata": {
    "papermill": {
     "duration": 0.015591,
     "end_time": "2021-08-13T01:59:13.331724",
     "exception": false,
     "start_time": "2021-08-13T01:59:13.316133",
     "status": "completed"
    },
    "tags": []
   },
   "outputs": [],
   "source": []
  },
  {
   "cell_type": "code",
   "execution_count": null,
   "id": "appreciated-diamond",
   "metadata": {
    "papermill": {
     "duration": 0.013251,
     "end_time": "2021-08-13T01:59:13.358164",
     "exception": false,
     "start_time": "2021-08-13T01:59:13.344913",
     "status": "completed"
    },
    "tags": []
   },
   "outputs": [],
   "source": []
  },
  {
   "cell_type": "code",
   "execution_count": null,
   "id": "romance-sweden",
   "metadata": {
    "papermill": {
     "duration": 0.013148,
     "end_time": "2021-08-13T01:59:13.384147",
     "exception": false,
     "start_time": "2021-08-13T01:59:13.370999",
     "status": "completed"
    },
    "tags": []
   },
   "outputs": [],
   "source": []
  },
  {
   "cell_type": "code",
   "execution_count": null,
   "id": "dietary-statistics",
   "metadata": {
    "papermill": {
     "duration": 0.015266,
     "end_time": "2021-08-13T01:59:13.412120",
     "exception": false,
     "start_time": "2021-08-13T01:59:13.396854",
     "status": "completed"
    },
    "tags": []
   },
   "outputs": [],
   "source": []
  }
 ],
 "metadata": {
  "kernelspec": {
   "display_name": "Python 3",
   "language": "python",
   "name": "python3"
  },
  "language_info": {
   "codemirror_mode": {
    "name": "ipython",
    "version": 3
   },
   "file_extension": ".py",
   "mimetype": "text/x-python",
   "name": "python",
   "nbconvert_exporter": "python",
   "pygments_lexer": "ipython3",
   "version": "3.6.14"
  },
  "papermill": {
   "default_parameters": {},
   "duration": 13.00026,
   "end_time": "2021-08-13T01:59:13.934196",
   "environment_variables": {},
   "exception": null,
   "input_path": "Market-News.ipynb",
   "output_path": "Market-News.ipynb",
   "parameters": {},
   "start_time": "2021-08-13T01:59:00.933936",
   "version": "2.2.2"
  }
 },
 "nbformat": 4,
 "nbformat_minor": 5
}