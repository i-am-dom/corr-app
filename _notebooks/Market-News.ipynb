{
 "cells": [
  {
   "cell_type": "markdown",
   "id": "short-greensboro",
   "metadata": {
    "papermill": {
     "duration": 0.013055,
     "end_time": "2022-05-16T02:40:47.302855",
     "exception": false,
     "start_time": "2022-05-16T02:40:47.289800",
     "status": "completed"
    },
    "tags": []
   },
   "source": [
    "# Kriptovaliutų naujienos"
   ]
  },
  {
   "cell_type": "code",
   "execution_count": 1,
   "id": "functioning-knowing",
   "metadata": {
    "execution": {
     "iopub.execute_input": "2022-05-16T02:40:47.332818Z",
     "iopub.status.busy": "2022-05-16T02:40:47.332298Z",
     "iopub.status.idle": "2022-05-16T02:40:48.583302Z",
     "shell.execute_reply": "2022-05-16T02:40:48.582780Z"
    },
    "papermill": {
     "duration": 1.270837,
     "end_time": "2022-05-16T02:40:48.583448",
     "exception": false,
     "start_time": "2022-05-16T02:40:47.312611",
     "status": "completed"
    },
    "tags": []
   },
   "outputs": [],
   "source": [
    "#hide_input\n",
    "import warnings\n",
    "warnings.filterwarnings('ignore')\n",
    "from scripts.read_data import read_api\n",
    "from scripts.read_data import read_news\n",
    "from scripts.read_data import read_covid\n",
    "import matplotlib.pyplot as plt \n",
    "from IPython.display import Markdown as md"
   ]
  },
  {
   "cell_type": "code",
   "execution_count": 2,
   "id": "shared-acceptance",
   "metadata": {
    "execution": {
     "iopub.execute_input": "2022-05-16T02:40:48.608638Z",
     "iopub.status.busy": "2022-05-16T02:40:48.608116Z",
     "iopub.status.idle": "2022-05-16T02:41:02.762147Z",
     "shell.execute_reply": "2022-05-16T02:41:02.761220Z"
    },
    "papermill": {
     "duration": 14.169517,
     "end_time": "2022-05-16T02:41:02.762291",
     "exception": false,
     "start_time": "2022-05-16T02:40:48.592774",
     "status": "completed"
    },
    "tags": []
   },
   "outputs": [],
   "source": [
    "#hide_input\n",
    "blockchain = read_news('blockchain') \n",
    "btc = read_news('btc') \n",
    "xrp = read_news('xrp') \n",
    "trx = read_news('trx') \n",
    "eth = read_news('eth')  \n",
    "ada = read_news('ada')\n",
    "exchange = read_news('exchange') "
   ]
  },
  {
   "cell_type": "code",
   "execution_count": 3,
   "id": "synthetic-notion",
   "metadata": {
    "execution": {
     "iopub.execute_input": "2022-05-16T02:41:02.786863Z",
     "iopub.status.busy": "2022-05-16T02:41:02.786282Z",
     "iopub.status.idle": "2022-05-16T02:41:02.788462Z",
     "shell.execute_reply": "2022-05-16T02:41:02.788868Z"
    },
    "papermill": {
     "duration": 0.01738,
     "end_time": "2022-05-16T02:41:02.789004",
     "exception": false,
     "start_time": "2022-05-16T02:41:02.771624",
     "status": "completed"
    },
    "tags": []
   },
   "outputs": [
    {
     "data": {
      "text/markdown": [
       "- Tron DAO Reserve Acquires Millions in TRX, Bitcoin, and Tether to Safeguard USDD.  Seven days ago, Bitcoin.com News reported on the Tron DAO Reserve purchasing $38 million in tron to safeguard the network&#x2019;s stablecoin USDD. Since then and since the terrausd (UST) de-pegging event, the Tron DAO Reserve has continued to purchase large quantities of digital assets to bolster the project&#x2019;s reserves. In addition to the tron purchases, [&#8230;] ... [| Skaityti daugiau](https://news.bitcoin.com/tron-dao-reserve-acquires-millions-in-trx-bitcoin-and-tether-to-safeguard-usdd/) "
      ],
      "text/plain": [
       "<IPython.core.display.Markdown object>"
      ]
     },
     "execution_count": 3,
     "metadata": {},
     "output_type": "execute_result"
    }
   ],
   "source": [
    "#hide_input\n",
    "#md('##### {}'.format(titleBTC)) \n",
    "md(\"- {}{} {}{} [| Skaityti daugiau]({}) \".format(blockchain['title'],'. ', blockchain['body'], ' ...', blockchain['url']))"
   ]
  },
  {
   "cell_type": "code",
   "execution_count": 4,
   "id": "aging-caution",
   "metadata": {
    "execution": {
     "iopub.execute_input": "2022-05-16T02:41:02.812123Z",
     "iopub.status.busy": "2022-05-16T02:41:02.811602Z",
     "iopub.status.idle": "2022-05-16T02:41:02.813885Z",
     "shell.execute_reply": "2022-05-16T02:41:02.814288Z"
    },
    "papermill": {
     "duration": 0.016108,
     "end_time": "2022-05-16T02:41:02.814408",
     "exception": false,
     "start_time": "2022-05-16T02:41:02.798300",
     "status": "completed"
    },
    "tags": []
   },
   "outputs": [
    {
     "data": {
      "text/markdown": [
       "- Veteran Investor Bill Miller Remains Bullish on Bitcoin — Confirms He Has a Lot of BTC.  Famed value investor and fund manager Bill Miller says he has &#x201C;a lot&#x201D; of bitcoin and has not sold any despite the recent crypto sell-off. He insisted that investors should put some of their liquid net worth in the cryptocurrency. Bill Miller Shares His Bitcoin Outlook Famed value investor Bill Miller is still bullish about [&#8230;] ... [| Skaityti daugiau](https://news.bitcoin.com/veteran-investor-bill-miller-remains-bullish-on-bitcoin-confirms-he-has-a-lot-of-btc/) "
      ],
      "text/plain": [
       "<IPython.core.display.Markdown object>"
      ]
     },
     "execution_count": 4,
     "metadata": {},
     "output_type": "execute_result"
    }
   ],
   "source": [
    "#hide_input\n",
    "#md('##### {}'.format(titleBTC)) \n",
    "md(\"- {}{} {}{} [| Skaityti daugiau]({}) \".format(btc['title'],'. ', btc['body'], ' ...', btc['url']))"
   ]
  },
  {
   "cell_type": "code",
   "execution_count": 5,
   "id": "organic-actress",
   "metadata": {
    "execution": {
     "iopub.execute_input": "2022-05-16T02:41:02.838423Z",
     "iopub.status.busy": "2022-05-16T02:41:02.836649Z",
     "iopub.status.idle": "2022-05-16T02:41:02.841932Z",
     "shell.execute_reply": "2022-05-16T02:41:02.841524Z"
    },
    "papermill": {
     "duration": 0.018115,
     "end_time": "2022-05-16T02:41:02.842040",
     "exception": false,
     "start_time": "2022-05-16T02:41:02.823925",
     "status": "completed"
    },
    "tags": []
   },
   "outputs": [
    {
     "data": {
      "text/markdown": [
       "- Ripple (XRP) Price Picks Up As SEC Legal Showdown Drags On.  Ripple (XRP) rallied to $0.439217 Friday from $0.377384 on Thursday in the face of an ongoing Securities and Exchange Commission lawsuit following the comments of William Hinman, former SEC Corporate Finance director. Suggested Reading &#124; Crypto Analyst Predicts 1 Altcoin Will Fall Down Hard – Is It Cardano? Ether are not securities, Hinman said. (Bitrates.com) William Hinman: Ether Not a Security A judge has granted the request of SEC to file a reply concerning the case against Ripple Lab. The case was ignited by the speech of Hinman, stating that Ethereum is not a security. Emails recovered as evidence strengthened claims that Hinman had some conflict of interest connected to those comments. In 2018, Hinman&#8217;s speech included this statement: “Based on my understanding of the present state of ether, the Ethereum network and its decentralized structure, current offers and sales of Ether are not securities transactions.” Hinman&#8217;s speech stated that Ethereum is not a security which insofar is tagged as an opinion based on his own understanding of Ether and the Ethereum Network. More so, the decentralized nature, and Ether transactions and sales are not secure, according to his personal knowledge and understanding. On the other hand, Hinman attested that there are four criteria barring the rationale rendered by SEC, stating that said communications made in 2018 won’t fall under the attorney-client privilege. XRP to... ... [| Skaityti daugiau](https://www.newsbtc.com/news/ripple-xrp-price-picks-up/) "
      ],
      "text/plain": [
       "<IPython.core.display.Markdown object>"
      ]
     },
     "execution_count": 5,
     "metadata": {},
     "output_type": "execute_result"
    }
   ],
   "source": [
    "#hide_input\n",
    "#md('##### {}'.format(titleBTC)) \n",
    "md(\"- {}{} {}{} [| Skaityti daugiau]({}) \".format(xrp['title'],'. ', xrp['body'], ' ...', xrp['url']))"
   ]
  },
  {
   "cell_type": "code",
   "execution_count": 6,
   "id": "prompt-farmer",
   "metadata": {
    "execution": {
     "iopub.execute_input": "2022-05-16T02:41:02.866341Z",
     "iopub.status.busy": "2022-05-16T02:41:02.865769Z",
     "iopub.status.idle": "2022-05-16T02:41:02.867878Z",
     "shell.execute_reply": "2022-05-16T02:41:02.868417Z"
    },
    "papermill": {
     "duration": 0.016679,
     "end_time": "2022-05-16T02:41:02.868549",
     "exception": false,
     "start_time": "2022-05-16T02:41:02.851870",
     "status": "completed"
    },
    "tags": []
   },
   "outputs": [
    {
     "data": {
      "text/markdown": [
       "- Tron DAO Reserve Acquires Millions in TRX, Bitcoin, and Tether to Safeguard USDD.  Seven days ago, Bitcoin.com News reported on the Tron DAO Reserve purchasing $38 million in tron to safeguard the network&#x2019;s stablecoin USDD. Since then and since the terrausd (UST) de-pegging event, the Tron DAO Reserve has continued to purchase large quantities of digital assets to bolster the project&#x2019;s reserves. In addition to the tron purchases, [&#8230;] ... [| Skaityti daugiau](https://news.bitcoin.com/tron-dao-reserve-acquires-millions-in-trx-bitcoin-and-tether-to-safeguard-usdd/) "
      ],
      "text/plain": [
       "<IPython.core.display.Markdown object>"
      ]
     },
     "execution_count": 6,
     "metadata": {},
     "output_type": "execute_result"
    }
   ],
   "source": [
    "#hide_input\n",
    "#md('##### {}'.format(titleBTC)) \n",
    "md(\"- {}{} {}{} [| Skaityti daugiau]({}) \".format(trx['title'],'. ', trx['body'], ' ...', trx['url']))"
   ]
  },
  {
   "cell_type": "code",
   "execution_count": 7,
   "id": "illegal-greece",
   "metadata": {
    "execution": {
     "iopub.execute_input": "2022-05-16T02:41:02.893490Z",
     "iopub.status.busy": "2022-05-16T02:41:02.892992Z",
     "iopub.status.idle": "2022-05-16T02:41:02.895602Z",
     "shell.execute_reply": "2022-05-16T02:41:02.896025Z"
    },
    "papermill": {
     "duration": 0.01694,
     "end_time": "2022-05-16T02:41:02.896140",
     "exception": false,
     "start_time": "2022-05-16T02:41:02.879200",
     "status": "completed"
    },
    "tags": []
   },
   "outputs": [
    {
     "data": {
      "text/markdown": [
       "- Vitalik and CZ Have Some Thoughts on Terra’s Demise.  The Ethereum founder and Binance CEO separately took to Twitter this weekend to critique Terra—and the very premise of the UST token itself. ... [| Skaityti daugiau](https://decrypt.co/100461/vitalik-and-cz-have-some-thoughts-on-terras-demise) "
      ],
      "text/plain": [
       "<IPython.core.display.Markdown object>"
      ]
     },
     "execution_count": 7,
     "metadata": {},
     "output_type": "execute_result"
    }
   ],
   "source": [
    "#hide_input\n",
    "#md('##### {}'.format(titleBTC)) \n",
    "md(\"- {}{} {}{} [| Skaityti daugiau]({}) \".format(eth['title'],'. ', eth['body'], ' ...', eth['url']))"
   ]
  },
  {
   "cell_type": "code",
   "execution_count": 8,
   "id": "sublime-lounge",
   "metadata": {
    "execution": {
     "iopub.execute_input": "2022-05-16T02:41:02.921409Z",
     "iopub.status.busy": "2022-05-16T02:41:02.920918Z",
     "iopub.status.idle": "2022-05-16T02:41:02.924000Z",
     "shell.execute_reply": "2022-05-16T02:41:02.923599Z"
    },
    "papermill": {
     "duration": 0.017542,
     "end_time": "2022-05-16T02:41:02.924103",
     "exception": false,
     "start_time": "2022-05-16T02:41:02.906561",
     "status": "completed"
    },
    "tags": []
   },
   "outputs": [
    {
     "data": {
      "text/markdown": [
       "- Cardano [ADA]: Vasil’s date is set and investors should know that….  In the early hours of 14 May, Cardano founder Charles Hoskinson informed the community that the Vasil Hard Fork is on schedule. It would be implemented by 29 June, he said. With the Vasil Hard Fork, significant updates will be deployed on the Cardano blockchain and its smart contract platform, Plutus. Speaking about the Vasil [&#8230;] ... [| Skaityti daugiau](https://ambcrypto.com/cardano-ada-vasils-date-is-set-and-investors-should-know-that/) "
      ],
      "text/plain": [
       "<IPython.core.display.Markdown object>"
      ]
     },
     "execution_count": 8,
     "metadata": {},
     "output_type": "execute_result"
    }
   ],
   "source": [
    "#hide_input\n",
    "#md('##### {}'.format(titleBTC)) \n",
    "md(\"- {}{} {}{} [| Skaityti daugiau]({}) \".format(ada['title'],'. ', ada['body'], ' ...', ada['url']))"
   ]
  },
  {
   "cell_type": "code",
   "execution_count": 9,
   "id": "specified-ordering",
   "metadata": {
    "execution": {
     "iopub.execute_input": "2022-05-16T02:41:02.950118Z",
     "iopub.status.busy": "2022-05-16T02:41:02.949027Z",
     "iopub.status.idle": "2022-05-16T02:41:02.953160Z",
     "shell.execute_reply": "2022-05-16T02:41:02.952757Z"
    },
    "papermill": {
     "duration": 0.018363,
     "end_time": "2022-05-16T02:41:02.953262",
     "exception": false,
     "start_time": "2022-05-16T02:41:02.934899",
     "status": "completed"
    },
    "tags": []
   },
   "outputs": [
    {
     "data": {
      "text/markdown": [
       "- Vitalik and CZ Have Some Thoughts on Terra’s Demise.  The Ethereum founder and Binance CEO separately took to Twitter this weekend to critique Terra—and the very premise of the UST token itself. ... [| Skaityti daugiau](https://decrypt.co/100461/vitalik-and-cz-have-some-thoughts-on-terras-demise) "
      ],
      "text/plain": [
       "<IPython.core.display.Markdown object>"
      ]
     },
     "execution_count": 9,
     "metadata": {},
     "output_type": "execute_result"
    }
   ],
   "source": [
    "#hide_input\n",
    "#md('##### {}'.format(titleBTC)) \n",
    "md(\"- {}{} {}{} [| Skaityti daugiau]({}) \".format(exchange['title'],'. ', exchange['body'], ' ...', exchange['url']))"
   ]
  },
  {
   "cell_type": "code",
   "execution_count": null,
   "id": "tender-livestock",
   "metadata": {
    "papermill": {
     "duration": 0.01112,
     "end_time": "2022-05-16T02:41:02.975460",
     "exception": false,
     "start_time": "2022-05-16T02:41:02.964340",
     "status": "completed"
    },
    "tags": []
   },
   "outputs": [],
   "source": []
  },
  {
   "cell_type": "code",
   "execution_count": null,
   "id": "appreciated-diamond",
   "metadata": {
    "papermill": {
     "duration": 0.011002,
     "end_time": "2022-05-16T02:41:02.997679",
     "exception": false,
     "start_time": "2022-05-16T02:41:02.986677",
     "status": "completed"
    },
    "tags": []
   },
   "outputs": [],
   "source": []
  },
  {
   "cell_type": "code",
   "execution_count": null,
   "id": "romance-sweden",
   "metadata": {
    "papermill": {
     "duration": 0.01123,
     "end_time": "2022-05-16T02:41:03.021013",
     "exception": false,
     "start_time": "2022-05-16T02:41:03.009783",
     "status": "completed"
    },
    "tags": []
   },
   "outputs": [],
   "source": []
  },
  {
   "cell_type": "code",
   "execution_count": null,
   "id": "dietary-statistics",
   "metadata": {
    "papermill": {
     "duration": 0.010963,
     "end_time": "2022-05-16T02:41:03.043035",
     "exception": false,
     "start_time": "2022-05-16T02:41:03.032072",
     "status": "completed"
    },
    "tags": []
   },
   "outputs": [],
   "source": []
  }
 ],
 "metadata": {
  "kernelspec": {
   "display_name": "Python 3",
   "language": "python",
   "name": "python3"
  },
  "language_info": {
   "codemirror_mode": {
    "name": "ipython",
    "version": 3
   },
   "file_extension": ".py",
   "mimetype": "text/x-python",
   "name": "python",
   "nbconvert_exporter": "python",
   "pygments_lexer": "ipython3",
   "version": "3.6.15"
  },
  "papermill": {
   "default_parameters": {},
   "duration": 17.213398,
   "end_time": "2022-05-16T02:41:03.573842",
   "environment_variables": {},
   "exception": null,
   "input_path": "Market-News.ipynb",
   "output_path": "Market-News.ipynb",
   "parameters": {},
   "start_time": "2022-05-16T02:40:46.360444",
   "version": "2.2.2"
  }
 },
 "nbformat": 4,
 "nbformat_minor": 5
}