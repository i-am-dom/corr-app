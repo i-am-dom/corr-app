{
 "cells": [
  {
   "cell_type": "markdown",
   "id": "short-greensboro",
   "metadata": {
    "papermill": {
     "duration": 0.01371,
     "end_time": "2021-09-03T01:57:42.875789",
     "exception": false,
     "start_time": "2021-09-03T01:57:42.862079",
     "status": "completed"
    },
    "tags": []
   },
   "source": [
    "# Kriptovaliutų naujienos"
   ]
  },
  {
   "cell_type": "code",
   "execution_count": 1,
   "id": "functioning-knowing",
   "metadata": {
    "execution": {
     "iopub.execute_input": "2021-09-03T01:57:42.903908Z",
     "iopub.status.busy": "2021-09-03T01:57:42.901320Z",
     "iopub.status.idle": "2021-09-03T01:57:44.049097Z",
     "shell.execute_reply": "2021-09-03T01:57:44.048568Z"
    },
    "papermill": {
     "duration": 1.164023,
     "end_time": "2021-09-03T01:57:44.049239",
     "exception": false,
     "start_time": "2021-09-03T01:57:42.885216",
     "status": "completed"
    },
    "tags": []
   },
   "outputs": [],
   "source": [
    "#hide_input\n",
    "import warnings\n",
    "warnings.filterwarnings('ignore')\n",
    "from scripts.read_data import read_api\n",
    "from scripts.read_data import read_news\n",
    "from scripts.read_data import read_covid\n",
    "import matplotlib.pyplot as plt \n",
    "from IPython.display import Markdown as md"
   ]
  },
  {
   "cell_type": "code",
   "execution_count": 2,
   "id": "shared-acceptance",
   "metadata": {
    "execution": {
     "iopub.execute_input": "2021-09-03T01:57:44.074512Z",
     "iopub.status.busy": "2021-09-03T01:57:44.074001Z",
     "iopub.status.idle": "2021-09-03T01:57:52.718215Z",
     "shell.execute_reply": "2021-09-03T01:57:52.718671Z"
    },
    "papermill": {
     "duration": 8.65959,
     "end_time": "2021-09-03T01:57:52.718808",
     "exception": false,
     "start_time": "2021-09-03T01:57:44.059218",
     "status": "completed"
    },
    "tags": []
   },
   "outputs": [],
   "source": [
    "#hide_input\n",
    "blockchain = read_news('blockchain') \n",
    "btc = read_news('btc') \n",
    "xrp = read_news('xrp') \n",
    "trx = read_news('trx') \n",
    "eth = read_news('eth')  \n",
    "ada = read_news('ada')\n",
    "exchange = read_news('exchange') "
   ]
  },
  {
   "cell_type": "code",
   "execution_count": 3,
   "id": "synthetic-notion",
   "metadata": {
    "execution": {
     "iopub.execute_input": "2021-09-03T01:57:52.742853Z",
     "iopub.status.busy": "2021-09-03T01:57:52.742297Z",
     "iopub.status.idle": "2021-09-03T01:57:52.744756Z",
     "shell.execute_reply": "2021-09-03T01:57:52.745181Z"
    },
    "papermill": {
     "duration": 0.017124,
     "end_time": "2021-09-03T01:57:52.745290",
     "exception": false,
     "start_time": "2021-09-03T01:57:52.728166",
     "status": "completed"
    },
    "tags": []
   },
   "outputs": [
    {
     "data": {
      "text/markdown": [
       "- Here Are the Top 5 Altcoins To Watch in September, According to Analyst Michaël Van De Poppe.  Crypto analyst Michaël van de Poppe is analyzing five altcoins that he believes could surge in price this month. The analyst says layer-one projects like Cardano (ADA), Solana (SOL) and Avalanche (AVAX) are currently doing great, so similar projects are likely to follow suit. Layer-one projects are built into basic blockchain protocols to help improve [&#8230;]The post Here Are the Top 5 Altcoins To Watch in September, According to Analyst Michaël Van De Poppe appeared first on The Daily Hodl. ... [| Skaityti daugiau](https://dailyhodl.com/2021/09/02/here-are-the-top-5-altcoins-to-watch-in-september-according-to-analyst-michael-van-de-poppe/) "
      ],
      "text/plain": [
       "<IPython.core.display.Markdown object>"
      ]
     },
     "execution_count": 3,
     "metadata": {},
     "output_type": "execute_result"
    }
   ],
   "source": [
    "#hide_input\n",
    "#md('##### {}'.format(titleBTC)) \n",
    "md(\"- {}{} {}{} [| Skaityti daugiau]({}) \".format(blockchain['title'],'. ', blockchain['body'], ' ...', blockchain['url']))"
   ]
  },
  {
   "cell_type": "code",
   "execution_count": 4,
   "id": "aging-caution",
   "metadata": {
    "execution": {
     "iopub.execute_input": "2021-09-03T01:57:52.768042Z",
     "iopub.status.busy": "2021-09-03T01:57:52.767456Z",
     "iopub.status.idle": "2021-09-03T01:57:52.769565Z",
     "shell.execute_reply": "2021-09-03T01:57:52.770043Z"
    },
    "papermill": {
     "duration": 0.015761,
     "end_time": "2021-09-03T01:57:52.770166",
     "exception": false,
     "start_time": "2021-09-03T01:57:52.754405",
     "status": "completed"
    },
    "tags": []
   },
   "outputs": [
    {
     "data": {
      "text/markdown": [
       "- As Your Other Assets Inflate, Bitcoin Can Protect Your Savings.  The basic supply and demand dynamics of the bitcoin monetary network mean that it serves as a solution for ongoing monetary inflation. ... [| Skaityti daugiau](https://bitcoinmagazine.com/markets/as-your-assets-inflate-bitcoin-protects-savings) "
      ],
      "text/plain": [
       "<IPython.core.display.Markdown object>"
      ]
     },
     "execution_count": 4,
     "metadata": {},
     "output_type": "execute_result"
    }
   ],
   "source": [
    "#hide_input\n",
    "#md('##### {}'.format(titleBTC)) \n",
    "md(\"- {}{} {}{} [| Skaityti daugiau]({}) \".format(btc['title'],'. ', btc['body'], ' ...', btc['url']))"
   ]
  },
  {
   "cell_type": "code",
   "execution_count": 5,
   "id": "organic-actress",
   "metadata": {
    "execution": {
     "iopub.execute_input": "2021-09-03T01:57:52.793347Z",
     "iopub.status.busy": "2021-09-03T01:57:52.792852Z",
     "iopub.status.idle": "2021-09-03T01:57:52.795289Z",
     "shell.execute_reply": "2021-09-03T01:57:52.795717Z"
    },
    "papermill": {
     "duration": 0.015949,
     "end_time": "2021-09-03T01:57:52.795820",
     "exception": false,
     "start_time": "2021-09-03T01:57:52.779871",
     "status": "completed"
    },
    "tags": []
   },
   "outputs": [
    {
     "data": {
      "text/markdown": [
       "- XRP, IOTA and Enjin Price Analysis: 02 September.  The altcoin market was impacted positively by Bitcoin&#8217;s move above $50K. IOTA rallied by 22.4% and closed in on a resistance mark of $1.57. Enjin Coin appreciated by 2.9% and moved away from its immediate support line of $2.00. Finally, XRP logged a 5.7% gain and eyed its immediate resistance of $1.31. XRP XRP moved [&#8230;] ... [| Skaityti daugiau](https://ambcrypto.com/xrp-iota-and-enjin-price-analysis-02-september/) "
      ],
      "text/plain": [
       "<IPython.core.display.Markdown object>"
      ]
     },
     "execution_count": 5,
     "metadata": {},
     "output_type": "execute_result"
    }
   ],
   "source": [
    "#hide_input\n",
    "#md('##### {}'.format(titleBTC)) \n",
    "md(\"- {}{} {}{} [| Skaityti daugiau]({}) \".format(xrp['title'],'. ', xrp['body'], ' ...', xrp['url']))"
   ]
  },
  {
   "cell_type": "code",
   "execution_count": 6,
   "id": "prompt-farmer",
   "metadata": {
    "execution": {
     "iopub.execute_input": "2021-09-03T01:57:52.819353Z",
     "iopub.status.busy": "2021-09-03T01:57:52.818858Z",
     "iopub.status.idle": "2021-09-03T01:57:52.821948Z",
     "shell.execute_reply": "2021-09-03T01:57:52.821531Z"
    },
    "papermill": {
     "duration": 0.016479,
     "end_time": "2021-09-03T01:57:52.822046",
     "exception": false,
     "start_time": "2021-09-03T01:57:52.805567",
     "status": "completed"
    },
    "tags": []
   },
   "outputs": [
    {
     "data": {
      "text/markdown": [
       "- Tron (TRX) Price Analysis: Bulls Eye Upside Break above $0.09.  Tron price is still struggling to clear the $0.0900 resistance zone against the US Dollar. TRX price is now trading above $0.0850 and the 55 simple moving average (4-hours). There is a key contracting triangle forming with resistance near $0.0900 on the 4-hours chart (data feed via Bitfinex). The pair is likely to continue higher...The post Tron (TRX) Price Analysis: Bulls Eye Upside Break above $0.09 appeared first on Live Bitcoin News. ... [| Skaityti daugiau](https://www.livebitcoinnews.com/tron-trx-price-analysis-bulls-eye-upside-break-above-0-09/) "
      ],
      "text/plain": [
       "<IPython.core.display.Markdown object>"
      ]
     },
     "execution_count": 6,
     "metadata": {},
     "output_type": "execute_result"
    }
   ],
   "source": [
    "#hide_input\n",
    "#md('##### {}'.format(titleBTC)) \n",
    "md(\"- {}{} {}{} [| Skaityti daugiau]({}) \".format(trx['title'],'. ', trx['body'], ' ...', trx['url']))"
   ]
  },
  {
   "cell_type": "code",
   "execution_count": 7,
   "id": "illegal-greece",
   "metadata": {
    "execution": {
     "iopub.execute_input": "2021-09-03T01:57:52.845914Z",
     "iopub.status.busy": "2021-09-03T01:57:52.844949Z",
     "iopub.status.idle": "2021-09-03T01:57:52.848680Z",
     "shell.execute_reply": "2021-09-03T01:57:52.848280Z"
    },
    "papermill": {
     "duration": 0.016557,
     "end_time": "2021-09-03T01:57:52.848775",
     "exception": false,
     "start_time": "2021-09-03T01:57:52.832218",
     "status": "completed"
    },
    "tags": []
   },
   "outputs": [
    {
     "data": {
      "text/markdown": [
       "- Vitalik Buterin proposes greater integration of Dogecoin (DOGE) and Ethereum.  If Ethereum co-founder Vitalik Buterin gets his way, Dogecoin could be set for an overhaul that would see a major step forward in its evolution. The post Vitalik Buterin proposes greater integration of Dogecoin (DOGE) and Ethereum appeared first on CryptoSlate. ... [| Skaityti daugiau](https://cryptoslate.com/vitalik-buterin-proposes-greater-integration-of-dogecoin-doge-and-ethereum/) "
      ],
      "text/plain": [
       "<IPython.core.display.Markdown object>"
      ]
     },
     "execution_count": 7,
     "metadata": {},
     "output_type": "execute_result"
    }
   ],
   "source": [
    "#hide_input\n",
    "#md('##### {}'.format(titleBTC)) \n",
    "md(\"- {}{} {}{} [| Skaityti daugiau]({}) \".format(eth['title'],'. ', eth['body'], ' ...', eth['url']))"
   ]
  },
  {
   "cell_type": "code",
   "execution_count": 8,
   "id": "sublime-lounge",
   "metadata": {
    "execution": {
     "iopub.execute_input": "2021-09-03T01:57:52.873602Z",
     "iopub.status.busy": "2021-09-03T01:57:52.873107Z",
     "iopub.status.idle": "2021-09-03T01:57:52.875692Z",
     "shell.execute_reply": "2021-09-03T01:57:52.876121Z"
    },
    "papermill": {
     "duration": 0.01708,
     "end_time": "2021-09-03T01:57:52.876224",
     "exception": false,
     "start_time": "2021-09-03T01:57:52.859144",
     "status": "completed"
    },
    "tags": []
   },
   "outputs": [
    {
     "data": {
      "text/markdown": [
       "- Cardano’s Charles Hoskinson Expects Cryptocurrencies to Play Larger Role in Afghanistan.  The founder of Cardano and co-founder of Ethereum, Charles Hoskinson, says that he expects cryptocurrencies to &#x201C;play a larger role&#x201D; in Afghanistan amid war with the Taliban forces. Charles Hoskinson Sees Cryptocurrencies Playing Larger Role in Afghanistan Charles Hoskinson, the founder of Cardano and co-founder of Ethereum, explained in an interview with CNBC Tuesday that [&#8230;] ... [| Skaityti daugiau](https://news.bitcoin.com/cardanos-charles-hoskinson-cryptocurrencies-play-larger-role-afghanistan/) "
      ],
      "text/plain": [
       "<IPython.core.display.Markdown object>"
      ]
     },
     "execution_count": 8,
     "metadata": {},
     "output_type": "execute_result"
    }
   ],
   "source": [
    "#hide_input\n",
    "#md('##### {}'.format(titleBTC)) \n",
    "md(\"- {}{} {}{} [| Skaityti daugiau]({}) \".format(ada['title'],'. ', ada['body'], ' ...', ada['url']))"
   ]
  },
  {
   "cell_type": "code",
   "execution_count": 9,
   "id": "specified-ordering",
   "metadata": {
    "execution": {
     "iopub.execute_input": "2021-09-03T01:57:52.901714Z",
     "iopub.status.busy": "2021-09-03T01:57:52.901215Z",
     "iopub.status.idle": "2021-09-03T01:57:52.904219Z",
     "shell.execute_reply": "2021-09-03T01:57:52.903796Z"
    },
    "papermill": {
     "duration": 0.01736,
     "end_time": "2021-09-03T01:57:52.904312",
     "exception": false,
     "start_time": "2021-09-03T01:57:52.886952",
     "status": "completed"
    },
    "tags": []
   },
   "outputs": [
    {
     "data": {
      "text/markdown": [
       "- Japan’s SBI to Merge Its Crypto Exchanges a Year After Rival Takeover.  SBI’s chief executive Yoshitaka Kitao. The Japanese financial giant SBI is set to merge its crypto exchanges, TaoTao and SBI VC Trade – a move that will create a new Asian heavyweight exchange that could challenge market leaders like bitFlyer.SBI, traditionally, has focused on its banking and securities business arms. But in recent years, it has embraced crypto with almost ... [| Skaityti daugiau](https://cryptonews.com/news/japan-s-sbi-to-merge-its-two-crypto-exchanges-a-year-after-t-11657.htm) "
      ],
      "text/plain": [
       "<IPython.core.display.Markdown object>"
      ]
     },
     "execution_count": 9,
     "metadata": {},
     "output_type": "execute_result"
    }
   ],
   "source": [
    "#hide_input\n",
    "#md('##### {}'.format(titleBTC)) \n",
    "md(\"- {}{} {}{} [| Skaityti daugiau]({}) \".format(exchange['title'],'. ', exchange['body'], ' ...', exchange['url']))"
   ]
  },
  {
   "cell_type": "code",
   "execution_count": null,
   "id": "tender-livestock",
   "metadata": {
    "papermill": {
     "duration": 0.010938,
     "end_time": "2021-09-03T01:57:52.926252",
     "exception": false,
     "start_time": "2021-09-03T01:57:52.915314",
     "status": "completed"
    },
    "tags": []
   },
   "outputs": [],
   "source": []
  },
  {
   "cell_type": "code",
   "execution_count": null,
   "id": "appreciated-diamond",
   "metadata": {
    "papermill": {
     "duration": 0.010982,
     "end_time": "2021-09-03T01:57:52.948376",
     "exception": false,
     "start_time": "2021-09-03T01:57:52.937394",
     "status": "completed"
    },
    "tags": []
   },
   "outputs": [],
   "source": []
  },
  {
   "cell_type": "code",
   "execution_count": null,
   "id": "romance-sweden",
   "metadata": {
    "papermill": {
     "duration": 0.010949,
     "end_time": "2021-09-03T01:57:52.970290",
     "exception": false,
     "start_time": "2021-09-03T01:57:52.959341",
     "status": "completed"
    },
    "tags": []
   },
   "outputs": [],
   "source": []
  },
  {
   "cell_type": "code",
   "execution_count": null,
   "id": "dietary-statistics",
   "metadata": {
    "papermill": {
     "duration": 0.01099,
     "end_time": "2021-09-03T01:57:52.992284",
     "exception": false,
     "start_time": "2021-09-03T01:57:52.981294",
     "status": "completed"
    },
    "tags": []
   },
   "outputs": [],
   "source": []
  }
 ],
 "metadata": {
  "kernelspec": {
   "display_name": "Python 3",
   "language": "python",
   "name": "python3"
  },
  "language_info": {
   "codemirror_mode": {
    "name": "ipython",
    "version": 3
   },
   "file_extension": ".py",
   "mimetype": "text/x-python",
   "name": "python",
   "nbconvert_exporter": "python",
   "pygments_lexer": "ipython3",
   "version": "3.6.14"
  },
  "papermill": {
   "default_parameters": {},
   "duration": 11.566892,
   "end_time": "2021-09-03T01:57:53.411141",
   "environment_variables": {},
   "exception": null,
   "input_path": "Market-News.ipynb",
   "output_path": "Market-News.ipynb",
   "parameters": {},
   "start_time": "2021-09-03T01:57:41.844249",
   "version": "2.2.2"
  }
 },
 "nbformat": 4,
 "nbformat_minor": 5
}