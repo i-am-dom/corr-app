{
 "cells": [
  {
   "cell_type": "markdown",
   "id": "short-greensboro",
   "metadata": {
    "papermill": {
     "duration": 0.013971,
     "end_time": "2021-08-24T01:53:33.312082",
     "exception": false,
     "start_time": "2021-08-24T01:53:33.298111",
     "status": "completed"
    },
    "tags": []
   },
   "source": [
    "# Kriptovaliutų naujienos"
   ]
  },
  {
   "cell_type": "code",
   "execution_count": 1,
   "id": "functioning-knowing",
   "metadata": {
    "execution": {
     "iopub.execute_input": "2021-08-24T01:53:33.340494Z",
     "iopub.status.busy": "2021-08-24T01:53:33.337975Z",
     "iopub.status.idle": "2021-08-24T01:53:34.505459Z",
     "shell.execute_reply": "2021-08-24T01:53:34.504985Z"
    },
    "papermill": {
     "duration": 1.18405,
     "end_time": "2021-08-24T01:53:34.505603",
     "exception": false,
     "start_time": "2021-08-24T01:53:33.321553",
     "status": "completed"
    },
    "tags": []
   },
   "outputs": [],
   "source": [
    "#hide_input\n",
    "import warnings\n",
    "warnings.filterwarnings('ignore')\n",
    "from scripts.read_data import read_api\n",
    "from scripts.read_data import read_news\n",
    "from scripts.read_data import read_covid\n",
    "import matplotlib.pyplot as plt \n",
    "from IPython.display import Markdown as md"
   ]
  },
  {
   "cell_type": "code",
   "execution_count": 2,
   "id": "shared-acceptance",
   "metadata": {
    "execution": {
     "iopub.execute_input": "2021-08-24T01:53:34.530024Z",
     "iopub.status.busy": "2021-08-24T01:53:34.529507Z",
     "iopub.status.idle": "2021-08-24T01:53:42.779025Z",
     "shell.execute_reply": "2021-08-24T01:53:42.778497Z"
    },
    "papermill": {
     "duration": 8.264446,
     "end_time": "2021-08-24T01:53:42.779167",
     "exception": false,
     "start_time": "2021-08-24T01:53:34.514721",
     "status": "completed"
    },
    "tags": []
   },
   "outputs": [],
   "source": [
    "#hide_input\n",
    "blockchain = read_news('blockchain') \n",
    "btc = read_news('btc') \n",
    "xrp = read_news('xrp') \n",
    "trx = read_news('trx') \n",
    "eth = read_news('eth')  \n",
    "ada = read_news('ada')\n",
    "exchange = read_news('exchange') "
   ]
  },
  {
   "cell_type": "code",
   "execution_count": 3,
   "id": "synthetic-notion",
   "metadata": {
    "execution": {
     "iopub.execute_input": "2021-08-24T01:53:42.803480Z",
     "iopub.status.busy": "2021-08-24T01:53:42.801319Z",
     "iopub.status.idle": "2021-08-24T01:53:42.805838Z",
     "shell.execute_reply": "2021-08-24T01:53:42.806238Z"
    },
    "papermill": {
     "duration": 0.017344,
     "end_time": "2021-08-24T01:53:42.806361",
     "exception": false,
     "start_time": "2021-08-24T01:53:42.789017",
     "status": "completed"
    },
    "tags": []
   },
   "outputs": [
    {
     "data": {
      "text/markdown": [
       "- Blockchain is as revolutionary as electricity: Big Ideas with Jason Potts.   ... [| Skaityti daugiau](https://cointelegraph.com/magazine/2021/08/23/blockchain-is-as-revolutionary-as-electricty-big-ideas-with-jason-potts) "
      ],
      "text/plain": [
       "<IPython.core.display.Markdown object>"
      ]
     },
     "execution_count": 3,
     "metadata": {},
     "output_type": "execute_result"
    }
   ],
   "source": [
    "#hide_input\n",
    "#md('##### {}'.format(titleBTC)) \n",
    "md(\"- {}{} {}{} [| Skaityti daugiau]({}) \".format(blockchain['title'],'. ', blockchain['body'], ' ...', blockchain['url']))"
   ]
  },
  {
   "cell_type": "code",
   "execution_count": 4,
   "id": "aging-caution",
   "metadata": {
    "execution": {
     "iopub.execute_input": "2021-08-24T01:53:42.829199Z",
     "iopub.status.busy": "2021-08-24T01:53:42.828611Z",
     "iopub.status.idle": "2021-08-24T01:53:42.830747Z",
     "shell.execute_reply": "2021-08-24T01:53:42.831202Z"
    },
    "papermill": {
     "duration": 0.0158,
     "end_time": "2021-08-24T01:53:42.831325",
     "exception": false,
     "start_time": "2021-08-24T01:53:42.815525",
     "status": "completed"
    },
    "tags": []
   },
   "outputs": [
    {
     "data": {
      "text/markdown": [
       "- Bitcoin to Resume Its Uptrend as Fundamentals Improve, Says Fidelity’s Director of Global Macro.  Bitcoin is seemingly ready to resume its uptrend as the cryptocurrency’s fundamentals keep on improving and it’s “no longer a sideshow,” according to Fidelity’s Director of Global Macro Jurrien Timmer. In a tweetstorm, Timmer noted that in an economy with waning momentum, bitcoin is now seemingly managing to get out of a box it was […] ... [| Skaityti daugiau](https://www.cryptoglobe.com/latest/2021/08/bitcoin-to-resume-its-uptrend-as-fundamentals-improve-says-fidelitys-director-of-global-macro/) "
      ],
      "text/plain": [
       "<IPython.core.display.Markdown object>"
      ]
     },
     "execution_count": 4,
     "metadata": {},
     "output_type": "execute_result"
    }
   ],
   "source": [
    "#hide_input\n",
    "#md('##### {}'.format(titleBTC)) \n",
    "md(\"- {}{} {}{} [| Skaityti daugiau]({}) \".format(btc['title'],'. ', btc['body'], ' ...', btc['url']))"
   ]
  },
  {
   "cell_type": "code",
   "execution_count": 5,
   "id": "organic-actress",
   "metadata": {
    "execution": {
     "iopub.execute_input": "2021-08-24T01:53:42.854661Z",
     "iopub.status.busy": "2021-08-24T01:53:42.854119Z",
     "iopub.status.idle": "2021-08-24T01:53:42.857046Z",
     "shell.execute_reply": "2021-08-24T01:53:42.856653Z"
    },
    "papermill": {
     "duration": 0.016093,
     "end_time": "2021-08-24T01:53:42.857144",
     "exception": false,
     "start_time": "2021-08-24T01:53:42.841051",
     "status": "completed"
    },
    "tags": []
   },
   "outputs": [
    {
     "data": {
      "text/markdown": [
       "- XRP, Litecoin and Two Other Altcoins Ready To Wake Up and Launch New Rallies, According to Top Crypto Strategist.  Prominent crypto strategist and trader Michaël van de Poppe is keeping a close watch on XRP, Litecoin and two other altcoins that he says are close to waking up. In a new strategy session, the analyst tells his 116,000 YouTube subscribers that XRP is poised to rally and print a new all-time high. &#8220;When you [&#8230;]The post XRP, Litecoin and Two Other Altcoins Ready To Wake Up and Launch New Rallies, According to Top Crypto Strategist appeared first on The Daily Hodl. ... [| Skaityti daugiau](https://dailyhodl.com/2021/08/23/xrp-litecoin-and-two-other-altcoins-ready-to-wake-up-and-launch-new-rallies-according-to-top-crypto-strategist/) "
      ],
      "text/plain": [
       "<IPython.core.display.Markdown object>"
      ]
     },
     "execution_count": 5,
     "metadata": {},
     "output_type": "execute_result"
    }
   ],
   "source": [
    "#hide_input\n",
    "#md('##### {}'.format(titleBTC)) \n",
    "md(\"- {}{} {}{} [| Skaityti daugiau]({}) \".format(xrp['title'],'. ', xrp['body'], ' ...', xrp['url']))"
   ]
  },
  {
   "cell_type": "code",
   "execution_count": 6,
   "id": "prompt-farmer",
   "metadata": {
    "execution": {
     "iopub.execute_input": "2021-08-24T01:53:42.880822Z",
     "iopub.status.busy": "2021-08-24T01:53:42.880281Z",
     "iopub.status.idle": "2021-08-24T01:53:42.883357Z",
     "shell.execute_reply": "2021-08-24T01:53:42.882964Z"
    },
    "papermill": {
     "duration": 0.016571,
     "end_time": "2021-08-24T01:53:42.883456",
     "exception": false,
     "start_time": "2021-08-24T01:53:42.866885",
     "status": "completed"
    },
    "tags": []
   },
   "outputs": [
    {
     "data": {
      "text/markdown": [
       "- Cardano, Tron, Uniswap Price Analysis: 22 August.  The lack of strength observed in the broader crypto market impacted the altcoin market negatively with the likes of Cardano, Tron and Uniswap dipping on their respective charts. Despite ADA securing an all-time high, it recorded a slight loss in value over the last 24 hours. TRX was trading underneath its $0.0888 immediate price ceiling [&#8230;] ... [| Skaityti daugiau](https://ambcrypto.com/cardano-tron-uniswap-price-analysis-22-august/) "
      ],
      "text/plain": [
       "<IPython.core.display.Markdown object>"
      ]
     },
     "execution_count": 6,
     "metadata": {},
     "output_type": "execute_result"
    }
   ],
   "source": [
    "#hide_input\n",
    "#md('##### {}'.format(titleBTC)) \n",
    "md(\"- {}{} {}{} [| Skaityti daugiau]({}) \".format(trx['title'],'. ', trx['body'], ' ...', trx['url']))"
   ]
  },
  {
   "cell_type": "code",
   "execution_count": 7,
   "id": "illegal-greece",
   "metadata": {
    "execution": {
     "iopub.execute_input": "2021-08-24T01:53:42.907696Z",
     "iopub.status.busy": "2021-08-24T01:53:42.907192Z",
     "iopub.status.idle": "2021-08-24T01:53:42.909836Z",
     "shell.execute_reply": "2021-08-24T01:53:42.909419Z"
    },
    "papermill": {
     "duration": 0.016371,
     "end_time": "2021-08-24T01:53:42.909931",
     "exception": false,
     "start_time": "2021-08-24T01:53:42.893560",
     "status": "completed"
    },
    "tags": []
   },
   "outputs": [
    {
     "data": {
      "text/markdown": [
       "- Ethereum, WAVES, Filecoin Price Analysis: 23 August.  Ethereum maintained its uptrend as prices steadied above $3,300 on the back of a 2.7% increase. The alt could attempt to test the $3399.50 price ceiling next, a level it last touched on 18 May. Filecoin secured higher highs and rose 2.6%. On the contrary, WAVES fell by 3.1% while trading close to its $25.33 [&#8230;] ... [| Skaityti daugiau](https://ambcrypto.com/ethereum-waves-filecoin-price-analysis-23-august/) "
      ],
      "text/plain": [
       "<IPython.core.display.Markdown object>"
      ]
     },
     "execution_count": 7,
     "metadata": {},
     "output_type": "execute_result"
    }
   ],
   "source": [
    "#hide_input\n",
    "#md('##### {}'.format(titleBTC)) \n",
    "md(\"- {}{} {}{} [| Skaityti daugiau]({}) \".format(eth['title'],'. ', eth['body'], ' ...', eth['url']))"
   ]
  },
  {
   "cell_type": "code",
   "execution_count": 8,
   "id": "sublime-lounge",
   "metadata": {
    "execution": {
     "iopub.execute_input": "2021-08-24T01:53:42.936694Z",
     "iopub.status.busy": "2021-08-24T01:53:42.936188Z",
     "iopub.status.idle": "2021-08-24T01:53:42.938711Z",
     "shell.execute_reply": "2021-08-24T01:53:42.939086Z"
    },
    "papermill": {
     "duration": 0.016686,
     "end_time": "2021-08-24T01:53:42.939196",
     "exception": false,
     "start_time": "2021-08-24T01:53:42.922510",
     "status": "completed"
    },
    "tags": []
   },
   "outputs": [
    {
     "data": {
      "text/markdown": [
       "- Hoskinson laughs off disbelief surrounding Cardano as ADA hits $2.80.  Cardano continues its stunning run of form, gaining 8% in the last 24 hours to $2.83 at the time of writing. The post Hoskinson laughs off disbelief surrounding Cardano as ADA hits $2.80 appeared first on CryptoSlate. ... [| Skaityti daugiau](https://cryptoslate.com/hoskinson-laughs-off-disbelief-surrounding-cardano-as-ada-hits-2-80/) "
      ],
      "text/plain": [
       "<IPython.core.display.Markdown object>"
      ]
     },
     "execution_count": 8,
     "metadata": {},
     "output_type": "execute_result"
    }
   ],
   "source": [
    "#hide_input\n",
    "#md('##### {}'.format(titleBTC)) \n",
    "md(\"- {}{} {}{} [| Skaityti daugiau]({}) \".format(ada['title'],'. ', ada['body'], ' ...', ada['url']))"
   ]
  },
  {
   "cell_type": "code",
   "execution_count": 9,
   "id": "specified-ordering",
   "metadata": {
    "execution": {
     "iopub.execute_input": "2021-08-24T01:53:42.964703Z",
     "iopub.status.busy": "2021-08-24T01:53:42.964205Z",
     "iopub.status.idle": "2021-08-24T01:53:42.967256Z",
     "shell.execute_reply": "2021-08-24T01:53:42.966837Z"
    },
    "papermill": {
     "duration": 0.017448,
     "end_time": "2021-08-24T01:53:42.967350",
     "exception": false,
     "start_time": "2021-08-24T01:53:42.949902",
     "status": "completed"
    },
    "tags": []
   },
   "outputs": [
    {
     "data": {
      "text/markdown": [
       "- Although Bitcoin Legal Tender In El Salvador, Still Not Widely Used As Medium Of Exchange.  In the existing paradigm, we rely on government-issued currency &#8211; it often offers security, stability, and standardization of transactions, all essential qualities for a successful legal tender. But, what happens when a government fails? What happens when an economy or a country is in crisis? El Salvador is a perfect, yet unfortunate example of how [&#8230;] ... [| Skaityti daugiau](https://bitcoinist.com/although-bitcoin-legal-tender-in-el-salvador-still-not-widely-used-as-medium-of-exchange/?utm_source=rss&utm_medium=rss&utm_campaign=although-bitcoin-legal-tender-in-el-salvador-still-not-widely-used-as-medium-of-exchange) "
      ],
      "text/plain": [
       "<IPython.core.display.Markdown object>"
      ]
     },
     "execution_count": 9,
     "metadata": {},
     "output_type": "execute_result"
    }
   ],
   "source": [
    "#hide_input\n",
    "#md('##### {}'.format(titleBTC)) \n",
    "md(\"- {}{} {}{} [| Skaityti daugiau]({}) \".format(exchange['title'],'. ', exchange['body'], ' ...', exchange['url']))"
   ]
  },
  {
   "cell_type": "code",
   "execution_count": null,
   "id": "tender-livestock",
   "metadata": {
    "papermill": {
     "duration": 0.010879,
     "end_time": "2021-08-24T01:53:42.989189",
     "exception": false,
     "start_time": "2021-08-24T01:53:42.978310",
     "status": "completed"
    },
    "tags": []
   },
   "outputs": [],
   "source": []
  },
  {
   "cell_type": "code",
   "execution_count": null,
   "id": "appreciated-diamond",
   "metadata": {
    "papermill": {
     "duration": 0.010981,
     "end_time": "2021-08-24T01:53:43.011314",
     "exception": false,
     "start_time": "2021-08-24T01:53:43.000333",
     "status": "completed"
    },
    "tags": []
   },
   "outputs": [],
   "source": []
  },
  {
   "cell_type": "code",
   "execution_count": null,
   "id": "romance-sweden",
   "metadata": {
    "papermill": {
     "duration": 0.010918,
     "end_time": "2021-08-24T01:53:43.033204",
     "exception": false,
     "start_time": "2021-08-24T01:53:43.022286",
     "status": "completed"
    },
    "tags": []
   },
   "outputs": [],
   "source": []
  },
  {
   "cell_type": "code",
   "execution_count": null,
   "id": "dietary-statistics",
   "metadata": {
    "papermill": {
     "duration": 0.010913,
     "end_time": "2021-08-24T01:53:43.055055",
     "exception": false,
     "start_time": "2021-08-24T01:53:43.044142",
     "status": "completed"
    },
    "tags": []
   },
   "outputs": [],
   "source": []
  }
 ],
 "metadata": {
  "kernelspec": {
   "display_name": "Python 3",
   "language": "python",
   "name": "python3"
  },
  "language_info": {
   "codemirror_mode": {
    "name": "ipython",
    "version": 3
   },
   "file_extension": ".py",
   "mimetype": "text/x-python",
   "name": "python",
   "nbconvert_exporter": "python",
   "pygments_lexer": "ipython3",
   "version": "3.6.14"
  },
  "papermill": {
   "default_parameters": {},
   "duration": 11.200669,
   "end_time": "2021-08-24T01:53:43.474099",
   "environment_variables": {},
   "exception": null,
   "input_path": "Market-News.ipynb",
   "output_path": "Market-News.ipynb",
   "parameters": {},
   "start_time": "2021-08-24T01:53:32.273430",
   "version": "2.2.2"
  }
 },
 "nbformat": 4,
 "nbformat_minor": 5
}