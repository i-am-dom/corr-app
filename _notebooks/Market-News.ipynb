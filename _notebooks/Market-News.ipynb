{
 "cells": [
  {
   "cell_type": "markdown",
   "id": "short-greensboro",
   "metadata": {
    "papermill": {
     "duration": 0.016948,
     "end_time": "2022-11-07T03:04:56.140268",
     "exception": false,
     "start_time": "2022-11-07T03:04:56.123320",
     "status": "completed"
    },
    "tags": []
   },
   "source": [
    "# Kriptovaliutų naujienos"
   ]
  },
  {
   "cell_type": "code",
   "execution_count": 1,
   "id": "functioning-knowing",
   "metadata": {
    "execution": {
     "iopub.execute_input": "2022-11-07T03:04:56.174437Z",
     "iopub.status.busy": "2022-11-07T03:04:56.173795Z",
     "iopub.status.idle": "2022-11-07T03:04:57.535576Z",
     "shell.execute_reply": "2022-11-07T03:04:57.535003Z"
    },
    "papermill": {
     "duration": 1.385532,
     "end_time": "2022-11-07T03:04:57.535720",
     "exception": false,
     "start_time": "2022-11-07T03:04:56.150188",
     "status": "completed"
    },
    "tags": []
   },
   "outputs": [],
   "source": [
    "#hide_input\n",
    "import warnings\n",
    "warnings.filterwarnings('ignore')\n",
    "from scripts.read_data import read_api\n",
    "from scripts.read_data import read_news\n",
    "from scripts.read_data import read_covid\n",
    "import matplotlib.pyplot as plt \n",
    "from IPython.display import Markdown as md"
   ]
  },
  {
   "cell_type": "code",
   "execution_count": 2,
   "id": "shared-acceptance",
   "metadata": {
    "execution": {
     "iopub.execute_input": "2022-11-07T03:04:57.564384Z",
     "iopub.status.busy": "2022-11-07T03:04:57.563225Z",
     "iopub.status.idle": "2022-11-07T03:05:12.449516Z",
     "shell.execute_reply": "2022-11-07T03:05:12.448303Z"
    },
    "papermill": {
     "duration": 14.903518,
     "end_time": "2022-11-07T03:05:12.449669",
     "exception": false,
     "start_time": "2022-11-07T03:04:57.546151",
     "status": "completed"
    },
    "tags": []
   },
   "outputs": [],
   "source": [
    "#hide_input\n",
    "blockchain = read_news('blockchain') \n",
    "btc = read_news('btc') \n",
    "xrp = read_news('xrp') \n",
    "trx = read_news('trx') \n",
    "eth = read_news('eth')  \n",
    "ada = read_news('ada')\n",
    "exchange = read_news('exchange') "
   ]
  },
  {
   "cell_type": "code",
   "execution_count": 3,
   "id": "synthetic-notion",
   "metadata": {
    "execution": {
     "iopub.execute_input": "2022-11-07T03:05:12.478108Z",
     "iopub.status.busy": "2022-11-07T03:05:12.476951Z",
     "iopub.status.idle": "2022-11-07T03:05:12.485865Z",
     "shell.execute_reply": "2022-11-07T03:05:12.486360Z"
    },
    "papermill": {
     "duration": 0.026299,
     "end_time": "2022-11-07T03:05:12.486508",
     "exception": false,
     "start_time": "2022-11-07T03:05:12.460209",
     "status": "completed"
    },
    "tags": []
   },
   "outputs": [
    {
     "data": {
      "text/markdown": [
       "- Hydro-Québec Looks to Suspend Power Distribution to Crypto Miners in Bid to Save Capacity.  According to a Hydro-Québec newsroom report, the company has asked the electricity transmission and distribution regulator, Régie de l’énergie, to cease offering services to crypto miners. The Hydro-Québec report stresses that “growth in electricity demand is expected to continue in Québec. Hydro-Québec Targets Blockchain Industry in Order to Stave off Electricity Demand Cryptocurrency miners in [&#8230;] ... [| Skaityti daugiau](https://news.bitcoin.com/hydro-quebec-looks-to-suspend-power-distribution-to-crypto-miners-in-bid-to-save-capacity/) "
      ],
      "text/plain": [
       "<IPython.core.display.Markdown object>"
      ]
     },
     "execution_count": 3,
     "metadata": {},
     "output_type": "execute_result"
    }
   ],
   "source": [
    "#hide_input\n",
    "#md('##### {}'.format(titleBTC)) \n",
    "md(\"- {}{} {}{} [| Skaityti daugiau]({}) \".format(blockchain['title'],'. ', blockchain['body'], ' ...', blockchain['url']))"
   ]
  },
  {
   "cell_type": "code",
   "execution_count": 4,
   "id": "aging-caution",
   "metadata": {
    "execution": {
     "iopub.execute_input": "2022-11-07T03:05:12.521235Z",
     "iopub.status.busy": "2022-11-07T03:05:12.520539Z",
     "iopub.status.idle": "2022-11-07T03:05:12.527407Z",
     "shell.execute_reply": "2022-11-07T03:05:12.526855Z"
    },
    "papermill": {
     "duration": 0.024478,
     "end_time": "2022-11-07T03:05:12.527530",
     "exception": false,
     "start_time": "2022-11-07T03:05:12.503052",
     "status": "completed"
    },
    "tags": []
   },
   "outputs": [
    {
     "data": {
      "text/markdown": [
       "- Decentralizing IP Addresses With Bitcoin Helps Distribute The Internet.  If they choose to, IANA could use Bitcoin to create a decentralized database for IP address distribution, unless they go down the path of tokenization. ... [| Skaityti daugiau](https://bitcoinmagazine.com/technical/iana-decentralize-ip-addresses-with-bitcoin) "
      ],
      "text/plain": [
       "<IPython.core.display.Markdown object>"
      ]
     },
     "execution_count": 4,
     "metadata": {},
     "output_type": "execute_result"
    }
   ],
   "source": [
    "#hide_input\n",
    "#md('##### {}'.format(titleBTC)) \n",
    "md(\"- {}{} {}{} [| Skaityti daugiau]({}) \".format(btc['title'],'. ', btc['body'], ' ...', btc['url']))"
   ]
  },
  {
   "cell_type": "code",
   "execution_count": 5,
   "id": "organic-actress",
   "metadata": {
    "execution": {
     "iopub.execute_input": "2022-11-07T03:05:12.558918Z",
     "iopub.status.busy": "2022-11-07T03:05:12.557706Z",
     "iopub.status.idle": "2022-11-07T03:05:12.567088Z",
     "shell.execute_reply": "2022-11-07T03:05:12.566561Z"
    },
    "papermill": {
     "duration": 0.028408,
     "end_time": "2022-11-07T03:05:12.567221",
     "exception": false,
     "start_time": "2022-11-07T03:05:12.538813",
     "status": "completed"
    },
    "tags": []
   },
   "outputs": [
    {
     "data": {
      "text/markdown": [
       "- XRP Lawsuit: New Dates In The SEC vs Ripple Case Point Towards A Final Court Verdict In Q1 2023.  XRP adherents may have to wait until the first quarter of 2023 for the Ripple vs. SEC lawsuit to be finalized following a new plot twist in the case’s timelines. ... [| Skaityti daugiau](https://zycrypto.com/xrp-lawsuit-new-dates-in-the-sec-vs-ripple-case-point-towards-a-final-court-verdict-in-q1-2023/) "
      ],
      "text/plain": [
       "<IPython.core.display.Markdown object>"
      ]
     },
     "execution_count": 5,
     "metadata": {},
     "output_type": "execute_result"
    }
   ],
   "source": [
    "#hide_input\n",
    "#md('##### {}'.format(titleBTC)) \n",
    "md(\"- {}{} {}{} [| Skaityti daugiau]({}) \".format(xrp['title'],'. ', xrp['body'], ' ...', xrp['url']))"
   ]
  },
  {
   "cell_type": "code",
   "execution_count": 6,
   "id": "prompt-farmer",
   "metadata": {
    "execution": {
     "iopub.execute_input": "2022-11-07T03:05:12.596841Z",
     "iopub.status.busy": "2022-11-07T03:05:12.596099Z",
     "iopub.status.idle": "2022-11-07T03:05:12.600383Z",
     "shell.execute_reply": "2022-11-07T03:05:12.601767Z"
    },
    "papermill": {
     "duration": 0.023232,
     "end_time": "2022-11-07T03:05:12.601940",
     "exception": false,
     "start_time": "2022-11-07T03:05:12.578708",
     "status": "completed"
    },
    "tags": []
   },
   "outputs": [
    {
     "data": {
      "text/markdown": [
       "- Tron enthusiasts could witness uncertainty as TRX sends out these mixed signals.  Tron [TRX] recently published its latest weekly report, which discussed all the necessary and notable community developments over the last seven days. 🧐Check out #TRON Highlights from this week (Oct 29, 2022 &#8211; Nov 4, 2022). 🙌We&#39;ll update you on the main news about #TRON and #TRON #Ecosystem. So stay tuned, #TRONICS ! pic.twitter.com/iydWLBq0nd &#8212; TRON [&#8230;] ... [| Skaityti daugiau](https://ambcrypto.com/tron-enthusiasts-could-witness-uncertainty-as-trx-sends-out-these-mixed-signals/) "
      ],
      "text/plain": [
       "<IPython.core.display.Markdown object>"
      ]
     },
     "execution_count": 6,
     "metadata": {},
     "output_type": "execute_result"
    }
   ],
   "source": [
    "#hide_input\n",
    "#md('##### {}'.format(titleBTC)) \n",
    "md(\"- {}{} {}{} [| Skaityti daugiau]({}) \".format(trx['title'],'. ', trx['body'], ' ...', trx['url']))"
   ]
  },
  {
   "cell_type": "code",
   "execution_count": 7,
   "id": "illegal-greece",
   "metadata": {
    "execution": {
     "iopub.execute_input": "2022-11-07T03:05:12.632907Z",
     "iopub.status.busy": "2022-11-07T03:05:12.631367Z",
     "iopub.status.idle": "2022-11-07T03:05:12.638413Z",
     "shell.execute_reply": "2022-11-07T03:05:12.639031Z"
    },
    "papermill": {
     "duration": 0.025081,
     "end_time": "2022-11-07T03:05:12.639182",
     "exception": false,
     "start_time": "2022-11-07T03:05:12.614101",
     "status": "completed"
    },
    "tags": []
   },
   "outputs": [
    {
     "data": {
      "text/markdown": [
       "- Altcoin Season By Mid November? Analyst Maps Month End Targets For Top Cryptos.  The post Altcoin Season By Mid November? Analyst Maps Month End Targets For Top Cryptos appeared first on Coinpedia Fintech NewsThe global crypto market capitalization&#8217;s turmoil near the $1 trillion mark has plummeted the crypto portfolios of investors and now continues to pressurize traders amid the crypto winter. Despite undergoing several jolts, including CPI data and US stock market correlation, the prolonged crypto winter now seems to bring smiles to crypto users as the market &#8230; ... [| Skaityti daugiau](https://coinpedia.org/altcoin/altcoin-season-by-mid-november-analyst-maps-month-end-targets-for-top-cryptos/) "
      ],
      "text/plain": [
       "<IPython.core.display.Markdown object>"
      ]
     },
     "execution_count": 7,
     "metadata": {},
     "output_type": "execute_result"
    }
   ],
   "source": [
    "#hide_input\n",
    "#md('##### {}'.format(titleBTC)) \n",
    "md(\"- {}{} {}{} [| Skaityti daugiau]({}) \".format(eth['title'],'. ', eth['body'], ' ...', eth['url']))"
   ]
  },
  {
   "cell_type": "code",
   "execution_count": 8,
   "id": "sublime-lounge",
   "metadata": {
    "execution": {
     "iopub.execute_input": "2022-11-07T03:05:12.673495Z",
     "iopub.status.busy": "2022-11-07T03:05:12.671939Z",
     "iopub.status.idle": "2022-11-07T03:05:12.676059Z",
     "shell.execute_reply": "2022-11-07T03:05:12.676573Z"
    },
    "papermill": {
     "duration": 0.024542,
     "end_time": "2022-11-07T03:05:12.676832",
     "exception": false,
     "start_time": "2022-11-07T03:05:12.652290",
     "status": "completed"
    },
    "tags": []
   },
   "outputs": [
    {
     "data": {
      "text/markdown": [
       "- Cardano Founder To Elon Musk: Cardano, Doge Can Profit Twitter.  The acquisition of Twitter by Elon Musk continues to make news. As major advertisers pull their ads from Twitter, the financial future of the company comes into question. However, Cardano Founder Charles Hoskinson believes that a decentralized Twitter can solve many of the company&#8217;s issues. In a video, the Cardano Founder pitched the idea of The post Cardano Founder To Elon Musk: Cardano, Doge Can Profit Twitter appeared first on CoinGape. ... [| Skaityti daugiau](https://coingape.com/cardano-founder-to-elon-musk-cardano-doge-can-profit-twitter/) "
      ],
      "text/plain": [
       "<IPython.core.display.Markdown object>"
      ]
     },
     "execution_count": 8,
     "metadata": {},
     "output_type": "execute_result"
    }
   ],
   "source": [
    "#hide_input\n",
    "#md('##### {}'.format(titleBTC)) \n",
    "md(\"- {}{} {}{} [| Skaityti daugiau]({}) \".format(ada['title'],'. ', ada['body'], ' ...', ada['url']))"
   ]
  },
  {
   "cell_type": "code",
   "execution_count": 9,
   "id": "specified-ordering",
   "metadata": {
    "execution": {
     "iopub.execute_input": "2022-11-07T03:05:12.706594Z",
     "iopub.status.busy": "2022-11-07T03:05:12.705467Z",
     "iopub.status.idle": "2022-11-07T03:05:12.708819Z",
     "shell.execute_reply": "2022-11-07T03:05:12.709242Z"
    },
    "papermill": {
     "duration": 0.020348,
     "end_time": "2022-11-07T03:05:12.709365",
     "exception": false,
     "start_time": "2022-11-07T03:05:12.689017",
     "status": "completed"
    },
    "tags": []
   },
   "outputs": [
    {
     "data": {
      "text/markdown": [
       "- Binance to liquidate its entire FTX Token holdings after ‘recent revelations’.  Binance CEO Changpeng Zhao cited “recent revelations” as the reason for the liquidation, noting the sale of its tokens could take months to complete due to the size of its position. ... [| Skaityti daugiau](https://cointelegraph.com/news/binance-to-liquidate-its-entire-ftx-token-holdings-after-recent-revelations) "
      ],
      "text/plain": [
       "<IPython.core.display.Markdown object>"
      ]
     },
     "execution_count": 9,
     "metadata": {},
     "output_type": "execute_result"
    }
   ],
   "source": [
    "#hide_input\n",
    "#md('##### {}'.format(titleBTC)) \n",
    "md(\"- {}{} {}{} [| Skaityti daugiau]({}) \".format(exchange['title'],'. ', exchange['body'], ' ...', exchange['url']))"
   ]
  },
  {
   "cell_type": "code",
   "execution_count": null,
   "id": "tender-livestock",
   "metadata": {
    "papermill": {
     "duration": 0.011495,
     "end_time": "2022-11-07T03:05:12.732352",
     "exception": false,
     "start_time": "2022-11-07T03:05:12.720857",
     "status": "completed"
    },
    "tags": []
   },
   "outputs": [],
   "source": []
  },
  {
   "cell_type": "code",
   "execution_count": null,
   "id": "appreciated-diamond",
   "metadata": {
    "papermill": {
     "duration": 0.011615,
     "end_time": "2022-11-07T03:05:12.755576",
     "exception": false,
     "start_time": "2022-11-07T03:05:12.743961",
     "status": "completed"
    },
    "tags": []
   },
   "outputs": [],
   "source": []
  },
  {
   "cell_type": "code",
   "execution_count": null,
   "id": "romance-sweden",
   "metadata": {
    "papermill": {
     "duration": 0.01158,
     "end_time": "2022-11-07T03:05:12.778486",
     "exception": false,
     "start_time": "2022-11-07T03:05:12.766906",
     "status": "completed"
    },
    "tags": []
   },
   "outputs": [],
   "source": []
  },
  {
   "cell_type": "code",
   "execution_count": null,
   "id": "dietary-statistics",
   "metadata": {
    "papermill": {
     "duration": 0.011425,
     "end_time": "2022-11-07T03:05:12.801684",
     "exception": false,
     "start_time": "2022-11-07T03:05:12.790259",
     "status": "completed"
    },
    "tags": []
   },
   "outputs": [],
   "source": []
  }
 ],
 "metadata": {
  "kernelspec": {
   "display_name": "Python 3",
   "language": "python",
   "name": "python3"
  },
  "language_info": {
   "codemirror_mode": {
    "name": "ipython",
    "version": 3
   },
   "file_extension": ".py",
   "mimetype": "text/x-python",
   "name": "python",
   "nbconvert_exporter": "python",
   "pygments_lexer": "ipython3",
   "version": "3.6.15"
  },
  "papermill": {
   "default_parameters": {},
   "duration": 18.359767,
   "end_time": "2022-11-07T03:05:13.232333",
   "environment_variables": {},
   "exception": null,
   "input_path": "Market-News.ipynb",
   "output_path": "Market-News.ipynb",
   "parameters": {},
   "start_time": "2022-11-07T03:04:54.872566",
   "version": "2.2.2"
  }
 },
 "nbformat": 4,
 "nbformat_minor": 5
}