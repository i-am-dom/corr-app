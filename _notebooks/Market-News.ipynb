{
 "cells": [
  {
   "cell_type": "markdown",
   "id": "short-greensboro",
   "metadata": {
    "papermill": {
     "duration": 0.01458,
     "end_time": "2021-11-04T02:02:13.660449",
     "exception": false,
     "start_time": "2021-11-04T02:02:13.645869",
     "status": "completed"
    },
    "tags": []
   },
   "source": [
    "# Kriptovaliutų naujienos"
   ]
  },
  {
   "cell_type": "code",
   "execution_count": 1,
   "id": "functioning-knowing",
   "metadata": {
    "execution": {
     "iopub.execute_input": "2021-11-04T02:02:13.695606Z",
     "iopub.status.busy": "2021-11-04T02:02:13.694919Z",
     "iopub.status.idle": "2021-11-04T02:02:15.342449Z",
     "shell.execute_reply": "2021-11-04T02:02:15.342986Z"
    },
    "papermill": {
     "duration": 1.67089,
     "end_time": "2021-11-04T02:02:15.343197",
     "exception": false,
     "start_time": "2021-11-04T02:02:13.672307",
     "status": "completed"
    },
    "tags": []
   },
   "outputs": [],
   "source": [
    "#hide_input\n",
    "import warnings\n",
    "warnings.filterwarnings('ignore')\n",
    "from scripts.read_data import read_api\n",
    "from scripts.read_data import read_news\n",
    "from scripts.read_data import read_covid\n",
    "import matplotlib.pyplot as plt \n",
    "from IPython.display import Markdown as md"
   ]
  },
  {
   "cell_type": "code",
   "execution_count": 2,
   "id": "shared-acceptance",
   "metadata": {
    "execution": {
     "iopub.execute_input": "2021-11-04T02:02:15.376908Z",
     "iopub.status.busy": "2021-11-04T02:02:15.376208Z",
     "iopub.status.idle": "2021-11-04T02:02:25.349929Z",
     "shell.execute_reply": "2021-11-04T02:02:25.349373Z"
    },
    "papermill": {
     "duration": 9.993516,
     "end_time": "2021-11-04T02:02:25.350117",
     "exception": false,
     "start_time": "2021-11-04T02:02:15.356601",
     "status": "completed"
    },
    "tags": []
   },
   "outputs": [],
   "source": [
    "#hide_input\n",
    "blockchain = read_news('blockchain') \n",
    "btc = read_news('btc') \n",
    "xrp = read_news('xrp') \n",
    "trx = read_news('trx') \n",
    "eth = read_news('eth')  \n",
    "ada = read_news('ada')\n",
    "exchange = read_news('exchange') "
   ]
  },
  {
   "cell_type": "code",
   "execution_count": 3,
   "id": "synthetic-notion",
   "metadata": {
    "execution": {
     "iopub.execute_input": "2021-11-04T02:02:25.378044Z",
     "iopub.status.busy": "2021-11-04T02:02:25.374481Z",
     "iopub.status.idle": "2021-11-04T02:02:25.380938Z",
     "shell.execute_reply": "2021-11-04T02:02:25.381392Z"
    },
    "papermill": {
     "duration": 0.020248,
     "end_time": "2021-11-04T02:02:25.381516",
     "exception": false,
     "start_time": "2021-11-04T02:02:25.361268",
     "status": "completed"
    },
    "tags": []
   },
   "outputs": [
    {
     "data": {
      "text/markdown": [
       "- How Lower-Risk, High-Yield Cryptocurrency Investing Can Help You Retire Rich.  Cryptocurrency, blockchain, and De-Fi are the fastest growing technology in all of human history and have created more wealth faster than any investment strategy.However, it's speculative and not right for everyone. For those seeking a relatively lower risk way to profit from the crypto gold rush, there are two strategies that I personally use.High-yield crypto savings accounts, using stable coins backed 100% with US dollars, can be a reasonable alternative to junk bonds, and offer an 8.25% yield.Combining crypto with high-yield blue-chips like BTI, can pay you up to 4.1% yield that grows over time, and pays you generous and safe yield today while waiting for potentially life-changing returns tomorrow.A modest 1% to 10% allocation to crypto, including yield farming stable coins, can significantly increase your retirement portfolio's returns, with only modestly higher volatility. Using appropriate asset allocation and risk management, through semi-annual or annual portfolio rebalancing, is how you can minimize risk to what you can personally stand, and potentially achieve the rich retirement of your dreams. ... [| Skaityti daugiau](https://seekingalpha.com/article/4465185-how-lower-risk-high-yield-cryptocurrency-investing-can-help-you-retire-rich?utm_source=cryptocompare.com&utm_medium=referral) "
      ],
      "text/plain": [
       "<IPython.core.display.Markdown object>"
      ]
     },
     "execution_count": 3,
     "metadata": {},
     "output_type": "execute_result"
    }
   ],
   "source": [
    "#hide_input\n",
    "#md('##### {}'.format(titleBTC)) \n",
    "md(\"- {}{} {}{} [| Skaityti daugiau]({}) \".format(blockchain['title'],'. ', blockchain['body'], ' ...', blockchain['url']))"
   ]
  },
  {
   "cell_type": "code",
   "execution_count": 4,
   "id": "aging-caution",
   "metadata": {
    "execution": {
     "iopub.execute_input": "2021-11-04T02:02:25.407278Z",
     "iopub.status.busy": "2021-11-04T02:02:25.406706Z",
     "iopub.status.idle": "2021-11-04T02:02:25.411829Z",
     "shell.execute_reply": "2021-11-04T02:02:25.412292Z"
    },
    "papermill": {
     "duration": 0.020023,
     "end_time": "2021-11-04T02:02:25.412411",
     "exception": false,
     "start_time": "2021-11-04T02:02:25.392388",
     "status": "completed"
    },
    "tags": []
   },
   "outputs": [
    {
     "data": {
      "text/markdown": [
       "- Revisiting Dorsey’s Hyperinflation Tweet: Elon, Wood, Saylor, Balaji, Chip In.  When the Square mastermind declared hyperinflation was coming to the US, the world shacked. With a single tweet, Jack Dorsey lit a fire that keeps on burning. In that first article, NewsBTC compiled the first reactions to this dangerous idea. Then, we told you about Peter Schiff’s unimaginative response. Now, it’s time for the big guns. Ark Invest’s Cathie Wood answered with her deflationary theory, and Elon Musk, MicroStrategy’s Michael Saylor, and notorious financial podcaster Preston Pysh answered. Related Reading &#124; Michael Saylor Brings The Thunder To Venezuelan Bitcoin-Only Podcast Also, entrepreneur and former Coinbase CTO, Balaji Srinivasan, threw extra logs to the fire. He was one of the first responders, offering a reward for the design of a decentralized inflation dashboard. Besides them, Wired columnist Virginia Heffernan provided the 1984-like response, and Reason magazine answered her promptly. This article is full of knowledge and interesting theories for you to ponder. Make some popcorn and enjoy the show. Hyperinflation And Cathie Wood’s Theory Of Deflation This woman doesn’t mince words. “In 2008-09, when the Fed started quantitative easing, I thought that inflation would take off. I was wrong. Instead, velocity &#8211; the rate at which money turns over per year &#8211; declined, taking away its inflationary sting. Velocity still is falling.” Is she right? Isn’t purchasing power the real victim of the ra... ... [| Skaityti daugiau](https://www.newsbtc.com/news/bitcoin/dorsey-hyperinflation-elon-wood/) "
      ],
      "text/plain": [
       "<IPython.core.display.Markdown object>"
      ]
     },
     "execution_count": 4,
     "metadata": {},
     "output_type": "execute_result"
    }
   ],
   "source": [
    "#hide_input\n",
    "#md('##### {}'.format(titleBTC)) \n",
    "md(\"- {}{} {}{} [| Skaityti daugiau]({}) \".format(btc['title'],'. ', btc['body'], ' ...', btc['url']))"
   ]
  },
  {
   "cell_type": "code",
   "execution_count": 5,
   "id": "organic-actress",
   "metadata": {
    "execution": {
     "iopub.execute_input": "2021-11-04T02:02:25.439916Z",
     "iopub.status.busy": "2021-11-04T02:02:25.439274Z",
     "iopub.status.idle": "2021-11-04T02:02:25.441433Z",
     "shell.execute_reply": "2021-11-04T02:02:25.441901Z"
    },
    "papermill": {
     "duration": 0.018725,
     "end_time": "2021-11-04T02:02:25.442045",
     "exception": false,
     "start_time": "2021-11-04T02:02:25.423320",
     "status": "completed"
    },
    "tags": []
   },
   "outputs": [
    {
     "data": {
      "text/markdown": [
       "- wXRP to launch on the Ethereum blockchain in December.  The XRP network still appears to be innovating despite its regulatory woes.  ... [| Skaityti daugiau](https://cointelegraph.com/news/wxrp-to-launch-on-the-ethereum-blockchain-in-december) "
      ],
      "text/plain": [
       "<IPython.core.display.Markdown object>"
      ]
     },
     "execution_count": 5,
     "metadata": {},
     "output_type": "execute_result"
    }
   ],
   "source": [
    "#hide_input\n",
    "#md('##### {}'.format(titleBTC)) \n",
    "md(\"- {}{} {}{} [| Skaityti daugiau]({}) \".format(xrp['title'],'. ', xrp['body'], ' ...', xrp['url']))"
   ]
  },
  {
   "cell_type": "code",
   "execution_count": 6,
   "id": "prompt-farmer",
   "metadata": {
    "execution": {
     "iopub.execute_input": "2021-11-04T02:02:25.470181Z",
     "iopub.status.busy": "2021-11-04T02:02:25.469571Z",
     "iopub.status.idle": "2021-11-04T02:02:25.473354Z",
     "shell.execute_reply": "2021-11-04T02:02:25.473820Z"
    },
    "papermill": {
     "duration": 0.01961,
     "end_time": "2021-11-04T02:02:25.473942",
     "exception": false,
     "start_time": "2021-11-04T02:02:25.454332",
     "status": "completed"
    },
    "tags": []
   },
   "outputs": [
    {
     "data": {
      "text/markdown": [
       "- Tron (TRX) Price Analysis: Bulls In Control Above $0.10.  Tron price started a fresh rally above the $0.1000 resistance zone against the US Dollar. TRX price is now trading above $0.1000 and the 55 simple moving average (4-hours). There was a break above a major bearish trend line with resistance near $0.1020 on the 4-hours chart (data feed via Bitfinex). The pair is correcting...The post Tron (TRX) Price Analysis: Bulls In Control Above $0.10 appeared first on Live Bitcoin News. ... [| Skaityti daugiau](https://www.livebitcoinnews.com/tron-trx-price-analysis-bulls-in-control-above-0-10/) "
      ],
      "text/plain": [
       "<IPython.core.display.Markdown object>"
      ]
     },
     "execution_count": 6,
     "metadata": {},
     "output_type": "execute_result"
    }
   ],
   "source": [
    "#hide_input\n",
    "#md('##### {}'.format(titleBTC)) \n",
    "md(\"- {}{} {}{} [| Skaityti daugiau]({}) \".format(trx['title'],'. ', trx['body'], ' ...', trx['url']))"
   ]
  },
  {
   "cell_type": "code",
   "execution_count": 7,
   "id": "illegal-greece",
   "metadata": {
    "execution": {
     "iopub.execute_input": "2021-11-04T02:02:25.502533Z",
     "iopub.status.busy": "2021-11-04T02:02:25.500761Z",
     "iopub.status.idle": "2021-11-04T02:02:25.504873Z",
     "shell.execute_reply": "2021-11-04T02:02:25.505390Z"
    },
    "papermill": {
     "duration": 0.019254,
     "end_time": "2021-11-04T02:02:25.505509",
     "exception": false,
     "start_time": "2021-11-04T02:02:25.486255",
     "status": "completed"
    },
    "tags": []
   },
   "outputs": [
    {
     "data": {
      "text/markdown": [
       "- Ethereum ($ETH) Price May Rise to $6,000 if It Holds Key Level, Says Technical Analyst.  The price of Ethereum’s ether, the second-largest cryptocurrency by market capitalization, could move upward to hit $6,000 if it manages to hold above a key technical level, according to Fairlead Strategies’ Katie Stockton. In a note, first reported on by Business Insider, Stockton noted Ethereum’s recent gains to hit a new all-time high above $4,600 […] ... [| Skaityti daugiau](https://www.cryptoglobe.com/latest/2021/11/ethereum-eth-price-may-rise-to-6000-if-it-holds-key-level-says-technical-analyst/) "
      ],
      "text/plain": [
       "<IPython.core.display.Markdown object>"
      ]
     },
     "execution_count": 7,
     "metadata": {},
     "output_type": "execute_result"
    }
   ],
   "source": [
    "#hide_input\n",
    "#md('##### {}'.format(titleBTC)) \n",
    "md(\"- {}{} {}{} [| Skaityti daugiau]({}) \".format(eth['title'],'. ', eth['body'], ' ...', eth['url']))"
   ]
  },
  {
   "cell_type": "code",
   "execution_count": 8,
   "id": "sublime-lounge",
   "metadata": {
    "execution": {
     "iopub.execute_input": "2021-11-04T02:02:25.536060Z",
     "iopub.status.busy": "2021-11-04T02:02:25.535418Z",
     "iopub.status.idle": "2021-11-04T02:02:25.538566Z",
     "shell.execute_reply": "2021-11-04T02:02:25.539100Z"
    },
    "papermill": {
     "duration": 0.02163,
     "end_time": "2021-11-04T02:02:25.539255",
     "exception": false,
     "start_time": "2021-11-04T02:02:25.517625",
     "status": "completed"
    },
    "tags": []
   },
   "outputs": [
    {
     "data": {
      "text/markdown": [
       "- Cardano, Hydra & 2 millions Wallets Loaded With ADA.  Cardano (ADA) is back at it again &#8211; this time with a major milestone and new update. Cardano is gearing up to be in around 2 millions wallets this year. Will this help the already fast growing coin&#8217;s reputation and market cap as things begin to unfold? It has only been around a year since [&#8230;] ... [| Skaityti daugiau](https://bitcoinist.com/cardano-hydra-2-millions-wallets-loaded-with-ada/?utm_source=rss&utm_medium=rss&utm_campaign=cardano-hydra-2-millions-wallets-loaded-with-ada) "
      ],
      "text/plain": [
       "<IPython.core.display.Markdown object>"
      ]
     },
     "execution_count": 8,
     "metadata": {},
     "output_type": "execute_result"
    }
   ],
   "source": [
    "#hide_input\n",
    "#md('##### {}'.format(titleBTC)) \n",
    "md(\"- {}{} {}{} [| Skaityti daugiau]({}) \".format(ada['title'],'. ', ada['body'], ' ...', ada['url']))"
   ]
  },
  {
   "cell_type": "code",
   "execution_count": 9,
   "id": "specified-ordering",
   "metadata": {
    "execution": {
     "iopub.execute_input": "2021-11-04T02:02:25.570716Z",
     "iopub.status.busy": "2021-11-04T02:02:25.570028Z",
     "iopub.status.idle": "2021-11-04T02:02:25.573393Z",
     "shell.execute_reply": "2021-11-04T02:02:25.573869Z"
    },
    "papermill": {
     "duration": 0.020922,
     "end_time": "2021-11-04T02:02:25.574032",
     "exception": false,
     "start_time": "2021-11-04T02:02:25.553110",
     "status": "completed"
    },
    "tags": []
   },
   "outputs": [
    {
     "data": {
      "text/markdown": [
       "- Australia’s Commonwealth Bank Lets Customers Trade Crypto Directly Through Its App.  The Commonwealth Bank of Australia (CBA), the country&#x2019;s biggest bank, is providing customers with the ability to buy, sell, and hold crypto assets directly through its app. The bank has partnered with crypto exchange Gemini and blockchain analytics firm Chainalysis to provide crypto services. Commonwealth Bank Begins Offering Crypto Services Commonwealth Bank (CBA), also known [&#8230;] ... [| Skaityti daugiau](https://news.bitcoin.com/australias-commonwealth-bank-lets-customers-trade-crypto-directly-through-its-app/) "
      ],
      "text/plain": [
       "<IPython.core.display.Markdown object>"
      ]
     },
     "execution_count": 9,
     "metadata": {},
     "output_type": "execute_result"
    }
   ],
   "source": [
    "#hide_input\n",
    "#md('##### {}'.format(titleBTC)) \n",
    "md(\"- {}{} {}{} [| Skaityti daugiau]({}) \".format(exchange['title'],'. ', exchange['body'], ' ...', exchange['url']))"
   ]
  },
  {
   "cell_type": "code",
   "execution_count": null,
   "id": "tender-livestock",
   "metadata": {
    "papermill": {
     "duration": 0.012956,
     "end_time": "2021-11-04T02:02:25.600386",
     "exception": false,
     "start_time": "2021-11-04T02:02:25.587430",
     "status": "completed"
    },
    "tags": []
   },
   "outputs": [],
   "source": []
  },
  {
   "cell_type": "code",
   "execution_count": null,
   "id": "appreciated-diamond",
   "metadata": {
    "papermill": {
     "duration": 0.012539,
     "end_time": "2021-11-04T02:02:25.625766",
     "exception": false,
     "start_time": "2021-11-04T02:02:25.613227",
     "status": "completed"
    },
    "tags": []
   },
   "outputs": [],
   "source": []
  },
  {
   "cell_type": "code",
   "execution_count": null,
   "id": "romance-sweden",
   "metadata": {
    "papermill": {
     "duration": 0.013124,
     "end_time": "2021-11-04T02:02:25.652174",
     "exception": false,
     "start_time": "2021-11-04T02:02:25.639050",
     "status": "completed"
    },
    "tags": []
   },
   "outputs": [],
   "source": []
  },
  {
   "cell_type": "code",
   "execution_count": null,
   "id": "dietary-statistics",
   "metadata": {
    "papermill": {
     "duration": 0.013063,
     "end_time": "2021-11-04T02:02:25.678204",
     "exception": false,
     "start_time": "2021-11-04T02:02:25.665141",
     "status": "completed"
    },
    "tags": []
   },
   "outputs": [],
   "source": []
  }
 ],
 "metadata": {
  "kernelspec": {
   "display_name": "Python 3",
   "language": "python",
   "name": "python3"
  },
  "language_info": {
   "codemirror_mode": {
    "name": "ipython",
    "version": 3
   },
   "file_extension": ".py",
   "mimetype": "text/x-python",
   "name": "python",
   "nbconvert_exporter": "python",
   "pygments_lexer": "ipython3",
   "version": "3.6.15"
  },
  "papermill": {
   "default_parameters": {},
   "duration": 13.896982,
   "end_time": "2021-11-04T02:02:26.199851",
   "environment_variables": {},
   "exception": null,
   "input_path": "Market-News.ipynb",
   "output_path": "Market-News.ipynb",
   "parameters": {},
   "start_time": "2021-11-04T02:02:12.302869",
   "version": "2.2.2"
  }
 },
 "nbformat": 4,
 "nbformat_minor": 5
}