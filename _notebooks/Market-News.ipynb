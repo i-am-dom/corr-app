{
 "cells": [
  {
   "cell_type": "markdown",
   "id": "short-greensboro",
   "metadata": {
    "papermill": {
     "duration": 0.012731,
     "end_time": "2022-07-14T03:25:12.056515",
     "exception": false,
     "start_time": "2022-07-14T03:25:12.043784",
     "status": "completed"
    },
    "tags": []
   },
   "source": [
    "# Kriptovaliutų naujienos"
   ]
  },
  {
   "cell_type": "code",
   "execution_count": 1,
   "id": "functioning-knowing",
   "metadata": {
    "execution": {
     "iopub.execute_input": "2022-07-14T03:25:12.085231Z",
     "iopub.status.busy": "2022-07-14T03:25:12.084606Z",
     "iopub.status.idle": "2022-07-14T03:25:13.221567Z",
     "shell.execute_reply": "2022-07-14T03:25:13.221076Z"
    },
    "papermill": {
     "duration": 1.155446,
     "end_time": "2022-07-14T03:25:13.221692",
     "exception": false,
     "start_time": "2022-07-14T03:25:12.066246",
     "status": "completed"
    },
    "tags": []
   },
   "outputs": [],
   "source": [
    "#hide_input\n",
    "import warnings\n",
    "warnings.filterwarnings('ignore')\n",
    "from scripts.read_data import read_api\n",
    "from scripts.read_data import read_news\n",
    "from scripts.read_data import read_covid\n",
    "import matplotlib.pyplot as plt \n",
    "from IPython.display import Markdown as md"
   ]
  },
  {
   "cell_type": "code",
   "execution_count": 2,
   "id": "shared-acceptance",
   "metadata": {
    "execution": {
     "iopub.execute_input": "2022-07-14T03:25:13.246496Z",
     "iopub.status.busy": "2022-07-14T03:25:13.245929Z",
     "iopub.status.idle": "2022-07-14T03:25:25.174451Z",
     "shell.execute_reply": "2022-07-14T03:25:25.173508Z"
    },
    "papermill": {
     "duration": 11.943448,
     "end_time": "2022-07-14T03:25:25.174573",
     "exception": false,
     "start_time": "2022-07-14T03:25:13.231125",
     "status": "completed"
    },
    "tags": []
   },
   "outputs": [],
   "source": [
    "#hide_input\n",
    "blockchain = read_news('blockchain') \n",
    "btc = read_news('btc') \n",
    "xrp = read_news('xrp') \n",
    "trx = read_news('trx') \n",
    "eth = read_news('eth')  \n",
    "ada = read_news('ada')\n",
    "exchange = read_news('exchange') "
   ]
  },
  {
   "cell_type": "code",
   "execution_count": 3,
   "id": "synthetic-notion",
   "metadata": {
    "execution": {
     "iopub.execute_input": "2022-07-14T03:25:25.196876Z",
     "iopub.status.busy": "2022-07-14T03:25:25.196313Z",
     "iopub.status.idle": "2022-07-14T03:25:25.201508Z",
     "shell.execute_reply": "2022-07-14T03:25:25.201071Z"
    },
    "papermill": {
     "duration": 0.017707,
     "end_time": "2022-07-14T03:25:25.201609",
     "exception": false,
     "start_time": "2022-07-14T03:25:25.183902",
     "status": "completed"
    },
    "tags": []
   },
   "outputs": [
    {
     "data": {
      "text/markdown": [
       "- Shanghai includes blockchain, Web 3, and NFTs in the 5-year plan.  Various countries and governments have remained friendly towards crypto, creating a favorable environment. One is the Shanghai government, aware of the need for these developments. It has ensured that its citizens remain abreast of the developments compared to the rest of the world. It has adhered to the development principles and provides opportunities for its &#8230;  Shanghai includes blockchain, Web 3, and NFTs in the 5-year plan Read More &#187; ... [| Skaityti daugiau](https://www.cryptopolitan.com/shanghai-includes-blockchain-in-5-year-plan/) "
      ],
      "text/plain": [
       "<IPython.core.display.Markdown object>"
      ]
     },
     "execution_count": 3,
     "metadata": {},
     "output_type": "execute_result"
    }
   ],
   "source": [
    "#hide_input\n",
    "#md('##### {}'.format(titleBTC)) \n",
    "md(\"- {}{} {}{} [| Skaityti daugiau]({}) \".format(blockchain['title'],'. ', blockchain['body'], ' ...', blockchain['url']))"
   ]
  },
  {
   "cell_type": "code",
   "execution_count": 4,
   "id": "aging-caution",
   "metadata": {
    "execution": {
     "iopub.execute_input": "2022-07-14T03:25:25.225136Z",
     "iopub.status.busy": "2022-07-14T03:25:25.224534Z",
     "iopub.status.idle": "2022-07-14T03:25:25.227921Z",
     "shell.execute_reply": "2022-07-14T03:25:25.227491Z"
    },
    "papermill": {
     "duration": 0.016602,
     "end_time": "2022-07-14T03:25:25.228017",
     "exception": false,
     "start_time": "2022-07-14T03:25:25.211415",
     "status": "completed"
    },
    "tags": []
   },
   "outputs": [
    {
     "data": {
      "text/markdown": [
       "- TA: Bitcoin Price Reclaims $20K, Can BTC Surpass The 100 SMA.  Bitcoin extended losses and traded below $19,200 against the US Dollar. BTC found support near $19,000 and started an upside correction. Bitcoin traded as low as $18,916 and started an upside correction. The price is now trading above the $20,000 level and testing the 100 hourly simple moving average. There was a break above a key bearish trend line with resistance near $19,400 on the hourly chart of the BTC/USD pair (data feed from Kraken). The pair might gain bullish momentum if it clears the 100 hourly SMA and $20,600. Bitcoin Price Recovers Above $20K Bitcoin price started a fresh decline below the $20,000 support zone. The price even broke the $19,600 and $19,250 support levels. Finally, there was a spike below the $19,000 level. A low was formed near $18,916 and the price is now correcting losses. There was a steady move above the $19,250 and $19,500 levels. The bulls pumped the price above the 23.6% Fib retracement level of the downward move from the $22,499 swing high to $18,916 low. Besides, there was a break above a key bearish trend line with resistance near $19,400 on the hourly chart of the BTC/USD pair. The price even climbed above the $20,000 resistance level. Bitcoin is now trading above the $20,000 level and testing the 100 hourly simple moving average. It seems to be facing resistance near the $20,350 level. On the upside, the price could resistance near the $20,600 level. The next key resistance is near the ... ... [| Skaityti daugiau](https://www.newsbtc.com/analysis/btc/bitcoin-price-reclaims-20k/) "
      ],
      "text/plain": [
       "<IPython.core.display.Markdown object>"
      ]
     },
     "execution_count": 4,
     "metadata": {},
     "output_type": "execute_result"
    }
   ],
   "source": [
    "#hide_input\n",
    "#md('##### {}'.format(titleBTC)) \n",
    "md(\"- {}{} {}{} [| Skaityti daugiau]({}) \".format(btc['title'],'. ', btc['body'], ' ...', btc['url']))"
   ]
  },
  {
   "cell_type": "code",
   "execution_count": 5,
   "id": "organic-actress",
   "metadata": {
    "execution": {
     "iopub.execute_input": "2022-07-14T03:25:25.251056Z",
     "iopub.status.busy": "2022-07-14T03:25:25.250239Z",
     "iopub.status.idle": "2022-07-14T03:25:25.253816Z",
     "shell.execute_reply": "2022-07-14T03:25:25.254264Z"
    },
    "papermill": {
     "duration": 0.01667,
     "end_time": "2022-07-14T03:25:25.254367",
     "exception": false,
     "start_time": "2022-07-14T03:25:25.237697",
     "status": "completed"
    },
    "tags": []
   },
   "outputs": [
    {
     "data": {
      "text/markdown": [
       "- Judge reaffirms that SEC must produce materials related to Hinman speech in Ripple case.  In the opinion and order, Magistrate Judge Sarah Netburn called out the SEC's use of conflicting arguments to shield the documents. ... [| Skaityti daugiau](https://www.theblock.co/post/157448/judge-reaffirms-that-sec-must-produce-materials-related-to-hinman-speech-in-ripple-case?utm_source=cryptocompare&utm_medium=rss) "
      ],
      "text/plain": [
       "<IPython.core.display.Markdown object>"
      ]
     },
     "execution_count": 5,
     "metadata": {},
     "output_type": "execute_result"
    }
   ],
   "source": [
    "#hide_input\n",
    "#md('##### {}'.format(titleBTC)) \n",
    "md(\"- {}{} {}{} [| Skaityti daugiau]({}) \".format(xrp['title'],'. ', xrp['body'], ' ...', xrp['url']))"
   ]
  },
  {
   "cell_type": "code",
   "execution_count": 6,
   "id": "prompt-farmer",
   "metadata": {
    "execution": {
     "iopub.execute_input": "2022-07-14T03:25:25.278468Z",
     "iopub.status.busy": "2022-07-14T03:25:25.277917Z",
     "iopub.status.idle": "2022-07-14T03:25:25.281121Z",
     "shell.execute_reply": "2022-07-14T03:25:25.280585Z"
    },
    "papermill": {
     "duration": 0.016834,
     "end_time": "2022-07-14T03:25:25.281214",
     "exception": false,
     "start_time": "2022-07-14T03:25:25.264380",
     "status": "completed"
    },
    "tags": []
   },
   "outputs": [
    {
     "data": {
      "text/markdown": [
       "- TRON Stucks Near 50 EMA; Will TRX Breach $0.07?.  TRON emerged from an ERC-20 blockchain to develop its network working on a delegated Proof of Stake. Initially, it was developed to address the ownership issue with digital content wherein creators were required to share their data with centralized organizations to ensure its connectivity. Bypassing the intermediaries such as YouTube, Meta, Google, and other organizations &#8230; ... [| Skaityti daugiau](https://www.cryptonewsz.com/tron-stucks-near-50-ema-will-trx-breach-0-07-usd/) "
      ],
      "text/plain": [
       "<IPython.core.display.Markdown object>"
      ]
     },
     "execution_count": 6,
     "metadata": {},
     "output_type": "execute_result"
    }
   ],
   "source": [
    "#hide_input\n",
    "#md('##### {}'.format(titleBTC)) \n",
    "md(\"- {}{} {}{} [| Skaityti daugiau]({}) \".format(trx['title'],'. ', trx['body'], ' ...', trx['url']))"
   ]
  },
  {
   "cell_type": "code",
   "execution_count": 7,
   "id": "illegal-greece",
   "metadata": {
    "execution": {
     "iopub.execute_input": "2022-07-14T03:25:25.305687Z",
     "iopub.status.busy": "2022-07-14T03:25:25.304894Z",
     "iopub.status.idle": "2022-07-14T03:25:25.308921Z",
     "shell.execute_reply": "2022-07-14T03:25:25.308475Z"
    },
    "papermill": {
     "duration": 0.017383,
     "end_time": "2022-07-14T03:25:25.309012",
     "exception": false,
     "start_time": "2022-07-14T03:25:25.291629",
     "status": "completed"
    },
    "tags": []
   },
   "outputs": [
    {
     "data": {
      "text/markdown": [
       "- GameStop’s Ethereum NFT Sales Dwarf Coinbase NFT in Two Days.  The two-day-old platform, still in beta, moved well over 3,000 ETH. That's minuscule compared to OpenSea, but it beats Coinbase NFT. ... [| Skaityti daugiau](https://decrypt.co/105069/gamestop-ethereum-nft-sales-dwarf-coinbase-nft) "
      ],
      "text/plain": [
       "<IPython.core.display.Markdown object>"
      ]
     },
     "execution_count": 7,
     "metadata": {},
     "output_type": "execute_result"
    }
   ],
   "source": [
    "#hide_input\n",
    "#md('##### {}'.format(titleBTC)) \n",
    "md(\"- {}{} {}{} [| Skaityti daugiau]({}) \".format(eth['title'],'. ', eth['body'], ' ...', eth['url']))"
   ]
  },
  {
   "cell_type": "code",
   "execution_count": 8,
   "id": "sublime-lounge",
   "metadata": {
    "execution": {
     "iopub.execute_input": "2022-07-14T03:25:25.335459Z",
     "iopub.status.busy": "2022-07-14T03:25:25.334915Z",
     "iopub.status.idle": "2022-07-14T03:25:25.337939Z",
     "shell.execute_reply": "2022-07-14T03:25:25.337497Z"
    },
    "papermill": {
     "duration": 0.017437,
     "end_time": "2022-07-14T03:25:25.338029",
     "exception": false,
     "start_time": "2022-07-14T03:25:25.320592",
     "status": "completed"
    },
    "tags": []
   },
   "outputs": [
    {
     "data": {
      "text/markdown": [
       "- Cardano: $ADA Payments Become Available to 7 Million Users Through New Plugin.  Payments in Cardano’s native cryptocurrency $ADA are now available to more than 7 million users through a newly launched ADA Pay plugin developed as part of COTI’s Project Catalyst challenge. According to a Medium post, the ADA Pay plugin is on Odoo (On Demand Open Project), an open-source solution for business applications with more than […] ... [| Skaityti daugiau](https://www.cryptoglobe.com/latest/2022/07/cardano-ada-payments-become-available-to-7-million-users-through-new-plugin/) "
      ],
      "text/plain": [
       "<IPython.core.display.Markdown object>"
      ]
     },
     "execution_count": 8,
     "metadata": {},
     "output_type": "execute_result"
    }
   ],
   "source": [
    "#hide_input\n",
    "#md('##### {}'.format(titleBTC)) \n",
    "md(\"- {}{} {}{} [| Skaityti daugiau]({}) \".format(ada['title'],'. ', ada['body'], ' ...', ada['url']))"
   ]
  },
  {
   "cell_type": "code",
   "execution_count": 9,
   "id": "specified-ordering",
   "metadata": {
    "execution": {
     "iopub.execute_input": "2022-07-14T03:25:25.363618Z",
     "iopub.status.busy": "2022-07-14T03:25:25.362859Z",
     "iopub.status.idle": "2022-07-14T03:25:25.366869Z",
     "shell.execute_reply": "2022-07-14T03:25:25.366426Z"
    },
    "papermill": {
     "duration": 0.017987,
     "end_time": "2022-07-14T03:25:25.366961",
     "exception": false,
     "start_time": "2022-07-14T03:25:25.348974",
     "status": "completed"
    },
    "tags": []
   },
   "outputs": [
    {
     "data": {
      "text/markdown": [
       "- Troubled Crypto Lending Platform Celsius Files For Bankruptcy.  With $167 million left in cash, the embattled exchange has finally turned Chapter 11 rumors into reality. ... [| Skaityti daugiau](https://decrypt.co/105076/troubled-crypto-lending-platform-celsius-files-for-bankruptcy) "
      ],
      "text/plain": [
       "<IPython.core.display.Markdown object>"
      ]
     },
     "execution_count": 9,
     "metadata": {},
     "output_type": "execute_result"
    }
   ],
   "source": [
    "#hide_input\n",
    "#md('##### {}'.format(titleBTC)) \n",
    "md(\"- {}{} {}{} [| Skaityti daugiau]({}) \".format(exchange['title'],'. ', exchange['body'], ' ...', exchange['url']))"
   ]
  },
  {
   "cell_type": "code",
   "execution_count": null,
   "id": "tender-livestock",
   "metadata": {
    "papermill": {
     "duration": 0.011234,
     "end_time": "2022-07-14T03:25:25.389417",
     "exception": false,
     "start_time": "2022-07-14T03:25:25.378183",
     "status": "completed"
    },
    "tags": []
   },
   "outputs": [],
   "source": []
  },
  {
   "cell_type": "code",
   "execution_count": null,
   "id": "appreciated-diamond",
   "metadata": {
    "papermill": {
     "duration": 0.011247,
     "end_time": "2022-07-14T03:25:25.412363",
     "exception": false,
     "start_time": "2022-07-14T03:25:25.401116",
     "status": "completed"
    },
    "tags": []
   },
   "outputs": [],
   "source": []
  },
  {
   "cell_type": "code",
   "execution_count": null,
   "id": "romance-sweden",
   "metadata": {
    "papermill": {
     "duration": 0.011208,
     "end_time": "2022-07-14T03:25:25.434785",
     "exception": false,
     "start_time": "2022-07-14T03:25:25.423577",
     "status": "completed"
    },
    "tags": []
   },
   "outputs": [],
   "source": []
  },
  {
   "cell_type": "code",
   "execution_count": null,
   "id": "dietary-statistics",
   "metadata": {
    "papermill": {
     "duration": 0.011135,
     "end_time": "2022-07-14T03:25:25.457213",
     "exception": false,
     "start_time": "2022-07-14T03:25:25.446078",
     "status": "completed"
    },
    "tags": []
   },
   "outputs": [],
   "source": []
  }
 ],
 "metadata": {
  "kernelspec": {
   "display_name": "Python 3",
   "language": "python",
   "name": "python3"
  },
  "language_info": {
   "codemirror_mode": {
    "name": "ipython",
    "version": 3
   },
   "file_extension": ".py",
   "mimetype": "text/x-python",
   "name": "python",
   "nbconvert_exporter": "python",
   "pygments_lexer": "ipython3",
   "version": "3.6.15"
  },
  "papermill": {
   "default_parameters": {},
   "duration": 14.742743,
   "end_time": "2022-07-14T03:25:25.885256",
   "environment_variables": {},
   "exception": null,
   "input_path": "Market-News.ipynb",
   "output_path": "Market-News.ipynb",
   "parameters": {},
   "start_time": "2022-07-14T03:25:11.142513",
   "version": "2.2.2"
  }
 },
 "nbformat": 4,
 "nbformat_minor": 5
}