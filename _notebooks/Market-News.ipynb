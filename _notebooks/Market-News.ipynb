{
 "cells": [
  {
   "cell_type": "markdown",
   "id": "short-greensboro",
   "metadata": {
    "papermill": {
     "duration": 0.013358,
     "end_time": "2022-09-24T03:45:40.258663",
     "exception": false,
     "start_time": "2022-09-24T03:45:40.245305",
     "status": "completed"
    },
    "tags": []
   },
   "source": [
    "# Kriptovaliutų naujienos"
   ]
  },
  {
   "cell_type": "code",
   "execution_count": 1,
   "id": "functioning-knowing",
   "metadata": {
    "execution": {
     "iopub.execute_input": "2022-09-24T03:45:40.288500Z",
     "iopub.status.busy": "2022-09-24T03:45:40.287869Z",
     "iopub.status.idle": "2022-09-24T03:45:41.547330Z",
     "shell.execute_reply": "2022-09-24T03:45:41.546798Z"
    },
    "papermill": {
     "duration": 1.279186,
     "end_time": "2022-09-24T03:45:41.547475",
     "exception": false,
     "start_time": "2022-09-24T03:45:40.268289",
     "status": "completed"
    },
    "tags": []
   },
   "outputs": [],
   "source": [
    "#hide_input\n",
    "import warnings\n",
    "warnings.filterwarnings('ignore')\n",
    "from scripts.read_data import read_api\n",
    "from scripts.read_data import read_news\n",
    "from scripts.read_data import read_covid\n",
    "import matplotlib.pyplot as plt \n",
    "from IPython.display import Markdown as md"
   ]
  },
  {
   "cell_type": "code",
   "execution_count": 2,
   "id": "shared-acceptance",
   "metadata": {
    "execution": {
     "iopub.execute_input": "2022-09-24T03:45:41.572315Z",
     "iopub.status.busy": "2022-09-24T03:45:41.571687Z",
     "iopub.status.idle": "2022-09-24T03:45:51.887092Z",
     "shell.execute_reply": "2022-09-24T03:45:51.886040Z"
    },
    "papermill": {
     "duration": 10.33046,
     "end_time": "2022-09-24T03:45:51.887229",
     "exception": false,
     "start_time": "2022-09-24T03:45:41.556769",
     "status": "completed"
    },
    "tags": []
   },
   "outputs": [],
   "source": [
    "#hide_input\n",
    "blockchain = read_news('blockchain') \n",
    "btc = read_news('btc') \n",
    "xrp = read_news('xrp') \n",
    "trx = read_news('trx') \n",
    "eth = read_news('eth')  \n",
    "ada = read_news('ada')\n",
    "exchange = read_news('exchange') "
   ]
  },
  {
   "cell_type": "code",
   "execution_count": 3,
   "id": "synthetic-notion",
   "metadata": {
    "execution": {
     "iopub.execute_input": "2022-09-24T03:45:51.912383Z",
     "iopub.status.busy": "2022-09-24T03:45:51.911764Z",
     "iopub.status.idle": "2022-09-24T03:45:51.914195Z",
     "shell.execute_reply": "2022-09-24T03:45:51.914674Z"
    },
    "papermill": {
     "duration": 0.018329,
     "end_time": "2022-09-24T03:45:51.914810",
     "exception": false,
     "start_time": "2022-09-24T03:45:51.896481",
     "status": "completed"
    },
    "tags": []
   },
   "outputs": [
    {
     "data": {
      "text/markdown": [
       "- CFTC Lawsuit Against Ooki DAO, $250,000 Settlement with bZx Creates New Precedents.  The lawsuit and settlement suggest the use of governance tokens for decision-making in a Defi protocol doesn’t make it immune from enforcement. ... [| Skaityti daugiau](https://cryptopotato.com/cftc-lawsuit-against-ooki-dao-250000-settlement-with-bzx-creates-new-precedents/) "
      ],
      "text/plain": [
       "<IPython.core.display.Markdown object>"
      ]
     },
     "execution_count": 3,
     "metadata": {},
     "output_type": "execute_result"
    }
   ],
   "source": [
    "#hide_input\n",
    "#md('##### {}'.format(titleBTC)) \n",
    "md(\"- {}{} {}{} [| Skaityti daugiau]({}) \".format(blockchain['title'],'. ', blockchain['body'], ' ...', blockchain['url']))"
   ]
  },
  {
   "cell_type": "code",
   "execution_count": 4,
   "id": "aging-caution",
   "metadata": {
    "execution": {
     "iopub.execute_input": "2022-09-24T03:45:51.939000Z",
     "iopub.status.busy": "2022-09-24T03:45:51.938349Z",
     "iopub.status.idle": "2022-09-24T03:45:51.941818Z",
     "shell.execute_reply": "2022-09-24T03:45:51.941326Z"
    },
    "papermill": {
     "duration": 0.017788,
     "end_time": "2022-09-24T03:45:51.941932",
     "exception": false,
     "start_time": "2022-09-24T03:45:51.924144",
     "status": "completed"
    },
    "tags": []
   },
   "outputs": [
    {
     "data": {
      "text/markdown": [
       "- Crypto Roundup: BTC, ETH Prices Sluggish, DOGE And Cardano Surge.  Crypto prices continue to remain sluggish due to aggressive monetary policies by global economies. The Bitcoin “Fear and Greed Index” still shows extreme fear as the sentiment around the largest cryptocurrency. Bitcoin went down by 1% in the last 24 hours and is currently trading at $19.1K. Ethereum continues to display bearish tendencies after the The post Crypto Roundup: BTC, ETH Prices Sluggish, DOGE And Cardano Surge appeared first on CoinGape. ... [| Skaityti daugiau](https://coingape.com/crypto-roundup-btc-eth-prices-sluggish-doge-and-cardano-surge/) "
      ],
      "text/plain": [
       "<IPython.core.display.Markdown object>"
      ]
     },
     "execution_count": 4,
     "metadata": {},
     "output_type": "execute_result"
    }
   ],
   "source": [
    "#hide_input\n",
    "#md('##### {}'.format(titleBTC)) \n",
    "md(\"- {}{} {}{} [| Skaityti daugiau]({}) \".format(btc['title'],'. ', btc['body'], ' ...', btc['url']))"
   ]
  },
  {
   "cell_type": "code",
   "execution_count": 5,
   "id": "organic-actress",
   "metadata": {
    "execution": {
     "iopub.execute_input": "2022-09-24T03:45:51.966884Z",
     "iopub.status.busy": "2022-09-24T03:45:51.966285Z",
     "iopub.status.idle": "2022-09-24T03:45:51.969837Z",
     "shell.execute_reply": "2022-09-24T03:45:51.970263Z"
    },
    "papermill": {
     "duration": 0.018823,
     "end_time": "2022-09-24T03:45:51.970398",
     "exception": false,
     "start_time": "2022-09-24T03:45:51.951575",
     "status": "completed"
    },
    "tags": []
   },
   "outputs": [
    {
     "data": {
      "text/markdown": [
       "- Ripple: Crypto Analytics Firm Explains Why Traders Are Highly Bullish on $XRP Right Now.  Cryptocurrency analytics firm Santiment has revealed that traders are highly bullish on the $XRP token right now, even at a time in which the cryptocurrency has been outperforming the wider cryptocurrency market. According to a tweet Santiment shared with its over 140,000 followers on the microblogging platform, the ongoing legal battle between Ripple and the […] ... [| Skaityti daugiau](https://www.cryptoglobe.com/latest/2022/09/ripple-crypto-analytics-firm-explains-why-traders-are-highly-bullish-on-xrp-right-now/) "
      ],
      "text/plain": [
       "<IPython.core.display.Markdown object>"
      ]
     },
     "execution_count": 5,
     "metadata": {},
     "output_type": "execute_result"
    }
   ],
   "source": [
    "#hide_input\n",
    "#md('##### {}'.format(titleBTC)) \n",
    "md(\"- {}{} {}{} [| Skaityti daugiau]({}) \".format(xrp['title'],'. ', xrp['body'], ' ...', xrp['url']))"
   ]
  },
  {
   "cell_type": "code",
   "execution_count": 6,
   "id": "prompt-farmer",
   "metadata": {
    "execution": {
     "iopub.execute_input": "2022-09-24T03:45:51.995763Z",
     "iopub.status.busy": "2022-09-24T03:45:51.995158Z",
     "iopub.status.idle": "2022-09-24T03:45:51.997985Z",
     "shell.execute_reply": "2022-09-24T03:45:51.998469Z"
    },
    "papermill": {
     "duration": 0.018328,
     "end_time": "2022-09-24T03:45:51.998603",
     "exception": false,
     "start_time": "2022-09-24T03:45:51.980275",
     "status": "completed"
    },
    "tags": []
   },
   "outputs": [
    {
     "data": {
      "text/markdown": [
       "- Tron (TRX) And Polygon (MATIC) Holders Begin Buying Into Flasko (FLSK) Presale.  The post Tron (TRX) And Polygon (MATIC) Holders Begin Buying Into Flasko (FLSK) Presale appeared first on Coinpedia - Fintech &amp; Cryptocurreny News Media| Crypto GuideCrypto investors worldwide focus on tokens that perform well because such projects guarantee a positive return. Polygon (MATIC) and TRON (TRX) were previously market leaders with high profits, but their investors are now content with limited growth. Flasko (FLSK) holders, on the other side, are riding a unicorn of profit and expansion. Polygon (MATIC) is &#8230; ... [| Skaityti daugiau](https://coinpedia.org/press-release/tron-trx-and-polygon-matic-holders-begin-buying-into-flasko-flsk-presale/) "
      ],
      "text/plain": [
       "<IPython.core.display.Markdown object>"
      ]
     },
     "execution_count": 6,
     "metadata": {},
     "output_type": "execute_result"
    }
   ],
   "source": [
    "#hide_input\n",
    "#md('##### {}'.format(titleBTC)) \n",
    "md(\"- {}{} {}{} [| Skaityti daugiau]({}) \".format(trx['title'],'. ', trx['body'], ' ...', trx['url']))"
   ]
  },
  {
   "cell_type": "code",
   "execution_count": 7,
   "id": "illegal-greece",
   "metadata": {
    "execution": {
     "iopub.execute_input": "2022-09-24T03:45:52.025316Z",
     "iopub.status.busy": "2022-09-24T03:45:52.024677Z",
     "iopub.status.idle": "2022-09-24T03:45:52.028735Z",
     "shell.execute_reply": "2022-09-24T03:45:52.028213Z"
    },
    "papermill": {
     "duration": 0.019812,
     "end_time": "2022-09-24T03:45:52.028857",
     "exception": false,
     "start_time": "2022-09-24T03:45:52.009045",
     "status": "completed"
    },
    "tags": []
   },
   "outputs": [
    {
     "data": {
      "text/markdown": [
       "- Crypto Roundup: BTC, ETH Prices Sluggish, DOGE And Cardano Surge.  Crypto prices continue to remain sluggish due to aggressive monetary policies by global economies. The Bitcoin “Fear and Greed Index” still shows extreme fear as the sentiment around the largest cryptocurrency. Bitcoin went down by 1% in the last 24 hours and is currently trading at $19.1K. Ethereum continues to display bearish tendencies after the The post Crypto Roundup: BTC, ETH Prices Sluggish, DOGE And Cardano Surge appeared first on CoinGape. ... [| Skaityti daugiau](https://coingape.com/crypto-roundup-btc-eth-prices-sluggish-doge-and-cardano-surge/) "
      ],
      "text/plain": [
       "<IPython.core.display.Markdown object>"
      ]
     },
     "execution_count": 7,
     "metadata": {},
     "output_type": "execute_result"
    }
   ],
   "source": [
    "#hide_input\n",
    "#md('##### {}'.format(titleBTC)) \n",
    "md(\"- {}{} {}{} [| Skaityti daugiau]({}) \".format(eth['title'],'. ', eth['body'], ' ...', eth['url']))"
   ]
  },
  {
   "cell_type": "code",
   "execution_count": 8,
   "id": "sublime-lounge",
   "metadata": {
    "execution": {
     "iopub.execute_input": "2022-09-24T03:45:52.057188Z",
     "iopub.status.busy": "2022-09-24T03:45:52.056510Z",
     "iopub.status.idle": "2022-09-24T03:45:52.060823Z",
     "shell.execute_reply": "2022-09-24T03:45:52.060254Z"
    },
    "papermill": {
     "duration": 0.020266,
     "end_time": "2022-09-24T03:45:52.060949",
     "exception": false,
     "start_time": "2022-09-24T03:45:52.040683",
     "status": "completed"
    },
    "tags": []
   },
   "outputs": [
    {
     "data": {
      "text/markdown": [
       "- Crypto Roundup: BTC, ETH Prices Sluggish, DOGE And Cardano Surge.  Crypto prices continue to remain sluggish due to aggressive monetary policies by global economies. The Bitcoin “Fear and Greed Index” still shows extreme fear as the sentiment around the largest cryptocurrency. Bitcoin went down by 1% in the last 24 hours and is currently trading at $19.1K. Ethereum continues to display bearish tendencies after the The post Crypto Roundup: BTC, ETH Prices Sluggish, DOGE And Cardano Surge appeared first on CoinGape. ... [| Skaityti daugiau](https://coingape.com/crypto-roundup-btc-eth-prices-sluggish-doge-and-cardano-surge/) "
      ],
      "text/plain": [
       "<IPython.core.display.Markdown object>"
      ]
     },
     "execution_count": 8,
     "metadata": {},
     "output_type": "execute_result"
    }
   ],
   "source": [
    "#hide_input\n",
    "#md('##### {}'.format(titleBTC)) \n",
    "md(\"- {}{} {}{} [| Skaityti daugiau]({}) \".format(ada['title'],'. ', ada['body'], ' ...', ada['url']))"
   ]
  },
  {
   "cell_type": "code",
   "execution_count": 9,
   "id": "specified-ordering",
   "metadata": {
    "execution": {
     "iopub.execute_input": "2022-09-24T03:45:52.088852Z",
     "iopub.status.busy": "2022-09-24T03:45:52.088224Z",
     "iopub.status.idle": "2022-09-24T03:45:52.092246Z",
     "shell.execute_reply": "2022-09-24T03:45:52.091751Z"
    },
    "papermill": {
     "duration": 0.020379,
     "end_time": "2022-09-24T03:45:52.092364",
     "exception": false,
     "start_time": "2022-09-24T03:45:52.071985",
     "status": "completed"
    },
    "tags": []
   },
   "outputs": [
    {
     "data": {
      "text/markdown": [
       "- Coinbase Receives Approval to Offer Full Suite of Crypto Products in Netherlands.  Crypto exchange Coinbase has received approval to offer its full suite of retail and institutional crypto products and services in the Netherlands. &#x201C;We have taken strides to work collaboratively with government, policymakers, and regulators to shape the future in a responsible way,&#x201D; Coinbase said. Dutch Regulator Approves Coinbase The Nasdaq-listed cryptocurrency exchange Coinbase (Nasdaq: COIN) [&#8230;] ... [| Skaityti daugiau](https://news.bitcoin.com/coinbase-receives-approval-to-offer-full-suite-of-crypto-products-in-netherlands/) "
      ],
      "text/plain": [
       "<IPython.core.display.Markdown object>"
      ]
     },
     "execution_count": 9,
     "metadata": {},
     "output_type": "execute_result"
    }
   ],
   "source": [
    "#hide_input\n",
    "#md('##### {}'.format(titleBTC)) \n",
    "md(\"- {}{} {}{} [| Skaityti daugiau]({}) \".format(exchange['title'],'. ', exchange['body'], ' ...', exchange['url']))"
   ]
  },
  {
   "cell_type": "code",
   "execution_count": null,
   "id": "tender-livestock",
   "metadata": {
    "papermill": {
     "duration": 0.011208,
     "end_time": "2022-09-24T03:45:52.114835",
     "exception": false,
     "start_time": "2022-09-24T03:45:52.103627",
     "status": "completed"
    },
    "tags": []
   },
   "outputs": [],
   "source": []
  },
  {
   "cell_type": "code",
   "execution_count": null,
   "id": "appreciated-diamond",
   "metadata": {
    "papermill": {
     "duration": 0.011165,
     "end_time": "2022-09-24T03:45:52.137398",
     "exception": false,
     "start_time": "2022-09-24T03:45:52.126233",
     "status": "completed"
    },
    "tags": []
   },
   "outputs": [],
   "source": []
  },
  {
   "cell_type": "code",
   "execution_count": null,
   "id": "romance-sweden",
   "metadata": {
    "papermill": {
     "duration": 0.011166,
     "end_time": "2022-09-24T03:45:52.159670",
     "exception": false,
     "start_time": "2022-09-24T03:45:52.148504",
     "status": "completed"
    },
    "tags": []
   },
   "outputs": [],
   "source": []
  },
  {
   "cell_type": "code",
   "execution_count": null,
   "id": "dietary-statistics",
   "metadata": {
    "papermill": {
     "duration": 0.011197,
     "end_time": "2022-09-24T03:45:52.182107",
     "exception": false,
     "start_time": "2022-09-24T03:45:52.170910",
     "status": "completed"
    },
    "tags": []
   },
   "outputs": [],
   "source": []
  }
 ],
 "metadata": {
  "kernelspec": {
   "display_name": "Python 3",
   "language": "python",
   "name": "python3"
  },
  "language_info": {
   "codemirror_mode": {
    "name": "ipython",
    "version": 3
   },
   "file_extension": ".py",
   "mimetype": "text/x-python",
   "name": "python",
   "nbconvert_exporter": "python",
   "pygments_lexer": "ipython3",
   "version": "3.6.15"
  },
  "papermill": {
   "default_parameters": {},
   "duration": 13.709144,
   "end_time": "2022-09-24T03:45:52.714203",
   "environment_variables": {},
   "exception": null,
   "input_path": "Market-News.ipynb",
   "output_path": "Market-News.ipynb",
   "parameters": {},
   "start_time": "2022-09-24T03:45:39.005059",
   "version": "2.2.2"
  }
 },
 "nbformat": 4,
 "nbformat_minor": 5
}