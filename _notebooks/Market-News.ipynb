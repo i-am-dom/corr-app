{
 "cells": [
  {
   "cell_type": "markdown",
   "id": "short-greensboro",
   "metadata": {
    "papermill": {
     "duration": 0.015551,
     "end_time": "2021-09-06T02:03:20.146140",
     "exception": false,
     "start_time": "2021-09-06T02:03:20.130589",
     "status": "completed"
    },
    "tags": []
   },
   "source": [
    "# Kriptovaliutų naujienos"
   ]
  },
  {
   "cell_type": "code",
   "execution_count": 1,
   "id": "functioning-knowing",
   "metadata": {
    "execution": {
     "iopub.execute_input": "2021-09-06T02:03:20.181242Z",
     "iopub.status.busy": "2021-09-06T02:03:20.178101Z",
     "iopub.status.idle": "2021-09-06T02:03:21.623633Z",
     "shell.execute_reply": "2021-09-06T02:03:21.623064Z"
    },
    "papermill": {
     "duration": 1.464718,
     "end_time": "2021-09-06T02:03:21.623790",
     "exception": false,
     "start_time": "2021-09-06T02:03:20.159072",
     "status": "completed"
    },
    "tags": []
   },
   "outputs": [],
   "source": [
    "#hide_input\n",
    "import warnings\n",
    "warnings.filterwarnings('ignore')\n",
    "from scripts.read_data import read_api\n",
    "from scripts.read_data import read_news\n",
    "from scripts.read_data import read_covid\n",
    "import matplotlib.pyplot as plt \n",
    "from IPython.display import Markdown as md"
   ]
  },
  {
   "cell_type": "code",
   "execution_count": 2,
   "id": "shared-acceptance",
   "metadata": {
    "execution": {
     "iopub.execute_input": "2021-09-06T02:03:21.655622Z",
     "iopub.status.busy": "2021-09-06T02:03:21.654950Z",
     "iopub.status.idle": "2021-09-06T02:03:31.162308Z",
     "shell.execute_reply": "2021-09-06T02:03:31.161615Z"
    },
    "papermill": {
     "duration": 9.525681,
     "end_time": "2021-09-06T02:03:31.162470",
     "exception": false,
     "start_time": "2021-09-06T02:03:21.636789",
     "status": "completed"
    },
    "tags": []
   },
   "outputs": [],
   "source": [
    "#hide_input\n",
    "blockchain = read_news('blockchain') \n",
    "btc = read_news('btc') \n",
    "xrp = read_news('xrp') \n",
    "trx = read_news('trx') \n",
    "eth = read_news('eth')  \n",
    "ada = read_news('ada')\n",
    "exchange = read_news('exchange') "
   ]
  },
  {
   "cell_type": "code",
   "execution_count": 3,
   "id": "synthetic-notion",
   "metadata": {
    "execution": {
     "iopub.execute_input": "2021-09-06T02:03:31.195096Z",
     "iopub.status.busy": "2021-09-06T02:03:31.194464Z",
     "iopub.status.idle": "2021-09-06T02:03:31.197861Z",
     "shell.execute_reply": "2021-09-06T02:03:31.197267Z"
    },
    "papermill": {
     "duration": 0.021079,
     "end_time": "2021-09-06T02:03:31.197982",
     "exception": false,
     "start_time": "2021-09-06T02:03:31.176903",
     "status": "completed"
    },
    "tags": []
   },
   "outputs": [
    {
     "data": {
      "text/markdown": [
       "- Ethereum Software Client Geth Issues Hotfix To Tighten Security.  Geth, the most renowned software client of Ethereum, has provided a hotfix to the threatening security challenges in its code. The news was posted on Tuesday at 07:08 UTC to GitHub. However, the details of the terms were not disclosed immediately. The release is titled Hades Gamma (V1.10.8); it was posted to Ethereum GitHub on Tuesday at about 07:08 UTC. According to one of the posts on the release page, it didn&#8217;t disclose the details of the vectors, including their fixes. This would have allowed the dependent downstream projects and node operators to update their software and nodes. Related Reading &#124; Bittrex Global CEO Declares Dubai Will Gain Benefit From Cryptocurrency Market Expansion A report from Ethernodes.org states that close to 75% of all the nodes on the Ethereum blockchain run Geth. Therefore, these users are advised to upgrade to Geth V.1.10.8, the updated version, immediately. Guido Vraken Discovering The Bug In Ethereum A software developer Guido Vraken announced on August 18th that he had discovered the bug. Guido Vraken is a scientist who specializes in discovering open-source software code vulnerabilities. He is also interested in scientific works, product development and validation, regulatory matters, and teaching. Guido Vraken is a graduate of the University of Ghent and a volunteer at Natuurpunt. As stated earlier in the GitHub security advisory post, Geth&#8217;s vulnerability can make a node ... ... [| Skaityti daugiau](https://www.newsbtc.com/news/ethereum/ethereum-client-tightens-security/) "
      ],
      "text/plain": [
       "<IPython.core.display.Markdown object>"
      ]
     },
     "execution_count": 3,
     "metadata": {},
     "output_type": "execute_result"
    }
   ],
   "source": [
    "#hide_input\n",
    "#md('##### {}'.format(titleBTC)) \n",
    "md(\"- {}{} {}{} [| Skaityti daugiau]({}) \".format(blockchain['title'],'. ', blockchain['body'], ' ...', blockchain['url']))"
   ]
  },
  {
   "cell_type": "code",
   "execution_count": 4,
   "id": "aging-caution",
   "metadata": {
    "execution": {
     "iopub.execute_input": "2021-09-06T02:03:31.228376Z",
     "iopub.status.busy": "2021-09-06T02:03:31.227669Z",
     "iopub.status.idle": "2021-09-06T02:03:31.231175Z",
     "shell.execute_reply": "2021-09-06T02:03:31.230525Z"
    },
    "papermill": {
     "duration": 0.021817,
     "end_time": "2021-09-06T02:03:31.231305",
     "exception": false,
     "start_time": "2021-09-06T02:03:31.209488",
     "status": "completed"
    },
    "tags": []
   },
   "outputs": [
    {
     "data": {
      "text/markdown": [
       "- Why it is ‘ridiculously hard’ to use Bitcoin, other cryptocurrencies.  As the Cardano testnet went up and developers began reporting challenges, founder Charles Hoskinson live streamed yet another energetic video. In an hour, he took users through the extended unspent transaction outputs [eUTXO] system and spoke about Cardano&#8217;s trajectory. However, the video raised questions about the Cardano user experience and its accessibility. Community Struggles In the [&#8230;] ... [| Skaityti daugiau](https://ambcrypto.com/why-it-is-ridiculously-hard-to-use-bitcoin-other-cryptocurrencies/) "
      ],
      "text/plain": [
       "<IPython.core.display.Markdown object>"
      ]
     },
     "execution_count": 4,
     "metadata": {},
     "output_type": "execute_result"
    }
   ],
   "source": [
    "#hide_input\n",
    "#md('##### {}'.format(titleBTC)) \n",
    "md(\"- {}{} {}{} [| Skaityti daugiau]({}) \".format(btc['title'],'. ', btc['body'], ' ...', btc['url']))"
   ]
  },
  {
   "cell_type": "code",
   "execution_count": 5,
   "id": "organic-actress",
   "metadata": {
    "execution": {
     "iopub.execute_input": "2021-09-06T02:03:31.263130Z",
     "iopub.status.busy": "2021-09-06T02:03:31.262432Z",
     "iopub.status.idle": "2021-09-06T02:03:31.264870Z",
     "shell.execute_reply": "2021-09-06T02:03:31.265409Z"
    },
    "papermill": {
     "duration": 0.021095,
     "end_time": "2021-09-06T02:03:31.265541",
     "exception": false,
     "start_time": "2021-09-06T02:03:31.244446",
     "status": "completed"
    },
    "tags": []
   },
   "outputs": [
    {
     "data": {
      "text/markdown": [
       "- Attorney Hints The Documents SEC’s Refusing To Turn Over Could Potentially End Legal Scuffle With Ripple.  Further developments in the case between the SEC and Ripple have led to renewed confidence that a conclusion may soon be reached. The long-awaited hearing on Ripple&#8217;s motion for a discovery conference regarding the SEC&#8217;s improper assertion of the Deliberative Process Privilege (DPP) was held a few days ago. In early June, Ripple filed a [&#8230;] ... [| Skaityti daugiau](https://zycrypto.com/attorney-hints-the-documents-secs-refusing-to-turn-over-could-potentially-end-legal-scuffle-with-ripple/) "
      ],
      "text/plain": [
       "<IPython.core.display.Markdown object>"
      ]
     },
     "execution_count": 5,
     "metadata": {},
     "output_type": "execute_result"
    }
   ],
   "source": [
    "#hide_input\n",
    "#md('##### {}'.format(titleBTC)) \n",
    "md(\"- {}{} {}{} [| Skaityti daugiau]({}) \".format(xrp['title'],'. ', xrp['body'], ' ...', xrp['url']))"
   ]
  },
  {
   "cell_type": "code",
   "execution_count": 6,
   "id": "prompt-farmer",
   "metadata": {
    "execution": {
     "iopub.execute_input": "2021-09-06T02:03:31.296889Z",
     "iopub.status.busy": "2021-09-06T02:03:31.296276Z",
     "iopub.status.idle": "2021-09-06T02:03:31.299012Z",
     "shell.execute_reply": "2021-09-06T02:03:31.299523Z"
    },
    "papermill": {
     "duration": 0.021391,
     "end_time": "2021-09-06T02:03:31.299654",
     "exception": false,
     "start_time": "2021-09-06T02:03:31.278263",
     "status": "completed"
    },
    "tags": []
   },
   "outputs": [
    {
     "data": {
      "text/markdown": [
       "- Cardano, Tron, EOS Price Analysis: 05 September.  As the larger market witnessed minor corrections, Cardano declined by 1.4% and inched closer to $2.66, while mostly flashing consolidated price movement. Tron was sandwiched between a close trading range of $0.104 and $0.102. EOS, conversely, gained 5.6% over the last 24 hours and traded near its multi-month high of $5.89. Cardano (ADA) ADA declined [&#8230;] ... [| Skaityti daugiau](https://ambcrypto.com/cardano-tron-eos-price-analysis-05-september/) "
      ],
      "text/plain": [
       "<IPython.core.display.Markdown object>"
      ]
     },
     "execution_count": 6,
     "metadata": {},
     "output_type": "execute_result"
    }
   ],
   "source": [
    "#hide_input\n",
    "#md('##### {}'.format(titleBTC)) \n",
    "md(\"- {}{} {}{} [| Skaityti daugiau]({}) \".format(trx['title'],'. ', trx['body'], ' ...', trx['url']))"
   ]
  },
  {
   "cell_type": "code",
   "execution_count": 7,
   "id": "illegal-greece",
   "metadata": {
    "execution": {
     "iopub.execute_input": "2021-09-06T02:03:31.331340Z",
     "iopub.status.busy": "2021-09-06T02:03:31.330698Z",
     "iopub.status.idle": "2021-09-06T02:03:31.334547Z",
     "shell.execute_reply": "2021-09-06T02:03:31.333970Z"
    },
    "papermill": {
     "duration": 0.023082,
     "end_time": "2021-09-06T02:03:31.334684",
     "exception": false,
     "start_time": "2021-09-06T02:03:31.311602",
     "status": "completed"
    },
    "tags": []
   },
   "outputs": [
    {
     "data": {
      "text/markdown": [
       "- Huobi Ventures: iSwap launches 3-second cross-chain transactions.  iSwap (www.iswap.com), a cross-chain transaction platform, launched officially today. iSwap has added support for 3 additional chains: Polygon, Ethereum, and OKExChain, in addition to its previous coverage of the BSC and HECO chains. Backed by Huobi Ventures, iSwap is the first solution of its kind to initiate and complete secure, low-fee cross-chain transactions in seconds. [&#8230;] ... [| Skaityti daugiau](https://ambcrypto.com/huobi-ventures-iswap-launches-3-second-cross-chain-transactions/) "
      ],
      "text/plain": [
       "<IPython.core.display.Markdown object>"
      ]
     },
     "execution_count": 7,
     "metadata": {},
     "output_type": "execute_result"
    }
   ],
   "source": [
    "#hide_input\n",
    "#md('##### {}'.format(titleBTC)) \n",
    "md(\"- {}{} {}{} [| Skaityti daugiau]({}) \".format(eth['title'],'. ', eth['body'], ' ...', eth['url']))"
   ]
  },
  {
   "cell_type": "code",
   "execution_count": 8,
   "id": "sublime-lounge",
   "metadata": {
    "execution": {
     "iopub.execute_input": "2021-09-06T02:03:31.368324Z",
     "iopub.status.busy": "2021-09-06T02:03:31.367623Z",
     "iopub.status.idle": "2021-09-06T02:03:31.370202Z",
     "shell.execute_reply": "2021-09-06T02:03:31.370820Z"
    },
    "papermill": {
     "duration": 0.023569,
     "end_time": "2021-09-06T02:03:31.370981",
     "exception": false,
     "start_time": "2021-09-06T02:03:31.347412",
     "status": "completed"
    },
    "tags": []
   },
   "outputs": [
    {
     "data": {
      "text/markdown": [
       "- Why it is ‘ridiculously hard’ to use Bitcoin, other cryptocurrencies.  As the Cardano testnet went up and developers began reporting challenges, founder Charles Hoskinson live streamed yet another energetic video. In an hour, he took users through the extended unspent transaction outputs [eUTXO] system and spoke about Cardano&#8217;s trajectory. However, the video raised questions about the Cardano user experience and its accessibility. Community Struggles In the [&#8230;] ... [| Skaityti daugiau](https://ambcrypto.com/why-it-is-ridiculously-hard-to-use-bitcoin-other-cryptocurrencies/) "
      ],
      "text/plain": [
       "<IPython.core.display.Markdown object>"
      ]
     },
     "execution_count": 8,
     "metadata": {},
     "output_type": "execute_result"
    }
   ],
   "source": [
    "#hide_input\n",
    "#md('##### {}'.format(titleBTC)) \n",
    "md(\"- {}{} {}{} [| Skaityti daugiau]({}) \".format(ada['title'],'. ', ada['body'], ' ...', ada['url']))"
   ]
  },
  {
   "cell_type": "code",
   "execution_count": 9,
   "id": "specified-ordering",
   "metadata": {
    "execution": {
     "iopub.execute_input": "2021-09-06T02:03:31.405080Z",
     "iopub.status.busy": "2021-09-06T02:03:31.404441Z",
     "iopub.status.idle": "2021-09-06T02:03:31.407688Z",
     "shell.execute_reply": "2021-09-06T02:03:31.407038Z"
    },
    "papermill": {
     "duration": 0.021553,
     "end_time": "2021-09-06T02:03:31.407802",
     "exception": false,
     "start_time": "2021-09-06T02:03:31.386249",
     "status": "completed"
    },
    "tags": []
   },
   "outputs": [
    {
     "data": {
      "text/markdown": [
       "- Crypto Exchange Binance Ceases Trading in Singapore Dollars to Comply With Regulations.  Cryptocurrency exchange Binance has announced that it will cease offering trading pairs and payment options in Singapore dollars to remain compliant with the country&#x2019;s regulators. The announcement followed a notice issued by the Monetary Authority of Singapore (MAS) stating that Binance &#x201C;may be in breach of the Payment Services Act.&#x201D; Binance Complying With Singapore&#x2019;s Regulations [&#8230;] ... [| Skaityti daugiau](https://news.bitcoin.com/crypto-exchange-binance-ceases-trading-in-singapore-dollars-to-comply-with-regulations/) "
      ],
      "text/plain": [
       "<IPython.core.display.Markdown object>"
      ]
     },
     "execution_count": 9,
     "metadata": {},
     "output_type": "execute_result"
    }
   ],
   "source": [
    "#hide_input\n",
    "#md('##### {}'.format(titleBTC)) \n",
    "md(\"- {}{} {}{} [| Skaityti daugiau]({}) \".format(exchange['title'],'. ', exchange['body'], ' ...', exchange['url']))"
   ]
  },
  {
   "cell_type": "code",
   "execution_count": null,
   "id": "tender-livestock",
   "metadata": {
    "papermill": {
     "duration": 0.014193,
     "end_time": "2021-09-06T02:03:31.436667",
     "exception": false,
     "start_time": "2021-09-06T02:03:31.422474",
     "status": "completed"
    },
    "tags": []
   },
   "outputs": [],
   "source": []
  },
  {
   "cell_type": "code",
   "execution_count": null,
   "id": "appreciated-diamond",
   "metadata": {
    "papermill": {
     "duration": 0.014377,
     "end_time": "2021-09-06T02:03:31.464765",
     "exception": false,
     "start_time": "2021-09-06T02:03:31.450388",
     "status": "completed"
    },
    "tags": []
   },
   "outputs": [],
   "source": []
  },
  {
   "cell_type": "code",
   "execution_count": null,
   "id": "romance-sweden",
   "metadata": {
    "papermill": {
     "duration": 0.013709,
     "end_time": "2021-09-06T02:03:31.492320",
     "exception": false,
     "start_time": "2021-09-06T02:03:31.478611",
     "status": "completed"
    },
    "tags": []
   },
   "outputs": [],
   "source": []
  },
  {
   "cell_type": "code",
   "execution_count": null,
   "id": "dietary-statistics",
   "metadata": {
    "papermill": {
     "duration": 0.015156,
     "end_time": "2021-09-06T02:03:31.521694",
     "exception": false,
     "start_time": "2021-09-06T02:03:31.506538",
     "status": "completed"
    },
    "tags": []
   },
   "outputs": [],
   "source": []
  }
 ],
 "metadata": {
  "kernelspec": {
   "display_name": "Python 3",
   "language": "python",
   "name": "python3"
  },
  "language_info": {
   "codemirror_mode": {
    "name": "ipython",
    "version": 3
   },
   "file_extension": ".py",
   "mimetype": "text/x-python",
   "name": "python",
   "nbconvert_exporter": "python",
   "pygments_lexer": "ipython3",
   "version": "3.6.14"
  },
  "papermill": {
   "default_parameters": {},
   "duration": 13.017619,
   "end_time": "2021-09-06T02:03:32.044796",
   "environment_variables": {},
   "exception": null,
   "input_path": "Market-News.ipynb",
   "output_path": "Market-News.ipynb",
   "parameters": {},
   "start_time": "2021-09-06T02:03:19.027177",
   "version": "2.2.2"
  }
 },
 "nbformat": 4,
 "nbformat_minor": 5
}