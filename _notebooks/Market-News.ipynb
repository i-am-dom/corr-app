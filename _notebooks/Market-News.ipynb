{
 "cells": [
  {
   "cell_type": "markdown",
   "id": "short-greensboro",
   "metadata": {
    "papermill": {
     "duration": 0.014173,
     "end_time": "2022-01-06T02:14:53.000619",
     "exception": false,
     "start_time": "2022-01-06T02:14:52.986446",
     "status": "completed"
    },
    "tags": []
   },
   "source": [
    "# Kriptovaliutų naujienos"
   ]
  },
  {
   "cell_type": "code",
   "execution_count": 1,
   "id": "functioning-knowing",
   "metadata": {
    "execution": {
     "iopub.execute_input": "2022-01-06T02:14:53.030616Z",
     "iopub.status.busy": "2022-01-06T02:14:53.030072Z",
     "iopub.status.idle": "2022-01-06T02:14:54.315480Z",
     "shell.execute_reply": "2022-01-06T02:14:54.314893Z"
    },
    "papermill": {
     "duration": 1.305345,
     "end_time": "2022-01-06T02:14:54.315644",
     "exception": false,
     "start_time": "2022-01-06T02:14:53.010299",
     "status": "completed"
    },
    "tags": []
   },
   "outputs": [],
   "source": [
    "#hide_input\n",
    "import warnings\n",
    "warnings.filterwarnings('ignore')\n",
    "from scripts.read_data import read_api\n",
    "from scripts.read_data import read_news\n",
    "from scripts.read_data import read_covid\n",
    "import matplotlib.pyplot as plt \n",
    "from IPython.display import Markdown as md"
   ]
  },
  {
   "cell_type": "code",
   "execution_count": 2,
   "id": "shared-acceptance",
   "metadata": {
    "execution": {
     "iopub.execute_input": "2022-01-06T02:14:54.341117Z",
     "iopub.status.busy": "2022-01-06T02:14:54.340597Z",
     "iopub.status.idle": "2022-01-06T02:15:03.329711Z",
     "shell.execute_reply": "2022-01-06T02:15:03.329159Z"
    },
    "papermill": {
     "duration": 9.004525,
     "end_time": "2022-01-06T02:15:03.329857",
     "exception": false,
     "start_time": "2022-01-06T02:14:54.325332",
     "status": "completed"
    },
    "tags": []
   },
   "outputs": [],
   "source": [
    "#hide_input\n",
    "blockchain = read_news('blockchain') \n",
    "btc = read_news('btc') \n",
    "xrp = read_news('xrp') \n",
    "trx = read_news('trx') \n",
    "eth = read_news('eth')  \n",
    "ada = read_news('ada')\n",
    "exchange = read_news('exchange') "
   ]
  },
  {
   "cell_type": "code",
   "execution_count": 3,
   "id": "synthetic-notion",
   "metadata": {
    "execution": {
     "iopub.execute_input": "2022-01-06T02:15:03.356445Z",
     "iopub.status.busy": "2022-01-06T02:15:03.355904Z",
     "iopub.status.idle": "2022-01-06T02:15:03.358039Z",
     "shell.execute_reply": "2022-01-06T02:15:03.358477Z"
    },
    "papermill": {
     "duration": 0.018153,
     "end_time": "2022-01-06T02:15:03.358610",
     "exception": false,
     "start_time": "2022-01-06T02:15:03.340457",
     "status": "completed"
    },
    "tags": []
   },
   "outputs": [
    {
     "data": {
      "text/markdown": [
       "- Cardano-Powered Platform Chosen by Samsung for New Environmental Initiative.  South Korean electronics giant Samsung says it has chosen a platform built on Cardano (ADA) for a new tree-planting initiative. In a new press release, Samsung details how it will be teaming up with veritree, a Cardano-based project that allows users to donate their ADA tokens to plant trees as a means of combating climate [&#8230;]The post Cardano-Powered Platform Chosen by Samsung for New Environmental Initiative appeared first on The Daily Hodl. ... [| Skaityti daugiau](https://dailyhodl.com/2022/01/05/cardano-powered-platform-chosen-by-samsung-for-new-environmental-initiative/) "
      ],
      "text/plain": [
       "<IPython.core.display.Markdown object>"
      ]
     },
     "execution_count": 3,
     "metadata": {},
     "output_type": "execute_result"
    }
   ],
   "source": [
    "#hide_input\n",
    "#md('##### {}'.format(titleBTC)) \n",
    "md(\"- {}{} {}{} [| Skaityti daugiau]({}) \".format(blockchain['title'],'. ', blockchain['body'], ' ...', blockchain['url']))"
   ]
  },
  {
   "cell_type": "code",
   "execution_count": 4,
   "id": "aging-caution",
   "metadata": {
    "execution": {
     "iopub.execute_input": "2022-01-06T02:15:03.382338Z",
     "iopub.status.busy": "2022-01-06T02:15:03.381747Z",
     "iopub.status.idle": "2022-01-06T02:15:03.383879Z",
     "shell.execute_reply": "2022-01-06T02:15:03.384410Z"
    },
    "papermill": {
     "duration": 0.016541,
     "end_time": "2022-01-06T02:15:03.384549",
     "exception": false,
     "start_time": "2022-01-06T02:15:03.368008",
     "status": "completed"
    },
    "tags": []
   },
   "outputs": [
    {
     "data": {
      "text/markdown": [
       "- Bitcoin Falls 5% as Fed Confirms Interest Rate Hikes.   ... [| Skaityti daugiau](https://cryptobriefing.com/bitcoin-falls-5-as-fed-confirms-interest-rate-hikes/?utm_source=main_feed&utm_medium=rss) "
      ],
      "text/plain": [
       "<IPython.core.display.Markdown object>"
      ]
     },
     "execution_count": 4,
     "metadata": {},
     "output_type": "execute_result"
    }
   ],
   "source": [
    "#hide_input\n",
    "#md('##### {}'.format(titleBTC)) \n",
    "md(\"- {}{} {}{} [| Skaityti daugiau]({}) \".format(btc['title'],'. ', btc['body'], ' ...', btc['url']))"
   ]
  },
  {
   "cell_type": "code",
   "execution_count": 5,
   "id": "organic-actress",
   "metadata": {
    "execution": {
     "iopub.execute_input": "2022-01-06T02:15:03.408797Z",
     "iopub.status.busy": "2022-01-06T02:15:03.408292Z",
     "iopub.status.idle": "2022-01-06T02:15:03.412011Z",
     "shell.execute_reply": "2022-01-06T02:15:03.412394Z"
    },
    "papermill": {
     "duration": 0.018126,
     "end_time": "2022-01-06T02:15:03.412520",
     "exception": false,
     "start_time": "2022-01-06T02:15:03.394394",
     "status": "completed"
    },
    "tags": []
   },
   "outputs": [
    {
     "data": {
      "text/markdown": [
       "- Price analysis 1/5: BTC, ETH, BNB, SOL, ADA, XRP, LUNA, DOT, AVAX, DOGE.  Technical analysis and on-chain data hint that Bitcoin is gearing up for a volatile move and traders expect altcoins to follow. ... [| Skaityti daugiau](https://cointelegraph.com/news/price-analysis-1-5-btc-eth-bnb-sol-ada-xrp-luna-dot-avax-doge) "
      ],
      "text/plain": [
       "<IPython.core.display.Markdown object>"
      ]
     },
     "execution_count": 5,
     "metadata": {},
     "output_type": "execute_result"
    }
   ],
   "source": [
    "#hide_input\n",
    "#md('##### {}'.format(titleBTC)) \n",
    "md(\"- {}{} {}{} [| Skaityti daugiau]({}) \".format(xrp['title'],'. ', xrp['body'], ' ...', xrp['url']))"
   ]
  },
  {
   "cell_type": "code",
   "execution_count": 6,
   "id": "prompt-farmer",
   "metadata": {
    "execution": {
     "iopub.execute_input": "2022-01-06T02:15:03.437110Z",
     "iopub.status.busy": "2022-01-06T02:15:03.436534Z",
     "iopub.status.idle": "2022-01-06T02:15:03.438793Z",
     "shell.execute_reply": "2022-01-06T02:15:03.439291Z"
    },
    "papermill": {
     "duration": 0.017051,
     "end_time": "2022-01-06T02:15:03.439408",
     "exception": false,
     "start_time": "2022-01-06T02:15:03.422357",
     "status": "completed"
    },
    "tags": []
   },
   "outputs": [
    {
     "data": {
      "text/markdown": [
       "- Tron (TRX) Price Analysis: Risk of More Losses Below $0.07.  Tron price started a fresh decline from the $0.0825 resistance against the US Dollar. TRX price is now trading below $0.0800 and near the 55 simple moving average (4-hours). There is a major bearish trend line forming with resistance near $0.0780 on the 4-hours chart (data feed via Bitfinex). The pair could start a major...The post Tron (TRX) Price Analysis: Risk of More Losses Below $0.07 appeared first on Live Bitcoin News. ... [| Skaityti daugiau](https://www.livebitcoinnews.com/tron-trx-price-analysis-risk-of-more-losses-below-0-07/) "
      ],
      "text/plain": [
       "<IPython.core.display.Markdown object>"
      ]
     },
     "execution_count": 6,
     "metadata": {},
     "output_type": "execute_result"
    }
   ],
   "source": [
    "#hide_input\n",
    "#md('##### {}'.format(titleBTC)) \n",
    "md(\"- {}{} {}{} [| Skaityti daugiau]({}) \".format(trx['title'],'. ', trx['body'], ' ...', trx['url']))"
   ]
  },
  {
   "cell_type": "code",
   "execution_count": 7,
   "id": "illegal-greece",
   "metadata": {
    "execution": {
     "iopub.execute_input": "2022-01-06T02:15:03.464470Z",
     "iopub.status.busy": "2022-01-06T02:15:03.463970Z",
     "iopub.status.idle": "2022-01-06T02:15:03.466752Z",
     "shell.execute_reply": "2022-01-06T02:15:03.467158Z"
    },
    "papermill": {
     "duration": 0.017538,
     "end_time": "2022-01-06T02:15:03.467283",
     "exception": false,
     "start_time": "2022-01-06T02:15:03.449745",
     "status": "completed"
    },
    "tags": []
   },
   "outputs": [
    {
     "data": {
      "text/markdown": [
       "- Mozilla Co-Founder Blasts Crypto Donors as 'Planet-Incinerating Ponzi Grifters'.  Mozilla co-founder Jamie Zawinski took to Twitter on Saturday to criticize the foundation for accepting donations in Dogecoin and other crypto. ... [| Skaityti daugiau](https://decrypt.co/89838/mozilla-co-founder-crypto-planet-incinerating-ponzi-grifters) "
      ],
      "text/plain": [
       "<IPython.core.display.Markdown object>"
      ]
     },
     "execution_count": 7,
     "metadata": {},
     "output_type": "execute_result"
    }
   ],
   "source": [
    "#hide_input\n",
    "#md('##### {}'.format(titleBTC)) \n",
    "md(\"- {}{} {}{} [| Skaityti daugiau]({}) \".format(eth['title'],'. ', eth['body'], ' ...', eth['url']))"
   ]
  },
  {
   "cell_type": "code",
   "execution_count": 8,
   "id": "sublime-lounge",
   "metadata": {
    "execution": {
     "iopub.execute_input": "2022-01-06T02:15:03.492797Z",
     "iopub.status.busy": "2022-01-06T02:15:03.491668Z",
     "iopub.status.idle": "2022-01-06T02:15:03.495444Z",
     "shell.execute_reply": "2022-01-06T02:15:03.495872Z"
    },
    "papermill": {
     "duration": 0.018264,
     "end_time": "2022-01-06T02:15:03.495997",
     "exception": false,
     "start_time": "2022-01-06T02:15:03.477733",
     "status": "completed"
    },
    "tags": []
   },
   "outputs": [
    {
     "data": {
      "text/markdown": [
       "- Cardano-Powered Platform Chosen by Samsung for New Environmental Initiative.  South Korean electronics giant Samsung says it has chosen a platform built on Cardano (ADA) for a new tree-planting initiative. In a new press release, Samsung details how it will be teaming up with veritree, a Cardano-based project that allows users to donate their ADA tokens to plant trees as a means of combating climate [&#8230;]The post Cardano-Powered Platform Chosen by Samsung for New Environmental Initiative appeared first on The Daily Hodl. ... [| Skaityti daugiau](https://dailyhodl.com/2022/01/05/cardano-powered-platform-chosen-by-samsung-for-new-environmental-initiative/) "
      ],
      "text/plain": [
       "<IPython.core.display.Markdown object>"
      ]
     },
     "execution_count": 8,
     "metadata": {},
     "output_type": "execute_result"
    }
   ],
   "source": [
    "#hide_input\n",
    "#md('##### {}'.format(titleBTC)) \n",
    "md(\"- {}{} {}{} [| Skaityti daugiau]({}) \".format(ada['title'],'. ', ada['body'], ' ...', ada['url']))"
   ]
  },
  {
   "cell_type": "code",
   "execution_count": 9,
   "id": "specified-ordering",
   "metadata": {
    "execution": {
     "iopub.execute_input": "2022-01-06T02:15:03.522311Z",
     "iopub.status.busy": "2022-01-06T02:15:03.521806Z",
     "iopub.status.idle": "2022-01-06T02:15:03.524256Z",
     "shell.execute_reply": "2022-01-06T02:15:03.524693Z"
    },
    "papermill": {
     "duration": 0.018018,
     "end_time": "2022-01-06T02:15:03.524816",
     "exception": false,
     "start_time": "2022-01-06T02:15:03.506798",
     "status": "completed"
    },
    "tags": []
   },
   "outputs": [
    {
     "data": {
      "text/markdown": [
       "- ParaSwap Founder Embroiled in Controversial Exchange.   ... [| Skaityti daugiau](https://cryptobriefing.com/paraswap-founder-embroiled-in-controversial-exchange/?utm_source=main_feed&utm_medium=rss) "
      ],
      "text/plain": [
       "<IPython.core.display.Markdown object>"
      ]
     },
     "execution_count": 9,
     "metadata": {},
     "output_type": "execute_result"
    }
   ],
   "source": [
    "#hide_input\n",
    "#md('##### {}'.format(titleBTC)) \n",
    "md(\"- {}{} {}{} [| Skaityti daugiau]({}) \".format(exchange['title'],'. ', exchange['body'], ' ...', exchange['url']))"
   ]
  },
  {
   "cell_type": "code",
   "execution_count": null,
   "id": "tender-livestock",
   "metadata": {
    "papermill": {
     "duration": 0.011019,
     "end_time": "2022-01-06T02:15:03.546958",
     "exception": false,
     "start_time": "2022-01-06T02:15:03.535939",
     "status": "completed"
    },
    "tags": []
   },
   "outputs": [],
   "source": []
  },
  {
   "cell_type": "code",
   "execution_count": null,
   "id": "appreciated-diamond",
   "metadata": {
    "papermill": {
     "duration": 0.011126,
     "end_time": "2022-01-06T02:15:03.569280",
     "exception": false,
     "start_time": "2022-01-06T02:15:03.558154",
     "status": "completed"
    },
    "tags": []
   },
   "outputs": [],
   "source": []
  },
  {
   "cell_type": "code",
   "execution_count": null,
   "id": "romance-sweden",
   "metadata": {
    "papermill": {
     "duration": 0.010952,
     "end_time": "2022-01-06T02:15:03.591319",
     "exception": false,
     "start_time": "2022-01-06T02:15:03.580367",
     "status": "completed"
    },
    "tags": []
   },
   "outputs": [],
   "source": []
  },
  {
   "cell_type": "code",
   "execution_count": null,
   "id": "dietary-statistics",
   "metadata": {
    "papermill": {
     "duration": 0.011003,
     "end_time": "2022-01-06T02:15:03.613368",
     "exception": false,
     "start_time": "2022-01-06T02:15:03.602365",
     "status": "completed"
    },
    "tags": []
   },
   "outputs": [],
   "source": []
  }
 ],
 "metadata": {
  "kernelspec": {
   "display_name": "Python 3",
   "language": "python",
   "name": "python3"
  },
  "language_info": {
   "codemirror_mode": {
    "name": "ipython",
    "version": 3
   },
   "file_extension": ".py",
   "mimetype": "text/x-python",
   "name": "python",
   "nbconvert_exporter": "python",
   "pygments_lexer": "ipython3",
   "version": "3.6.15"
  },
  "papermill": {
   "default_parameters": {},
   "duration": 12.080545,
   "end_time": "2022-01-06T02:15:04.133213",
   "environment_variables": {},
   "exception": null,
   "input_path": "Market-News.ipynb",
   "output_path": "Market-News.ipynb",
   "parameters": {},
   "start_time": "2022-01-06T02:14:52.052668",
   "version": "2.2.2"
  }
 },
 "nbformat": 4,
 "nbformat_minor": 5
}