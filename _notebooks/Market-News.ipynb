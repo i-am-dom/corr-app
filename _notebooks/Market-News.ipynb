{
 "cells": [
  {
   "cell_type": "markdown",
   "id": "short-greensboro",
   "metadata": {
    "papermill": {
     "duration": 0.018996,
     "end_time": "2021-08-01T02:06:50.908775",
     "exception": false,
     "start_time": "2021-08-01T02:06:50.889779",
     "status": "completed"
    },
    "tags": []
   },
   "source": [
    "# Kriptovaliutų naujienos"
   ]
  },
  {
   "cell_type": "code",
   "execution_count": 1,
   "id": "functioning-knowing",
   "metadata": {
    "execution": {
     "iopub.execute_input": "2021-08-01T02:06:50.938843Z",
     "iopub.status.busy": "2021-08-01T02:06:50.938214Z",
     "iopub.status.idle": "2021-08-01T02:06:52.380918Z",
     "shell.execute_reply": "2021-08-01T02:06:52.379709Z"
    },
    "papermill": {
     "duration": 1.461166,
     "end_time": "2021-08-01T02:06:52.381090",
     "exception": false,
     "start_time": "2021-08-01T02:06:50.919924",
     "status": "completed"
    },
    "tags": []
   },
   "outputs": [],
   "source": [
    "#hide_input\n",
    "import warnings\n",
    "warnings.filterwarnings('ignore')\n",
    "from scripts.read_data import read_api\n",
    "from scripts.read_data import read_news\n",
    "from scripts.read_data import read_covid\n",
    "import matplotlib.pyplot as plt \n",
    "from IPython.display import Markdown as md"
   ]
  },
  {
   "cell_type": "code",
   "execution_count": 2,
   "id": "shared-acceptance",
   "metadata": {
    "execution": {
     "iopub.execute_input": "2021-08-01T02:06:52.411406Z",
     "iopub.status.busy": "2021-08-01T02:06:52.410776Z",
     "iopub.status.idle": "2021-08-01T02:07:00.574799Z",
     "shell.execute_reply": "2021-08-01T02:07:00.573814Z"
    },
    "papermill": {
     "duration": 8.183138,
     "end_time": "2021-08-01T02:07:00.575088",
     "exception": false,
     "start_time": "2021-08-01T02:06:52.391950",
     "status": "completed"
    },
    "tags": []
   },
   "outputs": [],
   "source": [
    "#hide_input\n",
    "blockchain = read_news('blockchain') \n",
    "btc = read_news('btc') \n",
    "xrp = read_news('xrp') \n",
    "trx = read_news('trx') \n",
    "eth = read_news('eth')  \n",
    "ada = read_news('ada')\n",
    "exchange = read_news('exchange') "
   ]
  },
  {
   "cell_type": "code",
   "execution_count": 3,
   "id": "synthetic-notion",
   "metadata": {
    "execution": {
     "iopub.execute_input": "2021-08-01T02:07:00.604284Z",
     "iopub.status.busy": "2021-08-01T02:07:00.603686Z",
     "iopub.status.idle": "2021-08-01T02:07:00.606923Z",
     "shell.execute_reply": "2021-08-01T02:07:00.606419Z"
    },
    "papermill": {
     "duration": 0.020632,
     "end_time": "2021-08-01T02:07:00.607063",
     "exception": false,
     "start_time": "2021-08-01T02:07:00.586431",
     "status": "completed"
    },
    "tags": []
   },
   "outputs": [
    {
     "data": {
      "text/markdown": [
       "- How Janis Balodis’ Creation Of DEXIMUM Proves That Even The General Public Can Be Taken Over By Decentralized Finance.  In 2021, cryptocurrencies and blockchain have already captured the entire public space. They are now integrated into all spheres of life, finance, business, and attract even the most distant people from fintech and financial markets. At least, any Internet user feels this way, and this is not far from the truth. What was discussed only [&#8230;] ... [| Skaityti daugiau](https://bitcoinist.com/how-janis-balodis-creation-of-deximum-proves-that-even-the-general-public-can-be-taken-over-by-decentralized-finance/?utm_source=rss&utm_medium=rss&utm_campaign=how-janis-balodis-creation-of-deximum-proves-that-even-the-general-public-can-be-taken-over-by-decentralized-finance) "
      ],
      "text/plain": [
       "<IPython.core.display.Markdown object>"
      ]
     },
     "execution_count": 3,
     "metadata": {},
     "output_type": "execute_result"
    }
   ],
   "source": [
    "#hide_input\n",
    "#md('##### {}'.format(titleBTC)) \n",
    "md(\"- {}{} {}{} [| Skaityti daugiau]({}) \".format(blockchain['title'],'. ', blockchain['body'], ' ...', blockchain['url']))"
   ]
  },
  {
   "cell_type": "code",
   "execution_count": 4,
   "id": "aging-caution",
   "metadata": {
    "execution": {
     "iopub.execute_input": "2021-08-01T02:07:00.641779Z",
     "iopub.status.busy": "2021-08-01T02:07:00.641183Z",
     "iopub.status.idle": "2021-08-01T02:07:00.644279Z",
     "shell.execute_reply": "2021-08-01T02:07:00.643706Z"
    },
    "papermill": {
     "duration": 0.024859,
     "end_time": "2021-08-01T02:07:00.644399",
     "exception": false,
     "start_time": "2021-08-01T02:07:00.619540",
     "status": "completed"
    },
    "tags": []
   },
   "outputs": [
    {
     "data": {
      "text/markdown": [
       "- Will Crypto History Repeat? On-Chain Analyst Willy Woo Questions Conventional Wisdom on Bitcoin’s Trajectory.  Widely followed on-chain analyst Willy Woo says Bitcoin (BTC) traders shouldn&#8217;t expect the current market cycle to end up resembling the 2013 BTC bull run. In a new episode of What Bitcoin Did with Peter McCormack, Woo says the crypto space has a &#8220;cycle imprint&#8221; in which traders are looking too much at past bull [&#8230;]The post Will Crypto History Repeat? On-Chain Analyst Willy Woo Questions Conventional Wisdom on Bitcoin&#8217;s Trajectory appeared first on The Daily Hodl. ... [| Skaityti daugiau](https://dailyhodl.com/2021/07/31/will-crypto-history-repeat-on-chain-analyst-willy-woo-questions-conventional-wisdom-on-bitcoins-trajectory/) "
      ],
      "text/plain": [
       "<IPython.core.display.Markdown object>"
      ]
     },
     "execution_count": 4,
     "metadata": {},
     "output_type": "execute_result"
    }
   ],
   "source": [
    "#hide_input\n",
    "#md('##### {}'.format(titleBTC)) \n",
    "md(\"- {}{} {}{} [| Skaityti daugiau]({}) \".format(btc['title'],'. ', btc['body'], ' ...', btc['url']))"
   ]
  },
  {
   "cell_type": "code",
   "execution_count": 5,
   "id": "organic-actress",
   "metadata": {
    "execution": {
     "iopub.execute_input": "2021-08-01T02:07:00.674846Z",
     "iopub.status.busy": "2021-08-01T02:07:00.674244Z",
     "iopub.status.idle": "2021-08-01T02:07:00.677715Z",
     "shell.execute_reply": "2021-08-01T02:07:00.677221Z"
    },
    "papermill": {
     "duration": 0.020393,
     "end_time": "2021-08-01T02:07:00.677832",
     "exception": false,
     "start_time": "2021-08-01T02:07:00.657439",
     "status": "completed"
    },
    "tags": []
   },
   "outputs": [
    {
     "data": {
      "text/markdown": [
       "- XRP’s Average Daily Trading Volume Doubled to $4 Billion in Q2 Amid Heightened Volatility.  The average daily trading volume of the XRP token has surged in the second quarter of the year, despite the ongoing legal dispute involving its largest player Ripple and the U.S. Securities and Exchange Commission (SEC). According to an XRP market report published by Ripple, the daily trading volume of the cryptocurrency doubled to $4.49 […] ... [| Skaityti daugiau](https://www.cryptoglobe.com/latest/2021/08/xrps-average-daily-trading-volume-doubled-to-4-billion-in-q2-amid-heightened-volatility/) "
      ],
      "text/plain": [
       "<IPython.core.display.Markdown object>"
      ]
     },
     "execution_count": 5,
     "metadata": {},
     "output_type": "execute_result"
    }
   ],
   "source": [
    "#hide_input\n",
    "#md('##### {}'.format(titleBTC)) \n",
    "md(\"- {}{} {}{} [| Skaityti daugiau]({}) \".format(xrp['title'],'. ', xrp['body'], ' ...', xrp['url']))"
   ]
  },
  {
   "cell_type": "code",
   "execution_count": 6,
   "id": "prompt-farmer",
   "metadata": {
    "execution": {
     "iopub.execute_input": "2021-08-01T02:07:00.706101Z",
     "iopub.status.busy": "2021-08-01T02:07:00.705520Z",
     "iopub.status.idle": "2021-08-01T02:07:00.708616Z",
     "shell.execute_reply": "2021-08-01T02:07:00.708042Z"
    },
    "papermill": {
     "duration": 0.019386,
     "end_time": "2021-08-01T02:07:00.708734",
     "exception": false,
     "start_time": "2021-08-01T02:07:00.689348",
     "status": "completed"
    },
    "tags": []
   },
   "outputs": [
    {
     "data": {
      "text/markdown": [
       "- XRP, Tron, IOTA Price Analysis: 31 July.  The global crypto-market cap was at $1.67 trillion with a 3.0% increase over the last 24 hours. Most altcoins were trading in the green and noted an increase in their own market capitalizations too. XRP’s movement on the chart remained quite bullish. TRX too noted an upside, with 6% gains over the last 24 hours. [&#8230;] ... [| Skaityti daugiau](https://ambcrypto.com/xrp-tron-iota-price-analysis-31-july/) "
      ],
      "text/plain": [
       "<IPython.core.display.Markdown object>"
      ]
     },
     "execution_count": 6,
     "metadata": {},
     "output_type": "execute_result"
    }
   ],
   "source": [
    "#hide_input\n",
    "#md('##### {}'.format(titleBTC)) \n",
    "md(\"- {}{} {}{} [| Skaityti daugiau]({}) \".format(trx['title'],'. ', trx['body'], ' ...', trx['url']))"
   ]
  },
  {
   "cell_type": "code",
   "execution_count": 7,
   "id": "illegal-greece",
   "metadata": {
    "execution": {
     "iopub.execute_input": "2021-08-01T02:07:00.740219Z",
     "iopub.status.busy": "2021-08-01T02:07:00.739643Z",
     "iopub.status.idle": "2021-08-01T02:07:00.742676Z",
     "shell.execute_reply": "2021-08-01T02:07:00.742191Z"
    },
    "papermill": {
     "duration": 0.021943,
     "end_time": "2021-08-01T02:07:00.742789",
     "exception": false,
     "start_time": "2021-08-01T02:07:00.720846",
     "status": "completed"
    },
    "tags": []
   },
   "outputs": [
    {
     "data": {
      "text/markdown": [
       "- Did Ethereum’s breach of $2,400 have ANY impact on Cardano, Uniswap.  Ethereum confirmed a strong bullish signal yesterday after it closed a daily candle above $2,400. In fact, the crypto-asset crossed above its psychological resistance for the first time since 14 June. Historically, when this has happened, Ether has triggered minor altcoin rallies too. We analyzed some of the top correlated assets with Ethereum to understand [&#8230;] ... [| Skaityti daugiau](https://ambcrypto.com/did-ethereums-breach-of-2400-have-any-impact-on-cardano-uniswap/) "
      ],
      "text/plain": [
       "<IPython.core.display.Markdown object>"
      ]
     },
     "execution_count": 7,
     "metadata": {},
     "output_type": "execute_result"
    }
   ],
   "source": [
    "#hide_input\n",
    "#md('##### {}'.format(titleBTC)) \n",
    "md(\"- {}{} {}{} [| Skaityti daugiau]({}) \".format(eth['title'],'. ', eth['body'], ' ...', eth['url']))"
   ]
  },
  {
   "cell_type": "code",
   "execution_count": 8,
   "id": "sublime-lounge",
   "metadata": {
    "execution": {
     "iopub.execute_input": "2021-08-01T02:07:00.775464Z",
     "iopub.status.busy": "2021-08-01T02:07:00.774828Z",
     "iopub.status.idle": "2021-08-01T02:07:00.781914Z",
     "shell.execute_reply": "2021-08-01T02:07:00.781313Z"
    },
    "papermill": {
     "duration": 0.027009,
     "end_time": "2021-08-01T02:07:00.782041",
     "exception": false,
     "start_time": "2021-08-01T02:07:00.755032",
     "status": "completed"
    },
    "tags": []
   },
   "outputs": [
    {
     "data": {
      "text/markdown": [
       "- Did Ethereum’s breach of $2,400 have ANY impact on Cardano, Uniswap.  Ethereum confirmed a strong bullish signal yesterday after it closed a daily candle above $2,400. In fact, the crypto-asset crossed above its psychological resistance for the first time since 14 June. Historically, when this has happened, Ether has triggered minor altcoin rallies too. We analyzed some of the top correlated assets with Ethereum to understand [&#8230;] ... [| Skaityti daugiau](https://ambcrypto.com/did-ethereums-breach-of-2400-have-any-impact-on-cardano-uniswap/) "
      ],
      "text/plain": [
       "<IPython.core.display.Markdown object>"
      ]
     },
     "execution_count": 8,
     "metadata": {},
     "output_type": "execute_result"
    }
   ],
   "source": [
    "#hide_input\n",
    "#md('##### {}'.format(titleBTC)) \n",
    "md(\"- {}{} {}{} [| Skaityti daugiau]({}) \".format(ada['title'],'. ', ada['body'], ' ...', ada['url']))"
   ]
  },
  {
   "cell_type": "code",
   "execution_count": 9,
   "id": "specified-ordering",
   "metadata": {
    "execution": {
     "iopub.execute_input": "2021-08-01T02:07:00.812935Z",
     "iopub.status.busy": "2021-08-01T02:07:00.811405Z",
     "iopub.status.idle": "2021-08-01T02:07:00.815967Z",
     "shell.execute_reply": "2021-08-01T02:07:00.815499Z"
    },
    "papermill": {
     "duration": 0.0208,
     "end_time": "2021-08-01T02:07:00.816090",
     "exception": false,
     "start_time": "2021-08-01T02:07:00.795290",
     "status": "completed"
    },
    "tags": []
   },
   "outputs": [
    {
     "data": {
      "text/markdown": [
       "- XRP’s Average Daily Trading Volume Doubled to $4 Billion in Q2 Amid Heightened Volatility.  The average daily trading volume of the XRP token has surged in the second quarter of the year, despite the ongoing legal dispute involving its largest player Ripple and the U.S. Securities and Exchange Commission (SEC). According to an XRP market report published by Ripple, the daily trading volume of the cryptocurrency doubled to $4.49 […] ... [| Skaityti daugiau](https://www.cryptoglobe.com/latest/2021/08/xrps-average-daily-trading-volume-doubled-to-4-billion-in-q2-amid-heightened-volatility/) "
      ],
      "text/plain": [
       "<IPython.core.display.Markdown object>"
      ]
     },
     "execution_count": 9,
     "metadata": {},
     "output_type": "execute_result"
    }
   ],
   "source": [
    "#hide_input\n",
    "#md('##### {}'.format(titleBTC)) \n",
    "md(\"- {}{} {}{} [| Skaityti daugiau]({}) \".format(exchange['title'],'. ', exchange['body'], ' ...', exchange['url']))"
   ]
  },
  {
   "cell_type": "code",
   "execution_count": null,
   "id": "tender-livestock",
   "metadata": {
    "papermill": {
     "duration": 0.013118,
     "end_time": "2021-08-01T02:07:00.842412",
     "exception": false,
     "start_time": "2021-08-01T02:07:00.829294",
     "status": "completed"
    },
    "tags": []
   },
   "outputs": [],
   "source": []
  },
  {
   "cell_type": "code",
   "execution_count": null,
   "id": "appreciated-diamond",
   "metadata": {
    "papermill": {
     "duration": 0.012876,
     "end_time": "2021-08-01T02:07:00.868475",
     "exception": false,
     "start_time": "2021-08-01T02:07:00.855599",
     "status": "completed"
    },
    "tags": []
   },
   "outputs": [],
   "source": []
  },
  {
   "cell_type": "code",
   "execution_count": null,
   "id": "romance-sweden",
   "metadata": {
    "papermill": {
     "duration": 0.013051,
     "end_time": "2021-08-01T02:07:00.894594",
     "exception": false,
     "start_time": "2021-08-01T02:07:00.881543",
     "status": "completed"
    },
    "tags": []
   },
   "outputs": [],
   "source": []
  },
  {
   "cell_type": "code",
   "execution_count": null,
   "id": "dietary-statistics",
   "metadata": {
    "papermill": {
     "duration": 0.012995,
     "end_time": "2021-08-01T02:07:00.920840",
     "exception": false,
     "start_time": "2021-08-01T02:07:00.907845",
     "status": "completed"
    },
    "tags": []
   },
   "outputs": [],
   "source": []
  }
 ],
 "metadata": {
  "kernelspec": {
   "display_name": "Python 3",
   "language": "python",
   "name": "python3"
  },
  "language_info": {
   "codemirror_mode": {
    "name": "ipython",
    "version": 3
   },
   "file_extension": ".py",
   "mimetype": "text/x-python",
   "name": "python",
   "nbconvert_exporter": "python",
   "pygments_lexer": "ipython3",
   "version": "3.6.14"
  },
  "papermill": {
   "default_parameters": {},
   "duration": 12.323586,
   "end_time": "2021-08-01T02:07:02.129568",
   "environment_variables": {},
   "exception": null,
   "input_path": "Market-News.ipynb",
   "output_path": "Market-News.ipynb",
   "parameters": {},
   "start_time": "2021-08-01T02:06:49.805982",
   "version": "2.2.2"
  }
 },
 "nbformat": 4,
 "nbformat_minor": 5
}