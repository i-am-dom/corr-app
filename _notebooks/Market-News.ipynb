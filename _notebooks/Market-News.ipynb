{
 "cells": [
  {
   "cell_type": "markdown",
   "id": "short-greensboro",
   "metadata": {
    "papermill": {
     "duration": 0.014332,
     "end_time": "2021-11-13T01:57:46.138459",
     "exception": false,
     "start_time": "2021-11-13T01:57:46.124127",
     "status": "completed"
    },
    "tags": []
   },
   "source": [
    "# Kriptovaliutų naujienos"
   ]
  },
  {
   "cell_type": "code",
   "execution_count": 1,
   "id": "functioning-knowing",
   "metadata": {
    "execution": {
     "iopub.execute_input": "2021-11-13T01:57:46.169124Z",
     "iopub.status.busy": "2021-11-13T01:57:46.168255Z",
     "iopub.status.idle": "2021-11-13T01:57:47.517169Z",
     "shell.execute_reply": "2021-11-13T01:57:47.516595Z"
    },
    "papermill": {
     "duration": 1.367612,
     "end_time": "2021-11-13T01:57:47.517380",
     "exception": false,
     "start_time": "2021-11-13T01:57:46.149768",
     "status": "completed"
    },
    "tags": []
   },
   "outputs": [],
   "source": [
    "#hide_input\n",
    "import warnings\n",
    "warnings.filterwarnings('ignore')\n",
    "from scripts.read_data import read_api\n",
    "from scripts.read_data import read_news\n",
    "from scripts.read_data import read_covid\n",
    "import matplotlib.pyplot as plt \n",
    "from IPython.display import Markdown as md"
   ]
  },
  {
   "cell_type": "code",
   "execution_count": 2,
   "id": "shared-acceptance",
   "metadata": {
    "execution": {
     "iopub.execute_input": "2021-11-13T01:57:47.547414Z",
     "iopub.status.busy": "2021-11-13T01:57:47.546723Z",
     "iopub.status.idle": "2021-11-13T01:57:56.521451Z",
     "shell.execute_reply": "2021-11-13T01:57:56.522770Z"
    },
    "papermill": {
     "duration": 8.994144,
     "end_time": "2021-11-13T01:57:56.522994",
     "exception": false,
     "start_time": "2021-11-13T01:57:47.528850",
     "status": "completed"
    },
    "tags": []
   },
   "outputs": [],
   "source": [
    "#hide_input\n",
    "blockchain = read_news('blockchain') \n",
    "btc = read_news('btc') \n",
    "xrp = read_news('xrp') \n",
    "trx = read_news('trx') \n",
    "eth = read_news('eth')  \n",
    "ada = read_news('ada')\n",
    "exchange = read_news('exchange') "
   ]
  },
  {
   "cell_type": "code",
   "execution_count": 3,
   "id": "synthetic-notion",
   "metadata": {
    "execution": {
     "iopub.execute_input": "2021-11-13T01:57:56.557150Z",
     "iopub.status.busy": "2021-11-13T01:57:56.556612Z",
     "iopub.status.idle": "2021-11-13T01:57:56.561181Z",
     "shell.execute_reply": "2021-11-13T01:57:56.561610Z"
    },
    "papermill": {
     "duration": 0.02198,
     "end_time": "2021-11-13T01:57:56.561737",
     "exception": false,
     "start_time": "2021-11-13T01:57:56.539757",
     "status": "completed"
    },
    "tags": []
   },
   "outputs": [
    {
     "data": {
      "text/markdown": [
       "- With 553% growth, Fantom is fastest growing major blockchain in DeFi since September.  Fantom (FTM) has gained almost 7,000% since the start of this year &#8212; that&#8217;s even more than the popular crypto Dogecoin (DOGE). Even though it&#8217;s currently trading in the red zone ($2.54, 4% correction), Fantom&#8217;s YTD price is still up as investors pile into various Ethereum (ETH) alternatives. Is Fantom a supercharged Ethereum? The #35 [&#8230;] ... [| Skaityti daugiau](https://ambcrypto.com/with-553-growth-fantom-among-fastest-growing-defi-blockchains-since-september/) "
      ],
      "text/plain": [
       "<IPython.core.display.Markdown object>"
      ]
     },
     "execution_count": 3,
     "metadata": {},
     "output_type": "execute_result"
    }
   ],
   "source": [
    "#hide_input\n",
    "#md('##### {}'.format(titleBTC)) \n",
    "md(\"- {}{} {}{} [| Skaityti daugiau]({}) \".format(blockchain['title'],'. ', blockchain['body'], ' ...', blockchain['url']))"
   ]
  },
  {
   "cell_type": "code",
   "execution_count": 4,
   "id": "aging-caution",
   "metadata": {
    "execution": {
     "iopub.execute_input": "2021-11-13T01:57:56.588500Z",
     "iopub.status.busy": "2021-11-13T01:57:56.587361Z",
     "iopub.status.idle": "2021-11-13T01:57:56.591833Z",
     "shell.execute_reply": "2021-11-13T01:57:56.592331Z"
    },
    "papermill": {
     "duration": 0.019373,
     "end_time": "2021-11-13T01:57:56.592450",
     "exception": false,
     "start_time": "2021-11-13T01:57:56.573077",
     "status": "completed"
    },
    "tags": []
   },
   "outputs": [
    {
     "data": {
      "text/markdown": [
       "- SEC Rejects VanEck Bitcoin Trust Spot ETF.   ... [| Skaityti daugiau](https://cryptobriefing.com/sec-rejects-vaneck-bitcoin-trust-spot-etf/?utm_source=main_feed&utm_medium=rss) "
      ],
      "text/plain": [
       "<IPython.core.display.Markdown object>"
      ]
     },
     "execution_count": 4,
     "metadata": {},
     "output_type": "execute_result"
    }
   ],
   "source": [
    "#hide_input\n",
    "#md('##### {}'.format(titleBTC)) \n",
    "md(\"- {}{} {}{} [| Skaityti daugiau]({}) \".format(btc['title'],'. ', btc['body'], ' ...', btc['url']))"
   ]
  },
  {
   "cell_type": "code",
   "execution_count": 5,
   "id": "organic-actress",
   "metadata": {
    "execution": {
     "iopub.execute_input": "2021-11-13T01:57:56.620423Z",
     "iopub.status.busy": "2021-11-13T01:57:56.619797Z",
     "iopub.status.idle": "2021-11-13T01:57:56.622979Z",
     "shell.execute_reply": "2021-11-13T01:57:56.623505Z"
    },
    "papermill": {
     "duration": 0.019861,
     "end_time": "2021-11-13T01:57:56.623621",
     "exception": false,
     "start_time": "2021-11-13T01:57:56.603760",
     "status": "completed"
    },
    "tags": []
   },
   "outputs": [
    {
     "data": {
      "text/markdown": [
       "- Sologenic Announces $300 Million Airdrop to $XRP Users Ahead of NFT Marketplace Launch.  Crypto investment platform Sologenic has announced it’s going to be developing a new non-fungible token (NFT) marketplace on the XRP Ledger that’s set to benefit users because of its low transaction fees. Ahead of the launch, it’s airdropping $250 million in tokens to XRP holders. According to a press release, the Sologenic Development Foundation is […] ... [| Skaityti daugiau](https://www.cryptoglobe.com/latest/2021/11/sologenic-announces-300-million-airdrop-to-xrp-users-ahead-of-nft-marketplace-launch/) "
      ],
      "text/plain": [
       "<IPython.core.display.Markdown object>"
      ]
     },
     "execution_count": 5,
     "metadata": {},
     "output_type": "execute_result"
    }
   ],
   "source": [
    "#hide_input\n",
    "#md('##### {}'.format(titleBTC)) \n",
    "md(\"- {}{} {}{} [| Skaityti daugiau]({}) \".format(xrp['title'],'. ', xrp['body'], ' ...', xrp['url']))"
   ]
  },
  {
   "cell_type": "code",
   "execution_count": 6,
   "id": "prompt-farmer",
   "metadata": {
    "execution": {
     "iopub.execute_input": "2021-11-13T01:57:56.653957Z",
     "iopub.status.busy": "2021-11-13T01:57:56.653015Z",
     "iopub.status.idle": "2021-11-13T01:57:56.656205Z",
     "shell.execute_reply": "2021-11-13T01:57:56.656686Z"
    },
    "papermill": {
     "duration": 0.021542,
     "end_time": "2021-11-13T01:57:56.656814",
     "exception": false,
     "start_time": "2021-11-13T01:57:56.635272",
     "status": "completed"
    },
    "tags": []
   },
   "outputs": [
    {
     "data": {
      "text/markdown": [
       "- Litecoin, Tron, MATIC Price Analysis: 12 November.  The broader crypto market did not perform well in the last 24 hours. Accordingly, altcoins like Litecoin, Tron, and MATIC declined over the past day after hitting their respective milestones. Furthermore, near-term indicators for all these cryptos pointed at decreasing bullish influence. Litecoin (LTC) LTC steadily rose by oscillating between ascending lines over the past [&#8230;] ... [| Skaityti daugiau](https://ambcrypto.com/litecoin-tron-matic-price-analysis-12-november/) "
      ],
      "text/plain": [
       "<IPython.core.display.Markdown object>"
      ]
     },
     "execution_count": 6,
     "metadata": {},
     "output_type": "execute_result"
    }
   ],
   "source": [
    "#hide_input\n",
    "#md('##### {}'.format(titleBTC)) \n",
    "md(\"- {}{} {}{} [| Skaityti daugiau]({}) \".format(trx['title'],'. ', trx['body'], ' ...', trx['url']))"
   ]
  },
  {
   "cell_type": "code",
   "execution_count": 7,
   "id": "illegal-greece",
   "metadata": {
    "execution": {
     "iopub.execute_input": "2021-11-13T01:57:56.686528Z",
     "iopub.status.busy": "2021-11-13T01:57:56.685390Z",
     "iopub.status.idle": "2021-11-13T01:57:56.690185Z",
     "shell.execute_reply": "2021-11-13T01:57:56.689695Z"
    },
    "papermill": {
     "duration": 0.021106,
     "end_time": "2021-11-13T01:57:56.690340",
     "exception": false,
     "start_time": "2021-11-13T01:57:56.669234",
     "status": "completed"
    },
    "tags": []
   },
   "outputs": [
    {
     "data": {
      "text/markdown": [
       "- With 553% growth, Fantom is fastest growing major blockchain in DeFi since September.  Fantom (FTM) has gained almost 7,000% since the start of this year &#8212; that&#8217;s even more than the popular crypto Dogecoin (DOGE). Even though it&#8217;s currently trading in the red zone ($2.54, 4% correction), Fantom&#8217;s YTD price is still up as investors pile into various Ethereum (ETH) alternatives. Is Fantom a supercharged Ethereum? The #35 [&#8230;] ... [| Skaityti daugiau](https://ambcrypto.com/with-553-growth-fantom-among-fastest-growing-defi-blockchains-since-september/) "
      ],
      "text/plain": [
       "<IPython.core.display.Markdown object>"
      ]
     },
     "execution_count": 7,
     "metadata": {},
     "output_type": "execute_result"
    }
   ],
   "source": [
    "#hide_input\n",
    "#md('##### {}'.format(titleBTC)) \n",
    "md(\"- {}{} {}{} [| Skaityti daugiau]({}) \".format(eth['title'],'. ', eth['body'], ' ...', eth['url']))"
   ]
  },
  {
   "cell_type": "code",
   "execution_count": 8,
   "id": "sublime-lounge",
   "metadata": {
    "execution": {
     "iopub.execute_input": "2021-11-13T01:57:56.721423Z",
     "iopub.status.busy": "2021-11-13T01:57:56.720827Z",
     "iopub.status.idle": "2021-11-13T01:57:56.724403Z",
     "shell.execute_reply": "2021-11-13T01:57:56.725024Z"
    },
    "papermill": {
     "duration": 0.021438,
     "end_time": "2021-11-13T01:57:56.725157",
     "exception": false,
     "start_time": "2021-11-13T01:57:56.703719",
     "status": "completed"
    },
    "tags": []
   },
   "outputs": [
    {
     "data": {
      "text/markdown": [
       "- Hoskinson ‘loves’ the 2022 roadmap for Cardano’s ‘living, growing ecosystem’.  For many people who are invested in IOHK&#8217;s Cardano network, it is more than just the function of its price. Earlier this month, Cardano Community reported about having surpassed two million ADA wallets. Focus 2022 IOHK CEO, Charles Hoskinson is also looking optimistic about how the project is coming together. He recently stated, &#8220;I&#8217;m really [&#8230;] ... [| Skaityti daugiau](https://ambcrypto.com/hoskinson-loves-the-2022-roadmap-for-cardanos-living-growing-ecosystem/) "
      ],
      "text/plain": [
       "<IPython.core.display.Markdown object>"
      ]
     },
     "execution_count": 8,
     "metadata": {},
     "output_type": "execute_result"
    }
   ],
   "source": [
    "#hide_input\n",
    "#md('##### {}'.format(titleBTC)) \n",
    "md(\"- {}{} {}{} [| Skaityti daugiau]({}) \".format(ada['title'],'. ', ada['body'], ' ...', ada['url']))"
   ]
  },
  {
   "cell_type": "code",
   "execution_count": 9,
   "id": "specified-ordering",
   "metadata": {
    "execution": {
     "iopub.execute_input": "2021-11-13T01:57:56.755822Z",
     "iopub.status.busy": "2021-11-13T01:57:56.755223Z",
     "iopub.status.idle": "2021-11-13T01:57:56.757788Z",
     "shell.execute_reply": "2021-11-13T01:57:56.758352Z"
    },
    "papermill": {
     "duration": 0.02108,
     "end_time": "2021-11-13T01:57:56.758504",
     "exception": false,
     "start_time": "2021-11-13T01:57:56.737424",
     "status": "completed"
    },
    "tags": []
   },
   "outputs": [
    {
     "data": {
      "text/markdown": [
       "- Here’s Why Dogecoin Withdrawals Are Frozen On Binance.  Dogecoin withdrawals have been frozen on the leading crypto exchange Binance. The freeze has led investors to question the exchange’s motives. But it would seem that it was a move that was made out of necessity. It is not the first time that Dogecoin investors would be having problems with exchanges and trading platforms when [&#8230;] ... [| Skaityti daugiau](https://bitcoinist.com/heres-why-dogecoin-withdrawals-are-frozen-on-binance/?utm_source=rss&utm_medium=rss&utm_campaign=heres-why-dogecoin-withdrawals-are-frozen-on-binance) "
      ],
      "text/plain": [
       "<IPython.core.display.Markdown object>"
      ]
     },
     "execution_count": 9,
     "metadata": {},
     "output_type": "execute_result"
    }
   ],
   "source": [
    "#hide_input\n",
    "#md('##### {}'.format(titleBTC)) \n",
    "md(\"- {}{} {}{} [| Skaityti daugiau]({}) \".format(exchange['title'],'. ', exchange['body'], ' ...', exchange['url']))"
   ]
  },
  {
   "cell_type": "code",
   "execution_count": null,
   "id": "tender-livestock",
   "metadata": {
    "papermill": {
     "duration": 0.013604,
     "end_time": "2021-11-13T01:57:56.785015",
     "exception": false,
     "start_time": "2021-11-13T01:57:56.771411",
     "status": "completed"
    },
    "tags": []
   },
   "outputs": [],
   "source": []
  },
  {
   "cell_type": "code",
   "execution_count": null,
   "id": "appreciated-diamond",
   "metadata": {
    "papermill": {
     "duration": 0.013349,
     "end_time": "2021-11-13T01:57:56.812192",
     "exception": false,
     "start_time": "2021-11-13T01:57:56.798843",
     "status": "completed"
    },
    "tags": []
   },
   "outputs": [],
   "source": []
  },
  {
   "cell_type": "code",
   "execution_count": null,
   "id": "romance-sweden",
   "metadata": {
    "papermill": {
     "duration": 0.011934,
     "end_time": "2021-11-13T01:57:56.837335",
     "exception": false,
     "start_time": "2021-11-13T01:57:56.825401",
     "status": "completed"
    },
    "tags": []
   },
   "outputs": [],
   "source": []
  },
  {
   "cell_type": "code",
   "execution_count": null,
   "id": "dietary-statistics",
   "metadata": {
    "papermill": {
     "duration": 0.011938,
     "end_time": "2021-11-13T01:57:56.861599",
     "exception": false,
     "start_time": "2021-11-13T01:57:56.849661",
     "status": "completed"
    },
    "tags": []
   },
   "outputs": [],
   "source": []
  }
 ],
 "metadata": {
  "kernelspec": {
   "display_name": "Python 3",
   "language": "python",
   "name": "python3"
  },
  "language_info": {
   "codemirror_mode": {
    "name": "ipython",
    "version": 3
   },
   "file_extension": ".py",
   "mimetype": "text/x-python",
   "name": "python",
   "nbconvert_exporter": "python",
   "pygments_lexer": "ipython3",
   "version": "3.6.15"
  },
  "papermill": {
   "default_parameters": {},
   "duration": 12.224483,
   "end_time": "2021-11-13T01:57:57.283714",
   "environment_variables": {},
   "exception": null,
   "input_path": "Market-News.ipynb",
   "output_path": "Market-News.ipynb",
   "parameters": {},
   "start_time": "2021-11-13T01:57:45.059231",
   "version": "2.2.2"
  }
 },
 "nbformat": 4,
 "nbformat_minor": 5
}