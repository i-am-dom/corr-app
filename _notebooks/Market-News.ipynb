{
 "cells": [
  {
   "cell_type": "markdown",
   "id": "short-greensboro",
   "metadata": {
    "papermill": {
     "duration": 0.016006,
     "end_time": "2021-09-07T01:56:12.999357",
     "exception": false,
     "start_time": "2021-09-07T01:56:12.983351",
     "status": "completed"
    },
    "tags": []
   },
   "source": [
    "# Kriptovaliutų naujienos"
   ]
  },
  {
   "cell_type": "code",
   "execution_count": 1,
   "id": "functioning-knowing",
   "metadata": {
    "execution": {
     "iopub.execute_input": "2021-09-07T01:56:13.037285Z",
     "iopub.status.busy": "2021-09-07T01:56:13.036525Z",
     "iopub.status.idle": "2021-09-07T01:56:14.473783Z",
     "shell.execute_reply": "2021-09-07T01:56:14.473016Z"
    },
    "papermill": {
     "duration": 1.463326,
     "end_time": "2021-09-07T01:56:14.473983",
     "exception": false,
     "start_time": "2021-09-07T01:56:13.010657",
     "status": "completed"
    },
    "tags": []
   },
   "outputs": [],
   "source": [
    "#hide_input\n",
    "import warnings\n",
    "warnings.filterwarnings('ignore')\n",
    "from scripts.read_data import read_api\n",
    "from scripts.read_data import read_news\n",
    "from scripts.read_data import read_covid\n",
    "import matplotlib.pyplot as plt \n",
    "from IPython.display import Markdown as md"
   ]
  },
  {
   "cell_type": "code",
   "execution_count": 2,
   "id": "shared-acceptance",
   "metadata": {
    "execution": {
     "iopub.execute_input": "2021-09-07T01:56:14.503031Z",
     "iopub.status.busy": "2021-09-07T01:56:14.502390Z",
     "iopub.status.idle": "2021-09-07T01:56:25.346140Z",
     "shell.execute_reply": "2021-09-07T01:56:25.345580Z"
    },
    "papermill": {
     "duration": 10.861287,
     "end_time": "2021-09-07T01:56:25.346282",
     "exception": false,
     "start_time": "2021-09-07T01:56:14.484995",
     "status": "completed"
    },
    "tags": []
   },
   "outputs": [],
   "source": [
    "#hide_input\n",
    "blockchain = read_news('blockchain') \n",
    "btc = read_news('btc') \n",
    "xrp = read_news('xrp') \n",
    "trx = read_news('trx') \n",
    "eth = read_news('eth')  \n",
    "ada = read_news('ada')\n",
    "exchange = read_news('exchange') "
   ]
  },
  {
   "cell_type": "code",
   "execution_count": 3,
   "id": "synthetic-notion",
   "metadata": {
    "execution": {
     "iopub.execute_input": "2021-09-07T01:56:25.374710Z",
     "iopub.status.busy": "2021-09-07T01:56:25.371939Z",
     "iopub.status.idle": "2021-09-07T01:56:25.377851Z",
     "shell.execute_reply": "2021-09-07T01:56:25.377354Z"
    },
    "papermill": {
     "duration": 0.020515,
     "end_time": "2021-09-07T01:56:25.377977",
     "exception": false,
     "start_time": "2021-09-07T01:56:25.357462",
     "status": "completed"
    },
    "tags": []
   },
   "outputs": [
    {
     "data": {
      "text/markdown": [
       "- Solana Extends Uphill Drive, Hitting Record Highs After Record Highs.  Solana continues its uphill drive, hitting record highs after record highs. The speed, dive into NFTs and deeper DeFi expansion are key reasons for Solana&#8217;s price surge. Could it eventually compete with Ethereum? Still too early to decide but its present form is multiple steps in the right direction. Third-generation blockchain, Solana has been in [&#8230;] ... [| Skaityti daugiau](https://zycrypto.com/solana-extends-uphill-drive-hitting-record-highs-after-record-highs/) "
      ],
      "text/plain": [
       "<IPython.core.display.Markdown object>"
      ]
     },
     "execution_count": 3,
     "metadata": {},
     "output_type": "execute_result"
    }
   ],
   "source": [
    "#hide_input\n",
    "#md('##### {}'.format(titleBTC)) \n",
    "md(\"- {}{} {}{} [| Skaityti daugiau]({}) \".format(blockchain['title'],'. ', blockchain['body'], ' ...', blockchain['url']))"
   ]
  },
  {
   "cell_type": "code",
   "execution_count": 4,
   "id": "aging-caution",
   "metadata": {
    "execution": {
     "iopub.execute_input": "2021-09-07T01:56:25.405463Z",
     "iopub.status.busy": "2021-09-07T01:56:25.404796Z",
     "iopub.status.idle": "2021-09-07T01:56:25.407217Z",
     "shell.execute_reply": "2021-09-07T01:56:25.407745Z"
    },
    "papermill": {
     "duration": 0.0191,
     "end_time": "2021-09-07T01:56:25.407889",
     "exception": false,
     "start_time": "2021-09-07T01:56:25.388789",
     "status": "completed"
    },
    "tags": []
   },
   "outputs": [
    {
     "data": {
      "text/markdown": [
       "- Institutional exposure to altcoin products retests all-time high.  Inflows to Solana-based investment products saw a whopping 388% increase last week, with institutional investors gaining exposure to $13.2 million worth of SOL products. ... [| Skaityti daugiau](https://cointelegraph.com/news/institutional-exposure-to-altcoin-products-retests-all-time-high) "
      ],
      "text/plain": [
       "<IPython.core.display.Markdown object>"
      ]
     },
     "execution_count": 4,
     "metadata": {},
     "output_type": "execute_result"
    }
   ],
   "source": [
    "#hide_input\n",
    "#md('##### {}'.format(titleBTC)) \n",
    "md(\"- {}{} {}{} [| Skaityti daugiau]({}) \".format(btc['title'],'. ', btc['body'], ' ...', btc['url']))"
   ]
  },
  {
   "cell_type": "code",
   "execution_count": 5,
   "id": "organic-actress",
   "metadata": {
    "execution": {
     "iopub.execute_input": "2021-09-07T01:56:25.436253Z",
     "iopub.status.busy": "2021-09-07T01:56:25.435600Z",
     "iopub.status.idle": "2021-09-07T01:56:25.442340Z",
     "shell.execute_reply": "2021-09-07T01:56:25.441845Z"
    },
    "papermill": {
     "duration": 0.023284,
     "end_time": "2021-09-07T01:56:25.442464",
     "exception": false,
     "start_time": "2021-09-07T01:56:25.419180",
     "status": "completed"
    },
    "tags": []
   },
   "outputs": [
    {
     "data": {
      "text/markdown": [
       "- XRP Back in the Game! XRP price Predicted to Hit $3 Soon!.  The post XRP Back in the Game! XRP price Predicted to Hit $3 Soon! appeared first on Coinpedia - Fintech &amp; Cryptocurreny News Media| Crypto GuideThe broader cryptocurrency market, including XRP, saw a jump in market capitalization over the weekend, confirming the rally that began in August. XRP has increased by about 20% in the last week and by more than 80% in the last month. After rising as high as $1.40, XRP has finally smashed the August high of &#8230; ... [| Skaityti daugiau](https://coinpedia.org/price-analysis/xrp-back-in-the-game-xrp-price-predicted-to-hit-3-soon/) "
      ],
      "text/plain": [
       "<IPython.core.display.Markdown object>"
      ]
     },
     "execution_count": 5,
     "metadata": {},
     "output_type": "execute_result"
    }
   ],
   "source": [
    "#hide_input\n",
    "#md('##### {}'.format(titleBTC)) \n",
    "md(\"- {}{} {}{} [| Skaityti daugiau]({}) \".format(xrp['title'],'. ', xrp['body'], ' ...', xrp['url']))"
   ]
  },
  {
   "cell_type": "code",
   "execution_count": 6,
   "id": "prompt-farmer",
   "metadata": {
    "execution": {
     "iopub.execute_input": "2021-09-07T01:56:25.470854Z",
     "iopub.status.busy": "2021-09-07T01:56:25.470230Z",
     "iopub.status.idle": "2021-09-07T01:56:25.472662Z",
     "shell.execute_reply": "2021-09-07T01:56:25.473196Z"
    },
    "papermill": {
     "duration": 0.019231,
     "end_time": "2021-09-07T01:56:25.473327",
     "exception": false,
     "start_time": "2021-09-07T01:56:25.454096",
     "status": "completed"
    },
    "tags": []
   },
   "outputs": [
    {
     "data": {
      "text/markdown": [
       "- Justin Sun Announces TRON DeFi TVL at Over $11 Billion.  Justin Sun announces TRON DeFi TVL is over $11 billion. The CEO thanks everyone who contributed to this number. Likewise, ... [| Skaityti daugiau](https://coinquora.com/justin-sun-announces-tron-defi-tvl-at-over-11-billion/) "
      ],
      "text/plain": [
       "<IPython.core.display.Markdown object>"
      ]
     },
     "execution_count": 6,
     "metadata": {},
     "output_type": "execute_result"
    }
   ],
   "source": [
    "#hide_input\n",
    "#md('##### {}'.format(titleBTC)) \n",
    "md(\"- {}{} {}{} [| Skaityti daugiau]({}) \".format(trx['title'],'. ', trx['body'], ' ...', trx['url']))"
   ]
  },
  {
   "cell_type": "code",
   "execution_count": 7,
   "id": "illegal-greece",
   "metadata": {
    "execution": {
     "iopub.execute_input": "2021-09-07T01:56:25.502514Z",
     "iopub.status.busy": "2021-09-07T01:56:25.501222Z",
     "iopub.status.idle": "2021-09-07T01:56:25.506494Z",
     "shell.execute_reply": "2021-09-07T01:56:25.505970Z"
    },
    "papermill": {
     "duration": 0.021128,
     "end_time": "2021-09-07T01:56:25.506616",
     "exception": false,
     "start_time": "2021-09-07T01:56:25.485488",
     "status": "completed"
    },
    "tags": []
   },
   "outputs": [
    {
     "data": {
      "text/markdown": [
       "- Institutional exposure to altcoin products retests all-time high.  Inflows to Solana-based investment products saw a whopping 388% increase last week, with institutional investors gaining exposure to $13.2 million worth of SOL products. ... [| Skaityti daugiau](https://cointelegraph.com/news/institutional-exposure-to-altcoin-products-retests-all-time-high) "
      ],
      "text/plain": [
       "<IPython.core.display.Markdown object>"
      ]
     },
     "execution_count": 7,
     "metadata": {},
     "output_type": "execute_result"
    }
   ],
   "source": [
    "#hide_input\n",
    "#md('##### {}'.format(titleBTC)) \n",
    "md(\"- {}{} {}{} [| Skaityti daugiau]({}) \".format(eth['title'],'. ', eth['body'], ' ...', eth['url']))"
   ]
  },
  {
   "cell_type": "code",
   "execution_count": 8,
   "id": "sublime-lounge",
   "metadata": {
    "execution": {
     "iopub.execute_input": "2021-09-07T01:56:25.538235Z",
     "iopub.status.busy": "2021-09-07T01:56:25.537325Z",
     "iopub.status.idle": "2021-09-07T01:56:25.539981Z",
     "shell.execute_reply": "2021-09-07T01:56:25.540486Z"
    },
    "papermill": {
     "duration": 0.021583,
     "end_time": "2021-09-07T01:56:25.540628",
     "exception": false,
     "start_time": "2021-09-07T01:56:25.519045",
     "status": "completed"
    },
    "tags": []
   },
   "outputs": [
    {
     "data": {
      "text/markdown": [
       "- Cardano, Dogecoin, Chainlink Price Analysis: 06 September.  Mixed trading patterns were observed in case of certain altcoins. While some altcoins rallied, others also logged some gains, while many were busy trading laterally. Chainlink rallied 12.9% over the last 24 hours, while setting a new multi-month high. Dogecoin hiked by 4.4% and was preparing to revisit the $0.314 price ceiling. Cardano traded sideways, [&#8230;] ... [| Skaityti daugiau](https://ambcrypto.com/cardano-dogecoin-chainlink-price-analysis-06-september/) "
      ],
      "text/plain": [
       "<IPython.core.display.Markdown object>"
      ]
     },
     "execution_count": 8,
     "metadata": {},
     "output_type": "execute_result"
    }
   ],
   "source": [
    "#hide_input\n",
    "#md('##### {}'.format(titleBTC)) \n",
    "md(\"- {}{} {}{} [| Skaityti daugiau]({}) \".format(ada['title'],'. ', ada['body'], ' ...', ada['url']))"
   ]
  },
  {
   "cell_type": "code",
   "execution_count": 9,
   "id": "specified-ordering",
   "metadata": {
    "execution": {
     "iopub.execute_input": "2021-09-07T01:56:25.571005Z",
     "iopub.status.busy": "2021-09-07T01:56:25.569815Z",
     "iopub.status.idle": "2021-09-07T01:56:25.574648Z",
     "shell.execute_reply": "2021-09-07T01:56:25.574039Z"
    },
    "papermill": {
     "duration": 0.021377,
     "end_time": "2021-09-07T01:56:25.574775",
     "exception": false,
     "start_time": "2021-09-07T01:56:25.553398",
     "status": "completed"
    },
    "tags": []
   },
   "outputs": [
    {
     "data": {
      "text/markdown": [
       "- Ethereum Dominates TVL in DeFi Across All Platforms, But For How Much Longer?.  According to DeFi Llama, the Total Value Locked (TVL) across all networks is closing in at a record $180 billion, with the Ethereum network accounting for the vast majority of this. The data includes valuations from Ethereum, Polygon, Solona, Fantom, Terra, Avalanche, Binance, and other less prominent DeFi chains. Ethereum accounts for $131 billion of [&#8230;] ... [| Skaityti daugiau](https://bitcoinist.com/ethereum-dominates-tvl-in-defi-across-all-platforms-but-for-how-much-longer/?utm_source=rss&utm_medium=rss&utm_campaign=ethereum-dominates-tvl-in-defi-across-all-platforms-but-for-how-much-longer) "
      ],
      "text/plain": [
       "<IPython.core.display.Markdown object>"
      ]
     },
     "execution_count": 9,
     "metadata": {},
     "output_type": "execute_result"
    }
   ],
   "source": [
    "#hide_input\n",
    "#md('##### {}'.format(titleBTC)) \n",
    "md(\"- {}{} {}{} [| Skaityti daugiau]({}) \".format(exchange['title'],'. ', exchange['body'], ' ...', exchange['url']))"
   ]
  },
  {
   "cell_type": "code",
   "execution_count": null,
   "id": "tender-livestock",
   "metadata": {
    "papermill": {
     "duration": 0.013185,
     "end_time": "2021-09-07T01:56:25.601242",
     "exception": false,
     "start_time": "2021-09-07T01:56:25.588057",
     "status": "completed"
    },
    "tags": []
   },
   "outputs": [],
   "source": []
  },
  {
   "cell_type": "code",
   "execution_count": null,
   "id": "appreciated-diamond",
   "metadata": {
    "papermill": {
     "duration": 0.013056,
     "end_time": "2021-09-07T01:56:25.627367",
     "exception": false,
     "start_time": "2021-09-07T01:56:25.614311",
     "status": "completed"
    },
    "tags": []
   },
   "outputs": [],
   "source": []
  },
  {
   "cell_type": "code",
   "execution_count": null,
   "id": "romance-sweden",
   "metadata": {
    "papermill": {
     "duration": 0.013041,
     "end_time": "2021-09-07T01:56:25.653472",
     "exception": false,
     "start_time": "2021-09-07T01:56:25.640431",
     "status": "completed"
    },
    "tags": []
   },
   "outputs": [],
   "source": []
  },
  {
   "cell_type": "code",
   "execution_count": null,
   "id": "dietary-statistics",
   "metadata": {
    "papermill": {
     "duration": 0.01306,
     "end_time": "2021-09-07T01:56:25.679706",
     "exception": false,
     "start_time": "2021-09-07T01:56:25.666646",
     "status": "completed"
    },
    "tags": []
   },
   "outputs": [],
   "source": []
  }
 ],
 "metadata": {
  "kernelspec": {
   "display_name": "Python 3",
   "language": "python",
   "name": "python3"
  },
  "language_info": {
   "codemirror_mode": {
    "name": "ipython",
    "version": 3
   },
   "file_extension": ".py",
   "mimetype": "text/x-python",
   "name": "python",
   "nbconvert_exporter": "python",
   "pygments_lexer": "ipython3",
   "version": "3.6.14"
  },
  "papermill": {
   "default_parameters": {},
   "duration": 14.199519,
   "end_time": "2021-09-07T01:56:26.103446",
   "environment_variables": {},
   "exception": null,
   "input_path": "Market-News.ipynb",
   "output_path": "Market-News.ipynb",
   "parameters": {},
   "start_time": "2021-09-07T01:56:11.903927",
   "version": "2.2.2"
  }
 },
 "nbformat": 4,
 "nbformat_minor": 5
}