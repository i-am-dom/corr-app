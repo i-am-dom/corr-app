{
 "cells": [
  {
   "cell_type": "markdown",
   "id": "short-greensboro",
   "metadata": {
    "papermill": {
     "duration": 0.017403,
     "end_time": "2022-09-12T03:54:15.824933",
     "exception": false,
     "start_time": "2022-09-12T03:54:15.807530",
     "status": "completed"
    },
    "tags": []
   },
   "source": [
    "# Kriptovaliutų naujienos"
   ]
  },
  {
   "cell_type": "code",
   "execution_count": 1,
   "id": "functioning-knowing",
   "metadata": {
    "execution": {
     "iopub.execute_input": "2022-09-12T03:54:15.858416Z",
     "iopub.status.busy": "2022-09-12T03:54:15.857722Z",
     "iopub.status.idle": "2022-09-12T03:54:17.224119Z",
     "shell.execute_reply": "2022-09-12T03:54:17.223203Z"
    },
    "papermill": {
     "duration": 1.388586,
     "end_time": "2022-09-12T03:54:17.224361",
     "exception": false,
     "start_time": "2022-09-12T03:54:15.835775",
     "status": "completed"
    },
    "tags": []
   },
   "outputs": [],
   "source": [
    "#hide_input\n",
    "import warnings\n",
    "warnings.filterwarnings('ignore')\n",
    "from scripts.read_data import read_api\n",
    "from scripts.read_data import read_news\n",
    "from scripts.read_data import read_covid\n",
    "import matplotlib.pyplot as plt \n",
    "from IPython.display import Markdown as md"
   ]
  },
  {
   "cell_type": "code",
   "execution_count": 2,
   "id": "shared-acceptance",
   "metadata": {
    "execution": {
     "iopub.execute_input": "2022-09-12T03:54:17.253545Z",
     "iopub.status.busy": "2022-09-12T03:54:17.252855Z",
     "iopub.status.idle": "2022-09-12T03:54:30.596958Z",
     "shell.execute_reply": "2022-09-12T03:54:30.596391Z"
    },
    "papermill": {
     "duration": 13.361834,
     "end_time": "2022-09-12T03:54:30.597094",
     "exception": false,
     "start_time": "2022-09-12T03:54:17.235260",
     "status": "completed"
    },
    "tags": []
   },
   "outputs": [],
   "source": [
    "#hide_input\n",
    "blockchain = read_news('blockchain') \n",
    "btc = read_news('btc') \n",
    "xrp = read_news('xrp') \n",
    "trx = read_news('trx') \n",
    "eth = read_news('eth')  \n",
    "ada = read_news('ada')\n",
    "exchange = read_news('exchange') "
   ]
  },
  {
   "cell_type": "code",
   "execution_count": 3,
   "id": "synthetic-notion",
   "metadata": {
    "execution": {
     "iopub.execute_input": "2022-09-12T03:54:30.624689Z",
     "iopub.status.busy": "2022-09-12T03:54:30.623887Z",
     "iopub.status.idle": "2022-09-12T03:54:30.627766Z",
     "shell.execute_reply": "2022-09-12T03:54:30.628275Z"
    },
    "papermill": {
     "duration": 0.02123,
     "end_time": "2022-09-12T03:54:30.628419",
     "exception": false,
     "start_time": "2022-09-12T03:54:30.607189",
     "status": "completed"
    },
    "tags": []
   },
   "outputs": [
    {
     "data": {
      "text/markdown": [
       "- Brave Now Supports Celo Blockchain and Dapps.  The decentralized, EVM-compatible, PoS platform Celo is now accessible to over 59 million Brave users around the world SAN FRANCISCO&#8211;(BUSINESS ... [| Skaityti daugiau](https://thenewscrypto.com/brave-now-supports-celo-blockchain-and-dapps/) "
      ],
      "text/plain": [
       "<IPython.core.display.Markdown object>"
      ]
     },
     "execution_count": 3,
     "metadata": {},
     "output_type": "execute_result"
    }
   ],
   "source": [
    "#hide_input\n",
    "#md('##### {}'.format(titleBTC)) \n",
    "md(\"- {}{} {}{} [| Skaityti daugiau]({}) \".format(blockchain['title'],'. ', blockchain['body'], ' ...', blockchain['url']))"
   ]
  },
  {
   "cell_type": "code",
   "execution_count": 4,
   "id": "aging-caution",
   "metadata": {
    "execution": {
     "iopub.execute_input": "2022-09-12T03:54:30.655887Z",
     "iopub.status.busy": "2022-09-12T03:54:30.655176Z",
     "iopub.status.idle": "2022-09-12T03:54:30.658658Z",
     "shell.execute_reply": "2022-09-12T03:54:30.659168Z"
    },
    "papermill": {
     "duration": 0.021034,
     "end_time": "2022-09-12T03:54:30.659292",
     "exception": false,
     "start_time": "2022-09-12T03:54:30.638258",
     "status": "completed"
    },
    "tags": []
   },
   "outputs": [
    {
     "data": {
      "text/markdown": [
       "- Bitcoin and Ethereum Pump, APE and CAKE Outperform.  Bitcoin price started a strong increase above the USD 20,500 resistance. BTC even spiked above USD 22,000 and is currently (04:00 UTC) correcting lower. The bulls are now likely to remain active near the USD 21,200 zone. Similarly, most major altcoins started a steady increase. ETH was able to clear the USD 1,700 resistance and tested USD 1,780. XRP is showing positive signs above the USD 0.35 resistance. ADA is consolidating above the USD 0.50 resistance....Read More: Bitcoin and Ethereum Pump, APE and CAKE Outperform ... [| Skaityti daugiau](https://cryptonews.com/news/bitcoin-ethereum-pump-ape-cake-outperform.htm) "
      ],
      "text/plain": [
       "<IPython.core.display.Markdown object>"
      ]
     },
     "execution_count": 4,
     "metadata": {},
     "output_type": "execute_result"
    }
   ],
   "source": [
    "#hide_input\n",
    "#md('##### {}'.format(titleBTC)) \n",
    "md(\"- {}{} {}{} [| Skaityti daugiau]({}) \".format(btc['title'],'. ', btc['body'], ' ...', btc['url']))"
   ]
  },
  {
   "cell_type": "code",
   "execution_count": 5,
   "id": "organic-actress",
   "metadata": {
    "execution": {
     "iopub.execute_input": "2022-09-12T03:54:30.689089Z",
     "iopub.status.busy": "2022-09-12T03:54:30.688384Z",
     "iopub.status.idle": "2022-09-12T03:54:30.691608Z",
     "shell.execute_reply": "2022-09-12T03:54:30.692113Z"
    },
    "papermill": {
     "duration": 0.022465,
     "end_time": "2022-09-12T03:54:30.692245",
     "exception": false,
     "start_time": "2022-09-12T03:54:30.669780",
     "status": "completed"
    },
    "tags": []
   },
   "outputs": [
    {
     "data": {
      "text/markdown": [
       "- Bitcoin and Ethereum Pump, APE and CAKE Outperform.  Bitcoin price started a strong increase above the USD 20,500 resistance. BTC even spiked above USD 22,000 and is currently (04:00 UTC) correcting lower. The bulls are now likely to remain active near the USD 21,200 zone. Similarly, most major altcoins started a steady increase. ETH was able to clear the USD 1,700 resistance and tested USD 1,780. XRP is showing positive signs above the USD 0.35 resistance. ADA is consolidating above the USD 0.50 resistance....Read More: Bitcoin and Ethereum Pump, APE and CAKE Outperform ... [| Skaityti daugiau](https://cryptonews.com/news/bitcoin-ethereum-pump-ape-cake-outperform.htm) "
      ],
      "text/plain": [
       "<IPython.core.display.Markdown object>"
      ]
     },
     "execution_count": 5,
     "metadata": {},
     "output_type": "execute_result"
    }
   ],
   "source": [
    "#hide_input\n",
    "#md('##### {}'.format(titleBTC)) \n",
    "md(\"- {}{} {}{} [| Skaityti daugiau]({}) \".format(xrp['title'],'. ', xrp['body'], ' ...', xrp['url']))"
   ]
  },
  {
   "cell_type": "code",
   "execution_count": 6,
   "id": "prompt-farmer",
   "metadata": {
    "execution": {
     "iopub.execute_input": "2022-09-12T03:54:30.720939Z",
     "iopub.status.busy": "2022-09-12T03:54:30.720120Z",
     "iopub.status.idle": "2022-09-12T03:54:30.726345Z",
     "shell.execute_reply": "2022-09-12T03:54:30.724454Z"
    },
    "papermill": {
     "duration": 0.023062,
     "end_time": "2022-09-12T03:54:30.726497",
     "exception": false,
     "start_time": "2022-09-12T03:54:30.703435",
     "status": "completed"
    },
    "tags": []
   },
   "outputs": [
    {
     "data": {
      "text/markdown": [
       "- Tron [TRX]: The technical hurdles to consider before taking a long position.  Disclaimer: The findings of the following analysis are the sole opinions of the writer and should not be considered investment advice. As anticipated by a previous article, Tron [TRX] reversed from its falling-wedge-like structure before pulling back into bearish clutches. For over eight weeks, the sellers strived to breach the $0.063-support (now resistance). The recent [&#8230;] ... [| Skaityti daugiau](https://ambcrypto.com/tron-trx-the-technical-hurdles-to-consider-before-taking-a-long-position/) "
      ],
      "text/plain": [
       "<IPython.core.display.Markdown object>"
      ]
     },
     "execution_count": 6,
     "metadata": {},
     "output_type": "execute_result"
    }
   ],
   "source": [
    "#hide_input\n",
    "#md('##### {}'.format(titleBTC)) \n",
    "md(\"- {}{} {}{} [| Skaityti daugiau]({}) \".format(trx['title'],'. ', trx['body'], ' ...', trx['url']))"
   ]
  },
  {
   "cell_type": "code",
   "execution_count": 7,
   "id": "illegal-greece",
   "metadata": {
    "execution": {
     "iopub.execute_input": "2022-09-12T03:54:30.756300Z",
     "iopub.status.busy": "2022-09-12T03:54:30.755545Z",
     "iopub.status.idle": "2022-09-12T03:54:30.760525Z",
     "shell.execute_reply": "2022-09-12T03:54:30.761052Z"
    },
    "papermill": {
     "duration": 0.022845,
     "end_time": "2022-09-12T03:54:30.761198",
     "exception": false,
     "start_time": "2022-09-12T03:54:30.738353",
     "status": "completed"
    },
    "tags": []
   },
   "outputs": [
    {
     "data": {
      "text/markdown": [
       "- Bitcoin and Ethereum Pump, APE and CAKE Outperform.  Bitcoin price started a strong increase above the USD 20,500 resistance. BTC even spiked above USD 22,000 and is currently (04:00 UTC) correcting lower. The bulls are now likely to remain active near the USD 21,200 zone. Similarly, most major altcoins started a steady increase. ETH was able to clear the USD 1,700 resistance and tested USD 1,780. XRP is showing positive signs above the USD 0.35 resistance. ADA is consolidating above the USD 0.50 resistance....Read More: Bitcoin and Ethereum Pump, APE and CAKE Outperform ... [| Skaityti daugiau](https://cryptonews.com/news/bitcoin-ethereum-pump-ape-cake-outperform.htm) "
      ],
      "text/plain": [
       "<IPython.core.display.Markdown object>"
      ]
     },
     "execution_count": 7,
     "metadata": {},
     "output_type": "execute_result"
    }
   ],
   "source": [
    "#hide_input\n",
    "#md('##### {}'.format(titleBTC)) \n",
    "md(\"- {}{} {}{} [| Skaityti daugiau]({}) \".format(eth['title'],'. ', eth['body'], ' ...', eth['url']))"
   ]
  },
  {
   "cell_type": "code",
   "execution_count": 8,
   "id": "sublime-lounge",
   "metadata": {
    "execution": {
     "iopub.execute_input": "2022-09-12T03:54:30.792348Z",
     "iopub.status.busy": "2022-09-12T03:54:30.791654Z",
     "iopub.status.idle": "2022-09-12T03:54:30.798330Z",
     "shell.execute_reply": "2022-09-12T03:54:30.797779Z"
    },
    "papermill": {
     "duration": 0.023915,
     "end_time": "2022-09-12T03:54:30.798452",
     "exception": false,
     "start_time": "2022-09-12T03:54:30.774537",
     "status": "completed"
    },
    "tags": []
   },
   "outputs": [
    {
     "data": {
      "text/markdown": [
       "- Bitcoin and Ethereum Pump, APE and CAKE Outperform.  Bitcoin price started a strong increase above the USD 20,500 resistance. BTC even spiked above USD 22,000 and is currently (04:00 UTC) correcting lower. The bulls are now likely to remain active near the USD 21,200 zone. Similarly, most major altcoins started a steady increase. ETH was able to clear the USD 1,700 resistance and tested USD 1,780. XRP is showing positive signs above the USD 0.35 resistance. ADA is consolidating above the USD 0.50 resistance....Read More: Bitcoin and Ethereum Pump, APE and CAKE Outperform ... [| Skaityti daugiau](https://cryptonews.com/news/bitcoin-ethereum-pump-ape-cake-outperform.htm) "
      ],
      "text/plain": [
       "<IPython.core.display.Markdown object>"
      ]
     },
     "execution_count": 8,
     "metadata": {},
     "output_type": "execute_result"
    }
   ],
   "source": [
    "#hide_input\n",
    "#md('##### {}'.format(titleBTC)) \n",
    "md(\"- {}{} {}{} [| Skaityti daugiau]({}) \".format(ada['title'],'. ', ada['body'], ' ...', ada['url']))"
   ]
  },
  {
   "cell_type": "code",
   "execution_count": 9,
   "id": "specified-ordering",
   "metadata": {
    "execution": {
     "iopub.execute_input": "2022-09-12T03:54:30.841733Z",
     "iopub.status.busy": "2022-09-12T03:54:30.840913Z",
     "iopub.status.idle": "2022-09-12T03:54:30.843679Z",
     "shell.execute_reply": "2022-09-12T03:54:30.844492Z"
    },
    "papermill": {
     "duration": 0.025497,
     "end_time": "2022-09-12T03:54:30.844656",
     "exception": false,
     "start_time": "2022-09-12T03:54:30.819159",
     "status": "completed"
    },
    "tags": []
   },
   "outputs": [
    {
     "data": {
      "text/markdown": [
       "- Gary Gensler Asks SEC Staff to Fine-Tune Crypto Compliance — Says ‘Vast Majority Are Securities’.  The chairman of the U.S. Securities and Exchange Commission (SEC), Gary Gensler, revealed that he has asked staff at the SEC to fine-tune compliance for crypto tokens and intermediaries. He emphasized that the vast majority of crypto tokens are securities. SEC Chairman Gary Gensler on Crypto Regulation Gary Gensler, the chairman of the U.S. Securities [&#8230;] ... [| Skaityti daugiau](https://news.bitcoin.com/gary-gensler-asks-sec-staff-to-fine-tune-crypto-compliance-says-vast-majority-are-securities/) "
      ],
      "text/plain": [
       "<IPython.core.display.Markdown object>"
      ]
     },
     "execution_count": 9,
     "metadata": {},
     "output_type": "execute_result"
    }
   ],
   "source": [
    "#hide_input\n",
    "#md('##### {}'.format(titleBTC)) \n",
    "md(\"- {}{} {}{} [| Skaityti daugiau]({}) \".format(exchange['title'],'. ', exchange['body'], ' ...', exchange['url']))"
   ]
  },
  {
   "cell_type": "code",
   "execution_count": null,
   "id": "tender-livestock",
   "metadata": {
    "papermill": {
     "duration": 0.013269,
     "end_time": "2022-09-12T03:54:30.870999",
     "exception": false,
     "start_time": "2022-09-12T03:54:30.857730",
     "status": "completed"
    },
    "tags": []
   },
   "outputs": [],
   "source": []
  },
  {
   "cell_type": "code",
   "execution_count": null,
   "id": "appreciated-diamond",
   "metadata": {
    "papermill": {
     "duration": 0.012531,
     "end_time": "2022-09-12T03:54:30.896043",
     "exception": false,
     "start_time": "2022-09-12T03:54:30.883512",
     "status": "completed"
    },
    "tags": []
   },
   "outputs": [],
   "source": []
  },
  {
   "cell_type": "code",
   "execution_count": null,
   "id": "romance-sweden",
   "metadata": {
    "papermill": {
     "duration": 0.013634,
     "end_time": "2022-09-12T03:54:30.922502",
     "exception": false,
     "start_time": "2022-09-12T03:54:30.908868",
     "status": "completed"
    },
    "tags": []
   },
   "outputs": [],
   "source": []
  },
  {
   "cell_type": "code",
   "execution_count": null,
   "id": "dietary-statistics",
   "metadata": {
    "papermill": {
     "duration": 0.012388,
     "end_time": "2022-09-12T03:54:30.948670",
     "exception": false,
     "start_time": "2022-09-12T03:54:30.936282",
     "status": "completed"
    },
    "tags": []
   },
   "outputs": [],
   "source": []
  }
 ],
 "metadata": {
  "kernelspec": {
   "display_name": "Python 3",
   "language": "python",
   "name": "python3"
  },
  "language_info": {
   "codemirror_mode": {
    "name": "ipython",
    "version": 3
   },
   "file_extension": ".py",
   "mimetype": "text/x-python",
   "name": "python",
   "nbconvert_exporter": "python",
   "pygments_lexer": "ipython3",
   "version": "3.6.15"
  },
  "papermill": {
   "default_parameters": {},
   "duration": 16.93952,
   "end_time": "2022-09-12T03:54:31.482071",
   "environment_variables": {},
   "exception": null,
   "input_path": "Market-News.ipynb",
   "output_path": "Market-News.ipynb",
   "parameters": {},
   "start_time": "2022-09-12T03:54:14.542551",
   "version": "2.2.2"
  }
 },
 "nbformat": 4,
 "nbformat_minor": 5
}