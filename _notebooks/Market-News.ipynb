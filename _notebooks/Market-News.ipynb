{
 "cells": [
  {
   "cell_type": "markdown",
   "id": "short-greensboro",
   "metadata": {
    "papermill": {
     "duration": 0.012624,
     "end_time": "2022-03-22T02:29:15.141767",
     "exception": false,
     "start_time": "2022-03-22T02:29:15.129143",
     "status": "completed"
    },
    "tags": []
   },
   "source": [
    "# Kriptovaliutų naujienos"
   ]
  },
  {
   "cell_type": "code",
   "execution_count": 1,
   "id": "functioning-knowing",
   "metadata": {
    "execution": {
     "iopub.execute_input": "2022-03-22T02:29:15.171390Z",
     "iopub.status.busy": "2022-03-22T02:29:15.170874Z",
     "iopub.status.idle": "2022-03-22T02:29:16.366935Z",
     "shell.execute_reply": "2022-03-22T02:29:16.366447Z"
    },
    "papermill": {
     "duration": 1.215384,
     "end_time": "2022-03-22T02:29:16.367062",
     "exception": false,
     "start_time": "2022-03-22T02:29:15.151678",
     "status": "completed"
    },
    "tags": []
   },
   "outputs": [],
   "source": [
    "#hide_input\n",
    "import warnings\n",
    "warnings.filterwarnings('ignore')\n",
    "from scripts.read_data import read_api\n",
    "from scripts.read_data import read_news\n",
    "from scripts.read_data import read_covid\n",
    "import matplotlib.pyplot as plt \n",
    "from IPython.display import Markdown as md"
   ]
  },
  {
   "cell_type": "code",
   "execution_count": 2,
   "id": "shared-acceptance",
   "metadata": {
    "execution": {
     "iopub.execute_input": "2022-03-22T02:29:16.392050Z",
     "iopub.status.busy": "2022-03-22T02:29:16.391401Z",
     "iopub.status.idle": "2022-03-22T02:29:24.617492Z",
     "shell.execute_reply": "2022-03-22T02:29:24.617051Z"
    },
    "papermill": {
     "duration": 8.240852,
     "end_time": "2022-03-22T02:29:24.617604",
     "exception": false,
     "start_time": "2022-03-22T02:29:16.376752",
     "status": "completed"
    },
    "tags": []
   },
   "outputs": [],
   "source": [
    "#hide_input\n",
    "blockchain = read_news('blockchain') \n",
    "btc = read_news('btc') \n",
    "xrp = read_news('xrp') \n",
    "trx = read_news('trx') \n",
    "eth = read_news('eth')  \n",
    "ada = read_news('ada')\n",
    "exchange = read_news('exchange') "
   ]
  },
  {
   "cell_type": "code",
   "execution_count": 3,
   "id": "synthetic-notion",
   "metadata": {
    "execution": {
     "iopub.execute_input": "2022-03-22T02:29:24.642836Z",
     "iopub.status.busy": "2022-03-22T02:29:24.642275Z",
     "iopub.status.idle": "2022-03-22T02:29:24.644237Z",
     "shell.execute_reply": "2022-03-22T02:29:24.644618Z"
    },
    "papermill": {
     "duration": 0.017569,
     "end_time": "2022-03-22T02:29:24.644739",
     "exception": false,
     "start_time": "2022-03-22T02:29:24.627170",
     "status": "completed"
    },
    "tags": []
   },
   "outputs": [
    {
     "data": {
      "text/markdown": [
       "- Ravendex once again makes a move towards $0.005 as bulls reappear.  Ravendex price analysis for March 22, 2022, comes on a bullish note for the cryptocurrency platform which has once again made a move towards $0.005 price resistance. The nearest support for the token stands at $0.004 which was earlier a strong resistance. Gradually, the RAVE token is forming an uptrend. As noted in our Ravendex [&#8230;]The post Ravendex once again makes a move towards $0.005 as bulls reappear appeared first on Blockchain, Crypto and Stock News. ... [| Skaityti daugiau](https://thecoinrise.com/ravendex-once-again-makes-a-move-towards-0-005-as-bulls-reappear/) "
      ],
      "text/plain": [
       "<IPython.core.display.Markdown object>"
      ]
     },
     "execution_count": 3,
     "metadata": {},
     "output_type": "execute_result"
    }
   ],
   "source": [
    "#hide_input\n",
    "#md('##### {}'.format(titleBTC)) \n",
    "md(\"- {}{} {}{} [| Skaityti daugiau]({}) \".format(blockchain['title'],'. ', blockchain['body'], ' ...', blockchain['url']))"
   ]
  },
  {
   "cell_type": "code",
   "execution_count": 4,
   "id": "aging-caution",
   "metadata": {
    "execution": {
     "iopub.execute_input": "2022-03-22T02:29:24.668315Z",
     "iopub.status.busy": "2022-03-22T02:29:24.667815Z",
     "iopub.status.idle": "2022-03-22T02:29:24.670623Z",
     "shell.execute_reply": "2022-03-22T02:29:24.670200Z"
    },
    "papermill": {
     "duration": 0.016261,
     "end_time": "2022-03-22T02:29:24.670723",
     "exception": false,
     "start_time": "2022-03-22T02:29:24.654462",
     "status": "completed"
    },
    "tags": []
   },
   "outputs": [
    {
     "data": {
      "text/markdown": [
       "- Bitcoin mining could be good for US energy independence: Research.  Texas representative Pete Sessions made a simple yet powerful statement that the proliferation of the Bitcoin mining industry could promote energy independence in the country. ... [| Skaityti daugiau](https://cointelegraph.com/news/bitcoin-mining-could-be-good-for-us-energy-independence-research) "
      ],
      "text/plain": [
       "<IPython.core.display.Markdown object>"
      ]
     },
     "execution_count": 4,
     "metadata": {},
     "output_type": "execute_result"
    }
   ],
   "source": [
    "#hide_input\n",
    "#md('##### {}'.format(titleBTC)) \n",
    "md(\"- {}{} {}{} [| Skaityti daugiau]({}) \".format(btc['title'],'. ', btc['body'], ' ...', btc['url']))"
   ]
  },
  {
   "cell_type": "code",
   "execution_count": 5,
   "id": "organic-actress",
   "metadata": {
    "execution": {
     "iopub.execute_input": "2022-03-22T02:29:24.695160Z",
     "iopub.status.busy": "2022-03-22T02:29:24.692183Z",
     "iopub.status.idle": "2022-03-22T02:29:24.697353Z",
     "shell.execute_reply": "2022-03-22T02:29:24.697718Z"
    },
    "papermill": {
     "duration": 0.017169,
     "end_time": "2022-03-22T02:29:24.697837",
     "exception": false,
     "start_time": "2022-03-22T02:29:24.680668",
     "status": "completed"
    },
    "tags": []
   },
   "outputs": [
    {
     "data": {
      "text/markdown": [
       "- Why Top International Banks Partnered to Use Ripple Network.  An international banking alliance is using the Ripple blockchain network technology for cross-border payments efficiency. Banks from Canada and Israel signed an agreement with National Australia Bank (NAB), Australia’s largest business bank, to improve the security and efficiency of their payment systems, share innovation strategies, and more. Top Banks Use Ripple For Cross-Border Payments Currently, [&#8230;] ... [| Skaityti daugiau](https://bitcoinist.com/why-top-international-banks-partnered-to-use-ripple/) "
      ],
      "text/plain": [
       "<IPython.core.display.Markdown object>"
      ]
     },
     "execution_count": 5,
     "metadata": {},
     "output_type": "execute_result"
    }
   ],
   "source": [
    "#hide_input\n",
    "#md('##### {}'.format(titleBTC)) \n",
    "md(\"- {}{} {}{} [| Skaityti daugiau]({}) \".format(xrp['title'],'. ', xrp['body'], ' ...', xrp['url']))"
   ]
  },
  {
   "cell_type": "code",
   "execution_count": 6,
   "id": "prompt-farmer",
   "metadata": {
    "execution": {
     "iopub.execute_input": "2022-03-22T02:29:24.722388Z",
     "iopub.status.busy": "2022-03-22T02:29:24.721898Z",
     "iopub.status.idle": "2022-03-22T02:29:24.724648Z",
     "shell.execute_reply": "2022-03-22T02:29:24.724234Z"
    },
    "papermill": {
     "duration": 0.016622,
     "end_time": "2022-03-22T02:29:24.724742",
     "exception": false,
     "start_time": "2022-03-22T02:29:24.708120",
     "status": "completed"
    },
    "tags": []
   },
   "outputs": [
    {
     "data": {
      "text/markdown": [
       "- What SEC v. Ripple has in common with the allegations against Sun, TRON.  If TRON DAO &#8211; née TRON &#8211; wasn&#8217;t enough of a conversation starter, an investigative piece by journalist Chris Harland-Dunaway published in The Verge dropped a bomb. It accused Tron founder Justin Sun of actions ranging from getting ICO ban tip-offs to insider trading. In a conversation with journalist Laura Shin, Harland-Dunaway revealed more details [&#8230;] ... [| Skaityti daugiau](https://ambcrypto.com/what-sec-v-ripple-has-in-common-with-the-allegations-against-sun-tron/) "
      ],
      "text/plain": [
       "<IPython.core.display.Markdown object>"
      ]
     },
     "execution_count": 6,
     "metadata": {},
     "output_type": "execute_result"
    }
   ],
   "source": [
    "#hide_input\n",
    "#md('##### {}'.format(titleBTC)) \n",
    "md(\"- {}{} {}{} [| Skaityti daugiau]({}) \".format(trx['title'],'. ', trx['body'], ' ...', trx['url']))"
   ]
  },
  {
   "cell_type": "code",
   "execution_count": 7,
   "id": "illegal-greece",
   "metadata": {
    "execution": {
     "iopub.execute_input": "2022-03-22T02:29:24.750308Z",
     "iopub.status.busy": "2022-03-22T02:29:24.749815Z",
     "iopub.status.idle": "2022-03-22T02:29:24.752339Z",
     "shell.execute_reply": "2022-03-22T02:29:24.751924Z"
    },
    "papermill": {
     "duration": 0.01689,
     "end_time": "2022-03-22T02:29:24.752434",
     "exception": false,
     "start_time": "2022-03-22T02:29:24.735544",
     "status": "completed"
    },
    "tags": []
   },
   "outputs": [
    {
     "data": {
      "text/markdown": [
       "- Radio Caca Introduces Governance Token for Upcoming Massive NFT Marketplace OpenPFP.  Singapore, March 21, 2022 &#8211; &#8211; &#8211; Radio Caca, a Web 3.0 decentralized autonomous organization (DAO), unveils today $PFP Coin (ProFile Picture), a governance token for the DAO’s namesake OpenPFP marketplace. OpenPFP actively rewards traders, collectors, and creators for participating in activities across the platform, and accepts Ethereum, as well as a variety of other [&#8230;]The post Radio Caca Introduces Governance Token for Upcoming Massive NFT Marketplace OpenPFP appeared first on NullTX. ... [| Skaityti daugiau](https://nulltx.com/radio-caca-introduces-governance-token-for-upcoming-massive-nft-marketplace-openpfp/) "
      ],
      "text/plain": [
       "<IPython.core.display.Markdown object>"
      ]
     },
     "execution_count": 7,
     "metadata": {},
     "output_type": "execute_result"
    }
   ],
   "source": [
    "#hide_input\n",
    "#md('##### {}'.format(titleBTC)) \n",
    "md(\"- {}{} {}{} [| Skaityti daugiau]({}) \".format(eth['title'],'. ', eth['body'], ' ...', eth['url']))"
   ]
  },
  {
   "cell_type": "code",
   "execution_count": 8,
   "id": "sublime-lounge",
   "metadata": {
    "execution": {
     "iopub.execute_input": "2022-03-22T02:29:24.778068Z",
     "iopub.status.busy": "2022-03-22T02:29:24.777236Z",
     "iopub.status.idle": "2022-03-22T02:29:24.780889Z",
     "shell.execute_reply": "2022-03-22T02:29:24.780473Z"
    },
    "papermill": {
     "duration": 0.017631,
     "end_time": "2022-03-22T02:29:24.780987",
     "exception": false,
     "start_time": "2022-03-22T02:29:24.763356",
     "status": "completed"
    },
    "tags": []
   },
   "outputs": [
    {
     "data": {
      "text/markdown": [
       "- The Nightly Mint: Daily NFT Recap.  We&#8217;re back with a new week of Nightly Mint material, as Hollywood stars make headlines for all the right (and wrong) reasons. Sylvester Stallone is taking his film career to non-fungible tokens, and Floyd Mayweather is back at it again. All in a Monday&#8217;s worth of NFT action. Let&#8217;s dive into today&#8217;s action. The Nightly Mint Latest Mint: Sylvester Stallone According to a report first released by Deadline, Stallone is minting 9,997 generative NFTs, titled &#8216;SLYGuys,&#8217; as part of a &#8216;PlanetSLY Collection.&#8217; Additionally, the most premium tier of the NFTs will offer dinner with the Hollywood legend, as well as virtual movie screenings, exclusive events, and more. The NFTs will be minted on Ethereum and are expected to release within the next month. Related Reading &#124; Cardano Completes Network Upgrade, ADA Reacts To The Upside Like much of the market, Ethereum (ETH) is trending upwards recently; the blockchain continues to be many project's 'blockchain of choice' in the NFT landscape - as exhibited by Sylvester Stallone's new project. &#124; Source: ETH-USD on TradingView.com Mayweather Makes Headlines&#8230; Again Legendary boxer Floyd Mayweather is cited as having north of $1B worth of career earnings. That didn&#8217;t slow Mayweather from a &#8216;slow rug&#8217; on his first NFT project, and the star was also named in the EthereumMax class action suit. This list is far from exhaus... ... [| Skaityti daugiau](https://www.newsbtc.com/nft/the-nightly-mint-daily-nft-recap-16/) "
      ],
      "text/plain": [
       "<IPython.core.display.Markdown object>"
      ]
     },
     "execution_count": 8,
     "metadata": {},
     "output_type": "execute_result"
    }
   ],
   "source": [
    "#hide_input\n",
    "#md('##### {}'.format(titleBTC)) \n",
    "md(\"- {}{} {}{} [| Skaityti daugiau]({}) \".format(ada['title'],'. ', ada['body'], ' ...', ada['url']))"
   ]
  },
  {
   "cell_type": "code",
   "execution_count": 9,
   "id": "specified-ordering",
   "metadata": {
    "execution": {
     "iopub.execute_input": "2022-03-22T02:29:24.807624Z",
     "iopub.status.busy": "2022-03-22T02:29:24.807139Z",
     "iopub.status.idle": "2022-03-22T02:29:24.810043Z",
     "shell.execute_reply": "2022-03-22T02:29:24.809625Z"
    },
    "papermill": {
     "duration": 0.017911,
     "end_time": "2022-03-22T02:29:24.810140",
     "exception": false,
     "start_time": "2022-03-22T02:29:24.792229",
     "status": "completed"
    },
    "tags": []
   },
   "outputs": [
    {
     "data": {
      "text/markdown": [
       "- Crypto Exchange FTX Partners With Tennis Ace Naomi Osaka.  Leading crypto exchange FTX has announced a new partnership with Naomi Osaka. The four-time Grand Slam tennis champion will work as an ambassador for the platform to help make Bitcoin and other digital assets “more accessible”. Related Reading &#124; FTX Exchange To Launch A Gaming-Focused Team To Boost NFTs Adoptions FTX made the announcement via [&#8230;] ... [| Skaityti daugiau](https://bitcoinist.com/crypto-ftx-partners-with-tennis-ace-naomi-osaka/) "
      ],
      "text/plain": [
       "<IPython.core.display.Markdown object>"
      ]
     },
     "execution_count": 9,
     "metadata": {},
     "output_type": "execute_result"
    }
   ],
   "source": [
    "#hide_input\n",
    "#md('##### {}'.format(titleBTC)) \n",
    "md(\"- {}{} {}{} [| Skaityti daugiau]({}) \".format(exchange['title'],'. ', exchange['body'], ' ...', exchange['url']))"
   ]
  },
  {
   "cell_type": "code",
   "execution_count": null,
   "id": "tender-livestock",
   "metadata": {
    "papermill": {
     "duration": 0.011795,
     "end_time": "2022-03-22T02:29:24.833593",
     "exception": false,
     "start_time": "2022-03-22T02:29:24.821798",
     "status": "completed"
    },
    "tags": []
   },
   "outputs": [],
   "source": []
  },
  {
   "cell_type": "code",
   "execution_count": null,
   "id": "appreciated-diamond",
   "metadata": {
    "papermill": {
     "duration": 0.011486,
     "end_time": "2022-03-22T02:29:24.857563",
     "exception": false,
     "start_time": "2022-03-22T02:29:24.846077",
     "status": "completed"
    },
    "tags": []
   },
   "outputs": [],
   "source": []
  },
  {
   "cell_type": "code",
   "execution_count": null,
   "id": "romance-sweden",
   "metadata": {
    "papermill": {
     "duration": 0.011547,
     "end_time": "2022-03-22T02:29:24.881628",
     "exception": false,
     "start_time": "2022-03-22T02:29:24.870081",
     "status": "completed"
    },
    "tags": []
   },
   "outputs": [],
   "source": []
  },
  {
   "cell_type": "code",
   "execution_count": null,
   "id": "dietary-statistics",
   "metadata": {
    "papermill": {
     "duration": 0.011485,
     "end_time": "2022-03-22T02:29:24.904676",
     "exception": false,
     "start_time": "2022-03-22T02:29:24.893191",
     "status": "completed"
    },
    "tags": []
   },
   "outputs": [],
   "source": []
  }
 ],
 "metadata": {
  "kernelspec": {
   "display_name": "Python 3",
   "language": "python",
   "name": "python3"
  },
  "language_info": {
   "codemirror_mode": {
    "name": "ipython",
    "version": 3
   },
   "file_extension": ".py",
   "mimetype": "text/x-python",
   "name": "python",
   "nbconvert_exporter": "python",
   "pygments_lexer": "ipython3",
   "version": "3.6.15"
  },
  "papermill": {
   "default_parameters": {},
   "duration": 11.108557,
   "end_time": "2022-03-22T02:29:25.333702",
   "environment_variables": {},
   "exception": null,
   "input_path": "Market-News.ipynb",
   "output_path": "Market-News.ipynb",
   "parameters": {},
   "start_time": "2022-03-22T02:29:14.225145",
   "version": "2.2.2"
  }
 },
 "nbformat": 4,
 "nbformat_minor": 5
}