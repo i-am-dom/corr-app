{
 "cells": [
  {
   "cell_type": "markdown",
   "id": "short-greensboro",
   "metadata": {
    "papermill": {
     "duration": 0.014944,
     "end_time": "2021-07-29T02:02:07.447519",
     "exception": false,
     "start_time": "2021-07-29T02:02:07.432575",
     "status": "completed"
    },
    "tags": []
   },
   "source": [
    "# Kriptovaliutų naujienos"
   ]
  },
  {
   "cell_type": "code",
   "execution_count": 1,
   "id": "functioning-knowing",
   "metadata": {
    "execution": {
     "iopub.execute_input": "2021-07-29T02:02:07.482917Z",
     "iopub.status.busy": "2021-07-29T02:02:07.482261Z",
     "iopub.status.idle": "2021-07-29T02:02:08.810295Z",
     "shell.execute_reply": "2021-07-29T02:02:08.809338Z"
    },
    "papermill": {
     "duration": 1.351735,
     "end_time": "2021-07-29T02:02:08.810449",
     "exception": false,
     "start_time": "2021-07-29T02:02:07.458714",
     "status": "completed"
    },
    "tags": []
   },
   "outputs": [],
   "source": [
    "#hide_input\n",
    "import warnings\n",
    "warnings.filterwarnings('ignore')\n",
    "from scripts.read_data import read_api\n",
    "from scripts.read_data import read_news\n",
    "from scripts.read_data import read_covid\n",
    "import matplotlib.pyplot as plt \n",
    "from IPython.display import Markdown as md"
   ]
  },
  {
   "cell_type": "code",
   "execution_count": 2,
   "id": "shared-acceptance",
   "metadata": {
    "execution": {
     "iopub.execute_input": "2021-07-29T02:02:08.837969Z",
     "iopub.status.busy": "2021-07-29T02:02:08.836629Z",
     "iopub.status.idle": "2021-07-29T02:02:17.755942Z",
     "shell.execute_reply": "2021-07-29T02:02:17.754982Z"
    },
    "papermill": {
     "duration": 8.935134,
     "end_time": "2021-07-29T02:02:17.756083",
     "exception": false,
     "start_time": "2021-07-29T02:02:08.820949",
     "status": "completed"
    },
    "tags": []
   },
   "outputs": [],
   "source": [
    "#hide_input\n",
    "blockchain = read_news('blockchain') \n",
    "btc = read_news('btc') \n",
    "xrp = read_news('xrp') \n",
    "trx = read_news('trx') \n",
    "eth = read_news('eth')  \n",
    "ada = read_news('ada')\n",
    "exchange = read_news('exchange') "
   ]
  },
  {
   "cell_type": "code",
   "execution_count": 3,
   "id": "synthetic-notion",
   "metadata": {
    "execution": {
     "iopub.execute_input": "2021-07-29T02:02:17.783487Z",
     "iopub.status.busy": "2021-07-29T02:02:17.782916Z",
     "iopub.status.idle": "2021-07-29T02:02:17.785077Z",
     "shell.execute_reply": "2021-07-29T02:02:17.785623Z"
    },
    "papermill": {
     "duration": 0.019145,
     "end_time": "2021-07-29T02:02:17.785759",
     "exception": false,
     "start_time": "2021-07-29T02:02:17.766614",
     "status": "completed"
    },
    "tags": []
   },
   "outputs": [
    {
     "data": {
      "text/markdown": [
       "- Multiverse secures $15M investment from Samsung Next, leading blockchain VCs.  “Ideas have value,” said Cliff Szu, co-founder of Multiverse Labs. “[O]ur overriding goal is to help people with great ideas to discover the true value of their innovations and inventions.”  ... [| Skaityti daugiau](https://cointelegraph.com/news/multiverse-secures-15m-investment-from-samsung-next-leading-blockchain-vcs) "
      ],
      "text/plain": [
       "<IPython.core.display.Markdown object>"
      ]
     },
     "execution_count": 3,
     "metadata": {},
     "output_type": "execute_result"
    }
   ],
   "source": [
    "#hide_input\n",
    "#md('##### {}'.format(titleBTC)) \n",
    "md(\"- {}{} {}{} [| Skaityti daugiau]({}) \".format(blockchain['title'],'. ', blockchain['body'], ' ...', blockchain['url']))"
   ]
  },
  {
   "cell_type": "code",
   "execution_count": 4,
   "id": "aging-caution",
   "metadata": {
    "execution": {
     "iopub.execute_input": "2021-07-29T02:02:17.812532Z",
     "iopub.status.busy": "2021-07-29T02:02:17.810937Z",
     "iopub.status.idle": "2021-07-29T02:02:17.815286Z",
     "shell.execute_reply": "2021-07-29T02:02:17.814718Z"
    },
    "papermill": {
     "duration": 0.019165,
     "end_time": "2021-07-29T02:02:17.815405",
     "exception": false,
     "start_time": "2021-07-29T02:02:17.796240",
     "status": "completed"
    },
    "tags": []
   },
   "outputs": [
    {
     "data": {
      "text/markdown": [
       "- Mike Novogratz Says Institutions Are Buying Bitcoin, Politicians Need More Crypto Education.  Galaxy Digital CEO Michael Novogratz says that cryptocurrencies, such as bitcoin, have bounced back because institutional investors are buying. Responding to U.S. Senator Elizabeth Warren&#8217;s anti-crypto stance, he stated, &#8220;We need to do a much better job going to D.C.&#8221; to educate lawmakers. Novogratz Says Institutions Are Buying Galaxy Digital CEO Mike Novogratz talked about [&#8230;] ... [| Skaityti daugiau](https://news.bitcoin.com/mike-novogratz-institutions-buying-bitcoin-politicians-need-crypto-education/) "
      ],
      "text/plain": [
       "<IPython.core.display.Markdown object>"
      ]
     },
     "execution_count": 4,
     "metadata": {},
     "output_type": "execute_result"
    }
   ],
   "source": [
    "#hide_input\n",
    "#md('##### {}'.format(titleBTC)) \n",
    "md(\"- {}{} {}{} [| Skaityti daugiau]({}) \".format(btc['title'],'. ', btc['body'], ' ...', btc['url']))"
   ]
  },
  {
   "cell_type": "code",
   "execution_count": 5,
   "id": "organic-actress",
   "metadata": {
    "execution": {
     "iopub.execute_input": "2021-07-29T02:02:17.843760Z",
     "iopub.status.busy": "2021-07-29T02:02:17.843169Z",
     "iopub.status.idle": "2021-07-29T02:02:17.846493Z",
     "shell.execute_reply": "2021-07-29T02:02:17.846962Z"
    },
    "papermill": {
     "duration": 0.020714,
     "end_time": "2021-07-29T02:02:17.847101",
     "exception": false,
     "start_time": "2021-07-29T02:02:17.826387",
     "status": "completed"
    },
    "tags": []
   },
   "outputs": [
    {
     "data": {
      "text/markdown": [
       "- Price analysis 7/28: BTC, ETH, BNB, ADA, XRP, DOGE, DOT, UNI, BCH, LTC.  Bitcoin's defense of the $38,000 level and renewed interest from institutional investors could be a sign that the bull trend is resuming. ... [| Skaityti daugiau](https://cointelegraph.com/news/price-analysis-7-28-btc-eth-bnb-ada-xrp-doge-dot-uni-bch-ltc) "
      ],
      "text/plain": [
       "<IPython.core.display.Markdown object>"
      ]
     },
     "execution_count": 5,
     "metadata": {},
     "output_type": "execute_result"
    }
   ],
   "source": [
    "#hide_input\n",
    "#md('##### {}'.format(titleBTC)) \n",
    "md(\"- {}{} {}{} [| Skaityti daugiau]({}) \".format(xrp['title'],'. ', xrp['body'], ' ...', xrp['url']))"
   ]
  },
  {
   "cell_type": "code",
   "execution_count": 6,
   "id": "prompt-farmer",
   "metadata": {
    "execution": {
     "iopub.execute_input": "2021-07-29T02:02:17.875605Z",
     "iopub.status.busy": "2021-07-29T02:02:17.875035Z",
     "iopub.status.idle": "2021-07-29T02:02:17.878574Z",
     "shell.execute_reply": "2021-07-29T02:02:17.878084Z"
    },
    "papermill": {
     "duration": 0.020304,
     "end_time": "2021-07-29T02:02:17.878700",
     "exception": false,
     "start_time": "2021-07-29T02:02:17.858396",
     "status": "completed"
    },
    "tags": []
   },
   "outputs": [
    {
     "data": {
      "text/markdown": [
       "- Tron (TRX) Price Analysis: Bulls Eye Surge Above $0.065.  Tron price started a fresh increase above the $0.0580 resistance against the US Dollar. TRX price is now trading well above $0.0580 and the 55 simple moving average (4-hours). There is a major bullish trend line forming with support near $0.0585 on the 4-hours chart (data feed via Bitfinex). The pair is likely to continue...The post Tron (TRX) Price Analysis: Bulls Eye Surge Above $0.065 appeared first on Live Bitcoin News. ... [| Skaityti daugiau](https://www.livebitcoinnews.com/tron-trx-price-analysis-bulls-eye-surge-above-0-065/) "
      ],
      "text/plain": [
       "<IPython.core.display.Markdown object>"
      ]
     },
     "execution_count": 6,
     "metadata": {},
     "output_type": "execute_result"
    }
   ],
   "source": [
    "#hide_input\n",
    "#md('##### {}'.format(titleBTC)) \n",
    "md(\"- {}{} {}{} [| Skaityti daugiau]({}) \".format(trx['title'],'. ', trx['body'], ' ...', trx['url']))"
   ]
  },
  {
   "cell_type": "code",
   "execution_count": 7,
   "id": "illegal-greece",
   "metadata": {
    "execution": {
     "iopub.execute_input": "2021-07-29T02:02:17.906907Z",
     "iopub.status.busy": "2021-07-29T02:02:17.906327Z",
     "iopub.status.idle": "2021-07-29T02:02:17.909721Z",
     "shell.execute_reply": "2021-07-29T02:02:17.909265Z"
    },
    "papermill": {
     "duration": 0.019429,
     "end_time": "2021-07-29T02:02:17.909840",
     "exception": false,
     "start_time": "2021-07-29T02:02:17.890411",
     "status": "completed"
    },
    "tags": []
   },
   "outputs": [
    {
     "data": {
      "text/markdown": [
       "- Price analysis 7/28: BTC, ETH, BNB, ADA, XRP, DOGE, DOT, UNI, BCH, LTC.  Bitcoin's defense of the $38,000 level and renewed interest from institutional investors could be a sign that the bull trend is resuming. ... [| Skaityti daugiau](https://cointelegraph.com/news/price-analysis-7-28-btc-eth-bnb-ada-xrp-doge-dot-uni-bch-ltc) "
      ],
      "text/plain": [
       "<IPython.core.display.Markdown object>"
      ]
     },
     "execution_count": 7,
     "metadata": {},
     "output_type": "execute_result"
    }
   ],
   "source": [
    "#hide_input\n",
    "#md('##### {}'.format(titleBTC)) \n",
    "md(\"- {}{} {}{} [| Skaityti daugiau]({}) \".format(eth['title'],'. ', eth['body'], ' ...', eth['url']))"
   ]
  },
  {
   "cell_type": "code",
   "execution_count": 8,
   "id": "sublime-lounge",
   "metadata": {
    "execution": {
     "iopub.execute_input": "2021-07-29T02:02:17.938487Z",
     "iopub.status.busy": "2021-07-29T02:02:17.937884Z",
     "iopub.status.idle": "2021-07-29T02:02:17.941496Z",
     "shell.execute_reply": "2021-07-29T02:02:17.941957Z"
    },
    "papermill": {
     "duration": 0.02044,
     "end_time": "2021-07-29T02:02:17.942091",
     "exception": false,
     "start_time": "2021-07-29T02:02:17.921651",
     "status": "completed"
    },
    "tags": []
   },
   "outputs": [
    {
     "data": {
      "text/markdown": [
       "- Price analysis 7/28: BTC, ETH, BNB, ADA, XRP, DOGE, DOT, UNI, BCH, LTC.  Bitcoin's defense of the $38,000 level and renewed interest from institutional investors could be a sign that the bull trend is resuming. ... [| Skaityti daugiau](https://cointelegraph.com/news/price-analysis-7-28-btc-eth-bnb-ada-xrp-doge-dot-uni-bch-ltc) "
      ],
      "text/plain": [
       "<IPython.core.display.Markdown object>"
      ]
     },
     "execution_count": 8,
     "metadata": {},
     "output_type": "execute_result"
    }
   ],
   "source": [
    "#hide_input\n",
    "#md('##### {}'.format(titleBTC)) \n",
    "md(\"- {}{} {}{} [| Skaityti daugiau]({}) \".format(ada['title'],'. ', ada['body'], ' ...', ada['url']))"
   ]
  },
  {
   "cell_type": "code",
   "execution_count": 9,
   "id": "specified-ordering",
   "metadata": {
    "execution": {
     "iopub.execute_input": "2021-07-29T02:02:17.971684Z",
     "iopub.status.busy": "2021-07-29T02:02:17.971117Z",
     "iopub.status.idle": "2021-07-29T02:02:17.974413Z",
     "shell.execute_reply": "2021-07-29T02:02:17.973904Z"
    },
    "papermill": {
     "duration": 0.020124,
     "end_time": "2021-07-29T02:02:17.974533",
     "exception": false,
     "start_time": "2021-07-29T02:02:17.954409",
     "status": "completed"
    },
    "tags": []
   },
   "outputs": [
    {
     "data": {
      "text/markdown": [
       "- Regulator Identifies ‘Fake’ Crypto Exchange Bank Accounts.  Source: Adobe/jon_chicaSouth Korea’s top financial regulator, the Financial Services Commission (FSC) said it has identified 14 “fake” bank accounts that are or have been used as fiat on/off ramps by domestic crypto exchanges.The FSC examined a total of 94 accounts belonging to 79 crypto exchanges and said it discovered that in 14 separate instances, the crypto exchanges’ bank accounts ... [| Skaityti daugiau](https://cryptonews.com/news/regulator-identifies-fake-crypto-exchange-bank-accounts-11234.htm) "
      ],
      "text/plain": [
       "<IPython.core.display.Markdown object>"
      ]
     },
     "execution_count": 9,
     "metadata": {},
     "output_type": "execute_result"
    }
   ],
   "source": [
    "#hide_input\n",
    "#md('##### {}'.format(titleBTC)) \n",
    "md(\"- {}{} {}{} [| Skaityti daugiau]({}) \".format(exchange['title'],'. ', exchange['body'], ' ...', exchange['url']))"
   ]
  },
  {
   "cell_type": "code",
   "execution_count": null,
   "id": "tender-livestock",
   "metadata": {
    "papermill": {
     "duration": 0.012482,
     "end_time": "2021-07-29T02:02:17.999551",
     "exception": false,
     "start_time": "2021-07-29T02:02:17.987069",
     "status": "completed"
    },
    "tags": []
   },
   "outputs": [],
   "source": []
  },
  {
   "cell_type": "code",
   "execution_count": null,
   "id": "appreciated-diamond",
   "metadata": {
    "papermill": {
     "duration": 0.012535,
     "end_time": "2021-07-29T02:02:18.024840",
     "exception": false,
     "start_time": "2021-07-29T02:02:18.012305",
     "status": "completed"
    },
    "tags": []
   },
   "outputs": [],
   "source": []
  },
  {
   "cell_type": "code",
   "execution_count": null,
   "id": "romance-sweden",
   "metadata": {
    "papermill": {
     "duration": 0.012491,
     "end_time": "2021-07-29T02:02:18.049853",
     "exception": false,
     "start_time": "2021-07-29T02:02:18.037362",
     "status": "completed"
    },
    "tags": []
   },
   "outputs": [],
   "source": []
  },
  {
   "cell_type": "code",
   "execution_count": null,
   "id": "dietary-statistics",
   "metadata": {
    "papermill": {
     "duration": 0.012474,
     "end_time": "2021-07-29T02:02:18.074895",
     "exception": false,
     "start_time": "2021-07-29T02:02:18.062421",
     "status": "completed"
    },
    "tags": []
   },
   "outputs": [],
   "source": []
  }
 ],
 "metadata": {
  "kernelspec": {
   "display_name": "Python 3",
   "language": "python",
   "name": "python3"
  },
  "language_info": {
   "codemirror_mode": {
    "name": "ipython",
    "version": 3
   },
   "file_extension": ".py",
   "mimetype": "text/x-python",
   "name": "python",
   "nbconvert_exporter": "python",
   "pygments_lexer": "ipython3",
   "version": "3.6.14"
  },
  "papermill": {
   "default_parameters": {},
   "duration": 12.293236,
   "end_time": "2021-07-29T02:02:18.494809",
   "environment_variables": {},
   "exception": null,
   "input_path": "Market-News.ipynb",
   "output_path": "Market-News.ipynb",
   "parameters": {},
   "start_time": "2021-07-29T02:02:06.201573",
   "version": "2.2.2"
  }
 },
 "nbformat": 4,
 "nbformat_minor": 5
}