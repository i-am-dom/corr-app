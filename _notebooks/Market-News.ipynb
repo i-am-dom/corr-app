{
 "cells": [
  {
   "cell_type": "markdown",
   "id": "short-greensboro",
   "metadata": {
    "papermill": {
     "duration": 0.018488,
     "end_time": "2022-02-18T02:07:00.932550",
     "exception": false,
     "start_time": "2022-02-18T02:07:00.914062",
     "status": "completed"
    },
    "tags": []
   },
   "source": [
    "# Kriptovaliutų naujienos"
   ]
  },
  {
   "cell_type": "code",
   "execution_count": 1,
   "id": "functioning-knowing",
   "metadata": {
    "execution": {
     "iopub.execute_input": "2022-02-18T02:07:00.967962Z",
     "iopub.status.busy": "2022-02-18T02:07:00.967219Z",
     "iopub.status.idle": "2022-02-18T02:07:02.536138Z",
     "shell.execute_reply": "2022-02-18T02:07:02.536621Z"
    },
    "papermill": {
     "duration": 1.59196,
     "end_time": "2022-02-18T02:07:02.536883",
     "exception": false,
     "start_time": "2022-02-18T02:07:00.944923",
     "status": "completed"
    },
    "tags": []
   },
   "outputs": [],
   "source": [
    "#hide_input\n",
    "import warnings\n",
    "warnings.filterwarnings('ignore')\n",
    "from scripts.read_data import read_api\n",
    "from scripts.read_data import read_news\n",
    "from scripts.read_data import read_covid\n",
    "import matplotlib.pyplot as plt \n",
    "from IPython.display import Markdown as md"
   ]
  },
  {
   "cell_type": "code",
   "execution_count": 2,
   "id": "shared-acceptance",
   "metadata": {
    "execution": {
     "iopub.execute_input": "2022-02-18T02:07:02.568668Z",
     "iopub.status.busy": "2022-02-18T02:07:02.567448Z",
     "iopub.status.idle": "2022-02-18T02:07:10.283253Z",
     "shell.execute_reply": "2022-02-18T02:07:10.282319Z"
    },
    "papermill": {
     "duration": 7.734427,
     "end_time": "2022-02-18T02:07:10.283402",
     "exception": false,
     "start_time": "2022-02-18T02:07:02.548975",
     "status": "completed"
    },
    "tags": []
   },
   "outputs": [],
   "source": [
    "#hide_input\n",
    "blockchain = read_news('blockchain') \n",
    "btc = read_news('btc') \n",
    "xrp = read_news('xrp') \n",
    "trx = read_news('trx') \n",
    "eth = read_news('eth')  \n",
    "ada = read_news('ada')\n",
    "exchange = read_news('exchange') "
   ]
  },
  {
   "cell_type": "code",
   "execution_count": 3,
   "id": "synthetic-notion",
   "metadata": {
    "execution": {
     "iopub.execute_input": "2022-02-18T02:07:10.316419Z",
     "iopub.status.busy": "2022-02-18T02:07:10.315688Z",
     "iopub.status.idle": "2022-02-18T02:07:10.318453Z",
     "shell.execute_reply": "2022-02-18T02:07:10.318973Z"
    },
    "papermill": {
     "duration": 0.022995,
     "end_time": "2022-02-18T02:07:10.319126",
     "exception": false,
     "start_time": "2022-02-18T02:07:10.296131",
     "status": "completed"
    },
    "tags": []
   },
   "outputs": [
    {
     "data": {
      "text/markdown": [
       "- Why Should I Care About Bitcoin?.  The layman's guide to understanding the cryptographic revolution taking place on the Bitcoin blockchain. ... [| Skaityti daugiau](https://bitcoinmagazine.com/culture/why-should-i-care-about-bitcoin) "
      ],
      "text/plain": [
       "<IPython.core.display.Markdown object>"
      ]
     },
     "execution_count": 3,
     "metadata": {},
     "output_type": "execute_result"
    }
   ],
   "source": [
    "#hide_input\n",
    "#md('##### {}'.format(titleBTC)) \n",
    "md(\"- {}{} {}{} [| Skaityti daugiau]({}) \".format(blockchain['title'],'. ', blockchain['body'], ' ...', blockchain['url']))"
   ]
  },
  {
   "cell_type": "code",
   "execution_count": 4,
   "id": "aging-caution",
   "metadata": {
    "execution": {
     "iopub.execute_input": "2022-02-18T02:07:10.348809Z",
     "iopub.status.busy": "2022-02-18T02:07:10.348073Z",
     "iopub.status.idle": "2022-02-18T02:07:10.351099Z",
     "shell.execute_reply": "2022-02-18T02:07:10.351593Z"
    },
    "papermill": {
     "duration": 0.020736,
     "end_time": "2022-02-18T02:07:10.351725",
     "exception": false,
     "start_time": "2022-02-18T02:07:10.330989",
     "status": "completed"
    },
    "tags": []
   },
   "outputs": [
    {
     "data": {
      "text/markdown": [
       "- Berkshire Hathaway’s Charlie Munger Says Government Should Ban Bitcoin — Calls Crypto ‘Venereal Disease’.  Berkshire Hathaway Vice Chairman Charlie Munger, Warren Buffett&#x2019;s right-hand man, wishes crypto would be banned immediately. He says the government made &#x201C;a huge mistake&#x201D; to allow cryptocurrencies, like bitcoin. &#x201C;It&#x2019;s like a venereal disease,&#x201D; he opined. Charlie Munger Says &#x2018;It Was a Huge Mistake&#x2019; to Allow Crypto at All Charlie Munger, Warren Buffett&#x2019;s right-hand man [&#8230;] ... [| Skaityti daugiau](https://news.bitcoin.com/berkshire-hathaways-charlie-munger-government-should-ban-bitcoin-calls-crypto-venereal-disease/) "
      ],
      "text/plain": [
       "<IPython.core.display.Markdown object>"
      ]
     },
     "execution_count": 4,
     "metadata": {},
     "output_type": "execute_result"
    }
   ],
   "source": [
    "#hide_input\n",
    "#md('##### {}'.format(titleBTC)) \n",
    "md(\"- {}{} {}{} [| Skaityti daugiau]({}) \".format(btc['title'],'. ', btc['body'], ' ...', btc['url']))"
   ]
  },
  {
   "cell_type": "code",
   "execution_count": 5,
   "id": "organic-actress",
   "metadata": {
    "execution": {
     "iopub.execute_input": "2022-02-18T02:07:10.383512Z",
     "iopub.status.busy": "2022-02-18T02:07:10.382786Z",
     "iopub.status.idle": "2022-02-18T02:07:10.386161Z",
     "shell.execute_reply": "2022-02-18T02:07:10.385597Z"
    },
    "papermill": {
     "duration": 0.021406,
     "end_time": "2022-02-18T02:07:10.386325",
     "exception": false,
     "start_time": "2022-02-18T02:07:10.364919",
     "status": "completed"
    },
    "tags": []
   },
   "outputs": [
    {
     "data": {
      "text/markdown": [
       "- Ripple Price Analysis: XRP Fails To Move Above $0.85 but Where is it Headed Next?.  XRP's price attempted to break above $0.85 yesterday, but sellers stopped it and pushed it into a pullback. ... [| Skaityti daugiau](https://cryptopotato.com/ripple-price-analysis-xrp-fails-to-move-above-0-85-but-where-is-it-headed-next/) "
      ],
      "text/plain": [
       "<IPython.core.display.Markdown object>"
      ]
     },
     "execution_count": 5,
     "metadata": {},
     "output_type": "execute_result"
    }
   ],
   "source": [
    "#hide_input\n",
    "#md('##### {}'.format(titleBTC)) \n",
    "md(\"- {}{} {}{} [| Skaityti daugiau]({}) \".format(xrp['title'],'. ', xrp['body'], ' ...', xrp['url']))"
   ]
  },
  {
   "cell_type": "code",
   "execution_count": 6,
   "id": "prompt-farmer",
   "metadata": {
    "execution": {
     "iopub.execute_input": "2022-02-18T02:07:10.417356Z",
     "iopub.status.busy": "2022-02-18T02:07:10.416695Z",
     "iopub.status.idle": "2022-02-18T02:07:10.435042Z",
     "shell.execute_reply": "2022-02-18T02:07:10.435749Z"
    },
    "papermill": {
     "duration": 0.036676,
     "end_time": "2022-02-18T02:07:10.435914",
     "exception": false,
     "start_time": "2022-02-18T02:07:10.399238",
     "status": "completed"
    },
    "tags": []
   },
   "outputs": [
    {
     "data": {
      "text/markdown": [
       "- Bitcoin Cash, Tron, Fantom Price Analysis: 17 February.  To affirm a healthy recovery phase, Bitcoin Cash still needed to close above the 50 EMA near the $331-resistance. On the other hand, Tron displayed a short-term uptrend as it swayed above its 20 EMA. But the 38.2% Fibonacci level continued to pose as a hurdle. Also, Fantom snapped off its trendline resistance and eyed [&#8230;] ... [| Skaityti daugiau](https://ambcrypto.com/bitcoin-cash-tron-fantom-price-analysis-17-february/) "
      ],
      "text/plain": [
       "<IPython.core.display.Markdown object>"
      ]
     },
     "execution_count": 6,
     "metadata": {},
     "output_type": "execute_result"
    }
   ],
   "source": [
    "#hide_input\n",
    "#md('##### {}'.format(titleBTC)) \n",
    "md(\"- {}{} {}{} [| Skaityti daugiau]({}) \".format(trx['title'],'. ', trx['body'], ' ...', trx['url']))"
   ]
  },
  {
   "cell_type": "code",
   "execution_count": 7,
   "id": "illegal-greece",
   "metadata": {
    "execution": {
     "iopub.execute_input": "2022-02-18T02:07:10.470353Z",
     "iopub.status.busy": "2022-02-18T02:07:10.469637Z",
     "iopub.status.idle": "2022-02-18T02:07:10.475157Z",
     "shell.execute_reply": "2022-02-18T02:07:10.474541Z"
    },
    "papermill": {
     "duration": 0.025033,
     "end_time": "2022-02-18T02:07:10.475292",
     "exception": false,
     "start_time": "2022-02-18T02:07:10.450259",
     "status": "completed"
    },
    "tags": []
   },
   "outputs": [
    {
     "data": {
      "text/markdown": [
       "- Reese Witherspoon Plans TV Shows, Films Based on World of Women Ethereum NFTs.  Witherspoon’s production company Hello Sunshine aims to create opportunities for women in the male-dominated NFT industry. ... [| Skaityti daugiau](https://decrypt.co/93213/reese-witherspoon-plans-tv-shows-films-based-on-world-of-women-ethereum-nfts) "
      ],
      "text/plain": [
       "<IPython.core.display.Markdown object>"
      ]
     },
     "execution_count": 7,
     "metadata": {},
     "output_type": "execute_result"
    }
   ],
   "source": [
    "#hide_input\n",
    "#md('##### {}'.format(titleBTC)) \n",
    "md(\"- {}{} {}{} [| Skaityti daugiau]({}) \".format(eth['title'],'. ', eth['body'], ' ...', eth['url']))"
   ]
  },
  {
   "cell_type": "code",
   "execution_count": 8,
   "id": "sublime-lounge",
   "metadata": {
    "execution": {
     "iopub.execute_input": "2022-02-18T02:07:10.509410Z",
     "iopub.status.busy": "2022-02-18T02:07:10.508598Z",
     "iopub.status.idle": "2022-02-18T02:07:10.512123Z",
     "shell.execute_reply": "2022-02-18T02:07:10.511603Z"
    },
    "papermill": {
     "duration": 0.022532,
     "end_time": "2022-02-18T02:07:10.512252",
     "exception": false,
     "start_time": "2022-02-18T02:07:10.489720",
     "status": "completed"
    },
    "tags": []
   },
   "outputs": [
    {
     "data": {
      "text/markdown": [
       "- Cardano ($ADA) on-Chain Activity Surges as New Addresses Jump 167%.  Activity on the Cardano ($ADA) network has exploded recently with the number of new daily addresses being created on the cryptocurrency’s network jumping 167% to 112,500 addresses seemingly out of the blue. According to on-chain analyst Ali Martinez, who first pointed to the surge in on-chain activity referencing IntoTheBlock’s Net Network growth metrics, a “sustained […] ... [| Skaityti daugiau](https://www.cryptoglobe.com/latest/2022/02/cardano-ada-on-chain-activity-surges-as-new-addresses-jump-167/) "
      ],
      "text/plain": [
       "<IPython.core.display.Markdown object>"
      ]
     },
     "execution_count": 8,
     "metadata": {},
     "output_type": "execute_result"
    }
   ],
   "source": [
    "#hide_input\n",
    "#md('##### {}'.format(titleBTC)) \n",
    "md(\"- {}{} {}{} [| Skaityti daugiau]({}) \".format(ada['title'],'. ', ada['body'], ' ...', ada['url']))"
   ]
  },
  {
   "cell_type": "code",
   "execution_count": 9,
   "id": "specified-ordering",
   "metadata": {
    "execution": {
     "iopub.execute_input": "2022-02-18T02:07:10.549378Z",
     "iopub.status.busy": "2022-02-18T02:07:10.548590Z",
     "iopub.status.idle": "2022-02-18T02:07:10.552305Z",
     "shell.execute_reply": "2022-02-18T02:07:10.551750Z"
    },
    "papermill": {
     "duration": 0.023873,
     "end_time": "2022-02-18T02:07:10.552450",
     "exception": false,
     "start_time": "2022-02-18T02:07:10.528577",
     "status": "completed"
    },
    "tags": []
   },
   "outputs": [
    {
     "data": {
      "text/markdown": [
       "- Kraken CEO Jesse Powell Still Bullish on Bitcoin, Says Use Cases for BTC Are Getting Stronger Everyday.  Kraken cryptocurrency exchange CEO Jesse Powell says the prevailing global political and economic climate is demonstrating the importance of Bitcoin (BTC). Powell says in a Bloomberg interview that he is bullish on Bitcoin despite the flagship cryptocurrency failing to hit $100,000 in 2021. &#8220;I&#8217;m still bullish on the price you know. A lot of us [&#8230;]The post Kraken CEO Jesse Powell Still Bullish on Bitcoin, Says Use Cases for BTC Are Getting Stronger Everyday appeared first on The Daily Hodl. ... [| Skaityti daugiau](https://dailyhodl.com/2022/02/17/kraken-ceo-jesse-powell-still-bullish-on-bitcoin-says-use-cases-for-btc-are-getting-stronger-everyday/) "
      ],
      "text/plain": [
       "<IPython.core.display.Markdown object>"
      ]
     },
     "execution_count": 9,
     "metadata": {},
     "output_type": "execute_result"
    }
   ],
   "source": [
    "#hide_input\n",
    "#md('##### {}'.format(titleBTC)) \n",
    "md(\"- {}{} {}{} [| Skaityti daugiau]({}) \".format(exchange['title'],'. ', exchange['body'], ' ...', exchange['url']))"
   ]
  },
  {
   "cell_type": "code",
   "execution_count": null,
   "id": "tender-livestock",
   "metadata": {
    "papermill": {
     "duration": 0.014914,
     "end_time": "2022-02-18T02:07:10.582019",
     "exception": false,
     "start_time": "2022-02-18T02:07:10.567105",
     "status": "completed"
    },
    "tags": []
   },
   "outputs": [],
   "source": []
  },
  {
   "cell_type": "code",
   "execution_count": null,
   "id": "appreciated-diamond",
   "metadata": {
    "papermill": {
     "duration": 0.015072,
     "end_time": "2022-02-18T02:07:10.611575",
     "exception": false,
     "start_time": "2022-02-18T02:07:10.596503",
     "status": "completed"
    },
    "tags": []
   },
   "outputs": [],
   "source": []
  },
  {
   "cell_type": "code",
   "execution_count": null,
   "id": "romance-sweden",
   "metadata": {
    "papermill": {
     "duration": 0.015868,
     "end_time": "2022-02-18T02:07:10.645867",
     "exception": false,
     "start_time": "2022-02-18T02:07:10.629999",
     "status": "completed"
    },
    "tags": []
   },
   "outputs": [],
   "source": []
  },
  {
   "cell_type": "code",
   "execution_count": null,
   "id": "dietary-statistics",
   "metadata": {
    "papermill": {
     "duration": 0.021459,
     "end_time": "2022-02-18T02:07:10.681442",
     "exception": false,
     "start_time": "2022-02-18T02:07:10.659983",
     "status": "completed"
    },
    "tags": []
   },
   "outputs": [],
   "source": []
  }
 ],
 "metadata": {
  "kernelspec": {
   "display_name": "Python 3",
   "language": "python",
   "name": "python3"
  },
  "language_info": {
   "codemirror_mode": {
    "name": "ipython",
    "version": 3
   },
   "file_extension": ".py",
   "mimetype": "text/x-python",
   "name": "python",
   "nbconvert_exporter": "python",
   "pygments_lexer": "ipython3",
   "version": "3.6.15"
  },
  "papermill": {
   "default_parameters": {},
   "duration": 11.589569,
   "end_time": "2022-02-18T02:07:11.117816",
   "environment_variables": {},
   "exception": null,
   "input_path": "Market-News.ipynb",
   "output_path": "Market-News.ipynb",
   "parameters": {},
   "start_time": "2022-02-18T02:06:59.528247",
   "version": "2.2.2"
  }
 },
 "nbformat": 4,
 "nbformat_minor": 5
}