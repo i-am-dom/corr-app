{
 "cells": [
  {
   "cell_type": "markdown",
   "id": "short-greensboro",
   "metadata": {
    "papermill": {
     "duration": 0.01576,
     "end_time": "2022-05-07T02:40:00.344328",
     "exception": false,
     "start_time": "2022-05-07T02:40:00.328568",
     "status": "completed"
    },
    "tags": []
   },
   "source": [
    "# Kriptovaliutų naujienos"
   ]
  },
  {
   "cell_type": "code",
   "execution_count": 1,
   "id": "functioning-knowing",
   "metadata": {
    "execution": {
     "iopub.execute_input": "2022-05-07T02:40:00.381375Z",
     "iopub.status.busy": "2022-05-07T02:40:00.380342Z",
     "iopub.status.idle": "2022-05-07T02:40:02.036365Z",
     "shell.execute_reply": "2022-05-07T02:40:02.035640Z"
    },
    "papermill": {
     "duration": 1.679664,
     "end_time": "2022-05-07T02:40:02.036530",
     "exception": false,
     "start_time": "2022-05-07T02:40:00.356866",
     "status": "completed"
    },
    "tags": []
   },
   "outputs": [],
   "source": [
    "#hide_input\n",
    "import warnings\n",
    "warnings.filterwarnings('ignore')\n",
    "from scripts.read_data import read_api\n",
    "from scripts.read_data import read_news\n",
    "from scripts.read_data import read_covid\n",
    "import matplotlib.pyplot as plt \n",
    "from IPython.display import Markdown as md"
   ]
  },
  {
   "cell_type": "code",
   "execution_count": 2,
   "id": "shared-acceptance",
   "metadata": {
    "execution": {
     "iopub.execute_input": "2022-05-07T02:40:02.071474Z",
     "iopub.status.busy": "2022-05-07T02:40:02.070772Z",
     "iopub.status.idle": "2022-05-07T02:40:13.318252Z",
     "shell.execute_reply": "2022-05-07T02:40:13.318815Z"
    },
    "papermill": {
     "duration": 11.269709,
     "end_time": "2022-05-07T02:40:13.318992",
     "exception": false,
     "start_time": "2022-05-07T02:40:02.049283",
     "status": "completed"
    },
    "tags": []
   },
   "outputs": [],
   "source": [
    "#hide_input\n",
    "blockchain = read_news('blockchain') \n",
    "btc = read_news('btc') \n",
    "xrp = read_news('xrp') \n",
    "trx = read_news('trx') \n",
    "eth = read_news('eth')  \n",
    "ada = read_news('ada')\n",
    "exchange = read_news('exchange') "
   ]
  },
  {
   "cell_type": "code",
   "execution_count": 3,
   "id": "synthetic-notion",
   "metadata": {
    "execution": {
     "iopub.execute_input": "2022-05-07T02:40:13.356802Z",
     "iopub.status.busy": "2022-05-07T02:40:13.355640Z",
     "iopub.status.idle": "2022-05-07T02:40:13.361238Z",
     "shell.execute_reply": "2022-05-07T02:40:13.360680Z"
    },
    "papermill": {
     "duration": 0.028129,
     "end_time": "2022-05-07T02:40:13.361499",
     "exception": false,
     "start_time": "2022-05-07T02:40:13.333370",
     "status": "completed"
    },
    "tags": []
   },
   "outputs": [
    {
     "data": {
      "text/markdown": [
       "- The Role of Africa in Cryptocurrency Adoption.  Africa is the second largest continent in terms of population. According to Worldometer, its population is about 1.34 billion. In the Cryptocurrency space, numbers play an important role in determining a lot of data that is essential for the survival of a project. According to available data, over $105 billion in transactions were sent into Africa in 2021. When the present total market capitalization of about $1.8 trillion is considered, we can see that Africa has been positioned as an important continent in the crypto space. Between June 2020 and June 2021, the rate of Cryptocurrency adoption in Africa has grown by 12times. This is a big growth that has a great impact on the market. Some of the roles that Africa can provide in crypto adoption include: Avenue for growth of Cryptocurrency Laboratories. Avenue for the adoption of projects with real-life application Avenue to source for experts Avenue for growth of Cryptocurrency Laboratories Cryptocurrency and Blockchain laboratories has served as an avenue where research and new developmental ideas are hatched. Top technology giant companies like Binance, CV exchange in Switzerland all have blockchains laboratories in Africa. One of the reasons for this, is the rapid growth of market in recent times. Three African countries Nigeria, Kenya, and South Africa are among the top six countries in Crypto adoption in the world. This is due to the nature of Africans to adopt projects an... ... [| Skaityti daugiau](https://www.cryptoknowmics.com/news/the-role-of-africa-in-cryptocurrency-adoption/?utm_source=rss&utm_medium=rss&utm_campaign=the-role-of-africa-in-cryptocurrency-adoption) "
      ],
      "text/plain": [
       "<IPython.core.display.Markdown object>"
      ]
     },
     "execution_count": 3,
     "metadata": {},
     "output_type": "execute_result"
    }
   ],
   "source": [
    "#hide_input\n",
    "#md('##### {}'.format(titleBTC)) \n",
    "md(\"- {}{} {}{} [| Skaityti daugiau]({}) \".format(blockchain['title'],'. ', blockchain['body'], ' ...', blockchain['url']))"
   ]
  },
  {
   "cell_type": "code",
   "execution_count": 4,
   "id": "aging-caution",
   "metadata": {
    "execution": {
     "iopub.execute_input": "2022-05-07T02:40:13.392279Z",
     "iopub.status.busy": "2022-05-07T02:40:13.391650Z",
     "iopub.status.idle": "2022-05-07T02:40:13.398470Z",
     "shell.execute_reply": "2022-05-07T02:40:13.399162Z"
    },
    "papermill": {
     "duration": 0.024128,
     "end_time": "2022-05-07T02:40:13.399316",
     "exception": false,
     "start_time": "2022-05-07T02:40:13.375188",
     "status": "completed"
    },
    "tags": []
   },
   "outputs": [
    {
     "data": {
      "text/markdown": [
       "- How does the level of BTC adaptation increase the popularity of Crypto gambling?.  The Bitcoin sector has seen a significant transformation in recent years. Crypto gaming has grown in popularity due to price surges and countries adopting Bitcoin as legal tender. The choice of so many BTC changes triggered diverse emotions everywhere. While some thought it was a huge step forward for the Crypto business, others were worried... ... [| Skaityti daugiau](https://www.cryptopolitan.com/how-does-the-level-of-btc-adaptation-increase-the-popularity-of-crypto-gambling/) "
      ],
      "text/plain": [
       "<IPython.core.display.Markdown object>"
      ]
     },
     "execution_count": 4,
     "metadata": {},
     "output_type": "execute_result"
    }
   ],
   "source": [
    "#hide_input\n",
    "#md('##### {}'.format(titleBTC)) \n",
    "md(\"- {}{} {}{} [| Skaityti daugiau]({}) \".format(btc['title'],'. ', btc['body'], ' ...', btc['url']))"
   ]
  },
  {
   "cell_type": "code",
   "execution_count": 5,
   "id": "organic-actress",
   "metadata": {
    "execution": {
     "iopub.execute_input": "2022-05-07T02:40:13.433348Z",
     "iopub.status.busy": "2022-05-07T02:40:13.432714Z",
     "iopub.status.idle": "2022-05-07T02:40:13.436082Z",
     "shell.execute_reply": "2022-05-07T02:40:13.436757Z"
    },
    "papermill": {
     "duration": 0.024221,
     "end_time": "2022-05-07T02:40:13.436893",
     "exception": false,
     "start_time": "2022-05-07T02:40:13.412672",
     "status": "completed"
    },
    "tags": []
   },
   "outputs": [
    {
     "data": {
      "text/markdown": [
       "- Close to 1 Year Past Its Launch, $RACA Records a Rise of 2880%, Surpassing Bitcoin, Ethereum, Decentraland, BNB, and XRP.  RACA is close to celebrating its one-year anniversary. Although the cryptocurrency market has been experiencing a bear market very similar to what happened in 2018, $RACA is still going strong with a 2880% appreciation since its launch on May 16, 2021, according to data from coincarp, which showed that $RACA&#8217;s marketcap has jumped from $10 [&#8230;]The post Close to 1 Year Past Its Launch, $RACA Records a Rise of 2880%, Surpassing Bitcoin, Ethereum, Decentraland, BNB, and XRP appeared first on NullTX. ... [| Skaityti daugiau](https://nulltx.com/close-to-1-year-past-its-launch-raca-records-a-rise-of-2880-surpassing-bitcoin-ethereum-decentraland-bnb-and-xrp/) "
      ],
      "text/plain": [
       "<IPython.core.display.Markdown object>"
      ]
     },
     "execution_count": 5,
     "metadata": {},
     "output_type": "execute_result"
    }
   ],
   "source": [
    "#hide_input\n",
    "#md('##### {}'.format(titleBTC)) \n",
    "md(\"- {}{} {}{} [| Skaityti daugiau]({}) \".format(xrp['title'],'. ', xrp['body'], ' ...', xrp['url']))"
   ]
  },
  {
   "cell_type": "code",
   "execution_count": 6,
   "id": "prompt-farmer",
   "metadata": {
    "execution": {
     "iopub.execute_input": "2022-05-07T02:40:13.471116Z",
     "iopub.status.busy": "2022-05-07T02:40:13.470381Z",
     "iopub.status.idle": "2022-05-07T02:40:13.478083Z",
     "shell.execute_reply": "2022-05-07T02:40:13.477382Z"
    },
    "papermill": {
     "duration": 0.027668,
     "end_time": "2022-05-07T02:40:13.478211",
     "exception": false,
     "start_time": "2022-05-07T02:40:13.450543",
     "status": "completed"
    },
    "tags": []
   },
   "outputs": [
    {
     "data": {
      "text/markdown": [
       "- Tron’s TRX Price Emerges As a Clear Winner Amidst The Crypto Market Crash. Here’s Why.  The post Tron’s TRX Price Emerges As a Clear Winner Amidst The Crypto Market Crash. Here&#8217;s Why appeared first on Coinpedia - Fintech &amp; Cryptocurreny News Media| Crypto GuideTRX, Tron&#8217;s native coin, has been trending upwards since the beginning of the month. Tron has announced that its algorithmic stable currency USDD will be available soon and since then it has experienced an increase in interest. Tron was trading at $0.086 at the time of writing. After reaching the $0.09 resistance level, the coin &#8230; ... [| Skaityti daugiau](https://coinpedia.org/altcoin/trons-trx-price-emerges-as-a-clear-winner-amidst-the-crypto-market-crash-heres-why/) "
      ],
      "text/plain": [
       "<IPython.core.display.Markdown object>"
      ]
     },
     "execution_count": 6,
     "metadata": {},
     "output_type": "execute_result"
    }
   ],
   "source": [
    "#hide_input\n",
    "#md('##### {}'.format(titleBTC)) \n",
    "md(\"- {}{} {}{} [| Skaityti daugiau]({}) \".format(trx['title'],'. ', trx['body'], ' ...', trx['url']))"
   ]
  },
  {
   "cell_type": "code",
   "execution_count": 7,
   "id": "illegal-greece",
   "metadata": {
    "execution": {
     "iopub.execute_input": "2022-05-07T02:40:13.519948Z",
     "iopub.status.busy": "2022-05-07T02:40:13.517395Z",
     "iopub.status.idle": "2022-05-07T02:40:13.522709Z",
     "shell.execute_reply": "2022-05-07T02:40:13.523267Z"
    },
    "papermill": {
     "duration": 0.029441,
     "end_time": "2022-05-07T02:40:13.523412",
     "exception": false,
     "start_time": "2022-05-07T02:40:13.493971",
     "status": "completed"
    },
    "tags": []
   },
   "outputs": [
    {
     "data": {
      "text/markdown": [
       "- Exploring Bitcoin-Secured NFTs.  In the last year, non-fungible tokens (NFTs) have become the most prominent buzzword in the crypto space. By the end of 2021, the cumulative trading volume of NFTs was more than $21 billion. This figure was 200 times more than the $120 million recorded before that year. The number of people trading NFTs also increased significantly, growing from less than 1.3 million before 2021 to nearly 65 million by the end of that year. By the second half of 2021, many big-name brands, such as Disney, Budweiser, Adidas, and Nike, were getting in on the NFT action. And as 2022 has progressed, it seems like more brands and companies will follow suit. NFTs on Bitcoin? For the longest time, the NFT market has almost exclusively been on Ethereum (ETH). Recently, other networks such as Solana, Polygon, and Flow have also grabbed portions of the NFT market for themselves. But what about Bitcoin? Bitcoin (BTC) is considered the best, most decentralized digital currency layer. And slightly more than 1% of all BTC in circulation is issued as wrapped Bitcoin (wBTC), an ERC20 token representing Bitcoin on the Ethereum network. This means that there is a demand for using BTC in smart contracts. Smart contracts are the principal means of creating and managing tokens on a blockchain. However, unlike Ethereum, Bitcoin does not have smart contract capabilities. Therefore, it is impossible to natively run the codes needed to power NFTs on the network. But a... ... [| Skaityti daugiau](https://www.cryptoknowmics.com/news/exploring-bitcoin-secured-nfts/?utm_source=rss&utm_medium=rss&utm_campaign=exploring-bitcoin-secured-nfts) "
      ],
      "text/plain": [
       "<IPython.core.display.Markdown object>"
      ]
     },
     "execution_count": 7,
     "metadata": {},
     "output_type": "execute_result"
    }
   ],
   "source": [
    "#hide_input\n",
    "#md('##### {}'.format(titleBTC)) \n",
    "md(\"- {}{} {}{} [| Skaityti daugiau]({}) \".format(eth['title'],'. ', eth['body'], ' ...', eth['url']))"
   ]
  },
  {
   "cell_type": "code",
   "execution_count": 8,
   "id": "sublime-lounge",
   "metadata": {
    "execution": {
     "iopub.execute_input": "2022-05-07T02:40:13.557608Z",
     "iopub.status.busy": "2022-05-07T02:40:13.556910Z",
     "iopub.status.idle": "2022-05-07T02:40:13.562744Z",
     "shell.execute_reply": "2022-05-07T02:40:13.563418Z"
    },
    "papermill": {
     "duration": 0.026918,
     "end_time": "2022-05-07T02:40:13.563652",
     "exception": false,
     "start_time": "2022-05-07T02:40:13.536734",
     "status": "completed"
    },
    "tags": []
   },
   "outputs": [
    {
     "data": {
      "text/markdown": [
       "- Is SundaeSwap Really A Fraud? Cardano’s Founder Fires Back At DEX Critics.  Charles Hoskinson is clearly not letting any Cardano criticism slide these days. The CEO of the Cardano Blockchain has fired back at a popular cryptocurrency commentator, Ran Neuner, who recently critiqued the decentralized exchanges (DEX). Charles Hoskinson makes a case for DEX’s Ran Neuner, who is popular for making cryptocurrency related content, had taken to The post Is SundaeSwap Really A Fraud? Cardano&#8217;s Founder Fires Back At DEX Critics appeared first on CoinGape. ... [| Skaityti daugiau](https://coingape.com/is-sundaeswap-really-a-fraud-cardanos-founder-fires-back-at-dex-critics/) "
      ],
      "text/plain": [
       "<IPython.core.display.Markdown object>"
      ]
     },
     "execution_count": 8,
     "metadata": {},
     "output_type": "execute_result"
    }
   ],
   "source": [
    "#hide_input\n",
    "#md('##### {}'.format(titleBTC)) \n",
    "md(\"- {}{} {}{} [| Skaityti daugiau]({}) \".format(ada['title'],'. ', ada['body'], ' ...', ada['url']))"
   ]
  },
  {
   "cell_type": "code",
   "execution_count": 9,
   "id": "specified-ordering",
   "metadata": {
    "execution": {
     "iopub.execute_input": "2022-05-07T02:40:13.599338Z",
     "iopub.status.busy": "2022-05-07T02:40:13.597966Z",
     "iopub.status.idle": "2022-05-07T02:40:13.601395Z",
     "shell.execute_reply": "2022-05-07T02:40:13.601841Z"
    },
    "papermill": {
     "duration": 0.023854,
     "end_time": "2022-05-07T02:40:13.601977",
     "exception": false,
     "start_time": "2022-05-07T02:40:13.578123",
     "status": "completed"
    },
    "tags": []
   },
   "outputs": [
    {
     "data": {
      "text/markdown": [
       "- FTX Token (FTT) Price Prediction 2022- Will FTT’s Price Hit $84.90 in 2022?.  FTX Token (FTT)) is the native token of FTX Exchange which is the second-largest exchange for spot trading in the world at present. FTX Token (FTT) is an Ethereum-based token that was launched on the Ethereum blockchain in May 2019. Some major details about FTT Price: Bullish FTT Price in 2022 is between $41.11 and $84.90. Bearish FTT Price 2022 is $22.19. FTX Token (FTT) can as well be used in payment of transaction fees on the FTX exchange. It was co-founded by Sam Bankman-Fried and Gary Wang. Present and Past Performance of the FTX Token (FTT) In the past 24-hours, the price of FTX Token (FTT) has increased by 4.43%. FTT is trading at $39.65 at the time of writing. The trading volume of FTT moved from $81,135,956 on May 4th to $82,731,782 at present. This represents a 1.96% increase in volume of trade. Hence, the price increase might be attributed to rising in trading volume. Within 7 days, the price of FTX Token (FTT) closed at $38.78 on April 298h and closed at $39.56 on May 4th. This represents 2.01% increase. However, the trading volume of FTT increased from $71,311,704 on April 29th to $82,731,782 at present. This represents 16.01% increase. Comparison of FTX Token (FTT) with Bitcoin (BTC) Source: https://www.tradingview.com/x/8ubdW38o/ From the chart above, we can observe that the trend pattern of FTT/USDT and BTC/USDT looks similar. However, from data available in CoinGecko, BTC price has increased by 1.1% in the pas... ... [| Skaityti daugiau](https://www.cryptoknowmics.com/news/ftx-token-ftt-price-prediction-2022-will-ftts-price-hit-84-90-in-2022/?utm_source=rss&utm_medium=rss&utm_campaign=ftx-token-ftt-price-prediction-2022-will-ftts-price-hit-84-90-in-2022) "
      ],
      "text/plain": [
       "<IPython.core.display.Markdown object>"
      ]
     },
     "execution_count": 9,
     "metadata": {},
     "output_type": "execute_result"
    }
   ],
   "source": [
    "#hide_input\n",
    "#md('##### {}'.format(titleBTC)) \n",
    "md(\"- {}{} {}{} [| Skaityti daugiau]({}) \".format(exchange['title'],'. ', exchange['body'], ' ...', exchange['url']))"
   ]
  },
  {
   "cell_type": "code",
   "execution_count": null,
   "id": "tender-livestock",
   "metadata": {
    "papermill": {
     "duration": 0.015318,
     "end_time": "2022-05-07T02:40:13.631865",
     "exception": false,
     "start_time": "2022-05-07T02:40:13.616547",
     "status": "completed"
    },
    "tags": []
   },
   "outputs": [],
   "source": []
  },
  {
   "cell_type": "code",
   "execution_count": null,
   "id": "appreciated-diamond",
   "metadata": {
    "papermill": {
     "duration": 0.017211,
     "end_time": "2022-05-07T02:40:13.663061",
     "exception": false,
     "start_time": "2022-05-07T02:40:13.645850",
     "status": "completed"
    },
    "tags": []
   },
   "outputs": [],
   "source": []
  },
  {
   "cell_type": "code",
   "execution_count": null,
   "id": "romance-sweden",
   "metadata": {
    "papermill": {
     "duration": 0.015922,
     "end_time": "2022-05-07T02:40:13.694826",
     "exception": false,
     "start_time": "2022-05-07T02:40:13.678904",
     "status": "completed"
    },
    "tags": []
   },
   "outputs": [],
   "source": []
  },
  {
   "cell_type": "code",
   "execution_count": null,
   "id": "dietary-statistics",
   "metadata": {
    "papermill": {
     "duration": 0.014117,
     "end_time": "2022-05-07T02:40:13.727289",
     "exception": false,
     "start_time": "2022-05-07T02:40:13.713172",
     "status": "completed"
    },
    "tags": []
   },
   "outputs": [],
   "source": []
  }
 ],
 "metadata": {
  "kernelspec": {
   "display_name": "Python 3",
   "language": "python",
   "name": "python3"
  },
  "language_info": {
   "codemirror_mode": {
    "name": "ipython",
    "version": 3
   },
   "file_extension": ".py",
   "mimetype": "text/x-python",
   "name": "python",
   "nbconvert_exporter": "python",
   "pygments_lexer": "ipython3",
   "version": "3.6.15"
  },
  "papermill": {
   "default_parameters": {},
   "duration": 15.393502,
   "end_time": "2022-05-07T02:40:14.361639",
   "environment_variables": {},
   "exception": null,
   "input_path": "Market-News.ipynb",
   "output_path": "Market-News.ipynb",
   "parameters": {},
   "start_time": "2022-05-07T02:39:58.968137",
   "version": "2.2.2"
  }
 },
 "nbformat": 4,
 "nbformat_minor": 5
}