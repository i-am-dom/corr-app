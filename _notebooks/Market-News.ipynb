{
 "cells": [
  {
   "cell_type": "markdown",
   "id": "short-greensboro",
   "metadata": {
    "papermill": {
     "duration": 0.013873,
     "end_time": "2022-04-23T02:39:40.921889",
     "exception": false,
     "start_time": "2022-04-23T02:39:40.908016",
     "status": "completed"
    },
    "tags": []
   },
   "source": [
    "# Kriptovaliutų naujienos"
   ]
  },
  {
   "cell_type": "code",
   "execution_count": 1,
   "id": "functioning-knowing",
   "metadata": {
    "execution": {
     "iopub.execute_input": "2022-04-23T02:39:40.951385Z",
     "iopub.status.busy": "2022-04-23T02:39:40.950823Z",
     "iopub.status.idle": "2022-04-23T02:39:42.236101Z",
     "shell.execute_reply": "2022-04-23T02:39:42.236583Z"
    },
    "papermill": {
     "duration": 1.305102,
     "end_time": "2022-04-23T02:39:42.236768",
     "exception": false,
     "start_time": "2022-04-23T02:39:40.931666",
     "status": "completed"
    },
    "tags": []
   },
   "outputs": [],
   "source": [
    "#hide_input\n",
    "import warnings\n",
    "warnings.filterwarnings('ignore')\n",
    "from scripts.read_data import read_api\n",
    "from scripts.read_data import read_news\n",
    "from scripts.read_data import read_covid\n",
    "import matplotlib.pyplot as plt \n",
    "from IPython.display import Markdown as md"
   ]
  },
  {
   "cell_type": "code",
   "execution_count": 2,
   "id": "shared-acceptance",
   "metadata": {
    "execution": {
     "iopub.execute_input": "2022-04-23T02:39:42.259289Z",
     "iopub.status.busy": "2022-04-23T02:39:42.258744Z",
     "iopub.status.idle": "2022-04-23T02:39:53.589660Z",
     "shell.execute_reply": "2022-04-23T02:39:53.590152Z"
    },
    "papermill": {
     "duration": 11.344236,
     "end_time": "2022-04-23T02:39:53.590318",
     "exception": false,
     "start_time": "2022-04-23T02:39:42.246082",
     "status": "completed"
    },
    "tags": []
   },
   "outputs": [],
   "source": [
    "#hide_input\n",
    "blockchain = read_news('blockchain') \n",
    "btc = read_news('btc') \n",
    "xrp = read_news('xrp') \n",
    "trx = read_news('trx') \n",
    "eth = read_news('eth')  \n",
    "ada = read_news('ada')\n",
    "exchange = read_news('exchange') "
   ]
  },
  {
   "cell_type": "code",
   "execution_count": 3,
   "id": "synthetic-notion",
   "metadata": {
    "execution": {
     "iopub.execute_input": "2022-04-23T02:39:53.614874Z",
     "iopub.status.busy": "2022-04-23T02:39:53.614345Z",
     "iopub.status.idle": "2022-04-23T02:39:53.619985Z",
     "shell.execute_reply": "2022-04-23T02:39:53.620516Z"
    },
    "papermill": {
     "duration": 0.020786,
     "end_time": "2022-04-23T02:39:53.620658",
     "exception": false,
     "start_time": "2022-04-23T02:39:53.599872",
     "status": "completed"
    },
    "tags": []
   },
   "outputs": [
    {
     "data": {
      "text/markdown": [
       "- Polygon (MATIC) Throws In $100 Million To Expand Its Supernets Network.  Polygon, the popular Ethereum scaling platform, has been broadening its ecosystem. The protocol announced today that it is committing $100 million to promote the development and adoption of Supernets, its application-specific blockchains with higher performance. What are Polygon&#8217;s Supernets? Supernets are Polygon&#8217;s latest addition to its multi-chain L1 blockchains powering ecosystem. In a blog post, The post Polygon (MATIC) Throws In $100 Million To Expand Its Supernets Network appeared first on CoinGape. ... [| Skaityti daugiau](https://coingape.com/polygon-matic-throws-in-100-million-to-expand-its-supernets-network/) "
      ],
      "text/plain": [
       "<IPython.core.display.Markdown object>"
      ]
     },
     "execution_count": 3,
     "metadata": {},
     "output_type": "execute_result"
    }
   ],
   "source": [
    "#hide_input\n",
    "#md('##### {}'.format(titleBTC)) \n",
    "md(\"- {}{} {}{} [| Skaityti daugiau]({}) \".format(blockchain['title'],'. ', blockchain['body'], ' ...', blockchain['url']))"
   ]
  },
  {
   "cell_type": "code",
   "execution_count": 4,
   "id": "aging-caution",
   "metadata": {
    "execution": {
     "iopub.execute_input": "2022-04-23T02:39:53.644540Z",
     "iopub.status.busy": "2022-04-23T02:39:53.643968Z",
     "iopub.status.idle": "2022-04-23T02:39:53.648098Z",
     "shell.execute_reply": "2022-04-23T02:39:53.647670Z"
    },
    "papermill": {
     "duration": 0.018167,
     "end_time": "2022-04-23T02:39:53.648213",
     "exception": false,
     "start_time": "2022-04-23T02:39:53.630046",
     "status": "completed"
    },
    "tags": []
   },
   "outputs": [
    {
     "data": {
      "text/markdown": [
       "- Bitcoin Dips Below $40k Once Again But Here is a Twist, What Next For BTC Price?.  The post Bitcoin Dips Below $40k Once Again But Here is a Twist, What Next For BTC Price? appeared first on Coinpedia - Fintech &amp; Cryptocurreny News Media| Crypto GuideThe world&#8217;s most valuable currency begins the day on a flat note near $40,000 and then moves into a fairly narrow range. Despite this, the present market movement is attracting buyers for new upside positions. BTC fell about 6 percent in the previous session, breaking below the critical $40,000 barrier. BTC/USD has dropped again after &#8230; ... [| Skaityti daugiau](https://coinpedia.org/bitcoin/bitcoin-dips-below-40k-once-again-but-here-is-a-twist-what-next-for-btc-price/) "
      ],
      "text/plain": [
       "<IPython.core.display.Markdown object>"
      ]
     },
     "execution_count": 4,
     "metadata": {},
     "output_type": "execute_result"
    }
   ],
   "source": [
    "#hide_input\n",
    "#md('##### {}'.format(titleBTC)) \n",
    "md(\"- {}{} {}{} [| Skaityti daugiau]({}) \".format(btc['title'],'. ', btc['body'], ' ...', btc['url']))"
   ]
  },
  {
   "cell_type": "code",
   "execution_count": 5,
   "id": "organic-actress",
   "metadata": {
    "execution": {
     "iopub.execute_input": "2022-04-23T02:39:53.672483Z",
     "iopub.status.busy": "2022-04-23T02:39:53.671860Z",
     "iopub.status.idle": "2022-04-23T02:39:53.675932Z",
     "shell.execute_reply": "2022-04-23T02:39:53.675515Z"
    },
    "papermill": {
     "duration": 0.01818,
     "end_time": "2022-04-23T02:39:53.676043",
     "exception": false,
     "start_time": "2022-04-23T02:39:53.657863",
     "status": "completed"
    },
    "tags": []
   },
   "outputs": [
    {
     "data": {
      "text/markdown": [
       "- Price analysis 4/22: BTC, ETH, BNB, XRP, SOL, ADA, LUNA, AVAX, DOGE, DOT.  Bitcoin and altcoins continue to bounce off underlying support areas, raising the chance that a sharp down-side move could occur.  ... [| Skaityti daugiau](https://cointelegraph.com/news/price-analysis-4-22-btc-eth-bnb-xrp-sol-ada-luna-avax-doge-dot) "
      ],
      "text/plain": [
       "<IPython.core.display.Markdown object>"
      ]
     },
     "execution_count": 5,
     "metadata": {},
     "output_type": "execute_result"
    }
   ],
   "source": [
    "#hide_input\n",
    "#md('##### {}'.format(titleBTC)) \n",
    "md(\"- {}{} {}{} [| Skaityti daugiau]({}) \".format(xrp['title'],'. ', xrp['body'], ' ...', xrp['url']))"
   ]
  },
  {
   "cell_type": "code",
   "execution_count": 6,
   "id": "prompt-farmer",
   "metadata": {
    "execution": {
     "iopub.execute_input": "2022-04-23T02:39:53.701651Z",
     "iopub.status.busy": "2022-04-23T02:39:53.701112Z",
     "iopub.status.idle": "2022-04-23T02:39:53.703691Z",
     "shell.execute_reply": "2022-04-23T02:39:53.704098Z"
    },
    "papermill": {
     "duration": 0.018339,
     "end_time": "2022-04-23T02:39:53.704221",
     "exception": false,
     "start_time": "2022-04-23T02:39:53.685882",
     "status": "completed"
    },
    "tags": []
   },
   "outputs": [
    {
     "data": {
      "text/markdown": [
       "- Crypto Flipsider News – TRX Gains 10%, ZRX Jumps 60%, STEPN Sets New ATH, Binance Limits Russian Services, 21Shares to Launch World’s First Spot ETFs, Fidelity Launches New Metaverse ETFs, Optimism to Launch a Token on Ethereum?.  If you are interested to read about the newest crypto events click here.Continue reading Crypto Flipsider News – TRX Gains 10%, ZRX Jumps 60%, STEPN Sets New ATH, Binance Limits Russian Services, 21Shares to Launch World&#8217;s First Spot ETFs, Fidelity Launches New Metaverse ETFs, Optimism to Launch a Token on Ethereum? at DailyCoin.com. ... [| Skaityti daugiau](https://dailycoin.com/crypto-flipsider-news-trx-gains-10-zrx-jumps-60-stepn-sets-new-ath-binance-limits-russian-services-21shares-to-launch-worlds-first-spot-etfs-fidelity-launches-new-metaverse-etfs-opti/) "
      ],
      "text/plain": [
       "<IPython.core.display.Markdown object>"
      ]
     },
     "execution_count": 6,
     "metadata": {},
     "output_type": "execute_result"
    }
   ],
   "source": [
    "#hide_input\n",
    "#md('##### {}'.format(titleBTC)) \n",
    "md(\"- {}{} {}{} [| Skaityti daugiau]({}) \".format(trx['title'],'. ', trx['body'], ' ...', trx['url']))"
   ]
  },
  {
   "cell_type": "code",
   "execution_count": 7,
   "id": "illegal-greece",
   "metadata": {
    "execution": {
     "iopub.execute_input": "2022-04-23T02:39:53.730496Z",
     "iopub.status.busy": "2022-04-23T02:39:53.729955Z",
     "iopub.status.idle": "2022-04-23T02:39:53.732477Z",
     "shell.execute_reply": "2022-04-23T02:39:53.732898Z"
    },
    "papermill": {
     "duration": 0.018384,
     "end_time": "2022-04-23T02:39:53.733022",
     "exception": false,
     "start_time": "2022-04-23T02:39:53.714638",
     "status": "completed"
    },
    "tags": []
   },
   "outputs": [
    {
     "data": {
      "text/markdown": [
       "- Which Proof-Of-Stake Coins Are the Most Environmentally Friendly?.  As the popularity of cryptocurrencies grew, so did the amount of energy required to produce them. Especially in the case of the two biggest ones: Bitcoin and Ethereum. This has sparked criticism from environmentalists, who have begun to express concerns about digital assets&#8217; impact on the environment. Nonetheless, Bitcoin and Ethereum are fairly old blockchains [&#8230;]The post Which Proof-Of-Stake Coins Are the Most Environmentally Friendly? appeared first on NullTX. ... [| Skaityti daugiau](https://nulltx.com/which-proof-of-stake-coins-are-the-most-environmentally-friendly/) "
      ],
      "text/plain": [
       "<IPython.core.display.Markdown object>"
      ]
     },
     "execution_count": 7,
     "metadata": {},
     "output_type": "execute_result"
    }
   ],
   "source": [
    "#hide_input\n",
    "#md('##### {}'.format(titleBTC)) \n",
    "md(\"- {}{} {}{} [| Skaityti daugiau]({}) \".format(eth['title'],'. ', eth['body'], ' ...', eth['url']))"
   ]
  },
  {
   "cell_type": "code",
   "execution_count": 8,
   "id": "sublime-lounge",
   "metadata": {
    "execution": {
     "iopub.execute_input": "2022-04-23T02:39:53.760582Z",
     "iopub.status.busy": "2022-04-23T02:39:53.759944Z",
     "iopub.status.idle": "2022-04-23T02:39:53.765102Z",
     "shell.execute_reply": "2022-04-23T02:39:53.765520Z"
    },
    "papermill": {
     "duration": 0.022083,
     "end_time": "2022-04-23T02:39:53.765651",
     "exception": false,
     "start_time": "2022-04-23T02:39:53.743568",
     "status": "completed"
    },
    "tags": []
   },
   "outputs": [
    {
     "data": {
      "text/markdown": [
       "- Cardano (ADA) Is One Of The Worst Performing Crypto In Terms Of Profit.  Cardano (ADA) has made it on the list as one of the worst-performing assets when it comes to profitability. The ability to make a profit from a digital asset is what drives the majority of investments when putting money in the asset. However, for some, this has not been the case given that their assets have been performing badly in the market. Cardano is one of those that have put the majority of its investors in the red after consistent dips. 82% In Loss Data shows that Cardano investors are having some of the worst luck in the space. The digital asset which had hit a peak of $3 last year has had a hard time maintaining its value. It has since crumbled back below $1 numerous times, touching yearly lows. In turn, this has caused investors to watch the value of their investments plummet putting the majority of holders in the loss territory. Related Reading &#124; Monero Soars 50% As Crypto Market Weakens, What’s Behind the Rally? While the entire market has had a bad run of it following the bull rallies of last year, Cardano seems to have taken the hit harder than any other digital asset. The price of the cryptocurrency is down more than 60% from its all-time high. What this has meant is that 82% of all investors are losing money at current prices. 82% of ADA holders in loss &#124; Source: IntoTheBlock Now, the investors who have held the tokens for longer are having a better run of it but they only make up a small percentage o... ... [| Skaityti daugiau](https://www.newsbtc.com/news/cardano/cardano-ada-is-one-of-the-worst-performing-crypto-in-terms-of-profit/) "
      ],
      "text/plain": [
       "<IPython.core.display.Markdown object>"
      ]
     },
     "execution_count": 8,
     "metadata": {},
     "output_type": "execute_result"
    }
   ],
   "source": [
    "#hide_input\n",
    "#md('##### {}'.format(titleBTC)) \n",
    "md(\"- {}{} {}{} [| Skaityti daugiau]({}) \".format(ada['title'],'. ', ada['body'], ' ...', ada['url']))"
   ]
  },
  {
   "cell_type": "code",
   "execution_count": 9,
   "id": "specified-ordering",
   "metadata": {
    "execution": {
     "iopub.execute_input": "2022-04-23T02:39:53.792888Z",
     "iopub.status.busy": "2022-04-23T02:39:53.792156Z",
     "iopub.status.idle": "2022-04-23T02:39:53.795525Z",
     "shell.execute_reply": "2022-04-23T02:39:53.795915Z"
    },
    "papermill": {
     "duration": 0.019483,
     "end_time": "2022-04-23T02:39:53.796050",
     "exception": false,
     "start_time": "2022-04-23T02:39:53.776567",
     "status": "completed"
    },
    "tags": []
   },
   "outputs": [
    {
     "data": {
      "text/markdown": [
       "- Bahrain Is All Set To Adopt Crypto In A “Big” Way; Grants License To Binance.  Bahrain&#8217;s Prince Salman bin Hamad Al Khalifa met with Binance CEO ChangPeng Zhao to discuss crypto adoption further. The world&#8217;s largest cryptocurrency exchange, Binance has now been granted the license required to operate within Bahrain by the Central Bank of the country. Binance shall now be eligible to provide services such as crypto trading, portfolio [&#8230;] ... [| Skaityti daugiau](https://bitcoinist.com/bahrain-to-adopt-crypto-grants-license-to-binance/) "
      ],
      "text/plain": [
       "<IPython.core.display.Markdown object>"
      ]
     },
     "execution_count": 9,
     "metadata": {},
     "output_type": "execute_result"
    }
   ],
   "source": [
    "#hide_input\n",
    "#md('##### {}'.format(titleBTC)) \n",
    "md(\"- {}{} {}{} [| Skaityti daugiau]({}) \".format(exchange['title'],'. ', exchange['body'], ' ...', exchange['url']))"
   ]
  },
  {
   "cell_type": "code",
   "execution_count": null,
   "id": "tender-livestock",
   "metadata": {
    "papermill": {
     "duration": 0.011233,
     "end_time": "2022-04-23T02:39:53.818578",
     "exception": false,
     "start_time": "2022-04-23T02:39:53.807345",
     "status": "completed"
    },
    "tags": []
   },
   "outputs": [],
   "source": []
  },
  {
   "cell_type": "code",
   "execution_count": null,
   "id": "appreciated-diamond",
   "metadata": {
    "papermill": {
     "duration": 0.011619,
     "end_time": "2022-04-23T02:39:53.841626",
     "exception": false,
     "start_time": "2022-04-23T02:39:53.830007",
     "status": "completed"
    },
    "tags": []
   },
   "outputs": [],
   "source": []
  },
  {
   "cell_type": "code",
   "execution_count": null,
   "id": "romance-sweden",
   "metadata": {
    "papermill": {
     "duration": 0.011212,
     "end_time": "2022-04-23T02:39:53.865270",
     "exception": false,
     "start_time": "2022-04-23T02:39:53.854058",
     "status": "completed"
    },
    "tags": []
   },
   "outputs": [],
   "source": []
  },
  {
   "cell_type": "code",
   "execution_count": null,
   "id": "dietary-statistics",
   "metadata": {
    "papermill": {
     "duration": 0.01112,
     "end_time": "2022-04-23T02:39:53.887667",
     "exception": false,
     "start_time": "2022-04-23T02:39:53.876547",
     "status": "completed"
    },
    "tags": []
   },
   "outputs": [],
   "source": []
  }
 ],
 "metadata": {
  "kernelspec": {
   "display_name": "Python 3",
   "language": "python",
   "name": "python3"
  },
  "language_info": {
   "codemirror_mode": {
    "name": "ipython",
    "version": 3
   },
   "file_extension": ".py",
   "mimetype": "text/x-python",
   "name": "python",
   "nbconvert_exporter": "python",
   "pygments_lexer": "ipython3",
   "version": "3.6.15"
  },
  "papermill": {
   "default_parameters": {},
   "duration": 14.765322,
   "end_time": "2022-04-23T02:39:54.419035",
   "environment_variables": {},
   "exception": null,
   "input_path": "Market-News.ipynb",
   "output_path": "Market-News.ipynb",
   "parameters": {},
   "start_time": "2022-04-23T02:39:39.653713",
   "version": "2.2.2"
  }
 },
 "nbformat": 4,
 "nbformat_minor": 5
}