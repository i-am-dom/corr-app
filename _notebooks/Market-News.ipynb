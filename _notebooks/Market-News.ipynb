{
 "cells": [
  {
   "cell_type": "markdown",
   "id": "short-greensboro",
   "metadata": {
    "papermill": {
     "duration": 0.013402,
     "end_time": "2022-02-23T02:12:37.795247",
     "exception": false,
     "start_time": "2022-02-23T02:12:37.781845",
     "status": "completed"
    },
    "tags": []
   },
   "source": [
    "# Kriptovaliutų naujienos"
   ]
  },
  {
   "cell_type": "code",
   "execution_count": 1,
   "id": "functioning-knowing",
   "metadata": {
    "execution": {
     "iopub.execute_input": "2022-02-23T02:12:37.824944Z",
     "iopub.status.busy": "2022-02-23T02:12:37.824406Z",
     "iopub.status.idle": "2022-02-23T02:12:39.108004Z",
     "shell.execute_reply": "2022-02-23T02:12:39.107406Z"
    },
    "papermill": {
     "duration": 1.303106,
     "end_time": "2022-02-23T02:12:39.108166",
     "exception": false,
     "start_time": "2022-02-23T02:12:37.805060",
     "status": "completed"
    },
    "tags": []
   },
   "outputs": [],
   "source": [
    "#hide_input\n",
    "import warnings\n",
    "warnings.filterwarnings('ignore')\n",
    "from scripts.read_data import read_api\n",
    "from scripts.read_data import read_news\n",
    "from scripts.read_data import read_covid\n",
    "import matplotlib.pyplot as plt \n",
    "from IPython.display import Markdown as md"
   ]
  },
  {
   "cell_type": "code",
   "execution_count": 2,
   "id": "shared-acceptance",
   "metadata": {
    "execution": {
     "iopub.execute_input": "2022-02-23T02:12:39.134435Z",
     "iopub.status.busy": "2022-02-23T02:12:39.133590Z",
     "iopub.status.idle": "2022-02-23T02:12:52.409348Z",
     "shell.execute_reply": "2022-02-23T02:12:52.408822Z"
    },
    "papermill": {
     "duration": 13.290886,
     "end_time": "2022-02-23T02:12:52.409484",
     "exception": false,
     "start_time": "2022-02-23T02:12:39.118598",
     "status": "completed"
    },
    "tags": []
   },
   "outputs": [],
   "source": [
    "#hide_input\n",
    "blockchain = read_news('blockchain') \n",
    "btc = read_news('btc') \n",
    "xrp = read_news('xrp') \n",
    "trx = read_news('trx') \n",
    "eth = read_news('eth')  \n",
    "ada = read_news('ada')\n",
    "exchange = read_news('exchange') "
   ]
  },
  {
   "cell_type": "code",
   "execution_count": 3,
   "id": "synthetic-notion",
   "metadata": {
    "execution": {
     "iopub.execute_input": "2022-02-23T02:12:52.434700Z",
     "iopub.status.busy": "2022-02-23T02:12:52.434182Z",
     "iopub.status.idle": "2022-02-23T02:12:52.438293Z",
     "shell.execute_reply": "2022-02-23T02:12:52.437890Z"
    },
    "papermill": {
     "duration": 0.019001,
     "end_time": "2022-02-23T02:12:52.438402",
     "exception": false,
     "start_time": "2022-02-23T02:12:52.419401",
     "status": "completed"
    },
    "tags": []
   },
   "outputs": [
    {
     "data": {
      "text/markdown": [
       "- In A Turbulent Market, UST Growth Continues.  UST has been establishing itself as an emerging leader in stablecoins, solidifying the token in the third-place position behind USDT and USDC, and the leader in decentralized stablecoins. A new report from Delphi Digital demonstrates that some of the latest news and developments in the Terra ecosystem are leading to substantial growth in UST adoption &#8211; including the new Mars Protocol and Terra&#8217;s new &#8216;LFG&#8217; formation. UST And The Latest Catalysts A quick briefing: UST is Terra Luna&#8217;s native stablecoin, a decentralized algorithmic stablecoin that has been emerging throughout the past year. With the minting of new UST, a dollar equivalent of LUNA is burned. Recent weeks have brought substantial growth to UST supply, spurred by a number of new tools available in the Terra ecosystem, and accordingly LUNA burning has increased substantially as well. Delphi cites two major drivers: the creation of the Luna Foundation Guard (or LFG) and a new lockdrop from emerging Terra tool Mars Protocol. The lockdrop will, of course, lead to more locked UST, and the formation of the Luna Foundation Guard resulted in a $450M Luna burn mechanic. UST growth continues and Luna burning has increased this month. &#124; Chart provided by Delphi Digital. According to routine bot tool @USTmarketcap, the current market cap of UST has surpassed $12B this month and is rapidly approaching $13B. And according to Delphi, UST growth is... ... [| Skaityti daugiau](https://www.newsbtc.com/news/in-a-turbulent-market-ust-growth-continues/) "
      ],
      "text/plain": [
       "<IPython.core.display.Markdown object>"
      ]
     },
     "execution_count": 3,
     "metadata": {},
     "output_type": "execute_result"
    }
   ],
   "source": [
    "#hide_input\n",
    "#md('##### {}'.format(titleBTC)) \n",
    "md(\"- {}{} {}{} [| Skaityti daugiau]({}) \".format(blockchain['title'],'. ', blockchain['body'], ' ...', blockchain['url']))"
   ]
  },
  {
   "cell_type": "code",
   "execution_count": 4,
   "id": "aging-caution",
   "metadata": {
    "execution": {
     "iopub.execute_input": "2022-02-23T02:12:52.462367Z",
     "iopub.status.busy": "2022-02-23T02:12:52.461777Z",
     "iopub.status.idle": "2022-02-23T02:12:52.464605Z",
     "shell.execute_reply": "2022-02-23T02:12:52.465013Z"
    },
    "papermill": {
     "duration": 0.017309,
     "end_time": "2022-02-23T02:12:52.465135",
     "exception": false,
     "start_time": "2022-02-23T02:12:52.447826",
     "status": "completed"
    },
    "tags": []
   },
   "outputs": [
    {
     "data": {
      "text/markdown": [
       "- Ruby on Rails Creator Capitulates on Bitcoin After Seeing Canadian Government’s Response to Freedom Convoy.  The creator of Ruby on Rails says the situation in Canada is &#x201C;terrifying&#x201D; and &#x201C;a real wakeup call.&#x201D; He admits that he was wrong about bitcoin and cryptocurrency. &#x201C;A few months ago, I would not have found it credible if you said a three-week peaceful protest in Canada could have led to martial law, frozen [&#8230;] ... [| Skaityti daugiau](https://news.bitcoin.com/ruby-on-rails-creator-capitulates-on-bitcoin-canadian-governments-response-to-freedom-convoy/) "
      ],
      "text/plain": [
       "<IPython.core.display.Markdown object>"
      ]
     },
     "execution_count": 4,
     "metadata": {},
     "output_type": "execute_result"
    }
   ],
   "source": [
    "#hide_input\n",
    "#md('##### {}'.format(titleBTC)) \n",
    "md(\"- {}{} {}{} [| Skaityti daugiau]({}) \".format(btc['title'],'. ', btc['body'], ' ...', btc['url']))"
   ]
  },
  {
   "cell_type": "code",
   "execution_count": 5,
   "id": "organic-actress",
   "metadata": {
    "execution": {
     "iopub.execute_input": "2022-02-23T02:12:52.489423Z",
     "iopub.status.busy": "2022-02-23T02:12:52.488920Z",
     "iopub.status.idle": "2022-02-23T02:12:52.491801Z",
     "shell.execute_reply": "2022-02-23T02:12:52.492207Z"
    },
    "papermill": {
     "duration": 0.017529,
     "end_time": "2022-02-23T02:12:52.492337",
     "exception": false,
     "start_time": "2022-02-23T02:12:52.474808",
     "status": "completed"
    },
    "tags": []
   },
   "outputs": [
    {
     "data": {
      "text/markdown": [
       "- Cardano’s Hoskinson: ‘It is just hurtful, unfair, and not at all a partisan thing’.  There are always new twists and turns in the SEC&#8217;s lawsuit against Ripple Labs. One aspect that keeps resurfacing concerns comments made by the SEC&#8217;s former Director of Corporation Finance William Hinman. In a 2018 speech, Hinman had opined that Ether is not a security. While Ripple has continued to use this point to reiterate [&#8230;] ... [| Skaityti daugiau](https://ambcrypto.com/cardanos-hoskinson-it-is-just-hurtful-unfair-and-not-at-all-a-partisan-thing/) "
      ],
      "text/plain": [
       "<IPython.core.display.Markdown object>"
      ]
     },
     "execution_count": 5,
     "metadata": {},
     "output_type": "execute_result"
    }
   ],
   "source": [
    "#hide_input\n",
    "#md('##### {}'.format(titleBTC)) \n",
    "md(\"- {}{} {}{} [| Skaityti daugiau]({}) \".format(xrp['title'],'. ', xrp['body'], ' ...', xrp['url']))"
   ]
  },
  {
   "cell_type": "code",
   "execution_count": 6,
   "id": "prompt-farmer",
   "metadata": {
    "execution": {
     "iopub.execute_input": "2022-02-23T02:12:52.516760Z",
     "iopub.status.busy": "2022-02-23T02:12:52.516253Z",
     "iopub.status.idle": "2022-02-23T02:12:52.518834Z",
     "shell.execute_reply": "2022-02-23T02:12:52.519307Z"
    },
    "papermill": {
     "duration": 0.017181,
     "end_time": "2022-02-23T02:12:52.519430",
     "exception": false,
     "start_time": "2022-02-23T02:12:52.502249",
     "status": "completed"
    },
    "tags": []
   },
   "outputs": [
    {
     "data": {
      "text/markdown": [
       "- Litecoin, TRON, SAND Price Analysis: 22 February.  As the broader market witnessed a 24-hour plunge, Litecoin lost the $105-level and depicted oversold readings on its 4-hour RSI. Furthermore, SAND&#8217;s decline found a floor at the $2.8-mark before showing some recovery signals. Also, Tron saw a bullish divergence with its RSI while the 38.2% Fibonacci resistance stood sturdy. Litecoin (LTC) LTC’s previous 47.9% [&#8230;] ... [| Skaityti daugiau](https://ambcrypto.com/litecoin-tron-sand-price-analysis-22-february/) "
      ],
      "text/plain": [
       "<IPython.core.display.Markdown object>"
      ]
     },
     "execution_count": 6,
     "metadata": {},
     "output_type": "execute_result"
    }
   ],
   "source": [
    "#hide_input\n",
    "#md('##### {}'.format(titleBTC)) \n",
    "md(\"- {}{} {}{} [| Skaityti daugiau]({}) \".format(trx['title'],'. ', trx['body'], ' ...', trx['url']))"
   ]
  },
  {
   "cell_type": "code",
   "execution_count": 7,
   "id": "illegal-greece",
   "metadata": {
    "execution": {
     "iopub.execute_input": "2022-02-23T02:12:52.544433Z",
     "iopub.status.busy": "2022-02-23T02:12:52.543369Z",
     "iopub.status.idle": "2022-02-23T02:12:52.546840Z",
     "shell.execute_reply": "2022-02-23T02:12:52.547272Z"
    },
    "papermill": {
     "duration": 0.017499,
     "end_time": "2022-02-23T02:12:52.547391",
     "exception": false,
     "start_time": "2022-02-23T02:12:52.529892",
     "status": "completed"
    },
    "tags": []
   },
   "outputs": [
    {
     "data": {
      "text/markdown": [
       "- In A Turbulent Market, UST Growth Continues.  UST has been establishing itself as an emerging leader in stablecoins, solidifying the token in the third-place position behind USDT and USDC, and the leader in decentralized stablecoins. A new report from Delphi Digital demonstrates that some of the latest news and developments in the Terra ecosystem are leading to substantial growth in UST adoption &#8211; including the new Mars Protocol and Terra&#8217;s new &#8216;LFG&#8217; formation. UST And The Latest Catalysts A quick briefing: UST is Terra Luna&#8217;s native stablecoin, a decentralized algorithmic stablecoin that has been emerging throughout the past year. With the minting of new UST, a dollar equivalent of LUNA is burned. Recent weeks have brought substantial growth to UST supply, spurred by a number of new tools available in the Terra ecosystem, and accordingly LUNA burning has increased substantially as well. Delphi cites two major drivers: the creation of the Luna Foundation Guard (or LFG) and a new lockdrop from emerging Terra tool Mars Protocol. The lockdrop will, of course, lead to more locked UST, and the formation of the Luna Foundation Guard resulted in a $450M Luna burn mechanic. UST growth continues and Luna burning has increased this month. &#124; Chart provided by Delphi Digital. According to routine bot tool @USTmarketcap, the current market cap of UST has surpassed $12B this month and is rapidly approaching $13B. And according to Delphi, UST growth is... ... [| Skaityti daugiau](https://www.newsbtc.com/news/in-a-turbulent-market-ust-growth-continues/) "
      ],
      "text/plain": [
       "<IPython.core.display.Markdown object>"
      ]
     },
     "execution_count": 7,
     "metadata": {},
     "output_type": "execute_result"
    }
   ],
   "source": [
    "#hide_input\n",
    "#md('##### {}'.format(titleBTC)) \n",
    "md(\"- {}{} {}{} [| Skaityti daugiau]({}) \".format(eth['title'],'. ', eth['body'], ' ...', eth['url']))"
   ]
  },
  {
   "cell_type": "code",
   "execution_count": 8,
   "id": "sublime-lounge",
   "metadata": {
    "execution": {
     "iopub.execute_input": "2022-02-23T02:12:52.573685Z",
     "iopub.status.busy": "2022-02-23T02:12:52.573175Z",
     "iopub.status.idle": "2022-02-23T02:12:52.576422Z",
     "shell.execute_reply": "2022-02-23T02:12:52.575983Z"
    },
    "papermill": {
     "duration": 0.018554,
     "end_time": "2022-02-23T02:12:52.576528",
     "exception": false,
     "start_time": "2022-02-23T02:12:52.557974",
     "status": "completed"
    },
    "tags": []
   },
   "outputs": [
    {
     "data": {
      "text/markdown": [
       "- Cardano’s Hoskinson: ‘It is just hurtful, unfair, and not at all a partisan thing’.  There are always new twists and turns in the SEC&#8217;s lawsuit against Ripple Labs. One aspect that keeps resurfacing concerns comments made by the SEC&#8217;s former Director of Corporation Finance William Hinman. In a 2018 speech, Hinman had opined that Ether is not a security. While Ripple has continued to use this point to reiterate [&#8230;] ... [| Skaityti daugiau](https://ambcrypto.com/cardanos-hoskinson-it-is-just-hurtful-unfair-and-not-at-all-a-partisan-thing/) "
      ],
      "text/plain": [
       "<IPython.core.display.Markdown object>"
      ]
     },
     "execution_count": 8,
     "metadata": {},
     "output_type": "execute_result"
    }
   ],
   "source": [
    "#hide_input\n",
    "#md('##### {}'.format(titleBTC)) \n",
    "md(\"- {}{} {}{} [| Skaityti daugiau]({}) \".format(ada['title'],'. ', ada['body'], ' ...', ada['url']))"
   ]
  },
  {
   "cell_type": "code",
   "execution_count": 9,
   "id": "specified-ordering",
   "metadata": {
    "execution": {
     "iopub.execute_input": "2022-02-23T02:12:52.604127Z",
     "iopub.status.busy": "2022-02-23T02:12:52.603498Z",
     "iopub.status.idle": "2022-02-23T02:12:52.607437Z",
     "shell.execute_reply": "2022-02-23T02:12:52.606938Z"
    },
    "papermill": {
     "duration": 0.020074,
     "end_time": "2022-02-23T02:12:52.607554",
     "exception": false,
     "start_time": "2022-02-23T02:12:52.587480",
     "status": "completed"
    },
    "tags": []
   },
   "outputs": [
    {
     "data": {
      "text/markdown": [
       "- FTX Launches New Gaming Arm With NFT Support.  Crypto exchange giant FTX has launched an \"NFT as a Service\" product for gaming studios looking to incorporate crypto-collectibles in their titles. ... [| Skaityti daugiau](https://cryptopotato.com/ftx-launches-new-gaming-arm-with-nft-support/) "
      ],
      "text/plain": [
       "<IPython.core.display.Markdown object>"
      ]
     },
     "execution_count": 9,
     "metadata": {},
     "output_type": "execute_result"
    }
   ],
   "source": [
    "#hide_input\n",
    "#md('##### {}'.format(titleBTC)) \n",
    "md(\"- {}{} {}{} [| Skaityti daugiau]({}) \".format(exchange['title'],'. ', exchange['body'], ' ...', exchange['url']))"
   ]
  },
  {
   "cell_type": "code",
   "execution_count": null,
   "id": "tender-livestock",
   "metadata": {
    "papermill": {
     "duration": 0.011403,
     "end_time": "2022-02-23T02:12:52.630294",
     "exception": false,
     "start_time": "2022-02-23T02:12:52.618891",
     "status": "completed"
    },
    "tags": []
   },
   "outputs": [],
   "source": []
  },
  {
   "cell_type": "code",
   "execution_count": null,
   "id": "appreciated-diamond",
   "metadata": {
    "papermill": {
     "duration": 0.011243,
     "end_time": "2022-02-23T02:12:52.652986",
     "exception": false,
     "start_time": "2022-02-23T02:12:52.641743",
     "status": "completed"
    },
    "tags": []
   },
   "outputs": [],
   "source": []
  },
  {
   "cell_type": "code",
   "execution_count": null,
   "id": "romance-sweden",
   "metadata": {
    "papermill": {
     "duration": 0.011299,
     "end_time": "2022-02-23T02:12:52.676586",
     "exception": false,
     "start_time": "2022-02-23T02:12:52.665287",
     "status": "completed"
    },
    "tags": []
   },
   "outputs": [],
   "source": []
  },
  {
   "cell_type": "code",
   "execution_count": null,
   "id": "dietary-statistics",
   "metadata": {
    "papermill": {
     "duration": 0.011231,
     "end_time": "2022-02-23T02:12:52.699121",
     "exception": false,
     "start_time": "2022-02-23T02:12:52.687890",
     "status": "completed"
    },
    "tags": []
   },
   "outputs": [],
   "source": []
  }
 ],
 "metadata": {
  "kernelspec": {
   "display_name": "Python 3",
   "language": "python",
   "name": "python3"
  },
  "language_info": {
   "codemirror_mode": {
    "name": "ipython",
    "version": 3
   },
   "file_extension": ".py",
   "mimetype": "text/x-python",
   "name": "python",
   "nbconvert_exporter": "python",
   "pygments_lexer": "ipython3",
   "version": "3.6.15"
  },
  "papermill": {
   "default_parameters": {},
   "duration": 16.285165,
   "end_time": "2022-02-23T02:12:53.128979",
   "environment_variables": {},
   "exception": null,
   "input_path": "Market-News.ipynb",
   "output_path": "Market-News.ipynb",
   "parameters": {},
   "start_time": "2022-02-23T02:12:36.843814",
   "version": "2.2.2"
  }
 },
 "nbformat": 4,
 "nbformat_minor": 5
}