{
 "cells": [
  {
   "cell_type": "markdown",
   "id": "short-greensboro",
   "metadata": {
    "papermill": {
     "duration": 0.014906,
     "end_time": "2021-12-12T02:06:12.184978",
     "exception": false,
     "start_time": "2021-12-12T02:06:12.170072",
     "status": "completed"
    },
    "tags": []
   },
   "source": [
    "# Kriptovaliutų naujienos"
   ]
  },
  {
   "cell_type": "code",
   "execution_count": 1,
   "id": "functioning-knowing",
   "metadata": {
    "execution": {
     "iopub.execute_input": "2021-12-12T02:06:12.218814Z",
     "iopub.status.busy": "2021-12-12T02:06:12.217932Z",
     "iopub.status.idle": "2021-12-12T02:06:13.707756Z",
     "shell.execute_reply": "2021-12-12T02:06:13.708272Z"
    },
    "papermill": {
     "duration": 1.512004,
     "end_time": "2021-12-12T02:06:13.708492",
     "exception": false,
     "start_time": "2021-12-12T02:06:12.196488",
     "status": "completed"
    },
    "tags": []
   },
   "outputs": [],
   "source": [
    "#hide_input\n",
    "import warnings\n",
    "warnings.filterwarnings('ignore')\n",
    "from scripts.read_data import read_api\n",
    "from scripts.read_data import read_news\n",
    "from scripts.read_data import read_covid\n",
    "import matplotlib.pyplot as plt \n",
    "from IPython.display import Markdown as md"
   ]
  },
  {
   "cell_type": "code",
   "execution_count": 2,
   "id": "shared-acceptance",
   "metadata": {
    "execution": {
     "iopub.execute_input": "2021-12-12T02:06:13.737994Z",
     "iopub.status.busy": "2021-12-12T02:06:13.737326Z",
     "iopub.status.idle": "2021-12-12T02:06:22.938199Z",
     "shell.execute_reply": "2021-12-12T02:06:22.937227Z"
    },
    "papermill": {
     "duration": 9.218066,
     "end_time": "2021-12-12T02:06:22.938331",
     "exception": false,
     "start_time": "2021-12-12T02:06:13.720265",
     "status": "completed"
    },
    "tags": []
   },
   "outputs": [],
   "source": [
    "#hide_input\n",
    "blockchain = read_news('blockchain') \n",
    "btc = read_news('btc') \n",
    "xrp = read_news('xrp') \n",
    "trx = read_news('trx') \n",
    "eth = read_news('eth')  \n",
    "ada = read_news('ada')\n",
    "exchange = read_news('exchange') "
   ]
  },
  {
   "cell_type": "code",
   "execution_count": 3,
   "id": "synthetic-notion",
   "metadata": {
    "execution": {
     "iopub.execute_input": "2021-12-12T02:06:22.965353Z",
     "iopub.status.busy": "2021-12-12T02:06:22.964777Z",
     "iopub.status.idle": "2021-12-12T02:06:22.969622Z",
     "shell.execute_reply": "2021-12-12T02:06:22.969087Z"
    },
    "papermill": {
     "duration": 0.021008,
     "end_time": "2021-12-12T02:06:22.969734",
     "exception": false,
     "start_time": "2021-12-12T02:06:22.948726",
     "status": "completed"
    },
    "tags": []
   },
   "outputs": [
    {
     "data": {
      "text/markdown": [
       "- Bitcoin’s Recent Price Action Could Cause Concern About This Popular BTC Thesis, According to Blockchain Researcher.  A blockchain researcher is issuing a warning to Bitcoin investors who believe that BTC is a solid hedge against inflation. Lucas Outumuro, head of research at the blockchain intelligence firm IntoTheBlock, is questioning the thesis that BTC is a hedge against inflation due to its finite supply of 21 million BTC. In a recent newsletter, [&#8230;]The post Bitcoin’s Recent Price Action Could Cause Concern About This Popular BTC Thesis, According to Blockchain Researcher appeared first on The Daily Hodl. ... [| Skaityti daugiau](https://dailyhodl.com/2021/12/11/bitcoins-recent-price-action-could-cause-concern-about-this-popular-btc-thesis-according-to-blockchain-researcher/) "
      ],
      "text/plain": [
       "<IPython.core.display.Markdown object>"
      ]
     },
     "execution_count": 3,
     "metadata": {},
     "output_type": "execute_result"
    }
   ],
   "source": [
    "#hide_input\n",
    "#md('##### {}'.format(titleBTC)) \n",
    "md(\"- {}{} {}{} [| Skaityti daugiau]({}) \".format(blockchain['title'],'. ', blockchain['body'], ' ...', blockchain['url']))"
   ]
  },
  {
   "cell_type": "code",
   "execution_count": 4,
   "id": "aging-caution",
   "metadata": {
    "execution": {
     "iopub.execute_input": "2021-12-12T02:06:22.996710Z",
     "iopub.status.busy": "2021-12-12T02:06:22.996029Z",
     "iopub.status.idle": "2021-12-12T02:06:22.999260Z",
     "shell.execute_reply": "2021-12-12T02:06:22.999752Z"
    },
    "papermill": {
     "duration": 0.019218,
     "end_time": "2021-12-12T02:06:22.999874",
     "exception": false,
     "start_time": "2021-12-12T02:06:22.980656",
     "status": "completed"
    },
    "tags": []
   },
   "outputs": [
    {
     "data": {
      "text/markdown": [
       "- Top 5 Cryptocurrencies Gaining The Most Price Today on CoinMarketCap (December 12th).  There&#8217;s never a dull day in crypto markets. Even when Bitcoin and Ethereum show little movement, there will be cryptocurrencies that see insane price gains every day. This article looks at the top 5 cryptocurrencies gaining the most price today on CoinMarketCap, ordered by 24-hour price gain, lowest to highest. Tempo DAO (TEMPO) +182% Tempo [&#8230;]The post Top 5 Cryptocurrencies Gaining The Most Price Today on CoinMarketCap (December 12th) appeared first on NullTX. ... [| Skaityti daugiau](https://nulltx.com/top-5-cryptocurrencies-gaining-the-most-price-today-on-coinmarketcap-december-12th/) "
      ],
      "text/plain": [
       "<IPython.core.display.Markdown object>"
      ]
     },
     "execution_count": 4,
     "metadata": {},
     "output_type": "execute_result"
    }
   ],
   "source": [
    "#hide_input\n",
    "#md('##### {}'.format(titleBTC)) \n",
    "md(\"- {}{} {}{} [| Skaityti daugiau]({}) \".format(btc['title'],'. ', btc['body'], ' ...', btc['url']))"
   ]
  },
  {
   "cell_type": "code",
   "execution_count": 5,
   "id": "organic-actress",
   "metadata": {
    "execution": {
     "iopub.execute_input": "2021-12-12T02:06:23.029241Z",
     "iopub.status.busy": "2021-12-12T02:06:23.028564Z",
     "iopub.status.idle": "2021-12-12T02:06:23.032093Z",
     "shell.execute_reply": "2021-12-12T02:06:23.032691Z"
    },
    "papermill": {
     "duration": 0.020543,
     "end_time": "2021-12-12T02:06:23.032824",
     "exception": false,
     "start_time": "2021-12-12T02:06:23.012281",
     "status": "completed"
    },
    "tags": []
   },
   "outputs": [
    {
     "data": {
      "text/markdown": [
       "- More Wins For XRP and Ripple? SEC Reportedly Claims It Never Declared Bitcoin And Ether Compliant Cryptos.  Fox Business Gasparino reports that the SEC is arguing that Bitcoin and Ether are not officially non-securities in their case with Ripple. The revelation strengthens Ripple&#8217;s fair notice defense. Meanwhile, Ripple files motion to present one more expert witness.&#160; The US Securities and Exchange Commission (SEC) has reportedly testified that it has not officially declared [&#8230;] ... [| Skaityti daugiau](https://zycrypto.com/more-wins-for-xrp-and-ripple-sec-reportedly-claims-it-never-declared-bitcoin-and-ethereum-compliant-cryptos/) "
      ],
      "text/plain": [
       "<IPython.core.display.Markdown object>"
      ]
     },
     "execution_count": 5,
     "metadata": {},
     "output_type": "execute_result"
    }
   ],
   "source": [
    "#hide_input\n",
    "#md('##### {}'.format(titleBTC)) \n",
    "md(\"- {}{} {}{} [| Skaityti daugiau]({}) \".format(xrp['title'],'. ', xrp['body'], ' ...', xrp['url']))"
   ]
  },
  {
   "cell_type": "code",
   "execution_count": 6,
   "id": "prompt-farmer",
   "metadata": {
    "execution": {
     "iopub.execute_input": "2021-12-12T02:06:23.062698Z",
     "iopub.status.busy": "2021-12-12T02:06:23.062061Z",
     "iopub.status.idle": "2021-12-12T02:06:23.066977Z",
     "shell.execute_reply": "2021-12-12T02:06:23.067609Z"
    },
    "papermill": {
     "duration": 0.022314,
     "end_time": "2021-12-12T02:06:23.067737",
     "exception": false,
     "start_time": "2021-12-12T02:06:23.045423",
     "status": "completed"
    },
    "tags": []
   },
   "outputs": [
    {
     "data": {
      "text/markdown": [
       "- Cardano, Chainlink, Tron Price Analysis: 10 December.  While the ADA, LINK, and TRX bulls were able to claw back to their long-term support levels, the onus fell on the market leader to change the broader sentiment. Besides, Chainlink managed to cross the 38.2% Fibonacci resistance with a recent bullish push, but its near-term technicals (like Cardano) flashed a bearish bias. Cardano (ADA) [&#8230;] ... [| Skaityti daugiau](https://ambcrypto.com/cardano-chainlink-tron-price-analysis-10-december/) "
      ],
      "text/plain": [
       "<IPython.core.display.Markdown object>"
      ]
     },
     "execution_count": 6,
     "metadata": {},
     "output_type": "execute_result"
    }
   ],
   "source": [
    "#hide_input\n",
    "#md('##### {}'.format(titleBTC)) \n",
    "md(\"- {}{} {}{} [| Skaityti daugiau]({}) \".format(trx['title'],'. ', trx['body'], ' ...', trx['url']))"
   ]
  },
  {
   "cell_type": "code",
   "execution_count": 7,
   "id": "illegal-greece",
   "metadata": {
    "execution": {
     "iopub.execute_input": "2021-12-12T02:06:23.097871Z",
     "iopub.status.busy": "2021-12-12T02:06:23.097194Z",
     "iopub.status.idle": "2021-12-12T02:06:23.100627Z",
     "shell.execute_reply": "2021-12-12T02:06:23.099960Z"
    },
    "papermill": {
     "duration": 0.019925,
     "end_time": "2021-12-12T02:06:23.100753",
     "exception": false,
     "start_time": "2021-12-12T02:06:23.080828",
     "status": "completed"
    },
    "tags": []
   },
   "outputs": [
    {
     "data": {
      "text/markdown": [
       "- Top 5 Cryptocurrencies Gaining The Most Price Today on CoinMarketCap (December 12th).  There&#8217;s never a dull day in crypto markets. Even when Bitcoin and Ethereum show little movement, there will be cryptocurrencies that see insane price gains every day. This article looks at the top 5 cryptocurrencies gaining the most price today on CoinMarketCap, ordered by 24-hour price gain, lowest to highest. Tempo DAO (TEMPO) +182% Tempo [&#8230;]The post Top 5 Cryptocurrencies Gaining The Most Price Today on CoinMarketCap (December 12th) appeared first on NullTX. ... [| Skaityti daugiau](https://nulltx.com/top-5-cryptocurrencies-gaining-the-most-price-today-on-coinmarketcap-december-12th/) "
      ],
      "text/plain": [
       "<IPython.core.display.Markdown object>"
      ]
     },
     "execution_count": 7,
     "metadata": {},
     "output_type": "execute_result"
    }
   ],
   "source": [
    "#hide_input\n",
    "#md('##### {}'.format(titleBTC)) \n",
    "md(\"- {}{} {}{} [| Skaityti daugiau]({}) \".format(eth['title'],'. ', eth['body'], ' ...', eth['url']))"
   ]
  },
  {
   "cell_type": "code",
   "execution_count": 8,
   "id": "sublime-lounge",
   "metadata": {
    "execution": {
     "iopub.execute_input": "2021-12-12T02:06:23.132032Z",
     "iopub.status.busy": "2021-12-12T02:06:23.131424Z",
     "iopub.status.idle": "2021-12-12T02:06:23.137057Z",
     "shell.execute_reply": "2021-12-12T02:06:23.137522Z"
    },
    "papermill": {
     "duration": 0.024076,
     "end_time": "2021-12-12T02:06:23.137652",
     "exception": false,
     "start_time": "2021-12-12T02:06:23.113576",
     "status": "completed"
    },
    "tags": []
   },
   "outputs": [
    {
     "data": {
      "text/markdown": [
       "- IOG Has Already Started Process of Making Cardano Resistant Against Quantum Attacks.  Cardano creator Charles Hoskinson says Input Output (aka “IOG”, aka “IOHK”) has started preparing for future attacks on the Cardano network by quantum-powered adversaries. Quantum computing is “a type of computation that harnesses the collective properties of quantum states, such as superposition, interference, and entanglement, to perform calculations” and “the devices that perform quantum computations […] ... [| Skaityti daugiau](https://www.cryptoglobe.com/latest/2021/12/iog-has-already-started-process-of-making-cardano-resistant-against-quantum-attacks/) "
      ],
      "text/plain": [
       "<IPython.core.display.Markdown object>"
      ]
     },
     "execution_count": 8,
     "metadata": {},
     "output_type": "execute_result"
    }
   ],
   "source": [
    "#hide_input\n",
    "#md('##### {}'.format(titleBTC)) \n",
    "md(\"- {}{} {}{} [| Skaityti daugiau]({}) \".format(ada['title'],'. ', ada['body'], ' ...', ada['url']))"
   ]
  },
  {
   "cell_type": "code",
   "execution_count": 9,
   "id": "specified-ordering",
   "metadata": {
    "execution": {
     "iopub.execute_input": "2021-12-12T02:06:23.170264Z",
     "iopub.status.busy": "2021-12-12T02:06:23.169255Z",
     "iopub.status.idle": "2021-12-12T02:06:23.172743Z",
     "shell.execute_reply": "2021-12-12T02:06:23.172050Z"
    },
    "papermill": {
     "duration": 0.021467,
     "end_time": "2021-12-12T02:06:23.172869",
     "exception": false,
     "start_time": "2021-12-12T02:06:23.151402",
     "status": "completed"
    },
    "tags": []
   },
   "outputs": [
    {
     "data": {
      "text/markdown": [
       "- Survey: This country beat USA to become the top crypto economy in Q4, 2021.  What makes a first rank crypto economy? A number of factors, for sure. These can range from the number of Bitcoin nodes and crypto ATMs in a country to regional regulations and the availability of wallets. The crypto exchange aggregator Coincub carried out its crypto country ranking for the final quarter of 2021. But despite [&#8230;] ... [| Skaityti daugiau](https://ambcrypto.com/survey-this-country-beat-usa-to-become-the-top-crypto-economy-in-q4-2021/) "
      ],
      "text/plain": [
       "<IPython.core.display.Markdown object>"
      ]
     },
     "execution_count": 9,
     "metadata": {},
     "output_type": "execute_result"
    }
   ],
   "source": [
    "#hide_input\n",
    "#md('##### {}'.format(titleBTC)) \n",
    "md(\"- {}{} {}{} [| Skaityti daugiau]({}) \".format(exchange['title'],'. ', exchange['body'], ' ...', exchange['url']))"
   ]
  },
  {
   "cell_type": "code",
   "execution_count": null,
   "id": "tender-livestock",
   "metadata": {
    "papermill": {
     "duration": 0.013978,
     "end_time": "2021-12-12T02:06:23.200776",
     "exception": false,
     "start_time": "2021-12-12T02:06:23.186798",
     "status": "completed"
    },
    "tags": []
   },
   "outputs": [],
   "source": []
  },
  {
   "cell_type": "code",
   "execution_count": null,
   "id": "appreciated-diamond",
   "metadata": {
    "papermill": {
     "duration": 0.013858,
     "end_time": "2021-12-12T02:06:23.228754",
     "exception": false,
     "start_time": "2021-12-12T02:06:23.214896",
     "status": "completed"
    },
    "tags": []
   },
   "outputs": [],
   "source": []
  },
  {
   "cell_type": "code",
   "execution_count": null,
   "id": "romance-sweden",
   "metadata": {
    "papermill": {
     "duration": 0.014464,
     "end_time": "2021-12-12T02:06:23.258245",
     "exception": false,
     "start_time": "2021-12-12T02:06:23.243781",
     "status": "completed"
    },
    "tags": []
   },
   "outputs": [],
   "source": []
  },
  {
   "cell_type": "code",
   "execution_count": null,
   "id": "dietary-statistics",
   "metadata": {
    "papermill": {
     "duration": 0.013464,
     "end_time": "2021-12-12T02:06:23.285951",
     "exception": false,
     "start_time": "2021-12-12T02:06:23.272487",
     "status": "completed"
    },
    "tags": []
   },
   "outputs": [],
   "source": []
  }
 ],
 "metadata": {
  "kernelspec": {
   "display_name": "Python 3",
   "language": "python",
   "name": "python3"
  },
  "language_info": {
   "codemirror_mode": {
    "name": "ipython",
    "version": 3
   },
   "file_extension": ".py",
   "mimetype": "text/x-python",
   "name": "python",
   "nbconvert_exporter": "python",
   "pygments_lexer": "ipython3",
   "version": "3.6.15"
  },
  "papermill": {
   "default_parameters": {},
   "duration": 12.68569,
   "end_time": "2021-12-12T02:06:23.708845",
   "environment_variables": {},
   "exception": null,
   "input_path": "Market-News.ipynb",
   "output_path": "Market-News.ipynb",
   "parameters": {},
   "start_time": "2021-12-12T02:06:11.023155",
   "version": "2.2.2"
  }
 },
 "nbformat": 4,
 "nbformat_minor": 5
}