{
 "cells": [
  {
   "cell_type": "markdown",
   "id": "short-greensboro",
   "metadata": {
    "papermill": {
     "duration": 0.011481,
     "end_time": "2021-10-11T02:05:39.136987",
     "exception": false,
     "start_time": "2021-10-11T02:05:39.125506",
     "status": "completed"
    },
    "tags": []
   },
   "source": [
    "# Kriptovaliutų naujienos"
   ]
  },
  {
   "cell_type": "code",
   "execution_count": 1,
   "id": "functioning-knowing",
   "metadata": {
    "execution": {
     "iopub.execute_input": "2021-10-11T02:05:39.163064Z",
     "iopub.status.busy": "2021-10-11T02:05:39.162619Z",
     "iopub.status.idle": "2021-10-11T02:05:40.227408Z",
     "shell.execute_reply": "2021-10-11T02:05:40.226842Z"
    },
    "papermill": {
     "duration": 1.082046,
     "end_time": "2021-10-11T02:05:40.227569",
     "exception": false,
     "start_time": "2021-10-11T02:05:39.145523",
     "status": "completed"
    },
    "tags": []
   },
   "outputs": [],
   "source": [
    "#hide_input\n",
    "import warnings\n",
    "warnings.filterwarnings('ignore')\n",
    "from scripts.read_data import read_api\n",
    "from scripts.read_data import read_news\n",
    "from scripts.read_data import read_covid\n",
    "import matplotlib.pyplot as plt \n",
    "from IPython.display import Markdown as md"
   ]
  },
  {
   "cell_type": "code",
   "execution_count": 2,
   "id": "shared-acceptance",
   "metadata": {
    "execution": {
     "iopub.execute_input": "2021-10-11T02:05:40.251443Z",
     "iopub.status.busy": "2021-10-11T02:05:40.250969Z",
     "iopub.status.idle": "2021-10-11T02:05:49.251933Z",
     "shell.execute_reply": "2021-10-11T02:05:49.251002Z"
    },
    "papermill": {
     "duration": 9.01484,
     "end_time": "2021-10-11T02:05:49.252070",
     "exception": false,
     "start_time": "2021-10-11T02:05:40.237230",
     "status": "completed"
    },
    "tags": []
   },
   "outputs": [],
   "source": [
    "#hide_input\n",
    "blockchain = read_news('blockchain') \n",
    "btc = read_news('btc') \n",
    "xrp = read_news('xrp') \n",
    "trx = read_news('trx') \n",
    "eth = read_news('eth')  \n",
    "ada = read_news('ada')\n",
    "exchange = read_news('exchange') "
   ]
  },
  {
   "cell_type": "code",
   "execution_count": 3,
   "id": "synthetic-notion",
   "metadata": {
    "execution": {
     "iopub.execute_input": "2021-10-11T02:05:49.274453Z",
     "iopub.status.busy": "2021-10-11T02:05:49.273982Z",
     "iopub.status.idle": "2021-10-11T02:05:49.276145Z",
     "shell.execute_reply": "2021-10-11T02:05:49.276486Z"
    },
    "papermill": {
     "duration": 0.015395,
     "end_time": "2021-10-11T02:05:49.276599",
     "exception": false,
     "start_time": "2021-10-11T02:05:49.261204",
     "status": "completed"
    },
    "tags": []
   },
   "outputs": [
    {
     "data": {
      "text/markdown": [
       "- Crypto, blockchain funding sees surge in Q3 2021, FTX is top beneficiary.  Blockchain companies have attracted the highest levels of funding in 2021, as per figures by Blockdata. In 2020, the cumulative funding was estimated to be around $3.772 billion. However, Q3 more than surpassed the entire previous year&#8217;s total. The data suggested that the total disclosed funding for Q3 2021 was $6.586 billion. It essentially makes the [&#8230;] ... [| Skaityti daugiau](https://ambcrypto.com/crypto-blockchain-funding-sees-surge-in-q3-2021-ftx-is-top-beneficiary/) "
      ],
      "text/plain": [
       "<IPython.core.display.Markdown object>"
      ]
     },
     "execution_count": 3,
     "metadata": {},
     "output_type": "execute_result"
    }
   ],
   "source": [
    "#hide_input\n",
    "#md('##### {}'.format(titleBTC)) \n",
    "md(\"- {}{} {}{} [| Skaityti daugiau]({}) \".format(blockchain['title'],'. ', blockchain['body'], ' ...', blockchain['url']))"
   ]
  },
  {
   "cell_type": "code",
   "execution_count": 4,
   "id": "aging-caution",
   "metadata": {
    "execution": {
     "iopub.execute_input": "2021-10-11T02:05:49.297333Z",
     "iopub.status.busy": "2021-10-11T02:05:49.296885Z",
     "iopub.status.idle": "2021-10-11T02:05:49.299741Z",
     "shell.execute_reply": "2021-10-11T02:05:49.299366Z"
    },
    "papermill": {
     "duration": 0.01509,
     "end_time": "2021-10-11T02:05:49.299832",
     "exception": false,
     "start_time": "2021-10-11T02:05:49.284742",
     "status": "completed"
    },
    "tags": []
   },
   "outputs": [
    {
     "data": {
      "text/markdown": [
       "- 5 Countries Will Accept Bitcoin as Legal Tender by End of Next Year, Says Bitmex CEO.  By the end of next year, at least five countries will have accepted bitcoin as legal tender, the CEO of cryptocurrency exchange Bitmex has predicted. He cited three key reasons why he arrived at this conclusion. &#x201C;Developing countries will jump into crypto in 2022,&#x201D; he said. More Countries Will Adopt Bitcoin as Legal Tender The [&#8230;] ... [| Skaityti daugiau](https://news.bitcoin.com/5-countries-accept-bitcoin-legal-tender-end-of-next-year-bitmex-ceo/) "
      ],
      "text/plain": [
       "<IPython.core.display.Markdown object>"
      ]
     },
     "execution_count": 4,
     "metadata": {},
     "output_type": "execute_result"
    }
   ],
   "source": [
    "#hide_input\n",
    "#md('##### {}'.format(titleBTC)) \n",
    "md(\"- {}{} {}{} [| Skaityti daugiau]({}) \".format(btc['title'],'. ', btc['body'], ' ...', btc['url']))"
   ]
  },
  {
   "cell_type": "code",
   "execution_count": 5,
   "id": "organic-actress",
   "metadata": {
    "execution": {
     "iopub.execute_input": "2021-10-11T02:05:49.320239Z",
     "iopub.status.busy": "2021-10-11T02:05:49.319772Z",
     "iopub.status.idle": "2021-10-11T02:05:49.322610Z",
     "shell.execute_reply": "2021-10-11T02:05:49.322258Z"
    },
    "papermill": {
     "duration": 0.014548,
     "end_time": "2021-10-11T02:05:49.322698",
     "exception": false,
     "start_time": "2021-10-11T02:05:49.308150",
     "status": "completed"
    },
    "tags": []
   },
   "outputs": [
    {
     "data": {
      "text/markdown": [
       "- XRP Price Analysis: XRP Price Knocks on $1.3 resistance, Is A Parabolic Move Up on Cards?.  In the face of an ongoing lawsuit, Ripple, the cross-border remittance cryptocurrency platform continues to see increased adoption and steady growth of the XRP price. Recent studies show that Ripple’s XRP owners, alongside owners of other altcoins such as Polkadot and Stellar, are the most anxious in the crypto industry. The study shows that crypto The post XRP Price Analysis: XRP Price Knocks on $1.3 resistance, Is A Parabolic Move Up on Cards? appeared first on Coingape. ... [| Skaityti daugiau](https://coingape.com/xrp-price-analysis-xrp-price-knocks-on-1-3-resistance-is-a-parabolic-move-on-cards/) "
      ],
      "text/plain": [
       "<IPython.core.display.Markdown object>"
      ]
     },
     "execution_count": 5,
     "metadata": {},
     "output_type": "execute_result"
    }
   ],
   "source": [
    "#hide_input\n",
    "#md('##### {}'.format(titleBTC)) \n",
    "md(\"- {}{} {}{} [| Skaityti daugiau]({}) \".format(xrp['title'],'. ', xrp['body'], ' ...', xrp['url']))"
   ]
  },
  {
   "cell_type": "code",
   "execution_count": 6,
   "id": "prompt-farmer",
   "metadata": {
    "execution": {
     "iopub.execute_input": "2021-10-11T02:05:49.343730Z",
     "iopub.status.busy": "2021-10-11T02:05:49.343290Z",
     "iopub.status.idle": "2021-10-11T02:05:49.345697Z",
     "shell.execute_reply": "2021-10-11T02:05:49.346020Z"
    },
    "papermill": {
     "duration": 0.014799,
     "end_time": "2021-10-11T02:05:49.346115",
     "exception": false,
     "start_time": "2021-10-11T02:05:49.331316",
     "status": "completed"
    },
    "tags": []
   },
   "outputs": [
    {
     "data": {
      "text/markdown": [
       "- Moonstake Wallet Now Supports Staking of TRON (TRX).  Moonstake is now an official &#8216;super partner&#8217; of TRON Network. Users can stake TRX to earn staking rewards on Moonstake web wallet and mobile wallet. Hold, send, receive and stake TRX to receive rewards with the best user experience through one single click. TRON became the 13th available staking coin on Moonstake. Moonstake started its [&#8230;]The post Moonstake Wallet Now Supports Staking of TRON (TRX) appeared first on The Daily Hodl. ... [| Skaityti daugiau](https://dailyhodl.com/2021/10/08/moonstake-wallet-now-supports-staking-of-tron-trx/) "
      ],
      "text/plain": [
       "<IPython.core.display.Markdown object>"
      ]
     },
     "execution_count": 6,
     "metadata": {},
     "output_type": "execute_result"
    }
   ],
   "source": [
    "#hide_input\n",
    "#md('##### {}'.format(titleBTC)) \n",
    "md(\"- {}{} {}{} [| Skaityti daugiau]({}) \".format(trx['title'],'. ', trx['body'], ' ...', trx['url']))"
   ]
  },
  {
   "cell_type": "code",
   "execution_count": 7,
   "id": "illegal-greece",
   "metadata": {
    "execution": {
     "iopub.execute_input": "2021-10-11T02:05:49.368023Z",
     "iopub.status.busy": "2021-10-11T02:05:49.367579Z",
     "iopub.status.idle": "2021-10-11T02:05:49.370333Z",
     "shell.execute_reply": "2021-10-11T02:05:49.370711Z"
    },
    "papermill": {
     "duration": 0.015771,
     "end_time": "2021-10-11T02:05:49.370806",
     "exception": false,
     "start_time": "2021-10-11T02:05:49.355035",
     "status": "completed"
    },
    "tags": []
   },
   "outputs": [
    {
     "data": {
      "text/markdown": [
       "- Why new investors are choosing Cardano over Bitcoin, Ethereum.  Crypto trader and analyst Alex Krüger recently commented on why Cardano might be the most sought-after crypto among new investors. He attributed the popularity of ADA to &#8220;a podcast.&#8221; While crypto podcasts are popular, he was referring to the one hosted by Charles Hoskinson. Hoskinson is the co-Founder and CEO of IOHK, the company behind [&#8230;] ... [| Skaityti daugiau](https://ambcrypto.com/why-new-investors-are-choosing-cardano-over-bitcoin-ethereum/) "
      ],
      "text/plain": [
       "<IPython.core.display.Markdown object>"
      ]
     },
     "execution_count": 7,
     "metadata": {},
     "output_type": "execute_result"
    }
   ],
   "source": [
    "#hide_input\n",
    "#md('##### {}'.format(titleBTC)) \n",
    "md(\"- {}{} {}{} [| Skaityti daugiau]({}) \".format(eth['title'],'. ', eth['body'], ' ...', eth['url']))"
   ]
  },
  {
   "cell_type": "code",
   "execution_count": 8,
   "id": "sublime-lounge",
   "metadata": {
    "execution": {
     "iopub.execute_input": "2021-10-11T02:05:49.392967Z",
     "iopub.status.busy": "2021-10-11T02:05:49.392537Z",
     "iopub.status.idle": "2021-10-11T02:05:49.395155Z",
     "shell.execute_reply": "2021-10-11T02:05:49.394785Z"
    },
    "papermill": {
     "duration": 0.015071,
     "end_time": "2021-10-11T02:05:49.395252",
     "exception": false,
     "start_time": "2021-10-11T02:05:49.380181",
     "status": "completed"
    },
    "tags": []
   },
   "outputs": [
    {
     "data": {
      "text/markdown": [
       "- Crypto Corner: The Sports Slice.  For the first time in a while, it was a slower week with crypto engagement in sports. Still, Socios.com and Chiliz continue to build on their partnerships roster as the rapid growth continues, Luka Doncic is seemingly teasing us with a new NFT endeavor, and Deontay Wilder &#8211; now fresh off of a dynamic battle [&#8230;] ... [| Skaityti daugiau](https://bitcoinist.com/crypto-corner-the-sports-slice-10/?utm_source=rss&utm_medium=rss&utm_campaign=crypto-corner-the-sports-slice-10) "
      ],
      "text/plain": [
       "<IPython.core.display.Markdown object>"
      ]
     },
     "execution_count": 8,
     "metadata": {},
     "output_type": "execute_result"
    }
   ],
   "source": [
    "#hide_input\n",
    "#md('##### {}'.format(titleBTC)) \n",
    "md(\"- {}{} {}{} [| Skaityti daugiau]({}) \".format(ada['title'],'. ', ada['body'], ' ...', ada['url']))"
   ]
  },
  {
   "cell_type": "code",
   "execution_count": 9,
   "id": "specified-ordering",
   "metadata": {
    "execution": {
     "iopub.execute_input": "2021-10-11T02:05:49.418753Z",
     "iopub.status.busy": "2021-10-11T02:05:49.418227Z",
     "iopub.status.idle": "2021-10-11T02:05:49.420963Z",
     "shell.execute_reply": "2021-10-11T02:05:49.421317Z"
    },
    "papermill": {
     "duration": 0.016697,
     "end_time": "2021-10-11T02:05:49.421411",
     "exception": false,
     "start_time": "2021-10-11T02:05:49.404714",
     "status": "completed"
    },
    "tags": []
   },
   "outputs": [
    {
     "data": {
      "text/markdown": [
       "- 5 Countries Will Accept Bitcoin as Legal Tender by End of Next Year, Says Bitmex CEO.  By the end of next year, at least five countries will have accepted bitcoin as legal tender, the CEO of cryptocurrency exchange Bitmex has predicted. He cited three key reasons why he arrived at this conclusion. &#x201C;Developing countries will jump into crypto in 2022,&#x201D; he said. More Countries Will Adopt Bitcoin as Legal Tender The [&#8230;] ... [| Skaityti daugiau](https://news.bitcoin.com/5-countries-accept-bitcoin-legal-tender-end-of-next-year-bitmex-ceo/) "
      ],
      "text/plain": [
       "<IPython.core.display.Markdown object>"
      ]
     },
     "execution_count": 9,
     "metadata": {},
     "output_type": "execute_result"
    }
   ],
   "source": [
    "#hide_input\n",
    "#md('##### {}'.format(titleBTC)) \n",
    "md(\"- {}{} {}{} [| Skaityti daugiau]({}) \".format(exchange['title'],'. ', exchange['body'], ' ...', exchange['url']))"
   ]
  },
  {
   "cell_type": "code",
   "execution_count": null,
   "id": "tender-livestock",
   "metadata": {
    "papermill": {
     "duration": 0.00948,
     "end_time": "2021-10-11T02:05:49.440472",
     "exception": false,
     "start_time": "2021-10-11T02:05:49.430992",
     "status": "completed"
    },
    "tags": []
   },
   "outputs": [],
   "source": []
  },
  {
   "cell_type": "code",
   "execution_count": null,
   "id": "appreciated-diamond",
   "metadata": {
    "papermill": {
     "duration": 0.009549,
     "end_time": "2021-10-11T02:05:49.459673",
     "exception": false,
     "start_time": "2021-10-11T02:05:49.450124",
     "status": "completed"
    },
    "tags": []
   },
   "outputs": [],
   "source": []
  },
  {
   "cell_type": "code",
   "execution_count": null,
   "id": "romance-sweden",
   "metadata": {
    "papermill": {
     "duration": 0.009553,
     "end_time": "2021-10-11T02:05:49.479035",
     "exception": false,
     "start_time": "2021-10-11T02:05:49.469482",
     "status": "completed"
    },
    "tags": []
   },
   "outputs": [],
   "source": []
  },
  {
   "cell_type": "code",
   "execution_count": null,
   "id": "dietary-statistics",
   "metadata": {
    "papermill": {
     "duration": 0.009885,
     "end_time": "2021-10-11T02:05:49.498803",
     "exception": false,
     "start_time": "2021-10-11T02:05:49.488918",
     "status": "completed"
    },
    "tags": []
   },
   "outputs": [],
   "source": []
  }
 ],
 "metadata": {
  "kernelspec": {
   "display_name": "Python 3",
   "language": "python",
   "name": "python3"
  },
  "language_info": {
   "codemirror_mode": {
    "name": "ipython",
    "version": 3
   },
   "file_extension": ".py",
   "mimetype": "text/x-python",
   "name": "python",
   "nbconvert_exporter": "python",
   "pygments_lexer": "ipython3",
   "version": "3.6.15"
  },
  "papermill": {
   "default_parameters": {},
   "duration": 11.663514,
   "end_time": "2021-10-11T02:05:49.915979",
   "environment_variables": {},
   "exception": null,
   "input_path": "Market-News.ipynb",
   "output_path": "Market-News.ipynb",
   "parameters": {},
   "start_time": "2021-10-11T02:05:38.252465",
   "version": "2.2.2"
  }
 },
 "nbformat": 4,
 "nbformat_minor": 5
}