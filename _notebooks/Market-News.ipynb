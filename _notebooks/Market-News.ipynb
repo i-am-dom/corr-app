{
 "cells": [
  {
   "cell_type": "markdown",
   "id": "short-greensboro",
   "metadata": {
    "papermill": {
     "duration": 0.014542,
     "end_time": "2022-07-30T03:17:15.316518",
     "exception": false,
     "start_time": "2022-07-30T03:17:15.301976",
     "status": "completed"
    },
    "tags": []
   },
   "source": [
    "# Kriptovaliutų naujienos"
   ]
  },
  {
   "cell_type": "code",
   "execution_count": 1,
   "id": "functioning-knowing",
   "metadata": {
    "execution": {
     "iopub.execute_input": "2022-07-30T03:17:15.350832Z",
     "iopub.status.busy": "2022-07-30T03:17:15.350076Z",
     "iopub.status.idle": "2022-07-30T03:17:16.780006Z",
     "shell.execute_reply": "2022-07-30T03:17:16.779009Z"
    },
    "papermill": {
     "duration": 1.452871,
     "end_time": "2022-07-30T03:17:16.780217",
     "exception": false,
     "start_time": "2022-07-30T03:17:15.327346",
     "status": "completed"
    },
    "tags": []
   },
   "outputs": [],
   "source": [
    "#hide_input\n",
    "import warnings\n",
    "warnings.filterwarnings('ignore')\n",
    "from scripts.read_data import read_api\n",
    "from scripts.read_data import read_news\n",
    "from scripts.read_data import read_covid\n",
    "import matplotlib.pyplot as plt \n",
    "from IPython.display import Markdown as md"
   ]
  },
  {
   "cell_type": "code",
   "execution_count": 2,
   "id": "shared-acceptance",
   "metadata": {
    "execution": {
     "iopub.execute_input": "2022-07-30T03:17:16.809720Z",
     "iopub.status.busy": "2022-07-30T03:17:16.809022Z",
     "iopub.status.idle": "2022-07-30T03:17:28.892552Z",
     "shell.execute_reply": "2022-07-30T03:17:28.888144Z"
    },
    "papermill": {
     "duration": 12.101506,
     "end_time": "2022-07-30T03:17:28.892700",
     "exception": false,
     "start_time": "2022-07-30T03:17:16.791194",
     "status": "completed"
    },
    "tags": []
   },
   "outputs": [],
   "source": [
    "#hide_input\n",
    "blockchain = read_news('blockchain') \n",
    "btc = read_news('btc') \n",
    "xrp = read_news('xrp') \n",
    "trx = read_news('trx') \n",
    "eth = read_news('eth')  \n",
    "ada = read_news('ada')\n",
    "exchange = read_news('exchange') "
   ]
  },
  {
   "cell_type": "code",
   "execution_count": 3,
   "id": "synthetic-notion",
   "metadata": {
    "execution": {
     "iopub.execute_input": "2022-07-30T03:17:28.921044Z",
     "iopub.status.busy": "2022-07-30T03:17:28.919580Z",
     "iopub.status.idle": "2022-07-30T03:17:28.924876Z",
     "shell.execute_reply": "2022-07-30T03:17:28.925437Z"
    },
    "papermill": {
     "duration": 0.021396,
     "end_time": "2022-07-30T03:17:28.925579",
     "exception": false,
     "start_time": "2022-07-30T03:17:28.904183",
     "status": "completed"
    },
    "tags": []
   },
   "outputs": [
    {
     "data": {
      "text/markdown": [
       "- A to Z of Meebits NFT collection investors should know before selling.  Created by a custom generative algorithm and housed on the Ethereum blockchain, the Meebits NFTs collection comprises 20,000 unique 3D voxel characters. Launched in May 2021, with a market capitalization of $832.8 million, the NFT collection enjoys 3.2% of the total NFT market capitalization of $23 trillion. Also, with an all-time trading volume of $9.73 [&#8230;] ... [| Skaityti daugiau](https://ambcrypto.com/a-to-z-of-meebits-nft-collection-investors-should-know-before-selling/) "
      ],
      "text/plain": [
       "<IPython.core.display.Markdown object>"
      ]
     },
     "execution_count": 3,
     "metadata": {},
     "output_type": "execute_result"
    }
   ],
   "source": [
    "#hide_input\n",
    "#md('##### {}'.format(titleBTC)) \n",
    "md(\"- {}{} {}{} [| Skaityti daugiau]({}) \".format(blockchain['title'],'. ', blockchain['body'], ' ...', blockchain['url']))"
   ]
  },
  {
   "cell_type": "code",
   "execution_count": 4,
   "id": "aging-caution",
   "metadata": {
    "execution": {
     "iopub.execute_input": "2022-07-30T03:17:28.952108Z",
     "iopub.status.busy": "2022-07-30T03:17:28.951389Z",
     "iopub.status.idle": "2022-07-30T03:17:28.955618Z",
     "shell.execute_reply": "2022-07-30T03:17:28.955063Z"
    },
    "papermill": {
     "duration": 0.019728,
     "end_time": "2022-07-30T03:17:28.955737",
     "exception": false,
     "start_time": "2022-07-30T03:17:28.936009",
     "status": "completed"
    },
    "tags": []
   },
   "outputs": [
    {
     "data": {
      "text/markdown": [
       "- In Order To Be Successful, Bitcoin Miners Face A Trilemma Of Variables.  Three key factors come into play when bitcoin mining companies are trying to not only be profitable, but just to stay afloat during bear markets. ... [| Skaityti daugiau](https://bitcoinmagazine.com/business/bitcoin-miners-face-a-dilemma-for-success) "
      ],
      "text/plain": [
       "<IPython.core.display.Markdown object>"
      ]
     },
     "execution_count": 4,
     "metadata": {},
     "output_type": "execute_result"
    }
   ],
   "source": [
    "#hide_input\n",
    "#md('##### {}'.format(titleBTC)) \n",
    "md(\"- {}{} {}{} [| Skaityti daugiau]({}) \".format(btc['title'],'. ', btc['body'], ' ...', btc['url']))"
   ]
  },
  {
   "cell_type": "code",
   "execution_count": 5,
   "id": "organic-actress",
   "metadata": {
    "execution": {
     "iopub.execute_input": "2022-07-30T03:17:28.985970Z",
     "iopub.status.busy": "2022-07-30T03:17:28.984223Z",
     "iopub.status.idle": "2022-07-30T03:17:28.989160Z",
     "shell.execute_reply": "2022-07-30T03:17:28.989784Z"
    },
    "papermill": {
     "duration": 0.02146,
     "end_time": "2022-07-30T03:17:28.989926",
     "exception": false,
     "start_time": "2022-07-30T03:17:28.968466",
     "status": "completed"
    },
    "tags": []
   },
   "outputs": [
    {
     "data": {
      "text/markdown": [
       "- Ripple’s Counsel Urges US Lawmakers to Urgently Pass ‘Sensible’ Crypto Legislation Amid SEC Lawsuit Over XRP.  Ripple&#x2019;s general counsel has urged U.S. lawmakers to pass &#x201C;sensible crypto legislation&#x201D; amid a Securities and Exchange Commission (SEC) lawsuit over the sale of xrp. &#x201C;Rather than providing regulatory clarity through rulemaking, the SEC is bullying crypto markets by filing unproven allegations masquerading as regulation,&#x201D; he opined. Ripple&#x2019;s Counsel Calls for &#x2018;Sensible&#x2019; Crypto Regulation Stuart [&#8230;] ... [| Skaityti daugiau](https://news.bitcoin.com/ripples-counsel-urges-us-lawmakers-to-urgently-pass-sensible-crypto-legislation-amid-sec-lawsuit-over-xrp/) "
      ],
      "text/plain": [
       "<IPython.core.display.Markdown object>"
      ]
     },
     "execution_count": 5,
     "metadata": {},
     "output_type": "execute_result"
    }
   ],
   "source": [
    "#hide_input\n",
    "#md('##### {}'.format(titleBTC)) \n",
    "md(\"- {}{} {}{} [| Skaityti daugiau]({}) \".format(xrp['title'],'. ', xrp['body'], ' ...', xrp['url']))"
   ]
  },
  {
   "cell_type": "code",
   "execution_count": 6,
   "id": "prompt-farmer",
   "metadata": {
    "execution": {
     "iopub.execute_input": "2022-07-30T03:17:29.019258Z",
     "iopub.status.busy": "2022-07-30T03:17:29.018517Z",
     "iopub.status.idle": "2022-07-30T03:17:29.023015Z",
     "shell.execute_reply": "2022-07-30T03:17:29.022410Z"
    },
    "papermill": {
     "duration": 0.02147,
     "end_time": "2022-07-30T03:17:29.023217",
     "exception": false,
     "start_time": "2022-07-30T03:17:29.001747",
     "status": "completed"
    },
    "tags": []
   },
   "outputs": [
    {
     "data": {
      "text/markdown": [
       "- Tron (TRX) Extends Gains As Prices Break Away From Support Point.  While the rest of the crypto market is in a state of frenzy, Tron (TRX) price dominance is on for the second day in a row as its price swerves away from the support line. Tron has had a swift recovery so far. TRX/USD swished to a 3% jump and intraday high of $0.06631 today in contrast to yesterday’s low that registered at $0.06383. The rebound was seen after TRX has been moving in the red zone for several days now. The cross signals seen in the daily chart usually hint a downtrend but it somehow triggered a bull run. Related Reading &#124; Tezos (XTZ) Price Movement Indicates Looming Price Drop TRON RSI To Cross 49.85 Resistance Line This will be tested soon as the RSI is seen to cross the 49.85 resistance level. The current price of the TRX/USD pair is at $0.064 and has declined by 2.15% in the past 24 hours. In addition, trading volumes have reduced by 1.89 as seen overnight. TRX bears are seen to ascend in the coming days. A few days ago, technical indicators all show a bearish perspective for Tron which has to retrieve the resistance level at $0.07 to gain back the confidence of investors and step on the gas for a bull run. But, it seems the odds aren’t in favor of a bullish standpoint considering that the bears have already been collared in the market. Once the support level is hauled back to $0.06, then it’s the break the bulls needed to reclaim the market. Crypto total market cap at $1.02 trillion on the daily chart &#1... ... [| Skaityti daugiau](https://www.newsbtc.com/news/tron-trx-extends-gains/) "
      ],
      "text/plain": [
       "<IPython.core.display.Markdown object>"
      ]
     },
     "execution_count": 6,
     "metadata": {},
     "output_type": "execute_result"
    }
   ],
   "source": [
    "#hide_input\n",
    "#md('##### {}'.format(titleBTC)) \n",
    "md(\"- {}{} {}{} [| Skaityti daugiau]({}) \".format(trx['title'],'. ', trx['body'], ' ...', trx['url']))"
   ]
  },
  {
   "cell_type": "code",
   "execution_count": 7,
   "id": "illegal-greece",
   "metadata": {
    "execution": {
     "iopub.execute_input": "2022-07-30T03:17:29.055520Z",
     "iopub.status.busy": "2022-07-30T03:17:29.054833Z",
     "iopub.status.idle": "2022-07-30T03:17:29.058969Z",
     "shell.execute_reply": "2022-07-30T03:17:29.058384Z"
    },
    "papermill": {
     "duration": 0.023705,
     "end_time": "2022-07-30T03:17:29.059096",
     "exception": false,
     "start_time": "2022-07-30T03:17:29.035391",
     "status": "completed"
    },
    "tags": []
   },
   "outputs": [
    {
     "data": {
      "text/markdown": [
       "- Ethereum price analysis: ETH basks above $1,700 as bulls gather volumes before $2,000.  Ethereum price analysis shows that the pair has broken past the $1,700 barrier confidently. The ETH/USD pair is consolidating with higher lows as the weekend sets in. The $1,700 critical resistance is now well below the current price and shows that the bulls are in firm control. However, the sellers are also not giving away &#8230;  Ethereum price analysis: ETH basks above $1,700 as bulls gather volumes before $2,000 Read More &#187; ... [| Skaityti daugiau](https://www.cryptopolitan.com/ethereum-price-analysis-2022-07-29/) "
      ],
      "text/plain": [
       "<IPython.core.display.Markdown object>"
      ]
     },
     "execution_count": 7,
     "metadata": {},
     "output_type": "execute_result"
    }
   ],
   "source": [
    "#hide_input\n",
    "#md('##### {}'.format(titleBTC)) \n",
    "md(\"- {}{} {}{} [| Skaityti daugiau]({}) \".format(eth['title'],'. ', eth['body'], ' ...', eth['url']))"
   ]
  },
  {
   "cell_type": "code",
   "execution_count": 8,
   "id": "sublime-lounge",
   "metadata": {
    "execution": {
     "iopub.execute_input": "2022-07-30T03:17:29.089524Z",
     "iopub.status.busy": "2022-07-30T03:17:29.088331Z",
     "iopub.status.idle": "2022-07-30T03:17:29.093345Z",
     "shell.execute_reply": "2022-07-30T03:17:29.093838Z"
    },
    "papermill": {
     "duration": 0.021752,
     "end_time": "2022-07-30T03:17:29.093981",
     "exception": false,
     "start_time": "2022-07-30T03:17:29.072229",
     "status": "completed"
    },
    "tags": []
   },
   "outputs": [
    {
     "data": {
      "text/markdown": [
       "- Cardano Price Is Surging, ‘Potentially a Huge $ADA Breakout Setting up on ADA/BTC’.  As the price of Cardano’s native $ADA token surges Dan Gambardello, founder of Crypto Capital Ventures, has suggested that a “potentially huge $ADA breakout” is setting up on the ADA/BTC pair. According to CryptoCompare data, the price of ADA is up over 1% in the last hour, and a total of nearly 8% over the […] ... [| Skaityti daugiau](https://www.cryptoglobe.com/latest/2022/07/cardano-price-is-surging-potentially-a-huge-ada-breakout-setting-up-on-ada-btc/) "
      ],
      "text/plain": [
       "<IPython.core.display.Markdown object>"
      ]
     },
     "execution_count": 8,
     "metadata": {},
     "output_type": "execute_result"
    }
   ],
   "source": [
    "#hide_input\n",
    "#md('##### {}'.format(titleBTC)) \n",
    "md(\"- {}{} {}{} [| Skaityti daugiau]({}) \".format(ada['title'],'. ', ada['body'], ' ...', ada['url']))"
   ]
  },
  {
   "cell_type": "code",
   "execution_count": 9,
   "id": "specified-ordering",
   "metadata": {
    "execution": {
     "iopub.execute_input": "2022-07-30T03:17:29.124682Z",
     "iopub.status.busy": "2022-07-30T03:17:29.123996Z",
     "iopub.status.idle": "2022-07-30T03:17:29.129767Z",
     "shell.execute_reply": "2022-07-30T03:17:29.130260Z"
    },
    "papermill": {
     "duration": 0.024048,
     "end_time": "2022-07-30T03:17:29.130402",
     "exception": false,
     "start_time": "2022-07-30T03:17:29.106354",
     "status": "completed"
    },
    "tags": []
   },
   "outputs": [
    {
     "data": {
      "text/markdown": [
       "- Ripple’s Counsel Urges US Lawmakers to Urgently Pass ‘Sensible’ Crypto Legislation Amid SEC Lawsuit Over XRP.  Ripple&#x2019;s general counsel has urged U.S. lawmakers to pass &#x201C;sensible crypto legislation&#x201D; amid a Securities and Exchange Commission (SEC) lawsuit over the sale of xrp. &#x201C;Rather than providing regulatory clarity through rulemaking, the SEC is bullying crypto markets by filing unproven allegations masquerading as regulation,&#x201D; he opined. Ripple&#x2019;s Counsel Calls for &#x2018;Sensible&#x2019; Crypto Regulation Stuart [&#8230;] ... [| Skaityti daugiau](https://news.bitcoin.com/ripples-counsel-urges-us-lawmakers-to-urgently-pass-sensible-crypto-legislation-amid-sec-lawsuit-over-xrp/) "
      ],
      "text/plain": [
       "<IPython.core.display.Markdown object>"
      ]
     },
     "execution_count": 9,
     "metadata": {},
     "output_type": "execute_result"
    }
   ],
   "source": [
    "#hide_input\n",
    "#md('##### {}'.format(titleBTC)) \n",
    "md(\"- {}{} {}{} [| Skaityti daugiau]({}) \".format(exchange['title'],'. ', exchange['body'], ' ...', exchange['url']))"
   ]
  },
  {
   "cell_type": "code",
   "execution_count": null,
   "id": "tender-livestock",
   "metadata": {
    "papermill": {
     "duration": 0.013051,
     "end_time": "2022-07-30T03:17:29.156238",
     "exception": false,
     "start_time": "2022-07-30T03:17:29.143187",
     "status": "completed"
    },
    "tags": []
   },
   "outputs": [],
   "source": []
  },
  {
   "cell_type": "code",
   "execution_count": null,
   "id": "appreciated-diamond",
   "metadata": {
    "papermill": {
     "duration": 0.012492,
     "end_time": "2022-07-30T03:17:29.181230",
     "exception": false,
     "start_time": "2022-07-30T03:17:29.168738",
     "status": "completed"
    },
    "tags": []
   },
   "outputs": [],
   "source": []
  },
  {
   "cell_type": "code",
   "execution_count": null,
   "id": "romance-sweden",
   "metadata": {
    "papermill": {
     "duration": 0.012552,
     "end_time": "2022-07-30T03:17:29.206335",
     "exception": false,
     "start_time": "2022-07-30T03:17:29.193783",
     "status": "completed"
    },
    "tags": []
   },
   "outputs": [],
   "source": []
  },
  {
   "cell_type": "code",
   "execution_count": null,
   "id": "dietary-statistics",
   "metadata": {
    "papermill": {
     "duration": 0.012482,
     "end_time": "2022-07-30T03:17:29.231520",
     "exception": false,
     "start_time": "2022-07-30T03:17:29.219038",
     "status": "completed"
    },
    "tags": []
   },
   "outputs": [],
   "source": []
  }
 ],
 "metadata": {
  "kernelspec": {
   "display_name": "Python 3",
   "language": "python",
   "name": "python3"
  },
  "language_info": {
   "codemirror_mode": {
    "name": "ipython",
    "version": 3
   },
   "file_extension": ".py",
   "mimetype": "text/x-python",
   "name": "python",
   "nbconvert_exporter": "python",
   "pygments_lexer": "ipython3",
   "version": "3.6.15"
  },
  "papermill": {
   "default_parameters": {},
   "duration": 15.735946,
   "end_time": "2022-07-30T03:17:29.764505",
   "environment_variables": {},
   "exception": null,
   "input_path": "Market-News.ipynb",
   "output_path": "Market-News.ipynb",
   "parameters": {},
   "start_time": "2022-07-30T03:17:14.028559",
   "version": "2.2.2"
  }
 },
 "nbformat": 4,
 "nbformat_minor": 5
}