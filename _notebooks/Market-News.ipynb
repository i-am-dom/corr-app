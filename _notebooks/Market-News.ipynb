{
 "cells": [
  {
   "cell_type": "markdown",
   "id": "short-greensboro",
   "metadata": {
    "papermill": {
     "duration": 0.013189,
     "end_time": "2021-10-12T02:05:03.972896",
     "exception": false,
     "start_time": "2021-10-12T02:05:03.959707",
     "status": "completed"
    },
    "tags": []
   },
   "source": [
    "# Kriptovaliutų naujienos"
   ]
  },
  {
   "cell_type": "code",
   "execution_count": 1,
   "id": "functioning-knowing",
   "metadata": {
    "execution": {
     "iopub.execute_input": "2021-10-12T02:05:04.001252Z",
     "iopub.status.busy": "2021-10-12T02:05:04.000737Z",
     "iopub.status.idle": "2021-10-12T02:05:05.155969Z",
     "shell.execute_reply": "2021-10-12T02:05:05.155426Z"
    },
    "papermill": {
     "duration": 1.173686,
     "end_time": "2021-10-12T02:05:05.156121",
     "exception": false,
     "start_time": "2021-10-12T02:05:03.982435",
     "status": "completed"
    },
    "tags": []
   },
   "outputs": [],
   "source": [
    "#hide_input\n",
    "import warnings\n",
    "warnings.filterwarnings('ignore')\n",
    "from scripts.read_data import read_api\n",
    "from scripts.read_data import read_news\n",
    "from scripts.read_data import read_covid\n",
    "import matplotlib.pyplot as plt \n",
    "from IPython.display import Markdown as md"
   ]
  },
  {
   "cell_type": "code",
   "execution_count": 2,
   "id": "shared-acceptance",
   "metadata": {
    "execution": {
     "iopub.execute_input": "2021-10-12T02:05:05.180911Z",
     "iopub.status.busy": "2021-10-12T02:05:05.180390Z",
     "iopub.status.idle": "2021-10-12T02:05:13.256069Z",
     "shell.execute_reply": "2021-10-12T02:05:13.256556Z"
    },
    "papermill": {
     "duration": 8.090762,
     "end_time": "2021-10-12T02:05:13.256709",
     "exception": false,
     "start_time": "2021-10-12T02:05:05.165947",
     "status": "completed"
    },
    "tags": []
   },
   "outputs": [],
   "source": [
    "#hide_input\n",
    "blockchain = read_news('blockchain') \n",
    "btc = read_news('btc') \n",
    "xrp = read_news('xrp') \n",
    "trx = read_news('trx') \n",
    "eth = read_news('eth')  \n",
    "ada = read_news('ada')\n",
    "exchange = read_news('exchange') "
   ]
  },
  {
   "cell_type": "code",
   "execution_count": 3,
   "id": "synthetic-notion",
   "metadata": {
    "execution": {
     "iopub.execute_input": "2021-10-12T02:05:13.282052Z",
     "iopub.status.busy": "2021-10-12T02:05:13.281514Z",
     "iopub.status.idle": "2021-10-12T02:05:13.283667Z",
     "shell.execute_reply": "2021-10-12T02:05:13.284074Z"
    },
    "papermill": {
     "duration": 0.016714,
     "end_time": "2021-10-12T02:05:13.284187",
     "exception": false,
     "start_time": "2021-10-12T02:05:13.267473",
     "status": "completed"
    },
    "tags": []
   },
   "outputs": [
    {
     "data": {
      "text/markdown": [
       "- JPMorgan Boss Jamie Dimon Says Bitcoin Is Worthless, Questions BTC’s Limited Supply.  The CEO of global investment bank JPMorgan, Jamie Dimon, says bitcoin is &#x201C;worthless,&#x201D; questioning whether the supply of bitcoin is actually limited. He also noted that blockchain and stablecoins can be real, emphasizing that governments are going to regulate the industry. Bitcoin Is Worthless and Supply May Not Be Capped, JPMorgan CEO Jamie Dimon Suggested [&#8230;] ... [| Skaityti daugiau](https://news.bitcoin.com/jpmorgan-boss-jamie-dimon-bitcoin-worthless-btcs-limited-supply/) "
      ],
      "text/plain": [
       "<IPython.core.display.Markdown object>"
      ]
     },
     "execution_count": 3,
     "metadata": {},
     "output_type": "execute_result"
    }
   ],
   "source": [
    "#hide_input\n",
    "#md('##### {}'.format(titleBTC)) \n",
    "md(\"- {}{} {}{} [| Skaityti daugiau]({}) \".format(blockchain['title'],'. ', blockchain['body'], ' ...', blockchain['url']))"
   ]
  },
  {
   "cell_type": "code",
   "execution_count": 4,
   "id": "aging-caution",
   "metadata": {
    "execution": {
     "iopub.execute_input": "2021-10-12T02:05:13.306331Z",
     "iopub.status.busy": "2021-10-12T02:05:13.305275Z",
     "iopub.status.idle": "2021-10-12T02:05:13.308627Z",
     "shell.execute_reply": "2021-10-12T02:05:13.309006Z"
    },
    "papermill": {
     "duration": 0.015733,
     "end_time": "2021-10-12T02:05:13.309118",
     "exception": false,
     "start_time": "2021-10-12T02:05:13.293385",
     "status": "completed"
    },
    "tags": []
   },
   "outputs": [
    {
     "data": {
      "text/markdown": [
       "- JPMorgan Boss Jamie Dimon Says Bitcoin Is Worthless, Questions BTC’s Limited Supply.  The CEO of global investment bank JPMorgan, Jamie Dimon, says bitcoin is &#x201C;worthless,&#x201D; questioning whether the supply of bitcoin is actually limited. He also noted that blockchain and stablecoins can be real, emphasizing that governments are going to regulate the industry. Bitcoin Is Worthless and Supply May Not Be Capped, JPMorgan CEO Jamie Dimon Suggested [&#8230;] ... [| Skaityti daugiau](https://news.bitcoin.com/jpmorgan-boss-jamie-dimon-bitcoin-worthless-btcs-limited-supply/) "
      ],
      "text/plain": [
       "<IPython.core.display.Markdown object>"
      ]
     },
     "execution_count": 4,
     "metadata": {},
     "output_type": "execute_result"
    }
   ],
   "source": [
    "#hide_input\n",
    "#md('##### {}'.format(titleBTC)) \n",
    "md(\"- {}{} {}{} [| Skaityti daugiau]({}) \".format(btc['title'],'. ', btc['body'], ' ...', btc['url']))"
   ]
  },
  {
   "cell_type": "code",
   "execution_count": 5,
   "id": "organic-actress",
   "metadata": {
    "execution": {
     "iopub.execute_input": "2021-10-12T02:05:13.332335Z",
     "iopub.status.busy": "2021-10-12T02:05:13.331833Z",
     "iopub.status.idle": "2021-10-12T02:05:13.334595Z",
     "shell.execute_reply": "2021-10-12T02:05:13.335009Z"
    },
    "papermill": {
     "duration": 0.01654,
     "end_time": "2021-10-12T02:05:13.335117",
     "exception": false,
     "start_time": "2021-10-12T02:05:13.318577",
     "status": "completed"
    },
    "tags": []
   },
   "outputs": [
    {
     "data": {
      "text/markdown": [
       "- Price analysis 10/11: BTC, ETH, BNB, ADA, XRP, SOL, DOGE, DOT, LUNA, UNI.  Analysts say Bitcoin has started its journey toward a new all-time high and the sideways action from altcoins suggests traders are shifting funds into BTC. ... [| Skaityti daugiau](https://cointelegraph.com/news/price-analysis-10-11-btc-eth-bnb-ada-xrp-sol-doge-dot-luna-uni) "
      ],
      "text/plain": [
       "<IPython.core.display.Markdown object>"
      ]
     },
     "execution_count": 5,
     "metadata": {},
     "output_type": "execute_result"
    }
   ],
   "source": [
    "#hide_input\n",
    "#md('##### {}'.format(titleBTC)) \n",
    "md(\"- {}{} {}{} [| Skaityti daugiau]({}) \".format(xrp['title'],'. ', xrp['body'], ' ...', xrp['url']))"
   ]
  },
  {
   "cell_type": "code",
   "execution_count": 6,
   "id": "prompt-farmer",
   "metadata": {
    "execution": {
     "iopub.execute_input": "2021-10-12T02:05:13.358901Z",
     "iopub.status.busy": "2021-10-12T02:05:13.358371Z",
     "iopub.status.idle": "2021-10-12T02:05:13.361516Z",
     "shell.execute_reply": "2021-10-12T02:05:13.361092Z"
    },
    "papermill": {
     "duration": 0.016703,
     "end_time": "2021-10-12T02:05:13.361612",
     "exception": false,
     "start_time": "2021-10-12T02:05:13.344909",
     "status": "completed"
    },
    "tags": []
   },
   "outputs": [
    {
     "data": {
      "text/markdown": [
       "- Moonstake Wallet Now Supports Staking of TRON (TRX).  Moonstake is now an official &#8216;super partner&#8217; of TRON Network. Users can stake TRX to earn staking rewards on Moonstake web wallet and mobile wallet. Hold, send, receive and stake TRX to receive rewards with the best user experience through one single click. TRON became the 13th available staking coin on Moonstake. Moonstake started its [&#8230;]The post Moonstake Wallet Now Supports Staking of TRON (TRX) appeared first on The Daily Hodl. ... [| Skaityti daugiau](https://dailyhodl.com/2021/10/08/moonstake-wallet-now-supports-staking-of-tron-trx/) "
      ],
      "text/plain": [
       "<IPython.core.display.Markdown object>"
      ]
     },
     "execution_count": 6,
     "metadata": {},
     "output_type": "execute_result"
    }
   ],
   "source": [
    "#hide_input\n",
    "#md('##### {}'.format(titleBTC)) \n",
    "md(\"- {}{} {}{} [| Skaityti daugiau]({}) \".format(trx['title'],'. ', trx['body'], ' ...', trx['url']))"
   ]
  },
  {
   "cell_type": "code",
   "execution_count": 7,
   "id": "illegal-greece",
   "metadata": {
    "execution": {
     "iopub.execute_input": "2021-10-12T02:05:13.386138Z",
     "iopub.status.busy": "2021-10-12T02:05:13.385637Z",
     "iopub.status.idle": "2021-10-12T02:05:13.388187Z",
     "shell.execute_reply": "2021-10-12T02:05:13.388571Z"
    },
    "papermill": {
     "duration": 0.016749,
     "end_time": "2021-10-12T02:05:13.388680",
     "exception": false,
     "start_time": "2021-10-12T02:05:13.371931",
     "status": "completed"
    },
    "tags": []
   },
   "outputs": [
    {
     "data": {
      "text/markdown": [
       "- The impact of Ethereum L2 solution, Optimism’s upgrade, on Arbitrum.  Ethereum has a bunch of different protocols and L2 solutions operating for different purposes. So there is always some sort of competition going on within the network. This one-on-one competition was shattered with the arrival of Arbitrum as it skyrocketed within a few days. But now it looks like its old competition Optimism is back [&#8230;] ... [| Skaityti daugiau](https://ambcrypto.com/the-impact-of-ethereum-l2-solution-optimisms-upgrade-on-arbitrum/) "
      ],
      "text/plain": [
       "<IPython.core.display.Markdown object>"
      ]
     },
     "execution_count": 7,
     "metadata": {},
     "output_type": "execute_result"
    }
   ],
   "source": [
    "#hide_input\n",
    "#md('##### {}'.format(titleBTC)) \n",
    "md(\"- {}{} {}{} [| Skaityti daugiau]({}) \".format(eth['title'],'. ', eth['body'], ' ...', eth['url']))"
   ]
  },
  {
   "cell_type": "code",
   "execution_count": 8,
   "id": "sublime-lounge",
   "metadata": {
    "execution": {
     "iopub.execute_input": "2021-10-12T02:05:13.413729Z",
     "iopub.status.busy": "2021-10-12T02:05:13.413232Z",
     "iopub.status.idle": "2021-10-12T02:05:13.416008Z",
     "shell.execute_reply": "2021-10-12T02:05:13.416437Z"
    },
    "papermill": {
     "duration": 0.017428,
     "end_time": "2021-10-12T02:05:13.416545",
     "exception": false,
     "start_time": "2021-10-12T02:05:13.399117",
     "status": "completed"
    },
    "tags": []
   },
   "outputs": [
    {
     "data": {
      "text/markdown": [
       "- Bitcoin Dominates Institutional Capital Flows As Investors Accumulate Ethereum, Solana and Cardano: CoinShares.  Digital asset manager CoinShares says Bitcoin (BTC) is taking the lion&#8217;s share of institutional capital as sentiment in the crypto markets remains upbeat. In their weekly report, CoinShares says that the total amount of crypto assets under management (AUM) is only 5% away from setting all-time highs due to recent positive price action. The firm [&#8230;]The post Bitcoin Dominates Institutional Capital Flows As Investors Accumulate Ethereum, Solana and Cardano: CoinShares appeared first on The Daily Hodl. ... [| Skaityti daugiau](https://dailyhodl.com/2021/10/11/bitcoin-dominates-institutional-capital-flows-as-investors-accumulate-ethereum-solana-and-cardano-coinshares/) "
      ],
      "text/plain": [
       "<IPython.core.display.Markdown object>"
      ]
     },
     "execution_count": 8,
     "metadata": {},
     "output_type": "execute_result"
    }
   ],
   "source": [
    "#hide_input\n",
    "#md('##### {}'.format(titleBTC)) \n",
    "md(\"- {}{} {}{} [| Skaityti daugiau]({}) \".format(ada['title'],'. ', ada['body'], ' ...', ada['url']))"
   ]
  },
  {
   "cell_type": "code",
   "execution_count": 9,
   "id": "specified-ordering",
   "metadata": {
    "execution": {
     "iopub.execute_input": "2021-10-12T02:05:13.442441Z",
     "iopub.status.busy": "2021-10-12T02:05:13.441941Z",
     "iopub.status.idle": "2021-10-12T02:05:13.444708Z",
     "shell.execute_reply": "2021-10-12T02:05:13.445136Z"
    },
    "papermill": {
     "duration": 0.017787,
     "end_time": "2021-10-12T02:05:13.445242",
     "exception": false,
     "start_time": "2021-10-12T02:05:13.427455",
     "status": "completed"
    },
    "tags": []
   },
   "outputs": [
    {
     "data": {
      "text/markdown": [
       "- BitMEX CEO Predicts Five Developing Countries Will Accept Bitcoin As Legal Tender Next Year – Here’s Why.  BitMEX chief executive officer Alexander Höptner is predicting that five developing nations will follow in El Salvador’s footsteps and adopt Bitcoin (BTC) as legal tender by next year. In a blog post, the head of the crypto exchange says BTC will help citizens of developing countries financially by reducing the transaction fees associated with sending [&#8230;]The post BitMEX CEO Predicts Five Developing Countries Will Accept Bitcoin As Legal Tender Next Year – Here’s Why appeared first on The Daily Hodl. ... [| Skaityti daugiau](https://dailyhodl.com/2021/10/11/bitmex-ceo-predicts-five-developing-countries-will-accept-bitcoin-as-legal-tender-next-year-heres-why/) "
      ],
      "text/plain": [
       "<IPython.core.display.Markdown object>"
      ]
     },
     "execution_count": 9,
     "metadata": {},
     "output_type": "execute_result"
    }
   ],
   "source": [
    "#hide_input\n",
    "#md('##### {}'.format(titleBTC)) \n",
    "md(\"- {}{} {}{} [| Skaityti daugiau]({}) \".format(exchange['title'],'. ', exchange['body'], ' ...', exchange['url']))"
   ]
  },
  {
   "cell_type": "code",
   "execution_count": null,
   "id": "tender-livestock",
   "metadata": {
    "papermill": {
     "duration": 0.011075,
     "end_time": "2021-10-12T02:05:13.467424",
     "exception": false,
     "start_time": "2021-10-12T02:05:13.456349",
     "status": "completed"
    },
    "tags": []
   },
   "outputs": [],
   "source": []
  },
  {
   "cell_type": "code",
   "execution_count": null,
   "id": "appreciated-diamond",
   "metadata": {
    "papermill": {
     "duration": 0.01102,
     "end_time": "2021-10-12T02:05:13.489715",
     "exception": false,
     "start_time": "2021-10-12T02:05:13.478695",
     "status": "completed"
    },
    "tags": []
   },
   "outputs": [],
   "source": []
  },
  {
   "cell_type": "code",
   "execution_count": null,
   "id": "romance-sweden",
   "metadata": {
    "papermill": {
     "duration": 0.011124,
     "end_time": "2021-10-12T02:05:13.512017",
     "exception": false,
     "start_time": "2021-10-12T02:05:13.500893",
     "status": "completed"
    },
    "tags": []
   },
   "outputs": [],
   "source": []
  },
  {
   "cell_type": "code",
   "execution_count": null,
   "id": "dietary-statistics",
   "metadata": {
    "papermill": {
     "duration": 0.011112,
     "end_time": "2021-10-12T02:05:13.534272",
     "exception": false,
     "start_time": "2021-10-12T02:05:13.523160",
     "status": "completed"
    },
    "tags": []
   },
   "outputs": [],
   "source": []
  }
 ],
 "metadata": {
  "kernelspec": {
   "display_name": "Python 3",
   "language": "python",
   "name": "python3"
  },
  "language_info": {
   "codemirror_mode": {
    "name": "ipython",
    "version": 3
   },
   "file_extension": ".py",
   "mimetype": "text/x-python",
   "name": "python",
   "nbconvert_exporter": "python",
   "pygments_lexer": "ipython3",
   "version": "3.6.15"
  },
  "papermill": {
   "default_parameters": {},
   "duration": 10.95086,
   "end_time": "2021-10-12T02:05:13.952470",
   "environment_variables": {},
   "exception": null,
   "input_path": "Market-News.ipynb",
   "output_path": "Market-News.ipynb",
   "parameters": {},
   "start_time": "2021-10-12T02:05:03.001610",
   "version": "2.2.2"
  }
 },
 "nbformat": 4,
 "nbformat_minor": 5
}