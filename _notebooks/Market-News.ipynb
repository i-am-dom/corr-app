{
 "cells": [
  {
   "cell_type": "markdown",
   "id": "short-greensboro",
   "metadata": {
    "papermill": {
     "duration": 0.012206,
     "end_time": "2022-03-29T02:41:29.869046",
     "exception": false,
     "start_time": "2022-03-29T02:41:29.856840",
     "status": "completed"
    },
    "tags": []
   },
   "source": [
    "# Kriptovaliutų naujienos"
   ]
  },
  {
   "cell_type": "code",
   "execution_count": 1,
   "id": "functioning-knowing",
   "metadata": {
    "execution": {
     "iopub.execute_input": "2022-03-29T02:41:29.897939Z",
     "iopub.status.busy": "2022-03-29T02:41:29.897420Z",
     "iopub.status.idle": "2022-03-29T02:41:31.124585Z",
     "shell.execute_reply": "2022-03-29T02:41:31.124030Z"
    },
    "papermill": {
     "duration": 1.24613,
     "end_time": "2022-03-29T02:41:31.124743",
     "exception": false,
     "start_time": "2022-03-29T02:41:29.878613",
     "status": "completed"
    },
    "tags": []
   },
   "outputs": [],
   "source": [
    "#hide_input\n",
    "import warnings\n",
    "warnings.filterwarnings('ignore')\n",
    "from scripts.read_data import read_api\n",
    "from scripts.read_data import read_news\n",
    "from scripts.read_data import read_covid\n",
    "import matplotlib.pyplot as plt \n",
    "from IPython.display import Markdown as md"
   ]
  },
  {
   "cell_type": "code",
   "execution_count": 2,
   "id": "shared-acceptance",
   "metadata": {
    "execution": {
     "iopub.execute_input": "2022-03-29T02:41:31.150311Z",
     "iopub.status.busy": "2022-03-29T02:41:31.149802Z",
     "iopub.status.idle": "2022-03-29T02:41:42.589331Z",
     "shell.execute_reply": "2022-03-29T02:41:42.588441Z"
    },
    "papermill": {
     "duration": 11.454487,
     "end_time": "2022-03-29T02:41:42.589466",
     "exception": false,
     "start_time": "2022-03-29T02:41:31.134979",
     "status": "completed"
    },
    "tags": []
   },
   "outputs": [],
   "source": [
    "#hide_input\n",
    "blockchain = read_news('blockchain') \n",
    "btc = read_news('btc') \n",
    "xrp = read_news('xrp') \n",
    "trx = read_news('trx') \n",
    "eth = read_news('eth')  \n",
    "ada = read_news('ada')\n",
    "exchange = read_news('exchange') "
   ]
  },
  {
   "cell_type": "code",
   "execution_count": 3,
   "id": "synthetic-notion",
   "metadata": {
    "execution": {
     "iopub.execute_input": "2022-03-29T02:41:42.613476Z",
     "iopub.status.busy": "2022-03-29T02:41:42.612949Z",
     "iopub.status.idle": "2022-03-29T02:41:42.616773Z",
     "shell.execute_reply": "2022-03-29T02:41:42.617153Z"
    },
    "papermill": {
     "duration": 0.018509,
     "end_time": "2022-03-29T02:41:42.617269",
     "exception": false,
     "start_time": "2022-03-29T02:41:42.598760",
     "status": "completed"
    },
    "tags": []
   },
   "outputs": [
    {
     "data": {
      "text/markdown": [
       "- The Challenges With Fully Syncing Old Versions Of Bitcoin Core.  Improvements in Bitcoin Core have led to an increase in the speed at which a Bitcoin node can fully sync and process all the data being added to the blockchain. ... [| Skaityti daugiau](https://bitcoinmagazine.com/technical/challenges-with-syncing-older-bitcoin-versions) "
      ],
      "text/plain": [
       "<IPython.core.display.Markdown object>"
      ]
     },
     "execution_count": 3,
     "metadata": {},
     "output_type": "execute_result"
    }
   ],
   "source": [
    "#hide_input\n",
    "#md('##### {}'.format(titleBTC)) \n",
    "md(\"- {}{} {}{} [| Skaityti daugiau]({}) \".format(blockchain['title'],'. ', blockchain['body'], ' ...', blockchain['url']))"
   ]
  },
  {
   "cell_type": "code",
   "execution_count": 4,
   "id": "aging-caution",
   "metadata": {
    "execution": {
     "iopub.execute_input": "2022-03-29T02:41:42.640426Z",
     "iopub.status.busy": "2022-03-29T02:41:42.639772Z",
     "iopub.status.idle": "2022-03-29T02:41:42.643352Z",
     "shell.execute_reply": "2022-03-29T02:41:42.642781Z"
    },
    "papermill": {
     "duration": 0.016946,
     "end_time": "2022-03-29T02:41:42.643465",
     "exception": false,
     "start_time": "2022-03-29T02:41:42.626519",
     "status": "completed"
    },
    "tags": []
   },
   "outputs": [
    {
     "data": {
      "text/markdown": [
       "- Building Access To Bitcoin For Everyone Featuring SeedSigner.  Governments can try to stifle innovation, but open-source technology and engineering can help provide access to Bitcoin for everyone regardless. ... [| Skaityti daugiau](https://bitcoinmagazine.com/technical/supporting-access-to-bitcoin-for-everyone) "
      ],
      "text/plain": [
       "<IPython.core.display.Markdown object>"
      ]
     },
     "execution_count": 4,
     "metadata": {},
     "output_type": "execute_result"
    }
   ],
   "source": [
    "#hide_input\n",
    "#md('##### {}'.format(titleBTC)) \n",
    "md(\"- {}{} {}{} [| Skaityti daugiau]({}) \".format(btc['title'],'. ', btc['body'], ' ...', btc['url']))"
   ]
  },
  {
   "cell_type": "code",
   "execution_count": 5,
   "id": "organic-actress",
   "metadata": {
    "execution": {
     "iopub.execute_input": "2022-03-29T02:41:42.667355Z",
     "iopub.status.busy": "2022-03-29T02:41:42.665633Z",
     "iopub.status.idle": "2022-03-29T02:41:42.669332Z",
     "shell.execute_reply": "2022-03-29T02:41:42.669729Z"
    },
    "papermill": {
     "duration": 0.016673,
     "end_time": "2022-03-29T02:41:42.669835",
     "exception": false,
     "start_time": "2022-03-29T02:41:42.653162",
     "status": "completed"
    },
    "tags": []
   },
   "outputs": [
    {
     "data": {
      "text/markdown": [
       "- Here is Ripple’s take on what is key to understanding NFT collectors.  The entry and ascent of NFTs have completely changed the shape of the crypto-industry. Now, NFT creators, collectors, and analysts desperately want to understand the day&#8217;s trends so that they can ensure the best possible returns on their investment. To that end, Ripple&#8217;s 2022 report on crypto trends &#8211; &#8220;New Value: Crypto Trends in Business [&#8230;] ... [| Skaityti daugiau](https://ambcrypto.com/here-is-ripples-take-on-what-is-key-to-understanding-nft-collectors/) "
      ],
      "text/plain": [
       "<IPython.core.display.Markdown object>"
      ]
     },
     "execution_count": 5,
     "metadata": {},
     "output_type": "execute_result"
    }
   ],
   "source": [
    "#hide_input\n",
    "#md('##### {}'.format(titleBTC)) \n",
    "md(\"- {}{} {}{} [| Skaityti daugiau]({}) \".format(xrp['title'],'. ', xrp['body'], ' ...', xrp['url']))"
   ]
  },
  {
   "cell_type": "code",
   "execution_count": 6,
   "id": "prompt-farmer",
   "metadata": {
    "execution": {
     "iopub.execute_input": "2022-03-29T02:41:42.694598Z",
     "iopub.status.busy": "2022-03-29T02:41:42.694081Z",
     "iopub.status.idle": "2022-03-29T02:41:42.696522Z",
     "shell.execute_reply": "2022-03-29T02:41:42.696918Z"
    },
    "papermill": {
     "duration": 0.017395,
     "end_time": "2022-03-29T02:41:42.697024",
     "exception": false,
     "start_time": "2022-03-29T02:41:42.679629",
     "status": "completed"
    },
    "tags": []
   },
   "outputs": [
    {
     "data": {
      "text/markdown": [
       "- USDT circulation on TRON dwarfs Ethereum’s surpassing $40 billion.  The Tron (TRX) network has been measuring some impressive results in the past few months. One of them is the...  Continue reading  The post USDT circulation on TRON dwarfs Ethereum&#8217;s surpassing $40 billion appeared first on Finbold. ... [| Skaityti daugiau](https://finbold.com/usdt-circulation-on-tron-dwarfs-ethereums-surpassing-40-billion/) "
      ],
      "text/plain": [
       "<IPython.core.display.Markdown object>"
      ]
     },
     "execution_count": 6,
     "metadata": {},
     "output_type": "execute_result"
    }
   ],
   "source": [
    "#hide_input\n",
    "#md('##### {}'.format(titleBTC)) \n",
    "md(\"- {}{} {}{} [| Skaityti daugiau]({}) \".format(trx['title'],'. ', trx['body'], ' ...', trx['url']))"
   ]
  },
  {
   "cell_type": "code",
   "execution_count": 7,
   "id": "illegal-greece",
   "metadata": {
    "execution": {
     "iopub.execute_input": "2022-03-29T02:41:42.721436Z",
     "iopub.status.busy": "2022-03-29T02:41:42.720942Z",
     "iopub.status.idle": "2022-03-29T02:41:42.723901Z",
     "shell.execute_reply": "2022-03-29T02:41:42.723501Z"
    },
    "papermill": {
     "duration": 0.016647,
     "end_time": "2022-03-29T02:41:42.724023",
     "exception": false,
     "start_time": "2022-03-29T02:41:42.707376",
     "status": "completed"
    },
    "tags": []
   },
   "outputs": [
    {
     "data": {
      "text/markdown": [
       "- Here is Ripple’s take on what is key to understanding NFT collectors.  The entry and ascent of NFTs have completely changed the shape of the crypto-industry. Now, NFT creators, collectors, and analysts desperately want to understand the day&#8217;s trends so that they can ensure the best possible returns on their investment. To that end, Ripple&#8217;s 2022 report on crypto trends &#8211; &#8220;New Value: Crypto Trends in Business [&#8230;] ... [| Skaityti daugiau](https://ambcrypto.com/here-is-ripples-take-on-what-is-key-to-understanding-nft-collectors/) "
      ],
      "text/plain": [
       "<IPython.core.display.Markdown object>"
      ]
     },
     "execution_count": 7,
     "metadata": {},
     "output_type": "execute_result"
    }
   ],
   "source": [
    "#hide_input\n",
    "#md('##### {}'.format(titleBTC)) \n",
    "md(\"- {}{} {}{} [| Skaityti daugiau]({}) \".format(eth['title'],'. ', eth['body'], ' ...', eth['url']))"
   ]
  },
  {
   "cell_type": "code",
   "execution_count": 8,
   "id": "sublime-lounge",
   "metadata": {
    "execution": {
     "iopub.execute_input": "2022-03-29T02:41:42.749119Z",
     "iopub.status.busy": "2022-03-29T02:41:42.748625Z",
     "iopub.status.idle": "2022-03-29T02:41:42.751154Z",
     "shell.execute_reply": "2022-03-29T02:41:42.751585Z"
    },
    "papermill": {
     "duration": 0.01717,
     "end_time": "2022-03-29T02:41:42.751692",
     "exception": false,
     "start_time": "2022-03-29T02:41:42.734522",
     "status": "completed"
    },
    "tags": []
   },
   "outputs": [
    {
     "data": {
      "text/markdown": [
       "- Cardano 50% Rally Wakes Up Bulls, More Upside To Follow?.  Cardano (ADA) rallied alongside the entire market as the weekend drew to a close. However, the digital asset did investors one better as it recorded one of the highest single-day movements during this time. Growing as high as 50%, it has now conclusively left behind the below $1 territory that it had been struggling with [&#8230;] ... [| Skaityti daugiau](https://bitcoinist.com/cardano-50-rally-wakes-up-bulls/) "
      ],
      "text/plain": [
       "<IPython.core.display.Markdown object>"
      ]
     },
     "execution_count": 8,
     "metadata": {},
     "output_type": "execute_result"
    }
   ],
   "source": [
    "#hide_input\n",
    "#md('##### {}'.format(titleBTC)) \n",
    "md(\"- {}{} {}{} [| Skaityti daugiau]({}) \".format(ada['title'],'. ', ada['body'], ' ...', ada['url']))"
   ]
  },
  {
   "cell_type": "code",
   "execution_count": 9,
   "id": "specified-ordering",
   "metadata": {
    "execution": {
     "iopub.execute_input": "2022-03-29T02:41:42.777570Z",
     "iopub.status.busy": "2022-03-29T02:41:42.777077Z",
     "iopub.status.idle": "2022-03-29T02:41:42.779739Z",
     "shell.execute_reply": "2022-03-29T02:41:42.780188Z"
    },
    "papermill": {
     "duration": 0.017814,
     "end_time": "2022-03-29T02:41:42.780297",
     "exception": false,
     "start_time": "2022-03-29T02:41:42.762483",
     "status": "completed"
    },
    "tags": []
   },
   "outputs": [
    {
     "data": {
      "text/markdown": [
       "- Outflows Remain The Order Of The Day As Ethereum Crosses $3,300.  Ethereum has now cemented its position above the hard-won $3,000 level. This signals another bull rally for the digital asset given how the market has responded to its recent surge. More money is coming into the digital asset daily as investors clamor to take part in the gains. This is evidenced by the exchange inflows and outflows, which show a clear buy and accumulate trend on the part of these investors. Ethereum Outflows Grow For the past week, Ethereum, like its counterpart Bitcoin, has been on an outflow trend. This trend saw more of the digital asset leaving exchanges than have been coming in. Glassnode Alerts makes daily reports of exchange inflows and outflows, showing that Ethereum investors are choosing to remove their coins off exchanges, presumably to safer, personal wallets. Related Reading &#124; Malice Or Ignorance? The New York Times Keeps Printing Lies About Bitcoin Mining In the one-week time frame, daily exchange outflows had consistently been above that of inflows. In total, there was a total of $5 billion worth of Ethereum that were moved into exchanges in one week. Compared to this is outflows, which came out at $6 billion in total leaving exchanges. This translates to 20% more ETH leaving exchanges than those being moved in to be too sold. 🚨 Weekly On-Chain Exchange Flow 🚨#Bitcoin $BTC➡️ $7.3B in⬅️ $7.7B out📉 Net flow: -$474.3M#Ethereum $ETH➡️ $5.0B in⬅️ $6.0B out📉 Net flow: -$1.1B#Tether (ERC20) $U... ... [| Skaityti daugiau](https://www.newsbtc.com/analysis/eth/outflows-remain-the-order-of-the-day-as-ethereum-crosses-3300/) "
      ],
      "text/plain": [
       "<IPython.core.display.Markdown object>"
      ]
     },
     "execution_count": 9,
     "metadata": {},
     "output_type": "execute_result"
    }
   ],
   "source": [
    "#hide_input\n",
    "#md('##### {}'.format(titleBTC)) \n",
    "md(\"- {}{} {}{} [| Skaityti daugiau]({}) \".format(exchange['title'],'. ', exchange['body'], ' ...', exchange['url']))"
   ]
  },
  {
   "cell_type": "code",
   "execution_count": null,
   "id": "tender-livestock",
   "metadata": {
    "papermill": {
     "duration": 0.011054,
     "end_time": "2022-03-29T02:41:42.802524",
     "exception": false,
     "start_time": "2022-03-29T02:41:42.791470",
     "status": "completed"
    },
    "tags": []
   },
   "outputs": [],
   "source": []
  },
  {
   "cell_type": "code",
   "execution_count": null,
   "id": "appreciated-diamond",
   "metadata": {
    "papermill": {
     "duration": 0.011068,
     "end_time": "2022-03-29T02:41:42.824849",
     "exception": false,
     "start_time": "2022-03-29T02:41:42.813781",
     "status": "completed"
    },
    "tags": []
   },
   "outputs": [],
   "source": []
  },
  {
   "cell_type": "code",
   "execution_count": null,
   "id": "romance-sweden",
   "metadata": {
    "papermill": {
     "duration": 0.01111,
     "end_time": "2022-03-29T02:41:42.848016",
     "exception": false,
     "start_time": "2022-03-29T02:41:42.836906",
     "status": "completed"
    },
    "tags": []
   },
   "outputs": [],
   "source": []
  },
  {
   "cell_type": "code",
   "execution_count": null,
   "id": "dietary-statistics",
   "metadata": {
    "papermill": {
     "duration": 0.011119,
     "end_time": "2022-03-29T02:41:42.870244",
     "exception": false,
     "start_time": "2022-03-29T02:41:42.859125",
     "status": "completed"
    },
    "tags": []
   },
   "outputs": [],
   "source": []
  }
 ],
 "metadata": {
  "kernelspec": {
   "display_name": "Python 3",
   "language": "python",
   "name": "python3"
  },
  "language_info": {
   "codemirror_mode": {
    "name": "ipython",
    "version": 3
   },
   "file_extension": ".py",
   "mimetype": "text/x-python",
   "name": "python",
   "nbconvert_exporter": "python",
   "pygments_lexer": "ipython3",
   "version": "3.6.15"
  },
  "papermill": {
   "default_parameters": {},
   "duration": 14.547936,
   "end_time": "2022-03-29T02:41:43.299737",
   "environment_variables": {},
   "exception": null,
   "input_path": "Market-News.ipynb",
   "output_path": "Market-News.ipynb",
   "parameters": {},
   "start_time": "2022-03-29T02:41:28.751801",
   "version": "2.2.2"
  }
 },
 "nbformat": 4,
 "nbformat_minor": 5
}