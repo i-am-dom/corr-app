{
 "cells": [
  {
   "cell_type": "markdown",
   "id": "short-greensboro",
   "metadata": {
    "papermill": {
     "duration": 0.012931,
     "end_time": "2021-10-09T01:56:53.814408",
     "exception": false,
     "start_time": "2021-10-09T01:56:53.801477",
     "status": "completed"
    },
    "tags": []
   },
   "source": [
    "# Kriptovaliutų naujienos"
   ]
  },
  {
   "cell_type": "code",
   "execution_count": 1,
   "id": "functioning-knowing",
   "metadata": {
    "execution": {
     "iopub.execute_input": "2021-10-09T01:56:53.843446Z",
     "iopub.status.busy": "2021-10-09T01:56:53.842924Z",
     "iopub.status.idle": "2021-10-09T01:56:55.073501Z",
     "shell.execute_reply": "2021-10-09T01:56:55.072954Z"
    },
    "papermill": {
     "duration": 1.249555,
     "end_time": "2021-10-09T01:56:55.073663",
     "exception": false,
     "start_time": "2021-10-09T01:56:53.824108",
     "status": "completed"
    },
    "tags": []
   },
   "outputs": [],
   "source": [
    "#hide_input\n",
    "import warnings\n",
    "warnings.filterwarnings('ignore')\n",
    "from scripts.read_data import read_api\n",
    "from scripts.read_data import read_news\n",
    "from scripts.read_data import read_covid\n",
    "import matplotlib.pyplot as plt \n",
    "from IPython.display import Markdown as md"
   ]
  },
  {
   "cell_type": "code",
   "execution_count": 2,
   "id": "shared-acceptance",
   "metadata": {
    "execution": {
     "iopub.execute_input": "2021-10-09T01:56:55.099061Z",
     "iopub.status.busy": "2021-10-09T01:56:55.098539Z",
     "iopub.status.idle": "2021-10-09T01:57:03.935071Z",
     "shell.execute_reply": "2021-10-09T01:57:03.934164Z"
    },
    "papermill": {
     "duration": 8.851995,
     "end_time": "2021-10-09T01:57:03.935209",
     "exception": false,
     "start_time": "2021-10-09T01:56:55.083214",
     "status": "completed"
    },
    "tags": []
   },
   "outputs": [],
   "source": [
    "#hide_input\n",
    "blockchain = read_news('blockchain') \n",
    "btc = read_news('btc') \n",
    "xrp = read_news('xrp') \n",
    "trx = read_news('trx') \n",
    "eth = read_news('eth')  \n",
    "ada = read_news('ada')\n",
    "exchange = read_news('exchange') "
   ]
  },
  {
   "cell_type": "code",
   "execution_count": 3,
   "id": "synthetic-notion",
   "metadata": {
    "execution": {
     "iopub.execute_input": "2021-10-09T01:57:03.959621Z",
     "iopub.status.busy": "2021-10-09T01:57:03.959102Z",
     "iopub.status.idle": "2021-10-09T01:57:03.963576Z",
     "shell.execute_reply": "2021-10-09T01:57:03.963172Z"
    },
    "papermill": {
     "duration": 0.019208,
     "end_time": "2021-10-09T01:57:03.963687",
     "exception": false,
     "start_time": "2021-10-09T01:57:03.944479",
     "status": "completed"
    },
    "tags": []
   },
   "outputs": [
    {
     "data": {
      "text/markdown": [
       "- A historical overview of consensus and DoS incidents on major blockchains.  Quick TakeFor almost thirteen years of the blockchains&#8217; existence, at least a dozen outages or accidental forks have occurred.Most often, incidents occurred with Ethereum, which is associated with its status as the first smart contract platform and a vast ecosystem.It is impossible to find all consensus bugs or prevent DoS attacks beforehand, but history shows that validators and developers quickly solve all issues. ... [| Skaityti daugiau](https://www.theblockresearch.com/a-historical-overview-of-consensus-and-dos-incidents-on-major-blockchains-119723?utm_source=cryptocompare&utm_medium=rss) "
      ],
      "text/plain": [
       "<IPython.core.display.Markdown object>"
      ]
     },
     "execution_count": 3,
     "metadata": {},
     "output_type": "execute_result"
    }
   ],
   "source": [
    "#hide_input\n",
    "#md('##### {}'.format(titleBTC)) \n",
    "md(\"- {}{} {}{} [| Skaityti daugiau]({}) \".format(blockchain['title'],'. ', blockchain['body'], ' ...', blockchain['url']))"
   ]
  },
  {
   "cell_type": "code",
   "execution_count": 4,
   "id": "aging-caution",
   "metadata": {
    "execution": {
     "iopub.execute_input": "2021-10-09T01:57:03.987419Z",
     "iopub.status.busy": "2021-10-09T01:57:03.985640Z",
     "iopub.status.idle": "2021-10-09T01:57:03.989928Z",
     "shell.execute_reply": "2021-10-09T01:57:03.989521Z"
    },
    "papermill": {
     "duration": 0.017169,
     "end_time": "2021-10-09T01:57:03.990039",
     "exception": false,
     "start_time": "2021-10-09T01:57:03.972870",
     "status": "completed"
    },
    "tags": []
   },
   "outputs": [
    {
     "data": {
      "text/markdown": [
       "- Chainlink has high upside potential, but are there true entry points.  With Bitcoin leading the market gains showing close to 16.90% weekly price rise, the rest of the market has stayed rather calm. While on the back of Bitcoin gains, the market seems to be witnessing a steady upward movement, most alts have failed to surprise the market. Chainlink, the 15th ranked alt by market cap, [&#8230;] ... [| Skaityti daugiau](https://ambcrypto.com/chainlink-has-high-upside-potential-but-are-there-true-entry-points/) "
      ],
      "text/plain": [
       "<IPython.core.display.Markdown object>"
      ]
     },
     "execution_count": 4,
     "metadata": {},
     "output_type": "execute_result"
    }
   ],
   "source": [
    "#hide_input\n",
    "#md('##### {}'.format(titleBTC)) \n",
    "md(\"- {}{} {}{} [| Skaityti daugiau]({}) \".format(btc['title'],'. ', btc['body'], ' ...', btc['url']))"
   ]
  },
  {
   "cell_type": "code",
   "execution_count": 5,
   "id": "organic-actress",
   "metadata": {
    "execution": {
     "iopub.execute_input": "2021-10-09T01:57:04.014643Z",
     "iopub.status.busy": "2021-10-09T01:57:04.014048Z",
     "iopub.status.idle": "2021-10-09T01:57:04.017787Z",
     "shell.execute_reply": "2021-10-09T01:57:04.017376Z"
    },
    "papermill": {
     "duration": 0.018228,
     "end_time": "2021-10-09T01:57:04.017903",
     "exception": false,
     "start_time": "2021-10-09T01:57:03.999675",
     "status": "completed"
    },
    "tags": []
   },
   "outputs": [
    {
     "data": {
      "text/markdown": [
       "- MoneyGram Launches New Partnership With This Crypto As Ripple Battles Through SEC Lawsuit.  MoneyGram is officially moving on from Ripple. This week, the payments giant announced a new partnership with the Stellar Development Foundation to use the Stellar blockchain, a Ripple Labs competitor, to facilitate cross-border payments. MoneyGram&#8217;s payments on the Stellar blockchain will utilize the world&#8217;s second-largest stablecoin, Circle&#8217;s USD Coin (USDC). USDC will allow settlement at [&#8230;]The post MoneyGram Launches New Partnership With This Crypto As Ripple Battles Through SEC Lawsuit appeared first on The Daily Hodl. ... [| Skaityti daugiau](https://dailyhodl.com/2021/10/08/moneygram-launches-new-partnership-with-this-crypto-as-ripple-battles-through-sec-lawsuit/) "
      ],
      "text/plain": [
       "<IPython.core.display.Markdown object>"
      ]
     },
     "execution_count": 5,
     "metadata": {},
     "output_type": "execute_result"
    }
   ],
   "source": [
    "#hide_input\n",
    "#md('##### {}'.format(titleBTC)) \n",
    "md(\"- {}{} {}{} [| Skaityti daugiau]({}) \".format(xrp['title'],'. ', xrp['body'], ' ...', xrp['url']))"
   ]
  },
  {
   "cell_type": "code",
   "execution_count": 6,
   "id": "prompt-farmer",
   "metadata": {
    "execution": {
     "iopub.execute_input": "2021-10-09T01:57:04.042300Z",
     "iopub.status.busy": "2021-10-09T01:57:04.041798Z",
     "iopub.status.idle": "2021-10-09T01:57:04.044994Z",
     "shell.execute_reply": "2021-10-09T01:57:04.044571Z"
    },
    "papermill": {
     "duration": 0.01734,
     "end_time": "2021-10-09T01:57:04.045098",
     "exception": false,
     "start_time": "2021-10-09T01:57:04.027758",
     "status": "completed"
    },
    "tags": []
   },
   "outputs": [
    {
     "data": {
      "text/markdown": [
       "- Moonstake Wallet Now Supports Staking of TRON (TRX).  Moonstake is now an official &#8216;super partner&#8217; of TRON Network. Users can stake TRX to earn staking rewards on Moonstake web wallet and mobile wallet. Hold, send, receive and stake TRX to receive rewards with the best user experience through one single click. TRON became the 13th available staking coin on Moonstake. Moonstake started its [&#8230;]The post Moonstake Wallet Now Supports Staking of TRON (TRX) appeared first on The Daily Hodl. ... [| Skaityti daugiau](https://dailyhodl.com/2021/10/08/moonstake-wallet-now-supports-staking-of-tron-trx/) "
      ],
      "text/plain": [
       "<IPython.core.display.Markdown object>"
      ]
     },
     "execution_count": 6,
     "metadata": {},
     "output_type": "execute_result"
    }
   ],
   "source": [
    "#hide_input\n",
    "#md('##### {}'.format(titleBTC)) \n",
    "md(\"- {}{} {}{} [| Skaityti daugiau]({}) \".format(trx['title'],'. ', trx['body'], ' ...', trx['url']))"
   ]
  },
  {
   "cell_type": "code",
   "execution_count": 7,
   "id": "illegal-greece",
   "metadata": {
    "execution": {
     "iopub.execute_input": "2021-10-09T01:57:04.070312Z",
     "iopub.status.busy": "2021-10-09T01:57:04.069803Z",
     "iopub.status.idle": "2021-10-09T01:57:04.072572Z",
     "shell.execute_reply": "2021-10-09T01:57:04.072142Z"
    },
    "papermill": {
     "duration": 0.017243,
     "end_time": "2021-10-09T01:57:04.072677",
     "exception": false,
     "start_time": "2021-10-09T01:57:04.055434",
     "status": "completed"
    },
    "tags": []
   },
   "outputs": [
    {
     "data": {
      "text/markdown": [
       "- Why A Parabolic Move Is Expected For Bitcoin, Billionaire Mike Novogratz.  Bitcoin has been on the rise with the start of the new month. The first week of October brought with it good tidings as top cryptocurrencies in the market had begun to rally for the first time in weeks. Bitcoin hit a new 4-month high on Friday with its break above $56K. Bulls have set their eyes on new all-time highs before the end of the year and CEO of Galaxy Digital Mike Novogratz has echoed this sentiment. New Investors Holding Up The Market Billionaire Mike Novogratz was on CNBC’s “Squawk Box” to talk about the crypto market. Novogratz said that new investors were the reason bitcoin and ethereum price had held their high value. New investor enthusiasm has been on the rise since the bull market first slid into full gear at the beginning of 2021. But the recent turn of events in the crypto market has triggered a new wave of entrants into the space. Related Reading &#124; CEO Of Soros Fund Management Confirms That The Family Office Is Invested In Bitcoin Novogratz puts the current crypto global wealth percentage at 0.5%, only a small number compared to other financial markets. Nonetheless, an impressive percentage is given that the crypto market is yet to enter its teenage years. The billionaire expects the percentage to rise well above 0.5% as more investors move into the crypto space. BTC price trading north of $54K &#124; Source: BTCUSD on TradingView.com Speaking of new investors coming into the market and holding up the... ... [| Skaityti daugiau](https://www.newsbtc.com/news/bitcoin/parabolic-move-for-bitcoin/) "
      ],
      "text/plain": [
       "<IPython.core.display.Markdown object>"
      ]
     },
     "execution_count": 7,
     "metadata": {},
     "output_type": "execute_result"
    }
   ],
   "source": [
    "#hide_input\n",
    "#md('##### {}'.format(titleBTC)) \n",
    "md(\"- {}{} {}{} [| Skaityti daugiau]({}) \".format(eth['title'],'. ', eth['body'], ' ...', eth['url']))"
   ]
  },
  {
   "cell_type": "code",
   "execution_count": 8,
   "id": "sublime-lounge",
   "metadata": {
    "execution": {
     "iopub.execute_input": "2021-10-09T01:57:04.098398Z",
     "iopub.status.busy": "2021-10-09T01:57:04.097879Z",
     "iopub.status.idle": "2021-10-09T01:57:04.101148Z",
     "shell.execute_reply": "2021-10-09T01:57:04.100733Z"
    },
    "papermill": {
     "duration": 0.018058,
     "end_time": "2021-10-09T01:57:04.101258",
     "exception": false,
     "start_time": "2021-10-09T01:57:04.083200",
     "status": "completed"
    },
    "tags": []
   },
   "outputs": [
    {
     "data": {
      "text/markdown": [
       "- Cardano and Five Altcoins Set To Outperform Bitcoin As New Phase of Market Cycle Begins, Predicts Crypto Strategist.  A popular crypto strategist and trader says six mid-to-large cap altcoins will likely shine brighter than Bitcoin (BTC) in the coming months. The pseudonymous crypto analyst known in the industry as Capo tells his 173,000 Twitter followers that he expects big moves from the smart contract platform Cardano (ADA). ADA is currently trading at $2.28, [&#8230;]The post Cardano and Five Altcoins Set To Outperform Bitcoin As New Phase of Market Cycle Begins, Predicts Crypto Strategist appeared first on The Daily Hodl. ... [| Skaityti daugiau](https://dailyhodl.com/2021/10/08/cardano-and-five-altcoins-set-to-outperform-bitcoin-as-new-phase-of-market-cycle-begins-predicts-crypto-strategist/) "
      ],
      "text/plain": [
       "<IPython.core.display.Markdown object>"
      ]
     },
     "execution_count": 8,
     "metadata": {},
     "output_type": "execute_result"
    }
   ],
   "source": [
    "#hide_input\n",
    "#md('##### {}'.format(titleBTC)) \n",
    "md(\"- {}{} {}{} [| Skaityti daugiau]({}) \".format(ada['title'],'. ', ada['body'], ' ...', ada['url']))"
   ]
  },
  {
   "cell_type": "code",
   "execution_count": 9,
   "id": "specified-ordering",
   "metadata": {
    "execution": {
     "iopub.execute_input": "2021-10-09T01:57:04.127630Z",
     "iopub.status.busy": "2021-10-09T01:57:04.126971Z",
     "iopub.status.idle": "2021-10-09T01:57:04.130406Z",
     "shell.execute_reply": "2021-10-09T01:57:04.129951Z"
    },
    "papermill": {
     "duration": 0.018448,
     "end_time": "2021-10-09T01:57:04.130515",
     "exception": false,
     "start_time": "2021-10-09T01:57:04.112067",
     "status": "completed"
    },
    "tags": []
   },
   "outputs": [
    {
     "data": {
      "text/markdown": [
       "- Crypto Exchange Binance Terminates Some Services in South Africa After Warning by Regulator.  Binance has announced that it is terminating some services in South Africa to comply with regulations. This move followed a warning issued by the South African financial regulator that Binance Group was not authorized to give any financial advice or render any intermediary services in the country. Binance Ceases Some Services in South Africa Cryptocurrency [&#8230;] ... [| Skaityti daugiau](https://news.bitcoin.com/crypto-exchange-binance-terminates-some-services-south-africa-warning-by-regulator/) "
      ],
      "text/plain": [
       "<IPython.core.display.Markdown object>"
      ]
     },
     "execution_count": 9,
     "metadata": {},
     "output_type": "execute_result"
    }
   ],
   "source": [
    "#hide_input\n",
    "#md('##### {}'.format(titleBTC)) \n",
    "md(\"- {}{} {}{} [| Skaityti daugiau]({}) \".format(exchange['title'],'. ', exchange['body'], ' ...', exchange['url']))"
   ]
  },
  {
   "cell_type": "code",
   "execution_count": null,
   "id": "tender-livestock",
   "metadata": {
    "papermill": {
     "duration": 0.011063,
     "end_time": "2021-10-09T01:57:04.152772",
     "exception": false,
     "start_time": "2021-10-09T01:57:04.141709",
     "status": "completed"
    },
    "tags": []
   },
   "outputs": [],
   "source": []
  },
  {
   "cell_type": "code",
   "execution_count": null,
   "id": "appreciated-diamond",
   "metadata": {
    "papermill": {
     "duration": 0.011085,
     "end_time": "2021-10-09T01:57:04.175173",
     "exception": false,
     "start_time": "2021-10-09T01:57:04.164088",
     "status": "completed"
    },
    "tags": []
   },
   "outputs": [],
   "source": []
  },
  {
   "cell_type": "code",
   "execution_count": null,
   "id": "romance-sweden",
   "metadata": {
    "papermill": {
     "duration": 0.011035,
     "end_time": "2021-10-09T01:57:04.197350",
     "exception": false,
     "start_time": "2021-10-09T01:57:04.186315",
     "status": "completed"
    },
    "tags": []
   },
   "outputs": [],
   "source": []
  },
  {
   "cell_type": "code",
   "execution_count": null,
   "id": "dietary-statistics",
   "metadata": {
    "papermill": {
     "duration": 0.01114,
     "end_time": "2021-10-09T01:57:04.219742",
     "exception": false,
     "start_time": "2021-10-09T01:57:04.208602",
     "status": "completed"
    },
    "tags": []
   },
   "outputs": [],
   "source": []
  }
 ],
 "metadata": {
  "kernelspec": {
   "display_name": "Python 3",
   "language": "python",
   "name": "python3"
  },
  "language_info": {
   "codemirror_mode": {
    "name": "ipython",
    "version": 3
   },
   "file_extension": ".py",
   "mimetype": "text/x-python",
   "name": "python",
   "nbconvert_exporter": "python",
   "pygments_lexer": "ipython3",
   "version": "3.6.15"
  },
  "papermill": {
   "default_parameters": {},
   "duration": 12.106448,
   "end_time": "2021-10-09T01:57:04.739583",
   "environment_variables": {},
   "exception": null,
   "input_path": "Market-News.ipynb",
   "output_path": "Market-News.ipynb",
   "parameters": {},
   "start_time": "2021-10-09T01:56:52.633135",
   "version": "2.2.2"
  }
 },
 "nbformat": 4,
 "nbformat_minor": 5
}