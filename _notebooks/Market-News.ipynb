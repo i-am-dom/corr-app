{
 "cells": [
  {
   "cell_type": "markdown",
   "id": "short-greensboro",
   "metadata": {
    "papermill": {
     "duration": 0.013975,
     "end_time": "2022-09-29T03:45:33.181512",
     "exception": false,
     "start_time": "2022-09-29T03:45:33.167537",
     "status": "completed"
    },
    "tags": []
   },
   "source": [
    "# Kriptovaliutų naujienos"
   ]
  },
  {
   "cell_type": "code",
   "execution_count": 1,
   "id": "functioning-knowing",
   "metadata": {
    "execution": {
     "iopub.execute_input": "2022-09-29T03:45:33.211496Z",
     "iopub.status.busy": "2022-09-29T03:45:33.210882Z",
     "iopub.status.idle": "2022-09-29T03:45:34.436579Z",
     "shell.execute_reply": "2022-09-29T03:45:34.435997Z"
    },
    "papermill": {
     "duration": 1.245577,
     "end_time": "2022-09-29T03:45:34.436737",
     "exception": false,
     "start_time": "2022-09-29T03:45:33.191160",
     "status": "completed"
    },
    "tags": []
   },
   "outputs": [],
   "source": [
    "#hide_input\n",
    "import warnings\n",
    "warnings.filterwarnings('ignore')\n",
    "from scripts.read_data import read_api\n",
    "from scripts.read_data import read_news\n",
    "from scripts.read_data import read_covid\n",
    "import matplotlib.pyplot as plt \n",
    "from IPython.display import Markdown as md"
   ]
  },
  {
   "cell_type": "code",
   "execution_count": 2,
   "id": "shared-acceptance",
   "metadata": {
    "execution": {
     "iopub.execute_input": "2022-09-29T03:45:34.463496Z",
     "iopub.status.busy": "2022-09-29T03:45:34.462441Z",
     "iopub.status.idle": "2022-09-29T03:45:53.679686Z",
     "shell.execute_reply": "2022-09-29T03:45:53.678675Z"
    },
    "papermill": {
     "duration": 19.233097,
     "end_time": "2022-09-29T03:45:53.679816",
     "exception": false,
     "start_time": "2022-09-29T03:45:34.446719",
     "status": "completed"
    },
    "tags": []
   },
   "outputs": [],
   "source": [
    "#hide_input\n",
    "blockchain = read_news('blockchain') \n",
    "btc = read_news('btc') \n",
    "xrp = read_news('xrp') \n",
    "trx = read_news('trx') \n",
    "eth = read_news('eth')  \n",
    "ada = read_news('ada')\n",
    "exchange = read_news('exchange') "
   ]
  },
  {
   "cell_type": "code",
   "execution_count": 3,
   "id": "synthetic-notion",
   "metadata": {
    "execution": {
     "iopub.execute_input": "2022-09-29T03:45:53.704317Z",
     "iopub.status.busy": "2022-09-29T03:45:53.703663Z",
     "iopub.status.idle": "2022-09-29T03:45:53.707129Z",
     "shell.execute_reply": "2022-09-29T03:45:53.706659Z"
    },
    "papermill": {
     "duration": 0.018114,
     "end_time": "2022-09-29T03:45:53.707237",
     "exception": false,
     "start_time": "2022-09-29T03:45:53.689123",
     "status": "completed"
    },
    "tags": []
   },
   "outputs": [
    {
     "data": {
      "text/markdown": [
       "- Circle Product VP: USDC chain expansion part of 'multichain' vision.  Speaking with Cointelegraph, Circle’s vice president of Product Joao Reginatto emphasized that devs soon won’t care what blockchain they build on, as interoperability will be key.  ... [| Skaityti daugiau](https://cointelegraph.com/news/circle-product-vp-usdc-chain-expansion-part-of-multichain-vision) "
      ],
      "text/plain": [
       "<IPython.core.display.Markdown object>"
      ]
     },
     "execution_count": 3,
     "metadata": {},
     "output_type": "execute_result"
    }
   ],
   "source": [
    "#hide_input\n",
    "#md('##### {}'.format(titleBTC)) \n",
    "md(\"- {}{} {}{} [| Skaityti daugiau]({}) \".format(blockchain['title'],'. ', blockchain['body'], ' ...', blockchain['url']))"
   ]
  },
  {
   "cell_type": "code",
   "execution_count": 4,
   "id": "aging-caution",
   "metadata": {
    "execution": {
     "iopub.execute_input": "2022-09-29T03:45:53.730913Z",
     "iopub.status.busy": "2022-09-29T03:45:53.730251Z",
     "iopub.status.idle": "2022-09-29T03:45:53.733422Z",
     "shell.execute_reply": "2022-09-29T03:45:53.732982Z"
    },
    "papermill": {
     "duration": 0.016999,
     "end_time": "2022-09-29T03:45:53.733528",
     "exception": false,
     "start_time": "2022-09-29T03:45:53.716529",
     "status": "completed"
    },
    "tags": []
   },
   "outputs": [
    {
     "data": {
      "text/markdown": [
       "- Bitcoin Price and Ethereum Hold Strong, HNT and SNX Rally.  Bitcoin price remained strong above the $18,500 support zone. BTC formed a base and started a fresh increase above $19,000. It is currently (03:10 UTC) consolidating above the $19,200 level and eyes more upsides. Similarly, most major altcoins recovered losses. ETH found support near $1,255 and recovered above $1,320. XRP is eyeing an upside break above the $0.45 resistance zone. ADA is stuck near the $0.435 level....Read More: Bitcoin Price and Ethereum Hold Strong, HNT and SNX Rally ... [| Skaityti daugiau](https://cryptonews.com/news/bitcoin-price-ethereum-hold-strong-hnt-snx-rally.htm) "
      ],
      "text/plain": [
       "<IPython.core.display.Markdown object>"
      ]
     },
     "execution_count": 4,
     "metadata": {},
     "output_type": "execute_result"
    }
   ],
   "source": [
    "#hide_input\n",
    "#md('##### {}'.format(titleBTC)) \n",
    "md(\"- {}{} {}{} [| Skaityti daugiau]({}) \".format(btc['title'],'. ', btc['body'], ' ...', btc['url']))"
   ]
  },
  {
   "cell_type": "code",
   "execution_count": 5,
   "id": "organic-actress",
   "metadata": {
    "execution": {
     "iopub.execute_input": "2022-09-29T03:45:53.757585Z",
     "iopub.status.busy": "2022-09-29T03:45:53.756369Z",
     "iopub.status.idle": "2022-09-29T03:45:53.760547Z",
     "shell.execute_reply": "2022-09-29T03:45:53.761092Z"
    },
    "papermill": {
     "duration": 0.01813,
     "end_time": "2022-09-29T03:45:53.761210",
     "exception": false,
     "start_time": "2022-09-29T03:45:53.743080",
     "status": "completed"
    },
    "tags": []
   },
   "outputs": [
    {
     "data": {
      "text/markdown": [
       "- Brad Garlinghouse Explains Why He Thinks XRP Lawsuit Will End in Favor of Ripple.  The United States Securities and Exchange Commission (SEC) alleges that XRP, the native token of the Ripple blockchain is a security. This led to the lawsuit filed against Ripple in December 2020 by the SEC. In the case brought forward by the securities watchdog, it contends that Ripple sold XRP as unregistered security, raising over [&#8230;]The post Brad Garlinghouse Explains Why He Thinks XRP Lawsuit Will End in Favor of Ripple appeared first on Times Tabloid. ... [| Skaityti daugiau](https://timestabloid.com/brad-garlinghouse-explains-why-he-thinks-xrp-lawsuit-will-end-in-favor-of-ripple/) "
      ],
      "text/plain": [
       "<IPython.core.display.Markdown object>"
      ]
     },
     "execution_count": 5,
     "metadata": {},
     "output_type": "execute_result"
    }
   ],
   "source": [
    "#hide_input\n",
    "#md('##### {}'.format(titleBTC)) \n",
    "md(\"- {}{} {}{} [| Skaityti daugiau]({}) \".format(xrp['title'],'. ', xrp['body'], ' ...', xrp['url']))"
   ]
  },
  {
   "cell_type": "code",
   "execution_count": 6,
   "id": "prompt-farmer",
   "metadata": {
    "execution": {
     "iopub.execute_input": "2022-09-29T03:45:53.785856Z",
     "iopub.status.busy": "2022-09-29T03:45:53.785279Z",
     "iopub.status.idle": "2022-09-29T03:45:53.789158Z",
     "shell.execute_reply": "2022-09-29T03:45:53.788695Z"
    },
    "papermill": {
     "duration": 0.018159,
     "end_time": "2022-09-29T03:45:53.789260",
     "exception": false,
     "start_time": "2022-09-29T03:45:53.771101",
     "status": "completed"
    },
    "tags": []
   },
   "outputs": [
    {
     "data": {
      "text/markdown": [
       "- Gas-Free TRC-20 Transactions on Guarda Wallet.  Guarda&#8217;s team has worked to improve the validators&#8217; fees to increase the APY received while staking the TRX. The TRX token is among the popular assets available on Guarda Wallet for staking to earn passive income. The APY of Tron is around 4%. So you can just delegate your asset to Guarda’s validator nodes. Brief [&#8230;]The post Gas-Free TRC-20 Transactions on Guarda Wallet appeared first on Blockchain, Crypto and Stock News. ... [| Skaityti daugiau](https://thecoinrise.com/gas-free-trc-20-transactions-on-guarda-wallet/) "
      ],
      "text/plain": [
       "<IPython.core.display.Markdown object>"
      ]
     },
     "execution_count": 6,
     "metadata": {},
     "output_type": "execute_result"
    }
   ],
   "source": [
    "#hide_input\n",
    "#md('##### {}'.format(titleBTC)) \n",
    "md(\"- {}{} {}{} [| Skaityti daugiau]({}) \".format(trx['title'],'. ', trx['body'], ' ...', trx['url']))"
   ]
  },
  {
   "cell_type": "code",
   "execution_count": 7,
   "id": "illegal-greece",
   "metadata": {
    "execution": {
     "iopub.execute_input": "2022-09-29T03:45:53.815967Z",
     "iopub.status.busy": "2022-09-29T03:45:53.815388Z",
     "iopub.status.idle": "2022-09-29T03:45:53.819221Z",
     "shell.execute_reply": "2022-09-29T03:45:53.818720Z"
    },
    "papermill": {
     "duration": 0.019668,
     "end_time": "2022-09-29T03:45:53.819327",
     "exception": false,
     "start_time": "2022-09-29T03:45:53.799659",
     "status": "completed"
    },
    "tags": []
   },
   "outputs": [
    {
     "data": {
      "text/markdown": [
       "- Polygon traders wishing for auto’MATIC’ surges may be unhappy because….  Polygon and its MATIC token are headed for interesting times especially with the latest developments. The Ethereum L2 recently confirmed a collaboration with the Robinhood trading platform and their new relationship just reached an important milestone. Polygon previously announced a partnership with Robinhood and the same impacted MATIC&#8217;s price action. No official launch date was [&#8230;] ... [| Skaityti daugiau](https://ambcrypto.com/polygon-traders-wishing-for-automatic-surges-may-be-unhappy-because/) "
      ],
      "text/plain": [
       "<IPython.core.display.Markdown object>"
      ]
     },
     "execution_count": 7,
     "metadata": {},
     "output_type": "execute_result"
    }
   ],
   "source": [
    "#hide_input\n",
    "#md('##### {}'.format(titleBTC)) \n",
    "md(\"- {}{} {}{} [| Skaityti daugiau]({}) \".format(eth['title'],'. ', eth['body'], ' ...', eth['url']))"
   ]
  },
  {
   "cell_type": "code",
   "execution_count": 8,
   "id": "sublime-lounge",
   "metadata": {
    "execution": {
     "iopub.execute_input": "2022-09-29T03:45:53.845523Z",
     "iopub.status.busy": "2022-09-29T03:45:53.844943Z",
     "iopub.status.idle": "2022-09-29T03:45:53.848331Z",
     "shell.execute_reply": "2022-09-29T03:45:53.847868Z"
    },
    "papermill": {
     "duration": 0.018536,
     "end_time": "2022-09-29T03:45:53.848435",
     "exception": false,
     "start_time": "2022-09-29T03:45:53.829899",
     "status": "completed"
    },
    "tags": []
   },
   "outputs": [
    {
     "data": {
      "text/markdown": [
       "- Bitcoin Price and Ethereum Hold Strong, HNT and SNX Rally.  Bitcoin price remained strong above the $18,500 support zone. BTC formed a base and started a fresh increase above $19,000. It is currently (03:10 UTC) consolidating above the $19,200 level and eyes more upsides. Similarly, most major altcoins recovered losses. ETH found support near $1,255 and recovered above $1,320. XRP is eyeing an upside break above the $0.45 resistance zone. ADA is stuck near the $0.435 level....Read More: Bitcoin Price and Ethereum Hold Strong, HNT and SNX Rally ... [| Skaityti daugiau](https://cryptonews.com/news/bitcoin-price-ethereum-hold-strong-hnt-snx-rally.htm) "
      ],
      "text/plain": [
       "<IPython.core.display.Markdown object>"
      ]
     },
     "execution_count": 8,
     "metadata": {},
     "output_type": "execute_result"
    }
   ],
   "source": [
    "#hide_input\n",
    "#md('##### {}'.format(titleBTC)) \n",
    "md(\"- {}{} {}{} [| Skaityti daugiau]({}) \".format(ada['title'],'. ', ada['body'], ' ...', ada['url']))"
   ]
  },
  {
   "cell_type": "code",
   "execution_count": 9,
   "id": "specified-ordering",
   "metadata": {
    "execution": {
     "iopub.execute_input": "2022-09-29T03:45:53.875446Z",
     "iopub.status.busy": "2022-09-29T03:45:53.874857Z",
     "iopub.status.idle": "2022-09-29T03:45:53.878268Z",
     "shell.execute_reply": "2022-09-29T03:45:53.877705Z"
    },
    "papermill": {
     "duration": 0.019012,
     "end_time": "2022-09-29T03:45:53.878374",
     "exception": false,
     "start_time": "2022-09-29T03:45:53.859362",
     "status": "completed"
    },
    "tags": []
   },
   "outputs": [
    {
     "data": {
      "text/markdown": [
       "- A new training program by Binance will assist law enforcement agencies combat e-crime.  Binance has always served as the big brother of the crypto sector by helping users who have fallen victim to fraud, theft, or hacks regain their money. With an e-crime training program, it is now aiming even higher. The &#8220;Global Law Enforcement Training Program,&#8221; developed by Binance to assist law enforcement agencies in preventing financial [&#8230;]The post A new training program by Binance will assist law enforcement agencies combat e-crime appeared first on Blockchain, Crypto and Stock News. ... [| Skaityti daugiau](https://thecoinrise.com/a-new-training-program-by-binance-will-assist-law-enforcement-agencies-combat-e-crime/) "
      ],
      "text/plain": [
       "<IPython.core.display.Markdown object>"
      ]
     },
     "execution_count": 9,
     "metadata": {},
     "output_type": "execute_result"
    }
   ],
   "source": [
    "#hide_input\n",
    "#md('##### {}'.format(titleBTC)) \n",
    "md(\"- {}{} {}{} [| Skaityti daugiau]({}) \".format(exchange['title'],'. ', exchange['body'], ' ...', exchange['url']))"
   ]
  },
  {
   "cell_type": "code",
   "execution_count": null,
   "id": "tender-livestock",
   "metadata": {
    "papermill": {
     "duration": 0.011162,
     "end_time": "2022-09-29T03:45:53.900791",
     "exception": false,
     "start_time": "2022-09-29T03:45:53.889629",
     "status": "completed"
    },
    "tags": []
   },
   "outputs": [],
   "source": []
  },
  {
   "cell_type": "code",
   "execution_count": null,
   "id": "appreciated-diamond",
   "metadata": {
    "papermill": {
     "duration": 0.011515,
     "end_time": "2022-09-29T03:45:53.923677",
     "exception": false,
     "start_time": "2022-09-29T03:45:53.912162",
     "status": "completed"
    },
    "tags": []
   },
   "outputs": [],
   "source": []
  },
  {
   "cell_type": "code",
   "execution_count": null,
   "id": "romance-sweden",
   "metadata": {
    "papermill": {
     "duration": 0.011238,
     "end_time": "2022-09-29T03:45:53.946089",
     "exception": false,
     "start_time": "2022-09-29T03:45:53.934851",
     "status": "completed"
    },
    "tags": []
   },
   "outputs": [],
   "source": []
  },
  {
   "cell_type": "code",
   "execution_count": null,
   "id": "dietary-statistics",
   "metadata": {
    "papermill": {
     "duration": 0.011204,
     "end_time": "2022-09-29T03:45:53.968504",
     "exception": false,
     "start_time": "2022-09-29T03:45:53.957300",
     "status": "completed"
    },
    "tags": []
   },
   "outputs": [],
   "source": []
  }
 ],
 "metadata": {
  "kernelspec": {
   "display_name": "Python 3",
   "language": "python",
   "name": "python3"
  },
  "language_info": {
   "codemirror_mode": {
    "name": "ipython",
    "version": 3
   },
   "file_extension": ".py",
   "mimetype": "text/x-python",
   "name": "python",
   "nbconvert_exporter": "python",
   "pygments_lexer": "ipython3",
   "version": "3.6.15"
  },
  "papermill": {
   "default_parameters": {},
   "duration": 22.162133,
   "end_time": "2022-09-29T03:45:54.399143",
   "environment_variables": {},
   "exception": null,
   "input_path": "Market-News.ipynb",
   "output_path": "Market-News.ipynb",
   "parameters": {},
   "start_time": "2022-09-29T03:45:32.237010",
   "version": "2.2.2"
  }
 },
 "nbformat": 4,
 "nbformat_minor": 5
}