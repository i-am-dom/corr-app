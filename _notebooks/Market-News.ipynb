{
 "cells": [
  {
   "cell_type": "markdown",
   "id": "short-greensboro",
   "metadata": {
    "papermill": {
     "duration": 0.012461,
     "end_time": "2022-07-06T03:23:46.506364",
     "exception": false,
     "start_time": "2022-07-06T03:23:46.493903",
     "status": "completed"
    },
    "tags": []
   },
   "source": [
    "# Kriptovaliutų naujienos"
   ]
  },
  {
   "cell_type": "code",
   "execution_count": 1,
   "id": "functioning-knowing",
   "metadata": {
    "execution": {
     "iopub.execute_input": "2022-07-06T03:23:46.535281Z",
     "iopub.status.busy": "2022-07-06T03:23:46.534699Z",
     "iopub.status.idle": "2022-07-06T03:23:47.702502Z",
     "shell.execute_reply": "2022-07-06T03:23:47.701939Z"
    },
    "papermill": {
     "duration": 1.186551,
     "end_time": "2022-07-06T03:23:47.702646",
     "exception": false,
     "start_time": "2022-07-06T03:23:46.516095",
     "status": "completed"
    },
    "tags": []
   },
   "outputs": [],
   "source": [
    "#hide_input\n",
    "import warnings\n",
    "warnings.filterwarnings('ignore')\n",
    "from scripts.read_data import read_api\n",
    "from scripts.read_data import read_news\n",
    "from scripts.read_data import read_covid\n",
    "import matplotlib.pyplot as plt \n",
    "from IPython.display import Markdown as md"
   ]
  },
  {
   "cell_type": "code",
   "execution_count": 2,
   "id": "shared-acceptance",
   "metadata": {
    "execution": {
     "iopub.execute_input": "2022-07-06T03:23:47.728417Z",
     "iopub.status.busy": "2022-07-06T03:23:47.727404Z",
     "iopub.status.idle": "2022-07-06T03:24:00.627521Z",
     "shell.execute_reply": "2022-07-06T03:24:00.626556Z"
    },
    "papermill": {
     "duration": 12.915274,
     "end_time": "2022-07-06T03:24:00.627649",
     "exception": false,
     "start_time": "2022-07-06T03:23:47.712375",
     "status": "completed"
    },
    "tags": []
   },
   "outputs": [],
   "source": [
    "#hide_input\n",
    "blockchain = read_news('blockchain') \n",
    "btc = read_news('btc') \n",
    "xrp = read_news('xrp') \n",
    "trx = read_news('trx') \n",
    "eth = read_news('eth')  \n",
    "ada = read_news('ada')\n",
    "exchange = read_news('exchange') "
   ]
  },
  {
   "cell_type": "code",
   "execution_count": 3,
   "id": "synthetic-notion",
   "metadata": {
    "execution": {
     "iopub.execute_input": "2022-07-06T03:24:00.654411Z",
     "iopub.status.busy": "2022-07-06T03:24:00.653188Z",
     "iopub.status.idle": "2022-07-06T03:24:00.656534Z",
     "shell.execute_reply": "2022-07-06T03:24:00.656083Z"
    },
    "papermill": {
     "duration": 0.019246,
     "end_time": "2022-07-06T03:24:00.656639",
     "exception": false,
     "start_time": "2022-07-06T03:24:00.637393",
     "status": "completed"
    },
    "tags": []
   },
   "outputs": [
    {
     "data": {
      "text/markdown": [
       "- TeraWulf closes $50M add-on loan facility and initial delivery of 3,000 S19 XP Bitmain Antminers.  Bitcoin mining company TeraWulf has announced the closing of the previously announced $50 million add-on loan facility. The Company, which owns and operates fully-integrated, domestic BTC mining facilities, has entered into a first amendment to the Loan Agreement with its current lending parties for an extra $50 million in debt. TeraWulf aims to use the [&#8230;]The post TeraWulf closes $50M add-on loan facility and initial delivery of 3,000 S19 XP Bitmain Antminers appeared first on Blockchain, Crypto and Stock News. ... [| Skaityti daugiau](https://thecoinrise.com/terawulf-closes-50m-add-on-loan-facility-and-initial-delivery-of-3000-s19-xp-bitmain-antminers/) "
      ],
      "text/plain": [
       "<IPython.core.display.Markdown object>"
      ]
     },
     "execution_count": 3,
     "metadata": {},
     "output_type": "execute_result"
    }
   ],
   "source": [
    "#hide_input\n",
    "#md('##### {}'.format(titleBTC)) \n",
    "md(\"- {}{} {}{} [| Skaityti daugiau]({}) \".format(blockchain['title'],'. ', blockchain['body'], ' ...', blockchain['url']))"
   ]
  },
  {
   "cell_type": "code",
   "execution_count": 4,
   "id": "aging-caution",
   "metadata": {
    "execution": {
     "iopub.execute_input": "2022-07-06T03:24:00.681217Z",
     "iopub.status.busy": "2022-07-06T03:24:00.679388Z",
     "iopub.status.idle": "2022-07-06T03:24:00.683446Z",
     "shell.execute_reply": "2022-07-06T03:24:00.683873Z"
    },
    "papermill": {
     "duration": 0.017741,
     "end_time": "2022-07-06T03:24:00.683991",
     "exception": false,
     "start_time": "2022-07-06T03:24:00.666250",
     "status": "completed"
    },
    "tags": []
   },
   "outputs": [
    {
     "data": {
      "text/markdown": [
       "- TA: Bitcoin Faces Another Rejection, Can Bulls Save The Day.  Bitcoin spiked above the $20,500 resistance against the US Dollar. BTC is now struggling near $19,800, with a major support near the $19,600 zone. Bitcoin made another attempt to gain strength above $20,500 but failed. The price is now trading above the $19,500 level and the 100 hourly simple moving average. There is a key bullish trend line forming with support near $19,550 on the hourly chart of the BTC/USD pair (data feed from Kraken). The pair could rise again unless there is a clear move below the $19,500 support zone. Bitcoin Price Faces Hurdles Bitcoin price remained supported above the $19,500 zone. BTC started another increase and climbed above the $20,000 resistance zone. There was a spike above the $20,500 resistance zone but the bulls failed to gain strength. A high was formed near $20,732 and the price corrected gains. There was a drop below the $20,200 and $20,000 support levels. Bitcoin traded below the 50% Fib retracement level of the upward move from the $19,300 swing low to $20,732 swing high. It is now trading above the $19,500 level and the 100 hourly simple moving average. There is also a key bullish trend line forming with support near $19,550 on the hourly chart of the BTC/USD pair. On the upside, the price is facing resistance near the $20,000 and $20,200 levels. The next key resistance is near the $20,500 zone. A close above the $20,500 resistance zone could open the doors for a decent increase. Source... ... [| Skaityti daugiau](https://www.newsbtc.com/analysis/btc/bitcoin-faces-another-rejection-20k/) "
      ],
      "text/plain": [
       "<IPython.core.display.Markdown object>"
      ]
     },
     "execution_count": 4,
     "metadata": {},
     "output_type": "execute_result"
    }
   ],
   "source": [
    "#hide_input\n",
    "#md('##### {}'.format(titleBTC)) \n",
    "md(\"- {}{} {}{} [| Skaityti daugiau]({}) \".format(btc['title'],'. ', btc['body'], ' ...', btc['url']))"
   ]
  },
  {
   "cell_type": "code",
   "execution_count": 5,
   "id": "organic-actress",
   "metadata": {
    "execution": {
     "iopub.execute_input": "2022-07-06T03:24:00.709406Z",
     "iopub.status.busy": "2022-07-06T03:24:00.708803Z",
     "iopub.status.idle": "2022-07-06T03:24:00.714987Z",
     "shell.execute_reply": "2022-07-06T03:24:00.715432Z"
    },
    "papermill": {
     "duration": 0.021806,
     "end_time": "2022-07-06T03:24:00.715589",
     "exception": false,
     "start_time": "2022-07-06T03:24:00.693783",
     "status": "completed"
    },
    "tags": []
   },
   "outputs": [
    {
     "data": {
      "text/markdown": [
       "- XRP Ledger’s Latest Milestone Is ‘Actually Huge’, Says Legal Expert Jeremy Hogan.  Legal expert Jeremy Hogan has noted that the XRP Ledger’s latest milestone is “actually huge” even though it initially does not sound like it. Commenting on XRP Ledger being used for Colombia’s land registry system, Hogan noted it’s a “perfect example of crypto utility.” Earlier this week blockchain developer Peersyst Technology announced that in collaboration […] ... [| Skaityti daugiau](https://www.cryptoglobe.com/latest/2022/07/xrp-ledgers-latest-milestone-is-actually-huge-says-legal-expert-jeremy-hogan/) "
      ],
      "text/plain": [
       "<IPython.core.display.Markdown object>"
      ]
     },
     "execution_count": 5,
     "metadata": {},
     "output_type": "execute_result"
    }
   ],
   "source": [
    "#hide_input\n",
    "#md('##### {}'.format(titleBTC)) \n",
    "md(\"- {}{} {}{} [| Skaityti daugiau]({}) \".format(xrp['title'],'. ', xrp['body'], ' ...', xrp['url']))"
   ]
  },
  {
   "cell_type": "code",
   "execution_count": 6,
   "id": "prompt-farmer",
   "metadata": {
    "execution": {
     "iopub.execute_input": "2022-07-06T03:24:00.741040Z",
     "iopub.status.busy": "2022-07-06T03:24:00.740432Z",
     "iopub.status.idle": "2022-07-06T03:24:00.744518Z",
     "shell.execute_reply": "2022-07-06T03:24:00.744924Z"
    },
    "papermill": {
     "duration": 0.019266,
     "end_time": "2022-07-06T03:24:00.745076",
     "exception": false,
     "start_time": "2022-07-06T03:24:00.725810",
     "status": "completed"
    },
    "tags": []
   },
   "outputs": [
    {
     "data": {
      "text/markdown": [
       "- With Tron [TRX] steady, investors should know that….  The TRON Blockchain [TRX] has made tremendous progress since its launch. Housing over 100,000,000 accounts, the network has witnessed a transaction count of 3,481,985,024. According to data from blockchain analytics platform, Coin98, the TRON Blockchain ranked second on the list of top 10 blockchains. The blockchain had a total locked volume (TVL) of 3,917,8181, 257 [&#8230;] ... [| Skaityti daugiau](https://ambcrypto.com/with-tron-trx-steady-investors-should-know-that/) "
      ],
      "text/plain": [
       "<IPython.core.display.Markdown object>"
      ]
     },
     "execution_count": 6,
     "metadata": {},
     "output_type": "execute_result"
    }
   ],
   "source": [
    "#hide_input\n",
    "#md('##### {}'.format(titleBTC)) \n",
    "md(\"- {}{} {}{} [| Skaityti daugiau]({}) \".format(trx['title'],'. ', trx['body'], ' ...', trx['url']))"
   ]
  },
  {
   "cell_type": "code",
   "execution_count": 7,
   "id": "illegal-greece",
   "metadata": {
    "execution": {
     "iopub.execute_input": "2022-07-06T03:24:00.771292Z",
     "iopub.status.busy": "2022-07-06T03:24:00.770705Z",
     "iopub.status.idle": "2022-07-06T03:24:00.773762Z",
     "shell.execute_reply": "2022-07-06T03:24:00.773301Z"
    },
    "papermill": {
     "duration": 0.018196,
     "end_time": "2022-07-06T03:24:00.773864",
     "exception": false,
     "start_time": "2022-07-06T03:24:00.755668",
     "status": "completed"
    },
    "tags": []
   },
   "outputs": [
    {
     "data": {
      "text/markdown": [
       "- PennyWise crypto-stealing malware spreads through YouTube.  The malware targets Zcash and Ethereum wallets alongside Electrum, Atomic Wallet and Coinomi, it takes your browser extension and login data and reads your chat logs.  ... [| Skaityti daugiau](https://cointelegraph.com/news/pennywise-crypto-stealing-malware-spreads-through-youtube) "
      ],
      "text/plain": [
       "<IPython.core.display.Markdown object>"
      ]
     },
     "execution_count": 7,
     "metadata": {},
     "output_type": "execute_result"
    }
   ],
   "source": [
    "#hide_input\n",
    "#md('##### {}'.format(titleBTC)) \n",
    "md(\"- {}{} {}{} [| Skaityti daugiau]({}) \".format(eth['title'],'. ', eth['body'], ' ...', eth['url']))"
   ]
  },
  {
   "cell_type": "code",
   "execution_count": 8,
   "id": "sublime-lounge",
   "metadata": {
    "execution": {
     "iopub.execute_input": "2022-07-06T03:24:00.800740Z",
     "iopub.status.busy": "2022-07-06T03:24:00.799889Z",
     "iopub.status.idle": "2022-07-06T03:24:00.803627Z",
     "shell.execute_reply": "2022-07-06T03:24:00.804084Z"
    },
    "papermill": {
     "duration": 0.018537,
     "end_time": "2022-07-06T03:24:00.804208",
     "exception": false,
     "start_time": "2022-07-06T03:24:00.785671",
     "status": "completed"
    },
    "tags": []
   },
   "outputs": [
    {
     "data": {
      "text/markdown": [
       "- BNB Technical Analysis: ADA Set to Break Past the Daily Resistance.  Key technical points: BNB technical analysis shows bullish momentum. BNB/USD’s closest resistance is found at $242. BNB found support at $212. Past Performance of BNB The Binance Coin (BNB) is currently in a solid uptrend, surging by over 11% in the past 24 hours. The coin is now trading at around $235, and it seems like it could continue to rise even further in the near term. Technical analysis shows that the BNB/USD pair is currently in a strong uptrend, with resistance at around $242. However, if the bulls can push the price above this level, it could rise to $250 or even higher. On the downside, support is found at $212, and if the bears push the price below this level, it could fall to $200. Source- Tradingview BNB Technical Analysis The SMA 50 (Simple Moving Average) and the SMA 200 are both trending to the upside, which indicates that the bulls are in control of the market. The MACD (Moving Average Convergence Divergence) is also in the bullish zone, and it seems like the bulls could push the price even higher in the coming days. The RSI (Relative Strength Index) is also in bullish territory. Support and Resistance levels closest resistance level for the BNB/USD pair is found at $242. If the bulls can push the price above this level, it could rise to $250 or even higher. On the downside, support is found at $212; if the bears push the price below this level, it could fall to $200. The Binance Coin (BNB) is currently in ... ... [| Skaityti daugiau](https://www.cryptoknowmics.com/news/bnb-technical-analysis-ada-set-to-break-past-the-daily-resistance/?utm_source=rss&utm_medium=rss&utm_campaign=bnb-technical-analysis-ada-set-to-break-past-the-daily-resistance) "
      ],
      "text/plain": [
       "<IPython.core.display.Markdown object>"
      ]
     },
     "execution_count": 8,
     "metadata": {},
     "output_type": "execute_result"
    }
   ],
   "source": [
    "#hide_input\n",
    "#md('##### {}'.format(titleBTC)) \n",
    "md(\"- {}{} {}{} [| Skaityti daugiau]({}) \".format(ada['title'],'. ', ada['body'], ' ...', ada['url']))"
   ]
  },
  {
   "cell_type": "code",
   "execution_count": 9,
   "id": "specified-ordering",
   "metadata": {
    "execution": {
     "iopub.execute_input": "2022-07-06T03:24:00.830739Z",
     "iopub.status.busy": "2022-07-06T03:24:00.830170Z",
     "iopub.status.idle": "2022-07-06T03:24:00.834182Z",
     "shell.execute_reply": "2022-07-06T03:24:00.833727Z"
    },
    "papermill": {
     "duration": 0.018971,
     "end_time": "2022-07-06T03:24:00.834288",
     "exception": false,
     "start_time": "2022-07-06T03:24:00.815317",
     "status": "completed"
    },
    "tags": []
   },
   "outputs": [
    {
     "data": {
      "text/markdown": [
       "- Leaked Personal Data of 1 Billion Chinese Citizens on Sale for 10 Bitcoins — Hacker Claims Stolen From Shanghai Police.  A hacker claims to have stolen the personal data of a billion Chinese citizens from the Shanghai National Police (SHGA) and is selling it for 10 bitcoins. &#x201C;This database contains many TB of data and information on billions of Chinese citizens.&#x201D; 23 Terabytes of Data on a Billion Chinese Citizens on Sale for 10 Bitcoins [&#8230;] ... [| Skaityti daugiau](https://news.bitcoin.com/leaked-personal-data-of-1-billion-chinese-citizens-on-sale-for-10-bitcoins-hacker-claims-stolen-from-shanghai-police/) "
      ],
      "text/plain": [
       "<IPython.core.display.Markdown object>"
      ]
     },
     "execution_count": 9,
     "metadata": {},
     "output_type": "execute_result"
    }
   ],
   "source": [
    "#hide_input\n",
    "#md('##### {}'.format(titleBTC)) \n",
    "md(\"- {}{} {}{} [| Skaityti daugiau]({}) \".format(exchange['title'],'. ', exchange['body'], ' ...', exchange['url']))"
   ]
  },
  {
   "cell_type": "code",
   "execution_count": null,
   "id": "tender-livestock",
   "metadata": {
    "papermill": {
     "duration": 0.011577,
     "end_time": "2022-07-06T03:24:00.857654",
     "exception": false,
     "start_time": "2022-07-06T03:24:00.846077",
     "status": "completed"
    },
    "tags": []
   },
   "outputs": [],
   "source": []
  },
  {
   "cell_type": "code",
   "execution_count": null,
   "id": "appreciated-diamond",
   "metadata": {
    "papermill": {
     "duration": 0.011287,
     "end_time": "2022-07-06T03:24:00.880548",
     "exception": false,
     "start_time": "2022-07-06T03:24:00.869261",
     "status": "completed"
    },
    "tags": []
   },
   "outputs": [],
   "source": []
  },
  {
   "cell_type": "code",
   "execution_count": null,
   "id": "romance-sweden",
   "metadata": {
    "papermill": {
     "duration": 0.01127,
     "end_time": "2022-07-06T03:24:00.903161",
     "exception": false,
     "start_time": "2022-07-06T03:24:00.891891",
     "status": "completed"
    },
    "tags": []
   },
   "outputs": [],
   "source": []
  },
  {
   "cell_type": "code",
   "execution_count": null,
   "id": "dietary-statistics",
   "metadata": {
    "papermill": {
     "duration": 0.011282,
     "end_time": "2022-07-06T03:24:00.925840",
     "exception": false,
     "start_time": "2022-07-06T03:24:00.914558",
     "status": "completed"
    },
    "tags": []
   },
   "outputs": [],
   "source": []
  }
 ],
 "metadata": {
  "kernelspec": {
   "display_name": "Python 3",
   "language": "python",
   "name": "python3"
  },
  "language_info": {
   "codemirror_mode": {
    "name": "ipython",
    "version": 3
   },
   "file_extension": ".py",
   "mimetype": "text/x-python",
   "name": "python",
   "nbconvert_exporter": "python",
   "pygments_lexer": "ipython3",
   "version": "3.6.15"
  },
  "papermill": {
   "default_parameters": {},
   "duration": 15.785867,
   "end_time": "2022-07-06T03:24:01.355268",
   "environment_variables": {},
   "exception": null,
   "input_path": "Market-News.ipynb",
   "output_path": "Market-News.ipynb",
   "parameters": {},
   "start_time": "2022-07-06T03:23:45.569401",
   "version": "2.2.2"
  }
 },
 "nbformat": 4,
 "nbformat_minor": 5
}