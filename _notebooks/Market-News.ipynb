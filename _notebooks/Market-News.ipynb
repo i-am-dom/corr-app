{
 "cells": [
  {
   "cell_type": "markdown",
   "id": "short-greensboro",
   "metadata": {
    "papermill": {
     "duration": 0.01384,
     "end_time": "2022-09-27T03:35:26.333437",
     "exception": false,
     "start_time": "2022-09-27T03:35:26.319597",
     "status": "completed"
    },
    "tags": []
   },
   "source": [
    "# Kriptovaliutų naujienos"
   ]
  },
  {
   "cell_type": "code",
   "execution_count": 1,
   "id": "functioning-knowing",
   "metadata": {
    "execution": {
     "iopub.execute_input": "2022-09-27T03:35:26.363544Z",
     "iopub.status.busy": "2022-09-27T03:35:26.362925Z",
     "iopub.status.idle": "2022-09-27T03:35:27.614616Z",
     "shell.execute_reply": "2022-09-27T03:35:27.614047Z"
    },
    "papermill": {
     "duration": 1.271619,
     "end_time": "2022-09-27T03:35:27.614776",
     "exception": false,
     "start_time": "2022-09-27T03:35:26.343157",
     "status": "completed"
    },
    "tags": []
   },
   "outputs": [],
   "source": [
    "#hide_input\n",
    "import warnings\n",
    "warnings.filterwarnings('ignore')\n",
    "from scripts.read_data import read_api\n",
    "from scripts.read_data import read_news\n",
    "from scripts.read_data import read_covid\n",
    "import matplotlib.pyplot as plt \n",
    "from IPython.display import Markdown as md"
   ]
  },
  {
   "cell_type": "code",
   "execution_count": 2,
   "id": "shared-acceptance",
   "metadata": {
    "execution": {
     "iopub.execute_input": "2022-09-27T03:35:27.640479Z",
     "iopub.status.busy": "2022-09-27T03:35:27.639495Z",
     "iopub.status.idle": "2022-09-27T03:35:36.935995Z",
     "shell.execute_reply": "2022-09-27T03:35:36.935077Z"
    },
    "papermill": {
     "duration": 9.312026,
     "end_time": "2022-09-27T03:35:36.936133",
     "exception": false,
     "start_time": "2022-09-27T03:35:27.624107",
     "status": "completed"
    },
    "tags": []
   },
   "outputs": [],
   "source": [
    "#hide_input\n",
    "blockchain = read_news('blockchain') \n",
    "btc = read_news('btc') \n",
    "xrp = read_news('xrp') \n",
    "trx = read_news('trx') \n",
    "eth = read_news('eth')  \n",
    "ada = read_news('ada')\n",
    "exchange = read_news('exchange') "
   ]
  },
  {
   "cell_type": "code",
   "execution_count": 3,
   "id": "synthetic-notion",
   "metadata": {
    "execution": {
     "iopub.execute_input": "2022-09-27T03:35:36.960959Z",
     "iopub.status.busy": "2022-09-27T03:35:36.960339Z",
     "iopub.status.idle": "2022-09-27T03:35:36.963650Z",
     "shell.execute_reply": "2022-09-27T03:35:36.963203Z"
    },
    "papermill": {
     "duration": 0.018275,
     "end_time": "2022-09-27T03:35:36.963766",
     "exception": false,
     "start_time": "2022-09-27T03:35:36.945491",
     "status": "completed"
    },
    "tags": []
   },
   "outputs": [
    {
     "data": {
      "text/markdown": [
       "- Japanese banking giant Nomura to become Fnality’s global bank consortium.  According to a Monday announcement, the Japanese financial giant Nomura has invested in the London-based blockchain payments company Fnality. The financial services company will also become a member of Fnality&#8217;s global bank consortium, which is working to develop a regulated peer-to-peer payments system based on digital assets. We are delighted to welcome @Nomura as a [&#8230;]The post Japanese banking giant Nomura to become Fnality&#8217;s global bank consortium appeared first on Blockchain, Crypto and Stock News. ... [| Skaityti daugiau](https://thecoinrise.com/japanese-banking-giant-nomura-to-become-fnalitys-global-bank-consortium/) "
      ],
      "text/plain": [
       "<IPython.core.display.Markdown object>"
      ]
     },
     "execution_count": 3,
     "metadata": {},
     "output_type": "execute_result"
    }
   ],
   "source": [
    "#hide_input\n",
    "#md('##### {}'.format(titleBTC)) \n",
    "md(\"- {}{} {}{} [| Skaityti daugiau]({}) \".format(blockchain['title'],'. ', blockchain['body'], ' ...', blockchain['url']))"
   ]
  },
  {
   "cell_type": "code",
   "execution_count": 4,
   "id": "aging-caution",
   "metadata": {
    "execution": {
     "iopub.execute_input": "2022-09-27T03:35:36.987968Z",
     "iopub.status.busy": "2022-09-27T03:35:36.987296Z",
     "iopub.status.idle": "2022-09-27T03:35:36.990631Z",
     "shell.execute_reply": "2022-09-27T03:35:36.990128Z"
    },
    "papermill": {
     "duration": 0.017664,
     "end_time": "2022-09-27T03:35:36.990746",
     "exception": false,
     "start_time": "2022-09-27T03:35:36.973082",
     "status": "completed"
    },
    "tags": []
   },
   "outputs": [
    {
     "data": {
      "text/markdown": [
       "- Bitcoin Price and Ethereum Gain Strength, LUNC and LUNA Rally.  Bitcoin price started a steady increase above the $19,500 resistance. BTC is currently (03:10 UTC) showing bullish signs above $19,500. If the bulls remain in action, the price could surge towards the $20,500 level. Similarly, most major altcoins are eyeing a decent increase. ETH is showing positive signs above the $1,350 resistance. XRP is correcting gains and might revisit the $0.45 support. ADA is attempting a decent increase above $0.45....Read More: Bitcoin Price and Ethereum Gain Strength, LUNC and LUNA Rally ... [| Skaityti daugiau](https://cryptonews.com/news/bitcoin-price-ethereum-gain-strength-lunc-luna-rally.htm) "
      ],
      "text/plain": [
       "<IPython.core.display.Markdown object>"
      ]
     },
     "execution_count": 4,
     "metadata": {},
     "output_type": "execute_result"
    }
   ],
   "source": [
    "#hide_input\n",
    "#md('##### {}'.format(titleBTC)) \n",
    "md(\"- {}{} {}{} [| Skaityti daugiau]({}) \".format(btc['title'],'. ', btc['body'], ' ...', btc['url']))"
   ]
  },
  {
   "cell_type": "code",
   "execution_count": 5,
   "id": "organic-actress",
   "metadata": {
    "execution": {
     "iopub.execute_input": "2022-09-27T03:35:37.016230Z",
     "iopub.status.busy": "2022-09-27T03:35:37.015556Z",
     "iopub.status.idle": "2022-09-27T03:35:37.018273Z",
     "shell.execute_reply": "2022-09-27T03:35:37.018929Z"
    },
    "papermill": {
     "duration": 0.018664,
     "end_time": "2022-09-27T03:35:37.019061",
     "exception": false,
     "start_time": "2022-09-27T03:35:37.000397",
     "status": "completed"
    },
    "tags": []
   },
   "outputs": [
    {
     "data": {
      "text/markdown": [
       "- XRP Price Stumbles Near $0.47, What’s Next With Selling Pressure Building?.  The XRP price has depreciated considerably over the last 24 hours. The price of the altcoin continues to totter near the $0.47 price mark. The bears seem to be back on the charts for XRP. Over the last 24 hours, the XRP price fell by 4.12%. On the other hand, the coin has rallied by over 30% in the past week. The technical indicators of the altcoin also started to paint bearish price action on the one-day chart. The bulls have lost steam in the past week owing to an increase in selling strength in the market. The indicators have yet to move into the excess selling zone, but the major technical outlook indicated that the buyers were leaving the market. This could be termed a price pullback for XRP after the positive investor interest over the last week that caused the rally. The global cryptocurrency market cap today is $971 billion, with a 0.8% negative change in the last 24 hours. XRP Price Action: One Day Chart The altcoin had secured a rally in the last week when it surged to touch the $0.54 mark. The XRP price was trading within an ascending trendline from which it broke away due to a decline in buying strength. The resistance mark for the coin stood at $0.48, a move above which XRP could falter near the $0.51 price level. The support zone for the coin rested at $0.42. A fall from the aforementioned support line will drag XRP to $0.38. The amount of XRP traded in the last session was in red, signifying that buying strength... ... [| Skaityti daugiau](https://www.newsbtc.com/news/xrp-price-stumbles-near-0-47-whats-next-with-selling-pressure-building/) "
      ],
      "text/plain": [
       "<IPython.core.display.Markdown object>"
      ]
     },
     "execution_count": 5,
     "metadata": {},
     "output_type": "execute_result"
    }
   ],
   "source": [
    "#hide_input\n",
    "#md('##### {}'.format(titleBTC)) \n",
    "md(\"- {}{} {}{} [| Skaityti daugiau]({}) \".format(xrp['title'],'. ', xrp['body'], ' ...', xrp['url']))"
   ]
  },
  {
   "cell_type": "code",
   "execution_count": 6,
   "id": "prompt-farmer",
   "metadata": {
    "execution": {
     "iopub.execute_input": "2022-09-27T03:35:37.044932Z",
     "iopub.status.busy": "2022-09-27T03:35:37.044251Z",
     "iopub.status.idle": "2022-09-27T03:35:37.047743Z",
     "shell.execute_reply": "2022-09-27T03:35:37.047206Z"
    },
    "papermill": {
     "duration": 0.018829,
     "end_time": "2022-09-27T03:35:37.047870",
     "exception": false,
     "start_time": "2022-09-27T03:35:37.029041",
     "status": "completed"
    },
    "tags": []
   },
   "outputs": [
    {
     "data": {
      "text/markdown": [
       "- TRON Showing Hints Of A Major Rebound After A Week Of Rout.  Tron (TRX) holders have been on rough terrain since August with the bears dominating the market. The tables might be turning though in favor of the bulls as shown on the charts. TRX bulls hint at a comeback after a long period of takeover by the bears TRX price down by 0.87% RSI divergence hints at increased investor optimism According to CoinMarketCap, TRX&#8217;s price has plunged by 0.87% or trading at $0.0596 as of this writing. Apparently, Tron is trying to bounce back from its weekly low that registered at $0.056. It seems that the token is still traversing in the same range which validates a strong rebound from that level. Related Reading: Algorand: ALGO Price All Go With Nearly 30% Rally In Last 7 Days TRON Market Demand Waning? Hence, there is evidently poor demand for TRX in the market which is normal whenever crypto tries to switch lanes from bearish to bullish. Whale activity looks to be insufficient at this point and not gaining enough traction. Regardless, the supply of TRX has increased for the whales. There is hope as investor optimism ought to be amplified with the recent developments happening for Tron. Tron’s weighted sentiment index has shown no significant changes in the market. TRX is still stuck in its lower monthly range which explains the failed uptrend happening over the weekend. On the other hand, there are a couple of signals that promise the possibility of the bulls pivoting in the coming days. TRX... ... [| Skaityti daugiau](https://www.newsbtc.com/news/tron-showing-hints-of-a-major-rebound/) "
      ],
      "text/plain": [
       "<IPython.core.display.Markdown object>"
      ]
     },
     "execution_count": 6,
     "metadata": {},
     "output_type": "execute_result"
    }
   ],
   "source": [
    "#hide_input\n",
    "#md('##### {}'.format(titleBTC)) \n",
    "md(\"- {}{} {}{} [| Skaityti daugiau]({}) \".format(trx['title'],'. ', trx['body'], ' ...', trx['url']))"
   ]
  },
  {
   "cell_type": "code",
   "execution_count": 7,
   "id": "illegal-greece",
   "metadata": {
    "execution": {
     "iopub.execute_input": "2022-09-27T03:35:37.074430Z",
     "iopub.status.busy": "2022-09-27T03:35:37.073765Z",
     "iopub.status.idle": "2022-09-27T03:35:37.077243Z",
     "shell.execute_reply": "2022-09-27T03:35:37.076700Z"
    },
    "papermill": {
     "duration": 0.018901,
     "end_time": "2022-09-27T03:35:37.077369",
     "exception": false,
     "start_time": "2022-09-27T03:35:37.058468",
     "status": "completed"
    },
    "tags": []
   },
   "outputs": [
    {
     "data": {
      "text/markdown": [
       "- Assessing Optimism’s performance before and after ‘Optimism Quests’.  For improved accessibility of its scaling solutions, Optimism on 20 September launched the “Optimism Quests.” Put simply, the initiative is to reward Optimism users with NFTs when they learn about popular applications deployed on the Layer 2 scaling solution and complete the quizzes and tasks that follow. A day after the launch of Optimism Quests, [&#8230;] ... [| Skaityti daugiau](https://ambcrypto.com/assessing-optimisms-performance-before-and-after-optimism-quests/) "
      ],
      "text/plain": [
       "<IPython.core.display.Markdown object>"
      ]
     },
     "execution_count": 7,
     "metadata": {},
     "output_type": "execute_result"
    }
   ],
   "source": [
    "#hide_input\n",
    "#md('##### {}'.format(titleBTC)) \n",
    "md(\"- {}{} {}{} [| Skaityti daugiau]({}) \".format(eth['title'],'. ', eth['body'], ' ...', eth['url']))"
   ]
  },
  {
   "cell_type": "code",
   "execution_count": 8,
   "id": "sublime-lounge",
   "metadata": {
    "execution": {
     "iopub.execute_input": "2022-09-27T03:35:37.103256Z",
     "iopub.status.busy": "2022-09-27T03:35:37.102666Z",
     "iopub.status.idle": "2022-09-27T03:35:37.108892Z",
     "shell.execute_reply": "2022-09-27T03:35:37.109316Z"
    },
    "papermill": {
     "duration": 0.019766,
     "end_time": "2022-09-27T03:35:37.109451",
     "exception": false,
     "start_time": "2022-09-27T03:35:37.089685",
     "status": "completed"
    },
    "tags": []
   },
   "outputs": [
    {
     "data": {
      "text/markdown": [
       "- Bitcoin Price and Ethereum Gain Strength, LUNC and LUNA Rally.  Bitcoin price started a steady increase above the $19,500 resistance. BTC is currently (03:10 UTC) showing bullish signs above $19,500. If the bulls remain in action, the price could surge towards the $20,500 level. Similarly, most major altcoins are eyeing a decent increase. ETH is showing positive signs above the $1,350 resistance. XRP is correcting gains and might revisit the $0.45 support. ADA is attempting a decent increase above $0.45....Read More: Bitcoin Price and Ethereum Gain Strength, LUNC and LUNA Rally ... [| Skaityti daugiau](https://cryptonews.com/news/bitcoin-price-ethereum-gain-strength-lunc-luna-rally.htm) "
      ],
      "text/plain": [
       "<IPython.core.display.Markdown object>"
      ]
     },
     "execution_count": 8,
     "metadata": {},
     "output_type": "execute_result"
    }
   ],
   "source": [
    "#hide_input\n",
    "#md('##### {}'.format(titleBTC)) \n",
    "md(\"- {}{} {}{} [| Skaityti daugiau]({}) \".format(ada['title'],'. ', ada['body'], ' ...', ada['url']))"
   ]
  },
  {
   "cell_type": "code",
   "execution_count": 9,
   "id": "specified-ordering",
   "metadata": {
    "execution": {
     "iopub.execute_input": "2022-09-27T03:35:37.135682Z",
     "iopub.status.busy": "2022-09-27T03:35:37.135099Z",
     "iopub.status.idle": "2022-09-27T03:35:37.140790Z",
     "shell.execute_reply": "2022-09-27T03:35:37.140321Z"
    },
    "papermill": {
     "duration": 0.020516,
     "end_time": "2022-09-27T03:35:37.140897",
     "exception": false,
     "start_time": "2022-09-27T03:35:37.120381",
     "status": "completed"
    },
    "tags": []
   },
   "outputs": [
    {
     "data": {
      "text/markdown": [
       "- FTX Trumps Binance to Win Voyager Digital Assets.  As per the latest development, crypto exchange FTX U.S. has finally outbid other players to win the assets of bankrupt crypto lender Voyager Digital. FTX was in a tough race with crypto exchange Binance as the latter was leading last week. According to the statement from Voyager Digital on Monday, September 26, the agreement has The post FTX Trumps Binance to Win Voyager Digital Assets appeared first on CoinGape. ... [| Skaityti daugiau](https://coingape.com/ftx-trumps-binance-to-win-voyager-digital-assets/) "
      ],
      "text/plain": [
       "<IPython.core.display.Markdown object>"
      ]
     },
     "execution_count": 9,
     "metadata": {},
     "output_type": "execute_result"
    }
   ],
   "source": [
    "#hide_input\n",
    "#md('##### {}'.format(titleBTC)) \n",
    "md(\"- {}{} {}{} [| Skaityti daugiau]({}) \".format(exchange['title'],'. ', exchange['body'], ' ...', exchange['url']))"
   ]
  },
  {
   "cell_type": "code",
   "execution_count": null,
   "id": "tender-livestock",
   "metadata": {
    "papermill": {
     "duration": 0.011258,
     "end_time": "2022-09-27T03:35:37.163357",
     "exception": false,
     "start_time": "2022-09-27T03:35:37.152099",
     "status": "completed"
    },
    "tags": []
   },
   "outputs": [],
   "source": []
  },
  {
   "cell_type": "code",
   "execution_count": null,
   "id": "appreciated-diamond",
   "metadata": {
    "papermill": {
     "duration": 0.011127,
     "end_time": "2022-09-27T03:35:37.185831",
     "exception": false,
     "start_time": "2022-09-27T03:35:37.174704",
     "status": "completed"
    },
    "tags": []
   },
   "outputs": [],
   "source": []
  },
  {
   "cell_type": "code",
   "execution_count": null,
   "id": "romance-sweden",
   "metadata": {
    "papermill": {
     "duration": 0.011119,
     "end_time": "2022-09-27T03:35:37.208121",
     "exception": false,
     "start_time": "2022-09-27T03:35:37.197002",
     "status": "completed"
    },
    "tags": []
   },
   "outputs": [],
   "source": []
  },
  {
   "cell_type": "code",
   "execution_count": null,
   "id": "dietary-statistics",
   "metadata": {
    "papermill": {
     "duration": 0.011145,
     "end_time": "2022-09-27T03:35:37.230528",
     "exception": false,
     "start_time": "2022-09-27T03:35:37.219383",
     "status": "completed"
    },
    "tags": []
   },
   "outputs": [],
   "source": []
  }
 ],
 "metadata": {
  "kernelspec": {
   "display_name": "Python 3",
   "language": "python",
   "name": "python3"
  },
  "language_info": {
   "codemirror_mode": {
    "name": "ipython",
    "version": 3
   },
   "file_extension": ".py",
   "mimetype": "text/x-python",
   "name": "python",
   "nbconvert_exporter": "python",
   "pygments_lexer": "ipython3",
   "version": "3.6.15"
  },
  "papermill": {
   "default_parameters": {},
   "duration": 12.37786,
   "end_time": "2022-09-27T03:35:37.761577",
   "environment_variables": {},
   "exception": null,
   "input_path": "Market-News.ipynb",
   "output_path": "Market-News.ipynb",
   "parameters": {},
   "start_time": "2022-09-27T03:35:25.383717",
   "version": "2.2.2"
  }
 },
 "nbformat": 4,
 "nbformat_minor": 5
}