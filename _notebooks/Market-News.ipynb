{
 "cells": [
  {
   "cell_type": "markdown",
   "id": "short-greensboro",
   "metadata": {
    "papermill": {
     "duration": 0.015478,
     "end_time": "2022-03-21T02:30:53.110183",
     "exception": false,
     "start_time": "2022-03-21T02:30:53.094705",
     "status": "completed"
    },
    "tags": []
   },
   "source": [
    "# Kriptovaliutų naujienos"
   ]
  },
  {
   "cell_type": "code",
   "execution_count": 1,
   "id": "functioning-knowing",
   "metadata": {
    "execution": {
     "iopub.execute_input": "2022-03-21T02:30:53.145378Z",
     "iopub.status.busy": "2022-03-21T02:30:53.144690Z",
     "iopub.status.idle": "2022-03-21T02:30:54.649607Z",
     "shell.execute_reply": "2022-03-21T02:30:54.650160Z"
    },
    "papermill": {
     "duration": 1.528207,
     "end_time": "2022-03-21T02:30:54.650389",
     "exception": false,
     "start_time": "2022-03-21T02:30:53.122182",
     "status": "completed"
    },
    "tags": []
   },
   "outputs": [],
   "source": [
    "#hide_input\n",
    "import warnings\n",
    "warnings.filterwarnings('ignore')\n",
    "from scripts.read_data import read_api\n",
    "from scripts.read_data import read_news\n",
    "from scripts.read_data import read_covid\n",
    "import matplotlib.pyplot as plt \n",
    "from IPython.display import Markdown as md"
   ]
  },
  {
   "cell_type": "code",
   "execution_count": 2,
   "id": "shared-acceptance",
   "metadata": {
    "execution": {
     "iopub.execute_input": "2022-03-21T02:30:54.678201Z",
     "iopub.status.busy": "2022-03-21T02:30:54.677107Z",
     "iopub.status.idle": "2022-03-21T02:31:05.368113Z",
     "shell.execute_reply": "2022-03-21T02:31:05.367519Z"
    },
    "papermill": {
     "duration": 10.707377,
     "end_time": "2022-03-21T02:31:05.368291",
     "exception": false,
     "start_time": "2022-03-21T02:30:54.660914",
     "status": "completed"
    },
    "tags": []
   },
   "outputs": [],
   "source": [
    "#hide_input\n",
    "blockchain = read_news('blockchain') \n",
    "btc = read_news('btc') \n",
    "xrp = read_news('xrp') \n",
    "trx = read_news('trx') \n",
    "eth = read_news('eth')  \n",
    "ada = read_news('ada')\n",
    "exchange = read_news('exchange') "
   ]
  },
  {
   "cell_type": "code",
   "execution_count": 3,
   "id": "synthetic-notion",
   "metadata": {
    "execution": {
     "iopub.execute_input": "2022-03-21T02:31:05.399048Z",
     "iopub.status.busy": "2022-03-21T02:31:05.398351Z",
     "iopub.status.idle": "2022-03-21T02:31:05.402002Z",
     "shell.execute_reply": "2022-03-21T02:31:05.401455Z"
    },
    "papermill": {
     "duration": 0.021727,
     "end_time": "2022-03-21T02:31:05.402143",
     "exception": false,
     "start_time": "2022-03-21T02:31:05.380416",
     "status": "completed"
    },
    "tags": []
   },
   "outputs": [
    {
     "data": {
      "text/markdown": [
       "- Ethereum Classic: Here’s what’s next after ETC’s 31% rally.  This week has seen the most unexpected cryptos rallying on the charts, including the likes of ApeCoin, Origin Protocol, and now Ethereum Classic. For ETC, this has been the first and most significant, consistent hike since June 2021. In fact, the effect of May&#8217;s crash was so immense that the altcoin failed to recover its [&#8230;] ... [| Skaityti daugiau](https://ambcrypto.com/ethereum-classic-heres-whats-next-after-etcs-31-rally/) "
      ],
      "text/plain": [
       "<IPython.core.display.Markdown object>"
      ]
     },
     "execution_count": 3,
     "metadata": {},
     "output_type": "execute_result"
    }
   ],
   "source": [
    "#hide_input\n",
    "#md('##### {}'.format(titleBTC)) \n",
    "md(\"- {}{} {}{} [| Skaityti daugiau]({}) \".format(blockchain['title'],'. ', blockchain['body'], ' ...', blockchain['url']))"
   ]
  },
  {
   "cell_type": "code",
   "execution_count": 4,
   "id": "aging-caution",
   "metadata": {
    "execution": {
     "iopub.execute_input": "2022-03-21T02:31:05.435043Z",
     "iopub.status.busy": "2022-03-21T02:31:05.434370Z",
     "iopub.status.idle": "2022-03-21T02:31:05.437542Z",
     "shell.execute_reply": "2022-03-21T02:31:05.438105Z"
    },
    "papermill": {
     "duration": 0.020826,
     "end_time": "2022-03-21T02:31:05.438270",
     "exception": false,
     "start_time": "2022-03-21T02:31:05.417444",
     "status": "completed"
    },
    "tags": []
   },
   "outputs": [
    {
     "data": {
      "text/markdown": [
       "- Altcoins To Breakout Soon! Ethereum (ETH) & Solana (SOL) Heading Towards This Level !.  The post Altcoins To Breakout Soon! Ethereum (ETH) &#038; Solana (SOL) Heading Towards This Level ! appeared first on Coinpedia - Fintech &amp; Cryptocurreny News Media| Crypto GuideBitcoin went on the offensive yesterday, hitting $42,000, a near 10-day high, after dropping to $40,000 the day before. Today&#8217;s altcoins have also turned green, with Ethereum aiming for $3,000 and Avalanche surging by more than 9%. While updating his forecast on top cryptos Bitcoin (BTC) and Ethereum (ETH), a leading crypto expert claims that &#8230; ... [| Skaityti daugiau](https://coinpedia.org/altcoin/altcoins-to-breakout-soon-ethereum-eth-solana-sol-heading-towards-this-level/) "
      ],
      "text/plain": [
       "<IPython.core.display.Markdown object>"
      ]
     },
     "execution_count": 4,
     "metadata": {},
     "output_type": "execute_result"
    }
   ],
   "source": [
    "#hide_input\n",
    "#md('##### {}'.format(titleBTC)) \n",
    "md(\"- {}{} {}{} [| Skaityti daugiau]({}) \".format(btc['title'],'. ', btc['body'], ' ...', btc['url']))"
   ]
  },
  {
   "cell_type": "code",
   "execution_count": 5,
   "id": "organic-actress",
   "metadata": {
    "execution": {
     "iopub.execute_input": "2022-03-21T02:31:05.466583Z",
     "iopub.status.busy": "2022-03-21T02:31:05.465267Z",
     "iopub.status.idle": "2022-03-21T02:31:05.470061Z",
     "shell.execute_reply": "2022-03-21T02:31:05.469580Z"
    },
    "papermill": {
     "duration": 0.020012,
     "end_time": "2022-03-21T02:31:05.470176",
     "exception": false,
     "start_time": "2022-03-21T02:31:05.450164",
     "status": "completed"
    },
    "tags": []
   },
   "outputs": [
    {
     "data": {
      "text/markdown": [
       "- Arab Monetary Fund Names RippleNet As Potential Alternative to Central Bank Digital Currencies.  The Arab Monetary Fund (AMF), a sub-organization of the Arab League, has named global payments network RippleNet as a possible alternative to central bank digital currencies (CBDCs). In a new report, the AMF&#8217;s Arab Regional Fintech Working Group says there is considerable risk for a nation to issue a CBDC, including the possibility that local [&#8230;]The post Arab Monetary Fund Names RippleNet As Potential Alternative to Central Bank Digital Currencies appeared first on The Daily Hodl. ... [| Skaityti daugiau](https://dailyhodl.com/2022/03/20/arab-monetary-fund-names-ripplenet-as-potential-alternative-to-central-bank-digital-currencies/) "
      ],
      "text/plain": [
       "<IPython.core.display.Markdown object>"
      ]
     },
     "execution_count": 5,
     "metadata": {},
     "output_type": "execute_result"
    }
   ],
   "source": [
    "#hide_input\n",
    "#md('##### {}'.format(titleBTC)) \n",
    "md(\"- {}{} {}{} [| Skaityti daugiau]({}) \".format(xrp['title'],'. ', xrp['body'], ' ...', xrp['url']))"
   ]
  },
  {
   "cell_type": "code",
   "execution_count": 6,
   "id": "prompt-farmer",
   "metadata": {
    "execution": {
     "iopub.execute_input": "2022-03-21T02:31:05.497211Z",
     "iopub.status.busy": "2022-03-21T02:31:05.496103Z",
     "iopub.status.idle": "2022-03-21T02:31:05.500152Z",
     "shell.execute_reply": "2022-03-21T02:31:05.500754Z"
    },
    "papermill": {
     "duration": 0.018993,
     "end_time": "2022-03-21T02:31:05.500889",
     "exception": false,
     "start_time": "2022-03-21T02:31:05.481896",
     "status": "completed"
    },
    "tags": []
   },
   "outputs": [
    {
     "data": {
      "text/markdown": [
       "- What SEC v. Ripple has in common with the allegations against Sun, TRON.  If TRON DAO &#8211; née TRON &#8211; wasn&#8217;t enough of a conversation starter, an investigative piece by journalist Chris Harland-Dunaway published in The Verge dropped a bomb. It accused Tron founder Justin Sun of actions ranging from getting ICO ban tip-offs to insider trading. In a conversation with journalist Laura Shin, Harland-Dunaway revealed more details [&#8230;] ... [| Skaityti daugiau](https://ambcrypto.com/what-sec-v-ripple-has-in-common-with-the-allegations-against-sun-tron/) "
      ],
      "text/plain": [
       "<IPython.core.display.Markdown object>"
      ]
     },
     "execution_count": 6,
     "metadata": {},
     "output_type": "execute_result"
    }
   ],
   "source": [
    "#hide_input\n",
    "#md('##### {}'.format(titleBTC)) \n",
    "md(\"- {}{} {}{} [| Skaityti daugiau]({}) \".format(trx['title'],'. ', trx['body'], ' ...', trx['url']))"
   ]
  },
  {
   "cell_type": "code",
   "execution_count": 7,
   "id": "illegal-greece",
   "metadata": {
    "execution": {
     "iopub.execute_input": "2022-03-21T02:31:05.528629Z",
     "iopub.status.busy": "2022-03-21T02:31:05.528021Z",
     "iopub.status.idle": "2022-03-21T02:31:05.531157Z",
     "shell.execute_reply": "2022-03-21T02:31:05.532192Z"
    },
    "papermill": {
     "duration": 0.019731,
     "end_time": "2022-03-21T02:31:05.532361",
     "exception": false,
     "start_time": "2022-03-21T02:31:05.512630",
     "status": "completed"
    },
    "tags": []
   },
   "outputs": [
    {
     "data": {
      "text/markdown": [
       "- Altcoins To Breakout Soon! Ethereum (ETH) & Solana (SOL) Heading Towards This Level !.  The post Altcoins To Breakout Soon! Ethereum (ETH) &#038; Solana (SOL) Heading Towards This Level ! appeared first on Coinpedia - Fintech &amp; Cryptocurreny News Media| Crypto GuideBitcoin went on the offensive yesterday, hitting $42,000, a near 10-day high, after dropping to $40,000 the day before. Today&#8217;s altcoins have also turned green, with Ethereum aiming for $3,000 and Avalanche surging by more than 9%. While updating his forecast on top cryptos Bitcoin (BTC) and Ethereum (ETH), a leading crypto expert claims that &#8230; ... [| Skaityti daugiau](https://coinpedia.org/altcoin/altcoins-to-breakout-soon-ethereum-eth-solana-sol-heading-towards-this-level/) "
      ],
      "text/plain": [
       "<IPython.core.display.Markdown object>"
      ]
     },
     "execution_count": 7,
     "metadata": {},
     "output_type": "execute_result"
    }
   ],
   "source": [
    "#hide_input\n",
    "#md('##### {}'.format(titleBTC)) \n",
    "md(\"- {}{} {}{} [| Skaityti daugiau]({}) \".format(eth['title'],'. ', eth['body'], ' ...', eth['url']))"
   ]
  },
  {
   "cell_type": "code",
   "execution_count": 8,
   "id": "sublime-lounge",
   "metadata": {
    "execution": {
     "iopub.execute_input": "2022-03-21T02:31:05.560895Z",
     "iopub.status.busy": "2022-03-21T02:31:05.560205Z",
     "iopub.status.idle": "2022-03-21T02:31:05.564128Z",
     "shell.execute_reply": "2022-03-21T02:31:05.563476Z"
    },
    "papermill": {
     "duration": 0.020044,
     "end_time": "2022-03-21T02:31:05.564254",
     "exception": false,
     "start_time": "2022-03-21T02:31:05.544210",
     "status": "completed"
    },
    "tags": []
   },
   "outputs": [
    {
     "data": {
      "text/markdown": [
       "- Value Locked in Defi Climbs Back Above $200 Billion, ETH Dominates Defi TVL by 54%.  As the crypto economy nears the $2 trillion mark, the total value locked (TVL) in decentralized finance (defi) has risen above the $200 billion zone after slipping below that range for most of the year. While the TVL in defi dropped 0.51% during the last 24 hours, statistics show the TVL today is hovering around [&#8230;] ... [| Skaityti daugiau](https://news.bitcoin.com/value-locked-in-defi-climbs-back-above-200-billion-eth-dominates-defi-tvl-by-54/) "
      ],
      "text/plain": [
       "<IPython.core.display.Markdown object>"
      ]
     },
     "execution_count": 8,
     "metadata": {},
     "output_type": "execute_result"
    }
   ],
   "source": [
    "#hide_input\n",
    "#md('##### {}'.format(titleBTC)) \n",
    "md(\"- {}{} {}{} [| Skaityti daugiau]({}) \".format(ada['title'],'. ', ada['body'], ' ...', ada['url']))"
   ]
  },
  {
   "cell_type": "code",
   "execution_count": 9,
   "id": "specified-ordering",
   "metadata": {
    "execution": {
     "iopub.execute_input": "2022-03-21T02:31:05.595682Z",
     "iopub.status.busy": "2022-03-21T02:31:05.594788Z",
     "iopub.status.idle": "2022-03-21T02:31:05.598778Z",
     "shell.execute_reply": "2022-03-21T02:31:05.599432Z"
    },
    "papermill": {
     "duration": 0.021801,
     "end_time": "2022-03-21T02:31:05.599576",
     "exception": false,
     "start_time": "2022-03-21T02:31:05.577775",
     "status": "completed"
    },
    "tags": []
   },
   "outputs": [
    {
     "data": {
      "text/markdown": [
       "- Coinbase Wallet Adds Support for Solana ($SOL) Ecosystem.  Crypto exchange Coinbase has announced support for the Solana ecosystem on Coinbase Wallet’s desktop extension. According to the Coinbase’s blog post, “users can now manage their Solana (SOL) and Solana tokens (SPL) alongside their tokens held on all of Coinbase Wallet extension’s supported networks, including Ethereum, Avalanche, Polygon, BNB Chain, and many more,” which “allows […] ... [| Skaityti daugiau](https://www.cryptoglobe.com/latest/2022/03/coinbase-wallet-adds-support-for-solana-sol-ecosystem/) "
      ],
      "text/plain": [
       "<IPython.core.display.Markdown object>"
      ]
     },
     "execution_count": 9,
     "metadata": {},
     "output_type": "execute_result"
    }
   ],
   "source": [
    "#hide_input\n",
    "#md('##### {}'.format(titleBTC)) \n",
    "md(\"- {}{} {}{} [| Skaityti daugiau]({}) \".format(exchange['title'],'. ', exchange['body'], ' ...', exchange['url']))"
   ]
  },
  {
   "cell_type": "code",
   "execution_count": null,
   "id": "tender-livestock",
   "metadata": {
    "papermill": {
     "duration": 0.013393,
     "end_time": "2022-03-21T02:31:05.627491",
     "exception": false,
     "start_time": "2022-03-21T02:31:05.614098",
     "status": "completed"
    },
    "tags": []
   },
   "outputs": [],
   "source": []
  },
  {
   "cell_type": "code",
   "execution_count": null,
   "id": "appreciated-diamond",
   "metadata": {
    "papermill": {
     "duration": 0.012558,
     "end_time": "2022-03-21T02:31:05.653447",
     "exception": false,
     "start_time": "2022-03-21T02:31:05.640889",
     "status": "completed"
    },
    "tags": []
   },
   "outputs": [],
   "source": []
  },
  {
   "cell_type": "code",
   "execution_count": null,
   "id": "romance-sweden",
   "metadata": {
    "papermill": {
     "duration": 0.013259,
     "end_time": "2022-03-21T02:31:05.680262",
     "exception": false,
     "start_time": "2022-03-21T02:31:05.667003",
     "status": "completed"
    },
    "tags": []
   },
   "outputs": [],
   "source": []
  },
  {
   "cell_type": "code",
   "execution_count": null,
   "id": "dietary-statistics",
   "metadata": {
    "papermill": {
     "duration": 0.012607,
     "end_time": "2022-03-21T02:31:05.705217",
     "exception": false,
     "start_time": "2022-03-21T02:31:05.692610",
     "status": "completed"
    },
    "tags": []
   },
   "outputs": [],
   "source": []
  }
 ],
 "metadata": {
  "kernelspec": {
   "display_name": "Python 3",
   "language": "python",
   "name": "python3"
  },
  "language_info": {
   "codemirror_mode": {
    "name": "ipython",
    "version": 3
   },
   "file_extension": ".py",
   "mimetype": "text/x-python",
   "name": "python",
   "nbconvert_exporter": "python",
   "pygments_lexer": "ipython3",
   "version": "3.6.15"
  },
  "papermill": {
   "default_parameters": {},
   "duration": 14.42858,
   "end_time": "2022-03-21T02:31:06.236579",
   "environment_variables": {},
   "exception": null,
   "input_path": "Market-News.ipynb",
   "output_path": "Market-News.ipynb",
   "parameters": {},
   "start_time": "2022-03-21T02:30:51.807999",
   "version": "2.2.2"
  }
 },
 "nbformat": 4,
 "nbformat_minor": 5
}