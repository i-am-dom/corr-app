{
 "cells": [
  {
   "cell_type": "markdown",
   "id": "short-greensboro",
   "metadata": {
    "papermill": {
     "duration": 0.011431,
     "end_time": "2022-02-04T01:49:52.867029",
     "exception": false,
     "start_time": "2022-02-04T01:49:52.855598",
     "status": "completed"
    },
    "tags": []
   },
   "source": [
    "# Kriptovaliutų naujienos"
   ]
  },
  {
   "cell_type": "code",
   "execution_count": 1,
   "id": "functioning-knowing",
   "metadata": {
    "execution": {
     "iopub.execute_input": "2022-02-04T01:49:52.894373Z",
     "iopub.status.busy": "2022-02-04T01:49:52.893825Z",
     "iopub.status.idle": "2022-02-04T01:49:54.200073Z",
     "shell.execute_reply": "2022-02-04T01:49:54.200570Z"
    },
    "papermill": {
     "duration": 1.325037,
     "end_time": "2022-02-04T01:49:54.200770",
     "exception": false,
     "start_time": "2022-02-04T01:49:52.875733",
     "status": "completed"
    },
    "tags": []
   },
   "outputs": [],
   "source": [
    "#hide_input\n",
    "import warnings\n",
    "warnings.filterwarnings('ignore')\n",
    "from scripts.read_data import read_api\n",
    "from scripts.read_data import read_news\n",
    "from scripts.read_data import read_covid\n",
    "import matplotlib.pyplot as plt \n",
    "from IPython.display import Markdown as md"
   ]
  },
  {
   "cell_type": "code",
   "execution_count": 2,
   "id": "shared-acceptance",
   "metadata": {
    "execution": {
     "iopub.execute_input": "2022-02-04T01:49:54.223865Z",
     "iopub.status.busy": "2022-02-04T01:49:54.223396Z",
     "iopub.status.idle": "2022-02-04T01:50:04.607682Z",
     "shell.execute_reply": "2022-02-04T01:50:04.608071Z"
    },
    "papermill": {
     "duration": 10.398296,
     "end_time": "2022-02-04T01:50:04.608215",
     "exception": false,
     "start_time": "2022-02-04T01:49:54.209919",
     "status": "completed"
    },
    "tags": []
   },
   "outputs": [],
   "source": [
    "#hide_input\n",
    "blockchain = read_news('blockchain') \n",
    "btc = read_news('btc') \n",
    "xrp = read_news('xrp') \n",
    "trx = read_news('trx') \n",
    "eth = read_news('eth')  \n",
    "ada = read_news('ada')\n",
    "exchange = read_news('exchange') "
   ]
  },
  {
   "cell_type": "code",
   "execution_count": 3,
   "id": "synthetic-notion",
   "metadata": {
    "execution": {
     "iopub.execute_input": "2022-02-04T01:50:04.631664Z",
     "iopub.status.busy": "2022-02-04T01:50:04.631199Z",
     "iopub.status.idle": "2022-02-04T01:50:04.633966Z",
     "shell.execute_reply": "2022-02-04T01:50:04.633549Z"
    },
    "papermill": {
     "duration": 0.017249,
     "end_time": "2022-02-04T01:50:04.634072",
     "exception": false,
     "start_time": "2022-02-04T01:50:04.616823",
     "status": "completed"
    },
    "tags": []
   },
   "outputs": [
    {
     "data": {
      "text/markdown": [
       "- Blockchain-Based Firm Millicent Received UK Government Funding.  Millicent said it became the first company focusing on CBDCs and stablecoins to receive funding from the UK government. ... [| Skaityti daugiau](https://cryptopotato.com/blockchain-based-firm-millicent-received-uk-government-funding/) "
      ],
      "text/plain": [
       "<IPython.core.display.Markdown object>"
      ]
     },
     "execution_count": 3,
     "metadata": {},
     "output_type": "execute_result"
    }
   ],
   "source": [
    "#hide_input\n",
    "#md('##### {}'.format(titleBTC)) \n",
    "md(\"- {}{} {}{} [| Skaityti daugiau]({}) \".format(blockchain['title'],'. ', blockchain['body'], ' ...', blockchain['url']))"
   ]
  },
  {
   "cell_type": "code",
   "execution_count": 4,
   "id": "aging-caution",
   "metadata": {
    "execution": {
     "iopub.execute_input": "2022-02-04T01:50:04.655939Z",
     "iopub.status.busy": "2022-02-04T01:50:04.655466Z",
     "iopub.status.idle": "2022-02-04T01:50:04.658321Z",
     "shell.execute_reply": "2022-02-04T01:50:04.657949Z"
    },
    "papermill": {
     "duration": 0.016066,
     "end_time": "2022-02-04T01:50:04.658472",
     "exception": false,
     "start_time": "2022-02-04T01:50:04.642406",
     "status": "completed"
    },
    "tags": []
   },
   "outputs": [
    {
     "data": {
      "text/markdown": [
       "- Texas Crypto Miners To Close Operations On Upcoming Winter Storm.  Major Texas crypto miners adopt a proactive approach and close down 99% of their mining operations to fear an expected Arctic blast. A massive winter storm with heavy snow, rains, and flash flooding with thundered storms can damage the power grids of state areas. The crypto miners enjoy low-cost power energy in the state, reducing [&#8230;] ... [| Skaityti daugiau](https://bitcoinist.com/texas-crypto-miners-to-close-operations-on-upcoming-winter-storm/) "
      ],
      "text/plain": [
       "<IPython.core.display.Markdown object>"
      ]
     },
     "execution_count": 4,
     "metadata": {},
     "output_type": "execute_result"
    }
   ],
   "source": [
    "#hide_input\n",
    "#md('##### {}'.format(titleBTC)) \n",
    "md(\"- {}{} {}{} [| Skaityti daugiau]({}) \".format(btc['title'],'. ', btc['body'], ' ...', btc['url']))"
   ]
  },
  {
   "cell_type": "code",
   "execution_count": 5,
   "id": "organic-actress",
   "metadata": {
    "execution": {
     "iopub.execute_input": "2022-02-04T01:50:04.680321Z",
     "iopub.status.busy": "2022-02-04T01:50:04.679860Z",
     "iopub.status.idle": "2022-02-04T01:50:04.682991Z",
     "shell.execute_reply": "2022-02-04T01:50:04.682611Z"
    },
    "papermill": {
     "duration": 0.016135,
     "end_time": "2022-02-04T01:50:04.683093",
     "exception": false,
     "start_time": "2022-02-04T01:50:04.666958",
     "status": "completed"
    },
    "tags": []
   },
   "outputs": [
    {
     "data": {
      "text/markdown": [
       "- XRP Technical Analysis: Positive Scenario Is A Test Of $0.8.  The last trading weeks in the XRP market gave good results to sellers. Starting in November 2021, the XRP price has fallen by 60%. Sellers managed to test the consolidation range for the period of June-July 2021. It is from the price range of $0.52-$0.6 the wave of XRP price growth has started with the final target of $1.32. And in the end we see consolidation in the global timeframe, which has been going on since May 2021. https://www.tradingview.com/x/rV0tn1oI/ At the moment, the XRP price is at the bottom of this consolidation and buyers are trying to start a new local growth wave. Trading volumes during the last fall wave in November 2021 are low. The price without much resistance stopped near the liquidity zone of $0.52-$0.6. That is, there is no clear interest of buyers to change the situation in the XRP market. The best case scenario for the XRP market at the moment is a price rebound from the lower limit of consolidation with the first target of $0.8. At this point, it will become clear whether the global consolidation scenario is relevant and whether the XRP price should continue to grow to $1.1. XRP Technical Analysis On The Daily Timeframe https://www.tradingview.com/x/r4ouHc0h/ Analyzing the XRP price movement on the daily timeframe, we can see that the interest of buyers was high in the range of $0.52-$0.6. However, this lasted for only a few days. On 26 January, when buyers on the increased volumes tried to start... ... [| Skaityti daugiau](https://www.cryptoknowmics.com/news/xrp-technical-analysis-positive-scenario-is-a-test-of-0-8/) "
      ],
      "text/plain": [
       "<IPython.core.display.Markdown object>"
      ]
     },
     "execution_count": 5,
     "metadata": {},
     "output_type": "execute_result"
    }
   ],
   "source": [
    "#hide_input\n",
    "#md('##### {}'.format(titleBTC)) \n",
    "md(\"- {}{} {}{} [| Skaityti daugiau]({}) \".format(xrp['title'],'. ', xrp['body'], ' ...', xrp['url']))"
   ]
  },
  {
   "cell_type": "code",
   "execution_count": 6,
   "id": "prompt-farmer",
   "metadata": {
    "execution": {
     "iopub.execute_input": "2022-02-04T01:50:04.705037Z",
     "iopub.status.busy": "2022-02-04T01:50:04.703894Z",
     "iopub.status.idle": "2022-02-04T01:50:04.707938Z",
     "shell.execute_reply": "2022-02-04T01:50:04.707569Z"
    },
    "papermill": {
     "duration": 0.016188,
     "end_time": "2022-02-04T01:50:04.708038",
     "exception": false,
     "start_time": "2022-02-04T01:50:04.691850",
     "status": "completed"
    },
    "tags": []
   },
   "outputs": [
    {
     "data": {
      "text/markdown": [
       "- Tron (TRX) Price Analysis: Bulls Aim Larger Increase.  Tron price started a decent recovery wave above the $0.0580 level against the US Dollar. TRX price is now trading above $0.0580 and the 55 simple moving average (4-hours). There is a key bullish trend line forming with support near $0.0585 on the 4-hours chart (data feed via Bitfinex). The pair could continue to move...The post Tron (TRX) Price Analysis: Bulls Aim Larger Increase appeared first on Live Bitcoin News. ... [| Skaityti daugiau](https://www.livebitcoinnews.com/tron-trx-price-analysis-bulls-aim-larger-increase/) "
      ],
      "text/plain": [
       "<IPython.core.display.Markdown object>"
      ]
     },
     "execution_count": 6,
     "metadata": {},
     "output_type": "execute_result"
    }
   ],
   "source": [
    "#hide_input\n",
    "#md('##### {}'.format(titleBTC)) \n",
    "md(\"- {}{} {}{} [| Skaityti daugiau]({}) \".format(trx['title'],'. ', trx['body'], ' ...', trx['url']))"
   ]
  },
  {
   "cell_type": "code",
   "execution_count": 7,
   "id": "illegal-greece",
   "metadata": {
    "execution": {
     "iopub.execute_input": "2022-02-04T01:50:04.731722Z",
     "iopub.status.busy": "2022-02-04T01:50:04.731258Z",
     "iopub.status.idle": "2022-02-04T01:50:04.733781Z",
     "shell.execute_reply": "2022-02-04T01:50:04.734200Z"
    },
    "papermill": {
     "duration": 0.016961,
     "end_time": "2022-02-04T01:50:04.734321",
     "exception": false,
     "start_time": "2022-02-04T01:50:04.717360",
     "status": "completed"
    },
    "tags": []
   },
   "outputs": [
    {
     "data": {
      "text/markdown": [
       "- Over $4.5 Billion Worth of Ethereum ($ETH) Has Already Been Burned, Data Shows.  Over $4.5 billion worth of the second-largest cryptocurrency by market capitalization, Ethereum ($ETH), has been burned since the implementation of Ethereum Improvement Proposal (EIP) 1559 via the London hard fork on August 5. According to data from tracking website Watch the Burn, a total of 1.747 million ether worth $4.58 billion has been burned since […] ... [| Skaityti daugiau](https://www.cryptoglobe.com/latest/2022/02/over-4-5-billion-worth-of-ethereum-eth-have-already-been-burned-data-shows/) "
      ],
      "text/plain": [
       "<IPython.core.display.Markdown object>"
      ]
     },
     "execution_count": 7,
     "metadata": {},
     "output_type": "execute_result"
    }
   ],
   "source": [
    "#hide_input\n",
    "#md('##### {}'.format(titleBTC)) \n",
    "md(\"- {}{} {}{} [| Skaityti daugiau]({}) \".format(eth['title'],'. ', eth['body'], ' ...', eth['url']))"
   ]
  },
  {
   "cell_type": "code",
   "execution_count": 8,
   "id": "sublime-lounge",
   "metadata": {
    "execution": {
     "iopub.execute_input": "2022-02-04T01:50:04.757877Z",
     "iopub.status.busy": "2022-02-04T01:50:04.757409Z",
     "iopub.status.idle": "2022-02-04T01:50:04.760405Z",
     "shell.execute_reply": "2022-02-04T01:50:04.760020Z"
    },
    "papermill": {
     "duration": 0.016846,
     "end_time": "2022-02-04T01:50:04.760497",
     "exception": false,
     "start_time": "2022-02-04T01:50:04.743651",
     "status": "completed"
    },
    "tags": []
   },
   "outputs": [
    {
     "data": {
      "text/markdown": [
       "- These Catalyst Might Take Bitcoin (BTC) Price To $50k In Q1 And $100k In Q2 !.  The post These Catalyst Might Take Bitcoin (BTC) Price To $50k In Q1 And $100k In Q2 ! appeared first on Coinpedia - Fintech &amp; Cryptocurreny News Media| Crypto GuideThe cryptosphere’s periphery pursues to remain under the sight of the bears, as the stable bulls remain far from sight. Amidst the prolonging market cycle, crypto folks have been losing hopes on mainstream alts such as ETH, ADA, and SOL. Wherefore, hopes are now pinned on the kingpin Bitcoin, to initiate a bull run. Successively, &#8230; ... [| Skaityti daugiau](https://coinpedia.org/bitcoin/these-catalyst-might-take-bitcoin-btc-price-to-50k-in-q1-and-100k-in-q2/) "
      ],
      "text/plain": [
       "<IPython.core.display.Markdown object>"
      ]
     },
     "execution_count": 8,
     "metadata": {},
     "output_type": "execute_result"
    }
   ],
   "source": [
    "#hide_input\n",
    "#md('##### {}'.format(titleBTC)) \n",
    "md(\"- {}{} {}{} [| Skaityti daugiau]({}) \".format(ada['title'],'. ', ada['body'], ' ...', ada['url']))"
   ]
  },
  {
   "cell_type": "code",
   "execution_count": 9,
   "id": "specified-ordering",
   "metadata": {
    "execution": {
     "iopub.execute_input": "2022-02-04T01:50:04.783961Z",
     "iopub.status.busy": "2022-02-04T01:50:04.783517Z",
     "iopub.status.idle": "2022-02-04T01:50:04.786157Z",
     "shell.execute_reply": "2022-02-04T01:50:04.786497Z"
    },
    "papermill": {
     "duration": 0.016581,
     "end_time": "2022-02-04T01:50:04.786607",
     "exception": false,
     "start_time": "2022-02-04T01:50:04.770026",
     "status": "completed"
    },
    "tags": []
   },
   "outputs": [
    {
     "data": {
      "text/markdown": [
       "- SEC Commissioner: New Proposal Could Give SEC Expansive Power to Regulate Crypto, Defi Platforms.  A commissioner with the U.S. Securities and Exchange Commission (SEC) has voiced concerns regarding a new proposal that could give the securities regulator new powers to regulate cryptocurrency platforms and decentralized finance (defi) protocols. New SEC Proposal Could Hurt the Crypto Industry, Commissioner Peirce Cautions U.S. Securities and Exchange Commission (SEC) Commissioner Hester Peirce has [&#8230;] ... [| Skaityti daugiau](https://news.bitcoin.com/sec-commissioner-new-proposal-could-give-sec-expansive-power-to-regulate-crypto-defi-platforms/) "
      ],
      "text/plain": [
       "<IPython.core.display.Markdown object>"
      ]
     },
     "execution_count": 9,
     "metadata": {},
     "output_type": "execute_result"
    }
   ],
   "source": [
    "#hide_input\n",
    "#md('##### {}'.format(titleBTC)) \n",
    "md(\"- {}{} {}{} [| Skaityti daugiau]({}) \".format(exchange['title'],'. ', exchange['body'], ' ...', exchange['url']))"
   ]
  },
  {
   "cell_type": "code",
   "execution_count": null,
   "id": "tender-livestock",
   "metadata": {
    "papermill": {
     "duration": 0.009767,
     "end_time": "2022-02-04T01:50:04.806149",
     "exception": false,
     "start_time": "2022-02-04T01:50:04.796382",
     "status": "completed"
    },
    "tags": []
   },
   "outputs": [],
   "source": []
  },
  {
   "cell_type": "code",
   "execution_count": null,
   "id": "appreciated-diamond",
   "metadata": {
    "papermill": {
     "duration": 0.009671,
     "end_time": "2022-02-04T01:50:04.825602",
     "exception": false,
     "start_time": "2022-02-04T01:50:04.815931",
     "status": "completed"
    },
    "tags": []
   },
   "outputs": [],
   "source": []
  },
  {
   "cell_type": "code",
   "execution_count": null,
   "id": "romance-sweden",
   "metadata": {
    "papermill": {
     "duration": 0.009719,
     "end_time": "2022-02-04T01:50:04.845390",
     "exception": false,
     "start_time": "2022-02-04T01:50:04.835671",
     "status": "completed"
    },
    "tags": []
   },
   "outputs": [],
   "source": []
  },
  {
   "cell_type": "code",
   "execution_count": null,
   "id": "dietary-statistics",
   "metadata": {
    "papermill": {
     "duration": 0.009735,
     "end_time": "2022-02-04T01:50:04.864984",
     "exception": false,
     "start_time": "2022-02-04T01:50:04.855249",
     "status": "completed"
    },
    "tags": []
   },
   "outputs": [],
   "source": []
  }
 ],
 "metadata": {
  "kernelspec": {
   "display_name": "Python 3",
   "language": "python",
   "name": "python3"
  },
  "language_info": {
   "codemirror_mode": {
    "name": "ipython",
    "version": 3
   },
   "file_extension": ".py",
   "mimetype": "text/x-python",
   "name": "python",
   "nbconvert_exporter": "python",
   "pygments_lexer": "ipython3",
   "version": "3.6.15"
  },
  "papermill": {
   "default_parameters": {},
   "duration": 13.653858,
   "end_time": "2022-02-04T01:50:05.394014",
   "environment_variables": {},
   "exception": null,
   "input_path": "Market-News.ipynb",
   "output_path": "Market-News.ipynb",
   "parameters": {},
   "start_time": "2022-02-04T01:49:51.740156",
   "version": "2.2.2"
  }
 },
 "nbformat": 4,
 "nbformat_minor": 5
}