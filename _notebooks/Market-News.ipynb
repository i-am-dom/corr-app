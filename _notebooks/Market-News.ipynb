{
 "cells": [
  {
   "cell_type": "markdown",
   "id": "short-greensboro",
   "metadata": {
    "papermill": {
     "duration": 0.01383,
     "end_time": "2021-10-01T02:08:08.217802",
     "exception": false,
     "start_time": "2021-10-01T02:08:08.203972",
     "status": "completed"
    },
    "tags": []
   },
   "source": [
    "# Kriptovaliutų naujienos"
   ]
  },
  {
   "cell_type": "code",
   "execution_count": 1,
   "id": "functioning-knowing",
   "metadata": {
    "execution": {
     "iopub.execute_input": "2021-10-01T02:08:08.251828Z",
     "iopub.status.busy": "2021-10-01T02:08:08.250693Z",
     "iopub.status.idle": "2021-10-01T02:08:09.595209Z",
     "shell.execute_reply": "2021-10-01T02:08:09.594104Z"
    },
    "papermill": {
     "duration": 1.36687,
     "end_time": "2021-10-01T02:08:09.595390",
     "exception": false,
     "start_time": "2021-10-01T02:08:08.228520",
     "status": "completed"
    },
    "tags": []
   },
   "outputs": [],
   "source": [
    "#hide_input\n",
    "import warnings\n",
    "warnings.filterwarnings('ignore')\n",
    "from scripts.read_data import read_api\n",
    "from scripts.read_data import read_news\n",
    "from scripts.read_data import read_covid\n",
    "import matplotlib.pyplot as plt \n",
    "from IPython.display import Markdown as md"
   ]
  },
  {
   "cell_type": "code",
   "execution_count": 2,
   "id": "shared-acceptance",
   "metadata": {
    "execution": {
     "iopub.execute_input": "2021-10-01T02:08:09.623246Z",
     "iopub.status.busy": "2021-10-01T02:08:09.622389Z",
     "iopub.status.idle": "2021-10-01T02:08:20.903162Z",
     "shell.execute_reply": "2021-10-01T02:08:20.902417Z"
    },
    "papermill": {
     "duration": 11.297853,
     "end_time": "2021-10-01T02:08:20.903604",
     "exception": false,
     "start_time": "2021-10-01T02:08:09.605751",
     "status": "completed"
    },
    "tags": []
   },
   "outputs": [],
   "source": [
    "#hide_input\n",
    "blockchain = read_news('blockchain') \n",
    "btc = read_news('btc') \n",
    "xrp = read_news('xrp') \n",
    "trx = read_news('trx') \n",
    "eth = read_news('eth')  \n",
    "ada = read_news('ada')\n",
    "exchange = read_news('exchange') "
   ]
  },
  {
   "cell_type": "code",
   "execution_count": 3,
   "id": "synthetic-notion",
   "metadata": {
    "execution": {
     "iopub.execute_input": "2021-10-01T02:08:20.933567Z",
     "iopub.status.busy": "2021-10-01T02:08:20.931089Z",
     "iopub.status.idle": "2021-10-01T02:08:20.936853Z",
     "shell.execute_reply": "2021-10-01T02:08:20.936364Z"
    },
    "papermill": {
     "duration": 0.019754,
     "end_time": "2021-10-01T02:08:20.936980",
     "exception": false,
     "start_time": "2021-10-01T02:08:20.917226",
     "status": "completed"
    },
    "tags": []
   },
   "outputs": [
    {
     "data": {
      "text/markdown": [
       "- Cardano ($ADA) Could Be Used to ‘Run a Nation-State’ in the Future, Says Charles Hoskinson.  Cardano (ADA) founder Charles Hoskinson has revealed he believes the infrastructure on the cryptocurrency’s blockchain will be good enough to “run a nation-state” in the future as he sees Cardano offering a solution to many of the governance issues that affect the world today. As reported by Bloomberg, Hoskinson’s words came at the Cardano Summit […] ... [| Skaityti daugiau](https://www.cryptoglobe.com/latest/2021/10/cardano-ada-could-be-used-to-run-a-nation-state-in-the-future-says-charles-hoskinson/) "
      ],
      "text/plain": [
       "<IPython.core.display.Markdown object>"
      ]
     },
     "execution_count": 3,
     "metadata": {},
     "output_type": "execute_result"
    }
   ],
   "source": [
    "#hide_input\n",
    "#md('##### {}'.format(titleBTC)) \n",
    "md(\"- {}{} {}{} [| Skaityti daugiau]({}) \".format(blockchain['title'],'. ', blockchain['body'], ' ...', blockchain['url']))"
   ]
  },
  {
   "cell_type": "code",
   "execution_count": 4,
   "id": "aging-caution",
   "metadata": {
    "execution": {
     "iopub.execute_input": "2021-10-01T02:08:20.964159Z",
     "iopub.status.busy": "2021-10-01T02:08:20.963502Z",
     "iopub.status.idle": "2021-10-01T02:08:20.967726Z",
     "shell.execute_reply": "2021-10-01T02:08:20.968178Z"
    },
    "papermill": {
     "duration": 0.020919,
     "end_time": "2021-10-01T02:08:20.968318",
     "exception": false,
     "start_time": "2021-10-01T02:08:20.947399",
     "status": "completed"
    },
    "tags": []
   },
   "outputs": [
    {
     "data": {
      "text/markdown": [
       "- A Look At Bitcoin And Biases: Price.  There are several forms of bias to examine when it comes to understanding bitcoin and its price. ... [| Skaityti daugiau](https://bitcoinmagazine.com/culture/bitcoin-price-bias-investing) "
      ],
      "text/plain": [
       "<IPython.core.display.Markdown object>"
      ]
     },
     "execution_count": 4,
     "metadata": {},
     "output_type": "execute_result"
    }
   ],
   "source": [
    "#hide_input\n",
    "#md('##### {}'.format(titleBTC)) \n",
    "md(\"- {}{} {}{} [| Skaityti daugiau]({}) \".format(btc['title'],'. ', btc['body'], ' ...', btc['url']))"
   ]
  },
  {
   "cell_type": "code",
   "execution_count": 5,
   "id": "organic-actress",
   "metadata": {
    "execution": {
     "iopub.execute_input": "2021-10-01T02:08:20.995768Z",
     "iopub.status.busy": "2021-10-01T02:08:20.995111Z",
     "iopub.status.idle": "2021-10-01T02:08:20.998717Z",
     "shell.execute_reply": "2021-10-01T02:08:20.998246Z"
    },
    "papermill": {
     "duration": 0.019875,
     "end_time": "2021-10-01T02:08:20.998838",
     "exception": false,
     "start_time": "2021-10-01T02:08:20.978963",
     "status": "completed"
    },
    "tags": []
   },
   "outputs": [
    {
     "data": {
      "text/markdown": [
       "- Ripple (XRP) Launches $250 Million Creator Fund To Bolster NFTs On XRPL.  NFTs are now one of the most popular offerings in the crypto market. So it is no surprise to see the biggest projects in the industry jumping on the train to take advantage of the situation. This is the case with Ripple’s latest project. The launch of a new fund by the network is aimed [&#8230;] ... [| Skaityti daugiau](https://bitcoinist.com/ripple-xrp-launches-250-million-creator-fund-to-bolster-nfts-on-xrpl/?utm_source=rss&utm_medium=rss&utm_campaign=ripple-xrp-launches-250-million-creator-fund-to-bolster-nfts-on-xrpl) "
      ],
      "text/plain": [
       "<IPython.core.display.Markdown object>"
      ]
     },
     "execution_count": 5,
     "metadata": {},
     "output_type": "execute_result"
    }
   ],
   "source": [
    "#hide_input\n",
    "#md('##### {}'.format(titleBTC)) \n",
    "md(\"- {}{} {}{} [| Skaityti daugiau]({}) \".format(xrp['title'],'. ', xrp['body'], ' ...', xrp['url']))"
   ]
  },
  {
   "cell_type": "code",
   "execution_count": 6,
   "id": "prompt-farmer",
   "metadata": {
    "execution": {
     "iopub.execute_input": "2021-10-01T02:08:21.026789Z",
     "iopub.status.busy": "2021-10-01T02:08:21.026195Z",
     "iopub.status.idle": "2021-10-01T02:08:21.031999Z",
     "shell.execute_reply": "2021-10-01T02:08:21.031500Z"
    },
    "papermill": {
     "duration": 0.022292,
     "end_time": "2021-10-01T02:08:21.032114",
     "exception": false,
     "start_time": "2021-10-01T02:08:21.009822",
     "status": "completed"
    },
    "tags": []
   },
   "outputs": [
    {
     "data": {
      "text/markdown": [
       "- TRON Bounces Back from Its Swing Support Levels!.  TRON has hit a new two-day high and seems to have taken support from $0.082 levels. While the volumes so far haven&#8217;t been substantial, the continuation of this sentence is inevitably required for pushing the TRX prices to new highs. The trading range has been suppressed in a tight zone, which can be seen as &#8230; ... [| Skaityti daugiau](https://www.cryptonewsz.com/tron-bounces-back-from-its-swing-support-levels/) "
      ],
      "text/plain": [
       "<IPython.core.display.Markdown object>"
      ]
     },
     "execution_count": 6,
     "metadata": {},
     "output_type": "execute_result"
    }
   ],
   "source": [
    "#hide_input\n",
    "#md('##### {}'.format(titleBTC)) \n",
    "md(\"- {}{} {}{} [| Skaityti daugiau]({}) \".format(trx['title'],'. ', trx['body'], ' ...', trx['url']))"
   ]
  },
  {
   "cell_type": "code",
   "execution_count": 7,
   "id": "illegal-greece",
   "metadata": {
    "execution": {
     "iopub.execute_input": "2021-10-01T02:08:21.060175Z",
     "iopub.status.busy": "2021-10-01T02:08:21.059148Z",
     "iopub.status.idle": "2021-10-01T02:08:21.063645Z",
     "shell.execute_reply": "2021-10-01T02:08:21.064154Z"
    },
    "papermill": {
     "duration": 0.020541,
     "end_time": "2021-10-01T02:08:21.064285",
     "exception": false,
     "start_time": "2021-10-01T02:08:21.043744",
     "status": "completed"
    },
    "tags": []
   },
   "outputs": [
    {
     "data": {
      "text/markdown": [
       "- DOGE co-founder sets sights on Ethereum bridge and NFTs for mass adoption.  Billy Markus has talked up a proposed Dogecoin-to-Ethereum bridge so that DOGE can be used on top NFT marketplaces such as OpenSea.  ... [| Skaityti daugiau](https://cointelegraph.com/news/doge-co-founder-sets-sights-on-ethereum-bridge-and-nfts-for-mass-adoption) "
      ],
      "text/plain": [
       "<IPython.core.display.Markdown object>"
      ]
     },
     "execution_count": 7,
     "metadata": {},
     "output_type": "execute_result"
    }
   ],
   "source": [
    "#hide_input\n",
    "#md('##### {}'.format(titleBTC)) \n",
    "md(\"- {}{} {}{} [| Skaityti daugiau]({}) \".format(eth['title'],'. ', eth['body'], ' ...', eth['url']))"
   ]
  },
  {
   "cell_type": "code",
   "execution_count": 8,
   "id": "sublime-lounge",
   "metadata": {
    "execution": {
     "iopub.execute_input": "2021-10-01T02:08:21.094287Z",
     "iopub.status.busy": "2021-10-01T02:08:21.093668Z",
     "iopub.status.idle": "2021-10-01T02:08:21.096570Z",
     "shell.execute_reply": "2021-10-01T02:08:21.097038Z"
    },
    "papermill": {
     "duration": 0.021187,
     "end_time": "2021-10-01T02:08:21.097168",
     "exception": false,
     "start_time": "2021-10-01T02:08:21.075981",
     "status": "completed"
    },
    "tags": []
   },
   "outputs": [
    {
     "data": {
      "text/markdown": [
       "- Cardano ($ADA) Could Be Used to ‘Run a Nation-State’ in the Future, Says Charles Hoskinson.  Cardano (ADA) founder Charles Hoskinson has revealed he believes the infrastructure on the cryptocurrency’s blockchain will be good enough to “run a nation-state” in the future as he sees Cardano offering a solution to many of the governance issues that affect the world today. As reported by Bloomberg, Hoskinson’s words came at the Cardano Summit […] ... [| Skaityti daugiau](https://www.cryptoglobe.com/latest/2021/10/cardano-ada-could-be-used-to-run-a-nation-state-in-the-future-says-charles-hoskinson/) "
      ],
      "text/plain": [
       "<IPython.core.display.Markdown object>"
      ]
     },
     "execution_count": 8,
     "metadata": {},
     "output_type": "execute_result"
    }
   ],
   "source": [
    "#hide_input\n",
    "#md('##### {}'.format(titleBTC)) \n",
    "md(\"- {}{} {}{} [| Skaityti daugiau]({}) \".format(ada['title'],'. ', ada['body'], ' ...', ada['url']))"
   ]
  },
  {
   "cell_type": "code",
   "execution_count": 9,
   "id": "specified-ordering",
   "metadata": {
    "execution": {
     "iopub.execute_input": "2021-10-01T02:08:21.126714Z",
     "iopub.status.busy": "2021-10-01T02:08:21.123522Z",
     "iopub.status.idle": "2021-10-01T02:08:21.129014Z",
     "shell.execute_reply": "2021-10-01T02:08:21.129488Z"
    },
    "papermill": {
     "duration": 0.020367,
     "end_time": "2021-10-01T02:08:21.129621",
     "exception": false,
     "start_time": "2021-10-01T02:08:21.109254",
     "status": "completed"
    },
    "tags": []
   },
   "outputs": [
    {
     "data": {
      "text/markdown": [
       "- Illegal crypto mining equipment found in Tehran stock exchange basement.  The director of Tehran’s stock exchange, Ali Sahraee, reportedly announced his resignation after cryptocurrency mining machines were discovered at the TSE&#8217;s headquarters. However, some local reports claimed that he was fired following a police crackdown. The board of directors at the exchange had initially confirmed that several machines were installed last year &#8220;for research purposes.&#8221; [&#8230;] ... [| Skaityti daugiau](https://ambcrypto.com/illegal-crypto-mining-equipment-found-in-tehran-stock-exchange-basement/) "
      ],
      "text/plain": [
       "<IPython.core.display.Markdown object>"
      ]
     },
     "execution_count": 9,
     "metadata": {},
     "output_type": "execute_result"
    }
   ],
   "source": [
    "#hide_input\n",
    "#md('##### {}'.format(titleBTC)) \n",
    "md(\"- {}{} {}{} [| Skaityti daugiau]({}) \".format(exchange['title'],'. ', exchange['body'], ' ...', exchange['url']))"
   ]
  },
  {
   "cell_type": "code",
   "execution_count": null,
   "id": "tender-livestock",
   "metadata": {
    "papermill": {
     "duration": 0.012489,
     "end_time": "2021-10-01T02:08:21.154539",
     "exception": false,
     "start_time": "2021-10-01T02:08:21.142050",
     "status": "completed"
    },
    "tags": []
   },
   "outputs": [],
   "source": []
  },
  {
   "cell_type": "code",
   "execution_count": null,
   "id": "appreciated-diamond",
   "metadata": {
    "papermill": {
     "duration": 0.01253,
     "end_time": "2021-10-01T02:08:21.179909",
     "exception": false,
     "start_time": "2021-10-01T02:08:21.167379",
     "status": "completed"
    },
    "tags": []
   },
   "outputs": [],
   "source": []
  },
  {
   "cell_type": "code",
   "execution_count": null,
   "id": "romance-sweden",
   "metadata": {
    "papermill": {
     "duration": 0.012567,
     "end_time": "2021-10-01T02:08:21.205057",
     "exception": false,
     "start_time": "2021-10-01T02:08:21.192490",
     "status": "completed"
    },
    "tags": []
   },
   "outputs": [],
   "source": []
  },
  {
   "cell_type": "code",
   "execution_count": null,
   "id": "dietary-statistics",
   "metadata": {
    "papermill": {
     "duration": 0.012394,
     "end_time": "2021-10-01T02:08:21.229914",
     "exception": false,
     "start_time": "2021-10-01T02:08:21.217520",
     "status": "completed"
    },
    "tags": []
   },
   "outputs": [],
   "source": []
  }
 ],
 "metadata": {
  "kernelspec": {
   "display_name": "Python 3",
   "language": "python",
   "name": "python3"
  },
  "language_info": {
   "codemirror_mode": {
    "name": "ipython",
    "version": 3
   },
   "file_extension": ".py",
   "mimetype": "text/x-python",
   "name": "python",
   "nbconvert_exporter": "python",
   "pygments_lexer": "ipython3",
   "version": "3.6.15"
  },
  "papermill": {
   "default_parameters": {},
   "duration": 14.619769,
   "end_time": "2021-10-01T02:08:21.752740",
   "environment_variables": {},
   "exception": null,
   "input_path": "Market-News.ipynb",
   "output_path": "Market-News.ipynb",
   "parameters": {},
   "start_time": "2021-10-01T02:08:07.132971",
   "version": "2.2.2"
  }
 },
 "nbformat": 4,
 "nbformat_minor": 5
}