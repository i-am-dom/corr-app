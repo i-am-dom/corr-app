{
 "cells": [
  {
   "cell_type": "markdown",
   "id": "short-greensboro",
   "metadata": {
    "papermill": {
     "duration": 0.013436,
     "end_time": "2021-08-02T01:59:23.003089",
     "exception": false,
     "start_time": "2021-08-02T01:59:22.989653",
     "status": "completed"
    },
    "tags": []
   },
   "source": [
    "# Kriptovaliutų naujienos"
   ]
  },
  {
   "cell_type": "code",
   "execution_count": 1,
   "id": "functioning-knowing",
   "metadata": {
    "execution": {
     "iopub.execute_input": "2021-08-02T01:59:23.030573Z",
     "iopub.status.busy": "2021-08-02T01:59:23.030104Z",
     "iopub.status.idle": "2021-08-02T01:59:24.227264Z",
     "shell.execute_reply": "2021-08-02T01:59:24.226774Z"
    },
    "papermill": {
     "duration": 1.215823,
     "end_time": "2021-08-02T01:59:24.227395",
     "exception": false,
     "start_time": "2021-08-02T01:59:23.011572",
     "status": "completed"
    },
    "tags": []
   },
   "outputs": [],
   "source": [
    "#hide_input\n",
    "import warnings\n",
    "warnings.filterwarnings('ignore')\n",
    "from scripts.read_data import read_api\n",
    "from scripts.read_data import read_news\n",
    "from scripts.read_data import read_covid\n",
    "import matplotlib.pyplot as plt \n",
    "from IPython.display import Markdown as md"
   ]
  },
  {
   "cell_type": "code",
   "execution_count": 2,
   "id": "shared-acceptance",
   "metadata": {
    "execution": {
     "iopub.execute_input": "2021-08-02T01:59:24.250647Z",
     "iopub.status.busy": "2021-08-02T01:59:24.250174Z",
     "iopub.status.idle": "2021-08-02T01:59:32.011643Z",
     "shell.execute_reply": "2021-08-02T01:59:32.010719Z"
    },
    "papermill": {
     "duration": 7.775168,
     "end_time": "2021-08-02T01:59:32.011775",
     "exception": false,
     "start_time": "2021-08-02T01:59:24.236607",
     "status": "completed"
    },
    "tags": []
   },
   "outputs": [],
   "source": [
    "#hide_input\n",
    "blockchain = read_news('blockchain') \n",
    "btc = read_news('btc') \n",
    "xrp = read_news('xrp') \n",
    "trx = read_news('trx') \n",
    "eth = read_news('eth')  \n",
    "ada = read_news('ada')\n",
    "exchange = read_news('exchange') "
   ]
  },
  {
   "cell_type": "code",
   "execution_count": 3,
   "id": "synthetic-notion",
   "metadata": {
    "execution": {
     "iopub.execute_input": "2021-08-02T01:59:32.036017Z",
     "iopub.status.busy": "2021-08-02T01:59:32.035570Z",
     "iopub.status.idle": "2021-08-02T01:59:32.039326Z",
     "shell.execute_reply": "2021-08-02T01:59:32.038974Z"
    },
    "papermill": {
     "duration": 0.018392,
     "end_time": "2021-08-02T01:59:32.039425",
     "exception": false,
     "start_time": "2021-08-02T01:59:32.021033",
     "status": "completed"
    },
    "tags": []
   },
   "outputs": [
    {
     "data": {
      "text/markdown": [
       "- NFT Leaderboard Study Highlights the Crypto Industry’s Leading NFT Collectors.  As the non-fungible token (NFT) space continues to grow, the blockchain analytics Nansen has published a leaderboards list of the top wallets (NFT collectors) that interact with NFTs on a regular basis. The analytics firm combed through 90 million ethereum wallets and found a number of big market players making moves in the NFT space. [&#8230;] ... [| Skaityti daugiau](https://news.bitcoin.com/nft-leaderboard-study-highlights-the-crypto-industrys-leading-nft-collectors/) "
      ],
      "text/plain": [
       "<IPython.core.display.Markdown object>"
      ]
     },
     "execution_count": 3,
     "metadata": {},
     "output_type": "execute_result"
    }
   ],
   "source": [
    "#hide_input\n",
    "#md('##### {}'.format(titleBTC)) \n",
    "md(\"- {}{} {}{} [| Skaityti daugiau]({}) \".format(blockchain['title'],'. ', blockchain['body'], ' ...', blockchain['url']))"
   ]
  },
  {
   "cell_type": "code",
   "execution_count": 4,
   "id": "aging-caution",
   "metadata": {
    "execution": {
     "iopub.execute_input": "2021-08-02T01:59:32.060905Z",
     "iopub.status.busy": "2021-08-02T01:59:32.060327Z",
     "iopub.status.idle": "2021-08-02T01:59:32.062424Z",
     "shell.execute_reply": "2021-08-02T01:59:32.062872Z"
    },
    "papermill": {
     "duration": 0.015344,
     "end_time": "2021-08-02T01:59:32.063011",
     "exception": false,
     "start_time": "2021-08-02T01:59:32.047667",
     "status": "completed"
    },
    "tags": []
   },
   "outputs": [
    {
     "data": {
      "text/markdown": [
       "- Top 5 cryptocurrencies to watch this week: BTC, UNI, LINK, SOL, XMR.  Bitcoin’s sharp rally brought out the bulls and if the momentum sustains UNI, LINK, SOL and XMR could move higher. ... [| Skaityti daugiau](https://cointelegraph.com/news/top-5-cryptocurrencies-to-watch-this-week-btc-uni-link-sol-xmr) "
      ],
      "text/plain": [
       "<IPython.core.display.Markdown object>"
      ]
     },
     "execution_count": 4,
     "metadata": {},
     "output_type": "execute_result"
    }
   ],
   "source": [
    "#hide_input\n",
    "#md('##### {}'.format(titleBTC)) \n",
    "md(\"- {}{} {}{} [| Skaityti daugiau]({}) \".format(btc['title'],'. ', btc['body'], ' ...', btc['url']))"
   ]
  },
  {
   "cell_type": "code",
   "execution_count": 5,
   "id": "organic-actress",
   "metadata": {
    "execution": {
     "iopub.execute_input": "2021-08-02T01:59:32.086651Z",
     "iopub.status.busy": "2021-08-02T01:59:32.086157Z",
     "iopub.status.idle": "2021-08-02T01:59:32.088577Z",
     "shell.execute_reply": "2021-08-02T01:59:32.088948Z"
    },
    "papermill": {
     "duration": 0.016259,
     "end_time": "2021-08-02T01:59:32.089073",
     "exception": false,
     "start_time": "2021-08-02T01:59:32.072814",
     "status": "completed"
    },
    "tags": []
   },
   "outputs": [
    {
     "data": {
      "text/markdown": [
       "- Should XRP traders expect a pump or has the alt lost its way.  A bull rally has been the story of the broader market over the past few days. However, this effect hasn&#8217;t been uniform, with some altcoins noting a lagged reaction. While the likes of Bitcoin, Ethereum, and Cardano have moved past or consolidated near their immediate resistance levels, other assets are still waiting on the fences [&#8230;] ... [| Skaityti daugiau](https://ambcrypto.com/should-xrp-traders-expect-a-pump-or-has-the-alt-lost-its-way/) "
      ],
      "text/plain": [
       "<IPython.core.display.Markdown object>"
      ]
     },
     "execution_count": 5,
     "metadata": {},
     "output_type": "execute_result"
    }
   ],
   "source": [
    "#hide_input\n",
    "#md('##### {}'.format(titleBTC)) \n",
    "md(\"- {}{} {}{} [| Skaityti daugiau]({}) \".format(xrp['title'],'. ', xrp['body'], ' ...', xrp['url']))"
   ]
  },
  {
   "cell_type": "code",
   "execution_count": 6,
   "id": "prompt-farmer",
   "metadata": {
    "execution": {
     "iopub.execute_input": "2021-08-02T01:59:32.113386Z",
     "iopub.status.busy": "2021-08-02T01:59:32.112901Z",
     "iopub.status.idle": "2021-08-02T01:59:32.115638Z",
     "shell.execute_reply": "2021-08-02T01:59:32.116095Z"
    },
    "papermill": {
     "duration": 0.017379,
     "end_time": "2021-08-02T01:59:32.116215",
     "exception": false,
     "start_time": "2021-08-02T01:59:32.098836",
     "status": "completed"
    },
    "tags": []
   },
   "outputs": [
    {
     "data": {
      "text/markdown": [
       "- XRP, Tron, IOTA Price Analysis: 31 July.  The global crypto-market cap was at $1.67 trillion with a 3.0% increase over the last 24 hours. Most altcoins were trading in the green and noted an increase in their own market capitalizations too. XRP’s movement on the chart remained quite bullish. TRX too noted an upside, with 6% gains over the last 24 hours. [&#8230;] ... [| Skaityti daugiau](https://ambcrypto.com/xrp-tron-iota-price-analysis-31-july/) "
      ],
      "text/plain": [
       "<IPython.core.display.Markdown object>"
      ]
     },
     "execution_count": 6,
     "metadata": {},
     "output_type": "execute_result"
    }
   ],
   "source": [
    "#hide_input\n",
    "#md('##### {}'.format(titleBTC)) \n",
    "md(\"- {}{} {}{} [| Skaityti daugiau]({}) \".format(trx['title'],'. ', trx['body'], ' ...', trx['url']))"
   ]
  },
  {
   "cell_type": "code",
   "execution_count": 7,
   "id": "illegal-greece",
   "metadata": {
    "execution": {
     "iopub.execute_input": "2021-08-02T01:59:32.140500Z",
     "iopub.status.busy": "2021-08-02T01:59:32.139527Z",
     "iopub.status.idle": "2021-08-02T01:59:32.142822Z",
     "shell.execute_reply": "2021-08-02T01:59:32.143193Z"
    },
    "papermill": {
     "duration": 0.0169,
     "end_time": "2021-08-02T01:59:32.143313",
     "exception": false,
     "start_time": "2021-08-02T01:59:32.126413",
     "status": "completed"
    },
    "tags": []
   },
   "outputs": [
    {
     "data": {
      "text/markdown": [
       "- Should XRP traders expect a pump or has the alt lost its way.  A bull rally has been the story of the broader market over the past few days. However, this effect hasn&#8217;t been uniform, with some altcoins noting a lagged reaction. While the likes of Bitcoin, Ethereum, and Cardano have moved past or consolidated near their immediate resistance levels, other assets are still waiting on the fences [&#8230;] ... [| Skaityti daugiau](https://ambcrypto.com/should-xrp-traders-expect-a-pump-or-has-the-alt-lost-its-way/) "
      ],
      "text/plain": [
       "<IPython.core.display.Markdown object>"
      ]
     },
     "execution_count": 7,
     "metadata": {},
     "output_type": "execute_result"
    }
   ],
   "source": [
    "#hide_input\n",
    "#md('##### {}'.format(titleBTC)) \n",
    "md(\"- {}{} {}{} [| Skaityti daugiau]({}) \".format(eth['title'],'. ', eth['body'], ' ...', eth['url']))"
   ]
  },
  {
   "cell_type": "code",
   "execution_count": 8,
   "id": "sublime-lounge",
   "metadata": {
    "execution": {
     "iopub.execute_input": "2021-08-02T01:59:32.168359Z",
     "iopub.status.busy": "2021-08-02T01:59:32.167873Z",
     "iopub.status.idle": "2021-08-02T01:59:32.170056Z",
     "shell.execute_reply": "2021-08-02T01:59:32.170430Z"
    },
    "papermill": {
     "duration": 0.01697,
     "end_time": "2021-08-02T01:59:32.170551",
     "exception": false,
     "start_time": "2021-08-02T01:59:32.153581",
     "status": "completed"
    },
    "tags": []
   },
   "outputs": [
    {
     "data": {
      "text/markdown": [
       "- Should XRP traders expect a pump or has the alt lost its way.  A bull rally has been the story of the broader market over the past few days. However, this effect hasn&#8217;t been uniform, with some altcoins noting a lagged reaction. While the likes of Bitcoin, Ethereum, and Cardano have moved past or consolidated near their immediate resistance levels, other assets are still waiting on the fences [&#8230;] ... [| Skaityti daugiau](https://ambcrypto.com/should-xrp-traders-expect-a-pump-or-has-the-alt-lost-its-way/) "
      ],
      "text/plain": [
       "<IPython.core.display.Markdown object>"
      ]
     },
     "execution_count": 8,
     "metadata": {},
     "output_type": "execute_result"
    }
   ],
   "source": [
    "#hide_input\n",
    "#md('##### {}'.format(titleBTC)) \n",
    "md(\"- {}{} {}{} [| Skaityti daugiau]({}) \".format(ada['title'],'. ', ada['body'], ' ...', ada['url']))"
   ]
  },
  {
   "cell_type": "code",
   "execution_count": 9,
   "id": "specified-ordering",
   "metadata": {
    "execution": {
     "iopub.execute_input": "2021-08-02T01:59:32.196674Z",
     "iopub.status.busy": "2021-08-02T01:59:32.196192Z",
     "iopub.status.idle": "2021-08-02T01:59:32.198800Z",
     "shell.execute_reply": "2021-08-02T01:59:32.199193Z"
    },
    "papermill": {
     "duration": 0.018146,
     "end_time": "2021-08-02T01:59:32.199307",
     "exception": false,
     "start_time": "2021-08-02T01:59:32.181161",
     "status": "completed"
    },
    "tags": []
   },
   "outputs": [
    {
     "data": {
      "text/markdown": [
       "- Ripple Resolution With SEC Not Coming Anytime Soon, Says Legal Expert – Here’s Why.  Legal expert James K. Filan says XRP investors shouldn&#8217;t expect a settlement in the lawsuit between Ripple and the U.S. Securities and Exchange Commission (SEC) anytime soon. In a tweetstorm, the defense lawyer and former federal prosecutor says it looks like the government is showing no sign of giving up. In addition, Filan says the [&#8230;]The post Ripple Resolution With SEC Not Coming Anytime Soon, Says Legal Expert – Here&#8217;s Why appeared first on The Daily Hodl. ... [| Skaityti daugiau](https://dailyhodl.com/2021/08/01/ripple-settlement-with-sec-not-coming-anytime-soon-says-crypto-legal-expert/) "
      ],
      "text/plain": [
       "<IPython.core.display.Markdown object>"
      ]
     },
     "execution_count": 9,
     "metadata": {},
     "output_type": "execute_result"
    }
   ],
   "source": [
    "#hide_input\n",
    "#md('##### {}'.format(titleBTC)) \n",
    "md(\"- {}{} {}{} [| Skaityti daugiau]({}) \".format(exchange['title'],'. ', exchange['body'], ' ...', exchange['url']))"
   ]
  },
  {
   "cell_type": "code",
   "execution_count": null,
   "id": "tender-livestock",
   "metadata": {
    "papermill": {
     "duration": 0.010903,
     "end_time": "2021-08-02T01:59:32.221204",
     "exception": false,
     "start_time": "2021-08-02T01:59:32.210301",
     "status": "completed"
    },
    "tags": []
   },
   "outputs": [],
   "source": []
  },
  {
   "cell_type": "code",
   "execution_count": null,
   "id": "appreciated-diamond",
   "metadata": {
    "papermill": {
     "duration": 0.010985,
     "end_time": "2021-08-02T01:59:32.243373",
     "exception": false,
     "start_time": "2021-08-02T01:59:32.232388",
     "status": "completed"
    },
    "tags": []
   },
   "outputs": [],
   "source": []
  },
  {
   "cell_type": "code",
   "execution_count": null,
   "id": "romance-sweden",
   "metadata": {
    "papermill": {
     "duration": 0.010958,
     "end_time": "2021-08-02T01:59:32.265359",
     "exception": false,
     "start_time": "2021-08-02T01:59:32.254401",
     "status": "completed"
    },
    "tags": []
   },
   "outputs": [],
   "source": []
  },
  {
   "cell_type": "code",
   "execution_count": null,
   "id": "dietary-statistics",
   "metadata": {
    "papermill": {
     "duration": 0.010951,
     "end_time": "2021-08-02T01:59:32.287295",
     "exception": false,
     "start_time": "2021-08-02T01:59:32.276344",
     "status": "completed"
    },
    "tags": []
   },
   "outputs": [],
   "source": []
  }
 ],
 "metadata": {
  "kernelspec": {
   "display_name": "Python 3",
   "language": "python",
   "name": "python3"
  },
  "language_info": {
   "codemirror_mode": {
    "name": "ipython",
    "version": 3
   },
   "file_extension": ".py",
   "mimetype": "text/x-python",
   "name": "python",
   "nbconvert_exporter": "python",
   "pygments_lexer": "ipython3",
   "version": "3.6.14"
  },
  "papermill": {
   "default_parameters": {},
   "duration": 10.887018,
   "end_time": "2021-08-02T01:59:32.806578",
   "environment_variables": {},
   "exception": null,
   "input_path": "Market-News.ipynb",
   "output_path": "Market-News.ipynb",
   "parameters": {},
   "start_time": "2021-08-02T01:59:21.919560",
   "version": "2.2.2"
  }
 },
 "nbformat": 4,
 "nbformat_minor": 5
}