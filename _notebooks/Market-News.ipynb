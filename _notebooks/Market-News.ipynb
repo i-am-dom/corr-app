{
 "cells": [
  {
   "cell_type": "markdown",
   "id": "short-greensboro",
   "metadata": {
    "papermill": {
     "duration": 0.016642,
     "end_time": "2022-07-27T03:23:07.716451",
     "exception": false,
     "start_time": "2022-07-27T03:23:07.699809",
     "status": "completed"
    },
    "tags": []
   },
   "source": [
    "# Kriptovaliutų naujienos"
   ]
  },
  {
   "cell_type": "code",
   "execution_count": 1,
   "id": "functioning-knowing",
   "metadata": {
    "execution": {
     "iopub.execute_input": "2022-07-27T03:23:07.755424Z",
     "iopub.status.busy": "2022-07-27T03:23:07.754364Z",
     "iopub.status.idle": "2022-07-27T03:23:09.382120Z",
     "shell.execute_reply": "2022-07-27T03:23:09.381395Z"
    },
    "papermill": {
     "duration": 1.652927,
     "end_time": "2022-07-27T03:23:09.382314",
     "exception": false,
     "start_time": "2022-07-27T03:23:07.729387",
     "status": "completed"
    },
    "tags": []
   },
   "outputs": [],
   "source": [
    "#hide_input\n",
    "import warnings\n",
    "warnings.filterwarnings('ignore')\n",
    "from scripts.read_data import read_api\n",
    "from scripts.read_data import read_news\n",
    "from scripts.read_data import read_covid\n",
    "import matplotlib.pyplot as plt \n",
    "from IPython.display import Markdown as md"
   ]
  },
  {
   "cell_type": "code",
   "execution_count": 2,
   "id": "shared-acceptance",
   "metadata": {
    "execution": {
     "iopub.execute_input": "2022-07-27T03:23:09.413272Z",
     "iopub.status.busy": "2022-07-27T03:23:09.411747Z",
     "iopub.status.idle": "2022-07-27T03:23:21.338471Z",
     "shell.execute_reply": "2022-07-27T03:23:21.337605Z"
    },
    "papermill": {
     "duration": 11.945359,
     "end_time": "2022-07-27T03:23:21.338643",
     "exception": false,
     "start_time": "2022-07-27T03:23:09.393284",
     "status": "completed"
    },
    "tags": []
   },
   "outputs": [],
   "source": [
    "#hide_input\n",
    "blockchain = read_news('blockchain') \n",
    "btc = read_news('btc') \n",
    "xrp = read_news('xrp') \n",
    "trx = read_news('trx') \n",
    "eth = read_news('eth')  \n",
    "ada = read_news('ada')\n",
    "exchange = read_news('exchange') "
   ]
  },
  {
   "cell_type": "code",
   "execution_count": 3,
   "id": "synthetic-notion",
   "metadata": {
    "execution": {
     "iopub.execute_input": "2022-07-27T03:23:21.374257Z",
     "iopub.status.busy": "2022-07-27T03:23:21.372738Z",
     "iopub.status.idle": "2022-07-27T03:23:21.378304Z",
     "shell.execute_reply": "2022-07-27T03:23:21.379056Z"
    },
    "papermill": {
     "duration": 0.028315,
     "end_time": "2022-07-27T03:23:21.379259",
     "exception": false,
     "start_time": "2022-07-27T03:23:21.350944",
     "status": "completed"
    },
    "tags": []
   },
   "outputs": [
    {
     "data": {
      "text/markdown": [
       "- Bitcoin holds $20K as support: Back above $21K price region.  Bitcoin price analysis for July 27, 2022, comes on a bearish note for the world&#8217;s biggest cryptocurrency as the chances of making higher highs in the coming days remain low and investors can expect BTC to drop to the nearest position of $20K once again. In the last 24 hours, we saw BTC jump by [&#8230;]The post Bitcoin holds $20K as support: Back above $21K price region appeared first on Blockchain, Crypto and Stock News. ... [| Skaityti daugiau](https://thecoinrise.com/bitcoin-holds-20k-as-support-back-above-21k-price-region/) "
      ],
      "text/plain": [
       "<IPython.core.display.Markdown object>"
      ]
     },
     "execution_count": 3,
     "metadata": {},
     "output_type": "execute_result"
    }
   ],
   "source": [
    "#hide_input\n",
    "#md('##### {}'.format(titleBTC)) \n",
    "md(\"- {}{} {}{} [| Skaityti daugiau]({}) \".format(blockchain['title'],'. ', blockchain['body'], ' ...', blockchain['url']))"
   ]
  },
  {
   "cell_type": "code",
   "execution_count": 4,
   "id": "aging-caution",
   "metadata": {
    "execution": {
     "iopub.execute_input": "2022-07-27T03:23:21.411773Z",
     "iopub.status.busy": "2022-07-27T03:23:21.410931Z",
     "iopub.status.idle": "2022-07-27T03:23:21.415260Z",
     "shell.execute_reply": "2022-07-27T03:23:21.414497Z"
    },
    "papermill": {
     "duration": 0.023548,
     "end_time": "2022-07-27T03:23:21.415443",
     "exception": false,
     "start_time": "2022-07-27T03:23:21.391895",
     "status": "completed"
    },
    "tags": []
   },
   "outputs": [
    {
     "data": {
      "text/markdown": [
       "- Bitcoin, Ethereum, Dogecoin, and Avalanche Daily Price Analyses – 26 July Roundup.  The global crypto market has seen a reversal in the pattern; there is a dominant trend for gains. The increased influx of capital has pushed Bitcoin, Ethereum, and others. As there was a dominant trend of bearishness in the market, the changes had brought gains to a stall. As the bullish trend strengthens, it will &#8230;  Bitcoin, Ethereum, Dogecoin, and Avalanche Daily Price Analyses – 26 July Roundup Read More &#187; ... [| Skaityti daugiau](https://www.cryptopolitan.com/bitcoin-ethereum-dogecoin-and-avalanche-daily-price-analyses-26-july-roundup/) "
      ],
      "text/plain": [
       "<IPython.core.display.Markdown object>"
      ]
     },
     "execution_count": 4,
     "metadata": {},
     "output_type": "execute_result"
    }
   ],
   "source": [
    "#hide_input\n",
    "#md('##### {}'.format(titleBTC)) \n",
    "md(\"- {}{} {}{} [| Skaityti daugiau]({}) \".format(btc['title'],'. ', btc['body'], ' ...', btc['url']))"
   ]
  },
  {
   "cell_type": "code",
   "execution_count": 5,
   "id": "organic-actress",
   "metadata": {
    "execution": {
     "iopub.execute_input": "2022-07-27T03:23:21.450305Z",
     "iopub.status.busy": "2022-07-27T03:23:21.449384Z",
     "iopub.status.idle": "2022-07-27T03:23:21.452787Z",
     "shell.execute_reply": "2022-07-27T03:23:21.453451Z"
    },
    "papermill": {
     "duration": 0.02435,
     "end_time": "2022-07-27T03:23:21.453649",
     "exception": false,
     "start_time": "2022-07-27T03:23:21.429299",
     "status": "completed"
    },
    "tags": []
   },
   "outputs": [
    {
     "data": {
      "text/markdown": [
       "- Ripple Partners With FOMO Pay To Facilitate Cross Border Treasury Payments.  Ripple, Enterprise blockchain and crypto solutions provider has partnered with FOMO Pay. FOMO Pay is a leading Singapore-based institutional digital payment solution provider and has become the latest firm to unify with Ripple&#8217;s liquidity solution. Through this integration, FOMO Pay is planning on using Ripple&#8217;s crypto-enabled enterprise technology which is supposed to enable its cross-border [&#8230;] ... [| Skaityti daugiau](https://bitcoinist.com/ripple-partners-with-fomo-pay/) "
      ],
      "text/plain": [
       "<IPython.core.display.Markdown object>"
      ]
     },
     "execution_count": 5,
     "metadata": {},
     "output_type": "execute_result"
    }
   ],
   "source": [
    "#hide_input\n",
    "#md('##### {}'.format(titleBTC)) \n",
    "md(\"- {}{} {}{} [| Skaityti daugiau]({}) \".format(xrp['title'],'. ', xrp['body'], ' ...', xrp['url']))"
   ]
  },
  {
   "cell_type": "code",
   "execution_count": 6,
   "id": "prompt-farmer",
   "metadata": {
    "execution": {
     "iopub.execute_input": "2022-07-27T03:23:21.488099Z",
     "iopub.status.busy": "2022-07-27T03:23:21.487304Z",
     "iopub.status.idle": "2022-07-27T03:23:21.491944Z",
     "shell.execute_reply": "2022-07-27T03:23:21.491291Z"
    },
    "papermill": {
     "duration": 0.024526,
     "end_time": "2022-07-27T03:23:21.492097",
     "exception": false,
     "start_time": "2022-07-27T03:23:21.467571",
     "status": "completed"
    },
    "tags": []
   },
   "outputs": [
    {
     "data": {
      "text/markdown": [
       "- Should you bet on Tron instead of BTC, ETH, XRP, LINK.  The Justin Sun cryptocurrency has made significant improvements. And, has become the talk of the crypto space, yet again. It was because of the last week&#8217;s strong performance that TRX was successful in giving a tough fight to the bears. But that didn&#8217;t last long since the alt succumbed to the selling pressure later. Even [&#8230;] ... [| Skaityti daugiau](https://ambcrypto.com/should-you-bet-on-tron-instead-of-btc-eth-xrp-link/) "
      ],
      "text/plain": [
       "<IPython.core.display.Markdown object>"
      ]
     },
     "execution_count": 6,
     "metadata": {},
     "output_type": "execute_result"
    }
   ],
   "source": [
    "#hide_input\n",
    "#md('##### {}'.format(titleBTC)) \n",
    "md(\"- {}{} {}{} [| Skaityti daugiau]({}) \".format(trx['title'],'. ', trx['body'], ' ...', trx['url']))"
   ]
  },
  {
   "cell_type": "code",
   "execution_count": 7,
   "id": "illegal-greece",
   "metadata": {
    "execution": {
     "iopub.execute_input": "2022-07-27T03:23:21.527593Z",
     "iopub.status.busy": "2022-07-27T03:23:21.526756Z",
     "iopub.status.idle": "2022-07-27T03:23:21.531241Z",
     "shell.execute_reply": "2022-07-27T03:23:21.530475Z"
    },
    "papermill": {
     "duration": 0.025118,
     "end_time": "2022-07-27T03:23:21.531401",
     "exception": false,
     "start_time": "2022-07-27T03:23:21.506283",
     "status": "completed"
    },
    "tags": []
   },
   "outputs": [
    {
     "data": {
      "text/markdown": [
       "- Bitcoin, Ethereum, Dogecoin, and Avalanche Daily Price Analyses – 26 July Roundup.  The global crypto market has seen a reversal in the pattern; there is a dominant trend for gains. The increased influx of capital has pushed Bitcoin, Ethereum, and others. As there was a dominant trend of bearishness in the market, the changes had brought gains to a stall. As the bullish trend strengthens, it will &#8230;  Bitcoin, Ethereum, Dogecoin, and Avalanche Daily Price Analyses – 26 July Roundup Read More &#187; ... [| Skaityti daugiau](https://www.cryptopolitan.com/bitcoin-ethereum-dogecoin-and-avalanche-daily-price-analyses-26-july-roundup/) "
      ],
      "text/plain": [
       "<IPython.core.display.Markdown object>"
      ]
     },
     "execution_count": 7,
     "metadata": {},
     "output_type": "execute_result"
    }
   ],
   "source": [
    "#hide_input\n",
    "#md('##### {}'.format(titleBTC)) \n",
    "md(\"- {}{} {}{} [| Skaityti daugiau]({}) \".format(eth['title'],'. ', eth['body'], ' ...', eth['url']))"
   ]
  },
  {
   "cell_type": "code",
   "execution_count": 8,
   "id": "sublime-lounge",
   "metadata": {
    "execution": {
     "iopub.execute_input": "2022-07-27T03:23:21.570162Z",
     "iopub.status.busy": "2022-07-27T03:23:21.569391Z",
     "iopub.status.idle": "2022-07-27T03:23:21.576199Z",
     "shell.execute_reply": "2022-07-27T03:23:21.575521Z"
    },
    "papermill": {
     "duration": 0.029159,
     "end_time": "2022-07-27T03:23:21.576384",
     "exception": false,
     "start_time": "2022-07-27T03:23:21.547225",
     "status": "completed"
    },
    "tags": []
   },
   "outputs": [
    {
     "data": {
      "text/markdown": [
       "- Cardano ($ADA) Enters BNB Whales’ Top 10 Holdings Ahead of Vasil Hard Fork.  Cardano ($ADA) has become one of the top 10 holdings of whales n the BNB Chain (which was formerly known as the Binance Smart Chain) as investors are betting on the cryptocurrency ahead of its highly anticipated Vasil hard fork. According to data shared by whale monitoring service WhaleStats, Cardano recently became a top 10 […] ... [| Skaityti daugiau](https://www.cryptoglobe.com/latest/2022/07/cardano-ada-enters-bnb-whales-top-10-holdings-ahead-of-vasil-hard-fork/) "
      ],
      "text/plain": [
       "<IPython.core.display.Markdown object>"
      ]
     },
     "execution_count": 8,
     "metadata": {},
     "output_type": "execute_result"
    }
   ],
   "source": [
    "#hide_input\n",
    "#md('##### {}'.format(titleBTC)) \n",
    "md(\"- {}{} {}{} [| Skaityti daugiau]({}) \".format(ada['title'],'. ', ada['body'], ' ...', ada['url']))"
   ]
  },
  {
   "cell_type": "code",
   "execution_count": 9,
   "id": "specified-ordering",
   "metadata": {
    "execution": {
     "iopub.execute_input": "2022-07-27T03:23:21.613499Z",
     "iopub.status.busy": "2022-07-27T03:23:21.612797Z",
     "iopub.status.idle": "2022-07-27T03:23:21.616640Z",
     "shell.execute_reply": "2022-07-27T03:23:21.616059Z"
    },
    "papermill": {
     "duration": 0.025539,
     "end_time": "2022-07-27T03:23:21.616772",
     "exception": false,
     "start_time": "2022-07-27T03:23:21.591233",
     "status": "completed"
    },
    "tags": []
   },
   "outputs": [
    {
     "data": {
      "text/markdown": [
       "- Cardano ($ADA) Enters BNB Whales’ Top 10 Holdings Ahead of Vasil Hard Fork.  Cardano ($ADA) has become one of the top 10 holdings of whales n the BNB Chain (which was formerly known as the Binance Smart Chain) as investors are betting on the cryptocurrency ahead of its highly anticipated Vasil hard fork. According to data shared by whale monitoring service WhaleStats, Cardano recently became a top 10 […] ... [| Skaityti daugiau](https://www.cryptoglobe.com/latest/2022/07/cardano-ada-enters-bnb-whales-top-10-holdings-ahead-of-vasil-hard-fork/) "
      ],
      "text/plain": [
       "<IPython.core.display.Markdown object>"
      ]
     },
     "execution_count": 9,
     "metadata": {},
     "output_type": "execute_result"
    }
   ],
   "source": [
    "#hide_input\n",
    "#md('##### {}'.format(titleBTC)) \n",
    "md(\"- {}{} {}{} [| Skaityti daugiau]({}) \".format(exchange['title'],'. ', exchange['body'], ' ...', exchange['url']))"
   ]
  },
  {
   "cell_type": "code",
   "execution_count": null,
   "id": "tender-livestock",
   "metadata": {
    "papermill": {
     "duration": 0.015322,
     "end_time": "2022-07-27T03:23:21.647395",
     "exception": false,
     "start_time": "2022-07-27T03:23:21.632073",
     "status": "completed"
    },
    "tags": []
   },
   "outputs": [],
   "source": []
  },
  {
   "cell_type": "code",
   "execution_count": null,
   "id": "appreciated-diamond",
   "metadata": {
    "papermill": {
     "duration": 0.016619,
     "end_time": "2022-07-27T03:23:21.681197",
     "exception": false,
     "start_time": "2022-07-27T03:23:21.664578",
     "status": "completed"
    },
    "tags": []
   },
   "outputs": [],
   "source": []
  },
  {
   "cell_type": "code",
   "execution_count": null,
   "id": "romance-sweden",
   "metadata": {
    "papermill": {
     "duration": 0.014851,
     "end_time": "2022-07-27T03:23:21.711533",
     "exception": false,
     "start_time": "2022-07-27T03:23:21.696682",
     "status": "completed"
    },
    "tags": []
   },
   "outputs": [],
   "source": []
  },
  {
   "cell_type": "code",
   "execution_count": null,
   "id": "dietary-statistics",
   "metadata": {
    "papermill": {
     "duration": 0.014675,
     "end_time": "2022-07-27T03:23:21.740374",
     "exception": false,
     "start_time": "2022-07-27T03:23:21.725699",
     "status": "completed"
    },
    "tags": []
   },
   "outputs": [],
   "source": []
  }
 ],
 "metadata": {
  "kernelspec": {
   "display_name": "Python 3",
   "language": "python",
   "name": "python3"
  },
  "language_info": {
   "codemirror_mode": {
    "name": "ipython",
    "version": 3
   },
   "file_extension": ".py",
   "mimetype": "text/x-python",
   "name": "python",
   "nbconvert_exporter": "python",
   "pygments_lexer": "ipython3",
   "version": "3.6.15"
  },
  "papermill": {
   "default_parameters": {},
   "duration": 15.821266,
   "end_time": "2022-07-27T03:23:22.275387",
   "environment_variables": {},
   "exception": null,
   "input_path": "Market-News.ipynb",
   "output_path": "Market-News.ipynb",
   "parameters": {},
   "start_time": "2022-07-27T03:23:06.454121",
   "version": "2.2.2"
  }
 },
 "nbformat": 4,
 "nbformat_minor": 5
}