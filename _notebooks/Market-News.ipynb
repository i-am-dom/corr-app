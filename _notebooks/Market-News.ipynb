{
 "cells": [
  {
   "cell_type": "markdown",
   "id": "short-greensboro",
   "metadata": {
    "papermill": {
     "duration": 0.01349,
     "end_time": "2022-11-06T03:04:41.017078",
     "exception": false,
     "start_time": "2022-11-06T03:04:41.003588",
     "status": "completed"
    },
    "tags": []
   },
   "source": [
    "# Kriptovaliutų naujienos"
   ]
  },
  {
   "cell_type": "code",
   "execution_count": 1,
   "id": "functioning-knowing",
   "metadata": {
    "execution": {
     "iopub.execute_input": "2022-11-06T03:04:41.045489Z",
     "iopub.status.busy": "2022-11-06T03:04:41.042832Z",
     "iopub.status.idle": "2022-11-06T03:04:42.238892Z",
     "shell.execute_reply": "2022-11-06T03:04:42.238328Z"
    },
    "papermill": {
     "duration": 1.212461,
     "end_time": "2022-11-06T03:04:42.239036",
     "exception": false,
     "start_time": "2022-11-06T03:04:41.026575",
     "status": "completed"
    },
    "tags": []
   },
   "outputs": [],
   "source": [
    "#hide_input\n",
    "import warnings\n",
    "warnings.filterwarnings('ignore')\n",
    "from scripts.read_data import read_api\n",
    "from scripts.read_data import read_news\n",
    "from scripts.read_data import read_covid\n",
    "import matplotlib.pyplot as plt \n",
    "from IPython.display import Markdown as md"
   ]
  },
  {
   "cell_type": "code",
   "execution_count": 2,
   "id": "shared-acceptance",
   "metadata": {
    "execution": {
     "iopub.execute_input": "2022-11-06T03:04:42.263990Z",
     "iopub.status.busy": "2022-11-06T03:04:42.263013Z",
     "iopub.status.idle": "2022-11-06T03:04:52.093488Z",
     "shell.execute_reply": "2022-11-06T03:04:52.092487Z"
    },
    "papermill": {
     "duration": 9.844856,
     "end_time": "2022-11-06T03:04:52.093623",
     "exception": false,
     "start_time": "2022-11-06T03:04:42.248767",
     "status": "completed"
    },
    "tags": []
   },
   "outputs": [],
   "source": [
    "#hide_input\n",
    "blockchain = read_news('blockchain') \n",
    "btc = read_news('btc') \n",
    "xrp = read_news('xrp') \n",
    "trx = read_news('trx') \n",
    "eth = read_news('eth')  \n",
    "ada = read_news('ada')\n",
    "exchange = read_news('exchange') "
   ]
  },
  {
   "cell_type": "code",
   "execution_count": 3,
   "id": "synthetic-notion",
   "metadata": {
    "execution": {
     "iopub.execute_input": "2022-11-06T03:04:52.117921Z",
     "iopub.status.busy": "2022-11-06T03:04:52.117337Z",
     "iopub.status.idle": "2022-11-06T03:04:52.120530Z",
     "shell.execute_reply": "2022-11-06T03:04:52.119965Z"
    },
    "papermill": {
     "duration": 0.017832,
     "end_time": "2022-11-06T03:04:52.120637",
     "exception": false,
     "start_time": "2022-11-06T03:04:52.102805",
     "status": "completed"
    },
    "tags": []
   },
   "outputs": [
    {
     "data": {
      "text/markdown": [
       "- NEAR’s conflict with market bulls proves the protocol may have a mind if its own.  The last month was marked by positive price corrections in the cryptocurrency market, which sent the price of alts like Dogecoin [DOGE] rallying by 100%. According to data from CoinGecko, global cryptocurrency market capitalization grew by 9% in the last 30 days. However, NEAR decoupled from the rest of the market and posted a price [&#8230;] ... [| Skaityti daugiau](https://ambcrypto.com/nears-conflict-with-market-bulls-proves-the-protocol-may-have-a-mind-if-its-own/) "
      ],
      "text/plain": [
       "<IPython.core.display.Markdown object>"
      ]
     },
     "execution_count": 3,
     "metadata": {},
     "output_type": "execute_result"
    }
   ],
   "source": [
    "#hide_input\n",
    "#md('##### {}'.format(titleBTC)) \n",
    "md(\"- {}{} {}{} [| Skaityti daugiau]({}) \".format(blockchain['title'],'. ', blockchain['body'], ' ...', blockchain['url']))"
   ]
  },
  {
   "cell_type": "code",
   "execution_count": 4,
   "id": "aging-caution",
   "metadata": {
    "execution": {
     "iopub.execute_input": "2022-11-06T03:04:52.143279Z",
     "iopub.status.busy": "2022-11-06T03:04:52.142664Z",
     "iopub.status.idle": "2022-11-06T03:04:52.146202Z",
     "shell.execute_reply": "2022-11-06T03:04:52.145760Z"
    },
    "papermill": {
     "duration": 0.016527,
     "end_time": "2022-11-06T03:04:52.146305",
     "exception": false,
     "start_time": "2022-11-06T03:04:52.129778",
     "status": "completed"
    },
    "tags": []
   },
   "outputs": [
    {
     "data": {
      "text/markdown": [
       "- Bitcoin mining, Lebanon’s recourse for survival? $1 valued at 15 cents due to broken banking system.  TL; DR Breakdown Lebanon&#8217;s economy plunges into hyperinflation Bitcoin replaces Lebanon&#8217;s banking system Bitcoin mining in Lebanon Lebanon’s citizens explain how bitcoin mining has replaced a broken banking system as the economy plunges into hyperinflation and the nation and banks impose steep haircuts on dollar withdrawals. The national locals are now mining bitcoin and using &#8230;  Bitcoin mining, Lebanon&#8217;s recourse for survival? $1 valued at 15 cents due to broken banking system Read More &#187; ... [| Skaityti daugiau](https://www.cryptopolitan.com/lebanon-turn-to-bitcoin-mining-for-survival/) "
      ],
      "text/plain": [
       "<IPython.core.display.Markdown object>"
      ]
     },
     "execution_count": 4,
     "metadata": {},
     "output_type": "execute_result"
    }
   ],
   "source": [
    "#hide_input\n",
    "#md('##### {}'.format(titleBTC)) \n",
    "md(\"- {}{} {}{} [| Skaityti daugiau]({}) \".format(btc['title'],'. ', btc['body'], ' ...', btc['url']))"
   ]
  },
  {
   "cell_type": "code",
   "execution_count": 5,
   "id": "organic-actress",
   "metadata": {
    "execution": {
     "iopub.execute_input": "2022-11-06T03:04:52.169586Z",
     "iopub.status.busy": "2022-11-06T03:04:52.169004Z",
     "iopub.status.idle": "2022-11-06T03:04:52.172714Z",
     "shell.execute_reply": "2022-11-06T03:04:52.172253Z"
    },
    "papermill": {
     "duration": 0.017127,
     "end_time": "2022-11-06T03:04:52.172811",
     "exception": false,
     "start_time": "2022-11-06T03:04:52.155684",
     "status": "completed"
    },
    "tags": []
   },
   "outputs": [
    {
     "data": {
      "text/markdown": [
       "- Ripple vs SEC! Defence Lawyer James Filan Reaffirms March 31, 2023, for Summary Judgment.  The post Ripple vs SEC! Defence Lawyer James Filan Reaffirms March 31, 2023, for Summary Judgment appeared first on Coinpedia Fintech NewsHigh-profile defence lawyer, James Filan, has made striking predictions on the Ripple Inc vs SEC lawsuit regarding the XRP’s programmatic sales. According to Filan in a series of tweets, ‘District Judge Torres will decide both the Expert Motions and the Summary Judgment motions at the same time &#8211; on or before March 31, 2023.’ The &#8230; ... [| Skaityti daugiau](https://coinpedia.org/ripple/ripple-vs-sec-defence-lawyer-james-filan-reaffirms-march-31-2023-for-summary-judgment/) "
      ],
      "text/plain": [
       "<IPython.core.display.Markdown object>"
      ]
     },
     "execution_count": 5,
     "metadata": {},
     "output_type": "execute_result"
    }
   ],
   "source": [
    "#hide_input\n",
    "#md('##### {}'.format(titleBTC)) \n",
    "md(\"- {}{} {}{} [| Skaityti daugiau]({}) \".format(xrp['title'],'. ', xrp['body'], ' ...', xrp['url']))"
   ]
  },
  {
   "cell_type": "code",
   "execution_count": 6,
   "id": "prompt-farmer",
   "metadata": {
    "execution": {
     "iopub.execute_input": "2022-11-06T03:04:52.197028Z",
     "iopub.status.busy": "2022-11-06T03:04:52.196380Z",
     "iopub.status.idle": "2022-11-06T03:04:52.199670Z",
     "shell.execute_reply": "2022-11-06T03:04:52.199024Z"
    },
    "papermill": {
     "duration": 0.01728,
     "end_time": "2022-11-06T03:04:52.199767",
     "exception": false,
     "start_time": "2022-11-06T03:04:52.182487",
     "status": "completed"
    },
    "tags": []
   },
   "outputs": [
    {
     "data": {
      "text/markdown": [
       "- TRON (TRX) DAO Declares Itself “Apolitical”.       ... [| Skaityti daugiau](https://coingape.com/web-stories/tron-trx-dao-declares-itself-apolitical/) "
      ],
      "text/plain": [
       "<IPython.core.display.Markdown object>"
      ]
     },
     "execution_count": 6,
     "metadata": {},
     "output_type": "execute_result"
    }
   ],
   "source": [
    "#hide_input\n",
    "#md('##### {}'.format(titleBTC)) \n",
    "md(\"- {}{} {}{} [| Skaityti daugiau]({}) \".format(trx['title'],'. ', trx['body'], ' ...', trx['url']))"
   ]
  },
  {
   "cell_type": "code",
   "execution_count": 7,
   "id": "illegal-greece",
   "metadata": {
    "execution": {
     "iopub.execute_input": "2022-11-06T03:04:52.224742Z",
     "iopub.status.busy": "2022-11-06T03:04:52.224170Z",
     "iopub.status.idle": "2022-11-06T03:04:52.227567Z",
     "shell.execute_reply": "2022-11-06T03:04:52.228035Z"
    },
    "papermill": {
     "duration": 0.018302,
     "end_time": "2022-11-06T03:04:52.228144",
     "exception": false,
     "start_time": "2022-11-06T03:04:52.209842",
     "status": "completed"
    },
    "tags": []
   },
   "outputs": [
    {
     "data": {
      "text/markdown": [
       "- What Chainlink’s 30-day high and surge in NFT volume mean for LINK traders.  Chainlink [LINK] hit a thirty-day high of $8.80 and revitalized its NFT trades volume to a new high after it fell vehemently on the second day in November. Interestingly, these developments came after Chainlink announced new digital collectible integrations. ⬡ DAILY WRAP-UP ⬡ ⛓️ Integrations on #Ethereum and #Polygon ⛓️ • @Gustaves_NFT &#124; VRF &#124; Distributing #NFTs• [&#8230;] ... [| Skaityti daugiau](https://ambcrypto.com/what-chainlinks-30-day-high-and-surge-in-nft-volume-mean-for-link-traders/) "
      ],
      "text/plain": [
       "<IPython.core.display.Markdown object>"
      ]
     },
     "execution_count": 7,
     "metadata": {},
     "output_type": "execute_result"
    }
   ],
   "source": [
    "#hide_input\n",
    "#md('##### {}'.format(titleBTC)) \n",
    "md(\"- {}{} {}{} [| Skaityti daugiau]({}) \".format(eth['title'],'. ', eth['body'], ' ...', eth['url']))"
   ]
  },
  {
   "cell_type": "code",
   "execution_count": 8,
   "id": "sublime-lounge",
   "metadata": {
    "execution": {
     "iopub.execute_input": "2022-11-06T03:04:52.254881Z",
     "iopub.status.busy": "2022-11-06T03:04:52.254174Z",
     "iopub.status.idle": "2022-11-06T03:04:52.256645Z",
     "shell.execute_reply": "2022-11-06T03:04:52.257149Z"
    },
    "papermill": {
     "duration": 0.017562,
     "end_time": "2022-11-06T03:04:52.257272",
     "exception": false,
     "start_time": "2022-11-06T03:04:52.239710",
     "status": "completed"
    },
    "tags": []
   },
   "outputs": [
    {
     "data": {
      "text/markdown": [
       "- ADA and BNB Price Analysis for November 5.  Can one expect correction of Binance Coin (BNB) and Cardano (ADA) soon? ... [| Skaityti daugiau](https://u.today/ada-and-bnb-price-analysis-for-november-5) "
      ],
      "text/plain": [
       "<IPython.core.display.Markdown object>"
      ]
     },
     "execution_count": 8,
     "metadata": {},
     "output_type": "execute_result"
    }
   ],
   "source": [
    "#hide_input\n",
    "#md('##### {}'.format(titleBTC)) \n",
    "md(\"- {}{} {}{} [| Skaityti daugiau]({}) \".format(ada['title'],'. ', ada['body'], ' ...', ada['url']))"
   ]
  },
  {
   "cell_type": "code",
   "execution_count": 9,
   "id": "specified-ordering",
   "metadata": {
    "execution": {
     "iopub.execute_input": "2022-11-06T03:04:52.283364Z",
     "iopub.status.busy": "2022-11-06T03:04:52.282792Z",
     "iopub.status.idle": "2022-11-06T03:04:52.286322Z",
     "shell.execute_reply": "2022-11-06T03:04:52.285761Z"
    },
    "papermill": {
     "duration": 0.01804,
     "end_time": "2022-11-06T03:04:52.286420",
     "exception": false,
     "start_time": "2022-11-06T03:04:52.268380",
     "status": "completed"
    },
    "tags": []
   },
   "outputs": [
    {
     "data": {
      "text/markdown": [
       "- Bitcoin (BTC) Shows Strength As Price Breaks $21,300; Here Are Levels To Watch.  BTC&#8217;s price needs to rally high as the price continues to stall in its price movement despite the market looking green across boards. BTC&#8217;s price continues to trend, creating a more bullish bias as the price aim for $22,500, where the price could face resistance. BTC&#8217;s price remains indecisive on the daily timeframes as the price trades below the 50 Exponential Moving Average (EMA). The price of Bitcoin has surpassed the expectations of many holding out for the price to continue in its downtrend as many traders looked trapped with no sign of Bitcoin (BTC) going lower as the price of Bitcoin eyes $22,500. The crypto market has seen some relief across all assets, with Bitcoin (BTC) leading the way, rallying and dragging the market. (Data from Binance) Bitcoin (BTC) Price Analysis On The Weekly Chart Many altcoins have continued to produce over 200% gains over the past 7 days of breaking out of their range-bound movement, as many believe more hope is returning to the crypto space. The beginning of the week appeared skeptical, but things are starting to shape up and look more promising for some altcoins, such as BAND, which rallied over 100% in less than 24 hours, demonstrating the price action and volume for buy orders. The price of BTC has shown strength breaking above $21,200 and holding up pretty well. After dropping from its high of $25,000 in recent months with so much hype for BTC, the price of BTC has fai... ... [| Skaityti daugiau](https://www.newsbtc.com/analysis/bitcoin-btc-shows-strength-as-price-breaks-21300-here-are-levels-to-watch/) "
      ],
      "text/plain": [
       "<IPython.core.display.Markdown object>"
      ]
     },
     "execution_count": 9,
     "metadata": {},
     "output_type": "execute_result"
    }
   ],
   "source": [
    "#hide_input\n",
    "#md('##### {}'.format(titleBTC)) \n",
    "md(\"- {}{} {}{} [| Skaityti daugiau]({}) \".format(exchange['title'],'. ', exchange['body'], ' ...', exchange['url']))"
   ]
  },
  {
   "cell_type": "code",
   "execution_count": null,
   "id": "tender-livestock",
   "metadata": {
    "papermill": {
     "duration": 0.011066,
     "end_time": "2022-11-06T03:04:52.308485",
     "exception": false,
     "start_time": "2022-11-06T03:04:52.297419",
     "status": "completed"
    },
    "tags": []
   },
   "outputs": [],
   "source": []
  },
  {
   "cell_type": "code",
   "execution_count": null,
   "id": "appreciated-diamond",
   "metadata": {
    "papermill": {
     "duration": 0.010966,
     "end_time": "2022-11-06T03:04:52.330586",
     "exception": false,
     "start_time": "2022-11-06T03:04:52.319620",
     "status": "completed"
    },
    "tags": []
   },
   "outputs": [],
   "source": []
  },
  {
   "cell_type": "code",
   "execution_count": null,
   "id": "romance-sweden",
   "metadata": {
    "papermill": {
     "duration": 0.010905,
     "end_time": "2022-11-06T03:04:52.352449",
     "exception": false,
     "start_time": "2022-11-06T03:04:52.341544",
     "status": "completed"
    },
    "tags": []
   },
   "outputs": [],
   "source": []
  },
  {
   "cell_type": "code",
   "execution_count": null,
   "id": "dietary-statistics",
   "metadata": {
    "papermill": {
     "duration": 0.010995,
     "end_time": "2022-11-06T03:04:52.374806",
     "exception": false,
     "start_time": "2022-11-06T03:04:52.363811",
     "status": "completed"
    },
    "tags": []
   },
   "outputs": [],
   "source": []
  }
 ],
 "metadata": {
  "kernelspec": {
   "display_name": "Python 3",
   "language": "python",
   "name": "python3"
  },
  "language_info": {
   "codemirror_mode": {
    "name": "ipython",
    "version": 3
   },
   "file_extension": ".py",
   "mimetype": "text/x-python",
   "name": "python",
   "nbconvert_exporter": "python",
   "pygments_lexer": "ipython3",
   "version": "3.6.15"
  },
  "papermill": {
   "default_parameters": {},
   "duration": 12.710768,
   "end_time": "2022-11-06T03:04:52.804489",
   "environment_variables": {},
   "exception": null,
   "input_path": "Market-News.ipynb",
   "output_path": "Market-News.ipynb",
   "parameters": {},
   "start_time": "2022-11-06T03:04:40.093721",
   "version": "2.2.2"
  }
 },
 "nbformat": 4,
 "nbformat_minor": 5
}