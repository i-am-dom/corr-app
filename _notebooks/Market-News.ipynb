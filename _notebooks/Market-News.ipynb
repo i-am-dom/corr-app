{
 "cells": [
  {
   "cell_type": "markdown",
   "id": "short-greensboro",
   "metadata": {
    "papermill": {
     "duration": 0.017241,
     "end_time": "2022-10-18T03:45:42.118324",
     "exception": false,
     "start_time": "2022-10-18T03:45:42.101083",
     "status": "completed"
    },
    "tags": []
   },
   "source": [
    "# Kriptovaliutų naujienos"
   ]
  },
  {
   "cell_type": "code",
   "execution_count": 1,
   "id": "functioning-knowing",
   "metadata": {
    "execution": {
     "iopub.execute_input": "2022-10-18T03:45:42.152715Z",
     "iopub.status.busy": "2022-10-18T03:45:42.151964Z",
     "iopub.status.idle": "2022-10-18T03:45:43.579525Z",
     "shell.execute_reply": "2022-10-18T03:45:43.578891Z"
    },
    "papermill": {
     "duration": 1.449857,
     "end_time": "2022-10-18T03:45:43.579693",
     "exception": false,
     "start_time": "2022-10-18T03:45:42.129836",
     "status": "completed"
    },
    "tags": []
   },
   "outputs": [],
   "source": [
    "#hide_input\n",
    "import warnings\n",
    "warnings.filterwarnings('ignore')\n",
    "from scripts.read_data import read_api\n",
    "from scripts.read_data import read_news\n",
    "from scripts.read_data import read_covid\n",
    "import matplotlib.pyplot as plt \n",
    "from IPython.display import Markdown as md"
   ]
  },
  {
   "cell_type": "code",
   "execution_count": 2,
   "id": "shared-acceptance",
   "metadata": {
    "execution": {
     "iopub.execute_input": "2022-10-18T03:45:43.608494Z",
     "iopub.status.busy": "2022-10-18T03:45:43.607760Z",
     "iopub.status.idle": "2022-10-18T03:45:55.717380Z",
     "shell.execute_reply": "2022-10-18T03:45:55.716108Z"
    },
    "papermill": {
     "duration": 12.126322,
     "end_time": "2022-10-18T03:45:55.717535",
     "exception": false,
     "start_time": "2022-10-18T03:45:43.591213",
     "status": "completed"
    },
    "tags": []
   },
   "outputs": [],
   "source": [
    "#hide_input\n",
    "blockchain = read_news('blockchain') \n",
    "btc = read_news('btc') \n",
    "xrp = read_news('xrp') \n",
    "trx = read_news('trx') \n",
    "eth = read_news('eth')  \n",
    "ada = read_news('ada')\n",
    "exchange = read_news('exchange') "
   ]
  },
  {
   "cell_type": "code",
   "execution_count": 3,
   "id": "synthetic-notion",
   "metadata": {
    "execution": {
     "iopub.execute_input": "2022-10-18T03:45:55.746669Z",
     "iopub.status.busy": "2022-10-18T03:45:55.745974Z",
     "iopub.status.idle": "2022-10-18T03:45:55.754303Z",
     "shell.execute_reply": "2022-10-18T03:45:55.754795Z"
    },
    "papermill": {
     "duration": 0.026906,
     "end_time": "2022-10-18T03:45:55.754945",
     "exception": false,
     "start_time": "2022-10-18T03:45:55.728039",
     "status": "completed"
    },
    "tags": []
   },
   "outputs": [
    {
     "data": {
      "text/markdown": [
       "- Ultimate Guide – The Impact of Blockchain on the Future of Web 3.0.  If there is one thing that is for sure, it is the fact that the future of the web is gradually revolutionizing. Thanks to blockchain technology, with its secure, transparent and tamper-proof ledger system, blockchain will change how we use web services. Web 3.0 is the emerging blockchain-based platform that will change the way we [&#8230;]The post Ultimate Guide – The Impact of Blockchain on the Future of Web 3.0 appeared first on The Daily Hodl. ... [| Skaityti daugiau](https://dailyhodl.com/2022/10/17/ultimate-guide-the-impact-of-blockchain-on-the-future-of-web-3-0/) "
      ],
      "text/plain": [
       "<IPython.core.display.Markdown object>"
      ]
     },
     "execution_count": 3,
     "metadata": {},
     "output_type": "execute_result"
    }
   ],
   "source": [
    "#hide_input\n",
    "#md('##### {}'.format(titleBTC)) \n",
    "md(\"- {}{} {}{} [| Skaityti daugiau]({}) \".format(blockchain['title'],'. ', blockchain['body'], ' ...', blockchain['url']))"
   ]
  },
  {
   "cell_type": "code",
   "execution_count": 4,
   "id": "aging-caution",
   "metadata": {
    "execution": {
     "iopub.execute_input": "2022-10-18T03:45:55.789193Z",
     "iopub.status.busy": "2022-10-18T03:45:55.785809Z",
     "iopub.status.idle": "2022-10-18T03:45:55.794836Z",
     "shell.execute_reply": "2022-10-18T03:45:55.795330Z"
    },
    "papermill": {
     "duration": 0.027689,
     "end_time": "2022-10-18T03:45:55.795480",
     "exception": false,
     "start_time": "2022-10-18T03:45:55.767791",
     "status": "completed"
    },
    "tags": []
   },
   "outputs": [
    {
     "data": {
      "text/markdown": [
       "- Ethereum Price Is Unstoppable and Why Break Above $1,400 Seems Imminent.  Ethereum is slowly moving higher above the $1,320 level against the US Dollar. ETH could gain pace above the $1,350 and $1,400 resistance levels. Ethereum remained strong above the $1,265 support zone and started a decent increase. The price is now trading above $1,320 and the 100 hourly simple moving average. There is a major bullish trend line forming with support near $1,315 on the hourly chart of ETH/USD (data feed via Kraken). The pair could gain bullish momentum if it clears the $1,350 resistance zone. Ethereum Price Eyes More Gains Ethereum formed a base above the $1,260 level and started a decent increase, similar to bitcoin price. ETH was able to climb higher above the $1,280 and $1,300 levels. There was a break above the 50% Fib retracement level of the key drop from the $1,344 swing high to $1,262 low. Ether price is now trading above $1,320 and the 100 hourly simple moving average. It seems like the bulls are in control above the $1,320 level. It is also trading above the 76.4% Fib retracement level of the key drop from the $1,344 swing high to $1,262 low. Besides, there is a major bullish trend line forming with support near $1,315 on the hourly chart of ETH/USD. An immediate resistance on the upside is near the $1,340 zone or the last swing high. The first major resistance is near the $1,350 level. A clear upside break above the $1,350 resistance zone could open the doors for more gains. In the stated case, the p... ... [| Skaityti daugiau](https://www.newsbtc.com/analysis/eth/ethereum-price-is-unstoppable-1400/) "
      ],
      "text/plain": [
       "<IPython.core.display.Markdown object>"
      ]
     },
     "execution_count": 4,
     "metadata": {},
     "output_type": "execute_result"
    }
   ],
   "source": [
    "#hide_input\n",
    "#md('##### {}'.format(titleBTC)) \n",
    "md(\"- {}{} {}{} [| Skaityti daugiau]({}) \".format(btc['title'],'. ', btc['body'], ' ...', btc['url']))"
   ]
  },
  {
   "cell_type": "code",
   "execution_count": 5,
   "id": "organic-actress",
   "metadata": {
    "execution": {
     "iopub.execute_input": "2022-10-18T03:45:55.824377Z",
     "iopub.status.busy": "2022-10-18T03:45:55.823596Z",
     "iopub.status.idle": "2022-10-18T03:45:55.826760Z",
     "shell.execute_reply": "2022-10-18T03:45:55.826115Z"
    },
    "papermill": {
     "duration": 0.020344,
     "end_time": "2022-10-18T03:45:55.826885",
     "exception": false,
     "start_time": "2022-10-18T03:45:55.806541",
     "status": "completed"
    },
    "tags": []
   },
   "outputs": [
    {
     "data": {
      "text/markdown": [
       "- Will XRP survive the decentralization trial after BTC maximalist says….  Ripple [XRP] might be faced with a non-court case after Bitcoin [BTC] maximalist Max Kesier “accused” it of being centralized. While responding to a tweet about him secretly holding XRP, Keiser noted that he was no supporter of the payment-centered coin. Additionally, Keisier said that XRP was no different from traditional money; hence the reason, [&#8230;] ... [| Skaityti daugiau](https://ambcrypto.com/will-xrp-survive-the-decentralization-trial-after-btc-maximalist-says/) "
      ],
      "text/plain": [
       "<IPython.core.display.Markdown object>"
      ]
     },
     "execution_count": 5,
     "metadata": {},
     "output_type": "execute_result"
    }
   ],
   "source": [
    "#hide_input\n",
    "#md('##### {}'.format(titleBTC)) \n",
    "md(\"- {}{} {}{} [| Skaityti daugiau]({}) \".format(xrp['title'],'. ', xrp['body'], ' ...', xrp['url']))"
   ]
  },
  {
   "cell_type": "code",
   "execution_count": 6,
   "id": "prompt-farmer",
   "metadata": {
    "execution": {
     "iopub.execute_input": "2022-10-18T03:45:55.857636Z",
     "iopub.status.busy": "2022-10-18T03:45:55.855508Z",
     "iopub.status.idle": "2022-10-18T03:45:55.863687Z",
     "shell.execute_reply": "2022-10-18T03:45:55.863023Z"
    },
    "papermill": {
     "duration": 0.025428,
     "end_time": "2022-10-18T03:45:55.863810",
     "exception": false,
     "start_time": "2022-10-18T03:45:55.838382",
     "status": "completed"
    },
    "tags": []
   },
   "outputs": [
    {
     "data": {
      "text/markdown": [
       "- TRON (TRX) has been in a state of deflation for almost a year; Here’s what it means.  Despite the overall bearish sentiment dominating the cryptocurrency market and most of its assets struggling to stay in the green...  Continue reading  The post TRON (TRX) has been in a state of deflation for almost a year; Here&#8217;s what it means appeared first on Finbold. ... [| Skaityti daugiau](https://finbold.com/tron-trx-has-been-in-a-state-of-deflation-for-almost-a-year-heres-what-it-means/) "
      ],
      "text/plain": [
       "<IPython.core.display.Markdown object>"
      ]
     },
     "execution_count": 6,
     "metadata": {},
     "output_type": "execute_result"
    }
   ],
   "source": [
    "#hide_input\n",
    "#md('##### {}'.format(titleBTC)) \n",
    "md(\"- {}{} {}{} [| Skaityti daugiau]({}) \".format(trx['title'],'. ', trx['body'], ' ...', trx['url']))"
   ]
  },
  {
   "cell_type": "code",
   "execution_count": 7,
   "id": "illegal-greece",
   "metadata": {
    "execution": {
     "iopub.execute_input": "2022-10-18T03:45:55.896415Z",
     "iopub.status.busy": "2022-10-18T03:45:55.895077Z",
     "iopub.status.idle": "2022-10-18T03:45:55.902637Z",
     "shell.execute_reply": "2022-10-18T03:45:55.902113Z"
    },
    "papermill": {
     "duration": 0.027031,
     "end_time": "2022-10-18T03:45:55.902766",
     "exception": false,
     "start_time": "2022-10-18T03:45:55.875735",
     "status": "completed"
    },
    "tags": []
   },
   "outputs": [
    {
     "data": {
      "text/markdown": [
       "- Ethereum Price Is Unstoppable and Why Break Above $1,400 Seems Imminent.  Ethereum is slowly moving higher above the $1,320 level against the US Dollar. ETH could gain pace above the $1,350 and $1,400 resistance levels. Ethereum remained strong above the $1,265 support zone and started a decent increase. The price is now trading above $1,320 and the 100 hourly simple moving average. There is a major bullish trend line forming with support near $1,315 on the hourly chart of ETH/USD (data feed via Kraken). The pair could gain bullish momentum if it clears the $1,350 resistance zone. Ethereum Price Eyes More Gains Ethereum formed a base above the $1,260 level and started a decent increase, similar to bitcoin price. ETH was able to climb higher above the $1,280 and $1,300 levels. There was a break above the 50% Fib retracement level of the key drop from the $1,344 swing high to $1,262 low. Ether price is now trading above $1,320 and the 100 hourly simple moving average. It seems like the bulls are in control above the $1,320 level. It is also trading above the 76.4% Fib retracement level of the key drop from the $1,344 swing high to $1,262 low. Besides, there is a major bullish trend line forming with support near $1,315 on the hourly chart of ETH/USD. An immediate resistance on the upside is near the $1,340 zone or the last swing high. The first major resistance is near the $1,350 level. A clear upside break above the $1,350 resistance zone could open the doors for more gains. In the stated case, the p... ... [| Skaityti daugiau](https://www.newsbtc.com/analysis/eth/ethereum-price-is-unstoppable-1400/) "
      ],
      "text/plain": [
       "<IPython.core.display.Markdown object>"
      ]
     },
     "execution_count": 7,
     "metadata": {},
     "output_type": "execute_result"
    }
   ],
   "source": [
    "#hide_input\n",
    "#md('##### {}'.format(titleBTC)) \n",
    "md(\"- {}{} {}{} [| Skaityti daugiau]({}) \".format(eth['title'],'. ', eth['body'], ' ...', eth['url']))"
   ]
  },
  {
   "cell_type": "code",
   "execution_count": 8,
   "id": "sublime-lounge",
   "metadata": {
    "execution": {
     "iopub.execute_input": "2022-10-18T03:45:55.936909Z",
     "iopub.status.busy": "2022-10-18T03:45:55.934605Z",
     "iopub.status.idle": "2022-10-18T03:45:55.940696Z",
     "shell.execute_reply": "2022-10-18T03:45:55.940116Z"
    },
    "papermill": {
     "duration": 0.02435,
     "end_time": "2022-10-18T03:45:55.940822",
     "exception": false,
     "start_time": "2022-10-18T03:45:55.916472",
     "status": "completed"
    },
    "tags": []
   },
   "outputs": [
    {
     "data": {
      "text/markdown": [
       "- Cardano finds some support at $0.36, but the downtrend remains unbeaten.  Disclaimer: The findings of the following analysis are the sole opinions of the writer and should not be considered investment advice. Cardano sees some relief at $0.36 Dead cat bounce or can the bulls drive ADA back above $0.4? At the time of writing, Bitcoin [BTC] was headed higher toward the $19.6k resistance. Over the weekend [&#8230;] ... [| Skaityti daugiau](https://ambcrypto.com/cardano-finds-some-support-at-0-36-but-the-downtrend-remains-unbeaten/) "
      ],
      "text/plain": [
       "<IPython.core.display.Markdown object>"
      ]
     },
     "execution_count": 8,
     "metadata": {},
     "output_type": "execute_result"
    }
   ],
   "source": [
    "#hide_input\n",
    "#md('##### {}'.format(titleBTC)) \n",
    "md(\"- {}{} {}{} [| Skaityti daugiau]({}) \".format(ada['title'],'. ', ada['body'], ' ...', ada['url']))"
   ]
  },
  {
   "cell_type": "code",
   "execution_count": 9,
   "id": "specified-ordering",
   "metadata": {
    "execution": {
     "iopub.execute_input": "2022-10-18T03:45:55.971694Z",
     "iopub.status.busy": "2022-10-18T03:45:55.971010Z",
     "iopub.status.idle": "2022-10-18T03:45:55.979516Z",
     "shell.execute_reply": "2022-10-18T03:45:55.978967Z"
    },
    "papermill": {
     "duration": 0.026246,
     "end_time": "2022-10-18T03:45:55.979639",
     "exception": false,
     "start_time": "2022-10-18T03:45:55.953393",
     "status": "completed"
    },
    "tags": []
   },
   "outputs": [
    {
     "data": {
      "text/markdown": [
       "- Troubled 3AC’s Under Investigation by SEC, CFTC: Report.  According to reports, US authorities are looking into Three Arrows Capital (3AC) in the wake of the firm&#8217;s prior bankruptcy. Bloomberg reports that the Securities and Exchange Commission (SEC) and Commodity Futures Trading Commission (CFTC) are looking into potential investor conduct violations by Three Arrows. The regulators are explicitly investigating whether the company failed to &#8230;  Troubled 3AC’s Under Investigation by SEC, CFTC: Report Read More &#187; ... [| Skaityti daugiau](https://www.cryptopolitan.com/3acs-under-investigation-by-sec-cftc/) "
      ],
      "text/plain": [
       "<IPython.core.display.Markdown object>"
      ]
     },
     "execution_count": 9,
     "metadata": {},
     "output_type": "execute_result"
    }
   ],
   "source": [
    "#hide_input\n",
    "#md('##### {}'.format(titleBTC)) \n",
    "md(\"- {}{} {}{} [| Skaityti daugiau]({}) \".format(exchange['title'],'. ', exchange['body'], ' ...', exchange['url']))"
   ]
  },
  {
   "cell_type": "code",
   "execution_count": null,
   "id": "tender-livestock",
   "metadata": {
    "papermill": {
     "duration": 0.014032,
     "end_time": "2022-10-18T03:45:56.007138",
     "exception": false,
     "start_time": "2022-10-18T03:45:55.993106",
     "status": "completed"
    },
    "tags": []
   },
   "outputs": [],
   "source": []
  },
  {
   "cell_type": "code",
   "execution_count": null,
   "id": "appreciated-diamond",
   "metadata": {
    "papermill": {
     "duration": 0.013899,
     "end_time": "2022-10-18T03:45:56.035089",
     "exception": false,
     "start_time": "2022-10-18T03:45:56.021190",
     "status": "completed"
    },
    "tags": []
   },
   "outputs": [],
   "source": []
  },
  {
   "cell_type": "code",
   "execution_count": null,
   "id": "romance-sweden",
   "metadata": {
    "papermill": {
     "duration": 0.014023,
     "end_time": "2022-10-18T03:45:56.063147",
     "exception": false,
     "start_time": "2022-10-18T03:45:56.049124",
     "status": "completed"
    },
    "tags": []
   },
   "outputs": [],
   "source": []
  },
  {
   "cell_type": "code",
   "execution_count": null,
   "id": "dietary-statistics",
   "metadata": {
    "papermill": {
     "duration": 0.013907,
     "end_time": "2022-10-18T03:45:56.091362",
     "exception": false,
     "start_time": "2022-10-18T03:45:56.077455",
     "status": "completed"
    },
    "tags": []
   },
   "outputs": [],
   "source": []
  }
 ],
 "metadata": {
  "kernelspec": {
   "display_name": "Python 3",
   "language": "python",
   "name": "python3"
  },
  "language_info": {
   "codemirror_mode": {
    "name": "ipython",
    "version": 3
   },
   "file_extension": ".py",
   "mimetype": "text/x-python",
   "name": "python",
   "nbconvert_exporter": "python",
   "pygments_lexer": "ipython3",
   "version": "3.6.15"
  },
  "papermill": {
   "default_parameters": {},
   "duration": 15.807036,
   "end_time": "2022-10-18T03:45:56.625792",
   "environment_variables": {},
   "exception": null,
   "input_path": "Market-News.ipynb",
   "output_path": "Market-News.ipynb",
   "parameters": {},
   "start_time": "2022-10-18T03:45:40.818756",
   "version": "2.2.2"
  }
 },
 "nbformat": 4,
 "nbformat_minor": 5
}