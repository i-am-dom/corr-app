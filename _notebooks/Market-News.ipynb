{
 "cells": [
  {
   "cell_type": "markdown",
   "id": "short-greensboro",
   "metadata": {
    "papermill": {
     "duration": 0.01395,
     "end_time": "2022-05-17T03:02:52.371551",
     "exception": false,
     "start_time": "2022-05-17T03:02:52.357601",
     "status": "completed"
    },
    "tags": []
   },
   "source": [
    "# Kriptovaliutų naujienos"
   ]
  },
  {
   "cell_type": "code",
   "execution_count": 1,
   "id": "functioning-knowing",
   "metadata": {
    "execution": {
     "iopub.execute_input": "2022-05-17T03:02:52.401026Z",
     "iopub.status.busy": "2022-05-17T03:02:52.400517Z",
     "iopub.status.idle": "2022-05-17T03:02:53.626340Z",
     "shell.execute_reply": "2022-05-17T03:02:53.626826Z"
    },
    "papermill": {
     "duration": 1.24571,
     "end_time": "2022-05-17T03:02:53.627014",
     "exception": false,
     "start_time": "2022-05-17T03:02:52.381304",
     "status": "completed"
    },
    "tags": []
   },
   "outputs": [],
   "source": [
    "#hide_input\n",
    "import warnings\n",
    "warnings.filterwarnings('ignore')\n",
    "from scripts.read_data import read_api\n",
    "from scripts.read_data import read_news\n",
    "from scripts.read_data import read_covid\n",
    "import matplotlib.pyplot as plt \n",
    "from IPython.display import Markdown as md"
   ]
  },
  {
   "cell_type": "code",
   "execution_count": 2,
   "id": "shared-acceptance",
   "metadata": {
    "execution": {
     "iopub.execute_input": "2022-05-17T03:02:53.653259Z",
     "iopub.status.busy": "2022-05-17T03:02:53.652751Z",
     "iopub.status.idle": "2022-05-17T03:03:03.951882Z",
     "shell.execute_reply": "2022-05-17T03:03:03.951318Z"
    },
    "papermill": {
     "duration": 10.314596,
     "end_time": "2022-05-17T03:03:03.952026",
     "exception": false,
     "start_time": "2022-05-17T03:02:53.637430",
     "status": "completed"
    },
    "tags": []
   },
   "outputs": [],
   "source": [
    "#hide_input\n",
    "blockchain = read_news('blockchain') \n",
    "btc = read_news('btc') \n",
    "xrp = read_news('xrp') \n",
    "trx = read_news('trx') \n",
    "eth = read_news('eth')  \n",
    "ada = read_news('ada')\n",
    "exchange = read_news('exchange') "
   ]
  },
  {
   "cell_type": "code",
   "execution_count": 3,
   "id": "synthetic-notion",
   "metadata": {
    "execution": {
     "iopub.execute_input": "2022-05-17T03:03:03.977267Z",
     "iopub.status.busy": "2022-05-17T03:03:03.976733Z",
     "iopub.status.idle": "2022-05-17T03:03:03.978877Z",
     "shell.execute_reply": "2022-05-17T03:03:03.979278Z"
    },
    "papermill": {
     "duration": 0.017383,
     "end_time": "2022-05-17T03:03:03.979397",
     "exception": false,
     "start_time": "2022-05-17T03:03:03.962014",
     "status": "completed"
    },
    "tags": []
   },
   "outputs": [
    {
     "data": {
      "text/markdown": [
       "- Zilliqa (ZIL) Maintains its 90 Days Gain.  Zilliqa is among the few cryptocurrencies that had maintained a bullish record in the past 90 days after the market entered into a short period of crypto winter. It is presently trading at $0.05352. Zilliqa native token ZIL has a 24 hours increase of 22.08% at the time of writing. Despite losing 29.93% and 50.40% of its price in the past 7 and 30 days, respectively, ZIL managed to gain 11.46% in the past 90 days. Zilliqa (ZIL) presently stands in position 73rd. Some factors that ensured most of its previous gains during the crypto winter include: Increased trading volume Moderate volume in circulation Increased activities within its blockchain. Increased Trading Volume Trading volume is one of the major factors to consider when evaluating the present and future stability of a cryptocurrency. The trading volume of Zilliqa (ZIL) moved from $29,997,324 on February 12, 2022 to $642,752,158 on May 12th, 2022. This change represents an increase in trading volume by 2042.69% in the past 90 days. This high surge in trading volume enabled ZIL to maintain some parts of its previous gains. Moderate Volume in Circulation One of the factors that can reduce the effect of crypto winter on a coin or token is its volume in circulation. Zilliqa has a circulating volume of about 61% out of its maximum supply of 21 billion. The optimistic predictions about its future performance have made it difficult to discard. Increased Activities Within its B... ... [| Skaityti daugiau](https://www.cryptoknowmics.com/news/zilliqa-zil-maintains-its-90-days-gain/?utm_source=rss&utm_medium=rss&utm_campaign=zilliqa-zil-maintains-its-90-days-gain) "
      ],
      "text/plain": [
       "<IPython.core.display.Markdown object>"
      ]
     },
     "execution_count": 3,
     "metadata": {},
     "output_type": "execute_result"
    }
   ],
   "source": [
    "#hide_input\n",
    "#md('##### {}'.format(titleBTC)) \n",
    "md(\"- {}{} {}{} [| Skaityti daugiau]({}) \".format(blockchain['title'],'. ', blockchain['body'], ' ...', blockchain['url']))"
   ]
  },
  {
   "cell_type": "code",
   "execution_count": 4,
   "id": "aging-caution",
   "metadata": {
    "execution": {
     "iopub.execute_input": "2022-05-17T03:03:04.003046Z",
     "iopub.status.busy": "2022-05-17T03:03:04.002457Z",
     "iopub.status.idle": "2022-05-17T03:03:04.004624Z",
     "shell.execute_reply": "2022-05-17T03:03:04.005107Z"
    },
    "papermill": {
     "duration": 0.016389,
     "end_time": "2022-05-17T03:03:04.005234",
     "exception": false,
     "start_time": "2022-05-17T03:03:03.988845",
     "status": "completed"
    },
    "tags": []
   },
   "outputs": [
    {
     "data": {
      "text/markdown": [
       "- Bitcoin, Ethereum, Loopring, and Celo Daily Price Analyses – 16 May Roundup.  The global crypto market has continued in the limbo of losses, affecting the ongoing negative changes. The performance of Bitcoin, Ethereum, and some others shows signs of a plain continuation of bearishness in a specific range. The losses of these coins have continued to remain in a specific range. The pattern of losses in the... ... [| Skaityti daugiau](https://www.cryptopolitan.com/bitcoin-ethereum-loopring-and-celo-daily-price-analyses-16-may-roundup/) "
      ],
      "text/plain": [
       "<IPython.core.display.Markdown object>"
      ]
     },
     "execution_count": 4,
     "metadata": {},
     "output_type": "execute_result"
    }
   ],
   "source": [
    "#hide_input\n",
    "#md('##### {}'.format(titleBTC)) \n",
    "md(\"- {}{} {}{} [| Skaityti daugiau]({}) \".format(btc['title'],'. ', btc['body'], ' ...', btc['url']))"
   ]
  },
  {
   "cell_type": "code",
   "execution_count": 5,
   "id": "organic-actress",
   "metadata": {
    "execution": {
     "iopub.execute_input": "2022-05-17T03:03:04.029065Z",
     "iopub.status.busy": "2022-05-17T03:03:04.028564Z",
     "iopub.status.idle": "2022-05-17T03:03:04.031377Z",
     "shell.execute_reply": "2022-05-17T03:03:04.030977Z"
    },
    "papermill": {
     "duration": 0.016398,
     "end_time": "2022-05-17T03:03:04.031480",
     "exception": false,
     "start_time": "2022-05-17T03:03:04.015082",
     "status": "completed"
    },
    "tags": []
   },
   "outputs": [
    {
     "data": {
      "text/markdown": [
       "- Why The Sandbox land sales will have little to no effect on SAND’s recovery.  Most of the DeFi tokens in the crypto space earn their value from the function and success of the protocol they stem from. Naturally, any change in the protocol’s ecosystem is bound to have a ripple effect on the token as well. However, that does not seem to be the case with The Sandbox. Out [&#8230;] ... [| Skaityti daugiau](https://ambcrypto.com/why-the-sandbox-land-sales-will-have-little-to-no-effect-on-sands-recovery/) "
      ],
      "text/plain": [
       "<IPython.core.display.Markdown object>"
      ]
     },
     "execution_count": 5,
     "metadata": {},
     "output_type": "execute_result"
    }
   ],
   "source": [
    "#hide_input\n",
    "#md('##### {}'.format(titleBTC)) \n",
    "md(\"- {}{} {}{} [| Skaityti daugiau]({}) \".format(xrp['title'],'. ', xrp['body'], ' ...', xrp['url']))"
   ]
  },
  {
   "cell_type": "code",
   "execution_count": 6,
   "id": "prompt-farmer",
   "metadata": {
    "execution": {
     "iopub.execute_input": "2022-05-17T03:03:04.056179Z",
     "iopub.status.busy": "2022-05-17T03:03:04.055564Z",
     "iopub.status.idle": "2022-05-17T03:03:04.057649Z",
     "shell.execute_reply": "2022-05-17T03:03:04.058127Z"
    },
    "papermill": {
     "duration": 0.016803,
     "end_time": "2022-05-17T03:03:04.058236",
     "exception": false,
     "start_time": "2022-05-17T03:03:04.041433",
     "status": "completed"
    },
    "tags": []
   },
   "outputs": [
    {
     "data": {
      "text/markdown": [
       "- Top 3 Projects With Market Capitalization Under $10B as per CryptoDep.  Avalanche has been down 6.05% in the last 24 hours. TRX were originally ERC-20-based tokens distributed on Ethereum. Let us ... [| Skaityti daugiau](https://thenewscrypto.com/top-3-projects-with-market-capitalization-under-10b-as-per-cryptodep/) "
      ],
      "text/plain": [
       "<IPython.core.display.Markdown object>"
      ]
     },
     "execution_count": 6,
     "metadata": {},
     "output_type": "execute_result"
    }
   ],
   "source": [
    "#hide_input\n",
    "#md('##### {}'.format(titleBTC)) \n",
    "md(\"- {}{} {}{} [| Skaityti daugiau]({}) \".format(trx['title'],'. ', trx['body'], ' ...', trx['url']))"
   ]
  },
  {
   "cell_type": "code",
   "execution_count": 7,
   "id": "illegal-greece",
   "metadata": {
    "execution": {
     "iopub.execute_input": "2022-05-17T03:03:04.084566Z",
     "iopub.status.busy": "2022-05-17T03:03:04.084062Z",
     "iopub.status.idle": "2022-05-17T03:03:04.088721Z",
     "shell.execute_reply": "2022-05-17T03:03:04.088299Z"
    },
    "papermill": {
     "duration": 0.018208,
     "end_time": "2022-05-17T03:03:04.088820",
     "exception": false,
     "start_time": "2022-05-17T03:03:04.070612",
     "status": "completed"
    },
    "tags": []
   },
   "outputs": [
    {
     "data": {
      "text/markdown": [
       "- Bitcoin, Ethereum, Loopring, and Celo Daily Price Analyses – 16 May Roundup.  The global crypto market has continued in the limbo of losses, affecting the ongoing negative changes. The performance of Bitcoin, Ethereum, and some others shows signs of a plain continuation of bearishness in a specific range. The losses of these coins have continued to remain in a specific range. The pattern of losses in the... ... [| Skaityti daugiau](https://www.cryptopolitan.com/bitcoin-ethereum-loopring-and-celo-daily-price-analyses-16-may-roundup/) "
      ],
      "text/plain": [
       "<IPython.core.display.Markdown object>"
      ]
     },
     "execution_count": 7,
     "metadata": {},
     "output_type": "execute_result"
    }
   ],
   "source": [
    "#hide_input\n",
    "#md('##### {}'.format(titleBTC)) \n",
    "md(\"- {}{} {}{} [| Skaityti daugiau]({}) \".format(eth['title'],'. ', eth['body'], ' ...', eth['url']))"
   ]
  },
  {
   "cell_type": "code",
   "execution_count": 8,
   "id": "sublime-lounge",
   "metadata": {
    "execution": {
     "iopub.execute_input": "2022-05-17T03:03:04.114489Z",
     "iopub.status.busy": "2022-05-17T03:03:04.113999Z",
     "iopub.status.idle": "2022-05-17T03:03:04.117253Z",
     "shell.execute_reply": "2022-05-17T03:03:04.116856Z"
    },
    "papermill": {
     "duration": 0.017978,
     "end_time": "2022-05-17T03:03:04.117353",
     "exception": false,
     "start_time": "2022-05-17T03:03:04.099375",
     "status": "completed"
    },
    "tags": []
   },
   "outputs": [
    {
     "data": {
      "text/markdown": [
       "- Are cryptocurrencies really dangerous to the environment?.  Energy consumption has emerged as one of the most contentious issues surrounding cryptocurrencies as a direct consequence of the widespread digital currency usage and popularity. Assuming that prices and user acceptance continue to grow at their current rates, cryptocurrency energy consumption will continue to rise in the future. There is no question that if greenhouse gas emissions continue at their current rate, there will be some adverse effects on global warming in the not too distant future. Environmentally Friendly and Unfriendly Cryptocurrencies Cryptocurrencies have an immediate negative impact on the environment. It is because of the energy-intensive processes involved with mining new coins and validating and recording crypto transactions on the blockchain. Each cryptocurrency’s amount of energy required to mine it is unique and determined by its consensus protocol. Some cryptocurrencies, such as Cardano (ADA) and Tron (TRX), use a proof-of-stake consensus protocol and therefore use relatively little energy. Hence, they are known to be environmentally friendly. Other cryptocurrencies like Bitcoin and Litecoin are renowned for being environmentally unfriendly because they are excessively energy-intensive. This exorbitant energy consumption is a result of their proof-of-work consensus protocol. Why is Bitcoin’s energy use in the headlines so frequently? Aside from discussions regarding its volatility, the media frequent... ... [| Skaityti daugiau](https://www.cryptoknowmics.com/news/are-cryptocurrencies-really-dangerous-to-the-environment/?utm_source=rss&utm_medium=rss&utm_campaign=are-cryptocurrencies-really-dangerous-to-the-environment) "
      ],
      "text/plain": [
       "<IPython.core.display.Markdown object>"
      ]
     },
     "execution_count": 8,
     "metadata": {},
     "output_type": "execute_result"
    }
   ],
   "source": [
    "#hide_input\n",
    "#md('##### {}'.format(titleBTC)) \n",
    "md(\"- {}{} {}{} [| Skaityti daugiau]({}) \".format(ada['title'],'. ', ada['body'], ' ...', ada['url']))"
   ]
  },
  {
   "cell_type": "code",
   "execution_count": 9,
   "id": "specified-ordering",
   "metadata": {
    "execution": {
     "iopub.execute_input": "2022-05-17T03:03:04.143515Z",
     "iopub.status.busy": "2022-05-17T03:03:04.142446Z",
     "iopub.status.idle": "2022-05-17T03:03:04.146148Z",
     "shell.execute_reply": "2022-05-17T03:03:04.146524Z"
    },
    "papermill": {
     "duration": 0.01834,
     "end_time": "2022-05-17T03:03:04.146635",
     "exception": false,
     "start_time": "2022-05-17T03:03:04.128295",
     "status": "completed"
    },
    "tags": []
   },
   "outputs": [
    {
     "data": {
      "text/markdown": [
       "- Metamask wallet review : Features, Pros and Cons.  MetaMask is an ETH wallet and web version for Chrome, Brave, Edge, and Firefox. It links the browsers to the ETH platform and allows you to save keys for Ethereum and ERC-20 tokens on all compatible browsers. Moreover, Metamask works hand in hand with two exchange platforms – Coinbase and ShapeShift. It lets users buy Ethereum straight from both platforms along with ERC-20 tokens. Pros and Cons of Metamask wallet Pros MetaMask is simple to install and configure on a PC and many gadgets. Create one wallet, then use the 12-word seed phrase to import it across devices. Metamask is a wallet, not a cryptocurrency exchange. Users can easily access a wallet by only downloading the program and transferring no private data. You can create several wallet addresses among blockchains upon establishing MetaMask. It offers people much more privacy and access to wallets for any specific payment. Users can use their wallets to hold the tokens and non-fungible tokens (NFTs) on various blockchains. Examples – Ether main chain, Binance BNB chain, Polygon, Avalanche, and other test networks. Cons There is no method to recover a wallet’s security code except the 12-word seed phrase established while generating the wallet. The help desk cannot assist individuals in recovering their login information or seed phrases because MetaMask is a non-custodial wallet. Limited computer assistance: The self-help site, the community bulletin board, and e-mail a... ... [| Skaityti daugiau](https://www.cryptoknowmics.com/news/metamask-wallet-review-features-pros-and-cons/?utm_source=rss&utm_medium=rss&utm_campaign=metamask-wallet-review-features-pros-and-cons) "
      ],
      "text/plain": [
       "<IPython.core.display.Markdown object>"
      ]
     },
     "execution_count": 9,
     "metadata": {},
     "output_type": "execute_result"
    }
   ],
   "source": [
    "#hide_input\n",
    "#md('##### {}'.format(titleBTC)) \n",
    "md(\"- {}{} {}{} [| Skaityti daugiau]({}) \".format(exchange['title'],'. ', exchange['body'], ' ...', exchange['url']))"
   ]
  },
  {
   "cell_type": "code",
   "execution_count": null,
   "id": "tender-livestock",
   "metadata": {
    "papermill": {
     "duration": 0.011319,
     "end_time": "2022-05-17T03:03:04.169256",
     "exception": false,
     "start_time": "2022-05-17T03:03:04.157937",
     "status": "completed"
    },
    "tags": []
   },
   "outputs": [],
   "source": []
  },
  {
   "cell_type": "code",
   "execution_count": null,
   "id": "appreciated-diamond",
   "metadata": {
    "papermill": {
     "duration": 0.011256,
     "end_time": "2022-05-17T03:03:04.191990",
     "exception": false,
     "start_time": "2022-05-17T03:03:04.180734",
     "status": "completed"
    },
    "tags": []
   },
   "outputs": [],
   "source": []
  },
  {
   "cell_type": "code",
   "execution_count": null,
   "id": "romance-sweden",
   "metadata": {
    "papermill": {
     "duration": 0.011359,
     "end_time": "2022-05-17T03:03:04.215728",
     "exception": false,
     "start_time": "2022-05-17T03:03:04.204369",
     "status": "completed"
    },
    "tags": []
   },
   "outputs": [],
   "source": []
  },
  {
   "cell_type": "code",
   "execution_count": null,
   "id": "dietary-statistics",
   "metadata": {
    "papermill": {
     "duration": 0.01134,
     "end_time": "2022-05-17T03:03:04.238305",
     "exception": false,
     "start_time": "2022-05-17T03:03:04.226965",
     "status": "completed"
    },
    "tags": []
   },
   "outputs": [],
   "source": []
  }
 ],
 "metadata": {
  "kernelspec": {
   "display_name": "Python 3",
   "language": "python",
   "name": "python3"
  },
  "language_info": {
   "codemirror_mode": {
    "name": "ipython",
    "version": 3
   },
   "file_extension": ".py",
   "mimetype": "text/x-python",
   "name": "python",
   "nbconvert_exporter": "python",
   "pygments_lexer": "ipython3",
   "version": "3.6.15"
  },
  "papermill": {
   "default_parameters": {},
   "duration": 13.348303,
   "end_time": "2022-05-17T03:03:04.768988",
   "environment_variables": {},
   "exception": null,
   "input_path": "Market-News.ipynb",
   "output_path": "Market-News.ipynb",
   "parameters": {},
   "start_time": "2022-05-17T03:02:51.420685",
   "version": "2.2.2"
  }
 },
 "nbformat": 4,
 "nbformat_minor": 5
}