{
 "cells": [
  {
   "cell_type": "markdown",
   "id": "short-greensboro",
   "metadata": {
    "papermill": {
     "duration": 0.016969,
     "end_time": "2022-11-19T02:48:21.384421",
     "exception": false,
     "start_time": "2022-11-19T02:48:21.367452",
     "status": "completed"
    },
    "tags": []
   },
   "source": [
    "# Kriptovaliutų naujienos"
   ]
  },
  {
   "cell_type": "code",
   "execution_count": 1,
   "id": "functioning-knowing",
   "metadata": {
    "execution": {
     "iopub.execute_input": "2022-11-19T02:48:21.419999Z",
     "iopub.status.busy": "2022-11-19T02:48:21.418886Z",
     "iopub.status.idle": "2022-11-19T02:48:22.837755Z",
     "shell.execute_reply": "2022-11-19T02:48:22.837158Z"
    },
    "papermill": {
     "duration": 1.441842,
     "end_time": "2022-11-19T02:48:22.837913",
     "exception": false,
     "start_time": "2022-11-19T02:48:21.396071",
     "status": "completed"
    },
    "tags": []
   },
   "outputs": [],
   "source": [
    "#hide_input\n",
    "import warnings\n",
    "warnings.filterwarnings('ignore')\n",
    "from scripts.read_data import read_api\n",
    "from scripts.read_data import read_news\n",
    "from scripts.read_data import read_covid\n",
    "import matplotlib.pyplot as plt \n",
    "from IPython.display import Markdown as md"
   ]
  },
  {
   "cell_type": "code",
   "execution_count": 2,
   "id": "shared-acceptance",
   "metadata": {
    "execution": {
     "iopub.execute_input": "2022-11-19T02:48:22.868637Z",
     "iopub.status.busy": "2022-11-19T02:48:22.867948Z",
     "iopub.status.idle": "2022-11-19T02:48:30.409126Z",
     "shell.execute_reply": "2022-11-19T02:48:30.410109Z"
    },
    "papermill": {
     "duration": 7.559487,
     "end_time": "2022-11-19T02:48:30.410293",
     "exception": false,
     "start_time": "2022-11-19T02:48:22.850806",
     "status": "completed"
    },
    "tags": []
   },
   "outputs": [],
   "source": [
    "#hide_input\n",
    "blockchain = read_news('blockchain') \n",
    "btc = read_news('btc') \n",
    "xrp = read_news('xrp') \n",
    "trx = read_news('trx') \n",
    "eth = read_news('eth')  \n",
    "ada = read_news('ada')\n",
    "exchange = read_news('exchange') "
   ]
  },
  {
   "cell_type": "code",
   "execution_count": 3,
   "id": "synthetic-notion",
   "metadata": {
    "execution": {
     "iopub.execute_input": "2022-11-19T02:48:30.439828Z",
     "iopub.status.busy": "2022-11-19T02:48:30.439024Z",
     "iopub.status.idle": "2022-11-19T02:48:30.442201Z",
     "shell.execute_reply": "2022-11-19T02:48:30.442719Z"
    },
    "papermill": {
     "duration": 0.021984,
     "end_time": "2022-11-19T02:48:30.442856",
     "exception": false,
     "start_time": "2022-11-19T02:48:30.420872",
     "status": "completed"
    },
    "tags": []
   },
   "outputs": [
    {
     "data": {
      "text/markdown": [
       "- Dogecoin and Shiba Inu Prices Still in a Freefall, Orbeon Protocol Keeps Rising.  Dogecoin (DOGE) and Shiba Inu (SHIB) are two of the world’s most famous memecoins, both of which made investors millions when they reached an all-time high (ATH) in 2021. However, both have experienced new lows throughout 2022. Despite this decrease in the market, Orbeon Protocol (ORBN), an innovative new crypto project, continues to rise in The post Dogecoin and Shiba Inu Prices Still in a Freefall, Orbeon Protocol Keeps Rising appeared first on NullTX . ... [| Skaityti daugiau](https://nulltx.com/dogecoin-and-shiba-inu-prices-still-in-a-freefall-orbeon-protocol-keeps-rising/) "
      ],
      "text/plain": [
       "<IPython.core.display.Markdown object>"
      ]
     },
     "execution_count": 3,
     "metadata": {},
     "output_type": "execute_result"
    }
   ],
   "source": [
    "#hide_input\n",
    "#md('##### {}'.format(titleBTC)) \n",
    "md(\"- {}{} {}{} [| Skaityti daugiau]({}) \".format(blockchain['title'],'. ', blockchain['body'], ' ...', blockchain['url']))"
   ]
  },
  {
   "cell_type": "code",
   "execution_count": 4,
   "id": "aging-caution",
   "metadata": {
    "execution": {
     "iopub.execute_input": "2022-11-19T02:48:30.470808Z",
     "iopub.status.busy": "2022-11-19T02:48:30.469796Z",
     "iopub.status.idle": "2022-11-19T02:48:30.474597Z",
     "shell.execute_reply": "2022-11-19T02:48:30.473853Z"
    },
    "papermill": {
     "duration": 0.020452,
     "end_time": "2022-11-19T02:48:30.474719",
     "exception": false,
     "start_time": "2022-11-19T02:48:30.454267",
     "status": "completed"
    },
    "tags": []
   },
   "outputs": [
    {
     "data": {
      "text/markdown": [
       "- Bitcoiner Drake Shows Off His Bedazzled Ledger Nano Crypto Hardware Wallet.  On Friday (18 November 2022), Canadian rapper, singer, actor Drake, who showed off what appears to be a Ledger Nano hardware wallet bedazzled with Swarovski crystals. Per a report by Casino.org, the 36-year-old Toronto-born artist joined the world’s biggest cryptocurrency sportsbook and casino Stake in December 2021 under the username “DeepPockets6” and “in just two ... [| Skaityti daugiau](https://www.cryptoglobe.com/latest/2022/11/bitcoiner-drake-shows-off-his-bedazzled-ledger-nano-crypto-hardware-wallet/) "
      ],
      "text/plain": [
       "<IPython.core.display.Markdown object>"
      ]
     },
     "execution_count": 4,
     "metadata": {},
     "output_type": "execute_result"
    }
   ],
   "source": [
    "#hide_input\n",
    "#md('##### {}'.format(titleBTC)) \n",
    "md(\"- {}{} {}{} [| Skaityti daugiau]({}) \".format(btc['title'],'. ', btc['body'], ' ...', btc['url']))"
   ]
  },
  {
   "cell_type": "code",
   "execution_count": 5,
   "id": "organic-actress",
   "metadata": {
    "execution": {
     "iopub.execute_input": "2022-11-19T02:48:30.502753Z",
     "iopub.status.busy": "2022-11-19T02:48:30.501688Z",
     "iopub.status.idle": "2022-11-19T02:48:30.506024Z",
     "shell.execute_reply": "2022-11-19T02:48:30.506620Z"
    },
    "papermill": {
     "duration": 0.020435,
     "end_time": "2022-11-19T02:48:30.506757",
     "exception": false,
     "start_time": "2022-11-19T02:48:30.486322",
     "status": "completed"
    },
    "tags": []
   },
   "outputs": [
    {
     "data": {
      "text/markdown": [
       "- XRP Forms Pattern That Once Led To 12% Spike: Crypto Market Review, Nov. 18.  XRP is forming interesting patterns that traders and investors should look out for ... [| Skaityti daugiau](https://u.today/xrp-forms-pattern-that-once-led-to-12-spike-crypto-market-review-nov-18) "
      ],
      "text/plain": [
       "<IPython.core.display.Markdown object>"
      ]
     },
     "execution_count": 5,
     "metadata": {},
     "output_type": "execute_result"
    }
   ],
   "source": [
    "#hide_input\n",
    "#md('##### {}'.format(titleBTC)) \n",
    "md(\"- {}{} {}{} [| Skaityti daugiau]({}) \".format(xrp['title'],'. ', xrp['body'], ' ...', xrp['url']))"
   ]
  },
  {
   "cell_type": "code",
   "execution_count": 6,
   "id": "prompt-farmer",
   "metadata": {
    "execution": {
     "iopub.execute_input": "2022-11-19T02:48:30.538717Z",
     "iopub.status.busy": "2022-11-19T02:48:30.537796Z",
     "iopub.status.idle": "2022-11-19T02:48:30.543577Z",
     "shell.execute_reply": "2022-11-19T02:48:30.543016Z"
    },
    "papermill": {
     "duration": 0.024593,
     "end_time": "2022-11-19T02:48:30.543694",
     "exception": false,
     "start_time": "2022-11-19T02:48:30.519101",
     "status": "completed"
    },
    "tags": []
   },
   "outputs": [
    {
     "data": {
      "text/markdown": [
       "- Tron Price Prediction 2023-2031: Is it a Good Time to buy TRX?.  Tron Price Prediction 2023-2031 Tron Price Prediction 2023 – up to $0.091 Tron Price Prediction 2025 – up to $0.19 Tron Price Prediction 2028 – up to $0.57 Tron Price Prediction 2031 – up to $1.71 TRX, or rather Tronix, is the native crypto asset of the TRON Network.TRON is a Blockchain-based decentralized network targeting an … Tron Price Prediction 2023-2031: Is it a Good Time to buy TRX? Read More » ... [| Skaityti daugiau](https://www.cryptopolitan.com/tron-price-prediction/) "
      ],
      "text/plain": [
       "<IPython.core.display.Markdown object>"
      ]
     },
     "execution_count": 6,
     "metadata": {},
     "output_type": "execute_result"
    }
   ],
   "source": [
    "#hide_input\n",
    "#md('##### {}'.format(titleBTC)) \n",
    "md(\"- {}{} {}{} [| Skaityti daugiau]({}) \".format(trx['title'],'. ', trx['body'], ' ...', trx['url']))"
   ]
  },
  {
   "cell_type": "code",
   "execution_count": 7,
   "id": "illegal-greece",
   "metadata": {
    "execution": {
     "iopub.execute_input": "2022-11-19T02:48:30.571632Z",
     "iopub.status.busy": "2022-11-19T02:48:30.570976Z",
     "iopub.status.idle": "2022-11-19T02:48:30.574930Z",
     "shell.execute_reply": "2022-11-19T02:48:30.575574Z"
    },
    "papermill": {
     "duration": 0.02063,
     "end_time": "2022-11-19T02:48:30.575696",
     "exception": false,
     "start_time": "2022-11-19T02:48:30.555066",
     "status": "completed"
    },
    "tags": []
   },
   "outputs": [
    {
     "data": {
      "text/markdown": [
       "- Is Solana Next to Enter Cryptocurrency Graveyard?.  Current cryptocurrency market and FTX circumstances may prevent Solana from reaching its target of being Ethereum killer ... [| Skaityti daugiau](https://u.today/is-solana-next-to-enter-cryptocurrency-graveyard) "
      ],
      "text/plain": [
       "<IPython.core.display.Markdown object>"
      ]
     },
     "execution_count": 7,
     "metadata": {},
     "output_type": "execute_result"
    }
   ],
   "source": [
    "#hide_input\n",
    "#md('##### {}'.format(titleBTC)) \n",
    "md(\"- {}{} {}{} [| Skaityti daugiau]({}) \".format(eth['title'],'. ', eth['body'], ' ...', eth['url']))"
   ]
  },
  {
   "cell_type": "code",
   "execution_count": 8,
   "id": "sublime-lounge",
   "metadata": {
    "execution": {
     "iopub.execute_input": "2022-11-19T02:48:30.606229Z",
     "iopub.status.busy": "2022-11-19T02:48:30.605563Z",
     "iopub.status.idle": "2022-11-19T02:48:30.609760Z",
     "shell.execute_reply": "2022-11-19T02:48:30.609257Z"
    },
    "papermill": {
     "duration": 0.022009,
     "end_time": "2022-11-19T02:48:30.609869",
     "exception": false,
     "start_time": "2022-11-19T02:48:30.587860",
     "status": "completed"
    },
    "tags": []
   },
   "outputs": [
    {
     "data": {
      "text/markdown": [
       "- $ADA: Cardano Getting Its First Fully Dollar-Backed Regulatory-Compliant Stablecoin.  On Friday (18 November 2022), EMURGO, which is the commercial arm of Cardano, announced the planned launch of its new dollar-backed stablecoin USDA, which is “the first fully fiat-backed, regulatory compliant stablecoin in the Cardano ecosystem.” EMURGO, which was founded in 2017, is “a global blockchain technology company providing solutions for developers, startups, enterprises, and governments”; ... [| Skaityti daugiau](https://www.cryptoglobe.com/latest/2022/11/ada-cardano-getting-its-first-fully-dollar-backed-regulatory-compliant-stablecoin/) "
      ],
      "text/plain": [
       "<IPython.core.display.Markdown object>"
      ]
     },
     "execution_count": 8,
     "metadata": {},
     "output_type": "execute_result"
    }
   ],
   "source": [
    "#hide_input\n",
    "#md('##### {}'.format(titleBTC)) \n",
    "md(\"- {}{} {}{} [| Skaityti daugiau]({}) \".format(ada['title'],'. ', ada['body'], ' ...', ada['url']))"
   ]
  },
  {
   "cell_type": "code",
   "execution_count": 9,
   "id": "specified-ordering",
   "metadata": {
    "execution": {
     "iopub.execute_input": "2022-11-19T02:48:30.636819Z",
     "iopub.status.busy": "2022-11-19T02:48:30.636151Z",
     "iopub.status.idle": "2022-11-19T02:48:30.642803Z",
     "shell.execute_reply": "2022-11-19T02:48:30.642260Z"
    },
    "papermill": {
     "duration": 0.021002,
     "end_time": "2022-11-19T02:48:30.642917",
     "exception": false,
     "start_time": "2022-11-19T02:48:30.621915",
     "status": "completed"
    },
    "tags": []
   },
   "outputs": [
    {
     "data": {
      "text/markdown": [
       "- Bahamas Regulator Takes Action to Seize FTX’s Cryptocurrencies to ‘Protect’ Clients and Creditors.  The Securities Commission of the Bahamas has ordered crypto exchange FTX to transfer its cryptocurrencies to a wallet controlled by the regulator. The “Urgent interim regulatory action was necessary to protect the interests” of FTX’s clients and creditors, said the regulator. Bahamas Regulator Takes Action to Seize FTX’s Cryptocurrencies for ‘Safekeeping’ The Securities Commission of ... [| Skaityti daugiau](https://news.bitcoin.com/bahamas-regulator-takes-action-to-seize-ftxs-cryptocurrencies-to-protect-clients-and-creditors/) "
      ],
      "text/plain": [
       "<IPython.core.display.Markdown object>"
      ]
     },
     "execution_count": 9,
     "metadata": {},
     "output_type": "execute_result"
    }
   ],
   "source": [
    "#hide_input\n",
    "#md('##### {}'.format(titleBTC)) \n",
    "md(\"- {}{} {}{} [| Skaityti daugiau]({}) \".format(exchange['title'],'. ', exchange['body'], ' ...', exchange['url']))"
   ]
  },
  {
   "cell_type": "code",
   "execution_count": null,
   "id": "tender-livestock",
   "metadata": {
    "papermill": {
     "duration": 0.012397,
     "end_time": "2022-11-19T02:48:30.667802",
     "exception": false,
     "start_time": "2022-11-19T02:48:30.655405",
     "status": "completed"
    },
    "tags": []
   },
   "outputs": [],
   "source": []
  },
  {
   "cell_type": "code",
   "execution_count": null,
   "id": "appreciated-diamond",
   "metadata": {
    "papermill": {
     "duration": 0.012441,
     "end_time": "2022-11-19T02:48:30.692529",
     "exception": false,
     "start_time": "2022-11-19T02:48:30.680088",
     "status": "completed"
    },
    "tags": []
   },
   "outputs": [],
   "source": []
  },
  {
   "cell_type": "code",
   "execution_count": null,
   "id": "romance-sweden",
   "metadata": {
    "papermill": {
     "duration": 0.0124,
     "end_time": "2022-11-19T02:48:30.717443",
     "exception": false,
     "start_time": "2022-11-19T02:48:30.705043",
     "status": "completed"
    },
    "tags": []
   },
   "outputs": [],
   "source": []
  },
  {
   "cell_type": "code",
   "execution_count": null,
   "id": "dietary-statistics",
   "metadata": {
    "papermill": {
     "duration": 0.012414,
     "end_time": "2022-11-19T02:48:30.742284",
     "exception": false,
     "start_time": "2022-11-19T02:48:30.729870",
     "status": "completed"
    },
    "tags": []
   },
   "outputs": [],
   "source": []
  }
 ],
 "metadata": {
  "kernelspec": {
   "display_name": "Python 3",
   "language": "python",
   "name": "python3"
  },
  "language_info": {
   "codemirror_mode": {
    "name": "ipython",
    "version": 3
   },
   "file_extension": ".py",
   "mimetype": "text/x-python",
   "name": "python",
   "nbconvert_exporter": "python",
   "pygments_lexer": "ipython3",
   "version": "3.6.15"
  },
  "papermill": {
   "default_parameters": {},
   "duration": 11.182844,
   "end_time": "2022-11-19T02:48:31.275869",
   "environment_variables": {},
   "exception": null,
   "input_path": "Market-News.ipynb",
   "output_path": "Market-News.ipynb",
   "parameters": {},
   "start_time": "2022-11-19T02:48:20.093025",
   "version": "2.2.2"
  }
 },
 "nbformat": 4,
 "nbformat_minor": 5
}