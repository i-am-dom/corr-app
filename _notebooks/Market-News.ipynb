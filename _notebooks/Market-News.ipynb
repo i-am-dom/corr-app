{
 "cells": [
  {
   "cell_type": "markdown",
   "id": "short-greensboro",
   "metadata": {
    "papermill": {
     "duration": 0.014606,
     "end_time": "2022-07-20T03:15:21.888195",
     "exception": false,
     "start_time": "2022-07-20T03:15:21.873589",
     "status": "completed"
    },
    "tags": []
   },
   "source": [
    "# Kriptovaliutų naujienos"
   ]
  },
  {
   "cell_type": "code",
   "execution_count": 1,
   "id": "functioning-knowing",
   "metadata": {
    "execution": {
     "iopub.execute_input": "2022-07-20T03:15:21.923007Z",
     "iopub.status.busy": "2022-07-20T03:15:21.922245Z",
     "iopub.status.idle": "2022-07-20T03:15:23.382790Z",
     "shell.execute_reply": "2022-07-20T03:15:23.382183Z"
    },
    "papermill": {
     "duration": 1.483611,
     "end_time": "2022-07-20T03:15:23.382960",
     "exception": false,
     "start_time": "2022-07-20T03:15:21.899349",
     "status": "completed"
    },
    "tags": []
   },
   "outputs": [],
   "source": [
    "#hide_input\n",
    "import warnings\n",
    "warnings.filterwarnings('ignore')\n",
    "from scripts.read_data import read_api\n",
    "from scripts.read_data import read_news\n",
    "from scripts.read_data import read_covid\n",
    "import matplotlib.pyplot as plt \n",
    "from IPython.display import Markdown as md"
   ]
  },
  {
   "cell_type": "code",
   "execution_count": 2,
   "id": "shared-acceptance",
   "metadata": {
    "execution": {
     "iopub.execute_input": "2022-07-20T03:15:23.411544Z",
     "iopub.status.busy": "2022-07-20T03:15:23.410329Z",
     "iopub.status.idle": "2022-07-20T03:15:34.964901Z",
     "shell.execute_reply": "2022-07-20T03:15:34.964134Z"
    },
    "papermill": {
     "duration": 11.571278,
     "end_time": "2022-07-20T03:15:34.965084",
     "exception": false,
     "start_time": "2022-07-20T03:15:23.393806",
     "status": "completed"
    },
    "tags": []
   },
   "outputs": [],
   "source": [
    "#hide_input\n",
    "blockchain = read_news('blockchain') \n",
    "btc = read_news('btc') \n",
    "xrp = read_news('xrp') \n",
    "trx = read_news('trx') \n",
    "eth = read_news('eth')  \n",
    "ada = read_news('ada')\n",
    "exchange = read_news('exchange') "
   ]
  },
  {
   "cell_type": "code",
   "execution_count": 3,
   "id": "synthetic-notion",
   "metadata": {
    "execution": {
     "iopub.execute_input": "2022-07-20T03:15:34.995197Z",
     "iopub.status.busy": "2022-07-20T03:15:34.994164Z",
     "iopub.status.idle": "2022-07-20T03:15:34.999687Z",
     "shell.execute_reply": "2022-07-20T03:15:35.000194Z"
    },
    "papermill": {
     "duration": 0.024002,
     "end_time": "2022-07-20T03:15:35.000357",
     "exception": false,
     "start_time": "2022-07-20T03:15:34.976355",
     "status": "completed"
    },
    "tags": []
   },
   "outputs": [
    {
     "data": {
      "text/markdown": [
       "- Cadbury Gems Enters The NFT Space With Philanthropic Intentions.  Cadbury Gems proceeded into the world of Non-Fungible Token (NFT) collection through their new campaign. The campaign is called the Junior NFT campaign. The chocolate manufacturing company has decided on a blockchain collaboration with a philanthropic purpose. The blockchain platform, GuardianLink will be working to convert the artwork made by children across the country into [&#8230;] ... [| Skaityti daugiau](https://bitcoinist.com/cadbury-gems-nft-space-philanthropic-intentions/) "
      ],
      "text/plain": [
       "<IPython.core.display.Markdown object>"
      ]
     },
     "execution_count": 3,
     "metadata": {},
     "output_type": "execute_result"
    }
   ],
   "source": [
    "#hide_input\n",
    "#md('##### {}'.format(titleBTC)) \n",
    "md(\"- {}{} {}{} [| Skaityti daugiau]({}) \".format(blockchain['title'],'. ', blockchain['body'], ' ...', blockchain['url']))"
   ]
  },
  {
   "cell_type": "code",
   "execution_count": 4,
   "id": "aging-caution",
   "metadata": {
    "execution": {
     "iopub.execute_input": "2022-07-20T03:15:35.028431Z",
     "iopub.status.busy": "2022-07-20T03:15:35.027614Z",
     "iopub.status.idle": "2022-07-20T03:15:35.031950Z",
     "shell.execute_reply": "2022-07-20T03:15:35.031402Z"
    },
    "papermill": {
     "duration": 0.020987,
     "end_time": "2022-07-20T03:15:35.032096",
     "exception": false,
     "start_time": "2022-07-20T03:15:35.011109",
     "status": "completed"
    },
    "tags": []
   },
   "outputs": [
    {
     "data": {
      "text/markdown": [
       "- TA: Bitcoin Price Surge Could Extend Above $24K, Indicators Turn Green.  Bitcoin gained pace above the $23,000 resistance against the US Dollar. BTC could rise further towards $24,000 if it stays above the $22,750 support. Bitcoin climbed over 5% and there was a move above the $23,000 resistance zone. The price is now trading above the $22,750 level and testing the 100 hourly simple moving average. There is a major bullish trend line forming with support near $22,750 on the hourly chart of the BTC/USD pair (data feed from Kraken). The pair might continue to rise if it clears the $23,500 and $22,750 levels. Bitcoin Price Starts Fresh Increase Bitcoin price started a decent increase after it managed to settle above the $22,000 resistance zone. BTC gained pace for a move above the $23,000 resistance level. The price even broke the $23,500 level and settled above the 100 hourly simple moving average. A high was formed near $23,782 and the price is now consolidating gains. There was a minor downside correction below the $23,500 level. Bitcoin traded below the 23.6% Fib retracement level of the upward move from the $21,403 swing low to $23,782 high. However, the bulls were active near the $23,000 support zone. There is also a major bullish trend line forming with support near $22,750 on the hourly chart of the BTC/USD pair. On the upside, bitcoin price could face resistance near the $23,500 level. The next key resistance is near the $23,750 zone. Source: BTCUSD on TradingView.com A close above the $23,75... ... [| Skaityti daugiau](https://www.newsbtc.com/analysis/btc/bitcoin-price-surge-24k/) "
      ],
      "text/plain": [
       "<IPython.core.display.Markdown object>"
      ]
     },
     "execution_count": 4,
     "metadata": {},
     "output_type": "execute_result"
    }
   ],
   "source": [
    "#hide_input\n",
    "#md('##### {}'.format(titleBTC)) \n",
    "md(\"- {}{} {}{} [| Skaityti daugiau]({}) \".format(btc['title'],'. ', btc['body'], ' ...', btc['url']))"
   ]
  },
  {
   "cell_type": "code",
   "execution_count": 5,
   "id": "organic-actress",
   "metadata": {
    "execution": {
     "iopub.execute_input": "2022-07-20T03:15:35.062288Z",
     "iopub.status.busy": "2022-07-20T03:15:35.061522Z",
     "iopub.status.idle": "2022-07-20T03:15:35.065397Z",
     "shell.execute_reply": "2022-07-20T03:15:35.065962Z"
    },
    "papermill": {
     "duration": 0.022721,
     "end_time": "2022-07-20T03:15:35.066124",
     "exception": false,
     "start_time": "2022-07-20T03:15:35.043403",
     "status": "completed"
    },
    "tags": []
   },
   "outputs": [
    {
     "data": {
      "text/markdown": [
       "- Ripple Co-Founder Jed McCaleb Made $3 Billion Through $XRP Sales, Estimates Suggest.  Ripple co-founder Jed McCaleb has sold the last of his $XRP on his “tacostand” wallet on the XRP Ledger after originally owning 9 billion tokens in 2013, when the network was created. Estimates suggest McCaleb made $3 billion through the sale of his tokens. McCaleb is said to have started working on Ripple back in […] ... [| Skaityti daugiau](https://www.cryptoglobe.com/latest/2022/07/ripple-co-founder-jed-mccaleb-made-3-billion-through-xrp-sales-estimates-suggest/) "
      ],
      "text/plain": [
       "<IPython.core.display.Markdown object>"
      ]
     },
     "execution_count": 5,
     "metadata": {},
     "output_type": "execute_result"
    }
   ],
   "source": [
    "#hide_input\n",
    "#md('##### {}'.format(titleBTC)) \n",
    "md(\"- {}{} {}{} [| Skaityti daugiau]({}) \".format(xrp['title'],'. ', xrp['body'], ' ...', xrp['url']))"
   ]
  },
  {
   "cell_type": "code",
   "execution_count": 6,
   "id": "prompt-farmer",
   "metadata": {
    "execution": {
     "iopub.execute_input": "2022-07-20T03:15:35.096948Z",
     "iopub.status.busy": "2022-07-20T03:15:35.095987Z",
     "iopub.status.idle": "2022-07-20T03:15:35.100391Z",
     "shell.execute_reply": "2022-07-20T03:15:35.099857Z"
    },
    "papermill": {
     "duration": 0.022165,
     "end_time": "2022-07-20T03:15:35.100528",
     "exception": false,
     "start_time": "2022-07-20T03:15:35.078363",
     "status": "completed"
    },
    "tags": []
   },
   "outputs": [
    {
     "data": {
      "text/markdown": [
       "- Still want to hold on to TRX? Here’s why this level is worth looking out for.  Disclaimer: The findings of the following analysis are the sole opinions of the writer and should not be considered investment advice After registering double-digit gains in its rising wedge, Tron [TRX] saw an expected breakdown from its reversal pattern. The decline from the 50 EMA (cyan) helped sellers keep the buying pressure under check. An inability [&#8230;] ... [| Skaityti daugiau](https://ambcrypto.com/still-want-to-hold-on-to-trx-heres-why-this-level-is-worth-looking-out-for/) "
      ],
      "text/plain": [
       "<IPython.core.display.Markdown object>"
      ]
     },
     "execution_count": 6,
     "metadata": {},
     "output_type": "execute_result"
    }
   ],
   "source": [
    "#hide_input\n",
    "#md('##### {}'.format(titleBTC)) \n",
    "md(\"- {}{} {}{} [| Skaityti daugiau]({}) \".format(trx['title'],'. ', trx['body'], ' ...', trx['url']))"
   ]
  },
  {
   "cell_type": "code",
   "execution_count": 7,
   "id": "illegal-greece",
   "metadata": {
    "execution": {
     "iopub.execute_input": "2022-07-20T03:15:35.131224Z",
     "iopub.status.busy": "2022-07-20T03:15:35.130480Z",
     "iopub.status.idle": "2022-07-20T03:15:35.134211Z",
     "shell.execute_reply": "2022-07-20T03:15:35.134739Z"
    },
    "papermill": {
     "duration": 0.022099,
     "end_time": "2022-07-20T03:15:35.134894",
     "exception": false,
     "start_time": "2022-07-20T03:15:35.112795",
     "status": "completed"
    },
    "tags": []
   },
   "outputs": [
    {
     "data": {
      "text/markdown": [
       "- Ethereum: $1750-$1950 area could be tricky to navigate for b….  Disclaimer: The information presented does not constitute financial, investment, trading, or other types of advice and is solely the writer’s opinion. Ethereum [ETH] has, as some Twitter denizens like to say, &#8220;melted faces&#8221; over the past week as the asset surged from the range lows to post an impressive 50% gain in just under a [&#8230;] ... [| Skaityti daugiau](https://ambcrypto.com/ethereum-1750-1950-area-could-be-tricky-to-navigate-for/) "
      ],
      "text/plain": [
       "<IPython.core.display.Markdown object>"
      ]
     },
     "execution_count": 7,
     "metadata": {},
     "output_type": "execute_result"
    }
   ],
   "source": [
    "#hide_input\n",
    "#md('##### {}'.format(titleBTC)) \n",
    "md(\"- {}{} {}{} [| Skaityti daugiau]({}) \".format(eth['title'],'. ', eth['body'], ' ...', eth['url']))"
   ]
  },
  {
   "cell_type": "code",
   "execution_count": 8,
   "id": "sublime-lounge",
   "metadata": {
    "execution": {
     "iopub.execute_input": "2022-07-20T03:15:35.168038Z",
     "iopub.status.busy": "2022-07-20T03:15:35.167233Z",
     "iopub.status.idle": "2022-07-20T03:15:35.171444Z",
     "shell.execute_reply": "2022-07-20T03:15:35.170910Z"
    },
    "papermill": {
     "duration": 0.02247,
     "end_time": "2022-07-20T03:15:35.171579",
     "exception": false,
     "start_time": "2022-07-20T03:15:35.149109",
     "status": "completed"
    },
    "tags": []
   },
   "outputs": [
    {
     "data": {
      "text/markdown": [
       "- Cardano Broke Past This Important Level, Is The Coin Anticipating A Correction?.  Cardano has been on a bullish run and it managed to cruise past the crucial resistance mark. Over the last week, ADA surged by almost 20%. The altcoin has been moving up in an ascending trendline over the last 24 hours. Currently, the altcoin has steadied on the $0.47 support line. Now Cardano has finally managed to claim its old resistance level and the bulls are back. For the bullish momentum to get intensified ADA needs to stay above the resistance mark it crossed above. It is however to soon to say if ADA is on a bullish momentum or if this is a relief rally. Bitcoin&#8217;s upward movement and moving above the $22,000 level has pushed other altcoins on a bullish price action. Buyers have returned to the market and strengthened the bulls. Broader market sentiments can again drag ADA to its immediate support level. The global cryptocurrency market cap today is $1.11 Trillion, a 5.4% change in the last 24 hours. Cardano Price Analysis: Four Hour Chart ADA was trading at $0.506 at the time of writing. The coin broke past the $0.50 price mark which it struggled to move past over the last few weeks. Overhead resistance for the coin was at $0.53 but a slight lose in the momentum could drag it down to $0.47. For the bears to remain subdued, Cardano has to remain above the $0.50 level for the next trading sessions. Buying strength also has to remain high for ADA to continue sailing north. Amount of Cardano traded remained high sug... ... [| Skaityti daugiau](https://www.newsbtc.com/news/cardano-broke-past-this-important-level-is-the-coin-anticipating-a-correction/) "
      ],
      "text/plain": [
       "<IPython.core.display.Markdown object>"
      ]
     },
     "execution_count": 8,
     "metadata": {},
     "output_type": "execute_result"
    }
   ],
   "source": [
    "#hide_input\n",
    "#md('##### {}'.format(titleBTC)) \n",
    "md(\"- {}{} {}{} [| Skaityti daugiau]({}) \".format(ada['title'],'. ', ada['body'], ' ...', ada['url']))"
   ]
  },
  {
   "cell_type": "code",
   "execution_count": 9,
   "id": "specified-ordering",
   "metadata": {
    "execution": {
     "iopub.execute_input": "2022-07-20T03:15:35.202981Z",
     "iopub.status.busy": "2022-07-20T03:15:35.201958Z",
     "iopub.status.idle": "2022-07-20T03:15:35.205159Z",
     "shell.execute_reply": "2022-07-20T03:15:35.205689Z"
    },
    "papermill": {
     "duration": 0.021552,
     "end_time": "2022-07-20T03:15:35.205840",
     "exception": false,
     "start_time": "2022-07-20T03:15:35.184288",
     "status": "completed"
    },
    "tags": []
   },
   "outputs": [
    {
     "data": {
      "text/markdown": [
       "- Binance Overtakes Coinbase as Exchange With Largest Bitcoin ($BTC) Holdings.  Leading cryptocurrency exchange Binance has surpassed its Nasdaq-listed rival Coinbase in being the cryptocurrency trading platform with the largest Bitcoin ($BTC) holdings, with Coinbase’s holdings steadily dropping since 2020 and Binance’s steadily rising since launch. According to a Glassnode chart shared by Blockware Solution’s lead insights analyst Will Clemente, the amount of Bitcoin stored in […] ... [| Skaityti daugiau](https://www.cryptoglobe.com/latest/2022/07/binance-overtakes-coinbase-as-exchange-with-largest-bitcoin-btc-holdings/) "
      ],
      "text/plain": [
       "<IPython.core.display.Markdown object>"
      ]
     },
     "execution_count": 9,
     "metadata": {},
     "output_type": "execute_result"
    }
   ],
   "source": [
    "#hide_input\n",
    "#md('##### {}'.format(titleBTC)) \n",
    "md(\"- {}{} {}{} [| Skaityti daugiau]({}) \".format(exchange['title'],'. ', exchange['body'], ' ...', exchange['url']))"
   ]
  },
  {
   "cell_type": "code",
   "execution_count": null,
   "id": "tender-livestock",
   "metadata": {
    "papermill": {
     "duration": 0.014867,
     "end_time": "2022-07-20T03:15:35.234121",
     "exception": false,
     "start_time": "2022-07-20T03:15:35.219254",
     "status": "completed"
    },
    "tags": []
   },
   "outputs": [],
   "source": []
  },
  {
   "cell_type": "code",
   "execution_count": null,
   "id": "appreciated-diamond",
   "metadata": {
    "papermill": {
     "duration": 0.013926,
     "end_time": "2022-07-20T03:15:35.270264",
     "exception": false,
     "start_time": "2022-07-20T03:15:35.256338",
     "status": "completed"
    },
    "tags": []
   },
   "outputs": [],
   "source": []
  },
  {
   "cell_type": "code",
   "execution_count": null,
   "id": "romance-sweden",
   "metadata": {
    "papermill": {
     "duration": 0.012962,
     "end_time": "2022-07-20T03:15:35.296462",
     "exception": false,
     "start_time": "2022-07-20T03:15:35.283500",
     "status": "completed"
    },
    "tags": []
   },
   "outputs": [],
   "source": []
  },
  {
   "cell_type": "code",
   "execution_count": null,
   "id": "dietary-statistics",
   "metadata": {
    "papermill": {
     "duration": 0.012987,
     "end_time": "2022-07-20T03:15:35.322582",
     "exception": false,
     "start_time": "2022-07-20T03:15:35.309595",
     "status": "completed"
    },
    "tags": []
   },
   "outputs": [],
   "source": []
  }
 ],
 "metadata": {
  "kernelspec": {
   "display_name": "Python 3",
   "language": "python",
   "name": "python3"
  },
  "language_info": {
   "codemirror_mode": {
    "name": "ipython",
    "version": 3
   },
   "file_extension": ".py",
   "mimetype": "text/x-python",
   "name": "python",
   "nbconvert_exporter": "python",
   "pygments_lexer": "ipython3",
   "version": "3.6.15"
  },
  "papermill": {
   "default_parameters": {},
   "duration": 15.274321,
   "end_time": "2022-07-20T03:15:35.856417",
   "environment_variables": {},
   "exception": null,
   "input_path": "Market-News.ipynb",
   "output_path": "Market-News.ipynb",
   "parameters": {},
   "start_time": "2022-07-20T03:15:20.582096",
   "version": "2.2.2"
  }
 },
 "nbformat": 4,
 "nbformat_minor": 5
}