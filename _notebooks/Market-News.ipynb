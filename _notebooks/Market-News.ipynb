{
 "cells": [
  {
   "cell_type": "markdown",
   "id": "short-greensboro",
   "metadata": {
    "papermill": {
     "duration": 0.013913,
     "end_time": "2021-09-27T02:00:39.957442",
     "exception": false,
     "start_time": "2021-09-27T02:00:39.943529",
     "status": "completed"
    },
    "tags": []
   },
   "source": [
    "# Kriptovaliutų naujienos"
   ]
  },
  {
   "cell_type": "code",
   "execution_count": 1,
   "id": "functioning-knowing",
   "metadata": {
    "execution": {
     "iopub.execute_input": "2021-09-27T02:00:39.986556Z",
     "iopub.status.busy": "2021-09-27T02:00:39.983736Z",
     "iopub.status.idle": "2021-09-27T02:00:41.181993Z",
     "shell.execute_reply": "2021-09-27T02:00:41.181431Z"
    },
    "papermill": {
     "duration": 1.214903,
     "end_time": "2021-09-27T02:00:41.182159",
     "exception": false,
     "start_time": "2021-09-27T02:00:39.967256",
     "status": "completed"
    },
    "tags": []
   },
   "outputs": [],
   "source": [
    "#hide_input\n",
    "import warnings\n",
    "warnings.filterwarnings('ignore')\n",
    "from scripts.read_data import read_api\n",
    "from scripts.read_data import read_news\n",
    "from scripts.read_data import read_covid\n",
    "import matplotlib.pyplot as plt \n",
    "from IPython.display import Markdown as md"
   ]
  },
  {
   "cell_type": "code",
   "execution_count": 2,
   "id": "shared-acceptance",
   "metadata": {
    "execution": {
     "iopub.execute_input": "2021-09-27T02:00:41.207910Z",
     "iopub.status.busy": "2021-09-27T02:00:41.206954Z",
     "iopub.status.idle": "2021-09-27T02:00:50.630905Z",
     "shell.execute_reply": "2021-09-27T02:00:50.631394Z"
    },
    "papermill": {
     "duration": 9.439266,
     "end_time": "2021-09-27T02:00:50.631571",
     "exception": false,
     "start_time": "2021-09-27T02:00:41.192305",
     "status": "completed"
    },
    "tags": []
   },
   "outputs": [],
   "source": [
    "#hide_input\n",
    "blockchain = read_news('blockchain') \n",
    "btc = read_news('btc') \n",
    "xrp = read_news('xrp') \n",
    "trx = read_news('trx') \n",
    "eth = read_news('eth')  \n",
    "ada = read_news('ada')\n",
    "exchange = read_news('exchange') "
   ]
  },
  {
   "cell_type": "code",
   "execution_count": 3,
   "id": "synthetic-notion",
   "metadata": {
    "execution": {
     "iopub.execute_input": "2021-09-27T02:00:50.657180Z",
     "iopub.status.busy": "2021-09-27T02:00:50.656644Z",
     "iopub.status.idle": "2021-09-27T02:00:50.658814Z",
     "shell.execute_reply": "2021-09-27T02:00:50.659220Z"
    },
    "papermill": {
     "duration": 0.017252,
     "end_time": "2021-09-27T02:00:50.659340",
     "exception": false,
     "start_time": "2021-09-27T02:00:50.642088",
     "status": "completed"
    },
    "tags": []
   },
   "outputs": [
    {
     "data": {
      "text/markdown": [
       "- CoinQuora Exclusive Interview — Omar C, CEO of ZB.com.  Omar C is the CEO of ZB.com. He worked in the telecom industry and shifted to blockchain and crypto after ... [| Skaityti daugiau](https://coinquora.com/coinquora-exclusive-interview-omar-c-ceo-of-zb-com/) "
      ],
      "text/plain": [
       "<IPython.core.display.Markdown object>"
      ]
     },
     "execution_count": 3,
     "metadata": {},
     "output_type": "execute_result"
    }
   ],
   "source": [
    "#hide_input\n",
    "#md('##### {}'.format(titleBTC)) \n",
    "md(\"- {}{} {}{} [| Skaityti daugiau]({}) \".format(blockchain['title'],'. ', blockchain['body'], ' ...', blockchain['url']))"
   ]
  },
  {
   "cell_type": "code",
   "execution_count": 4,
   "id": "aging-caution",
   "metadata": {
    "execution": {
     "iopub.execute_input": "2021-09-27T02:00:50.682697Z",
     "iopub.status.busy": "2021-09-27T02:00:50.682101Z",
     "iopub.status.idle": "2021-09-27T02:00:50.685257Z",
     "shell.execute_reply": "2021-09-27T02:00:50.684854Z"
    },
    "papermill": {
     "duration": 0.016633,
     "end_time": "2021-09-27T02:00:50.685362",
     "exception": false,
     "start_time": "2021-09-27T02:00:50.668729",
     "status": "completed"
    },
    "tags": []
   },
   "outputs": [
    {
     "data": {
      "text/markdown": [
       "- Bitcoin is ‘risky,’ but here are reasons why it qualifies as ‘digital gold’.  Bitcoin&#8217;s status as store of value is being questioned frequently of late, due to its volatile price action. Marion Laboure, Analyst at Deutsche Bank Research said that she could potentially see Bitcoin becoming the 21st-century gold. She explained that even gold was volatile historically, but, &#8220;It is important to keep in mind that Bitcoin is [&#8230;] ... [| Skaityti daugiau](https://ambcrypto.com/bitcoin-is-risky-but-here-are-reasons-why-it-qualifies-as-digital-gold/) "
      ],
      "text/plain": [
       "<IPython.core.display.Markdown object>"
      ]
     },
     "execution_count": 4,
     "metadata": {},
     "output_type": "execute_result"
    }
   ],
   "source": [
    "#hide_input\n",
    "#md('##### {}'.format(titleBTC)) \n",
    "md(\"- {}{} {}{} [| Skaityti daugiau]({}) \".format(btc['title'],'. ', btc['body'], ' ...', btc['url']))"
   ]
  },
  {
   "cell_type": "code",
   "execution_count": 5,
   "id": "organic-actress",
   "metadata": {
    "execution": {
     "iopub.execute_input": "2021-09-27T02:00:50.708976Z",
     "iopub.status.busy": "2021-09-27T02:00:50.708466Z",
     "iopub.status.idle": "2021-09-27T02:00:50.711665Z",
     "shell.execute_reply": "2021-09-27T02:00:50.711237Z"
    },
    "papermill": {
     "duration": 0.016758,
     "end_time": "2021-09-27T02:00:50.711764",
     "exception": false,
     "start_time": "2021-09-27T02:00:50.695006",
     "status": "completed"
    },
    "tags": []
   },
   "outputs": [
    {
     "data": {
      "text/markdown": [
       "- Amid the China Induced Correction, Former US Treasurer Shades all Crypto Except One.  The broader digital currency ecosystem has been gunning for recovery since the news of China’s renewed clampdown on all crypto activities made the rounds for at least the second time this year. Following the FUD spread, Bitcoin (BTC) slumped to a weekly low of $39,787.61, Ethereum (ETH) dropped to a 30-low of $2,676.41, while XRP The post Amid the China Induced Correction, Former US Treasurer Shades all Crypto Except One appeared first on Coingape. ... [| Skaityti daugiau](https://coingape.com/91306-2/) "
      ],
      "text/plain": [
       "<IPython.core.display.Markdown object>"
      ]
     },
     "execution_count": 5,
     "metadata": {},
     "output_type": "execute_result"
    }
   ],
   "source": [
    "#hide_input\n",
    "#md('##### {}'.format(titleBTC)) \n",
    "md(\"- {}{} {}{} [| Skaityti daugiau]({}) \".format(xrp['title'],'. ', xrp['body'], ' ...', xrp['url']))"
   ]
  },
  {
   "cell_type": "code",
   "execution_count": 6,
   "id": "prompt-farmer",
   "metadata": {
    "execution": {
     "iopub.execute_input": "2021-09-27T02:00:50.735728Z",
     "iopub.status.busy": "2021-09-27T02:00:50.734669Z",
     "iopub.status.idle": "2021-09-27T02:00:50.738718Z",
     "shell.execute_reply": "2021-09-27T02:00:50.738293Z"
    },
    "papermill": {
     "duration": 0.017146,
     "end_time": "2021-09-27T02:00:50.738822",
     "exception": false,
     "start_time": "2021-09-27T02:00:50.721676",
     "status": "completed"
    },
    "tags": []
   },
   "outputs": [
    {
     "data": {
      "text/markdown": [
       "- Ethereum Classic, Solana, Tron Price Analysis: 25 September.  The broader market again displayed weakness, soon after which altcoins depicted southbound movements on their charts. Ethereum Classic was moving towards its closest support mark while Solana was expecting to find support at $107.79. Lastly, Tron broke below its multi-month support line after noting a fresh decline of 5.9% over the last 24 hours. Ethereum [&#8230;] ... [| Skaityti daugiau](https://ambcrypto.com/ethereum-classic-solana-tron-price-analysis-25-september/) "
      ],
      "text/plain": [
       "<IPython.core.display.Markdown object>"
      ]
     },
     "execution_count": 6,
     "metadata": {},
     "output_type": "execute_result"
    }
   ],
   "source": [
    "#hide_input\n",
    "#md('##### {}'.format(titleBTC)) \n",
    "md(\"- {}{} {}{} [| Skaityti daugiau]({}) \".format(trx['title'],'. ', trx['body'], ' ...', trx['url']))"
   ]
  },
  {
   "cell_type": "code",
   "execution_count": 7,
   "id": "illegal-greece",
   "metadata": {
    "execution": {
     "iopub.execute_input": "2021-09-27T02:00:50.763393Z",
     "iopub.status.busy": "2021-09-27T02:00:50.762886Z",
     "iopub.status.idle": "2021-09-27T02:00:50.765497Z",
     "shell.execute_reply": "2021-09-27T02:00:50.765882Z"
    },
    "papermill": {
     "duration": 0.016782,
     "end_time": "2021-09-27T02:00:50.765995",
     "exception": false,
     "start_time": "2021-09-27T02:00:50.749213",
     "status": "completed"
    },
    "tags": []
   },
   "outputs": [
    {
     "data": {
      "text/markdown": [
       "- Ethereum alternatives and layer-1 solutions see steady gains in September.  Multi-million dollar incentive programs and the ease of cross-chain transfers are boosting the value of L1 and L2-based tokens and raising the total value locked in their associated DeFi platforms. ... [| Skaityti daugiau](https://cointelegraph.com/news/ethereum-alternatives-and-layer-1-solutions-see-steady-gains-in-september) "
      ],
      "text/plain": [
       "<IPython.core.display.Markdown object>"
      ]
     },
     "execution_count": 7,
     "metadata": {},
     "output_type": "execute_result"
    }
   ],
   "source": [
    "#hide_input\n",
    "#md('##### {}'.format(titleBTC)) \n",
    "md(\"- {}{} {}{} [| Skaityti daugiau]({}) \".format(eth['title'],'. ', eth['body'], ' ...', eth['url']))"
   ]
  },
  {
   "cell_type": "code",
   "execution_count": 8,
   "id": "sublime-lounge",
   "metadata": {
    "execution": {
     "iopub.execute_input": "2021-09-27T02:00:50.791657Z",
     "iopub.status.busy": "2021-09-27T02:00:50.791153Z",
     "iopub.status.idle": "2021-09-27T02:00:50.793786Z",
     "shell.execute_reply": "2021-09-27T02:00:50.794165Z"
    },
    "papermill": {
     "duration": 0.017731,
     "end_time": "2021-09-27T02:00:50.794277",
     "exception": false,
     "start_time": "2021-09-27T02:00:50.776546",
     "status": "completed"
    },
    "tags": []
   },
   "outputs": [
    {
     "data": {
      "text/markdown": [
       "- Cardano Will Soon Have Its First Stablecoin.  Cardano is going to have its first Stablecoin —Djed— soon, giving space to cheaper transactions and making it easier to run DeFi projects. ... [| Skaityti daugiau](https://cryptopotato.com/cardano-will-soon-have-its-first-stablecoin/) "
      ],
      "text/plain": [
       "<IPython.core.display.Markdown object>"
      ]
     },
     "execution_count": 8,
     "metadata": {},
     "output_type": "execute_result"
    }
   ],
   "source": [
    "#hide_input\n",
    "#md('##### {}'.format(titleBTC)) \n",
    "md(\"- {}{} {}{} [| Skaityti daugiau]({}) \".format(ada['title'],'. ', ada['body'], ' ...', ada['url']))"
   ]
  },
  {
   "cell_type": "code",
   "execution_count": 9,
   "id": "specified-ordering",
   "metadata": {
    "execution": {
     "iopub.execute_input": "2021-09-27T02:00:50.820500Z",
     "iopub.status.busy": "2021-09-27T02:00:50.819998Z",
     "iopub.status.idle": "2021-09-27T02:00:50.822863Z",
     "shell.execute_reply": "2021-09-27T02:00:50.823297Z"
    },
    "papermill": {
     "duration": 0.018167,
     "end_time": "2021-09-27T02:00:50.823406",
     "exception": false,
     "start_time": "2021-09-27T02:00:50.805239",
     "status": "completed"
    },
    "tags": []
   },
   "outputs": [
    {
     "data": {
      "text/markdown": [
       "- Crypto Corner: The Sports Slice.  Crypto.com made a splash into esports when we covered last weekend&#8217;s Sports Slice. This week, the growing exchange made another sports sponsorship splash &#8211; this time with an NBA team. Each week, we take a fresh perspective on the last seven days of sports and cryptocurrency. The Sports Slice Crypto.com Heads To Philly Just days [&#8230;] ... [| Skaityti daugiau](https://bitcoinist.com/crypto-corner-the-sports-slice-8/?utm_source=rss&utm_medium=rss&utm_campaign=crypto-corner-the-sports-slice-8) "
      ],
      "text/plain": [
       "<IPython.core.display.Markdown object>"
      ]
     },
     "execution_count": 9,
     "metadata": {},
     "output_type": "execute_result"
    }
   ],
   "source": [
    "#hide_input\n",
    "#md('##### {}'.format(titleBTC)) \n",
    "md(\"- {}{} {}{} [| Skaityti daugiau]({}) \".format(exchange['title'],'. ', exchange['body'], ' ...', exchange['url']))"
   ]
  },
  {
   "cell_type": "code",
   "execution_count": null,
   "id": "tender-livestock",
   "metadata": {
    "papermill": {
     "duration": 0.011239,
     "end_time": "2021-09-27T02:00:50.845897",
     "exception": false,
     "start_time": "2021-09-27T02:00:50.834658",
     "status": "completed"
    },
    "tags": []
   },
   "outputs": [],
   "source": []
  },
  {
   "cell_type": "code",
   "execution_count": null,
   "id": "appreciated-diamond",
   "metadata": {
    "papermill": {
     "duration": 0.011311,
     "end_time": "2021-09-27T02:00:50.868649",
     "exception": false,
     "start_time": "2021-09-27T02:00:50.857338",
     "status": "completed"
    },
    "tags": []
   },
   "outputs": [],
   "source": []
  },
  {
   "cell_type": "code",
   "execution_count": null,
   "id": "romance-sweden",
   "metadata": {
    "papermill": {
     "duration": 0.011257,
     "end_time": "2021-09-27T02:00:50.891171",
     "exception": false,
     "start_time": "2021-09-27T02:00:50.879914",
     "status": "completed"
    },
    "tags": []
   },
   "outputs": [],
   "source": []
  },
  {
   "cell_type": "code",
   "execution_count": null,
   "id": "dietary-statistics",
   "metadata": {
    "papermill": {
     "duration": 0.011218,
     "end_time": "2021-09-27T02:00:50.913690",
     "exception": false,
     "start_time": "2021-09-27T02:00:50.902472",
     "status": "completed"
    },
    "tags": []
   },
   "outputs": [],
   "source": []
  }
 ],
 "metadata": {
  "kernelspec": {
   "display_name": "Python 3",
   "language": "python",
   "name": "python3"
  },
  "language_info": {
   "codemirror_mode": {
    "name": "ipython",
    "version": 3
   },
   "file_extension": ".py",
   "mimetype": "text/x-python",
   "name": "python",
   "nbconvert_exporter": "python",
   "pygments_lexer": "ipython3",
   "version": "3.6.15"
  },
  "papermill": {
   "default_parameters": {},
   "duration": 12.351027,
   "end_time": "2021-09-27T02:00:51.332403",
   "environment_variables": {},
   "exception": null,
   "input_path": "Market-News.ipynb",
   "output_path": "Market-News.ipynb",
   "parameters": {},
   "start_time": "2021-09-27T02:00:38.981376",
   "version": "2.2.2"
  }
 },
 "nbformat": 4,
 "nbformat_minor": 5
}