{
 "cells": [
  {
   "cell_type": "markdown",
   "id": "short-greensboro",
   "metadata": {
    "papermill": {
     "duration": 0.012105,
     "end_time": "2022-08-06T02:59:09.730720",
     "exception": false,
     "start_time": "2022-08-06T02:59:09.718615",
     "status": "completed"
    },
    "tags": []
   },
   "source": [
    "# Kriptovaliutų naujienos"
   ]
  },
  {
   "cell_type": "code",
   "execution_count": 1,
   "id": "functioning-knowing",
   "metadata": {
    "execution": {
     "iopub.execute_input": "2022-08-06T02:59:09.758915Z",
     "iopub.status.busy": "2022-08-06T02:59:09.758364Z",
     "iopub.status.idle": "2022-08-06T02:59:10.996478Z",
     "shell.execute_reply": "2022-08-06T02:59:10.995881Z"
    },
    "papermill": {
     "duration": 1.256711,
     "end_time": "2022-08-06T02:59:10.996632",
     "exception": false,
     "start_time": "2022-08-06T02:59:09.739921",
     "status": "completed"
    },
    "tags": []
   },
   "outputs": [],
   "source": [
    "#hide_input\n",
    "import warnings\n",
    "warnings.filterwarnings('ignore')\n",
    "from scripts.read_data import read_api\n",
    "from scripts.read_data import read_news\n",
    "from scripts.read_data import read_covid\n",
    "import matplotlib.pyplot as plt \n",
    "from IPython.display import Markdown as md"
   ]
  },
  {
   "cell_type": "code",
   "execution_count": 2,
   "id": "shared-acceptance",
   "metadata": {
    "execution": {
     "iopub.execute_input": "2022-08-06T02:59:11.021690Z",
     "iopub.status.busy": "2022-08-06T02:59:11.020693Z",
     "iopub.status.idle": "2022-08-06T02:59:20.876115Z",
     "shell.execute_reply": "2022-08-06T02:59:20.876637Z"
    },
    "papermill": {
     "duration": 9.870715,
     "end_time": "2022-08-06T02:59:20.876799",
     "exception": false,
     "start_time": "2022-08-06T02:59:11.006084",
     "status": "completed"
    },
    "tags": []
   },
   "outputs": [],
   "source": [
    "#hide_input\n",
    "blockchain = read_news('blockchain') \n",
    "btc = read_news('btc') \n",
    "xrp = read_news('xrp') \n",
    "trx = read_news('trx') \n",
    "eth = read_news('eth')  \n",
    "ada = read_news('ada')\n",
    "exchange = read_news('exchange') "
   ]
  },
  {
   "cell_type": "code",
   "execution_count": 3,
   "id": "synthetic-notion",
   "metadata": {
    "execution": {
     "iopub.execute_input": "2022-08-06T02:59:20.901952Z",
     "iopub.status.busy": "2022-08-06T02:59:20.901363Z",
     "iopub.status.idle": "2022-08-06T02:59:20.907156Z",
     "shell.execute_reply": "2022-08-06T02:59:20.906684Z"
    },
    "papermill": {
     "duration": 0.021064,
     "end_time": "2022-08-06T02:59:20.907311",
     "exception": false,
     "start_time": "2022-08-06T02:59:20.886247",
     "status": "completed"
    },
    "tags": []
   },
   "outputs": [
    {
     "data": {
      "text/markdown": [
       "- Solana regains $40 after an almost 2% price surge.  Solana price analysis for August 6, 2022, comes on a bearish note for the SOL token as we can confirm that the prices have surged by almost 2% in the last 24 hours and investors might see additional price surges in the coming days if the $40 price region holds strong. This region was earlier [&#8230;]The post Solana regains $40 after an almost 2% price surge appeared first on Blockchain, Crypto and Stock News. ... [| Skaityti daugiau](https://thecoinrise.com/solana-regains-40-after-an-almost-2-price-surge/) "
      ],
      "text/plain": [
       "<IPython.core.display.Markdown object>"
      ]
     },
     "execution_count": 3,
     "metadata": {},
     "output_type": "execute_result"
    }
   ],
   "source": [
    "#hide_input\n",
    "#md('##### {}'.format(titleBTC)) \n",
    "md(\"- {}{} {}{} [| Skaityti daugiau]({}) \".format(blockchain['title'],'. ', blockchain['body'], ' ...', blockchain['url']))"
   ]
  },
  {
   "cell_type": "code",
   "execution_count": 4,
   "id": "aging-caution",
   "metadata": {
    "execution": {
     "iopub.execute_input": "2022-08-06T02:59:20.930673Z",
     "iopub.status.busy": "2022-08-06T02:59:20.930089Z",
     "iopub.status.idle": "2022-08-06T02:59:20.935874Z",
     "shell.execute_reply": "2022-08-06T02:59:20.935391Z"
    },
    "papermill": {
     "duration": 0.019275,
     "end_time": "2022-08-06T02:59:20.935978",
     "exception": false,
     "start_time": "2022-08-06T02:59:20.916703",
     "status": "completed"
    },
    "tags": []
   },
   "outputs": [
    {
     "data": {
      "text/markdown": [
       "- Bitcoin, Ethereum, Tron, and Litecoin Daily Price Analyses – 5 August Roundup.  The global crypto market has seen a continuation of positive changes as the influx continues. The latest data shows that various coins, including Bitcoin, have turned bullish, bringing further market strength. The increase has given Ethereum and other previously bullish coins a push to move ahead in gains. These gains are likely to continue as &#8230;  Bitcoin, Ethereum, Tron, and Litecoin Daily Price Analyses – 5 August Roundup Read More &#187; ... [| Skaityti daugiau](https://www.cryptopolitan.com/bitcoin-ethereum-tron-and-litecoin-daily-price-analyses-5-august-roundup/) "
      ],
      "text/plain": [
       "<IPython.core.display.Markdown object>"
      ]
     },
     "execution_count": 4,
     "metadata": {},
     "output_type": "execute_result"
    }
   ],
   "source": [
    "#hide_input\n",
    "#md('##### {}'.format(titleBTC)) \n",
    "md(\"- {}{} {}{} [| Skaityti daugiau]({}) \".format(btc['title'],'. ', btc['body'], ' ...', btc['url']))"
   ]
  },
  {
   "cell_type": "code",
   "execution_count": 5,
   "id": "organic-actress",
   "metadata": {
    "execution": {
     "iopub.execute_input": "2022-08-06T02:59:20.960657Z",
     "iopub.status.busy": "2022-08-06T02:59:20.960058Z",
     "iopub.status.idle": "2022-08-06T02:59:20.962983Z",
     "shell.execute_reply": "2022-08-06T02:59:20.963444Z"
    },
    "papermill": {
     "duration": 0.018008,
     "end_time": "2022-08-06T02:59:20.963561",
     "exception": false,
     "start_time": "2022-08-06T02:59:20.945553",
     "status": "completed"
    },
    "tags": []
   },
   "outputs": [
    {
     "data": {
      "text/markdown": [
       "- Former Developer Advocate at Ripple on XRP Ledger: ‘It Just Works. Has Done for Nearly a Decade’.  Matt Hamilton, a former Principal Developer Advocate at major fintech firm Ripple, has said that the XRP Ledger, whose native token is $XRP, “just works” and has been running for nearly a decade now. Hamilton’s words came during an exchange with another user on the microblogging platform Twitter who defended Bitcoin and its layer-2 scaling […] ... [| Skaityti daugiau](https://www.cryptoglobe.com/latest/2022/08/former-developer-advocate-at-ripple-on-xrp-ledger-it-just-works-has-done-for-nearly-a-decade/) "
      ],
      "text/plain": [
       "<IPython.core.display.Markdown object>"
      ]
     },
     "execution_count": 5,
     "metadata": {},
     "output_type": "execute_result"
    }
   ],
   "source": [
    "#hide_input\n",
    "#md('##### {}'.format(titleBTC)) \n",
    "md(\"- {}{} {}{} [| Skaityti daugiau]({}) \".format(xrp['title'],'. ', xrp['body'], ' ...', xrp['url']))"
   ]
  },
  {
   "cell_type": "code",
   "execution_count": 6,
   "id": "prompt-farmer",
   "metadata": {
    "execution": {
     "iopub.execute_input": "2022-08-06T02:59:20.989379Z",
     "iopub.status.busy": "2022-08-06T02:59:20.988771Z",
     "iopub.status.idle": "2022-08-06T02:59:20.991695Z",
     "shell.execute_reply": "2022-08-06T02:59:20.992134Z"
    },
    "papermill": {
     "duration": 0.018738,
     "end_time": "2022-08-06T02:59:20.992249",
     "exception": false,
     "start_time": "2022-08-06T02:59:20.973511",
     "status": "completed"
    },
    "tags": []
   },
   "outputs": [
    {
     "data": {
      "text/markdown": [
       "- ‘Where, how’ of TRX bulls leveraging this pattern’s breakout potential.  Over the last six weeks, Tron&#8217;s [TRX] fluctuation was range bound in the $0.66-$0.07 zone. The decline from the $0.07 ceiling has affirmed a bullish continuation pattern in the 4-hour timeframe. The recent decline reinforced the near-term bearish efforts in pulling TRX toward its 200 EMA support (green). Furthermore, with the immediate support in the [&#8230;] ... [| Skaityti daugiau](https://ambcrypto.com/where-how-of-trx-bulls-leveraging-this-patterns-breakout-potential/) "
      ],
      "text/plain": [
       "<IPython.core.display.Markdown object>"
      ]
     },
     "execution_count": 6,
     "metadata": {},
     "output_type": "execute_result"
    }
   ],
   "source": [
    "#hide_input\n",
    "#md('##### {}'.format(titleBTC)) \n",
    "md(\"- {}{} {}{} [| Skaityti daugiau]({}) \".format(trx['title'],'. ', trx['body'], ' ...', trx['url']))"
   ]
  },
  {
   "cell_type": "code",
   "execution_count": 7,
   "id": "illegal-greece",
   "metadata": {
    "execution": {
     "iopub.execute_input": "2022-08-06T02:59:21.017064Z",
     "iopub.status.busy": "2022-08-06T02:59:21.015938Z",
     "iopub.status.idle": "2022-08-06T02:59:21.020447Z",
     "shell.execute_reply": "2022-08-06T02:59:21.019984Z"
    },
    "papermill": {
     "duration": 0.018013,
     "end_time": "2022-08-06T02:59:21.020546",
     "exception": false,
     "start_time": "2022-08-06T02:59:21.002533",
     "status": "completed"
    },
    "tags": []
   },
   "outputs": [
    {
     "data": {
      "text/markdown": [
       "- Bitcoin, Ethereum, Tron, and Litecoin Daily Price Analyses – 5 August Roundup.  The global crypto market has seen a continuation of positive changes as the influx continues. The latest data shows that various coins, including Bitcoin, have turned bullish, bringing further market strength. The increase has given Ethereum and other previously bullish coins a push to move ahead in gains. These gains are likely to continue as &#8230;  Bitcoin, Ethereum, Tron, and Litecoin Daily Price Analyses – 5 August Roundup Read More &#187; ... [| Skaityti daugiau](https://www.cryptopolitan.com/bitcoin-ethereum-tron-and-litecoin-daily-price-analyses-5-august-roundup/) "
      ],
      "text/plain": [
       "<IPython.core.display.Markdown object>"
      ]
     },
     "execution_count": 7,
     "metadata": {},
     "output_type": "execute_result"
    }
   ],
   "source": [
    "#hide_input\n",
    "#md('##### {}'.format(titleBTC)) \n",
    "md(\"- {}{} {}{} [| Skaityti daugiau]({}) \".format(eth['title'],'. ', eth['body'], ' ...', eth['url']))"
   ]
  },
  {
   "cell_type": "code",
   "execution_count": 8,
   "id": "sublime-lounge",
   "metadata": {
    "execution": {
     "iopub.execute_input": "2022-08-06T02:59:21.047262Z",
     "iopub.status.busy": "2022-08-06T02:59:21.046058Z",
     "iopub.status.idle": "2022-08-06T02:59:21.050423Z",
     "shell.execute_reply": "2022-08-06T02:59:21.050845Z"
    },
    "papermill": {
     "duration": 0.018808,
     "end_time": "2022-08-06T02:59:21.050961",
     "exception": false,
     "start_time": "2022-08-06T02:59:21.032153",
     "status": "completed"
    },
    "tags": []
   },
   "outputs": [
    {
     "data": {
      "text/markdown": [
       "- ‘$ADA Whale’ Says Cardano Could Become ‘Bigger’ Than ‘Anything Seen in Crypto Before’.  A popular Cardano ($ADA) influencer has recently explained he that Cardano could become “bigger” than “anything seen in crypto before” if decentralized governance on the cryptocurrency’s network works out. In a tweet shared with its nearly 110,000 followers on the microblogging platform Twitter, the pseudonymous Cardano influencer known as “ADA whale” shared that an argument […] ... [| Skaityti daugiau](https://www.cryptoglobe.com/latest/2022/08/ada-whale-says-cardano-could-become-bigger-than-anything-seen-in-crypto-before/) "
      ],
      "text/plain": [
       "<IPython.core.display.Markdown object>"
      ]
     },
     "execution_count": 8,
     "metadata": {},
     "output_type": "execute_result"
    }
   ],
   "source": [
    "#hide_input\n",
    "#md('##### {}'.format(titleBTC)) \n",
    "md(\"- {}{} {}{} [| Skaityti daugiau]({}) \".format(ada['title'],'. ', ada['body'], ' ...', ada['url']))"
   ]
  },
  {
   "cell_type": "code",
   "execution_count": 9,
   "id": "specified-ordering",
   "metadata": {
    "execution": {
     "iopub.execute_input": "2022-08-06T02:59:21.077585Z",
     "iopub.status.busy": "2022-08-06T02:59:21.077014Z",
     "iopub.status.idle": "2022-08-06T02:59:21.080934Z",
     "shell.execute_reply": "2022-08-06T02:59:21.080464Z"
    },
    "papermill": {
     "duration": 0.019232,
     "end_time": "2022-08-06T02:59:21.081033",
     "exception": false,
     "start_time": "2022-08-06T02:59:21.061801",
     "status": "completed"
    },
    "tags": []
   },
   "outputs": [
    {
     "data": {
      "text/markdown": [
       "- India Freezes Crypto Exchange Wazirx’s Bank Assets — Binance Claims Acquisition of Wazirx Was ‘Never Completed’.  A major Indian cryptocurrency exchange, Wazirx, has had its bank assets of more than $8 million frozen by the Directorate of Enforcement (ED). The exchange was supposedly acquired by Binance in 2019. However, Binance CEO Changpeng Zhao (CZ) now claims that the acquisition was &#x201C;never completed.&#x201D; Wazirx, however, maintains that it was acquired by Binance. [&#8230;] ... [| Skaityti daugiau](https://news.bitcoin.com/india-freezes-crypto-exchange-wazirxs-bank-assets-binance-claims-acquisition-of-wazirx-was-never-completed/) "
      ],
      "text/plain": [
       "<IPython.core.display.Markdown object>"
      ]
     },
     "execution_count": 9,
     "metadata": {},
     "output_type": "execute_result"
    }
   ],
   "source": [
    "#hide_input\n",
    "#md('##### {}'.format(titleBTC)) \n",
    "md(\"- {}{} {}{} [| Skaityti daugiau]({}) \".format(exchange['title'],'. ', exchange['body'], ' ...', exchange['url']))"
   ]
  },
  {
   "cell_type": "code",
   "execution_count": null,
   "id": "tender-livestock",
   "metadata": {
    "papermill": {
     "duration": 0.011259,
     "end_time": "2022-08-06T02:59:21.103677",
     "exception": false,
     "start_time": "2022-08-06T02:59:21.092418",
     "status": "completed"
    },
    "tags": []
   },
   "outputs": [],
   "source": []
  },
  {
   "cell_type": "code",
   "execution_count": null,
   "id": "appreciated-diamond",
   "metadata": {
    "papermill": {
     "duration": 0.011535,
     "end_time": "2022-08-06T02:59:21.126489",
     "exception": false,
     "start_time": "2022-08-06T02:59:21.114954",
     "status": "completed"
    },
    "tags": []
   },
   "outputs": [],
   "source": []
  },
  {
   "cell_type": "code",
   "execution_count": null,
   "id": "romance-sweden",
   "metadata": {
    "papermill": {
     "duration": 0.01113,
     "end_time": "2022-08-06T02:59:21.148880",
     "exception": false,
     "start_time": "2022-08-06T02:59:21.137750",
     "status": "completed"
    },
    "tags": []
   },
   "outputs": [],
   "source": []
  },
  {
   "cell_type": "code",
   "execution_count": null,
   "id": "dietary-statistics",
   "metadata": {
    "papermill": {
     "duration": 0.011123,
     "end_time": "2022-08-06T02:59:21.171213",
     "exception": false,
     "start_time": "2022-08-06T02:59:21.160090",
     "status": "completed"
    },
    "tags": []
   },
   "outputs": [],
   "source": []
  }
 ],
 "metadata": {
  "kernelspec": {
   "display_name": "Python 3",
   "language": "python",
   "name": "python3"
  },
  "language_info": {
   "codemirror_mode": {
    "name": "ipython",
    "version": 3
   },
   "file_extension": ".py",
   "mimetype": "text/x-python",
   "name": "python",
   "nbconvert_exporter": "python",
   "pygments_lexer": "ipython3",
   "version": "3.6.15"
  },
  "papermill": {
   "default_parameters": {},
   "duration": 12.882572,
   "end_time": "2022-08-06T02:59:21.701491",
   "environment_variables": {},
   "exception": null,
   "input_path": "Market-News.ipynb",
   "output_path": "Market-News.ipynb",
   "parameters": {},
   "start_time": "2022-08-06T02:59:08.818919",
   "version": "2.2.2"
  }
 },
 "nbformat": 4,
 "nbformat_minor": 5
}