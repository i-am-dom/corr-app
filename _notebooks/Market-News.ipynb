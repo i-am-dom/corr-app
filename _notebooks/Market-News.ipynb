{
 "cells": [
  {
   "cell_type": "markdown",
   "id": "short-greensboro",
   "metadata": {
    "papermill": {
     "duration": 0.017764,
     "end_time": "2022-02-05T01:40:39.344254",
     "exception": false,
     "start_time": "2022-02-05T01:40:39.326490",
     "status": "completed"
    },
    "tags": []
   },
   "source": [
    "# Kriptovaliutų naujienos"
   ]
  },
  {
   "cell_type": "code",
   "execution_count": 1,
   "id": "functioning-knowing",
   "metadata": {
    "execution": {
     "iopub.execute_input": "2022-02-05T01:40:39.378548Z",
     "iopub.status.busy": "2022-02-05T01:40:39.377851Z",
     "iopub.status.idle": "2022-02-05T01:40:40.868841Z",
     "shell.execute_reply": "2022-02-05T01:40:40.869690Z"
    },
    "papermill": {
     "duration": 1.514711,
     "end_time": "2022-02-05T01:40:40.869993",
     "exception": false,
     "start_time": "2022-02-05T01:40:39.355282",
     "status": "completed"
    },
    "tags": []
   },
   "outputs": [],
   "source": [
    "#hide_input\n",
    "import warnings\n",
    "warnings.filterwarnings('ignore')\n",
    "from scripts.read_data import read_api\n",
    "from scripts.read_data import read_news\n",
    "from scripts.read_data import read_covid\n",
    "import matplotlib.pyplot as plt \n",
    "from IPython.display import Markdown as md"
   ]
  },
  {
   "cell_type": "code",
   "execution_count": 2,
   "id": "shared-acceptance",
   "metadata": {
    "execution": {
     "iopub.execute_input": "2022-02-05T01:40:40.899352Z",
     "iopub.status.busy": "2022-02-05T01:40:40.898713Z",
     "iopub.status.idle": "2022-02-05T01:40:47.773087Z",
     "shell.execute_reply": "2022-02-05T01:40:47.771886Z"
    },
    "papermill": {
     "duration": 6.892726,
     "end_time": "2022-02-05T01:40:47.773243",
     "exception": false,
     "start_time": "2022-02-05T01:40:40.880517",
     "status": "completed"
    },
    "tags": []
   },
   "outputs": [],
   "source": [
    "#hide_input\n",
    "blockchain = read_news('blockchain') \n",
    "btc = read_news('btc') \n",
    "xrp = read_news('xrp') \n",
    "trx = read_news('trx') \n",
    "eth = read_news('eth')  \n",
    "ada = read_news('ada')\n",
    "exchange = read_news('exchange') "
   ]
  },
  {
   "cell_type": "code",
   "execution_count": 3,
   "id": "synthetic-notion",
   "metadata": {
    "execution": {
     "iopub.execute_input": "2022-02-05T01:40:47.800853Z",
     "iopub.status.busy": "2022-02-05T01:40:47.800179Z",
     "iopub.status.idle": "2022-02-05T01:40:47.802576Z",
     "shell.execute_reply": "2022-02-05T01:40:47.803079Z"
    },
    "papermill": {
     "duration": 0.019571,
     "end_time": "2022-02-05T01:40:47.803223",
     "exception": false,
     "start_time": "2022-02-05T01:40:47.783652",
     "status": "completed"
    },
    "tags": []
   },
   "outputs": [
    {
     "data": {
      "text/markdown": [
       "- Gaming Retail Giant GameStop Partners With NFT Marketplace in Push Towards Crypto Adoption.  Video game retail giant GameStop is entering the crypto world through a partnership with an Ethereum-based digital assets marketplace. In a new press release, GameStop says they are teaming up with Ethereum layer-2 scaling solution Immutable X (IMX) to create a joint non-fungible token (NFT) marketplace. “Immutable X will also become a layer-2 partner and [&#8230;]The post Gaming Retail Giant GameStop Partners With NFT Marketplace in Push Towards Crypto Adoption appeared first on The Daily Hodl. ... [| Skaityti daugiau](https://dailyhodl.com/2022/02/04/gaming-retail-giant-gamestop-partners-with-nft-marketplace-in-push-towards-crypto-adoption/) "
      ],
      "text/plain": [
       "<IPython.core.display.Markdown object>"
      ]
     },
     "execution_count": 3,
     "metadata": {},
     "output_type": "execute_result"
    }
   ],
   "source": [
    "#hide_input\n",
    "#md('##### {}'.format(titleBTC)) \n",
    "md(\"- {}{} {}{} [| Skaityti daugiau]({}) \".format(blockchain['title'],'. ', blockchain['body'], ' ...', blockchain['url']))"
   ]
  },
  {
   "cell_type": "code",
   "execution_count": 4,
   "id": "aging-caution",
   "metadata": {
    "execution": {
     "iopub.execute_input": "2022-02-05T01:40:47.831933Z",
     "iopub.status.busy": "2022-02-05T01:40:47.831293Z",
     "iopub.status.idle": "2022-02-05T01:40:47.833791Z",
     "shell.execute_reply": "2022-02-05T01:40:47.834331Z"
    },
    "papermill": {
     "duration": 0.020751,
     "end_time": "2022-02-05T01:40:47.834489",
     "exception": false,
     "start_time": "2022-02-05T01:40:47.813738",
     "status": "completed"
    },
    "tags": []
   },
   "outputs": [
    {
     "data": {
      "text/markdown": [
       "- Solana And Ethereum Recover After Registering Double-Digit Gains.  Ethereum and Solana especially galloped up on their charts significantly in the last 24 hours. Bitcoin had also reclaimed the $40k price mark at the time of writing therefore major altcoins followed a similar price movement. The massive attack on Wormhole which is an eminent bridge protocol between Solana and Ethereum caused ETH to lose close to 8% while depreciating SOL by double-digits. At the time of writing, Solana was seen trading for $109.18 after SOL was parked below the $100 mark yesterday. Ethereum was seen changing hands for $2953.03 and could soon eye the $3000 price level with continued bullishness in the market. Buyers for both the asset resurfaced at press time, pushing the coins near the overbought zone. Related Reading &#124; Bitcoin Leverage Ratio Suggests More Decline May Be Coming Solana Price Analysis: Four/Hour Chart Post dropping from the $100, Solana reclaimed the aforementioned price level and registered a sharp recovery of about 12%. Overhead resistance for SOL rested at $131.58, while, a push below the current price level will make the coin trade at $102.27. The technical outlook of Solana was quite bullish at the time of writing. Additional price floor awaited at $156.43 while support region stood near $96. The price of the altcoin was seen parked above the 20-SMA line. This reading indicated that sellers were responsible for driving the price momentum of the asset in the market. The Relative Strengt... ... [| Skaityti daugiau](https://www.newsbtc.com/news/solana-and-ethereum-recover-after-registering-double-digit-gains/) "
      ],
      "text/plain": [
       "<IPython.core.display.Markdown object>"
      ]
     },
     "execution_count": 4,
     "metadata": {},
     "output_type": "execute_result"
    }
   ],
   "source": [
    "#hide_input\n",
    "#md('##### {}'.format(titleBTC)) \n",
    "md(\"- {}{} {}{} [| Skaityti daugiau]({}) \".format(btc['title'],'. ', btc['body'], ' ...', btc['url']))"
   ]
  },
  {
   "cell_type": "code",
   "execution_count": 5,
   "id": "organic-actress",
   "metadata": {
    "execution": {
     "iopub.execute_input": "2022-02-05T01:40:47.862602Z",
     "iopub.status.busy": "2022-02-05T01:40:47.861943Z",
     "iopub.status.idle": "2022-02-05T01:40:47.865343Z",
     "shell.execute_reply": "2022-02-05T01:40:47.864835Z"
    },
    "papermill": {
     "duration": 0.019993,
     "end_time": "2022-02-05T01:40:47.865469",
     "exception": false,
     "start_time": "2022-02-05T01:40:47.845476",
     "status": "completed"
    },
    "tags": []
   },
   "outputs": [
    {
     "data": {
      "text/markdown": [
       "- SEC vs Ripple: Judge Torres unseals three documents, here’s what it means.  Attorney Jeremy Hogan took to Twitter to comment that, &#8220;The next couple months will be very interesting with all the major rulings that are being teed up!&#8221; The Ripple-SEC lawsuit is indeed at a crucial juncture. After Judge Netburn granted SEC’s request for an extension for DPP reconsideration, all eyes are now on 17 February [&#8230;] ... [| Skaityti daugiau](https://ambcrypto.com/sec-vs-ripple-judge-torres-unseals-three-documents-heres-what-it-means/) "
      ],
      "text/plain": [
       "<IPython.core.display.Markdown object>"
      ]
     },
     "execution_count": 5,
     "metadata": {},
     "output_type": "execute_result"
    }
   ],
   "source": [
    "#hide_input\n",
    "#md('##### {}'.format(titleBTC)) \n",
    "md(\"- {}{} {}{} [| Skaityti daugiau]({}) \".format(xrp['title'],'. ', xrp['body'], ' ...', xrp['url']))"
   ]
  },
  {
   "cell_type": "code",
   "execution_count": 6,
   "id": "prompt-farmer",
   "metadata": {
    "execution": {
     "iopub.execute_input": "2022-02-05T01:40:47.892525Z",
     "iopub.status.busy": "2022-02-05T01:40:47.891928Z",
     "iopub.status.idle": "2022-02-05T01:40:47.896546Z",
     "shell.execute_reply": "2022-02-05T01:40:47.896029Z"
    },
    "papermill": {
     "duration": 0.019995,
     "end_time": "2022-02-05T01:40:47.896678",
     "exception": false,
     "start_time": "2022-02-05T01:40:47.876683",
     "status": "completed"
    },
    "tags": []
   },
   "outputs": [
    {
     "data": {
      "text/markdown": [
       "- Tron (TRX) Price Analysis: Bulls Aim Larger Increase.  Tron price started a decent recovery wave above the $0.0580 level against the US Dollar. TRX price is now trading above $0.0580 and the 55 simple moving average (4-hours). There is a key bullish trend line forming with support near $0.0585 on the 4-hours chart (data feed via Bitfinex). The pair could continue to move...The post Tron (TRX) Price Analysis: Bulls Aim Larger Increase appeared first on Live Bitcoin News. ... [| Skaityti daugiau](https://www.livebitcoinnews.com/tron-trx-price-analysis-bulls-aim-larger-increase/) "
      ],
      "text/plain": [
       "<IPython.core.display.Markdown object>"
      ]
     },
     "execution_count": 6,
     "metadata": {},
     "output_type": "execute_result"
    }
   ],
   "source": [
    "#hide_input\n",
    "#md('##### {}'.format(titleBTC)) \n",
    "md(\"- {}{} {}{} [| Skaityti daugiau]({}) \".format(trx['title'],'. ', trx['body'], ' ...', trx['url']))"
   ]
  },
  {
   "cell_type": "code",
   "execution_count": 7,
   "id": "illegal-greece",
   "metadata": {
    "execution": {
     "iopub.execute_input": "2022-02-05T01:40:47.924455Z",
     "iopub.status.busy": "2022-02-05T01:40:47.923860Z",
     "iopub.status.idle": "2022-02-05T01:40:47.926884Z",
     "shell.execute_reply": "2022-02-05T01:40:47.927359Z"
    },
    "papermill": {
     "duration": 0.018939,
     "end_time": "2022-02-05T01:40:47.927500",
     "exception": false,
     "start_time": "2022-02-05T01:40:47.908561",
     "status": "completed"
    },
    "tags": []
   },
   "outputs": [
    {
     "data": {
      "text/markdown": [
       "- Ethereum ($ETH) Whales Accumulate Little-Known Altcoin After Coinbase Listing.  Ethereum ($ETH) whales have quickly moved to accumulate a little-known altcoin called Render Token ($RNDR) shortly after the cryptocurrency was listed on the Nasdaq-listed cryptocurrency exchange Coinbase. According to data shared by tracking service WhaleStats, RNDR quickly became one of the most-purchased tokens by the 1,000 largest whales on the Ethereum network, who accumulated over […] ... [| Skaityti daugiau](https://www.cryptoglobe.com/latest/2022/02/ethereum-eth-whales-accumulate-little-known-altcoin-after-coinbase-listing/) "
      ],
      "text/plain": [
       "<IPython.core.display.Markdown object>"
      ]
     },
     "execution_count": 7,
     "metadata": {},
     "output_type": "execute_result"
    }
   ],
   "source": [
    "#hide_input\n",
    "#md('##### {}'.format(titleBTC)) \n",
    "md(\"- {}{} {}{} [| Skaityti daugiau]({}) \".format(eth['title'],'. ', eth['body'], ' ...', eth['url']))"
   ]
  },
  {
   "cell_type": "code",
   "execution_count": 8,
   "id": "sublime-lounge",
   "metadata": {
    "execution": {
     "iopub.execute_input": "2022-02-05T01:40:47.959408Z",
     "iopub.status.busy": "2022-02-05T01:40:47.958315Z",
     "iopub.status.idle": "2022-02-05T01:40:47.961855Z",
     "shell.execute_reply": "2022-02-05T01:40:47.962376Z"
    },
    "papermill": {
     "duration": 0.023332,
     "end_time": "2022-02-05T01:40:47.962529",
     "exception": false,
     "start_time": "2022-02-05T01:40:47.939197",
     "status": "completed"
    },
    "tags": []
   },
   "outputs": [
    {
     "data": {
      "text/markdown": [
       "- Cardano Developer Reveals Progress On Scaling Protocol Hydra.  Cardano announced its Hydra protocol last year and has continued to develop on it ever since. The project which finally gained smart contract capability in 2021 has been making strides in proving that it is a force to be reckoned with in the space. Its decentralized finance (DeFi) space has begun to take off. Now, it offers insight into the Hydra protocol and how much progress the team has made with scaling it. Hydra Has Evolved In a recently published report on its official website, the developer behind Cardano known as IOG has provided more information on what the project Hydra is up to. It explains where the protocol is now if far from where it is coming from. Hydra which was created by the Ouborous team to increase throughput, minimize latency, and provide cost-efficient solutions without sacrificing storage resources continues to evolve. Related Reading &#124; Bitcoin On-Chain Demands Suggests That The Market Has Reached Its Bottom Hydra has now matured into a proof of concept protocol, something that was not in the initial roadmap. This has pushed the project towards “a more defined implementation for the testate MVP.” There are different Hydra Heads, which involve a robust network layer between Cardano and other blockchains, as well as other smart contracts that will drive the lifecycle of a Hydra Head. Acting as a mini-ledger, it works similarly to the on-chain main ledger of the Cardano network, but on a smaller scale... ... [| Skaityti daugiau](https://www.newsbtc.com/news/cardano/cardano-developer-reveals-progress-on-scaling-protocol-hydra/) "
      ],
      "text/plain": [
       "<IPython.core.display.Markdown object>"
      ]
     },
     "execution_count": 8,
     "metadata": {},
     "output_type": "execute_result"
    }
   ],
   "source": [
    "#hide_input\n",
    "#md('##### {}'.format(titleBTC)) \n",
    "md(\"- {}{} {}{} [| Skaityti daugiau]({}) \".format(ada['title'],'. ', ada['body'], ' ...', ada['url']))"
   ]
  },
  {
   "cell_type": "code",
   "execution_count": 9,
   "id": "specified-ordering",
   "metadata": {
    "execution": {
     "iopub.execute_input": "2022-02-05T01:40:47.993931Z",
     "iopub.status.busy": "2022-02-05T01:40:47.993325Z",
     "iopub.status.idle": "2022-02-05T01:40:47.996407Z",
     "shell.execute_reply": "2022-02-05T01:40:47.995909Z"
    },
    "papermill": {
     "duration": 0.021875,
     "end_time": "2022-02-05T01:40:47.996540",
     "exception": false,
     "start_time": "2022-02-05T01:40:47.974665",
     "status": "completed"
    },
    "tags": []
   },
   "outputs": [
    {
     "data": {
      "text/markdown": [
       "- Ethereum ($ETH) Whales Accumulate Little-Known Altcoin After Coinbase Listing.  Ethereum ($ETH) whales have quickly moved to accumulate a little-known altcoin called Render Token ($RNDR) shortly after the cryptocurrency was listed on the Nasdaq-listed cryptocurrency exchange Coinbase. According to data shared by tracking service WhaleStats, RNDR quickly became one of the most-purchased tokens by the 1,000 largest whales on the Ethereum network, who accumulated over […] ... [| Skaityti daugiau](https://www.cryptoglobe.com/latest/2022/02/ethereum-eth-whales-accumulate-little-known-altcoin-after-coinbase-listing/) "
      ],
      "text/plain": [
       "<IPython.core.display.Markdown object>"
      ]
     },
     "execution_count": 9,
     "metadata": {},
     "output_type": "execute_result"
    }
   ],
   "source": [
    "#hide_input\n",
    "#md('##### {}'.format(titleBTC)) \n",
    "md(\"- {}{} {}{} [| Skaityti daugiau]({}) \".format(exchange['title'],'. ', exchange['body'], ' ...', exchange['url']))"
   ]
  },
  {
   "cell_type": "code",
   "execution_count": null,
   "id": "tender-livestock",
   "metadata": {
    "papermill": {
     "duration": 0.012618,
     "end_time": "2022-02-05T01:40:48.021704",
     "exception": false,
     "start_time": "2022-02-05T01:40:48.009086",
     "status": "completed"
    },
    "tags": []
   },
   "outputs": [],
   "source": []
  },
  {
   "cell_type": "code",
   "execution_count": null,
   "id": "appreciated-diamond",
   "metadata": {
    "papermill": {
     "duration": 0.011871,
     "end_time": "2022-02-05T01:40:48.046291",
     "exception": false,
     "start_time": "2022-02-05T01:40:48.034420",
     "status": "completed"
    },
    "tags": []
   },
   "outputs": [],
   "source": []
  },
  {
   "cell_type": "code",
   "execution_count": null,
   "id": "romance-sweden",
   "metadata": {
    "papermill": {
     "duration": 0.012557,
     "end_time": "2022-02-05T01:40:48.071325",
     "exception": false,
     "start_time": "2022-02-05T01:40:48.058768",
     "status": "completed"
    },
    "tags": []
   },
   "outputs": [],
   "source": []
  },
  {
   "cell_type": "code",
   "execution_count": null,
   "id": "dietary-statistics",
   "metadata": {
    "papermill": {
     "duration": 0.011895,
     "end_time": "2022-02-05T01:40:48.095728",
     "exception": false,
     "start_time": "2022-02-05T01:40:48.083833",
     "status": "completed"
    },
    "tags": []
   },
   "outputs": [],
   "source": []
  }
 ],
 "metadata": {
  "kernelspec": {
   "display_name": "Python 3",
   "language": "python",
   "name": "python3"
  },
  "language_info": {
   "codemirror_mode": {
    "name": "ipython",
    "version": 3
   },
   "file_extension": ".py",
   "mimetype": "text/x-python",
   "name": "python",
   "nbconvert_exporter": "python",
   "pygments_lexer": "ipython3",
   "version": "3.6.15"
  },
  "papermill": {
   "default_parameters": {},
   "duration": 10.596011,
   "end_time": "2022-02-05T01:40:48.629289",
   "environment_variables": {},
   "exception": null,
   "input_path": "Market-News.ipynb",
   "output_path": "Market-News.ipynb",
   "parameters": {},
   "start_time": "2022-02-05T01:40:38.033278",
   "version": "2.2.2"
  }
 },
 "nbformat": 4,
 "nbformat_minor": 5
}