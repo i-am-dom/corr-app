{
 "cells": [
  {
   "cell_type": "markdown",
   "id": "short-greensboro",
   "metadata": {
    "papermill": {
     "duration": 0.016518,
     "end_time": "2022-04-19T03:02:28.995885",
     "exception": false,
     "start_time": "2022-04-19T03:02:28.979367",
     "status": "completed"
    },
    "tags": []
   },
   "source": [
    "# Kriptovaliutų naujienos"
   ]
  },
  {
   "cell_type": "code",
   "execution_count": 1,
   "id": "functioning-knowing",
   "metadata": {
    "execution": {
     "iopub.execute_input": "2022-04-19T03:02:29.032201Z",
     "iopub.status.busy": "2022-04-19T03:02:29.031560Z",
     "iopub.status.idle": "2022-04-19T03:02:30.476354Z",
     "shell.execute_reply": "2022-04-19T03:02:30.475782Z"
    },
    "papermill": {
     "duration": 1.469162,
     "end_time": "2022-04-19T03:02:30.476511",
     "exception": false,
     "start_time": "2022-04-19T03:02:29.007349",
     "status": "completed"
    },
    "tags": []
   },
   "outputs": [],
   "source": [
    "#hide_input\n",
    "import warnings\n",
    "warnings.filterwarnings('ignore')\n",
    "from scripts.read_data import read_api\n",
    "from scripts.read_data import read_news\n",
    "from scripts.read_data import read_covid\n",
    "import matplotlib.pyplot as plt \n",
    "from IPython.display import Markdown as md"
   ]
  },
  {
   "cell_type": "code",
   "execution_count": 2,
   "id": "shared-acceptance",
   "metadata": {
    "execution": {
     "iopub.execute_input": "2022-04-19T03:02:30.507312Z",
     "iopub.status.busy": "2022-04-19T03:02:30.506277Z",
     "iopub.status.idle": "2022-04-19T03:02:39.961479Z",
     "shell.execute_reply": "2022-04-19T03:02:39.960592Z"
    },
    "papermill": {
     "duration": 9.474216,
     "end_time": "2022-04-19T03:02:39.961695",
     "exception": false,
     "start_time": "2022-04-19T03:02:30.487479",
     "status": "completed"
    },
    "tags": []
   },
   "outputs": [],
   "source": [
    "#hide_input\n",
    "blockchain = read_news('blockchain') \n",
    "btc = read_news('btc') \n",
    "xrp = read_news('xrp') \n",
    "trx = read_news('trx') \n",
    "eth = read_news('eth')  \n",
    "ada = read_news('ada')\n",
    "exchange = read_news('exchange') "
   ]
  },
  {
   "cell_type": "code",
   "execution_count": 3,
   "id": "synthetic-notion",
   "metadata": {
    "execution": {
     "iopub.execute_input": "2022-04-19T03:02:39.993515Z",
     "iopub.status.busy": "2022-04-19T03:02:39.992709Z",
     "iopub.status.idle": "2022-04-19T03:02:39.997722Z",
     "shell.execute_reply": "2022-04-19T03:02:39.997240Z"
    },
    "papermill": {
     "duration": 0.023525,
     "end_time": "2022-04-19T03:02:39.997850",
     "exception": false,
     "start_time": "2022-04-19T03:02:39.974325",
     "status": "completed"
    },
    "tags": []
   },
   "outputs": [
    {
     "data": {
      "text/markdown": [
       "- Solana reclaims $102 despite a surge in trading volume.  Solana price analysis for April 19, 2022, comes on a bearish note for the SOL token while chances of losing the $100 price region as support remain low. This is because the $100 price region has been holding support for a long time now, as per our SOL price analysis for April 18, 2022, and [&#8230;]The post Solana reclaims $102 despite a surge in trading volume appeared first on Blockchain, Crypto and Stock News. ... [| Skaityti daugiau](https://thecoinrise.com/solana-reclaims-102-despite-a-surge-in-trading-volume/) "
      ],
      "text/plain": [
       "<IPython.core.display.Markdown object>"
      ]
     },
     "execution_count": 3,
     "metadata": {},
     "output_type": "execute_result"
    }
   ],
   "source": [
    "#hide_input\n",
    "#md('##### {}'.format(titleBTC)) \n",
    "md(\"- {}{} {}{} [| Skaityti daugiau]({}) \".format(blockchain['title'],'. ', blockchain['body'], ' ...', blockchain['url']))"
   ]
  },
  {
   "cell_type": "code",
   "execution_count": 4,
   "id": "aging-caution",
   "metadata": {
    "execution": {
     "iopub.execute_input": "2022-04-19T03:02:40.026386Z",
     "iopub.status.busy": "2022-04-19T03:02:40.025608Z",
     "iopub.status.idle": "2022-04-19T03:02:40.028416Z",
     "shell.execute_reply": "2022-04-19T03:02:40.028993Z"
    },
    "papermill": {
     "duration": 0.020287,
     "end_time": "2022-04-19T03:02:40.029129",
     "exception": false,
     "start_time": "2022-04-19T03:02:40.008842",
     "status": "completed"
    },
    "tags": []
   },
   "outputs": [
    {
     "data": {
      "text/markdown": [
       "- Bitcoin rebounds from $38K: Back above $40K.  Bitcoin price analysis for April 19, 2022, comes on a slightly bullish note for the token which was able to rebound from the $38K price zone and is now back above the $40K price level which confirms that the bulls have taken up arms against the bears. We can expect that $40K might be turning [&#8230;]The post Bitcoin rebounds from $38K: Back above $40K appeared first on Blockchain, Crypto and Stock News. ... [| Skaityti daugiau](https://thecoinrise.com/bitcoin-rebounds-from-38k-back-above-40k/) "
      ],
      "text/plain": [
       "<IPython.core.display.Markdown object>"
      ]
     },
     "execution_count": 4,
     "metadata": {},
     "output_type": "execute_result"
    }
   ],
   "source": [
    "#hide_input\n",
    "#md('##### {}'.format(titleBTC)) \n",
    "md(\"- {}{} {}{} [| Skaityti daugiau]({}) \".format(btc['title'],'. ', btc['body'], ' ...', btc['url']))"
   ]
  },
  {
   "cell_type": "code",
   "execution_count": 5,
   "id": "organic-actress",
   "metadata": {
    "execution": {
     "iopub.execute_input": "2022-04-19T03:02:40.057964Z",
     "iopub.status.busy": "2022-04-19T03:02:40.057337Z",
     "iopub.status.idle": "2022-04-19T03:02:40.059837Z",
     "shell.execute_reply": "2022-04-19T03:02:40.060324Z"
    },
    "papermill": {
     "duration": 0.019976,
     "end_time": "2022-04-19T03:02:40.060460",
     "exception": false,
     "start_time": "2022-04-19T03:02:40.040484",
     "status": "completed"
    },
    "tags": []
   },
   "outputs": [
    {
     "data": {
      "text/markdown": [
       "- Popular Crypto Analyst Predicts ‘Big Run’ for $XRP and $LTC Once U.S. Dollar Weakens.  Popular cryptocurrency analyst Michaël van de Poppe the prices of both $XRP and Litecoin ($LTC) will break out and embark on a ‘big run’ upward once the value of the U.S. dollar, measured against a basket of foreign currencies, starts dropping. Responding to some of his followers’ requests, van de Poppe analyzed the charts of […] ... [| Skaityti daugiau](https://www.cryptoglobe.com/latest/2022/04/popular-crypto-analyst-predicts-big-run-for-xrp-and-ltc-once-u-s-dollar-weakens/) "
      ],
      "text/plain": [
       "<IPython.core.display.Markdown object>"
      ]
     },
     "execution_count": 5,
     "metadata": {},
     "output_type": "execute_result"
    }
   ],
   "source": [
    "#hide_input\n",
    "#md('##### {}'.format(titleBTC)) \n",
    "md(\"- {}{} {}{} [| Skaityti daugiau]({}) \".format(xrp['title'],'. ', xrp['body'], ' ...', xrp['url']))"
   ]
  },
  {
   "cell_type": "code",
   "execution_count": 6,
   "id": "prompt-farmer",
   "metadata": {
    "execution": {
     "iopub.execute_input": "2022-04-19T03:02:40.088892Z",
     "iopub.status.busy": "2022-04-19T03:02:40.088293Z",
     "iopub.status.idle": "2022-04-19T03:02:40.091771Z",
     "shell.execute_reply": "2022-04-19T03:02:40.091291Z"
    },
    "papermill": {
     "duration": 0.019751,
     "end_time": "2022-04-19T03:02:40.091891",
     "exception": false,
     "start_time": "2022-04-19T03:02:40.072140",
     "status": "completed"
    },
    "tags": []
   },
   "outputs": [
    {
     "data": {
      "text/markdown": [
       "- This is what TRX traders should be wary of before going long.  Tron (TRX) was back to registering declines after the 61.8% Fibonacci resistance triggered a 25% plunge in value over the last three weeks. This fall matched its monthly low while losing its vital three-month trendline support. A close above its Point of Control (POC) could create room for compression in the $0.06 zone, while the [&#8230;] ... [| Skaityti daugiau](https://ambcrypto.com/this-is-what-trx-traders-should-be-wary-of-before-going-long/) "
      ],
      "text/plain": [
       "<IPython.core.display.Markdown object>"
      ]
     },
     "execution_count": 6,
     "metadata": {},
     "output_type": "execute_result"
    }
   ],
   "source": [
    "#hide_input\n",
    "#md('##### {}'.format(titleBTC)) \n",
    "md(\"- {}{} {}{} [| Skaityti daugiau]({}) \".format(trx['title'],'. ', trx['body'], ' ...', trx['url']))"
   ]
  },
  {
   "cell_type": "code",
   "execution_count": 7,
   "id": "illegal-greece",
   "metadata": {
    "execution": {
     "iopub.execute_input": "2022-04-19T03:02:40.122614Z",
     "iopub.status.busy": "2022-04-19T03:02:40.121776Z",
     "iopub.status.idle": "2022-04-19T03:02:40.124686Z",
     "shell.execute_reply": "2022-04-19T03:02:40.125312Z"
    },
    "papermill": {
     "duration": 0.02119,
     "end_time": "2022-04-19T03:02:40.125481",
     "exception": false,
     "start_time": "2022-04-19T03:02:40.104291",
     "status": "completed"
    },
    "tags": []
   },
   "outputs": [
    {
     "data": {
      "text/markdown": [
       "- Ethereum once again back above $3K: Where do we go from here?.  Ethereum price analysis for April 19, 2022, comes on a slightly bullish note for the token with a 1.8% surge in the last 24 hours. The token did see a drop below $3K, as per our ETH price analysis for April 18, 2022, and the bears gained strength. However, in the last 24 hours, the bulls [&#8230;]The post Ethereum once again back above $3K: Where do we go from here? appeared first on Blockchain, Crypto and Stock News. ... [| Skaityti daugiau](https://thecoinrise.com/ethereum-once-again-back-above-3k-where-do-we-go-from-here/) "
      ],
      "text/plain": [
       "<IPython.core.display.Markdown object>"
      ]
     },
     "execution_count": 7,
     "metadata": {},
     "output_type": "execute_result"
    }
   ],
   "source": [
    "#hide_input\n",
    "#md('##### {}'.format(titleBTC)) \n",
    "md(\"- {}{} {}{} [| Skaityti daugiau]({}) \".format(eth['title'],'. ', eth['body'], ' ...', eth['url']))"
   ]
  },
  {
   "cell_type": "code",
   "execution_count": 8,
   "id": "sublime-lounge",
   "metadata": {
    "execution": {
     "iopub.execute_input": "2022-04-19T03:02:40.158507Z",
     "iopub.status.busy": "2022-04-19T03:02:40.157873Z",
     "iopub.status.idle": "2022-04-19T03:02:40.161529Z",
     "shell.execute_reply": "2022-04-19T03:02:40.162002Z"
    },
    "papermill": {
     "duration": 0.023721,
     "end_time": "2022-04-19T03:02:40.162163",
     "exception": false,
     "start_time": "2022-04-19T03:02:40.138442",
     "status": "completed"
    },
    "tags": []
   },
   "outputs": [
    {
     "data": {
      "text/markdown": [
       "- Cardano Price To Suffer More Loss In April, ADA Price Might Plunge To This Level Soon.  The post Cardano Price To Suffer More Loss In April, ADA Price Might Plunge To This Level Soon appeared first on Coinpedia - Fintech &amp; Cryptocurreny News Media| Crypto GuideCardano&#8217;s problems do not appear to be going away anytime soon. As the market approached the second quarter, more investors and money were expected to flock to the altcoin, which had been rallying since March. However, the start of the second quarter swung in the opposite way, as Cardano has lost about 30% of its &#8230; ... [| Skaityti daugiau](https://coinpedia.org/altcoin/cardano-price-to-suffer-more-loss-in-april-ada-price-might-plunge-to-this-level-soon/) "
      ],
      "text/plain": [
       "<IPython.core.display.Markdown object>"
      ]
     },
     "execution_count": 8,
     "metadata": {},
     "output_type": "execute_result"
    }
   ],
   "source": [
    "#hide_input\n",
    "#md('##### {}'.format(titleBTC)) \n",
    "md(\"- {}{} {}{} [| Skaityti daugiau]({}) \".format(ada['title'],'. ', ada['body'], ' ...', ada['url']))"
   ]
  },
  {
   "cell_type": "code",
   "execution_count": 9,
   "id": "specified-ordering",
   "metadata": {
    "execution": {
     "iopub.execute_input": "2022-04-19T03:02:40.196490Z",
     "iopub.status.busy": "2022-04-19T03:02:40.195452Z",
     "iopub.status.idle": "2022-04-19T03:02:40.200029Z",
     "shell.execute_reply": "2022-04-19T03:02:40.200605Z"
    },
    "papermill": {
     "duration": 0.025456,
     "end_time": "2022-04-19T03:02:40.200741",
     "exception": false,
     "start_time": "2022-04-19T03:02:40.175285",
     "status": "completed"
    },
    "tags": []
   },
   "outputs": [
    {
     "data": {
      "text/markdown": [
       "- LBank Exchange Will List CTOMORROW PLATFORM (CTP) on April 20, 2022.  PRESS RELEASE. INTERNET CITY, DUBAI, Apr. 18, 2022 &#x2013; LBank Exchange, a global digital asset trading platform, will list CTOMORROW PLATFORM (CTP) on April 20, 2022. For all users of LBank Exchange, the CTP/USDT trading pair will be officially available for trading at 18:00 (UTC+8) on April 20, 2022. Using cutting-edge technologies to revolutionize current [&#8230;] ... [| Skaityti daugiau](https://news.bitcoin.com/lbank-exchange-will-list-ctomorrow-platform-ctp-on-april-20-2022/) "
      ],
      "text/plain": [
       "<IPython.core.display.Markdown object>"
      ]
     },
     "execution_count": 9,
     "metadata": {},
     "output_type": "execute_result"
    }
   ],
   "source": [
    "#hide_input\n",
    "#md('##### {}'.format(titleBTC)) \n",
    "md(\"- {}{} {}{} [| Skaityti daugiau]({}) \".format(exchange['title'],'. ', exchange['body'], ' ...', exchange['url']))"
   ]
  },
  {
   "cell_type": "code",
   "execution_count": null,
   "id": "tender-livestock",
   "metadata": {
    "papermill": {
     "duration": 0.013239,
     "end_time": "2022-04-19T03:02:40.227460",
     "exception": false,
     "start_time": "2022-04-19T03:02:40.214221",
     "status": "completed"
    },
    "tags": []
   },
   "outputs": [],
   "source": []
  },
  {
   "cell_type": "code",
   "execution_count": null,
   "id": "appreciated-diamond",
   "metadata": {
    "papermill": {
     "duration": 0.013326,
     "end_time": "2022-04-19T03:02:40.254191",
     "exception": false,
     "start_time": "2022-04-19T03:02:40.240865",
     "status": "completed"
    },
    "tags": []
   },
   "outputs": [],
   "source": []
  },
  {
   "cell_type": "code",
   "execution_count": null,
   "id": "romance-sweden",
   "metadata": {
    "papermill": {
     "duration": 0.013422,
     "end_time": "2022-04-19T03:02:40.282160",
     "exception": false,
     "start_time": "2022-04-19T03:02:40.268738",
     "status": "completed"
    },
    "tags": []
   },
   "outputs": [],
   "source": []
  },
  {
   "cell_type": "code",
   "execution_count": null,
   "id": "dietary-statistics",
   "metadata": {
    "papermill": {
     "duration": 0.013308,
     "end_time": "2022-04-19T03:02:40.308908",
     "exception": false,
     "start_time": "2022-04-19T03:02:40.295600",
     "status": "completed"
    },
    "tags": []
   },
   "outputs": [],
   "source": []
  }
 ],
 "metadata": {
  "kernelspec": {
   "display_name": "Python 3",
   "language": "python",
   "name": "python3"
  },
  "language_info": {
   "codemirror_mode": {
    "name": "ipython",
    "version": 3
   },
   "file_extension": ".py",
   "mimetype": "text/x-python",
   "name": "python",
   "nbconvert_exporter": "python",
   "pygments_lexer": "ipython3",
   "version": "3.6.15"
  },
  "papermill": {
   "default_parameters": {},
   "duration": 13.162157,
   "end_time": "2022-04-19T03:02:40.843728",
   "environment_variables": {},
   "exception": null,
   "input_path": "Market-News.ipynb",
   "output_path": "Market-News.ipynb",
   "parameters": {},
   "start_time": "2022-04-19T03:02:27.681571",
   "version": "2.2.2"
  }
 },
 "nbformat": 4,
 "nbformat_minor": 5
}