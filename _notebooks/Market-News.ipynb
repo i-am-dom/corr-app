{
 "cells": [
  {
   "cell_type": "markdown",
   "id": "short-greensboro",
   "metadata": {
    "papermill": {
     "duration": 0.016318,
     "end_time": "2022-11-08T03:03:10.234557",
     "exception": false,
     "start_time": "2022-11-08T03:03:10.218239",
     "status": "completed"
    },
    "tags": []
   },
   "source": [
    "# Kriptovaliutų naujienos"
   ]
  },
  {
   "cell_type": "code",
   "execution_count": 1,
   "id": "functioning-knowing",
   "metadata": {
    "execution": {
     "iopub.execute_input": "2022-11-08T03:03:10.273018Z",
     "iopub.status.busy": "2022-11-08T03:03:10.272193Z",
     "iopub.status.idle": "2022-11-08T03:03:11.860757Z",
     "shell.execute_reply": "2022-11-08T03:03:11.860092Z"
    },
    "papermill": {
     "duration": 1.613863,
     "end_time": "2022-11-08T03:03:11.860940",
     "exception": false,
     "start_time": "2022-11-08T03:03:10.247077",
     "status": "completed"
    },
    "tags": []
   },
   "outputs": [],
   "source": [
    "#hide_input\n",
    "import warnings\n",
    "warnings.filterwarnings('ignore')\n",
    "from scripts.read_data import read_api\n",
    "from scripts.read_data import read_news\n",
    "from scripts.read_data import read_covid\n",
    "import matplotlib.pyplot as plt \n",
    "from IPython.display import Markdown as md"
   ]
  },
  {
   "cell_type": "code",
   "execution_count": 2,
   "id": "shared-acceptance",
   "metadata": {
    "execution": {
     "iopub.execute_input": "2022-11-08T03:03:11.896085Z",
     "iopub.status.busy": "2022-11-08T03:03:11.895180Z",
     "iopub.status.idle": "2022-11-08T03:03:24.414103Z",
     "shell.execute_reply": "2022-11-08T03:03:24.414691Z"
    },
    "papermill": {
     "duration": 12.541983,
     "end_time": "2022-11-08T03:03:24.414864",
     "exception": false,
     "start_time": "2022-11-08T03:03:11.872881",
     "status": "completed"
    },
    "tags": []
   },
   "outputs": [],
   "source": [
    "#hide_input\n",
    "blockchain = read_news('blockchain') \n",
    "btc = read_news('btc') \n",
    "xrp = read_news('xrp') \n",
    "trx = read_news('trx') \n",
    "eth = read_news('eth')  \n",
    "ada = read_news('ada')\n",
    "exchange = read_news('exchange') "
   ]
  },
  {
   "cell_type": "code",
   "execution_count": 3,
   "id": "synthetic-notion",
   "metadata": {
    "execution": {
     "iopub.execute_input": "2022-11-08T03:03:24.446841Z",
     "iopub.status.busy": "2022-11-08T03:03:24.446014Z",
     "iopub.status.idle": "2022-11-08T03:03:24.453792Z",
     "shell.execute_reply": "2022-11-08T03:03:24.454364Z"
    },
    "papermill": {
     "duration": 0.027817,
     "end_time": "2022-11-08T03:03:24.454537",
     "exception": false,
     "start_time": "2022-11-08T03:03:24.426720",
     "status": "completed"
    },
    "tags": []
   },
   "outputs": [
    {
     "data": {
      "text/markdown": [
       "- Riot Blockchain third quarter revenue falls short of analyst estimates.  Bitcoin mining company Riot Blockchain failed to meet analyst estimates for revenue for the third quarter. ... [| Skaityti daugiau](https://www.theblock.co/post/184003/riot-blockchain-third-quarter-revenue-falls-short-of-analyst-estimates?utm_source=cryptocompare&utm_medium=rss) "
      ],
      "text/plain": [
       "<IPython.core.display.Markdown object>"
      ]
     },
     "execution_count": 3,
     "metadata": {},
     "output_type": "execute_result"
    }
   ],
   "source": [
    "#hide_input\n",
    "#md('##### {}'.format(titleBTC)) \n",
    "md(\"- {}{} {}{} [| Skaityti daugiau]({}) \".format(blockchain['title'],'. ', blockchain['body'], ' ...', blockchain['url']))"
   ]
  },
  {
   "cell_type": "code",
   "execution_count": 4,
   "id": "aging-caution",
   "metadata": {
    "execution": {
     "iopub.execute_input": "2022-11-08T03:03:24.486230Z",
     "iopub.status.busy": "2022-11-08T03:03:24.485471Z",
     "iopub.status.idle": "2022-11-08T03:03:24.493132Z",
     "shell.execute_reply": "2022-11-08T03:03:24.492493Z"
    },
    "papermill": {
     "duration": 0.026427,
     "end_time": "2022-11-08T03:03:24.493281",
     "exception": false,
     "start_time": "2022-11-08T03:03:24.466854",
     "status": "completed"
    },
    "tags": []
   },
   "outputs": [
    {
     "data": {
      "text/markdown": [
       "- Amid Macro Uncertainty, Bitcoin Stabilizes. Incredible October Stats Inside.  The world is upside down. Is bitcoin stable now? Or is everything else extremely volatile all of a sudden? As the planet descends into chaos, bitcoin remains in a weird limbo that’s uncharacteristic of the asset and doesn’t seem to end. That’s both what it feels like and what the stats say. In the latest ARK Invest’s The Bitcoin Monthly report, they put it like this, “bitcoin finds itself in a tug of war between oversold on-chain conditions and a chaotic macro environment.” Related Reading: ARK Invest: Despite The 9 Red Candles, “Bitcoin’s Fundamentals Remain Strong” What about the numbers, though? The stats support the thesis, “for the third month in a row, bitcoin continues to trade between support at its investor cost basis ($18,814) and resistance at its 200- week moving average ($23,460).” Three months in that range seems like too much. Something’s got to give. However, that’s what everyone’s been thinking for the last few months and we’re still here. The Dollar Milkshake Theory Bitcoin has been less-volatile than usual, sure, but the main factor here is that the whole world is falling to pieces. Every company is in the red, especially techy ones, and all of the world’s currencies except the dollar fell off a cliff. Are we seeing “the dollar milkshake theory” playing out in front of our own eyes? It sure feels that way. Global central banks have been printing bills like there’s no tomorrow, and that extra liquidity is the... ... [| Skaityti daugiau](https://www.newsbtc.com/news/bitcoin/amid-macro-uncertainty-bitcoin-stabilizes-incredible-october-stats-inside/) "
      ],
      "text/plain": [
       "<IPython.core.display.Markdown object>"
      ]
     },
     "execution_count": 4,
     "metadata": {},
     "output_type": "execute_result"
    }
   ],
   "source": [
    "#hide_input\n",
    "#md('##### {}'.format(titleBTC)) \n",
    "md(\"- {}{} {}{} [| Skaityti daugiau]({}) \".format(btc['title'],'. ', btc['body'], ' ...', btc['url']))"
   ]
  },
  {
   "cell_type": "code",
   "execution_count": 5,
   "id": "organic-actress",
   "metadata": {
    "execution": {
     "iopub.execute_input": "2022-11-08T03:03:24.526245Z",
     "iopub.status.busy": "2022-11-08T03:03:24.525475Z",
     "iopub.status.idle": "2022-11-08T03:03:24.532430Z",
     "shell.execute_reply": "2022-11-08T03:03:24.533014Z"
    },
    "papermill": {
     "duration": 0.026375,
     "end_time": "2022-11-08T03:03:24.533176",
     "exception": false,
     "start_time": "2022-11-08T03:03:24.506801",
     "status": "completed"
    },
    "tags": []
   },
   "outputs": [
    {
     "data": {
      "text/markdown": [
       "- XRP traders need to watch out for this bearish order block from May.  Disclaimer: The information presented does not constitute financial, investment, trading, or other types of advice and is solely the writer’s opinion XRP forms yet another range after breaking above the previous one in September Will the range highs see a breakout or a rejection for XRP? XRP saw positive sentiment in the market in September, [&#8230;] ... [| Skaityti daugiau](https://ambcrypto.com/xrp-traders-need-to-watch-out-for-this-bearish-order-block-from-may/) "
      ],
      "text/plain": [
       "<IPython.core.display.Markdown object>"
      ]
     },
     "execution_count": 5,
     "metadata": {},
     "output_type": "execute_result"
    }
   ],
   "source": [
    "#hide_input\n",
    "#md('##### {}'.format(titleBTC)) \n",
    "md(\"- {}{} {}{} [| Skaityti daugiau]({}) \".format(xrp['title'],'. ', xrp['body'], ' ...', xrp['url']))"
   ]
  },
  {
   "cell_type": "code",
   "execution_count": 6,
   "id": "prompt-farmer",
   "metadata": {
    "execution": {
     "iopub.execute_input": "2022-11-08T03:03:24.566890Z",
     "iopub.status.busy": "2022-11-08T03:03:24.566118Z",
     "iopub.status.idle": "2022-11-08T03:03:24.573736Z",
     "shell.execute_reply": "2022-11-08T03:03:24.573100Z"
    },
    "papermill": {
     "duration": 0.02731,
     "end_time": "2022-11-08T03:03:24.573878",
     "exception": false,
     "start_time": "2022-11-08T03:03:24.546568",
     "status": "completed"
    },
    "tags": []
   },
   "outputs": [
    {
     "data": {
      "text/markdown": [
       "- Tron Transaction Volume Balloons To 5.3 Million In Q3, But There’s Still Doubts Ahead.  Once a week, the official Tron Twitter account would tweet out an update for the world to see. The events of the past week, the post claims, have provided Tron with new possibilities. Also during the quarter, Messari published their own report on Tron&#8217;s performance. As more data on the token&#8217;s side are investigated, the research claims that the future of the protocol is bright, but that mixed signals are spreading doubt to fans and investors. This can be worrisome since low confidence can lead to a sell-off, which can further drive the token&#8217;s price down. Even while there is hope for the token&#8217;s future in the Messari research, investors in cryptocurrencies appear to be more concerned with the continued decline in development activity and other factors. 🔥The report points out that: ✅#TRON #TVL grew by 61% QoQ. ✅The total transactions grew by 12.4% to 5.3M over Q3. ✅#TRON network activity reached a refreshed foundational user base after the launch of #USDD in May. 👀Read the full report👇https://t.co/BOxQzatH9M — TRON DAO (@trondao) November 5, 2022 In addition, the amount of DeFi territory on Tron ballooned dramatically. There was a 61% rise in TVL (total value locked). Total TRX transactions also increased by 12.4% year over year in the third quarter to 5.3 million. How high may TRX go in the next several days, and will bears in the TRX market eventually prevail? Related Reading: Tron Development Activ... ... [| Skaityti daugiau](https://www.newsbtc.com/news/tron-transaction-volume-balloons-to-5-3-million-in-q3-but-theres-still-doubts-ahead/) "
      ],
      "text/plain": [
       "<IPython.core.display.Markdown object>"
      ]
     },
     "execution_count": 6,
     "metadata": {},
     "output_type": "execute_result"
    }
   ],
   "source": [
    "#hide_input\n",
    "#md('##### {}'.format(titleBTC)) \n",
    "md(\"- {}{} {}{} [| Skaityti daugiau]({}) \".format(trx['title'],'. ', trx['body'], ' ...', trx['url']))"
   ]
  },
  {
   "cell_type": "code",
   "execution_count": 7,
   "id": "illegal-greece",
   "metadata": {
    "execution": {
     "iopub.execute_input": "2022-11-08T03:03:24.609391Z",
     "iopub.status.busy": "2022-11-08T03:03:24.606853Z",
     "iopub.status.idle": "2022-11-08T03:03:24.612645Z",
     "shell.execute_reply": "2022-11-08T03:03:24.613236Z"
    },
    "papermill": {
     "duration": 0.025881,
     "end_time": "2022-11-08T03:03:24.613405",
     "exception": false,
     "start_time": "2022-11-08T03:03:24.587524",
     "status": "completed"
    },
    "tags": []
   },
   "outputs": [
    {
     "data": {
      "text/markdown": [
       "- Ethereum Co-Founder Di Iorio Unveils New Project to Bring Blockchain Computers to a Wider Audience.  The Decentral and Jaxx Liberty Founder unveiled the project in Toronto, Canada; Ethereum’s birthplace. ... [| Skaityti daugiau](https://www.coindesk.com/tech/2022/11/08/ethereum-co-founder-di-iorio-unveils-new-project-to-bring-blockchain-computers-to-a-wider-audience/?utm_medium=referral&utm_source=rss&utm_campaign=headlines) "
      ],
      "text/plain": [
       "<IPython.core.display.Markdown object>"
      ]
     },
     "execution_count": 7,
     "metadata": {},
     "output_type": "execute_result"
    }
   ],
   "source": [
    "#hide_input\n",
    "#md('##### {}'.format(titleBTC)) \n",
    "md(\"- {}{} {}{} [| Skaityti daugiau]({}) \".format(eth['title'],'. ', eth['body'], ' ...', eth['url']))"
   ]
  },
  {
   "cell_type": "code",
   "execution_count": 8,
   "id": "sublime-lounge",
   "metadata": {
    "execution": {
     "iopub.execute_input": "2022-11-08T03:03:24.648359Z",
     "iopub.status.busy": "2022-11-08T03:03:24.647533Z",
     "iopub.status.idle": "2022-11-08T03:03:24.651774Z",
     "shell.execute_reply": "2022-11-08T03:03:24.651016Z"
    },
    "papermill": {
     "duration": 0.024812,
     "end_time": "2022-11-08T03:03:24.651920",
     "exception": false,
     "start_time": "2022-11-08T03:03:24.627108",
     "status": "completed"
    },
    "tags": []
   },
   "outputs": [
    {
     "data": {
      "text/markdown": [
       "- Cardano price analysis: ADA swiftly retraces to $0.4, higher local low set?.  Cardano price analysis is bullish today as we have seen a higher low set at $0.4 and a slight reaction higher over the past hours. Therefore, ADA/USD should see a reversal soon and look to advance even higher over the next few days. The market has traded in the red over the last 24 hours. &#8230;  Cardano price analysis: ADA swiftly retraces to $0.4, higher local low set? Read More &#187; ... [| Skaityti daugiau](https://www.cryptopolitan.com/cardano-price-analysis-2022-11-07/) "
      ],
      "text/plain": [
       "<IPython.core.display.Markdown object>"
      ]
     },
     "execution_count": 8,
     "metadata": {},
     "output_type": "execute_result"
    }
   ],
   "source": [
    "#hide_input\n",
    "#md('##### {}'.format(titleBTC)) \n",
    "md(\"- {}{} {}{} [| Skaityti daugiau]({}) \".format(ada['title'],'. ', ada['body'], ' ...', ada['url']))"
   ]
  },
  {
   "cell_type": "code",
   "execution_count": 9,
   "id": "specified-ordering",
   "metadata": {
    "execution": {
     "iopub.execute_input": "2022-11-08T03:03:24.689741Z",
     "iopub.status.busy": "2022-11-08T03:03:24.687922Z",
     "iopub.status.idle": "2022-11-08T03:03:24.692484Z",
     "shell.execute_reply": "2022-11-08T03:03:24.691775Z"
    },
    "papermill": {
     "duration": 0.025991,
     "end_time": "2022-11-08T03:03:24.692625",
     "exception": false,
     "start_time": "2022-11-08T03:03:24.666634",
     "status": "completed"
    },
    "tags": []
   },
   "outputs": [
    {
     "data": {
      "text/markdown": [
       "- First Mover Asia: A Good Week for Exchange Tokens, Except FTT; Solana Continues Falling.  During the past week, a number of exchange tokens have outperformed bitcoin, including OKX and CRO. FTT is not among them. ... [| Skaityti daugiau](https://www.coindesk.com/markets/2022/11/08/first-mover-asia-a-good-week-for-exchange-tokens-except-ftt-solana-continues-falling/?utm_medium=referral&utm_source=rss&utm_campaign=headlines) "
      ],
      "text/plain": [
       "<IPython.core.display.Markdown object>"
      ]
     },
     "execution_count": 9,
     "metadata": {},
     "output_type": "execute_result"
    }
   ],
   "source": [
    "#hide_input\n",
    "#md('##### {}'.format(titleBTC)) \n",
    "md(\"- {}{} {}{} [| Skaityti daugiau]({}) \".format(exchange['title'],'. ', exchange['body'], ' ...', exchange['url']))"
   ]
  },
  {
   "cell_type": "code",
   "execution_count": null,
   "id": "tender-livestock",
   "metadata": {
    "papermill": {
     "duration": 0.015071,
     "end_time": "2022-11-08T03:03:24.723153",
     "exception": false,
     "start_time": "2022-11-08T03:03:24.708082",
     "status": "completed"
    },
    "tags": []
   },
   "outputs": [],
   "source": []
  },
  {
   "cell_type": "code",
   "execution_count": null,
   "id": "appreciated-diamond",
   "metadata": {
    "papermill": {
     "duration": 0.014922,
     "end_time": "2022-11-08T03:03:24.752588",
     "exception": false,
     "start_time": "2022-11-08T03:03:24.737666",
     "status": "completed"
    },
    "tags": []
   },
   "outputs": [],
   "source": []
  },
  {
   "cell_type": "code",
   "execution_count": null,
   "id": "romance-sweden",
   "metadata": {
    "papermill": {
     "duration": 0.014636,
     "end_time": "2022-11-08T03:03:24.782333",
     "exception": false,
     "start_time": "2022-11-08T03:03:24.767697",
     "status": "completed"
    },
    "tags": []
   },
   "outputs": [],
   "source": []
  },
  {
   "cell_type": "code",
   "execution_count": null,
   "id": "dietary-statistics",
   "metadata": {
    "papermill": {
     "duration": 0.014495,
     "end_time": "2022-11-08T03:03:24.812090",
     "exception": false,
     "start_time": "2022-11-08T03:03:24.797595",
     "status": "completed"
    },
    "tags": []
   },
   "outputs": [],
   "source": []
  }
 ],
 "metadata": {
  "kernelspec": {
   "display_name": "Python 3",
   "language": "python",
   "name": "python3"
  },
  "language_info": {
   "codemirror_mode": {
    "name": "ipython",
    "version": 3
   },
   "file_extension": ".py",
   "mimetype": "text/x-python",
   "name": "python",
   "nbconvert_exporter": "python",
   "pygments_lexer": "ipython3",
   "version": "3.6.15"
  },
  "papermill": {
   "default_parameters": {},
   "duration": 16.318978,
   "end_time": "2022-11-08T03:03:25.349361",
   "environment_variables": {},
   "exception": null,
   "input_path": "Market-News.ipynb",
   "output_path": "Market-News.ipynb",
   "parameters": {},
   "start_time": "2022-11-08T03:03:09.030383",
   "version": "2.2.2"
  }
 },
 "nbformat": 4,
 "nbformat_minor": 5
}