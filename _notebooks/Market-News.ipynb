{
 "cells": [
  {
   "cell_type": "markdown",
   "id": "short-greensboro",
   "metadata": {
    "papermill": {
     "duration": 0.012566,
     "end_time": "2022-06-28T03:12:27.766184",
     "exception": false,
     "start_time": "2022-06-28T03:12:27.753618",
     "status": "completed"
    },
    "tags": []
   },
   "source": [
    "# Kriptovaliutų naujienos"
   ]
  },
  {
   "cell_type": "code",
   "execution_count": 1,
   "id": "functioning-knowing",
   "metadata": {
    "execution": {
     "iopub.execute_input": "2022-06-28T03:12:27.794879Z",
     "iopub.status.busy": "2022-06-28T03:12:27.794312Z",
     "iopub.status.idle": "2022-06-28T03:12:28.943391Z",
     "shell.execute_reply": "2022-06-28T03:12:28.942830Z"
    },
    "papermill": {
     "duration": 1.167585,
     "end_time": "2022-06-28T03:12:28.943532",
     "exception": false,
     "start_time": "2022-06-28T03:12:27.775947",
     "status": "completed"
    },
    "tags": []
   },
   "outputs": [],
   "source": [
    "#hide_input\n",
    "import warnings\n",
    "warnings.filterwarnings('ignore')\n",
    "from scripts.read_data import read_api\n",
    "from scripts.read_data import read_news\n",
    "from scripts.read_data import read_covid\n",
    "import matplotlib.pyplot as plt \n",
    "from IPython.display import Markdown as md"
   ]
  },
  {
   "cell_type": "code",
   "execution_count": 2,
   "id": "shared-acceptance",
   "metadata": {
    "execution": {
     "iopub.execute_input": "2022-06-28T03:12:28.968815Z",
     "iopub.status.busy": "2022-06-28T03:12:28.967874Z",
     "iopub.status.idle": "2022-06-28T03:12:39.996286Z",
     "shell.execute_reply": "2022-06-28T03:12:39.995806Z"
    },
    "papermill": {
     "duration": 11.04308,
     "end_time": "2022-06-28T03:12:39.996417",
     "exception": false,
     "start_time": "2022-06-28T03:12:28.953337",
     "status": "completed"
    },
    "tags": []
   },
   "outputs": [],
   "source": [
    "#hide_input\n",
    "blockchain = read_news('blockchain') \n",
    "btc = read_news('btc') \n",
    "xrp = read_news('xrp') \n",
    "trx = read_news('trx') \n",
    "eth = read_news('eth')  \n",
    "ada = read_news('ada')\n",
    "exchange = read_news('exchange') "
   ]
  },
  {
   "cell_type": "code",
   "execution_count": 3,
   "id": "synthetic-notion",
   "metadata": {
    "execution": {
     "iopub.execute_input": "2022-06-28T03:12:40.021268Z",
     "iopub.status.busy": "2022-06-28T03:12:40.020655Z",
     "iopub.status.idle": "2022-06-28T03:12:40.024094Z",
     "shell.execute_reply": "2022-06-28T03:12:40.023568Z"
    },
    "papermill": {
     "duration": 0.01798,
     "end_time": "2022-06-28T03:12:40.024212",
     "exception": false,
     "start_time": "2022-06-28T03:12:40.006232",
     "status": "completed"
    },
    "tags": []
   },
   "outputs": [
    {
     "data": {
      "text/markdown": [
       "- Voyager Digital Issues Default Notice to Three Arrows Capital.  Cryptocurrency platform, Voyager Digital has announced it has issued a notice of default to the crypto hedge fund, Three Arrows Capital (3AC). The default in question is estimated to be worth over $650 million featuring 15,250 Bitcoin (BTC) and $350 million in USDC. With 3AC not being able to pay the loan, Voyager Digital said [&#8230;]The post Voyager Digital Issues Default Notice to Three Arrows Capital appeared first on Blockchain, Crypto and Stock News. ... [| Skaityti daugiau](https://thecoinrise.com/voyager-digital-issues-default-notice-to-three-arrows-capital/) "
      ],
      "text/plain": [
       "<IPython.core.display.Markdown object>"
      ]
     },
     "execution_count": 3,
     "metadata": {},
     "output_type": "execute_result"
    }
   ],
   "source": [
    "#hide_input\n",
    "#md('##### {}'.format(titleBTC)) \n",
    "md(\"- {}{} {}{} [| Skaityti daugiau]({}) \".format(blockchain['title'],'. ', blockchain['body'], ' ...', blockchain['url']))"
   ]
  },
  {
   "cell_type": "code",
   "execution_count": 4,
   "id": "aging-caution",
   "metadata": {
    "execution": {
     "iopub.execute_input": "2022-06-28T03:12:40.047406Z",
     "iopub.status.busy": "2022-06-28T03:12:40.046835Z",
     "iopub.status.idle": "2022-06-28T03:12:40.049853Z",
     "shell.execute_reply": "2022-06-28T03:12:40.050258Z"
    },
    "papermill": {
     "duration": 0.01675,
     "end_time": "2022-06-28T03:12:40.050373",
     "exception": false,
     "start_time": "2022-06-28T03:12:40.033623",
     "status": "completed"
    },
    "tags": []
   },
   "outputs": [
    {
     "data": {
      "text/markdown": [
       "- TA: Bitcoin Dips Further, Why BTC Could Revisit $20K.  Bitcoin is moving lower below the $21,000 zone against the US Dollar. BTC could gain bearish momentum below the $20,650 support zone. Bitcoin struggled to rise above $21,200 and declined towards $20,650. The price is now below the $21,000 level and the 100 hourly simple moving average. There is a key bearish trend line forming with resistance near $21,000 on the hourly chart of the BTC/USD pair (data feed from Kraken). The pair could decline further if there is a clear move below the $20,650 zone. Bitcoin Price Remains At Risk Bitcoin price failed to clear the $21,500 resistance zone and started a fresh decline. The price declined below the $21,200 and $21,000 levels. There was a clear move below the 50% Fib retracement level of the upward move from the $19,751 swing low to $21,780 high. There was also a close below the $20,800 level and the 100 hourly simple moving average. Bitcoin tested the $20,600 and $20,500 support levels. It is now consolidating near the 61.8% Fib retracement level of the upward move from the $19,751 swing low to $21,780 high. An immediate resistance on the upside is near the $21,920 level. The next key resistance is near the $21,000 level. There is also a key bearish trend line forming with resistance near $21,000 on the hourly chart of the BTC/USD pair. A clear move above the $21,000 level might start a decent increase. Source: BTCUSD on TradingView.com In the stated case, the price could rise above t... ... [| Skaityti daugiau](https://www.newsbtc.com/analysis/btc/ta-bitcoin-dips-further-why-btc-could-revisit-20k/) "
      ],
      "text/plain": [
       "<IPython.core.display.Markdown object>"
      ]
     },
     "execution_count": 4,
     "metadata": {},
     "output_type": "execute_result"
    }
   ],
   "source": [
    "#hide_input\n",
    "#md('##### {}'.format(titleBTC)) \n",
    "md(\"- {}{} {}{} [| Skaityti daugiau]({}) \".format(btc['title'],'. ', btc['body'], ' ...', btc['url']))"
   ]
  },
  {
   "cell_type": "code",
   "execution_count": 5,
   "id": "organic-actress",
   "metadata": {
    "execution": {
     "iopub.execute_input": "2022-06-28T03:12:40.074249Z",
     "iopub.status.busy": "2022-06-28T03:12:40.073468Z",
     "iopub.status.idle": "2022-06-28T03:12:40.077598Z",
     "shell.execute_reply": "2022-06-28T03:12:40.077061Z"
    },
    "papermill": {
     "duration": 0.017475,
     "end_time": "2022-06-28T03:12:40.077699",
     "exception": false,
     "start_time": "2022-06-28T03:12:40.060224",
     "status": "completed"
    },
    "tags": []
   },
   "outputs": [
    {
     "data": {
      "text/markdown": [
       "- Ripple Will Leave The United States If The SEC Wins Them In Court, CEO Says.  Brad Garlinghouse has not a single doubt about what to do should Ripple lose against the SEC: They will leave the United States for good. ... [| Skaityti daugiau](https://cryptopotato.com/ripple-will-leave-the-united-states-if-the-sec-wins-its-lawsuit-ceo-says/) "
      ],
      "text/plain": [
       "<IPython.core.display.Markdown object>"
      ]
     },
     "execution_count": 5,
     "metadata": {},
     "output_type": "execute_result"
    }
   ],
   "source": [
    "#hide_input\n",
    "#md('##### {}'.format(titleBTC)) \n",
    "md(\"- {}{} {}{} [| Skaityti daugiau]({}) \".format(xrp['title'],'. ', xrp['body'], ' ...', xrp['url']))"
   ]
  },
  {
   "cell_type": "code",
   "execution_count": 6,
   "id": "prompt-farmer",
   "metadata": {
    "execution": {
     "iopub.execute_input": "2022-06-28T03:12:40.102870Z",
     "iopub.status.busy": "2022-06-28T03:12:40.102307Z",
     "iopub.status.idle": "2022-06-28T03:12:40.105687Z",
     "shell.execute_reply": "2022-06-28T03:12:40.105233Z"
    },
    "papermill": {
     "duration": 0.017929,
     "end_time": "2022-06-28T03:12:40.105788",
     "exception": false,
     "start_time": "2022-06-28T03:12:40.087859",
     "status": "completed"
    },
    "tags": []
   },
   "outputs": [
    {
     "data": {
      "text/markdown": [
       "- TRON Price On The Up As Risk Of USDD Depegging Falters.  TRON Price On The Up As Risk Of USDD Depegging Falters. Today, the price of Tron (TRX) is breaking bears and watching them exit the market as bulls knock out two important resistance components throughout the ASIA PAC and European trading periods. The price of Tron has risen 6 percent in the last few hours [&#8230;]The post TRON Price On The Up As Risk Of USDD Depegging Falters appeared first on The Crypto Basic. ... [| Skaityti daugiau](https://thecryptobasic.com/2022/06/27/tron-price-on-the-up-as-risk-of-usdd-depegging-falters/?utm_source=rss&utm_medium=rss&utm_campaign=tron-price-on-the-up-as-risk-of-usdd-depegging-falters) "
      ],
      "text/plain": [
       "<IPython.core.display.Markdown object>"
      ]
     },
     "execution_count": 6,
     "metadata": {},
     "output_type": "execute_result"
    }
   ],
   "source": [
    "#hide_input\n",
    "#md('##### {}'.format(titleBTC)) \n",
    "md(\"- {}{} {}{} [| Skaityti daugiau]({}) \".format(trx['title'],'. ', trx['body'], ' ...', trx['url']))"
   ]
  },
  {
   "cell_type": "code",
   "execution_count": 7,
   "id": "illegal-greece",
   "metadata": {
    "execution": {
     "iopub.execute_input": "2022-06-28T03:12:40.132184Z",
     "iopub.status.busy": "2022-06-28T03:12:40.131594Z",
     "iopub.status.idle": "2022-06-28T03:12:40.134286Z",
     "shell.execute_reply": "2022-06-28T03:12:40.134705Z"
    },
    "papermill": {
     "duration": 0.018123,
     "end_time": "2022-06-28T03:12:40.134827",
     "exception": false,
     "start_time": "2022-06-28T03:12:40.116704",
     "status": "completed"
    },
    "tags": []
   },
   "outputs": [
    {
     "data": {
      "text/markdown": [
       "- Harmony Hackers Begin Laundering Ethereum Stolen From Horizon Bridge.  The thieves have sent $36 million of the $100 million in stolen Ethereum to a mixing service. ... [| Skaityti daugiau](https://decrypt.co/103941/harmony-hackers-begin-laundering-stolen-horizon-bridge-funds) "
      ],
      "text/plain": [
       "<IPython.core.display.Markdown object>"
      ]
     },
     "execution_count": 7,
     "metadata": {},
     "output_type": "execute_result"
    }
   ],
   "source": [
    "#hide_input\n",
    "#md('##### {}'.format(titleBTC)) \n",
    "md(\"- {}{} {}{} [| Skaityti daugiau]({}) \".format(eth['title'],'. ', eth['body'], ' ...', eth['url']))"
   ]
  },
  {
   "cell_type": "code",
   "execution_count": 8,
   "id": "sublime-lounge",
   "metadata": {
    "execution": {
     "iopub.execute_input": "2022-06-28T03:12:40.161995Z",
     "iopub.status.busy": "2022-06-28T03:12:40.161424Z",
     "iopub.status.idle": "2022-06-28T03:12:40.164821Z",
     "shell.execute_reply": "2022-06-28T03:12:40.164390Z"
    },
    "papermill": {
     "duration": 0.018276,
     "end_time": "2022-06-28T03:12:40.164926",
     "exception": false,
     "start_time": "2022-06-28T03:12:40.146650",
     "status": "completed"
    },
    "tags": []
   },
   "outputs": [
    {
     "data": {
      "text/markdown": [
       "- Cardano Pushes Out Final Node, Vasil Hard Fork On Schedule.  Input Output, which is a platform that drives the decentralised and smart contract platform Cardano, has now released the Cardano node 1.35.0. The Input Output team has announced via a tweet, that the release of Cardano node 1.35.0 has been successful. This development marks an important step closer to the Vasil Hard Fork. Cardano developers [&#8230;] ... [| Skaityti daugiau](https://bitcoinist.com/cardano-pushes-out-final-node-vasil-hard-fork/) "
      ],
      "text/plain": [
       "<IPython.core.display.Markdown object>"
      ]
     },
     "execution_count": 8,
     "metadata": {},
     "output_type": "execute_result"
    }
   ],
   "source": [
    "#hide_input\n",
    "#md('##### {}'.format(titleBTC)) \n",
    "md(\"- {}{} {}{} [| Skaityti daugiau]({}) \".format(ada['title'],'. ', ada['body'], ' ...', ada['url']))"
   ]
  },
  {
   "cell_type": "code",
   "execution_count": 9,
   "id": "specified-ordering",
   "metadata": {
    "execution": {
     "iopub.execute_input": "2022-06-28T03:12:40.191333Z",
     "iopub.status.busy": "2022-06-28T03:12:40.190791Z",
     "iopub.status.idle": "2022-06-28T03:12:40.194195Z",
     "shell.execute_reply": "2022-06-28T03:12:40.193659Z"
    },
    "papermill": {
     "duration": 0.01834,
     "end_time": "2022-06-28T03:12:40.194294",
     "exception": false,
     "start_time": "2022-06-28T03:12:40.175954",
     "status": "completed"
    },
    "tags": []
   },
   "outputs": [
    {
     "data": {
      "text/markdown": [
       "- Unizen 'CeDeFi' smart exchange secures $200M investment from GEM.  The alternative investment group is banking on the “CeDeFi exchange” to shape the “future of finance” with a commitment that will bolster Unizen’s ecosystem. ... [| Skaityti daugiau](https://cointelegraph.com/news/unizen-cedefi-smart-exchange-secures-200m-investment-from-gem) "
      ],
      "text/plain": [
       "<IPython.core.display.Markdown object>"
      ]
     },
     "execution_count": 9,
     "metadata": {},
     "output_type": "execute_result"
    }
   ],
   "source": [
    "#hide_input\n",
    "#md('##### {}'.format(titleBTC)) \n",
    "md(\"- {}{} {}{} [| Skaityti daugiau]({}) \".format(exchange['title'],'. ', exchange['body'], ' ...', exchange['url']))"
   ]
  },
  {
   "cell_type": "code",
   "execution_count": null,
   "id": "tender-livestock",
   "metadata": {
    "papermill": {
     "duration": 0.01138,
     "end_time": "2022-06-28T03:12:40.217059",
     "exception": false,
     "start_time": "2022-06-28T03:12:40.205679",
     "status": "completed"
    },
    "tags": []
   },
   "outputs": [],
   "source": []
  },
  {
   "cell_type": "code",
   "execution_count": null,
   "id": "appreciated-diamond",
   "metadata": {
    "papermill": {
     "duration": 0.011279,
     "end_time": "2022-06-28T03:12:40.239821",
     "exception": false,
     "start_time": "2022-06-28T03:12:40.228542",
     "status": "completed"
    },
    "tags": []
   },
   "outputs": [],
   "source": []
  },
  {
   "cell_type": "code",
   "execution_count": null,
   "id": "romance-sweden",
   "metadata": {
    "papermill": {
     "duration": 0.011271,
     "end_time": "2022-06-28T03:12:40.262426",
     "exception": false,
     "start_time": "2022-06-28T03:12:40.251155",
     "status": "completed"
    },
    "tags": []
   },
   "outputs": [],
   "source": []
  },
  {
   "cell_type": "code",
   "execution_count": null,
   "id": "dietary-statistics",
   "metadata": {
    "papermill": {
     "duration": 0.01129,
     "end_time": "2022-06-28T03:12:40.285085",
     "exception": false,
     "start_time": "2022-06-28T03:12:40.273795",
     "status": "completed"
    },
    "tags": []
   },
   "outputs": [],
   "source": []
  }
 ],
 "metadata": {
  "kernelspec": {
   "display_name": "Python 3",
   "language": "python",
   "name": "python3"
  },
  "language_info": {
   "codemirror_mode": {
    "name": "ipython",
    "version": 3
   },
   "file_extension": ".py",
   "mimetype": "text/x-python",
   "name": "python",
   "nbconvert_exporter": "python",
   "pygments_lexer": "ipython3",
   "version": "3.6.15"
  },
  "papermill": {
   "default_parameters": {},
   "duration": 13.864795,
   "end_time": "2022-06-28T03:12:40.714136",
   "environment_variables": {},
   "exception": null,
   "input_path": "Market-News.ipynb",
   "output_path": "Market-News.ipynb",
   "parameters": {},
   "start_time": "2022-06-28T03:12:26.849341",
   "version": "2.2.2"
  }
 },
 "nbformat": 4,
 "nbformat_minor": 5
}