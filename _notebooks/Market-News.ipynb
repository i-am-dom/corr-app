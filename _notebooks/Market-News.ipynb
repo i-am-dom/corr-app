{
 "cells": [
  {
   "cell_type": "markdown",
   "id": "short-greensboro",
   "metadata": {
    "papermill": {
     "duration": 0.012614,
     "end_time": "2022-10-19T03:43:37.871505",
     "exception": false,
     "start_time": "2022-10-19T03:43:37.858891",
     "status": "completed"
    },
    "tags": []
   },
   "source": [
    "# Kriptovaliutų naujienos"
   ]
  },
  {
   "cell_type": "code",
   "execution_count": 1,
   "id": "functioning-knowing",
   "metadata": {
    "execution": {
     "iopub.execute_input": "2022-10-19T03:43:37.901849Z",
     "iopub.status.busy": "2022-10-19T03:43:37.901153Z",
     "iopub.status.idle": "2022-10-19T03:43:39.118011Z",
     "shell.execute_reply": "2022-10-19T03:43:39.117396Z"
    },
    "papermill": {
     "duration": 1.237045,
     "end_time": "2022-10-19T03:43:39.118171",
     "exception": false,
     "start_time": "2022-10-19T03:43:37.881126",
     "status": "completed"
    },
    "tags": []
   },
   "outputs": [],
   "source": [
    "#hide_input\n",
    "import warnings\n",
    "warnings.filterwarnings('ignore')\n",
    "from scripts.read_data import read_api\n",
    "from scripts.read_data import read_news\n",
    "from scripts.read_data import read_covid\n",
    "import matplotlib.pyplot as plt \n",
    "from IPython.display import Markdown as md"
   ]
  },
  {
   "cell_type": "code",
   "execution_count": 2,
   "id": "shared-acceptance",
   "metadata": {
    "execution": {
     "iopub.execute_input": "2022-10-19T03:43:39.143158Z",
     "iopub.status.busy": "2022-10-19T03:43:39.142177Z",
     "iopub.status.idle": "2022-10-19T03:43:52.072366Z",
     "shell.execute_reply": "2022-10-19T03:43:52.071252Z"
    },
    "papermill": {
     "duration": 12.944812,
     "end_time": "2022-10-19T03:43:52.072500",
     "exception": false,
     "start_time": "2022-10-19T03:43:39.127688",
     "status": "completed"
    },
    "tags": []
   },
   "outputs": [],
   "source": [
    "#hide_input\n",
    "blockchain = read_news('blockchain') \n",
    "btc = read_news('btc') \n",
    "xrp = read_news('xrp') \n",
    "trx = read_news('trx') \n",
    "eth = read_news('eth')  \n",
    "ada = read_news('ada')\n",
    "exchange = read_news('exchange') "
   ]
  },
  {
   "cell_type": "code",
   "execution_count": 3,
   "id": "synthetic-notion",
   "metadata": {
    "execution": {
     "iopub.execute_input": "2022-10-19T03:43:52.097319Z",
     "iopub.status.busy": "2022-10-19T03:43:52.096619Z",
     "iopub.status.idle": "2022-10-19T03:43:52.100037Z",
     "shell.execute_reply": "2022-10-19T03:43:52.099528Z"
    },
    "papermill": {
     "duration": 0.018299,
     "end_time": "2022-10-19T03:43:52.100145",
     "exception": false,
     "start_time": "2022-10-19T03:43:52.081846",
     "status": "completed"
    },
    "tags": []
   },
   "outputs": [
    {
     "data": {
      "text/markdown": [
       "- Moola Market attacker returns most of $9M looted for $500K bounty.  The attacker has scored about a half-million dollar “bug bounty” after choosing to return a majority of the cryptocurrency they exploited from the Celo-based lending protocol. ... [| Skaityti daugiau](https://cointelegraph.com/news/moola-market-attacker-returns-most-of-9m-looted-for-500k-bounty) "
      ],
      "text/plain": [
       "<IPython.core.display.Markdown object>"
      ]
     },
     "execution_count": 3,
     "metadata": {},
     "output_type": "execute_result"
    }
   ],
   "source": [
    "#hide_input\n",
    "#md('##### {}'.format(titleBTC)) \n",
    "md(\"- {}{} {}{} [| Skaityti daugiau]({}) \".format(blockchain['title'],'. ', blockchain['body'], ' ...', blockchain['url']))"
   ]
  },
  {
   "cell_type": "code",
   "execution_count": 4,
   "id": "aging-caution",
   "metadata": {
    "execution": {
     "iopub.execute_input": "2022-10-19T03:43:52.123050Z",
     "iopub.status.busy": "2022-10-19T03:43:52.121892Z",
     "iopub.status.idle": "2022-10-19T03:43:52.126485Z",
     "shell.execute_reply": "2022-10-19T03:43:52.126015Z"
    },
    "papermill": {
     "duration": 0.017266,
     "end_time": "2022-10-19T03:43:52.126587",
     "exception": false,
     "start_time": "2022-10-19T03:43:52.109321",
     "status": "completed"
    },
    "tags": []
   },
   "outputs": [
    {
     "data": {
      "text/markdown": [
       "- Bitcoin, Ethereum, Avalanche, and Chainlink Daily Price Analyses – 18 October Roundup.  The global crypto market has seen a reversal in the pattern of gains as the influx of capital lowered. The recent data shows that Bitcoin, Ethereum, and others couldn&#8217;t continue the positive trend. Thus, the reversal of the pattern has resulted in losses for the overall market. As said earlier, there is a macroeconomic factor &#8230;  Bitcoin, Ethereum, Avalanche, and Chainlink Daily Price Analyses – 18 October Roundup Read More &#187; ... [| Skaityti daugiau](https://www.cryptopolitan.com/bitcoin-ethereum-avalanche-and-chainlink-daily-price-analyses-18-october-roundup/) "
      ],
      "text/plain": [
       "<IPython.core.display.Markdown object>"
      ]
     },
     "execution_count": 4,
     "metadata": {},
     "output_type": "execute_result"
    }
   ],
   "source": [
    "#hide_input\n",
    "#md('##### {}'.format(titleBTC)) \n",
    "md(\"- {}{} {}{} [| Skaityti daugiau]({}) \".format(btc['title'],'. ', btc['body'], ' ...', btc['url']))"
   ]
  },
  {
   "cell_type": "code",
   "execution_count": 5,
   "id": "organic-actress",
   "metadata": {
    "execution": {
     "iopub.execute_input": "2022-10-19T03:43:52.150551Z",
     "iopub.status.busy": "2022-10-19T03:43:52.149882Z",
     "iopub.status.idle": "2022-10-19T03:43:52.152750Z",
     "shell.execute_reply": "2022-10-19T03:43:52.153277Z"
    },
    "papermill": {
     "duration": 0.017345,
     "end_time": "2022-10-19T03:43:52.153413",
     "exception": false,
     "start_time": "2022-10-19T03:43:52.136068",
     "status": "completed"
    },
    "tags": []
   },
   "outputs": [
    {
     "data": {
      "text/markdown": [
       "- XRP Price Forms This Pattern On Its Chart, What Does It Mean For XRP?.  The XRP price has appreciated over the last 24 hours as market movers also witnessed the same price movement. The coin gained 1.6% in that time frame. It is, however, still safe to say that the asset is consolidating. In the past week, the XRP price has barely shown any movement, confirming sideways trading. The technical outlook for XRP shows that buyers are losing control of the market as selling strength continues to mount at press time. XRP has to move past its immediate resistance line, and then only then will buyers regain strength. The coin has also formed a symmetrical triangle pattern over the last week. This pattern is connected with either a breakout or a breakdown in price, as it also confirms that the coin has been trading laterally. On the developmental front, Ripple began testing its XRP Ledger Sidechain, which is compatible with Ethereum Smart Contracts. This new development is yet to have an effect on the asset&#8217;s price. XRP Price Analysis: One-Day Chart The altcoin was trading at $0.47 at the time of writing. As seen on the one-day chart, XRP price also formed a symmetrical triangle pattern, which hints at either a breakout or a breakdown in price. Buyers have struggled to lift the price of XRP but met with sellers each time the coin visited the immediate resistance level. The overhead price ceiling was set at $0.51. A move above $0.51 will cause the XRP price to experience a breakout, which would then i... ... [| Skaityti daugiau](https://www.newsbtc.com/news/xrp-price-forms-this-pattern-on-its-chart-what-does-it-mean-for-xrp/) "
      ],
      "text/plain": [
       "<IPython.core.display.Markdown object>"
      ]
     },
     "execution_count": 5,
     "metadata": {},
     "output_type": "execute_result"
    }
   ],
   "source": [
    "#hide_input\n",
    "#md('##### {}'.format(titleBTC)) \n",
    "md(\"- {}{} {}{} [| Skaityti daugiau]({}) \".format(xrp['title'],'. ', xrp['body'], ' ...', xrp['url']))"
   ]
  },
  {
   "cell_type": "code",
   "execution_count": 6,
   "id": "prompt-farmer",
   "metadata": {
    "execution": {
     "iopub.execute_input": "2022-10-19T03:43:52.178488Z",
     "iopub.status.busy": "2022-10-19T03:43:52.177912Z",
     "iopub.status.idle": "2022-10-19T03:43:52.180837Z",
     "shell.execute_reply": "2022-10-19T03:43:52.181277Z"
    },
    "papermill": {
     "duration": 0.017807,
     "end_time": "2022-10-19T03:43:52.181399",
     "exception": false,
     "start_time": "2022-10-19T03:43:52.163592",
     "status": "completed"
    },
    "tags": []
   },
   "outputs": [
    {
     "data": {
      "text/markdown": [
       "- Tron long-term holders must consider the bear sleep cycle before investing further.  Tron [TRX] recently made headlines as it became the official blockchain of the Republic of Dominica. This news coupled with other positive developments happened to boost TRX’s price in the days that follow. Fast forward to 18 October, TRX, at press time, was trading at $0.06254 with a market capitalization of $5,769,856,228. Not only this, [&#8230;] ... [| Skaityti daugiau](https://ambcrypto.com/tron-long-term-holders-must-consider-the-bear-sleep-cycle-before-investing-further/) "
      ],
      "text/plain": [
       "<IPython.core.display.Markdown object>"
      ]
     },
     "execution_count": 6,
     "metadata": {},
     "output_type": "execute_result"
    }
   ],
   "source": [
    "#hide_input\n",
    "#md('##### {}'.format(titleBTC)) \n",
    "md(\"- {}{} {}{} [| Skaityti daugiau]({}) \".format(trx['title'],'. ', trx['body'], ' ...', trx['url']))"
   ]
  },
  {
   "cell_type": "code",
   "execution_count": 7,
   "id": "illegal-greece",
   "metadata": {
    "execution": {
     "iopub.execute_input": "2022-10-19T03:43:52.208402Z",
     "iopub.status.busy": "2022-10-19T03:43:52.207786Z",
     "iopub.status.idle": "2022-10-19T03:43:52.210655Z",
     "shell.execute_reply": "2022-10-19T03:43:52.211091Z"
    },
    "papermill": {
     "duration": 0.019609,
     "end_time": "2022-10-19T03:43:52.211204",
     "exception": false,
     "start_time": "2022-10-19T03:43:52.191595",
     "status": "completed"
    },
    "tags": []
   },
   "outputs": [
    {
     "data": {
      "text/markdown": [
       "- Bitcoin, Ethereum, Avalanche, and Chainlink Daily Price Analyses – 18 October Roundup.  The global crypto market has seen a reversal in the pattern of gains as the influx of capital lowered. The recent data shows that Bitcoin, Ethereum, and others couldn&#8217;t continue the positive trend. Thus, the reversal of the pattern has resulted in losses for the overall market. As said earlier, there is a macroeconomic factor &#8230;  Bitcoin, Ethereum, Avalanche, and Chainlink Daily Price Analyses – 18 October Roundup Read More &#187; ... [| Skaityti daugiau](https://www.cryptopolitan.com/bitcoin-ethereum-avalanche-and-chainlink-daily-price-analyses-18-october-roundup/) "
      ],
      "text/plain": [
       "<IPython.core.display.Markdown object>"
      ]
     },
     "execution_count": 7,
     "metadata": {},
     "output_type": "execute_result"
    }
   ],
   "source": [
    "#hide_input\n",
    "#md('##### {}'.format(titleBTC)) \n",
    "md(\"- {}{} {}{} [| Skaityti daugiau]({}) \".format(eth['title'],'. ', eth['body'], ' ...', eth['url']))"
   ]
  },
  {
   "cell_type": "code",
   "execution_count": 8,
   "id": "sublime-lounge",
   "metadata": {
    "execution": {
     "iopub.execute_input": "2022-10-19T03:43:52.237222Z",
     "iopub.status.busy": "2022-10-19T03:43:52.236515Z",
     "iopub.status.idle": "2022-10-19T03:43:52.238935Z",
     "shell.execute_reply": "2022-10-19T03:43:52.239379Z"
    },
    "papermill": {
     "duration": 0.017899,
     "end_time": "2022-10-19T03:43:52.239493",
     "exception": false,
     "start_time": "2022-10-19T03:43:52.221594",
     "status": "completed"
    },
    "tags": []
   },
   "outputs": [
    {
     "data": {
      "text/markdown": [
       "- Cardano ($ADA) Could See Its Price Crash if It Fails To Recover Key Levels, Analyst Warns.  A popular cryptocurrency analyst has warned that the price o Cardano ($ADA) could soon crash if the smart contract platform doesn’t recover to previous levels in the near future, amid a wider bearish downturn that has affected the entire cryptocurrency market. According to analyst Jason Pizzino, the price of $ADA may drop into the $0.30 […] ... [| Skaityti daugiau](https://www.cryptoglobe.com/latest/2022/10/cardano-ada-could-see-its-price-crash-if-it-fails-to-recover-key-levels-analyst-warns/) "
      ],
      "text/plain": [
       "<IPython.core.display.Markdown object>"
      ]
     },
     "execution_count": 8,
     "metadata": {},
     "output_type": "execute_result"
    }
   ],
   "source": [
    "#hide_input\n",
    "#md('##### {}'.format(titleBTC)) \n",
    "md(\"- {}{} {}{} [| Skaityti daugiau]({}) \".format(ada['title'],'. ', ada['body'], ' ...', ada['url']))"
   ]
  },
  {
   "cell_type": "code",
   "execution_count": 9,
   "id": "specified-ordering",
   "metadata": {
    "execution": {
     "iopub.execute_input": "2022-10-19T03:43:52.266010Z",
     "iopub.status.busy": "2022-10-19T03:43:52.265351Z",
     "iopub.status.idle": "2022-10-19T03:43:52.268786Z",
     "shell.execute_reply": "2022-10-19T03:43:52.268258Z"
    },
    "papermill": {
     "duration": 0.018683,
     "end_time": "2022-10-19T03:43:52.268895",
     "exception": false,
     "start_time": "2022-10-19T03:43:52.250212",
     "status": "completed"
    },
    "tags": []
   },
   "outputs": [
    {
     "data": {
      "text/markdown": [
       "- Exchange Outflows Shows Bitcoin, Ethereum Accumulation Trend Continues.  Bitcoin and Ethereum outflows from centralized exchanges have been pointing toward a growing accumulation trend among investors. This saw billions of dollars worth of coins leaving exchanges weekly as investors moved them out. Even now, the exchange outflows have continued despite the recovery in the price of bitcoin and Ethereum, showing that investors are not slowing down their buying. Bitcoin, Ethereum Net Flows Still Negative The exchange net flows for the past two weeks have been coming out negative for both Bitcoin and Ethereum. The same has been the case on a daily basis where outflows continue to exceed inflows, leading to negative net flows. Related Reading: Whales Across These Five Chains Are Heavy On Stablecoins, Should You Be Too? Data from Glassnode shows that for the last day, the net flows for bitcoin reached as high as $158.5 million. There had been a total of $498 million worth of BTC flowing into exchanges, but more than $656 million had flowed out. Ethereum saw a similar net flow trend where $170.7 million flowed into the exchanges and $212.7 million flowed out of the exchanges. This led to a negative net flow of -$42 million over the 24-hour period. On a 7-day rolling basis, ETH net flows had remained negative, but only by a small margin, according to data from IntoTheBlock. 📊 Daily On-Chain Exchange Flow#Bitcoin $BTC➡️ $498.0M in⬅️ $656.5M out📉 Net flow: -$158.5M#Ethereum $ETH➡️ $170.7M in⬅️ $212.7M out�... ... [| Skaityti daugiau](https://www.newsbtc.com/news/bitcoin/exchange-outflows-shows-bitcoin-ethereum-accumulation-trend-continues/) "
      ],
      "text/plain": [
       "<IPython.core.display.Markdown object>"
      ]
     },
     "execution_count": 9,
     "metadata": {},
     "output_type": "execute_result"
    }
   ],
   "source": [
    "#hide_input\n",
    "#md('##### {}'.format(titleBTC)) \n",
    "md(\"- {}{} {}{} [| Skaityti daugiau]({}) \".format(exchange['title'],'. ', exchange['body'], ' ...', exchange['url']))"
   ]
  },
  {
   "cell_type": "code",
   "execution_count": null,
   "id": "tender-livestock",
   "metadata": {
    "papermill": {
     "duration": 0.011051,
     "end_time": "2022-10-19T03:43:52.291135",
     "exception": false,
     "start_time": "2022-10-19T03:43:52.280084",
     "status": "completed"
    },
    "tags": []
   },
   "outputs": [],
   "source": []
  },
  {
   "cell_type": "code",
   "execution_count": null,
   "id": "appreciated-diamond",
   "metadata": {
    "papermill": {
     "duration": 0.011116,
     "end_time": "2022-10-19T03:43:52.313486",
     "exception": false,
     "start_time": "2022-10-19T03:43:52.302370",
     "status": "completed"
    },
    "tags": []
   },
   "outputs": [],
   "source": []
  },
  {
   "cell_type": "code",
   "execution_count": null,
   "id": "romance-sweden",
   "metadata": {
    "papermill": {
     "duration": 0.011147,
     "end_time": "2022-10-19T03:43:52.335715",
     "exception": false,
     "start_time": "2022-10-19T03:43:52.324568",
     "status": "completed"
    },
    "tags": []
   },
   "outputs": [],
   "source": []
  },
  {
   "cell_type": "code",
   "execution_count": null,
   "id": "dietary-statistics",
   "metadata": {
    "papermill": {
     "duration": 0.011077,
     "end_time": "2022-10-19T03:43:52.357960",
     "exception": false,
     "start_time": "2022-10-19T03:43:52.346883",
     "status": "completed"
    },
    "tags": []
   },
   "outputs": [],
   "source": []
  }
 ],
 "metadata": {
  "kernelspec": {
   "display_name": "Python 3",
   "language": "python",
   "name": "python3"
  },
  "language_info": {
   "codemirror_mode": {
    "name": "ipython",
    "version": 3
   },
   "file_extension": ".py",
   "mimetype": "text/x-python",
   "name": "python",
   "nbconvert_exporter": "python",
   "pygments_lexer": "ipython3",
   "version": "3.6.15"
  },
  "papermill": {
   "default_parameters": {},
   "duration": 16.037813,
   "end_time": "2022-10-19T03:43:52.787355",
   "environment_variables": {},
   "exception": null,
   "input_path": "Market-News.ipynb",
   "output_path": "Market-News.ipynb",
   "parameters": {},
   "start_time": "2022-10-19T03:43:36.749542",
   "version": "2.2.2"
  }
 },
 "nbformat": 4,
 "nbformat_minor": 5
}