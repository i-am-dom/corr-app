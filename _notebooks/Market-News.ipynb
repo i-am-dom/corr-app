{
 "cells": [
  {
   "cell_type": "markdown",
   "id": "short-greensboro",
   "metadata": {
    "papermill": {
     "duration": 0.013062,
     "end_time": "2022-01-27T02:00:04.035272",
     "exception": false,
     "start_time": "2022-01-27T02:00:04.022210",
     "status": "completed"
    },
    "tags": []
   },
   "source": [
    "# Kriptovaliutų naujienos"
   ]
  },
  {
   "cell_type": "code",
   "execution_count": 1,
   "id": "functioning-knowing",
   "metadata": {
    "execution": {
     "iopub.execute_input": "2022-01-27T02:00:04.065684Z",
     "iopub.status.busy": "2022-01-27T02:00:04.065078Z",
     "iopub.status.idle": "2022-01-27T02:00:05.352271Z",
     "shell.execute_reply": "2022-01-27T02:00:05.351728Z"
    },
    "papermill": {
     "duration": 1.30749,
     "end_time": "2022-01-27T02:00:05.352429",
     "exception": false,
     "start_time": "2022-01-27T02:00:04.044939",
     "status": "completed"
    },
    "tags": []
   },
   "outputs": [],
   "source": [
    "#hide_input\n",
    "import warnings\n",
    "warnings.filterwarnings('ignore')\n",
    "from scripts.read_data import read_api\n",
    "from scripts.read_data import read_news\n",
    "from scripts.read_data import read_covid\n",
    "import matplotlib.pyplot as plt \n",
    "from IPython.display import Markdown as md"
   ]
  },
  {
   "cell_type": "code",
   "execution_count": 2,
   "id": "shared-acceptance",
   "metadata": {
    "execution": {
     "iopub.execute_input": "2022-01-27T02:00:05.378513Z",
     "iopub.status.busy": "2022-01-27T02:00:05.377620Z",
     "iopub.status.idle": "2022-01-27T02:00:17.615360Z",
     "shell.execute_reply": "2022-01-27T02:00:17.615860Z"
    },
    "papermill": {
     "duration": 12.253948,
     "end_time": "2022-01-27T02:00:17.616030",
     "exception": false,
     "start_time": "2022-01-27T02:00:05.362082",
     "status": "completed"
    },
    "tags": []
   },
   "outputs": [],
   "source": [
    "#hide_input\n",
    "blockchain = read_news('blockchain') \n",
    "btc = read_news('btc') \n",
    "xrp = read_news('xrp') \n",
    "trx = read_news('trx') \n",
    "eth = read_news('eth')  \n",
    "ada = read_news('ada')\n",
    "exchange = read_news('exchange') "
   ]
  },
  {
   "cell_type": "code",
   "execution_count": 3,
   "id": "synthetic-notion",
   "metadata": {
    "execution": {
     "iopub.execute_input": "2022-01-27T02:00:17.640439Z",
     "iopub.status.busy": "2022-01-27T02:00:17.639918Z",
     "iopub.status.idle": "2022-01-27T02:00:17.642561Z",
     "shell.execute_reply": "2022-01-27T02:00:17.642162Z"
    },
    "papermill": {
     "duration": 0.017019,
     "end_time": "2022-01-27T02:00:17.642665",
     "exception": false,
     "start_time": "2022-01-27T02:00:17.625646",
     "status": "completed"
    },
    "tags": []
   },
   "outputs": [
    {
     "data": {
      "text/markdown": [
       "- Blockchain infrastructure firm Blockdaemon scores $3.25 billion post-money valuation in new fundraise.  Blockdaemon, a blockchain infrastructure company, has raised a $207 million funding round that gives the firm a post-money valuation of $3.25 billion, according to a Wednesday afternoon announcement.The post Blockchain infrastructure firm Blockdaemon scores $3.25 billion post-money valuation in new fundraise appeared first on The Block. ... [| Skaityti daugiau](https://www.theblockcrypto.com/linked/131861/blockchain-infrastructure-firm-blockdaemon-scores-3-25-billion-post-money-valuation-in-new-fundraise?utm_source=cryptocompare&utm_medium=rss) "
      ],
      "text/plain": [
       "<IPython.core.display.Markdown object>"
      ]
     },
     "execution_count": 3,
     "metadata": {},
     "output_type": "execute_result"
    }
   ],
   "source": [
    "#hide_input\n",
    "#md('##### {}'.format(titleBTC)) \n",
    "md(\"- {}{} {}{} [| Skaityti daugiau]({}) \".format(blockchain['title'],'. ', blockchain['body'], ' ...', blockchain['url']))"
   ]
  },
  {
   "cell_type": "code",
   "execution_count": 4,
   "id": "aging-caution",
   "metadata": {
    "execution": {
     "iopub.execute_input": "2022-01-27T02:00:17.666284Z",
     "iopub.status.busy": "2022-01-27T02:00:17.665693Z",
     "iopub.status.idle": "2022-01-27T02:00:17.668566Z",
     "shell.execute_reply": "2022-01-27T02:00:17.668945Z"
    },
    "papermill": {
     "duration": 0.017126,
     "end_time": "2022-01-27T02:00:17.669063",
     "exception": false,
     "start_time": "2022-01-27T02:00:17.651937",
     "status": "completed"
    },
    "tags": []
   },
   "outputs": [
    {
     "data": {
      "text/markdown": [
       "- Top 3 Metaverse Crypto Coins Gaining The Most Price Today (NTVRK, MTS, SHOE).  This week, Crypto markets continue to trade sideways, with Bitcoin and Ethereum managing to hold support. Today we take a look at the top three Metaverse crypto coins gaining the most price, ordered by 24-hour growth, lowest to highest. Netvrk (NTVRK) +32% Launching in May 2021, Netvrk describes itself as a multichain Metaverse platform with [&#8230;]The post Top 3 Metaverse Crypto Coins Gaining The Most Price Today (NTVRK, MTS, SHOE) appeared first on NullTX. ... [| Skaityti daugiau](https://nulltx.com/top-3-metaverse-crypto-coins-gaining-the-most-price-today/) "
      ],
      "text/plain": [
       "<IPython.core.display.Markdown object>"
      ]
     },
     "execution_count": 4,
     "metadata": {},
     "output_type": "execute_result"
    }
   ],
   "source": [
    "#hide_input\n",
    "#md('##### {}'.format(titleBTC)) \n",
    "md(\"- {}{} {}{} [| Skaityti daugiau]({}) \".format(btc['title'],'. ', btc['body'], ' ...', btc['url']))"
   ]
  },
  {
   "cell_type": "code",
   "execution_count": 5,
   "id": "organic-actress",
   "metadata": {
    "execution": {
     "iopub.execute_input": "2022-01-27T02:00:17.693750Z",
     "iopub.status.busy": "2022-01-27T02:00:17.693199Z",
     "iopub.status.idle": "2022-01-27T02:00:17.695667Z",
     "shell.execute_reply": "2022-01-27T02:00:17.696065Z"
    },
    "papermill": {
     "duration": 0.017565,
     "end_time": "2022-01-27T02:00:17.696176",
     "exception": false,
     "start_time": "2022-01-27T02:00:17.678611",
     "status": "completed"
    },
    "tags": []
   },
   "outputs": [
    {
     "data": {
      "text/markdown": [
       "- Ripple Scores $15 Billion Valuation — CEO Says Financial Position Is Strongest Ever Despite SEC Lawsuit Over XRP.  Ripple has bought back shares from its Series C funding round, which raised the company&#x2019;s valuation to $15 billion, according to CEO Brad Garlinghouse. He added that despite the lawsuit by the U.S. Securities and Exchange Commission (SEC) over the status of XRP cryptocurrency, Ripple had the best year on record. Ripple&#x2019;s $15 Billion Valuation [&#8230;] ... [| Skaityti daugiau](https://news.bitcoin.com/ripple-15-billion-valuation-ceo-says-financial-position-is-strongest-ever-despite-sec-lawsuit-over-xrp/) "
      ],
      "text/plain": [
       "<IPython.core.display.Markdown object>"
      ]
     },
     "execution_count": 5,
     "metadata": {},
     "output_type": "execute_result"
    }
   ],
   "source": [
    "#hide_input\n",
    "#md('##### {}'.format(titleBTC)) \n",
    "md(\"- {}{} {}{} [| Skaityti daugiau]({}) \".format(xrp['title'],'. ', xrp['body'], ' ...', xrp['url']))"
   ]
  },
  {
   "cell_type": "code",
   "execution_count": 6,
   "id": "prompt-farmer",
   "metadata": {
    "execution": {
     "iopub.execute_input": "2022-01-27T02:00:17.721095Z",
     "iopub.status.busy": "2022-01-27T02:00:17.720579Z",
     "iopub.status.idle": "2022-01-27T02:00:17.723028Z",
     "shell.execute_reply": "2022-01-27T02:00:17.723425Z"
    },
    "papermill": {
     "duration": 0.017547,
     "end_time": "2022-01-27T02:00:17.723536",
     "exception": false,
     "start_time": "2022-01-27T02:00:17.705989",
     "status": "completed"
    },
    "tags": []
   },
   "outputs": [
    {
     "data": {
      "text/markdown": [
       "- Tron (TRX) Price Analysis: Upsides Could Be Limited Above $0.062.  Tron price started a fresh decline from the $0.0720 resistance against the US Dollar. TRX price is now trading below $0.0620 and near the 55 simple moving average (4-hours). There is a key bearish trend line forming with resistance near $0.0572 on the 4-hours chart (data feed via Bitfinex). The pair could continue to move...The post Tron (TRX) Price Analysis: Upsides Could Be Limited Above $0.062 appeared first on Live Bitcoin News. ... [| Skaityti daugiau](https://www.livebitcoinnews.com/tron-trx-price-analysis-upsides-could-be-limited-above-0-062/) "
      ],
      "text/plain": [
       "<IPython.core.display.Markdown object>"
      ]
     },
     "execution_count": 6,
     "metadata": {},
     "output_type": "execute_result"
    }
   ],
   "source": [
    "#hide_input\n",
    "#md('##### {}'.format(titleBTC)) \n",
    "md(\"- {}{} {}{} [| Skaityti daugiau]({}) \".format(trx['title'],'. ', trx['body'], ' ...', trx['url']))"
   ]
  },
  {
   "cell_type": "code",
   "execution_count": 7,
   "id": "illegal-greece",
   "metadata": {
    "execution": {
     "iopub.execute_input": "2022-01-27T02:00:17.748594Z",
     "iopub.status.busy": "2022-01-27T02:00:17.747004Z",
     "iopub.status.idle": "2022-01-27T02:00:17.750598Z",
     "shell.execute_reply": "2022-01-27T02:00:17.750975Z"
    },
    "papermill": {
     "duration": 0.017283,
     "end_time": "2022-01-27T02:00:17.751093",
     "exception": false,
     "start_time": "2022-01-27T02:00:17.733810",
     "status": "completed"
    },
    "tags": []
   },
   "outputs": [
    {
     "data": {
      "text/markdown": [
       "- Top 3 Metaverse Crypto Coins Gaining The Most Price Today (NTVRK, MTS, SHOE).  This week, Crypto markets continue to trade sideways, with Bitcoin and Ethereum managing to hold support. Today we take a look at the top three Metaverse crypto coins gaining the most price, ordered by 24-hour growth, lowest to highest. Netvrk (NTVRK) +32% Launching in May 2021, Netvrk describes itself as a multichain Metaverse platform with [&#8230;]The post Top 3 Metaverse Crypto Coins Gaining The Most Price Today (NTVRK, MTS, SHOE) appeared first on NullTX. ... [| Skaityti daugiau](https://nulltx.com/top-3-metaverse-crypto-coins-gaining-the-most-price-today/) "
      ],
      "text/plain": [
       "<IPython.core.display.Markdown object>"
      ]
     },
     "execution_count": 7,
     "metadata": {},
     "output_type": "execute_result"
    }
   ],
   "source": [
    "#hide_input\n",
    "#md('##### {}'.format(titleBTC)) \n",
    "md(\"- {}{} {}{} [| Skaityti daugiau]({}) \".format(eth['title'],'. ', eth['body'], ' ...', eth['url']))"
   ]
  },
  {
   "cell_type": "code",
   "execution_count": 8,
   "id": "sublime-lounge",
   "metadata": {
    "execution": {
     "iopub.execute_input": "2022-01-27T02:00:17.777302Z",
     "iopub.status.busy": "2022-01-27T02:00:17.776782Z",
     "iopub.status.idle": "2022-01-27T02:00:17.779286Z",
     "shell.execute_reply": "2022-01-27T02:00:17.779680Z"
    },
    "papermill": {
     "duration": 0.018281,
     "end_time": "2022-01-27T02:00:17.779790",
     "exception": false,
     "start_time": "2022-01-27T02:00:17.761509",
     "status": "completed"
    },
    "tags": []
   },
   "outputs": [
    {
     "data": {
      "text/markdown": [
       "- Number of Addresses Holding Cardano ($ADA) Hit New 4 Million All-Time High in December.  The number of addresses holdings Cardano ($ADA) grew in December to a new all-time high of 4 million. The number of holders grew even as activity on the cryptocurrency’s network suffered that month. According to CryptoCompare’s latest Asset Report, the 4 million figure includes a significant decline in the number of traders holding the cryptocurrency, […] ... [| Skaityti daugiau](https://www.cryptoglobe.com/latest/2022/01/number-of-addresses-holding-cardano-ada-hit-new-4-million-all-time-high-in-december/) "
      ],
      "text/plain": [
       "<IPython.core.display.Markdown object>"
      ]
     },
     "execution_count": 8,
     "metadata": {},
     "output_type": "execute_result"
    }
   ],
   "source": [
    "#hide_input\n",
    "#md('##### {}'.format(titleBTC)) \n",
    "md(\"- {}{} {}{} [| Skaityti daugiau]({}) \".format(ada['title'],'. ', ada['body'], ' ...', ada['url']))"
   ]
  },
  {
   "cell_type": "code",
   "execution_count": 9,
   "id": "specified-ordering",
   "metadata": {
    "execution": {
     "iopub.execute_input": "2022-01-27T02:00:17.806774Z",
     "iopub.status.busy": "2022-01-27T02:00:17.806244Z",
     "iopub.status.idle": "2022-01-27T02:00:17.808715Z",
     "shell.execute_reply": "2022-01-27T02:00:17.809110Z"
    },
    "papermill": {
     "duration": 0.018709,
     "end_time": "2022-01-27T02:00:17.809222",
     "exception": false,
     "start_time": "2022-01-27T02:00:17.790513",
     "status": "completed"
    },
    "tags": []
   },
   "outputs": [
    {
     "data": {
      "text/markdown": [
       "- Gemini Galactic approved for FINRA membership.  Gemini Galactic, an affiliate of cryptocurrency exchange Gemini, received approval from the Financial Industry Regulatory Authority (FINRA) to operate a broker-dealer registered with the SEC and is now a FINRA member. The post Gemini Galactic approved for FINRA membership appeared first on The Block. ... [| Skaityti daugiau](https://www.theblockcrypto.com/linked/131759/gemini-galactic-approved-for-finra-membership?utm_source=cryptocompare&utm_medium=rss) "
      ],
      "text/plain": [
       "<IPython.core.display.Markdown object>"
      ]
     },
     "execution_count": 9,
     "metadata": {},
     "output_type": "execute_result"
    }
   ],
   "source": [
    "#hide_input\n",
    "#md('##### {}'.format(titleBTC)) \n",
    "md(\"- {}{} {}{} [| Skaityti daugiau]({}) \".format(exchange['title'],'. ', exchange['body'], ' ...', exchange['url']))"
   ]
  },
  {
   "cell_type": "code",
   "execution_count": null,
   "id": "tender-livestock",
   "metadata": {
    "papermill": {
     "duration": 0.011092,
     "end_time": "2022-01-27T02:00:17.831548",
     "exception": false,
     "start_time": "2022-01-27T02:00:17.820456",
     "status": "completed"
    },
    "tags": []
   },
   "outputs": [],
   "source": []
  },
  {
   "cell_type": "code",
   "execution_count": null,
   "id": "appreciated-diamond",
   "metadata": {
    "papermill": {
     "duration": 0.011026,
     "end_time": "2022-01-27T02:00:17.853837",
     "exception": false,
     "start_time": "2022-01-27T02:00:17.842811",
     "status": "completed"
    },
    "tags": []
   },
   "outputs": [],
   "source": []
  },
  {
   "cell_type": "code",
   "execution_count": null,
   "id": "romance-sweden",
   "metadata": {
    "papermill": {
     "duration": 0.011,
     "end_time": "2022-01-27T02:00:17.875947",
     "exception": false,
     "start_time": "2022-01-27T02:00:17.864947",
     "status": "completed"
    },
    "tags": []
   },
   "outputs": [],
   "source": []
  },
  {
   "cell_type": "code",
   "execution_count": null,
   "id": "dietary-statistics",
   "metadata": {
    "papermill": {
     "duration": 0.010995,
     "end_time": "2022-01-27T02:00:17.898001",
     "exception": false,
     "start_time": "2022-01-27T02:00:17.887006",
     "status": "completed"
    },
    "tags": []
   },
   "outputs": [],
   "source": []
  }
 ],
 "metadata": {
  "kernelspec": {
   "display_name": "Python 3",
   "language": "python",
   "name": "python3"
  },
  "language_info": {
   "codemirror_mode": {
    "name": "ipython",
    "version": 3
   },
   "file_extension": ".py",
   "mimetype": "text/x-python",
   "name": "python",
   "nbconvert_exporter": "python",
   "pygments_lexer": "ipython3",
   "version": "3.6.15"
  },
  "papermill": {
   "default_parameters": {},
   "duration": 15.332583,
   "end_time": "2022-01-27T02:00:18.427738",
   "environment_variables": {},
   "exception": null,
   "input_path": "Market-News.ipynb",
   "output_path": "Market-News.ipynb",
   "parameters": {},
   "start_time": "2022-01-27T02:00:03.095155",
   "version": "2.2.2"
  }
 },
 "nbformat": 4,
 "nbformat_minor": 5
}