{
 "cells": [
  {
   "cell_type": "markdown",
   "id": "short-greensboro",
   "metadata": {
    "papermill": {
     "duration": 0.015765,
     "end_time": "2022-10-15T03:40:11.810803",
     "exception": false,
     "start_time": "2022-10-15T03:40:11.795038",
     "status": "completed"
    },
    "tags": []
   },
   "source": [
    "# Kriptovaliutų naujienos"
   ]
  },
  {
   "cell_type": "code",
   "execution_count": 1,
   "id": "functioning-knowing",
   "metadata": {
    "execution": {
     "iopub.execute_input": "2022-10-15T03:40:11.848860Z",
     "iopub.status.busy": "2022-10-15T03:40:11.848034Z",
     "iopub.status.idle": "2022-10-15T03:40:13.345573Z",
     "shell.execute_reply": "2022-10-15T03:40:13.344982Z"
    },
    "papermill": {
     "duration": 1.521739,
     "end_time": "2022-10-15T03:40:13.345736",
     "exception": false,
     "start_time": "2022-10-15T03:40:11.823997",
     "status": "completed"
    },
    "tags": []
   },
   "outputs": [],
   "source": [
    "#hide_input\n",
    "import warnings\n",
    "warnings.filterwarnings('ignore')\n",
    "from scripts.read_data import read_api\n",
    "from scripts.read_data import read_news\n",
    "from scripts.read_data import read_covid\n",
    "import matplotlib.pyplot as plt \n",
    "from IPython.display import Markdown as md"
   ]
  },
  {
   "cell_type": "code",
   "execution_count": 2,
   "id": "shared-acceptance",
   "metadata": {
    "execution": {
     "iopub.execute_input": "2022-10-15T03:40:13.373782Z",
     "iopub.status.busy": "2022-10-15T03:40:13.373104Z",
     "iopub.status.idle": "2022-10-15T03:40:29.752432Z",
     "shell.execute_reply": "2022-10-15T03:40:29.751402Z"
    },
    "papermill": {
     "duration": 16.395675,
     "end_time": "2022-10-15T03:40:29.752578",
     "exception": false,
     "start_time": "2022-10-15T03:40:13.356903",
     "status": "completed"
    },
    "tags": []
   },
   "outputs": [],
   "source": [
    "#hide_input\n",
    "blockchain = read_news('blockchain') \n",
    "btc = read_news('btc') \n",
    "xrp = read_news('xrp') \n",
    "trx = read_news('trx') \n",
    "eth = read_news('eth')  \n",
    "ada = read_news('ada')\n",
    "exchange = read_news('exchange') "
   ]
  },
  {
   "cell_type": "code",
   "execution_count": 3,
   "id": "synthetic-notion",
   "metadata": {
    "execution": {
     "iopub.execute_input": "2022-10-15T03:40:29.780402Z",
     "iopub.status.busy": "2022-10-15T03:40:29.779602Z",
     "iopub.status.idle": "2022-10-15T03:40:29.787420Z",
     "shell.execute_reply": "2022-10-15T03:40:29.787962Z"
    },
    "papermill": {
     "duration": 0.024661,
     "end_time": "2022-10-15T03:40:29.788118",
     "exception": false,
     "start_time": "2022-10-15T03:40:29.763457",
     "status": "completed"
    },
    "tags": []
   },
   "outputs": [
    {
     "data": {
      "text/markdown": [
       "- Blockchain.com To Stop Crypto Accounts Of Russians Due To EU Sanctions.  In a letter directed towards its users, Blockchain.com, a crypto wallet has mentioned that it shall block accounts of Russian nationals starting October 27, 2022. Blockchain.com will cease to provide this service because of the latest sanctions imposed by the European Union. This change is expected in the next two weeks, as per reports from [&#8230;] ... [| Skaityti daugiau](https://bitcoinist.com/blockchain-com-to-stop-crypto-accounts/) "
      ],
      "text/plain": [
       "<IPython.core.display.Markdown object>"
      ]
     },
     "execution_count": 3,
     "metadata": {},
     "output_type": "execute_result"
    }
   ],
   "source": [
    "#hide_input\n",
    "#md('##### {}'.format(titleBTC)) \n",
    "md(\"- {}{} {}{} [| Skaityti daugiau]({}) \".format(blockchain['title'],'. ', blockchain['body'], ' ...', blockchain['url']))"
   ]
  },
  {
   "cell_type": "code",
   "execution_count": 4,
   "id": "aging-caution",
   "metadata": {
    "execution": {
     "iopub.execute_input": "2022-10-15T03:40:29.819005Z",
     "iopub.status.busy": "2022-10-15T03:40:29.818249Z",
     "iopub.status.idle": "2022-10-15T03:40:29.824787Z",
     "shell.execute_reply": "2022-10-15T03:40:29.825376Z"
    },
    "papermill": {
     "duration": 0.025353,
     "end_time": "2022-10-15T03:40:29.825515",
     "exception": false,
     "start_time": "2022-10-15T03:40:29.800162",
     "status": "completed"
    },
    "tags": []
   },
   "outputs": [
    {
     "data": {
      "text/markdown": [
       "- Bitcoin, Ethereum, Terra Classic, and Toncoin Daily Price Analyses – 14 October Roundup.  The global crypto market has seen a decline in value despite the recent bullish trend. The ongoing changes have brought considerable losses to the overall market. The value of Bitcoin, Ethereum, and others has continued to decrease due to the change of the market mood to bearish. As there have been some major fluctuations, there &#8230;  Bitcoin, Ethereum, Terra Classic, and Toncoin Daily Price Analyses – 14 October Roundup Read More &#187; ... [| Skaityti daugiau](https://www.cryptopolitan.com/bitcoin-ethereum-terra-classic-and-toncoin-daily-price-analyses-14-october-roundup/) "
      ],
      "text/plain": [
       "<IPython.core.display.Markdown object>"
      ]
     },
     "execution_count": 4,
     "metadata": {},
     "output_type": "execute_result"
    }
   ],
   "source": [
    "#hide_input\n",
    "#md('##### {}'.format(titleBTC)) \n",
    "md(\"- {}{} {}{} [| Skaityti daugiau]({}) \".format(btc['title'],'. ', btc['body'], ' ...', btc['url']))"
   ]
  },
  {
   "cell_type": "code",
   "execution_count": 5,
   "id": "organic-actress",
   "metadata": {
    "execution": {
     "iopub.execute_input": "2022-10-15T03:40:29.852006Z",
     "iopub.status.busy": "2022-10-15T03:40:29.850987Z",
     "iopub.status.idle": "2022-10-15T03:40:29.857743Z",
     "shell.execute_reply": "2022-10-15T03:40:29.857197Z"
    },
    "papermill": {
     "duration": 0.021276,
     "end_time": "2022-10-15T03:40:29.857860",
     "exception": false,
     "start_time": "2022-10-15T03:40:29.836584",
     "status": "completed"
    },
    "tags": []
   },
   "outputs": [
    {
     "data": {
      "text/markdown": [
       "- Ripple Advisor Predicts Countries May Use Public Blockchains.  Countries may switch to public blockchain solutions in the future, according to Ripple advisor Antony Welfare ... [| Skaityti daugiau](https://u.today/ripple-advisor-predicts-countries-may-use-public-blockchains) "
      ],
      "text/plain": [
       "<IPython.core.display.Markdown object>"
      ]
     },
     "execution_count": 5,
     "metadata": {},
     "output_type": "execute_result"
    }
   ],
   "source": [
    "#hide_input\n",
    "#md('##### {}'.format(titleBTC)) \n",
    "md(\"- {}{} {}{} [| Skaityti daugiau]({}) \".format(xrp['title'],'. ', xrp['body'], ' ...', xrp['url']))"
   ]
  },
  {
   "cell_type": "code",
   "execution_count": 6,
   "id": "prompt-farmer",
   "metadata": {
    "execution": {
     "iopub.execute_input": "2022-10-15T03:40:29.887784Z",
     "iopub.status.busy": "2022-10-15T03:40:29.886996Z",
     "iopub.status.idle": "2022-10-15T03:40:29.891259Z",
     "shell.execute_reply": "2022-10-15T03:40:29.890699Z"
    },
    "papermill": {
     "duration": 0.021821,
     "end_time": "2022-10-15T03:40:29.891387",
     "exception": false,
     "start_time": "2022-10-15T03:40:29.869566",
     "status": "completed"
    },
    "tags": []
   },
   "outputs": [
    {
     "data": {
      "text/markdown": [
       "- Tron [TRX] holders should look at these factors before making next move.  In a new partnership with the Commonwealth of Dominica, Tron [TRX], the decentralized, open-source blockchain, was announced as the preferred blockchain of the Commonwealth of Dominica to develop and issue the Dominica Coin (DMC). Since the announcement was made, TRX, the native coin of the Tron blockchain, recorded some traction. According to data from CoinMarketCap, [&#8230;] ... [| Skaityti daugiau](https://ambcrypto.com/tron-trx-holders-should-look-at-these-factors-before-making-next-move/) "
      ],
      "text/plain": [
       "<IPython.core.display.Markdown object>"
      ]
     },
     "execution_count": 6,
     "metadata": {},
     "output_type": "execute_result"
    }
   ],
   "source": [
    "#hide_input\n",
    "#md('##### {}'.format(titleBTC)) \n",
    "md(\"- {}{} {}{} [| Skaityti daugiau]({}) \".format(trx['title'],'. ', trx['body'], ' ...', trx['url']))"
   ]
  },
  {
   "cell_type": "code",
   "execution_count": 7,
   "id": "illegal-greece",
   "metadata": {
    "execution": {
     "iopub.execute_input": "2022-10-15T03:40:29.931686Z",
     "iopub.status.busy": "2022-10-15T03:40:29.930695Z",
     "iopub.status.idle": "2022-10-15T03:40:29.935072Z",
     "shell.execute_reply": "2022-10-15T03:40:29.934448Z"
    },
    "papermill": {
     "duration": 0.026054,
     "end_time": "2022-10-15T03:40:29.935388",
     "exception": false,
     "start_time": "2022-10-15T03:40:29.909334",
     "status": "completed"
    },
    "tags": []
   },
   "outputs": [
    {
     "data": {
      "text/markdown": [
       "- Bitcoin, Ethereum, Terra Classic, and Toncoin Daily Price Analyses – 14 October Roundup.  The global crypto market has seen a decline in value despite the recent bullish trend. The ongoing changes have brought considerable losses to the overall market. The value of Bitcoin, Ethereum, and others has continued to decrease due to the change of the market mood to bearish. As there have been some major fluctuations, there &#8230;  Bitcoin, Ethereum, Terra Classic, and Toncoin Daily Price Analyses – 14 October Roundup Read More &#187; ... [| Skaityti daugiau](https://www.cryptopolitan.com/bitcoin-ethereum-terra-classic-and-toncoin-daily-price-analyses-14-october-roundup/) "
      ],
      "text/plain": [
       "<IPython.core.display.Markdown object>"
      ]
     },
     "execution_count": 7,
     "metadata": {},
     "output_type": "execute_result"
    }
   ],
   "source": [
    "#hide_input\n",
    "#md('##### {}'.format(titleBTC)) \n",
    "md(\"- {}{} {}{} [| Skaityti daugiau]({}) \".format(eth['title'],'. ', eth['body'], ' ...', eth['url']))"
   ]
  },
  {
   "cell_type": "code",
   "execution_count": 8,
   "id": "sublime-lounge",
   "metadata": {
    "execution": {
     "iopub.execute_input": "2022-10-15T03:40:29.981592Z",
     "iopub.status.busy": "2022-10-15T03:40:29.980790Z",
     "iopub.status.idle": "2022-10-15T03:40:29.984898Z",
     "shell.execute_reply": "2022-10-15T03:40:29.984385Z"
    },
    "papermill": {
     "duration": 0.029116,
     "end_time": "2022-10-15T03:40:29.985027",
     "exception": false,
     "start_time": "2022-10-15T03:40:29.955911",
     "status": "completed"
    },
    "tags": []
   },
   "outputs": [
    {
     "data": {
      "text/markdown": [
       "- Charles Hoskinson: Crypto Projects like Cardano (ADA) Could Become Financial Operating Systems of the World.  Charles Hoskinson, the creator of Cardano (ADA), has recently discussed the vision he has for Cardano and other legitimate projects in the crypto space. In a recent video update, Hoskinson told his teeming YouTube subscribers that crypto projects such as Cardano (ADA) could become the world’s financial operating systems in the long run. Read Also: [&#8230;]The post Charles Hoskinson: Crypto Projects like Cardano (ADA) Could Become Financial Operating Systems of the World appeared first on Times Tabloid. ... [| Skaityti daugiau](https://timestabloid.com/charles-hoskinson-crypto-projects-like-cardano-ada-could-become-financial-operating-systems-of-the-world/) "
      ],
      "text/plain": [
       "<IPython.core.display.Markdown object>"
      ]
     },
     "execution_count": 8,
     "metadata": {},
     "output_type": "execute_result"
    }
   ],
   "source": [
    "#hide_input\n",
    "#md('##### {}'.format(titleBTC)) \n",
    "md(\"- {}{} {}{} [| Skaityti daugiau]({}) \".format(ada['title'],'. ', ada['body'], ' ...', ada['url']))"
   ]
  },
  {
   "cell_type": "code",
   "execution_count": 9,
   "id": "specified-ordering",
   "metadata": {
    "execution": {
     "iopub.execute_input": "2022-10-15T03:40:30.018626Z",
     "iopub.status.busy": "2022-10-15T03:40:30.017522Z",
     "iopub.status.idle": "2022-10-15T03:40:30.021524Z",
     "shell.execute_reply": "2022-10-15T03:40:30.020754Z"
    },
    "papermill": {
     "duration": 0.023133,
     "end_time": "2022-10-15T03:40:30.021663",
     "exception": false,
     "start_time": "2022-10-15T03:40:29.998530",
     "status": "completed"
    },
    "tags": []
   },
   "outputs": [
    {
     "data": {
      "text/markdown": [
       "- How to Connect Trust Wallet to Pancakeswap.  Cryptocurrency is reshaping the current economy in ways that have never been seen before, and it is predicted that it will eventually replace the physical money exchange system. With their peer-to-peer and encrypted transaction methods, cryptocurrencies have largely benefited from people&#8217;s constant need to secure their money. One prescribed way is to connect Trust Wallet &#8230;  How to Connect Trust Wallet to Pancakeswap Read More &#187; ... [| Skaityti daugiau](https://www.cryptopolitan.com/how-to-connect-trust-wallet-to-pancakeswap/) "
      ],
      "text/plain": [
       "<IPython.core.display.Markdown object>"
      ]
     },
     "execution_count": 9,
     "metadata": {},
     "output_type": "execute_result"
    }
   ],
   "source": [
    "#hide_input\n",
    "#md('##### {}'.format(titleBTC)) \n",
    "md(\"- {}{} {}{} [| Skaityti daugiau]({}) \".format(exchange['title'],'. ', exchange['body'], ' ...', exchange['url']))"
   ]
  },
  {
   "cell_type": "code",
   "execution_count": null,
   "id": "tender-livestock",
   "metadata": {
    "papermill": {
     "duration": 0.013632,
     "end_time": "2022-10-15T03:40:30.048412",
     "exception": false,
     "start_time": "2022-10-15T03:40:30.034780",
     "status": "completed"
    },
    "tags": []
   },
   "outputs": [],
   "source": []
  },
  {
   "cell_type": "code",
   "execution_count": null,
   "id": "appreciated-diamond",
   "metadata": {
    "papermill": {
     "duration": 0.012898,
     "end_time": "2022-10-15T03:40:30.074343",
     "exception": false,
     "start_time": "2022-10-15T03:40:30.061445",
     "status": "completed"
    },
    "tags": []
   },
   "outputs": [],
   "source": []
  },
  {
   "cell_type": "code",
   "execution_count": null,
   "id": "romance-sweden",
   "metadata": {
    "papermill": {
     "duration": 0.012288,
     "end_time": "2022-10-15T03:40:30.102563",
     "exception": false,
     "start_time": "2022-10-15T03:40:30.090275",
     "status": "completed"
    },
    "tags": []
   },
   "outputs": [],
   "source": []
  },
  {
   "cell_type": "code",
   "execution_count": null,
   "id": "dietary-statistics",
   "metadata": {
    "papermill": {
     "duration": 0.012877,
     "end_time": "2022-10-15T03:40:30.129079",
     "exception": false,
     "start_time": "2022-10-15T03:40:30.116202",
     "status": "completed"
    },
    "tags": []
   },
   "outputs": [],
   "source": []
  }
 ],
 "metadata": {
  "kernelspec": {
   "display_name": "Python 3",
   "language": "python",
   "name": "python3"
  },
  "language_info": {
   "codemirror_mode": {
    "name": "ipython",
    "version": 3
   },
   "file_extension": ".py",
   "mimetype": "text/x-python",
   "name": "python",
   "nbconvert_exporter": "python",
   "pygments_lexer": "ipython3",
   "version": "3.6.15"
  },
  "papermill": {
   "default_parameters": {},
   "duration": 20.149841,
   "end_time": "2022-10-15T03:40:30.662449",
   "environment_variables": {},
   "exception": null,
   "input_path": "Market-News.ipynb",
   "output_path": "Market-News.ipynb",
   "parameters": {},
   "start_time": "2022-10-15T03:40:10.512608",
   "version": "2.2.2"
  }
 },
 "nbformat": 4,
 "nbformat_minor": 5
}