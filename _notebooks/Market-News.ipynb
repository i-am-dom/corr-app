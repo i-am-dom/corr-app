{
 "cells": [
  {
   "cell_type": "markdown",
   "id": "short-greensboro",
   "metadata": {
    "papermill": {
     "duration": 0.01322,
     "end_time": "2021-11-25T02:00:56.768639",
     "exception": false,
     "start_time": "2021-11-25T02:00:56.755419",
     "status": "completed"
    },
    "tags": []
   },
   "source": [
    "# Kriptovaliutų naujienos"
   ]
  },
  {
   "cell_type": "code",
   "execution_count": 1,
   "id": "functioning-knowing",
   "metadata": {
    "execution": {
     "iopub.execute_input": "2021-11-25T02:00:56.800042Z",
     "iopub.status.busy": "2021-11-25T02:00:56.799443Z",
     "iopub.status.idle": "2021-11-25T02:00:58.162048Z",
     "shell.execute_reply": "2021-11-25T02:00:58.162529Z"
    },
    "papermill": {
     "duration": 1.38396,
     "end_time": "2021-11-25T02:00:58.162714",
     "exception": false,
     "start_time": "2021-11-25T02:00:56.778754",
     "status": "completed"
    },
    "tags": []
   },
   "outputs": [],
   "source": [
    "#hide_input\n",
    "import warnings\n",
    "warnings.filterwarnings('ignore')\n",
    "from scripts.read_data import read_api\n",
    "from scripts.read_data import read_news\n",
    "from scripts.read_data import read_covid\n",
    "import matplotlib.pyplot as plt \n",
    "from IPython.display import Markdown as md"
   ]
  },
  {
   "cell_type": "code",
   "execution_count": 2,
   "id": "shared-acceptance",
   "metadata": {
    "execution": {
     "iopub.execute_input": "2021-11-25T02:00:58.189879Z",
     "iopub.status.busy": "2021-11-25T02:00:58.188846Z",
     "iopub.status.idle": "2021-11-25T02:01:08.406476Z",
     "shell.execute_reply": "2021-11-25T02:01:08.405933Z"
    },
    "papermill": {
     "duration": 10.234311,
     "end_time": "2021-11-25T02:01:08.406621",
     "exception": false,
     "start_time": "2021-11-25T02:00:58.172310",
     "status": "completed"
    },
    "tags": []
   },
   "outputs": [],
   "source": [
    "#hide_input\n",
    "blockchain = read_news('blockchain') \n",
    "btc = read_news('btc') \n",
    "xrp = read_news('xrp') \n",
    "trx = read_news('trx') \n",
    "eth = read_news('eth')  \n",
    "ada = read_news('ada')\n",
    "exchange = read_news('exchange') "
   ]
  },
  {
   "cell_type": "code",
   "execution_count": 3,
   "id": "synthetic-notion",
   "metadata": {
    "execution": {
     "iopub.execute_input": "2021-11-25T02:01:08.433635Z",
     "iopub.status.busy": "2021-11-25T02:01:08.433046Z",
     "iopub.status.idle": "2021-11-25T02:01:08.437101Z",
     "shell.execute_reply": "2021-11-25T02:01:08.437513Z"
    },
    "papermill": {
     "duration": 0.020807,
     "end_time": "2021-11-25T02:01:08.437657",
     "exception": false,
     "start_time": "2021-11-25T02:01:08.416850",
     "status": "completed"
    },
    "tags": []
   },
   "outputs": [
    {
     "data": {
      "text/markdown": [
       "- Crypto.com Coin: Crypto Analytics Startup Issues a Warning to $CRO Traders.  Cryptocurrency analytics firm Santiment has warned that certain metrics suggest Crypto.-com coin ($CRO) may be overbought after surging over 1,440% year-to-date, partly thanks to the launch of a new Ethereum Virtual Machine (EVM) compatible blockchain and to an iconic deal. The price of $CRO, the native token of the Crypto..com chain that was created to […] ... [| Skaityti daugiau](https://www.cryptoglobe.com/latest/2021/11/crypto-com-coin-crypto-analytics-startup-issues-a-warning-to-cro-traders/) "
      ],
      "text/plain": [
       "<IPython.core.display.Markdown object>"
      ]
     },
     "execution_count": 3,
     "metadata": {},
     "output_type": "execute_result"
    }
   ],
   "source": [
    "#hide_input\n",
    "#md('##### {}'.format(titleBTC)) \n",
    "md(\"- {}{} {}{} [| Skaityti daugiau]({}) \".format(blockchain['title'],'. ', blockchain['body'], ' ...', blockchain['url']))"
   ]
  },
  {
   "cell_type": "code",
   "execution_count": 4,
   "id": "aging-caution",
   "metadata": {
    "execution": {
     "iopub.execute_input": "2021-11-25T02:01:08.462622Z",
     "iopub.status.busy": "2021-11-25T02:01:08.462070Z",
     "iopub.status.idle": "2021-11-25T02:01:08.464362Z",
     "shell.execute_reply": "2021-11-25T02:01:08.464790Z"
    },
    "papermill": {
     "duration": 0.017638,
     "end_time": "2021-11-25T02:01:08.464942",
     "exception": false,
     "start_time": "2021-11-25T02:01:08.447304",
     "status": "completed"
    },
    "tags": []
   },
   "outputs": [
    {
     "data": {
      "text/markdown": [
       "- Bitcoin mining power crunch: Kazakhstan looks toward nuclear solution.  The country saw a great influx of miners this year, but it might have to sacrifice the immense tax revenue from Bitcoin miners if power grid issues are not resolved. ... [| Skaityti daugiau](https://cointelegraph.com/news/bitcoin-mining-power-crunch-kazakhstan-looks-toward-nuclear-solution) "
      ],
      "text/plain": [
       "<IPython.core.display.Markdown object>"
      ]
     },
     "execution_count": 4,
     "metadata": {},
     "output_type": "execute_result"
    }
   ],
   "source": [
    "#hide_input\n",
    "#md('##### {}'.format(titleBTC)) \n",
    "md(\"- {}{} {}{} [| Skaityti daugiau]({}) \".format(btc['title'],'. ', btc['body'], ' ...', btc['url']))"
   ]
  },
  {
   "cell_type": "code",
   "execution_count": 5,
   "id": "organic-actress",
   "metadata": {
    "execution": {
     "iopub.execute_input": "2021-11-25T02:01:08.490363Z",
     "iopub.status.busy": "2021-11-25T02:01:08.489843Z",
     "iopub.status.idle": "2021-11-25T02:01:08.492764Z",
     "shell.execute_reply": "2021-11-25T02:01:08.492322Z"
    },
    "papermill": {
     "duration": 0.017962,
     "end_time": "2021-11-25T02:01:08.492886",
     "exception": false,
     "start_time": "2021-11-25T02:01:08.474924",
     "status": "completed"
    },
    "tags": []
   },
   "outputs": [
    {
     "data": {
      "text/markdown": [
       "- Dogecoin (DOGE) Is Not Good For The Crypto Market, Says Ripple CEO.  While some would argue that DOGE brings enthusiasm to the crypto community, Brad Garlinghouse doesn’t think it does much good. ... [| Skaityti daugiau](https://cryptopotato.com/dogecoin-doge-is-not-good-for-the-crypto-market-says-ripple-ceo/) "
      ],
      "text/plain": [
       "<IPython.core.display.Markdown object>"
      ]
     },
     "execution_count": 5,
     "metadata": {},
     "output_type": "execute_result"
    }
   ],
   "source": [
    "#hide_input\n",
    "#md('##### {}'.format(titleBTC)) \n",
    "md(\"- {}{} {}{} [| Skaityti daugiau]({}) \".format(xrp['title'],'. ', xrp['body'], ' ...', xrp['url']))"
   ]
  },
  {
   "cell_type": "code",
   "execution_count": 6,
   "id": "prompt-farmer",
   "metadata": {
    "execution": {
     "iopub.execute_input": "2021-11-25T02:01:08.519139Z",
     "iopub.status.busy": "2021-11-25T02:01:08.518615Z",
     "iopub.status.idle": "2021-11-25T02:01:08.521586Z",
     "shell.execute_reply": "2021-11-25T02:01:08.522021Z"
    },
    "papermill": {
     "duration": 0.019035,
     "end_time": "2021-11-25T02:01:08.522160",
     "exception": false,
     "start_time": "2021-11-25T02:01:08.503125",
     "status": "completed"
    },
    "tags": []
   },
   "outputs": [
    {
     "data": {
      "text/markdown": [
       "- Cardano Founder Addresses Liquidity Concerns Over eToro Delisting.  Panic had washed over the Cardano community after news broke that midsize exchange eToro would be delisting the token, alongside Tron. The announcement came as a surprise and users milled onto social media to try to get explanations after receiving the email alerts. eToro had not given much of an explanation besides regulatory concerns which did not do much to quell the panic. Many had worried that the delisting was a result of low liquidity. Given this, there had been the need for some clarification. Cardano founder Charles Hoskinson took to Twitter to address these concerns, assuring investors that liquidity had nothing to do with the delisting and soothing nerves. Related Reading &#124; eToro Announces Cardano (ADA) And Tron (TRX) Delisting, Points To Regulatory Concerns Hoskinson Addresses Community Hoskinson started out by explaining that he actually had no idea about the delisting because IOG, the developer arm which is mostly involved with, did not handle listings. In the 13-minute video posted to Twitter, he clarified that there were actually no liquidity problems with Cardano, which was not a factor in the delisting. Turning to the regulatory concerns, the Cardano founder addressed the current global regulatory climate around crypto and pointed out that the consequences of this were “a systemic lack of clarity. Since there are no global regulatory standards, then usually, it is up to countries, states, and even organi... ... [| Skaityti daugiau](https://www.newsbtc.com/news/cardano/cardano-founder-addresses-liquidity-concerns-over-etoro-delisting/) "
      ],
      "text/plain": [
       "<IPython.core.display.Markdown object>"
      ]
     },
     "execution_count": 6,
     "metadata": {},
     "output_type": "execute_result"
    }
   ],
   "source": [
    "#hide_input\n",
    "#md('##### {}'.format(titleBTC)) \n",
    "md(\"- {}{} {}{} [| Skaityti daugiau]({}) \".format(trx['title'],'. ', trx['body'], ' ...', trx['url']))"
   ]
  },
  {
   "cell_type": "code",
   "execution_count": 7,
   "id": "illegal-greece",
   "metadata": {
    "execution": {
     "iopub.execute_input": "2021-11-25T02:01:08.548956Z",
     "iopub.status.busy": "2021-11-25T02:01:08.548428Z",
     "iopub.status.idle": "2021-11-25T02:01:08.551534Z",
     "shell.execute_reply": "2021-11-25T02:01:08.551116Z"
    },
    "papermill": {
     "duration": 0.018722,
     "end_time": "2021-11-25T02:01:08.551658",
     "exception": false,
     "start_time": "2021-11-25T02:01:08.532936",
     "status": "completed"
    },
    "tags": []
   },
   "outputs": [
    {
     "data": {
      "text/markdown": [
       "- Animoca to repay users 265 ETH stolen in fake NFT drop Discord hack.  The attack is the latest in a long string of exploits targeting users on Discord with fake “stealth” NFT drops.  ... [| Skaityti daugiau](https://cointelegraph.com/news/animoca-to-repay-users-265-eth-stolen-in-fake-nft-drop-discord-hack) "
      ],
      "text/plain": [
       "<IPython.core.display.Markdown object>"
      ]
     },
     "execution_count": 7,
     "metadata": {},
     "output_type": "execute_result"
    }
   ],
   "source": [
    "#hide_input\n",
    "#md('##### {}'.format(titleBTC)) \n",
    "md(\"- {}{} {}{} [| Skaityti daugiau]({}) \".format(eth['title'],'. ', eth['body'], ' ...', eth['url']))"
   ]
  },
  {
   "cell_type": "code",
   "execution_count": 8,
   "id": "sublime-lounge",
   "metadata": {
    "execution": {
     "iopub.execute_input": "2021-11-25T02:01:08.579817Z",
     "iopub.status.busy": "2021-11-25T02:01:08.579174Z",
     "iopub.status.idle": "2021-11-25T02:01:08.581371Z",
     "shell.execute_reply": "2021-11-25T02:01:08.581927Z"
    },
    "papermill": {
     "duration": 0.019412,
     "end_time": "2021-11-25T02:01:08.582070",
     "exception": false,
     "start_time": "2021-11-25T02:01:08.562658",
     "status": "completed"
    },
    "tags": []
   },
   "outputs": [
    {
     "data": {
      "text/markdown": [
       "- This Is Where Ethereum And cardano Price Are Heading This December!.  The post This Is Where Ethereum And cardano Price Are Heading This December! appeared first on Coinpedia - Fintech &amp; Cryptocurreny News Media| Crypto GuideThe crypto town continues to be ridden by the bears while costing investors time and patience. The lengthening cycles have been making way for prolonged corrections. The market cap of the crypto street is currently hovering around $2,700,827,489,183 with gains of 1.3%.&#160; The volumes for 24-hours is at $154,098,554,636. The dominance of the star crypto &#8230; ... [| Skaityti daugiau](https://coinpedia.org/price-analysis/this-is-where-ethereum-and-cardano-price-are-heading-this-december/) "
      ],
      "text/plain": [
       "<IPython.core.display.Markdown object>"
      ]
     },
     "execution_count": 8,
     "metadata": {},
     "output_type": "execute_result"
    }
   ],
   "source": [
    "#hide_input\n",
    "#md('##### {}'.format(titleBTC)) \n",
    "md(\"- {}{} {}{} [| Skaityti daugiau]({}) \".format(ada['title'],'. ', ada['body'], ' ...', ada['url']))"
   ]
  },
  {
   "cell_type": "code",
   "execution_count": 9,
   "id": "specified-ordering",
   "metadata": {
    "execution": {
     "iopub.execute_input": "2021-11-25T02:01:08.610243Z",
     "iopub.status.busy": "2021-11-25T02:01:08.609711Z",
     "iopub.status.idle": "2021-11-25T02:01:08.614126Z",
     "shell.execute_reply": "2021-11-25T02:01:08.613683Z"
    },
    "papermill": {
     "duration": 0.020872,
     "end_time": "2021-11-25T02:01:08.614250",
     "exception": false,
     "start_time": "2021-11-25T02:01:08.593378",
     "status": "completed"
    },
    "tags": []
   },
   "outputs": [
    {
     "data": {
      "text/markdown": [
       "- Cardano Founder Addresses Liquidity Concerns Over eToro Delisting.  Panic had washed over the Cardano community after news broke that midsize exchange eToro would be delisting the token, alongside Tron. The announcement came as a surprise and users milled onto social media to try to get explanations after receiving the email alerts. eToro had not given much of an explanation besides regulatory concerns which did not do much to quell the panic. Many had worried that the delisting was a result of low liquidity. Given this, there had been the need for some clarification. Cardano founder Charles Hoskinson took to Twitter to address these concerns, assuring investors that liquidity had nothing to do with the delisting and soothing nerves. Related Reading &#124; eToro Announces Cardano (ADA) And Tron (TRX) Delisting, Points To Regulatory Concerns Hoskinson Addresses Community Hoskinson started out by explaining that he actually had no idea about the delisting because IOG, the developer arm which is mostly involved with, did not handle listings. In the 13-minute video posted to Twitter, he clarified that there were actually no liquidity problems with Cardano, which was not a factor in the delisting. Turning to the regulatory concerns, the Cardano founder addressed the current global regulatory climate around crypto and pointed out that the consequences of this were “a systemic lack of clarity. Since there are no global regulatory standards, then usually, it is up to countries, states, and even organi... ... [| Skaityti daugiau](https://www.newsbtc.com/news/cardano/cardano-founder-addresses-liquidity-concerns-over-etoro-delisting/) "
      ],
      "text/plain": [
       "<IPython.core.display.Markdown object>"
      ]
     },
     "execution_count": 9,
     "metadata": {},
     "output_type": "execute_result"
    }
   ],
   "source": [
    "#hide_input\n",
    "#md('##### {}'.format(titleBTC)) \n",
    "md(\"- {}{} {}{} [| Skaityti daugiau]({}) \".format(exchange['title'],'. ', exchange['body'], ' ...', exchange['url']))"
   ]
  },
  {
   "cell_type": "code",
   "execution_count": null,
   "id": "tender-livestock",
   "metadata": {
    "papermill": {
     "duration": 0.011535,
     "end_time": "2021-11-25T02:01:08.637338",
     "exception": false,
     "start_time": "2021-11-25T02:01:08.625803",
     "status": "completed"
    },
    "tags": []
   },
   "outputs": [],
   "source": []
  },
  {
   "cell_type": "code",
   "execution_count": null,
   "id": "appreciated-diamond",
   "metadata": {
    "papermill": {
     "duration": 0.011415,
     "end_time": "2021-11-25T02:01:08.660502",
     "exception": false,
     "start_time": "2021-11-25T02:01:08.649087",
     "status": "completed"
    },
    "tags": []
   },
   "outputs": [],
   "source": []
  },
  {
   "cell_type": "code",
   "execution_count": null,
   "id": "romance-sweden",
   "metadata": {
    "papermill": {
     "duration": 0.011439,
     "end_time": "2021-11-25T02:01:08.683464",
     "exception": false,
     "start_time": "2021-11-25T02:01:08.672025",
     "status": "completed"
    },
    "tags": []
   },
   "outputs": [],
   "source": []
  },
  {
   "cell_type": "code",
   "execution_count": null,
   "id": "dietary-statistics",
   "metadata": {
    "papermill": {
     "duration": 0.011436,
     "end_time": "2021-11-25T02:01:08.706403",
     "exception": false,
     "start_time": "2021-11-25T02:01:08.694967",
     "status": "completed"
    },
    "tags": []
   },
   "outputs": [],
   "source": []
  }
 ],
 "metadata": {
  "kernelspec": {
   "display_name": "Python 3",
   "language": "python",
   "name": "python3"
  },
  "language_info": {
   "codemirror_mode": {
    "name": "ipython",
    "version": 3
   },
   "file_extension": ".py",
   "mimetype": "text/x-python",
   "name": "python",
   "nbconvert_exporter": "python",
   "pygments_lexer": "ipython3",
   "version": "3.6.15"
  },
  "papermill": {
   "default_parameters": {},
   "duration": 13.845601,
   "end_time": "2021-11-25T02:01:09.327611",
   "environment_variables": {},
   "exception": null,
   "input_path": "Market-News.ipynb",
   "output_path": "Market-News.ipynb",
   "parameters": {},
   "start_time": "2021-11-25T02:00:55.482010",
   "version": "2.2.2"
  }
 },
 "nbformat": 4,
 "nbformat_minor": 5
}