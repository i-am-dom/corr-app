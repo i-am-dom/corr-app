{
 "cells": [
  {
   "cell_type": "markdown",
   "id": "short-greensboro",
   "metadata": {
    "papermill": {
     "duration": 0.011566,
     "end_time": "2022-01-28T02:00:18.282508",
     "exception": false,
     "start_time": "2022-01-28T02:00:18.270942",
     "status": "completed"
    },
    "tags": []
   },
   "source": [
    "# Kriptovaliutų naujienos"
   ]
  },
  {
   "cell_type": "code",
   "execution_count": 1,
   "id": "functioning-knowing",
   "metadata": {
    "execution": {
     "iopub.execute_input": "2022-01-28T02:00:18.310973Z",
     "iopub.status.busy": "2022-01-28T02:00:18.310459Z",
     "iopub.status.idle": "2022-01-28T02:00:19.520963Z",
     "shell.execute_reply": "2022-01-28T02:00:19.520342Z"
    },
    "papermill": {
     "duration": 1.229608,
     "end_time": "2022-01-28T02:00:19.521160",
     "exception": false,
     "start_time": "2022-01-28T02:00:18.291552",
     "status": "completed"
    },
    "tags": []
   },
   "outputs": [],
   "source": [
    "#hide_input\n",
    "import warnings\n",
    "warnings.filterwarnings('ignore')\n",
    "from scripts.read_data import read_api\n",
    "from scripts.read_data import read_news\n",
    "from scripts.read_data import read_covid\n",
    "import matplotlib.pyplot as plt \n",
    "from IPython.display import Markdown as md"
   ]
  },
  {
   "cell_type": "code",
   "execution_count": 2,
   "id": "shared-acceptance",
   "metadata": {
    "execution": {
     "iopub.execute_input": "2022-01-28T02:00:19.549498Z",
     "iopub.status.busy": "2022-01-28T02:00:19.548532Z",
     "iopub.status.idle": "2022-01-28T02:00:31.252668Z",
     "shell.execute_reply": "2022-01-28T02:00:31.252136Z"
    },
    "papermill": {
     "duration": 11.720626,
     "end_time": "2022-01-28T02:00:31.252805",
     "exception": false,
     "start_time": "2022-01-28T02:00:19.532179",
     "status": "completed"
    },
    "tags": []
   },
   "outputs": [],
   "source": [
    "#hide_input\n",
    "blockchain = read_news('blockchain') \n",
    "btc = read_news('btc') \n",
    "xrp = read_news('xrp') \n",
    "trx = read_news('trx') \n",
    "eth = read_news('eth')  \n",
    "ada = read_news('ada')\n",
    "exchange = read_news('exchange') "
   ]
  },
  {
   "cell_type": "code",
   "execution_count": 3,
   "id": "synthetic-notion",
   "metadata": {
    "execution": {
     "iopub.execute_input": "2022-01-28T02:00:31.278696Z",
     "iopub.status.busy": "2022-01-28T02:00:31.278079Z",
     "iopub.status.idle": "2022-01-28T02:00:31.280265Z",
     "shell.execute_reply": "2022-01-28T02:00:31.280725Z"
    },
    "papermill": {
     "duration": 0.018037,
     "end_time": "2022-01-28T02:00:31.280866",
     "exception": false,
     "start_time": "2022-01-28T02:00:31.262829",
     "status": "completed"
    },
    "tags": []
   },
   "outputs": [
    {
     "data": {
      "text/markdown": [
       "- The Sandbox and Brinc announce US$50M Open Metaverse Accelerator Program funding for 100 startups.  The Sandbox Metaverse Accelerator Program will invest in 30 to 40 blockchain startups a year, helping to develop the open metaverse.Continue reading The Sandbox and Brinc announce US$50M Open Metaverse Accelerator Program funding for 100 startups at DailyCoin.com. ... [| Skaityti daugiau](https://dailycoin.com/the-sandbox-and-brinc-announce-us50m-open-metaverse-accelerator-program-funding-for-100-startups/) "
      ],
      "text/plain": [
       "<IPython.core.display.Markdown object>"
      ]
     },
     "execution_count": 3,
     "metadata": {},
     "output_type": "execute_result"
    }
   ],
   "source": [
    "#hide_input\n",
    "#md('##### {}'.format(titleBTC)) \n",
    "md(\"- {}{} {}{} [| Skaityti daugiau]({}) \".format(blockchain['title'],'. ', blockchain['body'], ' ...', blockchain['url']))"
   ]
  },
  {
   "cell_type": "code",
   "execution_count": 4,
   "id": "aging-caution",
   "metadata": {
    "execution": {
     "iopub.execute_input": "2022-01-28T02:00:31.305536Z",
     "iopub.status.busy": "2022-01-28T02:00:31.304361Z",
     "iopub.status.idle": "2022-01-28T02:00:31.308145Z",
     "shell.execute_reply": "2022-01-28T02:00:31.308641Z"
    },
    "papermill": {
     "duration": 0.01755,
     "end_time": "2022-01-28T02:00:31.308773",
     "exception": false,
     "start_time": "2022-01-28T02:00:31.291223",
     "status": "completed"
    },
    "tags": []
   },
   "outputs": [
    {
     "data": {
      "text/markdown": [
       "- Bitcoin dips 8% from highs as trader demands BTC bulls reclaim $37.5K.  Bitcoin \"isn't shouting for bullishness\" below $37,500, fresh analysis says, as the Federal Reserve's latest comments deliver little direction. ... [| Skaityti daugiau](https://cointelegraph.com/news/bitcoin-dips-8-from-highs-as-trader-demands-btc-bulls-reclaim-37-5k) "
      ],
      "text/plain": [
       "<IPython.core.display.Markdown object>"
      ]
     },
     "execution_count": 4,
     "metadata": {},
     "output_type": "execute_result"
    }
   ],
   "source": [
    "#hide_input\n",
    "#md('##### {}'.format(titleBTC)) \n",
    "md(\"- {}{} {}{} [| Skaityti daugiau]({}) \".format(btc['title'],'. ', btc['body'], ' ...', btc['url']))"
   ]
  },
  {
   "cell_type": "code",
   "execution_count": 5,
   "id": "organic-actress",
   "metadata": {
    "execution": {
     "iopub.execute_input": "2022-01-28T02:00:31.333708Z",
     "iopub.status.busy": "2022-01-28T02:00:31.333172Z",
     "iopub.status.idle": "2022-01-28T02:00:31.335917Z",
     "shell.execute_reply": "2022-01-28T02:00:31.336407Z"
    },
    "papermill": {
     "duration": 0.017962,
     "end_time": "2022-01-28T02:00:31.336533",
     "exception": false,
     "start_time": "2022-01-28T02:00:31.318571",
     "status": "completed"
    },
    "tags": []
   },
   "outputs": [
    {
     "data": {
      "text/markdown": [
       "- Stellar Lumens to add smart contracts, partners with MoneyGram to expand ecosystem.  While many might think of Stellar&#8217;s XLM as a rival to Ripple&#8217;s XRP, there&#8217;s much more to the dynamic since the two cryptos have very different operating models. The latest reports on Stellar only serve to prove this point. Counting Stars One piece of news that caught the attention of not just investors, but also [&#8230;] ... [| Skaityti daugiau](https://ambcrypto.com/stellar-lumens-to-add-smart-contracts-partners-with-moneygram-to-expand-ecosystem/) "
      ],
      "text/plain": [
       "<IPython.core.display.Markdown object>"
      ]
     },
     "execution_count": 5,
     "metadata": {},
     "output_type": "execute_result"
    }
   ],
   "source": [
    "#hide_input\n",
    "#md('##### {}'.format(titleBTC)) \n",
    "md(\"- {}{} {}{} [| Skaityti daugiau]({}) \".format(xrp['title'],'. ', xrp['body'], ' ...', xrp['url']))"
   ]
  },
  {
   "cell_type": "code",
   "execution_count": 6,
   "id": "prompt-farmer",
   "metadata": {
    "execution": {
     "iopub.execute_input": "2022-01-28T02:00:31.361988Z",
     "iopub.status.busy": "2022-01-28T02:00:31.361457Z",
     "iopub.status.idle": "2022-01-28T02:00:31.364586Z",
     "shell.execute_reply": "2022-01-28T02:00:31.364149Z"
    },
    "papermill": {
     "duration": 0.01803,
     "end_time": "2022-01-28T02:00:31.364698",
     "exception": false,
     "start_time": "2022-01-28T02:00:31.346668",
     "status": "completed"
    },
    "tags": []
   },
   "outputs": [
    {
     "data": {
      "text/markdown": [
       "- Tron (TRX) Price Analysis: Upsides Could Be Limited Above $0.062.  Tron price started a fresh decline from the $0.0720 resistance against the US Dollar. TRX price is now trading below $0.0620 and near the 55 simple moving average (4-hours). There is a key bearish trend line forming with resistance near $0.0572 on the 4-hours chart (data feed via Bitfinex). The pair could continue to move...The post Tron (TRX) Price Analysis: Upsides Could Be Limited Above $0.062 appeared first on Live Bitcoin News. ... [| Skaityti daugiau](https://www.livebitcoinnews.com/tron-trx-price-analysis-upsides-could-be-limited-above-0-062/) "
      ],
      "text/plain": [
       "<IPython.core.display.Markdown object>"
      ]
     },
     "execution_count": 6,
     "metadata": {},
     "output_type": "execute_result"
    }
   ],
   "source": [
    "#hide_input\n",
    "#md('##### {}'.format(titleBTC)) \n",
    "md(\"- {}{} {}{} [| Skaityti daugiau]({}) \".format(trx['title'],'. ', trx['body'], ' ...', trx['url']))"
   ]
  },
  {
   "cell_type": "code",
   "execution_count": 7,
   "id": "illegal-greece",
   "metadata": {
    "execution": {
     "iopub.execute_input": "2022-01-28T02:00:31.390625Z",
     "iopub.status.busy": "2022-01-28T02:00:31.390111Z",
     "iopub.status.idle": "2022-01-28T02:00:31.392904Z",
     "shell.execute_reply": "2022-01-28T02:00:31.392472Z"
    },
    "papermill": {
     "duration": 0.017728,
     "end_time": "2022-01-28T02:00:31.393012",
     "exception": false,
     "start_time": "2022-01-28T02:00:31.375284",
     "status": "completed"
    },
    "tags": []
   },
   "outputs": [
    {
     "data": {
      "text/markdown": [
       "- NFTs 'Achieved Mainstream Breakthrough' in 2021: Nansen.  Research firm Nansen found that total sales volume for NFTs hit $17 billion in 2021, while OpenSea briefly overtook Uniswap in terms of gas usage. ... [| Skaityti daugiau](https://decrypt.co/91344/nfts-achieved-mainstream-breakthrough-in-2021-nansen) "
      ],
      "text/plain": [
       "<IPython.core.display.Markdown object>"
      ]
     },
     "execution_count": 7,
     "metadata": {},
     "output_type": "execute_result"
    }
   ],
   "source": [
    "#hide_input\n",
    "#md('##### {}'.format(titleBTC)) \n",
    "md(\"- {}{} {}{} [| Skaityti daugiau]({}) \".format(eth['title'],'. ', eth['body'], ' ...', eth['url']))"
   ]
  },
  {
   "cell_type": "code",
   "execution_count": 8,
   "id": "sublime-lounge",
   "metadata": {
    "execution": {
     "iopub.execute_input": "2022-01-28T02:00:31.419249Z",
     "iopub.status.busy": "2022-01-28T02:00:31.418666Z",
     "iopub.status.idle": "2022-01-28T02:00:31.420786Z",
     "shell.execute_reply": "2022-01-28T02:00:31.421279Z"
    },
    "papermill": {
     "duration": 0.017736,
     "end_time": "2022-01-28T02:00:31.421402",
     "exception": false,
     "start_time": "2022-01-28T02:00:31.403666",
     "status": "completed"
    },
    "tags": []
   },
   "outputs": [
    {
     "data": {
      "text/markdown": [
       "- $ADA: Charles Hoskinson Is ‘Really Looking Forward to This DEX on Cardano’.  On Wednesday (January 26), Charles Hoskinson, Co-Founder and CEO of IO Global (aka “IOG”, formerly known as “IOHK”), the company responsible for building Cardano ($ADA), said that he was “really looking forward” to an upcoming DEX from Slovakian FinTech startup Vacuumlabs. History of Vaccumlabs’ Previous Apps for Cardano Vacuumlabs is “a software development company that builds modern […] ... [| Skaityti daugiau](https://www.cryptoglobe.com/latest/2022/01/ada-charles-hoskinson-is-really-looking-forward-to-this-dex-on-cardano/) "
      ],
      "text/plain": [
       "<IPython.core.display.Markdown object>"
      ]
     },
     "execution_count": 8,
     "metadata": {},
     "output_type": "execute_result"
    }
   ],
   "source": [
    "#hide_input\n",
    "#md('##### {}'.format(titleBTC)) \n",
    "md(\"- {}{} {}{} [| Skaityti daugiau]({}) \".format(ada['title'],'. ', ada['body'], ' ...', ada['url']))"
   ]
  },
  {
   "cell_type": "code",
   "execution_count": 9,
   "id": "specified-ordering",
   "metadata": {
    "execution": {
     "iopub.execute_input": "2022-01-28T02:00:31.448965Z",
     "iopub.status.busy": "2022-01-28T02:00:31.448415Z",
     "iopub.status.idle": "2022-01-28T02:00:31.451626Z",
     "shell.execute_reply": "2022-01-28T02:00:31.451220Z"
    },
    "papermill": {
     "duration": 0.019394,
     "end_time": "2022-01-28T02:00:31.451735",
     "exception": false,
     "start_time": "2022-01-28T02:00:31.432341",
     "status": "completed"
    },
    "tags": []
   },
   "outputs": [
    {
     "data": {
      "text/markdown": [
       "- Frog Nation CFO 0xSifu Doxxed As QuadrigaCX Co-Founder Michael Patryn.  Reportedly, the Frog Nation and Wonderland.Money operative 0xSifu has been identified as one of the co-founders of the fraudulent crypto exchange QuadrigaCX. Patryn served 18 months in prison for identity theft Via Twitter, blockchain investigator @zachxbt reported that he has linked 0xSifu’s identity to that of Michael Patryn. While not explicitly confirming the identity, Frog [&#8230;]The post Frog Nation CFO 0xSifu Doxxed As QuadrigaCX Co-Founder Michael Patryn appeared first on CryptoCoin.News. ... [| Skaityti daugiau](https://cryptocoin.news/news/defi-news/frog-nation-cfo-0xsifu-doxxed-as-quadrigacx-co-founder-michael-patryn-70544/?utm_source=rss&utm_medium=rss&utm_campaign=frog-nation-cfo-0xsifu-doxxed-as-quadrigacx-co-founder-michael-patryn) "
      ],
      "text/plain": [
       "<IPython.core.display.Markdown object>"
      ]
     },
     "execution_count": 9,
     "metadata": {},
     "output_type": "execute_result"
    }
   ],
   "source": [
    "#hide_input\n",
    "#md('##### {}'.format(titleBTC)) \n",
    "md(\"- {}{} {}{} [| Skaityti daugiau]({}) \".format(exchange['title'],'. ', exchange['body'], ' ...', exchange['url']))"
   ]
  },
  {
   "cell_type": "code",
   "execution_count": null,
   "id": "tender-livestock",
   "metadata": {
    "papermill": {
     "duration": 0.011187,
     "end_time": "2022-01-28T02:00:31.474162",
     "exception": false,
     "start_time": "2022-01-28T02:00:31.462975",
     "status": "completed"
    },
    "tags": []
   },
   "outputs": [],
   "source": []
  },
  {
   "cell_type": "code",
   "execution_count": null,
   "id": "appreciated-diamond",
   "metadata": {
    "papermill": {
     "duration": 0.011476,
     "end_time": "2022-01-28T02:00:31.497005",
     "exception": false,
     "start_time": "2022-01-28T02:00:31.485529",
     "status": "completed"
    },
    "tags": []
   },
   "outputs": [],
   "source": []
  },
  {
   "cell_type": "code",
   "execution_count": null,
   "id": "romance-sweden",
   "metadata": {
    "papermill": {
     "duration": 0.01109,
     "end_time": "2022-01-28T02:00:31.519334",
     "exception": false,
     "start_time": "2022-01-28T02:00:31.508244",
     "status": "completed"
    },
    "tags": []
   },
   "outputs": [],
   "source": []
  },
  {
   "cell_type": "code",
   "execution_count": null,
   "id": "dietary-statistics",
   "metadata": {
    "papermill": {
     "duration": 0.011188,
     "end_time": "2022-01-28T02:00:31.541699",
     "exception": false,
     "start_time": "2022-01-28T02:00:31.530511",
     "status": "completed"
    },
    "tags": []
   },
   "outputs": [],
   "source": []
  }
 ],
 "metadata": {
  "kernelspec": {
   "display_name": "Python 3",
   "language": "python",
   "name": "python3"
  },
  "language_info": {
   "codemirror_mode": {
    "name": "ipython",
    "version": 3
   },
   "file_extension": ".py",
   "mimetype": "text/x-python",
   "name": "python",
   "nbconvert_exporter": "python",
   "pygments_lexer": "ipython3",
   "version": "3.6.15"
  },
  "papermill": {
   "default_parameters": {},
   "duration": 14.917179,
   "end_time": "2022-01-28T02:00:32.071463",
   "environment_variables": {},
   "exception": null,
   "input_path": "Market-News.ipynb",
   "output_path": "Market-News.ipynb",
   "parameters": {},
   "start_time": "2022-01-28T02:00:17.154284",
   "version": "2.2.2"
  }
 },
 "nbformat": 4,
 "nbformat_minor": 5
}