{
 "cells": [
  {
   "cell_type": "markdown",
   "id": "short-greensboro",
   "metadata": {
    "papermill": {
     "duration": 0.013521,
     "end_time": "2021-11-19T01:59:40.294519",
     "exception": false,
     "start_time": "2021-11-19T01:59:40.280998",
     "status": "completed"
    },
    "tags": []
   },
   "source": [
    "# Kriptovaliutų naujienos"
   ]
  },
  {
   "cell_type": "code",
   "execution_count": 1,
   "id": "functioning-knowing",
   "metadata": {
    "execution": {
     "iopub.execute_input": "2021-11-19T01:59:40.323971Z",
     "iopub.status.busy": "2021-11-19T01:59:40.323445Z",
     "iopub.status.idle": "2021-11-19T01:59:41.583104Z",
     "shell.execute_reply": "2021-11-19T01:59:41.582567Z"
    },
    "papermill": {
     "duration": 1.279108,
     "end_time": "2021-11-19T01:59:41.583263",
     "exception": false,
     "start_time": "2021-11-19T01:59:40.304155",
     "status": "completed"
    },
    "tags": []
   },
   "outputs": [],
   "source": [
    "#hide_input\n",
    "import warnings\n",
    "warnings.filterwarnings('ignore')\n",
    "from scripts.read_data import read_api\n",
    "from scripts.read_data import read_news\n",
    "from scripts.read_data import read_covid\n",
    "import matplotlib.pyplot as plt \n",
    "from IPython.display import Markdown as md"
   ]
  },
  {
   "cell_type": "code",
   "execution_count": 2,
   "id": "shared-acceptance",
   "metadata": {
    "execution": {
     "iopub.execute_input": "2021-11-19T01:59:41.609049Z",
     "iopub.status.busy": "2021-11-19T01:59:41.608535Z",
     "iopub.status.idle": "2021-11-19T01:59:49.700567Z",
     "shell.execute_reply": "2021-11-19T01:59:49.699682Z"
    },
    "papermill": {
     "duration": 8.107351,
     "end_time": "2021-11-19T01:59:49.700712",
     "exception": false,
     "start_time": "2021-11-19T01:59:41.593361",
     "status": "completed"
    },
    "tags": []
   },
   "outputs": [],
   "source": [
    "#hide_input\n",
    "blockchain = read_news('blockchain') \n",
    "btc = read_news('btc') \n",
    "xrp = read_news('xrp') \n",
    "trx = read_news('trx') \n",
    "eth = read_news('eth')  \n",
    "ada = read_news('ada')\n",
    "exchange = read_news('exchange') "
   ]
  },
  {
   "cell_type": "code",
   "execution_count": 3,
   "id": "synthetic-notion",
   "metadata": {
    "execution": {
     "iopub.execute_input": "2021-11-19T01:59:49.725848Z",
     "iopub.status.busy": "2021-11-19T01:59:49.725317Z",
     "iopub.status.idle": "2021-11-19T01:59:49.728011Z",
     "shell.execute_reply": "2021-11-19T01:59:49.727595Z"
    },
    "papermill": {
     "duration": 0.017102,
     "end_time": "2021-11-19T01:59:49.728115",
     "exception": false,
     "start_time": "2021-11-19T01:59:49.711013",
     "status": "completed"
    },
    "tags": []
   },
   "outputs": [
    {
     "data": {
      "text/markdown": [
       "- Play-to-Earn Games Offer Alternative for Unbanked in South East Asia.  Crypto-based play-to-earn games like Axie Infinity (AXS) are paving the way for unbanked people in some countries in South East Asia to bypass dealing with banks altogether, and instead rely on their play-to-earn accounts, panelists at a discussion about blockchain gaming in South East Asia said....Read More: Play-to-Earn Games Offer Alternative for Unbanked in South East Asia ... [| Skaityti daugiau](https://cryptonews.com/news/play-to-earn-games-offer-alternative-for-unbanked-in-south-east-asia.htm) "
      ],
      "text/plain": [
       "<IPython.core.display.Markdown object>"
      ]
     },
     "execution_count": 3,
     "metadata": {},
     "output_type": "execute_result"
    }
   ],
   "source": [
    "#hide_input\n",
    "#md('##### {}'.format(titleBTC)) \n",
    "md(\"- {}{} {}{} [| Skaityti daugiau]({}) \".format(blockchain['title'],'. ', blockchain['body'], ' ...', blockchain['url']))"
   ]
  },
  {
   "cell_type": "code",
   "execution_count": 4,
   "id": "aging-caution",
   "metadata": {
    "execution": {
     "iopub.execute_input": "2021-11-19T01:59:49.750753Z",
     "iopub.status.busy": "2021-11-19T01:59:49.750218Z",
     "iopub.status.idle": "2021-11-19T01:59:49.752775Z",
     "shell.execute_reply": "2021-11-19T01:59:49.753199Z"
    },
    "papermill": {
     "duration": 0.015964,
     "end_time": "2021-11-19T01:59:49.753305",
     "exception": false,
     "start_time": "2021-11-19T01:59:49.737341",
     "status": "completed"
    },
    "tags": []
   },
   "outputs": [
    {
     "data": {
      "text/markdown": [
       "- Major Australian Baseball League Team Perth Heat to Pay Players in Bitcoin and Hold BTC on Balance Sheet.  One of the most successful baseball teams in Australia, the Perth Heat, is adopting the bitcoin standard. The team will pay players and staff in bitcoin, accept the cryptocurrency for payments, and hold bitcoin on its balance sheet. The Perth Heat Will Operate on Bitcoin Standard The Perth Heat, a major baseball team in the [&#8230;] ... [| Skaityti daugiau](https://news.bitcoin.com/major-australian-baseball-team-perth-heat-pay-players-in-bitcoin-hold-btc-on-balance-sheet/) "
      ],
      "text/plain": [
       "<IPython.core.display.Markdown object>"
      ]
     },
     "execution_count": 4,
     "metadata": {},
     "output_type": "execute_result"
    }
   ],
   "source": [
    "#hide_input\n",
    "#md('##### {}'.format(titleBTC)) \n",
    "md(\"- {}{} {}{} [| Skaityti daugiau]({}) \".format(btc['title'],'. ', btc['body'], ' ...', btc['url']))"
   ]
  },
  {
   "cell_type": "code",
   "execution_count": 5,
   "id": "organic-actress",
   "metadata": {
    "execution": {
     "iopub.execute_input": "2021-11-19T01:59:49.776508Z",
     "iopub.status.busy": "2021-11-19T01:59:49.775972Z",
     "iopub.status.idle": "2021-11-19T01:59:49.778913Z",
     "shell.execute_reply": "2021-11-19T01:59:49.779288Z"
    },
    "papermill": {
     "duration": 0.016694,
     "end_time": "2021-11-19T01:59:49.779427",
     "exception": false,
     "start_time": "2021-11-19T01:59:49.762733",
     "status": "completed"
    },
    "tags": []
   },
   "outputs": [
    {
     "data": {
      "text/markdown": [
       "- Why MoneyGram Launched A Bankless Payment Method On Stellar.  Payment giant MoneyGram International continues to cement its partnership with the Stellar ecosystem. Via an official post, the company announced a new stage for its collaboration by deploying a live cash-in and cash-out pilot initiative in the United States. Related Reading &#124; Stellar To Launch New Europe-Africa Payment Corridor With This Partner After ending its relationship with payment solution company Ripple due to the U.S. SEC lawsuit against its executives, MoneyGram established a collaboration with the Stellar Development Foundation. In a little under 2 months, the partners have taken important steps to improve the company’s payment settlement capabilities. According to MoneyGram, their newest pilot initiative has allowed them to deploy “one of the quickest, most seamless integrations yet”. As of now, participants in the U.S. can make dollar deposits into their wallets at certain MoneyGram establishments and leverage Stellar-based USDC Coin (USDC) to send instant payments abroad. In addition, participants will be able to exchange Stellar USDC for “any cash currency supported” on MoneyGram. The official post claims: With Stellar, MoneyGram enables consumers to seamlessly convert USDC to cash, or cash to USDC – all without requiring a bank account. Since USDC is the world’s fastest growing digital dollar currency, the utility and liquidity of this versatile digital asset will only grow as more wallets and companies j... ... [| Skaityti daugiau](https://www.newsbtc.com/news/stellar/why-moneygram-launched-a-bankless-payment-method-on-stellar/) "
      ],
      "text/plain": [
       "<IPython.core.display.Markdown object>"
      ]
     },
     "execution_count": 5,
     "metadata": {},
     "output_type": "execute_result"
    }
   ],
   "source": [
    "#hide_input\n",
    "#md('##### {}'.format(titleBTC)) \n",
    "md(\"- {}{} {}{} [| Skaityti daugiau]({}) \".format(xrp['title'],'. ', xrp['body'], ' ...', xrp['url']))"
   ]
  },
  {
   "cell_type": "code",
   "execution_count": 6,
   "id": "prompt-farmer",
   "metadata": {
    "execution": {
     "iopub.execute_input": "2021-11-19T01:59:49.803472Z",
     "iopub.status.busy": "2021-11-19T01:59:49.802954Z",
     "iopub.status.idle": "2021-11-19T01:59:49.806194Z",
     "shell.execute_reply": "2021-11-19T01:59:49.805800Z"
    },
    "papermill": {
     "duration": 0.017053,
     "end_time": "2021-11-19T01:59:49.806292",
     "exception": false,
     "start_time": "2021-11-19T01:59:49.789239",
     "status": "completed"
    },
    "tags": []
   },
   "outputs": [
    {
     "data": {
      "text/markdown": [
       "- Tron (TRX) Price Analysis: Bears In Action Below $0.11.  Tron price started a major decline from well above $0.1200 against the US Dollar. TRX price is now trading below $0.1100 and the 55 simple moving average (4-hours). There was a break below a key bullish trend line with support near $0.1100 on the 4-hours chart (data feed via Bitfinex). The pair could extend losses...The post Tron (TRX) Price Analysis: Bears In Action Below $0.11 appeared first on Live Bitcoin News. ... [| Skaityti daugiau](https://www.livebitcoinnews.com/tron-trx-price-analysis-bears-in-action-below-0-11/) "
      ],
      "text/plain": [
       "<IPython.core.display.Markdown object>"
      ]
     },
     "execution_count": 6,
     "metadata": {},
     "output_type": "execute_result"
    }
   ],
   "source": [
    "#hide_input\n",
    "#md('##### {}'.format(titleBTC)) \n",
    "md(\"- {}{} {}{} [| Skaityti daugiau]({}) \".format(trx['title'],'. ', trx['body'], ' ...', trx['url']))"
   ]
  },
  {
   "cell_type": "code",
   "execution_count": 7,
   "id": "illegal-greece",
   "metadata": {
    "execution": {
     "iopub.execute_input": "2021-11-19T01:59:49.830411Z",
     "iopub.status.busy": "2021-11-19T01:59:49.829459Z",
     "iopub.status.idle": "2021-11-19T01:59:49.832801Z",
     "shell.execute_reply": "2021-11-19T01:59:49.833176Z"
    },
    "papermill": {
     "duration": 0.016713,
     "end_time": "2021-11-19T01:59:49.833285",
     "exception": false,
     "start_time": "2021-11-19T01:59:49.816572",
     "status": "completed"
    },
    "tags": []
   },
   "outputs": [
    {
     "data": {
      "text/markdown": [
       "- A Pirate Bay Clone for NFTs Has Hit the Web.   ... [| Skaityti daugiau](https://cryptobriefing.com/a-pirate-bay-clone-for-nfts-has-hit-the-web/?utm_source=main_feed&utm_medium=rss) "
      ],
      "text/plain": [
       "<IPython.core.display.Markdown object>"
      ]
     },
     "execution_count": 7,
     "metadata": {},
     "output_type": "execute_result"
    }
   ],
   "source": [
    "#hide_input\n",
    "#md('##### {}'.format(titleBTC)) \n",
    "md(\"- {}{} {}{} [| Skaityti daugiau]({}) \".format(eth['title'],'. ', eth['body'], ' ...', eth['url']))"
   ]
  },
  {
   "cell_type": "code",
   "execution_count": 8,
   "id": "sublime-lounge",
   "metadata": {
    "execution": {
     "iopub.execute_input": "2021-11-19T01:59:49.858429Z",
     "iopub.status.busy": "2021-11-19T01:59:49.857938Z",
     "iopub.status.idle": "2021-11-19T01:59:49.861119Z",
     "shell.execute_reply": "2021-11-19T01:59:49.860725Z"
    },
    "papermill": {
     "duration": 0.017426,
     "end_time": "2021-11-19T01:59:49.861217",
     "exception": false,
     "start_time": "2021-11-19T01:59:49.843791",
     "status": "completed"
    },
    "tags": []
   },
   "outputs": [
    {
     "data": {
      "text/markdown": [
       "- ‘Ethereum Killers’ – Are they still worth talking about.  Bitcoin and Ethereum are never compared when functionality is taken into consideration. The sole difference comes down to Ethereum&#8217;s smart contracts feature. However, every other project which has smart contracts, one time or the other, has been deemed an Ethereum killer. The trend began back in 2018 during the ICO boom when EOS was considered [&#8230;] ... [| Skaityti daugiau](https://ambcrypto.com/ethereum-killers-are-they-still-worth-talking-about/) "
      ],
      "text/plain": [
       "<IPython.core.display.Markdown object>"
      ]
     },
     "execution_count": 8,
     "metadata": {},
     "output_type": "execute_result"
    }
   ],
   "source": [
    "#hide_input\n",
    "#md('##### {}'.format(titleBTC)) \n",
    "md(\"- {}{} {}{} [| Skaityti daugiau]({}) \".format(ada['title'],'. ', ada['body'], ' ...', ada['url']))"
   ]
  },
  {
   "cell_type": "code",
   "execution_count": 9,
   "id": "specified-ordering",
   "metadata": {
    "execution": {
     "iopub.execute_input": "2021-11-19T01:59:49.887061Z",
     "iopub.status.busy": "2021-11-19T01:59:49.886572Z",
     "iopub.status.idle": "2021-11-19T01:59:49.889748Z",
     "shell.execute_reply": "2021-11-19T01:59:49.889356Z"
    },
    "papermill": {
     "duration": 0.017696,
     "end_time": "2021-11-19T01:59:49.889845",
     "exception": false,
     "start_time": "2021-11-19T01:59:49.872149",
     "status": "completed"
    },
    "tags": []
   },
   "outputs": [
    {
     "data": {
      "text/markdown": [
       "- Why MoneyGram Launched A Bankless Payment Method On Stellar.  Payment giant MoneyGram International continues to cement its partnership with the Stellar ecosystem. Via an official post, the company announced a new stage for its collaboration by deploying a live cash-in and cash-out pilot initiative in the United States. Related Reading &#124; Stellar To Launch New Europe-Africa Payment Corridor With This Partner After ending its relationship with payment solution company Ripple due to the U.S. SEC lawsuit against its executives, MoneyGram established a collaboration with the Stellar Development Foundation. In a little under 2 months, the partners have taken important steps to improve the company’s payment settlement capabilities. According to MoneyGram, their newest pilot initiative has allowed them to deploy “one of the quickest, most seamless integrations yet”. As of now, participants in the U.S. can make dollar deposits into their wallets at certain MoneyGram establishments and leverage Stellar-based USDC Coin (USDC) to send instant payments abroad. In addition, participants will be able to exchange Stellar USDC for “any cash currency supported” on MoneyGram. The official post claims: With Stellar, MoneyGram enables consumers to seamlessly convert USDC to cash, or cash to USDC – all without requiring a bank account. Since USDC is the world’s fastest growing digital dollar currency, the utility and liquidity of this versatile digital asset will only grow as more wallets and companies j... ... [| Skaityti daugiau](https://www.newsbtc.com/news/stellar/why-moneygram-launched-a-bankless-payment-method-on-stellar/) "
      ],
      "text/plain": [
       "<IPython.core.display.Markdown object>"
      ]
     },
     "execution_count": 9,
     "metadata": {},
     "output_type": "execute_result"
    }
   ],
   "source": [
    "#hide_input\n",
    "#md('##### {}'.format(titleBTC)) \n",
    "md(\"- {}{} {}{} [| Skaityti daugiau]({}) \".format(exchange['title'],'. ', exchange['body'], ' ...', exchange['url']))"
   ]
  },
  {
   "cell_type": "code",
   "execution_count": null,
   "id": "tender-livestock",
   "metadata": {
    "papermill": {
     "duration": 0.010972,
     "end_time": "2021-11-19T01:59:49.911828",
     "exception": false,
     "start_time": "2021-11-19T01:59:49.900856",
     "status": "completed"
    },
    "tags": []
   },
   "outputs": [],
   "source": []
  },
  {
   "cell_type": "code",
   "execution_count": null,
   "id": "appreciated-diamond",
   "metadata": {
    "papermill": {
     "duration": 0.011043,
     "end_time": "2021-11-19T01:59:49.934181",
     "exception": false,
     "start_time": "2021-11-19T01:59:49.923138",
     "status": "completed"
    },
    "tags": []
   },
   "outputs": [],
   "source": []
  },
  {
   "cell_type": "code",
   "execution_count": null,
   "id": "romance-sweden",
   "metadata": {
    "papermill": {
     "duration": 0.010983,
     "end_time": "2021-11-19T01:59:49.956191",
     "exception": false,
     "start_time": "2021-11-19T01:59:49.945208",
     "status": "completed"
    },
    "tags": []
   },
   "outputs": [],
   "source": []
  },
  {
   "cell_type": "code",
   "execution_count": null,
   "id": "dietary-statistics",
   "metadata": {
    "papermill": {
     "duration": 0.011107,
     "end_time": "2021-11-19T01:59:49.978308",
     "exception": false,
     "start_time": "2021-11-19T01:59:49.967201",
     "status": "completed"
    },
    "tags": []
   },
   "outputs": [],
   "source": []
  }
 ],
 "metadata": {
  "kernelspec": {
   "display_name": "Python 3",
   "language": "python",
   "name": "python3"
  },
  "language_info": {
   "codemirror_mode": {
    "name": "ipython",
    "version": 3
   },
   "file_extension": ".py",
   "mimetype": "text/x-python",
   "name": "python",
   "nbconvert_exporter": "python",
   "pygments_lexer": "ipython3",
   "version": "3.6.15"
  },
  "papermill": {
   "default_parameters": {},
   "duration": 11.155337,
   "end_time": "2021-11-19T01:59:50.396796",
   "environment_variables": {},
   "exception": null,
   "input_path": "Market-News.ipynb",
   "output_path": "Market-News.ipynb",
   "parameters": {},
   "start_time": "2021-11-19T01:59:39.241459",
   "version": "2.2.2"
  }
 },
 "nbformat": 4,
 "nbformat_minor": 5
}