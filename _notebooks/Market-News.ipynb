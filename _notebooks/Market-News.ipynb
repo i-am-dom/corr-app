{
 "cells": [
  {
   "cell_type": "markdown",
   "id": "short-greensboro",
   "metadata": {
    "papermill": {
     "duration": 0.013662,
     "end_time": "2022-09-06T03:49:58.763845",
     "exception": false,
     "start_time": "2022-09-06T03:49:58.750183",
     "status": "completed"
    },
    "tags": []
   },
   "source": [
    "# Kriptovaliutų naujienos"
   ]
  },
  {
   "cell_type": "code",
   "execution_count": 1,
   "id": "functioning-knowing",
   "metadata": {
    "execution": {
     "iopub.execute_input": "2022-09-06T03:49:58.793492Z",
     "iopub.status.busy": "2022-09-06T03:49:58.792906Z",
     "iopub.status.idle": "2022-09-06T03:50:00.001450Z",
     "shell.execute_reply": "2022-09-06T03:50:00.000871Z"
    },
    "papermill": {
     "duration": 1.22812,
     "end_time": "2022-09-06T03:50:00.001598",
     "exception": false,
     "start_time": "2022-09-06T03:49:58.773478",
     "status": "completed"
    },
    "tags": []
   },
   "outputs": [],
   "source": [
    "#hide_input\n",
    "import warnings\n",
    "warnings.filterwarnings('ignore')\n",
    "from scripts.read_data import read_api\n",
    "from scripts.read_data import read_news\n",
    "from scripts.read_data import read_covid\n",
    "import matplotlib.pyplot as plt \n",
    "from IPython.display import Markdown as md"
   ]
  },
  {
   "cell_type": "code",
   "execution_count": 2,
   "id": "shared-acceptance",
   "metadata": {
    "execution": {
     "iopub.execute_input": "2022-09-06T03:50:00.026756Z",
     "iopub.status.busy": "2022-09-06T03:50:00.025773Z",
     "iopub.status.idle": "2022-09-06T03:50:12.091654Z",
     "shell.execute_reply": "2022-09-06T03:50:12.090630Z"
    },
    "papermill": {
     "duration": 12.0806,
     "end_time": "2022-09-06T03:50:12.091797",
     "exception": false,
     "start_time": "2022-09-06T03:50:00.011197",
     "status": "completed"
    },
    "tags": []
   },
   "outputs": [],
   "source": [
    "#hide_input\n",
    "blockchain = read_news('blockchain') \n",
    "btc = read_news('btc') \n",
    "xrp = read_news('xrp') \n",
    "trx = read_news('trx') \n",
    "eth = read_news('eth')  \n",
    "ada = read_news('ada')\n",
    "exchange = read_news('exchange') "
   ]
  },
  {
   "cell_type": "code",
   "execution_count": 3,
   "id": "synthetic-notion",
   "metadata": {
    "execution": {
     "iopub.execute_input": "2022-09-06T03:50:12.116083Z",
     "iopub.status.busy": "2022-09-06T03:50:12.113844Z",
     "iopub.status.idle": "2022-09-06T03:50:12.119367Z",
     "shell.execute_reply": "2022-09-06T03:50:12.118807Z"
    },
    "papermill": {
     "duration": 0.018109,
     "end_time": "2022-09-06T03:50:12.119470",
     "exception": false,
     "start_time": "2022-09-06T03:50:12.101361",
     "status": "completed"
    },
    "tags": []
   },
   "outputs": [
    {
     "data": {
      "text/markdown": [
       "- LG Taps Hedera Blockchain for NFT Marketplace.  LG is all set to enable TV owners to view and buy NFTs from the couch. ... [| Skaityti daugiau](https://cryptopotato.com/lg-taps-hedera-blockchain-for-nft-marketplace/) "
      ],
      "text/plain": [
       "<IPython.core.display.Markdown object>"
      ]
     },
     "execution_count": 3,
     "metadata": {},
     "output_type": "execute_result"
    }
   ],
   "source": [
    "#hide_input\n",
    "#md('##### {}'.format(titleBTC)) \n",
    "md(\"- {}{} {}{} [| Skaityti daugiau]({}) \".format(blockchain['title'],'. ', blockchain['body'], ' ...', blockchain['url']))"
   ]
  },
  {
   "cell_type": "code",
   "execution_count": 4,
   "id": "aging-caution",
   "metadata": {
    "execution": {
     "iopub.execute_input": "2022-09-06T03:50:12.142773Z",
     "iopub.status.busy": "2022-09-06T03:50:12.142169Z",
     "iopub.status.idle": "2022-09-06T03:50:12.145516Z",
     "shell.execute_reply": "2022-09-06T03:50:12.145047Z"
    },
    "papermill": {
     "duration": 0.016941,
     "end_time": "2022-09-06T03:50:12.145626",
     "exception": false,
     "start_time": "2022-09-06T03:50:12.128685",
     "status": "completed"
    },
    "tags": []
   },
   "outputs": [
    {
     "data": {
      "text/markdown": [
       "- TA: Ethereum Smashes Heavy Resistance: Next Bullish Levels Traders Should Watch.  Ethereum gained bullish momentum for a move above $1,625 against the US Dollar. ETH is now showing positive signs and might soon test the $1,700 zone. Ethereum is up close to 5% and there was a clear move above the $1,625 resistance. The price is now trading above $1,600 and the 100 hourly simple moving average. There is a major bullish trend line forming with support near $1,580 on the hourly chart of ETH/USD (data feed via Kraken). The pair could continue to rise if it stays above $1,600 or $1,580. Ethereum Price Beats Bitcoin Ethereum started a steady increase from the $1,535 support zone. ETH was able to clear the key $1,600 resistance and the 100 hourly simple moving average to move into a positive zone, unlike bitcoin. The bulls were able to push the price above the $1,625 resistance. It gained nearly 5% and there was a test of the $1,675 zone. A high was formed at $1,675 and there was a minor downside correction. The price dipped below the $1,650 level. Ether price declined below the 23.6% Fib retracement level of the recent increase from the $1,535 swing low to $1,675 high. It is now trading above $1,600 and the 100 hourly simple moving average. There is also a major bullish trend line forming with support near $1,580 on the hourly chart of ETH/USD. An immediate resistance on the upside is near the $1,650 level. The next major resistance is now forming near the $1,675 level. Source: ETHUSD on TradingView.com A clear mo... ... [| Skaityti daugiau](https://www.newsbtc.com/analysis/eth/ethereum-smashes-resistance-1600/) "
      ],
      "text/plain": [
       "<IPython.core.display.Markdown object>"
      ]
     },
     "execution_count": 4,
     "metadata": {},
     "output_type": "execute_result"
    }
   ],
   "source": [
    "#hide_input\n",
    "#md('##### {}'.format(titleBTC)) \n",
    "md(\"- {}{} {}{} [| Skaityti daugiau]({}) \".format(btc['title'],'. ', btc['body'], ' ...', btc['url']))"
   ]
  },
  {
   "cell_type": "code",
   "execution_count": 5,
   "id": "organic-actress",
   "metadata": {
    "execution": {
     "iopub.execute_input": "2022-09-06T03:50:12.169784Z",
     "iopub.status.busy": "2022-09-06T03:50:12.169212Z",
     "iopub.status.idle": "2022-09-06T03:50:12.172144Z",
     "shell.execute_reply": "2022-09-06T03:50:12.172695Z"
    },
    "papermill": {
     "duration": 0.017534,
     "end_time": "2022-09-06T03:50:12.172810",
     "exception": false,
     "start_time": "2022-09-06T03:50:12.155276",
     "status": "completed"
    },
    "tags": []
   },
   "outputs": [
    {
     "data": {
      "text/markdown": [
       "- Ripple price analysis: Slight recovery sets in after the recent lows of $0.3243.  Ripple price analysis indicates the digital asset has been in a downward trendline over the weekend and on Monday it started to recover slightly. Presently, it is trading at $0.3239 and is down by 1.63 percent in the last 24 hours. Bears are active in the market and they pushed the prices down to $0.3243, &#8230;  Ripple price analysis: Slight recovery sets in after the recent lows of $0.3243 Read More &#187; ... [| Skaityti daugiau](https://www.cryptopolitan.com/ripple-price-analysis-2022-05-09-2/) "
      ],
      "text/plain": [
       "<IPython.core.display.Markdown object>"
      ]
     },
     "execution_count": 5,
     "metadata": {},
     "output_type": "execute_result"
    }
   ],
   "source": [
    "#hide_input\n",
    "#md('##### {}'.format(titleBTC)) \n",
    "md(\"- {}{} {}{} [| Skaityti daugiau]({}) \".format(xrp['title'],'. ', xrp['body'], ' ...', xrp['url']))"
   ]
  },
  {
   "cell_type": "code",
   "execution_count": 6,
   "id": "prompt-farmer",
   "metadata": {
    "execution": {
     "iopub.execute_input": "2022-09-06T03:50:12.197438Z",
     "iopub.status.busy": "2022-09-06T03:50:12.196859Z",
     "iopub.status.idle": "2022-09-06T03:50:12.200399Z",
     "shell.execute_reply": "2022-09-06T03:50:12.199908Z"
    },
    "papermill": {
     "duration": 0.017829,
     "end_time": "2022-09-06T03:50:12.200503",
     "exception": false,
     "start_time": "2022-09-06T03:50:12.182674",
     "status": "completed"
    },
    "tags": []
   },
   "outputs": [
    {
     "data": {
      "text/markdown": [
       "- Tron [TRX]: The technical hurdles to consider before taking a long position.  Disclaimer: The findings of the following analysis are the sole opinions of the writer and should not be considered investment advice. As anticipated by a previous article, Tron [TRX] reversed from its falling-wedge-like structure before pulling back into bearish clutches. For over eight weeks, the sellers strived to breach the $0.063-support (now resistance). The recent [&#8230;] ... [| Skaityti daugiau](https://ambcrypto.com/tron-trx-the-technical-hurdles-to-consider-before-taking-a-long-position/) "
      ],
      "text/plain": [
       "<IPython.core.display.Markdown object>"
      ]
     },
     "execution_count": 6,
     "metadata": {},
     "output_type": "execute_result"
    }
   ],
   "source": [
    "#hide_input\n",
    "#md('##### {}'.format(titleBTC)) \n",
    "md(\"- {}{} {}{} [| Skaityti daugiau]({}) \".format(trx['title'],'. ', trx['body'], ' ...', trx['url']))"
   ]
  },
  {
   "cell_type": "code",
   "execution_count": 7,
   "id": "illegal-greece",
   "metadata": {
    "execution": {
     "iopub.execute_input": "2022-09-06T03:50:12.227768Z",
     "iopub.status.busy": "2022-09-06T03:50:12.227182Z",
     "iopub.status.idle": "2022-09-06T03:50:12.230081Z",
     "shell.execute_reply": "2022-09-06T03:50:12.230526Z"
    },
    "papermill": {
     "duration": 0.019725,
     "end_time": "2022-09-06T03:50:12.230652",
     "exception": false,
     "start_time": "2022-09-06T03:50:12.210927",
     "status": "completed"
    },
    "tags": []
   },
   "outputs": [
    {
     "data": {
      "text/markdown": [
       "- TA: Ethereum Smashes Heavy Resistance: Next Bullish Levels Traders Should Watch.  Ethereum gained bullish momentum for a move above $1,625 against the US Dollar. ETH is now showing positive signs and might soon test the $1,700 zone. Ethereum is up close to 5% and there was a clear move above the $1,625 resistance. The price is now trading above $1,600 and the 100 hourly simple moving average. There is a major bullish trend line forming with support near $1,580 on the hourly chart of ETH/USD (data feed via Kraken). The pair could continue to rise if it stays above $1,600 or $1,580. Ethereum Price Beats Bitcoin Ethereum started a steady increase from the $1,535 support zone. ETH was able to clear the key $1,600 resistance and the 100 hourly simple moving average to move into a positive zone, unlike bitcoin. The bulls were able to push the price above the $1,625 resistance. It gained nearly 5% and there was a test of the $1,675 zone. A high was formed at $1,675 and there was a minor downside correction. The price dipped below the $1,650 level. Ether price declined below the 23.6% Fib retracement level of the recent increase from the $1,535 swing low to $1,675 high. It is now trading above $1,600 and the 100 hourly simple moving average. There is also a major bullish trend line forming with support near $1,580 on the hourly chart of ETH/USD. An immediate resistance on the upside is near the $1,650 level. The next major resistance is now forming near the $1,675 level. Source: ETHUSD on TradingView.com A clear mo... ... [| Skaityti daugiau](https://www.newsbtc.com/analysis/eth/ethereum-smashes-resistance-1600/) "
      ],
      "text/plain": [
       "<IPython.core.display.Markdown object>"
      ]
     },
     "execution_count": 7,
     "metadata": {},
     "output_type": "execute_result"
    }
   ],
   "source": [
    "#hide_input\n",
    "#md('##### {}'.format(titleBTC)) \n",
    "md(\"- {}{} {}{} [| Skaityti daugiau]({}) \".format(eth['title'],'. ', eth['body'], ' ...', eth['url']))"
   ]
  },
  {
   "cell_type": "code",
   "execution_count": 8,
   "id": "sublime-lounge",
   "metadata": {
    "execution": {
     "iopub.execute_input": "2022-09-06T03:50:12.256269Z",
     "iopub.status.busy": "2022-09-06T03:50:12.255683Z",
     "iopub.status.idle": "2022-09-06T03:50:12.259235Z",
     "shell.execute_reply": "2022-09-06T03:50:12.258778Z"
    },
    "papermill": {
     "duration": 0.018155,
     "end_time": "2022-09-06T03:50:12.259335",
     "exception": false,
     "start_time": "2022-09-06T03:50:12.241180",
     "status": "completed"
    },
    "tags": []
   },
   "outputs": [
    {
     "data": {
      "text/markdown": [
       "- Cardano ($ADA) Market Cap Surges to $17 Billion As Vasil Hard Fork Date is Confirmed.  The total market capitalization of smart contract platform Cardano ($ADA) has surged to briefly surpass the $17 billion mark ahead of the network’s highly-anticipated Vasil hard fork, which is expected to deliver a “massive performance improvement.” According to TradingView data, Cardano’s market capitalization stood below the $15 billion mark earlier this month, but surged to […] ... [| Skaityti daugiau](https://www.cryptoglobe.com/latest/2022/09/cardano-ada-market-cap-surges-to-17-billion-as-vasil-hard-fork-date-is-confirmed/) "
      ],
      "text/plain": [
       "<IPython.core.display.Markdown object>"
      ]
     },
     "execution_count": 8,
     "metadata": {},
     "output_type": "execute_result"
    }
   ],
   "source": [
    "#hide_input\n",
    "#md('##### {}'.format(titleBTC)) \n",
    "md(\"- {}{} {}{} [| Skaityti daugiau]({}) \".format(ada['title'],'. ', ada['body'], ' ...', ada['url']))"
   ]
  },
  {
   "cell_type": "code",
   "execution_count": 9,
   "id": "specified-ordering",
   "metadata": {
    "execution": {
     "iopub.execute_input": "2022-09-06T03:50:12.285600Z",
     "iopub.status.busy": "2022-09-06T03:50:12.285036Z",
     "iopub.status.idle": "2022-09-06T03:50:12.288683Z",
     "shell.execute_reply": "2022-09-06T03:50:12.288217Z"
    },
    "papermill": {
     "duration": 0.01862,
     "end_time": "2022-09-06T03:50:12.288781",
     "exception": false,
     "start_time": "2022-09-06T03:50:12.270161",
     "status": "completed"
    },
    "tags": []
   },
   "outputs": [
    {
     "data": {
      "text/markdown": [
       "- FTX Pausing Ethereum Deposits and Withdrawals for Merge, Supporting Fork Tokens.  Users of leading crypto exchange FTX will not be able to withdraw or deposit any ETH or ERC-20 tokens to the platform for at least 30 minutes while the Ethereum... ... [| Skaityti daugiau](https://cryptobriefing.com/ftx-pausing-ethereum-deposits-withdrawals-merge-fork-tokens/?utm_source=feed&utm_medium=rss) "
      ],
      "text/plain": [
       "<IPython.core.display.Markdown object>"
      ]
     },
     "execution_count": 9,
     "metadata": {},
     "output_type": "execute_result"
    }
   ],
   "source": [
    "#hide_input\n",
    "#md('##### {}'.format(titleBTC)) \n",
    "md(\"- {}{} {}{} [| Skaityti daugiau]({}) \".format(exchange['title'],'. ', exchange['body'], ' ...', exchange['url']))"
   ]
  },
  {
   "cell_type": "code",
   "execution_count": null,
   "id": "tender-livestock",
   "metadata": {
    "papermill": {
     "duration": 0.01104,
     "end_time": "2022-09-06T03:50:12.310953",
     "exception": false,
     "start_time": "2022-09-06T03:50:12.299913",
     "status": "completed"
    },
    "tags": []
   },
   "outputs": [],
   "source": []
  },
  {
   "cell_type": "code",
   "execution_count": null,
   "id": "appreciated-diamond",
   "metadata": {
    "papermill": {
     "duration": 0.011062,
     "end_time": "2022-09-06T03:50:12.333201",
     "exception": false,
     "start_time": "2022-09-06T03:50:12.322139",
     "status": "completed"
    },
    "tags": []
   },
   "outputs": [],
   "source": []
  },
  {
   "cell_type": "code",
   "execution_count": null,
   "id": "romance-sweden",
   "metadata": {
    "papermill": {
     "duration": 0.011119,
     "end_time": "2022-09-06T03:50:12.355417",
     "exception": false,
     "start_time": "2022-09-06T03:50:12.344298",
     "status": "completed"
    },
    "tags": []
   },
   "outputs": [],
   "source": []
  },
  {
   "cell_type": "code",
   "execution_count": null,
   "id": "dietary-statistics",
   "metadata": {
    "papermill": {
     "duration": 0.01105,
     "end_time": "2022-09-06T03:50:12.377530",
     "exception": false,
     "start_time": "2022-09-06T03:50:12.366480",
     "status": "completed"
    },
    "tags": []
   },
   "outputs": [],
   "source": []
  }
 ],
 "metadata": {
  "kernelspec": {
   "display_name": "Python 3",
   "language": "python",
   "name": "python3"
  },
  "language_info": {
   "codemirror_mode": {
    "name": "ipython",
    "version": 3
   },
   "file_extension": ".py",
   "mimetype": "text/x-python",
   "name": "python",
   "nbconvert_exporter": "python",
   "pygments_lexer": "ipython3",
   "version": "3.6.15"
  },
  "papermill": {
   "default_parameters": {},
   "duration": 14.976327,
   "end_time": "2022-09-06T03:50:12.807374",
   "environment_variables": {},
   "exception": null,
   "input_path": "Market-News.ipynb",
   "output_path": "Market-News.ipynb",
   "parameters": {},
   "start_time": "2022-09-06T03:49:57.831047",
   "version": "2.2.2"
  }
 },
 "nbformat": 4,
 "nbformat_minor": 5
}