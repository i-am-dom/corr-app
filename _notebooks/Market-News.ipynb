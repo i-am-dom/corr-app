{
 "cells": [
  {
   "cell_type": "markdown",
   "id": "short-greensboro",
   "metadata": {
    "papermill": {
     "duration": 0.01364,
     "end_time": "2021-07-28T02:03:45.371156",
     "exception": false,
     "start_time": "2021-07-28T02:03:45.357516",
     "status": "completed"
    },
    "tags": []
   },
   "source": [
    "# Kriptovaliutų naujienos"
   ]
  },
  {
   "cell_type": "code",
   "execution_count": 1,
   "id": "functioning-knowing",
   "metadata": {
    "execution": {
     "iopub.execute_input": "2021-07-28T02:03:45.398048Z",
     "iopub.status.busy": "2021-07-28T02:03:45.397537Z",
     "iopub.status.idle": "2021-07-28T02:03:46.464818Z",
     "shell.execute_reply": "2021-07-28T02:03:46.464289Z"
    },
    "papermill": {
     "duration": 1.08414,
     "end_time": "2021-07-28T02:03:46.464970",
     "exception": false,
     "start_time": "2021-07-28T02:03:45.380830",
     "status": "completed"
    },
    "tags": []
   },
   "outputs": [],
   "source": [
    "#hide_input\n",
    "import warnings\n",
    "warnings.filterwarnings('ignore')\n",
    "from scripts.read_data import read_api\n",
    "from scripts.read_data import read_news\n",
    "from scripts.read_data import read_covid\n",
    "import matplotlib.pyplot as plt \n",
    "from IPython.display import Markdown as md"
   ]
  },
  {
   "cell_type": "code",
   "execution_count": 2,
   "id": "shared-acceptance",
   "metadata": {
    "execution": {
     "iopub.execute_input": "2021-07-28T02:03:46.491275Z",
     "iopub.status.busy": "2021-07-28T02:03:46.490738Z",
     "iopub.status.idle": "2021-07-28T02:03:56.569466Z",
     "shell.execute_reply": "2021-07-28T02:03:56.568606Z"
    },
    "papermill": {
     "duration": 10.094055,
     "end_time": "2021-07-28T02:03:56.569592",
     "exception": false,
     "start_time": "2021-07-28T02:03:46.475537",
     "status": "completed"
    },
    "tags": []
   },
   "outputs": [],
   "source": [
    "#hide_input\n",
    "blockchain = read_news('blockchain') \n",
    "btc = read_news('btc') \n",
    "xrp = read_news('xrp') \n",
    "trx = read_news('trx') \n",
    "eth = read_news('eth')  \n",
    "ada = read_news('ada')\n",
    "exchange = read_news('exchange') "
   ]
  },
  {
   "cell_type": "code",
   "execution_count": 3,
   "id": "synthetic-notion",
   "metadata": {
    "execution": {
     "iopub.execute_input": "2021-07-28T02:03:56.592181Z",
     "iopub.status.busy": "2021-07-28T02:03:56.591660Z",
     "iopub.status.idle": "2021-07-28T02:03:56.594344Z",
     "shell.execute_reply": "2021-07-28T02:03:56.593918Z"
    },
    "papermill": {
     "duration": 0.016491,
     "end_time": "2021-07-28T02:03:56.594453",
     "exception": false,
     "start_time": "2021-07-28T02:03:56.577962",
     "status": "completed"
    },
    "tags": []
   },
   "outputs": [
    {
     "data": {
      "text/markdown": [
       "- Fireblocks Custody Company Raises $310 Million, Reaches $2 Billion Valuation.  Fireblocks, a blockchain infrastructure firm, raised $310 million in its most recent funding round, reaching a valuation of $2 billion. The company, which specializes in the custody of digital assets, is interested in bringing traditional assets to the blockchain realm. Fireblocks expects this trend of digitalization to keep growing in the recent future. Fireblocks Raises [&#8230;] ... [| Skaityti daugiau](https://news.bitcoin.com/fireblocks-custody-company-raises-310-million-reaches-2-billion-valuation/) "
      ],
      "text/plain": [
       "<IPython.core.display.Markdown object>"
      ]
     },
     "execution_count": 3,
     "metadata": {},
     "output_type": "execute_result"
    }
   ],
   "source": [
    "#hide_input\n",
    "#md('##### {}'.format(titleBTC)) \n",
    "md(\"- {}{} {}{} [| Skaityti daugiau]({}) \".format(blockchain['title'],'. ', blockchain['body'], ' ...', blockchain['url']))"
   ]
  },
  {
   "cell_type": "code",
   "execution_count": 4,
   "id": "aging-caution",
   "metadata": {
    "execution": {
     "iopub.execute_input": "2021-07-28T02:03:56.617943Z",
     "iopub.status.busy": "2021-07-28T02:03:56.617445Z",
     "iopub.status.idle": "2021-07-28T02:03:56.620436Z",
     "shell.execute_reply": "2021-07-28T02:03:56.620015Z"
    },
    "papermill": {
     "duration": 0.016699,
     "end_time": "2021-07-28T02:03:56.620541",
     "exception": false,
     "start_time": "2021-07-28T02:03:56.603842",
     "status": "completed"
    },
    "tags": []
   },
   "outputs": [
    {
     "data": {
      "text/markdown": [
       "- IMF Warns Against Adopting Crypto Assets Like Bitcoin as Legal Tender.  The International Monetary Fund (IMF) has warned against adopting cryptocurrencies, like bitcoin, as legal tender. Noting numerous risks and costs involved, the IMF does not see crypto assets catching on as a national currency. IMF Warns of Risks in Adopting Cryptocurrencies as National Currency The International Monetary Fund (IMF) published a blog post on Monday [&#8230;] ... [| Skaityti daugiau](https://news.bitcoin.com/imf-warns-adopting-crypto-assets-bitcoin-legal-tender/) "
      ],
      "text/plain": [
       "<IPython.core.display.Markdown object>"
      ]
     },
     "execution_count": 4,
     "metadata": {},
     "output_type": "execute_result"
    }
   ],
   "source": [
    "#hide_input\n",
    "#md('##### {}'.format(titleBTC)) \n",
    "md(\"- {}{} {}{} [| Skaityti daugiau]({}) \".format(btc['title'],'. ', btc['body'], ' ...', btc['url']))"
   ]
  },
  {
   "cell_type": "code",
   "execution_count": 5,
   "id": "organic-actress",
   "metadata": {
    "execution": {
     "iopub.execute_input": "2021-07-28T02:03:56.644592Z",
     "iopub.status.busy": "2021-07-28T02:03:56.644012Z",
     "iopub.status.idle": "2021-07-28T02:03:56.646071Z",
     "shell.execute_reply": "2021-07-28T02:03:56.646597Z"
    },
    "papermill": {
     "duration": 0.016625,
     "end_time": "2021-07-28T02:03:56.646739",
     "exception": false,
     "start_time": "2021-07-28T02:03:56.630114",
     "status": "completed"
    },
    "tags": []
   },
   "outputs": [
    {
     "data": {
      "text/markdown": [
       "- Here’s Ripple’s Strongest Defense Against the SEC in XRP Lawsuit, According to Crypto Legal Expert Jeremy Hogan.  Crypto legal expert Jeremy Hogan has named what he thinks is Ripple&#8217;s strongest defense against the US Securities and Exchange Commission (SEC) in the lawsuit involving XRP. The SEC has accused Ripple of illegally issuing XRP to investors as a security and alleges that the token is still one today. In a new AMA (ask [&#8230;]The post Here’s Ripple’s Strongest Defense Against the SEC in XRP Lawsuit, According to Crypto Legal Expert Jeremy Hogan appeared first on The Daily Hodl. ... [| Skaityti daugiau](https://dailyhodl.com/2021/07/27/heres-ripples-strongest-defense-against-the-sec-in-xrp-lawsuit-according-to-crypto-legal-expert-jeremy-hogan/) "
      ],
      "text/plain": [
       "<IPython.core.display.Markdown object>"
      ]
     },
     "execution_count": 5,
     "metadata": {},
     "output_type": "execute_result"
    }
   ],
   "source": [
    "#hide_input\n",
    "#md('##### {}'.format(titleBTC)) \n",
    "md(\"- {}{} {}{} [| Skaityti daugiau]({}) \".format(xrp['title'],'. ', xrp['body'], ' ...', xrp['url']))"
   ]
  },
  {
   "cell_type": "code",
   "execution_count": 6,
   "id": "prompt-farmer",
   "metadata": {
    "execution": {
     "iopub.execute_input": "2021-07-28T02:03:56.669593Z",
     "iopub.status.busy": "2021-07-28T02:03:56.669152Z",
     "iopub.status.idle": "2021-07-28T02:03:56.672825Z",
     "shell.execute_reply": "2021-07-28T02:03:56.672470Z"
    },
    "papermill": {
     "duration": 0.01664,
     "end_time": "2021-07-28T02:03:56.672921",
     "exception": false,
     "start_time": "2021-07-28T02:03:56.656281",
     "status": "completed"
    },
    "tags": []
   },
   "outputs": [
    {
     "data": {
      "text/markdown": [
       "- Ethereum, TRON, VeChain Price Analysis: 24 July.  After a period of intense volatility, the crypto-market rallied briefly followed by a period of consolidation. The broader crypto-market remained indecisive, however, and the industry’s altcoins underlined the same. Despite noting considerable gains, Tron was trading in the red, at press time. It might go on a downtrend if the price doesn&#8217;t shoot up over [&#8230;] ... [| Skaityti daugiau](https://ambcrypto.com/ethereum-tron-vechain-price-analysis-24-july/) "
      ],
      "text/plain": [
       "<IPython.core.display.Markdown object>"
      ]
     },
     "execution_count": 6,
     "metadata": {},
     "output_type": "execute_result"
    }
   ],
   "source": [
    "#hide_input\n",
    "#md('##### {}'.format(titleBTC)) \n",
    "md(\"- {}{} {}{} [| Skaityti daugiau]({}) \".format(trx['title'],'. ', trx['body'], ' ...', trx['url']))"
   ]
  },
  {
   "cell_type": "code",
   "execution_count": 7,
   "id": "illegal-greece",
   "metadata": {
    "execution": {
     "iopub.execute_input": "2021-07-28T02:03:56.695401Z",
     "iopub.status.busy": "2021-07-28T02:03:56.694956Z",
     "iopub.status.idle": "2021-07-28T02:03:56.697861Z",
     "shell.execute_reply": "2021-07-28T02:03:56.697501Z"
    },
    "papermill": {
     "duration": 0.015804,
     "end_time": "2021-07-28T02:03:56.697957",
     "exception": false,
     "start_time": "2021-07-28T02:03:56.682153",
     "status": "completed"
    },
    "tags": []
   },
   "outputs": [
    {
     "data": {
      "text/markdown": [
       "- Cats cause chaos on Ethereum again as Mila Kunis project sells out in 35 minutes.  Data from Dune Analytics shows there was a total of 344.4 ETH ($793,000) in value lost to failed Stoner Cats transactions. ... [| Skaityti daugiau](https://cointelegraph.com/news/cats-cause-chaos-on-ethereum-again-as-mila-kunis-project-sells-out-in-35-minutes) "
      ],
      "text/plain": [
       "<IPython.core.display.Markdown object>"
      ]
     },
     "execution_count": 7,
     "metadata": {},
     "output_type": "execute_result"
    }
   ],
   "source": [
    "#hide_input\n",
    "#md('##### {}'.format(titleBTC)) \n",
    "md(\"- {}{} {}{} [| Skaityti daugiau]({}) \".format(eth['title'],'. ', eth['body'], ' ...', eth['url']))"
   ]
  },
  {
   "cell_type": "code",
   "execution_count": 8,
   "id": "sublime-lounge",
   "metadata": {
    "execution": {
     "iopub.execute_input": "2021-07-28T02:03:56.721058Z",
     "iopub.status.busy": "2021-07-28T02:03:56.720617Z",
     "iopub.status.idle": "2021-07-28T02:03:56.723621Z",
     "shell.execute_reply": "2021-07-28T02:03:56.723266Z"
    },
    "papermill": {
     "duration": 0.016471,
     "end_time": "2021-07-28T02:03:56.723716",
     "exception": false,
     "start_time": "2021-07-28T02:03:56.707245",
     "status": "completed"
    },
    "tags": []
   },
   "outputs": [
    {
     "data": {
      "text/markdown": [
       "- Cardano ($ADA) Could Help Form ‘Big Three’ of Mainstream Cryptos: Morningstar Analyst.  Amy Arnott, a portfolio strategist at Morningstar that focuses on cryptocurrencies, has revealed she believes Cardano (ADA) could become one of the largest three cryptocurrencies by market capitalization and go mainstream, along with Bitcoin and Ethereum. Speaking to Business Insider, Arnott backed the cryptocurrency created by Ethereum co-founder Charles Hoskinson, saying it is a promising […] ... [| Skaityti daugiau](https://www.cryptoglobe.com/latest/2021/07/cardano-ada-could-help-form-big-three-of-mainstream-cryptos-morningstar-analyst/) "
      ],
      "text/plain": [
       "<IPython.core.display.Markdown object>"
      ]
     },
     "execution_count": 8,
     "metadata": {},
     "output_type": "execute_result"
    }
   ],
   "source": [
    "#hide_input\n",
    "#md('##### {}'.format(titleBTC)) \n",
    "md(\"- {}{} {}{} [| Skaityti daugiau]({}) \".format(ada['title'],'. ', ada['body'], ' ...', ada['url']))"
   ]
  },
  {
   "cell_type": "code",
   "execution_count": 9,
   "id": "specified-ordering",
   "metadata": {
    "execution": {
     "iopub.execute_input": "2021-07-28T02:03:56.747485Z",
     "iopub.status.busy": "2021-07-28T02:03:56.747039Z",
     "iopub.status.idle": "2021-07-28T02:03:56.749814Z",
     "shell.execute_reply": "2021-07-28T02:03:56.750168Z"
    },
    "papermill": {
     "duration": 0.016953,
     "end_time": "2021-07-28T02:03:56.750275",
     "exception": false,
     "start_time": "2021-07-28T02:03:56.733322",
     "status": "completed"
    },
    "tags": []
   },
   "outputs": [
    {
     "data": {
      "text/markdown": [
       "- Binance CEO’s Wants To Work With Regulators To Get Licensed Everywhere.  Binance&#8217;s CEO and founder, Changpeng Zhao, has stated that the major cryptocurrency exchange will collaborate with local regulators as it establishes Binance regional headquarters. Changpeng “CZ” Zhao Wants To Work With Regulators The CEO of cryptocurrency exchange Binance has stated that he is willing to step down as the company seeks to become a regulated [&#8230;] ... [| Skaityti daugiau](https://bitcoinist.com/binance-ceos-wants-to-work-with-regulators-to-get-licensed-everywhere/?utm_source=rss&utm_medium=rss&utm_campaign=binance-ceos-wants-to-work-with-regulators-to-get-licensed-everywhere) "
      ],
      "text/plain": [
       "<IPython.core.display.Markdown object>"
      ]
     },
     "execution_count": 9,
     "metadata": {},
     "output_type": "execute_result"
    }
   ],
   "source": [
    "#hide_input\n",
    "#md('##### {}'.format(titleBTC)) \n",
    "md(\"- {}{} {}{} [| Skaityti daugiau]({}) \".format(exchange['title'],'. ', exchange['body'], ' ...', exchange['url']))"
   ]
  },
  {
   "cell_type": "code",
   "execution_count": null,
   "id": "tender-livestock",
   "metadata": {
    "papermill": {
     "duration": 0.009877,
     "end_time": "2021-07-28T02:03:56.770050",
     "exception": false,
     "start_time": "2021-07-28T02:03:56.760173",
     "status": "completed"
    },
    "tags": []
   },
   "outputs": [],
   "source": []
  },
  {
   "cell_type": "code",
   "execution_count": null,
   "id": "appreciated-diamond",
   "metadata": {
    "papermill": {
     "duration": 0.009778,
     "end_time": "2021-07-28T02:03:56.789708",
     "exception": false,
     "start_time": "2021-07-28T02:03:56.779930",
     "status": "completed"
    },
    "tags": []
   },
   "outputs": [],
   "source": []
  },
  {
   "cell_type": "code",
   "execution_count": null,
   "id": "romance-sweden",
   "metadata": {
    "papermill": {
     "duration": 0.009765,
     "end_time": "2021-07-28T02:03:56.809484",
     "exception": false,
     "start_time": "2021-07-28T02:03:56.799719",
     "status": "completed"
    },
    "tags": []
   },
   "outputs": [],
   "source": []
  },
  {
   "cell_type": "code",
   "execution_count": null,
   "id": "dietary-statistics",
   "metadata": {
    "papermill": {
     "duration": 0.009798,
     "end_time": "2021-07-28T02:03:56.829108",
     "exception": false,
     "start_time": "2021-07-28T02:03:56.819310",
     "status": "completed"
    },
    "tags": []
   },
   "outputs": [],
   "source": []
  }
 ],
 "metadata": {
  "kernelspec": {
   "display_name": "Python 3",
   "language": "python",
   "name": "python3"
  },
  "language_info": {
   "codemirror_mode": {
    "name": "ipython",
    "version": 3
   },
   "file_extension": ".py",
   "mimetype": "text/x-python",
   "name": "python",
   "nbconvert_exporter": "python",
   "pygments_lexer": "ipython3",
   "version": "3.6.14"
  },
  "papermill": {
   "default_parameters": {},
   "duration": 12.925389,
   "end_time": "2021-07-28T02:03:57.345889",
   "environment_variables": {},
   "exception": null,
   "input_path": "Market-News.ipynb",
   "output_path": "Market-News.ipynb",
   "parameters": {},
   "start_time": "2021-07-28T02:03:44.420500",
   "version": "2.2.2"
  }
 },
 "nbformat": 4,
 "nbformat_minor": 5
}