{
 "cells": [
  {
   "cell_type": "markdown",
   "id": "short-greensboro",
   "metadata": {
    "papermill": {
     "duration": 0.017867,
     "end_time": "2022-02-10T02:00:27.710269",
     "exception": false,
     "start_time": "2022-02-10T02:00:27.692402",
     "status": "completed"
    },
    "tags": []
   },
   "source": [
    "# Kriptovaliutų naujienos"
   ]
  },
  {
   "cell_type": "code",
   "execution_count": 1,
   "id": "functioning-knowing",
   "metadata": {
    "execution": {
     "iopub.execute_input": "2022-02-10T02:00:27.742405Z",
     "iopub.status.busy": "2022-02-10T02:00:27.741780Z",
     "iopub.status.idle": "2022-02-10T02:00:29.179777Z",
     "shell.execute_reply": "2022-02-10T02:00:29.179226Z"
    },
    "papermill": {
     "duration": 1.458412,
     "end_time": "2022-02-10T02:00:29.179932",
     "exception": false,
     "start_time": "2022-02-10T02:00:27.721520",
     "status": "completed"
    },
    "tags": []
   },
   "outputs": [],
   "source": [
    "#hide_input\n",
    "import warnings\n",
    "warnings.filterwarnings('ignore')\n",
    "from scripts.read_data import read_api\n",
    "from scripts.read_data import read_news\n",
    "from scripts.read_data import read_covid\n",
    "import matplotlib.pyplot as plt \n",
    "from IPython.display import Markdown as md"
   ]
  },
  {
   "cell_type": "code",
   "execution_count": 2,
   "id": "shared-acceptance",
   "metadata": {
    "execution": {
     "iopub.execute_input": "2022-02-10T02:00:29.209122Z",
     "iopub.status.busy": "2022-02-10T02:00:29.208462Z",
     "iopub.status.idle": "2022-02-10T02:00:36.250540Z",
     "shell.execute_reply": "2022-02-10T02:00:36.250005Z"
    },
    "papermill": {
     "duration": 7.060358,
     "end_time": "2022-02-10T02:00:36.250666",
     "exception": false,
     "start_time": "2022-02-10T02:00:29.190308",
     "status": "completed"
    },
    "tags": []
   },
   "outputs": [],
   "source": [
    "#hide_input\n",
    "blockchain = read_news('blockchain') \n",
    "btc = read_news('btc') \n",
    "xrp = read_news('xrp') \n",
    "trx = read_news('trx') \n",
    "eth = read_news('eth')  \n",
    "ada = read_news('ada')\n",
    "exchange = read_news('exchange') "
   ]
  },
  {
   "cell_type": "code",
   "execution_count": 3,
   "id": "synthetic-notion",
   "metadata": {
    "execution": {
     "iopub.execute_input": "2022-02-10T02:00:36.279288Z",
     "iopub.status.busy": "2022-02-10T02:00:36.278648Z",
     "iopub.status.idle": "2022-02-10T02:00:36.281051Z",
     "shell.execute_reply": "2022-02-10T02:00:36.281598Z"
    },
    "papermill": {
     "duration": 0.020275,
     "end_time": "2022-02-10T02:00:36.281744",
     "exception": false,
     "start_time": "2022-02-10T02:00:36.261469",
     "status": "completed"
    },
    "tags": []
   },
   "outputs": [
    {
     "data": {
      "text/markdown": [
       "- Shiba Inu Builds Real Estate In The Metaverse, Pushes LEASH, SHIB To Rise 50%.  The innovators of the popular meme coin Shiba Inu announced that the protocol will soon offer plots of virtual land in a soon-to-launch metaverse, causing the value of ecosystem tokens such as LEASH and SHIB to surge by nearly 50%. Metaverses are a broad concept that refers to a virtual domain in which individuals can interact in the same way they do in the real world, only digitally. The concept has gained traction in recent years, with metaverse tokens such as Decentraland&#8217;s MANA and Axie Infinity&#8217;s AXS now valued in the billions of dollars. &#8220;The Metaverse will be one of the most exciting areas of cryptocurrency for people to enjoy. Utilizing it as another fantastic resource for providing incentives, content, and monthly royalties to the crypto community,&#8221; the developers of the Shiba Inu disclosed in a blog post. What Can We Expect From Shiba Lands? Dubbed as the &#8220;Shiberse&#8221;, the metaverse property development will serve as the Shiba Inu ecosystem&#8217;s arm in the virtual domain. Shiba Lands and its unique auction system will be a major component of the Shibverse. The Shiberse competes with other metaverse ecosystems such as Decentraland, Sandbox, Gala Games, and Axie Infinity. Despite being new to the metaverse, Shiba Inu has already piqued investors&#8217; interest. Retail investors have already flocked to SHIB because of the coin&#8217;s sporadic solid growth over the previous year. Th... ... [| Skaityti daugiau](https://www.newsbtc.com/crypto/shiba-inu-real-estate-metaverse-leash-shib/) "
      ],
      "text/plain": [
       "<IPython.core.display.Markdown object>"
      ]
     },
     "execution_count": 3,
     "metadata": {},
     "output_type": "execute_result"
    }
   ],
   "source": [
    "#hide_input\n",
    "#md('##### {}'.format(titleBTC)) \n",
    "md(\"- {}{} {}{} [| Skaityti daugiau]({}) \".format(blockchain['title'],'. ', blockchain['body'], ' ...', blockchain['url']))"
   ]
  },
  {
   "cell_type": "code",
   "execution_count": 4,
   "id": "aging-caution",
   "metadata": {
    "execution": {
     "iopub.execute_input": "2022-02-10T02:00:36.307809Z",
     "iopub.status.busy": "2022-02-10T02:00:36.306523Z",
     "iopub.status.idle": "2022-02-10T02:00:36.311859Z",
     "shell.execute_reply": "2022-02-10T02:00:36.311370Z"
    },
    "papermill": {
     "duration": 0.01983,
     "end_time": "2022-02-10T02:00:36.311985",
     "exception": false,
     "start_time": "2022-02-10T02:00:36.292155",
     "status": "completed"
    },
    "tags": []
   },
   "outputs": [
    {
     "data": {
      "text/markdown": [
       "- Bitcoin Market Momentum Flips Bullish.  Bitcoin market data is indicating upside over the next month, with the potential bitcoin price low already in. ... [| Skaityti daugiau](https://bitcoinmagazine.com/markets/bitcoin-market-momentum-flips-bullish) "
      ],
      "text/plain": [
       "<IPython.core.display.Markdown object>"
      ]
     },
     "execution_count": 4,
     "metadata": {},
     "output_type": "execute_result"
    }
   ],
   "source": [
    "#hide_input\n",
    "#md('##### {}'.format(titleBTC)) \n",
    "md(\"- {}{} {}{} [| Skaityti daugiau]({}) \".format(btc['title'],'. ', btc['body'], ' ...', btc['url']))"
   ]
  },
  {
   "cell_type": "code",
   "execution_count": 5,
   "id": "organic-actress",
   "metadata": {
    "execution": {
     "iopub.execute_input": "2022-02-10T02:00:36.340590Z",
     "iopub.status.busy": "2022-02-10T02:00:36.339618Z",
     "iopub.status.idle": "2022-02-10T02:00:36.344686Z",
     "shell.execute_reply": "2022-02-10T02:00:36.344211Z"
    },
    "papermill": {
     "duration": 0.022277,
     "end_time": "2022-02-10T02:00:36.344808",
     "exception": false,
     "start_time": "2022-02-10T02:00:36.322531",
     "status": "completed"
    },
    "tags": []
   },
   "outputs": [
    {
     "data": {
      "text/markdown": [
       "- XRP Rallies 50% in Just Five Days, Overtaking Cardano (ADA) and Solana (SOL) in Market Capitalization.  XRP took off on a massive 50% price rally over the past five days, moving up a couple of spots in the market cap rankings as a result. The crypto asset was trading around $0.60 on February 3rd and surged all the way past $0.90 at one point on Tuesday. The price increase ballooned XRP&#8217;s [&#8230;]The post XRP Rallies 50% in Just Five Days, Overtaking Cardano (ADA) and Solana (SOL) in Market Capitalization appeared first on The Daily Hodl. ... [| Skaityti daugiau](https://dailyhodl.com/2022/02/09/xrp-rallies-50-in-just-five-days-overtaking-cardano-ada-and-solana-sol-in-market-capitalization/) "
      ],
      "text/plain": [
       "<IPython.core.display.Markdown object>"
      ]
     },
     "execution_count": 5,
     "metadata": {},
     "output_type": "execute_result"
    }
   ],
   "source": [
    "#hide_input\n",
    "#md('##### {}'.format(titleBTC)) \n",
    "md(\"- {}{} {}{} [| Skaityti daugiau]({}) \".format(xrp['title'],'. ', xrp['body'], ' ...', xrp['url']))"
   ]
  },
  {
   "cell_type": "code",
   "execution_count": 6,
   "id": "prompt-farmer",
   "metadata": {
    "execution": {
     "iopub.execute_input": "2022-02-10T02:00:36.372965Z",
     "iopub.status.busy": "2022-02-10T02:00:36.371813Z",
     "iopub.status.idle": "2022-02-10T02:00:36.376247Z",
     "shell.execute_reply": "2022-02-10T02:00:36.375771Z"
    },
    "papermill": {
     "duration": 0.020457,
     "end_time": "2022-02-10T02:00:36.376369",
     "exception": false,
     "start_time": "2022-02-10T02:00:36.355912",
     "status": "completed"
    },
    "tags": []
   },
   "outputs": [
    {
     "data": {
      "text/markdown": [
       "- Tron (TRX) Price Analysis: Dips Turn Attractive Near $0.062.  Tron price started a decent increase above the $0.0600 level against the US Dollar. TRX price is now trading above $0.0620 and the 55 simple moving average (4-hours). There is a key bullish trend line forming with support near $0.0630 on the 4-hours chart (data feed via Bitfinex). The pair could continue to move up...The post Tron (TRX) Price Analysis: Dips Turn Attractive Near $0.062 appeared first on Live Bitcoin News. ... [| Skaityti daugiau](https://www.livebitcoinnews.com/tron-trx-price-analysis-dips-turn-attractive-near-0-062/) "
      ],
      "text/plain": [
       "<IPython.core.display.Markdown object>"
      ]
     },
     "execution_count": 6,
     "metadata": {},
     "output_type": "execute_result"
    }
   ],
   "source": [
    "#hide_input\n",
    "#md('##### {}'.format(titleBTC)) \n",
    "md(\"- {}{} {}{} [| Skaityti daugiau]({}) \".format(trx['title'],'. ', trx['body'], ' ...', trx['url']))"
   ]
  },
  {
   "cell_type": "code",
   "execution_count": 7,
   "id": "illegal-greece",
   "metadata": {
    "execution": {
     "iopub.execute_input": "2022-02-10T02:00:36.408144Z",
     "iopub.status.busy": "2022-02-10T02:00:36.407119Z",
     "iopub.status.idle": "2022-02-10T02:00:36.410984Z",
     "shell.execute_reply": "2022-02-10T02:00:36.411537Z"
    },
    "papermill": {
     "duration": 0.023255,
     "end_time": "2022-02-10T02:00:36.411678",
     "exception": false,
     "start_time": "2022-02-10T02:00:36.388423",
     "status": "completed"
    },
    "tags": []
   },
   "outputs": [
    {
     "data": {
      "text/markdown": [
       "- Crypto Winter Is Thawing With Bitcoin And Ethereum Rebound Signal.  It&#8217;s been a rough few weeks for cryptocurrencies, but things are finally looking up! Cryptocurrencies that have fallen off their highs over the past three weeks appear to be on an upward trajectory again. Crypto winter is thawing as crypto markets are showing some signs of life. For example, Bitcoin, which fell 52% from its November highs to a low of around $33,000, has gained 15% in the past seven days, and Ethereum, which dropped 55% from its all-time high, has rebounded 13%. Related Reading &#124; Bitcoin and Ethereum rebound signals ‘crypto winter’ thaw January was a tough month for crypto investors. Still, Bank of America&#8217;s global strategist Alkesh Shah says he saw increased interest from people who want to invest or trade cryptocurrencies. He expects prices will rise throughout 2022 and into 2023 as more regulatory clarity emerges about digital assets like Bitcoin. When it comes to risky assets, like equities and real estate Shah says that their prices can fluctuate wildly. But with crypto, there is one additional factor: the Federal Reserve’s announcement about possible rate rises in March could affect its value too. According to Shah statement; The market as a whole, and risk assets broadly, really weren&#8217;t expecting how many rate hikes are now being talked about. Experts Predictions On Rate Hikes In 2022 The economy grows with each passing year, and inflation trends remain stable. This has led some ex... ... [| Skaityti daugiau](https://www.newsbtc.com/news/crypto-winter-is-thawing-with-bitcoin-and-ethereum-rebound-signal/) "
      ],
      "text/plain": [
       "<IPython.core.display.Markdown object>"
      ]
     },
     "execution_count": 7,
     "metadata": {},
     "output_type": "execute_result"
    }
   ],
   "source": [
    "#hide_input\n",
    "#md('##### {}'.format(titleBTC)) \n",
    "md(\"- {}{} {}{} [| Skaityti daugiau]({}) \".format(eth['title'],'. ', eth['body'], ' ...', eth['url']))"
   ]
  },
  {
   "cell_type": "code",
   "execution_count": 8,
   "id": "sublime-lounge",
   "metadata": {
    "execution": {
     "iopub.execute_input": "2022-02-10T02:00:36.441615Z",
     "iopub.status.busy": "2022-02-10T02:00:36.440946Z",
     "iopub.status.idle": "2022-02-10T02:00:36.444182Z",
     "shell.execute_reply": "2022-02-10T02:00:36.443675Z"
    },
    "papermill": {
     "duration": 0.020656,
     "end_time": "2022-02-10T02:00:36.444305",
     "exception": false,
     "start_time": "2022-02-10T02:00:36.423649",
     "status": "completed"
    },
    "tags": []
   },
   "outputs": [
    {
     "data": {
      "text/markdown": [
       "- XRP Rallies 50% in Just Five Days, Overtaking Cardano (ADA) and Solana (SOL) in Market Capitalization.  XRP took off on a massive 50% price rally over the past five days, moving up a couple of spots in the market cap rankings as a result. The crypto asset was trading around $0.60 on February 3rd and surged all the way past $0.90 at one point on Tuesday. The price increase ballooned XRP&#8217;s [&#8230;]The post XRP Rallies 50% in Just Five Days, Overtaking Cardano (ADA) and Solana (SOL) in Market Capitalization appeared first on The Daily Hodl. ... [| Skaityti daugiau](https://dailyhodl.com/2022/02/09/xrp-rallies-50-in-just-five-days-overtaking-cardano-ada-and-solana-sol-in-market-capitalization/) "
      ],
      "text/plain": [
       "<IPython.core.display.Markdown object>"
      ]
     },
     "execution_count": 8,
     "metadata": {},
     "output_type": "execute_result"
    }
   ],
   "source": [
    "#hide_input\n",
    "#md('##### {}'.format(titleBTC)) \n",
    "md(\"- {}{} {}{} [| Skaityti daugiau]({}) \".format(ada['title'],'. ', ada['body'], ' ...', ada['url']))"
   ]
  },
  {
   "cell_type": "code",
   "execution_count": 9,
   "id": "specified-ordering",
   "metadata": {
    "execution": {
     "iopub.execute_input": "2022-02-10T02:00:36.475354Z",
     "iopub.status.busy": "2022-02-10T02:00:36.474760Z",
     "iopub.status.idle": "2022-02-10T02:00:36.477883Z",
     "shell.execute_reply": "2022-02-10T02:00:36.477367Z"
    },
    "papermill": {
     "duration": 0.021352,
     "end_time": "2022-02-10T02:00:36.478004",
     "exception": false,
     "start_time": "2022-02-10T02:00:36.456652",
     "status": "completed"
    },
    "tags": []
   },
   "outputs": [
    {
     "data": {
      "text/markdown": [
       "- CryptoCom Becomes The Official Partner Of The Formula 1 Miami Grand Prix.  The nine-year deal will have Crypto.com's logo on the track, title, podium and winners' trophies. Also a special Crypto.com Fan Zone will be built to please the crowd. ... [| Skaityti daugiau](https://cryptopotato.com/cryptocom-becomes-the-official-partner-of-the-formula-1-miami-grand-prix/) "
      ],
      "text/plain": [
       "<IPython.core.display.Markdown object>"
      ]
     },
     "execution_count": 9,
     "metadata": {},
     "output_type": "execute_result"
    }
   ],
   "source": [
    "#hide_input\n",
    "#md('##### {}'.format(titleBTC)) \n",
    "md(\"- {}{} {}{} [| Skaityti daugiau]({}) \".format(exchange['title'],'. ', exchange['body'], ' ...', exchange['url']))"
   ]
  },
  {
   "cell_type": "code",
   "execution_count": null,
   "id": "tender-livestock",
   "metadata": {
    "papermill": {
     "duration": 0.012739,
     "end_time": "2022-02-10T02:00:36.503628",
     "exception": false,
     "start_time": "2022-02-10T02:00:36.490889",
     "status": "completed"
    },
    "tags": []
   },
   "outputs": [],
   "source": []
  },
  {
   "cell_type": "code",
   "execution_count": null,
   "id": "appreciated-diamond",
   "metadata": {
    "papermill": {
     "duration": 0.01235,
     "end_time": "2022-02-10T02:00:36.528728",
     "exception": false,
     "start_time": "2022-02-10T02:00:36.516378",
     "status": "completed"
    },
    "tags": []
   },
   "outputs": [],
   "source": []
  },
  {
   "cell_type": "code",
   "execution_count": null,
   "id": "romance-sweden",
   "metadata": {
    "papermill": {
     "duration": 0.013544,
     "end_time": "2022-02-10T02:00:36.554956",
     "exception": false,
     "start_time": "2022-02-10T02:00:36.541412",
     "status": "completed"
    },
    "tags": []
   },
   "outputs": [],
   "source": []
  },
  {
   "cell_type": "code",
   "execution_count": null,
   "id": "dietary-statistics",
   "metadata": {
    "papermill": {
     "duration": 0.012686,
     "end_time": "2022-02-10T02:00:36.580344",
     "exception": false,
     "start_time": "2022-02-10T02:00:36.567658",
     "status": "completed"
    },
    "tags": []
   },
   "outputs": [],
   "source": []
  }
 ],
 "metadata": {
  "kernelspec": {
   "display_name": "Python 3",
   "language": "python",
   "name": "python3"
  },
  "language_info": {
   "codemirror_mode": {
    "name": "ipython",
    "version": 3
   },
   "file_extension": ".py",
   "mimetype": "text/x-python",
   "name": "python",
   "nbconvert_exporter": "python",
   "pygments_lexer": "ipython3",
   "version": "3.6.15"
  },
  "papermill": {
   "default_parameters": {},
   "duration": 10.7061,
   "end_time": "2022-02-10T02:00:37.114048",
   "environment_variables": {},
   "exception": null,
   "input_path": "Market-News.ipynb",
   "output_path": "Market-News.ipynb",
   "parameters": {},
   "start_time": "2022-02-10T02:00:26.407948",
   "version": "2.2.2"
  }
 },
 "nbformat": 4,
 "nbformat_minor": 5
}