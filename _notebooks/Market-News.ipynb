{
 "cells": [
  {
   "cell_type": "markdown",
   "id": "short-greensboro",
   "metadata": {
    "papermill": {
     "duration": 0.013597,
     "end_time": "2022-04-27T03:14:31.780208",
     "exception": false,
     "start_time": "2022-04-27T03:14:31.766611",
     "status": "completed"
    },
    "tags": []
   },
   "source": [
    "# Kriptovaliutų naujienos"
   ]
  },
  {
   "cell_type": "code",
   "execution_count": 1,
   "id": "functioning-knowing",
   "metadata": {
    "execution": {
     "iopub.execute_input": "2022-04-27T03:14:31.809006Z",
     "iopub.status.busy": "2022-04-27T03:14:31.808476Z",
     "iopub.status.idle": "2022-04-27T03:14:32.990221Z",
     "shell.execute_reply": "2022-04-27T03:14:32.990710Z"
    },
    "papermill": {
     "duration": 1.201174,
     "end_time": "2022-04-27T03:14:32.990895",
     "exception": false,
     "start_time": "2022-04-27T03:14:31.789721",
     "status": "completed"
    },
    "tags": []
   },
   "outputs": [],
   "source": [
    "#hide_input\n",
    "import warnings\n",
    "warnings.filterwarnings('ignore')\n",
    "from scripts.read_data import read_api\n",
    "from scripts.read_data import read_news\n",
    "from scripts.read_data import read_covid\n",
    "import matplotlib.pyplot as plt \n",
    "from IPython.display import Markdown as md"
   ]
  },
  {
   "cell_type": "code",
   "execution_count": 2,
   "id": "shared-acceptance",
   "metadata": {
    "execution": {
     "iopub.execute_input": "2022-04-27T03:14:33.016030Z",
     "iopub.status.busy": "2022-04-27T03:14:33.015512Z",
     "iopub.status.idle": "2022-04-27T03:14:43.041543Z",
     "shell.execute_reply": "2022-04-27T03:14:43.041006Z"
    },
    "papermill": {
     "duration": 10.040935,
     "end_time": "2022-04-27T03:14:43.041682",
     "exception": false,
     "start_time": "2022-04-27T03:14:33.000747",
     "status": "completed"
    },
    "tags": []
   },
   "outputs": [],
   "source": [
    "#hide_input\n",
    "blockchain = read_news('blockchain') \n",
    "btc = read_news('btc') \n",
    "xrp = read_news('xrp') \n",
    "trx = read_news('trx') \n",
    "eth = read_news('eth')  \n",
    "ada = read_news('ada')\n",
    "exchange = read_news('exchange') "
   ]
  },
  {
   "cell_type": "code",
   "execution_count": 3,
   "id": "synthetic-notion",
   "metadata": {
    "execution": {
     "iopub.execute_input": "2022-04-27T03:14:43.066004Z",
     "iopub.status.busy": "2022-04-27T03:14:43.065447Z",
     "iopub.status.idle": "2022-04-27T03:14:43.067764Z",
     "shell.execute_reply": "2022-04-27T03:14:43.068143Z"
    },
    "papermill": {
     "duration": 0.016965,
     "end_time": "2022-04-27T03:14:43.068261",
     "exception": false,
     "start_time": "2022-04-27T03:14:43.051296",
     "status": "completed"
    },
    "tags": []
   },
   "outputs": [
    {
     "data": {
      "text/markdown": [
       "- New Report: Blockchain Hackers Stole $1.3 Billion In Q1 2022.  Despite the drop in bitcoin prices at the beginning of the year, thieves did not take a break. Hackers and scammers made millions of dollars from attacks on numerous crypto projects and ecosystems. According to the Atlas VPN team&#8217;s new research, blockchain hackers stole approximately $1.3 billion in 78 hack events in the first quarter [&#8230;] ... [| Skaityti daugiau](https://bitcoinist.com/new-report-blockchain-hackers-stole-1-3-billion-in-q1-2022/) "
      ],
      "text/plain": [
       "<IPython.core.display.Markdown object>"
      ]
     },
     "execution_count": 3,
     "metadata": {},
     "output_type": "execute_result"
    }
   ],
   "source": [
    "#hide_input\n",
    "#md('##### {}'.format(titleBTC)) \n",
    "md(\"- {}{} {}{} [| Skaityti daugiau]({}) \".format(blockchain['title'],'. ', blockchain['body'], ' ...', blockchain['url']))"
   ]
  },
  {
   "cell_type": "code",
   "execution_count": 4,
   "id": "aging-caution",
   "metadata": {
    "execution": {
     "iopub.execute_input": "2022-04-27T03:14:43.091085Z",
     "iopub.status.busy": "2022-04-27T03:14:43.090536Z",
     "iopub.status.idle": "2022-04-27T03:14:43.093238Z",
     "shell.execute_reply": "2022-04-27T03:14:43.093717Z"
    },
    "papermill": {
     "duration": 0.016302,
     "end_time": "2022-04-27T03:14:43.093826",
     "exception": false,
     "start_time": "2022-04-27T03:14:43.077524",
     "status": "completed"
    },
    "tags": []
   },
   "outputs": [
    {
     "data": {
      "text/markdown": [
       "- TA: Bitcoin Resumes Downtrend, Why Upsides Remain Capped.  Bitcoin failed to gain pace above $40,700 and declined against the US Dollar. BTC traded to a new weekly low and might struggle to climb above $39,200. Bitcoin started a fresh decline after it failed to clear the key $40,700 resistance zone. The price is now back below $39,000 and the 100 hourly simple moving average. There was a break below a connecting bullish trend line with support near $39,500 on the hourly chart of the BTC/USD pair (data feed from Kraken). The pair could correct higher, but upsides might be capped near $38,800 or $39,200. Bitcoin Price Declines Sharply Bitcoin price attempted a clear move above the $40,500 level. However, BTC failed to clear the $40,700 and $40,750 resistance levels. A high was formed near $40,776 and the price reacted to the downside. There was a sharp decline below the $40,000 level and the 100 hourly simple moving average. Besides, there was a break below a connecting bullish trend line with support near $39,500 on the hourly chart of the BTC/USD pair. Bitcoin is now back below $39,000 and the 100 hourly simple moving average. It traded as low as $37,672 and is currently consolidating losses. It is testing the 23.6% Fib retracement level of the recent decline from the $40,776 swing high to $37,672 low. An immediate resistance on the upside is near the $38,800 level. The next key resistance could be near the $39,200 zone. The 50% Fib retracement level of the recent decline from the $40... ... [| Skaityti daugiau](https://www.newsbtc.com/analysis/btc/bitcoin-resumes-downtrend-39k/) "
      ],
      "text/plain": [
       "<IPython.core.display.Markdown object>"
      ]
     },
     "execution_count": 4,
     "metadata": {},
     "output_type": "execute_result"
    }
   ],
   "source": [
    "#hide_input\n",
    "#md('##### {}'.format(titleBTC)) \n",
    "md(\"- {}{} {}{} [| Skaityti daugiau]({}) \".format(btc['title'],'. ', btc['body'], ' ...', btc['url']))"
   ]
  },
  {
   "cell_type": "code",
   "execution_count": 5,
   "id": "organic-actress",
   "metadata": {
    "execution": {
     "iopub.execute_input": "2022-04-27T03:14:43.116848Z",
     "iopub.status.busy": "2022-04-27T03:14:43.116306Z",
     "iopub.status.idle": "2022-04-27T03:14:43.118838Z",
     "shell.execute_reply": "2022-04-27T03:14:43.119217Z"
    },
    "papermill": {
     "duration": 0.015996,
     "end_time": "2022-04-27T03:14:43.119329",
     "exception": false,
     "start_time": "2022-04-27T03:14:43.103333",
     "status": "completed"
    },
    "tags": []
   },
   "outputs": [
    {
     "data": {
      "text/markdown": [
       "- Ripple Vs SEC Lawsuit – Ahead of a Bout On Friday, Issue Heats up.  The post Ripple Vs SEC Lawsuit &#8211; Ahead of a Bout On Friday, Issue Heats up appeared first on Coinpedia - Fintech &amp; Cryptocurreny News Media| Crypto GuideThe struggle for SEC emails has continued in recent updates to the Ripple-SEC litigation, with another filing due this Friday. The SEC&#8217;s move to extend and redact the speech records&#8217; assertion of attorney-client privilege is due this Friday, April 29. SEC’s motion to renew the assertion of attorney-client privilege over &#38; redact the speech documents &#8230; ... [| Skaityti daugiau](https://coinpedia.org/ripple/ripple-vs-sec-lawsuit-ahead-of-a-bout-on-friday-issue-heats-up/) "
      ],
      "text/plain": [
       "<IPython.core.display.Markdown object>"
      ]
     },
     "execution_count": 5,
     "metadata": {},
     "output_type": "execute_result"
    }
   ],
   "source": [
    "#hide_input\n",
    "#md('##### {}'.format(titleBTC)) \n",
    "md(\"- {}{} {}{} [| Skaityti daugiau]({}) \".format(xrp['title'],'. ', xrp['body'], ' ...', xrp['url']))"
   ]
  },
  {
   "cell_type": "code",
   "execution_count": 6,
   "id": "prompt-farmer",
   "metadata": {
    "execution": {
     "iopub.execute_input": "2022-04-27T03:14:43.142813Z",
     "iopub.status.busy": "2022-04-27T03:14:43.141820Z",
     "iopub.status.idle": "2022-04-27T03:14:43.145154Z",
     "shell.execute_reply": "2022-04-27T03:14:43.145582Z"
    },
    "papermill": {
     "duration": 0.016397,
     "end_time": "2022-04-27T03:14:43.145689",
     "exception": false,
     "start_time": "2022-04-27T03:14:43.129292",
     "status": "completed"
    },
    "tags": []
   },
   "outputs": [
    {
     "data": {
      "text/markdown": [
       "- Tron’s [TRX] latest rejection might have the following implications.  Disclaimer: The findings of the following analysis are the sole opinions of the writer and should not be considered investment advice Earlier in April, TRON broke out past a critical level of resistance on the price charts. News of the release of its native stablecoin, USDD, saw the coin surge by nearly 20% after this resistance [&#8230;] ... [| Skaityti daugiau](https://ambcrypto.com/trons-trx-latest-rejection-might-have-the-following-implications/) "
      ],
      "text/plain": [
       "<IPython.core.display.Markdown object>"
      ]
     },
     "execution_count": 6,
     "metadata": {},
     "output_type": "execute_result"
    }
   ],
   "source": [
    "#hide_input\n",
    "#md('##### {}'.format(titleBTC)) \n",
    "md(\"- {}{} {}{} [| Skaityti daugiau]({}) \".format(trx['title'],'. ', trx['body'], ' ...', trx['url']))"
   ]
  },
  {
   "cell_type": "code",
   "execution_count": 7,
   "id": "illegal-greece",
   "metadata": {
    "execution": {
     "iopub.execute_input": "2022-04-27T03:14:43.171757Z",
     "iopub.status.busy": "2022-04-27T03:14:43.171259Z",
     "iopub.status.idle": "2022-04-27T03:14:43.174489Z",
     "shell.execute_reply": "2022-04-27T03:14:43.174082Z"
    },
    "papermill": {
     "duration": 0.018594,
     "end_time": "2022-04-27T03:14:43.174588",
     "exception": false,
     "start_time": "2022-04-27T03:14:43.155994",
     "status": "completed"
    },
    "tags": []
   },
   "outputs": [
    {
     "data": {
      "text/markdown": [
       "- Will The Ethereum Merge Skyrocket ETH?.  The Ethereum Merge is the most critical aspect of the ETH 2.0 upgrade, since it will convert from a proof-of-work to a proof-of-stake system. The move from proof-of-work to proof-of-stake consensus is the focus of the upgrade. The improvement, as previously reported, has been postponed until the end of 2022, with no specific deadline in sight. The world&#8217;s second-largest cryptocurrency was meant to be weeks away from the &#8220;merge&#8221; a June upgrade of its blockchain Ethereum that would make it faster, cheaper, and less power demanding, promising a meaner and cleaner crypto future. Ethereum Merge Will Help ETH Messari&#8217;s senior research analyst Tom Dunleavy believes in a report titled &#8220;The Decoupling Thesis&#8221; that the Ethereum merger will likely be a major turning point in investors&#8217; economic outlook. He points out that in the past, the crypto market leaders, Bitcoin and Ethereum, had a high positive association with the broader US stock market. For longer durations, the correlation between the two cryptos and the Nasdaq and S&#38;P 500 index was 40-50 percent, while for shorter periods, it was about 90 percent. Related Reading &#124; The Top 5 Most Valuable NFT Collections And A Tool To Track Them Down Gold and US government bonds, on the other hand, have historically had a negative correlation with stocks. However, this negative link is weakening at the moment. During the 2020 market slump, b... ... [| Skaityti daugiau](https://www.newsbtc.com/news/ethereum/will-the-ethereum-merge-skyrocket-eth/) "
      ],
      "text/plain": [
       "<IPython.core.display.Markdown object>"
      ]
     },
     "execution_count": 7,
     "metadata": {},
     "output_type": "execute_result"
    }
   ],
   "source": [
    "#hide_input\n",
    "#md('##### {}'.format(titleBTC)) \n",
    "md(\"- {}{} {}{} [| Skaityti daugiau]({}) \".format(eth['title'],'. ', eth['body'], ' ...', eth['url']))"
   ]
  },
  {
   "cell_type": "code",
   "execution_count": 8,
   "id": "sublime-lounge",
   "metadata": {
    "execution": {
     "iopub.execute_input": "2022-04-27T03:14:43.199384Z",
     "iopub.status.busy": "2022-04-27T03:14:43.198883Z",
     "iopub.status.idle": "2022-04-27T03:14:43.201874Z",
     "shell.execute_reply": "2022-04-27T03:14:43.201425Z"
    },
    "papermill": {
     "duration": 0.016969,
     "end_time": "2022-04-27T03:14:43.201973",
     "exception": false,
     "start_time": "2022-04-27T03:14:43.185004",
     "status": "completed"
    },
    "tags": []
   },
   "outputs": [
    {
     "data": {
      "text/markdown": [
       "- Cardano ($ADA) Developer IOG Raises Network Block Size by 10% to ‘Increase Throughput and Dapp Performance’.  Cardano ($ADA) developer Input Output has proposed increasing the network’s block size by 10% from 80 KB to 88 KB per block as the network load has been holding above the 80% mark in a bid to “increase throughput and DApp performance.” According to a series of tweets published by Input Output the move has […] ... [| Skaityti daugiau](https://www.cryptoglobe.com/latest/2022/04/cardano-ada-developer-raises-network-block-size-by-10-increase-throughput-and-dapp-performance/) "
      ],
      "text/plain": [
       "<IPython.core.display.Markdown object>"
      ]
     },
     "execution_count": 8,
     "metadata": {},
     "output_type": "execute_result"
    }
   ],
   "source": [
    "#hide_input\n",
    "#md('##### {}'.format(titleBTC)) \n",
    "md(\"- {}{} {}{} [| Skaityti daugiau]({}) \".format(ada['title'],'. ', ada['body'], ' ...', ada['url']))"
   ]
  },
  {
   "cell_type": "code",
   "execution_count": 9,
   "id": "specified-ordering",
   "metadata": {
    "execution": {
     "iopub.execute_input": "2022-04-27T03:14:43.227937Z",
     "iopub.status.busy": "2022-04-27T03:14:43.227438Z",
     "iopub.status.idle": "2022-04-27T03:14:43.230588Z",
     "shell.execute_reply": "2022-04-27T03:14:43.230179Z"
    },
    "papermill": {
     "duration": 0.017954,
     "end_time": "2022-04-27T03:14:43.230688",
     "exception": false,
     "start_time": "2022-04-27T03:14:43.212734",
     "status": "completed"
    },
    "tags": []
   },
   "outputs": [
    {
     "data": {
      "text/markdown": [
       "- How to Sell Bitcoin for GBP in the UK?.  The cryptocurrency market can be volatile. The prices of digital assets can fluctuate by up to tens of percent in a day. This is why it is important to realize profits regularly. In today&#8217;s article, you will learn how to sell bitcoin for GBP using the Binance P2P platform. But first, we will explain what [&#8230;]The post How to Sell Bitcoin for GBP in the UK? appeared first on NullTX. ... [| Skaityti daugiau](https://nulltx.com/how-to-sell-bitcoin-for-gbp-in-the-uk/) "
      ],
      "text/plain": [
       "<IPython.core.display.Markdown object>"
      ]
     },
     "execution_count": 9,
     "metadata": {},
     "output_type": "execute_result"
    }
   ],
   "source": [
    "#hide_input\n",
    "#md('##### {}'.format(titleBTC)) \n",
    "md(\"- {}{} {}{} [| Skaityti daugiau]({}) \".format(exchange['title'],'. ', exchange['body'], ' ...', exchange['url']))"
   ]
  },
  {
   "cell_type": "code",
   "execution_count": null,
   "id": "tender-livestock",
   "metadata": {
    "papermill": {
     "duration": 0.011045,
     "end_time": "2022-04-27T03:14:43.252846",
     "exception": false,
     "start_time": "2022-04-27T03:14:43.241801",
     "status": "completed"
    },
    "tags": []
   },
   "outputs": [],
   "source": []
  },
  {
   "cell_type": "code",
   "execution_count": null,
   "id": "appreciated-diamond",
   "metadata": {
    "papermill": {
     "duration": 0.011067,
     "end_time": "2022-04-27T03:14:43.275181",
     "exception": false,
     "start_time": "2022-04-27T03:14:43.264114",
     "status": "completed"
    },
    "tags": []
   },
   "outputs": [],
   "source": []
  },
  {
   "cell_type": "code",
   "execution_count": null,
   "id": "romance-sweden",
   "metadata": {
    "papermill": {
     "duration": 0.011055,
     "end_time": "2022-04-27T03:14:43.298376",
     "exception": false,
     "start_time": "2022-04-27T03:14:43.287321",
     "status": "completed"
    },
    "tags": []
   },
   "outputs": [],
   "source": []
  },
  {
   "cell_type": "code",
   "execution_count": null,
   "id": "dietary-statistics",
   "metadata": {
    "papermill": {
     "duration": 0.011842,
     "end_time": "2022-04-27T03:14:43.321341",
     "exception": false,
     "start_time": "2022-04-27T03:14:43.309499",
     "status": "completed"
    },
    "tags": []
   },
   "outputs": [],
   "source": []
  }
 ],
 "metadata": {
  "kernelspec": {
   "display_name": "Python 3",
   "language": "python",
   "name": "python3"
  },
  "language_info": {
   "codemirror_mode": {
    "name": "ipython",
    "version": 3
   },
   "file_extension": ".py",
   "mimetype": "text/x-python",
   "name": "python",
   "nbconvert_exporter": "python",
   "pygments_lexer": "ipython3",
   "version": "3.6.15"
  },
  "papermill": {
   "default_parameters": {},
   "duration": 12.90031,
   "end_time": "2022-04-27T03:14:43.750357",
   "environment_variables": {},
   "exception": null,
   "input_path": "Market-News.ipynb",
   "output_path": "Market-News.ipynb",
   "parameters": {},
   "start_time": "2022-04-27T03:14:30.850047",
   "version": "2.2.2"
  }
 },
 "nbformat": 4,
 "nbformat_minor": 5
}