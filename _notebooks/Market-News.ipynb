{
 "cells": [
  {
   "cell_type": "markdown",
   "id": "short-greensboro",
   "metadata": {
    "papermill": {
     "duration": 0.015673,
     "end_time": "2021-11-20T01:58:12.457053",
     "exception": false,
     "start_time": "2021-11-20T01:58:12.441380",
     "status": "completed"
    },
    "tags": []
   },
   "source": [
    "# Kriptovaliutų naujienos"
   ]
  },
  {
   "cell_type": "code",
   "execution_count": 1,
   "id": "functioning-knowing",
   "metadata": {
    "execution": {
     "iopub.execute_input": "2021-11-20T01:58:12.493061Z",
     "iopub.status.busy": "2021-11-20T01:58:12.492348Z",
     "iopub.status.idle": "2021-11-20T01:58:14.021092Z",
     "shell.execute_reply": "2021-11-20T01:58:14.020516Z"
    },
    "papermill": {
     "duration": 1.551737,
     "end_time": "2021-11-20T01:58:14.021244",
     "exception": false,
     "start_time": "2021-11-20T01:58:12.469507",
     "status": "completed"
    },
    "tags": []
   },
   "outputs": [],
   "source": [
    "#hide_input\n",
    "import warnings\n",
    "warnings.filterwarnings('ignore')\n",
    "from scripts.read_data import read_api\n",
    "from scripts.read_data import read_news\n",
    "from scripts.read_data import read_covid\n",
    "import matplotlib.pyplot as plt \n",
    "from IPython.display import Markdown as md"
   ]
  },
  {
   "cell_type": "code",
   "execution_count": 2,
   "id": "shared-acceptance",
   "metadata": {
    "execution": {
     "iopub.execute_input": "2021-11-20T01:58:14.048581Z",
     "iopub.status.busy": "2021-11-20T01:58:14.047838Z",
     "iopub.status.idle": "2021-11-20T01:58:22.635596Z",
     "shell.execute_reply": "2021-11-20T01:58:22.635047Z"
    },
    "papermill": {
     "duration": 8.603941,
     "end_time": "2021-11-20T01:58:22.635738",
     "exception": false,
     "start_time": "2021-11-20T01:58:14.031797",
     "status": "completed"
    },
    "tags": []
   },
   "outputs": [],
   "source": [
    "#hide_input\n",
    "blockchain = read_news('blockchain') \n",
    "btc = read_news('btc') \n",
    "xrp = read_news('xrp') \n",
    "trx = read_news('trx') \n",
    "eth = read_news('eth')  \n",
    "ada = read_news('ada')\n",
    "exchange = read_news('exchange') "
   ]
  },
  {
   "cell_type": "code",
   "execution_count": 3,
   "id": "synthetic-notion",
   "metadata": {
    "execution": {
     "iopub.execute_input": "2021-11-20T01:58:22.664832Z",
     "iopub.status.busy": "2021-11-20T01:58:22.664183Z",
     "iopub.status.idle": "2021-11-20T01:58:22.667436Z",
     "shell.execute_reply": "2021-11-20T01:58:22.666925Z"
    },
    "papermill": {
     "duration": 0.020627,
     "end_time": "2021-11-20T01:58:22.667550",
     "exception": false,
     "start_time": "2021-11-20T01:58:22.646923",
     "status": "completed"
    },
    "tags": []
   },
   "outputs": [
    {
     "data": {
      "text/markdown": [
       "- Connecting AI with a strong Play2Earn game on Blockchain.  How dotmoovs is making you compete against others in the real world by using your smartphone The blockchain and AI company has recently being showing how the world of sports might be on the verge of a revolution The emergence and rapid popularity increase of the play-to-earn applications that enables users to benefit from the [&#8230;]The post Connecting AI with a strong Play2Earn game on Blockchain appeared first on NullTX. ... [| Skaityti daugiau](https://nulltx.com/connecting-ai-with-a-strong-play2earn-game-on-blockchain/) "
      ],
      "text/plain": [
       "<IPython.core.display.Markdown object>"
      ]
     },
     "execution_count": 3,
     "metadata": {},
     "output_type": "execute_result"
    }
   ],
   "source": [
    "#hide_input\n",
    "#md('##### {}'.format(titleBTC)) \n",
    "md(\"- {}{} {}{} [| Skaityti daugiau]({}) \".format(blockchain['title'],'. ', blockchain['body'], ' ...', blockchain['url']))"
   ]
  },
  {
   "cell_type": "code",
   "execution_count": 4,
   "id": "aging-caution",
   "metadata": {
    "execution": {
     "iopub.execute_input": "2021-11-20T01:58:22.694682Z",
     "iopub.status.busy": "2021-11-20T01:58:22.694031Z",
     "iopub.status.idle": "2021-11-20T01:58:22.697500Z",
     "shell.execute_reply": "2021-11-20T01:58:22.696925Z"
    },
    "papermill": {
     "duration": 0.019642,
     "end_time": "2021-11-20T01:58:22.697630",
     "exception": false,
     "start_time": "2021-11-20T01:58:22.677988",
     "status": "completed"
    },
    "tags": []
   },
   "outputs": [
    {
     "data": {
      "text/markdown": [
       "- 3 reasons why Bitcoin’s drop to $56.5K may have been the local bottom.  The absence of cascading liquidations, 25% delta skew and the margin lending ratio all suggest that Bitcoin price bottomed at $56,500.  ... [| Skaityti daugiau](https://cointelegraph.com/news/3-reasons-why-bitcoin-s-drop-to-56-5k-may-have-been-the-local-bottom) "
      ],
      "text/plain": [
       "<IPython.core.display.Markdown object>"
      ]
     },
     "execution_count": 4,
     "metadata": {},
     "output_type": "execute_result"
    }
   ],
   "source": [
    "#hide_input\n",
    "#md('##### {}'.format(titleBTC)) \n",
    "md(\"- {}{} {}{} [| Skaityti daugiau]({}) \".format(btc['title'],'. ', btc['body'], ' ...', btc['url']))"
   ]
  },
  {
   "cell_type": "code",
   "execution_count": 5,
   "id": "organic-actress",
   "metadata": {
    "execution": {
     "iopub.execute_input": "2021-11-20T01:58:22.724867Z",
     "iopub.status.busy": "2021-11-20T01:58:22.723645Z",
     "iopub.status.idle": "2021-11-20T01:58:22.727864Z",
     "shell.execute_reply": "2021-11-20T01:58:22.728409Z"
    },
    "papermill": {
     "duration": 0.019587,
     "end_time": "2021-11-20T01:58:22.728537",
     "exception": false,
     "start_time": "2021-11-20T01:58:22.708950",
     "status": "completed"
    },
    "tags": []
   },
   "outputs": [
    {
     "data": {
      "text/markdown": [
       "- Price analysis 11/19: BTC, ETH, BNB, SOL, ADA, XRP, DOT, DOGE, SHIB, AVAX.  Bitcoin and most major altcoins are attempting a recovery, but higher levels are still likely to attract strong selling. ... [| Skaityti daugiau](https://cointelegraph.com/news/price-analysis-11-19-btc-eth-bnb-sol-ada-xrp-dot-doge-shib-avax) "
      ],
      "text/plain": [
       "<IPython.core.display.Markdown object>"
      ]
     },
     "execution_count": 5,
     "metadata": {},
     "output_type": "execute_result"
    }
   ],
   "source": [
    "#hide_input\n",
    "#md('##### {}'.format(titleBTC)) \n",
    "md(\"- {}{} {}{} [| Skaityti daugiau]({}) \".format(xrp['title'],'. ', xrp['body'], ' ...', xrp['url']))"
   ]
  },
  {
   "cell_type": "code",
   "execution_count": 6,
   "id": "prompt-farmer",
   "metadata": {
    "execution": {
     "iopub.execute_input": "2021-11-20T01:58:22.756325Z",
     "iopub.status.busy": "2021-11-20T01:58:22.755688Z",
     "iopub.status.idle": "2021-11-20T01:58:22.758590Z",
     "shell.execute_reply": "2021-11-20T01:58:22.759175Z"
    },
    "papermill": {
     "duration": 0.019332,
     "end_time": "2021-11-20T01:58:22.759312",
     "exception": false,
     "start_time": "2021-11-20T01:58:22.739980",
     "status": "completed"
    },
    "tags": []
   },
   "outputs": [
    {
     "data": {
      "text/markdown": [
       "- Tron (TRX) Price Analysis: Bears In Action Below $0.11.  Tron price started a major decline from well above $0.1200 against the US Dollar. TRX price is now trading below $0.1100 and the 55 simple moving average (4-hours). There was a break below a key bullish trend line with support near $0.1100 on the 4-hours chart (data feed via Bitfinex). The pair could extend losses...The post Tron (TRX) Price Analysis: Bears In Action Below $0.11 appeared first on Live Bitcoin News. ... [| Skaityti daugiau](https://www.livebitcoinnews.com/tron-trx-price-analysis-bears-in-action-below-0-11/) "
      ],
      "text/plain": [
       "<IPython.core.display.Markdown object>"
      ]
     },
     "execution_count": 6,
     "metadata": {},
     "output_type": "execute_result"
    }
   ],
   "source": [
    "#hide_input\n",
    "#md('##### {}'.format(titleBTC)) \n",
    "md(\"- {}{} {}{} [| Skaityti daugiau]({}) \".format(trx['title'],'. ', trx['body'], ' ...', trx['url']))"
   ]
  },
  {
   "cell_type": "code",
   "execution_count": 7,
   "id": "illegal-greece",
   "metadata": {
    "execution": {
     "iopub.execute_input": "2021-11-20T01:58:22.792816Z",
     "iopub.status.busy": "2021-11-20T01:58:22.792126Z",
     "iopub.status.idle": "2021-11-20T01:58:22.795949Z",
     "shell.execute_reply": "2021-11-20T01:58:22.795293Z"
    },
    "papermill": {
     "duration": 0.023503,
     "end_time": "2021-11-20T01:58:22.796075",
     "exception": false,
     "start_time": "2021-11-20T01:58:22.772572",
     "status": "completed"
    },
    "tags": []
   },
   "outputs": [
    {
     "data": {
      "text/markdown": [
       "- DeFi Users Lost $10.5 Billion to Theft and Fraud in 2021, Mostly on Ethereum: Report.  Risk management firm Elliptic says DeFi users have lost $12 billion to hacks and scams over the past two years. ... [| Skaityti daugiau](https://decrypt.co/86503/defi-users-lost-billion-theft-fraud-2021-mostly-ethereum-report) "
      ],
      "text/plain": [
       "<IPython.core.display.Markdown object>"
      ]
     },
     "execution_count": 7,
     "metadata": {},
     "output_type": "execute_result"
    }
   ],
   "source": [
    "#hide_input\n",
    "#md('##### {}'.format(titleBTC)) \n",
    "md(\"- {}{} {}{} [| Skaityti daugiau]({}) \".format(eth['title'],'. ', eth['body'], ' ...', eth['url']))"
   ]
  },
  {
   "cell_type": "code",
   "execution_count": 8,
   "id": "sublime-lounge",
   "metadata": {
    "execution": {
     "iopub.execute_input": "2021-11-20T01:58:22.825224Z",
     "iopub.status.busy": "2021-11-20T01:58:22.824540Z",
     "iopub.status.idle": "2021-11-20T01:58:22.830405Z",
     "shell.execute_reply": "2021-11-20T01:58:22.830891Z"
    },
    "papermill": {
     "duration": 0.021653,
     "end_time": "2021-11-20T01:58:22.831042",
     "exception": false,
     "start_time": "2021-11-20T01:58:22.809389",
     "status": "completed"
    },
    "tags": []
   },
   "outputs": [
    {
     "data": {
      "text/markdown": [
       "- Price analysis 11/19: BTC, ETH, BNB, SOL, ADA, XRP, DOT, DOGE, SHIB, AVAX.  Bitcoin and most major altcoins are attempting a recovery, but higher levels are still likely to attract strong selling. ... [| Skaityti daugiau](https://cointelegraph.com/news/price-analysis-11-19-btc-eth-bnb-sol-ada-xrp-dot-doge-shib-avax) "
      ],
      "text/plain": [
       "<IPython.core.display.Markdown object>"
      ]
     },
     "execution_count": 8,
     "metadata": {},
     "output_type": "execute_result"
    }
   ],
   "source": [
    "#hide_input\n",
    "#md('##### {}'.format(titleBTC)) \n",
    "md(\"- {}{} {}{} [| Skaityti daugiau]({}) \".format(ada['title'],'. ', ada['body'], ' ...', ada['url']))"
   ]
  },
  {
   "cell_type": "code",
   "execution_count": 9,
   "id": "specified-ordering",
   "metadata": {
    "execution": {
     "iopub.execute_input": "2021-11-20T01:58:22.861816Z",
     "iopub.status.busy": "2021-11-20T01:58:22.860699Z",
     "iopub.status.idle": "2021-11-20T01:58:22.865128Z",
     "shell.execute_reply": "2021-11-20T01:58:22.865724Z"
    },
    "papermill": {
     "duration": 0.020855,
     "end_time": "2021-11-20T01:58:22.865852",
     "exception": false,
     "start_time": "2021-11-20T01:58:22.844997",
     "status": "completed"
    },
    "tags": []
   },
   "outputs": [
    {
     "data": {
      "text/markdown": [
       "- Floki Inu ($FLOKI) Community Creates Petition to Get Listed on Coinbase.  The community behind the meme-inspired cryptocurrency Floki Inu ($FLOKI) has created a petition asking Nasdaq-listed cryptocurrency exchange Coinbase to list it on its platform. The petition has now been signed by over 30,000 users. According to its page on Change.org, the petition is asking to “get the recognition it deserves and get listed on Coinbase.” […] ... [| Skaityti daugiau](https://www.cryptoglobe.com/latest/2021/11/floki-inu-floki-community-creates-petition-to-get-listed-on-coinbase/) "
      ],
      "text/plain": [
       "<IPython.core.display.Markdown object>"
      ]
     },
     "execution_count": 9,
     "metadata": {},
     "output_type": "execute_result"
    }
   ],
   "source": [
    "#hide_input\n",
    "#md('##### {}'.format(titleBTC)) \n",
    "md(\"- {}{} {}{} [| Skaityti daugiau]({}) \".format(exchange['title'],'. ', exchange['body'], ' ...', exchange['url']))"
   ]
  },
  {
   "cell_type": "code",
   "execution_count": null,
   "id": "tender-livestock",
   "metadata": {
    "papermill": {
     "duration": 0.013963,
     "end_time": "2021-11-20T01:58:22.893372",
     "exception": false,
     "start_time": "2021-11-20T01:58:22.879409",
     "status": "completed"
    },
    "tags": []
   },
   "outputs": [],
   "source": []
  },
  {
   "cell_type": "code",
   "execution_count": null,
   "id": "appreciated-diamond",
   "metadata": {
    "papermill": {
     "duration": 0.012943,
     "end_time": "2021-11-20T01:58:22.919963",
     "exception": false,
     "start_time": "2021-11-20T01:58:22.907020",
     "status": "completed"
    },
    "tags": []
   },
   "outputs": [],
   "source": []
  },
  {
   "cell_type": "code",
   "execution_count": null,
   "id": "romance-sweden",
   "metadata": {
    "papermill": {
     "duration": 0.012769,
     "end_time": "2021-11-20T01:58:22.945419",
     "exception": false,
     "start_time": "2021-11-20T01:58:22.932650",
     "status": "completed"
    },
    "tags": []
   },
   "outputs": [],
   "source": []
  },
  {
   "cell_type": "code",
   "execution_count": null,
   "id": "dietary-statistics",
   "metadata": {
    "papermill": {
     "duration": 0.01291,
     "end_time": "2021-11-20T01:58:22.971281",
     "exception": false,
     "start_time": "2021-11-20T01:58:22.958371",
     "status": "completed"
    },
    "tags": []
   },
   "outputs": [],
   "source": []
  }
 ],
 "metadata": {
  "kernelspec": {
   "display_name": "Python 3",
   "language": "python",
   "name": "python3"
  },
  "language_info": {
   "codemirror_mode": {
    "name": "ipython",
    "version": 3
   },
   "file_extension": ".py",
   "mimetype": "text/x-python",
   "name": "python",
   "nbconvert_exporter": "python",
   "pygments_lexer": "ipython3",
   "version": "3.6.15"
  },
  "papermill": {
   "default_parameters": {},
   "duration": 12.009458,
   "end_time": "2021-11-20T01:58:23.391650",
   "environment_variables": {},
   "exception": null,
   "input_path": "Market-News.ipynb",
   "output_path": "Market-News.ipynb",
   "parameters": {},
   "start_time": "2021-11-20T01:58:11.382192",
   "version": "2.2.2"
  }
 },
 "nbformat": 4,
 "nbformat_minor": 5
}