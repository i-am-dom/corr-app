{
 "cells": [
  {
   "cell_type": "markdown",
   "id": "short-greensboro",
   "metadata": {
    "papermill": {
     "duration": 0.019467,
     "end_time": "2022-09-04T03:39:02.698124",
     "exception": false,
     "start_time": "2022-09-04T03:39:02.678657",
     "status": "completed"
    },
    "tags": []
   },
   "source": [
    "# Kriptovaliutų naujienos"
   ]
  },
  {
   "cell_type": "code",
   "execution_count": 1,
   "id": "functioning-knowing",
   "metadata": {
    "execution": {
     "iopub.execute_input": "2022-09-04T03:39:02.734854Z",
     "iopub.status.busy": "2022-09-04T03:39:02.733841Z",
     "iopub.status.idle": "2022-09-04T03:39:04.217383Z",
     "shell.execute_reply": "2022-09-04T03:39:04.218442Z"
    },
    "papermill": {
     "duration": 1.507192,
     "end_time": "2022-09-04T03:39:04.218638",
     "exception": false,
     "start_time": "2022-09-04T03:39:02.711446",
     "status": "completed"
    },
    "tags": []
   },
   "outputs": [],
   "source": [
    "#hide_input\n",
    "import warnings\n",
    "warnings.filterwarnings('ignore')\n",
    "from scripts.read_data import read_api\n",
    "from scripts.read_data import read_news\n",
    "from scripts.read_data import read_covid\n",
    "import matplotlib.pyplot as plt \n",
    "from IPython.display import Markdown as md"
   ]
  },
  {
   "cell_type": "code",
   "execution_count": 2,
   "id": "shared-acceptance",
   "metadata": {
    "execution": {
     "iopub.execute_input": "2022-09-04T03:39:04.254916Z",
     "iopub.status.busy": "2022-09-04T03:39:04.254104Z",
     "iopub.status.idle": "2022-09-04T03:39:19.500830Z",
     "shell.execute_reply": "2022-09-04T03:39:19.499707Z"
    },
    "papermill": {
     "duration": 15.271008,
     "end_time": "2022-09-04T03:39:19.500985",
     "exception": false,
     "start_time": "2022-09-04T03:39:04.229977",
     "status": "completed"
    },
    "tags": []
   },
   "outputs": [],
   "source": [
    "#hide_input\n",
    "blockchain = read_news('blockchain') \n",
    "btc = read_news('btc') \n",
    "xrp = read_news('xrp') \n",
    "trx = read_news('trx') \n",
    "eth = read_news('eth')  \n",
    "ada = read_news('ada')\n",
    "exchange = read_news('exchange') "
   ]
  },
  {
   "cell_type": "code",
   "execution_count": 3,
   "id": "synthetic-notion",
   "metadata": {
    "execution": {
     "iopub.execute_input": "2022-09-04T03:39:19.532487Z",
     "iopub.status.busy": "2022-09-04T03:39:19.531175Z",
     "iopub.status.idle": "2022-09-04T03:39:19.535259Z",
     "shell.execute_reply": "2022-09-04T03:39:19.534700Z"
    },
    "papermill": {
     "duration": 0.023866,
     "end_time": "2022-09-04T03:39:19.535390",
     "exception": false,
     "start_time": "2022-09-04T03:39:19.511524",
     "status": "completed"
    },
    "tags": []
   },
   "outputs": [
    {
     "data": {
      "text/markdown": [
       "- How to Enable the Trust Wallet DApp Browser: A Step-by-Step Guide.  The Trust Wallet DApp Browser is a Web3 browser from Trust Wallet —a popular non-custodial wallet for storing cryptocurrency and Non-Fungible Tokens (NFTs). The browser allows users to interact with all decentralized applications (DApp) on various networks in a seamless fashion. In this article, we’ll teach you how to enable the Trust Wallet DApp Browser […] ... [| Skaityti daugiau](https://www.cryptoglobe.com/latest/2022/09/enable-trust-wallet-dapp-browser/) "
      ],
      "text/plain": [
       "<IPython.core.display.Markdown object>"
      ]
     },
     "execution_count": 3,
     "metadata": {},
     "output_type": "execute_result"
    }
   ],
   "source": [
    "#hide_input\n",
    "#md('##### {}'.format(titleBTC)) \n",
    "md(\"- {}{} {}{} [| Skaityti daugiau]({}) \".format(blockchain['title'],'. ', blockchain['body'], ' ...', blockchain['url']))"
   ]
  },
  {
   "cell_type": "code",
   "execution_count": 4,
   "id": "aging-caution",
   "metadata": {
    "execution": {
     "iopub.execute_input": "2022-09-04T03:39:19.562717Z",
     "iopub.status.busy": "2022-09-04T03:39:19.561967Z",
     "iopub.status.idle": "2022-09-04T03:39:19.565978Z",
     "shell.execute_reply": "2022-09-04T03:39:19.565486Z"
    },
    "papermill": {
     "duration": 0.019939,
     "end_time": "2022-09-04T03:39:19.566124",
     "exception": false,
     "start_time": "2022-09-04T03:39:19.546185",
     "status": "completed"
    },
    "tags": []
   },
   "outputs": [
    {
     "data": {
      "text/markdown": [
       "- Bitcoin, Ethereum, Litecoin, and Chainlink Daily Price Analyses – 3 September Roundup.  The performance of the global crypto market has continued to show a bearish trend. The recent data shows that Bitcoin, Ethereum, and others have remained in a losing mood. As the losses for various tokens continue, the market has emaciated. There has been no change in the market&#8217;s value since the Fed&#8217;s previous statement about &#8230;  Bitcoin, Ethereum, Litecoin, and Chainlink Daily Price Analyses – 3 September Roundup Read More &#187; ... [| Skaityti daugiau](https://www.cryptopolitan.com/bitcoin-ethereum-litecoin-and-chainlink-daily-price-analyses-3-september-roundup/) "
      ],
      "text/plain": [
       "<IPython.core.display.Markdown object>"
      ]
     },
     "execution_count": 4,
     "metadata": {},
     "output_type": "execute_result"
    }
   ],
   "source": [
    "#hide_input\n",
    "#md('##### {}'.format(titleBTC)) \n",
    "md(\"- {}{} {}{} [| Skaityti daugiau]({}) \".format(btc['title'],'. ', btc['body'], ' ...', btc['url']))"
   ]
  },
  {
   "cell_type": "code",
   "execution_count": 5,
   "id": "organic-actress",
   "metadata": {
    "execution": {
     "iopub.execute_input": "2022-09-04T03:39:19.595196Z",
     "iopub.status.busy": "2022-09-04T03:39:19.593173Z",
     "iopub.status.idle": "2022-09-04T03:39:19.601406Z",
     "shell.execute_reply": "2022-09-04T03:39:19.601919Z"
    },
    "papermill": {
     "duration": 0.025429,
     "end_time": "2022-09-04T03:39:19.602100",
     "exception": false,
     "start_time": "2022-09-04T03:39:19.576671",
     "status": "completed"
    },
    "tags": []
   },
   "outputs": [
    {
     "data": {
      "text/markdown": [
       "- This Is Worst Possible Bitcoin Bottom In Current Market Cycle?.  While the cryptocurrency market anticipates the Ethereum Merge, Bitcoin appears to be struggling to find momentum. There are high chances of a blanket impact on all cryptocurrencies from the shift to proof of stake. However, even if there is a ripple effect with positive strides from the event, Bitcoin (BTC) could only fluctuate for short The post This Is Worst Possible Bitcoin Bottom In Current Market Cycle? appeared first on CoinGape. ... [| Skaityti daugiau](https://coingape.com/this-is-worst-possible-bitcoin-bottom-in-current-market-cycle/) "
      ],
      "text/plain": [
       "<IPython.core.display.Markdown object>"
      ]
     },
     "execution_count": 5,
     "metadata": {},
     "output_type": "execute_result"
    }
   ],
   "source": [
    "#hide_input\n",
    "#md('##### {}'.format(titleBTC)) \n",
    "md(\"- {}{} {}{} [| Skaityti daugiau]({}) \".format(xrp['title'],'. ', xrp['body'], ' ...', xrp['url']))"
   ]
  },
  {
   "cell_type": "code",
   "execution_count": 6,
   "id": "prompt-farmer",
   "metadata": {
    "execution": {
     "iopub.execute_input": "2022-09-04T03:39:19.638155Z",
     "iopub.status.busy": "2022-09-04T03:39:19.637341Z",
     "iopub.status.idle": "2022-09-04T03:39:19.642206Z",
     "shell.execute_reply": "2022-09-04T03:39:19.641611Z"
    },
    "papermill": {
     "duration": 0.028104,
     "end_time": "2022-09-04T03:39:19.642342",
     "exception": false,
     "start_time": "2022-09-04T03:39:19.614238",
     "status": "completed"
    },
    "tags": []
   },
   "outputs": [
    {
     "data": {
      "text/markdown": [
       "- Tron Burn Total Exceeds 11 Billion TRX.  Tron’s TRX Burn Total Exceeds 11 Billion. Justin Sun, Tron&#8217;s head, has announced that more than 11 billion TRX have been burned since October 28, 2021. The total number of TRX in circulation is now $71.6B. 👀More than 11B #TRX burned since Oct 28, 2021.🔥 https://t.co/Y7udxT59M4 &#8212; H.E. Justin Sun🌞🇬🇩 (@justinsuntron) September 2, 2022 &#160; [&#8230;]The post Tron Burn Total Exceeds 11 Billion TRX first appeared on The Crypto Basic. ... [| Skaityti daugiau](https://thecryptobasic.com/2022/09/02/tron-burn-total-exceeds-11-billion-trx/?utm_source=rss&utm_medium=rss&utm_campaign=tron-burn-total-exceeds-11-billion-trx) "
      ],
      "text/plain": [
       "<IPython.core.display.Markdown object>"
      ]
     },
     "execution_count": 6,
     "metadata": {},
     "output_type": "execute_result"
    }
   ],
   "source": [
    "#hide_input\n",
    "#md('##### {}'.format(titleBTC)) \n",
    "md(\"- {}{} {}{} [| Skaityti daugiau]({}) \".format(trx['title'],'. ', trx['body'], ' ...', trx['url']))"
   ]
  },
  {
   "cell_type": "code",
   "execution_count": 7,
   "id": "illegal-greece",
   "metadata": {
    "execution": {
     "iopub.execute_input": "2022-09-04T03:39:19.674420Z",
     "iopub.status.busy": "2022-09-04T03:39:19.673654Z",
     "iopub.status.idle": "2022-09-04T03:39:19.679091Z",
     "shell.execute_reply": "2022-09-04T03:39:19.678503Z"
    },
    "papermill": {
     "duration": 0.024952,
     "end_time": "2022-09-04T03:39:19.679225",
     "exception": false,
     "start_time": "2022-09-04T03:39:19.654273",
     "status": "completed"
    },
    "tags": []
   },
   "outputs": [
    {
     "data": {
      "text/markdown": [
       "- Terra Classic [LUNC] investors may have some sleepless nights thanks to Binance.  Terra Classic [LUNC] is once again in the news. The token was recently in the limelight for registering an unprecedented hike over the last week. However, hell broke loose much recently. Binance posted an update that it will suspend deposits and withdrawals of LUNC (Shuttle) via Ethereum network (ERC20) and USTC (Shuttle). It will also [&#8230;] ... [| Skaityti daugiau](https://ambcrypto.com/terra-classic-lunc-investors-may-have-some-sleepless-nights-thanks-to-binance/) "
      ],
      "text/plain": [
       "<IPython.core.display.Markdown object>"
      ]
     },
     "execution_count": 7,
     "metadata": {},
     "output_type": "execute_result"
    }
   ],
   "source": [
    "#hide_input\n",
    "#md('##### {}'.format(titleBTC)) \n",
    "md(\"- {}{} {}{} [| Skaityti daugiau]({}) \".format(eth['title'],'. ', eth['body'], ' ...', eth['url']))"
   ]
  },
  {
   "cell_type": "code",
   "execution_count": 8,
   "id": "sublime-lounge",
   "metadata": {
    "execution": {
     "iopub.execute_input": "2022-09-04T03:39:19.716222Z",
     "iopub.status.busy": "2022-09-04T03:39:19.715440Z",
     "iopub.status.idle": "2022-09-04T03:39:19.722929Z",
     "shell.execute_reply": "2022-09-04T03:39:19.722270Z"
    },
    "papermill": {
     "duration": 0.029401,
     "end_time": "2022-09-04T03:39:19.723067",
     "exception": false,
     "start_time": "2022-09-04T03:39:19.693666",
     "status": "completed"
    },
    "tags": []
   },
   "outputs": [
    {
     "data": {
      "text/markdown": [
       "- $0.48 Breakout Could Encourage ADA Buyers For 14% Jump.  A bullish reversal from the bottom support of $0.425-$0.416 triggered a recovery opportunity for Cardano(ADA). Today, the altcoin is 5.44% up and attempts to break out from $0.48 resistance. Can buyers lead the price up above $0.55 resistance, or will the sellers pull the price lower? Key points from ADA analysis: The $0.425 resistance breakout The post $0.48 Breakout Could Encourage ADA Buyers For 14% Jump appeared first on CoinGape. ... [| Skaityti daugiau](https://coingape.com/markets/0-48-breakout-could-encourage-ada-buyers-for-14-jump/) "
      ],
      "text/plain": [
       "<IPython.core.display.Markdown object>"
      ]
     },
     "execution_count": 8,
     "metadata": {},
     "output_type": "execute_result"
    }
   ],
   "source": [
    "#hide_input\n",
    "#md('##### {}'.format(titleBTC)) \n",
    "md(\"- {}{} {}{} [| Skaityti daugiau]({}) \".format(ada['title'],'. ', ada['body'], ' ...', ada['url']))"
   ]
  },
  {
   "cell_type": "code",
   "execution_count": 9,
   "id": "specified-ordering",
   "metadata": {
    "execution": {
     "iopub.execute_input": "2022-09-04T03:39:19.755237Z",
     "iopub.status.busy": "2022-09-04T03:39:19.754514Z",
     "iopub.status.idle": "2022-09-04T03:39:19.761561Z",
     "shell.execute_reply": "2022-09-04T03:39:19.762082Z"
    },
    "papermill": {
     "duration": 0.026189,
     "end_time": "2022-09-04T03:39:19.762244",
     "exception": false,
     "start_time": "2022-09-04T03:39:19.736055",
     "status": "completed"
    },
    "tags": []
   },
   "outputs": [
    {
     "data": {
      "text/markdown": [
       "- Terra Classic [LUNC] investors may have some sleepless nights thanks to Binance.  Terra Classic [LUNC] is once again in the news. The token was recently in the limelight for registering an unprecedented hike over the last week. However, hell broke loose much recently. Binance posted an update that it will suspend deposits and withdrawals of LUNC (Shuttle) via Ethereum network (ERC20) and USTC (Shuttle). It will also [&#8230;] ... [| Skaityti daugiau](https://ambcrypto.com/terra-classic-lunc-investors-may-have-some-sleepless-nights-thanks-to-binance/) "
      ],
      "text/plain": [
       "<IPython.core.display.Markdown object>"
      ]
     },
     "execution_count": 9,
     "metadata": {},
     "output_type": "execute_result"
    }
   ],
   "source": [
    "#hide_input\n",
    "#md('##### {}'.format(titleBTC)) \n",
    "md(\"- {}{} {}{} [| Skaityti daugiau]({}) \".format(exchange['title'],'. ', exchange['body'], ' ...', exchange['url']))"
   ]
  },
  {
   "cell_type": "code",
   "execution_count": null,
   "id": "tender-livestock",
   "metadata": {
    "papermill": {
     "duration": 0.012943,
     "end_time": "2022-09-04T03:39:19.788543",
     "exception": false,
     "start_time": "2022-09-04T03:39:19.775600",
     "status": "completed"
    },
    "tags": []
   },
   "outputs": [],
   "source": []
  },
  {
   "cell_type": "code",
   "execution_count": null,
   "id": "appreciated-diamond",
   "metadata": {
    "papermill": {
     "duration": 0.018975,
     "end_time": "2022-09-04T03:39:19.821911",
     "exception": false,
     "start_time": "2022-09-04T03:39:19.802936",
     "status": "completed"
    },
    "tags": []
   },
   "outputs": [],
   "source": []
  },
  {
   "cell_type": "code",
   "execution_count": null,
   "id": "romance-sweden",
   "metadata": {
    "papermill": {
     "duration": 0.013962,
     "end_time": "2022-09-04T03:39:19.850885",
     "exception": false,
     "start_time": "2022-09-04T03:39:19.836923",
     "status": "completed"
    },
    "tags": []
   },
   "outputs": [],
   "source": []
  },
  {
   "cell_type": "code",
   "execution_count": null,
   "id": "dietary-statistics",
   "metadata": {
    "papermill": {
     "duration": 0.01361,
     "end_time": "2022-09-04T03:39:19.877657",
     "exception": false,
     "start_time": "2022-09-04T03:39:19.864047",
     "status": "completed"
    },
    "tags": []
   },
   "outputs": [],
   "source": []
  }
 ],
 "metadata": {
  "kernelspec": {
   "display_name": "Python 3",
   "language": "python",
   "name": "python3"
  },
  "language_info": {
   "codemirror_mode": {
    "name": "ipython",
    "version": 3
   },
   "file_extension": ".py",
   "mimetype": "text/x-python",
   "name": "python",
   "nbconvert_exporter": "python",
   "pygments_lexer": "ipython3",
   "version": "3.6.15"
  },
  "papermill": {
   "default_parameters": {},
   "duration": 19.093913,
   "end_time": "2022-09-04T03:39:20.416473",
   "environment_variables": {},
   "exception": null,
   "input_path": "Market-News.ipynb",
   "output_path": "Market-News.ipynb",
   "parameters": {},
   "start_time": "2022-09-04T03:39:01.322560",
   "version": "2.2.2"
  }
 },
 "nbformat": 4,
 "nbformat_minor": 5
}