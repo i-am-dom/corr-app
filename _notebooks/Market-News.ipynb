{
 "cells": [
  {
   "cell_type": "markdown",
   "id": "short-greensboro",
   "metadata": {
    "papermill": {
     "duration": 0.01609,
     "end_time": "2021-12-20T02:06:43.204276",
     "exception": false,
     "start_time": "2021-12-20T02:06:43.188186",
     "status": "completed"
    },
    "tags": []
   },
   "source": [
    "# Kriptovaliutų naujienos"
   ]
  },
  {
   "cell_type": "code",
   "execution_count": 1,
   "id": "functioning-knowing",
   "metadata": {
    "execution": {
     "iopub.execute_input": "2021-12-20T02:06:43.240014Z",
     "iopub.status.busy": "2021-12-20T02:06:43.239292Z",
     "iopub.status.idle": "2021-12-20T02:06:44.852475Z",
     "shell.execute_reply": "2021-12-20T02:06:44.851503Z"
    },
    "papermill": {
     "duration": 1.635744,
     "end_time": "2021-12-20T02:06:44.852637",
     "exception": false,
     "start_time": "2021-12-20T02:06:43.216893",
     "status": "completed"
    },
    "tags": []
   },
   "outputs": [],
   "source": [
    "#hide_input\n",
    "import warnings\n",
    "warnings.filterwarnings('ignore')\n",
    "from scripts.read_data import read_api\n",
    "from scripts.read_data import read_news\n",
    "from scripts.read_data import read_covid\n",
    "import matplotlib.pyplot as plt \n",
    "from IPython.display import Markdown as md"
   ]
  },
  {
   "cell_type": "code",
   "execution_count": 2,
   "id": "shared-acceptance",
   "metadata": {
    "execution": {
     "iopub.execute_input": "2021-12-20T02:06:44.884808Z",
     "iopub.status.busy": "2021-12-20T02:06:44.884005Z",
     "iopub.status.idle": "2021-12-20T02:06:52.995618Z",
     "shell.execute_reply": "2021-12-20T02:06:52.994956Z"
    },
    "papermill": {
     "duration": 8.130671,
     "end_time": "2021-12-20T02:06:52.995817",
     "exception": false,
     "start_time": "2021-12-20T02:06:44.865146",
     "status": "completed"
    },
    "tags": []
   },
   "outputs": [],
   "source": [
    "#hide_input\n",
    "blockchain = read_news('blockchain') \n",
    "btc = read_news('btc') \n",
    "xrp = read_news('xrp') \n",
    "trx = read_news('trx') \n",
    "eth = read_news('eth')  \n",
    "ada = read_news('ada')\n",
    "exchange = read_news('exchange') "
   ]
  },
  {
   "cell_type": "code",
   "execution_count": 3,
   "id": "synthetic-notion",
   "metadata": {
    "execution": {
     "iopub.execute_input": "2021-12-20T02:06:53.027975Z",
     "iopub.status.busy": "2021-12-20T02:06:53.027244Z",
     "iopub.status.idle": "2021-12-20T02:06:53.031045Z",
     "shell.execute_reply": "2021-12-20T02:06:53.030458Z"
    },
    "papermill": {
     "duration": 0.023052,
     "end_time": "2021-12-20T02:06:53.031185",
     "exception": false,
     "start_time": "2021-12-20T02:06:53.008133",
     "status": "completed"
    },
    "tags": []
   },
   "outputs": [
    {
     "data": {
      "text/markdown": [
       "- Voodoo Announces $200 Million Investment in Blockchain Gaming.  Voodoo plans to bring blockchain games to casual and mobile users globally and join forces with some of the most talented gaming studios. ... [| Skaityti daugiau](https://cryptopotato.com/voodoo-announces-200-million-investment-in-blockchain-gaming/) "
      ],
      "text/plain": [
       "<IPython.core.display.Markdown object>"
      ]
     },
     "execution_count": 3,
     "metadata": {},
     "output_type": "execute_result"
    }
   ],
   "source": [
    "#hide_input\n",
    "#md('##### {}'.format(titleBTC)) \n",
    "md(\"- {}{} {}{} [| Skaityti daugiau]({}) \".format(blockchain['title'],'. ', blockchain['body'], ' ...', blockchain['url']))"
   ]
  },
  {
   "cell_type": "code",
   "execution_count": 4,
   "id": "aging-caution",
   "metadata": {
    "execution": {
     "iopub.execute_input": "2021-12-20T02:06:53.064472Z",
     "iopub.status.busy": "2021-12-20T02:06:53.063037Z",
     "iopub.status.idle": "2021-12-20T02:06:53.067888Z",
     "shell.execute_reply": "2021-12-20T02:06:53.068537Z"
    },
    "papermill": {
     "duration": 0.024606,
     "end_time": "2021-12-20T02:06:53.068888",
     "exception": false,
     "start_time": "2021-12-20T02:06:53.044282",
     "status": "completed"
    },
    "tags": []
   },
   "outputs": [
    {
     "data": {
      "text/markdown": [
       "- Bitcoin And The Means To An End: Appreciation Is Simply A Vehicle For Major Change.  Getting rich is awesome, but Bitcoiners should prepare for major innovation and the unique opportunities Bitcoin presents. ... [| Skaityti daugiau](https://bitcoinmagazine.com/culture/bitcoin-appreciation-vehicle-for-major-change) "
      ],
      "text/plain": [
       "<IPython.core.display.Markdown object>"
      ]
     },
     "execution_count": 4,
     "metadata": {},
     "output_type": "execute_result"
    }
   ],
   "source": [
    "#hide_input\n",
    "#md('##### {}'.format(titleBTC)) \n",
    "md(\"- {}{} {}{} [| Skaityti daugiau]({}) \".format(btc['title'],'. ', btc['body'], ' ...', btc['url']))"
   ]
  },
  {
   "cell_type": "code",
   "execution_count": 5,
   "id": "organic-actress",
   "metadata": {
    "execution": {
     "iopub.execute_input": "2021-12-20T02:06:53.102915Z",
     "iopub.status.busy": "2021-12-20T02:06:53.102141Z",
     "iopub.status.idle": "2021-12-20T02:06:53.105321Z",
     "shell.execute_reply": "2021-12-20T02:06:53.105955Z"
    },
    "papermill": {
     "duration": 0.024342,
     "end_time": "2021-12-20T02:06:53.106123",
     "exception": false,
     "start_time": "2021-12-20T02:06:53.081781",
     "status": "completed"
    },
    "tags": []
   },
   "outputs": [
    {
     "data": {
      "text/markdown": [
       "- XRP, MANA, The Sandbox Price Analysis: 19 December.  As the &#8216;fear&#8217; condition still existed, Bitcoin floundered around the $47,000 mark while XRP technical indicators flashed mixed signals. Metaverse tokens like Decentraland and The Sandbox correlated as their price action jumped above the 50-SMA while flashing slightly bullish indications. XRP XRP managed to form two ascending triangles over the past 15 days and found [&#8230;] ... [| Skaityti daugiau](https://ambcrypto.com/xrp-mana-the-sandbox-price-analysis-19-december/) "
      ],
      "text/plain": [
       "<IPython.core.display.Markdown object>"
      ]
     },
     "execution_count": 5,
     "metadata": {},
     "output_type": "execute_result"
    }
   ],
   "source": [
    "#hide_input\n",
    "#md('##### {}'.format(titleBTC)) \n",
    "md(\"- {}{} {}{} [| Skaityti daugiau]({}) \".format(xrp['title'],'. ', xrp['body'], ' ...', xrp['url']))"
   ]
  },
  {
   "cell_type": "code",
   "execution_count": 6,
   "id": "prompt-farmer",
   "metadata": {
    "execution": {
     "iopub.execute_input": "2021-12-20T02:06:53.142536Z",
     "iopub.status.busy": "2021-12-20T02:06:53.141829Z",
     "iopub.status.idle": "2021-12-20T02:06:53.146026Z",
     "shell.execute_reply": "2021-12-20T02:06:53.145139Z"
    },
    "papermill": {
     "duration": 0.025667,
     "end_time": "2021-12-20T02:06:53.146163",
     "exception": false,
     "start_time": "2021-12-20T02:06:53.120496",
     "status": "completed"
    },
    "tags": []
   },
   "outputs": [
    {
     "data": {
      "text/markdown": [
       "- XRP, Tron, BitTorrent Price Analysis 18 December.  With the Bitcoin fear and greed index flashing an &#8216;extreme fear&#8217; situation over the past week, the resulting impact can be seen on most cryptos. XRP flashed weak technicals while Tron and BitTorrent lost their crucial price points that the bulls upheld for months. XRP Since 7 December, XRP has found an oscillating range between [&#8230;] ... [| Skaityti daugiau](https://ambcrypto.com/xrp-tron-bittorrent-price-analysis-18-december/) "
      ],
      "text/plain": [
       "<IPython.core.display.Markdown object>"
      ]
     },
     "execution_count": 6,
     "metadata": {},
     "output_type": "execute_result"
    }
   ],
   "source": [
    "#hide_input\n",
    "#md('##### {}'.format(titleBTC)) \n",
    "md(\"- {}{} {}{} [| Skaityti daugiau]({}) \".format(trx['title'],'. ', trx['body'], ' ...', trx['url']))"
   ]
  },
  {
   "cell_type": "code",
   "execution_count": 7,
   "id": "illegal-greece",
   "metadata": {
    "execution": {
     "iopub.execute_input": "2021-12-20T02:06:53.178725Z",
     "iopub.status.busy": "2021-12-20T02:06:53.178041Z",
     "iopub.status.idle": "2021-12-20T02:06:53.181692Z",
     "shell.execute_reply": "2021-12-20T02:06:53.182191Z"
    },
    "papermill": {
     "duration": 0.022417,
     "end_time": "2021-12-20T02:06:53.182352",
     "exception": false,
     "start_time": "2021-12-20T02:06:53.159935",
     "status": "completed"
    },
    "tags": []
   },
   "outputs": [
    {
     "data": {
      "text/markdown": [
       "- Here’s what this exec has to say about the possibility of a ETH-BTC flippening.  The world’s second most valuable cryptocurrency, Ether, has been touching all key notes such as ETH 2.o developments, adoptions, and the list go on. Such impressive milestones aided the network to record attributes that even surpass that of Bitcoin. Some even say that Ethereum is already years ahead of Bitcoin in everything but price and fame. [&#8230;] ... [| Skaityti daugiau](https://ambcrypto.com/heres-what-this-exec-has-to-say-about-the-possibility-of-a-eth-btc-flippening/) "
      ],
      "text/plain": [
       "<IPython.core.display.Markdown object>"
      ]
     },
     "execution_count": 7,
     "metadata": {},
     "output_type": "execute_result"
    }
   ],
   "source": [
    "#hide_input\n",
    "#md('##### {}'.format(titleBTC)) \n",
    "md(\"- {}{} {}{} [| Skaityti daugiau]({}) \".format(eth['title'],'. ', eth['body'], ' ...', eth['url']))"
   ]
  },
  {
   "cell_type": "code",
   "execution_count": 8,
   "id": "sublime-lounge",
   "metadata": {
    "execution": {
     "iopub.execute_input": "2021-12-20T02:06:53.214728Z",
     "iopub.status.busy": "2021-12-20T02:06:53.213268Z",
     "iopub.status.idle": "2021-12-20T02:06:53.219647Z",
     "shell.execute_reply": "2021-12-20T02:06:53.220146Z"
    },
    "papermill": {
     "duration": 0.02434,
     "end_time": "2021-12-20T02:06:53.220288",
     "exception": false,
     "start_time": "2021-12-20T02:06:53.195948",
     "status": "completed"
    },
    "tags": []
   },
   "outputs": [
    {
     "data": {
      "text/markdown": [
       "- Cardano: Payments Network Flexa Adds Support for $ADA at Over 40,000 Merchants.  Payments network Flexa has got some great news for the Cardano community. What Is Flexa? Flexa, which was founded in February 2018 is a leading “pure-digital” payments network. It claims to “provide merchants and developers with simple integrations for digital currency acceptance that are fast, affordable, and completely fraud-proof.” Flexa says it is “the first […] ... [| Skaityti daugiau](https://www.cryptoglobe.com/latest/2021/12/cardano-payments-network-flexa-adds-support-for-ada-at-over-40000-merchants/) "
      ],
      "text/plain": [
       "<IPython.core.display.Markdown object>"
      ]
     },
     "execution_count": 8,
     "metadata": {},
     "output_type": "execute_result"
    }
   ],
   "source": [
    "#hide_input\n",
    "#md('##### {}'.format(titleBTC)) \n",
    "md(\"- {}{} {}{} [| Skaityti daugiau]({}) \".format(ada['title'],'. ', ada['body'], ' ...', ada['url']))"
   ]
  },
  {
   "cell_type": "code",
   "execution_count": 9,
   "id": "specified-ordering",
   "metadata": {
    "execution": {
     "iopub.execute_input": "2021-12-20T02:06:53.253694Z",
     "iopub.status.busy": "2021-12-20T02:06:53.253075Z",
     "iopub.status.idle": "2021-12-20T02:06:53.259491Z",
     "shell.execute_reply": "2021-12-20T02:06:53.259007Z"
    },
    "papermill": {
     "duration": 0.025501,
     "end_time": "2021-12-20T02:06:53.259610",
     "exception": false,
     "start_time": "2021-12-20T02:06:53.234109",
     "status": "completed"
    },
    "tags": []
   },
   "outputs": [
    {
     "data": {
      "text/markdown": [
       "- Bank of Russia Has Tools to Restrict Crypto Investments, Governor Hints.  The Central Bank of Russia has reaffirmed its opposition to cryptocurrency investments citing the volatility of the digital assets as a key motive for its conservative stance. Governor Elvira Nabiullina has recently indicated that the regulator has the means to restrict them. Nabiullina Insists Bank of Russia Can Limit Investments in Crypto Assets Russia&#x2019;s monetary [&#8230;] ... [| Skaityti daugiau](https://news.bitcoin.com/bank-of-russia-has-tools-to-restrict-crypto-investments-governor-hints/) "
      ],
      "text/plain": [
       "<IPython.core.display.Markdown object>"
      ]
     },
     "execution_count": 9,
     "metadata": {},
     "output_type": "execute_result"
    }
   ],
   "source": [
    "#hide_input\n",
    "#md('##### {}'.format(titleBTC)) \n",
    "md(\"- {}{} {}{} [| Skaityti daugiau]({}) \".format(exchange['title'],'. ', exchange['body'], ' ...', exchange['url']))"
   ]
  },
  {
   "cell_type": "code",
   "execution_count": null,
   "id": "tender-livestock",
   "metadata": {
    "papermill": {
     "duration": 0.015222,
     "end_time": "2021-12-20T02:06:53.289814",
     "exception": false,
     "start_time": "2021-12-20T02:06:53.274592",
     "status": "completed"
    },
    "tags": []
   },
   "outputs": [],
   "source": []
  },
  {
   "cell_type": "code",
   "execution_count": null,
   "id": "appreciated-diamond",
   "metadata": {
    "papermill": {
     "duration": 0.013951,
     "end_time": "2021-12-20T02:06:53.319001",
     "exception": false,
     "start_time": "2021-12-20T02:06:53.305050",
     "status": "completed"
    },
    "tags": []
   },
   "outputs": [],
   "source": []
  },
  {
   "cell_type": "code",
   "execution_count": null,
   "id": "romance-sweden",
   "metadata": {
    "papermill": {
     "duration": 0.014272,
     "end_time": "2021-12-20T02:06:53.347100",
     "exception": false,
     "start_time": "2021-12-20T02:06:53.332828",
     "status": "completed"
    },
    "tags": []
   },
   "outputs": [],
   "source": []
  },
  {
   "cell_type": "code",
   "execution_count": null,
   "id": "dietary-statistics",
   "metadata": {
    "papermill": {
     "duration": 0.014049,
     "end_time": "2021-12-20T02:06:53.376119",
     "exception": false,
     "start_time": "2021-12-20T02:06:53.362070",
     "status": "completed"
    },
    "tags": []
   },
   "outputs": [],
   "source": []
  }
 ],
 "metadata": {
  "kernelspec": {
   "display_name": "Python 3",
   "language": "python",
   "name": "python3"
  },
  "language_info": {
   "codemirror_mode": {
    "name": "ipython",
    "version": 3
   },
   "file_extension": ".py",
   "mimetype": "text/x-python",
   "name": "python",
   "nbconvert_exporter": "python",
   "pygments_lexer": "ipython3",
   "version": "3.6.15"
  },
  "papermill": {
   "default_parameters": {},
   "duration": 11.942443,
   "end_time": "2021-12-20T02:06:53.801572",
   "environment_variables": {},
   "exception": null,
   "input_path": "Market-News.ipynb",
   "output_path": "Market-News.ipynb",
   "parameters": {},
   "start_time": "2021-12-20T02:06:41.859129",
   "version": "2.2.2"
  }
 },
 "nbformat": 4,
 "nbformat_minor": 5
}