{
 "cells": [
  {
   "cell_type": "markdown",
   "id": "short-greensboro",
   "metadata": {
    "papermill": {
     "duration": 0.013905,
     "end_time": "2022-04-08T02:44:36.302107",
     "exception": false,
     "start_time": "2022-04-08T02:44:36.288202",
     "status": "completed"
    },
    "tags": []
   },
   "source": [
    "# Kriptovaliutų naujienos"
   ]
  },
  {
   "cell_type": "code",
   "execution_count": 1,
   "id": "functioning-knowing",
   "metadata": {
    "execution": {
     "iopub.execute_input": "2022-04-08T02:44:36.331559Z",
     "iopub.status.busy": "2022-04-08T02:44:36.331040Z",
     "iopub.status.idle": "2022-04-08T02:44:37.609145Z",
     "shell.execute_reply": "2022-04-08T02:44:37.608602Z"
    },
    "papermill": {
     "duration": 1.297454,
     "end_time": "2022-04-08T02:44:37.609305",
     "exception": false,
     "start_time": "2022-04-08T02:44:36.311851",
     "status": "completed"
    },
    "tags": []
   },
   "outputs": [],
   "source": [
    "#hide_input\n",
    "import warnings\n",
    "warnings.filterwarnings('ignore')\n",
    "from scripts.read_data import read_api\n",
    "from scripts.read_data import read_news\n",
    "from scripts.read_data import read_covid\n",
    "import matplotlib.pyplot as plt \n",
    "from IPython.display import Markdown as md"
   ]
  },
  {
   "cell_type": "code",
   "execution_count": 2,
   "id": "shared-acceptance",
   "metadata": {
    "execution": {
     "iopub.execute_input": "2022-04-08T02:44:37.635527Z",
     "iopub.status.busy": "2022-04-08T02:44:37.634973Z",
     "iopub.status.idle": "2022-04-08T02:44:46.804603Z",
     "shell.execute_reply": "2022-04-08T02:44:46.805094Z"
    },
    "papermill": {
     "duration": 9.185748,
     "end_time": "2022-04-08T02:44:46.805264",
     "exception": false,
     "start_time": "2022-04-08T02:44:37.619516",
     "status": "completed"
    },
    "tags": []
   },
   "outputs": [],
   "source": [
    "#hide_input\n",
    "blockchain = read_news('blockchain') \n",
    "btc = read_news('btc') \n",
    "xrp = read_news('xrp') \n",
    "trx = read_news('trx') \n",
    "eth = read_news('eth')  \n",
    "ada = read_news('ada')\n",
    "exchange = read_news('exchange') "
   ]
  },
  {
   "cell_type": "code",
   "execution_count": 3,
   "id": "synthetic-notion",
   "metadata": {
    "execution": {
     "iopub.execute_input": "2022-04-08T02:44:46.829856Z",
     "iopub.status.busy": "2022-04-08T02:44:46.829290Z",
     "iopub.status.idle": "2022-04-08T02:44:46.831462Z",
     "shell.execute_reply": "2022-04-08T02:44:46.831868Z"
    },
    "papermill": {
     "duration": 0.017242,
     "end_time": "2022-04-08T02:44:46.831984",
     "exception": false,
     "start_time": "2022-04-08T02:44:46.814742",
     "status": "completed"
    },
    "tags": []
   },
   "outputs": [
    {
     "data": {
      "text/markdown": [
       "- Bitcoin’s Progress in Europe.  Bitcoin is a decentralized digital currency, without a central bank or single administrator, that can be sent from user to user on the peer-to-peer bitcoin network without the need for intermediaries. Transactions are verified by network nodes through cryptography and recorded in a public distributed ledger called a blockchain. Bitcoin is unique in that there [&#8230;]The post Bitcoin&#8217;s Progress in Europe appeared first on NullTX. ... [| Skaityti daugiau](https://nulltx.com/bitcoins-progress-in-europe/) "
      ],
      "text/plain": [
       "<IPython.core.display.Markdown object>"
      ]
     },
     "execution_count": 3,
     "metadata": {},
     "output_type": "execute_result"
    }
   ],
   "source": [
    "#hide_input\n",
    "#md('##### {}'.format(titleBTC)) \n",
    "md(\"- {}{} {}{} [| Skaityti daugiau]({}) \".format(blockchain['title'],'. ', blockchain['body'], ' ...', blockchain['url']))"
   ]
  },
  {
   "cell_type": "code",
   "execution_count": 4,
   "id": "aging-caution",
   "metadata": {
    "execution": {
     "iopub.execute_input": "2022-04-08T02:44:46.855260Z",
     "iopub.status.busy": "2022-04-08T02:44:46.854684Z",
     "iopub.status.idle": "2022-04-08T02:44:46.858572Z",
     "shell.execute_reply": "2022-04-08T02:44:46.858953Z"
    },
    "papermill": {
     "duration": 0.017731,
     "end_time": "2022-04-08T02:44:46.859065",
     "exception": false,
     "start_time": "2022-04-08T02:44:46.841334",
     "status": "completed"
    },
    "tags": []
   },
   "outputs": [
    {
     "data": {
      "text/markdown": [
       "- Bitcoin’s Progress in Europe.  Bitcoin is a decentralized digital currency, without a central bank or single administrator, that can be sent from user to user on the peer-to-peer bitcoin network without the need for intermediaries. Transactions are verified by network nodes through cryptography and recorded in a public distributed ledger called a blockchain. Bitcoin is unique in that there [&#8230;]The post Bitcoin&#8217;s Progress in Europe appeared first on NullTX. ... [| Skaityti daugiau](https://nulltx.com/bitcoins-progress-in-europe/) "
      ],
      "text/plain": [
       "<IPython.core.display.Markdown object>"
      ]
     },
     "execution_count": 4,
     "metadata": {},
     "output_type": "execute_result"
    }
   ],
   "source": [
    "#hide_input\n",
    "#md('##### {}'.format(titleBTC)) \n",
    "md(\"- {}{} {}{} [| Skaityti daugiau]({}) \".format(btc['title'],'. ', btc['body'], ' ...', btc['url']))"
   ]
  },
  {
   "cell_type": "code",
   "execution_count": 5,
   "id": "organic-actress",
   "metadata": {
    "execution": {
     "iopub.execute_input": "2022-04-08T02:44:46.882942Z",
     "iopub.status.busy": "2022-04-08T02:44:46.882340Z",
     "iopub.status.idle": "2022-04-08T02:44:46.884553Z",
     "shell.execute_reply": "2022-04-08T02:44:46.885016Z"
    },
    "papermill": {
     "duration": 0.016479,
     "end_time": "2022-04-08T02:44:46.885139",
     "exception": false,
     "start_time": "2022-04-08T02:44:46.868660",
     "status": "completed"
    },
    "tags": []
   },
   "outputs": [
    {
     "data": {
      "text/markdown": [
       "- Bitcoin At Crucial Levels : $50k Or $36K What’s Next For BTC Price?.  The post Bitcoin At Crucial Levels : $50k Or $36K What&#8217;s Next For BTC Price? appeared first on Coinpedia - Fintech &amp; Cryptocurreny News Media| Crypto GuideThroughout the week, the price of Bitcoin, Ethereum, and other cryptocurrencies has been on the decline. Bitcoin&#8217;s price has recently plummeted below the $45,000 support level. Similarly, most major altcoins may face difficulties in recouping losses. Near the $3,300 level, ETH may find resistance and XRP could continue to fall below the $0.75 support level. &#8230; ... [| Skaityti daugiau](https://coinpedia.org/bitcoin/bitcoin-at-crucial-levels-50k-or-36k-whats-next-for-btc-price/) "
      ],
      "text/plain": [
       "<IPython.core.display.Markdown object>"
      ]
     },
     "execution_count": 5,
     "metadata": {},
     "output_type": "execute_result"
    }
   ],
   "source": [
    "#hide_input\n",
    "#md('##### {}'.format(titleBTC)) \n",
    "md(\"- {}{} {}{} [| Skaityti daugiau]({}) \".format(xrp['title'],'. ', xrp['body'], ' ...', xrp['url']))"
   ]
  },
  {
   "cell_type": "code",
   "execution_count": 6,
   "id": "prompt-farmer",
   "metadata": {
    "execution": {
     "iopub.execute_input": "2022-04-08T02:44:46.909328Z",
     "iopub.status.busy": "2022-04-08T02:44:46.908821Z",
     "iopub.status.idle": "2022-04-08T02:44:46.911398Z",
     "shell.execute_reply": "2022-04-08T02:44:46.911830Z"
    },
    "papermill": {
     "duration": 0.016608,
     "end_time": "2022-04-08T02:44:46.911940",
     "exception": false,
     "start_time": "2022-04-08T02:44:46.895332",
     "status": "completed"
    },
    "tags": []
   },
   "outputs": [
    {
     "data": {
      "text/markdown": [
       "- GemTRX Adds New Tron Cloud Mining Features and Options.  GemTRX Links: Official Website: https://gem-trx.com/share?code=337867 Official Facebook Page: https://www.facebook.com/gemtrxofficial Official Twitter: https://twitter.com/Gem_TRX Telegram Channel: https://t.me/gemtrxchannel Whitepaper: https://tron.network/static/doc/white_paper_v_2_0.pdf Telegram customer service: https://t.me/gemtrxofficial https://t.me/gemtrxofficial2 Whatsapp customer service: +1(650)272-9738 GemTRX added a new cloud mining option called The Mining Cycle Model to celebrate their one million partners. Because of the enhanced capabilities, participants may now deposit TRX from [&#8230;]The post GemTRX Adds New Tron Cloud Mining Features and Options appeared first on NullTX. ... [| Skaityti daugiau](https://nulltx.com/gemtrx-adds-new-tron-cloud-mining-features-and-options/) "
      ],
      "text/plain": [
       "<IPython.core.display.Markdown object>"
      ]
     },
     "execution_count": 6,
     "metadata": {},
     "output_type": "execute_result"
    }
   ],
   "source": [
    "#hide_input\n",
    "#md('##### {}'.format(titleBTC)) \n",
    "md(\"- {}{} {}{} [| Skaityti daugiau]({}) \".format(trx['title'],'. ', trx['body'], ' ...', trx['url']))"
   ]
  },
  {
   "cell_type": "code",
   "execution_count": 7,
   "id": "illegal-greece",
   "metadata": {
    "execution": {
     "iopub.execute_input": "2022-04-08T02:44:46.936775Z",
     "iopub.status.busy": "2022-04-08T02:44:46.935826Z",
     "iopub.status.idle": "2022-04-08T02:44:46.939507Z",
     "shell.execute_reply": "2022-04-08T02:44:46.939081Z"
    },
    "papermill": {
     "duration": 0.017148,
     "end_time": "2022-04-08T02:44:46.939605",
     "exception": false,
     "start_time": "2022-04-08T02:44:46.922457",
     "status": "completed"
    },
    "tags": []
   },
   "outputs": [
    {
     "data": {
      "text/markdown": [
       "- Bitcoin At Crucial Levels : $50k Or $36K What’s Next For BTC Price?.  The post Bitcoin At Crucial Levels : $50k Or $36K What&#8217;s Next For BTC Price? appeared first on Coinpedia - Fintech &amp; Cryptocurreny News Media| Crypto GuideThroughout the week, the price of Bitcoin, Ethereum, and other cryptocurrencies has been on the decline. Bitcoin&#8217;s price has recently plummeted below the $45,000 support level. Similarly, most major altcoins may face difficulties in recouping losses. Near the $3,300 level, ETH may find resistance and XRP could continue to fall below the $0.75 support level. &#8230; ... [| Skaityti daugiau](https://coinpedia.org/bitcoin/bitcoin-at-crucial-levels-50k-or-36k-whats-next-for-btc-price/) "
      ],
      "text/plain": [
       "<IPython.core.display.Markdown object>"
      ]
     },
     "execution_count": 7,
     "metadata": {},
     "output_type": "execute_result"
    }
   ],
   "source": [
    "#hide_input\n",
    "#md('##### {}'.format(titleBTC)) \n",
    "md(\"- {}{} {}{} [| Skaityti daugiau]({}) \".format(eth['title'],'. ', eth['body'], ' ...', eth['url']))"
   ]
  },
  {
   "cell_type": "code",
   "execution_count": 8,
   "id": "sublime-lounge",
   "metadata": {
    "execution": {
     "iopub.execute_input": "2022-04-08T02:44:46.965093Z",
     "iopub.status.busy": "2022-04-08T02:44:46.964591Z",
     "iopub.status.idle": "2022-04-08T02:44:46.967381Z",
     "shell.execute_reply": "2022-04-08T02:44:46.967784Z"
    },
    "papermill": {
     "duration": 0.017679,
     "end_time": "2022-04-08T02:44:46.967892",
     "exception": false,
     "start_time": "2022-04-08T02:44:46.950213",
     "status": "completed"
    },
    "tags": []
   },
   "outputs": [
    {
     "data": {
      "text/markdown": [
       "- Cardano (ADA) Prospects Are Bright Based on This Metric – But There’s a Catch: Crypto Exchange Kraken.  Crypto exchange Kraken says that two on-chain metrics measuring demand for digital assets suggest a bullish outlook for Cardano (ADA). In its March 2022 crypto on-chain digest, Kraken says that ADA&#8217;s transaction fees, the cost that market participants are willing to pay to use the blockchain, rose by over 50% year-to-date. ADA’s transaction fee is [&#8230;]The post Cardano (ADA) Prospects Are Bright Based on This Metric – But There’s a Catch: Crypto Exchange Kraken appeared first on The Daily Hodl. ... [| Skaityti daugiau](https://dailyhodl.com/2022/04/07/cardano-ada-prospects-are-bright-based-on-this-metric-but-theres-a-catch-crypto-exchange-kraken/) "
      ],
      "text/plain": [
       "<IPython.core.display.Markdown object>"
      ]
     },
     "execution_count": 8,
     "metadata": {},
     "output_type": "execute_result"
    }
   ],
   "source": [
    "#hide_input\n",
    "#md('##### {}'.format(titleBTC)) \n",
    "md(\"- {}{} {}{} [| Skaityti daugiau]({}) \".format(ada['title'],'. ', ada['body'], ' ...', ada['url']))"
   ]
  },
  {
   "cell_type": "code",
   "execution_count": 9,
   "id": "specified-ordering",
   "metadata": {
    "execution": {
     "iopub.execute_input": "2022-04-08T02:44:46.994131Z",
     "iopub.status.busy": "2022-04-08T02:44:46.993600Z",
     "iopub.status.idle": "2022-04-08T02:44:46.996859Z",
     "shell.execute_reply": "2022-04-08T02:44:46.996455Z"
    },
    "papermill": {
     "duration": 0.018097,
     "end_time": "2022-04-08T02:44:46.996958",
     "exception": false,
     "start_time": "2022-04-08T02:44:46.978861",
     "status": "completed"
    },
    "tags": []
   },
   "outputs": [
    {
     "data": {
      "text/markdown": [
       "- Ronin hack: Sky Mavis prepares reimbursement through $150M funding round.  Sky Mavis has announced to reimburse all the victims in the $600 million that took place on 23 March. Binance confirmed it is leading the initial $150 million funding round with Animoca Brands, a16z, Dialectic, Paradigm and Accel also participating. On 23 March, Sky Mavis’ Ronin and Axie DAO validator nodes were hacked. The hack [&#8230;] ... [| Skaityti daugiau](https://ambcrypto.com/ronin-hack-sky-mavis-prepares-reimbursement-through-150m-funding-round/) "
      ],
      "text/plain": [
       "<IPython.core.display.Markdown object>"
      ]
     },
     "execution_count": 9,
     "metadata": {},
     "output_type": "execute_result"
    }
   ],
   "source": [
    "#hide_input\n",
    "#md('##### {}'.format(titleBTC)) \n",
    "md(\"- {}{} {}{} [| Skaityti daugiau]({}) \".format(exchange['title'],'. ', exchange['body'], ' ...', exchange['url']))"
   ]
  },
  {
   "cell_type": "code",
   "execution_count": null,
   "id": "tender-livestock",
   "metadata": {
    "papermill": {
     "duration": 0.011329,
     "end_time": "2022-04-08T02:44:47.019562",
     "exception": false,
     "start_time": "2022-04-08T02:44:47.008233",
     "status": "completed"
    },
    "tags": []
   },
   "outputs": [],
   "source": []
  },
  {
   "cell_type": "code",
   "execution_count": null,
   "id": "appreciated-diamond",
   "metadata": {
    "papermill": {
     "duration": 0.011666,
     "end_time": "2022-04-08T02:44:47.042688",
     "exception": false,
     "start_time": "2022-04-08T02:44:47.031022",
     "status": "completed"
    },
    "tags": []
   },
   "outputs": [],
   "source": []
  },
  {
   "cell_type": "code",
   "execution_count": null,
   "id": "romance-sweden",
   "metadata": {
    "papermill": {
     "duration": 0.011287,
     "end_time": "2022-04-08T02:44:47.066337",
     "exception": false,
     "start_time": "2022-04-08T02:44:47.055050",
     "status": "completed"
    },
    "tags": []
   },
   "outputs": [],
   "source": []
  },
  {
   "cell_type": "code",
   "execution_count": null,
   "id": "dietary-statistics",
   "metadata": {
    "papermill": {
     "duration": 0.011295,
     "end_time": "2022-04-08T02:44:47.088935",
     "exception": false,
     "start_time": "2022-04-08T02:44:47.077640",
     "status": "completed"
    },
    "tags": []
   },
   "outputs": [],
   "source": []
  }
 ],
 "metadata": {
  "kernelspec": {
   "display_name": "Python 3",
   "language": "python",
   "name": "python3"
  },
  "language_info": {
   "codemirror_mode": {
    "name": "ipython",
    "version": 3
   },
   "file_extension": ".py",
   "mimetype": "text/x-python",
   "name": "python",
   "nbconvert_exporter": "python",
   "pygments_lexer": "ipython3",
   "version": "3.6.15"
  },
  "papermill": {
   "default_parameters": {},
   "duration": 12.157122,
   "end_time": "2022-04-08T02:44:47.518653",
   "environment_variables": {},
   "exception": null,
   "input_path": "Market-News.ipynb",
   "output_path": "Market-News.ipynb",
   "parameters": {},
   "start_time": "2022-04-08T02:44:35.361531",
   "version": "2.2.2"
  }
 },
 "nbformat": 4,
 "nbformat_minor": 5
}