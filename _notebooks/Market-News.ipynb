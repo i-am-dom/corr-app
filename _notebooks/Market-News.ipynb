{
 "cells": [
  {
   "cell_type": "markdown",
   "id": "short-greensboro",
   "metadata": {
    "papermill": {
     "duration": 0.013561,
     "end_time": "2022-01-03T02:06:24.059543",
     "exception": false,
     "start_time": "2022-01-03T02:06:24.045982",
     "status": "completed"
    },
    "tags": []
   },
   "source": [
    "# Kriptovaliutų naujienos"
   ]
  },
  {
   "cell_type": "code",
   "execution_count": 1,
   "id": "functioning-knowing",
   "metadata": {
    "execution": {
     "iopub.execute_input": "2022-01-03T02:06:24.088969Z",
     "iopub.status.busy": "2022-01-03T02:06:24.088428Z",
     "iopub.status.idle": "2022-01-03T02:06:25.363355Z",
     "shell.execute_reply": "2022-01-03T02:06:25.362789Z"
    },
    "papermill": {
     "duration": 1.294247,
     "end_time": "2022-01-03T02:06:25.363522",
     "exception": false,
     "start_time": "2022-01-03T02:06:24.069275",
     "status": "completed"
    },
    "tags": []
   },
   "outputs": [],
   "source": [
    "#hide_input\n",
    "import warnings\n",
    "warnings.filterwarnings('ignore')\n",
    "from scripts.read_data import read_api\n",
    "from scripts.read_data import read_news\n",
    "from scripts.read_data import read_covid\n",
    "import matplotlib.pyplot as plt \n",
    "from IPython.display import Markdown as md"
   ]
  },
  {
   "cell_type": "code",
   "execution_count": 2,
   "id": "shared-acceptance",
   "metadata": {
    "execution": {
     "iopub.execute_input": "2022-01-03T02:06:25.388891Z",
     "iopub.status.busy": "2022-01-03T02:06:25.387949Z",
     "iopub.status.idle": "2022-01-03T02:06:35.187188Z",
     "shell.execute_reply": "2022-01-03T02:06:35.187644Z"
    },
    "papermill": {
     "duration": 9.814789,
     "end_time": "2022-01-03T02:06:35.187802",
     "exception": false,
     "start_time": "2022-01-03T02:06:25.373013",
     "status": "completed"
    },
    "tags": []
   },
   "outputs": [],
   "source": [
    "#hide_input\n",
    "blockchain = read_news('blockchain') \n",
    "btc = read_news('btc') \n",
    "xrp = read_news('xrp') \n",
    "trx = read_news('trx') \n",
    "eth = read_news('eth')  \n",
    "ada = read_news('ada')\n",
    "exchange = read_news('exchange') "
   ]
  },
  {
   "cell_type": "code",
   "execution_count": 3,
   "id": "synthetic-notion",
   "metadata": {
    "execution": {
     "iopub.execute_input": "2022-01-03T02:06:35.212285Z",
     "iopub.status.busy": "2022-01-03T02:06:35.211726Z",
     "iopub.status.idle": "2022-01-03T02:06:35.213907Z",
     "shell.execute_reply": "2022-01-03T02:06:35.214309Z"
    },
    "papermill": {
     "duration": 0.017283,
     "end_time": "2022-01-03T02:06:35.214434",
     "exception": false,
     "start_time": "2022-01-03T02:06:35.197151",
     "status": "completed"
    },
    "tags": []
   },
   "outputs": [
    {
     "data": {
      "text/markdown": [
       "- Andy Yen On Using BTC to Enhance Privacy Measures.  Andy Yen is the CEO of Proton, a privacy-focused company that has established a new encrypted email service. Now, the firm is working on bringing outside privacy tools onboard, some of which stem from bitcoin and blockchain technology. Andy Yen On Bringing BTC to the Table Yen sat down to an interview in which he...The post Andy Yen On Using BTC to Enhance Privacy Measures appeared first on Live Bitcoin News. ... [| Skaityti daugiau](https://www.livebitcoinnews.com/andy-yen-on-using-btc-to-enhance-privacy/) "
      ],
      "text/plain": [
       "<IPython.core.display.Markdown object>"
      ]
     },
     "execution_count": 3,
     "metadata": {},
     "output_type": "execute_result"
    }
   ],
   "source": [
    "#hide_input\n",
    "#md('##### {}'.format(titleBTC)) \n",
    "md(\"- {}{} {}{} [| Skaityti daugiau]({}) \".format(blockchain['title'],'. ', blockchain['body'], ' ...', blockchain['url']))"
   ]
  },
  {
   "cell_type": "code",
   "execution_count": 4,
   "id": "aging-caution",
   "metadata": {
    "execution": {
     "iopub.execute_input": "2022-01-03T02:06:35.237912Z",
     "iopub.status.busy": "2022-01-03T02:06:35.237311Z",
     "iopub.status.idle": "2022-01-03T02:06:35.239379Z",
     "shell.execute_reply": "2022-01-03T02:06:35.239807Z"
    },
    "papermill": {
     "duration": 0.016213,
     "end_time": "2022-01-03T02:06:35.239925",
     "exception": false,
     "start_time": "2022-01-03T02:06:35.223712",
     "status": "completed"
    },
    "tags": []
   },
   "outputs": [
    {
     "data": {
      "text/markdown": [
       "- Wharton’s Professor Warns About Inflation, Predicts Many Rate Hikes, Says Bitcoin Has Replaced Gold for Millennials.  A finance professor at the Wharton School of the University of Pennsylvania has warned about inflation and the Fed hiking rates many more times than the market expects. He also said that bitcoin has become the new gold for the millennials. Finance Professor on Bitcoin and Inflation Wharton&#x2019;s finance professor Jeremy Siegel shared his outlook [&#8230;] ... [| Skaityti daugiau](https://news.bitcoin.com/whartons-professor-warns-inflation-predicts-many-rate-hikes-bitcoin-has-replaced-gold-for-millennials/) "
      ],
      "text/plain": [
       "<IPython.core.display.Markdown object>"
      ]
     },
     "execution_count": 4,
     "metadata": {},
     "output_type": "execute_result"
    }
   ],
   "source": [
    "#hide_input\n",
    "#md('##### {}'.format(titleBTC)) \n",
    "md(\"- {}{} {}{} [| Skaityti daugiau]({}) \".format(btc['title'],'. ', btc['body'], ' ...', btc['url']))"
   ]
  },
  {
   "cell_type": "code",
   "execution_count": 5,
   "id": "organic-actress",
   "metadata": {
    "execution": {
     "iopub.execute_input": "2022-01-03T02:06:35.263405Z",
     "iopub.status.busy": "2022-01-03T02:06:35.262905Z",
     "iopub.status.idle": "2022-01-03T02:06:35.265635Z",
     "shell.execute_reply": "2022-01-03T02:06:35.266114Z"
    },
    "papermill": {
     "duration": 0.016797,
     "end_time": "2022-01-03T02:06:35.266225",
     "exception": false,
     "start_time": "2022-01-03T02:06:35.249428",
     "status": "completed"
    },
    "tags": []
   },
   "outputs": [
    {
     "data": {
      "text/markdown": [
       "- XRP, Uniswap, Aave Price Analysis: 02 January.  The past week was a hindrance to the overall recovery phase that sprang from the long-term supports of most cryptos. Thus, Uniswap and Aave broke down from their 61.8% resistance levels while displaying a weak directional trend. On the other hand, XRP initiated a down-channel breakout with a slight bearish preference. XRP XRP bolstered its [&#8230;] ... [| Skaityti daugiau](https://ambcrypto.com/xrp-uniswap-aave-price-analysis-02-january/) "
      ],
      "text/plain": [
       "<IPython.core.display.Markdown object>"
      ]
     },
     "execution_count": 5,
     "metadata": {},
     "output_type": "execute_result"
    }
   ],
   "source": [
    "#hide_input\n",
    "#md('##### {}'.format(titleBTC)) \n",
    "md(\"- {}{} {}{} [| Skaityti daugiau]({}) \".format(xrp['title'],'. ', xrp['body'], ' ...', xrp['url']))"
   ]
  },
  {
   "cell_type": "code",
   "execution_count": 6,
   "id": "prompt-farmer",
   "metadata": {
    "execution": {
     "iopub.execute_input": "2022-01-03T02:06:35.289793Z",
     "iopub.status.busy": "2022-01-03T02:06:35.289297Z",
     "iopub.status.idle": "2022-01-03T02:06:35.292300Z",
     "shell.execute_reply": "2022-01-03T02:06:35.291873Z"
    },
    "papermill": {
     "duration": 0.016393,
     "end_time": "2022-01-03T02:06:35.292403",
     "exception": false,
     "start_time": "2022-01-03T02:06:35.276010",
     "status": "completed"
    },
    "tags": []
   },
   "outputs": [
    {
     "data": {
      "text/markdown": [
       "- Binance Coin, Tron, EOS Price Analysis: 29 December.  The fear sentiment heightened as Bitcoin re-enters the $47,000 zone. As a result, altcoins like Binance Coin, Tron and EOS saw a blip in their recovery. The aforestated cryptos fell below their 20-50-200 SMA, as the bears evidently displayed their edge. Binance Coin (BNB) Over the past few days, BNB formed a symmetrical broadening wedge [&#8230;] ... [| Skaityti daugiau](https://ambcrypto.com/binance-coin-tron-eos-price-analysis-29-december/) "
      ],
      "text/plain": [
       "<IPython.core.display.Markdown object>"
      ]
     },
     "execution_count": 6,
     "metadata": {},
     "output_type": "execute_result"
    }
   ],
   "source": [
    "#hide_input\n",
    "#md('##### {}'.format(titleBTC)) \n",
    "md(\"- {}{} {}{} [| Skaityti daugiau]({}) \".format(trx['title'],'. ', trx['body'], ' ...', trx['url']))"
   ]
  },
  {
   "cell_type": "code",
   "execution_count": 7,
   "id": "illegal-greece",
   "metadata": {
    "execution": {
     "iopub.execute_input": "2022-01-03T02:06:35.316782Z",
     "iopub.status.busy": "2022-01-03T02:06:35.316275Z",
     "iopub.status.idle": "2022-01-03T02:06:35.319221Z",
     "shell.execute_reply": "2022-01-03T02:06:35.318796Z"
    },
    "papermill": {
     "duration": 0.01663,
     "end_time": "2022-01-03T02:06:35.319317",
     "exception": false,
     "start_time": "2022-01-03T02:06:35.302687",
     "status": "completed"
    },
    "tags": []
   },
   "outputs": [
    {
     "data": {
      "text/markdown": [
       "- Popular Crypto Analyst Explains Why He Is Bullish on $ETH, $EGLD, and $MATIC.  Recently, highly popular New Zealand-based crypto analyst and influencer LArk Davis talked about why he feels confident that Ethereum ($ETH), Elrond ($EGLD), and Polygon ($MATIC) are good projects to bet on in 2022. David talked about his top three altcoin picks for 2022 in a YouTube video he released 10 days ago. According to a […] ... [| Skaityti daugiau](https://www.cryptoglobe.com/latest/2022/01/popular-crypto-analyst-explains-why-he-is-bullish-on-eth-egld-and-matic/) "
      ],
      "text/plain": [
       "<IPython.core.display.Markdown object>"
      ]
     },
     "execution_count": 7,
     "metadata": {},
     "output_type": "execute_result"
    }
   ],
   "source": [
    "#hide_input\n",
    "#md('##### {}'.format(titleBTC)) \n",
    "md(\"- {}{} {}{} [| Skaityti daugiau]({}) \".format(eth['title'],'. ', eth['body'], ' ...', eth['url']))"
   ]
  },
  {
   "cell_type": "code",
   "execution_count": 8,
   "id": "sublime-lounge",
   "metadata": {
    "execution": {
     "iopub.execute_input": "2022-01-03T02:06:35.344474Z",
     "iopub.status.busy": "2022-01-03T02:06:35.343945Z",
     "iopub.status.idle": "2022-01-03T02:06:35.347117Z",
     "shell.execute_reply": "2022-01-03T02:06:35.346692Z"
    },
    "papermill": {
     "duration": 0.017461,
     "end_time": "2022-01-03T02:06:35.347213",
     "exception": false,
     "start_time": "2022-01-03T02:06:35.329752",
     "status": "completed"
    },
    "tags": []
   },
   "outputs": [
    {
     "data": {
      "text/markdown": [
       "- $ADA: ‘The Sweetest Decentralized Exchange on Cardano’ Now Security Audited.  SundaeSwap, which calls itself “the sweetest decentralized exchange on Cardano”, has made an important security-related announcement. What I SundaeSwap ($SUNDAE)? SundaeSwap is “a native, scalable decentralized exchange and automated liquidity provision protocol”. It is backed by cFund (“an early-stage sector agnostic venture firm in the Blockchain industry anchored by IOHK and managed by Wave Financial”); Alameda Research (the quantitative cryptocurrency […] ... [| Skaityti daugiau](https://www.cryptoglobe.com/latest/2022/01/ada-the-sweetest-decentralized-exchange-on-cardano-now-security-audited/) "
      ],
      "text/plain": [
       "<IPython.core.display.Markdown object>"
      ]
     },
     "execution_count": 8,
     "metadata": {},
     "output_type": "execute_result"
    }
   ],
   "source": [
    "#hide_input\n",
    "#md('##### {}'.format(titleBTC)) \n",
    "md(\"- {}{} {}{} [| Skaityti daugiau]({}) \".format(ada['title'],'. ', ada['body'], ' ...', ada['url']))"
   ]
  },
  {
   "cell_type": "code",
   "execution_count": 9,
   "id": "specified-ordering",
   "metadata": {
    "execution": {
     "iopub.execute_input": "2022-01-03T02:06:35.372674Z",
     "iopub.status.busy": "2022-01-03T02:06:35.371669Z",
     "iopub.status.idle": "2022-01-03T02:06:35.375083Z",
     "shell.execute_reply": "2022-01-03T02:06:35.375542Z"
    },
    "papermill": {
     "duration": 0.017704,
     "end_time": "2022-01-03T02:06:35.375659",
     "exception": false,
     "start_time": "2022-01-03T02:06:35.357955",
     "status": "completed"
    },
    "tags": []
   },
   "outputs": [
    {
     "data": {
      "text/markdown": [
       "- Kraken and Staked Come Together in the Exchange’s 5th Acquisition This Year.  Kraken – a crypto exchange based in San Francisco, CA and arguably one of the most popular in the United States – has acquired a staking platform simply known as “Staked” for an undisclosed sum. Kraken Gets Its Hands On Staked According to a statement, Kraken’s acquisition of the company is one of the “largest...The post Kraken and Staked Come Together in the Exchange&#8217;s 5th Acquisition This Year appeared first on Live Bitcoin News. ... [| Skaityti daugiau](https://www.livebitcoinnews.com/kraken-and-staked-come-together-in-the-exchanges-5th-acquisition-this-year/) "
      ],
      "text/plain": [
       "<IPython.core.display.Markdown object>"
      ]
     },
     "execution_count": 9,
     "metadata": {},
     "output_type": "execute_result"
    }
   ],
   "source": [
    "#hide_input\n",
    "#md('##### {}'.format(titleBTC)) \n",
    "md(\"- {}{} {}{} [| Skaityti daugiau]({}) \".format(exchange['title'],'. ', exchange['body'], ' ...', exchange['url']))"
   ]
  },
  {
   "cell_type": "code",
   "execution_count": null,
   "id": "tender-livestock",
   "metadata": {
    "papermill": {
     "duration": 0.011019,
     "end_time": "2022-01-03T02:06:35.397734",
     "exception": false,
     "start_time": "2022-01-03T02:06:35.386715",
     "status": "completed"
    },
    "tags": []
   },
   "outputs": [],
   "source": []
  },
  {
   "cell_type": "code",
   "execution_count": null,
   "id": "appreciated-diamond",
   "metadata": {
    "papermill": {
     "duration": 0.011113,
     "end_time": "2022-01-03T02:06:35.420277",
     "exception": false,
     "start_time": "2022-01-03T02:06:35.409164",
     "status": "completed"
    },
    "tags": []
   },
   "outputs": [],
   "source": []
  },
  {
   "cell_type": "code",
   "execution_count": null,
   "id": "romance-sweden",
   "metadata": {
    "papermill": {
     "duration": 0.010948,
     "end_time": "2022-01-03T02:06:35.442284",
     "exception": false,
     "start_time": "2022-01-03T02:06:35.431336",
     "status": "completed"
    },
    "tags": []
   },
   "outputs": [],
   "source": []
  },
  {
   "cell_type": "code",
   "execution_count": null,
   "id": "dietary-statistics",
   "metadata": {
    "papermill": {
     "duration": 0.011001,
     "end_time": "2022-01-03T02:06:35.464333",
     "exception": false,
     "start_time": "2022-01-03T02:06:35.453332",
     "status": "completed"
    },
    "tags": []
   },
   "outputs": [],
   "source": []
  }
 ],
 "metadata": {
  "kernelspec": {
   "display_name": "Python 3",
   "language": "python",
   "name": "python3"
  },
  "language_info": {
   "codemirror_mode": {
    "name": "ipython",
    "version": 3
   },
   "file_extension": ".py",
   "mimetype": "text/x-python",
   "name": "python",
   "nbconvert_exporter": "python",
   "pygments_lexer": "ipython3",
   "version": "3.6.15"
  },
  "papermill": {
   "default_parameters": {},
   "duration": 12.86396,
   "end_time": "2022-01-03T02:06:35.983948",
   "environment_variables": {},
   "exception": null,
   "input_path": "Market-News.ipynb",
   "output_path": "Market-News.ipynb",
   "parameters": {},
   "start_time": "2022-01-03T02:06:23.119988",
   "version": "2.2.2"
  }
 },
 "nbformat": 4,
 "nbformat_minor": 5
}