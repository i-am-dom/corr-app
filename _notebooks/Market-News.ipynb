{
 "cells": [
  {
   "cell_type": "markdown",
   "id": "short-greensboro",
   "metadata": {
    "papermill": {
     "duration": 0.018464,
     "end_time": "2022-10-23T03:36:49.496604",
     "exception": false,
     "start_time": "2022-10-23T03:36:49.478140",
     "status": "completed"
    },
    "tags": []
   },
   "source": [
    "# Kriptovaliutų naujienos"
   ]
  },
  {
   "cell_type": "code",
   "execution_count": 1,
   "id": "functioning-knowing",
   "metadata": {
    "execution": {
     "iopub.execute_input": "2022-10-23T03:36:49.539660Z",
     "iopub.status.busy": "2022-10-23T03:36:49.538412Z",
     "iopub.status.idle": "2022-10-23T03:36:51.112903Z",
     "shell.execute_reply": "2022-10-23T03:36:51.113534Z"
    },
    "papermill": {
     "duration": 1.605479,
     "end_time": "2022-10-23T03:36:51.113742",
     "exception": false,
     "start_time": "2022-10-23T03:36:49.508263",
     "status": "completed"
    },
    "tags": []
   },
   "outputs": [],
   "source": [
    "#hide_input\n",
    "import warnings\n",
    "warnings.filterwarnings('ignore')\n",
    "from scripts.read_data import read_api\n",
    "from scripts.read_data import read_news\n",
    "from scripts.read_data import read_covid\n",
    "import matplotlib.pyplot as plt \n",
    "from IPython.display import Markdown as md"
   ]
  },
  {
   "cell_type": "code",
   "execution_count": 2,
   "id": "shared-acceptance",
   "metadata": {
    "execution": {
     "iopub.execute_input": "2022-10-23T03:36:51.143987Z",
     "iopub.status.busy": "2022-10-23T03:36:51.142699Z",
     "iopub.status.idle": "2022-10-23T03:37:05.178749Z",
     "shell.execute_reply": "2022-10-23T03:37:05.178081Z"
    },
    "papermill": {
     "duration": 14.054388,
     "end_time": "2022-10-23T03:37:05.178887",
     "exception": false,
     "start_time": "2022-10-23T03:36:51.124499",
     "status": "completed"
    },
    "tags": []
   },
   "outputs": [],
   "source": [
    "#hide_input\n",
    "blockchain = read_news('blockchain') \n",
    "btc = read_news('btc') \n",
    "xrp = read_news('xrp') \n",
    "trx = read_news('trx') \n",
    "eth = read_news('eth')  \n",
    "ada = read_news('ada')\n",
    "exchange = read_news('exchange') "
   ]
  },
  {
   "cell_type": "code",
   "execution_count": 3,
   "id": "synthetic-notion",
   "metadata": {
    "execution": {
     "iopub.execute_input": "2022-10-23T03:37:05.210715Z",
     "iopub.status.busy": "2022-10-23T03:37:05.209880Z",
     "iopub.status.idle": "2022-10-23T03:37:05.215950Z",
     "shell.execute_reply": "2022-10-23T03:37:05.215227Z"
    },
    "papermill": {
     "duration": 0.026098,
     "end_time": "2022-10-23T03:37:05.216083",
     "exception": false,
     "start_time": "2022-10-23T03:37:05.189985",
     "status": "completed"
    },
    "tags": []
   },
   "outputs": [
    {
     "data": {
      "text/markdown": [
       "- The Merge: an Introduction to Ethereum’s PoW to PoS Transition.  The Merge describes the merger of Ethereum's existing mainnet, which employs proof-of-work, and a separate proof-of-stake blockchain dubbed Beacon Chain.Continue reading The Merge: an Introduction to Ethereum&#8217;s PoW to PoS Transition at DailyCoin.com. ... [| Skaityti daugiau](https://dailycoin.com/the-merge-an-introduction-to-ethereums-pow-to-pos-transition/) "
      ],
      "text/plain": [
       "<IPython.core.display.Markdown object>"
      ]
     },
     "execution_count": 3,
     "metadata": {},
     "output_type": "execute_result"
    }
   ],
   "source": [
    "#hide_input\n",
    "#md('##### {}'.format(titleBTC)) \n",
    "md(\"- {}{} {}{} [| Skaityti daugiau]({}) \".format(blockchain['title'],'. ', blockchain['body'], ' ...', blockchain['url']))"
   ]
  },
  {
   "cell_type": "code",
   "execution_count": 4,
   "id": "aging-caution",
   "metadata": {
    "execution": {
     "iopub.execute_input": "2022-10-23T03:37:05.248323Z",
     "iopub.status.busy": "2022-10-23T03:37:05.246527Z",
     "iopub.status.idle": "2022-10-23T03:37:05.251203Z",
     "shell.execute_reply": "2022-10-23T03:37:05.250574Z"
    },
    "papermill": {
     "duration": 0.023384,
     "end_time": "2022-10-23T03:37:05.251348",
     "exception": false,
     "start_time": "2022-10-23T03:37:05.227964",
     "status": "completed"
    },
    "tags": []
   },
   "outputs": [
    {
     "data": {
      "text/markdown": [
       "- Progressives Misunderstand Bitcoin Because They’ve Lost Their Way.  The Progressive party does not always represent progressive ideals. Bitcoin is one such example where the values of progressivism do not align with politics. ... [| Skaityti daugiau](https://bitcoinmagazine.com/culture/progressives-misunderstand-bitcoin) "
      ],
      "text/plain": [
       "<IPython.core.display.Markdown object>"
      ]
     },
     "execution_count": 4,
     "metadata": {},
     "output_type": "execute_result"
    }
   ],
   "source": [
    "#hide_input\n",
    "#md('##### {}'.format(titleBTC)) \n",
    "md(\"- {}{} {}{} [| Skaityti daugiau]({}) \".format(btc['title'],'. ', btc['body'], ' ...', btc['url']))"
   ]
  },
  {
   "cell_type": "code",
   "execution_count": 5,
   "id": "organic-actress",
   "metadata": {
    "execution": {
     "iopub.execute_input": "2022-10-23T03:37:05.283766Z",
     "iopub.status.busy": "2022-10-23T03:37:05.279491Z",
     "iopub.status.idle": "2022-10-23T03:37:05.286729Z",
     "shell.execute_reply": "2022-10-23T03:37:05.287452Z"
    },
    "papermill": {
     "duration": 0.023988,
     "end_time": "2022-10-23T03:37:05.287615",
     "exception": false,
     "start_time": "2022-10-23T03:37:05.263627",
     "status": "completed"
    },
    "tags": []
   },
   "outputs": [
    {
     "data": {
      "text/markdown": [
       "- This Week in Coins: More Flat Prices, Bitcoin Less Volatile Than Stocks.  Coins remain flat, crypto-friendly Berlin bank Nuri will shutter, and Ripple broke new ground in its lawsuit with the SEC. ... [| Skaityti daugiau](https://decrypt.co/112656/this-week-in-coins-more-flat-prices-bitcoin-less-volatile-than-stocks) "
      ],
      "text/plain": [
       "<IPython.core.display.Markdown object>"
      ]
     },
     "execution_count": 5,
     "metadata": {},
     "output_type": "execute_result"
    }
   ],
   "source": [
    "#hide_input\n",
    "#md('##### {}'.format(titleBTC)) \n",
    "md(\"- {}{} {}{} [| Skaityti daugiau]({}) \".format(xrp['title'],'. ', xrp['body'], ' ...', xrp['url']))"
   ]
  },
  {
   "cell_type": "code",
   "execution_count": 6,
   "id": "prompt-farmer",
   "metadata": {
    "execution": {
     "iopub.execute_input": "2022-10-23T03:37:05.322917Z",
     "iopub.status.busy": "2022-10-23T03:37:05.322181Z",
     "iopub.status.idle": "2022-10-23T03:37:05.330221Z",
     "shell.execute_reply": "2022-10-23T03:37:05.329316Z"
    },
    "papermill": {
     "duration": 0.027225,
     "end_time": "2022-10-23T03:37:05.330371",
     "exception": false,
     "start_time": "2022-10-23T03:37:05.303146",
     "status": "completed"
    },
    "tags": []
   },
   "outputs": [
    {
     "data": {
      "text/markdown": [
       "- Tron Development Activity Grows In The Last 7 Days – Except TRX Price.  Tron (TRX) welcomed the second week of this month with the news of its coin becoming a legal tender in the Commonwealth of Dominica announced by no less than its blockchain founder, Justin Sun. Technical indicators for TRON are confusing as of this time TRX could surge all the way to $0.0678 after 30 days Tron network’s development activity surges over the last few days With the development, the crypto, along with other Tron minted coins such as BTT, JST, NFT, USDD, USDT and TUSD, can now be used as medium of exchange within the island nation. Meanwhile, just last September, Sun shared on Twitter that since October 28, 2021, the total number of burned TRX tokens reached 11 billion, dropping the asset’s supply to 71.6 billion. The 15th largest cryptocurrency in terms of market capitalization also recently racked up another achievement, placing 3rd on the list of the most influential BTTs over the last 30 days. BTTs are TRC-20 utility tokens used for powering various features of different decentralized applications and programs. But even with all of these accomplishments, TRX failed to make any significant rally to push its prices to higher levels. TRX Price Still Unable To Take Off At press time, according to data from Coingecko, TRON is trading at $0.0623 and although it is up by 2.2% over the last seven days and by 4.3% for the past 30 days. Related Reading: AVAX Sheds 50% Over The Last 60 Days – More Losses Ahead? Source: Tr... ... [| Skaityti daugiau](https://www.newsbtc.com/news/tron-development-activity-grows-in-the-last-7-days-except-trx-price/) "
      ],
      "text/plain": [
       "<IPython.core.display.Markdown object>"
      ]
     },
     "execution_count": 6,
     "metadata": {},
     "output_type": "execute_result"
    }
   ],
   "source": [
    "#hide_input\n",
    "#md('##### {}'.format(titleBTC)) \n",
    "md(\"- {}{} {}{} [| Skaityti daugiau]({}) \".format(trx['title'],'. ', trx['body'], ' ...', trx['url']))"
   ]
  },
  {
   "cell_type": "code",
   "execution_count": 7,
   "id": "illegal-greece",
   "metadata": {
    "execution": {
     "iopub.execute_input": "2022-10-23T03:37:05.366113Z",
     "iopub.status.busy": "2022-10-23T03:37:05.364645Z",
     "iopub.status.idle": "2022-10-23T03:37:05.368946Z",
     "shell.execute_reply": "2022-10-23T03:37:05.368390Z"
    },
    "papermill": {
     "duration": 0.026521,
     "end_time": "2022-10-23T03:37:05.369079",
     "exception": false,
     "start_time": "2022-10-23T03:37:05.342558",
     "status": "completed"
    },
    "tags": []
   },
   "outputs": [
    {
     "data": {
      "text/markdown": [
       "- The Merge: an Introduction to Ethereum’s PoW to PoS Transition.  The Merge describes the merger of Ethereum's existing mainnet, which employs proof-of-work, and a separate proof-of-stake blockchain dubbed Beacon Chain.Continue reading The Merge: an Introduction to Ethereum&#8217;s PoW to PoS Transition at DailyCoin.com. ... [| Skaityti daugiau](https://dailycoin.com/the-merge-an-introduction-to-ethereums-pow-to-pos-transition/) "
      ],
      "text/plain": [
       "<IPython.core.display.Markdown object>"
      ]
     },
     "execution_count": 7,
     "metadata": {},
     "output_type": "execute_result"
    }
   ],
   "source": [
    "#hide_input\n",
    "#md('##### {}'.format(titleBTC)) \n",
    "md(\"- {}{} {}{} [| Skaityti daugiau]({}) \".format(eth['title'],'. ', eth['body'], ' ...', eth['url']))"
   ]
  },
  {
   "cell_type": "code",
   "execution_count": 8,
   "id": "sublime-lounge",
   "metadata": {
    "execution": {
     "iopub.execute_input": "2022-10-23T03:37:05.402830Z",
     "iopub.status.busy": "2022-10-23T03:37:05.401948Z",
     "iopub.status.idle": "2022-10-23T03:37:05.406165Z",
     "shell.execute_reply": "2022-10-23T03:37:05.405476Z"
    },
    "papermill": {
     "duration": 0.024624,
     "end_time": "2022-10-23T03:37:05.406299",
     "exception": false,
     "start_time": "2022-10-23T03:37:05.381675",
     "status": "completed"
    },
    "tags": []
   },
   "outputs": [
    {
     "data": {
      "text/markdown": [
       "- Uniglo.io 55% Price Increase Leaves Holder Stunned. Cardano And Fantom Are Still A Viable Options To Invest In.  DeFi tokens will see fantastic gains in the coming bull market. As DeFi’s value proposition expands and it introduces novel services, more and more capital will enter the space. DeFi already provides fantastic APYs (Annual Percentage Yields) compared to TradFi, and growing amounts of liquidity chase these attractive rates. A new Ethereum-based protocol is swallowing [&#8230;]The post Uniglo.io 55% Price Increase Leaves Holder Stunned. Cardano And Fantom Are Still A Viable Options To Invest In appeared first on NullTX. ... [| Skaityti daugiau](https://nulltx.com/uniglo-io-55-price-increase-leaves-holder-stunned-cardano-and-fantom-are-still-a-viable-options-to-invest-in/) "
      ],
      "text/plain": [
       "<IPython.core.display.Markdown object>"
      ]
     },
     "execution_count": 8,
     "metadata": {},
     "output_type": "execute_result"
    }
   ],
   "source": [
    "#hide_input\n",
    "#md('##### {}'.format(titleBTC)) \n",
    "md(\"- {}{} {}{} [| Skaityti daugiau]({}) \".format(ada['title'],'. ', ada['body'], ' ...', ada['url']))"
   ]
  },
  {
   "cell_type": "code",
   "execution_count": 9,
   "id": "specified-ordering",
   "metadata": {
    "execution": {
     "iopub.execute_input": "2022-10-23T03:37:05.440955Z",
     "iopub.status.busy": "2022-10-23T03:37:05.439973Z",
     "iopub.status.idle": "2022-10-23T03:37:05.447631Z",
     "shell.execute_reply": "2022-10-23T03:37:05.446951Z"
    },
    "papermill": {
     "duration": 0.028433,
     "end_time": "2022-10-23T03:37:05.447776",
     "exception": false,
     "start_time": "2022-10-23T03:37:05.419343",
     "status": "completed"
    },
    "tags": []
   },
   "outputs": [
    {
     "data": {
      "text/markdown": [
       "- CFTC Says Over 20% Of Cases It Handled This Year Involved Crypto.  The CFTC (Commodity Futures Trading Commission) and the Securities Exchange Commission (SEC) are two regulating offices in U.S. that have been the subjects of a number of debates as to who should have oversight on the crypto market and the illicit activities that involve cryptocurrencies. It is public knowledge that the SEC wants nothing less [&#8230;] ... [| Skaityti daugiau](https://bitcoinist.com/cftc-handles-20-of-crypto-related-cases/) "
      ],
      "text/plain": [
       "<IPython.core.display.Markdown object>"
      ]
     },
     "execution_count": 9,
     "metadata": {},
     "output_type": "execute_result"
    }
   ],
   "source": [
    "#hide_input\n",
    "#md('##### {}'.format(titleBTC)) \n",
    "md(\"- {}{} {}{} [| Skaityti daugiau]({}) \".format(exchange['title'],'. ', exchange['body'], ' ...', exchange['url']))"
   ]
  },
  {
   "cell_type": "code",
   "execution_count": null,
   "id": "tender-livestock",
   "metadata": {
    "papermill": {
     "duration": 0.013437,
     "end_time": "2022-10-23T03:37:05.475298",
     "exception": false,
     "start_time": "2022-10-23T03:37:05.461861",
     "status": "completed"
    },
    "tags": []
   },
   "outputs": [],
   "source": []
  },
  {
   "cell_type": "code",
   "execution_count": null,
   "id": "appreciated-diamond",
   "metadata": {
    "papermill": {
     "duration": 0.013674,
     "end_time": "2022-10-23T03:37:05.502891",
     "exception": false,
     "start_time": "2022-10-23T03:37:05.489217",
     "status": "completed"
    },
    "tags": []
   },
   "outputs": [],
   "source": []
  },
  {
   "cell_type": "code",
   "execution_count": null,
   "id": "romance-sweden",
   "metadata": {
    "papermill": {
     "duration": 0.013409,
     "end_time": "2022-10-23T03:37:05.529935",
     "exception": false,
     "start_time": "2022-10-23T03:37:05.516526",
     "status": "completed"
    },
    "tags": []
   },
   "outputs": [],
   "source": []
  },
  {
   "cell_type": "code",
   "execution_count": null,
   "id": "dietary-statistics",
   "metadata": {
    "papermill": {
     "duration": 0.013671,
     "end_time": "2022-10-23T03:37:05.561789",
     "exception": false,
     "start_time": "2022-10-23T03:37:05.548118",
     "status": "completed"
    },
    "tags": []
   },
   "outputs": [],
   "source": []
  }
 ],
 "metadata": {
  "kernelspec": {
   "display_name": "Python 3",
   "language": "python",
   "name": "python3"
  },
  "language_info": {
   "codemirror_mode": {
    "name": "ipython",
    "version": 3
   },
   "file_extension": ".py",
   "mimetype": "text/x-python",
   "name": "python",
   "nbconvert_exporter": "python",
   "pygments_lexer": "ipython3",
   "version": "3.6.15"
  },
  "papermill": {
   "default_parameters": {},
   "duration": 18.094968,
   "end_time": "2022-10-23T03:37:06.197615",
   "environment_variables": {},
   "exception": null,
   "input_path": "Market-News.ipynb",
   "output_path": "Market-News.ipynb",
   "parameters": {},
   "start_time": "2022-10-23T03:36:48.102647",
   "version": "2.2.2"
  }
 },
 "nbformat": 4,
 "nbformat_minor": 5
}