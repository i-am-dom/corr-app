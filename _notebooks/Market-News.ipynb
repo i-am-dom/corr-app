{
 "cells": [
  {
   "cell_type": "markdown",
   "id": "short-greensboro",
   "metadata": {
    "papermill": {
     "duration": 0.013772,
     "end_time": "2021-09-12T02:01:26.380672",
     "exception": false,
     "start_time": "2021-09-12T02:01:26.366900",
     "status": "completed"
    },
    "tags": []
   },
   "source": [
    "# Kriptovaliutų naujienos"
   ]
  },
  {
   "cell_type": "code",
   "execution_count": 1,
   "id": "functioning-knowing",
   "metadata": {
    "execution": {
     "iopub.execute_input": "2021-09-12T02:01:26.409076Z",
     "iopub.status.busy": "2021-09-12T02:01:26.406412Z",
     "iopub.status.idle": "2021-09-12T02:01:27.560226Z",
     "shell.execute_reply": "2021-09-12T02:01:27.559688Z"
    },
    "papermill": {
     "duration": 1.170251,
     "end_time": "2021-09-12T02:01:27.560378",
     "exception": false,
     "start_time": "2021-09-12T02:01:26.390127",
     "status": "completed"
    },
    "tags": []
   },
   "outputs": [],
   "source": [
    "#hide_input\n",
    "import warnings\n",
    "warnings.filterwarnings('ignore')\n",
    "from scripts.read_data import read_api\n",
    "from scripts.read_data import read_news\n",
    "from scripts.read_data import read_covid\n",
    "import matplotlib.pyplot as plt \n",
    "from IPython.display import Markdown as md"
   ]
  },
  {
   "cell_type": "code",
   "execution_count": 2,
   "id": "shared-acceptance",
   "metadata": {
    "execution": {
     "iopub.execute_input": "2021-09-12T02:01:27.584140Z",
     "iopub.status.busy": "2021-09-12T02:01:27.583638Z",
     "iopub.status.idle": "2021-09-12T02:01:36.855905Z",
     "shell.execute_reply": "2021-09-12T02:01:36.855374Z"
    },
    "papermill": {
     "duration": 9.28631,
     "end_time": "2021-09-12T02:01:36.856046",
     "exception": false,
     "start_time": "2021-09-12T02:01:27.569736",
     "status": "completed"
    },
    "tags": []
   },
   "outputs": [],
   "source": [
    "#hide_input\n",
    "blockchain = read_news('blockchain') \n",
    "btc = read_news('btc') \n",
    "xrp = read_news('xrp') \n",
    "trx = read_news('trx') \n",
    "eth = read_news('eth')  \n",
    "ada = read_news('ada')\n",
    "exchange = read_news('exchange') "
   ]
  },
  {
   "cell_type": "code",
   "execution_count": 3,
   "id": "synthetic-notion",
   "metadata": {
    "execution": {
     "iopub.execute_input": "2021-09-12T02:01:36.880842Z",
     "iopub.status.busy": "2021-09-12T02:01:36.880329Z",
     "iopub.status.idle": "2021-09-12T02:01:36.885331Z",
     "shell.execute_reply": "2021-09-12T02:01:36.884936Z"
    },
    "papermill": {
     "duration": 0.019004,
     "end_time": "2021-09-12T02:01:36.885432",
     "exception": false,
     "start_time": "2021-09-12T02:01:36.866428",
     "status": "completed"
    },
    "tags": []
   },
   "outputs": [
    {
     "data": {
      "text/markdown": [
       "- Cardano Finally Ousting Ethereum? — Expect The Unexpected As Alonzo Hard Fork Kicks Off.  Key takeaways Cardano smart contracts platform to hardfork into mainnet on September 12. The hardfork is to bring decentralized applications with all new possibilities to the Cardano network. Challenges facing the platform could however slow down the network&#8217;s race to flip Ethereum. The Cardano (ADA) blockchain first launched Alonzo &#8211; its smart contracts upgrade &#8211; [&#8230;] ... [| Skaityti daugiau](https://zycrypto.com/cardano-finally-ousting-ethereum-expect-the-unexpected-as-alonzo-hard-fork-kicks-off/) "
      ],
      "text/plain": [
       "<IPython.core.display.Markdown object>"
      ]
     },
     "execution_count": 3,
     "metadata": {},
     "output_type": "execute_result"
    }
   ],
   "source": [
    "#hide_input\n",
    "#md('##### {}'.format(titleBTC)) \n",
    "md(\"- {}{} {}{} [| Skaityti daugiau]({}) \".format(blockchain['title'],'. ', blockchain['body'], ' ...', blockchain['url']))"
   ]
  },
  {
   "cell_type": "code",
   "execution_count": 4,
   "id": "aging-caution",
   "metadata": {
    "execution": {
     "iopub.execute_input": "2021-09-12T02:01:36.907963Z",
     "iopub.status.busy": "2021-09-12T02:01:36.907411Z",
     "iopub.status.idle": "2021-09-12T02:01:36.909883Z",
     "shell.execute_reply": "2021-09-12T02:01:36.909378Z"
    },
    "papermill": {
     "duration": 0.015506,
     "end_time": "2021-09-12T02:01:36.909982",
     "exception": false,
     "start_time": "2021-09-12T02:01:36.894476",
     "status": "completed"
    },
    "tags": []
   },
   "outputs": [
    {
     "data": {
      "text/markdown": [
       "- Is Bitcoin’s legal tender status causing ‘currency chaos’ in El Salvador.  Days after El Salvador became the world’s first country to adopt Bitcoin as legal tender, it hasn’t garnered an endorsement from many crypto proponents. In a recent podcast, business and policy reporter of the New York Times, Ephrat Livni, discussed issues around the rollout by President Nayib Bukele. She argued that Bitcoin&#8217;s adoption as legal [&#8230;] ... [| Skaityti daugiau](https://ambcrypto.com/is-bitcoins-legal-tender-status-causing-currency-chaos-in-el-savlador/) "
      ],
      "text/plain": [
       "<IPython.core.display.Markdown object>"
      ]
     },
     "execution_count": 4,
     "metadata": {},
     "output_type": "execute_result"
    }
   ],
   "source": [
    "#hide_input\n",
    "#md('##### {}'.format(titleBTC)) \n",
    "md(\"- {}{} {}{} [| Skaityti daugiau]({}) \".format(btc['title'],'. ', btc['body'], ' ...', btc['url']))"
   ]
  },
  {
   "cell_type": "code",
   "execution_count": 5,
   "id": "organic-actress",
   "metadata": {
    "execution": {
     "iopub.execute_input": "2021-09-12T02:01:36.933023Z",
     "iopub.status.busy": "2021-09-12T02:01:36.932503Z",
     "iopub.status.idle": "2021-09-12T02:01:36.935576Z",
     "shell.execute_reply": "2021-09-12T02:01:36.935183Z"
    },
    "papermill": {
     "duration": 0.016283,
     "end_time": "2021-09-12T02:01:36.935671",
     "exception": false,
     "start_time": "2021-09-12T02:01:36.919388",
     "status": "completed"
    },
    "tags": []
   },
   "outputs": [
    {
     "data": {
      "text/markdown": [
       "- Chainlink price analysis: LINK/USD shows strong buying interest as bulls face 30% decline.   TL;DR Breakdown The recent pull back from $36.38 to $25 opened doors for newfound buyer interestIntra day trade sees LINK/USD down by 2.3 percent with trading volume also fallingPrice currently holds above the 50 and 100-day moving averages, suggesting a breakout back towards the $30 mark Chainlink price analysis shows that the token is set for renewed interest after facing a major downslide earlier in the week. After moving as high as $36.29, LINK faced a turbulent Tuesday as it fell almost 30 percent down to $25. Recovery started on September 9 as it went past the $30 mark, and has consolidated there.  Price at the time of writing sits at $27.35, declining 2.5 percent on intra-day trade. Trading volume has also decreased just under 20 percent, presenting a positive glimpse for gathering buyer momentum.  The larger cryptocurrency market showed mixed trends, after slight dips over the past 24 hours. The largest cryptocurrency Bitcoin went 0.4 percent down to maintain just below $45,500. Ethereum dropped 0.3 percent while other Altcoins showed positive trends. Ripple and Solana increased by 3 percent each to finish at $1.10 and $185.13, respectively. Whereas Polkadot went up 7 percent to sit at $31.55. The biggest upswing was seen with Cardano, as it went up around 13 percent to solidify at $2.70.  Chainlink price analysis: Cryptocurrency heat map. Source: Coin360 LINK/USD 24-hour chart: Price holding above 50 and 100-day movi... ... [| Skaityti daugiau](https://api.follow.it/track-rss-story-click/v3/tHfgumto13B2tAdJ-YJ48n-fx8LWuXng) "
      ],
      "text/plain": [
       "<IPython.core.display.Markdown object>"
      ]
     },
     "execution_count": 5,
     "metadata": {},
     "output_type": "execute_result"
    }
   ],
   "source": [
    "#hide_input\n",
    "#md('##### {}'.format(titleBTC)) \n",
    "md(\"- {}{} {}{} [| Skaityti daugiau]({}) \".format(xrp['title'],'. ', xrp['body'], ' ...', xrp['url']))"
   ]
  },
  {
   "cell_type": "code",
   "execution_count": 6,
   "id": "prompt-farmer",
   "metadata": {
    "execution": {
     "iopub.execute_input": "2021-09-12T02:01:36.959322Z",
     "iopub.status.busy": "2021-09-12T02:01:36.958834Z",
     "iopub.status.idle": "2021-09-12T02:01:36.961960Z",
     "shell.execute_reply": "2021-09-12T02:01:36.961546Z"
    },
    "papermill": {
     "duration": 0.016685,
     "end_time": "2021-09-12T02:01:36.962058",
     "exception": false,
     "start_time": "2021-09-12T02:01:36.945373",
     "status": "completed"
    },
    "tags": []
   },
   "outputs": [
    {
     "data": {
      "text/markdown": [
       "- Taiwan Police Arrest 14 Suspects Involved in $5.4 Million Crypto Scam.  Police administration in Taiwan arrested 14 people that were allegedly involved in a cryptocurrency investment scam. This scam defrauded more than 100 people out of about NT$150 million (US$5.41 million) over the past year. Local Taiwan news site &#8211; The Taipei Times &#8211; reported this news on Monday. According to the report, the Criminal Investigation Bureau (CIB) [&#8230;] ... [| Skaityti daugiau](https://bitcoinist.com/taiwan-police-arrest-14-suspects-involved-in-5-4-million-crypto-scam/?utm_source=rss&utm_medium=rss&utm_campaign=taiwan-police-arrest-14-suspects-involved-in-5-4-million-crypto-scam) "
      ],
      "text/plain": [
       "<IPython.core.display.Markdown object>"
      ]
     },
     "execution_count": 6,
     "metadata": {},
     "output_type": "execute_result"
    }
   ],
   "source": [
    "#hide_input\n",
    "#md('##### {}'.format(titleBTC)) \n",
    "md(\"- {}{} {}{} [| Skaityti daugiau]({}) \".format(trx['title'],'. ', trx['body'], ' ...', trx['url']))"
   ]
  },
  {
   "cell_type": "code",
   "execution_count": 7,
   "id": "illegal-greece",
   "metadata": {
    "execution": {
     "iopub.execute_input": "2021-09-12T02:01:36.986207Z",
     "iopub.status.busy": "2021-09-12T02:01:36.985698Z",
     "iopub.status.idle": "2021-09-12T02:01:36.988292Z",
     "shell.execute_reply": "2021-09-12T02:01:36.987877Z"
    },
    "papermill": {
     "duration": 0.016164,
     "end_time": "2021-09-12T02:01:36.988383",
     "exception": false,
     "start_time": "2021-09-12T02:01:36.972219",
     "status": "completed"
    },
    "tags": []
   },
   "outputs": [
    {
     "data": {
      "text/markdown": [
       "- What Cardano needs to continue making gains.  The most awaited event of the year is about to take place as the Cardano Alonzo hard fork is close to being activated. The arrival of smart contracts on the Cardano network will be the first step in a huge overturn in the market. If it delivers as per expectations it will send shockwaves across [&#8230;] ... [| Skaityti daugiau](https://ambcrypto.com/what-cardano-needs-to-continue-making-gains/) "
      ],
      "text/plain": [
       "<IPython.core.display.Markdown object>"
      ]
     },
     "execution_count": 7,
     "metadata": {},
     "output_type": "execute_result"
    }
   ],
   "source": [
    "#hide_input\n",
    "#md('##### {}'.format(titleBTC)) \n",
    "md(\"- {}{} {}{} [| Skaityti daugiau]({}) \".format(eth['title'],'. ', eth['body'], ' ...', eth['url']))"
   ]
  },
  {
   "cell_type": "code",
   "execution_count": 8,
   "id": "sublime-lounge",
   "metadata": {
    "execution": {
     "iopub.execute_input": "2021-09-12T02:01:37.013070Z",
     "iopub.status.busy": "2021-09-12T02:01:37.012579Z",
     "iopub.status.idle": "2021-09-12T02:01:37.015369Z",
     "shell.execute_reply": "2021-09-12T02:01:37.015789Z"
    },
    "papermill": {
     "duration": 0.017214,
     "end_time": "2021-09-12T02:01:37.015892",
     "exception": false,
     "start_time": "2021-09-12T02:01:36.998678",
     "status": "completed"
    },
    "tags": []
   },
   "outputs": [
    {
     "data": {
      "text/markdown": [
       "- What Cardano needs to continue making gains.  The most awaited event of the year is about to take place as the Cardano Alonzo hard fork is close to being activated. The arrival of smart contracts on the Cardano network will be the first step in a huge overturn in the market. If it delivers as per expectations it will send shockwaves across [&#8230;] ... [| Skaityti daugiau](https://ambcrypto.com/what-cardano-needs-to-continue-making-gains/) "
      ],
      "text/plain": [
       "<IPython.core.display.Markdown object>"
      ]
     },
     "execution_count": 8,
     "metadata": {},
     "output_type": "execute_result"
    }
   ],
   "source": [
    "#hide_input\n",
    "#md('##### {}'.format(titleBTC)) \n",
    "md(\"- {}{} {}{} [| Skaityti daugiau]({}) \".format(ada['title'],'. ', ada['body'], ' ...', ada['url']))"
   ]
  },
  {
   "cell_type": "code",
   "execution_count": 9,
   "id": "specified-ordering",
   "metadata": {
    "execution": {
     "iopub.execute_input": "2021-09-12T02:01:37.041269Z",
     "iopub.status.busy": "2021-09-12T02:01:37.040781Z",
     "iopub.status.idle": "2021-09-12T02:01:37.043823Z",
     "shell.execute_reply": "2021-09-12T02:01:37.043406Z"
    },
    "papermill": {
     "duration": 0.017336,
     "end_time": "2021-09-12T02:01:37.043915",
     "exception": false,
     "start_time": "2021-09-12T02:01:37.026579",
     "status": "completed"
    },
    "tags": []
   },
   "outputs": [
    {
     "data": {
      "text/markdown": [
       "- US SEC Issues Warning on Crypto Investment Scams Citing ‘Some Investors May Have FOMO’.  The U.S. Securities and Exchange Commission (SEC) has issued a warning about fraudulent investment schemes involving cryptocurrencies. The regulator notes that some investors may have fear of missing out (FOMO) given the rise in prices of some crypto assets in recent years. SEC Warns Investors of Crypto Scams The U.S. Securities and Exchange Commission&#x2019;s Office [&#8230;] ... [| Skaityti daugiau](https://news.bitcoin.com/us-sec-warning-crypto-investment-scams-investors-fomo/) "
      ],
      "text/plain": [
       "<IPython.core.display.Markdown object>"
      ]
     },
     "execution_count": 9,
     "metadata": {},
     "output_type": "execute_result"
    }
   ],
   "source": [
    "#hide_input\n",
    "#md('##### {}'.format(titleBTC)) \n",
    "md(\"- {}{} {}{} [| Skaityti daugiau]({}) \".format(exchange['title'],'. ', exchange['body'], ' ...', exchange['url']))"
   ]
  },
  {
   "cell_type": "code",
   "execution_count": null,
   "id": "tender-livestock",
   "metadata": {
    "papermill": {
     "duration": 0.010946,
     "end_time": "2021-09-12T02:01:37.065858",
     "exception": false,
     "start_time": "2021-09-12T02:01:37.054912",
     "status": "completed"
    },
    "tags": []
   },
   "outputs": [],
   "source": []
  },
  {
   "cell_type": "code",
   "execution_count": null,
   "id": "appreciated-diamond",
   "metadata": {
    "papermill": {
     "duration": 0.010928,
     "end_time": "2021-09-12T02:01:37.087952",
     "exception": false,
     "start_time": "2021-09-12T02:01:37.077024",
     "status": "completed"
    },
    "tags": []
   },
   "outputs": [],
   "source": []
  },
  {
   "cell_type": "code",
   "execution_count": null,
   "id": "romance-sweden",
   "metadata": {
    "papermill": {
     "duration": 0.010881,
     "end_time": "2021-09-12T02:01:37.109822",
     "exception": false,
     "start_time": "2021-09-12T02:01:37.098941",
     "status": "completed"
    },
    "tags": []
   },
   "outputs": [],
   "source": []
  },
  {
   "cell_type": "code",
   "execution_count": null,
   "id": "dietary-statistics",
   "metadata": {
    "papermill": {
     "duration": 0.010914,
     "end_time": "2021-09-12T02:01:37.131695",
     "exception": false,
     "start_time": "2021-09-12T02:01:37.120781",
     "status": "completed"
    },
    "tags": []
   },
   "outputs": [],
   "source": []
  }
 ],
 "metadata": {
  "kernelspec": {
   "display_name": "Python 3",
   "language": "python",
   "name": "python3"
  },
  "language_info": {
   "codemirror_mode": {
    "name": "ipython",
    "version": 3
   },
   "file_extension": ".py",
   "mimetype": "text/x-python",
   "name": "python",
   "nbconvert_exporter": "python",
   "pygments_lexer": "ipython3",
   "version": "3.6.14"
  },
  "papermill": {
   "default_parameters": {},
   "duration": 12.202466,
   "end_time": "2021-09-12T02:01:37.550237",
   "environment_variables": {},
   "exception": null,
   "input_path": "Market-News.ipynb",
   "output_path": "Market-News.ipynb",
   "parameters": {},
   "start_time": "2021-09-12T02:01:25.347771",
   "version": "2.2.2"
  }
 },
 "nbformat": 4,
 "nbformat_minor": 5
}