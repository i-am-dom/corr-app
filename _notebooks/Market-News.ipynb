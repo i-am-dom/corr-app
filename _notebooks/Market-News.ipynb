{
 "cells": [
  {
   "cell_type": "markdown",
   "id": "short-greensboro",
   "metadata": {
    "papermill": {
     "duration": 0.012676,
     "end_time": "2022-02-25T02:08:34.174138",
     "exception": false,
     "start_time": "2022-02-25T02:08:34.161462",
     "status": "completed"
    },
    "tags": []
   },
   "source": [
    "# Kriptovaliutų naujienos"
   ]
  },
  {
   "cell_type": "code",
   "execution_count": 1,
   "id": "functioning-knowing",
   "metadata": {
    "execution": {
     "iopub.execute_input": "2022-02-25T02:08:34.202058Z",
     "iopub.status.busy": "2022-02-25T02:08:34.201559Z",
     "iopub.status.idle": "2022-02-25T02:08:35.481427Z",
     "shell.execute_reply": "2022-02-25T02:08:35.480862Z"
    },
    "papermill": {
     "duration": 1.298729,
     "end_time": "2022-02-25T02:08:35.481593",
     "exception": false,
     "start_time": "2022-02-25T02:08:34.182864",
     "status": "completed"
    },
    "tags": []
   },
   "outputs": [],
   "source": [
    "#hide_input\n",
    "import warnings\n",
    "warnings.filterwarnings('ignore')\n",
    "from scripts.read_data import read_api\n",
    "from scripts.read_data import read_news\n",
    "from scripts.read_data import read_covid\n",
    "import matplotlib.pyplot as plt \n",
    "from IPython.display import Markdown as md"
   ]
  },
  {
   "cell_type": "code",
   "execution_count": 2,
   "id": "shared-acceptance",
   "metadata": {
    "execution": {
     "iopub.execute_input": "2022-02-25T02:08:35.506574Z",
     "iopub.status.busy": "2022-02-25T02:08:35.506108Z",
     "iopub.status.idle": "2022-02-25T02:08:45.419509Z",
     "shell.execute_reply": "2022-02-25T02:08:45.418978Z"
    },
    "papermill": {
     "duration": 9.927999,
     "end_time": "2022-02-25T02:08:45.419657",
     "exception": false,
     "start_time": "2022-02-25T02:08:35.491658",
     "status": "completed"
    },
    "tags": []
   },
   "outputs": [],
   "source": [
    "#hide_input\n",
    "blockchain = read_news('blockchain') \n",
    "btc = read_news('btc') \n",
    "xrp = read_news('xrp') \n",
    "trx = read_news('trx') \n",
    "eth = read_news('eth')  \n",
    "ada = read_news('ada')\n",
    "exchange = read_news('exchange') "
   ]
  },
  {
   "cell_type": "code",
   "execution_count": 3,
   "id": "synthetic-notion",
   "metadata": {
    "execution": {
     "iopub.execute_input": "2022-02-25T02:08:45.441755Z",
     "iopub.status.busy": "2022-02-25T02:08:45.441281Z",
     "iopub.status.idle": "2022-02-25T02:08:45.443809Z",
     "shell.execute_reply": "2022-02-25T02:08:45.443440Z"
    },
    "papermill": {
     "duration": 0.015845,
     "end_time": "2022-02-25T02:08:45.443914",
     "exception": false,
     "start_time": "2022-02-25T02:08:45.428069",
     "status": "completed"
    },
    "tags": []
   },
   "outputs": [
    {
     "data": {
      "text/markdown": [
       "- Buterin Says “Ethereum Is Neutral, But I Am Not” In Condemnation Of Russia’s Attack.  Minutes after Russia announced a &#8220;special military operation&#8221; in Ukraine, effectively declaring war on the Eastern European country, Vitalik Buterin, a Russian-Canadian cofounder of the Ethethereum B blockchain, criticized Russian President Vladimir Putin on Twitter. Buterin Speaks Out Buterin said on Wednesday evening that he was &#8220;very upset&#8221; by Putin&#8217;s choice to start a war instead of finding a peaceful solution to Russia&#8217;s issue with Ukraine. Vitalik wrote in Russian on Twitter: &#8220;Very upset by Putin&#8217;s decision to abandon the possibility of a peaceful solution to the dispute with Ukraine and go to war instead. This is a crime against the Ukrainian and Russian people.&#8221; &#8220;I want to wish everyone security, although I know that there will be no security,&#8221; the Russian-Canadian crypto co-founder wrote, concluding his statement with &#8220;Glory to Ukraine&#8221;. Reminder: Ethereum is neutral, but I am not. &#8212; vitalik.eth (@VitalikButerin) February 24, 2022 On Wednesday evening, CNN reported a &#8220;constant stream of explosions&#8221; in multiple Ukrainian towns, including Kyiv, the country&#8217;s capital, and Kharkiv, the country&#8217;s second-largest city. &#8220;Subways are packed, streets are also, people [are gathering] with loved ones and [trying] to flee,&#8221; Oleksiy Sorokin, a correspondent for the Ukrainian outlet Kyiv Independent, tweeted. The U... ... [| Skaityti daugiau](https://www.newsbtc.com/news/ethereum/buterin-says-ethereum-is-neutral-but-i-am-not/) "
      ],
      "text/plain": [
       "<IPython.core.display.Markdown object>"
      ]
     },
     "execution_count": 3,
     "metadata": {},
     "output_type": "execute_result"
    }
   ],
   "source": [
    "#hide_input\n",
    "#md('##### {}'.format(titleBTC)) \n",
    "md(\"- {}{} {}{} [| Skaityti daugiau]({}) \".format(blockchain['title'],'. ', blockchain['body'], ' ...', blockchain['url']))"
   ]
  },
  {
   "cell_type": "code",
   "execution_count": 4,
   "id": "aging-caution",
   "metadata": {
    "execution": {
     "iopub.execute_input": "2022-02-25T02:08:45.464532Z",
     "iopub.status.busy": "2022-02-25T02:08:45.464079Z",
     "iopub.status.idle": "2022-02-25T02:08:45.467595Z",
     "shell.execute_reply": "2022-02-25T02:08:45.467933Z"
    },
    "papermill": {
     "duration": 0.01587,
     "end_time": "2022-02-25T02:08:45.468040",
     "exception": false,
     "start_time": "2022-02-25T02:08:45.452170",
     "status": "completed"
    },
    "tags": []
   },
   "outputs": [
    {
     "data": {
      "text/markdown": [
       "- News From El Salvador, Late February: Chivo Pets Exists And Celebrities Visit.  While the world burns, El Salvador opens the Chivo Pets hospital. Not everything is lost. In this edition, we also highlight the famous visitors from all walks of life that have recently been to the country. And, of course, we have some feel-good stories and visit El Zonte. It’s not News From El Salvador if [&#8230;] ... [| Skaityti daugiau](https://bitcoinist.com/news-from-el-salvador-late-february-chivo-pets/) "
      ],
      "text/plain": [
       "<IPython.core.display.Markdown object>"
      ]
     },
     "execution_count": 4,
     "metadata": {},
     "output_type": "execute_result"
    }
   ],
   "source": [
    "#hide_input\n",
    "#md('##### {}'.format(titleBTC)) \n",
    "md(\"- {}{} {}{} [| Skaityti daugiau]({}) \".format(btc['title'],'. ', btc['body'], ' ...', btc['url']))"
   ]
  },
  {
   "cell_type": "code",
   "execution_count": 5,
   "id": "organic-actress",
   "metadata": {
    "execution": {
     "iopub.execute_input": "2022-02-25T02:08:45.489641Z",
     "iopub.status.busy": "2022-02-25T02:08:45.489059Z",
     "iopub.status.idle": "2022-02-25T02:08:45.491210Z",
     "shell.execute_reply": "2022-02-25T02:08:45.491590Z"
    },
    "papermill": {
     "duration": 0.015209,
     "end_time": "2022-02-25T02:08:45.491694",
     "exception": false,
     "start_time": "2022-02-25T02:08:45.476485",
     "status": "completed"
    },
    "tags": []
   },
   "outputs": [
    {
     "data": {
      "text/markdown": [
       "- Ripple (XRP) Price Prediction: XRP Test Weekly Lows Near $0.60, Downside Risk Remains Intact!.  Ripple&#8217;s (XRP) price extends the previous session’s decline on Thursday. XRP tested the crucial support zone around $0.60. Today’s sell-off in the crypto market is sponsored by Russia’s all-out invasion of Ukraine sending shock waves across global financial markets. Ripple (XRP) edges lower on Thursday amid the Russia-Ukraine war. Expect a fall toward January&#8217;s lows The post Ripple (XRP) Price Prediction: XRP Test Weekly Lows Near $0.60, Downside Risk Remains Intact! appeared first on CoinGape. ... [| Skaityti daugiau](https://coingape.com/markets/101957-2/) "
      ],
      "text/plain": [
       "<IPython.core.display.Markdown object>"
      ]
     },
     "execution_count": 5,
     "metadata": {},
     "output_type": "execute_result"
    }
   ],
   "source": [
    "#hide_input\n",
    "#md('##### {}'.format(titleBTC)) \n",
    "md(\"- {}{} {}{} [| Skaityti daugiau]({}) \".format(xrp['title'],'. ', xrp['body'], ' ...', xrp['url']))"
   ]
  },
  {
   "cell_type": "code",
   "execution_count": 6,
   "id": "prompt-farmer",
   "metadata": {
    "execution": {
     "iopub.execute_input": "2022-02-25T02:08:45.512798Z",
     "iopub.status.busy": "2022-02-25T02:08:45.512320Z",
     "iopub.status.idle": "2022-02-25T02:08:45.514759Z",
     "shell.execute_reply": "2022-02-25T02:08:45.515097Z"
    },
    "papermill": {
     "duration": 0.014833,
     "end_time": "2022-02-25T02:08:45.515201",
     "exception": false,
     "start_time": "2022-02-25T02:08:45.500368",
     "status": "completed"
    },
    "tags": []
   },
   "outputs": [
    {
     "data": {
      "text/markdown": [
       "- Tron (TRX) Price Analysis: Make-or-Break Zone At $0.064.  Tron price started a decent increase above the $0.0600 level against the US Dollar. TRX price is now trading below $0.0640 and the 55 simple moving average (4-hours). There was a break above a major bearish trend line with resistance near $0.0622 on the 4-hours chart (data feed via Bitfinex). The pair could continue to...The post Tron (TRX) Price Analysis: Make-or-Break Zone At $0.064 appeared first on Live Bitcoin News. ... [| Skaityti daugiau](https://www.livebitcoinnews.com/tron-trx-price-analysis-make-or-break-zone-at-0-064/) "
      ],
      "text/plain": [
       "<IPython.core.display.Markdown object>"
      ]
     },
     "execution_count": 6,
     "metadata": {},
     "output_type": "execute_result"
    }
   ],
   "source": [
    "#hide_input\n",
    "#md('##### {}'.format(titleBTC)) \n",
    "md(\"- {}{} {}{} [| Skaityti daugiau]({}) \".format(trx['title'],'. ', trx['body'], ' ...', trx['url']))"
   ]
  },
  {
   "cell_type": "code",
   "execution_count": 7,
   "id": "illegal-greece",
   "metadata": {
    "execution": {
     "iopub.execute_input": "2022-02-25T02:08:45.536951Z",
     "iopub.status.busy": "2022-02-25T02:08:45.536467Z",
     "iopub.status.idle": "2022-02-25T02:08:45.540297Z",
     "shell.execute_reply": "2022-02-25T02:08:45.539812Z"
    },
    "papermill": {
     "duration": 0.016192,
     "end_time": "2022-02-25T02:08:45.540409",
     "exception": false,
     "start_time": "2022-02-25T02:08:45.524217",
     "status": "completed"
    },
    "tags": []
   },
   "outputs": [
    {
     "data": {
      "text/markdown": [
       "- Pussy Riot Founder, Trippy Labs, PleasrDAO Members Launch 'Ukraine DAO'.  Crypto Twitter is mobilizing to raise money for Ukraine—using Ethereum NFTs. ... [| Skaityti daugiau](https://decrypt.co/93787/pussy-riot-trippy-labs-pleasrdao-launch-ukraine-dao) "
      ],
      "text/plain": [
       "<IPython.core.display.Markdown object>"
      ]
     },
     "execution_count": 7,
     "metadata": {},
     "output_type": "execute_result"
    }
   ],
   "source": [
    "#hide_input\n",
    "#md('##### {}'.format(titleBTC)) \n",
    "md(\"- {}{} {}{} [| Skaityti daugiau]({}) \".format(eth['title'],'. ', eth['body'], ' ...', eth['url']))"
   ]
  },
  {
   "cell_type": "code",
   "execution_count": 8,
   "id": "sublime-lounge",
   "metadata": {
    "execution": {
     "iopub.execute_input": "2022-02-25T02:08:45.562750Z",
     "iopub.status.busy": "2022-02-25T02:08:45.561893Z",
     "iopub.status.idle": "2022-02-25T02:08:45.565324Z",
     "shell.execute_reply": "2022-02-25T02:08:45.564963Z"
    },
    "papermill": {
     "duration": 0.015246,
     "end_time": "2022-02-25T02:08:45.565413",
     "exception": false,
     "start_time": "2022-02-25T02:08:45.550167",
     "status": "completed"
    },
    "tags": []
   },
   "outputs": [
    {
     "data": {
      "text/markdown": [
       "- Cardano Whales Devour Dip, Why They Don’t Care About Price Action.  Despite the crypto market&#8217;s bloodshed, in the past few days, the Cardano (ADA) trading activity has been relentless, and its holders&#8217; balance remains strong with a multi-year high. Into The Block data indicates that the wallet balance held by long-term Cardano holders hit a multi-year high on February 23. &#8220;Regardless of the price action, Cardano&#8216;s holders remain strong. The balance held by HODLERS- addresses holding &#62;1 year, is at a multi-year high. These HOLDERS increased their positions to 10.12b $ADA, the largest balance since December 11, 2019.&#8221; Despite the geopolitical tension causing the altcoin&#8217;s price to drop dramatically, traders have increased their position of Cardano. Holders have accumulated the highest balance of ADA since December 2019. Cardano&#8217;s network recent developments might be serving as fuel to its supporters, and as a consequence, many believe its price will climb. &#8220;Every bounce is still getting sold off, waiting for a final leg down before a reversal. Would consider buying this at 0.50,&#8221; an analyst noted. A Finder&#8217;s poll indicated several analysts believe the price of ADA will reach $58 by 2030, and a few thought it might close this year at $2.72, a 160% increase. Many traders received the $58 prediction as an exaggeration unless the Cardano ecosystem truly manages to explode during the following years. Expert Vanessa Harris was also bullis... ... [| Skaityti daugiau](https://www.newsbtc.com/news/cardano/cardano-whales-devour-dip-why-they-dont-care-about-price-action/) "
      ],
      "text/plain": [
       "<IPython.core.display.Markdown object>"
      ]
     },
     "execution_count": 8,
     "metadata": {},
     "output_type": "execute_result"
    }
   ],
   "source": [
    "#hide_input\n",
    "#md('##### {}'.format(titleBTC)) \n",
    "md(\"- {}{} {}{} [| Skaityti daugiau]({}) \".format(ada['title'],'. ', ada['body'], ' ...', ada['url']))"
   ]
  },
  {
   "cell_type": "code",
   "execution_count": 9,
   "id": "specified-ordering",
   "metadata": {
    "execution": {
     "iopub.execute_input": "2022-02-25T02:08:45.589145Z",
     "iopub.status.busy": "2022-02-25T02:08:45.588541Z",
     "iopub.status.idle": "2022-02-25T02:08:45.591434Z",
     "shell.execute_reply": "2022-02-25T02:08:45.591903Z"
    },
    "papermill": {
     "duration": 0.017039,
     "end_time": "2022-02-25T02:08:45.592026",
     "exception": false,
     "start_time": "2022-02-25T02:08:45.574987",
     "status": "completed"
    },
    "tags": []
   },
   "outputs": [
    {
     "data": {
      "text/markdown": [
       "- $ETH Staking Yields Could Double After Ethereum Network ‘Merge’, Coinbase Estimates.  Ethereum ($ETH) staking yields could double after the network merges with the Proof-of-Stake (PoS) Beacon Chain that is currently running alongside Ethereum’s mainnet, according to estimates from leading cryptocurrency exchange Coinbase In a message sent to clients and shared on social media, Coinbase noted that after the Ethereum’s mainnet merges with the Beacon Chain – […] ... [| Skaityti daugiau](https://www.cryptoglobe.com/latest/2022/02/eth-staking-yields-could-double-after-ethereum-network-merge-coinbase-estimates/) "
      ],
      "text/plain": [
       "<IPython.core.display.Markdown object>"
      ]
     },
     "execution_count": 9,
     "metadata": {},
     "output_type": "execute_result"
    }
   ],
   "source": [
    "#hide_input\n",
    "#md('##### {}'.format(titleBTC)) \n",
    "md(\"- {}{} {}{} [| Skaityti daugiau]({}) \".format(exchange['title'],'. ', exchange['body'], ' ...', exchange['url']))"
   ]
  },
  {
   "cell_type": "code",
   "execution_count": null,
   "id": "tender-livestock",
   "metadata": {
    "papermill": {
     "duration": 0.009845,
     "end_time": "2022-02-25T02:08:45.611975",
     "exception": false,
     "start_time": "2022-02-25T02:08:45.602130",
     "status": "completed"
    },
    "tags": []
   },
   "outputs": [],
   "source": []
  },
  {
   "cell_type": "code",
   "execution_count": null,
   "id": "appreciated-diamond",
   "metadata": {
    "papermill": {
     "duration": 0.00978,
     "end_time": "2022-02-25T02:08:45.631671",
     "exception": false,
     "start_time": "2022-02-25T02:08:45.621891",
     "status": "completed"
    },
    "tags": []
   },
   "outputs": [],
   "source": []
  },
  {
   "cell_type": "code",
   "execution_count": null,
   "id": "romance-sweden",
   "metadata": {
    "papermill": {
     "duration": 0.009828,
     "end_time": "2022-02-25T02:08:45.652328",
     "exception": false,
     "start_time": "2022-02-25T02:08:45.642500",
     "status": "completed"
    },
    "tags": []
   },
   "outputs": [],
   "source": []
  },
  {
   "cell_type": "code",
   "execution_count": null,
   "id": "dietary-statistics",
   "metadata": {
    "papermill": {
     "duration": 0.009868,
     "end_time": "2022-02-25T02:08:45.672198",
     "exception": false,
     "start_time": "2022-02-25T02:08:45.662330",
     "status": "completed"
    },
    "tags": []
   },
   "outputs": [],
   "source": []
  }
 ],
 "metadata": {
  "kernelspec": {
   "display_name": "Python 3",
   "language": "python",
   "name": "python3"
  },
  "language_info": {
   "codemirror_mode": {
    "name": "ipython",
    "version": 3
   },
   "file_extension": ".py",
   "mimetype": "text/x-python",
   "name": "python",
   "nbconvert_exporter": "python",
   "pygments_lexer": "ipython3",
   "version": "3.6.15"
  },
  "papermill": {
   "default_parameters": {},
   "duration": 13.049793,
   "end_time": "2022-02-25T02:08:46.101284",
   "environment_variables": {},
   "exception": null,
   "input_path": "Market-News.ipynb",
   "output_path": "Market-News.ipynb",
   "parameters": {},
   "start_time": "2022-02-25T02:08:33.051491",
   "version": "2.2.2"
  }
 },
 "nbformat": 4,
 "nbformat_minor": 5
}