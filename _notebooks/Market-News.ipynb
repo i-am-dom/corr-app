{
 "cells": [
  {
   "cell_type": "markdown",
   "id": "short-greensboro",
   "metadata": {
    "papermill": {
     "duration": 0.013444,
     "end_time": "2022-03-08T02:12:09.212938",
     "exception": false,
     "start_time": "2022-03-08T02:12:09.199494",
     "status": "completed"
    },
    "tags": []
   },
   "source": [
    "# Kriptovaliutų naujienos"
   ]
  },
  {
   "cell_type": "code",
   "execution_count": 1,
   "id": "functioning-knowing",
   "metadata": {
    "execution": {
     "iopub.execute_input": "2022-03-08T02:12:09.242364Z",
     "iopub.status.busy": "2022-03-08T02:12:09.241758Z",
     "iopub.status.idle": "2022-03-08T02:12:10.500886Z",
     "shell.execute_reply": "2022-03-08T02:12:10.501380Z"
    },
    "papermill": {
     "duration": 1.278776,
     "end_time": "2022-03-08T02:12:10.501562",
     "exception": false,
     "start_time": "2022-03-08T02:12:09.222786",
     "status": "completed"
    },
    "tags": []
   },
   "outputs": [],
   "source": [
    "#hide_input\n",
    "import warnings\n",
    "warnings.filterwarnings('ignore')\n",
    "from scripts.read_data import read_api\n",
    "from scripts.read_data import read_news\n",
    "from scripts.read_data import read_covid\n",
    "import matplotlib.pyplot as plt \n",
    "from IPython.display import Markdown as md"
   ]
  },
  {
   "cell_type": "code",
   "execution_count": 2,
   "id": "shared-acceptance",
   "metadata": {
    "execution": {
     "iopub.execute_input": "2022-03-08T02:12:10.527311Z",
     "iopub.status.busy": "2022-03-08T02:12:10.526386Z",
     "iopub.status.idle": "2022-03-08T02:12:18.876590Z",
     "shell.execute_reply": "2022-03-08T02:12:18.875619Z"
    },
    "papermill": {
     "duration": 8.365329,
     "end_time": "2022-03-08T02:12:18.876732",
     "exception": false,
     "start_time": "2022-03-08T02:12:10.511403",
     "status": "completed"
    },
    "tags": []
   },
   "outputs": [],
   "source": [
    "#hide_input\n",
    "blockchain = read_news('blockchain') \n",
    "btc = read_news('btc') \n",
    "xrp = read_news('xrp') \n",
    "trx = read_news('trx') \n",
    "eth = read_news('eth')  \n",
    "ada = read_news('ada')\n",
    "exchange = read_news('exchange') "
   ]
  },
  {
   "cell_type": "code",
   "execution_count": 3,
   "id": "synthetic-notion",
   "metadata": {
    "execution": {
     "iopub.execute_input": "2022-03-08T02:12:18.901718Z",
     "iopub.status.busy": "2022-03-08T02:12:18.901199Z",
     "iopub.status.idle": "2022-03-08T02:12:18.904866Z",
     "shell.execute_reply": "2022-03-08T02:12:18.905249Z"
    },
    "papermill": {
     "duration": 0.018994,
     "end_time": "2022-03-08T02:12:18.905378",
     "exception": false,
     "start_time": "2022-03-08T02:12:18.886384",
     "status": "completed"
    },
    "tags": []
   },
   "outputs": [
    {
     "data": {
      "text/markdown": [
       "- Ethereum below $2,600: Indicators show that another dip might be coming.  Ethereum price analysis for March 8, 2022, confirms that the token has turned bearish following a huge selling pressure, and now, it is below $2.6K. On the other hand, the $2.5K price level acts as support but chances are this won&#8217;t hold in the near future. As noted in our ETH price analysis for March 7, [&#8230;]The post Ethereum below $2,600: Indicators show that another dip might be coming appeared first on Blockchain, Crypto and Stock News. ... [| Skaityti daugiau](https://thecoinrise.com/ethereum-below-2600-indicators-show-that-another-dip-might-be-coming/) "
      ],
      "text/plain": [
       "<IPython.core.display.Markdown object>"
      ]
     },
     "execution_count": 3,
     "metadata": {},
     "output_type": "execute_result"
    }
   ],
   "source": [
    "#hide_input\n",
    "#md('##### {}'.format(titleBTC)) \n",
    "md(\"- {}{} {}{} [| Skaityti daugiau]({}) \".format(blockchain['title'],'. ', blockchain['body'], ' ...', blockchain['url']))"
   ]
  },
  {
   "cell_type": "code",
   "execution_count": 4,
   "id": "aging-caution",
   "metadata": {
    "execution": {
     "iopub.execute_input": "2022-03-08T02:12:18.929051Z",
     "iopub.status.busy": "2022-03-08T02:12:18.928391Z",
     "iopub.status.idle": "2022-03-08T02:12:18.931521Z",
     "shell.execute_reply": "2022-03-08T02:12:18.931902Z"
    },
    "papermill": {
     "duration": 0.017286,
     "end_time": "2022-03-08T02:12:18.932022",
     "exception": false,
     "start_time": "2022-03-08T02:12:18.914736",
     "status": "completed"
    },
    "tags": []
   },
   "outputs": [
    {
     "data": {
      "text/markdown": [
       "- Bitcoin remains sluggish above $37.5K support: What to expect from BTC?.  Bitcoin price analysis for March 8, 2022, confirms that the world&#8217;s biggest crypto token has remained sluggish as the prices remain sluggish at a price level of $38K. The nearest support for the token stands at a price of $37.5K which means that the chances of BTC breaking into $40K are not very high. As [&#8230;]The post Bitcoin remains sluggish above $37.5K support: What to expect from BTC? appeared first on Blockchain, Crypto and Stock News. ... [| Skaityti daugiau](https://thecoinrise.com/bitcoin-remains-sluggish-above-37-5k-support-what-to-expect-from-btc/) "
      ],
      "text/plain": [
       "<IPython.core.display.Markdown object>"
      ]
     },
     "execution_count": 4,
     "metadata": {},
     "output_type": "execute_result"
    }
   ],
   "source": [
    "#hide_input\n",
    "#md('##### {}'.format(titleBTC)) \n",
    "md(\"- {}{} {}{} [| Skaityti daugiau]({}) \".format(btc['title'],'. ', btc['body'], ' ...', btc['url']))"
   ]
  },
  {
   "cell_type": "code",
   "execution_count": 5,
   "id": "organic-actress",
   "metadata": {
    "execution": {
     "iopub.execute_input": "2022-03-08T02:12:18.956045Z",
     "iopub.status.busy": "2022-03-08T02:12:18.955466Z",
     "iopub.status.idle": "2022-03-08T02:12:18.957614Z",
     "shell.execute_reply": "2022-03-08T02:12:18.958158Z"
    },
    "papermill": {
     "duration": 0.01667,
     "end_time": "2022-03-08T02:12:18.958289",
     "exception": false,
     "start_time": "2022-03-08T02:12:18.941619",
     "status": "completed"
    },
    "tags": []
   },
   "outputs": [
    {
     "data": {
      "text/markdown": [
       "- Ripple Wants To End XRP Lawsuit by September of This Year: Attorney Jeremy Hogan.  Ripple Labs wants to end its lawsuit with the U.S. Securities and Exchange Commission (SEC) by September or October of 2022, according to a closely followed crypto legal expert. The SEC sued Ripple in December of 2020 on the allegation that XRP was sold as an unregistered security. According to Jeremy Hogan, an attorney known [&#8230;]The post Ripple Wants To End XRP Lawsuit by September of This Year: Attorney Jeremy Hogan appeared first on The Daily Hodl. ... [| Skaityti daugiau](https://dailyhodl.com/2022/03/07/ripple-wants-to-end-xrp-lawsuit-by-september-of-this-year-attorney-jeremy-hogan/) "
      ],
      "text/plain": [
       "<IPython.core.display.Markdown object>"
      ]
     },
     "execution_count": 5,
     "metadata": {},
     "output_type": "execute_result"
    }
   ],
   "source": [
    "#hide_input\n",
    "#md('##### {}'.format(titleBTC)) \n",
    "md(\"- {}{} {}{} [| Skaityti daugiau]({}) \".format(xrp['title'],'. ', xrp['body'], ' ...', xrp['url']))"
   ]
  },
  {
   "cell_type": "code",
   "execution_count": 6,
   "id": "prompt-farmer",
   "metadata": {
    "execution": {
     "iopub.execute_input": "2022-03-08T02:12:18.983200Z",
     "iopub.status.busy": "2022-03-08T02:12:18.982703Z",
     "iopub.status.idle": "2022-03-08T02:12:18.985765Z",
     "shell.execute_reply": "2022-03-08T02:12:18.985364Z"
    },
    "papermill": {
     "duration": 0.01707,
     "end_time": "2022-03-08T02:12:18.985869",
     "exception": false,
     "start_time": "2022-03-08T02:12:18.968799",
     "status": "completed"
    },
    "tags": []
   },
   "outputs": [
    {
     "data": {
      "text/markdown": [
       "- TRON Price Prediction 2022 — Will TRX Hit $0.2 Soon?.  Bullish TRX price prediction is $0.07602 to $0.15131. The TRX price will also reach $0.2 soon. TRX&#8217;s bearish market priceThe post has appeared first on thenewscrypto.com ... [| Skaityti daugiau](https://thenewscrypto.com/tron-price-prediction) "
      ],
      "text/plain": [
       "<IPython.core.display.Markdown object>"
      ]
     },
     "execution_count": 6,
     "metadata": {},
     "output_type": "execute_result"
    }
   ],
   "source": [
    "#hide_input\n",
    "#md('##### {}'.format(titleBTC)) \n",
    "md(\"- {}{} {}{} [| Skaityti daugiau]({}) \".format(trx['title'],'. ', trx['body'], ' ...', trx['url']))"
   ]
  },
  {
   "cell_type": "code",
   "execution_count": 7,
   "id": "illegal-greece",
   "metadata": {
    "execution": {
     "iopub.execute_input": "2022-03-08T02:12:19.010741Z",
     "iopub.status.busy": "2022-03-08T02:12:19.009705Z",
     "iopub.status.idle": "2022-03-08T02:12:19.013677Z",
     "shell.execute_reply": "2022-03-08T02:12:19.013271Z"
    },
    "papermill": {
     "duration": 0.017546,
     "end_time": "2022-03-08T02:12:19.013784",
     "exception": false,
     "start_time": "2022-03-08T02:12:18.996238",
     "status": "completed"
    },
    "tags": []
   },
   "outputs": [
    {
     "data": {
      "text/markdown": [
       "- Ethereum below $2,600: Indicators show that another dip might be coming.  Ethereum price analysis for March 8, 2022, confirms that the token has turned bearish following a huge selling pressure, and now, it is below $2.6K. On the other hand, the $2.5K price level acts as support but chances are this won&#8217;t hold in the near future. As noted in our ETH price analysis for March 7, [&#8230;]The post Ethereum below $2,600: Indicators show that another dip might be coming appeared first on Blockchain, Crypto and Stock News. ... [| Skaityti daugiau](https://thecoinrise.com/ethereum-below-2600-indicators-show-that-another-dip-might-be-coming/) "
      ],
      "text/plain": [
       "<IPython.core.display.Markdown object>"
      ]
     },
     "execution_count": 7,
     "metadata": {},
     "output_type": "execute_result"
    }
   ],
   "source": [
    "#hide_input\n",
    "#md('##### {}'.format(titleBTC)) \n",
    "md(\"- {}{} {}{} [| Skaityti daugiau]({}) \".format(eth['title'],'. ', eth['body'], ' ...', eth['url']))"
   ]
  },
  {
   "cell_type": "code",
   "execution_count": 8,
   "id": "sublime-lounge",
   "metadata": {
    "execution": {
     "iopub.execute_input": "2022-03-08T02:12:19.039626Z",
     "iopub.status.busy": "2022-03-08T02:12:19.039112Z",
     "iopub.status.idle": "2022-03-08T02:12:19.041902Z",
     "shell.execute_reply": "2022-03-08T02:12:19.041399Z"
    },
    "papermill": {
     "duration": 0.017736,
     "end_time": "2022-03-08T02:12:19.042003",
     "exception": false,
     "start_time": "2022-03-08T02:12:19.024267",
     "status": "completed"
    },
    "tags": []
   },
   "outputs": [
    {
     "data": {
      "text/markdown": [
       "- Number of NFTs Minted on Cardano ($ADA) Network Surpasses 800,000.  The number of non-fungible tokens (NFTs) minted on top of the Cardano ($ADA) network has now surpassed the 800,000 mark as activity on the cryptocurrency’s network keeps surging and its decentralized finance (DeFi) space hits new highs in terms of total value locked. According to a tweet published NFT MAKER ($NMKR), a tool built on […] ... [| Skaityti daugiau](https://www.cryptoglobe.com/latest/2022/03/number-of-nfts-minted-on-cardano-ada-network-surpasses-800000/) "
      ],
      "text/plain": [
       "<IPython.core.display.Markdown object>"
      ]
     },
     "execution_count": 8,
     "metadata": {},
     "output_type": "execute_result"
    }
   ],
   "source": [
    "#hide_input\n",
    "#md('##### {}'.format(titleBTC)) \n",
    "md(\"- {}{} {}{} [| Skaityti daugiau]({}) \".format(ada['title'],'. ', ada['body'], ' ...', ada['url']))"
   ]
  },
  {
   "cell_type": "code",
   "execution_count": 9,
   "id": "specified-ordering",
   "metadata": {
    "execution": {
     "iopub.execute_input": "2022-03-08T02:12:19.068586Z",
     "iopub.status.busy": "2022-03-08T02:12:19.068041Z",
     "iopub.status.idle": "2022-03-08T02:12:19.070956Z",
     "shell.execute_reply": "2022-03-08T02:12:19.071340Z"
    },
    "papermill": {
     "duration": 0.018597,
     "end_time": "2022-03-08T02:12:19.071460",
     "exception": false,
     "start_time": "2022-03-08T02:12:19.052863",
     "status": "completed"
    },
    "tags": []
   },
   "outputs": [
    {
     "data": {
      "text/markdown": [
       "- Bitcoin Caught Between Fierce Sellers And Scarce Buyers, Why $36K Could Be Imminent.  Bitcoin has taken another turn to the downside, at the time of writing, after moving sideways during the weekend. As NewsBTC has been covering over the past days, BTC lost critical support at around $40,000, and seems likely to continue its downtrend. Related Reading &#124; Data: Bitcoin Miners Are Quietly Accumulating While The Market Bleeds Bitcoin is trading at $38,118 with a 2.6% loss in the past 24-hours. Per a recent report from Glassnode Insights, Bitcoin has reached a delicate equilibrium. As the benchmark crypto moves back into yearly lows, buyers are trying to absorb bears and establish new support. However, as the report claims, selling pressure has been “persistent” as speculator dump their BTC, probably due to the current macro-economic environment. This status quo has been maintained for over two months, as short-term investors jump out of the market. This new normal could break at any point if bulls continue to lose momentum, or sellers reached a level of exhaustion. Glassnode Insights added: With prices trading sideways in recent weeks, a relative equilibrium has been established. However, given the limited incoming fresh demand, this delicate balance can be disrupted by any significant degree of seller exhaustion, or conversely a re-invigoration of sellers. In the chart below, it is easier to visualize the above with an equilibrium created in the amount of Bitcoin held in crypto exchange platform as BTC’s pric... ... [| Skaityti daugiau](https://www.newsbtc.com/news/bitcoin/bitcoin-caught-between-fierce-sellers-and-scarce-buyers-why-36k-could-be-imminent/) "
      ],
      "text/plain": [
       "<IPython.core.display.Markdown object>"
      ]
     },
     "execution_count": 9,
     "metadata": {},
     "output_type": "execute_result"
    }
   ],
   "source": [
    "#hide_input\n",
    "#md('##### {}'.format(titleBTC)) \n",
    "md(\"- {}{} {}{} [| Skaityti daugiau]({}) \".format(exchange['title'],'. ', exchange['body'], ' ...', exchange['url']))"
   ]
  },
  {
   "cell_type": "code",
   "execution_count": null,
   "id": "tender-livestock",
   "metadata": {
    "papermill": {
     "duration": 0.011209,
     "end_time": "2022-03-08T02:12:19.093944",
     "exception": false,
     "start_time": "2022-03-08T02:12:19.082735",
     "status": "completed"
    },
    "tags": []
   },
   "outputs": [],
   "source": []
  },
  {
   "cell_type": "code",
   "execution_count": null,
   "id": "appreciated-diamond",
   "metadata": {
    "papermill": {
     "duration": 0.011946,
     "end_time": "2022-03-08T02:12:19.117277",
     "exception": false,
     "start_time": "2022-03-08T02:12:19.105331",
     "status": "completed"
    },
    "tags": []
   },
   "outputs": [],
   "source": []
  },
  {
   "cell_type": "code",
   "execution_count": null,
   "id": "romance-sweden",
   "metadata": {
    "papermill": {
     "duration": 0.011527,
     "end_time": "2022-03-08T02:12:19.141901",
     "exception": false,
     "start_time": "2022-03-08T02:12:19.130374",
     "status": "completed"
    },
    "tags": []
   },
   "outputs": [],
   "source": []
  },
  {
   "cell_type": "code",
   "execution_count": null,
   "id": "dietary-statistics",
   "metadata": {
    "papermill": {
     "duration": 0.011927,
     "end_time": "2022-03-08T02:12:19.165568",
     "exception": false,
     "start_time": "2022-03-08T02:12:19.153641",
     "status": "completed"
    },
    "tags": []
   },
   "outputs": [],
   "source": []
  }
 ],
 "metadata": {
  "kernelspec": {
   "display_name": "Python 3",
   "language": "python",
   "name": "python3"
  },
  "language_info": {
   "codemirror_mode": {
    "name": "ipython",
    "version": 3
   },
   "file_extension": ".py",
   "mimetype": "text/x-python",
   "name": "python",
   "nbconvert_exporter": "python",
   "pygments_lexer": "ipython3",
   "version": "3.6.15"
  },
  "papermill": {
   "default_parameters": {},
   "duration": 11.326428,
   "end_time": "2022-03-08T02:12:19.595931",
   "environment_variables": {},
   "exception": null,
   "input_path": "Market-News.ipynb",
   "output_path": "Market-News.ipynb",
   "parameters": {},
   "start_time": "2022-03-08T02:12:08.269503",
   "version": "2.2.2"
  }
 },
 "nbformat": 4,
 "nbformat_minor": 5
}