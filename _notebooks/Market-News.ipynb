{
 "cells": [
  {
   "cell_type": "markdown",
   "id": "short-greensboro",
   "metadata": {
    "papermill": {
     "duration": 0.014645,
     "end_time": "2022-02-21T02:01:19.475029",
     "exception": false,
     "start_time": "2022-02-21T02:01:19.460384",
     "status": "completed"
    },
    "tags": []
   },
   "source": [
    "# Kriptovaliutų naujienos"
   ]
  },
  {
   "cell_type": "code",
   "execution_count": 1,
   "id": "functioning-knowing",
   "metadata": {
    "execution": {
     "iopub.execute_input": "2022-02-21T02:01:19.500356Z",
     "iopub.status.busy": "2022-02-21T02:01:19.499748Z",
     "iopub.status.idle": "2022-02-21T02:01:21.004968Z",
     "shell.execute_reply": "2022-02-21T02:01:21.004331Z"
    },
    "papermill": {
     "duration": 1.518409,
     "end_time": "2022-02-21T02:01:21.005125",
     "exception": false,
     "start_time": "2022-02-21T02:01:19.486716",
     "status": "completed"
    },
    "tags": []
   },
   "outputs": [],
   "source": [
    "#hide_input\n",
    "import warnings\n",
    "warnings.filterwarnings('ignore')\n",
    "from scripts.read_data import read_api\n",
    "from scripts.read_data import read_news\n",
    "from scripts.read_data import read_covid\n",
    "import matplotlib.pyplot as plt \n",
    "from IPython.display import Markdown as md"
   ]
  },
  {
   "cell_type": "code",
   "execution_count": 2,
   "id": "shared-acceptance",
   "metadata": {
    "execution": {
     "iopub.execute_input": "2022-02-21T02:01:21.035800Z",
     "iopub.status.busy": "2022-02-21T02:01:21.035117Z",
     "iopub.status.idle": "2022-02-21T02:01:31.062471Z",
     "shell.execute_reply": "2022-02-21T02:01:31.061181Z"
    },
    "papermill": {
     "duration": 10.046257,
     "end_time": "2022-02-21T02:01:31.062627",
     "exception": false,
     "start_time": "2022-02-21T02:01:21.016370",
     "status": "completed"
    },
    "tags": []
   },
   "outputs": [],
   "source": [
    "#hide_input\n",
    "blockchain = read_news('blockchain') \n",
    "btc = read_news('btc') \n",
    "xrp = read_news('xrp') \n",
    "trx = read_news('trx') \n",
    "eth = read_news('eth')  \n",
    "ada = read_news('ada')\n",
    "exchange = read_news('exchange') "
   ]
  },
  {
   "cell_type": "code",
   "execution_count": 3,
   "id": "synthetic-notion",
   "metadata": {
    "execution": {
     "iopub.execute_input": "2022-02-21T02:01:31.094144Z",
     "iopub.status.busy": "2022-02-21T02:01:31.093516Z",
     "iopub.status.idle": "2022-02-21T02:01:31.096751Z",
     "shell.execute_reply": "2022-02-21T02:01:31.096253Z"
    },
    "papermill": {
     "duration": 0.02346,
     "end_time": "2022-02-21T02:01:31.096879",
     "exception": false,
     "start_time": "2022-02-21T02:01:31.073419",
     "status": "completed"
    },
    "tags": []
   },
   "outputs": [
    {
     "data": {
      "text/markdown": [
       "- Ravendex surges 11% as market is bearish: RAVE to make new ATH?.  Ravendex price analysis for Feb 21, 2022, is very bullish as the token aims to make a new all-time high this year. RAVE has been bullish despite Bitcoin dipping below $39K, as seen in our Bitcoin price analysis for Feb 21. It is also important to note that RAVE has been very bearish in recent days [&#8230;]The post Ravendex surges 11% as market is bearish: RAVE to make new ATH? appeared first on Blockchain, Crypto and Stock News. ... [| Skaityti daugiau](https://thecoinrise.com/ravendex-surges-11-as-market-is-bearish-rave-to-make-new-ath/) "
      ],
      "text/plain": [
       "<IPython.core.display.Markdown object>"
      ]
     },
     "execution_count": 3,
     "metadata": {},
     "output_type": "execute_result"
    }
   ],
   "source": [
    "#hide_input\n",
    "#md('##### {}'.format(titleBTC)) \n",
    "md(\"- {}{} {}{} [| Skaityti daugiau]({}) \".format(blockchain['title'],'. ', blockchain['body'], ' ...', blockchain['url']))"
   ]
  },
  {
   "cell_type": "code",
   "execution_count": 4,
   "id": "aging-caution",
   "metadata": {
    "execution": {
     "iopub.execute_input": "2022-02-21T02:01:31.123694Z",
     "iopub.status.busy": "2022-02-21T02:01:31.123025Z",
     "iopub.status.idle": "2022-02-21T02:01:31.126461Z",
     "shell.execute_reply": "2022-02-21T02:01:31.125985Z"
    },
    "papermill": {
     "duration": 0.018908,
     "end_time": "2022-02-21T02:01:31.126587",
     "exception": false,
     "start_time": "2022-02-21T02:01:31.107679",
     "status": "completed"
    },
    "tags": []
   },
   "outputs": [
    {
     "data": {
      "text/markdown": [
       "- Ravendex surges 11% as market is bearish: RAVE to make new ATH?.  Ravendex price analysis for Feb 21, 2022, is very bullish as the token aims to make a new all-time high this year. RAVE has been bullish despite Bitcoin dipping below $39K, as seen in our Bitcoin price analysis for Feb 21. It is also important to note that RAVE has been very bearish in recent days [&#8230;]The post Ravendex surges 11% as market is bearish: RAVE to make new ATH? appeared first on Blockchain, Crypto and Stock News. ... [| Skaityti daugiau](https://thecoinrise.com/ravendex-surges-11-as-market-is-bearish-rave-to-make-new-ath/) "
      ],
      "text/plain": [
       "<IPython.core.display.Markdown object>"
      ]
     },
     "execution_count": 4,
     "metadata": {},
     "output_type": "execute_result"
    }
   ],
   "source": [
    "#hide_input\n",
    "#md('##### {}'.format(titleBTC)) \n",
    "md(\"- {}{} {}{} [| Skaityti daugiau]({}) \".format(btc['title'],'. ', btc['body'], ' ...', btc['url']))"
   ]
  },
  {
   "cell_type": "code",
   "execution_count": 5,
   "id": "organic-actress",
   "metadata": {
    "execution": {
     "iopub.execute_input": "2022-02-21T02:01:31.154366Z",
     "iopub.status.busy": "2022-02-21T02:01:31.153771Z",
     "iopub.status.idle": "2022-02-21T02:01:31.159031Z",
     "shell.execute_reply": "2022-02-21T02:01:31.158555Z"
    },
    "papermill": {
     "duration": 0.02161,
     "end_time": "2022-02-21T02:01:31.159190",
     "exception": false,
     "start_time": "2022-02-21T02:01:31.137580",
     "status": "completed"
    },
    "tags": []
   },
   "outputs": [
    {
     "data": {
      "text/markdown": [
       "- SEC Makes ‘Big Blunder’ in XRP Lawsuit, According to Crypto Legal Expert Jeremy Hogan.  Attorney and crypto legal expert Jeremy Hogan says that the U.S. Securities and Exchange Commission (SEC) has made a big mistake in its lawsuit with Ripple Labs. The SEC sued Ripple Labs in December of 2020 for allegedly issuing XRP as an unregistered security, and says it remains one to this day. In a new [&#8230;]The post SEC Makes ‘Big Blunder’ in XRP Lawsuit, According to Crypto Legal Expert Jeremy Hogan appeared first on The Daily Hodl. ... [| Skaityti daugiau](https://dailyhodl.com/2022/02/20/sec-makes-big-blunder-in-xrp-lawsuit-according-to-crypto-legal-expert-jeremy-hogan/) "
      ],
      "text/plain": [
       "<IPython.core.display.Markdown object>"
      ]
     },
     "execution_count": 5,
     "metadata": {},
     "output_type": "execute_result"
    }
   ],
   "source": [
    "#hide_input\n",
    "#md('##### {}'.format(titleBTC)) \n",
    "md(\"- {}{} {}{} [| Skaityti daugiau]({}) \".format(xrp['title'],'. ', xrp['body'], ' ...', xrp['url']))"
   ]
  },
  {
   "cell_type": "code",
   "execution_count": 6,
   "id": "prompt-farmer",
   "metadata": {
    "execution": {
     "iopub.execute_input": "2022-02-21T02:01:31.189111Z",
     "iopub.status.busy": "2022-02-21T02:01:31.188507Z",
     "iopub.status.idle": "2022-02-21T02:01:31.192365Z",
     "shell.execute_reply": "2022-02-21T02:01:31.191887Z"
    },
    "papermill": {
     "duration": 0.021973,
     "end_time": "2022-02-21T02:01:31.192488",
     "exception": false,
     "start_time": "2022-02-21T02:01:31.170515",
     "status": "completed"
    },
    "tags": []
   },
   "outputs": [
    {
     "data": {
      "text/markdown": [
       "- Bitcoin Cash, Tron, Fantom Price Analysis: 17 February.  To affirm a healthy recovery phase, Bitcoin Cash still needed to close above the 50 EMA near the $331-resistance. On the other hand, Tron displayed a short-term uptrend as it swayed above its 20 EMA. But the 38.2% Fibonacci level continued to pose as a hurdle. Also, Fantom snapped off its trendline resistance and eyed [&#8230;] ... [| Skaityti daugiau](https://ambcrypto.com/bitcoin-cash-tron-fantom-price-analysis-17-february/) "
      ],
      "text/plain": [
       "<IPython.core.display.Markdown object>"
      ]
     },
     "execution_count": 6,
     "metadata": {},
     "output_type": "execute_result"
    }
   ],
   "source": [
    "#hide_input\n",
    "#md('##### {}'.format(titleBTC)) \n",
    "md(\"- {}{} {}{} [| Skaityti daugiau]({}) \".format(trx['title'],'. ', trx['body'], ' ...', trx['url']))"
   ]
  },
  {
   "cell_type": "code",
   "execution_count": 7,
   "id": "illegal-greece",
   "metadata": {
    "execution": {
     "iopub.execute_input": "2022-02-21T02:01:31.222361Z",
     "iopub.status.busy": "2022-02-21T02:01:31.221771Z",
     "iopub.status.idle": "2022-02-21T02:01:31.225282Z",
     "shell.execute_reply": "2022-02-21T02:01:31.224695Z"
    },
    "papermill": {
     "duration": 0.020885,
     "end_time": "2022-02-21T02:01:31.225403",
     "exception": false,
     "start_time": "2022-02-21T02:01:31.204518",
     "status": "completed"
    },
    "tags": []
   },
   "outputs": [
    {
     "data": {
      "text/markdown": [
       "- LUNA may be suffering, but here’s what is gaining support from it.  The Terra blockchain recently infused about $450 million worth of UST into the Anchor yield reserve through the Luna Foundation Guard. This extended the reserves for the next 12 months. Now, while it was expected that LUNA would gain some advantage from that, it failed to do so. In fact, it ended up heeding to [&#8230;] ... [| Skaityti daugiau](https://ambcrypto.com/luna-may-be-suffering-but-heres-what-is-gaining-support-from-it/) "
      ],
      "text/plain": [
       "<IPython.core.display.Markdown object>"
      ]
     },
     "execution_count": 7,
     "metadata": {},
     "output_type": "execute_result"
    }
   ],
   "source": [
    "#hide_input\n",
    "#md('##### {}'.format(titleBTC)) \n",
    "md(\"- {}{} {}{} [| Skaityti daugiau]({}) \".format(eth['title'],'. ', eth['body'], ' ...', eth['url']))"
   ]
  },
  {
   "cell_type": "code",
   "execution_count": 8,
   "id": "sublime-lounge",
   "metadata": {
    "execution": {
     "iopub.execute_input": "2022-02-21T02:01:31.256218Z",
     "iopub.status.busy": "2022-02-21T02:01:31.254925Z",
     "iopub.status.idle": "2022-02-21T02:01:31.259427Z",
     "shell.execute_reply": "2022-02-21T02:01:31.259876Z"
    },
    "papermill": {
     "duration": 0.022548,
     "end_time": "2022-02-21T02:01:31.260017",
     "exception": false,
     "start_time": "2022-02-21T02:01:31.237469",
     "status": "completed"
    },
    "tags": []
   },
   "outputs": [
    {
     "data": {
      "text/markdown": [
       "- $8 or $58? 3rd or 7th? – What the ‘experts’ say about where Cardano will go.  In 2021, Cardano was the third-biggest crypto by market cap, breathing down Ethereum&#8217;s neck. However, 2022 saw it in seventh place. To that end, Finder&#8217;s panel of fintech experts came together to predict ADA&#8217;s future price performance. The final estimate was well worth a read. A full deck of Cardano To make a long story [&#8230;] ... [| Skaityti daugiau](https://ambcrypto.com/8-or-58-3rd-or-7th-what-the-experts-say-about-where-cardano-will-go/) "
      ],
      "text/plain": [
       "<IPython.core.display.Markdown object>"
      ]
     },
     "execution_count": 8,
     "metadata": {},
     "output_type": "execute_result"
    }
   ],
   "source": [
    "#hide_input\n",
    "#md('##### {}'.format(titleBTC)) \n",
    "md(\"- {}{} {}{} [| Skaityti daugiau]({}) \".format(ada['title'],'. ', ada['body'], ' ...', ada['url']))"
   ]
  },
  {
   "cell_type": "code",
   "execution_count": 9,
   "id": "specified-ordering",
   "metadata": {
    "execution": {
     "iopub.execute_input": "2022-02-21T02:01:31.292394Z",
     "iopub.status.busy": "2022-02-21T02:01:31.291789Z",
     "iopub.status.idle": "2022-02-21T02:01:31.294948Z",
     "shell.execute_reply": "2022-02-21T02:01:31.294448Z"
    },
    "papermill": {
     "duration": 0.022511,
     "end_time": "2022-02-21T02:01:31.295066",
     "exception": false,
     "start_time": "2022-02-21T02:01:31.272555",
     "status": "completed"
    },
    "tags": []
   },
   "outputs": [
    {
     "data": {
      "text/markdown": [
       "- SEC Makes ‘Big Blunder’ in XRP Lawsuit, According to Crypto Legal Expert Jeremy Hogan.  Attorney and crypto legal expert Jeremy Hogan says that the U.S. Securities and Exchange Commission (SEC) has made a big mistake in its lawsuit with Ripple Labs. The SEC sued Ripple Labs in December of 2020 for allegedly issuing XRP as an unregistered security, and says it remains one to this day. In a new [&#8230;]The post SEC Makes ‘Big Blunder’ in XRP Lawsuit, According to Crypto Legal Expert Jeremy Hogan appeared first on The Daily Hodl. ... [| Skaityti daugiau](https://dailyhodl.com/2022/02/20/sec-makes-big-blunder-in-xrp-lawsuit-according-to-crypto-legal-expert-jeremy-hogan/) "
      ],
      "text/plain": [
       "<IPython.core.display.Markdown object>"
      ]
     },
     "execution_count": 9,
     "metadata": {},
     "output_type": "execute_result"
    }
   ],
   "source": [
    "#hide_input\n",
    "#md('##### {}'.format(titleBTC)) \n",
    "md(\"- {}{} {}{} [| Skaityti daugiau]({}) \".format(exchange['title'],'. ', exchange['body'], ' ...', exchange['url']))"
   ]
  },
  {
   "cell_type": "code",
   "execution_count": null,
   "id": "tender-livestock",
   "metadata": {
    "papermill": {
     "duration": 0.013699,
     "end_time": "2022-02-21T02:01:31.323416",
     "exception": false,
     "start_time": "2022-02-21T02:01:31.309717",
     "status": "completed"
    },
    "tags": []
   },
   "outputs": [],
   "source": []
  },
  {
   "cell_type": "code",
   "execution_count": null,
   "id": "appreciated-diamond",
   "metadata": {
    "papermill": {
     "duration": 0.013317,
     "end_time": "2022-02-21T02:01:31.350395",
     "exception": false,
     "start_time": "2022-02-21T02:01:31.337078",
     "status": "completed"
    },
    "tags": []
   },
   "outputs": [],
   "source": []
  },
  {
   "cell_type": "code",
   "execution_count": null,
   "id": "romance-sweden",
   "metadata": {
    "papermill": {
     "duration": 0.014191,
     "end_time": "2022-02-21T02:01:31.379352",
     "exception": false,
     "start_time": "2022-02-21T02:01:31.365161",
     "status": "completed"
    },
    "tags": []
   },
   "outputs": [],
   "source": []
  },
  {
   "cell_type": "code",
   "execution_count": null,
   "id": "dietary-statistics",
   "metadata": {
    "papermill": {
     "duration": 0.01637,
     "end_time": "2022-02-21T02:01:31.412402",
     "exception": false,
     "start_time": "2022-02-21T02:01:31.396032",
     "status": "completed"
    },
    "tags": []
   },
   "outputs": [],
   "source": []
  }
 ],
 "metadata": {
  "kernelspec": {
   "display_name": "Python 3",
   "language": "python",
   "name": "python3"
  },
  "language_info": {
   "codemirror_mode": {
    "name": "ipython",
    "version": 3
   },
   "file_extension": ".py",
   "mimetype": "text/x-python",
   "name": "python",
   "nbconvert_exporter": "python",
   "pygments_lexer": "ipython3",
   "version": "3.6.15"
  },
  "papermill": {
   "default_parameters": {},
   "duration": 13.797133,
   "end_time": "2022-02-21T02:01:31.949549",
   "environment_variables": {},
   "exception": null,
   "input_path": "Market-News.ipynb",
   "output_path": "Market-News.ipynb",
   "parameters": {},
   "start_time": "2022-02-21T02:01:18.152416",
   "version": "2.2.2"
  }
 },
 "nbformat": 4,
 "nbformat_minor": 5
}