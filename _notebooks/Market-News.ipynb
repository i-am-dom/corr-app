{
 "cells": [
  {
   "cell_type": "markdown",
   "id": "short-greensboro",
   "metadata": {
    "papermill": {
     "duration": 0.016143,
     "end_time": "2021-08-30T01:55:52.358955",
     "exception": false,
     "start_time": "2021-08-30T01:55:52.342812",
     "status": "completed"
    },
    "tags": []
   },
   "source": [
    "# Kriptovaliutų naujienos"
   ]
  },
  {
   "cell_type": "code",
   "execution_count": 1,
   "id": "functioning-knowing",
   "metadata": {
    "execution": {
     "iopub.execute_input": "2021-08-30T01:55:52.392625Z",
     "iopub.status.busy": "2021-08-30T01:55:52.388314Z",
     "iopub.status.idle": "2021-08-30T01:55:53.693986Z",
     "shell.execute_reply": "2021-08-30T01:55:53.692953Z"
    },
    "papermill": {
     "duration": 1.323722,
     "end_time": "2021-08-30T01:55:53.694136",
     "exception": false,
     "start_time": "2021-08-30T01:55:52.370414",
     "status": "completed"
    },
    "tags": []
   },
   "outputs": [],
   "source": [
    "#hide_input\n",
    "import warnings\n",
    "warnings.filterwarnings('ignore')\n",
    "from scripts.read_data import read_api\n",
    "from scripts.read_data import read_news\n",
    "from scripts.read_data import read_covid\n",
    "import matplotlib.pyplot as plt \n",
    "from IPython.display import Markdown as md"
   ]
  },
  {
   "cell_type": "code",
   "execution_count": 2,
   "id": "shared-acceptance",
   "metadata": {
    "execution": {
     "iopub.execute_input": "2021-08-30T01:55:53.721265Z",
     "iopub.status.busy": "2021-08-30T01:55:53.720240Z",
     "iopub.status.idle": "2021-08-30T01:56:02.118934Z",
     "shell.execute_reply": "2021-08-30T01:56:02.118046Z"
    },
    "papermill": {
     "duration": 8.414763,
     "end_time": "2021-08-30T01:56:02.119149",
     "exception": false,
     "start_time": "2021-08-30T01:55:53.704386",
     "status": "completed"
    },
    "tags": []
   },
   "outputs": [],
   "source": [
    "#hide_input\n",
    "blockchain = read_news('blockchain') \n",
    "btc = read_news('btc') \n",
    "xrp = read_news('xrp') \n",
    "trx = read_news('trx') \n",
    "eth = read_news('eth')  \n",
    "ada = read_news('ada')\n",
    "exchange = read_news('exchange') "
   ]
  },
  {
   "cell_type": "code",
   "execution_count": 3,
   "id": "synthetic-notion",
   "metadata": {
    "execution": {
     "iopub.execute_input": "2021-08-30T01:56:02.149126Z",
     "iopub.status.busy": "2021-08-30T01:56:02.148536Z",
     "iopub.status.idle": "2021-08-30T01:56:02.150935Z",
     "shell.execute_reply": "2021-08-30T01:56:02.151423Z"
    },
    "papermill": {
     "duration": 0.01913,
     "end_time": "2021-08-30T01:56:02.151555",
     "exception": false,
     "start_time": "2021-08-30T01:56:02.132425",
     "status": "completed"
    },
    "tags": []
   },
   "outputs": [
    {
     "data": {
      "text/markdown": [
       "- Deloitte Survey Shows 76% Of Finance Execs Think Physical Money Is Nearing Its End.  A recent survey from Deloitte that collated data from 1,280 senior finance executives in 10 locations across the world produced interesting results regarding the blockchain industry. This survey is Deloitte’s fourth annual Global Blockchain Survey, which focuses on the financial services industry (FSI). Findings from the survey show that there is a need for the industry to turn towards product modernization and distribution in order to see economic growth. When polled, 76% of the 1,280 respondents said they believed that the end of physical money is near. And that digital assets were set to replace fiat currencies in the next five to 10 years. This will obviously have a significant impact on the financial services industry, but the respondents remained optimistic about the revenue potential of both blockchain and crypto, and digital currencies. Related Reading &#124; American Rapper Tyga To Launch OnlyFans Crypto-Competitor “The Deloitte ‘Global Blockchain Survey’ shows that the foundation of banking has been fundamentally outlived and financial services industry players must redefine themselves and find innovative ways to create economic growth in the future of money.” &#8211; Linda Paw-czuk, Principal, Deloitte Consulting LLP, and global and U.S. blockchain and digital assets leader Blockchain Is Already Mainstream, Says Survey The survey also showed that the majority &#8211; nearly 80% &#8211; of global FSI leaders believed... ... [| Skaityti daugiau](https://www.newsbtc.com/news/blockchain/survey-physical-money-at-its-end/) "
      ],
      "text/plain": [
       "<IPython.core.display.Markdown object>"
      ]
     },
     "execution_count": 3,
     "metadata": {},
     "output_type": "execute_result"
    }
   ],
   "source": [
    "#hide_input\n",
    "#md('##### {}'.format(titleBTC)) \n",
    "md(\"- {}{} {}{} [| Skaityti daugiau]({}) \".format(blockchain['title'],'. ', blockchain['body'], ' ...', blockchain['url']))"
   ]
  },
  {
   "cell_type": "code",
   "execution_count": 4,
   "id": "aging-caution",
   "metadata": {
    "execution": {
     "iopub.execute_input": "2021-08-30T01:56:02.178107Z",
     "iopub.status.busy": "2021-08-30T01:56:02.177542Z",
     "iopub.status.idle": "2021-08-30T01:56:02.180518Z",
     "shell.execute_reply": "2021-08-30T01:56:02.180021Z"
    },
    "papermill": {
     "duration": 0.018932,
     "end_time": "2021-08-30T01:56:02.180636",
     "exception": false,
     "start_time": "2021-08-30T01:56:02.161704",
     "status": "completed"
    },
    "tags": []
   },
   "outputs": [
    {
     "data": {
      "text/markdown": [
       "- Bitcoin price analysis: BTC correcting after bullish streak above $49,000.   TL;DR Breakdown Bitcoin price analysis reveals that the king of cryptocurrency is in the correction phase.Strong support is currently found at the $48,083 mark.Strong resistance is currently found at the $49,350 mark. Bitcoin price analysis reveals that the king of cryptocurrency has been going through healthy corrections in the past 24-hours. During the last 24-hours, Bitcoin price is down by 0.17 percent, while it is down by 1.7 percent during the past seven days at the time of writing. Bitcoin is notoriously famous for head and shoulder patterns, and if the current pattern translates into a similar pattern, further correction is on its way. The first few hours of the day are extremely important not just for Bitcoin but overall market trend as well. BTC/USD 1-day candlestick chart shows healthy correction The one-day candlestick Bitcoin price analysis chart reveals that the king is going through a mixed condition where bulls and bears are fighting to take precedent of the market momentum in the hours to come. The upper Bollinger band is still present above the $50,000 barrier at the $50,844 mark amidst decreasing volatility on the one-day chart. The nine-day moving average (SMA 9) is above the current price presenting strong resistance at the $48,659 mark. Whereas the lower Bollinger band and the Bollinger bands&#8217; average are found at the $44,182 and $47,513 marks, presenting strong support to the king of cryptocurrenc... ... [| Skaityti daugiau](https://api.follow.it/track-rss-story-click/v3/tHfgumto13D1LDKFhw1YskGb1Jh49AJn) "
      ],
      "text/plain": [
       "<IPython.core.display.Markdown object>"
      ]
     },
     "execution_count": 4,
     "metadata": {},
     "output_type": "execute_result"
    }
   ],
   "source": [
    "#hide_input\n",
    "#md('##### {}'.format(titleBTC)) \n",
    "md(\"- {}{} {}{} [| Skaityti daugiau]({}) \".format(btc['title'],'. ', btc['body'], ' ...', btc['url']))"
   ]
  },
  {
   "cell_type": "code",
   "execution_count": 5,
   "id": "organic-actress",
   "metadata": {
    "execution": {
     "iopub.execute_input": "2021-08-30T01:56:02.208212Z",
     "iopub.status.busy": "2021-08-30T01:56:02.207648Z",
     "iopub.status.idle": "2021-08-30T01:56:02.210548Z",
     "shell.execute_reply": "2021-08-30T01:56:02.210081Z"
    },
    "papermill": {
     "duration": 0.019185,
     "end_time": "2021-08-30T01:56:02.210661",
     "exception": false,
     "start_time": "2021-08-30T01:56:02.191476",
     "status": "completed"
    },
    "tags": []
   },
   "outputs": [
    {
     "data": {
      "text/markdown": [
       "- Bitcoin vs. Ethereum: Which crypto leads the investment products race.  The month of August has, by and large, aided the recovery of most of the market&#8217;s top cryptocurrencies. The 30-day returns for Bitcoin and Ethereum, for instance, reflected positive values, 22.35% and 35.95% respectively, at the time of writing. Given the high risk associated with HODLing these crypto assets directly, institutional investors have been on [&#8230;] ... [| Skaityti daugiau](https://ambcrypto.com/bitcoin-vs-ethereum-which-crypto-leads-the-investment-products-race/) "
      ],
      "text/plain": [
       "<IPython.core.display.Markdown object>"
      ]
     },
     "execution_count": 5,
     "metadata": {},
     "output_type": "execute_result"
    }
   ],
   "source": [
    "#hide_input\n",
    "#md('##### {}'.format(titleBTC)) \n",
    "md(\"- {}{} {}{} [| Skaityti daugiau]({}) \".format(xrp['title'],'. ', xrp['body'], ' ...', xrp['url']))"
   ]
  },
  {
   "cell_type": "code",
   "execution_count": 6,
   "id": "prompt-farmer",
   "metadata": {
    "execution": {
     "iopub.execute_input": "2021-08-30T01:56:02.237943Z",
     "iopub.status.busy": "2021-08-30T01:56:02.237333Z",
     "iopub.status.idle": "2021-08-30T01:56:02.239456Z",
     "shell.execute_reply": "2021-08-30T01:56:02.239919Z"
    },
    "papermill": {
     "duration": 0.018138,
     "end_time": "2021-08-30T01:56:02.240033",
     "exception": false,
     "start_time": "2021-08-30T01:56:02.221895",
     "status": "completed"
    },
    "tags": []
   },
   "outputs": [
    {
     "data": {
      "text/markdown": [
       "- Bitcoin Cash, Tron, Filecoin Price Analysis: 28 August.  Bitcoin and Ethereum’s price action impacted most altcoins positively. Some altcoins, however, showed consolidation despite broader market gains. Filecoin, for instance, gained minorly and observed range-bound movement between $75.17 and $70.01 price levels. Bitcoin Cash gained 3.5% and could test the $672.68 price ceiling while TRON presented a buy signal after gaining by 3.3%. Bitcoin [&#8230;] ... [| Skaityti daugiau](https://ambcrypto.com/bitcoin-cash-tron-filecoin-price-analysis-28-august/) "
      ],
      "text/plain": [
       "<IPython.core.display.Markdown object>"
      ]
     },
     "execution_count": 6,
     "metadata": {},
     "output_type": "execute_result"
    }
   ],
   "source": [
    "#hide_input\n",
    "#md('##### {}'.format(titleBTC)) \n",
    "md(\"- {}{} {}{} [| Skaityti daugiau]({}) \".format(trx['title'],'. ', trx['body'], ' ...', trx['url']))"
   ]
  },
  {
   "cell_type": "code",
   "execution_count": 7,
   "id": "illegal-greece",
   "metadata": {
    "execution": {
     "iopub.execute_input": "2021-08-30T01:56:02.268538Z",
     "iopub.status.busy": "2021-08-30T01:56:02.267954Z",
     "iopub.status.idle": "2021-08-30T01:56:02.270324Z",
     "shell.execute_reply": "2021-08-30T01:56:02.270794Z"
    },
    "papermill": {
     "duration": 0.019096,
     "end_time": "2021-08-30T01:56:02.270909",
     "exception": false,
     "start_time": "2021-08-30T01:56:02.251813",
     "status": "completed"
    },
    "tags": []
   },
   "outputs": [
    {
     "data": {
      "text/markdown": [
       "- Deloitte Survey Shows 76% Of Finance Execs Think Physical Money Is Nearing Its End.  A recent survey from Deloitte that collated data from 1,280 senior finance executives in 10 locations across the world produced interesting results regarding the blockchain industry. This survey is Deloitte’s fourth annual Global Blockchain Survey, which focuses on the financial services industry (FSI). Findings from the survey show that there is a need for the industry to turn towards product modernization and distribution in order to see economic growth. When polled, 76% of the 1,280 respondents said they believed that the end of physical money is near. And that digital assets were set to replace fiat currencies in the next five to 10 years. This will obviously have a significant impact on the financial services industry, but the respondents remained optimistic about the revenue potential of both blockchain and crypto, and digital currencies. Related Reading &#124; American Rapper Tyga To Launch OnlyFans Crypto-Competitor “The Deloitte ‘Global Blockchain Survey’ shows that the foundation of banking has been fundamentally outlived and financial services industry players must redefine themselves and find innovative ways to create economic growth in the future of money.” &#8211; Linda Paw-czuk, Principal, Deloitte Consulting LLP, and global and U.S. blockchain and digital assets leader Blockchain Is Already Mainstream, Says Survey The survey also showed that the majority &#8211; nearly 80% &#8211; of global FSI leaders believed... ... [| Skaityti daugiau](https://www.newsbtc.com/news/blockchain/survey-physical-money-at-its-end/) "
      ],
      "text/plain": [
       "<IPython.core.display.Markdown object>"
      ]
     },
     "execution_count": 7,
     "metadata": {},
     "output_type": "execute_result"
    }
   ],
   "source": [
    "#hide_input\n",
    "#md('##### {}'.format(titleBTC)) \n",
    "md(\"- {}{} {}{} [| Skaityti daugiau]({}) \".format(eth['title'],'. ', eth['body'], ' ...', eth['url']))"
   ]
  },
  {
   "cell_type": "code",
   "execution_count": 8,
   "id": "sublime-lounge",
   "metadata": {
    "execution": {
     "iopub.execute_input": "2021-08-30T01:56:02.299581Z",
     "iopub.status.busy": "2021-08-30T01:56:02.298970Z",
     "iopub.status.idle": "2021-08-30T01:56:02.302724Z",
     "shell.execute_reply": "2021-08-30T01:56:02.302294Z"
    },
    "papermill": {
     "duration": 0.020244,
     "end_time": "2021-08-30T01:56:02.302829",
     "exception": false,
     "start_time": "2021-08-30T01:56:02.282585",
     "status": "completed"
    },
    "tags": []
   },
   "outputs": [
    {
     "data": {
      "text/markdown": [
       "- Hoskinson’s ‘green and go’ update on Cardano, Alonzo hardfork.  &#8220;Everything&#8217;s green and go, we&#8217;re on schedule,&#8221; according to IOHK founder and CEO, Charles Hoskison. In his latest vlog, he shared quick updates with the community about the upcoming Alonzo hard fork as the network approaches the launch of smart contracts. Hoskinson noted that the team was already preparing for the public Alonzo testnet hard [&#8230;] ... [| Skaityti daugiau](https://ambcrypto.com/cardanos-hoskinso-says-everythings-green-and-go-for-alonzo/) "
      ],
      "text/plain": [
       "<IPython.core.display.Markdown object>"
      ]
     },
     "execution_count": 8,
     "metadata": {},
     "output_type": "execute_result"
    }
   ],
   "source": [
    "#hide_input\n",
    "#md('##### {}'.format(titleBTC)) \n",
    "md(\"- {}{} {}{} [| Skaityti daugiau]({}) \".format(ada['title'],'. ', ada['body'], ' ...', ada['url']))"
   ]
  },
  {
   "cell_type": "code",
   "execution_count": 9,
   "id": "specified-ordering",
   "metadata": {
    "execution": {
     "iopub.execute_input": "2021-08-30T01:56:02.331924Z",
     "iopub.status.busy": "2021-08-30T01:56:02.331351Z",
     "iopub.status.idle": "2021-08-30T01:56:02.334249Z",
     "shell.execute_reply": "2021-08-30T01:56:02.333770Z"
    },
    "papermill": {
     "duration": 0.01974,
     "end_time": "2021-08-30T01:56:02.334355",
     "exception": false,
     "start_time": "2021-08-30T01:56:02.314615",
     "status": "completed"
    },
    "tags": []
   },
   "outputs": [
    {
     "data": {
      "text/markdown": [
       "- Crypto Assets: Securities or Commodities? Commissioner Explains How They Are Regulated in US.  A commissioner with the U.S. Commodity Futures Trading Commission (CFTC) has detailed how crypto assets are regulated in the U.S. and whether they fall under the jurisdiction of the CFTC or the Securities and Exchange Commission (SEC). &#x201C;There has often been a grossly inaccurate oversimplification&#x201D; of how crypto assets are regulated in the United States, [&#8230;] ... [| Skaityti daugiau](https://news.bitcoin.com/crypto-assets-securities-commodities-commissioner-explains-how-they-are-regulated-in-us/) "
      ],
      "text/plain": [
       "<IPython.core.display.Markdown object>"
      ]
     },
     "execution_count": 9,
     "metadata": {},
     "output_type": "execute_result"
    }
   ],
   "source": [
    "#hide_input\n",
    "#md('##### {}'.format(titleBTC)) \n",
    "md(\"- {}{} {}{} [| Skaityti daugiau]({}) \".format(exchange['title'],'. ', exchange['body'], ' ...', exchange['url']))"
   ]
  },
  {
   "cell_type": "code",
   "execution_count": null,
   "id": "tender-livestock",
   "metadata": {
    "papermill": {
     "duration": 0.01239,
     "end_time": "2021-08-30T01:56:02.359801",
     "exception": false,
     "start_time": "2021-08-30T01:56:02.347411",
     "status": "completed"
    },
    "tags": []
   },
   "outputs": [],
   "source": []
  },
  {
   "cell_type": "code",
   "execution_count": null,
   "id": "appreciated-diamond",
   "metadata": {
    "papermill": {
     "duration": 0.014463,
     "end_time": "2021-08-30T01:56:02.388266",
     "exception": false,
     "start_time": "2021-08-30T01:56:02.373803",
     "status": "completed"
    },
    "tags": []
   },
   "outputs": [],
   "source": []
  },
  {
   "cell_type": "code",
   "execution_count": null,
   "id": "romance-sweden",
   "metadata": {
    "papermill": {
     "duration": 0.012507,
     "end_time": "2021-08-30T01:56:02.413555",
     "exception": false,
     "start_time": "2021-08-30T01:56:02.401048",
     "status": "completed"
    },
    "tags": []
   },
   "outputs": [],
   "source": []
  },
  {
   "cell_type": "code",
   "execution_count": null,
   "id": "dietary-statistics",
   "metadata": {
    "papermill": {
     "duration": 0.012741,
     "end_time": "2021-08-30T01:56:02.439042",
     "exception": false,
     "start_time": "2021-08-30T01:56:02.426301",
     "status": "completed"
    },
    "tags": []
   },
   "outputs": [],
   "source": []
  }
 ],
 "metadata": {
  "kernelspec": {
   "display_name": "Python 3",
   "language": "python",
   "name": "python3"
  },
  "language_info": {
   "codemirror_mode": {
    "name": "ipython",
    "version": 3
   },
   "file_extension": ".py",
   "mimetype": "text/x-python",
   "name": "python",
   "nbconvert_exporter": "python",
   "pygments_lexer": "ipython3",
   "version": "3.6.14"
  },
  "papermill": {
   "default_parameters": {},
   "duration": 11.598897,
   "end_time": "2021-08-30T01:56:02.861134",
   "environment_variables": {},
   "exception": null,
   "input_path": "Market-News.ipynb",
   "output_path": "Market-News.ipynb",
   "parameters": {},
   "start_time": "2021-08-30T01:55:51.262237",
   "version": "2.2.2"
  }
 },
 "nbformat": 4,
 "nbformat_minor": 5
}