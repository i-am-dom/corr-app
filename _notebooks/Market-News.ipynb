{
 "cells": [
  {
   "cell_type": "markdown",
   "id": "short-greensboro",
   "metadata": {
    "papermill": {
     "duration": 0.01247,
     "end_time": "2022-08-11T02:59:23.202154",
     "exception": false,
     "start_time": "2022-08-11T02:59:23.189684",
     "status": "completed"
    },
    "tags": []
   },
   "source": [
    "# Kriptovaliutų naujienos"
   ]
  },
  {
   "cell_type": "code",
   "execution_count": 1,
   "id": "functioning-knowing",
   "metadata": {
    "execution": {
     "iopub.execute_input": "2022-08-11T02:59:23.230098Z",
     "iopub.status.busy": "2022-08-11T02:59:23.229539Z",
     "iopub.status.idle": "2022-08-11T02:59:24.354722Z",
     "shell.execute_reply": "2022-08-11T02:59:24.354220Z"
    },
    "papermill": {
     "duration": 1.143146,
     "end_time": "2022-08-11T02:59:24.354842",
     "exception": false,
     "start_time": "2022-08-11T02:59:23.211696",
     "status": "completed"
    },
    "tags": []
   },
   "outputs": [],
   "source": [
    "#hide_input\n",
    "import warnings\n",
    "warnings.filterwarnings('ignore')\n",
    "from scripts.read_data import read_api\n",
    "from scripts.read_data import read_news\n",
    "from scripts.read_data import read_covid\n",
    "import matplotlib.pyplot as plt \n",
    "from IPython.display import Markdown as md"
   ]
  },
  {
   "cell_type": "code",
   "execution_count": 2,
   "id": "shared-acceptance",
   "metadata": {
    "execution": {
     "iopub.execute_input": "2022-08-11T02:59:24.379866Z",
     "iopub.status.busy": "2022-08-11T02:59:24.378942Z",
     "iopub.status.idle": "2022-08-11T02:59:34.298541Z",
     "shell.execute_reply": "2022-08-11T02:59:34.297600Z"
    },
    "papermill": {
     "duration": 9.934062,
     "end_time": "2022-08-11T02:59:34.298668",
     "exception": false,
     "start_time": "2022-08-11T02:59:24.364606",
     "status": "completed"
    },
    "tags": []
   },
   "outputs": [],
   "source": [
    "#hide_input\n",
    "blockchain = read_news('blockchain') \n",
    "btc = read_news('btc') \n",
    "xrp = read_news('xrp') \n",
    "trx = read_news('trx') \n",
    "eth = read_news('eth')  \n",
    "ada = read_news('ada')\n",
    "exchange = read_news('exchange') "
   ]
  },
  {
   "cell_type": "code",
   "execution_count": 3,
   "id": "synthetic-notion",
   "metadata": {
    "execution": {
     "iopub.execute_input": "2022-08-11T02:59:34.322628Z",
     "iopub.status.busy": "2022-08-11T02:59:34.322019Z",
     "iopub.status.idle": "2022-08-11T02:59:34.325298Z",
     "shell.execute_reply": "2022-08-11T02:59:34.324842Z"
    },
    "papermill": {
     "duration": 0.017457,
     "end_time": "2022-08-11T02:59:34.325399",
     "exception": false,
     "start_time": "2022-08-11T02:59:34.307942",
     "status": "completed"
    },
    "tags": []
   },
   "outputs": [
    {
     "data": {
      "text/markdown": [
       "- Ethereum L2 TVL Enjoys 284% Growth In The Past Month Ahead Of Goerli Merge.  Total value locked (TVL) on Optimism, a layer-2 scaling solution for the Ethereum blockchain, has increased 284% in the last month, according to data from DefiLlama. Users lending and borrowing assets on Aave through Optimism&#8217;s layer-2 chain make up the vast majority of TVL. Ethereum Optimism TVL Surges In anticipation of The Merge update, which will see the blockchain switch from a proof-of-work network to one based on proof-of-stake, investors have been bidding up digital assets tied to the Ethereum ecosystem. The merge will be tested by Ethereum developers on the Goerli testnet on Thursday, August 11. If everything goes according to plan, the mainnet merging will be approved on September 19. The mainnet merge would probably be delayed if there are issues with the Goerli merge. The Merge&#8217;s anticipated launch date has been set for September 19, according to a recent Ethereum developer call. With Rollups, or off-chain computations, Optimism, an Ethereum layer-2 blockchain, aims to extend the ecosystem and expedite transactions. On Optimism, transactions are entered, and on Ethereum, they are completed. ETH/USD trades at $1,853. Source: TradingView The project is home to 35 protocols, including automated market maker Velodrome, decentralized exchange Uniswap, and derivatives exchange Synthetix. The Ethereum blockchain&#8217;s current capacity of 30 transactions per second is inadequate to manage the enormous amount ... ... [| Skaityti daugiau](https://www.newsbtc.com/news/ethereum/ethereum-l2-tvl-enjoys-284-growth-in-the-past-month-ahead-of-goerli-merge/) "
      ],
      "text/plain": [
       "<IPython.core.display.Markdown object>"
      ]
     },
     "execution_count": 3,
     "metadata": {},
     "output_type": "execute_result"
    }
   ],
   "source": [
    "#hide_input\n",
    "#md('##### {}'.format(titleBTC)) \n",
    "md(\"- {}{} {}{} [| Skaityti daugiau]({}) \".format(blockchain['title'],'. ', blockchain['body'], ' ...', blockchain['url']))"
   ]
  },
  {
   "cell_type": "code",
   "execution_count": 4,
   "id": "aging-caution",
   "metadata": {
    "execution": {
     "iopub.execute_input": "2022-08-11T02:59:34.348279Z",
     "iopub.status.busy": "2022-08-11T02:59:34.347720Z",
     "iopub.status.idle": "2022-08-11T02:59:34.350733Z",
     "shell.execute_reply": "2022-08-11T02:59:34.350305Z"
    },
    "papermill": {
     "duration": 0.016162,
     "end_time": "2022-08-11T02:59:34.350829",
     "exception": false,
     "start_time": "2022-08-11T02:59:34.334667",
     "status": "completed"
    },
    "tags": []
   },
   "outputs": [
    {
     "data": {
      "text/markdown": [
       "- Bitcoin, Ethereum, Monero, and Algorand Daily Price Analyses – 10 August Roundup.  The global crypto market has resumed its gains after facing a bout of stark bearishness. The change in the market has resulted in its leap to new highs. The value of Bitcoin, Ethereum, and others saw a speedy growth. The recent few days had brought the market to lows affecting various coins and tokens&#8217; prices. &#8230;  Bitcoin, Ethereum, Monero, and Algorand Daily Price Analyses – 10 August Roundup Read More &#187; ... [| Skaityti daugiau](https://www.cryptopolitan.com/bitcoin-ethereum-monero-and-algorand-daily-price-analyses-10-august-roundup/) "
      ],
      "text/plain": [
       "<IPython.core.display.Markdown object>"
      ]
     },
     "execution_count": 4,
     "metadata": {},
     "output_type": "execute_result"
    }
   ],
   "source": [
    "#hide_input\n",
    "#md('##### {}'.format(titleBTC)) \n",
    "md(\"- {}{} {}{} [| Skaityti daugiau]({}) \".format(btc['title'],'. ', btc['body'], ' ...', btc['url']))"
   ]
  },
  {
   "cell_type": "code",
   "execution_count": 5,
   "id": "organic-actress",
   "metadata": {
    "execution": {
     "iopub.execute_input": "2022-08-11T02:59:34.374278Z",
     "iopub.status.busy": "2022-08-11T02:59:34.373719Z",
     "iopub.status.idle": "2022-08-11T02:59:34.377174Z",
     "shell.execute_reply": "2022-08-11T02:59:34.377709Z"
    },
    "papermill": {
     "duration": 0.017363,
     "end_time": "2022-08-11T02:59:34.377815",
     "exception": false,
     "start_time": "2022-08-11T02:59:34.360452",
     "status": "completed"
    },
    "tags": []
   },
   "outputs": [
    {
     "data": {
      "text/markdown": [
       "- Ripple Is Exploring a Buyout of Celsius’ Assets.  Ripple Labs is considering a potential purchase of assets from Celsius amidst the latter company&#8217;s bankruptcy process. Ripple Considers Celsius Buyout Ripple could purchase Celsius&#8217; assets. A Ripple spokesperson told... ... [| Skaityti daugiau](https://cryptobriefing.com/ripple-is-exploring-a-buyout-of-celsius-assets/?utm_source=feed&utm_medium=rss) "
      ],
      "text/plain": [
       "<IPython.core.display.Markdown object>"
      ]
     },
     "execution_count": 5,
     "metadata": {},
     "output_type": "execute_result"
    }
   ],
   "source": [
    "#hide_input\n",
    "#md('##### {}'.format(titleBTC)) \n",
    "md(\"- {}{} {}{} [| Skaityti daugiau]({}) \".format(xrp['title'],'. ', xrp['body'], ' ...', xrp['url']))"
   ]
  },
  {
   "cell_type": "code",
   "execution_count": 6,
   "id": "prompt-farmer",
   "metadata": {
    "execution": {
     "iopub.execute_input": "2022-08-11T02:59:34.400986Z",
     "iopub.status.busy": "2022-08-11T02:59:34.400437Z",
     "iopub.status.idle": "2022-08-11T02:59:34.403811Z",
     "shell.execute_reply": "2022-08-11T02:59:34.404326Z"
    },
    "papermill": {
     "duration": 0.016735,
     "end_time": "2022-08-11T02:59:34.404430",
     "exception": false,
     "start_time": "2022-08-11T02:59:34.387695",
     "status": "completed"
    },
    "tags": []
   },
   "outputs": [
    {
     "data": {
      "text/markdown": [
       "- Tron Founder Justin Sun Says His Crypto Exchange Poloniex Will Support All Future Forked Ethereum Tokens: Report.  The founder and former chief executive of smart contract platform Tron (TRX) is reportedly saying that his crypto exchange will support all future forked Ethereum (ETH) tokens. According to a new report by Bloomberg, Sun says that Poloniex, a crypto exchange he heavily backed in 2019, will list any proof of work versions of Ethereum [&#8230;]The post Tron Founder Justin Sun Says His Crypto Exchange Poloniex Will Support All Future Forked Ethereum Tokens: Report appeared first on The Daily Hodl. ... [| Skaityti daugiau](https://dailyhodl.com/2022/08/08/tron-founder-justin-sun-says-his-crypto-exchange-poloniex-will-support-all-future-forked-ethereum-tokens-report/) "
      ],
      "text/plain": [
       "<IPython.core.display.Markdown object>"
      ]
     },
     "execution_count": 6,
     "metadata": {},
     "output_type": "execute_result"
    }
   ],
   "source": [
    "#hide_input\n",
    "#md('##### {}'.format(titleBTC)) \n",
    "md(\"- {}{} {}{} [| Skaityti daugiau]({}) \".format(trx['title'],'. ', trx['body'], ' ...', trx['url']))"
   ]
  },
  {
   "cell_type": "code",
   "execution_count": 7,
   "id": "illegal-greece",
   "metadata": {
    "execution": {
     "iopub.execute_input": "2022-08-11T02:59:34.429119Z",
     "iopub.status.busy": "2022-08-11T02:59:34.428539Z",
     "iopub.status.idle": "2022-08-11T02:59:34.431787Z",
     "shell.execute_reply": "2022-08-11T02:59:34.431343Z"
    },
    "papermill": {
     "duration": 0.017062,
     "end_time": "2022-08-11T02:59:34.431879",
     "exception": false,
     "start_time": "2022-08-11T02:59:34.414817",
     "status": "completed"
    },
    "tags": []
   },
   "outputs": [
    {
     "data": {
      "text/markdown": [
       "- Ethereum Price Headed to $2,000 as Ethereum Goerli Merge Goes Live.  Ethereum is entering its final phase after the network&#8217;s final testnet has been successfully executed on the Goerli Network. This is the final much-anticipated event after the transition from proof of stake to proof of work is complete. The mainnet merge should occur sometime at the end of September, however, this was the final rehearsal of the merge. The Goerli testnet merge occurred in two phases, one beggining with the Bellatrix upgrade on August 4, and the second step called [&#8230;] ... [| Skaityti daugiau](https://en.ethereumworldnews.com/ethereum-price-headed-to-2000-as-ethereum-goerli-merge-goes-live/) "
      ],
      "text/plain": [
       "<IPython.core.display.Markdown object>"
      ]
     },
     "execution_count": 7,
     "metadata": {},
     "output_type": "execute_result"
    }
   ],
   "source": [
    "#hide_input\n",
    "#md('##### {}'.format(titleBTC)) \n",
    "md(\"- {}{} {}{} [| Skaityti daugiau]({}) \".format(eth['title'],'. ', eth['body'], ' ...', eth['url']))"
   ]
  },
  {
   "cell_type": "code",
   "execution_count": 8,
   "id": "sublime-lounge",
   "metadata": {
    "execution": {
     "iopub.execute_input": "2022-08-11T02:59:34.457990Z",
     "iopub.status.busy": "2022-08-11T02:59:34.457435Z",
     "iopub.status.idle": "2022-08-11T02:59:34.460431Z",
     "shell.execute_reply": "2022-08-11T02:59:34.460835Z"
    },
    "papermill": {
     "duration": 0.017532,
     "end_time": "2022-08-11T02:59:34.460941",
     "exception": false,
     "start_time": "2022-08-11T02:59:34.443409",
     "status": "completed"
    },
    "tags": []
   },
   "outputs": [
    {
     "data": {
      "text/markdown": [
       "- ‘$ADA Whale’ Explains His Approach to Valuing Cardano.  A popular Cardano ($ADA) influencer has recently explained his approach to valuing the smart contract platform, pointing out he sees a contradiction between “those who really seem to believe Cardano is fundamentally overvalued” and himself. In a series of tweets, the Cardano influencer known as “ADA whale” on the microblogging platform Twitter told his nearly 110,000 […] ... [| Skaityti daugiau](https://www.cryptoglobe.com/latest/2022/08/ada-whale-explains-his-approach-to-valuing-cardano/) "
      ],
      "text/plain": [
       "<IPython.core.display.Markdown object>"
      ]
     },
     "execution_count": 8,
     "metadata": {},
     "output_type": "execute_result"
    }
   ],
   "source": [
    "#hide_input\n",
    "#md('##### {}'.format(titleBTC)) \n",
    "md(\"- {}{} {}{} [| Skaityti daugiau]({}) \".format(ada['title'],'. ', ada['body'], ' ...', ada['url']))"
   ]
  },
  {
   "cell_type": "code",
   "execution_count": 9,
   "id": "specified-ordering",
   "metadata": {
    "execution": {
     "iopub.execute_input": "2022-08-11T02:59:34.486726Z",
     "iopub.status.busy": "2022-08-11T02:59:34.486174Z",
     "iopub.status.idle": "2022-08-11T02:59:34.489605Z",
     "shell.execute_reply": "2022-08-11T02:59:34.489151Z"
    },
    "papermill": {
     "duration": 0.017905,
     "end_time": "2022-08-11T02:59:34.489698",
     "exception": false,
     "start_time": "2022-08-11T02:59:34.471793",
     "status": "completed"
    },
    "tags": []
   },
   "outputs": [
    {
     "data": {
      "text/markdown": [
       "- Ethereum L2 TVL Enjoys 284% Growth In The Past Month Ahead Of Goerli Merge.  Total value locked (TVL) on Optimism, a layer-2 scaling solution for the Ethereum blockchain, has increased 284% in the last month, according to data from DefiLlama. Users lending and borrowing assets on Aave through Optimism&#8217;s layer-2 chain make up the vast majority of TVL. Ethereum Optimism TVL Surges In anticipation of The Merge update, which will see the blockchain switch from a proof-of-work network to one based on proof-of-stake, investors have been bidding up digital assets tied to the Ethereum ecosystem. The merge will be tested by Ethereum developers on the Goerli testnet on Thursday, August 11. If everything goes according to plan, the mainnet merging will be approved on September 19. The mainnet merge would probably be delayed if there are issues with the Goerli merge. The Merge&#8217;s anticipated launch date has been set for September 19, according to a recent Ethereum developer call. With Rollups, or off-chain computations, Optimism, an Ethereum layer-2 blockchain, aims to extend the ecosystem and expedite transactions. On Optimism, transactions are entered, and on Ethereum, they are completed. ETH/USD trades at $1,853. Source: TradingView The project is home to 35 protocols, including automated market maker Velodrome, decentralized exchange Uniswap, and derivatives exchange Synthetix. The Ethereum blockchain&#8217;s current capacity of 30 transactions per second is inadequate to manage the enormous amount ... ... [| Skaityti daugiau](https://www.newsbtc.com/news/ethereum/ethereum-l2-tvl-enjoys-284-growth-in-the-past-month-ahead-of-goerli-merge/) "
      ],
      "text/plain": [
       "<IPython.core.display.Markdown object>"
      ]
     },
     "execution_count": 9,
     "metadata": {},
     "output_type": "execute_result"
    }
   ],
   "source": [
    "#hide_input\n",
    "#md('##### {}'.format(titleBTC)) \n",
    "md(\"- {}{} {}{} [| Skaityti daugiau]({}) \".format(exchange['title'],'. ', exchange['body'], ' ...', exchange['url']))"
   ]
  },
  {
   "cell_type": "code",
   "execution_count": null,
   "id": "tender-livestock",
   "metadata": {
    "papermill": {
     "duration": 0.011186,
     "end_time": "2022-08-11T02:59:34.512066",
     "exception": false,
     "start_time": "2022-08-11T02:59:34.500880",
     "status": "completed"
    },
    "tags": []
   },
   "outputs": [],
   "source": []
  },
  {
   "cell_type": "code",
   "execution_count": null,
   "id": "appreciated-diamond",
   "metadata": {
    "papermill": {
     "duration": 0.01119,
     "end_time": "2022-08-11T02:59:34.534529",
     "exception": false,
     "start_time": "2022-08-11T02:59:34.523339",
     "status": "completed"
    },
    "tags": []
   },
   "outputs": [],
   "source": []
  },
  {
   "cell_type": "code",
   "execution_count": null,
   "id": "romance-sweden",
   "metadata": {
    "papermill": {
     "duration": 0.011364,
     "end_time": "2022-08-11T02:59:34.557095",
     "exception": false,
     "start_time": "2022-08-11T02:59:34.545731",
     "status": "completed"
    },
    "tags": []
   },
   "outputs": [],
   "source": []
  },
  {
   "cell_type": "code",
   "execution_count": null,
   "id": "dietary-statistics",
   "metadata": {
    "papermill": {
     "duration": 0.011136,
     "end_time": "2022-08-11T02:59:34.579538",
     "exception": false,
     "start_time": "2022-08-11T02:59:34.568402",
     "status": "completed"
    },
    "tags": []
   },
   "outputs": [],
   "source": []
  }
 ],
 "metadata": {
  "kernelspec": {
   "display_name": "Python 3",
   "language": "python",
   "name": "python3"
  },
  "language_info": {
   "codemirror_mode": {
    "name": "ipython",
    "version": 3
   },
   "file_extension": ".py",
   "mimetype": "text/x-python",
   "name": "python",
   "nbconvert_exporter": "python",
   "pygments_lexer": "ipython3",
   "version": "3.6.15"
  },
  "papermill": {
   "default_parameters": {},
   "duration": 12.716179,
   "end_time": "2022-08-11T02:59:35.008035",
   "environment_variables": {},
   "exception": null,
   "input_path": "Market-News.ipynb",
   "output_path": "Market-News.ipynb",
   "parameters": {},
   "start_time": "2022-08-11T02:59:22.291856",
   "version": "2.2.2"
  }
 },
 "nbformat": 4,
 "nbformat_minor": 5
}