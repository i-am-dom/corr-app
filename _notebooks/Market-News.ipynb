{
 "cells": [
  {
   "cell_type": "markdown",
   "id": "short-greensboro",
   "metadata": {
    "papermill": {
     "duration": 0.012813,
     "end_time": "2022-03-06T02:10:11.790206",
     "exception": false,
     "start_time": "2022-03-06T02:10:11.777393",
     "status": "completed"
    },
    "tags": []
   },
   "source": [
    "# Kriptovaliutų naujienos"
   ]
  },
  {
   "cell_type": "code",
   "execution_count": 1,
   "id": "functioning-knowing",
   "metadata": {
    "execution": {
     "iopub.execute_input": "2022-03-06T02:10:11.819842Z",
     "iopub.status.busy": "2022-03-06T02:10:11.819309Z",
     "iopub.status.idle": "2022-03-06T02:10:13.019524Z",
     "shell.execute_reply": "2022-03-06T02:10:13.019934Z"
    },
    "papermill": {
     "duration": 1.219746,
     "end_time": "2022-03-06T02:10:13.020087",
     "exception": false,
     "start_time": "2022-03-06T02:10:11.800341",
     "status": "completed"
    },
    "tags": []
   },
   "outputs": [],
   "source": [
    "#hide_input\n",
    "import warnings\n",
    "warnings.filterwarnings('ignore')\n",
    "from scripts.read_data import read_api\n",
    "from scripts.read_data import read_news\n",
    "from scripts.read_data import read_covid\n",
    "import matplotlib.pyplot as plt \n",
    "from IPython.display import Markdown as md"
   ]
  },
  {
   "cell_type": "code",
   "execution_count": 2,
   "id": "shared-acceptance",
   "metadata": {
    "execution": {
     "iopub.execute_input": "2022-03-06T02:10:13.045395Z",
     "iopub.status.busy": "2022-03-06T02:10:13.044559Z",
     "iopub.status.idle": "2022-03-06T02:10:22.856630Z",
     "shell.execute_reply": "2022-03-06T02:10:22.856180Z"
    },
    "papermill": {
     "duration": 9.827068,
     "end_time": "2022-03-06T02:10:22.856745",
     "exception": false,
     "start_time": "2022-03-06T02:10:13.029677",
     "status": "completed"
    },
    "tags": []
   },
   "outputs": [],
   "source": [
    "#hide_input\n",
    "blockchain = read_news('blockchain') \n",
    "btc = read_news('btc') \n",
    "xrp = read_news('xrp') \n",
    "trx = read_news('trx') \n",
    "eth = read_news('eth')  \n",
    "ada = read_news('ada')\n",
    "exchange = read_news('exchange') "
   ]
  },
  {
   "cell_type": "code",
   "execution_count": 3,
   "id": "synthetic-notion",
   "metadata": {
    "execution": {
     "iopub.execute_input": "2022-03-06T02:10:22.881589Z",
     "iopub.status.busy": "2022-03-06T02:10:22.881075Z",
     "iopub.status.idle": "2022-03-06T02:10:22.883070Z",
     "shell.execute_reply": "2022-03-06T02:10:22.883460Z"
    },
    "papermill": {
     "duration": 0.017208,
     "end_time": "2022-03-06T02:10:22.883574",
     "exception": false,
     "start_time": "2022-03-06T02:10:22.866366",
     "status": "completed"
    },
    "tags": []
   },
   "outputs": [
    {
     "data": {
      "text/markdown": [
       "- Ethereum (ETH) Has Entered a ‘Danger Zone’ – Here’s When That Could Change, According to Crypto Analytics Firm.  Blockchain analytics firm Santiment is issuing a warning to investors that top altcoin Ethereum (ETH) is at risk of falling further based on a key metric. In a new article, the market intelligence company says that based on ETH&#8217;s Market Value to Realized Value (MVRV) over a seven-day period, the second-largest crypto asset by market [&#8230;]The post Ethereum (ETH) Has Entered a ‘Danger Zone’ – Here’s When That Could Change, According to Crypto Analytics Firm appeared first on The Daily Hodl. ... [| Skaityti daugiau](https://dailyhodl.com/2022/03/05/ethereum-eth-has-entered-a-danger-zone-heres-when-that-could-change-according-to-crypto-analytics-firm/) "
      ],
      "text/plain": [
       "<IPython.core.display.Markdown object>"
      ]
     },
     "execution_count": 3,
     "metadata": {},
     "output_type": "execute_result"
    }
   ],
   "source": [
    "#hide_input\n",
    "#md('##### {}'.format(titleBTC)) \n",
    "md(\"- {}{} {}{} [| Skaityti daugiau]({}) \".format(blockchain['title'],'. ', blockchain['body'], ' ...', blockchain['url']))"
   ]
  },
  {
   "cell_type": "code",
   "execution_count": 4,
   "id": "aging-caution",
   "metadata": {
    "execution": {
     "iopub.execute_input": "2022-03-06T02:10:22.906973Z",
     "iopub.status.busy": "2022-03-06T02:10:22.906472Z",
     "iopub.status.idle": "2022-03-06T02:10:22.909018Z",
     "shell.execute_reply": "2022-03-06T02:10:22.908640Z"
    },
    "papermill": {
     "duration": 0.015844,
     "end_time": "2022-03-06T02:10:22.909113",
     "exception": false,
     "start_time": "2022-03-06T02:10:22.893269",
     "status": "completed"
    },
    "tags": []
   },
   "outputs": [
    {
     "data": {
      "text/markdown": [
       "- Dogecoin price analysis: DOGE/USD bullish for the next 24 hours.  TL;DR Breakdown Coin value is standing at $0.144. Dogecoin price analysis predicts uptrend. Support is present at $0.123 end. The Dogecoin price showed a strong surge in value throughout the day, according to the most recent Dogecoin price analysis. The value of Bitcoin has leveled up to $0.144 as a result of its recent bullish [&#8230;] ... [| Skaityti daugiau](https://www.cryptopolitan.com/dogecoin-price-analysis-06-03-2022/) "
      ],
      "text/plain": [
       "<IPython.core.display.Markdown object>"
      ]
     },
     "execution_count": 4,
     "metadata": {},
     "output_type": "execute_result"
    }
   ],
   "source": [
    "#hide_input\n",
    "#md('##### {}'.format(titleBTC)) \n",
    "md(\"- {}{} {}{} [| Skaityti daugiau]({}) \".format(btc['title'],'. ', btc['body'], ' ...', btc['url']))"
   ]
  },
  {
   "cell_type": "code",
   "execution_count": 5,
   "id": "organic-actress",
   "metadata": {
    "execution": {
     "iopub.execute_input": "2022-03-06T02:10:22.931028Z",
     "iopub.status.busy": "2022-03-06T02:10:22.930546Z",
     "iopub.status.idle": "2022-03-06T02:10:22.935020Z",
     "shell.execute_reply": "2022-03-06T02:10:22.935422Z"
    },
    "papermill": {
     "duration": 0.016498,
     "end_time": "2022-03-06T02:10:22.935528",
     "exception": false,
     "start_time": "2022-03-06T02:10:22.919030",
     "status": "completed"
    },
    "tags": []
   },
   "outputs": [
    {
     "data": {
      "text/markdown": [
       "- US Regulatory Agency Probes NFT Industry Over Possible Securities Violations: Report.  The U.S. Securities and Exchange Commission (SEC) is reportedly launching an investigation into a nascent sector of the digital assets industry over crypto asset offerings that potentially violate the law. According to a new report by Bloomberg, anonymous sources familiar with the matter say that the SEC’s probe will focus on whether or not non-fungible [&#8230;]The post US Regulatory Agency Probes NFT Industry Over Possible Securities Violations: Report appeared first on The Daily Hodl. ... [| Skaityti daugiau](https://dailyhodl.com/2022/03/05/us-regulatory-agency-probes-nft-industry-over-possible-securities-violations-report/) "
      ],
      "text/plain": [
       "<IPython.core.display.Markdown object>"
      ]
     },
     "execution_count": 5,
     "metadata": {},
     "output_type": "execute_result"
    }
   ],
   "source": [
    "#hide_input\n",
    "#md('##### {}'.format(titleBTC)) \n",
    "md(\"- {}{} {}{} [| Skaityti daugiau]({}) \".format(xrp['title'],'. ', xrp['body'], ' ...', xrp['url']))"
   ]
  },
  {
   "cell_type": "code",
   "execution_count": 6,
   "id": "prompt-farmer",
   "metadata": {
    "execution": {
     "iopub.execute_input": "2022-03-06T02:10:22.959867Z",
     "iopub.status.busy": "2022-03-06T02:10:22.959377Z",
     "iopub.status.idle": "2022-03-06T02:10:22.961934Z",
     "shell.execute_reply": "2022-03-06T02:10:22.961538Z"
    },
    "papermill": {
     "duration": 0.01627,
     "end_time": "2022-03-06T02:10:22.962025",
     "exception": false,
     "start_time": "2022-03-06T02:10:22.945755",
     "status": "completed"
    },
    "tags": []
   },
   "outputs": [
    {
     "data": {
      "text/markdown": [
       "- Chainlink, MATIC and TRX Price Analysis: 03 February.  As the market tried to recover amidst Russia&#8217;s escalating tensions, the likes of Chainlink and MATIC projected growth patterns. However, TRX seemed more inclined towards the bears. Chainlink (LINK) Even though bulls made a desperate attempt to recover from the December crash, LINK dropped to a year low support level of $11.68 on 24 February. [&#8230;] ... [| Skaityti daugiau](https://ambcrypto.com/chainlink-matic-and-trx-price-analysis-03-february/) "
      ],
      "text/plain": [
       "<IPython.core.display.Markdown object>"
      ]
     },
     "execution_count": 6,
     "metadata": {},
     "output_type": "execute_result"
    }
   ],
   "source": [
    "#hide_input\n",
    "#md('##### {}'.format(titleBTC)) \n",
    "md(\"- {}{} {}{} [| Skaityti daugiau]({}) \".format(trx['title'],'. ', trx['body'], ' ...', trx['url']))"
   ]
  },
  {
   "cell_type": "code",
   "execution_count": 7,
   "id": "illegal-greece",
   "metadata": {
    "execution": {
     "iopub.execute_input": "2022-03-06T02:10:22.987329Z",
     "iopub.status.busy": "2022-03-06T02:10:22.986834Z",
     "iopub.status.idle": "2022-03-06T02:10:22.989416Z",
     "shell.execute_reply": "2022-03-06T02:10:22.989004Z"
    },
    "papermill": {
     "duration": 0.016731,
     "end_time": "2022-03-06T02:10:22.989508",
     "exception": false,
     "start_time": "2022-03-06T02:10:22.972777",
     "status": "completed"
    },
    "tags": []
   },
   "outputs": [
    {
     "data": {
      "text/markdown": [
       "- Ethereum (ETH) Has Entered a ‘Danger Zone’ – Here’s When That Could Change, According to Crypto Analytics Firm.  Blockchain analytics firm Santiment is issuing a warning to investors that top altcoin Ethereum (ETH) is at risk of falling further based on a key metric. In a new article, the market intelligence company says that based on ETH&#8217;s Market Value to Realized Value (MVRV) over a seven-day period, the second-largest crypto asset by market [&#8230;]The post Ethereum (ETH) Has Entered a ‘Danger Zone’ – Here’s When That Could Change, According to Crypto Analytics Firm appeared first on The Daily Hodl. ... [| Skaityti daugiau](https://dailyhodl.com/2022/03/05/ethereum-eth-has-entered-a-danger-zone-heres-when-that-could-change-according-to-crypto-analytics-firm/) "
      ],
      "text/plain": [
       "<IPython.core.display.Markdown object>"
      ]
     },
     "execution_count": 7,
     "metadata": {},
     "output_type": "execute_result"
    }
   ],
   "source": [
    "#hide_input\n",
    "#md('##### {}'.format(titleBTC)) \n",
    "md(\"- {}{} {}{} [| Skaityti daugiau]({}) \".format(eth['title'],'. ', eth['body'], ' ...', eth['url']))"
   ]
  },
  {
   "cell_type": "code",
   "execution_count": 8,
   "id": "sublime-lounge",
   "metadata": {
    "execution": {
     "iopub.execute_input": "2022-03-06T02:10:23.015258Z",
     "iopub.status.busy": "2022-03-06T02:10:23.014765Z",
     "iopub.status.idle": "2022-03-06T02:10:23.017303Z",
     "shell.execute_reply": "2022-03-06T02:10:23.016832Z"
    },
    "papermill": {
     "duration": 0.017029,
     "end_time": "2022-03-06T02:10:23.017396",
     "exception": false,
     "start_time": "2022-03-06T02:10:23.000367",
     "status": "completed"
    },
    "tags": []
   },
   "outputs": [
    {
     "data": {
      "text/markdown": [
       "- ADA Price Prediction: Cardano (ADA) Prepares To Jumps Toward $1.0 Near Double Bottom.  Cardano (ADA) price edges higher on weekends with significant gains. The upside faces rejection near $1.01 and retraced 20% to test the lows of $0.81. But ADA price respects the ‘double support’ near $0.80 as the asset is in preparation to move higher in the short term. Cardano (ADA) trades higher on Saturday. Expect more The post ADA Price Prediction: Cardano (ADA) Prepares To Jumps Toward $1.0 Near Double Bottom appeared first on CoinGape. ... [| Skaityti daugiau](https://coingape.com/markets/ada-price-prediction-cardano-ada-prepares-to-jumps-toward-1-0-near-double-bottom/) "
      ],
      "text/plain": [
       "<IPython.core.display.Markdown object>"
      ]
     },
     "execution_count": 8,
     "metadata": {},
     "output_type": "execute_result"
    }
   ],
   "source": [
    "#hide_input\n",
    "#md('##### {}'.format(titleBTC)) \n",
    "md(\"- {}{} {}{} [| Skaityti daugiau]({}) \".format(ada['title'],'. ', ada['body'], ' ...', ada['url']))"
   ]
  },
  {
   "cell_type": "code",
   "execution_count": 9,
   "id": "specified-ordering",
   "metadata": {
    "execution": {
     "iopub.execute_input": "2022-03-06T02:10:23.043724Z",
     "iopub.status.busy": "2022-03-06T02:10:23.042836Z",
     "iopub.status.idle": "2022-03-06T02:10:23.046302Z",
     "shell.execute_reply": "2022-03-06T02:10:23.045890Z"
    },
    "papermill": {
     "duration": 0.017638,
     "end_time": "2022-03-06T02:10:23.046395",
     "exception": false,
     "start_time": "2022-03-06T02:10:23.028757",
     "status": "completed"
    },
    "tags": []
   },
   "outputs": [
    {
     "data": {
      "text/markdown": [
       "- India Video Application Chingari to Unveil New Cryptocurrency.  Chingari – a short video application based in India – has unveiled its new cryptocurrency GARI, which is slated to begin trading on the India-based cryptocurrency exchange Coin DCX. Chingari in India Will Have Its Own Crypto The move comes at a rather strange – and potentially inopportune – time given that India is still...The post India Video Application Chingari to Unveil New Cryptocurrency appeared first on Live Bitcoin News. ... [| Skaityti daugiau](https://www.livebitcoinnews.com/india-video-application-chingari-to-unveil-new-cryptocurrency/) "
      ],
      "text/plain": [
       "<IPython.core.display.Markdown object>"
      ]
     },
     "execution_count": 9,
     "metadata": {},
     "output_type": "execute_result"
    }
   ],
   "source": [
    "#hide_input\n",
    "#md('##### {}'.format(titleBTC)) \n",
    "md(\"- {}{} {}{} [| Skaityti daugiau]({}) \".format(exchange['title'],'. ', exchange['body'], ' ...', exchange['url']))"
   ]
  },
  {
   "cell_type": "code",
   "execution_count": null,
   "id": "tender-livestock",
   "metadata": {
    "papermill": {
     "duration": 0.011584,
     "end_time": "2022-03-06T02:10:23.069628",
     "exception": false,
     "start_time": "2022-03-06T02:10:23.058044",
     "status": "completed"
    },
    "tags": []
   },
   "outputs": [],
   "source": []
  },
  {
   "cell_type": "code",
   "execution_count": null,
   "id": "appreciated-diamond",
   "metadata": {
    "papermill": {
     "duration": 0.011955,
     "end_time": "2022-03-06T02:10:23.093347",
     "exception": false,
     "start_time": "2022-03-06T02:10:23.081392",
     "status": "completed"
    },
    "tags": []
   },
   "outputs": [],
   "source": []
  },
  {
   "cell_type": "code",
   "execution_count": null,
   "id": "romance-sweden",
   "metadata": {
    "papermill": {
     "duration": 0.012285,
     "end_time": "2022-03-06T02:10:23.119104",
     "exception": false,
     "start_time": "2022-03-06T02:10:23.106819",
     "status": "completed"
    },
    "tags": []
   },
   "outputs": [],
   "source": []
  },
  {
   "cell_type": "code",
   "execution_count": null,
   "id": "dietary-statistics",
   "metadata": {
    "papermill": {
     "duration": 0.012494,
     "end_time": "2022-03-06T02:10:23.143299",
     "exception": false,
     "start_time": "2022-03-06T02:10:23.130805",
     "status": "completed"
    },
    "tags": []
   },
   "outputs": [],
   "source": []
  }
 ],
 "metadata": {
  "kernelspec": {
   "display_name": "Python 3",
   "language": "python",
   "name": "python3"
  },
  "language_info": {
   "codemirror_mode": {
    "name": "ipython",
    "version": 3
   },
   "file_extension": ".py",
   "mimetype": "text/x-python",
   "name": "python",
   "nbconvert_exporter": "python",
   "pygments_lexer": "ipython3",
   "version": "3.6.15"
  },
  "papermill": {
   "default_parameters": {},
   "duration": 12.604574,
   "end_time": "2022-03-06T02:10:23.472380",
   "environment_variables": {},
   "exception": null,
   "input_path": "Market-News.ipynb",
   "output_path": "Market-News.ipynb",
   "parameters": {},
   "start_time": "2022-03-06T02:10:10.867806",
   "version": "2.2.2"
  }
 },
 "nbformat": 4,
 "nbformat_minor": 5
}