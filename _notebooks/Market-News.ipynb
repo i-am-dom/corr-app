{
 "cells": [
  {
   "cell_type": "markdown",
   "id": "short-greensboro",
   "metadata": {
    "papermill": {
     "duration": 0.020393,
     "end_time": "2021-12-22T02:07:48.431661",
     "exception": false,
     "start_time": "2021-12-22T02:07:48.411268",
     "status": "completed"
    },
    "tags": []
   },
   "source": [
    "# Kriptovaliutų naujienos"
   ]
  },
  {
   "cell_type": "code",
   "execution_count": 1,
   "id": "functioning-knowing",
   "metadata": {
    "execution": {
     "iopub.execute_input": "2021-12-22T02:07:48.468751Z",
     "iopub.status.busy": "2021-12-22T02:07:48.468115Z",
     "iopub.status.idle": "2021-12-22T02:07:49.964582Z",
     "shell.execute_reply": "2021-12-22T02:07:49.965510Z"
    },
    "papermill": {
     "duration": 1.52228,
     "end_time": "2021-12-22T02:07:49.965813",
     "exception": false,
     "start_time": "2021-12-22T02:07:48.443533",
     "status": "completed"
    },
    "tags": []
   },
   "outputs": [],
   "source": [
    "#hide_input\n",
    "import warnings\n",
    "warnings.filterwarnings('ignore')\n",
    "from scripts.read_data import read_api\n",
    "from scripts.read_data import read_news\n",
    "from scripts.read_data import read_covid\n",
    "import matplotlib.pyplot as plt \n",
    "from IPython.display import Markdown as md"
   ]
  },
  {
   "cell_type": "code",
   "execution_count": 2,
   "id": "shared-acceptance",
   "metadata": {
    "execution": {
     "iopub.execute_input": "2021-12-22T02:07:49.999221Z",
     "iopub.status.busy": "2021-12-22T02:07:49.997401Z",
     "iopub.status.idle": "2021-12-22T02:07:59.670384Z",
     "shell.execute_reply": "2021-12-22T02:07:59.669478Z"
    },
    "papermill": {
     "duration": 9.693352,
     "end_time": "2021-12-22T02:07:59.670615",
     "exception": false,
     "start_time": "2021-12-22T02:07:49.977263",
     "status": "completed"
    },
    "tags": []
   },
   "outputs": [],
   "source": [
    "#hide_input\n",
    "blockchain = read_news('blockchain') \n",
    "btc = read_news('btc') \n",
    "xrp = read_news('xrp') \n",
    "trx = read_news('trx') \n",
    "eth = read_news('eth')  \n",
    "ada = read_news('ada')\n",
    "exchange = read_news('exchange') "
   ]
  },
  {
   "cell_type": "code",
   "execution_count": 3,
   "id": "synthetic-notion",
   "metadata": {
    "execution": {
     "iopub.execute_input": "2021-12-22T02:07:59.699422Z",
     "iopub.status.busy": "2021-12-22T02:07:59.698828Z",
     "iopub.status.idle": "2021-12-22T02:07:59.704271Z",
     "shell.execute_reply": "2021-12-22T02:07:59.704716Z"
    },
    "papermill": {
     "duration": 0.022428,
     "end_time": "2021-12-22T02:07:59.704990",
     "exception": false,
     "start_time": "2021-12-22T02:07:59.682562",
     "status": "completed"
    },
    "tags": []
   },
   "outputs": [
    {
     "data": {
      "text/markdown": [
       "- Blockchain enables enterprise business models in the Metaverse.  Here's how blockchain is currently being used to create business models in the Metaverse, achieving efficiency and cross compatibility with the real world. ... [| Skaityti daugiau](https://cointelegraph.com/news/blockchain-enables-enterprise-business-models-in-the-metaverse) "
      ],
      "text/plain": [
       "<IPython.core.display.Markdown object>"
      ]
     },
     "execution_count": 3,
     "metadata": {},
     "output_type": "execute_result"
    }
   ],
   "source": [
    "#hide_input\n",
    "#md('##### {}'.format(titleBTC)) \n",
    "md(\"- {}{} {}{} [| Skaityti daugiau]({}) \".format(blockchain['title'],'. ', blockchain['body'], ' ...', blockchain['url']))"
   ]
  },
  {
   "cell_type": "code",
   "execution_count": 4,
   "id": "aging-caution",
   "metadata": {
    "execution": {
     "iopub.execute_input": "2021-12-22T02:07:59.733168Z",
     "iopub.status.busy": "2021-12-22T02:07:59.732460Z",
     "iopub.status.idle": "2021-12-22T02:07:59.735630Z",
     "shell.execute_reply": "2021-12-22T02:07:59.736130Z"
    },
    "papermill": {
     "duration": 0.020563,
     "end_time": "2021-12-22T02:07:59.736266",
     "exception": false,
     "start_time": "2021-12-22T02:07:59.715703",
     "status": "completed"
    },
    "tags": []
   },
   "outputs": [
    {
     "data": {
      "text/markdown": [
       "- Media Is Adopting A Bitcoin Standard.  Bitcoin is revolutionizing media, as evidenced by the capabilities of podcasting 2.0 on the Lightning Network. ... [| Skaityti daugiau](https://bitcoinmagazine.com/business/media-is-adopting-a-bitcoin-standard) "
      ],
      "text/plain": [
       "<IPython.core.display.Markdown object>"
      ]
     },
     "execution_count": 4,
     "metadata": {},
     "output_type": "execute_result"
    }
   ],
   "source": [
    "#hide_input\n",
    "#md('##### {}'.format(titleBTC)) \n",
    "md(\"- {}{} {}{} [| Skaityti daugiau]({}) \".format(btc['title'],'. ', btc['body'], ' ...', btc['url']))"
   ]
  },
  {
   "cell_type": "code",
   "execution_count": 5,
   "id": "organic-actress",
   "metadata": {
    "execution": {
     "iopub.execute_input": "2021-12-22T02:07:59.766512Z",
     "iopub.status.busy": "2021-12-22T02:07:59.765596Z",
     "iopub.status.idle": "2021-12-22T02:07:59.768902Z",
     "shell.execute_reply": "2021-12-22T02:07:59.769385Z"
    },
    "papermill": {
     "duration": 0.022293,
     "end_time": "2021-12-22T02:07:59.769522",
     "exception": false,
     "start_time": "2021-12-22T02:07:59.747229",
     "status": "completed"
    },
    "tags": []
   },
   "outputs": [
    {
     "data": {
      "text/markdown": [
       "- Visa Finalizes $930M Acquisition Of Ripple Partner Currencycloud.  Financial services behemoth Visa has completed the acquisition of Currencycloud for a multi-million dollar figure. Currencycloud — which develops APIs that power embedded B2B cross-border payments and currency exchange services — has been partners with distributed ledger startup Ripple since July 2020. Visa Completes Acquisition Of Currencycloud Announced on Tuesday, the Currencycloud acquisition has set [&#8230;] ... [| Skaityti daugiau](https://zycrypto.com/visa-finalizes-930m-acquisition-of-ripple-partner-currencycloud/) "
      ],
      "text/plain": [
       "<IPython.core.display.Markdown object>"
      ]
     },
     "execution_count": 5,
     "metadata": {},
     "output_type": "execute_result"
    }
   ],
   "source": [
    "#hide_input\n",
    "#md('##### {}'.format(titleBTC)) \n",
    "md(\"- {}{} {}{} [| Skaityti daugiau]({}) \".format(xrp['title'],'. ', xrp['body'], ' ...', xrp['url']))"
   ]
  },
  {
   "cell_type": "code",
   "execution_count": 6,
   "id": "prompt-farmer",
   "metadata": {
    "execution": {
     "iopub.execute_input": "2021-12-22T02:07:59.798011Z",
     "iopub.status.busy": "2021-12-22T02:07:59.797419Z",
     "iopub.status.idle": "2021-12-22T02:07:59.803270Z",
     "shell.execute_reply": "2021-12-22T02:07:59.802791Z"
    },
    "papermill": {
     "duration": 0.022721,
     "end_time": "2021-12-22T02:07:59.803391",
     "exception": false,
     "start_time": "2021-12-22T02:07:59.780670",
     "status": "completed"
    },
    "tags": []
   },
   "outputs": [
    {
     "data": {
      "text/markdown": [
       "- XRP, Tron, BitTorrent Price Analysis 18 December.  With the Bitcoin fear and greed index flashing an &#8216;extreme fear&#8217; situation over the past week, the resulting impact can be seen on most cryptos. XRP flashed weak technicals while Tron and BitTorrent lost their crucial price points that the bulls upheld for months. XRP Since 7 December, XRP has found an oscillating range between [&#8230;] ... [| Skaityti daugiau](https://ambcrypto.com/xrp-tron-bittorrent-price-analysis-18-december/) "
      ],
      "text/plain": [
       "<IPython.core.display.Markdown object>"
      ]
     },
     "execution_count": 6,
     "metadata": {},
     "output_type": "execute_result"
    }
   ],
   "source": [
    "#hide_input\n",
    "#md('##### {}'.format(titleBTC)) \n",
    "md(\"- {}{} {}{} [| Skaityti daugiau]({}) \".format(trx['title'],'. ', trx['body'], ' ...', trx['url']))"
   ]
  },
  {
   "cell_type": "code",
   "execution_count": 7,
   "id": "illegal-greece",
   "metadata": {
    "execution": {
     "iopub.execute_input": "2021-12-22T02:07:59.832623Z",
     "iopub.status.busy": "2021-12-22T02:07:59.831823Z",
     "iopub.status.idle": "2021-12-22T02:07:59.837292Z",
     "shell.execute_reply": "2021-12-22T02:07:59.836296Z"
    },
    "papermill": {
     "duration": 0.022542,
     "end_time": "2021-12-22T02:07:59.837468",
     "exception": false,
     "start_time": "2021-12-22T02:07:59.814926",
     "status": "completed"
    },
    "tags": []
   },
   "outputs": [
    {
     "data": {
      "text/markdown": [
       "- BTC Attempts End-of-Year Rally: Markets Wrap.  Bitcoin has seen a lot of ups and downs throughout 2021, a BTC short squeeze could be building up underneath the surfaceThe post BTC Attempts End-of-Year Rally: Markets Wrap appeared first on Blockworks. ... [| Skaityti daugiau](https://blockworks.co/btc-attempts-end-of-year-rally-markets-wrap/) "
      ],
      "text/plain": [
       "<IPython.core.display.Markdown object>"
      ]
     },
     "execution_count": 7,
     "metadata": {},
     "output_type": "execute_result"
    }
   ],
   "source": [
    "#hide_input\n",
    "#md('##### {}'.format(titleBTC)) \n",
    "md(\"- {}{} {}{} [| Skaityti daugiau]({}) \".format(eth['title'],'. ', eth['body'], ' ...', eth['url']))"
   ]
  },
  {
   "cell_type": "code",
   "execution_count": 8,
   "id": "sublime-lounge",
   "metadata": {
    "execution": {
     "iopub.execute_input": "2021-12-22T02:07:59.867809Z",
     "iopub.status.busy": "2021-12-22T02:07:59.867008Z",
     "iopub.status.idle": "2021-12-22T02:07:59.871667Z",
     "shell.execute_reply": "2021-12-22T02:07:59.871229Z"
    },
    "papermill": {
     "duration": 0.022727,
     "end_time": "2021-12-22T02:07:59.871777",
     "exception": false,
     "start_time": "2021-12-22T02:07:59.849050",
     "status": "completed"
    },
    "tags": []
   },
   "outputs": [
    {
     "data": {
      "text/markdown": [
       "- Cardano, The Sandbox, Avalanche Price Analysis: 21 December.  Bitcoin&#8217;s bounce from its low timeframe range lows has dragged the market upward in the past couple of days. Avalanche posted a strong recovery from its performance earlier this month when it saw some accumulation occur in the $80 region. Cardano formed a triangle pattern and could begin to move upward, following the market&#8217;s trend [&#8230;] ... [| Skaityti daugiau](https://ambcrypto.com/cardano-the-sandbox-avalanche-price-analysis-21-december/) "
      ],
      "text/plain": [
       "<IPython.core.display.Markdown object>"
      ]
     },
     "execution_count": 8,
     "metadata": {},
     "output_type": "execute_result"
    }
   ],
   "source": [
    "#hide_input\n",
    "#md('##### {}'.format(titleBTC)) \n",
    "md(\"- {}{} {}{} [| Skaityti daugiau]({}) \".format(ada['title'],'. ', ada['body'], ' ...', ada['url']))"
   ]
  },
  {
   "cell_type": "code",
   "execution_count": 9,
   "id": "specified-ordering",
   "metadata": {
    "execution": {
     "iopub.execute_input": "2021-12-22T02:07:59.902149Z",
     "iopub.status.busy": "2021-12-22T02:07:59.901551Z",
     "iopub.status.idle": "2021-12-22T02:07:59.905235Z",
     "shell.execute_reply": "2021-12-22T02:07:59.905811Z"
    },
    "papermill": {
     "duration": 0.022254,
     "end_time": "2021-12-22T02:07:59.905946",
     "exception": false,
     "start_time": "2021-12-22T02:07:59.883692",
     "status": "completed"
    },
    "tags": []
   },
   "outputs": [
    {
     "data": {
      "text/markdown": [
       "- Kraken Acquires a Cryptocurrency Staking Platform To Expand Its Services.  Kraken bought the cryptocurrency staking platform Staked for an undisclosed sum. This would be its fifth major acquisition in 2021. ... [| Skaityti daugiau](https://cryptopotato.com/kraken-acquires-a-cryptocurrency-staking-platform-to-expand-its-services/) "
      ],
      "text/plain": [
       "<IPython.core.display.Markdown object>"
      ]
     },
     "execution_count": 9,
     "metadata": {},
     "output_type": "execute_result"
    }
   ],
   "source": [
    "#hide_input\n",
    "#md('##### {}'.format(titleBTC)) \n",
    "md(\"- {}{} {}{} [| Skaityti daugiau]({}) \".format(exchange['title'],'. ', exchange['body'], ' ...', exchange['url']))"
   ]
  },
  {
   "cell_type": "code",
   "execution_count": null,
   "id": "tender-livestock",
   "metadata": {
    "papermill": {
     "duration": 0.012405,
     "end_time": "2021-12-22T02:07:59.931098",
     "exception": false,
     "start_time": "2021-12-22T02:07:59.918693",
     "status": "completed"
    },
    "tags": []
   },
   "outputs": [],
   "source": []
  },
  {
   "cell_type": "code",
   "execution_count": null,
   "id": "appreciated-diamond",
   "metadata": {
    "papermill": {
     "duration": 0.012575,
     "end_time": "2021-12-22T02:07:59.956364",
     "exception": false,
     "start_time": "2021-12-22T02:07:59.943789",
     "status": "completed"
    },
    "tags": []
   },
   "outputs": [],
   "source": []
  },
  {
   "cell_type": "code",
   "execution_count": null,
   "id": "romance-sweden",
   "metadata": {
    "papermill": {
     "duration": 0.012554,
     "end_time": "2021-12-22T02:07:59.981431",
     "exception": false,
     "start_time": "2021-12-22T02:07:59.968877",
     "status": "completed"
    },
    "tags": []
   },
   "outputs": [],
   "source": []
  },
  {
   "cell_type": "code",
   "execution_count": null,
   "id": "dietary-statistics",
   "metadata": {
    "papermill": {
     "duration": 0.012522,
     "end_time": "2021-12-22T02:08:00.006540",
     "exception": false,
     "start_time": "2021-12-22T02:07:59.994018",
     "status": "completed"
    },
    "tags": []
   },
   "outputs": [],
   "source": []
  }
 ],
 "metadata": {
  "kernelspec": {
   "display_name": "Python 3",
   "language": "python",
   "name": "python3"
  },
  "language_info": {
   "codemirror_mode": {
    "name": "ipython",
    "version": 3
   },
   "file_extension": ".py",
   "mimetype": "text/x-python",
   "name": "python",
   "nbconvert_exporter": "python",
   "pygments_lexer": "ipython3",
   "version": "3.6.15"
  },
  "papermill": {
   "default_parameters": {},
   "duration": 13.399724,
   "end_time": "2021-12-22T02:08:00.530654",
   "environment_variables": {},
   "exception": null,
   "input_path": "Market-News.ipynb",
   "output_path": "Market-News.ipynb",
   "parameters": {},
   "start_time": "2021-12-22T02:07:47.130930",
   "version": "2.2.2"
  }
 },
 "nbformat": 4,
 "nbformat_minor": 5
}