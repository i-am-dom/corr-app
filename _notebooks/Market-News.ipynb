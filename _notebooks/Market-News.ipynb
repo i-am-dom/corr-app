{
 "cells": [
  {
   "cell_type": "markdown",
   "id": "short-greensboro",
   "metadata": {
    "papermill": {
     "duration": 0.013251,
     "end_time": "2022-01-07T02:13:44.193210",
     "exception": false,
     "start_time": "2022-01-07T02:13:44.179959",
     "status": "completed"
    },
    "tags": []
   },
   "source": [
    "# Kriptovaliutų naujienos"
   ]
  },
  {
   "cell_type": "code",
   "execution_count": 1,
   "id": "functioning-knowing",
   "metadata": {
    "execution": {
     "iopub.execute_input": "2022-01-07T02:13:44.222205Z",
     "iopub.status.busy": "2022-01-07T02:13:44.221639Z",
     "iopub.status.idle": "2022-01-07T02:13:45.457502Z",
     "shell.execute_reply": "2022-01-07T02:13:45.456951Z"
    },
    "papermill": {
     "duration": 1.254756,
     "end_time": "2022-01-07T02:13:45.457655",
     "exception": false,
     "start_time": "2022-01-07T02:13:44.202899",
     "status": "completed"
    },
    "tags": []
   },
   "outputs": [],
   "source": [
    "#hide_input\n",
    "import warnings\n",
    "warnings.filterwarnings('ignore')\n",
    "from scripts.read_data import read_api\n",
    "from scripts.read_data import read_news\n",
    "from scripts.read_data import read_covid\n",
    "import matplotlib.pyplot as plt \n",
    "from IPython.display import Markdown as md"
   ]
  },
  {
   "cell_type": "code",
   "execution_count": 2,
   "id": "shared-acceptance",
   "metadata": {
    "execution": {
     "iopub.execute_input": "2022-01-07T02:13:45.483433Z",
     "iopub.status.busy": "2022-01-07T02:13:45.482915Z",
     "iopub.status.idle": "2022-01-07T02:13:56.008229Z",
     "shell.execute_reply": "2022-01-07T02:13:56.007754Z"
    },
    "papermill": {
     "duration": 10.540616,
     "end_time": "2022-01-07T02:13:56.008355",
     "exception": false,
     "start_time": "2022-01-07T02:13:45.467739",
     "status": "completed"
    },
    "tags": []
   },
   "outputs": [],
   "source": [
    "#hide_input\n",
    "blockchain = read_news('blockchain') \n",
    "btc = read_news('btc') \n",
    "xrp = read_news('xrp') \n",
    "trx = read_news('trx') \n",
    "eth = read_news('eth')  \n",
    "ada = read_news('ada')\n",
    "exchange = read_news('exchange') "
   ]
  },
  {
   "cell_type": "code",
   "execution_count": 3,
   "id": "synthetic-notion",
   "metadata": {
    "execution": {
     "iopub.execute_input": "2022-01-07T02:13:56.032534Z",
     "iopub.status.busy": "2022-01-07T02:13:56.031993Z",
     "iopub.status.idle": "2022-01-07T02:13:56.034166Z",
     "shell.execute_reply": "2022-01-07T02:13:56.034578Z"
    },
    "papermill": {
     "duration": 0.017087,
     "end_time": "2022-01-07T02:13:56.034694",
     "exception": false,
     "start_time": "2022-01-07T02:13:56.017607",
     "status": "completed"
    },
    "tags": []
   },
   "outputs": [
    {
     "data": {
      "text/markdown": [
       "- Game theory behind Curve and Convex Finance.  Quick TakeCurve is the largest DeFi protocol by value locked, and liquidity providers (LPs) on Curve are rewarded with CRV tokens.CRV can be locked to boost LP rewards, earn protocol revenue, and vote on proposals related to reward allocation.Convex and Votium are tools built on top of Curve that increase the economic efficiency of locked CRV tokens.More than 80% of value locked on Curve originates from Convex. ... [| Skaityti daugiau](https://www.theblockresearch.com/game-theory-behind-curve-and-convex-finance-129432?utm_source=cryptocompare&utm_medium=rss) "
      ],
      "text/plain": [
       "<IPython.core.display.Markdown object>"
      ]
     },
     "execution_count": 3,
     "metadata": {},
     "output_type": "execute_result"
    }
   ],
   "source": [
    "#hide_input\n",
    "#md('##### {}'.format(titleBTC)) \n",
    "md(\"- {}{} {}{} [| Skaityti daugiau]({}) \".format(blockchain['title'],'. ', blockchain['body'], ' ...', blockchain['url']))"
   ]
  },
  {
   "cell_type": "code",
   "execution_count": 4,
   "id": "aging-caution",
   "metadata": {
    "execution": {
     "iopub.execute_input": "2022-01-07T02:13:56.057788Z",
     "iopub.status.busy": "2022-01-07T02:13:56.057188Z",
     "iopub.status.idle": "2022-01-07T02:13:56.059404Z",
     "shell.execute_reply": "2022-01-07T02:13:56.059869Z"
    },
    "papermill": {
     "duration": 0.016097,
     "end_time": "2022-01-07T02:13:56.059995",
     "exception": false,
     "start_time": "2022-01-07T02:13:56.043898",
     "status": "completed"
    },
    "tags": []
   },
   "outputs": [
    {
     "data": {
      "text/markdown": [
       "- Mozilla Backs Away From Bitcoin Donations After Backlash.  Mozilla has accepted crypto donations since 2014 but is pausing them after online backlash this week, including from a Mozilla founder. ... [| Skaityti daugiau](https://decrypt.co/89921/mozilla-backs-away-from-bitcoin-donations-after-backlash) "
      ],
      "text/plain": [
       "<IPython.core.display.Markdown object>"
      ]
     },
     "execution_count": 4,
     "metadata": {},
     "output_type": "execute_result"
    }
   ],
   "source": [
    "#hide_input\n",
    "#md('##### {}'.format(titleBTC)) \n",
    "md(\"- {}{} {}{} [| Skaityti daugiau]({}) \".format(btc['title'],'. ', btc['body'], ' ...', btc['url']))"
   ]
  },
  {
   "cell_type": "code",
   "execution_count": 5,
   "id": "organic-actress",
   "metadata": {
    "execution": {
     "iopub.execute_input": "2022-01-07T02:13:56.082851Z",
     "iopub.status.busy": "2022-01-07T02:13:56.081848Z",
     "iopub.status.idle": "2022-01-07T02:13:56.085587Z",
     "shell.execute_reply": "2022-01-07T02:13:56.085189Z"
    },
    "papermill": {
     "duration": 0.016132,
     "end_time": "2022-01-07T02:13:56.085687",
     "exception": false,
     "start_time": "2022-01-07T02:13:56.069555",
     "status": "completed"
    },
    "tags": []
   },
   "outputs": [
    {
     "data": {
      "text/markdown": [
       "- Bitcoin, Ethereum, and Altcoins Extend Decline.  Bitcoin price failed to recover and extended decline below USD 45,000. BTC even broke the USD 44,000 and USD 43,500 levels. It is currently (12:26 PM UTC) down 7% and is trading near USD 42,800. Similarly, most major altcoins declined heavily. ETH traded below the USD 3,550 and USD 3,400 support levels. XRP even spiked below the USD 0.750 level. ADA is struggling to stay above the USD 1.20 level.(Learn more: Selloff in Crypto Triggered by Hawkish Fed as Tech Stocks Drop Too)...Read More: Bitcoin, Ethereum, and Altcoins Extend Decline ... [| Skaityti daugiau](https://cryptonews.com/news/bitcoin-ethereum-altcoins-extend-decline.htm) "
      ],
      "text/plain": [
       "<IPython.core.display.Markdown object>"
      ]
     },
     "execution_count": 5,
     "metadata": {},
     "output_type": "execute_result"
    }
   ],
   "source": [
    "#hide_input\n",
    "#md('##### {}'.format(titleBTC)) \n",
    "md(\"- {}{} {}{} [| Skaityti daugiau]({}) \".format(xrp['title'],'. ', xrp['body'], ' ...', xrp['url']))"
   ]
  },
  {
   "cell_type": "code",
   "execution_count": 6,
   "id": "prompt-farmer",
   "metadata": {
    "execution": {
     "iopub.execute_input": "2022-01-07T02:13:56.109580Z",
     "iopub.status.busy": "2022-01-07T02:13:56.109083Z",
     "iopub.status.idle": "2022-01-07T02:13:56.112253Z",
     "shell.execute_reply": "2022-01-07T02:13:56.111853Z"
    },
    "papermill": {
     "duration": 0.016852,
     "end_time": "2022-01-07T02:13:56.112354",
     "exception": false,
     "start_time": "2022-01-07T02:13:56.095502",
     "status": "completed"
    },
    "tags": []
   },
   "outputs": [
    {
     "data": {
      "text/markdown": [
       "- Tron (TRX) Price Analysis: Risk of More Losses Below $0.07.  Tron price started a fresh decline from the $0.0825 resistance against the US Dollar. TRX price is now trading below $0.0800 and near the 55 simple moving average (4-hours). There is a major bearish trend line forming with resistance near $0.0780 on the 4-hours chart (data feed via Bitfinex). The pair could start a major...The post Tron (TRX) Price Analysis: Risk of More Losses Below $0.07 appeared first on Live Bitcoin News. ... [| Skaityti daugiau](https://www.livebitcoinnews.com/tron-trx-price-analysis-risk-of-more-losses-below-0-07/) "
      ],
      "text/plain": [
       "<IPython.core.display.Markdown object>"
      ]
     },
     "execution_count": 6,
     "metadata": {},
     "output_type": "execute_result"
    }
   ],
   "source": [
    "#hide_input\n",
    "#md('##### {}'.format(titleBTC)) \n",
    "md(\"- {}{} {}{} [| Skaityti daugiau]({}) \".format(trx['title'],'. ', trx['body'], ' ...', trx['url']))"
   ]
  },
  {
   "cell_type": "code",
   "execution_count": 7,
   "id": "illegal-greece",
   "metadata": {
    "execution": {
     "iopub.execute_input": "2022-01-07T02:13:56.137286Z",
     "iopub.status.busy": "2022-01-07T02:13:56.136785Z",
     "iopub.status.idle": "2022-01-07T02:13:56.139928Z",
     "shell.execute_reply": "2022-01-07T02:13:56.139498Z"
    },
    "papermill": {
     "duration": 0.017302,
     "end_time": "2022-01-07T02:13:56.140025",
     "exception": false,
     "start_time": "2022-01-07T02:13:56.122723",
     "status": "completed"
    },
    "tags": []
   },
   "outputs": [
    {
     "data": {
      "text/markdown": [
       "- $139M Terra proposal to ‘bring awesome UST use-cases’ to DeFi projects.  Terra would provide over $139 million in UST and LUNA to several leading DeFi projects on Ethereum, Solana, and Polygon for at least the next six months. ... [| Skaityti daugiau](https://cointelegraph.com/news/139m-terra-proposal-to-bring-awesome-ust-use-cases-to-defi-projects) "
      ],
      "text/plain": [
       "<IPython.core.display.Markdown object>"
      ]
     },
     "execution_count": 7,
     "metadata": {},
     "output_type": "execute_result"
    }
   ],
   "source": [
    "#hide_input\n",
    "#md('##### {}'.format(titleBTC)) \n",
    "md(\"- {}{} {}{} [| Skaityti daugiau]({}) \".format(eth['title'],'. ', eth['body'], ' ...', eth['url']))"
   ]
  },
  {
   "cell_type": "code",
   "execution_count": 8,
   "id": "sublime-lounge",
   "metadata": {
    "execution": {
     "iopub.execute_input": "2022-01-07T02:13:56.164898Z",
     "iopub.status.busy": "2022-01-07T02:13:56.164399Z",
     "iopub.status.idle": "2022-01-07T02:13:56.167375Z",
     "shell.execute_reply": "2022-01-07T02:13:56.166975Z"
    },
    "papermill": {
     "duration": 0.016983,
     "end_time": "2022-01-07T02:13:56.167473",
     "exception": false,
     "start_time": "2022-01-07T02:13:56.150490",
     "status": "completed"
    },
    "tags": []
   },
   "outputs": [
    {
     "data": {
      "text/markdown": [
       "- Bottom Is Close for Bitcoin and Ethereum, According to Popular Crypto Analyst – Here’s How Low the Markets Could Go.  While Bitcoin (BTC) and the wider crypto markets stumble, one popular crypto analyst sees an end in sight. Over the past 24-hours, Bitcoin has dropped 6% and Ethereum (ETH) over 10%, reflecting the mood of the overall crypto markets, which have dipped 1% during that time. Traditional and digital asset markets have undergone massive selloffs due to interest rate hike speculation from the [&#8230;]The post Bottom Is Close for Bitcoin and Ethereum, According to Popular Crypto Analyst – Here’s How Low the Markets Could Go appeared first on The Daily Hodl. ... [| Skaityti daugiau](https://dailyhodl.com/2022/01/06/bottom-is-close-for-bitcoin-and-ethereum-according-to-popular-crypto-analyst-heres-how-low-the-markets-could-go/) "
      ],
      "text/plain": [
       "<IPython.core.display.Markdown object>"
      ]
     },
     "execution_count": 8,
     "metadata": {},
     "output_type": "execute_result"
    }
   ],
   "source": [
    "#hide_input\n",
    "#md('##### {}'.format(titleBTC)) \n",
    "md(\"- {}{} {}{} [| Skaityti daugiau]({}) \".format(ada['title'],'. ', ada['body'], ' ...', ada['url']))"
   ]
  },
  {
   "cell_type": "code",
   "execution_count": 9,
   "id": "specified-ordering",
   "metadata": {
    "execution": {
     "iopub.execute_input": "2022-01-07T02:13:56.193447Z",
     "iopub.status.busy": "2022-01-07T02:13:56.192947Z",
     "iopub.status.idle": "2022-01-07T02:13:56.196019Z",
     "shell.execute_reply": "2022-01-07T02:13:56.195616Z"
    },
    "papermill": {
     "duration": 0.017817,
     "end_time": "2022-01-07T02:13:56.196118",
     "exception": false,
     "start_time": "2022-01-07T02:13:56.178301",
     "status": "completed"
    },
    "tags": []
   },
   "outputs": [
    {
     "data": {
      "text/markdown": [
       "- Goldman Sachs Predicts Bitcoin Could Reach $100K as BTC Continues to Take Gold’s Market Share as Store of Value.  Goldman Sachs has predicted that the price of bitcoin could reach $100,000. The global investment bank believes that bitcoin will continue to take market share away from gold as cryptocurrency adoption grows. Goldman Sachs&#x2019; Bitcoin vs Gold Prediction Goldman Sachs analyst Zach Pandl, co-head of global foreign exchange strategy, outlined the future outlook for bitcoin [&#8230;] ... [| Skaityti daugiau](https://news.bitcoin.com/goldman-sachs-predicts-bitcoin-100k-btc-take-golds-market-share-store-of-value/) "
      ],
      "text/plain": [
       "<IPython.core.display.Markdown object>"
      ]
     },
     "execution_count": 9,
     "metadata": {},
     "output_type": "execute_result"
    }
   ],
   "source": [
    "#hide_input\n",
    "#md('##### {}'.format(titleBTC)) \n",
    "md(\"- {}{} {}{} [| Skaityti daugiau]({}) \".format(exchange['title'],'. ', exchange['body'], ' ...', exchange['url']))"
   ]
  },
  {
   "cell_type": "code",
   "execution_count": null,
   "id": "tender-livestock",
   "metadata": {
    "papermill": {
     "duration": 0.011041,
     "end_time": "2022-01-07T02:13:56.218254",
     "exception": false,
     "start_time": "2022-01-07T02:13:56.207213",
     "status": "completed"
    },
    "tags": []
   },
   "outputs": [],
   "source": []
  },
  {
   "cell_type": "code",
   "execution_count": null,
   "id": "appreciated-diamond",
   "metadata": {
    "papermill": {
     "duration": 0.011197,
     "end_time": "2022-01-07T02:13:56.240664",
     "exception": false,
     "start_time": "2022-01-07T02:13:56.229467",
     "status": "completed"
    },
    "tags": []
   },
   "outputs": [],
   "source": []
  },
  {
   "cell_type": "code",
   "execution_count": null,
   "id": "romance-sweden",
   "metadata": {
    "papermill": {
     "duration": 0.011011,
     "end_time": "2022-01-07T02:13:56.262813",
     "exception": false,
     "start_time": "2022-01-07T02:13:56.251802",
     "status": "completed"
    },
    "tags": []
   },
   "outputs": [],
   "source": []
  },
  {
   "cell_type": "code",
   "execution_count": null,
   "id": "dietary-statistics",
   "metadata": {
    "papermill": {
     "duration": 0.011015,
     "end_time": "2022-01-07T02:13:56.284947",
     "exception": false,
     "start_time": "2022-01-07T02:13:56.273932",
     "status": "completed"
    },
    "tags": []
   },
   "outputs": [],
   "source": []
  }
 ],
 "metadata": {
  "kernelspec": {
   "display_name": "Python 3",
   "language": "python",
   "name": "python3"
  },
  "language_info": {
   "codemirror_mode": {
    "name": "ipython",
    "version": 3
   },
   "file_extension": ".py",
   "mimetype": "text/x-python",
   "name": "python",
   "nbconvert_exporter": "python",
   "pygments_lexer": "ipython3",
   "version": "3.6.15"
  },
  "papermill": {
   "default_parameters": {},
   "duration": 13.434972,
   "end_time": "2022-01-07T02:13:56.703606",
   "environment_variables": {},
   "exception": null,
   "input_path": "Market-News.ipynb",
   "output_path": "Market-News.ipynb",
   "parameters": {},
   "start_time": "2022-01-07T02:13:43.268634",
   "version": "2.2.2"
  }
 },
 "nbformat": 4,
 "nbformat_minor": 5
}