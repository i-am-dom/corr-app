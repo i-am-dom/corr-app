{
 "cells": [
  {
   "cell_type": "markdown",
   "id": "short-greensboro",
   "metadata": {
    "papermill": {
     "duration": 0.016781,
     "end_time": "2022-09-15T03:50:24.024797",
     "exception": false,
     "start_time": "2022-09-15T03:50:24.008016",
     "status": "completed"
    },
    "tags": []
   },
   "source": [
    "# Kriptovaliutų naujienos"
   ]
  },
  {
   "cell_type": "code",
   "execution_count": 1,
   "id": "functioning-knowing",
   "metadata": {
    "execution": {
     "iopub.execute_input": "2022-09-15T03:50:24.063019Z",
     "iopub.status.busy": "2022-09-15T03:50:24.062203Z",
     "iopub.status.idle": "2022-09-15T03:50:25.695862Z",
     "shell.execute_reply": "2022-09-15T03:50:25.695062Z"
    },
    "papermill": {
     "duration": 1.65883,
     "end_time": "2022-09-15T03:50:25.696053",
     "exception": false,
     "start_time": "2022-09-15T03:50:24.037223",
     "status": "completed"
    },
    "tags": []
   },
   "outputs": [],
   "source": [
    "#hide_input\n",
    "import warnings\n",
    "warnings.filterwarnings('ignore')\n",
    "from scripts.read_data import read_api\n",
    "from scripts.read_data import read_news\n",
    "from scripts.read_data import read_covid\n",
    "import matplotlib.pyplot as plt \n",
    "from IPython.display import Markdown as md"
   ]
  },
  {
   "cell_type": "code",
   "execution_count": 2,
   "id": "shared-acceptance",
   "metadata": {
    "execution": {
     "iopub.execute_input": "2022-09-15T03:50:25.730899Z",
     "iopub.status.busy": "2022-09-15T03:50:25.729619Z",
     "iopub.status.idle": "2022-09-15T03:50:37.215214Z",
     "shell.execute_reply": "2022-09-15T03:50:37.214553Z"
    },
    "papermill": {
     "duration": 11.506506,
     "end_time": "2022-09-15T03:50:37.215369",
     "exception": false,
     "start_time": "2022-09-15T03:50:25.708863",
     "status": "completed"
    },
    "tags": []
   },
   "outputs": [],
   "source": [
    "#hide_input\n",
    "blockchain = read_news('blockchain') \n",
    "btc = read_news('btc') \n",
    "xrp = read_news('xrp') \n",
    "trx = read_news('trx') \n",
    "eth = read_news('eth')  \n",
    "ada = read_news('ada')\n",
    "exchange = read_news('exchange') "
   ]
  },
  {
   "cell_type": "code",
   "execution_count": 3,
   "id": "synthetic-notion",
   "metadata": {
    "execution": {
     "iopub.execute_input": "2022-09-15T03:50:37.251436Z",
     "iopub.status.busy": "2022-09-15T03:50:37.250626Z",
     "iopub.status.idle": "2022-09-15T03:50:37.255235Z",
     "shell.execute_reply": "2022-09-15T03:50:37.254452Z"
    },
    "papermill": {
     "duration": 0.024906,
     "end_time": "2022-09-15T03:50:37.255379",
     "exception": false,
     "start_time": "2022-09-15T03:50:37.230473",
     "status": "completed"
    },
    "tags": []
   },
   "outputs": [
    {
     "data": {
      "text/markdown": [
       "- ATOM Maintains “Market’s Biggest Mover” Tag, Sustains 4-Month High.  Cosmos’ native crypto continues its bullish run up to a 40% bullish gain while other cryptos ebb and flow; NEAR follows with a multi-week high. The native coin of Cosmos protocol, ATOM continues to move upward, hitting new highs every day. At the time of writing, the crypto is trading at $14 after briefly hitting $16 earlier today. It had hit a 4-month high of $13.92 on Thursday amidst the broader crypto market bounce back. That was after the Wednesday dip when ATOM price dropped to just below $12. Ever since the $6 dip in the middle of June, Cosmos token (ATOM) has been on an upward gliding triangle. Notably, ATOM has broken the Relative Strength Index (RSI) barrier and briefly hit $16. Related Reading: TA: Bitcoin Price Trims Gains, Why $20K Is The Key To Fresh Increase As of Thursday, crypto sites were still speculating if ATOM would hit the $15 mark as it continued to rise. Most of these sites opined that it would have to break its Relative Strength Index (RSI) barrier to achieve that. According to them, this hurdle would appear as a ceiling at 63.30. However, ATOM cleared the barrier early this morning, trading at $16 before dropping to its current price, $14. This bullish run makes it a 40% gain ($10) within the space of 3 months. Other Cryptos Rally in The Wake of Sell-odd on Wednesday Additionally, this event comes alongside the wider market rallying from the ongoing massive crypto sell-off. The increasing strength of ... ... [| Skaityti daugiau](https://www.newsbtc.com/analysis/near/atom-maintains-markets-biggest-mover/) "
      ],
      "text/plain": [
       "<IPython.core.display.Markdown object>"
      ]
     },
     "execution_count": 3,
     "metadata": {},
     "output_type": "execute_result"
    }
   ],
   "source": [
    "#hide_input\n",
    "#md('##### {}'.format(titleBTC)) \n",
    "md(\"- {}{} {}{} [| Skaityti daugiau]({}) \".format(blockchain['title'],'. ', blockchain['body'], ' ...', blockchain['url']))"
   ]
  },
  {
   "cell_type": "code",
   "execution_count": 4,
   "id": "aging-caution",
   "metadata": {
    "execution": {
     "iopub.execute_input": "2022-09-15T03:50:37.293169Z",
     "iopub.status.busy": "2022-09-15T03:50:37.292414Z",
     "iopub.status.idle": "2022-09-15T03:50:37.298915Z",
     "shell.execute_reply": "2022-09-15T03:50:37.299494Z"
    },
    "papermill": {
     "duration": 0.031325,
     "end_time": "2022-09-15T03:50:37.299674",
     "exception": false,
     "start_time": "2022-09-15T03:50:37.268349",
     "status": "completed"
    },
    "tags": []
   },
   "outputs": [
    {
     "data": {
      "text/markdown": [
       "- Bitcoin, Ethereum, Quant, and Chiliz Daily Price Analyses – 14 September Roundup.  The global crypto market has finally seen a respite as it has turned bullish. The recent changes show significant improvement for Bitcoin, Ethereum, and others. As the market continues to see enhancement, investors will be attracted to it. The recent days brought the stark market bearishness, affecting its overall performance. As the trend for gains &#8230;  Bitcoin, Ethereum, Quant, and Chiliz Daily Price Analyses – 14 September Roundup Read More &#187; ... [| Skaityti daugiau](https://www.cryptopolitan.com/bitcoin-ethereum-quant-and-chiliz-daily-price-analyses-14-september-roundup/) "
      ],
      "text/plain": [
       "<IPython.core.display.Markdown object>"
      ]
     },
     "execution_count": 4,
     "metadata": {},
     "output_type": "execute_result"
    }
   ],
   "source": [
    "#hide_input\n",
    "#md('##### {}'.format(titleBTC)) \n",
    "md(\"- {}{} {}{} [| Skaityti daugiau]({}) \".format(btc['title'],'. ', btc['body'], ' ...', btc['url']))"
   ]
  },
  {
   "cell_type": "code",
   "execution_count": 5,
   "id": "organic-actress",
   "metadata": {
    "execution": {
     "iopub.execute_input": "2022-09-15T03:50:37.331265Z",
     "iopub.status.busy": "2022-09-15T03:50:37.330494Z",
     "iopub.status.idle": "2022-09-15T03:50:37.334997Z",
     "shell.execute_reply": "2022-09-15T03:50:37.334442Z"
    },
    "papermill": {
     "duration": 0.022643,
     "end_time": "2022-09-15T03:50:37.335124",
     "exception": false,
     "start_time": "2022-09-15T03:50:37.312481",
     "status": "completed"
    },
    "tags": []
   },
   "outputs": [
    {
     "data": {
      "text/markdown": [
       "- CDC gives nod to Lummis-Gillibrand bill in proposed amicus brief in SEC v. Ripple case.  The Chamber of Digital Commerce has requested to file an amicus brief in the protracted SEC case against Ripple Labs and supports legislating to clear up legal gray area. ... [| Skaityti daugiau](https://cointelegraph.com/news/cdc-gives-nod-to-lummis-gillibrand-bill-in-proposed-amicus-brief-in-sec-v-ripple-case) "
      ],
      "text/plain": [
       "<IPython.core.display.Markdown object>"
      ]
     },
     "execution_count": 5,
     "metadata": {},
     "output_type": "execute_result"
    }
   ],
   "source": [
    "#hide_input\n",
    "#md('##### {}'.format(titleBTC)) \n",
    "md(\"- {}{} {}{} [| Skaityti daugiau]({}) \".format(xrp['title'],'. ', xrp['body'], ' ...', xrp['url']))"
   ]
  },
  {
   "cell_type": "code",
   "execution_count": 6,
   "id": "prompt-farmer",
   "metadata": {
    "execution": {
     "iopub.execute_input": "2022-09-15T03:50:37.368688Z",
     "iopub.status.busy": "2022-09-15T03:50:37.367899Z",
     "iopub.status.idle": "2022-09-15T03:50:37.372954Z",
     "shell.execute_reply": "2022-09-15T03:50:37.372342Z"
    },
    "papermill": {
     "duration": 0.02395,
     "end_time": "2022-09-15T03:50:37.373128",
     "exception": false,
     "start_time": "2022-09-15T03:50:37.349178",
     "status": "completed"
    },
    "tags": []
   },
   "outputs": [
    {
     "data": {
      "text/markdown": [
       "- Will Tron’s latest collaboration to boost liquidity favor TRX.  The Tron [TRX] network announced a partnership with the liquidity provider, Wintermute. As is the case with all partnerships, this new collaboration will aim to bring more efficiency to TRON. Wintermute will be Tron’s official market maker as per the agreement. The official announcement revealed that the liquidity provider will boost Tron’s liquidity across multiple [&#8230;] ... [| Skaityti daugiau](https://ambcrypto.com/will-trons-latest-collaboration-to-boost-liquidity-favor-trx/) "
      ],
      "text/plain": [
       "<IPython.core.display.Markdown object>"
      ]
     },
     "execution_count": 6,
     "metadata": {},
     "output_type": "execute_result"
    }
   ],
   "source": [
    "#hide_input\n",
    "#md('##### {}'.format(titleBTC)) \n",
    "md(\"- {}{} {}{} [| Skaityti daugiau]({}) \".format(trx['title'],'. ', trx['body'], ' ...', trx['url']))"
   ]
  },
  {
   "cell_type": "code",
   "execution_count": 7,
   "id": "illegal-greece",
   "metadata": {
    "execution": {
     "iopub.execute_input": "2022-09-15T03:50:37.405301Z",
     "iopub.status.busy": "2022-09-15T03:50:37.404591Z",
     "iopub.status.idle": "2022-09-15T03:50:37.410564Z",
     "shell.execute_reply": "2022-09-15T03:50:37.409996Z"
    },
    "papermill": {
     "duration": 0.024237,
     "end_time": "2022-09-15T03:50:37.410698",
     "exception": false,
     "start_time": "2022-09-15T03:50:37.386461",
     "status": "completed"
    },
    "tags": []
   },
   "outputs": [
    {
     "data": {
      "text/markdown": [
       "- Lido Finance investors waiting on Ethereum Merge should read this.  When talks of the Ethereum [ETH] Merge became an irreversible focal point of the crypto community, Lido Finance [LDO] was mostly pointed out. Not just because it is the king in the ETH staking world but because it almost always took part in a price uptick. In 2022 alone, LDO increased more than 150%, recording [&#8230;] ... [| Skaityti daugiau](https://ambcrypto.com/lido-finance-investors-waiting-on-ethereum-merge-should-read-this/) "
      ],
      "text/plain": [
       "<IPython.core.display.Markdown object>"
      ]
     },
     "execution_count": 7,
     "metadata": {},
     "output_type": "execute_result"
    }
   ],
   "source": [
    "#hide_input\n",
    "#md('##### {}'.format(titleBTC)) \n",
    "md(\"- {}{} {}{} [| Skaityti daugiau]({}) \".format(eth['title'],'. ', eth['body'], ' ...', eth['url']))"
   ]
  },
  {
   "cell_type": "code",
   "execution_count": 8,
   "id": "sublime-lounge",
   "metadata": {
    "execution": {
     "iopub.execute_input": "2022-09-15T03:50:37.449142Z",
     "iopub.status.busy": "2022-09-15T03:50:37.448336Z",
     "iopub.status.idle": "2022-09-15T03:50:37.452745Z",
     "shell.execute_reply": "2022-09-15T03:50:37.452168Z"
    },
    "papermill": {
     "duration": 0.027182,
     "end_time": "2022-09-15T03:50:37.452874",
     "exception": false,
     "start_time": "2022-09-15T03:50:37.425692",
     "status": "completed"
    },
    "tags": []
   },
   "outputs": [
    {
     "data": {
      "text/markdown": [
       "- Bitcoin Price Struggles, Ethereum Consolidates Ahead of Merge, CEL Rallies.  Bitcoin price failed to start a recovery wave above the $20,500 level. BTC is currently (02:50 UTC) consolidating near the $20,000 level. A downside break below $20,000 might start a major decline in the near term. Similarly, most major altcoins are trading in a range. ETH is trading near $1,600 and might move as we approach the key merge event. XRP is consolidating near $0.335. ADA might attempt to clear the $0.48 resistance zone....Read More: Bitcoin Price Struggles, Ethereum Consolidates Ahead of Merge, CEL Rallies ... [| Skaityti daugiau](https://cryptonews.com/news/bitcoin-price-struggles-ethereum-consolidates-ahead-of-merge-cel-rallies.htm) "
      ],
      "text/plain": [
       "<IPython.core.display.Markdown object>"
      ]
     },
     "execution_count": 8,
     "metadata": {},
     "output_type": "execute_result"
    }
   ],
   "source": [
    "#hide_input\n",
    "#md('##### {}'.format(titleBTC)) \n",
    "md(\"- {}{} {}{} [| Skaityti daugiau]({}) \".format(ada['title'],'. ', ada['body'], ' ...', ada['url']))"
   ]
  },
  {
   "cell_type": "code",
   "execution_count": 9,
   "id": "specified-ordering",
   "metadata": {
    "execution": {
     "iopub.execute_input": "2022-09-15T03:50:37.491130Z",
     "iopub.status.busy": "2022-09-15T03:50:37.490391Z",
     "iopub.status.idle": "2022-09-15T03:50:37.495145Z",
     "shell.execute_reply": "2022-09-15T03:50:37.494579Z"
    },
    "papermill": {
     "duration": 0.026532,
     "end_time": "2022-09-15T03:50:37.495270",
     "exception": false,
     "start_time": "2022-09-15T03:50:37.468738",
     "status": "completed"
    },
    "tags": []
   },
   "outputs": [
    {
     "data": {
      "text/markdown": [
       "- Binance Sees Record Increase in Indian Users After Government Starts Imposing New Crypto Tax.  The number of Indian users on cryptocurrency exchange Binance has soared after the Indian government began levying taxes on crypto transactions. Meanwhile, daily trading volumes at some major India-based cryptocurrency exchanges are down over 90% since the new tax rules took effect. Binance Sees Record Number of Indian Users The number of Indian user sign-ups [&#8230;] ... [| Skaityti daugiau](https://news.bitcoin.com/binance-sees-record-increase-in-indian-users-after-government-starts-imposing-new-crypto-tax/) "
      ],
      "text/plain": [
       "<IPython.core.display.Markdown object>"
      ]
     },
     "execution_count": 9,
     "metadata": {},
     "output_type": "execute_result"
    }
   ],
   "source": [
    "#hide_input\n",
    "#md('##### {}'.format(titleBTC)) \n",
    "md(\"- {}{} {}{} [| Skaityti daugiau]({}) \".format(exchange['title'],'. ', exchange['body'], ' ...', exchange['url']))"
   ]
  },
  {
   "cell_type": "code",
   "execution_count": null,
   "id": "tender-livestock",
   "metadata": {
    "papermill": {
     "duration": 0.016233,
     "end_time": "2022-09-15T03:50:37.527530",
     "exception": false,
     "start_time": "2022-09-15T03:50:37.511297",
     "status": "completed"
    },
    "tags": []
   },
   "outputs": [],
   "source": []
  },
  {
   "cell_type": "code",
   "execution_count": null,
   "id": "appreciated-diamond",
   "metadata": {
    "papermill": {
     "duration": 0.014946,
     "end_time": "2022-09-15T03:50:37.557451",
     "exception": false,
     "start_time": "2022-09-15T03:50:37.542505",
     "status": "completed"
    },
    "tags": []
   },
   "outputs": [],
   "source": []
  },
  {
   "cell_type": "code",
   "execution_count": null,
   "id": "romance-sweden",
   "metadata": {
    "papermill": {
     "duration": 0.013566,
     "end_time": "2022-09-15T03:50:37.585872",
     "exception": false,
     "start_time": "2022-09-15T03:50:37.572306",
     "status": "completed"
    },
    "tags": []
   },
   "outputs": [],
   "source": []
  },
  {
   "cell_type": "code",
   "execution_count": null,
   "id": "dietary-statistics",
   "metadata": {
    "papermill": {
     "duration": 0.016484,
     "end_time": "2022-09-15T03:50:37.617320",
     "exception": false,
     "start_time": "2022-09-15T03:50:37.600836",
     "status": "completed"
    },
    "tags": []
   },
   "outputs": [],
   "source": []
  }
 ],
 "metadata": {
  "kernelspec": {
   "display_name": "Python 3",
   "language": "python",
   "name": "python3"
  },
  "language_info": {
   "codemirror_mode": {
    "name": "ipython",
    "version": 3
   },
   "file_extension": ".py",
   "mimetype": "text/x-python",
   "name": "python",
   "nbconvert_exporter": "python",
   "pygments_lexer": "ipython3",
   "version": "3.6.15"
  },
  "papermill": {
   "default_parameters": {},
   "duration": 15.380788,
   "end_time": "2022-09-15T03:50:38.153291",
   "environment_variables": {},
   "exception": null,
   "input_path": "Market-News.ipynb",
   "output_path": "Market-News.ipynb",
   "parameters": {},
   "start_time": "2022-09-15T03:50:22.772503",
   "version": "2.2.2"
  }
 },
 "nbformat": 4,
 "nbformat_minor": 5
}