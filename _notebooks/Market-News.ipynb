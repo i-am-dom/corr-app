{
 "cells": [
  {
   "cell_type": "markdown",
   "id": "short-greensboro",
   "metadata": {
    "papermill": {
     "duration": 0.013102,
     "end_time": "2022-05-01T03:16:21.555744",
     "exception": false,
     "start_time": "2022-05-01T03:16:21.542642",
     "status": "completed"
    },
    "tags": []
   },
   "source": [
    "# Kriptovaliutų naujienos"
   ]
  },
  {
   "cell_type": "code",
   "execution_count": 1,
   "id": "functioning-knowing",
   "metadata": {
    "execution": {
     "iopub.execute_input": "2022-05-01T03:16:21.584408Z",
     "iopub.status.busy": "2022-05-01T03:16:21.583859Z",
     "iopub.status.idle": "2022-05-01T03:16:22.793919Z",
     "shell.execute_reply": "2022-05-01T03:16:22.793387Z"
    },
    "papermill": {
     "duration": 1.228653,
     "end_time": "2022-05-01T03:16:22.794103",
     "exception": false,
     "start_time": "2022-05-01T03:16:21.565450",
     "status": "completed"
    },
    "tags": []
   },
   "outputs": [],
   "source": [
    "#hide_input\n",
    "import warnings\n",
    "warnings.filterwarnings('ignore')\n",
    "from scripts.read_data import read_api\n",
    "from scripts.read_data import read_news\n",
    "from scripts.read_data import read_covid\n",
    "import matplotlib.pyplot as plt \n",
    "from IPython.display import Markdown as md"
   ]
  },
  {
   "cell_type": "code",
   "execution_count": 2,
   "id": "shared-acceptance",
   "metadata": {
    "execution": {
     "iopub.execute_input": "2022-05-01T03:16:22.818666Z",
     "iopub.status.busy": "2022-05-01T03:16:22.817764Z",
     "iopub.status.idle": "2022-05-01T03:16:33.202782Z",
     "shell.execute_reply": "2022-05-01T03:16:33.202252Z"
    },
    "papermill": {
     "duration": 10.39963,
     "end_time": "2022-05-01T03:16:33.202917",
     "exception": false,
     "start_time": "2022-05-01T03:16:22.803287",
     "status": "completed"
    },
    "tags": []
   },
   "outputs": [],
   "source": [
    "#hide_input\n",
    "blockchain = read_news('blockchain') \n",
    "btc = read_news('btc') \n",
    "xrp = read_news('xrp') \n",
    "trx = read_news('trx') \n",
    "eth = read_news('eth')  \n",
    "ada = read_news('ada')\n",
    "exchange = read_news('exchange') "
   ]
  },
  {
   "cell_type": "code",
   "execution_count": 3,
   "id": "synthetic-notion",
   "metadata": {
    "execution": {
     "iopub.execute_input": "2022-05-01T03:16:33.227966Z",
     "iopub.status.busy": "2022-05-01T03:16:33.227424Z",
     "iopub.status.idle": "2022-05-01T03:16:33.229787Z",
     "shell.execute_reply": "2022-05-01T03:16:33.230221Z"
    },
    "papermill": {
     "duration": 0.017473,
     "end_time": "2022-05-01T03:16:33.230345",
     "exception": false,
     "start_time": "2022-05-01T03:16:33.212872",
     "status": "completed"
    },
    "tags": []
   },
   "outputs": [
    {
     "data": {
      "text/markdown": [
       "- Supercar Making Giant McLaren Automotive Announces the Launch of MSO LAB.  TL;DR Breakdown Automotive industry marks an entrance into the metaverse and NFT world. McLaren Automotive embraces Web3 in a bid to explore modern technological advancements. The company plans to launch its own NFT collection on the Ethereum blockchain. McLaren’s MSO LAB will offer a membership plan to its users and consumers. The concept of NFTs... ... [| Skaityti daugiau](https://www.cryptopolitan.com/mclaren-automotive-announces-mso-lab/) "
      ],
      "text/plain": [
       "<IPython.core.display.Markdown object>"
      ]
     },
     "execution_count": 3,
     "metadata": {},
     "output_type": "execute_result"
    }
   ],
   "source": [
    "#hide_input\n",
    "#md('##### {}'.format(titleBTC)) \n",
    "md(\"- {}{} {}{} [| Skaityti daugiau]({}) \".format(blockchain['title'],'. ', blockchain['body'], ' ...', blockchain['url']))"
   ]
  },
  {
   "cell_type": "code",
   "execution_count": 4,
   "id": "aging-caution",
   "metadata": {
    "execution": {
     "iopub.execute_input": "2022-05-01T03:16:33.253756Z",
     "iopub.status.busy": "2022-05-01T03:16:33.253172Z",
     "iopub.status.idle": "2022-05-01T03:16:33.255376Z",
     "shell.execute_reply": "2022-05-01T03:16:33.255835Z"
    },
    "papermill": {
     "duration": 0.016377,
     "end_time": "2022-05-01T03:16:33.255967",
     "exception": false,
     "start_time": "2022-05-01T03:16:33.239590",
     "status": "completed"
    },
    "tags": []
   },
   "outputs": [
    {
     "data": {
      "text/markdown": [
       "- Shiba Inu ($SHIB) Is More Popular Than Dogecoin ($DOGE) in Europe, Google Data Shows.  Data from Google Trends has shown that the meme-inspired cryptocurrency Shiba Inu ($SHIB) is more popular than its rival memecoin Dogecoin ($DOGE), which is supported by Tesla’s CEO Elon Musk, throughout Europe. A study conducted by askgamblers.com, using data from the world’s leading search engine, found that while Bitcoin (BTC) is the most popular cryptocurrency […] ... [| Skaityti daugiau](https://www.cryptoglobe.com/latest/2022/05/shiba-inu-shib-is-more-popular-than-dogecoin-doge-in-europe-google-data-shows/) "
      ],
      "text/plain": [
       "<IPython.core.display.Markdown object>"
      ]
     },
     "execution_count": 4,
     "metadata": {},
     "output_type": "execute_result"
    }
   ],
   "source": [
    "#hide_input\n",
    "#md('##### {}'.format(titleBTC)) \n",
    "md(\"- {}{} {}{} [| Skaityti daugiau]({}) \".format(btc['title'],'. ', btc['body'], ' ...', btc['url']))"
   ]
  },
  {
   "cell_type": "code",
   "execution_count": 5,
   "id": "organic-actress",
   "metadata": {
    "execution": {
     "iopub.execute_input": "2022-05-01T03:16:33.280887Z",
     "iopub.status.busy": "2022-05-01T03:16:33.280375Z",
     "iopub.status.idle": "2022-05-01T03:16:33.283493Z",
     "shell.execute_reply": "2022-05-01T03:16:33.283063Z"
    },
    "papermill": {
     "duration": 0.017561,
     "end_time": "2022-05-01T03:16:33.283599",
     "exception": false,
     "start_time": "2022-05-01T03:16:33.266038",
     "status": "completed"
    },
    "tags": []
   },
   "outputs": [
    {
     "data": {
      "text/markdown": [
       "- XRP Price Prediction: XRP Price Hits $0.58 Support; Accumulate Again?.  On April 25th, the Ripple(XRP) sellers escaped from a minor consolidation stretching from $0.87 to the 0.68 mark. The support breakdown released the trapped bearish momentum and pulled the XRP price to January&#8217;s bottom support at $0.58. Key points from XRP analysis: The XRP price lost 25..56% within a fortnight The potential fallout from the The post XRP Price Prediction: XRP Price Hits $0.58 Support; Accumulate Again? appeared first on CoinGape. ... [| Skaityti daugiau](https://coingape.com/markets/xrp-price-prediction-xrp-price-hits-0-58-support-accumulate-again/) "
      ],
      "text/plain": [
       "<IPython.core.display.Markdown object>"
      ]
     },
     "execution_count": 5,
     "metadata": {},
     "output_type": "execute_result"
    }
   ],
   "source": [
    "#hide_input\n",
    "#md('##### {}'.format(titleBTC)) \n",
    "md(\"- {}{} {}{} [| Skaityti daugiau]({}) \".format(xrp['title'],'. ', xrp['body'], ' ...', xrp['url']))"
   ]
  },
  {
   "cell_type": "code",
   "execution_count": 6,
   "id": "prompt-farmer",
   "metadata": {
    "execution": {
     "iopub.execute_input": "2022-05-01T03:16:33.308412Z",
     "iopub.status.busy": "2022-05-01T03:16:33.307904Z",
     "iopub.status.idle": "2022-05-01T03:16:33.311174Z",
     "shell.execute_reply": "2022-05-01T03:16:33.310768Z"
    },
    "papermill": {
     "duration": 0.017758,
     "end_time": "2022-05-01T03:16:33.311282",
     "exception": false,
     "start_time": "2022-05-01T03:16:33.293524",
     "status": "completed"
    },
    "tags": []
   },
   "outputs": [
    {
     "data": {
      "text/markdown": [
       "- Tron: Amid a slew of developments, is there light at the end of the tunnel for TRX.  The success of a network within the blockchain ecosystem is largely dependent of its ability to float successful projects. In the past few weeks, the Tron Network made a few announcements intimating investors and enthusiasts alike on the plans and projects of the network. On 21 April, Tron’s Network founder Justin Sun announced the Network’s [&#8230;] ... [| Skaityti daugiau](https://ambcrypto.com/tron-amid-a-slew-of-developments-is-there-light-at-the-end-of-the-tunnel-for-trx/) "
      ],
      "text/plain": [
       "<IPython.core.display.Markdown object>"
      ]
     },
     "execution_count": 6,
     "metadata": {},
     "output_type": "execute_result"
    }
   ],
   "source": [
    "#hide_input\n",
    "#md('##### {}'.format(titleBTC)) \n",
    "md(\"- {}{} {}{} [| Skaityti daugiau]({}) \".format(trx['title'],'. ', trx['body'], ' ...', trx['url']))"
   ]
  },
  {
   "cell_type": "code",
   "execution_count": 7,
   "id": "illegal-greece",
   "metadata": {
    "execution": {
     "iopub.execute_input": "2022-05-01T03:16:33.336555Z",
     "iopub.status.busy": "2022-05-01T03:16:33.336049Z",
     "iopub.status.idle": "2022-05-01T03:16:33.339065Z",
     "shell.execute_reply": "2022-05-01T03:16:33.338634Z"
    },
    "papermill": {
     "duration": 0.017511,
     "end_time": "2022-05-01T03:16:33.339171",
     "exception": false,
     "start_time": "2022-05-01T03:16:33.321660",
     "status": "completed"
    },
    "tags": []
   },
   "outputs": [
    {
     "data": {
      "text/markdown": [
       "- Supercar Making Giant McLaren Automotive Announces the Launch of MSO LAB.  TL;DR Breakdown Automotive industry marks an entrance into the metaverse and NFT world. McLaren Automotive embraces Web3 in a bid to explore modern technological advancements. The company plans to launch its own NFT collection on the Ethereum blockchain. McLaren’s MSO LAB will offer a membership plan to its users and consumers. The concept of NFTs... ... [| Skaityti daugiau](https://www.cryptopolitan.com/mclaren-automotive-announces-mso-lab/) "
      ],
      "text/plain": [
       "<IPython.core.display.Markdown object>"
      ]
     },
     "execution_count": 7,
     "metadata": {},
     "output_type": "execute_result"
    }
   ],
   "source": [
    "#hide_input\n",
    "#md('##### {}'.format(titleBTC)) \n",
    "md(\"- {}{} {}{} [| Skaityti daugiau]({}) \".format(eth['title'],'. ', eth['body'], ' ...', eth['url']))"
   ]
  },
  {
   "cell_type": "code",
   "execution_count": 8,
   "id": "sublime-lounge",
   "metadata": {
    "execution": {
     "iopub.execute_input": "2022-05-01T03:16:33.364752Z",
     "iopub.status.busy": "2022-05-01T03:16:33.364245Z",
     "iopub.status.idle": "2022-05-01T03:16:33.366924Z",
     "shell.execute_reply": "2022-05-01T03:16:33.367355Z"
    },
    "papermill": {
     "duration": 0.01781,
     "end_time": "2022-05-01T03:16:33.367473",
     "exception": false,
     "start_time": "2022-05-01T03:16:33.349663",
     "status": "completed"
    },
    "tags": []
   },
   "outputs": [
    {
     "data": {
      "text/markdown": [
       "- Cardano price analysis: ADA/USD pair to break above the $1 resistance in the near term?.  Towards the closure of yesterday&#8217;s Cardano price analysis, the market traded negatively; however, when today&#8217;s chart opened, the bulls came in large numbers and were more strategic, causing ADA/USD price to surge in a rising wedge trend. The market is currently trading at $0.815 after placing a high of $0.839 and a low of $0.78.... ... [| Skaityti daugiau](https://www.cryptopolitan.com/cardano-price-analysis-2022-04-30/) "
      ],
      "text/plain": [
       "<IPython.core.display.Markdown object>"
      ]
     },
     "execution_count": 8,
     "metadata": {},
     "output_type": "execute_result"
    }
   ],
   "source": [
    "#hide_input\n",
    "#md('##### {}'.format(titleBTC)) \n",
    "md(\"- {}{} {}{} [| Skaityti daugiau]({}) \".format(ada['title'],'. ', ada['body'], ' ...', ada['url']))"
   ]
  },
  {
   "cell_type": "code",
   "execution_count": 9,
   "id": "specified-ordering",
   "metadata": {
    "execution": {
     "iopub.execute_input": "2022-05-01T03:16:33.394583Z",
     "iopub.status.busy": "2022-05-01T03:16:33.394034Z",
     "iopub.status.idle": "2022-05-01T03:16:33.396468Z",
     "shell.execute_reply": "2022-05-01T03:16:33.396847Z"
    },
    "papermill": {
     "duration": 0.018592,
     "end_time": "2022-05-01T03:16:33.396972",
     "exception": false,
     "start_time": "2022-05-01T03:16:33.378380",
     "status": "completed"
    },
    "tags": []
   },
   "outputs": [
    {
     "data": {
      "text/markdown": [
       "- Binance Coin [BNB] to cross the $420 mark? Dominant whales have the answer.  Binance coin returned to the annual low of 2022 during the retracement phase, following a minor bullish rise in March. However, at the beginning of November, Binance Coin attempted twice to achieve an all-time high ($690.93), but the bulls failed. Nonetheless, traders are showing signs of confidence amid a weak crypto market. Short-term rally soon? [&#8230;] ... [| Skaityti daugiau](https://ambcrypto.com/binance-coin-bnb-to-cross-the-420-mark-dominant-whales-have-the-answer/) "
      ],
      "text/plain": [
       "<IPython.core.display.Markdown object>"
      ]
     },
     "execution_count": 9,
     "metadata": {},
     "output_type": "execute_result"
    }
   ],
   "source": [
    "#hide_input\n",
    "#md('##### {}'.format(titleBTC)) \n",
    "md(\"- {}{} {}{} [| Skaityti daugiau]({}) \".format(exchange['title'],'. ', exchange['body'], ' ...', exchange['url']))"
   ]
  },
  {
   "cell_type": "code",
   "execution_count": null,
   "id": "tender-livestock",
   "metadata": {
    "papermill": {
     "duration": 0.011247,
     "end_time": "2022-05-01T03:16:33.419497",
     "exception": false,
     "start_time": "2022-05-01T03:16:33.408250",
     "status": "completed"
    },
    "tags": []
   },
   "outputs": [],
   "source": []
  },
  {
   "cell_type": "code",
   "execution_count": null,
   "id": "appreciated-diamond",
   "metadata": {
    "papermill": {
     "duration": 0.011582,
     "end_time": "2022-05-01T03:16:33.442561",
     "exception": false,
     "start_time": "2022-05-01T03:16:33.430979",
     "status": "completed"
    },
    "tags": []
   },
   "outputs": [],
   "source": []
  },
  {
   "cell_type": "code",
   "execution_count": null,
   "id": "romance-sweden",
   "metadata": {
    "papermill": {
     "duration": 0.011023,
     "end_time": "2022-05-01T03:16:33.465704",
     "exception": false,
     "start_time": "2022-05-01T03:16:33.454681",
     "status": "completed"
    },
    "tags": []
   },
   "outputs": [],
   "source": []
  },
  {
   "cell_type": "code",
   "execution_count": null,
   "id": "dietary-statistics",
   "metadata": {
    "papermill": {
     "duration": 0.010996,
     "end_time": "2022-05-01T03:16:33.487815",
     "exception": false,
     "start_time": "2022-05-01T03:16:33.476819",
     "status": "completed"
    },
    "tags": []
   },
   "outputs": [],
   "source": []
  }
 ],
 "metadata": {
  "kernelspec": {
   "display_name": "Python 3",
   "language": "python",
   "name": "python3"
  },
  "language_info": {
   "codemirror_mode": {
    "name": "ipython",
    "version": 3
   },
   "file_extension": ".py",
   "mimetype": "text/x-python",
   "name": "python",
   "nbconvert_exporter": "python",
   "pygments_lexer": "ipython3",
   "version": "3.6.15"
  },
  "papermill": {
   "default_parameters": {},
   "duration": 13.303611,
   "end_time": "2022-05-01T03:16:33.916667",
   "environment_variables": {},
   "exception": null,
   "input_path": "Market-News.ipynb",
   "output_path": "Market-News.ipynb",
   "parameters": {},
   "start_time": "2022-05-01T03:16:20.613056",
   "version": "2.2.2"
  }
 },
 "nbformat": 4,
 "nbformat_minor": 5
}