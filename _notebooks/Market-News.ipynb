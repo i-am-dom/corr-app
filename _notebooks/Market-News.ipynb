{
 "cells": [
  {
   "cell_type": "markdown",
   "id": "short-greensboro",
   "metadata": {
    "papermill": {
     "duration": 0.016141,
     "end_time": "2022-10-17T03:57:58.077033",
     "exception": false,
     "start_time": "2022-10-17T03:57:58.060892",
     "status": "completed"
    },
    "tags": []
   },
   "source": [
    "# Kriptovaliutų naujienos"
   ]
  },
  {
   "cell_type": "code",
   "execution_count": 1,
   "id": "functioning-knowing",
   "metadata": {
    "execution": {
     "iopub.execute_input": "2022-10-17T03:57:58.116960Z",
     "iopub.status.busy": "2022-10-17T03:57:58.115888Z",
     "iopub.status.idle": "2022-10-17T03:57:59.925066Z",
     "shell.execute_reply": "2022-10-17T03:57:59.924381Z"
    },
    "papermill": {
     "duration": 1.836213,
     "end_time": "2022-10-17T03:57:59.925234",
     "exception": false,
     "start_time": "2022-10-17T03:57:58.089021",
     "status": "completed"
    },
    "tags": []
   },
   "outputs": [],
   "source": [
    "#hide_input\n",
    "import warnings\n",
    "warnings.filterwarnings('ignore')\n",
    "from scripts.read_data import read_api\n",
    "from scripts.read_data import read_news\n",
    "from scripts.read_data import read_covid\n",
    "import matplotlib.pyplot as plt \n",
    "from IPython.display import Markdown as md"
   ]
  },
  {
   "cell_type": "code",
   "execution_count": 2,
   "id": "shared-acceptance",
   "metadata": {
    "execution": {
     "iopub.execute_input": "2022-10-17T03:57:59.958081Z",
     "iopub.status.busy": "2022-10-17T03:57:59.957110Z",
     "iopub.status.idle": "2022-10-17T03:58:15.519242Z",
     "shell.execute_reply": "2022-10-17T03:58:15.518633Z"
    },
    "papermill": {
     "duration": 15.582028,
     "end_time": "2022-10-17T03:58:15.519393",
     "exception": false,
     "start_time": "2022-10-17T03:57:59.937365",
     "status": "completed"
    },
    "tags": []
   },
   "outputs": [],
   "source": [
    "#hide_input\n",
    "blockchain = read_news('blockchain') \n",
    "btc = read_news('btc') \n",
    "xrp = read_news('xrp') \n",
    "trx = read_news('trx') \n",
    "eth = read_news('eth')  \n",
    "ada = read_news('ada')\n",
    "exchange = read_news('exchange') "
   ]
  },
  {
   "cell_type": "code",
   "execution_count": 3,
   "id": "synthetic-notion",
   "metadata": {
    "execution": {
     "iopub.execute_input": "2022-10-17T03:58:15.554462Z",
     "iopub.status.busy": "2022-10-17T03:58:15.553698Z",
     "iopub.status.idle": "2022-10-17T03:58:15.562446Z",
     "shell.execute_reply": "2022-10-17T03:58:15.561813Z"
    },
    "papermill": {
     "duration": 0.030884,
     "end_time": "2022-10-17T03:58:15.562593",
     "exception": false,
     "start_time": "2022-10-17T03:58:15.531709",
     "status": "completed"
    },
    "tags": []
   },
   "outputs": [
    {
     "data": {
      "text/markdown": [
       "- Using Taproot And FROST To Improve Bitcoin Privacy.  A group of developers in Malaysia are working to incorporate FROST and Taproot to create federated Chaumian mints with the Fedimint protocol. ... [| Skaityti daugiau](https://bitcoinmagazine.com/technical/taproot-and-frost-improve-bitcoin-privacy) "
      ],
      "text/plain": [
       "<IPython.core.display.Markdown object>"
      ]
     },
     "execution_count": 3,
     "metadata": {},
     "output_type": "execute_result"
    }
   ],
   "source": [
    "#hide_input\n",
    "#md('##### {}'.format(titleBTC)) \n",
    "md(\"- {}{} {}{} [| Skaityti daugiau]({}) \".format(blockchain['title'],'. ', blockchain['body'], ' ...', blockchain['url']))"
   ]
  },
  {
   "cell_type": "code",
   "execution_count": 4,
   "id": "aging-caution",
   "metadata": {
    "execution": {
     "iopub.execute_input": "2022-10-17T03:58:15.598204Z",
     "iopub.status.busy": "2022-10-17T03:58:15.597371Z",
     "iopub.status.idle": "2022-10-17T03:58:15.604549Z",
     "shell.execute_reply": "2022-10-17T03:58:15.603838Z"
    },
    "papermill": {
     "duration": 0.029751,
     "end_time": "2022-10-17T03:58:15.604696",
     "exception": false,
     "start_time": "2022-10-17T03:58:15.574945",
     "status": "completed"
    },
    "tags": []
   },
   "outputs": [
    {
     "data": {
      "text/markdown": [
       "- How To Short Dogecoin (Get High ROI on DOGE).  Dogecoin surged by 12000% in 2021 – much higher than flagship cryptocurrencies Bitcoin and Ethereum. In 2022, the cryptocurrency has decreased by more than 50% of what it was before due to the current bearish trend in the crypto market. This meme cryptocurrency is also known to pump and dump. Would you like to know &#8230;  How To Short Dogecoin (Get High ROI on DOGE) Read More &#187; ... [| Skaityti daugiau](https://www.cryptopolitan.com/how-to-short-dogecoin/) "
      ],
      "text/plain": [
       "<IPython.core.display.Markdown object>"
      ]
     },
     "execution_count": 4,
     "metadata": {},
     "output_type": "execute_result"
    }
   ],
   "source": [
    "#hide_input\n",
    "#md('##### {}'.format(titleBTC)) \n",
    "md(\"- {}{} {}{} [| Skaityti daugiau]({}) \".format(btc['title'],'. ', btc['body'], ' ...', btc['url']))"
   ]
  },
  {
   "cell_type": "code",
   "execution_count": 5,
   "id": "organic-actress",
   "metadata": {
    "execution": {
     "iopub.execute_input": "2022-10-17T03:58:15.638765Z",
     "iopub.status.busy": "2022-10-17T03:58:15.637931Z",
     "iopub.status.idle": "2022-10-17T03:58:15.645885Z",
     "shell.execute_reply": "2022-10-17T03:58:15.647080Z"
    },
    "papermill": {
     "duration": 0.029688,
     "end_time": "2022-10-17T03:58:15.647251",
     "exception": false,
     "start_time": "2022-10-17T03:58:15.617563",
     "status": "completed"
    },
    "tags": []
   },
   "outputs": [
    {
     "data": {
      "text/markdown": [
       "- XRP retains a bullish bias on higher timeframes, where can traders look to buy.  Disclaimer: The findings of the following analysis are the sole opinions of the writer and should not be considered investment advice. A higher timeframe structure was bullish for XRP The price sat atop a significant lower timeframe level Bitcoin [BTC] traded at $19.1k at press time. The $19k and $18.6k are important lower timeframe support levels. [&#8230;] ... [| Skaityti daugiau](https://ambcrypto.com/xrp-retains-a-bullish-bias-on-higher-timeframes-where-can-traders-look-to-buy/) "
      ],
      "text/plain": [
       "<IPython.core.display.Markdown object>"
      ]
     },
     "execution_count": 5,
     "metadata": {},
     "output_type": "execute_result"
    }
   ],
   "source": [
    "#hide_input\n",
    "#md('##### {}'.format(titleBTC)) \n",
    "md(\"- {}{} {}{} [| Skaityti daugiau]({}) \".format(xrp['title'],'. ', xrp['body'], ' ...', xrp['url']))"
   ]
  },
  {
   "cell_type": "code",
   "execution_count": 6,
   "id": "prompt-farmer",
   "metadata": {
    "execution": {
     "iopub.execute_input": "2022-10-17T03:58:15.681506Z",
     "iopub.status.busy": "2022-10-17T03:58:15.680801Z",
     "iopub.status.idle": "2022-10-17T03:58:15.688343Z",
     "shell.execute_reply": "2022-10-17T03:58:15.687453Z"
    },
    "papermill": {
     "duration": 0.027662,
     "end_time": "2022-10-17T03:58:15.688497",
     "exception": false,
     "start_time": "2022-10-17T03:58:15.660835",
     "status": "completed"
    },
    "tags": []
   },
   "outputs": [
    {
     "data": {
      "text/markdown": [
       "- Tron CEO Believes Crypto Will Return to China, Here’s Why.  Justin Sun believes China will ease up on regulations toward cryptocurrencies and let them back ... [| Skaityti daugiau](https://u.today/tron-ceo-believes-crypto-will-return-to-china-heres-why) "
      ],
      "text/plain": [
       "<IPython.core.display.Markdown object>"
      ]
     },
     "execution_count": 6,
     "metadata": {},
     "output_type": "execute_result"
    }
   ],
   "source": [
    "#hide_input\n",
    "#md('##### {}'.format(titleBTC)) \n",
    "md(\"- {}{} {}{} [| Skaityti daugiau]({}) \".format(trx['title'],'. ', trx['body'], ' ...', trx['url']))"
   ]
  },
  {
   "cell_type": "code",
   "execution_count": 7,
   "id": "illegal-greece",
   "metadata": {
    "execution": {
     "iopub.execute_input": "2022-10-17T03:58:15.723179Z",
     "iopub.status.busy": "2022-10-17T03:58:15.722443Z",
     "iopub.status.idle": "2022-10-17T03:58:15.729430Z",
     "shell.execute_reply": "2022-10-17T03:58:15.730151Z"
    },
    "papermill": {
     "duration": 0.028035,
     "end_time": "2022-10-17T03:58:15.730313",
     "exception": false,
     "start_time": "2022-10-17T03:58:15.702278",
     "status": "completed"
    },
    "tags": []
   },
   "outputs": [
    {
     "data": {
      "text/markdown": [
       "- How To Short Dogecoin (Get High ROI on DOGE).  Dogecoin surged by 12000% in 2021 – much higher than flagship cryptocurrencies Bitcoin and Ethereum. In 2022, the cryptocurrency has decreased by more than 50% of what it was before due to the current bearish trend in the crypto market. This meme cryptocurrency is also known to pump and dump. Would you like to know &#8230;  How To Short Dogecoin (Get High ROI on DOGE) Read More &#187; ... [| Skaityti daugiau](https://www.cryptopolitan.com/how-to-short-dogecoin/) "
      ],
      "text/plain": [
       "<IPython.core.display.Markdown object>"
      ]
     },
     "execution_count": 7,
     "metadata": {},
     "output_type": "execute_result"
    }
   ],
   "source": [
    "#hide_input\n",
    "#md('##### {}'.format(titleBTC)) \n",
    "md(\"- {}{} {}{} [| Skaityti daugiau]({}) \".format(eth['title'],'. ', eth['body'], ' ...', eth['url']))"
   ]
  },
  {
   "cell_type": "code",
   "execution_count": 8,
   "id": "sublime-lounge",
   "metadata": {
    "execution": {
     "iopub.execute_input": "2022-10-17T03:58:15.763190Z",
     "iopub.status.busy": "2022-10-17T03:58:15.762441Z",
     "iopub.status.idle": "2022-10-17T03:58:15.769576Z",
     "shell.execute_reply": "2022-10-17T03:58:15.768954Z"
    },
    "papermill": {
     "duration": 0.02623,
     "end_time": "2022-10-17T03:58:15.769723",
     "exception": false,
     "start_time": "2022-10-17T03:58:15.743493",
     "status": "completed"
    },
    "tags": []
   },
   "outputs": [
    {
     "data": {
      "text/markdown": [
       "- Bitcoin, Ethereum, Cardano, and Tron Daily Price Analyses – 16 October Roundup.  The global crypto market has seen a trend of gains as the influx of capital strengthened. The recent changes for Bitcoin, Ethereum, and others show a comeback. As the market needs gains, it will help strengthen the market if the current trend continues. The ongoing changes suggest that the investors will try to extract maximum &#8230;  Bitcoin, Ethereum, Cardano, and Tron Daily Price Analyses – 16 October Roundup Read More &#187; ... [| Skaityti daugiau](https://www.cryptopolitan.com/bitcoin-ethereum-cardano-and-tron-daily-price-analyses-16-october-roundup/) "
      ],
      "text/plain": [
       "<IPython.core.display.Markdown object>"
      ]
     },
     "execution_count": 8,
     "metadata": {},
     "output_type": "execute_result"
    }
   ],
   "source": [
    "#hide_input\n",
    "#md('##### {}'.format(titleBTC)) \n",
    "md(\"- {}{} {}{} [| Skaityti daugiau]({}) \".format(ada['title'],'. ', ada['body'], ' ...', ada['url']))"
   ]
  },
  {
   "cell_type": "code",
   "execution_count": 9,
   "id": "specified-ordering",
   "metadata": {
    "execution": {
     "iopub.execute_input": "2022-10-17T03:58:15.805287Z",
     "iopub.status.busy": "2022-10-17T03:58:15.804399Z",
     "iopub.status.idle": "2022-10-17T03:58:15.808867Z",
     "shell.execute_reply": "2022-10-17T03:58:15.809496Z"
    },
    "papermill": {
     "duration": 0.025584,
     "end_time": "2022-10-17T03:58:15.809716",
     "exception": false,
     "start_time": "2022-10-17T03:58:15.784132",
     "status": "completed"
    },
    "tags": []
   },
   "outputs": [
    {
     "data": {
      "text/markdown": [
       "- China Seeks To Reduce Dependence On Dollar, Proposes To Issue An Asian Yuan.  Amid the ongoing global CBDCs adoption, China proposes an Asian-wide digital currency to reduce the continent&#8217;s economic reliance on the US dollar. USD is unquestionably the most widely used international currency. The International Monetary Policy is also based on the US dollar. Many countries&#8217; economies rely on the USD for international trade and exchange, while [&#8230;] ... [| Skaityti daugiau](https://bitcoinist.com/china-seeks-to-reduce-dependence-on-dollar/) "
      ],
      "text/plain": [
       "<IPython.core.display.Markdown object>"
      ]
     },
     "execution_count": 9,
     "metadata": {},
     "output_type": "execute_result"
    }
   ],
   "source": [
    "#hide_input\n",
    "#md('##### {}'.format(titleBTC)) \n",
    "md(\"- {}{} {}{} [| Skaityti daugiau]({}) \".format(exchange['title'],'. ', exchange['body'], ' ...', exchange['url']))"
   ]
  },
  {
   "cell_type": "code",
   "execution_count": null,
   "id": "tender-livestock",
   "metadata": {
    "papermill": {
     "duration": 0.014282,
     "end_time": "2022-10-17T03:58:15.838730",
     "exception": false,
     "start_time": "2022-10-17T03:58:15.824448",
     "status": "completed"
    },
    "tags": []
   },
   "outputs": [],
   "source": []
  },
  {
   "cell_type": "code",
   "execution_count": null,
   "id": "appreciated-diamond",
   "metadata": {
    "papermill": {
     "duration": 0.015177,
     "end_time": "2022-10-17T03:58:15.868112",
     "exception": false,
     "start_time": "2022-10-17T03:58:15.852935",
     "status": "completed"
    },
    "tags": []
   },
   "outputs": [],
   "source": []
  },
  {
   "cell_type": "code",
   "execution_count": null,
   "id": "romance-sweden",
   "metadata": {
    "papermill": {
     "duration": 0.014071,
     "end_time": "2022-10-17T03:58:15.896507",
     "exception": false,
     "start_time": "2022-10-17T03:58:15.882436",
     "status": "completed"
    },
    "tags": []
   },
   "outputs": [],
   "source": []
  },
  {
   "cell_type": "code",
   "execution_count": null,
   "id": "dietary-statistics",
   "metadata": {
    "papermill": {
     "duration": 0.014225,
     "end_time": "2022-10-17T03:58:15.925115",
     "exception": false,
     "start_time": "2022-10-17T03:58:15.910890",
     "status": "completed"
    },
    "tags": []
   },
   "outputs": [],
   "source": []
  }
 ],
 "metadata": {
  "kernelspec": {
   "display_name": "Python 3",
   "language": "python",
   "name": "python3"
  },
  "language_info": {
   "codemirror_mode": {
    "name": "ipython",
    "version": 3
   },
   "file_extension": ".py",
   "mimetype": "text/x-python",
   "name": "python",
   "nbconvert_exporter": "python",
   "pygments_lexer": "ipython3",
   "version": "3.6.15"
  },
  "papermill": {
   "default_parameters": {},
   "duration": 19.858054,
   "end_time": "2022-10-17T03:58:16.561608",
   "environment_variables": {},
   "exception": null,
   "input_path": "Market-News.ipynb",
   "output_path": "Market-News.ipynb",
   "parameters": {},
   "start_time": "2022-10-17T03:57:56.703554",
   "version": "2.2.2"
  }
 },
 "nbformat": 4,
 "nbformat_minor": 5
}