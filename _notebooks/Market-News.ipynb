{
 "cells": [
  {
   "cell_type": "markdown",
   "id": "short-greensboro",
   "metadata": {
    "papermill": {
     "duration": 0.017987,
     "end_time": "2022-07-25T03:19:51.952527",
     "exception": false,
     "start_time": "2022-07-25T03:19:51.934540",
     "status": "completed"
    },
    "tags": []
   },
   "source": [
    "# Kriptovaliutų naujienos"
   ]
  },
  {
   "cell_type": "code",
   "execution_count": 1,
   "id": "functioning-knowing",
   "metadata": {
    "execution": {
     "iopub.execute_input": "2022-07-25T03:19:51.990380Z",
     "iopub.status.busy": "2022-07-25T03:19:51.989385Z",
     "iopub.status.idle": "2022-07-25T03:19:53.583523Z",
     "shell.execute_reply": "2022-07-25T03:19:53.582301Z"
    },
    "papermill": {
     "duration": 1.618507,
     "end_time": "2022-07-25T03:19:53.583723",
     "exception": false,
     "start_time": "2022-07-25T03:19:51.965216",
     "status": "completed"
    },
    "tags": []
   },
   "outputs": [],
   "source": [
    "#hide_input\n",
    "import warnings\n",
    "warnings.filterwarnings('ignore')\n",
    "from scripts.read_data import read_api\n",
    "from scripts.read_data import read_news\n",
    "from scripts.read_data import read_covid\n",
    "import matplotlib.pyplot as plt \n",
    "from IPython.display import Markdown as md"
   ]
  },
  {
   "cell_type": "code",
   "execution_count": 2,
   "id": "shared-acceptance",
   "metadata": {
    "execution": {
     "iopub.execute_input": "2022-07-25T03:19:53.615177Z",
     "iopub.status.busy": "2022-07-25T03:19:53.614288Z",
     "iopub.status.idle": "2022-07-25T03:20:10.506997Z",
     "shell.execute_reply": "2022-07-25T03:20:10.506333Z"
    },
    "papermill": {
     "duration": 16.911306,
     "end_time": "2022-07-25T03:20:10.507201",
     "exception": false,
     "start_time": "2022-07-25T03:19:53.595895",
     "status": "completed"
    },
    "tags": []
   },
   "outputs": [],
   "source": [
    "#hide_input\n",
    "blockchain = read_news('blockchain') \n",
    "btc = read_news('btc') \n",
    "xrp = read_news('xrp') \n",
    "trx = read_news('trx') \n",
    "eth = read_news('eth')  \n",
    "ada = read_news('ada')\n",
    "exchange = read_news('exchange') "
   ]
  },
  {
   "cell_type": "code",
   "execution_count": 3,
   "id": "synthetic-notion",
   "metadata": {
    "execution": {
     "iopub.execute_input": "2022-07-25T03:20:10.543371Z",
     "iopub.status.busy": "2022-07-25T03:20:10.539606Z",
     "iopub.status.idle": "2022-07-25T03:20:10.546823Z",
     "shell.execute_reply": "2022-07-25T03:20:10.546165Z"
    },
    "papermill": {
     "duration": 0.027838,
     "end_time": "2022-07-25T03:20:10.546965",
     "exception": false,
     "start_time": "2022-07-25T03:20:10.519127",
     "status": "completed"
    },
    "tags": []
   },
   "outputs": [
    {
     "data": {
      "text/markdown": [
       "- Central Bank Digital Currencies Worse Than Bank Accounts and Cash, Says Blocksteam CEO Adam Back – Here’s Why.  The chief executive officer of blockchain technology company Blockstream says people are better off using fiat currencies or stablecoins than holding central bank digital currencies (CBDCs). Adam Back warns his 487,800 Twitter followers that CBDCs allow the powers that be to seize and control a person&#8217;s wealth. &#8220;Bitcoin is apolitical, bearer, unseizable money, and that [&#8230;]The post Central Bank Digital Currencies Worse Than Bank Accounts and Cash, Says Blocksteam CEO Adam Back – Here’s Why appeared first on The Daily Hodl. ... [| Skaityti daugiau](https://dailyhodl.com/2022/07/24/central-bank-digital-currencies-worse-than-bank-accounts-and-cash-says-blocksteam-ceo-adam-back-heres-why/) "
      ],
      "text/plain": [
       "<IPython.core.display.Markdown object>"
      ]
     },
     "execution_count": 3,
     "metadata": {},
     "output_type": "execute_result"
    }
   ],
   "source": [
    "#hide_input\n",
    "#md('##### {}'.format(titleBTC)) \n",
    "md(\"- {}{} {}{} [| Skaityti daugiau]({}) \".format(blockchain['title'],'. ', blockchain['body'], ' ...', blockchain['url']))"
   ]
  },
  {
   "cell_type": "code",
   "execution_count": 4,
   "id": "aging-caution",
   "metadata": {
    "execution": {
     "iopub.execute_input": "2022-07-25T03:20:10.577978Z",
     "iopub.status.busy": "2022-07-25T03:20:10.577129Z",
     "iopub.status.idle": "2022-07-25T03:20:10.587115Z",
     "shell.execute_reply": "2022-07-25T03:20:10.588153Z"
    },
    "papermill": {
     "duration": 0.02916,
     "end_time": "2022-07-25T03:20:10.588318",
     "exception": false,
     "start_time": "2022-07-25T03:20:10.559158",
     "status": "completed"
    },
    "tags": []
   },
   "outputs": [
    {
     "data": {
      "text/markdown": [
       "- Bitcoin, Ethereum, ApeCoin, and VeChain Daily Price Analyses – 24 July Roundup.  The performance of the global crypto market has again begun to show signs of lag. As evident from the metrics of Bitcoin, Ethereum, and other altcoins, there is a clear tendency for losses. The market had been able to recover from the previous bearishness on the last day. It exhibited positive metrics, and the analysts &#8230;  Bitcoin, Ethereum, ApeCoin, and VeChain Daily Price Analyses – 24 July Roundup Read More &#187; ... [| Skaityti daugiau](https://www.cryptopolitan.com/bitcoin-ethereum-apecoin-and-vechain-daily-price-analyses-24-july-roundup/) "
      ],
      "text/plain": [
       "<IPython.core.display.Markdown object>"
      ]
     },
     "execution_count": 4,
     "metadata": {},
     "output_type": "execute_result"
    }
   ],
   "source": [
    "#hide_input\n",
    "#md('##### {}'.format(titleBTC)) \n",
    "md(\"- {}{} {}{} [| Skaityti daugiau]({}) \".format(btc['title'],'. ', btc['body'], ' ...', btc['url']))"
   ]
  },
  {
   "cell_type": "code",
   "execution_count": 5,
   "id": "organic-actress",
   "metadata": {
    "execution": {
     "iopub.execute_input": "2022-07-25T03:20:10.623508Z",
     "iopub.status.busy": "2022-07-25T03:20:10.621281Z",
     "iopub.status.idle": "2022-07-25T03:20:10.626495Z",
     "shell.execute_reply": "2022-07-25T03:20:10.625594Z"
    },
    "papermill": {
     "duration": 0.025833,
     "end_time": "2022-07-25T03:20:10.626641",
     "exception": false,
     "start_time": "2022-07-25T03:20:10.600808",
     "status": "completed"
    },
    "tags": []
   },
   "outputs": [
    {
     "data": {
      "text/markdown": [
       "- Will XRP holders witness another crash post recent spike.  Ripple has been dealing with the ongoing SEC lawsuit for quite some time now. Buying pressure has been on the rise, but the price of XRP hasn&#8217;t been following an uptrend. Thus, making it difficult for investors to continue HODLing. XRP and its ripples After the June crash, many cryptocurrencies have rallied and recovered their [&#8230;] ... [| Skaityti daugiau](https://ambcrypto.com/assessing-if-xrp-holders-will-witness-another-crash-post-recent-spike/) "
      ],
      "text/plain": [
       "<IPython.core.display.Markdown object>"
      ]
     },
     "execution_count": 5,
     "metadata": {},
     "output_type": "execute_result"
    }
   ],
   "source": [
    "#hide_input\n",
    "#md('##### {}'.format(titleBTC)) \n",
    "md(\"- {}{} {}{} [| Skaityti daugiau]({}) \".format(xrp['title'],'. ', xrp['body'], ' ...', xrp['url']))"
   ]
  },
  {
   "cell_type": "code",
   "execution_count": 6,
   "id": "prompt-farmer",
   "metadata": {
    "execution": {
     "iopub.execute_input": "2022-07-25T03:20:10.663035Z",
     "iopub.status.busy": "2022-07-25T03:20:10.661065Z",
     "iopub.status.idle": "2022-07-25T03:20:10.665965Z",
     "shell.execute_reply": "2022-07-25T03:20:10.665304Z"
    },
    "papermill": {
     "duration": 0.025783,
     "end_time": "2022-07-25T03:20:10.666106",
     "exception": false,
     "start_time": "2022-07-25T03:20:10.640323",
     "status": "completed"
    },
    "tags": []
   },
   "outputs": [
    {
     "data": {
      "text/markdown": [
       "- Tron: Know this about TRX’s performance before cutting losses.  In its weekly update on 23 July, the Tron network informed its users of the important ecosystem developments on the network between 16 July and 22 July. Tron, in its update, stated that according to data from Coin98 Analytics, with 3.5 billion total transactions processed since the launch of the Tron network, it was ranked [&#8230;] ... [| Skaityti daugiau](https://ambcrypto.com/tron-know-this-about-trxs-performance-before-cutting-losses/) "
      ],
      "text/plain": [
       "<IPython.core.display.Markdown object>"
      ]
     },
     "execution_count": 6,
     "metadata": {},
     "output_type": "execute_result"
    }
   ],
   "source": [
    "#hide_input\n",
    "#md('##### {}'.format(titleBTC)) \n",
    "md(\"- {}{} {}{} [| Skaityti daugiau]({}) \".format(trx['title'],'. ', trx['body'], ' ...', trx['url']))"
   ]
  },
  {
   "cell_type": "code",
   "execution_count": 7,
   "id": "illegal-greece",
   "metadata": {
    "execution": {
     "iopub.execute_input": "2022-07-25T03:20:10.707373Z",
     "iopub.status.busy": "2022-07-25T03:20:10.706518Z",
     "iopub.status.idle": "2022-07-25T03:20:10.718922Z",
     "shell.execute_reply": "2022-07-25T03:20:10.718260Z"
    },
    "papermill": {
     "duration": 0.038897,
     "end_time": "2022-07-25T03:20:10.719055",
     "exception": false,
     "start_time": "2022-07-25T03:20:10.680158",
     "status": "completed"
    },
    "tags": []
   },
   "outputs": [
    {
     "data": {
      "text/markdown": [
       "- Bitcoin, Ethereum, ApeCoin, and VeChain Daily Price Analyses – 24 July Roundup.  The performance of the global crypto market has again begun to show signs of lag. As evident from the metrics of Bitcoin, Ethereum, and other altcoins, there is a clear tendency for losses. The market had been able to recover from the previous bearishness on the last day. It exhibited positive metrics, and the analysts &#8230;  Bitcoin, Ethereum, ApeCoin, and VeChain Daily Price Analyses – 24 July Roundup Read More &#187; ... [| Skaityti daugiau](https://www.cryptopolitan.com/bitcoin-ethereum-apecoin-and-vechain-daily-price-analyses-24-july-roundup/) "
      ],
      "text/plain": [
       "<IPython.core.display.Markdown object>"
      ]
     },
     "execution_count": 7,
     "metadata": {},
     "output_type": "execute_result"
    }
   ],
   "source": [
    "#hide_input\n",
    "#md('##### {}'.format(titleBTC)) \n",
    "md(\"- {}{} {}{} [| Skaityti daugiau]({}) \".format(eth['title'],'. ', eth['body'], ' ...', eth['url']))"
   ]
  },
  {
   "cell_type": "code",
   "execution_count": 8,
   "id": "sublime-lounge",
   "metadata": {
    "execution": {
     "iopub.execute_input": "2022-07-25T03:20:10.753144Z",
     "iopub.status.busy": "2022-07-25T03:20:10.752319Z",
     "iopub.status.idle": "2022-07-25T03:20:10.756691Z",
     "shell.execute_reply": "2022-07-25T03:20:10.757285Z"
    },
    "papermill": {
     "duration": 0.024453,
     "end_time": "2022-07-25T03:20:10.757436",
     "exception": false,
     "start_time": "2022-07-25T03:20:10.732983",
     "status": "completed"
    },
    "tags": []
   },
   "outputs": [
    {
     "data": {
      "text/markdown": [
       "- Cardano (ADA) Spikes 8%, Surpassing XRP.  Cardano's native token has rallied on excitement surrounding the Vasil hard fork  ... [| Skaityti daugiau](https://u.today/cardano-ada-spikes-8-surpassing-xrp) "
      ],
      "text/plain": [
       "<IPython.core.display.Markdown object>"
      ]
     },
     "execution_count": 8,
     "metadata": {},
     "output_type": "execute_result"
    }
   ],
   "source": [
    "#hide_input\n",
    "#md('##### {}'.format(titleBTC)) \n",
    "md(\"- {}{} {}{} [| Skaityti daugiau]({}) \".format(ada['title'],'. ', ada['body'], ' ...', ada['url']))"
   ]
  },
  {
   "cell_type": "code",
   "execution_count": 9,
   "id": "specified-ordering",
   "metadata": {
    "execution": {
     "iopub.execute_input": "2022-07-25T03:20:10.790648Z",
     "iopub.status.busy": "2022-07-25T03:20:10.789857Z",
     "iopub.status.idle": "2022-07-25T03:20:10.795877Z",
     "shell.execute_reply": "2022-07-25T03:20:10.795265Z"
    },
    "papermill": {
     "duration": 0.024729,
     "end_time": "2022-07-25T03:20:10.796058",
     "exception": false,
     "start_time": "2022-07-25T03:20:10.771329",
     "status": "completed"
    },
    "tags": []
   },
   "outputs": [
    {
     "data": {
      "text/markdown": [
       "- SEC Criticized for How It Regulates Crypto — Chair Gensler Says Most Crypto Tokens ‘Have Attributes of Securities’.  The U.S. Securities and Exchange Commission (SEC) has been heavily criticized for its approach to regulating the crypto sector. The criticism followed the securities regulator&#x2019;s action against a former Coinbase employee in an insider trading case, in which the SEC named nine crypto tokens listed on Coinbase as securities. SEC Slammed for Regulation by Enforcement [&#8230;] ... [| Skaityti daugiau](https://news.bitcoin.com/sec-criticized-for-how-it-regulates-crypto-chair-gensler-says-most-crypto-tokens-have-attributes-of-securities/) "
      ],
      "text/plain": [
       "<IPython.core.display.Markdown object>"
      ]
     },
     "execution_count": 9,
     "metadata": {},
     "output_type": "execute_result"
    }
   ],
   "source": [
    "#hide_input\n",
    "#md('##### {}'.format(titleBTC)) \n",
    "md(\"- {}{} {}{} [| Skaityti daugiau]({}) \".format(exchange['title'],'. ', exchange['body'], ' ...', exchange['url']))"
   ]
  },
  {
   "cell_type": "code",
   "execution_count": null,
   "id": "tender-livestock",
   "metadata": {
    "papermill": {
     "duration": 0.013716,
     "end_time": "2022-07-25T03:20:10.823712",
     "exception": false,
     "start_time": "2022-07-25T03:20:10.809996",
     "status": "completed"
    },
    "tags": []
   },
   "outputs": [],
   "source": []
  },
  {
   "cell_type": "code",
   "execution_count": null,
   "id": "appreciated-diamond",
   "metadata": {
    "papermill": {
     "duration": 0.014322,
     "end_time": "2022-07-25T03:20:10.852314",
     "exception": false,
     "start_time": "2022-07-25T03:20:10.837992",
     "status": "completed"
    },
    "tags": []
   },
   "outputs": [],
   "source": []
  },
  {
   "cell_type": "code",
   "execution_count": null,
   "id": "romance-sweden",
   "metadata": {
    "papermill": {
     "duration": 0.017513,
     "end_time": "2022-07-25T03:20:10.884406",
     "exception": false,
     "start_time": "2022-07-25T03:20:10.866893",
     "status": "completed"
    },
    "tags": []
   },
   "outputs": [],
   "source": []
  },
  {
   "cell_type": "code",
   "execution_count": null,
   "id": "dietary-statistics",
   "metadata": {
    "papermill": {
     "duration": 0.014536,
     "end_time": "2022-07-25T03:20:10.913934",
     "exception": false,
     "start_time": "2022-07-25T03:20:10.899398",
     "status": "completed"
    },
    "tags": []
   },
   "outputs": [],
   "source": []
  }
 ],
 "metadata": {
  "kernelspec": {
   "display_name": "Python 3",
   "language": "python",
   "name": "python3"
  },
  "language_info": {
   "codemirror_mode": {
    "name": "ipython",
    "version": 3
   },
   "file_extension": ".py",
   "mimetype": "text/x-python",
   "name": "python",
   "nbconvert_exporter": "python",
   "pygments_lexer": "ipython3",
   "version": "3.6.15"
  },
  "papermill": {
   "default_parameters": {},
   "duration": 20.707136,
   "end_time": "2022-07-25T03:20:11.449749",
   "environment_variables": {},
   "exception": null,
   "input_path": "Market-News.ipynb",
   "output_path": "Market-News.ipynb",
   "parameters": {},
   "start_time": "2022-07-25T03:19:50.742613",
   "version": "2.2.2"
  }
 },
 "nbformat": 4,
 "nbformat_minor": 5
}