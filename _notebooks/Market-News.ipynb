{
 "cells": [
  {
   "cell_type": "markdown",
   "id": "short-greensboro",
   "metadata": {
    "papermill": {
     "duration": 0.016939,
     "end_time": "2021-12-30T02:04:40.896895",
     "exception": false,
     "start_time": "2021-12-30T02:04:40.879956",
     "status": "completed"
    },
    "tags": []
   },
   "source": [
    "# Kriptovaliutų naujienos"
   ]
  },
  {
   "cell_type": "code",
   "execution_count": 1,
   "id": "functioning-knowing",
   "metadata": {
    "execution": {
     "iopub.execute_input": "2021-12-30T02:04:40.931733Z",
     "iopub.status.busy": "2021-12-30T02:04:40.931056Z",
     "iopub.status.idle": "2021-12-30T02:04:42.500577Z",
     "shell.execute_reply": "2021-12-30T02:04:42.500016Z"
    },
    "papermill": {
     "duration": 1.592725,
     "end_time": "2021-12-30T02:04:42.500742",
     "exception": false,
     "start_time": "2021-12-30T02:04:40.908017",
     "status": "completed"
    },
    "tags": []
   },
   "outputs": [],
   "source": [
    "#hide_input\n",
    "import warnings\n",
    "warnings.filterwarnings('ignore')\n",
    "from scripts.read_data import read_api\n",
    "from scripts.read_data import read_news\n",
    "from scripts.read_data import read_covid\n",
    "import matplotlib.pyplot as plt \n",
    "from IPython.display import Markdown as md"
   ]
  },
  {
   "cell_type": "code",
   "execution_count": 2,
   "id": "shared-acceptance",
   "metadata": {
    "execution": {
     "iopub.execute_input": "2021-12-30T02:04:42.531149Z",
     "iopub.status.busy": "2021-12-30T02:04:42.530441Z",
     "iopub.status.idle": "2021-12-30T02:04:54.414124Z",
     "shell.execute_reply": "2021-12-30T02:04:54.413484Z"
    },
    "papermill": {
     "duration": 11.903068,
     "end_time": "2021-12-30T02:04:54.414287",
     "exception": false,
     "start_time": "2021-12-30T02:04:42.511219",
     "status": "completed"
    },
    "tags": []
   },
   "outputs": [],
   "source": [
    "#hide_input\n",
    "blockchain = read_news('blockchain') \n",
    "btc = read_news('btc') \n",
    "xrp = read_news('xrp') \n",
    "trx = read_news('trx') \n",
    "eth = read_news('eth')  \n",
    "ada = read_news('ada')\n",
    "exchange = read_news('exchange') "
   ]
  },
  {
   "cell_type": "code",
   "execution_count": 3,
   "id": "synthetic-notion",
   "metadata": {
    "execution": {
     "iopub.execute_input": "2021-12-30T02:04:54.445053Z",
     "iopub.status.busy": "2021-12-30T02:04:54.444413Z",
     "iopub.status.idle": "2021-12-30T02:04:54.449720Z",
     "shell.execute_reply": "2021-12-30T02:04:54.448983Z"
    },
    "papermill": {
     "duration": 0.023004,
     "end_time": "2021-12-30T02:04:54.449853",
     "exception": false,
     "start_time": "2021-12-30T02:04:54.426849",
     "status": "completed"
    },
    "tags": []
   },
   "outputs": [
    {
     "data": {
      "text/markdown": [
       "- In An Ocean Of Altcoins, Will Avalanche Be The Only To HODL For Q1 Of 2022?.  The post In An Ocean Of Altcoins, Will Avalanche Be The Only To HODL For Q1 Of 2022? appeared first on Coinpedia - Fintech &amp; Cryptocurreny News Media| Crypto GuideThe receding year has been magnanimous for a myriad of digital assets and sectors. The ever-growing list includes Avalanche, which has been engraving a lasting impression in the space. The protocol has been garnering the attention of savvies in the crypto fraternity, with its startling network activity. Successively, Avalanche has been roaring with its sprawling &#8230; ... [| Skaityti daugiau](https://coinpedia.org/altcoin/in-an-ocean-of-altcoins-will-avalanche-be-the-only-to-hodl-for-q1-of-2022/) "
      ],
      "text/plain": [
       "<IPython.core.display.Markdown object>"
      ]
     },
     "execution_count": 3,
     "metadata": {},
     "output_type": "execute_result"
    }
   ],
   "source": [
    "#hide_input\n",
    "#md('##### {}'.format(titleBTC)) \n",
    "md(\"- {}{} {}{} [| Skaityti daugiau]({}) \".format(blockchain['title'],'. ', blockchain['body'], ' ...', blockchain['url']))"
   ]
  },
  {
   "cell_type": "code",
   "execution_count": 4,
   "id": "aging-caution",
   "metadata": {
    "execution": {
     "iopub.execute_input": "2021-12-30T02:04:54.476066Z",
     "iopub.status.busy": "2021-12-30T02:04:54.475455Z",
     "iopub.status.idle": "2021-12-30T02:04:54.478563Z",
     "shell.execute_reply": "2021-12-30T02:04:54.478070Z"
    },
    "papermill": {
     "duration": 0.018382,
     "end_time": "2021-12-30T02:04:54.478682",
     "exception": false,
     "start_time": "2021-12-30T02:04:54.460300",
     "status": "completed"
    },
    "tags": []
   },
   "outputs": [
    {
     "data": {
      "text/markdown": [
       "- Covering Bitcoin's Spot And Derivatives Market Dynamics.  What do the futures perpetual funding rate and long-term holder position change tell us about the bitcoin price? ... [| Skaityti daugiau](https://bitcoinmagazine.com/markets/covering-bitcoins-spot-and-derivatives-market-dynamics) "
      ],
      "text/plain": [
       "<IPython.core.display.Markdown object>"
      ]
     },
     "execution_count": 4,
     "metadata": {},
     "output_type": "execute_result"
    }
   ],
   "source": [
    "#hide_input\n",
    "#md('##### {}'.format(titleBTC)) \n",
    "md(\"- {}{} {}{} [| Skaityti daugiau]({}) \".format(btc['title'],'. ', btc['body'], ' ...', btc['url']))"
   ]
  },
  {
   "cell_type": "code",
   "execution_count": 5,
   "id": "organic-actress",
   "metadata": {
    "execution": {
     "iopub.execute_input": "2021-12-30T02:04:54.505795Z",
     "iopub.status.busy": "2021-12-30T02:04:54.504711Z",
     "iopub.status.idle": "2021-12-30T02:04:54.509033Z",
     "shell.execute_reply": "2021-12-30T02:04:54.508557Z"
    },
    "papermill": {
     "duration": 0.01982,
     "end_time": "2021-12-30T02:04:54.509152",
     "exception": false,
     "start_time": "2021-12-30T02:04:54.489332",
     "status": "completed"
    },
    "tags": []
   },
   "outputs": [
    {
     "data": {
      "text/markdown": [
       "- Ripple CEO Says 2021 Was His Firm’s Strongest Year Despite SEC Lawsuit.  Ripple CEO Brad Garlinghouse say 2021 was the FinTech firm’s strongest year ever despite the company’s ongoing legal battle with the U.S. Securities and Exchange Commission (SEC). In a series of tweets sent out on December 22, Garlinghouse called 2021 a “watershed year for crypto,” noting that acceptance and awareness for digital assets is providing […] ... [| Skaityti daugiau](https://www.cryptoglobe.com/latest/2021/12/ripple-ceo-says-2021-was-his-firms-strongest-year-despite-sec-lawsuit/) "
      ],
      "text/plain": [
       "<IPython.core.display.Markdown object>"
      ]
     },
     "execution_count": 5,
     "metadata": {},
     "output_type": "execute_result"
    }
   ],
   "source": [
    "#hide_input\n",
    "#md('##### {}'.format(titleBTC)) \n",
    "md(\"- {}{} {}{} [| Skaityti daugiau]({}) \".format(xrp['title'],'. ', xrp['body'], ' ...', xrp['url']))"
   ]
  },
  {
   "cell_type": "code",
   "execution_count": 6,
   "id": "prompt-farmer",
   "metadata": {
    "execution": {
     "iopub.execute_input": "2021-12-30T02:04:54.537778Z",
     "iopub.status.busy": "2021-12-30T02:04:54.537192Z",
     "iopub.status.idle": "2021-12-30T02:04:54.540700Z",
     "shell.execute_reply": "2021-12-30T02:04:54.540204Z"
    },
    "papermill": {
     "duration": 0.020518,
     "end_time": "2021-12-30T02:04:54.540881",
     "exception": false,
     "start_time": "2021-12-30T02:04:54.520363",
     "status": "completed"
    },
    "tags": []
   },
   "outputs": [
    {
     "data": {
      "text/markdown": [
       "- Binance Coin, Tron, EOS Price Analysis: 29 December.  The fear sentiment heightened as Bitcoin re-enters the $47,000 zone. As a result, altcoins like Binance Coin, Tron and EOS saw a blip in their recovery. The aforestated cryptos fell below their 20-50-200 SMA, as the bears evidently displayed their edge. Binance Coin (BNB) Over the past few days, BNB formed a symmetrical broadening wedge [&#8230;] ... [| Skaityti daugiau](https://ambcrypto.com/binance-coin-tron-eos-price-analysis-29-december/) "
      ],
      "text/plain": [
       "<IPython.core.display.Markdown object>"
      ]
     },
     "execution_count": 6,
     "metadata": {},
     "output_type": "execute_result"
    }
   ],
   "source": [
    "#hide_input\n",
    "#md('##### {}'.format(titleBTC)) \n",
    "md(\"- {}{} {}{} [| Skaityti daugiau]({}) \".format(trx['title'],'. ', trx['body'], ' ...', trx['url']))"
   ]
  },
  {
   "cell_type": "code",
   "execution_count": 7,
   "id": "illegal-greece",
   "metadata": {
    "execution": {
     "iopub.execute_input": "2021-12-30T02:04:54.569098Z",
     "iopub.status.busy": "2021-12-30T02:04:54.568187Z",
     "iopub.status.idle": "2021-12-30T02:04:54.572652Z",
     "shell.execute_reply": "2021-12-30T02:04:54.572144Z"
    },
    "papermill": {
     "duration": 0.020007,
     "end_time": "2021-12-30T02:04:54.572783",
     "exception": false,
     "start_time": "2021-12-30T02:04:54.552776",
     "status": "completed"
    },
    "tags": []
   },
   "outputs": [
    {
     "data": {
      "text/markdown": [
       "- Polygon upgrade quietly fixes bug that put $24B of MATIC at risk.  “Considering how much was at stake, I believe our team has made the best decisions possible given the circumstances,” said Polygon’s co-founder Jaynti Kanani.  ... [| Skaityti daugiau](https://cointelegraph.com/news/polygon-upgrade-quietly-fixes-bug-that-put-24b-of-matic-at-risk) "
      ],
      "text/plain": [
       "<IPython.core.display.Markdown object>"
      ]
     },
     "execution_count": 7,
     "metadata": {},
     "output_type": "execute_result"
    }
   ],
   "source": [
    "#hide_input\n",
    "#md('##### {}'.format(titleBTC)) \n",
    "md(\"- {}{} {}{} [| Skaityti daugiau]({}) \".format(eth['title'],'. ', eth['body'], ' ...', eth['url']))"
   ]
  },
  {
   "cell_type": "code",
   "execution_count": 8,
   "id": "sublime-lounge",
   "metadata": {
    "execution": {
     "iopub.execute_input": "2021-12-30T02:04:54.605847Z",
     "iopub.status.busy": "2021-12-30T02:04:54.605137Z",
     "iopub.status.idle": "2021-12-30T02:04:54.608575Z",
     "shell.execute_reply": "2021-12-30T02:04:54.609007Z"
    },
    "papermill": {
     "duration": 0.022489,
     "end_time": "2021-12-30T02:04:54.609140",
     "exception": false,
     "start_time": "2021-12-30T02:04:54.586651",
     "status": "completed"
    },
    "tags": []
   },
   "outputs": [
    {
     "data": {
      "text/markdown": [
       "- Cardano: Crypto Analyst Says $ADA Investors and Traders Should Be Careful.  A popular crypto analyst and market strategist has issued a warning to followers about Cardano’s native token, saying that it is flashing signs indicating a fundamental weakness. Speaking in a recent YouTube video, the host of InvestAnswers told viewers that Cardano’s chart is giving off red flags. The popular analyst said that the comparison of […] ... [| Skaityti daugiau](https://www.cryptoglobe.com/latest/2021/12/cardano-crypto-analyst-says-ada-investors-and-traders-should-be-careful/) "
      ],
      "text/plain": [
       "<IPython.core.display.Markdown object>"
      ]
     },
     "execution_count": 8,
     "metadata": {},
     "output_type": "execute_result"
    }
   ],
   "source": [
    "#hide_input\n",
    "#md('##### {}'.format(titleBTC)) \n",
    "md(\"- {}{} {}{} [| Skaityti daugiau]({}) \".format(ada['title'],'. ', ada['body'], ' ...', ada['url']))"
   ]
  },
  {
   "cell_type": "code",
   "execution_count": 9,
   "id": "specified-ordering",
   "metadata": {
    "execution": {
     "iopub.execute_input": "2021-12-30T02:04:54.638875Z",
     "iopub.status.busy": "2021-12-30T02:04:54.638297Z",
     "iopub.status.idle": "2021-12-30T02:04:54.641223Z",
     "shell.execute_reply": "2021-12-30T02:04:54.641769Z"
    },
    "papermill": {
     "duration": 0.020531,
     "end_time": "2021-12-30T02:04:54.641904",
     "exception": false,
     "start_time": "2021-12-30T02:04:54.621373",
     "status": "completed"
    },
    "tags": []
   },
   "outputs": [
    {
     "data": {
      "text/markdown": [
       "- Coinone Exchange Steps Up Verification Requirements For Withdrawals, Issues Users An Ultimatum.  Beginning from January 2022, Korean-based crypto exchange Coinone has announced it would no longer permit withdrawals of tokens to unverified external wallets. Coinone Issues Ultimatum For Customers To Fall In Line With New Requirements According to the Wednesday announcement, Coinone says users must register their external wallets with the exchange from December 30 to January The post Coinone Exchange Steps Up Verification Requirements For Withdrawals, Issues Users An Ultimatum appeared first on CoinGape. ... [| Skaityti daugiau](https://coingape.com/coinone-steps-up-verification-requirements-for-withdrawals-gives-ultimatum-to-users-to-fall-in-line/) "
      ],
      "text/plain": [
       "<IPython.core.display.Markdown object>"
      ]
     },
     "execution_count": 9,
     "metadata": {},
     "output_type": "execute_result"
    }
   ],
   "source": [
    "#hide_input\n",
    "#md('##### {}'.format(titleBTC)) \n",
    "md(\"- {}{} {}{} [| Skaityti daugiau]({}) \".format(exchange['title'],'. ', exchange['body'], ' ...', exchange['url']))"
   ]
  },
  {
   "cell_type": "code",
   "execution_count": null,
   "id": "tender-livestock",
   "metadata": {
    "papermill": {
     "duration": 0.012723,
     "end_time": "2021-12-30T02:04:54.667775",
     "exception": false,
     "start_time": "2021-12-30T02:04:54.655052",
     "status": "completed"
    },
    "tags": []
   },
   "outputs": [],
   "source": []
  },
  {
   "cell_type": "code",
   "execution_count": null,
   "id": "appreciated-diamond",
   "metadata": {
    "papermill": {
     "duration": 0.012334,
     "end_time": "2021-12-30T02:04:54.692709",
     "exception": false,
     "start_time": "2021-12-30T02:04:54.680375",
     "status": "completed"
    },
    "tags": []
   },
   "outputs": [],
   "source": []
  },
  {
   "cell_type": "code",
   "execution_count": null,
   "id": "romance-sweden",
   "metadata": {
    "papermill": {
     "duration": 0.012421,
     "end_time": "2021-12-30T02:04:54.719993",
     "exception": false,
     "start_time": "2021-12-30T02:04:54.707572",
     "status": "completed"
    },
    "tags": []
   },
   "outputs": [],
   "source": []
  },
  {
   "cell_type": "code",
   "execution_count": null,
   "id": "dietary-statistics",
   "metadata": {
    "papermill": {
     "duration": 0.013778,
     "end_time": "2021-12-30T02:04:54.746330",
     "exception": false,
     "start_time": "2021-12-30T02:04:54.732552",
     "status": "completed"
    },
    "tags": []
   },
   "outputs": [],
   "source": []
  }
 ],
 "metadata": {
  "kernelspec": {
   "display_name": "Python 3",
   "language": "python",
   "name": "python3"
  },
  "language_info": {
   "codemirror_mode": {
    "name": "ipython",
    "version": 3
   },
   "file_extension": ".py",
   "mimetype": "text/x-python",
   "name": "python",
   "nbconvert_exporter": "python",
   "pygments_lexer": "ipython3",
   "version": "3.6.15"
  },
  "papermill": {
   "default_parameters": {},
   "duration": 15.69667,
   "end_time": "2021-12-30T02:04:55.271430",
   "environment_variables": {},
   "exception": null,
   "input_path": "Market-News.ipynb",
   "output_path": "Market-News.ipynb",
   "parameters": {},
   "start_time": "2021-12-30T02:04:39.574760",
   "version": "2.2.2"
  }
 },
 "nbformat": 4,
 "nbformat_minor": 5
}