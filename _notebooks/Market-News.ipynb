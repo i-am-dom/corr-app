{
 "cells": [
  {
   "cell_type": "markdown",
   "id": "short-greensboro",
   "metadata": {
    "papermill": {
     "duration": 0.01379,
     "end_time": "2022-06-15T03:11:07.040411",
     "exception": false,
     "start_time": "2022-06-15T03:11:07.026621",
     "status": "completed"
    },
    "tags": []
   },
   "source": [
    "# Kriptovaliutų naujienos"
   ]
  },
  {
   "cell_type": "code",
   "execution_count": 1,
   "id": "functioning-knowing",
   "metadata": {
    "execution": {
     "iopub.execute_input": "2022-06-15T03:11:07.081596Z",
     "iopub.status.busy": "2022-06-15T03:11:07.080857Z",
     "iopub.status.idle": "2022-06-15T03:11:08.545599Z",
     "shell.execute_reply": "2022-06-15T03:11:08.546137Z"
    },
    "papermill": {
     "duration": 1.489304,
     "end_time": "2022-06-15T03:11:08.546316",
     "exception": false,
     "start_time": "2022-06-15T03:11:07.057012",
     "status": "completed"
    },
    "tags": []
   },
   "outputs": [],
   "source": [
    "#hide_input\n",
    "import warnings\n",
    "warnings.filterwarnings('ignore')\n",
    "from scripts.read_data import read_api\n",
    "from scripts.read_data import read_news\n",
    "from scripts.read_data import read_covid\n",
    "import matplotlib.pyplot as plt \n",
    "from IPython.display import Markdown as md"
   ]
  },
  {
   "cell_type": "code",
   "execution_count": 2,
   "id": "shared-acceptance",
   "metadata": {
    "execution": {
     "iopub.execute_input": "2022-06-15T03:11:08.575210Z",
     "iopub.status.busy": "2022-06-15T03:11:08.574504Z",
     "iopub.status.idle": "2022-06-15T03:11:17.488316Z",
     "shell.execute_reply": "2022-06-15T03:11:17.487773Z"
    },
    "papermill": {
     "duration": 8.931342,
     "end_time": "2022-06-15T03:11:17.488463",
     "exception": false,
     "start_time": "2022-06-15T03:11:08.557121",
     "status": "completed"
    },
    "tags": []
   },
   "outputs": [],
   "source": [
    "#hide_input\n",
    "blockchain = read_news('blockchain') \n",
    "btc = read_news('btc') \n",
    "xrp = read_news('xrp') \n",
    "trx = read_news('trx') \n",
    "eth = read_news('eth')  \n",
    "ada = read_news('ada')\n",
    "exchange = read_news('exchange') "
   ]
  },
  {
   "cell_type": "code",
   "execution_count": 3,
   "id": "synthetic-notion",
   "metadata": {
    "execution": {
     "iopub.execute_input": "2022-06-15T03:11:17.520789Z",
     "iopub.status.busy": "2022-06-15T03:11:17.520163Z",
     "iopub.status.idle": "2022-06-15T03:11:17.523787Z",
     "shell.execute_reply": "2022-06-15T03:11:17.523339Z"
    },
    "papermill": {
     "duration": 0.023308,
     "end_time": "2022-06-15T03:11:17.523891",
     "exception": false,
     "start_time": "2022-06-15T03:11:17.500583",
     "status": "completed"
    },
    "tags": []
   },
   "outputs": [
    {
     "data": {
      "text/markdown": [
       "- The World Crypto Economic Forum by Celsius Gathered Together Crypto Industry Leaders.  The World Crypto Economic Forum by Celsius (WCEF) took place online on June 2 and 3rd and brought together entrepreneurs, venture capital investors, and blockchain industry leaders. The forum has become a continuation of the tradition established 3 years ago for experts to gather together and discuss the main news and prospects for the development [&#8230;]The post The World Crypto Economic Forum by Celsius Gathered Together Crypto Industry Leaders appeared first on NullTX. ... [| Skaityti daugiau](https://nulltx.com/the-world-crypto-economic-forum-by-celsius-gathered-together-crypto-industry-leaders/) "
      ],
      "text/plain": [
       "<IPython.core.display.Markdown object>"
      ]
     },
     "execution_count": 3,
     "metadata": {},
     "output_type": "execute_result"
    }
   ],
   "source": [
    "#hide_input\n",
    "#md('##### {}'.format(titleBTC)) \n",
    "md(\"- {}{} {}{} [| Skaityti daugiau]({}) \".format(blockchain['title'],'. ', blockchain['body'], ' ...', blockchain['url']))"
   ]
  },
  {
   "cell_type": "code",
   "execution_count": 4,
   "id": "aging-caution",
   "metadata": {
    "execution": {
     "iopub.execute_input": "2022-06-15T03:11:17.552296Z",
     "iopub.status.busy": "2022-06-15T03:11:17.551588Z",
     "iopub.status.idle": "2022-06-15T03:11:17.555488Z",
     "shell.execute_reply": "2022-06-15T03:11:17.554984Z"
    },
    "papermill": {
     "duration": 0.019764,
     "end_time": "2022-06-15T03:11:17.555609",
     "exception": false,
     "start_time": "2022-06-15T03:11:17.535845",
     "status": "completed"
    },
    "tags": []
   },
   "outputs": [
    {
     "data": {
      "text/markdown": [
       "- TA: Bitcoin Shows Signs of Recovery, $23K Presents Resistance.  Bitcoin formed a base near the $21,000 level against the US Dollar. BTC is attempting a recovery wave, but the bears might protect gains above $23,000. Bitcoin traded as low as $20,824 before the bulls took a stand. The price is now trading below the $24,000 level and the 100 hourly simple moving average. There is a key bearish trend line forming with resistance near $22,050 on the hourly chart of the BTC/USD pair (data feed from Kraken). The pair must clear the $23,000 resistance zone to start a decent recovery wave. Bitcoin Price Remains In Downtrend Bitcoin price remained in a bearish zone below the $25,000 support zone. The price spiked below the $21,000 level and settled well below the $23,000 level. A low was formed near $20,824 and the price is now attempting an upside correction. There was a move above the $22,000 resistance level. However, the price is still well below the $24,000 level and the 100 hourly simple moving average. An immediate resistance on the upside is near the $21,100 level. There is also a key bearish trend line forming with resistance near $22,050 on the hourly chart of the BTC/USD pair. The first major resistance is near the $22,600 level. It is near the 23.6% Fib retracement level of the downward move from $28,300 swing high to $20,825 low. If there is a clear move above the trend line, the pair could rise towards the $23,000 resistance. Source: BTCUSD on TradingView.com The main resistance is nea... ... [| Skaityti daugiau](https://www.newsbtc.com/analysis/btc/bitcoin-signs-of-recovery-23k/) "
      ],
      "text/plain": [
       "<IPython.core.display.Markdown object>"
      ]
     },
     "execution_count": 4,
     "metadata": {},
     "output_type": "execute_result"
    }
   ],
   "source": [
    "#hide_input\n",
    "#md('##### {}'.format(titleBTC)) \n",
    "md(\"- {}{} {}{} [| Skaityti daugiau]({}) \".format(btc['title'],'. ', btc['body'], ' ...', btc['url']))"
   ]
  },
  {
   "cell_type": "code",
   "execution_count": 5,
   "id": "organic-actress",
   "metadata": {
    "execution": {
     "iopub.execute_input": "2022-06-15T03:11:17.583588Z",
     "iopub.status.busy": "2022-06-15T03:11:17.582935Z",
     "iopub.status.idle": "2022-06-15T03:11:17.587195Z",
     "shell.execute_reply": "2022-06-15T03:11:17.586684Z"
    },
    "papermill": {
     "duration": 0.020547,
     "end_time": "2022-06-15T03:11:17.587325",
     "exception": false,
     "start_time": "2022-06-15T03:11:17.566778",
     "status": "completed"
    },
    "tags": []
   },
   "outputs": [
    {
     "data": {
      "text/markdown": [
       "- Institutional Investors Bet on $ADA, $SOL, and $XRP Amid Crypto Market Rout.  Institutional investors have moved their bets away from leading cryptocurrencies including Bitcoin ($BTC) and Ethereum ($ETH) and into three major altcoins: Cardano’s $ADA, Solana ($SOL), and $XRP amid a wider cryptocurrency market rout. As the total market capitalization of all cryptoassets drops below the $1 trillion mark for the first time since early 2021, CoinShares’ […] ... [| Skaityti daugiau](https://www.cryptoglobe.com/latest/2022/06/institutional-investors-bet-on-ada-sol-and-xrp-amid-crypto-market-rout/) "
      ],
      "text/plain": [
       "<IPython.core.display.Markdown object>"
      ]
     },
     "execution_count": 5,
     "metadata": {},
     "output_type": "execute_result"
    }
   ],
   "source": [
    "#hide_input\n",
    "#md('##### {}'.format(titleBTC)) \n",
    "md(\"- {}{} {}{} [| Skaityti daugiau]({}) \".format(xrp['title'],'. ', xrp['body'], ' ...', xrp['url']))"
   ]
  },
  {
   "cell_type": "code",
   "execution_count": 6,
   "id": "prompt-farmer",
   "metadata": {
    "execution": {
     "iopub.execute_input": "2022-06-15T03:11:17.616518Z",
     "iopub.status.busy": "2022-06-15T03:11:17.615674Z",
     "iopub.status.idle": "2022-06-15T03:11:17.619887Z",
     "shell.execute_reply": "2022-06-15T03:11:17.619352Z"
    },
    "papermill": {
     "duration": 0.020881,
     "end_time": "2022-06-15T03:11:17.620000",
     "exception": false,
     "start_time": "2022-06-15T03:11:17.599119",
     "status": "completed"
    },
    "tags": []
   },
   "outputs": [
    {
     "data": {
      "text/markdown": [
       "- Upbit Issues a Notice of Caution on Investing in TRX And WAVES.  Upbit, one of the most trusted global digital asset exchanges, released a notice of caution. The caution notice from June ...Read More... ... [| Skaityti daugiau](https://coinquora.com/upbit-issues-a-notice-of-caution-on-investing-in-trx-and-waves/) "
      ],
      "text/plain": [
       "<IPython.core.display.Markdown object>"
      ]
     },
     "execution_count": 6,
     "metadata": {},
     "output_type": "execute_result"
    }
   ],
   "source": [
    "#hide_input\n",
    "#md('##### {}'.format(titleBTC)) \n",
    "md(\"- {}{} {}{} [| Skaityti daugiau]({}) \".format(trx['title'],'. ', trx['body'], ' ...', trx['url']))"
   ]
  },
  {
   "cell_type": "code",
   "execution_count": 7,
   "id": "illegal-greece",
   "metadata": {
    "execution": {
     "iopub.execute_input": "2022-06-15T03:11:17.650932Z",
     "iopub.status.busy": "2022-06-15T03:11:17.650132Z",
     "iopub.status.idle": "2022-06-15T03:11:17.654316Z",
     "shell.execute_reply": "2022-06-15T03:11:17.655038Z"
    },
    "papermill": {
     "duration": 0.023421,
     "end_time": "2022-06-15T03:11:17.655171",
     "exception": false,
     "start_time": "2022-06-15T03:11:17.631750",
     "status": "completed"
    },
    "tags": []
   },
   "outputs": [
    {
     "data": {
      "text/markdown": [
       "- Nifty News: Lacoste’s luxury DAO, Bill Gates slams Bored Apes and more….  Bill Gates has slammed “expensive digital images of monkeys” while an NFT trader made a 921.12 ETH profit on a BAYC NFT overnight.  ... [| Skaityti daugiau](https://cointelegraph.com/news/nifty-news-lacoste-s-luxury-dao-bill-gates-slams-bored-apes-and-more) "
      ],
      "text/plain": [
       "<IPython.core.display.Markdown object>"
      ]
     },
     "execution_count": 7,
     "metadata": {},
     "output_type": "execute_result"
    }
   ],
   "source": [
    "#hide_input\n",
    "#md('##### {}'.format(titleBTC)) \n",
    "md(\"- {}{} {}{} [| Skaityti daugiau]({}) \".format(eth['title'],'. ', eth['body'], ' ...', eth['url']))"
   ]
  },
  {
   "cell_type": "code",
   "execution_count": 8,
   "id": "sublime-lounge",
   "metadata": {
    "execution": {
     "iopub.execute_input": "2022-06-15T03:11:17.686184Z",
     "iopub.status.busy": "2022-06-15T03:11:17.685472Z",
     "iopub.status.idle": "2022-06-15T03:11:17.689864Z",
     "shell.execute_reply": "2022-06-15T03:11:17.689154Z"
    },
    "papermill": {
     "duration": 0.022648,
     "end_time": "2022-06-15T03:11:17.690032",
     "exception": false,
     "start_time": "2022-06-15T03:11:17.667384",
     "status": "completed"
    },
    "tags": []
   },
   "outputs": [
    {
     "data": {
      "text/markdown": [
       "- Institutional Investors Bet on $ADA, $SOL, and $XRP Amid Crypto Market Rout.  Institutional investors have moved their bets away from leading cryptocurrencies including Bitcoin ($BTC) and Ethereum ($ETH) and into three major altcoins: Cardano’s $ADA, Solana ($SOL), and $XRP amid a wider cryptocurrency market rout. As the total market capitalization of all cryptoassets drops below the $1 trillion mark for the first time since early 2021, CoinShares’ […] ... [| Skaityti daugiau](https://www.cryptoglobe.com/latest/2022/06/institutional-investors-bet-on-ada-sol-and-xrp-amid-crypto-market-rout/) "
      ],
      "text/plain": [
       "<IPython.core.display.Markdown object>"
      ]
     },
     "execution_count": 8,
     "metadata": {},
     "output_type": "execute_result"
    }
   ],
   "source": [
    "#hide_input\n",
    "#md('##### {}'.format(titleBTC)) \n",
    "md(\"- {}{} {}{} [| Skaityti daugiau]({}) \".format(ada['title'],'. ', ada['body'], ' ...', ada['url']))"
   ]
  },
  {
   "cell_type": "code",
   "execution_count": 9,
   "id": "specified-ordering",
   "metadata": {
    "execution": {
     "iopub.execute_input": "2022-06-15T03:11:17.723076Z",
     "iopub.status.busy": "2022-06-15T03:11:17.722306Z",
     "iopub.status.idle": "2022-06-15T03:11:17.726324Z",
     "shell.execute_reply": "2022-06-15T03:11:17.726882Z"
    },
    "papermill": {
     "duration": 0.023266,
     "end_time": "2022-06-15T03:11:17.727118",
     "exception": false,
     "start_time": "2022-06-15T03:11:17.703852",
     "status": "completed"
    },
    "tags": []
   },
   "outputs": [
    {
     "data": {
      "text/markdown": [
       "- SEC reportedly launches investigation into insider trading on exchanges.  The commission could be performing routine check-ups on the exchange in question, or it could be looking for specific compliance violations to litigate against. ... [| Skaityti daugiau](https://cointelegraph.com/news/sec-reportedly-launches-investigation-into-insider-trading-on-exchanges) "
      ],
      "text/plain": [
       "<IPython.core.display.Markdown object>"
      ]
     },
     "execution_count": 9,
     "metadata": {},
     "output_type": "execute_result"
    }
   ],
   "source": [
    "#hide_input\n",
    "#md('##### {}'.format(titleBTC)) \n",
    "md(\"- {}{} {}{} [| Skaityti daugiau]({}) \".format(exchange['title'],'. ', exchange['body'], ' ...', exchange['url']))"
   ]
  },
  {
   "cell_type": "code",
   "execution_count": null,
   "id": "tender-livestock",
   "metadata": {
    "papermill": {
     "duration": 0.012927,
     "end_time": "2022-06-15T03:11:17.753872",
     "exception": false,
     "start_time": "2022-06-15T03:11:17.740945",
     "status": "completed"
    },
    "tags": []
   },
   "outputs": [],
   "source": []
  },
  {
   "cell_type": "code",
   "execution_count": null,
   "id": "appreciated-diamond",
   "metadata": {
    "papermill": {
     "duration": 0.013779,
     "end_time": "2022-06-15T03:11:17.781239",
     "exception": false,
     "start_time": "2022-06-15T03:11:17.767460",
     "status": "completed"
    },
    "tags": []
   },
   "outputs": [],
   "source": []
  },
  {
   "cell_type": "code",
   "execution_count": null,
   "id": "romance-sweden",
   "metadata": {
    "papermill": {
     "duration": 0.014617,
     "end_time": "2022-06-15T03:11:17.810683",
     "exception": false,
     "start_time": "2022-06-15T03:11:17.796066",
     "status": "completed"
    },
    "tags": []
   },
   "outputs": [],
   "source": []
  },
  {
   "cell_type": "code",
   "execution_count": null,
   "id": "dietary-statistics",
   "metadata": {
    "papermill": {
     "duration": 0.015033,
     "end_time": "2022-06-15T03:11:17.839917",
     "exception": false,
     "start_time": "2022-06-15T03:11:17.824884",
     "status": "completed"
    },
    "tags": []
   },
   "outputs": [],
   "source": []
  }
 ],
 "metadata": {
  "kernelspec": {
   "display_name": "Python 3",
   "language": "python",
   "name": "python3"
  },
  "language_info": {
   "codemirror_mode": {
    "name": "ipython",
    "version": 3
   },
   "file_extension": ".py",
   "mimetype": "text/x-python",
   "name": "python",
   "nbconvert_exporter": "python",
   "pygments_lexer": "ipython3",
   "version": "3.6.15"
  },
  "papermill": {
   "default_parameters": {},
   "duration": 12.641099,
   "end_time": "2022-06-15T03:11:18.375992",
   "environment_variables": {},
   "exception": null,
   "input_path": "Market-News.ipynb",
   "output_path": "Market-News.ipynb",
   "parameters": {},
   "start_time": "2022-06-15T03:11:05.734893",
   "version": "2.2.2"
  }
 },
 "nbformat": 4,
 "nbformat_minor": 5
}