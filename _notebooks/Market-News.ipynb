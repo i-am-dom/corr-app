{
 "cells": [
  {
   "cell_type": "markdown",
   "id": "short-greensboro",
   "metadata": {
    "papermill": {
     "duration": 0.017527,
     "end_time": "2021-08-28T01:51:39.321389",
     "exception": false,
     "start_time": "2021-08-28T01:51:39.303862",
     "status": "completed"
    },
    "tags": []
   },
   "source": [
    "# Kriptovaliutų naujienos"
   ]
  },
  {
   "cell_type": "code",
   "execution_count": 1,
   "id": "functioning-knowing",
   "metadata": {
    "execution": {
     "iopub.execute_input": "2021-08-28T01:51:39.353223Z",
     "iopub.status.busy": "2021-08-28T01:51:39.352611Z",
     "iopub.status.idle": "2021-08-28T01:51:40.667649Z",
     "shell.execute_reply": "2021-08-28T01:51:40.667085Z"
    },
    "papermill": {
     "duration": 1.336378,
     "end_time": "2021-08-28T01:51:40.667804",
     "exception": false,
     "start_time": "2021-08-28T01:51:39.331426",
     "status": "completed"
    },
    "tags": []
   },
   "outputs": [],
   "source": [
    "#hide_input\n",
    "import warnings\n",
    "warnings.filterwarnings('ignore')\n",
    "from scripts.read_data import read_api\n",
    "from scripts.read_data import read_news\n",
    "from scripts.read_data import read_covid\n",
    "import matplotlib.pyplot as plt \n",
    "from IPython.display import Markdown as md"
   ]
  },
  {
   "cell_type": "code",
   "execution_count": 2,
   "id": "shared-acceptance",
   "metadata": {
    "execution": {
     "iopub.execute_input": "2021-08-28T01:51:40.694526Z",
     "iopub.status.busy": "2021-08-28T01:51:40.693907Z",
     "iopub.status.idle": "2021-08-28T01:51:48.752662Z",
     "shell.execute_reply": "2021-08-28T01:51:48.753200Z"
    },
    "papermill": {
     "duration": 8.07536,
     "end_time": "2021-08-28T01:51:48.753346",
     "exception": false,
     "start_time": "2021-08-28T01:51:40.677986",
     "status": "completed"
    },
    "tags": []
   },
   "outputs": [],
   "source": [
    "#hide_input\n",
    "blockchain = read_news('blockchain') \n",
    "btc = read_news('btc') \n",
    "xrp = read_news('xrp') \n",
    "trx = read_news('trx') \n",
    "eth = read_news('eth')  \n",
    "ada = read_news('ada')\n",
    "exchange = read_news('exchange') "
   ]
  },
  {
   "cell_type": "code",
   "execution_count": 3,
   "id": "synthetic-notion",
   "metadata": {
    "execution": {
     "iopub.execute_input": "2021-08-28T01:51:48.780738Z",
     "iopub.status.busy": "2021-08-28T01:51:48.780130Z",
     "iopub.status.idle": "2021-08-28T01:51:48.783096Z",
     "shell.execute_reply": "2021-08-28T01:51:48.782656Z"
    },
    "papermill": {
     "duration": 0.020192,
     "end_time": "2021-08-28T01:51:48.783210",
     "exception": false,
     "start_time": "2021-08-28T01:51:48.763018",
     "status": "completed"
    },
    "tags": []
   },
   "outputs": [
    {
     "data": {
      "text/markdown": [
       "- PLUGnet Launches Otto Blockchain for Developers.  PLUGnet, a multichain synthetic asset network, has announced a launchnet release for developers and partners looking to build compliant DeFi applications. The team shared its outlook on this new milestone, &#8220;We&#8217;re excited to announce Ottó Blockchain, the next step in building PLUGnet. It will serve as a haven for investors and blockchain developers alike – [&#8230;]The post PLUGnet Launches Otto Blockchain for Developers appeared first on The Daily Hodl. ... [| Skaityti daugiau](https://dailyhodl.com/2021/08/27/plugnet-launches-otto-blockchain-for-developers/) "
      ],
      "text/plain": [
       "<IPython.core.display.Markdown object>"
      ]
     },
     "execution_count": 3,
     "metadata": {},
     "output_type": "execute_result"
    }
   ],
   "source": [
    "#hide_input\n",
    "#md('##### {}'.format(titleBTC)) \n",
    "md(\"- {}{} {}{} [| Skaityti daugiau]({}) \".format(blockchain['title'],'. ', blockchain['body'], ' ...', blockchain['url']))"
   ]
  },
  {
   "cell_type": "code",
   "execution_count": 4,
   "id": "aging-caution",
   "metadata": {
    "execution": {
     "iopub.execute_input": "2021-08-28T01:51:48.808196Z",
     "iopub.status.busy": "2021-08-28T01:51:48.807462Z",
     "iopub.status.idle": "2021-08-28T01:51:48.810133Z",
     "shell.execute_reply": "2021-08-28T01:51:48.810708Z"
    },
    "papermill": {
     "duration": 0.018309,
     "end_time": "2021-08-28T01:51:48.810867",
     "exception": false,
     "start_time": "2021-08-28T01:51:48.792558",
     "status": "completed"
    },
    "tags": []
   },
   "outputs": [
    {
     "data": {
      "text/markdown": [
       "- China: Is the PBoC’s new ‘reminder’ on Bitcoin’s status really new.  &#8220;We remind the people once again that virtual currencies such as Bitcoin are not legal tenders and have no actual value support.&#8221; The People&#8217;s Bank of China [PBoC] has once again raised an alarm about the use of cryptocurrencies in light of its recent crackdown. According to local reports, the central bank took a shot [&#8230;] ... [| Skaityti daugiau](https://ambcrypto.com/china-is-the-pbocs-new-reminder-on-bitcoins-status-really-new/) "
      ],
      "text/plain": [
       "<IPython.core.display.Markdown object>"
      ]
     },
     "execution_count": 4,
     "metadata": {},
     "output_type": "execute_result"
    }
   ],
   "source": [
    "#hide_input\n",
    "#md('##### {}'.format(titleBTC)) \n",
    "md(\"- {}{} {}{} [| Skaityti daugiau]({}) \".format(btc['title'],'. ', btc['body'], ' ...', btc['url']))"
   ]
  },
  {
   "cell_type": "code",
   "execution_count": 5,
   "id": "organic-actress",
   "metadata": {
    "execution": {
     "iopub.execute_input": "2021-08-28T01:51:48.833770Z",
     "iopub.status.busy": "2021-08-28T01:51:48.833287Z",
     "iopub.status.idle": "2021-08-28T01:51:48.835897Z",
     "shell.execute_reply": "2021-08-28T01:51:48.835544Z"
    },
    "papermill": {
     "duration": 0.015682,
     "end_time": "2021-08-28T01:51:48.835977",
     "exception": false,
     "start_time": "2021-08-28T01:51:48.820295",
     "status": "completed"
    },
    "tags": []
   },
   "outputs": [
    {
     "data": {
      "text/markdown": [
       "- The Altcoin Evolution – Part IV: The Challenges – The Sales Pitch.  With the ever-changing landscape of tech development and crypto innovation, regulation tends to lag behind in order to have time to react to what’s happening. Many altcoin projects are currently growing exponentially as they are exploring largely untouched use cases. As the tech continues to proliferate and expand, more and more “problems” are arising that require solutions. &#160; This obviously provides more space for viable contenders to occupy in a crowded market. This provides a robust growth argument for many altcoins, but there is a catch. The giant growth gains are fantastic, but we also must consider that large corporate banks do not tend to react positively to any challenges to their dominance of the financial industry. The Federal Reserve and other federal government bodies certainly have an eye open to the chaos as well. Ripple (XRP) is a prime example of this, as the project has been experiencing ongoing back-and-forth dialogue with the SEC for some time now, all while still sitting in the top 10 of token market caps. The Altcoin Evolution: The Lay Of The Land At this point, it’s rather difficult to predict the trajectory of these contingencies. Regulation is always a few steps behind, but it is a certainty. Despite these hurdles, which are far-reaching and constantly evolving, every project must have growth objectives. As we have with past publications of “Altcoin Evolution”, we will continue to look at the emerg... ... [| Skaityti daugiau](https://www.newsbtc.com/news/the-altcoin-evolution-part-iv/) "
      ],
      "text/plain": [
       "<IPython.core.display.Markdown object>"
      ]
     },
     "execution_count": 5,
     "metadata": {},
     "output_type": "execute_result"
    }
   ],
   "source": [
    "#hide_input\n",
    "#md('##### {}'.format(titleBTC)) \n",
    "md(\"- {}{} {}{} [| Skaityti daugiau]({}) \".format(xrp['title'],'. ', xrp['body'], ' ...', xrp['url']))"
   ]
  },
  {
   "cell_type": "code",
   "execution_count": 6,
   "id": "prompt-farmer",
   "metadata": {
    "execution": {
     "iopub.execute_input": "2021-08-28T01:51:48.860703Z",
     "iopub.status.busy": "2021-08-28T01:51:48.860103Z",
     "iopub.status.idle": "2021-08-28T01:51:48.864618Z",
     "shell.execute_reply": "2021-08-28T01:51:48.864185Z"
    },
    "papermill": {
     "duration": 0.019,
     "end_time": "2021-08-28T01:51:48.864724",
     "exception": false,
     "start_time": "2021-08-28T01:51:48.845724",
     "status": "completed"
    },
    "tags": []
   },
   "outputs": [
    {
     "data": {
      "text/markdown": [
       "- TRON and Shopping.io Partner Enabling TRX for E-Commerce.  August 25, 2021 – Singapore, Singapore Shopping.io is continuing its trend of collaborating with the biggest names in the industry, quickly solidifying its place as the one-stop e-commerce shop for crypto holders. The company’s newest collaboration is with TRON, one of the world’s largest and most popular blockchain-based operating systems. TRON uses the features of the [&#8230;]The post TRON and Shopping.io Partner Enabling TRX for E-Commerce appeared first on The Daily Hodl. ... [| Skaityti daugiau](https://dailyhodl.com/2021/08/25/tron-and-shopping-io-partner-enabling-trx-for-e-commerce/) "
      ],
      "text/plain": [
       "<IPython.core.display.Markdown object>"
      ]
     },
     "execution_count": 6,
     "metadata": {},
     "output_type": "execute_result"
    }
   ],
   "source": [
    "#hide_input\n",
    "#md('##### {}'.format(titleBTC)) \n",
    "md(\"- {}{} {}{} [| Skaityti daugiau]({}) \".format(trx['title'],'. ', trx['body'], ' ...', trx['url']))"
   ]
  },
  {
   "cell_type": "code",
   "execution_count": 7,
   "id": "illegal-greece",
   "metadata": {
    "execution": {
     "iopub.execute_input": "2021-08-28T01:51:48.889975Z",
     "iopub.status.busy": "2021-08-28T01:51:48.889411Z",
     "iopub.status.idle": "2021-08-28T01:51:48.892374Z",
     "shell.execute_reply": "2021-08-28T01:51:48.891889Z"
    },
    "papermill": {
     "duration": 0.017063,
     "end_time": "2021-08-28T01:51:48.892484",
     "exception": false,
     "start_time": "2021-08-28T01:51:48.875421",
     "status": "completed"
    },
    "tags": []
   },
   "outputs": [
    {
     "data": {
      "text/markdown": [
       "- Cardano: The ERC-20 Converter will go live on the testnet by….  Cardano&#8217;s ADA has been trending upwards since the 20 July bottom, with the alt setting higher highs on the charts. According to most, the primary driver behind the same has been a host of significant updates within the ecosystem. The IOHK team shared more updates with the community during the most recent Cardano 360 event. [&#8230;] ... [| Skaityti daugiau](https://ambcrypto.com/cardano-the-erc-20-converter-will-go-live-on-the-testnet-by/) "
      ],
      "text/plain": [
       "<IPython.core.display.Markdown object>"
      ]
     },
     "execution_count": 7,
     "metadata": {},
     "output_type": "execute_result"
    }
   ],
   "source": [
    "#hide_input\n",
    "#md('##### {}'.format(titleBTC)) \n",
    "md(\"- {}{} {}{} [| Skaityti daugiau]({}) \".format(eth['title'],'. ', eth['body'], ' ...', eth['url']))"
   ]
  },
  {
   "cell_type": "code",
   "execution_count": 8,
   "id": "sublime-lounge",
   "metadata": {
    "execution": {
     "iopub.execute_input": "2021-08-28T01:51:48.919946Z",
     "iopub.status.busy": "2021-08-28T01:51:48.919332Z",
     "iopub.status.idle": "2021-08-28T01:51:48.922961Z",
     "shell.execute_reply": "2021-08-28T01:51:48.922491Z"
    },
    "papermill": {
     "duration": 0.019924,
     "end_time": "2021-08-28T01:51:48.923080",
     "exception": false,
     "start_time": "2021-08-28T01:51:48.903156",
     "status": "completed"
    },
    "tags": []
   },
   "outputs": [
    {
     "data": {
      "text/markdown": [
       "- Cardano: The ERC-20 Converter will go live on the testnet by….  Cardano&#8217;s ADA has been trending upwards since the 20 July bottom, with the alt setting higher highs on the charts. According to most, the primary driver behind the same has been a host of significant updates within the ecosystem. The IOHK team shared more updates with the community during the most recent Cardano 360 event. [&#8230;] ... [| Skaityti daugiau](https://ambcrypto.com/cardano-the-erc-20-converter-will-go-live-on-the-testnet-by/) "
      ],
      "text/plain": [
       "<IPython.core.display.Markdown object>"
      ]
     },
     "execution_count": 8,
     "metadata": {},
     "output_type": "execute_result"
    }
   ],
   "source": [
    "#hide_input\n",
    "#md('##### {}'.format(titleBTC)) \n",
    "md(\"- {}{} {}{} [| Skaityti daugiau]({}) \".format(ada['title'],'. ', ada['body'], ' ...', ada['url']))"
   ]
  },
  {
   "cell_type": "code",
   "execution_count": 9,
   "id": "specified-ordering",
   "metadata": {
    "execution": {
     "iopub.execute_input": "2021-08-28T01:51:48.952596Z",
     "iopub.status.busy": "2021-08-28T01:51:48.950813Z",
     "iopub.status.idle": "2021-08-28T01:51:48.956466Z",
     "shell.execute_reply": "2021-08-28T01:51:48.955973Z"
    },
    "papermill": {
     "duration": 0.022201,
     "end_time": "2021-08-28T01:51:48.956580",
     "exception": false,
     "start_time": "2021-08-28T01:51:48.934379",
     "status": "completed"
    },
    "tags": []
   },
   "outputs": [
    {
     "data": {
      "text/markdown": [
       "- South Korean Regulator Creates New Crypto Exchange Policing Unit.  The South Korean financial regulator is set to appoint a number of new crypto officials, and forms a new crypto department. But its probable new chief has reiterated assertions that there will be no stay of execution for scores of crypto exchanges that could be forced to close as a result of its actions.Per News1 and Newsis, the Financial Intelligence Unit ... [| Skaityti daugiau](https://cryptonews.com/news/south-korean-regulator-creates-new-crypto-exchange-policing-11593.htm) "
      ],
      "text/plain": [
       "<IPython.core.display.Markdown object>"
      ]
     },
     "execution_count": 9,
     "metadata": {},
     "output_type": "execute_result"
    }
   ],
   "source": [
    "#hide_input\n",
    "#md('##### {}'.format(titleBTC)) \n",
    "md(\"- {}{} {}{} [| Skaityti daugiau]({}) \".format(exchange['title'],'. ', exchange['body'], ' ...', exchange['url']))"
   ]
  },
  {
   "cell_type": "code",
   "execution_count": null,
   "id": "tender-livestock",
   "metadata": {
    "papermill": {
     "duration": 0.011376,
     "end_time": "2021-08-28T01:51:48.979905",
     "exception": false,
     "start_time": "2021-08-28T01:51:48.968529",
     "status": "completed"
    },
    "tags": []
   },
   "outputs": [],
   "source": []
  },
  {
   "cell_type": "code",
   "execution_count": null,
   "id": "appreciated-diamond",
   "metadata": {
    "papermill": {
     "duration": 0.011893,
     "end_time": "2021-08-28T01:51:49.003153",
     "exception": false,
     "start_time": "2021-08-28T01:51:48.991260",
     "status": "completed"
    },
    "tags": []
   },
   "outputs": [],
   "source": []
  },
  {
   "cell_type": "code",
   "execution_count": null,
   "id": "romance-sweden",
   "metadata": {
    "papermill": {
     "duration": 0.011534,
     "end_time": "2021-08-28T01:51:49.027107",
     "exception": false,
     "start_time": "2021-08-28T01:51:49.015573",
     "status": "completed"
    },
    "tags": []
   },
   "outputs": [],
   "source": []
  },
  {
   "cell_type": "code",
   "execution_count": null,
   "id": "dietary-statistics",
   "metadata": {
    "papermill": {
     "duration": 0.011269,
     "end_time": "2021-08-28T01:51:49.049935",
     "exception": false,
     "start_time": "2021-08-28T01:51:49.038666",
     "status": "completed"
    },
    "tags": []
   },
   "outputs": [],
   "source": []
  }
 ],
 "metadata": {
  "kernelspec": {
   "display_name": "Python 3",
   "language": "python",
   "name": "python3"
  },
  "language_info": {
   "codemirror_mode": {
    "name": "ipython",
    "version": 3
   },
   "file_extension": ".py",
   "mimetype": "text/x-python",
   "name": "python",
   "nbconvert_exporter": "python",
   "pygments_lexer": "ipython3",
   "version": "3.6.14"
  },
  "papermill": {
   "default_parameters": {},
   "duration": 11.219127,
   "end_time": "2021-08-28T01:51:49.470290",
   "environment_variables": {},
   "exception": null,
   "input_path": "Market-News.ipynb",
   "output_path": "Market-News.ipynb",
   "parameters": {},
   "start_time": "2021-08-28T01:51:38.251163",
   "version": "2.2.2"
  }
 },
 "nbformat": 4,
 "nbformat_minor": 5
}