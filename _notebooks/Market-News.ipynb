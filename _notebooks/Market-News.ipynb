{
 "cells": [
  {
   "cell_type": "markdown",
   "id": "short-greensboro",
   "metadata": {
    "papermill": {
     "duration": 0.014131,
     "end_time": "2021-11-16T01:59:22.064945",
     "exception": false,
     "start_time": "2021-11-16T01:59:22.050814",
     "status": "completed"
    },
    "tags": []
   },
   "source": [
    "# Kriptovaliutų naujienos"
   ]
  },
  {
   "cell_type": "code",
   "execution_count": 1,
   "id": "functioning-knowing",
   "metadata": {
    "execution": {
     "iopub.execute_input": "2021-11-16T01:59:22.093967Z",
     "iopub.status.busy": "2021-11-16T01:59:22.093422Z",
     "iopub.status.idle": "2021-11-16T01:59:23.342191Z",
     "shell.execute_reply": "2021-11-16T01:59:23.341657Z"
    },
    "papermill": {
     "duration": 1.267542,
     "end_time": "2021-11-16T01:59:23.342350",
     "exception": false,
     "start_time": "2021-11-16T01:59:22.074808",
     "status": "completed"
    },
    "tags": []
   },
   "outputs": [],
   "source": [
    "#hide_input\n",
    "import warnings\n",
    "warnings.filterwarnings('ignore')\n",
    "from scripts.read_data import read_api\n",
    "from scripts.read_data import read_news\n",
    "from scripts.read_data import read_covid\n",
    "import matplotlib.pyplot as plt \n",
    "from IPython.display import Markdown as md"
   ]
  },
  {
   "cell_type": "code",
   "execution_count": 2,
   "id": "shared-acceptance",
   "metadata": {
    "execution": {
     "iopub.execute_input": "2021-11-16T01:59:23.370413Z",
     "iopub.status.busy": "2021-11-16T01:59:23.369255Z",
     "iopub.status.idle": "2021-11-16T01:59:31.414488Z",
     "shell.execute_reply": "2021-11-16T01:59:31.413560Z"
    },
    "papermill": {
     "duration": 8.061276,
     "end_time": "2021-11-16T01:59:31.414630",
     "exception": false,
     "start_time": "2021-11-16T01:59:23.353354",
     "status": "completed"
    },
    "tags": []
   },
   "outputs": [],
   "source": [
    "#hide_input\n",
    "blockchain = read_news('blockchain') \n",
    "btc = read_news('btc') \n",
    "xrp = read_news('xrp') \n",
    "trx = read_news('trx') \n",
    "eth = read_news('eth')  \n",
    "ada = read_news('ada')\n",
    "exchange = read_news('exchange') "
   ]
  },
  {
   "cell_type": "code",
   "execution_count": 3,
   "id": "synthetic-notion",
   "metadata": {
    "execution": {
     "iopub.execute_input": "2021-11-16T01:59:31.440752Z",
     "iopub.status.busy": "2021-11-16T01:59:31.440181Z",
     "iopub.status.idle": "2021-11-16T01:59:31.445734Z",
     "shell.execute_reply": "2021-11-16T01:59:31.445303Z"
    },
    "papermill": {
     "duration": 0.021504,
     "end_time": "2021-11-16T01:59:31.445861",
     "exception": false,
     "start_time": "2021-11-16T01:59:31.424357",
     "status": "completed"
    },
    "tags": []
   },
   "outputs": [
    {
     "data": {
      "text/markdown": [
       "- European Blockchain Convention: Over 2.500 People Are Set to Attend Europe’s Most Influential Blockchain & Crypto Event in 2021.  The congress, which will be held online on 13-16 December, will provide access to an AI powered networking platform to facilitate virtual 1:1 meetings between the 2.500 attendees. An exceptional line-up of over 120 speakers will join this year’s event, including Algorand Foundation CEO Sean Lee; ‘The Bitcoin Standard’ author Dr. Saifedean Ammous; Bitstamp managing [&#8230;]The post European Blockchain Convention: Over 2.500 People Are Set to Attend Europe’s Most Influential Blockchain &#038; Crypto Event in 2021 appeared first on NullTX. ... [| Skaityti daugiau](https://nulltx.com/european-blockchain-convention-blockchain-crypto-event-2021/) "
      ],
      "text/plain": [
       "<IPython.core.display.Markdown object>"
      ]
     },
     "execution_count": 3,
     "metadata": {},
     "output_type": "execute_result"
    }
   ],
   "source": [
    "#hide_input\n",
    "#md('##### {}'.format(titleBTC)) \n",
    "md(\"- {}{} {}{} [| Skaityti daugiau]({}) \".format(blockchain['title'],'. ', blockchain['body'], ' ...', blockchain['url']))"
   ]
  },
  {
   "cell_type": "code",
   "execution_count": 4,
   "id": "aging-caution",
   "metadata": {
    "execution": {
     "iopub.execute_input": "2021-11-16T01:59:31.471168Z",
     "iopub.status.busy": "2021-11-16T01:59:31.470561Z",
     "iopub.status.idle": "2021-11-16T01:59:31.473570Z",
     "shell.execute_reply": "2021-11-16T01:59:31.473116Z"
    },
    "papermill": {
     "duration": 0.017988,
     "end_time": "2021-11-16T01:59:31.473693",
     "exception": false,
     "start_time": "2021-11-16T01:59:31.455705",
     "status": "completed"
    },
    "tags": []
   },
   "outputs": [
    {
     "data": {
      "text/markdown": [
       "- European Blockchain Convention: Over 2.500 People Are Set to Attend Europe’s Most Influential Blockchain & Crypto Event in 2021.  The congress, which will be held online on 13-16 December, will provide access to an AI powered networking platform to facilitate virtual 1:1 meetings between the 2.500 attendees. An exceptional line-up of over 120 speakers will join this year’s event, including Algorand Foundation CEO Sean Lee; ‘The Bitcoin Standard’ author Dr. Saifedean Ammous; Bitstamp managing [&#8230;]The post European Blockchain Convention: Over 2.500 People Are Set to Attend Europe’s Most Influential Blockchain &#038; Crypto Event in 2021 appeared first on NullTX. ... [| Skaityti daugiau](https://nulltx.com/european-blockchain-convention-blockchain-crypto-event-2021/) "
      ],
      "text/plain": [
       "<IPython.core.display.Markdown object>"
      ]
     },
     "execution_count": 4,
     "metadata": {},
     "output_type": "execute_result"
    }
   ],
   "source": [
    "#hide_input\n",
    "#md('##### {}'.format(titleBTC)) \n",
    "md(\"- {}{} {}{} [| Skaityti daugiau]({}) \".format(btc['title'],'. ', btc['body'], ' ...', btc['url']))"
   ]
  },
  {
   "cell_type": "code",
   "execution_count": 5,
   "id": "organic-actress",
   "metadata": {
    "execution": {
     "iopub.execute_input": "2021-11-16T01:59:31.499842Z",
     "iopub.status.busy": "2021-11-16T01:59:31.499211Z",
     "iopub.status.idle": "2021-11-16T01:59:31.502862Z",
     "shell.execute_reply": "2021-11-16T01:59:31.502359Z"
    },
    "papermill": {
     "duration": 0.01921,
     "end_time": "2021-11-16T01:59:31.503021",
     "exception": false,
     "start_time": "2021-11-16T01:59:31.483811",
     "status": "completed"
    },
    "tags": []
   },
   "outputs": [
    {
     "data": {
      "text/markdown": [
       "- Ripple ‘guilty of fraud,’ but not securities law violations: Messari’s Selkis.  Ripple Labs has been fighting the United States Securities and Exchange Commission (SEC) in an ugly court battle for almost a year now. And yet, still, there is no respite in sight. When the blockchain firm was first accused by the watchdog of violating securities laws, many in the crypto-community came out to support Ripple. [&#8230;] ... [| Skaityti daugiau](https://ambcrypto.com/ripple-guilty-of-fraud-but-not-securities-law-violations-messaris-selkis/) "
      ],
      "text/plain": [
       "<IPython.core.display.Markdown object>"
      ]
     },
     "execution_count": 5,
     "metadata": {},
     "output_type": "execute_result"
    }
   ],
   "source": [
    "#hide_input\n",
    "#md('##### {}'.format(titleBTC)) \n",
    "md(\"- {}{} {}{} [| Skaityti daugiau]({}) \".format(xrp['title'],'. ', xrp['body'], ' ...', xrp['url']))"
   ]
  },
  {
   "cell_type": "code",
   "execution_count": 6,
   "id": "prompt-farmer",
   "metadata": {
    "execution": {
     "iopub.execute_input": "2021-11-16T01:59:31.530051Z",
     "iopub.status.busy": "2021-11-16T01:59:31.529419Z",
     "iopub.status.idle": "2021-11-16T01:59:31.531643Z",
     "shell.execute_reply": "2021-11-16T01:59:31.532216Z"
    },
    "papermill": {
     "duration": 0.018814,
     "end_time": "2021-11-16T01:59:31.532377",
     "exception": false,
     "start_time": "2021-11-16T01:59:31.513563",
     "status": "completed"
    },
    "tags": []
   },
   "outputs": [
    {
     "data": {
      "text/markdown": [
       "- Tron Price Analysis: TRX Coin Breaks Out From The Previous Swing High. Is This A Good Time To Buy?.  The TRX/USD coin indicates an overall uptrend in its technical chart. The coin price has gained over 8% in an intraday session and has managed to break out from the crucial resistance of $0.12, projecting more potential for this coin. Key technical points: The 20-day EMA provides excellent dynamic support to the TRX price The The post Tron Price Analysis: TRX Coin Breaks Out From The Previous Swing High. Is This A Good Time To Buy? appeared first on Coingape. ... [| Skaityti daugiau](https://coingape.com/tron-price-analysis-trx-coin-breaks-out-from-the-previous-swing-high-is-this-a-good-time-to-buy/) "
      ],
      "text/plain": [
       "<IPython.core.display.Markdown object>"
      ]
     },
     "execution_count": 6,
     "metadata": {},
     "output_type": "execute_result"
    }
   ],
   "source": [
    "#hide_input\n",
    "#md('##### {}'.format(titleBTC)) \n",
    "md(\"- {}{} {}{} [| Skaityti daugiau]({}) \".format(trx['title'],'. ', trx['body'], ' ...', trx['url']))"
   ]
  },
  {
   "cell_type": "code",
   "execution_count": 7,
   "id": "illegal-greece",
   "metadata": {
    "execution": {
     "iopub.execute_input": "2021-11-16T01:59:31.560095Z",
     "iopub.status.busy": "2021-11-16T01:59:31.559545Z",
     "iopub.status.idle": "2021-11-16T01:59:31.562527Z",
     "shell.execute_reply": "2021-11-16T01:59:31.563061Z"
    },
    "papermill": {
     "duration": 0.019633,
     "end_time": "2021-11-16T01:59:31.563211",
     "exception": false,
     "start_time": "2021-11-16T01:59:31.543578",
     "status": "completed"
    },
    "tags": []
   },
   "outputs": [
    {
     "data": {
      "text/markdown": [
       "- European Blockchain Convention: Over 2.500 People Are Set to Attend Europe’s Most Influential Blockchain & Crypto Event in 2021.  The congress, which will be held online on 13-16 December, will provide access to an AI powered networking platform to facilitate virtual 1:1 meetings between the 2.500 attendees. An exceptional line-up of over 120 speakers will join this year’s event, including Algorand Foundation CEO Sean Lee; ‘The Bitcoin Standard’ author Dr. Saifedean Ammous; Bitstamp managing [&#8230;]The post European Blockchain Convention: Over 2.500 People Are Set to Attend Europe’s Most Influential Blockchain &#038; Crypto Event in 2021 appeared first on NullTX. ... [| Skaityti daugiau](https://nulltx.com/european-blockchain-convention-blockchain-crypto-event-2021/) "
      ],
      "text/plain": [
       "<IPython.core.display.Markdown object>"
      ]
     },
     "execution_count": 7,
     "metadata": {},
     "output_type": "execute_result"
    }
   ],
   "source": [
    "#hide_input\n",
    "#md('##### {}'.format(titleBTC)) \n",
    "md(\"- {}{} {}{} [| Skaityti daugiau]({}) \".format(eth['title'],'. ', eth['body'], ' ...', eth['url']))"
   ]
  },
  {
   "cell_type": "code",
   "execution_count": 8,
   "id": "sublime-lounge",
   "metadata": {
    "execution": {
     "iopub.execute_input": "2021-11-16T01:59:31.591289Z",
     "iopub.status.busy": "2021-11-16T01:59:31.590695Z",
     "iopub.status.idle": "2021-11-16T01:59:31.594654Z",
     "shell.execute_reply": "2021-11-16T01:59:31.594232Z"
    },
    "papermill": {
     "duration": 0.020557,
     "end_time": "2021-11-16T01:59:31.594782",
     "exception": false,
     "start_time": "2021-11-16T01:59:31.574225",
     "status": "completed"
    },
    "tags": []
   },
   "outputs": [
    {
     "data": {
      "text/markdown": [
       "- Here’s how Cardano can break away from its bearish shackles.  Cardano has been in a constant downtrend since early-September and has struggled to recover lost ground even during broader market rallies. The last rally was observed between 5-10 November, although bulls were unable to clear the 38.2% Fibonacci level. Over the near-term, ADA could continue its consolidation and expect traders to shift back to long [&#8230;] ... [| Skaityti daugiau](https://ambcrypto.com/heres-how-cardano-can-break-away-from-its-bearish-shackles/) "
      ],
      "text/plain": [
       "<IPython.core.display.Markdown object>"
      ]
     },
     "execution_count": 8,
     "metadata": {},
     "output_type": "execute_result"
    }
   ],
   "source": [
    "#hide_input\n",
    "#md('##### {}'.format(titleBTC)) \n",
    "md(\"- {}{} {}{} [| Skaityti daugiau]({}) \".format(ada['title'],'. ', ada['body'], ' ...', ada['url']))"
   ]
  },
  {
   "cell_type": "code",
   "execution_count": 9,
   "id": "specified-ordering",
   "metadata": {
    "execution": {
     "iopub.execute_input": "2021-11-16T01:59:31.623636Z",
     "iopub.status.busy": "2021-11-16T01:59:31.623105Z",
     "iopub.status.idle": "2021-11-16T01:59:31.626008Z",
     "shell.execute_reply": "2021-11-16T01:59:31.626444Z"
    },
    "papermill": {
     "duration": 0.020313,
     "end_time": "2021-11-16T01:59:31.626588",
     "exception": false,
     "start_time": "2021-11-16T01:59:31.606275",
     "status": "completed"
    },
    "tags": []
   },
   "outputs": [
    {
     "data": {
      "text/markdown": [
       "- Ripple ‘guilty of fraud,’ but not securities law violations: Messari’s Selkis.  Ripple Labs has been fighting the United States Securities and Exchange Commission (SEC) in an ugly court battle for almost a year now. And yet, still, there is no respite in sight. When the blockchain firm was first accused by the watchdog of violating securities laws, many in the crypto-community came out to support Ripple. [&#8230;] ... [| Skaityti daugiau](https://ambcrypto.com/ripple-guilty-of-fraud-but-not-securities-law-violations-messaris-selkis/) "
      ],
      "text/plain": [
       "<IPython.core.display.Markdown object>"
      ]
     },
     "execution_count": 9,
     "metadata": {},
     "output_type": "execute_result"
    }
   ],
   "source": [
    "#hide_input\n",
    "#md('##### {}'.format(titleBTC)) \n",
    "md(\"- {}{} {}{} [| Skaityti daugiau]({}) \".format(exchange['title'],'. ', exchange['body'], ' ...', exchange['url']))"
   ]
  },
  {
   "cell_type": "code",
   "execution_count": null,
   "id": "tender-livestock",
   "metadata": {
    "papermill": {
     "duration": 0.011706,
     "end_time": "2021-11-16T01:59:31.650044",
     "exception": false,
     "start_time": "2021-11-16T01:59:31.638338",
     "status": "completed"
    },
    "tags": []
   },
   "outputs": [],
   "source": []
  },
  {
   "cell_type": "code",
   "execution_count": null,
   "id": "appreciated-diamond",
   "metadata": {
    "papermill": {
     "duration": 0.011647,
     "end_time": "2021-11-16T01:59:31.673806",
     "exception": false,
     "start_time": "2021-11-16T01:59:31.662159",
     "status": "completed"
    },
    "tags": []
   },
   "outputs": [],
   "source": []
  },
  {
   "cell_type": "code",
   "execution_count": null,
   "id": "romance-sweden",
   "metadata": {
    "papermill": {
     "duration": 0.011616,
     "end_time": "2021-11-16T01:59:31.697064",
     "exception": false,
     "start_time": "2021-11-16T01:59:31.685448",
     "status": "completed"
    },
    "tags": []
   },
   "outputs": [],
   "source": []
  },
  {
   "cell_type": "code",
   "execution_count": null,
   "id": "dietary-statistics",
   "metadata": {
    "papermill": {
     "duration": 0.011738,
     "end_time": "2021-11-16T01:59:31.720527",
     "exception": false,
     "start_time": "2021-11-16T01:59:31.708789",
     "status": "completed"
    },
    "tags": []
   },
   "outputs": [],
   "source": []
  }
 ],
 "metadata": {
  "kernelspec": {
   "display_name": "Python 3",
   "language": "python",
   "name": "python3"
  },
  "language_info": {
   "codemirror_mode": {
    "name": "ipython",
    "version": 3
   },
   "file_extension": ".py",
   "mimetype": "text/x-python",
   "name": "python",
   "nbconvert_exporter": "python",
   "pygments_lexer": "ipython3",
   "version": "3.6.15"
  },
  "papermill": {
   "default_parameters": {},
   "duration": 11.337864,
   "end_time": "2021-11-16T01:59:32.341790",
   "environment_variables": {},
   "exception": null,
   "input_path": "Market-News.ipynb",
   "output_path": "Market-News.ipynb",
   "parameters": {},
   "start_time": "2021-11-16T01:59:21.003926",
   "version": "2.2.2"
  }
 },
 "nbformat": 4,
 "nbformat_minor": 5
}