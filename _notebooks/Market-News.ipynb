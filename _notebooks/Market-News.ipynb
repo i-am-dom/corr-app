{
 "cells": [
  {
   "cell_type": "markdown",
   "id": "short-greensboro",
   "metadata": {
    "papermill": {
     "duration": 0.013531,
     "end_time": "2021-08-05T01:58:21.317069",
     "exception": false,
     "start_time": "2021-08-05T01:58:21.303538",
     "status": "completed"
    },
    "tags": []
   },
   "source": [
    "# Kriptovaliutų naujienos"
   ]
  },
  {
   "cell_type": "code",
   "execution_count": 1,
   "id": "functioning-knowing",
   "metadata": {
    "execution": {
     "iopub.execute_input": "2021-08-05T01:58:21.347422Z",
     "iopub.status.busy": "2021-08-05T01:58:21.346868Z",
     "iopub.status.idle": "2021-08-05T01:58:22.619603Z",
     "shell.execute_reply": "2021-08-05T01:58:22.619053Z"
    },
    "papermill": {
     "duration": 1.292495,
     "end_time": "2021-08-05T01:58:22.619765",
     "exception": false,
     "start_time": "2021-08-05T01:58:21.327270",
     "status": "completed"
    },
    "tags": []
   },
   "outputs": [],
   "source": [
    "#hide_input\n",
    "import warnings\n",
    "warnings.filterwarnings('ignore')\n",
    "from scripts.read_data import read_api\n",
    "from scripts.read_data import read_news\n",
    "from scripts.read_data import read_covid\n",
    "import matplotlib.pyplot as plt \n",
    "from IPython.display import Markdown as md"
   ]
  },
  {
   "cell_type": "code",
   "execution_count": 2,
   "id": "shared-acceptance",
   "metadata": {
    "execution": {
     "iopub.execute_input": "2021-08-05T01:58:22.645732Z",
     "iopub.status.busy": "2021-08-05T01:58:22.644697Z",
     "iopub.status.idle": "2021-08-05T01:58:31.028155Z",
     "shell.execute_reply": "2021-08-05T01:58:31.028591Z"
    },
    "papermill": {
     "duration": 8.399309,
     "end_time": "2021-08-05T01:58:31.028747",
     "exception": false,
     "start_time": "2021-08-05T01:58:22.629438",
     "status": "completed"
    },
    "tags": []
   },
   "outputs": [],
   "source": [
    "#hide_input\n",
    "blockchain = read_news('blockchain') \n",
    "btc = read_news('btc') \n",
    "xrp = read_news('xrp') \n",
    "trx = read_news('trx') \n",
    "eth = read_news('eth')  \n",
    "ada = read_news('ada')\n",
    "exchange = read_news('exchange') "
   ]
  },
  {
   "cell_type": "code",
   "execution_count": 3,
   "id": "synthetic-notion",
   "metadata": {
    "execution": {
     "iopub.execute_input": "2021-08-05T01:58:31.055020Z",
     "iopub.status.busy": "2021-08-05T01:58:31.054346Z",
     "iopub.status.idle": "2021-08-05T01:58:31.060040Z",
     "shell.execute_reply": "2021-08-05T01:58:31.059602Z"
    },
    "papermill": {
     "duration": 0.021427,
     "end_time": "2021-08-05T01:58:31.060161",
     "exception": false,
     "start_time": "2021-08-05T01:58:31.038734",
     "status": "completed"
    },
    "tags": []
   },
   "outputs": [
    {
     "data": {
      "text/markdown": [
       "- Reddit Moons Now Worth More Than Dogecoin In Impressive Takeover.  Reddit Moons&#8217; price has now surpassed the price of Dogecoin. The r/CryptoCurrency subreddit native coin Moons continues to see tremendous growth. Reddit Moons are now worth more than the popular meme coin Dogecoin. r/CryptoCurrency Moons price saw increasing growth following the announcement of a new scaling network by the project devs. Using the Layer 2 [&#8230;] ... [| Skaityti daugiau](https://bitcoinist.com/reddit-moons-now-worth-more-than-dogecoin-in-impressive-takeover/?utm_source=rss&utm_medium=rss&utm_campaign=reddit-moons-now-worth-more-than-dogecoin-in-impressive-takeover) "
      ],
      "text/plain": [
       "<IPython.core.display.Markdown object>"
      ]
     },
     "execution_count": 3,
     "metadata": {},
     "output_type": "execute_result"
    }
   ],
   "source": [
    "#hide_input\n",
    "#md('##### {}'.format(titleBTC)) \n",
    "md(\"- {}{} {}{} [| Skaityti daugiau]({}) \".format(blockchain['title'],'. ', blockchain['body'], ' ...', blockchain['url']))"
   ]
  },
  {
   "cell_type": "code",
   "execution_count": 4,
   "id": "aging-caution",
   "metadata": {
    "execution": {
     "iopub.execute_input": "2021-08-05T01:58:31.085766Z",
     "iopub.status.busy": "2021-08-05T01:58:31.085102Z",
     "iopub.status.idle": "2021-08-05T01:58:31.087348Z",
     "shell.execute_reply": "2021-08-05T01:58:31.087770Z"
    },
    "papermill": {
     "duration": 0.018147,
     "end_time": "2021-08-05T01:58:31.087913",
     "exception": false,
     "start_time": "2021-08-05T01:58:31.069766",
     "status": "completed"
    },
    "tags": []
   },
   "outputs": [
    {
     "data": {
      "text/markdown": [
       "- Here’s how Options traders can take advantage of Bitcoin’s window.  It is exciting to see market sentiments in a volatile crypto-environment. The past couple of weeks, for instance, have seen Bitcoin and most altcoins at their bullish best. However, the aforementioned period has also seen these assets face a steady stream of drawdowns. Consider this &#8211; Bitcoin is currently undergoing corrections and a mixed response [&#8230;] ... [| Skaityti daugiau](https://ambcrypto.com/heres-how-options-traders-can-take-advantage-of-bitcoins-window/) "
      ],
      "text/plain": [
       "<IPython.core.display.Markdown object>"
      ]
     },
     "execution_count": 4,
     "metadata": {},
     "output_type": "execute_result"
    }
   ],
   "source": [
    "#hide_input\n",
    "#md('##### {}'.format(titleBTC)) \n",
    "md(\"- {}{} {}{} [| Skaityti daugiau]({}) \".format(btc['title'],'. ', btc['body'], ' ...', btc['url']))"
   ]
  },
  {
   "cell_type": "code",
   "execution_count": 5,
   "id": "organic-actress",
   "metadata": {
    "execution": {
     "iopub.execute_input": "2021-08-05T01:58:31.117121Z",
     "iopub.status.busy": "2021-08-05T01:58:31.116475Z",
     "iopub.status.idle": "2021-08-05T01:58:31.118749Z",
     "shell.execute_reply": "2021-08-05T01:58:31.119249Z"
    },
    "papermill": {
     "duration": 0.019581,
     "end_time": "2021-08-05T01:58:31.119403",
     "exception": false,
     "start_time": "2021-08-05T01:58:31.099822",
     "status": "completed"
    },
    "tags": []
   },
   "outputs": [
    {
     "data": {
      "text/markdown": [
       "- Ripple (XRP) granted access to Binance documents for SEC case.  Ripple’s lawsuit with the US Securities and Exchange Commission (SEC) involved one of the largest crypto exchanges in the case discovery as Brad Garlinghouse’s motion to obtain Binance documents from the Cayman Islands has been granted by the court. The post Ripple (XRP) granted access to Binance documents for SEC case appeared first on CryptoSlate. ... [| Skaityti daugiau](https://cryptoslate.com/ripple-xrp-granted-access-to-binance-documents-for-sec-case/) "
      ],
      "text/plain": [
       "<IPython.core.display.Markdown object>"
      ]
     },
     "execution_count": 5,
     "metadata": {},
     "output_type": "execute_result"
    }
   ],
   "source": [
    "#hide_input\n",
    "#md('##### {}'.format(titleBTC)) \n",
    "md(\"- {}{} {}{} [| Skaityti daugiau]({}) \".format(xrp['title'],'. ', xrp['body'], ' ...', xrp['url']))"
   ]
  },
  {
   "cell_type": "code",
   "execution_count": 6,
   "id": "prompt-farmer",
   "metadata": {
    "execution": {
     "iopub.execute_input": "2021-08-05T01:58:31.145320Z",
     "iopub.status.busy": "2021-08-05T01:58:31.144790Z",
     "iopub.status.idle": "2021-08-05T01:58:31.147899Z",
     "shell.execute_reply": "2021-08-05T01:58:31.148290Z"
    },
    "papermill": {
     "duration": 0.018806,
     "end_time": "2021-08-05T01:58:31.148435",
     "exception": false,
     "start_time": "2021-08-05T01:58:31.129629",
     "status": "completed"
    },
    "tags": []
   },
   "outputs": [
    {
     "data": {
      "text/markdown": [
       "- Tron (TRX) Price Analysis: Holding Gains above $0.062.  Tron price started a fresh increase above the $0.0600 resistance against the US Dollar. TRX price is now trading well above $0.0600 and the 55 simple moving average (4-hours). There was a break below a major bullish trend line with support near $0.0640 on the 4-hours chart (data feed via Bitfinex). The pair is likely...The post Tron (TRX) Price Analysis: Holding Gains above $0.062 appeared first on Live Bitcoin News. ... [| Skaityti daugiau](https://www.livebitcoinnews.com/tron-trx-price-analysis-holding-gains-above-0-062/) "
      ],
      "text/plain": [
       "<IPython.core.display.Markdown object>"
      ]
     },
     "execution_count": 6,
     "metadata": {},
     "output_type": "execute_result"
    }
   ],
   "source": [
    "#hide_input\n",
    "#md('##### {}'.format(titleBTC)) \n",
    "md(\"- {}{} {}{} [| Skaityti daugiau]({}) \".format(trx['title'],'. ', trx['body'], ' ...', trx['url']))"
   ]
  },
  {
   "cell_type": "code",
   "execution_count": 7,
   "id": "illegal-greece",
   "metadata": {
    "execution": {
     "iopub.execute_input": "2021-08-05T01:58:31.175187Z",
     "iopub.status.busy": "2021-08-05T01:58:31.174641Z",
     "iopub.status.idle": "2021-08-05T01:58:31.177497Z",
     "shell.execute_reply": "2021-08-05T01:58:31.176976Z"
    },
    "papermill": {
     "duration": 0.018415,
     "end_time": "2021-08-05T01:58:31.177617",
     "exception": false,
     "start_time": "2021-08-05T01:58:31.159202",
     "status": "completed"
    },
    "tags": []
   },
   "outputs": [
    {
     "data": {
      "text/markdown": [
       "- Ethereum Hard Fork Is Just Hours Away. Here's What Could Go Wrong.  EIP-1599 could make ETH prices go higher and transactions easier. But some caution that it's not so simple. ... [| Skaityti daugiau](https://decrypt.co/77721/ethereum-hard-fork-hours-away-what-could-go-wrong) "
      ],
      "text/plain": [
       "<IPython.core.display.Markdown object>"
      ]
     },
     "execution_count": 7,
     "metadata": {},
     "output_type": "execute_result"
    }
   ],
   "source": [
    "#hide_input\n",
    "#md('##### {}'.format(titleBTC)) \n",
    "md(\"- {}{} {}{} [| Skaityti daugiau]({}) \".format(eth['title'],'. ', eth['body'], ' ...', eth['url']))"
   ]
  },
  {
   "cell_type": "code",
   "execution_count": 8,
   "id": "sublime-lounge",
   "metadata": {
    "execution": {
     "iopub.execute_input": "2021-08-05T01:58:31.204908Z",
     "iopub.status.busy": "2021-08-05T01:58:31.204378Z",
     "iopub.status.idle": "2021-08-05T01:58:31.206825Z",
     "shell.execute_reply": "2021-08-05T01:58:31.207268Z"
    },
    "papermill": {
     "duration": 0.018912,
     "end_time": "2021-08-05T01:58:31.207409",
     "exception": false,
     "start_time": "2021-08-05T01:58:31.188497",
     "status": "completed"
    },
    "tags": []
   },
   "outputs": [
    {
     "data": {
      "text/markdown": [
       "- Celsius Network Lends Support to Cardano ($ADA).  Cryptocurrency lender Celsius Network is set to add Cardano’s ADA later this month for both borrowing and lending. According to its CEO Alex Mashinsky, users will be able to take out ADA-backed loans on August 19. Mashinsky also revealed on Twitter that users can earn 4.05% on their ADA holdings by lending the cryptocurrency on […] ... [| Skaityti daugiau](https://www.cryptoglobe.com/latest/2021/08/celsius-network-lends-support-to-cardano-ada/) "
      ],
      "text/plain": [
       "<IPython.core.display.Markdown object>"
      ]
     },
     "execution_count": 8,
     "metadata": {},
     "output_type": "execute_result"
    }
   ],
   "source": [
    "#hide_input\n",
    "#md('##### {}'.format(titleBTC)) \n",
    "md(\"- {}{} {}{} [| Skaityti daugiau]({}) \".format(ada['title'],'. ', ada['body'], ' ...', ada['url']))"
   ]
  },
  {
   "cell_type": "code",
   "execution_count": 9,
   "id": "specified-ordering",
   "metadata": {
    "execution": {
     "iopub.execute_input": "2021-08-05T01:58:31.235122Z",
     "iopub.status.busy": "2021-08-05T01:58:31.234551Z",
     "iopub.status.idle": "2021-08-05T01:58:31.237467Z",
     "shell.execute_reply": "2021-08-05T01:58:31.237882Z"
    },
    "papermill": {
     "duration": 0.019532,
     "end_time": "2021-08-05T01:58:31.238030",
     "exception": false,
     "start_time": "2021-08-05T01:58:31.218498",
     "status": "completed"
    },
    "tags": []
   },
   "outputs": [
    {
     "data": {
      "text/markdown": [
       "- SEC Chair Gensler Outlines Plans for Crypto Trading, Exchanges, Investor Protection, Bitcoin ETFs.  The chairman of the U.S. Securities and Exchange Commission (SEC), Gary Gensler, has outlined how the SEC plans to regulate the crypto industry. Focusing on investor protection, Gensler discussed concerns the SEC has about crypto trading, exchanges, lending, defi platforms, and exchange-traded funds (ETFs). Gary Gensler Outlines SEC&#8217;s Crypto Priorities SEC Chairman Gary Gensler outlined [&#8230;] ... [| Skaityti daugiau](https://news.bitcoin.com/sec-chair-gensler-crypto-trading-exchanges-investor-protection-bitcoin-etfs/) "
      ],
      "text/plain": [
       "<IPython.core.display.Markdown object>"
      ]
     },
     "execution_count": 9,
     "metadata": {},
     "output_type": "execute_result"
    }
   ],
   "source": [
    "#hide_input\n",
    "#md('##### {}'.format(titleBTC)) \n",
    "md(\"- {}{} {}{} [| Skaityti daugiau]({}) \".format(exchange['title'],'. ', exchange['body'], ' ...', exchange['url']))"
   ]
  },
  {
   "cell_type": "code",
   "execution_count": null,
   "id": "tender-livestock",
   "metadata": {
    "papermill": {
     "duration": 0.011342,
     "end_time": "2021-08-05T01:58:31.260875",
     "exception": false,
     "start_time": "2021-08-05T01:58:31.249533",
     "status": "completed"
    },
    "tags": []
   },
   "outputs": [],
   "source": []
  },
  {
   "cell_type": "code",
   "execution_count": null,
   "id": "appreciated-diamond",
   "metadata": {
    "papermill": {
     "duration": 0.011294,
     "end_time": "2021-08-05T01:58:31.283796",
     "exception": false,
     "start_time": "2021-08-05T01:58:31.272502",
     "status": "completed"
    },
    "tags": []
   },
   "outputs": [],
   "source": []
  },
  {
   "cell_type": "code",
   "execution_count": null,
   "id": "romance-sweden",
   "metadata": {
    "papermill": {
     "duration": 0.011288,
     "end_time": "2021-08-05T01:58:31.306393",
     "exception": false,
     "start_time": "2021-08-05T01:58:31.295105",
     "status": "completed"
    },
    "tags": []
   },
   "outputs": [],
   "source": []
  },
  {
   "cell_type": "code",
   "execution_count": null,
   "id": "dietary-statistics",
   "metadata": {
    "papermill": {
     "duration": 0.011407,
     "end_time": "2021-08-05T01:58:31.329211",
     "exception": false,
     "start_time": "2021-08-05T01:58:31.317804",
     "status": "completed"
    },
    "tags": []
   },
   "outputs": [],
   "source": []
  }
 ],
 "metadata": {
  "kernelspec": {
   "display_name": "Python 3",
   "language": "python",
   "name": "python3"
  },
  "language_info": {
   "codemirror_mode": {
    "name": "ipython",
    "version": 3
   },
   "file_extension": ".py",
   "mimetype": "text/x-python",
   "name": "python",
   "nbconvert_exporter": "python",
   "pygments_lexer": "ipython3",
   "version": "3.6.14"
  },
  "papermill": {
   "default_parameters": {},
   "duration": 12.301293,
   "end_time": "2021-08-05T01:58:32.546738",
   "environment_variables": {},
   "exception": null,
   "input_path": "Market-News.ipynb",
   "output_path": "Market-News.ipynb",
   "parameters": {},
   "start_time": "2021-08-05T01:58:20.245445",
   "version": "2.2.2"
  }
 },
 "nbformat": 4,
 "nbformat_minor": 5
}