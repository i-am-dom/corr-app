{
 "cells": [
  {
   "cell_type": "markdown",
   "id": "short-greensboro",
   "metadata": {
    "papermill": {
     "duration": 0.013156,
     "end_time": "2021-10-18T02:09:06.921550",
     "exception": false,
     "start_time": "2021-10-18T02:09:06.908394",
     "status": "completed"
    },
    "tags": []
   },
   "source": [
    "# Kriptovaliutų naujienos"
   ]
  },
  {
   "cell_type": "code",
   "execution_count": 1,
   "id": "functioning-knowing",
   "metadata": {
    "execution": {
     "iopub.execute_input": "2021-10-18T02:09:06.950633Z",
     "iopub.status.busy": "2021-10-18T02:09:06.950077Z",
     "iopub.status.idle": "2021-10-18T02:09:08.133001Z",
     "shell.execute_reply": "2021-10-18T02:09:08.132521Z"
    },
    "papermill": {
     "duration": 1.201889,
     "end_time": "2021-10-18T02:09:08.133138",
     "exception": false,
     "start_time": "2021-10-18T02:09:06.931249",
     "status": "completed"
    },
    "tags": []
   },
   "outputs": [],
   "source": [
    "#hide_input\n",
    "import warnings\n",
    "warnings.filterwarnings('ignore')\n",
    "from scripts.read_data import read_api\n",
    "from scripts.read_data import read_news\n",
    "from scripts.read_data import read_covid\n",
    "import matplotlib.pyplot as plt \n",
    "from IPython.display import Markdown as md"
   ]
  },
  {
   "cell_type": "code",
   "execution_count": 2,
   "id": "shared-acceptance",
   "metadata": {
    "execution": {
     "iopub.execute_input": "2021-10-18T02:09:08.158079Z",
     "iopub.status.busy": "2021-10-18T02:09:08.157557Z",
     "iopub.status.idle": "2021-10-18T02:09:15.392043Z",
     "shell.execute_reply": "2021-10-18T02:09:15.392472Z"
    },
    "papermill": {
     "duration": 7.250085,
     "end_time": "2021-10-18T02:09:15.392617",
     "exception": false,
     "start_time": "2021-10-18T02:09:08.142532",
     "status": "completed"
    },
    "tags": []
   },
   "outputs": [],
   "source": [
    "#hide_input\n",
    "blockchain = read_news('blockchain') \n",
    "btc = read_news('btc') \n",
    "xrp = read_news('xrp') \n",
    "trx = read_news('trx') \n",
    "eth = read_news('eth')  \n",
    "ada = read_news('ada')\n",
    "exchange = read_news('exchange') "
   ]
  },
  {
   "cell_type": "code",
   "execution_count": 3,
   "id": "synthetic-notion",
   "metadata": {
    "execution": {
     "iopub.execute_input": "2021-10-18T02:09:15.419150Z",
     "iopub.status.busy": "2021-10-18T02:09:15.418604Z",
     "iopub.status.idle": "2021-10-18T02:09:15.421700Z",
     "shell.execute_reply": "2021-10-18T02:09:15.421280Z"
    },
    "papermill": {
     "duration": 0.018769,
     "end_time": "2021-10-18T02:09:15.421811",
     "exception": false,
     "start_time": "2021-10-18T02:09:15.403042",
     "status": "completed"
    },
    "tags": []
   },
   "outputs": [
    {
     "data": {
      "text/markdown": [
       "- Mexican Company Launches Blockchain-Powered COVID-19 Test Certificates.  Medical services company MDS Mexico is using blockchain technology to prevent the forgery of fake COVID-19 tests in the Latin American country. ... [| Skaityti daugiau](https://cryptopotato.com/mexican-company-launches-blockchain-powered-covid-19-test-certificates/) "
      ],
      "text/plain": [
       "<IPython.core.display.Markdown object>"
      ]
     },
     "execution_count": 3,
     "metadata": {},
     "output_type": "execute_result"
    }
   ],
   "source": [
    "#hide_input\n",
    "#md('##### {}'.format(titleBTC)) \n",
    "md(\"- {}{} {}{} [| Skaityti daugiau]({}) \".format(blockchain['title'],'. ', blockchain['body'], ' ...', blockchain['url']))"
   ]
  },
  {
   "cell_type": "code",
   "execution_count": 4,
   "id": "aging-caution",
   "metadata": {
    "execution": {
     "iopub.execute_input": "2021-10-18T02:09:15.444617Z",
     "iopub.status.busy": "2021-10-18T02:09:15.443550Z",
     "iopub.status.idle": "2021-10-18T02:09:15.447305Z",
     "shell.execute_reply": "2021-10-18T02:09:15.446903Z"
    },
    "papermill": {
     "duration": 0.01613,
     "end_time": "2021-10-18T02:09:15.447412",
     "exception": false,
     "start_time": "2021-10-18T02:09:15.431282",
     "status": "completed"
    },
    "tags": []
   },
   "outputs": [
    {
     "data": {
      "text/markdown": [
       "- Cypto and DeFi opportunities are a result of this.  Equating the early days of the internet with the crypto boom is now just a hackneyed adoption analogy. However, now that it is understood, investors can use it to diversify their portfolios. Crypto evangelist Chamath Palihapitiya recently called &#8220;Bitcoin the most profound iteration of the internet that we&#8217;ve seen.&#8221; However, this time around it is [&#8230;] ... [| Skaityti daugiau](https://ambcrypto.com/cypto-and-defi-opportunities-are-a-result-of-this/) "
      ],
      "text/plain": [
       "<IPython.core.display.Markdown object>"
      ]
     },
     "execution_count": 4,
     "metadata": {},
     "output_type": "execute_result"
    }
   ],
   "source": [
    "#hide_input\n",
    "#md('##### {}'.format(titleBTC)) \n",
    "md(\"- {}{} {}{} [| Skaityti daugiau]({}) \".format(btc['title'],'. ', btc['body'], ' ...', btc['url']))"
   ]
  },
  {
   "cell_type": "code",
   "execution_count": 5,
   "id": "organic-actress",
   "metadata": {
    "execution": {
     "iopub.execute_input": "2021-10-18T02:09:15.471445Z",
     "iopub.status.busy": "2021-10-18T02:09:15.470342Z",
     "iopub.status.idle": "2021-10-18T02:09:15.474093Z",
     "shell.execute_reply": "2021-10-18T02:09:15.474495Z"
    },
    "papermill": {
     "duration": 0.017454,
     "end_time": "2021-10-18T02:09:15.474617",
     "exception": false,
     "start_time": "2021-10-18T02:09:15.457163",
     "status": "completed"
    },
    "tags": []
   },
   "outputs": [
    {
     "data": {
      "text/markdown": [
       "- Will XRP offer value to its investors in the long-run.  XRP&#8217;s price hasn&#8217;t been that volatile of late. The market massively pumped over the last couple of days, but this token, unlike the rest, shed value. While the top 3 coins [BTC, ETH and BNB] witnessed over 10% weekly pumps, XRP dunked by over 5% in the same timeframe. The state of XRP&#8217;s on-chain metrics [&#8230;] ... [| Skaityti daugiau](https://ambcrypto.com/does-xrp-offer-value-to-its-investors-in-the-long-run/) "
      ],
      "text/plain": [
       "<IPython.core.display.Markdown object>"
      ]
     },
     "execution_count": 5,
     "metadata": {},
     "output_type": "execute_result"
    }
   ],
   "source": [
    "#hide_input\n",
    "#md('##### {}'.format(titleBTC)) \n",
    "md(\"- {}{} {}{} [| Skaityti daugiau]({}) \".format(xrp['title'],'. ', xrp['body'], ' ...', xrp['url']))"
   ]
  },
  {
   "cell_type": "code",
   "execution_count": 6,
   "id": "prompt-farmer",
   "metadata": {
    "execution": {
     "iopub.execute_input": "2021-10-18T02:09:15.499823Z",
     "iopub.status.busy": "2021-10-18T02:09:15.499228Z",
     "iopub.status.idle": "2021-10-18T02:09:15.501387Z",
     "shell.execute_reply": "2021-10-18T02:09:15.501941Z"
    },
    "papermill": {
     "duration": 0.017571,
     "end_time": "2021-10-18T02:09:15.502076",
     "exception": false,
     "start_time": "2021-10-18T02:09:15.484505",
     "status": "completed"
    },
    "tags": []
   },
   "outputs": [
    {
     "data": {
      "text/markdown": [
       "- Tron (TRX) Consolidation Indicates Decreased Volumetric Action!.  TRON currently holds the 28th position in terms of market cap with a combined value of $6.76 billion and above 71 billion coins in circulating supply. Unlike other cryptocurrencies, TRON is focused on the content sharing and entertainment industry and intends to rule the content creation domain, starting with the gaming industry. It allows creators &#8230; ... [| Skaityti daugiau](https://www.cryptonewsz.com/tron-consolidation-indicates-decreased-volumetric-action/) "
      ],
      "text/plain": [
       "<IPython.core.display.Markdown object>"
      ]
     },
     "execution_count": 6,
     "metadata": {},
     "output_type": "execute_result"
    }
   ],
   "source": [
    "#hide_input\n",
    "#md('##### {}'.format(titleBTC)) \n",
    "md(\"- {}{} {}{} [| Skaityti daugiau]({}) \".format(trx['title'],'. ', trx['body'], ' ...', trx['url']))"
   ]
  },
  {
   "cell_type": "code",
   "execution_count": 7,
   "id": "illegal-greece",
   "metadata": {
    "execution": {
     "iopub.execute_input": "2021-10-18T02:09:15.527982Z",
     "iopub.status.busy": "2021-10-18T02:09:15.527480Z",
     "iopub.status.idle": "2021-10-18T02:09:15.530818Z",
     "shell.execute_reply": "2021-10-18T02:09:15.530413Z"
    },
    "papermill": {
     "duration": 0.018181,
     "end_time": "2021-10-18T02:09:15.530924",
     "exception": false,
     "start_time": "2021-10-18T02:09:15.512743",
     "status": "completed"
    },
    "tags": []
   },
   "outputs": [
    {
     "data": {
      "text/markdown": [
       "- Coinbase Adds Support for Two Ethereum-Based Altcoins Across All of Its Platforms.  Top US crypto exchange Coinbase is adding two Ethereum (ETH) powered altcoins to its arsenal of tokens. According to a tweet by the company, BadgerDAO (BADGER) and Rarible (RARI) are now available to buy, sell, convert, store, send and receive on Coinbase.com and its iOS and Android applications. BADGER &#38; RARI are now live on [&#8230;]The post Coinbase Adds Support for Two Ethereum-Based Altcoins Across All of Its Platforms appeared first on The Daily Hodl. ... [| Skaityti daugiau](https://dailyhodl.com/2021/10/17/coinbase-adds-support-for-two-ethereum-based-altcoins-across-all-of-its-platforms/) "
      ],
      "text/plain": [
       "<IPython.core.display.Markdown object>"
      ]
     },
     "execution_count": 7,
     "metadata": {},
     "output_type": "execute_result"
    }
   ],
   "source": [
    "#hide_input\n",
    "#md('##### {}'.format(titleBTC)) \n",
    "md(\"- {}{} {}{} [| Skaityti daugiau]({}) \".format(eth['title'],'. ', eth['body'], ' ...', eth['url']))"
   ]
  },
  {
   "cell_type": "code",
   "execution_count": 8,
   "id": "sublime-lounge",
   "metadata": {
    "execution": {
     "iopub.execute_input": "2021-10-18T02:09:15.556310Z",
     "iopub.status.busy": "2021-10-18T02:09:15.555812Z",
     "iopub.status.idle": "2021-10-18T02:09:15.558811Z",
     "shell.execute_reply": "2021-10-18T02:09:15.558385Z"
    },
    "papermill": {
     "duration": 0.017468,
     "end_time": "2021-10-18T02:09:15.558915",
     "exception": false,
     "start_time": "2021-10-18T02:09:15.541447",
     "status": "completed"
    },
    "tags": []
   },
   "outputs": [
    {
     "data": {
      "text/markdown": [
       "- Cardano At Risk Of Slipping Down The Rankings — Could Prove Fatal For ADA.  Cardano has fallen down the cryptocurrency rankings, losing third place to Binance Coin. The network went on a strong price rally that catapulted it to third place after setting a new all-time high of $3.10. ADA is currently the fourth-largest cryptocurrency and has a market capitalization of $73.06 billion. Cardano’s reign as the third-largest crypto [&#8230;] ... [| Skaityti daugiau](https://zycrypto.com/cardano-at-risk-of-slipping-down-the-rankings-could-prove-fatal-for-ada/) "
      ],
      "text/plain": [
       "<IPython.core.display.Markdown object>"
      ]
     },
     "execution_count": 8,
     "metadata": {},
     "output_type": "execute_result"
    }
   ],
   "source": [
    "#hide_input\n",
    "#md('##### {}'.format(titleBTC)) \n",
    "md(\"- {}{} {}{} [| Skaityti daugiau]({}) \".format(ada['title'],'. ', ada['body'], ' ...', ada['url']))"
   ]
  },
  {
   "cell_type": "code",
   "execution_count": 9,
   "id": "specified-ordering",
   "metadata": {
    "execution": {
     "iopub.execute_input": "2021-10-18T02:09:15.584743Z",
     "iopub.status.busy": "2021-10-18T02:09:15.583737Z",
     "iopub.status.idle": "2021-10-18T02:09:15.587571Z",
     "shell.execute_reply": "2021-10-18T02:09:15.587142Z"
    },
    "papermill": {
     "duration": 0.017947,
     "end_time": "2021-10-18T02:09:15.587677",
     "exception": false,
     "start_time": "2021-10-18T02:09:15.569730",
     "status": "completed"
    },
    "tags": []
   },
   "outputs": [
    {
     "data": {
      "text/markdown": [
       "- Coinbase Publishes Proposal for Crypto Regulation Pushing 4 Core Recommendations.  Cryptocurrency exchange Coinbase has published its proposal for crypto regulation after &#x201C;more than 75 meetings with stakeholders in government, industry, and academia,&#x201D; CEO Brian Armstrong revealed. In its Digital Asset Policy Proposal, the company recommends &#x201C;four core pillars to inform future U.S. regulation.&#x201D; Coinbase&#x2019;s Proposal for Crypto Regulation The Nasdaq-listed cryptocurrency exchange Coinbase published its [&#8230;] ... [| Skaityti daugiau](https://news.bitcoin.com/coinbase-proposal-for-crypto-regulation-4-core-recommendations/) "
      ],
      "text/plain": [
       "<IPython.core.display.Markdown object>"
      ]
     },
     "execution_count": 9,
     "metadata": {},
     "output_type": "execute_result"
    }
   ],
   "source": [
    "#hide_input\n",
    "#md('##### {}'.format(titleBTC)) \n",
    "md(\"- {}{} {}{} [| Skaityti daugiau]({}) \".format(exchange['title'],'. ', exchange['body'], ' ...', exchange['url']))"
   ]
  },
  {
   "cell_type": "code",
   "execution_count": null,
   "id": "tender-livestock",
   "metadata": {
    "papermill": {
     "duration": 0.011141,
     "end_time": "2021-10-18T02:09:15.609968",
     "exception": false,
     "start_time": "2021-10-18T02:09:15.598827",
     "status": "completed"
    },
    "tags": []
   },
   "outputs": [],
   "source": []
  },
  {
   "cell_type": "code",
   "execution_count": null,
   "id": "appreciated-diamond",
   "metadata": {
    "papermill": {
     "duration": 0.011159,
     "end_time": "2021-10-18T02:09:15.632431",
     "exception": false,
     "start_time": "2021-10-18T02:09:15.621272",
     "status": "completed"
    },
    "tags": []
   },
   "outputs": [],
   "source": []
  },
  {
   "cell_type": "code",
   "execution_count": null,
   "id": "romance-sweden",
   "metadata": {
    "papermill": {
     "duration": 0.011101,
     "end_time": "2021-10-18T02:09:15.654769",
     "exception": false,
     "start_time": "2021-10-18T02:09:15.643668",
     "status": "completed"
    },
    "tags": []
   },
   "outputs": [],
   "source": []
  },
  {
   "cell_type": "code",
   "execution_count": null,
   "id": "dietary-statistics",
   "metadata": {
    "papermill": {
     "duration": 0.011096,
     "end_time": "2021-10-18T02:09:15.677031",
     "exception": false,
     "start_time": "2021-10-18T02:09:15.665935",
     "status": "completed"
    },
    "tags": []
   },
   "outputs": [],
   "source": []
  }
 ],
 "metadata": {
  "kernelspec": {
   "display_name": "Python 3",
   "language": "python",
   "name": "python3"
  },
  "language_info": {
   "codemirror_mode": {
    "name": "ipython",
    "version": 3
   },
   "file_extension": ".py",
   "mimetype": "text/x-python",
   "name": "python",
   "nbconvert_exporter": "python",
   "pygments_lexer": "ipython3",
   "version": "3.6.15"
  },
  "papermill": {
   "default_parameters": {},
   "duration": 10.217279,
   "end_time": "2021-10-18T02:09:16.097919",
   "environment_variables": {},
   "exception": null,
   "input_path": "Market-News.ipynb",
   "output_path": "Market-News.ipynb",
   "parameters": {},
   "start_time": "2021-10-18T02:09:05.880640",
   "version": "2.2.2"
  }
 },
 "nbformat": 4,
 "nbformat_minor": 5
}