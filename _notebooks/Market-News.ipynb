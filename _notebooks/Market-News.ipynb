{
 "cells": [
  {
   "cell_type": "markdown",
   "id": "short-greensboro",
   "metadata": {
    "papermill": {
     "duration": 0.017362,
     "end_time": "2021-11-30T01:52:29.714016",
     "exception": false,
     "start_time": "2021-11-30T01:52:29.696654",
     "status": "completed"
    },
    "tags": []
   },
   "source": [
    "# Kriptovaliutų naujienos"
   ]
  },
  {
   "cell_type": "code",
   "execution_count": 1,
   "id": "functioning-knowing",
   "metadata": {
    "execution": {
     "iopub.execute_input": "2021-11-30T01:52:29.752691Z",
     "iopub.status.busy": "2021-11-30T01:52:29.752007Z",
     "iopub.status.idle": "2021-11-30T01:52:31.334965Z",
     "shell.execute_reply": "2021-11-30T01:52:31.334376Z"
    },
    "papermill": {
     "duration": 1.607945,
     "end_time": "2021-11-30T01:52:31.335135",
     "exception": false,
     "start_time": "2021-11-30T01:52:29.727190",
     "status": "completed"
    },
    "tags": []
   },
   "outputs": [],
   "source": [
    "#hide_input\n",
    "import warnings\n",
    "warnings.filterwarnings('ignore')\n",
    "from scripts.read_data import read_api\n",
    "from scripts.read_data import read_news\n",
    "from scripts.read_data import read_covid\n",
    "import matplotlib.pyplot as plt \n",
    "from IPython.display import Markdown as md"
   ]
  },
  {
   "cell_type": "code",
   "execution_count": 2,
   "id": "shared-acceptance",
   "metadata": {
    "execution": {
     "iopub.execute_input": "2021-11-30T01:52:31.366622Z",
     "iopub.status.busy": "2021-11-30T01:52:31.365489Z",
     "iopub.status.idle": "2021-11-30T01:52:39.956274Z",
     "shell.execute_reply": "2021-11-30T01:52:39.955412Z"
    },
    "papermill": {
     "duration": 8.609704,
     "end_time": "2021-11-30T01:52:39.956419",
     "exception": false,
     "start_time": "2021-11-30T01:52:31.346715",
     "status": "completed"
    },
    "tags": []
   },
   "outputs": [],
   "source": [
    "#hide_input\n",
    "blockchain = read_news('blockchain') \n",
    "btc = read_news('btc') \n",
    "xrp = read_news('xrp') \n",
    "trx = read_news('trx') \n",
    "eth = read_news('eth')  \n",
    "ada = read_news('ada')\n",
    "exchange = read_news('exchange') "
   ]
  },
  {
   "cell_type": "code",
   "execution_count": 3,
   "id": "synthetic-notion",
   "metadata": {
    "execution": {
     "iopub.execute_input": "2021-11-30T01:52:39.988300Z",
     "iopub.status.busy": "2021-11-30T01:52:39.987579Z",
     "iopub.status.idle": "2021-11-30T01:52:39.991769Z",
     "shell.execute_reply": "2021-11-30T01:52:39.991156Z"
    },
    "papermill": {
     "duration": 0.022622,
     "end_time": "2021-11-30T01:52:39.991911",
     "exception": false,
     "start_time": "2021-11-30T01:52:39.969289",
     "status": "completed"
    },
    "tags": []
   },
   "outputs": [
    {
     "data": {
      "text/markdown": [
       "- Security Focused DeFi Project EverRise Upgrades Protocol and Launches on 3 Blockchains.  PRESS RELEASE. EverRise, the DeFi project that introduced the concept of buybacks in cryptocurrency, is going live with an upgraded version 2 contract on Monday, November 29th at 11:00 pm UTC. The new RISE token will be available on the Binance Smart Chain, Ethereum, and Polygon networks through PancakeSwap, UniSwap, and QuickSwap, respectively, with one [&#8230;] ... [| Skaityti daugiau](https://news.bitcoin.com/security-focused-defi-project-everrise-upgrades-protocol-and-launches-on-3-blockchains/) "
      ],
      "text/plain": [
       "<IPython.core.display.Markdown object>"
      ]
     },
     "execution_count": 3,
     "metadata": {},
     "output_type": "execute_result"
    }
   ],
   "source": [
    "#hide_input\n",
    "#md('##### {}'.format(titleBTC)) \n",
    "md(\"- {}{} {}{} [| Skaityti daugiau]({}) \".format(blockchain['title'],'. ', blockchain['body'], ' ...', blockchain['url']))"
   ]
  },
  {
   "cell_type": "code",
   "execution_count": 4,
   "id": "aging-caution",
   "metadata": {
    "execution": {
     "iopub.execute_input": "2021-11-30T01:52:40.022205Z",
     "iopub.status.busy": "2021-11-30T01:52:40.021519Z",
     "iopub.status.idle": "2021-11-30T01:52:40.027218Z",
     "shell.execute_reply": "2021-11-30T01:52:40.027754Z"
    },
    "papermill": {
     "duration": 0.024107,
     "end_time": "2021-11-30T01:52:40.027910",
     "exception": false,
     "start_time": "2021-11-30T01:52:40.003803",
     "status": "completed"
    },
    "tags": []
   },
   "outputs": [
    {
     "data": {
      "text/markdown": [
       "- Here’s how the new Covid variant is turning Bitcoin into a traditional asset.  Bitcoin has been seeing a price downtrend since it touched a record peak of $69,000 earlier this month. However, BTC rose over $57,000 after a sluggish week, recording around 5% gains in the last 24 hours. COVID and BTC It is noteworthy, that Bitcoin didn&#8217;t support the broader market weakness as sentiments dampened amid news [&#8230;] ... [| Skaityti daugiau](https://ambcrypto.com/heres-how-new-covid-variant-is-turning-bitcoin-into-a-traditional-asset/) "
      ],
      "text/plain": [
       "<IPython.core.display.Markdown object>"
      ]
     },
     "execution_count": 4,
     "metadata": {},
     "output_type": "execute_result"
    }
   ],
   "source": [
    "#hide_input\n",
    "#md('##### {}'.format(titleBTC)) \n",
    "md(\"- {}{} {}{} [| Skaityti daugiau]({}) \".format(btc['title'],'. ', btc['body'], ' ...', btc['url']))"
   ]
  },
  {
   "cell_type": "code",
   "execution_count": 5,
   "id": "organic-actress",
   "metadata": {
    "execution": {
     "iopub.execute_input": "2021-11-30T01:52:40.061141Z",
     "iopub.status.busy": "2021-11-30T01:52:40.060449Z",
     "iopub.status.idle": "2021-11-30T01:52:40.072128Z",
     "shell.execute_reply": "2021-11-30T01:52:40.072825Z"
    },
    "papermill": {
     "duration": 0.032458,
     "end_time": "2021-11-30T01:52:40.072988",
     "exception": false,
     "start_time": "2021-11-30T01:52:40.040530",
     "status": "completed"
    },
    "tags": []
   },
   "outputs": [
    {
     "data": {
      "text/markdown": [
       "- Price analysis 11/29: BTC, ETH, BNB, SOL, ADA, XRP, DOT, DOGE, AVAX, SHIB.  Bitcoin and most major altcoins rebounded off their strong support levels, but the real challenge for the bulls is to sustain the momentum and clear the $60,000 resistance level. ... [| Skaityti daugiau](https://cointelegraph.com/news/price-analysis-11-29-btc-eth-bnb-sol-ada-xrp-dot-doge-avax-shib) "
      ],
      "text/plain": [
       "<IPython.core.display.Markdown object>"
      ]
     },
     "execution_count": 5,
     "metadata": {},
     "output_type": "execute_result"
    }
   ],
   "source": [
    "#hide_input\n",
    "#md('##### {}'.format(titleBTC)) \n",
    "md(\"- {}{} {}{} [| Skaityti daugiau]({}) \".format(xrp['title'],'. ', xrp['body'], ' ...', xrp['url']))"
   ]
  },
  {
   "cell_type": "code",
   "execution_count": 6,
   "id": "prompt-farmer",
   "metadata": {
    "execution": {
     "iopub.execute_input": "2021-11-30T01:52:40.106793Z",
     "iopub.status.busy": "2021-11-30T01:52:40.105618Z",
     "iopub.status.idle": "2021-11-30T01:52:40.108813Z",
     "shell.execute_reply": "2021-11-30T01:52:40.109348Z"
    },
    "papermill": {
     "duration": 0.022397,
     "end_time": "2021-11-30T01:52:40.109494",
     "exception": false,
     "start_time": "2021-11-30T01:52:40.087097",
     "status": "completed"
    },
    "tags": []
   },
   "outputs": [
    {
     "data": {
      "text/markdown": [
       "- Bitcoin, Tron, Terra Price Analysis: 28 November.  The sustained bearish rally led several altcoins to mark their multi-week lows during the past few days. Consequently, Bitcoin hit its seven-week low on 26 November, while Tron touched its one-month low on 27 November. On the other hand, Terra marked a bull rally over the last day after displaying bullish technical indications. Bitcoin (BTC) [&#8230;] ... [| Skaityti daugiau](https://ambcrypto.com/bitcoin-tron-terra-price-analysis-28-november/) "
      ],
      "text/plain": [
       "<IPython.core.display.Markdown object>"
      ]
     },
     "execution_count": 6,
     "metadata": {},
     "output_type": "execute_result"
    }
   ],
   "source": [
    "#hide_input\n",
    "#md('##### {}'.format(titleBTC)) \n",
    "md(\"- {}{} {}{} [| Skaityti daugiau]({}) \".format(trx['title'],'. ', trx['body'], ' ...', trx['url']))"
   ]
  },
  {
   "cell_type": "code",
   "execution_count": 7,
   "id": "illegal-greece",
   "metadata": {
    "execution": {
     "iopub.execute_input": "2021-11-30T01:52:40.145539Z",
     "iopub.status.busy": "2021-11-30T01:52:40.143525Z",
     "iopub.status.idle": "2021-11-30T01:52:40.148017Z",
     "shell.execute_reply": "2021-11-30T01:52:40.148556Z"
    },
    "papermill": {
     "duration": 0.021957,
     "end_time": "2021-11-30T01:52:40.148696",
     "exception": false,
     "start_time": "2021-11-30T01:52:40.126739",
     "status": "completed"
    },
    "tags": []
   },
   "outputs": [
    {
     "data": {
      "text/markdown": [
       "- How to Talk to Your Family About NFTs.  If you're into crypto, and your family knows that, someone's going to ask. ... [| Skaityti daugiau](https://decrypt.co/87080/nfts-thanksgiving-holidays-family) "
      ],
      "text/plain": [
       "<IPython.core.display.Markdown object>"
      ]
     },
     "execution_count": 7,
     "metadata": {},
     "output_type": "execute_result"
    }
   ],
   "source": [
    "#hide_input\n",
    "#md('##### {}'.format(titleBTC)) \n",
    "md(\"- {}{} {}{} [| Skaityti daugiau]({}) \".format(eth['title'],'. ', eth['body'], ' ...', eth['url']))"
   ]
  },
  {
   "cell_type": "code",
   "execution_count": 8,
   "id": "sublime-lounge",
   "metadata": {
    "execution": {
     "iopub.execute_input": "2021-11-30T01:52:40.183559Z",
     "iopub.status.busy": "2021-11-30T01:52:40.182026Z",
     "iopub.status.idle": "2021-11-30T01:52:40.185908Z",
     "shell.execute_reply": "2021-11-30T01:52:40.185329Z"
    },
    "papermill": {
     "duration": 0.02414,
     "end_time": "2021-11-30T01:52:40.186048",
     "exception": false,
     "start_time": "2021-11-30T01:52:40.161908",
     "status": "completed"
    },
    "tags": []
   },
   "outputs": [
    {
     "data": {
      "text/markdown": [
       "- Cardano’s Hoskinson: ‘Winners of the future in the DeFi space are going to…’.  The age of DeFi is here. This sector of the cryptocurrency industry is raking in huge investments from all parts of the financial market while existing in a constantly evolving ecosystem. This, unarguably, has taken a toll on some networks struggling to keep up with the pace of development while others are looking at it [&#8230;] ... [| Skaityti daugiau](https://ambcrypto.com/cardanos-hoskinson-winners-of-the-future-in-the-defi-space-are-going-to/) "
      ],
      "text/plain": [
       "<IPython.core.display.Markdown object>"
      ]
     },
     "execution_count": 8,
     "metadata": {},
     "output_type": "execute_result"
    }
   ],
   "source": [
    "#hide_input\n",
    "#md('##### {}'.format(titleBTC)) \n",
    "md(\"- {}{} {}{} [| Skaityti daugiau]({}) \".format(ada['title'],'. ', ada['body'], ' ...', ada['url']))"
   ]
  },
  {
   "cell_type": "code",
   "execution_count": 9,
   "id": "specified-ordering",
   "metadata": {
    "execution": {
     "iopub.execute_input": "2021-11-30T01:52:40.218997Z",
     "iopub.status.busy": "2021-11-30T01:52:40.218334Z",
     "iopub.status.idle": "2021-11-30T01:52:40.223892Z",
     "shell.execute_reply": "2021-11-30T01:52:40.224434Z"
    },
    "papermill": {
     "duration": 0.024384,
     "end_time": "2021-11-30T01:52:40.224572",
     "exception": false,
     "start_time": "2021-11-30T01:52:40.200188",
     "status": "completed"
    },
    "tags": []
   },
   "outputs": [
    {
     "data": {
      "text/markdown": [
       "- Crypto Exchange Kraken Now Supports Shiba Inu — SHIB Trading to Begin Tomorrow.  Cryptocurrency exchange Kraken has announced support for the meme cryptocurrency shiba inu (SHIB). Deposits are now live and SHIB trading is expected to commence on Tuesday. The price of SHIB surged following Kraken&#x2019;s announcement. SHIB on Kraken: Deposits Now Live, Trading Set to Begin Tomorrow Crypto exchange Kraken announced Monday that shiba inu (SHIB) deposits [&#8230;] ... [| Skaityti daugiau](https://news.bitcoin.com/crypto-exchange-kraken-supports-shiba-inu-shib-trading/) "
      ],
      "text/plain": [
       "<IPython.core.display.Markdown object>"
      ]
     },
     "execution_count": 9,
     "metadata": {},
     "output_type": "execute_result"
    }
   ],
   "source": [
    "#hide_input\n",
    "#md('##### {}'.format(titleBTC)) \n",
    "md(\"- {}{} {}{} [| Skaityti daugiau]({}) \".format(exchange['title'],'. ', exchange['body'], ' ...', exchange['url']))"
   ]
  },
  {
   "cell_type": "code",
   "execution_count": null,
   "id": "tender-livestock",
   "metadata": {
    "papermill": {
     "duration": 0.014292,
     "end_time": "2021-11-30T01:52:40.253073",
     "exception": false,
     "start_time": "2021-11-30T01:52:40.238781",
     "status": "completed"
    },
    "tags": []
   },
   "outputs": [],
   "source": []
  },
  {
   "cell_type": "code",
   "execution_count": null,
   "id": "appreciated-diamond",
   "metadata": {
    "papermill": {
     "duration": 0.014108,
     "end_time": "2021-11-30T01:52:40.281295",
     "exception": false,
     "start_time": "2021-11-30T01:52:40.267187",
     "status": "completed"
    },
    "tags": []
   },
   "outputs": [],
   "source": []
  },
  {
   "cell_type": "code",
   "execution_count": null,
   "id": "romance-sweden",
   "metadata": {
    "papermill": {
     "duration": 0.013803,
     "end_time": "2021-11-30T01:52:40.309054",
     "exception": false,
     "start_time": "2021-11-30T01:52:40.295251",
     "status": "completed"
    },
    "tags": []
   },
   "outputs": [],
   "source": []
  },
  {
   "cell_type": "code",
   "execution_count": null,
   "id": "dietary-statistics",
   "metadata": {
    "papermill": {
     "duration": 0.014216,
     "end_time": "2021-11-30T01:52:40.337356",
     "exception": false,
     "start_time": "2021-11-30T01:52:40.323140",
     "status": "completed"
    },
    "tags": []
   },
   "outputs": [],
   "source": []
  }
 ],
 "metadata": {
  "kernelspec": {
   "display_name": "Python 3",
   "language": "python",
   "name": "python3"
  },
  "language_info": {
   "codemirror_mode": {
    "name": "ipython",
    "version": 3
   },
   "file_extension": ".py",
   "mimetype": "text/x-python",
   "name": "python",
   "nbconvert_exporter": "python",
   "pygments_lexer": "ipython3",
   "version": "3.6.15"
  },
  "papermill": {
   "default_parameters": {},
   "duration": 12.473537,
   "end_time": "2021-11-30T01:52:40.859781",
   "environment_variables": {},
   "exception": null,
   "input_path": "Market-News.ipynb",
   "output_path": "Market-News.ipynb",
   "parameters": {},
   "start_time": "2021-11-30T01:52:28.386244",
   "version": "2.2.2"
  }
 },
 "nbformat": 4,
 "nbformat_minor": 5
}