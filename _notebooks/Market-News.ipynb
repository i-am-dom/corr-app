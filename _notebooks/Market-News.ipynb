{
 "cells": [
  {
   "cell_type": "markdown",
   "id": "short-greensboro",
   "metadata": {
    "papermill": {
     "duration": 0.013638,
     "end_time": "2021-12-25T02:03:39.363459",
     "exception": false,
     "start_time": "2021-12-25T02:03:39.349821",
     "status": "completed"
    },
    "tags": []
   },
   "source": [
    "# Kriptovaliutų naujienos"
   ]
  },
  {
   "cell_type": "code",
   "execution_count": 1,
   "id": "functioning-knowing",
   "metadata": {
    "execution": {
     "iopub.execute_input": "2021-12-25T02:03:39.392495Z",
     "iopub.status.busy": "2021-12-25T02:03:39.391983Z",
     "iopub.status.idle": "2021-12-25T02:03:40.623966Z",
     "shell.execute_reply": "2021-12-25T02:03:40.624567Z"
    },
    "papermill": {
     "duration": 1.251792,
     "end_time": "2021-12-25T02:03:40.624831",
     "exception": false,
     "start_time": "2021-12-25T02:03:39.373039",
     "status": "completed"
    },
    "tags": []
   },
   "outputs": [],
   "source": [
    "#hide_input\n",
    "import warnings\n",
    "warnings.filterwarnings('ignore')\n",
    "from scripts.read_data import read_api\n",
    "from scripts.read_data import read_news\n",
    "from scripts.read_data import read_covid\n",
    "import matplotlib.pyplot as plt \n",
    "from IPython.display import Markdown as md"
   ]
  },
  {
   "cell_type": "code",
   "execution_count": 2,
   "id": "shared-acceptance",
   "metadata": {
    "execution": {
     "iopub.execute_input": "2021-12-25T02:03:40.655106Z",
     "iopub.status.busy": "2021-12-25T02:03:40.654573Z",
     "iopub.status.idle": "2021-12-25T02:03:50.212634Z",
     "shell.execute_reply": "2021-12-25T02:03:50.212153Z"
    },
    "papermill": {
     "duration": 9.576381,
     "end_time": "2021-12-25T02:03:50.212760",
     "exception": false,
     "start_time": "2021-12-25T02:03:40.636379",
     "status": "completed"
    },
    "tags": []
   },
   "outputs": [],
   "source": [
    "#hide_input\n",
    "blockchain = read_news('blockchain') \n",
    "btc = read_news('btc') \n",
    "xrp = read_news('xrp') \n",
    "trx = read_news('trx') \n",
    "eth = read_news('eth')  \n",
    "ada = read_news('ada')\n",
    "exchange = read_news('exchange') "
   ]
  },
  {
   "cell_type": "code",
   "execution_count": 3,
   "id": "synthetic-notion",
   "metadata": {
    "execution": {
     "iopub.execute_input": "2021-12-25T02:03:50.238064Z",
     "iopub.status.busy": "2021-12-25T02:03:50.237471Z",
     "iopub.status.idle": "2021-12-25T02:03:50.239661Z",
     "shell.execute_reply": "2021-12-25T02:03:50.240253Z"
    },
    "papermill": {
     "duration": 0.018386,
     "end_time": "2021-12-25T02:03:50.240392",
     "exception": false,
     "start_time": "2021-12-25T02:03:50.222006",
     "status": "completed"
    },
    "tags": []
   },
   "outputs": [
    {
     "data": {
      "text/markdown": [
       "- Big Four Accounting Firm Enters the Metaverse With Purchase of Virtual Land in The Sandbox (SAND).  One of the biggest accounting firms in the world has ventured into the metaverse after purchasing virtual real estate on gaming blockchain The Sandbox (SAND). PwC Hong Kong, part of the global PricewaterhouseCoopers accounting empire, has become the first member of an internationally recognized professional services network to publicly buy virtual land on The Sandbox, [&#8230;]The post Big Four Accounting Firm Enters the Metaverse With Purchase of Virtual Land in The Sandbox (SAND) appeared first on The Daily Hodl. ... [| Skaityti daugiau](https://dailyhodl.com/2021/12/24/big-four-accounting-firm-enters-the-metaverse-with-purchase-of-virtual-land-in-the-sandbox-sand/) "
      ],
      "text/plain": [
       "<IPython.core.display.Markdown object>"
      ]
     },
     "execution_count": 3,
     "metadata": {},
     "output_type": "execute_result"
    }
   ],
   "source": [
    "#hide_input\n",
    "#md('##### {}'.format(titleBTC)) \n",
    "md(\"- {}{} {}{} [| Skaityti daugiau]({}) \".format(blockchain['title'],'. ', blockchain['body'], ' ...', blockchain['url']))"
   ]
  },
  {
   "cell_type": "code",
   "execution_count": 4,
   "id": "aging-caution",
   "metadata": {
    "execution": {
     "iopub.execute_input": "2021-12-25T02:03:50.264062Z",
     "iopub.status.busy": "2021-12-25T02:03:50.263548Z",
     "iopub.status.idle": "2021-12-25T02:03:50.265974Z",
     "shell.execute_reply": "2021-12-25T02:03:50.266373Z"
    },
    "papermill": {
     "duration": 0.016386,
     "end_time": "2021-12-25T02:03:50.266483",
     "exception": false,
     "start_time": "2021-12-25T02:03:50.250097",
     "status": "completed"
    },
    "tags": []
   },
   "outputs": [
    {
     "data": {
      "text/markdown": [
       "- Tesla CEO Elon Musk Reveals Why He’s Pro Dogecoin Amid Debate Over Web3, Ethereum, Decentralization.  Tesla and Spacex CEO Elon Musk has explained why he&#x2019;s pro dogecoin as the debate over web3, Ethereum, and decentralization intensifies. In the same conversation, former Twitter CEO Jack Dorsey insisted that he is not anti-ETH. &#x201C;I&#x2019;m anti-centralized, VC-owned, single point of failure, and corporate-controlled lies,&#x201D; he stressed. Elon Musk Shares Why He&#x2019;s Pro Doge [&#8230;] ... [| Skaityti daugiau](https://news.bitcoin.com/tesla-ceo-elon-musk-why-pro-dogecoin-web3-ethereum-decentralization/) "
      ],
      "text/plain": [
       "<IPython.core.display.Markdown object>"
      ]
     },
     "execution_count": 4,
     "metadata": {},
     "output_type": "execute_result"
    }
   ],
   "source": [
    "#hide_input\n",
    "#md('##### {}'.format(titleBTC)) \n",
    "md(\"- {}{} {}{} [| Skaityti daugiau]({}) \".format(btc['title'],'. ', btc['body'], ' ...', btc['url']))"
   ]
  },
  {
   "cell_type": "code",
   "execution_count": 5,
   "id": "organic-actress",
   "metadata": {
    "execution": {
     "iopub.execute_input": "2021-12-25T02:03:50.290016Z",
     "iopub.status.busy": "2021-12-25T02:03:50.289441Z",
     "iopub.status.idle": "2021-12-25T02:03:50.294638Z",
     "shell.execute_reply": "2021-12-25T02:03:50.295034Z"
    },
    "papermill": {
     "duration": 0.01929,
     "end_time": "2021-12-25T02:03:50.295202",
     "exception": false,
     "start_time": "2021-12-25T02:03:50.275912",
     "status": "completed"
    },
    "tags": []
   },
   "outputs": [
    {
     "data": {
      "text/markdown": [
       "- Ripple Had Its Strongest Year Ever Despite The Sec’s “Attack On Crypto”.  Ripple Labs managed to stay strong in 2021 despite the Securities and Exchange Commission (SEC)&#8217;s &#8220;attack on crypto&#8221;, AKA the lawsuit against Ripple and its executives. Now the payments solutions company celebrates its &#8220;strongest year ever&#8221;. Ripple CEO Brad Garlinghouse announced the achievements and had some comments to share about the SEC’s case. Ripple’s first On-Demand Liquidity (ODL) was launched earlier this year during 2021&#8217;s Q3. It is a payments solution that &#8220;allows customers to instantly move money around the world at any time&#8221;. This service first appeared as a corridor between Japan and the Philippines that leveraged the token XRP. They have recently announced Ripple&#8217;s first ODL deployment in the Middle East as well. Related Reading &#124; Ripple Announces New Payment Corridor in Japan As XRP Rallies 23.5%, More Profits Ahead? Now, a Ripple report shows that the XRP-based On-Demand Liquidity payments accounted for 25% of the total dollar volume across RippleNet. Garlinghouse celebrated the results and added that the ODL tokens are up 25x from Q3 2020, and 130% quarter over quarter. &#8220;All of this growth came from outside the US for (sigh) obvious reasons&#8221; tweeted Garlinghouse. Related Reading &#124; Ripple Partners With Republic Of Palau To Develop National Digital Currency The report notes that Ripple&#8217;s ODL users have access to over 20 countries ... ... [| Skaityti daugiau](https://www.newsbtc.com/all/ripple-had-its-strongest-year-ever-despite-the-secs-attack-on-crypto/) "
      ],
      "text/plain": [
       "<IPython.core.display.Markdown object>"
      ]
     },
     "execution_count": 5,
     "metadata": {},
     "output_type": "execute_result"
    }
   ],
   "source": [
    "#hide_input\n",
    "#md('##### {}'.format(titleBTC)) \n",
    "md(\"- {}{} {}{} [| Skaityti daugiau]({}) \".format(xrp['title'],'. ', xrp['body'], ' ...', xrp['url']))"
   ]
  },
  {
   "cell_type": "code",
   "execution_count": 6,
   "id": "prompt-farmer",
   "metadata": {
    "execution": {
     "iopub.execute_input": "2021-12-25T02:03:50.320815Z",
     "iopub.status.busy": "2021-12-25T02:03:50.320215Z",
     "iopub.status.idle": "2021-12-25T02:03:50.322407Z",
     "shell.execute_reply": "2021-12-25T02:03:50.322930Z"
    },
    "papermill": {
     "duration": 0.017058,
     "end_time": "2021-12-25T02:03:50.323052",
     "exception": false,
     "start_time": "2021-12-25T02:03:50.305994",
     "status": "completed"
    },
    "tags": []
   },
   "outputs": [
    {
     "data": {
      "text/markdown": [
       "- TRON ($TRX) Founder Justin Sun to Travel to Space After Charitable Donation.  Ambassador Justin Sun has won his $28 million bid to go to space and he will be taking five crewmates with him. Over the next few months, he’ll select five people, from both his TRON community and from exceptional leaders of the fashion, art, space exploration and entrepreneurship worlds. More details on how this will […] ... [| Skaityti daugiau](https://www.cryptoglobe.com/latest/2021/12/tron-trx-founder-justin-sun-to-travel-to-space-after-charitable-donation/) "
      ],
      "text/plain": [
       "<IPython.core.display.Markdown object>"
      ]
     },
     "execution_count": 6,
     "metadata": {},
     "output_type": "execute_result"
    }
   ],
   "source": [
    "#hide_input\n",
    "#md('##### {}'.format(titleBTC)) \n",
    "md(\"- {}{} {}{} [| Skaityti daugiau]({}) \".format(trx['title'],'. ', trx['body'], ' ...', trx['url']))"
   ]
  },
  {
   "cell_type": "code",
   "execution_count": 7,
   "id": "illegal-greece",
   "metadata": {
    "execution": {
     "iopub.execute_input": "2021-12-25T02:03:50.348579Z",
     "iopub.status.busy": "2021-12-25T02:03:50.348055Z",
     "iopub.status.idle": "2021-12-25T02:03:50.350827Z",
     "shell.execute_reply": "2021-12-25T02:03:50.351301Z"
    },
    "papermill": {
     "duration": 0.017951,
     "end_time": "2021-12-25T02:03:50.351410",
     "exception": false,
     "start_time": "2021-12-25T02:03:50.333459",
     "status": "completed"
    },
    "tags": []
   },
   "outputs": [
    {
     "data": {
      "text/markdown": [
       "- Tesla CEO Elon Musk Reveals Why He’s Pro Dogecoin Amid Debate Over Web3, Ethereum, Decentralization.  Tesla and Spacex CEO Elon Musk has explained why he&#x2019;s pro dogecoin as the debate over web3, Ethereum, and decentralization intensifies. In the same conversation, former Twitter CEO Jack Dorsey insisted that he is not anti-ETH. &#x201C;I&#x2019;m anti-centralized, VC-owned, single point of failure, and corporate-controlled lies,&#x201D; he stressed. Elon Musk Shares Why He&#x2019;s Pro Doge [&#8230;] ... [| Skaityti daugiau](https://news.bitcoin.com/tesla-ceo-elon-musk-why-pro-dogecoin-web3-ethereum-decentralization/) "
      ],
      "text/plain": [
       "<IPython.core.display.Markdown object>"
      ]
     },
     "execution_count": 7,
     "metadata": {},
     "output_type": "execute_result"
    }
   ],
   "source": [
    "#hide_input\n",
    "#md('##### {}'.format(titleBTC)) \n",
    "md(\"- {}{} {}{} [| Skaityti daugiau]({}) \".format(eth['title'],'. ', eth['body'], ' ...', eth['url']))"
   ]
  },
  {
   "cell_type": "code",
   "execution_count": 8,
   "id": "sublime-lounge",
   "metadata": {
    "execution": {
     "iopub.execute_input": "2021-12-25T02:03:50.377393Z",
     "iopub.status.busy": "2021-12-25T02:03:50.376713Z",
     "iopub.status.idle": "2021-12-25T02:03:50.378961Z",
     "shell.execute_reply": "2021-12-25T02:03:50.379506Z"
    },
    "papermill": {
     "duration": 0.017809,
     "end_time": "2021-12-25T02:03:50.379630",
     "exception": false,
     "start_time": "2021-12-25T02:03:50.361821",
     "status": "completed"
    },
    "tags": []
   },
   "outputs": [
    {
     "data": {
      "text/markdown": [
       "- Cardano Likely Targeting 580% Rally, but One Altcoin Looks Even Stronger: Crypto Analyst.  A popular crypto trader says that Cardano (ADA) could surpass its previous all-time highs (ATH) as part of a broader altcoin surge which includes one under-the-radar project he believes will soar. The pseudonymous crypto analyst known as Capo updates his 224,700 Twitter followers about smart contract platform Cardano, whose price action he’s been tracking since [&#8230;]The post Cardano Likely Targeting 580% Rally, but One Altcoin Looks Even Stronger: Crypto Analyst appeared first on The Daily Hodl. ... [| Skaityti daugiau](https://dailyhodl.com/2021/12/24/cardano-likely-targeting-580-rally-but-one-altcoin-looks-even-stronger-crypto-analyst/) "
      ],
      "text/plain": [
       "<IPython.core.display.Markdown object>"
      ]
     },
     "execution_count": 8,
     "metadata": {},
     "output_type": "execute_result"
    }
   ],
   "source": [
    "#hide_input\n",
    "#md('##### {}'.format(titleBTC)) \n",
    "md(\"- {}{} {}{} [| Skaityti daugiau]({}) \".format(ada['title'],'. ', ada['body'], ' ...', ada['url']))"
   ]
  },
  {
   "cell_type": "code",
   "execution_count": 9,
   "id": "specified-ordering",
   "metadata": {
    "execution": {
     "iopub.execute_input": "2021-12-25T02:03:50.409024Z",
     "iopub.status.busy": "2021-12-25T02:03:50.408423Z",
     "iopub.status.idle": "2021-12-25T02:03:50.411163Z",
     "shell.execute_reply": "2021-12-25T02:03:50.411707Z"
    },
    "papermill": {
     "duration": 0.019954,
     "end_time": "2021-12-25T02:03:50.411828",
     "exception": false,
     "start_time": "2021-12-25T02:03:50.391874",
     "status": "completed"
    },
    "tags": []
   },
   "outputs": [
    {
     "data": {
      "text/markdown": [
       "- These 3 Recently Listed Binance Smart Chain Cryptocurrencies on CoinMarketCap Gained Over 100% In Price Today.  One of the most popular ways traders find hot cryptocurrencies is by looking at the recently listed coins on CoinMarketCap. This article goes over the top four recently listed cryptocurrencies on CoinMarketCap that gained over 130% in price today, ordered by 24-hour price gain, lowest to highest. Floki Monk (FLOKIMONK) +100% Floki Monk is a [&#8230;]The post These 3 Recently Listed Binance Smart Chain Cryptocurrencies on CoinMarketCap Gained Over 100% In Price Today appeared first on NullTX. ... [| Skaityti daugiau](https://nulltx.com/these-3-recently-listed-binance-smart-chain-cryptocurrencies-on-coinmarketcap-gained-over-100-in-price-today/) "
      ],
      "text/plain": [
       "<IPython.core.display.Markdown object>"
      ]
     },
     "execution_count": 9,
     "metadata": {},
     "output_type": "execute_result"
    }
   ],
   "source": [
    "#hide_input\n",
    "#md('##### {}'.format(titleBTC)) \n",
    "md(\"- {}{} {}{} [| Skaityti daugiau]({}) \".format(exchange['title'],'. ', exchange['body'], ' ...', exchange['url']))"
   ]
  },
  {
   "cell_type": "code",
   "execution_count": null,
   "id": "tender-livestock",
   "metadata": {
    "papermill": {
     "duration": 0.011245,
     "end_time": "2021-12-25T02:03:50.434692",
     "exception": false,
     "start_time": "2021-12-25T02:03:50.423447",
     "status": "completed"
    },
    "tags": []
   },
   "outputs": [],
   "source": []
  },
  {
   "cell_type": "code",
   "execution_count": null,
   "id": "appreciated-diamond",
   "metadata": {
    "papermill": {
     "duration": 0.011406,
     "end_time": "2021-12-25T02:03:50.457302",
     "exception": false,
     "start_time": "2021-12-25T02:03:50.445896",
     "status": "completed"
    },
    "tags": []
   },
   "outputs": [],
   "source": []
  },
  {
   "cell_type": "code",
   "execution_count": null,
   "id": "romance-sweden",
   "metadata": {
    "papermill": {
     "duration": 0.011014,
     "end_time": "2021-12-25T02:03:50.479396",
     "exception": false,
     "start_time": "2021-12-25T02:03:50.468382",
     "status": "completed"
    },
    "tags": []
   },
   "outputs": [],
   "source": []
  },
  {
   "cell_type": "code",
   "execution_count": null,
   "id": "dietary-statistics",
   "metadata": {
    "papermill": {
     "duration": 0.010985,
     "end_time": "2021-12-25T02:03:50.501442",
     "exception": false,
     "start_time": "2021-12-25T02:03:50.490457",
     "status": "completed"
    },
    "tags": []
   },
   "outputs": [],
   "source": []
  }
 ],
 "metadata": {
  "kernelspec": {
   "display_name": "Python 3",
   "language": "python",
   "name": "python3"
  },
  "language_info": {
   "codemirror_mode": {
    "name": "ipython",
    "version": 3
   },
   "file_extension": ".py",
   "mimetype": "text/x-python",
   "name": "python",
   "nbconvert_exporter": "python",
   "pygments_lexer": "ipython3",
   "version": "3.6.15"
  },
  "papermill": {
   "default_parameters": {},
   "duration": 12.481485,
   "end_time": "2021-12-25T02:03:50.921075",
   "environment_variables": {},
   "exception": null,
   "input_path": "Market-News.ipynb",
   "output_path": "Market-News.ipynb",
   "parameters": {},
   "start_time": "2021-12-25T02:03:38.439590",
   "version": "2.2.2"
  }
 },
 "nbformat": 4,
 "nbformat_minor": 5
}