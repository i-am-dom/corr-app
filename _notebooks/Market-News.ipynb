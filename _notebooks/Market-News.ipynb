{
 "cells": [
  {
   "cell_type": "markdown",
   "id": "short-greensboro",
   "metadata": {
    "papermill": {
     "duration": 0.017025,
     "end_time": "2022-02-13T02:04:47.470870",
     "exception": false,
     "start_time": "2022-02-13T02:04:47.453845",
     "status": "completed"
    },
    "tags": []
   },
   "source": [
    "# Kriptovaliutų naujienos"
   ]
  },
  {
   "cell_type": "code",
   "execution_count": 1,
   "id": "functioning-knowing",
   "metadata": {
    "execution": {
     "iopub.execute_input": "2022-02-13T02:04:47.506515Z",
     "iopub.status.busy": "2022-02-13T02:04:47.505430Z",
     "iopub.status.idle": "2022-02-13T02:04:48.861738Z",
     "shell.execute_reply": "2022-02-13T02:04:48.861183Z"
    },
    "papermill": {
     "duration": 1.38033,
     "end_time": "2022-02-13T02:04:48.861900",
     "exception": false,
     "start_time": "2022-02-13T02:04:47.481570",
     "status": "completed"
    },
    "tags": []
   },
   "outputs": [],
   "source": [
    "#hide_input\n",
    "import warnings\n",
    "warnings.filterwarnings('ignore')\n",
    "from scripts.read_data import read_api\n",
    "from scripts.read_data import read_news\n",
    "from scripts.read_data import read_covid\n",
    "import matplotlib.pyplot as plt \n",
    "from IPython.display import Markdown as md"
   ]
  },
  {
   "cell_type": "code",
   "execution_count": 2,
   "id": "shared-acceptance",
   "metadata": {
    "execution": {
     "iopub.execute_input": "2022-02-13T02:04:48.890365Z",
     "iopub.status.busy": "2022-02-13T02:04:48.889807Z",
     "iopub.status.idle": "2022-02-13T02:04:58.128540Z",
     "shell.execute_reply": "2022-02-13T02:04:58.128013Z"
    },
    "papermill": {
     "duration": 9.256359,
     "end_time": "2022-02-13T02:04:58.128678",
     "exception": false,
     "start_time": "2022-02-13T02:04:48.872319",
     "status": "completed"
    },
    "tags": []
   },
   "outputs": [],
   "source": [
    "#hide_input\n",
    "blockchain = read_news('blockchain') \n",
    "btc = read_news('btc') \n",
    "xrp = read_news('xrp') \n",
    "trx = read_news('trx') \n",
    "eth = read_news('eth')  \n",
    "ada = read_news('ada')\n",
    "exchange = read_news('exchange') "
   ]
  },
  {
   "cell_type": "code",
   "execution_count": 3,
   "id": "synthetic-notion",
   "metadata": {
    "execution": {
     "iopub.execute_input": "2022-02-13T02:04:58.155287Z",
     "iopub.status.busy": "2022-02-13T02:04:58.152845Z",
     "iopub.status.idle": "2022-02-13T02:04:58.158373Z",
     "shell.execute_reply": "2022-02-13T02:04:58.157831Z"
    },
    "papermill": {
     "duration": 0.019725,
     "end_time": "2022-02-13T02:04:58.158485",
     "exception": false,
     "start_time": "2022-02-13T02:04:58.138760",
     "status": "completed"
    },
    "tags": []
   },
   "outputs": [
    {
     "data": {
      "text/markdown": [
       "- Intel Blockchain Chip: The New Crypto Mining Revolution Likely To Begin.  With the rise in popularity and value, many people turn to cryptocurrencies like Bitcoin. So it’s no wonder that Intel has announced a new chip for blockchain applications like NFT’s minting and Bitcoin mining. The blockchain chip will make it easier than ever before possible with just one click. Jack Dorsey-led firm that recently changed [&#8230;] ... [| Skaityti daugiau](https://bitcoinist.com/intel-blockchain-chip-the-new-crypto-mining-revolution-likely-to-begin/) "
      ],
      "text/plain": [
       "<IPython.core.display.Markdown object>"
      ]
     },
     "execution_count": 3,
     "metadata": {},
     "output_type": "execute_result"
    }
   ],
   "source": [
    "#hide_input\n",
    "#md('##### {}'.format(titleBTC)) \n",
    "md(\"- {}{} {}{} [| Skaityti daugiau]({}) \".format(blockchain['title'],'. ', blockchain['body'], ' ...', blockchain['url']))"
   ]
  },
  {
   "cell_type": "code",
   "execution_count": 4,
   "id": "aging-caution",
   "metadata": {
    "execution": {
     "iopub.execute_input": "2022-02-13T02:04:58.184256Z",
     "iopub.status.busy": "2022-02-13T02:04:58.183670Z",
     "iopub.status.idle": "2022-02-13T02:04:58.187732Z",
     "shell.execute_reply": "2022-02-13T02:04:58.187242Z"
    },
    "papermill": {
     "duration": 0.019051,
     "end_time": "2022-02-13T02:04:58.187845",
     "exception": false,
     "start_time": "2022-02-13T02:04:58.168794",
     "status": "completed"
    },
    "tags": []
   },
   "outputs": [
    {
     "data": {
      "text/markdown": [
       "- Netflix Orders Crypto Series About a Couple’s Alleged Scheme to Launder $4.5B in Bitcoin Stolen From Bitfinex.  Netflix has ordered a documentary series about the couple who allegedly laundered billions of dollars from the 2016 Bitfinex hack. Aspiring rapper Heather Morgan and her husband, Ilya &#x201C;Dutch&#x201D; Lichtenstein, were arrested in New York this week. The Department of Justice (DOJ) also seized 94,636 bitcoins stolen from the Bitfinex hack. Documentary Series About the [&#8230;] ... [| Skaityti daugiau](https://news.bitcoin.com/netflix-crypto-series-couples-alleged-scheme-launder-4-5b-in-bitcoin-stolen-bitfinex/) "
      ],
      "text/plain": [
       "<IPython.core.display.Markdown object>"
      ]
     },
     "execution_count": 4,
     "metadata": {},
     "output_type": "execute_result"
    }
   ],
   "source": [
    "#hide_input\n",
    "#md('##### {}'.format(titleBTC)) \n",
    "md(\"- {}{} {}{} [| Skaityti daugiau]({}) \".format(btc['title'],'. ', btc['body'], ' ...', btc['url']))"
   ]
  },
  {
   "cell_type": "code",
   "execution_count": 5,
   "id": "organic-actress",
   "metadata": {
    "execution": {
     "iopub.execute_input": "2022-02-13T02:04:58.213510Z",
     "iopub.status.busy": "2022-02-13T02:04:58.212043Z",
     "iopub.status.idle": "2022-02-13T02:04:58.216644Z",
     "shell.execute_reply": "2022-02-13T02:04:58.216028Z"
    },
    "papermill": {
     "duration": 0.018601,
     "end_time": "2022-02-13T02:04:58.216779",
     "exception": false,
     "start_time": "2022-02-13T02:04:58.198178",
     "status": "completed"
    },
    "tags": []
   },
   "outputs": [
    {
     "data": {
      "text/markdown": [
       "- Ripple’s APAC Policy Director: ‘ODL Can Be Used as a Neutral Bridge Between CBDCs’.  In a recent interview, Rahul Advani, APAC Policy Director at Ripple, talked about RippleNet’s On-Demand Liquidity (ODL) service, which is powered by digital asset XRP. Advani’s comments were made during an interview with financial news platform Bread. When asked how Ripple plans to “adapt to the growing demand for crypto-based cross-border settlements”, he replied: “A […] ... [| Skaityti daugiau](https://www.cryptoglobe.com/latest/2022/02/ripples-apac-policy-director-odl-can-be-used-as-a-neutral-bridge-between-cbdcs/) "
      ],
      "text/plain": [
       "<IPython.core.display.Markdown object>"
      ]
     },
     "execution_count": 5,
     "metadata": {},
     "output_type": "execute_result"
    }
   ],
   "source": [
    "#hide_input\n",
    "#md('##### {}'.format(titleBTC)) \n",
    "md(\"- {}{} {}{} [| Skaityti daugiau]({}) \".format(xrp['title'],'. ', xrp['body'], ' ...', xrp['url']))"
   ]
  },
  {
   "cell_type": "code",
   "execution_count": 6,
   "id": "prompt-farmer",
   "metadata": {
    "execution": {
     "iopub.execute_input": "2022-02-13T02:04:58.244276Z",
     "iopub.status.busy": "2022-02-13T02:04:58.243697Z",
     "iopub.status.idle": "2022-02-13T02:04:58.246838Z",
     "shell.execute_reply": "2022-02-13T02:04:58.246236Z"
    },
    "papermill": {
     "duration": 0.019068,
     "end_time": "2022-02-13T02:04:58.246954",
     "exception": false,
     "start_time": "2022-02-13T02:04:58.227886",
     "status": "completed"
    },
    "tags": []
   },
   "outputs": [
    {
     "data": {
      "text/markdown": [
       "- XRP, Tron, Chiliz Price Analysis: 10 February.  With the global crypto market cap re-entering above the $2T-zone, the gap between XRP&#8217;s EMA ribbons widened. Thus, entailing a heightened bullish vigor. But its near-term technicals gave mixed signs. Besides, Tron and Chiliz saw reversal patterns on their 4-hour charts while forming a bearish divergence with their RSIs. XRP Since losing the $0.083-mark on [&#8230;] ... [| Skaityti daugiau](https://ambcrypto.com/xrp-tron-chiliz-price-analysis-10-february/) "
      ],
      "text/plain": [
       "<IPython.core.display.Markdown object>"
      ]
     },
     "execution_count": 6,
     "metadata": {},
     "output_type": "execute_result"
    }
   ],
   "source": [
    "#hide_input\n",
    "#md('##### {}'.format(titleBTC)) \n",
    "md(\"- {}{} {}{} [| Skaityti daugiau]({}) \".format(trx['title'],'. ', trx['body'], ' ...', trx['url']))"
   ]
  },
  {
   "cell_type": "code",
   "execution_count": 7,
   "id": "illegal-greece",
   "metadata": {
    "execution": {
     "iopub.execute_input": "2022-02-13T02:04:58.275191Z",
     "iopub.status.busy": "2022-02-13T02:04:58.273729Z",
     "iopub.status.idle": "2022-02-13T02:04:58.279003Z",
     "shell.execute_reply": "2022-02-13T02:04:58.279522Z"
    },
    "papermill": {
     "duration": 0.021216,
     "end_time": "2022-02-13T02:04:58.279639",
     "exception": false,
     "start_time": "2022-02-13T02:04:58.258423",
     "status": "completed"
    },
    "tags": []
   },
   "outputs": [
    {
     "data": {
      "text/markdown": [
       "- Bud Light to Give NFT Holders Physical Glasses Inspired by Nouns NFTs.  Holders of N3XT NFTs can now lay claim to a \"very real\" physical perk. ... [| Skaityti daugiau](https://decrypt.co/92809/bud-light-to-give-nft-holders-physical-glasses-inspired-by-nouns-nfts) "
      ],
      "text/plain": [
       "<IPython.core.display.Markdown object>"
      ]
     },
     "execution_count": 7,
     "metadata": {},
     "output_type": "execute_result"
    }
   ],
   "source": [
    "#hide_input\n",
    "#md('##### {}'.format(titleBTC)) \n",
    "md(\"- {}{} {}{} [| Skaityti daugiau]({}) \".format(eth['title'],'. ', eth['body'], ' ...', eth['url']))"
   ]
  },
  {
   "cell_type": "code",
   "execution_count": 8,
   "id": "sublime-lounge",
   "metadata": {
    "execution": {
     "iopub.execute_input": "2022-02-13T02:04:58.307057Z",
     "iopub.status.busy": "2022-02-13T02:04:58.306300Z",
     "iopub.status.idle": "2022-02-13T02:04:58.310398Z",
     "shell.execute_reply": "2022-02-13T02:04:58.309901Z"
    },
    "papermill": {
     "duration": 0.020139,
     "end_time": "2022-02-13T02:04:58.310508",
     "exception": false,
     "start_time": "2022-02-13T02:04:58.290369",
     "status": "completed"
    },
    "tags": []
   },
   "outputs": [
    {
     "data": {
      "text/markdown": [
       "- Shibainfinity Shinu Token Pre-Sale On Cardano Network.  Integrating virtual reality technology has become the trend and most creators and investors are interested in VR tech. Shibainfinity isThe post has appeared first on thenewscrypto.com ... [| Skaityti daugiau](https://thenewscrypto.com/shibainfinity-shinu-token-pre-sale-on-cardano-network/) "
      ],
      "text/plain": [
       "<IPython.core.display.Markdown object>"
      ]
     },
     "execution_count": 8,
     "metadata": {},
     "output_type": "execute_result"
    }
   ],
   "source": [
    "#hide_input\n",
    "#md('##### {}'.format(titleBTC)) \n",
    "md(\"- {}{} {}{} [| Skaityti daugiau]({}) \".format(ada['title'],'. ', ada['body'], ' ...', ada['url']))"
   ]
  },
  {
   "cell_type": "code",
   "execution_count": 9,
   "id": "specified-ordering",
   "metadata": {
    "execution": {
     "iopub.execute_input": "2022-02-13T02:04:58.339840Z",
     "iopub.status.busy": "2022-02-13T02:04:58.339124Z",
     "iopub.status.idle": "2022-02-13T02:04:58.343504Z",
     "shell.execute_reply": "2022-02-13T02:04:58.343102Z"
    },
    "papermill": {
     "duration": 0.021185,
     "end_time": "2022-02-13T02:04:58.343594",
     "exception": false,
     "start_time": "2022-02-13T02:04:58.322409",
     "status": "completed"
    },
    "tags": []
   },
   "outputs": [
    {
     "data": {
      "text/markdown": [
       "- Report: BlockFi Inc. might have to shed $100 million to settle with the regulators.  Bloomberg reported citing sources that BlockFi Inc. might have to pay $100 million to settle with the Securities and Exchange Commission (SEC) and the state regulators. The allegations include offering a high interest-bearing product illegally via lending out digital tokens. An official statement around penalties is expected next week as the SEC tightens regulations. Here [&#8230;] ... [| Skaityti daugiau](https://ambcrypto.com/report-blockfi-inc-might-have-to-shed-100-million-to-settle-with-the-regulators/) "
      ],
      "text/plain": [
       "<IPython.core.display.Markdown object>"
      ]
     },
     "execution_count": 9,
     "metadata": {},
     "output_type": "execute_result"
    }
   ],
   "source": [
    "#hide_input\n",
    "#md('##### {}'.format(titleBTC)) \n",
    "md(\"- {}{} {}{} [| Skaityti daugiau]({}) \".format(exchange['title'],'. ', exchange['body'], ' ...', exchange['url']))"
   ]
  },
  {
   "cell_type": "code",
   "execution_count": null,
   "id": "tender-livestock",
   "metadata": {
    "papermill": {
     "duration": 0.012499,
     "end_time": "2022-02-13T02:04:58.367789",
     "exception": false,
     "start_time": "2022-02-13T02:04:58.355290",
     "status": "completed"
    },
    "tags": []
   },
   "outputs": [],
   "source": []
  },
  {
   "cell_type": "code",
   "execution_count": null,
   "id": "appreciated-diamond",
   "metadata": {
    "papermill": {
     "duration": 0.012145,
     "end_time": "2022-02-13T02:04:58.392151",
     "exception": false,
     "start_time": "2022-02-13T02:04:58.380006",
     "status": "completed"
    },
    "tags": []
   },
   "outputs": [],
   "source": []
  },
  {
   "cell_type": "code",
   "execution_count": null,
   "id": "romance-sweden",
   "metadata": {
    "papermill": {
     "duration": 0.011555,
     "end_time": "2022-02-13T02:04:58.416708",
     "exception": false,
     "start_time": "2022-02-13T02:04:58.405153",
     "status": "completed"
    },
    "tags": []
   },
   "outputs": [],
   "source": []
  },
  {
   "cell_type": "code",
   "execution_count": null,
   "id": "dietary-statistics",
   "metadata": {
    "papermill": {
     "duration": 0.011671,
     "end_time": "2022-02-13T02:04:58.440084",
     "exception": false,
     "start_time": "2022-02-13T02:04:58.428413",
     "status": "completed"
    },
    "tags": []
   },
   "outputs": [],
   "source": []
  }
 ],
 "metadata": {
  "kernelspec": {
   "display_name": "Python 3",
   "language": "python",
   "name": "python3"
  },
  "language_info": {
   "codemirror_mode": {
    "name": "ipython",
    "version": 3
   },
   "file_extension": ".py",
   "mimetype": "text/x-python",
   "name": "python",
   "nbconvert_exporter": "python",
   "pygments_lexer": "ipython3",
   "version": "3.6.15"
  },
  "papermill": {
   "default_parameters": {},
   "duration": 12.689257,
   "end_time": "2022-02-13T02:04:58.872362",
   "environment_variables": {},
   "exception": null,
   "input_path": "Market-News.ipynb",
   "output_path": "Market-News.ipynb",
   "parameters": {},
   "start_time": "2022-02-13T02:04:46.183105",
   "version": "2.2.2"
  }
 },
 "nbformat": 4,
 "nbformat_minor": 5
}