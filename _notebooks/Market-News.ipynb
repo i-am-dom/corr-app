{
 "cells": [
  {
   "cell_type": "markdown",
   "id": "short-greensboro",
   "metadata": {
    "papermill": {
     "duration": 0.013107,
     "end_time": "2021-11-07T02:02:58.005358",
     "exception": false,
     "start_time": "2021-11-07T02:02:57.992251",
     "status": "completed"
    },
    "tags": []
   },
   "source": [
    "# Kriptovaliutų naujienos"
   ]
  },
  {
   "cell_type": "code",
   "execution_count": 1,
   "id": "functioning-knowing",
   "metadata": {
    "execution": {
     "iopub.execute_input": "2021-11-07T02:02:58.034986Z",
     "iopub.status.busy": "2021-11-07T02:02:58.034451Z",
     "iopub.status.idle": "2021-11-07T02:02:59.255446Z",
     "shell.execute_reply": "2021-11-07T02:02:59.256228Z"
    },
    "papermill": {
     "duration": 1.241325,
     "end_time": "2021-11-07T02:02:59.256420",
     "exception": false,
     "start_time": "2021-11-07T02:02:58.015095",
     "status": "completed"
    },
    "tags": []
   },
   "outputs": [],
   "source": [
    "#hide_input\n",
    "import warnings\n",
    "warnings.filterwarnings('ignore')\n",
    "from scripts.read_data import read_api\n",
    "from scripts.read_data import read_news\n",
    "from scripts.read_data import read_covid\n",
    "import matplotlib.pyplot as plt \n",
    "from IPython.display import Markdown as md"
   ]
  },
  {
   "cell_type": "code",
   "execution_count": 2,
   "id": "shared-acceptance",
   "metadata": {
    "execution": {
     "iopub.execute_input": "2021-11-07T02:02:59.280785Z",
     "iopub.status.busy": "2021-11-07T02:02:59.280248Z",
     "iopub.status.idle": "2021-11-07T02:03:08.558706Z",
     "shell.execute_reply": "2021-11-07T02:03:08.557751Z"
    },
    "papermill": {
     "duration": 9.293132,
     "end_time": "2021-11-07T02:03:08.558851",
     "exception": false,
     "start_time": "2021-11-07T02:02:59.265719",
     "status": "completed"
    },
    "tags": []
   },
   "outputs": [],
   "source": [
    "#hide_input\n",
    "blockchain = read_news('blockchain') \n",
    "btc = read_news('btc') \n",
    "xrp = read_news('xrp') \n",
    "trx = read_news('trx') \n",
    "eth = read_news('eth')  \n",
    "ada = read_news('ada')\n",
    "exchange = read_news('exchange') "
   ]
  },
  {
   "cell_type": "code",
   "execution_count": 3,
   "id": "synthetic-notion",
   "metadata": {
    "execution": {
     "iopub.execute_input": "2021-11-07T02:03:08.583484Z",
     "iopub.status.busy": "2021-11-07T02:03:08.582966Z",
     "iopub.status.idle": "2021-11-07T02:03:08.585290Z",
     "shell.execute_reply": "2021-11-07T02:03:08.585676Z"
    },
    "papermill": {
     "duration": 0.017617,
     "end_time": "2021-11-07T02:03:08.585807",
     "exception": false,
     "start_time": "2021-11-07T02:03:08.568190",
     "status": "completed"
    },
    "tags": []
   },
   "outputs": [
    {
     "data": {
      "text/markdown": [
       "- Polygon Reveals Details About Its Future Collaboration With LBank During AMA.  PRESS RELEASE. Recently, LBank Exchange held an AMA session with the Polygon team, discussing Polygon&#x2019;s achievements, collaborations, NFT and Gaming markets, Nightfall solution, future plans and so on. Here&#x2019;s the summary of this AMA. Ethereum is the blockchain development platform of choice, but it has limitations such as low throughput, poor UX, and no sovereignty. [&#8230;] ... [| Skaityti daugiau](https://news.bitcoin.com/polygon-reveals-details-about-its-future-collaboration-with-lbank-during-ama/) "
      ],
      "text/plain": [
       "<IPython.core.display.Markdown object>"
      ]
     },
     "execution_count": 3,
     "metadata": {},
     "output_type": "execute_result"
    }
   ],
   "source": [
    "#hide_input\n",
    "#md('##### {}'.format(titleBTC)) \n",
    "md(\"- {}{} {}{} [| Skaityti daugiau]({}) \".format(blockchain['title'],'. ', blockchain['body'], ' ...', blockchain['url']))"
   ]
  },
  {
   "cell_type": "code",
   "execution_count": 4,
   "id": "aging-caution",
   "metadata": {
    "execution": {
     "iopub.execute_input": "2021-11-07T02:03:08.609082Z",
     "iopub.status.busy": "2021-11-07T02:03:08.608497Z",
     "iopub.status.idle": "2021-11-07T02:03:08.611282Z",
     "shell.execute_reply": "2021-11-07T02:03:08.611688Z"
    },
    "papermill": {
     "duration": 0.016726,
     "end_time": "2021-11-07T02:03:08.611813",
     "exception": false,
     "start_time": "2021-11-07T02:03:08.595087",
     "status": "completed"
    },
    "tags": []
   },
   "outputs": [
    {
     "data": {
      "text/markdown": [
       "- Here’s why JP Morgan analysts recommend Ethereum over Bitcoin.  The rivalry between the top two cryptocurrencies, Bitcoin and Ether, has been messy and long drawn out. And this has presented an omnipresent dilemma for potential investors. While each currency has its own competing qualities, analysts at financial services firm JP Morgan have asserted that investors would be better off holding Ethereum rather than Bitcoin [&#8230;] ... [| Skaityti daugiau](https://ambcrypto.com/heres-why-jp-morgan-analysts-recommend-ethereum-over-bitcoin/) "
      ],
      "text/plain": [
       "<IPython.core.display.Markdown object>"
      ]
     },
     "execution_count": 4,
     "metadata": {},
     "output_type": "execute_result"
    }
   ],
   "source": [
    "#hide_input\n",
    "#md('##### {}'.format(titleBTC)) \n",
    "md(\"- {}{} {}{} [| Skaityti daugiau]({}) \".format(btc['title'],'. ', btc['body'], ' ...', btc['url']))"
   ]
  },
  {
   "cell_type": "code",
   "execution_count": 5,
   "id": "organic-actress",
   "metadata": {
    "execution": {
     "iopub.execute_input": "2021-11-07T02:03:08.635726Z",
     "iopub.status.busy": "2021-11-07T02:03:08.635181Z",
     "iopub.status.idle": "2021-11-07T02:03:08.638012Z",
     "shell.execute_reply": "2021-11-07T02:03:08.638393Z"
    },
    "papermill": {
     "duration": 0.017097,
     "end_time": "2021-11-07T02:03:08.638518",
     "exception": false,
     "start_time": "2021-11-07T02:03:08.621421",
     "status": "completed"
    },
    "tags": []
   },
   "outputs": [
    {
     "data": {
      "text/markdown": [
       "- XRP, Chainlink, Litecoin Price Analysis: 06 November.  The altcoin industry observed a plunge as the prices dipped for the majority of the alts. As a result, altcoins like XRP, Chainlink, and Litecoin noted losses on their daily charts. Near-term technical indications for all the above alts suggested a decreasing buying momentum and favored the sellers. XRP XRP oscillated in a downtrend between [&#8230;] ... [| Skaityti daugiau](https://ambcrypto.com/xrp-chainlink-litecoin-price-analysis-06-november/) "
      ],
      "text/plain": [
       "<IPython.core.display.Markdown object>"
      ]
     },
     "execution_count": 5,
     "metadata": {},
     "output_type": "execute_result"
    }
   ],
   "source": [
    "#hide_input\n",
    "#md('##### {}'.format(titleBTC)) \n",
    "md(\"- {}{} {}{} [| Skaityti daugiau]({}) \".format(xrp['title'],'. ', xrp['body'], ' ...', xrp['url']))"
   ]
  },
  {
   "cell_type": "code",
   "execution_count": 6,
   "id": "prompt-farmer",
   "metadata": {
    "execution": {
     "iopub.execute_input": "2021-11-07T02:03:08.662152Z",
     "iopub.status.busy": "2021-11-07T02:03:08.661139Z",
     "iopub.status.idle": "2021-11-07T02:03:08.664934Z",
     "shell.execute_reply": "2021-11-07T02:03:08.664531Z"
    },
    "papermill": {
     "duration": 0.016722,
     "end_time": "2021-11-07T02:03:08.665058",
     "exception": false,
     "start_time": "2021-11-07T02:03:08.648336",
     "status": "completed"
    },
    "tags": []
   },
   "outputs": [
    {
     "data": {
      "text/markdown": [
       "- Tron outshines Ethereum, Cardano in these aspects; shows potential for further growth.  In the world of top altcoins like Ethereum, Cardano, and others, alts with smaller market value get very little chance to prove their worth. But, when they do, it&#8217;s worth all the attention. One such alt is Tron (TRX), the brainchild of Justin Sun. The coin is being anticipated to perform exceptionally well in the [&#8230;] ... [| Skaityti daugiau](https://ambcrypto.com/tron-outshines-ethereum-cardano-in-these-aspects-shows-potential-for-further-growth/) "
      ],
      "text/plain": [
       "<IPython.core.display.Markdown object>"
      ]
     },
     "execution_count": 6,
     "metadata": {},
     "output_type": "execute_result"
    }
   ],
   "source": [
    "#hide_input\n",
    "#md('##### {}'.format(titleBTC)) \n",
    "md(\"- {}{} {}{} [| Skaityti daugiau]({}) \".format(trx['title'],'. ', trx['body'], ' ...', trx['url']))"
   ]
  },
  {
   "cell_type": "code",
   "execution_count": 7,
   "id": "illegal-greece",
   "metadata": {
    "execution": {
     "iopub.execute_input": "2021-11-07T02:03:08.689420Z",
     "iopub.status.busy": "2021-11-07T02:03:08.688408Z",
     "iopub.status.idle": "2021-11-07T02:03:08.692196Z",
     "shell.execute_reply": "2021-11-07T02:03:08.691796Z"
    },
    "papermill": {
     "duration": 0.016869,
     "end_time": "2021-11-07T02:03:08.692296",
     "exception": false,
     "start_time": "2021-11-07T02:03:08.675427",
     "status": "completed"
    },
    "tags": []
   },
   "outputs": [
    {
     "data": {
      "text/markdown": [
       "- Here’s why JP Morgan analysts recommend Ethereum over Bitcoin.  The rivalry between the top two cryptocurrencies, Bitcoin and Ether, has been messy and long drawn out. And this has presented an omnipresent dilemma for potential investors. While each currency has its own competing qualities, analysts at financial services firm JP Morgan have asserted that investors would be better off holding Ethereum rather than Bitcoin [&#8230;] ... [| Skaityti daugiau](https://ambcrypto.com/heres-why-jp-morgan-analysts-recommend-ethereum-over-bitcoin/) "
      ],
      "text/plain": [
       "<IPython.core.display.Markdown object>"
      ]
     },
     "execution_count": 7,
     "metadata": {},
     "output_type": "execute_result"
    }
   ],
   "source": [
    "#hide_input\n",
    "#md('##### {}'.format(titleBTC)) \n",
    "md(\"- {}{} {}{} [| Skaityti daugiau]({}) \".format(eth['title'],'. ', eth['body'], ' ...', eth['url']))"
   ]
  },
  {
   "cell_type": "code",
   "execution_count": 8,
   "id": "sublime-lounge",
   "metadata": {
    "execution": {
     "iopub.execute_input": "2021-11-07T02:03:08.717702Z",
     "iopub.status.busy": "2021-11-07T02:03:08.717188Z",
     "iopub.status.idle": "2021-11-07T02:03:08.719948Z",
     "shell.execute_reply": "2021-11-07T02:03:08.720431Z"
    },
    "papermill": {
     "duration": 0.017785,
     "end_time": "2021-11-07T02:03:08.720543",
     "exception": false,
     "start_time": "2021-11-07T02:03:08.702758",
     "status": "completed"
    },
    "tags": []
   },
   "outputs": [
    {
     "data": {
      "text/markdown": [
       "- This Is What You Can Expect From Ripple (XRP) and Cardano (ADA) This Weekend!.  The post This Is What You Can Expect From Ripple (XRP) and Cardano (ADA) This Weekend! appeared first on Coinpedia - Fintech &amp; Cryptocurreny News Media| Crypto GuideThe fourth quarter has been pretty bland for XRP and ADA, while Uptomber wasn’t really up for the duo. The coins have been sitting idle, with the start of November. Which has been Moonvember for several coins, especially the ones based on memes. However, enthusiasts in favor of the duo remain optimistic with the price &#8230; ... [| Skaityti daugiau](https://coinpedia.org/price-analysis/what-to-expect-from-ripple-xrp-and-cardano-ada-this-weekend/) "
      ],
      "text/plain": [
       "<IPython.core.display.Markdown object>"
      ]
     },
     "execution_count": 8,
     "metadata": {},
     "output_type": "execute_result"
    }
   ],
   "source": [
    "#hide_input\n",
    "#md('##### {}'.format(titleBTC)) \n",
    "md(\"- {}{} {}{} [| Skaityti daugiau]({}) \".format(ada['title'],'. ', ada['body'], ' ...', ada['url']))"
   ]
  },
  {
   "cell_type": "code",
   "execution_count": 9,
   "id": "specified-ordering",
   "metadata": {
    "execution": {
     "iopub.execute_input": "2021-11-07T02:03:08.747025Z",
     "iopub.status.busy": "2021-11-07T02:03:08.746440Z",
     "iopub.status.idle": "2021-11-07T02:03:08.748663Z",
     "shell.execute_reply": "2021-11-07T02:03:08.749180Z"
    },
    "papermill": {
     "duration": 0.017976,
     "end_time": "2021-11-07T02:03:08.749314",
     "exception": false,
     "start_time": "2021-11-07T02:03:08.731338",
     "status": "completed"
    },
    "tags": []
   },
   "outputs": [
    {
     "data": {
      "text/markdown": [
       "- Commonwealth Bank in Australia Will Give Customers Access to Crypto.  A major bank in Australia known as the Commonwealth Bank will allow users to buy and sell cryptocurrencies through its app. This is a first for such a major institution in the Outback nation. The Commonwealth Bank Is Bringing Crypto to Customers The bank has established partnerships with firms such as the Gemini Exchange in...The post Commonwealth Bank in Australia Will Give Customers Access to Crypto appeared first on Live Bitcoin News. ... [| Skaityti daugiau](https://www.livebitcoinnews.com/commonwealth-bank-in-australia-will-give-customers-access-to-crypto/) "
      ],
      "text/plain": [
       "<IPython.core.display.Markdown object>"
      ]
     },
     "execution_count": 9,
     "metadata": {},
     "output_type": "execute_result"
    }
   ],
   "source": [
    "#hide_input\n",
    "#md('##### {}'.format(titleBTC)) \n",
    "md(\"- {}{} {}{} [| Skaityti daugiau]({}) \".format(exchange['title'],'. ', exchange['body'], ' ...', exchange['url']))"
   ]
  },
  {
   "cell_type": "code",
   "execution_count": null,
   "id": "tender-livestock",
   "metadata": {
    "papermill": {
     "duration": 0.011213,
     "end_time": "2021-11-07T02:03:08.772054",
     "exception": false,
     "start_time": "2021-11-07T02:03:08.760841",
     "status": "completed"
    },
    "tags": []
   },
   "outputs": [],
   "source": []
  },
  {
   "cell_type": "code",
   "execution_count": null,
   "id": "appreciated-diamond",
   "metadata": {
    "papermill": {
     "duration": 0.011081,
     "end_time": "2021-11-07T02:03:08.794530",
     "exception": false,
     "start_time": "2021-11-07T02:03:08.783449",
     "status": "completed"
    },
    "tags": []
   },
   "outputs": [],
   "source": []
  },
  {
   "cell_type": "code",
   "execution_count": null,
   "id": "romance-sweden",
   "metadata": {
    "papermill": {
     "duration": 0.011108,
     "end_time": "2021-11-07T02:03:08.816819",
     "exception": false,
     "start_time": "2021-11-07T02:03:08.805711",
     "status": "completed"
    },
    "tags": []
   },
   "outputs": [],
   "source": []
  },
  {
   "cell_type": "code",
   "execution_count": null,
   "id": "dietary-statistics",
   "metadata": {
    "papermill": {
     "duration": 0.011051,
     "end_time": "2021-11-07T02:03:08.838955",
     "exception": false,
     "start_time": "2021-11-07T02:03:08.827904",
     "status": "completed"
    },
    "tags": []
   },
   "outputs": [],
   "source": []
  }
 ],
 "metadata": {
  "kernelspec": {
   "display_name": "Python 3",
   "language": "python",
   "name": "python3"
  },
  "language_info": {
   "codemirror_mode": {
    "name": "ipython",
    "version": 3
   },
   "file_extension": ".py",
   "mimetype": "text/x-python",
   "name": "python",
   "nbconvert_exporter": "python",
   "pygments_lexer": "ipython3",
   "version": "3.6.15"
  },
  "papermill": {
   "default_parameters": {},
   "duration": 12.542753,
   "end_time": "2021-11-07T02:03:09.360347",
   "environment_variables": {},
   "exception": null,
   "input_path": "Market-News.ipynb",
   "output_path": "Market-News.ipynb",
   "parameters": {},
   "start_time": "2021-11-07T02:02:56.817594",
   "version": "2.2.2"
  }
 },
 "nbformat": 4,
 "nbformat_minor": 5
}