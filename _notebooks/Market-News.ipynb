{
 "cells": [
  {
   "cell_type": "markdown",
   "id": "short-greensboro",
   "metadata": {
    "papermill": {
     "duration": 0.012836,
     "end_time": "2021-08-14T01:54:20.348122",
     "exception": false,
     "start_time": "2021-08-14T01:54:20.335286",
     "status": "completed"
    },
    "tags": []
   },
   "source": [
    "# Kriptovaliutų naujienos"
   ]
  },
  {
   "cell_type": "code",
   "execution_count": 1,
   "id": "functioning-knowing",
   "metadata": {
    "execution": {
     "iopub.execute_input": "2021-08-14T01:54:20.376736Z",
     "iopub.status.busy": "2021-08-14T01:54:20.376234Z",
     "iopub.status.idle": "2021-08-14T01:54:21.503594Z",
     "shell.execute_reply": "2021-08-14T01:54:21.503073Z"
    },
    "papermill": {
     "duration": 1.146174,
     "end_time": "2021-08-14T01:54:21.503741",
     "exception": false,
     "start_time": "2021-08-14T01:54:20.357567",
     "status": "completed"
    },
    "tags": []
   },
   "outputs": [],
   "source": [
    "#hide_input\n",
    "import warnings\n",
    "warnings.filterwarnings('ignore')\n",
    "from scripts.read_data import read_api\n",
    "from scripts.read_data import read_news\n",
    "from scripts.read_data import read_covid\n",
    "import matplotlib.pyplot as plt \n",
    "from IPython.display import Markdown as md"
   ]
  },
  {
   "cell_type": "code",
   "execution_count": 2,
   "id": "shared-acceptance",
   "metadata": {
    "execution": {
     "iopub.execute_input": "2021-08-14T01:54:21.527446Z",
     "iopub.status.busy": "2021-08-14T01:54:21.526952Z",
     "iopub.status.idle": "2021-08-14T01:54:29.456395Z",
     "shell.execute_reply": "2021-08-14T01:54:29.455538Z"
    },
    "papermill": {
     "duration": 7.94352,
     "end_time": "2021-08-14T01:54:29.456527",
     "exception": false,
     "start_time": "2021-08-14T01:54:21.513007",
     "status": "completed"
    },
    "tags": []
   },
   "outputs": [],
   "source": [
    "#hide_input\n",
    "blockchain = read_news('blockchain') \n",
    "btc = read_news('btc') \n",
    "xrp = read_news('xrp') \n",
    "trx = read_news('trx') \n",
    "eth = read_news('eth')  \n",
    "ada = read_news('ada')\n",
    "exchange = read_news('exchange') "
   ]
  },
  {
   "cell_type": "code",
   "execution_count": 3,
   "id": "synthetic-notion",
   "metadata": {
    "execution": {
     "iopub.execute_input": "2021-08-14T01:54:29.479958Z",
     "iopub.status.busy": "2021-08-14T01:54:29.479466Z",
     "iopub.status.idle": "2021-08-14T01:54:29.482086Z",
     "shell.execute_reply": "2021-08-14T01:54:29.482458Z"
    },
    "papermill": {
     "duration": 0.016825,
     "end_time": "2021-08-14T01:54:29.482575",
     "exception": false,
     "start_time": "2021-08-14T01:54:29.465750",
     "status": "completed"
    },
    "tags": []
   },
   "outputs": [
    {
     "data": {
      "text/markdown": [
       "- Cirus Foundation Partners With Polygon.  Cirus Foundation has announced its partnership with Polygon as the key step in enhancing the functionality of the Cirus ecosystem by using full-stack Ethereum scaling solutions. Enhanced security, high transaction speeds, and the ability to easily bridge between different blockchains are few among the many benefits that Cirus Ecosystem will now offer its users, based [&#8230;]The post Cirus Foundation Partners With Polygon  appeared first on The Daily Hodl. ... [| Skaityti daugiau](https://dailyhodl.com/2021/08/13/cirus-foundation-partners-with-polygon/) "
      ],
      "text/plain": [
       "<IPython.core.display.Markdown object>"
      ]
     },
     "execution_count": 3,
     "metadata": {},
     "output_type": "execute_result"
    }
   ],
   "source": [
    "#hide_input\n",
    "#md('##### {}'.format(titleBTC)) \n",
    "md(\"- {}{} {}{} [| Skaityti daugiau]({}) \".format(blockchain['title'],'. ', blockchain['body'], ' ...', blockchain['url']))"
   ]
  },
  {
   "cell_type": "code",
   "execution_count": 4,
   "id": "aging-caution",
   "metadata": {
    "execution": {
     "iopub.execute_input": "2021-08-14T01:54:29.504857Z",
     "iopub.status.busy": "2021-08-14T01:54:29.504365Z",
     "iopub.status.idle": "2021-08-14T01:54:29.507326Z",
     "shell.execute_reply": "2021-08-14T01:54:29.506929Z"
    },
    "papermill": {
     "duration": 0.015736,
     "end_time": "2021-08-14T01:54:29.507433",
     "exception": false,
     "start_time": "2021-08-14T01:54:29.491697",
     "status": "completed"
    },
    "tags": []
   },
   "outputs": [
    {
     "data": {
      "text/markdown": [
       "- Bitcoin Hurdles Over the $47K Zone, Crypto Economy Nears $2 Trillion.  The price of bitcoin jumped over the $47K handle on Friday afternoon and at 4:15 p.m. (EDT) the price tapped $47,929 per unit. Bitcoin has jumped over 8% today and is more than 45% up over the course of the last month. Bitcoin&#8217;s Value Jumped 45% Last Month The crypto economy grew to around $1.99 [&#8230;] ... [| Skaityti daugiau](https://news.bitcoin.com/bitcoin-hurdles-over-the-47k-zone-crypto-economy-nears-2-trillion/) "
      ],
      "text/plain": [
       "<IPython.core.display.Markdown object>"
      ]
     },
     "execution_count": 4,
     "metadata": {},
     "output_type": "execute_result"
    }
   ],
   "source": [
    "#hide_input\n",
    "#md('##### {}'.format(titleBTC)) \n",
    "md(\"- {}{} {}{} [| Skaityti daugiau]({}) \".format(btc['title'],'. ', btc['body'], ' ...', btc['url']))"
   ]
  },
  {
   "cell_type": "code",
   "execution_count": 5,
   "id": "organic-actress",
   "metadata": {
    "execution": {
     "iopub.execute_input": "2021-08-14T01:54:29.530204Z",
     "iopub.status.busy": "2021-08-14T01:54:29.529153Z",
     "iopub.status.idle": "2021-08-14T01:54:29.533050Z",
     "shell.execute_reply": "2021-08-14T01:54:29.532665Z"
    },
    "papermill": {
     "duration": 0.016319,
     "end_time": "2021-08-14T01:54:29.533148",
     "exception": false,
     "start_time": "2021-08-14T01:54:29.516829",
     "status": "completed"
    },
    "tags": []
   },
   "outputs": [
    {
     "data": {
      "text/markdown": [
       "- XRP, Dogecoin and Bitcoin Cash Price Analysis: August 13.  XRP gained substantially and continued to trade above the dollar mark at $1.02 while eyeing $1.08 resistance. Dogecoin rose by 5.3% while BCH prepared to target $644 next. XRP XRP gained 6.3% over the last 24 hours; the alt was trading at $1.02. The first resistance for XRP lay at $1.08, however, at the current [&#8230;] ... [| Skaityti daugiau](https://ambcrypto.com/xrp-dogecoin-and-bitcoin-cash-price-analysis-august-13/) "
      ],
      "text/plain": [
       "<IPython.core.display.Markdown object>"
      ]
     },
     "execution_count": 5,
     "metadata": {},
     "output_type": "execute_result"
    }
   ],
   "source": [
    "#hide_input\n",
    "#md('##### {}'.format(titleBTC)) \n",
    "md(\"- {}{} {}{} [| Skaityti daugiau]({}) \".format(xrp['title'],'. ', xrp['body'], ' ...', xrp['url']))"
   ]
  },
  {
   "cell_type": "code",
   "execution_count": 6,
   "id": "prompt-farmer",
   "metadata": {
    "execution": {
     "iopub.execute_input": "2021-08-14T01:54:29.556410Z",
     "iopub.status.busy": "2021-08-14T01:54:29.555923Z",
     "iopub.status.idle": "2021-08-14T01:54:29.558621Z",
     "shell.execute_reply": "2021-08-14T01:54:29.558210Z"
    },
    "papermill": {
     "duration": 0.015787,
     "end_time": "2021-08-14T01:54:29.558716",
     "exception": false,
     "start_time": "2021-08-14T01:54:29.542929",
     "status": "completed"
    },
    "tags": []
   },
   "outputs": [
    {
     "data": {
      "text/markdown": [
       "- XRP, ADA, and Other Altcoins Show Positive Bullish Signs.  As Bitcoin rallies, so are many other altcoins. At the moment, ADA, XRP, IOTX, XDC, TRX, and MATIC are showing ... [| Skaityti daugiau](https://coinquora.com/xrp-ada-and-other-altcoins-show-positive-bullish-signs/) "
      ],
      "text/plain": [
       "<IPython.core.display.Markdown object>"
      ]
     },
     "execution_count": 6,
     "metadata": {},
     "output_type": "execute_result"
    }
   ],
   "source": [
    "#hide_input\n",
    "#md('##### {}'.format(titleBTC)) \n",
    "md(\"- {}{} {}{} [| Skaityti daugiau]({}) \".format(trx['title'],'. ', trx['body'], ' ...', trx['url']))"
   ]
  },
  {
   "cell_type": "code",
   "execution_count": 7,
   "id": "illegal-greece",
   "metadata": {
    "execution": {
     "iopub.execute_input": "2021-08-14T01:54:29.583039Z",
     "iopub.status.busy": "2021-08-14T01:54:29.582526Z",
     "iopub.status.idle": "2021-08-14T01:54:29.584957Z",
     "shell.execute_reply": "2021-08-14T01:54:29.585323Z"
    },
    "papermill": {
     "duration": 0.016545,
     "end_time": "2021-08-14T01:54:29.585433",
     "exception": false,
     "start_time": "2021-08-14T01:54:29.568888",
     "status": "completed"
    },
    "tags": []
   },
   "outputs": [
    {
     "data": {
      "text/markdown": [
       "- TIME Magazine and Cool Cats to Give Away NFTs for Great Memes.  After selling NFT magazine covers, TIME is getting back into crypto collectibles in a very unexpected way. ... [| Skaityti daugiau](https://decrypt.co/78536/time-magazine-cool-cats-give-away-nfts-great-memes) "
      ],
      "text/plain": [
       "<IPython.core.display.Markdown object>"
      ]
     },
     "execution_count": 7,
     "metadata": {},
     "output_type": "execute_result"
    }
   ],
   "source": [
    "#hide_input\n",
    "#md('##### {}'.format(titleBTC)) \n",
    "md(\"- {}{} {}{} [| Skaityti daugiau]({}) \".format(eth['title'],'. ', eth['body'], ' ...', eth['url']))"
   ]
  },
  {
   "cell_type": "code",
   "execution_count": 8,
   "id": "sublime-lounge",
   "metadata": {
    "execution": {
     "iopub.execute_input": "2021-08-14T01:54:29.610547Z",
     "iopub.status.busy": "2021-08-14T01:54:29.610061Z",
     "iopub.status.idle": "2021-08-14T01:54:29.612652Z",
     "shell.execute_reply": "2021-08-14T01:54:29.613045Z"
    },
    "papermill": {
     "duration": 0.01737,
     "end_time": "2021-08-14T01:54:29.613151",
     "exception": false,
     "start_time": "2021-08-14T01:54:29.595781",
     "status": "completed"
    },
    "tags": []
   },
   "outputs": [
    {
     "data": {
      "text/markdown": [
       "- Cardano (ADA) Breaks $2 For The First Time Since May, Why New All-Time High Is Imminent.  Cardano (ADA) has been on a hot streak recently. The price of ADA has seen increasing growth in the market. After crashing down close to $1, the digital asset has now bounced back up to reclaim its place on the market charts. The price dips from the last two months have not seemed to have had much of an effect on the price of the digital asset, as the price has now come back up above $2 as if it had not been struggling before. Related Reading &#124; Cardano (ADA) Records 13% Price Gains In 24 Hours, Is $2.20 Possible Again? With this new point broken for the first time in months, the next target for the asset remains the all-time high which it had hit in May before crashing back down. The $2.20 all-time high price point is close now than ever. And it is most likely that the price will hit this target in no time, given that the market maintains the current momentum and price trajectory. Good News Sending Price Barreling A wave of good news has rocked the Cardano community recently. The launch of the Alonzo Purple public testnet will be the final test phase of the project, which will end in the network finally getting smart contracts capability. The dev team announced the launch of the public testnet on Twitter. Explaining that the testers from the previous Alonzo White and Blue testnets will be used to carry out the testings. Along with interested developers who will be granted access to the network. Related Reading &#124; Card... ... [| Skaityti daugiau](https://www.newsbtc.com/analysis/ada/cardano-all-time-high-is-imminent/) "
      ],
      "text/plain": [
       "<IPython.core.display.Markdown object>"
      ]
     },
     "execution_count": 8,
     "metadata": {},
     "output_type": "execute_result"
    }
   ],
   "source": [
    "#hide_input\n",
    "#md('##### {}'.format(titleBTC)) \n",
    "md(\"- {}{} {}{} [| Skaityti daugiau]({}) \".format(ada['title'],'. ', ada['body'], ' ...', ada['url']))"
   ]
  },
  {
   "cell_type": "code",
   "execution_count": 9,
   "id": "specified-ordering",
   "metadata": {
    "execution": {
     "iopub.execute_input": "2021-08-14T01:54:29.638647Z",
     "iopub.status.busy": "2021-08-14T01:54:29.638161Z",
     "iopub.status.idle": "2021-08-14T01:54:29.640983Z",
     "shell.execute_reply": "2021-08-14T01:54:29.640573Z"
    },
    "papermill": {
     "duration": 0.017128,
     "end_time": "2021-08-14T01:54:29.641077",
     "exception": false,
     "start_time": "2021-08-14T01:54:29.623949",
     "status": "completed"
    },
    "tags": []
   },
   "outputs": [
    {
     "data": {
      "text/markdown": [
       "- Tech Giant Intel is Holding Nearly $800K in Coinbase Stock.  Intel makes a small bet on the future of the cryptocurrency market with an investment in leading exchange Coinbase. ... [| Skaityti daugiau](https://decrypt.co/78534/tech-giant-intel-holding-nearly-800k-coinbase-stock) "
      ],
      "text/plain": [
       "<IPython.core.display.Markdown object>"
      ]
     },
     "execution_count": 9,
     "metadata": {},
     "output_type": "execute_result"
    }
   ],
   "source": [
    "#hide_input\n",
    "#md('##### {}'.format(titleBTC)) \n",
    "md(\"- {}{} {}{} [| Skaityti daugiau]({}) \".format(exchange['title'],'. ', exchange['body'], ' ...', exchange['url']))"
   ]
  },
  {
   "cell_type": "code",
   "execution_count": null,
   "id": "tender-livestock",
   "metadata": {
    "papermill": {
     "duration": 0.011002,
     "end_time": "2021-08-14T01:54:29.663071",
     "exception": false,
     "start_time": "2021-08-14T01:54:29.652069",
     "status": "completed"
    },
    "tags": []
   },
   "outputs": [],
   "source": []
  },
  {
   "cell_type": "code",
   "execution_count": null,
   "id": "appreciated-diamond",
   "metadata": {
    "papermill": {
     "duration": 0.01102,
     "end_time": "2021-08-14T01:54:29.685268",
     "exception": false,
     "start_time": "2021-08-14T01:54:29.674248",
     "status": "completed"
    },
    "tags": []
   },
   "outputs": [],
   "source": []
  },
  {
   "cell_type": "code",
   "execution_count": null,
   "id": "romance-sweden",
   "metadata": {
    "papermill": {
     "duration": 0.011068,
     "end_time": "2021-08-14T01:54:29.707392",
     "exception": false,
     "start_time": "2021-08-14T01:54:29.696324",
     "status": "completed"
    },
    "tags": []
   },
   "outputs": [],
   "source": []
  },
  {
   "cell_type": "code",
   "execution_count": null,
   "id": "dietary-statistics",
   "metadata": {
    "papermill": {
     "duration": 0.017652,
     "end_time": "2021-08-14T01:54:29.736086",
     "exception": false,
     "start_time": "2021-08-14T01:54:29.718434",
     "status": "completed"
    },
    "tags": []
   },
   "outputs": [],
   "source": []
  }
 ],
 "metadata": {
  "kernelspec": {
   "display_name": "Python 3",
   "language": "python",
   "name": "python3"
  },
  "language_info": {
   "codemirror_mode": {
    "name": "ipython",
    "version": 3
   },
   "file_extension": ".py",
   "mimetype": "text/x-python",
   "name": "python",
   "nbconvert_exporter": "python",
   "pygments_lexer": "ipython3",
   "version": "3.6.14"
  },
  "papermill": {
   "default_parameters": {},
   "duration": 10.83494,
   "end_time": "2021-08-14T01:54:30.153626",
   "environment_variables": {},
   "exception": null,
   "input_path": "Market-News.ipynb",
   "output_path": "Market-News.ipynb",
   "parameters": {},
   "start_time": "2021-08-14T01:54:19.318686",
   "version": "2.2.2"
  }
 },
 "nbformat": 4,
 "nbformat_minor": 5
}