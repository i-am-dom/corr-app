{
 "cells": [
  {
   "cell_type": "markdown",
   "id": "short-greensboro",
   "metadata": {
    "papermill": {
     "duration": 0.012695,
     "end_time": "2022-06-02T03:18:16.820532",
     "exception": false,
     "start_time": "2022-06-02T03:18:16.807837",
     "status": "completed"
    },
    "tags": []
   },
   "source": [
    "# Kriptovaliutų naujienos"
   ]
  },
  {
   "cell_type": "code",
   "execution_count": 1,
   "id": "functioning-knowing",
   "metadata": {
    "execution": {
     "iopub.execute_input": "2022-06-02T03:18:16.849803Z",
     "iopub.status.busy": "2022-06-02T03:18:16.849224Z",
     "iopub.status.idle": "2022-06-02T03:18:17.993123Z",
     "shell.execute_reply": "2022-06-02T03:18:17.992610Z"
    },
    "papermill": {
     "duration": 1.162782,
     "end_time": "2022-06-02T03:18:17.993246",
     "exception": false,
     "start_time": "2022-06-02T03:18:16.830464",
     "status": "completed"
    },
    "tags": []
   },
   "outputs": [],
   "source": [
    "#hide_input\n",
    "import warnings\n",
    "warnings.filterwarnings('ignore')\n",
    "from scripts.read_data import read_api\n",
    "from scripts.read_data import read_news\n",
    "from scripts.read_data import read_covid\n",
    "import matplotlib.pyplot as plt \n",
    "from IPython.display import Markdown as md"
   ]
  },
  {
   "cell_type": "code",
   "execution_count": 2,
   "id": "shared-acceptance",
   "metadata": {
    "execution": {
     "iopub.execute_input": "2022-06-02T03:18:18.018042Z",
     "iopub.status.busy": "2022-06-02T03:18:18.017454Z",
     "iopub.status.idle": "2022-06-02T03:18:31.488990Z",
     "shell.execute_reply": "2022-06-02T03:18:31.488481Z"
    },
    "papermill": {
     "duration": 13.486324,
     "end_time": "2022-06-02T03:18:31.489105",
     "exception": false,
     "start_time": "2022-06-02T03:18:18.002781",
     "status": "completed"
    },
    "tags": []
   },
   "outputs": [],
   "source": [
    "#hide_input\n",
    "blockchain = read_news('blockchain') \n",
    "btc = read_news('btc') \n",
    "xrp = read_news('xrp') \n",
    "trx = read_news('trx') \n",
    "eth = read_news('eth')  \n",
    "ada = read_news('ada')\n",
    "exchange = read_news('exchange') "
   ]
  },
  {
   "cell_type": "code",
   "execution_count": 3,
   "id": "synthetic-notion",
   "metadata": {
    "execution": {
     "iopub.execute_input": "2022-06-02T03:18:31.514750Z",
     "iopub.status.busy": "2022-06-02T03:18:31.514104Z",
     "iopub.status.idle": "2022-06-02T03:18:31.516936Z",
     "shell.execute_reply": "2022-06-02T03:18:31.517349Z"
    },
    "papermill": {
     "duration": 0.01855,
     "end_time": "2022-06-02T03:18:31.517469",
     "exception": false,
     "start_time": "2022-06-02T03:18:31.498919",
     "status": "completed"
    },
    "tags": []
   },
   "outputs": [
    {
     "data": {
      "text/markdown": [
       "- The Nightly Mint: Daily NFT Recap.  Is chaos ever not ensuing in NFT environment? Good, bad and somewhere in between, there&#8217;s seemingly always some madness happening in the space; that&#8217;s why we aim for routine coverage that gives you bite-sized daily recaps of all things NFTs with The Nightly Mint &#8211; no matter the time of day you digest it. One of the most tenured and controversial celebrities is reportedly entering the non-fungible token world, an ex-OpenSea executive is facing heat from the Department of Justice, and that&#8217;s just the tip of the NFT iceberg. The Nightly Mint Latest Mint: Kanye NFTs? &#8220;STOP ASKING ME TO DO NFT&#8217;s,&#8221; was the leading copy on an Instagram caption posted earlier this year by Kanye West. Kanye NFTs, just a mere four months later, could very much be a reality, according to numerous reports today. West has apparently filed several trademark applications with the USPTO that are around “blockchain-based non-fungible assets,” “currencies and tokens,” and “online retail store services featuring … digital art.&#8221; Related Reading &#124; Crypto Analyst Says Cardano, Avalanche and Two Others Have Potential To Perform Well In Bear Trend Solana has seen teases of a booming 'Solana Summer' but has taken a major hit today with the blockchain halted. &#124; Source: SOL-USD on TradingView.com Ex-OpenSea Exec Faces Federal Charges Over NFT Front-Running Former OpenSea Head of Product Nate Chastain was highly v... ... [| Skaityti daugiau](https://www.newsbtc.com/nft-market/the-nightly-mint-daily-nft-recap-39/) "
      ],
      "text/plain": [
       "<IPython.core.display.Markdown object>"
      ]
     },
     "execution_count": 3,
     "metadata": {},
     "output_type": "execute_result"
    }
   ],
   "source": [
    "#hide_input\n",
    "#md('##### {}'.format(titleBTC)) \n",
    "md(\"- {}{} {}{} [| Skaityti daugiau]({}) \".format(blockchain['title'],'. ', blockchain['body'], ' ...', blockchain['url']))"
   ]
  },
  {
   "cell_type": "code",
   "execution_count": 4,
   "id": "aging-caution",
   "metadata": {
    "execution": {
     "iopub.execute_input": "2022-06-02T03:18:31.542753Z",
     "iopub.status.busy": "2022-06-02T03:18:31.541775Z",
     "iopub.status.idle": "2022-06-02T03:18:31.544497Z",
     "shell.execute_reply": "2022-06-02T03:18:31.544943Z"
    },
    "papermill": {
     "duration": 0.017855,
     "end_time": "2022-06-02T03:18:31.545057",
     "exception": false,
     "start_time": "2022-06-02T03:18:31.527202",
     "status": "completed"
    },
    "tags": []
   },
   "outputs": [
    {
     "data": {
      "text/markdown": [
       "- TA: Bitcoin Price Resumes Decline, Can The Bulls Save This Support.  Bitcoin started a fresh decline from the $32,400 resistance against the US Dollar. BTC must stay above the $29,450 to avoid more downsides. Bitcoin started a fresh decline after it failed to clear the $32,400 resistance zone. The price is now trading below the $30,000 level and the 100 hourly simple moving average. There was a break below a key bullish trend line with support near $31,750 on the hourly chart of the BTC/USD pair (data feed from Kraken). The pair could extend its decline if it breaks the $29,450 and $29,400 support levels. Bitcoin Price Trims Gains Bitcoin price started another decline from the $32,400 resistance zone. There was a steady decline below the $32,000 and $31,500 levels. More importantly, there was a break below a key bullish trend line with support near $31,750 on the hourly chart of the BTC/USD pair. The pair traded below the 50% Fib retracement level of the upward move from the $28,250 swing low to $32,400 high. Bitcoin price is now trading below the $30,000 level and the 100 hourly simple moving average. The price is also consolidating near the 61.8% Fib retracement level of the upward move from the $28,250 swing low to $32,400 high. An immediate resistance on the upside is near the $30,000 level. The next major resistance is near the $30,400 and the 100 hourly simple moving average. Source: BTCUSD on TradingView.com A clear move above the $30,400 resistance level could start another increase. In... ... [| Skaityti daugiau](https://www.newsbtc.com/analysis/btc/bitcoin-price-resumes-decline-30k/) "
      ],
      "text/plain": [
       "<IPython.core.display.Markdown object>"
      ]
     },
     "execution_count": 4,
     "metadata": {},
     "output_type": "execute_result"
    }
   ],
   "source": [
    "#hide_input\n",
    "#md('##### {}'.format(titleBTC)) \n",
    "md(\"- {}{} {}{} [| Skaityti daugiau]({}) \".format(btc['title'],'. ', btc['body'], ' ...', btc['url']))"
   ]
  },
  {
   "cell_type": "code",
   "execution_count": 5,
   "id": "organic-actress",
   "metadata": {
    "execution": {
     "iopub.execute_input": "2022-06-02T03:18:31.570132Z",
     "iopub.status.busy": "2022-06-02T03:18:31.568344Z",
     "iopub.status.idle": "2022-06-02T03:18:31.572272Z",
     "shell.execute_reply": "2022-06-02T03:18:31.572700Z"
    },
    "papermill": {
     "duration": 0.017808,
     "end_time": "2022-06-02T03:18:31.572829",
     "exception": false,
     "start_time": "2022-06-02T03:18:31.555021",
     "status": "completed"
    },
    "tags": []
   },
   "outputs": [
    {
     "data": {
      "text/markdown": [
       "- Ripple price analysis: XRP/USD seller’s dominance on the ripple market to continue for the next 24 hours.  Ripple price analysis is bearish today, as the market has failed to retrace after continuing to consolidate above $0.75 throughout the day. As a result, we expect XRP/USD to drop even more early next week and complete the overall retracement. On the 4-hour Ripple price analysis chart, XRP/USD is currently trading below the $0.75 support... ... [| Skaityti daugiau](https://www.cryptopolitan.com/ripple-price-analysis-2022-04-27-2/) "
      ],
      "text/plain": [
       "<IPython.core.display.Markdown object>"
      ]
     },
     "execution_count": 5,
     "metadata": {},
     "output_type": "execute_result"
    }
   ],
   "source": [
    "#hide_input\n",
    "#md('##### {}'.format(titleBTC)) \n",
    "md(\"- {}{} {}{} [| Skaityti daugiau]({}) \".format(xrp['title'],'. ', xrp['body'], ' ...', xrp['url']))"
   ]
  },
  {
   "cell_type": "code",
   "execution_count": 6,
   "id": "prompt-farmer",
   "metadata": {
    "execution": {
     "iopub.execute_input": "2022-06-02T03:18:31.597808Z",
     "iopub.status.busy": "2022-06-02T03:18:31.597255Z",
     "iopub.status.idle": "2022-06-02T03:18:31.602358Z",
     "shell.execute_reply": "2022-06-02T03:18:31.602767Z"
    },
    "papermill": {
     "duration": 0.019773,
     "end_time": "2022-06-02T03:18:31.602878",
     "exception": false,
     "start_time": "2022-06-02T03:18:31.583105",
     "status": "completed"
    },
    "tags": []
   },
   "outputs": [
    {
     "data": {
      "text/markdown": [
       "- A beginner’s guide to profiting from TRX’s ongoing rally.  Disclaimer: The findings of the following analysis are the sole opinions of the writer and should not be considered investment advice After taking off from the $0.057-support, Tron (TRX) has made impressive progress on its chart over the past seven weeks. Higher lows alongside steady highs beyond the 38.2% and 50% Fibonacci levels bagged in well-desired [&#8230;] ... [| Skaityti daugiau](https://ambcrypto.com/a-beginners-guide-to-profiting-from-trxs-ongoing-rally/) "
      ],
      "text/plain": [
       "<IPython.core.display.Markdown object>"
      ]
     },
     "execution_count": 6,
     "metadata": {},
     "output_type": "execute_result"
    }
   ],
   "source": [
    "#hide_input\n",
    "#md('##### {}'.format(titleBTC)) \n",
    "md(\"- {}{} {}{} [| Skaityti daugiau]({}) \".format(trx['title'],'. ', trx['body'], ' ...', trx['url']))"
   ]
  },
  {
   "cell_type": "code",
   "execution_count": 7,
   "id": "illegal-greece",
   "metadata": {
    "execution": {
     "iopub.execute_input": "2022-06-02T03:18:31.629770Z",
     "iopub.status.busy": "2022-06-02T03:18:31.629165Z",
     "iopub.status.idle": "2022-06-02T03:18:31.631187Z",
     "shell.execute_reply": "2022-06-02T03:18:31.631601Z"
    },
    "papermill": {
     "duration": 0.017778,
     "end_time": "2022-06-02T03:18:31.631708",
     "exception": false,
     "start_time": "2022-06-02T03:18:31.613930",
     "status": "completed"
    },
    "tags": []
   },
   "outputs": [
    {
     "data": {
      "text/markdown": [
       "- Bitcoin, Ethereum, Dash, and Celo Daily Price Analyses – 1 June Roundup.  The global crypto market has continued to face problems as its value has receded. The change in the pace of losses increased as the market moved towards a speedy recession. Bitcoin and other coins&#8217; performance shows that the losses have increased, gaining pace to the negative side. Even though the market had resumed speedy gains... ... [| Skaityti daugiau](https://www.cryptopolitan.com/bitcoin-ethereum-dash-and-celo-daily-price-analyses-1-june-roundup/) "
      ],
      "text/plain": [
       "<IPython.core.display.Markdown object>"
      ]
     },
     "execution_count": 7,
     "metadata": {},
     "output_type": "execute_result"
    }
   ],
   "source": [
    "#hide_input\n",
    "#md('##### {}'.format(titleBTC)) \n",
    "md(\"- {}{} {}{} [| Skaityti daugiau]({}) \".format(eth['title'],'. ', eth['body'], ' ...', eth['url']))"
   ]
  },
  {
   "cell_type": "code",
   "execution_count": 8,
   "id": "sublime-lounge",
   "metadata": {
    "execution": {
     "iopub.execute_input": "2022-06-02T03:18:31.660158Z",
     "iopub.status.busy": "2022-06-02T03:18:31.659190Z",
     "iopub.status.idle": "2022-06-02T03:18:31.661923Z",
     "shell.execute_reply": "2022-06-02T03:18:31.662342Z"
    },
    "papermill": {
     "duration": 0.018857,
     "end_time": "2022-06-02T03:18:31.662447",
     "exception": false,
     "start_time": "2022-06-02T03:18:31.643590",
     "status": "completed"
    },
    "tags": []
   },
   "outputs": [
    {
     "data": {
      "text/markdown": [
       "- The Nightly Mint: Daily NFT Recap.  Is chaos ever not ensuing in NFT environment? Good, bad and somewhere in between, there&#8217;s seemingly always some madness happening in the space; that&#8217;s why we aim for routine coverage that gives you bite-sized daily recaps of all things NFTs with The Nightly Mint &#8211; no matter the time of day you digest it. One of the most tenured and controversial celebrities is reportedly entering the non-fungible token world, an ex-OpenSea executive is facing heat from the Department of Justice, and that&#8217;s just the tip of the NFT iceberg. The Nightly Mint Latest Mint: Kanye NFTs? &#8220;STOP ASKING ME TO DO NFT&#8217;s,&#8221; was the leading copy on an Instagram caption posted earlier this year by Kanye West. Kanye NFTs, just a mere four months later, could very much be a reality, according to numerous reports today. West has apparently filed several trademark applications with the USPTO that are around “blockchain-based non-fungible assets,” “currencies and tokens,” and “online retail store services featuring … digital art.&#8221; Related Reading &#124; Crypto Analyst Says Cardano, Avalanche and Two Others Have Potential To Perform Well In Bear Trend Solana has seen teases of a booming 'Solana Summer' but has taken a major hit today with the blockchain halted. &#124; Source: SOL-USD on TradingView.com Ex-OpenSea Exec Faces Federal Charges Over NFT Front-Running Former OpenSea Head of Product Nate Chastain was highly v... ... [| Skaityti daugiau](https://www.newsbtc.com/nft-market/the-nightly-mint-daily-nft-recap-39/) "
      ],
      "text/plain": [
       "<IPython.core.display.Markdown object>"
      ]
     },
     "execution_count": 8,
     "metadata": {},
     "output_type": "execute_result"
    }
   ],
   "source": [
    "#hide_input\n",
    "#md('##### {}'.format(titleBTC)) \n",
    "md(\"- {}{} {}{} [| Skaityti daugiau]({}) \".format(ada['title'],'. ', ada['body'], ' ...', ada['url']))"
   ]
  },
  {
   "cell_type": "code",
   "execution_count": 9,
   "id": "specified-ordering",
   "metadata": {
    "execution": {
     "iopub.execute_input": "2022-06-02T03:18:31.690108Z",
     "iopub.status.busy": "2022-06-02T03:18:31.689551Z",
     "iopub.status.idle": "2022-06-02T03:18:31.694882Z",
     "shell.execute_reply": "2022-06-02T03:18:31.694428Z"
    },
    "papermill": {
     "duration": 0.020517,
     "end_time": "2022-06-02T03:18:31.694977",
     "exception": false,
     "start_time": "2022-06-02T03:18:31.674460",
     "status": "completed"
    },
    "tags": []
   },
   "outputs": [
    {
     "data": {
      "text/markdown": [
       "- Panama Crypto Crackdown: Stricter AML Restrictions on Horizon.  The President of Panama has refused to sign new crypto-related legislation into law. He cited the need for more stringent anti-money laundering (AML) security measures. Instead, the nation’s legislative assembly passed a bill primarily concerned with licensing cryptocurrency exchanges and monitoring transactions. The president, Laurentino Cortizo, stated that the bill calls for stricter regulation of cryptocurrencies. During his participation in the Bloomberg Latin America conference in Panama City, President Cotizo delivered a speech. He does not oppose cryptocurrencies but insists that the market adheres to international AML standards. He said, “I will not sign the law if I can’t convince you with the information I have at this time. If the law includes provisions on money laundering, I must exercise extreme caution. Our society places a high value on the fight against money laundering.” A lawmaker even proposed legislation that would have made bitcoin legal tender, but the idea never saw daylight. Instead, the national assembly approved a law that allows the use of cryptocurrency to pay for various goods and services. It also intends to establish a government-issued digital wallet to bolster the legitimacy of this process. Panama Delays Cryptocurrency Legalization Panama announced a few months ago that it would work harder to keep track of all digital assets and foreign exchange assets in the country. The president must sig... ... [| Skaityti daugiau](https://www.cryptoknowmics.com/news/panama-crypto-crackdown-stricter-aml-restrictions-on-horizon/?utm_source=rss&utm_medium=rss&utm_campaign=panama-crypto-crackdown-stricter-aml-restrictions-on-horizon) "
      ],
      "text/plain": [
       "<IPython.core.display.Markdown object>"
      ]
     },
     "execution_count": 9,
     "metadata": {},
     "output_type": "execute_result"
    }
   ],
   "source": [
    "#hide_input\n",
    "#md('##### {}'.format(titleBTC)) \n",
    "md(\"- {}{} {}{} [| Skaityti daugiau]({}) \".format(exchange['title'],'. ', exchange['body'], ' ...', exchange['url']))"
   ]
  },
  {
   "cell_type": "code",
   "execution_count": null,
   "id": "tender-livestock",
   "metadata": {
    "papermill": {
     "duration": 0.01204,
     "end_time": "2022-06-02T03:18:31.718689",
     "exception": false,
     "start_time": "2022-06-02T03:18:31.706649",
     "status": "completed"
    },
    "tags": []
   },
   "outputs": [],
   "source": []
  },
  {
   "cell_type": "code",
   "execution_count": null,
   "id": "appreciated-diamond",
   "metadata": {
    "papermill": {
     "duration": 0.011605,
     "end_time": "2022-06-02T03:18:31.742087",
     "exception": false,
     "start_time": "2022-06-02T03:18:31.730482",
     "status": "completed"
    },
    "tags": []
   },
   "outputs": [],
   "source": []
  },
  {
   "cell_type": "code",
   "execution_count": null,
   "id": "romance-sweden",
   "metadata": {
    "papermill": {
     "duration": 0.011657,
     "end_time": "2022-06-02T03:18:31.765371",
     "exception": false,
     "start_time": "2022-06-02T03:18:31.753714",
     "status": "completed"
    },
    "tags": []
   },
   "outputs": [],
   "source": []
  },
  {
   "cell_type": "code",
   "execution_count": null,
   "id": "dietary-statistics",
   "metadata": {
    "papermill": {
     "duration": 0.011606,
     "end_time": "2022-06-02T03:18:31.788748",
     "exception": false,
     "start_time": "2022-06-02T03:18:31.777142",
     "status": "completed"
    },
    "tags": []
   },
   "outputs": [],
   "source": []
  }
 ],
 "metadata": {
  "kernelspec": {
   "display_name": "Python 3",
   "language": "python",
   "name": "python3"
  },
  "language_info": {
   "codemirror_mode": {
    "name": "ipython",
    "version": 3
   },
   "file_extension": ".py",
   "mimetype": "text/x-python",
   "name": "python",
   "nbconvert_exporter": "python",
   "pygments_lexer": "ipython3",
   "version": "3.6.15"
  },
  "papermill": {
   "default_parameters": {},
   "duration": 16.313715,
   "end_time": "2022-06-02T03:18:32.218880",
   "environment_variables": {},
   "exception": null,
   "input_path": "Market-News.ipynb",
   "output_path": "Market-News.ipynb",
   "parameters": {},
   "start_time": "2022-06-02T03:18:15.905165",
   "version": "2.2.2"
  }
 },
 "nbformat": 4,
 "nbformat_minor": 5
}