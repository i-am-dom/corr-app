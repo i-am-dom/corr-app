{
 "cells": [
  {
   "cell_type": "markdown",
   "id": "short-greensboro",
   "metadata": {
    "papermill": {
     "duration": 0.01394,
     "end_time": "2022-06-03T02:54:21.956578",
     "exception": false,
     "start_time": "2022-06-03T02:54:21.942638",
     "status": "completed"
    },
    "tags": []
   },
   "source": [
    "# Kriptovaliutų naujienos"
   ]
  },
  {
   "cell_type": "code",
   "execution_count": 1,
   "id": "functioning-knowing",
   "metadata": {
    "execution": {
     "iopub.execute_input": "2022-06-03T02:54:21.988296Z",
     "iopub.status.busy": "2022-06-03T02:54:21.984611Z",
     "iopub.status.idle": "2022-06-03T02:54:23.302124Z",
     "shell.execute_reply": "2022-06-03T02:54:23.301511Z"
    },
    "papermill": {
     "duration": 1.33506,
     "end_time": "2022-06-03T02:54:23.302245",
     "exception": false,
     "start_time": "2022-06-03T02:54:21.967185",
     "status": "completed"
    },
    "tags": []
   },
   "outputs": [],
   "source": [
    "#hide_input\n",
    "import warnings\n",
    "warnings.filterwarnings('ignore')\n",
    "from scripts.read_data import read_api\n",
    "from scripts.read_data import read_news\n",
    "from scripts.read_data import read_covid\n",
    "import matplotlib.pyplot as plt \n",
    "from IPython.display import Markdown as md"
   ]
  },
  {
   "cell_type": "code",
   "execution_count": 2,
   "id": "shared-acceptance",
   "metadata": {
    "execution": {
     "iopub.execute_input": "2022-06-03T02:54:23.329809Z",
     "iopub.status.busy": "2022-06-03T02:54:23.328618Z",
     "iopub.status.idle": "2022-06-03T02:54:36.396782Z",
     "shell.execute_reply": "2022-06-03T02:54:36.396232Z"
    },
    "papermill": {
     "duration": 13.083705,
     "end_time": "2022-06-03T02:54:36.396890",
     "exception": false,
     "start_time": "2022-06-03T02:54:23.313185",
     "status": "completed"
    },
    "tags": []
   },
   "outputs": [],
   "source": [
    "#hide_input\n",
    "blockchain = read_news('blockchain') \n",
    "btc = read_news('btc') \n",
    "xrp = read_news('xrp') \n",
    "trx = read_news('trx') \n",
    "eth = read_news('eth')  \n",
    "ada = read_news('ada')\n",
    "exchange = read_news('exchange') "
   ]
  },
  {
   "cell_type": "code",
   "execution_count": 3,
   "id": "synthetic-notion",
   "metadata": {
    "execution": {
     "iopub.execute_input": "2022-06-03T02:54:36.423401Z",
     "iopub.status.busy": "2022-06-03T02:54:36.422737Z",
     "iopub.status.idle": "2022-06-03T02:54:36.425984Z",
     "shell.execute_reply": "2022-06-03T02:54:36.426491Z"
    },
    "papermill": {
     "duration": 0.020292,
     "end_time": "2022-06-03T02:54:36.426634",
     "exception": false,
     "start_time": "2022-06-03T02:54:36.406342",
     "status": "completed"
    },
    "tags": []
   },
   "outputs": [
    {
     "data": {
      "text/markdown": [
       "- Bitcoin reclaims $30K once again as $29K holds.  Bitcoin price analysis for June 3, 2022, comes on a bullish note for the token as we have seen a price surge of more than 2% in the last 24 hours. BTC lost the $31K price region as per our BTC analysis for June 2, 2022, and since then, the token once again turned bearish. [&#8230;]The post Bitcoin reclaims $30K once again as $29K holds appeared first on Blockchain, Crypto and Stock News. ... [| Skaityti daugiau](https://thecoinrise.com/bitcoin-reclaims-30k-once-again-as-29k-holds/) "
      ],
      "text/plain": [
       "<IPython.core.display.Markdown object>"
      ]
     },
     "execution_count": 3,
     "metadata": {},
     "output_type": "execute_result"
    }
   ],
   "source": [
    "#hide_input\n",
    "#md('##### {}'.format(titleBTC)) \n",
    "md(\"- {}{} {}{} [| Skaityti daugiau]({}) \".format(blockchain['title'],'. ', blockchain['body'], ' ...', blockchain['url']))"
   ]
  },
  {
   "cell_type": "code",
   "execution_count": 4,
   "id": "aging-caution",
   "metadata": {
    "execution": {
     "iopub.execute_input": "2022-06-03T02:54:36.451838Z",
     "iopub.status.busy": "2022-06-03T02:54:36.449890Z",
     "iopub.status.idle": "2022-06-03T02:54:36.454359Z",
     "shell.execute_reply": "2022-06-03T02:54:36.454850Z"
    },
    "papermill": {
     "duration": 0.018184,
     "end_time": "2022-06-03T02:54:36.454974",
     "exception": false,
     "start_time": "2022-06-03T02:54:36.436790",
     "status": "completed"
    },
    "tags": []
   },
   "outputs": [
    {
     "data": {
      "text/markdown": [
       "- Ethereum remains sluggish but prices retain above $1800 price level.  Ethereum price analysis for June 3, 2022, comes on a sluggish note for the token as we have seen the token underperform against Bitcoin in the last 24 hours. However, it is also important to note that the world&#8217;s second-biggest crypto has been able to hold strong above the $1800 price region and it is [&#8230;]The post Ethereum remains sluggish but prices retain above $1800 price level appeared first on Blockchain, Crypto and Stock News. ... [| Skaityti daugiau](https://thecoinrise.com/ethereum-remains-sluggish-but-prices-retain-above-1800-price-level/) "
      ],
      "text/plain": [
       "<IPython.core.display.Markdown object>"
      ]
     },
     "execution_count": 4,
     "metadata": {},
     "output_type": "execute_result"
    }
   ],
   "source": [
    "#hide_input\n",
    "#md('##### {}'.format(titleBTC)) \n",
    "md(\"- {}{} {}{} [| Skaityti daugiau]({}) \".format(btc['title'],'. ', btc['body'], ' ...', btc['url']))"
   ]
  },
  {
   "cell_type": "code",
   "execution_count": 5,
   "id": "organic-actress",
   "metadata": {
    "execution": {
     "iopub.execute_input": "2022-06-03T02:54:36.485619Z",
     "iopub.status.busy": "2022-06-03T02:54:36.484956Z",
     "iopub.status.idle": "2022-06-03T02:54:36.489965Z",
     "shell.execute_reply": "2022-06-03T02:54:36.490422Z"
    },
    "papermill": {
     "duration": 0.024772,
     "end_time": "2022-06-03T02:54:36.490572",
     "exception": false,
     "start_time": "2022-06-03T02:54:36.465800",
     "status": "completed"
    },
    "tags": []
   },
   "outputs": [
    {
     "data": {
      "text/markdown": [
       "- Ripple CEO Brad Garlinghouse Says Company To Consider Acquisitions: Report.  Ripple CEO Brad Garlinghouse says the San Francisco-based payments company plans to consider acquiring other crypto projects in the future. Garlinghouse tells CNBC Ripple has a &#8220;very strong balance sheet&#8221; and is at the stage of its growth where it&#8217;s more likely to be a buyer than a seller. &#8220;I would say there&#8217;s a lot [&#8230;]The post Ripple CEO Brad Garlinghouse Says Company To Consider Acquisitions: Report appeared first on The Daily Hodl. ... [| Skaityti daugiau](https://dailyhodl.com/2022/06/02/ripple-ceo-brad-garlinghouse-says-company-to-consider-acquisitions-report/) "
      ],
      "text/plain": [
       "<IPython.core.display.Markdown object>"
      ]
     },
     "execution_count": 5,
     "metadata": {},
     "output_type": "execute_result"
    }
   ],
   "source": [
    "#hide_input\n",
    "#md('##### {}'.format(titleBTC)) \n",
    "md(\"- {}{} {}{} [| Skaityti daugiau]({}) \".format(xrp['title'],'. ', xrp['body'], ' ...', xrp['url']))"
   ]
  },
  {
   "cell_type": "code",
   "execution_count": 6,
   "id": "prompt-farmer",
   "metadata": {
    "execution": {
     "iopub.execute_input": "2022-06-03T02:54:36.517841Z",
     "iopub.status.busy": "2022-06-03T02:54:36.517170Z",
     "iopub.status.idle": "2022-06-03T02:54:36.521127Z",
     "shell.execute_reply": "2022-06-03T02:54:36.521608Z"
    },
    "papermill": {
     "duration": 0.02066,
     "end_time": "2022-06-03T02:54:36.521726",
     "exception": false,
     "start_time": "2022-06-03T02:54:36.501066",
     "status": "completed"
    },
    "tags": []
   },
   "outputs": [
    {
     "data": {
      "text/markdown": [
       "- Mintable Review & Beginner’s Guide 2022.  Mintable is a marketplace for NFTs that was founded in 2018 and serves two crucial functions. Firstly, it allows NFT creators to mint (also known as creating/adding NFTs to the blockchain) NFTs and list them for sale. Secondly, it gives collectors a platform to browse and buy original NFTs. There are over 3,000 NFTs on the site, with a wide range of categories for collectors to choose from. Since its launch in July, the TRX token has risen steadily with a trading volume of around $1.3 billion and a market capitalization of over $2 billion. The NFT Foundation has more than 177,000 NFTs, with a royalty rate for creators that is limited to 10% compared to Mintable’s unlimited. OpenSea, on the other hand, does not provide a gas-free minting possibility. OpenSea also has a 10% royalty limit, but it is comparable to Mintable in that it waives upfront gas expenditures for creators. Ways to invest with Mintable Mintable is a decentralized blockchain-based platform created to enable the creation and trading of NFTs. Both creators and collectors use Mintable, which only allows for ethereum blockchain minting (or the production and listing of NFTs). Instead of paying gas fees when selling a digital item on the market, Mintable enables creators to skip out. Mintable charges a 5% marketplace fee on all gas-free NFT sales. Its other two choices, however, have gas costs. Mintable collects a 10% marketplace fee on printable NFT transactions a... ... [| Skaityti daugiau](https://www.cryptoknowmics.com/news/mintable-review-beginners-guide-2022/?utm_source=rss&utm_medium=rss&utm_campaign=mintable-review-beginners-guide-2022) "
      ],
      "text/plain": [
       "<IPython.core.display.Markdown object>"
      ]
     },
     "execution_count": 6,
     "metadata": {},
     "output_type": "execute_result"
    }
   ],
   "source": [
    "#hide_input\n",
    "#md('##### {}'.format(titleBTC)) \n",
    "md(\"- {}{} {}{} [| Skaityti daugiau]({}) \".format(trx['title'],'. ', trx['body'], ' ...', trx['url']))"
   ]
  },
  {
   "cell_type": "code",
   "execution_count": 7,
   "id": "illegal-greece",
   "metadata": {
    "execution": {
     "iopub.execute_input": "2022-06-03T02:54:36.552182Z",
     "iopub.status.busy": "2022-06-03T02:54:36.550084Z",
     "iopub.status.idle": "2022-06-03T02:54:36.554786Z",
     "shell.execute_reply": "2022-06-03T02:54:36.555274Z"
    },
    "papermill": {
     "duration": 0.02246,
     "end_time": "2022-06-03T02:54:36.555381",
     "exception": false,
     "start_time": "2022-06-03T02:54:36.532921",
     "status": "completed"
    },
    "tags": []
   },
   "outputs": [
    {
     "data": {
      "text/markdown": [
       "- Ethereum remains sluggish but prices retain above $1800 price level.  Ethereum price analysis for June 3, 2022, comes on a sluggish note for the token as we have seen the token underperform against Bitcoin in the last 24 hours. However, it is also important to note that the world&#8217;s second-biggest crypto has been able to hold strong above the $1800 price region and it is [&#8230;]The post Ethereum remains sluggish but prices retain above $1800 price level appeared first on Blockchain, Crypto and Stock News. ... [| Skaityti daugiau](https://thecoinrise.com/ethereum-remains-sluggish-but-prices-retain-above-1800-price-level/) "
      ],
      "text/plain": [
       "<IPython.core.display.Markdown object>"
      ]
     },
     "execution_count": 7,
     "metadata": {},
     "output_type": "execute_result"
    }
   ],
   "source": [
    "#hide_input\n",
    "#md('##### {}'.format(titleBTC)) \n",
    "md(\"- {}{} {}{} [| Skaityti daugiau]({}) \".format(eth['title'],'. ', eth['body'], ' ...', eth['url']))"
   ]
  },
  {
   "cell_type": "code",
   "execution_count": 8,
   "id": "sublime-lounge",
   "metadata": {
    "execution": {
     "iopub.execute_input": "2022-06-03T02:54:36.584909Z",
     "iopub.status.busy": "2022-06-03T02:54:36.582542Z",
     "iopub.status.idle": "2022-06-03T02:54:36.588050Z",
     "shell.execute_reply": "2022-06-03T02:54:36.589148Z"
    },
    "papermill": {
     "duration": 0.022465,
     "end_time": "2022-06-03T02:54:36.589326",
     "exception": false,
     "start_time": "2022-06-03T02:54:36.566861",
     "status": "completed"
    },
    "tags": []
   },
   "outputs": [
    {
     "data": {
      "text/markdown": [
       "- Cardano price analysis: ADA targeting daily close at $0.60 to aid rise up to $0.70.  Cardano price analysis has recorded a bullish comeback from Wednesday&#8217;s decline down to $0.48 with a 4 percent uptrend over the past 24 hours. ADA price rose as high as $0.59 to move above the pivot at $0.57 and target the first major resistance level at $0.6094. Cardano will need broader market support to move... ... [| Skaityti daugiau](https://www.cryptopolitan.com/cardano-price-analysis-2022-06-02/) "
      ],
      "text/plain": [
       "<IPython.core.display.Markdown object>"
      ]
     },
     "execution_count": 8,
     "metadata": {},
     "output_type": "execute_result"
    }
   ],
   "source": [
    "#hide_input\n",
    "#md('##### {}'.format(titleBTC)) \n",
    "md(\"- {}{} {}{} [| Skaityti daugiau]({}) \".format(ada['title'],'. ', ada['body'], ' ...', ada['url']))"
   ]
  },
  {
   "cell_type": "code",
   "execution_count": 9,
   "id": "specified-ordering",
   "metadata": {
    "execution": {
     "iopub.execute_input": "2022-06-03T02:54:36.619239Z",
     "iopub.status.busy": "2022-06-03T02:54:36.616473Z",
     "iopub.status.idle": "2022-06-03T02:54:36.621859Z",
     "shell.execute_reply": "2022-06-03T02:54:36.622383Z"
    },
    "papermill": {
     "duration": 0.020839,
     "end_time": "2022-06-03T02:54:36.622504",
     "exception": false,
     "start_time": "2022-06-03T02:54:36.601665",
     "status": "completed"
    },
    "tags": []
   },
   "outputs": [
    {
     "data": {
      "text/markdown": [
       "- Top 5 DeFi Platforms of 2022 In Terms by Total Value Locked.  The birth of Ethereum followed the inception of Bitcoin. As a result, the Ethereum blockchain would go on to birth a revolution of decentralized innovation in the financial world. The decentralized finance world is becoming hypercompetitive; with the growth of various projects garnering widespread attention. Meanwhile, note that the total locked value in the DeFi sector has grown by 60% – 73% between 2021 and 2022. Despite this growth, the sector still faces challenges ranging from hacks and security loopholes. In this post, we discuss some of the top DeFi platforms by TVL in 2022: 1. Compound The compound is an Ethereum-based decentralized finance market that bridges the gap between lenders, borrowers and a pool of assets. Also remember, that the platform aims to eliminate a centralized authority. The liquidity pool on Compound Protocol pools funds from lenders who already have their funds deposited on the cTokens exchange. When the pooled funds accrue interest, lenders can then redeem them later on for collateral and reap more profits. 2. MarkerDAO MarkerDAO is a decentralized autonomous organization that runs on the Ethereum Network. The platform has two digital coins; MKR and an algorithmic stablecoin. The former coin enables network users to participate in the governance of the platform. Another important role is to allow for the stabilization of the DAI stablecoin. 3. Synthetix Synthetix is a decentralized finance platfo... ... [| Skaityti daugiau](https://www.cryptoknowmics.com/news/top-5-defi-platforms-of-2022-in-terms-by-total-value-locked/?utm_source=rss&utm_medium=rss&utm_campaign=top-5-defi-platforms-of-2022-in-terms-by-total-value-locked) "
      ],
      "text/plain": [
       "<IPython.core.display.Markdown object>"
      ]
     },
     "execution_count": 9,
     "metadata": {},
     "output_type": "execute_result"
    }
   ],
   "source": [
    "#hide_input\n",
    "#md('##### {}'.format(titleBTC)) \n",
    "md(\"- {}{} {}{} [| Skaityti daugiau]({}) \".format(exchange['title'],'. ', exchange['body'], ' ...', exchange['url']))"
   ]
  },
  {
   "cell_type": "code",
   "execution_count": null,
   "id": "tender-livestock",
   "metadata": {
    "papermill": {
     "duration": 0.011841,
     "end_time": "2022-06-03T02:54:36.646738",
     "exception": false,
     "start_time": "2022-06-03T02:54:36.634897",
     "status": "completed"
    },
    "tags": []
   },
   "outputs": [],
   "source": []
  },
  {
   "cell_type": "code",
   "execution_count": null,
   "id": "appreciated-diamond",
   "metadata": {
    "papermill": {
     "duration": 0.011057,
     "end_time": "2022-06-03T02:54:36.668829",
     "exception": false,
     "start_time": "2022-06-03T02:54:36.657772",
     "status": "completed"
    },
    "tags": []
   },
   "outputs": [],
   "source": []
  },
  {
   "cell_type": "code",
   "execution_count": null,
   "id": "romance-sweden",
   "metadata": {
    "papermill": {
     "duration": 0.015321,
     "end_time": "2022-06-03T02:54:36.695248",
     "exception": false,
     "start_time": "2022-06-03T02:54:36.679927",
     "status": "completed"
    },
    "tags": []
   },
   "outputs": [],
   "source": []
  },
  {
   "cell_type": "code",
   "execution_count": null,
   "id": "dietary-statistics",
   "metadata": {
    "papermill": {
     "duration": 0.011568,
     "end_time": "2022-06-03T02:54:36.718879",
     "exception": false,
     "start_time": "2022-06-03T02:54:36.707311",
     "status": "completed"
    },
    "tags": []
   },
   "outputs": [],
   "source": []
  }
 ],
 "metadata": {
  "kernelspec": {
   "display_name": "Python 3",
   "language": "python",
   "name": "python3"
  },
  "language_info": {
   "codemirror_mode": {
    "name": "ipython",
    "version": 3
   },
   "file_extension": ".py",
   "mimetype": "text/x-python",
   "name": "python",
   "nbconvert_exporter": "python",
   "pygments_lexer": "ipython3",
   "version": "3.6.15"
  },
  "papermill": {
   "default_parameters": {},
   "duration": 16.570863,
   "end_time": "2022-06-03T02:54:37.253392",
   "environment_variables": {},
   "exception": null,
   "input_path": "Market-News.ipynb",
   "output_path": "Market-News.ipynb",
   "parameters": {},
   "start_time": "2022-06-03T02:54:20.682529",
   "version": "2.2.2"
  }
 },
 "nbformat": 4,
 "nbformat_minor": 5
}