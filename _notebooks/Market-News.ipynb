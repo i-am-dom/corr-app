{
 "cells": [
  {
   "cell_type": "markdown",
   "id": "short-greensboro",
   "metadata": {
    "papermill": {
     "duration": 0.014563,
     "end_time": "2021-08-27T01:59:43.329745",
     "exception": false,
     "start_time": "2021-08-27T01:59:43.315182",
     "status": "completed"
    },
    "tags": []
   },
   "source": [
    "# Kriptovaliutų naujienos"
   ]
  },
  {
   "cell_type": "code",
   "execution_count": 1,
   "id": "functioning-knowing",
   "metadata": {
    "execution": {
     "iopub.execute_input": "2021-08-27T01:59:43.358346Z",
     "iopub.status.busy": "2021-08-27T01:59:43.357762Z",
     "iopub.status.idle": "2021-08-27T01:59:44.553870Z",
     "shell.execute_reply": "2021-08-27T01:59:44.553024Z"
    },
    "papermill": {
     "duration": 1.214347,
     "end_time": "2021-08-27T01:59:44.554000",
     "exception": false,
     "start_time": "2021-08-27T01:59:43.339653",
     "status": "completed"
    },
    "tags": []
   },
   "outputs": [],
   "source": [
    "#hide_input\n",
    "import warnings\n",
    "warnings.filterwarnings('ignore')\n",
    "from scripts.read_data import read_api\n",
    "from scripts.read_data import read_news\n",
    "from scripts.read_data import read_covid\n",
    "import matplotlib.pyplot as plt \n",
    "from IPython.display import Markdown as md"
   ]
  },
  {
   "cell_type": "code",
   "execution_count": 2,
   "id": "shared-acceptance",
   "metadata": {
    "execution": {
     "iopub.execute_input": "2021-08-27T01:59:44.579650Z",
     "iopub.status.busy": "2021-08-27T01:59:44.579110Z",
     "iopub.status.idle": "2021-08-27T01:59:52.421006Z",
     "shell.execute_reply": "2021-08-27T01:59:52.421419Z"
    },
    "papermill": {
     "duration": 7.857089,
     "end_time": "2021-08-27T01:59:52.421560",
     "exception": false,
     "start_time": "2021-08-27T01:59:44.564471",
     "status": "completed"
    },
    "tags": []
   },
   "outputs": [],
   "source": [
    "#hide_input\n",
    "blockchain = read_news('blockchain') \n",
    "btc = read_news('btc') \n",
    "xrp = read_news('xrp') \n",
    "trx = read_news('trx') \n",
    "eth = read_news('eth')  \n",
    "ada = read_news('ada')\n",
    "exchange = read_news('exchange') "
   ]
  },
  {
   "cell_type": "code",
   "execution_count": 3,
   "id": "synthetic-notion",
   "metadata": {
    "execution": {
     "iopub.execute_input": "2021-08-27T01:59:52.446174Z",
     "iopub.status.busy": "2021-08-27T01:59:52.445649Z",
     "iopub.status.idle": "2021-08-27T01:59:52.448463Z",
     "shell.execute_reply": "2021-08-27T01:59:52.447959Z"
    },
    "papermill": {
     "duration": 0.01704,
     "end_time": "2021-08-27T01:59:52.448558",
     "exception": false,
     "start_time": "2021-08-27T01:59:52.431518",
     "status": "completed"
    },
    "tags": []
   },
   "outputs": [
    {
     "data": {
      "text/markdown": [
       "- What Is Art Blocks and Why Are These NFTs Suddenly Selling for Millions in Ethereum?.  Art Blocks generates original artwork on the Ethereum blockchain, and buyers are paying top dollar for them amidst the latest NFT boom. ... [| Skaityti daugiau](https://decrypt.co/79534/what-is-art-blocks-why-nfts-suddenly-selling-millions-ethereum) "
      ],
      "text/plain": [
       "<IPython.core.display.Markdown object>"
      ]
     },
     "execution_count": 3,
     "metadata": {},
     "output_type": "execute_result"
    }
   ],
   "source": [
    "#hide_input\n",
    "#md('##### {}'.format(titleBTC)) \n",
    "md(\"- {}{} {}{} [| Skaityti daugiau]({}) \".format(blockchain['title'],'. ', blockchain['body'], ' ...', blockchain['url']))"
   ]
  },
  {
   "cell_type": "code",
   "execution_count": 4,
   "id": "aging-caution",
   "metadata": {
    "execution": {
     "iopub.execute_input": "2021-08-27T01:59:52.472430Z",
     "iopub.status.busy": "2021-08-27T01:59:52.471437Z",
     "iopub.status.idle": "2021-08-27T01:59:52.475426Z",
     "shell.execute_reply": "2021-08-27T01:59:52.474992Z"
    },
    "papermill": {
     "duration": 0.017005,
     "end_time": "2021-08-27T01:59:52.475521",
     "exception": false,
     "start_time": "2021-08-27T01:59:52.458516",
     "status": "completed"
    },
    "tags": []
   },
   "outputs": [
    {
     "data": {
      "text/markdown": [
       "- Jim Cramer: Coinbase stock is cheap, put 5% of your portfolio in crypto.  Jim Cramer, the host of CNBC’s Mad Money thinks Coinbase is the “natural repository of crypto” and has recommended buying the stock.  ... [| Skaityti daugiau](https://cointelegraph.com/news/jim-cramer-coinbase-stock-is-cheap-put-5-of-your-portfolio-in-crypto) "
      ],
      "text/plain": [
       "<IPython.core.display.Markdown object>"
      ]
     },
     "execution_count": 4,
     "metadata": {},
     "output_type": "execute_result"
    }
   ],
   "source": [
    "#hide_input\n",
    "#md('##### {}'.format(titleBTC)) \n",
    "md(\"- {}{} {}{} [| Skaityti daugiau]({}) \".format(btc['title'],'. ', btc['body'], ' ...', btc['url']))"
   ]
  },
  {
   "cell_type": "code",
   "execution_count": 5,
   "id": "organic-actress",
   "metadata": {
    "execution": {
     "iopub.execute_input": "2021-08-27T01:59:52.499523Z",
     "iopub.status.busy": "2021-08-27T01:59:52.498527Z",
     "iopub.status.idle": "2021-08-27T01:59:52.502413Z",
     "shell.execute_reply": "2021-08-27T01:59:52.502993Z"
    },
    "papermill": {
     "duration": 0.017598,
     "end_time": "2021-08-27T01:59:52.503142",
     "exception": false,
     "start_time": "2021-08-27T01:59:52.485544",
     "status": "completed"
    },
    "tags": []
   },
   "outputs": [
    {
     "data": {
      "text/markdown": [
       "- High-risk XRP traders might want to check out these levels.  Disclaimer: The findings of the following analysis are the sole opinions of the writer and should not be taken as investment advice A symmetrical triangle played out unexpectedly for XRP after its price suffered a near 11% decline over the past couple of days. Sellers punctured through an important price point of $1.18. This opened the [&#8230;] ... [| Skaityti daugiau](https://ambcrypto.com/high-risk-xrp-traders-might-want-to-check-out-these-levels/) "
      ],
      "text/plain": [
       "<IPython.core.display.Markdown object>"
      ]
     },
     "execution_count": 5,
     "metadata": {},
     "output_type": "execute_result"
    }
   ],
   "source": [
    "#hide_input\n",
    "#md('##### {}'.format(titleBTC)) \n",
    "md(\"- {}{} {}{} [| Skaityti daugiau]({}) \".format(xrp['title'],'. ', xrp['body'], ' ...', xrp['url']))"
   ]
  },
  {
   "cell_type": "code",
   "execution_count": 6,
   "id": "prompt-farmer",
   "metadata": {
    "execution": {
     "iopub.execute_input": "2021-08-27T01:59:52.531421Z",
     "iopub.status.busy": "2021-08-27T01:59:52.530432Z",
     "iopub.status.idle": "2021-08-27T01:59:52.533987Z",
     "shell.execute_reply": "2021-08-27T01:59:52.534428Z"
    },
    "papermill": {
     "duration": 0.018096,
     "end_time": "2021-08-27T01:59:52.534536",
     "exception": false,
     "start_time": "2021-08-27T01:59:52.516440",
     "status": "completed"
    },
    "tags": []
   },
   "outputs": [
    {
     "data": {
      "text/markdown": [
       "- TRON and Shopping.io Partner Enabling TRX for E-Commerce.  August 25, 2021 – Singapore, Singapore Shopping.io is continuing its trend of collaborating with the biggest names in the industry, quickly solidifying its place as the one-stop e-commerce shop for crypto holders. The company’s newest collaboration is with TRON, one of the world’s largest and most popular blockchain-based operating systems. TRON uses the features of the [&#8230;]The post TRON and Shopping.io Partner Enabling TRX for E-Commerce appeared first on The Daily Hodl. ... [| Skaityti daugiau](https://dailyhodl.com/2021/08/25/tron-and-shopping-io-partner-enabling-trx-for-e-commerce/) "
      ],
      "text/plain": [
       "<IPython.core.display.Markdown object>"
      ]
     },
     "execution_count": 6,
     "metadata": {},
     "output_type": "execute_result"
    }
   ],
   "source": [
    "#hide_input\n",
    "#md('##### {}'.format(titleBTC)) \n",
    "md(\"- {}{} {}{} [| Skaityti daugiau]({}) \".format(trx['title'],'. ', trx['body'], ' ...', trx['url']))"
   ]
  },
  {
   "cell_type": "code",
   "execution_count": 7,
   "id": "illegal-greece",
   "metadata": {
    "execution": {
     "iopub.execute_input": "2021-08-27T01:59:52.564885Z",
     "iopub.status.busy": "2021-08-27T01:59:52.564328Z",
     "iopub.status.idle": "2021-08-27T01:59:52.567371Z",
     "shell.execute_reply": "2021-08-27T01:59:52.567899Z"
    },
    "papermill": {
     "duration": 0.021593,
     "end_time": "2021-08-27T01:59:52.568047",
     "exception": false,
     "start_time": "2021-08-27T01:59:52.546454",
     "status": "completed"
    },
    "tags": []
   },
   "outputs": [
    {
     "data": {
      "text/markdown": [
       "- Jim Cramer: Coinbase stock is cheap, put 5% of your portfolio in crypto.  Jim Cramer, the host of CNBC’s Mad Money thinks Coinbase is the “natural repository of crypto” and has recommended buying the stock.  ... [| Skaityti daugiau](https://cointelegraph.com/news/jim-cramer-coinbase-stock-is-cheap-put-5-of-your-portfolio-in-crypto) "
      ],
      "text/plain": [
       "<IPython.core.display.Markdown object>"
      ]
     },
     "execution_count": 7,
     "metadata": {},
     "output_type": "execute_result"
    }
   ],
   "source": [
    "#hide_input\n",
    "#md('##### {}'.format(titleBTC)) \n",
    "md(\"- {}{} {}{} [| Skaityti daugiau]({}) \".format(eth['title'],'. ', eth['body'], ' ...', eth['url']))"
   ]
  },
  {
   "cell_type": "code",
   "execution_count": 8,
   "id": "sublime-lounge",
   "metadata": {
    "execution": {
     "iopub.execute_input": "2021-08-27T01:59:52.596493Z",
     "iopub.status.busy": "2021-08-27T01:59:52.595893Z",
     "iopub.status.idle": "2021-08-27T01:59:52.598620Z",
     "shell.execute_reply": "2021-08-27T01:59:52.599124Z"
    },
    "papermill": {
     "duration": 0.01971,
     "end_time": "2021-08-27T01:59:52.599237",
     "exception": false,
     "start_time": "2021-08-27T01:59:52.579527",
     "status": "completed"
    },
    "tags": []
   },
   "outputs": [
    {
     "data": {
      "text/markdown": [
       "- Cardano Foundation (ADA) signs on Coinfirm to comply with FATF norms.  Cardano Foundation is an independent non-profit that supervises the advancement of Cardano (ADA), while protecting and promoting the protocol’s technology. The post Cardano Foundation (ADA) signs on Coinfirm to comply with FATF norms appeared first on CryptoSlate. ... [| Skaityti daugiau](https://cryptoslate.com/cardano-foundation-ada-signs-on-coinfirm-to-comply-with-fatf-norms/) "
      ],
      "text/plain": [
       "<IPython.core.display.Markdown object>"
      ]
     },
     "execution_count": 8,
     "metadata": {},
     "output_type": "execute_result"
    }
   ],
   "source": [
    "#hide_input\n",
    "#md('##### {}'.format(titleBTC)) \n",
    "md(\"- {}{} {}{} [| Skaityti daugiau]({}) \".format(ada['title'],'. ', ada['body'], ' ...', ada['url']))"
   ]
  },
  {
   "cell_type": "code",
   "execution_count": 9,
   "id": "specified-ordering",
   "metadata": {
    "execution": {
     "iopub.execute_input": "2021-08-27T01:59:52.629082Z",
     "iopub.status.busy": "2021-08-27T01:59:52.628352Z",
     "iopub.status.idle": "2021-08-27T01:59:52.631810Z",
     "shell.execute_reply": "2021-08-27T01:59:52.630839Z"
    },
    "papermill": {
     "duration": 0.020093,
     "end_time": "2021-08-27T01:59:52.631939",
     "exception": false,
     "start_time": "2021-08-27T01:59:52.611846",
     "status": "completed"
    },
    "tags": []
   },
   "outputs": [
    {
     "data": {
      "text/markdown": [
       "- Morgan Stanley bets on GBTC as Grayscale completes unlocking.  Bitcoin has a &#8220;long way to go&#8221; and institutions know it. As they awaken to this realization, wealth management giants like Morgan Stanley are ramping up their indirect Bitcoin exposure. As per a recent filing with the United States Securities and Exchange Commission [SEC], the third-largest wealth management firm has purchased over one million Grayscale [&#8230;] ... [| Skaityti daugiau](https://ambcrypto.com/morgan-stanley-bets-on-gbtc-as-grayscale-completes-unlocking/) "
      ],
      "text/plain": [
       "<IPython.core.display.Markdown object>"
      ]
     },
     "execution_count": 9,
     "metadata": {},
     "output_type": "execute_result"
    }
   ],
   "source": [
    "#hide_input\n",
    "#md('##### {}'.format(titleBTC)) \n",
    "md(\"- {}{} {}{} [| Skaityti daugiau]({}) \".format(exchange['title'],'. ', exchange['body'], ' ...', exchange['url']))"
   ]
  },
  {
   "cell_type": "code",
   "execution_count": null,
   "id": "tender-livestock",
   "metadata": {
    "papermill": {
     "duration": 0.011819,
     "end_time": "2021-08-27T01:59:52.656532",
     "exception": false,
     "start_time": "2021-08-27T01:59:52.644713",
     "status": "completed"
    },
    "tags": []
   },
   "outputs": [],
   "source": []
  },
  {
   "cell_type": "code",
   "execution_count": null,
   "id": "appreciated-diamond",
   "metadata": {
    "papermill": {
     "duration": 0.011731,
     "end_time": "2021-08-27T01:59:52.680245",
     "exception": false,
     "start_time": "2021-08-27T01:59:52.668514",
     "status": "completed"
    },
    "tags": []
   },
   "outputs": [],
   "source": []
  },
  {
   "cell_type": "code",
   "execution_count": null,
   "id": "romance-sweden",
   "metadata": {
    "papermill": {
     "duration": 0.012089,
     "end_time": "2021-08-27T01:59:52.703619",
     "exception": false,
     "start_time": "2021-08-27T01:59:52.691530",
     "status": "completed"
    },
    "tags": []
   },
   "outputs": [],
   "source": []
  },
  {
   "cell_type": "code",
   "execution_count": null,
   "id": "dietary-statistics",
   "metadata": {
    "papermill": {
     "duration": 0.012202,
     "end_time": "2021-08-27T01:59:52.727500",
     "exception": false,
     "start_time": "2021-08-27T01:59:52.715298",
     "status": "completed"
    },
    "tags": []
   },
   "outputs": [],
   "source": []
  }
 ],
 "metadata": {
  "kernelspec": {
   "display_name": "Python 3",
   "language": "python",
   "name": "python3"
  },
  "language_info": {
   "codemirror_mode": {
    "name": "ipython",
    "version": 3
   },
   "file_extension": ".py",
   "mimetype": "text/x-python",
   "name": "python",
   "nbconvert_exporter": "python",
   "pygments_lexer": "ipython3",
   "version": "3.6.14"
  },
  "papermill": {
   "default_parameters": {},
   "duration": 10.866879,
   "end_time": "2021-08-27T01:59:53.146218",
   "environment_variables": {},
   "exception": null,
   "input_path": "Market-News.ipynb",
   "output_path": "Market-News.ipynb",
   "parameters": {},
   "start_time": "2021-08-27T01:59:42.279339",
   "version": "2.2.2"
  }
 },
 "nbformat": 4,
 "nbformat_minor": 5
}