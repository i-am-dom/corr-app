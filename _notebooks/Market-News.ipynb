{
 "cells": [
  {
   "cell_type": "markdown",
   "id": "short-greensboro",
   "metadata": {
    "papermill": {
     "duration": 0.02053,
     "end_time": "2022-10-25T03:51:06.468399",
     "exception": false,
     "start_time": "2022-10-25T03:51:06.447869",
     "status": "completed"
    },
    "tags": []
   },
   "source": [
    "# Kriptovaliutų naujienos"
   ]
  },
  {
   "cell_type": "code",
   "execution_count": 1,
   "id": "functioning-knowing",
   "metadata": {
    "execution": {
     "iopub.execute_input": "2022-10-25T03:51:06.512550Z",
     "iopub.status.busy": "2022-10-25T03:51:06.511605Z",
     "iopub.status.idle": "2022-10-25T03:51:08.394995Z",
     "shell.execute_reply": "2022-10-25T03:51:08.393313Z"
    },
    "papermill": {
     "duration": 1.912031,
     "end_time": "2022-10-25T03:51:08.395215",
     "exception": false,
     "start_time": "2022-10-25T03:51:06.483184",
     "status": "completed"
    },
    "tags": []
   },
   "outputs": [],
   "source": [
    "#hide_input\n",
    "import warnings\n",
    "warnings.filterwarnings('ignore')\n",
    "from scripts.read_data import read_api\n",
    "from scripts.read_data import read_news\n",
    "from scripts.read_data import read_covid\n",
    "import matplotlib.pyplot as plt \n",
    "from IPython.display import Markdown as md"
   ]
  },
  {
   "cell_type": "code",
   "execution_count": 2,
   "id": "shared-acceptance",
   "metadata": {
    "execution": {
     "iopub.execute_input": "2022-10-25T03:51:08.433967Z",
     "iopub.status.busy": "2022-10-25T03:51:08.433175Z",
     "iopub.status.idle": "2022-10-25T03:51:22.740243Z",
     "shell.execute_reply": "2022-10-25T03:51:22.739567Z"
    },
    "papermill": {
     "duration": 14.331416,
     "end_time": "2022-10-25T03:51:22.740401",
     "exception": false,
     "start_time": "2022-10-25T03:51:08.408985",
     "status": "completed"
    },
    "tags": []
   },
   "outputs": [],
   "source": [
    "#hide_input\n",
    "blockchain = read_news('blockchain') \n",
    "btc = read_news('btc') \n",
    "xrp = read_news('xrp') \n",
    "trx = read_news('trx') \n",
    "eth = read_news('eth')  \n",
    "ada = read_news('ada')\n",
    "exchange = read_news('exchange') "
   ]
  },
  {
   "cell_type": "code",
   "execution_count": 3,
   "id": "synthetic-notion",
   "metadata": {
    "execution": {
     "iopub.execute_input": "2022-10-25T03:51:22.780308Z",
     "iopub.status.busy": "2022-10-25T03:51:22.779294Z",
     "iopub.status.idle": "2022-10-25T03:51:22.784231Z",
     "shell.execute_reply": "2022-10-25T03:51:22.783523Z"
    },
    "papermill": {
     "duration": 0.027152,
     "end_time": "2022-10-25T03:51:22.784378",
     "exception": false,
     "start_time": "2022-10-25T03:51:22.757226",
     "status": "completed"
    },
    "tags": []
   },
   "outputs": [
    {
     "data": {
      "text/markdown": [
       "- Toncoin (TON) Gains Over 14% In Value During The Turbulent Week For Other Cryptos.  Toncoin is outperforming major coins despite a turbulent week for the crypto market. The coin experienced a surge of over 14% within the week, leaving traders with huge profits. Toncoin is currently trading at $1.44 per coin, a 4.68% gain in the last 24 hours. Toncoin’s gains also extend to BTC and ETH as it records a substantial edge in price over both cryptos. More recently, Telegram announced the near-completion of its username auction marketplace. The announcement also mentioned the marketplace would leverage the Ton blockchain infrastructure. This bullish news helped push Ton’s price over 12% on the day. Related Reading: Twitter Working On Its Own Crypto Wallet Prototype Toncoin Makes Bullish Reversal To Bag Over 16% Gains TON’s price jump last Thursday came as a surprise for traders and the Ton blockchain users. It was trading in the red zone, touching $1.22 at midday. However, it quickly made a reversal and jumped to $1.39. After making its 13.93% gain, it closed the trading day at $1.35. This surge comes at a time when the cryptocurrency market as a whole has been doing poorly. For the first time this month, the total market capitalization of cryptocurrencies is already less than $920 billion. It might fall even lower than $910 billion by the end of the day. This week also saw Bitcoin, the world’s first crypto, fall below $19k. On Friday, Bitcoin fell to $18,811.51, marking a 1.25% drop from the previous day. While it&... ... [| Skaityti daugiau](https://www.newsbtc.com/toncoin-ton/toncoin-ton-gains-over-14-in-value-during-the-turbulent-week-for-other-cryptos/) "
      ],
      "text/plain": [
       "<IPython.core.display.Markdown object>"
      ]
     },
     "execution_count": 3,
     "metadata": {},
     "output_type": "execute_result"
    }
   ],
   "source": [
    "#hide_input\n",
    "#md('##### {}'.format(titleBTC)) \n",
    "md(\"- {}{} {}{} [| Skaityti daugiau]({}) \".format(blockchain['title'],'. ', blockchain['body'], ' ...', blockchain['url']))"
   ]
  },
  {
   "cell_type": "code",
   "execution_count": 4,
   "id": "aging-caution",
   "metadata": {
    "execution": {
     "iopub.execute_input": "2022-10-25T03:51:22.820544Z",
     "iopub.status.busy": "2022-10-25T03:51:22.819661Z",
     "iopub.status.idle": "2022-10-25T03:51:22.824988Z",
     "shell.execute_reply": "2022-10-25T03:51:22.824283Z"
    },
    "papermill": {
     "duration": 0.026152,
     "end_time": "2022-10-25T03:51:22.825135",
     "exception": false,
     "start_time": "2022-10-25T03:51:22.798983",
     "status": "completed"
    },
    "tags": []
   },
   "outputs": [
    {
     "data": {
      "text/markdown": [
       "- Ethereum Price Analysis: Bulls Aim Higher Above $1,400.  Ethereum price is gaining pace above the $1,300 level against the US Dollar. ETH price is now trading above $1,320 and the 55 simple moving average (4-hours). There was a break above a major bearish trend line with resistance near $1,320 on the 4-hours chart (data feed from Coinbase). The pair could climb further if...The post Ethereum Price Analysis: Bulls Aim Higher Above $1,400 appeared first on Live Bitcoin News. ... [| Skaityti daugiau](https://www.livebitcoinnews.com/ethereum-price-analysis-bulls-aim-higher-above-1400/) "
      ],
      "text/plain": [
       "<IPython.core.display.Markdown object>"
      ]
     },
     "execution_count": 4,
     "metadata": {},
     "output_type": "execute_result"
    }
   ],
   "source": [
    "#hide_input\n",
    "#md('##### {}'.format(titleBTC)) \n",
    "md(\"- {}{} {}{} [| Skaityti daugiau]({}) \".format(btc['title'],'. ', btc['body'], ' ...', btc['url']))"
   ]
  },
  {
   "cell_type": "code",
   "execution_count": 5,
   "id": "organic-actress",
   "metadata": {
    "execution": {
     "iopub.execute_input": "2022-10-25T03:51:22.862298Z",
     "iopub.status.busy": "2022-10-25T03:51:22.861491Z",
     "iopub.status.idle": "2022-10-25T03:51:22.869762Z",
     "shell.execute_reply": "2022-10-25T03:51:22.869119Z"
    },
    "papermill": {
     "duration": 0.02987,
     "end_time": "2022-10-25T03:51:22.869913",
     "exception": false,
     "start_time": "2022-10-25T03:51:22.840043",
     "status": "completed"
    },
    "tags": []
   },
   "outputs": [
    {
     "data": {
      "text/markdown": [
       "- Is XRP Centralized? Ledger Co-Founder Addresses Controversial Comment.  The Ledger co-founder has backtracked on his controversial comments about the XRP cryptocurrency, calling them “tongue-in-cheek”  ... [| Skaityti daugiau](https://u.today/is-xrp-centralized-ledger-co-founder-addresses-controversial-comment) "
      ],
      "text/plain": [
       "<IPython.core.display.Markdown object>"
      ]
     },
     "execution_count": 5,
     "metadata": {},
     "output_type": "execute_result"
    }
   ],
   "source": [
    "#hide_input\n",
    "#md('##### {}'.format(titleBTC)) \n",
    "md(\"- {}{} {}{} [| Skaityti daugiau]({}) \".format(xrp['title'],'. ', xrp['body'], ' ...', xrp['url']))"
   ]
  },
  {
   "cell_type": "code",
   "execution_count": 6,
   "id": "prompt-farmer",
   "metadata": {
    "execution": {
     "iopub.execute_input": "2022-10-25T03:51:22.909170Z",
     "iopub.status.busy": "2022-10-25T03:51:22.908353Z",
     "iopub.status.idle": "2022-10-25T03:51:22.916211Z",
     "shell.execute_reply": "2022-10-25T03:51:22.915488Z"
    },
    "papermill": {
     "duration": 0.030497,
     "end_time": "2022-10-25T03:51:22.916372",
     "exception": false,
     "start_time": "2022-10-25T03:51:22.885875",
     "status": "completed"
    },
    "tags": []
   },
   "outputs": [
    {
     "data": {
      "text/markdown": [
       "- Why you should read this before going all in on Tron [TRX].  Tron [TRX], the cryptocurrency currently ranked 14th in terms of market cap, was in the news recently for its collaboration with the Dominican government. Capitalizing on the hype, the number of accounts on the Tron network continued to grow. However, Tron&#8217;s dApp activity and its TVL suffered immensely over the same time period. Here’s AMBCrypto’s [&#8230;] ... [| Skaityti daugiau](https://ambcrypto.com/why-you-should-read-this-before-going-all-in-on-tron-trx/) "
      ],
      "text/plain": [
       "<IPython.core.display.Markdown object>"
      ]
     },
     "execution_count": 6,
     "metadata": {},
     "output_type": "execute_result"
    }
   ],
   "source": [
    "#hide_input\n",
    "#md('##### {}'.format(titleBTC)) \n",
    "md(\"- {}{} {}{} [| Skaityti daugiau]({}) \".format(trx['title'],'. ', trx['body'], ' ...', trx['url']))"
   ]
  },
  {
   "cell_type": "code",
   "execution_count": 7,
   "id": "illegal-greece",
   "metadata": {
    "execution": {
     "iopub.execute_input": "2022-10-25T03:51:22.956104Z",
     "iopub.status.busy": "2022-10-25T03:51:22.955094Z",
     "iopub.status.idle": "2022-10-25T03:51:22.961181Z",
     "shell.execute_reply": "2022-10-25T03:51:22.960576Z"
    },
    "papermill": {
     "duration": 0.029543,
     "end_time": "2022-10-25T03:51:22.961383",
     "exception": false,
     "start_time": "2022-10-25T03:51:22.931840",
     "status": "completed"
    },
    "tags": []
   },
   "outputs": [
    {
     "data": {
      "text/markdown": [
       "- Ethereum Price Analysis: Bulls Aim Higher Above $1,400.  Ethereum price is gaining pace above the $1,300 level against the US Dollar. ETH price is now trading above $1,320 and the 55 simple moving average (4-hours). There was a break above a major bearish trend line with resistance near $1,320 on the 4-hours chart (data feed from Coinbase). The pair could climb further if...The post Ethereum Price Analysis: Bulls Aim Higher Above $1,400 appeared first on Live Bitcoin News. ... [| Skaityti daugiau](https://www.livebitcoinnews.com/ethereum-price-analysis-bulls-aim-higher-above-1400/) "
      ],
      "text/plain": [
       "<IPython.core.display.Markdown object>"
      ]
     },
     "execution_count": 7,
     "metadata": {},
     "output_type": "execute_result"
    }
   ],
   "source": [
    "#hide_input\n",
    "#md('##### {}'.format(titleBTC)) \n",
    "md(\"- {}{} {}{} [| Skaityti daugiau]({}) \".format(eth['title'],'. ', eth['body'], ' ...', eth['url']))"
   ]
  },
  {
   "cell_type": "code",
   "execution_count": 8,
   "id": "sublime-lounge",
   "metadata": {
    "execution": {
     "iopub.execute_input": "2022-10-25T03:51:23.001414Z",
     "iopub.status.busy": "2022-10-25T03:51:23.000631Z",
     "iopub.status.idle": "2022-10-25T03:51:23.008215Z",
     "shell.execute_reply": "2022-10-25T03:51:23.008894Z"
    },
    "papermill": {
     "duration": 0.032791,
     "end_time": "2022-10-25T03:51:23.009063",
     "exception": false,
     "start_time": "2022-10-25T03:51:22.976272",
     "status": "completed"
    },
    "tags": []
   },
   "outputs": [
    {
     "data": {
      "text/markdown": [
       "- Cardano (ADA) Could Soon Be Listed on Crypto Exchange FTX, According to CEO Sam Bankman-Fried.  Crypto exchange FTX founder Sam Bankman-Fried says he&#8217;s willing to bet that smart contract platform Cardano (ADA) will be listed on his platform soon. In response to a Twitter user claiming FTX is avoiding listing ADA, Bankman-Fried pointed out that ADA perpetual futures contracts are already available on the platform. &#8220;Definitely not the case! we have [&#8230;]The post Cardano (ADA) Could Soon Be Listed on Crypto Exchange FTX, According to CEO Sam Bankman-Fried appeared first on The Daily Hodl. ... [| Skaityti daugiau](https://dailyhodl.com/2022/10/24/cardano-ada-could-soon-be-listed-on-crypto-exchange-ftx-according-to-ceo-sam-bankman-fried/) "
      ],
      "text/plain": [
       "<IPython.core.display.Markdown object>"
      ]
     },
     "execution_count": 8,
     "metadata": {},
     "output_type": "execute_result"
    }
   ],
   "source": [
    "#hide_input\n",
    "#md('##### {}'.format(titleBTC)) \n",
    "md(\"- {}{} {}{} [| Skaityti daugiau]({}) \".format(ada['title'],'. ', ada['body'], ' ...', ada['url']))"
   ]
  },
  {
   "cell_type": "code",
   "execution_count": 9,
   "id": "specified-ordering",
   "metadata": {
    "execution": {
     "iopub.execute_input": "2022-10-25T03:51:23.058949Z",
     "iopub.status.busy": "2022-10-25T03:51:23.058027Z",
     "iopub.status.idle": "2022-10-25T03:51:23.065801Z",
     "shell.execute_reply": "2022-10-25T03:51:23.065138Z"
    },
    "papermill": {
     "duration": 0.038157,
     "end_time": "2022-10-25T03:51:23.065985",
     "exception": false,
     "start_time": "2022-10-25T03:51:23.027828",
     "status": "completed"
    },
    "tags": []
   },
   "outputs": [
    {
     "data": {
      "text/markdown": [
       "- Israel’s Stock Exchange Unveils Plan to Create Digital Asset Platform and Venture Into Crypto.  The Tel-Aviv Stock Exchange, the only public stock exchange in Israel, has announced that it is entering the crypto space and creating a platform for digital assets. &#8220;The next five years are a critical window of opportunity for TASE to play an active role in the technological revolution of the global capital markets,&#8221; said the [&#8230;] ... [| Skaityti daugiau](https://news.bitcoin.com/israels-stock-exchange-unveils-plan-to-create-digital-asset-platform-and-venture-into-crypto/) "
      ],
      "text/plain": [
       "<IPython.core.display.Markdown object>"
      ]
     },
     "execution_count": 9,
     "metadata": {},
     "output_type": "execute_result"
    }
   ],
   "source": [
    "#hide_input\n",
    "#md('##### {}'.format(titleBTC)) \n",
    "md(\"- {}{} {}{} [| Skaityti daugiau]({}) \".format(exchange['title'],'. ', exchange['body'], ' ...', exchange['url']))"
   ]
  },
  {
   "cell_type": "code",
   "execution_count": null,
   "id": "tender-livestock",
   "metadata": {
    "papermill": {
     "duration": 0.016712,
     "end_time": "2022-10-25T03:51:23.103575",
     "exception": false,
     "start_time": "2022-10-25T03:51:23.086863",
     "status": "completed"
    },
    "tags": []
   },
   "outputs": [],
   "source": []
  },
  {
   "cell_type": "code",
   "execution_count": null,
   "id": "appreciated-diamond",
   "metadata": {
    "papermill": {
     "duration": 0.016343,
     "end_time": "2022-10-25T03:51:23.136088",
     "exception": false,
     "start_time": "2022-10-25T03:51:23.119745",
     "status": "completed"
    },
    "tags": []
   },
   "outputs": [],
   "source": []
  },
  {
   "cell_type": "code",
   "execution_count": null,
   "id": "romance-sweden",
   "metadata": {
    "papermill": {
     "duration": 0.017734,
     "end_time": "2022-10-25T03:51:23.170249",
     "exception": false,
     "start_time": "2022-10-25T03:51:23.152515",
     "status": "completed"
    },
    "tags": []
   },
   "outputs": [],
   "source": []
  },
  {
   "cell_type": "code",
   "execution_count": null,
   "id": "dietary-statistics",
   "metadata": {
    "papermill": {
     "duration": 0.015797,
     "end_time": "2022-10-25T03:51:23.203490",
     "exception": false,
     "start_time": "2022-10-25T03:51:23.187693",
     "status": "completed"
    },
    "tags": []
   },
   "outputs": [],
   "source": []
  }
 ],
 "metadata": {
  "kernelspec": {
   "display_name": "Python 3",
   "language": "python",
   "name": "python3"
  },
  "language_info": {
   "codemirror_mode": {
    "name": "ipython",
    "version": 3
   },
   "file_extension": ".py",
   "mimetype": "text/x-python",
   "name": "python",
   "nbconvert_exporter": "python",
   "pygments_lexer": "ipython3",
   "version": "3.6.15"
  },
  "papermill": {
   "default_parameters": {},
   "duration": 18.6713,
   "end_time": "2022-10-25T03:51:23.842342",
   "environment_variables": {},
   "exception": null,
   "input_path": "Market-News.ipynb",
   "output_path": "Market-News.ipynb",
   "parameters": {},
   "start_time": "2022-10-25T03:51:05.171042",
   "version": "2.2.2"
  }
 },
 "nbformat": 4,
 "nbformat_minor": 5
}