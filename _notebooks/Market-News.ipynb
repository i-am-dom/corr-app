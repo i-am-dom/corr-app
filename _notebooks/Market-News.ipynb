{
 "cells": [
  {
   "cell_type": "markdown",
   "id": "short-greensboro",
   "metadata": {
    "papermill": {
     "duration": 0.013545,
     "end_time": "2022-01-02T02:09:17.642076",
     "exception": false,
     "start_time": "2022-01-02T02:09:17.628531",
     "status": "completed"
    },
    "tags": []
   },
   "source": [
    "# Kriptovaliutų naujienos"
   ]
  },
  {
   "cell_type": "code",
   "execution_count": 1,
   "id": "functioning-knowing",
   "metadata": {
    "execution": {
     "iopub.execute_input": "2022-01-02T02:09:17.672187Z",
     "iopub.status.busy": "2022-01-02T02:09:17.671594Z",
     "iopub.status.idle": "2022-01-02T02:09:18.948067Z",
     "shell.execute_reply": "2022-01-02T02:09:18.947121Z"
    },
    "papermill": {
     "duration": 1.296294,
     "end_time": "2022-01-02T02:09:18.948247",
     "exception": false,
     "start_time": "2022-01-02T02:09:17.651953",
     "status": "completed"
    },
    "tags": []
   },
   "outputs": [],
   "source": [
    "#hide_input\n",
    "import warnings\n",
    "warnings.filterwarnings('ignore')\n",
    "from scripts.read_data import read_api\n",
    "from scripts.read_data import read_news\n",
    "from scripts.read_data import read_covid\n",
    "import matplotlib.pyplot as plt \n",
    "from IPython.display import Markdown as md"
   ]
  },
  {
   "cell_type": "code",
   "execution_count": 2,
   "id": "shared-acceptance",
   "metadata": {
    "execution": {
     "iopub.execute_input": "2022-01-02T02:09:18.973240Z",
     "iopub.status.busy": "2022-01-02T02:09:18.972637Z",
     "iopub.status.idle": "2022-01-02T02:09:29.357955Z",
     "shell.execute_reply": "2022-01-02T02:09:29.357416Z"
    },
    "papermill": {
     "duration": 10.400474,
     "end_time": "2022-01-02T02:09:29.358094",
     "exception": false,
     "start_time": "2022-01-02T02:09:18.957620",
     "status": "completed"
    },
    "tags": []
   },
   "outputs": [],
   "source": [
    "#hide_input\n",
    "blockchain = read_news('blockchain') \n",
    "btc = read_news('btc') \n",
    "xrp = read_news('xrp') \n",
    "trx = read_news('trx') \n",
    "eth = read_news('eth')  \n",
    "ada = read_news('ada')\n",
    "exchange = read_news('exchange') "
   ]
  },
  {
   "cell_type": "code",
   "execution_count": 3,
   "id": "synthetic-notion",
   "metadata": {
    "execution": {
     "iopub.execute_input": "2022-01-02T02:09:29.384006Z",
     "iopub.status.busy": "2022-01-02T02:09:29.383468Z",
     "iopub.status.idle": "2022-01-02T02:09:29.385652Z",
     "shell.execute_reply": "2022-01-02T02:09:29.386057Z"
    },
    "papermill": {
     "duration": 0.017737,
     "end_time": "2022-01-02T02:09:29.386184",
     "exception": false,
     "start_time": "2022-01-02T02:09:29.368447",
     "status": "completed"
    },
    "tags": []
   },
   "outputs": [
    {
     "data": {
      "text/markdown": [
       "- Looking back at growth Uniswap’s CEO pushes development direction for 2022.  Hayden Adams, Inventor of the Uniswap Protocol and CEO at Uniswap Labs noted in a series of tweets that &#8220;2021 has been a transformative year for crypto adoption.&#8221; Furthermore, he said, &#8220;And can’t wait to see what the next year brings as we build a decentralized Internet together.&#8221; However, he is ready to take a [&#8230;] ... [| Skaityti daugiau](https://ambcrypto.com/looking-back-at-growth-uniswaps-ceo-pushes-development-direction-for-2022/) "
      ],
      "text/plain": [
       "<IPython.core.display.Markdown object>"
      ]
     },
     "execution_count": 3,
     "metadata": {},
     "output_type": "execute_result"
    }
   ],
   "source": [
    "#hide_input\n",
    "#md('##### {}'.format(titleBTC)) \n",
    "md(\"- {}{} {}{} [| Skaityti daugiau]({}) \".format(blockchain['title'],'. ', blockchain['body'], ' ...', blockchain['url']))"
   ]
  },
  {
   "cell_type": "code",
   "execution_count": 4,
   "id": "aging-caution",
   "metadata": {
    "execution": {
     "iopub.execute_input": "2022-01-02T02:09:29.409382Z",
     "iopub.status.busy": "2022-01-02T02:09:29.408859Z",
     "iopub.status.idle": "2022-01-02T02:09:29.411589Z",
     "shell.execute_reply": "2022-01-02T02:09:29.411080Z"
    },
    "papermill": {
     "duration": 0.016221,
     "end_time": "2022-01-02T02:09:29.411695",
     "exception": false,
     "start_time": "2022-01-02T02:09:29.395474",
     "status": "completed"
    },
    "tags": []
   },
   "outputs": [
    {
     "data": {
      "text/markdown": [
       "- Contributors’ Convictions: A Bitcoin Legacy Letter.  Several Bitcoin Magazine contributors describe what aspects of Bitcoin and its community drive their conviction in the technology. ... [| Skaityti daugiau](https://bitcoinmagazine.com/culture/contributors-convictions-a-bitcoin-legacy-letter) "
      ],
      "text/plain": [
       "<IPython.core.display.Markdown object>"
      ]
     },
     "execution_count": 4,
     "metadata": {},
     "output_type": "execute_result"
    }
   ],
   "source": [
    "#hide_input\n",
    "#md('##### {}'.format(titleBTC)) \n",
    "md(\"- {}{} {}{} [| Skaityti daugiau]({}) \".format(btc['title'],'. ', btc['body'], ' ...', btc['url']))"
   ]
  },
  {
   "cell_type": "code",
   "execution_count": 5,
   "id": "organic-actress",
   "metadata": {
    "execution": {
     "iopub.execute_input": "2022-01-02T02:09:29.435227Z",
     "iopub.status.busy": "2022-01-02T02:09:29.434682Z",
     "iopub.status.idle": "2022-01-02T02:09:29.437880Z",
     "shell.execute_reply": "2022-01-02T02:09:29.437472Z"
    },
    "papermill": {
     "duration": 0.016804,
     "end_time": "2022-01-02T02:09:29.437988",
     "exception": false,
     "start_time": "2022-01-02T02:09:29.421184",
     "status": "completed"
    },
    "tags": []
   },
   "outputs": [
    {
     "data": {
      "text/markdown": [
       "- XRP Lawsuit: What lies ahead for XRP in 2022?.  2021 was an eventful year for the crypto community, especially for XRP holders given the SEC vs Ripple lawsuit took several bittersweet turns during these past 12 months. While on one hand the XRP community was aggravated by the SEC&#8217;s white lies and prejudice, on the other hand the community saw global support, eventually making The post XRP Lawsuit: What lies ahead for XRP in 2022? appeared first on CoinGape. ... [| Skaityti daugiau](https://coingape.com/xrp-lawsuit-what-lies-ahead-for-xrp-in-2022/) "
      ],
      "text/plain": [
       "<IPython.core.display.Markdown object>"
      ]
     },
     "execution_count": 5,
     "metadata": {},
     "output_type": "execute_result"
    }
   ],
   "source": [
    "#hide_input\n",
    "#md('##### {}'.format(titleBTC)) \n",
    "md(\"- {}{} {}{} [| Skaityti daugiau]({}) \".format(xrp['title'],'. ', xrp['body'], ' ...', xrp['url']))"
   ]
  },
  {
   "cell_type": "code",
   "execution_count": 6,
   "id": "prompt-farmer",
   "metadata": {
    "execution": {
     "iopub.execute_input": "2022-01-02T02:09:29.462151Z",
     "iopub.status.busy": "2022-01-02T02:09:29.461643Z",
     "iopub.status.idle": "2022-01-02T02:09:29.464499Z",
     "shell.execute_reply": "2022-01-02T02:09:29.464883Z"
    },
    "papermill": {
     "duration": 0.017212,
     "end_time": "2022-01-02T02:09:29.465003",
     "exception": false,
     "start_time": "2022-01-02T02:09:29.447791",
     "status": "completed"
    },
    "tags": []
   },
   "outputs": [
    {
     "data": {
      "text/markdown": [
       "- Binance Coin, Tron, EOS Price Analysis: 29 December.  The fear sentiment heightened as Bitcoin re-enters the $47,000 zone. As a result, altcoins like Binance Coin, Tron and EOS saw a blip in their recovery. The aforestated cryptos fell below their 20-50-200 SMA, as the bears evidently displayed their edge. Binance Coin (BNB) Over the past few days, BNB formed a symmetrical broadening wedge [&#8230;] ... [| Skaityti daugiau](https://ambcrypto.com/binance-coin-tron-eos-price-analysis-29-december/) "
      ],
      "text/plain": [
       "<IPython.core.display.Markdown object>"
      ]
     },
     "execution_count": 6,
     "metadata": {},
     "output_type": "execute_result"
    }
   ],
   "source": [
    "#hide_input\n",
    "#md('##### {}'.format(titleBTC)) \n",
    "md(\"- {}{} {}{} [| Skaityti daugiau]({}) \".format(trx['title'],'. ', trx['body'], ' ...', trx['url']))"
   ]
  },
  {
   "cell_type": "code",
   "execution_count": 7,
   "id": "illegal-greece",
   "metadata": {
    "execution": {
     "iopub.execute_input": "2022-01-02T02:09:29.489794Z",
     "iopub.status.busy": "2022-01-02T02:09:29.489286Z",
     "iopub.status.idle": "2022-01-02T02:09:29.492351Z",
     "shell.execute_reply": "2022-01-02T02:09:29.491917Z"
    },
    "papermill": {
     "duration": 0.017183,
     "end_time": "2022-01-02T02:09:29.492459",
     "exception": false,
     "start_time": "2022-01-02T02:09:29.475276",
     "status": "completed"
    },
    "tags": []
   },
   "outputs": [
    {
     "data": {
      "text/markdown": [
       "- Here’s What To Expect From This $29,000,000,000-Market Cap Altcoin in 2022, According to Ethereum Co-Founder.  A pioneer in the world of blockchain is giving his 2022 prognosis for an altcoin which has had a breakout year both in terms of price and project milestones. In a new blog post, Ethereum co-founder Gavin Wood discusses the future of cross-chain interoperability protocol Polkadot (DOT), which he founded in 2016. &#8220;More than any [&#8230;]The post Here’s What To Expect From This $29,000,000,000-Market Cap Altcoin in 2022, According to Ethereum Co-Founder appeared first on The Daily Hodl. ... [| Skaityti daugiau](https://dailyhodl.com/2021/12/31/heres-what-to-expect-from-this-29000000000-market-cap-altcoin-in-2022-according-to-ethereum-co-founder/) "
      ],
      "text/plain": [
       "<IPython.core.display.Markdown object>"
      ]
     },
     "execution_count": 7,
     "metadata": {},
     "output_type": "execute_result"
    }
   ],
   "source": [
    "#hide_input\n",
    "#md('##### {}'.format(titleBTC)) \n",
    "md(\"- {}{} {}{} [| Skaityti daugiau]({}) \".format(eth['title'],'. ', eth['body'], ' ...', eth['url']))"
   ]
  },
  {
   "cell_type": "code",
   "execution_count": 8,
   "id": "sublime-lounge",
   "metadata": {
    "execution": {
     "iopub.execute_input": "2022-01-02T02:09:29.518147Z",
     "iopub.status.busy": "2022-01-02T02:09:29.517567Z",
     "iopub.status.idle": "2022-01-02T02:09:29.519642Z",
     "shell.execute_reply": "2022-01-02T02:09:29.520143Z"
    },
    "papermill": {
     "duration": 0.017379,
     "end_time": "2022-01-02T02:09:29.520262",
     "exception": false,
     "start_time": "2022-01-02T02:09:29.502883",
     "status": "completed"
    },
    "tags": []
   },
   "outputs": [
    {
     "data": {
      "text/markdown": [
       "- Cardano Founder Charles Hoskinson Argues Regulators Will Clamp Down on NFTs in 2022.  The founder of Cardano argued that regulators are likely to clamp down on non-fungible tokens (NFTs) in 2022 and beyond. ... [| Skaityti daugiau](https://cryptopotato.com/cardano-founder-charles-hoskinson-argues-regulators-will-clamp-down-on-nfts-in-2022/) "
      ],
      "text/plain": [
       "<IPython.core.display.Markdown object>"
      ]
     },
     "execution_count": 8,
     "metadata": {},
     "output_type": "execute_result"
    }
   ],
   "source": [
    "#hide_input\n",
    "#md('##### {}'.format(titleBTC)) \n",
    "md(\"- {}{} {}{} [| Skaityti daugiau]({}) \".format(ada['title'],'. ', ada['body'], ' ...', ada['url']))"
   ]
  },
  {
   "cell_type": "code",
   "execution_count": 9,
   "id": "specified-ordering",
   "metadata": {
    "execution": {
     "iopub.execute_input": "2022-01-02T02:09:29.546277Z",
     "iopub.status.busy": "2022-01-02T02:09:29.545716Z",
     "iopub.status.idle": "2022-01-02T02:09:29.548979Z",
     "shell.execute_reply": "2022-01-02T02:09:29.548564Z"
    },
    "papermill": {
     "duration": 0.018116,
     "end_time": "2022-01-02T02:09:29.549083",
     "exception": false,
     "start_time": "2022-01-02T02:09:29.530967",
     "status": "completed"
    },
    "tags": []
   },
   "outputs": [
    {
     "data": {
      "text/markdown": [
       "- $LUNA: CNBC Tells Investors About the Risks of Investing in Terra’s Native Token.  Recently, CNBC’s “Make It” looked at the risks of investing in $LUNA, the “hot” token that the “cool kids” love to invest in. $LUNA is the native token of algorithmic stablecoin platform Terra. According to Binance Research, Terra is a Proof of Stake (PoS) blockchain. They also say that $LUNA is “used in the issuance of stablecoins […] ... [| Skaityti daugiau](https://www.cryptoglobe.com/latest/2022/01/luna-cnbc-tells-investors-about-the-risks-of-investing-in-terras-native-token/) "
      ],
      "text/plain": [
       "<IPython.core.display.Markdown object>"
      ]
     },
     "execution_count": 9,
     "metadata": {},
     "output_type": "execute_result"
    }
   ],
   "source": [
    "#hide_input\n",
    "#md('##### {}'.format(titleBTC)) \n",
    "md(\"- {}{} {}{} [| Skaityti daugiau]({}) \".format(exchange['title'],'. ', exchange['body'], ' ...', exchange['url']))"
   ]
  },
  {
   "cell_type": "code",
   "execution_count": null,
   "id": "tender-livestock",
   "metadata": {
    "papermill": {
     "duration": 0.010978,
     "end_time": "2022-01-02T02:09:29.571134",
     "exception": false,
     "start_time": "2022-01-02T02:09:29.560156",
     "status": "completed"
    },
    "tags": []
   },
   "outputs": [],
   "source": []
  },
  {
   "cell_type": "code",
   "execution_count": null,
   "id": "appreciated-diamond",
   "metadata": {
    "papermill": {
     "duration": 0.011112,
     "end_time": "2022-01-02T02:09:29.593508",
     "exception": false,
     "start_time": "2022-01-02T02:09:29.582396",
     "status": "completed"
    },
    "tags": []
   },
   "outputs": [],
   "source": []
  },
  {
   "cell_type": "code",
   "execution_count": null,
   "id": "romance-sweden",
   "metadata": {
    "papermill": {
     "duration": 0.011073,
     "end_time": "2022-01-02T02:09:29.616563",
     "exception": false,
     "start_time": "2022-01-02T02:09:29.605490",
     "status": "completed"
    },
    "tags": []
   },
   "outputs": [],
   "source": []
  },
  {
   "cell_type": "code",
   "execution_count": null,
   "id": "dietary-statistics",
   "metadata": {
    "papermill": {
     "duration": 0.011027,
     "end_time": "2022-01-02T02:09:29.638702",
     "exception": false,
     "start_time": "2022-01-02T02:09:29.627675",
     "status": "completed"
    },
    "tags": []
   },
   "outputs": [],
   "source": []
  }
 ],
 "metadata": {
  "kernelspec": {
   "display_name": "Python 3",
   "language": "python",
   "name": "python3"
  },
  "language_info": {
   "codemirror_mode": {
    "name": "ipython",
    "version": 3
   },
   "file_extension": ".py",
   "mimetype": "text/x-python",
   "name": "python",
   "nbconvert_exporter": "python",
   "pygments_lexer": "ipython3",
   "version": "3.6.15"
  },
  "papermill": {
   "default_parameters": {},
   "duration": 13.35897,
   "end_time": "2022-01-02T02:09:30.057683",
   "environment_variables": {},
   "exception": null,
   "input_path": "Market-News.ipynb",
   "output_path": "Market-News.ipynb",
   "parameters": {},
   "start_time": "2022-01-02T02:09:16.698713",
   "version": "2.2.2"
  }
 },
 "nbformat": 4,
 "nbformat_minor": 5
}