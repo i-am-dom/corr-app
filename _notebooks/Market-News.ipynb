{
 "cells": [
  {
   "cell_type": "markdown",
   "id": "short-greensboro",
   "metadata": {
    "papermill": {
     "duration": 0.012703,
     "end_time": "2022-01-13T02:11:10.606251",
     "exception": false,
     "start_time": "2022-01-13T02:11:10.593548",
     "status": "completed"
    },
    "tags": []
   },
   "source": [
    "# Kriptovaliutų naujienos"
   ]
  },
  {
   "cell_type": "code",
   "execution_count": 1,
   "id": "functioning-knowing",
   "metadata": {
    "execution": {
     "iopub.execute_input": "2022-01-13T02:11:10.635385Z",
     "iopub.status.busy": "2022-01-13T02:11:10.634847Z",
     "iopub.status.idle": "2022-01-13T02:11:11.937010Z",
     "shell.execute_reply": "2022-01-13T02:11:11.937496Z"
    },
    "papermill": {
     "duration": 1.32174,
     "end_time": "2022-01-13T02:11:11.937696",
     "exception": false,
     "start_time": "2022-01-13T02:11:10.615956",
     "status": "completed"
    },
    "tags": []
   },
   "outputs": [],
   "source": [
    "#hide_input\n",
    "import warnings\n",
    "warnings.filterwarnings('ignore')\n",
    "from scripts.read_data import read_api\n",
    "from scripts.read_data import read_news\n",
    "from scripts.read_data import read_covid\n",
    "import matplotlib.pyplot as plt \n",
    "from IPython.display import Markdown as md"
   ]
  },
  {
   "cell_type": "code",
   "execution_count": 2,
   "id": "shared-acceptance",
   "metadata": {
    "execution": {
     "iopub.execute_input": "2022-01-13T02:11:11.963183Z",
     "iopub.status.busy": "2022-01-13T02:11:11.962660Z",
     "iopub.status.idle": "2022-01-13T02:11:20.863526Z",
     "shell.execute_reply": "2022-01-13T02:11:20.862992Z"
    },
    "papermill": {
     "duration": 8.915994,
     "end_time": "2022-01-13T02:11:20.863672",
     "exception": false,
     "start_time": "2022-01-13T02:11:11.947678",
     "status": "completed"
    },
    "tags": []
   },
   "outputs": [],
   "source": [
    "#hide_input\n",
    "blockchain = read_news('blockchain') \n",
    "btc = read_news('btc') \n",
    "xrp = read_news('xrp') \n",
    "trx = read_news('trx') \n",
    "eth = read_news('eth')  \n",
    "ada = read_news('ada')\n",
    "exchange = read_news('exchange') "
   ]
  },
  {
   "cell_type": "code",
   "execution_count": 3,
   "id": "synthetic-notion",
   "metadata": {
    "execution": {
     "iopub.execute_input": "2022-01-13T02:11:20.890895Z",
     "iopub.status.busy": "2022-01-13T02:11:20.890320Z",
     "iopub.status.idle": "2022-01-13T02:11:20.892426Z",
     "shell.execute_reply": "2022-01-13T02:11:20.892835Z"
    },
    "papermill": {
     "duration": 0.018258,
     "end_time": "2022-01-13T02:11:20.892970",
     "exception": false,
     "start_time": "2022-01-13T02:11:20.874712",
     "status": "completed"
    },
    "tags": []
   },
   "outputs": [
    {
     "data": {
      "text/markdown": [
       "- Top 5 Most Traded Metaverse Crypto Coins Today (January 12th).  Metaverse crypto coins are prevalent among traders in 2022, boasting over $5.1 billion in trading volume combined over the past 24 hours. This article looks at today&#8217;s top five most traded Metaverse crypto coins, ordered by trading volume, lowest to highest. Enjin Coin (ENJ) &#8211; $243M Enjin is a blockchain enabling users to create custom [&#8230;]The post Top 5 Most Traded Metaverse Crypto Coins Today (January 12th) appeared first on NullTX. ... [| Skaityti daugiau](https://nulltx.com/top-5-most-traded-metaverse-crypto-coins-today-january-12th/) "
      ],
      "text/plain": [
       "<IPython.core.display.Markdown object>"
      ]
     },
     "execution_count": 3,
     "metadata": {},
     "output_type": "execute_result"
    }
   ],
   "source": [
    "#hide_input\n",
    "#md('##### {}'.format(titleBTC)) \n",
    "md(\"- {}{} {}{} [| Skaityti daugiau]({}) \".format(blockchain['title'],'. ', blockchain['body'], ' ...', blockchain['url']))"
   ]
  },
  {
   "cell_type": "code",
   "execution_count": 4,
   "id": "aging-caution",
   "metadata": {
    "execution": {
     "iopub.execute_input": "2022-01-13T02:11:20.917829Z",
     "iopub.status.busy": "2022-01-13T02:11:20.917224Z",
     "iopub.status.idle": "2022-01-13T02:11:20.922737Z",
     "shell.execute_reply": "2022-01-13T02:11:20.922271Z"
    },
    "papermill": {
     "duration": 0.020224,
     "end_time": "2022-01-13T02:11:20.922864",
     "exception": false,
     "start_time": "2022-01-13T02:11:20.902640",
     "status": "completed"
    },
    "tags": []
   },
   "outputs": [
    {
     "data": {
      "text/markdown": [
       "- Ethereum’s Centralization Endgame Makes The Case For Building On Bitcoin.  In a recent explanation of Ethereum’s roadmap, Vitalik Buterin inadvertently made the case that building on Bitcoin is our only path to decentralization. ... [| Skaityti daugiau](https://bitcoinmagazine.com/technical/ethereum-endgame-makes-case-for-bitcoin) "
      ],
      "text/plain": [
       "<IPython.core.display.Markdown object>"
      ]
     },
     "execution_count": 4,
     "metadata": {},
     "output_type": "execute_result"
    }
   ],
   "source": [
    "#hide_input\n",
    "#md('##### {}'.format(titleBTC)) \n",
    "md(\"- {}{} {}{} [| Skaityti daugiau]({}) \".format(btc['title'],'. ', btc['body'], ' ...', btc['url']))"
   ]
  },
  {
   "cell_type": "code",
   "execution_count": 5,
   "id": "organic-actress",
   "metadata": {
    "execution": {
     "iopub.execute_input": "2022-01-13T02:11:20.947105Z",
     "iopub.status.busy": "2022-01-13T02:11:20.946603Z",
     "iopub.status.idle": "2022-01-13T02:11:20.949869Z",
     "shell.execute_reply": "2022-01-13T02:11:20.949465Z"
    },
    "papermill": {
     "duration": 0.017315,
     "end_time": "2022-01-13T02:11:20.949983",
     "exception": false,
     "start_time": "2022-01-13T02:11:20.932668",
     "status": "completed"
    },
    "tags": []
   },
   "outputs": [
    {
     "data": {
      "text/markdown": [
       "- Price analysis 1/12: BTC, ETH, BNB, SOL, ADA, XRP, LUNA, DOT, AVAX, DOGE.  Bitcoin and most major altcoins have started a strong recovery that could reach overhead resistance levels where bears may mount a strong defense. ... [| Skaityti daugiau](https://cointelegraph.com/news/price-analysis-1-12-btc-eth-bnb-sol-ada-xrp-luna-dot-avax-doge) "
      ],
      "text/plain": [
       "<IPython.core.display.Markdown object>"
      ]
     },
     "execution_count": 5,
     "metadata": {},
     "output_type": "execute_result"
    }
   ],
   "source": [
    "#hide_input\n",
    "#md('##### {}'.format(titleBTC)) \n",
    "md(\"- {}{} {}{} [| Skaityti daugiau]({}) \".format(xrp['title'],'. ', xrp['body'], ' ...', xrp['url']))"
   ]
  },
  {
   "cell_type": "code",
   "execution_count": 6,
   "id": "prompt-farmer",
   "metadata": {
    "execution": {
     "iopub.execute_input": "2022-01-13T02:11:20.974590Z",
     "iopub.status.busy": "2022-01-13T02:11:20.974045Z",
     "iopub.status.idle": "2022-01-13T02:11:20.976585Z",
     "shell.execute_reply": "2022-01-13T02:11:20.977015Z"
    },
    "papermill": {
     "duration": 0.016953,
     "end_time": "2022-01-13T02:11:20.977132",
     "exception": false,
     "start_time": "2022-01-13T02:11:20.960179",
     "status": "completed"
    },
    "tags": []
   },
   "outputs": [
    {
     "data": {
      "text/markdown": [
       "- Tron, VeChain, Sushi Price Analysis: 12 January.  With Bitcoin&#8217;s 4-hour RSI finding a close above the midline for the first time in two weeks, Tron and VeChain broke out of their reversal patterns. While VeChain reclaimed the vital $0.076-level, Tron and Sushi crossed the near-term 20-SMA hurdle. The broader market was in the green zone over the past day but needed to [&#8230;] ... [| Skaityti daugiau](https://ambcrypto.com/tron-vechain-sushi-price-analysis-12-january/) "
      ],
      "text/plain": [
       "<IPython.core.display.Markdown object>"
      ]
     },
     "execution_count": 6,
     "metadata": {},
     "output_type": "execute_result"
    }
   ],
   "source": [
    "#hide_input\n",
    "#md('##### {}'.format(titleBTC)) \n",
    "md(\"- {}{} {}{} [| Skaityti daugiau]({}) \".format(trx['title'],'. ', trx['body'], ' ...', trx['url']))"
   ]
  },
  {
   "cell_type": "code",
   "execution_count": 7,
   "id": "illegal-greece",
   "metadata": {
    "execution": {
     "iopub.execute_input": "2022-01-13T02:11:21.002610Z",
     "iopub.status.busy": "2022-01-13T02:11:21.001519Z",
     "iopub.status.idle": "2022-01-13T02:11:21.005159Z",
     "shell.execute_reply": "2022-01-13T02:11:21.005645Z"
    },
    "papermill": {
     "duration": 0.018221,
     "end_time": "2022-01-13T02:11:21.005762",
     "exception": false,
     "start_time": "2022-01-13T02:11:20.987541",
     "status": "completed"
    },
    "tags": []
   },
   "outputs": [
    {
     "data": {
      "text/markdown": [
       "- Ethereum’s Centralization Endgame Makes The Case For Building On Bitcoin.  In a recent explanation of Ethereum’s roadmap, Vitalik Buterin inadvertently made the case that building on Bitcoin is our only path to decentralization. ... [| Skaityti daugiau](https://bitcoinmagazine.com/technical/ethereum-endgame-makes-case-for-bitcoin) "
      ],
      "text/plain": [
       "<IPython.core.display.Markdown object>"
      ]
     },
     "execution_count": 7,
     "metadata": {},
     "output_type": "execute_result"
    }
   ],
   "source": [
    "#hide_input\n",
    "#md('##### {}'.format(titleBTC)) \n",
    "md(\"- {}{} {}{} [| Skaityti daugiau]({}) \".format(eth['title'],'. ', eth['body'], ' ...', eth['url']))"
   ]
  },
  {
   "cell_type": "code",
   "execution_count": 8,
   "id": "sublime-lounge",
   "metadata": {
    "execution": {
     "iopub.execute_input": "2022-01-13T02:11:21.031290Z",
     "iopub.status.busy": "2022-01-13T02:11:21.030789Z",
     "iopub.status.idle": "2022-01-13T02:11:21.034009Z",
     "shell.execute_reply": "2022-01-13T02:11:21.033606Z"
    },
    "papermill": {
     "duration": 0.017811,
     "end_time": "2022-01-13T02:11:21.034113",
     "exception": false,
     "start_time": "2022-01-13T02:11:21.016302",
     "status": "completed"
    },
    "tags": []
   },
   "outputs": [
    {
     "data": {
      "text/markdown": [
       "- Cardano found buyers near the $1-mark, but here’s why that’s not enough.  Disclaimer: The findings of the following analysis are the sole opinions of the writer and shouldn&#8217;t be considered investment advice The price of Cardano has been falling over the past few months. The $1.2 support did not hold sellers at bay, however, the $1 area did. At the time of writing, Cardano appeared to be in [&#8230;] ... [| Skaityti daugiau](https://ambcrypto.com/cardano-found-buyers-near-the-1-mark-but-heres-why-thats-not-enough/) "
      ],
      "text/plain": [
       "<IPython.core.display.Markdown object>"
      ]
     },
     "execution_count": 8,
     "metadata": {},
     "output_type": "execute_result"
    }
   ],
   "source": [
    "#hide_input\n",
    "#md('##### {}'.format(titleBTC)) \n",
    "md(\"- {}{} {}{} [| Skaityti daugiau]({}) \".format(ada['title'],'. ', ada['body'], ' ...', ada['url']))"
   ]
  },
  {
   "cell_type": "code",
   "execution_count": 9,
   "id": "specified-ordering",
   "metadata": {
    "execution": {
     "iopub.execute_input": "2022-01-13T02:11:21.060341Z",
     "iopub.status.busy": "2022-01-13T02:11:21.059810Z",
     "iopub.status.idle": "2022-01-13T02:11:21.063052Z",
     "shell.execute_reply": "2022-01-13T02:11:21.062643Z"
    },
    "papermill": {
     "duration": 0.018167,
     "end_time": "2022-01-13T02:11:21.063158",
     "exception": false,
     "start_time": "2022-01-13T02:11:21.044991",
     "status": "completed"
    },
    "tags": []
   },
   "outputs": [
    {
     "data": {
      "text/markdown": [
       "- South African Police Launch Investigation into Alleged Crypto Fraud.  Several months after 69,000 bitcoins disappeared from a South African exchange, the police have opened an investigation. ... [| Skaityti daugiau](https://cryptopotato.com/south-african-police-launch-investigation-into-alleged-crypto-fraud/) "
      ],
      "text/plain": [
       "<IPython.core.display.Markdown object>"
      ]
     },
     "execution_count": 9,
     "metadata": {},
     "output_type": "execute_result"
    }
   ],
   "source": [
    "#hide_input\n",
    "#md('##### {}'.format(titleBTC)) \n",
    "md(\"- {}{} {}{} [| Skaityti daugiau]({}) \".format(exchange['title'],'. ', exchange['body'], ' ...', exchange['url']))"
   ]
  },
  {
   "cell_type": "code",
   "execution_count": null,
   "id": "tender-livestock",
   "metadata": {
    "papermill": {
     "duration": 0.011057,
     "end_time": "2022-01-13T02:11:21.085300",
     "exception": false,
     "start_time": "2022-01-13T02:11:21.074243",
     "status": "completed"
    },
    "tags": []
   },
   "outputs": [],
   "source": []
  },
  {
   "cell_type": "code",
   "execution_count": null,
   "id": "appreciated-diamond",
   "metadata": {
    "papermill": {
     "duration": 0.0115,
     "end_time": "2022-01-13T02:11:21.108150",
     "exception": false,
     "start_time": "2022-01-13T02:11:21.096650",
     "status": "completed"
    },
    "tags": []
   },
   "outputs": [],
   "source": []
  },
  {
   "cell_type": "code",
   "execution_count": null,
   "id": "romance-sweden",
   "metadata": {
    "papermill": {
     "duration": 0.010982,
     "end_time": "2022-01-13T02:11:21.130238",
     "exception": false,
     "start_time": "2022-01-13T02:11:21.119256",
     "status": "completed"
    },
    "tags": []
   },
   "outputs": [],
   "source": []
  },
  {
   "cell_type": "code",
   "execution_count": null,
   "id": "dietary-statistics",
   "metadata": {
    "papermill": {
     "duration": 0.011037,
     "end_time": "2022-01-13T02:11:21.152402",
     "exception": false,
     "start_time": "2022-01-13T02:11:21.141365",
     "status": "completed"
    },
    "tags": []
   },
   "outputs": [],
   "source": []
  }
 ],
 "metadata": {
  "kernelspec": {
   "display_name": "Python 3",
   "language": "python",
   "name": "python3"
  },
  "language_info": {
   "codemirror_mode": {
    "name": "ipython",
    "version": 3
   },
   "file_extension": ".py",
   "mimetype": "text/x-python",
   "name": "python",
   "nbconvert_exporter": "python",
   "pygments_lexer": "ipython3",
   "version": "3.6.15"
  },
  "papermill": {
   "default_parameters": {},
   "duration": 12.009525,
   "end_time": "2022-01-13T02:11:21.673875",
   "environment_variables": {},
   "exception": null,
   "input_path": "Market-News.ipynb",
   "output_path": "Market-News.ipynb",
   "parameters": {},
   "start_time": "2022-01-13T02:11:09.664350",
   "version": "2.2.2"
  }
 },
 "nbformat": 4,
 "nbformat_minor": 5
}