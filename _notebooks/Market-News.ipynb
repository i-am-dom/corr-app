{
 "cells": [
  {
   "cell_type": "markdown",
   "id": "short-greensboro",
   "metadata": {
    "papermill": {
     "duration": 0.016774,
     "end_time": "2021-12-06T02:04:09.959961",
     "exception": false,
     "start_time": "2021-12-06T02:04:09.943187",
     "status": "completed"
    },
    "tags": []
   },
   "source": [
    "# Kriptovaliutų naujienos"
   ]
  },
  {
   "cell_type": "code",
   "execution_count": 1,
   "id": "functioning-knowing",
   "metadata": {
    "execution": {
     "iopub.execute_input": "2021-12-06T02:04:09.998209Z",
     "iopub.status.busy": "2021-12-06T02:04:09.997467Z",
     "iopub.status.idle": "2021-12-06T02:04:11.690813Z",
     "shell.execute_reply": "2021-12-06T02:04:11.691379Z"
    },
    "papermill": {
     "duration": 1.718831,
     "end_time": "2021-12-06T02:04:11.691582",
     "exception": false,
     "start_time": "2021-12-06T02:04:09.972751",
     "status": "completed"
    },
    "tags": []
   },
   "outputs": [],
   "source": [
    "#hide_input\n",
    "import warnings\n",
    "warnings.filterwarnings('ignore')\n",
    "from scripts.read_data import read_api\n",
    "from scripts.read_data import read_news\n",
    "from scripts.read_data import read_covid\n",
    "import matplotlib.pyplot as plt \n",
    "from IPython.display import Markdown as md"
   ]
  },
  {
   "cell_type": "code",
   "execution_count": 2,
   "id": "shared-acceptance",
   "metadata": {
    "execution": {
     "iopub.execute_input": "2021-12-06T02:04:11.723861Z",
     "iopub.status.busy": "2021-12-06T02:04:11.723152Z",
     "iopub.status.idle": "2021-12-06T02:04:20.543322Z",
     "shell.execute_reply": "2021-12-06T02:04:20.542711Z"
    },
    "papermill": {
     "duration": 8.839199,
     "end_time": "2021-12-06T02:04:20.543485",
     "exception": false,
     "start_time": "2021-12-06T02:04:11.704286",
     "status": "completed"
    },
    "tags": []
   },
   "outputs": [],
   "source": [
    "#hide_input\n",
    "blockchain = read_news('blockchain') \n",
    "btc = read_news('btc') \n",
    "xrp = read_news('xrp') \n",
    "trx = read_news('trx') \n",
    "eth = read_news('eth')  \n",
    "ada = read_news('ada')\n",
    "exchange = read_news('exchange') "
   ]
  },
  {
   "cell_type": "code",
   "execution_count": 3,
   "id": "synthetic-notion",
   "metadata": {
    "execution": {
     "iopub.execute_input": "2021-12-06T02:04:20.577263Z",
     "iopub.status.busy": "2021-12-06T02:04:20.576374Z",
     "iopub.status.idle": "2021-12-06T02:04:20.579898Z",
     "shell.execute_reply": "2021-12-06T02:04:20.580556Z"
    },
    "papermill": {
     "duration": 0.024733,
     "end_time": "2021-12-06T02:04:20.580856",
     "exception": false,
     "start_time": "2021-12-06T02:04:20.556123",
     "status": "completed"
    },
    "tags": []
   },
   "outputs": [
    {
     "data": {
      "text/markdown": [
       "- LUNA Breaks ATH: Gained 2700% Since May’s Crash as $13.9B Locked on Terra.  The total value locked on the Terra blockchain soared to nearly $14 billion as LUNA hit a new all-time high after gaining 2700% since May crash. ... [| Skaityti daugiau](https://cryptopotato.com/luna-breaks-ath-gained-2700-since-mays-crash-as-13-9b-locked-on-terra/) "
      ],
      "text/plain": [
       "<IPython.core.display.Markdown object>"
      ]
     },
     "execution_count": 3,
     "metadata": {},
     "output_type": "execute_result"
    }
   ],
   "source": [
    "#hide_input\n",
    "#md('##### {}'.format(titleBTC)) \n",
    "md(\"- {}{} {}{} [| Skaityti daugiau]({}) \".format(blockchain['title'],'. ', blockchain['body'], ' ...', blockchain['url']))"
   ]
  },
  {
   "cell_type": "code",
   "execution_count": 4,
   "id": "aging-caution",
   "metadata": {
    "execution": {
     "iopub.execute_input": "2021-12-06T02:04:20.614383Z",
     "iopub.status.busy": "2021-12-06T02:04:20.611529Z",
     "iopub.status.idle": "2021-12-06T02:04:20.618129Z",
     "shell.execute_reply": "2021-12-06T02:04:20.617565Z"
    },
    "papermill": {
     "duration": 0.023507,
     "end_time": "2021-12-06T02:04:20.618279",
     "exception": false,
     "start_time": "2021-12-06T02:04:20.594772",
     "status": "completed"
    },
    "tags": []
   },
   "outputs": [
    {
     "data": {
      "text/markdown": [
       "- Litecoin Community Join Bitrise, While Bitcoin Plunges 20%.  Attractive token investors Rewards. Innovative and investor rewarding token economics. One of the highly potent DeFi project. The last few ...Read More... ... [| Skaityti daugiau](https://coinquora.com/litecoin-community-join-bitrise-while-bitcoin-plunges-20/) "
      ],
      "text/plain": [
       "<IPython.core.display.Markdown object>"
      ]
     },
     "execution_count": 4,
     "metadata": {},
     "output_type": "execute_result"
    }
   ],
   "source": [
    "#hide_input\n",
    "#md('##### {}'.format(titleBTC)) \n",
    "md(\"- {}{} {}{} [| Skaityti daugiau]({}) \".format(btc['title'],'. ', btc['body'], ' ...', btc['url']))"
   ]
  },
  {
   "cell_type": "code",
   "execution_count": 5,
   "id": "organic-actress",
   "metadata": {
    "execution": {
     "iopub.execute_input": "2021-12-06T02:04:20.649339Z",
     "iopub.status.busy": "2021-12-06T02:04:20.648662Z",
     "iopub.status.idle": "2021-12-06T02:04:20.652907Z",
     "shell.execute_reply": "2021-12-06T02:04:20.652340Z"
    },
    "papermill": {
     "duration": 0.022162,
     "end_time": "2021-12-06T02:04:20.653068",
     "exception": false,
     "start_time": "2021-12-06T02:04:20.630906",
     "status": "completed"
    },
    "tags": []
   },
   "outputs": [
    {
     "data": {
      "text/markdown": [
       "- Dogecoin Is Loved By All… Except Brad Garlinghouse.  Dogecoin is arguably one of the world’s most popular – and most successful cryptocurrencies – in the world. Starting out as a joke roughly eight years ago, the currency has been established as one of the leading digital assets of today. It has a market cap of more than $1 billion and has garnered attention...The post Dogecoin Is Loved By All&#8230; Except Brad Garlinghouse appeared first on Live Bitcoin News. ... [| Skaityti daugiau](https://www.livebitcoinnews.com/dogecoin-is-loved-by-all-except-brad-garlinghouse/) "
      ],
      "text/plain": [
       "<IPython.core.display.Markdown object>"
      ]
     },
     "execution_count": 5,
     "metadata": {},
     "output_type": "execute_result"
    }
   ],
   "source": [
    "#hide_input\n",
    "#md('##### {}'.format(titleBTC)) \n",
    "md(\"- {}{} {}{} [| Skaityti daugiau]({}) \".format(xrp['title'],'. ', xrp['body'], ' ...', xrp['url']))"
   ]
  },
  {
   "cell_type": "code",
   "execution_count": 6,
   "id": "prompt-farmer",
   "metadata": {
    "execution": {
     "iopub.execute_input": "2021-12-06T02:04:20.684745Z",
     "iopub.status.busy": "2021-12-06T02:04:20.684068Z",
     "iopub.status.idle": "2021-12-06T02:04:20.687598Z",
     "shell.execute_reply": "2021-12-06T02:04:20.688129Z"
    },
    "papermill": {
     "duration": 0.021613,
     "end_time": "2021-12-06T02:04:20.688288",
     "exception": false,
     "start_time": "2021-12-06T02:04:20.666675",
     "status": "completed"
    },
    "tags": []
   },
   "outputs": [
    {
     "data": {
      "text/markdown": [
       "- Bitcoin Cash, Tron, Terra Price Analysis: 03 December.  As the broader market entered into a possible recovery phase, Tron saw gains on its daily chart after bouncing from its two-month support level. Moreover, Terra&#8217;s LUNA saw 56.4% weekly ROI while it entered into price discovery and found its ATH on 3 December. On the flip side, Bitcoin Cash flashed bearish near-term technical indications. [&#8230;] ... [| Skaityti daugiau](https://ambcrypto.com/bitcoin-cash-tron-terra-price-analysis-03-december/) "
      ],
      "text/plain": [
       "<IPython.core.display.Markdown object>"
      ]
     },
     "execution_count": 6,
     "metadata": {},
     "output_type": "execute_result"
    }
   ],
   "source": [
    "#hide_input\n",
    "#md('##### {}'.format(titleBTC)) \n",
    "md(\"- {}{} {}{} [| Skaityti daugiau]({}) \".format(trx['title'],'. ', trx['body'], ' ...', trx['url']))"
   ]
  },
  {
   "cell_type": "code",
   "execution_count": 7,
   "id": "illegal-greece",
   "metadata": {
    "execution": {
     "iopub.execute_input": "2021-12-06T02:04:20.724588Z",
     "iopub.status.busy": "2021-12-06T02:04:20.723864Z",
     "iopub.status.idle": "2021-12-06T02:04:20.727560Z",
     "shell.execute_reply": "2021-12-06T02:04:20.728156Z"
    },
    "papermill": {
     "duration": 0.025118,
     "end_time": "2021-12-06T02:04:20.728320",
     "exception": false,
     "start_time": "2021-12-06T02:04:20.703202",
     "status": "completed"
    },
    "tags": []
   },
   "outputs": [
    {
     "data": {
      "text/markdown": [
       "- Magic Eden surpasses behemoth OpenSea in daily transactions despite half the users.  Ethereum boasts of being the home and origin of all big blue-chip NFT collections. Although, this fast-paced industry competitor blockchains like Solana are not far behind. In fact, it has turned out to be a perfect host for NFT collectors and creators alike. The marketplace boasts super-fast transactions and minimal gas fees. According to DappRadar data, [&#8230;] ... [| Skaityti daugiau](https://ambcrypto.com/magic-eden-surpasses-behemoth-opensea-in-daily-transactions-despite-half-the-users/) "
      ],
      "text/plain": [
       "<IPython.core.display.Markdown object>"
      ]
     },
     "execution_count": 7,
     "metadata": {},
     "output_type": "execute_result"
    }
   ],
   "source": [
    "#hide_input\n",
    "#md('##### {}'.format(titleBTC)) \n",
    "md(\"- {}{} {}{} [| Skaityti daugiau]({}) \".format(eth['title'],'. ', eth['body'], ' ...', eth['url']))"
   ]
  },
  {
   "cell_type": "code",
   "execution_count": 8,
   "id": "sublime-lounge",
   "metadata": {
    "execution": {
     "iopub.execute_input": "2021-12-06T02:04:20.762056Z",
     "iopub.status.busy": "2021-12-06T02:04:20.761335Z",
     "iopub.status.idle": "2021-12-06T02:04:20.764410Z",
     "shell.execute_reply": "2021-12-06T02:04:20.765018Z"
    },
    "papermill": {
     "duration": 0.02272,
     "end_time": "2021-12-06T02:04:20.765159",
     "exception": false,
     "start_time": "2021-12-06T02:04:20.742439",
     "status": "completed"
    },
    "tags": []
   },
   "outputs": [
    {
     "data": {
      "text/markdown": [
       "- Despite stagnant prices, Cardano reaches the 1 million wallets staked milestone.  Cardano&#8216;s DeFi ecosystem is slowly starting to take shape, thanks to the network&#8217;s Alonzo hard fork earlier this year. The hard fork paved the way for smart contract integration. In fact, its first decentralized exchange, SundaeSwap is all set for its testnet launch later today. These developments have led to an increased interest in Cardano, [&#8230;] ... [| Skaityti daugiau](https://ambcrypto.com/despite-stagnant-prices-cardano-reaches-the-1-million-wallets-staking-milestone/) "
      ],
      "text/plain": [
       "<IPython.core.display.Markdown object>"
      ]
     },
     "execution_count": 8,
     "metadata": {},
     "output_type": "execute_result"
    }
   ],
   "source": [
    "#hide_input\n",
    "#md('##### {}'.format(titleBTC)) \n",
    "md(\"- {}{} {}{} [| Skaityti daugiau]({}) \".format(ada['title'],'. ', ada['body'], ' ...', ada['url']))"
   ]
  },
  {
   "cell_type": "code",
   "execution_count": 9,
   "id": "specified-ordering",
   "metadata": {
    "execution": {
     "iopub.execute_input": "2021-12-06T02:04:20.799829Z",
     "iopub.status.busy": "2021-12-06T02:04:20.799048Z",
     "iopub.status.idle": "2021-12-06T02:04:20.803908Z",
     "shell.execute_reply": "2021-12-06T02:04:20.804484Z"
    },
    "papermill": {
     "duration": 0.024782,
     "end_time": "2021-12-06T02:04:20.804640",
     "exception": false,
     "start_time": "2021-12-06T02:04:20.779858",
     "status": "completed"
    },
    "tags": []
   },
   "outputs": [
    {
     "data": {
      "text/markdown": [
       "- SEC Chairman Gary Gensler Stresses Crypto Markets Are Open to Manipulation, Investors Vulnerable.  The chairman of the U.S. Securities and Exchange Commission (SEC), Gary Gensler, has called for more investor protection in crypto markets. &#x201C;This asset class is rife with fraud, scams, and abuse in certain applications,&#x201D; he said. &#x201C;In many cases, investors aren&#x2019;t able to get rigorous, balanced, and complete information on tokens or trading and lending [&#8230;] ... [| Skaityti daugiau](https://news.bitcoin.com/sec-chairman-gary-gensler-crypto-markets-open-to-manipulation-investors-vulnerable/) "
      ],
      "text/plain": [
       "<IPython.core.display.Markdown object>"
      ]
     },
     "execution_count": 9,
     "metadata": {},
     "output_type": "execute_result"
    }
   ],
   "source": [
    "#hide_input\n",
    "#md('##### {}'.format(titleBTC)) \n",
    "md(\"- {}{} {}{} [| Skaityti daugiau]({}) \".format(exchange['title'],'. ', exchange['body'], ' ...', exchange['url']))"
   ]
  },
  {
   "cell_type": "code",
   "execution_count": null,
   "id": "tender-livestock",
   "metadata": {
    "papermill": {
     "duration": 0.01486,
     "end_time": "2021-12-06T02:04:20.834432",
     "exception": false,
     "start_time": "2021-12-06T02:04:20.819572",
     "status": "completed"
    },
    "tags": []
   },
   "outputs": [],
   "source": []
  },
  {
   "cell_type": "code",
   "execution_count": null,
   "id": "appreciated-diamond",
   "metadata": {
    "papermill": {
     "duration": 0.014646,
     "end_time": "2021-12-06T02:04:20.864294",
     "exception": false,
     "start_time": "2021-12-06T02:04:20.849648",
     "status": "completed"
    },
    "tags": []
   },
   "outputs": [],
   "source": []
  },
  {
   "cell_type": "code",
   "execution_count": null,
   "id": "romance-sweden",
   "metadata": {
    "papermill": {
     "duration": 0.014842,
     "end_time": "2021-12-06T02:04:20.893556",
     "exception": false,
     "start_time": "2021-12-06T02:04:20.878714",
     "status": "completed"
    },
    "tags": []
   },
   "outputs": [],
   "source": []
  },
  {
   "cell_type": "code",
   "execution_count": null,
   "id": "dietary-statistics",
   "metadata": {
    "papermill": {
     "duration": 0.015215,
     "end_time": "2021-12-06T02:04:20.924973",
     "exception": false,
     "start_time": "2021-12-06T02:04:20.909758",
     "status": "completed"
    },
    "tags": []
   },
   "outputs": [],
   "source": []
  }
 ],
 "metadata": {
  "kernelspec": {
   "display_name": "Python 3",
   "language": "python",
   "name": "python3"
  },
  "language_info": {
   "codemirror_mode": {
    "name": "ipython",
    "version": 3
   },
   "file_extension": ".py",
   "mimetype": "text/x-python",
   "name": "python",
   "nbconvert_exporter": "python",
   "pygments_lexer": "ipython3",
   "version": "3.6.15"
  },
  "papermill": {
   "default_parameters": {},
   "duration": 12.888299,
   "end_time": "2021-12-06T02:04:21.450426",
   "environment_variables": {},
   "exception": null,
   "input_path": "Market-News.ipynb",
   "output_path": "Market-News.ipynb",
   "parameters": {},
   "start_time": "2021-12-06T02:04:08.562127",
   "version": "2.2.2"
  }
 },
 "nbformat": 4,
 "nbformat_minor": 5
}