{
 "cells": [
  {
   "cell_type": "markdown",
   "id": "short-greensboro",
   "metadata": {
    "papermill": {
     "duration": 0.013325,
     "end_time": "2022-04-30T02:56:51.670750",
     "exception": false,
     "start_time": "2022-04-30T02:56:51.657425",
     "status": "completed"
    },
    "tags": []
   },
   "source": [
    "# Kriptovaliutų naujienos"
   ]
  },
  {
   "cell_type": "code",
   "execution_count": 1,
   "id": "functioning-knowing",
   "metadata": {
    "execution": {
     "iopub.execute_input": "2022-04-30T02:56:51.698603Z",
     "iopub.status.busy": "2022-04-30T02:56:51.696319Z",
     "iopub.status.idle": "2022-04-30T02:56:52.889836Z",
     "shell.execute_reply": "2022-04-30T02:56:52.890313Z"
    },
    "papermill": {
     "duration": 1.210108,
     "end_time": "2022-04-30T02:56:52.890493",
     "exception": false,
     "start_time": "2022-04-30T02:56:51.680385",
     "status": "completed"
    },
    "tags": []
   },
   "outputs": [],
   "source": [
    "#hide_input\n",
    "import warnings\n",
    "warnings.filterwarnings('ignore')\n",
    "from scripts.read_data import read_api\n",
    "from scripts.read_data import read_news\n",
    "from scripts.read_data import read_covid\n",
    "import matplotlib.pyplot as plt \n",
    "from IPython.display import Markdown as md"
   ]
  },
  {
   "cell_type": "code",
   "execution_count": 2,
   "id": "shared-acceptance",
   "metadata": {
    "execution": {
     "iopub.execute_input": "2022-04-30T02:56:52.914472Z",
     "iopub.status.busy": "2022-04-30T02:56:52.913963Z",
     "iopub.status.idle": "2022-04-30T02:57:03.876830Z",
     "shell.execute_reply": "2022-04-30T02:57:03.876310Z"
    },
    "papermill": {
     "duration": 10.977323,
     "end_time": "2022-04-30T02:57:03.876963",
     "exception": false,
     "start_time": "2022-04-30T02:56:52.899640",
     "status": "completed"
    },
    "tags": []
   },
   "outputs": [],
   "source": [
    "#hide_input\n",
    "blockchain = read_news('blockchain') \n",
    "btc = read_news('btc') \n",
    "xrp = read_news('xrp') \n",
    "trx = read_news('trx') \n",
    "eth = read_news('eth')  \n",
    "ada = read_news('ada')\n",
    "exchange = read_news('exchange') "
   ]
  },
  {
   "cell_type": "code",
   "execution_count": 3,
   "id": "synthetic-notion",
   "metadata": {
    "execution": {
     "iopub.execute_input": "2022-04-30T02:57:03.902468Z",
     "iopub.status.busy": "2022-04-30T02:57:03.901859Z",
     "iopub.status.idle": "2022-04-30T02:57:03.903947Z",
     "shell.execute_reply": "2022-04-30T02:57:03.904356Z"
    },
    "papermill": {
     "duration": 0.017308,
     "end_time": "2022-04-30T02:57:03.904472",
     "exception": false,
     "start_time": "2022-04-30T02:57:03.887164",
     "status": "completed"
    },
    "tags": []
   },
   "outputs": [
    {
     "data": {
      "text/markdown": [
       "- Radio Caca (RACA) Announces French Montana’s Official Metaverse: 2D CASA.  Radio Caca (RACA) has announced the official release of their 2D metaverse in partnership with rapper French Montana. This will be the first metaverse in the world to unite the traditional music ecosystem with the blockchain and cryptocurrency industry. The metaverse will be called 2D CASA, and the alpha version will launch by June 30, [&#8230;]The post Radio Caca (RACA) Announces French Montana&#8217;s Official Metaverse: 2D CASA appeared first on NullTX. ... [| Skaityti daugiau](https://nulltx.com/radio-caca-raca-announces-french-montanas-official-metaverse-2d-casa/) "
      ],
      "text/plain": [
       "<IPython.core.display.Markdown object>"
      ]
     },
     "execution_count": 3,
     "metadata": {},
     "output_type": "execute_result"
    }
   ],
   "source": [
    "#hide_input\n",
    "#md('##### {}'.format(titleBTC)) \n",
    "md(\"- {}{} {}{} [| Skaityti daugiau]({}) \".format(blockchain['title'],'. ', blockchain['body'], ' ...', blockchain['url']))"
   ]
  },
  {
   "cell_type": "code",
   "execution_count": 4,
   "id": "aging-caution",
   "metadata": {
    "execution": {
     "iopub.execute_input": "2022-04-30T02:57:03.927056Z",
     "iopub.status.busy": "2022-04-30T02:57:03.926554Z",
     "iopub.status.idle": "2022-04-30T02:57:03.930407Z",
     "shell.execute_reply": "2022-04-30T02:57:03.930833Z"
    },
    "papermill": {
     "duration": 0.017322,
     "end_time": "2022-04-30T02:57:03.930940",
     "exception": false,
     "start_time": "2022-04-30T02:57:03.913618",
     "status": "completed"
    },
    "tags": []
   },
   "outputs": [
    {
     "data": {
      "text/markdown": [
       "- Bitcoin and Altcoins on the Verge of Another Massive Correction, Here’s When.  The post Bitcoin and Altcoins on the Verge of Another Massive Correction, Here&#8217;s When appeared first on Coinpedia - Fintech &amp; Cryptocurreny News Media| Crypto GuideThe price of bitcoin soared past $40,000, but there was no further upward movement. It is currently trading below $39,000, reversing recent gains. BTC has lost 3% in a day and more than 3% in the last week. Similarly, the majority of prominent cryptocurrencies are reducing their gains. After failing to break through the $3,000 &#8230; ... [| Skaityti daugiau](https://coinpedia.org/altcoin/bitcoin-and-altcoins-on-the-verge-of-another-massive-correction-heres-when/) "
      ],
      "text/plain": [
       "<IPython.core.display.Markdown object>"
      ]
     },
     "execution_count": 4,
     "metadata": {},
     "output_type": "execute_result"
    }
   ],
   "source": [
    "#hide_input\n",
    "#md('##### {}'.format(titleBTC)) \n",
    "md(\"- {}{} {}{} [| Skaityti daugiau]({}) \".format(btc['title'],'. ', btc['body'], ' ...', btc['url']))"
   ]
  },
  {
   "cell_type": "code",
   "execution_count": 5,
   "id": "organic-actress",
   "metadata": {
    "execution": {
     "iopub.execute_input": "2022-04-30T02:57:03.953664Z",
     "iopub.status.busy": "2022-04-30T02:57:03.952592Z",
     "iopub.status.idle": "2022-04-30T02:57:03.956373Z",
     "shell.execute_reply": "2022-04-30T02:57:03.955951Z"
    },
    "papermill": {
     "duration": 0.01614,
     "end_time": "2022-04-30T02:57:03.956466",
     "exception": false,
     "start_time": "2022-04-30T02:57:03.940326",
     "status": "completed"
    },
    "tags": []
   },
   "outputs": [
    {
     "data": {
      "text/markdown": [
       "- The Nightly Mint: Daily NFT Recap.  Ragnaroks, Okay Bears, Moonbirds&#8230; oh my? A lot of projects that have just headed to mint are showing how quickly this space can move. In just a few short weeks, we&#8217;ve got projects &#8211; Moonbirds being a prime example &#8211; that are being categorized with some of the NFTs GOATs. Seemingly, we&#8217;re early. Don&#8217;t worry, we didn&#8217;t forget about The Otherside NFTs &#8211; which are headed to mint tomorrow. However, we&#8217;re closing out the week with quick-hitting stories on a new sports property entering the NFT world and a new record high for BAYC. The Nightly Mint Latest Mint: PGA Tour NFTs We&#8217;ve seen the NBA, WNBA, NFL, UFC, MLB and other major leagues across the U.S. test the waters with NFTs. One major sports property we haven&#8217;t seen dive in yet is the PGA Tour, golf&#8217;s flagship pro property. The PGA is finalizing a variety of NFT programs that will reward top-performing players with guaranteed funds, according to reports today. The league has locked in Autograph and Sorare as formal partners thus far, and there could be more to come. The opt-in program will reward players on their highlights on a pro-rata basis, and the league is looking to build out a program “designed to create incremental and perpetual royalties to players that requires little to no time commitment.” Digital rights ownership is on the rise. Related Reading &#124; XRP Faces Rejection At Key Resistance; Here... ... [| Skaityti daugiau](https://www.newsbtc.com/news/the-nightly-mint-daily-nft-recap-29/) "
      ],
      "text/plain": [
       "<IPython.core.display.Markdown object>"
      ]
     },
     "execution_count": 5,
     "metadata": {},
     "output_type": "execute_result"
    }
   ],
   "source": [
    "#hide_input\n",
    "#md('##### {}'.format(titleBTC)) \n",
    "md(\"- {}{} {}{} [| Skaityti daugiau]({}) \".format(xrp['title'],'. ', xrp['body'], ' ...', xrp['url']))"
   ]
  },
  {
   "cell_type": "code",
   "execution_count": 6,
   "id": "prompt-farmer",
   "metadata": {
    "execution": {
     "iopub.execute_input": "2022-04-30T02:57:03.980131Z",
     "iopub.status.busy": "2022-04-30T02:57:03.979632Z",
     "iopub.status.idle": "2022-04-30T02:57:03.982355Z",
     "shell.execute_reply": "2022-04-30T02:57:03.982822Z"
    },
    "papermill": {
     "duration": 0.016723,
     "end_time": "2022-04-30T02:57:03.982930",
     "exception": false,
     "start_time": "2022-04-30T02:57:03.966207",
     "status": "completed"
    },
    "tags": []
   },
   "outputs": [
    {
     "data": {
      "text/markdown": [
       "- TRON Price Prediction: TRX Price May Hit Trendline Support Before a 25% Rally.  TRX price gradually rises in a parallel channel pattern, where the current bear cycle discounted the coin by 17% and plunged below $0.067 support. Today, the TRX price is up by 5% in an attempt to regain its support. However, the aggressive sellers pressure the coin price to extend the correction. Key points The TRON The post TRON Price Prediction: TRX Price May Hit Trendline Support Before a 25% Rally appeared first on CoinGape. ... [| Skaityti daugiau](https://coingape.com/markets/tron-price-prediction-trx-price-may-hit-trendline-support-before-a-25-rally/) "
      ],
      "text/plain": [
       "<IPython.core.display.Markdown object>"
      ]
     },
     "execution_count": 6,
     "metadata": {},
     "output_type": "execute_result"
    }
   ],
   "source": [
    "#hide_input\n",
    "#md('##### {}'.format(titleBTC)) \n",
    "md(\"- {}{} {}{} [| Skaityti daugiau]({}) \".format(trx['title'],'. ', trx['body'], ' ...', trx['url']))"
   ]
  },
  {
   "cell_type": "code",
   "execution_count": 7,
   "id": "illegal-greece",
   "metadata": {
    "execution": {
     "iopub.execute_input": "2022-04-30T02:57:04.007385Z",
     "iopub.status.busy": "2022-04-30T02:57:04.006890Z",
     "iopub.status.idle": "2022-04-30T02:57:04.010008Z",
     "shell.execute_reply": "2022-04-30T02:57:04.009573Z"
    },
    "papermill": {
     "duration": 0.016949,
     "end_time": "2022-04-30T02:57:04.010102",
     "exception": false,
     "start_time": "2022-04-30T02:57:03.993153",
     "status": "completed"
    },
    "tags": []
   },
   "outputs": [
    {
     "data": {
      "text/markdown": [
       "- What 12M ETH staked in Ethereum consensus layer reveals about price.  Momentum around Ethereum, the largest altcoin has significantly increased or remained bullish of late thanks to the much-anticipated &#8216;Merge&#8216;. Last month, the Ethereum consensus layer deposit contract had surpassed 10 million in ETH staked. This represented roughly 8% of the entire Ethereum supply. Fast forward to April end, stakers continue to uphold their bullish sentiment. [&#8230;] ... [| Skaityti daugiau](https://ambcrypto.com/what-12m-eth-staked-in-ethereum-consensus-layer-reveals-about-price/) "
      ],
      "text/plain": [
       "<IPython.core.display.Markdown object>"
      ]
     },
     "execution_count": 7,
     "metadata": {},
     "output_type": "execute_result"
    }
   ],
   "source": [
    "#hide_input\n",
    "#md('##### {}'.format(titleBTC)) \n",
    "md(\"- {}{} {}{} [| Skaityti daugiau]({}) \".format(eth['title'],'. ', eth['body'], ' ...', eth['url']))"
   ]
  },
  {
   "cell_type": "code",
   "execution_count": 8,
   "id": "sublime-lounge",
   "metadata": {
    "execution": {
     "iopub.execute_input": "2022-04-30T02:57:04.035099Z",
     "iopub.status.busy": "2022-04-30T02:57:04.034560Z",
     "iopub.status.idle": "2022-04-30T02:57:04.037407Z",
     "shell.execute_reply": "2022-04-30T02:57:04.037006Z"
    },
    "papermill": {
     "duration": 0.017066,
     "end_time": "2022-04-30T02:57:04.037503",
     "exception": false,
     "start_time": "2022-04-30T02:57:04.020437",
     "status": "completed"
    },
    "tags": []
   },
   "outputs": [
    {
     "data": {
      "text/markdown": [
       "- Can Cardano Shatter $3 All-Time High By June Following Vasil Hard Fork? — Here Are The Odds.  Vasil Hardfork, the next significant Cardano blockchain upgrade expected to happen in June, is driving market optimism for the price of ADA. ... [| Skaityti daugiau](https://zycrypto.com/can-cardano-shatter-3-all-time-high-by-june-following-vasil-hard-fork-here-are-the-odds/) "
      ],
      "text/plain": [
       "<IPython.core.display.Markdown object>"
      ]
     },
     "execution_count": 8,
     "metadata": {},
     "output_type": "execute_result"
    }
   ],
   "source": [
    "#hide_input\n",
    "#md('##### {}'.format(titleBTC)) \n",
    "md(\"- {}{} {}{} [| Skaityti daugiau]({}) \".format(ada['title'],'. ', ada['body'], ' ...', ada['url']))"
   ]
  },
  {
   "cell_type": "code",
   "execution_count": 9,
   "id": "specified-ordering",
   "metadata": {
    "execution": {
     "iopub.execute_input": "2022-04-30T02:57:04.063066Z",
     "iopub.status.busy": "2022-04-30T02:57:04.062572Z",
     "iopub.status.idle": "2022-04-30T02:57:04.065309Z",
     "shell.execute_reply": "2022-04-30T02:57:04.065734Z"
    },
    "papermill": {
     "duration": 0.01768,
     "end_time": "2022-04-30T02:57:04.065844",
     "exception": false,
     "start_time": "2022-04-30T02:57:04.048164",
     "status": "completed"
    },
    "tags": []
   },
   "outputs": [
    {
     "data": {
      "text/markdown": [
       "- Uniswap Deployed on Celo for Greener DeFi.  The popular DeFi exchange Uniswap has been deployed to Celo following a community vote that concluded Apr. 29. Vote Succeeds Almost Unanimously This week&#8217;s vote was overwhelmingly in support of... ... [| Skaityti daugiau](https://cryptobriefing.com/uniswap-deployed-on-celo-for-greener-defi/?utm_source=main_feed&utm_medium=rss) "
      ],
      "text/plain": [
       "<IPython.core.display.Markdown object>"
      ]
     },
     "execution_count": 9,
     "metadata": {},
     "output_type": "execute_result"
    }
   ],
   "source": [
    "#hide_input\n",
    "#md('##### {}'.format(titleBTC)) \n",
    "md(\"- {}{} {}{} [| Skaityti daugiau]({}) \".format(exchange['title'],'. ', exchange['body'], ' ...', exchange['url']))"
   ]
  },
  {
   "cell_type": "code",
   "execution_count": null,
   "id": "tender-livestock",
   "metadata": {
    "papermill": {
     "duration": 0.01093,
     "end_time": "2022-04-30T02:57:04.087754",
     "exception": false,
     "start_time": "2022-04-30T02:57:04.076824",
     "status": "completed"
    },
    "tags": []
   },
   "outputs": [],
   "source": []
  },
  {
   "cell_type": "code",
   "execution_count": null,
   "id": "appreciated-diamond",
   "metadata": {
    "papermill": {
     "duration": 0.011561,
     "end_time": "2022-04-30T02:57:04.110503",
     "exception": false,
     "start_time": "2022-04-30T02:57:04.098942",
     "status": "completed"
    },
    "tags": []
   },
   "outputs": [],
   "source": []
  },
  {
   "cell_type": "code",
   "execution_count": null,
   "id": "romance-sweden",
   "metadata": {
    "papermill": {
     "duration": 0.011011,
     "end_time": "2022-04-30T02:57:04.133428",
     "exception": false,
     "start_time": "2022-04-30T02:57:04.122417",
     "status": "completed"
    },
    "tags": []
   },
   "outputs": [],
   "source": []
  },
  {
   "cell_type": "code",
   "execution_count": null,
   "id": "dietary-statistics",
   "metadata": {
    "papermill": {
     "duration": 0.011008,
     "end_time": "2022-04-30T02:57:04.155591",
     "exception": false,
     "start_time": "2022-04-30T02:57:04.144583",
     "status": "completed"
    },
    "tags": []
   },
   "outputs": [],
   "source": []
  }
 ],
 "metadata": {
  "kernelspec": {
   "display_name": "Python 3",
   "language": "python",
   "name": "python3"
  },
  "language_info": {
   "codemirror_mode": {
    "name": "ipython",
    "version": 3
   },
   "file_extension": ".py",
   "mimetype": "text/x-python",
   "name": "python",
   "nbconvert_exporter": "python",
   "pygments_lexer": "ipython3",
   "version": "3.6.15"
  },
  "papermill": {
   "default_parameters": {},
   "duration": 13.83509,
   "end_time": "2022-04-30T02:57:04.585036",
   "environment_variables": {},
   "exception": null,
   "input_path": "Market-News.ipynb",
   "output_path": "Market-News.ipynb",
   "parameters": {},
   "start_time": "2022-04-30T02:56:50.749946",
   "version": "2.2.2"
  }
 },
 "nbformat": 4,
 "nbformat_minor": 5
}