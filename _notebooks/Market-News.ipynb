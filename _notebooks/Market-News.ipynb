{
 "cells": [
  {
   "cell_type": "markdown",
   "id": "short-greensboro",
   "metadata": {
    "papermill": {
     "duration": 0.016963,
     "end_time": "2022-05-06T02:48:47.133211",
     "exception": false,
     "start_time": "2022-05-06T02:48:47.116248",
     "status": "completed"
    },
    "tags": []
   },
   "source": [
    "# Kriptovaliutų naujienos"
   ]
  },
  {
   "cell_type": "code",
   "execution_count": 1,
   "id": "functioning-knowing",
   "metadata": {
    "execution": {
     "iopub.execute_input": "2022-05-06T02:48:47.171270Z",
     "iopub.status.busy": "2022-05-06T02:48:47.170486Z",
     "iopub.status.idle": "2022-05-06T02:48:48.844236Z",
     "shell.execute_reply": "2022-05-06T02:48:48.845467Z"
    },
    "papermill": {
     "duration": 1.69982,
     "end_time": "2022-05-06T02:48:48.845709",
     "exception": false,
     "start_time": "2022-05-06T02:48:47.145889",
     "status": "completed"
    },
    "tags": []
   },
   "outputs": [],
   "source": [
    "#hide_input\n",
    "import warnings\n",
    "warnings.filterwarnings('ignore')\n",
    "from scripts.read_data import read_api\n",
    "from scripts.read_data import read_news\n",
    "from scripts.read_data import read_covid\n",
    "import matplotlib.pyplot as plt \n",
    "from IPython.display import Markdown as md"
   ]
  },
  {
   "cell_type": "code",
   "execution_count": 2,
   "id": "shared-acceptance",
   "metadata": {
    "execution": {
     "iopub.execute_input": "2022-05-06T02:48:48.879086Z",
     "iopub.status.busy": "2022-05-06T02:48:48.877813Z",
     "iopub.status.idle": "2022-05-06T02:49:00.339564Z",
     "shell.execute_reply": "2022-05-06T02:49:00.340071Z"
    },
    "papermill": {
     "duration": 11.481342,
     "end_time": "2022-05-06T02:49:00.340236",
     "exception": false,
     "start_time": "2022-05-06T02:48:48.858894",
     "status": "completed"
    },
    "tags": []
   },
   "outputs": [],
   "source": [
    "#hide_input\n",
    "blockchain = read_news('blockchain') \n",
    "btc = read_news('btc') \n",
    "xrp = read_news('xrp') \n",
    "trx = read_news('trx') \n",
    "eth = read_news('eth')  \n",
    "ada = read_news('ada')\n",
    "exchange = read_news('exchange') "
   ]
  },
  {
   "cell_type": "code",
   "execution_count": 3,
   "id": "synthetic-notion",
   "metadata": {
    "execution": {
     "iopub.execute_input": "2022-05-06T02:49:00.373891Z",
     "iopub.status.busy": "2022-05-06T02:49:00.373249Z",
     "iopub.status.idle": "2022-05-06T02:49:00.380400Z",
     "shell.execute_reply": "2022-05-06T02:49:00.379809Z"
    },
    "papermill": {
     "duration": 0.027521,
     "end_time": "2022-05-06T02:49:00.380555",
     "exception": false,
     "start_time": "2022-05-06T02:49:00.353034",
     "status": "completed"
    },
    "tags": []
   },
   "outputs": [
    {
     "data": {
      "text/markdown": [
       "- Synthetix Price Prediction 2022-2025.  Synthetix is a decentralized network that allows users to create and trade synthetic assets on the Ethereum blockchain. However, Synthetix assets are digital assets that are backed by real-world assets, such as commodities, currencies, and stocks. Synthetix Network Token is the native token of the synthetix protocol. SNX is used to pay transaction fees, governance fees, and exchange fees on the synthetix network. Think about, the benefits of using synthetix assets users can trade in markets that would otherwise be inaccessible to them. In fact, users could create and redeem an asset if they don’t have direct access to those markets. Price Overview Source: trading view Synthetix’s live price is$5.13 having a trading volume of $84,800,500 USD. The coin a shown a downtrend of about 2.18% over the day. The price change over the 7 days is -18.31%. Market cap price is being$530,740,500 with a total circulation supply of $114,845,540.Trading at a volume of $ 67,624,800.All-time high being $28.77 and all-time of $0.03258.According to the prediction down on SNX token investors are traders are recommended to stick to the asset. Price Prediction 2022 They are predictions from experts and industry watchers that this coin is poised for an upswing even in the year. This coin is gaining traction as more people are discovering it and for various transactions. Synthetix is continuing to show an uptrend. This is because of the positive particip... ... [| Skaityti daugiau](https://www.cryptoknowmics.com/news/synthetix-price-prediction-2022-2025/?utm_source=rss&utm_medium=rss&utm_campaign=synthetix-price-prediction-2022-2025) "
      ],
      "text/plain": [
       "<IPython.core.display.Markdown object>"
      ]
     },
     "execution_count": 3,
     "metadata": {},
     "output_type": "execute_result"
    }
   ],
   "source": [
    "#hide_input\n",
    "#md('##### {}'.format(titleBTC)) \n",
    "md(\"- {}{} {}{} [| Skaityti daugiau]({}) \".format(blockchain['title'],'. ', blockchain['body'], ' ...', blockchain['url']))"
   ]
  },
  {
   "cell_type": "code",
   "execution_count": 4,
   "id": "aging-caution",
   "metadata": {
    "execution": {
     "iopub.execute_input": "2022-05-06T02:49:00.411545Z",
     "iopub.status.busy": "2022-05-06T02:49:00.410729Z",
     "iopub.status.idle": "2022-05-06T02:49:00.414630Z",
     "shell.execute_reply": "2022-05-06T02:49:00.415183Z"
    },
    "papermill": {
     "duration": 0.022914,
     "end_time": "2022-05-06T02:49:00.415330",
     "exception": false,
     "start_time": "2022-05-06T02:49:00.392416",
     "status": "completed"
    },
    "tags": []
   },
   "outputs": [
    {
     "data": {
      "text/markdown": [
       "- Bitcoin Price Continue To Plunge Hard, LUNA Foundation Guard Adds $37,863 worth Bitcoins To Its Stash.  The post Bitcoin Price Continue To Plunge Hard, LUNA Foundation Guard Adds $37,863 worth Bitcoins To Its Stash appeared first on Coinpedia - Fintech &amp; Cryptocurreny News Media| Crypto GuideTerra&#8217;s (LUNA) price has dropped 31% in the last four weeks, wiping out all of the year&#8217;s gains, and the token is struggling to stay above the $85 support level, despite outperforming the overall cryptocurrency market by 20%. However, the rise in smart contract deposits, as evidenced by the increase in TVL, and strong demand &#8230; ... [| Skaityti daugiau](https://coinpedia.org/altcoin/bitcoin-price-continue-to-plunge-hard-luna-foundation-guard-adds-37863-worth-bitcoins-to-its-stash/) "
      ],
      "text/plain": [
       "<IPython.core.display.Markdown object>"
      ]
     },
     "execution_count": 4,
     "metadata": {},
     "output_type": "execute_result"
    }
   ],
   "source": [
    "#hide_input\n",
    "#md('##### {}'.format(titleBTC)) \n",
    "md(\"- {}{} {}{} [| Skaityti daugiau]({}) \".format(btc['title'],'. ', btc['body'], ' ...', btc['url']))"
   ]
  },
  {
   "cell_type": "code",
   "execution_count": 5,
   "id": "organic-actress",
   "metadata": {
    "execution": {
     "iopub.execute_input": "2022-05-06T02:49:00.444768Z",
     "iopub.status.busy": "2022-05-06T02:49:00.444056Z",
     "iopub.status.idle": "2022-05-06T02:49:00.449912Z",
     "shell.execute_reply": "2022-05-06T02:49:00.449314Z"
    },
    "papermill": {
     "duration": 0.022282,
     "end_time": "2022-05-06T02:49:00.450031",
     "exception": false,
     "start_time": "2022-05-06T02:49:00.427749",
     "status": "completed"
    },
    "tags": []
   },
   "outputs": [
    {
     "data": {
      "text/markdown": [
       "- Finder’s Fintech Specialists Predict XRP Jumping to $2.55 by December 2022.  On May 4, the product comparison platform finder&#x2024;com published a ripple price prediction report that polls 36 fintech specialists. According to findings stemming from the participating panelists, ripple could jump to $2.55 per unit by December 2022. However, the prediction relies on Ripple Labs winning or settling its lawsuit with the U.S. Securities and Exchange [&#8230;] ... [| Skaityti daugiau](https://news.bitcoin.com/finders-fintech-specialists-predict-xrp-jumping-to-2-55-by-december-2022/) "
      ],
      "text/plain": [
       "<IPython.core.display.Markdown object>"
      ]
     },
     "execution_count": 5,
     "metadata": {},
     "output_type": "execute_result"
    }
   ],
   "source": [
    "#hide_input\n",
    "#md('##### {}'.format(titleBTC)) \n",
    "md(\"- {}{} {}{} [| Skaityti daugiau]({}) \".format(xrp['title'],'. ', xrp['body'], ' ...', xrp['url']))"
   ]
  },
  {
   "cell_type": "code",
   "execution_count": 6,
   "id": "prompt-farmer",
   "metadata": {
    "execution": {
     "iopub.execute_input": "2022-05-06T02:49:00.486046Z",
     "iopub.status.busy": "2022-05-06T02:49:00.485426Z",
     "iopub.status.idle": "2022-05-06T02:49:00.488542Z",
     "shell.execute_reply": "2022-05-06T02:49:00.489233Z"
    },
    "papermill": {
     "duration": 0.023476,
     "end_time": "2022-05-06T02:49:00.489381",
     "exception": false,
     "start_time": "2022-05-06T02:49:00.465905",
     "status": "completed"
    },
    "tags": []
   },
   "outputs": [
    {
     "data": {
      "text/markdown": [
       "- Here’s why Tron [TRX] rallied before encountering resistance in its triangle pattern.  Tron’s native cryptocurrency TRX is off to a strong bullish start this month having already delivered an impressive 45% rally in the first five days. It is currently one of the best performers in the list of top cryptocurrencies by market cap. A close look at TRX’s historic performance reveals that it is still trading [&#8230;] ... [| Skaityti daugiau](https://ambcrypto.com/heres-why-tron-trx-rallied-before-encountering-resistance-in-its-triangle-pattern/) "
      ],
      "text/plain": [
       "<IPython.core.display.Markdown object>"
      ]
     },
     "execution_count": 6,
     "metadata": {},
     "output_type": "execute_result"
    }
   ],
   "source": [
    "#hide_input\n",
    "#md('##### {}'.format(titleBTC)) \n",
    "md(\"- {}{} {}{} [| Skaityti daugiau]({}) \".format(trx['title'],'. ', trx['body'], ' ...', trx['url']))"
   ]
  },
  {
   "cell_type": "code",
   "execution_count": 7,
   "id": "illegal-greece",
   "metadata": {
    "execution": {
     "iopub.execute_input": "2022-05-06T02:49:00.523634Z",
     "iopub.status.busy": "2022-05-06T02:49:00.522424Z",
     "iopub.status.idle": "2022-05-06T02:49:00.525685Z",
     "shell.execute_reply": "2022-05-06T02:49:00.526291Z"
    },
    "papermill": {
     "duration": 0.024046,
     "end_time": "2022-05-06T02:49:00.526495",
     "exception": false,
     "start_time": "2022-05-06T02:49:00.502449",
     "status": "completed"
    },
    "tags": []
   },
   "outputs": [
    {
     "data": {
      "text/markdown": [
       "- Your guide on how to scalp Ethereum [ETH] to $3,200.  Ethereum price is traversing a bullish setup on a short-term outlook, suggesting a breakout to the upside soon. Interested investors can be patient and capitalize on the next leg-up that will push ETH to $3,200 and higher, especially if the bulls support it. Ethereum price to take off soon? Ethereum price is inside a descending [&#8230;] ... [| Skaityti daugiau](https://ambcrypto.com/your-guide-on-how-to-scalp-ethereum-eth-to-3200/) "
      ],
      "text/plain": [
       "<IPython.core.display.Markdown object>"
      ]
     },
     "execution_count": 7,
     "metadata": {},
     "output_type": "execute_result"
    }
   ],
   "source": [
    "#hide_input\n",
    "#md('##### {}'.format(titleBTC)) \n",
    "md(\"- {}{} {}{} [| Skaityti daugiau]({}) \".format(eth['title'],'. ', eth['body'], ' ...', eth['url']))"
   ]
  },
  {
   "cell_type": "code",
   "execution_count": 8,
   "id": "sublime-lounge",
   "metadata": {
    "execution": {
     "iopub.execute_input": "2022-05-06T02:49:00.561043Z",
     "iopub.status.busy": "2022-05-06T02:49:00.560373Z",
     "iopub.status.idle": "2022-05-06T02:49:00.566703Z",
     "shell.execute_reply": "2022-05-06T02:49:00.567282Z"
    },
    "papermill": {
     "duration": 0.026641,
     "end_time": "2022-05-06T02:49:00.567457",
     "exception": false,
     "start_time": "2022-05-06T02:49:00.540816",
     "status": "completed"
    },
    "tags": []
   },
   "outputs": [
    {
     "data": {
      "text/markdown": [
       "- Cardano [ADA] stages a 10%+ rally but there’s something you should look out for.  With Bitcoin and Ether finally turning green, it seems like the other alts were also exploring greener pastures. Yet, the market was still filled with fear and this has exerted its own influence over investors&#8217; decisions. While the top ten coins saw intra-day rallies, one performer that surprised many was none other than Cardano [ADA]. [&#8230;] ... [| Skaityti daugiau](https://ambcrypto.com/cardano-ada-stages-a-10-rally-but-theres-something-you-should-look-out-for/) "
      ],
      "text/plain": [
       "<IPython.core.display.Markdown object>"
      ]
     },
     "execution_count": 8,
     "metadata": {},
     "output_type": "execute_result"
    }
   ],
   "source": [
    "#hide_input\n",
    "#md('##### {}'.format(titleBTC)) \n",
    "md(\"- {}{} {}{} [| Skaityti daugiau]({}) \".format(ada['title'],'. ', ada['body'], ' ...', ada['url']))"
   ]
  },
  {
   "cell_type": "code",
   "execution_count": 9,
   "id": "specified-ordering",
   "metadata": {
    "execution": {
     "iopub.execute_input": "2022-05-06T02:49:00.604085Z",
     "iopub.status.busy": "2022-05-06T02:49:00.603448Z",
     "iopub.status.idle": "2022-05-06T02:49:00.608638Z",
     "shell.execute_reply": "2022-05-06T02:49:00.609215Z"
    },
    "papermill": {
     "duration": 0.027066,
     "end_time": "2022-05-06T02:49:00.609402",
     "exception": false,
     "start_time": "2022-05-06T02:49:00.582336",
     "status": "completed"
    },
    "tags": []
   },
   "outputs": [
    {
     "data": {
      "text/markdown": [
       "- Court orders BitMEX founders to pay $30M civil penalty.  The three co-founders have been ordered to pay hefty fines for what the CFTC calls their involvement in serious violations of regulations and the Commodity Exchange Act. ... [| Skaityti daugiau](https://cointelegraph.com/news/court-orders-bitmex-founders-to-pay-30m-civil-penalty) "
      ],
      "text/plain": [
       "<IPython.core.display.Markdown object>"
      ]
     },
     "execution_count": 9,
     "metadata": {},
     "output_type": "execute_result"
    }
   ],
   "source": [
    "#hide_input\n",
    "#md('##### {}'.format(titleBTC)) \n",
    "md(\"- {}{} {}{} [| Skaityti daugiau]({}) \".format(exchange['title'],'. ', exchange['body'], ' ...', exchange['url']))"
   ]
  },
  {
   "cell_type": "code",
   "execution_count": null,
   "id": "tender-livestock",
   "metadata": {
    "papermill": {
     "duration": 0.015575,
     "end_time": "2022-05-06T02:49:00.639743",
     "exception": false,
     "start_time": "2022-05-06T02:49:00.624168",
     "status": "completed"
    },
    "tags": []
   },
   "outputs": [],
   "source": []
  },
  {
   "cell_type": "code",
   "execution_count": null,
   "id": "appreciated-diamond",
   "metadata": {
    "papermill": {
     "duration": 0.014983,
     "end_time": "2022-05-06T02:49:00.668997",
     "exception": false,
     "start_time": "2022-05-06T02:49:00.654014",
     "status": "completed"
    },
    "tags": []
   },
   "outputs": [],
   "source": []
  },
  {
   "cell_type": "code",
   "execution_count": null,
   "id": "romance-sweden",
   "metadata": {
    "papermill": {
     "duration": 0.015296,
     "end_time": "2022-05-06T02:49:00.699985",
     "exception": false,
     "start_time": "2022-05-06T02:49:00.684689",
     "status": "completed"
    },
    "tags": []
   },
   "outputs": [],
   "source": []
  },
  {
   "cell_type": "code",
   "execution_count": null,
   "id": "dietary-statistics",
   "metadata": {
    "papermill": {
     "duration": 0.014337,
     "end_time": "2022-05-06T02:49:00.728493",
     "exception": false,
     "start_time": "2022-05-06T02:49:00.714156",
     "status": "completed"
    },
    "tags": []
   },
   "outputs": [],
   "source": []
  }
 ],
 "metadata": {
  "kernelspec": {
   "display_name": "Python 3",
   "language": "python",
   "name": "python3"
  },
  "language_info": {
   "codemirror_mode": {
    "name": "ipython",
    "version": 3
   },
   "file_extension": ".py",
   "mimetype": "text/x-python",
   "name": "python",
   "nbconvert_exporter": "python",
   "pygments_lexer": "ipython3",
   "version": "3.6.15"
  },
  "papermill": {
   "default_parameters": {},
   "duration": 15.514469,
   "end_time": "2022-05-06T02:49:01.264973",
   "environment_variables": {},
   "exception": null,
   "input_path": "Market-News.ipynb",
   "output_path": "Market-News.ipynb",
   "parameters": {},
   "start_time": "2022-05-06T02:48:45.750504",
   "version": "2.2.2"
  }
 },
 "nbformat": 4,
 "nbformat_minor": 5
}