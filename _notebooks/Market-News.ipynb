{
 "cells": [
  {
   "cell_type": "markdown",
   "id": "short-greensboro",
   "metadata": {
    "papermill": {
     "duration": 0.013931,
     "end_time": "2022-08-17T03:31:03.216047",
     "exception": false,
     "start_time": "2022-08-17T03:31:03.202116",
     "status": "completed"
    },
    "tags": []
   },
   "source": [
    "# Kriptovaliutų naujienos"
   ]
  },
  {
   "cell_type": "code",
   "execution_count": 1,
   "id": "functioning-knowing",
   "metadata": {
    "execution": {
     "iopub.execute_input": "2022-08-17T03:31:03.246363Z",
     "iopub.status.busy": "2022-08-17T03:31:03.245730Z",
     "iopub.status.idle": "2022-08-17T03:31:04.499027Z",
     "shell.execute_reply": "2022-08-17T03:31:04.498468Z"
    },
    "papermill": {
     "duration": 1.273302,
     "end_time": "2022-08-17T03:31:04.499179",
     "exception": false,
     "start_time": "2022-08-17T03:31:03.225877",
     "status": "completed"
    },
    "tags": []
   },
   "outputs": [],
   "source": [
    "#hide_input\n",
    "import warnings\n",
    "warnings.filterwarnings('ignore')\n",
    "from scripts.read_data import read_api\n",
    "from scripts.read_data import read_news\n",
    "from scripts.read_data import read_covid\n",
    "import matplotlib.pyplot as plt \n",
    "from IPython.display import Markdown as md"
   ]
  },
  {
   "cell_type": "code",
   "execution_count": 2,
   "id": "shared-acceptance",
   "metadata": {
    "execution": {
     "iopub.execute_input": "2022-08-17T03:31:04.525959Z",
     "iopub.status.busy": "2022-08-17T03:31:04.525322Z",
     "iopub.status.idle": "2022-08-17T03:31:17.511548Z",
     "shell.execute_reply": "2022-08-17T03:31:17.510519Z"
    },
    "papermill": {
     "duration": 13.00308,
     "end_time": "2022-08-17T03:31:17.511692",
     "exception": false,
     "start_time": "2022-08-17T03:31:04.508612",
     "status": "completed"
    },
    "tags": []
   },
   "outputs": [],
   "source": [
    "#hide_input\n",
    "blockchain = read_news('blockchain') \n",
    "btc = read_news('btc') \n",
    "xrp = read_news('xrp') \n",
    "trx = read_news('trx') \n",
    "eth = read_news('eth')  \n",
    "ada = read_news('ada')\n",
    "exchange = read_news('exchange') "
   ]
  },
  {
   "cell_type": "code",
   "execution_count": 3,
   "id": "synthetic-notion",
   "metadata": {
    "execution": {
     "iopub.execute_input": "2022-08-17T03:31:17.536394Z",
     "iopub.status.busy": "2022-08-17T03:31:17.534093Z",
     "iopub.status.idle": "2022-08-17T03:31:17.539814Z",
     "shell.execute_reply": "2022-08-17T03:31:17.539330Z"
    },
    "papermill": {
     "duration": 0.018721,
     "end_time": "2022-08-17T03:31:17.539928",
     "exception": false,
     "start_time": "2022-08-17T03:31:17.521207",
     "status": "completed"
    },
    "tags": []
   },
   "outputs": [
    {
     "data": {
      "text/markdown": [
       "- Google invested a whopping $1.5B into blockchain companies since September.  Other notable corporate investors include BlackRock, Morgan Stanley, Samsung, and Goldman Sachs, according to a report from Blockdata. ... [| Skaityti daugiau](https://cointelegraph.com/news/google-invested-a-whopping-1-5b-into-blockchain-companies-since-september) "
      ],
      "text/plain": [
       "<IPython.core.display.Markdown object>"
      ]
     },
     "execution_count": 3,
     "metadata": {},
     "output_type": "execute_result"
    }
   ],
   "source": [
    "#hide_input\n",
    "#md('##### {}'.format(titleBTC)) \n",
    "md(\"- {}{} {}{} [| Skaityti daugiau]({}) \".format(blockchain['title'],'. ', blockchain['body'], ' ...', blockchain['url']))"
   ]
  },
  {
   "cell_type": "code",
   "execution_count": 4,
   "id": "aging-caution",
   "metadata": {
    "execution": {
     "iopub.execute_input": "2022-08-17T03:31:17.563629Z",
     "iopub.status.busy": "2022-08-17T03:31:17.563016Z",
     "iopub.status.idle": "2022-08-17T03:31:17.566822Z",
     "shell.execute_reply": "2022-08-17T03:31:17.566372Z"
    },
    "papermill": {
     "duration": 0.017707,
     "end_time": "2022-08-17T03:31:17.566933",
     "exception": false,
     "start_time": "2022-08-17T03:31:17.549226",
     "status": "completed"
    },
    "tags": []
   },
   "outputs": [
    {
     "data": {
      "text/markdown": [
       "- Bitcoin: What you should learn from BTC’s new ownership trends.  Bitcoin has been experiencing a change in holding maturity among owners in recent months. This is further reflected in a significant transfer of wealth with long-term holders capitulating their holdings. A subsequent accumulation has taken place which puts Bitcoin in the hand of low-cost basis owners. A tale about Bitcoin Following the Luna collapse in [&#8230;] ... [| Skaityti daugiau](https://ambcrypto.com/bitcoin-what-you-should-learn-from-btcs-new-ownership-trends/) "
      ],
      "text/plain": [
       "<IPython.core.display.Markdown object>"
      ]
     },
     "execution_count": 4,
     "metadata": {},
     "output_type": "execute_result"
    }
   ],
   "source": [
    "#hide_input\n",
    "#md('##### {}'.format(titleBTC)) \n",
    "md(\"- {}{} {}{} [| Skaityti daugiau]({}) \".format(btc['title'],'. ', btc['body'], ' ...', btc['url']))"
   ]
  },
  {
   "cell_type": "code",
   "execution_count": 5,
   "id": "organic-actress",
   "metadata": {
    "execution": {
     "iopub.execute_input": "2022-08-17T03:31:17.591069Z",
     "iopub.status.busy": "2022-08-17T03:31:17.590488Z",
     "iopub.status.idle": "2022-08-17T03:31:17.594000Z",
     "shell.execute_reply": "2022-08-17T03:31:17.594425Z"
    },
    "papermill": {
     "duration": 0.01805,
     "end_time": "2022-08-17T03:31:17.594549",
     "exception": false,
     "start_time": "2022-08-17T03:31:17.576499",
     "status": "completed"
    },
    "tags": []
   },
   "outputs": [
    {
     "data": {
      "text/markdown": [
       "- Polygon Seen Breaching $1 This Week – Can MATIC Start An Uptrend?.  Polygon (MATIC) seems to have its vigor back with it potentially breaching $1 in the coming days. Polygon price is seen to generate massive gains at 108% MATIC price shoots close to a critical level that bulls are eyeing to test Set your eye on this critical level to catch the uptrend MATIC price is moving extremely bullish and could squeeze pushing the price above $1 setting the stage for a huge uptrend that could potentially double the coin’s price to $2. With that being said, MATIC is set to make as much as 100% of gains in the next couple of months. The token&#8217;s price open this week close to a key level as Sunday’s price rally allows the coin to hover close to the $1 range which is pivotal in the next trading sessions. Related Reading: XRP Sluggish At Resistance – Will It Break Out After 2 Months Of Vertigo? MATIC To Breach The $1 Mark? The $1.1 mark is crucial once the bulls start to trade in that level or breach the 200-day SMA. Once that is broken, this will indicate the end of crypto winter and that the bulls can rally further toggling on a longer-term upswing. For that to happen, MATIC price will have to breach above the 200-day SMA and swerve past a rejection spotted at a monthly resistance level of $1.14. If the bulls manage to steer clear of that and end the week at a range above the key resistance of $1.14, then that would be the day. They can can avoid and close the week above $1.14, then this signals a loom... ... [| Skaityti daugiau](https://www.newsbtc.com/news/polygon-seen-breaching-1-this-week-can-matic-start-an-uptrend/) "
      ],
      "text/plain": [
       "<IPython.core.display.Markdown object>"
      ]
     },
     "execution_count": 5,
     "metadata": {},
     "output_type": "execute_result"
    }
   ],
   "source": [
    "#hide_input\n",
    "#md('##### {}'.format(titleBTC)) \n",
    "md(\"- {}{} {}{} [| Skaityti daugiau]({}) \".format(xrp['title'],'. ', xrp['body'], ' ...', xrp['url']))"
   ]
  },
  {
   "cell_type": "code",
   "execution_count": 6,
   "id": "prompt-farmer",
   "metadata": {
    "execution": {
     "iopub.execute_input": "2022-08-17T03:31:17.618715Z",
     "iopub.status.busy": "2022-08-17T03:31:17.618137Z",
     "iopub.status.idle": "2022-08-17T03:31:17.621808Z",
     "shell.execute_reply": "2022-08-17T03:31:17.621330Z"
    },
    "papermill": {
     "duration": 0.017586,
     "end_time": "2022-08-17T03:31:17.621912",
     "exception": false,
     "start_time": "2022-08-17T03:31:17.604326",
     "status": "completed"
    },
    "tags": []
   },
   "outputs": [
    {
     "data": {
      "text/markdown": [
       "- How long until TRX investors notice what the altcoin is missing out on.  As the market&#8217;s crypto-assets get on board with Ethereum&#8217;s pump, Tron’s TRX continues to falter. In fact, according to CoinMarketCap, TRX is among the leading tokens to register losses over the week. While the altcoin has dropped by a mere 0.25% over the past week, other assets have surged to prominence. This consolidation further highlights [&#8230;] ... [| Skaityti daugiau](https://ambcrypto.com/how-long-until-trx-investors-notice-what-the-altcoin-is-missing-out-on/) "
      ],
      "text/plain": [
       "<IPython.core.display.Markdown object>"
      ]
     },
     "execution_count": 6,
     "metadata": {},
     "output_type": "execute_result"
    }
   ],
   "source": [
    "#hide_input\n",
    "#md('##### {}'.format(titleBTC)) \n",
    "md(\"- {}{} {}{} [| Skaityti daugiau]({}) \".format(trx['title'],'. ', trx['body'], ' ...', trx['url']))"
   ]
  },
  {
   "cell_type": "code",
   "execution_count": 7,
   "id": "illegal-greece",
   "metadata": {
    "execution": {
     "iopub.execute_input": "2022-08-17T03:31:17.649890Z",
     "iopub.status.busy": "2022-08-17T03:31:17.649284Z",
     "iopub.status.idle": "2022-08-17T03:31:17.651387Z",
     "shell.execute_reply": "2022-08-17T03:31:17.651832Z"
    },
    "papermill": {
     "duration": 0.019697,
     "end_time": "2022-08-17T03:31:17.651956",
     "exception": false,
     "start_time": "2022-08-17T03:31:17.632259",
     "status": "completed"
    },
    "tags": []
   },
   "outputs": [
    {
     "data": {
      "text/markdown": [
       "- Bitcoin, Ethereum, Waves, and Stacks Daily Price Analyses – 16 August Roundup.  There has been yet another change in the pace of the global crypto market. The recent few hours brought it back to losses as bears dominated. The change in the market has affected Bitcoin, Ethereum, and others as they saw a change in trajectory. The recent few days have proved testing for the market because &#8230;  Bitcoin, Ethereum, Waves, and Stacks Daily Price Analyses – 16 August Roundup Read More &#187; ... [| Skaityti daugiau](https://www.cryptopolitan.com/bitcoin-ethereum-waves-and-stacks-daily-price-analyses-16-august-roundup/) "
      ],
      "text/plain": [
       "<IPython.core.display.Markdown object>"
      ]
     },
     "execution_count": 7,
     "metadata": {},
     "output_type": "execute_result"
    }
   ],
   "source": [
    "#hide_input\n",
    "#md('##### {}'.format(titleBTC)) \n",
    "md(\"- {}{} {}{} [| Skaityti daugiau]({}) \".format(eth['title'],'. ', eth['body'], ' ...', eth['url']))"
   ]
  },
  {
   "cell_type": "code",
   "execution_count": 8,
   "id": "sublime-lounge",
   "metadata": {
    "execution": {
     "iopub.execute_input": "2022-08-17T03:31:17.678032Z",
     "iopub.status.busy": "2022-08-17T03:31:17.677455Z",
     "iopub.status.idle": "2022-08-17T03:31:17.681143Z",
     "shell.execute_reply": "2022-08-17T03:31:17.680667Z"
    },
    "papermill": {
     "duration": 0.018564,
     "end_time": "2022-08-17T03:31:17.681251",
     "exception": false,
     "start_time": "2022-08-17T03:31:17.662687",
     "status": "completed"
    },
    "tags": []
   },
   "outputs": [
    {
     "data": {
      "text/markdown": [
       "- Cardano price analysis: ADA holds uptrend intact above $0.55 support.  Cardano price analysis is showing strong indication today, following from fears of a downtrend initiating yesterday. Price lowered down to $0.5446 yesterday, following a 3 percent decline. However, ADA was swift to enforce bullish momentum again today to settle above the $0.55 support. Further bullish momentum could breach the $0.60 price point over the next &#8230;  Cardano price analysis: ADA holds uptrend intact above $0.55 support Read More &#187; ... [| Skaityti daugiau](https://www.cryptopolitan.com/cardano-price-analysis-2022-08-16/) "
      ],
      "text/plain": [
       "<IPython.core.display.Markdown object>"
      ]
     },
     "execution_count": 8,
     "metadata": {},
     "output_type": "execute_result"
    }
   ],
   "source": [
    "#hide_input\n",
    "#md('##### {}'.format(titleBTC)) \n",
    "md(\"- {}{} {}{} [| Skaityti daugiau]({}) \".format(ada['title'],'. ', ada['body'], ' ...', ada['url']))"
   ]
  },
  {
   "cell_type": "code",
   "execution_count": 9,
   "id": "specified-ordering",
   "metadata": {
    "execution": {
     "iopub.execute_input": "2022-08-17T03:31:17.708124Z",
     "iopub.status.busy": "2022-08-17T03:31:17.707525Z",
     "iopub.status.idle": "2022-08-17T03:31:17.711243Z",
     "shell.execute_reply": "2022-08-17T03:31:17.710771Z"
    },
    "papermill": {
     "duration": 0.01935,
     "end_time": "2022-08-17T03:31:17.711350",
     "exception": false,
     "start_time": "2022-08-17T03:31:17.692000",
     "status": "completed"
    },
    "tags": []
   },
   "outputs": [
    {
     "data": {
      "text/markdown": [
       "- BNB lost pace but reached an interesting milestone this week.  BNB token is beginning to lose attention in the market after another lacklustre week. The Binance governance token has seen swings in the past which have lost their pace recently. The token subsided with bullish activity as top crypto assets gathered strength in numbers from the market recovery. But a late sell-off on 15 August [&#8230;] ... [| Skaityti daugiau](https://ambcrypto.com/bnb-token-lost-pace-but-reached-an-interesting-milestone-this-week/) "
      ],
      "text/plain": [
       "<IPython.core.display.Markdown object>"
      ]
     },
     "execution_count": 9,
     "metadata": {},
     "output_type": "execute_result"
    }
   ],
   "source": [
    "#hide_input\n",
    "#md('##### {}'.format(titleBTC)) \n",
    "md(\"- {}{} {}{} [| Skaityti daugiau]({}) \".format(exchange['title'],'. ', exchange['body'], ' ...', exchange['url']))"
   ]
  },
  {
   "cell_type": "code",
   "execution_count": null,
   "id": "tender-livestock",
   "metadata": {
    "papermill": {
     "duration": 0.011105,
     "end_time": "2022-08-17T03:31:17.733569",
     "exception": false,
     "start_time": "2022-08-17T03:31:17.722464",
     "status": "completed"
    },
    "tags": []
   },
   "outputs": [],
   "source": []
  },
  {
   "cell_type": "code",
   "execution_count": null,
   "id": "appreciated-diamond",
   "metadata": {
    "papermill": {
     "duration": 0.011001,
     "end_time": "2022-08-17T03:31:17.755782",
     "exception": false,
     "start_time": "2022-08-17T03:31:17.744781",
     "status": "completed"
    },
    "tags": []
   },
   "outputs": [],
   "source": []
  },
  {
   "cell_type": "code",
   "execution_count": null,
   "id": "romance-sweden",
   "metadata": {
    "papermill": {
     "duration": 0.011067,
     "end_time": "2022-08-17T03:31:17.777887",
     "exception": false,
     "start_time": "2022-08-17T03:31:17.766820",
     "status": "completed"
    },
    "tags": []
   },
   "outputs": [],
   "source": []
  },
  {
   "cell_type": "code",
   "execution_count": null,
   "id": "dietary-statistics",
   "metadata": {
    "papermill": {
     "duration": 0.011025,
     "end_time": "2022-08-17T03:31:17.799998",
     "exception": false,
     "start_time": "2022-08-17T03:31:17.788973",
     "status": "completed"
    },
    "tags": []
   },
   "outputs": [],
   "source": []
  }
 ],
 "metadata": {
  "kernelspec": {
   "display_name": "Python 3",
   "language": "python",
   "name": "python3"
  },
  "language_info": {
   "codemirror_mode": {
    "name": "ipython",
    "version": 3
   },
   "file_extension": ".py",
   "mimetype": "text/x-python",
   "name": "python",
   "nbconvert_exporter": "python",
   "pygments_lexer": "ipython3",
   "version": "3.6.15"
  },
  "papermill": {
   "default_parameters": {},
   "duration": 16.16091,
   "end_time": "2022-08-17T03:31:18.330146",
   "environment_variables": {},
   "exception": null,
   "input_path": "Market-News.ipynb",
   "output_path": "Market-News.ipynb",
   "parameters": {},
   "start_time": "2022-08-17T03:31:02.169236",
   "version": "2.2.2"
  }
 },
 "nbformat": 4,
 "nbformat_minor": 5
}