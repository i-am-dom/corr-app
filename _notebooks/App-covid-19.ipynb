{
 "cells": [
  {
   "cell_type": "markdown",
   "id": "c39d458a",
   "metadata": {
    "tags": [
     "papermill-error-cell-tag"
    ]
   },
   "source": [
    "<span style=\"color:red; font-family:Helvetica Neue, Helvetica, Arial, sans-serif; font-size:2em;\">An Exception was encountered at '<a href=\"#papermill-error-cell\">In [2]</a>'.</span>"
   ]
  },
  {
   "cell_type": "markdown",
   "id": "complicated-mission",
   "metadata": {
    "papermill": {
     "duration": 0.020778,
     "end_time": "2021-12-30T02:04:09.969547",
     "exception": false,
     "start_time": "2021-12-30T02:04:09.948769",
     "status": "completed"
    },
    "tags": []
   },
   "source": [
    "# Koreliacija COVID-19 pandemijos metu\n",
    "> BTC ir ETH koreliacija su rinkomis pandemijos metu.\n",
    "\n",
    "- toc: true \n",
    "- badges: true\n",
    "- comments: false\n",
    "- categories: [Dominykas Tautkus]\n",
    "- image: images/BTC_price.png"
   ]
  },
  {
   "cell_type": "code",
   "execution_count": null,
   "id": "imposed-public",
   "metadata": {
    "papermill": {
     "duration": 0.012923,
     "end_time": "2021-12-30T02:04:09.999963",
     "exception": false,
     "start_time": "2021-12-30T02:04:09.987040",
     "status": "completed"
    },
    "tags": []
   },
   "outputs": [],
   "source": []
  },
  {
   "cell_type": "code",
   "execution_count": 1,
   "id": "material-sunrise",
   "metadata": {
    "execution": {
     "iopub.execute_input": "2021-12-30T02:04:10.041601Z",
     "iopub.status.busy": "2021-12-30T02:04:10.037730Z",
     "iopub.status.idle": "2021-12-30T02:04:12.037618Z",
     "shell.execute_reply": "2021-12-30T02:04:12.036970Z"
    },
    "papermill": {
     "duration": 2.025741,
     "end_time": "2021-12-30T02:04:12.037779",
     "exception": false,
     "start_time": "2021-12-30T02:04:10.012038",
     "status": "completed"
    },
    "tags": []
   },
   "outputs": [],
   "source": [
    "#hide\n",
    "%load_ext autoreload\n",
    "%autoreload 2\n",
    "import warnings\n",
    "warnings.filterwarnings('ignore')\n",
    "import plotly.graph_objects as go\n",
    "import pandas as pd\n",
    "import plotly.express as px\n",
    "from scripts.read_data import read_api\n",
    "from scripts.read_data import read_news\n",
    "from scripts.read_data import read_covid\n",
    "import matplotlib.pyplot as plt \n",
    "import numpy as np\n",
    "import pandas as pd\n",
    "import seaborn as sns \n",
    "from IPython.display import Markdown as md\n",
    "sns.set()"
   ]
  },
  {
   "cell_type": "markdown",
   "id": "d718ed79",
   "metadata": {
    "tags": [
     "papermill-error-cell-tag"
    ]
   },
   "source": [
    "<span id=\"papermill-error-cell\" style=\"color:red; font-family:Helvetica Neue, Helvetica, Arial, sans-serif; font-size:2em;\">Execution using papermill encountered an exception here and stopped:</span>"
   ]
  },
  {
   "cell_type": "code",
   "execution_count": 2,
   "id": "express-jacksonville",
   "metadata": {
    "execution": {
     "iopub.execute_input": "2021-12-30T02:04:12.072368Z",
     "iopub.status.busy": "2021-12-30T02:04:12.071597Z",
     "iopub.status.idle": "2021-12-30T02:04:21.324788Z",
     "shell.execute_reply": "2021-12-30T02:04:21.324110Z"
    },
    "papermill": {
     "duration": 9.274635,
     "end_time": "2021-12-30T02:04:21.325047",
     "exception": true,
     "start_time": "2021-12-30T02:04:12.050412",
     "status": "failed"
    },
    "tags": []
   },
   "outputs": [
    {
     "ename": "AttributeError",
     "evalue": "'DataFrame' object has no attribute 'date'",
     "output_type": "error",
     "traceback": [
      "\u001b[0;31m---------------------------------------------------------------------------\u001b[0m",
      "\u001b[0;31mAttributeError\u001b[0m                            Traceback (most recent call last)",
      "\u001b[0;32m<ipython-input-2-89acd3454b09>\u001b[0m in \u001b[0;36m<module>\u001b[0;34m\u001b[0m\n\u001b[1;32m      1\u001b[0m \u001b[0;31m#hide\u001b[0m\u001b[0;34m\u001b[0m\u001b[0;34m\u001b[0m\u001b[0;34m\u001b[0m\u001b[0m\n\u001b[0;32m----> 2\u001b[0;31m \u001b[0mdf_all\u001b[0m \u001b[0;34m=\u001b[0m \u001b[0mread_api\u001b[0m\u001b[0;34m(\u001b[0m\u001b[0;34m)\u001b[0m\u001b[0;34m\u001b[0m\u001b[0;34m\u001b[0m\u001b[0m\n\u001b[0m\u001b[1;32m      3\u001b[0m \u001b[0;31m#df_all.index.name = 'date'\u001b[0m\u001b[0;34m\u001b[0m\u001b[0;34m\u001b[0m\u001b[0;34m\u001b[0m\u001b[0m\n\u001b[1;32m      4\u001b[0m \u001b[0;34m\u001b[0m\u001b[0m\n\u001b[1;32m      5\u001b[0m \u001b[0mdf_all\u001b[0m\u001b[0;34m.\u001b[0m\u001b[0mindex\u001b[0m \u001b[0;34m=\u001b[0m \u001b[0mpd\u001b[0m\u001b[0;34m.\u001b[0m\u001b[0mto_datetime\u001b[0m\u001b[0;34m(\u001b[0m\u001b[0mdf_all\u001b[0m\u001b[0;34m.\u001b[0m\u001b[0mindex\u001b[0m\u001b[0;34m)\u001b[0m\u001b[0;34m\u001b[0m\u001b[0;34m\u001b[0m\u001b[0m\n",
      "\u001b[0;32m~/work/corr-app/corr-app/_notebooks/scripts/read_data.py\u001b[0m in \u001b[0;36mread_api\u001b[0;34m(short_frm)\u001b[0m\n\u001b[1;32m    142\u001b[0m     \u001b[0;31m#XAU = XAU[XAU.close != 79987.0]\u001b[0m\u001b[0;34m\u001b[0m\u001b[0;34m\u001b[0m\u001b[0;34m\u001b[0m\u001b[0m\n\u001b[1;32m    143\u001b[0m     \u001b[0;31m#XAU = XAU[XAU.close > 1080]\u001b[0m\u001b[0;34m\u001b[0m\u001b[0;34m\u001b[0m\u001b[0;34m\u001b[0m\u001b[0m\n\u001b[0;32m--> 144\u001b[0;31m     \u001b[0mmarkets\u001b[0m \u001b[0;34m=\u001b[0m \u001b[0mread_markets_api\u001b[0m\u001b[0;34m(\u001b[0m\u001b[0;34m)\u001b[0m\u001b[0;34m\u001b[0m\u001b[0;34m\u001b[0m\u001b[0m\n\u001b[0m\u001b[1;32m    145\u001b[0m     \u001b[0mdf\u001b[0m \u001b[0;34m=\u001b[0m \u001b[0mBTC\u001b[0m\u001b[0;34m.\u001b[0m\u001b[0mappend\u001b[0m\u001b[0;34m(\u001b[0m\u001b[0mEOS\u001b[0m\u001b[0;34m)\u001b[0m\u001b[0;34m.\u001b[0m\u001b[0mappend\u001b[0m\u001b[0;34m(\u001b[0m\u001b[0mLSK\u001b[0m\u001b[0;34m)\u001b[0m\u001b[0;34m.\u001b[0m\u001b[0mappend\u001b[0m\u001b[0;34m(\u001b[0m\u001b[0mETH\u001b[0m\u001b[0;34m)\u001b[0m\u001b[0;34m.\u001b[0m\u001b[0mappend\u001b[0m\u001b[0;34m(\u001b[0m\u001b[0mADA\u001b[0m\u001b[0;34m)\u001b[0m\u001b[0;34m.\u001b[0m\u001b[0mappend\u001b[0m\u001b[0;34m(\u001b[0m\u001b[0mNEO\u001b[0m\u001b[0;34m)\u001b[0m\u001b[0;34m.\u001b[0m\u001b[0mappend\u001b[0m\u001b[0;34m(\u001b[0m\u001b[0mTRX\u001b[0m\u001b[0;34m)\u001b[0m\u001b[0;34m.\u001b[0m\u001b[0mappend\u001b[0m\u001b[0;34m(\u001b[0m\u001b[0mXRP\u001b[0m\u001b[0;34m)\u001b[0m\u001b[0;34m.\u001b[0m\u001b[0mappend\u001b[0m\u001b[0;34m(\u001b[0m\u001b[0mmarkets\u001b[0m\u001b[0;34m)\u001b[0m\u001b[0;34m\u001b[0m\u001b[0;34m\u001b[0m\u001b[0m\n\u001b[1;32m    146\u001b[0m     \u001b[0mdf\u001b[0m\u001b[0;34m[\u001b[0m\u001b[0;34m'date'\u001b[0m\u001b[0;34m]\u001b[0m \u001b[0;34m=\u001b[0m \u001b[0mdf\u001b[0m\u001b[0;34m[\u001b[0m\u001b[0;34m'date'\u001b[0m\u001b[0;34m]\u001b[0m\u001b[0;34m.\u001b[0m\u001b[0mdt\u001b[0m\u001b[0;34m.\u001b[0m\u001b[0mdate\u001b[0m\u001b[0;34m\u001b[0m\u001b[0;34m\u001b[0m\u001b[0m\n",
      "\u001b[0;32m~/work/corr-app/corr-app/_notebooks/scripts/read_data.py\u001b[0m in \u001b[0;36mread_markets_api\u001b[0;34m()\u001b[0m\n\u001b[1;32m    174\u001b[0m     \u001b[0;31m# ^GSPC-->sp500 ; GC=F-->XAU\u001b[0m\u001b[0;34m\u001b[0m\u001b[0;34m\u001b[0m\u001b[0;34m\u001b[0m\u001b[0m\n\u001b[1;32m    175\u001b[0m     \u001b[0mSP500\u001b[0m \u001b[0;34m=\u001b[0m \u001b[0mformat_markets\u001b[0m\u001b[0;34m(\u001b[0m\u001b[0;34m'^GSPC'\u001b[0m\u001b[0;34m,\u001b[0m \u001b[0;34m'SP500'\u001b[0m\u001b[0;34m)\u001b[0m\u001b[0;34m\u001b[0m\u001b[0;34m\u001b[0m\u001b[0m\n\u001b[0;32m--> 176\u001b[0;31m     \u001b[0mXAU\u001b[0m \u001b[0;34m=\u001b[0m \u001b[0mformat_markets\u001b[0m\u001b[0;34m(\u001b[0m\u001b[0;34m'GC=F'\u001b[0m\u001b[0;34m,\u001b[0m \u001b[0;34m'XAU'\u001b[0m\u001b[0;34m)\u001b[0m\u001b[0;34m\u001b[0m\u001b[0;34m\u001b[0m\u001b[0m\n\u001b[0m\u001b[1;32m    177\u001b[0m     \u001b[0mmarkets\u001b[0m \u001b[0;34m=\u001b[0m \u001b[0mSP500\u001b[0m\u001b[0;34m.\u001b[0m\u001b[0mappend\u001b[0m\u001b[0;34m(\u001b[0m\u001b[0mXAU\u001b[0m\u001b[0;34m)\u001b[0m\u001b[0;34m\u001b[0m\u001b[0;34m\u001b[0m\u001b[0m\n\u001b[1;32m    178\u001b[0m     \u001b[0;32mreturn\u001b[0m \u001b[0mmarkets\u001b[0m\u001b[0;34m\u001b[0m\u001b[0;34m\u001b[0m\u001b[0m\n",
      "\u001b[0;32m~/work/corr-app/corr-app/_notebooks/scripts/read_data.py\u001b[0m in \u001b[0;36mformat_markets\u001b[0;34m(symbol, crypto)\u001b[0m\n\u001b[1;32m    210\u001b[0m     \u001b[0mjson_data\u001b[0m \u001b[0;34m=\u001b[0m \u001b[0mjson\u001b[0m\u001b[0;34m.\u001b[0m\u001b[0mloads\u001b[0m\u001b[0;34m(\u001b[0m\u001b[0mresponse\u001b[0m\u001b[0;34m.\u001b[0m\u001b[0mcontent\u001b[0m\u001b[0;34m)\u001b[0m\u001b[0;34m[\u001b[0m\u001b[0;34m'prices'\u001b[0m\u001b[0;34m]\u001b[0m\u001b[0;34m\u001b[0m\u001b[0;34m\u001b[0m\u001b[0m\n\u001b[1;32m    211\u001b[0m     \u001b[0mdf_resp\u001b[0m \u001b[0;34m=\u001b[0m \u001b[0mpd\u001b[0m\u001b[0;34m.\u001b[0m\u001b[0mDataFrame\u001b[0m\u001b[0;34m(\u001b[0m\u001b[0mjson_data\u001b[0m\u001b[0;34m)\u001b[0m\u001b[0;34m\u001b[0m\u001b[0;34m\u001b[0m\u001b[0m\n\u001b[0;32m--> 212\u001b[0;31m     \u001b[0mdf_resp\u001b[0m\u001b[0;34m[\u001b[0m\u001b[0;34m'date'\u001b[0m\u001b[0;34m]\u001b[0m \u001b[0;34m=\u001b[0m \u001b[0mpd\u001b[0m\u001b[0;34m.\u001b[0m\u001b[0mto_datetime\u001b[0m\u001b[0;34m(\u001b[0m\u001b[0mdf_resp\u001b[0m\u001b[0;34m.\u001b[0m\u001b[0mdate\u001b[0m\u001b[0;34m,\u001b[0m \u001b[0munit\u001b[0m\u001b[0;34m=\u001b[0m\u001b[0;34m's'\u001b[0m\u001b[0;34m)\u001b[0m\u001b[0;34m\u001b[0m\u001b[0;34m\u001b[0m\u001b[0m\n\u001b[0m\u001b[1;32m    213\u001b[0m     \u001b[0;31m#df_resp['date'] = df_resp['date'].dt.date\u001b[0m\u001b[0;34m\u001b[0m\u001b[0;34m\u001b[0m\u001b[0;34m\u001b[0m\u001b[0m\n\u001b[1;32m    214\u001b[0m     \u001b[0mdf_final\u001b[0m \u001b[0;34m=\u001b[0m \u001b[0mdf_resp\u001b[0m\u001b[0;34m[\u001b[0m\u001b[0;34m[\u001b[0m\u001b[0;34m'close'\u001b[0m\u001b[0;34m,\u001b[0m \u001b[0;34m'date'\u001b[0m\u001b[0;34m]\u001b[0m\u001b[0;34m]\u001b[0m\u001b[0;34m\u001b[0m\u001b[0;34m\u001b[0m\u001b[0m\n",
      "\u001b[0;32m/opt/hostedtoolcache/Python/3.6.15/x64/lib/python3.6/site-packages/pandas/core/generic.py\u001b[0m in \u001b[0;36m__getattr__\u001b[0;34m(self, name)\u001b[0m\n\u001b[1;32m   5139\u001b[0m             \u001b[0;32mif\u001b[0m \u001b[0mself\u001b[0m\u001b[0;34m.\u001b[0m\u001b[0m_info_axis\u001b[0m\u001b[0;34m.\u001b[0m\u001b[0m_can_hold_identifiers_and_holds_name\u001b[0m\u001b[0;34m(\u001b[0m\u001b[0mname\u001b[0m\u001b[0;34m)\u001b[0m\u001b[0;34m:\u001b[0m\u001b[0;34m\u001b[0m\u001b[0;34m\u001b[0m\u001b[0m\n\u001b[1;32m   5140\u001b[0m                 \u001b[0;32mreturn\u001b[0m \u001b[0mself\u001b[0m\u001b[0;34m[\u001b[0m\u001b[0mname\u001b[0m\u001b[0;34m]\u001b[0m\u001b[0;34m\u001b[0m\u001b[0;34m\u001b[0m\u001b[0m\n\u001b[0;32m-> 5141\u001b[0;31m             \u001b[0;32mreturn\u001b[0m \u001b[0mobject\u001b[0m\u001b[0;34m.\u001b[0m\u001b[0m__getattribute__\u001b[0m\u001b[0;34m(\u001b[0m\u001b[0mself\u001b[0m\u001b[0;34m,\u001b[0m \u001b[0mname\u001b[0m\u001b[0;34m)\u001b[0m\u001b[0;34m\u001b[0m\u001b[0;34m\u001b[0m\u001b[0m\n\u001b[0m\u001b[1;32m   5142\u001b[0m \u001b[0;34m\u001b[0m\u001b[0m\n\u001b[1;32m   5143\u001b[0m     \u001b[0;32mdef\u001b[0m \u001b[0m__setattr__\u001b[0m\u001b[0;34m(\u001b[0m\u001b[0mself\u001b[0m\u001b[0;34m,\u001b[0m \u001b[0mname\u001b[0m\u001b[0;34m:\u001b[0m \u001b[0mstr\u001b[0m\u001b[0;34m,\u001b[0m \u001b[0mvalue\u001b[0m\u001b[0;34m)\u001b[0m \u001b[0;34m->\u001b[0m \u001b[0;32mNone\u001b[0m\u001b[0;34m:\u001b[0m\u001b[0;34m\u001b[0m\u001b[0;34m\u001b[0m\u001b[0m\n",
      "\u001b[0;31mAttributeError\u001b[0m: 'DataFrame' object has no attribute 'date'"
     ]
    }
   ],
   "source": [
    "#hide\n",
    "df_all = read_api()\n",
    "#df_all.index.name = 'date'\n",
    "\n",
    "df_all.index = pd.to_datetime(df_all.index)\n",
    "df_covid = df_all.loc[df_all.index > '2019-12-31 08:00:00']\n",
    "df_covid = df_covid[['ETH', 'BTC', 'XAU', 'SP500']]\n",
    "#df_covid = df_covid[['ETH', 'BTC', 'XAU']] ;"
   ]
  },
  {
   "cell_type": "code",
   "execution_count": null,
   "id": "physical-investing",
   "metadata": {
    "execution": {
     "iopub.execute_input": "2021-12-29T02:04:17.569360Z",
     "iopub.status.busy": "2021-12-29T02:04:17.568711Z",
     "iopub.status.idle": "2021-12-29T02:04:19.321209Z",
     "shell.execute_reply": "2021-12-29T02:04:19.320619Z"
    },
    "papermill": {
     "duration": null,
     "end_time": null,
     "exception": null,
     "start_time": null,
     "status": "pending"
    },
    "tags": []
   },
   "outputs": [],
   "source": [
    "#hide\n",
    "market = read_news('market')\n",
    "covid = read_covid() ;"
   ]
  },
  {
   "cell_type": "markdown",
   "id": "elder-photography",
   "metadata": {
    "papermill": {
     "duration": null,
     "end_time": null,
     "exception": null,
     "start_time": null,
     "status": "pending"
    },
    "tags": []
   },
   "source": [
    "### Šios dienos kriptovaliutų ir pandemijos naujienos"
   ]
  },
  {
   "cell_type": "code",
   "execution_count": null,
   "id": "concrete-candy",
   "metadata": {
    "execution": {
     "iopub.execute_input": "2021-12-29T02:04:19.371647Z",
     "iopub.status.busy": "2021-12-29T02:04:19.371049Z",
     "iopub.status.idle": "2021-12-29T02:04:19.404042Z",
     "shell.execute_reply": "2021-12-29T02:04:19.404555Z"
    },
    "papermill": {
     "duration": null,
     "end_time": null,
     "exception": null,
     "start_time": null,
     "status": "pending"
    },
    "tags": []
   },
   "outputs": [],
   "source": [
    "#hide_input\n",
    "#md('##### {}'.format(titleBTC)) \n",
    "md(\"- {}{} {}{} [| Skaityti daugiau]({}) \".format(market['title'],'. ', market['body'], ' ...', market['url']))"
   ]
  },
  {
   "cell_type": "code",
   "execution_count": null,
   "id": "atomic-shelter",
   "metadata": {
    "execution": {
     "iopub.execute_input": "2021-12-29T02:04:19.434699Z",
     "iopub.status.busy": "2021-12-29T02:04:19.434061Z",
     "iopub.status.idle": "2021-12-29T02:04:19.466129Z",
     "shell.execute_reply": "2021-12-29T02:04:19.466660Z"
    },
    "papermill": {
     "duration": null,
     "end_time": null,
     "exception": null,
     "start_time": null,
     "status": "pending"
    },
    "tags": []
   },
   "outputs": [],
   "source": [
    "#hide_input\n",
    "#md('##### {}'.format(titleETH)) \n",
    "md(\"- {}{} {}{} [| Skaityti daugiau]({}) \".format(covid['title'],'. ', covid['description'], ' ...', covid['url']))"
   ]
  },
  {
   "cell_type": "markdown",
   "id": "personalized-absorption",
   "metadata": {
    "papermill": {
     "duration": null,
     "end_time": null,
     "exception": null,
     "start_time": null,
     "status": "pending"
    },
    "tags": []
   },
   "source": [
    "### Kainų kaita pandemijos metu"
   ]
  },
  {
   "cell_type": "code",
   "execution_count": null,
   "id": "hollow-foundation",
   "metadata": {
    "execution": {
     "iopub.execute_input": "2021-12-29T02:04:19.523677Z",
     "iopub.status.busy": "2021-12-29T02:04:19.522849Z",
     "iopub.status.idle": "2021-12-29T02:04:20.123237Z",
     "shell.execute_reply": "2021-12-29T02:04:20.123718Z"
    },
    "papermill": {
     "duration": null,
     "end_time": null,
     "exception": null,
     "start_time": null,
     "status": "pending"
    },
    "tags": []
   },
   "outputs": [],
   "source": [
    "#hide_input\n",
    "df_covid.plot(figsize=(15,20), linewidth=1, fontsize=20) ;\n",
    "# plt.savefig('covid-price.eps', format='eps')"
   ]
  },
  {
   "cell_type": "markdown",
   "id": "animal-mediterranean",
   "metadata": {
    "papermill": {
     "duration": null,
     "end_time": null,
     "exception": null,
     "start_time": null,
     "status": "pending"
    },
    "tags": []
   },
   "source": [
    "### Koreliacija pandemijos metu \n",
    "\n",
    "Koreliacijos koeficiento (Spirmano r) matrica."
   ]
  },
  {
   "cell_type": "code",
   "execution_count": null,
   "id": "sunset-guarantee",
   "metadata": {
    "execution": {
     "iopub.execute_input": "2021-12-29T02:04:20.192910Z",
     "iopub.status.busy": "2021-12-29T02:04:20.192301Z",
     "iopub.status.idle": "2021-12-29T02:04:20.234525Z",
     "shell.execute_reply": "2021-12-29T02:04:20.235011Z"
    },
    "papermill": {
     "duration": null,
     "end_time": null,
     "exception": null,
     "start_time": null,
     "status": "pending"
    },
    "tags": []
   },
   "outputs": [],
   "source": [
    "#hide_input\n",
    "df_covid.corr()  "
   ]
  },
  {
   "cell_type": "code",
   "execution_count": null,
   "id": "alpha-domain",
   "metadata": {
    "execution": {
     "iopub.execute_input": "2021-12-29T02:04:20.274913Z",
     "iopub.status.busy": "2021-12-29T02:04:20.274252Z",
     "iopub.status.idle": "2021-12-29T02:04:20.306131Z",
     "shell.execute_reply": "2021-12-29T02:04:20.305428Z"
    },
    "papermill": {
     "duration": null,
     "end_time": null,
     "exception": null,
     "start_time": null,
     "status": "pending"
    },
    "tags": []
   },
   "outputs": [],
   "source": [
    "#hide ### Koreliacijos matrica."
   ]
  },
  {
   "cell_type": "code",
   "execution_count": null,
   "id": "ambient-soldier",
   "metadata": {
    "execution": {
     "iopub.execute_input": "2021-12-29T02:04:20.343915Z",
     "iopub.status.busy": "2021-12-29T02:04:20.343297Z",
     "iopub.status.idle": "2021-12-29T02:04:20.653471Z",
     "shell.execute_reply": "2021-12-29T02:04:20.652969Z"
    },
    "papermill": {
     "duration": null,
     "end_time": null,
     "exception": null,
     "start_time": null,
     "status": "pending"
    },
    "tags": []
   },
   "outputs": [],
   "source": [
    "#hide\n",
    "sns.heatmap(df_covid.corr(), annot=True, cmap=\"Blues\") ;\n",
    "# plt.savefig('covid.eps', format='eps')"
   ]
  },
  {
   "cell_type": "code",
   "execution_count": null,
   "id": "micro-monroe",
   "metadata": {
    "papermill": {
     "duration": null,
     "end_time": null,
     "exception": null,
     "start_time": null,
     "status": "pending"
    },
    "tags": []
   },
   "outputs": [],
   "source": []
  },
  {
   "cell_type": "code",
   "execution_count": null,
   "id": "bronze-respect",
   "metadata": {
    "papermill": {
     "duration": null,
     "end_time": null,
     "exception": null,
     "start_time": null,
     "status": "pending"
    },
    "tags": []
   },
   "outputs": [],
   "source": []
  },
  {
   "cell_type": "code",
   "execution_count": null,
   "id": "expected-insulin",
   "metadata": {
    "papermill": {
     "duration": null,
     "end_time": null,
     "exception": null,
     "start_time": null,
     "status": "pending"
    },
    "tags": []
   },
   "outputs": [],
   "source": []
  }
 ],
 "metadata": {
  "kernelspec": {
   "display_name": "Python 3",
   "language": "python",
   "name": "python3"
  },
  "language_info": {
   "codemirror_mode": {
    "name": "ipython",
    "version": 3
   },
   "file_extension": ".py",
   "mimetype": "text/x-python",
   "name": "python",
   "nbconvert_exporter": "python",
   "pygments_lexer": "ipython3",
   "version": "3.6.15"
  },
  "papermill": {
   "default_parameters": {},
   "duration": 13.363705,
   "end_time": "2021-12-30T02:04:21.950027",
   "environment_variables": {},
   "exception": true,
   "input_path": "App-covid-19.ipynb",
   "output_path": "App-covid-19.ipynb",
   "parameters": {},
   "start_time": "2021-12-30T02:04:08.586322",
   "version": "2.2.2"
  }
 },
 "nbformat": 4,
 "nbformat_minor": 5
}