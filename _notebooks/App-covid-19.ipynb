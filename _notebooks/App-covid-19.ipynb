{
 "cells": [
  {
   "cell_type": "markdown",
   "id": "46774c4e",
   "metadata": {
    "tags": [
     "papermill-error-cell-tag"
    ]
   },
   "source": [
    "<span style=\"color:red; font-family:Helvetica Neue, Helvetica, Arial, sans-serif; font-size:2em;\">An Exception was encountered at '<a href=\"#papermill-error-cell\">In [3]</a>'.</span>"
   ]
  },
  {
   "cell_type": "markdown",
   "id": "complicated-mission",
   "metadata": {
    "papermill": {
     "duration": 0.013777,
     "end_time": "2022-06-26T03:14:46.698365",
     "exception": false,
     "start_time": "2022-06-26T03:14:46.684588",
     "status": "completed"
    },
    "tags": []
   },
   "source": [
    "# Koreliacija COVID-19 pandemijos metu\n",
    "> BTC ir ETH koreliacija su rinkomis pandemijos metu.\n",
    "\n",
    "- toc: true \n",
    "- badges: true\n",
    "- comments: false\n",
    "- categories: [Dominykas Tautkus]\n",
    "- image: images/BTC_price.png"
   ]
  },
  {
   "cell_type": "code",
   "execution_count": null,
   "id": "imposed-public",
   "metadata": {
    "papermill": {
     "duration": 0.010166,
     "end_time": "2022-06-26T03:14:46.719459",
     "exception": false,
     "start_time": "2022-06-26T03:14:46.709293",
     "status": "completed"
    },
    "tags": []
   },
   "outputs": [],
   "source": []
  },
  {
   "cell_type": "code",
   "execution_count": 1,
   "id": "material-sunrise",
   "metadata": {
    "execution": {
     "iopub.execute_input": "2022-06-26T03:14:46.753171Z",
     "iopub.status.busy": "2022-06-26T03:14:46.747170Z",
     "iopub.status.idle": "2022-06-26T03:14:48.164582Z",
     "shell.execute_reply": "2022-06-26T03:14:48.164085Z"
    },
    "papermill": {
     "duration": 1.434984,
     "end_time": "2022-06-26T03:14:48.164711",
     "exception": false,
     "start_time": "2022-06-26T03:14:46.729727",
     "status": "completed"
    },
    "tags": []
   },
   "outputs": [],
   "source": [
    "#hide\n",
    "%load_ext autoreload\n",
    "%autoreload 2\n",
    "import warnings\n",
    "warnings.filterwarnings('ignore')\n",
    "import plotly.graph_objects as go\n",
    "import pandas as pd\n",
    "import plotly.express as px\n",
    "from scripts.read_data import read_api\n",
    "from scripts.read_data import read_news\n",
    "from scripts.read_data import read_covid\n",
    "import matplotlib.pyplot as plt \n",
    "import numpy as np\n",
    "import pandas as pd\n",
    "import seaborn as sns \n",
    "from IPython.display import Markdown as md\n",
    "sns.set()"
   ]
  },
  {
   "cell_type": "code",
   "execution_count": 2,
   "id": "express-jacksonville",
   "metadata": {
    "execution": {
     "iopub.execute_input": "2022-06-26T03:14:48.190494Z",
     "iopub.status.busy": "2022-06-26T03:14:48.189895Z",
     "iopub.status.idle": "2022-06-26T03:15:02.233079Z",
     "shell.execute_reply": "2022-06-26T03:15:02.232609Z"
    },
    "papermill": {
     "duration": 14.057757,
     "end_time": "2022-06-26T03:15:02.233191",
     "exception": false,
     "start_time": "2022-06-26T03:14:48.175434",
     "status": "completed"
    },
    "tags": []
   },
   "outputs": [],
   "source": [
    "#hide\n",
    "df_all = read_api()\n",
    "#df_all.index.name = 'date'\n",
    "\n",
    "df_all.index = pd.to_datetime(df_all.index)\n",
    "df_covid = df_all.loc[df_all.index > '2019-12-31 08:00:00']\n",
    "df_covid = df_covid[['ETH', 'BTC', 'XAU', 'SP500']]\n",
    "#df_covid = df_covid[['ETH', 'BTC', 'XAU']] ;"
   ]
  },
  {
   "cell_type": "markdown",
   "id": "7190562b",
   "metadata": {
    "tags": [
     "papermill-error-cell-tag"
    ]
   },
   "source": [
    "<span id=\"papermill-error-cell\" style=\"color:red; font-family:Helvetica Neue, Helvetica, Arial, sans-serif; font-size:2em;\">Execution using papermill encountered an exception here and stopped:</span>"
   ]
  },
  {
   "cell_type": "code",
   "execution_count": 3,
   "id": "physical-investing",
   "metadata": {
    "execution": {
     "iopub.execute_input": "2022-06-26T03:15:02.259909Z",
     "iopub.status.busy": "2022-06-26T03:15:02.258484Z",
     "iopub.status.idle": "2022-06-26T03:15:06.862496Z",
     "shell.execute_reply": "2022-06-26T03:15:06.861896Z"
    },
    "papermill": {
     "duration": 4.618986,
     "end_time": "2022-06-26T03:15:06.862707",
     "exception": true,
     "start_time": "2022-06-26T03:15:02.243721",
     "status": "failed"
    },
    "tags": []
   },
   "outputs": [
    {
     "ename": "IndexError",
     "evalue": "list index out of range",
     "output_type": "error",
     "traceback": [
      "\u001b[0;31m---------------------------------------------------------------------------\u001b[0m",
      "\u001b[0;31mIndexError\u001b[0m                                Traceback (most recent call last)",
      "\u001b[0;32m<ipython-input-3-9f0c71976de1>\u001b[0m in \u001b[0;36m<module>\u001b[0;34m\u001b[0m\n\u001b[1;32m      1\u001b[0m \u001b[0;31m#hide\u001b[0m\u001b[0;34m\u001b[0m\u001b[0;34m\u001b[0m\u001b[0;34m\u001b[0m\u001b[0m\n\u001b[1;32m      2\u001b[0m \u001b[0mmarket\u001b[0m \u001b[0;34m=\u001b[0m \u001b[0mread_news\u001b[0m\u001b[0;34m(\u001b[0m\u001b[0;34m'market'\u001b[0m\u001b[0;34m)\u001b[0m\u001b[0;34m\u001b[0m\u001b[0;34m\u001b[0m\u001b[0m\n\u001b[0;32m----> 3\u001b[0;31m \u001b[0mcovid\u001b[0m \u001b[0;34m=\u001b[0m \u001b[0mread_covid\u001b[0m\u001b[0;34m(\u001b[0m\u001b[0;34m)\u001b[0m \u001b[0;34m;\u001b[0m\u001b[0;34m\u001b[0m\u001b[0;34m\u001b[0m\u001b[0m\n\u001b[0m",
      "\u001b[0;32m~/work/corr-app/corr-app/_notebooks/scripts/read_data.py\u001b[0m in \u001b[0;36mread_covid\u001b[0;34m()\u001b[0m\n\u001b[1;32m    166\u001b[0m     \u001b[0;31m#url = 'https://newsapi.org/v2/everything?q=covid&sources=bbc-news%2Cassociated-press&apiKey=1c5ca7e1e5c349cdb7ec5d1a40dc66fa&fbclid=IwAR3K8zO7eGe-Y6VFCzyyxwIrw68ktKmU-er-IOsTN9BuGfNIpK1ulo-IGzA'\u001b[0m\u001b[0;34m\u001b[0m\u001b[0;34m\u001b[0m\u001b[0;34m\u001b[0m\u001b[0m\n\u001b[1;32m    167\u001b[0m     \u001b[0murl\u001b[0m \u001b[0;34m=\u001b[0m \u001b[0;34m'http://newsapi.org/v2/top-headlines?sources=bbc-news%2Ccbc-news%2Cfinancial-times%2Cnbc-news%2Cindependent%2Cthe-wall-street-journal&q=covid&apiKey=1c5ca7e1e5c349cdb7ec5d1a40dc66fa&fbclid=IwAR0d3GaaaiwpDtwWUrHFxuwcDfMW9Hnea_ncxbrKPjPI5H2ixMIe7cBjM-M'\u001b[0m\u001b[0;34m\u001b[0m\u001b[0;34m\u001b[0m\u001b[0m\n\u001b[0;32m--> 168\u001b[0;31m     \u001b[0mpd_resp\u001b[0m \u001b[0;34m=\u001b[0m \u001b[0mpd\u001b[0m\u001b[0;34m.\u001b[0m\u001b[0mread_json\u001b[0m\u001b[0;34m(\u001b[0m\u001b[0murl\u001b[0m\u001b[0;34m,\u001b[0m \u001b[0mtyp\u001b[0m\u001b[0;34m=\u001b[0m\u001b[0;34m'series'\u001b[0m\u001b[0;34m)\u001b[0m\u001b[0;34m[\u001b[0m\u001b[0;34m'articles'\u001b[0m\u001b[0;34m]\u001b[0m\u001b[0;34m[\u001b[0m\u001b[0;36m0\u001b[0m\u001b[0;34m]\u001b[0m\u001b[0;34m\u001b[0m\u001b[0;34m\u001b[0m\u001b[0m\n\u001b[0m\u001b[1;32m    169\u001b[0m     \u001b[0mdf_resp\u001b[0m \u001b[0;34m=\u001b[0m \u001b[0mpd\u001b[0m\u001b[0;34m.\u001b[0m\u001b[0mDataFrame\u001b[0m\u001b[0;34m(\u001b[0m\u001b[0mpd_resp\u001b[0m\u001b[0;34m)\u001b[0m\u001b[0;34m\u001b[0m\u001b[0;34m\u001b[0m\u001b[0m\n\u001b[1;32m    170\u001b[0m     \u001b[0mdf_final\u001b[0m \u001b[0;34m=\u001b[0m \u001b[0mdf_resp\u001b[0m\u001b[0;34m[\u001b[0m\u001b[0;34m[\u001b[0m\u001b[0;34m'title'\u001b[0m\u001b[0;34m,\u001b[0m \u001b[0;34m'description'\u001b[0m\u001b[0;34m,\u001b[0m \u001b[0;34m'url'\u001b[0m\u001b[0;34m]\u001b[0m\u001b[0;34m]\u001b[0m\u001b[0;34m\u001b[0m\u001b[0;34m\u001b[0m\u001b[0m\n",
      "\u001b[0;31mIndexError\u001b[0m: list index out of range"
     ]
    }
   ],
   "source": [
    "#hide\n",
    "market = read_news('market')\n",
    "covid = read_covid() ;"
   ]
  },
  {
   "cell_type": "markdown",
   "id": "elder-photography",
   "metadata": {
    "papermill": {
     "duration": null,
     "end_time": null,
     "exception": null,
     "start_time": null,
     "status": "pending"
    },
    "tags": []
   },
   "source": [
    "### Šios dienos kriptovaliutų ir pandemijos naujienos"
   ]
  },
  {
   "cell_type": "code",
   "execution_count": null,
   "id": "concrete-candy",
   "metadata": {
    "execution": {
     "iopub.execute_input": "2022-06-23T03:10:39.318643Z",
     "iopub.status.busy": "2022-06-23T03:10:39.315096Z",
     "iopub.status.idle": "2022-06-23T03:10:39.342024Z",
     "shell.execute_reply": "2022-06-23T03:10:39.341478Z"
    },
    "papermill": {
     "duration": null,
     "end_time": null,
     "exception": null,
     "start_time": null,
     "status": "pending"
    },
    "tags": []
   },
   "outputs": [],
   "source": [
    "#hide_input\n",
    "#md('##### {}'.format(titleBTC)) \n",
    "md(\"- {}{} {}{} [| Skaityti daugiau]({}) \".format(market['title'],'. ', market['body'], ' ...', market['url']))"
   ]
  },
  {
   "cell_type": "code",
   "execution_count": null,
   "id": "atomic-shelter",
   "metadata": {
    "execution": {
     "iopub.execute_input": "2022-06-23T03:10:39.369477Z",
     "iopub.status.busy": "2022-06-23T03:10:39.368948Z",
     "iopub.status.idle": "2022-06-23T03:10:39.396033Z",
     "shell.execute_reply": "2022-06-23T03:10:39.396710Z"
    },
    "papermill": {
     "duration": null,
     "end_time": null,
     "exception": null,
     "start_time": null,
     "status": "pending"
    },
    "tags": []
   },
   "outputs": [],
   "source": [
    "#hide_input\n",
    "#md('##### {}'.format(titleETH)) \n",
    "md(\"- {}{} {}{} [| Skaityti daugiau]({}) \".format(covid['title'],'. ', covid['description'], ' ...', covid['url']))"
   ]
  },
  {
   "cell_type": "markdown",
   "id": "personalized-absorption",
   "metadata": {
    "papermill": {
     "duration": null,
     "end_time": null,
     "exception": null,
     "start_time": null,
     "status": "pending"
    },
    "tags": []
   },
   "source": [
    "### Kainų kaita pandemijos metu"
   ]
  },
  {
   "cell_type": "code",
   "execution_count": null,
   "id": "hollow-foundation",
   "metadata": {
    "execution": {
     "iopub.execute_input": "2022-06-23T03:10:39.441045Z",
     "iopub.status.busy": "2022-06-23T03:10:39.439828Z",
     "iopub.status.idle": "2022-06-23T03:10:39.923403Z",
     "shell.execute_reply": "2022-06-23T03:10:39.923825Z"
    },
    "papermill": {
     "duration": null,
     "end_time": null,
     "exception": null,
     "start_time": null,
     "status": "pending"
    },
    "tags": []
   },
   "outputs": [],
   "source": [
    "#hide_input\n",
    "df_covid.plot(figsize=(15,20), linewidth=1, fontsize=20) ;\n",
    "# plt.savefig('covid-price.eps', format='eps')"
   ]
  },
  {
   "cell_type": "markdown",
   "id": "animal-mediterranean",
   "metadata": {
    "papermill": {
     "duration": null,
     "end_time": null,
     "exception": null,
     "start_time": null,
     "status": "pending"
    },
    "tags": []
   },
   "source": [
    "### Koreliacija pandemijos metu \n",
    "\n",
    "Koreliacijos koeficiento (Spirmano r) matrica."
   ]
  },
  {
   "cell_type": "code",
   "execution_count": null,
   "id": "sunset-guarantee",
   "metadata": {
    "execution": {
     "iopub.execute_input": "2022-06-23T03:10:39.994430Z",
     "iopub.status.busy": "2022-06-23T03:10:39.983951Z",
     "iopub.status.idle": "2022-06-23T03:10:40.020376Z",
     "shell.execute_reply": "2022-06-23T03:10:40.021129Z"
    },
    "papermill": {
     "duration": null,
     "end_time": null,
     "exception": null,
     "start_time": null,
     "status": "pending"
    },
    "tags": []
   },
   "outputs": [],
   "source": [
    "#hide_input\n",
    "df_covid.corr()  "
   ]
  },
  {
   "cell_type": "code",
   "execution_count": null,
   "id": "alpha-domain",
   "metadata": {
    "execution": {
     "iopub.execute_input": "2022-06-23T03:10:40.054482Z",
     "iopub.status.busy": "2022-06-23T03:10:40.053489Z",
     "iopub.status.idle": "2022-06-23T03:10:40.082624Z",
     "shell.execute_reply": "2022-06-23T03:10:40.081920Z"
    },
    "papermill": {
     "duration": null,
     "end_time": null,
     "exception": null,
     "start_time": null,
     "status": "pending"
    },
    "tags": []
   },
   "outputs": [],
   "source": [
    "#hide ### Koreliacijos matrica."
   ]
  },
  {
   "cell_type": "code",
   "execution_count": null,
   "id": "ambient-soldier",
   "metadata": {
    "execution": {
     "iopub.execute_input": "2022-06-23T03:10:40.130644Z",
     "iopub.status.busy": "2022-06-23T03:10:40.116503Z",
     "iopub.status.idle": "2022-06-23T03:10:40.393540Z",
     "shell.execute_reply": "2022-06-23T03:10:40.392605Z"
    },
    "papermill": {
     "duration": null,
     "end_time": null,
     "exception": null,
     "start_time": null,
     "status": "pending"
    },
    "tags": []
   },
   "outputs": [],
   "source": [
    "#hide\n",
    "sns.heatmap(df_covid.corr(), annot=True, cmap=\"Blues\") ;\n",
    "# plt.savefig('covid.eps', format='eps')"
   ]
  },
  {
   "cell_type": "code",
   "execution_count": null,
   "id": "micro-monroe",
   "metadata": {
    "papermill": {
     "duration": null,
     "end_time": null,
     "exception": null,
     "start_time": null,
     "status": "pending"
    },
    "tags": []
   },
   "outputs": [],
   "source": []
  },
  {
   "cell_type": "code",
   "execution_count": null,
   "id": "bronze-respect",
   "metadata": {
    "papermill": {
     "duration": null,
     "end_time": null,
     "exception": null,
     "start_time": null,
     "status": "pending"
    },
    "tags": []
   },
   "outputs": [],
   "source": []
  },
  {
   "cell_type": "code",
   "execution_count": null,
   "id": "expected-insulin",
   "metadata": {
    "papermill": {
     "duration": null,
     "end_time": null,
     "exception": null,
     "start_time": null,
     "status": "pending"
    },
    "tags": []
   },
   "outputs": [],
   "source": []
  }
 ],
 "metadata": {
  "kernelspec": {
   "display_name": "Python 3",
   "language": "python",
   "name": "python3"
  },
  "language_info": {
   "codemirror_mode": {
    "name": "ipython",
    "version": 3
   },
   "file_extension": ".py",
   "mimetype": "text/x-python",
   "name": "python",
   "nbconvert_exporter": "python",
   "pygments_lexer": "ipython3",
   "version": "3.6.15"
  },
  "papermill": {
   "default_parameters": {},
   "duration": 21.502832,
   "end_time": "2022-06-26T03:15:07.291226",
   "environment_variables": {},
   "exception": true,
   "input_path": "App-covid-19.ipynb",
   "output_path": "App-covid-19.ipynb",
   "parameters": {},
   "start_time": "2022-06-26T03:14:45.788394",
   "version": "2.2.2"
  }
 },
 "nbformat": 4,
 "nbformat_minor": 5
}