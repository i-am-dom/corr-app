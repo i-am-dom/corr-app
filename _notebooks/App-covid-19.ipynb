{
 "cells": [
  {
   "cell_type": "markdown",
   "id": "25861f59",
   "metadata": {
    "tags": [
     "papermill-error-cell-tag"
    ]
   },
   "source": [
    "<span style=\"color:red; font-family:Helvetica Neue, Helvetica, Arial, sans-serif; font-size:2em;\">An Exception was encountered at '<a href=\"#papermill-error-cell\">In [3]</a>'.</span>"
   ]
  },
  {
   "cell_type": "markdown",
   "id": "complicated-mission",
   "metadata": {
    "papermill": {
     "duration": 0.014131,
     "end_time": "2022-09-24T03:45:04.547662",
     "exception": false,
     "start_time": "2022-09-24T03:45:04.533531",
     "status": "completed"
    },
    "tags": []
   },
   "source": [
    "# Koreliacija COVID-19 pandemijos metu\n",
    "> BTC ir ETH koreliacija su rinkomis pandemijos metu.\n",
    "\n",
    "- toc: true \n",
    "- badges: true\n",
    "- comments: false\n",
    "- categories: [Dominykas Tautkus]\n",
    "- image: images/BTC_price.png"
   ]
  },
  {
   "cell_type": "code",
   "execution_count": null,
   "id": "imposed-public",
   "metadata": {
    "papermill": {
     "duration": 0.010384,
     "end_time": "2022-09-24T03:45:04.568910",
     "exception": false,
     "start_time": "2022-09-24T03:45:04.558526",
     "status": "completed"
    },
    "tags": []
   },
   "outputs": [],
   "source": []
  },
  {
   "cell_type": "code",
   "execution_count": 1,
   "id": "material-sunrise",
   "metadata": {
    "execution": {
     "iopub.execute_input": "2022-09-24T03:45:04.605780Z",
     "iopub.status.busy": "2022-09-24T03:45:04.605146Z",
     "iopub.status.idle": "2022-09-24T03:45:06.229021Z",
     "shell.execute_reply": "2022-09-24T03:45:06.228412Z"
    },
    "papermill": {
     "duration": 1.649986,
     "end_time": "2022-09-24T03:45:06.229175",
     "exception": false,
     "start_time": "2022-09-24T03:45:04.579189",
     "status": "completed"
    },
    "tags": []
   },
   "outputs": [],
   "source": [
    "#hide\n",
    "%load_ext autoreload\n",
    "%autoreload 2\n",
    "import warnings\n",
    "warnings.filterwarnings('ignore')\n",
    "import plotly.graph_objects as go\n",
    "import pandas as pd\n",
    "import plotly.express as px\n",
    "from scripts.read_data import read_api\n",
    "from scripts.read_data import read_news\n",
    "from scripts.read_data import read_covid\n",
    "import matplotlib.pyplot as plt \n",
    "import numpy as np\n",
    "import pandas as pd\n",
    "import seaborn as sns \n",
    "from IPython.display import Markdown as md\n",
    "sns.set()"
   ]
  },
  {
   "cell_type": "code",
   "execution_count": 2,
   "id": "express-jacksonville",
   "metadata": {
    "execution": {
     "iopub.execute_input": "2022-09-24T03:45:06.261726Z",
     "iopub.status.busy": "2022-09-24T03:45:06.260052Z",
     "iopub.status.idle": "2022-09-24T03:45:18.146469Z",
     "shell.execute_reply": "2022-09-24T03:45:18.145433Z"
    },
    "papermill": {
     "duration": 11.906998,
     "end_time": "2022-09-24T03:45:18.146610",
     "exception": false,
     "start_time": "2022-09-24T03:45:06.239612",
     "status": "completed"
    },
    "tags": []
   },
   "outputs": [],
   "source": [
    "#hide\n",
    "df_all = read_api()\n",
    "#df_all.index.name = 'date'\n",
    "\n",
    "df_all.index = pd.to_datetime(df_all.index)\n",
    "df_covid = df_all.loc[df_all.index > '2019-12-31 08:00:00']\n",
    "df_covid = df_covid[['ETH', 'BTC', 'XAU', 'SP500']]\n",
    "#df_covid = df_covid[['ETH', 'BTC', 'XAU']] ;"
   ]
  },
  {
   "cell_type": "markdown",
   "id": "25adb0d1",
   "metadata": {
    "tags": [
     "papermill-error-cell-tag"
    ]
   },
   "source": [
    "<span id=\"papermill-error-cell\" style=\"color:red; font-family:Helvetica Neue, Helvetica, Arial, sans-serif; font-size:2em;\">Execution using papermill encountered an exception here and stopped:</span>"
   ]
  },
  {
   "cell_type": "code",
   "execution_count": 3,
   "id": "physical-investing",
   "metadata": {
    "execution": {
     "iopub.execute_input": "2022-09-24T03:45:18.174561Z",
     "iopub.status.busy": "2022-09-24T03:45:18.173467Z",
     "iopub.status.idle": "2022-09-24T03:45:20.511562Z",
     "shell.execute_reply": "2022-09-24T03:45:20.510771Z"
    },
    "papermill": {
     "duration": 2.354705,
     "end_time": "2022-09-24T03:45:20.511790",
     "exception": true,
     "start_time": "2022-09-24T03:45:18.157085",
     "status": "failed"
    },
    "tags": []
   },
   "outputs": [
    {
     "ename": "IndexError",
     "evalue": "list index out of range",
     "output_type": "error",
     "traceback": [
      "\u001b[0;31m---------------------------------------------------------------------------\u001b[0m",
      "\u001b[0;31mIndexError\u001b[0m                                Traceback (most recent call last)",
      "\u001b[0;32m<ipython-input-3-9f0c71976de1>\u001b[0m in \u001b[0;36m<module>\u001b[0;34m\u001b[0m\n\u001b[1;32m      1\u001b[0m \u001b[0;31m#hide\u001b[0m\u001b[0;34m\u001b[0m\u001b[0;34m\u001b[0m\u001b[0;34m\u001b[0m\u001b[0m\n\u001b[1;32m      2\u001b[0m \u001b[0mmarket\u001b[0m \u001b[0;34m=\u001b[0m \u001b[0mread_news\u001b[0m\u001b[0;34m(\u001b[0m\u001b[0;34m'market'\u001b[0m\u001b[0;34m)\u001b[0m\u001b[0;34m\u001b[0m\u001b[0;34m\u001b[0m\u001b[0m\n\u001b[0;32m----> 3\u001b[0;31m \u001b[0mcovid\u001b[0m \u001b[0;34m=\u001b[0m \u001b[0mread_covid\u001b[0m\u001b[0;34m(\u001b[0m\u001b[0;34m)\u001b[0m \u001b[0;34m;\u001b[0m\u001b[0;34m\u001b[0m\u001b[0;34m\u001b[0m\u001b[0m\n\u001b[0m",
      "\u001b[0;32m~/work/corr-app/corr-app/_notebooks/scripts/read_data.py\u001b[0m in \u001b[0;36mread_covid\u001b[0;34m()\u001b[0m\n\u001b[1;32m    166\u001b[0m     \u001b[0;31m#url = 'https://newsapi.org/v2/everything?q=covid&sources=bbc-news%2Cassociated-press&apiKey=1c5ca7e1e5c349cdb7ec5d1a40dc66fa&fbclid=IwAR3K8zO7eGe-Y6VFCzyyxwIrw68ktKmU-er-IOsTN9BuGfNIpK1ulo-IGzA'\u001b[0m\u001b[0;34m\u001b[0m\u001b[0;34m\u001b[0m\u001b[0;34m\u001b[0m\u001b[0m\n\u001b[1;32m    167\u001b[0m     \u001b[0murl\u001b[0m \u001b[0;34m=\u001b[0m \u001b[0;34m'http://newsapi.org/v2/top-headlines?sources=bbc-news%2Ccbc-news%2Cfinancial-times%2Cnbc-news%2Cindependent%2Cthe-wall-street-journal&q=covid&apiKey=1c5ca7e1e5c349cdb7ec5d1a40dc66fa&fbclid=IwAR0d3GaaaiwpDtwWUrHFxuwcDfMW9Hnea_ncxbrKPjPI5H2ixMIe7cBjM-M'\u001b[0m\u001b[0;34m\u001b[0m\u001b[0;34m\u001b[0m\u001b[0m\n\u001b[0;32m--> 168\u001b[0;31m     \u001b[0mpd_resp\u001b[0m \u001b[0;34m=\u001b[0m \u001b[0mpd\u001b[0m\u001b[0;34m.\u001b[0m\u001b[0mread_json\u001b[0m\u001b[0;34m(\u001b[0m\u001b[0murl\u001b[0m\u001b[0;34m,\u001b[0m \u001b[0mtyp\u001b[0m\u001b[0;34m=\u001b[0m\u001b[0;34m'series'\u001b[0m\u001b[0;34m)\u001b[0m\u001b[0;34m[\u001b[0m\u001b[0;34m'articles'\u001b[0m\u001b[0;34m]\u001b[0m\u001b[0;34m[\u001b[0m\u001b[0;36m0\u001b[0m\u001b[0;34m]\u001b[0m\u001b[0;34m\u001b[0m\u001b[0;34m\u001b[0m\u001b[0m\n\u001b[0m\u001b[1;32m    169\u001b[0m     \u001b[0mdf_resp\u001b[0m \u001b[0;34m=\u001b[0m \u001b[0mpd\u001b[0m\u001b[0;34m.\u001b[0m\u001b[0mDataFrame\u001b[0m\u001b[0;34m(\u001b[0m\u001b[0mpd_resp\u001b[0m\u001b[0;34m)\u001b[0m\u001b[0;34m\u001b[0m\u001b[0;34m\u001b[0m\u001b[0m\n\u001b[1;32m    170\u001b[0m     \u001b[0mdf_final\u001b[0m \u001b[0;34m=\u001b[0m \u001b[0mdf_resp\u001b[0m\u001b[0;34m[\u001b[0m\u001b[0;34m[\u001b[0m\u001b[0;34m'title'\u001b[0m\u001b[0;34m,\u001b[0m \u001b[0;34m'description'\u001b[0m\u001b[0;34m,\u001b[0m \u001b[0;34m'url'\u001b[0m\u001b[0;34m]\u001b[0m\u001b[0;34m]\u001b[0m\u001b[0;34m\u001b[0m\u001b[0;34m\u001b[0m\u001b[0m\n",
      "\u001b[0;31mIndexError\u001b[0m: list index out of range"
     ]
    }
   ],
   "source": [
    "#hide\n",
    "market = read_news('market')\n",
    "covid = read_covid() ;"
   ]
  },
  {
   "cell_type": "markdown",
   "id": "elder-photography",
   "metadata": {
    "papermill": {
     "duration": null,
     "end_time": null,
     "exception": null,
     "start_time": null,
     "status": "pending"
    },
    "tags": []
   },
   "source": [
    "### Šios dienos kriptovaliutų ir pandemijos naujienos"
   ]
  },
  {
   "cell_type": "code",
   "execution_count": null,
   "id": "concrete-candy",
   "metadata": {
    "execution": {
     "iopub.execute_input": "2022-09-23T03:46:44.805111Z",
     "iopub.status.busy": "2022-09-23T03:46:44.804475Z",
     "iopub.status.idle": "2022-09-23T03:46:44.834876Z",
     "shell.execute_reply": "2022-09-23T03:46:44.835320Z"
    },
    "papermill": {
     "duration": null,
     "end_time": null,
     "exception": null,
     "start_time": null,
     "status": "pending"
    },
    "tags": []
   },
   "outputs": [],
   "source": [
    "#hide_input\n",
    "#md('##### {}'.format(titleBTC)) \n",
    "md(\"- {}{} {}{} [| Skaityti daugiau]({}) \".format(market['title'],'. ', market['body'], ' ...', market['url']))"
   ]
  },
  {
   "cell_type": "code",
   "execution_count": null,
   "id": "atomic-shelter",
   "metadata": {
    "execution": {
     "iopub.execute_input": "2022-09-23T03:46:44.859354Z",
     "iopub.status.busy": "2022-09-23T03:46:44.858788Z",
     "iopub.status.idle": "2022-09-23T03:46:44.887396Z",
     "shell.execute_reply": "2022-09-23T03:46:44.887902Z"
    },
    "papermill": {
     "duration": null,
     "end_time": null,
     "exception": null,
     "start_time": null,
     "status": "pending"
    },
    "tags": []
   },
   "outputs": [],
   "source": [
    "#hide_input\n",
    "#md('##### {}'.format(titleETH)) \n",
    "md(\"- {}{} {}{} [| Skaityti daugiau]({}) \".format(covid['title'],'. ', covid['description'], ' ...', covid['url']))"
   ]
  },
  {
   "cell_type": "markdown",
   "id": "personalized-absorption",
   "metadata": {
    "papermill": {
     "duration": null,
     "end_time": null,
     "exception": null,
     "start_time": null,
     "status": "pending"
    },
    "tags": []
   },
   "source": [
    "### Kainų kaita pandemijos metu"
   ]
  },
  {
   "cell_type": "code",
   "execution_count": null,
   "id": "hollow-foundation",
   "metadata": {
    "execution": {
     "iopub.execute_input": "2022-09-23T03:46:44.936019Z",
     "iopub.status.busy": "2022-09-23T03:46:44.935434Z",
     "iopub.status.idle": "2022-09-23T03:46:45.455987Z",
     "shell.execute_reply": "2022-09-23T03:46:45.455389Z"
    },
    "papermill": {
     "duration": null,
     "end_time": null,
     "exception": null,
     "start_time": null,
     "status": "pending"
    },
    "tags": []
   },
   "outputs": [],
   "source": [
    "#hide_input\n",
    "df_covid.plot(figsize=(15,20), linewidth=1, fontsize=20) ;\n",
    "# plt.savefig('covid-price.eps', format='eps')"
   ]
  },
  {
   "cell_type": "markdown",
   "id": "animal-mediterranean",
   "metadata": {
    "papermill": {
     "duration": null,
     "end_time": null,
     "exception": null,
     "start_time": null,
     "status": "pending"
    },
    "tags": []
   },
   "source": [
    "### Koreliacija pandemijos metu \n",
    "\n",
    "Koreliacijos koeficiento (Spirmano r) matrica."
   ]
  },
  {
   "cell_type": "code",
   "execution_count": null,
   "id": "sunset-guarantee",
   "metadata": {
    "execution": {
     "iopub.execute_input": "2022-09-23T03:46:45.524379Z",
     "iopub.status.busy": "2022-09-23T03:46:45.515424Z",
     "iopub.status.idle": "2022-09-23T03:46:45.555421Z",
     "shell.execute_reply": "2022-09-23T03:46:45.555840Z"
    },
    "papermill": {
     "duration": null,
     "end_time": null,
     "exception": null,
     "start_time": null,
     "status": "pending"
    },
    "tags": []
   },
   "outputs": [],
   "source": [
    "#hide_input\n",
    "df_covid.corr()  "
   ]
  },
  {
   "cell_type": "code",
   "execution_count": null,
   "id": "alpha-domain",
   "metadata": {
    "execution": {
     "iopub.execute_input": "2022-09-23T03:46:45.597456Z",
     "iopub.status.busy": "2022-09-23T03:46:45.587498Z",
     "iopub.status.idle": "2022-09-23T03:46:45.618514Z",
     "shell.execute_reply": "2022-09-23T03:46:45.617805Z"
    },
    "papermill": {
     "duration": null,
     "end_time": null,
     "exception": null,
     "start_time": null,
     "status": "pending"
    },
    "tags": []
   },
   "outputs": [],
   "source": [
    "#hide ### Koreliacijos matrica."
   ]
  },
  {
   "cell_type": "code",
   "execution_count": null,
   "id": "ambient-soldier",
   "metadata": {
    "execution": {
     "iopub.execute_input": "2022-09-23T03:46:45.662219Z",
     "iopub.status.busy": "2022-09-23T03:46:45.661292Z",
     "iopub.status.idle": "2022-09-23T03:46:45.913211Z",
     "shell.execute_reply": "2022-09-23T03:46:45.913919Z"
    },
    "papermill": {
     "duration": null,
     "end_time": null,
     "exception": null,
     "start_time": null,
     "status": "pending"
    },
    "tags": []
   },
   "outputs": [],
   "source": [
    "#hide\n",
    "sns.heatmap(df_covid.corr(), annot=True, cmap=\"Blues\") ;\n",
    "# plt.savefig('covid.eps', format='eps')"
   ]
  },
  {
   "cell_type": "code",
   "execution_count": null,
   "id": "micro-monroe",
   "metadata": {
    "papermill": {
     "duration": null,
     "end_time": null,
     "exception": null,
     "start_time": null,
     "status": "pending"
    },
    "tags": []
   },
   "outputs": [],
   "source": []
  },
  {
   "cell_type": "code",
   "execution_count": null,
   "id": "bronze-respect",
   "metadata": {
    "papermill": {
     "duration": null,
     "end_time": null,
     "exception": null,
     "start_time": null,
     "status": "pending"
    },
    "tags": []
   },
   "outputs": [],
   "source": []
  },
  {
   "cell_type": "code",
   "execution_count": null,
   "id": "expected-insulin",
   "metadata": {
    "papermill": {
     "duration": null,
     "end_time": null,
     "exception": null,
     "start_time": null,
     "status": "pending"
    },
    "tags": []
   },
   "outputs": [],
   "source": []
  }
 ],
 "metadata": {
  "kernelspec": {
   "display_name": "Python 3",
   "language": "python",
   "name": "python3"
  },
  "language_info": {
   "codemirror_mode": {
    "name": "ipython",
    "version": 3
   },
   "file_extension": ".py",
   "mimetype": "text/x-python",
   "name": "python",
   "nbconvert_exporter": "python",
   "pygments_lexer": "ipython3",
   "version": "3.6.15"
  },
  "papermill": {
   "default_parameters": {},
   "duration": 17.852613,
   "end_time": "2022-09-24T03:45:21.142118",
   "environment_variables": {},
   "exception": true,
   "input_path": "App-covid-19.ipynb",
   "output_path": "App-covid-19.ipynb",
   "parameters": {},
   "start_time": "2022-09-24T03:45:03.289505",
   "version": "2.2.2"
  }
 },
 "nbformat": 4,
 "nbformat_minor": 5
}