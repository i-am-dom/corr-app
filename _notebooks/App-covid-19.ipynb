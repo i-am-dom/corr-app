{
 "cells": [
  {
   "cell_type": "markdown",
   "id": "eebab8d4",
   "metadata": {
    "tags": [
     "papermill-error-cell-tag"
    ]
   },
   "source": [
    "<span style=\"color:red; font-family:Helvetica Neue, Helvetica, Arial, sans-serif; font-size:2em;\">An Exception was encountered at '<a href=\"#papermill-error-cell\">In [3]</a>'.</span>"
   ]
  },
  {
   "cell_type": "markdown",
   "id": "complicated-mission",
   "metadata": {
    "papermill": {
     "duration": 0.013784,
     "end_time": "2022-09-09T03:34:28.875567",
     "exception": false,
     "start_time": "2022-09-09T03:34:28.861783",
     "status": "completed"
    },
    "tags": []
   },
   "source": [
    "# Koreliacija COVID-19 pandemijos metu\n",
    "> BTC ir ETH koreliacija su rinkomis pandemijos metu.\n",
    "\n",
    "- toc: true \n",
    "- badges: true\n",
    "- comments: false\n",
    "- categories: [Dominykas Tautkus]\n",
    "- image: images/BTC_price.png"
   ]
  },
  {
   "cell_type": "code",
   "execution_count": null,
   "id": "imposed-public",
   "metadata": {
    "papermill": {
     "duration": 0.010225,
     "end_time": "2022-09-09T03:34:28.896708",
     "exception": false,
     "start_time": "2022-09-09T03:34:28.886483",
     "status": "completed"
    },
    "tags": []
   },
   "outputs": [],
   "source": []
  },
  {
   "cell_type": "code",
   "execution_count": 1,
   "id": "material-sunrise",
   "metadata": {
    "execution": {
     "iopub.execute_input": "2022-09-09T03:34:28.930900Z",
     "iopub.status.busy": "2022-09-09T03:34:28.929886Z",
     "iopub.status.idle": "2022-09-09T03:34:30.390656Z",
     "shell.execute_reply": "2022-09-09T03:34:30.390156Z"
    },
    "papermill": {
     "duration": 1.483822,
     "end_time": "2022-09-09T03:34:30.390785",
     "exception": false,
     "start_time": "2022-09-09T03:34:28.906963",
     "status": "completed"
    },
    "tags": []
   },
   "outputs": [],
   "source": [
    "#hide\n",
    "%load_ext autoreload\n",
    "%autoreload 2\n",
    "import warnings\n",
    "warnings.filterwarnings('ignore')\n",
    "import plotly.graph_objects as go\n",
    "import pandas as pd\n",
    "import plotly.express as px\n",
    "from scripts.read_data import read_api\n",
    "from scripts.read_data import read_news\n",
    "from scripts.read_data import read_covid\n",
    "import matplotlib.pyplot as plt \n",
    "import numpy as np\n",
    "import pandas as pd\n",
    "import seaborn as sns \n",
    "from IPython.display import Markdown as md\n",
    "sns.set()"
   ]
  },
  {
   "cell_type": "code",
   "execution_count": 2,
   "id": "express-jacksonville",
   "metadata": {
    "execution": {
     "iopub.execute_input": "2022-09-09T03:34:30.419761Z",
     "iopub.status.busy": "2022-09-09T03:34:30.418345Z",
     "iopub.status.idle": "2022-09-09T03:34:39.101783Z",
     "shell.execute_reply": "2022-09-09T03:34:39.101256Z"
    },
    "papermill": {
     "duration": 8.699761,
     "end_time": "2022-09-09T03:34:39.101906",
     "exception": false,
     "start_time": "2022-09-09T03:34:30.402145",
     "status": "completed"
    },
    "tags": []
   },
   "outputs": [],
   "source": [
    "#hide\n",
    "df_all = read_api()\n",
    "#df_all.index.name = 'date'\n",
    "\n",
    "df_all.index = pd.to_datetime(df_all.index)\n",
    "df_covid = df_all.loc[df_all.index > '2019-12-31 08:00:00']\n",
    "df_covid = df_covid[['ETH', 'BTC', 'XAU', 'SP500']]\n",
    "#df_covid = df_covid[['ETH', 'BTC', 'XAU']] ;"
   ]
  },
  {
   "cell_type": "markdown",
   "id": "94afd60c",
   "metadata": {
    "tags": [
     "papermill-error-cell-tag"
    ]
   },
   "source": [
    "<span id=\"papermill-error-cell\" style=\"color:red; font-family:Helvetica Neue, Helvetica, Arial, sans-serif; font-size:2em;\">Execution using papermill encountered an exception here and stopped:</span>"
   ]
  },
  {
   "cell_type": "code",
   "execution_count": 3,
   "id": "physical-investing",
   "metadata": {
    "execution": {
     "iopub.execute_input": "2022-09-09T03:34:39.130382Z",
     "iopub.status.busy": "2022-09-09T03:34:39.127448Z",
     "iopub.status.idle": "2022-09-09T03:34:41.367987Z",
     "shell.execute_reply": "2022-09-09T03:34:41.366205Z"
    },
    "papermill": {
     "duration": 2.255764,
     "end_time": "2022-09-09T03:34:41.368212",
     "exception": true,
     "start_time": "2022-09-09T03:34:39.112448",
     "status": "failed"
    },
    "tags": []
   },
   "outputs": [
    {
     "ename": "IndexError",
     "evalue": "list index out of range",
     "output_type": "error",
     "traceback": [
      "\u001b[0;31m---------------------------------------------------------------------------\u001b[0m",
      "\u001b[0;31mIndexError\u001b[0m                                Traceback (most recent call last)",
      "\u001b[0;32m<ipython-input-3-9f0c71976de1>\u001b[0m in \u001b[0;36m<module>\u001b[0;34m\u001b[0m\n\u001b[1;32m      1\u001b[0m \u001b[0;31m#hide\u001b[0m\u001b[0;34m\u001b[0m\u001b[0;34m\u001b[0m\u001b[0;34m\u001b[0m\u001b[0m\n\u001b[1;32m      2\u001b[0m \u001b[0mmarket\u001b[0m \u001b[0;34m=\u001b[0m \u001b[0mread_news\u001b[0m\u001b[0;34m(\u001b[0m\u001b[0;34m'market'\u001b[0m\u001b[0;34m)\u001b[0m\u001b[0;34m\u001b[0m\u001b[0;34m\u001b[0m\u001b[0m\n\u001b[0;32m----> 3\u001b[0;31m \u001b[0mcovid\u001b[0m \u001b[0;34m=\u001b[0m \u001b[0mread_covid\u001b[0m\u001b[0;34m(\u001b[0m\u001b[0;34m)\u001b[0m \u001b[0;34m;\u001b[0m\u001b[0;34m\u001b[0m\u001b[0;34m\u001b[0m\u001b[0m\n\u001b[0m",
      "\u001b[0;32m~/work/corr-app/corr-app/_notebooks/scripts/read_data.py\u001b[0m in \u001b[0;36mread_covid\u001b[0;34m()\u001b[0m\n\u001b[1;32m    166\u001b[0m     \u001b[0;31m#url = 'https://newsapi.org/v2/everything?q=covid&sources=bbc-news%2Cassociated-press&apiKey=1c5ca7e1e5c349cdb7ec5d1a40dc66fa&fbclid=IwAR3K8zO7eGe-Y6VFCzyyxwIrw68ktKmU-er-IOsTN9BuGfNIpK1ulo-IGzA'\u001b[0m\u001b[0;34m\u001b[0m\u001b[0;34m\u001b[0m\u001b[0;34m\u001b[0m\u001b[0m\n\u001b[1;32m    167\u001b[0m     \u001b[0murl\u001b[0m \u001b[0;34m=\u001b[0m \u001b[0;34m'http://newsapi.org/v2/top-headlines?sources=bbc-news%2Ccbc-news%2Cfinancial-times%2Cnbc-news%2Cindependent%2Cthe-wall-street-journal&q=covid&apiKey=1c5ca7e1e5c349cdb7ec5d1a40dc66fa&fbclid=IwAR0d3GaaaiwpDtwWUrHFxuwcDfMW9Hnea_ncxbrKPjPI5H2ixMIe7cBjM-M'\u001b[0m\u001b[0;34m\u001b[0m\u001b[0;34m\u001b[0m\u001b[0m\n\u001b[0;32m--> 168\u001b[0;31m     \u001b[0mpd_resp\u001b[0m \u001b[0;34m=\u001b[0m \u001b[0mpd\u001b[0m\u001b[0;34m.\u001b[0m\u001b[0mread_json\u001b[0m\u001b[0;34m(\u001b[0m\u001b[0murl\u001b[0m\u001b[0;34m,\u001b[0m \u001b[0mtyp\u001b[0m\u001b[0;34m=\u001b[0m\u001b[0;34m'series'\u001b[0m\u001b[0;34m)\u001b[0m\u001b[0;34m[\u001b[0m\u001b[0;34m'articles'\u001b[0m\u001b[0;34m]\u001b[0m\u001b[0;34m[\u001b[0m\u001b[0;36m0\u001b[0m\u001b[0;34m]\u001b[0m\u001b[0;34m\u001b[0m\u001b[0;34m\u001b[0m\u001b[0m\n\u001b[0m\u001b[1;32m    169\u001b[0m     \u001b[0mdf_resp\u001b[0m \u001b[0;34m=\u001b[0m \u001b[0mpd\u001b[0m\u001b[0;34m.\u001b[0m\u001b[0mDataFrame\u001b[0m\u001b[0;34m(\u001b[0m\u001b[0mpd_resp\u001b[0m\u001b[0;34m)\u001b[0m\u001b[0;34m\u001b[0m\u001b[0;34m\u001b[0m\u001b[0m\n\u001b[1;32m    170\u001b[0m     \u001b[0mdf_final\u001b[0m \u001b[0;34m=\u001b[0m \u001b[0mdf_resp\u001b[0m\u001b[0;34m[\u001b[0m\u001b[0;34m[\u001b[0m\u001b[0;34m'title'\u001b[0m\u001b[0;34m,\u001b[0m \u001b[0;34m'description'\u001b[0m\u001b[0;34m,\u001b[0m \u001b[0;34m'url'\u001b[0m\u001b[0;34m]\u001b[0m\u001b[0;34m]\u001b[0m\u001b[0;34m\u001b[0m\u001b[0;34m\u001b[0m\u001b[0m\n",
      "\u001b[0;31mIndexError\u001b[0m: list index out of range"
     ]
    }
   ],
   "source": [
    "#hide\n",
    "market = read_news('market')\n",
    "covid = read_covid() ;"
   ]
  },
  {
   "cell_type": "markdown",
   "id": "elder-photography",
   "metadata": {
    "papermill": {
     "duration": null,
     "end_time": null,
     "exception": null,
     "start_time": null,
     "status": "pending"
    },
    "tags": []
   },
   "source": [
    "### Šios dienos kriptovaliutų ir pandemijos naujienos"
   ]
  },
  {
   "cell_type": "code",
   "execution_count": null,
   "id": "concrete-candy",
   "metadata": {
    "execution": {
     "iopub.execute_input": "2022-09-08T03:39:42.641192Z",
     "iopub.status.busy": "2022-09-08T03:39:42.640505Z",
     "iopub.status.idle": "2022-09-08T03:39:42.673096Z",
     "shell.execute_reply": "2022-09-08T03:39:42.673740Z"
    },
    "papermill": {
     "duration": null,
     "end_time": null,
     "exception": null,
     "start_time": null,
     "status": "pending"
    },
    "tags": []
   },
   "outputs": [],
   "source": [
    "#hide_input\n",
    "#md('##### {}'.format(titleBTC)) \n",
    "md(\"- {}{} {}{} [| Skaityti daugiau]({}) \".format(market['title'],'. ', market['body'], ' ...', market['url']))"
   ]
  },
  {
   "cell_type": "code",
   "execution_count": null,
   "id": "atomic-shelter",
   "metadata": {
    "execution": {
     "iopub.execute_input": "2022-09-08T03:39:42.705897Z",
     "iopub.status.busy": "2022-09-08T03:39:42.705280Z",
     "iopub.status.idle": "2022-09-08T03:39:42.739817Z",
     "shell.execute_reply": "2022-09-08T03:39:42.739310Z"
    },
    "papermill": {
     "duration": null,
     "end_time": null,
     "exception": null,
     "start_time": null,
     "status": "pending"
    },
    "tags": []
   },
   "outputs": [],
   "source": [
    "#hide_input\n",
    "#md('##### {}'.format(titleETH)) \n",
    "md(\"- {}{} {}{} [| Skaityti daugiau]({}) \".format(covid['title'],'. ', covid['description'], ' ...', covid['url']))"
   ]
  },
  {
   "cell_type": "markdown",
   "id": "personalized-absorption",
   "metadata": {
    "papermill": {
     "duration": null,
     "end_time": null,
     "exception": null,
     "start_time": null,
     "status": "pending"
    },
    "tags": []
   },
   "source": [
    "### Kainų kaita pandemijos metu"
   ]
  },
  {
   "cell_type": "code",
   "execution_count": null,
   "id": "hollow-foundation",
   "metadata": {
    "execution": {
     "iopub.execute_input": "2022-09-08T03:39:42.792959Z",
     "iopub.status.busy": "2022-09-08T03:39:42.792416Z",
     "iopub.status.idle": "2022-09-08T03:39:43.367516Z",
     "shell.execute_reply": "2022-09-08T03:39:43.368056Z"
    },
    "papermill": {
     "duration": null,
     "end_time": null,
     "exception": null,
     "start_time": null,
     "status": "pending"
    },
    "tags": []
   },
   "outputs": [],
   "source": [
    "#hide_input\n",
    "df_covid.plot(figsize=(15,20), linewidth=1, fontsize=20) ;\n",
    "# plt.savefig('covid-price.eps', format='eps')"
   ]
  },
  {
   "cell_type": "markdown",
   "id": "animal-mediterranean",
   "metadata": {
    "papermill": {
     "duration": null,
     "end_time": null,
     "exception": null,
     "start_time": null,
     "status": "pending"
    },
    "tags": []
   },
   "source": [
    "### Koreliacija pandemijos metu \n",
    "\n",
    "Koreliacijos koeficiento (Spirmano r) matrica."
   ]
  },
  {
   "cell_type": "code",
   "execution_count": null,
   "id": "sunset-guarantee",
   "metadata": {
    "execution": {
     "iopub.execute_input": "2022-09-08T03:39:43.437440Z",
     "iopub.status.busy": "2022-09-08T03:39:43.436760Z",
     "iopub.status.idle": "2022-09-08T03:39:43.481187Z",
     "shell.execute_reply": "2022-09-08T03:39:43.482093Z"
    },
    "papermill": {
     "duration": null,
     "end_time": null,
     "exception": null,
     "start_time": null,
     "status": "pending"
    },
    "tags": []
   },
   "outputs": [],
   "source": [
    "#hide_input\n",
    "df_covid.corr()  "
   ]
  },
  {
   "cell_type": "code",
   "execution_count": null,
   "id": "alpha-domain",
   "metadata": {
    "execution": {
     "iopub.execute_input": "2022-09-08T03:39:43.519290Z",
     "iopub.status.busy": "2022-09-08T03:39:43.518647Z",
     "iopub.status.idle": "2022-09-08T03:39:43.552876Z",
     "shell.execute_reply": "2022-09-08T03:39:43.552330Z"
    },
    "papermill": {
     "duration": null,
     "end_time": null,
     "exception": null,
     "start_time": null,
     "status": "pending"
    },
    "tags": []
   },
   "outputs": [],
   "source": [
    "#hide ### Koreliacijos matrica."
   ]
  },
  {
   "cell_type": "code",
   "execution_count": null,
   "id": "ambient-soldier",
   "metadata": {
    "execution": {
     "iopub.execute_input": "2022-09-08T03:39:43.597076Z",
     "iopub.status.busy": "2022-09-08T03:39:43.596409Z",
     "iopub.status.idle": "2022-09-08T03:39:43.899909Z",
     "shell.execute_reply": "2022-09-08T03:39:43.899008Z"
    },
    "papermill": {
     "duration": null,
     "end_time": null,
     "exception": null,
     "start_time": null,
     "status": "pending"
    },
    "tags": []
   },
   "outputs": [],
   "source": [
    "#hide\n",
    "sns.heatmap(df_covid.corr(), annot=True, cmap=\"Blues\") ;\n",
    "# plt.savefig('covid.eps', format='eps')"
   ]
  },
  {
   "cell_type": "code",
   "execution_count": null,
   "id": "micro-monroe",
   "metadata": {
    "papermill": {
     "duration": null,
     "end_time": null,
     "exception": null,
     "start_time": null,
     "status": "pending"
    },
    "tags": []
   },
   "outputs": [],
   "source": []
  },
  {
   "cell_type": "code",
   "execution_count": null,
   "id": "bronze-respect",
   "metadata": {
    "papermill": {
     "duration": null,
     "end_time": null,
     "exception": null,
     "start_time": null,
     "status": "pending"
    },
    "tags": []
   },
   "outputs": [],
   "source": []
  },
  {
   "cell_type": "code",
   "execution_count": null,
   "id": "expected-insulin",
   "metadata": {
    "papermill": {
     "duration": null,
     "end_time": null,
     "exception": null,
     "start_time": null,
     "status": "pending"
    },
    "tags": []
   },
   "outputs": [],
   "source": []
  }
 ],
 "metadata": {
  "kernelspec": {
   "display_name": "Python 3",
   "language": "python",
   "name": "python3"
  },
  "language_info": {
   "codemirror_mode": {
    "name": "ipython",
    "version": 3
   },
   "file_extension": ".py",
   "mimetype": "text/x-python",
   "name": "python",
   "nbconvert_exporter": "python",
   "pygments_lexer": "ipython3",
   "version": "3.6.15"
  },
  "papermill": {
   "default_parameters": {},
   "duration": 13.851439,
   "end_time": "2022-09-09T03:34:41.796255",
   "environment_variables": {},
   "exception": true,
   "input_path": "App-covid-19.ipynb",
   "output_path": "App-covid-19.ipynb",
   "parameters": {},
   "start_time": "2022-09-09T03:34:27.944816",
   "version": "2.2.2"
  }
 },
 "nbformat": 4,
 "nbformat_minor": 5
}